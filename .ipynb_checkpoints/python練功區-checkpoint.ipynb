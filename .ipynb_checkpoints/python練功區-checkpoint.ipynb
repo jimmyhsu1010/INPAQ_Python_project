{
 "cells": [
  {
   "cell_type": "markdown",
   "metadata": {},
   "source": [
    "## 20210729 合併文件"
   ]
  },
  {
   "cell_type": "code",
   "execution_count": 1,
   "metadata": {},
   "outputs": [],
   "source": [
    "import pandas as pd\n",
    "import tkinter as tk\n",
    "from tkinter import filedialog"
   ]
  },
  {
   "cell_type": "code",
   "execution_count": 2,
   "metadata": {},
   "outputs": [],
   "source": [
    "def get_paths():\n",
    "    root = tk.Tk()\n",
    "    root.withdraw()\n",
    "    paths = filedialog.askopenfilenames()\n",
    "    return paths\n",
    "\n",
    "\n",
    "def parse_paths(file_paths: list):\n",
    "    dfs = []\n",
    "    for data, file_num in zip(file_paths, range(1, len(file_paths)+1)):\n",
    "        globals()['df' + str(file_num)] = pd.read_excel(data)\n",
    "        if 'Unnamed: 1' in globals()['df' + str(file_num)].columns:\n",
    "            globals()['df' + str(file_num)] = pd.read_excel(data, header=3)\n",
    "            # globals()['df' + str(file_num)] = globals()['df' + str(file_num)][:-2]\n",
    "            # globals()['df' + str(file_num)].columns = columns\n",
    "        # globals()['df' + str(file_num)].columns = columns\n",
    "        dfs.append(globals()['df' + str(file_num)])\n",
    "    return dfs\n",
    "\n",
    "\n",
    "def combine_tables(tables):\n",
    "    df = pd.concat(tables, axis=0)\n",
    "    df.reset_index(drop=True, inplace=True)\n",
    "    # df.dropna(subset=['客戶名稱'], inplace=True)\n",
    "    return df\n"
   ]
  },
  {
   "cell_type": "code",
   "execution_count": 62,
   "metadata": {},
   "outputs": [],
   "source": [
    "def fill_value(values: list):\n",
    "    '''\n",
    "    針對合併儲存格的處理，讓每個儲存格都有值。\n",
    "    因為合併儲存格的話，在pandas裡面會只有第一raw有值，剩下的都會是空白，所以要用此function來把值複製上去。\n",
    "    '''\n",
    "    x = ''\n",
    "    result_list = []\n",
    "    for i in values:\n",
    "        if pd.notna(i):\n",
    "            x = i\n",
    "            result_list.append(x)\n",
    "        elif pd.isna(i):\n",
    "            i = x\n",
    "            result_list.append(i)\n",
    "    return result_list"
   ]
  },
  {
   "cell_type": "code",
   "execution_count": 77,
   "metadata": {},
   "outputs": [],
   "source": [
    "paths = get_paths()"
   ]
  },
  {
   "cell_type": "code",
   "execution_count": 78,
   "metadata": {},
   "outputs": [],
   "source": [
    "dfs = parse_paths(paths)\n",
    "result = combine_tables(dfs)\n",
    "# result['C/NO'] = result['C/NO'].astype('str')\n",
    "result['INV-NO'] = fill_value(result['INV-NO'])\n",
    "result['C/NO'] = fill_value(result['C/NO'])\n",
    "result['P/O no.'] = result['P/O no.'].map(lambda x: x + '0')\n",
    "result.to_excel(r\"C:\\Users\\kaihsu\\Desktop\\合併資料\\總表.xlsx\", index=False)"
   ]
  },
  {
   "cell_type": "code",
   "execution_count": 65,
   "metadata": {},
   "outputs": [],
   "source": [
    "result['INV-NO'] = fill_value(result['C/NO'])"
   ]
  },
  {
   "cell_type": "code",
   "execution_count": 76,
   "metadata": {},
   "outputs": [
    {
     "data": {
      "text/plain": [
       "0       4502155692-10\n",
       "1       4502155692-10\n",
       "2       4502166193-10\n",
       "3       4502166193-10\n",
       "4       4502166193-10\n",
       "            ...      \n",
       "122     4502174296-60\n",
       "123     4502174296-40\n",
       "124     4502174296-40\n",
       "125     4502174296-90\n",
       "126    4502174296-190\n",
       "Name: P/O no., Length: 127, dtype: object"
      ]
     },
     "execution_count": 76,
     "metadata": {},
     "output_type": "execute_result"
    }
   ],
   "source": [
    "result['P/O no.'].map(lambda x: x + '0')"
   ]
  },
  {
   "cell_type": "code",
   "execution_count": 12,
   "metadata": {},
   "outputs": [
    {
     "data": {
      "text/html": [
       "<div>\n",
       "<style scoped>\n",
       "    .dataframe tbody tr th:only-of-type {\n",
       "        vertical-align: middle;\n",
       "    }\n",
       "\n",
       "    .dataframe tbody tr th {\n",
       "        vertical-align: top;\n",
       "    }\n",
       "\n",
       "    .dataframe thead th {\n",
       "        text-align: right;\n",
       "    }\n",
       "</style>\n",
       "<table border=\"1\" class=\"dataframe\">\n",
       "  <thead>\n",
       "    <tr style=\"text-align: right;\">\n",
       "      <th></th>\n",
       "      <th>INV-NO</th>\n",
       "      <th>C/NO</th>\n",
       "      <th>P/O no.</th>\n",
       "      <th>Customer Material</th>\n",
       "      <th>TPN</th>\n",
       "      <th>COO</th>\n",
       "      <th>Pack Date</th>\n",
       "      <th>LOT-NO</th>\n",
       "      <th>QTY</th>\n",
       "      <th>KEY-NO</th>\n",
       "      <th>MEMO1</th>\n",
       "      <th>MEMO2</th>\n",
       "      <th>MEMO3</th>\n",
       "      <th>WTC Batch</th>\n",
       "    </tr>\n",
       "  </thead>\n",
       "  <tbody>\n",
       "    <tr>\n",
       "      <th>0</th>\n",
       "      <td>VG44501252</td>\n",
       "      <td>1.0</td>\n",
       "      <td>4502156886-1</td>\n",
       "      <td>LSQ0806A12NG4P40</td>\n",
       "      <td>LSQ0806A-12NG</td>\n",
       "      <td>NaN</td>\n",
       "      <td>NaN</td>\n",
       "      <td>M221714005F</td>\n",
       "      <td>40000</td>\n",
       "      <td>NaN</td>\n",
       "      <td>NaN</td>\n",
       "      <td>NaN</td>\n",
       "      <td>NaN</td>\n",
       "      <td>20AL800232</td>\n",
       "    </tr>\n",
       "    <tr>\n",
       "      <th>1</th>\n",
       "      <td>NaN</td>\n",
       "      <td>NaN</td>\n",
       "      <td>4502156886-1</td>\n",
       "      <td>LSQ0806A12NG4P40</td>\n",
       "      <td>LSQ0806A-12NG</td>\n",
       "      <td>NaN</td>\n",
       "      <td>NaN</td>\n",
       "      <td>M221719002F</td>\n",
       "      <td>8000</td>\n",
       "      <td>NaN</td>\n",
       "      <td>NaN</td>\n",
       "      <td>NaN</td>\n",
       "      <td>NaN</td>\n",
       "      <td>20AL800351</td>\n",
       "    </tr>\n",
       "    <tr>\n",
       "      <th>2</th>\n",
       "      <td>NaN</td>\n",
       "      <td>1.0</td>\n",
       "      <td>4502156886-3</td>\n",
       "      <td>LSQ0806A5N5G4P40</td>\n",
       "      <td>LSQ0806A-5N5G</td>\n",
       "      <td>NaN</td>\n",
       "      <td>NaN</td>\n",
       "      <td>M221714003F</td>\n",
       "      <td>26000</td>\n",
       "      <td>NaN</td>\n",
       "      <td>NaN</td>\n",
       "      <td>NaN</td>\n",
       "      <td>NaN</td>\n",
       "      <td>20AL800233</td>\n",
       "    </tr>\n",
       "    <tr>\n",
       "      <th>3</th>\n",
       "      <td>NaN</td>\n",
       "      <td>NaN</td>\n",
       "      <td>4502156886-3</td>\n",
       "      <td>LSQ0806A5N5G4P40</td>\n",
       "      <td>LSQ0806A-5N5G</td>\n",
       "      <td>NaN</td>\n",
       "      <td>NaN</td>\n",
       "      <td>M221719005F</td>\n",
       "      <td>46000</td>\n",
       "      <td>NaN</td>\n",
       "      <td>NaN</td>\n",
       "      <td>NaN</td>\n",
       "      <td>NaN</td>\n",
       "      <td>20AL800352</td>\n",
       "    </tr>\n",
       "    <tr>\n",
       "      <th>4</th>\n",
       "      <td>NaN</td>\n",
       "      <td>1.0</td>\n",
       "      <td>4502163100-5</td>\n",
       "      <td>LSQ0807A14NG4P40</td>\n",
       "      <td>LSQ0807A-14NG</td>\n",
       "      <td>NaN</td>\n",
       "      <td>NaN</td>\n",
       "      <td>M221708005F</td>\n",
       "      <td>4000</td>\n",
       "      <td>NaN</td>\n",
       "      <td>NaN</td>\n",
       "      <td>NaN</td>\n",
       "      <td>NaN</td>\n",
       "      <td>20AL800353</td>\n",
       "    </tr>\n",
       "    <tr>\n",
       "      <th>5</th>\n",
       "      <td>NaN</td>\n",
       "      <td>1.0</td>\n",
       "      <td>4502163100-6</td>\n",
       "      <td>LSQ0807A6N9G4P40</td>\n",
       "      <td>LSQ0807A-6N9G</td>\n",
       "      <td>NaN</td>\n",
       "      <td>NaN</td>\n",
       "      <td>M221708007F</td>\n",
       "      <td>2000</td>\n",
       "      <td>NaN</td>\n",
       "      <td>NaN</td>\n",
       "      <td>NaN</td>\n",
       "      <td>NaN</td>\n",
       "      <td>20AL800354</td>\n",
       "    </tr>\n",
       "    <tr>\n",
       "      <th>6</th>\n",
       "      <td>NaN</td>\n",
       "      <td>1.0</td>\n",
       "      <td>4502161077-6</td>\n",
       "      <td>LSQ0908A23NJ7P40</td>\n",
       "      <td>LSQ0908A-23NJ</td>\n",
       "      <td>NaN</td>\n",
       "      <td>NaN</td>\n",
       "      <td>M221622005F</td>\n",
       "      <td>4000</td>\n",
       "      <td>NaN</td>\n",
       "      <td>NaN</td>\n",
       "      <td>NaN</td>\n",
       "      <td>NaN</td>\n",
       "      <td>20AL800355</td>\n",
       "    </tr>\n",
       "    <tr>\n",
       "      <th>7</th>\n",
       "      <td>NaN</td>\n",
       "      <td>NaN</td>\n",
       "      <td>4502161077-6</td>\n",
       "      <td>LSQ0908A23NJ7P40</td>\n",
       "      <td>LSQ0908A-23NJ</td>\n",
       "      <td>NaN</td>\n",
       "      <td>NaN</td>\n",
       "      <td>M221712004F</td>\n",
       "      <td>4000</td>\n",
       "      <td>NaN</td>\n",
       "      <td>NaN</td>\n",
       "      <td>NaN</td>\n",
       "      <td>NaN</td>\n",
       "      <td>20AL800356</td>\n",
       "    </tr>\n",
       "    <tr>\n",
       "      <th>8</th>\n",
       "      <td>NaN</td>\n",
       "      <td>2.0</td>\n",
       "      <td>4502144783-5</td>\n",
       "      <td>LSQ0910A22NJ7P80</td>\n",
       "      <td>LSQ0910A-22NJ</td>\n",
       "      <td>NaN</td>\n",
       "      <td>NaN</td>\n",
       "      <td>M221705001F</td>\n",
       "      <td>24000</td>\n",
       "      <td>NaN</td>\n",
       "      <td>NaN</td>\n",
       "      <td>NaN</td>\n",
       "      <td>NaN</td>\n",
       "      <td>20AL800358</td>\n",
       "    </tr>\n",
       "    <tr>\n",
       "      <th>9</th>\n",
       "      <td>NaN</td>\n",
       "      <td>NaN</td>\n",
       "      <td>4502144783-5</td>\n",
       "      <td>LSQ0910A22NJ7P80</td>\n",
       "      <td>LSQ0910A-22NJ</td>\n",
       "      <td>NaN</td>\n",
       "      <td>NaN</td>\n",
       "      <td>M221712001F</td>\n",
       "      <td>24000</td>\n",
       "      <td>NaN</td>\n",
       "      <td>NaN</td>\n",
       "      <td>NaN</td>\n",
       "      <td>NaN</td>\n",
       "      <td>20AL800357</td>\n",
       "    </tr>\n",
       "    <tr>\n",
       "      <th>10</th>\n",
       "      <td>NaN</td>\n",
       "      <td>NaN</td>\n",
       "      <td>4502144783-6</td>\n",
       "      <td>LSQ0910A22NJ7P80</td>\n",
       "      <td>LSQ0910A-22NJ</td>\n",
       "      <td>NaN</td>\n",
       "      <td>NaN</td>\n",
       "      <td>M221702004F</td>\n",
       "      <td>24000</td>\n",
       "      <td>NaN</td>\n",
       "      <td>NaN</td>\n",
       "      <td>NaN</td>\n",
       "      <td>NaN</td>\n",
       "      <td>20AL800231</td>\n",
       "    </tr>\n",
       "    <tr>\n",
       "      <th>11</th>\n",
       "      <td>NaN</td>\n",
       "      <td>NaN</td>\n",
       "      <td>4502144783-6</td>\n",
       "      <td>LSQ0910A22NJ7P80</td>\n",
       "      <td>LSQ0910A-22NJ</td>\n",
       "      <td>NaN</td>\n",
       "      <td>NaN</td>\n",
       "      <td>M221708002F</td>\n",
       "      <td>24000</td>\n",
       "      <td>NaN</td>\n",
       "      <td>NaN</td>\n",
       "      <td>NaN</td>\n",
       "      <td>NaN</td>\n",
       "      <td>20AL800359</td>\n",
       "    </tr>\n",
       "    <tr>\n",
       "      <th>12</th>\n",
       "      <td>NaN</td>\n",
       "      <td>NaN</td>\n",
       "      <td>4502161077-7</td>\n",
       "      <td>LSQ0910A22NJ7P80</td>\n",
       "      <td>LSQ0910A-22NJ</td>\n",
       "      <td>NaN</td>\n",
       "      <td>NaN</td>\n",
       "      <td>M221708002F</td>\n",
       "      <td>48000</td>\n",
       "      <td>NaN</td>\n",
       "      <td>NaN</td>\n",
       "      <td>NaN</td>\n",
       "      <td>NaN</td>\n",
       "      <td>20AL800359</td>\n",
       "    </tr>\n",
       "    <tr>\n",
       "      <th>13</th>\n",
       "      <td>NaN</td>\n",
       "      <td>1.0</td>\n",
       "      <td>4502174296-6</td>\n",
       "      <td>WLBD1005K2U121TP</td>\n",
       "      <td>MCB1005S121FBP</td>\n",
       "      <td>NaN</td>\n",
       "      <td>NaN</td>\n",
       "      <td>T121526007W</td>\n",
       "      <td>20000</td>\n",
       "      <td>NaN</td>\n",
       "      <td>NaN</td>\n",
       "      <td>NaN</td>\n",
       "      <td>NaN</td>\n",
       "      <td>20AL800360</td>\n",
       "    </tr>\n",
       "    <tr>\n",
       "      <th>14</th>\n",
       "      <td>NaN</td>\n",
       "      <td>1.0</td>\n",
       "      <td>4502174296-4</td>\n",
       "      <td>WLBD1005K1U601TB</td>\n",
       "      <td>MCB1005S601FBP</td>\n",
       "      <td>NaN</td>\n",
       "      <td>NaN</td>\n",
       "      <td>T121705001B</td>\n",
       "      <td>590000</td>\n",
       "      <td>NaN</td>\n",
       "      <td>NaN</td>\n",
       "      <td>NaN</td>\n",
       "      <td>NaN</td>\n",
       "      <td>20AL800240</td>\n",
       "    </tr>\n",
       "    <tr>\n",
       "      <th>15</th>\n",
       "      <td>NaN</td>\n",
       "      <td>NaN</td>\n",
       "      <td>4502174296-4</td>\n",
       "      <td>WLBD1005K1U601TB</td>\n",
       "      <td>MCB1005S601FBP</td>\n",
       "      <td>NaN</td>\n",
       "      <td>NaN</td>\n",
       "      <td>T121727004B</td>\n",
       "      <td>320000</td>\n",
       "      <td>NaN</td>\n",
       "      <td>NaN</td>\n",
       "      <td>NaN</td>\n",
       "      <td>NaN</td>\n",
       "      <td>20AL800362</td>\n",
       "    </tr>\n",
       "    <tr>\n",
       "      <th>16</th>\n",
       "      <td>NaN</td>\n",
       "      <td>1.0</td>\n",
       "      <td>4502174296-9</td>\n",
       "      <td>WLBD1005K2U601TP</td>\n",
       "      <td>MCB1005S601FBP</td>\n",
       "      <td>NaN</td>\n",
       "      <td>NaN</td>\n",
       "      <td>T121727004B</td>\n",
       "      <td>20000</td>\n",
       "      <td>NaN</td>\n",
       "      <td>NaN</td>\n",
       "      <td>NaN</td>\n",
       "      <td>NaN</td>\n",
       "      <td>20AL800363</td>\n",
       "    </tr>\n",
       "    <tr>\n",
       "      <th>17</th>\n",
       "      <td>NaN</td>\n",
       "      <td>1.0</td>\n",
       "      <td>4502174296-19</td>\n",
       "      <td>WLBD1608K2U102TP</td>\n",
       "      <td>MCB1608S102EBP</td>\n",
       "      <td>NaN</td>\n",
       "      <td>NaN</td>\n",
       "      <td>T121707015W</td>\n",
       "      <td>8000</td>\n",
       "      <td>NaN</td>\n",
       "      <td>NaN</td>\n",
       "      <td>NaN</td>\n",
       "      <td>NaN</td>\n",
       "      <td>20AL800361</td>\n",
       "    </tr>\n",
       "  </tbody>\n",
       "</table>\n",
       "</div>"
      ],
      "text/plain": [
       "        INV-NO  C/NO        P/O no. Customer Material             TPN  COO  \\\n",
       "0   VG44501252   1.0   4502156886-1  LSQ0806A12NG4P40   LSQ0806A-12NG  NaN   \n",
       "1          NaN   NaN   4502156886-1  LSQ0806A12NG4P40   LSQ0806A-12NG  NaN   \n",
       "2          NaN   1.0   4502156886-3  LSQ0806A5N5G4P40   LSQ0806A-5N5G  NaN   \n",
       "3          NaN   NaN   4502156886-3  LSQ0806A5N5G4P40   LSQ0806A-5N5G  NaN   \n",
       "4          NaN   1.0   4502163100-5  LSQ0807A14NG4P40   LSQ0807A-14NG  NaN   \n",
       "5          NaN   1.0   4502163100-6  LSQ0807A6N9G4P40   LSQ0807A-6N9G  NaN   \n",
       "6          NaN   1.0   4502161077-6  LSQ0908A23NJ7P40   LSQ0908A-23NJ  NaN   \n",
       "7          NaN   NaN   4502161077-6  LSQ0908A23NJ7P40   LSQ0908A-23NJ  NaN   \n",
       "8          NaN   2.0   4502144783-5  LSQ0910A22NJ7P80   LSQ0910A-22NJ  NaN   \n",
       "9          NaN   NaN   4502144783-5  LSQ0910A22NJ7P80   LSQ0910A-22NJ  NaN   \n",
       "10         NaN   NaN   4502144783-6  LSQ0910A22NJ7P80   LSQ0910A-22NJ  NaN   \n",
       "11         NaN   NaN   4502144783-6  LSQ0910A22NJ7P80   LSQ0910A-22NJ  NaN   \n",
       "12         NaN   NaN   4502161077-7  LSQ0910A22NJ7P80   LSQ0910A-22NJ  NaN   \n",
       "13         NaN   1.0   4502174296-6  WLBD1005K2U121TP  MCB1005S121FBP  NaN   \n",
       "14         NaN   1.0   4502174296-4  WLBD1005K1U601TB  MCB1005S601FBP  NaN   \n",
       "15         NaN   NaN   4502174296-4  WLBD1005K1U601TB  MCB1005S601FBP  NaN   \n",
       "16         NaN   1.0   4502174296-9  WLBD1005K2U601TP  MCB1005S601FBP  NaN   \n",
       "17         NaN   1.0  4502174296-19  WLBD1608K2U102TP  MCB1608S102EBP  NaN   \n",
       "\n",
       "    Pack Date       LOT-NO     QTY  KEY-NO  MEMO1  MEMO2  MEMO3   WTC Batch  \n",
       "0         NaN  M221714005F   40000     NaN    NaN    NaN    NaN  20AL800232  \n",
       "1         NaN  M221719002F    8000     NaN    NaN    NaN    NaN  20AL800351  \n",
       "2         NaN  M221714003F   26000     NaN    NaN    NaN    NaN  20AL800233  \n",
       "3         NaN  M221719005F   46000     NaN    NaN    NaN    NaN  20AL800352  \n",
       "4         NaN  M221708005F    4000     NaN    NaN    NaN    NaN  20AL800353  \n",
       "5         NaN  M221708007F    2000     NaN    NaN    NaN    NaN  20AL800354  \n",
       "6         NaN  M221622005F    4000     NaN    NaN    NaN    NaN  20AL800355  \n",
       "7         NaN  M221712004F    4000     NaN    NaN    NaN    NaN  20AL800356  \n",
       "8         NaN  M221705001F   24000     NaN    NaN    NaN    NaN  20AL800358  \n",
       "9         NaN  M221712001F   24000     NaN    NaN    NaN    NaN  20AL800357  \n",
       "10        NaN  M221702004F   24000     NaN    NaN    NaN    NaN  20AL800231  \n",
       "11        NaN  M221708002F   24000     NaN    NaN    NaN    NaN  20AL800359  \n",
       "12        NaN  M221708002F   48000     NaN    NaN    NaN    NaN  20AL800359  \n",
       "13        NaN  T121526007W   20000     NaN    NaN    NaN    NaN  20AL800360  \n",
       "14        NaN  T121705001B  590000     NaN    NaN    NaN    NaN  20AL800240  \n",
       "15        NaN  T121727004B  320000     NaN    NaN    NaN    NaN  20AL800362  \n",
       "16        NaN  T121727004B   20000     NaN    NaN    NaN    NaN  20AL800363  \n",
       "17        NaN  T121707015W    8000     NaN    NaN    NaN    NaN  20AL800361  "
      ]
     },
     "execution_count": 12,
     "metadata": {},
     "output_type": "execute_result"
    }
   ],
   "source": [
    "result['C/NO'].map(lambda x: )"
   ]
  },
  {
   "cell_type": "markdown",
   "metadata": {},
   "source": [
    "### 隨便亂試 20210722"
   ]
  },
  {
   "cell_type": "code",
   "execution_count": null,
   "metadata": {},
   "outputs": [],
   "source": [
    "import pandas as pd"
   ]
  },
  {
   "cell_type": "code",
   "execution_count": null,
   "metadata": {},
   "outputs": [],
   "source": [
    "def generate_currency():\n",
    "    df = pd.read_clipboard()\n",
    "    return df.stack().reset_index()"
   ]
  },
  {
   "cell_type": "code",
   "execution_count": null,
   "metadata": {},
   "outputs": [],
   "source": [
    "may_2021 = generate_currency()"
   ]
  },
  {
   "cell_type": "code",
   "execution_count": null,
   "metadata": {},
   "outputs": [],
   "source": [
    "may_2021['Month'] = '2021-05-01'"
   ]
  },
  {
   "cell_type": "code",
   "execution_count": null,
   "metadata": {},
   "outputs": [],
   "source": [
    "may_2021['Month'] = pd.to_datetime(may_2021['Month'], yearfirst=True).dt.strftime('%Y-%m')"
   ]
  },
  {
   "cell_type": "code",
   "execution_count": null,
   "metadata": {},
   "outputs": [],
   "source": [
    "june_2021 = df.stack().reset_index()"
   ]
  },
  {
   "cell_type": "code",
   "execution_count": null,
   "metadata": {},
   "outputs": [],
   "source": [
    "june_2021['Month'] = '2021-06-01'\n",
    "june_2021['Month'] = pd.to_datetime(june_2021['Month'], yearfirst=True).dt.strftime('%Y-%m')"
   ]
  },
  {
   "cell_type": "code",
   "execution_count": null,
   "metadata": {},
   "outputs": [],
   "source": [
    "april_2021 = generate_currency()"
   ]
  },
  {
   "cell_type": "code",
   "execution_count": null,
   "metadata": {},
   "outputs": [],
   "source": [
    "april_2021['Month'] = '2021-04-01'\n",
    "april_2021['Month'] = pd.to_datetime(april_2021['Month'], yearfirst=True).dt.strftime('%Y-%m')"
   ]
  },
  {
   "cell_type": "code",
   "execution_count": null,
   "metadata": {},
   "outputs": [],
   "source": [
    "march_2021 = generate_currency()"
   ]
  },
  {
   "cell_type": "code",
   "execution_count": null,
   "metadata": {},
   "outputs": [],
   "source": [
    "march_2021['Month'] = '2021-03-01'\n",
    "march_2021['Month'] = pd.to_datetime(march_2021['Month'], yearfirst=True).dt.strftime('%Y-%m')"
   ]
  },
  {
   "cell_type": "code",
   "execution_count": null,
   "metadata": {},
   "outputs": [],
   "source": [
    "feb_2021 = generate_currency()"
   ]
  },
  {
   "cell_type": "code",
   "execution_count": null,
   "metadata": {},
   "outputs": [],
   "source": [
    "feb_2021['Month'] = '2021-02-01'\n",
    "feb_2021['Month'] = pd.to_datetime(feb_2021['Month'], yearfirst=True).dt.strftime('%Y-%m')"
   ]
  },
  {
   "cell_type": "code",
   "execution_count": null,
   "metadata": {},
   "outputs": [],
   "source": [
    "jan_2021 = generate_currency()"
   ]
  },
  {
   "cell_type": "code",
   "execution_count": null,
   "metadata": {},
   "outputs": [],
   "source": [
    "jan_2021['Month'] = '2021-02-01'\n",
    "jan_2021['Month'] = pd.to_datetime(jan_2021['Month'], yearfirst=True).dt.strftime('%Y-%m')"
   ]
  },
  {
   "cell_type": "code",
   "execution_count": null,
   "metadata": {},
   "outputs": [],
   "source": [
    "dec_2020 = generate_currency()"
   ]
  },
  {
   "cell_type": "code",
   "execution_count": null,
   "metadata": {},
   "outputs": [],
   "source": [
    "dec_2020['Month'] = '2020-12-01'\n",
    "dec_2020['Month'] = pd.to_datetime(dec_2020['Month'], yearfirst=True).dt.strftime('%Y-%m')"
   ]
  },
  {
   "cell_type": "code",
   "execution_count": null,
   "metadata": {},
   "outputs": [],
   "source": [
    "nov_2020 = generate_currency()"
   ]
  },
  {
   "cell_type": "code",
   "execution_count": null,
   "metadata": {},
   "outputs": [],
   "source": [
    "nov_2020['Month'] = '2020-11-01'\n",
    "nov_2020['Month'] = pd.to_datetime(nov_2020['Month'], yearfirst=True).dt.strftime('%Y-%m')"
   ]
  },
  {
   "cell_type": "code",
   "execution_count": null,
   "metadata": {},
   "outputs": [],
   "source": [
    "oct_2020 = generate_currency()"
   ]
  },
  {
   "cell_type": "code",
   "execution_count": null,
   "metadata": {},
   "outputs": [],
   "source": [
    "oct_2020['Month'] = '2020-10-01'\n",
    "oct_2020['Month'] = pd.to_datetime(oct_2020['Month'], yearfirst=True).dt.strftime('%Y-%m')"
   ]
  },
  {
   "cell_type": "code",
   "execution_count": null,
   "metadata": {},
   "outputs": [],
   "source": [
    "sep_2020 = generate_currency()"
   ]
  },
  {
   "cell_type": "code",
   "execution_count": null,
   "metadata": {},
   "outputs": [],
   "source": [
    "sep_2020['Month'] = '2020-09-01'\n",
    "sep_2020['Month'] = pd.to_datetime(sep_2020['Month'], yearfirst=True).dt.strftime('%Y-%m')"
   ]
  },
  {
   "cell_type": "code",
   "execution_count": null,
   "metadata": {},
   "outputs": [],
   "source": [
    "aug_2020 = generate_currency()"
   ]
  },
  {
   "cell_type": "code",
   "execution_count": null,
   "metadata": {},
   "outputs": [],
   "source": [
    "aug_2020['Month'] = '2020-08-01'\n",
    "aug_2020['Month'] = pd.to_datetime(aug_2020['Month'], yearfirst=True).dt.strftime('%Y-%m')"
   ]
  },
  {
   "cell_type": "code",
   "execution_count": null,
   "metadata": {},
   "outputs": [],
   "source": [
    "jul_2020 = generate_currency()"
   ]
  },
  {
   "cell_type": "code",
   "execution_count": null,
   "metadata": {},
   "outputs": [],
   "source": [
    "jul_2020['Month'] = '2020-07-01'\n",
    "jul_2020['Month'] = pd.to_datetime(jul_2020['Month'], yearfirst=True).dt.strftime('%Y-%m')"
   ]
  },
  {
   "cell_type": "code",
   "execution_count": null,
   "metadata": {},
   "outputs": [],
   "source": [
    "jun_2020 = generate_currency()"
   ]
  },
  {
   "cell_type": "code",
   "execution_count": null,
   "metadata": {},
   "outputs": [],
   "source": [
    "jun_2020['Month'] = '2020-06-01'\n",
    "jun_2020['Month'] = pd.to_datetime(jun_2020['Month'], yearfirst=True).dt.strftime('%Y-%m')"
   ]
  },
  {
   "cell_type": "code",
   "execution_count": null,
   "metadata": {},
   "outputs": [],
   "source": [
    "result = pd.concat([may_2021, june_2021, april_2021, march_2021, feb_2021, jan_2021, dec_2020, nov_2020, oct_2020, sep_2020, aug_2020, jul_2020, jun_2020], axis=0)"
   ]
  },
  {
   "cell_type": "code",
   "execution_count": null,
   "metadata": {},
   "outputs": [],
   "source": [
    "result.columns = ['原幣別', '轉換幣別', '匯率', '月份']"
   ]
  },
  {
   "cell_type": "code",
   "execution_count": null,
   "metadata": {
    "scrolled": true
   },
   "outputs": [],
   "source": [
    "result = result[result['匯率'] != 1]"
   ]
  },
  {
   "cell_type": "code",
   "execution_count": null,
   "metadata": {},
   "outputs": [],
   "source": [
    "result.to_excel(r\"C:\\Users\\kaihsu\\OneDrive\\INPAQ\\110年度匯率表.xlsx\", index=False)"
   ]
  },
  {
   "cell_type": "markdown",
   "metadata": {},
   "source": [
    "### list實驗區"
   ]
  },
  {
   "cell_type": "code",
   "execution_count": null,
   "metadata": {},
   "outputs": [],
   "source": [
    "list(\"kai\")"
   ]
  },
  {
   "cell_type": "code",
   "execution_count": null,
   "metadata": {},
   "outputs": [],
   "source": [
    "s = [1, 2, 3, 4]\n",
    "k = [3, 2, 3, 4]\n",
    "s+k"
   ]
  },
  {
   "cell_type": "code",
   "execution_count": null,
   "metadata": {},
   "outputs": [],
   "source": [
    "set(s)"
   ]
  },
  {
   "cell_type": "code",
   "execution_count": null,
   "metadata": {},
   "outputs": [],
   "source": [
    "set(k)"
   ]
  },
  {
   "cell_type": "code",
   "execution_count": null,
   "metadata": {},
   "outputs": [],
   "source": [
    "set(s) & set(k)"
   ]
  },
  {
   "cell_type": "code",
   "execution_count": null,
   "metadata": {
    "scrolled": true
   },
   "outputs": [],
   "source": [
    "[\"{} * {} = {}\".format(i, j, i * j, end=\"\\t\") for i in range(1, 10) for j in range(1, 10)]"
   ]
  },
  {
   "cell_type": "code",
   "execution_count": null,
   "metadata": {},
   "outputs": [],
   "source": [
    "def sum_avg(n1, n2=10):\n",
    "    total = 0\n",
    "    for i in range(n1, n2+1):\n",
    "        total += i\n",
    "        avg = total / (n2-n1+1)\n",
    "    return total, avg"
   ]
  },
  {
   "cell_type": "code",
   "execution_count": null,
   "metadata": {},
   "outputs": [],
   "source": [
    "sum_avg(2)"
   ]
  },
  {
   "cell_type": "code",
   "execution_count": null,
   "metadata": {},
   "outputs": [],
   "source": [
    "def greet(*args, **kwargs):\n",
    "    print(args, kwargs)"
   ]
  },
  {
   "cell_type": "code",
   "execution_count": null,
   "metadata": {},
   "outputs": [],
   "source": [
    "greet(\"jimmy\", \"Mary\", \"Mike\", \"Amber\", x=1, y=2, shit=3)"
   ]
  },
  {
   "cell_type": "code",
   "execution_count": null,
   "metadata": {},
   "outputs": [],
   "source": [
    "greet([\"jimmy\", \"Amber\"])"
   ]
  },
  {
   "cell_type": "code",
   "execution_count": null,
   "metadata": {},
   "outputs": [],
   "source": [
    "def outer(msg):\n",
    "    \n",
    "    def inner():\n",
    "        print(msg)\n",
    "        \n",
    "    inner()\n",
    "    \n",
    "    outer(\"Shit\")\n",
    "    "
   ]
  },
  {
   "cell_type": "code",
   "execution_count": null,
   "metadata": {
    "scrolled": false
   },
   "outputs": [],
   "source": [
    "import pandas as pd"
   ]
  },
  {
   "cell_type": "code",
   "execution_count": null,
   "metadata": {},
   "outputs": [],
   "source": [
    "list1 = [[1, 2], [2, 2], [3, 2]] # 3 rows x 2 colums"
   ]
  },
  {
   "cell_type": "code",
   "execution_count": null,
   "metadata": {},
   "outputs": [],
   "source": [
    "pd.DataFrame(list1)"
   ]
  },
  {
   "cell_type": "markdown",
   "metadata": {},
   "source": [
    "### 建立3*4表格"
   ]
  },
  {
   "cell_type": "code",
   "execution_count": null,
   "metadata": {},
   "outputs": [],
   "source": [
    "import random\n",
    "\n",
    "s = []\n",
    "for i in range(3):\n",
    "    s.append([])\n",
    "    for j in range(4):\n",
    "        s[i].append(random.randint(1, 50))\n",
    "print(s)"
   ]
  },
  {
   "cell_type": "markdown",
   "metadata": {},
   "source": [
    "## Class實驗區"
   ]
  },
  {
   "cell_type": "markdown",
   "metadata": {},
   "source": [
    "### 方法一"
   ]
  },
  {
   "cell_type": "code",
   "execution_count": null,
   "metadata": {},
   "outputs": [],
   "source": [
    "class Duck():\n",
    "    def __init__(self, input_name):\n",
    "        self.hidden_name = input_name\n",
    "    def get_name(self): # 參考Duck物件的name時，其實呼叫的是get_name()方法並回傳\n",
    "        print(\"inside the getter\")\n",
    "        return self.hidden_name\n",
    "    def set_name(self, input_name):\n",
    "        print(\"inside the setter\")\n",
    "        self.hidden_name = input_name\n",
    "    name = property(get_name, set_name) "
   ]
  },
  {
   "cell_type": "code",
   "execution_count": null,
   "metadata": {},
   "outputs": [],
   "source": [
    "fowl = Duck(\"Howard\")\n",
    "fowl.name"
   ]
  },
  {
   "cell_type": "code",
   "execution_count": null,
   "metadata": {
    "scrolled": true
   },
   "outputs": [],
   "source": [
    "fowl.get_name()"
   ]
  },
  {
   "cell_type": "code",
   "execution_count": null,
   "metadata": {},
   "outputs": [],
   "source": [
    "fowl.name = \"Kai\" # 將新的值”Kai\"指派給name的時候，就會呼叫set_name()方法"
   ]
  },
  {
   "cell_type": "code",
   "execution_count": null,
   "metadata": {},
   "outputs": [],
   "source": [
    "fowl.name"
   ]
  },
  {
   "cell_type": "markdown",
   "metadata": {},
   "source": [
    "### 方法二\n",
    "另一個定義特性的方法就是使用裝飾器：（兩個方法都叫做<font color=red>**name()**</font>）<br>\n",
    "如此一來可以將method變成attribute。<br>\n",
    "用此方法也可以修改private的attribute\n",
    "- @property在getter方法之前\n",
    "- @name.setter在setter方法之前\n",
    "\n"
   ]
  },
  {
   "cell_type": "code",
   "execution_count": null,
   "metadata": {},
   "outputs": [],
   "source": [
    "class Duck():\n",
    "    def __init__(self, input_name):\n",
    "        self.__hidden_name = input_name\n",
    "    @property\n",
    "    def name(self):\n",
    "        print(\"inside the getter\")\n",
    "        return self.__hidden_name\n",
    "    @name.setter\n",
    "    def name(self, input_name):\n",
    "        print(\"inside the setter\")\n",
    "        self.__hidden_name = input_name"
   ]
  },
  {
   "cell_type": "code",
   "execution_count": null,
   "metadata": {},
   "outputs": [],
   "source": [
    "test = Duck(\"Howard\")\n",
    "test.name"
   ]
  },
  {
   "cell_type": "code",
   "execution_count": null,
   "metadata": {
    "scrolled": true
   },
   "outputs": [],
   "source": [
    "test.name = \"Amber\"\n",
    "test.name"
   ]
  },
  {
   "cell_type": "markdown",
   "metadata": {},
   "source": [
    "## 類別方法"
   ]
  },
  {
   "cell_type": "code",
   "execution_count": null,
   "metadata": {},
   "outputs": [],
   "source": [
    "class Account():\n",
    "    name_list = [] # 類別屬性\n",
    "    def __init__(self, name):\n",
    "        self.name = name\n",
    "        Account.name_list.append(self.name) # ！！Account類別的屬性來講新建立的物件放進去list\n",
    "    @classmethod\n",
    "    def accounts(cls):\n",
    "        print(cls.name_list) # 類別方法使用@classmethod，裡面的引數用cls\n",
    "\n",
    "        "
   ]
  },
  {
   "cell_type": "code",
   "execution_count": null,
   "metadata": {},
   "outputs": [],
   "source": [
    "x = Account(\"Kai\")\n",
    "y = Account(\"Amber\")\n",
    "Account.name_list"
   ]
  },
  {
   "cell_type": "markdown",
   "metadata": {},
   "source": [
    "## 靜態方法\n",
    "<font color=red>**可以在不建立類別物件的前提下直接存取類別裡面的方法**</font>"
   ]
  },
  {
   "cell_type": "code",
   "execution_count": null,
   "metadata": {},
   "outputs": [],
   "source": [
    "class Test():\n",
    "    def __init__(self):\n",
    "        pass\n",
    "    @staticmethod\n",
    "    def speak(name):\n",
    "        print(\"Hi, {}! How are you\".format(name))"
   ]
  },
  {
   "cell_type": "code",
   "execution_count": null,
   "metadata": {},
   "outputs": [],
   "source": [
    "Test.speak(\"Kai\") # 直接使用類別名稱.靜態方法存取"
   ]
  }
 ],
 "metadata": {
  "kernelspec": {
   "display_name": "Python 3",
   "language": "python",
   "name": "python3"
  },
  "language_info": {
   "codemirror_mode": {
    "name": "ipython",
    "version": 3
   },
   "file_extension": ".py",
   "mimetype": "text/x-python",
   "name": "python",
   "nbconvert_exporter": "python",
   "pygments_lexer": "ipython3",
   "version": "3.8.5"
  }
 },
 "nbformat": 4,
 "nbformat_minor": 4
}
