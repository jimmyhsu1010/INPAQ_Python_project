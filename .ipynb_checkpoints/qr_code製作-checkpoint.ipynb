{
 "cells": [
  {
   "cell_type": "code",
   "execution_count": null,
   "id": "0aaf4587",
   "metadata": {},
   "outputs": [],
   "source": [
    "from qrcode import QRCode"
   ]
  },
  {
   "cell_type": "code",
   "execution_count": null,
   "id": "c1440b39",
   "metadata": {},
   "outputs": [],
   "source": [
    "contact = {\"name\": \"Kai Hsu\", \"tel\": \"+886-903-026-126\", \"email\": \"kaihsu@inpaq.com.tw\"}"
   ]
  },
  {
   "cell_type": "code",
   "execution_count": null,
   "id": "b5497daf",
   "metadata": {},
   "outputs": [],
   "source": [
    "template = \"\"\"\n",
    "BEGIN:VCARD\n",
    "FN:{name}\n",
    "TEL:{tel}\n",
    "EMAIL;TYPE=INTERNET:{email}\n",
    "END:VCARD\n",
    "\"\"\""
   ]
  },
  {
   "cell_type": "code",
   "execution_count": null,
   "id": "fc892322",
   "metadata": {},
   "outputs": [],
   "source": [
    "qr = QRCode(\n",
    "version=1,\n",
    "box_size=10,\n",
    "border=2\n",
    ")"
   ]
  },
  {
   "cell_type": "code",
   "execution_count": null,
   "id": "d8b17224",
   "metadata": {},
   "outputs": [],
   "source": [
    "data = template.format(**contact)"
   ]
  },
  {
   "cell_type": "code",
   "execution_count": null,
   "id": "18f1550b",
   "metadata": {},
   "outputs": [],
   "source": [
    "qr.make(fit=True)"
   ]
  },
  {
   "cell_type": "code",
   "execution_count": null,
   "id": "18b457da",
   "metadata": {},
   "outputs": [],
   "source": [
    "qr.add_data(data)"
   ]
  },
  {
   "cell_type": "code",
   "execution_count": null,
   "id": "2b772ff9",
   "metadata": {},
   "outputs": [],
   "source": [
    "img = qr.make_image(fill_color=\"black\", back_color=\"white\")"
   ]
  },
  {
   "cell_type": "code",
   "execution_count": null,
   "id": "776ae24d",
   "metadata": {},
   "outputs": [],
   "source": [
    "img.save(r\"C:\\Users\\kaihsu\\Desktop\\my_qrcoed.png\")"
   ]
  },
  {
   "cell_type": "code",
   "execution_count": null,
   "id": "54ea4a42",
   "metadata": {},
   "outputs": [],
   "source": []
  }
 ],
 "metadata": {
  "kernelspec": {
   "display_name": "Python 3 (ipykernel)",
   "language": "python",
   "name": "python3"
  },
  "language_info": {
   "codemirror_mode": {
    "name": "ipython",
    "version": 3
   },
   "file_extension": ".py",
   "mimetype": "text/x-python",
   "name": "python",
   "nbconvert_exporter": "python",
   "pygments_lexer": "ipython3",
   "version": "3.8.8"
  }
 },
 "nbformat": 4,
 "nbformat_minor": 5
}
