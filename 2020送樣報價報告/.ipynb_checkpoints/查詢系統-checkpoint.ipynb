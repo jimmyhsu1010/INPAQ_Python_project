{
 "cells": [
  {
   "cell_type": "code",
   "execution_count": 1,
   "metadata": {},
   "outputs": [],
   "source": [
    "import pandas as pd\n",
    "pd.set_option(\"display.max_rows\", 8)\n",
    "pd.set_option(\"display.max_columns\", None)"
   ]
  },
  {
   "cell_type": "code",
   "execution_count": 2,
   "metadata": {},
   "outputs": [],
   "source": [
    "import tkinter as tk\n",
    "from tkinter import filedialog"
   ]
  },
  {
   "cell_type": "code",
   "execution_count": 28,
   "metadata": {},
   "outputs": [
    {
     "name": "stdout",
     "output_type": "stream",
     "text": [
      "請選擇要打開的檔案\n",
      "請選擇要開啟的活頁簿：（結束請按0）\n",
      "1 Dashboard\n",
      "2 元件天線客戶貢獻度\n",
      "3 各年份實績樞紐流動\n",
      "4 20192020實績折線圖\n",
      "5 2020累積實績固定\n",
      "6 固定實績樞紐\n",
      "7 2020預算固定表\n",
      "8 2020預算流動\n",
      "9 Amber週報用預算\n",
      "10 全年預算by person\n",
      "11 2020預算\n",
      "12 客戶 年份樞紐\n",
      "13 各類別圓餅圖\n",
      "14 業務實績排名\n",
      "15 各客戶成長率\n",
      "16 Weekly report\n",
      "17 週報更新用樞紐\n",
      "18 Amber週報用格式\n",
      "19 差異分析用樞紐\n",
      "20 天線出貨量樞紐\n",
      "21 元件出貨量直條圖\n",
      "22 Cathy客戶樞紐\n",
      "23 給二廠的Teltonika數據\n",
      "24 每月15號左右給Wiley的圖表\n",
      "25 固定天線當月實績\n",
      "26 LF ODM\n",
      "27 總實績表格for Amber\n",
      "28 出貨明細\n",
      "29 2021業績總表 (2) Mohan+Kai Edited\n",
      "30 工作表3\n",
      "31 Wurth開會報告用\n",
      "32 分類命名表\n",
      "33 工作表1\n",
      "34 成長率byBG\n",
      "35 2021預算固定表\n",
      "36 2021預算流動\n",
      "37 華新科By BU分析\n",
      "38 2021預算總表\n",
      "39 2021年實績預算達成率\n",
      "28\n",
      "請繼續選擇\n",
      "0\n",
      "結束\n"
     ]
    }
   ],
   "source": [
    "print(\"請選擇要打開的檔案\")\n",
    "root = tk.Tk()\n",
    "root.withdraw()\n",
    "file_path = filedialog.askopenfilename()\n",
    "df = pd.read_excel(file_path, None)\n",
    "\n",
    "df_menu = {}\n",
    "for i, j in enumerate(list(df.keys())):\n",
    "    df_menu.setdefault(i+1, j)\n",
    "    \n",
    "print(\"請選擇要開啟的活頁簿：（結束請按0）\")\n",
    "for k, v in df_menu.items():\n",
    "    print(k, v)\n",
    "    \n",
    "slct_list = []\n",
    "while True:\n",
    "    slct_file = eval(input())\n",
    "    if slct_file != 0:\n",
    "        slct_list.append(slct_file)\n",
    "        print(\"請繼續選擇\")\n",
    "    else:\n",
    "        print(\"結束\")\n",
    "        break\n",
    "        \n",
    "for i in slct_list:\n",
    "    globals()[\"df\" + str(i)] = df[df_menu[i]]"
   ]
  },
  {
   "cell_type": "code",
   "execution_count": 33,
   "metadata": {},
   "outputs": [],
   "source": [
    "df = df28"
   ]
  },
  {
   "cell_type": "code",
   "execution_count": 34,
   "metadata": {},
   "outputs": [],
   "source": [
    "df = df[(df[\"負責業務\"] == \"許凱智\") & (df[\"預交年份\"].isin([2020,2021]))]"
   ]
  },
  {
   "cell_type": "code",
   "execution_count": 42,
   "metadata": {},
   "outputs": [
    {
     "name": "stdout",
     "output_type": "stream",
     "text": [
      "1 TELTONIKA\n",
      "2 信昌\n",
      "3 華新科技\n",
      "4 MT-SYSTEM\n",
      "5 TE\n",
      "6 藝感\n",
      "7 VTech\n",
      "8 Zebra\n",
      "請選擇代理商：1\n",
      "請輸入品名WCI1005AN8N2_E\n",
      "0.0\n"
     ]
    },
    {
     "ename": "KeyboardInterrupt",
     "evalue": "Interrupted by user",
     "output_type": "error",
     "traceback": [
      "\u001b[1;31m---------------------------------------------------------------------------\u001b[0m",
      "\u001b[1;31mKeyboardInterrupt\u001b[0m                         Traceback (most recent call last)",
      "\u001b[1;32m<ipython-input-42-e6502776d30c>\u001b[0m in \u001b[0;36m<module>\u001b[1;34m\u001b[0m\n\u001b[0;32m      8\u001b[0m \u001b[1;33m\u001b[0m\u001b[0m\n\u001b[0;32m      9\u001b[0m \u001b[1;32mwhile\u001b[0m \u001b[1;32mTrue\u001b[0m\u001b[1;33m:\u001b[0m\u001b[1;33m\u001b[0m\u001b[1;33m\u001b[0m\u001b[0m\n\u001b[1;32m---> 10\u001b[1;33m     \u001b[0mdisti\u001b[0m \u001b[1;33m=\u001b[0m \u001b[0meval\u001b[0m\u001b[1;33m(\u001b[0m\u001b[0minput\u001b[0m\u001b[1;33m(\u001b[0m\u001b[1;34m\"請選擇代理商：\"\u001b[0m\u001b[1;33m)\u001b[0m\u001b[1;33m)\u001b[0m\u001b[1;33m\u001b[0m\u001b[1;33m\u001b[0m\u001b[0m\n\u001b[0m\u001b[0;32m     11\u001b[0m     \u001b[1;32mif\u001b[0m \u001b[0mdisti\u001b[0m \u001b[1;33m!=\u001b[0m \u001b[1;36m0\u001b[0m\u001b[1;33m:\u001b[0m\u001b[1;33m\u001b[0m\u001b[1;33m\u001b[0m\u001b[0m\n\u001b[0;32m     12\u001b[0m         \u001b[0mdisti_filter\u001b[0m \u001b[1;33m=\u001b[0m \u001b[1;33m(\u001b[0m\u001b[0mdf\u001b[0m\u001b[1;33m[\u001b[0m\u001b[1;34m\"Group\"\u001b[0m\u001b[1;33m]\u001b[0m \u001b[1;33m==\u001b[0m \u001b[0mdisti_menu\u001b[0m\u001b[1;33m[\u001b[0m\u001b[0mdisti\u001b[0m\u001b[1;33m]\u001b[0m\u001b[1;33m)\u001b[0m\u001b[1;33m\u001b[0m\u001b[1;33m\u001b[0m\u001b[0m\n",
      "\u001b[1;32md:\\gui_project\\venv\\lib\\site-packages\\ipykernel\\kernelbase.py\u001b[0m in \u001b[0;36mraw_input\u001b[1;34m(self, prompt)\u001b[0m\n\u001b[0;32m    858\u001b[0m                 \u001b[1;34m\"raw_input was called, but this frontend does not support input requests.\"\u001b[0m\u001b[1;33m\u001b[0m\u001b[1;33m\u001b[0m\u001b[0m\n\u001b[0;32m    859\u001b[0m             )\n\u001b[1;32m--> 860\u001b[1;33m         return self._input_request(str(prompt),\n\u001b[0m\u001b[0;32m    861\u001b[0m             \u001b[0mself\u001b[0m\u001b[1;33m.\u001b[0m\u001b[0m_parent_ident\u001b[0m\u001b[1;33m,\u001b[0m\u001b[1;33m\u001b[0m\u001b[1;33m\u001b[0m\u001b[0m\n\u001b[0;32m    862\u001b[0m             \u001b[0mself\u001b[0m\u001b[1;33m.\u001b[0m\u001b[0m_parent_header\u001b[0m\u001b[1;33m,\u001b[0m\u001b[1;33m\u001b[0m\u001b[1;33m\u001b[0m\u001b[0m\n",
      "\u001b[1;32md:\\gui_project\\venv\\lib\\site-packages\\ipykernel\\kernelbase.py\u001b[0m in \u001b[0;36m_input_request\u001b[1;34m(self, prompt, ident, parent, password)\u001b[0m\n\u001b[0;32m    902\u001b[0m             \u001b[1;32mexcept\u001b[0m \u001b[0mKeyboardInterrupt\u001b[0m\u001b[1;33m:\u001b[0m\u001b[1;33m\u001b[0m\u001b[1;33m\u001b[0m\u001b[0m\n\u001b[0;32m    903\u001b[0m                 \u001b[1;31m# re-raise KeyboardInterrupt, to truncate traceback\u001b[0m\u001b[1;33m\u001b[0m\u001b[1;33m\u001b[0m\u001b[1;33m\u001b[0m\u001b[0m\n\u001b[1;32m--> 904\u001b[1;33m                 \u001b[1;32mraise\u001b[0m \u001b[0mKeyboardInterrupt\u001b[0m\u001b[1;33m(\u001b[0m\u001b[1;34m\"Interrupted by user\"\u001b[0m\u001b[1;33m)\u001b[0m \u001b[1;32mfrom\u001b[0m \u001b[1;32mNone\u001b[0m\u001b[1;33m\u001b[0m\u001b[1;33m\u001b[0m\u001b[0m\n\u001b[0m\u001b[0;32m    905\u001b[0m             \u001b[1;32mexcept\u001b[0m \u001b[0mException\u001b[0m \u001b[1;32mas\u001b[0m \u001b[0me\u001b[0m\u001b[1;33m:\u001b[0m\u001b[1;33m\u001b[0m\u001b[1;33m\u001b[0m\u001b[0m\n\u001b[0;32m    906\u001b[0m                 \u001b[0mself\u001b[0m\u001b[1;33m.\u001b[0m\u001b[0mlog\u001b[0m\u001b[1;33m.\u001b[0m\u001b[0mwarning\u001b[0m\u001b[1;33m(\u001b[0m\u001b[1;34m\"Invalid Message:\"\u001b[0m\u001b[1;33m,\u001b[0m \u001b[0mexc_info\u001b[0m\u001b[1;33m=\u001b[0m\u001b[1;32mTrue\u001b[0m\u001b[1;33m)\u001b[0m\u001b[1;33m\u001b[0m\u001b[1;33m\u001b[0m\u001b[0m\n",
      "\u001b[1;31mKeyboardInterrupt\u001b[0m: Interrupted by user"
     ]
    }
   ],
   "source": [
    "disti_list = df[\"Group\"].unique().tolist()\n",
    "disti_menu = {}\n",
    "for i, j in enumerate(disti_list):\n",
    "    disti_menu.setdefault(i+1, j)\n",
    "    \n",
    "for k, v in disti_menu.items():\n",
    "    print(k, v)\n",
    "\n",
    "while True:\n",
    "    disti = eval(input(\"請選擇代理商：\"))\n",
    "    if disti != 0:\n",
    "        disti_filter = (df[\"Group\"] == disti_menu[disti])\n",
    "        part_num = input(\"請輸入品名\")\n",
    "        part_num_filter = (df[\"品名\"] == part_num)\n",
    "        print(df[part_num_filter & disti_filter][\"本國幣別NTD\"].sum())\n",
    "    else:\n",
    "        print(\"查詢結束\")\n",
    "        break\n",
    "\n"
   ]
  },
  {
   "cell_type": "code",
   "execution_count": 40,
   "metadata": {},
   "outputs": [
    {
     "data": {
      "text/plain": [
       "46792.64"
      ]
     },
     "execution_count": 40,
     "metadata": {},
     "output_type": "execute_result"
    }
   ],
   "source": [
    "df[(df[\"Group\"] == \"TELTONIKA\") & (df[\"品名\"] == \"WMM0630PX-100M\")][\"本國幣別NTD\"].sum()"
   ]
  },
  {
   "cell_type": "code",
   "execution_count": null,
   "metadata": {},
   "outputs": [],
   "source": [
    "df"
   ]
  }
 ],
 "metadata": {
  "kernelspec": {
   "display_name": "Python 3",
   "language": "python",
   "name": "python3"
  },
  "language_info": {
   "codemirror_mode": {
    "name": "ipython",
    "version": 3
   },
   "file_extension": ".py",
   "mimetype": "text/x-python",
   "name": "python",
   "nbconvert_exporter": "python",
   "pygments_lexer": "ipython3",
   "version": "3.8.5"
  }
 },
 "nbformat": 4,
 "nbformat_minor": 4
}
