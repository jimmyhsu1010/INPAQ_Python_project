{
 "cells": [
  {
   "cell_type": "code",
   "execution_count": 75,
   "metadata": {},
   "outputs": [],
   "source": [
    "import pandas as pd\n",
    "pd.set_option(\"display.max_rows\", None)\n",
    "pd.set_option(\"display.max_columns\", None)\n",
    "pd.set_option(\"display.float_format\", lambda x: \"%.2f\" % x)"
   ]
  },
  {
   "cell_type": "code",
   "execution_count": 2,
   "metadata": {},
   "outputs": [],
   "source": [
    "import tkinter as tk\n",
    "from tkinter import filedialog"
   ]
  },
  {
   "cell_type": "markdown",
   "metadata": {},
   "source": [
    "### 選擇檔案來開啟"
   ]
  },
  {
   "cell_type": "code",
   "execution_count": 6,
   "metadata": {},
   "outputs": [
    {
     "name": "stdout",
     "output_type": "stream",
     "text": [
      "C:/Users/kaihsu/Desktop/Price Quote list 20210111.xlsx\n"
     ]
    }
   ],
   "source": [
    "root = tk.Tk()\n",
    "root.withdraw()\n",
    "file_path = filedialog.askopenfilename()\n",
    "print(file_path)"
   ]
  },
  {
   "cell_type": "code",
   "execution_count": 8,
   "metadata": {},
   "outputs": [],
   "source": [
    "df = pd.read_excel(file_path, None)"
   ]
  },
  {
   "cell_type": "code",
   "execution_count": 16,
   "metadata": {},
   "outputs": [],
   "source": [
    "df_menu = {}\n",
    "for i, j in enumerate(list(df.keys())):\n",
    "    df_menu.setdefault(i+1, j)"
   ]
  },
  {
   "cell_type": "code",
   "execution_count": 37,
   "metadata": {},
   "outputs": [
    {
     "name": "stdout",
     "output_type": "stream",
     "text": [
      "請選擇要開啟的檔案：(結束請按0)\n",
      "1 Antenna\n",
      "2 Components\n",
      "3 Com_No reference\n",
      "1\n",
      "請繼續輸入\n",
      "2\n",
      "請繼續輸入\n",
      "0\n",
      "程式結束\n"
     ]
    }
   ],
   "source": [
    "print(\"請選擇要開啟的檔案：(結束請按0)\")\n",
    "for k, v in df_menu.items():\n",
    "    print(k, v)\n",
    "\n",
    "slct_list = []\n",
    "while True:\n",
    "    slct_file = eval(input())\n",
    "    if slct_file != 0:\n",
    "        slct_list.append(slct_file)\n",
    "        print(\"請繼續輸入\")\n",
    "    else:\n",
    "        print(\"程式結束\")\n",
    "        break"
   ]
  },
  {
   "cell_type": "code",
   "execution_count": 44,
   "metadata": {},
   "outputs": [],
   "source": [
    "for i in slct_list:\n",
    "    globals()[\"df\" + str(i)] = df[df_menu[i]]"
   ]
  },
  {
   "cell_type": "code",
   "execution_count": 51,
   "metadata": {},
   "outputs": [],
   "source": [
    "df1 = df1[df1[\"Sales\"].isin([\"Misha\", \"MIsha\", \"Kai\"])]"
   ]
  },
  {
   "cell_type": "code",
   "execution_count": 58,
   "metadata": {},
   "outputs": [],
   "source": [
    "df1.columns = df1.columns.str.strip()"
   ]
  },
  {
   "cell_type": "code",
   "execution_count": 64,
   "metadata": {
    "scrolled": true
   },
   "outputs": [
    {
     "name": "stderr",
     "output_type": "stream",
     "text": [
      "<ipython-input-64-e109bc72b3bf>:1: SettingWithCopyWarning: \n",
      "A value is trying to be set on a copy of a slice from a DataFrame.\n",
      "Try using .loc[row_indexer,col_indexer] = value instead\n",
      "\n",
      "See the caveats in the documentation: https://pandas.pydata.org/pandas-docs/stable/user_guide/indexing.html#returning-a-view-versus-a-copy\n",
      "  df1[\"Date\"] = pd.to_datetime(df1.loc[:, \"Date\"], yearfirst=True)\n"
     ]
    }
   ],
   "source": [
    "df1[\"Date\"] = pd.to_datetime(df1.loc[:, \"Date\"], yearfirst=True)"
   ]
  },
  {
   "cell_type": "code",
   "execution_count": 70,
   "metadata": {},
   "outputs": [],
   "source": [
    "df1 = df1[df1[\"Date\"].between(\"2020-01-01\", \"2020-12-31\")].reset_index(drop=True)"
   ]
  },
  {
   "cell_type": "code",
   "execution_count": 93,
   "metadata": {},
   "outputs": [],
   "source": [
    "df1 = df1[[\"Date\", \"customer\", \"end customer\", \"Project name\", \"P/N\", \"Price\"]]"
   ]
  },
  {
   "cell_type": "code",
   "execution_count": 85,
   "metadata": {},
   "outputs": [],
   "source": [
    "df2 = df2[df2[\"Date\"].between(\"2020-01-01\", \"2020-12-31\")].reset_index(drop=True)"
   ]
  },
  {
   "cell_type": "code",
   "execution_count": 91,
   "metadata": {},
   "outputs": [],
   "source": [
    "df2 = df2[[\"Date\", \"Customer\", \"End Customer\", \"Application\", \"Inpaq PN\", \"Inpaq Price(USD/Kpcs)\"]]"
   ]
  },
  {
   "cell_type": "code",
   "execution_count": 94,
   "metadata": {},
   "outputs": [],
   "source": [
    "columns = [\"Date\", \"Distributor\", \"End Customer\", \"Application\", \"P/N\", \"Price(Component in USD/Kpcs)\"]\n",
    "df1.columns = columns\n",
    "df2.columns = columns"
   ]
  },
  {
   "cell_type": "code",
   "execution_count": 96,
   "metadata": {},
   "outputs": [
    {
     "name": "stderr",
     "output_type": "stream",
     "text": [
      "<ipython-input-96-d83d7df71fa7>:2: SettingWithCopyWarning: \n",
      "A value is trying to be set on a copy of a slice from a DataFrame.\n",
      "Try using .loc[row_indexer,col_indexer] = value instead\n",
      "\n",
      "See the caveats in the documentation: https://pandas.pydata.org/pandas-docs/stable/user_guide/indexing.html#returning-a-view-versus-a-copy\n",
      "  df2[\"Type\"] = \"Component\"\n"
     ]
    }
   ],
   "source": [
    "df1[\"Type\"] = \"RF\"\n",
    "df2[\"Type\"] = \"Component\""
   ]
  },
  {
   "cell_type": "code",
   "execution_count": 98,
   "metadata": {},
   "outputs": [],
   "source": [
    "result = pd.concat([df1, df2], axis=0)"
   ]
  },
  {
   "cell_type": "code",
   "execution_count": 101,
   "metadata": {},
   "outputs": [],
   "source": [
    "result = result.reset_index(drop=True)"
   ]
  },
  {
   "cell_type": "code",
   "execution_count": 104,
   "metadata": {},
   "outputs": [],
   "source": [
    "disti_keys = ['Digital Matter', 'Teltonika', 'Mt System', 'Zebra', 'Teltonika ',\n",
    "       'MT-System']\n",
    "disti_values = ['Digital Matter', 'TELTONIKA', 'MT-SYSTEM', 'Zebra', 'TELTONIKA',\n",
    "       'MT-SYSTEM']\n",
    "disti_dict = dict(zip(disti_keys, disti_values))\n"
   ]
  },
  {
   "cell_type": "code",
   "execution_count": 105,
   "metadata": {},
   "outputs": [],
   "source": [
    "result[\"Distributor\"] = result[\"Distributor\"].map(disti_dict)"
   ]
  },
  {
   "cell_type": "code",
   "execution_count": 111,
   "metadata": {},
   "outputs": [
    {
     "name": "stdout",
     "output_type": "stream",
     "text": [
      "請輸入要建立的檔案名稱:2020報價記錄final版\n"
     ]
    }
   ],
   "source": [
    "root = tk.Tk()\n",
    "root.withdraw()\n",
    "file_path = filedialog.askdirectory()\n",
    "file_name = input(\"請輸入要建立的檔案名稱:\")\n",
    "result.to_excel(file_path + \"/\" + file_name + \".xlsx\", index=False)\n"
   ]
  },
  {
   "cell_type": "code",
   "execution_count": null,
   "metadata": {},
   "outputs": [],
   "source": []
  }
 ],
 "metadata": {
  "kernelspec": {
   "display_name": "Python 3",
   "language": "python",
   "name": "python3"
  },
  "language_info": {
   "codemirror_mode": {
    "name": "ipython",
    "version": 3
   },
   "file_extension": ".py",
   "mimetype": "text/x-python",
   "name": "python",
   "nbconvert_exporter": "python",
   "pygments_lexer": "ipython3",
   "version": "3.8.5"
  }
 },
 "nbformat": 4,
 "nbformat_minor": 4
}
