{
 "cells": [
  {
   "cell_type": "code",
   "execution_count": 1,
   "metadata": {},
   "outputs": [],
   "source": [
    "import pandas as pd\n",
    "pd.set_option(\"display.max_rows\", 10)\n",
    "pd.set_option(\"display.max_columns\", None)\n",
    "pd.set_option(\"display.float_format\", lambda x: \"%.0f\" % x)"
   ]
  },
  {
   "cell_type": "code",
   "execution_count": 2,
   "metadata": {},
   "outputs": [],
   "source": [
    "import tkinter as tk\n",
    "from tkinter import filedialog"
   ]
  },
  {
   "cell_type": "code",
   "execution_count": 3,
   "metadata": {},
   "outputs": [],
   "source": [
    "import plotly.express as px"
   ]
  },
  {
   "cell_type": "code",
   "execution_count": 26,
   "metadata": {},
   "outputs": [],
   "source": [
    "rf = pd.read_excel(r\"D:\\公司內部有的沒有的\\送樣追蹤\\2020年樣品報告\\2019 RF sample list_2020.1.2.xlsx\", None)"
   ]
  },
  {
   "cell_type": "code",
   "execution_count": 27,
   "metadata": {},
   "outputs": [],
   "source": [
    "rf = rf[\"sample list\"]"
   ]
  },
  {
   "cell_type": "code",
   "execution_count": 28,
   "metadata": {},
   "outputs": [],
   "source": [
    "rf = rf.drop(['Unnamed: 26', 'Unnamed: 27', 'Unnamed: 28', 'Unnamed: 29',\n",
    "       'Unnamed: 30'], axis=1)"
   ]
  },
  {
   "cell_type": "code",
   "execution_count": 29,
   "metadata": {},
   "outputs": [
    {
     "data": {
      "text/plain": [
       "array(['蕭聿珺', '楊星', '廖淑慧', '葉博瑜', '方喬毅', '黎欣然', '閆小攀', '劉雅筑', '張皓雲', '李麗',\n",
       "       '黃君齊', '周彥宏', '馬建軍', '墨漢雷迪', '楊婉芬', '浦逸婷', '胡景嵐', '謝嘉倩', '吳志鴻',\n",
       "       '張煌明', '梁靜華', '蔡嘉峻', '呂芳澤', '林育嘉', '林沛瑤', '謝雅迪', '李百京', '田志國',\n",
       "       '伏婧', '周雲山', '沈思明', '郭成偉', '墨漢', '籍翔', '張現珍', '靳安軍', '戴文婷', '李宏',\n",
       "       '黃志騰', '林郁庭', '林智淇', '王震斌', '謝秀蘭', '劉霞', '周靜', '許凱智', '吳金依', '朱罕',\n",
       "       '閻小攀', '戴彥如', '許飛洋', '陳依莉', '谷仍江', '楊騰燦', '馬惠玟', '郭瑞虎', '陳雅嫻',\n",
       "       '詹欣財', '武麗媛', '馬姍姍', '謝宏谷'], dtype=object)"
      ]
     },
     "execution_count": 29,
     "metadata": {},
     "output_type": "execute_result"
    }
   ],
   "source": [
    "rf[\"業務員\"].unique()"
   ]
  },
  {
   "cell_type": "code",
   "execution_count": 30,
   "metadata": {
    "scrolled": true
   },
   "outputs": [],
   "source": [
    "rf = rf[(rf[\"開單日期\"].between(\"2020-01-01\", \"2020-12-31\")) & (rf[\"業務員\"].isin([\"周彥宏\", \"許凱智\"]))]"
   ]
  },
  {
   "cell_type": "code",
   "execution_count": 38,
   "metadata": {},
   "outputs": [],
   "source": [
    "rf = rf[[\"業務員\", \"樣品編號\", \"項次\", \"開單日期\", \"代理商\", \"客戶\", \"實際完成日\", \"GPS SAMPLE\", \"數量\", \"單位\", \"量產\"]]"
   ]
  },
  {
   "cell_type": "code",
   "execution_count": 41,
   "metadata": {},
   "outputs": [],
   "source": [
    "rf = rf[~(rf[\"單位\"] == \"PDF\")]"
   ]
  },
  {
   "cell_type": "code",
   "execution_count": 44,
   "metadata": {},
   "outputs": [],
   "source": [
    "rf = rf.drop(\"量產\", axis=1)"
   ]
  },
  {
   "cell_type": "code",
   "execution_count": 50,
   "metadata": {},
   "outputs": [],
   "source": [
    "cus_keys = rf[\"客戶\"].unique().tolist()\n",
    "cus_values = ['Zebra', 'MT-SYSTEM', 'TELTONIKA', 'Nu Visio', 'Shtrikh-M', 'Ruptela',\n",
    "       'Vinfast', '華新科技', 'Energomea', 'Fort-Telecom', 'Shtrikh-M', 'X-Keeper',\n",
    "       'Omnicomm', 'Autosystem', 'AZS-Prib', 'Vniir-progress', 'NIIMA',\n",
    "       'Fort-telecom', 'Itelma', 'GS', ' Autosystem', 'Vniir-progress', 'Skaut',\n",
    "       'Ultrastar', 'Relero', 'VTech', 'X-Keeper', 'INNOPRO', 'Omnicomm',\n",
    "       'Saturn N', 'Gribov', 'GAODI', 'SmartD', 'Autosystem', 'Pantes']\n",
    "cus_dict = dict(zip(cus_keys, cus_values))\n",
    "rf[\"客戶\"] = rf[\"客戶\"].map(cus_dict)"
   ]
  },
  {
   "cell_type": "code",
   "execution_count": 53,
   "metadata": {},
   "outputs": [],
   "source": [
    "dis_keys = rf[\"代理商\"].unique().tolist()\n",
    "dis_values = ['Zebra', 'MT-SYSTEM', 'TELTONIKA', 'Digital Ma', 'Ruptela', 'At-Com',\n",
    "       '華新科技', 'VTech']\n",
    "dis_dict = dict(zip(dis_keys, dis_values))\n",
    "rf[\"代理商\"] = rf[\"代理商\"].map(dis_dict)"
   ]
  },
  {
   "cell_type": "code",
   "execution_count": 67,
   "metadata": {},
   "outputs": [],
   "source": [
    "rf.loc[8237, \"實際完成日\"] = \"2020-9-28\""
   ]
  },
  {
   "cell_type": "code",
   "execution_count": 71,
   "metadata": {},
   "outputs": [],
   "source": [
    "rf[\"實際完成日\"] = pd.to_datetime(rf[\"實際完成日\"], yearfirst=True)"
   ]
  },
  {
   "cell_type": "code",
   "execution_count": 79,
   "metadata": {},
   "outputs": [
    {
     "data": {
      "text/plain": [
       "3235      20\n",
       "3444     100\n",
       "3485      30\n",
       "3486       2\n",
       "3515       1\n",
       "        ... \n",
       "10972      5\n",
       "10973      5\n",
       "10974      5\n",
       "11053      6\n",
       "11054      6\n",
       "Name: 數量, Length: 109, dtype: int32"
      ]
     },
     "execution_count": 79,
     "metadata": {},
     "output_type": "execute_result"
    }
   ],
   "source": [
    "rf[\"數量\"].astype(\"int\")"
   ]
  },
  {
   "cell_type": "code",
   "execution_count": 84,
   "metadata": {},
   "outputs": [],
   "source": [
    "rf[\"業務員\"] = rf[\"業務員\"].map(lambda x: \"許凱智\" if x == \"周彥宏\" else x)"
   ]
  },
  {
   "cell_type": "markdown",
   "metadata": {},
   "source": [
    "### 處理元件送樣數據"
   ]
  },
  {
   "cell_type": "code",
   "execution_count": 93,
   "metadata": {},
   "outputs": [],
   "source": [
    "com = pd.read_excel(r\"D:\\公司內部有的沒有的\\送樣追蹤\\2020年樣品報告\\2020元件 sample list.xlsx\", None)"
   ]
  },
  {
   "cell_type": "code",
   "execution_count": 95,
   "metadata": {},
   "outputs": [],
   "source": [
    "com = com['樣品訂單分析表_data (2)']"
   ]
  },
  {
   "cell_type": "code",
   "execution_count": 102,
   "metadata": {},
   "outputs": [],
   "source": [
    "com = com[['業務員', '樣品編號', '開單日期2', '代理商',\n",
    "       '客戶', '實際完成日2', '產品分類',\n",
    "       '品名', '單位', '數量', '項次']]"
   ]
  },
  {
   "cell_type": "code",
   "execution_count": 104,
   "metadata": {},
   "outputs": [],
   "source": [
    "com = com.rename(columns={\"開單日期2\": \"開單日期\", \"實際完成日2\": \"實際完成日\"})"
   ]
  },
  {
   "cell_type": "code",
   "execution_count": 109,
   "metadata": {},
   "outputs": [],
   "source": [
    "com = com[(com[\"業務員\"].isin([\"周彥宏\", \"許凱智\"])) & (com[\"開單日期\"].between(\"2020-01-01\", \"2020-12-31\"))]"
   ]
  },
  {
   "cell_type": "code",
   "execution_count": 123,
   "metadata": {},
   "outputs": [],
   "source": [
    "com = com[~(com[\"單位\"].isin([\"PDF\", \"EA\", \"DOCU\", \"G\"]))]"
   ]
  },
  {
   "cell_type": "code",
   "execution_count": 133,
   "metadata": {},
   "outputs": [],
   "source": [
    "com = com.drop(\"產品分類\", axis=1)"
   ]
  },
  {
   "cell_type": "code",
   "execution_count": 135,
   "metadata": {},
   "outputs": [],
   "source": [
    "com = com.reindex(columns=['業務員', '樣品編號', '項次', '開單日期', '代理商', '客戶', '實際完成日', '品名', '數量',\n",
    "       '單位'])"
   ]
  },
  {
   "cell_type": "code",
   "execution_count": 137,
   "metadata": {},
   "outputs": [],
   "source": [
    "rf.columns= ['業務員', '樣品編號', '項次', '開單日期', '代理商', '客戶', '實際完成日', '品名', '數量',\n",
    "       '單位']"
   ]
  },
  {
   "cell_type": "code",
   "execution_count": 142,
   "metadata": {
    "scrolled": true
   },
   "outputs": [],
   "source": [
    "com_dis_keys = com[\"代理商\"].unique().tolist()\n",
    "com_dis_values = ['MT-SYSTEM', 'MT-SYSTEM', '華新科技', '信昌', 'TELTONIKA', 'VTech', 'Zebra',\n",
    "       '華新科技', 'WUR', '藝感', 'Kamaya', 'Kamaya Malaysia', 'At-Com', 'Digital Ma',\n",
    "       'MT-SYSTEM', 'MT-SYSTEM', 'Laird']\n",
    "com_dis_dict = dict(zip(com_dis_keys, com_dis_values))\n",
    "com[\"代理商\"] = com[\"代理商\"].map(com_dis_dict)"
   ]
  },
  {
   "cell_type": "code",
   "execution_count": 146,
   "metadata": {},
   "outputs": [],
   "source": [
    "com_cus_keys = com[\"客戶\"].unique().tolist()\n",
    "com_cus_values = ['MT-SYSTEM', 'MT-SYSTEM', '華新科技', '信昌', 'TELTONIKA', 'VTech', 'INNOPRO',\n",
    "       'Omnicomm', 'Autosystem', 'X-Keeper', 'Itelma', 'Zebra', '華新科技',\n",
    "       'Shtrikh-M', 'WUR', 'X-Keeper', '藝感', 'Perco', 'Fort-Telecom',\n",
    "       'Shtrikh-M', 'Massa-K', 'X-Keeper', 'Omnicomm', 'Autosystem',\n",
    "       'Kamaya', 'Kamaya Malaysia', 'Fort-Telecom', 'Saturn N', 'Gribov', 'SmartD',\n",
    "       'Pantes', 'Vinfast', 'Vniir-progress', 'Atol', 'Nu Visio', 'Energomera',\n",
    "       '3Logic', 'Noris', 'Emzior', 'Ultrastar', 'Relero', 'Vega', 'GAODI',\n",
    "       'NIIMA', 'GS', ' Autosystem', 'Vniir-progress', 'Skaut', 'Laird', 'Practic',\n",
    "       'Ericon-S', 'Practik', 'Ericon-S', 'Craftway', 'Evator']\n",
    "com_cus_dict = dict(zip(com_cus_keys, com_cus_values))\n",
    "com[\"客戶\"] = com[\"客戶\"].map(com_cus_dict)"
   ]
  },
  {
   "cell_type": "code",
   "execution_count": 154,
   "metadata": {},
   "outputs": [],
   "source": [
    "com[\"業務員\"] = com[\"業務員\"].map(lambda x: \"許凱智\" if x == \"周彥宏\" else x)"
   ]
  },
  {
   "cell_type": "code",
   "execution_count": 157,
   "metadata": {},
   "outputs": [],
   "source": [
    "result = pd.concat([com, rf], axis=0)"
   ]
  },
  {
   "cell_type": "code",
   "execution_count": 160,
   "metadata": {},
   "outputs": [],
   "source": [
    "result = result.drop_duplicates(subset=[\"樣品編號\", \"開單日期\", \"代理商\", \"品名\"], keep=\"last\")"
   ]
  },
  {
   "cell_type": "code",
   "execution_count": 166,
   "metadata": {},
   "outputs": [],
   "source": [
    "result = result[result[\"實際完成日\"].notna()].reset_index(drop=True)"
   ]
  },
  {
   "cell_type": "code",
   "execution_count": 174,
   "metadata": {
    "scrolled": true
   },
   "outputs": [],
   "source": [
    "result = result[~(result[\"代理商\"].isin([\"WUR\", \"Laird\", \"Digital Ma\", \"At-Com\"]))]"
   ]
  },
  {
   "cell_type": "code",
   "execution_count": 178,
   "metadata": {},
   "outputs": [
    {
     "name": "stderr",
     "output_type": "stream",
     "text": [
      "<ipython-input-178-e83282791e62>:1: SettingWithCopyWarning:\n",
      "\n",
      "\n",
      "A value is trying to be set on a copy of a slice from a DataFrame.\n",
      "Try using .loc[row_indexer,col_indexer] = value instead\n",
      "\n",
      "See the caveats in the documentation: https://pandas.pydata.org/pandas-docs/stable/user_guide/indexing.html#returning-a-view-versus-a-copy\n",
      "\n"
     ]
    }
   ],
   "source": [
    "result[\"品名\"] = result[\"品名\"].str.strip()"
   ]
  },
  {
   "cell_type": "code",
   "execution_count": 181,
   "metadata": {},
   "outputs": [
    {
     "name": "stderr",
     "output_type": "stream",
     "text": [
      "<ipython-input-181-c4f4a4c05cf8>:1: SettingWithCopyWarning:\n",
      "\n",
      "\n",
      "A value is trying to be set on a copy of a slice from a DataFrame.\n",
      "Try using .loc[row_indexer,col_indexer] = value instead\n",
      "\n",
      "See the caveats in the documentation: https://pandas.pydata.org/pandas-docs/stable/user_guide/indexing.html#returning-a-view-versus-a-copy\n",
      "\n"
     ]
    }
   ],
   "source": [
    "result[\"x\"] = result[\"品名\"].str[0:4]"
   ]
  },
  {
   "cell_type": "code",
   "execution_count": 184,
   "metadata": {
    "scrolled": true
   },
   "outputs": [
    {
     "name": "stderr",
     "output_type": "stream",
     "text": [
      "<ipython-input-184-1d9492344b24>:1: SettingWithCopyWarning:\n",
      "\n",
      "\n",
      "A value is trying to be set on a copy of a slice from a DataFrame.\n",
      "Try using .loc[row_indexer,col_indexer] = value instead\n",
      "\n",
      "See the caveats in the documentation: https://pandas.pydata.org/pandas-docs/stable/user_guide/indexing.html#returning-a-view-versus-a-copy\n",
      "\n"
     ]
    }
   ],
   "source": [
    "result[\"分類\"] = result[\"x\"].map(bu_dict)"
   ]
  },
  {
   "cell_type": "code",
   "execution_count": 189,
   "metadata": {},
   "outputs": [],
   "source": [
    "result = result.drop(\"x\", axis=1)"
   ]
  },
  {
   "cell_type": "code",
   "execution_count": 191,
   "metadata": {},
   "outputs": [],
   "source": [
    "result.to_excel(r\"D:\\公司內部有的沒有的\\送樣追蹤\\2020年樣品報告\\2020整合完畢sample_list.xlsx\", index=False)"
   ]
  },
  {
   "cell_type": "code",
   "execution_count": 170,
   "metadata": {},
   "outputs": [],
   "source": [
    "bu_code = pd.read_clipboard()"
   ]
  },
  {
   "cell_type": "code",
   "execution_count": 172,
   "metadata": {},
   "outputs": [],
   "source": [
    "keys = bu_code[\"Code\"]\n",
    "values = bu_code[\"BG\"]\n",
    "bu_dict = dict(zip(keys, values))"
   ]
  },
  {
   "cell_type": "markdown",
   "metadata": {},
   "source": [
    "### 開始繪圖"
   ]
  },
  {
   "cell_type": "code",
   "execution_count": 88,
   "metadata": {
    "collapsed": true
   },
   "outputs": [
    {
     "data": {
      "application/vnd.plotly.v1+json": {
       "config": {
        "plotlyServerURL": "https://plot.ly"
       },
       "data": [
        {
         "alignmentgroup": "True",
         "bingroup": "x",
         "hovertemplate": "代理商=%{x}<br>count=%{y}<extra></extra>",
         "legendgroup": "",
         "marker": {
          "color": "#636efa"
         },
         "name": "",
         "offsetgroup": "",
         "orientation": "v",
         "showlegend": false,
         "type": "histogram",
         "x": [
          "Zebra",
          "Zebra",
          "MT-SYSTEM",
          "MT-SYSTEM",
          "TELTONIKA",
          "TELTONIKA",
          "TELTONIKA",
          "Digital Ma",
          "TELTONIKA",
          "TELTONIKA",
          "TELTONIKA",
          "TELTONIKA",
          "MT-SYSTEM",
          "MT-SYSTEM",
          "MT-SYSTEM",
          "MT-SYSTEM",
          "MT-SYSTEM",
          "Ruptela",
          "Zebra",
          "Zebra",
          "At-Com",
          "MT-SYSTEM",
          "華新科技",
          "TELTONIKA",
          "MT-SYSTEM",
          "MT-SYSTEM",
          "MT-SYSTEM",
          "MT-SYSTEM",
          "MT-SYSTEM",
          "MT-SYSTEM",
          "MT-SYSTEM",
          "MT-SYSTEM",
          "MT-SYSTEM",
          "MT-SYSTEM",
          "MT-SYSTEM",
          "MT-SYSTEM",
          "TELTONIKA",
          "Zebra",
          "Zebra",
          "Zebra",
          "華新科技",
          "TELTONIKA",
          "TELTONIKA",
          "TELTONIKA",
          "MT-SYSTEM",
          "MT-SYSTEM",
          "MT-SYSTEM",
          "MT-SYSTEM",
          "MT-SYSTEM",
          "TELTONIKA",
          "TELTONIKA",
          "MT-SYSTEM",
          "MT-SYSTEM",
          "TELTONIKA",
          "MT-SYSTEM",
          "MT-SYSTEM",
          "TELTONIKA",
          "MT-SYSTEM",
          "MT-SYSTEM",
          "MT-SYSTEM",
          "MT-SYSTEM",
          "TELTONIKA",
          "MT-SYSTEM",
          "TELTONIKA",
          "TELTONIKA",
          "MT-SYSTEM",
          "TELTONIKA",
          "TELTONIKA",
          "MT-SYSTEM",
          "TELTONIKA",
          "TELTONIKA",
          "TELTONIKA",
          "MT-SYSTEM",
          "MT-SYSTEM",
          "Zebra",
          "Zebra",
          "Zebra",
          "MT-SYSTEM",
          "MT-SYSTEM",
          "MT-SYSTEM",
          "Zebra",
          "Zebra",
          "Zebra",
          "VTech",
          "MT-SYSTEM",
          "MT-SYSTEM",
          "MT-SYSTEM",
          "MT-SYSTEM",
          "MT-SYSTEM",
          "MT-SYSTEM",
          "MT-SYSTEM",
          "MT-SYSTEM",
          "MT-SYSTEM",
          "MT-SYSTEM",
          "MT-SYSTEM",
          "MT-SYSTEM",
          "TELTONIKA",
          "TELTONIKA",
          "TELTONIKA",
          "MT-SYSTEM",
          "MT-SYSTEM",
          "MT-SYSTEM",
          "MT-SYSTEM",
          "MT-SYSTEM",
          "MT-SYSTEM",
          "MT-SYSTEM",
          "MT-SYSTEM",
          "MT-SYSTEM",
          "MT-SYSTEM"
         ],
         "xaxis": "x",
         "yaxis": "y"
        }
       ],
       "layout": {
        "barmode": "relative",
        "legend": {
         "tracegroupgap": 0
        },
        "margin": {
         "t": 60
        },
        "template": {
         "data": {
          "bar": [
           {
            "error_x": {
             "color": "#2a3f5f"
            },
            "error_y": {
             "color": "#2a3f5f"
            },
            "marker": {
             "line": {
              "color": "#E5ECF6",
              "width": 0.5
             }
            },
            "type": "bar"
           }
          ],
          "barpolar": [
           {
            "marker": {
             "line": {
              "color": "#E5ECF6",
              "width": 0.5
             }
            },
            "type": "barpolar"
           }
          ],
          "carpet": [
           {
            "aaxis": {
             "endlinecolor": "#2a3f5f",
             "gridcolor": "white",
             "linecolor": "white",
             "minorgridcolor": "white",
             "startlinecolor": "#2a3f5f"
            },
            "baxis": {
             "endlinecolor": "#2a3f5f",
             "gridcolor": "white",
             "linecolor": "white",
             "minorgridcolor": "white",
             "startlinecolor": "#2a3f5f"
            },
            "type": "carpet"
           }
          ],
          "choropleth": [
           {
            "colorbar": {
             "outlinewidth": 0,
             "ticks": ""
            },
            "type": "choropleth"
           }
          ],
          "contour": [
           {
            "colorbar": {
             "outlinewidth": 0,
             "ticks": ""
            },
            "colorscale": [
             [
              0,
              "#0d0887"
             ],
             [
              0.1111111111111111,
              "#46039f"
             ],
             [
              0.2222222222222222,
              "#7201a8"
             ],
             [
              0.3333333333333333,
              "#9c179e"
             ],
             [
              0.4444444444444444,
              "#bd3786"
             ],
             [
              0.5555555555555556,
              "#d8576b"
             ],
             [
              0.6666666666666666,
              "#ed7953"
             ],
             [
              0.7777777777777778,
              "#fb9f3a"
             ],
             [
              0.8888888888888888,
              "#fdca26"
             ],
             [
              1,
              "#f0f921"
             ]
            ],
            "type": "contour"
           }
          ],
          "contourcarpet": [
           {
            "colorbar": {
             "outlinewidth": 0,
             "ticks": ""
            },
            "type": "contourcarpet"
           }
          ],
          "heatmap": [
           {
            "colorbar": {
             "outlinewidth": 0,
             "ticks": ""
            },
            "colorscale": [
             [
              0,
              "#0d0887"
             ],
             [
              0.1111111111111111,
              "#46039f"
             ],
             [
              0.2222222222222222,
              "#7201a8"
             ],
             [
              0.3333333333333333,
              "#9c179e"
             ],
             [
              0.4444444444444444,
              "#bd3786"
             ],
             [
              0.5555555555555556,
              "#d8576b"
             ],
             [
              0.6666666666666666,
              "#ed7953"
             ],
             [
              0.7777777777777778,
              "#fb9f3a"
             ],
             [
              0.8888888888888888,
              "#fdca26"
             ],
             [
              1,
              "#f0f921"
             ]
            ],
            "type": "heatmap"
           }
          ],
          "heatmapgl": [
           {
            "colorbar": {
             "outlinewidth": 0,
             "ticks": ""
            },
            "colorscale": [
             [
              0,
              "#0d0887"
             ],
             [
              0.1111111111111111,
              "#46039f"
             ],
             [
              0.2222222222222222,
              "#7201a8"
             ],
             [
              0.3333333333333333,
              "#9c179e"
             ],
             [
              0.4444444444444444,
              "#bd3786"
             ],
             [
              0.5555555555555556,
              "#d8576b"
             ],
             [
              0.6666666666666666,
              "#ed7953"
             ],
             [
              0.7777777777777778,
              "#fb9f3a"
             ],
             [
              0.8888888888888888,
              "#fdca26"
             ],
             [
              1,
              "#f0f921"
             ]
            ],
            "type": "heatmapgl"
           }
          ],
          "histogram": [
           {
            "marker": {
             "colorbar": {
              "outlinewidth": 0,
              "ticks": ""
             }
            },
            "type": "histogram"
           }
          ],
          "histogram2d": [
           {
            "colorbar": {
             "outlinewidth": 0,
             "ticks": ""
            },
            "colorscale": [
             [
              0,
              "#0d0887"
             ],
             [
              0.1111111111111111,
              "#46039f"
             ],
             [
              0.2222222222222222,
              "#7201a8"
             ],
             [
              0.3333333333333333,
              "#9c179e"
             ],
             [
              0.4444444444444444,
              "#bd3786"
             ],
             [
              0.5555555555555556,
              "#d8576b"
             ],
             [
              0.6666666666666666,
              "#ed7953"
             ],
             [
              0.7777777777777778,
              "#fb9f3a"
             ],
             [
              0.8888888888888888,
              "#fdca26"
             ],
             [
              1,
              "#f0f921"
             ]
            ],
            "type": "histogram2d"
           }
          ],
          "histogram2dcontour": [
           {
            "colorbar": {
             "outlinewidth": 0,
             "ticks": ""
            },
            "colorscale": [
             [
              0,
              "#0d0887"
             ],
             [
              0.1111111111111111,
              "#46039f"
             ],
             [
              0.2222222222222222,
              "#7201a8"
             ],
             [
              0.3333333333333333,
              "#9c179e"
             ],
             [
              0.4444444444444444,
              "#bd3786"
             ],
             [
              0.5555555555555556,
              "#d8576b"
             ],
             [
              0.6666666666666666,
              "#ed7953"
             ],
             [
              0.7777777777777778,
              "#fb9f3a"
             ],
             [
              0.8888888888888888,
              "#fdca26"
             ],
             [
              1,
              "#f0f921"
             ]
            ],
            "type": "histogram2dcontour"
           }
          ],
          "mesh3d": [
           {
            "colorbar": {
             "outlinewidth": 0,
             "ticks": ""
            },
            "type": "mesh3d"
           }
          ],
          "parcoords": [
           {
            "line": {
             "colorbar": {
              "outlinewidth": 0,
              "ticks": ""
             }
            },
            "type": "parcoords"
           }
          ],
          "pie": [
           {
            "automargin": true,
            "type": "pie"
           }
          ],
          "scatter": [
           {
            "marker": {
             "colorbar": {
              "outlinewidth": 0,
              "ticks": ""
             }
            },
            "type": "scatter"
           }
          ],
          "scatter3d": [
           {
            "line": {
             "colorbar": {
              "outlinewidth": 0,
              "ticks": ""
             }
            },
            "marker": {
             "colorbar": {
              "outlinewidth": 0,
              "ticks": ""
             }
            },
            "type": "scatter3d"
           }
          ],
          "scattercarpet": [
           {
            "marker": {
             "colorbar": {
              "outlinewidth": 0,
              "ticks": ""
             }
            },
            "type": "scattercarpet"
           }
          ],
          "scattergeo": [
           {
            "marker": {
             "colorbar": {
              "outlinewidth": 0,
              "ticks": ""
             }
            },
            "type": "scattergeo"
           }
          ],
          "scattergl": [
           {
            "marker": {
             "colorbar": {
              "outlinewidth": 0,
              "ticks": ""
             }
            },
            "type": "scattergl"
           }
          ],
          "scattermapbox": [
           {
            "marker": {
             "colorbar": {
              "outlinewidth": 0,
              "ticks": ""
             }
            },
            "type": "scattermapbox"
           }
          ],
          "scatterpolar": [
           {
            "marker": {
             "colorbar": {
              "outlinewidth": 0,
              "ticks": ""
             }
            },
            "type": "scatterpolar"
           }
          ],
          "scatterpolargl": [
           {
            "marker": {
             "colorbar": {
              "outlinewidth": 0,
              "ticks": ""
             }
            },
            "type": "scatterpolargl"
           }
          ],
          "scatterternary": [
           {
            "marker": {
             "colorbar": {
              "outlinewidth": 0,
              "ticks": ""
             }
            },
            "type": "scatterternary"
           }
          ],
          "surface": [
           {
            "colorbar": {
             "outlinewidth": 0,
             "ticks": ""
            },
            "colorscale": [
             [
              0,
              "#0d0887"
             ],
             [
              0.1111111111111111,
              "#46039f"
             ],
             [
              0.2222222222222222,
              "#7201a8"
             ],
             [
              0.3333333333333333,
              "#9c179e"
             ],
             [
              0.4444444444444444,
              "#bd3786"
             ],
             [
              0.5555555555555556,
              "#d8576b"
             ],
             [
              0.6666666666666666,
              "#ed7953"
             ],
             [
              0.7777777777777778,
              "#fb9f3a"
             ],
             [
              0.8888888888888888,
              "#fdca26"
             ],
             [
              1,
              "#f0f921"
             ]
            ],
            "type": "surface"
           }
          ],
          "table": [
           {
            "cells": {
             "fill": {
              "color": "#EBF0F8"
             },
             "line": {
              "color": "white"
             }
            },
            "header": {
             "fill": {
              "color": "#C8D4E3"
             },
             "line": {
              "color": "white"
             }
            },
            "type": "table"
           }
          ]
         },
         "layout": {
          "annotationdefaults": {
           "arrowcolor": "#2a3f5f",
           "arrowhead": 0,
           "arrowwidth": 1
          },
          "coloraxis": {
           "colorbar": {
            "outlinewidth": 0,
            "ticks": ""
           }
          },
          "colorscale": {
           "diverging": [
            [
             0,
             "#8e0152"
            ],
            [
             0.1,
             "#c51b7d"
            ],
            [
             0.2,
             "#de77ae"
            ],
            [
             0.3,
             "#f1b6da"
            ],
            [
             0.4,
             "#fde0ef"
            ],
            [
             0.5,
             "#f7f7f7"
            ],
            [
             0.6,
             "#e6f5d0"
            ],
            [
             0.7,
             "#b8e186"
            ],
            [
             0.8,
             "#7fbc41"
            ],
            [
             0.9,
             "#4d9221"
            ],
            [
             1,
             "#276419"
            ]
           ],
           "sequential": [
            [
             0,
             "#0d0887"
            ],
            [
             0.1111111111111111,
             "#46039f"
            ],
            [
             0.2222222222222222,
             "#7201a8"
            ],
            [
             0.3333333333333333,
             "#9c179e"
            ],
            [
             0.4444444444444444,
             "#bd3786"
            ],
            [
             0.5555555555555556,
             "#d8576b"
            ],
            [
             0.6666666666666666,
             "#ed7953"
            ],
            [
             0.7777777777777778,
             "#fb9f3a"
            ],
            [
             0.8888888888888888,
             "#fdca26"
            ],
            [
             1,
             "#f0f921"
            ]
           ],
           "sequentialminus": [
            [
             0,
             "#0d0887"
            ],
            [
             0.1111111111111111,
             "#46039f"
            ],
            [
             0.2222222222222222,
             "#7201a8"
            ],
            [
             0.3333333333333333,
             "#9c179e"
            ],
            [
             0.4444444444444444,
             "#bd3786"
            ],
            [
             0.5555555555555556,
             "#d8576b"
            ],
            [
             0.6666666666666666,
             "#ed7953"
            ],
            [
             0.7777777777777778,
             "#fb9f3a"
            ],
            [
             0.8888888888888888,
             "#fdca26"
            ],
            [
             1,
             "#f0f921"
            ]
           ]
          },
          "colorway": [
           "#636efa",
           "#EF553B",
           "#00cc96",
           "#ab63fa",
           "#FFA15A",
           "#19d3f3",
           "#FF6692",
           "#B6E880",
           "#FF97FF",
           "#FECB52"
          ],
          "font": {
           "color": "#2a3f5f"
          },
          "geo": {
           "bgcolor": "white",
           "lakecolor": "white",
           "landcolor": "#E5ECF6",
           "showlakes": true,
           "showland": true,
           "subunitcolor": "white"
          },
          "hoverlabel": {
           "align": "left"
          },
          "hovermode": "closest",
          "mapbox": {
           "style": "light"
          },
          "paper_bgcolor": "white",
          "plot_bgcolor": "#E5ECF6",
          "polar": {
           "angularaxis": {
            "gridcolor": "white",
            "linecolor": "white",
            "ticks": ""
           },
           "bgcolor": "#E5ECF6",
           "radialaxis": {
            "gridcolor": "white",
            "linecolor": "white",
            "ticks": ""
           }
          },
          "scene": {
           "xaxis": {
            "backgroundcolor": "#E5ECF6",
            "gridcolor": "white",
            "gridwidth": 2,
            "linecolor": "white",
            "showbackground": true,
            "ticks": "",
            "zerolinecolor": "white"
           },
           "yaxis": {
            "backgroundcolor": "#E5ECF6",
            "gridcolor": "white",
            "gridwidth": 2,
            "linecolor": "white",
            "showbackground": true,
            "ticks": "",
            "zerolinecolor": "white"
           },
           "zaxis": {
            "backgroundcolor": "#E5ECF6",
            "gridcolor": "white",
            "gridwidth": 2,
            "linecolor": "white",
            "showbackground": true,
            "ticks": "",
            "zerolinecolor": "white"
           }
          },
          "shapedefaults": {
           "line": {
            "color": "#2a3f5f"
           }
          },
          "ternary": {
           "aaxis": {
            "gridcolor": "white",
            "linecolor": "white",
            "ticks": ""
           },
           "baxis": {
            "gridcolor": "white",
            "linecolor": "white",
            "ticks": ""
           },
           "bgcolor": "#E5ECF6",
           "caxis": {
            "gridcolor": "white",
            "linecolor": "white",
            "ticks": ""
           }
          },
          "title": {
           "x": 0.05
          },
          "xaxis": {
           "automargin": true,
           "gridcolor": "white",
           "linecolor": "white",
           "ticks": "",
           "title": {
            "standoff": 15
           },
           "zerolinecolor": "white",
           "zerolinewidth": 2
          },
          "yaxis": {
           "automargin": true,
           "gridcolor": "white",
           "linecolor": "white",
           "ticks": "",
           "title": {
            "standoff": 15
           },
           "zerolinecolor": "white",
           "zerolinewidth": 2
          }
         }
        },
        "xaxis": {
         "anchor": "y",
         "categoryorder": "total descending",
         "domain": [
          0,
          1
         ],
         "title": {
          "text": "代理商"
         }
        },
        "yaxis": {
         "anchor": "x",
         "domain": [
          0,
          1
         ],
         "title": {
          "text": "count"
         }
        }
       }
      },
      "text/html": [
       "<div>                            <div id=\"758a8a06-d8bb-4207-a5ce-fe13b00eda0d\" class=\"plotly-graph-div\" style=\"height:525px; width:100%;\"></div>            <script type=\"text/javascript\">                require([\"plotly\"], function(Plotly) {                    window.PLOTLYENV=window.PLOTLYENV || {};                                    if (document.getElementById(\"758a8a06-d8bb-4207-a5ce-fe13b00eda0d\")) {                    Plotly.newPlot(                        \"758a8a06-d8bb-4207-a5ce-fe13b00eda0d\",                        [{\"alignmentgroup\": \"True\", \"bingroup\": \"x\", \"hovertemplate\": \"\\u4ee3\\u7406\\u5546=%{x}<br>count=%{y}<extra></extra>\", \"legendgroup\": \"\", \"marker\": {\"color\": \"#636efa\"}, \"name\": \"\", \"offsetgroup\": \"\", \"orientation\": \"v\", \"showlegend\": false, \"type\": \"histogram\", \"x\": [\"Zebra\", \"Zebra\", \"MT-SYSTEM\", \"MT-SYSTEM\", \"TELTONIKA\", \"TELTONIKA\", \"TELTONIKA\", \"Digital Ma\", \"TELTONIKA\", \"TELTONIKA\", \"TELTONIKA\", \"TELTONIKA\", \"MT-SYSTEM\", \"MT-SYSTEM\", \"MT-SYSTEM\", \"MT-SYSTEM\", \"MT-SYSTEM\", \"Ruptela\", \"Zebra\", \"Zebra\", \"At-Com\", \"MT-SYSTEM\", \"\\u83ef\\u65b0\\u79d1\\u6280\", \"TELTONIKA\", \"MT-SYSTEM\", \"MT-SYSTEM\", \"MT-SYSTEM\", \"MT-SYSTEM\", \"MT-SYSTEM\", \"MT-SYSTEM\", \"MT-SYSTEM\", \"MT-SYSTEM\", \"MT-SYSTEM\", \"MT-SYSTEM\", \"MT-SYSTEM\", \"MT-SYSTEM\", \"TELTONIKA\", \"Zebra\", \"Zebra\", \"Zebra\", \"\\u83ef\\u65b0\\u79d1\\u6280\", \"TELTONIKA\", \"TELTONIKA\", \"TELTONIKA\", \"MT-SYSTEM\", \"MT-SYSTEM\", \"MT-SYSTEM\", \"MT-SYSTEM\", \"MT-SYSTEM\", \"TELTONIKA\", \"TELTONIKA\", \"MT-SYSTEM\", \"MT-SYSTEM\", \"TELTONIKA\", \"MT-SYSTEM\", \"MT-SYSTEM\", \"TELTONIKA\", \"MT-SYSTEM\", \"MT-SYSTEM\", \"MT-SYSTEM\", \"MT-SYSTEM\", \"TELTONIKA\", \"MT-SYSTEM\", \"TELTONIKA\", \"TELTONIKA\", \"MT-SYSTEM\", \"TELTONIKA\", \"TELTONIKA\", \"MT-SYSTEM\", \"TELTONIKA\", \"TELTONIKA\", \"TELTONIKA\", \"MT-SYSTEM\", \"MT-SYSTEM\", \"Zebra\", \"Zebra\", \"Zebra\", \"MT-SYSTEM\", \"MT-SYSTEM\", \"MT-SYSTEM\", \"Zebra\", \"Zebra\", \"Zebra\", \"VTech\", \"MT-SYSTEM\", \"MT-SYSTEM\", \"MT-SYSTEM\", \"MT-SYSTEM\", \"MT-SYSTEM\", \"MT-SYSTEM\", \"MT-SYSTEM\", \"MT-SYSTEM\", \"MT-SYSTEM\", \"MT-SYSTEM\", \"MT-SYSTEM\", \"MT-SYSTEM\", \"TELTONIKA\", \"TELTONIKA\", \"TELTONIKA\", \"MT-SYSTEM\", \"MT-SYSTEM\", \"MT-SYSTEM\", \"MT-SYSTEM\", \"MT-SYSTEM\", \"MT-SYSTEM\", \"MT-SYSTEM\", \"MT-SYSTEM\", \"MT-SYSTEM\", \"MT-SYSTEM\"], \"xaxis\": \"x\", \"yaxis\": \"y\"}],                        {\"barmode\": \"relative\", \"legend\": {\"tracegroupgap\": 0}, \"margin\": {\"t\": 60}, \"template\": {\"data\": {\"bar\": [{\"error_x\": {\"color\": \"#2a3f5f\"}, \"error_y\": {\"color\": \"#2a3f5f\"}, \"marker\": {\"line\": {\"color\": \"#E5ECF6\", \"width\": 0.5}}, \"type\": \"bar\"}], \"barpolar\": [{\"marker\": {\"line\": {\"color\": \"#E5ECF6\", \"width\": 0.5}}, \"type\": \"barpolar\"}], \"carpet\": [{\"aaxis\": {\"endlinecolor\": \"#2a3f5f\", \"gridcolor\": \"white\", \"linecolor\": \"white\", \"minorgridcolor\": \"white\", \"startlinecolor\": \"#2a3f5f\"}, \"baxis\": {\"endlinecolor\": \"#2a3f5f\", \"gridcolor\": \"white\", \"linecolor\": \"white\", \"minorgridcolor\": \"white\", \"startlinecolor\": \"#2a3f5f\"}, \"type\": \"carpet\"}], \"choropleth\": [{\"colorbar\": {\"outlinewidth\": 0, \"ticks\": \"\"}, \"type\": \"choropleth\"}], \"contour\": [{\"colorbar\": {\"outlinewidth\": 0, \"ticks\": \"\"}, \"colorscale\": [[0.0, \"#0d0887\"], [0.1111111111111111, \"#46039f\"], [0.2222222222222222, \"#7201a8\"], [0.3333333333333333, \"#9c179e\"], [0.4444444444444444, \"#bd3786\"], [0.5555555555555556, \"#d8576b\"], [0.6666666666666666, \"#ed7953\"], [0.7777777777777778, \"#fb9f3a\"], [0.8888888888888888, \"#fdca26\"], [1.0, \"#f0f921\"]], \"type\": \"contour\"}], \"contourcarpet\": [{\"colorbar\": {\"outlinewidth\": 0, \"ticks\": \"\"}, \"type\": \"contourcarpet\"}], \"heatmap\": [{\"colorbar\": {\"outlinewidth\": 0, \"ticks\": \"\"}, \"colorscale\": [[0.0, \"#0d0887\"], [0.1111111111111111, \"#46039f\"], [0.2222222222222222, \"#7201a8\"], [0.3333333333333333, \"#9c179e\"], [0.4444444444444444, \"#bd3786\"], [0.5555555555555556, \"#d8576b\"], [0.6666666666666666, \"#ed7953\"], [0.7777777777777778, \"#fb9f3a\"], [0.8888888888888888, \"#fdca26\"], [1.0, \"#f0f921\"]], \"type\": \"heatmap\"}], \"heatmapgl\": [{\"colorbar\": {\"outlinewidth\": 0, \"ticks\": \"\"}, \"colorscale\": [[0.0, \"#0d0887\"], [0.1111111111111111, \"#46039f\"], [0.2222222222222222, \"#7201a8\"], [0.3333333333333333, \"#9c179e\"], [0.4444444444444444, \"#bd3786\"], [0.5555555555555556, \"#d8576b\"], [0.6666666666666666, \"#ed7953\"], [0.7777777777777778, \"#fb9f3a\"], [0.8888888888888888, \"#fdca26\"], [1.0, \"#f0f921\"]], \"type\": \"heatmapgl\"}], \"histogram\": [{\"marker\": {\"colorbar\": {\"outlinewidth\": 0, \"ticks\": \"\"}}, \"type\": \"histogram\"}], \"histogram2d\": [{\"colorbar\": {\"outlinewidth\": 0, \"ticks\": \"\"}, \"colorscale\": [[0.0, \"#0d0887\"], [0.1111111111111111, \"#46039f\"], [0.2222222222222222, \"#7201a8\"], [0.3333333333333333, \"#9c179e\"], [0.4444444444444444, \"#bd3786\"], [0.5555555555555556, \"#d8576b\"], [0.6666666666666666, \"#ed7953\"], [0.7777777777777778, \"#fb9f3a\"], [0.8888888888888888, \"#fdca26\"], [1.0, \"#f0f921\"]], \"type\": \"histogram2d\"}], \"histogram2dcontour\": [{\"colorbar\": {\"outlinewidth\": 0, \"ticks\": \"\"}, \"colorscale\": [[0.0, \"#0d0887\"], [0.1111111111111111, \"#46039f\"], [0.2222222222222222, \"#7201a8\"], [0.3333333333333333, \"#9c179e\"], [0.4444444444444444, \"#bd3786\"], [0.5555555555555556, \"#d8576b\"], [0.6666666666666666, \"#ed7953\"], [0.7777777777777778, \"#fb9f3a\"], [0.8888888888888888, \"#fdca26\"], [1.0, \"#f0f921\"]], \"type\": \"histogram2dcontour\"}], \"mesh3d\": [{\"colorbar\": {\"outlinewidth\": 0, \"ticks\": \"\"}, \"type\": \"mesh3d\"}], \"parcoords\": [{\"line\": {\"colorbar\": {\"outlinewidth\": 0, \"ticks\": \"\"}}, \"type\": \"parcoords\"}], \"pie\": [{\"automargin\": true, \"type\": \"pie\"}], \"scatter\": [{\"marker\": {\"colorbar\": {\"outlinewidth\": 0, \"ticks\": \"\"}}, \"type\": \"scatter\"}], \"scatter3d\": [{\"line\": {\"colorbar\": {\"outlinewidth\": 0, \"ticks\": \"\"}}, \"marker\": {\"colorbar\": {\"outlinewidth\": 0, \"ticks\": \"\"}}, \"type\": \"scatter3d\"}], \"scattercarpet\": [{\"marker\": {\"colorbar\": {\"outlinewidth\": 0, \"ticks\": \"\"}}, \"type\": \"scattercarpet\"}], \"scattergeo\": [{\"marker\": {\"colorbar\": {\"outlinewidth\": 0, \"ticks\": \"\"}}, \"type\": \"scattergeo\"}], \"scattergl\": [{\"marker\": {\"colorbar\": {\"outlinewidth\": 0, \"ticks\": \"\"}}, \"type\": \"scattergl\"}], \"scattermapbox\": [{\"marker\": {\"colorbar\": {\"outlinewidth\": 0, \"ticks\": \"\"}}, \"type\": \"scattermapbox\"}], \"scatterpolar\": [{\"marker\": {\"colorbar\": {\"outlinewidth\": 0, \"ticks\": \"\"}}, \"type\": \"scatterpolar\"}], \"scatterpolargl\": [{\"marker\": {\"colorbar\": {\"outlinewidth\": 0, \"ticks\": \"\"}}, \"type\": \"scatterpolargl\"}], \"scatterternary\": [{\"marker\": {\"colorbar\": {\"outlinewidth\": 0, \"ticks\": \"\"}}, \"type\": \"scatterternary\"}], \"surface\": [{\"colorbar\": {\"outlinewidth\": 0, \"ticks\": \"\"}, \"colorscale\": [[0.0, \"#0d0887\"], [0.1111111111111111, \"#46039f\"], [0.2222222222222222, \"#7201a8\"], [0.3333333333333333, \"#9c179e\"], [0.4444444444444444, \"#bd3786\"], [0.5555555555555556, \"#d8576b\"], [0.6666666666666666, \"#ed7953\"], [0.7777777777777778, \"#fb9f3a\"], [0.8888888888888888, \"#fdca26\"], [1.0, \"#f0f921\"]], \"type\": \"surface\"}], \"table\": [{\"cells\": {\"fill\": {\"color\": \"#EBF0F8\"}, \"line\": {\"color\": \"white\"}}, \"header\": {\"fill\": {\"color\": \"#C8D4E3\"}, \"line\": {\"color\": \"white\"}}, \"type\": \"table\"}]}, \"layout\": {\"annotationdefaults\": {\"arrowcolor\": \"#2a3f5f\", \"arrowhead\": 0, \"arrowwidth\": 1}, \"coloraxis\": {\"colorbar\": {\"outlinewidth\": 0, \"ticks\": \"\"}}, \"colorscale\": {\"diverging\": [[0, \"#8e0152\"], [0.1, \"#c51b7d\"], [0.2, \"#de77ae\"], [0.3, \"#f1b6da\"], [0.4, \"#fde0ef\"], [0.5, \"#f7f7f7\"], [0.6, \"#e6f5d0\"], [0.7, \"#b8e186\"], [0.8, \"#7fbc41\"], [0.9, \"#4d9221\"], [1, \"#276419\"]], \"sequential\": [[0.0, \"#0d0887\"], [0.1111111111111111, \"#46039f\"], [0.2222222222222222, \"#7201a8\"], [0.3333333333333333, \"#9c179e\"], [0.4444444444444444, \"#bd3786\"], [0.5555555555555556, \"#d8576b\"], [0.6666666666666666, \"#ed7953\"], [0.7777777777777778, \"#fb9f3a\"], [0.8888888888888888, \"#fdca26\"], [1.0, \"#f0f921\"]], \"sequentialminus\": [[0.0, \"#0d0887\"], [0.1111111111111111, \"#46039f\"], [0.2222222222222222, \"#7201a8\"], [0.3333333333333333, \"#9c179e\"], [0.4444444444444444, \"#bd3786\"], [0.5555555555555556, \"#d8576b\"], [0.6666666666666666, \"#ed7953\"], [0.7777777777777778, \"#fb9f3a\"], [0.8888888888888888, \"#fdca26\"], [1.0, \"#f0f921\"]]}, \"colorway\": [\"#636efa\", \"#EF553B\", \"#00cc96\", \"#ab63fa\", \"#FFA15A\", \"#19d3f3\", \"#FF6692\", \"#B6E880\", \"#FF97FF\", \"#FECB52\"], \"font\": {\"color\": \"#2a3f5f\"}, \"geo\": {\"bgcolor\": \"white\", \"lakecolor\": \"white\", \"landcolor\": \"#E5ECF6\", \"showlakes\": true, \"showland\": true, \"subunitcolor\": \"white\"}, \"hoverlabel\": {\"align\": \"left\"}, \"hovermode\": \"closest\", \"mapbox\": {\"style\": \"light\"}, \"paper_bgcolor\": \"white\", \"plot_bgcolor\": \"#E5ECF6\", \"polar\": {\"angularaxis\": {\"gridcolor\": \"white\", \"linecolor\": \"white\", \"ticks\": \"\"}, \"bgcolor\": \"#E5ECF6\", \"radialaxis\": {\"gridcolor\": \"white\", \"linecolor\": \"white\", \"ticks\": \"\"}}, \"scene\": {\"xaxis\": {\"backgroundcolor\": \"#E5ECF6\", \"gridcolor\": \"white\", \"gridwidth\": 2, \"linecolor\": \"white\", \"showbackground\": true, \"ticks\": \"\", \"zerolinecolor\": \"white\"}, \"yaxis\": {\"backgroundcolor\": \"#E5ECF6\", \"gridcolor\": \"white\", \"gridwidth\": 2, \"linecolor\": \"white\", \"showbackground\": true, \"ticks\": \"\", \"zerolinecolor\": \"white\"}, \"zaxis\": {\"backgroundcolor\": \"#E5ECF6\", \"gridcolor\": \"white\", \"gridwidth\": 2, \"linecolor\": \"white\", \"showbackground\": true, \"ticks\": \"\", \"zerolinecolor\": \"white\"}}, \"shapedefaults\": {\"line\": {\"color\": \"#2a3f5f\"}}, \"ternary\": {\"aaxis\": {\"gridcolor\": \"white\", \"linecolor\": \"white\", \"ticks\": \"\"}, \"baxis\": {\"gridcolor\": \"white\", \"linecolor\": \"white\", \"ticks\": \"\"}, \"bgcolor\": \"#E5ECF6\", \"caxis\": {\"gridcolor\": \"white\", \"linecolor\": \"white\", \"ticks\": \"\"}}, \"title\": {\"x\": 0.05}, \"xaxis\": {\"automargin\": true, \"gridcolor\": \"white\", \"linecolor\": \"white\", \"ticks\": \"\", \"title\": {\"standoff\": 15}, \"zerolinecolor\": \"white\", \"zerolinewidth\": 2}, \"yaxis\": {\"automargin\": true, \"gridcolor\": \"white\", \"linecolor\": \"white\", \"ticks\": \"\", \"title\": {\"standoff\": 15}, \"zerolinecolor\": \"white\", \"zerolinewidth\": 2}}}, \"xaxis\": {\"anchor\": \"y\", \"categoryorder\": \"total descending\", \"domain\": [0.0, 1.0], \"title\": {\"text\": \"\\u4ee3\\u7406\\u5546\"}}, \"yaxis\": {\"anchor\": \"x\", \"domain\": [0.0, 1.0], \"title\": {\"text\": \"count\"}}},                        {\"responsive\": true}                    ).then(function(){\n",
       "                            \n",
       "var gd = document.getElementById('758a8a06-d8bb-4207-a5ce-fe13b00eda0d');\n",
       "var x = new MutationObserver(function (mutations, observer) {{\n",
       "        var display = window.getComputedStyle(gd).display;\n",
       "        if (!display || display === 'none') {{\n",
       "            console.log([gd, 'removed!']);\n",
       "            Plotly.purge(gd);\n",
       "            observer.disconnect();\n",
       "        }}\n",
       "}});\n",
       "\n",
       "// Listen for the removal of the full notebook cells\n",
       "var notebookContainer = gd.closest('#notebook-container');\n",
       "if (notebookContainer) {{\n",
       "    x.observe(notebookContainer, {childList: true});\n",
       "}}\n",
       "\n",
       "// Listen for the clearing of the current output cell\n",
       "var outputEl = gd.closest('.output');\n",
       "if (outputEl) {{\n",
       "    x.observe(outputEl, {childList: true});\n",
       "}}\n",
       "\n",
       "                        })                };                });            </script>        </div>"
      ]
     },
     "metadata": {},
     "output_type": "display_data"
    }
   ],
   "source": [
    "fig = px.histogram(rf, x=\"代理商\").update_xaxes(categoryorder=\"total descending\")\n",
    "fig.show()"
   ]
  },
  {
   "cell_type": "markdown",
   "metadata": {},
   "source": [
    "### 載入整理好的檔案"
   ]
  },
  {
   "cell_type": "code",
   "execution_count": 4,
   "metadata": {},
   "outputs": [],
   "source": [
    "root = tk.Tk()\n",
    "root.withdraw()\n",
    "file_path = filedialog.askopenfilename()\n"
   ]
  },
  {
   "cell_type": "code",
   "execution_count": 6,
   "metadata": {},
   "outputs": [],
   "source": [
    "df = pd.read_excel(file_path, sheet_name=\"Sheet1\")"
   ]
  },
  {
   "cell_type": "code",
   "execution_count": 10,
   "metadata": {},
   "outputs": [],
   "source": [
    "rf_sample = df[df[\"分類\"] == \"RF\"].reset_index(drop=True)"
   ]
  },
  {
   "cell_type": "code",
   "execution_count": 11,
   "metadata": {
    "scrolled": true
   },
   "outputs": [
    {
     "data": {
      "text/html": [
       "<div>\n",
       "<style scoped>\n",
       "    .dataframe tbody tr th:only-of-type {\n",
       "        vertical-align: middle;\n",
       "    }\n",
       "\n",
       "    .dataframe tbody tr th {\n",
       "        vertical-align: top;\n",
       "    }\n",
       "\n",
       "    .dataframe thead th {\n",
       "        text-align: right;\n",
       "    }\n",
       "</style>\n",
       "<table border=\"1\" class=\"dataframe\">\n",
       "  <thead>\n",
       "    <tr style=\"text-align: right;\">\n",
       "      <th></th>\n",
       "      <th>樣品編號</th>\n",
       "      <th>項次</th>\n",
       "      <th>開單日期</th>\n",
       "      <th>代理商</th>\n",
       "      <th>客戶</th>\n",
       "      <th>實際完成日</th>\n",
       "      <th>品名</th>\n",
       "      <th>數量</th>\n",
       "      <th>單位</th>\n",
       "      <th>分類</th>\n",
       "    </tr>\n",
       "  </thead>\n",
       "  <tbody>\n",
       "    <tr>\n",
       "      <th>0</th>\n",
       "      <td>RFN2040351</td>\n",
       "      <td>2</td>\n",
       "      <td>2020-04-30</td>\n",
       "      <td>MT-SYSTEM</td>\n",
       "      <td>Shtrikh-M</td>\n",
       "      <td>2020-05-22</td>\n",
       "      <td>GPSGLONASSU10N-S6-XXXX-A4 Meter version</td>\n",
       "      <td>5</td>\n",
       "      <td>PCS</td>\n",
       "      <td>RF</td>\n",
       "    </tr>\n",
       "    <tr>\n",
       "      <th>1</th>\n",
       "      <td>RFN20B0170</td>\n",
       "      <td>4</td>\n",
       "      <td>2020-11-13</td>\n",
       "      <td>MT-SYSTEM</td>\n",
       "      <td>X-Keeper</td>\n",
       "      <td>2020-12-18</td>\n",
       "      <td>PA1590MI4D-518-1ZM-A (New)</td>\n",
       "      <td>10</td>\n",
       "      <td>PCS</td>\n",
       "      <td>RF</td>\n",
       "    </tr>\n",
       "    <tr>\n",
       "      <th>2</th>\n",
       "      <td>RFN20B0171</td>\n",
       "      <td>1</td>\n",
       "      <td>2020-11-13</td>\n",
       "      <td>MT-SYSTEM</td>\n",
       "      <td>Fort-Telecom</td>\n",
       "      <td>2020-12-18</td>\n",
       "      <td>PA1590MI4G-517-18M-A調整 樣品</td>\n",
       "      <td>5</td>\n",
       "      <td>PCS</td>\n",
       "      <td>RF</td>\n",
       "    </tr>\n",
       "    <tr>\n",
       "      <th>3</th>\n",
       "      <td>RFN20B0170</td>\n",
       "      <td>1</td>\n",
       "      <td>2020-11-13</td>\n",
       "      <td>MT-SYSTEM</td>\n",
       "      <td>X-Keeper</td>\n",
       "      <td>2020-12-18</td>\n",
       "      <td>PA1590MI4D-499-1ZM-A (Old)</td>\n",
       "      <td>10</td>\n",
       "      <td>PCS</td>\n",
       "      <td>RF</td>\n",
       "    </tr>\n",
       "    <tr>\n",
       "      <th>4</th>\n",
       "      <td>RFN2060103</td>\n",
       "      <td>1</td>\n",
       "      <td>2020-06-10</td>\n",
       "      <td>MT-SYSTEM</td>\n",
       "      <td>Vniir-progress</td>\n",
       "      <td>2020-07-13</td>\n",
       "      <td>PA1598MI4G-487-17M on 70 grdTune 70X70 Ground ...</td>\n",
       "      <td>2</td>\n",
       "      <td>PCS</td>\n",
       "      <td>RF</td>\n",
       "    </tr>\n",
       "    <tr>\n",
       "      <th>...</th>\n",
       "      <td>...</td>\n",
       "      <td>...</td>\n",
       "      <td>...</td>\n",
       "      <td>...</td>\n",
       "      <td>...</td>\n",
       "      <td>...</td>\n",
       "      <td>...</td>\n",
       "      <td>...</td>\n",
       "      <td>...</td>\n",
       "      <td>...</td>\n",
       "    </tr>\n",
       "    <tr>\n",
       "      <th>77</th>\n",
       "      <td>RFN20B0247</td>\n",
       "      <td>2</td>\n",
       "      <td>2020-11-19</td>\n",
       "      <td>TELTONIKA</td>\n",
       "      <td>TELTONIKA</td>\n",
       "      <td>2020-11-24</td>\n",
       "      <td>PCA1020-13A</td>\n",
       "      <td>20</td>\n",
       "      <td>PCS</td>\n",
       "      <td>RF</td>\n",
       "    </tr>\n",
       "    <tr>\n",
       "      <th>78</th>\n",
       "      <td>RFN20B0247</td>\n",
       "      <td>3</td>\n",
       "      <td>2020-11-19</td>\n",
       "      <td>TELTONIKA</td>\n",
       "      <td>TELTONIKA</td>\n",
       "      <td>2020-11-24</td>\n",
       "      <td>PCA1020-14A</td>\n",
       "      <td>20</td>\n",
       "      <td>PCS</td>\n",
       "      <td>RF</td>\n",
       "    </tr>\n",
       "    <tr>\n",
       "      <th>79</th>\n",
       "      <td>RFN20B0346</td>\n",
       "      <td>1</td>\n",
       "      <td>2020-11-27</td>\n",
       "      <td>MT-SYSTEM</td>\n",
       "      <td>Gribov</td>\n",
       "      <td>2020-12-11</td>\n",
       "      <td>PADGPS-J2J2G-103-18M</td>\n",
       "      <td>10</td>\n",
       "      <td>PCS</td>\n",
       "      <td>RF</td>\n",
       "    </tr>\n",
       "    <tr>\n",
       "      <th>80</th>\n",
       "      <td>RFN20B0357</td>\n",
       "      <td>1</td>\n",
       "      <td>2020-11-30</td>\n",
       "      <td>MT-SYSTEM</td>\n",
       "      <td>GAODI</td>\n",
       "      <td>2020-12-11</td>\n",
       "      <td>WAG-P-LTE10-00-001</td>\n",
       "      <td>100</td>\n",
       "      <td>PCS</td>\n",
       "      <td>RF</td>\n",
       "    </tr>\n",
       "    <tr>\n",
       "      <th>81</th>\n",
       "      <td>RFN20C0190</td>\n",
       "      <td>1</td>\n",
       "      <td>2020-12-16</td>\n",
       "      <td>MT-SYSTEM</td>\n",
       "      <td>Pantes</td>\n",
       "      <td>2020-12-18</td>\n",
       "      <td>RFDPA101100SMUB001</td>\n",
       "      <td>15</td>\n",
       "      <td>PCS</td>\n",
       "      <td>RF</td>\n",
       "    </tr>\n",
       "  </tbody>\n",
       "</table>\n",
       "<p>82 rows × 10 columns</p>\n",
       "</div>"
      ],
      "text/plain": [
       "          樣品編號  項次       開單日期        代理商              客戶      實際完成日  \\\n",
       "0   RFN2040351   2 2020-04-30  MT-SYSTEM       Shtrikh-M 2020-05-22   \n",
       "1   RFN20B0170   4 2020-11-13  MT-SYSTEM        X-Keeper 2020-12-18   \n",
       "2   RFN20B0171   1 2020-11-13  MT-SYSTEM    Fort-Telecom 2020-12-18   \n",
       "3   RFN20B0170   1 2020-11-13  MT-SYSTEM        X-Keeper 2020-12-18   \n",
       "4   RFN2060103   1 2020-06-10  MT-SYSTEM  Vniir-progress 2020-07-13   \n",
       "..         ...  ..        ...        ...             ...        ...   \n",
       "77  RFN20B0247   2 2020-11-19  TELTONIKA       TELTONIKA 2020-11-24   \n",
       "78  RFN20B0247   3 2020-11-19  TELTONIKA       TELTONIKA 2020-11-24   \n",
       "79  RFN20B0346   1 2020-11-27  MT-SYSTEM          Gribov 2020-12-11   \n",
       "80  RFN20B0357   1 2020-11-30  MT-SYSTEM           GAODI 2020-12-11   \n",
       "81  RFN20C0190   1 2020-12-16  MT-SYSTEM          Pantes 2020-12-18   \n",
       "\n",
       "                                                   品名   數量   單位  分類  \n",
       "0             GPSGLONASSU10N-S6-XXXX-A4 Meter version    5  PCS  RF  \n",
       "1                          PA1590MI4D-518-1ZM-A (New)   10  PCS  RF  \n",
       "2                           PA1590MI4G-517-18M-A調整 樣品    5  PCS  RF  \n",
       "3                          PA1590MI4D-499-1ZM-A (Old)   10  PCS  RF  \n",
       "4   PA1598MI4G-487-17M on 70 grdTune 70X70 Ground ...    2  PCS  RF  \n",
       "..                                                ...  ...  ...  ..  \n",
       "77                                        PCA1020-13A   20  PCS  RF  \n",
       "78                                        PCA1020-14A   20  PCS  RF  \n",
       "79                               PADGPS-J2J2G-103-18M   10  PCS  RF  \n",
       "80                                 WAG-P-LTE10-00-001  100  PCS  RF  \n",
       "81                                 RFDPA101100SMUB001   15  PCS  RF  \n",
       "\n",
       "[82 rows x 10 columns]"
      ]
     },
     "execution_count": 11,
     "metadata": {},
     "output_type": "execute_result"
    }
   ],
   "source": [
    "rf_sample"
   ]
  },
  {
   "cell_type": "code",
   "execution_count": 20,
   "metadata": {},
   "outputs": [
    {
     "name": "stdout",
     "output_type": "stream",
     "text": [
      "請輸入檔案名稱2020天線送樣記錄最終版\n",
      "D:/公司內部有的沒有的/送樣追蹤/2020年樣品報告 2020天線送樣記錄最終版\n"
     ]
    }
   ],
   "source": [
    "export = tk.Tk()\n",
    "export.withdraw()\n",
    "export_path = filedialog.askdirectory()\n",
    "file_name = str(input(\"請輸入檔案名稱\"))\n",
    "rf_sample.to_excel(export_path + \"/\" + file_name + \".xlsx\", index=False)\n",
    "print(export_path, file_name)"
   ]
  },
  {
   "cell_type": "code",
   "execution_count": null,
   "metadata": {},
   "outputs": [],
   "source": []
  }
 ],
 "metadata": {
  "kernelspec": {
   "display_name": "Python 3",
   "language": "python",
   "name": "python3"
  },
  "language_info": {
   "codemirror_mode": {
    "name": "ipython",
    "version": 3
   },
   "file_extension": ".py",
   "mimetype": "text/x-python",
   "name": "python",
   "nbconvert_exporter": "python",
   "pygments_lexer": "ipython3",
   "version": "3.8.5"
  }
 },
 "nbformat": 4,
 "nbformat_minor": 4
}
