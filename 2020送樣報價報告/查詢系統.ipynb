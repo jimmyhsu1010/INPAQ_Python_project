{
 "cells": [
  {
   "cell_type": "code",
   "execution_count": null,
   "metadata": {},
   "outputs": [],
   "source": [
    "import pandas as pd\n",
    "pd.set_option(\"display.max_rows\", 8)\n",
    "pd.set_option(\"display.max_columns\", None)"
   ]
  },
  {
   "cell_type": "code",
   "execution_count": null,
   "metadata": {},
   "outputs": [],
   "source": [
    "import tkinter as tk\n",
    "from tkinter import filedialog"
   ]
  },
  {
   "cell_type": "code",
   "execution_count": null,
   "metadata": {},
   "outputs": [],
   "source": [
    "print(\"請選擇要打開的檔案\")\n",
    "root = tk.Tk()\n",
    "root.withdraw()\n",
    "file_path = filedialog.askopenfilename()\n",
    "df = pd.read_excel(file_path, None)\n",
    "\n",
    "df_menu = {}\n",
    "for i, j in enumerate(list(df.keys())):\n",
    "    df_menu.setdefault(i+1, j)\n",
    "    \n",
    "print(\"請選擇要開啟的活頁簿：（結束請按0）\")\n",
    "for k, v in df_menu.items():\n",
    "    print(k, v)\n",
    "    \n",
    "slct_list = []\n",
    "while True:\n",
    "    slct_file = eval(input())\n",
    "    if slct_file != 0:\n",
    "        slct_list.append(slct_file)\n",
    "        print(\"請繼續選擇\")\n",
    "    else:\n",
    "        print(\"結束\")\n",
    "        break\n",
    "        \n",
    "for i in slct_list:\n",
    "    globals()[\"df\" + str(i)] = df[df_menu[i]]"
   ]
  },
  {
   "cell_type": "code",
   "execution_count": null,
   "metadata": {},
   "outputs": [],
   "source": [
    "df = df28"
   ]
  },
  {
   "cell_type": "code",
   "execution_count": null,
   "metadata": {},
   "outputs": [],
   "source": [
    "df = df[(df[\"負責業務\"] == \"許凱智\") & (df[\"預交年份\"].isin([2020,2021]))]"
   ]
  },
  {
   "cell_type": "code",
   "execution_count": null,
   "metadata": {},
   "outputs": [],
   "source": [
    "disti_list = df[\"Group\"].unique().tolist()\n",
    "disti_menu = {}\n",
    "for i, j in enumerate(disti_list):\n",
    "    disti_menu.setdefault(i+1, j)\n",
    "    \n",
    "for k, v in disti_menu.items():\n",
    "    print(k, v)\n",
    "\n",
    "while True:\n",
    "    disti = eval(input(\"請選擇代理商：\"))\n",
    "    if disti != 0:\n",
    "        disti_filter = (df[\"Group\"] == disti_menu[disti])\n",
    "        part_num = input(\"請輸入品名\")\n",
    "        part_num_filter = (df[\"品名\"] == part_num)\n",
    "        print(df[part_num_filter & disti_filter][\"本國幣別NTD\"].sum())\n",
    "    else:\n",
    "        print(\"查詢結束\")\n",
    "        break\n",
    "\n"
   ]
  },
  {
   "cell_type": "code",
   "execution_count": null,
   "metadata": {},
   "outputs": [],
   "source": [
    "df[(df[\"Group\"] == \"TELTONIKA\") & (df[\"品名\"] == \"WMM0630PX-100M\")][\"本國幣別NTD\"].sum()"
   ]
  },
  {
   "cell_type": "code",
   "execution_count": null,
   "metadata": {},
   "outputs": [],
   "source": [
    "df"
   ]
  }
 ],
 "metadata": {
  "kernelspec": {
   "display_name": "Python 3",
   "language": "python",
   "name": "python3"
  },
  "language_info": {
   "codemirror_mode": {
    "name": "ipython",
    "version": 3
   },
   "file_extension": ".py",
   "mimetype": "text/x-python",
   "name": "python",
   "nbconvert_exporter": "python",
   "pygments_lexer": "ipython3",
   "version": "3.8.5"
  }
 },
 "nbformat": 4,
 "nbformat_minor": 4
}
