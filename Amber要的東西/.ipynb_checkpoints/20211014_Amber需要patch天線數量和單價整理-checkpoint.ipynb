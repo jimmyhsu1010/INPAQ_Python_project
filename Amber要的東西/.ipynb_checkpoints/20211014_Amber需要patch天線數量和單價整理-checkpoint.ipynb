{
 "cells": [
  {
   "cell_type": "code",
   "execution_count": 1,
   "id": "ada39d6f",
   "metadata": {},
   "outputs": [],
   "source": [
    "import pandas as pd\n",
    "pd.set_option('display.max_columns', None)\n",
    "pd.set_option('mode.chained_assignment', None)\n",
    "import calendar"
   ]
  },
  {
   "cell_type": "code",
   "execution_count": 99,
   "id": "7547ac04",
   "metadata": {},
   "outputs": [],
   "source": [
    "df = pd.read_excel(r\"C:\\Users\\kaihsu\\Desktop\\axmr430.xls\")"
   ]
  },
  {
   "cell_type": "code",
   "execution_count": 100,
   "id": "ad3e86ca",
   "metadata": {},
   "outputs": [],
   "source": [
    "df = df[:-2]"
   ]
  },
  {
   "cell_type": "code",
   "execution_count": 101,
   "id": "9aa768ce",
   "metadata": {},
   "outputs": [],
   "source": [
    "df['Type'] = df['品名'].str.split('-', expand=True)[0] + ' ' + df['品名'].str.split('-', expand=True)[2]"
   ]
  },
  {
   "cell_type": "code",
   "execution_count": 104,
   "id": "191a593a",
   "metadata": {},
   "outputs": [],
   "source": [
    "df['幣別'] = df['幣別'].map(lambda x: 'NTD' if x == 'TWD' else x)"
   ]
  },
  {
   "cell_type": "code",
   "execution_count": 107,
   "id": "e60363bc",
   "metadata": {},
   "outputs": [],
   "source": [
    "currency = df.groupby(['幣別'])[['訂單匯率']].mean().reset_index()"
   ]
  },
  {
   "cell_type": "code",
   "execution_count": 109,
   "id": "afe3c7f6",
   "metadata": {},
   "outputs": [],
   "source": [
    "currency_dict = {'CNY': 4.36, 'EUR': 32.56, 'USD': 28.1, 'NTD': 1} "
   ]
  },
  {
   "cell_type": "code",
   "execution_count": 111,
   "id": "280d754d",
   "metadata": {},
   "outputs": [],
   "source": [
    "df['正確匯率'] = df['幣別'].map(currency_dict)"
   ]
  },
  {
   "cell_type": "code",
   "execution_count": 112,
   "id": "3984a031",
   "metadata": {},
   "outputs": [],
   "source": [
    "df = df.drop_duplicates(['銷售單號', '銷售項次', '客戶訂單', '客戶訂單項次', 'INVOICE號碼'], keep='last')"
   ]
  },
  {
   "cell_type": "code",
   "execution_count": 113,
   "id": "033c4236",
   "metadata": {},
   "outputs": [],
   "source": [
    "df['報價年份'] = pd.to_datetime(df['開單日期'], yearfirst=True).dt.year"
   ]
  },
  {
   "cell_type": "code",
   "execution_count": 114,
   "id": "9ff94f14",
   "metadata": {},
   "outputs": [],
   "source": [
    "df['台幣單價'] = df['單價'] * df['正確匯率']"
   ]
  },
  {
   "cell_type": "code",
   "execution_count": 115,
   "id": "3533619a",
   "metadata": {},
   "outputs": [],
   "source": [
    "df['美金單價'] = df['台幣單價'] / 28.1"
   ]
  },
  {
   "cell_type": "code",
   "execution_count": 116,
   "id": "a4d3c6f3",
   "metadata": {},
   "outputs": [],
   "source": [
    "result = df.groupby(['報價年份', '負責業務', '客戶名稱', 'Type', '美金單價'])[['數量']].sum().reset_index()"
   ]
  },
  {
   "cell_type": "code",
   "execution_count": 117,
   "id": "1ca8daed",
   "metadata": {},
   "outputs": [
    {
     "data": {
      "text/plain": [
       "27.777800000000003"
      ]
     },
     "execution_count": 117,
     "metadata": {},
     "output_type": "execute_result"
    }
   ],
   "source": [
    "result['美金單價'].max()"
   ]
  },
  {
   "cell_type": "code",
   "execution_count": 118,
   "id": "60d19de2",
   "metadata": {},
   "outputs": [
    {
     "data": {
      "text/plain": [
       "0.2473"
      ]
     },
     "execution_count": 118,
     "metadata": {},
     "output_type": "execute_result"
    }
   ],
   "source": [
    "result['美金單價'].min()"
   ]
  },
  {
   "cell_type": "markdown",
   "id": "d8f943fd",
   "metadata": {},
   "source": [
    "### pd.cut()使用來做區間分組\n",
    "pandas.cut(x, bins, right=True, labels=None, retbins=False, precision=3, include_lowest=False, duplicates='raise', ordered=True)"
   ]
  },
  {
   "cell_type": "code",
   "execution_count": 83,
   "id": "5b8596e8",
   "metadata": {},
   "outputs": [],
   "source": [
    "bins = [0.2, 0.3, 0.5, 25]"
   ]
  },
  {
   "cell_type": "code",
   "execution_count": 121,
   "id": "0e247c2f",
   "metadata": {
    "scrolled": true
   },
   "outputs": [],
   "source": [
    "result['價格區間'] = pd.cut(result['美金單價'], bins, labels=['0.2-0.3', '0.3-0.5', '0.5以上'])"
   ]
  },
  {
   "cell_type": "code",
   "execution_count": 122,
   "id": "1f64f43b",
   "metadata": {},
   "outputs": [
    {
     "data": {
      "text/html": [
       "<div>\n",
       "<style scoped>\n",
       "    .dataframe tbody tr th:only-of-type {\n",
       "        vertical-align: middle;\n",
       "    }\n",
       "\n",
       "    .dataframe tbody tr th {\n",
       "        vertical-align: top;\n",
       "    }\n",
       "\n",
       "    .dataframe thead th {\n",
       "        text-align: right;\n",
       "    }\n",
       "</style>\n",
       "<table border=\"1\" class=\"dataframe\">\n",
       "  <thead>\n",
       "    <tr style=\"text-align: right;\">\n",
       "      <th></th>\n",
       "      <th>報價年份</th>\n",
       "      <th>負責業務</th>\n",
       "      <th>客戶名稱</th>\n",
       "      <th>Type</th>\n",
       "      <th>美金單價</th>\n",
       "      <th>數量</th>\n",
       "      <th>價格區間</th>\n",
       "    </tr>\n",
       "  </thead>\n",
       "  <tbody>\n",
       "    <tr>\n",
       "      <th>0</th>\n",
       "      <td>2007</td>\n",
       "      <td>徐子琦</td>\n",
       "      <td>Endrich</td>\n",
       "      <td>PA1575MZ50J4G SMD</td>\n",
       "      <td>1.200000</td>\n",
       "      <td>250.0</td>\n",
       "      <td>0.5以上</td>\n",
       "    </tr>\n",
       "    <tr>\n",
       "      <th>1</th>\n",
       "      <td>2008</td>\n",
       "      <td>徐子琦</td>\n",
       "      <td>Endrich</td>\n",
       "      <td>PA1575MJ4G SMD</td>\n",
       "      <td>0.700000</td>\n",
       "      <td>2000.0</td>\n",
       "      <td>0.5以上</td>\n",
       "    </tr>\n",
       "    <tr>\n",
       "      <th>2</th>\n",
       "      <td>2008</td>\n",
       "      <td>徐子琦</td>\n",
       "      <td>Endrich</td>\n",
       "      <td>PA1575MJ4G SMD</td>\n",
       "      <td>0.811103</td>\n",
       "      <td>1000.0</td>\n",
       "      <td>0.5以上</td>\n",
       "    </tr>\n",
       "    <tr>\n",
       "      <th>3</th>\n",
       "      <td>2008</td>\n",
       "      <td>徐子琦</td>\n",
       "      <td>Endrich</td>\n",
       "      <td>PA1575MZ50J4G SMD</td>\n",
       "      <td>0.455000</td>\n",
       "      <td>60000.0</td>\n",
       "      <td>0.3-0.5</td>\n",
       "    </tr>\n",
       "    <tr>\n",
       "      <th>4</th>\n",
       "      <td>2008</td>\n",
       "      <td>徐子琦</td>\n",
       "      <td>Endrich</td>\n",
       "      <td>PA1575MZ50J4G SMD</td>\n",
       "      <td>0.495000</td>\n",
       "      <td>14400.0</td>\n",
       "      <td>0.3-0.5</td>\n",
       "    </tr>\n",
       "    <tr>\n",
       "      <th>...</th>\n",
       "      <td>...</td>\n",
       "      <td>...</td>\n",
       "      <td>...</td>\n",
       "      <td>...</td>\n",
       "      <td>...</td>\n",
       "      <td>...</td>\n",
       "      <td>...</td>\n",
       "    </tr>\n",
       "    <tr>\n",
       "      <th>226</th>\n",
       "      <td>2021</td>\n",
       "      <td>許凱智</td>\n",
       "      <td>TELTONIK</td>\n",
       "      <td>PA1590MS4G SMD</td>\n",
       "      <td>0.430000</td>\n",
       "      <td>27000.0</td>\n",
       "      <td>0.3-0.5</td>\n",
       "    </tr>\n",
       "    <tr>\n",
       "      <th>227</th>\n",
       "      <td>2021</td>\n",
       "      <td>許凱智</td>\n",
       "      <td>TELTONIK</td>\n",
       "      <td>PA1590MS4G SMD</td>\n",
       "      <td>0.480000</td>\n",
       "      <td>51000.0</td>\n",
       "      <td>0.3-0.5</td>\n",
       "    </tr>\n",
       "    <tr>\n",
       "      <th>228</th>\n",
       "      <td>2021</td>\n",
       "      <td>謝亞倩</td>\n",
       "      <td>台湾禾邦</td>\n",
       "      <td>PA1590MS4G SMD</td>\n",
       "      <td>0.324000</td>\n",
       "      <td>57000.0</td>\n",
       "      <td>0.3-0.5</td>\n",
       "    </tr>\n",
       "    <tr>\n",
       "      <th>229</th>\n",
       "      <td>2021</td>\n",
       "      <td>謝亞倩</td>\n",
       "      <td>台湾禾邦</td>\n",
       "      <td>PA1590MS4G SMD</td>\n",
       "      <td>0.387000</td>\n",
       "      <td>21000.0</td>\n",
       "      <td>0.3-0.5</td>\n",
       "    </tr>\n",
       "    <tr>\n",
       "      <th>230</th>\n",
       "      <td>2021</td>\n",
       "      <td>馬建軍</td>\n",
       "      <td>宏达科技</td>\n",
       "      <td>PA1568MI4G SMD</td>\n",
       "      <td>0.524524</td>\n",
       "      <td>20400.0</td>\n",
       "      <td>0.5以上</td>\n",
       "    </tr>\n",
       "  </tbody>\n",
       "</table>\n",
       "<p>231 rows × 7 columns</p>\n",
       "</div>"
      ],
      "text/plain": [
       "     報價年份 負責業務      客戶名稱               Type      美金單價       數量     價格區間\n",
       "0    2007  徐子琦   Endrich  PA1575MZ50J4G SMD  1.200000    250.0    0.5以上\n",
       "1    2008  徐子琦   Endrich     PA1575MJ4G SMD  0.700000   2000.0    0.5以上\n",
       "2    2008  徐子琦   Endrich     PA1575MJ4G SMD  0.811103   1000.0    0.5以上\n",
       "3    2008  徐子琦   Endrich  PA1575MZ50J4G SMD  0.455000  60000.0  0.3-0.5\n",
       "4    2008  徐子琦   Endrich  PA1575MZ50J4G SMD  0.495000  14400.0  0.3-0.5\n",
       "..    ...  ...       ...                ...       ...      ...      ...\n",
       "226  2021  許凱智  TELTONIK     PA1590MS4G SMD  0.430000  27000.0  0.3-0.5\n",
       "227  2021  許凱智  TELTONIK     PA1590MS4G SMD  0.480000  51000.0  0.3-0.5\n",
       "228  2021  謝亞倩      台湾禾邦     PA1590MS4G SMD  0.324000  57000.0  0.3-0.5\n",
       "229  2021  謝亞倩      台湾禾邦     PA1590MS4G SMD  0.387000  21000.0  0.3-0.5\n",
       "230  2021  馬建軍      宏达科技     PA1568MI4G SMD  0.524524  20400.0    0.5以上\n",
       "\n",
       "[231 rows x 7 columns]"
      ]
     },
     "execution_count": 122,
     "metadata": {},
     "output_type": "execute_result"
    }
   ],
   "source": [
    "result"
   ]
  },
  {
   "cell_type": "code",
   "execution_count": 123,
   "id": "161df420",
   "metadata": {},
   "outputs": [],
   "source": [
    "result.to_excel(r\"C:\\Users\\kaihsu\\Desktop\\Patch.xlsx\", index=False)"
   ]
  },
  {
   "cell_type": "markdown",
   "id": "13540ac8",
   "metadata": {},
   "source": [
    "## 測試區"
   ]
  },
  {
   "cell_type": "code",
   "execution_count": 124,
   "id": "ba2a8038",
   "metadata": {},
   "outputs": [],
   "source": [
    "df = pd.read_excel(r\"C:\\Users\\kaihsu\\Desktop\\To_amber_axmr430.xlsx\")"
   ]
  },
  {
   "cell_type": "code",
   "execution_count": 125,
   "id": "d9425216",
   "metadata": {},
   "outputs": [],
   "source": [
    "df['Type'] = df['品名'].str.split('-', expand=True)[0] + ' ' + df['品名'].str.split('-', expand=True)[2]"
   ]
  },
  {
   "cell_type": "code",
   "execution_count": 126,
   "id": "3ac50d7a",
   "metadata": {},
   "outputs": [],
   "source": [
    "df = df.drop_duplicates(['銷售單號', '銷售項次', '客戶訂單', '客戶訂單項次', 'INVOICE號碼'], keep='last')\n"
   ]
  },
  {
   "cell_type": "code",
   "execution_count": 127,
   "id": "baa0475f",
   "metadata": {},
   "outputs": [],
   "source": [
    "df['報價年份'] = pd.to_datetime(df['開單日期'], yearfirst=True).dt.year"
   ]
  },
  {
   "cell_type": "code",
   "execution_count": 128,
   "id": "da80434f",
   "metadata": {},
   "outputs": [],
   "source": [
    "df['幣別'] = df['幣別'].map(lambda x: 'NTD' if x == 'TWD' else x)"
   ]
  },
  {
   "cell_type": "code",
   "execution_count": 129,
   "id": "80ddb0ca",
   "metadata": {},
   "outputs": [],
   "source": [
    "df['正確匯率'] = df['幣別'].map(currency_dict)"
   ]
  },
  {
   "cell_type": "code",
   "execution_count": 130,
   "id": "fd9b382d",
   "metadata": {},
   "outputs": [],
   "source": [
    "df['台幣單價'] = df['單價'] * df['正確匯率']"
   ]
  },
  {
   "cell_type": "code",
   "execution_count": 131,
   "id": "e91e8a36",
   "metadata": {},
   "outputs": [],
   "source": [
    "df['美金單價'] = df['台幣單價'] / 28.1"
   ]
  },
  {
   "cell_type": "code",
   "execution_count": 132,
   "id": "792063b8",
   "metadata": {},
   "outputs": [],
   "source": [
    "end = df.groupby(['報價年份', '負責業務', '客戶名稱', 'Type', '美金單價'])[['數量']].sum().reset_index()"
   ]
  },
  {
   "cell_type": "code",
   "execution_count": 133,
   "id": "b5aa465e",
   "metadata": {},
   "outputs": [
    {
     "data": {
      "text/html": [
       "<div>\n",
       "<style scoped>\n",
       "    .dataframe tbody tr th:only-of-type {\n",
       "        vertical-align: middle;\n",
       "    }\n",
       "\n",
       "    .dataframe tbody tr th {\n",
       "        vertical-align: top;\n",
       "    }\n",
       "\n",
       "    .dataframe thead th {\n",
       "        text-align: right;\n",
       "    }\n",
       "</style>\n",
       "<table border=\"1\" class=\"dataframe\">\n",
       "  <thead>\n",
       "    <tr style=\"text-align: right;\">\n",
       "      <th></th>\n",
       "      <th>報價年份</th>\n",
       "      <th>負責業務</th>\n",
       "      <th>客戶名稱</th>\n",
       "      <th>Type</th>\n",
       "      <th>美金單價</th>\n",
       "      <th>數量</th>\n",
       "    </tr>\n",
       "  </thead>\n",
       "  <tbody>\n",
       "    <tr>\n",
       "      <th>0</th>\n",
       "      <td>2007</td>\n",
       "      <td>徐子琦</td>\n",
       "      <td>Endrich</td>\n",
       "      <td>PA1575MZ50J4G SMD</td>\n",
       "      <td>1.200000</td>\n",
       "      <td>250</td>\n",
       "    </tr>\n",
       "    <tr>\n",
       "      <th>1</th>\n",
       "      <td>2008</td>\n",
       "      <td>徐子琦</td>\n",
       "      <td>Endrich</td>\n",
       "      <td>PA1575MJ4G SMD</td>\n",
       "      <td>0.700000</td>\n",
       "      <td>2000</td>\n",
       "    </tr>\n",
       "    <tr>\n",
       "      <th>2</th>\n",
       "      <td>2008</td>\n",
       "      <td>徐子琦</td>\n",
       "      <td>Endrich</td>\n",
       "      <td>PA1575MJ4G SMD</td>\n",
       "      <td>0.811103</td>\n",
       "      <td>1000</td>\n",
       "    </tr>\n",
       "    <tr>\n",
       "      <th>3</th>\n",
       "      <td>2008</td>\n",
       "      <td>徐子琦</td>\n",
       "      <td>Endrich</td>\n",
       "      <td>PA1575MZ50J4G SMD</td>\n",
       "      <td>0.455000</td>\n",
       "      <td>60000</td>\n",
       "    </tr>\n",
       "    <tr>\n",
       "      <th>4</th>\n",
       "      <td>2008</td>\n",
       "      <td>徐子琦</td>\n",
       "      <td>Endrich</td>\n",
       "      <td>PA1575MZ50J4G SMD</td>\n",
       "      <td>0.495000</td>\n",
       "      <td>14400</td>\n",
       "    </tr>\n",
       "    <tr>\n",
       "      <th>...</th>\n",
       "      <td>...</td>\n",
       "      <td>...</td>\n",
       "      <td>...</td>\n",
       "      <td>...</td>\n",
       "      <td>...</td>\n",
       "      <td>...</td>\n",
       "    </tr>\n",
       "    <tr>\n",
       "      <th>340</th>\n",
       "      <td>2021</td>\n",
       "      <td>謝亞倩</td>\n",
       "      <td>台湾禾邦</td>\n",
       "      <td>PA1590MS4G SMD</td>\n",
       "      <td>0.324000</td>\n",
       "      <td>57000</td>\n",
       "    </tr>\n",
       "    <tr>\n",
       "      <th>341</th>\n",
       "      <td>2021</td>\n",
       "      <td>謝亞倩</td>\n",
       "      <td>台湾禾邦</td>\n",
       "      <td>PA1590MS4G SMD</td>\n",
       "      <td>0.387000</td>\n",
       "      <td>21000</td>\n",
       "    </tr>\n",
       "    <tr>\n",
       "      <th>342</th>\n",
       "      <td>2021</td>\n",
       "      <td>謝亞倩</td>\n",
       "      <td>台湾禾邦</td>\n",
       "      <td>PADGPS 101</td>\n",
       "      <td>0.680000</td>\n",
       "      <td>4000</td>\n",
       "    </tr>\n",
       "    <tr>\n",
       "      <th>343</th>\n",
       "      <td>2021</td>\n",
       "      <td>馬建軍</td>\n",
       "      <td>宏达科技</td>\n",
       "      <td>PA1568MI4G SMD</td>\n",
       "      <td>0.524524</td>\n",
       "      <td>20400</td>\n",
       "    </tr>\n",
       "    <tr>\n",
       "      <th>344</th>\n",
       "      <td>2021</td>\n",
       "      <td>黃麗華</td>\n",
       "      <td>禾邦贸易</td>\n",
       "      <td>PATGPS 103</td>\n",
       "      <td>10.925000</td>\n",
       "      <td>160</td>\n",
       "    </tr>\n",
       "  </tbody>\n",
       "</table>\n",
       "<p>345 rows × 6 columns</p>\n",
       "</div>"
      ],
      "text/plain": [
       "     報價年份 負責業務     客戶名稱               Type       美金單價     數量\n",
       "0    2007  徐子琦  Endrich  PA1575MZ50J4G SMD   1.200000    250\n",
       "1    2008  徐子琦  Endrich     PA1575MJ4G SMD   0.700000   2000\n",
       "2    2008  徐子琦  Endrich     PA1575MJ4G SMD   0.811103   1000\n",
       "3    2008  徐子琦  Endrich  PA1575MZ50J4G SMD   0.455000  60000\n",
       "4    2008  徐子琦  Endrich  PA1575MZ50J4G SMD   0.495000  14400\n",
       "..    ...  ...      ...                ...        ...    ...\n",
       "340  2021  謝亞倩     台湾禾邦     PA1590MS4G SMD   0.324000  57000\n",
       "341  2021  謝亞倩     台湾禾邦     PA1590MS4G SMD   0.387000  21000\n",
       "342  2021  謝亞倩     台湾禾邦         PADGPS 101   0.680000   4000\n",
       "343  2021  馬建軍     宏达科技     PA1568MI4G SMD   0.524524  20400\n",
       "344  2021  黃麗華     禾邦贸易         PATGPS 103  10.925000    160\n",
       "\n",
       "[345 rows x 6 columns]"
      ]
     },
     "execution_count": 133,
     "metadata": {},
     "output_type": "execute_result"
    }
   ],
   "source": [
    "end"
   ]
  },
  {
   "cell_type": "code",
   "execution_count": 135,
   "id": "e51745d2",
   "metadata": {},
   "outputs": [],
   "source": [
    "end['價格區間'] = pd.cut(end['美金單價'], bins, labels=['0.2-0.3', '0.3-0.5', '0.5以上'])"
   ]
  },
  {
   "cell_type": "code",
   "execution_count": 136,
   "id": "b864adc1",
   "metadata": {},
   "outputs": [
    {
     "data": {
      "text/html": [
       "<div>\n",
       "<style scoped>\n",
       "    .dataframe tbody tr th:only-of-type {\n",
       "        vertical-align: middle;\n",
       "    }\n",
       "\n",
       "    .dataframe tbody tr th {\n",
       "        vertical-align: top;\n",
       "    }\n",
       "\n",
       "    .dataframe thead th {\n",
       "        text-align: right;\n",
       "    }\n",
       "</style>\n",
       "<table border=\"1\" class=\"dataframe\">\n",
       "  <thead>\n",
       "    <tr style=\"text-align: right;\">\n",
       "      <th></th>\n",
       "      <th>報價年份</th>\n",
       "      <th>負責業務</th>\n",
       "      <th>客戶名稱</th>\n",
       "      <th>Type</th>\n",
       "      <th>美金單價</th>\n",
       "      <th>數量</th>\n",
       "      <th>價格區間</th>\n",
       "    </tr>\n",
       "  </thead>\n",
       "  <tbody>\n",
       "    <tr>\n",
       "      <th>0</th>\n",
       "      <td>2007</td>\n",
       "      <td>徐子琦</td>\n",
       "      <td>Endrich</td>\n",
       "      <td>PA1575MZ50J4G SMD</td>\n",
       "      <td>1.200000</td>\n",
       "      <td>250</td>\n",
       "      <td>0.5以上</td>\n",
       "    </tr>\n",
       "    <tr>\n",
       "      <th>1</th>\n",
       "      <td>2008</td>\n",
       "      <td>徐子琦</td>\n",
       "      <td>Endrich</td>\n",
       "      <td>PA1575MJ4G SMD</td>\n",
       "      <td>0.700000</td>\n",
       "      <td>2000</td>\n",
       "      <td>0.5以上</td>\n",
       "    </tr>\n",
       "    <tr>\n",
       "      <th>2</th>\n",
       "      <td>2008</td>\n",
       "      <td>徐子琦</td>\n",
       "      <td>Endrich</td>\n",
       "      <td>PA1575MJ4G SMD</td>\n",
       "      <td>0.811103</td>\n",
       "      <td>1000</td>\n",
       "      <td>0.5以上</td>\n",
       "    </tr>\n",
       "    <tr>\n",
       "      <th>3</th>\n",
       "      <td>2008</td>\n",
       "      <td>徐子琦</td>\n",
       "      <td>Endrich</td>\n",
       "      <td>PA1575MZ50J4G SMD</td>\n",
       "      <td>0.455000</td>\n",
       "      <td>60000</td>\n",
       "      <td>0.3-0.5</td>\n",
       "    </tr>\n",
       "    <tr>\n",
       "      <th>4</th>\n",
       "      <td>2008</td>\n",
       "      <td>徐子琦</td>\n",
       "      <td>Endrich</td>\n",
       "      <td>PA1575MZ50J4G SMD</td>\n",
       "      <td>0.495000</td>\n",
       "      <td>14400</td>\n",
       "      <td>0.3-0.5</td>\n",
       "    </tr>\n",
       "    <tr>\n",
       "      <th>...</th>\n",
       "      <td>...</td>\n",
       "      <td>...</td>\n",
       "      <td>...</td>\n",
       "      <td>...</td>\n",
       "      <td>...</td>\n",
       "      <td>...</td>\n",
       "      <td>...</td>\n",
       "    </tr>\n",
       "    <tr>\n",
       "      <th>340</th>\n",
       "      <td>2021</td>\n",
       "      <td>謝亞倩</td>\n",
       "      <td>台湾禾邦</td>\n",
       "      <td>PA1590MS4G SMD</td>\n",
       "      <td>0.324000</td>\n",
       "      <td>57000</td>\n",
       "      <td>0.3-0.5</td>\n",
       "    </tr>\n",
       "    <tr>\n",
       "      <th>341</th>\n",
       "      <td>2021</td>\n",
       "      <td>謝亞倩</td>\n",
       "      <td>台湾禾邦</td>\n",
       "      <td>PA1590MS4G SMD</td>\n",
       "      <td>0.387000</td>\n",
       "      <td>21000</td>\n",
       "      <td>0.3-0.5</td>\n",
       "    </tr>\n",
       "    <tr>\n",
       "      <th>342</th>\n",
       "      <td>2021</td>\n",
       "      <td>謝亞倩</td>\n",
       "      <td>台湾禾邦</td>\n",
       "      <td>PADGPS 101</td>\n",
       "      <td>0.680000</td>\n",
       "      <td>4000</td>\n",
       "      <td>0.5以上</td>\n",
       "    </tr>\n",
       "    <tr>\n",
       "      <th>343</th>\n",
       "      <td>2021</td>\n",
       "      <td>馬建軍</td>\n",
       "      <td>宏达科技</td>\n",
       "      <td>PA1568MI4G SMD</td>\n",
       "      <td>0.524524</td>\n",
       "      <td>20400</td>\n",
       "      <td>0.5以上</td>\n",
       "    </tr>\n",
       "    <tr>\n",
       "      <th>344</th>\n",
       "      <td>2021</td>\n",
       "      <td>黃麗華</td>\n",
       "      <td>禾邦贸易</td>\n",
       "      <td>PATGPS 103</td>\n",
       "      <td>10.925000</td>\n",
       "      <td>160</td>\n",
       "      <td>0.5以上</td>\n",
       "    </tr>\n",
       "  </tbody>\n",
       "</table>\n",
       "<p>345 rows × 7 columns</p>\n",
       "</div>"
      ],
      "text/plain": [
       "     報價年份 負責業務     客戶名稱               Type       美金單價     數量     價格區間\n",
       "0    2007  徐子琦  Endrich  PA1575MZ50J4G SMD   1.200000    250    0.5以上\n",
       "1    2008  徐子琦  Endrich     PA1575MJ4G SMD   0.700000   2000    0.5以上\n",
       "2    2008  徐子琦  Endrich     PA1575MJ4G SMD   0.811103   1000    0.5以上\n",
       "3    2008  徐子琦  Endrich  PA1575MZ50J4G SMD   0.455000  60000  0.3-0.5\n",
       "4    2008  徐子琦  Endrich  PA1575MZ50J4G SMD   0.495000  14400  0.3-0.5\n",
       "..    ...  ...      ...                ...        ...    ...      ...\n",
       "340  2021  謝亞倩     台湾禾邦     PA1590MS4G SMD   0.324000  57000  0.3-0.5\n",
       "341  2021  謝亞倩     台湾禾邦     PA1590MS4G SMD   0.387000  21000  0.3-0.5\n",
       "342  2021  謝亞倩     台湾禾邦         PADGPS 101   0.680000   4000    0.5以上\n",
       "343  2021  馬建軍     宏达科技     PA1568MI4G SMD   0.524524  20400    0.5以上\n",
       "344  2021  黃麗華     禾邦贸易         PATGPS 103  10.925000    160    0.5以上\n",
       "\n",
       "[345 rows x 7 columns]"
      ]
     },
     "execution_count": 136,
     "metadata": {},
     "output_type": "execute_result"
    }
   ],
   "source": [
    "end"
   ]
  },
  {
   "cell_type": "code",
   "execution_count": 137,
   "id": "9d31cd11",
   "metadata": {},
   "outputs": [],
   "source": [
    "end.to_excel(r\"C:\\Users\\kaihsu\\Desktop\\Patch.xlsx\", index=False)"
   ]
  },
  {
   "cell_type": "code",
   "execution_count": null,
   "id": "41c09e78",
   "metadata": {},
   "outputs": [],
   "source": []
  }
 ],
 "metadata": {
  "kernelspec": {
   "display_name": "Python 3",
   "language": "python",
   "name": "python3"
  },
  "language_info": {
   "codemirror_mode": {
    "name": "ipython",
    "version": 3
   },
   "file_extension": ".py",
   "mimetype": "text/x-python",
   "name": "python",
   "nbconvert_exporter": "python",
   "pygments_lexer": "ipython3",
   "version": "3.8.11"
  }
 },
 "nbformat": 4,
 "nbformat_minor": 5
}
