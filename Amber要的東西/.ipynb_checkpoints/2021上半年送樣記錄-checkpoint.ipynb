{
 "cells": [
  {
   "cell_type": "code",
   "execution_count": null,
   "id": "f924fce9",
   "metadata": {},
   "outputs": [],
   "source": [
    "import pandas as pd\n",
    "pd.set_option('display.max_columns', None)\n",
    "pd.set_option('mode.chained_assignment', None)\n",
    "def my_formatter(x):\n",
    "    if x < 0:\n",
    "        return '{:,.0f}'.format(-x)\n",
    "    return '{:,.0f}'.format(x)\n",
    "pd.options.display.float_format = my_formatter"
   ]
  },
  {
   "cell_type": "code",
   "execution_count": null,
   "id": "24865962",
   "metadata": {},
   "outputs": [],
   "source": [
    "df = pd.read_excel(r\"C:\\Users\\kaihsu\\OneDrive\\INPAQ\\公司內部有的沒有的\\送樣追蹤\\2021 sample list_2021.9.1.xlsx\", sheet_name='Raw data')"
   ]
  },
  {
   "cell_type": "code",
   "execution_count": null,
   "id": "eec2c138",
   "metadata": {},
   "outputs": [],
   "source": [
    "df.columns"
   ]
  },
  {
   "cell_type": "code",
   "execution_count": null,
   "id": "db928814",
   "metadata": {},
   "outputs": [],
   "source": [
    "df['品名'].unique()"
   ]
  },
  {
   "cell_type": "code",
   "execution_count": null,
   "id": "165fe642",
   "metadata": {},
   "outputs": [],
   "source": [
    "result = df[(df['業務員'] == '許凱智') & (~df['品名'].str.contains('電性|規格|測試|承認|編輯|工規|報告|機台|數據|test|report')) & (df['代理商'].isin(['TELTONIKA', 'MT-SYSTEM']))]"
   ]
  },
  {
   "cell_type": "code",
   "execution_count": null,
   "id": "ba213597",
   "metadata": {},
   "outputs": [],
   "source": [
    "result['終端客戶代碼'] = result['終端客戶代碼'].map(lambda x: x.upper() if pd.notna(x) else '')"
   ]
  },
  {
   "cell_type": "code",
   "execution_count": null,
   "id": "757d0de5",
   "metadata": {},
   "outputs": [],
   "source": [
    "result"
   ]
  },
  {
   "cell_type": "code",
   "execution_count": null,
   "id": "fafe7358",
   "metadata": {},
   "outputs": [],
   "source": [
    "sales = pd.read_excel(r\"C:\\Users\\kaihsu\\Desktop\\業績總表\\Weekly report_v0.1.xlsx\", sheet_name=\"出貨明細\")"
   ]
  },
  {
   "cell_type": "code",
   "execution_count": null,
   "id": "cbea5901",
   "metadata": {
    "scrolled": true
   },
   "outputs": [],
   "source": [
    "filtered = sales[(sales['負責業務'] == '許凱智') & (sales['Group'].isin(['TELTONIKA', 'MT-SYSTEM'])) & (sales['開單日期'].between('2021-01-01', '2021-12-31'))]"
   ]
  },
  {
   "cell_type": "code",
   "execution_count": null,
   "id": "424ccb4e",
   "metadata": {
    "scrolled": true
   },
   "outputs": [],
   "source": [
    "sales_result = filtered.groupby(['Group', '品名'])[['本國幣別NTD']].sum().reset_index()"
   ]
  },
  {
   "cell_type": "code",
   "execution_count": null,
   "id": "a675f489",
   "metadata": {},
   "outputs": [],
   "source": [
    "sales_result.columns = ['代理商', '品名', '金額']"
   ]
  },
  {
   "cell_type": "code",
   "execution_count": null,
   "id": "ab62f908",
   "metadata": {},
   "outputs": [],
   "source": [
    "final_result = pd.merge(result, sales_result, on=['代理商', '品名'], how='left')"
   ]
  },
  {
   "cell_type": "code",
   "execution_count": null,
   "id": "98d6a792",
   "metadata": {},
   "outputs": [],
   "source": [
    "final_result['是否已下單'] = final_result.apply(lambda x: 'Yes' if pd.notna(x['金額']) else 'No', axis=1)"
   ]
  },
  {
   "cell_type": "code",
   "execution_count": null,
   "id": "bad563f7",
   "metadata": {},
   "outputs": [],
   "source": [
    "final_result.to_excel(r\"C:\\Users\\kaihsu\\OneDrive\\INPAQ\\公司內部有的沒有的\\送樣追蹤\\2021 sample list_2021.9.1_Kai.xlsx\", index=False)"
   ]
  },
  {
   "cell_type": "code",
   "execution_count": null,
   "id": "3dac2c9a",
   "metadata": {},
   "outputs": [],
   "source": []
  }
 ],
 "metadata": {
  "kernelspec": {
   "display_name": "Python 3",
   "language": "python",
   "name": "python3"
  },
  "language_info": {
   "codemirror_mode": {
    "name": "ipython",
    "version": 3
   },
   "file_extension": ".py",
   "mimetype": "text/x-python",
   "name": "python",
   "nbconvert_exporter": "python",
   "pygments_lexer": "ipython3",
   "version": "3.8.11"
  }
 },
 "nbformat": 4,
 "nbformat_minor": 5
}
