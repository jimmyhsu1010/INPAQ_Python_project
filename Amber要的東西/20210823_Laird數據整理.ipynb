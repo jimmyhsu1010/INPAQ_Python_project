{
 "cells": [
  {
   "cell_type": "code",
   "execution_count": 1,
   "id": "2fdca605",
   "metadata": {},
   "outputs": [],
   "source": [
    "import pandas as pd\n",
    "pd.set_option('display.max_columns', None)\n",
    "pd.set_option('mode.chained_assignment', None)\n",
    "def my_formmater(x):\n",
    "    if x < 0:\n",
    "        return '{:,.2f}'.format(-x)\n",
    "    return '{:,.2f}'.format(x)\n",
    "pd.options.display.float_format = my_formmater"
   ]
  },
  {
   "cell_type": "code",
   "execution_count": 3,
   "id": "34543f25",
   "metadata": {},
   "outputs": [],
   "source": [
    "df = pd.read_excel(r\"C:\\Users\\kaihsu\\Desktop\\業績總表\\Weekly report_v0.1.xlsx\", sheet_name='出貨明細')"
   ]
  },
  {
   "cell_type": "code",
   "execution_count": 10,
   "id": "27161275",
   "metadata": {},
   "outputs": [],
   "source": [
    "filtered = df[(df['預交日期'] >= '2021-01-01') & (df['Group'] == 'Laird') & (df['狀態'].str.contains('未'))]"
   ]
  },
  {
   "cell_type": "code",
   "execution_count": 11,
   "id": "d9caf36f",
   "metadata": {},
   "outputs": [
    {
     "data": {
      "text/plain": [
       "Index(['Category', 'BG', 'Subcategory', 'Group', '狀態', '銷售單號', '銷售項次', '月份',\n",
       "       '開單日期', '排定交貨日', '預交日期', '預交年份', '預交月份', '交期變更', '客戶名稱', '負責業務', '交貨方式',\n",
       "       '產品分類', '品名', '幣別', '數量', '已出數量', '未出數', '單價', '匯率', '本國幣別NTD', '客戶料號',\n",
       "       '客戶希交日', 'Term', '出通單號', 'BU'],\n",
       "      dtype='object')"
      ]
     },
     "execution_count": 11,
     "metadata": {},
     "output_type": "execute_result"
    }
   ],
   "source": [
    "filtered.columns"
   ]
  },
  {
   "cell_type": "code",
   "execution_count": 14,
   "id": "3fd2a474",
   "metadata": {},
   "outputs": [],
   "source": [
    "result = filtered.groupby(['Group', '銷售單號', '銷售項次', '開單日期', '排定交貨日', '預交日期', '客戶希交日', 'BU', '品名', '客戶料號'])[['數量', '未出數', '本國幣別NTD']].sum().reset_index()"
   ]
  },
  {
   "cell_type": "code",
   "execution_count": 15,
   "id": "1b2f6a85",
   "metadata": {},
   "outputs": [],
   "source": [
    "result.to_excel(r\"C:\\Users\\kaihsu\\Desktop\\20210823_Laird未交訂單.xlsx\", index=False)"
   ]
  }
 ],
 "metadata": {
  "kernelspec": {
   "display_name": "Python 3",
   "language": "python",
   "name": "python3"
  },
  "language_info": {
   "codemirror_mode": {
    "name": "ipython",
    "version": 3
   },
   "file_extension": ".py",
   "mimetype": "text/x-python",
   "name": "python",
   "nbconvert_exporter": "python",
   "pygments_lexer": "ipython3",
   "version": "3.8.11"
  }
 },
 "nbformat": 4,
 "nbformat_minor": 5
}
