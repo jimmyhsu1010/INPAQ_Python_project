{
 "cells": [
  {
   "cell_type": "code",
   "execution_count": null,
   "id": "6a350f11",
   "metadata": {},
   "outputs": [],
   "source": [
    "import pandas as pd\n",
    "pd.set_option('display.max_columns', None)\n",
    "pd.set_option('mode.chained_assignment', None)\n",
    "def my_formatter(x):\n",
    "    if x < 0:\n",
    "        return '{:,.0f}'.format(-x)\n",
    "    return '{:,.0f}'.format(x)\n",
    "pd.options.display.float_format = my_formatter"
   ]
  },
  {
   "cell_type": "code",
   "execution_count": null,
   "id": "b1fae170",
   "metadata": {},
   "outputs": [],
   "source": [
    "df = pd.read_excel(r\"C:\\Users\\kaihsu\\Desktop\\業績總表\\Weekly report_v0.1.xlsx\", sheet_name='出貨明細')"
   ]
  },
  {
   "cell_type": "code",
   "execution_count": null,
   "id": "3e7a2058",
   "metadata": {},
   "outputs": [],
   "source": [
    "df.columns"
   ]
  },
  {
   "cell_type": "code",
   "execution_count": null,
   "id": "abdfaeed",
   "metadata": {},
   "outputs": [],
   "source": [
    "df['Group'].unique()"
   ]
  },
  {
   "cell_type": "code",
   "execution_count": null,
   "id": "934976a9",
   "metadata": {},
   "outputs": [],
   "source": [
    "cus_list = pd.read_clipboard()"
   ]
  },
  {
   "cell_type": "code",
   "execution_count": null,
   "id": "5f9b96a4",
   "metadata": {},
   "outputs": [],
   "source": [
    "cus_classification = dict(zip(cus_list['Cus'], cus_list['Group']))"
   ]
  },
  {
   "cell_type": "code",
   "execution_count": null,
   "id": "1ef41d51",
   "metadata": {},
   "outputs": [],
   "source": [
    "laird2021 = df[(df['Group'] == 'Laird') & (df['預交日期'].between('2021-01-01', '2021-12-31')) & (df['狀態'].str.contains('出'))]"
   ]
  },
  {
   "cell_type": "code",
   "execution_count": null,
   "id": "0d3b5a7c",
   "metadata": {},
   "outputs": [],
   "source": [
    "laird2018 = pd.read_excel(r\"C:\\Users\\kaihsu\\Desktop\\業績總表\\歷史數據\\訂單出貨明細_axmr4301_2018.xlsx\")"
   ]
  },
  {
   "cell_type": "code",
   "execution_count": null,
   "id": "edd9cf51",
   "metadata": {},
   "outputs": [],
   "source": [
    "laird2019 = pd.read_excel(r\"C:\\Users\\kaihsu\\Desktop\\業績總表\\歷史數據\\訂單出貨明細_axmr4301_2019.xlsx\")"
   ]
  },
  {
   "cell_type": "code",
   "execution_count": null,
   "id": "7baaac15",
   "metadata": {},
   "outputs": [],
   "source": [
    "laird2020 = pd.read_excel(r\"C:\\Users\\kaihsu\\Desktop\\業績總表\\歷史數據\\訂單出貨明細_axmr4301_2020.xlsx\")"
   ]
  },
  {
   "cell_type": "code",
   "execution_count": null,
   "id": "81584e5f",
   "metadata": {},
   "outputs": [],
   "source": [
    "raw_data = pd.concat([laird2018, laird2019, laird2020], axis=0)"
   ]
  },
  {
   "cell_type": "code",
   "execution_count": null,
   "id": "e25e8058",
   "metadata": {},
   "outputs": [],
   "source": [
    "raw_data['數量'] = raw_data.apply(lambda x: x['數量'] * 1000 if x['單位'] == 'KPCS' else x['數量'], axis=1)"
   ]
  },
  {
   "cell_type": "code",
   "execution_count": null,
   "id": "6a21c25a",
   "metadata": {},
   "outputs": [],
   "source": [
    "raw_data['Group'] = raw_data['客戶名稱'].map(cus_classification)"
   ]
  },
  {
   "cell_type": "code",
   "execution_count": null,
   "id": "432a4f10",
   "metadata": {},
   "outputs": [],
   "source": [
    "result = raw_data[(raw_data['負責業務'].isin(['楊婉芬', '沈思明', '鄭裡緗', '鄭里緗'])) & (raw_data['Group'] == 'Laird') & (raw_data['狀態'].str.contains('出'))]"
   ]
  },
  {
   "cell_type": "code",
   "execution_count": null,
   "id": "87cffe78",
   "metadata": {},
   "outputs": [],
   "source": [
    "result['預交日期'] = pd.to_datetime(result['預交日期'], yearfirst=True)"
   ]
  },
  {
   "cell_type": "code",
   "execution_count": null,
   "id": "6ecd5c7b",
   "metadata": {},
   "outputs": [],
   "source": [
    "result['預交年份'] = result['預交日期'].dt.year"
   ]
  },
  {
   "cell_type": "code",
   "execution_count": null,
   "id": "6a9e77ac",
   "metadata": {},
   "outputs": [],
   "source": [
    "result = result[['Group', '預交年份', '產品分類', '品名', '數量']]"
   ]
  },
  {
   "cell_type": "code",
   "execution_count": null,
   "id": "ff50da4d",
   "metadata": {
    "scrolled": false
   },
   "outputs": [],
   "source": [
    "result2 = laird2021[['Group', '預交年份', '產品分類', '品名', '數量']]"
   ]
  },
  {
   "cell_type": "code",
   "execution_count": null,
   "id": "b679ee84",
   "metadata": {},
   "outputs": [],
   "source": [
    "final = pd.concat([result, result2], axis=0)"
   ]
  },
  {
   "cell_type": "code",
   "execution_count": null,
   "id": "75aa5b45",
   "metadata": {},
   "outputs": [],
   "source": [
    "bead_final = final[~final['產品分類'].str.contains('MIP|WIP|MCI|AIP')]"
   ]
  },
  {
   "cell_type": "code",
   "execution_count": null,
   "id": "a77659f1",
   "metadata": {},
   "outputs": [],
   "source": [
    "bead_final['Dimension'] = bead_final['品名'].str.extract('([0-9]+)')"
   ]
  },
  {
   "cell_type": "code",
   "execution_count": null,
   "id": "ddf27936",
   "metadata": {},
   "outputs": [],
   "source": [
    "bead_final['Size'] = bead_final['Dimension'].map(lambda x: '0402/0603' if x == '1005' or x == '1608' else 'Others')"
   ]
  },
  {
   "cell_type": "code",
   "execution_count": null,
   "id": "30cb517e",
   "metadata": {
    "scrolled": true
   },
   "outputs": [],
   "source": [
    "answer = bead_final.groupby(['預交年份', 'Size'])[['數量']].sum().unstack('Size').reset_index()"
   ]
  },
  {
   "cell_type": "code",
   "execution_count": null,
   "id": "0dc60c46",
   "metadata": {},
   "outputs": [],
   "source": [
    "answer.columns = ['年份', '0402/0603', 'Others']"
   ]
  },
  {
   "cell_type": "code",
   "execution_count": null,
   "id": "4df579a8",
   "metadata": {},
   "outputs": [],
   "source": [
    "answer.to_excel(r\"C:\\Users\\kaihsu\\Desktop\\laird2018~2021出貨比例.xlsx\", index=False)"
   ]
  },
  {
   "cell_type": "code",
   "execution_count": null,
   "id": "407e502a",
   "metadata": {},
   "outputs": [],
   "source": []
  }
 ],
 "metadata": {
  "kernelspec": {
   "display_name": "Python 3",
   "language": "python",
   "name": "python3"
  },
  "language_info": {
   "codemirror_mode": {
    "name": "ipython",
    "version": 3
   },
   "file_extension": ".py",
   "mimetype": "text/x-python",
   "name": "python",
   "nbconvert_exporter": "python",
   "pygments_lexer": "ipython3",
   "version": "3.8.11"
  }
 },
 "nbformat": 4,
 "nbformat_minor": 5
}
