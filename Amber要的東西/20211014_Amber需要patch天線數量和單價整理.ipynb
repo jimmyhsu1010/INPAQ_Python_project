{
 "cells": [
  {
   "cell_type": "code",
   "execution_count": null,
   "id": "2d13d9fd",
   "metadata": {},
   "outputs": [],
   "source": [
    "import pandas as pd\n",
    "pd.set_option('display.max_columns', None)\n",
    "pd.set_option('mode.chained_assignment', None)\n",
    "import calendar"
   ]
  },
  {
   "cell_type": "code",
   "execution_count": null,
   "id": "bb19edeb",
   "metadata": {},
   "outputs": [],
   "source": [
    "df = pd.read_excel(r\"C:\\Users\\kaihsu\\Desktop\\axmr430.xls\")"
   ]
  },
  {
   "cell_type": "code",
   "execution_count": null,
   "id": "14728462",
   "metadata": {},
   "outputs": [],
   "source": [
    "df = df[:-2]"
   ]
  },
  {
   "cell_type": "code",
   "execution_count": null,
   "id": "57b7a0c8",
   "metadata": {},
   "outputs": [],
   "source": [
    "df['Type'] = df['品名'].str.split('-', expand=True)[0] + ' ' + df['品名'].str.split('-', expand=True)[2]"
   ]
  },
  {
   "cell_type": "code",
   "execution_count": null,
   "id": "c54a72e3",
   "metadata": {},
   "outputs": [],
   "source": [
    "df['幣別'] = df['幣別'].map(lambda x: 'NTD' if x == 'TWD' else x)"
   ]
  },
  {
   "cell_type": "code",
   "execution_count": null,
   "id": "d3d6133e",
   "metadata": {},
   "outputs": [],
   "source": [
    "currency = df.groupby(['幣別'])[['訂單匯率']].mean().reset_index()"
   ]
  },
  {
   "cell_type": "code",
   "execution_count": null,
   "id": "df362ae5",
   "metadata": {},
   "outputs": [],
   "source": [
    "currency_dict = {'CNY': 4.36, 'EUR': 32.56, 'USD': 28.1, 'NTD': 1} "
   ]
  },
  {
   "cell_type": "code",
   "execution_count": null,
   "id": "5737a72a",
   "metadata": {},
   "outputs": [],
   "source": [
    "df['正確匯率'] = df['幣別'].map(currency_dict)"
   ]
  },
  {
   "cell_type": "code",
   "execution_count": null,
   "id": "8b3e111f",
   "metadata": {},
   "outputs": [],
   "source": [
    "df = df.drop_duplicates(['銷售單號', '銷售項次', '客戶訂單', '客戶訂單項次', 'INVOICE號碼'], keep='last')"
   ]
  },
  {
   "cell_type": "code",
   "execution_count": null,
   "id": "9e94864d",
   "metadata": {},
   "outputs": [],
   "source": [
    "df['報價年份'] = pd.to_datetime(df['開單日期'], yearfirst=True).dt.year"
   ]
  },
  {
   "cell_type": "code",
   "execution_count": null,
   "id": "dfdc3742",
   "metadata": {},
   "outputs": [],
   "source": [
    "df['台幣單價'] = df['單價'] * df['正確匯率']"
   ]
  },
  {
   "cell_type": "code",
   "execution_count": null,
   "id": "56744288",
   "metadata": {},
   "outputs": [],
   "source": [
    "df['美金單價'] = df['台幣單價'] / 28.1"
   ]
  },
  {
   "cell_type": "code",
   "execution_count": null,
   "id": "aa19beef",
   "metadata": {},
   "outputs": [],
   "source": [
    "result = df.groupby(['報價年份', '負責業務', '客戶名稱', 'Type', '美金單價'])[['數量']].sum().reset_index()"
   ]
  },
  {
   "cell_type": "code",
   "execution_count": null,
   "id": "38d60bd4",
   "metadata": {},
   "outputs": [],
   "source": [
    "result['美金單價'].max()"
   ]
  },
  {
   "cell_type": "code",
   "execution_count": null,
   "id": "95322c9f",
   "metadata": {},
   "outputs": [],
   "source": [
    "result['美金單價'].min()"
   ]
  },
  {
   "cell_type": "markdown",
   "id": "be8a5bee",
   "metadata": {},
   "source": [
    "### pd.cut()使用來做區間分組\n",
    "pandas.cut(x, bins, right=True, labels=None, retbins=False, precision=3, include_lowest=False, duplicates='raise', ordered=True)"
   ]
  },
  {
   "cell_type": "code",
   "execution_count": null,
   "id": "4133d444",
   "metadata": {},
   "outputs": [],
   "source": [
    "bins = [0.2, 0.3, 0.5, 25]"
   ]
  },
  {
   "cell_type": "code",
   "execution_count": null,
   "id": "65a9d597",
   "metadata": {
    "scrolled": true
   },
   "outputs": [],
   "source": [
    "result['價格區間'] = pd.cut(result['美金單價'], bins, labels=['0.2-0.3', '0.3-0.5', '0.5以上'])"
   ]
  },
  {
   "cell_type": "code",
   "execution_count": null,
   "id": "ad927714",
   "metadata": {},
   "outputs": [],
   "source": [
    "result"
   ]
  },
  {
   "cell_type": "code",
   "execution_count": null,
   "id": "8505b6f9",
   "metadata": {},
   "outputs": [],
   "source": [
    "result.to_excel(r\"C:\\Users\\kaihsu\\Desktop\\Patch.xlsx\", index=False)"
   ]
  },
  {
   "cell_type": "markdown",
   "id": "c7a97d60",
   "metadata": {},
   "source": [
    "## 測試區"
   ]
  },
  {
   "cell_type": "code",
   "execution_count": null,
   "id": "519a753a",
   "metadata": {},
   "outputs": [],
   "source": [
    "df = pd.read_excel(r\"C:\\Users\\kaihsu\\Desktop\\To_amber_axmr430.xlsx\")"
   ]
  },
  {
   "cell_type": "code",
   "execution_count": null,
   "id": "8b101ff0",
   "metadata": {},
   "outputs": [],
   "source": [
    "df['Type'] = df['品名'].str.split('-', expand=True)[0] + ' ' + df['品名'].str.split('-', expand=True)[2]"
   ]
  },
  {
   "cell_type": "code",
   "execution_count": null,
   "id": "8599524d",
   "metadata": {},
   "outputs": [],
   "source": [
    "df = df.drop_duplicates(['銷售單號', '銷售項次', '客戶訂單', '客戶訂單項次', 'INVOICE號碼'], keep='last')\n"
   ]
  },
  {
   "cell_type": "code",
   "execution_count": null,
   "id": "b17932f0",
   "metadata": {},
   "outputs": [],
   "source": [
    "df['報價年份'] = pd.to_datetime(df['開單日期'], yearfirst=True).dt.year"
   ]
  },
  {
   "cell_type": "code",
   "execution_count": null,
   "id": "dcca47bf",
   "metadata": {},
   "outputs": [],
   "source": [
    "df['幣別'] = df['幣別'].map(lambda x: 'NTD' if x == 'TWD' else x)"
   ]
  },
  {
   "cell_type": "code",
   "execution_count": null,
   "id": "d05fc12f",
   "metadata": {},
   "outputs": [],
   "source": [
    "df['正確匯率'] = df['幣別'].map(currency_dict)"
   ]
  },
  {
   "cell_type": "code",
   "execution_count": null,
   "id": "36d65241",
   "metadata": {},
   "outputs": [],
   "source": [
    "df['台幣單價'] = df['單價'] * df['正確匯率']"
   ]
  },
  {
   "cell_type": "code",
   "execution_count": null,
   "id": "aa5cb0ca",
   "metadata": {},
   "outputs": [],
   "source": [
    "df['美金單價'] = df['台幣單價'] / 28.1"
   ]
  },
  {
   "cell_type": "code",
   "execution_count": null,
   "id": "0ab03767",
   "metadata": {},
   "outputs": [],
   "source": [
    "end = df.groupby(['報價年份', '負責業務', '客戶名稱', 'Type', '美金單價'])[['數量']].sum().reset_index()"
   ]
  },
  {
   "cell_type": "code",
   "execution_count": null,
   "id": "f40b4f59",
   "metadata": {},
   "outputs": [],
   "source": [
    "end"
   ]
  },
  {
   "cell_type": "code",
   "execution_count": null,
   "id": "e1b353e8",
   "metadata": {},
   "outputs": [],
   "source": [
    "end['價格區間'] = pd.cut(end['美金單價'], bins, labels=['0.2-0.3', '0.3-0.5', '0.5以上'])"
   ]
  },
  {
   "cell_type": "code",
   "execution_count": null,
   "id": "98a0940e",
   "metadata": {},
   "outputs": [],
   "source": [
    "end"
   ]
  },
  {
   "cell_type": "code",
   "execution_count": null,
   "id": "7c6a82cf",
   "metadata": {},
   "outputs": [],
   "source": [
    "end.to_excel(r\"C:\\Users\\kaihsu\\Desktop\\Patch.xlsx\", index=False)"
   ]
  },
  {
   "cell_type": "code",
   "execution_count": null,
   "id": "71ae2953",
   "metadata": {},
   "outputs": [],
   "source": []
  }
 ],
 "metadata": {
  "kernelspec": {
   "display_name": "Python 3",
   "language": "python",
   "name": "python3"
  },
  "language_info": {
   "codemirror_mode": {
    "name": "ipython",
    "version": 3
   },
   "file_extension": ".py",
   "mimetype": "text/x-python",
   "name": "python",
   "nbconvert_exporter": "python",
   "pygments_lexer": "ipython3",
   "version": "3.8.11"
  }
 },
 "nbformat": 4,
 "nbformat_minor": 5
}
