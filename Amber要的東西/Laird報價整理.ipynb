{
 "cells": [
  {
   "cell_type": "code",
   "execution_count": null,
   "metadata": {},
   "outputs": [],
   "source": [
    "import pandas as pd\n",
    "pd.set_option('display.max_rows', 10)\n",
    "pd.set_option('display.max_columns', None)\n",
    "pd.set_option('display.float_format', lambda x: '%.2f' % x)\n",
    "import re"
   ]
  },
  {
   "cell_type": "code",
   "execution_count": null,
   "metadata": {},
   "outputs": [],
   "source": [
    "# df = pd.read_excel('/Users/kai/Desktop/複本 Laird 報價 現有出貨價格變動百分比20201026 VS Robin 1028 毛利 營收20201102 +客製料 20201110.xlsx', None) # Mac\n",
    "df = pd.read_excel(r'C:\\Users\\kaihsu\\Desktop\\複本 Laird 報價 現有出貨價格變動百分比20201026 VS Robin 1028 毛利 營收20201102 +客製料 20201110.xlsx', sheet_name='Bead', usecols='A:C, E', header=1)\n",
    "mcm = pd.read_excel(r'C:\\Users\\kaihsu\\Desktop\\複本 Laird 報價 現有出貨價格變動百分比20201026 VS Robin 1028 毛利 營收20201102 +客製料 20201110.xlsx', sheet_name='MCM', usecols='A:C, E')\n",
    "rf = pd.read_excel(r'C:\\Users\\kaihsu\\Desktop\\複本 Laird 報價 現有出貨價格變動百分比20201026 VS Robin 1028 毛利 營收20201102 +客製料 20201110.xlsx', sheet_name='RF', usecols='A:C, E', header=1)\n",
    "mike = pd.read_excel(r'C:\\Users\\kaihsu\\Desktop\\複本 Laird 報價 現有出貨價格變動百分比20201026 VS Robin 1028 毛利 營收20201102 +客製料 20201110.xlsx', sheet_name='Python用')\n",
    "\n"
   ]
  },
  {
   "cell_type": "code",
   "execution_count": null,
   "metadata": {},
   "outputs": [],
   "source": [
    "mike = mike[:-3]"
   ]
  },
  {
   "cell_type": "code",
   "execution_count": null,
   "metadata": {},
   "outputs": [],
   "source": [
    "mike = mike[~mike['INPAQ PN'].isnull()]"
   ]
  },
  {
   "cell_type": "code",
   "execution_count": null,
   "metadata": {},
   "outputs": [],
   "source": [
    "split = mike['INPAQ PN'].str.extract(r'([A-Z]+)(\\d+)([A-Z]+)([0-9A-Z]{3})([A-Z]{1})')\n",
    "# split.columns = []"
   ]
  },
  {
   "cell_type": "code",
   "execution_count": null,
   "metadata": {},
   "outputs": [],
   "source": [
    "split.columns = ['Model', 'Size', 'Series', 'Rank', 'Spec']"
   ]
  },
  {
   "cell_type": "code",
   "execution_count": null,
   "metadata": {},
   "outputs": [],
   "source": [
    "final = pd.concat([mike, split], axis=1)"
   ]
  },
  {
   "cell_type": "code",
   "execution_count": null,
   "metadata": {},
   "outputs": [],
   "source": [
    "final.to_excel(r'C:\\Users\\kaihsu\\Desktop\\Mike整理表_python.xlsx', index=False)"
   ]
  },
  {
   "cell_type": "code",
   "execution_count": null,
   "metadata": {},
   "outputs": [],
   "source": [
    "bead_price = df[~df['Laird\\n (USD/kpcs)'].isnull()].reset_index(drop=True)"
   ]
  },
  {
   "cell_type": "code",
   "execution_count": null,
   "metadata": {
    "scrolled": true
   },
   "outputs": [],
   "source": [
    "bead_price.to_excel(r'C:\\Users\\kaihsu\\Desktop\\bead報價.xlsx', index=False)"
   ]
  },
  {
   "cell_type": "code",
   "execution_count": null,
   "metadata": {},
   "outputs": [],
   "source": [
    "x = bead_price['Part Number'].str.split('(', expand=True)"
   ]
  },
  {
   "cell_type": "code",
   "execution_count": null,
   "metadata": {
    "scrolled": true
   },
   "outputs": [],
   "source": [
    "x[1].str.split(' ', expand=True)\n"
   ]
  },
  {
   "cell_type": "code",
   "execution_count": null,
   "metadata": {},
   "outputs": [],
   "source": [
    "re.search('[A-Z]+\\d+([A-Z]+)([0-9A-Z]{3})([A-Z]{1})', 'MCB3216S601HBE').group(2)"
   ]
  },
  {
   "cell_type": "code",
   "execution_count": null,
   "metadata": {},
   "outputs": [],
   "source": [
    "x = '0N3~10N'\n",
    "t = x.split('~')\n",
    "for i in t:\n",
    "    if i[-1] == 'N':\n",
    "        print(i.replace('N', ''))\n",
    "    else:\n",
    "        print(i.replace('N', '.'))"
   ]
  },
  {
   "cell_type": "code",
   "execution_count": null,
   "metadata": {},
   "outputs": [],
   "source": [
    "y = '670~121'\n",
    "z = y.split('~')\n",
    "for i in z:\n",
    "    if int(i) % 2 == 0:\n",
    "        print(i.replace('0', ''))\n",
    "    else:\n",
    "        print(i[0:-1] + i[-1].replace('1', '0'))\n",
    "    "
   ]
  }
 ],
 "metadata": {
  "kernelspec": {
   "display_name": "Python 3",
   "language": "python",
   "name": "python3"
  },
  "language_info": {
   "codemirror_mode": {
    "name": "ipython",
    "version": 3
   },
   "file_extension": ".py",
   "mimetype": "text/x-python",
   "name": "python",
   "nbconvert_exporter": "python",
   "pygments_lexer": "ipython3",
   "version": "3.8.5"
  }
 },
 "nbformat": 4,
 "nbformat_minor": 4
}
