{
 "cells": [
  {
   "cell_type": "code",
   "execution_count": null,
   "metadata": {},
   "outputs": [],
   "source": [
    "import pandas as pd\n",
    "pd.set_option('display.max_rows', 10)\n",
    "pd.set_option('display.max_columns', None)\n",
    "pd.set_option('display.float_format', lambda x: '%.0f' % x)"
   ]
  },
  {
   "cell_type": "code",
   "execution_count": null,
   "metadata": {},
   "outputs": [],
   "source": [
    "df = pd.read_excel('/Users/kai/Desktop/複本 Laird 報價 現有出貨價格變動百分比20201026 VS Robin 1028 毛利 營收20201102 +客製料 20201110.xlsx', None)"
   ]
  },
  {
   "cell_type": "code",
   "execution_count": null,
   "metadata": {},
   "outputs": [],
   "source": [
    "bead_price = df['Bead']\n",
    "mcm_price = df['MCM']\n",
    "rf_price = df['RF']\n",
    "mip_price = df['MIP by item ']\n",
    "final = df['比較出貨價Mike版']"
   ]
  },
  {
   "cell_type": "code",
   "execution_count": null,
   "metadata": {},
   "outputs": [],
   "source": [
    "x = '0N3~10N'\n",
    "t = x.split('~')\n",
    "for i in t:\n",
    "    if i[-1] == 'N':\n",
    "        print(i.replace('N', ''))\n",
    "    else:\n",
    "        print(i.replace('N', '.'))"
   ]
  },
  {
   "cell_type": "code",
   "execution_count": null,
   "metadata": {},
   "outputs": [],
   "source": [
    "y = '670~121'\n",
    "z = y.split('~')\n",
    "for i in z:\n",
    "    if int(i) % 2 == 0:\n",
    "        print(i.replace('0', ''))\n",
    "    else:\n",
    "        print(i[0:-1] + i[-1].replace('1', '0'))\n",
    "    "
   ]
  }
 ],
 "metadata": {
  "kernelspec": {
   "display_name": "Python 3",
   "language": "python",
   "name": "python3"
  },
  "language_info": {
   "codemirror_mode": {
    "name": "ipython",
    "version": 3
   },
   "file_extension": ".py",
   "mimetype": "text/x-python",
   "name": "python",
   "nbconvert_exporter": "python",
   "pygments_lexer": "ipython3",
   "version": "3.8.5"
  }
 },
 "nbformat": 4,
 "nbformat_minor": 4
}
