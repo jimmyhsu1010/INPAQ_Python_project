{
 "cells": [
  {
   "cell_type": "code",
   "execution_count": 1,
   "metadata": {},
   "outputs": [],
   "source": [
    "import pandas as pd\n",
    "pd.set_option('display.max_rows', None)"
   ]
  },
  {
   "cell_type": "code",
   "execution_count": 2,
   "metadata": {},
   "outputs": [],
   "source": [
    "# 整理ytd表格\n",
    "ytd = pd.read_excel(r'D:/Python_project/INPAQ_price_comparison/YTD Demand 9-28.xlsx')\n",
    "# ytd = ytd.columns = ['Supplier PN', 'YTD till Sep']\n",
    "ytd = ytd.rename(columns={'Item':'Supplier PN'})\n",
    "# ytd\n"
   ]
  },
  {
   "cell_type": "code",
   "execution_count": 3,
   "metadata": {},
   "outputs": [],
   "source": [
    "#整理報價記錄\n",
    "quotation_record = pd.read_excel(r'D:\\Python_project\\INPAQ_price_comparison/Price Quote list Cathy 20200929_python.xlsx')\n",
    "filter = (quotation_record['Customer'] == 'Laird')\n",
    "quotation_record = quotation_record[filter]\n",
    "# quotation_record\n"
   ]
  },
  {
   "cell_type": "code",
   "execution_count": 4,
   "metadata": {},
   "outputs": [],
   "source": [
    "# 有報過價格的記錄\n",
    "matched_quotation = pd.merge(quotation_record, ytd, on=['Supplier PN'], how='right')\n",
    "matched_quotation = matched_quotation.loc[:,['Supplier PN', 'Inpaq PN', 'Date', 'Inpaq Price(USD/Kpcs)','YTD till Sep']]\n",
    "matched_quotation['Inpaq Price(USD/Kpcs)'] = matched_quotation['Inpaq Price(USD/Kpcs)'].map(lambda x: x * 1000 if x < 0.01 else x)\n",
    "matched_quotation = matched_quotation.drop_duplicates(subset=['Supplier PN'], keep=\"first\")\n",
    "# matched_quotation['YTD till Sep']\n",
    "# matched_quotation.to_excel('test.xlsx', index=False)\n"
   ]
  },
  {
   "cell_type": "code",
   "execution_count": 5,
   "metadata": {},
   "outputs": [],
   "source": [
    "shanghai_price = pd.read_excel(r'D:\\Python_project\\INPAQ_price_comparison\\順德報價20191205.xlsx')\n",
    "final_table = pd.merge(matched_quotation, shanghai_price, on=['Supplier PN'], how='left')\n",
    "# final_table"
   ]
  },
  {
   "cell_type": "code",
   "execution_count": 6,
   "metadata": {},
   "outputs": [],
   "source": [
    "zhunan_price = pd.read_excel(r'D:\\Python_project\\INPAQ_price_comparison\\出貨明細查找.xlsx')\n",
    "# zhunan_price\n",
    "final_table = pd.merge(final_table, zhunan_price, on=['Supplier PN'], how='left')\n",
    "# final_table"
   ]
  },
  {
   "cell_type": "code",
   "execution_count": 7,
   "metadata": {},
   "outputs": [],
   "source": [
    "# final_table"
   ]
  },
  {
   "cell_type": "code",
   "execution_count": 8,
   "metadata": {},
   "outputs": [],
   "source": [
    "robin_quotation = pd.read_excel(r'D:\\Python_project\\INPAQ_price_comparison\\robin_quotation.xlsx')\n",
    "table_with_robin = pd.merge(final_table, robin_quotation, on=['Inpaq PN'], how='left')\n",
    "table_with_robin = table_with_robin.loc[:,['Date', 'Supplier PN', 'Inpaq PN_x','Inpaq Price(USD/Kpcs)','Inpaq PN_y','不含税出厂单价\\n（元/个）','Inpaq PN','出貨明細價格','Robin Quotation','Shipment','YTD till Sep']]\n",
    "table_with_robin\n",
    "final_version = table_with_robin.rename(columns={'Inpaq Price(USD/Kpcs)':'Cathy報價記錄','不含税出厂单价\\n（元/个）':'順德報價','Inpaq PN_x':'報價記錄PN','Inpaq PN_y':'順德報價PN','Inpaq PN':'出貨明細PN'})\n",
    "ian_table = pd.read_excel(r'D:\\Python_project\\INPAQ_price_comparison\\ian_YTD.xlsx')\n",
    "ian_table = ian_table.rename(columns={'Item':'Supplier PN', 'Unnamed: 2':'Inpaq PN'})\n",
    "final_version = pd.merge(final_version, ian_table, on=['Supplier PN'], how='left').loc[:,['Date','Supplier PN','報價記錄PN','Cathy報價記錄','順德報價PN','順德報價','出貨明細PN','出貨明細價格','Robin Quotation','Shipment','YTD till Sep_x','Inpaq PN']]\n",
    "final_version = final_version.rename(columns={'YTD till Sep_x':'YTD till Sep','Inpaq PN':'Ian對的PN'})\n",
    "final_version.to_excel('laird_table.xlsx', index=False, sheet_name='Laird table')"
   ]
  },
  {
   "cell_type": "code",
   "execution_count": null,
   "metadata": {},
   "outputs": [],
   "source": []
  },
  {
   "cell_type": "code",
   "execution_count": null,
   "metadata": {},
   "outputs": [],
   "source": []
  },
  {
   "cell_type": "code",
   "execution_count": null,
   "metadata": {},
   "outputs": [],
   "source": []
  },
  {
   "cell_type": "code",
   "execution_count": null,
   "metadata": {},
   "outputs": [],
   "source": []
  }
 ],
 "metadata": {
  "kernelspec": {
   "display_name": "Python 3",
   "language": "python",
   "name": "python3"
  },
  "language_info": {
   "codemirror_mode": {
    "name": "ipython",
    "version": 3
   },
   "file_extension": ".py",
   "mimetype": "text/x-python",
   "name": "python",
   "nbconvert_exporter": "python",
   "pygments_lexer": "ipython3",
   "version": "3.8.5"
  }
 },
 "nbformat": 4,
 "nbformat_minor": 4
}
