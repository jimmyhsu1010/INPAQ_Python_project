{
 "cells": [
  {
   "cell_type": "code",
   "execution_count": null,
   "metadata": {},
   "outputs": [],
   "source": [
    "import pandas as pd\n",
    "pd.set_option('display.max_columns', None)\n",
    "pd.set_option('display.max_rows', 10)"
   ]
  },
  {
   "cell_type": "code",
   "execution_count": null,
   "metadata": {},
   "outputs": [],
   "source": [
    "df = pd.read_excel('/Users/kai/Desktop/Weekly report_v0.1.xlsx', sheet_name='出貨明細')"
   ]
  },
  {
   "cell_type": "markdown",
   "metadata": {},
   "source": [
    "### Dash pivottable資料前處理\n"
   ]
  },
  {
   "cell_type": "code",
   "execution_count": null,
   "metadata": {},
   "outputs": [],
   "source": [
    "df['BG'] = df.apply(lambda x: 'RFBU2' if 'RFDP' in x['品名'] else 'RFBU1' if 'RFDP' not in x['品名'] and 'RF' in x['BG'] else x['BG'], axis=1)"
   ]
  },
  {
   "cell_type": "code",
   "execution_count": null,
   "metadata": {},
   "outputs": [],
   "source": [
    "df = df[df['狀態'].str.contains('出')]"
   ]
  },
  {
   "cell_type": "code",
   "execution_count": null,
   "metadata": {},
   "outputs": [],
   "source": [
    "df = df[['BG', 'Group', '銷售單號', '開單日期', '預交日期', '預交年份', '預交月份', '負責業務', '品名', '幣別', '單價', '數量', '本國幣別NTD', '客戶料號', 'Term']]"
   ]
  },
  {
   "cell_type": "code",
   "execution_count": null,
   "metadata": {},
   "outputs": [],
   "source": [
    "mon_dict = {'January':1, 'February':2, 'March':3, 'April':4, 'May':5, 'June':6, 'July':7, 'August':8, 'September':9, 'October':10, 'November':11, 'December':12}\n",
    "df['數量'] = df['數量'].astype('int')\n",
    "df['本國幣別NTD'] = df['本國幣別NTD'].astype('int')\n",
    "df['預交月份'] = df['預交月份'].map(mon_dict)\n"
   ]
  },
  {
   "cell_type": "markdown",
   "metadata": {},
   "source": [
    "### 處理完畢"
   ]
  },
  {
   "cell_type": "code",
   "execution_count": null,
   "metadata": {},
   "outputs": [],
   "source": [
    "df1 = df['出貨明細']\n",
    "df2 = df['2020預算']"
   ]
  },
  {
   "cell_type": "code",
   "execution_count": null,
   "metadata": {},
   "outputs": [],
   "source": [
    "df2 = df2[df2['負責業務'] == '許凱智'].reset_index(drop=True)"
   ]
  },
  {
   "cell_type": "code",
   "execution_count": null,
   "metadata": {},
   "outputs": [],
   "source": [
    "df2.loc[(df2['客戶名稱'].str.contains('RF')), '類型'] = 'RF'\n",
    "df2.loc[(df2['類型'] != 'RF'), '類型'] = 'Component'"
   ]
  },
  {
   "cell_type": "code",
   "execution_count": null,
   "metadata": {},
   "outputs": [],
   "source": [
    "df2 # Budget table"
   ]
  },
  {
   "cell_type": "code",
   "execution_count": null,
   "metadata": {},
   "outputs": [],
   "source": [
    "df1.loc[(df1['BG'] != 'RF') , 'BG'] = 'Component'"
   ]
  },
  {
   "cell_type": "code",
   "execution_count": null,
   "metadata": {},
   "outputs": [],
   "source": [
    "df1 = df1[~(df1['狀態'] == '合約')]"
   ]
  },
  {
   "cell_type": "code",
   "execution_count": null,
   "metadata": {},
   "outputs": [],
   "source": [
    "df1 = df1[~(df1['狀態'] == '待通知')]"
   ]
  },
  {
   "cell_type": "code",
   "execution_count": null,
   "metadata": {},
   "outputs": [],
   "source": [
    "df1 = df1.loc[:,['Group', 'BG', '負責業務', '狀態', '預交日期', '本國幣別NTD']]"
   ]
  },
  {
   "cell_type": "code",
   "execution_count": null,
   "metadata": {
    "scrolled": true
   },
   "outputs": [],
   "source": [
    "df1['預交年份'] = df1['預交日期'].dt.year\n",
    "df1['預交月份'] = df1['預交日期'].dt.month"
   ]
  },
  {
   "cell_type": "code",
   "execution_count": null,
   "metadata": {},
   "outputs": [],
   "source": [
    "df1 = df1[df1['負責業務']=='許凱智'].reset_index(drop=True)\n"
   ]
  },
  {
   "cell_type": "code",
   "execution_count": null,
   "metadata": {},
   "outputs": [],
   "source": [
    "df1 = df1.groupby(['Group', 'BG', '預交年份','預交月份'])[['本國幣別NTD']].sum().reset_index() #最終的實績表格"
   ]
  },
  {
   "cell_type": "code",
   "execution_count": null,
   "metadata": {},
   "outputs": [],
   "source": [
    "def month_trans(x):\n",
    "    dic = {'1': 'January', '2':'February', '3':'March', '4':'April','5':'May','6':'June','7':'July','8':'August','9':'September','10':'October','11':'November','12':'December'}\n",
    "    if x == '1':\n",
    "        return dic[x]\n",
    "    elif x == '2':\n",
    "        return dic[x]\n",
    "    elif x == '3':\n",
    "        return dic[x]\n",
    "    elif x == '4':\n",
    "        return dic[x]\n",
    "    elif x == '5':\n",
    "        return dic[x]\n",
    "    elif x == '6':\n",
    "        return dic[x]\n",
    "    elif x == '7':\n",
    "        return dic[x]\n",
    "    elif x == '8':\n",
    "        return dic[x]\n",
    "    elif x == '9':\n",
    "        return dic[x]\n",
    "    elif x == '10':\n",
    "        return dic[x]\n",
    "    elif x == '11':\n",
    "        return dic[x]\n",
    "    elif x == '12':\n",
    "        return dic[x]\n"
   ]
  },
  {
   "cell_type": "code",
   "execution_count": null,
   "metadata": {},
   "outputs": [],
   "source": [
    "df1['預交月份'] = df1['預交月份'].astype('str')\n",
    "df1['預交月份'] = df1['預交月份'].map(lambda x: month_trans(x))"
   ]
  },
  {
   "cell_type": "code",
   "execution_count": null,
   "metadata": {},
   "outputs": [],
   "source": [
    "df1.loc[(df1['Group'] == 'MT-SYSTEM') & (df1['BG'] == 'Component'), 'Group'] = 'Mt System(Component)'\n",
    "df1.loc[(df1['Group'] == 'MT-SYSTEM') & (df1['BG'] == 'RF'), 'Group'] = 'Mt System(RF)'\n",
    "df1.loc[(df1['Group'] == 'TELTONIKA') & (df1['BG'] == 'Component'), 'Group'] = 'Teltonika(Component)'\n",
    "df1.loc[(df1['Group'] == 'TELTONIKA') & (df1['BG'] == 'RF'), 'Group'] = 'Teltonika(RF)'\n",
    "df1.loc[(df1['Group'].str.contains('TE')), 'Group'] = 'Te(RF)'"
   ]
  },
  {
   "cell_type": "code",
   "execution_count": null,
   "metadata": {},
   "outputs": [],
   "source": [
    "df2.loc[(df2['客戶名稱'].str.contains('華科')), '客戶名稱'] = '華新科技'"
   ]
  },
  {
   "cell_type": "code",
   "execution_count": null,
   "metadata": {},
   "outputs": [],
   "source": [
    "df1 = df1.rename(columns={'Group':'客戶名稱','BG':'類型','預交年份':'年份','預交月份':'Month'})"
   ]
  },
  {
   "cell_type": "code",
   "execution_count": null,
   "metadata": {},
   "outputs": [],
   "source": [
    "df2.columns"
   ]
  },
  {
   "cell_type": "code",
   "execution_count": null,
   "metadata": {},
   "outputs": [],
   "source": [
    "result = pd.merge(df1, df2, on=['客戶名稱','類型','年份','Month'], how='left')"
   ]
  },
  {
   "cell_type": "code",
   "execution_count": null,
   "metadata": {},
   "outputs": [],
   "source": [
    "result = pd.read_excel(r'C:\\Users\\kaihsu\\Desktop\\Amber需要的每月預算.xlsx')"
   ]
  },
  {
   "cell_type": "code",
   "execution_count": null,
   "metadata": {},
   "outputs": [],
   "source": [
    "result['預估業績'] = pd.to_numeric(result['預估業績'])"
   ]
  },
  {
   "cell_type": "code",
   "execution_count": null,
   "metadata": {},
   "outputs": [],
   "source": [
    "result.info()"
   ]
  },
  {
   "cell_type": "code",
   "execution_count": null,
   "metadata": {},
   "outputs": [],
   "source": [
    "result.pivot_table(values=['預估業績'], index=['客戶名稱', '年份'], columns=['Month'])\n",
    "result.to_excel(r'C:\\Users\\kaihsu\\Desktop\\Amber需要的每月預算1.xlsx')"
   ]
  },
  {
   "cell_type": "code",
   "execution_count": null,
   "metadata": {},
   "outputs": [],
   "source": [
    "result.info()"
   ]
  },
  {
   "cell_type": "code",
   "execution_count": null,
   "metadata": {
    "scrolled": true
   },
   "outputs": [],
   "source": [
    "result.to_excel(r'C:\\Users\\kaihsu\\Desktop\\Amber需要的每月預算.xlsx', index=False)"
   ]
  },
  {
   "cell_type": "code",
   "execution_count": null,
   "metadata": {},
   "outputs": [],
   "source": [
    "result.groupby(['客戶名稱','類型','年份','Month']).agg({'預估業績':'sum', '本國幣別NTD':'sum'})"
   ]
  },
  {
   "cell_type": "code",
   "execution_count": null,
   "metadata": {},
   "outputs": [],
   "source": [
    "df3 = df1.loc[:,['Group', 'BG', '負責業務', '狀態','預交日期', '本國幣別NTD']]"
   ]
  },
  {
   "cell_type": "code",
   "execution_count": null,
   "metadata": {},
   "outputs": [],
   "source": [
    "df3 = df3[df3['預交日期'] >= '2020-01-01'].reset_index(drop=True)"
   ]
  },
  {
   "cell_type": "code",
   "execution_count": null,
   "metadata": {
    "scrolled": true
   },
   "outputs": [],
   "source": [
    "df3.info()"
   ]
  },
  {
   "cell_type": "code",
   "execution_count": null,
   "metadata": {},
   "outputs": [],
   "source": [
    "df3 = df3[~(df3['狀態'] == '待通知') | (df3['狀態'] == '合約')]"
   ]
  },
  {
   "cell_type": "code",
   "execution_count": null,
   "metadata": {},
   "outputs": [],
   "source": [
    "df3['預交日期'] = df3['預交日期'].dt.month"
   ]
  },
  {
   "cell_type": "code",
   "execution_count": null,
   "metadata": {},
   "outputs": [],
   "source": [
    "df3 = df3.reset_index(drop=True)"
   ]
  },
  {
   "cell_type": "code",
   "execution_count": null,
   "metadata": {},
   "outputs": [],
   "source": [
    "df3.rename(columns={'預交日期':'預交月份'}, inplace=True)"
   ]
  },
  {
   "cell_type": "code",
   "execution_count": null,
   "metadata": {},
   "outputs": [],
   "source": [
    "df4 = df3.groupby(['Group', 'BG','預交月份', '負責業務'])[['本國幣別NTD']].sum().reset_index()"
   ]
  },
  {
   "cell_type": "code",
   "execution_count": null,
   "metadata": {},
   "outputs": [],
   "source": [
    "df4 = df4[df4['負責業務'] == '許凱智']"
   ]
  },
  {
   "cell_type": "code",
   "execution_count": null,
   "metadata": {},
   "outputs": [],
   "source": [
    "df2 = df2[df2['負責業務'] == '許凱智']"
   ]
  },
  {
   "cell_type": "code",
   "execution_count": null,
   "metadata": {},
   "outputs": [],
   "source": [
    "df4['負責業務'] = df4['負責業務'].astype('str')"
   ]
  },
  {
   "cell_type": "code",
   "execution_count": null,
   "metadata": {},
   "outputs": [],
   "source": [
    "df4['預交月份'] = df4['預交月份'].astype('str')"
   ]
  },
  {
   "cell_type": "code",
   "execution_count": null,
   "metadata": {},
   "outputs": [],
   "source": [
    "df4['預交月份'] = df4['預交月份'].map(lambda x: month_trans(x))"
   ]
  },
  {
   "cell_type": "code",
   "execution_count": null,
   "metadata": {
    "scrolled": true
   },
   "outputs": [],
   "source": [
    "df2.loc[(df2['客戶名稱'].str.contains('Component')), '類型'] = '元件'"
   ]
  },
  {
   "cell_type": "code",
   "execution_count": null,
   "metadata": {},
   "outputs": [],
   "source": [
    "df2['客戶名稱'].value_counts()"
   ]
  },
  {
   "cell_type": "code",
   "execution_count": null,
   "metadata": {},
   "outputs": [],
   "source": [
    "df2.loc[(df2['客戶名稱'].str.contains('華科')), '客戶名稱'] = '華新科技'\n",
    "df2.loc[(df2['客戶名稱'].str.contains('Te')), '客戶名稱'] = 'TE'\n"
   ]
  },
  {
   "cell_type": "code",
   "execution_count": null,
   "metadata": {},
   "outputs": [],
   "source": [
    "df2['客戶名稱'].value_counts()"
   ]
  },
  {
   "cell_type": "code",
   "execution_count": null,
   "metadata": {},
   "outputs": [],
   "source": [
    "df4.loc[(df4['Group'].str.contains('MT-')) & (df4['BG'].str.contains('RF')),'Group'] = 'Mt System(RF)'\n",
    "df4.loc[(df4['Group'].str.contains('MT-')) & (df4['BG'].str.contains('元件')),'Group'] = 'Mt System(Component)'\n"
   ]
  },
  {
   "cell_type": "code",
   "execution_count": null,
   "metadata": {},
   "outputs": [],
   "source": [
    "df4"
   ]
  },
  {
   "cell_type": "code",
   "execution_count": null,
   "metadata": {},
   "outputs": [],
   "source": [
    "df1['BG'].value_counts()"
   ]
  }
 ],
 "metadata": {
  "kernelspec": {
   "display_name": "Python 3",
   "language": "python",
   "name": "python3"
  },
  "language_info": {
   "codemirror_mode": {
    "name": "ipython",
    "version": 3
   },
   "file_extension": ".py",
   "mimetype": "text/x-python",
   "name": "python",
   "nbconvert_exporter": "python",
   "pygments_lexer": "ipython3",
   "version": "3.8.5"
  }
 },
 "nbformat": 4,
 "nbformat_minor": 4
}
