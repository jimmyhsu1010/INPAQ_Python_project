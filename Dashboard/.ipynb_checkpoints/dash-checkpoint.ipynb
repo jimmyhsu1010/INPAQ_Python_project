{
 "cells": [
  {
   "cell_type": "code",
   "execution_count": null,
   "metadata": {},
   "outputs": [],
   "source": [
    "# import dash\n",
    "# import dash_html_components as html\n",
    "\n",
    "# app = dash.Dash()\n",
    "# app.layout = html.Div(children=[html.H1(children='Hello Dash'), html.Div(children='''Dash: A web application frameworl for Python.''')])\n",
    "\n",
    "# app.run_server(debug=True)"
   ]
  },
  {
   "cell_type": "code",
   "execution_count": null,
   "metadata": {},
   "outputs": [],
   "source": [
    "# import pandas as pd\n",
    "# import xlwings as xw\n",
    "\n",
    "# PATH = r'C:\\Users\\kaihsu\\Desktop\\業績總表\\open order-OEM.ODM 0928.xlsx'\n",
    "# wb = xw.Book(PATH)\n",
    "# sheet = wb.sheets['201007']\n",
    "\n",
    "# df = sheet['A1:BB701'].options(pd.DataFrame, index=False, header=True).value\n",
    "# df.columns = df.columns.str.strip()\n"
   ]
  },
  {
   "cell_type": "code",
   "execution_count": null,
   "metadata": {},
   "outputs": [],
   "source": [
    "# import pandas as pd\n",
    "# pd.set_option('display.max_columns', None)\n"
   ]
  },
  {
   "cell_type": "code",
   "execution_count": null,
   "metadata": {
    "scrolled": true
   },
   "outputs": [],
   "source": [
    "# columns = ['銷售單號', '項次', '月份', '客戶訂單項次', '料號', '產品分類']\n",
    "# df = df.drop(columns= df[columns], axis=1)\n",
    "# df"
   ]
  },
  {
   "cell_type": "code",
   "execution_count": null,
   "metadata": {},
   "outputs": [],
   "source": [
    "# df.loc[df['單位'] == 'KPCS', '數量'] = df['數量'] * 1000"
   ]
  },
  {
   "cell_type": "code",
   "execution_count": null,
   "metadata": {},
   "outputs": [],
   "source": [
    "# df.loc[(df['負責業務'] == '周彥宏') | (df['負責業務'] == '楊婉芬'), '負責業務'] = '許凱智'"
   ]
  },
  {
   "cell_type": "code",
   "execution_count": null,
   "metadata": {},
   "outputs": [],
   "source": [
    "# df.isna().sum() > 20 "
   ]
  },
  {
   "cell_type": "code",
   "execution_count": 1,
   "metadata": {},
   "outputs": [],
   "source": [
    "import pandas as pd\n",
    "pd.set_option('display.max_columns', None)\n",
    "pd.set_option('display.max_rows', None)"
   ]
  },
  {
   "cell_type": "code",
   "execution_count": 2,
   "metadata": {},
   "outputs": [],
   "source": [
    "df = pd.read_excel(r'C:\\Users\\kaihsu\\Desktop\\業績總表\\Weekly report_v0.1.xlsx', None)"
   ]
  },
  {
   "cell_type": "code",
   "execution_count": 3,
   "metadata": {},
   "outputs": [],
   "source": [
    "df1 = df['出貨明細']\n",
    "df2 = df['2020預算']"
   ]
  },
  {
   "cell_type": "code",
   "execution_count": 4,
   "metadata": {},
   "outputs": [],
   "source": [
    "df2 = df2[df2['負責業務'] == '許凱智'].reset_index(drop=True)"
   ]
  },
  {
   "cell_type": "code",
   "execution_count": 5,
   "metadata": {},
   "outputs": [],
   "source": [
    "df2.loc[(df2['客戶名稱'].str.contains('RF')), '類型'] = 'RF'\n",
    "df2.loc[(df2['類型'] != 'RF'), '類型'] = 'Component'"
   ]
  },
  {
   "cell_type": "code",
   "execution_count": null,
   "metadata": {},
   "outputs": [],
   "source": [
    "df2 # Budget table"
   ]
  },
  {
   "cell_type": "code",
   "execution_count": 6,
   "metadata": {},
   "outputs": [],
   "source": [
    "df1.loc[(df1['BG'] != 'RF') , 'BG'] = 'Component'"
   ]
  },
  {
   "cell_type": "code",
   "execution_count": 7,
   "metadata": {},
   "outputs": [],
   "source": [
    "df1 = df1[~(df1['狀態'] == '合約')]"
   ]
  },
  {
   "cell_type": "code",
   "execution_count": 8,
   "metadata": {},
   "outputs": [],
   "source": [
    "df1 = df1[~(df1['狀態'] == '待通知')]"
   ]
  },
  {
   "cell_type": "code",
   "execution_count": 9,
   "metadata": {},
   "outputs": [],
   "source": [
    "df1 = df1.loc[:,['Group', 'BG', '負責業務', '狀態', '預交日期', '本國幣別NTD']]"
   ]
  },
  {
   "cell_type": "code",
   "execution_count": 10,
   "metadata": {
    "scrolled": true
   },
   "outputs": [],
   "source": [
    "df1['預交年份'] = df1['預交日期'].dt.year\n",
    "df1['預交月份'] = df1['預交日期'].dt.month"
   ]
  },
  {
   "cell_type": "code",
   "execution_count": 11,
   "metadata": {},
   "outputs": [],
   "source": [
    "df1 = df1[df1['負責業務']=='許凱智'].reset_index(drop=True)\n"
   ]
  },
  {
   "cell_type": "code",
   "execution_count": 12,
   "metadata": {},
   "outputs": [],
   "source": [
    "df1 = df1.groupby(['Group', 'BG', '預交年份','預交月份'])[['本國幣別NTD']].sum().reset_index() #最終的實績表格"
   ]
  },
  {
   "cell_type": "code",
   "execution_count": 14,
   "metadata": {},
   "outputs": [],
   "source": [
    "def month_trans(x):\n",
    "    dic = {'1': 'January', '2':'February', '3':'March', '4':'April','5':'May','6':'June','7':'July','8':'August','9':'September','10':'October','11':'November','12':'December'}\n",
    "    if x == '1':\n",
    "        return dic[x]\n",
    "    elif x == '2':\n",
    "        return dic[x]\n",
    "    elif x == '3':\n",
    "        return dic[x]\n",
    "    elif x == '4':\n",
    "        return dic[x]\n",
    "    elif x == '5':\n",
    "        return dic[x]\n",
    "    elif x == '6':\n",
    "        return dic[x]\n",
    "    elif x == '7':\n",
    "        return dic[x]\n",
    "    elif x == '8':\n",
    "        return dic[x]\n",
    "    elif x == '9':\n",
    "        return dic[x]\n",
    "    elif x == '10':\n",
    "        return dic[x]\n",
    "    elif x == '11':\n",
    "        return dic[x]\n",
    "    elif x == '12':\n",
    "        return dic[x]\n"
   ]
  },
  {
   "cell_type": "code",
   "execution_count": 15,
   "metadata": {},
   "outputs": [],
   "source": [
    "df1['預交月份'] = df1['預交月份'].astype('str')\n",
    "df1['預交月份'] = df1['預交月份'].map(lambda x: month_trans(x))"
   ]
  },
  {
   "cell_type": "code",
   "execution_count": 16,
   "metadata": {},
   "outputs": [],
   "source": [
    "df1.loc[(df1['Group'] == 'MT-SYSTEM') & (df1['BG'] == 'Component'), 'Group'] = 'Mt System(Component)'\n",
    "df1.loc[(df1['Group'] == 'MT-SYSTEM') & (df1['BG'] == 'RF'), 'Group'] = 'Mt System(RF)'\n",
    "df1.loc[(df1['Group'] == 'TELTONIKA') & (df1['BG'] == 'Component'), 'Group'] = 'Teltonika(Component)'\n",
    "df1.loc[(df1['Group'] == 'TELTONIKA') & (df1['BG'] == 'RF'), 'Group'] = 'Teltonika(RF)'\n",
    "df1.loc[(df1['Group'].str.contains('TE')), 'Group'] = 'Te(RF)'"
   ]
  },
  {
   "cell_type": "code",
   "execution_count": 17,
   "metadata": {},
   "outputs": [],
   "source": [
    "df2.loc[(df2['客戶名稱'].str.contains('華科')), '客戶名稱'] = '華新科技'"
   ]
  },
  {
   "cell_type": "code",
   "execution_count": 18,
   "metadata": {},
   "outputs": [],
   "source": [
    "df1 = df1.rename(columns={'Group':'客戶名稱','BG':'類型','預交年份':'年份','預交月份':'Month'})"
   ]
  },
  {
   "cell_type": "code",
   "execution_count": 19,
   "metadata": {},
   "outputs": [
    {
     "data": {
      "text/plain": [
       "Index(['客戶名稱', '類型', '負責業務', '年份', 'Month', '預估業績'], dtype='object')"
      ]
     },
     "execution_count": 19,
     "metadata": {},
     "output_type": "execute_result"
    }
   ],
   "source": [
    "df2.columns"
   ]
  },
  {
   "cell_type": "code",
   "execution_count": 44,
   "metadata": {},
   "outputs": [],
   "source": [
    "result = pd.merge(df1, df2, on=['客戶名稱','類型','年份','Month'], how='left')"
   ]
  },
  {
   "cell_type": "code",
   "execution_count": 77,
   "metadata": {},
   "outputs": [],
   "source": [
    "result = pd.read_excel(r'C:\\Users\\kaihsu\\Desktop\\Amber需要的每月預算.xlsx')"
   ]
  },
  {
   "cell_type": "code",
   "execution_count": 81,
   "metadata": {},
   "outputs": [],
   "source": [
    "result['預估業績'] = pd.to_numeric(result['預估業績'])"
   ]
  },
  {
   "cell_type": "code",
   "execution_count": 82,
   "metadata": {},
   "outputs": [
    {
     "name": "stdout",
     "output_type": "stream",
     "text": [
      "<class 'pandas.core.frame.DataFrame'>\n",
      "RangeIndex: 170 entries, 0 to 169\n",
      "Data columns (total 7 columns):\n",
      " #   Column   Non-Null Count  Dtype  \n",
      "---  ------   --------------  -----  \n",
      " 0   客戶名稱     170 non-null    object \n",
      " 1   類型       170 non-null    object \n",
      " 2   年份       170 non-null    int64  \n",
      " 3   Month    170 non-null    object \n",
      " 4   本國幣別NTD  170 non-null    float64\n",
      " 5   負責業務     81 non-null     object \n",
      " 6   預估業績     68 non-null     float64\n",
      "dtypes: float64(2), int64(1), object(4)\n",
      "memory usage: 9.4+ KB\n"
     ]
    }
   ],
   "source": [
    "result.info()"
   ]
  },
  {
   "cell_type": "code",
   "execution_count": 86,
   "metadata": {},
   "outputs": [],
   "source": [
    "result.pivot_table(values=['預估業績'], index=['客戶名稱', '年份'], columns=['Month'])\n",
    "result.to_excel(r'C:\\Users\\kaihsu\\Desktop\\Amber需要的每月預算1.xlsx')"
   ]
  },
  {
   "cell_type": "code",
   "execution_count": 29,
   "metadata": {},
   "outputs": [
    {
     "name": "stdout",
     "output_type": "stream",
     "text": [
      "<class 'pandas.core.frame.DataFrame'>\n",
      "Int64Index: 170 entries, 0 to 169\n",
      "Data columns (total 7 columns):\n",
      " #   Column   Non-Null Count  Dtype  \n",
      "---  ------   --------------  -----  \n",
      " 0   客戶名稱     170 non-null    object \n",
      " 1   類型       170 non-null    object \n",
      " 2   年份       170 non-null    int64  \n",
      " 3   Month    170 non-null    object \n",
      " 4   本國幣別NTD  170 non-null    float64\n",
      " 5   負責業務     81 non-null     object \n",
      " 6   預估業績     81 non-null     object \n",
      "dtypes: float64(1), int64(1), object(5)\n",
      "memory usage: 10.6+ KB\n"
     ]
    }
   ],
   "source": [
    "result.info()"
   ]
  },
  {
   "cell_type": "code",
   "execution_count": null,
   "metadata": {
    "scrolled": true
   },
   "outputs": [],
   "source": [
    "result.to_excel(r'C:\\Users\\kaihsu\\Desktop\\Amber需要的每月預算.xlsx', index=False)"
   ]
  },
  {
   "cell_type": "code",
   "execution_count": null,
   "metadata": {},
   "outputs": [],
   "source": [
    "result.groupby(['客戶名稱','類型','年份','Month']).agg({'預估業績':'sum', '本國幣別NTD':'sum'})"
   ]
  },
  {
   "cell_type": "code",
   "execution_count": null,
   "metadata": {},
   "outputs": [],
   "source": [
    "df3 = df1.loc[:,['Group', 'BG', '負責業務', '狀態','預交日期', '本國幣別NTD']]"
   ]
  },
  {
   "cell_type": "code",
   "execution_count": null,
   "metadata": {},
   "outputs": [],
   "source": [
    "df3 = df3[df3['預交日期'] >= '2020-01-01'].reset_index(drop=True)"
   ]
  },
  {
   "cell_type": "code",
   "execution_count": null,
   "metadata": {
    "scrolled": true
   },
   "outputs": [],
   "source": [
    "df3.info()"
   ]
  },
  {
   "cell_type": "code",
   "execution_count": null,
   "metadata": {},
   "outputs": [],
   "source": [
    "df3 = df3[~(df3['狀態'] == '待通知') | (df3['狀態'] == '合約')]"
   ]
  },
  {
   "cell_type": "code",
   "execution_count": null,
   "metadata": {},
   "outputs": [],
   "source": [
    "df3['預交日期'] = df3['預交日期'].dt.month"
   ]
  },
  {
   "cell_type": "code",
   "execution_count": null,
   "metadata": {},
   "outputs": [],
   "source": [
    "df3 = df3.reset_index(drop=True)"
   ]
  },
  {
   "cell_type": "code",
   "execution_count": null,
   "metadata": {},
   "outputs": [],
   "source": [
    "df3.rename(columns={'預交日期':'預交月份'}, inplace=True)"
   ]
  },
  {
   "cell_type": "code",
   "execution_count": null,
   "metadata": {},
   "outputs": [],
   "source": [
    "df4 = df3.groupby(['Group', 'BG','預交月份', '負責業務'])[['本國幣別NTD']].sum().reset_index()"
   ]
  },
  {
   "cell_type": "code",
   "execution_count": null,
   "metadata": {},
   "outputs": [],
   "source": [
    "df4 = df4[df4['負責業務'] == '許凱智']"
   ]
  },
  {
   "cell_type": "code",
   "execution_count": null,
   "metadata": {},
   "outputs": [],
   "source": [
    "df2 = df2[df2['負責業務'] == '許凱智']"
   ]
  },
  {
   "cell_type": "code",
   "execution_count": null,
   "metadata": {},
   "outputs": [],
   "source": [
    "df4['負責業務'] = df4['負責業務'].astype('str')"
   ]
  },
  {
   "cell_type": "code",
   "execution_count": null,
   "metadata": {},
   "outputs": [],
   "source": [
    "df4['預交月份'] = df4['預交月份'].astype('str')"
   ]
  },
  {
   "cell_type": "code",
   "execution_count": null,
   "metadata": {},
   "outputs": [],
   "source": [
    "df4['預交月份'] = df4['預交月份'].map(lambda x: month_trans(x))"
   ]
  },
  {
   "cell_type": "code",
   "execution_count": null,
   "metadata": {
    "scrolled": true
   },
   "outputs": [],
   "source": [
    "df2.loc[(df2['客戶名稱'].str.contains('Component')), '類型'] = '元件'"
   ]
  },
  {
   "cell_type": "code",
   "execution_count": null,
   "metadata": {},
   "outputs": [],
   "source": [
    "df2['客戶名稱'].value_counts()"
   ]
  },
  {
   "cell_type": "code",
   "execution_count": null,
   "metadata": {},
   "outputs": [],
   "source": [
    "df2.loc[(df2['客戶名稱'].str.contains('華科')), '客戶名稱'] = '華新科技'\n",
    "df2.loc[(df2['客戶名稱'].str.contains('Te')), '客戶名稱'] = 'TE'\n"
   ]
  },
  {
   "cell_type": "code",
   "execution_count": null,
   "metadata": {},
   "outputs": [],
   "source": [
    "df2['客戶名稱'].value_counts()"
   ]
  },
  {
   "cell_type": "code",
   "execution_count": null,
   "metadata": {},
   "outputs": [],
   "source": [
    "df4.loc[(df4['Group'].str.contains('MT-')) & (df4['BG'].str.contains('RF')),'Group'] = 'Mt System(RF)'\n",
    "df4.loc[(df4['Group'].str.contains('MT-')) & (df4['BG'].str.contains('元件')),'Group'] = 'Mt System(Component)'\n"
   ]
  },
  {
   "cell_type": "code",
   "execution_count": null,
   "metadata": {},
   "outputs": [],
   "source": [
    "df4"
   ]
  },
  {
   "cell_type": "code",
   "execution_count": null,
   "metadata": {},
   "outputs": [],
   "source": [
    "df1['BG'].value_counts()"
   ]
  }
 ],
 "metadata": {
  "kernelspec": {
   "display_name": "Python 3",
   "language": "python",
   "name": "python3"
  },
  "language_info": {
   "codemirror_mode": {
    "name": "ipython",
    "version": 3
   },
   "file_extension": ".py",
   "mimetype": "text/x-python",
   "name": "python",
   "nbconvert_exporter": "python",
   "pygments_lexer": "ipython3",
   "version": "3.8.5"
  }
 },
 "nbformat": 4,
 "nbformat_minor": 4
}
