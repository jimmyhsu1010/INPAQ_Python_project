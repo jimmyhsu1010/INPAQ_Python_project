{
 "cells": [
  {
   "cell_type": "code",
   "execution_count": 1,
   "metadata": {},
   "outputs": [],
   "source": [
    "import pandas as pd"
   ]
  },
  {
   "cell_type": "code",
   "execution_count": 2,
   "metadata": {},
   "outputs": [],
   "source": [
    "df = pd.read_excel(r\"C:\\Users\\kaihsu\\Desktop\\業績總表\\Weekly report_v0.1.xlsx\", None)"
   ]
  },
  {
   "cell_type": "code",
   "execution_count": 3,
   "metadata": {},
   "outputs": [
    {
     "data": {
      "text/plain": [
       "dict_keys(['Dashboard', '元件天線客戶貢獻度', '各年份實績樞紐流動', '20192020實績折線圖', '2020累積實績固定', '固定實績樞紐', '2020預算固定表', '2020預算流動', 'Amber週報用預算', '全年預算by person', '2020預算', '客戶 年份樞紐', '各類別圓餅圖', '業務實績排名', '各客戶成長率', 'Weekly report', '週報更新用樞紐', 'Amber週報用格式', '天線出貨量樞紐', '元件出貨量直條圖', '2021預算流動', 'Allison客戶樞紐', '給二廠的Teltonika數據', '每月15號左右給Wiley的圖表', '固定天線當月實績', 'LF ODM', '總實績表格for Amber', '出貨明細', '差異分析用樞紐', '2021業績總表 (2) Mohan+Kai Edited', '工作表3', 'Wurth開會報告用', '分類命名表', '工作表1', '成長率byBG', '2021預算固定表', '華新科By BU分析', '20210126預算調整', '2021業績計算用預算樞紐', '2021預算總表', '2021年實績預算達成率'])"
      ]
     },
     "execution_count": 3,
     "metadata": {},
     "output_type": "execute_result"
    }
   ],
   "source": [
    "df.keys()"
   ]
  },
  {
   "cell_type": "code",
   "execution_count": 4,
   "metadata": {},
   "outputs": [],
   "source": [
    "df = df['出貨明細']"
   ]
  },
  {
   "cell_type": "code",
   "execution_count": 6,
   "metadata": {},
   "outputs": [],
   "source": [
    "df.to_csv('weekly_report.csv', index=False)"
   ]
  },
  {
   "cell_type": "code",
   "execution_count": 8,
   "metadata": {},
   "outputs": [
    {
     "data": {
      "text/plain": [
       "array(['EMC', 'WIP', 'PC', 'RF', 'ODM', 'Others', 'AIP', 'Saw Filter'],\n",
       "      dtype=object)"
      ]
     },
     "execution_count": 8,
     "metadata": {},
     "output_type": "execute_result"
    }
   ],
   "source": [
    "df['BG'].unique()"
   ]
  }
 ],
 "metadata": {
  "kernelspec": {
   "display_name": "Python 3",
   "language": "python",
   "name": "python3"
  },
  "language_info": {
   "codemirror_mode": {
    "name": "ipython",
    "version": 3
   },
   "file_extension": ".py",
   "mimetype": "text/x-python",
   "name": "python",
   "nbconvert_exporter": "python",
   "pygments_lexer": "ipython3",
   "version": "3.8.5"
  }
 },
 "nbformat": 4,
 "nbformat_minor": 4
}
