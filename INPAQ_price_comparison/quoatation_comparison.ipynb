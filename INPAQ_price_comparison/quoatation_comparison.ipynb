{
 "cells": [
  {
   "cell_type": "code",
   "execution_count": 1,
   "metadata": {},
   "outputs": [],
   "source": [
    "import pandas as pd"
   ]
  },
  {
   "cell_type": "code",
   "execution_count": null,
   "metadata": {
    "scrolled": true
   },
   "outputs": [],
   "source": [
    "\n",
    "def quoted_price():\n",
    "    quoted_record = input('請輸入報價記錄路徑：\\n') + '.xlsx'\n",
    "    inquiry = input('請輸入客戶詢價檔案路徑:\\n') + '.xlsx'\n",
    "#     print(quoted_record, inquiry)\n",
    "    df1 = pd.read_excel(quoted_record)\n",
    "    df2 = pd.read_excel(inquiry)\n",
    "    df3 = pd.merge(df1, df2, on=['Inpaq PN'], how='inner')\n",
    "    df3 = df3.loc[:,['Date_x', 'Customer', 'Supplier PN_x', 'Inpaq PN','Inpaq Price(USD/Kpcs)']]\n",
    "    df2 = df2.append(df1)\n",
    "    df2 = df2.append(df1)\n",
    "    df4 = df2.drop_duplicates(subset=['Inpaq PN'], keep=False)\n",
    "    df4 = df4.loc[:,['Date','Supplier PN', 'Inpaq PN', 'Inpaq Price(USD/Kpcs)']]\n",
    "#     unquoted.to_excel(r'c:Users\\kaihsu\\Desktop\\quoted_price.xlsx', index=False, sheet_name='unquoted')\n",
    "    with pd.ExcelWriter(r'c:Users\\kaihsu\\Desktop\\quoted_price.xlsx') as writer:\n",
    "        df3.to_excel(writer, index=False, sheet_name='quoted_price')\n",
    "        df4.to_excel(writer, index=False, sheet_name='unquoted')\n",
    "\n"
   ]
  },
  {
   "cell_type": "code",
   "execution_count": null,
   "metadata": {},
   "outputs": [],
   "source": [
    "quoted_price()"
   ]
  },
  {
   "cell_type": "code",
   "execution_count": null,
   "metadata": {},
   "outputs": [],
   "source": [
    "df1 = pd.read_excel(r'D:\\Python_project\\INPAQ_price_comparison\\quotation_record.xlsx')\n",
    "df2 = pd.read_excel(r'D:\\Python_project\\INPAQ_price_comparison\\inquiry.xlsx')\n",
    "df2 = df2.append(df1)\n",
    "df2 = df2.append(df1)\n",
    "df4 = df2.drop_duplicates(subset=['Inpaq PN'], keep=False)\n",
    "df4 = df4.loc[:,['Date','Supplier PN', 'Inpaq PN', 'Inpaq Price(USD/Kpcs)']]\n",
    "df4\n",
    "# df2差集df1的做法"
   ]
  },
  {
   "cell_type": "code",
   "execution_count": null,
   "metadata": {},
   "outputs": [],
   "source": [
    "df1 = pd.read_excel(r'D:\\Python_project\\INPAQ_price_comparison\\quotation_record.xlsx')\n",
    "df2 = pd.read_excel(r'D:\\Python_project\\INPAQ_price_comparison\\inquiry.xlsx')\n",
    "df3 = pd.merge(df1, df2, on=['Inpaq PN'], how='inner')\n",
    "df3 = df3.loc[:,['Date_x', 'Customer', 'Supplier PN_x', 'Inpaq PN','Inpaq Price(USD/Kpcs)']]\n",
    "df3"
   ]
  },
  {
   "cell_type": "code",
   "execution_count": null,
   "metadata": {},
   "outputs": [],
   "source": [
    "x = input('請輸入位置:') + '.xlsx'\n",
    "print(x)"
   ]
  }
 ],
 "metadata": {
  "kernelspec": {
   "display_name": "Python 3",
   "language": "python",
   "name": "python3"
  },
  "language_info": {
   "codemirror_mode": {
    "name": "ipython",
    "version": 3
   },
   "file_extension": ".py",
   "mimetype": "text/x-python",
   "name": "python",
   "nbconvert_exporter": "python",
   "pygments_lexer": "ipython3",
   "version": "3.8.5"
  }
 },
 "nbformat": 4,
 "nbformat_minor": 4
}
