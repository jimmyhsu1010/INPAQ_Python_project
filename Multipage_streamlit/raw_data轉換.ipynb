{
 "cells": [
  {
   "cell_type": "code",
   "execution_count": null,
   "id": "6f9c7cf7",
   "metadata": {},
   "outputs": [],
   "source": [
    "import pandas as pd\n",
    "pd.set_option(\"display.max_columns\", None)\n",
    "import plotly.express as px\n",
    "import calendar\n",
    "def my_formatter(x):\n",
    "    if x < 0:\n",
    "        return '{:,.0f}'.format(-x)\n",
    "    return '{:,.0f}'.format(x)\n",
    "pd.options.display.float_format = my_formatter"
   ]
  },
  {
   "cell_type": "code",
   "execution_count": null,
   "id": "4c138627",
   "metadata": {
    "scrolled": true
   },
   "outputs": [],
   "source": [
    "import pandas_profiling"
   ]
  },
  {
   "cell_type": "code",
   "execution_count": null,
   "id": "bbd21270",
   "metadata": {},
   "outputs": [],
   "source": [
    "report = pandas_profiling.ProfileReport(df)\n",
    "report.to_file(r\"C:\\Users\\kaihsu\\Desktop\\axmr_report.html\")"
   ]
  },
  {
   "cell_type": "code",
   "execution_count": null,
   "id": "a4bebe7d",
   "metadata": {},
   "outputs": [],
   "source": [
    "df[\"預交年份\"] = df[\"預交年份\"].astype(\"str\")"
   ]
  },
  {
   "cell_type": "code",
   "execution_count": null,
   "id": "69b5df90",
   "metadata": {},
   "outputs": [],
   "source": [
    "chart = df.groupby([\"客戶集團\", \"預交年份\"])[[\"金額*集團匯率(NTD)\"]].sum().reset_index()"
   ]
  },
  {
   "cell_type": "code",
   "execution_count": null,
   "id": "1e6557bb",
   "metadata": {},
   "outputs": [],
   "source": [
    "px.bar(chart, x=\"客戶集團\", y=\"金額*集團匯率(NTD)\", color=\"預交年份\", barmode=\"group\")"
   ]
  },
  {
   "cell_type": "code",
   "execution_count": null,
   "id": "5fcbd295",
   "metadata": {},
   "outputs": [],
   "source": [
    "month_name = [calendar.month_name[i] for i in range(1, 13)]"
   ]
  },
  {
   "cell_type": "code",
   "execution_count": null,
   "id": "2670d644",
   "metadata": {},
   "outputs": [],
   "source": [
    "month_number = [str(i) for i in range(1, 13)]"
   ]
  },
  {
   "cell_type": "code",
   "execution_count": null,
   "id": "19729d5b",
   "metadata": {},
   "outputs": [],
   "source": [
    "month_dict = dict(zip(month_number, month_name))"
   ]
  },
  {
   "cell_type": "code",
   "execution_count": null,
   "id": "030efa20",
   "metadata": {},
   "outputs": [],
   "source": [
    "df[\"預交月份\"] = df[\"預交日期\"].str.split(\"-\", expand=True)[1].str.replace(\"0\", \"\").map(month_dict)"
   ]
  },
  {
   "cell_type": "code",
   "execution_count": null,
   "id": "34be4aa0",
   "metadata": {},
   "outputs": [],
   "source": [
    "df.BU.unique()"
   ]
  },
  {
   "cell_type": "code",
   "execution_count": null,
   "id": "520f7434",
   "metadata": {
    "scrolled": true
   },
   "outputs": [],
   "source": [
    "df[\"分類\"] = df.apply(lambda x: \"元件\" if x[\"BU\"] not in [\"RF1\", \"RF2\"] else \"天線\" if x[\"BU\"] in [\"RF1\", \"RF2\"] else \"未分類\", axis=1)"
   ]
  },
  {
   "cell_type": "code",
   "execution_count": null,
   "id": "7ee80b39",
   "metadata": {
    "scrolled": true
   },
   "outputs": [],
   "source": [
    "df.columns"
   ]
  },
  {
   "cell_type": "markdown",
   "id": "c05a778b",
   "metadata": {},
   "source": [
    "## 整理2022年預算為csv"
   ]
  },
  {
   "cell_type": "code",
   "execution_count": null,
   "id": "f3e705d2",
   "metadata": {},
   "outputs": [],
   "source": [
    "budget_2022 = pd.read_excel(r\"C:\\Users\\kaihsu\\OneDrive\\INPAQ\\預算\\2022 Forecast\\正式預算\\20211129_第四版預算\\2022年最終版預算.xlsx\", sheet_name=\"Sheet1\")"
   ]
  },
  {
   "cell_type": "code",
   "execution_count": null,
   "id": "df9d7fb4",
   "metadata": {},
   "outputs": [],
   "source": [
    "budget_2022[\"數量\"] = budget_2022[\"數量\"].map(lambda x: 0 if x == \" -  \" else x).astype(\"int\")"
   ]
  },
  {
   "cell_type": "code",
   "execution_count": null,
   "id": "053dc7d6",
   "metadata": {
    "scrolled": true
   },
   "outputs": [],
   "source": [
    "budget_2022 = budget_2022.astype({\"年份\": \"str\", \"數量\": \"int\", \"金額\": \"int\"})"
   ]
  },
  {
   "cell_type": "code",
   "execution_count": null,
   "id": "1b7fd6eb",
   "metadata": {},
   "outputs": [],
   "source": [
    "budget_2022[\"Group\"] = budget_2022[\"Group\"].str.upper()"
   ]
  },
  {
   "cell_type": "code",
   "execution_count": null,
   "id": "56dea541",
   "metadata": {},
   "outputs": [],
   "source": [
    "budget_2022.to_csv(r\"C:\\Users\\kaihsu\\PycharmProjects\\inpaq_streamlit_project\\data\\budget_2022.csv\", index=False)"
   ]
  },
  {
   "cell_type": "code",
   "execution_count": null,
   "id": "67229261",
   "metadata": {},
   "outputs": [],
   "source": [
    "budget_2022.columns.tolist()"
   ]
  },
  {
   "cell_type": "markdown",
   "id": "6299ddb5",
   "metadata": {},
   "source": [
    "## 預算和實際一起合併"
   ]
  },
  {
   "cell_type": "code",
   "execution_count": null,
   "id": "6a8f3b21",
   "metadata": {},
   "outputs": [],
   "source": [
    "revenue = pd.read_csv(r\"C:\\Users\\kaihsu\\PycharmProjects\\inpaq_streamlit_project\\data\\axmr_transform_file\\converted_axmr430.csv\")"
   ]
  },
  {
   "cell_type": "code",
   "execution_count": null,
   "id": "ef51638b",
   "metadata": {},
   "outputs": [],
   "source": [
    "def combine_numbers(revenue, budget):\n",
    "    columns = [\"負責業務\", \"BG\", \"Group\", \"年份\", \"月份\", \"數量\", \"金額\", \"品名\", \"類型\", \"金額類型\"]\n",
    "    trans_rev = revenue.groupby([\"訂單業務\", \"BU\", \"客戶集團\", \"預交年份\", \"預交月份\", \"品名\", \"分類\"])[[\"數量\", \"金額*集團匯率(NTD)\"]].sum().reset_index()\n",
    "    trans_rev[\"金額類型\"] = \"實績\"\n",
    "    trans_rev = trans_rev.reindex(columns=[\"訂單業務\", \"BU\", \"客戶集團\", \"預交年份\", \"預交月份\", \"數量\", \"金額*集團匯率(NTD)\", \"品名\", \"分類\", \"金額類型\"],)\n",
    "    trans_rev.columns = columns\n",
    "    result = pd.concat([trans_rev, budget], axis=0)\n",
    "    return result"
   ]
  },
  {
   "cell_type": "markdown",
   "id": "6bb27153",
   "metadata": {},
   "source": [
    "## 圖表設計"
   ]
  },
  {
   "cell_type": "markdown",
   "id": "c837c5f5",
   "metadata": {},
   "source": [
    "## 顯示每月預算和實績"
   ]
  },
  {
   "cell_type": "code",
   "execution_count": null,
   "id": "878c31b4",
   "metadata": {
    "scrolled": false
   },
   "outputs": [],
   "source": [
    "pd.pivot_table(chart, index=[\"負責業務\", \"類型\", \"年份\", \"金額類型\"],  columns=\"月份\", values=\"金額\")"
   ]
  },
  {
   "cell_type": "markdown",
   "id": "457b81d8",
   "metadata": {},
   "source": [
    "## 使用Plotly作圖"
   ]
  },
  {
   "cell_type": "code",
   "execution_count": null,
   "id": "8445f24f",
   "metadata": {},
   "outputs": [],
   "source": [
    "chart = combine_numbers(revenue, budget_2022)"
   ]
  },
  {
   "cell_type": "code",
   "execution_count": null,
   "id": "45c5321a",
   "metadata": {},
   "outputs": [],
   "source": [
    "month_name = [calendar.month_name[i] for i in range(1, 13)]"
   ]
  },
  {
   "cell_type": "code",
   "execution_count": null,
   "id": "04eee9c2",
   "metadata": {},
   "outputs": [],
   "source": [
    "chart_filtered = chart.groupby([\"年份\", \"負責業務\", \"月份\", \"金額類型\"])[[\"金額\"]].sum().reset_index()"
   ]
  },
  {
   "cell_type": "code",
   "execution_count": null,
   "id": "b81c1540",
   "metadata": {
    "scrolled": true
   },
   "outputs": [],
   "source": [
    "px.area(\n",
    "chart_filtered.query(\"負責業務 == '許凱智' & 年份 == '2022'\"), x=\"月份\", y=\"金額\", color=\"金額類型\", category_orders={\"月份\": month_name}\n",
    ")"
   ]
  },
  {
   "cell_type": "code",
   "execution_count": null,
   "id": "fdaa3e05",
   "metadata": {},
   "outputs": [],
   "source": []
  }
 ],
 "metadata": {
  "kernelspec": {
   "display_name": "Python 3 (ipykernel)",
   "language": "python",
   "name": "python3"
  },
  "language_info": {
   "codemirror_mode": {
    "name": "ipython",
    "version": 3
   },
   "file_extension": ".py",
   "mimetype": "text/x-python",
   "name": "python",
   "nbconvert_exporter": "python",
   "pygments_lexer": "ipython3",
   "version": "3.8.8"
  }
 },
 "nbformat": 4,
 "nbformat_minor": 5
}
