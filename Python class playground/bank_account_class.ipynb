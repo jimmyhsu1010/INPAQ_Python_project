{
 "cells": [
  {
   "cell_type": "code",
   "execution_count": null,
   "metadata": {},
   "outputs": [],
   "source": [
    "df = pd.DataFrame(columns=['時間', '帳號', '密碼', '金額', '餘額', '類型'])"
   ]
  },
  {
   "cell_type": "code",
   "execution_count": null,
   "metadata": {},
   "outputs": [],
   "source": [
    "class CreatAccount:\n",
    "    \n",
    "\n",
    "    def __init__(self, account, password, balance):\n",
    "        self.account = account\n",
    "        self.password = password\n",
    "        self.balance = balance\n",
    "        self.time = datetime.datetime.now().strftime('%Y-%m-%d %H:%M:%S')\n",
    "        self.info = {'時間': self.time, '帳號': self.account, '密碼': self.password, '餘額': self.balance, '類型': '新建賬戶'}\n",
    "        \n",
    "    def deposite(self):\n",
    "        while True:\n",
    "            self.amount = eval(input('請輸入要存入的金額：\\n'))\n",
    "            if self.amount <= 0:\n",
    "                print('金額不得小於零，請重新輸入：\\n')\n",
    "                continue\n",
    "            else:\n",
    "                self.balance += self.amount\n",
    "                print('存入金額{}元成功，目前餘額{}元。'.format(self.amount, self.balance))\n",
    "                self.time = datetime.datetime.now().strftime('%Y-%m-%d %H:%M:%S')\n",
    "                return {'時間': self.time, '帳號': self.account, '密碼': self.password, '金額': self.amount, '餘額': self.balance, '類型': '存款'}\n",
    "                break\n",
    "                \n",
    "    def withdraw(self):\n",
    "        while True:\n",
    "            self.amount = eval(input('請輸入要提取的金額：\\n'))\n",
    "            if self.amount <= 0:\n",
    "                print('金額不得小於零，請重新輸入：\\n')\n",
    "                continue\n",
    "            elif self.amount > self.balance:\n",
    "                print('餘額不足，無法提取。請重新輸入：\\n')\n",
    "                continue\n",
    "            else:\n",
    "                self.balance -= self.amount\n",
    "                print('已提取{}元成功，目前餘額{}元。'.format(self.amount, self.balance))\n",
    "                self.time = datetime.datetime.now().strftime('%Y-%m-%d %H:%M:%S')\n",
    "                return {'時間': self.time, '帳號': self.account, '密碼': self.password, '金額': self.amount, '餘額': self.balance, '類型': '存款'}\n",
    "                break\n",
    "    \n",
    "    def transit(self, account, amount):\n",
    "        account.balance = account.balance + amount\n",
    "        self.balance -= amount\n",
    "            \n",
    "            \n",
    "        \n",
    "    \n",
    "        "
   ]
  },
  {
   "cell_type": "code",
   "execution_count": null,
   "metadata": {
    "scrolled": false
   },
   "outputs": [],
   "source": [
    "kai = CreatAccount('kai', '711010', 0)"
   ]
  },
  {
   "cell_type": "code",
   "execution_count": null,
   "metadata": {},
   "outputs": [],
   "source": [
    "amber = CreatAccount('Amber', '231298412', 0)"
   ]
  },
  {
   "cell_type": "code",
   "execution_count": null,
   "metadata": {
    "scrolled": false
   },
   "outputs": [],
   "source": [
    "kai.deposite()"
   ]
  },
  {
   "cell_type": "code",
   "execution_count": null,
   "metadata": {
    "scrolled": false
   },
   "outputs": [],
   "source": [
    "kai.transit(amber, 123122)"
   ]
  },
  {
   "cell_type": "code",
   "execution_count": null,
   "metadata": {},
   "outputs": [],
   "source": [
    "kai.balance"
   ]
  },
  {
   "cell_type": "code",
   "execution_count": null,
   "metadata": {},
   "outputs": [],
   "source": [
    "amber.balance"
   ]
  }
 ],
 "metadata": {
  "kernelspec": {
   "display_name": "Python 3",
   "language": "python",
   "name": "python3"
  },
  "language_info": {
   "codemirror_mode": {
    "name": "ipython",
    "version": 3
   },
   "file_extension": ".py",
   "mimetype": "text/x-python",
   "name": "python",
   "nbconvert_exporter": "python",
   "pygments_lexer": "ipython3",
   "version": "3.8.5"
  }
 },
 "nbformat": 4,
 "nbformat_minor": 4
}
