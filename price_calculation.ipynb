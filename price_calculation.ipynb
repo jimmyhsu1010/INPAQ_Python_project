{
 "cells": [
  {
   "cell_type": "code",
   "execution_count": null,
   "metadata": {},
   "outputs": [],
   "source": [
    "def get_currency(): # 取得即時匯率\n",
    "    import pandas as pd\n",
    "    url = \"http://m.stockq.org/currency.php\"\n",
    "    table = pd.read_html(url)[3] #匯率表格的位置\n",
    "    # table.drop(['2','3','4'], axis=0)\n",
    "    currency = pd.DataFrame(table)\n",
    "    currency = currency.drop([2,3,4], axis=1)\n",
    "    currency.columns = ['名稱', '匯率']\n",
    "    currency = currency.drop([0,1,17], axis=0).reset_index(drop=True)\n",
    "    return currency\n",
    "print(get_currency())\n"
   ]
  },
  {
   "cell_type": "code",
   "execution_count": null,
   "metadata": {},
   "outputs": [],
   "source": [
    "def menu():\n",
    "    print(' 1---RMB\\n', '2 ---USD\\n', '3---TWD')\n",
    "    answer = input('Please enter the original currency:')\n",
    "    cost = float(input('Please enter the cost of the product: '))\n",
    "    x = get_currency()\n",
    "    if answer == '1':\n",
    "        mask = x['名稱'] == '美元/人民幣'\n",
    "        currency_rate = float(x[mask]['匯率'])\n",
    "        quotation_30 = round(cost / currency_rate * 1.3, 2)\n",
    "        quotation_25 = round(cost / currency_rate * 1.25, 2)\n",
    "        quotation_20 = round(cost / currency_rate * 1.2, 2)\n",
    "        quotation_15 = round(cost / currency_rate * 1.15, 2)\n",
    "        return quotation_30, quotation_25, quotation_20, quotation_15\n",
    "    elif answer == '2':\n",
    "        quotation_30 = round(cost * 1.3, 2)\n",
    "        quotation_25 = round(cost * 1.25, 2)\n",
    "        quotation_20 = round(cost * 1.2, 2)\n",
    "        quotation_15 = round(cost * 1.15, 2)\n",
    "        return quotation_30, quotation_25, quotation_20, quotation_15\n",
    "    elif answer == '3':\n",
    "        mask = x['名稱'] == '美元/台幣'\n",
    "        currency_rate = float(x[mask]['匯率'])\n",
    "        quotation_30 = round(cost / currency_rate * 1.3, 2)\n",
    "        quotation_25 = round(cost / currency_rate * 1.25, 2)\n",
    "        quotation_20 = round(cost / currency_rate * 1.2, 2)\n",
    "        quotation_15 = round(cost / currency_rate * 1.15, 2)\n",
    "        return quotation_30, quotation_25, quotation_20, quotation_15\n",
    "    \n",
    "        \n",
    "\n",
    "a, b, c, d = menu()\n",
    "print(' The quotation with 30% margin is {} USD.\\n The quotation with 25% margin is {} USD.\\n The quotation with 20% margin is {} USD.\\n The quotation with 15% margin is {} USD.'.format(a, b, c, d))"
   ]
  },
  {
   "cell_type": "code",
   "execution_count": null,
   "metadata": {},
   "outputs": [],
   "source": [
    "x = get_currency()\n",
    "mask = x['名稱'] == '美元/人民幣'\n",
    "currency_rate = float(x[mask]['匯率'])\n",
    "currency_rate\n",
    "    "
   ]
  },
  {
   "cell_type": "code",
   "execution_count": null,
   "metadata": {},
   "outputs": [],
   "source": [
    "get_currency()"
   ]
  }
 ],
 "metadata": {
  "kernelspec": {
   "display_name": "Python 3",
   "language": "python",
   "name": "python3"
  },
  "language_info": {
   "codemirror_mode": {
    "name": "ipython",
    "version": 3
   },
   "file_extension": ".py",
   "mimetype": "text/x-python",
   "name": "python",
   "nbconvert_exporter": "python",
   "pygments_lexer": "ipython3",
   "version": "3.8.5"
  }
 },
 "nbformat": 4,
 "nbformat_minor": 4
}
