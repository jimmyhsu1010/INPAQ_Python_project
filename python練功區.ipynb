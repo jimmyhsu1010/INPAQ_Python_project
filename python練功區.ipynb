{
 "cells": [
  {
   "cell_type": "markdown",
   "metadata": {},
   "source": [
    "## 20210729 合併文件"
   ]
  },
  {
   "cell_type": "code",
   "execution_count": null,
   "metadata": {},
   "outputs": [],
   "source": [
    "import pandas as pd\n",
    "import tkinter as tk\n",
    "from tkinter import filedialog"
   ]
  },
  {
   "cell_type": "code",
   "execution_count": null,
   "metadata": {},
   "outputs": [],
   "source": [
    "def get_paths():\n",
    "    root = tk.Tk()\n",
    "    root.withdraw()\n",
    "    paths = filedialog.askopenfilenames()\n",
    "    return paths\n",
    "\n",
    "\n",
    "def parse_paths(file_paths: list):\n",
    "    dfs = []\n",
    "    for data, file_num in zip(file_paths, range(1, len(file_paths)+1)):\n",
    "        globals()['df' + str(file_num)] = pd.read_excel(data)\n",
    "        if 'Unnamed: 1' in globals()['df' + str(file_num)].columns:\n",
    "            globals()['df' + str(file_num)] = pd.read_excel(data, header=3)\n",
    "            # globals()['df' + str(file_num)] = globals()['df' + str(file_num)][:-2]\n",
    "            # globals()['df' + str(file_num)].columns = columns\n",
    "        # globals()['df' + str(file_num)].columns = columns\n",
    "        dfs.append(globals()['df' + str(file_num)])\n",
    "    return dfs\n",
    "\n",
    "\n",
    "def combine_tables(tables):\n",
    "    df = pd.concat(tables, axis=0)\n",
    "    df.reset_index(drop=True, inplace=True)\n",
    "    # df.dropna(subset=['客戶名稱'], inplace=True)\n",
    "    return df\n"
   ]
  },
  {
   "cell_type": "code",
   "execution_count": null,
   "metadata": {},
   "outputs": [],
   "source": [
    "def fill_value(values: list):\n",
    "    '''\n",
    "    針對合併儲存格的處理，讓每個儲存格都有值。\n",
    "    因為合併儲存格的話，在pandas裡面會只有第一raw有值，剩下的都會是空白，所以要用此function來把值複製上去。\n",
    "    '''\n",
    "    x = ''\n",
    "    result_list = []\n",
    "    for i in values:\n",
    "        if pd.notna(i):\n",
    "            x = i\n",
    "            result_list.append(x)\n",
    "        elif pd.isna(i):\n",
    "            i = x\n",
    "            result_list.append(i)\n",
    "    return result_list"
   ]
  },
  {
   "cell_type": "code",
   "execution_count": null,
   "metadata": {},
   "outputs": [],
   "source": [
    "paths = get_paths()"
   ]
  },
  {
   "cell_type": "code",
   "execution_count": null,
   "metadata": {},
   "outputs": [],
   "source": [
    "dfs = parse_paths(paths)\n",
    "result = combine_tables(dfs)\n",
    "# result['C/NO'] = result['C/NO'].astype('str')\n",
    "result['INV-NO'] = fill_value(result['INV-NO'])\n",
    "result['C/NO'] = fill_value(result['C/NO'])\n",
    "result['P/O no.'] = result['P/O no.'].map(lambda x: x + '0')\n",
    "result.to_excel(r\"C:\\Users\\kaihsu\\Desktop\\合併資料\\總表.xlsx\", index=False)"
   ]
  },
  {
   "cell_type": "code",
   "execution_count": null,
   "metadata": {},
   "outputs": [],
   "source": [
    "result['INV-NO'] = fill_value(result['C/NO'])"
   ]
  },
  {
   "cell_type": "code",
   "execution_count": null,
   "metadata": {},
   "outputs": [],
   "source": [
    "result['P/O no.'].map(lambda x: x + '0')"
   ]
  },
  {
   "cell_type": "code",
   "execution_count": null,
   "metadata": {},
   "outputs": [],
   "source": [
    "result['C/NO'].map(lambda x: )"
   ]
  },
  {
   "cell_type": "markdown",
   "metadata": {},
   "source": [
    "### 隨便亂試 20210722"
   ]
  },
  {
   "cell_type": "code",
   "execution_count": null,
   "metadata": {},
   "outputs": [],
   "source": [
    "import pandas as pd"
   ]
  },
  {
   "cell_type": "code",
   "execution_count": null,
   "metadata": {},
   "outputs": [],
   "source": [
    "def generate_currency():\n",
    "    df = pd.read_clipboard()\n",
    "    return df.stack().reset_index()"
   ]
  },
  {
   "cell_type": "code",
   "execution_count": null,
   "metadata": {},
   "outputs": [],
   "source": [
    "may_2021 = generate_currency()"
   ]
  },
  {
   "cell_type": "code",
   "execution_count": null,
   "metadata": {},
   "outputs": [],
   "source": [
    "may_2021['Month'] = '2021-05-01'"
   ]
  },
  {
   "cell_type": "code",
   "execution_count": null,
   "metadata": {},
   "outputs": [],
   "source": [
    "may_2021['Month'] = pd.to_datetime(may_2021['Month'], yearfirst=True).dt.strftime('%Y-%m')"
   ]
  },
  {
   "cell_type": "code",
   "execution_count": null,
   "metadata": {},
   "outputs": [],
   "source": [
    "june_2021 = df.stack().reset_index()"
   ]
  },
  {
   "cell_type": "code",
   "execution_count": null,
   "metadata": {},
   "outputs": [],
   "source": [
    "june_2021['Month'] = '2021-06-01'\n",
    "june_2021['Month'] = pd.to_datetime(june_2021['Month'], yearfirst=True).dt.strftime('%Y-%m')"
   ]
  },
  {
   "cell_type": "code",
   "execution_count": null,
   "metadata": {},
   "outputs": [],
   "source": [
    "april_2021 = generate_currency()"
   ]
  },
  {
   "cell_type": "code",
   "execution_count": null,
   "metadata": {},
   "outputs": [],
   "source": [
    "april_2021['Month'] = '2021-04-01'\n",
    "april_2021['Month'] = pd.to_datetime(april_2021['Month'], yearfirst=True).dt.strftime('%Y-%m')"
   ]
  },
  {
   "cell_type": "code",
   "execution_count": null,
   "metadata": {},
   "outputs": [],
   "source": [
    "march_2021 = generate_currency()"
   ]
  },
  {
   "cell_type": "code",
   "execution_count": null,
   "metadata": {},
   "outputs": [],
   "source": [
    "march_2021['Month'] = '2021-03-01'\n",
    "march_2021['Month'] = pd.to_datetime(march_2021['Month'], yearfirst=True).dt.strftime('%Y-%m')"
   ]
  },
  {
   "cell_type": "code",
   "execution_count": null,
   "metadata": {},
   "outputs": [],
   "source": [
    "feb_2021 = generate_currency()"
   ]
  },
  {
   "cell_type": "code",
   "execution_count": null,
   "metadata": {},
   "outputs": [],
   "source": [
    "feb_2021['Month'] = '2021-02-01'\n",
    "feb_2021['Month'] = pd.to_datetime(feb_2021['Month'], yearfirst=True).dt.strftime('%Y-%m')"
   ]
  },
  {
   "cell_type": "code",
   "execution_count": null,
   "metadata": {},
   "outputs": [],
   "source": [
    "jan_2021 = generate_currency()"
   ]
  },
  {
   "cell_type": "code",
   "execution_count": null,
   "metadata": {},
   "outputs": [],
   "source": [
    "jan_2021['Month'] = '2021-02-01'\n",
    "jan_2021['Month'] = pd.to_datetime(jan_2021['Month'], yearfirst=True).dt.strftime('%Y-%m')"
   ]
  },
  {
   "cell_type": "code",
   "execution_count": null,
   "metadata": {},
   "outputs": [],
   "source": [
    "dec_2020 = generate_currency()"
   ]
  },
  {
   "cell_type": "code",
   "execution_count": null,
   "metadata": {},
   "outputs": [],
   "source": [
    "dec_2020['Month'] = '2020-12-01'\n",
    "dec_2020['Month'] = pd.to_datetime(dec_2020['Month'], yearfirst=True).dt.strftime('%Y-%m')"
   ]
  },
  {
   "cell_type": "code",
   "execution_count": null,
   "metadata": {},
   "outputs": [],
   "source": [
    "nov_2020 = generate_currency()"
   ]
  },
  {
   "cell_type": "code",
   "execution_count": null,
   "metadata": {},
   "outputs": [],
   "source": [
    "nov_2020['Month'] = '2020-11-01'\n",
    "nov_2020['Month'] = pd.to_datetime(nov_2020['Month'], yearfirst=True).dt.strftime('%Y-%m')"
   ]
  },
  {
   "cell_type": "code",
   "execution_count": null,
   "metadata": {},
   "outputs": [],
   "source": [
    "oct_2020 = generate_currency()"
   ]
  },
  {
   "cell_type": "code",
   "execution_count": null,
   "metadata": {},
   "outputs": [],
   "source": [
    "oct_2020['Month'] = '2020-10-01'\n",
    "oct_2020['Month'] = pd.to_datetime(oct_2020['Month'], yearfirst=True).dt.strftime('%Y-%m')"
   ]
  },
  {
   "cell_type": "code",
   "execution_count": null,
   "metadata": {},
   "outputs": [],
   "source": [
    "sep_2020 = generate_currency()"
   ]
  },
  {
   "cell_type": "code",
   "execution_count": null,
   "metadata": {},
   "outputs": [],
   "source": [
    "sep_2020['Month'] = '2020-09-01'\n",
    "sep_2020['Month'] = pd.to_datetime(sep_2020['Month'], yearfirst=True).dt.strftime('%Y-%m')"
   ]
  },
  {
   "cell_type": "code",
   "execution_count": null,
   "metadata": {},
   "outputs": [],
   "source": [
    "aug_2020 = generate_currency()"
   ]
  },
  {
   "cell_type": "code",
   "execution_count": null,
   "metadata": {},
   "outputs": [],
   "source": [
    "aug_2020['Month'] = '2020-08-01'\n",
    "aug_2020['Month'] = pd.to_datetime(aug_2020['Month'], yearfirst=True).dt.strftime('%Y-%m')"
   ]
  },
  {
   "cell_type": "code",
   "execution_count": null,
   "metadata": {},
   "outputs": [],
   "source": [
    "jul_2020 = generate_currency()"
   ]
  },
  {
   "cell_type": "code",
   "execution_count": null,
   "metadata": {},
   "outputs": [],
   "source": [
    "jul_2020['Month'] = '2020-07-01'\n",
    "jul_2020['Month'] = pd.to_datetime(jul_2020['Month'], yearfirst=True).dt.strftime('%Y-%m')"
   ]
  },
  {
   "cell_type": "code",
   "execution_count": null,
   "metadata": {},
   "outputs": [],
   "source": [
    "jun_2020 = generate_currency()"
   ]
  },
  {
   "cell_type": "code",
   "execution_count": null,
   "metadata": {},
   "outputs": [],
   "source": [
    "jun_2020['Month'] = '2020-06-01'\n",
    "jun_2020['Month'] = pd.to_datetime(jun_2020['Month'], yearfirst=True).dt.strftime('%Y-%m')"
   ]
  },
  {
   "cell_type": "code",
   "execution_count": null,
   "metadata": {},
   "outputs": [],
   "source": [
    "result = pd.concat([may_2021, june_2021, april_2021, march_2021, feb_2021, jan_2021, dec_2020, nov_2020, oct_2020, sep_2020, aug_2020, jul_2020, jun_2020], axis=0)"
   ]
  },
  {
   "cell_type": "code",
   "execution_count": null,
   "metadata": {},
   "outputs": [],
   "source": [
    "result.columns = ['原幣別', '轉換幣別', '匯率', '月份']"
   ]
  },
  {
   "cell_type": "code",
   "execution_count": null,
   "metadata": {
    "scrolled": true
   },
   "outputs": [],
   "source": [
    "result = result[result['匯率'] != 1]"
   ]
  },
  {
   "cell_type": "code",
   "execution_count": null,
   "metadata": {},
   "outputs": [],
   "source": [
    "result.to_excel(r\"C:\\Users\\kaihsu\\OneDrive\\INPAQ\\110年度匯率表.xlsx\", index=False)"
   ]
  },
  {
   "cell_type": "markdown",
   "metadata": {},
   "source": [
    "### list實驗區"
   ]
  },
  {
   "cell_type": "code",
   "execution_count": null,
   "metadata": {},
   "outputs": [],
   "source": [
    "list(\"kai\")"
   ]
  },
  {
   "cell_type": "code",
   "execution_count": null,
   "metadata": {},
   "outputs": [],
   "source": [
    "s = [1, 2, 3, 4]\n",
    "k = [3, 2, 3, 4]\n",
    "s+k"
   ]
  },
  {
   "cell_type": "code",
   "execution_count": null,
   "metadata": {},
   "outputs": [],
   "source": [
    "set(s)"
   ]
  },
  {
   "cell_type": "code",
   "execution_count": null,
   "metadata": {},
   "outputs": [],
   "source": [
    "set(k)"
   ]
  },
  {
   "cell_type": "code",
   "execution_count": null,
   "metadata": {},
   "outputs": [],
   "source": [
    "set(s) & set(k)"
   ]
  },
  {
   "cell_type": "code",
   "execution_count": null,
   "metadata": {
    "scrolled": true
   },
   "outputs": [],
   "source": [
    "[\"{} * {} = {}\".format(i, j, i * j, end=\"\\t\") for i in range(1, 10) for j in range(1, 10)]"
   ]
  },
  {
   "cell_type": "code",
   "execution_count": null,
   "metadata": {},
   "outputs": [],
   "source": [
    "def sum_avg(n1, n2=10):\n",
    "    total = 0\n",
    "    for i in range(n1, n2+1):\n",
    "        total += i\n",
    "        avg = total / (n2-n1+1)\n",
    "    return total, avg"
   ]
  },
  {
   "cell_type": "code",
   "execution_count": null,
   "metadata": {},
   "outputs": [],
   "source": [
    "sum_avg(2)"
   ]
  },
  {
   "cell_type": "code",
   "execution_count": null,
   "metadata": {},
   "outputs": [],
   "source": [
    "def greet(*args, **kwargs):\n",
    "    print(args, kwargs)"
   ]
  },
  {
   "cell_type": "code",
   "execution_count": null,
   "metadata": {},
   "outputs": [],
   "source": [
    "greet(\"jimmy\", \"Mary\", \"Mike\", \"Amber\", x=1, y=2, shit=3)"
   ]
  },
  {
   "cell_type": "code",
   "execution_count": null,
   "metadata": {},
   "outputs": [],
   "source": [
    "greet([\"jimmy\", \"Amber\"])"
   ]
  },
  {
   "cell_type": "code",
   "execution_count": null,
   "metadata": {},
   "outputs": [],
   "source": [
    "def outer(msg):\n",
    "    \n",
    "    def inner():\n",
    "        print(msg)\n",
    "        \n",
    "    inner()\n",
    "    \n",
    "    outer(\"Shit\")\n",
    "    "
   ]
  },
  {
   "cell_type": "code",
   "execution_count": null,
   "metadata": {
    "scrolled": false
   },
   "outputs": [],
   "source": [
    "import pandas as pd"
   ]
  },
  {
   "cell_type": "code",
   "execution_count": null,
   "metadata": {},
   "outputs": [],
   "source": [
    "list1 = [[1, 2], [2, 2], [3, 2]] # 3 rows x 2 colums"
   ]
  },
  {
   "cell_type": "code",
   "execution_count": null,
   "metadata": {},
   "outputs": [],
   "source": [
    "pd.DataFrame(list1)"
   ]
  },
  {
   "cell_type": "markdown",
   "metadata": {},
   "source": [
    "### 建立3*4表格"
   ]
  },
  {
   "cell_type": "code",
   "execution_count": null,
   "metadata": {},
   "outputs": [],
   "source": [
    "import random\n",
    "\n",
    "s = []\n",
    "for i in range(3):\n",
    "    s.append([])\n",
    "    for j in range(4):\n",
    "        s[i].append(random.randint(1, 50))\n",
    "print(s)"
   ]
  },
  {
   "cell_type": "markdown",
   "metadata": {},
   "source": [
    "## Class實驗區"
   ]
  },
  {
   "cell_type": "markdown",
   "metadata": {},
   "source": [
    "### 方法一"
   ]
  },
  {
   "cell_type": "code",
   "execution_count": null,
   "metadata": {},
   "outputs": [],
   "source": [
    "class Duck():\n",
    "    def __init__(self, input_name):\n",
    "        self.hidden_name = input_name\n",
    "    def get_name(self): # 參考Duck物件的name時，其實呼叫的是get_name()方法並回傳\n",
    "        print(\"inside the getter\")\n",
    "        return self.hidden_name\n",
    "    def set_name(self, input_name):\n",
    "        print(\"inside the setter\")\n",
    "        self.hidden_name = input_name\n",
    "    name = property(get_name, set_name) "
   ]
  },
  {
   "cell_type": "code",
   "execution_count": null,
   "metadata": {},
   "outputs": [],
   "source": [
    "fowl = Duck(\"Howard\")\n",
    "fowl.name"
   ]
  },
  {
   "cell_type": "code",
   "execution_count": null,
   "metadata": {
    "scrolled": true
   },
   "outputs": [],
   "source": [
    "fowl.get_name()"
   ]
  },
  {
   "cell_type": "code",
   "execution_count": null,
   "metadata": {},
   "outputs": [],
   "source": [
    "fowl.name = \"Kai\" # 將新的值”Kai\"指派給name的時候，就會呼叫set_name()方法"
   ]
  },
  {
   "cell_type": "code",
   "execution_count": null,
   "metadata": {},
   "outputs": [],
   "source": [
    "fowl.name"
   ]
  },
  {
   "cell_type": "markdown",
   "metadata": {},
   "source": [
    "### 方法二\n",
    "另一個定義特性的方法就是使用裝飾器：（兩個方法都叫做<font color=red>**name()**</font>）<br>\n",
    "如此一來可以將method變成attribute。<br>\n",
    "用此方法也可以修改private的attribute\n",
    "- @property在getter方法之前\n",
    "- @name.setter在setter方法之前\n",
    "\n"
   ]
  },
  {
   "cell_type": "code",
   "execution_count": null,
   "metadata": {},
   "outputs": [],
   "source": [
    "class Duck():\n",
    "    def __init__(self, input_name):\n",
    "        self.__hidden_name = input_name\n",
    "    @property\n",
    "    def name(self):\n",
    "        print(\"inside the getter\")\n",
    "        return self.__hidden_name\n",
    "    @name.setter\n",
    "    def name(self, input_name):\n",
    "        print(\"inside the setter\")\n",
    "        self.__hidden_name = input_name"
   ]
  },
  {
   "cell_type": "code",
   "execution_count": null,
   "metadata": {},
   "outputs": [],
   "source": [
    "test = Duck(\"Howard\")\n",
    "test.name"
   ]
  },
  {
   "cell_type": "code",
   "execution_count": null,
   "metadata": {
    "scrolled": true
   },
   "outputs": [],
   "source": [
    "test.name = \"Amber\"\n",
    "test.name"
   ]
  },
  {
   "cell_type": "markdown",
   "metadata": {},
   "source": [
    "## 類別方法"
   ]
  },
  {
   "cell_type": "code",
   "execution_count": null,
   "metadata": {},
   "outputs": [],
   "source": [
    "class Account():\n",
    "    name_list = [] # 類別屬性\n",
    "    def __init__(self, name):\n",
    "        self.name = name\n",
    "        Account.name_list.append(self.name) # ！！Account類別的屬性來講新建立的物件放進去list\n",
    "    @classmethod\n",
    "    def accounts(cls):\n",
    "        print(cls.name_list) # 類別方法使用@classmethod，裡面的引數用cls\n",
    "\n",
    "        "
   ]
  },
  {
   "cell_type": "code",
   "execution_count": null,
   "metadata": {},
   "outputs": [],
   "source": [
    "x = Account(\"Kai\")\n",
    "y = Account(\"Amber\")\n",
    "Account.name_list"
   ]
  },
  {
   "cell_type": "markdown",
   "metadata": {},
   "source": [
    "## 靜態方法\n",
    "<font color=red>**可以在不建立類別物件的前提下直接存取類別裡面的方法**</font>"
   ]
  },
  {
   "cell_type": "code",
   "execution_count": null,
   "metadata": {},
   "outputs": [],
   "source": [
    "class Test():\n",
    "    def __init__(self):\n",
    "        pass\n",
    "    @staticmethod\n",
    "    def speak(name):\n",
    "        print(\"Hi, {}! How are you\".format(name))"
   ]
  },
  {
   "cell_type": "code",
   "execution_count": null,
   "metadata": {},
   "outputs": [],
   "source": [
    "Test.speak(\"Kai\") # 直接使用類別名稱.靜態方法存取"
   ]
  }
 ],
 "metadata": {
  "kernelspec": {
   "display_name": "Python 3",
   "language": "python",
   "name": "python3"
  },
  "language_info": {
   "codemirror_mode": {
    "name": "ipython",
    "version": 3
   },
   "file_extension": ".py",
   "mimetype": "text/x-python",
   "name": "python",
   "nbconvert_exporter": "python",
   "pygments_lexer": "ipython3",
   "version": "3.8.5"
  }
 },
 "nbformat": 4,
 "nbformat_minor": 4
}
