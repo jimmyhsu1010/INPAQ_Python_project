{
 "cells": [
  {
   "cell_type": "code",
   "execution_count": 1,
   "id": "122891db",
   "metadata": {},
   "outputs": [],
   "source": [
    "import pandas as pd\n",
    "pd.set_option('display.max_columns', None)\n",
    "pd.set_option('mode.chained_assignment', None)\n"
   ]
  },
  {
   "cell_type": "code",
   "execution_count": 4,
   "id": "dfc5b6b4",
   "metadata": {},
   "outputs": [],
   "source": [
    "df = pd.read_excel(r\"C:\\Users\\kaihsu\\Desktop\\業績總表\\歷史數據\\OEM_2019_axmr430.xls\", header=3)"
   ]
  },
  {
   "cell_type": "code",
   "execution_count": 8,
   "id": "ecc68d82",
   "metadata": {},
   "outputs": [],
   "source": [
    "df = df[:-2]"
   ]
  },
  {
   "cell_type": "code",
   "execution_count": 10,
   "id": "70918b32",
   "metadata": {},
   "outputs": [],
   "source": [
    "keep_columns = ['狀態', '銷售單號', '銷售項次', '銷售月份', '開單日期', '排定交貨日', '預交日期', '交期變更', '客戶名稱', '負責業務', '交貨方式',\n",
    "                        '產品分類', '品名', '幣別', '數量', '銷售單位', '已出數量', '未出數',\n",
    "                        '單價', '集團匯率', '集團匯率*金額', '客戶料號', '客戶希交日', 'TERM', '出通單號', '客戶訂單', '客戶訂單項次', 'BU', 'INVOICE號碼']"
   ]
  },
  {
   "cell_type": "code",
   "execution_count": 12,
   "id": "6d9399c2",
   "metadata": {},
   "outputs": [],
   "source": [
    "df = df[keep_columns]"
   ]
  },
  {
   "cell_type": "code",
   "execution_count": 13,
   "id": "eca9ab87",
   "metadata": {},
   "outputs": [
    {
     "data": {
      "text/plain": [
       "(4212, 29)"
      ]
     },
     "execution_count": 13,
     "metadata": {},
     "output_type": "execute_result"
    }
   ],
   "source": [
    "df.shape"
   ]
  },
  {
   "cell_type": "code",
   "execution_count": 15,
   "id": "37b18736",
   "metadata": {},
   "outputs": [],
   "source": [
    "df = df.drop_duplicates(subset=['銷售單號', '銷售項次', '客戶訂單', '客戶訂單項次', 'INVOICE號碼'], keep='last')"
   ]
  },
  {
   "cell_type": "code",
   "execution_count": 20,
   "id": "3e20ebfe",
   "metadata": {},
   "outputs": [],
   "source": [
    "df = df.iloc[:, :-1]"
   ]
  },
  {
   "cell_type": "code",
   "execution_count": 23,
   "id": "c00a896b",
   "metadata": {},
   "outputs": [],
   "source": [
    "df['數量'] = df.apply(lambda x: x['數量'] * 1000 if x['銷售單位'] == 'KPCS' else x['數量'], axis=1)\n",
    "df['已出數量'] = df.apply(lambda x: x['已出數量'] * 1000 if x['銷售單位'] == 'KPCS' else x['已出數量'], axis=1)\n",
    "df['未出數'] = df.apply(lambda x: x['未出數'] * 1000 if x['銷售單位'] == 'KPCS' else x['未出數'], axis=1)\n",
    "df['單價'] = df.apply(lambda x: x['單價'] / 1000 if x['銷售單位'] == 'KPCS' else x['單價'], axis=1)"
   ]
  },
  {
   "cell_type": "code",
   "execution_count": 24,
   "id": "5d55cd95",
   "metadata": {},
   "outputs": [],
   "source": [
    "df['銷售單位'] = df['銷售單位'].map(lambda x: 'PCS' if x == 'KPCS' else x)"
   ]
  },
  {
   "cell_type": "code",
   "execution_count": 26,
   "id": "de68aff3",
   "metadata": {},
   "outputs": [],
   "source": [
    "append_dict = {0: 'Category', 1: 'BG', 2: 'Subcategory', 3: 'Group', 11: '預交年份', 12: '預交月份', }\n",
    "for k, v in append_dict.items():\n",
    "    df.insert(k, v, value=None)"
   ]
  },
  {
   "cell_type": "code",
   "execution_count": 27,
   "id": "a0578e9c",
   "metadata": {},
   "outputs": [],
   "source": [
    "df = df.drop(['銷售單位', '客戶訂單', '客戶訂單項次'], axis=1)"
   ]
  },
  {
   "cell_type": "code",
   "execution_count": 29,
   "id": "d8c2d1bd",
   "metadata": {},
   "outputs": [],
   "source": [
    "columns = ['Category', 'BG', 'Subcategory', 'Group', '狀態', '銷售單號', '銷售項次', '銷售月份', '開單日期', '排定交貨日', '預交日期', '預交年份',\n",
    "                   '預交月份',\n",
    "                   '交期變更',\n",
    "                   '客戶名稱', '負責業務', '交貨方式', '產品分類', '品名', '幣別', '數量', '已出數量', '未出數', '單價', '集團匯率', '集團匯率*金額', '客戶料號',\n",
    "                   '客戶希交日',\n",
    "                   'TERM', '出通單號', 'BU']"
   ]
  },
  {
   "cell_type": "code",
   "execution_count": 30,
   "id": "efca4403",
   "metadata": {},
   "outputs": [],
   "source": [
    "result = df.reindex(columns=columns)"
   ]
  },
  {
   "cell_type": "code",
   "execution_count": 31,
   "id": "7973148c",
   "metadata": {},
   "outputs": [
    {
     "data": {
      "text/plain": [
       "array(['鄭里緗', '許凱智', '蔡淑君', '楊婉芬', '墨漢雷迪', '周彥宏', '張煌明', '葉博瑜', '鄭裡緗',\n",
       "       '沈思明'], dtype=object)"
      ]
     },
     "execution_count": 31,
     "metadata": {},
     "output_type": "execute_result"
    }
   ],
   "source": [
    "result['負責業務'].unique()"
   ]
  },
  {
   "cell_type": "code",
   "execution_count": 33,
   "id": "f579e9a9",
   "metadata": {},
   "outputs": [],
   "source": [
    "result['負責業務'] = result['負責業務'].map(lambda x: '鄭里緗' if x in ['鄭裡緗', '沈思明'] else '許凱智' if x in ['楊婉芬', '周彥宏'] else x)"
   ]
  },
  {
   "cell_type": "code",
   "execution_count": 36,
   "id": "d7b17c73",
   "metadata": {},
   "outputs": [],
   "source": [
    "result = result[(result[\"負責業務\"].isin(['鄭里緗', '許凱智', '墨漢雷迪']))]\n",
    "result['數量'] = result['數量'].astype(int)\n",
    "result['已出數量'] = result['已出數量'].astype(int)\n",
    "result['未出數'] = result['未出數'].astype(int)\n",
    "result['幣別'] = result['幣別'].map(lambda x: 'NTD' if x == 'TWD' else x)"
   ]
  },
  {
   "cell_type": "code",
   "execution_count": 38,
   "id": "968376bd",
   "metadata": {},
   "outputs": [],
   "source": [
    "result.to_excel(r\"C:\\Users\\kaihsu\\Desktop\\業績總表\\2019全數據.xlsx\", index=False)"
   ]
  },
  {
   "cell_type": "code",
   "execution_count": null,
   "id": "86d2dc16",
   "metadata": {},
   "outputs": [],
   "source": []
  }
 ],
 "metadata": {
  "kernelspec": {
   "display_name": "Python 3",
   "language": "python",
   "name": "python3"
  },
  "language_info": {
   "codemirror_mode": {
    "name": "ipython",
    "version": 3
   },
   "file_extension": ".py",
   "mimetype": "text/x-python",
   "name": "python",
   "nbconvert_exporter": "python",
   "pygments_lexer": "ipython3",
   "version": "3.8.11"
  }
 },
 "nbformat": 4,
 "nbformat_minor": 5
}
