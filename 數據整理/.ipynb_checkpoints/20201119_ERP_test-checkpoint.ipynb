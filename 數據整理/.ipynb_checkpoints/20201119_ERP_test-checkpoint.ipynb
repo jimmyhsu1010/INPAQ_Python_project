{
 "cells": [
  {
   "cell_type": "code",
   "execution_count": 1,
   "metadata": {},
   "outputs": [],
   "source": [
    "import pandas as pd\n",
    "pd.set_option('display.max_rows', 5)\n",
    "pd.set_option('display.max_columns', None)\n",
    "pd.set_option('display.float_format', lambda x: '%.3f' % x)\n",
    "import re\n",
    "import plotly.express as px\n",
    "from jupyter_dash import JupyterDash\n",
    "import dash_core_components as dcc\n",
    "import dash_html_components as html\n",
    "from dash.dependencies import Input, Output\n",
    "import plotly.graph_objs as go\n",
    "import dash\n",
    "import dash_table"
   ]
  },
  {
   "cell_type": "markdown",
   "metadata": {},
   "source": [
    "### 20201218 2019/2020（佔比）"
   ]
  },
  {
   "cell_type": "code",
   "execution_count": null,
   "metadata": {},
   "outputs": [],
   "source": [
    "df = pd.read_excel(r\"C:\\Users\\kaihsu\\Desktop\\業績總表\\Weekly report_v0.1.xlsx\", sheet_name='出貨明細')"
   ]
  },
  {
   "cell_type": "code",
   "execution_count": null,
   "metadata": {},
   "outputs": [],
   "source": [
    "df = df[df['預交年份'].isin([2019, 2020])]"
   ]
  },
  {
   "cell_type": "code",
   "execution_count": null,
   "metadata": {},
   "outputs": [],
   "source": [
    "df = df[~df['狀態'].str.contains('合|待')]"
   ]
  },
  {
   "cell_type": "code",
   "execution_count": null,
   "metadata": {},
   "outputs": [],
   "source": [
    "df = df[~(df['BG'] == 'Others')]"
   ]
  },
  {
   "cell_type": "code",
   "execution_count": null,
   "metadata": {},
   "outputs": [],
   "source": [
    "df1 = df.groupby(['BG', 'Group', '預交年份'])[['數量', '本國幣別NTD']].sum().reset_index()\n"
   ]
  },
  {
   "cell_type": "code",
   "execution_count": null,
   "metadata": {},
   "outputs": [],
   "source": [
    "fig2 = px.treemap(df1, path=['預交年份', 'BG', 'Group'], values='本國幣別NTD', color='數量')\n",
    "fig2.show()\n"
   ]
  },
  {
   "cell_type": "markdown",
   "metadata": {},
   "source": [
    "### Dash Pivottable資料前處理"
   ]
  },
  {
   "cell_type": "code",
   "execution_count": null,
   "metadata": {},
   "outputs": [],
   "source": [
    "data=[\n",
    "            ['Animal', 'Count', 'Location'],\n",
    "            ['Zebra', 5, 'SF Zoo'],\n",
    "            ['Tiger', 3, 'SF Zoo'],\n",
    "            ['Zebra', 2, 'LA Zoo'],\n",
    "            ['Tiger', 4, 'LA Zoo'],\n",
    "        ]\n",
    "x = pd.DataFrame(data, columns=['Animal', 'Count', 'Location'])"
   ]
  },
  {
   "cell_type": "code",
   "execution_count": null,
   "metadata": {
    "scrolled": true
   },
   "outputs": [],
   "source": [
    "sales = pd.read_excel('../Dashboard/Weekly report_v0.1.xlsx', sheet_name='出貨明細')"
   ]
  },
  {
   "cell_type": "code",
   "execution_count": null,
   "metadata": {},
   "outputs": [],
   "source": [
    "sales['BG'] = sales.apply(lambda x: 'RFBU2' if 'RFDP' in x['品名'] else 'RFBU1' if 'RFDP' not in x['品名'] and 'RF' in x['BG'] else x['BG'], axis=1)"
   ]
  },
  {
   "cell_type": "code",
   "execution_count": null,
   "metadata": {},
   "outputs": [],
   "source": [
    "sales = sales[sales['狀態'].str.contains('出')]"
   ]
  },
  {
   "cell_type": "code",
   "execution_count": null,
   "metadata": {},
   "outputs": [],
   "source": [
    "sales = sales[['BG', 'Subcategory','Group', '銷售單號', '開單日期', '預交日期', '預交年份', '預交月份', '負責業務', '產品分類', '品名', '幣別', '單價', '數量', '本國幣別NTD', '客戶料號', 'Term']]"
   ]
  },
  {
   "cell_type": "code",
   "execution_count": null,
   "metadata": {},
   "outputs": [],
   "source": [
    "mon_dict = {'January':1, 'February':2, 'March':3, 'April':4, 'May':5, 'June':6, 'July':7, 'August':8, 'September':9, 'October':10, 'November':11, 'December':12}"
   ]
  },
  {
   "cell_type": "code",
   "execution_count": null,
   "metadata": {},
   "outputs": [],
   "source": [
    "sales['數量'] = sales['數量'].astype('int')\n",
    "sales['本國幣別NTD'] = sales['本國幣別NTD'].astype('int')\n",
    "sales['預交月份'] = sales['預交月份'].map(mon_dict)\n"
   ]
  },
  {
   "cell_type": "code",
   "execution_count": null,
   "metadata": {},
   "outputs": [],
   "source": [
    "sales['Subcategory'] = sales['產品分類'].str.upper().str.extract('([A-Z]+)')"
   ]
  },
  {
   "cell_type": "code",
   "execution_count": null,
   "metadata": {},
   "outputs": [],
   "source": [
    "sales = sales[['BG', 'Subcategory', 'Group', '銷售單號', '開單日期', '預交日期', '預交年份', '預交月份',\n",
    "       '負責業務', '品名', '幣別', '單價', '數量', '本國幣別NTD', '客戶料號', 'Term']]\n"
   ]
  },
  {
   "cell_type": "code",
   "execution_count": null,
   "metadata": {},
   "outputs": [],
   "source": [
    "mon_order=['January', 'February', 'March', 'April', 'May', 'June', 'July', 'August', 'September', 'October', 'November', 'December']\n",
    "y['預交月份'] = pd.Categorical(y['預交月份'], ordered=True, categories=mon_order)"
   ]
  },
  {
   "cell_type": "code",
   "execution_count": null,
   "metadata": {
    "scrolled": true
   },
   "outputs": [],
   "source": [
    "m = sales.groupby(['品名'])[['單價']].mean().reset_index()"
   ]
  },
  {
   "cell_type": "code",
   "execution_count": null,
   "metadata": {},
   "outputs": [],
   "source": [
    "dict_test = [{'label': i, 'value': j} for i, j in m.values]"
   ]
  },
  {
   "cell_type": "code",
   "execution_count": null,
   "metadata": {},
   "outputs": [],
   "source": [
    "sales[['品名', '單價']].values"
   ]
  },
  {
   "cell_type": "code",
   "execution_count": null,
   "metadata": {},
   "outputs": [],
   "source": [
    "m.to_dict('records')"
   ]
  },
  {
   "cell_type": "code",
   "execution_count": null,
   "metadata": {
    "scrolled": true
   },
   "outputs": [],
   "source": [
    "price_table = sales[['Group', '開單日期', '負責業務', '品名', '客戶料號', '幣別', '單價', '數量']]\n",
    "price_table['單價'] = price_table.apply(lambda x: x['單價'] /30 if x['幣別'] == 'NTD' else x['單價'] / 6.9 if x['幣別'] == 'CNY' \n",
    "                                     else x['單價'] * 1.19 if x['幣別'] == 'EUR' else x['單價'], axis=1)\n",
    "price_table['幣別'] = price_table['幣別'].apply(lambda x: 'USD')\n",
    "\n",
    "price_table = price_table.drop_duplicates(subset=['Group', '負責業務', '品名'], keep='last')\n",
    "\n",
    "app = JupyterDash(__name__)\n",
    "app.layout = html.Div([\n",
    "    html.H3('報價記錄'),\n",
    "    dcc.Dropdown(\n",
    "    id='test',\n",
    "    options=[\n",
    "        {'label':i, 'value': i}\n",
    "        for i in sales['品名'].unique()\n",
    "    ],\n",
    "    value= '', placeholder='Select or enter a PN'\n",
    "    ),\n",
    "    html.Div([\n",
    "        dcc.Graph(id='price_table', figure={}),\n",
    "        dcc.Graph(id='price_box', figure={})\n",
    "    ]\n",
    "    )\n",
    "])\n",
    "\n",
    "@app.callback(\n",
    "[dash.dependencies.Output('price_table', 'figure'), dash.dependencies.Output('price_box', 'figure')],\n",
    "[dash.dependencies.Input('test', 'value')])\n",
    "\n",
    "def update_table(item):\n",
    "    dff = price_table[price_table['品名'] == item]\n",
    "    fig1 = go.Figure(data=[go.Table(\n",
    "    header=dict(values=list(dff.columns),\n",
    "                fill_color='paleturquoise',\n",
    "                align='left'),\n",
    "    cells=dict(values=[dff.Group, dff.開單日期, dff.負責業務, dff.品名, dff.客戶料號, dff.幣別, dff.單價, dff.數量],\n",
    "               fill_color='lavender',\n",
    "               align='left',\n",
    "              format = [None, None, None, None, None, None, \",.4f\", None]))\n",
    "])\n",
    "    fig2 = px.box(dff, x='負責業務', y='單價')\n",
    "    fig2.update_traces(quartilemethod=\"exclusive\")\n",
    "    \n",
    "    return fig1, fig2\n",
    "\n",
    "\n",
    "if __name__ == '__main__':\n",
    "    app.run_server(mode='inline')\n",
    "    "
   ]
  },
  {
   "cell_type": "code",
   "execution_count": null,
   "metadata": {},
   "outputs": [],
   "source": [
    "data = y.values.tolist()"
   ]
  },
  {
   "cell_type": "code",
   "execution_count": null,
   "metadata": {},
   "outputs": [],
   "source": [
    "data.insert(0, y.columns.tolist())"
   ]
  },
  {
   "cell_type": "code",
   "execution_count": null,
   "metadata": {},
   "outputs": [],
   "source": [
    "for index, row in y.iterrows():\n",
    "    print(row)"
   ]
  },
  {
   "cell_type": "markdown",
   "metadata": {},
   "source": [
    "### ERP歷史數據"
   ]
  },
  {
   "cell_type": "code",
   "execution_count": null,
   "metadata": {},
   "outputs": [],
   "source": [
    "df = pd.read_excel(r\"C:\\Users\\kaihsu\\Desktop\\業績總表\\歷史數據\\訂單出貨明細_axmr4301_2016.xlsx\", usecols='A:G,I,O,N,Q,R,S,T,U,V,Y,AC,AE,AF')\n",
    "df1 = pd.read_excel(r\"C:\\Users\\kaihsu\\Desktop\\業績總表\\歷史數據\\訂單出貨明細_axmr4301_2017.xlsx\", usecols='A:G,I,O,N,Q,R,S,T,U,V,Y,AC,AE,AF')\n",
    "df2 = pd.read_excel(r\"C:\\Users\\kaihsu\\Desktop\\業績總表\\歷史數據\\訂單出貨明細_axmr4301_2018.xlsx\", usecols='A:G,I,O,N,Q,R,S,T,U,V,Y,AC,AE,AF')\n",
    "df3 = pd.read_excel(r\"C:\\Users\\kaihsu\\Desktop\\業績總表\\歷史數據\\訂單出貨明細_axmr4301_2019.xlsx\", usecols='A:G,I,O,N,Q,R,S,T,U,V,Y,AC,AE,AF')\n",
    "df4 = pd.read_excel(r\"C:\\Users\\kaihsu\\Desktop\\業績總表\\歷史數據\\訂單出貨明細_axmr4301_2020.xlsx\", usecols='A:G,I,O,N,Q,R,S,T,U,V,Y,AC,AE,AF')"
   ]
  },
  {
   "cell_type": "code",
   "execution_count": null,
   "metadata": {},
   "outputs": [],
   "source": [
    "sales = pd.concat([df2, df3, df4], axis=0, ignore_index=True)"
   ]
  },
  {
   "cell_type": "code",
   "execution_count": null,
   "metadata": {},
   "outputs": [],
   "source": [
    "# sales = pd.concat([df, df1, df2, df3, df4], axis=0, ignore_index=True)"
   ]
  },
  {
   "cell_type": "markdown",
   "metadata": {},
   "source": [
    "## 用Amber要的東西"
   ]
  },
  {
   "cell_type": "code",
   "execution_count": 3,
   "metadata": {},
   "outputs": [],
   "source": [
    "df = pd.read_excel(r\"C:\\Users\\kaihsu\\Desktop\\訂單出貨明細2018_2020.xlsx\")"
   ]
  },
  {
   "cell_type": "code",
   "execution_count": 4,
   "metadata": {},
   "outputs": [
    {
     "data": {
      "text/plain": [
       "Index(['營運中心', '狀態', '銷售單號', '項次', '月份', '開單日期', '預交日期', '交期變更', '客戶名稱',\n",
       "       '業務代號', '負責業務', '客戶單號', '客戶訂單項次', '組別', '銷售類', '交貨方式', '料號', '產品分類',\n",
       "       '品名', '單位', '幣別', '數量', '已出數量', '未出數', '單價', '金額', '訂單匯率', '金額*訂單匯率',\n",
       "       '客戶料號', '其他分群一(接單業務)', '客戶編號', '訂單業務', '出通單號', '代理商編號', '發票號碼',\n",
       "       'INVOICE', '客戶希交日', 'Term', '備註', 'C.C.', '客戶專案名稱', '原始希交日',\n",
       "       'HSF編號(報價單)', 'HSF編號(最新)', '產品類別', '出通單日', '出貨單號', '新單別', '車用', '用戶端車型',\n",
       "       '天線擺放位置', 'Rebate', '集團匯率(NTD)', '金額*集團匯率(NTD)', '出貨單日'],\n",
       "      dtype='object')"
      ]
     },
     "execution_count": 4,
     "metadata": {},
     "output_type": "execute_result"
    }
   ],
   "source": [
    "df.columns"
   ]
  },
  {
   "cell_type": "code",
   "execution_count": 7,
   "metadata": {},
   "outputs": [],
   "source": [
    "keep_columns = ['狀態', '銷售單號', '項次', '月份', '開單日期', '預交日期', '交期變更', '客戶名稱', '負責業務', '交貨方式', '產品分類', '品名', '幣別', '數量', '已出數量', '未出數', '單位',\n",
    "                    '單價', '集團匯率(NTD)', '金額*集團匯率(NTD)', '客戶料號', '客戶希交日', 'Term', '出通單號', '客戶單號', '客戶訂單項次']"
   ]
  },
  {
   "cell_type": "code",
   "execution_count": 9,
   "metadata": {},
   "outputs": [
    {
     "data": {
      "text/plain": [
       "(164809, 26)"
      ]
     },
     "execution_count": 9,
     "metadata": {},
     "output_type": "execute_result"
    }
   ],
   "source": [
    "df = df[keep_columns]"
   ]
  },
  {
   "cell_type": "code",
   "execution_count": 14,
   "metadata": {},
   "outputs": [],
   "source": [
    "table = df[df['負責業務'].isin(['許凱智','墨漢雷迪','沈思明','楊婉芬','周彥宏', '鄭裡緗', '鄭里緗'])]"
   ]
  },
  {
   "cell_type": "code",
   "execution_count": 22,
   "metadata": {
    "scrolled": true
   },
   "outputs": [],
   "source": [
    "table = table[table['預交日期'] <= '2020-12-31']"
   ]
  },
  {
   "cell_type": "code",
   "execution_count": 23,
   "metadata": {},
   "outputs": [
    {
     "name": "stderr",
     "output_type": "stream",
     "text": [
      "<ipython-input-23-0ad7b6ab4196>:1: SettingWithCopyWarning: \n",
      "A value is trying to be set on a copy of a slice from a DataFrame.\n",
      "Try using .loc[row_indexer,col_indexer] = value instead\n",
      "\n",
      "See the caveats in the documentation: https://pandas.pydata.org/pandas-docs/stable/user_guide/indexing.html#returning-a-view-versus-a-copy\n",
      "  table['數量'] = table.apply(lambda x: x['數量'] * 1000 if x['單位'] == 'KPCS' else x['數量'], axis=1)\n"
     ]
    }
   ],
   "source": [
    "table['數量'] = table.apply(lambda x: x['數量'] * 1000 if x['單位'] == 'KPCS' else x['數量'], axis=1)"
   ]
  },
  {
   "cell_type": "code",
   "execution_count": 24,
   "metadata": {},
   "outputs": [
    {
     "name": "stderr",
     "output_type": "stream",
     "text": [
      "<ipython-input-24-7eca79d31742>:1: SettingWithCopyWarning: \n",
      "A value is trying to be set on a copy of a slice from a DataFrame.\n",
      "Try using .loc[row_indexer,col_indexer] = value instead\n",
      "\n",
      "See the caveats in the documentation: https://pandas.pydata.org/pandas-docs/stable/user_guide/indexing.html#returning-a-view-versus-a-copy\n",
      "  table['單價'] = table.apply(lambda x: x['單價'] / 1000 if x['單位'] == 'KPCS' else x['單價'], axis=1)\n"
     ]
    }
   ],
   "source": [
    "table['單價'] = table.apply(lambda x: x['單價'] / 1000 if x['單位'] == 'KPCS' else x['單價'], axis=1)"
   ]
  },
  {
   "cell_type": "code",
   "execution_count": 26,
   "metadata": {},
   "outputs": [],
   "source": [
    "table = table[~table['狀態'].str.contains('待|合')]"
   ]
  },
  {
   "cell_type": "code",
   "execution_count": 29,
   "metadata": {},
   "outputs": [
    {
     "name": "stderr",
     "output_type": "stream",
     "text": [
      "<ipython-input-29-9ebbe0332b3d>:1: SettingWithCopyWarning: \n",
      "A value is trying to be set on a copy of a slice from a DataFrame.\n",
      "Try using .loc[row_indexer,col_indexer] = value instead\n",
      "\n",
      "See the caveats in the documentation: https://pandas.pydata.org/pandas-docs/stable/user_guide/indexing.html#returning-a-view-versus-a-copy\n",
      "  table['預交日期'] = pd.to_datetime(table['預交日期'])\n"
     ]
    }
   ],
   "source": [
    "table['預交日期'] = pd.to_datetime(table['預交日期'])"
   ]
  },
  {
   "cell_type": "code",
   "execution_count": 30,
   "metadata": {},
   "outputs": [
    {
     "name": "stderr",
     "output_type": "stream",
     "text": [
      "<ipython-input-30-e42068a4e537>:1: SettingWithCopyWarning: \n",
      "A value is trying to be set on a copy of a slice from a DataFrame.\n",
      "Try using .loc[row_indexer,col_indexer] = value instead\n",
      "\n",
      "See the caveats in the documentation: https://pandas.pydata.org/pandas-docs/stable/user_guide/indexing.html#returning-a-view-versus-a-copy\n",
      "  table['年份'] = table['預交日期'].dt.year\n",
      "<ipython-input-30-e42068a4e537>:2: SettingWithCopyWarning: \n",
      "A value is trying to be set on a copy of a slice from a DataFrame.\n",
      "Try using .loc[row_indexer,col_indexer] = value instead\n",
      "\n",
      "See the caveats in the documentation: https://pandas.pydata.org/pandas-docs/stable/user_guide/indexing.html#returning-a-view-versus-a-copy\n",
      "  table['預交月份'] = table['預交日期'].dt.month\n"
     ]
    }
   ],
   "source": [
    "table['年份'] = table['預交日期'].dt.year\n",
    "table['預交月份'] = table['預交日期'].dt.month"
   ]
  },
  {
   "cell_type": "code",
   "execution_count": 33,
   "metadata": {},
   "outputs": [
    {
     "name": "stderr",
     "output_type": "stream",
     "text": [
      "<ipython-input-33-d19676823426>:1: SettingWithCopyWarning: \n",
      "A value is trying to be set on a copy of a slice from a DataFrame.\n",
      "Try using .loc[row_indexer,col_indexer] = value instead\n",
      "\n",
      "See the caveats in the documentation: https://pandas.pydata.org/pandas-docs/stable/user_guide/indexing.html#returning-a-view-versus-a-copy\n",
      "  table['負責業務'] = table['負責業務'].map(lambda x: '許凱智' if x == '楊婉芬' or x == '周彥宏' else '鄭里緗' if x == '鄭裡緗' or x == '鄭里緗' or x == '沈思明' else x)\n"
     ]
    }
   ],
   "source": [
    "table['負責業務'] = table['負責業務'].map(lambda x: '許凱智' if x == '楊婉芬' or x == '周彥宏' else '鄭里緗' if x == '鄭裡緗' or x == '鄭里緗' or x == '沈思明' else x)"
   ]
  },
  {
   "cell_type": "code",
   "execution_count": 36,
   "metadata": {
    "scrolled": false
   },
   "outputs": [],
   "source": [
    "table.to_excel(r'C:\\Users\\kaihsu\\Desktop\\2018_2020.xlsx', index=False)"
   ]
  },
  {
   "cell_type": "code",
   "execution_count": null,
   "metadata": {},
   "outputs": [],
   "source": [
    "table['營運中心'].unique()"
   ]
  },
  {
   "cell_type": "code",
   "execution_count": null,
   "metadata": {},
   "outputs": [],
   "source": [
    "client_classifier = {'Inter Ru': 'MT-SYSTEM', '禾邦貿易':'禾邦貿易', 'MT-Syste':'MT-SYSTEM', 'CAME':'CAME', \n",
    "                    '攸泰科技':'攸泰科技', 'TELTONIK':'TELTONIKA', 'LITTEL':'LF', 'LF(TE)':'LF', 'INPAQ':'INPAQ', \n",
    "                    '東莞華匯':'華新科技', 'EATON':'EATON', 'STEWARD':'Laird', 'WUTJ':'WE', 'Bussmann':'Bussmann', 'WUR':'WE',\n",
    "                    'Bourns':'Bourns', 'LairdUSA':'Laird', 'WUHK':'WE', 'StewdCN':'Laird', 'WuUSA':'WE', 'MT-Sys.':'MT-SYSTEM',\n",
    "                    '華新科技':'華新科技', 'Globalte':'TE','Eteily':'Eteily', '泰連香港':'TE', 'Credence':'Credence', \n",
    "                    'M.S.':'M.S.', 'LF.瑞侃':'LF OEM', '東莞弘電':'東莞弘電', '蘇州華科':'華新科技', '天灣電子':'天灣電子',\n",
    "                    '藝感':'藝感','同方電子':'同方電子','信昌':'信昌','華科高雄':'華新科技','WiSilica':'WiSilica', \n",
    "                    'Siemens':'Siemens','Fides':'Fides','台灣禾邦':'台灣禾邦','Zebra':'Zebra','Nexty':'Nexty',\n",
    "                    'MATE':'MATE','SSF':'SSF','G -PLAST':'G -PLAST','JBJ':'JBJ','Sancraft':'Sancraft','Univa Te':'Univa Te',\n",
    "                    'FIRST EN':'FIRST EN','鎮江恆業':'鎮江恆業','MT-Sys':'MT-SYSTEM','Laird':'Laird','LF':'LF'}"
   ]
  },
  {
   "cell_type": "code",
   "execution_count": null,
   "metadata": {
    "scrolled": false
   },
   "outputs": [],
   "source": [
    "table['客戶名稱'] = table['客戶名稱'].map(client_classifier)"
   ]
  },
  {
   "cell_type": "code",
   "execution_count": null,
   "metadata": {},
   "outputs": [],
   "source": [
    "table = table[~table['客戶名稱'].isin(['禾邦貿易', 'INPAQ', '台灣禾邦'])]"
   ]
  },
  {
   "cell_type": "code",
   "execution_count": null,
   "metadata": {},
   "outputs": [],
   "source": [
    "table1 = table.groupby(['預交日期', '年份', '訂單業務', '客戶名稱', '預交月份', '產品分類'])[['數量', 'NTD']].sum().reset_index()\n",
    "table1 = table1.query('年份 != 2021')"
   ]
  },
  {
   "cell_type": "code",
   "execution_count": null,
   "metadata": {},
   "outputs": [],
   "source": [
    "table1['數量'] = table1['數量'].map(lambda x: round(x))\n",
    "table1['NTD'] = table1['NTD'].map(lambda x: round(x))"
   ]
  },
  {
   "cell_type": "code",
   "execution_count": null,
   "metadata": {},
   "outputs": [],
   "source": [
    "fig = px.treemap(table1, path=['年份', '訂單業務', '客戶名稱', '預交月份', '產品分類'], values='NTD', color='數量')\n",
    "fig.show()"
   ]
  },
  {
   "cell_type": "code",
   "execution_count": null,
   "metadata": {
    "scrolled": true
   },
   "outputs": [],
   "source": [
    "fig2 = px.histogram(table1, x='客戶名稱', y='NTD', color='年份', barmode='group', labels={'NTD':'營業額', '客戶名稱':'Customer'}).update_xaxes(categoryorder='total descending')\n",
    "fig2.show()"
   ]
  },
  {
   "cell_type": "code",
   "execution_count": null,
   "metadata": {},
   "outputs": [],
   "source": [
    "antenna_ls = ['PATCH成品', 'ACA-5036-A2-CC成品', 'GSM成品', 'DAM半成品', 'ACA5036成品',\n",
    "       'GSM半成品', 'AAF成品', 'DAM成品', 'NFC series', 'NFW Series成品',\n",
    "       'GPS成品', 'NF Series成品', 'ACA-2012-A1-CC-S成品', 'ACA-8010-A1成品',\n",
    "       'ACM0-3216-A1-CC-S成品']\n",
    "table['BU'] = table['產品分類'].apply(lambda x: 'RF' if x in antenna_ls else 'Component')"
   ]
  },
  {
   "cell_type": "code",
   "execution_count": null,
   "metadata": {},
   "outputs": [],
   "source": [
    "df_type = table.groupby(['預交日期', 'BU'])[['NTD']].sum().reset_index()\n",
    "df_type = df_type[df_type['預交日期'] <= '2021-01-01']\n"
   ]
  },
  {
   "cell_type": "code",
   "execution_count": null,
   "metadata": {},
   "outputs": [],
   "source": [
    "test = df_type.set_index('預交日期')\n",
    "com = test[test['BU'] == 'Component']\n",
    "rf = test[test['BU'] == 'RF']"
   ]
  },
  {
   "cell_type": "code",
   "execution_count": null,
   "metadata": {},
   "outputs": [],
   "source": [
    "com = com['NTD'].resample('M').sum().reset_index()\n",
    "rf = rf['NTD'].resample('M').sum().reset_index()"
   ]
  },
  {
   "cell_type": "code",
   "execution_count": null,
   "metadata": {},
   "outputs": [],
   "source": [
    "com.insert(1, 'Type', 'Component')\n",
    "rf.insert(1, 'Type', 'RF')"
   ]
  },
  {
   "cell_type": "code",
   "execution_count": null,
   "metadata": {},
   "outputs": [],
   "source": [
    "final = pd.concat([com, rf], axis=0)"
   ]
  },
  {
   "cell_type": "code",
   "execution_count": null,
   "metadata": {},
   "outputs": [],
   "source": [
    "final['年份'] = final['預交日期'].dt.year\n",
    "final['月份'] = final['預交日期'].dt.month_name()"
   ]
  },
  {
   "cell_type": "code",
   "execution_count": null,
   "metadata": {
    "scrolled": true
   },
   "outputs": [],
   "source": [
    "fig3 = px.line(final, x='月份', y='NTD', color='年份', facet_col='Type')\n",
    "fig3.show()"
   ]
  },
  {
   "cell_type": "code",
   "execution_count": null,
   "metadata": {},
   "outputs": [],
   "source": [
    "total = test['NTD'].resample('M').sum()\n",
    "total = total.reset_index()"
   ]
  },
  {
   "cell_type": "code",
   "execution_count": null,
   "metadata": {
    "scrolled": true
   },
   "outputs": [],
   "source": [
    "total['年份'] = total['預交日期'].dt.year\n",
    "total['月份'] = total['預交日期'].dt.month_name()"
   ]
  },
  {
   "cell_type": "code",
   "execution_count": null,
   "metadata": {
    "scrolled": true
   },
   "outputs": [],
   "source": [
    "fig4 = px.line(total, x='月份', y='NTD', color='年份')\n",
    "fig4.show()"
   ]
  },
  {
   "cell_type": "code",
   "execution_count": null,
   "metadata": {},
   "outputs": [],
   "source": [
    "with open(r\"C:\\Users\\kaihsu\\Desktop\\2018-2020比較圖.html\", \"a\") as f:\n",
    "    f.write(fig.to_html(full_html=False, include_plotlyjs='cdn'))\n",
    "    f.write(fig2.to_html(full_html=False, include_plotlyjs='cdn'))\n",
    "    f.write(fig3.to_html(full_html=False, include_plotlyjs='cdn'))\n",
    "    f.write(fig4.to_html(full_html=False, include_plotlyjs='cdn'))\n",
    "    f.close()"
   ]
  },
  {
   "cell_type": "code",
   "execution_count": null,
   "metadata": {},
   "outputs": [],
   "source": [
    "sales = sales.query('單位 == \"KPCS\" | 單位 == \"PCS\"')"
   ]
  },
  {
   "cell_type": "code",
   "execution_count": null,
   "metadata": {},
   "outputs": [],
   "source": [
    "sales['數量'] = sales.apply(lambda x: x['數量'] * 1000 if x['單位'] == 'KPCS' else x['數量'], axis=1)"
   ]
  },
  {
   "cell_type": "code",
   "execution_count": null,
   "metadata": {},
   "outputs": [],
   "source": [
    "sales['單價'] = sales.apply(lambda x: x['單價'] / 1000 if x['單位'] == 'KPCS' else x['單價'], axis=1)"
   ]
  },
  {
   "cell_type": "code",
   "execution_count": null,
   "metadata": {},
   "outputs": [],
   "source": [
    "sales['單價'] = sales.apply(lambda x: x['單價'] / 30 if x['幣別'] == 'NTD' else x['單價'] / 6.9 if x['幣別'] == 'CNY'\n",
    "                                     else x['單價'] * 1.19 if x['幣別'] == 'EUR' else x['單價'], axis=1)"
   ]
  },
  {
   "cell_type": "code",
   "execution_count": null,
   "metadata": {},
   "outputs": [],
   "source": [
    "sales['幣別'] = sales['幣別'].apply(lambda x: 'USD')"
   ]
  },
  {
   "cell_type": "code",
   "execution_count": null,
   "metadata": {},
   "outputs": [],
   "source": [
    "price_table = sales[['客戶名稱', '開單日期', '組別', '訂單業務', '品名', '客戶料號', '幣別', '單價', '數量']]"
   ]
  },
  {
   "cell_type": "code",
   "execution_count": null,
   "metadata": {
    "scrolled": true
   },
   "outputs": [],
   "source": [
    "price_table.drop_duplicates(subset=['客戶名稱', '訂單業務', '品名'], keep='last')"
   ]
  },
  {
   "cell_type": "code",
   "execution_count": null,
   "metadata": {},
   "outputs": [],
   "source": [
    "price_table.to_csv(r\"C:\\Users\\kaihsu\\Desktop\\his_price.csv\", index=False)"
   ]
  },
  {
   "cell_type": "markdown",
   "metadata": {},
   "source": [
    "### Weekly report to CSV"
   ]
  },
  {
   "cell_type": "code",
   "execution_count": null,
   "metadata": {},
   "outputs": [],
   "source": [
    "df = pd.read_excel(r\"C:\\Users\\kaihsu\\Desktop\\業績總表\\Weekly report_v0.1.xlsx\", sheet_name='出貨明細')"
   ]
  },
  {
   "cell_type": "code",
   "execution_count": null,
   "metadata": {},
   "outputs": [],
   "source": [
    "df.to_csv(r'C:\\Users\\kaihsu\\Desktop\\weekly_report.csv', index=False)"
   ]
  },
  {
   "cell_type": "markdown",
   "metadata": {},
   "source": [
    "### 多個檔案寫入一個excel檔案，但是在不同的sheets"
   ]
  },
  {
   "cell_type": "code",
   "execution_count": null,
   "metadata": {},
   "outputs": [],
   "source": [
    "pip install openpyxl"
   ]
  },
  {
   "cell_type": "code",
   "execution_count": null,
   "metadata": {},
   "outputs": [],
   "source": [
    "writer = pd.ExcelWriter(r'C:\\Users\\kaihsu\\Desktop\\差異比較表.xlsx')\n",
    "weekly.to_excel(writer, sheet_name='CS提供的數據', index=False)\n",
    "system.to_excel(writer, sheet_name='系統撈出來的數據', index=False)\n",
    "writer.save()"
   ]
  },
  {
   "cell_type": "markdown",
   "metadata": {},
   "source": [
    "### MT-System Energomera報價\n"
   ]
  },
  {
   "cell_type": "code",
   "execution_count": null,
   "metadata": {},
   "outputs": [],
   "source": [
    "mt = pd.read_excel(r\"D:\\客戶\\Mt System\\價格表\\20201119_MT-System_Energomera_Package.xlsx\")"
   ]
  },
  {
   "cell_type": "code",
   "execution_count": null,
   "metadata": {},
   "outputs": [],
   "source": [
    "mt.columns"
   ]
  },
  {
   "cell_type": "code",
   "execution_count": null,
   "metadata": {},
   "outputs": [],
   "source": [
    "mt['EAU in number'] = mt.apply(lambda x: int(x['EAU'].split(' ')[0]) * 1000, axis=1)"
   ]
  },
  {
   "cell_type": "code",
   "execution_count": null,
   "metadata": {},
   "outputs": [],
   "source": [
    "mt['Target Price in USD'] = mt.apply(lambda x: float(x['Target'].split(' ')[0].replace(',', '.')), axis=1)"
   ]
  },
  {
   "cell_type": "code",
   "execution_count": null,
   "metadata": {},
   "outputs": [],
   "source": [
    "mt = mt.reindex(columns=['Competitor PN',\n",
    " 'INPAQ PN',\n",
    " 'Link',\n",
    " 'EAU',\n",
    " 'EAU in number',\n",
    " 'Buying lot',\n",
    " 'Target',\n",
    " 'Target Price in USD',\n",
    " 'Defect rate in as-delivered condition (exceeding which the entire batch is returned), %',\n",
    " 'Warranty period(Year)',\n",
    " 'Number of failures during the warranty period, %',\n",
    " 'Service life of a component, year',\n",
    " 'Shelf life - before installation in the product, year',\n",
    " 'Reliability of supplied components and materials (failure rate), Hours(FIT/MTBF)'])"
   ]
  },
  {
   "cell_type": "code",
   "execution_count": null,
   "metadata": {},
   "outputs": [],
   "source": [
    "mt.to_excel(r'C:\\Users\\kaihsu\\Desktop\\energomera.xlsx', index=False)"
   ]
  }
 ],
 "metadata": {
  "kernelspec": {
   "display_name": "Python 3",
   "language": "python",
   "name": "python3"
  },
  "language_info": {
   "codemirror_mode": {
    "name": "ipython",
    "version": 3
   },
   "file_extension": ".py",
   "mimetype": "text/x-python",
   "name": "python",
   "nbconvert_exporter": "python",
   "pygments_lexer": "ipython3",
   "version": "3.8.5"
  }
 },
 "nbformat": 4,
 "nbformat_minor": 4
}
