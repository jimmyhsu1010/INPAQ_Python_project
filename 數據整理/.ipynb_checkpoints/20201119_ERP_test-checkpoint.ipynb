{
 "cells": [
  {
   "cell_type": "code",
   "execution_count": 1,
   "metadata": {},
   "outputs": [],
   "source": [
    "import pandas as pd\n",
    "pd.set_option('display.max_rows', 5)\n",
    "pd.set_option('display.max_columns', None)\n",
    "pd.set_option('display.float_format', lambda x: '%.3f' % x)\n",
    "import re\n",
    "import plotly.express as px\n",
    "from jupyter_dash import JupyterDash\n",
    "import dash_core_components as dcc\n",
    "import dash_html_components as html\n",
    "from dash.dependencies import Input, Output\n",
    "import plotly.graph_objs as go\n",
    "import dash\n",
    "import dash_table"
   ]
  },
  {
   "cell_type": "markdown",
   "metadata": {},
   "source": [
    "### 20201218 2019/2020（佔比）"
   ]
  },
  {
   "cell_type": "code",
   "execution_count": 25,
   "metadata": {},
   "outputs": [],
   "source": [
    "df = pd.read_excel(r\"C:\\Users\\kaihsu\\Desktop\\業績總表\\Weekly report_v0.1.xlsx\", sheet_name='出貨明細')"
   ]
  },
  {
   "cell_type": "code",
   "execution_count": 28,
   "metadata": {},
   "outputs": [],
   "source": [
    "df = df[df['預交年份'].isin([2019, 2020])]"
   ]
  },
  {
   "cell_type": "code",
   "execution_count": 31,
   "metadata": {},
   "outputs": [],
   "source": [
    "df = df[~df['狀態'].str.contains('合|待')]"
   ]
  },
  {
   "cell_type": "code",
   "execution_count": 40,
   "metadata": {},
   "outputs": [],
   "source": [
    "df = df[~(df['BG'] == 'Others')]"
   ]
  },
  {
   "cell_type": "code",
   "execution_count": 57,
   "metadata": {},
   "outputs": [],
   "source": [
    "df1 = df.groupby(['BG', 'Group', '預交年份'])[['數量', '本國幣別NTD']].sum().reset_index()\n"
   ]
  },
  {
   "cell_type": "code",
   "execution_count": 62,
   "metadata": {},
   "outputs": [
    {
     "data": {
      "application/vnd.plotly.v1+json": {
       "config": {
        "plotlyServerURL": "https://plot.ly"
       },
       "data": [
        {
         "branchvalues": "total",
         "customdata": [
          [
           6636000
          ],
          [
           11548000
          ],
          [
           67688000
          ],
          [
           66264000
          ],
          [
           3124000
          ],
          [
           2564000
          ],
          [
           25074000
          ],
          [
           31727999.999999996
          ],
          [
           5000
          ],
          [
           83827000
          ],
          [
           202367000
          ],
          [
           18540000
          ],
          [
           8370000
          ],
          [
           2071
          ],
          [
           1800000
          ],
          [
           2678000
          ],
          [
           25
          ],
          [
           3930000
          ],
          [
           343748000
          ],
          [
           449050999.99999994
          ],
          [
           405575.16000000003
          ],
          [
           1545601.26
          ],
          [
           76315000
          ],
          [
           387068000
          ],
          [
           8000
          ],
          [
           1545000
          ],
          [
           5787000
          ],
          [
           3200
          ],
          [
           9530
          ],
          [
           6130000.000000001
          ],
          [
           324000
          ],
          [
           1956000
          ],
          [
           393000
          ],
          [
           383000
          ],
          [
           354337
          ],
          [
           269872
          ],
          [
           531000
          ],
          [
           135000
          ],
          [
           350
          ],
          [
           4200000
          ],
          [
           810000
          ],
          [
           24696
          ],
          [
           35408
          ],
          [
           14095000
          ],
          [
           27422000.000000004
          ],
          [
           1815950
          ],
          [
           2709350
          ],
          [
           24000
          ],
          [
           75000
          ],
          [
           40011
          ],
          [
           38026000
          ],
          [
           38878000
          ],
          [
           146000
          ],
          [
           20000
          ],
          [
           100
          ],
          [
           1632000
          ],
          [
           16895000
          ],
          [
           59097000
          ],
          [
           40956000
          ],
          [
           26650000
          ],
          [
           109611000
          ],
          [
           13709999.999999998
          ],
          [
           52358040
          ],
          [
           64000
          ],
          [
           342000
          ],
          [
           2331000
          ],
          [
           23736000
          ],
          [
           37220590.95502208
          ],
          [
           216082861.03017718
          ],
          [
           405575.16000000003
          ],
          [
           1545601.26
          ],
          [
           220156679.56724754
          ],
          [
           299443917.05744976
          ],
          [
           1708809.657565991
          ],
          [
           2960417.2880589142
          ],
          [
           32008094.755001802
          ],
          [
           27002292.91417458
          ],
          [
           142578256.10662428
          ],
          [
           182115571.04451337
          ]
         ],
         "domain": {
          "x": [
           0,
           1
          ],
          "y": [
           0,
           1
          ]
         },
         "hovertemplate": "labels=%{label}<br>本國幣別NTD=%{value}<br>parent=%{parent}<br>id=%{id}<br>數量=%{color}<extra></extra>",
         "ids": [
          "2019/EMC/Bourns",
          "2020/EMC/Bourns",
          "2019/PC/Bourns",
          "2020/PC/Bourns",
          "2019/RF/Bourns",
          "2020/RF/Bourns",
          "2019/WIP/Bourns",
          "2020/WIP/Bourns",
          "2019/RF/Credence",
          "2019/PC/Eaton",
          "2020/PC/Eaton",
          "2019/WIP/Eaton",
          "2020/WIP/Eaton",
          "2019/RF/Eteily",
          "2020/RF/FIRSTEN",
          "2020/RF/G-PLAST",
          "2019/RF/Globalte",
          "2020/RF/JBJ",
          "2019/PC/LF",
          "2020/PC/LF",
          "2019/ODM/LF OEM",
          "2020/ODM/LF OEM",
          "2019/EMC/Laird",
          "2020/EMC/Laird",
          "2020/PC/Laird",
          "2019/WIP/Laird",
          "2020/WIP/Laird",
          "2019/RF/M.S.",
          "2020/RF/M.S.",
          "2020/RF/MATE",
          "2019/EMC/MT-SYSTEM",
          "2020/EMC/MT-SYSTEM",
          "2019/PC/MT-SYSTEM",
          "2020/PC/MT-SYSTEM",
          "2019/RF/MT-SYSTEM",
          "2020/RF/MT-SYSTEM",
          "2019/WIP/MT-SYSTEM",
          "2020/WIP/MT-SYSTEM",
          "2020/RF/Nexty",
          "2020/RF/SSF",
          "2020/RF/Sancraft",
          "2019/RF/TE ",
          "2020/RF/TE ",
          "2019/EMC/TELTONIKA",
          "2020/EMC/TELTONIKA",
          "2019/RF/TELTONIKA",
          "2020/RF/TELTONIKA",
          "2019/WIP/TELTONIKA",
          "2020/WIP/TELTONIKA",
          "2020/RF/UnivaTe",
          "2019/PC/WE",
          "2020/PC/WE",
          "2020/RF/WE",
          "2019/PC/WiSilica",
          "2020/RF/Zebra",
          "2019/EMC/信昌",
          "2020/EMC/信昌",
          "2019/WIP/信昌",
          "2020/WIP/信昌",
          "2019/EMC/華新科技",
          "2020/EMC/華新科技",
          "2019/PC/華新科技",
          "2020/PC/華新科技",
          "2020/RF/華新科技",
          "2020/WIP/華新科技",
          "2019/WIP/藝感",
          "2020/WIP/藝感",
          "2019/EMC",
          "2020/EMC",
          "2019/ODM",
          "2020/ODM",
          "2019/PC",
          "2020/PC",
          "2019/RF",
          "2020/RF",
          "2019/WIP",
          "2020/WIP",
          "2019",
          "2020"
         ],
         "labels": [
          "Bourns",
          "Bourns",
          "Bourns",
          "Bourns",
          "Bourns",
          "Bourns",
          "Bourns",
          "Bourns",
          "Credence",
          "Eaton",
          "Eaton",
          "Eaton",
          "Eaton",
          "Eteily",
          "FIRSTEN",
          "G-PLAST",
          "Globalte",
          "JBJ",
          "LF",
          "LF",
          "LF OEM",
          "LF OEM",
          "Laird",
          "Laird",
          "Laird",
          "Laird",
          "Laird",
          "M.S.",
          "M.S.",
          "MATE",
          "MT-SYSTEM",
          "MT-SYSTEM",
          "MT-SYSTEM",
          "MT-SYSTEM",
          "MT-SYSTEM",
          "MT-SYSTEM",
          "MT-SYSTEM",
          "MT-SYSTEM",
          "Nexty",
          "SSF",
          "Sancraft",
          "TE ",
          "TE ",
          "TELTONIKA",
          "TELTONIKA",
          "TELTONIKA",
          "TELTONIKA",
          "TELTONIKA",
          "TELTONIKA",
          "UnivaTe",
          "WE",
          "WE",
          "WE",
          "WiSilica",
          "Zebra",
          "信昌",
          "信昌",
          "信昌",
          "信昌",
          "華新科技",
          "華新科技",
          "華新科技",
          "華新科技",
          "華新科技",
          "華新科技",
          "藝感",
          "藝感",
          "EMC",
          "EMC",
          "ODM",
          "ODM",
          "PC",
          "PC",
          "RF",
          "RF",
          "WIP",
          "WIP",
          "2019",
          "2020"
         ],
         "marker": {
          "coloraxis": "coloraxis",
          "colors": [
           6636000,
           11548000,
           67688000,
           66264000,
           3124000,
           2564000,
           25074000,
           31727999.999999996,
           5000,
           83827000,
           202367000,
           18540000,
           8370000,
           2071,
           1800000,
           2678000,
           25,
           3930000,
           343748000,
           449050999.99999994,
           405575.16000000003,
           1545601.26,
           76315000,
           387068000,
           8000,
           1545000,
           5787000,
           3200,
           9530,
           6130000.000000001,
           324000,
           1956000,
           393000,
           383000,
           354337,
           269872,
           531000,
           135000,
           350,
           4200000,
           810000,
           24696,
           35408,
           14095000,
           27422000.000000004,
           1815950,
           2709350,
           24000,
           75000,
           40011,
           38026000,
           38878000,
           146000,
           20000,
           100,
           1632000,
           16895000,
           59097000,
           40956000,
           26650000,
           109611000,
           13709999.999999998,
           52358040,
           64000,
           342000,
           2331000,
           23736000,
           37220590.95502208,
           216082861.03017718,
           405575.16000000003,
           1545601.26,
           220156679.56724754,
           299443917.05744976,
           1708809.657565991,
           2960417.2880589142,
           32008094.755001802,
           27002292.91417458,
           142578256.10662428,
           182115571.04451337
          ]
         },
         "name": "",
         "parents": [
          "2019/EMC",
          "2020/EMC",
          "2019/PC",
          "2020/PC",
          "2019/RF",
          "2020/RF",
          "2019/WIP",
          "2020/WIP",
          "2019/RF",
          "2019/PC",
          "2020/PC",
          "2019/WIP",
          "2020/WIP",
          "2019/RF",
          "2020/RF",
          "2020/RF",
          "2019/RF",
          "2020/RF",
          "2019/PC",
          "2020/PC",
          "2019/ODM",
          "2020/ODM",
          "2019/EMC",
          "2020/EMC",
          "2020/PC",
          "2019/WIP",
          "2020/WIP",
          "2019/RF",
          "2020/RF",
          "2020/RF",
          "2019/EMC",
          "2020/EMC",
          "2019/PC",
          "2020/PC",
          "2019/RF",
          "2020/RF",
          "2019/WIP",
          "2020/WIP",
          "2020/RF",
          "2020/RF",
          "2020/RF",
          "2019/RF",
          "2020/RF",
          "2019/EMC",
          "2020/EMC",
          "2019/RF",
          "2020/RF",
          "2019/WIP",
          "2020/WIP",
          "2020/RF",
          "2019/PC",
          "2020/PC",
          "2020/RF",
          "2019/PC",
          "2020/RF",
          "2019/EMC",
          "2020/EMC",
          "2019/WIP",
          "2020/WIP",
          "2019/EMC",
          "2020/EMC",
          "2019/PC",
          "2020/PC",
          "2020/RF",
          "2020/WIP",
          "2019/WIP",
          "2020/WIP",
          "2019",
          "2020",
          "2019",
          "2020",
          "2019",
          "2020",
          "2019",
          "2020",
          "2019",
          "2020",
          "",
          ""
         ],
         "type": "treemap",
         "values": [
          2886704.3800000036,
          4260134.700000001,
          17457373.404000014,
          18604296.62300001,
          4950134.2,
          4062786.1999999997,
          17016684.11999998,
          22525905.179999962,
          95073,
          29411877.776799954,
          57261314.05949991,
          20039409.152999997,
          8356182.044999997,
          46234.288,
          2084403.5,
          3060774.4,
          7202.5,
          4692284.699999999,
          97993955.14849992,
          125661099.90150002,
          20573903.181527995,
          42830957.13271801,
          4034105.8449999993,
          15688233.700599967,
          34572,
          1624711.1399999997,
          4656070.53,
          38179.012,
          124573.71975000002,
          6814429.300000001,
          89195.76000000001,
          433060.396,
          300436.44200000004,
          292801.7920000001,
          4886825.949599999,
          3998269.086,
          276316.70999999996,
          70181.16,
          7320.621,
          4788222.000000001,
          938485.75,
          799642.2932,
          924091.1216,
          2256753.5630000005,
          3432118.014000001,
          11934819.796249995,
          36268070.0528,
          17286,
          54018.75,
          184689.386,
          28750741.905399926,
          31186158.75279992,
          431759.61600000004,
          8643,
          5762,
          57407.822000000044,
          657754,
          17334878.11500002,
          12946650,
          1125714.604299997,
          8827270.757792002,
          656188.5447999999,
          2747719.533,
          153600,
          133545,
          773345.7650456002,
          7877234.316947606,
          10449881.9743,
          33298571.56839197,
          20573903.181527995,
          42830957.13271801,
          174579216.22149983,
          235787962.66179985,
          22758111.039049994,
          68539521.45315,
          57082631.00304559,
          56619786.98194756,
          285443743.41942334,
          437076799.79800725
         ]
        }
       ],
       "layout": {
        "coloraxis": {
         "colorbar": {
          "title": {
           "text": "數量"
          }
         },
         "colorscale": [
          [
           0,
           "#0d0887"
          ],
          [
           0.1111111111111111,
           "#46039f"
          ],
          [
           0.2222222222222222,
           "#7201a8"
          ],
          [
           0.3333333333333333,
           "#9c179e"
          ],
          [
           0.4444444444444444,
           "#bd3786"
          ],
          [
           0.5555555555555556,
           "#d8576b"
          ],
          [
           0.6666666666666666,
           "#ed7953"
          ],
          [
           0.7777777777777778,
           "#fb9f3a"
          ],
          [
           0.8888888888888888,
           "#fdca26"
          ],
          [
           1,
           "#f0f921"
          ]
         ]
        },
        "legend": {
         "tracegroupgap": 0
        },
        "margin": {
         "t": 60
        },
        "template": {
         "data": {
          "bar": [
           {
            "error_x": {
             "color": "#2a3f5f"
            },
            "error_y": {
             "color": "#2a3f5f"
            },
            "marker": {
             "line": {
              "color": "#E5ECF6",
              "width": 0.5
             }
            },
            "type": "bar"
           }
          ],
          "barpolar": [
           {
            "marker": {
             "line": {
              "color": "#E5ECF6",
              "width": 0.5
             }
            },
            "type": "barpolar"
           }
          ],
          "carpet": [
           {
            "aaxis": {
             "endlinecolor": "#2a3f5f",
             "gridcolor": "white",
             "linecolor": "white",
             "minorgridcolor": "white",
             "startlinecolor": "#2a3f5f"
            },
            "baxis": {
             "endlinecolor": "#2a3f5f",
             "gridcolor": "white",
             "linecolor": "white",
             "minorgridcolor": "white",
             "startlinecolor": "#2a3f5f"
            },
            "type": "carpet"
           }
          ],
          "choropleth": [
           {
            "colorbar": {
             "outlinewidth": 0,
             "ticks": ""
            },
            "type": "choropleth"
           }
          ],
          "contour": [
           {
            "colorbar": {
             "outlinewidth": 0,
             "ticks": ""
            },
            "colorscale": [
             [
              0,
              "#0d0887"
             ],
             [
              0.1111111111111111,
              "#46039f"
             ],
             [
              0.2222222222222222,
              "#7201a8"
             ],
             [
              0.3333333333333333,
              "#9c179e"
             ],
             [
              0.4444444444444444,
              "#bd3786"
             ],
             [
              0.5555555555555556,
              "#d8576b"
             ],
             [
              0.6666666666666666,
              "#ed7953"
             ],
             [
              0.7777777777777778,
              "#fb9f3a"
             ],
             [
              0.8888888888888888,
              "#fdca26"
             ],
             [
              1,
              "#f0f921"
             ]
            ],
            "type": "contour"
           }
          ],
          "contourcarpet": [
           {
            "colorbar": {
             "outlinewidth": 0,
             "ticks": ""
            },
            "type": "contourcarpet"
           }
          ],
          "heatmap": [
           {
            "colorbar": {
             "outlinewidth": 0,
             "ticks": ""
            },
            "colorscale": [
             [
              0,
              "#0d0887"
             ],
             [
              0.1111111111111111,
              "#46039f"
             ],
             [
              0.2222222222222222,
              "#7201a8"
             ],
             [
              0.3333333333333333,
              "#9c179e"
             ],
             [
              0.4444444444444444,
              "#bd3786"
             ],
             [
              0.5555555555555556,
              "#d8576b"
             ],
             [
              0.6666666666666666,
              "#ed7953"
             ],
             [
              0.7777777777777778,
              "#fb9f3a"
             ],
             [
              0.8888888888888888,
              "#fdca26"
             ],
             [
              1,
              "#f0f921"
             ]
            ],
            "type": "heatmap"
           }
          ],
          "heatmapgl": [
           {
            "colorbar": {
             "outlinewidth": 0,
             "ticks": ""
            },
            "colorscale": [
             [
              0,
              "#0d0887"
             ],
             [
              0.1111111111111111,
              "#46039f"
             ],
             [
              0.2222222222222222,
              "#7201a8"
             ],
             [
              0.3333333333333333,
              "#9c179e"
             ],
             [
              0.4444444444444444,
              "#bd3786"
             ],
             [
              0.5555555555555556,
              "#d8576b"
             ],
             [
              0.6666666666666666,
              "#ed7953"
             ],
             [
              0.7777777777777778,
              "#fb9f3a"
             ],
             [
              0.8888888888888888,
              "#fdca26"
             ],
             [
              1,
              "#f0f921"
             ]
            ],
            "type": "heatmapgl"
           }
          ],
          "histogram": [
           {
            "marker": {
             "colorbar": {
              "outlinewidth": 0,
              "ticks": ""
             }
            },
            "type": "histogram"
           }
          ],
          "histogram2d": [
           {
            "colorbar": {
             "outlinewidth": 0,
             "ticks": ""
            },
            "colorscale": [
             [
              0,
              "#0d0887"
             ],
             [
              0.1111111111111111,
              "#46039f"
             ],
             [
              0.2222222222222222,
              "#7201a8"
             ],
             [
              0.3333333333333333,
              "#9c179e"
             ],
             [
              0.4444444444444444,
              "#bd3786"
             ],
             [
              0.5555555555555556,
              "#d8576b"
             ],
             [
              0.6666666666666666,
              "#ed7953"
             ],
             [
              0.7777777777777778,
              "#fb9f3a"
             ],
             [
              0.8888888888888888,
              "#fdca26"
             ],
             [
              1,
              "#f0f921"
             ]
            ],
            "type": "histogram2d"
           }
          ],
          "histogram2dcontour": [
           {
            "colorbar": {
             "outlinewidth": 0,
             "ticks": ""
            },
            "colorscale": [
             [
              0,
              "#0d0887"
             ],
             [
              0.1111111111111111,
              "#46039f"
             ],
             [
              0.2222222222222222,
              "#7201a8"
             ],
             [
              0.3333333333333333,
              "#9c179e"
             ],
             [
              0.4444444444444444,
              "#bd3786"
             ],
             [
              0.5555555555555556,
              "#d8576b"
             ],
             [
              0.6666666666666666,
              "#ed7953"
             ],
             [
              0.7777777777777778,
              "#fb9f3a"
             ],
             [
              0.8888888888888888,
              "#fdca26"
             ],
             [
              1,
              "#f0f921"
             ]
            ],
            "type": "histogram2dcontour"
           }
          ],
          "mesh3d": [
           {
            "colorbar": {
             "outlinewidth": 0,
             "ticks": ""
            },
            "type": "mesh3d"
           }
          ],
          "parcoords": [
           {
            "line": {
             "colorbar": {
              "outlinewidth": 0,
              "ticks": ""
             }
            },
            "type": "parcoords"
           }
          ],
          "pie": [
           {
            "automargin": true,
            "type": "pie"
           }
          ],
          "scatter": [
           {
            "marker": {
             "colorbar": {
              "outlinewidth": 0,
              "ticks": ""
             }
            },
            "type": "scatter"
           }
          ],
          "scatter3d": [
           {
            "line": {
             "colorbar": {
              "outlinewidth": 0,
              "ticks": ""
             }
            },
            "marker": {
             "colorbar": {
              "outlinewidth": 0,
              "ticks": ""
             }
            },
            "type": "scatter3d"
           }
          ],
          "scattercarpet": [
           {
            "marker": {
             "colorbar": {
              "outlinewidth": 0,
              "ticks": ""
             }
            },
            "type": "scattercarpet"
           }
          ],
          "scattergeo": [
           {
            "marker": {
             "colorbar": {
              "outlinewidth": 0,
              "ticks": ""
             }
            },
            "type": "scattergeo"
           }
          ],
          "scattergl": [
           {
            "marker": {
             "colorbar": {
              "outlinewidth": 0,
              "ticks": ""
             }
            },
            "type": "scattergl"
           }
          ],
          "scattermapbox": [
           {
            "marker": {
             "colorbar": {
              "outlinewidth": 0,
              "ticks": ""
             }
            },
            "type": "scattermapbox"
           }
          ],
          "scatterpolar": [
           {
            "marker": {
             "colorbar": {
              "outlinewidth": 0,
              "ticks": ""
             }
            },
            "type": "scatterpolar"
           }
          ],
          "scatterpolargl": [
           {
            "marker": {
             "colorbar": {
              "outlinewidth": 0,
              "ticks": ""
             }
            },
            "type": "scatterpolargl"
           }
          ],
          "scatterternary": [
           {
            "marker": {
             "colorbar": {
              "outlinewidth": 0,
              "ticks": ""
             }
            },
            "type": "scatterternary"
           }
          ],
          "surface": [
           {
            "colorbar": {
             "outlinewidth": 0,
             "ticks": ""
            },
            "colorscale": [
             [
              0,
              "#0d0887"
             ],
             [
              0.1111111111111111,
              "#46039f"
             ],
             [
              0.2222222222222222,
              "#7201a8"
             ],
             [
              0.3333333333333333,
              "#9c179e"
             ],
             [
              0.4444444444444444,
              "#bd3786"
             ],
             [
              0.5555555555555556,
              "#d8576b"
             ],
             [
              0.6666666666666666,
              "#ed7953"
             ],
             [
              0.7777777777777778,
              "#fb9f3a"
             ],
             [
              0.8888888888888888,
              "#fdca26"
             ],
             [
              1,
              "#f0f921"
             ]
            ],
            "type": "surface"
           }
          ],
          "table": [
           {
            "cells": {
             "fill": {
              "color": "#EBF0F8"
             },
             "line": {
              "color": "white"
             }
            },
            "header": {
             "fill": {
              "color": "#C8D4E3"
             },
             "line": {
              "color": "white"
             }
            },
            "type": "table"
           }
          ]
         },
         "layout": {
          "annotationdefaults": {
           "arrowcolor": "#2a3f5f",
           "arrowhead": 0,
           "arrowwidth": 1
          },
          "coloraxis": {
           "colorbar": {
            "outlinewidth": 0,
            "ticks": ""
           }
          },
          "colorscale": {
           "diverging": [
            [
             0,
             "#8e0152"
            ],
            [
             0.1,
             "#c51b7d"
            ],
            [
             0.2,
             "#de77ae"
            ],
            [
             0.3,
             "#f1b6da"
            ],
            [
             0.4,
             "#fde0ef"
            ],
            [
             0.5,
             "#f7f7f7"
            ],
            [
             0.6,
             "#e6f5d0"
            ],
            [
             0.7,
             "#b8e186"
            ],
            [
             0.8,
             "#7fbc41"
            ],
            [
             0.9,
             "#4d9221"
            ],
            [
             1,
             "#276419"
            ]
           ],
           "sequential": [
            [
             0,
             "#0d0887"
            ],
            [
             0.1111111111111111,
             "#46039f"
            ],
            [
             0.2222222222222222,
             "#7201a8"
            ],
            [
             0.3333333333333333,
             "#9c179e"
            ],
            [
             0.4444444444444444,
             "#bd3786"
            ],
            [
             0.5555555555555556,
             "#d8576b"
            ],
            [
             0.6666666666666666,
             "#ed7953"
            ],
            [
             0.7777777777777778,
             "#fb9f3a"
            ],
            [
             0.8888888888888888,
             "#fdca26"
            ],
            [
             1,
             "#f0f921"
            ]
           ],
           "sequentialminus": [
            [
             0,
             "#0d0887"
            ],
            [
             0.1111111111111111,
             "#46039f"
            ],
            [
             0.2222222222222222,
             "#7201a8"
            ],
            [
             0.3333333333333333,
             "#9c179e"
            ],
            [
             0.4444444444444444,
             "#bd3786"
            ],
            [
             0.5555555555555556,
             "#d8576b"
            ],
            [
             0.6666666666666666,
             "#ed7953"
            ],
            [
             0.7777777777777778,
             "#fb9f3a"
            ],
            [
             0.8888888888888888,
             "#fdca26"
            ],
            [
             1,
             "#f0f921"
            ]
           ]
          },
          "colorway": [
           "#636efa",
           "#EF553B",
           "#00cc96",
           "#ab63fa",
           "#FFA15A",
           "#19d3f3",
           "#FF6692",
           "#B6E880",
           "#FF97FF",
           "#FECB52"
          ],
          "font": {
           "color": "#2a3f5f"
          },
          "geo": {
           "bgcolor": "white",
           "lakecolor": "white",
           "landcolor": "#E5ECF6",
           "showlakes": true,
           "showland": true,
           "subunitcolor": "white"
          },
          "hoverlabel": {
           "align": "left"
          },
          "hovermode": "closest",
          "mapbox": {
           "style": "light"
          },
          "paper_bgcolor": "white",
          "plot_bgcolor": "#E5ECF6",
          "polar": {
           "angularaxis": {
            "gridcolor": "white",
            "linecolor": "white",
            "ticks": ""
           },
           "bgcolor": "#E5ECF6",
           "radialaxis": {
            "gridcolor": "white",
            "linecolor": "white",
            "ticks": ""
           }
          },
          "scene": {
           "xaxis": {
            "backgroundcolor": "#E5ECF6",
            "gridcolor": "white",
            "gridwidth": 2,
            "linecolor": "white",
            "showbackground": true,
            "ticks": "",
            "zerolinecolor": "white"
           },
           "yaxis": {
            "backgroundcolor": "#E5ECF6",
            "gridcolor": "white",
            "gridwidth": 2,
            "linecolor": "white",
            "showbackground": true,
            "ticks": "",
            "zerolinecolor": "white"
           },
           "zaxis": {
            "backgroundcolor": "#E5ECF6",
            "gridcolor": "white",
            "gridwidth": 2,
            "linecolor": "white",
            "showbackground": true,
            "ticks": "",
            "zerolinecolor": "white"
           }
          },
          "shapedefaults": {
           "line": {
            "color": "#2a3f5f"
           }
          },
          "ternary": {
           "aaxis": {
            "gridcolor": "white",
            "linecolor": "white",
            "ticks": ""
           },
           "baxis": {
            "gridcolor": "white",
            "linecolor": "white",
            "ticks": ""
           },
           "bgcolor": "#E5ECF6",
           "caxis": {
            "gridcolor": "white",
            "linecolor": "white",
            "ticks": ""
           }
          },
          "title": {
           "x": 0.05
          },
          "xaxis": {
           "automargin": true,
           "gridcolor": "white",
           "linecolor": "white",
           "ticks": "",
           "title": {
            "standoff": 15
           },
           "zerolinecolor": "white",
           "zerolinewidth": 2
          },
          "yaxis": {
           "automargin": true,
           "gridcolor": "white",
           "linecolor": "white",
           "ticks": "",
           "title": {
            "standoff": 15
           },
           "zerolinecolor": "white",
           "zerolinewidth": 2
          }
         }
        }
       }
      },
      "text/html": [
       "<div>                            <div id=\"afac0926-0d0e-4a0a-b77f-302741ef57b0\" class=\"plotly-graph-div\" style=\"height:525px; width:100%;\"></div>            <script type=\"text/javascript\">                require([\"plotly\"], function(Plotly) {                    window.PLOTLYENV=window.PLOTLYENV || {};                                    if (document.getElementById(\"afac0926-0d0e-4a0a-b77f-302741ef57b0\")) {                    Plotly.newPlot(                        \"afac0926-0d0e-4a0a-b77f-302741ef57b0\",                        [{\"branchvalues\": \"total\", \"customdata\": [[6636000.0], [11548000.0], [67688000.0], [66264000.0], [3124000.0], [2564000.0], [25074000.0], [31727999.999999996], [5000.0], [83827000.0], [202367000.0], [18540000.0], [8370000.0], [2071.0], [1800000.0], [2678000.0], [25.0], [3930000.0], [343748000.0], [449050999.99999994], [405575.16000000003], [1545601.26], [76315000.0], [387068000.0], [8000.0], [1545000.0], [5787000.0], [3200.0], [9530.0], [6130000.000000001], [324000.0], [1956000.0], [393000.0], [383000.0], [354337.0], [269872.0], [531000.0], [135000.0], [350.0], [4200000.0], [810000.0], [24696.0], [35408.0], [14095000.0], [27422000.000000004], [1815950.0], [2709350.0], [24000.0], [75000.0], [40011.0], [38026000.0], [38878000.0], [146000.0], [20000.0], [100.0], [1632000.0], [16895000.0], [59097000.0], [40956000.0], [26650000.0], [109611000.0], [13709999.999999998], [52358040.0], [64000.0], [342000.0], [2331000.0], [23736000.0], [37220590.95502208], [216082861.03017718], [405575.16000000003], [1545601.26], [220156679.56724754], [299443917.05744976], [1708809.657565991], [2960417.2880589142], [32008094.755001802], [27002292.91417458], [142578256.10662428], [182115571.04451337]], \"domain\": {\"x\": [0.0, 1.0], \"y\": [0.0, 1.0]}, \"hovertemplate\": \"labels=%{label}<br>\\u672c\\u570b\\u5e63\\u5225NTD=%{value}<br>parent=%{parent}<br>id=%{id}<br>\\u6578\\u91cf=%{color}<extra></extra>\", \"ids\": [\"2019/EMC/Bourns\", \"2020/EMC/Bourns\", \"2019/PC/Bourns\", \"2020/PC/Bourns\", \"2019/RF/Bourns\", \"2020/RF/Bourns\", \"2019/WIP/Bourns\", \"2020/WIP/Bourns\", \"2019/RF/Credence\", \"2019/PC/Eaton\", \"2020/PC/Eaton\", \"2019/WIP/Eaton\", \"2020/WIP/Eaton\", \"2019/RF/Eteily\", \"2020/RF/FIRSTEN\", \"2020/RF/G-PLAST\", \"2019/RF/Globalte\", \"2020/RF/JBJ\", \"2019/PC/LF\", \"2020/PC/LF\", \"2019/ODM/LF OEM\", \"2020/ODM/LF OEM\", \"2019/EMC/Laird\", \"2020/EMC/Laird\", \"2020/PC/Laird\", \"2019/WIP/Laird\", \"2020/WIP/Laird\", \"2019/RF/M.S.\", \"2020/RF/M.S.\", \"2020/RF/MATE\", \"2019/EMC/MT-SYSTEM\", \"2020/EMC/MT-SYSTEM\", \"2019/PC/MT-SYSTEM\", \"2020/PC/MT-SYSTEM\", \"2019/RF/MT-SYSTEM\", \"2020/RF/MT-SYSTEM\", \"2019/WIP/MT-SYSTEM\", \"2020/WIP/MT-SYSTEM\", \"2020/RF/Nexty\", \"2020/RF/SSF\", \"2020/RF/Sancraft\", \"2019/RF/TE \", \"2020/RF/TE \", \"2019/EMC/TELTONIKA\", \"2020/EMC/TELTONIKA\", \"2019/RF/TELTONIKA\", \"2020/RF/TELTONIKA\", \"2019/WIP/TELTONIKA\", \"2020/WIP/TELTONIKA\", \"2020/RF/UnivaTe\", \"2019/PC/WE\", \"2020/PC/WE\", \"2020/RF/WE\", \"2019/PC/WiSilica\", \"2020/RF/Zebra\", \"2019/EMC/\\u4fe1\\u660c\", \"2020/EMC/\\u4fe1\\u660c\", \"2019/WIP/\\u4fe1\\u660c\", \"2020/WIP/\\u4fe1\\u660c\", \"2019/EMC/\\u83ef\\u65b0\\u79d1\\u6280\", \"2020/EMC/\\u83ef\\u65b0\\u79d1\\u6280\", \"2019/PC/\\u83ef\\u65b0\\u79d1\\u6280\", \"2020/PC/\\u83ef\\u65b0\\u79d1\\u6280\", \"2020/RF/\\u83ef\\u65b0\\u79d1\\u6280\", \"2020/WIP/\\u83ef\\u65b0\\u79d1\\u6280\", \"2019/WIP/\\u85dd\\u611f\", \"2020/WIP/\\u85dd\\u611f\", \"2019/EMC\", \"2020/EMC\", \"2019/ODM\", \"2020/ODM\", \"2019/PC\", \"2020/PC\", \"2019/RF\", \"2020/RF\", \"2019/WIP\", \"2020/WIP\", \"2019\", \"2020\"], \"labels\": [\"Bourns\", \"Bourns\", \"Bourns\", \"Bourns\", \"Bourns\", \"Bourns\", \"Bourns\", \"Bourns\", \"Credence\", \"Eaton\", \"Eaton\", \"Eaton\", \"Eaton\", \"Eteily\", \"FIRSTEN\", \"G-PLAST\", \"Globalte\", \"JBJ\", \"LF\", \"LF\", \"LF OEM\", \"LF OEM\", \"Laird\", \"Laird\", \"Laird\", \"Laird\", \"Laird\", \"M.S.\", \"M.S.\", \"MATE\", \"MT-SYSTEM\", \"MT-SYSTEM\", \"MT-SYSTEM\", \"MT-SYSTEM\", \"MT-SYSTEM\", \"MT-SYSTEM\", \"MT-SYSTEM\", \"MT-SYSTEM\", \"Nexty\", \"SSF\", \"Sancraft\", \"TE \", \"TE \", \"TELTONIKA\", \"TELTONIKA\", \"TELTONIKA\", \"TELTONIKA\", \"TELTONIKA\", \"TELTONIKA\", \"UnivaTe\", \"WE\", \"WE\", \"WE\", \"WiSilica\", \"Zebra\", \"\\u4fe1\\u660c\", \"\\u4fe1\\u660c\", \"\\u4fe1\\u660c\", \"\\u4fe1\\u660c\", \"\\u83ef\\u65b0\\u79d1\\u6280\", \"\\u83ef\\u65b0\\u79d1\\u6280\", \"\\u83ef\\u65b0\\u79d1\\u6280\", \"\\u83ef\\u65b0\\u79d1\\u6280\", \"\\u83ef\\u65b0\\u79d1\\u6280\", \"\\u83ef\\u65b0\\u79d1\\u6280\", \"\\u85dd\\u611f\", \"\\u85dd\\u611f\", \"EMC\", \"EMC\", \"ODM\", \"ODM\", \"PC\", \"PC\", \"RF\", \"RF\", \"WIP\", \"WIP\", \"2019\", \"2020\"], \"marker\": {\"coloraxis\": \"coloraxis\", \"colors\": [6636000.0, 11548000.0, 67688000.0, 66264000.0, 3124000.0, 2564000.0, 25074000.0, 31727999.999999996, 5000.0, 83827000.0, 202367000.0, 18540000.0, 8370000.0, 2071.0, 1800000.0, 2678000.0, 25.0, 3930000.0, 343748000.0, 449050999.99999994, 405575.16000000003, 1545601.26, 76315000.0, 387068000.0, 8000.0, 1545000.0, 5787000.0, 3200.0, 9530.0, 6130000.000000001, 324000.0, 1956000.0, 393000.0, 383000.0, 354337.0, 269872.0, 531000.0, 135000.0, 350.0, 4200000.0, 810000.0, 24696.0, 35408.0, 14095000.0, 27422000.000000004, 1815950.0, 2709350.0, 24000.0, 75000.0, 40011.0, 38026000.0, 38878000.0, 146000.0, 20000.0, 100.0, 1632000.0, 16895000.0, 59097000.0, 40956000.0, 26650000.0, 109611000.0, 13709999.999999998, 52358040.0, 64000.0, 342000.0, 2331000.0, 23736000.0, 37220590.95502208, 216082861.03017718, 405575.16000000003, 1545601.26, 220156679.56724754, 299443917.05744976, 1708809.657565991, 2960417.2880589142, 32008094.755001802, 27002292.91417458, 142578256.10662428, 182115571.04451337]}, \"name\": \"\", \"parents\": [\"2019/EMC\", \"2020/EMC\", \"2019/PC\", \"2020/PC\", \"2019/RF\", \"2020/RF\", \"2019/WIP\", \"2020/WIP\", \"2019/RF\", \"2019/PC\", \"2020/PC\", \"2019/WIP\", \"2020/WIP\", \"2019/RF\", \"2020/RF\", \"2020/RF\", \"2019/RF\", \"2020/RF\", \"2019/PC\", \"2020/PC\", \"2019/ODM\", \"2020/ODM\", \"2019/EMC\", \"2020/EMC\", \"2020/PC\", \"2019/WIP\", \"2020/WIP\", \"2019/RF\", \"2020/RF\", \"2020/RF\", \"2019/EMC\", \"2020/EMC\", \"2019/PC\", \"2020/PC\", \"2019/RF\", \"2020/RF\", \"2019/WIP\", \"2020/WIP\", \"2020/RF\", \"2020/RF\", \"2020/RF\", \"2019/RF\", \"2020/RF\", \"2019/EMC\", \"2020/EMC\", \"2019/RF\", \"2020/RF\", \"2019/WIP\", \"2020/WIP\", \"2020/RF\", \"2019/PC\", \"2020/PC\", \"2020/RF\", \"2019/PC\", \"2020/RF\", \"2019/EMC\", \"2020/EMC\", \"2019/WIP\", \"2020/WIP\", \"2019/EMC\", \"2020/EMC\", \"2019/PC\", \"2020/PC\", \"2020/RF\", \"2020/WIP\", \"2019/WIP\", \"2020/WIP\", \"2019\", \"2020\", \"2019\", \"2020\", \"2019\", \"2020\", \"2019\", \"2020\", \"2019\", \"2020\", \"\", \"\"], \"type\": \"treemap\", \"values\": [2886704.3800000036, 4260134.700000001, 17457373.404000014, 18604296.62300001, 4950134.2, 4062786.1999999997, 17016684.11999998, 22525905.179999962, 95073.0, 29411877.776799954, 57261314.05949991, 20039409.152999997, 8356182.044999997, 46234.288, 2084403.5, 3060774.4, 7202.5, 4692284.699999999, 97993955.14849992, 125661099.90150002, 20573903.181527995, 42830957.13271801, 4034105.8449999993, 15688233.700599967, 34572.0, 1624711.1399999997, 4656070.53, 38179.012, 124573.71975000002, 6814429.300000001, 89195.76000000001, 433060.396, 300436.44200000004, 292801.7920000001, 4886825.949599999, 3998269.086, 276316.70999999996, 70181.16, 7320.621, 4788222.000000001, 938485.75, 799642.2932, 924091.1216, 2256753.5630000005, 3432118.014000001, 11934819.796249995, 36268070.0528, 17286.0, 54018.75, 184689.386, 28750741.905399926, 31186158.75279992, 431759.61600000004, 8643.0, 5762.0, 57407.822000000044, 657754.0, 17334878.11500002, 12946650.0, 1125714.604299997, 8827270.757792002, 656188.5447999999, 2747719.533, 153600.0, 133545.0, 773345.7650456002, 7877234.316947606, 10449881.9743, 33298571.56839197, 20573903.181527995, 42830957.13271801, 174579216.22149983, 235787962.66179985, 22758111.039049994, 68539521.45315, 57082631.00304559, 56619786.98194756, 285443743.41942334, 437076799.79800725]}],                        {\"coloraxis\": {\"colorbar\": {\"title\": {\"text\": \"\\u6578\\u91cf\"}}, \"colorscale\": [[0.0, \"#0d0887\"], [0.1111111111111111, \"#46039f\"], [0.2222222222222222, \"#7201a8\"], [0.3333333333333333, \"#9c179e\"], [0.4444444444444444, \"#bd3786\"], [0.5555555555555556, \"#d8576b\"], [0.6666666666666666, \"#ed7953\"], [0.7777777777777778, \"#fb9f3a\"], [0.8888888888888888, \"#fdca26\"], [1.0, \"#f0f921\"]]}, \"legend\": {\"tracegroupgap\": 0}, \"margin\": {\"t\": 60}, \"template\": {\"data\": {\"bar\": [{\"error_x\": {\"color\": \"#2a3f5f\"}, \"error_y\": {\"color\": \"#2a3f5f\"}, \"marker\": {\"line\": {\"color\": \"#E5ECF6\", \"width\": 0.5}}, \"type\": \"bar\"}], \"barpolar\": [{\"marker\": {\"line\": {\"color\": \"#E5ECF6\", \"width\": 0.5}}, \"type\": \"barpolar\"}], \"carpet\": [{\"aaxis\": {\"endlinecolor\": \"#2a3f5f\", \"gridcolor\": \"white\", \"linecolor\": \"white\", \"minorgridcolor\": \"white\", \"startlinecolor\": \"#2a3f5f\"}, \"baxis\": {\"endlinecolor\": \"#2a3f5f\", \"gridcolor\": \"white\", \"linecolor\": \"white\", \"minorgridcolor\": \"white\", \"startlinecolor\": \"#2a3f5f\"}, \"type\": \"carpet\"}], \"choropleth\": [{\"colorbar\": {\"outlinewidth\": 0, \"ticks\": \"\"}, \"type\": \"choropleth\"}], \"contour\": [{\"colorbar\": {\"outlinewidth\": 0, \"ticks\": \"\"}, \"colorscale\": [[0.0, \"#0d0887\"], [0.1111111111111111, \"#46039f\"], [0.2222222222222222, \"#7201a8\"], [0.3333333333333333, \"#9c179e\"], [0.4444444444444444, \"#bd3786\"], [0.5555555555555556, \"#d8576b\"], [0.6666666666666666, \"#ed7953\"], [0.7777777777777778, \"#fb9f3a\"], [0.8888888888888888, \"#fdca26\"], [1.0, \"#f0f921\"]], \"type\": \"contour\"}], \"contourcarpet\": [{\"colorbar\": {\"outlinewidth\": 0, \"ticks\": \"\"}, \"type\": \"contourcarpet\"}], \"heatmap\": [{\"colorbar\": {\"outlinewidth\": 0, \"ticks\": \"\"}, \"colorscale\": [[0.0, \"#0d0887\"], [0.1111111111111111, \"#46039f\"], [0.2222222222222222, \"#7201a8\"], [0.3333333333333333, \"#9c179e\"], [0.4444444444444444, \"#bd3786\"], [0.5555555555555556, \"#d8576b\"], [0.6666666666666666, \"#ed7953\"], [0.7777777777777778, \"#fb9f3a\"], [0.8888888888888888, \"#fdca26\"], [1.0, \"#f0f921\"]], \"type\": \"heatmap\"}], \"heatmapgl\": [{\"colorbar\": {\"outlinewidth\": 0, \"ticks\": \"\"}, \"colorscale\": [[0.0, \"#0d0887\"], [0.1111111111111111, \"#46039f\"], [0.2222222222222222, \"#7201a8\"], [0.3333333333333333, \"#9c179e\"], [0.4444444444444444, \"#bd3786\"], [0.5555555555555556, \"#d8576b\"], [0.6666666666666666, \"#ed7953\"], [0.7777777777777778, \"#fb9f3a\"], [0.8888888888888888, \"#fdca26\"], [1.0, \"#f0f921\"]], \"type\": \"heatmapgl\"}], \"histogram\": [{\"marker\": {\"colorbar\": {\"outlinewidth\": 0, \"ticks\": \"\"}}, \"type\": \"histogram\"}], \"histogram2d\": [{\"colorbar\": {\"outlinewidth\": 0, \"ticks\": \"\"}, \"colorscale\": [[0.0, \"#0d0887\"], [0.1111111111111111, \"#46039f\"], [0.2222222222222222, \"#7201a8\"], [0.3333333333333333, \"#9c179e\"], [0.4444444444444444, \"#bd3786\"], [0.5555555555555556, \"#d8576b\"], [0.6666666666666666, \"#ed7953\"], [0.7777777777777778, \"#fb9f3a\"], [0.8888888888888888, \"#fdca26\"], [1.0, \"#f0f921\"]], \"type\": \"histogram2d\"}], \"histogram2dcontour\": [{\"colorbar\": {\"outlinewidth\": 0, \"ticks\": \"\"}, \"colorscale\": [[0.0, \"#0d0887\"], [0.1111111111111111, \"#46039f\"], [0.2222222222222222, \"#7201a8\"], [0.3333333333333333, \"#9c179e\"], [0.4444444444444444, \"#bd3786\"], [0.5555555555555556, \"#d8576b\"], [0.6666666666666666, \"#ed7953\"], [0.7777777777777778, \"#fb9f3a\"], [0.8888888888888888, \"#fdca26\"], [1.0, \"#f0f921\"]], \"type\": \"histogram2dcontour\"}], \"mesh3d\": [{\"colorbar\": {\"outlinewidth\": 0, \"ticks\": \"\"}, \"type\": \"mesh3d\"}], \"parcoords\": [{\"line\": {\"colorbar\": {\"outlinewidth\": 0, \"ticks\": \"\"}}, \"type\": \"parcoords\"}], \"pie\": [{\"automargin\": true, \"type\": \"pie\"}], \"scatter\": [{\"marker\": {\"colorbar\": {\"outlinewidth\": 0, \"ticks\": \"\"}}, \"type\": \"scatter\"}], \"scatter3d\": [{\"line\": {\"colorbar\": {\"outlinewidth\": 0, \"ticks\": \"\"}}, \"marker\": {\"colorbar\": {\"outlinewidth\": 0, \"ticks\": \"\"}}, \"type\": \"scatter3d\"}], \"scattercarpet\": [{\"marker\": {\"colorbar\": {\"outlinewidth\": 0, \"ticks\": \"\"}}, \"type\": \"scattercarpet\"}], \"scattergeo\": [{\"marker\": {\"colorbar\": {\"outlinewidth\": 0, \"ticks\": \"\"}}, \"type\": \"scattergeo\"}], \"scattergl\": [{\"marker\": {\"colorbar\": {\"outlinewidth\": 0, \"ticks\": \"\"}}, \"type\": \"scattergl\"}], \"scattermapbox\": [{\"marker\": {\"colorbar\": {\"outlinewidth\": 0, \"ticks\": \"\"}}, \"type\": \"scattermapbox\"}], \"scatterpolar\": [{\"marker\": {\"colorbar\": {\"outlinewidth\": 0, \"ticks\": \"\"}}, \"type\": \"scatterpolar\"}], \"scatterpolargl\": [{\"marker\": {\"colorbar\": {\"outlinewidth\": 0, \"ticks\": \"\"}}, \"type\": \"scatterpolargl\"}], \"scatterternary\": [{\"marker\": {\"colorbar\": {\"outlinewidth\": 0, \"ticks\": \"\"}}, \"type\": \"scatterternary\"}], \"surface\": [{\"colorbar\": {\"outlinewidth\": 0, \"ticks\": \"\"}, \"colorscale\": [[0.0, \"#0d0887\"], [0.1111111111111111, \"#46039f\"], [0.2222222222222222, \"#7201a8\"], [0.3333333333333333, \"#9c179e\"], [0.4444444444444444, \"#bd3786\"], [0.5555555555555556, \"#d8576b\"], [0.6666666666666666, \"#ed7953\"], [0.7777777777777778, \"#fb9f3a\"], [0.8888888888888888, \"#fdca26\"], [1.0, \"#f0f921\"]], \"type\": \"surface\"}], \"table\": [{\"cells\": {\"fill\": {\"color\": \"#EBF0F8\"}, \"line\": {\"color\": \"white\"}}, \"header\": {\"fill\": {\"color\": \"#C8D4E3\"}, \"line\": {\"color\": \"white\"}}, \"type\": \"table\"}]}, \"layout\": {\"annotationdefaults\": {\"arrowcolor\": \"#2a3f5f\", \"arrowhead\": 0, \"arrowwidth\": 1}, \"coloraxis\": {\"colorbar\": {\"outlinewidth\": 0, \"ticks\": \"\"}}, \"colorscale\": {\"diverging\": [[0, \"#8e0152\"], [0.1, \"#c51b7d\"], [0.2, \"#de77ae\"], [0.3, \"#f1b6da\"], [0.4, \"#fde0ef\"], [0.5, \"#f7f7f7\"], [0.6, \"#e6f5d0\"], [0.7, \"#b8e186\"], [0.8, \"#7fbc41\"], [0.9, \"#4d9221\"], [1, \"#276419\"]], \"sequential\": [[0.0, \"#0d0887\"], [0.1111111111111111, \"#46039f\"], [0.2222222222222222, \"#7201a8\"], [0.3333333333333333, \"#9c179e\"], [0.4444444444444444, \"#bd3786\"], [0.5555555555555556, \"#d8576b\"], [0.6666666666666666, \"#ed7953\"], [0.7777777777777778, \"#fb9f3a\"], [0.8888888888888888, \"#fdca26\"], [1.0, \"#f0f921\"]], \"sequentialminus\": [[0.0, \"#0d0887\"], [0.1111111111111111, \"#46039f\"], [0.2222222222222222, \"#7201a8\"], [0.3333333333333333, \"#9c179e\"], [0.4444444444444444, \"#bd3786\"], [0.5555555555555556, \"#d8576b\"], [0.6666666666666666, \"#ed7953\"], [0.7777777777777778, \"#fb9f3a\"], [0.8888888888888888, \"#fdca26\"], [1.0, \"#f0f921\"]]}, \"colorway\": [\"#636efa\", \"#EF553B\", \"#00cc96\", \"#ab63fa\", \"#FFA15A\", \"#19d3f3\", \"#FF6692\", \"#B6E880\", \"#FF97FF\", \"#FECB52\"], \"font\": {\"color\": \"#2a3f5f\"}, \"geo\": {\"bgcolor\": \"white\", \"lakecolor\": \"white\", \"landcolor\": \"#E5ECF6\", \"showlakes\": true, \"showland\": true, \"subunitcolor\": \"white\"}, \"hoverlabel\": {\"align\": \"left\"}, \"hovermode\": \"closest\", \"mapbox\": {\"style\": \"light\"}, \"paper_bgcolor\": \"white\", \"plot_bgcolor\": \"#E5ECF6\", \"polar\": {\"angularaxis\": {\"gridcolor\": \"white\", \"linecolor\": \"white\", \"ticks\": \"\"}, \"bgcolor\": \"#E5ECF6\", \"radialaxis\": {\"gridcolor\": \"white\", \"linecolor\": \"white\", \"ticks\": \"\"}}, \"scene\": {\"xaxis\": {\"backgroundcolor\": \"#E5ECF6\", \"gridcolor\": \"white\", \"gridwidth\": 2, \"linecolor\": \"white\", \"showbackground\": true, \"ticks\": \"\", \"zerolinecolor\": \"white\"}, \"yaxis\": {\"backgroundcolor\": \"#E5ECF6\", \"gridcolor\": \"white\", \"gridwidth\": 2, \"linecolor\": \"white\", \"showbackground\": true, \"ticks\": \"\", \"zerolinecolor\": \"white\"}, \"zaxis\": {\"backgroundcolor\": \"#E5ECF6\", \"gridcolor\": \"white\", \"gridwidth\": 2, \"linecolor\": \"white\", \"showbackground\": true, \"ticks\": \"\", \"zerolinecolor\": \"white\"}}, \"shapedefaults\": {\"line\": {\"color\": \"#2a3f5f\"}}, \"ternary\": {\"aaxis\": {\"gridcolor\": \"white\", \"linecolor\": \"white\", \"ticks\": \"\"}, \"baxis\": {\"gridcolor\": \"white\", \"linecolor\": \"white\", \"ticks\": \"\"}, \"bgcolor\": \"#E5ECF6\", \"caxis\": {\"gridcolor\": \"white\", \"linecolor\": \"white\", \"ticks\": \"\"}}, \"title\": {\"x\": 0.05}, \"xaxis\": {\"automargin\": true, \"gridcolor\": \"white\", \"linecolor\": \"white\", \"ticks\": \"\", \"title\": {\"standoff\": 15}, \"zerolinecolor\": \"white\", \"zerolinewidth\": 2}, \"yaxis\": {\"automargin\": true, \"gridcolor\": \"white\", \"linecolor\": \"white\", \"ticks\": \"\", \"title\": {\"standoff\": 15}, \"zerolinecolor\": \"white\", \"zerolinewidth\": 2}}}},                        {\"responsive\": true}                    ).then(function(){\n",
       "                            \n",
       "var gd = document.getElementById('afac0926-0d0e-4a0a-b77f-302741ef57b0');\n",
       "var x = new MutationObserver(function (mutations, observer) {{\n",
       "        var display = window.getComputedStyle(gd).display;\n",
       "        if (!display || display === 'none') {{\n",
       "            console.log([gd, 'removed!']);\n",
       "            Plotly.purge(gd);\n",
       "            observer.disconnect();\n",
       "        }}\n",
       "}});\n",
       "\n",
       "// Listen for the removal of the full notebook cells\n",
       "var notebookContainer = gd.closest('#notebook-container');\n",
       "if (notebookContainer) {{\n",
       "    x.observe(notebookContainer, {childList: true});\n",
       "}}\n",
       "\n",
       "// Listen for the clearing of the current output cell\n",
       "var outputEl = gd.closest('.output');\n",
       "if (outputEl) {{\n",
       "    x.observe(outputEl, {childList: true});\n",
       "}}\n",
       "\n",
       "                        })                };                });            </script>        </div>"
      ]
     },
     "metadata": {},
     "output_type": "display_data"
    }
   ],
   "source": [
    "fig2 = px.treemap(df1, path=['預交年份', 'BG', 'Group'], values='本國幣別NTD', color='數量')\n",
    "fig2.show()\n"
   ]
  },
  {
   "cell_type": "markdown",
   "metadata": {},
   "source": [
    "### Dash Pivottable資料前處理"
   ]
  },
  {
   "cell_type": "code",
   "execution_count": null,
   "metadata": {},
   "outputs": [],
   "source": [
    "data=[\n",
    "            ['Animal', 'Count', 'Location'],\n",
    "            ['Zebra', 5, 'SF Zoo'],\n",
    "            ['Tiger', 3, 'SF Zoo'],\n",
    "            ['Zebra', 2, 'LA Zoo'],\n",
    "            ['Tiger', 4, 'LA Zoo'],\n",
    "        ]\n",
    "x = pd.DataFrame(data, columns=['Animal', 'Count', 'Location'])"
   ]
  },
  {
   "cell_type": "code",
   "execution_count": null,
   "metadata": {
    "scrolled": true
   },
   "outputs": [],
   "source": [
    "sales = pd.read_excel('../Dashboard/Weekly report_v0.1.xlsx', sheet_name='出貨明細')"
   ]
  },
  {
   "cell_type": "code",
   "execution_count": null,
   "metadata": {},
   "outputs": [],
   "source": [
    "sales['BG'] = sales.apply(lambda x: 'RFBU2' if 'RFDP' in x['品名'] else 'RFBU1' if 'RFDP' not in x['品名'] and 'RF' in x['BG'] else x['BG'], axis=1)"
   ]
  },
  {
   "cell_type": "code",
   "execution_count": null,
   "metadata": {},
   "outputs": [],
   "source": [
    "sales = sales[sales['狀態'].str.contains('出')]"
   ]
  },
  {
   "cell_type": "code",
   "execution_count": null,
   "metadata": {},
   "outputs": [],
   "source": [
    "sales = sales[['BG', 'Subcategory','Group', '銷售單號', '開單日期', '預交日期', '預交年份', '預交月份', '負責業務', '產品分類', '品名', '幣別', '單價', '數量', '本國幣別NTD', '客戶料號', 'Term']]"
   ]
  },
  {
   "cell_type": "code",
   "execution_count": null,
   "metadata": {},
   "outputs": [],
   "source": [
    "mon_dict = {'January':1, 'February':2, 'March':3, 'April':4, 'May':5, 'June':6, 'July':7, 'August':8, 'September':9, 'October':10, 'November':11, 'December':12}"
   ]
  },
  {
   "cell_type": "code",
   "execution_count": null,
   "metadata": {},
   "outputs": [],
   "source": [
    "sales['數量'] = sales['數量'].astype('int')\n",
    "sales['本國幣別NTD'] = sales['本國幣別NTD'].astype('int')\n",
    "sales['預交月份'] = sales['預交月份'].map(mon_dict)\n"
   ]
  },
  {
   "cell_type": "code",
   "execution_count": null,
   "metadata": {},
   "outputs": [],
   "source": [
    "sales['Subcategory'] = sales['產品分類'].str.upper().str.extract('([A-Z]+)')"
   ]
  },
  {
   "cell_type": "code",
   "execution_count": null,
   "metadata": {},
   "outputs": [],
   "source": [
    "sales = sales[['BG', 'Subcategory', 'Group', '銷售單號', '開單日期', '預交日期', '預交年份', '預交月份',\n",
    "       '負責業務', '品名', '幣別', '單價', '數量', '本國幣別NTD', '客戶料號', 'Term']]\n"
   ]
  },
  {
   "cell_type": "code",
   "execution_count": null,
   "metadata": {},
   "outputs": [],
   "source": [
    "mon_order=['January', 'February', 'March', 'April', 'May', 'June', 'July', 'August', 'September', 'October', 'November', 'December']\n",
    "y['預交月份'] = pd.Categorical(y['預交月份'], ordered=True, categories=mon_order)"
   ]
  },
  {
   "cell_type": "code",
   "execution_count": null,
   "metadata": {
    "scrolled": true
   },
   "outputs": [],
   "source": [
    "m = sales.groupby(['品名'])[['單價']].mean().reset_index()"
   ]
  },
  {
   "cell_type": "code",
   "execution_count": null,
   "metadata": {},
   "outputs": [],
   "source": [
    "dict_test = [{'label': i, 'value': j} for i, j in m.values]"
   ]
  },
  {
   "cell_type": "code",
   "execution_count": null,
   "metadata": {},
   "outputs": [],
   "source": [
    "sales[['品名', '單價']].values"
   ]
  },
  {
   "cell_type": "code",
   "execution_count": null,
   "metadata": {},
   "outputs": [],
   "source": [
    "m.to_dict('records')"
   ]
  },
  {
   "cell_type": "code",
   "execution_count": null,
   "metadata": {
    "scrolled": true
   },
   "outputs": [],
   "source": [
    "price_table = sales[['Group', '開單日期', '負責業務', '品名', '客戶料號', '幣別', '單價', '數量']]\n",
    "price_table['單價'] = price_table.apply(lambda x: x['單價'] /30 if x['幣別'] == 'NTD' else x['單價'] / 6.9 if x['幣別'] == 'CNY' \n",
    "                                     else x['單價'] * 1.19 if x['幣別'] == 'EUR' else x['單價'], axis=1)\n",
    "price_table['幣別'] = price_table['幣別'].apply(lambda x: 'USD')\n",
    "\n",
    "price_table = price_table.drop_duplicates(subset=['Group', '負責業務', '品名'], keep='last')\n",
    "\n",
    "app = JupyterDash(__name__)\n",
    "app.layout = html.Div([\n",
    "    html.H3('報價記錄'),\n",
    "    dcc.Dropdown(\n",
    "    id='test',\n",
    "    options=[\n",
    "        {'label':i, 'value': i}\n",
    "        for i in sales['品名'].unique()\n",
    "    ],\n",
    "    value= '', placeholder='Select or enter a PN'\n",
    "    ),\n",
    "    html.Div([\n",
    "        dcc.Graph(id='price_table', figure={}),\n",
    "        dcc.Graph(id='price_box', figure={})\n",
    "    ]\n",
    "    )\n",
    "])\n",
    "\n",
    "@app.callback(\n",
    "[dash.dependencies.Output('price_table', 'figure'), dash.dependencies.Output('price_box', 'figure')],\n",
    "[dash.dependencies.Input('test', 'value')])\n",
    "\n",
    "def update_table(item):\n",
    "    dff = price_table[price_table['品名'] == item]\n",
    "    fig1 = go.Figure(data=[go.Table(\n",
    "    header=dict(values=list(dff.columns),\n",
    "                fill_color='paleturquoise',\n",
    "                align='left'),\n",
    "    cells=dict(values=[dff.Group, dff.開單日期, dff.負責業務, dff.品名, dff.客戶料號, dff.幣別, dff.單價, dff.數量],\n",
    "               fill_color='lavender',\n",
    "               align='left',\n",
    "              format = [None, None, None, None, None, None, \",.4f\", None]))\n",
    "])\n",
    "    fig2 = px.box(dff, x='負責業務', y='單價')\n",
    "    fig2.update_traces(quartilemethod=\"exclusive\")\n",
    "    \n",
    "    return fig1, fig2\n",
    "\n",
    "\n",
    "if __name__ == '__main__':\n",
    "    app.run_server(mode='inline')\n",
    "    "
   ]
  },
  {
   "cell_type": "code",
   "execution_count": null,
   "metadata": {},
   "outputs": [],
   "source": [
    "data = y.values.tolist()"
   ]
  },
  {
   "cell_type": "code",
   "execution_count": null,
   "metadata": {},
   "outputs": [],
   "source": [
    "data.insert(0, y.columns.tolist())"
   ]
  },
  {
   "cell_type": "code",
   "execution_count": null,
   "metadata": {},
   "outputs": [],
   "source": [
    "for index, row in y.iterrows():\n",
    "    print(row)"
   ]
  },
  {
   "cell_type": "markdown",
   "metadata": {},
   "source": [
    "### ERP歷史數據"
   ]
  },
  {
   "cell_type": "code",
   "execution_count": 2,
   "metadata": {},
   "outputs": [],
   "source": [
    "df = pd.read_excel(r\"C:\\Users\\kaihsu\\Desktop\\業績總表\\歷史數據\\訂單出貨明細_axmr4301_2016.xlsx\", usecols='A:G,I,O,N,Q,R,S,T,U,V,Y,AC,AE,AF')\n",
    "df1 = pd.read_excel(r\"C:\\Users\\kaihsu\\Desktop\\業績總表\\歷史數據\\訂單出貨明細_axmr4301_2017.xlsx\", usecols='A:G,I,O,N,Q,R,S,T,U,V,Y,AC,AE,AF')\n",
    "df2 = pd.read_excel(r\"C:\\Users\\kaihsu\\Desktop\\業績總表\\歷史數據\\訂單出貨明細_axmr4301_2018.xlsx\", usecols='A:G,I,O,N,Q,R,S,T,U,V,Y,AC,AE,AF')\n",
    "df3 = pd.read_excel(r\"C:\\Users\\kaihsu\\Desktop\\業績總表\\歷史數據\\訂單出貨明細_axmr4301_2019.xlsx\", usecols='A:G,I,O,N,Q,R,S,T,U,V,Y,AC,AE,AF')\n",
    "df4 = pd.read_excel(r\"C:\\Users\\kaihsu\\Desktop\\業績總表\\歷史數據\\訂單出貨明細_axmr4301_2020.xlsx\", usecols='A:G,I,O,N,Q,R,S,T,U,V,Y,AC,AE,AF')"
   ]
  },
  {
   "cell_type": "code",
   "execution_count": 3,
   "metadata": {},
   "outputs": [],
   "source": [
    "sales = pd.concat([df2, df3, df4], axis=0, ignore_index=True)"
   ]
  },
  {
   "cell_type": "code",
   "execution_count": null,
   "metadata": {},
   "outputs": [],
   "source": [
    "# sales = pd.concat([df, df1, df2, df3, df4], axis=0, ignore_index=True)"
   ]
  },
  {
   "cell_type": "markdown",
   "metadata": {},
   "source": [
    "## 用Amber要的東西"
   ]
  },
  {
   "cell_type": "code",
   "execution_count": 4,
   "metadata": {},
   "outputs": [],
   "source": [
    "table = sales[sales['訂單業務'].isin(['許凱智','墨漢雷迪','沈思明','楊婉芬','周彥宏'])]"
   ]
  },
  {
   "cell_type": "code",
   "execution_count": 5,
   "metadata": {},
   "outputs": [
    {
     "name": "stderr",
     "output_type": "stream",
     "text": [
      "<ipython-input-5-0ad7b6ab4196>:1: SettingWithCopyWarning: \n",
      "A value is trying to be set on a copy of a slice from a DataFrame.\n",
      "Try using .loc[row_indexer,col_indexer] = value instead\n",
      "\n",
      "See the caveats in the documentation: https://pandas.pydata.org/pandas-docs/stable/user_guide/indexing.html#returning-a-view-versus-a-copy\n",
      "  table['數量'] = table.apply(lambda x: x['數量'] * 1000 if x['單位'] == 'KPCS' else x['數量'], axis=1)\n"
     ]
    }
   ],
   "source": [
    "table['數量'] = table.apply(lambda x: x['數量'] * 1000 if x['單位'] == 'KPCS' else x['數量'], axis=1)"
   ]
  },
  {
   "cell_type": "code",
   "execution_count": 6,
   "metadata": {},
   "outputs": [
    {
     "name": "stderr",
     "output_type": "stream",
     "text": [
      "<ipython-input-6-7eca79d31742>:1: SettingWithCopyWarning: \n",
      "A value is trying to be set on a copy of a slice from a DataFrame.\n",
      "Try using .loc[row_indexer,col_indexer] = value instead\n",
      "\n",
      "See the caveats in the documentation: https://pandas.pydata.org/pandas-docs/stable/user_guide/indexing.html#returning-a-view-versus-a-copy\n",
      "  table['單價'] = table.apply(lambda x: x['單價'] / 1000 if x['單位'] == 'KPCS' else x['單價'], axis=1)\n"
     ]
    }
   ],
   "source": [
    "table['單價'] = table.apply(lambda x: x['單價'] / 1000 if x['單位'] == 'KPCS' else x['單價'], axis=1)"
   ]
  },
  {
   "cell_type": "code",
   "execution_count": 7,
   "metadata": {},
   "outputs": [
    {
     "name": "stderr",
     "output_type": "stream",
     "text": [
      "<ipython-input-7-773376203974>:1: SettingWithCopyWarning: \n",
      "A value is trying to be set on a copy of a slice from a DataFrame.\n",
      "Try using .loc[row_indexer,col_indexer] = value instead\n",
      "\n",
      "See the caveats in the documentation: https://pandas.pydata.org/pandas-docs/stable/user_guide/indexing.html#returning-a-view-versus-a-copy\n",
      "  table['單價'] = table.apply(lambda x: x['單價'] / 30 if x['幣別'] == 'NTD' else x['單價'] / 6.9 if x['幣別'] == 'CNY'\n"
     ]
    }
   ],
   "source": [
    "table['單價'] = table.apply(lambda x: x['單價'] / 30 if x['幣別'] == 'NTD' else x['單價'] / 6.9 if x['幣別'] == 'CNY'\n",
    "                                     else x['單價'] * 1.19 if x['幣別'] == 'EUR' else x['單價'], axis=1)"
   ]
  },
  {
   "cell_type": "code",
   "execution_count": 8,
   "metadata": {},
   "outputs": [
    {
     "name": "stderr",
     "output_type": "stream",
     "text": [
      "<ipython-input-8-908761e08eb9>:1: SettingWithCopyWarning: \n",
      "A value is trying to be set on a copy of a slice from a DataFrame.\n",
      "Try using .loc[row_indexer,col_indexer] = value instead\n",
      "\n",
      "See the caveats in the documentation: https://pandas.pydata.org/pandas-docs/stable/user_guide/indexing.html#returning-a-view-versus-a-copy\n",
      "  table['NTD'] = table.apply(lambda x: x['單價'] * x['數量'] * 30, axis=1)\n"
     ]
    }
   ],
   "source": [
    "table['NTD'] = table.apply(lambda x: x['單價'] * x['數量'] * 30, axis=1)"
   ]
  },
  {
   "cell_type": "code",
   "execution_count": 9,
   "metadata": {},
   "outputs": [
    {
     "name": "stderr",
     "output_type": "stream",
     "text": [
      "<ipython-input-9-3b9478c34d95>:1: SettingWithCopyWarning: \n",
      "A value is trying to be set on a copy of a slice from a DataFrame.\n",
      "Try using .loc[row_indexer,col_indexer] = value instead\n",
      "\n",
      "See the caveats in the documentation: https://pandas.pydata.org/pandas-docs/stable/user_guide/indexing.html#returning-a-view-versus-a-copy\n",
      "  table['幣別'] = table['幣別'].map(lambda x: 'USD')\n"
     ]
    }
   ],
   "source": [
    "table['幣別'] = table['幣別'].map(lambda x: 'USD')"
   ]
  },
  {
   "cell_type": "code",
   "execution_count": 10,
   "metadata": {},
   "outputs": [],
   "source": [
    "table = table[~table['狀態'].str.contains('待|合')]"
   ]
  },
  {
   "cell_type": "code",
   "execution_count": 11,
   "metadata": {},
   "outputs": [],
   "source": [
    "table['預交日期'] = pd.to_datetime(table['預交日期'])"
   ]
  },
  {
   "cell_type": "code",
   "execution_count": 12,
   "metadata": {},
   "outputs": [],
   "source": [
    "table['年份'] = table['預交日期'].dt.year\n",
    "table['預交月份'] = table['預交日期'].dt.month"
   ]
  },
  {
   "cell_type": "code",
   "execution_count": 13,
   "metadata": {},
   "outputs": [],
   "source": [
    "table['訂單業務'] = table['訂單業務'].map(lambda x: '許凱智' if x == '楊婉芬' or x == '周彥宏' else x)"
   ]
  },
  {
   "cell_type": "code",
   "execution_count": 14,
   "metadata": {},
   "outputs": [
    {
     "data": {
      "text/plain": [
       "array(['HOLYPAQ', 'HYWUXI', 'INPAQ', 'HOLYTW'], dtype=object)"
      ]
     },
     "execution_count": 14,
     "metadata": {},
     "output_type": "execute_result"
    }
   ],
   "source": [
    "table['營運中心'].unique()"
   ]
  },
  {
   "cell_type": "code",
   "execution_count": 15,
   "metadata": {},
   "outputs": [],
   "source": [
    "client_classifier = {'Inter Ru': 'MT-SYSTEM', '禾邦貿易':'禾邦貿易', 'MT-Syste':'MT-SYSTEM', 'CAME':'CAME', \n",
    "                    '攸泰科技':'攸泰科技', 'TELTONIK':'TELTONIKA', 'LITTEL':'LF', 'LF(TE)':'LF', 'INPAQ':'INPAQ', \n",
    "                    '東莞華匯':'華新科技', 'EATON':'EATON', 'STEWARD':'Laird', 'WUTJ':'WE', 'Bussmann':'Bussmann', 'WUR':'WE',\n",
    "                    'Bourns':'Bourns', 'LairdUSA':'Laird', 'WUHK':'WE', 'StewdCN':'Laird', 'WuUSA':'WE', 'MT-Sys.':'MT-SYSTEM',\n",
    "                    '華新科技':'華新科技', 'Globalte':'TE','Eteily':'Eteily', '泰連香港':'TE', 'Credence':'Credence', \n",
    "                    'M.S.':'M.S.', 'LF.瑞侃':'LF OEM', '東莞弘電':'東莞弘電', '蘇州華科':'華新科技', '天灣電子':'天灣電子',\n",
    "                    '藝感':'藝感','同方電子':'同方電子','信昌':'信昌','華科高雄':'華新科技','WiSilica':'WiSilica', \n",
    "                    'Siemens':'Siemens','Fides':'Fides','台灣禾邦':'台灣禾邦','Zebra':'Zebra','Nexty':'Nexty',\n",
    "                    'MATE':'MATE','SSF':'SSF','G -PLAST':'G -PLAST','JBJ':'JBJ','Sancraft':'Sancraft','Univa Te':'Univa Te',\n",
    "                    'FIRST EN':'FIRST EN','鎮江恆業':'鎮江恆業','MT-Sys':'MT-SYSTEM','Laird':'Laird','LF':'LF'}"
   ]
  },
  {
   "cell_type": "code",
   "execution_count": 16,
   "metadata": {
    "scrolled": false
   },
   "outputs": [],
   "source": [
    "table['客戶名稱'] = table['客戶名稱'].map(client_classifier)"
   ]
  },
  {
   "cell_type": "code",
   "execution_count": 17,
   "metadata": {},
   "outputs": [],
   "source": [
    "table = table[~table['客戶名稱'].isin(['禾邦貿易', 'INPAQ', '台灣禾邦'])]"
   ]
  },
  {
   "cell_type": "code",
   "execution_count": null,
   "metadata": {},
   "outputs": [],
   "source": [
    "table1 = table.groupby(['預交日期', '年份', '訂單業務', '客戶名稱', '預交月份', '產品分類'])[['數量', 'NTD']].sum().reset_index()\n",
    "table1 = table1.query('年份 != 2021')"
   ]
  },
  {
   "cell_type": "code",
   "execution_count": null,
   "metadata": {},
   "outputs": [],
   "source": [
    "table1['數量'] = table1['數量'].map(lambda x: round(x))\n",
    "table1['NTD'] = table1['NTD'].map(lambda x: round(x))"
   ]
  },
  {
   "cell_type": "code",
   "execution_count": null,
   "metadata": {},
   "outputs": [],
   "source": [
    "fig = px.treemap(table1, path=['年份', '訂單業務', '客戶名稱', '預交月份', '產品分類'], values='NTD', color='數量')\n",
    "fig.show()"
   ]
  },
  {
   "cell_type": "code",
   "execution_count": null,
   "metadata": {
    "scrolled": true
   },
   "outputs": [],
   "source": [
    "fig2 = px.histogram(table1, x='客戶名稱', y='NTD', color='年份', barmode='group', labels={'NTD':'營業額', '客戶名稱':'Customer'}).update_xaxes(categoryorder='total descending')\n",
    "fig2.show()"
   ]
  },
  {
   "cell_type": "code",
   "execution_count": null,
   "metadata": {},
   "outputs": [],
   "source": [
    "antenna_ls = ['PATCH成品', 'ACA-5036-A2-CC成品', 'GSM成品', 'DAM半成品', 'ACA5036成品',\n",
    "       'GSM半成品', 'AAF成品', 'DAM成品', 'NFC series', 'NFW Series成品',\n",
    "       'GPS成品', 'NF Series成品', 'ACA-2012-A1-CC-S成品', 'ACA-8010-A1成品',\n",
    "       'ACM0-3216-A1-CC-S成品']\n",
    "table['BU'] = table['產品分類'].apply(lambda x: 'RF' if x in antenna_ls else 'Component')"
   ]
  },
  {
   "cell_type": "code",
   "execution_count": null,
   "metadata": {},
   "outputs": [],
   "source": [
    "df_type = table.groupby(['預交日期', 'BU'])[['NTD']].sum().reset_index()\n",
    "df_type = df_type[df_type['預交日期'] <= '2021-01-01']\n"
   ]
  },
  {
   "cell_type": "code",
   "execution_count": null,
   "metadata": {},
   "outputs": [],
   "source": [
    "test = df_type.set_index('預交日期')\n",
    "com = test[test['BU'] == 'Component']\n",
    "rf = test[test['BU'] == 'RF']"
   ]
  },
  {
   "cell_type": "code",
   "execution_count": null,
   "metadata": {},
   "outputs": [],
   "source": [
    "com = com['NTD'].resample('M').sum().reset_index()\n",
    "rf = rf['NTD'].resample('M').sum().reset_index()"
   ]
  },
  {
   "cell_type": "code",
   "execution_count": null,
   "metadata": {},
   "outputs": [],
   "source": [
    "com.insert(1, 'Type', 'Component')\n",
    "rf.insert(1, 'Type', 'RF')"
   ]
  },
  {
   "cell_type": "code",
   "execution_count": null,
   "metadata": {},
   "outputs": [],
   "source": [
    "final = pd.concat([com, rf], axis=0)"
   ]
  },
  {
   "cell_type": "code",
   "execution_count": null,
   "metadata": {},
   "outputs": [],
   "source": [
    "final['年份'] = final['預交日期'].dt.year\n",
    "final['月份'] = final['預交日期'].dt.month_name()"
   ]
  },
  {
   "cell_type": "code",
   "execution_count": null,
   "metadata": {
    "scrolled": true
   },
   "outputs": [],
   "source": [
    "fig3 = px.line(final, x='月份', y='NTD', color='年份', facet_col='Type')\n",
    "fig3.show()"
   ]
  },
  {
   "cell_type": "code",
   "execution_count": null,
   "metadata": {},
   "outputs": [],
   "source": [
    "total = test['NTD'].resample('M').sum()\n",
    "total = total.reset_index()"
   ]
  },
  {
   "cell_type": "code",
   "execution_count": null,
   "metadata": {
    "scrolled": true
   },
   "outputs": [],
   "source": [
    "total['年份'] = total['預交日期'].dt.year\n",
    "total['月份'] = total['預交日期'].dt.month_name()"
   ]
  },
  {
   "cell_type": "code",
   "execution_count": null,
   "metadata": {
    "scrolled": true
   },
   "outputs": [],
   "source": [
    "fig4 = px.line(total, x='月份', y='NTD', color='年份')\n",
    "fig4.show()"
   ]
  },
  {
   "cell_type": "code",
   "execution_count": null,
   "metadata": {},
   "outputs": [],
   "source": [
    "with open(r\"C:\\Users\\kaihsu\\Desktop\\2018-2020比較圖.html\", \"a\") as f:\n",
    "    f.write(fig.to_html(full_html=False, include_plotlyjs='cdn'))\n",
    "    f.write(fig2.to_html(full_html=False, include_plotlyjs='cdn'))\n",
    "    f.write(fig3.to_html(full_html=False, include_plotlyjs='cdn'))\n",
    "    f.write(fig4.to_html(full_html=False, include_plotlyjs='cdn'))\n",
    "    f.close()"
   ]
  },
  {
   "cell_type": "code",
   "execution_count": null,
   "metadata": {},
   "outputs": [],
   "source": [
    "sales = sales.query('單位 == \"KPCS\" | 單位 == \"PCS\"')"
   ]
  },
  {
   "cell_type": "code",
   "execution_count": null,
   "metadata": {},
   "outputs": [],
   "source": [
    "sales['數量'] = sales.apply(lambda x: x['數量'] * 1000 if x['單位'] == 'KPCS' else x['數量'], axis=1)"
   ]
  },
  {
   "cell_type": "code",
   "execution_count": null,
   "metadata": {},
   "outputs": [],
   "source": [
    "sales['單價'] = sales.apply(lambda x: x['單價'] / 1000 if x['單位'] == 'KPCS' else x['單價'], axis=1)"
   ]
  },
  {
   "cell_type": "code",
   "execution_count": null,
   "metadata": {},
   "outputs": [],
   "source": [
    "sales['單價'] = sales.apply(lambda x: x['單價'] / 30 if x['幣別'] == 'NTD' else x['單價'] / 6.9 if x['幣別'] == 'CNY'\n",
    "                                     else x['單價'] * 1.19 if x['幣別'] == 'EUR' else x['單價'], axis=1)"
   ]
  },
  {
   "cell_type": "code",
   "execution_count": null,
   "metadata": {},
   "outputs": [],
   "source": [
    "sales['幣別'] = sales['幣別'].apply(lambda x: 'USD')"
   ]
  },
  {
   "cell_type": "code",
   "execution_count": null,
   "metadata": {},
   "outputs": [],
   "source": [
    "price_table = sales[['客戶名稱', '開單日期', '組別', '訂單業務', '品名', '客戶料號', '幣別', '單價', '數量']]"
   ]
  },
  {
   "cell_type": "code",
   "execution_count": null,
   "metadata": {
    "scrolled": true
   },
   "outputs": [],
   "source": [
    "price_table.drop_duplicates(subset=['客戶名稱', '訂單業務', '品名'], keep='last')"
   ]
  },
  {
   "cell_type": "code",
   "execution_count": null,
   "metadata": {},
   "outputs": [],
   "source": [
    "price_table.to_csv(r\"C:\\Users\\kaihsu\\Desktop\\his_price.csv\", index=False)"
   ]
  },
  {
   "cell_type": "markdown",
   "metadata": {},
   "source": [
    "### Weekly report to CSV"
   ]
  },
  {
   "cell_type": "code",
   "execution_count": null,
   "metadata": {},
   "outputs": [],
   "source": [
    "df = pd.read_excel(r\"C:\\Users\\kaihsu\\Desktop\\業績總表\\Weekly report_v0.1.xlsx\", sheet_name='出貨明細')"
   ]
  },
  {
   "cell_type": "code",
   "execution_count": null,
   "metadata": {},
   "outputs": [],
   "source": [
    "df.to_csv(r'C:\\Users\\kaihsu\\Desktop\\weekly_report.csv', index=False)"
   ]
  },
  {
   "cell_type": "markdown",
   "metadata": {},
   "source": [
    "### 多個檔案寫入一個excel檔案，但是在不同的sheets"
   ]
  },
  {
   "cell_type": "code",
   "execution_count": null,
   "metadata": {},
   "outputs": [],
   "source": [
    "pip install openpyxl"
   ]
  },
  {
   "cell_type": "code",
   "execution_count": null,
   "metadata": {},
   "outputs": [],
   "source": [
    "writer = pd.ExcelWriter(r'C:\\Users\\kaihsu\\Desktop\\差異比較表.xlsx')\n",
    "weekly.to_excel(writer, sheet_name='CS提供的數據', index=False)\n",
    "system.to_excel(writer, sheet_name='系統撈出來的數據', index=False)\n",
    "writer.save()"
   ]
  },
  {
   "cell_type": "markdown",
   "metadata": {},
   "source": [
    "### MT-System Energomera報價\n"
   ]
  },
  {
   "cell_type": "code",
   "execution_count": null,
   "metadata": {},
   "outputs": [],
   "source": [
    "mt = pd.read_excel(r\"D:\\客戶\\Mt System\\價格表\\20201119_MT-System_Energomera_Package.xlsx\")"
   ]
  },
  {
   "cell_type": "code",
   "execution_count": null,
   "metadata": {},
   "outputs": [],
   "source": [
    "mt.columns"
   ]
  },
  {
   "cell_type": "code",
   "execution_count": null,
   "metadata": {},
   "outputs": [],
   "source": [
    "mt['EAU in number'] = mt.apply(lambda x: int(x['EAU'].split(' ')[0]) * 1000, axis=1)"
   ]
  },
  {
   "cell_type": "code",
   "execution_count": null,
   "metadata": {},
   "outputs": [],
   "source": [
    "mt['Target Price in USD'] = mt.apply(lambda x: float(x['Target'].split(' ')[0].replace(',', '.')), axis=1)"
   ]
  },
  {
   "cell_type": "code",
   "execution_count": null,
   "metadata": {},
   "outputs": [],
   "source": [
    "mt = mt.reindex(columns=['Competitor PN',\n",
    " 'INPAQ PN',\n",
    " 'Link',\n",
    " 'EAU',\n",
    " 'EAU in number',\n",
    " 'Buying lot',\n",
    " 'Target',\n",
    " 'Target Price in USD',\n",
    " 'Defect rate in as-delivered condition (exceeding which the entire batch is returned), %',\n",
    " 'Warranty period(Year)',\n",
    " 'Number of failures during the warranty period, %',\n",
    " 'Service life of a component, year',\n",
    " 'Shelf life - before installation in the product, year',\n",
    " 'Reliability of supplied components and materials (failure rate), Hours(FIT/MTBF)'])"
   ]
  },
  {
   "cell_type": "code",
   "execution_count": null,
   "metadata": {},
   "outputs": [],
   "source": [
    "mt.to_excel(r'C:\\Users\\kaihsu\\Desktop\\energomera.xlsx', index=False)"
   ]
  }
 ],
 "metadata": {
  "kernelspec": {
   "display_name": "Python 3",
   "language": "python",
   "name": "python3"
  },
  "language_info": {
   "codemirror_mode": {
    "name": "ipython",
    "version": 3
   },
   "file_extension": ".py",
   "mimetype": "text/x-python",
   "name": "python",
   "nbconvert_exporter": "python",
   "pygments_lexer": "ipython3",
   "version": "3.8.5"
  }
 },
 "nbformat": 4,
 "nbformat_minor": 4
}
