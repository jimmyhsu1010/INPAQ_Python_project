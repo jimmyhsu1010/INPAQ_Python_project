{
 "cells": [
  {
   "cell_type": "code",
   "execution_count": 2,
   "metadata": {},
   "outputs": [],
   "source": [
    "import pandas as pd\n",
    "pd.set_option('display.max_rows', 5)"
   ]
  },
  {
   "cell_type": "code",
   "execution_count": 139,
   "metadata": {},
   "outputs": [],
   "source": [
    "rf = pd.read_excel(r\"C:\\Users\\kaihsu\\Desktop\\業績總表\\RF.xlsx\", sheet_name='RF')"
   ]
  },
  {
   "cell_type": "code",
   "execution_count": 140,
   "metadata": {},
   "outputs": [
    {
     "data": {
      "text/plain": [
       "Index(['營運中心', '狀態', '狀態2', '銷售單號', '舊系統單號', '銷售項次', '銷售月份', '開單日期', '預交日期',\n",
       "       '交期變更', '客戶名稱', '業務代號', '負責業務', '客戶訂單', '客戶訂單項次', '業務部門', '銷售類', '交貨方式',\n",
       "       '料號', '產品分類', '品名', '銷售單位', '幣別', '數量', '已出數量', '未出數', '單價', '金額',\n",
       "       '訂單匯率', '金額*訂單匯率', '客戶料號', '其它分群一碼(接單業務)', '帳款客戶編號', '業務名稱', '出通單號',\n",
       "       '代理商編號', '發票號碼', 'INVOICE號碼', '客戶希交日', 'TERM', '備註', 'C.C', '客戶專案名稱',\n",
       "       '原始希交日', 'HSF編號(報價單)', 'HSF編號(最新)', '產品類別', '出通單日', '出貨單號', '車用',\n",
       "       '用戶端車型', '天線擺放位置', 'REBATE', '集團匯率', '集團匯率*金額', '資料所有者', '資料修改者',\n",
       "       '出貨日期', '送貨客戶編號', '送貨客戶名稱', '數量(舊系統)', '年份', '組別2', 'RF/元件', '客戶名稱品名',\n",
       "       '產業別對照表201109'],\n",
       "      dtype='object')"
      ]
     },
     "execution_count": 140,
     "metadata": {},
     "output_type": "execute_result"
    }
   ],
   "source": [
    "rf.columns"
   ]
  },
  {
   "cell_type": "code",
   "execution_count": 141,
   "metadata": {
    "scrolled": true
   },
   "outputs": [],
   "source": [
    "keep_columns = ['狀態', '銷售單號', '銷售項次', '銷售月份', '開單日期', '預交日期', '交期變更', '客戶名稱', '負責業務', '交貨方式', '產品分類', '品名', '幣別', '數量', '已出數量', '未出數', '銷售單位',\n",
    "                    '單價', '集團匯率', '集團匯率*金額', '客戶料號', '客戶希交日', 'TERM', '出通單號', '客戶訂單', '客戶訂單項次']"
   ]
  },
  {
   "cell_type": "code",
   "execution_count": 142,
   "metadata": {},
   "outputs": [],
   "source": [
    "rf = rf[keep_columns]"
   ]
  },
  {
   "cell_type": "code",
   "execution_count": 143,
   "metadata": {
    "scrolled": true
   },
   "outputs": [
    {
     "data": {
      "text/plain": [
       "(783, 26)"
      ]
     },
     "execution_count": 143,
     "metadata": {},
     "output_type": "execute_result"
    }
   ],
   "source": [
    "rf.shape"
   ]
  },
  {
   "cell_type": "code",
   "execution_count": 144,
   "metadata": {},
   "outputs": [],
   "source": [
    "rf = rf.drop_duplicates(['銷售單號', '銷售項次', '客戶訂單', '客戶訂單項次'], keep='last')"
   ]
  },
  {
   "cell_type": "code",
   "execution_count": 145,
   "metadata": {},
   "outputs": [
    {
     "name": "stderr",
     "output_type": "stream",
     "text": [
      "<ipython-input-145-b29bd10e5fc7>:3: SettingWithCopyWarning: \n",
      "A value is trying to be set on a copy of a slice from a DataFrame.\n",
      "Try using .loc[row_indexer,col_indexer] = value instead\n",
      "\n",
      "See the caveats in the documentation: https://pandas.pydata.org/pandas-docs/stable/user_guide/indexing.html#returning-a-view-versus-a-copy\n",
      "  rf_unit_change['數量'] = rf_unit_change['數量'].map(lambda x: x * 1000)\n",
      "<ipython-input-145-b29bd10e5fc7>:4: SettingWithCopyWarning: \n",
      "A value is trying to be set on a copy of a slice from a DataFrame.\n",
      "Try using .loc[row_indexer,col_indexer] = value instead\n",
      "\n",
      "See the caveats in the documentation: https://pandas.pydata.org/pandas-docs/stable/user_guide/indexing.html#returning-a-view-versus-a-copy\n",
      "  rf_unit_change['已出數量'] = rf_unit_change['已出數量'].map(lambda x: x * 1000)\n",
      "<ipython-input-145-b29bd10e5fc7>:5: SettingWithCopyWarning: \n",
      "A value is trying to be set on a copy of a slice from a DataFrame.\n",
      "Try using .loc[row_indexer,col_indexer] = value instead\n",
      "\n",
      "See the caveats in the documentation: https://pandas.pydata.org/pandas-docs/stable/user_guide/indexing.html#returning-a-view-versus-a-copy\n",
      "  rf_unit_change['未出數'] = rf_unit_change['未出數'].map(lambda x: x * 1000)\n",
      "<ipython-input-145-b29bd10e5fc7>:6: SettingWithCopyWarning: \n",
      "A value is trying to be set on a copy of a slice from a DataFrame.\n",
      "Try using .loc[row_indexer,col_indexer] = value instead\n",
      "\n",
      "See the caveats in the documentation: https://pandas.pydata.org/pandas-docs/stable/user_guide/indexing.html#returning-a-view-versus-a-copy\n",
      "  rf_unit_change['單價'] = rf_unit_change['單價'].map(lambda x: x / 1000)\n"
     ]
    }
   ],
   "source": [
    "rf_unit_change = rf[rf['銷售單位'] == 'KPCS']\n",
    "rf_keep_unit = rf[~(rf['銷售單位'] == 'KPCS')]\n",
    "rf_unit_change['數量'] = rf_unit_change['數量'].map(lambda x: x * 1000)\n",
    "rf_unit_change['已出數量'] = rf_unit_change['已出數量'].map(lambda x: x * 1000)\n",
    "rf_unit_change['未出數'] = rf_unit_change['未出數'].map(lambda x: x * 1000)\n",
    "rf_unit_change['單價'] = rf_unit_change['單價'].map(lambda x: x / 1000)\n",
    "\n",
    "rf = pd.concat([rf_unit_change, rf_keep_unit], axis=0)\n",
    "\n",
    "append_dict = {0: 'Category', 1: 'BG', 2: 'Subcategory', 3: 'Group', 10: '預交年份', 11: '預交月份', }\n",
    "for k, v in append_dict.items():\n",
    "    rf.insert(k, v, value=None)\n",
    "\n",
    "rf = rf.drop(['銷售單位', '客戶訂單', '客戶訂單項次'], axis=1)"
   ]
  },
  {
   "cell_type": "code",
   "execution_count": 146,
   "metadata": {},
   "outputs": [],
   "source": [
    "columns = ['Category', 'BG', 'Subcategory', 'Group', '狀態', '銷售單號', '銷售項次', '銷售月份', '開單日期', '預交日期', '預交年份', '預交月份', '交期變更',\n",
    "               '客戶名稱', '負責業務', '交貨方式', '產品分類', '品名', '幣別', '數量', '已出數量', '未出數', '單價', '集團匯率', '集團匯率*金額', '客戶料號', '客戶希交日',\n",
    "               'TERM', '出通單號']"
   ]
  },
  {
   "cell_type": "code",
   "execution_count": 147,
   "metadata": {},
   "outputs": [],
   "source": [
    "result = rf.reindex(columns=columns)"
   ]
  },
  {
   "cell_type": "code",
   "execution_count": 148,
   "metadata": {
    "scrolled": true
   },
   "outputs": [
    {
     "data": {
      "text/plain": [
       "Index(['Category', 'BG', 'Subcategory', 'Group', '狀態', '銷售單號', '銷售項次', '銷售月份',\n",
       "       '開單日期', '預交日期', '預交年份', '預交月份', '交期變更', '客戶名稱', '負責業務', '交貨方式', '產品分類',\n",
       "       '品名', '幣別', '數量', '已出數量', '未出數', '單價', '集團匯率', '集團匯率*金額', '客戶料號',\n",
       "       '客戶希交日', 'TERM', '出通單號'],\n",
       "      dtype='object')"
      ]
     },
     "execution_count": 148,
     "metadata": {},
     "output_type": "execute_result"
    }
   ],
   "source": [
    "result.columns"
   ]
  },
  {
   "cell_type": "code",
   "execution_count": 149,
   "metadata": {},
   "outputs": [],
   "source": [
    "result['負責業務'] = result['負責業務'].map(lambda x: '許凱智' if x == '楊婉芬' or x == '周彥宏' else x)\n",
    "result = result[result['負責業務'].isin(['鄭里緗', '墨漢雷迪', '許凱智'])]"
   ]
  },
  {
   "cell_type": "code",
   "execution_count": 150,
   "metadata": {},
   "outputs": [],
   "source": [
    "result['數量'] = result['數量'].astype(int)\n",
    "result['已出數量'] = result['已出數量'].astype(int)\n",
    "result['未出數'] = result['未出數'].astype(int)\n"
   ]
  },
  {
   "cell_type": "code",
   "execution_count": 151,
   "metadata": {
    "scrolled": true
   },
   "outputs": [],
   "source": [
    "result.to_excel(r'C:\\Users\\kaihsu\\Desktop\\業績總表\\2021_rf_clean.xlsx', index=False)"
   ]
  },
  {
   "cell_type": "markdown",
   "metadata": {},
   "source": [
    "### 2021元件"
   ]
  },
  {
   "cell_type": "code",
   "execution_count": 103,
   "metadata": {},
   "outputs": [],
   "source": [
    "zhunan = pd.read_excel(r\"C:\\Users\\kaihsu\\Desktop\\業績總表\\2021_component_axmr430.xls\")"
   ]
  },
  {
   "cell_type": "code",
   "execution_count": 104,
   "metadata": {},
   "outputs": [
    {
     "data": {
      "text/plain": [
       "Index(['營運中心', '狀態', '銷售單號', '銷售項次', '銷售月份', '開單日期', '預交日期', '交期變更', '客戶名稱',\n",
       "       '業務代號', '負責業務', '客戶訂單', '客戶訂單項次', '業務部門', '銷售類', '交貨方式', '料號', '產品分類',\n",
       "       '品名', '銷售單位', '幣別', '數量', '已出數量', '未出數', '單價', '金額', '訂單匯率', '金額*訂單匯率',\n",
       "       '客戶料號', '其它分群一碼(接單業務)', '帳款客戶編號', '業務名稱', '出通單號', '代理商編號', '發票號碼',\n",
       "       'INVOICE號碼', '客戶希交日', 'TERM', '備註', 'C.C', '客戶專案名稱', '原始希交日',\n",
       "       'HSF編號(報價單)', 'HSF編號(最新)', '產品類別', '出通單日', '出貨單號', '舊系統單號', '車用',\n",
       "       '用戶端車型', '天線擺放位置', 'REBATE', '集團匯率', '集團匯率*金額', '資料所有者', '資料修改者',\n",
       "       '出貨日期', '送貨客戶編號', '送貨客戶名稱', '數量(舊系統)'],\n",
       "      dtype='object')"
      ]
     },
     "execution_count": 104,
     "metadata": {},
     "output_type": "execute_result"
    }
   ],
   "source": [
    "zhunan.columns"
   ]
  },
  {
   "cell_type": "code",
   "execution_count": 105,
   "metadata": {},
   "outputs": [],
   "source": [
    "keep_columns = ['狀態', '銷售單號', '銷售項次', '銷售月份', '開單日期', '預交日期', '交期變更', '客戶名稱', '負責業務', '交貨方式',\n",
    "                '產品分類', '品名', '幣別', '數量', '銷售單位', '已出數量', '未出數', \n",
    "                '單價', '集團匯率', '集團匯率*金額', '客戶料號', '客戶希交日', 'TERM', '出通單號', '客戶訂單', '客戶訂單項次']"
   ]
  },
  {
   "cell_type": "code",
   "execution_count": 106,
   "metadata": {},
   "outputs": [],
   "source": [
    "zhunan = zhunan[keep_columns]"
   ]
  },
  {
   "cell_type": "code",
   "execution_count": 107,
   "metadata": {},
   "outputs": [
    {
     "data": {
      "text/plain": [
       "(1467, 26)"
      ]
     },
     "execution_count": 107,
     "metadata": {},
     "output_type": "execute_result"
    }
   ],
   "source": [
    "zhunan.shape"
   ]
  },
  {
   "cell_type": "code",
   "execution_count": 108,
   "metadata": {},
   "outputs": [],
   "source": [
    "zhunan = zhunan[zhunan['客戶名稱'] != 'INPAQ']"
   ]
  },
  {
   "cell_type": "code",
   "execution_count": 109,
   "metadata": {},
   "outputs": [
    {
     "data": {
      "text/plain": [
       "(1285, 26)"
      ]
     },
     "execution_count": 109,
     "metadata": {},
     "output_type": "execute_result"
    }
   ],
   "source": [
    "zhunan.shape"
   ]
  },
  {
   "cell_type": "code",
   "execution_count": 110,
   "metadata": {},
   "outputs": [],
   "source": [
    "zhunan = zhunan.drop_duplicates(subset=['銷售單號', '銷售項次', '客戶訂單', '客戶訂單項次'], keep='last')"
   ]
  },
  {
   "cell_type": "code",
   "execution_count": 111,
   "metadata": {
    "scrolled": true
   },
   "outputs": [
    {
     "name": "stderr",
     "output_type": "stream",
     "text": [
      "<ipython-input-111-f08a456f96c7>:3: SettingWithCopyWarning: \n",
      "A value is trying to be set on a copy of a slice from a DataFrame.\n",
      "Try using .loc[row_indexer,col_indexer] = value instead\n",
      "\n",
      "See the caveats in the documentation: https://pandas.pydata.org/pandas-docs/stable/user_guide/indexing.html#returning-a-view-versus-a-copy\n",
      "  zhunan_unit_change['數量'] = zhunan_unit_change['數量'].map(lambda x: x * 1000)\n",
      "<ipython-input-111-f08a456f96c7>:4: SettingWithCopyWarning: \n",
      "A value is trying to be set on a copy of a slice from a DataFrame.\n",
      "Try using .loc[row_indexer,col_indexer] = value instead\n",
      "\n",
      "See the caveats in the documentation: https://pandas.pydata.org/pandas-docs/stable/user_guide/indexing.html#returning-a-view-versus-a-copy\n",
      "  zhunan_unit_change['已出數量'] = zhunan_unit_change['已出數量'].map(lambda x: x * 1000)\n",
      "<ipython-input-111-f08a456f96c7>:5: SettingWithCopyWarning: \n",
      "A value is trying to be set on a copy of a slice from a DataFrame.\n",
      "Try using .loc[row_indexer,col_indexer] = value instead\n",
      "\n",
      "See the caveats in the documentation: https://pandas.pydata.org/pandas-docs/stable/user_guide/indexing.html#returning-a-view-versus-a-copy\n",
      "  zhunan_unit_change['未出數'] = zhunan_unit_change['未出數'].map(lambda x: x * 1000)\n",
      "<ipython-input-111-f08a456f96c7>:6: SettingWithCopyWarning: \n",
      "A value is trying to be set on a copy of a slice from a DataFrame.\n",
      "Try using .loc[row_indexer,col_indexer] = value instead\n",
      "\n",
      "See the caveats in the documentation: https://pandas.pydata.org/pandas-docs/stable/user_guide/indexing.html#returning-a-view-versus-a-copy\n",
      "  zhunan_unit_change['單價'] = zhunan_unit_change['單價'].map(lambda x: x / 1000)\n"
     ]
    }
   ],
   "source": [
    "zhunan_unit_change = zhunan[zhunan['銷售單位'] == 'KPCS']\n",
    "zhunan_keep_unit = zhunan[~(zhunan['銷售單位'] == 'KPCS')]\n",
    "zhunan_unit_change['數量'] = zhunan_unit_change['數量'].map(lambda x: x * 1000)\n",
    "zhunan_unit_change['已出數量'] = zhunan_unit_change['已出數量'].map(lambda x: x * 1000)\n",
    "zhunan_unit_change['未出數'] = zhunan_unit_change['未出數'].map(lambda x: x * 1000)\n",
    "zhunan_unit_change['單價'] = zhunan_unit_change['單價'].map(lambda x: x / 1000)\n",
    "\n",
    "zhunan = pd.concat([zhunan_unit_change, zhunan_keep_unit], axis=0)\n",
    "\n",
    "append_dict = {0: 'Category', 1: 'BG', 2: 'Subcategory', 3: 'Group', 10: '預交年份', 11: '預交月份', }\n",
    "for k, v in append_dict.items():\n",
    "    zhunan.insert(k, v, value=None)\n",
    "\n",
    "zhunan = zhunan.drop(['銷售單位', '客戶訂單', '客戶訂單項次'], axis=1)"
   ]
  },
  {
   "cell_type": "code",
   "execution_count": 112,
   "metadata": {},
   "outputs": [],
   "source": [
    "columns = ['Category', 'BG', 'Subcategory', 'Group', '狀態', '銷售單號', '銷售項次', '銷售月份', '開單日期', '預交日期', '預交年份', '預交月份', '交期變更',\n",
    "               '客戶名稱', '負責業務', '交貨方式', '產品分類', '品名', '幣別', '數量', '已出數量', '未出數', '單價', '集團匯率', '集團匯率*金額', '客戶料號', '客戶希交日',\n",
    "               'TERM', '出通單號']\n",
    "result = zhunan.reindex(columns=columns)"
   ]
  },
  {
   "cell_type": "code",
   "execution_count": 113,
   "metadata": {},
   "outputs": [],
   "source": [
    "result['數量'] = result['數量'].astype(int)\n",
    "result['已出數量'] = result['已出數量'].astype(int)\n",
    "result['未出數'] = result['未出數'].astype(int)\n",
    "# result['集團匯率*金額'] = result['集團匯率*金額'].astype(int)\n",
    "result.to_excel(r'C:\\Users\\kaihsu\\Desktop\\業績總表\\2021_component_clean.xlsx', index=False)"
   ]
  },
  {
   "cell_type": "markdown",
   "metadata": {},
   "source": [
    "### 2021小顧無錫廠"
   ]
  },
  {
   "cell_type": "code",
   "execution_count": 114,
   "metadata": {},
   "outputs": [],
   "source": [
    "df = pd.read_excel(r\"C:\\Users\\kaihsu\\Desktop\\業績總表\\已交未交明细.xlsx\")"
   ]
  },
  {
   "cell_type": "code",
   "execution_count": 115,
   "metadata": {},
   "outputs": [
    {
     "data": {
      "text/plain": [
       "Index(['营运中心', '状态', '销售单号', '销售项次', '销售月份', '开单日期', '预交日期', '交期变更', '客户名称',\n",
       "       '业务代号', '负责业务', '客户订单', '客户订单项次', '业务部门', '销售类', '交货方式', '料号', '产品分类',\n",
       "       '品名', '销售单位', '币别', '数量', '已出数量', '未出数', '单价', '金额', '订单汇率', '金额*订单汇率',\n",
       "       '客户料号', '其它分群一码(接单业务)', '帐款客户编号', '业务名称', '出通单号', '代理商编号', '发票号码',\n",
       "       'INVOICE号码', '客户希交日', 'TERM', '备注', 'C.C', '客户专案名称', '原始希交日',\n",
       "       'HSF编号(报价单)', 'HSF编号(最新)', '产品类别', '出通单日', '出货单号', '旧系统单号', '车用',\n",
       "       '用户端车型', 'v', 'REBATE', '集团汇率', '集团汇率*金额', '资料所有者', '资料修改者', '出货日期',\n",
       "       '送货客户编号\\n送货客户编号\\n送货客户编号\\n送货客户编号\\nDelivery customer 送货客户编号', '送货客户名称',\n",
       "       '数量(旧系统)'],\n",
       "      dtype='object')"
      ]
     },
     "execution_count": 115,
     "metadata": {},
     "output_type": "execute_result"
    }
   ],
   "source": [
    "df.columns"
   ]
  },
  {
   "cell_type": "code",
   "execution_count": 116,
   "metadata": {},
   "outputs": [],
   "source": [
    "keep_columns = ['状态', '销售单号', '销售项次', '销售月份', '开单日期', '预交日期', '交期变更', '客户名称', '负责业务', '交货方式', '产品分类', '品名', '币别', '数量', '已出数量', '未出数', '销售单位',\n",
    "                    '单价', '集团汇率', '集团汇率*金额', '客户料号', '客户希交日', 'TERM', '出通单号', '客户订单', '客户订单项次']\n",
    "df = df[keep_columns]"
   ]
  },
  {
   "cell_type": "code",
   "execution_count": 117,
   "metadata": {},
   "outputs": [],
   "source": [
    "df.columns = ['狀態', '銷售單號', '銷售項次', '銷售月份', '開單日期', '預交日期', '交期變更', '客戶名稱', '負責業務', '交貨方式', '產品分類', '品名', '幣別', '數量', '已出數量', '未出數', '銷售單位',\n",
    "                    '單價', '集團匯率', '集團匯率*金額', '客戶料號', '客戶希交日', 'TERM', '出通單號', '客戶訂單', '客戶訂單項次']"
   ]
  },
  {
   "cell_type": "code",
   "execution_count": 118,
   "metadata": {
    "scrolled": true
   },
   "outputs": [
    {
     "data": {
      "text/plain": [
       "(669, 26)"
      ]
     },
     "execution_count": 118,
     "metadata": {},
     "output_type": "execute_result"
    }
   ],
   "source": [
    "df.shape"
   ]
  },
  {
   "cell_type": "code",
   "execution_count": 119,
   "metadata": {
    "scrolled": true
   },
   "outputs": [],
   "source": [
    "df = df.drop_duplicates(['銷售單號', '銷售項次', '客戶訂單', '客戶訂單項次'], keep='last')"
   ]
  },
  {
   "cell_type": "code",
   "execution_count": 120,
   "metadata": {},
   "outputs": [],
   "source": [
    "df_unit_change = df[df['銷售單位'] == 'KPCS']\n",
    "df_keep_unit = df[~(df['銷售單位'] == 'KPCS')]\n",
    "df_unit_change['數量'] = df_unit_change['數量'].map(lambda x: x * 1000)\n",
    "df_unit_change['已出數量'] = df_unit_change['已出數量'].map(lambda x: x * 1000)\n",
    "df_unit_change['未出數'] = df_unit_change['未出數'].map(lambda x: x * 1000)\n",
    "df_unit_change['單價'] = df_unit_change['單價'].map(lambda x: x / 1000)\n",
    "\n",
    "df = pd.concat([df_unit_change, df_keep_unit], axis=0)\n",
    "\n",
    "append_dict = {0: 'Category', 1: 'BG', 2: 'Subcategory', 3: 'Group', 10: '預交年份', 11: '預交月份', }\n",
    "for k, v in append_dict.items():\n",
    "    df.insert(k, v, value=None)\n",
    "\n",
    "df = df.drop(['銷售單位', '客戶訂單', '客戶訂單項次'], axis=1)\n",
    "\n",
    "columns = ['Category', 'BG', 'Subcategory', 'Group', '狀態', '銷售單號', '銷售項次', '銷售月份', '開單日期', '預交日期', '預交年份', '預交月份', '交期變更',\n",
    "               '客戶名稱', '負責業務', '交貨方式', '產品分類', '品名', '幣別', '數量', '已出數量', '未出數', '單價', '集團匯率', '集團匯率*金額', '客戶料號', '客戶希交日',\n",
    "               'TERM', '出通單號']\n",
    "result = df.reindex(columns=columns)\n",
    "\n",
    "df['數量'] = df['數量'].astype(int)\n",
    "df['已出數量'] = df['已出數量'].astype(int)\n",
    "df['未出數'] = df['未出數'].astype(int)\n",
    "# df['集團匯率*金額'] = df['集團匯率*金額'].astype(int)\n"
   ]
  },
  {
   "cell_type": "code",
   "execution_count": 121,
   "metadata": {},
   "outputs": [],
   "source": [
    "df['負責業務'] = df['負責業務'].map(lambda x: '鄭里緗' if x == '沈思明' or x == '鄭裡緗' else x)"
   ]
  },
  {
   "cell_type": "code",
   "execution_count": 122,
   "metadata": {},
   "outputs": [],
   "source": [
    "df.to_excel(r'C:\\Users\\kaihsu\\Desktop\\業績總表\\2021_小顧_clean.xlsx', index=False)"
   ]
  },
  {
   "cell_type": "code",
   "execution_count": null,
   "metadata": {},
   "outputs": [],
   "source": []
  }
 ],
 "metadata": {
  "kernelspec": {
   "display_name": "Python 3",
   "language": "python",
   "name": "python3"
  },
  "language_info": {
   "codemirror_mode": {
    "name": "ipython",
    "version": 3
   },
   "file_extension": ".py",
   "mimetype": "text/x-python",
   "name": "python",
   "nbconvert_exporter": "python",
   "pygments_lexer": "ipython3",
   "version": "3.8.5"
  }
 },
 "nbformat": 4,
 "nbformat_minor": 4
}
