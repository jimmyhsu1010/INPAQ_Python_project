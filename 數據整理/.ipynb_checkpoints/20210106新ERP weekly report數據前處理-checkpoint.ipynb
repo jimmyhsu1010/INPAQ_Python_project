{
 "cells": [
  {
   "cell_type": "code",
   "execution_count": 1,
   "metadata": {},
   "outputs": [],
   "source": [
    "import pandas as pd\n",
    "pd.set_option('display.max_rows', 5)\n",
    "import tkinter as tk\n",
    "from tkinter import filedialog"
   ]
  },
  {
   "cell_type": "markdown",
   "metadata": {},
   "source": [
    "#### 處理天線數據"
   ]
  },
  {
   "cell_type": "code",
   "execution_count": 2,
   "metadata": {},
   "outputs": [],
   "source": [
    "root = tk.Tk()\n",
    "root.withdraw()\n",
    "file_path = filedialog.askopenfilename()"
   ]
  },
  {
   "cell_type": "code",
   "execution_count": 10,
   "metadata": {},
   "outputs": [],
   "source": [
    "rf = pd.read_excel(file_path, sheet_name='RF')"
   ]
  },
  {
   "cell_type": "code",
   "execution_count": 11,
   "metadata": {},
   "outputs": [
    {
     "data": {
      "text/plain": [
       "Index(['營運中心', '狀態', '狀態2', '銷售單號', '舊系統單號', '銷售項次', '銷售月份', '開單日期', '預交日期',\n",
       "       '交期變更', '客戶名稱', '業務代號', '負責業務', '客戶訂單', '客戶訂單項次', '業務部門', '銷售類', '交貨方式',\n",
       "       '料號', '產品分類', '品名', '銷售單位', '幣別', '數量', '已出數量', '未出數', '單價', '金額',\n",
       "       '訂單匯率', '金額*訂單匯率', '客戶料號', '其它分群一碼(接單業務)', '帳款客戶編號', '業務名稱', '出通單號',\n",
       "       '代理商編號', '發票號碼', 'INVOICE號碼', '客戶希交日', 'TERM', '備註', 'C.C', '客戶專案名稱',\n",
       "       '原始希交日', 'HSF編號(報價單)', 'HSF編號(最新)', '產品類別', '出通單日', '出貨單號', '車用',\n",
       "       '用戶端車型', '天線擺放位置', 'REBATE', '集團匯率', '集團匯率*金額', '資料所有者', '資料修改者',\n",
       "       '出貨日期', '送貨客戶編號', '送貨客戶名稱', '數量(舊系統)', '來源單據', '年份', '月', '組別2',\n",
       "       'RF/元件', '客戶名稱品名', '產業別對照表201109'],\n",
       "      dtype='object')"
      ]
     },
     "execution_count": 11,
     "metadata": {},
     "output_type": "execute_result"
    }
   ],
   "source": [
    "rf.columns"
   ]
  },
  {
   "cell_type": "code",
   "execution_count": 12,
   "metadata": {
    "scrolled": true
   },
   "outputs": [],
   "source": [
    "keep_columns = ['狀態', '銷售單號', '銷售項次', '銷售月份', '開單日期', '預交日期', '交期變更', '客戶名稱', '負責業務', '交貨方式', '產品分類', '品名', '幣別', '數量', '已出數量', '未出數', '銷售單位',\n",
    "                    '單價', '集團匯率', '集團匯率*金額', '客戶料號', '客戶希交日', 'TERM', '出通單號', '客戶訂單', '客戶訂單項次']"
   ]
  },
  {
   "cell_type": "code",
   "execution_count": 13,
   "metadata": {},
   "outputs": [],
   "source": [
    "rf = rf[keep_columns]"
   ]
  },
  {
   "cell_type": "code",
   "execution_count": 15,
   "metadata": {
    "scrolled": true
   },
   "outputs": [],
   "source": [
    "origin_data_num = rf.shape[0]"
   ]
  },
  {
   "cell_type": "code",
   "execution_count": 16,
   "metadata": {},
   "outputs": [],
   "source": [
    "rf = rf.drop_duplicates(['銷售單號', '銷售項次', '客戶訂單', '客戶訂單項次'], keep='last')"
   ]
  },
  {
   "cell_type": "code",
   "execution_count": 17,
   "metadata": {},
   "outputs": [],
   "source": [
    "droped_data_num = rf.shape[0]"
   ]
  },
  {
   "cell_type": "code",
   "execution_count": 19,
   "metadata": {},
   "outputs": [
    {
     "name": "stdout",
     "output_type": "stream",
     "text": [
      "總共有 0 筆重複數據\n"
     ]
    }
   ],
   "source": [
    "print(\"總共有\", origin_data_num - droped_data_num, \"筆重複數據\")"
   ]
  },
  {
   "cell_type": "code",
   "execution_count": 20,
   "metadata": {
    "scrolled": true
   },
   "outputs": [
    {
     "name": "stderr",
     "output_type": "stream",
     "text": [
      "<ipython-input-20-b29bd10e5fc7>:3: SettingWithCopyWarning: \n",
      "A value is trying to be set on a copy of a slice from a DataFrame.\n",
      "Try using .loc[row_indexer,col_indexer] = value instead\n",
      "\n",
      "See the caveats in the documentation: https://pandas.pydata.org/pandas-docs/stable/user_guide/indexing.html#returning-a-view-versus-a-copy\n",
      "  rf_unit_change['數量'] = rf_unit_change['數量'].map(lambda x: x * 1000)\n",
      "<ipython-input-20-b29bd10e5fc7>:4: SettingWithCopyWarning: \n",
      "A value is trying to be set on a copy of a slice from a DataFrame.\n",
      "Try using .loc[row_indexer,col_indexer] = value instead\n",
      "\n",
      "See the caveats in the documentation: https://pandas.pydata.org/pandas-docs/stable/user_guide/indexing.html#returning-a-view-versus-a-copy\n",
      "  rf_unit_change['已出數量'] = rf_unit_change['已出數量'].map(lambda x: x * 1000)\n",
      "<ipython-input-20-b29bd10e5fc7>:5: SettingWithCopyWarning: \n",
      "A value is trying to be set on a copy of a slice from a DataFrame.\n",
      "Try using .loc[row_indexer,col_indexer] = value instead\n",
      "\n",
      "See the caveats in the documentation: https://pandas.pydata.org/pandas-docs/stable/user_guide/indexing.html#returning-a-view-versus-a-copy\n",
      "  rf_unit_change['未出數'] = rf_unit_change['未出數'].map(lambda x: x * 1000)\n",
      "<ipython-input-20-b29bd10e5fc7>:6: SettingWithCopyWarning: \n",
      "A value is trying to be set on a copy of a slice from a DataFrame.\n",
      "Try using .loc[row_indexer,col_indexer] = value instead\n",
      "\n",
      "See the caveats in the documentation: https://pandas.pydata.org/pandas-docs/stable/user_guide/indexing.html#returning-a-view-versus-a-copy\n",
      "  rf_unit_change['單價'] = rf_unit_change['單價'].map(lambda x: x / 1000)\n"
     ]
    }
   ],
   "source": [
    "rf_unit_change = rf[rf['銷售單位'] == 'KPCS']\n",
    "rf_keep_unit = rf[~(rf['銷售單位'] == 'KPCS')]\n",
    "rf_unit_change['數量'] = rf_unit_change['數量'].map(lambda x: x * 1000)\n",
    "rf_unit_change['已出數量'] = rf_unit_change['已出數量'].map(lambda x: x * 1000)\n",
    "rf_unit_change['未出數'] = rf_unit_change['未出數'].map(lambda x: x * 1000)\n",
    "rf_unit_change['單價'] = rf_unit_change['單價'].map(lambda x: x / 1000)\n",
    "\n",
    "rf = pd.concat([rf_unit_change, rf_keep_unit], axis=0)\n",
    "\n",
    "append_dict = {0: 'Category', 1: 'BG', 2: 'Subcategory', 3: 'Group', 10: '預交年份', 11: '預交月份', }\n",
    "for k, v in append_dict.items():\n",
    "    rf.insert(k, v, value=None)\n",
    "\n",
    "rf = rf.drop(['銷售單位', '客戶訂單', '客戶訂單項次'], axis=1)"
   ]
  },
  {
   "cell_type": "code",
   "execution_count": 21,
   "metadata": {},
   "outputs": [],
   "source": [
    "columns = ['Category', 'BG', 'Subcategory', 'Group', '狀態', '銷售單號', '銷售項次', '銷售月份', '開單日期', '預交日期', '預交年份', '預交月份', '交期變更',\n",
    "               '客戶名稱', '負責業務', '交貨方式', '產品分類', '品名', '幣別', '數量', '已出數量', '未出數', '單價', '集團匯率', '集團匯率*金額', '客戶料號', '客戶希交日',\n",
    "               'TERM', '出通單號']"
   ]
  },
  {
   "cell_type": "code",
   "execution_count": 22,
   "metadata": {},
   "outputs": [],
   "source": [
    "result = rf.reindex(columns=columns)"
   ]
  },
  {
   "cell_type": "code",
   "execution_count": 23,
   "metadata": {
    "scrolled": true
   },
   "outputs": [
    {
     "data": {
      "text/plain": [
       "Index(['Category', 'BG', 'Subcategory', 'Group', '狀態', '銷售單號', '銷售項次', '銷售月份',\n",
       "       '開單日期', '預交日期', '預交年份', '預交月份', '交期變更', '客戶名稱', '負責業務', '交貨方式', '產品分類',\n",
       "       '品名', '幣別', '數量', '已出數量', '未出數', '單價', '集團匯率', '集團匯率*金額', '客戶料號',\n",
       "       '客戶希交日', 'TERM', '出通單號'],\n",
       "      dtype='object')"
      ]
     },
     "execution_count": 23,
     "metadata": {},
     "output_type": "execute_result"
    }
   ],
   "source": [
    "result.columns"
   ]
  },
  {
   "cell_type": "code",
   "execution_count": 24,
   "metadata": {},
   "outputs": [],
   "source": [
    "result['負責業務'] = result['負責業務'].map(lambda x: '許凱智' if x == '楊婉芬' or x == '周彥宏' else x)\n",
    "result = result[result['負責業務'].isin(['鄭里緗', '墨漢雷迪', '許凱智'])]"
   ]
  },
  {
   "cell_type": "code",
   "execution_count": 25,
   "metadata": {},
   "outputs": [],
   "source": [
    "result['數量'] = result['數量'].astype(int)\n",
    "result['已出數量'] = result['已出數量'].astype(int)\n",
    "result['未出數'] = result['未出數'].astype(int)\n",
    "result['幣別'] = result['幣別'].map(lambda x: 'NTD' if x == 'TWD' else x)\n"
   ]
  },
  {
   "cell_type": "code",
   "execution_count": 26,
   "metadata": {
    "scrolled": true
   },
   "outputs": [],
   "source": [
    "result.to_excel(r'C:\\Users\\kaihsu\\Desktop\\業績總表\\2021_rf_clean.xlsx', index=False)"
   ]
  },
  {
   "cell_type": "markdown",
   "metadata": {},
   "source": [
    "### 2021元件"
   ]
  },
  {
   "cell_type": "code",
   "execution_count": 27,
   "metadata": {},
   "outputs": [],
   "source": [
    "root = tk.Tk()\n",
    "root.withdraw()\n",
    "file_path = filedialog.askopenfilename()"
   ]
  },
  {
   "cell_type": "code",
   "execution_count": 28,
   "metadata": {},
   "outputs": [],
   "source": [
    "zhunan = pd.read_excel(file_path, header=3)"
   ]
  },
  {
   "cell_type": "code",
   "execution_count": 29,
   "metadata": {},
   "outputs": [],
   "source": [
    "zhunan = zhunan[:-2]"
   ]
  },
  {
   "cell_type": "code",
   "execution_count": 30,
   "metadata": {},
   "outputs": [
    {
     "data": {
      "text/plain": [
       "Index(['營運中心', '狀態', '銷售單號', '銷售項次', '銷售月份', '開單日期', '預交日期', '交期變更', '客戶名稱',\n",
       "       '業務代號', '負責業務', '客戶訂單', '客戶訂單項次', '業務部門', '銷售類', '交貨方式', '料號', '產品分類',\n",
       "       '品名', '銷售單位', '幣別', '數量', '已出數量', '未出數', '單價', '金額', '訂單匯率', '金額*訂單匯率',\n",
       "       '客戶料號', '其它分群一碼(接單業務)', '帳款客戶編號', '業務名稱', '出通單號', '代理商編號', '發票號碼',\n",
       "       'INVOICE號碼', '客戶希交日', 'TERM', '備註', 'C.C', '客戶專案名稱', '原始希交日',\n",
       "       'HSF編號(報價單)', 'HSF編號(最新)', '產品類別', '出通單日', '出貨單號', '舊系統單號', '車用',\n",
       "       '用戶端車型', '天線擺放位置', 'REBATE', '集團匯率', '集團匯率*金額', '資料所有者', '資料修改者',\n",
       "       '出貨日期', '送貨客戶編號', '送貨客戶名稱', '數量(舊系統)', '來源單據', 'BU'],\n",
       "      dtype='object')"
      ]
     },
     "execution_count": 30,
     "metadata": {},
     "output_type": "execute_result"
    }
   ],
   "source": [
    "zhunan.columns"
   ]
  },
  {
   "cell_type": "code",
   "execution_count": 31,
   "metadata": {},
   "outputs": [],
   "source": [
    "keep_columns = ['狀態', '銷售單號', '銷售項次', '銷售月份', '開單日期', '預交日期', '交期變更', '客戶名稱', '負責業務', '交貨方式',\n",
    "                '產品分類', '品名', '幣別', '數量', '銷售單位', '已出數量', '未出數', \n",
    "                '單價', '集團匯率', '集團匯率*金額', '客戶料號', '客戶希交日', 'TERM', '出通單號', '客戶訂單', '客戶訂單項次']"
   ]
  },
  {
   "cell_type": "code",
   "execution_count": 32,
   "metadata": {},
   "outputs": [],
   "source": [
    "zhunan = zhunan[keep_columns]"
   ]
  },
  {
   "cell_type": "code",
   "execution_count": 33,
   "metadata": {},
   "outputs": [],
   "source": [
    "origin_data = zhunan.shape[0]"
   ]
  },
  {
   "cell_type": "code",
   "execution_count": 34,
   "metadata": {},
   "outputs": [],
   "source": [
    "zhunan = zhunan[zhunan['客戶名稱'] != 'INPAQ']"
   ]
  },
  {
   "cell_type": "code",
   "execution_count": 35,
   "metadata": {},
   "outputs": [],
   "source": [
    "zhunan = zhunan.drop_duplicates(subset=['銷售單號', '銷售項次', '客戶訂單', '客戶訂單項次'], keep='last')"
   ]
  },
  {
   "cell_type": "code",
   "execution_count": 36,
   "metadata": {},
   "outputs": [
    {
     "name": "stdout",
     "output_type": "stream",
     "text": [
      "總共有 223 筆重複數據。\n"
     ]
    }
   ],
   "source": [
    "dropped_data = zhunan.shape[0]\n",
    "print(\"總共有\", origin_data - dropped_data, \"筆重複數據。\")"
   ]
  },
  {
   "cell_type": "code",
   "execution_count": 37,
   "metadata": {
    "scrolled": true
   },
   "outputs": [
    {
     "name": "stderr",
     "output_type": "stream",
     "text": [
      "<ipython-input-37-f08a456f96c7>:3: SettingWithCopyWarning: \n",
      "A value is trying to be set on a copy of a slice from a DataFrame.\n",
      "Try using .loc[row_indexer,col_indexer] = value instead\n",
      "\n",
      "See the caveats in the documentation: https://pandas.pydata.org/pandas-docs/stable/user_guide/indexing.html#returning-a-view-versus-a-copy\n",
      "  zhunan_unit_change['數量'] = zhunan_unit_change['數量'].map(lambda x: x * 1000)\n",
      "<ipython-input-37-f08a456f96c7>:4: SettingWithCopyWarning: \n",
      "A value is trying to be set on a copy of a slice from a DataFrame.\n",
      "Try using .loc[row_indexer,col_indexer] = value instead\n",
      "\n",
      "See the caveats in the documentation: https://pandas.pydata.org/pandas-docs/stable/user_guide/indexing.html#returning-a-view-versus-a-copy\n",
      "  zhunan_unit_change['已出數量'] = zhunan_unit_change['已出數量'].map(lambda x: x * 1000)\n",
      "<ipython-input-37-f08a456f96c7>:5: SettingWithCopyWarning: \n",
      "A value is trying to be set on a copy of a slice from a DataFrame.\n",
      "Try using .loc[row_indexer,col_indexer] = value instead\n",
      "\n",
      "See the caveats in the documentation: https://pandas.pydata.org/pandas-docs/stable/user_guide/indexing.html#returning-a-view-versus-a-copy\n",
      "  zhunan_unit_change['未出數'] = zhunan_unit_change['未出數'].map(lambda x: x * 1000)\n",
      "<ipython-input-37-f08a456f96c7>:6: SettingWithCopyWarning: \n",
      "A value is trying to be set on a copy of a slice from a DataFrame.\n",
      "Try using .loc[row_indexer,col_indexer] = value instead\n",
      "\n",
      "See the caveats in the documentation: https://pandas.pydata.org/pandas-docs/stable/user_guide/indexing.html#returning-a-view-versus-a-copy\n",
      "  zhunan_unit_change['單價'] = zhunan_unit_change['單價'].map(lambda x: x / 1000)\n"
     ]
    }
   ],
   "source": [
    "zhunan_unit_change = zhunan[zhunan['銷售單位'] == 'KPCS']\n",
    "zhunan_keep_unit = zhunan[~(zhunan['銷售單位'] == 'KPCS')]\n",
    "zhunan_unit_change['數量'] = zhunan_unit_change['數量'].map(lambda x: x * 1000)\n",
    "zhunan_unit_change['已出數量'] = zhunan_unit_change['已出數量'].map(lambda x: x * 1000)\n",
    "zhunan_unit_change['未出數'] = zhunan_unit_change['未出數'].map(lambda x: x * 1000)\n",
    "zhunan_unit_change['單價'] = zhunan_unit_change['單價'].map(lambda x: x / 1000)\n",
    "\n",
    "zhunan = pd.concat([zhunan_unit_change, zhunan_keep_unit], axis=0)\n",
    "\n",
    "append_dict = {0: 'Category', 1: 'BG', 2: 'Subcategory', 3: 'Group', 10: '預交年份', 11: '預交月份', }\n",
    "for k, v in append_dict.items():\n",
    "    zhunan.insert(k, v, value=None)\n",
    "\n",
    "zhunan = zhunan.drop(['銷售單位', '客戶訂單', '客戶訂單項次'], axis=1)"
   ]
  },
  {
   "cell_type": "code",
   "execution_count": 38,
   "metadata": {},
   "outputs": [],
   "source": [
    "columns = ['Category', 'BG', 'Subcategory', 'Group', '狀態', '銷售單號', '銷售項次', '銷售月份', '開單日期', '預交日期', '預交年份', '預交月份', '交期變更',\n",
    "               '客戶名稱', '負責業務', '交貨方式', '產品分類', '品名', '幣別', '數量', '已出數量', '未出數', '單價', '集團匯率', '集團匯率*金額', '客戶料號', '客戶希交日',\n",
    "               'TERM', '出通單號']\n",
    "result = zhunan.reindex(columns=columns)"
   ]
  },
  {
   "cell_type": "code",
   "execution_count": 56,
   "metadata": {},
   "outputs": [],
   "source": [
    "result[\"負責業務\"] = result[\"負責業務\"].isin(['鄭里緗', '許凱智', '墨漢雷迪'])"
   ]
  },
  {
   "cell_type": "code",
   "execution_count": 39,
   "metadata": {},
   "outputs": [],
   "source": [
    "result['數量'] = result['數量'].astype(int)\n",
    "result['已出數量'] = result['已出數量'].astype(int)\n",
    "result['未出數'] = result['未出數'].astype(int)\n",
    "result['幣別'] = result['幣別'].map(lambda x: 'NTD' if x == 'TWD' else x)\n",
    "# result['集團匯率*金額'] = result['集團匯率*金額'].astype(int)\n",
    "result.to_excel(r'C:\\Users\\kaihsu\\Desktop\\業績總表\\2021_component_clean.xlsx', index=False)"
   ]
  },
  {
   "cell_type": "markdown",
   "metadata": {},
   "source": [
    "### 2021小顧無錫廠"
   ]
  },
  {
   "cell_type": "code",
   "execution_count": 40,
   "metadata": {},
   "outputs": [],
   "source": [
    "root = tk.Tk()\n",
    "root.withdraw()\n",
    "file_path = filedialog.askopenfilename()"
   ]
  },
  {
   "cell_type": "code",
   "execution_count": 41,
   "metadata": {},
   "outputs": [],
   "source": [
    "df = pd.read_excel(file_path)"
   ]
  },
  {
   "cell_type": "code",
   "execution_count": 42,
   "metadata": {},
   "outputs": [
    {
     "data": {
      "text/plain": [
       "Index(['营运中心', '状态', '销售单号', '销售项次', '销售月份', '开单日期', '预交日期', '交期变更', '客户名称',\n",
       "       '业务代号', '负责业务', '客户订单', '客户订单项次', '业务部门', '销售类', '交货方式', '料号', '产品分类',\n",
       "       '品名', '销售单位', '币别', '数量', '已出数量', '未出数', '单价', '金额', '订单汇率', '金额*订单汇率',\n",
       "       '客户料号', '其它分群一码(接单业务)', '帐款客户编号', '业务名称', '出通单号', '代理商编号', '发票号码',\n",
       "       'INVOICE号码', '客户希交日', 'TERM', '备注', 'C.C', '客户专案名称', '原始希交日',\n",
       "       'HSF编号(报价单)', 'HSF编号(最新)', '产品类别', '出通单日', '出货单号', '旧系统单号', '车用',\n",
       "       '用户端车型', 'v', 'REBATE', '集团汇率', '集团汇率*金额', '资料所有者', '资料修改者', '出货日期',\n",
       "       '送货客户编号\\n送货客户编号\\n送货客户编号\\n送货客户编号\\nDelivery customer 送货客户编号', '送货客户名称',\n",
       "       '数量(旧系统)', '来源单据', 'BU'],\n",
       "      dtype='object')"
      ]
     },
     "execution_count": 42,
     "metadata": {},
     "output_type": "execute_result"
    }
   ],
   "source": [
    "df.columns"
   ]
  },
  {
   "cell_type": "code",
   "execution_count": 43,
   "metadata": {},
   "outputs": [],
   "source": [
    "keep_columns = ['状态', '销售单号', '销售项次', '销售月份', '开单日期', '预交日期', '交期变更', '客户名称', '负责业务', '交货方式', '产品分类', '品名', '币别', '数量', '已出数量', '未出数', '销售单位',\n",
    "                    '单价', '集团汇率', '集团汇率*金额', '客户料号', '客户希交日', 'TERM', '出通单号', '客户订单', '客户订单项次']\n",
    "df = df[keep_columns]"
   ]
  },
  {
   "cell_type": "code",
   "execution_count": 44,
   "metadata": {},
   "outputs": [],
   "source": [
    "df.columns = ['狀態', '銷售單號', '銷售項次', '銷售月份', '開單日期', '預交日期', '交期變更', '客戶名稱', '負責業務', '交貨方式', '產品分類', '品名', '幣別', '數量', '已出數量', '未出數', '銷售單位',\n",
    "                    '單價', '集團匯率', '集團匯率*金額', '客戶料號', '客戶希交日', 'TERM', '出通單號', '客戶訂單', '客戶訂單項次']"
   ]
  },
  {
   "cell_type": "code",
   "execution_count": 46,
   "metadata": {
    "scrolled": true
   },
   "outputs": [],
   "source": [
    "origin_data = df.shape[0]"
   ]
  },
  {
   "cell_type": "code",
   "execution_count": 47,
   "metadata": {
    "scrolled": true
   },
   "outputs": [],
   "source": [
    "df = df.drop_duplicates(['銷售單號', '銷售項次', '客戶訂單', '客戶訂單項次'], keep='last')"
   ]
  },
  {
   "cell_type": "code",
   "execution_count": 48,
   "metadata": {},
   "outputs": [
    {
     "name": "stdout",
     "output_type": "stream",
     "text": [
      "總共有 0 筆重複數據\n"
     ]
    }
   ],
   "source": [
    "dropped_data = df.shape[0]\n",
    "print(\"總共有\", origin_data - dropped_data, \"筆重複數據\")"
   ]
  },
  {
   "cell_type": "code",
   "execution_count": 49,
   "metadata": {},
   "outputs": [],
   "source": [
    "df_unit_change = df[df['銷售單位'] == 'KPCS']\n",
    "df_keep_unit = df[~(df['銷售單位'] == 'KPCS')]\n",
    "df_unit_change['數量'] = df_unit_change['數量'].map(lambda x: x * 1000)\n",
    "df_unit_change['已出數量'] = df_unit_change['已出數量'].map(lambda x: x * 1000)\n",
    "df_unit_change['未出數'] = df_unit_change['未出數'].map(lambda x: x * 1000)\n",
    "df_unit_change['單價'] = df_unit_change['單價'].map(lambda x: x / 1000)\n",
    "\n",
    "df = pd.concat([df_unit_change, df_keep_unit], axis=0)\n",
    "\n",
    "append_dict = {0: 'Category', 1: 'BG', 2: 'Subcategory', 3: 'Group', 10: '預交年份', 11: '預交月份', }\n",
    "for k, v in append_dict.items():\n",
    "    df.insert(k, v, value=None)\n",
    "\n",
    "df = df.drop(['銷售單位', '客戶訂單', '客戶訂單項次'], axis=1)\n",
    "\n",
    "columns = ['Category', 'BG', 'Subcategory', 'Group', '狀態', '銷售單號', '銷售項次', '銷售月份', '開單日期', '預交日期', '預交年份', '預交月份', '交期變更',\n",
    "               '客戶名稱', '負責業務', '交貨方式', '產品分類', '品名', '幣別', '數量', '已出數量', '未出數', '單價', '集團匯率', '集團匯率*金額', '客戶料號', '客戶希交日',\n",
    "               'TERM', '出通單號']\n",
    "result = df.reindex(columns=columns)\n",
    "\n",
    "df['數量'] = df['數量'].astype(int)\n",
    "df['已出數量'] = df['已出數量'].astype(int)\n",
    "df['未出數'] = df['未出數'].astype(int)\n",
    "# df['集團匯率*金額'] = df['集團匯率*金額'].astype(int)\n"
   ]
  },
  {
   "cell_type": "code",
   "execution_count": 50,
   "metadata": {},
   "outputs": [],
   "source": [
    "df['負責業務'] = df['負責業務'].map(lambda x: '鄭里緗' if x == '沈思明' or x == '鄭裡緗' else x)"
   ]
  },
  {
   "cell_type": "code",
   "execution_count": 51,
   "metadata": {},
   "outputs": [],
   "source": [
    "df.to_excel(r'C:\\Users\\kaihsu\\Desktop\\業績總表\\2021_小顧_clean.xlsx', index=False)"
   ]
  },
  {
   "cell_type": "markdown",
   "metadata": {},
   "source": [
    "### 將所有的合併為一份"
   ]
  },
  {
   "cell_type": "code",
   "execution_count": 52,
   "metadata": {},
   "outputs": [],
   "source": [
    "root = tk.Tk()\n",
    "root.withdraw()\n",
    "file_paths = filedialog.askopenfilenames()"
   ]
  },
  {
   "cell_type": "code",
   "execution_count": 53,
   "metadata": {},
   "outputs": [],
   "source": [
    "files_list = []\n",
    "for file in file_paths:\n",
    "    files_list.append(pd.read_excel(file))\n",
    "result = pd.concat(files_list, axis=0)\n",
    "result.to_excel(r'C:\\Users\\kaihsu\\Desktop\\業績總表\\匯總數據_final.xlsx', index=False)"
   ]
  },
  {
   "cell_type": "code",
   "execution_count": null,
   "metadata": {},
   "outputs": [],
   "source": []
  }
 ],
 "metadata": {
  "kernelspec": {
   "display_name": "Python 3",
   "language": "python",
   "name": "python3"
  },
  "language_info": {
   "codemirror_mode": {
    "name": "ipython",
    "version": 3
   },
   "file_extension": ".py",
   "mimetype": "text/x-python",
   "name": "python",
   "nbconvert_exporter": "python",
   "pygments_lexer": "ipython3",
   "version": "3.8.5"
  }
 },
 "nbformat": 4,
 "nbformat_minor": 4
}
