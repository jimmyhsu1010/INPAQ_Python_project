{
 "cells": [
  {
   "cell_type": "code",
   "execution_count": 2,
   "metadata": {},
   "outputs": [],
   "source": [
    "import pandas as pd\n",
    "pd.set_option('display.max_rows', 10)"
   ]
  },
  {
   "cell_type": "code",
   "execution_count": 21,
   "metadata": {},
   "outputs": [],
   "source": [
    "rf = pd.read_excel(r\"C:\\Users\\kaihsu\\Desktop\\業績總表\\RF.xlsx\")"
   ]
  },
  {
   "cell_type": "code",
   "execution_count": 22,
   "metadata": {
    "scrolled": true
   },
   "outputs": [],
   "source": [
    "keep_columns = ['狀態', '銷售單號', '銷售項次', '銷售月份', '開單日期', '預交日期', '交期變更', '客戶名稱', '負責業務', '交貨方式', '產品分類', '品名', '幣別', '數量', '已出數量', '未出數', '銷售單位',\n",
    "                    '單價', '集團匯率', '集團匯率*金額', '客戶料號', '客戶希交日', 'TERM', '出通單號']"
   ]
  },
  {
   "cell_type": "code",
   "execution_count": 23,
   "metadata": {
    "scrolled": true
   },
   "outputs": [
    {
     "data": {
      "text/plain": [
       "(924, 54)"
      ]
     },
     "execution_count": 23,
     "metadata": {},
     "output_type": "execute_result"
    }
   ],
   "source": [
    "rf.shape"
   ]
  },
  {
   "cell_type": "code",
   "execution_count": 24,
   "metadata": {},
   "outputs": [],
   "source": [
    "rf = rf[keep_columns]"
   ]
  },
  {
   "cell_type": "code",
   "execution_count": 25,
   "metadata": {},
   "outputs": [
    {
     "name": "stderr",
     "output_type": "stream",
     "text": [
      "<ipython-input-25-fc4257be21dc>:3: SettingWithCopyWarning: \n",
      "A value is trying to be set on a copy of a slice from a DataFrame.\n",
      "Try using .loc[row_indexer,col_indexer] = value instead\n",
      "\n",
      "See the caveats in the documentation: https://pandas.pydata.org/pandas-docs/stable/user_guide/indexing.html#returning-a-view-versus-a-copy\n",
      "  rf_unit_change['數量'] = rf_unit_change['數量'].map(lambda x: x * 1000)\n",
      "<ipython-input-25-fc4257be21dc>:4: SettingWithCopyWarning: \n",
      "A value is trying to be set on a copy of a slice from a DataFrame.\n",
      "Try using .loc[row_indexer,col_indexer] = value instead\n",
      "\n",
      "See the caveats in the documentation: https://pandas.pydata.org/pandas-docs/stable/user_guide/indexing.html#returning-a-view-versus-a-copy\n",
      "  rf_unit_change['已出數量'] = rf_unit_change['已出數量'].map(lambda x: x * 1000)\n",
      "<ipython-input-25-fc4257be21dc>:5: SettingWithCopyWarning: \n",
      "A value is trying to be set on a copy of a slice from a DataFrame.\n",
      "Try using .loc[row_indexer,col_indexer] = value instead\n",
      "\n",
      "See the caveats in the documentation: https://pandas.pydata.org/pandas-docs/stable/user_guide/indexing.html#returning-a-view-versus-a-copy\n",
      "  rf_unit_change['未出數'] = rf_unit_change['未出數'].map(lambda x: x * 1000)\n",
      "<ipython-input-25-fc4257be21dc>:6: SettingWithCopyWarning: \n",
      "A value is trying to be set on a copy of a slice from a DataFrame.\n",
      "Try using .loc[row_indexer,col_indexer] = value instead\n",
      "\n",
      "See the caveats in the documentation: https://pandas.pydata.org/pandas-docs/stable/user_guide/indexing.html#returning-a-view-versus-a-copy\n",
      "  rf_unit_change['單價'] = rf_unit_change['單價'].map(lambda x: x / 1000)\n"
     ]
    }
   ],
   "source": [
    "rf_unit_change = rf[rf['銷售單位'] == 'KPCS']\n",
    "rf_keep_unit = rf[~(rf['銷售單位'] == 'KPCS')]\n",
    "rf_unit_change['數量'] = rf_unit_change['數量'].map(lambda x: x * 1000)\n",
    "rf_unit_change['已出數量'] = rf_unit_change['已出數量'].map(lambda x: x * 1000)\n",
    "rf_unit_change['未出數'] = rf_unit_change['未出數'].map(lambda x: x * 1000)\n",
    "rf_unit_change['單價'] = rf_unit_change['單價'].map(lambda x: x / 1000)\n",
    "\n",
    "rf = pd.concat([rf_unit_change, rf_keep_unit], axis=0)\n",
    "\n",
    "append_dict = {0: 'Category', 1: 'BG', 2: 'Subcategory', 3: 'Group', 4: '預交年份', 5: '預交月份', }\n",
    "for k, v in append_dict.items():\n",
    "    rf.insert(k, v, value=None)\n",
    "\n",
    "rf = rf.drop('銷售單位', axis=1)"
   ]
  },
  {
   "cell_type": "code",
   "execution_count": 26,
   "metadata": {},
   "outputs": [],
   "source": [
    "columns = ['Category', 'BG', 'Subcategory', 'Group', '狀態', '銷售單號', '銷售項次', '銷售月份', '開單日期', '預交日期', '預交年份', '預交月份', '交期變更',\n",
    "               '客戶名稱', '負責業務', '交貨方式', '產品分類', '品名', '幣別', '數量', '已出數量', '未出數', '單價', '集團匯率', '集團匯率*金額', '客戶料號', '客戶希交日',\n",
    "               'TERM', '出通單號']"
   ]
  },
  {
   "cell_type": "code",
   "execution_count": 27,
   "metadata": {},
   "outputs": [],
   "source": [
    "result = rf.reindex(columns=columns)"
   ]
  },
  {
   "cell_type": "code",
   "execution_count": 28,
   "metadata": {},
   "outputs": [],
   "source": [
    "result['負責業務'] = result['負責業務'].map(lambda x: '許凱智' if x == '楊婉芬' or x == '周彥宏' else x)\n",
    "result = result[result['負責業務'].isin(['鄭里緗', '墨漢雷迪', '許凱智'])]"
   ]
  },
  {
   "cell_type": "code",
   "execution_count": 29,
   "metadata": {},
   "outputs": [],
   "source": [
    "result['數量'] = result['數量'].astype(int)\n",
    "result['已出數量'] = result['已出數量'].astype(int)\n",
    "result['未出數'] = result['未出數'].astype(int)\n"
   ]
  },
  {
   "cell_type": "code",
   "execution_count": 30,
   "metadata": {
    "scrolled": true
   },
   "outputs": [],
   "source": [
    "result.to_excel(r'C:\\Users\\kaihsu\\Desktop\\業績總表\\2021_rf_clean.xlsx', index=False)"
   ]
  },
  {
   "cell_type": "markdown",
   "metadata": {},
   "source": [
    "### 元件竹南廠清洗"
   ]
  },
  {
   "cell_type": "code",
   "execution_count": 51,
   "metadata": {},
   "outputs": [],
   "source": [
    "zhunan2020 = pd.read_excel(r\"C:\\Users\\kaihsu\\Desktop\\業績總表\\舊ERP 2020.xlsx\")"
   ]
  },
  {
   "cell_type": "code",
   "execution_count": 52,
   "metadata": {},
   "outputs": [
    {
     "data": {
      "text/plain": [
       "Index(['營運中心', '狀態', '銷售單號', '項次', '月份', '開單日期', '預交日期', '交期變更', '客戶名稱',\n",
       "       '業務代號', '負責業務', '客戶單號', '客戶訂單項次', '組別', '銷售類', '交貨方式', '料號', '產品分類',\n",
       "       '品名', '單位', '幣別', '數量', '已出數量', '未出數', '單價', '金額', '訂單匯率', '金額*訂單匯率',\n",
       "       '客戶料號', '其他分群一(接單業務)', '客戶編號', '訂單業務', '出通單號', '代理商編號', '發票號碼',\n",
       "       'INVOICE', '客戶希交日', 'Term', '備註', 'C.C.', '客戶專案名稱', '原始希交日',\n",
       "       'HSF編號(報價單)', 'HSF編號(最新)', '產品類別', '出通單日', '出貨單號', '新單別', '車用', '用戶端車型',\n",
       "       '天線擺放位置', 'Rebate', '集團匯率(NTD)', '金額*集團匯率(NTD)', '出貨單日'],\n",
       "      dtype='object')"
      ]
     },
     "execution_count": 52,
     "metadata": {},
     "output_type": "execute_result"
    }
   ],
   "source": [
    "zhunan2020.columns"
   ]
  },
  {
   "cell_type": "code",
   "execution_count": 53,
   "metadata": {},
   "outputs": [],
   "source": [
    "keep_columns = ['狀態', '銷售單號', '項次', '月份', '開單日期', '預交日期', '交期變更', '客戶名稱', '負責業務', '交貨方式',\n",
    "                '產品分類', '品名', '幣別', '數量', '單位', '已出數量', '未出數', \n",
    "                '單價', '集團匯率(NTD)', '金額*集團匯率(NTD)', '客戶料號', '客戶希交日', 'Term', '出通單號']"
   ]
  },
  {
   "cell_type": "code",
   "execution_count": 54,
   "metadata": {},
   "outputs": [],
   "source": [
    "zhunan2020 = zhunan2020[keep_columns]"
   ]
  },
  {
   "cell_type": "code",
   "execution_count": 56,
   "metadata": {
    "collapsed": true
   },
   "outputs": [
    {
     "name": "stderr",
     "output_type": "stream",
     "text": [
      "<ipython-input-56-f5b5a8822326>:3: SettingWithCopyWarning: \n",
      "A value is trying to be set on a copy of a slice from a DataFrame.\n",
      "Try using .loc[row_indexer,col_indexer] = value instead\n",
      "\n",
      "See the caveats in the documentation: https://pandas.pydata.org/pandas-docs/stable/user_guide/indexing.html#returning-a-view-versus-a-copy\n",
      "  zhunan2020_unit_change['數量'] = zhunan2020_unit_change['數量'].map(lambda x: x * 1000)\n",
      "<ipython-input-56-f5b5a8822326>:4: SettingWithCopyWarning: \n",
      "A value is trying to be set on a copy of a slice from a DataFrame.\n",
      "Try using .loc[row_indexer,col_indexer] = value instead\n",
      "\n",
      "See the caveats in the documentation: https://pandas.pydata.org/pandas-docs/stable/user_guide/indexing.html#returning-a-view-versus-a-copy\n",
      "  zhunan2020_unit_change['已出數量'] = zhunan2020_unit_change['已出數量'].map(lambda x: x * 1000)\n",
      "<ipython-input-56-f5b5a8822326>:5: SettingWithCopyWarning: \n",
      "A value is trying to be set on a copy of a slice from a DataFrame.\n",
      "Try using .loc[row_indexer,col_indexer] = value instead\n",
      "\n",
      "See the caveats in the documentation: https://pandas.pydata.org/pandas-docs/stable/user_guide/indexing.html#returning-a-view-versus-a-copy\n",
      "  zhunan2020_unit_change['未出數'] = zhunan2020_unit_change['未出數'].map(lambda x: x * 1000)\n",
      "<ipython-input-56-f5b5a8822326>:6: SettingWithCopyWarning: \n",
      "A value is trying to be set on a copy of a slice from a DataFrame.\n",
      "Try using .loc[row_indexer,col_indexer] = value instead\n",
      "\n",
      "See the caveats in the documentation: https://pandas.pydata.org/pandas-docs/stable/user_guide/indexing.html#returning-a-view-versus-a-copy\n",
      "  zhunan2020_unit_change['單價'] = zhunan2020_unit_change['單價'].map(lambda x: x / 1000)\n"
     ]
    }
   ],
   "source": [
    "zhunan2020_unit_change = zhunan2020[zhunan2020['單位'] == 'KPCS']\n",
    "zhunan2020_keep_unit = zhunan2020[~(zhunan2020['單位'] == 'KPCS')]\n",
    "zhunan2020_unit_change['數量'] = zhunan2020_unit_change['數量'].map(lambda x: x * 1000)\n",
    "zhunan2020_unit_change['已出數量'] = zhunan2020_unit_change['已出數量'].map(lambda x: x * 1000)\n",
    "zhunan2020_unit_change['未出數'] = zhunan2020_unit_change['未出數'].map(lambda x: x * 1000)\n",
    "zhunan2020_unit_change['單價'] = zhunan2020_unit_change['單價'].map(lambda x: x / 1000)\n",
    "\n",
    "zhunan2020 = pd.concat([zhunan2020_unit_change, zhunan2020_keep_unit], axis=0)\n",
    "\n",
    "append_dict = {0: 'Category', 1: 'BG', 2: 'Subcategory', 3: 'Group', 4: '預交年份', 5: '預交月份', }\n",
    "for k, v in append_dict.items():\n",
    "    zhunan2020.insert(k, v, value=None)\n",
    "\n",
    "zhunan2020 = zhunan2020.drop('單位', axis=1)"
   ]
  },
  {
   "cell_type": "code",
   "execution_count": 57,
   "metadata": {},
   "outputs": [],
   "source": [
    "columns = ['Category', 'BG', 'Subcategory', 'Group', '狀態', '銷售單號', '項次', '銷售月份', '開單日期', '預交日期', '預交年份', '預交月份', '交期變更',\n",
    "               '客戶名稱', '負責業務', '交貨方式', '產品分類', '品名', '幣別', '數量', '已出數量', '未出數', '單價', '集團匯率(NTD)', '金額*集團匯率(NTD)', '客戶料號', '客戶希交日',\n",
    "               'Term', '出通單號']"
   ]
  },
  {
   "cell_type": "code",
   "execution_count": 58,
   "metadata": {},
   "outputs": [],
   "source": [
    "result = zhunan2020.reindex(columns=columns)"
   ]
  },
  {
   "cell_type": "code",
   "execution_count": 60,
   "metadata": {},
   "outputs": [],
   "source": [
    "result['負責業務'] = result['負責業務'].map(lambda x: '鄭里緗' if x == '鄭裡緗' or x == '沈思明' else x)\n",
    "result = result[result['負責業務'].isin(['鄭里緗', '許凱智'])]"
   ]
  },
  {
   "cell_type": "code",
   "execution_count": 61,
   "metadata": {},
   "outputs": [],
   "source": [
    "result['數量'] = result['數量'].astype(int)\n",
    "result['已出數量'] = result['已出數量'].astype(int)\n",
    "result['未出數'] = result['未出數'].astype(int)\n",
    "result['集團匯率*金額'] = result['金額*集團匯率(NTD)'].astype(int)"
   ]
  },
  {
   "cell_type": "code",
   "execution_count": 62,
   "metadata": {},
   "outputs": [],
   "source": [
    "result.to_excel(r'C:\\Users\\kaihsu\\Desktop\\業績總表\\2020_zhunan_clean.xlsx', index=False)"
   ]
  },
  {
   "cell_type": "markdown",
   "metadata": {},
   "source": [
    "### 2021元件"
   ]
  },
  {
   "cell_type": "code",
   "execution_count": 64,
   "metadata": {},
   "outputs": [],
   "source": [
    "wuxi = pd.read_excel(r\"C:\\Users\\kaihsu\\Desktop\\業績總表\\2021 HYWUXI.xls\")\n",
    "zhunan = pd.read_excel(r\"C:\\Users\\kaihsu\\Desktop\\業績總表\\2021 INPAQ.xls\")"
   ]
  },
  {
   "cell_type": "code",
   "execution_count": 66,
   "metadata": {},
   "outputs": [
    {
     "data": {
      "text/plain": [
       "Index(['營運中心', '狀態', '銷售單號', '銷售項次', '銷售月份', '開單日期', '預交日期', '交期變更', '客戶名稱',\n",
       "       '業務代號', '負責業務', '客戶訂單', '客戶訂單項次', '業務部門', '銷售類', '交貨方式', '料號', '產品分類',\n",
       "       '品名', '銷售單位', '幣別', '數量', '已出數量', '未出數', '單價', '金額', '訂單匯率', '金額*訂單匯率',\n",
       "       '客戶料號', '其它分群一碼(接單業務)', '客戶編號', '業務名稱', '出通單號', '代理商編號', '發票號碼',\n",
       "       'INVOICE號碼', '客戶希交日', 'TERM', '備註', 'C.C', '客戶專案名稱', '原始希交日',\n",
       "       'HSF編號(報價單)', 'HSF編號(最新)', '產品類別', '出通單日', '出貨單號', '舊系統單號', '車用',\n",
       "       '用戶端車型', '天線擺放位置', 'REBATE', '集團匯率', '集團匯率*金額', '資料所有者', '資料修改者',\n",
       "       '出貨日期', '數量(舊系統)'],\n",
       "      dtype='object')"
      ]
     },
     "execution_count": 66,
     "metadata": {},
     "output_type": "execute_result"
    }
   ],
   "source": [
    "zhunan.columns"
   ]
  },
  {
   "cell_type": "code",
   "execution_count": 69,
   "metadata": {},
   "outputs": [],
   "source": [
    "keep_columns = ['狀態', '銷售單號', '銷售項次', '銷售月份', '開單日期', '預交日期', '交期變更', '客戶名稱', '負責業務', '交貨方式',\n",
    "                '產品分類', '品名', '幣別', '數量', '銷售單位', '已出數量', '未出數', \n",
    "                '單價', '集團匯率', '集團匯率*金額', '客戶料號', '客戶希交日', 'TERM', '出通單號']"
   ]
  },
  {
   "cell_type": "code",
   "execution_count": 70,
   "metadata": {},
   "outputs": [],
   "source": [
    "wuxi = wuxi[keep_columns]\n",
    "zhunan = zhunan[keep_columns]"
   ]
  },
  {
   "cell_type": "code",
   "execution_count": 71,
   "metadata": {},
   "outputs": [],
   "source": [
    "df = pd.concat([wuxi, zhunan], axis=0)"
   ]
  },
  {
   "cell_type": "code",
   "execution_count": 73,
   "metadata": {
    "scrolled": true
   },
   "outputs": [
    {
     "name": "stderr",
     "output_type": "stream",
     "text": [
      "<ipython-input-73-e37a27c6d5e4>:3: SettingWithCopyWarning: \n",
      "A value is trying to be set on a copy of a slice from a DataFrame.\n",
      "Try using .loc[row_indexer,col_indexer] = value instead\n",
      "\n",
      "See the caveats in the documentation: https://pandas.pydata.org/pandas-docs/stable/user_guide/indexing.html#returning-a-view-versus-a-copy\n",
      "  df_unit_change['數量'] = df_unit_change['數量'].map(lambda x: x * 1000)\n",
      "<ipython-input-73-e37a27c6d5e4>:4: SettingWithCopyWarning: \n",
      "A value is trying to be set on a copy of a slice from a DataFrame.\n",
      "Try using .loc[row_indexer,col_indexer] = value instead\n",
      "\n",
      "See the caveats in the documentation: https://pandas.pydata.org/pandas-docs/stable/user_guide/indexing.html#returning-a-view-versus-a-copy\n",
      "  df_unit_change['已出數量'] = df_unit_change['已出數量'].map(lambda x: x * 1000)\n",
      "<ipython-input-73-e37a27c6d5e4>:5: SettingWithCopyWarning: \n",
      "A value is trying to be set on a copy of a slice from a DataFrame.\n",
      "Try using .loc[row_indexer,col_indexer] = value instead\n",
      "\n",
      "See the caveats in the documentation: https://pandas.pydata.org/pandas-docs/stable/user_guide/indexing.html#returning-a-view-versus-a-copy\n",
      "  df_unit_change['未出數'] = df_unit_change['未出數'].map(lambda x: x * 1000)\n",
      "<ipython-input-73-e37a27c6d5e4>:6: SettingWithCopyWarning: \n",
      "A value is trying to be set on a copy of a slice from a DataFrame.\n",
      "Try using .loc[row_indexer,col_indexer] = value instead\n",
      "\n",
      "See the caveats in the documentation: https://pandas.pydata.org/pandas-docs/stable/user_guide/indexing.html#returning-a-view-versus-a-copy\n",
      "  df_unit_change['單價'] = df_unit_change['單價'].map(lambda x: x / 1000)\n"
     ]
    }
   ],
   "source": [
    "df_unit_change = df[df['銷售單位'] == 'KPCS']\n",
    "df_keep_unit = df[~(df['銷售單位'] == 'KPCS')]\n",
    "df_unit_change['數量'] = df_unit_change['數量'].map(lambda x: x * 1000)\n",
    "df_unit_change['已出數量'] = df_unit_change['已出數量'].map(lambda x: x * 1000)\n",
    "df_unit_change['未出數'] = df_unit_change['未出數'].map(lambda x: x * 1000)\n",
    "df_unit_change['單價'] = df_unit_change['單價'].map(lambda x: x / 1000)\n",
    "\n",
    "df = pd.concat([df_unit_change, df_keep_unit], axis=0)\n",
    "\n",
    "append_dict = {0: 'Category', 1: 'BG', 2: 'Subcategory', 3: 'Group', 4: '預交年份', 5: '預交月份', }\n",
    "for k, v in append_dict.items():\n",
    "    df.insert(k, v, value=None)\n",
    "\n",
    "df = df.drop('銷售單位', axis=1)"
   ]
  },
  {
   "cell_type": "code",
   "execution_count": 74,
   "metadata": {},
   "outputs": [],
   "source": [
    "columns = ['Category', 'BG', 'Subcategory', 'Group', '狀態', '銷售單號', '銷售項次', '銷售月份', '開單日期', '預交日期', '預交年份', '預交月份', '交期變更',\n",
    "               '客戶名稱', '負責業務', '交貨方式', '產品分類', '品名', '幣別', '數量', '已出數量', '未出數', '單價', '集團匯率', '集團匯率*金額', '客戶料號', '客戶希交日',\n",
    "               'TERM', '出通單號']\n",
    "result = df.reindex(columns=columns)"
   ]
  },
  {
   "cell_type": "code",
   "execution_count": 76,
   "metadata": {},
   "outputs": [],
   "source": [
    "df['數量'] = df['數量'].astype(int)\n",
    "df['已出數量'] = df['已出數量'].astype(int)\n",
    "df['未出數'] = df['未出數'].astype(int)\n",
    "df['集團匯率*金額'] = df['集團匯率*金額'].astype(int)\n",
    "df.to_excel(r'C:\\Users\\kaihsu\\Desktop\\業績總表\\2021_component_clean.xlsx', index=False)"
   ]
  },
  {
   "cell_type": "markdown",
   "metadata": {},
   "source": [
    "### 2021小顧無錫廠"
   ]
  },
  {
   "cell_type": "code",
   "execution_count": 77,
   "metadata": {},
   "outputs": [],
   "source": [
    "df = pd.read_excel(r\"C:\\Users\\kaihsu\\Desktop\\業績總表\\已交未交明细.xlsx\")"
   ]
  },
  {
   "cell_type": "code",
   "execution_count": 79,
   "metadata": {},
   "outputs": [
    {
     "data": {
      "text/plain": [
       "Index(['营运中心', '状态', '销售单号', '销售项次', '销售月份', '开单日期', '预交日期', '交期变更', '客户名称',\n",
       "       '业务代号', '负责业务', '客户订单', '客户订单项次', '业务部门', '销售类', '交货方式', '料号', '产品分类',\n",
       "       '品名', '销售单位', '币别', '数量', '已出数量', '未出数', '单价', '金额', '订单汇率', '金额*订单汇率',\n",
       "       '客户料号', '其它分群一码(接单业务)', '帐款客户编号', '业务名称', '出通单号', '代理商编号', '发票号码',\n",
       "       'INVOICE号码', '客户希交日', 'TERM', '备注', 'C.C', '客户专案名称', '原始希交日',\n",
       "       'HSF编号(报价单)', 'HSF编号(最新)', '产品类别', '出通单日', '出货单号', '旧系统单号', '车用',\n",
       "       '用户端车型', 'v', 'REBATE', '集团汇率', '集团汇率*金额', '资料所有者', '资料修改者', '出货日期',\n",
       "       '送货客户编号\\n送货客户编号\\n送货客户编号\\n送货客户编号\\nDelivery customer 送货客户编号', '送货客户名称',\n",
       "       '数量(旧系统)'],\n",
       "      dtype='object')"
      ]
     },
     "execution_count": 79,
     "metadata": {},
     "output_type": "execute_result"
    }
   ],
   "source": [
    "df.columns"
   ]
  },
  {
   "cell_type": "code",
   "execution_count": 80,
   "metadata": {},
   "outputs": [],
   "source": [
    "keep_columns = ['状态', '销售单号', '销售项次', '销售月份', '开单日期', '预交日期', '交期变更', '客户名称', '负责业务', '交货方式', '产品分类', '品名', '币别', '数量', '已出数量', '未出数', '销售单位',\n",
    "                    '单价', '集团汇率', '集团汇率*金额', '客户料号', '客户希交日', 'TERM', '出通单号']\n",
    "df = df[keep_columns]"
   ]
  },
  {
   "cell_type": "code",
   "execution_count": 81,
   "metadata": {},
   "outputs": [],
   "source": [
    "df.columns = ['狀態', '銷售單號', '銷售項次', '銷售月份', '開單日期', '預交日期', '交期變更', '客戶名稱', '負責業務', '交貨方式', '產品分類', '品名', '幣別', '數量', '已出數量', '未出數', '銷售單位',\n",
    "                    '單價', '集團匯率', '集團匯率*金額', '客戶料號', '客戶希交日', 'TERM', '出通單號']"
   ]
  },
  {
   "cell_type": "code",
   "execution_count": 83,
   "metadata": {},
   "outputs": [],
   "source": [
    "df_unit_change = df[df['銷售單位'] == 'KPCS']\n",
    "df_keep_unit = df[~(df['銷售單位'] == 'KPCS')]\n",
    "df_unit_change['數量'] = df_unit_change['數量'].map(lambda x: x * 1000)\n",
    "df_unit_change['已出數量'] = df_unit_change['已出數量'].map(lambda x: x * 1000)\n",
    "df_unit_change['未出數'] = df_unit_change['未出數'].map(lambda x: x * 1000)\n",
    "df_unit_change['單價'] = df_unit_change['單價'].map(lambda x: x / 1000)\n",
    "\n",
    "df = pd.concat([df_unit_change, df_keep_unit], axis=0)\n",
    "\n",
    "append_dict = {0: 'Category', 1: 'BG', 2: 'Subcategory', 3: 'Group', 4: '預交年份', 5: '預交月份', }\n",
    "for k, v in append_dict.items():\n",
    "    df.insert(k, v, value=None)\n",
    "\n",
    "df = df.drop('銷售單位', axis=1)\n",
    "\n",
    "columns = ['Category', 'BG', 'Subcategory', 'Group', '狀態', '銷售單號', '銷售項次', '銷售月份', '開單日期', '預交日期', '預交年份', '預交月份', '交期變更',\n",
    "               '客戶名稱', '負責業務', '交貨方式', '產品分類', '品名', '幣別', '數量', '已出數量', '未出數', '單價', '集團匯率', '集團匯率*金額', '客戶料號', '客戶希交日',\n",
    "               'TERM', '出通單號']\n",
    "result = df.reindex(columns=columns)\n",
    "\n",
    "df['數量'] = df['數量'].astype(int)\n",
    "df['已出數量'] = df['已出數量'].astype(int)\n",
    "df['未出數'] = df['未出數'].astype(int)\n",
    "df['集團匯率*金額'] = df['集團匯率*金額'].astype(int)\n"
   ]
  },
  {
   "cell_type": "code",
   "execution_count": 85,
   "metadata": {},
   "outputs": [],
   "source": [
    "df['負責業務'] = df['負責業務'].map(lambda x: '鄭裡緗' if x == '沈思明' else x)"
   ]
  },
  {
   "cell_type": "code",
   "execution_count": null,
   "metadata": {},
   "outputs": [],
   "source": [
    "df.to_excel(r'C:\\Users\\kaihsu\\Desktop\\業績總表\\2021_小顧_clean.xlsx', index=False)"
   ]
  }
 ],
 "metadata": {
  "kernelspec": {
   "display_name": "Python 3",
   "language": "python",
   "name": "python3"
  },
  "language_info": {
   "codemirror_mode": {
    "name": "ipython",
    "version": 3
   },
   "file_extension": ".py",
   "mimetype": "text/x-python",
   "name": "python",
   "nbconvert_exporter": "python",
   "pygments_lexer": "ipython3",
   "version": "3.8.5"
  }
 },
 "nbformat": 4,
 "nbformat_minor": 4
}
