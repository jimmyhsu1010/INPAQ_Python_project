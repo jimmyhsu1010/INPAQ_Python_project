{
 "cells": [
  {
   "cell_type": "code",
   "execution_count": 1,
   "metadata": {},
   "outputs": [],
   "source": [
    "import pandas as pd\n",
    "pd.set_option('display.max_rows', 30)\n",
    "pd.set_option('display.max_columns', None)\n",
    "pd.set_option('display.float_format',lambda x : '%.0f' % x)"
   ]
  },
  {
   "cell_type": "markdown",
   "metadata": {},
   "source": [
    "## 2020實績和2021預算合併"
   ]
  },
  {
   "cell_type": "code",
   "execution_count": 27,
   "metadata": {},
   "outputs": [
    {
     "data": {
      "text/plain": [
       "dict_keys(['提醒事項', 'Cathy版明細', '明細', '產品前8碼', '大類', '元件數量', '元件金額', '天線數量', '天線金額'])"
      ]
     },
     "execution_count": 27,
     "metadata": {},
     "output_type": "execute_result"
    }
   ],
   "source": [
    "sales = pd.read_excel(r'C:\\Users\\kaihsu\\Desktop\\業績總表\\Weekly report_v0.1.xlsx', sheet_name='出貨明細')\n",
    "budget = pd.read_excel(r'C:\\Users\\kaihsu\\Desktop\\2021 Forecast\\Susan要的\\預算彙總表2021 Components_Amber_team.xlsx', None)\n",
    "budget.keys()"
   ]
  },
  {
   "cell_type": "code",
   "execution_count": 28,
   "metadata": {},
   "outputs": [],
   "source": [
    "rf_qty_budget = budget['天線數量']\n",
    "rf_ntd_budget = budget['天線金額']\n",
    "com_qty_budget = budget['元件數量']\n",
    "com_ntd_budget = budget['元件金額']"
   ]
  },
  {
   "cell_type": "code",
   "execution_count": 29,
   "metadata": {},
   "outputs": [],
   "source": [
    "rf_qty_budget = rf_qty_budget.groupby(['業務名稱', 'Group', 'BG', '品名']).sum().stack().reset_index()\n",
    "rf_qty_budget.columns = ['負責業務', 'Group', 'BG', '品名', '預交月份', '數量']\n",
    "rf_ntd_budget = rf_ntd_budget.groupby(['業務名稱', 'Group', 'BG', '品名']).sum().stack().reset_index()\n",
    "rf_ntd_budget.columns = ['負責業務', 'Group', 'BG', '品名', '預交月份', '本國幣別NTD']"
   ]
  },
  {
   "cell_type": "code",
   "execution_count": 30,
   "metadata": {},
   "outputs": [],
   "source": [
    "total = rf_qty_budget.merge(rf_ntd_budget, on=['負責業務', 'Group', 'BG', '品名', '預交月份'], how='left')"
   ]
  },
  {
   "cell_type": "code",
   "execution_count": 31,
   "metadata": {
    "scrolled": true
   },
   "outputs": [],
   "source": [
    "com_qty_budget = com_qty_budget.groupby(['業務名稱', 'Group', 'BG', '品名']).sum().stack().reset_index()\n",
    "com_qty_budget.columns = ['負責業務', 'Group', 'BG', '品名', '預交月份', '數量']\n",
    "com_ntd_budget = com_ntd_budget.groupby(['業務名稱', 'Group', 'BG', '品名']).sum().stack().reset_index()\n",
    "com_ntd_budget.columns = ['負責業務', 'Group', 'BG', '品名', '預交月份', '本國幣別NTD']\n",
    "com_total = com_qty_budget.merge(com_ntd_budget, on=['負責業務', 'Group', 'BG', '品名', '預交月份'], how='left')"
   ]
  },
  {
   "cell_type": "code",
   "execution_count": 32,
   "metadata": {},
   "outputs": [],
   "source": [
    "final_budget = pd.concat([total, com_total], axis=0)"
   ]
  },
  {
   "cell_type": "code",
   "execution_count": 33,
   "metadata": {},
   "outputs": [],
   "source": [
    "month_dict = {1: 'January', 2: 'February', 3: 'March', 4: 'April', 5: 'May', 6: 'June',\n",
    "             7: 'July', 8: 'August', 9: 'September', 10: 'October', 11: 'November', 12: 'December'}\n",
    "final_budget['預交月份'] = final_budget['預交月份'].map(month_dict)"
   ]
  },
  {
   "cell_type": "code",
   "execution_count": 34,
   "metadata": {},
   "outputs": [],
   "source": [
    "final_budget = final_budget.reindex(columns=['負責業務', 'BG', 'Group', '預交月份', '數量', '本國幣別NTD', '品名'])"
   ]
  },
  {
   "cell_type": "code",
   "execution_count": 35,
   "metadata": {},
   "outputs": [],
   "source": [
    "final_budget.insert(3, '預交年份', 2021)"
   ]
  },
  {
   "cell_type": "code",
   "execution_count": 36,
   "metadata": {},
   "outputs": [],
   "source": [
    "final_budget['類型'] = final_budget.apply(lambda x: '天線' if x['BG'] == 'RF' else '元件', axis=1)"
   ]
  },
  {
   "cell_type": "code",
   "execution_count": 37,
   "metadata": {},
   "outputs": [],
   "source": [
    "sales = sales[(sales['狀態'] != '合約') & (sales['狀態'] != '待通知') & sales['預交年份'].isin([2019,2020])][['負責業務', 'BG', 'Group', '預交年份', '預交月份', '數量', '本國幣別NTD', '品名']]"
   ]
  },
  {
   "cell_type": "code",
   "execution_count": 38,
   "metadata": {},
   "outputs": [],
   "source": [
    "sales['類型'] = sales.apply(lambda x: '天線' if x['BG'] == 'RF' else '其他' if x['BG'] == 'Others' else '元件', axis=1)"
   ]
  },
  {
   "cell_type": "code",
   "execution_count": 39,
   "metadata": {},
   "outputs": [],
   "source": [
    "customer_dict = {'Bourns': 'Bourns', 'WE': 'WE', 'Eaton': 'Eaton', 'LF': 'LF', '華新科技':'華新科技', '信昌':'信昌', 'Laird':'Laird', 'MT-SYSTEM':'MT-SYSTEM',\n",
    "       'TELTONIKA':'TELTONIKA', 'WiSilica':'WiSilica', 'TE ':'TE', '東莞弘電':'東莞弘電', '藝感':'藝感', 'LF OEM':'LF OEM', 'Globalte':'Globalte',\n",
    "       'Eteily':'Eteily', 'M.S.':'MS', 'Credence':'Credence', 'Zebra':'Zebra', 'Fides':'Fides', 'Nexty':'Nexty', 'MATE':'Reliance',\n",
    "       'SSF':'Reliance', 'G -PLAST':'Reliance', 'JBJ':'Reliance', 'Univa Te':'Unified', 'Sancraft':'Reliance', 'FIRST EN':'Reliance'}\n",
    "sales['Group'] = sales['Group'].map(customer_dict)"
   ]
  },
  {
   "cell_type": "code",
   "execution_count": 40,
   "metadata": {},
   "outputs": [],
   "source": [
    "final_budget['Group'] = final_budget.apply(lambda x: '華新科技' if x['Group'] == '東莞華匯' else x['Group'], axis=1)"
   ]
  },
  {
   "cell_type": "code",
   "execution_count": 41,
   "metadata": {},
   "outputs": [],
   "source": [
    "final_budget['Group'] = final_budget['Group'].apply(lambda x: 'TELTONIKA' if x == 'Teltonika' else 'MT-SYSTEM' if x == 'MT-System' else x)"
   ]
  },
  {
   "cell_type": "code",
   "execution_count": 42,
   "metadata": {},
   "outputs": [],
   "source": [
    "final_budget['負責業務'] = final_budget['負責業務'].apply(lambda x: '墨漢雷迪' if x == '墨漢' else x)"
   ]
  },
  {
   "cell_type": "code",
   "execution_count": 43,
   "metadata": {},
   "outputs": [],
   "source": [
    "result = pd.concat([sales, final_budget], axis=0)"
   ]
  },
  {
   "cell_type": "code",
   "execution_count": 44,
   "metadata": {},
   "outputs": [],
   "source": [
    "result['BG'] = result.apply(lambda x: 'ODM' if x['Group'] == 'LF OEM' else x['BG'], axis=1)"
   ]
  },
  {
   "cell_type": "code",
   "execution_count": 45,
   "metadata": {},
   "outputs": [],
   "source": [
    "result.to_excel(r'C:\\Users\\kaihsu\\Desktop\\業績總表\\最終預算報告用表格（新）.xlsx', index=False)"
   ]
  },
  {
   "cell_type": "code",
   "execution_count": null,
   "metadata": {},
   "outputs": [],
   "source": [
    "final_budget[(final_budget['Group'].isin(['信昌', '華新科技', 'TELTONIKA'])) & (final_budget['類型'] == '元件')].groupby(['Group'])[['數量', '本國幣別NTD']].sum().reset_index()"
   ]
  },
  {
   "cell_type": "markdown",
   "metadata": {},
   "source": [
    "## 2021 Budget test\n",
    "\n",
    "* 如果後續要groupby，需要groupby的欄位不可以為空值"
   ]
  },
  {
   "cell_type": "code",
   "execution_count": null,
   "metadata": {},
   "outputs": [],
   "source": [
    "import pandas as pd\n",
    "pd.set_option('display.max_columns', None)"
   ]
  },
  {
   "cell_type": "code",
   "execution_count": null,
   "metadata": {
    "scrolled": true
   },
   "outputs": [],
   "source": [
    "df = pd.read_excel(r'C:\\Users\\kaihsu\\Desktop\\2021 Forecast\\2021_forecast_final.xlsx', sheet_name='2021預算總表')\n"
   ]
  },
  {
   "cell_type": "code",
   "execution_count": null,
   "metadata": {},
   "outputs": [],
   "source": [
    "df2 = df[df['Unit'] == 'KPCS']\n",
    "df2['Qty.'] = df2['Qty.'].apply(lambda x: x*1000)\n",
    "# df2\n",
    "# df3 = df[df['Unit'] == 'PCS']"
   ]
  },
  {
   "cell_type": "code",
   "execution_count": null,
   "metadata": {},
   "outputs": [],
   "source": [
    "df3 = df[df['Unit'] == 'PCS']"
   ]
  },
  {
   "cell_type": "code",
   "execution_count": null,
   "metadata": {},
   "outputs": [],
   "source": [
    "df2['Unit'] = df2['Unit'].str.replace('KPCS', 'PCS')\n",
    "# df2"
   ]
  },
  {
   "cell_type": "code",
   "execution_count": null,
   "metadata": {},
   "outputs": [],
   "source": [
    "df_final = pd.concat([df2, df3], axis=0)"
   ]
  },
  {
   "cell_type": "code",
   "execution_count": null,
   "metadata": {
    "jupyter": {
     "outputs_hidden": true
    }
   },
   "outputs": [],
   "source": [
    "# df_final = df[df_final['Year'] == 2021].reset_index(drop=True)\n",
    "df_final['Application'] = df_final['Application'].fillna('Unknown')\n",
    "df_final['End customer'] = df_final['End customer'].fillna('Unknown')\n",
    "df_final"
   ]
  },
  {
   "cell_type": "code",
   "execution_count": null,
   "metadata": {},
   "outputs": [],
   "source": [
    "test = df_final.groupby(['Distributor', 'End customer', 'Product category', 'INPAQ PN', 'Application', 'Unit Price', 'Currency', 'Month'])[['Qty.']].sum().reset_index()"
   ]
  },
  {
   "cell_type": "code",
   "execution_count": null,
   "metadata": {},
   "outputs": [],
   "source": [
    "# 重新改變columns的排列\n",
    "test = test.reindex(columns=['Distributor', 'End customer', 'Product category', 'INPAQ PN', 'Application', 'Qty.', 'Unit Price', 'Currency', 'Month', 'Total NTD'])\n",
    "# test.rename(columns={'Unit Price': 'Unit Price_USD/RMB'})"
   ]
  },
  {
   "cell_type": "code",
   "execution_count": null,
   "metadata": {
    "scrolled": true
   },
   "outputs": [],
   "source": [
    "test = pd.pivot_table(test, values='Qty.', index=['Distributor', 'End customer', 'Product category', 'INPAQ PN', 'Application', 'Unit Price', 'Currency'], columns='Month').reset_index()"
   ]
  },
  {
   "cell_type": "code",
   "execution_count": null,
   "metadata": {},
   "outputs": [],
   "source": [
    "test"
   ]
  },
  {
   "cell_type": "code",
   "execution_count": null,
   "metadata": {
    "scrolled": true
   },
   "outputs": [],
   "source": [
    "test.to_excel(r'C:\\Users\\kaihsu\\Desktop\\2021 Forecast\\2021_forecast_by_Susan_format.xlsx', sheet_name='Forecast_yearly', index=False)"
   ]
  },
  {
   "cell_type": "markdown",
   "metadata": {},
   "source": [
    "## 整理藝感的年度預估\n"
   ]
  },
  {
   "cell_type": "code",
   "execution_count": null,
   "metadata": {},
   "outputs": [],
   "source": [
    "df = pd.read_excel(r'C:\\Users\\kaihsu\\Desktop\\2021 Forecast\\2021_forecast_藝感_response.xlsx', None)"
   ]
  },
  {
   "cell_type": "code",
   "execution_count": null,
   "metadata": {},
   "outputs": [],
   "source": [
    "df = df['2021 Forecast']"
   ]
  },
  {
   "cell_type": "code",
   "execution_count": null,
   "metadata": {},
   "outputs": [],
   "source": [
    "df = df.drop([0,33])"
   ]
  },
  {
   "cell_type": "code",
   "execution_count": null,
   "metadata": {},
   "outputs": [],
   "source": [
    "df = df.drop('Customer PN', axis=1)\n"
   ]
  },
  {
   "cell_type": "code",
   "execution_count": null,
   "metadata": {},
   "outputs": [],
   "source": [
    "df = df.set_index('INPAQ PN')\n"
   ]
  },
  {
   "cell_type": "code",
   "execution_count": null,
   "metadata": {},
   "outputs": [],
   "source": [
    "df = df.stack()\n"
   ]
  },
  {
   "cell_type": "code",
   "execution_count": null,
   "metadata": {},
   "outputs": [],
   "source": [
    "df = df.reset_index()"
   ]
  },
  {
   "cell_type": "code",
   "execution_count": null,
   "metadata": {},
   "outputs": [],
   "source": [
    "df.to_excel(r'C:\\Users\\kaihsu\\Desktop\\2021 Forecast\\2021預算藝感整理過.xlsx')"
   ]
  },
  {
   "cell_type": "markdown",
   "metadata": {},
   "source": [
    "## 整理信昌預算\n"
   ]
  },
  {
   "cell_type": "code",
   "execution_count": null,
   "metadata": {},
   "outputs": [],
   "source": [
    "df = pd.read_excel(r'C:\\Users\\kaihsu\\Desktop\\2021 Forecast\\2021_forecast_PDC_response.xlsx', None)"
   ]
  },
  {
   "cell_type": "code",
   "execution_count": null,
   "metadata": {},
   "outputs": [],
   "source": [
    "df = df['2020出貨量']"
   ]
  },
  {
   "cell_type": "code",
   "execution_count": null,
   "metadata": {},
   "outputs": [],
   "source": [
    "df = df.drop([0,125])"
   ]
  },
  {
   "cell_type": "code",
   "execution_count": null,
   "metadata": {},
   "outputs": [],
   "source": [
    "df = df.drop(['Unnamed: 0', 'Unnamed: 3', 'January', 'February', 'March', 'April', 'May', 'June', 'July', 'August', 'September', 'October', 'November', 'December'], axis=1)"
   ]
  },
  {
   "cell_type": "code",
   "execution_count": null,
   "metadata": {},
   "outputs": [],
   "source": [
    "columns=['INPAQ PN', 'Customer PN', '1', '2', '3', '4', '5', '6', '7', '8', '9', '10', '11', '12']\n",
    "df.columns = columns"
   ]
  },
  {
   "cell_type": "code",
   "execution_count": null,
   "metadata": {},
   "outputs": [],
   "source": [
    "df = df.set_index(['INPAQ PN', 'Customer PN'])"
   ]
  },
  {
   "cell_type": "code",
   "execution_count": null,
   "metadata": {},
   "outputs": [],
   "source": [
    "df = df.stack()"
   ]
  },
  {
   "cell_type": "code",
   "execution_count": null,
   "metadata": {},
   "outputs": [],
   "source": [
    "df = df.reset_index()"
   ]
  },
  {
   "cell_type": "code",
   "execution_count": null,
   "metadata": {
    "scrolled": true
   },
   "outputs": [],
   "source": [
    "columns = ['INPAQ PN', 'Customer PN', 'Month', 'Qty.']\n",
    "df.columns = columns\n",
    "df"
   ]
  },
  {
   "cell_type": "code",
   "execution_count": null,
   "metadata": {},
   "outputs": [],
   "source": [
    "df = df.reindex(columns=df.columns.tolist() + new_columns)"
   ]
  },
  {
   "cell_type": "code",
   "execution_count": null,
   "metadata": {},
   "outputs": [],
   "source": [
    "re_columns = ['End customer', 'Distributor', 'Year', 'Month', 'Product category', 'Sub-category', 'Customer PN', 'INPAQ PN', 'Application', 'Qty.', 'Unit', 'Unit Price', 'Currency', 'Rate', 'NTD', 'Total NTD']\n",
    "df = df.reindex(columns=re_columns)\n"
   ]
  },
  {
   "cell_type": "code",
   "execution_count": null,
   "metadata": {},
   "outputs": [],
   "source": [
    "df['End customer'] = df['End customer'].fillna('N/A')\n",
    "df['Distributor'] = df['Distributor'].fillna('信昌')\n",
    "df['Year'] = df['Year'].fillna(2021)\n",
    "df['Application'] = df['Application'].fillna('N/A')\n",
    "df['Unit'] = df['Unit'].fillna('PCS')\n"
   ]
  },
  {
   "cell_type": "code",
   "execution_count": null,
   "metadata": {},
   "outputs": [],
   "source": [
    "df['Year'] = df['Year'].astype('int')\n",
    "df.to_excel(r'C:\\Users\\kaihsu\\Desktop\\2021 Forecast\\2021_forecast_PDC_清洗完.xlsx', index=False)"
   ]
  }
 ],
 "metadata": {
  "kernelspec": {
   "display_name": "Python 3",
   "language": "python",
   "name": "python3"
  },
  "language_info": {
   "codemirror_mode": {
    "name": "ipython",
    "version": 3
   },
   "file_extension": ".py",
   "mimetype": "text/x-python",
   "name": "python",
   "nbconvert_exporter": "python",
   "pygments_lexer": "ipython3",
   "version": "3.8.5"
  }
 },
 "nbformat": 4,
 "nbformat_minor": 4
}
