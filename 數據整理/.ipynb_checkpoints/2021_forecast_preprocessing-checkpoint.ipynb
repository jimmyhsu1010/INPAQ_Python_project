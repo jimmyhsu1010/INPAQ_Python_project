{
 "cells": [
  {
   "cell_type": "code",
   "execution_count": 1,
   "metadata": {},
   "outputs": [],
   "source": [
    "import pandas as pd\n",
    "pd.set_option('display.max_rows', 5)\n",
    "pd.set_option('display.max_columns', None)\n",
    "pd.set_option('display.float_format',lambda x : '%.0f' % x)\n",
    "import re\n",
    "import datetime"
   ]
  },
  {
   "cell_type": "code",
   "execution_count": 2,
   "metadata": {},
   "outputs": [],
   "source": [
    "df = pd.read_clipboard()"
   ]
  },
  {
   "cell_type": "code",
   "execution_count": 13,
   "metadata": {},
   "outputs": [],
   "source": [
    "df = df[(df[\"Group\"] == \"MT-SYSTEM\") & (df[\"類型\"] == \"天線\")]"
   ]
  },
  {
   "cell_type": "code",
   "execution_count": 22,
   "metadata": {},
   "outputs": [],
   "source": [
    "df1 = df.groupby([\"Group\", \"預交年份\", \"預交月份\", \"品名\"])[[\"數量\"]].sum().unstack(\"預交月份\").reset_index()"
   ]
  },
  {
   "cell_type": "code",
   "execution_count": 25,
   "metadata": {},
   "outputs": [],
   "source": [
    "df1.to_excel(r\"C:\\Users\\kaihsu\\Desktop\\MT-SYSTEM_RF_Forecast_2021.xlsx\")"
   ]
  },
  {
   "cell_type": "code",
   "execution_count": 28,
   "metadata": {},
   "outputs": [
    {
     "data": {
      "text/html": [
       "<div>\n",
       "<style scoped>\n",
       "    .dataframe tbody tr th:only-of-type {\n",
       "        vertical-align: middle;\n",
       "    }\n",
       "\n",
       "    .dataframe tbody tr th {\n",
       "        vertical-align: top;\n",
       "    }\n",
       "\n",
       "    .dataframe thead tr th {\n",
       "        text-align: left;\n",
       "    }\n",
       "</style>\n",
       "<table border=\"1\" class=\"dataframe\">\n",
       "  <thead>\n",
       "    <tr>\n",
       "      <th></th>\n",
       "      <th>Group</th>\n",
       "      <th>預交年份</th>\n",
       "      <th>品名</th>\n",
       "      <th colspan=\"12\" halign=\"left\">數量</th>\n",
       "    </tr>\n",
       "    <tr>\n",
       "      <th>預交月份</th>\n",
       "      <th></th>\n",
       "      <th></th>\n",
       "      <th></th>\n",
       "      <th>April</th>\n",
       "      <th>August</th>\n",
       "      <th>December</th>\n",
       "      <th>February</th>\n",
       "      <th>January</th>\n",
       "      <th>July</th>\n",
       "      <th>June</th>\n",
       "      <th>March</th>\n",
       "      <th>May</th>\n",
       "      <th>November</th>\n",
       "      <th>October</th>\n",
       "      <th>September</th>\n",
       "    </tr>\n",
       "  </thead>\n",
       "  <tbody>\n",
       "    <tr>\n",
       "      <th>0</th>\n",
       "      <td>MT-SYSTEM</td>\n",
       "      <td>2021</td>\n",
       "      <td>ACM4-5036-A1-CC-S</td>\n",
       "      <td>4000</td>\n",
       "      <td>15000</td>\n",
       "      <td>20000</td>\n",
       "      <td>4000</td>\n",
       "      <td>0</td>\n",
       "      <td>10000</td>\n",
       "      <td>14000</td>\n",
       "      <td>0</td>\n",
       "      <td>10000</td>\n",
       "      <td>20000</td>\n",
       "      <td>19000</td>\n",
       "      <td>15000</td>\n",
       "    </tr>\n",
       "    <tr>\n",
       "      <th>1</th>\n",
       "      <td>MT-SYSTEM</td>\n",
       "      <td>2021</td>\n",
       "      <td>GNS01U7W-S6-XXX</td>\n",
       "      <td>0</td>\n",
       "      <td>0</td>\n",
       "      <td>0</td>\n",
       "      <td>4000</td>\n",
       "      <td>0</td>\n",
       "      <td>4000</td>\n",
       "      <td>0</td>\n",
       "      <td>4000</td>\n",
       "      <td>0</td>\n",
       "      <td>0</td>\n",
       "      <td>0</td>\n",
       "      <td>0</td>\n",
       "    </tr>\n",
       "    <tr>\n",
       "      <th>...</th>\n",
       "      <td>...</td>\n",
       "      <td>...</td>\n",
       "      <td>...</td>\n",
       "      <td>...</td>\n",
       "      <td>...</td>\n",
       "      <td>...</td>\n",
       "      <td>...</td>\n",
       "      <td>...</td>\n",
       "      <td>...</td>\n",
       "      <td>...</td>\n",
       "      <td>...</td>\n",
       "      <td>...</td>\n",
       "      <td>...</td>\n",
       "      <td>...</td>\n",
       "      <td>...</td>\n",
       "    </tr>\n",
       "    <tr>\n",
       "      <th>6</th>\n",
       "      <td>MT-SYSTEM</td>\n",
       "      <td>2021</td>\n",
       "      <td>PADGPS-J2J2G-103-18M</td>\n",
       "      <td>0</td>\n",
       "      <td>0</td>\n",
       "      <td>2000</td>\n",
       "      <td>0</td>\n",
       "      <td>1000</td>\n",
       "      <td>0</td>\n",
       "      <td>0</td>\n",
       "      <td>0</td>\n",
       "      <td>2000</td>\n",
       "      <td>0</td>\n",
       "      <td>0</td>\n",
       "      <td>2000</td>\n",
       "    </tr>\n",
       "    <tr>\n",
       "      <th>7</th>\n",
       "      <td>MT-SYSTEM</td>\n",
       "      <td>2021</td>\n",
       "      <td>WAG-P-LTE10-00-001</td>\n",
       "      <td>0</td>\n",
       "      <td>0</td>\n",
       "      <td>0</td>\n",
       "      <td>5000</td>\n",
       "      <td>0</td>\n",
       "      <td>15000</td>\n",
       "      <td>5000</td>\n",
       "      <td>15000</td>\n",
       "      <td>0</td>\n",
       "      <td>0</td>\n",
       "      <td>0</td>\n",
       "      <td>0</td>\n",
       "    </tr>\n",
       "  </tbody>\n",
       "</table>\n",
       "<p>8 rows × 15 columns</p>\n",
       "</div>"
      ],
      "text/plain": [
       "          Group  預交年份                    品名    數量                           \\\n",
       "預交月份                                        April August December February   \n",
       "0     MT-SYSTEM  2021    ACM4-5036-A1-CC-S   4000  15000    20000     4000   \n",
       "1     MT-SYSTEM  2021       GNS01U7W-S6-XXX     0      0        0     4000   \n",
       "..          ...   ...                   ...   ...    ...      ...      ...   \n",
       "6     MT-SYSTEM  2021  PADGPS-J2J2G-103-18M     0      0     2000        0   \n",
       "7     MT-SYSTEM  2021   WAG-P-LTE10-00-001      0      0        0     5000   \n",
       "\n",
       "                                                                     \n",
       "預交月份 January   July   June  March    May November October September  \n",
       "0          0  10000  14000      0  10000    20000   19000     15000  \n",
       "1          0   4000      0   4000      0        0       0         0  \n",
       "..       ...    ...    ...    ...    ...      ...     ...       ...  \n",
       "6       1000      0      0      0   2000        0       0      2000  \n",
       "7          0  15000   5000  15000      0        0       0         0  \n",
       "\n",
       "[8 rows x 15 columns]"
      ]
     },
     "execution_count": 28,
     "metadata": {},
     "output_type": "execute_result"
    }
   ],
   "source": [
    "df1"
   ]
  },
  {
   "cell_type": "code",
   "execution_count": null,
   "metadata": {},
   "outputs": [],
   "source": [
    "today = datetime.date.today().strftime('%Y-%m-%d')"
   ]
  },
  {
   "cell_type": "code",
   "execution_count": null,
   "metadata": {},
   "outputs": [],
   "source": [
    "today"
   ]
  },
  {
   "cell_type": "markdown",
   "metadata": {},
   "source": [
    "## Teltonika數據轉置"
   ]
  },
  {
   "cell_type": "code",
   "execution_count": null,
   "metadata": {},
   "outputs": [],
   "source": [
    "re.search('([A-Za-z]+)', '1232(Bourns)')"
   ]
  },
  {
   "cell_type": "code",
   "execution_count": null,
   "metadata": {},
   "outputs": [],
   "source": [
    "df = pd.read_excel(r\"C:\\Users\\kaihsu\\Desktop\\2021 Forecast\\2021_forecast_Teltonika_response.xlsx\", None)\n",
    "df = df['2021 Forecast']"
   ]
  },
  {
   "cell_type": "code",
   "execution_count": null,
   "metadata": {},
   "outputs": [],
   "source": [
    "df.columns = ['INPAQ PN', 'January', 'February', 'March', 'April', 'May',\n",
    "              'June', 'July', 'August', 'September', 'October', 'November', \n",
    "              'December']"
   ]
  },
  {
   "cell_type": "code",
   "execution_count": null,
   "metadata": {},
   "outputs": [],
   "source": [
    "df = df.groupby(['INPAQ PN']).sum().stack().reset_index()\n",
    "\n"
   ]
  },
  {
   "cell_type": "code",
   "execution_count": null,
   "metadata": {},
   "outputs": [],
   "source": [
    "df.columns = ['INPAQ PN', 'Month', 'Qty.']"
   ]
  },
  {
   "cell_type": "code",
   "execution_count": null,
   "metadata": {},
   "outputs": [],
   "source": [
    "df"
   ]
  },
  {
   "cell_type": "markdown",
   "metadata": {},
   "source": [
    "## 2018~2020實績和2021預算合併"
   ]
  },
  {
   "cell_type": "markdown",
   "metadata": {},
   "source": [
    "#### 1. 處理2018年數據"
   ]
  },
  {
   "cell_type": "code",
   "execution_count": 2,
   "metadata": {},
   "outputs": [],
   "source": [
    "customer_dict = {'Bourns': 'Bourns', 'WE': 'WE', 'Eaton': 'Eaton', 'LF': 'LF', '華新科技':'華新科技', '信昌':'信昌', 'Laird':'Laird', 'MT-SYSTEM':'MT-SYSTEM',\n",
    "       'TELTONIKA':'TELTONIKA', 'WiSilica':'WiSilica', 'TE ':'TE', '東莞弘電':'東莞弘電', '藝感':'藝感', 'LF OEM':'LF OEM', 'Globalte':'Globalte',\n",
    "       'Eteily':'Eteily', 'M.S.':'MS', 'Credence':'Credence', 'Zebra':'Zebra', 'Fides':'Fides', 'Nexty':'Nexty', 'MATE':'Reliance',\n",
    "       'SSF':'Reliance', 'G -PLAST':'Reliance', 'JBJ':'Reliance', 'Univa Te':'Unified', 'Sancraft':'Reliance', 'FIRST EN':'Reliance',\n",
    "                'AEM':'AEM', 'Bussmann':'Eaton', 'LairdUSA':'Laird', 'LF(TE)': 'LF', 'LITTEL': 'LF', 'MT-Sys.':'MT-SYSTEM', 'STEWARD':'Laird',\n",
    "                'StewdCN':'Laird', 'WUHK':'WE', 'WUR':'WE', 'WUTJ':'WE','WuUSA':'WE', '匹克電子':'匹克電子', '東莞華匯':'華新科技', 'TELTONIK':'TELTONIKA',\n",
    "                'MT-Syste':'MT-SYSTEM','MT-Sys':'MT-SYSTEM','泰連香港':'TE', 'LF.瑞侃':'LF OEM', '天灣電子':'LF OEM', '鎮江恆業':'LF OEM',\n",
    "                'CAME':'CAME', 'Inter Ru':'MT-SYSTEM', 'EATON':'Eaton'}"
   ]
  },
  {
   "cell_type": "code",
   "execution_count": 3,
   "metadata": {
    "scrolled": true
   },
   "outputs": [],
   "source": [
    "code = pd.read_excel(r\"D:\\pythonp_programming\\INPAQ_Python_project\\數據整理\\BU_code.xlsx\")"
   ]
  },
  {
   "cell_type": "code",
   "execution_count": 4,
   "metadata": {},
   "outputs": [],
   "source": [
    "x = code['Code'].tolist()\n",
    "y = code['BG'].tolist()"
   ]
  },
  {
   "cell_type": "code",
   "execution_count": 5,
   "metadata": {},
   "outputs": [],
   "source": [
    "bg_code = dict(zip(x,y))\n",
    "# bg_code.setdefault('TNF', 'EMC')\n",
    "# bg_code.setdefault('MLCC', 'EMC')\n",
    "# bg_code.setdefault('TNF ', 'EMC')"
   ]
  },
  {
   "cell_type": "code",
   "execution_count": 7,
   "metadata": {},
   "outputs": [],
   "source": [
    "sales2018 = pd.read_excel(r\"C:\\Users\\kaihsu\\Desktop\\業績總表\\歷史數據\\訂單出貨明細_axmr4301_2018.xlsx\")"
   ]
  },
  {
   "cell_type": "code",
   "execution_count": 8,
   "metadata": {},
   "outputs": [],
   "source": [
    "sales2018 = sales2018[sales2018['負責業務'].isin(['鄭里緗', '許凱智', '楊婉芬'])]"
   ]
  },
  {
   "cell_type": "code",
   "execution_count": 13,
   "metadata": {},
   "outputs": [],
   "source": [
    "sales2018[\"預交日期\"] = pd.to_datetime(sales2018[\"預交日期\"], yearfirst=True)"
   ]
  },
  {
   "cell_type": "code",
   "execution_count": 14,
   "metadata": {
    "scrolled": true
   },
   "outputs": [],
   "source": [
    "sales2018['預交月份'] = sales2018['預交日期'].dt.month_name()"
   ]
  },
  {
   "cell_type": "code",
   "execution_count": 15,
   "metadata": {},
   "outputs": [],
   "source": [
    "sales2018['Group'] = sales2018['客戶名稱'].map(customer_dict)"
   ]
  },
  {
   "cell_type": "code",
   "execution_count": 16,
   "metadata": {},
   "outputs": [],
   "source": [
    "sales2018['負責業務'] = sales2018['負責業務'].map(lambda x: '許凱智' if x == '楊婉芬' else x)"
   ]
  },
  {
   "cell_type": "code",
   "execution_count": 17,
   "metadata": {},
   "outputs": [],
   "source": [
    "sales2018['數量'] = sales2018.apply(lambda x: x['數量'] * 1000 if x['單位'] == 'KPCS' else x['數量'], axis=1)"
   ]
  },
  {
   "cell_type": "code",
   "execution_count": 18,
   "metadata": {},
   "outputs": [],
   "source": [
    "sales2018['Category'] = sales2018['產品分類'].str[0:4]"
   ]
  },
  {
   "cell_type": "code",
   "execution_count": 19,
   "metadata": {
    "scrolled": true
   },
   "outputs": [],
   "source": [
    "sales2018['BG'] = sales2018['Category'].map(bg_code)"
   ]
  },
  {
   "cell_type": "code",
   "execution_count": 20,
   "metadata": {
    "scrolled": true
   },
   "outputs": [],
   "source": [
    "sales2018['類型'] = sales2018.apply(lambda x: '天線' if x['BG'] == 'RF' else '其他' if x['BG'] == 'Others' else '元件', axis=1)"
   ]
  },
  {
   "cell_type": "code",
   "execution_count": 21,
   "metadata": {
    "scrolled": true
   },
   "outputs": [],
   "source": [
    "sales2018['預交年份'] = sales2018['預交日期'].dt.year"
   ]
  },
  {
   "cell_type": "code",
   "execution_count": 25,
   "metadata": {
    "scrolled": true
   },
   "outputs": [],
   "source": [
    "result2018 = sales2018[['負責業務', 'BG', 'Group', '預交年份', '預交月份', '數量', '金額(NTD)', '品名', '類型']]"
   ]
  },
  {
   "cell_type": "code",
   "execution_count": 26,
   "metadata": {},
   "outputs": [],
   "source": [
    "result2018.columns = ['負責業務', 'BG', 'Group', '預交年份', '預交月份', '數量', '本國幣別NTD', '品名', '類型']"
   ]
  },
  {
   "cell_type": "markdown",
   "metadata": {},
   "source": [
    "#### 2. 處理2019、2020和2021預算 20210107"
   ]
  },
  {
   "cell_type": "code",
   "execution_count": 71,
   "metadata": {},
   "outputs": [],
   "source": [
    "sales = pd.read_excel(r\"C:\\Users\\kaihsu\\Desktop\\業績總表\\歷史數據\\2018_2020.xlsx\", sheet_name=\"Sheet1\")\n",
    "budget = pd.read_excel(r\"C:\\Users\\kaihsu\\Desktop\\2021 Forecast\\Susan要的\\最終版本\\20210128_預算彙總表2021 RF1匯整20201230-OEM_revised_version.xlsx\", None)"
   ]
  },
  {
   "cell_type": "code",
   "execution_count": 72,
   "metadata": {},
   "outputs": [],
   "source": [
    "rf_qty_budget = budget['天線數量']\n",
    "rf_ntd_budget = budget['天線金額']\n",
    "com_qty_budget = budget['元件數量']\n",
    "com_ntd_budget = budget['元件金額']"
   ]
  },
  {
   "cell_type": "code",
   "execution_count": 73,
   "metadata": {},
   "outputs": [],
   "source": [
    "rf_qty_budget = rf_qty_budget.groupby(['業務名稱', 'Group', 'BG', '品名']).sum().stack().reset_index()\n",
    "rf_qty_budget.columns = ['負責業務', 'Group', 'BG', '品名', '預交月份', '數量']\n",
    "rf_ntd_budget = rf_ntd_budget.groupby(['業務名稱', 'Group', 'BG', '品名']).sum().stack().reset_index()\n",
    "rf_ntd_budget.columns = ['負責業務', 'Group', 'BG', '品名', '預交月份', '本國幣別NTD']"
   ]
  },
  {
   "cell_type": "code",
   "execution_count": 74,
   "metadata": {},
   "outputs": [],
   "source": [
    "total = rf_qty_budget.merge(rf_ntd_budget, on=['負責業務', 'Group', 'BG', '品名', '預交月份'], how='left')"
   ]
  },
  {
   "cell_type": "code",
   "execution_count": 75,
   "metadata": {
    "scrolled": true
   },
   "outputs": [],
   "source": [
    "com_qty_budget = com_qty_budget.groupby(['業務名稱', 'Group', 'BG', '品名']).sum().stack().reset_index()\n",
    "com_qty_budget.columns = ['負責業務', 'Group', 'BG', '品名', '預交月份', '數量']\n",
    "com_ntd_budget = com_ntd_budget.groupby(['業務名稱', 'Group', 'BG', '品名']).sum().stack().reset_index()\n",
    "com_ntd_budget.columns = ['負責業務', 'Group', 'BG', '品名', '預交月份', '本國幣別NTD']\n",
    "com_total = com_qty_budget.merge(com_ntd_budget, on=['負責業務', 'Group', 'BG', '品名', '預交月份'], how='left')"
   ]
  },
  {
   "cell_type": "code",
   "execution_count": 76,
   "metadata": {},
   "outputs": [],
   "source": [
    "final_budget = pd.concat([total, com_total], axis=0)"
   ]
  },
  {
   "cell_type": "code",
   "execution_count": 77,
   "metadata": {},
   "outputs": [],
   "source": [
    "month_dict = {1: 'January', 2: 'February', 3: 'March', 4: 'April', 5: 'May', 6: 'June',\n",
    "             7: 'July', 8: 'August', 9: 'September', 10: 'October', 11: 'November', 12: 'December'}\n",
    "final_budget['預交月份'] = final_budget['預交月份'].map(month_dict)\n",
    "# sales['預交月份'] = sales['預交月份'].map(month_dict)"
   ]
  },
  {
   "cell_type": "code",
   "execution_count": 78,
   "metadata": {},
   "outputs": [],
   "source": [
    "final_budget = final_budget.reindex(columns=['負責業務', 'BG', 'Group', '預交月份', '數量', '本國幣別NTD', '品名'])"
   ]
  },
  {
   "cell_type": "code",
   "execution_count": 79,
   "metadata": {},
   "outputs": [],
   "source": [
    "final_budget.insert(3, '預交年份', 2021)"
   ]
  },
  {
   "cell_type": "code",
   "execution_count": 80,
   "metadata": {},
   "outputs": [],
   "source": [
    "final_budget['類型'] = final_budget.apply(lambda x: '天線' if x['BG'] == 'RF' else '元件', axis=1)"
   ]
  },
  {
   "cell_type": "code",
   "execution_count": 25,
   "metadata": {},
   "outputs": [],
   "source": [
    "sales['產品code'] = sales['產品分類'].str[:4]"
   ]
  },
  {
   "cell_type": "code",
   "execution_count": 37,
   "metadata": {},
   "outputs": [],
   "source": [
    "sales['BG'] = sales['產品code'].map(bg_code)"
   ]
  },
  {
   "cell_type": "code",
   "execution_count": 44,
   "metadata": {},
   "outputs": [],
   "source": [
    "sales = sales[(sales['狀態'] != '合約') & (sales['狀態'] != '待通知')][['負責業務', 'BG', '客戶名稱', '年份', '預交月份', '數量', '金額*集團匯率(NTD)', '品名']]"
   ]
  },
  {
   "cell_type": "code",
   "execution_count": 59,
   "metadata": {},
   "outputs": [],
   "source": [
    "x = pd.read_clipboard()"
   ]
  },
  {
   "cell_type": "code",
   "execution_count": 60,
   "metadata": {},
   "outputs": [],
   "source": [
    "cus_key = x['Cus'].tolist()\n",
    "cus_value = x['Group'].tolist()\n",
    "cus_dict = dict(zip(cus_key, cus_value))"
   ]
  },
  {
   "cell_type": "code",
   "execution_count": 61,
   "metadata": {},
   "outputs": [],
   "source": [
    "sales['Group'] = sales['客戶名稱'].map(cus_dict)"
   ]
  },
  {
   "cell_type": "code",
   "execution_count": 65,
   "metadata": {
    "scrolled": true
   },
   "outputs": [],
   "source": [
    "sales['類型'] = sales.apply(lambda x: '天線' if x['BG'] == 'RF' else '元件' if x['Group'] == 'LF OEM' else '其他' if x['BG'] == 'Others' else '元件', axis=1)"
   ]
  },
  {
   "cell_type": "code",
   "execution_count": 67,
   "metadata": {},
   "outputs": [],
   "source": [
    "sales = sales[['負責業務', 'BG', 'Group', '年份', '預交月份', '數量', '金額*集團匯率(NTD)', '品名', '類型']]"
   ]
  },
  {
   "cell_type": "code",
   "execution_count": 69,
   "metadata": {},
   "outputs": [],
   "source": [
    "sales.columns = ['負責業務', 'BG', 'Group', '預交年份', '預交月份', '數量', '本國幣別NTD', '品名', '類型']"
   ]
  },
  {
   "cell_type": "code",
   "execution_count": 81,
   "metadata": {},
   "outputs": [],
   "source": [
    "mohan_customer = {'Eaton':'Eaton', 'TELTONIKA':'TELTONIKA', '信昌':'信昌', '華新科技':'華新科技',\n",
    "                  'Laird':'Laird', 'WE':'WE', 'Bourns':'Bourns', 'LF':'LF',\n",
    "       'MT-SYSTEM':'MT-SYSTEM', 'WiSilica':'WiSilica', 'TE':'TE', 'LF OEM':'LF OEM', '藝感':'藝感',\n",
    "                  'Globalte':'Globalte', 'Eteily':'Eteily', 'Credence':'Credence', 'M.S.':'MS',\n",
    "                  'Zebra':'Zebra', 'Fides':'Fides', 'Nexty':'Nexty', 'SSF':'Reliance',\n",
    "       'JBJ': 'Reliance', 'UnivaTe':'Unified', 'G-PLAST':'Reliance', 'G -PLAST': 'Reliance', 'FIRST EN':'Reliance',\n",
    "                  'MATE':'Reliance', 'Sancraft':'Reliance', 'Univa Te': 'Unified', '同方電子': 'LF OEM'}"
   ]
  },
  {
   "cell_type": "code",
   "execution_count": 82,
   "metadata": {},
   "outputs": [],
   "source": [
    "final_budget['Group'] = final_budget.apply(lambda x: '華新科技' if x['Group'] == '東莞華匯' else x['Group'], axis=1)"
   ]
  },
  {
   "cell_type": "code",
   "execution_count": 83,
   "metadata": {},
   "outputs": [],
   "source": [
    "final_budget['Group'] = final_budget['Group'].apply(lambda x: 'TELTONIKA' if x == 'Teltonika' else 'MT-SYSTEM' if x == 'MT-System' else x)"
   ]
  },
  {
   "cell_type": "code",
   "execution_count": 84,
   "metadata": {},
   "outputs": [],
   "source": [
    "final_budget['負責業務'] = final_budget['負責業務'].apply(lambda x: '墨漢雷迪' if x == '墨漢' else '鄭里緗' if x == '沈思明' else x)"
   ]
  },
  {
   "cell_type": "code",
   "execution_count": 85,
   "metadata": {},
   "outputs": [],
   "source": [
    "result = pd.concat([sales, final_budget], axis=0)"
   ]
  },
  {
   "cell_type": "code",
   "execution_count": 86,
   "metadata": {},
   "outputs": [],
   "source": [
    "result['BG'] = result.apply(lambda x: 'ODM' if x['Group'] == 'LF OEM' else x['BG'], axis=1)"
   ]
  },
  {
   "cell_type": "code",
   "execution_count": 87,
   "metadata": {},
   "outputs": [],
   "source": [
    "result['數量'] = result['數量'].astype(int)\n",
    "result['本國幣別NTD'] = result['本國幣別NTD'].astype(int)"
   ]
  },
  {
   "cell_type": "code",
   "execution_count": 88,
   "metadata": {
    "scrolled": true
   },
   "outputs": [
    {
     "data": {
      "text/plain": [
       "array(['RF', 'Others', 'PC', 'ODM', 'EMC', 'WIP', 'AIP'], dtype=object)"
      ]
     },
     "execution_count": 88,
     "metadata": {},
     "output_type": "execute_result"
    }
   ],
   "source": [
    "result[\"BG\"].unique()"
   ]
  },
  {
   "cell_type": "code",
   "execution_count": 89,
   "metadata": {},
   "outputs": [],
   "source": [
    "result.to_excel(r'C:\\Users\\kaihsu\\Desktop\\業績總表\\最終預算報告用表格（2021年初Susan要求修改版）.xlsx', index=False)"
   ]
  },
  {
   "cell_type": "code",
   "execution_count": 83,
   "metadata": {},
   "outputs": [],
   "source": [
    "import plotly.express as px"
   ]
  },
  {
   "cell_type": "code",
   "execution_count": 84,
   "metadata": {},
   "outputs": [
    {
     "data": {
      "text/plain": [
       "Index(['負責業務', 'BG', 'Group', '預交年份', '預交月份', '數量', '本國幣別NTD', '品名', '類型'], dtype='object')"
      ]
     },
     "execution_count": 84,
     "metadata": {},
     "output_type": "execute_result"
    }
   ],
   "source": [
    "result.columns"
   ]
  },
  {
   "cell_type": "code",
   "execution_count": 106,
   "metadata": {},
   "outputs": [],
   "source": [
    "fig1 = result.groupby(['預交年份', '預交月份', '類型'])[['本國幣別NTD']].sum().reset_index()"
   ]
  },
  {
   "cell_type": "code",
   "execution_count": 103,
   "metadata": {},
   "outputs": [],
   "source": [
    "month_order = ['January', 'February', 'March', 'April', 'May', 'June', 'July',\n",
    "               'August', 'September', 'October', 'November', 'December']\n",
    "fig1['預交月份'] =pd.Categorical(fig1['預交月份'], ordered=True, categories=month_order)\n",
    "fig1 = fig1.sort_values(by='預交月份')"
   ]
  },
  {
   "cell_type": "code",
   "execution_count": 108,
   "metadata": {},
   "outputs": [
    {
     "data": {
      "text/plain": [
       "Index(['負責業務', 'BG', 'Group', '預交年份', '預交月份', '數量', '本國幣別NTD', '品名', '類型'], dtype='object')"
      ]
     },
     "execution_count": 108,
     "metadata": {},
     "output_type": "execute_result"
    }
   ],
   "source": [
    "result.columns"
   ]
  },
  {
   "cell_type": "code",
   "execution_count": 129,
   "metadata": {},
   "outputs": [],
   "source": [
    "bar_plot = result.groupby(['預交年份', '負責業務', 'Group', '預交月份', 'BG'])[['數量', '本國幣別NTD']].sum().reset_index()"
   ]
  },
  {
   "cell_type": "code",
   "execution_count": 118,
   "metadata": {
    "collapsed": true
   },
   "outputs": [
    {
     "data": {
      "application/vnd.plotly.v1+json": {
       "config": {
        "plotlyServerURL": "https://plot.ly"
       },
       "data": [
        {
         "alignmentgroup": "True",
         "bingroup": "x",
         "histfunc": "sum",
         "hovertemplate": "Year=2018<br>Customer=%{x}<br>sum of 營業額=%{y}<extra></extra>",
         "legendgroup": "2018",
         "marker": {
          "color": "#636efa"
         },
         "name": "2018",
         "offsetgroup": "2018",
         "orientation": "v",
         "showlegend": true,
         "type": "histogram",
         "x": [
          "CAME",
          "MT-SYSTEM",
          "MT-SYSTEM",
          "MT-SYSTEM",
          "MT-SYSTEM",
          "MT-SYSTEM",
          "MT-SYSTEM",
          "MT-SYSTEM",
          "MT-SYSTEM",
          "MT-SYSTEM",
          "MT-SYSTEM",
          "TELTONIKA",
          "TELTONIKA",
          "TELTONIKA",
          "TELTONIKA",
          "TELTONIKA",
          "TELTONIKA",
          "Zebra",
          "Zebra",
          "Bourns",
          "Bourns",
          "Bourns",
          "Bourns",
          "Bourns",
          "Bourns",
          "Bourns",
          "Bourns"
         ],
         "xaxis": "x",
         "y": [
          11392,
          248515,
          294824,
          123032,
          68921,
          219237,
          259258,
          172120,
          83731,
          285346,
          275662,
          262691,
          520041,
          6764,
          454111,
          1167748,
          710040,
          33606,
          100819,
          375936,
          974300,
          159772,
          570169,
          366537,
          307014,
          156640,
          1040089
         ],
         "yaxis": "y"
        },
        {
         "alignmentgroup": "True",
         "bingroup": "x",
         "histfunc": "sum",
         "hovertemplate": "Year=2019<br>Customer=%{x}<br>sum of 營業額=%{y}<extra></extra>",
         "legendgroup": "2019",
         "marker": {
          "color": "#EF553B"
         },
         "name": "2019",
         "offsetgroup": "2019",
         "orientation": "v",
         "showlegend": true,
         "type": "histogram",
         "x": [
          "Credence",
          "Eteily",
          "Eteily",
          "Globalte",
          "MS",
          "MT-SYSTEM",
          "MT-SYSTEM",
          "MT-SYSTEM",
          "MT-SYSTEM",
          "MT-SYSTEM",
          "MT-SYSTEM",
          "MT-SYSTEM",
          "MT-SYSTEM",
          "MT-SYSTEM",
          "MT-SYSTEM",
          "MT-SYSTEM",
          "TE",
          "TE",
          "TE",
          "TELTONIKA",
          "TELTONIKA",
          "TELTONIKA",
          "TELTONIKA",
          "TELTONIKA",
          "TELTONIKA",
          "TELTONIKA",
          "TELTONIKA",
          "TELTONIKA",
          "TELTONIKA",
          "TELTONIKA",
          "TELTONIKA",
          "Bourns",
          "Bourns",
          "Bourns",
          "Bourns",
          "Bourns",
          "Bourns",
          "Bourns",
          "Bourns"
         ],
         "xaxis": "x",
         "y": [
          93984,
          13934,
          35315,
          7120,
          37741,
          43175,
          430809,
          327975,
          132032,
          112275,
          578143,
          786669,
          858215,
          503809,
          299035,
          761576,
          88776,
          23239,
          854584,
          1657320,
          874974,
          943367,
          38874,
          1356711,
          1213103,
          1059239,
          749090,
          1000074,
          1106203,
          59167,
          1739954,
          360271,
          357139,
          444857,
          156639,
          18796,
          175436,
          416661,
          516911
         ],
         "yaxis": "y"
        },
        {
         "alignmentgroup": "True",
         "bingroup": "x",
         "histfunc": "sum",
         "hovertemplate": "Year=2020<br>Customer=%{x}<br>sum of 營業額=%{y}<extra></extra>",
         "legendgroup": "2020",
         "marker": {
          "color": "#00cc96"
         },
         "name": "2020",
         "offsetgroup": "2020",
         "orientation": "v",
         "showlegend": true,
         "type": "histogram",
         "x": [
          "MS",
          "MS",
          "MS",
          "MS",
          "Nexty",
          "Nexty",
          "Reliance",
          "Reliance",
          "Reliance",
          "Reliance",
          "Unified",
          "Unified",
          "Unified",
          "MT-SYSTEM",
          "MT-SYSTEM",
          "MT-SYSTEM",
          "MT-SYSTEM",
          "MT-SYSTEM",
          "MT-SYSTEM",
          "MT-SYSTEM",
          "MT-SYSTEM",
          "MT-SYSTEM",
          "MT-SYSTEM",
          "TE",
          "TELTONIKA",
          "TELTONIKA",
          "TELTONIKA",
          "TELTONIKA",
          "TELTONIKA",
          "TELTONIKA",
          "TELTONIKA",
          "TELTONIKA",
          "TELTONIKA",
          "TELTONIKA",
          "TELTONIKA",
          "TELTONIKA",
          "Zebra",
          "華新科技",
          "華新科技",
          "華新科技",
          "華新科技",
          "華新科技",
          "Bourns",
          "Bourns",
          "Bourns",
          "Bourns",
          "Bourns",
          "Bourns",
          "Bourns",
          "Bourns",
          "Bourns",
          "WE",
          "WE"
         ],
         "xaxis": "x",
         "y": [
          9718,
          22953,
          28627,
          79925,
          14712,
          1594,
          1537912,
          12166633,
          8612478,
          434031,
          45568,
          45567,
          284,
          512924,
          462638,
          1078734,
          266914,
          66129,
          299609,
          19936,
          150944,
          478464,
          616168,
          496623,
          1421540,
          2164052,
          9912557,
          586936,
          2442533,
          2155717,
          314439,
          507967,
          1000128,
          5601735,
          3216310,
          6528574,
          5696,
          9600,
          24000,
          4800,
          14400,
          24000,
          275686,
          303881,
          532575,
          275686,
          62656,
          43859,
          285084,
          75186,
          263154,
          17481,
          224125
         ],
         "yaxis": "y"
        },
        {
         "alignmentgroup": "True",
         "bingroup": "x",
         "histfunc": "sum",
         "hovertemplate": "Year=2021<br>Customer=%{x}<br>sum of 營業額=%{y}<extra></extra>",
         "legendgroup": "2021",
         "marker": {
          "color": "#ab63fa"
         },
         "name": "2021",
         "offsetgroup": "2021",
         "orientation": "v",
         "showlegend": true,
         "type": "histogram",
         "x": [
          "MS",
          "MS",
          "MS",
          "MS",
          "MS",
          "MS",
          "MS",
          "MS",
          "MS",
          "MS",
          "MS",
          "MS",
          "Nexty",
          "Nexty",
          "Nexty",
          "Nexty",
          "Nexty",
          "Nexty",
          "Nexty",
          "Nexty",
          "Nexty",
          "Nexty",
          "Nexty",
          "Nexty",
          "OSE",
          "OSE",
          "OSE",
          "OSE",
          "OSE",
          "OSE",
          "OSE",
          "OSE",
          "OSE",
          "OSE",
          "OSE",
          "OSE",
          "Reliance",
          "Reliance",
          "Reliance",
          "Reliance",
          "Reliance",
          "Reliance",
          "Reliance",
          "Reliance",
          "Reliance",
          "Reliance",
          "Reliance",
          "Reliance",
          "Unified",
          "Unified",
          "Unified",
          "Unified",
          "Unified",
          "Unified",
          "Unified",
          "Unified",
          "Unified",
          "Unified",
          "Unified",
          "Unified",
          "MT-SYSTEM",
          "MT-SYSTEM",
          "MT-SYSTEM",
          "MT-SYSTEM",
          "MT-SYSTEM",
          "MT-SYSTEM",
          "MT-SYSTEM",
          "MT-SYSTEM",
          "MT-SYSTEM",
          "MT-SYSTEM",
          "MT-SYSTEM",
          "MT-SYSTEM",
          "TELTONIKA",
          "TELTONIKA",
          "TELTONIKA",
          "TELTONIKA",
          "TELTONIKA",
          "TELTONIKA",
          "TELTONIKA",
          "TELTONIKA",
          "TELTONIKA",
          "TELTONIKA",
          "TELTONIKA",
          "TELTONIKA",
          "Bourns",
          "Bourns",
          "Bourns",
          "Bourns",
          "Bourns",
          "Bourns",
          "Bourns",
          "Bourns",
          "Bourns",
          "Bourns",
          "Bourns",
          "Bourns",
          "Laird",
          "Laird",
          "Laird",
          "Laird",
          "Laird",
          "Laird",
          "Laird",
          "Laird",
          "Laird",
          "Laird",
          "Laird",
          "Laird",
          "WE",
          "WE",
          "WE",
          "WE",
          "WE",
          "WE",
          "WE",
          "WE",
          "WE",
          "WE",
          "WE",
          "WE"
         ],
         "xaxis": "x",
         "y": [
          864561,
          593568,
          323162,
          272085,
          494700,
          813888,
          369861,
          97776,
          97776,
          323162,
          1079407,
          324288,
          157140,
          155520,
          154980,
          235710,
          0,
          0,
          157140,
          0,
          0,
          0,
          154980,
          0,
          0,
          144000,
          143500,
          0,
          0,
          0,
          145500,
          0,
          0,
          0,
          143500,
          0,
          9999999,
          0,
          0,
          7999999,
          9999999,
          0,
          0,
          9999999,
          4999999,
          0,
          0,
          0,
          0,
          0,
          0,
          0,
          46560,
          46080,
          0,
          46560,
          46560,
          45920,
          0,
          46080,
          311952,
          291600,
          2257829,
          979797,
          16005,
          2640096,
          90210,
          536895,
          216795,
          140630,
          357171,
          231120,
          3494211,
          3458188,
          3446181,
          3494211,
          4284099,
          3458188,
          3494211,
          3573200,
          3494211,
          3156609,
          3156609,
          3168575,
          191971,
          189992,
          189333,
          98289,
          153577,
          189992,
          230366,
          191971,
          230366,
          189333,
          189333,
          189992,
          121250,
          120000,
          119583,
          62080,
          97000,
          120000,
          145500,
          121250,
          145500,
          119583,
          119583,
          120000,
          44983,
          44516,
          44365,
          23031,
          35983,
          44516,
          53978,
          44983,
          53978,
          44365,
          44365,
          44516
         ],
         "yaxis": "y"
        }
       ],
       "layout": {
        "barmode": "group",
        "legend": {
         "title": {
          "text": "Year"
         },
         "tracegroupgap": 0
        },
        "template": {
         "data": {
          "bar": [
           {
            "error_x": {
             "color": "#2a3f5f"
            },
            "error_y": {
             "color": "#2a3f5f"
            },
            "marker": {
             "line": {
              "color": "#E5ECF6",
              "width": 0.5
             }
            },
            "type": "bar"
           }
          ],
          "barpolar": [
           {
            "marker": {
             "line": {
              "color": "#E5ECF6",
              "width": 0.5
             }
            },
            "type": "barpolar"
           }
          ],
          "carpet": [
           {
            "aaxis": {
             "endlinecolor": "#2a3f5f",
             "gridcolor": "white",
             "linecolor": "white",
             "minorgridcolor": "white",
             "startlinecolor": "#2a3f5f"
            },
            "baxis": {
             "endlinecolor": "#2a3f5f",
             "gridcolor": "white",
             "linecolor": "white",
             "minorgridcolor": "white",
             "startlinecolor": "#2a3f5f"
            },
            "type": "carpet"
           }
          ],
          "choropleth": [
           {
            "colorbar": {
             "outlinewidth": 0,
             "ticks": ""
            },
            "type": "choropleth"
           }
          ],
          "contour": [
           {
            "colorbar": {
             "outlinewidth": 0,
             "ticks": ""
            },
            "colorscale": [
             [
              0,
              "#0d0887"
             ],
             [
              0.1111111111111111,
              "#46039f"
             ],
             [
              0.2222222222222222,
              "#7201a8"
             ],
             [
              0.3333333333333333,
              "#9c179e"
             ],
             [
              0.4444444444444444,
              "#bd3786"
             ],
             [
              0.5555555555555556,
              "#d8576b"
             ],
             [
              0.6666666666666666,
              "#ed7953"
             ],
             [
              0.7777777777777778,
              "#fb9f3a"
             ],
             [
              0.8888888888888888,
              "#fdca26"
             ],
             [
              1,
              "#f0f921"
             ]
            ],
            "type": "contour"
           }
          ],
          "contourcarpet": [
           {
            "colorbar": {
             "outlinewidth": 0,
             "ticks": ""
            },
            "type": "contourcarpet"
           }
          ],
          "heatmap": [
           {
            "colorbar": {
             "outlinewidth": 0,
             "ticks": ""
            },
            "colorscale": [
             [
              0,
              "#0d0887"
             ],
             [
              0.1111111111111111,
              "#46039f"
             ],
             [
              0.2222222222222222,
              "#7201a8"
             ],
             [
              0.3333333333333333,
              "#9c179e"
             ],
             [
              0.4444444444444444,
              "#bd3786"
             ],
             [
              0.5555555555555556,
              "#d8576b"
             ],
             [
              0.6666666666666666,
              "#ed7953"
             ],
             [
              0.7777777777777778,
              "#fb9f3a"
             ],
             [
              0.8888888888888888,
              "#fdca26"
             ],
             [
              1,
              "#f0f921"
             ]
            ],
            "type": "heatmap"
           }
          ],
          "heatmapgl": [
           {
            "colorbar": {
             "outlinewidth": 0,
             "ticks": ""
            },
            "colorscale": [
             [
              0,
              "#0d0887"
             ],
             [
              0.1111111111111111,
              "#46039f"
             ],
             [
              0.2222222222222222,
              "#7201a8"
             ],
             [
              0.3333333333333333,
              "#9c179e"
             ],
             [
              0.4444444444444444,
              "#bd3786"
             ],
             [
              0.5555555555555556,
              "#d8576b"
             ],
             [
              0.6666666666666666,
              "#ed7953"
             ],
             [
              0.7777777777777778,
              "#fb9f3a"
             ],
             [
              0.8888888888888888,
              "#fdca26"
             ],
             [
              1,
              "#f0f921"
             ]
            ],
            "type": "heatmapgl"
           }
          ],
          "histogram": [
           {
            "marker": {
             "colorbar": {
              "outlinewidth": 0,
              "ticks": ""
             }
            },
            "type": "histogram"
           }
          ],
          "histogram2d": [
           {
            "colorbar": {
             "outlinewidth": 0,
             "ticks": ""
            },
            "colorscale": [
             [
              0,
              "#0d0887"
             ],
             [
              0.1111111111111111,
              "#46039f"
             ],
             [
              0.2222222222222222,
              "#7201a8"
             ],
             [
              0.3333333333333333,
              "#9c179e"
             ],
             [
              0.4444444444444444,
              "#bd3786"
             ],
             [
              0.5555555555555556,
              "#d8576b"
             ],
             [
              0.6666666666666666,
              "#ed7953"
             ],
             [
              0.7777777777777778,
              "#fb9f3a"
             ],
             [
              0.8888888888888888,
              "#fdca26"
             ],
             [
              1,
              "#f0f921"
             ]
            ],
            "type": "histogram2d"
           }
          ],
          "histogram2dcontour": [
           {
            "colorbar": {
             "outlinewidth": 0,
             "ticks": ""
            },
            "colorscale": [
             [
              0,
              "#0d0887"
             ],
             [
              0.1111111111111111,
              "#46039f"
             ],
             [
              0.2222222222222222,
              "#7201a8"
             ],
             [
              0.3333333333333333,
              "#9c179e"
             ],
             [
              0.4444444444444444,
              "#bd3786"
             ],
             [
              0.5555555555555556,
              "#d8576b"
             ],
             [
              0.6666666666666666,
              "#ed7953"
             ],
             [
              0.7777777777777778,
              "#fb9f3a"
             ],
             [
              0.8888888888888888,
              "#fdca26"
             ],
             [
              1,
              "#f0f921"
             ]
            ],
            "type": "histogram2dcontour"
           }
          ],
          "mesh3d": [
           {
            "colorbar": {
             "outlinewidth": 0,
             "ticks": ""
            },
            "type": "mesh3d"
           }
          ],
          "parcoords": [
           {
            "line": {
             "colorbar": {
              "outlinewidth": 0,
              "ticks": ""
             }
            },
            "type": "parcoords"
           }
          ],
          "pie": [
           {
            "automargin": true,
            "type": "pie"
           }
          ],
          "scatter": [
           {
            "marker": {
             "colorbar": {
              "outlinewidth": 0,
              "ticks": ""
             }
            },
            "type": "scatter"
           }
          ],
          "scatter3d": [
           {
            "line": {
             "colorbar": {
              "outlinewidth": 0,
              "ticks": ""
             }
            },
            "marker": {
             "colorbar": {
              "outlinewidth": 0,
              "ticks": ""
             }
            },
            "type": "scatter3d"
           }
          ],
          "scattercarpet": [
           {
            "marker": {
             "colorbar": {
              "outlinewidth": 0,
              "ticks": ""
             }
            },
            "type": "scattercarpet"
           }
          ],
          "scattergeo": [
           {
            "marker": {
             "colorbar": {
              "outlinewidth": 0,
              "ticks": ""
             }
            },
            "type": "scattergeo"
           }
          ],
          "scattergl": [
           {
            "marker": {
             "colorbar": {
              "outlinewidth": 0,
              "ticks": ""
             }
            },
            "type": "scattergl"
           }
          ],
          "scattermapbox": [
           {
            "marker": {
             "colorbar": {
              "outlinewidth": 0,
              "ticks": ""
             }
            },
            "type": "scattermapbox"
           }
          ],
          "scatterpolar": [
           {
            "marker": {
             "colorbar": {
              "outlinewidth": 0,
              "ticks": ""
             }
            },
            "type": "scatterpolar"
           }
          ],
          "scatterpolargl": [
           {
            "marker": {
             "colorbar": {
              "outlinewidth": 0,
              "ticks": ""
             }
            },
            "type": "scatterpolargl"
           }
          ],
          "scatterternary": [
           {
            "marker": {
             "colorbar": {
              "outlinewidth": 0,
              "ticks": ""
             }
            },
            "type": "scatterternary"
           }
          ],
          "surface": [
           {
            "colorbar": {
             "outlinewidth": 0,
             "ticks": ""
            },
            "colorscale": [
             [
              0,
              "#0d0887"
             ],
             [
              0.1111111111111111,
              "#46039f"
             ],
             [
              0.2222222222222222,
              "#7201a8"
             ],
             [
              0.3333333333333333,
              "#9c179e"
             ],
             [
              0.4444444444444444,
              "#bd3786"
             ],
             [
              0.5555555555555556,
              "#d8576b"
             ],
             [
              0.6666666666666666,
              "#ed7953"
             ],
             [
              0.7777777777777778,
              "#fb9f3a"
             ],
             [
              0.8888888888888888,
              "#fdca26"
             ],
             [
              1,
              "#f0f921"
             ]
            ],
            "type": "surface"
           }
          ],
          "table": [
           {
            "cells": {
             "fill": {
              "color": "#EBF0F8"
             },
             "line": {
              "color": "white"
             }
            },
            "header": {
             "fill": {
              "color": "#C8D4E3"
             },
             "line": {
              "color": "white"
             }
            },
            "type": "table"
           }
          ]
         },
         "layout": {
          "annotationdefaults": {
           "arrowcolor": "#2a3f5f",
           "arrowhead": 0,
           "arrowwidth": 1
          },
          "coloraxis": {
           "colorbar": {
            "outlinewidth": 0,
            "ticks": ""
           }
          },
          "colorscale": {
           "diverging": [
            [
             0,
             "#8e0152"
            ],
            [
             0.1,
             "#c51b7d"
            ],
            [
             0.2,
             "#de77ae"
            ],
            [
             0.3,
             "#f1b6da"
            ],
            [
             0.4,
             "#fde0ef"
            ],
            [
             0.5,
             "#f7f7f7"
            ],
            [
             0.6,
             "#e6f5d0"
            ],
            [
             0.7,
             "#b8e186"
            ],
            [
             0.8,
             "#7fbc41"
            ],
            [
             0.9,
             "#4d9221"
            ],
            [
             1,
             "#276419"
            ]
           ],
           "sequential": [
            [
             0,
             "#0d0887"
            ],
            [
             0.1111111111111111,
             "#46039f"
            ],
            [
             0.2222222222222222,
             "#7201a8"
            ],
            [
             0.3333333333333333,
             "#9c179e"
            ],
            [
             0.4444444444444444,
             "#bd3786"
            ],
            [
             0.5555555555555556,
             "#d8576b"
            ],
            [
             0.6666666666666666,
             "#ed7953"
            ],
            [
             0.7777777777777778,
             "#fb9f3a"
            ],
            [
             0.8888888888888888,
             "#fdca26"
            ],
            [
             1,
             "#f0f921"
            ]
           ],
           "sequentialminus": [
            [
             0,
             "#0d0887"
            ],
            [
             0.1111111111111111,
             "#46039f"
            ],
            [
             0.2222222222222222,
             "#7201a8"
            ],
            [
             0.3333333333333333,
             "#9c179e"
            ],
            [
             0.4444444444444444,
             "#bd3786"
            ],
            [
             0.5555555555555556,
             "#d8576b"
            ],
            [
             0.6666666666666666,
             "#ed7953"
            ],
            [
             0.7777777777777778,
             "#fb9f3a"
            ],
            [
             0.8888888888888888,
             "#fdca26"
            ],
            [
             1,
             "#f0f921"
            ]
           ]
          },
          "colorway": [
           "#636efa",
           "#EF553B",
           "#00cc96",
           "#ab63fa",
           "#FFA15A",
           "#19d3f3",
           "#FF6692",
           "#B6E880",
           "#FF97FF",
           "#FECB52"
          ],
          "font": {
           "color": "#2a3f5f"
          },
          "geo": {
           "bgcolor": "white",
           "lakecolor": "white",
           "landcolor": "#E5ECF6",
           "showlakes": true,
           "showland": true,
           "subunitcolor": "white"
          },
          "hoverlabel": {
           "align": "left"
          },
          "hovermode": "closest",
          "mapbox": {
           "style": "light"
          },
          "paper_bgcolor": "white",
          "plot_bgcolor": "#E5ECF6",
          "polar": {
           "angularaxis": {
            "gridcolor": "white",
            "linecolor": "white",
            "ticks": ""
           },
           "bgcolor": "#E5ECF6",
           "radialaxis": {
            "gridcolor": "white",
            "linecolor": "white",
            "ticks": ""
           }
          },
          "scene": {
           "xaxis": {
            "backgroundcolor": "#E5ECF6",
            "gridcolor": "white",
            "gridwidth": 2,
            "linecolor": "white",
            "showbackground": true,
            "ticks": "",
            "zerolinecolor": "white"
           },
           "yaxis": {
            "backgroundcolor": "#E5ECF6",
            "gridcolor": "white",
            "gridwidth": 2,
            "linecolor": "white",
            "showbackground": true,
            "ticks": "",
            "zerolinecolor": "white"
           },
           "zaxis": {
            "backgroundcolor": "#E5ECF6",
            "gridcolor": "white",
            "gridwidth": 2,
            "linecolor": "white",
            "showbackground": true,
            "ticks": "",
            "zerolinecolor": "white"
           }
          },
          "shapedefaults": {
           "line": {
            "color": "#2a3f5f"
           }
          },
          "ternary": {
           "aaxis": {
            "gridcolor": "white",
            "linecolor": "white",
            "ticks": ""
           },
           "baxis": {
            "gridcolor": "white",
            "linecolor": "white",
            "ticks": ""
           },
           "bgcolor": "#E5ECF6",
           "caxis": {
            "gridcolor": "white",
            "linecolor": "white",
            "ticks": ""
           }
          },
          "title": {
           "x": 0.05
          },
          "xaxis": {
           "automargin": true,
           "gridcolor": "white",
           "linecolor": "white",
           "ticks": "",
           "title": {
            "standoff": 15
           },
           "zerolinecolor": "white",
           "zerolinewidth": 2
          },
          "yaxis": {
           "automargin": true,
           "gridcolor": "white",
           "linecolor": "white",
           "ticks": "",
           "title": {
            "standoff": 15
           },
           "zerolinecolor": "white",
           "zerolinewidth": 2
          }
         }
        },
        "title": {
         "text": "天線客戶歷年營收"
        },
        "xaxis": {
         "anchor": "y",
         "categoryorder": "total descending",
         "domain": [
          0,
          1
         ],
         "title": {
          "text": "Customer"
         }
        },
        "yaxis": {
         "anchor": "x",
         "domain": [
          0,
          1
         ],
         "title": {
          "text": "sum of 營業額"
         }
        }
       }
      },
      "text/html": [
       "<div>                            <div id=\"22f9d329-67d0-4077-a694-c0be3a8114db\" class=\"plotly-graph-div\" style=\"height:525px; width:100%;\"></div>            <script type=\"text/javascript\">                require([\"plotly\"], function(Plotly) {                    window.PLOTLYENV=window.PLOTLYENV || {};                                    if (document.getElementById(\"22f9d329-67d0-4077-a694-c0be3a8114db\")) {                    Plotly.newPlot(                        \"22f9d329-67d0-4077-a694-c0be3a8114db\",                        [{\"alignmentgroup\": \"True\", \"bingroup\": \"x\", \"histfunc\": \"sum\", \"hovertemplate\": \"Year=2018<br>Customer=%{x}<br>sum of \\u71df\\u696d\\u984d=%{y}<extra></extra>\", \"legendgroup\": \"2018\", \"marker\": {\"color\": \"#636efa\"}, \"name\": \"2018\", \"offsetgroup\": \"2018\", \"orientation\": \"v\", \"showlegend\": true, \"type\": \"histogram\", \"x\": [\"CAME\", \"MT-SYSTEM\", \"MT-SYSTEM\", \"MT-SYSTEM\", \"MT-SYSTEM\", \"MT-SYSTEM\", \"MT-SYSTEM\", \"MT-SYSTEM\", \"MT-SYSTEM\", \"MT-SYSTEM\", \"MT-SYSTEM\", \"TELTONIKA\", \"TELTONIKA\", \"TELTONIKA\", \"TELTONIKA\", \"TELTONIKA\", \"TELTONIKA\", \"Zebra\", \"Zebra\", \"Bourns\", \"Bourns\", \"Bourns\", \"Bourns\", \"Bourns\", \"Bourns\", \"Bourns\", \"Bourns\"], \"xaxis\": \"x\", \"y\": [11392, 248515, 294824, 123032, 68921, 219237, 259258, 172120, 83731, 285346, 275662, 262691, 520041, 6764, 454111, 1167748, 710040, 33606, 100819, 375936, 974300, 159772, 570169, 366537, 307014, 156640, 1040089], \"yaxis\": \"y\"}, {\"alignmentgroup\": \"True\", \"bingroup\": \"x\", \"histfunc\": \"sum\", \"hovertemplate\": \"Year=2019<br>Customer=%{x}<br>sum of \\u71df\\u696d\\u984d=%{y}<extra></extra>\", \"legendgroup\": \"2019\", \"marker\": {\"color\": \"#EF553B\"}, \"name\": \"2019\", \"offsetgroup\": \"2019\", \"orientation\": \"v\", \"showlegend\": true, \"type\": \"histogram\", \"x\": [\"Credence\", \"Eteily\", \"Eteily\", \"Globalte\", \"MS\", \"MT-SYSTEM\", \"MT-SYSTEM\", \"MT-SYSTEM\", \"MT-SYSTEM\", \"MT-SYSTEM\", \"MT-SYSTEM\", \"MT-SYSTEM\", \"MT-SYSTEM\", \"MT-SYSTEM\", \"MT-SYSTEM\", \"MT-SYSTEM\", \"TE\", \"TE\", \"TE\", \"TELTONIKA\", \"TELTONIKA\", \"TELTONIKA\", \"TELTONIKA\", \"TELTONIKA\", \"TELTONIKA\", \"TELTONIKA\", \"TELTONIKA\", \"TELTONIKA\", \"TELTONIKA\", \"TELTONIKA\", \"TELTONIKA\", \"Bourns\", \"Bourns\", \"Bourns\", \"Bourns\", \"Bourns\", \"Bourns\", \"Bourns\", \"Bourns\"], \"xaxis\": \"x\", \"y\": [93984, 13934, 35315, 7120, 37741, 43175, 430809, 327975, 132032, 112275, 578143, 786669, 858215, 503809, 299035, 761576, 88776, 23239, 854584, 1657320, 874974, 943367, 38874, 1356711, 1213103, 1059239, 749090, 1000074, 1106203, 59167, 1739954, 360271, 357139, 444857, 156639, 18796, 175436, 416661, 516911], \"yaxis\": \"y\"}, {\"alignmentgroup\": \"True\", \"bingroup\": \"x\", \"histfunc\": \"sum\", \"hovertemplate\": \"Year=2020<br>Customer=%{x}<br>sum of \\u71df\\u696d\\u984d=%{y}<extra></extra>\", \"legendgroup\": \"2020\", \"marker\": {\"color\": \"#00cc96\"}, \"name\": \"2020\", \"offsetgroup\": \"2020\", \"orientation\": \"v\", \"showlegend\": true, \"type\": \"histogram\", \"x\": [\"MS\", \"MS\", \"MS\", \"MS\", \"Nexty\", \"Nexty\", \"Reliance\", \"Reliance\", \"Reliance\", \"Reliance\", \"Unified\", \"Unified\", \"Unified\", \"MT-SYSTEM\", \"MT-SYSTEM\", \"MT-SYSTEM\", \"MT-SYSTEM\", \"MT-SYSTEM\", \"MT-SYSTEM\", \"MT-SYSTEM\", \"MT-SYSTEM\", \"MT-SYSTEM\", \"MT-SYSTEM\", \"TE\", \"TELTONIKA\", \"TELTONIKA\", \"TELTONIKA\", \"TELTONIKA\", \"TELTONIKA\", \"TELTONIKA\", \"TELTONIKA\", \"TELTONIKA\", \"TELTONIKA\", \"TELTONIKA\", \"TELTONIKA\", \"TELTONIKA\", \"Zebra\", \"\\u83ef\\u65b0\\u79d1\\u6280\", \"\\u83ef\\u65b0\\u79d1\\u6280\", \"\\u83ef\\u65b0\\u79d1\\u6280\", \"\\u83ef\\u65b0\\u79d1\\u6280\", \"\\u83ef\\u65b0\\u79d1\\u6280\", \"Bourns\", \"Bourns\", \"Bourns\", \"Bourns\", \"Bourns\", \"Bourns\", \"Bourns\", \"Bourns\", \"Bourns\", \"WE\", \"WE\"], \"xaxis\": \"x\", \"y\": [9718, 22953, 28627, 79925, 14712, 1594, 1537912, 12166633, 8612478, 434031, 45568, 45567, 284, 512924, 462638, 1078734, 266914, 66129, 299609, 19936, 150944, 478464, 616168, 496623, 1421540, 2164052, 9912557, 586936, 2442533, 2155717, 314439, 507967, 1000128, 5601735, 3216310, 6528574, 5696, 9600, 24000, 4800, 14400, 24000, 275686, 303881, 532575, 275686, 62656, 43859, 285084, 75186, 263154, 17481, 224125], \"yaxis\": \"y\"}, {\"alignmentgroup\": \"True\", \"bingroup\": \"x\", \"histfunc\": \"sum\", \"hovertemplate\": \"Year=2021<br>Customer=%{x}<br>sum of \\u71df\\u696d\\u984d=%{y}<extra></extra>\", \"legendgroup\": \"2021\", \"marker\": {\"color\": \"#ab63fa\"}, \"name\": \"2021\", \"offsetgroup\": \"2021\", \"orientation\": \"v\", \"showlegend\": true, \"type\": \"histogram\", \"x\": [\"MS\", \"MS\", \"MS\", \"MS\", \"MS\", \"MS\", \"MS\", \"MS\", \"MS\", \"MS\", \"MS\", \"MS\", \"Nexty\", \"Nexty\", \"Nexty\", \"Nexty\", \"Nexty\", \"Nexty\", \"Nexty\", \"Nexty\", \"Nexty\", \"Nexty\", \"Nexty\", \"Nexty\", \"OSE\", \"OSE\", \"OSE\", \"OSE\", \"OSE\", \"OSE\", \"OSE\", \"OSE\", \"OSE\", \"OSE\", \"OSE\", \"OSE\", \"Reliance\", \"Reliance\", \"Reliance\", \"Reliance\", \"Reliance\", \"Reliance\", \"Reliance\", \"Reliance\", \"Reliance\", \"Reliance\", \"Reliance\", \"Reliance\", \"Unified\", \"Unified\", \"Unified\", \"Unified\", \"Unified\", \"Unified\", \"Unified\", \"Unified\", \"Unified\", \"Unified\", \"Unified\", \"Unified\", \"MT-SYSTEM\", \"MT-SYSTEM\", \"MT-SYSTEM\", \"MT-SYSTEM\", \"MT-SYSTEM\", \"MT-SYSTEM\", \"MT-SYSTEM\", \"MT-SYSTEM\", \"MT-SYSTEM\", \"MT-SYSTEM\", \"MT-SYSTEM\", \"MT-SYSTEM\", \"TELTONIKA\", \"TELTONIKA\", \"TELTONIKA\", \"TELTONIKA\", \"TELTONIKA\", \"TELTONIKA\", \"TELTONIKA\", \"TELTONIKA\", \"TELTONIKA\", \"TELTONIKA\", \"TELTONIKA\", \"TELTONIKA\", \"Bourns\", \"Bourns\", \"Bourns\", \"Bourns\", \"Bourns\", \"Bourns\", \"Bourns\", \"Bourns\", \"Bourns\", \"Bourns\", \"Bourns\", \"Bourns\", \"Laird\", \"Laird\", \"Laird\", \"Laird\", \"Laird\", \"Laird\", \"Laird\", \"Laird\", \"Laird\", \"Laird\", \"Laird\", \"Laird\", \"WE\", \"WE\", \"WE\", \"WE\", \"WE\", \"WE\", \"WE\", \"WE\", \"WE\", \"WE\", \"WE\", \"WE\"], \"xaxis\": \"x\", \"y\": [864561, 593568, 323162, 272085, 494700, 813888, 369861, 97776, 97776, 323162, 1079407, 324288, 157140, 155520, 154980, 235710, 0, 0, 157140, 0, 0, 0, 154980, 0, 0, 144000, 143500, 0, 0, 0, 145500, 0, 0, 0, 143500, 0, 9999999, 0, 0, 7999999, 9999999, 0, 0, 9999999, 4999999, 0, 0, 0, 0, 0, 0, 0, 46560, 46080, 0, 46560, 46560, 45920, 0, 46080, 311952, 291600, 2257829, 979797, 16005, 2640096, 90210, 536895, 216795, 140630, 357171, 231120, 3494211, 3458188, 3446181, 3494211, 4284099, 3458188, 3494211, 3573200, 3494211, 3156609, 3156609, 3168575, 191971, 189992, 189333, 98289, 153577, 189992, 230366, 191971, 230366, 189333, 189333, 189992, 121250, 120000, 119583, 62080, 97000, 120000, 145500, 121250, 145500, 119583, 119583, 120000, 44983, 44516, 44365, 23031, 35983, 44516, 53978, 44983, 53978, 44365, 44365, 44516], \"yaxis\": \"y\"}],                        {\"barmode\": \"group\", \"legend\": {\"title\": {\"text\": \"Year\"}, \"tracegroupgap\": 0}, \"template\": {\"data\": {\"bar\": [{\"error_x\": {\"color\": \"#2a3f5f\"}, \"error_y\": {\"color\": \"#2a3f5f\"}, \"marker\": {\"line\": {\"color\": \"#E5ECF6\", \"width\": 0.5}}, \"type\": \"bar\"}], \"barpolar\": [{\"marker\": {\"line\": {\"color\": \"#E5ECF6\", \"width\": 0.5}}, \"type\": \"barpolar\"}], \"carpet\": [{\"aaxis\": {\"endlinecolor\": \"#2a3f5f\", \"gridcolor\": \"white\", \"linecolor\": \"white\", \"minorgridcolor\": \"white\", \"startlinecolor\": \"#2a3f5f\"}, \"baxis\": {\"endlinecolor\": \"#2a3f5f\", \"gridcolor\": \"white\", \"linecolor\": \"white\", \"minorgridcolor\": \"white\", \"startlinecolor\": \"#2a3f5f\"}, \"type\": \"carpet\"}], \"choropleth\": [{\"colorbar\": {\"outlinewidth\": 0, \"ticks\": \"\"}, \"type\": \"choropleth\"}], \"contour\": [{\"colorbar\": {\"outlinewidth\": 0, \"ticks\": \"\"}, \"colorscale\": [[0.0, \"#0d0887\"], [0.1111111111111111, \"#46039f\"], [0.2222222222222222, \"#7201a8\"], [0.3333333333333333, \"#9c179e\"], [0.4444444444444444, \"#bd3786\"], [0.5555555555555556, \"#d8576b\"], [0.6666666666666666, \"#ed7953\"], [0.7777777777777778, \"#fb9f3a\"], [0.8888888888888888, \"#fdca26\"], [1.0, \"#f0f921\"]], \"type\": \"contour\"}], \"contourcarpet\": [{\"colorbar\": {\"outlinewidth\": 0, \"ticks\": \"\"}, \"type\": \"contourcarpet\"}], \"heatmap\": [{\"colorbar\": {\"outlinewidth\": 0, \"ticks\": \"\"}, \"colorscale\": [[0.0, \"#0d0887\"], [0.1111111111111111, \"#46039f\"], [0.2222222222222222, \"#7201a8\"], [0.3333333333333333, \"#9c179e\"], [0.4444444444444444, \"#bd3786\"], [0.5555555555555556, \"#d8576b\"], [0.6666666666666666, \"#ed7953\"], [0.7777777777777778, \"#fb9f3a\"], [0.8888888888888888, \"#fdca26\"], [1.0, \"#f0f921\"]], \"type\": \"heatmap\"}], \"heatmapgl\": [{\"colorbar\": {\"outlinewidth\": 0, \"ticks\": \"\"}, \"colorscale\": [[0.0, \"#0d0887\"], [0.1111111111111111, \"#46039f\"], [0.2222222222222222, \"#7201a8\"], [0.3333333333333333, \"#9c179e\"], [0.4444444444444444, \"#bd3786\"], [0.5555555555555556, \"#d8576b\"], [0.6666666666666666, \"#ed7953\"], [0.7777777777777778, \"#fb9f3a\"], [0.8888888888888888, \"#fdca26\"], [1.0, \"#f0f921\"]], \"type\": \"heatmapgl\"}], \"histogram\": [{\"marker\": {\"colorbar\": {\"outlinewidth\": 0, \"ticks\": \"\"}}, \"type\": \"histogram\"}], \"histogram2d\": [{\"colorbar\": {\"outlinewidth\": 0, \"ticks\": \"\"}, \"colorscale\": [[0.0, \"#0d0887\"], [0.1111111111111111, \"#46039f\"], [0.2222222222222222, \"#7201a8\"], [0.3333333333333333, \"#9c179e\"], [0.4444444444444444, \"#bd3786\"], [0.5555555555555556, \"#d8576b\"], [0.6666666666666666, \"#ed7953\"], [0.7777777777777778, \"#fb9f3a\"], [0.8888888888888888, \"#fdca26\"], [1.0, \"#f0f921\"]], \"type\": \"histogram2d\"}], \"histogram2dcontour\": [{\"colorbar\": {\"outlinewidth\": 0, \"ticks\": \"\"}, \"colorscale\": [[0.0, \"#0d0887\"], [0.1111111111111111, \"#46039f\"], [0.2222222222222222, \"#7201a8\"], [0.3333333333333333, \"#9c179e\"], [0.4444444444444444, \"#bd3786\"], [0.5555555555555556, \"#d8576b\"], [0.6666666666666666, \"#ed7953\"], [0.7777777777777778, \"#fb9f3a\"], [0.8888888888888888, \"#fdca26\"], [1.0, \"#f0f921\"]], \"type\": \"histogram2dcontour\"}], \"mesh3d\": [{\"colorbar\": {\"outlinewidth\": 0, \"ticks\": \"\"}, \"type\": \"mesh3d\"}], \"parcoords\": [{\"line\": {\"colorbar\": {\"outlinewidth\": 0, \"ticks\": \"\"}}, \"type\": \"parcoords\"}], \"pie\": [{\"automargin\": true, \"type\": \"pie\"}], \"scatter\": [{\"marker\": {\"colorbar\": {\"outlinewidth\": 0, \"ticks\": \"\"}}, \"type\": \"scatter\"}], \"scatter3d\": [{\"line\": {\"colorbar\": {\"outlinewidth\": 0, \"ticks\": \"\"}}, \"marker\": {\"colorbar\": {\"outlinewidth\": 0, \"ticks\": \"\"}}, \"type\": \"scatter3d\"}], \"scattercarpet\": [{\"marker\": {\"colorbar\": {\"outlinewidth\": 0, \"ticks\": \"\"}}, \"type\": \"scattercarpet\"}], \"scattergeo\": [{\"marker\": {\"colorbar\": {\"outlinewidth\": 0, \"ticks\": \"\"}}, \"type\": \"scattergeo\"}], \"scattergl\": [{\"marker\": {\"colorbar\": {\"outlinewidth\": 0, \"ticks\": \"\"}}, \"type\": \"scattergl\"}], \"scattermapbox\": [{\"marker\": {\"colorbar\": {\"outlinewidth\": 0, \"ticks\": \"\"}}, \"type\": \"scattermapbox\"}], \"scatterpolar\": [{\"marker\": {\"colorbar\": {\"outlinewidth\": 0, \"ticks\": \"\"}}, \"type\": \"scatterpolar\"}], \"scatterpolargl\": [{\"marker\": {\"colorbar\": {\"outlinewidth\": 0, \"ticks\": \"\"}}, \"type\": \"scatterpolargl\"}], \"scatterternary\": [{\"marker\": {\"colorbar\": {\"outlinewidth\": 0, \"ticks\": \"\"}}, \"type\": \"scatterternary\"}], \"surface\": [{\"colorbar\": {\"outlinewidth\": 0, \"ticks\": \"\"}, \"colorscale\": [[0.0, \"#0d0887\"], [0.1111111111111111, \"#46039f\"], [0.2222222222222222, \"#7201a8\"], [0.3333333333333333, \"#9c179e\"], [0.4444444444444444, \"#bd3786\"], [0.5555555555555556, \"#d8576b\"], [0.6666666666666666, \"#ed7953\"], [0.7777777777777778, \"#fb9f3a\"], [0.8888888888888888, \"#fdca26\"], [1.0, \"#f0f921\"]], \"type\": \"surface\"}], \"table\": [{\"cells\": {\"fill\": {\"color\": \"#EBF0F8\"}, \"line\": {\"color\": \"white\"}}, \"header\": {\"fill\": {\"color\": \"#C8D4E3\"}, \"line\": {\"color\": \"white\"}}, \"type\": \"table\"}]}, \"layout\": {\"annotationdefaults\": {\"arrowcolor\": \"#2a3f5f\", \"arrowhead\": 0, \"arrowwidth\": 1}, \"coloraxis\": {\"colorbar\": {\"outlinewidth\": 0, \"ticks\": \"\"}}, \"colorscale\": {\"diverging\": [[0, \"#8e0152\"], [0.1, \"#c51b7d\"], [0.2, \"#de77ae\"], [0.3, \"#f1b6da\"], [0.4, \"#fde0ef\"], [0.5, \"#f7f7f7\"], [0.6, \"#e6f5d0\"], [0.7, \"#b8e186\"], [0.8, \"#7fbc41\"], [0.9, \"#4d9221\"], [1, \"#276419\"]], \"sequential\": [[0.0, \"#0d0887\"], [0.1111111111111111, \"#46039f\"], [0.2222222222222222, \"#7201a8\"], [0.3333333333333333, \"#9c179e\"], [0.4444444444444444, \"#bd3786\"], [0.5555555555555556, \"#d8576b\"], [0.6666666666666666, \"#ed7953\"], [0.7777777777777778, \"#fb9f3a\"], [0.8888888888888888, \"#fdca26\"], [1.0, \"#f0f921\"]], \"sequentialminus\": [[0.0, \"#0d0887\"], [0.1111111111111111, \"#46039f\"], [0.2222222222222222, \"#7201a8\"], [0.3333333333333333, \"#9c179e\"], [0.4444444444444444, \"#bd3786\"], [0.5555555555555556, \"#d8576b\"], [0.6666666666666666, \"#ed7953\"], [0.7777777777777778, \"#fb9f3a\"], [0.8888888888888888, \"#fdca26\"], [1.0, \"#f0f921\"]]}, \"colorway\": [\"#636efa\", \"#EF553B\", \"#00cc96\", \"#ab63fa\", \"#FFA15A\", \"#19d3f3\", \"#FF6692\", \"#B6E880\", \"#FF97FF\", \"#FECB52\"], \"font\": {\"color\": \"#2a3f5f\"}, \"geo\": {\"bgcolor\": \"white\", \"lakecolor\": \"white\", \"landcolor\": \"#E5ECF6\", \"showlakes\": true, \"showland\": true, \"subunitcolor\": \"white\"}, \"hoverlabel\": {\"align\": \"left\"}, \"hovermode\": \"closest\", \"mapbox\": {\"style\": \"light\"}, \"paper_bgcolor\": \"white\", \"plot_bgcolor\": \"#E5ECF6\", \"polar\": {\"angularaxis\": {\"gridcolor\": \"white\", \"linecolor\": \"white\", \"ticks\": \"\"}, \"bgcolor\": \"#E5ECF6\", \"radialaxis\": {\"gridcolor\": \"white\", \"linecolor\": \"white\", \"ticks\": \"\"}}, \"scene\": {\"xaxis\": {\"backgroundcolor\": \"#E5ECF6\", \"gridcolor\": \"white\", \"gridwidth\": 2, \"linecolor\": \"white\", \"showbackground\": true, \"ticks\": \"\", \"zerolinecolor\": \"white\"}, \"yaxis\": {\"backgroundcolor\": \"#E5ECF6\", \"gridcolor\": \"white\", \"gridwidth\": 2, \"linecolor\": \"white\", \"showbackground\": true, \"ticks\": \"\", \"zerolinecolor\": \"white\"}, \"zaxis\": {\"backgroundcolor\": \"#E5ECF6\", \"gridcolor\": \"white\", \"gridwidth\": 2, \"linecolor\": \"white\", \"showbackground\": true, \"ticks\": \"\", \"zerolinecolor\": \"white\"}}, \"shapedefaults\": {\"line\": {\"color\": \"#2a3f5f\"}}, \"ternary\": {\"aaxis\": {\"gridcolor\": \"white\", \"linecolor\": \"white\", \"ticks\": \"\"}, \"baxis\": {\"gridcolor\": \"white\", \"linecolor\": \"white\", \"ticks\": \"\"}, \"bgcolor\": \"#E5ECF6\", \"caxis\": {\"gridcolor\": \"white\", \"linecolor\": \"white\", \"ticks\": \"\"}}, \"title\": {\"x\": 0.05}, \"xaxis\": {\"automargin\": true, \"gridcolor\": \"white\", \"linecolor\": \"white\", \"ticks\": \"\", \"title\": {\"standoff\": 15}, \"zerolinecolor\": \"white\", \"zerolinewidth\": 2}, \"yaxis\": {\"automargin\": true, \"gridcolor\": \"white\", \"linecolor\": \"white\", \"ticks\": \"\", \"title\": {\"standoff\": 15}, \"zerolinecolor\": \"white\", \"zerolinewidth\": 2}}}, \"title\": {\"text\": \"\\u5929\\u7dda\\u5ba2\\u6236\\u6b77\\u5e74\\u71df\\u6536\"}, \"xaxis\": {\"anchor\": \"y\", \"categoryorder\": \"total descending\", \"domain\": [0.0, 1.0], \"title\": {\"text\": \"Customer\"}}, \"yaxis\": {\"anchor\": \"x\", \"domain\": [0.0, 1.0], \"title\": {\"text\": \"sum of \\u71df\\u696d\\u984d\"}}},                        {\"responsive\": true}                    ).then(function(){\n",
       "                            \n",
       "var gd = document.getElementById('22f9d329-67d0-4077-a694-c0be3a8114db');\n",
       "var x = new MutationObserver(function (mutations, observer) {{\n",
       "        var display = window.getComputedStyle(gd).display;\n",
       "        if (!display || display === 'none') {{\n",
       "            console.log([gd, 'removed!']);\n",
       "            Plotly.purge(gd);\n",
       "            observer.disconnect();\n",
       "        }}\n",
       "}});\n",
       "\n",
       "// Listen for the removal of the full notebook cells\n",
       "var notebookContainer = gd.closest('#notebook-container');\n",
       "if (notebookContainer) {{\n",
       "    x.observe(notebookContainer, {childList: true});\n",
       "}}\n",
       "\n",
       "// Listen for the clearing of the current output cell\n",
       "var outputEl = gd.closest('.output');\n",
       "if (outputEl) {{\n",
       "    x.observe(outputEl, {childList: true});\n",
       "}}\n",
       "\n",
       "                        })                };                });            </script>        </div>"
      ]
     },
     "metadata": {},
     "output_type": "display_data"
    }
   ],
   "source": [
    "fig2 = px.histogram(bar_plot.query('類型 == \"天線\"'), x='Group', y='本國幣別NTD', color='預交年份', barmode='group', labels={'本國幣別NTD':'營業額', 'Group':'Customer', '預交年份':'Year'}, title='天線客戶歷年營收').update_xaxes(categoryorder='total descending').show()"
   ]
  },
  {
   "cell_type": "code",
   "execution_count": 127,
   "metadata": {
    "collapsed": true
   },
   "outputs": [
    {
     "data": {
      "application/vnd.plotly.v1+json": {
       "config": {
        "plotlyServerURL": "https://plot.ly"
       },
       "data": [
        {
         "domain": {
          "x": [
           0,
           1
          ],
          "y": [
           0,
           1
          ]
         },
         "hovertemplate": "負責業務=%{label}<br>本國幣別NTD=%{value}<extra></extra>",
         "labels": [
          "墨漢雷迪",
          "許凱智",
          "鄭里緗"
         ],
         "legendgroup": "",
         "name": "",
         "showlegend": true,
         "type": "pie",
         "values": [
          23011816,
          78287626,
          337619208
         ]
        }
       ],
       "layout": {
        "legend": {
         "tracegroupgap": 0
        },
        "margin": {
         "t": 60
        },
        "template": {
         "data": {
          "bar": [
           {
            "error_x": {
             "color": "#2a3f5f"
            },
            "error_y": {
             "color": "#2a3f5f"
            },
            "marker": {
             "line": {
              "color": "#E5ECF6",
              "width": 0.5
             }
            },
            "type": "bar"
           }
          ],
          "barpolar": [
           {
            "marker": {
             "line": {
              "color": "#E5ECF6",
              "width": 0.5
             }
            },
            "type": "barpolar"
           }
          ],
          "carpet": [
           {
            "aaxis": {
             "endlinecolor": "#2a3f5f",
             "gridcolor": "white",
             "linecolor": "white",
             "minorgridcolor": "white",
             "startlinecolor": "#2a3f5f"
            },
            "baxis": {
             "endlinecolor": "#2a3f5f",
             "gridcolor": "white",
             "linecolor": "white",
             "minorgridcolor": "white",
             "startlinecolor": "#2a3f5f"
            },
            "type": "carpet"
           }
          ],
          "choropleth": [
           {
            "colorbar": {
             "outlinewidth": 0,
             "ticks": ""
            },
            "type": "choropleth"
           }
          ],
          "contour": [
           {
            "colorbar": {
             "outlinewidth": 0,
             "ticks": ""
            },
            "colorscale": [
             [
              0,
              "#0d0887"
             ],
             [
              0.1111111111111111,
              "#46039f"
             ],
             [
              0.2222222222222222,
              "#7201a8"
             ],
             [
              0.3333333333333333,
              "#9c179e"
             ],
             [
              0.4444444444444444,
              "#bd3786"
             ],
             [
              0.5555555555555556,
              "#d8576b"
             ],
             [
              0.6666666666666666,
              "#ed7953"
             ],
             [
              0.7777777777777778,
              "#fb9f3a"
             ],
             [
              0.8888888888888888,
              "#fdca26"
             ],
             [
              1,
              "#f0f921"
             ]
            ],
            "type": "contour"
           }
          ],
          "contourcarpet": [
           {
            "colorbar": {
             "outlinewidth": 0,
             "ticks": ""
            },
            "type": "contourcarpet"
           }
          ],
          "heatmap": [
           {
            "colorbar": {
             "outlinewidth": 0,
             "ticks": ""
            },
            "colorscale": [
             [
              0,
              "#0d0887"
             ],
             [
              0.1111111111111111,
              "#46039f"
             ],
             [
              0.2222222222222222,
              "#7201a8"
             ],
             [
              0.3333333333333333,
              "#9c179e"
             ],
             [
              0.4444444444444444,
              "#bd3786"
             ],
             [
              0.5555555555555556,
              "#d8576b"
             ],
             [
              0.6666666666666666,
              "#ed7953"
             ],
             [
              0.7777777777777778,
              "#fb9f3a"
             ],
             [
              0.8888888888888888,
              "#fdca26"
             ],
             [
              1,
              "#f0f921"
             ]
            ],
            "type": "heatmap"
           }
          ],
          "heatmapgl": [
           {
            "colorbar": {
             "outlinewidth": 0,
             "ticks": ""
            },
            "colorscale": [
             [
              0,
              "#0d0887"
             ],
             [
              0.1111111111111111,
              "#46039f"
             ],
             [
              0.2222222222222222,
              "#7201a8"
             ],
             [
              0.3333333333333333,
              "#9c179e"
             ],
             [
              0.4444444444444444,
              "#bd3786"
             ],
             [
              0.5555555555555556,
              "#d8576b"
             ],
             [
              0.6666666666666666,
              "#ed7953"
             ],
             [
              0.7777777777777778,
              "#fb9f3a"
             ],
             [
              0.8888888888888888,
              "#fdca26"
             ],
             [
              1,
              "#f0f921"
             ]
            ],
            "type": "heatmapgl"
           }
          ],
          "histogram": [
           {
            "marker": {
             "colorbar": {
              "outlinewidth": 0,
              "ticks": ""
             }
            },
            "type": "histogram"
           }
          ],
          "histogram2d": [
           {
            "colorbar": {
             "outlinewidth": 0,
             "ticks": ""
            },
            "colorscale": [
             [
              0,
              "#0d0887"
             ],
             [
              0.1111111111111111,
              "#46039f"
             ],
             [
              0.2222222222222222,
              "#7201a8"
             ],
             [
              0.3333333333333333,
              "#9c179e"
             ],
             [
              0.4444444444444444,
              "#bd3786"
             ],
             [
              0.5555555555555556,
              "#d8576b"
             ],
             [
              0.6666666666666666,
              "#ed7953"
             ],
             [
              0.7777777777777778,
              "#fb9f3a"
             ],
             [
              0.8888888888888888,
              "#fdca26"
             ],
             [
              1,
              "#f0f921"
             ]
            ],
            "type": "histogram2d"
           }
          ],
          "histogram2dcontour": [
           {
            "colorbar": {
             "outlinewidth": 0,
             "ticks": ""
            },
            "colorscale": [
             [
              0,
              "#0d0887"
             ],
             [
              0.1111111111111111,
              "#46039f"
             ],
             [
              0.2222222222222222,
              "#7201a8"
             ],
             [
              0.3333333333333333,
              "#9c179e"
             ],
             [
              0.4444444444444444,
              "#bd3786"
             ],
             [
              0.5555555555555556,
              "#d8576b"
             ],
             [
              0.6666666666666666,
              "#ed7953"
             ],
             [
              0.7777777777777778,
              "#fb9f3a"
             ],
             [
              0.8888888888888888,
              "#fdca26"
             ],
             [
              1,
              "#f0f921"
             ]
            ],
            "type": "histogram2dcontour"
           }
          ],
          "mesh3d": [
           {
            "colorbar": {
             "outlinewidth": 0,
             "ticks": ""
            },
            "type": "mesh3d"
           }
          ],
          "parcoords": [
           {
            "line": {
             "colorbar": {
              "outlinewidth": 0,
              "ticks": ""
             }
            },
            "type": "parcoords"
           }
          ],
          "pie": [
           {
            "automargin": true,
            "type": "pie"
           }
          ],
          "scatter": [
           {
            "marker": {
             "colorbar": {
              "outlinewidth": 0,
              "ticks": ""
             }
            },
            "type": "scatter"
           }
          ],
          "scatter3d": [
           {
            "line": {
             "colorbar": {
              "outlinewidth": 0,
              "ticks": ""
             }
            },
            "marker": {
             "colorbar": {
              "outlinewidth": 0,
              "ticks": ""
             }
            },
            "type": "scatter3d"
           }
          ],
          "scattercarpet": [
           {
            "marker": {
             "colorbar": {
              "outlinewidth": 0,
              "ticks": ""
             }
            },
            "type": "scattercarpet"
           }
          ],
          "scattergeo": [
           {
            "marker": {
             "colorbar": {
              "outlinewidth": 0,
              "ticks": ""
             }
            },
            "type": "scattergeo"
           }
          ],
          "scattergl": [
           {
            "marker": {
             "colorbar": {
              "outlinewidth": 0,
              "ticks": ""
             }
            },
            "type": "scattergl"
           }
          ],
          "scattermapbox": [
           {
            "marker": {
             "colorbar": {
              "outlinewidth": 0,
              "ticks": ""
             }
            },
            "type": "scattermapbox"
           }
          ],
          "scatterpolar": [
           {
            "marker": {
             "colorbar": {
              "outlinewidth": 0,
              "ticks": ""
             }
            },
            "type": "scatterpolar"
           }
          ],
          "scatterpolargl": [
           {
            "marker": {
             "colorbar": {
              "outlinewidth": 0,
              "ticks": ""
             }
            },
            "type": "scatterpolargl"
           }
          ],
          "scatterternary": [
           {
            "marker": {
             "colorbar": {
              "outlinewidth": 0,
              "ticks": ""
             }
            },
            "type": "scatterternary"
           }
          ],
          "surface": [
           {
            "colorbar": {
             "outlinewidth": 0,
             "ticks": ""
            },
            "colorscale": [
             [
              0,
              "#0d0887"
             ],
             [
              0.1111111111111111,
              "#46039f"
             ],
             [
              0.2222222222222222,
              "#7201a8"
             ],
             [
              0.3333333333333333,
              "#9c179e"
             ],
             [
              0.4444444444444444,
              "#bd3786"
             ],
             [
              0.5555555555555556,
              "#d8576b"
             ],
             [
              0.6666666666666666,
              "#ed7953"
             ],
             [
              0.7777777777777778,
              "#fb9f3a"
             ],
             [
              0.8888888888888888,
              "#fdca26"
             ],
             [
              1,
              "#f0f921"
             ]
            ],
            "type": "surface"
           }
          ],
          "table": [
           {
            "cells": {
             "fill": {
              "color": "#EBF0F8"
             },
             "line": {
              "color": "white"
             }
            },
            "header": {
             "fill": {
              "color": "#C8D4E3"
             },
             "line": {
              "color": "white"
             }
            },
            "type": "table"
           }
          ]
         },
         "layout": {
          "annotationdefaults": {
           "arrowcolor": "#2a3f5f",
           "arrowhead": 0,
           "arrowwidth": 1
          },
          "coloraxis": {
           "colorbar": {
            "outlinewidth": 0,
            "ticks": ""
           }
          },
          "colorscale": {
           "diverging": [
            [
             0,
             "#8e0152"
            ],
            [
             0.1,
             "#c51b7d"
            ],
            [
             0.2,
             "#de77ae"
            ],
            [
             0.3,
             "#f1b6da"
            ],
            [
             0.4,
             "#fde0ef"
            ],
            [
             0.5,
             "#f7f7f7"
            ],
            [
             0.6,
             "#e6f5d0"
            ],
            [
             0.7,
             "#b8e186"
            ],
            [
             0.8,
             "#7fbc41"
            ],
            [
             0.9,
             "#4d9221"
            ],
            [
             1,
             "#276419"
            ]
           ],
           "sequential": [
            [
             0,
             "#0d0887"
            ],
            [
             0.1111111111111111,
             "#46039f"
            ],
            [
             0.2222222222222222,
             "#7201a8"
            ],
            [
             0.3333333333333333,
             "#9c179e"
            ],
            [
             0.4444444444444444,
             "#bd3786"
            ],
            [
             0.5555555555555556,
             "#d8576b"
            ],
            [
             0.6666666666666666,
             "#ed7953"
            ],
            [
             0.7777777777777778,
             "#fb9f3a"
            ],
            [
             0.8888888888888888,
             "#fdca26"
            ],
            [
             1,
             "#f0f921"
            ]
           ],
           "sequentialminus": [
            [
             0,
             "#0d0887"
            ],
            [
             0.1111111111111111,
             "#46039f"
            ],
            [
             0.2222222222222222,
             "#7201a8"
            ],
            [
             0.3333333333333333,
             "#9c179e"
            ],
            [
             0.4444444444444444,
             "#bd3786"
            ],
            [
             0.5555555555555556,
             "#d8576b"
            ],
            [
             0.6666666666666666,
             "#ed7953"
            ],
            [
             0.7777777777777778,
             "#fb9f3a"
            ],
            [
             0.8888888888888888,
             "#fdca26"
            ],
            [
             1,
             "#f0f921"
            ]
           ]
          },
          "colorway": [
           "#636efa",
           "#EF553B",
           "#00cc96",
           "#ab63fa",
           "#FFA15A",
           "#19d3f3",
           "#FF6692",
           "#B6E880",
           "#FF97FF",
           "#FECB52"
          ],
          "font": {
           "color": "#2a3f5f"
          },
          "geo": {
           "bgcolor": "white",
           "lakecolor": "white",
           "landcolor": "#E5ECF6",
           "showlakes": true,
           "showland": true,
           "subunitcolor": "white"
          },
          "hoverlabel": {
           "align": "left"
          },
          "hovermode": "closest",
          "mapbox": {
           "style": "light"
          },
          "paper_bgcolor": "white",
          "plot_bgcolor": "#E5ECF6",
          "polar": {
           "angularaxis": {
            "gridcolor": "white",
            "linecolor": "white",
            "ticks": ""
           },
           "bgcolor": "#E5ECF6",
           "radialaxis": {
            "gridcolor": "white",
            "linecolor": "white",
            "ticks": ""
           }
          },
          "scene": {
           "xaxis": {
            "backgroundcolor": "#E5ECF6",
            "gridcolor": "white",
            "gridwidth": 2,
            "linecolor": "white",
            "showbackground": true,
            "ticks": "",
            "zerolinecolor": "white"
           },
           "yaxis": {
            "backgroundcolor": "#E5ECF6",
            "gridcolor": "white",
            "gridwidth": 2,
            "linecolor": "white",
            "showbackground": true,
            "ticks": "",
            "zerolinecolor": "white"
           },
           "zaxis": {
            "backgroundcolor": "#E5ECF6",
            "gridcolor": "white",
            "gridwidth": 2,
            "linecolor": "white",
            "showbackground": true,
            "ticks": "",
            "zerolinecolor": "white"
           }
          },
          "shapedefaults": {
           "line": {
            "color": "#2a3f5f"
           }
          },
          "ternary": {
           "aaxis": {
            "gridcolor": "white",
            "linecolor": "white",
            "ticks": ""
           },
           "baxis": {
            "gridcolor": "white",
            "linecolor": "white",
            "ticks": ""
           },
           "bgcolor": "#E5ECF6",
           "caxis": {
            "gridcolor": "white",
            "linecolor": "white",
            "ticks": ""
           }
          },
          "title": {
           "x": 0.05
          },
          "xaxis": {
           "automargin": true,
           "gridcolor": "white",
           "linecolor": "white",
           "ticks": "",
           "title": {
            "standoff": 15
           },
           "zerolinecolor": "white",
           "zerolinewidth": 2
          },
          "yaxis": {
           "automargin": true,
           "gridcolor": "white",
           "linecolor": "white",
           "ticks": "",
           "title": {
            "standoff": 15
           },
           "zerolinecolor": "white",
           "zerolinewidth": 2
          }
         }
        }
       }
      },
      "text/html": [
       "<div>                            <div id=\"686ce374-9210-4168-868d-b4c1d9b7ceef\" class=\"plotly-graph-div\" style=\"height:525px; width:100%;\"></div>            <script type=\"text/javascript\">                require([\"plotly\"], function(Plotly) {                    window.PLOTLYENV=window.PLOTLYENV || {};                                    if (document.getElementById(\"686ce374-9210-4168-868d-b4c1d9b7ceef\")) {                    Plotly.newPlot(                        \"686ce374-9210-4168-868d-b4c1d9b7ceef\",                        [{\"domain\": {\"x\": [0.0, 1.0], \"y\": [0.0, 1.0]}, \"hovertemplate\": \"\\u8ca0\\u8cac\\u696d\\u52d9=%{label}<br>\\u672c\\u570b\\u5e63\\u5225NTD=%{value}<extra></extra>\", \"labels\": [\"\\u58a8\\u6f22\\u96f7\\u8fea\", \"\\u8a31\\u51f1\\u667a\", \"\\u912d\\u91cc\\u7dd7\"], \"legendgroup\": \"\", \"name\": \"\", \"showlegend\": true, \"type\": \"pie\", \"values\": [23011816, 78287626, 337619208]}],                        {\"legend\": {\"tracegroupgap\": 0}, \"margin\": {\"t\": 60}, \"template\": {\"data\": {\"bar\": [{\"error_x\": {\"color\": \"#2a3f5f\"}, \"error_y\": {\"color\": \"#2a3f5f\"}, \"marker\": {\"line\": {\"color\": \"#E5ECF6\", \"width\": 0.5}}, \"type\": \"bar\"}], \"barpolar\": [{\"marker\": {\"line\": {\"color\": \"#E5ECF6\", \"width\": 0.5}}, \"type\": \"barpolar\"}], \"carpet\": [{\"aaxis\": {\"endlinecolor\": \"#2a3f5f\", \"gridcolor\": \"white\", \"linecolor\": \"white\", \"minorgridcolor\": \"white\", \"startlinecolor\": \"#2a3f5f\"}, \"baxis\": {\"endlinecolor\": \"#2a3f5f\", \"gridcolor\": \"white\", \"linecolor\": \"white\", \"minorgridcolor\": \"white\", \"startlinecolor\": \"#2a3f5f\"}, \"type\": \"carpet\"}], \"choropleth\": [{\"colorbar\": {\"outlinewidth\": 0, \"ticks\": \"\"}, \"type\": \"choropleth\"}], \"contour\": [{\"colorbar\": {\"outlinewidth\": 0, \"ticks\": \"\"}, \"colorscale\": [[0.0, \"#0d0887\"], [0.1111111111111111, \"#46039f\"], [0.2222222222222222, \"#7201a8\"], [0.3333333333333333, \"#9c179e\"], [0.4444444444444444, \"#bd3786\"], [0.5555555555555556, \"#d8576b\"], [0.6666666666666666, \"#ed7953\"], [0.7777777777777778, \"#fb9f3a\"], [0.8888888888888888, \"#fdca26\"], [1.0, \"#f0f921\"]], \"type\": \"contour\"}], \"contourcarpet\": [{\"colorbar\": {\"outlinewidth\": 0, \"ticks\": \"\"}, \"type\": \"contourcarpet\"}], \"heatmap\": [{\"colorbar\": {\"outlinewidth\": 0, \"ticks\": \"\"}, \"colorscale\": [[0.0, \"#0d0887\"], [0.1111111111111111, \"#46039f\"], [0.2222222222222222, \"#7201a8\"], [0.3333333333333333, \"#9c179e\"], [0.4444444444444444, \"#bd3786\"], [0.5555555555555556, \"#d8576b\"], [0.6666666666666666, \"#ed7953\"], [0.7777777777777778, \"#fb9f3a\"], [0.8888888888888888, \"#fdca26\"], [1.0, \"#f0f921\"]], \"type\": \"heatmap\"}], \"heatmapgl\": [{\"colorbar\": {\"outlinewidth\": 0, \"ticks\": \"\"}, \"colorscale\": [[0.0, \"#0d0887\"], [0.1111111111111111, \"#46039f\"], [0.2222222222222222, \"#7201a8\"], [0.3333333333333333, \"#9c179e\"], [0.4444444444444444, \"#bd3786\"], [0.5555555555555556, \"#d8576b\"], [0.6666666666666666, \"#ed7953\"], [0.7777777777777778, \"#fb9f3a\"], [0.8888888888888888, \"#fdca26\"], [1.0, \"#f0f921\"]], \"type\": \"heatmapgl\"}], \"histogram\": [{\"marker\": {\"colorbar\": {\"outlinewidth\": 0, \"ticks\": \"\"}}, \"type\": \"histogram\"}], \"histogram2d\": [{\"colorbar\": {\"outlinewidth\": 0, \"ticks\": \"\"}, \"colorscale\": [[0.0, \"#0d0887\"], [0.1111111111111111, \"#46039f\"], [0.2222222222222222, \"#7201a8\"], [0.3333333333333333, \"#9c179e\"], [0.4444444444444444, \"#bd3786\"], [0.5555555555555556, \"#d8576b\"], [0.6666666666666666, \"#ed7953\"], [0.7777777777777778, \"#fb9f3a\"], [0.8888888888888888, \"#fdca26\"], [1.0, \"#f0f921\"]], \"type\": \"histogram2d\"}], \"histogram2dcontour\": [{\"colorbar\": {\"outlinewidth\": 0, \"ticks\": \"\"}, \"colorscale\": [[0.0, \"#0d0887\"], [0.1111111111111111, \"#46039f\"], [0.2222222222222222, \"#7201a8\"], [0.3333333333333333, \"#9c179e\"], [0.4444444444444444, \"#bd3786\"], [0.5555555555555556, \"#d8576b\"], [0.6666666666666666, \"#ed7953\"], [0.7777777777777778, \"#fb9f3a\"], [0.8888888888888888, \"#fdca26\"], [1.0, \"#f0f921\"]], \"type\": \"histogram2dcontour\"}], \"mesh3d\": [{\"colorbar\": {\"outlinewidth\": 0, \"ticks\": \"\"}, \"type\": \"mesh3d\"}], \"parcoords\": [{\"line\": {\"colorbar\": {\"outlinewidth\": 0, \"ticks\": \"\"}}, \"type\": \"parcoords\"}], \"pie\": [{\"automargin\": true, \"type\": \"pie\"}], \"scatter\": [{\"marker\": {\"colorbar\": {\"outlinewidth\": 0, \"ticks\": \"\"}}, \"type\": \"scatter\"}], \"scatter3d\": [{\"line\": {\"colorbar\": {\"outlinewidth\": 0, \"ticks\": \"\"}}, \"marker\": {\"colorbar\": {\"outlinewidth\": 0, \"ticks\": \"\"}}, \"type\": \"scatter3d\"}], \"scattercarpet\": [{\"marker\": {\"colorbar\": {\"outlinewidth\": 0, \"ticks\": \"\"}}, \"type\": \"scattercarpet\"}], \"scattergeo\": [{\"marker\": {\"colorbar\": {\"outlinewidth\": 0, \"ticks\": \"\"}}, \"type\": \"scattergeo\"}], \"scattergl\": [{\"marker\": {\"colorbar\": {\"outlinewidth\": 0, \"ticks\": \"\"}}, \"type\": \"scattergl\"}], \"scattermapbox\": [{\"marker\": {\"colorbar\": {\"outlinewidth\": 0, \"ticks\": \"\"}}, \"type\": \"scattermapbox\"}], \"scatterpolar\": [{\"marker\": {\"colorbar\": {\"outlinewidth\": 0, \"ticks\": \"\"}}, \"type\": \"scatterpolar\"}], \"scatterpolargl\": [{\"marker\": {\"colorbar\": {\"outlinewidth\": 0, \"ticks\": \"\"}}, \"type\": \"scatterpolargl\"}], \"scatterternary\": [{\"marker\": {\"colorbar\": {\"outlinewidth\": 0, \"ticks\": \"\"}}, \"type\": \"scatterternary\"}], \"surface\": [{\"colorbar\": {\"outlinewidth\": 0, \"ticks\": \"\"}, \"colorscale\": [[0.0, \"#0d0887\"], [0.1111111111111111, \"#46039f\"], [0.2222222222222222, \"#7201a8\"], [0.3333333333333333, \"#9c179e\"], [0.4444444444444444, \"#bd3786\"], [0.5555555555555556, \"#d8576b\"], [0.6666666666666666, \"#ed7953\"], [0.7777777777777778, \"#fb9f3a\"], [0.8888888888888888, \"#fdca26\"], [1.0, \"#f0f921\"]], \"type\": \"surface\"}], \"table\": [{\"cells\": {\"fill\": {\"color\": \"#EBF0F8\"}, \"line\": {\"color\": \"white\"}}, \"header\": {\"fill\": {\"color\": \"#C8D4E3\"}, \"line\": {\"color\": \"white\"}}, \"type\": \"table\"}]}, \"layout\": {\"annotationdefaults\": {\"arrowcolor\": \"#2a3f5f\", \"arrowhead\": 0, \"arrowwidth\": 1}, \"coloraxis\": {\"colorbar\": {\"outlinewidth\": 0, \"ticks\": \"\"}}, \"colorscale\": {\"diverging\": [[0, \"#8e0152\"], [0.1, \"#c51b7d\"], [0.2, \"#de77ae\"], [0.3, \"#f1b6da\"], [0.4, \"#fde0ef\"], [0.5, \"#f7f7f7\"], [0.6, \"#e6f5d0\"], [0.7, \"#b8e186\"], [0.8, \"#7fbc41\"], [0.9, \"#4d9221\"], [1, \"#276419\"]], \"sequential\": [[0.0, \"#0d0887\"], [0.1111111111111111, \"#46039f\"], [0.2222222222222222, \"#7201a8\"], [0.3333333333333333, \"#9c179e\"], [0.4444444444444444, \"#bd3786\"], [0.5555555555555556, \"#d8576b\"], [0.6666666666666666, \"#ed7953\"], [0.7777777777777778, \"#fb9f3a\"], [0.8888888888888888, \"#fdca26\"], [1.0, \"#f0f921\"]], \"sequentialminus\": [[0.0, \"#0d0887\"], [0.1111111111111111, \"#46039f\"], [0.2222222222222222, \"#7201a8\"], [0.3333333333333333, \"#9c179e\"], [0.4444444444444444, \"#bd3786\"], [0.5555555555555556, \"#d8576b\"], [0.6666666666666666, \"#ed7953\"], [0.7777777777777778, \"#fb9f3a\"], [0.8888888888888888, \"#fdca26\"], [1.0, \"#f0f921\"]]}, \"colorway\": [\"#636efa\", \"#EF553B\", \"#00cc96\", \"#ab63fa\", \"#FFA15A\", \"#19d3f3\", \"#FF6692\", \"#B6E880\", \"#FF97FF\", \"#FECB52\"], \"font\": {\"color\": \"#2a3f5f\"}, \"geo\": {\"bgcolor\": \"white\", \"lakecolor\": \"white\", \"landcolor\": \"#E5ECF6\", \"showlakes\": true, \"showland\": true, \"subunitcolor\": \"white\"}, \"hoverlabel\": {\"align\": \"left\"}, \"hovermode\": \"closest\", \"mapbox\": {\"style\": \"light\"}, \"paper_bgcolor\": \"white\", \"plot_bgcolor\": \"#E5ECF6\", \"polar\": {\"angularaxis\": {\"gridcolor\": \"white\", \"linecolor\": \"white\", \"ticks\": \"\"}, \"bgcolor\": \"#E5ECF6\", \"radialaxis\": {\"gridcolor\": \"white\", \"linecolor\": \"white\", \"ticks\": \"\"}}, \"scene\": {\"xaxis\": {\"backgroundcolor\": \"#E5ECF6\", \"gridcolor\": \"white\", \"gridwidth\": 2, \"linecolor\": \"white\", \"showbackground\": true, \"ticks\": \"\", \"zerolinecolor\": \"white\"}, \"yaxis\": {\"backgroundcolor\": \"#E5ECF6\", \"gridcolor\": \"white\", \"gridwidth\": 2, \"linecolor\": \"white\", \"showbackground\": true, \"ticks\": \"\", \"zerolinecolor\": \"white\"}, \"zaxis\": {\"backgroundcolor\": \"#E5ECF6\", \"gridcolor\": \"white\", \"gridwidth\": 2, \"linecolor\": \"white\", \"showbackground\": true, \"ticks\": \"\", \"zerolinecolor\": \"white\"}}, \"shapedefaults\": {\"line\": {\"color\": \"#2a3f5f\"}}, \"ternary\": {\"aaxis\": {\"gridcolor\": \"white\", \"linecolor\": \"white\", \"ticks\": \"\"}, \"baxis\": {\"gridcolor\": \"white\", \"linecolor\": \"white\", \"ticks\": \"\"}, \"bgcolor\": \"#E5ECF6\", \"caxis\": {\"gridcolor\": \"white\", \"linecolor\": \"white\", \"ticks\": \"\"}}, \"title\": {\"x\": 0.05}, \"xaxis\": {\"automargin\": true, \"gridcolor\": \"white\", \"linecolor\": \"white\", \"ticks\": \"\", \"title\": {\"standoff\": 15}, \"zerolinecolor\": \"white\", \"zerolinewidth\": 2}, \"yaxis\": {\"automargin\": true, \"gridcolor\": \"white\", \"linecolor\": \"white\", \"ticks\": \"\", \"title\": {\"standoff\": 15}, \"zerolinecolor\": \"white\", \"zerolinewidth\": 2}}}},                        {\"responsive\": true}                    ).then(function(){\n",
       "                            \n",
       "var gd = document.getElementById('686ce374-9210-4168-868d-b4c1d9b7ceef');\n",
       "var x = new MutationObserver(function (mutations, observer) {{\n",
       "        var display = window.getComputedStyle(gd).display;\n",
       "        if (!display || display === 'none') {{\n",
       "            console.log([gd, 'removed!']);\n",
       "            Plotly.purge(gd);\n",
       "            observer.disconnect();\n",
       "        }}\n",
       "}});\n",
       "\n",
       "// Listen for the removal of the full notebook cells\n",
       "var notebookContainer = gd.closest('#notebook-container');\n",
       "if (notebookContainer) {{\n",
       "    x.observe(notebookContainer, {childList: true});\n",
       "}}\n",
       "\n",
       "// Listen for the clearing of the current output cell\n",
       "var outputEl = gd.closest('.output');\n",
       "if (outputEl) {{\n",
       "    x.observe(outputEl, {childList: true});\n",
       "}}\n",
       "\n",
       "                        })                };                });            </script>        </div>"
      ]
     },
     "metadata": {},
     "output_type": "display_data"
    }
   ],
   "source": [
    "pie_data = result[result['預交年份'] == 2020]\n",
    "pie_group = pie_data.groupby(['負責業務'])[['本國幣別NTD']].sum().reset_index()\n",
    "px.pie(pie_group, values='本國幣別NTD', names='負責業務')\n"
   ]
  },
  {
   "cell_type": "code",
   "execution_count": 131,
   "metadata": {},
   "outputs": [
    {
     "data": {
      "application/vnd.plotly.v1+json": {
       "config": {
        "plotlyServerURL": "https://plot.ly"
       },
       "data": [
        {
         "branchvalues": "total",
         "customdata": [
          [
           2313905.0519111124
          ],
          [
           930468.1676526173
          ],
          [
           1237932.757403104
          ],
          [
           1214450.2598892557
          ],
          [
           1
          ],
          [
           1
          ],
          [
           7071304.545081831
          ],
          [
           6091045.2614778085
          ],
          [
           6415995.819764035
          ],
          [
           6535929.193115314
          ],
          [
           448632.90449687216
          ],
          [
           248325.3634472414
          ],
          [
           208006.0110484298
          ],
          [
           120667.79352297926
          ],
          [
           1932548.3447117696
          ],
          [
           2595948.758465897
          ],
          [
           2999569.4066961063
          ],
          [
           3338714.671984847
          ],
          [
           2000
          ],
          [
           5000
          ],
          [
           2
          ],
          [
           10005885.593747338
          ],
          [
           7761802.100427812
          ],
          [
           21728680.21947201
          ],
          [
           19496696.074269146
          ],
          [
           1573947.3587755738
          ],
          [
           1749790.731608721
          ],
          [
           1033043.4534069275
          ],
          [
           780417.6401923067
          ],
          [
           1462.716684602733
          ],
          [
           1
          ],
          [
           25
          ],
          [
           33816.93568788238
          ],
          [
           27016190.3535169
          ],
          [
           34927547.9077332
          ],
          [
           43263450.20611647
          ],
          [
           43281689.39043179
          ],
          [
           92918
          ],
          [
           391384.5155938377
          ],
          [
           957271.8490977578
          ],
          [
           375312.7105996085
          ],
          [
           24341.935344049125
          ],
          [
           27120819.469440266
          ],
          [
           11629862.874200294
          ],
          [
           35961006.220108725
          ],
          [
           41177400.971069306
          ],
          [
           5690.095098756401
          ],
          [
           1232.3733055864366
          ],
          [
           310874.1202009379
          ],
          [
           313241.53260779555
          ],
          [
           762909.5834059356
          ],
          [
           533338.2340490066
          ],
          [
           600
          ],
          [
           3200
          ],
          [
           4382.149614439574
          ],
          [
           46719.430607222836
          ],
          [
           131993.6293250454
          ],
          [
           8000
          ],
          [
           57528.015970237284
          ],
          [
           307544.9526261201
          ],
          [
           554721.8755303733
          ],
          [
           1
          ],
          [
           119047.25611902626
          ],
          [
           98567.48229732414
          ],
          [
           101404.20283751695
          ],
          [
           56716.31553160216
          ],
          [
           14664.04725392806
          ],
          [
           43657.32440982739
          ],
          [
           40169.5746740005
          ],
          [
           212178.44016802765
          ],
          [
           275088.1135255572
          ],
          [
           82909.2576591881
          ],
          [
           30318.354813597438
          ],
          [
           104776.89807661569
          ],
          [
           1000.2894640009812
          ],
          [
           11160.595586280244
          ],
          [
           5000
          ],
          [
           8588205.34116793
          ],
          [
           2590638.619519421
          ],
          [
           38589.23751628131
          ],
          [
           21704
          ],
          [
           1864576.7039087112
          ],
          [
           2395258.4540105816
          ],
          [
           3364719.544812984
          ],
          [
           118797.22736148421
          ],
          [
           191198.13114443407
          ],
          [
           382699.4572881525
          ],
          [
           108858.3401896513
          ],
          [
           9000
          ],
          [
           20280
          ],
          [
           24311.846495310376
          ],
          [
           9968.965313556262
          ],
          [
           10000
          ],
          [
           20
          ],
          [
           1
          ],
          [
           1
          ],
          [
           3859810.664700295
          ],
          [
           3520828.7523633013
          ],
          [
           3607776.0750718545
          ],
          [
           3853356.91362214
          ],
          [
           74284.08648791835
          ],
          [
           10375.053789399499
          ],
          [
           20000
          ],
          [
           303
          ],
          [
           2500.0037195462155
          ],
          [
           100
          ],
          [
           12169095.415959252
          ],
          [
           490710.3061134988
          ],
          [
           3970853.6176308077
          ],
          [
           1990910.570933145
          ],
          [
           310619.2322400353
          ],
          [
           6331402.845575438
          ],
          [
           3884574.1766402894
          ],
          [
           3737911.945190799
          ],
          [
           864512.4273032742
          ],
          [
           21000
          ],
          [
           1276205.8122257162
          ],
          [
           2462398.047930753
          ],
          [
           16485669.599962551
          ],
          [
           10321445.65236263
          ],
          [
           2823401
          ],
          [
           1
          ],
          [
           25000
          ],
          [
           3473853.136486342
          ],
          [
           6547316.645922155
          ],
          [
           43823602.76034923
          ],
          [
           8000
          ],
          [
           78923.60419871505
          ],
          [
           42395437.00027571
          ],
          [
           852220.4814212202
          ],
          [
           2557117.4061131375
          ],
          [
           3227909.0914843017
          ],
          [
           103178.84506957146
          ],
          [
           17684311.066510074
          ],
          [
           5021562.914764143
          ],
          [
           21801718.578450453
          ],
          [
           22858075.068050392
          ],
          [
           92918
          ],
          [
           391384.5155938377
          ],
          [
           957271.8490977578
          ],
          [
           375312.7105996085
          ],
          [
           19.87665731101146
          ],
          [
           413234.1369004445
          ],
          [
           17.837390282799507
          ],
          [
           16764134.075193552
          ],
          [
           22031731.341034144
          ],
          [
           29396687.378687214
          ],
          [
           29966265.02504799
          ],
          [
           234989.2283513267
          ],
          [
           153823.50119412696
          ],
          [
           3190304.757137799
          ],
          [
           1131774.4792536239
          ],
          [
           1646063.504385354
          ],
          [
           3332125.724073892
          ],
          [
           2655882.836733079
          ],
          [
           29508416.584566347
          ],
          [
           13787718.962794438
          ],
          [
           13421865.955798808
          ],
          [
           18412105.79491507
          ],
          [
           22886765.507540897
          ]
         ],
         "domain": {
          "x": [
           0,
           1
          ],
          "y": [
           0,
           1
          ]
         },
         "hovertemplate": "labels=%{label}<br>本國幣別NTD=%{value}<br>parent=%{parent}<br>id=%{id}<br>數量=%{color}<extra></extra>",
         "ids": [
          "2018/EMC/Bourns",
          "2019/EMC/Bourns",
          "2020/EMC/Bourns",
          "2021/EMC/Bourns",
          "2018/Others/Bourns",
          "2020/Others/Bourns",
          "2018/PC/Bourns",
          "2019/PC/Bourns",
          "2020/PC/Bourns",
          "2021/PC/Bourns",
          "2018/RF/Bourns",
          "2019/RF/Bourns",
          "2020/RF/Bourns",
          "2021/RF/Bourns",
          "2018/WIP/Bourns",
          "2019/WIP/Bourns",
          "2020/WIP/Bourns",
          "2021/WIP/Bourns",
          "2018/RF/CAME",
          "2019/RF/Credence",
          "2020/Others/Eaton",
          "2018/PC/Eaton",
          "2019/PC/Eaton",
          "2020/PC/Eaton",
          "2021/PC/Eaton",
          "2018/WIP/Eaton",
          "2019/WIP/Eaton",
          "2020/WIP/Eaton",
          "2021/WIP/Eaton",
          "2019/RF/Eteily",
          "2020/Others/Fides",
          "2019/RF/Globalte",
          "2019/Others/LF",
          "2018/PC/LF",
          "2019/PC/LF",
          "2020/PC/LF",
          "2021/PC/LF",
          "2018/ODM/LF OEM",
          "2019/ODM/LF OEM",
          "2020/ODM/LF OEM",
          "2021/ODM/LF OEM",
          "2021/AIP/Laird",
          "2018/EMC/Laird",
          "2019/EMC/Laird",
          "2020/EMC/Laird",
          "2021/EMC/Laird",
          "2020/PC/Laird",
          "2021/RF/Laird",
          "2018/WIP/Laird",
          "2019/WIP/Laird",
          "2020/WIP/Laird",
          "2021/WIP/Laird",
          "2020/Others/MS",
          "2019/RF/MS",
          "2020/RF/MS",
          "2021/RF/MS",
          "2021/AIP/MT-SYSTEM",
          "2018/EMC/MT-SYSTEM",
          "2019/EMC/MT-SYSTEM",
          "2020/EMC/MT-SYSTEM",
          "2021/EMC/MT-SYSTEM",
          "2020/Others/MT-SYSTEM",
          "2018/PC/MT-SYSTEM",
          "2019/PC/MT-SYSTEM",
          "2020/PC/MT-SYSTEM",
          "2021/PC/MT-SYSTEM",
          "2018/RF/MT-SYSTEM",
          "2019/RF/MT-SYSTEM",
          "2020/RF/MT-SYSTEM",
          "2021/RF/MT-SYSTEM",
          "2018/WIP/MT-SYSTEM",
          "2019/WIP/MT-SYSTEM",
          "2020/WIP/MT-SYSTEM",
          "2021/WIP/MT-SYSTEM",
          "2020/RF/Nexty",
          "2021/RF/Nexty",
          "2021/RF/OSE",
          "2020/RF/Reliance",
          "2021/RF/Reliance",
          "2019/RF/TE",
          "2020/RF/TE",
          "2019/EMC/TELTONIKA",
          "2020/EMC/TELTONIKA",
          "2021/EMC/TELTONIKA",
          "2018/RF/TELTONIKA",
          "2019/RF/TELTONIKA",
          "2020/RF/TELTONIKA",
          "2021/RF/TELTONIKA",
          "2019/WIP/TELTONIKA",
          "2020/WIP/TELTONIKA",
          "2021/WIP/TELTONIKA",
          "2020/RF/Unified",
          "2021/RF/Unified",
          "2018/Others/WE",
          "2019/Others/WE",
          "2020/Others/WE",
          "2018/PC/WE",
          "2019/PC/WE",
          "2020/PC/WE",
          "2021/PC/WE",
          "2020/RF/WE",
          "2021/RF/WE",
          "2019/PC/WiSilica",
          "2020/Others/Zebra",
          "2018/RF/Zebra",
          "2020/RF/Zebra",
          "2018/EMC/信昌",
          "2019/EMC/信昌",
          "2020/EMC/信昌",
          "2021/EMC/信昌",
          "2018/WIP/信昌",
          "2019/WIP/信昌",
          "2020/WIP/信昌",
          "2021/WIP/信昌",
          "2019/EMC/東莞弘電",
          "2020/EMC/東莞弘電",
          "2018/EMC/華新科技",
          "2019/EMC/華新科技",
          "2020/EMC/華新科技",
          "2021/EMC/華新科技",
          "2019/Others/華新科技",
          "2020/Others/華新科技",
          "2018/PC/華新科技",
          "2019/PC/華新科技",
          "2020/PC/華新科技",
          "2021/PC/華新科技",
          "2020/RF/華新科技",
          "2020/WIP/華新科技",
          "2021/WIP/華新科技",
          "2019/WIP/藝感",
          "2020/WIP/藝感",
          "2021/WIP/藝感",
          "2021/AIP",
          "2018/EMC",
          "2019/EMC",
          "2020/EMC",
          "2021/EMC",
          "2018/ODM",
          "2019/ODM",
          "2020/ODM",
          "2021/ODM",
          "2018/Others",
          "2019/Others",
          "2020/Others",
          "2018/PC",
          "2019/PC",
          "2020/PC",
          "2021/PC",
          "2018/RF",
          "2019/RF",
          "2020/RF",
          "2021/RF",
          "2018/WIP",
          "2019/WIP",
          "2020/WIP",
          "2021/WIP",
          "2018",
          "2019",
          "2020",
          "2021"
         ],
         "labels": [
          "Bourns",
          "Bourns",
          "Bourns",
          "Bourns",
          "Bourns",
          "Bourns",
          "Bourns",
          "Bourns",
          "Bourns",
          "Bourns",
          "Bourns",
          "Bourns",
          "Bourns",
          "Bourns",
          "Bourns",
          "Bourns",
          "Bourns",
          "Bourns",
          "CAME",
          "Credence",
          "Eaton",
          "Eaton",
          "Eaton",
          "Eaton",
          "Eaton",
          "Eaton",
          "Eaton",
          "Eaton",
          "Eaton",
          "Eteily",
          "Fides",
          "Globalte",
          "LF",
          "LF",
          "LF",
          "LF",
          "LF",
          "LF OEM",
          "LF OEM",
          "LF OEM",
          "LF OEM",
          "Laird",
          "Laird",
          "Laird",
          "Laird",
          "Laird",
          "Laird",
          "Laird",
          "Laird",
          "Laird",
          "Laird",
          "Laird",
          "MS",
          "MS",
          "MS",
          "MS",
          "MT-SYSTEM",
          "MT-SYSTEM",
          "MT-SYSTEM",
          "MT-SYSTEM",
          "MT-SYSTEM",
          "MT-SYSTEM",
          "MT-SYSTEM",
          "MT-SYSTEM",
          "MT-SYSTEM",
          "MT-SYSTEM",
          "MT-SYSTEM",
          "MT-SYSTEM",
          "MT-SYSTEM",
          "MT-SYSTEM",
          "MT-SYSTEM",
          "MT-SYSTEM",
          "MT-SYSTEM",
          "MT-SYSTEM",
          "Nexty",
          "Nexty",
          "OSE",
          "Reliance",
          "Reliance",
          "TE",
          "TE",
          "TELTONIKA",
          "TELTONIKA",
          "TELTONIKA",
          "TELTONIKA",
          "TELTONIKA",
          "TELTONIKA",
          "TELTONIKA",
          "TELTONIKA",
          "TELTONIKA",
          "TELTONIKA",
          "Unified",
          "Unified",
          "WE",
          "WE",
          "WE",
          "WE",
          "WE",
          "WE",
          "WE",
          "WE",
          "WE",
          "WiSilica",
          "Zebra",
          "Zebra",
          "Zebra",
          "信昌",
          "信昌",
          "信昌",
          "信昌",
          "信昌",
          "信昌",
          "信昌",
          "信昌",
          "東莞弘電",
          "東莞弘電",
          "華新科技",
          "華新科技",
          "華新科技",
          "華新科技",
          "華新科技",
          "華新科技",
          "華新科技",
          "華新科技",
          "華新科技",
          "華新科技",
          "華新科技",
          "華新科技",
          "華新科技",
          "藝感",
          "藝感",
          "藝感",
          "AIP",
          "EMC",
          "EMC",
          "EMC",
          "EMC",
          "ODM",
          "ODM",
          "ODM",
          "ODM",
          "Others",
          "Others",
          "Others",
          "PC",
          "PC",
          "PC",
          "PC",
          "RF",
          "RF",
          "RF",
          "RF",
          "WIP",
          "WIP",
          "WIP",
          "WIP",
          "2018",
          "2019",
          "2020",
          "2021"
         ],
         "marker": {
          "coloraxis": "coloraxis",
          "colors": [
           2313905.0519111124,
           930468.1676526173,
           1237932.757403104,
           1214450.2598892557,
           1,
           1,
           7071304.545081831,
           6091045.2614778085,
           6415995.819764035,
           6535929.193115314,
           448632.90449687216,
           248325.3634472414,
           208006.0110484298,
           120667.79352297926,
           1932548.3447117696,
           2595948.758465897,
           2999569.4066961063,
           3338714.671984847,
           2000,
           5000,
           2,
           10005885.593747338,
           7761802.100427812,
           21728680.21947201,
           19496696.074269146,
           1573947.3587755738,
           1749790.731608721,
           1033043.4534069275,
           780417.6401923067,
           1462.716684602733,
           1,
           25,
           33816.93568788238,
           27016190.3535169,
           34927547.9077332,
           43263450.20611647,
           43281689.39043179,
           92918,
           391384.5155938377,
           957271.8490977578,
           375312.7105996085,
           24341.935344049125,
           27120819.469440266,
           11629862.874200294,
           35961006.220108725,
           41177400.971069306,
           5690.095098756401,
           1232.3733055864366,
           310874.1202009379,
           313241.53260779555,
           762909.5834059356,
           533338.2340490066,
           600,
           3200,
           4382.149614439574,
           46719.430607222836,
           131993.6293250454,
           8000,
           57528.015970237284,
           307544.9526261201,
           554721.8755303733,
           1,
           119047.25611902626,
           98567.48229732414,
           101404.20283751695,
           56716.31553160216,
           14664.04725392806,
           43657.32440982739,
           40169.5746740005,
           212178.44016802765,
           275088.1135255572,
           82909.2576591881,
           30318.354813597438,
           104776.89807661569,
           1000.2894640009812,
           11160.595586280244,
           5000,
           8588205.34116793,
           2590638.619519421,
           38589.23751628131,
           21704,
           1864576.7039087112,
           2395258.4540105816,
           3364719.544812984,
           118797.22736148421,
           191198.13114443407,
           382699.4572881525,
           108858.3401896513,
           9000,
           20280,
           24311.846495310376,
           9968.965313556262,
           10000,
           20,
           1,
           1,
           3859810.664700295,
           3520828.7523633013,
           3607776.0750718545,
           3853356.91362214,
           74284.08648791835,
           10375.053789399499,
           20000,
           303,
           2500.0037195462155,
           100,
           12169095.415959252,
           490710.3061134988,
           3970853.6176308077,
           1990910.570933145,
           310619.2322400353,
           6331402.845575438,
           3884574.1766402894,
           3737911.945190799,
           864512.4273032742,
           21000,
           1276205.8122257162,
           2462398.047930753,
           16485669.599962551,
           10321445.65236263,
           2823401,
           1,
           25000,
           3473853.136486342,
           6547316.645922155,
           43823602.76034923,
           8000,
           78923.60419871505,
           42395437.00027571,
           852220.4814212202,
           2557117.4061131375,
           3227909.0914843017,
           103178.84506957146,
           17684311.066510074,
           5021562.914764143,
           21801718.578450453,
           22858075.068050392,
           92918,
           391384.5155938377,
           957271.8490977578,
           375312.7105996085,
           19.87665731101146,
           413234.1369004445,
           17.837390282799507,
           16764134.075193552,
           22031731.341034144,
           29396687.378687214,
           29966265.02504799,
           234989.2283513267,
           153823.50119412696,
           3190304.757137799,
           1131774.4792536239,
           1646063.504385354,
           3332125.724073892,
           2655882.836733079,
           29508416.584566347,
           13787718.962794438,
           13421865.955798808,
           18412105.79491507,
           22886765.507540897
          ]
         },
         "name": "",
         "parents": [
          "2018/EMC",
          "2019/EMC",
          "2020/EMC",
          "2021/EMC",
          "2018/Others",
          "2020/Others",
          "2018/PC",
          "2019/PC",
          "2020/PC",
          "2021/PC",
          "2018/RF",
          "2019/RF",
          "2020/RF",
          "2021/RF",
          "2018/WIP",
          "2019/WIP",
          "2020/WIP",
          "2021/WIP",
          "2018/RF",
          "2019/RF",
          "2020/Others",
          "2018/PC",
          "2019/PC",
          "2020/PC",
          "2021/PC",
          "2018/WIP",
          "2019/WIP",
          "2020/WIP",
          "2021/WIP",
          "2019/RF",
          "2020/Others",
          "2019/RF",
          "2019/Others",
          "2018/PC",
          "2019/PC",
          "2020/PC",
          "2021/PC",
          "2018/ODM",
          "2019/ODM",
          "2020/ODM",
          "2021/ODM",
          "2021/AIP",
          "2018/EMC",
          "2019/EMC",
          "2020/EMC",
          "2021/EMC",
          "2020/PC",
          "2021/RF",
          "2018/WIP",
          "2019/WIP",
          "2020/WIP",
          "2021/WIP",
          "2020/Others",
          "2019/RF",
          "2020/RF",
          "2021/RF",
          "2021/AIP",
          "2018/EMC",
          "2019/EMC",
          "2020/EMC",
          "2021/EMC",
          "2020/Others",
          "2018/PC",
          "2019/PC",
          "2020/PC",
          "2021/PC",
          "2018/RF",
          "2019/RF",
          "2020/RF",
          "2021/RF",
          "2018/WIP",
          "2019/WIP",
          "2020/WIP",
          "2021/WIP",
          "2020/RF",
          "2021/RF",
          "2021/RF",
          "2020/RF",
          "2021/RF",
          "2019/RF",
          "2020/RF",
          "2019/EMC",
          "2020/EMC",
          "2021/EMC",
          "2018/RF",
          "2019/RF",
          "2020/RF",
          "2021/RF",
          "2019/WIP",
          "2020/WIP",
          "2021/WIP",
          "2020/RF",
          "2021/RF",
          "2018/Others",
          "2019/Others",
          "2020/Others",
          "2018/PC",
          "2019/PC",
          "2020/PC",
          "2021/PC",
          "2020/RF",
          "2021/RF",
          "2019/PC",
          "2020/Others",
          "2018/RF",
          "2020/RF",
          "2018/EMC",
          "2019/EMC",
          "2020/EMC",
          "2021/EMC",
          "2018/WIP",
          "2019/WIP",
          "2020/WIP",
          "2021/WIP",
          "2019/EMC",
          "2020/EMC",
          "2018/EMC",
          "2019/EMC",
          "2020/EMC",
          "2021/EMC",
          "2019/Others",
          "2020/Others",
          "2018/PC",
          "2019/PC",
          "2020/PC",
          "2021/PC",
          "2020/RF",
          "2020/WIP",
          "2021/WIP",
          "2019/WIP",
          "2020/WIP",
          "2021/WIP",
          "2021",
          "2018",
          "2019",
          "2020",
          "2021",
          "2018",
          "2019",
          "2020",
          "2021",
          "2018",
          "2019",
          "2020",
          "2018",
          "2019",
          "2020",
          "2021",
          "2018",
          "2019",
          "2020",
          "2021",
          "2018",
          "2019",
          "2020",
          "2021",
          "",
          "",
          "",
          ""
         ],
         "type": "treemap",
         "values": [
          5883615,
          2853591,
          4211274,
          5202439,
          17088,
          1367,
          16829840,
          17257258,
          18424558,
          21332969,
          3950457,
          2446710,
          2117767,
          2234515,
          11923724,
          16821608,
          22303410,
          28100714,
          11392,
          93984,
          114631,
          33472209,
          29074934,
          56907849,
          69286861,
          16206120,
          19809824,
          8260434,
          9526450,
          49249,
          7120,
          7120,
          1595578,
          80381730,
          96871250,
          126222812,
          125778886,
          2760646,
          41096362,
          46679154,
          49081492,
          531552,
          10767911,
          3987871,
          15677861,
          19193351,
          34175,
          1411329,
          718630,
          1606073,
          4602706,
          5463061,
          4694,
          37741,
          141223,
          5654234,
          1454320,
          455,
          88164,
          428084,
          153194,
          37250,
          150555,
          296989,
          282571,
          53066,
          2030646,
          4833713,
          3952460,
          8070100,
          608145,
          273136,
          69366,
          187690,
          16306,
          1015470,
          576500,
          22751054,
          42999995,
          966599,
          496623,
          2230812,
          3407436,
          2732679,
          3121395,
          11798076,
          35852488,
          41678493,
          17088,
          53400,
          209505,
          91419,
          277760,
          2615188,
          591,
          154581,
          33491124,
          29192216,
          31665023,
          34054745,
          241606,
          523579,
          8544,
          8629,
          134425,
          5696,
          1767000,
          57005,
          666016,
          747408,
          339950,
          17148658,
          12946650,
          14914722,
          983882,
          6704,
          86817,
          1113690,
          9036479,
          13299229,
          251283,
          300,
          2954,
          655670,
          2828700,
          31845840,
          76800,
          132612,
          145080000,
          770718,
          7999362,
          11652644,
          1985872,
          18505798,
          11315015,
          33433854,
          41328300,
          2760646,
          41096362,
          46679154,
          49081492,
          2632276,
          1847452,
          328572,
          164328412,
          173356861,
          236365688,
          282352367,
          9248315,
          20233192,
          65743442,
          104441975,
          29796569,
          56447105,
          56367940,
          215134786,
          227272016,
          304295987,
          438918650,
          694324792
         ]
        }
       ],
       "layout": {
        "coloraxis": {
         "colorbar": {
          "title": {
           "text": "數量"
          }
         },
         "colorscale": [
          [
           0,
           "#0d0887"
          ],
          [
           0.1111111111111111,
           "#46039f"
          ],
          [
           0.2222222222222222,
           "#7201a8"
          ],
          [
           0.3333333333333333,
           "#9c179e"
          ],
          [
           0.4444444444444444,
           "#bd3786"
          ],
          [
           0.5555555555555556,
           "#d8576b"
          ],
          [
           0.6666666666666666,
           "#ed7953"
          ],
          [
           0.7777777777777778,
           "#fb9f3a"
          ],
          [
           0.8888888888888888,
           "#fdca26"
          ],
          [
           1,
           "#f0f921"
          ]
         ]
        },
        "legend": {
         "tracegroupgap": 0
        },
        "margin": {
         "t": 60
        },
        "template": {
         "data": {
          "bar": [
           {
            "error_x": {
             "color": "#2a3f5f"
            },
            "error_y": {
             "color": "#2a3f5f"
            },
            "marker": {
             "line": {
              "color": "#E5ECF6",
              "width": 0.5
             }
            },
            "type": "bar"
           }
          ],
          "barpolar": [
           {
            "marker": {
             "line": {
              "color": "#E5ECF6",
              "width": 0.5
             }
            },
            "type": "barpolar"
           }
          ],
          "carpet": [
           {
            "aaxis": {
             "endlinecolor": "#2a3f5f",
             "gridcolor": "white",
             "linecolor": "white",
             "minorgridcolor": "white",
             "startlinecolor": "#2a3f5f"
            },
            "baxis": {
             "endlinecolor": "#2a3f5f",
             "gridcolor": "white",
             "linecolor": "white",
             "minorgridcolor": "white",
             "startlinecolor": "#2a3f5f"
            },
            "type": "carpet"
           }
          ],
          "choropleth": [
           {
            "colorbar": {
             "outlinewidth": 0,
             "ticks": ""
            },
            "type": "choropleth"
           }
          ],
          "contour": [
           {
            "colorbar": {
             "outlinewidth": 0,
             "ticks": ""
            },
            "colorscale": [
             [
              0,
              "#0d0887"
             ],
             [
              0.1111111111111111,
              "#46039f"
             ],
             [
              0.2222222222222222,
              "#7201a8"
             ],
             [
              0.3333333333333333,
              "#9c179e"
             ],
             [
              0.4444444444444444,
              "#bd3786"
             ],
             [
              0.5555555555555556,
              "#d8576b"
             ],
             [
              0.6666666666666666,
              "#ed7953"
             ],
             [
              0.7777777777777778,
              "#fb9f3a"
             ],
             [
              0.8888888888888888,
              "#fdca26"
             ],
             [
              1,
              "#f0f921"
             ]
            ],
            "type": "contour"
           }
          ],
          "contourcarpet": [
           {
            "colorbar": {
             "outlinewidth": 0,
             "ticks": ""
            },
            "type": "contourcarpet"
           }
          ],
          "heatmap": [
           {
            "colorbar": {
             "outlinewidth": 0,
             "ticks": ""
            },
            "colorscale": [
             [
              0,
              "#0d0887"
             ],
             [
              0.1111111111111111,
              "#46039f"
             ],
             [
              0.2222222222222222,
              "#7201a8"
             ],
             [
              0.3333333333333333,
              "#9c179e"
             ],
             [
              0.4444444444444444,
              "#bd3786"
             ],
             [
              0.5555555555555556,
              "#d8576b"
             ],
             [
              0.6666666666666666,
              "#ed7953"
             ],
             [
              0.7777777777777778,
              "#fb9f3a"
             ],
             [
              0.8888888888888888,
              "#fdca26"
             ],
             [
              1,
              "#f0f921"
             ]
            ],
            "type": "heatmap"
           }
          ],
          "heatmapgl": [
           {
            "colorbar": {
             "outlinewidth": 0,
             "ticks": ""
            },
            "colorscale": [
             [
              0,
              "#0d0887"
             ],
             [
              0.1111111111111111,
              "#46039f"
             ],
             [
              0.2222222222222222,
              "#7201a8"
             ],
             [
              0.3333333333333333,
              "#9c179e"
             ],
             [
              0.4444444444444444,
              "#bd3786"
             ],
             [
              0.5555555555555556,
              "#d8576b"
             ],
             [
              0.6666666666666666,
              "#ed7953"
             ],
             [
              0.7777777777777778,
              "#fb9f3a"
             ],
             [
              0.8888888888888888,
              "#fdca26"
             ],
             [
              1,
              "#f0f921"
             ]
            ],
            "type": "heatmapgl"
           }
          ],
          "histogram": [
           {
            "marker": {
             "colorbar": {
              "outlinewidth": 0,
              "ticks": ""
             }
            },
            "type": "histogram"
           }
          ],
          "histogram2d": [
           {
            "colorbar": {
             "outlinewidth": 0,
             "ticks": ""
            },
            "colorscale": [
             [
              0,
              "#0d0887"
             ],
             [
              0.1111111111111111,
              "#46039f"
             ],
             [
              0.2222222222222222,
              "#7201a8"
             ],
             [
              0.3333333333333333,
              "#9c179e"
             ],
             [
              0.4444444444444444,
              "#bd3786"
             ],
             [
              0.5555555555555556,
              "#d8576b"
             ],
             [
              0.6666666666666666,
              "#ed7953"
             ],
             [
              0.7777777777777778,
              "#fb9f3a"
             ],
             [
              0.8888888888888888,
              "#fdca26"
             ],
             [
              1,
              "#f0f921"
             ]
            ],
            "type": "histogram2d"
           }
          ],
          "histogram2dcontour": [
           {
            "colorbar": {
             "outlinewidth": 0,
             "ticks": ""
            },
            "colorscale": [
             [
              0,
              "#0d0887"
             ],
             [
              0.1111111111111111,
              "#46039f"
             ],
             [
              0.2222222222222222,
              "#7201a8"
             ],
             [
              0.3333333333333333,
              "#9c179e"
             ],
             [
              0.4444444444444444,
              "#bd3786"
             ],
             [
              0.5555555555555556,
              "#d8576b"
             ],
             [
              0.6666666666666666,
              "#ed7953"
             ],
             [
              0.7777777777777778,
              "#fb9f3a"
             ],
             [
              0.8888888888888888,
              "#fdca26"
             ],
             [
              1,
              "#f0f921"
             ]
            ],
            "type": "histogram2dcontour"
           }
          ],
          "mesh3d": [
           {
            "colorbar": {
             "outlinewidth": 0,
             "ticks": ""
            },
            "type": "mesh3d"
           }
          ],
          "parcoords": [
           {
            "line": {
             "colorbar": {
              "outlinewidth": 0,
              "ticks": ""
             }
            },
            "type": "parcoords"
           }
          ],
          "pie": [
           {
            "automargin": true,
            "type": "pie"
           }
          ],
          "scatter": [
           {
            "marker": {
             "colorbar": {
              "outlinewidth": 0,
              "ticks": ""
             }
            },
            "type": "scatter"
           }
          ],
          "scatter3d": [
           {
            "line": {
             "colorbar": {
              "outlinewidth": 0,
              "ticks": ""
             }
            },
            "marker": {
             "colorbar": {
              "outlinewidth": 0,
              "ticks": ""
             }
            },
            "type": "scatter3d"
           }
          ],
          "scattercarpet": [
           {
            "marker": {
             "colorbar": {
              "outlinewidth": 0,
              "ticks": ""
             }
            },
            "type": "scattercarpet"
           }
          ],
          "scattergeo": [
           {
            "marker": {
             "colorbar": {
              "outlinewidth": 0,
              "ticks": ""
             }
            },
            "type": "scattergeo"
           }
          ],
          "scattergl": [
           {
            "marker": {
             "colorbar": {
              "outlinewidth": 0,
              "ticks": ""
             }
            },
            "type": "scattergl"
           }
          ],
          "scattermapbox": [
           {
            "marker": {
             "colorbar": {
              "outlinewidth": 0,
              "ticks": ""
             }
            },
            "type": "scattermapbox"
           }
          ],
          "scatterpolar": [
           {
            "marker": {
             "colorbar": {
              "outlinewidth": 0,
              "ticks": ""
             }
            },
            "type": "scatterpolar"
           }
          ],
          "scatterpolargl": [
           {
            "marker": {
             "colorbar": {
              "outlinewidth": 0,
              "ticks": ""
             }
            },
            "type": "scatterpolargl"
           }
          ],
          "scatterternary": [
           {
            "marker": {
             "colorbar": {
              "outlinewidth": 0,
              "ticks": ""
             }
            },
            "type": "scatterternary"
           }
          ],
          "surface": [
           {
            "colorbar": {
             "outlinewidth": 0,
             "ticks": ""
            },
            "colorscale": [
             [
              0,
              "#0d0887"
             ],
             [
              0.1111111111111111,
              "#46039f"
             ],
             [
              0.2222222222222222,
              "#7201a8"
             ],
             [
              0.3333333333333333,
              "#9c179e"
             ],
             [
              0.4444444444444444,
              "#bd3786"
             ],
             [
              0.5555555555555556,
              "#d8576b"
             ],
             [
              0.6666666666666666,
              "#ed7953"
             ],
             [
              0.7777777777777778,
              "#fb9f3a"
             ],
             [
              0.8888888888888888,
              "#fdca26"
             ],
             [
              1,
              "#f0f921"
             ]
            ],
            "type": "surface"
           }
          ],
          "table": [
           {
            "cells": {
             "fill": {
              "color": "#EBF0F8"
             },
             "line": {
              "color": "white"
             }
            },
            "header": {
             "fill": {
              "color": "#C8D4E3"
             },
             "line": {
              "color": "white"
             }
            },
            "type": "table"
           }
          ]
         },
         "layout": {
          "annotationdefaults": {
           "arrowcolor": "#2a3f5f",
           "arrowhead": 0,
           "arrowwidth": 1
          },
          "coloraxis": {
           "colorbar": {
            "outlinewidth": 0,
            "ticks": ""
           }
          },
          "colorscale": {
           "diverging": [
            [
             0,
             "#8e0152"
            ],
            [
             0.1,
             "#c51b7d"
            ],
            [
             0.2,
             "#de77ae"
            ],
            [
             0.3,
             "#f1b6da"
            ],
            [
             0.4,
             "#fde0ef"
            ],
            [
             0.5,
             "#f7f7f7"
            ],
            [
             0.6,
             "#e6f5d0"
            ],
            [
             0.7,
             "#b8e186"
            ],
            [
             0.8,
             "#7fbc41"
            ],
            [
             0.9,
             "#4d9221"
            ],
            [
             1,
             "#276419"
            ]
           ],
           "sequential": [
            [
             0,
             "#0d0887"
            ],
            [
             0.1111111111111111,
             "#46039f"
            ],
            [
             0.2222222222222222,
             "#7201a8"
            ],
            [
             0.3333333333333333,
             "#9c179e"
            ],
            [
             0.4444444444444444,
             "#bd3786"
            ],
            [
             0.5555555555555556,
             "#d8576b"
            ],
            [
             0.6666666666666666,
             "#ed7953"
            ],
            [
             0.7777777777777778,
             "#fb9f3a"
            ],
            [
             0.8888888888888888,
             "#fdca26"
            ],
            [
             1,
             "#f0f921"
            ]
           ],
           "sequentialminus": [
            [
             0,
             "#0d0887"
            ],
            [
             0.1111111111111111,
             "#46039f"
            ],
            [
             0.2222222222222222,
             "#7201a8"
            ],
            [
             0.3333333333333333,
             "#9c179e"
            ],
            [
             0.4444444444444444,
             "#bd3786"
            ],
            [
             0.5555555555555556,
             "#d8576b"
            ],
            [
             0.6666666666666666,
             "#ed7953"
            ],
            [
             0.7777777777777778,
             "#fb9f3a"
            ],
            [
             0.8888888888888888,
             "#fdca26"
            ],
            [
             1,
             "#f0f921"
            ]
           ]
          },
          "colorway": [
           "#636efa",
           "#EF553B",
           "#00cc96",
           "#ab63fa",
           "#FFA15A",
           "#19d3f3",
           "#FF6692",
           "#B6E880",
           "#FF97FF",
           "#FECB52"
          ],
          "font": {
           "color": "#2a3f5f"
          },
          "geo": {
           "bgcolor": "white",
           "lakecolor": "white",
           "landcolor": "#E5ECF6",
           "showlakes": true,
           "showland": true,
           "subunitcolor": "white"
          },
          "hoverlabel": {
           "align": "left"
          },
          "hovermode": "closest",
          "mapbox": {
           "style": "light"
          },
          "paper_bgcolor": "white",
          "plot_bgcolor": "#E5ECF6",
          "polar": {
           "angularaxis": {
            "gridcolor": "white",
            "linecolor": "white",
            "ticks": ""
           },
           "bgcolor": "#E5ECF6",
           "radialaxis": {
            "gridcolor": "white",
            "linecolor": "white",
            "ticks": ""
           }
          },
          "scene": {
           "xaxis": {
            "backgroundcolor": "#E5ECF6",
            "gridcolor": "white",
            "gridwidth": 2,
            "linecolor": "white",
            "showbackground": true,
            "ticks": "",
            "zerolinecolor": "white"
           },
           "yaxis": {
            "backgroundcolor": "#E5ECF6",
            "gridcolor": "white",
            "gridwidth": 2,
            "linecolor": "white",
            "showbackground": true,
            "ticks": "",
            "zerolinecolor": "white"
           },
           "zaxis": {
            "backgroundcolor": "#E5ECF6",
            "gridcolor": "white",
            "gridwidth": 2,
            "linecolor": "white",
            "showbackground": true,
            "ticks": "",
            "zerolinecolor": "white"
           }
          },
          "shapedefaults": {
           "line": {
            "color": "#2a3f5f"
           }
          },
          "ternary": {
           "aaxis": {
            "gridcolor": "white",
            "linecolor": "white",
            "ticks": ""
           },
           "baxis": {
            "gridcolor": "white",
            "linecolor": "white",
            "ticks": ""
           },
           "bgcolor": "#E5ECF6",
           "caxis": {
            "gridcolor": "white",
            "linecolor": "white",
            "ticks": ""
           }
          },
          "title": {
           "x": 0.05
          },
          "xaxis": {
           "automargin": true,
           "gridcolor": "white",
           "linecolor": "white",
           "ticks": "",
           "title": {
            "standoff": 15
           },
           "zerolinecolor": "white",
           "zerolinewidth": 2
          },
          "yaxis": {
           "automargin": true,
           "gridcolor": "white",
           "linecolor": "white",
           "ticks": "",
           "title": {
            "standoff": 15
           },
           "zerolinecolor": "white",
           "zerolinewidth": 2
          }
         }
        }
       }
      },
      "text/html": [
       "<div>                            <div id=\"5ad3cf7e-2b3b-46ce-9be6-bbc091887f21\" class=\"plotly-graph-div\" style=\"height:525px; width:100%;\"></div>            <script type=\"text/javascript\">                require([\"plotly\"], function(Plotly) {                    window.PLOTLYENV=window.PLOTLYENV || {};                                    if (document.getElementById(\"5ad3cf7e-2b3b-46ce-9be6-bbc091887f21\")) {                    Plotly.newPlot(                        \"5ad3cf7e-2b3b-46ce-9be6-bbc091887f21\",                        [{\"branchvalues\": \"total\", \"customdata\": [[2313905.0519111124], [930468.1676526173], [1237932.757403104], [1214450.2598892557], [1.0], [1.0], [7071304.545081831], [6091045.2614778085], [6415995.819764035], [6535929.193115314], [448632.90449687216], [248325.3634472414], [208006.0110484298], [120667.79352297926], [1932548.3447117696], [2595948.758465897], [2999569.4066961063], [3338714.671984847], [2000.0], [5000.0], [2.0], [10005885.593747338], [7761802.100427812], [21728680.21947201], [19496696.074269146], [1573947.3587755738], [1749790.731608721], [1033043.4534069275], [780417.6401923067], [1462.716684602733], [1.0], [25.0], [33816.93568788238], [27016190.3535169], [34927547.9077332], [43263450.20611647], [43281689.39043179], [92918.0], [391384.5155938377], [957271.8490977578], [375312.7105996085], [24341.935344049125], [27120819.469440266], [11629862.874200294], [35961006.220108725], [41177400.971069306], [5690.095098756401], [1232.3733055864366], [310874.1202009379], [313241.53260779555], [762909.5834059356], [533338.2340490066], [600.0], [3200.0], [4382.149614439574], [46719.430607222836], [131993.6293250454], [8000.0], [57528.015970237284], [307544.9526261201], [554721.8755303733], [1.0], [119047.25611902626], [98567.48229732414], [101404.20283751695], [56716.31553160216], [14664.04725392806], [43657.32440982739], [40169.5746740005], [212178.44016802765], [275088.1135255572], [82909.2576591881], [30318.354813597438], [104776.89807661569], [1000.2894640009812], [11160.595586280244], [5000.0], [8588205.34116793], [2590638.619519421], [38589.23751628131], [21704.0], [1864576.7039087112], [2395258.4540105816], [3364719.544812984], [118797.22736148421], [191198.13114443407], [382699.4572881525], [108858.3401896513], [9000.0], [20280.0], [24311.846495310376], [9968.965313556262], [10000.0], [20.0], [1.0], [1.0], [3859810.664700295], [3520828.7523633013], [3607776.0750718545], [3853356.91362214], [74284.08648791835], [10375.053789399499], [20000.0], [303.0], [2500.0037195462155], [100.0], [12169095.415959252], [490710.3061134988], [3970853.6176308077], [1990910.570933145], [310619.2322400353], [6331402.845575438], [3884574.1766402894], [3737911.945190799], [864512.4273032742], [21000.0], [1276205.8122257162], [2462398.047930753], [16485669.599962551], [10321445.65236263], [2823401.0], [1.0], [25000.0], [3473853.136486342], [6547316.645922155], [43823602.76034923], [8000.0], [78923.60419871505], [42395437.00027571], [852220.4814212202], [2557117.4061131375], [3227909.0914843017], [103178.84506957146], [17684311.066510074], [5021562.914764143], [21801718.578450453], [22858075.068050392], [92918.0], [391384.5155938377], [957271.8490977578], [375312.7105996085], [19.87665731101146], [413234.1369004445], [17.837390282799507], [16764134.075193552], [22031731.341034144], [29396687.378687214], [29966265.02504799], [234989.2283513267], [153823.50119412696], [3190304.757137799], [1131774.4792536239], [1646063.504385354], [3332125.724073892], [2655882.836733079], [29508416.584566347], [13787718.962794438], [13421865.955798808], [18412105.79491507], [22886765.507540897]], \"domain\": {\"x\": [0.0, 1.0], \"y\": [0.0, 1.0]}, \"hovertemplate\": \"labels=%{label}<br>\\u672c\\u570b\\u5e63\\u5225NTD=%{value}<br>parent=%{parent}<br>id=%{id}<br>\\u6578\\u91cf=%{color}<extra></extra>\", \"ids\": [\"2018/EMC/Bourns\", \"2019/EMC/Bourns\", \"2020/EMC/Bourns\", \"2021/EMC/Bourns\", \"2018/Others/Bourns\", \"2020/Others/Bourns\", \"2018/PC/Bourns\", \"2019/PC/Bourns\", \"2020/PC/Bourns\", \"2021/PC/Bourns\", \"2018/RF/Bourns\", \"2019/RF/Bourns\", \"2020/RF/Bourns\", \"2021/RF/Bourns\", \"2018/WIP/Bourns\", \"2019/WIP/Bourns\", \"2020/WIP/Bourns\", \"2021/WIP/Bourns\", \"2018/RF/CAME\", \"2019/RF/Credence\", \"2020/Others/Eaton\", \"2018/PC/Eaton\", \"2019/PC/Eaton\", \"2020/PC/Eaton\", \"2021/PC/Eaton\", \"2018/WIP/Eaton\", \"2019/WIP/Eaton\", \"2020/WIP/Eaton\", \"2021/WIP/Eaton\", \"2019/RF/Eteily\", \"2020/Others/Fides\", \"2019/RF/Globalte\", \"2019/Others/LF\", \"2018/PC/LF\", \"2019/PC/LF\", \"2020/PC/LF\", \"2021/PC/LF\", \"2018/ODM/LF OEM\", \"2019/ODM/LF OEM\", \"2020/ODM/LF OEM\", \"2021/ODM/LF OEM\", \"2021/AIP/Laird\", \"2018/EMC/Laird\", \"2019/EMC/Laird\", \"2020/EMC/Laird\", \"2021/EMC/Laird\", \"2020/PC/Laird\", \"2021/RF/Laird\", \"2018/WIP/Laird\", \"2019/WIP/Laird\", \"2020/WIP/Laird\", \"2021/WIP/Laird\", \"2020/Others/MS\", \"2019/RF/MS\", \"2020/RF/MS\", \"2021/RF/MS\", \"2021/AIP/MT-SYSTEM\", \"2018/EMC/MT-SYSTEM\", \"2019/EMC/MT-SYSTEM\", \"2020/EMC/MT-SYSTEM\", \"2021/EMC/MT-SYSTEM\", \"2020/Others/MT-SYSTEM\", \"2018/PC/MT-SYSTEM\", \"2019/PC/MT-SYSTEM\", \"2020/PC/MT-SYSTEM\", \"2021/PC/MT-SYSTEM\", \"2018/RF/MT-SYSTEM\", \"2019/RF/MT-SYSTEM\", \"2020/RF/MT-SYSTEM\", \"2021/RF/MT-SYSTEM\", \"2018/WIP/MT-SYSTEM\", \"2019/WIP/MT-SYSTEM\", \"2020/WIP/MT-SYSTEM\", \"2021/WIP/MT-SYSTEM\", \"2020/RF/Nexty\", \"2021/RF/Nexty\", \"2021/RF/OSE\", \"2020/RF/Reliance\", \"2021/RF/Reliance\", \"2019/RF/TE\", \"2020/RF/TE\", \"2019/EMC/TELTONIKA\", \"2020/EMC/TELTONIKA\", \"2021/EMC/TELTONIKA\", \"2018/RF/TELTONIKA\", \"2019/RF/TELTONIKA\", \"2020/RF/TELTONIKA\", \"2021/RF/TELTONIKA\", \"2019/WIP/TELTONIKA\", \"2020/WIP/TELTONIKA\", \"2021/WIP/TELTONIKA\", \"2020/RF/Unified\", \"2021/RF/Unified\", \"2018/Others/WE\", \"2019/Others/WE\", \"2020/Others/WE\", \"2018/PC/WE\", \"2019/PC/WE\", \"2020/PC/WE\", \"2021/PC/WE\", \"2020/RF/WE\", \"2021/RF/WE\", \"2019/PC/WiSilica\", \"2020/Others/Zebra\", \"2018/RF/Zebra\", \"2020/RF/Zebra\", \"2018/EMC/\\u4fe1\\u660c\", \"2019/EMC/\\u4fe1\\u660c\", \"2020/EMC/\\u4fe1\\u660c\", \"2021/EMC/\\u4fe1\\u660c\", \"2018/WIP/\\u4fe1\\u660c\", \"2019/WIP/\\u4fe1\\u660c\", \"2020/WIP/\\u4fe1\\u660c\", \"2021/WIP/\\u4fe1\\u660c\", \"2019/EMC/\\u6771\\u839e\\u5f18\\u96fb\", \"2020/EMC/\\u6771\\u839e\\u5f18\\u96fb\", \"2018/EMC/\\u83ef\\u65b0\\u79d1\\u6280\", \"2019/EMC/\\u83ef\\u65b0\\u79d1\\u6280\", \"2020/EMC/\\u83ef\\u65b0\\u79d1\\u6280\", \"2021/EMC/\\u83ef\\u65b0\\u79d1\\u6280\", \"2019/Others/\\u83ef\\u65b0\\u79d1\\u6280\", \"2020/Others/\\u83ef\\u65b0\\u79d1\\u6280\", \"2018/PC/\\u83ef\\u65b0\\u79d1\\u6280\", \"2019/PC/\\u83ef\\u65b0\\u79d1\\u6280\", \"2020/PC/\\u83ef\\u65b0\\u79d1\\u6280\", \"2021/PC/\\u83ef\\u65b0\\u79d1\\u6280\", \"2020/RF/\\u83ef\\u65b0\\u79d1\\u6280\", \"2020/WIP/\\u83ef\\u65b0\\u79d1\\u6280\", \"2021/WIP/\\u83ef\\u65b0\\u79d1\\u6280\", \"2019/WIP/\\u85dd\\u611f\", \"2020/WIP/\\u85dd\\u611f\", \"2021/WIP/\\u85dd\\u611f\", \"2021/AIP\", \"2018/EMC\", \"2019/EMC\", \"2020/EMC\", \"2021/EMC\", \"2018/ODM\", \"2019/ODM\", \"2020/ODM\", \"2021/ODM\", \"2018/Others\", \"2019/Others\", \"2020/Others\", \"2018/PC\", \"2019/PC\", \"2020/PC\", \"2021/PC\", \"2018/RF\", \"2019/RF\", \"2020/RF\", \"2021/RF\", \"2018/WIP\", \"2019/WIP\", \"2020/WIP\", \"2021/WIP\", \"2018\", \"2019\", \"2020\", \"2021\"], \"labels\": [\"Bourns\", \"Bourns\", \"Bourns\", \"Bourns\", \"Bourns\", \"Bourns\", \"Bourns\", \"Bourns\", \"Bourns\", \"Bourns\", \"Bourns\", \"Bourns\", \"Bourns\", \"Bourns\", \"Bourns\", \"Bourns\", \"Bourns\", \"Bourns\", \"CAME\", \"Credence\", \"Eaton\", \"Eaton\", \"Eaton\", \"Eaton\", \"Eaton\", \"Eaton\", \"Eaton\", \"Eaton\", \"Eaton\", \"Eteily\", \"Fides\", \"Globalte\", \"LF\", \"LF\", \"LF\", \"LF\", \"LF\", \"LF OEM\", \"LF OEM\", \"LF OEM\", \"LF OEM\", \"Laird\", \"Laird\", \"Laird\", \"Laird\", \"Laird\", \"Laird\", \"Laird\", \"Laird\", \"Laird\", \"Laird\", \"Laird\", \"MS\", \"MS\", \"MS\", \"MS\", \"MT-SYSTEM\", \"MT-SYSTEM\", \"MT-SYSTEM\", \"MT-SYSTEM\", \"MT-SYSTEM\", \"MT-SYSTEM\", \"MT-SYSTEM\", \"MT-SYSTEM\", \"MT-SYSTEM\", \"MT-SYSTEM\", \"MT-SYSTEM\", \"MT-SYSTEM\", \"MT-SYSTEM\", \"MT-SYSTEM\", \"MT-SYSTEM\", \"MT-SYSTEM\", \"MT-SYSTEM\", \"MT-SYSTEM\", \"Nexty\", \"Nexty\", \"OSE\", \"Reliance\", \"Reliance\", \"TE\", \"TE\", \"TELTONIKA\", \"TELTONIKA\", \"TELTONIKA\", \"TELTONIKA\", \"TELTONIKA\", \"TELTONIKA\", \"TELTONIKA\", \"TELTONIKA\", \"TELTONIKA\", \"TELTONIKA\", \"Unified\", \"Unified\", \"WE\", \"WE\", \"WE\", \"WE\", \"WE\", \"WE\", \"WE\", \"WE\", \"WE\", \"WiSilica\", \"Zebra\", \"Zebra\", \"Zebra\", \"\\u4fe1\\u660c\", \"\\u4fe1\\u660c\", \"\\u4fe1\\u660c\", \"\\u4fe1\\u660c\", \"\\u4fe1\\u660c\", \"\\u4fe1\\u660c\", \"\\u4fe1\\u660c\", \"\\u4fe1\\u660c\", \"\\u6771\\u839e\\u5f18\\u96fb\", \"\\u6771\\u839e\\u5f18\\u96fb\", \"\\u83ef\\u65b0\\u79d1\\u6280\", \"\\u83ef\\u65b0\\u79d1\\u6280\", \"\\u83ef\\u65b0\\u79d1\\u6280\", \"\\u83ef\\u65b0\\u79d1\\u6280\", \"\\u83ef\\u65b0\\u79d1\\u6280\", \"\\u83ef\\u65b0\\u79d1\\u6280\", \"\\u83ef\\u65b0\\u79d1\\u6280\", \"\\u83ef\\u65b0\\u79d1\\u6280\", \"\\u83ef\\u65b0\\u79d1\\u6280\", \"\\u83ef\\u65b0\\u79d1\\u6280\", \"\\u83ef\\u65b0\\u79d1\\u6280\", \"\\u83ef\\u65b0\\u79d1\\u6280\", \"\\u83ef\\u65b0\\u79d1\\u6280\", \"\\u85dd\\u611f\", \"\\u85dd\\u611f\", \"\\u85dd\\u611f\", \"AIP\", \"EMC\", \"EMC\", \"EMC\", \"EMC\", \"ODM\", \"ODM\", \"ODM\", \"ODM\", \"Others\", \"Others\", \"Others\", \"PC\", \"PC\", \"PC\", \"PC\", \"RF\", \"RF\", \"RF\", \"RF\", \"WIP\", \"WIP\", \"WIP\", \"WIP\", \"2018\", \"2019\", \"2020\", \"2021\"], \"marker\": {\"coloraxis\": \"coloraxis\", \"colors\": [2313905.0519111124, 930468.1676526173, 1237932.757403104, 1214450.2598892557, 1.0, 1.0, 7071304.545081831, 6091045.2614778085, 6415995.819764035, 6535929.193115314, 448632.90449687216, 248325.3634472414, 208006.0110484298, 120667.79352297926, 1932548.3447117696, 2595948.758465897, 2999569.4066961063, 3338714.671984847, 2000.0, 5000.0, 2.0, 10005885.593747338, 7761802.100427812, 21728680.21947201, 19496696.074269146, 1573947.3587755738, 1749790.731608721, 1033043.4534069275, 780417.6401923067, 1462.716684602733, 1.0, 25.0, 33816.93568788238, 27016190.3535169, 34927547.9077332, 43263450.20611647, 43281689.39043179, 92918.0, 391384.5155938377, 957271.8490977578, 375312.7105996085, 24341.935344049125, 27120819.469440266, 11629862.874200294, 35961006.220108725, 41177400.971069306, 5690.095098756401, 1232.3733055864366, 310874.1202009379, 313241.53260779555, 762909.5834059356, 533338.2340490066, 600.0, 3200.0, 4382.149614439574, 46719.430607222836, 131993.6293250454, 8000.0, 57528.015970237284, 307544.9526261201, 554721.8755303733, 1.0, 119047.25611902626, 98567.48229732414, 101404.20283751695, 56716.31553160216, 14664.04725392806, 43657.32440982739, 40169.5746740005, 212178.44016802765, 275088.1135255572, 82909.2576591881, 30318.354813597438, 104776.89807661569, 1000.2894640009812, 11160.595586280244, 5000.0, 8588205.34116793, 2590638.619519421, 38589.23751628131, 21704.0, 1864576.7039087112, 2395258.4540105816, 3364719.544812984, 118797.22736148421, 191198.13114443407, 382699.4572881525, 108858.3401896513, 9000.0, 20280.0, 24311.846495310376, 9968.965313556262, 10000.0, 20.0, 1.0, 1.0, 3859810.664700295, 3520828.7523633013, 3607776.0750718545, 3853356.91362214, 74284.08648791835, 10375.053789399499, 20000.0, 303.0, 2500.0037195462155, 100.0, 12169095.415959252, 490710.3061134988, 3970853.6176308077, 1990910.570933145, 310619.2322400353, 6331402.845575438, 3884574.1766402894, 3737911.945190799, 864512.4273032742, 21000.0, 1276205.8122257162, 2462398.047930753, 16485669.599962551, 10321445.65236263, 2823401.0, 1.0, 25000.0, 3473853.136486342, 6547316.645922155, 43823602.76034923, 8000.0, 78923.60419871505, 42395437.00027571, 852220.4814212202, 2557117.4061131375, 3227909.0914843017, 103178.84506957146, 17684311.066510074, 5021562.914764143, 21801718.578450453, 22858075.068050392, 92918.0, 391384.5155938377, 957271.8490977578, 375312.7105996085, 19.87665731101146, 413234.1369004445, 17.837390282799507, 16764134.075193552, 22031731.341034144, 29396687.378687214, 29966265.02504799, 234989.2283513267, 153823.50119412696, 3190304.757137799, 1131774.4792536239, 1646063.504385354, 3332125.724073892, 2655882.836733079, 29508416.584566347, 13787718.962794438, 13421865.955798808, 18412105.79491507, 22886765.507540897]}, \"name\": \"\", \"parents\": [\"2018/EMC\", \"2019/EMC\", \"2020/EMC\", \"2021/EMC\", \"2018/Others\", \"2020/Others\", \"2018/PC\", \"2019/PC\", \"2020/PC\", \"2021/PC\", \"2018/RF\", \"2019/RF\", \"2020/RF\", \"2021/RF\", \"2018/WIP\", \"2019/WIP\", \"2020/WIP\", \"2021/WIP\", \"2018/RF\", \"2019/RF\", \"2020/Others\", \"2018/PC\", \"2019/PC\", \"2020/PC\", \"2021/PC\", \"2018/WIP\", \"2019/WIP\", \"2020/WIP\", \"2021/WIP\", \"2019/RF\", \"2020/Others\", \"2019/RF\", \"2019/Others\", \"2018/PC\", \"2019/PC\", \"2020/PC\", \"2021/PC\", \"2018/ODM\", \"2019/ODM\", \"2020/ODM\", \"2021/ODM\", \"2021/AIP\", \"2018/EMC\", \"2019/EMC\", \"2020/EMC\", \"2021/EMC\", \"2020/PC\", \"2021/RF\", \"2018/WIP\", \"2019/WIP\", \"2020/WIP\", \"2021/WIP\", \"2020/Others\", \"2019/RF\", \"2020/RF\", \"2021/RF\", \"2021/AIP\", \"2018/EMC\", \"2019/EMC\", \"2020/EMC\", \"2021/EMC\", \"2020/Others\", \"2018/PC\", \"2019/PC\", \"2020/PC\", \"2021/PC\", \"2018/RF\", \"2019/RF\", \"2020/RF\", \"2021/RF\", \"2018/WIP\", \"2019/WIP\", \"2020/WIP\", \"2021/WIP\", \"2020/RF\", \"2021/RF\", \"2021/RF\", \"2020/RF\", \"2021/RF\", \"2019/RF\", \"2020/RF\", \"2019/EMC\", \"2020/EMC\", \"2021/EMC\", \"2018/RF\", \"2019/RF\", \"2020/RF\", \"2021/RF\", \"2019/WIP\", \"2020/WIP\", \"2021/WIP\", \"2020/RF\", \"2021/RF\", \"2018/Others\", \"2019/Others\", \"2020/Others\", \"2018/PC\", \"2019/PC\", \"2020/PC\", \"2021/PC\", \"2020/RF\", \"2021/RF\", \"2019/PC\", \"2020/Others\", \"2018/RF\", \"2020/RF\", \"2018/EMC\", \"2019/EMC\", \"2020/EMC\", \"2021/EMC\", \"2018/WIP\", \"2019/WIP\", \"2020/WIP\", \"2021/WIP\", \"2019/EMC\", \"2020/EMC\", \"2018/EMC\", \"2019/EMC\", \"2020/EMC\", \"2021/EMC\", \"2019/Others\", \"2020/Others\", \"2018/PC\", \"2019/PC\", \"2020/PC\", \"2021/PC\", \"2020/RF\", \"2020/WIP\", \"2021/WIP\", \"2019/WIP\", \"2020/WIP\", \"2021/WIP\", \"2021\", \"2018\", \"2019\", \"2020\", \"2021\", \"2018\", \"2019\", \"2020\", \"2021\", \"2018\", \"2019\", \"2020\", \"2018\", \"2019\", \"2020\", \"2021\", \"2018\", \"2019\", \"2020\", \"2021\", \"2018\", \"2019\", \"2020\", \"2021\", \"\", \"\", \"\", \"\"], \"type\": \"treemap\", \"values\": [5883615, 2853591, 4211274, 5202439, 17088, 1367, 16829840, 17257258, 18424558, 21332969, 3950457, 2446710, 2117767, 2234515, 11923724, 16821608, 22303410, 28100714, 11392, 93984, 114631, 33472209, 29074934, 56907849, 69286861, 16206120, 19809824, 8260434, 9526450, 49249, 7120, 7120, 1595578, 80381730, 96871250, 126222812, 125778886, 2760646, 41096362, 46679154, 49081492, 531552, 10767911, 3987871, 15677861, 19193351, 34175, 1411329, 718630, 1606073, 4602706, 5463061, 4694, 37741, 141223, 5654234, 1454320, 455, 88164, 428084, 153194, 37250, 150555, 296989, 282571, 53066, 2030646, 4833713, 3952460, 8070100, 608145, 273136, 69366, 187690, 16306, 1015470, 576500, 22751054, 42999995, 966599, 496623, 2230812, 3407436, 2732679, 3121395, 11798076, 35852488, 41678493, 17088, 53400, 209505, 91419, 277760, 2615188, 591, 154581, 33491124, 29192216, 31665023, 34054745, 241606, 523579, 8544, 8629, 134425, 5696, 1767000, 57005, 666016, 747408, 339950, 17148658, 12946650, 14914722, 983882, 6704, 86817, 1113690, 9036479, 13299229, 251283, 300, 2954, 655670, 2828700, 31845840, 76800, 132612, 145080000, 770718, 7999362, 11652644, 1985872, 18505798, 11315015, 33433854, 41328300, 2760646, 41096362, 46679154, 49081492, 2632276, 1847452, 328572, 164328412, 173356861, 236365688, 282352367, 9248315, 20233192, 65743442, 104441975, 29796569, 56447105, 56367940, 215134786, 227272016, 304295987, 438918650, 694324792]}],                        {\"coloraxis\": {\"colorbar\": {\"title\": {\"text\": \"\\u6578\\u91cf\"}}, \"colorscale\": [[0.0, \"#0d0887\"], [0.1111111111111111, \"#46039f\"], [0.2222222222222222, \"#7201a8\"], [0.3333333333333333, \"#9c179e\"], [0.4444444444444444, \"#bd3786\"], [0.5555555555555556, \"#d8576b\"], [0.6666666666666666, \"#ed7953\"], [0.7777777777777778, \"#fb9f3a\"], [0.8888888888888888, \"#fdca26\"], [1.0, \"#f0f921\"]]}, \"legend\": {\"tracegroupgap\": 0}, \"margin\": {\"t\": 60}, \"template\": {\"data\": {\"bar\": [{\"error_x\": {\"color\": \"#2a3f5f\"}, \"error_y\": {\"color\": \"#2a3f5f\"}, \"marker\": {\"line\": {\"color\": \"#E5ECF6\", \"width\": 0.5}}, \"type\": \"bar\"}], \"barpolar\": [{\"marker\": {\"line\": {\"color\": \"#E5ECF6\", \"width\": 0.5}}, \"type\": \"barpolar\"}], \"carpet\": [{\"aaxis\": {\"endlinecolor\": \"#2a3f5f\", \"gridcolor\": \"white\", \"linecolor\": \"white\", \"minorgridcolor\": \"white\", \"startlinecolor\": \"#2a3f5f\"}, \"baxis\": {\"endlinecolor\": \"#2a3f5f\", \"gridcolor\": \"white\", \"linecolor\": \"white\", \"minorgridcolor\": \"white\", \"startlinecolor\": \"#2a3f5f\"}, \"type\": \"carpet\"}], \"choropleth\": [{\"colorbar\": {\"outlinewidth\": 0, \"ticks\": \"\"}, \"type\": \"choropleth\"}], \"contour\": [{\"colorbar\": {\"outlinewidth\": 0, \"ticks\": \"\"}, \"colorscale\": [[0.0, \"#0d0887\"], [0.1111111111111111, \"#46039f\"], [0.2222222222222222, \"#7201a8\"], [0.3333333333333333, \"#9c179e\"], [0.4444444444444444, \"#bd3786\"], [0.5555555555555556, \"#d8576b\"], [0.6666666666666666, \"#ed7953\"], [0.7777777777777778, \"#fb9f3a\"], [0.8888888888888888, \"#fdca26\"], [1.0, \"#f0f921\"]], \"type\": \"contour\"}], \"contourcarpet\": [{\"colorbar\": {\"outlinewidth\": 0, \"ticks\": \"\"}, \"type\": \"contourcarpet\"}], \"heatmap\": [{\"colorbar\": {\"outlinewidth\": 0, \"ticks\": \"\"}, \"colorscale\": [[0.0, \"#0d0887\"], [0.1111111111111111, \"#46039f\"], [0.2222222222222222, \"#7201a8\"], [0.3333333333333333, \"#9c179e\"], [0.4444444444444444, \"#bd3786\"], [0.5555555555555556, \"#d8576b\"], [0.6666666666666666, \"#ed7953\"], [0.7777777777777778, \"#fb9f3a\"], [0.8888888888888888, \"#fdca26\"], [1.0, \"#f0f921\"]], \"type\": \"heatmap\"}], \"heatmapgl\": [{\"colorbar\": {\"outlinewidth\": 0, \"ticks\": \"\"}, \"colorscale\": [[0.0, \"#0d0887\"], [0.1111111111111111, \"#46039f\"], [0.2222222222222222, \"#7201a8\"], [0.3333333333333333, \"#9c179e\"], [0.4444444444444444, \"#bd3786\"], [0.5555555555555556, \"#d8576b\"], [0.6666666666666666, \"#ed7953\"], [0.7777777777777778, \"#fb9f3a\"], [0.8888888888888888, \"#fdca26\"], [1.0, \"#f0f921\"]], \"type\": \"heatmapgl\"}], \"histogram\": [{\"marker\": {\"colorbar\": {\"outlinewidth\": 0, \"ticks\": \"\"}}, \"type\": \"histogram\"}], \"histogram2d\": [{\"colorbar\": {\"outlinewidth\": 0, \"ticks\": \"\"}, \"colorscale\": [[0.0, \"#0d0887\"], [0.1111111111111111, \"#46039f\"], [0.2222222222222222, \"#7201a8\"], [0.3333333333333333, \"#9c179e\"], [0.4444444444444444, \"#bd3786\"], [0.5555555555555556, \"#d8576b\"], [0.6666666666666666, \"#ed7953\"], [0.7777777777777778, \"#fb9f3a\"], [0.8888888888888888, \"#fdca26\"], [1.0, \"#f0f921\"]], \"type\": \"histogram2d\"}], \"histogram2dcontour\": [{\"colorbar\": {\"outlinewidth\": 0, \"ticks\": \"\"}, \"colorscale\": [[0.0, \"#0d0887\"], [0.1111111111111111, \"#46039f\"], [0.2222222222222222, \"#7201a8\"], [0.3333333333333333, \"#9c179e\"], [0.4444444444444444, \"#bd3786\"], [0.5555555555555556, \"#d8576b\"], [0.6666666666666666, \"#ed7953\"], [0.7777777777777778, \"#fb9f3a\"], [0.8888888888888888, \"#fdca26\"], [1.0, \"#f0f921\"]], \"type\": \"histogram2dcontour\"}], \"mesh3d\": [{\"colorbar\": {\"outlinewidth\": 0, \"ticks\": \"\"}, \"type\": \"mesh3d\"}], \"parcoords\": [{\"line\": {\"colorbar\": {\"outlinewidth\": 0, \"ticks\": \"\"}}, \"type\": \"parcoords\"}], \"pie\": [{\"automargin\": true, \"type\": \"pie\"}], \"scatter\": [{\"marker\": {\"colorbar\": {\"outlinewidth\": 0, \"ticks\": \"\"}}, \"type\": \"scatter\"}], \"scatter3d\": [{\"line\": {\"colorbar\": {\"outlinewidth\": 0, \"ticks\": \"\"}}, \"marker\": {\"colorbar\": {\"outlinewidth\": 0, \"ticks\": \"\"}}, \"type\": \"scatter3d\"}], \"scattercarpet\": [{\"marker\": {\"colorbar\": {\"outlinewidth\": 0, \"ticks\": \"\"}}, \"type\": \"scattercarpet\"}], \"scattergeo\": [{\"marker\": {\"colorbar\": {\"outlinewidth\": 0, \"ticks\": \"\"}}, \"type\": \"scattergeo\"}], \"scattergl\": [{\"marker\": {\"colorbar\": {\"outlinewidth\": 0, \"ticks\": \"\"}}, \"type\": \"scattergl\"}], \"scattermapbox\": [{\"marker\": {\"colorbar\": {\"outlinewidth\": 0, \"ticks\": \"\"}}, \"type\": \"scattermapbox\"}], \"scatterpolar\": [{\"marker\": {\"colorbar\": {\"outlinewidth\": 0, \"ticks\": \"\"}}, \"type\": \"scatterpolar\"}], \"scatterpolargl\": [{\"marker\": {\"colorbar\": {\"outlinewidth\": 0, \"ticks\": \"\"}}, \"type\": \"scatterpolargl\"}], \"scatterternary\": [{\"marker\": {\"colorbar\": {\"outlinewidth\": 0, \"ticks\": \"\"}}, \"type\": \"scatterternary\"}], \"surface\": [{\"colorbar\": {\"outlinewidth\": 0, \"ticks\": \"\"}, \"colorscale\": [[0.0, \"#0d0887\"], [0.1111111111111111, \"#46039f\"], [0.2222222222222222, \"#7201a8\"], [0.3333333333333333, \"#9c179e\"], [0.4444444444444444, \"#bd3786\"], [0.5555555555555556, \"#d8576b\"], [0.6666666666666666, \"#ed7953\"], [0.7777777777777778, \"#fb9f3a\"], [0.8888888888888888, \"#fdca26\"], [1.0, \"#f0f921\"]], \"type\": \"surface\"}], \"table\": [{\"cells\": {\"fill\": {\"color\": \"#EBF0F8\"}, \"line\": {\"color\": \"white\"}}, \"header\": {\"fill\": {\"color\": \"#C8D4E3\"}, \"line\": {\"color\": \"white\"}}, \"type\": \"table\"}]}, \"layout\": {\"annotationdefaults\": {\"arrowcolor\": \"#2a3f5f\", \"arrowhead\": 0, \"arrowwidth\": 1}, \"coloraxis\": {\"colorbar\": {\"outlinewidth\": 0, \"ticks\": \"\"}}, \"colorscale\": {\"diverging\": [[0, \"#8e0152\"], [0.1, \"#c51b7d\"], [0.2, \"#de77ae\"], [0.3, \"#f1b6da\"], [0.4, \"#fde0ef\"], [0.5, \"#f7f7f7\"], [0.6, \"#e6f5d0\"], [0.7, \"#b8e186\"], [0.8, \"#7fbc41\"], [0.9, \"#4d9221\"], [1, \"#276419\"]], \"sequential\": [[0.0, \"#0d0887\"], [0.1111111111111111, \"#46039f\"], [0.2222222222222222, \"#7201a8\"], [0.3333333333333333, \"#9c179e\"], [0.4444444444444444, \"#bd3786\"], [0.5555555555555556, \"#d8576b\"], [0.6666666666666666, \"#ed7953\"], [0.7777777777777778, \"#fb9f3a\"], [0.8888888888888888, \"#fdca26\"], [1.0, \"#f0f921\"]], \"sequentialminus\": [[0.0, \"#0d0887\"], [0.1111111111111111, \"#46039f\"], [0.2222222222222222, \"#7201a8\"], [0.3333333333333333, \"#9c179e\"], [0.4444444444444444, \"#bd3786\"], [0.5555555555555556, \"#d8576b\"], [0.6666666666666666, \"#ed7953\"], [0.7777777777777778, \"#fb9f3a\"], [0.8888888888888888, \"#fdca26\"], [1.0, \"#f0f921\"]]}, \"colorway\": [\"#636efa\", \"#EF553B\", \"#00cc96\", \"#ab63fa\", \"#FFA15A\", \"#19d3f3\", \"#FF6692\", \"#B6E880\", \"#FF97FF\", \"#FECB52\"], \"font\": {\"color\": \"#2a3f5f\"}, \"geo\": {\"bgcolor\": \"white\", \"lakecolor\": \"white\", \"landcolor\": \"#E5ECF6\", \"showlakes\": true, \"showland\": true, \"subunitcolor\": \"white\"}, \"hoverlabel\": {\"align\": \"left\"}, \"hovermode\": \"closest\", \"mapbox\": {\"style\": \"light\"}, \"paper_bgcolor\": \"white\", \"plot_bgcolor\": \"#E5ECF6\", \"polar\": {\"angularaxis\": {\"gridcolor\": \"white\", \"linecolor\": \"white\", \"ticks\": \"\"}, \"bgcolor\": \"#E5ECF6\", \"radialaxis\": {\"gridcolor\": \"white\", \"linecolor\": \"white\", \"ticks\": \"\"}}, \"scene\": {\"xaxis\": {\"backgroundcolor\": \"#E5ECF6\", \"gridcolor\": \"white\", \"gridwidth\": 2, \"linecolor\": \"white\", \"showbackground\": true, \"ticks\": \"\", \"zerolinecolor\": \"white\"}, \"yaxis\": {\"backgroundcolor\": \"#E5ECF6\", \"gridcolor\": \"white\", \"gridwidth\": 2, \"linecolor\": \"white\", \"showbackground\": true, \"ticks\": \"\", \"zerolinecolor\": \"white\"}, \"zaxis\": {\"backgroundcolor\": \"#E5ECF6\", \"gridcolor\": \"white\", \"gridwidth\": 2, \"linecolor\": \"white\", \"showbackground\": true, \"ticks\": \"\", \"zerolinecolor\": \"white\"}}, \"shapedefaults\": {\"line\": {\"color\": \"#2a3f5f\"}}, \"ternary\": {\"aaxis\": {\"gridcolor\": \"white\", \"linecolor\": \"white\", \"ticks\": \"\"}, \"baxis\": {\"gridcolor\": \"white\", \"linecolor\": \"white\", \"ticks\": \"\"}, \"bgcolor\": \"#E5ECF6\", \"caxis\": {\"gridcolor\": \"white\", \"linecolor\": \"white\", \"ticks\": \"\"}}, \"title\": {\"x\": 0.05}, \"xaxis\": {\"automargin\": true, \"gridcolor\": \"white\", \"linecolor\": \"white\", \"ticks\": \"\", \"title\": {\"standoff\": 15}, \"zerolinecolor\": \"white\", \"zerolinewidth\": 2}, \"yaxis\": {\"automargin\": true, \"gridcolor\": \"white\", \"linecolor\": \"white\", \"ticks\": \"\", \"title\": {\"standoff\": 15}, \"zerolinecolor\": \"white\", \"zerolinewidth\": 2}}}},                        {\"responsive\": true}                    ).then(function(){\n",
       "                            \n",
       "var gd = document.getElementById('5ad3cf7e-2b3b-46ce-9be6-bbc091887f21');\n",
       "var x = new MutationObserver(function (mutations, observer) {{\n",
       "        var display = window.getComputedStyle(gd).display;\n",
       "        if (!display || display === 'none') {{\n",
       "            console.log([gd, 'removed!']);\n",
       "            Plotly.purge(gd);\n",
       "            observer.disconnect();\n",
       "        }}\n",
       "}});\n",
       "\n",
       "// Listen for the removal of the full notebook cells\n",
       "var notebookContainer = gd.closest('#notebook-container');\n",
       "if (notebookContainer) {{\n",
       "    x.observe(notebookContainer, {childList: true});\n",
       "}}\n",
       "\n",
       "// Listen for the clearing of the current output cell\n",
       "var outputEl = gd.closest('.output');\n",
       "if (outputEl) {{\n",
       "    x.observe(outputEl, {childList: true});\n",
       "}}\n",
       "\n",
       "                        })                };                });            </script>        </div>"
      ]
     },
     "metadata": {},
     "output_type": "display_data"
    }
   ],
   "source": [
    "px.treemap(bar_plot, path=['預交年份', 'BG', 'Group'], values='本國幣別NTD', color='數量')"
   ]
  },
  {
   "cell_type": "markdown",
   "metadata": {},
   "source": [
    "## 預算整理對外版本"
   ]
  },
  {
   "cell_type": "code",
   "execution_count": null,
   "metadata": {},
   "outputs": [],
   "source": [
    "for_cp = result[(result['預交年份'].isin([2020,2021])) & (result['負責業務'] == '許凱智') & (result['Group'] == '華新科技') & (result['類型'] == '元件')]"
   ]
  },
  {
   "cell_type": "code",
   "execution_count": null,
   "metadata": {},
   "outputs": [],
   "source": [
    "sort_product = for_cp['品名'].str.extract('([A-Z]+)(\\d{,4})', expand=True)\n",
    "sort_product.columns = ['產品別', '尺寸']"
   ]
  },
  {
   "cell_type": "code",
   "execution_count": null,
   "metadata": {},
   "outputs": [],
   "source": [
    "for_cp = pd.concat([for_cp, sort_product], axis=1)"
   ]
  },
  {
   "cell_type": "code",
   "execution_count": null,
   "metadata": {
    "scrolled": false
   },
   "outputs": [],
   "source": [
    "for_tree = for_cp.groupby(['預交年份', '預交月份','BG', '產品別', '尺寸', '品名'])[['本國幣別NTD', '數量']].sum().reset_index()"
   ]
  },
  {
   "cell_type": "code",
   "execution_count": null,
   "metadata": {},
   "outputs": [],
   "source": [
    "month_order = ['January', 'February', 'March', 'April', 'May', 'June', 'July',\n",
    "               'August', 'September', 'October', 'November', 'December']\n",
    "for_tree['預交月份'] = pd.Categorical(for_tree['預交月份'], ordered=True, categories=month_order)\n",
    "for_tree = for_tree.sort_values(by='預交月份')"
   ]
  },
  {
   "cell_type": "code",
   "execution_count": null,
   "metadata": {},
   "outputs": [],
   "source": [
    "import plotly.express as px"
   ]
  },
  {
   "cell_type": "code",
   "execution_count": null,
   "metadata": {},
   "outputs": [],
   "source": [
    "for_tree = for_tree[for_tree['本國幣別NTD'] != 0]"
   ]
  },
  {
   "cell_type": "code",
   "execution_count": null,
   "metadata": {},
   "outputs": [],
   "source": [
    "fig = px.treemap(for_tree, title='華新科技產品樹狀圖',\n",
    "                 path =['預交年份', '預交月份', '產品別', '品名'], \n",
    "                values='本國幣別NTD', \n",
    "                color='數量')\n",
    "\n",
    "fig.show()"
   ]
  },
  {
   "cell_type": "code",
   "execution_count": null,
   "metadata": {},
   "outputs": [],
   "source": [
    "table = for_tree.groupby(['預交年份', 'BG', '產品別'])[['本國幣別NTD', '數量']].sum().reset_index()\n",
    "table.columns = ['年份', 'BU', '產品別', '金額', '數量']"
   ]
  },
  {
   "cell_type": "code",
   "execution_count": null,
   "metadata": {},
   "outputs": [],
   "source": [
    "table = table.sort_values(by=['年份','金額'], ascending=False)"
   ]
  },
  {
   "cell_type": "code",
   "execution_count": null,
   "metadata": {},
   "outputs": [],
   "source": [
    "format_dict = {'金額': '{0:,.0f}', '數量': '{0:,.0f}'}\n",
    "table = table.style.format(format_dict).set_caption('各BU產品別排名').hide_index()"
   ]
  },
  {
   "cell_type": "code",
   "execution_count": null,
   "metadata": {},
   "outputs": [],
   "source": [
    "table"
   ]
  },
  {
   "cell_type": "code",
   "execution_count": null,
   "metadata": {
    "scrolled": false
   },
   "outputs": [],
   "source": [
    "his_fig = px.histogram(for_tree, x='預交月份', y='本國幣別NTD', color='預交年份', barmode='group',\n",
    "            title='2020/2021實績 vs 預算',\n",
    "            labels={'預交月份': '月份',\n",
    "                   '本國幣別NTD': '金額',\n",
    "                   '預交年份': '年份'})\n",
    "\n",
    "his_fig.show()"
   ]
  },
  {
   "cell_type": "code",
   "execution_count": null,
   "metadata": {},
   "outputs": [],
   "source": [
    "with open('華新科預算修正.html', 'a') as f:\n",
    "    f.write(fig.to_html(full_html=False, include_plotlyjs='cdn'))\n",
    "    f.write(his_fig.to_html(full_html=False, include_plotlyjs='cdn'))\n",
    "    f.write(table.render())\n",
    "    f.close()"
   ]
  },
  {
   "cell_type": "code",
   "execution_count": null,
   "metadata": {},
   "outputs": [],
   "source": [
    "final_budget[(final_budget['Group'].isin(['信昌', '華新科技', 'TELTONIKA'])) & (final_budget['類型'] == '元件')].groupby(['Group'])[['數量', '本國幣別NTD']].sum().reset_index()"
   ]
  },
  {
   "cell_type": "markdown",
   "metadata": {},
   "source": [
    "## 2021 Budget test\n",
    "\n",
    "* 如果後續要groupby，需要groupby的欄位不可以為空值"
   ]
  },
  {
   "cell_type": "code",
   "execution_count": null,
   "metadata": {},
   "outputs": [],
   "source": [
    "import pandas as pd\n",
    "pd.set_option('display.max_columns', None)"
   ]
  },
  {
   "cell_type": "code",
   "execution_count": null,
   "metadata": {
    "scrolled": true
   },
   "outputs": [],
   "source": [
    "df = pd.read_excel(r'C:\\Users\\kaihsu\\Desktop\\2021 Forecast\\2021_forecast_final.xlsx', sheet_name='2021預算總表')\n"
   ]
  },
  {
   "cell_type": "code",
   "execution_count": null,
   "metadata": {},
   "outputs": [],
   "source": [
    "df2 = df[df['Unit'] == 'KPCS']\n",
    "df2['Qty.'] = df2['Qty.'].apply(lambda x: x*1000)\n",
    "# df2\n",
    "# df3 = df[df['Unit'] == 'PCS']"
   ]
  },
  {
   "cell_type": "code",
   "execution_count": null,
   "metadata": {},
   "outputs": [],
   "source": [
    "df3 = df[df['Unit'] == 'PCS']"
   ]
  },
  {
   "cell_type": "code",
   "execution_count": null,
   "metadata": {},
   "outputs": [],
   "source": [
    "df2['Unit'] = df2['Unit'].str.replace('KPCS', 'PCS')\n",
    "# df2"
   ]
  },
  {
   "cell_type": "code",
   "execution_count": null,
   "metadata": {},
   "outputs": [],
   "source": [
    "df_final = pd.concat([df2, df3], axis=0)"
   ]
  },
  {
   "cell_type": "code",
   "execution_count": null,
   "metadata": {
    "jupyter": {
     "outputs_hidden": true
    }
   },
   "outputs": [],
   "source": [
    "# df_final = df[df_final['Year'] == 2021].reset_index(drop=True)\n",
    "df_final['Application'] = df_final['Application'].fillna('Unknown')\n",
    "df_final['End customer'] = df_final['End customer'].fillna('Unknown')\n",
    "df_final"
   ]
  },
  {
   "cell_type": "code",
   "execution_count": null,
   "metadata": {},
   "outputs": [],
   "source": [
    "test = df_final.groupby(['Distributor', 'End customer', 'Product category', 'INPAQ PN', 'Application', 'Unit Price', 'Currency', 'Month'])[['Qty.']].sum().reset_index()"
   ]
  },
  {
   "cell_type": "code",
   "execution_count": null,
   "metadata": {},
   "outputs": [],
   "source": [
    "# 重新改變columns的排列\n",
    "test = test.reindex(columns=['Distributor', 'End customer', 'Product category', 'INPAQ PN', 'Application', 'Qty.', 'Unit Price', 'Currency', 'Month', 'Total NTD'])\n",
    "# test.rename(columns={'Unit Price': 'Unit Price_USD/RMB'})"
   ]
  },
  {
   "cell_type": "code",
   "execution_count": null,
   "metadata": {
    "scrolled": true
   },
   "outputs": [],
   "source": [
    "test = pd.pivot_table(test, values='Qty.', index=['Distributor', 'End customer', 'Product category', 'INPAQ PN', 'Application', 'Unit Price', 'Currency'], columns='Month').reset_index()"
   ]
  },
  {
   "cell_type": "code",
   "execution_count": null,
   "metadata": {},
   "outputs": [],
   "source": [
    "test"
   ]
  },
  {
   "cell_type": "code",
   "execution_count": null,
   "metadata": {
    "scrolled": true
   },
   "outputs": [],
   "source": [
    "test.to_excel(r'C:\\Users\\kaihsu\\Desktop\\2021 Forecast\\2021_forecast_by_Susan_format.xlsx', sheet_name='Forecast_yearly', index=False)"
   ]
  },
  {
   "cell_type": "markdown",
   "metadata": {},
   "source": [
    "### 20201217修改Teltonika預算"
   ]
  },
  {
   "cell_type": "code",
   "execution_count": null,
   "metadata": {},
   "outputs": [],
   "source": [
    "df = df[['Distributor', 'End customer', 'Product category', 'Application', 'INPAQ PN', 'Currency', 'Unit Price', 'Qty.', 'Month']]\n",
    "df = df[(df['Distributor'] == 'Teltonika') & (df['Product category'] == 'RF')]"
   ]
  },
  {
   "cell_type": "code",
   "execution_count": null,
   "metadata": {},
   "outputs": [],
   "source": [
    "df = pd.pivot_table(df, values='Qty.', index=['Distributor', 'End customer', 'Product category', 'Application', 'INPAQ PN', 'Currency', 'Unit Price'], columns='Month').reset_index()"
   ]
  },
  {
   "cell_type": "code",
   "execution_count": null,
   "metadata": {},
   "outputs": [],
   "source": [
    "df.to_excel(r'C:\\Users\\kaihsu\\Desktop\\2021_forecast_teltonika_revised_20201217.xlsx', index=False)"
   ]
  },
  {
   "cell_type": "markdown",
   "metadata": {},
   "source": [
    "## 整理藝感的年度預估\n"
   ]
  },
  {
   "cell_type": "code",
   "execution_count": null,
   "metadata": {},
   "outputs": [],
   "source": [
    "df = pd.read_excel(r'C:\\Users\\kaihsu\\Desktop\\2021 Forecast\\2021_forecast_藝感_response.xlsx', None)"
   ]
  },
  {
   "cell_type": "code",
   "execution_count": null,
   "metadata": {},
   "outputs": [],
   "source": [
    "df = df['2021 Forecast']"
   ]
  },
  {
   "cell_type": "code",
   "execution_count": null,
   "metadata": {},
   "outputs": [],
   "source": [
    "df = df.drop([0,33])"
   ]
  },
  {
   "cell_type": "code",
   "execution_count": null,
   "metadata": {},
   "outputs": [],
   "source": [
    "df = df.drop('Customer PN', axis=1)\n"
   ]
  },
  {
   "cell_type": "code",
   "execution_count": null,
   "metadata": {},
   "outputs": [],
   "source": [
    "df = df.set_index('INPAQ PN')\n"
   ]
  },
  {
   "cell_type": "code",
   "execution_count": null,
   "metadata": {},
   "outputs": [],
   "source": [
    "df = df.stack()\n"
   ]
  },
  {
   "cell_type": "code",
   "execution_count": null,
   "metadata": {},
   "outputs": [],
   "source": [
    "df = df.reset_index()"
   ]
  },
  {
   "cell_type": "code",
   "execution_count": null,
   "metadata": {},
   "outputs": [],
   "source": [
    "df.to_excel(r'C:\\Users\\kaihsu\\Desktop\\2021 Forecast\\2021預算藝感整理過.xlsx')"
   ]
  },
  {
   "cell_type": "markdown",
   "metadata": {},
   "source": [
    "## 整理信昌預算\n"
   ]
  },
  {
   "cell_type": "code",
   "execution_count": null,
   "metadata": {},
   "outputs": [],
   "source": [
    "df = pd.read_excel(r'C:\\Users\\kaihsu\\Desktop\\2021 Forecast\\2021_forecast_PDC_response.xlsx', None)"
   ]
  },
  {
   "cell_type": "code",
   "execution_count": null,
   "metadata": {},
   "outputs": [],
   "source": [
    "df = df['2020出貨量']"
   ]
  },
  {
   "cell_type": "code",
   "execution_count": null,
   "metadata": {},
   "outputs": [],
   "source": [
    "df = df.drop([0,125])"
   ]
  },
  {
   "cell_type": "code",
   "execution_count": null,
   "metadata": {},
   "outputs": [],
   "source": [
    "df = df.drop(['Unnamed: 0', 'Unnamed: 3', 'January', 'February', 'March', 'April', 'May', 'June', 'July', 'August', 'September', 'October', 'November', 'December'], axis=1)"
   ]
  },
  {
   "cell_type": "code",
   "execution_count": null,
   "metadata": {},
   "outputs": [],
   "source": [
    "columns=['INPAQ PN', 'Customer PN', '1', '2', '3', '4', '5', '6', '7', '8', '9', '10', '11', '12']\n",
    "df.columns = columns"
   ]
  },
  {
   "cell_type": "code",
   "execution_count": null,
   "metadata": {},
   "outputs": [],
   "source": [
    "df = df.set_index(['INPAQ PN', 'Customer PN'])"
   ]
  },
  {
   "cell_type": "code",
   "execution_count": null,
   "metadata": {},
   "outputs": [],
   "source": [
    "df = df.stack()"
   ]
  },
  {
   "cell_type": "code",
   "execution_count": null,
   "metadata": {},
   "outputs": [],
   "source": [
    "df = df.reset_index()"
   ]
  },
  {
   "cell_type": "code",
   "execution_count": null,
   "metadata": {
    "scrolled": true
   },
   "outputs": [],
   "source": [
    "columns = ['INPAQ PN', 'Customer PN', 'Month', 'Qty.']\n",
    "df.columns = columns\n",
    "df"
   ]
  },
  {
   "cell_type": "code",
   "execution_count": null,
   "metadata": {},
   "outputs": [],
   "source": [
    "df = df.reindex(columns=df.columns.tolist() + new_columns)"
   ]
  },
  {
   "cell_type": "code",
   "execution_count": null,
   "metadata": {},
   "outputs": [],
   "source": [
    "re_columns = ['End customer', 'Distributor', 'Year', 'Month', 'Product category', 'Sub-category', 'Customer PN', 'INPAQ PN', 'Application', 'Qty.', 'Unit', 'Unit Price', 'Currency', 'Rate', 'NTD', 'Total NTD']\n",
    "df = df.reindex(columns=re_columns)\n"
   ]
  },
  {
   "cell_type": "code",
   "execution_count": null,
   "metadata": {},
   "outputs": [],
   "source": [
    "df['End customer'] = df['End customer'].fillna('N/A')\n",
    "df['Distributor'] = df['Distributor'].fillna('信昌')\n",
    "df['Year'] = df['Year'].fillna(2021)\n",
    "df['Application'] = df['Application'].fillna('N/A')\n",
    "df['Unit'] = df['Unit'].fillna('PCS')\n"
   ]
  },
  {
   "cell_type": "code",
   "execution_count": null,
   "metadata": {},
   "outputs": [],
   "source": [
    "df['Year'] = df['Year'].astype('int')\n",
    "df.to_excel(r'C:\\Users\\kaihsu\\Desktop\\2021 Forecast\\2021_forecast_PDC_清洗完.xlsx', index=False)"
   ]
  }
 ],
 "metadata": {
  "kernelspec": {
   "display_name": "Python 3",
   "language": "python",
   "name": "python3"
  },
  "language_info": {
   "codemirror_mode": {
    "name": "ipython",
    "version": 3
   },
   "file_extension": ".py",
   "mimetype": "text/x-python",
   "name": "python",
   "nbconvert_exporter": "python",
   "pygments_lexer": "ipython3",
   "version": "3.8.5"
  }
 },
 "nbformat": 4,
 "nbformat_minor": 4
}
