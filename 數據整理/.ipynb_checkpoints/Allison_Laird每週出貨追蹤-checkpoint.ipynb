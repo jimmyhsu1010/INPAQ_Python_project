{
 "cells": [
  {
   "cell_type": "code",
   "execution_count": 2,
   "metadata": {},
   "outputs": [],
   "source": [
    "import pandas as pd\n",
    "pd.set_option('display.max_rows', 10)\n",
    "pd.set_option('display.float_format', lambda x: '%.2f' % x)"
   ]
  },
  {
   "cell_type": "code",
   "execution_count": 1,
   "metadata": {},
   "outputs": [],
   "source": [
    "import tkinter as tk\n",
    "from tkinter import filedialog"
   ]
  },
  {
   "cell_type": "code",
   "execution_count": 3,
   "metadata": {},
   "outputs": [],
   "source": [
    "root = tk.Tk()\n",
    "root.withdraw()\n",
    "file_paths = filedialog.askopenfilenames()"
   ]
  },
  {
   "cell_type": "code",
   "execution_count": 8,
   "metadata": {
    "collapsed": true
   },
   "outputs": [
    {
     "name": "stdout",
     "output_type": "stream",
     "text": [
      "w1\n",
      "w2\n",
      "w3\n",
      "w4\n",
      "w5\n"
     ]
    }
   ],
   "source": [
    "for l in list(file_paths):\n",
    "    print(l[-6:-4])"
   ]
  },
  {
   "cell_type": "code",
   "execution_count": 74,
   "metadata": {},
   "outputs": [],
   "source": [
    "df_list = []\n",
    "for l in list(file_paths):\n",
    "    globals()[\"df\"+ l[-6:-4]] = pd.read_excel(l, header=3)\n",
    "    df_list.append(globals()[\"df\" + l[-6:-4]])"
   ]
  },
  {
   "cell_type": "code",
   "execution_count": 75,
   "metadata": {},
   "outputs": [],
   "source": [
    "df_dict = {}\n",
    "for k, v in enumerate(df_list):\n",
    "    df_dict.setdefault(k, v)"
   ]
  },
  {
   "cell_type": "code",
   "execution_count": 76,
   "metadata": {},
   "outputs": [],
   "source": [
    "for i in df_dict.keys():\n",
    "    df_dict[i] = df_dict[i].iloc[:-2]"
   ]
  },
  {
   "cell_type": "code",
   "execution_count": 51,
   "metadata": {},
   "outputs": [],
   "source": [
    "bu = pd.read_clipboard()"
   ]
  },
  {
   "cell_type": "code",
   "execution_count": 55,
   "metadata": {},
   "outputs": [],
   "source": [
    "bu_keys = bu[\"Cus\"]\n",
    "bu_values = bu[\"Group\"]\n",
    "bu_dict = dict(zip(bu_keys, bu_values))"
   ]
  },
  {
   "cell_type": "code",
   "execution_count": 57,
   "metadata": {
    "scrolled": true
   },
   "outputs": [],
   "source": [
    "df_dict[0][\"客戶名稱\"] = df_dict[0][\"客戶名稱\"].map(bu_dict)"
   ]
  },
  {
   "cell_type": "code",
   "execution_count": 60,
   "metadata": {},
   "outputs": [],
   "source": [
    "keep_columns = [\"銷售單號\", \"銷售項次\", \"預交日期\", \"交期變更\", \"客戶名稱\", \"客戶訂單\", \"客戶訂單項次\", \"品名\", \"幣別\", \"數量\", \"已出數量\", \"未出數\", \"單價\", \"出通單號\", \"集團匯率*金額\"]\n",
    "df_dict[0] = df_dict[0][keep_columns]"
   ]
  },
  {
   "cell_type": "code",
   "execution_count": 77,
   "metadata": {},
   "outputs": [],
   "source": [
    "def data_clean(data):\n",
    "    data = data[data[\"負責業務\"] == \"鄭里緗\"]\n",
    "    data[\"客戶名稱\"] = data[\"客戶名稱\"].map(bu_dict)\n",
    "    keep_columns = [\"銷售單號\", \"銷售項次\", \"預交日期\", \"交期變更\", \"客戶名稱\", \"客戶訂單\", \"客戶訂單項次\", \"品名\", \"幣別\", \"數量\", \"已出數量\", \"未出數\", \"單價\", \"出通單號\", \"集團匯率*金額\"]\n",
    "    data = data[keep_columns]\n",
    "    data = data[data[\"客戶名稱\"] == \"Laird\"]\n",
    "    return data"
   ]
  },
  {
   "cell_type": "code",
   "execution_count": 80,
   "metadata": {},
   "outputs": [
    {
     "name": "stderr",
     "output_type": "stream",
     "text": [
      "<ipython-input-77-9261afd6a027>:3: SettingWithCopyWarning: \n",
      "A value is trying to be set on a copy of a slice from a DataFrame.\n",
      "Try using .loc[row_indexer,col_indexer] = value instead\n",
      "\n",
      "See the caveats in the documentation: https://pandas.pydata.org/pandas-docs/stable/user_guide/indexing.html#returning-a-view-versus-a-copy\n",
      "  data[\"客戶名稱\"] = data[\"客戶名稱\"].map(bu_dict)\n"
     ]
    }
   ],
   "source": [
    "for i in df_dict.keys():\n",
    "    df_dict[i] = data_clean(df_dict[i])"
   ]
  },
  {
   "cell_type": "code",
   "execution_count": 94,
   "metadata": {},
   "outputs": [],
   "source": [
    "for v in df_dict.keys():\n",
    "    file_path = r\"C:\\Users\\kaihsu\\Desktop\\業績總表\\元件每週數據\\整理過數據\" + \"\\\\\" + \"w\" + str(v+1) + \".xlsx\" \n",
    "    df_dict[v].to_excel(file_path, index=False)"
   ]
  },
  {
   "cell_type": "code",
   "execution_count": null,
   "metadata": {},
   "outputs": [],
   "source": []
  }
 ],
 "metadata": {
  "kernelspec": {
   "display_name": "Python 3",
   "language": "python",
   "name": "python3"
  },
  "language_info": {
   "codemirror_mode": {
    "name": "ipython",
    "version": 3
   },
   "file_extension": ".py",
   "mimetype": "text/x-python",
   "name": "python",
   "nbconvert_exporter": "python",
   "pygments_lexer": "ipython3",
   "version": "3.8.5"
  }
 },
 "nbformat": 4,
 "nbformat_minor": 4
}
