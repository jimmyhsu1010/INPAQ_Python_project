{
 "cells": [
  {
   "cell_type": "code",
   "execution_count": 15,
   "metadata": {},
   "outputs": [],
   "source": [
    "import pandas as pd\n",
    "import tkinter as tk\n",
    "from tkinter import filedialog"
   ]
  },
  {
   "cell_type": "code",
   "execution_count": 47,
   "metadata": {},
   "outputs": [],
   "source": [
    "def quot_calculation():\n",
    "    root = tk.Tk()\n",
    "    root.withdraw()\n",
    "    path = filedialog.askopenfilename()\n",
    "    \n",
    "    df = pd.read_excel(path, None)\n",
    "    \n",
    "    quot_column = ['成本', '使用匯率', '低於10K報價', '毛利率1', '10K~50K報價', '毛利率2', '50K以上報價', '毛利率3']\n",
    "    quot = pd.DataFrame(columns=quot_column)\n",
    "    menu = {}\n",
    "    for k, v in enumerate(df.keys()):\n",
    "        print(k+1, v)\n",
    "        menu.setdefault(k+1, v)\n",
    "    slct_sheet = eval(input('請選擇要開啟的sheet:\\n'))\n",
    "    cur_rate = eval(input('請輸入美金對人民幣匯率\\n'))\n",
    "    result = df[menu[slct_sheet]].iloc[:16, :2]\n",
    "    cost = round(result.loc[13]['成本RMB$'] / cur_rate, 2)\n",
    "    below_10 = round(cost / 0.7, 2)\n",
    "    margin1 = round((below_10 - cost) / below_10, 1)\n",
    "    from10to50 = round(cost / 0.8, 2)\n",
    "    margin2 = round((from10to50 - cost) / from10to50, 1)\n",
    "    over50 = round(cost / 0.85, 2)\n",
    "    margin3 = round((over50 - cost) / over50, 2)\n",
    "    quot.loc[0] = [cost, cur_rate, below_10, margin1, from10to50, margin2, over50, margin3]\n",
    "    print(quot)\n",
    "    \n",
    "    return quot\n",
    "    \n",
    "    \n",
    "    "
   ]
  },
  {
   "cell_type": "code",
   "execution_count": 54,
   "metadata": {
    "scrolled": false
   },
   "outputs": [
    {
     "name": "stdout",
     "output_type": "stream",
     "text": [
      "1 History\n",
      "2 提供業務\n",
      "請選擇要開啟的sheet:\n",
      "2\n",
      "請輸入美金對人民幣匯率\n",
      "6.56\n",
      "     成本  使用匯率  低於10K報價  毛利率1  10K~50K報價  毛利率2  50K以上報價  毛利率3\n",
      "0  0.14  6.56      0.2   0.3       0.18   0.2     0.16  0.12\n"
     ]
    }
   ],
   "source": [
    "quot = quot_calculation()"
   ]
  },
  {
   "cell_type": "code",
   "execution_count": 51,
   "metadata": {},
   "outputs": [
    {
     "data": {
      "text/html": [
       "<div>\n",
       "<style scoped>\n",
       "    .dataframe tbody tr th:only-of-type {\n",
       "        vertical-align: middle;\n",
       "    }\n",
       "\n",
       "    .dataframe tbody tr th {\n",
       "        vertical-align: top;\n",
       "    }\n",
       "\n",
       "    .dataframe thead th {\n",
       "        text-align: right;\n",
       "    }\n",
       "</style>\n",
       "<table border=\"1\" class=\"dataframe\">\n",
       "  <thead>\n",
       "    <tr style=\"text-align: right;\">\n",
       "      <th></th>\n",
       "      <th>成本</th>\n",
       "      <th>使用匯率</th>\n",
       "      <th>低於10K報價</th>\n",
       "      <th>毛利率1</th>\n",
       "      <th>10K~50K報價</th>\n",
       "      <th>毛利率2</th>\n",
       "      <th>50K以上報價</th>\n",
       "      <th>毛利率3</th>\n",
       "    </tr>\n",
       "  </thead>\n",
       "  <tbody>\n",
       "    <tr>\n",
       "      <th>0</th>\n",
       "      <td>0.15</td>\n",
       "      <td>6.4</td>\n",
       "      <td>0.21</td>\n",
       "      <td>0.3</td>\n",
       "      <td>0.19</td>\n",
       "      <td>0.2</td>\n",
       "      <td>0.18</td>\n",
       "      <td>0.17</td>\n",
       "    </tr>\n",
       "  </tbody>\n",
       "</table>\n",
       "</div>"
      ],
      "text/plain": [
       "     成本  使用匯率  低於10K報價  毛利率1  10K~50K報價  毛利率2  50K以上報價  毛利率3\n",
       "0  0.15   6.4     0.21   0.3       0.19   0.2     0.18  0.17"
      ]
     },
     "execution_count": 51,
     "metadata": {},
     "output_type": "execute_result"
    }
   ],
   "source": [
    "quot"
   ]
  }
 ],
 "metadata": {
  "kernelspec": {
   "display_name": "Python 3",
   "language": "python",
   "name": "python3"
  },
  "language_info": {
   "codemirror_mode": {
    "name": "ipython",
    "version": 3
   },
   "file_extension": ".py",
   "mimetype": "text/x-python",
   "name": "python",
   "nbconvert_exporter": "python",
   "pygments_lexer": "ipython3",
   "version": "3.8.5"
  }
 },
 "nbformat": 4,
 "nbformat_minor": 4
}
