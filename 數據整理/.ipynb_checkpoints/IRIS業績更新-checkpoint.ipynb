{
 "cells": [
  {
   "cell_type": "code",
   "execution_count": 44,
   "metadata": {},
   "outputs": [],
   "source": [
    "import pandas as pd\n",
    "pd.set_option(\"display.max_rows\", 8)\n",
    "pd.set_option(\"display.max_columns\", None)\n",
    "import tkinter as tk\n",
    "from tkinter import filedialog"
   ]
  },
  {
   "cell_type": "code",
   "execution_count": 89,
   "metadata": {},
   "outputs": [],
   "source": [
    "root = tk.Tk()\n",
    "root.withdraw()\n",
    "file_path = filedialog.askopenfilename()"
   ]
  },
  {
   "cell_type": "code",
   "execution_count": 90,
   "metadata": {},
   "outputs": [],
   "source": [
    "df = pd.read_excel(file_path, sheet_name=\"出貨明細\")"
   ]
  },
  {
   "cell_type": "code",
   "execution_count": 91,
   "metadata": {},
   "outputs": [],
   "source": [
    "iris = df[[\"BG\", \"Subcategory\", \"Group\", \"狀態\", \"預交年份\", \"預交月份\", \"負責業務\", \"品名\", \"本國幣別NTD\"]]"
   ]
  },
  {
   "cell_type": "code",
   "execution_count": 92,
   "metadata": {
    "scrolled": true
   },
   "outputs": [],
   "source": [
    "iris = iris[(iris[\"BG\"] == \"RF\") & (iris[\"狀態\"].str.contains(\"出\")) & (iris[\"預交年份\"] == 2021) & (iris[\"預交月份\"].isin([\"February\", \"March\", \"April\"]))]"
   ]
  },
  {
   "cell_type": "code",
   "execution_count": 93,
   "metadata": {},
   "outputs": [],
   "source": [
    "iris[\"Subcategory\"] = iris.apply(lambda x: \"BU2\" if \"RFDPA\" in x[\"品名\"] else \"BU1\", axis=1)"
   ]
  },
  {
   "cell_type": "code",
   "execution_count": 94,
   "metadata": {},
   "outputs": [],
   "source": [
    "iris = iris[iris[\"Subcategory\"] == \"BU1\"]"
   ]
  },
  {
   "cell_type": "code",
   "execution_count": 95,
   "metadata": {},
   "outputs": [],
   "source": [
    "budget = pd.read_excel(file_path, sheet_name=\"2021預算總表\", usecols=\"A:I\")"
   ]
  },
  {
   "cell_type": "code",
   "execution_count": 96,
   "metadata": {},
   "outputs": [],
   "source": [
    "revenue = iris.groupby([\"負責業務\", \"預交月份\"])[\"本國幣別NTD\"].sum().reset_index()"
   ]
  },
  {
   "cell_type": "code",
   "execution_count": 97,
   "metadata": {},
   "outputs": [],
   "source": [
    "budget = budget[(budget[\"類型\"] == \"天線\") & (budget[\"預交年份\"] == 2021) & (budget[\"預交月份\"].isin([\"February\", \"March\", \"April\"]))].groupby([\"負責業務\", \"預交月份\"])[[\"本國幣別NTD\"]].sum().reset_index()"
   ]
  },
  {
   "cell_type": "code",
   "execution_count": 98,
   "metadata": {},
   "outputs": [],
   "source": [
    "budget[\"類別\"] = \"預算\"\n",
    "revenue[\"類別\"] = \"實績\""
   ]
  },
  {
   "cell_type": "code",
   "execution_count": 99,
   "metadata": {},
   "outputs": [],
   "source": [
    "budget.columns = ['負責業務', '預交月份', '本國幣別NTD', '類別']"
   ]
  },
  {
   "cell_type": "code",
   "execution_count": 100,
   "metadata": {},
   "outputs": [],
   "source": [
    "revenue.columns = ['負責業務', '預交月份', '本國幣別NTD', '類別']"
   ]
  },
  {
   "cell_type": "code",
   "execution_count": 101,
   "metadata": {},
   "outputs": [],
   "source": [
    "for_iris = pd.concat([revenue, budget], axis=0)"
   ]
  },
  {
   "cell_type": "code",
   "execution_count": 102,
   "metadata": {},
   "outputs": [],
   "source": [
    "result = iris.pivot_table(index=[\"負責業務\", \"Subcategory\"], values=\"本國幣別NTD\", columns=\"預交月份\", aggfunc=\"sum\").reset_index()"
   ]
  },
  {
   "cell_type": "code",
   "execution_count": 103,
   "metadata": {},
   "outputs": [],
   "source": [
    "'''.xs()可以將unstack後的level刪除'''\n",
    "test = iris.groupby([\"負責業務\", \"Subcategory\", \"預交月份\"])[[\"本國幣別NTD\"]].sum().unstack(\"預交月份\").xs(\"本國幣別NTD\", axis=1).reset_index()"
   ]
  },
  {
   "cell_type": "code",
   "execution_count": 104,
   "metadata": {},
   "outputs": [],
   "source": [
    "result = iris.pivot_table(index=[\"負責業務\", \"Subcategory\"], columns=\"預交月份\", values=\"本國幣別NTD\", aggfunc=\"sum\", margins=True, margins_name=\"Total\").reset_index()"
   ]
  },
  {
   "cell_type": "code",
   "execution_count": 105,
   "metadata": {},
   "outputs": [],
   "source": [
    "result = for_iris.pivot_table(index=[\"負責業務\", \"類別\"], columns=\"預交月份\", values=\"本國幣別NTD\", aggfunc=\"sum\").reset_index()"
   ]
  },
  {
   "cell_type": "code",
   "execution_count": 106,
   "metadata": {},
   "outputs": [],
   "source": [
    "final = pd.DataFrame(result.to_records())"
   ]
  },
  {
   "cell_type": "code",
   "execution_count": 107,
   "metadata": {},
   "outputs": [],
   "source": [
    "final = final.drop(\"index\", axis=1)"
   ]
  },
  {
   "cell_type": "code",
   "execution_count": 108,
   "metadata": {},
   "outputs": [
    {
     "data": {
      "text/html": [
       "<div>\n",
       "<style scoped>\n",
       "    .dataframe tbody tr th:only-of-type {\n",
       "        vertical-align: middle;\n",
       "    }\n",
       "\n",
       "    .dataframe tbody tr th {\n",
       "        vertical-align: top;\n",
       "    }\n",
       "\n",
       "    .dataframe thead th {\n",
       "        text-align: right;\n",
       "    }\n",
       "</style>\n",
       "<table border=\"1\" class=\"dataframe\">\n",
       "  <thead>\n",
       "    <tr style=\"text-align: right;\">\n",
       "      <th></th>\n",
       "      <th>負責業務</th>\n",
       "      <th>類別</th>\n",
       "      <th>April</th>\n",
       "      <th>February</th>\n",
       "      <th>March</th>\n",
       "    </tr>\n",
       "  </thead>\n",
       "  <tbody>\n",
       "    <tr>\n",
       "      <th>0</th>\n",
       "      <td>墨漢雷迪</td>\n",
       "      <td>實績</td>\n",
       "      <td>1.738168e+06</td>\n",
       "      <td>8167264.00</td>\n",
       "      <td>4.488236e+06</td>\n",
       "    </tr>\n",
       "    <tr>\n",
       "      <th>1</th>\n",
       "      <td>墨漢雷迪</td>\n",
       "      <td>預算</td>\n",
       "      <td>1.102170e+07</td>\n",
       "      <td>8359053.00</td>\n",
       "      <td>9.144335e+06</td>\n",
       "    </tr>\n",
       "    <tr>\n",
       "      <th>2</th>\n",
       "      <td>許凱智</td>\n",
       "      <td>實績</td>\n",
       "      <td>8.335374e+06</td>\n",
       "      <td>6787327.26</td>\n",
       "      <td>5.877585e+06</td>\n",
       "    </tr>\n",
       "    <tr>\n",
       "      <th>3</th>\n",
       "      <td>許凱智</td>\n",
       "      <td>預算</td>\n",
       "      <td>2.990461e+06</td>\n",
       "      <td>6000733.00</td>\n",
       "      <td>6.000483e+06</td>\n",
       "    </tr>\n",
       "    <tr>\n",
       "      <th>4</th>\n",
       "      <td>鄭里緗</td>\n",
       "      <td>實績</td>\n",
       "      <td>5.941628e+05</td>\n",
       "      <td>189758.80</td>\n",
       "      <td>4.044040e+05</td>\n",
       "    </tr>\n",
       "    <tr>\n",
       "      <th>5</th>\n",
       "      <td>鄭里緗</td>\n",
       "      <td>預算</td>\n",
       "      <td>3.582040e+05</td>\n",
       "      <td>183400.00</td>\n",
       "      <td>3.582040e+05</td>\n",
       "    </tr>\n",
       "  </tbody>\n",
       "</table>\n",
       "</div>"
      ],
      "text/plain": [
       "   負責業務  類別         April    February         March\n",
       "0  墨漢雷迪  實績  1.738168e+06  8167264.00  4.488236e+06\n",
       "1  墨漢雷迪  預算  1.102170e+07  8359053.00  9.144335e+06\n",
       "2   許凱智  實績  8.335374e+06  6787327.26  5.877585e+06\n",
       "3   許凱智  預算  2.990461e+06  6000733.00  6.000483e+06\n",
       "4   鄭里緗  實績  5.941628e+05   189758.80  4.044040e+05\n",
       "5   鄭里緗  預算  3.582040e+05   183400.00  3.582040e+05"
      ]
     },
     "execution_count": 108,
     "metadata": {},
     "output_type": "execute_result"
    }
   ],
   "source": [
    "final"
   ]
  },
  {
   "cell_type": "code",
   "execution_count": 112,
   "metadata": {},
   "outputs": [],
   "source": [
    "final = final.reindex(columns=['負責業務', '類別', 'February', 'March', 'April'])"
   ]
  },
  {
   "cell_type": "code",
   "execution_count": 113,
   "metadata": {
    "scrolled": false
   },
   "outputs": [
    {
     "data": {
      "text/html": [
       "<style  type=\"text/css\" >\n",
       "</style><table id=\"T_95d67e41_862d_11eb_85bb_f83441a55a81\" ><thead>    <tr>        <th class=\"col_heading level0 col0\" >負責業務</th>        <th class=\"col_heading level0 col1\" >類別</th>        <th class=\"col_heading level0 col2\" >February</th>        <th class=\"col_heading level0 col3\" >March</th>        <th class=\"col_heading level0 col4\" >April</th>    </tr></thead><tbody>\n",
       "                <tr>\n",
       "                                <td id=\"T_95d67e41_862d_11eb_85bb_f83441a55a81row0_col0\" class=\"data row0 col0\" >墨漢雷迪</td>\n",
       "                        <td id=\"T_95d67e41_862d_11eb_85bb_f83441a55a81row0_col1\" class=\"data row0 col1\" >實績</td>\n",
       "                        <td id=\"T_95d67e41_862d_11eb_85bb_f83441a55a81row0_col2\" class=\"data row0 col2\" >8,167,264</td>\n",
       "                        <td id=\"T_95d67e41_862d_11eb_85bb_f83441a55a81row0_col3\" class=\"data row0 col3\" >4,488,236</td>\n",
       "                        <td id=\"T_95d67e41_862d_11eb_85bb_f83441a55a81row0_col4\" class=\"data row0 col4\" >1,738,168</td>\n",
       "            </tr>\n",
       "            <tr>\n",
       "                                <td id=\"T_95d67e41_862d_11eb_85bb_f83441a55a81row1_col0\" class=\"data row1 col0\" >墨漢雷迪</td>\n",
       "                        <td id=\"T_95d67e41_862d_11eb_85bb_f83441a55a81row1_col1\" class=\"data row1 col1\" >預算</td>\n",
       "                        <td id=\"T_95d67e41_862d_11eb_85bb_f83441a55a81row1_col2\" class=\"data row1 col2\" >8,359,053</td>\n",
       "                        <td id=\"T_95d67e41_862d_11eb_85bb_f83441a55a81row1_col3\" class=\"data row1 col3\" >9,144,335</td>\n",
       "                        <td id=\"T_95d67e41_862d_11eb_85bb_f83441a55a81row1_col4\" class=\"data row1 col4\" >11,021,700</td>\n",
       "            </tr>\n",
       "            <tr>\n",
       "                                <td id=\"T_95d67e41_862d_11eb_85bb_f83441a55a81row2_col0\" class=\"data row2 col0\" >許凱智</td>\n",
       "                        <td id=\"T_95d67e41_862d_11eb_85bb_f83441a55a81row2_col1\" class=\"data row2 col1\" >實績</td>\n",
       "                        <td id=\"T_95d67e41_862d_11eb_85bb_f83441a55a81row2_col2\" class=\"data row2 col2\" >6,787,327</td>\n",
       "                        <td id=\"T_95d67e41_862d_11eb_85bb_f83441a55a81row2_col3\" class=\"data row2 col3\" >5,877,585</td>\n",
       "                        <td id=\"T_95d67e41_862d_11eb_85bb_f83441a55a81row2_col4\" class=\"data row2 col4\" >8,335,374</td>\n",
       "            </tr>\n",
       "            <tr>\n",
       "                                <td id=\"T_95d67e41_862d_11eb_85bb_f83441a55a81row3_col0\" class=\"data row3 col0\" >許凱智</td>\n",
       "                        <td id=\"T_95d67e41_862d_11eb_85bb_f83441a55a81row3_col1\" class=\"data row3 col1\" >預算</td>\n",
       "                        <td id=\"T_95d67e41_862d_11eb_85bb_f83441a55a81row3_col2\" class=\"data row3 col2\" >6,000,733</td>\n",
       "                        <td id=\"T_95d67e41_862d_11eb_85bb_f83441a55a81row3_col3\" class=\"data row3 col3\" >6,000,483</td>\n",
       "                        <td id=\"T_95d67e41_862d_11eb_85bb_f83441a55a81row3_col4\" class=\"data row3 col4\" >2,990,461</td>\n",
       "            </tr>\n",
       "            <tr>\n",
       "                                <td id=\"T_95d67e41_862d_11eb_85bb_f83441a55a81row4_col0\" class=\"data row4 col0\" >鄭里緗</td>\n",
       "                        <td id=\"T_95d67e41_862d_11eb_85bb_f83441a55a81row4_col1\" class=\"data row4 col1\" >實績</td>\n",
       "                        <td id=\"T_95d67e41_862d_11eb_85bb_f83441a55a81row4_col2\" class=\"data row4 col2\" >189,759</td>\n",
       "                        <td id=\"T_95d67e41_862d_11eb_85bb_f83441a55a81row4_col3\" class=\"data row4 col3\" >404,404</td>\n",
       "                        <td id=\"T_95d67e41_862d_11eb_85bb_f83441a55a81row4_col4\" class=\"data row4 col4\" >594,163</td>\n",
       "            </tr>\n",
       "            <tr>\n",
       "                                <td id=\"T_95d67e41_862d_11eb_85bb_f83441a55a81row5_col0\" class=\"data row5 col0\" >鄭里緗</td>\n",
       "                        <td id=\"T_95d67e41_862d_11eb_85bb_f83441a55a81row5_col1\" class=\"data row5 col1\" >預算</td>\n",
       "                        <td id=\"T_95d67e41_862d_11eb_85bb_f83441a55a81row5_col2\" class=\"data row5 col2\" >183,400</td>\n",
       "                        <td id=\"T_95d67e41_862d_11eb_85bb_f83441a55a81row5_col3\" class=\"data row5 col3\" >358,204</td>\n",
       "                        <td id=\"T_95d67e41_862d_11eb_85bb_f83441a55a81row5_col4\" class=\"data row5 col4\" >358,204</td>\n",
       "            </tr>\n",
       "    </tbody></table>"
      ],
      "text/plain": [
       "<pandas.io.formats.style.Styler at 0x1b3046acaf0>"
      ]
     },
     "execution_count": 113,
     "metadata": {},
     "output_type": "execute_result"
    }
   ],
   "source": [
    "# final = final.sort_values([\"Subcategory\", \"February\", \"March\"], ascending=[True, False, False])\n",
    "final.style.format({\"February\":\"{0:,.0f}\", \"March\":\"{0:,.0f}\", \"April\":\"{:,.0f}\"}).hide_index()"
   ]
  },
  {
   "cell_type": "code",
   "execution_count": 40,
   "metadata": {},
   "outputs": [
    {
     "data": {
      "text/html": [
       "<style  type=\"text/css\" >\n",
       "#T_a2646bd7_862b_11eb_9c76_f83441a55a81row1_col2,#T_a2646bd7_862b_11eb_9c76_f83441a55a81row1_col3{\n",
       "            background-color:  lightgreen;\n",
       "        }#T_a2646bd7_862b_11eb_9c76_f83441a55a81row5_col2,#T_a2646bd7_862b_11eb_9c76_f83441a55a81row5_col3{\n",
       "            background-color:  red;\n",
       "        }</style><table id=\"T_a2646bd7_862b_11eb_9c76_f83441a55a81\" ><thead>    <tr>        <th class=\"index_name level0\" >預交月份</th>        <th class=\"col_heading level0 col0\" >負責業務</th>        <th class=\"col_heading level0 col1\" >類別</th>        <th class=\"col_heading level0 col2\" >February</th>        <th class=\"col_heading level0 col3\" >March</th>    </tr></thead><tbody>\n",
       "                <tr>\n",
       "                        <th id=\"T_a2646bd7_862b_11eb_9c76_f83441a55a81level0_row0\" class=\"row_heading level0 row0\" >0</th>\n",
       "                        <td id=\"T_a2646bd7_862b_11eb_9c76_f83441a55a81row0_col0\" class=\"data row0 col0\" >墨漢雷迪</td>\n",
       "                        <td id=\"T_a2646bd7_862b_11eb_9c76_f83441a55a81row0_col1\" class=\"data row0 col1\" >實績</td>\n",
       "                        <td id=\"T_a2646bd7_862b_11eb_9c76_f83441a55a81row0_col2\" class=\"data row0 col2\" >8167264.000000</td>\n",
       "                        <td id=\"T_a2646bd7_862b_11eb_9c76_f83441a55a81row0_col3\" class=\"data row0 col3\" >4488235.939600</td>\n",
       "            </tr>\n",
       "            <tr>\n",
       "                        <th id=\"T_a2646bd7_862b_11eb_9c76_f83441a55a81level0_row1\" class=\"row_heading level0 row1\" >1</th>\n",
       "                        <td id=\"T_a2646bd7_862b_11eb_9c76_f83441a55a81row1_col0\" class=\"data row1 col0\" >墨漢雷迪</td>\n",
       "                        <td id=\"T_a2646bd7_862b_11eb_9c76_f83441a55a81row1_col1\" class=\"data row1 col1\" >預算</td>\n",
       "                        <td id=\"T_a2646bd7_862b_11eb_9c76_f83441a55a81row1_col2\" class=\"data row1 col2\" >8359053.000000</td>\n",
       "                        <td id=\"T_a2646bd7_862b_11eb_9c76_f83441a55a81row1_col3\" class=\"data row1 col3\" >9144335.000000</td>\n",
       "            </tr>\n",
       "            <tr>\n",
       "                        <th id=\"T_a2646bd7_862b_11eb_9c76_f83441a55a81level0_row2\" class=\"row_heading level0 row2\" >2</th>\n",
       "                        <td id=\"T_a2646bd7_862b_11eb_9c76_f83441a55a81row2_col0\" class=\"data row2 col0\" >許凱智</td>\n",
       "                        <td id=\"T_a2646bd7_862b_11eb_9c76_f83441a55a81row2_col1\" class=\"data row2 col1\" >實績</td>\n",
       "                        <td id=\"T_a2646bd7_862b_11eb_9c76_f83441a55a81row2_col2\" class=\"data row2 col2\" >6787327.260000</td>\n",
       "                        <td id=\"T_a2646bd7_862b_11eb_9c76_f83441a55a81row2_col3\" class=\"data row2 col3\" >5877585.112000</td>\n",
       "            </tr>\n",
       "            <tr>\n",
       "                        <th id=\"T_a2646bd7_862b_11eb_9c76_f83441a55a81level0_row3\" class=\"row_heading level0 row3\" >3</th>\n",
       "                        <td id=\"T_a2646bd7_862b_11eb_9c76_f83441a55a81row3_col0\" class=\"data row3 col0\" >許凱智</td>\n",
       "                        <td id=\"T_a2646bd7_862b_11eb_9c76_f83441a55a81row3_col1\" class=\"data row3 col1\" >預算</td>\n",
       "                        <td id=\"T_a2646bd7_862b_11eb_9c76_f83441a55a81row3_col2\" class=\"data row3 col2\" >6000733.000000</td>\n",
       "                        <td id=\"T_a2646bd7_862b_11eb_9c76_f83441a55a81row3_col3\" class=\"data row3 col3\" >6000483.000000</td>\n",
       "            </tr>\n",
       "            <tr>\n",
       "                        <th id=\"T_a2646bd7_862b_11eb_9c76_f83441a55a81level0_row4\" class=\"row_heading level0 row4\" >4</th>\n",
       "                        <td id=\"T_a2646bd7_862b_11eb_9c76_f83441a55a81row4_col0\" class=\"data row4 col0\" >鄭里緗</td>\n",
       "                        <td id=\"T_a2646bd7_862b_11eb_9c76_f83441a55a81row4_col1\" class=\"data row4 col1\" >實績</td>\n",
       "                        <td id=\"T_a2646bd7_862b_11eb_9c76_f83441a55a81row4_col2\" class=\"data row4 col2\" >189758.800000</td>\n",
       "                        <td id=\"T_a2646bd7_862b_11eb_9c76_f83441a55a81row4_col3\" class=\"data row4 col3\" >404404.000000</td>\n",
       "            </tr>\n",
       "            <tr>\n",
       "                        <th id=\"T_a2646bd7_862b_11eb_9c76_f83441a55a81level0_row5\" class=\"row_heading level0 row5\" >5</th>\n",
       "                        <td id=\"T_a2646bd7_862b_11eb_9c76_f83441a55a81row5_col0\" class=\"data row5 col0\" >鄭里緗</td>\n",
       "                        <td id=\"T_a2646bd7_862b_11eb_9c76_f83441a55a81row5_col1\" class=\"data row5 col1\" >預算</td>\n",
       "                        <td id=\"T_a2646bd7_862b_11eb_9c76_f83441a55a81row5_col2\" class=\"data row5 col2\" >183400.000000</td>\n",
       "                        <td id=\"T_a2646bd7_862b_11eb_9c76_f83441a55a81row5_col3\" class=\"data row5 col3\" >358204.000000</td>\n",
       "            </tr>\n",
       "    </tbody></table>"
      ],
      "text/plain": [
       "<pandas.io.formats.style.Styler at 0x1b303990a00>"
      ]
     },
     "execution_count": 40,
     "metadata": {},
     "output_type": "execute_result"
    }
   ],
   "source": [
    "result.style.format({\"本國幣別NTD\":\"{0:,.0f}\"}).highlight_max(color=\"lightgreen\").highlight_min(color=\"red\")"
   ]
  }
 ],
 "metadata": {
  "kernelspec": {
   "display_name": "Python 3",
   "language": "python",
   "name": "python3"
  },
  "language_info": {
   "codemirror_mode": {
    "name": "ipython",
    "version": 3
   },
   "file_extension": ".py",
   "mimetype": "text/x-python",
   "name": "python",
   "nbconvert_exporter": "python",
   "pygments_lexer": "ipython3",
   "version": "3.8.5"
  }
 },
 "nbformat": 4,
 "nbformat_minor": 4
}
