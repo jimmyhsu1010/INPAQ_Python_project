{
 "cells": [
  {
   "cell_type": "code",
   "execution_count": 1,
   "metadata": {},
   "outputs": [],
   "source": [
    "import pandas as pd\n",
    "pd.set_option(\"display.max_rows\", 8)\n",
    "pd.set_option(\"display.max_columns\", None)\n",
    "import tkinter as tk\n",
    "from tkinter import filedialog"
   ]
  },
  {
   "cell_type": "code",
   "execution_count": 98,
   "metadata": {},
   "outputs": [],
   "source": [
    "root = tk.Tk()\n",
    "root.withdraw()\n",
    "file_path = filedialog.askopenfilename()"
   ]
  },
  {
   "cell_type": "code",
   "execution_count": 99,
   "metadata": {},
   "outputs": [],
   "source": [
    "df = pd.read_excel(file_path, sheet_name=\"出貨明細\")"
   ]
  },
  {
   "cell_type": "code",
   "execution_count": 100,
   "metadata": {},
   "outputs": [],
   "source": [
    "iris = df[[\"BG\", \"Subcategory\", \"Group\", \"狀態\", \"預交年份\", \"預交月份\", \"負責業務\", \"品名\", \"本國幣別NTD\", \"已出數量\", \"數量\", \"出通單號\"]]"
   ]
  },
  {
   "cell_type": "code",
   "execution_count": 101,
   "metadata": {
    "scrolled": true
   },
   "outputs": [],
   "source": [
    "iris = iris[(iris[\"BG\"] == \"RF\") & (iris[\"狀態\"].str.contains(\"出\")) & (iris[\"預交年份\"] == 2021) & (iris[\"預交月份\"].isin([\"March\", \"April\"]))]"
   ]
  },
  {
   "cell_type": "code",
   "execution_count": 102,
   "metadata": {},
   "outputs": [],
   "source": [
    "iris[\"Subcategory\"] = iris.apply(lambda x: \"BU2\" if \"RFDPA\" in x[\"品名\"] else \"BU1\", axis=1)"
   ]
  },
  {
   "cell_type": "code",
   "execution_count": 103,
   "metadata": {},
   "outputs": [],
   "source": [
    "iris = iris[iris[\"Subcategory\"] == \"BU1\"]"
   ]
  },
  {
   "cell_type": "code",
   "execution_count": 104,
   "metadata": {},
   "outputs": [],
   "source": [
    "budget = pd.read_excel(file_path, sheet_name=\"2021預算總表\", usecols=\"A:I\")"
   ]
  },
  {
   "cell_type": "code",
   "execution_count": 105,
   "metadata": {},
   "outputs": [],
   "source": [
    "iris_march = iris[(iris['預交月份'] == 'March') & (~iris['出通單號'].isna())].reset_index(drop=True)"
   ]
  },
  {
   "cell_type": "code",
   "execution_count": 106,
   "metadata": {},
   "outputs": [],
   "source": [
    "iris_april = iris[(iris['預交月份'] == 'April')]"
   ]
  },
  {
   "cell_type": "code",
   "execution_count": 107,
   "metadata": {
    "scrolled": false
   },
   "outputs": [
    {
     "data": {
      "text/plain": [
       "3533828.3596"
      ]
     },
     "execution_count": 107,
     "metadata": {},
     "output_type": "execute_result"
    }
   ],
   "source": [
    "iris_march[iris_march['負責業務'] == '墨漢雷迪']['本國幣別NTD'].sum()"
   ]
  },
  {
   "cell_type": "code",
   "execution_count": 108,
   "metadata": {},
   "outputs": [],
   "source": [
    "iris = pd.concat([iris_march, iris_april], axis=0).reset_index(drop=True)"
   ]
  },
  {
   "cell_type": "code",
   "execution_count": 109,
   "metadata": {},
   "outputs": [],
   "source": [
    "revenue = iris.groupby([\"負責業務\", \"預交月份\"])[\"本國幣別NTD\"].sum().reset_index()"
   ]
  },
  {
   "cell_type": "code",
   "execution_count": 110,
   "metadata": {},
   "outputs": [],
   "source": [
    "budget = budget[~budget['品名'].str.contains('RFDPA')]"
   ]
  },
  {
   "cell_type": "code",
   "execution_count": 111,
   "metadata": {},
   "outputs": [],
   "source": [
    "budget = budget[(budget[\"類型\"] == \"天線\") & (budget[\"預交年份\"] == 2021) & (budget[\"預交月份\"].isin([\"March\", \"April\"]))].groupby([\"負責業務\", \"預交月份\"])[[\"本國幣別NTD\"]].sum().reset_index()"
   ]
  },
  {
   "cell_type": "code",
   "execution_count": 112,
   "metadata": {},
   "outputs": [],
   "source": [
    "budget[\"類別\"] = \"預算\"\n",
    "revenue[\"類別\"] = \"實績\""
   ]
  },
  {
   "cell_type": "code",
   "execution_count": 113,
   "metadata": {},
   "outputs": [],
   "source": [
    "budget.columns = ['負責業務', '預交月份', '本國幣別NTD', '類別']"
   ]
  },
  {
   "cell_type": "code",
   "execution_count": 114,
   "metadata": {},
   "outputs": [],
   "source": [
    "revenue.columns = ['負責業務', '預交月份', '本國幣別NTD', '類別']"
   ]
  },
  {
   "cell_type": "code",
   "execution_count": 115,
   "metadata": {},
   "outputs": [],
   "source": [
    "for_iris = pd.concat([revenue, budget], axis=0)"
   ]
  },
  {
   "cell_type": "code",
   "execution_count": 116,
   "metadata": {},
   "outputs": [],
   "source": [
    "result = iris.pivot_table(index=[\"負責業務\", \"Subcategory\"], values=\"本國幣別NTD\", columns=\"預交月份\", aggfunc=\"sum\").reset_index()"
   ]
  },
  {
   "cell_type": "code",
   "execution_count": null,
   "metadata": {},
   "outputs": [],
   "source": [
    "'''.xs()可以將unstack後的level刪除'''\n",
    "test = iris.groupby([\"負責業務\", \"Subcategory\", \"預交月份\"])[[\"本國幣別NTD\"]].sum().unstack(\"預交月份\").xs(\"本國幣別NTD\", axis=1).reset_index()"
   ]
  },
  {
   "cell_type": "code",
   "execution_count": null,
   "metadata": {},
   "outputs": [],
   "source": [
    "result = iris.pivot_table(index=[\"負責業務\", \"Subcategory\"], columns=\"預交月份\", values=\"本國幣別NTD\", aggfunc=\"sum\", margins=True, margins_name=\"Total\").reset_index()"
   ]
  },
  {
   "cell_type": "code",
   "execution_count": 117,
   "metadata": {},
   "outputs": [],
   "source": [
    "result = for_iris.pivot_table(index=[\"負責業務\", \"類別\"], columns=\"預交月份\", values=\"本國幣別NTD\", aggfunc=\"sum\").reset_index()"
   ]
  },
  {
   "cell_type": "code",
   "execution_count": 118,
   "metadata": {},
   "outputs": [],
   "source": [
    "final = pd.DataFrame(result.to_records())"
   ]
  },
  {
   "cell_type": "code",
   "execution_count": 119,
   "metadata": {},
   "outputs": [],
   "source": [
    "final = final.drop(\"index\", axis=1)"
   ]
  },
  {
   "cell_type": "code",
   "execution_count": 120,
   "metadata": {},
   "outputs": [
    {
     "data": {
      "text/html": [
       "<div>\n",
       "<style scoped>\n",
       "    .dataframe tbody tr th:only-of-type {\n",
       "        vertical-align: middle;\n",
       "    }\n",
       "\n",
       "    .dataframe tbody tr th {\n",
       "        vertical-align: top;\n",
       "    }\n",
       "\n",
       "    .dataframe thead th {\n",
       "        text-align: right;\n",
       "    }\n",
       "</style>\n",
       "<table border=\"1\" class=\"dataframe\">\n",
       "  <thead>\n",
       "    <tr style=\"text-align: right;\">\n",
       "      <th></th>\n",
       "      <th>負責業務</th>\n",
       "      <th>類別</th>\n",
       "      <th>April</th>\n",
       "      <th>March</th>\n",
       "    </tr>\n",
       "  </thead>\n",
       "  <tbody>\n",
       "    <tr>\n",
       "      <th>0</th>\n",
       "      <td>墨漢雷迪</td>\n",
       "      <td>實績</td>\n",
       "      <td>3982629.98</td>\n",
       "      <td>3.533828e+06</td>\n",
       "    </tr>\n",
       "    <tr>\n",
       "      <th>1</th>\n",
       "      <td>墨漢雷迪</td>\n",
       "      <td>預算</td>\n",
       "      <td>11021700.00</td>\n",
       "      <td>9.144335e+06</td>\n",
       "    </tr>\n",
       "    <tr>\n",
       "      <th>2</th>\n",
       "      <td>許凱智</td>\n",
       "      <td>實績</td>\n",
       "      <td>5015033.80</td>\n",
       "      <td>8.643638e+06</td>\n",
       "    </tr>\n",
       "    <tr>\n",
       "      <th>3</th>\n",
       "      <td>許凱智</td>\n",
       "      <td>預算</td>\n",
       "      <td>2264707.00</td>\n",
       "      <td>3.497883e+06</td>\n",
       "    </tr>\n",
       "    <tr>\n",
       "      <th>4</th>\n",
       "      <td>鄭里緗</td>\n",
       "      <td>實績</td>\n",
       "      <td>594162.80</td>\n",
       "      <td>4.044040e+05</td>\n",
       "    </tr>\n",
       "    <tr>\n",
       "      <th>5</th>\n",
       "      <td>鄭里緗</td>\n",
       "      <td>預算</td>\n",
       "      <td>358204.00</td>\n",
       "      <td>3.582040e+05</td>\n",
       "    </tr>\n",
       "  </tbody>\n",
       "</table>\n",
       "</div>"
      ],
      "text/plain": [
       "   負責業務  類別        April         March\n",
       "0  墨漢雷迪  實績   3982629.98  3.533828e+06\n",
       "1  墨漢雷迪  預算  11021700.00  9.144335e+06\n",
       "2   許凱智  實績   5015033.80  8.643638e+06\n",
       "3   許凱智  預算   2264707.00  3.497883e+06\n",
       "4   鄭里緗  實績    594162.80  4.044040e+05\n",
       "5   鄭里緗  預算    358204.00  3.582040e+05"
      ]
     },
     "execution_count": 120,
     "metadata": {},
     "output_type": "execute_result"
    }
   ],
   "source": [
    "final"
   ]
  },
  {
   "cell_type": "code",
   "execution_count": 121,
   "metadata": {},
   "outputs": [],
   "source": [
    "final = final.reindex(columns=['負責業務', '類別', 'March', 'April'])"
   ]
  },
  {
   "cell_type": "code",
   "execution_count": 122,
   "metadata": {
    "scrolled": false
   },
   "outputs": [
    {
     "data": {
      "text/html": [
       "<style  type=\"text/css\" >\n",
       "</style><table id=\"T_126301be_911c_11eb_8274_f83441a55a81\" ><thead>    <tr>        <th class=\"col_heading level0 col0\" >負責業務</th>        <th class=\"col_heading level0 col1\" >類別</th>        <th class=\"col_heading level0 col2\" >March</th>        <th class=\"col_heading level0 col3\" >April</th>    </tr></thead><tbody>\n",
       "                <tr>\n",
       "                                <td id=\"T_126301be_911c_11eb_8274_f83441a55a81row0_col0\" class=\"data row0 col0\" >墨漢雷迪</td>\n",
       "                        <td id=\"T_126301be_911c_11eb_8274_f83441a55a81row0_col1\" class=\"data row0 col1\" >實績</td>\n",
       "                        <td id=\"T_126301be_911c_11eb_8274_f83441a55a81row0_col2\" class=\"data row0 col2\" >3,533,828</td>\n",
       "                        <td id=\"T_126301be_911c_11eb_8274_f83441a55a81row0_col3\" class=\"data row0 col3\" >3,982,630</td>\n",
       "            </tr>\n",
       "            <tr>\n",
       "                                <td id=\"T_126301be_911c_11eb_8274_f83441a55a81row1_col0\" class=\"data row1 col0\" >墨漢雷迪</td>\n",
       "                        <td id=\"T_126301be_911c_11eb_8274_f83441a55a81row1_col1\" class=\"data row1 col1\" >預算</td>\n",
       "                        <td id=\"T_126301be_911c_11eb_8274_f83441a55a81row1_col2\" class=\"data row1 col2\" >9,144,335</td>\n",
       "                        <td id=\"T_126301be_911c_11eb_8274_f83441a55a81row1_col3\" class=\"data row1 col3\" >11,021,700</td>\n",
       "            </tr>\n",
       "            <tr>\n",
       "                                <td id=\"T_126301be_911c_11eb_8274_f83441a55a81row2_col0\" class=\"data row2 col0\" >許凱智</td>\n",
       "                        <td id=\"T_126301be_911c_11eb_8274_f83441a55a81row2_col1\" class=\"data row2 col1\" >實績</td>\n",
       "                        <td id=\"T_126301be_911c_11eb_8274_f83441a55a81row2_col2\" class=\"data row2 col2\" >8,643,638</td>\n",
       "                        <td id=\"T_126301be_911c_11eb_8274_f83441a55a81row2_col3\" class=\"data row2 col3\" >5,015,034</td>\n",
       "            </tr>\n",
       "            <tr>\n",
       "                                <td id=\"T_126301be_911c_11eb_8274_f83441a55a81row3_col0\" class=\"data row3 col0\" >許凱智</td>\n",
       "                        <td id=\"T_126301be_911c_11eb_8274_f83441a55a81row3_col1\" class=\"data row3 col1\" >預算</td>\n",
       "                        <td id=\"T_126301be_911c_11eb_8274_f83441a55a81row3_col2\" class=\"data row3 col2\" >3,497,883</td>\n",
       "                        <td id=\"T_126301be_911c_11eb_8274_f83441a55a81row3_col3\" class=\"data row3 col3\" >2,264,707</td>\n",
       "            </tr>\n",
       "            <tr>\n",
       "                                <td id=\"T_126301be_911c_11eb_8274_f83441a55a81row4_col0\" class=\"data row4 col0\" >鄭里緗</td>\n",
       "                        <td id=\"T_126301be_911c_11eb_8274_f83441a55a81row4_col1\" class=\"data row4 col1\" >實績</td>\n",
       "                        <td id=\"T_126301be_911c_11eb_8274_f83441a55a81row4_col2\" class=\"data row4 col2\" >404,404</td>\n",
       "                        <td id=\"T_126301be_911c_11eb_8274_f83441a55a81row4_col3\" class=\"data row4 col3\" >594,163</td>\n",
       "            </tr>\n",
       "            <tr>\n",
       "                                <td id=\"T_126301be_911c_11eb_8274_f83441a55a81row5_col0\" class=\"data row5 col0\" >鄭里緗</td>\n",
       "                        <td id=\"T_126301be_911c_11eb_8274_f83441a55a81row5_col1\" class=\"data row5 col1\" >預算</td>\n",
       "                        <td id=\"T_126301be_911c_11eb_8274_f83441a55a81row5_col2\" class=\"data row5 col2\" >358,204</td>\n",
       "                        <td id=\"T_126301be_911c_11eb_8274_f83441a55a81row5_col3\" class=\"data row5 col3\" >358,204</td>\n",
       "            </tr>\n",
       "    </tbody></table>"
      ],
      "text/plain": [
       "<pandas.io.formats.style.Styler at 0x1c911c69ca0>"
      ]
     },
     "execution_count": 122,
     "metadata": {},
     "output_type": "execute_result"
    }
   ],
   "source": [
    "# final = final.sort_values([\"Subcategory\", \"February\", \"March\"], ascending=[True, False, False])\n",
    "final.style.format({\"March\":\"{0:,.0f}\", \"April\":\"{:,.0f}\"}).hide_index()"
   ]
  },
  {
   "cell_type": "code",
   "execution_count": null,
   "metadata": {},
   "outputs": [],
   "source": [
    "result.style.format({\"本國幣別NTD\":\"{0:,.0f}\"}).highlight_max(color=\"lightgreen\").highlight_min(color=\"red\")"
   ]
  }
 ],
 "metadata": {
  "kernelspec": {
   "display_name": "Python 3",
   "language": "python",
   "name": "python3"
  },
  "language_info": {
   "codemirror_mode": {
    "name": "ipython",
    "version": 3
   },
   "file_extension": ".py",
   "mimetype": "text/x-python",
   "name": "python",
   "nbconvert_exporter": "python",
   "pygments_lexer": "ipython3",
   "version": "3.8.5"
  }
 },
 "nbformat": 4,
 "nbformat_minor": 4
}
