{
 "cells": [
  {
   "cell_type": "code",
   "execution_count": 1,
   "metadata": {},
   "outputs": [],
   "source": [
    "import pandas as pd\n",
    "pd.set_option(\"display.max_rows\", 8)\n",
    "pd.set_option(\"display.max_columns\", None)\n",
    "import tkinter as tk\n",
    "from tkinter import filedialog"
   ]
  },
  {
   "cell_type": "code",
   "execution_count": 2,
   "metadata": {},
   "outputs": [],
   "source": [
    "root = tk.Tk()\n",
    "root.withdraw()\n",
    "file_path = filedialog.askopenfilename()"
   ]
  },
  {
   "cell_type": "code",
   "execution_count": 3,
   "metadata": {},
   "outputs": [],
   "source": [
    "df = pd.read_excel(file_path, sheet_name=\"出貨明細\")"
   ]
  },
  {
   "cell_type": "code",
   "execution_count": 6,
   "metadata": {},
   "outputs": [],
   "source": [
    "iris = df[[\"BG\", \"Subcategory\", \"Group\", \"狀態\", \"預交日期\", \"負責業務\", \"品名\", \"本國幣別NTD\"]]"
   ]
  },
  {
   "cell_type": "code",
   "execution_count": 12,
   "metadata": {},
   "outputs": [],
   "source": [
    "iris = iris[(iris[\"BG\"] == \"RF\") & (iris[\"狀態\"].str.contains(\"出\")) & (iris[\"預交日期\"].between(\"2021-02-01\", \"2021-02-28\"))]"
   ]
  },
  {
   "cell_type": "code",
   "execution_count": 16,
   "metadata": {},
   "outputs": [
    {
     "name": "stderr",
     "output_type": "stream",
     "text": [
      "<ipython-input-16-4981040ffd7b>:1: SettingWithCopyWarning: \n",
      "A value is trying to be set on a copy of a slice from a DataFrame.\n",
      "Try using .loc[row_indexer,col_indexer] = value instead\n",
      "\n",
      "See the caveats in the documentation: https://pandas.pydata.org/pandas-docs/stable/user_guide/indexing.html#returning-a-view-versus-a-copy\n",
      "  iris[\"Subcategory\"] = iris.apply(lambda x: \"BU2\" if \"RFDPA\" in x[\"品名\"] else \"BU1\", axis=1)\n"
     ]
    }
   ],
   "source": [
    "iris[\"Subcategory\"] = iris.apply(lambda x: \"BU2\" if \"RFDPA\" in x[\"品名\"] else \"BU1\", axis=1)"
   ]
  },
  {
   "cell_type": "code",
   "execution_count": 30,
   "metadata": {},
   "outputs": [],
   "source": [
    "result = iris.pivot_table(index=[\"負責業務\", \"Subcategory\"], values=\"本國幣別NTD\", aggfunc=\"sum\", margins=True, margins_name=\"Total\").reset_index()"
   ]
  },
  {
   "cell_type": "code",
   "execution_count": 32,
   "metadata": {},
   "outputs": [
    {
     "data": {
      "text/html": [
       "<style  type=\"text/css\" >\n",
       "#T_f930928e_66b4_11eb_9ade_f83441a55a81row3_col2{\n",
       "            background-color:  red;\n",
       "        }#T_f930928e_66b4_11eb_9ade_f83441a55a81row4_col2{\n",
       "            background-color:  lightgreen;\n",
       "        }</style><table id=\"T_f930928e_66b4_11eb_9ade_f83441a55a81\" ><thead>    <tr>        <th class=\"blank level0\" ></th>        <th class=\"col_heading level0 col0\" >負責業務</th>        <th class=\"col_heading level0 col1\" >Subcategory</th>        <th class=\"col_heading level0 col2\" >本國幣別NTD</th>    </tr></thead><tbody>\n",
       "                <tr>\n",
       "                        <th id=\"T_f930928e_66b4_11eb_9ade_f83441a55a81level0_row0\" class=\"row_heading level0 row0\" >0</th>\n",
       "                        <td id=\"T_f930928e_66b4_11eb_9ade_f83441a55a81row0_col0\" class=\"data row0 col0\" >墨漢雷迪</td>\n",
       "                        <td id=\"T_f930928e_66b4_11eb_9ade_f83441a55a81row0_col1\" class=\"data row0 col1\" >BU1</td>\n",
       "                        <td id=\"T_f930928e_66b4_11eb_9ade_f83441a55a81row0_col2\" class=\"data row0 col2\" >12,872,583</td>\n",
       "            </tr>\n",
       "            <tr>\n",
       "                        <th id=\"T_f930928e_66b4_11eb_9ade_f83441a55a81level0_row1\" class=\"row_heading level0 row1\" >1</th>\n",
       "                        <td id=\"T_f930928e_66b4_11eb_9ade_f83441a55a81row1_col0\" class=\"data row1 col0\" >許凱智</td>\n",
       "                        <td id=\"T_f930928e_66b4_11eb_9ade_f83441a55a81row1_col1\" class=\"data row1 col1\" >BU1</td>\n",
       "                        <td id=\"T_f930928e_66b4_11eb_9ade_f83441a55a81row1_col2\" class=\"data row1 col2\" >6,835,328</td>\n",
       "            </tr>\n",
       "            <tr>\n",
       "                        <th id=\"T_f930928e_66b4_11eb_9ade_f83441a55a81level0_row2\" class=\"row_heading level0 row2\" >2</th>\n",
       "                        <td id=\"T_f930928e_66b4_11eb_9ade_f83441a55a81row2_col0\" class=\"data row2 col0\" >許凱智</td>\n",
       "                        <td id=\"T_f930928e_66b4_11eb_9ade_f83441a55a81row2_col1\" class=\"data row2 col1\" >BU2</td>\n",
       "                        <td id=\"T_f930928e_66b4_11eb_9ade_f83441a55a81row2_col2\" class=\"data row2 col2\" >3,783,283</td>\n",
       "            </tr>\n",
       "            <tr>\n",
       "                        <th id=\"T_f930928e_66b4_11eb_9ade_f83441a55a81level0_row3\" class=\"row_heading level0 row3\" >3</th>\n",
       "                        <td id=\"T_f930928e_66b4_11eb_9ade_f83441a55a81row3_col0\" class=\"data row3 col0\" >鄭里緗</td>\n",
       "                        <td id=\"T_f930928e_66b4_11eb_9ade_f83441a55a81row3_col1\" class=\"data row3 col1\" >BU1</td>\n",
       "                        <td id=\"T_f930928e_66b4_11eb_9ade_f83441a55a81row3_col2\" class=\"data row3 col2\" >191,101</td>\n",
       "            </tr>\n",
       "            <tr>\n",
       "                        <th id=\"T_f930928e_66b4_11eb_9ade_f83441a55a81level0_row4\" class=\"row_heading level0 row4\" >4</th>\n",
       "                        <td id=\"T_f930928e_66b4_11eb_9ade_f83441a55a81row4_col0\" class=\"data row4 col0\" >Total</td>\n",
       "                        <td id=\"T_f930928e_66b4_11eb_9ade_f83441a55a81row4_col1\" class=\"data row4 col1\" ></td>\n",
       "                        <td id=\"T_f930928e_66b4_11eb_9ade_f83441a55a81row4_col2\" class=\"data row4 col2\" >23,682,295</td>\n",
       "            </tr>\n",
       "    </tbody></table>"
      ],
      "text/plain": [
       "<pandas.io.formats.style.Styler at 0x148fb2e4460>"
      ]
     },
     "execution_count": 32,
     "metadata": {},
     "output_type": "execute_result"
    }
   ],
   "source": [
    "result.style.format({\"本國幣別NTD\":\"{0:,.0f}\"}).highlight_max(color=\"lightgreen\").highlight_min(color=\"red\")"
   ]
  },
  {
   "cell_type": "code",
   "execution_count": null,
   "metadata": {},
   "outputs": [],
   "source": []
  }
 ],
 "metadata": {
  "kernelspec": {
   "display_name": "Python 3",
   "language": "python",
   "name": "python3"
  },
  "language_info": {
   "codemirror_mode": {
    "name": "ipython",
    "version": 3
   },
   "file_extension": ".py",
   "mimetype": "text/x-python",
   "name": "python",
   "nbconvert_exporter": "python",
   "pygments_lexer": "ipython3",
   "version": "3.8.5"
  }
 },
 "nbformat": 4,
 "nbformat_minor": 4
}
