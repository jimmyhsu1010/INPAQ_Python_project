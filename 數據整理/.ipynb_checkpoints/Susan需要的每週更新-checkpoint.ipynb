{
 "cells": [
  {
   "cell_type": "code",
   "execution_count": 1,
   "metadata": {},
   "outputs": [],
   "source": [
    "import pandas as pd\n",
    "pd.set_option('mode.chained_assignment', None)\n",
    "pd.set_option('display.float_format', lambda x: '%.0f' % x)\n",
    "import numpy as np\n",
    "import plotly.express as px\n",
    "from datetime import datetime\n",
    "import calendar\n",
    "def my_formatter(x):\n",
    "    if x < 0:\n",
    "        return '({:,.0f})'.format(-x)\n",
    "    return '{:,.0f}'.format(x)\n",
    "\n",
    "pd.options.display.float_format = my_formatter"
   ]
  },
  {
   "cell_type": "markdown",
   "metadata": {},
   "source": [
    "## 整理Weekly report裡面2020年數據的BU"
   ]
  },
  {
   "cell_type": "code",
   "execution_count": null,
   "metadata": {},
   "outputs": [],
   "source": [
    "# df = pd.read_excel('/Users/kai/OneDrive/INPAQ/業績總表/Weekly report_v0.1.xlsx', sheet_name='出貨明細')"
   ]
  },
  {
   "cell_type": "code",
   "execution_count": null,
   "metadata": {},
   "outputs": [],
   "source": [
    "# df['BU'].unique()"
   ]
  },
  {
   "cell_type": "code",
   "execution_count": null,
   "metadata": {
    "scrolled": true
   },
   "outputs": [],
   "source": [
    "# df['BU'] = df.apply(lambda x: x['BG'] if pd.isna(x['BU']) else x['BU'], axis=1)"
   ]
  },
  {
   "cell_type": "code",
   "execution_count": null,
   "metadata": {},
   "outputs": [],
   "source": [
    "# df['BU'].unique()"
   ]
  },
  {
   "cell_type": "code",
   "execution_count": null,
   "metadata": {},
   "outputs": [],
   "source": [
    "# filtered.groupby(['預交年份', '預交月份', 'BU', 'Group'])[['本國幣別NTD']].sum().reset_index()"
   ]
  },
  {
   "cell_type": "markdown",
   "metadata": {},
   "source": [
    "## Susan需要的業績更新"
   ]
  },
  {
   "cell_type": "code",
   "execution_count": 2,
   "metadata": {},
   "outputs": [],
   "source": [
    "df = pd.read_excel('/Users/kai/OneDrive/INPAQ/業績總表/Weekly report_v0.1.xlsx', sheet_name='出貨明細')"
   ]
  },
  {
   "cell_type": "code",
   "execution_count": 3,
   "metadata": {},
   "outputs": [],
   "source": [
    "budget = pd.read_excel('/Users/kai/OneDrive/INPAQ/業績總表/Weekly report_v0.1.xlsx', sheet_name='2021預算總表', usecols='a:j')"
   ]
  },
  {
   "cell_type": "code",
   "execution_count": 4,
   "metadata": {},
   "outputs": [],
   "source": [
    "filtered = df[(df['狀態'].str.contains('出')) & (df['預交年份'] == 2021) & (df['BU'] != 'Others')]"
   ]
  },
  {
   "cell_type": "code",
   "execution_count": 5,
   "metadata": {},
   "outputs": [],
   "source": [
    "filtered = filtered.groupby(['預交年份', '預交月份', 'BU'])[['本國幣別NTD']].sum().reset_index()"
   ]
  },
  {
   "cell_type": "code",
   "execution_count": 7,
   "metadata": {},
   "outputs": [],
   "source": [
    "filtered['類別'] = '預計實績'"
   ]
  },
  {
   "cell_type": "code",
   "execution_count": 8,
   "metadata": {},
   "outputs": [],
   "source": [
    "budget = budget[(budget['預交年份'] == 2021)]"
   ]
  },
  {
   "cell_type": "code",
   "execution_count": 9,
   "metadata": {},
   "outputs": [
    {
     "data": {
      "text/plain": [
       "array(['AIP', 'EMC', 'ODM', 'PC', 'RF1', 'RF2', 'WIP', 'MAG'],\n",
       "      dtype=object)"
      ]
     },
     "execution_count": 9,
     "metadata": {},
     "output_type": "execute_result"
    }
   ],
   "source": [
    "filtered['BU'].unique()"
   ]
  },
  {
   "cell_type": "code",
   "execution_count": 11,
   "metadata": {},
   "outputs": [],
   "source": [
    "budget['BU'] = budget.apply(lambda x: x['BG'] if pd.isna(x['Subcategory']) else 'RF1' if x['Subcategory'] == 'BU1' else 'RF2' if x['Subcategory'] == 'BU2' else x['Subcategory'], axis=1)"
   ]
  },
  {
   "cell_type": "code",
   "execution_count": 12,
   "metadata": {},
   "outputs": [],
   "source": [
    "budget = budget.groupby(['預交年份', '預交月份', 'BU'])[['本國幣別NTD']].sum().reset_index()"
   ]
  },
  {
   "cell_type": "code",
   "execution_count": 13,
   "metadata": {},
   "outputs": [],
   "source": [
    "budget['類別'] = '預算'"
   ]
  },
  {
   "cell_type": "code",
   "execution_count": 16,
   "metadata": {},
   "outputs": [],
   "source": [
    "final = pd.concat([filtered, budget])"
   ]
  },
  {
   "cell_type": "markdown",
   "metadata": {},
   "source": [
    "## 快速生成英文月份"
   ]
  },
  {
   "cell_type": "code",
   "execution_count": 17,
   "metadata": {},
   "outputs": [],
   "source": [
    "month_order = [calendar.month_name[i] for i in range(1, 13)]"
   ]
  },
  {
   "cell_type": "code",
   "execution_count": null,
   "metadata": {},
   "outputs": [],
   "source": [
    "# month_order = ['January', 'February', 'March', 'April', 'May', \n",
    "#               'June', 'July', 'August', 'September', 'October', \n",
    "#               'November', 'December']"
   ]
  },
  {
   "cell_type": "markdown",
   "metadata": {},
   "source": [
    "## 繼續操作"
   ]
  },
  {
   "cell_type": "code",
   "execution_count": 19,
   "metadata": {},
   "outputs": [],
   "source": [
    "final['預交月份'] = pd.Categorical(final['預交月份'], ordered=True, categories=month_order)"
   ]
  },
  {
   "cell_type": "code",
   "execution_count": 20,
   "metadata": {
    "scrolled": true
   },
   "outputs": [],
   "source": [
    "final_table = pd.pivot_table(final, index=['BU', '類別'], columns='預交月份', values='本國幣別NTD', fill_value=0, aggfunc=np.sum)"
   ]
  },
  {
   "cell_type": "code",
   "execution_count": 21,
   "metadata": {},
   "outputs": [],
   "source": [
    "chart = final.groupby(['BU', '類別', '預交月份'])[['本國幣別NTD']].sum().reset_index()"
   ]
  },
  {
   "cell_type": "code",
   "execution_count": 22,
   "metadata": {},
   "outputs": [],
   "source": [
    "chart['本國幣別NTD'] = chart['本國幣別NTD'].fillna(0)"
   ]
  },
  {
   "cell_type": "code",
   "execution_count": 23,
   "metadata": {},
   "outputs": [],
   "source": [
    "chart['Category'] = chart['BU'].map(lambda x: 'RF' if x in ['RF1', 'RF2'] else 'Components')\n"
   ]
  },
  {
   "cell_type": "code",
   "execution_count": 24,
   "metadata": {},
   "outputs": [
    {
     "data": {
      "text/html": [
       "<div>\n",
       "<style scoped>\n",
       "    .dataframe tbody tr th:only-of-type {\n",
       "        vertical-align: middle;\n",
       "    }\n",
       "\n",
       "    .dataframe tbody tr th {\n",
       "        vertical-align: top;\n",
       "    }\n",
       "\n",
       "    .dataframe thead th {\n",
       "        text-align: right;\n",
       "    }\n",
       "</style>\n",
       "<table border=\"1\" class=\"dataframe\">\n",
       "  <thead>\n",
       "    <tr style=\"text-align: right;\">\n",
       "      <th></th>\n",
       "      <th>BU</th>\n",
       "      <th>類別</th>\n",
       "      <th>預交月份</th>\n",
       "      <th>本國幣別NTD</th>\n",
       "      <th>Category</th>\n",
       "    </tr>\n",
       "  </thead>\n",
       "  <tbody>\n",
       "    <tr>\n",
       "      <th>0</th>\n",
       "      <td>AIP</td>\n",
       "      <td>預算</td>\n",
       "      <td>January</td>\n",
       "      <td>0</td>\n",
       "      <td>Components</td>\n",
       "    </tr>\n",
       "    <tr>\n",
       "      <th>1</th>\n",
       "      <td>AIP</td>\n",
       "      <td>預算</td>\n",
       "      <td>February</td>\n",
       "      <td>0</td>\n",
       "      <td>Components</td>\n",
       "    </tr>\n",
       "    <tr>\n",
       "      <th>2</th>\n",
       "      <td>AIP</td>\n",
       "      <td>預算</td>\n",
       "      <td>March</td>\n",
       "      <td>0</td>\n",
       "      <td>Components</td>\n",
       "    </tr>\n",
       "    <tr>\n",
       "      <th>3</th>\n",
       "      <td>AIP</td>\n",
       "      <td>預算</td>\n",
       "      <td>April</td>\n",
       "      <td>372,480</td>\n",
       "      <td>Components</td>\n",
       "    </tr>\n",
       "    <tr>\n",
       "      <th>4</th>\n",
       "      <td>AIP</td>\n",
       "      <td>預算</td>\n",
       "      <td>May</td>\n",
       "      <td>372,480</td>\n",
       "      <td>Components</td>\n",
       "    </tr>\n",
       "    <tr>\n",
       "      <th>...</th>\n",
       "      <td>...</td>\n",
       "      <td>...</td>\n",
       "      <td>...</td>\n",
       "      <td>...</td>\n",
       "      <td>...</td>\n",
       "    </tr>\n",
       "    <tr>\n",
       "      <th>187</th>\n",
       "      <td>WIP</td>\n",
       "      <td>預計實績</td>\n",
       "      <td>August</td>\n",
       "      <td>4,717,145</td>\n",
       "      <td>Components</td>\n",
       "    </tr>\n",
       "    <tr>\n",
       "      <th>188</th>\n",
       "      <td>WIP</td>\n",
       "      <td>預計實績</td>\n",
       "      <td>September</td>\n",
       "      <td>6,255,120</td>\n",
       "      <td>Components</td>\n",
       "    </tr>\n",
       "    <tr>\n",
       "      <th>189</th>\n",
       "      <td>WIP</td>\n",
       "      <td>預計實績</td>\n",
       "      <td>October</td>\n",
       "      <td>5,592,245</td>\n",
       "      <td>Components</td>\n",
       "    </tr>\n",
       "    <tr>\n",
       "      <th>190</th>\n",
       "      <td>WIP</td>\n",
       "      <td>預計實績</td>\n",
       "      <td>November</td>\n",
       "      <td>4,415,966</td>\n",
       "      <td>Components</td>\n",
       "    </tr>\n",
       "    <tr>\n",
       "      <th>191</th>\n",
       "      <td>WIP</td>\n",
       "      <td>預計實績</td>\n",
       "      <td>December</td>\n",
       "      <td>960,472</td>\n",
       "      <td>Components</td>\n",
       "    </tr>\n",
       "  </tbody>\n",
       "</table>\n",
       "<p>192 rows × 5 columns</p>\n",
       "</div>"
      ],
      "text/plain": [
       "      BU    類別       預交月份   本國幣別NTD    Category\n",
       "0    AIP    預算    January         0  Components\n",
       "1    AIP    預算   February         0  Components\n",
       "2    AIP    預算      March         0  Components\n",
       "3    AIP    預算      April   372,480  Components\n",
       "4    AIP    預算        May   372,480  Components\n",
       "..   ...   ...        ...       ...         ...\n",
       "187  WIP  預計實績     August 4,717,145  Components\n",
       "188  WIP  預計實績  September 6,255,120  Components\n",
       "189  WIP  預計實績    October 5,592,245  Components\n",
       "190  WIP  預計實績   November 4,415,966  Components\n",
       "191  WIP  預計實績   December   960,472  Components\n",
       "\n",
       "[192 rows x 5 columns]"
      ]
     },
     "execution_count": 24,
     "metadata": {},
     "output_type": "execute_result"
    }
   ],
   "source": [
    "chart"
   ]
  },
  {
   "cell_type": "code",
   "execution_count": 25,
   "metadata": {},
   "outputs": [],
   "source": [
    "chart_rf = chart[~(chart['Category'] == 'Components')]"
   ]
  },
  {
   "cell_type": "code",
   "execution_count": 26,
   "metadata": {},
   "outputs": [],
   "source": [
    "chart_com = chart[(chart['Category'] == 'Components')]"
   ]
  },
  {
   "cell_type": "code",
   "execution_count": 27,
   "metadata": {
    "scrolled": true
   },
   "outputs": [],
   "source": [
    "plot_by_bu = px.histogram(chart_rf, x='預交月份', y='本國幣別NTD', color='類別', barmode='group', facet_col='BU',\n",
    "             labels=dict(BU='廠別', 本國幣別NTD='Amount', 預交月份='月份'), title='2021年RF產品各月份實績/預算 by BU')"
   ]
  },
  {
   "cell_type": "code",
   "execution_count": 28,
   "metadata": {},
   "outputs": [],
   "source": [
    "plot_rf = px.histogram(chart_rf, x='預交月份', y='本國幣別NTD', color='類別', barmode='group', \n",
    "            labels=dict(本國幣別NTD='Amount', 預交月份='月份'), title='2021年RF產品各月份實績/預算')"
   ]
  },
  {
   "cell_type": "code",
   "execution_count": 29,
   "metadata": {},
   "outputs": [],
   "source": [
    "plot_com = px.histogram(chart_com, x='預交月份', y='本國幣別NTD', color='BU', facet_col='類別', \n",
    "            labels=dict(本國幣別NTD='Amount', 預交月份='月份'), title='2021年元件產品各月份實績/預算')"
   ]
  },
  {
   "cell_type": "code",
   "execution_count": 30,
   "metadata": {
    "scrolled": true
   },
   "outputs": [
    {
     "data": {
      "text/html": [
       "<div>\n",
       "<style scoped>\n",
       "    .dataframe tbody tr th:only-of-type {\n",
       "        vertical-align: middle;\n",
       "    }\n",
       "\n",
       "    .dataframe tbody tr th {\n",
       "        vertical-align: top;\n",
       "    }\n",
       "\n",
       "    .dataframe thead th {\n",
       "        text-align: right;\n",
       "    }\n",
       "</style>\n",
       "<table border=\"1\" class=\"dataframe\">\n",
       "  <thead>\n",
       "    <tr style=\"text-align: right;\">\n",
       "      <th></th>\n",
       "      <th>預交月份</th>\n",
       "      <th>January</th>\n",
       "      <th>February</th>\n",
       "      <th>March</th>\n",
       "      <th>April</th>\n",
       "      <th>May</th>\n",
       "      <th>June</th>\n",
       "      <th>July</th>\n",
       "      <th>August</th>\n",
       "      <th>September</th>\n",
       "      <th>October</th>\n",
       "      <th>November</th>\n",
       "      <th>December</th>\n",
       "    </tr>\n",
       "    <tr>\n",
       "      <th>BU</th>\n",
       "      <th>類別</th>\n",
       "      <th></th>\n",
       "      <th></th>\n",
       "      <th></th>\n",
       "      <th></th>\n",
       "      <th></th>\n",
       "      <th></th>\n",
       "      <th></th>\n",
       "      <th></th>\n",
       "      <th></th>\n",
       "      <th></th>\n",
       "      <th></th>\n",
       "      <th></th>\n",
       "    </tr>\n",
       "  </thead>\n",
       "  <tbody>\n",
       "    <tr>\n",
       "      <th rowspan=\"2\" valign=\"top\">AIP</th>\n",
       "      <th>預算</th>\n",
       "      <td>0</td>\n",
       "      <td>0</td>\n",
       "      <td>0</td>\n",
       "      <td>372,480</td>\n",
       "      <td>372,480</td>\n",
       "      <td>372,480</td>\n",
       "      <td>31,536</td>\n",
       "      <td>105,840</td>\n",
       "      <td>185,040</td>\n",
       "      <td>227,447</td>\n",
       "      <td>213,097</td>\n",
       "      <td>105,472</td>\n",
       "    </tr>\n",
       "    <tr>\n",
       "      <th>預計實績</th>\n",
       "      <td>0</td>\n",
       "      <td>49,783</td>\n",
       "      <td>104,626</td>\n",
       "      <td>135,796</td>\n",
       "      <td>211,853</td>\n",
       "      <td>6,914</td>\n",
       "      <td>280,719</td>\n",
       "      <td>17,936</td>\n",
       "      <td>412,623</td>\n",
       "      <td>5,896</td>\n",
       "      <td>0</td>\n",
       "      <td>1,474</td>\n",
       "    </tr>\n",
       "    <tr>\n",
       "      <th rowspan=\"2\" valign=\"top\">EMC</th>\n",
       "      <th>預算</th>\n",
       "      <td>2,974,540</td>\n",
       "      <td>2,160,003</td>\n",
       "      <td>3,069,627</td>\n",
       "      <td>3,358,452</td>\n",
       "      <td>3,258,709</td>\n",
       "      <td>3,752,562</td>\n",
       "      <td>3,674,177</td>\n",
       "      <td>4,396,330</td>\n",
       "      <td>4,362,001</td>\n",
       "      <td>4,111,452</td>\n",
       "      <td>3,537,512</td>\n",
       "      <td>2,672,935</td>\n",
       "    </tr>\n",
       "    <tr>\n",
       "      <th>預計實績</th>\n",
       "      <td>2,966,657</td>\n",
       "      <td>2,765,715</td>\n",
       "      <td>4,682,437</td>\n",
       "      <td>3,864,577</td>\n",
       "      <td>2,548,424</td>\n",
       "      <td>1,590,770</td>\n",
       "      <td>2,145,085</td>\n",
       "      <td>1,183,530</td>\n",
       "      <td>1,467,965</td>\n",
       "      <td>920,098</td>\n",
       "      <td>615,404</td>\n",
       "      <td>643,656</td>\n",
       "    </tr>\n",
       "    <tr>\n",
       "      <th>MAG</th>\n",
       "      <th>預計實績</th>\n",
       "      <td>0</td>\n",
       "      <td>0</td>\n",
       "      <td>0</td>\n",
       "      <td>0</td>\n",
       "      <td>320,812</td>\n",
       "      <td>414,230</td>\n",
       "      <td>1,202,018</td>\n",
       "      <td>763,722</td>\n",
       "      <td>275,758</td>\n",
       "      <td>0</td>\n",
       "      <td>109,056</td>\n",
       "      <td>0</td>\n",
       "    </tr>\n",
       "    <tr>\n",
       "      <th rowspan=\"2\" valign=\"top\">ODM</th>\n",
       "      <th>預算</th>\n",
       "      <td>5,123,999</td>\n",
       "      <td>2,988,998</td>\n",
       "      <td>1,067,498</td>\n",
       "      <td>1,719,999</td>\n",
       "      <td>2,149,999</td>\n",
       "      <td>2,795,000</td>\n",
       "      <td>3,391,999</td>\n",
       "      <td>5,936,000</td>\n",
       "      <td>6,360,000</td>\n",
       "      <td>5,992,000</td>\n",
       "      <td>7,704,000</td>\n",
       "      <td>3,852,000</td>\n",
       "    </tr>\n",
       "    <tr>\n",
       "      <th>預計實績</th>\n",
       "      <td>4,428,574</td>\n",
       "      <td>3,154,904</td>\n",
       "      <td>1,387,845</td>\n",
       "      <td>576,131</td>\n",
       "      <td>4,477,820</td>\n",
       "      <td>4,433,871</td>\n",
       "      <td>2,808,880</td>\n",
       "      <td>0</td>\n",
       "      <td>0</td>\n",
       "      <td>0</td>\n",
       "      <td>0</td>\n",
       "      <td>0</td>\n",
       "    </tr>\n",
       "    <tr>\n",
       "      <th rowspan=\"2\" valign=\"top\">PC</th>\n",
       "      <th>預算</th>\n",
       "      <td>16,193,047</td>\n",
       "      <td>9,761,031</td>\n",
       "      <td>17,382,179</td>\n",
       "      <td>17,766,179</td>\n",
       "      <td>23,668,989</td>\n",
       "      <td>25,684,989</td>\n",
       "      <td>25,356,538</td>\n",
       "      <td>31,710,089</td>\n",
       "      <td>31,149,293</td>\n",
       "      <td>33,443,610</td>\n",
       "      <td>28,271,166</td>\n",
       "      <td>21,965,257</td>\n",
       "    </tr>\n",
       "    <tr>\n",
       "      <th>預計實績</th>\n",
       "      <td>26,176,982</td>\n",
       "      <td>16,032,212</td>\n",
       "      <td>21,828,692</td>\n",
       "      <td>22,269,819</td>\n",
       "      <td>23,844,603</td>\n",
       "      <td>23,997,400</td>\n",
       "      <td>11,210,025</td>\n",
       "      <td>13,089,846</td>\n",
       "      <td>7,775,658</td>\n",
       "      <td>4,414,636</td>\n",
       "      <td>958,601</td>\n",
       "      <td>626,135</td>\n",
       "    </tr>\n",
       "    <tr>\n",
       "      <th rowspan=\"2\" valign=\"top\">RF1</th>\n",
       "      <th>預算</th>\n",
       "      <td>19,913,751</td>\n",
       "      <td>12,524,112</td>\n",
       "      <td>13,000,422</td>\n",
       "      <td>13,644,611</td>\n",
       "      <td>6,334,812</td>\n",
       "      <td>2,866,584</td>\n",
       "      <td>4,694,699</td>\n",
       "      <td>3,183,321</td>\n",
       "      <td>2,829,073</td>\n",
       "      <td>3,449,399</td>\n",
       "      <td>2,724,726</td>\n",
       "      <td>4,978,426</td>\n",
       "    </tr>\n",
       "    <tr>\n",
       "      <th>預計實績</th>\n",
       "      <td>24,556,093</td>\n",
       "      <td>13,474,891</td>\n",
       "      <td>12,376,603</td>\n",
       "      <td>9,170,306</td>\n",
       "      <td>9,949,530</td>\n",
       "      <td>5,551,343</td>\n",
       "      <td>6,722,363</td>\n",
       "      <td>9,293,986</td>\n",
       "      <td>13,754,040</td>\n",
       "      <td>521,528</td>\n",
       "      <td>2,155,186</td>\n",
       "      <td>554,578</td>\n",
       "    </tr>\n",
       "    <tr>\n",
       "      <th rowspan=\"2\" valign=\"top\">RF2</th>\n",
       "      <th>預算</th>\n",
       "      <td>4,873,039</td>\n",
       "      <td>2,019,074</td>\n",
       "      <td>2,502,600</td>\n",
       "      <td>725,754</td>\n",
       "      <td>650,676</td>\n",
       "      <td>650,676</td>\n",
       "      <td>247,680</td>\n",
       "      <td>643,968</td>\n",
       "      <td>495,360</td>\n",
       "      <td>495,360</td>\n",
       "      <td>495,360</td>\n",
       "      <td>500,520</td>\n",
       "    </tr>\n",
       "    <tr>\n",
       "      <th>預計實績</th>\n",
       "      <td>5,960,190</td>\n",
       "      <td>3,673,956</td>\n",
       "      <td>2,629,628</td>\n",
       "      <td>5,647,283</td>\n",
       "      <td>6,931,674</td>\n",
       "      <td>5,085,569</td>\n",
       "      <td>0</td>\n",
       "      <td>5,052,381</td>\n",
       "      <td>12,231,032</td>\n",
       "      <td>0</td>\n",
       "      <td>21,019</td>\n",
       "      <td>0</td>\n",
       "    </tr>\n",
       "    <tr>\n",
       "      <th rowspan=\"2\" valign=\"top\">WIP</th>\n",
       "      <th>預算</th>\n",
       "      <td>5,080,496</td>\n",
       "      <td>4,010,500</td>\n",
       "      <td>6,848,896</td>\n",
       "      <td>6,987,703</td>\n",
       "      <td>10,213,594</td>\n",
       "      <td>17,513,594</td>\n",
       "      <td>18,729,533</td>\n",
       "      <td>24,232,777</td>\n",
       "      <td>26,524,349</td>\n",
       "      <td>31,650,672</td>\n",
       "      <td>31,650,672</td>\n",
       "      <td>31,692,000</td>\n",
       "    </tr>\n",
       "    <tr>\n",
       "      <th>預計實績</th>\n",
       "      <td>7,368,415</td>\n",
       "      <td>5,094,021</td>\n",
       "      <td>6,884,611</td>\n",
       "      <td>5,658,769</td>\n",
       "      <td>9,630,621</td>\n",
       "      <td>8,223,431</td>\n",
       "      <td>5,994,411</td>\n",
       "      <td>4,717,145</td>\n",
       "      <td>6,255,120</td>\n",
       "      <td>5,592,245</td>\n",
       "      <td>4,415,966</td>\n",
       "      <td>960,472</td>\n",
       "    </tr>\n",
       "  </tbody>\n",
       "</table>\n",
       "</div>"
      ],
      "text/plain": [
       "預交月份        January   February      March      April        May       June  \\\n",
       "BU  類別                                                                       \n",
       "AIP 預算            0          0          0    372,480    372,480    372,480   \n",
       "    預計實績          0     49,783    104,626    135,796    211,853      6,914   \n",
       "EMC 預算    2,974,540  2,160,003  3,069,627  3,358,452  3,258,709  3,752,562   \n",
       "    預計實績  2,966,657  2,765,715  4,682,437  3,864,577  2,548,424  1,590,770   \n",
       "MAG 預計實績          0          0          0          0    320,812    414,230   \n",
       "ODM 預算    5,123,999  2,988,998  1,067,498  1,719,999  2,149,999  2,795,000   \n",
       "    預計實績  4,428,574  3,154,904  1,387,845    576,131  4,477,820  4,433,871   \n",
       "PC  預算   16,193,047  9,761,031 17,382,179 17,766,179 23,668,989 25,684,989   \n",
       "    預計實績 26,176,982 16,032,212 21,828,692 22,269,819 23,844,603 23,997,400   \n",
       "RF1 預算   19,913,751 12,524,112 13,000,422 13,644,611  6,334,812  2,866,584   \n",
       "    預計實績 24,556,093 13,474,891 12,376,603  9,170,306  9,949,530  5,551,343   \n",
       "RF2 預算    4,873,039  2,019,074  2,502,600    725,754    650,676    650,676   \n",
       "    預計實績  5,960,190  3,673,956  2,629,628  5,647,283  6,931,674  5,085,569   \n",
       "WIP 預算    5,080,496  4,010,500  6,848,896  6,987,703 10,213,594 17,513,594   \n",
       "    預計實績  7,368,415  5,094,021  6,884,611  5,658,769  9,630,621  8,223,431   \n",
       "\n",
       "預交月份           July     August  September    October   November   December  \n",
       "BU  類別                                                                      \n",
       "AIP 預算       31,536    105,840    185,040    227,447    213,097    105,472  \n",
       "    預計實績    280,719     17,936    412,623      5,896          0      1,474  \n",
       "EMC 預算    3,674,177  4,396,330  4,362,001  4,111,452  3,537,512  2,672,935  \n",
       "    預計實績  2,145,085  1,183,530  1,467,965    920,098    615,404    643,656  \n",
       "MAG 預計實績  1,202,018    763,722    275,758          0    109,056          0  \n",
       "ODM 預算    3,391,999  5,936,000  6,360,000  5,992,000  7,704,000  3,852,000  \n",
       "    預計實績  2,808,880          0          0          0          0          0  \n",
       "PC  預算   25,356,538 31,710,089 31,149,293 33,443,610 28,271,166 21,965,257  \n",
       "    預計實績 11,210,025 13,089,846  7,775,658  4,414,636    958,601    626,135  \n",
       "RF1 預算    4,694,699  3,183,321  2,829,073  3,449,399  2,724,726  4,978,426  \n",
       "    預計實績  6,722,363  9,293,986 13,754,040    521,528  2,155,186    554,578  \n",
       "RF2 預算      247,680    643,968    495,360    495,360    495,360    500,520  \n",
       "    預計實績          0  5,052,381 12,231,032          0     21,019          0  \n",
       "WIP 預算   18,729,533 24,232,777 26,524,349 31,650,672 31,650,672 31,692,000  \n",
       "    預計實績  5,994,411  4,717,145  6,255,120  5,592,245  4,415,966    960,472  "
      ]
     },
     "execution_count": 30,
     "metadata": {},
     "output_type": "execute_result"
    }
   ],
   "source": [
    "final_table"
   ]
  },
  {
   "cell_type": "code",
   "execution_count": 31,
   "metadata": {},
   "outputs": [],
   "source": [
    "today = datetime.today().strftime('%Y%m%d')"
   ]
  },
  {
   "cell_type": "code",
   "execution_count": 32,
   "metadata": {},
   "outputs": [],
   "source": [
    "with open('/Users/kai/OneDrive/INPAQ/業績總表/報告用圖表/' + today + '_Summary.html', 'a') as f:\n",
    "    f.write(final_table.to_html())\n",
    "    f.write(plot_rf.to_html(full_html=False, include_plotlyjs='cdn'))\n",
    "    f.write(plot_by_bu.to_html(full_html=False, include_plotlyjs='cdn'))\n",
    "    f.write(plot_com.to_html(full_html=False, include_plotlyjs='cdn'))\n",
    "    f.close()"
   ]
  }
 ],
 "metadata": {
  "kernelspec": {
   "display_name": "Python 3",
   "language": "python",
   "name": "python3"
  },
  "language_info": {
   "codemirror_mode": {
    "name": "ipython",
    "version": 3
   },
   "file_extension": ".py",
   "mimetype": "text/x-python",
   "name": "python",
   "nbconvert_exporter": "python",
   "pygments_lexer": "ipython3",
   "version": "3.8.5"
  }
 },
 "nbformat": 4,
 "nbformat_minor": 4
}
