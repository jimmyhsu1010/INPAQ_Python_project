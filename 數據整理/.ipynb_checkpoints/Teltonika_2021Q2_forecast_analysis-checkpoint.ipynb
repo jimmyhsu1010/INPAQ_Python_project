{
 "cells": [
  {
   "cell_type": "code",
   "execution_count": 1,
   "metadata": {},
   "outputs": [],
   "source": [
    "import pandas as pd\n",
    "import tkinter as tk\n",
    "from tkinter import filedialog"
   ]
  },
  {
   "cell_type": "code",
   "execution_count": 20,
   "metadata": {},
   "outputs": [],
   "source": [
    "root = tk.Tk()\n",
    "root.withdraw()\n",
    "path = filedialog.askopenfilename()"
   ]
  },
  {
   "cell_type": "code",
   "execution_count": 21,
   "metadata": {},
   "outputs": [],
   "source": [
    "shipment = pd.read_excel(path, sheet_name=\"出貨明細\")"
   ]
  },
  {
   "cell_type": "code",
   "execution_count": 28,
   "metadata": {},
   "outputs": [],
   "source": [
    "shipment = shipment[(shipment[\"BG\"] == \"RF\") & (shipment[\"狀態\"].str.contains(\"出\") & (shipment[\"預交年份\"] == 2021) & (shipment[\"Group\"] == \"TELTONIKA\"))]"
   ]
  },
  {
   "cell_type": "code",
   "execution_count": 30,
   "metadata": {},
   "outputs": [],
   "source": [
    "shipment = shipment[[\"Group\", \"預交月份\", \"品名\", \"單價\", \"數量\"]]"
   ]
  },
  {
   "cell_type": "code",
   "execution_count": 32,
   "metadata": {},
   "outputs": [
    {
     "name": "stderr",
     "output_type": "stream",
     "text": [
      "<ipython-input-32-810ba15a72d6>:1: SettingWithCopyWarning: \n",
      "A value is trying to be set on a copy of a slice from a DataFrame.\n",
      "Try using .loc[row_indexer,col_indexer] = value instead\n",
      "\n",
      "See the caveats in the documentation: https://pandas.pydata.org/pandas-docs/stable/user_guide/indexing.html#returning-a-view-versus-a-copy\n",
      "  shipment[\"金額\"] = shipment[\"單價\"] * shipment[\"數量\"]\n"
     ]
    }
   ],
   "source": [
    "shipment[\"金額\"] = shipment[\"單價\"] * shipment[\"數量\"]"
   ]
  },
  {
   "cell_type": "code",
   "execution_count": 51,
   "metadata": {
    "scrolled": true
   },
   "outputs": [],
   "source": [
    "month_value = ['January', 'February', 'March', 'April', 'May', 'June', 'July', 'August', 'September', 'October', 'November', 'December']\n",
    "month_key = [\"1\", \"2\", \"3\", \"4\", \"5\", \"6\", \"7\", \"8\", \"9\", \"10\", \"11\", \"12\"]\n",
    "month_dict = dict(zip(month_key, month_value))"
   ]
  },
  {
   "cell_type": "code",
   "execution_count": 57,
   "metadata": {},
   "outputs": [],
   "source": [
    "price_list = shipment.drop_duplicates(subset=[\"品名\", \"單價\"], keep=\"last\")\n",
    "product = price_list[\"品名\"].tolist()\n",
    "price = price_list[\"單價\"].tolist()"
   ]
  },
  {
   "cell_type": "code",
   "execution_count": 59,
   "metadata": {},
   "outputs": [],
   "source": [
    "price_dict = dict(zip(product, price))"
   ]
  },
  {
   "cell_type": "code",
   "execution_count": 69,
   "metadata": {},
   "outputs": [
    {
     "name": "stderr",
     "output_type": "stream",
     "text": [
      "<ipython-input-69-922e0a62253a>:1: SettingWithCopyWarning: \n",
      "A value is trying to be set on a copy of a slice from a DataFrame.\n",
      "Try using .loc[row_indexer,col_indexer] = value instead\n",
      "\n",
      "See the caveats in the documentation: https://pandas.pydata.org/pandas-docs/stable/user_guide/indexing.html#returning-a-view-versus-a-copy\n",
      "  shipment[\"類型\"] = \"實績\"\n"
     ]
    }
   ],
   "source": [
    "shipment[\"類型\"] = \"實績\""
   ]
  },
  {
   "cell_type": "code",
   "execution_count": 7,
   "metadata": {},
   "outputs": [],
   "source": [
    "df = pd.read_excel(path, None)"
   ]
  },
  {
   "cell_type": "code",
   "execution_count": 9,
   "metadata": {},
   "outputs": [],
   "source": [
    "origin_2021 = df[\"2021 Forecast\"]\n",
    "revised_2021 = df[\"20210224update Q2\"]"
   ]
  },
  {
   "cell_type": "code",
   "execution_count": 15,
   "metadata": {},
   "outputs": [],
   "source": [
    "origin_2021 = origin_2021[origin_2021[\"INPAQ PN\"].isin(['DAM-P11-B-R2-015-10-49',\n",
    "       'DAM-P11-B-R2-015-10-50', 'DAM-P11-E1-R2-003-22-03',\n",
    "       'GPSGLONASSU10N-N6-0022-A', 'GPSGLONASSU10N-N6-0420-A',\n",
    "       'PA1590MI4G-371-28M', 'PA1590MI4G-375-28M', 'PA1590MI4G-376-28M',\n",
    "       'PA1590MI4G-377-28M', 'PA1590MI4G-402-28M', 'PA1590MI4G-447-28M-A',\n",
    "       'PA1590MI4G-448-28M-A', 'PA1590MJ4G-221-26M', 'PA1590MJ4G-224-2SP',\n",
    "       'PA1590MS4G-103-SMD-M-A', 'RFDPA141300SBLB803J4',\n",
    "       'RFDPA171300SBAB823J4', 'RFDPA191300SMTB806J4'])]"
   ]
  },
  {
   "cell_type": "code",
   "execution_count": 18,
   "metadata": {},
   "outputs": [],
   "source": [
    "origin_2021 = origin_2021[['INPAQ PN', '1', '2', '3', '4', '5', '6', '7', '8', '9',\n",
    "       '10', '11', '12']]"
   ]
  },
  {
   "cell_type": "code",
   "execution_count": 43,
   "metadata": {},
   "outputs": [],
   "source": [
    "origin_2021 = origin_2021.groupby(\"INPAQ PN\").sum().stack().reset_index()"
   ]
  },
  {
   "cell_type": "code",
   "execution_count": 45,
   "metadata": {},
   "outputs": [],
   "source": [
    "origin_2021.columns = [\"品名\", \"預交月份\", \"數量\"]"
   ]
  },
  {
   "cell_type": "code",
   "execution_count": 53,
   "metadata": {},
   "outputs": [],
   "source": [
    "origin_2021[\"預交月份\"] = origin_2021[\"預交月份\"].map(month_dict)"
   ]
  },
  {
   "cell_type": "code",
   "execution_count": 61,
   "metadata": {},
   "outputs": [],
   "source": [
    "origin_2021[\"單價\"] = origin_2021[\"品名\"].map(price_dict)"
   ]
  },
  {
   "cell_type": "code",
   "execution_count": 64,
   "metadata": {},
   "outputs": [],
   "source": [
    "origin_2021[\"金額\"] = origin_2021[\"數量\"] * origin_2021[\"單價\"]"
   ]
  },
  {
   "cell_type": "code",
   "execution_count": 66,
   "metadata": {},
   "outputs": [],
   "source": [
    "origin_2021[\"類型\"] = \"初版預估\""
   ]
  },
  {
   "cell_type": "code",
   "execution_count": 68,
   "metadata": {},
   "outputs": [],
   "source": [
    "origin_2021[\"Group\"] = \"TELTONIKA\""
   ]
  },
  {
   "cell_type": "code",
   "execution_count": 72,
   "metadata": {},
   "outputs": [],
   "source": [
    "revised_2021 = revised_2021[revised_2021[\"INPAQ PN\"].isin(['DAM-P11-B-R2-015-10-49',\n",
    "       'DAM-P11-B-R2-015-10-50', 'DAM-P11-E1-R2-003-22-03',\n",
    "       'GPSGLONASSU10N-N6-0022-A', 'GPSGLONASSU10N-N6-0420-A',\n",
    "       'PA1590MI4G-371-28M', 'PA1590MI4G-375-28M', 'PA1590MI4G-376-28M',\n",
    "       'PA1590MI4G-377-28M', 'PA1590MI4G-402-28M', 'PA1590MI4G-447-28M-A',\n",
    "       'PA1590MI4G-448-28M-A', 'PA1590MJ4G-221-26M', 'PA1590MJ4G-224-2SP',\n",
    "       'PA1590MS4G-103-SMD-M-A', 'RFDPA141300SBLB803J4',\n",
    "       'RFDPA171300SBAB823J4', 'RFDPA191300SMTB806J4',\n",
    "       'RFDPA30871ASBLBA01J4'])]"
   ]
  },
  {
   "cell_type": "code",
   "execution_count": 78,
   "metadata": {},
   "outputs": [],
   "source": [
    "revised_2021.columns = ['INPAQ PN', 'January', 'February', 'March', 'April',\n",
    "       'May', 'June', 'July', 'August', 'September',\n",
    "       'October', 'November', 'December']"
   ]
  },
  {
   "cell_type": "code",
   "execution_count": 82,
   "metadata": {},
   "outputs": [],
   "source": [
    "revised_2021 = revised_2021.groupby(\"INPAQ PN\").sum().unstack().reset_index()"
   ]
  },
  {
   "cell_type": "code",
   "execution_count": 84,
   "metadata": {},
   "outputs": [],
   "source": [
    "revised_2021.columns = ['預交月份', 'INPAQ PN', \"數量\"]"
   ]
  },
  {
   "cell_type": "code",
   "execution_count": 87,
   "metadata": {},
   "outputs": [],
   "source": [
    "revised_2021[\"數量\"] = revised_2021[\"數量\"].astype(\"int\")"
   ]
  },
  {
   "cell_type": "code",
   "execution_count": 90,
   "metadata": {},
   "outputs": [],
   "source": [
    "revised_2021 = revised_2021[revised_2021[\"數量\"] != 0]"
   ]
  },
  {
   "cell_type": "code",
   "execution_count": 91,
   "metadata": {},
   "outputs": [
    {
     "name": "stderr",
     "output_type": "stream",
     "text": [
      "<ipython-input-91-f6f4b7d85d95>:1: SettingWithCopyWarning: \n",
      "A value is trying to be set on a copy of a slice from a DataFrame.\n",
      "Try using .loc[row_indexer,col_indexer] = value instead\n",
      "\n",
      "See the caveats in the documentation: https://pandas.pydata.org/pandas-docs/stable/user_guide/indexing.html#returning-a-view-versus-a-copy\n",
      "  revised_2021[\"單價\"] = revised_2021[\"INPAQ PN\"].map(price_dict)\n"
     ]
    }
   ],
   "source": [
    "revised_2021[\"單價\"] = revised_2021[\"INPAQ PN\"].map(price_dict)"
   ]
  },
  {
   "cell_type": "code",
   "execution_count": 92,
   "metadata": {},
   "outputs": [
    {
     "name": "stderr",
     "output_type": "stream",
     "text": [
      "<ipython-input-92-6ed30a8cda35>:1: SettingWithCopyWarning: \n",
      "A value is trying to be set on a copy of a slice from a DataFrame.\n",
      "Try using .loc[row_indexer,col_indexer] = value instead\n",
      "\n",
      "See the caveats in the documentation: https://pandas.pydata.org/pandas-docs/stable/user_guide/indexing.html#returning-a-view-versus-a-copy\n",
      "  revised_2021[\"金額\"] = revised_2021[\"單價\"] * revised_2021[\"數量\"]\n"
     ]
    }
   ],
   "source": [
    "revised_2021[\"金額\"] = revised_2021[\"單價\"] * revised_2021[\"數量\"]"
   ]
  },
  {
   "cell_type": "code",
   "execution_count": 93,
   "metadata": {},
   "outputs": [
    {
     "name": "stderr",
     "output_type": "stream",
     "text": [
      "<ipython-input-93-b67c8d405ae4>:1: SettingWithCopyWarning: \n",
      "A value is trying to be set on a copy of a slice from a DataFrame.\n",
      "Try using .loc[row_indexer,col_indexer] = value instead\n",
      "\n",
      "See the caveats in the documentation: https://pandas.pydata.org/pandas-docs/stable/user_guide/indexing.html#returning-a-view-versus-a-copy\n",
      "  revised_2021[\"類型\"] = \"Q2修改\"\n",
      "<ipython-input-93-b67c8d405ae4>:2: SettingWithCopyWarning: \n",
      "A value is trying to be set on a copy of a slice from a DataFrame.\n",
      "Try using .loc[row_indexer,col_indexer] = value instead\n",
      "\n",
      "See the caveats in the documentation: https://pandas.pydata.org/pandas-docs/stable/user_guide/indexing.html#returning-a-view-versus-a-copy\n",
      "  revised_2021[\"Group\"] = \"TELTONIKA\"\n"
     ]
    }
   ],
   "source": [
    "revised_2021[\"類型\"] = \"Q2修改\"\n",
    "revised_2021[\"Group\"] = \"TELTONIKA\""
   ]
  },
  {
   "cell_type": "code",
   "execution_count": 96,
   "metadata": {},
   "outputs": [],
   "source": [
    "origin_2021[\"數量\"] = origin_2021[\"數量\"].astype(\"int\")"
   ]
  },
  {
   "cell_type": "code",
   "execution_count": 98,
   "metadata": {},
   "outputs": [
    {
     "data": {
      "text/plain": [
       "Index(['Group', '預交月份', '品名', '單價', '數量', '金額', '類型'], dtype='object')"
      ]
     },
     "execution_count": 98,
     "metadata": {},
     "output_type": "execute_result"
    }
   ],
   "source": [
    "shipment.columns"
   ]
  },
  {
   "cell_type": "code",
   "execution_count": 101,
   "metadata": {},
   "outputs": [],
   "source": [
    "origin_2021 = origin_2021.reindex(columns=shipment.columns)"
   ]
  },
  {
   "cell_type": "code",
   "execution_count": 103,
   "metadata": {},
   "outputs": [],
   "source": [
    "revised_2021.columns = ['預交月份', '品名', '數量', '單價', '金額', '類型', 'Group']"
   ]
  },
  {
   "cell_type": "code",
   "execution_count": 105,
   "metadata": {},
   "outputs": [],
   "source": [
    "revised_2021 = revised_2021.reindex(columns=shipment.columns)"
   ]
  },
  {
   "cell_type": "code",
   "execution_count": 110,
   "metadata": {},
   "outputs": [],
   "source": [
    "result = pd.concat([shipment, origin_2021, revised_2021], axis=0)"
   ]
  },
  {
   "cell_type": "code",
   "execution_count": 116,
   "metadata": {},
   "outputs": [],
   "source": [
    "plot_use = result.groupby([\"預交月份\", \"品名\", \"類型\"])[[\"金額\"]].sum().reset_index()"
   ]
  },
  {
   "cell_type": "code",
   "execution_count": 117,
   "metadata": {},
   "outputs": [],
   "source": [
    "import plotly.express as px"
   ]
  },
  {
   "cell_type": "code",
   "execution_count": 131,
   "metadata": {},
   "outputs": [],
   "source": [
    "final_plot = px.bar(plot_use, x=\"預交月份\", y=\"金額\", color=\"類型\", barmode=\"group\", category_orders={\"預交月份\":month_value},\n",
    "      title=\"TELTONIKA 2021年實績/預算/修改預算\", labels={\"金額\":\"總金額\", \"預交月份\":\"月份\"}, text=\"品名\").update_layout(title_font_size=26).update_xaxes(title_font={\"size\":18}).update_yaxes(title_font={\"size\":18})"
   ]
  },
  {
   "cell_type": "code",
   "execution_count": 132,
   "metadata": {},
   "outputs": [],
   "source": [
    "with open(\"teltonika預算實績差異.html\", \"a\", encoding=\"utf-8\") as f:\n",
    "    f.write(final_plot.to_html(full_html=False, include_plotlyjs=\"cdn\"))\n",
    "    f.close()"
   ]
  },
  {
   "cell_type": "code",
   "execution_count": 118,
   "metadata": {},
   "outputs": [
    {
     "data": {
      "text/html": [
       "<div>\n",
       "<style scoped>\n",
       "    .dataframe tbody tr th:only-of-type {\n",
       "        vertical-align: middle;\n",
       "    }\n",
       "\n",
       "    .dataframe tbody tr th {\n",
       "        vertical-align: top;\n",
       "    }\n",
       "\n",
       "    .dataframe thead th {\n",
       "        text-align: right;\n",
       "    }\n",
       "</style>\n",
       "<table border=\"1\" class=\"dataframe\">\n",
       "  <thead>\n",
       "    <tr style=\"text-align: right;\">\n",
       "      <th></th>\n",
       "      <th>預交月份</th>\n",
       "      <th>品名</th>\n",
       "      <th>類型</th>\n",
       "      <th>金額</th>\n",
       "    </tr>\n",
       "  </thead>\n",
       "  <tbody>\n",
       "    <tr>\n",
       "      <th>0</th>\n",
       "      <td>April</td>\n",
       "      <td>DAM-P11-B-R2-015-10-49</td>\n",
       "      <td>初版預估</td>\n",
       "      <td>20160.00</td>\n",
       "    </tr>\n",
       "    <tr>\n",
       "      <th>1</th>\n",
       "      <td>April</td>\n",
       "      <td>DAM-P11-B-R2-015-10-49</td>\n",
       "      <td>實績</td>\n",
       "      <td>28000.00</td>\n",
       "    </tr>\n",
       "    <tr>\n",
       "      <th>2</th>\n",
       "      <td>April</td>\n",
       "      <td>DAM-P11-B-R2-015-10-50</td>\n",
       "      <td>初版預估</td>\n",
       "      <td>6720.00</td>\n",
       "    </tr>\n",
       "    <tr>\n",
       "      <th>3</th>\n",
       "      <td>April</td>\n",
       "      <td>DAM-P11-B-R2-015-10-50</td>\n",
       "      <td>實績</td>\n",
       "      <td>5600.00</td>\n",
       "    </tr>\n",
       "    <tr>\n",
       "      <th>4</th>\n",
       "      <td>April</td>\n",
       "      <td>DAM-P11-E1-R2-003-22-03</td>\n",
       "      <td>初版預估</td>\n",
       "      <td>26880.00</td>\n",
       "    </tr>\n",
       "    <tr>\n",
       "      <th>...</th>\n",
       "      <td>...</td>\n",
       "      <td>...</td>\n",
       "      <td>...</td>\n",
       "      <td>...</td>\n",
       "    </tr>\n",
       "    <tr>\n",
       "      <th>401</th>\n",
       "      <td>September</td>\n",
       "      <td>RFDPA171300SBAB823J4</td>\n",
       "      <td>Q2修改</td>\n",
       "      <td>32131.68</td>\n",
       "    </tr>\n",
       "    <tr>\n",
       "      <th>402</th>\n",
       "      <td>September</td>\n",
       "      <td>RFDPA171300SBAB823J4</td>\n",
       "      <td>初版預估</td>\n",
       "      <td>18980.00</td>\n",
       "    </tr>\n",
       "    <tr>\n",
       "      <th>403</th>\n",
       "      <td>September</td>\n",
       "      <td>RFDPA191300SMTB806J4</td>\n",
       "      <td>Q2修改</td>\n",
       "      <td>59071.60</td>\n",
       "    </tr>\n",
       "    <tr>\n",
       "      <th>404</th>\n",
       "      <td>September</td>\n",
       "      <td>RFDPA191300SMTB806J4</td>\n",
       "      <td>初版預估</td>\n",
       "      <td>39420.00</td>\n",
       "    </tr>\n",
       "    <tr>\n",
       "      <th>405</th>\n",
       "      <td>September</td>\n",
       "      <td>RFDPA30871ASBLBA01J4</td>\n",
       "      <td>Q2修改</td>\n",
       "      <td>2276.96</td>\n",
       "    </tr>\n",
       "  </tbody>\n",
       "</table>\n",
       "<p>406 rows × 4 columns</p>\n",
       "</div>"
      ],
      "text/plain": [
       "          預交月份                       品名    類型        金額\n",
       "0        April   DAM-P11-B-R2-015-10-49  初版預估  20160.00\n",
       "1        April   DAM-P11-B-R2-015-10-49    實績  28000.00\n",
       "2        April   DAM-P11-B-R2-015-10-50  初版預估   6720.00\n",
       "3        April   DAM-P11-B-R2-015-10-50    實績   5600.00\n",
       "4        April  DAM-P11-E1-R2-003-22-03  初版預估  26880.00\n",
       "..         ...                      ...   ...       ...\n",
       "401  September     RFDPA171300SBAB823J4  Q2修改  32131.68\n",
       "402  September     RFDPA171300SBAB823J4  初版預估  18980.00\n",
       "403  September     RFDPA191300SMTB806J4  Q2修改  59071.60\n",
       "404  September     RFDPA191300SMTB806J4  初版預估  39420.00\n",
       "405  September     RFDPA30871ASBLBA01J4  Q2修改   2276.96\n",
       "\n",
       "[406 rows x 4 columns]"
      ]
     },
     "execution_count": 118,
     "metadata": {},
     "output_type": "execute_result"
    }
   ],
   "source": []
  }
 ],
 "metadata": {
  "kernelspec": {
   "display_name": "Python 3",
   "language": "python",
   "name": "python3"
  },
  "language_info": {
   "codemirror_mode": {
    "name": "ipython",
    "version": 3
   },
   "file_extension": ".py",
   "mimetype": "text/x-python",
   "name": "python",
   "nbconvert_exporter": "python",
   "pygments_lexer": "ipython3",
   "version": "3.8.5"
  }
 },
 "nbformat": 4,
 "nbformat_minor": 4
}
