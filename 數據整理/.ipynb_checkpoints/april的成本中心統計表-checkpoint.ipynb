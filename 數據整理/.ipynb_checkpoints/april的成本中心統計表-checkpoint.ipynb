{
 "cells": [
  {
   "cell_type": "code",
   "execution_count": 1,
   "metadata": {},
   "outputs": [],
   "source": [
    "import pandas as pd"
   ]
  },
  {
   "cell_type": "code",
   "execution_count": 5,
   "metadata": {},
   "outputs": [],
   "source": [
    "df = pd.read_excel(r\"C:\\Users\\kaihsu\\Desktop\\複本 副本WK14.xlsx\", None)"
   ]
  },
  {
   "cell_type": "code",
   "execution_count": 8,
   "metadata": {},
   "outputs": [],
   "source": [
    "df = df['Q1統計表']"
   ]
  },
  {
   "cell_type": "code",
   "execution_count": 11,
   "metadata": {},
   "outputs": [],
   "source": [
    "df.columns = df.columns.str.replace('\\n', '')"
   ]
  },
  {
   "cell_type": "code",
   "execution_count": 21,
   "metadata": {},
   "outputs": [],
   "source": [
    "keys = ['1/30-2/11', '2/18-2/20', '2/22-2/26', '3/1-3/5', '3/8-3/12', '3/15-3/19', '3/22-3/28']\n",
    "values = ['2021-02-05', '2021-02-19', '2021-02-24', '2021-03-03', '2021-03-10', '2021-03-17', '2021-03-25']\n",
    "date_dict = dict(zip(keys, values))\n",
    "df['提供時間'] = df['提供時間'].map(lambda x: date_dict[x] if x in date_dict.keys() else x)"
   ]
  },
  {
   "cell_type": "code",
   "execution_count": 23,
   "metadata": {},
   "outputs": [],
   "source": [
    "df['提供時間'] = pd.to_datetime(df['提供時間'], yearfirst=True)"
   ]
  },
  {
   "cell_type": "code",
   "execution_count": 28,
   "metadata": {},
   "outputs": [],
   "source": [
    "cus_keys = df['客戶'].unique().tolist()\n",
    "cus_values = ['緯創', '和碩', '易维英途', '藍岸', 'ASUS', '仁寶', 'IPK', '鴻富泰', '鴻海', '龍旗',\n",
    "       'Nexty', '偉世通', '軟銀', 'Garmin', '歌爾', '万魔', '新案', '華勤', '下田貿易',\n",
    "       '神準', '歐立', '滴滴', 'Sercomm', '佳德', '富士康', '易冲', '大同', 'MSI', '海信',\n",
    "       '廣達', '聞泰', '酷比', '北京經緯恒潤', '麥博韋爾', '華米', 'LCFC', '千和佑',\n",
    "       'MT-SYSTEM', '歌樂', '比亞迪', 'SYSGRATION', '佳禾', '天鍵電聲', '双翼', '美團',\n",
    "       '大疆', 'Valeo', '立訊', '徐工', '欣旺達', '小尋', '京瓷', 'Harman', '傑銘', 'LG',\n",
    "       'Hirschmann (TE) ', '信邦', 'Panasonic', 'FIH', 'BOSCH', '维沃', '三一',\n",
    "       '福永生物科技', 'Kathrein', 'CCI', '小米', 'Silram', '睿生光電', '新案（七十迈）',\n",
    "       'Elema', 'Reliance ', '安波福', '下田', '下田貿易', '英業達', 'Kaonmedia',\n",
    "       'Endrich-ASK', '麦博韦尔', 'FUBA', '日安', '移遠', '通力', '欣旺達',\n",
    "       'AVNET\\xa0', '下田貿易-电裝天', '迪芬尼', '偉斯', '長城', 'UBLOX(UK)', '佳鎂',\n",
    "       'MLK', 'Denso', '阿里', 'Vega-Absolute', 'TELTONIKA', 'hellobike',\n",
    "       '博實結', '无锡行米', '廣達QSMC', 'Vitesco', '鎂佳', '系統電子', 'Visteon',\n",
    "       'Kamaya-CLS', 'Hellobike', 'Hirschmann ', 'Emelite Tech', '天亮',\n",
    "       '致伸', 'Molex', '好幫手', '亞馬遜', 'Shimoda/BizStation', '睦星']\n",
    "cus_dict = dict(zip(cus_keys, cus_values))"
   ]
  },
  {
   "cell_type": "code",
   "execution_count": 30,
   "metadata": {},
   "outputs": [],
   "source": [
    "df['客戶'] = df['客戶'].map(cus_dict)"
   ]
  },
  {
   "cell_type": "code",
   "execution_count": 42,
   "metadata": {},
   "outputs": [],
   "source": [
    "df['是否有接到案 Received ?'] = df['是否有接到案 Received ?'].map(lambda x: 'Yes' if x == 'YES' or x == 'yes' else 'No' if x == 'NO' else 'N/A' if pd.isna(x) else x)"
   ]
  },
  {
   "cell_type": "code",
   "execution_count": 48,
   "metadata": {
    "scrolled": true
   },
   "outputs": [
    {
     "data": {
      "text/plain": [
       "Index(['提供時間', '區域', '客戶', '專案Project', '該案營業額 NTExpected Revenue', '業務Sales',\n",
       "       '是否有接到案 Received ?', '專案進度 Project Status', '備註 Remarks'],\n",
       "      dtype='object')"
      ]
     },
     "execution_count": 48,
     "metadata": {},
     "output_type": "execute_result"
    }
   ],
   "source": [
    "df.columns"
   ]
  },
  {
   "cell_type": "code",
   "execution_count": 51,
   "metadata": {
    "scrolled": false
   },
   "outputs": [],
   "source": [
    "df['大於500萬'] = df.apply(lambda x: 'Yes' if x['該案營業額 NTExpected Revenue'] >= 5000000 else 'No', axis=1)"
   ]
  },
  {
   "cell_type": "code",
   "execution_count": 53,
   "metadata": {},
   "outputs": [],
   "source": [
    "import plotly.express as px"
   ]
  },
  {
   "cell_type": "code",
   "execution_count": 61,
   "metadata": {},
   "outputs": [],
   "source": [
    "plot = px.bar(df, x='區域', color='是否有接到案 Received ?', facet_col='大於500萬', title='各區域報價/結案狀態', labels={'count': '案件數', '是否有接到案 Received ?':'是否結案'}).update_xaxes(categoryorder='total descending')"
   ]
  },
  {
   "cell_type": "code",
   "execution_count": 67,
   "metadata": {},
   "outputs": [
    {
     "data": {
      "application/vnd.plotly.v1+json": {
       "config": {
        "plotlyServerURL": "https://plot.ly"
       },
       "data": [
        {
         "alignmentgroup": "True",
         "hovertemplate": "是否結案=Yes<br>大於500萬=No<br>區域=%{x}<br>案件數=%{y}<extra></extra>",
         "legendgroup": "Yes",
         "marker": {
          "color": "#636efa"
         },
         "name": "Yes",
         "offsetgroup": "Yes",
         "orientation": "v",
         "showlegend": true,
         "textposition": "auto",
         "type": "bar",
         "x": [
          "台灣",
          "台灣",
          "華東",
          "台灣",
          "台灣",
          "台灣",
          "台灣",
          "CFT大陸",
          "華東",
          "台灣",
          "華東",
          "台灣",
          "台灣",
          "台灣",
          "台灣",
          "華東",
          "華南",
          "台灣",
          "台灣",
          "BU2",
          "華南",
          "海外",
          "台灣",
          "台灣",
          "台灣",
          "台灣",
          "華東",
          "華南",
          "海外",
          "CFT大陸",
          "華東",
          "台灣",
          "台灣",
          "CFT台灣",
          "台灣",
          "華東",
          "華南",
          "台灣",
          "台灣",
          "華東",
          "華東",
          "華東",
          "華東",
          "台灣",
          "華東",
          "華東",
          "台灣",
          "華東",
          "台灣",
          "華東",
          "台灣",
          "台灣",
          "海外",
          "台灣",
          "台灣",
          "台灣",
          "台灣",
          "華東",
          "CFT台灣",
          "華東",
          "台灣",
          "台灣",
          "CFT大陸",
          "CFT大陸",
          "台灣",
          "華東",
          "海外",
          "台灣",
          "台灣",
          "華東",
          "華東",
          "CFT大陸",
          "台灣",
          "台灣",
          "CFT大陸",
          "華東",
          "華南",
          "台灣",
          "華東",
          "海外",
          "華東",
          "海外",
          "台灣",
          "台灣",
          "華東",
          "海外",
          "台灣",
          "台灣",
          "台灣",
          "華東",
          "台灣",
          "台灣",
          "台灣",
          "CFT台灣",
          "華東",
          "華東",
          "華東",
          "華東",
          "台灣",
          "台灣",
          "海外",
          "台灣",
          "華東",
          "台灣",
          "台灣",
          "華東",
          "華南",
          "BU2",
          "台灣",
          "華東",
          "台灣",
          "華南",
          "台灣",
          "華東",
          "華南",
          "CFT大陸",
          "CFT大陸",
          "台灣",
          "海外",
          "台灣",
          "華南"
         ],
         "xaxis": "x",
         "y": [
          1,
          1,
          1,
          1,
          1,
          1,
          1,
          1,
          1,
          1,
          1,
          1,
          1,
          1,
          1,
          1,
          1,
          1,
          1,
          1,
          1,
          1,
          1,
          1,
          1,
          1,
          1,
          1,
          1,
          1,
          1,
          1,
          1,
          1,
          1,
          1,
          1,
          1,
          1,
          1,
          1,
          1,
          1,
          1,
          1,
          1,
          1,
          1,
          1,
          1,
          1,
          1,
          1,
          1,
          1,
          1,
          1,
          1,
          1,
          1,
          1,
          1,
          1,
          1,
          1,
          1,
          1,
          1,
          1,
          1,
          1,
          1,
          1,
          1,
          1,
          1,
          1,
          1,
          1,
          1,
          1,
          1,
          1,
          1,
          1,
          1,
          1,
          1,
          1,
          1,
          1,
          1,
          1,
          1,
          1,
          1,
          1,
          1,
          1,
          1,
          1,
          1,
          1,
          1,
          1,
          1,
          1,
          1,
          1,
          1,
          1,
          1,
          1,
          1,
          1,
          1,
          1,
          1,
          1,
          1,
          1
         ],
         "yaxis": "y"
        },
        {
         "alignmentgroup": "True",
         "hovertemplate": "是否結案=Yes<br>大於500萬=Yes<br>區域=%{x}<br>案件數=%{y}<extra></extra>",
         "legendgroup": "Yes",
         "marker": {
          "color": "#636efa"
         },
         "name": "Yes",
         "offsetgroup": "Yes",
         "orientation": "v",
         "showlegend": false,
         "textposition": "auto",
         "type": "bar",
         "x": [
          "台灣",
          "海外",
          "台灣",
          "台灣",
          "華東",
          "華東",
          "華東",
          "台灣",
          "華東",
          "華東",
          "台灣",
          "台灣",
          "華東",
          "華東",
          "台灣",
          "台灣",
          "台灣",
          "台灣",
          "華東",
          "華東",
          "台灣",
          "華東",
          "華東",
          "華東",
          "CFT台灣",
          "台灣",
          "CFT大陸",
          "台灣",
          "台灣",
          "台灣",
          "華東",
          "CFT大陸",
          "CFT台灣",
          "台灣",
          "台灣"
         ],
         "xaxis": "x2",
         "y": [
          1,
          1,
          1,
          1,
          1,
          1,
          1,
          1,
          1,
          1,
          1,
          1,
          1,
          1,
          1,
          1,
          1,
          1,
          1,
          1,
          1,
          1,
          1,
          1,
          1,
          1,
          1,
          1,
          1,
          1,
          1,
          1,
          1,
          1,
          1
         ],
         "yaxis": "y2"
        },
        {
         "alignmentgroup": "True",
         "hovertemplate": "是否結案=Trace<br>大於500萬=No<br>區域=%{x}<br>案件數=%{y}<extra></extra>",
         "legendgroup": "Trace",
         "marker": {
          "color": "#EF553B"
         },
         "name": "Trace",
         "offsetgroup": "Trace",
         "orientation": "v",
         "showlegend": true,
         "textposition": "auto",
         "type": "bar",
         "x": [
          "華東",
          "台灣",
          "海外",
          "台灣",
          "華東",
          "海外",
          "海外",
          "華南",
          "華東",
          "海外",
          "CFT大陸",
          "華南",
          "華東",
          "台灣",
          "海外",
          "華東",
          "台灣",
          "台灣",
          "CFT大陸",
          "台灣",
          "華南",
          "華南",
          "華東",
          "華南",
          "CFT大陸",
          "華南",
          "CFT大陸",
          "華東",
          "華東",
          "華南",
          "海外",
          "海外",
          "CFT大陸",
          "CFT大陸",
          "華南",
          "海外",
          "CFT大陸",
          "華南",
          "台灣",
          "海外",
          "華東",
          "海外",
          "CFT大陸",
          "CFT大陸",
          "華東",
          "華東",
          "華南",
          "華東",
          "海外",
          "華南",
          "台灣",
          "華南",
          "華南",
          "CFT大陸",
          "華東",
          "CFT大陸",
          "台灣",
          "海外",
          "CFT大陸",
          "華東",
          "華東",
          "台灣",
          "台灣",
          "華東",
          "海外",
          "台灣",
          "華東",
          "華東",
          "台灣",
          "華東",
          "台灣",
          "台灣",
          "海外",
          "台灣",
          "CFT大陸",
          "華東",
          "海外",
          "華東",
          "台灣",
          "華東",
          "海外",
          "海外",
          "CFT大陸",
          "台灣",
          "台灣",
          "海外",
          "華南",
          "台灣",
          "華南",
          "台灣",
          "BU2",
          "華東",
          "海外",
          "華東",
          "台灣",
          "華東",
          "台灣",
          "台灣",
          "海外",
          "華東",
          "台灣",
          "台灣",
          "台灣",
          "台灣",
          "台灣",
          "台灣",
          "華東",
          "台灣",
          "台灣",
          "台灣",
          "台灣",
          "台灣",
          "華東",
          "台灣",
          "海外",
          "海外",
          "海外",
          "CFT大陸",
          "台灣",
          "台灣",
          "台灣",
          "台灣",
          "台灣"
         ],
         "xaxis": "x",
         "y": [
          1,
          1,
          1,
          1,
          1,
          1,
          1,
          1,
          1,
          1,
          1,
          1,
          1,
          1,
          1,
          1,
          1,
          1,
          1,
          1,
          1,
          1,
          1,
          1,
          1,
          1,
          1,
          1,
          1,
          1,
          1,
          1,
          1,
          1,
          1,
          1,
          1,
          1,
          1,
          1,
          1,
          1,
          1,
          1,
          1,
          1,
          1,
          1,
          1,
          1,
          1,
          1,
          1,
          1,
          1,
          1,
          1,
          1,
          1,
          1,
          1,
          1,
          1,
          1,
          1,
          1,
          1,
          1,
          1,
          1,
          1,
          1,
          1,
          1,
          1,
          1,
          1,
          1,
          1,
          1,
          1,
          1,
          1,
          1,
          1,
          1,
          1,
          1,
          1,
          1,
          1,
          1,
          1,
          1,
          1,
          1,
          1,
          1,
          1,
          1,
          1,
          1,
          1,
          1,
          1,
          1,
          1,
          1,
          1,
          1,
          1,
          1,
          1,
          1,
          1,
          1,
          1,
          1,
          1,
          1,
          1,
          1,
          1
         ],
         "yaxis": "y"
        },
        {
         "alignmentgroup": "True",
         "hovertemplate": "是否結案=Trace<br>大於500萬=Yes<br>區域=%{x}<br>案件數=%{y}<extra></extra>",
         "legendgroup": "Trace",
         "marker": {
          "color": "#EF553B"
         },
         "name": "Trace",
         "offsetgroup": "Trace",
         "orientation": "v",
         "showlegend": false,
         "textposition": "auto",
         "type": "bar",
         "x": [
          "華東",
          "台灣",
          "台灣",
          "海外",
          "海外",
          "海外",
          "台灣",
          "台灣",
          "海外",
          "華東",
          "台灣",
          "華東",
          "台灣",
          "台灣",
          "華東",
          "台灣",
          "華東",
          "台灣",
          "海外",
          "台灣",
          "海外",
          "台灣",
          "華東",
          "台灣",
          "台灣",
          "華南",
          "台灣",
          "華東"
         ],
         "xaxis": "x2",
         "y": [
          1,
          1,
          1,
          1,
          1,
          1,
          1,
          1,
          1,
          1,
          1,
          1,
          1,
          1,
          1,
          1,
          1,
          1,
          1,
          1,
          1,
          1,
          1,
          1,
          1,
          1,
          1,
          1
         ],
         "yaxis": "y2"
        },
        {
         "alignmentgroup": "True",
         "hovertemplate": "是否結案=No<br>大於500萬=No<br>區域=%{x}<br>案件數=%{y}<extra></extra>",
         "legendgroup": "No",
         "marker": {
          "color": "#00cc96"
         },
         "name": "No",
         "offsetgroup": "No",
         "orientation": "v",
         "showlegend": true,
         "textposition": "auto",
         "type": "bar",
         "x": [
          "台灣",
          "華東",
          "華南",
          "CFT大陸",
          "台灣",
          "CFT台灣",
          "華東",
          "台灣",
          "華東",
          "台灣",
          "華東",
          "華南",
          "華東",
          "華東",
          "華東",
          "CFT大陸",
          "CFT大陸",
          "CFT大陸",
          "華東",
          "華南",
          "華東",
          "海外",
          "台灣",
          "華東",
          "台灣",
          "海外",
          "華南",
          "台灣",
          "台灣",
          "台灣",
          "華東",
          "華東",
          "華東",
          "華東",
          "華東",
          "華東",
          "台灣",
          "華東",
          "華南",
          "台灣",
          "台灣",
          "華東",
          "台灣",
          "華東",
          "華東",
          "華東",
          "華南",
          "華南",
          "台灣",
          "海外",
          "CFT大陸",
          "華南",
          "華南",
          "華東",
          "台灣",
          "台灣",
          "BU2",
          "台灣",
          "台灣",
          "台灣",
          "華東",
          "華東",
          "台灣",
          "華南",
          "華東",
          "華南",
          "CFT大陸",
          "華東",
          "台灣",
          "台灣",
          "台灣",
          "華東",
          "台灣",
          "華南",
          "海外",
          "CFT大陸",
          "華南",
          "CFT大陸",
          "華南",
          "華東"
         ],
         "xaxis": "x",
         "y": [
          1,
          1,
          1,
          1,
          1,
          1,
          1,
          1,
          1,
          1,
          1,
          1,
          1,
          1,
          1,
          1,
          1,
          1,
          1,
          1,
          1,
          1,
          1,
          1,
          1,
          1,
          1,
          1,
          1,
          1,
          1,
          1,
          1,
          1,
          1,
          1,
          1,
          1,
          1,
          1,
          1,
          1,
          1,
          1,
          1,
          1,
          1,
          1,
          1,
          1,
          1,
          1,
          1,
          1,
          1,
          1,
          1,
          1,
          1,
          1,
          1,
          1,
          1,
          1,
          1,
          1,
          1,
          1,
          1,
          1,
          1,
          1,
          1,
          1,
          1,
          1,
          1,
          1,
          1,
          1
         ],
         "yaxis": "y"
        },
        {
         "alignmentgroup": "True",
         "hovertemplate": "是否結案=No<br>大於500萬=Yes<br>區域=%{x}<br>案件數=%{y}<extra></extra>",
         "legendgroup": "No",
         "marker": {
          "color": "#00cc96"
         },
         "name": "No",
         "offsetgroup": "No",
         "orientation": "v",
         "showlegend": false,
         "textposition": "auto",
         "type": "bar",
         "x": [
          "華東",
          "華東",
          "華東",
          "華東",
          "華東",
          "台灣",
          "華南",
          "CFT大陸",
          "華南",
          "華東",
          "華南",
          "華東"
         ],
         "xaxis": "x2",
         "y": [
          1,
          1,
          1,
          1,
          1,
          1,
          1,
          1,
          1,
          1,
          1,
          1
         ],
         "yaxis": "y2"
        },
        {
         "alignmentgroup": "True",
         "hovertemplate": "是否結案=N/A<br>大於500萬=No<br>區域=%{x}<br>案件數=%{y}<extra></extra>",
         "legendgroup": "N/A",
         "marker": {
          "color": "#ab63fa"
         },
         "name": "N/A",
         "offsetgroup": "N/A",
         "orientation": "v",
         "showlegend": true,
         "textposition": "auto",
         "type": "bar",
         "x": [
          "CFT台灣",
          "CFT台灣",
          "CFT台灣",
          "CFT台灣",
          "CFT台灣",
          "CFT台灣",
          "CFT台灣",
          "CFT台灣",
          "CFT台灣",
          "CFT台灣",
          "CFT台灣",
          "CFT台灣",
          "CFT台灣"
         ],
         "xaxis": "x",
         "y": [
          1,
          1,
          1,
          1,
          1,
          1,
          1,
          1,
          1,
          1,
          1,
          1,
          1
         ],
         "yaxis": "y"
        }
       ],
       "layout": {
        "annotations": [
         {
          "font": {},
          "showarrow": false,
          "text": "大於500萬=No",
          "x": 0.245,
          "xanchor": "center",
          "xref": "paper",
          "y": 1,
          "yanchor": "bottom",
          "yref": "paper"
         },
         {
          "font": {},
          "showarrow": false,
          "text": "大於500萬=Yes",
          "x": 0.755,
          "xanchor": "center",
          "xref": "paper",
          "y": 1,
          "yanchor": "bottom",
          "yref": "paper"
         }
        ],
        "barmode": "relative",
        "legend": {
         "title": {
          "text": "是否結案"
         },
         "tracegroupgap": 0
        },
        "template": {
         "data": {
          "bar": [
           {
            "error_x": {
             "color": "#2a3f5f"
            },
            "error_y": {
             "color": "#2a3f5f"
            },
            "marker": {
             "line": {
              "color": "#E5ECF6",
              "width": 0.5
             }
            },
            "type": "bar"
           }
          ],
          "barpolar": [
           {
            "marker": {
             "line": {
              "color": "#E5ECF6",
              "width": 0.5
             }
            },
            "type": "barpolar"
           }
          ],
          "carpet": [
           {
            "aaxis": {
             "endlinecolor": "#2a3f5f",
             "gridcolor": "white",
             "linecolor": "white",
             "minorgridcolor": "white",
             "startlinecolor": "#2a3f5f"
            },
            "baxis": {
             "endlinecolor": "#2a3f5f",
             "gridcolor": "white",
             "linecolor": "white",
             "minorgridcolor": "white",
             "startlinecolor": "#2a3f5f"
            },
            "type": "carpet"
           }
          ],
          "choropleth": [
           {
            "colorbar": {
             "outlinewidth": 0,
             "ticks": ""
            },
            "type": "choropleth"
           }
          ],
          "contour": [
           {
            "colorbar": {
             "outlinewidth": 0,
             "ticks": ""
            },
            "colorscale": [
             [
              0,
              "#0d0887"
             ],
             [
              0.1111111111111111,
              "#46039f"
             ],
             [
              0.2222222222222222,
              "#7201a8"
             ],
             [
              0.3333333333333333,
              "#9c179e"
             ],
             [
              0.4444444444444444,
              "#bd3786"
             ],
             [
              0.5555555555555556,
              "#d8576b"
             ],
             [
              0.6666666666666666,
              "#ed7953"
             ],
             [
              0.7777777777777778,
              "#fb9f3a"
             ],
             [
              0.8888888888888888,
              "#fdca26"
             ],
             [
              1,
              "#f0f921"
             ]
            ],
            "type": "contour"
           }
          ],
          "contourcarpet": [
           {
            "colorbar": {
             "outlinewidth": 0,
             "ticks": ""
            },
            "type": "contourcarpet"
           }
          ],
          "heatmap": [
           {
            "colorbar": {
             "outlinewidth": 0,
             "ticks": ""
            },
            "colorscale": [
             [
              0,
              "#0d0887"
             ],
             [
              0.1111111111111111,
              "#46039f"
             ],
             [
              0.2222222222222222,
              "#7201a8"
             ],
             [
              0.3333333333333333,
              "#9c179e"
             ],
             [
              0.4444444444444444,
              "#bd3786"
             ],
             [
              0.5555555555555556,
              "#d8576b"
             ],
             [
              0.6666666666666666,
              "#ed7953"
             ],
             [
              0.7777777777777778,
              "#fb9f3a"
             ],
             [
              0.8888888888888888,
              "#fdca26"
             ],
             [
              1,
              "#f0f921"
             ]
            ],
            "type": "heatmap"
           }
          ],
          "heatmapgl": [
           {
            "colorbar": {
             "outlinewidth": 0,
             "ticks": ""
            },
            "colorscale": [
             [
              0,
              "#0d0887"
             ],
             [
              0.1111111111111111,
              "#46039f"
             ],
             [
              0.2222222222222222,
              "#7201a8"
             ],
             [
              0.3333333333333333,
              "#9c179e"
             ],
             [
              0.4444444444444444,
              "#bd3786"
             ],
             [
              0.5555555555555556,
              "#d8576b"
             ],
             [
              0.6666666666666666,
              "#ed7953"
             ],
             [
              0.7777777777777778,
              "#fb9f3a"
             ],
             [
              0.8888888888888888,
              "#fdca26"
             ],
             [
              1,
              "#f0f921"
             ]
            ],
            "type": "heatmapgl"
           }
          ],
          "histogram": [
           {
            "marker": {
             "colorbar": {
              "outlinewidth": 0,
              "ticks": ""
             }
            },
            "type": "histogram"
           }
          ],
          "histogram2d": [
           {
            "colorbar": {
             "outlinewidth": 0,
             "ticks": ""
            },
            "colorscale": [
             [
              0,
              "#0d0887"
             ],
             [
              0.1111111111111111,
              "#46039f"
             ],
             [
              0.2222222222222222,
              "#7201a8"
             ],
             [
              0.3333333333333333,
              "#9c179e"
             ],
             [
              0.4444444444444444,
              "#bd3786"
             ],
             [
              0.5555555555555556,
              "#d8576b"
             ],
             [
              0.6666666666666666,
              "#ed7953"
             ],
             [
              0.7777777777777778,
              "#fb9f3a"
             ],
             [
              0.8888888888888888,
              "#fdca26"
             ],
             [
              1,
              "#f0f921"
             ]
            ],
            "type": "histogram2d"
           }
          ],
          "histogram2dcontour": [
           {
            "colorbar": {
             "outlinewidth": 0,
             "ticks": ""
            },
            "colorscale": [
             [
              0,
              "#0d0887"
             ],
             [
              0.1111111111111111,
              "#46039f"
             ],
             [
              0.2222222222222222,
              "#7201a8"
             ],
             [
              0.3333333333333333,
              "#9c179e"
             ],
             [
              0.4444444444444444,
              "#bd3786"
             ],
             [
              0.5555555555555556,
              "#d8576b"
             ],
             [
              0.6666666666666666,
              "#ed7953"
             ],
             [
              0.7777777777777778,
              "#fb9f3a"
             ],
             [
              0.8888888888888888,
              "#fdca26"
             ],
             [
              1,
              "#f0f921"
             ]
            ],
            "type": "histogram2dcontour"
           }
          ],
          "mesh3d": [
           {
            "colorbar": {
             "outlinewidth": 0,
             "ticks": ""
            },
            "type": "mesh3d"
           }
          ],
          "parcoords": [
           {
            "line": {
             "colorbar": {
              "outlinewidth": 0,
              "ticks": ""
             }
            },
            "type": "parcoords"
           }
          ],
          "pie": [
           {
            "automargin": true,
            "type": "pie"
           }
          ],
          "scatter": [
           {
            "marker": {
             "colorbar": {
              "outlinewidth": 0,
              "ticks": ""
             }
            },
            "type": "scatter"
           }
          ],
          "scatter3d": [
           {
            "line": {
             "colorbar": {
              "outlinewidth": 0,
              "ticks": ""
             }
            },
            "marker": {
             "colorbar": {
              "outlinewidth": 0,
              "ticks": ""
             }
            },
            "type": "scatter3d"
           }
          ],
          "scattercarpet": [
           {
            "marker": {
             "colorbar": {
              "outlinewidth": 0,
              "ticks": ""
             }
            },
            "type": "scattercarpet"
           }
          ],
          "scattergeo": [
           {
            "marker": {
             "colorbar": {
              "outlinewidth": 0,
              "ticks": ""
             }
            },
            "type": "scattergeo"
           }
          ],
          "scattergl": [
           {
            "marker": {
             "colorbar": {
              "outlinewidth": 0,
              "ticks": ""
             }
            },
            "type": "scattergl"
           }
          ],
          "scattermapbox": [
           {
            "marker": {
             "colorbar": {
              "outlinewidth": 0,
              "ticks": ""
             }
            },
            "type": "scattermapbox"
           }
          ],
          "scatterpolar": [
           {
            "marker": {
             "colorbar": {
              "outlinewidth": 0,
              "ticks": ""
             }
            },
            "type": "scatterpolar"
           }
          ],
          "scatterpolargl": [
           {
            "marker": {
             "colorbar": {
              "outlinewidth": 0,
              "ticks": ""
             }
            },
            "type": "scatterpolargl"
           }
          ],
          "scatterternary": [
           {
            "marker": {
             "colorbar": {
              "outlinewidth": 0,
              "ticks": ""
             }
            },
            "type": "scatterternary"
           }
          ],
          "surface": [
           {
            "colorbar": {
             "outlinewidth": 0,
             "ticks": ""
            },
            "colorscale": [
             [
              0,
              "#0d0887"
             ],
             [
              0.1111111111111111,
              "#46039f"
             ],
             [
              0.2222222222222222,
              "#7201a8"
             ],
             [
              0.3333333333333333,
              "#9c179e"
             ],
             [
              0.4444444444444444,
              "#bd3786"
             ],
             [
              0.5555555555555556,
              "#d8576b"
             ],
             [
              0.6666666666666666,
              "#ed7953"
             ],
             [
              0.7777777777777778,
              "#fb9f3a"
             ],
             [
              0.8888888888888888,
              "#fdca26"
             ],
             [
              1,
              "#f0f921"
             ]
            ],
            "type": "surface"
           }
          ],
          "table": [
           {
            "cells": {
             "fill": {
              "color": "#EBF0F8"
             },
             "line": {
              "color": "white"
             }
            },
            "header": {
             "fill": {
              "color": "#C8D4E3"
             },
             "line": {
              "color": "white"
             }
            },
            "type": "table"
           }
          ]
         },
         "layout": {
          "annotationdefaults": {
           "arrowcolor": "#2a3f5f",
           "arrowhead": 0,
           "arrowwidth": 1
          },
          "coloraxis": {
           "colorbar": {
            "outlinewidth": 0,
            "ticks": ""
           }
          },
          "colorscale": {
           "diverging": [
            [
             0,
             "#8e0152"
            ],
            [
             0.1,
             "#c51b7d"
            ],
            [
             0.2,
             "#de77ae"
            ],
            [
             0.3,
             "#f1b6da"
            ],
            [
             0.4,
             "#fde0ef"
            ],
            [
             0.5,
             "#f7f7f7"
            ],
            [
             0.6,
             "#e6f5d0"
            ],
            [
             0.7,
             "#b8e186"
            ],
            [
             0.8,
             "#7fbc41"
            ],
            [
             0.9,
             "#4d9221"
            ],
            [
             1,
             "#276419"
            ]
           ],
           "sequential": [
            [
             0,
             "#0d0887"
            ],
            [
             0.1111111111111111,
             "#46039f"
            ],
            [
             0.2222222222222222,
             "#7201a8"
            ],
            [
             0.3333333333333333,
             "#9c179e"
            ],
            [
             0.4444444444444444,
             "#bd3786"
            ],
            [
             0.5555555555555556,
             "#d8576b"
            ],
            [
             0.6666666666666666,
             "#ed7953"
            ],
            [
             0.7777777777777778,
             "#fb9f3a"
            ],
            [
             0.8888888888888888,
             "#fdca26"
            ],
            [
             1,
             "#f0f921"
            ]
           ],
           "sequentialminus": [
            [
             0,
             "#0d0887"
            ],
            [
             0.1111111111111111,
             "#46039f"
            ],
            [
             0.2222222222222222,
             "#7201a8"
            ],
            [
             0.3333333333333333,
             "#9c179e"
            ],
            [
             0.4444444444444444,
             "#bd3786"
            ],
            [
             0.5555555555555556,
             "#d8576b"
            ],
            [
             0.6666666666666666,
             "#ed7953"
            ],
            [
             0.7777777777777778,
             "#fb9f3a"
            ],
            [
             0.8888888888888888,
             "#fdca26"
            ],
            [
             1,
             "#f0f921"
            ]
           ]
          },
          "colorway": [
           "#636efa",
           "#EF553B",
           "#00cc96",
           "#ab63fa",
           "#FFA15A",
           "#19d3f3",
           "#FF6692",
           "#B6E880",
           "#FF97FF",
           "#FECB52"
          ],
          "font": {
           "color": "#2a3f5f"
          },
          "geo": {
           "bgcolor": "white",
           "lakecolor": "white",
           "landcolor": "#E5ECF6",
           "showlakes": true,
           "showland": true,
           "subunitcolor": "white"
          },
          "hoverlabel": {
           "align": "left"
          },
          "hovermode": "closest",
          "mapbox": {
           "style": "light"
          },
          "paper_bgcolor": "white",
          "plot_bgcolor": "#E5ECF6",
          "polar": {
           "angularaxis": {
            "gridcolor": "white",
            "linecolor": "white",
            "ticks": ""
           },
           "bgcolor": "#E5ECF6",
           "radialaxis": {
            "gridcolor": "white",
            "linecolor": "white",
            "ticks": ""
           }
          },
          "scene": {
           "xaxis": {
            "backgroundcolor": "#E5ECF6",
            "gridcolor": "white",
            "gridwidth": 2,
            "linecolor": "white",
            "showbackground": true,
            "ticks": "",
            "zerolinecolor": "white"
           },
           "yaxis": {
            "backgroundcolor": "#E5ECF6",
            "gridcolor": "white",
            "gridwidth": 2,
            "linecolor": "white",
            "showbackground": true,
            "ticks": "",
            "zerolinecolor": "white"
           },
           "zaxis": {
            "backgroundcolor": "#E5ECF6",
            "gridcolor": "white",
            "gridwidth": 2,
            "linecolor": "white",
            "showbackground": true,
            "ticks": "",
            "zerolinecolor": "white"
           }
          },
          "shapedefaults": {
           "line": {
            "color": "#2a3f5f"
           }
          },
          "ternary": {
           "aaxis": {
            "gridcolor": "white",
            "linecolor": "white",
            "ticks": ""
           },
           "baxis": {
            "gridcolor": "white",
            "linecolor": "white",
            "ticks": ""
           },
           "bgcolor": "#E5ECF6",
           "caxis": {
            "gridcolor": "white",
            "linecolor": "white",
            "ticks": ""
           }
          },
          "title": {
           "x": 0.05
          },
          "xaxis": {
           "automargin": true,
           "gridcolor": "white",
           "linecolor": "white",
           "ticks": "",
           "title": {
            "standoff": 15
           },
           "zerolinecolor": "white",
           "zerolinewidth": 2
          },
          "yaxis": {
           "automargin": true,
           "gridcolor": "white",
           "linecolor": "white",
           "ticks": "",
           "title": {
            "standoff": 15
           },
           "zerolinecolor": "white",
           "zerolinewidth": 2
          }
         }
        },
        "title": {
         "text": "各區域報價/結案狀態"
        },
        "xaxis": {
         "anchor": "y",
         "categoryorder": "total descending",
         "domain": [
          0,
          0.49
         ],
         "title": {
          "text": "區域"
         }
        },
        "xaxis2": {
         "anchor": "y2",
         "categoryorder": "total descending",
         "domain": [
          0.51,
          1
         ],
         "matches": "x",
         "title": {
          "text": "區域"
         }
        },
        "yaxis": {
         "anchor": "x",
         "domain": [
          0,
          1
         ],
         "title": {
          "text": "案件數"
         }
        },
        "yaxis2": {
         "anchor": "x2",
         "domain": [
          0,
          1
         ],
         "matches": "y",
         "showticklabels": false
        }
       }
      },
      "text/html": [
       "<div>                            <div id=\"dd55dcf6-7fb0-411c-97ae-59f88a16c273\" class=\"plotly-graph-div\" style=\"height:525px; width:100%;\"></div>            <script type=\"text/javascript\">                require([\"plotly\"], function(Plotly) {                    window.PLOTLYENV=window.PLOTLYENV || {};                                    if (document.getElementById(\"dd55dcf6-7fb0-411c-97ae-59f88a16c273\")) {                    Plotly.newPlot(                        \"dd55dcf6-7fb0-411c-97ae-59f88a16c273\",                        [{\"alignmentgroup\": \"True\", \"hovertemplate\": \"\\u662f\\u5426\\u7d50\\u6848=Yes<br>\\u5927\\u65bc500\\u842c=No<br>\\u5340\\u57df=%{x}<br>\\u6848\\u4ef6\\u6578=%{y}<extra></extra>\", \"legendgroup\": \"Yes\", \"marker\": {\"color\": \"#636efa\"}, \"name\": \"Yes\", \"offsetgroup\": \"Yes\", \"orientation\": \"v\", \"showlegend\": true, \"textposition\": \"auto\", \"type\": \"bar\", \"x\": [\"\\u53f0\\u7063\", \"\\u53f0\\u7063\", \"\\u83ef\\u6771\", \"\\u53f0\\u7063\", \"\\u53f0\\u7063\", \"\\u53f0\\u7063\", \"\\u53f0\\u7063\", \"CFT\\u5927\\u9678\", \"\\u83ef\\u6771\", \"\\u53f0\\u7063\", \"\\u83ef\\u6771\", \"\\u53f0\\u7063\", \"\\u53f0\\u7063\", \"\\u53f0\\u7063\", \"\\u53f0\\u7063\", \"\\u83ef\\u6771\", \"\\u83ef\\u5357\", \"\\u53f0\\u7063\", \"\\u53f0\\u7063\", \"BU2\", \"\\u83ef\\u5357\", \"\\u6d77\\u5916\", \"\\u53f0\\u7063\", \"\\u53f0\\u7063\", \"\\u53f0\\u7063\", \"\\u53f0\\u7063\", \"\\u83ef\\u6771\", \"\\u83ef\\u5357\", \"\\u6d77\\u5916\", \"CFT\\u5927\\u9678\", \"\\u83ef\\u6771\", \"\\u53f0\\u7063\", \"\\u53f0\\u7063\", \"CFT\\u53f0\\u7063\", \"\\u53f0\\u7063\", \"\\u83ef\\u6771\", \"\\u83ef\\u5357\", \"\\u53f0\\u7063\", \"\\u53f0\\u7063\", \"\\u83ef\\u6771\", \"\\u83ef\\u6771\", \"\\u83ef\\u6771\", \"\\u83ef\\u6771\", \"\\u53f0\\u7063\", \"\\u83ef\\u6771\", \"\\u83ef\\u6771\", \"\\u53f0\\u7063\", \"\\u83ef\\u6771\", \"\\u53f0\\u7063\", \"\\u83ef\\u6771\", \"\\u53f0\\u7063\", \"\\u53f0\\u7063\", \"\\u6d77\\u5916\", \"\\u53f0\\u7063\", \"\\u53f0\\u7063\", \"\\u53f0\\u7063\", \"\\u53f0\\u7063\", \"\\u83ef\\u6771\", \"CFT\\u53f0\\u7063\", \"\\u83ef\\u6771\", \"\\u53f0\\u7063\", \"\\u53f0\\u7063\", \"CFT\\u5927\\u9678\", \"CFT\\u5927\\u9678\", \"\\u53f0\\u7063\", \"\\u83ef\\u6771\", \"\\u6d77\\u5916\", \"\\u53f0\\u7063\", \"\\u53f0\\u7063\", \"\\u83ef\\u6771\", \"\\u83ef\\u6771\", \"CFT\\u5927\\u9678\", \"\\u53f0\\u7063\", \"\\u53f0\\u7063\", \"CFT\\u5927\\u9678\", \"\\u83ef\\u6771\", \"\\u83ef\\u5357\", \"\\u53f0\\u7063\", \"\\u83ef\\u6771\", \"\\u6d77\\u5916\", \"\\u83ef\\u6771\", \"\\u6d77\\u5916\", \"\\u53f0\\u7063\", \"\\u53f0\\u7063\", \"\\u83ef\\u6771\", \"\\u6d77\\u5916\", \"\\u53f0\\u7063\", \"\\u53f0\\u7063\", \"\\u53f0\\u7063\", \"\\u83ef\\u6771\", \"\\u53f0\\u7063\", \"\\u53f0\\u7063\", \"\\u53f0\\u7063\", \"CFT\\u53f0\\u7063\", \"\\u83ef\\u6771\", \"\\u83ef\\u6771\", \"\\u83ef\\u6771\", \"\\u83ef\\u6771\", \"\\u53f0\\u7063\", \"\\u53f0\\u7063\", \"\\u6d77\\u5916\", \"\\u53f0\\u7063\", \"\\u83ef\\u6771\", \"\\u53f0\\u7063\", \"\\u53f0\\u7063\", \"\\u83ef\\u6771\", \"\\u83ef\\u5357\", \"BU2\", \"\\u53f0\\u7063\", \"\\u83ef\\u6771\", \"\\u53f0\\u7063\", \"\\u83ef\\u5357\", \"\\u53f0\\u7063\", \"\\u83ef\\u6771\", \"\\u83ef\\u5357\", \"CFT\\u5927\\u9678\", \"CFT\\u5927\\u9678\", \"\\u53f0\\u7063\", \"\\u6d77\\u5916\", \"\\u53f0\\u7063\", \"\\u83ef\\u5357\"], \"xaxis\": \"x\", \"y\": [1, 1, 1, 1, 1, 1, 1, 1, 1, 1, 1, 1, 1, 1, 1, 1, 1, 1, 1, 1, 1, 1, 1, 1, 1, 1, 1, 1, 1, 1, 1, 1, 1, 1, 1, 1, 1, 1, 1, 1, 1, 1, 1, 1, 1, 1, 1, 1, 1, 1, 1, 1, 1, 1, 1, 1, 1, 1, 1, 1, 1, 1, 1, 1, 1, 1, 1, 1, 1, 1, 1, 1, 1, 1, 1, 1, 1, 1, 1, 1, 1, 1, 1, 1, 1, 1, 1, 1, 1, 1, 1, 1, 1, 1, 1, 1, 1, 1, 1, 1, 1, 1, 1, 1, 1, 1, 1, 1, 1, 1, 1, 1, 1, 1, 1, 1, 1, 1, 1, 1, 1], \"yaxis\": \"y\"}, {\"alignmentgroup\": \"True\", \"hovertemplate\": \"\\u662f\\u5426\\u7d50\\u6848=Yes<br>\\u5927\\u65bc500\\u842c=Yes<br>\\u5340\\u57df=%{x}<br>\\u6848\\u4ef6\\u6578=%{y}<extra></extra>\", \"legendgroup\": \"Yes\", \"marker\": {\"color\": \"#636efa\"}, \"name\": \"Yes\", \"offsetgroup\": \"Yes\", \"orientation\": \"v\", \"showlegend\": false, \"textposition\": \"auto\", \"type\": \"bar\", \"x\": [\"\\u53f0\\u7063\", \"\\u6d77\\u5916\", \"\\u53f0\\u7063\", \"\\u53f0\\u7063\", \"\\u83ef\\u6771\", \"\\u83ef\\u6771\", \"\\u83ef\\u6771\", \"\\u53f0\\u7063\", \"\\u83ef\\u6771\", \"\\u83ef\\u6771\", \"\\u53f0\\u7063\", \"\\u53f0\\u7063\", \"\\u83ef\\u6771\", \"\\u83ef\\u6771\", \"\\u53f0\\u7063\", \"\\u53f0\\u7063\", \"\\u53f0\\u7063\", \"\\u53f0\\u7063\", \"\\u83ef\\u6771\", \"\\u83ef\\u6771\", \"\\u53f0\\u7063\", \"\\u83ef\\u6771\", \"\\u83ef\\u6771\", \"\\u83ef\\u6771\", \"CFT\\u53f0\\u7063\", \"\\u53f0\\u7063\", \"CFT\\u5927\\u9678\", \"\\u53f0\\u7063\", \"\\u53f0\\u7063\", \"\\u53f0\\u7063\", \"\\u83ef\\u6771\", \"CFT\\u5927\\u9678\", \"CFT\\u53f0\\u7063\", \"\\u53f0\\u7063\", \"\\u53f0\\u7063\"], \"xaxis\": \"x2\", \"y\": [1, 1, 1, 1, 1, 1, 1, 1, 1, 1, 1, 1, 1, 1, 1, 1, 1, 1, 1, 1, 1, 1, 1, 1, 1, 1, 1, 1, 1, 1, 1, 1, 1, 1, 1], \"yaxis\": \"y2\"}, {\"alignmentgroup\": \"True\", \"hovertemplate\": \"\\u662f\\u5426\\u7d50\\u6848=Trace<br>\\u5927\\u65bc500\\u842c=No<br>\\u5340\\u57df=%{x}<br>\\u6848\\u4ef6\\u6578=%{y}<extra></extra>\", \"legendgroup\": \"Trace\", \"marker\": {\"color\": \"#EF553B\"}, \"name\": \"Trace\", \"offsetgroup\": \"Trace\", \"orientation\": \"v\", \"showlegend\": true, \"textposition\": \"auto\", \"type\": \"bar\", \"x\": [\"\\u83ef\\u6771\", \"\\u53f0\\u7063\", \"\\u6d77\\u5916\", \"\\u53f0\\u7063\", \"\\u83ef\\u6771\", \"\\u6d77\\u5916\", \"\\u6d77\\u5916\", \"\\u83ef\\u5357\", \"\\u83ef\\u6771\", \"\\u6d77\\u5916\", \"CFT\\u5927\\u9678\", \"\\u83ef\\u5357\", \"\\u83ef\\u6771\", \"\\u53f0\\u7063\", \"\\u6d77\\u5916\", \"\\u83ef\\u6771\", \"\\u53f0\\u7063\", \"\\u53f0\\u7063\", \"CFT\\u5927\\u9678\", \"\\u53f0\\u7063\", \"\\u83ef\\u5357\", \"\\u83ef\\u5357\", \"\\u83ef\\u6771\", \"\\u83ef\\u5357\", \"CFT\\u5927\\u9678\", \"\\u83ef\\u5357\", \"CFT\\u5927\\u9678\", \"\\u83ef\\u6771\", \"\\u83ef\\u6771\", \"\\u83ef\\u5357\", \"\\u6d77\\u5916\", \"\\u6d77\\u5916\", \"CFT\\u5927\\u9678\", \"CFT\\u5927\\u9678\", \"\\u83ef\\u5357\", \"\\u6d77\\u5916\", \"CFT\\u5927\\u9678\", \"\\u83ef\\u5357\", \"\\u53f0\\u7063\", \"\\u6d77\\u5916\", \"\\u83ef\\u6771\", \"\\u6d77\\u5916\", \"CFT\\u5927\\u9678\", \"CFT\\u5927\\u9678\", \"\\u83ef\\u6771\", \"\\u83ef\\u6771\", \"\\u83ef\\u5357\", \"\\u83ef\\u6771\", \"\\u6d77\\u5916\", \"\\u83ef\\u5357\", \"\\u53f0\\u7063\", \"\\u83ef\\u5357\", \"\\u83ef\\u5357\", \"CFT\\u5927\\u9678\", \"\\u83ef\\u6771\", \"CFT\\u5927\\u9678\", \"\\u53f0\\u7063\", \"\\u6d77\\u5916\", \"CFT\\u5927\\u9678\", \"\\u83ef\\u6771\", \"\\u83ef\\u6771\", \"\\u53f0\\u7063\", \"\\u53f0\\u7063\", \"\\u83ef\\u6771\", \"\\u6d77\\u5916\", \"\\u53f0\\u7063\", \"\\u83ef\\u6771\", \"\\u83ef\\u6771\", \"\\u53f0\\u7063\", \"\\u83ef\\u6771\", \"\\u53f0\\u7063\", \"\\u53f0\\u7063\", \"\\u6d77\\u5916\", \"\\u53f0\\u7063\", \"CFT\\u5927\\u9678\", \"\\u83ef\\u6771\", \"\\u6d77\\u5916\", \"\\u83ef\\u6771\", \"\\u53f0\\u7063\", \"\\u83ef\\u6771\", \"\\u6d77\\u5916\", \"\\u6d77\\u5916\", \"CFT\\u5927\\u9678\", \"\\u53f0\\u7063\", \"\\u53f0\\u7063\", \"\\u6d77\\u5916\", \"\\u83ef\\u5357\", \"\\u53f0\\u7063\", \"\\u83ef\\u5357\", \"\\u53f0\\u7063\", \"BU2\", \"\\u83ef\\u6771\", \"\\u6d77\\u5916\", \"\\u83ef\\u6771\", \"\\u53f0\\u7063\", \"\\u83ef\\u6771\", \"\\u53f0\\u7063\", \"\\u53f0\\u7063\", \"\\u6d77\\u5916\", \"\\u83ef\\u6771\", \"\\u53f0\\u7063\", \"\\u53f0\\u7063\", \"\\u53f0\\u7063\", \"\\u53f0\\u7063\", \"\\u53f0\\u7063\", \"\\u53f0\\u7063\", \"\\u83ef\\u6771\", \"\\u53f0\\u7063\", \"\\u53f0\\u7063\", \"\\u53f0\\u7063\", \"\\u53f0\\u7063\", \"\\u53f0\\u7063\", \"\\u83ef\\u6771\", \"\\u53f0\\u7063\", \"\\u6d77\\u5916\", \"\\u6d77\\u5916\", \"\\u6d77\\u5916\", \"CFT\\u5927\\u9678\", \"\\u53f0\\u7063\", \"\\u53f0\\u7063\", \"\\u53f0\\u7063\", \"\\u53f0\\u7063\", \"\\u53f0\\u7063\"], \"xaxis\": \"x\", \"y\": [1, 1, 1, 1, 1, 1, 1, 1, 1, 1, 1, 1, 1, 1, 1, 1, 1, 1, 1, 1, 1, 1, 1, 1, 1, 1, 1, 1, 1, 1, 1, 1, 1, 1, 1, 1, 1, 1, 1, 1, 1, 1, 1, 1, 1, 1, 1, 1, 1, 1, 1, 1, 1, 1, 1, 1, 1, 1, 1, 1, 1, 1, 1, 1, 1, 1, 1, 1, 1, 1, 1, 1, 1, 1, 1, 1, 1, 1, 1, 1, 1, 1, 1, 1, 1, 1, 1, 1, 1, 1, 1, 1, 1, 1, 1, 1, 1, 1, 1, 1, 1, 1, 1, 1, 1, 1, 1, 1, 1, 1, 1, 1, 1, 1, 1, 1, 1, 1, 1, 1, 1, 1, 1], \"yaxis\": \"y\"}, {\"alignmentgroup\": \"True\", \"hovertemplate\": \"\\u662f\\u5426\\u7d50\\u6848=Trace<br>\\u5927\\u65bc500\\u842c=Yes<br>\\u5340\\u57df=%{x}<br>\\u6848\\u4ef6\\u6578=%{y}<extra></extra>\", \"legendgroup\": \"Trace\", \"marker\": {\"color\": \"#EF553B\"}, \"name\": \"Trace\", \"offsetgroup\": \"Trace\", \"orientation\": \"v\", \"showlegend\": false, \"textposition\": \"auto\", \"type\": \"bar\", \"x\": [\"\\u83ef\\u6771\", \"\\u53f0\\u7063\", \"\\u53f0\\u7063\", \"\\u6d77\\u5916\", \"\\u6d77\\u5916\", \"\\u6d77\\u5916\", \"\\u53f0\\u7063\", \"\\u53f0\\u7063\", \"\\u6d77\\u5916\", \"\\u83ef\\u6771\", \"\\u53f0\\u7063\", \"\\u83ef\\u6771\", \"\\u53f0\\u7063\", \"\\u53f0\\u7063\", \"\\u83ef\\u6771\", \"\\u53f0\\u7063\", \"\\u83ef\\u6771\", \"\\u53f0\\u7063\", \"\\u6d77\\u5916\", \"\\u53f0\\u7063\", \"\\u6d77\\u5916\", \"\\u53f0\\u7063\", \"\\u83ef\\u6771\", \"\\u53f0\\u7063\", \"\\u53f0\\u7063\", \"\\u83ef\\u5357\", \"\\u53f0\\u7063\", \"\\u83ef\\u6771\"], \"xaxis\": \"x2\", \"y\": [1, 1, 1, 1, 1, 1, 1, 1, 1, 1, 1, 1, 1, 1, 1, 1, 1, 1, 1, 1, 1, 1, 1, 1, 1, 1, 1, 1], \"yaxis\": \"y2\"}, {\"alignmentgroup\": \"True\", \"hovertemplate\": \"\\u662f\\u5426\\u7d50\\u6848=No<br>\\u5927\\u65bc500\\u842c=No<br>\\u5340\\u57df=%{x}<br>\\u6848\\u4ef6\\u6578=%{y}<extra></extra>\", \"legendgroup\": \"No\", \"marker\": {\"color\": \"#00cc96\"}, \"name\": \"No\", \"offsetgroup\": \"No\", \"orientation\": \"v\", \"showlegend\": true, \"textposition\": \"auto\", \"type\": \"bar\", \"x\": [\"\\u53f0\\u7063\", \"\\u83ef\\u6771\", \"\\u83ef\\u5357\", \"CFT\\u5927\\u9678\", \"\\u53f0\\u7063\", \"CFT\\u53f0\\u7063\", \"\\u83ef\\u6771\", \"\\u53f0\\u7063\", \"\\u83ef\\u6771\", \"\\u53f0\\u7063\", \"\\u83ef\\u6771\", \"\\u83ef\\u5357\", \"\\u83ef\\u6771\", \"\\u83ef\\u6771\", \"\\u83ef\\u6771\", \"CFT\\u5927\\u9678\", \"CFT\\u5927\\u9678\", \"CFT\\u5927\\u9678\", \"\\u83ef\\u6771\", \"\\u83ef\\u5357\", \"\\u83ef\\u6771\", \"\\u6d77\\u5916\", \"\\u53f0\\u7063\", \"\\u83ef\\u6771\", \"\\u53f0\\u7063\", \"\\u6d77\\u5916\", \"\\u83ef\\u5357\", \"\\u53f0\\u7063\", \"\\u53f0\\u7063\", \"\\u53f0\\u7063\", \"\\u83ef\\u6771\", \"\\u83ef\\u6771\", \"\\u83ef\\u6771\", \"\\u83ef\\u6771\", \"\\u83ef\\u6771\", \"\\u83ef\\u6771\", \"\\u53f0\\u7063\", \"\\u83ef\\u6771\", \"\\u83ef\\u5357\", \"\\u53f0\\u7063\", \"\\u53f0\\u7063\", \"\\u83ef\\u6771\", \"\\u53f0\\u7063\", \"\\u83ef\\u6771\", \"\\u83ef\\u6771\", \"\\u83ef\\u6771\", \"\\u83ef\\u5357\", \"\\u83ef\\u5357\", \"\\u53f0\\u7063\", \"\\u6d77\\u5916\", \"CFT\\u5927\\u9678\", \"\\u83ef\\u5357\", \"\\u83ef\\u5357\", \"\\u83ef\\u6771\", \"\\u53f0\\u7063\", \"\\u53f0\\u7063\", \"BU2\", \"\\u53f0\\u7063\", \"\\u53f0\\u7063\", \"\\u53f0\\u7063\", \"\\u83ef\\u6771\", \"\\u83ef\\u6771\", \"\\u53f0\\u7063\", \"\\u83ef\\u5357\", \"\\u83ef\\u6771\", \"\\u83ef\\u5357\", \"CFT\\u5927\\u9678\", \"\\u83ef\\u6771\", \"\\u53f0\\u7063\", \"\\u53f0\\u7063\", \"\\u53f0\\u7063\", \"\\u83ef\\u6771\", \"\\u53f0\\u7063\", \"\\u83ef\\u5357\", \"\\u6d77\\u5916\", \"CFT\\u5927\\u9678\", \"\\u83ef\\u5357\", \"CFT\\u5927\\u9678\", \"\\u83ef\\u5357\", \"\\u83ef\\u6771\"], \"xaxis\": \"x\", \"y\": [1, 1, 1, 1, 1, 1, 1, 1, 1, 1, 1, 1, 1, 1, 1, 1, 1, 1, 1, 1, 1, 1, 1, 1, 1, 1, 1, 1, 1, 1, 1, 1, 1, 1, 1, 1, 1, 1, 1, 1, 1, 1, 1, 1, 1, 1, 1, 1, 1, 1, 1, 1, 1, 1, 1, 1, 1, 1, 1, 1, 1, 1, 1, 1, 1, 1, 1, 1, 1, 1, 1, 1, 1, 1, 1, 1, 1, 1, 1, 1], \"yaxis\": \"y\"}, {\"alignmentgroup\": \"True\", \"hovertemplate\": \"\\u662f\\u5426\\u7d50\\u6848=No<br>\\u5927\\u65bc500\\u842c=Yes<br>\\u5340\\u57df=%{x}<br>\\u6848\\u4ef6\\u6578=%{y}<extra></extra>\", \"legendgroup\": \"No\", \"marker\": {\"color\": \"#00cc96\"}, \"name\": \"No\", \"offsetgroup\": \"No\", \"orientation\": \"v\", \"showlegend\": false, \"textposition\": \"auto\", \"type\": \"bar\", \"x\": [\"\\u83ef\\u6771\", \"\\u83ef\\u6771\", \"\\u83ef\\u6771\", \"\\u83ef\\u6771\", \"\\u83ef\\u6771\", \"\\u53f0\\u7063\", \"\\u83ef\\u5357\", \"CFT\\u5927\\u9678\", \"\\u83ef\\u5357\", \"\\u83ef\\u6771\", \"\\u83ef\\u5357\", \"\\u83ef\\u6771\"], \"xaxis\": \"x2\", \"y\": [1, 1, 1, 1, 1, 1, 1, 1, 1, 1, 1, 1], \"yaxis\": \"y2\"}, {\"alignmentgroup\": \"True\", \"hovertemplate\": \"\\u662f\\u5426\\u7d50\\u6848=N/A<br>\\u5927\\u65bc500\\u842c=No<br>\\u5340\\u57df=%{x}<br>\\u6848\\u4ef6\\u6578=%{y}<extra></extra>\", \"legendgroup\": \"N/A\", \"marker\": {\"color\": \"#ab63fa\"}, \"name\": \"N/A\", \"offsetgroup\": \"N/A\", \"orientation\": \"v\", \"showlegend\": true, \"textposition\": \"auto\", \"type\": \"bar\", \"x\": [\"CFT\\u53f0\\u7063\", \"CFT\\u53f0\\u7063\", \"CFT\\u53f0\\u7063\", \"CFT\\u53f0\\u7063\", \"CFT\\u53f0\\u7063\", \"CFT\\u53f0\\u7063\", \"CFT\\u53f0\\u7063\", \"CFT\\u53f0\\u7063\", \"CFT\\u53f0\\u7063\", \"CFT\\u53f0\\u7063\", \"CFT\\u53f0\\u7063\", \"CFT\\u53f0\\u7063\", \"CFT\\u53f0\\u7063\"], \"xaxis\": \"x\", \"y\": [1, 1, 1, 1, 1, 1, 1, 1, 1, 1, 1, 1, 1], \"yaxis\": \"y\"}],                        {\"annotations\": [{\"font\": {}, \"showarrow\": false, \"text\": \"\\u5927\\u65bc500\\u842c=No\", \"x\": 0.245, \"xanchor\": \"center\", \"xref\": \"paper\", \"y\": 1.0, \"yanchor\": \"bottom\", \"yref\": \"paper\"}, {\"font\": {}, \"showarrow\": false, \"text\": \"\\u5927\\u65bc500\\u842c=Yes\", \"x\": 0.755, \"xanchor\": \"center\", \"xref\": \"paper\", \"y\": 1.0, \"yanchor\": \"bottom\", \"yref\": \"paper\"}], \"barmode\": \"relative\", \"legend\": {\"title\": {\"text\": \"\\u662f\\u5426\\u7d50\\u6848\"}, \"tracegroupgap\": 0}, \"template\": {\"data\": {\"bar\": [{\"error_x\": {\"color\": \"#2a3f5f\"}, \"error_y\": {\"color\": \"#2a3f5f\"}, \"marker\": {\"line\": {\"color\": \"#E5ECF6\", \"width\": 0.5}}, \"type\": \"bar\"}], \"barpolar\": [{\"marker\": {\"line\": {\"color\": \"#E5ECF6\", \"width\": 0.5}}, \"type\": \"barpolar\"}], \"carpet\": [{\"aaxis\": {\"endlinecolor\": \"#2a3f5f\", \"gridcolor\": \"white\", \"linecolor\": \"white\", \"minorgridcolor\": \"white\", \"startlinecolor\": \"#2a3f5f\"}, \"baxis\": {\"endlinecolor\": \"#2a3f5f\", \"gridcolor\": \"white\", \"linecolor\": \"white\", \"minorgridcolor\": \"white\", \"startlinecolor\": \"#2a3f5f\"}, \"type\": \"carpet\"}], \"choropleth\": [{\"colorbar\": {\"outlinewidth\": 0, \"ticks\": \"\"}, \"type\": \"choropleth\"}], \"contour\": [{\"colorbar\": {\"outlinewidth\": 0, \"ticks\": \"\"}, \"colorscale\": [[0.0, \"#0d0887\"], [0.1111111111111111, \"#46039f\"], [0.2222222222222222, \"#7201a8\"], [0.3333333333333333, \"#9c179e\"], [0.4444444444444444, \"#bd3786\"], [0.5555555555555556, \"#d8576b\"], [0.6666666666666666, \"#ed7953\"], [0.7777777777777778, \"#fb9f3a\"], [0.8888888888888888, \"#fdca26\"], [1.0, \"#f0f921\"]], \"type\": \"contour\"}], \"contourcarpet\": [{\"colorbar\": {\"outlinewidth\": 0, \"ticks\": \"\"}, \"type\": \"contourcarpet\"}], \"heatmap\": [{\"colorbar\": {\"outlinewidth\": 0, \"ticks\": \"\"}, \"colorscale\": [[0.0, \"#0d0887\"], [0.1111111111111111, \"#46039f\"], [0.2222222222222222, \"#7201a8\"], [0.3333333333333333, \"#9c179e\"], [0.4444444444444444, \"#bd3786\"], [0.5555555555555556, \"#d8576b\"], [0.6666666666666666, \"#ed7953\"], [0.7777777777777778, \"#fb9f3a\"], [0.8888888888888888, \"#fdca26\"], [1.0, \"#f0f921\"]], \"type\": \"heatmap\"}], \"heatmapgl\": [{\"colorbar\": {\"outlinewidth\": 0, \"ticks\": \"\"}, \"colorscale\": [[0.0, \"#0d0887\"], [0.1111111111111111, \"#46039f\"], [0.2222222222222222, \"#7201a8\"], [0.3333333333333333, \"#9c179e\"], [0.4444444444444444, \"#bd3786\"], [0.5555555555555556, \"#d8576b\"], [0.6666666666666666, \"#ed7953\"], [0.7777777777777778, \"#fb9f3a\"], [0.8888888888888888, \"#fdca26\"], [1.0, \"#f0f921\"]], \"type\": \"heatmapgl\"}], \"histogram\": [{\"marker\": {\"colorbar\": {\"outlinewidth\": 0, \"ticks\": \"\"}}, \"type\": \"histogram\"}], \"histogram2d\": [{\"colorbar\": {\"outlinewidth\": 0, \"ticks\": \"\"}, \"colorscale\": [[0.0, \"#0d0887\"], [0.1111111111111111, \"#46039f\"], [0.2222222222222222, \"#7201a8\"], [0.3333333333333333, \"#9c179e\"], [0.4444444444444444, \"#bd3786\"], [0.5555555555555556, \"#d8576b\"], [0.6666666666666666, \"#ed7953\"], [0.7777777777777778, \"#fb9f3a\"], [0.8888888888888888, \"#fdca26\"], [1.0, \"#f0f921\"]], \"type\": \"histogram2d\"}], \"histogram2dcontour\": [{\"colorbar\": {\"outlinewidth\": 0, \"ticks\": \"\"}, \"colorscale\": [[0.0, \"#0d0887\"], [0.1111111111111111, \"#46039f\"], [0.2222222222222222, \"#7201a8\"], [0.3333333333333333, \"#9c179e\"], [0.4444444444444444, \"#bd3786\"], [0.5555555555555556, \"#d8576b\"], [0.6666666666666666, \"#ed7953\"], [0.7777777777777778, \"#fb9f3a\"], [0.8888888888888888, \"#fdca26\"], [1.0, \"#f0f921\"]], \"type\": \"histogram2dcontour\"}], \"mesh3d\": [{\"colorbar\": {\"outlinewidth\": 0, \"ticks\": \"\"}, \"type\": \"mesh3d\"}], \"parcoords\": [{\"line\": {\"colorbar\": {\"outlinewidth\": 0, \"ticks\": \"\"}}, \"type\": \"parcoords\"}], \"pie\": [{\"automargin\": true, \"type\": \"pie\"}], \"scatter\": [{\"marker\": {\"colorbar\": {\"outlinewidth\": 0, \"ticks\": \"\"}}, \"type\": \"scatter\"}], \"scatter3d\": [{\"line\": {\"colorbar\": {\"outlinewidth\": 0, \"ticks\": \"\"}}, \"marker\": {\"colorbar\": {\"outlinewidth\": 0, \"ticks\": \"\"}}, \"type\": \"scatter3d\"}], \"scattercarpet\": [{\"marker\": {\"colorbar\": {\"outlinewidth\": 0, \"ticks\": \"\"}}, \"type\": \"scattercarpet\"}], \"scattergeo\": [{\"marker\": {\"colorbar\": {\"outlinewidth\": 0, \"ticks\": \"\"}}, \"type\": \"scattergeo\"}], \"scattergl\": [{\"marker\": {\"colorbar\": {\"outlinewidth\": 0, \"ticks\": \"\"}}, \"type\": \"scattergl\"}], \"scattermapbox\": [{\"marker\": {\"colorbar\": {\"outlinewidth\": 0, \"ticks\": \"\"}}, \"type\": \"scattermapbox\"}], \"scatterpolar\": [{\"marker\": {\"colorbar\": {\"outlinewidth\": 0, \"ticks\": \"\"}}, \"type\": \"scatterpolar\"}], \"scatterpolargl\": [{\"marker\": {\"colorbar\": {\"outlinewidth\": 0, \"ticks\": \"\"}}, \"type\": \"scatterpolargl\"}], \"scatterternary\": [{\"marker\": {\"colorbar\": {\"outlinewidth\": 0, \"ticks\": \"\"}}, \"type\": \"scatterternary\"}], \"surface\": [{\"colorbar\": {\"outlinewidth\": 0, \"ticks\": \"\"}, \"colorscale\": [[0.0, \"#0d0887\"], [0.1111111111111111, \"#46039f\"], [0.2222222222222222, \"#7201a8\"], [0.3333333333333333, \"#9c179e\"], [0.4444444444444444, \"#bd3786\"], [0.5555555555555556, \"#d8576b\"], [0.6666666666666666, \"#ed7953\"], [0.7777777777777778, \"#fb9f3a\"], [0.8888888888888888, \"#fdca26\"], [1.0, \"#f0f921\"]], \"type\": \"surface\"}], \"table\": [{\"cells\": {\"fill\": {\"color\": \"#EBF0F8\"}, \"line\": {\"color\": \"white\"}}, \"header\": {\"fill\": {\"color\": \"#C8D4E3\"}, \"line\": {\"color\": \"white\"}}, \"type\": \"table\"}]}, \"layout\": {\"annotationdefaults\": {\"arrowcolor\": \"#2a3f5f\", \"arrowhead\": 0, \"arrowwidth\": 1}, \"coloraxis\": {\"colorbar\": {\"outlinewidth\": 0, \"ticks\": \"\"}}, \"colorscale\": {\"diverging\": [[0, \"#8e0152\"], [0.1, \"#c51b7d\"], [0.2, \"#de77ae\"], [0.3, \"#f1b6da\"], [0.4, \"#fde0ef\"], [0.5, \"#f7f7f7\"], [0.6, \"#e6f5d0\"], [0.7, \"#b8e186\"], [0.8, \"#7fbc41\"], [0.9, \"#4d9221\"], [1, \"#276419\"]], \"sequential\": [[0.0, \"#0d0887\"], [0.1111111111111111, \"#46039f\"], [0.2222222222222222, \"#7201a8\"], [0.3333333333333333, \"#9c179e\"], [0.4444444444444444, \"#bd3786\"], [0.5555555555555556, \"#d8576b\"], [0.6666666666666666, \"#ed7953\"], [0.7777777777777778, \"#fb9f3a\"], [0.8888888888888888, \"#fdca26\"], [1.0, \"#f0f921\"]], \"sequentialminus\": [[0.0, \"#0d0887\"], [0.1111111111111111, \"#46039f\"], [0.2222222222222222, \"#7201a8\"], [0.3333333333333333, \"#9c179e\"], [0.4444444444444444, \"#bd3786\"], [0.5555555555555556, \"#d8576b\"], [0.6666666666666666, \"#ed7953\"], [0.7777777777777778, \"#fb9f3a\"], [0.8888888888888888, \"#fdca26\"], [1.0, \"#f0f921\"]]}, \"colorway\": [\"#636efa\", \"#EF553B\", \"#00cc96\", \"#ab63fa\", \"#FFA15A\", \"#19d3f3\", \"#FF6692\", \"#B6E880\", \"#FF97FF\", \"#FECB52\"], \"font\": {\"color\": \"#2a3f5f\"}, \"geo\": {\"bgcolor\": \"white\", \"lakecolor\": \"white\", \"landcolor\": \"#E5ECF6\", \"showlakes\": true, \"showland\": true, \"subunitcolor\": \"white\"}, \"hoverlabel\": {\"align\": \"left\"}, \"hovermode\": \"closest\", \"mapbox\": {\"style\": \"light\"}, \"paper_bgcolor\": \"white\", \"plot_bgcolor\": \"#E5ECF6\", \"polar\": {\"angularaxis\": {\"gridcolor\": \"white\", \"linecolor\": \"white\", \"ticks\": \"\"}, \"bgcolor\": \"#E5ECF6\", \"radialaxis\": {\"gridcolor\": \"white\", \"linecolor\": \"white\", \"ticks\": \"\"}}, \"scene\": {\"xaxis\": {\"backgroundcolor\": \"#E5ECF6\", \"gridcolor\": \"white\", \"gridwidth\": 2, \"linecolor\": \"white\", \"showbackground\": true, \"ticks\": \"\", \"zerolinecolor\": \"white\"}, \"yaxis\": {\"backgroundcolor\": \"#E5ECF6\", \"gridcolor\": \"white\", \"gridwidth\": 2, \"linecolor\": \"white\", \"showbackground\": true, \"ticks\": \"\", \"zerolinecolor\": \"white\"}, \"zaxis\": {\"backgroundcolor\": \"#E5ECF6\", \"gridcolor\": \"white\", \"gridwidth\": 2, \"linecolor\": \"white\", \"showbackground\": true, \"ticks\": \"\", \"zerolinecolor\": \"white\"}}, \"shapedefaults\": {\"line\": {\"color\": \"#2a3f5f\"}}, \"ternary\": {\"aaxis\": {\"gridcolor\": \"white\", \"linecolor\": \"white\", \"ticks\": \"\"}, \"baxis\": {\"gridcolor\": \"white\", \"linecolor\": \"white\", \"ticks\": \"\"}, \"bgcolor\": \"#E5ECF6\", \"caxis\": {\"gridcolor\": \"white\", \"linecolor\": \"white\", \"ticks\": \"\"}}, \"title\": {\"x\": 0.05}, \"xaxis\": {\"automargin\": true, \"gridcolor\": \"white\", \"linecolor\": \"white\", \"ticks\": \"\", \"title\": {\"standoff\": 15}, \"zerolinecolor\": \"white\", \"zerolinewidth\": 2}, \"yaxis\": {\"automargin\": true, \"gridcolor\": \"white\", \"linecolor\": \"white\", \"ticks\": \"\", \"title\": {\"standoff\": 15}, \"zerolinecolor\": \"white\", \"zerolinewidth\": 2}}}, \"title\": {\"text\": \"\\u5404\\u5340\\u57df\\u5831\\u50f9/\\u7d50\\u6848\\u72c0\\u614b\"}, \"xaxis\": {\"anchor\": \"y\", \"categoryorder\": \"total descending\", \"domain\": [0.0, 0.49], \"title\": {\"text\": \"\\u5340\\u57df\"}}, \"xaxis2\": {\"anchor\": \"y2\", \"categoryorder\": \"total descending\", \"domain\": [0.51, 1.0], \"matches\": \"x\", \"title\": {\"text\": \"\\u5340\\u57df\"}}, \"yaxis\": {\"anchor\": \"x\", \"domain\": [0.0, 1.0], \"title\": {\"text\": \"\\u6848\\u4ef6\\u6578\"}}, \"yaxis2\": {\"anchor\": \"x2\", \"domain\": [0.0, 1.0], \"matches\": \"y\", \"showticklabels\": false}},                        {\"responsive\": true}                    ).then(function(){\n",
       "                            \n",
       "var gd = document.getElementById('dd55dcf6-7fb0-411c-97ae-59f88a16c273');\n",
       "var x = new MutationObserver(function (mutations, observer) {{\n",
       "        var display = window.getComputedStyle(gd).display;\n",
       "        if (!display || display === 'none') {{\n",
       "            console.log([gd, 'removed!']);\n",
       "            Plotly.purge(gd);\n",
       "            observer.disconnect();\n",
       "        }}\n",
       "}});\n",
       "\n",
       "// Listen for the removal of the full notebook cells\n",
       "var notebookContainer = gd.closest('#notebook-container');\n",
       "if (notebookContainer) {{\n",
       "    x.observe(notebookContainer, {childList: true});\n",
       "}}\n",
       "\n",
       "// Listen for the clearing of the current output cell\n",
       "var outputEl = gd.closest('.output');\n",
       "if (outputEl) {{\n",
       "    x.observe(outputEl, {childList: true});\n",
       "}}\n",
       "\n",
       "                        })                };                });            </script>        </div>"
      ]
     },
     "metadata": {},
     "output_type": "display_data"
    }
   ],
   "source": [
    "plot"
   ]
  },
  {
   "cell_type": "code",
   "execution_count": 62,
   "metadata": {},
   "outputs": [],
   "source": [
    "with open('區域統整圖.html', 'a') as f:\n",
    "    f.write(plot.to_html(full_html=False, include_plotlyjs='cdn'))\n",
    "    f.close()"
   ]
  },
  {
   "cell_type": "code",
   "execution_count": null,
   "metadata": {},
   "outputs": [],
   "source": []
  }
 ],
 "metadata": {
  "kernelspec": {
   "display_name": "Python 3",
   "language": "python",
   "name": "python3"
  },
  "language_info": {
   "codemirror_mode": {
    "name": "ipython",
    "version": 3
   },
   "file_extension": ".py",
   "mimetype": "text/x-python",
   "name": "python",
   "nbconvert_exporter": "python",
   "pygments_lexer": "ipython3",
   "version": "3.8.5"
  }
 },
 "nbformat": 4,
 "nbformat_minor": 4
}
