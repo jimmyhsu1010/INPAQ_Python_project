{
 "cells": [
  {
   "cell_type": "code",
   "execution_count": null,
   "metadata": {},
   "outputs": [],
   "source": [
    "import pandas as pd\n",
    "pd.set_option('display.max_rows', 10)\n",
    "pd.set_option('display.max_columns', None)\n",
    "pd.set_option('display.float_format', lambda x: '%.0f' % x)\n",
    "from plotly.offline import iplot, init_notebook_mode\n",
    "import plotly.express as px\n",
    "import plotly.figure_factory as ff\n",
    "import plotly.graph_objs as go\n",
    "import re\n"
   ]
  },
  {
   "cell_type": "markdown",
   "metadata": {},
   "source": [
    "## 數據前處理階段"
   ]
  },
  {
   "cell_type": "code",
   "execution_count": null,
   "metadata": {},
   "outputs": [],
   "source": [
    "sales = pd.read_excel('/Users/kai/Desktop/Weekly report_v0.1.xlsx', sheet_name='出貨明細', index_col='預交日期') # Mac使用\n",
    "# sales = pd.read_excel(r'C:\\Users\\kaihsu\\Desktop\\業績總表\\Weekly report_v0.1.xlsx', sheet_name='出貨明細')\n",
    "# budget = pd.read_excel('/Users/kai/Desktop/Weekly report_v0.1.xlsx', sheet_name='2020預算', usecols='A:F') # Mac使用\n",
    "# budget = pd.read_excel(r'C:\\Users\\kaihsu\\Desktop\\業績總表\\Weekly report_v0.1.xlsx', sheet_name='2020預算', usecols='A:F')"
   ]
  },
  {
   "cell_type": "code",
   "execution_count": null,
   "metadata": {},
   "outputs": [],
   "source": [
    "test = sales.groupby(['負責業務', 'BG', 'Group'])[['數量', '本國幣別NTD']].resample('Q').sum().reset_index() # resample可以用來按照週，月，季度來計算，後面做圖的時候時間序列才好使用"
   ]
  },
  {
   "cell_type": "code",
   "execution_count": null,
   "metadata": {},
   "outputs": [],
   "source": [
    "kai = test[test['負責業務'] == '許凱智']"
   ]
  },
  {
   "cell_type": "code",
   "execution_count": null,
   "metadata": {},
   "outputs": [],
   "source": [
    "# sales['Size'] = sales['產品分類'].str.extract('([0-9]+)\\w', expand=True)"
   ]
  },
  {
   "cell_type": "code",
   "execution_count": null,
   "metadata": {},
   "outputs": [],
   "source": [
    "sales = sales.query('預交年份 == (2019,2020)')"
   ]
  },
  {
   "cell_type": "code",
   "execution_count": null,
   "metadata": {
    "scrolled": true
   },
   "outputs": [],
   "source": [
    "sales['預交日期'] = sales['預交日期'].apply(lambda x:x.strftime('%Y-%m'))"
   ]
  },
  {
   "cell_type": "code",
   "execution_count": null,
   "metadata": {},
   "outputs": [],
   "source": [
    "df = sales.groupby(['Group','預交日期'])[['數量', '本國幣別NTD']].sum().reset_index()"
   ]
  },
  {
   "cell_type": "code",
   "execution_count": null,
   "metadata": {
    "scrolled": true
   },
   "outputs": [],
   "source": [
    "df"
   ]
  },
  {
   "cell_type": "code",
   "execution_count": null,
   "metadata": {},
   "outputs": [],
   "source": [
    "df[['數量', '本國幣別NTD']].describe()"
   ]
  },
  {
   "cell_type": "code",
   "execution_count": null,
   "metadata": {},
   "outputs": [],
   "source": [
    "df = df.query('Group == \"華新科技\"')\n",
    "fig_total = px.scatter(df, x='數量', y='本國幣別NTD',\n",
    "                       size='本國幣別NTD', text='Group',\n",
    "                       color='Group',\n",
    "                       animation_frame='預交日期',\n",
    "                       range_x=[-10, 30000000],\n",
    "                       range_y=[0, 3000000],\n",
    "                       color_discrete_sequence=px.colors.qualitative.D3,\n",
    "                       size_max=50,\n",
    "                       hover_name='Group'\n",
    "                       )\n",
    "fig_total.show()"
   ]
  },
  {
   "cell_type": "code",
   "execution_count": null,
   "metadata": {},
   "outputs": [],
   "source": [
    "sales['品名'].str.extract('(^\\D+[0-9]+)([A-Z]+)')"
   ]
  },
  {
   "cell_type": "code",
   "execution_count": null,
   "metadata": {},
   "outputs": [],
   "source": [
    "budget.insert(2, 'BU', value=budget.apply(lambda x: 'RF' if 'RF' in x['客戶名稱'] else 'Component', axis=1))"
   ]
  },
  {
   "cell_type": "code",
   "execution_count": null,
   "metadata": {},
   "outputs": [],
   "source": [
    "budget['客戶名稱'] = budget['客戶名稱'].str.replace(' RF', '')"
   ]
  },
  {
   "cell_type": "code",
   "execution_count": null,
   "metadata": {},
   "outputs": [],
   "source": [
    "client_dict = {'Bourns': 'Bourns', 'Eaton': 'Eaton', 'Laird': 'Laird', 'LF': 'LF', 'LF-OEM': 'LF ORM', 'WE': 'WE',\n",
    "               '信昌': '信昌', '東莞弘電': '東莞弘電', '藝感': '藝感', '華科': '華新科技',\n",
    "               'Mt System(Component)': 'MT-SYSTEM', 'Teltonika(Component)': 'TELTONIKA', 'Mt System(RF)': 'MT-SYSTEM',\n",
    "               'Teltonika(RF)': 'TELTONIKA', 'Te(RF)': 'TE', 'Credence(India)': 'Credence',\n",
    "               'Millenium(India)': 'Millenium', 'Nexty(India)': 'Nexty', 'OSE(India)': 'OSE', 'Others/One Time PO(India)': 'Others/One Time PO(India)'}\n",
    "budget['客戶名稱'] = budget['客戶名稱'].map(client_dict)"
   ]
  },
  {
   "cell_type": "code",
   "execution_count": null,
   "metadata": {
    "scrolled": true
   },
   "outputs": [],
   "source": [
    "sales = sales[~sales['狀態'].str.contains('待通知 | 合約')]"
   ]
  },
  {
   "cell_type": "markdown",
   "metadata": {},
   "source": [
    "## 隨便亂打區"
   ]
  },
  {
   "cell_type": "code",
   "execution_count": null,
   "metadata": {},
   "outputs": [],
   "source": [
    "x = sales.groupby(['預交年份', '預交月份', '負責業務', 'BG'])[['本國幣別NTD']].sum().reset_index()\n",
    "month_order = ['January', 'February', 'March', 'April', 'May', 'June', 'July',\n",
    "               'August', 'September', 'October', 'November', 'December']\n",
    "x['預交月份'] = pd.Categorical(x['預交月份'], ordered=True, categories=month_order)\n",
    "x = x.sort_values(by='預交月份').reset_index()"
   ]
  },
  {
   "cell_type": "code",
   "execution_count": null,
   "metadata": {
    "scrolled": true
   },
   "outputs": [],
   "source": [
    "df = sales[['BG', 'Group', '狀態', '開單日期', '預交日期', '負責業務', '品名', '數量', '本國幣別NTD', '客戶料號']]"
   ]
  },
  {
   "cell_type": "code",
   "execution_count": null,
   "metadata": {},
   "outputs": [],
   "source": [
    "test = pd.pivot_table(df, index=['負責業務', 'Group', 'BG'], values=['本國幣別NTD', '數量'], aggfunc={'本國幣別NTD': sum, '數量': sum}).reset_index()"
   ]
  },
  {
   "cell_type": "code",
   "execution_count": null,
   "metadata": {
    "scrolled": true
   },
   "outputs": [],
   "source": [
    "test = test.style.format({'本國幣別NTD':'{0:,.0f}'}).highlight_max(color='green')"
   ]
  },
  {
   "cell_type": "code",
   "execution_count": null,
   "metadata": {},
   "outputs": [],
   "source": [
    "x = test['負責業務'].tolist()\n",
    "y = test['本國幣別NTD'].tolist()"
   ]
  },
  {
   "cell_type": "markdown",
   "metadata": {},
   "source": [
    "## Treemap"
   ]
  },
  {
   "cell_type": "code",
   "execution_count": null,
   "metadata": {},
   "outputs": [],
   "source": [
    "sales[(sales['負責業務'] == '許凱智') & (sales['預交年份'].isin([2019,2020])) & (sales['Group'].isin(['TELTONIKA', 'MT-SYSTEM']))]"
   ]
  },
  {
   "cell_type": "code",
   "execution_count": null,
   "metadata": {},
   "outputs": [],
   "source": [
    "test = sales[(sales['負責業務'] == '許凱智') & (sales['預交年份'].isin([2019,2020])) & (sales['Group'].isin(['TELTONIKA', 'MT-SYSTEM']))].groupby(['預交年份', 'Group', 'BG', '預交月份', '品名'])[['數量', '本國幣別NTD']].sum().reset_index()"
   ]
  },
  {
   "cell_type": "code",
   "execution_count": null,
   "metadata": {},
   "outputs": [],
   "source": [
    "test.columns = ['Year', 'Company', 'Category', 'Month', 'Part number', 'Quantity', 'Revenue in NTD']"
   ]
  },
  {
   "cell_type": "code",
   "execution_count": null,
   "metadata": {},
   "outputs": [],
   "source": [
    "data = test.query('Year == 2020 and Company == \"MT-SYSTEM\" and Category == \"RF\"')\n",
    "data = data[['Quantity']]"
   ]
  },
  {
   "cell_type": "code",
   "execution_count": null,
   "metadata": {},
   "outputs": [],
   "source": [
    "test1 = test.groupby(['Year', 'Company', 'Month', 'Category', 'Part number'])[['Quantity', 'Revenue in NTD']].sum().reset_index()"
   ]
  },
  {
   "cell_type": "code",
   "execution_count": null,
   "metadata": {},
   "outputs": [],
   "source": [
    "fig1 = px.treemap(test1, path=['Year', 'Company', 'Month', 'Category', 'Part number'], values='Revenue in NTD',\n",
    "                color='Quantity', color_continuous_scale='RdBu'\n",
    "                )\n",
    "fig1.show()\n",
    "with open('MT-SYSTEM.html', 'w') as f:\n",
    "    f.write(fig.to_html(full_html=False, include_plotlyjs='cdn'))\n",
    "    f.close()"
   ]
  },
  {
   "cell_type": "code",
   "execution_count": null,
   "metadata": {},
   "outputs": [],
   "source": [
    "fig = px.treemap(test, path=['預交年份', '預交月份', '負責業務', 'Group', 'BG'], values='本國幣別NTD',\n",
    "                color='數量', color_continuous_scale='RdBu'\n",
    "                )\n",
    "fig.show()"
   ]
  },
  {
   "cell_type": "code",
   "execution_count": null,
   "metadata": {},
   "outputs": [],
   "source": [
    "test1 = test.query('Group == [\"TELTONIKA\", \"MT-SYSTEM\"]')\n",
    "fig = px.treemap(test1, path=['預交年份', 'Group', 'BG'], values='本國幣別NTD',\n",
    "                color='數量', color_continuous_scale='RdBu'\n",
    "                )\n",
    "fig.show()"
   ]
  },
  {
   "cell_type": "markdown",
   "metadata": {},
   "source": [
    "## Line plot"
   ]
  },
  {
   "cell_type": "code",
   "execution_count": null,
   "metadata": {},
   "outputs": [],
   "source": [
    "from sklearn.preprocessing import StandardScaler\n",
    "# ss = StandardScaler()\n",
    "# ss.fit_transform(x['本國幣別NTD'])\n",
    "x['std'] = preprocessing.scale(x['本國幣別NTD'])"
   ]
  },
  {
   "cell_type": "code",
   "execution_count": null,
   "metadata": {},
   "outputs": [],
   "source": [
    "hist = px.histogram(x, x='預交月份', y='本國幣別NTD', facet_col='預交年份', facet_row='負責業務',\n",
    "                    category_orders={'預交年份':[2019,2020,2021,2022]},\n",
    "                   labels={'本國幣別NTD':'營業額', '預交月份':'月份'})\n",
    "hist.show()"
   ]
  },
  {
   "cell_type": "code",
   "execution_count": null,
   "metadata": {},
   "outputs": [],
   "source": [
    "line = px.line(x, x='預交月份', y='本國幣別NTD',color='預交年份', category_orders={'預交月份':month_order}, facet_col='負責業務', facet_row='BG')\n",
    "line.show()"
   ]
  },
  {
   "cell_type": "code",
   "execution_count": null,
   "metadata": {},
   "outputs": [],
   "source": [
    "line_plot = test.groupby(['預交年份', '預交月份', '負責業務'])[['本國幣別NTD']].sum().reset_index()\n",
    "month_order = ['January', 'February', 'March', 'April', 'May', 'June', 'July',\n",
    "               'August', 'September', 'October', 'November', 'December']\n",
    "line_plot['預交月份'] = pd.Categorical(line_plot['預交月份'], ordered=True, categories=month_order)\n",
    "line_plot = line_plot.sort_values(by='預交月份')"
   ]
  },
  {
   "cell_type": "code",
   "execution_count": null,
   "metadata": {},
   "outputs": [],
   "source": [
    "line = px.line(line_plot, x='預交月份', y='本國幣別NTD', color='預交年份', category_orders={'預交月份':month_order}, facet_col='負責業務')\n",
    "line.show()"
   ]
  },
  {
   "cell_type": "markdown",
   "metadata": {},
   "source": [
    "## Bar plot"
   ]
  },
  {
   "cell_type": "code",
   "execution_count": null,
   "metadata": {},
   "outputs": [],
   "source": [
    "df = test.query('預交年份 == (2020, 2019, 2021)')\n",
    "df = df.groupby(['預交年份', '負責業務', '預交月份'])[['本國幣別NTD']].sum().reset_index()\n",
    "df['預交年份'] = df['預交年份'].astype(str)\n",
    "bar = px.bar(df, x='預交月份', y='本國幣別NTD', color='預交年份', barmode='group',\n",
    "             category_orders={'預交月份':month_order}, facet_col='負責業務'\n",
    "            )\n",
    "bar.show()"
   ]
  },
  {
   "cell_type": "markdown",
   "metadata": {},
   "source": [
    "## Box Plot\n"
   ]
  },
  {
   "cell_type": "code",
   "execution_count": null,
   "metadata": {},
   "outputs": [],
   "source": [
    "data = sales.query('預交年份 == 2020')\n",
    "data = data.groupby(['銷售單號', 'Group'])[['本國幣別NTD']].sum().reset_index()\n",
    "fig = px.box(data, x='Group', y= '本國幣別NTD')\n",
    "fig.show()"
   ]
  },
  {
   "cell_type": "markdown",
   "metadata": {},
   "source": [
    "## Histogram"
   ]
  },
  {
   "cell_type": "code",
   "execution_count": null,
   "metadata": {},
   "outputs": [],
   "source": [
    "df = sales.query('預交年份 == 2020 and Group == \"Eaton\"')\n",
    "df = df.groupby(['銷售單號'])[['本國幣別NTD']].sum().reset_index()"
   ]
  },
  {
   "cell_type": "code",
   "execution_count": null,
   "metadata": {},
   "outputs": [],
   "source": [
    "\n",
    "fig = px.histogram(df, x='本國幣別NTD')\n",
    "fig.show()"
   ]
  },
  {
   "cell_type": "code",
   "execution_count": null,
   "metadata": {},
   "outputs": [],
   "source": [
    "from sklearn import preprocessing\n",
    "\n",
    "df['std'] = preprocessing.scale(df['本國幣別NTD'])"
   ]
  },
  {
   "cell_type": "code",
   "execution_count": null,
   "metadata": {},
   "outputs": [],
   "source": [
    "df['本國幣別NTD'].describe()"
   ]
  },
  {
   "cell_type": "code",
   "execution_count": null,
   "metadata": {},
   "outputs": [],
   "source": [
    "import plotly.figure_factory as ff\n",
    "\n",
    "hist_data = [df['std']]\n",
    "# fig = ff.create_distplot(hist_data, group_labels='Test')\n",
    "hist_data\n"
   ]
  },
  {
   "cell_type": "markdown",
   "metadata": {},
   "source": [
    "## 將多個figures結合成一份HTML"
   ]
  },
  {
   "cell_type": "code",
   "execution_count": null,
   "metadata": {},
   "outputs": [],
   "source": [
    "with open('test.html', 'a') as f:\n",
    "    f.write(fig.to_html(full_html=False, include_plotlyjs='cdn'))\n",
    "    f.write(line.to_html(full_html=False, include_plotlyjs='cdn'))\n",
    "    f.write(bar.to_html(full_html=False, include_plotlyjs='cdn'))\n",
    "    f.close()"
   ]
  },
  {
   "cell_type": "markdown",
   "metadata": {},
   "source": [
    "## Plotly graph_objs實作"
   ]
  },
  {
   "cell_type": "code",
   "execution_count": null,
   "metadata": {},
   "outputs": [],
   "source": [
    "df = sales.groupby(['預交日期', '負責業務', 'BG', 'Group', '品名'])[['數量', '本國幣別NTD']].sum().reset_index()"
   ]
  },
  {
   "cell_type": "code",
   "execution_count": null,
   "metadata": {},
   "outputs": [],
   "source": [
    "line_plot = df.groupby(['預交日期', '負責業務'])[['數量', '本國幣別NTD']].sum().reset_index().sort_values(by='預交日期')"
   ]
  },
  {
   "cell_type": "code",
   "execution_count": null,
   "metadata": {},
   "outputs": [],
   "source": [
    "df['日期'] = df['預交日期'].dt.strftime('%Y-%m')"
   ]
  },
  {
   "cell_type": "code",
   "execution_count": null,
   "metadata": {},
   "outputs": [],
   "source": [
    "sum_table = df.groupby(['日期', '負責業務'])[['數量', '本國幣別NTD']].sum().reset_index()\n",
    "sum_table.columns=['Year/Month', 'Sales', 'Qty.', 'Revenue']"
   ]
  },
  {
   "cell_type": "code",
   "execution_count": null,
   "metadata": {},
   "outputs": [],
   "source": [
    "sum_table['Qty.'] = sum_table['Qty.'].astype('int')\n",
    "sum_table['Revenue'] = sum_table['Revenue'].astype('int')"
   ]
  },
  {
   "cell_type": "code",
   "execution_count": null,
   "metadata": {},
   "outputs": [],
   "source": [
    "from plotly.subplots import make_subplots"
   ]
  },
  {
   "cell_type": "code",
   "execution_count": null,
   "metadata": {},
   "outputs": [],
   "source": [
    "fig = go.Figure(data=[go.Table(header=dict(values=sum_table.columns.tolist()), \n",
    "                              cells=dict(values=[sum_table['Year/Month'], sum_table['Sales'], sum_table['BU'], sum_table['Qty.'],\n",
    "                                                sum_table['Revenue']]))])\n",
    "\n",
    "fig.show()"
   ]
  },
  {
   "cell_type": "code",
   "execution_count": null,
   "metadata": {},
   "outputs": [],
   "source": [
    "sales['客戶名稱'].unique()"
   ]
  },
  {
   "cell_type": "code",
   "execution_count": null,
   "metadata": {},
   "outputs": [],
   "source": [
    "fig = make_subplots(\n",
    "    rows=3, cols=2,\n",
    "    column_widths=[0.5, 0.5],\n",
    "    row_heights=[0.5, 0.5, 0.5],\n",
    "    specs=[[{'type':'xy', 'secondary_y':True, 'colspan':2}, None],\n",
    "           [{'type':'table', 'colspan':2}, None], [{'type':'box', 'colspan':2}, None]]) \n",
    "# 需要指定specs，符合rows x columns的，沒有圖就先帶None，概念為：\n",
    "# [[{row1,col1}, {row1,col2}],[{row2,col1},{row2,col2}]]\n",
    "\n",
    "fig.add_trace(go.Table(header=dict(values=sum_table.columns.tolist()), \n",
    "                       cells=dict(values=[sum_table['Year/Month'], sum_table['Sales'], sum_table['Qty.'], \n",
    "                                sum_table['Revenue']])), row=2, col=1)\n",
    "\n",
    "cathy = sum_table.query('Sales == \"沈思明\"')\n",
    "kai = sum_table.query('Sales == \"許凱智\"')\n",
    "mohan = sum_table.query('Sales == \"墨漢雷迪\"')\n",
    "\n",
    "\n",
    "fig.add_trace(go.Bar(x=cathy['Year/Month'], \n",
    "                    y=cathy['Revenue'], name='Cathy'), \n",
    "             secondary_y=False, row=1, col=1)\n",
    "\n",
    "fig.add_trace(go.Bar(x=kai['Year/Month'], \n",
    "                    y=kai['Revenue'], name='Kai'), \n",
    "             secondary_y=False, row=1, col=1)\n",
    "\n",
    "fig.add_trace(go.Bar(x=mohan['Year/Month'], \n",
    "                    y=mohan['Revenue'], name='Mohan'), \n",
    "             secondary_y=False, row=1, col=1)\n",
    "\n",
    "fig.add_trace(go.Scatter(x=cathy['Year/Month'],\n",
    "                        y=cathy['Qty.'], name='Cathy_Qty.'),\n",
    "             secondary_y=True, row=1, col=1)\n",
    "\n",
    "fig.add_trace(go.Scatter(x=kai['Year/Month'],\n",
    "                        y=kai['Qty.'], name='Kai_Qty.'),\n",
    "             secondary_y=True, row=1, col=1)\n",
    "\n",
    "fig.add_trace(go.Scatter(x=mohan['Year/Month'],\n",
    "                        y=mohan['Qty.'], name='Mohan_Qty.'),\n",
    "             secondary_y=True, row=1, col=1)\n",
    "\n",
    "\n",
    "\n",
    "fig.update_yaxes(title_text='Qty.', secondary_y=True)\n",
    "fig.update_yaxes(title_text='Revenue', secondary_y=False)\n",
    "\n",
    "\n",
    "fig.update_layout(height=600, width=800, title_text='Test')\n",
    "fig.show()"
   ]
  },
  {
   "cell_type": "code",
   "execution_count": null,
   "metadata": {},
   "outputs": [],
   "source": [
    "# line_plot['預交日期'] = line_plot['預交日期'].apply(lambda x: x.to_period('M'))"
   ]
  },
  {
   "cell_type": "code",
   "execution_count": null,
   "metadata": {},
   "outputs": [],
   "source": [
    "# line_plot['預交日期'] = line_plot['預交日期'].dt.strftime('%Y-%m')\n",
    "# ？？？如何將折線圖的x軸變成年+月呢？"
   ]
  },
  {
   "cell_type": "code",
   "execution_count": null,
   "metadata": {},
   "outputs": [],
   "source": [
    "cathy = line_plot.query('負責業務 == \"沈思明\"')\n",
    "kai = line_plot.query('負責業務 == \"許凱智\"')\n",
    "mohan = line_plot.query('負責業務 == \"墨漢雷迪\"')\n",
    "\n",
    "c1 = go.Scatter(x=cathy['預交日期'],\n",
    "               y=cathy['本國幣別NTD'], mode='lines', name='沈思明')\n",
    "k1 = go.Scatter(x=kai['預交日期'], \n",
    "               y=kai['本國幣別NTD'], mode='lines', name='許凱智')\n",
    "m1 = go.Scatter(x=mohan['預交日期'], \n",
    "               y=mohan['本國幣別NTD'], mode='lines', name='墨漢雷迪')\n",
    "\n",
    "data=[c1, k1, m1]\n",
    "\n",
    "layout = go.Layout(title='Test line plot', \n",
    "                  font={'size':22}, \n",
    "                  xaxis={'title':'日期', 'titlefont':{'size':12}, 'tickfont':{'size':12}},\n",
    "                  yaxis={'title':'出貨金額', 'titlefont':{'size':12}, 'tickfont':{'size':12}}\n",
    "                  )\n",
    "fig = go.Figure(data=data, layout=layout)\n",
    "\n",
    "fig.show()"
   ]
  },
  {
   "cell_type": "code",
   "execution_count": null,
   "metadata": {},
   "outputs": [],
   "source": [
    "cathy = sum_table.query('Sales == \"沈思明\"')\n",
    "kai = sum_table.query('Sales == \"許凱智\"')\n",
    "mohan = sum_table.query('Sales == \"墨漢雷迪\"')\n",
    "\n",
    "\n",
    "\n",
    "fig = make_subplots(specs=[[{'secondary_y':True}]])\n",
    "\n",
    "fig.add_trace(go.Bar(x=cathy['Year/Month'], \n",
    "                    y=cathy['Revenue'], name='Cathy'), \n",
    "             secondary_y=False)\n",
    "\n",
    "fig.add_trace(go.Bar(x=kai['Year/Month'], \n",
    "                    y=kai['Revenue'], name='Kai'), \n",
    "             secondary_y=False)\n",
    "\n",
    "fig.add_trace(go.Bar(x=mohan['Year/Month'], \n",
    "                    y=mohan['Revenue'], name='Mohan'), \n",
    "             secondary_y=False)\n",
    "\n",
    "fig.add_trace(go.Scatter(x=cathy['Year/Month'],\n",
    "                        y=cathy['Qty.'], name='Cathy_Qty.'),\n",
    "             secondary_y=True)\n",
    "\n",
    "fig.add_trace(go.Scatter(x=kai['Year/Month'],\n",
    "                        y=kai['Qty.'], name='Kai_Qty.'),\n",
    "             secondary_y=True)\n",
    "\n",
    "fig.add_trace(go.Scatter(x=mohan['Year/Month'],\n",
    "                        y=mohan['Qty.'], name='Mohan_Qty.'),\n",
    "             secondary_y=True)\n",
    "\n",
    "fig.update_layout(title_text='<b>Revenue/Qty.</b>')\n",
    "\n",
    "fig.update_yaxes(title_text='<b>Qty.</b>', secondary_y=True)\n",
    "fig.update_yaxes(title_text='<b>Revenue</b>', secondary_y=False)\n",
    "\n",
    "fig.show()\n"
   ]
  },
  {
   "cell_type": "code",
   "execution_count": null,
   "metadata": {},
   "outputs": [],
   "source": [
    "sum_table"
   ]
  },
  {
   "cell_type": "code",
   "execution_count": null,
   "metadata": {},
   "outputs": [],
   "source": [
    "sales = sales[['BG', 'Group', '預交日期', '負責業務', '數量', '本國幣別NTD']]\n",
    "sales['本國幣別NTD'] = sales['本國幣別NTD'].astype('int')\n"
   ]
  },
  {
   "cell_type": "code",
   "execution_count": null,
   "metadata": {},
   "outputs": [],
   "source": [
    "sales['日期'] = sales['預交日期'].dt.strftime('%Y-%m') #datetime提取自定格式"
   ]
  },
  {
   "cell_type": "code",
   "execution_count": null,
   "metadata": {},
   "outputs": [],
   "source": [
    "sales = sales.reindex(columns=['BG', 'Group', '日期', '預交日期', '負責業務', '數量', '本國幣別NTD',])"
   ]
  },
  {
   "cell_type": "code",
   "execution_count": null,
   "metadata": {},
   "outputs": [],
   "source": [
    "line2 = sales.groupby(['日期', '負責業務'])[['數量', '本國幣別NTD']].sum().reset_index()"
   ]
  },
  {
   "cell_type": "code",
   "execution_count": null,
   "metadata": {},
   "outputs": [],
   "source": [
    "cathy = line2.query('負責業務 == \"沈思明\"')\n",
    "kai = line2.query('負責業務 == \"許凱智\"')\n",
    "mohan = line2.query('負責業務 == \"墨漢雷迪\"')\n",
    "\n",
    "c2 = go.Scatter(x=cathy['日期'], \n",
    "               y=cathy['本國幣別NTD'], mode='lines+markers', name='沈思明')\n",
    "k2 = go.Scatter(x=kai['日期'], \n",
    "               y=kai['本國幣別NTD'], mode='lines+markers', name='許凱智')\n",
    "m2 = go.Scatter(x=mohan['日期'], \n",
    "               y=mohan['本國幣別NTD'], mode='lines+markers', name='墨漢雷迪')\n",
    "\n",
    "data = [c2, k2, m2]\n",
    "\n",
    "layout = go.Layout(title='測試圖2', \n",
    "                  font={'size':16},\n",
    "                  xaxis={'title':'日期', 'titlefont':{'size':12}, 'tickfont':{'size':12}},\n",
    "                  yaxis={'title':'出貨金額', 'titlefont':{'size':12}, 'tickfont':{'size':12}})\n",
    "\n",
    "fig2 = go.Figure(data=data, layout=layout)\n",
    "\n",
    "fig2.show()\n"
   ]
  },
  {
   "cell_type": "markdown",
   "metadata": {},
   "source": [
    "### Plotly graph_objs table實作"
   ]
  },
  {
   "cell_type": "code",
   "execution_count": null,
   "metadata": {},
   "outputs": [],
   "source": [
    "fig = go.Figure(data=[go.Table(header=dict(values=list(sales.columns)), \n",
    "        cells=dict(values=[sales.BG, sales.Group, sales.日期, sales.預交日期, sales.負責業務, sales.數量, sales.本國幣別NTD]))])\n",
    "fig.show()"
   ]
  },
  {
   "cell_type": "markdown",
   "metadata": {},
   "source": [
    "### 20201121練習實作\n"
   ]
  },
  {
   "cell_type": "code",
   "execution_count": null,
   "metadata": {},
   "outputs": [],
   "source": [
    "y = sales[['本國幣別NTD']].resample('MS').sum()"
   ]
  },
  {
   "cell_type": "code",
   "execution_count": null,
   "metadata": {},
   "outputs": [],
   "source": [
    "y['本國幣別NTD'].std() / y['本國幣別NTD'].mean()"
   ]
  },
  {
   "cell_type": "code",
   "execution_count": null,
   "metadata": {},
   "outputs": [],
   "source": [
    "jj = sales.groupby(['預交年份', '銷售單號', 'Group', 'BG'])[['數量', '本國幣別NTD']].sum().reset_index()"
   ]
  },
  {
   "cell_type": "code",
   "execution_count": null,
   "metadata": {},
   "outputs": [],
   "source": [
    "jj = jj[jj['預交年份']== 2020]\n"
   ]
  },
  {
   "cell_type": "code",
   "execution_count": null,
   "metadata": {},
   "outputs": [],
   "source": [
    "jj[(jj['Group'] == 'LF OEM') & (jj['本國幣別NTD'] >= 265546)].count()"
   ]
  },
  {
   "cell_type": "code",
   "execution_count": null,
   "metadata": {},
   "outputs": [],
   "source": [
    "fig = px.box(jj, x='Group', y='本國幣別NTD', color='BG')\n",
    "fig.show()"
   ]
  },
  {
   "cell_type": "code",
   "execution_count": null,
   "metadata": {},
   "outputs": [],
   "source": [
    "jj[jj['BG'] == 'RF']['Group']"
   ]
  },
  {
   "cell_type": "code",
   "execution_count": null,
   "metadata": {
    "scrolled": false
   },
   "outputs": [],
   "source": [
    "\n",
    "fig = go.Figure(data=[go.Box(x=jj[jj['BG'] == i]['Group'], y=jj[jj['BG'] == i]['本國幣別NTD'], name=i) for i in jj['BG'].unique()])\n",
    "\n",
    "fig.show()"
   ]
  }
 ],
 "metadata": {
  "kernelspec": {
   "display_name": "Python 3",
   "language": "python",
   "name": "python3"
  },
  "language_info": {
   "codemirror_mode": {
    "name": "ipython",
    "version": 3
   },
   "file_extension": ".py",
   "mimetype": "text/x-python",
   "name": "python",
   "nbconvert_exporter": "python",
   "pygments_lexer": "ipython3",
   "version": "3.8.5"
  }
 },
 "nbformat": 4,
 "nbformat_minor": 4
}
