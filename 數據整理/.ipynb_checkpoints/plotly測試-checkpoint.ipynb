{
 "cells": [
  {
   "cell_type": "code",
   "execution_count": 69,
   "metadata": {},
   "outputs": [],
   "source": [
    "import pandas as pd\n",
    "pd.set_option('display.max_rows', 10)\n",
    "pd.set_option('display.max_columns', None)\n",
    "pd.set_option('display.float_format', lambda x: '%.0f' % x)\n",
    "from plotly.offline import iplot, init_notebook_mode\n",
    "import plotly.express as px\n",
    "import re\n"
   ]
  },
  {
   "cell_type": "markdown",
   "metadata": {},
   "source": [
    "## 數據前處理階段"
   ]
  },
  {
   "cell_type": "code",
   "execution_count": 131,
   "metadata": {},
   "outputs": [],
   "source": [
    "# sales = pd.read_excel('/Users/kai/Desktop/Weekly report_v0.1.xlsx', sheet_name='出貨明細') # Mac使用\n",
    "sales = pd.read_excel(r'C:\\Users\\kaihsu\\Desktop\\業績總表\\Weekly report_v0.1.xlsx', sheet_name='出貨明細')\n",
    "# budget = pd.read_excel('/Users/kai/Desktop/Weekly report_v0.1.xlsx', sheet_name='2020預算', usecols='A:F') # Mac使用\n",
    "# budget = pd.read_excel(r'C:\\Users\\kaihsu\\Desktop\\業績總表\\Weekly report_v0.1.xlsx', sheet_name='2020預算', usecols='A:F')"
   ]
  },
  {
   "cell_type": "code",
   "execution_count": 4,
   "metadata": {},
   "outputs": [],
   "source": [
    "sales['Size'] = sales['產品分類'].str.extract('([0-9]+)', expand=True)"
   ]
  },
  {
   "cell_type": "code",
   "execution_count": 132,
   "metadata": {},
   "outputs": [],
   "source": [
    "sales = sales.query('預交年份 == (2019,2020)')"
   ]
  },
  {
   "cell_type": "code",
   "execution_count": 133,
   "metadata": {
    "scrolled": true
   },
   "outputs": [],
   "source": [
    "sales['預交日期'] = sales['預交日期'].apply(lambda x:x.strftime('%Y-%m'))"
   ]
  },
  {
   "cell_type": "code",
   "execution_count": 141,
   "metadata": {},
   "outputs": [],
   "source": [
    "df = sales.groupby(['Group','預交日期'])[['數量', '本國幣別NTD']].sum().reset_index()"
   ]
  },
  {
   "cell_type": "code",
   "execution_count": 142,
   "metadata": {
    "scrolled": true
   },
   "outputs": [
    {
     "data": {
      "text/html": [
       "<div>\n",
       "<style scoped>\n",
       "    .dataframe tbody tr th:only-of-type {\n",
       "        vertical-align: middle;\n",
       "    }\n",
       "\n",
       "    .dataframe tbody tr th {\n",
       "        vertical-align: top;\n",
       "    }\n",
       "\n",
       "    .dataframe thead th {\n",
       "        text-align: right;\n",
       "    }\n",
       "</style>\n",
       "<table border=\"1\" class=\"dataframe\">\n",
       "  <thead>\n",
       "    <tr style=\"text-align: right;\">\n",
       "      <th></th>\n",
       "      <th>Group</th>\n",
       "      <th>預交日期</th>\n",
       "      <th>數量</th>\n",
       "      <th>本國幣別NTD</th>\n",
       "    </tr>\n",
       "  </thead>\n",
       "  <tbody>\n",
       "    <tr>\n",
       "      <th>0</th>\n",
       "      <td>Bourns</td>\n",
       "      <td>2019-01</td>\n",
       "      <td>10554000</td>\n",
       "      <td>4730149</td>\n",
       "    </tr>\n",
       "    <tr>\n",
       "      <th>1</th>\n",
       "      <td>Bourns</td>\n",
       "      <td>2019-02</td>\n",
       "      <td>5739000</td>\n",
       "      <td>2775215</td>\n",
       "    </tr>\n",
       "    <tr>\n",
       "      <th>2</th>\n",
       "      <td>Bourns</td>\n",
       "      <td>2019-03</td>\n",
       "      <td>8368000</td>\n",
       "      <td>3248840</td>\n",
       "    </tr>\n",
       "    <tr>\n",
       "      <th>3</th>\n",
       "      <td>Bourns</td>\n",
       "      <td>2019-04</td>\n",
       "      <td>9239000</td>\n",
       "      <td>2553035</td>\n",
       "    </tr>\n",
       "    <tr>\n",
       "      <th>4</th>\n",
       "      <td>Bourns</td>\n",
       "      <td>2019-05</td>\n",
       "      <td>6024000</td>\n",
       "      <td>2272148</td>\n",
       "    </tr>\n",
       "    <tr>\n",
       "      <th>...</th>\n",
       "      <td>...</td>\n",
       "      <td>...</td>\n",
       "      <td>...</td>\n",
       "      <td>...</td>\n",
       "    </tr>\n",
       "    <tr>\n",
       "      <th>293</th>\n",
       "      <td>藝感</td>\n",
       "      <td>2020-08</td>\n",
       "      <td>1848000</td>\n",
       "      <td>602565</td>\n",
       "    </tr>\n",
       "    <tr>\n",
       "      <th>294</th>\n",
       "      <td>藝感</td>\n",
       "      <td>2020-09</td>\n",
       "      <td>1905000</td>\n",
       "      <td>620524</td>\n",
       "    </tr>\n",
       "    <tr>\n",
       "      <th>295</th>\n",
       "      <td>藝感</td>\n",
       "      <td>2020-10</td>\n",
       "      <td>3459000</td>\n",
       "      <td>1127171</td>\n",
       "    </tr>\n",
       "    <tr>\n",
       "      <th>296</th>\n",
       "      <td>藝感</td>\n",
       "      <td>2020-11</td>\n",
       "      <td>3000000</td>\n",
       "      <td>977204</td>\n",
       "    </tr>\n",
       "    <tr>\n",
       "      <th>297</th>\n",
       "      <td>藝感</td>\n",
       "      <td>2020-12</td>\n",
       "      <td>2820000</td>\n",
       "      <td>918571</td>\n",
       "    </tr>\n",
       "  </tbody>\n",
       "</table>\n",
       "<p>298 rows × 4 columns</p>\n",
       "</div>"
      ],
      "text/plain": [
       "      Group     預交日期       數量  本國幣別NTD\n",
       "0    Bourns  2019-01 10554000  4730149\n",
       "1    Bourns  2019-02  5739000  2775215\n",
       "2    Bourns  2019-03  8368000  3248840\n",
       "3    Bourns  2019-04  9239000  2553035\n",
       "4    Bourns  2019-05  6024000  2272148\n",
       "..      ...      ...      ...      ...\n",
       "293      藝感  2020-08  1848000   602565\n",
       "294      藝感  2020-09  1905000   620524\n",
       "295      藝感  2020-10  3459000  1127171\n",
       "296      藝感  2020-11  3000000   977204\n",
       "297      藝感  2020-12  2820000   918571\n",
       "\n",
       "[298 rows x 4 columns]"
      ]
     },
     "execution_count": 142,
     "metadata": {},
     "output_type": "execute_result"
    }
   ],
   "source": [
    "df"
   ]
  },
  {
   "cell_type": "code",
   "execution_count": 143,
   "metadata": {},
   "outputs": [
    {
     "data": {
      "text/html": [
       "<div>\n",
       "<style scoped>\n",
       "    .dataframe tbody tr th:only-of-type {\n",
       "        vertical-align: middle;\n",
       "    }\n",
       "\n",
       "    .dataframe tbody tr th {\n",
       "        vertical-align: top;\n",
       "    }\n",
       "\n",
       "    .dataframe thead th {\n",
       "        text-align: right;\n",
       "    }\n",
       "</style>\n",
       "<table border=\"1\" class=\"dataframe\">\n",
       "  <thead>\n",
       "    <tr style=\"text-align: right;\">\n",
       "      <th></th>\n",
       "      <th>數量</th>\n",
       "      <th>本國幣別NTD</th>\n",
       "    </tr>\n",
       "  </thead>\n",
       "  <tbody>\n",
       "    <tr>\n",
       "      <th>count</th>\n",
       "      <td>298</td>\n",
       "      <td>298</td>\n",
       "    </tr>\n",
       "    <tr>\n",
       "      <th>mean</th>\n",
       "      <td>7488530</td>\n",
       "      <td>2540604</td>\n",
       "    </tr>\n",
       "    <tr>\n",
       "      <th>std</th>\n",
       "      <td>11186932</td>\n",
       "      <td>3110864</td>\n",
       "    </tr>\n",
       "    <tr>\n",
       "      <th>min</th>\n",
       "      <td>1</td>\n",
       "      <td>3302</td>\n",
       "    </tr>\n",
       "    <tr>\n",
       "      <th>25%</th>\n",
       "      <td>235183</td>\n",
       "      <td>407047</td>\n",
       "    </tr>\n",
       "    <tr>\n",
       "      <th>50%</th>\n",
       "      <td>2815000</td>\n",
       "      <td>1462140</td>\n",
       "    </tr>\n",
       "    <tr>\n",
       "      <th>75%</th>\n",
       "      <td>8471000</td>\n",
       "      <td>3682078</td>\n",
       "    </tr>\n",
       "    <tr>\n",
       "      <th>max</th>\n",
       "      <td>56169000</td>\n",
       "      <td>19496791</td>\n",
       "    </tr>\n",
       "  </tbody>\n",
       "</table>\n",
       "</div>"
      ],
      "text/plain": [
       "            數量  本國幣別NTD\n",
       "count      298      298\n",
       "mean   7488530  2540604\n",
       "std   11186932  3110864\n",
       "min          1     3302\n",
       "25%     235183   407047\n",
       "50%    2815000  1462140\n",
       "75%    8471000  3682078\n",
       "max   56169000 19496791"
      ]
     },
     "execution_count": 143,
     "metadata": {},
     "output_type": "execute_result"
    }
   ],
   "source": [
    "df[['數量', '本國幣別NTD']].describe()"
   ]
  },
  {
   "cell_type": "code",
   "execution_count": 145,
   "metadata": {},
   "outputs": [
    {
     "data": {
      "application/vnd.plotly.v1+json": {
       "config": {
        "plotlyServerURL": "https://plot.ly"
       },
       "data": [
        {
         "hovertemplate": "<b>%{hovertext}</b><br><br>Group=%{text}<br>預交日期=2019-01<br>數量=%{x}<br>本國幣別NTD=%{marker.size}<extra></extra>",
         "hovertext": [
          "華新科技"
         ],
         "legendgroup": "華新科技",
         "marker": {
          "color": "#1F77B4",
          "size": [
           89782.04
          ],
          "sizemode": "area",
          "sizeref": 819.77088,
          "symbol": "circle"
         },
         "mode": "markers+text",
         "name": "華新科技",
         "orientation": "v",
         "showlegend": true,
         "text": [
          "華新科技"
         ],
         "type": "scatter",
         "x": [
          2550000
         ],
         "xaxis": "x",
         "y": [
          89782.04
         ],
         "yaxis": "y"
        }
       ],
       "frames": [
        {
         "data": [
          {
           "hovertemplate": "<b>%{hovertext}</b><br><br>Group=%{text}<br>預交日期=2019-01<br>數量=%{x}<br>本國幣別NTD=%{marker.size}<extra></extra>",
           "hovertext": [
            "華新科技"
           ],
           "legendgroup": "華新科技",
           "marker": {
            "color": "#1F77B4",
            "size": [
             89782.04
            ],
            "sizemode": "area",
            "sizeref": 819.77088,
            "symbol": "circle"
           },
           "mode": "markers+text",
           "name": "華新科技",
           "orientation": "v",
           "showlegend": true,
           "text": [
            "華新科技"
           ],
           "type": "scatter",
           "x": [
            2550000
           ],
           "xaxis": "x",
           "y": [
            89782.04
           ],
           "yaxis": "y"
          }
         ],
         "name": "2019-01"
        },
        {
         "data": [
          {
           "hovertemplate": "<b>%{hovertext}</b><br><br>Group=%{text}<br>預交日期=2019-02<br>數量=%{x}<br>本國幣別NTD=%{marker.size}<extra></extra>",
           "hovertext": [
            "華新科技"
           ],
           "legendgroup": "華新科技",
           "marker": {
            "color": "#1F77B4",
            "size": [
             7282.509999999998
            ],
            "sizemode": "area",
            "sizeref": 819.77088,
            "symbol": "circle"
           },
           "mode": "markers+text",
           "name": "華新科技",
           "orientation": "v",
           "showlegend": true,
           "text": [
            "華新科技"
           ],
           "type": "scatter",
           "x": [
            151000
           ],
           "xaxis": "x",
           "y": [
            7282.509999999998
           ],
           "yaxis": "y"
          }
         ],
         "name": "2019-02"
        },
        {
         "data": [
          {
           "hovertemplate": "<b>%{hovertext}</b><br><br>Group=%{text}<br>預交日期=2019-03<br>數量=%{x}<br>本國幣別NTD=%{marker.size}<extra></extra>",
           "hovertext": [
            "華新科技"
           ],
           "legendgroup": "華新科技",
           "marker": {
            "color": "#1F77B4",
            "size": [
             582091.4300000004
            ],
            "sizemode": "area",
            "sizeref": 819.77088,
            "symbol": "circle"
           },
           "mode": "markers+text",
           "name": "華新科技",
           "orientation": "v",
           "showlegend": true,
           "text": [
            "華新科技"
           ],
           "type": "scatter",
           "x": [
            7517802
           ],
           "xaxis": "x",
           "y": [
            582091.4300000004
           ],
           "yaxis": "y"
          }
         ],
         "name": "2019-03"
        },
        {
         "data": [
          {
           "hovertemplate": "<b>%{hovertext}</b><br><br>Group=%{text}<br>預交日期=2019-04<br>數量=%{x}<br>本國幣別NTD=%{marker.size}<extra></extra>",
           "hovertext": [
            "華新科技"
           ],
           "legendgroup": "華新科技",
           "marker": {
            "color": "#1F77B4",
            "size": [
             122236.28000000003
            ],
            "sizemode": "area",
            "sizeref": 819.77088,
            "symbol": "circle"
           },
           "mode": "markers+text",
           "name": "華新科技",
           "orientation": "v",
           "showlegend": true,
           "text": [
            "華新科技"
           ],
           "type": "scatter",
           "x": [
            3267000
           ],
           "xaxis": "x",
           "y": [
            122236.28000000003
           ],
           "yaxis": "y"
          }
         ],
         "name": "2019-04"
        },
        {
         "data": [
          {
           "hovertemplate": "<b>%{hovertext}</b><br><br>Group=%{text}<br>預交日期=2019-05<br>數量=%{x}<br>本國幣別NTD=%{marker.size}<extra></extra>",
           "hovertext": [
            "華新科技"
           ],
           "legendgroup": "華新科技",
           "marker": {
            "color": "#1F77B4",
            "size": [
             103749.46999999999
            ],
            "sizemode": "area",
            "sizeref": 819.77088,
            "symbol": "circle"
           },
           "mode": "markers+text",
           "name": "華新科技",
           "orientation": "v",
           "showlegend": true,
           "text": [
            "華新科技"
           ],
           "type": "scatter",
           "x": [
            2488000
           ],
           "xaxis": "x",
           "y": [
            103749.46999999999
           ],
           "yaxis": "y"
          }
         ],
         "name": "2019-05"
        },
        {
         "data": [
          {
           "hovertemplate": "<b>%{hovertext}</b><br><br>Group=%{text}<br>預交日期=2019-06<br>數量=%{x}<br>本國幣別NTD=%{marker.size}<extra></extra>",
           "hovertext": [
            "華新科技"
           ],
           "legendgroup": "華新科技",
           "marker": {
            "color": "#1F77B4",
            "size": [
             120417.30000000006
            ],
            "sizemode": "area",
            "sizeref": 819.77088,
            "symbol": "circle"
           },
           "mode": "markers+text",
           "name": "華新科技",
           "orientation": "v",
           "showlegend": true,
           "text": [
            "華新科技"
           ],
           "type": "scatter",
           "x": [
            2776000
           ],
           "xaxis": "x",
           "y": [
            120417.30000000006
           ],
           "yaxis": "y"
          }
         ],
         "name": "2019-06"
        },
        {
         "data": [
          {
           "hovertemplate": "<b>%{hovertext}</b><br><br>Group=%{text}<br>預交日期=2019-07<br>數量=%{x}<br>本國幣別NTD=%{marker.size}<extra></extra>",
           "hovertext": [
            "華新科技"
           ],
           "legendgroup": "華新科技",
           "marker": {
            "color": "#1F77B4",
            "size": [
             107032.64999999998
            ],
            "sizemode": "area",
            "sizeref": 819.77088,
            "symbol": "circle"
           },
           "mode": "markers+text",
           "name": "華新科技",
           "orientation": "v",
           "showlegend": true,
           "text": [
            "華新科技"
           ],
           "type": "scatter",
           "x": [
            2757000
           ],
           "xaxis": "x",
           "y": [
            107032.64999999998
           ],
           "yaxis": "y"
          }
         ],
         "name": "2019-07"
        },
        {
         "data": [
          {
           "hovertemplate": "<b>%{hovertext}</b><br><br>Group=%{text}<br>預交日期=2019-08<br>數量=%{x}<br>本國幣別NTD=%{marker.size}<extra></extra>",
           "hovertext": [
            "華新科技"
           ],
           "legendgroup": "華新科技",
           "marker": {
            "color": "#1F77B4",
            "size": [
             324262.2300000001
            ],
            "sizemode": "area",
            "sizeref": 819.77088,
            "symbol": "circle"
           },
           "mode": "markers+text",
           "name": "華新科技",
           "orientation": "v",
           "showlegend": true,
           "text": [
            "華新科技"
           ],
           "type": "scatter",
           "x": [
            6621000
           ],
           "xaxis": "x",
           "y": [
            324262.2300000001
           ],
           "yaxis": "y"
          }
         ],
         "name": "2019-08"
        },
        {
         "data": [
          {
           "hovertemplate": "<b>%{hovertext}</b><br><br>Group=%{text}<br>預交日期=2019-09<br>數量=%{x}<br>本國幣別NTD=%{marker.size}<extra></extra>",
           "hovertext": [
            "華新科技"
           ],
           "legendgroup": "華新科技",
           "marker": {
            "color": "#1F77B4",
            "size": [
             209839.87
            ],
            "sizemode": "area",
            "sizeref": 819.77088,
            "symbol": "circle"
           },
           "mode": "markers+text",
           "name": "華新科技",
           "orientation": "v",
           "showlegend": true,
           "text": [
            "華新科技"
           ],
           "type": "scatter",
           "x": [
            3878000
           ],
           "xaxis": "x",
           "y": [
            209839.87
           ],
           "yaxis": "y"
          }
         ],
         "name": "2019-09"
        },
        {
         "data": [
          {
           "hovertemplate": "<b>%{hovertext}</b><br><br>Group=%{text}<br>預交日期=2019-10<br>數量=%{x}<br>本國幣別NTD=%{marker.size}<extra></extra>",
           "hovertext": [
            "華新科技"
           ],
           "legendgroup": "華新科技",
           "marker": {
            "color": "#1F77B4",
            "size": [
             185884.38
            ],
            "sizemode": "area",
            "sizeref": 819.77088,
            "symbol": "circle"
           },
           "mode": "markers+text",
           "name": "華新科技",
           "orientation": "v",
           "showlegend": true,
           "text": [
            "華新科技"
           ],
           "type": "scatter",
           "x": [
            2581000
           ],
           "xaxis": "x",
           "y": [
            185884.38
           ],
           "yaxis": "y"
          }
         ],
         "name": "2019-10"
        },
        {
         "data": [
          {
           "hovertemplate": "<b>%{hovertext}</b><br><br>Group=%{text}<br>預交日期=2019-11<br>數量=%{x}<br>本國幣別NTD=%{marker.size}<extra></extra>",
           "hovertext": [
            "華新科技"
           ],
           "legendgroup": "華新科技",
           "marker": {
            "color": "#1F77B4",
            "size": [
             242235.86000000007
            ],
            "sizemode": "area",
            "sizeref": 819.77088,
            "symbol": "circle"
           },
           "mode": "markers+text",
           "name": "華新科技",
           "orientation": "v",
           "showlegend": true,
           "text": [
            "華新科技"
           ],
           "type": "scatter",
           "x": [
            5187000
           ],
           "xaxis": "x",
           "y": [
            242235.86000000007
           ],
           "yaxis": "y"
          }
         ],
         "name": "2019-11"
        },
        {
         "data": [
          {
           "hovertemplate": "<b>%{hovertext}</b><br><br>Group=%{text}<br>預交日期=2019-12<br>數量=%{x}<br>本國幣別NTD=%{marker.size}<extra></extra>",
           "hovertext": [
            "華新科技"
           ],
           "legendgroup": "華新科技",
           "marker": {
            "color": "#1F77B4",
            "size": [
             320042.9599999999
            ],
            "sizemode": "area",
            "sizeref": 819.77088,
            "symbol": "circle"
           },
           "mode": "markers+text",
           "name": "華新科技",
           "orientation": "v",
           "showlegend": true,
           "text": [
            "華新科技"
           ],
           "type": "scatter",
           "x": [
            6283000
           ],
           "xaxis": "x",
           "y": [
            320042.9599999999
           ],
           "yaxis": "y"
          }
         ],
         "name": "2019-12"
        },
        {
         "data": [
          {
           "hovertemplate": "<b>%{hovertext}</b><br><br>Group=%{text}<br>預交日期=2020-01<br>數量=%{x}<br>本國幣別NTD=%{marker.size}<extra></extra>",
           "hovertext": [
            "華新科技"
           ],
           "legendgroup": "華新科技",
           "marker": {
            "color": "#1F77B4",
            "size": [
             486612.62000000005
            ],
            "sizemode": "area",
            "sizeref": 819.77088,
            "symbol": "circle"
           },
           "mode": "markers+text",
           "name": "華新科技",
           "orientation": "v",
           "showlegend": true,
           "text": [
            "華新科技"
           ],
           "type": "scatter",
           "x": [
            4878040
           ],
           "xaxis": "x",
           "y": [
            486612.62000000005
           ],
           "yaxis": "y"
          }
         ],
         "name": "2020-01"
        },
        {
         "data": [
          {
           "hovertemplate": "<b>%{hovertext}</b><br><br>Group=%{text}<br>預交日期=2020-02<br>數量=%{x}<br>本國幣別NTD=%{marker.size}<extra></extra>",
           "hovertext": [
            "華新科技"
           ],
           "legendgroup": "華新科技",
           "marker": {
            "color": "#1F77B4",
            "size": [
             458606.5400000001
            ],
            "sizemode": "area",
            "sizeref": 819.77088,
            "symbol": "circle"
           },
           "mode": "markers+text",
           "name": "華新科技",
           "orientation": "v",
           "showlegend": true,
           "text": [
            "華新科技"
           ],
           "type": "scatter",
           "x": [
            3931000
           ],
           "xaxis": "x",
           "y": [
            458606.5400000001
           ],
           "yaxis": "y"
          }
         ],
         "name": "2020-02"
        },
        {
         "data": [
          {
           "hovertemplate": "<b>%{hovertext}</b><br><br>Group=%{text}<br>預交日期=2020-03<br>數量=%{x}<br>本國幣別NTD=%{marker.size}<extra></extra>",
           "hovertext": [
            "華新科技"
           ],
           "legendgroup": "華新科技",
           "marker": {
            "color": "#1F77B4",
            "size": [
             378742.7
            ],
            "sizemode": "area",
            "sizeref": 819.77088,
            "symbol": "circle"
           },
           "mode": "markers+text",
           "name": "華新科技",
           "orientation": "v",
           "showlegend": true,
           "text": [
            "華新科技"
           ],
           "type": "scatter",
           "x": [
            5199000
           ],
           "xaxis": "x",
           "y": [
            378742.7
           ],
           "yaxis": "y"
          }
         ],
         "name": "2020-03"
        },
        {
         "data": [
          {
           "hovertemplate": "<b>%{hovertext}</b><br><br>Group=%{text}<br>預交日期=2020-04<br>數量=%{x}<br>本國幣別NTD=%{marker.size}<extra></extra>",
           "hovertext": [
            "華新科技"
           ],
           "legendgroup": "華新科技",
           "marker": {
            "color": "#1F77B4",
            "size": [
             295244.3
            ],
            "sizemode": "area",
            "sizeref": 819.77088,
            "symbol": "circle"
           },
           "mode": "markers+text",
           "name": "華新科技",
           "orientation": "v",
           "showlegend": true,
           "text": [
            "華新科技"
           ],
           "type": "scatter",
           "x": [
            6322000
           ],
           "xaxis": "x",
           "y": [
            295244.3
           ],
           "yaxis": "y"
          }
         ],
         "name": "2020-04"
        },
        {
         "data": [
          {
           "hovertemplate": "<b>%{hovertext}</b><br><br>Group=%{text}<br>預交日期=2020-05<br>數量=%{x}<br>本國幣別NTD=%{marker.size}<extra></extra>",
           "hovertext": [
            "華新科技"
           ],
           "legendgroup": "華新科技",
           "marker": {
            "color": "#1F77B4",
            "size": [
             517584.1
            ],
            "sizemode": "area",
            "sizeref": 819.77088,
            "symbol": "circle"
           },
           "mode": "markers+text",
           "name": "華新科技",
           "orientation": "v",
           "showlegend": true,
           "text": [
            "華新科技"
           ],
           "type": "scatter",
           "x": [
            12942000
           ],
           "xaxis": "x",
           "y": [
            517584.1
           ],
           "yaxis": "y"
          }
         ],
         "name": "2020-05"
        },
        {
         "data": [
          {
           "hovertemplate": "<b>%{hovertext}</b><br><br>Group=%{text}<br>預交日期=2020-06<br>數量=%{x}<br>本國幣別NTD=%{marker.size}<extra></extra>",
           "hovertext": [
            "華新科技"
           ],
           "legendgroup": "華新科技",
           "marker": {
            "color": "#1F77B4",
            "size": [
             405879
            ],
            "sizemode": "area",
            "sizeref": 819.77088,
            "symbol": "circle"
           },
           "mode": "markers+text",
           "name": "華新科技",
           "orientation": "v",
           "showlegend": true,
           "text": [
            "華新科技"
           ],
           "type": "scatter",
           "x": [
            6901000
           ],
           "xaxis": "x",
           "y": [
            405879
           ],
           "yaxis": "y"
          }
         ],
         "name": "2020-06"
        },
        {
         "data": [
          {
           "hovertemplate": "<b>%{hovertext}</b><br><br>Group=%{text}<br>預交日期=2020-07<br>數量=%{x}<br>本國幣別NTD=%{marker.size}<extra></extra>",
           "hovertext": [
            "華新科技"
           ],
           "legendgroup": "華新科技",
           "marker": {
            "color": "#1F77B4",
            "size": [
             638894
            ],
            "sizemode": "area",
            "sizeref": 819.77088,
            "symbol": "circle"
           },
           "mode": "markers+text",
           "name": "華新科技",
           "orientation": "v",
           "showlegend": true,
           "text": [
            "華新科技"
           ],
           "type": "scatter",
           "x": [
            12052002
           ],
           "xaxis": "x",
           "y": [
            638894
           ],
           "yaxis": "y"
          }
         ],
         "name": "2020-07"
        },
        {
         "data": [
          {
           "hovertemplate": "<b>%{hovertext}</b><br><br>Group=%{text}<br>預交日期=2020-08<br>數量=%{x}<br>本國幣別NTD=%{marker.size}<extra></extra>",
           "hovertext": [
            "華新科技"
           ],
           "legendgroup": "華新科技",
           "marker": {
            "color": "#1F77B4",
            "size": [
             1036610.127
            ],
            "sizemode": "area",
            "sizeref": 819.77088,
            "symbol": "circle"
           },
           "mode": "markers+text",
           "name": "華新科技",
           "orientation": "v",
           "showlegend": true,
           "text": [
            "華新科技"
           ],
           "type": "scatter",
           "x": [
            13174000
           ],
           "xaxis": "x",
           "y": [
            1036610.127
           ],
           "yaxis": "y"
          }
         ],
         "name": "2020-08"
        },
        {
         "data": [
          {
           "hovertemplate": "<b>%{hovertext}</b><br><br>Group=%{text}<br>預交日期=2020-09<br>數量=%{x}<br>本國幣別NTD=%{marker.size}<extra></extra>",
           "hovertext": [
            "華新科技"
           ],
           "legendgroup": "華新科技",
           "marker": {
            "color": "#1F77B4",
            "size": [
             993248.835
            ],
            "sizemode": "area",
            "sizeref": 819.77088,
            "symbol": "circle"
           },
           "mode": "markers+text",
           "name": "華新科技",
           "orientation": "v",
           "showlegend": true,
           "text": [
            "華新科技"
           ],
           "type": "scatter",
           "x": [
            14612000
           ],
           "xaxis": "x",
           "y": [
            993248.835
           ],
           "yaxis": "y"
          }
         ],
         "name": "2020-09"
        },
        {
         "data": [
          {
           "hovertemplate": "<b>%{hovertext}</b><br><br>Group=%{text}<br>預交日期=2020-10<br>數量=%{x}<br>本國幣別NTD=%{marker.size}<extra></extra>",
           "hovertext": [
            "華新科技"
           ],
           "legendgroup": "華新科技",
           "marker": {
            "color": "#1F77B4",
            "size": [
             1696517.256
            ],
            "sizemode": "area",
            "sizeref": 819.77088,
            "symbol": "circle"
           },
           "mode": "markers+text",
           "name": "華新科技",
           "orientation": "v",
           "showlegend": true,
           "text": [
            "華新科技"
           ],
           "type": "scatter",
           "x": [
            21513000
           ],
           "xaxis": "x",
           "y": [
            1696517.256
           ],
           "yaxis": "y"
          }
         ],
         "name": "2020-10"
        },
        {
         "data": [
          {
           "hovertemplate": "<b>%{hovertext}</b><br><br>Group=%{text}<br>預交日期=2020-11<br>數量=%{x}<br>本國幣別NTD=%{marker.size}<extra></extra>",
           "hovertext": [
            "華新科技"
           ],
           "legendgroup": "華新科技",
           "marker": {
            "color": "#1F77B4",
            "size": [
             1270009.0389999999
            ],
            "sizemode": "area",
            "sizeref": 819.77088,
            "symbol": "circle"
           },
           "mode": "markers+text",
           "name": "華新科技",
           "orientation": "v",
           "showlegend": true,
           "text": [
            "華新科技"
           ],
           "type": "scatter",
           "x": [
            13202000
           ],
           "xaxis": "x",
           "y": [
            1270009.0389999999
           ],
           "yaxis": "y"
          }
         ],
         "name": "2020-11"
        },
        {
         "data": [
          {
           "hovertemplate": "<b>%{hovertext}</b><br><br>Group=%{text}<br>預交日期=2020-12<br>數量=%{x}<br>本國幣別NTD=%{marker.size}<extra></extra>",
           "hovertext": [
            "華新科技"
           ],
           "legendgroup": "華新科技",
           "marker": {
            "color": "#1F77B4",
            "size": [
             2049427.2
            ],
            "sizemode": "area",
            "sizeref": 819.77088,
            "symbol": "circle"
           },
           "mode": "markers+text",
           "name": "華新科技",
           "orientation": "v",
           "showlegend": true,
           "text": [
            "華新科技"
           ],
           "type": "scatter",
           "x": [
            29326000
           ],
           "xaxis": "x",
           "y": [
            2049427.2
           ],
           "yaxis": "y"
          }
         ],
         "name": "2020-12"
        }
       ],
       "layout": {
        "legend": {
         "itemsizing": "constant",
         "title": {
          "text": "Group"
         },
         "tracegroupgap": 0
        },
        "margin": {
         "t": 60
        },
        "sliders": [
         {
          "active": 0,
          "currentvalue": {
           "prefix": "預交日期="
          },
          "len": 0.9,
          "pad": {
           "b": 10,
           "t": 60
          },
          "steps": [
           {
            "args": [
             [
              "2019-01"
             ],
             {
              "frame": {
               "duration": 0,
               "redraw": false
              },
              "fromcurrent": true,
              "mode": "immediate",
              "transition": {
               "duration": 0,
               "easing": "linear"
              }
             }
            ],
            "label": "2019-01",
            "method": "animate"
           },
           {
            "args": [
             [
              "2019-02"
             ],
             {
              "frame": {
               "duration": 0,
               "redraw": false
              },
              "fromcurrent": true,
              "mode": "immediate",
              "transition": {
               "duration": 0,
               "easing": "linear"
              }
             }
            ],
            "label": "2019-02",
            "method": "animate"
           },
           {
            "args": [
             [
              "2019-03"
             ],
             {
              "frame": {
               "duration": 0,
               "redraw": false
              },
              "fromcurrent": true,
              "mode": "immediate",
              "transition": {
               "duration": 0,
               "easing": "linear"
              }
             }
            ],
            "label": "2019-03",
            "method": "animate"
           },
           {
            "args": [
             [
              "2019-04"
             ],
             {
              "frame": {
               "duration": 0,
               "redraw": false
              },
              "fromcurrent": true,
              "mode": "immediate",
              "transition": {
               "duration": 0,
               "easing": "linear"
              }
             }
            ],
            "label": "2019-04",
            "method": "animate"
           },
           {
            "args": [
             [
              "2019-05"
             ],
             {
              "frame": {
               "duration": 0,
               "redraw": false
              },
              "fromcurrent": true,
              "mode": "immediate",
              "transition": {
               "duration": 0,
               "easing": "linear"
              }
             }
            ],
            "label": "2019-05",
            "method": "animate"
           },
           {
            "args": [
             [
              "2019-06"
             ],
             {
              "frame": {
               "duration": 0,
               "redraw": false
              },
              "fromcurrent": true,
              "mode": "immediate",
              "transition": {
               "duration": 0,
               "easing": "linear"
              }
             }
            ],
            "label": "2019-06",
            "method": "animate"
           },
           {
            "args": [
             [
              "2019-07"
             ],
             {
              "frame": {
               "duration": 0,
               "redraw": false
              },
              "fromcurrent": true,
              "mode": "immediate",
              "transition": {
               "duration": 0,
               "easing": "linear"
              }
             }
            ],
            "label": "2019-07",
            "method": "animate"
           },
           {
            "args": [
             [
              "2019-08"
             ],
             {
              "frame": {
               "duration": 0,
               "redraw": false
              },
              "fromcurrent": true,
              "mode": "immediate",
              "transition": {
               "duration": 0,
               "easing": "linear"
              }
             }
            ],
            "label": "2019-08",
            "method": "animate"
           },
           {
            "args": [
             [
              "2019-09"
             ],
             {
              "frame": {
               "duration": 0,
               "redraw": false
              },
              "fromcurrent": true,
              "mode": "immediate",
              "transition": {
               "duration": 0,
               "easing": "linear"
              }
             }
            ],
            "label": "2019-09",
            "method": "animate"
           },
           {
            "args": [
             [
              "2019-10"
             ],
             {
              "frame": {
               "duration": 0,
               "redraw": false
              },
              "fromcurrent": true,
              "mode": "immediate",
              "transition": {
               "duration": 0,
               "easing": "linear"
              }
             }
            ],
            "label": "2019-10",
            "method": "animate"
           },
           {
            "args": [
             [
              "2019-11"
             ],
             {
              "frame": {
               "duration": 0,
               "redraw": false
              },
              "fromcurrent": true,
              "mode": "immediate",
              "transition": {
               "duration": 0,
               "easing": "linear"
              }
             }
            ],
            "label": "2019-11",
            "method": "animate"
           },
           {
            "args": [
             [
              "2019-12"
             ],
             {
              "frame": {
               "duration": 0,
               "redraw": false
              },
              "fromcurrent": true,
              "mode": "immediate",
              "transition": {
               "duration": 0,
               "easing": "linear"
              }
             }
            ],
            "label": "2019-12",
            "method": "animate"
           },
           {
            "args": [
             [
              "2020-01"
             ],
             {
              "frame": {
               "duration": 0,
               "redraw": false
              },
              "fromcurrent": true,
              "mode": "immediate",
              "transition": {
               "duration": 0,
               "easing": "linear"
              }
             }
            ],
            "label": "2020-01",
            "method": "animate"
           },
           {
            "args": [
             [
              "2020-02"
             ],
             {
              "frame": {
               "duration": 0,
               "redraw": false
              },
              "fromcurrent": true,
              "mode": "immediate",
              "transition": {
               "duration": 0,
               "easing": "linear"
              }
             }
            ],
            "label": "2020-02",
            "method": "animate"
           },
           {
            "args": [
             [
              "2020-03"
             ],
             {
              "frame": {
               "duration": 0,
               "redraw": false
              },
              "fromcurrent": true,
              "mode": "immediate",
              "transition": {
               "duration": 0,
               "easing": "linear"
              }
             }
            ],
            "label": "2020-03",
            "method": "animate"
           },
           {
            "args": [
             [
              "2020-04"
             ],
             {
              "frame": {
               "duration": 0,
               "redraw": false
              },
              "fromcurrent": true,
              "mode": "immediate",
              "transition": {
               "duration": 0,
               "easing": "linear"
              }
             }
            ],
            "label": "2020-04",
            "method": "animate"
           },
           {
            "args": [
             [
              "2020-05"
             ],
             {
              "frame": {
               "duration": 0,
               "redraw": false
              },
              "fromcurrent": true,
              "mode": "immediate",
              "transition": {
               "duration": 0,
               "easing": "linear"
              }
             }
            ],
            "label": "2020-05",
            "method": "animate"
           },
           {
            "args": [
             [
              "2020-06"
             ],
             {
              "frame": {
               "duration": 0,
               "redraw": false
              },
              "fromcurrent": true,
              "mode": "immediate",
              "transition": {
               "duration": 0,
               "easing": "linear"
              }
             }
            ],
            "label": "2020-06",
            "method": "animate"
           },
           {
            "args": [
             [
              "2020-07"
             ],
             {
              "frame": {
               "duration": 0,
               "redraw": false
              },
              "fromcurrent": true,
              "mode": "immediate",
              "transition": {
               "duration": 0,
               "easing": "linear"
              }
             }
            ],
            "label": "2020-07",
            "method": "animate"
           },
           {
            "args": [
             [
              "2020-08"
             ],
             {
              "frame": {
               "duration": 0,
               "redraw": false
              },
              "fromcurrent": true,
              "mode": "immediate",
              "transition": {
               "duration": 0,
               "easing": "linear"
              }
             }
            ],
            "label": "2020-08",
            "method": "animate"
           },
           {
            "args": [
             [
              "2020-09"
             ],
             {
              "frame": {
               "duration": 0,
               "redraw": false
              },
              "fromcurrent": true,
              "mode": "immediate",
              "transition": {
               "duration": 0,
               "easing": "linear"
              }
             }
            ],
            "label": "2020-09",
            "method": "animate"
           },
           {
            "args": [
             [
              "2020-10"
             ],
             {
              "frame": {
               "duration": 0,
               "redraw": false
              },
              "fromcurrent": true,
              "mode": "immediate",
              "transition": {
               "duration": 0,
               "easing": "linear"
              }
             }
            ],
            "label": "2020-10",
            "method": "animate"
           },
           {
            "args": [
             [
              "2020-11"
             ],
             {
              "frame": {
               "duration": 0,
               "redraw": false
              },
              "fromcurrent": true,
              "mode": "immediate",
              "transition": {
               "duration": 0,
               "easing": "linear"
              }
             }
            ],
            "label": "2020-11",
            "method": "animate"
           },
           {
            "args": [
             [
              "2020-12"
             ],
             {
              "frame": {
               "duration": 0,
               "redraw": false
              },
              "fromcurrent": true,
              "mode": "immediate",
              "transition": {
               "duration": 0,
               "easing": "linear"
              }
             }
            ],
            "label": "2020-12",
            "method": "animate"
           }
          ],
          "x": 0.1,
          "xanchor": "left",
          "y": 0,
          "yanchor": "top"
         }
        ],
        "template": {
         "data": {
          "bar": [
           {
            "error_x": {
             "color": "#2a3f5f"
            },
            "error_y": {
             "color": "#2a3f5f"
            },
            "marker": {
             "line": {
              "color": "#E5ECF6",
              "width": 0.5
             }
            },
            "type": "bar"
           }
          ],
          "barpolar": [
           {
            "marker": {
             "line": {
              "color": "#E5ECF6",
              "width": 0.5
             }
            },
            "type": "barpolar"
           }
          ],
          "carpet": [
           {
            "aaxis": {
             "endlinecolor": "#2a3f5f",
             "gridcolor": "white",
             "linecolor": "white",
             "minorgridcolor": "white",
             "startlinecolor": "#2a3f5f"
            },
            "baxis": {
             "endlinecolor": "#2a3f5f",
             "gridcolor": "white",
             "linecolor": "white",
             "minorgridcolor": "white",
             "startlinecolor": "#2a3f5f"
            },
            "type": "carpet"
           }
          ],
          "choropleth": [
           {
            "colorbar": {
             "outlinewidth": 0,
             "ticks": ""
            },
            "type": "choropleth"
           }
          ],
          "contour": [
           {
            "colorbar": {
             "outlinewidth": 0,
             "ticks": ""
            },
            "colorscale": [
             [
              0,
              "#0d0887"
             ],
             [
              0.1111111111111111,
              "#46039f"
             ],
             [
              0.2222222222222222,
              "#7201a8"
             ],
             [
              0.3333333333333333,
              "#9c179e"
             ],
             [
              0.4444444444444444,
              "#bd3786"
             ],
             [
              0.5555555555555556,
              "#d8576b"
             ],
             [
              0.6666666666666666,
              "#ed7953"
             ],
             [
              0.7777777777777778,
              "#fb9f3a"
             ],
             [
              0.8888888888888888,
              "#fdca26"
             ],
             [
              1,
              "#f0f921"
             ]
            ],
            "type": "contour"
           }
          ],
          "contourcarpet": [
           {
            "colorbar": {
             "outlinewidth": 0,
             "ticks": ""
            },
            "type": "contourcarpet"
           }
          ],
          "heatmap": [
           {
            "colorbar": {
             "outlinewidth": 0,
             "ticks": ""
            },
            "colorscale": [
             [
              0,
              "#0d0887"
             ],
             [
              0.1111111111111111,
              "#46039f"
             ],
             [
              0.2222222222222222,
              "#7201a8"
             ],
             [
              0.3333333333333333,
              "#9c179e"
             ],
             [
              0.4444444444444444,
              "#bd3786"
             ],
             [
              0.5555555555555556,
              "#d8576b"
             ],
             [
              0.6666666666666666,
              "#ed7953"
             ],
             [
              0.7777777777777778,
              "#fb9f3a"
             ],
             [
              0.8888888888888888,
              "#fdca26"
             ],
             [
              1,
              "#f0f921"
             ]
            ],
            "type": "heatmap"
           }
          ],
          "heatmapgl": [
           {
            "colorbar": {
             "outlinewidth": 0,
             "ticks": ""
            },
            "colorscale": [
             [
              0,
              "#0d0887"
             ],
             [
              0.1111111111111111,
              "#46039f"
             ],
             [
              0.2222222222222222,
              "#7201a8"
             ],
             [
              0.3333333333333333,
              "#9c179e"
             ],
             [
              0.4444444444444444,
              "#bd3786"
             ],
             [
              0.5555555555555556,
              "#d8576b"
             ],
             [
              0.6666666666666666,
              "#ed7953"
             ],
             [
              0.7777777777777778,
              "#fb9f3a"
             ],
             [
              0.8888888888888888,
              "#fdca26"
             ],
             [
              1,
              "#f0f921"
             ]
            ],
            "type": "heatmapgl"
           }
          ],
          "histogram": [
           {
            "marker": {
             "colorbar": {
              "outlinewidth": 0,
              "ticks": ""
             }
            },
            "type": "histogram"
           }
          ],
          "histogram2d": [
           {
            "colorbar": {
             "outlinewidth": 0,
             "ticks": ""
            },
            "colorscale": [
             [
              0,
              "#0d0887"
             ],
             [
              0.1111111111111111,
              "#46039f"
             ],
             [
              0.2222222222222222,
              "#7201a8"
             ],
             [
              0.3333333333333333,
              "#9c179e"
             ],
             [
              0.4444444444444444,
              "#bd3786"
             ],
             [
              0.5555555555555556,
              "#d8576b"
             ],
             [
              0.6666666666666666,
              "#ed7953"
             ],
             [
              0.7777777777777778,
              "#fb9f3a"
             ],
             [
              0.8888888888888888,
              "#fdca26"
             ],
             [
              1,
              "#f0f921"
             ]
            ],
            "type": "histogram2d"
           }
          ],
          "histogram2dcontour": [
           {
            "colorbar": {
             "outlinewidth": 0,
             "ticks": ""
            },
            "colorscale": [
             [
              0,
              "#0d0887"
             ],
             [
              0.1111111111111111,
              "#46039f"
             ],
             [
              0.2222222222222222,
              "#7201a8"
             ],
             [
              0.3333333333333333,
              "#9c179e"
             ],
             [
              0.4444444444444444,
              "#bd3786"
             ],
             [
              0.5555555555555556,
              "#d8576b"
             ],
             [
              0.6666666666666666,
              "#ed7953"
             ],
             [
              0.7777777777777778,
              "#fb9f3a"
             ],
             [
              0.8888888888888888,
              "#fdca26"
             ],
             [
              1,
              "#f0f921"
             ]
            ],
            "type": "histogram2dcontour"
           }
          ],
          "mesh3d": [
           {
            "colorbar": {
             "outlinewidth": 0,
             "ticks": ""
            },
            "type": "mesh3d"
           }
          ],
          "parcoords": [
           {
            "line": {
             "colorbar": {
              "outlinewidth": 0,
              "ticks": ""
             }
            },
            "type": "parcoords"
           }
          ],
          "pie": [
           {
            "automargin": true,
            "type": "pie"
           }
          ],
          "scatter": [
           {
            "marker": {
             "colorbar": {
              "outlinewidth": 0,
              "ticks": ""
             }
            },
            "type": "scatter"
           }
          ],
          "scatter3d": [
           {
            "line": {
             "colorbar": {
              "outlinewidth": 0,
              "ticks": ""
             }
            },
            "marker": {
             "colorbar": {
              "outlinewidth": 0,
              "ticks": ""
             }
            },
            "type": "scatter3d"
           }
          ],
          "scattercarpet": [
           {
            "marker": {
             "colorbar": {
              "outlinewidth": 0,
              "ticks": ""
             }
            },
            "type": "scattercarpet"
           }
          ],
          "scattergeo": [
           {
            "marker": {
             "colorbar": {
              "outlinewidth": 0,
              "ticks": ""
             }
            },
            "type": "scattergeo"
           }
          ],
          "scattergl": [
           {
            "marker": {
             "colorbar": {
              "outlinewidth": 0,
              "ticks": ""
             }
            },
            "type": "scattergl"
           }
          ],
          "scattermapbox": [
           {
            "marker": {
             "colorbar": {
              "outlinewidth": 0,
              "ticks": ""
             }
            },
            "type": "scattermapbox"
           }
          ],
          "scatterpolar": [
           {
            "marker": {
             "colorbar": {
              "outlinewidth": 0,
              "ticks": ""
             }
            },
            "type": "scatterpolar"
           }
          ],
          "scatterpolargl": [
           {
            "marker": {
             "colorbar": {
              "outlinewidth": 0,
              "ticks": ""
             }
            },
            "type": "scatterpolargl"
           }
          ],
          "scatterternary": [
           {
            "marker": {
             "colorbar": {
              "outlinewidth": 0,
              "ticks": ""
             }
            },
            "type": "scatterternary"
           }
          ],
          "surface": [
           {
            "colorbar": {
             "outlinewidth": 0,
             "ticks": ""
            },
            "colorscale": [
             [
              0,
              "#0d0887"
             ],
             [
              0.1111111111111111,
              "#46039f"
             ],
             [
              0.2222222222222222,
              "#7201a8"
             ],
             [
              0.3333333333333333,
              "#9c179e"
             ],
             [
              0.4444444444444444,
              "#bd3786"
             ],
             [
              0.5555555555555556,
              "#d8576b"
             ],
             [
              0.6666666666666666,
              "#ed7953"
             ],
             [
              0.7777777777777778,
              "#fb9f3a"
             ],
             [
              0.8888888888888888,
              "#fdca26"
             ],
             [
              1,
              "#f0f921"
             ]
            ],
            "type": "surface"
           }
          ],
          "table": [
           {
            "cells": {
             "fill": {
              "color": "#EBF0F8"
             },
             "line": {
              "color": "white"
             }
            },
            "header": {
             "fill": {
              "color": "#C8D4E3"
             },
             "line": {
              "color": "white"
             }
            },
            "type": "table"
           }
          ]
         },
         "layout": {
          "annotationdefaults": {
           "arrowcolor": "#2a3f5f",
           "arrowhead": 0,
           "arrowwidth": 1
          },
          "coloraxis": {
           "colorbar": {
            "outlinewidth": 0,
            "ticks": ""
           }
          },
          "colorscale": {
           "diverging": [
            [
             0,
             "#8e0152"
            ],
            [
             0.1,
             "#c51b7d"
            ],
            [
             0.2,
             "#de77ae"
            ],
            [
             0.3,
             "#f1b6da"
            ],
            [
             0.4,
             "#fde0ef"
            ],
            [
             0.5,
             "#f7f7f7"
            ],
            [
             0.6,
             "#e6f5d0"
            ],
            [
             0.7,
             "#b8e186"
            ],
            [
             0.8,
             "#7fbc41"
            ],
            [
             0.9,
             "#4d9221"
            ],
            [
             1,
             "#276419"
            ]
           ],
           "sequential": [
            [
             0,
             "#0d0887"
            ],
            [
             0.1111111111111111,
             "#46039f"
            ],
            [
             0.2222222222222222,
             "#7201a8"
            ],
            [
             0.3333333333333333,
             "#9c179e"
            ],
            [
             0.4444444444444444,
             "#bd3786"
            ],
            [
             0.5555555555555556,
             "#d8576b"
            ],
            [
             0.6666666666666666,
             "#ed7953"
            ],
            [
             0.7777777777777778,
             "#fb9f3a"
            ],
            [
             0.8888888888888888,
             "#fdca26"
            ],
            [
             1,
             "#f0f921"
            ]
           ],
           "sequentialminus": [
            [
             0,
             "#0d0887"
            ],
            [
             0.1111111111111111,
             "#46039f"
            ],
            [
             0.2222222222222222,
             "#7201a8"
            ],
            [
             0.3333333333333333,
             "#9c179e"
            ],
            [
             0.4444444444444444,
             "#bd3786"
            ],
            [
             0.5555555555555556,
             "#d8576b"
            ],
            [
             0.6666666666666666,
             "#ed7953"
            ],
            [
             0.7777777777777778,
             "#fb9f3a"
            ],
            [
             0.8888888888888888,
             "#fdca26"
            ],
            [
             1,
             "#f0f921"
            ]
           ]
          },
          "colorway": [
           "#636efa",
           "#EF553B",
           "#00cc96",
           "#ab63fa",
           "#FFA15A",
           "#19d3f3",
           "#FF6692",
           "#B6E880",
           "#FF97FF",
           "#FECB52"
          ],
          "font": {
           "color": "#2a3f5f"
          },
          "geo": {
           "bgcolor": "white",
           "lakecolor": "white",
           "landcolor": "#E5ECF6",
           "showlakes": true,
           "showland": true,
           "subunitcolor": "white"
          },
          "hoverlabel": {
           "align": "left"
          },
          "hovermode": "closest",
          "mapbox": {
           "style": "light"
          },
          "paper_bgcolor": "white",
          "plot_bgcolor": "#E5ECF6",
          "polar": {
           "angularaxis": {
            "gridcolor": "white",
            "linecolor": "white",
            "ticks": ""
           },
           "bgcolor": "#E5ECF6",
           "radialaxis": {
            "gridcolor": "white",
            "linecolor": "white",
            "ticks": ""
           }
          },
          "scene": {
           "xaxis": {
            "backgroundcolor": "#E5ECF6",
            "gridcolor": "white",
            "gridwidth": 2,
            "linecolor": "white",
            "showbackground": true,
            "ticks": "",
            "zerolinecolor": "white"
           },
           "yaxis": {
            "backgroundcolor": "#E5ECF6",
            "gridcolor": "white",
            "gridwidth": 2,
            "linecolor": "white",
            "showbackground": true,
            "ticks": "",
            "zerolinecolor": "white"
           },
           "zaxis": {
            "backgroundcolor": "#E5ECF6",
            "gridcolor": "white",
            "gridwidth": 2,
            "linecolor": "white",
            "showbackground": true,
            "ticks": "",
            "zerolinecolor": "white"
           }
          },
          "shapedefaults": {
           "line": {
            "color": "#2a3f5f"
           }
          },
          "ternary": {
           "aaxis": {
            "gridcolor": "white",
            "linecolor": "white",
            "ticks": ""
           },
           "baxis": {
            "gridcolor": "white",
            "linecolor": "white",
            "ticks": ""
           },
           "bgcolor": "#E5ECF6",
           "caxis": {
            "gridcolor": "white",
            "linecolor": "white",
            "ticks": ""
           }
          },
          "title": {
           "x": 0.05
          },
          "xaxis": {
           "automargin": true,
           "gridcolor": "white",
           "linecolor": "white",
           "ticks": "",
           "title": {
            "standoff": 15
           },
           "zerolinecolor": "white",
           "zerolinewidth": 2
          },
          "yaxis": {
           "automargin": true,
           "gridcolor": "white",
           "linecolor": "white",
           "ticks": "",
           "title": {
            "standoff": 15
           },
           "zerolinecolor": "white",
           "zerolinewidth": 2
          }
         }
        },
        "updatemenus": [
         {
          "buttons": [
           {
            "args": [
             null,
             {
              "frame": {
               "duration": 500,
               "redraw": false
              },
              "fromcurrent": true,
              "mode": "immediate",
              "transition": {
               "duration": 500,
               "easing": "linear"
              }
             }
            ],
            "label": "&#9654;",
            "method": "animate"
           },
           {
            "args": [
             [
              null
             ],
             {
              "frame": {
               "duration": 0,
               "redraw": false
              },
              "fromcurrent": true,
              "mode": "immediate",
              "transition": {
               "duration": 0,
               "easing": "linear"
              }
             }
            ],
            "label": "&#9724;",
            "method": "animate"
           }
          ],
          "direction": "left",
          "pad": {
           "r": 10,
           "t": 70
          },
          "showactive": false,
          "type": "buttons",
          "x": 0.1,
          "xanchor": "right",
          "y": 0,
          "yanchor": "top"
         }
        ],
        "xaxis": {
         "anchor": "y",
         "domain": [
          0,
          1
         ],
         "range": [
          -10,
          30000000
         ],
         "title": {
          "text": "數量"
         }
        },
        "yaxis": {
         "anchor": "x",
         "domain": [
          0,
          1
         ],
         "range": [
          0,
          3000000
         ],
         "title": {
          "text": "本國幣別NTD"
         }
        }
       }
      },
      "text/html": [
       "<div>                            <div id=\"7958c280-dd5f-45c3-b609-f32486b6a109\" class=\"plotly-graph-div\" style=\"height:525px; width:100%;\"></div>            <script type=\"text/javascript\">                require([\"plotly\"], function(Plotly) {                    window.PLOTLYENV=window.PLOTLYENV || {};                                    if (document.getElementById(\"7958c280-dd5f-45c3-b609-f32486b6a109\")) {                    Plotly.newPlot(                        \"7958c280-dd5f-45c3-b609-f32486b6a109\",                        [{\"hovertemplate\": \"<b>%{hovertext}</b><br><br>Group=%{text}<br>\\u9810\\u4ea4\\u65e5\\u671f=2019-01<br>\\u6578\\u91cf=%{x}<br>\\u672c\\u570b\\u5e63\\u5225NTD=%{marker.size}<extra></extra>\", \"hovertext\": [\"\\u83ef\\u65b0\\u79d1\\u6280\"], \"legendgroup\": \"\\u83ef\\u65b0\\u79d1\\u6280\", \"marker\": {\"color\": \"#1F77B4\", \"size\": [89782.04], \"sizemode\": \"area\", \"sizeref\": 819.77088, \"symbol\": \"circle\"}, \"mode\": \"markers+text\", \"name\": \"\\u83ef\\u65b0\\u79d1\\u6280\", \"orientation\": \"v\", \"showlegend\": true, \"text\": [\"\\u83ef\\u65b0\\u79d1\\u6280\"], \"type\": \"scatter\", \"x\": [2550000.0], \"xaxis\": \"x\", \"y\": [89782.04], \"yaxis\": \"y\"}],                        {\"legend\": {\"itemsizing\": \"constant\", \"title\": {\"text\": \"Group\"}, \"tracegroupgap\": 0}, \"margin\": {\"t\": 60}, \"sliders\": [{\"active\": 0, \"currentvalue\": {\"prefix\": \"\\u9810\\u4ea4\\u65e5\\u671f=\"}, \"len\": 0.9, \"pad\": {\"b\": 10, \"t\": 60}, \"steps\": [{\"args\": [[\"2019-01\"], {\"frame\": {\"duration\": 0, \"redraw\": false}, \"fromcurrent\": true, \"mode\": \"immediate\", \"transition\": {\"duration\": 0, \"easing\": \"linear\"}}], \"label\": \"2019-01\", \"method\": \"animate\"}, {\"args\": [[\"2019-02\"], {\"frame\": {\"duration\": 0, \"redraw\": false}, \"fromcurrent\": true, \"mode\": \"immediate\", \"transition\": {\"duration\": 0, \"easing\": \"linear\"}}], \"label\": \"2019-02\", \"method\": \"animate\"}, {\"args\": [[\"2019-03\"], {\"frame\": {\"duration\": 0, \"redraw\": false}, \"fromcurrent\": true, \"mode\": \"immediate\", \"transition\": {\"duration\": 0, \"easing\": \"linear\"}}], \"label\": \"2019-03\", \"method\": \"animate\"}, {\"args\": [[\"2019-04\"], {\"frame\": {\"duration\": 0, \"redraw\": false}, \"fromcurrent\": true, \"mode\": \"immediate\", \"transition\": {\"duration\": 0, \"easing\": \"linear\"}}], \"label\": \"2019-04\", \"method\": \"animate\"}, {\"args\": [[\"2019-05\"], {\"frame\": {\"duration\": 0, \"redraw\": false}, \"fromcurrent\": true, \"mode\": \"immediate\", \"transition\": {\"duration\": 0, \"easing\": \"linear\"}}], \"label\": \"2019-05\", \"method\": \"animate\"}, {\"args\": [[\"2019-06\"], {\"frame\": {\"duration\": 0, \"redraw\": false}, \"fromcurrent\": true, \"mode\": \"immediate\", \"transition\": {\"duration\": 0, \"easing\": \"linear\"}}], \"label\": \"2019-06\", \"method\": \"animate\"}, {\"args\": [[\"2019-07\"], {\"frame\": {\"duration\": 0, \"redraw\": false}, \"fromcurrent\": true, \"mode\": \"immediate\", \"transition\": {\"duration\": 0, \"easing\": \"linear\"}}], \"label\": \"2019-07\", \"method\": \"animate\"}, {\"args\": [[\"2019-08\"], {\"frame\": {\"duration\": 0, \"redraw\": false}, \"fromcurrent\": true, \"mode\": \"immediate\", \"transition\": {\"duration\": 0, \"easing\": \"linear\"}}], \"label\": \"2019-08\", \"method\": \"animate\"}, {\"args\": [[\"2019-09\"], {\"frame\": {\"duration\": 0, \"redraw\": false}, \"fromcurrent\": true, \"mode\": \"immediate\", \"transition\": {\"duration\": 0, \"easing\": \"linear\"}}], \"label\": \"2019-09\", \"method\": \"animate\"}, {\"args\": [[\"2019-10\"], {\"frame\": {\"duration\": 0, \"redraw\": false}, \"fromcurrent\": true, \"mode\": \"immediate\", \"transition\": {\"duration\": 0, \"easing\": \"linear\"}}], \"label\": \"2019-10\", \"method\": \"animate\"}, {\"args\": [[\"2019-11\"], {\"frame\": {\"duration\": 0, \"redraw\": false}, \"fromcurrent\": true, \"mode\": \"immediate\", \"transition\": {\"duration\": 0, \"easing\": \"linear\"}}], \"label\": \"2019-11\", \"method\": \"animate\"}, {\"args\": [[\"2019-12\"], {\"frame\": {\"duration\": 0, \"redraw\": false}, \"fromcurrent\": true, \"mode\": \"immediate\", \"transition\": {\"duration\": 0, \"easing\": \"linear\"}}], \"label\": \"2019-12\", \"method\": \"animate\"}, {\"args\": [[\"2020-01\"], {\"frame\": {\"duration\": 0, \"redraw\": false}, \"fromcurrent\": true, \"mode\": \"immediate\", \"transition\": {\"duration\": 0, \"easing\": \"linear\"}}], \"label\": \"2020-01\", \"method\": \"animate\"}, {\"args\": [[\"2020-02\"], {\"frame\": {\"duration\": 0, \"redraw\": false}, \"fromcurrent\": true, \"mode\": \"immediate\", \"transition\": {\"duration\": 0, \"easing\": \"linear\"}}], \"label\": \"2020-02\", \"method\": \"animate\"}, {\"args\": [[\"2020-03\"], {\"frame\": {\"duration\": 0, \"redraw\": false}, \"fromcurrent\": true, \"mode\": \"immediate\", \"transition\": {\"duration\": 0, \"easing\": \"linear\"}}], \"label\": \"2020-03\", \"method\": \"animate\"}, {\"args\": [[\"2020-04\"], {\"frame\": {\"duration\": 0, \"redraw\": false}, \"fromcurrent\": true, \"mode\": \"immediate\", \"transition\": {\"duration\": 0, \"easing\": \"linear\"}}], \"label\": \"2020-04\", \"method\": \"animate\"}, {\"args\": [[\"2020-05\"], {\"frame\": {\"duration\": 0, \"redraw\": false}, \"fromcurrent\": true, \"mode\": \"immediate\", \"transition\": {\"duration\": 0, \"easing\": \"linear\"}}], \"label\": \"2020-05\", \"method\": \"animate\"}, {\"args\": [[\"2020-06\"], {\"frame\": {\"duration\": 0, \"redraw\": false}, \"fromcurrent\": true, \"mode\": \"immediate\", \"transition\": {\"duration\": 0, \"easing\": \"linear\"}}], \"label\": \"2020-06\", \"method\": \"animate\"}, {\"args\": [[\"2020-07\"], {\"frame\": {\"duration\": 0, \"redraw\": false}, \"fromcurrent\": true, \"mode\": \"immediate\", \"transition\": {\"duration\": 0, \"easing\": \"linear\"}}], \"label\": \"2020-07\", \"method\": \"animate\"}, {\"args\": [[\"2020-08\"], {\"frame\": {\"duration\": 0, \"redraw\": false}, \"fromcurrent\": true, \"mode\": \"immediate\", \"transition\": {\"duration\": 0, \"easing\": \"linear\"}}], \"label\": \"2020-08\", \"method\": \"animate\"}, {\"args\": [[\"2020-09\"], {\"frame\": {\"duration\": 0, \"redraw\": false}, \"fromcurrent\": true, \"mode\": \"immediate\", \"transition\": {\"duration\": 0, \"easing\": \"linear\"}}], \"label\": \"2020-09\", \"method\": \"animate\"}, {\"args\": [[\"2020-10\"], {\"frame\": {\"duration\": 0, \"redraw\": false}, \"fromcurrent\": true, \"mode\": \"immediate\", \"transition\": {\"duration\": 0, \"easing\": \"linear\"}}], \"label\": \"2020-10\", \"method\": \"animate\"}, {\"args\": [[\"2020-11\"], {\"frame\": {\"duration\": 0, \"redraw\": false}, \"fromcurrent\": true, \"mode\": \"immediate\", \"transition\": {\"duration\": 0, \"easing\": \"linear\"}}], \"label\": \"2020-11\", \"method\": \"animate\"}, {\"args\": [[\"2020-12\"], {\"frame\": {\"duration\": 0, \"redraw\": false}, \"fromcurrent\": true, \"mode\": \"immediate\", \"transition\": {\"duration\": 0, \"easing\": \"linear\"}}], \"label\": \"2020-12\", \"method\": \"animate\"}], \"x\": 0.1, \"xanchor\": \"left\", \"y\": 0, \"yanchor\": \"top\"}], \"template\": {\"data\": {\"bar\": [{\"error_x\": {\"color\": \"#2a3f5f\"}, \"error_y\": {\"color\": \"#2a3f5f\"}, \"marker\": {\"line\": {\"color\": \"#E5ECF6\", \"width\": 0.5}}, \"type\": \"bar\"}], \"barpolar\": [{\"marker\": {\"line\": {\"color\": \"#E5ECF6\", \"width\": 0.5}}, \"type\": \"barpolar\"}], \"carpet\": [{\"aaxis\": {\"endlinecolor\": \"#2a3f5f\", \"gridcolor\": \"white\", \"linecolor\": \"white\", \"minorgridcolor\": \"white\", \"startlinecolor\": \"#2a3f5f\"}, \"baxis\": {\"endlinecolor\": \"#2a3f5f\", \"gridcolor\": \"white\", \"linecolor\": \"white\", \"minorgridcolor\": \"white\", \"startlinecolor\": \"#2a3f5f\"}, \"type\": \"carpet\"}], \"choropleth\": [{\"colorbar\": {\"outlinewidth\": 0, \"ticks\": \"\"}, \"type\": \"choropleth\"}], \"contour\": [{\"colorbar\": {\"outlinewidth\": 0, \"ticks\": \"\"}, \"colorscale\": [[0.0, \"#0d0887\"], [0.1111111111111111, \"#46039f\"], [0.2222222222222222, \"#7201a8\"], [0.3333333333333333, \"#9c179e\"], [0.4444444444444444, \"#bd3786\"], [0.5555555555555556, \"#d8576b\"], [0.6666666666666666, \"#ed7953\"], [0.7777777777777778, \"#fb9f3a\"], [0.8888888888888888, \"#fdca26\"], [1.0, \"#f0f921\"]], \"type\": \"contour\"}], \"contourcarpet\": [{\"colorbar\": {\"outlinewidth\": 0, \"ticks\": \"\"}, \"type\": \"contourcarpet\"}], \"heatmap\": [{\"colorbar\": {\"outlinewidth\": 0, \"ticks\": \"\"}, \"colorscale\": [[0.0, \"#0d0887\"], [0.1111111111111111, \"#46039f\"], [0.2222222222222222, \"#7201a8\"], [0.3333333333333333, \"#9c179e\"], [0.4444444444444444, \"#bd3786\"], [0.5555555555555556, \"#d8576b\"], [0.6666666666666666, \"#ed7953\"], [0.7777777777777778, \"#fb9f3a\"], [0.8888888888888888, \"#fdca26\"], [1.0, \"#f0f921\"]], \"type\": \"heatmap\"}], \"heatmapgl\": [{\"colorbar\": {\"outlinewidth\": 0, \"ticks\": \"\"}, \"colorscale\": [[0.0, \"#0d0887\"], [0.1111111111111111, \"#46039f\"], [0.2222222222222222, \"#7201a8\"], [0.3333333333333333, \"#9c179e\"], [0.4444444444444444, \"#bd3786\"], [0.5555555555555556, \"#d8576b\"], [0.6666666666666666, \"#ed7953\"], [0.7777777777777778, \"#fb9f3a\"], [0.8888888888888888, \"#fdca26\"], [1.0, \"#f0f921\"]], \"type\": \"heatmapgl\"}], \"histogram\": [{\"marker\": {\"colorbar\": {\"outlinewidth\": 0, \"ticks\": \"\"}}, \"type\": \"histogram\"}], \"histogram2d\": [{\"colorbar\": {\"outlinewidth\": 0, \"ticks\": \"\"}, \"colorscale\": [[0.0, \"#0d0887\"], [0.1111111111111111, \"#46039f\"], [0.2222222222222222, \"#7201a8\"], [0.3333333333333333, \"#9c179e\"], [0.4444444444444444, \"#bd3786\"], [0.5555555555555556, \"#d8576b\"], [0.6666666666666666, \"#ed7953\"], [0.7777777777777778, \"#fb9f3a\"], [0.8888888888888888, \"#fdca26\"], [1.0, \"#f0f921\"]], \"type\": \"histogram2d\"}], \"histogram2dcontour\": [{\"colorbar\": {\"outlinewidth\": 0, \"ticks\": \"\"}, \"colorscale\": [[0.0, \"#0d0887\"], [0.1111111111111111, \"#46039f\"], [0.2222222222222222, \"#7201a8\"], [0.3333333333333333, \"#9c179e\"], [0.4444444444444444, \"#bd3786\"], [0.5555555555555556, \"#d8576b\"], [0.6666666666666666, \"#ed7953\"], [0.7777777777777778, \"#fb9f3a\"], [0.8888888888888888, \"#fdca26\"], [1.0, \"#f0f921\"]], \"type\": \"histogram2dcontour\"}], \"mesh3d\": [{\"colorbar\": {\"outlinewidth\": 0, \"ticks\": \"\"}, \"type\": \"mesh3d\"}], \"parcoords\": [{\"line\": {\"colorbar\": {\"outlinewidth\": 0, \"ticks\": \"\"}}, \"type\": \"parcoords\"}], \"pie\": [{\"automargin\": true, \"type\": \"pie\"}], \"scatter\": [{\"marker\": {\"colorbar\": {\"outlinewidth\": 0, \"ticks\": \"\"}}, \"type\": \"scatter\"}], \"scatter3d\": [{\"line\": {\"colorbar\": {\"outlinewidth\": 0, \"ticks\": \"\"}}, \"marker\": {\"colorbar\": {\"outlinewidth\": 0, \"ticks\": \"\"}}, \"type\": \"scatter3d\"}], \"scattercarpet\": [{\"marker\": {\"colorbar\": {\"outlinewidth\": 0, \"ticks\": \"\"}}, \"type\": \"scattercarpet\"}], \"scattergeo\": [{\"marker\": {\"colorbar\": {\"outlinewidth\": 0, \"ticks\": \"\"}}, \"type\": \"scattergeo\"}], \"scattergl\": [{\"marker\": {\"colorbar\": {\"outlinewidth\": 0, \"ticks\": \"\"}}, \"type\": \"scattergl\"}], \"scattermapbox\": [{\"marker\": {\"colorbar\": {\"outlinewidth\": 0, \"ticks\": \"\"}}, \"type\": \"scattermapbox\"}], \"scatterpolar\": [{\"marker\": {\"colorbar\": {\"outlinewidth\": 0, \"ticks\": \"\"}}, \"type\": \"scatterpolar\"}], \"scatterpolargl\": [{\"marker\": {\"colorbar\": {\"outlinewidth\": 0, \"ticks\": \"\"}}, \"type\": \"scatterpolargl\"}], \"scatterternary\": [{\"marker\": {\"colorbar\": {\"outlinewidth\": 0, \"ticks\": \"\"}}, \"type\": \"scatterternary\"}], \"surface\": [{\"colorbar\": {\"outlinewidth\": 0, \"ticks\": \"\"}, \"colorscale\": [[0.0, \"#0d0887\"], [0.1111111111111111, \"#46039f\"], [0.2222222222222222, \"#7201a8\"], [0.3333333333333333, \"#9c179e\"], [0.4444444444444444, \"#bd3786\"], [0.5555555555555556, \"#d8576b\"], [0.6666666666666666, \"#ed7953\"], [0.7777777777777778, \"#fb9f3a\"], [0.8888888888888888, \"#fdca26\"], [1.0, \"#f0f921\"]], \"type\": \"surface\"}], \"table\": [{\"cells\": {\"fill\": {\"color\": \"#EBF0F8\"}, \"line\": {\"color\": \"white\"}}, \"header\": {\"fill\": {\"color\": \"#C8D4E3\"}, \"line\": {\"color\": \"white\"}}, \"type\": \"table\"}]}, \"layout\": {\"annotationdefaults\": {\"arrowcolor\": \"#2a3f5f\", \"arrowhead\": 0, \"arrowwidth\": 1}, \"coloraxis\": {\"colorbar\": {\"outlinewidth\": 0, \"ticks\": \"\"}}, \"colorscale\": {\"diverging\": [[0, \"#8e0152\"], [0.1, \"#c51b7d\"], [0.2, \"#de77ae\"], [0.3, \"#f1b6da\"], [0.4, \"#fde0ef\"], [0.5, \"#f7f7f7\"], [0.6, \"#e6f5d0\"], [0.7, \"#b8e186\"], [0.8, \"#7fbc41\"], [0.9, \"#4d9221\"], [1, \"#276419\"]], \"sequential\": [[0.0, \"#0d0887\"], [0.1111111111111111, \"#46039f\"], [0.2222222222222222, \"#7201a8\"], [0.3333333333333333, \"#9c179e\"], [0.4444444444444444, \"#bd3786\"], [0.5555555555555556, \"#d8576b\"], [0.6666666666666666, \"#ed7953\"], [0.7777777777777778, \"#fb9f3a\"], [0.8888888888888888, \"#fdca26\"], [1.0, \"#f0f921\"]], \"sequentialminus\": [[0.0, \"#0d0887\"], [0.1111111111111111, \"#46039f\"], [0.2222222222222222, \"#7201a8\"], [0.3333333333333333, \"#9c179e\"], [0.4444444444444444, \"#bd3786\"], [0.5555555555555556, \"#d8576b\"], [0.6666666666666666, \"#ed7953\"], [0.7777777777777778, \"#fb9f3a\"], [0.8888888888888888, \"#fdca26\"], [1.0, \"#f0f921\"]]}, \"colorway\": [\"#636efa\", \"#EF553B\", \"#00cc96\", \"#ab63fa\", \"#FFA15A\", \"#19d3f3\", \"#FF6692\", \"#B6E880\", \"#FF97FF\", \"#FECB52\"], \"font\": {\"color\": \"#2a3f5f\"}, \"geo\": {\"bgcolor\": \"white\", \"lakecolor\": \"white\", \"landcolor\": \"#E5ECF6\", \"showlakes\": true, \"showland\": true, \"subunitcolor\": \"white\"}, \"hoverlabel\": {\"align\": \"left\"}, \"hovermode\": \"closest\", \"mapbox\": {\"style\": \"light\"}, \"paper_bgcolor\": \"white\", \"plot_bgcolor\": \"#E5ECF6\", \"polar\": {\"angularaxis\": {\"gridcolor\": \"white\", \"linecolor\": \"white\", \"ticks\": \"\"}, \"bgcolor\": \"#E5ECF6\", \"radialaxis\": {\"gridcolor\": \"white\", \"linecolor\": \"white\", \"ticks\": \"\"}}, \"scene\": {\"xaxis\": {\"backgroundcolor\": \"#E5ECF6\", \"gridcolor\": \"white\", \"gridwidth\": 2, \"linecolor\": \"white\", \"showbackground\": true, \"ticks\": \"\", \"zerolinecolor\": \"white\"}, \"yaxis\": {\"backgroundcolor\": \"#E5ECF6\", \"gridcolor\": \"white\", \"gridwidth\": 2, \"linecolor\": \"white\", \"showbackground\": true, \"ticks\": \"\", \"zerolinecolor\": \"white\"}, \"zaxis\": {\"backgroundcolor\": \"#E5ECF6\", \"gridcolor\": \"white\", \"gridwidth\": 2, \"linecolor\": \"white\", \"showbackground\": true, \"ticks\": \"\", \"zerolinecolor\": \"white\"}}, \"shapedefaults\": {\"line\": {\"color\": \"#2a3f5f\"}}, \"ternary\": {\"aaxis\": {\"gridcolor\": \"white\", \"linecolor\": \"white\", \"ticks\": \"\"}, \"baxis\": {\"gridcolor\": \"white\", \"linecolor\": \"white\", \"ticks\": \"\"}, \"bgcolor\": \"#E5ECF6\", \"caxis\": {\"gridcolor\": \"white\", \"linecolor\": \"white\", \"ticks\": \"\"}}, \"title\": {\"x\": 0.05}, \"xaxis\": {\"automargin\": true, \"gridcolor\": \"white\", \"linecolor\": \"white\", \"ticks\": \"\", \"title\": {\"standoff\": 15}, \"zerolinecolor\": \"white\", \"zerolinewidth\": 2}, \"yaxis\": {\"automargin\": true, \"gridcolor\": \"white\", \"linecolor\": \"white\", \"ticks\": \"\", \"title\": {\"standoff\": 15}, \"zerolinecolor\": \"white\", \"zerolinewidth\": 2}}}, \"updatemenus\": [{\"buttons\": [{\"args\": [null, {\"frame\": {\"duration\": 500, \"redraw\": false}, \"fromcurrent\": true, \"mode\": \"immediate\", \"transition\": {\"duration\": 500, \"easing\": \"linear\"}}], \"label\": \"&#9654;\", \"method\": \"animate\"}, {\"args\": [[null], {\"frame\": {\"duration\": 0, \"redraw\": false}, \"fromcurrent\": true, \"mode\": \"immediate\", \"transition\": {\"duration\": 0, \"easing\": \"linear\"}}], \"label\": \"&#9724;\", \"method\": \"animate\"}], \"direction\": \"left\", \"pad\": {\"r\": 10, \"t\": 70}, \"showactive\": false, \"type\": \"buttons\", \"x\": 0.1, \"xanchor\": \"right\", \"y\": 0, \"yanchor\": \"top\"}], \"xaxis\": {\"anchor\": \"y\", \"domain\": [0.0, 1.0], \"range\": [-10, 30000000], \"title\": {\"text\": \"\\u6578\\u91cf\"}}, \"yaxis\": {\"anchor\": \"x\", \"domain\": [0.0, 1.0], \"range\": [0, 3000000], \"title\": {\"text\": \"\\u672c\\u570b\\u5e63\\u5225NTD\"}}},                        {\"responsive\": true}                    ).then(function(){\n",
       "                            Plotly.addFrames('7958c280-dd5f-45c3-b609-f32486b6a109', [{\"data\": [{\"hovertemplate\": \"<b>%{hovertext}</b><br><br>Group=%{text}<br>\\u9810\\u4ea4\\u65e5\\u671f=2019-01<br>\\u6578\\u91cf=%{x}<br>\\u672c\\u570b\\u5e63\\u5225NTD=%{marker.size}<extra></extra>\", \"hovertext\": [\"\\u83ef\\u65b0\\u79d1\\u6280\"], \"legendgroup\": \"\\u83ef\\u65b0\\u79d1\\u6280\", \"marker\": {\"color\": \"#1F77B4\", \"size\": [89782.04], \"sizemode\": \"area\", \"sizeref\": 819.77088, \"symbol\": \"circle\"}, \"mode\": \"markers+text\", \"name\": \"\\u83ef\\u65b0\\u79d1\\u6280\", \"orientation\": \"v\", \"showlegend\": true, \"text\": [\"\\u83ef\\u65b0\\u79d1\\u6280\"], \"x\": [2550000.0], \"xaxis\": \"x\", \"y\": [89782.04], \"yaxis\": \"y\", \"type\": \"scatter\"}], \"name\": \"2019-01\"}, {\"data\": [{\"hovertemplate\": \"<b>%{hovertext}</b><br><br>Group=%{text}<br>\\u9810\\u4ea4\\u65e5\\u671f=2019-02<br>\\u6578\\u91cf=%{x}<br>\\u672c\\u570b\\u5e63\\u5225NTD=%{marker.size}<extra></extra>\", \"hovertext\": [\"\\u83ef\\u65b0\\u79d1\\u6280\"], \"legendgroup\": \"\\u83ef\\u65b0\\u79d1\\u6280\", \"marker\": {\"color\": \"#1F77B4\", \"size\": [7282.509999999998], \"sizemode\": \"area\", \"sizeref\": 819.77088, \"symbol\": \"circle\"}, \"mode\": \"markers+text\", \"name\": \"\\u83ef\\u65b0\\u79d1\\u6280\", \"orientation\": \"v\", \"showlegend\": true, \"text\": [\"\\u83ef\\u65b0\\u79d1\\u6280\"], \"x\": [151000.0], \"xaxis\": \"x\", \"y\": [7282.509999999998], \"yaxis\": \"y\", \"type\": \"scatter\"}], \"name\": \"2019-02\"}, {\"data\": [{\"hovertemplate\": \"<b>%{hovertext}</b><br><br>Group=%{text}<br>\\u9810\\u4ea4\\u65e5\\u671f=2019-03<br>\\u6578\\u91cf=%{x}<br>\\u672c\\u570b\\u5e63\\u5225NTD=%{marker.size}<extra></extra>\", \"hovertext\": [\"\\u83ef\\u65b0\\u79d1\\u6280\"], \"legendgroup\": \"\\u83ef\\u65b0\\u79d1\\u6280\", \"marker\": {\"color\": \"#1F77B4\", \"size\": [582091.4300000004], \"sizemode\": \"area\", \"sizeref\": 819.77088, \"symbol\": \"circle\"}, \"mode\": \"markers+text\", \"name\": \"\\u83ef\\u65b0\\u79d1\\u6280\", \"orientation\": \"v\", \"showlegend\": true, \"text\": [\"\\u83ef\\u65b0\\u79d1\\u6280\"], \"x\": [7517802.0], \"xaxis\": \"x\", \"y\": [582091.4300000004], \"yaxis\": \"y\", \"type\": \"scatter\"}], \"name\": \"2019-03\"}, {\"data\": [{\"hovertemplate\": \"<b>%{hovertext}</b><br><br>Group=%{text}<br>\\u9810\\u4ea4\\u65e5\\u671f=2019-04<br>\\u6578\\u91cf=%{x}<br>\\u672c\\u570b\\u5e63\\u5225NTD=%{marker.size}<extra></extra>\", \"hovertext\": [\"\\u83ef\\u65b0\\u79d1\\u6280\"], \"legendgroup\": \"\\u83ef\\u65b0\\u79d1\\u6280\", \"marker\": {\"color\": \"#1F77B4\", \"size\": [122236.28000000003], \"sizemode\": \"area\", \"sizeref\": 819.77088, \"symbol\": \"circle\"}, \"mode\": \"markers+text\", \"name\": \"\\u83ef\\u65b0\\u79d1\\u6280\", \"orientation\": \"v\", \"showlegend\": true, \"text\": [\"\\u83ef\\u65b0\\u79d1\\u6280\"], \"x\": [3267000.0], \"xaxis\": \"x\", \"y\": [122236.28000000003], \"yaxis\": \"y\", \"type\": \"scatter\"}], \"name\": \"2019-04\"}, {\"data\": [{\"hovertemplate\": \"<b>%{hovertext}</b><br><br>Group=%{text}<br>\\u9810\\u4ea4\\u65e5\\u671f=2019-05<br>\\u6578\\u91cf=%{x}<br>\\u672c\\u570b\\u5e63\\u5225NTD=%{marker.size}<extra></extra>\", \"hovertext\": [\"\\u83ef\\u65b0\\u79d1\\u6280\"], \"legendgroup\": \"\\u83ef\\u65b0\\u79d1\\u6280\", \"marker\": {\"color\": \"#1F77B4\", \"size\": [103749.46999999999], \"sizemode\": \"area\", \"sizeref\": 819.77088, \"symbol\": \"circle\"}, \"mode\": \"markers+text\", \"name\": \"\\u83ef\\u65b0\\u79d1\\u6280\", \"orientation\": \"v\", \"showlegend\": true, \"text\": [\"\\u83ef\\u65b0\\u79d1\\u6280\"], \"x\": [2488000.0], \"xaxis\": \"x\", \"y\": [103749.46999999999], \"yaxis\": \"y\", \"type\": \"scatter\"}], \"name\": \"2019-05\"}, {\"data\": [{\"hovertemplate\": \"<b>%{hovertext}</b><br><br>Group=%{text}<br>\\u9810\\u4ea4\\u65e5\\u671f=2019-06<br>\\u6578\\u91cf=%{x}<br>\\u672c\\u570b\\u5e63\\u5225NTD=%{marker.size}<extra></extra>\", \"hovertext\": [\"\\u83ef\\u65b0\\u79d1\\u6280\"], \"legendgroup\": \"\\u83ef\\u65b0\\u79d1\\u6280\", \"marker\": {\"color\": \"#1F77B4\", \"size\": [120417.30000000006], \"sizemode\": \"area\", \"sizeref\": 819.77088, \"symbol\": \"circle\"}, \"mode\": \"markers+text\", \"name\": \"\\u83ef\\u65b0\\u79d1\\u6280\", \"orientation\": \"v\", \"showlegend\": true, \"text\": [\"\\u83ef\\u65b0\\u79d1\\u6280\"], \"x\": [2776000.0], \"xaxis\": \"x\", \"y\": [120417.30000000006], \"yaxis\": \"y\", \"type\": \"scatter\"}], \"name\": \"2019-06\"}, {\"data\": [{\"hovertemplate\": \"<b>%{hovertext}</b><br><br>Group=%{text}<br>\\u9810\\u4ea4\\u65e5\\u671f=2019-07<br>\\u6578\\u91cf=%{x}<br>\\u672c\\u570b\\u5e63\\u5225NTD=%{marker.size}<extra></extra>\", \"hovertext\": [\"\\u83ef\\u65b0\\u79d1\\u6280\"], \"legendgroup\": \"\\u83ef\\u65b0\\u79d1\\u6280\", \"marker\": {\"color\": \"#1F77B4\", \"size\": [107032.64999999998], \"sizemode\": \"area\", \"sizeref\": 819.77088, \"symbol\": \"circle\"}, \"mode\": \"markers+text\", \"name\": \"\\u83ef\\u65b0\\u79d1\\u6280\", \"orientation\": \"v\", \"showlegend\": true, \"text\": [\"\\u83ef\\u65b0\\u79d1\\u6280\"], \"x\": [2757000.0], \"xaxis\": \"x\", \"y\": [107032.64999999998], \"yaxis\": \"y\", \"type\": \"scatter\"}], \"name\": \"2019-07\"}, {\"data\": [{\"hovertemplate\": \"<b>%{hovertext}</b><br><br>Group=%{text}<br>\\u9810\\u4ea4\\u65e5\\u671f=2019-08<br>\\u6578\\u91cf=%{x}<br>\\u672c\\u570b\\u5e63\\u5225NTD=%{marker.size}<extra></extra>\", \"hovertext\": [\"\\u83ef\\u65b0\\u79d1\\u6280\"], \"legendgroup\": \"\\u83ef\\u65b0\\u79d1\\u6280\", \"marker\": {\"color\": \"#1F77B4\", \"size\": [324262.2300000001], \"sizemode\": \"area\", \"sizeref\": 819.77088, \"symbol\": \"circle\"}, \"mode\": \"markers+text\", \"name\": \"\\u83ef\\u65b0\\u79d1\\u6280\", \"orientation\": \"v\", \"showlegend\": true, \"text\": [\"\\u83ef\\u65b0\\u79d1\\u6280\"], \"x\": [6621000.0], \"xaxis\": \"x\", \"y\": [324262.2300000001], \"yaxis\": \"y\", \"type\": \"scatter\"}], \"name\": \"2019-08\"}, {\"data\": [{\"hovertemplate\": \"<b>%{hovertext}</b><br><br>Group=%{text}<br>\\u9810\\u4ea4\\u65e5\\u671f=2019-09<br>\\u6578\\u91cf=%{x}<br>\\u672c\\u570b\\u5e63\\u5225NTD=%{marker.size}<extra></extra>\", \"hovertext\": [\"\\u83ef\\u65b0\\u79d1\\u6280\"], \"legendgroup\": \"\\u83ef\\u65b0\\u79d1\\u6280\", \"marker\": {\"color\": \"#1F77B4\", \"size\": [209839.87], \"sizemode\": \"area\", \"sizeref\": 819.77088, \"symbol\": \"circle\"}, \"mode\": \"markers+text\", \"name\": \"\\u83ef\\u65b0\\u79d1\\u6280\", \"orientation\": \"v\", \"showlegend\": true, \"text\": [\"\\u83ef\\u65b0\\u79d1\\u6280\"], \"x\": [3878000.0], \"xaxis\": \"x\", \"y\": [209839.87], \"yaxis\": \"y\", \"type\": \"scatter\"}], \"name\": \"2019-09\"}, {\"data\": [{\"hovertemplate\": \"<b>%{hovertext}</b><br><br>Group=%{text}<br>\\u9810\\u4ea4\\u65e5\\u671f=2019-10<br>\\u6578\\u91cf=%{x}<br>\\u672c\\u570b\\u5e63\\u5225NTD=%{marker.size}<extra></extra>\", \"hovertext\": [\"\\u83ef\\u65b0\\u79d1\\u6280\"], \"legendgroup\": \"\\u83ef\\u65b0\\u79d1\\u6280\", \"marker\": {\"color\": \"#1F77B4\", \"size\": [185884.38], \"sizemode\": \"area\", \"sizeref\": 819.77088, \"symbol\": \"circle\"}, \"mode\": \"markers+text\", \"name\": \"\\u83ef\\u65b0\\u79d1\\u6280\", \"orientation\": \"v\", \"showlegend\": true, \"text\": [\"\\u83ef\\u65b0\\u79d1\\u6280\"], \"x\": [2581000.0], \"xaxis\": \"x\", \"y\": [185884.38], \"yaxis\": \"y\", \"type\": \"scatter\"}], \"name\": \"2019-10\"}, {\"data\": [{\"hovertemplate\": \"<b>%{hovertext}</b><br><br>Group=%{text}<br>\\u9810\\u4ea4\\u65e5\\u671f=2019-11<br>\\u6578\\u91cf=%{x}<br>\\u672c\\u570b\\u5e63\\u5225NTD=%{marker.size}<extra></extra>\", \"hovertext\": [\"\\u83ef\\u65b0\\u79d1\\u6280\"], \"legendgroup\": \"\\u83ef\\u65b0\\u79d1\\u6280\", \"marker\": {\"color\": \"#1F77B4\", \"size\": [242235.86000000007], \"sizemode\": \"area\", \"sizeref\": 819.77088, \"symbol\": \"circle\"}, \"mode\": \"markers+text\", \"name\": \"\\u83ef\\u65b0\\u79d1\\u6280\", \"orientation\": \"v\", \"showlegend\": true, \"text\": [\"\\u83ef\\u65b0\\u79d1\\u6280\"], \"x\": [5187000.0], \"xaxis\": \"x\", \"y\": [242235.86000000007], \"yaxis\": \"y\", \"type\": \"scatter\"}], \"name\": \"2019-11\"}, {\"data\": [{\"hovertemplate\": \"<b>%{hovertext}</b><br><br>Group=%{text}<br>\\u9810\\u4ea4\\u65e5\\u671f=2019-12<br>\\u6578\\u91cf=%{x}<br>\\u672c\\u570b\\u5e63\\u5225NTD=%{marker.size}<extra></extra>\", \"hovertext\": [\"\\u83ef\\u65b0\\u79d1\\u6280\"], \"legendgroup\": \"\\u83ef\\u65b0\\u79d1\\u6280\", \"marker\": {\"color\": \"#1F77B4\", \"size\": [320042.9599999999], \"sizemode\": \"area\", \"sizeref\": 819.77088, \"symbol\": \"circle\"}, \"mode\": \"markers+text\", \"name\": \"\\u83ef\\u65b0\\u79d1\\u6280\", \"orientation\": \"v\", \"showlegend\": true, \"text\": [\"\\u83ef\\u65b0\\u79d1\\u6280\"], \"x\": [6283000.0], \"xaxis\": \"x\", \"y\": [320042.9599999999], \"yaxis\": \"y\", \"type\": \"scatter\"}], \"name\": \"2019-12\"}, {\"data\": [{\"hovertemplate\": \"<b>%{hovertext}</b><br><br>Group=%{text}<br>\\u9810\\u4ea4\\u65e5\\u671f=2020-01<br>\\u6578\\u91cf=%{x}<br>\\u672c\\u570b\\u5e63\\u5225NTD=%{marker.size}<extra></extra>\", \"hovertext\": [\"\\u83ef\\u65b0\\u79d1\\u6280\"], \"legendgroup\": \"\\u83ef\\u65b0\\u79d1\\u6280\", \"marker\": {\"color\": \"#1F77B4\", \"size\": [486612.62000000005], \"sizemode\": \"area\", \"sizeref\": 819.77088, \"symbol\": \"circle\"}, \"mode\": \"markers+text\", \"name\": \"\\u83ef\\u65b0\\u79d1\\u6280\", \"orientation\": \"v\", \"showlegend\": true, \"text\": [\"\\u83ef\\u65b0\\u79d1\\u6280\"], \"x\": [4878040.0], \"xaxis\": \"x\", \"y\": [486612.62000000005], \"yaxis\": \"y\", \"type\": \"scatter\"}], \"name\": \"2020-01\"}, {\"data\": [{\"hovertemplate\": \"<b>%{hovertext}</b><br><br>Group=%{text}<br>\\u9810\\u4ea4\\u65e5\\u671f=2020-02<br>\\u6578\\u91cf=%{x}<br>\\u672c\\u570b\\u5e63\\u5225NTD=%{marker.size}<extra></extra>\", \"hovertext\": [\"\\u83ef\\u65b0\\u79d1\\u6280\"], \"legendgroup\": \"\\u83ef\\u65b0\\u79d1\\u6280\", \"marker\": {\"color\": \"#1F77B4\", \"size\": [458606.5400000001], \"sizemode\": \"area\", \"sizeref\": 819.77088, \"symbol\": \"circle\"}, \"mode\": \"markers+text\", \"name\": \"\\u83ef\\u65b0\\u79d1\\u6280\", \"orientation\": \"v\", \"showlegend\": true, \"text\": [\"\\u83ef\\u65b0\\u79d1\\u6280\"], \"x\": [3931000.0], \"xaxis\": \"x\", \"y\": [458606.5400000001], \"yaxis\": \"y\", \"type\": \"scatter\"}], \"name\": \"2020-02\"}, {\"data\": [{\"hovertemplate\": \"<b>%{hovertext}</b><br><br>Group=%{text}<br>\\u9810\\u4ea4\\u65e5\\u671f=2020-03<br>\\u6578\\u91cf=%{x}<br>\\u672c\\u570b\\u5e63\\u5225NTD=%{marker.size}<extra></extra>\", \"hovertext\": [\"\\u83ef\\u65b0\\u79d1\\u6280\"], \"legendgroup\": \"\\u83ef\\u65b0\\u79d1\\u6280\", \"marker\": {\"color\": \"#1F77B4\", \"size\": [378742.7], \"sizemode\": \"area\", \"sizeref\": 819.77088, \"symbol\": \"circle\"}, \"mode\": \"markers+text\", \"name\": \"\\u83ef\\u65b0\\u79d1\\u6280\", \"orientation\": \"v\", \"showlegend\": true, \"text\": [\"\\u83ef\\u65b0\\u79d1\\u6280\"], \"x\": [5199000.0], \"xaxis\": \"x\", \"y\": [378742.7], \"yaxis\": \"y\", \"type\": \"scatter\"}], \"name\": \"2020-03\"}, {\"data\": [{\"hovertemplate\": \"<b>%{hovertext}</b><br><br>Group=%{text}<br>\\u9810\\u4ea4\\u65e5\\u671f=2020-04<br>\\u6578\\u91cf=%{x}<br>\\u672c\\u570b\\u5e63\\u5225NTD=%{marker.size}<extra></extra>\", \"hovertext\": [\"\\u83ef\\u65b0\\u79d1\\u6280\"], \"legendgroup\": \"\\u83ef\\u65b0\\u79d1\\u6280\", \"marker\": {\"color\": \"#1F77B4\", \"size\": [295244.3], \"sizemode\": \"area\", \"sizeref\": 819.77088, \"symbol\": \"circle\"}, \"mode\": \"markers+text\", \"name\": \"\\u83ef\\u65b0\\u79d1\\u6280\", \"orientation\": \"v\", \"showlegend\": true, \"text\": [\"\\u83ef\\u65b0\\u79d1\\u6280\"], \"x\": [6322000.0], \"xaxis\": \"x\", \"y\": [295244.3], \"yaxis\": \"y\", \"type\": \"scatter\"}], \"name\": \"2020-04\"}, {\"data\": [{\"hovertemplate\": \"<b>%{hovertext}</b><br><br>Group=%{text}<br>\\u9810\\u4ea4\\u65e5\\u671f=2020-05<br>\\u6578\\u91cf=%{x}<br>\\u672c\\u570b\\u5e63\\u5225NTD=%{marker.size}<extra></extra>\", \"hovertext\": [\"\\u83ef\\u65b0\\u79d1\\u6280\"], \"legendgroup\": \"\\u83ef\\u65b0\\u79d1\\u6280\", \"marker\": {\"color\": \"#1F77B4\", \"size\": [517584.1], \"sizemode\": \"area\", \"sizeref\": 819.77088, \"symbol\": \"circle\"}, \"mode\": \"markers+text\", \"name\": \"\\u83ef\\u65b0\\u79d1\\u6280\", \"orientation\": \"v\", \"showlegend\": true, \"text\": [\"\\u83ef\\u65b0\\u79d1\\u6280\"], \"x\": [12942000.0], \"xaxis\": \"x\", \"y\": [517584.1], \"yaxis\": \"y\", \"type\": \"scatter\"}], \"name\": \"2020-05\"}, {\"data\": [{\"hovertemplate\": \"<b>%{hovertext}</b><br><br>Group=%{text}<br>\\u9810\\u4ea4\\u65e5\\u671f=2020-06<br>\\u6578\\u91cf=%{x}<br>\\u672c\\u570b\\u5e63\\u5225NTD=%{marker.size}<extra></extra>\", \"hovertext\": [\"\\u83ef\\u65b0\\u79d1\\u6280\"], \"legendgroup\": \"\\u83ef\\u65b0\\u79d1\\u6280\", \"marker\": {\"color\": \"#1F77B4\", \"size\": [405879.0], \"sizemode\": \"area\", \"sizeref\": 819.77088, \"symbol\": \"circle\"}, \"mode\": \"markers+text\", \"name\": \"\\u83ef\\u65b0\\u79d1\\u6280\", \"orientation\": \"v\", \"showlegend\": true, \"text\": [\"\\u83ef\\u65b0\\u79d1\\u6280\"], \"x\": [6901000.0], \"xaxis\": \"x\", \"y\": [405879.0], \"yaxis\": \"y\", \"type\": \"scatter\"}], \"name\": \"2020-06\"}, {\"data\": [{\"hovertemplate\": \"<b>%{hovertext}</b><br><br>Group=%{text}<br>\\u9810\\u4ea4\\u65e5\\u671f=2020-07<br>\\u6578\\u91cf=%{x}<br>\\u672c\\u570b\\u5e63\\u5225NTD=%{marker.size}<extra></extra>\", \"hovertext\": [\"\\u83ef\\u65b0\\u79d1\\u6280\"], \"legendgroup\": \"\\u83ef\\u65b0\\u79d1\\u6280\", \"marker\": {\"color\": \"#1F77B4\", \"size\": [638894.0], \"sizemode\": \"area\", \"sizeref\": 819.77088, \"symbol\": \"circle\"}, \"mode\": \"markers+text\", \"name\": \"\\u83ef\\u65b0\\u79d1\\u6280\", \"orientation\": \"v\", \"showlegend\": true, \"text\": [\"\\u83ef\\u65b0\\u79d1\\u6280\"], \"x\": [12052002.0], \"xaxis\": \"x\", \"y\": [638894.0], \"yaxis\": \"y\", \"type\": \"scatter\"}], \"name\": \"2020-07\"}, {\"data\": [{\"hovertemplate\": \"<b>%{hovertext}</b><br><br>Group=%{text}<br>\\u9810\\u4ea4\\u65e5\\u671f=2020-08<br>\\u6578\\u91cf=%{x}<br>\\u672c\\u570b\\u5e63\\u5225NTD=%{marker.size}<extra></extra>\", \"hovertext\": [\"\\u83ef\\u65b0\\u79d1\\u6280\"], \"legendgroup\": \"\\u83ef\\u65b0\\u79d1\\u6280\", \"marker\": {\"color\": \"#1F77B4\", \"size\": [1036610.127], \"sizemode\": \"area\", \"sizeref\": 819.77088, \"symbol\": \"circle\"}, \"mode\": \"markers+text\", \"name\": \"\\u83ef\\u65b0\\u79d1\\u6280\", \"orientation\": \"v\", \"showlegend\": true, \"text\": [\"\\u83ef\\u65b0\\u79d1\\u6280\"], \"x\": [13174000.0], \"xaxis\": \"x\", \"y\": [1036610.127], \"yaxis\": \"y\", \"type\": \"scatter\"}], \"name\": \"2020-08\"}, {\"data\": [{\"hovertemplate\": \"<b>%{hovertext}</b><br><br>Group=%{text}<br>\\u9810\\u4ea4\\u65e5\\u671f=2020-09<br>\\u6578\\u91cf=%{x}<br>\\u672c\\u570b\\u5e63\\u5225NTD=%{marker.size}<extra></extra>\", \"hovertext\": [\"\\u83ef\\u65b0\\u79d1\\u6280\"], \"legendgroup\": \"\\u83ef\\u65b0\\u79d1\\u6280\", \"marker\": {\"color\": \"#1F77B4\", \"size\": [993248.835], \"sizemode\": \"area\", \"sizeref\": 819.77088, \"symbol\": \"circle\"}, \"mode\": \"markers+text\", \"name\": \"\\u83ef\\u65b0\\u79d1\\u6280\", \"orientation\": \"v\", \"showlegend\": true, \"text\": [\"\\u83ef\\u65b0\\u79d1\\u6280\"], \"x\": [14612000.0], \"xaxis\": \"x\", \"y\": [993248.835], \"yaxis\": \"y\", \"type\": \"scatter\"}], \"name\": \"2020-09\"}, {\"data\": [{\"hovertemplate\": \"<b>%{hovertext}</b><br><br>Group=%{text}<br>\\u9810\\u4ea4\\u65e5\\u671f=2020-10<br>\\u6578\\u91cf=%{x}<br>\\u672c\\u570b\\u5e63\\u5225NTD=%{marker.size}<extra></extra>\", \"hovertext\": [\"\\u83ef\\u65b0\\u79d1\\u6280\"], \"legendgroup\": \"\\u83ef\\u65b0\\u79d1\\u6280\", \"marker\": {\"color\": \"#1F77B4\", \"size\": [1696517.256], \"sizemode\": \"area\", \"sizeref\": 819.77088, \"symbol\": \"circle\"}, \"mode\": \"markers+text\", \"name\": \"\\u83ef\\u65b0\\u79d1\\u6280\", \"orientation\": \"v\", \"showlegend\": true, \"text\": [\"\\u83ef\\u65b0\\u79d1\\u6280\"], \"x\": [21513000.0], \"xaxis\": \"x\", \"y\": [1696517.256], \"yaxis\": \"y\", \"type\": \"scatter\"}], \"name\": \"2020-10\"}, {\"data\": [{\"hovertemplate\": \"<b>%{hovertext}</b><br><br>Group=%{text}<br>\\u9810\\u4ea4\\u65e5\\u671f=2020-11<br>\\u6578\\u91cf=%{x}<br>\\u672c\\u570b\\u5e63\\u5225NTD=%{marker.size}<extra></extra>\", \"hovertext\": [\"\\u83ef\\u65b0\\u79d1\\u6280\"], \"legendgroup\": \"\\u83ef\\u65b0\\u79d1\\u6280\", \"marker\": {\"color\": \"#1F77B4\", \"size\": [1270009.0389999999], \"sizemode\": \"area\", \"sizeref\": 819.77088, \"symbol\": \"circle\"}, \"mode\": \"markers+text\", \"name\": \"\\u83ef\\u65b0\\u79d1\\u6280\", \"orientation\": \"v\", \"showlegend\": true, \"text\": [\"\\u83ef\\u65b0\\u79d1\\u6280\"], \"x\": [13202000.0], \"xaxis\": \"x\", \"y\": [1270009.0389999999], \"yaxis\": \"y\", \"type\": \"scatter\"}], \"name\": \"2020-11\"}, {\"data\": [{\"hovertemplate\": \"<b>%{hovertext}</b><br><br>Group=%{text}<br>\\u9810\\u4ea4\\u65e5\\u671f=2020-12<br>\\u6578\\u91cf=%{x}<br>\\u672c\\u570b\\u5e63\\u5225NTD=%{marker.size}<extra></extra>\", \"hovertext\": [\"\\u83ef\\u65b0\\u79d1\\u6280\"], \"legendgroup\": \"\\u83ef\\u65b0\\u79d1\\u6280\", \"marker\": {\"color\": \"#1F77B4\", \"size\": [2049427.2], \"sizemode\": \"area\", \"sizeref\": 819.77088, \"symbol\": \"circle\"}, \"mode\": \"markers+text\", \"name\": \"\\u83ef\\u65b0\\u79d1\\u6280\", \"orientation\": \"v\", \"showlegend\": true, \"text\": [\"\\u83ef\\u65b0\\u79d1\\u6280\"], \"x\": [29326000.0], \"xaxis\": \"x\", \"y\": [2049427.2], \"yaxis\": \"y\", \"type\": \"scatter\"}], \"name\": \"2020-12\"}]);\n",
       "                        }).then(function(){\n",
       "                            \n",
       "var gd = document.getElementById('7958c280-dd5f-45c3-b609-f32486b6a109');\n",
       "var x = new MutationObserver(function (mutations, observer) {{\n",
       "        var display = window.getComputedStyle(gd).display;\n",
       "        if (!display || display === 'none') {{\n",
       "            console.log([gd, 'removed!']);\n",
       "            Plotly.purge(gd);\n",
       "            observer.disconnect();\n",
       "        }}\n",
       "}});\n",
       "\n",
       "// Listen for the removal of the full notebook cells\n",
       "var notebookContainer = gd.closest('#notebook-container');\n",
       "if (notebookContainer) {{\n",
       "    x.observe(notebookContainer, {childList: true});\n",
       "}}\n",
       "\n",
       "// Listen for the clearing of the current output cell\n",
       "var outputEl = gd.closest('.output');\n",
       "if (outputEl) {{\n",
       "    x.observe(outputEl, {childList: true});\n",
       "}}\n",
       "\n",
       "                        })                };                });            </script>        </div>"
      ]
     },
     "metadata": {},
     "output_type": "display_data"
    }
   ],
   "source": [
    "df = df.query('Group == \"華新科技\"')\n",
    "fig_total = px.scatter(df, x='數量', y='本國幣別NTD',\n",
    "                       size='本國幣別NTD', text='Group',\n",
    "                       color='Group',\n",
    "                       animation_frame='預交日期',\n",
    "                       range_x=[-10, 30000000],\n",
    "                       range_y=[0, 3000000],\n",
    "                       color_discrete_sequence=px.colors.qualitative.D3,\n",
    "                       size_max=50,\n",
    "                       hover_name='Group'\n",
    "                       )\n",
    "fig_total.show()"
   ]
  },
  {
   "cell_type": "code",
   "execution_count": 43,
   "metadata": {},
   "outputs": [
    {
     "data": {
      "text/html": [
       "<div>\n",
       "<style scoped>\n",
       "    .dataframe tbody tr th:only-of-type {\n",
       "        vertical-align: middle;\n",
       "    }\n",
       "\n",
       "    .dataframe tbody tr th {\n",
       "        vertical-align: top;\n",
       "    }\n",
       "\n",
       "    .dataframe thead th {\n",
       "        text-align: right;\n",
       "    }\n",
       "</style>\n",
       "<table border=\"1\" class=\"dataframe\">\n",
       "  <thead>\n",
       "    <tr style=\"text-align: right;\">\n",
       "      <th></th>\n",
       "      <th>0</th>\n",
       "      <th>1</th>\n",
       "    </tr>\n",
       "  </thead>\n",
       "  <tbody>\n",
       "    <tr>\n",
       "      <th>0</th>\n",
       "      <td>WIP252012</td>\n",
       "      <td>P</td>\n",
       "    </tr>\n",
       "    <tr>\n",
       "      <th>1</th>\n",
       "      <td>MLVS0603</td>\n",
       "      <td>AM</td>\n",
       "    </tr>\n",
       "    <tr>\n",
       "      <th>2</th>\n",
       "      <td>MLVS0603</td>\n",
       "      <td>L</td>\n",
       "    </tr>\n",
       "    <tr>\n",
       "      <th>3</th>\n",
       "      <td>WIP201610</td>\n",
       "      <td>P</td>\n",
       "    </tr>\n",
       "    <tr>\n",
       "      <th>4</th>\n",
       "      <td>MIP25202</td>\n",
       "      <td>R</td>\n",
       "    </tr>\n",
       "    <tr>\n",
       "      <th>...</th>\n",
       "      <td>...</td>\n",
       "      <td>...</td>\n",
       "    </tr>\n",
       "    <tr>\n",
       "      <th>10204</th>\n",
       "      <td>GPSGLONASSU10</td>\n",
       "      <td>N</td>\n",
       "    </tr>\n",
       "    <tr>\n",
       "      <th>10205</th>\n",
       "      <td>NaN</td>\n",
       "      <td>NaN</td>\n",
       "    </tr>\n",
       "    <tr>\n",
       "      <th>10206</th>\n",
       "      <td>NaN</td>\n",
       "      <td>NaN</td>\n",
       "    </tr>\n",
       "    <tr>\n",
       "      <th>10207</th>\n",
       "      <td>NaN</td>\n",
       "      <td>NaN</td>\n",
       "    </tr>\n",
       "    <tr>\n",
       "      <th>10208</th>\n",
       "      <td>GPSGLONASSU10</td>\n",
       "      <td>N</td>\n",
       "    </tr>\n",
       "  </tbody>\n",
       "</table>\n",
       "<p>10209 rows × 2 columns</p>\n",
       "</div>"
      ],
      "text/plain": [
       "                   0    1\n",
       "0          WIP252012    P\n",
       "1           MLVS0603   AM\n",
       "2           MLVS0603    L\n",
       "3          WIP201610    P\n",
       "4           MIP25202    R\n",
       "...              ...  ...\n",
       "10204  GPSGLONASSU10    N\n",
       "10205            NaN  NaN\n",
       "10206            NaN  NaN\n",
       "10207            NaN  NaN\n",
       "10208  GPSGLONASSU10    N\n",
       "\n",
       "[10209 rows x 2 columns]"
      ]
     },
     "execution_count": 43,
     "metadata": {},
     "output_type": "execute_result"
    }
   ],
   "source": [
    "sales['品名'].str.extract('(^\\D+[0-9]+)([A-Z]+)')"
   ]
  },
  {
   "cell_type": "code",
   "execution_count": null,
   "metadata": {},
   "outputs": [],
   "source": [
    "budget.insert(2, 'BU', value=budget.apply(lambda x: 'RF' if 'RF' in x['客戶名稱'] else 'Component', axis=1))"
   ]
  },
  {
   "cell_type": "code",
   "execution_count": null,
   "metadata": {},
   "outputs": [],
   "source": [
    "budget['客戶名稱'] = budget['客戶名稱'].str.replace(' RF', '')"
   ]
  },
  {
   "cell_type": "code",
   "execution_count": null,
   "metadata": {},
   "outputs": [],
   "source": [
    "client_dict = {'Bourns': 'Bourns', 'Eaton': 'Eaton', 'Laird': 'Laird', 'LF': 'LF', 'LF-OEM': 'LF ORM', 'WE': 'WE',\n",
    "               '信昌': '信昌', '東莞弘電': '東莞弘電', '藝感': '藝感', '華科': '華新科技',\n",
    "               'Mt System(Component)': 'MT-SYSTEM', 'Teltonika(Component)': 'TELTONIKA', 'Mt System(RF)': 'MT-SYSTEM',\n",
    "               'Teltonika(RF)': 'TELTONIKA', 'Te(RF)': 'TE', 'Credence(India)': 'Credence',\n",
    "               'Millenium(India)': 'Millenium', 'Nexty(India)': 'Nexty', 'OSE(India)': 'OSE', 'Others/One Time PO(India)': 'Others/One Time PO(India)'}\n",
    "budget['客戶名稱'] = budget['客戶名稱'].map(client_dict)"
   ]
  },
  {
   "cell_type": "code",
   "execution_count": null,
   "metadata": {
    "scrolled": true
   },
   "outputs": [],
   "source": [
    "sales = sales[~sales['狀態'].str.contains('待通知 | 合約')]"
   ]
  },
  {
   "cell_type": "markdown",
   "metadata": {},
   "source": [
    "## 隨便亂打區"
   ]
  },
  {
   "cell_type": "code",
   "execution_count": null,
   "metadata": {},
   "outputs": [],
   "source": [
    "x = sales.groupby(['預交年份', '預交月份', '負責業務', 'BG'])[['本國幣別NTD']].sum().reset_index()\n",
    "month_order = ['January', 'February', 'March', 'April', 'May', 'June', 'July',\n",
    "               'August', 'September', 'October', 'November', 'December']\n",
    "x['預交月份'] = pd.Categorical(x['預交月份'], ordered=True, categories=month_order)\n",
    "x = x.sort_values(by='預交月份').reset_index()"
   ]
  },
  {
   "cell_type": "markdown",
   "metadata": {},
   "source": [
    "## Treemap"
   ]
  },
  {
   "cell_type": "code",
   "execution_count": null,
   "metadata": {},
   "outputs": [],
   "source": [
    "sales[(sales['負責業務'] == '許凱智') & (sales['預交年份'].isin([2019,2020])) & (sales['Group'].isin(['TELTONIKA', 'MT-SYSTEM']))]"
   ]
  },
  {
   "cell_type": "code",
   "execution_count": null,
   "metadata": {},
   "outputs": [],
   "source": [
    "test = sales[(sales['負責業務'] == '許凱智') & (sales['預交年份'].isin([2019,2020])) & (sales['Group'].isin(['TELTONIKA', 'MT-SYSTEM']))].groupby(['預交年份', 'Group', 'BG', '預交月份', '品名'])[['數量', '本國幣別NTD']].sum().reset_index()"
   ]
  },
  {
   "cell_type": "code",
   "execution_count": null,
   "metadata": {},
   "outputs": [],
   "source": [
    "test.columns = ['Year', 'Company', 'Category', 'Month', 'Part number', 'Quantity', 'Revenue in NTD']"
   ]
  },
  {
   "cell_type": "code",
   "execution_count": null,
   "metadata": {},
   "outputs": [],
   "source": [
    "data = test.query('Year == 2020 and Company == \"MT-SYSTEM\" and Category == \"RF\"')\n",
    "data = data[['Quantity']]"
   ]
  },
  {
   "cell_type": "code",
   "execution_count": null,
   "metadata": {},
   "outputs": [],
   "source": [
    "test1 = test.groupby(['Year', 'Company', 'Month', 'Category', 'Part number'])[['Quantity', 'Revenue in NTD']].sum().reset_index()"
   ]
  },
  {
   "cell_type": "code",
   "execution_count": null,
   "metadata": {},
   "outputs": [],
   "source": [
    "fig1 = px.treemap(test1, path=['Year', 'Company', 'Month', 'Category', 'Part number'], values='Revenue in NTD',\n",
    "                color='Quantity', color_continuous_scale='RdBu'\n",
    "                )\n",
    "fig1.show()\n",
    "with open('MT-SYSTEM.html', 'w') as f:\n",
    "    f.write(fig.to_html(full_html=False, include_plotlyjs='cdn'))\n",
    "    f.close()"
   ]
  },
  {
   "cell_type": "code",
   "execution_count": null,
   "metadata": {},
   "outputs": [],
   "source": [
    "fig = px.treemap(test, path=['預交年份', '預交月份', '負責業務', 'Group', 'BG'], values='本國幣別NTD',\n",
    "                color='數量', color_continuous_scale='RdBu'\n",
    "                )\n",
    "fig.show()"
   ]
  },
  {
   "cell_type": "code",
   "execution_count": null,
   "metadata": {},
   "outputs": [],
   "source": [
    "test1 = test.query('Group == [\"TELTONIKA\", \"MT-SYSTEM\"]')\n",
    "fig = px.treemap(test1, path=['預交年份', 'Group', 'BG'], values='本國幣別NTD',\n",
    "                color='數量', color_continuous_scale='RdBu'\n",
    "                )\n",
    "fig.show()"
   ]
  },
  {
   "cell_type": "markdown",
   "metadata": {},
   "source": [
    "## Line plot"
   ]
  },
  {
   "cell_type": "code",
   "execution_count": null,
   "metadata": {},
   "outputs": [],
   "source": [
    "from sklearn.preprocessing import StandardScaler\n",
    "# ss = StandardScaler()\n",
    "# ss.fit_transform(x['本國幣別NTD'])\n",
    "x['std'] = preprocessing.scale(x['本國幣別NTD'])"
   ]
  },
  {
   "cell_type": "code",
   "execution_count": null,
   "metadata": {},
   "outputs": [],
   "source": [
    "hist = px.histogram(x, x='預交月份', y='本國幣別NTD', facet_col='預交年份', facet_row='負責業務',\n",
    "                    category_orders={'預交年份':[2019,2020,2021,2022]},\n",
    "                   labels={'本國幣別NTD':'營業額', '預交月份':'月份'})\n",
    "hist.show()"
   ]
  },
  {
   "cell_type": "code",
   "execution_count": null,
   "metadata": {},
   "outputs": [],
   "source": [
    "line = px.line(x, x='預交月份', y='本國幣別NTD',color='預交年份', category_orders={'預交月份':month_order}, facet_col='負責業務', facet_row='BG')\n",
    "line.show()"
   ]
  },
  {
   "cell_type": "code",
   "execution_count": null,
   "metadata": {},
   "outputs": [],
   "source": [
    "line_plot = test.groupby(['預交年份', '預交月份', '負責業務'])[['本國幣別NTD']].sum().reset_index()\n",
    "month_order = ['January', 'February', 'March', 'April', 'May', 'June', 'July',\n",
    "               'August', 'September', 'October', 'November', 'December']\n",
    "line_plot['預交月份'] = pd.Categorical(line_plot['預交月份'], ordered=True, categories=month_order)\n",
    "line_plot = line_plot.sort_values(by='預交月份')"
   ]
  },
  {
   "cell_type": "code",
   "execution_count": null,
   "metadata": {},
   "outputs": [],
   "source": [
    "line = px.line(line_plot, x='預交月份', y='本國幣別NTD', color='預交年份', category_orders={'預交月份':month_order}, facet_col='負責業務')\n",
    "line.show()"
   ]
  },
  {
   "cell_type": "markdown",
   "metadata": {},
   "source": [
    "## Bar plot"
   ]
  },
  {
   "cell_type": "code",
   "execution_count": null,
   "metadata": {},
   "outputs": [],
   "source": [
    "df = test.query('預交年份 == (2020, 2019, 2021)')\n",
    "df = df.groupby(['預交年份', '負責業務', '預交月份'])[['本國幣別NTD']].sum().reset_index()\n",
    "df['預交年份'] = df['預交年份'].astype(str)\n",
    "bar = px.bar(df, x='預交月份', y='本國幣別NTD', color='預交年份', barmode='group',\n",
    "             category_orders={'預交月份':month_order}, facet_col='負責業務'\n",
    "            )\n",
    "bar.show()"
   ]
  },
  {
   "cell_type": "markdown",
   "metadata": {},
   "source": [
    "## 將多個figures結合成一份HTML"
   ]
  },
  {
   "cell_type": "code",
   "execution_count": null,
   "metadata": {},
   "outputs": [],
   "source": [
    "with open('test.html', 'a') as f:\n",
    "    f.write(fig.to_html(full_html=False, include_plotlyjs='cdn'))\n",
    "    f.write(line.to_html(full_html=False, include_plotlyjs='cdn'))\n",
    "    f.write(bar.to_html(full_html=False, include_plotlyjs='cdn'))\n",
    "    f.close()"
   ]
  },
  {
   "cell_type": "code",
   "execution_count": null,
   "metadata": {},
   "outputs": [],
   "source": []
  },
  {
   "cell_type": "code",
   "execution_count": null,
   "metadata": {},
   "outputs": [],
   "source": []
  }
 ],
 "metadata": {
  "kernelspec": {
   "display_name": "Python 3",
   "language": "python",
   "name": "python3"
  },
  "language_info": {
   "codemirror_mode": {
    "name": "ipython",
    "version": 3
   },
   "file_extension": ".py",
   "mimetype": "text/x-python",
   "name": "python",
   "nbconvert_exporter": "python",
   "pygments_lexer": "ipython3",
   "version": "3.8.5"
  }
 },
 "nbformat": 4,
 "nbformat_minor": 4
}
