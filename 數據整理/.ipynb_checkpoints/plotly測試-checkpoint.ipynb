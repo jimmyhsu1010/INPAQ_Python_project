{
 "cells": [
  {
   "cell_type": "code",
   "execution_count": null,
   "metadata": {},
   "outputs": [],
   "source": [
    "import pandas as pd\n",
    "pd.set_option('display.max_rows', 10)\n",
    "pd.set_option('display.max_columns', None)\n",
    "pd.set_option('display.float_format', lambda x: '%.0f' % x)\n",
    "import plotly.express as px\n",
    "import re\n"
   ]
  },
  {
   "cell_type": "markdown",
   "metadata": {},
   "source": [
    "## 數據前處理階段"
   ]
  },
  {
   "cell_type": "code",
   "execution_count": null,
   "metadata": {},
   "outputs": [],
   "source": [
    "sales = pd.read_excel('/Users/kai/Desktop/Weekly report_v0.1.xlsx', sheet_name='出貨明細') # Mac使用\n",
    "# sales = pd.read_excel(r'C:\\Users\\kaihsu\\Desktop\\業績總表\\Weekly report_v0.1.xlsx', sheet_name='出貨明細')\n",
    "# budget = pd.read_excel('/Users/kai/Desktop/Weekly report_v0.1.xlsx', sheet_name='2020預算', usecols='A:F') # Mac使用\n",
    "# budget = pd.read_excel(r'C:\\Users\\kaihsu\\Desktop\\業績總表\\Weekly report_v0.1.xlsx', sheet_name='2020預算', usecols='A:F')"
   ]
  },
  {
   "cell_type": "code",
   "execution_count": null,
   "metadata": {},
   "outputs": [],
   "source": [
    "def categorize_product(data):\n",
    "    return re.search('[A-Z]*', data).group(0)\n",
    "#     print(re.search('[0-9]+', data).group())\n",
    "\n",
    "# categorize_product('ACA-2012-A1-CC-S成')"
   ]
  },
  {
   "cell_type": "code",
   "execution_count": null,
   "metadata": {},
   "outputs": [],
   "source": [
    "test = sales[['品名', '產品分類']]"
   ]
  },
  {
   "cell_type": "code",
   "execution_count": null,
   "metadata": {},
   "outputs": [],
   "source": [
    "test['Type'] = test['產品分類'].apply(categorize_product)"
   ]
  },
  {
   "cell_type": "code",
   "execution_count": null,
   "metadata": {},
   "outputs": [],
   "source": [
    "re.search('/d*', 'AAF成品')"
   ]
  },
  {
   "cell_type": "code",
   "execution_count": null,
   "metadata": {},
   "outputs": [],
   "source": [
    "re.search('[0-9]+', 'WIP2520 P-1 Series').group(0)"
   ]
  },
  {
   "cell_type": "code",
   "execution_count": null,
   "metadata": {},
   "outputs": [],
   "source": [
    "test['產品分類'].str.extract(r'[A-Z]*')"
   ]
  },
  {
   "cell_type": "code",
   "execution_count": null,
   "metadata": {},
   "outputs": [],
   "source": [
    "sales['產品分類'].unique()"
   ]
  },
  {
   "cell_type": "code",
   "execution_count": null,
   "metadata": {},
   "outputs": [],
   "source": [
    "budget.insert(2, 'BU', value=budget.apply(lambda x: 'RF' if 'RF' in x['客戶名稱'] else 'Component', axis=1))"
   ]
  },
  {
   "cell_type": "code",
   "execution_count": null,
   "metadata": {},
   "outputs": [],
   "source": [
    "budget['客戶名稱'] = budget['客戶名稱'].str.replace(' RF', '')"
   ]
  },
  {
   "cell_type": "code",
   "execution_count": null,
   "metadata": {},
   "outputs": [],
   "source": [
    "client_dict = {'Bourns': 'Bourns', 'Eaton': 'Eaton', 'Laird': 'Laird', 'LF': 'LF', 'LF-OEM': 'LF ORM', 'WE': 'WE',\n",
    "               '信昌': '信昌', '東莞弘電': '東莞弘電', '藝感': '藝感', '華科': '華新科技',\n",
    "               'Mt System(Component)': 'MT-SYSTEM', 'Teltonika(Component)': 'TELTONIKA', 'Mt System(RF)': 'MT-SYSTEM',\n",
    "               'Teltonika(RF)': 'TELTONIKA', 'Te(RF)': 'TE', 'Credence(India)': 'Credence',\n",
    "               'Millenium(India)': 'Millenium', 'Nexty(India)': 'Nexty', 'OSE(India)': 'OSE', 'Others/One Time PO(India)': 'Others/One Time PO(India)'}\n",
    "budget['客戶名稱'] = budget['客戶名稱'].map(client_dict)"
   ]
  },
  {
   "cell_type": "code",
   "execution_count": null,
   "metadata": {
    "scrolled": true
   },
   "outputs": [],
   "source": [
    "sales = sales[~sales['狀態'].str.contains('待通知 | 合約')]"
   ]
  },
  {
   "cell_type": "markdown",
   "metadata": {},
   "source": [
    "## 隨便亂打區"
   ]
  },
  {
   "cell_type": "code",
   "execution_count": null,
   "metadata": {},
   "outputs": [],
   "source": [
    "x = sales.groupby(['預交年份', '預交月份', '負責業務', 'BG'])[['本國幣別NTD']].sum().reset_index()\n",
    "month_order = ['January', 'February', 'March', 'April', 'May', 'June', 'July',\n",
    "               'August', 'September', 'October', 'November', 'December']\n",
    "x['預交月份'] = pd.Categorical(x['預交月份'], ordered=True, categories=month_order)\n",
    "x = x.sort_values(by='預交月份').reset_index()"
   ]
  },
  {
   "cell_type": "markdown",
   "metadata": {},
   "source": [
    "## Treemap"
   ]
  },
  {
   "cell_type": "code",
   "execution_count": null,
   "metadata": {},
   "outputs": [],
   "source": [
    "sales[(sales['負責業務'] == '許凱智') & (sales['預交年份'].isin([2019,2020])) & (sales['Group'].isin(['TELTONIKA', 'MT-SYSTEM']))]"
   ]
  },
  {
   "cell_type": "code",
   "execution_count": null,
   "metadata": {},
   "outputs": [],
   "source": [
    "test = sales[(sales['負責業務'] == '許凱智') & (sales['預交年份'].isin([2019,2020])) & (sales['Group'].isin(['TELTONIKA', 'MT-SYSTEM']))].groupby(['預交年份', 'Group', 'BG', '預交月份', '品名'])[['數量', '本國幣別NTD']].sum().reset_index()"
   ]
  },
  {
   "cell_type": "code",
   "execution_count": null,
   "metadata": {},
   "outputs": [],
   "source": [
    "test.columns = ['Year', 'Company', 'Category', 'Month', 'Part number', 'Quantity', 'Revenue in NTD']"
   ]
  },
  {
   "cell_type": "code",
   "execution_count": null,
   "metadata": {},
   "outputs": [],
   "source": [
    "data = test.query('Year == 2020 and Company == \"MT-SYSTEM\" and Category == \"RF\"')\n",
    "data = data[['Quantity']]"
   ]
  },
  {
   "cell_type": "code",
   "execution_count": null,
   "metadata": {},
   "outputs": [],
   "source": [
    "test1 = test.groupby(['Year', 'Company', 'Month', 'Category', 'Part number'])[['Quantity', 'Revenue in NTD']].sum().reset_index()"
   ]
  },
  {
   "cell_type": "code",
   "execution_count": null,
   "metadata": {},
   "outputs": [],
   "source": [
    "fig1 = px.treemap(test1, path=['Year', 'Company', 'Month', 'Category', 'Part number'], values='Revenue in NTD',\n",
    "                color='Quantity', color_continuous_scale='RdBu'\n",
    "                )\n",
    "fig1.show()\n",
    "with open('MT-SYSTEM.html', 'w') as f:\n",
    "    f.write(fig.to_html(full_html=False, include_plotlyjs='cdn'))\n",
    "    f.close()"
   ]
  },
  {
   "cell_type": "code",
   "execution_count": null,
   "metadata": {},
   "outputs": [],
   "source": [
    "fig = px.treemap(test, path=['預交年份', '預交月份', '負責業務', 'Group', 'BG'], values='本國幣別NTD',\n",
    "                color='數量', color_continuous_scale='RdBu'\n",
    "                )\n",
    "fig.show()"
   ]
  },
  {
   "cell_type": "code",
   "execution_count": null,
   "metadata": {},
   "outputs": [],
   "source": [
    "test1 = test.query('Group == [\"TELTONIKA\", \"MT-SYSTEM\"]')\n",
    "fig = px.treemap(test1, path=['預交年份', 'Group', 'BG'], values='本國幣別NTD',\n",
    "                color='數量', color_continuous_scale='RdBu'\n",
    "                )\n",
    "fig.show()"
   ]
  },
  {
   "cell_type": "markdown",
   "metadata": {},
   "source": [
    "## Line plot"
   ]
  },
  {
   "cell_type": "code",
   "execution_count": null,
   "metadata": {},
   "outputs": [],
   "source": [
    "from sklearn.preprocessing import StandardScaler\n",
    "# ss = StandardScaler()\n",
    "# ss.fit_transform(x['本國幣別NTD'])\n",
    "x['std'] = preprocessing.scale(x['本國幣別NTD'])"
   ]
  },
  {
   "cell_type": "code",
   "execution_count": null,
   "metadata": {},
   "outputs": [],
   "source": [
    "hist = px.histogram(x, x='預交月份', y='本國幣別NTD', facet_col='預交年份', facet_row='負責業務',\n",
    "                    category_orders={'預交年份':[2019,2020,2021,2022]},\n",
    "                   labels={'本國幣別NTD':'營業額', '預交月份':'月份'})\n",
    "hist.show()"
   ]
  },
  {
   "cell_type": "code",
   "execution_count": null,
   "metadata": {},
   "outputs": [],
   "source": [
    "line = px.line(x, x='預交月份', y='本國幣別NTD',color='預交年份', category_orders={'預交月份':month_order}, facet_col='負責業務', facet_row='BG')\n",
    "line.show()"
   ]
  },
  {
   "cell_type": "code",
   "execution_count": null,
   "metadata": {},
   "outputs": [],
   "source": [
    "line_plot = test.groupby(['預交年份', '預交月份', '負責業務'])[['本國幣別NTD']].sum().reset_index()\n",
    "month_order = ['January', 'February', 'March', 'April', 'May', 'June', 'July',\n",
    "               'August', 'September', 'October', 'November', 'December']\n",
    "line_plot['預交月份'] = pd.Categorical(line_plot['預交月份'], ordered=True, categories=month_order)\n",
    "line_plot = line_plot.sort_values(by='預交月份')"
   ]
  },
  {
   "cell_type": "code",
   "execution_count": null,
   "metadata": {},
   "outputs": [],
   "source": [
    "line = px.line(line_plot, x='預交月份', y='本國幣別NTD', color='預交年份', category_orders={'預交月份':month_order}, facet_col='負責業務')\n",
    "line.show()"
   ]
  },
  {
   "cell_type": "markdown",
   "metadata": {},
   "source": [
    "## Bar plot"
   ]
  },
  {
   "cell_type": "code",
   "execution_count": null,
   "metadata": {},
   "outputs": [],
   "source": [
    "df = test.query('預交年份 == (2020, 2019, 2021)')\n",
    "df = df.groupby(['預交年份', '負責業務', '預交月份'])[['本國幣別NTD']].sum().reset_index()\n",
    "df['預交年份'] = df['預交年份'].astype(str)\n",
    "bar = px.bar(df, x='預交月份', y='本國幣別NTD', color='預交年份', barmode='group',\n",
    "             category_orders={'預交月份':month_order}, facet_col='負責業務'\n",
    "            )\n",
    "bar.show()"
   ]
  },
  {
   "cell_type": "markdown",
   "metadata": {},
   "source": [
    "## 將多個figures結合成一份HTML"
   ]
  },
  {
   "cell_type": "code",
   "execution_count": null,
   "metadata": {},
   "outputs": [],
   "source": [
    "with open('test.html', 'a') as f:\n",
    "    f.write(fig.to_html(full_html=False, include_plotlyjs='cdn'))\n",
    "    f.write(line.to_html(full_html=False, include_plotlyjs='cdn'))\n",
    "    f.write(bar.to_html(full_html=False, include_plotlyjs='cdn'))\n",
    "    f.close()"
   ]
  },
  {
   "cell_type": "code",
   "execution_count": null,
   "metadata": {},
   "outputs": [],
   "source": []
  },
  {
   "cell_type": "code",
   "execution_count": null,
   "metadata": {},
   "outputs": [],
   "source": []
  }
 ],
 "metadata": {
  "kernelspec": {
   "display_name": "Python 3",
   "language": "python",
   "name": "python3"
  },
  "language_info": {
   "codemirror_mode": {
    "name": "ipython",
    "version": 3
   },
   "file_extension": ".py",
   "mimetype": "text/x-python",
   "name": "python",
   "nbconvert_exporter": "python",
   "pygments_lexer": "ipython3",
   "version": "3.8.3"
  }
 },
 "nbformat": 4,
 "nbformat_minor": 4
}
