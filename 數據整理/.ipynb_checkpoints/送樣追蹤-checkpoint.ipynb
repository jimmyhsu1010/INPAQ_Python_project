{
 "cells": [
  {
   "cell_type": "code",
   "execution_count": 1,
   "metadata": {},
   "outputs": [],
   "source": [
    "import pandas as pd\n",
    "pd.set_option('display.max_rows', 10)\n",
    "pd.set_option('display.max_columns', None)\n",
    "pd.set_option('display.float_format', lambda x: '%.0f' % x)\n",
    "import tkinter as tk\n",
    "from tkinter import filedialog\n",
    "from datetime import datetime\n"
   ]
  },
  {
   "cell_type": "code",
   "execution_count": 11,
   "metadata": {},
   "outputs": [],
   "source": [
    "cur_mon = datetime.today().strftime('%Y-%m')"
   ]
  },
  {
   "cell_type": "code",
   "execution_count": null,
   "metadata": {
    "scrolled": true
   },
   "outputs": [],
   "source": [
    "path = input('請輸入路徑,不需要“”')\n",
    "path = path.replace('\\\\', '/')"
   ]
  },
  {
   "cell_type": "code",
   "execution_count": null,
   "metadata": {},
   "outputs": [],
   "source": [
    "df = pd.read_excel(path, None)\n",
    "df.keys()"
   ]
  },
  {
   "cell_type": "code",
   "execution_count": null,
   "metadata": {},
   "outputs": [],
   "source": [
    "key_list = []\n",
    "for i in df.keys():\n",
    "    key_list.append(i)\n",
    "for key, value in enumerate(key_list):\n",
    "    print(key, value)\n",
    "key_list\n",
    "list_num = int(input('請選擇要開啟的sheet'))\n",
    "df = df[key_list[list_num]]"
   ]
  },
  {
   "cell_type": "code",
   "execution_count": null,
   "metadata": {},
   "outputs": [],
   "source": [
    "sorted_df = df[['月份', '客戶回饋結果', '測試通過', '測試中', '品名', '客戶', '實際完成日', '數量']]"
   ]
  },
  {
   "cell_type": "code",
   "execution_count": null,
   "metadata": {},
   "outputs": [],
   "source": [
    "sorted_df.columns = ['Month', 'Feedback from end-customer', 'Testing Pass', 'Testing', 'Part Number', 'Customer', 'Sample provided date', 'Quantity']"
   ]
  },
  {
   "cell_type": "code",
   "execution_count": null,
   "metadata": {},
   "outputs": [],
   "source": [
    "sorted_df['Sample provided date'] = pd.to_datetime(sorted_df['Sample provided date'], unit='D')"
   ]
  },
  {
   "cell_type": "code",
   "execution_count": null,
   "metadata": {},
   "outputs": [],
   "source": [
    "sorted_df['Customer'] = sorted_df['Customer'].map(lambda x: 'Kamaya' if x == 'KamayaM' else x)"
   ]
  },
  {
   "cell_type": "code",
   "execution_count": null,
   "metadata": {
    "scrolled": true
   },
   "outputs": [],
   "source": [
    "def export_sorted_df():\n",
    "    customer_list = sorted_df['Customer'].unique().tolist()\n",
    "    for c in customer_list:\n",
    "        file_name = sorted_df[sorted_df['Customer'] == c]\n",
    "#         export_path = '/Users/kai/Desktop/' + c + 'sample_status.xlsx'\n",
    "        export_path = r'D:\\\\公司內部有的沒有的\\\\送樣追蹤\\\\' + cur_mon + r'\\\\' + c + r'_sample_status.xlsx'\n",
    "        file_name.to_excel(export_path, index=False, sheet_name=c)\n",
    "        "
   ]
  },
  {
   "cell_type": "code",
   "execution_count": null,
   "metadata": {},
   "outputs": [],
   "source": [
    "export_sorted_df()"
   ]
  },
  {
   "cell_type": "code",
   "execution_count": null,
   "metadata": {},
   "outputs": [],
   "source": [
    "from data_preprocessing import WeeklyReport"
   ]
  },
  {
   "cell_type": "code",
   "execution_count": null,
   "metadata": {},
   "outputs": [],
   "source": [
    "x = WeeklyReport()"
   ]
  },
  {
   "cell_type": "code",
   "execution_count": null,
   "metadata": {
    "scrolled": false
   },
   "outputs": [],
   "source": [
    "x.df[x.df['預交年份'] == 2020].sort_values(by='數量', ascending=False)"
   ]
  },
  {
   "cell_type": "code",
   "execution_count": null,
   "metadata": {},
   "outputs": [],
   "source": [
    "'''\n",
    "自動寄出郵件使用smtplib\n",
    "'''\n",
    "\n",
    "import smtplib\n",
    "from email.mime.text import MIMEText\n",
    "from email.mime.multipart import MIMEMultipart\n",
    "\n",
    "address_book = ['kaihsu@inpaq.com.tw']\n",
    "msg = MIMEMultipart()    \n",
    "sender = 'kaihsu@inpaq.com.tw'\n",
    "subject = \"Test mail from Python\"\n",
    "body = \"This is my email body\" # 郵件內文\n",
    "\n",
    "msg['From'] = sender\n",
    "msg['To'] = ','.join(address_book)\n",
    "msg['Subject'] = subject\n",
    "msg.attach(MIMEText(body, 'plain'))\n",
    "text=msg.as_string()\n",
    "#print text\n",
    "# Send the message via our SMTP server\n",
    "s = smtplib.SMTP('cnmail.inpaq.com.tw')\n",
    "s.sendmail(sender,address_book, text)\n",
    "s.quit()        "
   ]
  },
  {
   "cell_type": "code",
   "execution_count": null,
   "metadata": {
    "scrolled": true
   },
   "outputs": [],
   "source": [
    "x.shipment_total('PC')"
   ]
  }
 ],
 "metadata": {
  "kernelspec": {
   "display_name": "Python 3",
   "language": "python",
   "name": "python3"
  },
  "language_info": {
   "codemirror_mode": {
    "name": "ipython",
    "version": 3
   },
   "file_extension": ".py",
   "mimetype": "text/x-python",
   "name": "python",
   "nbconvert_exporter": "python",
   "pygments_lexer": "ipython3",
   "version": "3.8.5"
  }
 },
 "nbformat": 4,
 "nbformat_minor": 4
}
