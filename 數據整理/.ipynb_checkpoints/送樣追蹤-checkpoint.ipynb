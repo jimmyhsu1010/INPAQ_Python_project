{
 "cells": [
  {
   "cell_type": "code",
   "execution_count": 20,
   "metadata": {},
   "outputs": [],
   "source": [
    "import pandas as pd\n",
    "pd.set_option('display.max_rows', 10)\n",
    "pd.set_option('display.max_columns', None)\n",
    "pd.set_option('display.float_format', lambda x: '%.0f' % x)\n",
    "import tkinter as tk\n",
    "from tkinter import filedialog\n",
    "from datetime import datetime\n",
    "pd.set_option('mode.chained_assignment', None)\n"
   ]
  },
  {
   "cell_type": "code",
   "execution_count": null,
   "metadata": {},
   "outputs": [],
   "source": [
    "# cur_mon = datetime.today().strftime('%Y-%m')"
   ]
  },
  {
   "cell_type": "code",
   "execution_count": 4,
   "metadata": {},
   "outputs": [],
   "source": [
    "root = tk.Tk()\n",
    "root.withdraw()\n",
    "file_path = filedialog.askopenfilename()\n"
   ]
  },
  {
   "cell_type": "code",
   "execution_count": 5,
   "metadata": {
    "scrolled": true
   },
   "outputs": [
    {
     "data": {
      "text/plain": [
       "dict_keys(['竹南元件送樣件數統計', '竹南元件送樣(業務及客戶)統計', '竹南元件樣品訂單明細表', '總結', '許凱智', '工作表1', '工作表2'])"
      ]
     },
     "execution_count": 5,
     "metadata": {},
     "output_type": "execute_result"
    }
   ],
   "source": [
    "df = pd.read_excel(file_path, None)\n",
    "df.keys()"
   ]
  },
  {
   "cell_type": "code",
   "execution_count": 6,
   "metadata": {},
   "outputs": [
    {
     "name": "stdout",
     "output_type": "stream",
     "text": [
      "1 竹南元件送樣件數統計\n",
      "2 竹南元件送樣(業務及客戶)統計\n",
      "3 竹南元件樣品訂單明細表\n",
      "4 總結\n",
      "5 許凱智\n",
      "6 工作表1\n",
      "7 工作表2\n",
      "請選擇需要打開的sheet:6\n"
     ]
    }
   ],
   "source": [
    "'''\n",
    "選擇需要打開的sheet，通常是“工作表1”\n",
    "'''\n",
    "x = enumerate(df.keys())\n",
    "slct_dict = {}\n",
    "for key, value in x:\n",
    "    print(key+1, value)\n",
    "    slct_dict.setdefault(key+1, value)\n",
    "slcted = int(input(\"請選擇需要打開的sheet:\"))\n",
    "df = df[slct_dict[slcted]]"
   ]
  },
  {
   "cell_type": "code",
   "execution_count": 7,
   "metadata": {
    "scrolled": true
   },
   "outputs": [
    {
     "name": "stdout",
     "output_type": "stream",
     "text": [
      "華新科技\n",
      "請輸入要顯示的名稱:華新科技\n",
      "MT-Sys\n",
      "請輸入要顯示的名稱:MT-SYSTEM\n",
      "Kamaya\n",
      "請輸入要顯示的名稱:Kamaya\n"
     ]
    }
   ],
   "source": [
    "'''\n",
    "修改需要變更的名稱\n",
    "'''\n",
    "original_name = df[\"代理商\"].unique().tolist()\n",
    "client_dict = {}\n",
    "for name in original_name:\n",
    "    print(name)\n",
    "    new_name = input(\"請輸入要顯示的名稱:\")\n",
    "    client_dict.setdefault(name, new_name)"
   ]
  },
  {
   "cell_type": "code",
   "execution_count": 8,
   "metadata": {},
   "outputs": [],
   "source": [
    "df[\"代理商\"] = df[\"代理商\"].map(client_dict)"
   ]
  },
  {
   "cell_type": "code",
   "execution_count": 21,
   "metadata": {
    "scrolled": false
   },
   "outputs": [
    {
     "name": "stdout",
     "output_type": "stream",
     "text": [
      "1 華新科技\n",
      "2 MT-SYSTEM\n",
      "3 Kamaya\n",
      "請選擇需要匯出的客戶：1\n",
      "請問需要英文版嗎？(y or n)n\n",
      "請輸入要建立的檔案名稱:n\n",
      "1 華新科技\n",
      "2 MT-SYSTEM\n",
      "3 Kamaya\n",
      "請選擇需要匯出的客戶：9\n"
     ]
    }
   ],
   "source": [
    "client_list = df[\"代理商\"].unique().tolist()\n",
    "client_dict = {}\n",
    "for index, client in enumerate(client_list):\n",
    "#     print(index + 1, client)\n",
    "    client_dict.setdefault(index + 1, client)\n",
    "while True:\n",
    "        for i, j in client_dict.items():\n",
    "            print(i, j)\n",
    "        slct_client = int(input(\"請選擇需要匯出的客戶：\"))\n",
    "        if slct_client in client_dict.keys():\n",
    "            slct_df = df[df[\"代理商\"] == client_dict[slct_client]]\n",
    "            slct_df[\"開單日期\"] = slct_df.loc[:, \"開單日期\"].dt.strftime(\"%Y-%m-%d\")\n",
    "            slct_df[\"業務需求日\"] = slct_df.loc[:, \"業務需求日\"].dt.strftime(\"%Y-%m-%d\")\n",
    "            slct_df[\"預計完成日\"] = slct_df.loc[:, \"預計完成日\"].dt.strftime(\"%Y-%m-%d\")\n",
    "            slct_df[\"實際完成日\"] = slct_df.loc[:, \"實際完成日\"].dt.strftime(\"%Y-%m-%d\")\n",
    "            en_version = input(\"請問需要英文版嗎？(y or n)\")\n",
    "            if en_version == \"y\":\n",
    "                sorted_df = slct_df[['月份', '客戶回饋結果', '測試通過', '測試中', '品名', '代理商', '實際完成日', '數量']]\n",
    "                sorted_df.columns = ['Month', 'Feedback from end-customer', 'Testing Pass', 'Testing', 'Part Number', 'Customer', 'Sample provided date', 'Quantity']\n",
    "                root = tk.Tk()\n",
    "                root.withdraw()\n",
    "                folder_path = filedialog.askdirectory()\n",
    "                file_name = input(\"請輸入要建立的檔案名稱:\")\n",
    "                sorted_df.to_excel(folder_path + \"/\" + file_name + \".xlsx\", index=False)\n",
    "            else:\n",
    "                root = tk.Tk()\n",
    "                root.withdraw()\n",
    "                folder_path = filedialog.askdirectory()\n",
    "                file_name = input(\"請輸入要建立的檔案名稱:\")\n",
    "                slct_df.to_excel(folder_path + \"/\" + file_name + \".xlsx\", index=False)\n",
    "        else:\n",
    "            break\n",
    "\n"
   ]
  },
  {
   "cell_type": "code",
   "execution_count": null,
   "metadata": {},
   "outputs": [],
   "source": [
    "sorted_df['Sample provided date'] = pd.to_datetime(sorted_df['Sample provided date'], unit='D')"
   ]
  },
  {
   "cell_type": "code",
   "execution_count": 22,
   "metadata": {},
   "outputs": [
    {
     "ename": "SMTPRecipientsRefused",
     "evalue": "{'jimmyhsu1010@gmail.com': (550, b'5.7.1 Unable to relay')}",
     "output_type": "error",
     "traceback": [
      "\u001b[1;31m---------------------------------------------------------------------------\u001b[0m",
      "\u001b[1;31mSMTPRecipientsRefused\u001b[0m                     Traceback (most recent call last)",
      "\u001b[1;32m<ipython-input-22-63d260e12fb8>\u001b[0m in \u001b[0;36m<module>\u001b[1;34m\u001b[0m\n\u001b[0;32m     21\u001b[0m \u001b[1;31m# Send the message via our SMTP server\u001b[0m\u001b[1;33m\u001b[0m\u001b[1;33m\u001b[0m\u001b[1;33m\u001b[0m\u001b[0m\n\u001b[0;32m     22\u001b[0m \u001b[0ms\u001b[0m \u001b[1;33m=\u001b[0m \u001b[0msmtplib\u001b[0m\u001b[1;33m.\u001b[0m\u001b[0mSMTP\u001b[0m\u001b[1;33m(\u001b[0m\u001b[1;34m'cnmail.inpaq.com.tw'\u001b[0m\u001b[1;33m)\u001b[0m\u001b[1;33m\u001b[0m\u001b[1;33m\u001b[0m\u001b[0m\n\u001b[1;32m---> 23\u001b[1;33m \u001b[0ms\u001b[0m\u001b[1;33m.\u001b[0m\u001b[0msendmail\u001b[0m\u001b[1;33m(\u001b[0m\u001b[0msender\u001b[0m\u001b[1;33m,\u001b[0m\u001b[0maddress_book\u001b[0m\u001b[1;33m,\u001b[0m \u001b[0mtext\u001b[0m\u001b[1;33m)\u001b[0m\u001b[1;33m\u001b[0m\u001b[1;33m\u001b[0m\u001b[0m\n\u001b[0m\u001b[0;32m     24\u001b[0m \u001b[0ms\u001b[0m\u001b[1;33m.\u001b[0m\u001b[0mquit\u001b[0m\u001b[1;33m(\u001b[0m\u001b[1;33m)\u001b[0m\u001b[1;33m\u001b[0m\u001b[1;33m\u001b[0m\u001b[0m\n",
      "\u001b[1;32m~\\Anaconda3\\envs\\INPAQ_Python_project\\lib\\smtplib.py\u001b[0m in \u001b[0;36msendmail\u001b[1;34m(self, from_addr, to_addrs, msg, mail_options, rcpt_options)\u001b[0m\n\u001b[0;32m    883\u001b[0m             \u001b[1;31m# the server refused all our recipients\u001b[0m\u001b[1;33m\u001b[0m\u001b[1;33m\u001b[0m\u001b[1;33m\u001b[0m\u001b[0m\n\u001b[0;32m    884\u001b[0m             \u001b[0mself\u001b[0m\u001b[1;33m.\u001b[0m\u001b[0m_rset\u001b[0m\u001b[1;33m(\u001b[0m\u001b[1;33m)\u001b[0m\u001b[1;33m\u001b[0m\u001b[1;33m\u001b[0m\u001b[0m\n\u001b[1;32m--> 885\u001b[1;33m             \u001b[1;32mraise\u001b[0m \u001b[0mSMTPRecipientsRefused\u001b[0m\u001b[1;33m(\u001b[0m\u001b[0msenderrs\u001b[0m\u001b[1;33m)\u001b[0m\u001b[1;33m\u001b[0m\u001b[1;33m\u001b[0m\u001b[0m\n\u001b[0m\u001b[0;32m    886\u001b[0m         \u001b[1;33m(\u001b[0m\u001b[0mcode\u001b[0m\u001b[1;33m,\u001b[0m \u001b[0mresp\u001b[0m\u001b[1;33m)\u001b[0m \u001b[1;33m=\u001b[0m \u001b[0mself\u001b[0m\u001b[1;33m.\u001b[0m\u001b[0mdata\u001b[0m\u001b[1;33m(\u001b[0m\u001b[0mmsg\u001b[0m\u001b[1;33m)\u001b[0m\u001b[1;33m\u001b[0m\u001b[1;33m\u001b[0m\u001b[0m\n\u001b[0;32m    887\u001b[0m         \u001b[1;32mif\u001b[0m \u001b[0mcode\u001b[0m \u001b[1;33m!=\u001b[0m \u001b[1;36m250\u001b[0m\u001b[1;33m:\u001b[0m\u001b[1;33m\u001b[0m\u001b[1;33m\u001b[0m\u001b[0m\n",
      "\u001b[1;31mSMTPRecipientsRefused\u001b[0m: {'jimmyhsu1010@gmail.com': (550, b'5.7.1 Unable to relay')}"
     ]
    }
   ],
   "source": [
    "'''\n",
    "自動寄出郵件使用smtplib\n",
    "'''\n",
    "\n",
    "import smtplib\n",
    "from email.mime.text import MIMEText\n",
    "from email.mime.multipart import MIMEMultipart\n",
    "\n",
    "address_book = ['jimmyhsu1010@gmail.com']\n",
    "msg = MIMEMultipart()    \n",
    "sender = 'kaihsu@inpaq.com.tw'\n",
    "subject = \"Test mail from Python\"\n",
    "body = \"This is my email body\" # 郵件內文\n",
    "\n",
    "msg['From'] = sender\n",
    "msg['To'] = ','.join(address_book)\n",
    "msg['Subject'] = subject\n",
    "msg.attach(MIMEText(body, 'plain'))\n",
    "text=msg.as_string()\n",
    "#print text\n",
    "# Send the message via our SMTP server\n",
    "s = smtplib.SMTP('cnmail.inpaq.com.tw')\n",
    "s.sendmail(sender,address_book, text)\n",
    "s.quit()        "
   ]
  },
  {
   "cell_type": "code",
   "execution_count": null,
   "metadata": {},
   "outputs": [],
   "source": []
  }
 ],
 "metadata": {
  "kernelspec": {
   "display_name": "Python 3",
   "language": "python",
   "name": "python3"
  },
  "language_info": {
   "codemirror_mode": {
    "name": "ipython",
    "version": 3
   },
   "file_extension": ".py",
   "mimetype": "text/x-python",
   "name": "python",
   "nbconvert_exporter": "python",
   "pygments_lexer": "ipython3",
   "version": "3.8.5"
  }
 },
 "nbformat": 4,
 "nbformat_minor": 4
}
