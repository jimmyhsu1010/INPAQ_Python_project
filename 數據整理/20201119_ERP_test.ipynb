{
 "cells": [
  {
   "cell_type": "code",
   "execution_count": null,
   "metadata": {},
   "outputs": [],
   "source": [
    "import pandas as pd\n",
    "pd.set_option('display.max_rows', 5)\n",
    "pd.set_option('display.max_columns', None)\n",
    "pd.set_option('display.float_format', lambda x: '%.0f' % x)"
   ]
  },
  {
   "cell_type": "code",
   "execution_count": null,
   "metadata": {},
   "outputs": [],
   "source": [
    "df = pd.read_excel(r\"C:\\Users\\kaihsu\\Desktop\\業績總表\\歷史數據\\訂單出貨明細_axmr4301_2016.xlsx\", usecols='A:G,I,K,N,Q,R,S,T,U,V,Y,AC,AE,BB')\n",
    "df1 = pd.read_excel(r\"C:\\Users\\kaihsu\\Desktop\\業績總表\\歷史數據\\訂單出貨明細_axmr4301_2017.xlsx\", usecols='A:G,I,K,N,Q,R,S,T,U,V,Y,AC,AE,BB')\n",
    "df2 = pd.read_excel(r\"C:\\Users\\kaihsu\\Desktop\\業績總表\\歷史數據\\訂單出貨明細_axmr4301_2018.xlsx\", usecols='A:G,I,K,N,Q,R,S,T,U,V,Y,AC,AE,BB')\n",
    "df3 = pd.read_excel(r\"C:\\Users\\kaihsu\\Desktop\\業績總表\\歷史數據\\訂單出貨明細_axmr4301_2019.xlsx\", usecols='A:G,I,K,N,Q,R,S,T,U,V,Y,AC,AE,BB')\n",
    "df4 = pd.read_excel(r\"C:\\Users\\kaihsu\\Desktop\\業績總表\\歷史數據\\訂單出貨明細_axmr4301_2020.xlsx\", usecols='A:G,I,K,N,Q,R,S,T,U,V,Y,AC,AE,BB')"
   ]
  },
  {
   "cell_type": "code",
   "execution_count": null,
   "metadata": {},
   "outputs": [],
   "source": [
    "sales = pd.concat([df, df1, df2, df3, df4], axis=0, ignore_index=True)"
   ]
  },
  {
   "cell_type": "code",
   "execution_count": null,
   "metadata": {
    "scrolled": true
   },
   "outputs": [],
   "source": [
    "sales['產品分類'].unique()"
   ]
  },
  {
   "cell_type": "markdown",
   "metadata": {},
   "source": [
    "### 多個檔案寫入一個excel檔案，但是在不同的sheets"
   ]
  },
  {
   "cell_type": "code",
   "execution_count": null,
   "metadata": {},
   "outputs": [],
   "source": [
    "pip install openpyxl"
   ]
  },
  {
   "cell_type": "code",
   "execution_count": null,
   "metadata": {},
   "outputs": [],
   "source": [
    "writer = pd.ExcelWriter(r'C:\\Users\\kaihsu\\Desktop\\差異比較表.xlsx')\n",
    "weekly.to_excel(writer, sheet_name='CS提供的數據', index=False)\n",
    "system.to_excel(writer, sheet_name='系統撈出來的數據', index=False)\n",
    "writer.save()"
   ]
  },
  {
   "cell_type": "markdown",
   "metadata": {},
   "source": [
    "### MT-System Energomera報價\n"
   ]
  },
  {
   "cell_type": "code",
   "execution_count": null,
   "metadata": {},
   "outputs": [],
   "source": [
    "mt = pd.read_excel(r\"D:\\客戶\\Mt System\\價格表\\20201119_MT-System_Energomera_Package.xlsx\")"
   ]
  },
  {
   "cell_type": "code",
   "execution_count": null,
   "metadata": {},
   "outputs": [],
   "source": [
    "mt.columns"
   ]
  },
  {
   "cell_type": "code",
   "execution_count": null,
   "metadata": {},
   "outputs": [],
   "source": [
    "mt['EAU in number'] = mt.apply(lambda x: int(x['EAU'].split(' ')[0]) * 1000, axis=1)"
   ]
  },
  {
   "cell_type": "code",
   "execution_count": null,
   "metadata": {},
   "outputs": [],
   "source": [
    "mt['Target Price in USD'] = mt.apply(lambda x: float(x['Target'].split(' ')[0].replace(',', '.')), axis=1)"
   ]
  },
  {
   "cell_type": "code",
   "execution_count": null,
   "metadata": {},
   "outputs": [],
   "source": [
    "mt = mt.reindex(columns=['Competitor PN',\n",
    " 'INPAQ PN',\n",
    " 'Link',\n",
    " 'EAU',\n",
    " 'EAU in number',\n",
    " 'Buying lot',\n",
    " 'Target',\n",
    " 'Target Price in USD',\n",
    " 'Defect rate in as-delivered condition (exceeding which the entire batch is returned), %',\n",
    " 'Warranty period(Year)',\n",
    " 'Number of failures during the warranty period, %',\n",
    " 'Service life of a component, year',\n",
    " 'Shelf life - before installation in the product, year',\n",
    " 'Reliability of supplied components and materials (failure rate), Hours(FIT/MTBF)'])"
   ]
  },
  {
   "cell_type": "code",
   "execution_count": null,
   "metadata": {},
   "outputs": [],
   "source": [
    "mt.to_excel(r'C:\\Users\\kaihsu\\Desktop\\energomera.xlsx', index=False)"
   ]
  }
 ],
 "metadata": {
  "kernelspec": {
   "display_name": "Python 3",
   "language": "python",
   "name": "python3"
  },
  "language_info": {
   "codemirror_mode": {
    "name": "ipython",
    "version": 3
   },
   "file_extension": ".py",
   "mimetype": "text/x-python",
   "name": "python",
   "nbconvert_exporter": "python",
   "pygments_lexer": "ipython3",
   "version": "3.8.5"
  }
 },
 "nbformat": 4,
 "nbformat_minor": 4
}
