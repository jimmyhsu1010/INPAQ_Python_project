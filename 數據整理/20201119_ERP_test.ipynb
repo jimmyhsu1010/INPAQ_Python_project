{
 "cells": [
  {
   "cell_type": "code",
   "execution_count": null,
   "metadata": {},
   "outputs": [],
   "source": [
    "import pandas as pd\n",
    "pd.set_option('display.max_rows', 5)\n",
    "pd.set_option('display.max_columns', None)\n",
    "pd.set_option('display.float_format', lambda x: '%.4f' % x)"
   ]
  },
  {
   "cell_type": "code",
   "execution_count": null,
   "metadata": {},
   "outputs": [],
   "source": [
    "weekly = pd.read_excel(r\"C:\\Users\\kaihsu\\Desktop\\業績總表\\Weekly report_v0.1.xlsx\", sheet_name='出貨明細')\n",
    "system = pd.read_excel(r\"C:\\Users\\kaihsu\\Desktop\\訂單出貨明細_axmr4301_test.xlsx\")"
   ]
  },
  {
   "cell_type": "code",
   "execution_count": null,
   "metadata": {},
   "outputs": [],
   "source": [
    "system = system[system['負責業務'].isin(['楊婉芬', '許凱智', '沈思明', '墨漢雷迪'])]"
   ]
  },
  {
   "cell_type": "code",
   "execution_count": null,
   "metadata": {},
   "outputs": [],
   "source": [
    "system = system[system['狀態'].str.contains('出')]"
   ]
  },
  {
   "cell_type": "code",
   "execution_count": null,
   "metadata": {},
   "outputs": [],
   "source": [
    "system = system[system['預交日期'].between('2020/11/01', '2020/12/01')]"
   ]
  },
  {
   "cell_type": "code",
   "execution_count": null,
   "metadata": {},
   "outputs": [],
   "source": [
    "weekly = weekly[(weekly['狀態'].str.contains('出')) & (weekly['預交日期'].between('2020-11-01', '2020-12-01'))]"
   ]
  },
  {
   "cell_type": "code",
   "execution_count": null,
   "metadata": {},
   "outputs": [],
   "source": [
    "weekly"
   ]
  },
  {
   "cell_type": "code",
   "execution_count": null,
   "metadata": {},
   "outputs": [],
   "source": [
    "pip install openpyxl"
   ]
  },
  {
   "cell_type": "code",
   "execution_count": null,
   "metadata": {},
   "outputs": [],
   "source": [
    "writer = pd.ExcelWriter(r'C:\\Users\\kaihsu\\Desktop\\差異比較表.xlsx')\n",
    "weekly.to_excel(writer, sheet_name='CS提供的數據', index=False)\n",
    "system.to_excel(writer, sheet_name='系統撈出來的數據', index=False)\n",
    "writer.save()"
   ]
  },
  {
   "cell_type": "code",
   "execution_count": null,
   "metadata": {},
   "outputs": [],
   "source": [
    "test = pd.read_excel(r\"C:\\Users\\kaihsu\\Desktop\\訂單出貨明細_axmr4301_test123.xlsx\")\n"
   ]
  },
  {
   "cell_type": "code",
   "execution_count": null,
   "metadata": {},
   "outputs": [],
   "source": [
    "test= test[['狀態', '預交日期', '客戶名稱', '負責業務', '品名', '數量', '金額(NTD)']]"
   ]
  },
  {
   "cell_type": "code",
   "execution_count": null,
   "metadata": {},
   "outputs": [],
   "source": [
    "test= test[test['負責業務'].isin(['楊婉芬', '許凱智', '沈思明', '周彥宏', '墨漢雷迪'])].sort_values(by='預交日期')"
   ]
  },
  {
   "cell_type": "code",
   "execution_count": null,
   "metadata": {},
   "outputs": [],
   "source": [
    "test['預交日期'] = pd.to_datetime(test['預交日期'])\n"
   ]
  },
  {
   "cell_type": "code",
   "execution_count": null,
   "metadata": {},
   "outputs": [],
   "source": [
    "test.insert(2, '預交年份', test['預交日期'].dt.year)"
   ]
  },
  {
   "cell_type": "code",
   "execution_count": null,
   "metadata": {},
   "outputs": [],
   "source": [
    "test.insert(3, '預交月份', test['預交日期'].dt.month)"
   ]
  },
  {
   "cell_type": "code",
   "execution_count": null,
   "metadata": {},
   "outputs": [],
   "source": [
    "final = test.groupby(['預交年份', '預交月份', '客戶名稱', '負責業務'])[['金額(NTD)']].sum().reset_index()"
   ]
  },
  {
   "cell_type": "markdown",
   "metadata": {},
   "source": [
    "### MT-System Energomera報價\n"
   ]
  },
  {
   "cell_type": "code",
   "execution_count": null,
   "metadata": {},
   "outputs": [],
   "source": [
    "mt = pd.read_excel(r\"D:\\客戶\\Mt System\\價格表\\20201119_MT-System_Energomera_Package.xlsx\")"
   ]
  },
  {
   "cell_type": "code",
   "execution_count": null,
   "metadata": {},
   "outputs": [],
   "source": [
    "mt.columns"
   ]
  },
  {
   "cell_type": "code",
   "execution_count": null,
   "metadata": {},
   "outputs": [],
   "source": [
    "mt['EAU in number'] = mt.apply(lambda x: int(x['EAU'].split(' ')[0]) * 1000, axis=1)"
   ]
  },
  {
   "cell_type": "code",
   "execution_count": null,
   "metadata": {},
   "outputs": [],
   "source": [
    "mt['Target Price in USD'] = mt.apply(lambda x: float(x['Target'].split(' ')[0].replace(',', '.')), axis=1)"
   ]
  },
  {
   "cell_type": "code",
   "execution_count": null,
   "metadata": {},
   "outputs": [],
   "source": [
    "mt = mt.reindex(columns=['Competitor PN',\n",
    " 'INPAQ PN',\n",
    " 'Link',\n",
    " 'EAU',\n",
    " 'EAU in number',\n",
    " 'Buying lot',\n",
    " 'Target',\n",
    " 'Target Price in USD',\n",
    " 'Defect rate in as-delivered condition (exceeding which the entire batch is returned), %',\n",
    " 'Warranty period(Year)',\n",
    " 'Number of failures during the warranty period, %',\n",
    " 'Service life of a component, year',\n",
    " 'Shelf life - before installation in the product, year',\n",
    " 'Reliability of supplied components and materials (failure rate), Hours(FIT/MTBF)'])"
   ]
  },
  {
   "cell_type": "code",
   "execution_count": null,
   "metadata": {},
   "outputs": [],
   "source": [
    "mt.to_excel(r'C:\\Users\\kaihsu\\Desktop\\energomera.xlsx', index=False)"
   ]
  }
 ],
 "metadata": {
  "kernelspec": {
   "display_name": "Python 3",
   "language": "python",
   "name": "python3"
  },
  "language_info": {
   "codemirror_mode": {
    "name": "ipython",
    "version": 3
   },
   "file_extension": ".py",
   "mimetype": "text/x-python",
   "name": "python",
   "nbconvert_exporter": "python",
   "pygments_lexer": "ipython3",
   "version": "3.8.5"
  }
 },
 "nbformat": 4,
 "nbformat_minor": 4
}
