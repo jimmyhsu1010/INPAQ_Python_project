{
 "cells": [
  {
   "cell_type": "code",
   "execution_count": null,
   "metadata": {},
   "outputs": [],
   "source": [
    "import pandas as pd\n",
    "pd.set_option('display.max_rows', 5)\n",
    "pd.set_option('display.max_columns', None)\n",
    "pd.set_option('display.float_format', lambda x: '%.3f' % x)\n",
    "import re\n",
    "import plotly.express as px\n",
    "from jupyter_dash import JupyterDash\n",
    "import dash_core_components as dcc\n",
    "import dash_html_components as html\n",
    "from dash.dependencies import Input, Output\n",
    "import plotly.graph_objs as go\n",
    "import dash\n",
    "import dash_table"
   ]
  },
  {
   "cell_type": "markdown",
   "metadata": {},
   "source": [
    "### Dash Pivottable資料前處理"
   ]
  },
  {
   "cell_type": "code",
   "execution_count": null,
   "metadata": {},
   "outputs": [],
   "source": [
    "data=[\n",
    "            ['Animal', 'Count', 'Location'],\n",
    "            ['Zebra', 5, 'SF Zoo'],\n",
    "            ['Tiger', 3, 'SF Zoo'],\n",
    "            ['Zebra', 2, 'LA Zoo'],\n",
    "            ['Tiger', 4, 'LA Zoo'],\n",
    "        ]\n",
    "x = pd.DataFrame(data, columns=['Animal', 'Count', 'Location'])"
   ]
  },
  {
   "cell_type": "code",
   "execution_count": null,
   "metadata": {
    "scrolled": true
   },
   "outputs": [],
   "source": [
    "sales = pd.read_excel('../Dashboard/Weekly report_v0.1.xlsx', sheet_name='出貨明細')"
   ]
  },
  {
   "cell_type": "code",
   "execution_count": null,
   "metadata": {},
   "outputs": [],
   "source": [
    "sales['BG'] = sales.apply(lambda x: 'RFBU2' if 'RFDP' in x['品名'] else 'RFBU1' if 'RFDP' not in x['品名'] and 'RF' in x['BG'] else x['BG'], axis=1)"
   ]
  },
  {
   "cell_type": "code",
   "execution_count": null,
   "metadata": {},
   "outputs": [],
   "source": [
    "sales = sales[sales['狀態'].str.contains('出')]"
   ]
  },
  {
   "cell_type": "code",
   "execution_count": null,
   "metadata": {},
   "outputs": [],
   "source": [
    "sales = sales[['BG', 'Subcategory','Group', '銷售單號', '開單日期', '預交日期', '預交年份', '預交月份', '負責業務', '產品分類', '品名', '幣別', '單價', '數量', '本國幣別NTD', '客戶料號', 'Term']]"
   ]
  },
  {
   "cell_type": "code",
   "execution_count": null,
   "metadata": {},
   "outputs": [],
   "source": [
    "mon_dict = {'January':1, 'February':2, 'March':3, 'April':4, 'May':5, 'June':6, 'July':7, 'August':8, 'September':9, 'October':10, 'November':11, 'December':12}"
   ]
  },
  {
   "cell_type": "code",
   "execution_count": null,
   "metadata": {},
   "outputs": [],
   "source": [
    "sales['數量'] = sales['數量'].astype('int')\n",
    "sales['本國幣別NTD'] = sales['本國幣別NTD'].astype('int')\n",
    "sales['預交月份'] = sales['預交月份'].map(mon_dict)\n"
   ]
  },
  {
   "cell_type": "code",
   "execution_count": null,
   "metadata": {},
   "outputs": [],
   "source": [
    "sales['Subcategory'] = sales['產品分類'].str.upper().str.extract('([A-Z]+)')"
   ]
  },
  {
   "cell_type": "code",
   "execution_count": null,
   "metadata": {},
   "outputs": [],
   "source": [
    "sales = sales[['BG', 'Subcategory', 'Group', '銷售單號', '開單日期', '預交日期', '預交年份', '預交月份',\n",
    "       '負責業務', '品名', '幣別', '單價', '數量', '本國幣別NTD', '客戶料號', 'Term']]\n"
   ]
  },
  {
   "cell_type": "code",
   "execution_count": null,
   "metadata": {},
   "outputs": [],
   "source": [
    "mon_order=['January', 'February', 'March', 'April', 'May', 'June', 'July', 'August', 'September', 'October', 'November', 'December']\n",
    "y['預交月份'] = pd.Categorical(y['預交月份'], ordered=True, categories=mon_order)"
   ]
  },
  {
   "cell_type": "code",
   "execution_count": null,
   "metadata": {
    "scrolled": true
   },
   "outputs": [],
   "source": [
    "m = sales.groupby(['品名'])[['單價']].mean().reset_index()"
   ]
  },
  {
   "cell_type": "code",
   "execution_count": null,
   "metadata": {},
   "outputs": [],
   "source": [
    "dict_test = [{'label': i, 'value': j} for i, j in m.values]"
   ]
  },
  {
   "cell_type": "code",
   "execution_count": null,
   "metadata": {},
   "outputs": [],
   "source": [
    "sales[['品名', '單價']].values"
   ]
  },
  {
   "cell_type": "code",
   "execution_count": null,
   "metadata": {},
   "outputs": [],
   "source": [
    "m.to_dict('records')"
   ]
  },
  {
   "cell_type": "code",
   "execution_count": null,
   "metadata": {
    "scrolled": true
   },
   "outputs": [],
   "source": [
    "price_table = sales[['Group', '開單日期', '負責業務', '品名', '客戶料號', '幣別', '單價', '數量']]\n",
    "price_table['單價'] = price_table.apply(lambda x: x['單價'] /30 if x['幣別'] == 'NTD' else x['單價'] / 6.9 if x['幣別'] == 'CNY' \n",
    "                                     else x['單價'] * 1.19 if x['幣別'] == 'EUR' else x['單價'], axis=1)\n",
    "price_table['幣別'] = price_table['幣別'].apply(lambda x: 'USD')\n",
    "\n",
    "price_table = price_table.drop_duplicates(subset=['Group', '負責業務', '品名'], keep='last')\n",
    "\n",
    "app = JupyterDash(__name__)\n",
    "app.layout = html.Div([\n",
    "    html.H3('報價記錄'),\n",
    "    dcc.Dropdown(\n",
    "    id='test',\n",
    "    options=[\n",
    "        {'label':i, 'value': i}\n",
    "        for i in sales['品名'].unique()\n",
    "    ],\n",
    "    value= '', placeholder='Select or enter a PN'\n",
    "    ),\n",
    "    html.Div([\n",
    "        dcc.Graph(id='price_table', figure={}),\n",
    "        dcc.Graph(id='price_box', figure={})\n",
    "    ]\n",
    "    )\n",
    "])\n",
    "\n",
    "@app.callback(\n",
    "[dash.dependencies.Output('price_table', 'figure'), dash.dependencies.Output('price_box', 'figure')],\n",
    "[dash.dependencies.Input('test', 'value')])\n",
    "\n",
    "def update_table(item):\n",
    "    dff = price_table[price_table['品名'] == item]\n",
    "    fig1 = go.Figure(data=[go.Table(\n",
    "    header=dict(values=list(dff.columns),\n",
    "                fill_color='paleturquoise',\n",
    "                align='left'),\n",
    "    cells=dict(values=[dff.Group, dff.開單日期, dff.負責業務, dff.品名, dff.客戶料號, dff.幣別, dff.單價, dff.數量],\n",
    "               fill_color='lavender',\n",
    "               align='left',\n",
    "              format = [None, None, None, None, None, None, \",.4f\", None]))\n",
    "])\n",
    "    fig2 = px.box(dff, x='負責業務', y='單價')\n",
    "    fig2.update_traces(quartilemethod=\"exclusive\")\n",
    "    \n",
    "    return fig1, fig2\n",
    "\n",
    "\n",
    "if __name__ == '__main__':\n",
    "    app.run_server(mode='inline')\n",
    "    "
   ]
  },
  {
   "cell_type": "code",
   "execution_count": null,
   "metadata": {},
   "outputs": [],
   "source": [
    "data = y.values.tolist()"
   ]
  },
  {
   "cell_type": "code",
   "execution_count": null,
   "metadata": {},
   "outputs": [],
   "source": [
    "data.insert(0, y.columns.tolist())"
   ]
  },
  {
   "cell_type": "code",
   "execution_count": null,
   "metadata": {},
   "outputs": [],
   "source": [
    "for index, row in y.iterrows():\n",
    "    print(row)"
   ]
  },
  {
   "cell_type": "markdown",
   "metadata": {},
   "source": [
    "### ERP歷史數據"
   ]
  },
  {
   "cell_type": "code",
   "execution_count": null,
   "metadata": {},
   "outputs": [],
   "source": [
    "df = pd.read_excel(r\"C:\\Users\\kaihsu\\Desktop\\業績總表\\歷史數據\\訂單出貨明細_axmr4301_2016.xlsx\", usecols='A:G,I,O,N,Q,R,S,T,U,V,Y,AC,AE,AF')\n",
    "df1 = pd.read_excel(r\"C:\\Users\\kaihsu\\Desktop\\業績總表\\歷史數據\\訂單出貨明細_axmr4301_2017.xlsx\", usecols='A:G,I,O,N,Q,R,S,T,U,V,Y,AC,AE,AF')\n",
    "df2 = pd.read_excel(r\"C:\\Users\\kaihsu\\Desktop\\業績總表\\歷史數據\\訂單出貨明細_axmr4301_2018.xlsx\", usecols='A:G,I,O,N,Q,R,S,T,U,V,Y,AC,AE,AF')\n",
    "df3 = pd.read_excel(r\"C:\\Users\\kaihsu\\Desktop\\業績總表\\歷史數據\\訂單出貨明細_axmr4301_2019.xlsx\", usecols='A:G,I,O,N,Q,R,S,T,U,V,Y,AC,AE,AF')\n",
    "df4 = pd.read_excel(r\"C:\\Users\\kaihsu\\Desktop\\業績總表\\歷史數據\\訂單出貨明細_axmr4301_2020.xlsx\", usecols='A:G,I,O,N,Q,R,S,T,U,V,Y,AC,AE,AF')"
   ]
  },
  {
   "cell_type": "code",
   "execution_count": null,
   "metadata": {},
   "outputs": [],
   "source": [
    "sales = pd.concat([df, df1, df2, df3, df4], axis=0, ignore_index=True)"
   ]
  },
  {
   "cell_type": "code",
   "execution_count": null,
   "metadata": {},
   "outputs": [],
   "source": [
    "sales = sales.query('單位 == \"KPCS\" | 單位 == \"PCS\"')"
   ]
  },
  {
   "cell_type": "code",
   "execution_count": null,
   "metadata": {},
   "outputs": [],
   "source": [
    "sales['數量'] = sales.apply(lambda x: x['數量'] * 1000 if x['單位'] == 'KPCS' else x['數量'], axis=1)"
   ]
  },
  {
   "cell_type": "code",
   "execution_count": null,
   "metadata": {},
   "outputs": [],
   "source": [
    "sales['單價'] = sales.apply(lambda x: x['單價'] / 1000 if x['單位'] == 'KPCS' else x['單價'], axis=1)"
   ]
  },
  {
   "cell_type": "code",
   "execution_count": null,
   "metadata": {},
   "outputs": [],
   "source": [
    "sales['單價'] = sales.apply(lambda x: x['單價'] / 30 if x['幣別'] == 'NTD' else x['單價'] / 6.9 if x['幣別'] == 'CNY'\n",
    "                                     else x['單價'] * 1.19 if x['幣別'] == 'EUR' else x['單價'], axis=1)"
   ]
  },
  {
   "cell_type": "code",
   "execution_count": null,
   "metadata": {},
   "outputs": [],
   "source": [
    "sales['幣別'] = sales['幣別'].apply(lambda x: 'USD')"
   ]
  },
  {
   "cell_type": "code",
   "execution_count": null,
   "metadata": {},
   "outputs": [],
   "source": [
    "price_table = sales[['客戶名稱', '開單日期', '組別', '訂單業務', '品名', '客戶料號', '幣別', '單價', '數量']]"
   ]
  },
  {
   "cell_type": "code",
   "execution_count": null,
   "metadata": {
    "scrolled": true
   },
   "outputs": [],
   "source": [
    "price_table.drop_duplicates(subset=['客戶名稱', '訂單業務', '品名'], keep='last')"
   ]
  },
  {
   "cell_type": "code",
   "execution_count": null,
   "metadata": {},
   "outputs": [],
   "source": [
    "price_table.to_csv(r\"C:\\Users\\kaihsu\\Desktop\\his_price.csv\", index=False)"
   ]
  },
  {
   "cell_type": "markdown",
   "metadata": {},
   "source": [
    "### 多個檔案寫入一個excel檔案，但是在不同的sheets"
   ]
  },
  {
   "cell_type": "code",
   "execution_count": null,
   "metadata": {},
   "outputs": [],
   "source": [
    "pip install openpyxl"
   ]
  },
  {
   "cell_type": "code",
   "execution_count": null,
   "metadata": {},
   "outputs": [],
   "source": [
    "writer = pd.ExcelWriter(r'C:\\Users\\kaihsu\\Desktop\\差異比較表.xlsx')\n",
    "weekly.to_excel(writer, sheet_name='CS提供的數據', index=False)\n",
    "system.to_excel(writer, sheet_name='系統撈出來的數據', index=False)\n",
    "writer.save()"
   ]
  },
  {
   "cell_type": "markdown",
   "metadata": {},
   "source": [
    "### MT-System Energomera報價\n"
   ]
  },
  {
   "cell_type": "code",
   "execution_count": null,
   "metadata": {},
   "outputs": [],
   "source": [
    "mt = pd.read_excel(r\"D:\\客戶\\Mt System\\價格表\\20201119_MT-System_Energomera_Package.xlsx\")"
   ]
  },
  {
   "cell_type": "code",
   "execution_count": null,
   "metadata": {},
   "outputs": [],
   "source": [
    "mt.columns"
   ]
  },
  {
   "cell_type": "code",
   "execution_count": null,
   "metadata": {},
   "outputs": [],
   "source": [
    "mt['EAU in number'] = mt.apply(lambda x: int(x['EAU'].split(' ')[0]) * 1000, axis=1)"
   ]
  },
  {
   "cell_type": "code",
   "execution_count": null,
   "metadata": {},
   "outputs": [],
   "source": [
    "mt['Target Price in USD'] = mt.apply(lambda x: float(x['Target'].split(' ')[0].replace(',', '.')), axis=1)"
   ]
  },
  {
   "cell_type": "code",
   "execution_count": null,
   "metadata": {},
   "outputs": [],
   "source": [
    "mt = mt.reindex(columns=['Competitor PN',\n",
    " 'INPAQ PN',\n",
    " 'Link',\n",
    " 'EAU',\n",
    " 'EAU in number',\n",
    " 'Buying lot',\n",
    " 'Target',\n",
    " 'Target Price in USD',\n",
    " 'Defect rate in as-delivered condition (exceeding which the entire batch is returned), %',\n",
    " 'Warranty period(Year)',\n",
    " 'Number of failures during the warranty period, %',\n",
    " 'Service life of a component, year',\n",
    " 'Shelf life - before installation in the product, year',\n",
    " 'Reliability of supplied components and materials (failure rate), Hours(FIT/MTBF)'])"
   ]
  },
  {
   "cell_type": "code",
   "execution_count": null,
   "metadata": {},
   "outputs": [],
   "source": [
    "mt.to_excel(r'C:\\Users\\kaihsu\\Desktop\\energomera.xlsx', index=False)"
   ]
  }
 ],
 "metadata": {
  "kernelspec": {
   "display_name": "Python 3",
   "language": "python",
   "name": "python3"
  },
  "language_info": {
   "codemirror_mode": {
    "name": "ipython",
    "version": 3
   },
   "file_extension": ".py",
   "mimetype": "text/x-python",
   "name": "python",
   "nbconvert_exporter": "python",
   "pygments_lexer": "ipython3",
   "version": "3.8.5"
  }
 },
 "nbformat": 4,
 "nbformat_minor": 4
}
