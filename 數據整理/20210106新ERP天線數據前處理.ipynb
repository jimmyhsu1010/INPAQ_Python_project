{
 "cells": [
  {
   "cell_type": "code",
   "execution_count": null,
   "metadata": {},
   "outputs": [],
   "source": [
    "import pandas as pd\n",
    "pd.set_option('display.max_rows', 10)"
   ]
  },
  {
   "cell_type": "code",
   "execution_count": null,
   "metadata": {},
   "outputs": [],
   "source": [
    "rf = pd.read_excel(r\"C:\\Users\\kaihsu\\Desktop\\業績總表\\RF.xlsx\")"
   ]
  },
  {
   "cell_type": "code",
   "execution_count": null,
   "metadata": {
    "scrolled": true
   },
   "outputs": [],
   "source": [
    "keep_columns = ['狀態', '銷售單號', '銷售項次', '銷售月份', '開單日期', '預交日期', '交期變更', '客戶名稱', '負責業務', '交貨方式', '產品分類', '品名', '幣別', '數量', '已出數量', '未出數', '銷售單位',\n",
    "                    '單價', '集團匯率', '集團匯率*金額', '客戶料號', '客戶希交日', 'TERM', '出通單號']"
   ]
  },
  {
   "cell_type": "code",
   "execution_count": null,
   "metadata": {
    "scrolled": true
   },
   "outputs": [],
   "source": [
    "rf.shape"
   ]
  },
  {
   "cell_type": "code",
   "execution_count": null,
   "metadata": {},
   "outputs": [],
   "source": [
    "rf = rf[keep_columns]"
   ]
  },
  {
   "cell_type": "code",
   "execution_count": null,
   "metadata": {},
   "outputs": [],
   "source": [
    "rf_unit_change = rf[rf['銷售單位'] == 'KPCS']\n",
    "rf_keep_unit = rf[~(rf['銷售單位'] == 'KPCS')]\n",
    "rf_unit_change['數量'] = rf_unit_change['數量'].map(lambda x: x * 1000)\n",
    "rf_unit_change['已出數量'] = rf_unit_change['已出數量'].map(lambda x: x * 1000)\n",
    "rf_unit_change['未出數'] = rf_unit_change['未出數'].map(lambda x: x * 1000)\n",
    "rf_unit_change['單價'] = rf_unit_change['單價'].map(lambda x: x / 1000)\n",
    "\n",
    "rf = pd.concat([rf_unit_change, rf_keep_unit], axis=0)\n",
    "\n",
    "append_dict = {0: 'Category', 1: 'BG', 2: 'Subcategory', 3: 'Group', 4: '預交年份', 5: '預交月份', }\n",
    "for k, v in append_dict.items():\n",
    "    rf.insert(k, v, value=None)\n",
    "\n",
    "rf = rf.drop('銷售單位', axis=1)"
   ]
  },
  {
   "cell_type": "code",
   "execution_count": null,
   "metadata": {},
   "outputs": [],
   "source": [
    "columns = ['Category', 'BG', 'Subcategory', 'Group', '狀態', '銷售單號', '銷售項次', '銷售月份', '開單日期', '預交日期', '預交年份', '預交月份', '交期變更',\n",
    "               '客戶名稱', '負責業務', '交貨方式', '產品分類', '品名', '幣別', '數量', '已出數量', '未出數', '單價', '集團匯率', '集團匯率*金額', '客戶料號', '客戶希交日',\n",
    "               'TERM', '出通單號']"
   ]
  },
  {
   "cell_type": "code",
   "execution_count": null,
   "metadata": {},
   "outputs": [],
   "source": [
    "result = rf.reindex(columns=columns)"
   ]
  },
  {
   "cell_type": "code",
   "execution_count": null,
   "metadata": {},
   "outputs": [],
   "source": [
    "result['負責業務'] = result['負責業務'].map(lambda x: '許凱智' if x == '楊婉芬' or x == '周彥宏' else x)\n",
    "result = result[result['負責業務'].isin(['鄭里緗', '墨漢雷迪', '許凱智'])]"
   ]
  },
  {
   "cell_type": "code",
   "execution_count": null,
   "metadata": {},
   "outputs": [],
   "source": [
    "result['數量'] = result['數量'].astype(int)\n",
    "result['已出數量'] = result['已出數量'].astype(int)\n",
    "result['未出數'] = result['未出數'].astype(int)\n"
   ]
  },
  {
   "cell_type": "code",
   "execution_count": null,
   "metadata": {
    "scrolled": true
   },
   "outputs": [],
   "source": [
    "result.to_excel(r'C:\\Users\\kaihsu\\Desktop\\業績總表\\2021_rf_clean.xlsx', index=False)"
   ]
  },
  {
   "cell_type": "markdown",
   "metadata": {},
   "source": [
    "### 元件竹南廠清洗"
   ]
  },
  {
   "cell_type": "code",
   "execution_count": null,
   "metadata": {},
   "outputs": [],
   "source": [
    "zhunan2020 = pd.read_excel(r\"C:\\Users\\kaihsu\\Desktop\\業績總表\\舊ERP 2020.xlsx\")"
   ]
  },
  {
   "cell_type": "code",
   "execution_count": null,
   "metadata": {},
   "outputs": [],
   "source": [
    "zhunan2020.columns"
   ]
  },
  {
   "cell_type": "code",
   "execution_count": null,
   "metadata": {},
   "outputs": [],
   "source": [
    "keep_columns = ['狀態', '銷售單號', '項次', '月份', '開單日期', '預交日期', '交期變更', '客戶名稱', '負責業務', '交貨方式',\n",
    "                '產品分類', '品名', '幣別', '數量', '單位', '已出數量', '未出數', \n",
    "                '單價', '集團匯率(NTD)', '金額*集團匯率(NTD)', '客戶料號', '客戶希交日', 'Term', '出通單號']"
   ]
  },
  {
   "cell_type": "code",
   "execution_count": null,
   "metadata": {},
   "outputs": [],
   "source": [
    "zhunan2020 = zhunan2020[keep_columns]"
   ]
  },
  {
   "cell_type": "code",
   "execution_count": null,
   "metadata": {},
   "outputs": [],
   "source": [
    "zhunan2020_unit_change = zhunan2020[zhunan2020['單位'] == 'KPCS']\n",
    "zhunan2020_keep_unit = zhunan2020[~(zhunan2020['單位'] == 'KPCS')]\n",
    "zhunan2020_unit_change['數量'] = zhunan2020_unit_change['數量'].map(lambda x: x * 1000)\n",
    "zhunan2020_unit_change['已出數量'] = zhunan2020_unit_change['已出數量'].map(lambda x: x * 1000)\n",
    "zhunan2020_unit_change['未出數'] = zhunan2020_unit_change['未出數'].map(lambda x: x * 1000)\n",
    "zhunan2020_unit_change['單價'] = zhunan2020_unit_change['單價'].map(lambda x: x / 1000)\n",
    "\n",
    "zhunan2020 = pd.concat([zhunan2020_unit_change, zhunan2020_keep_unit], axis=0)\n",
    "\n",
    "append_dict = {0: 'Category', 1: 'BG', 2: 'Subcategory', 3: 'Group', 4: '預交年份', 5: '預交月份', }\n",
    "for k, v in append_dict.items():\n",
    "    zhunan2020.insert(k, v, value=None)\n",
    "\n",
    "zhunan2020 = zhunan2020.drop('單位', axis=1)"
   ]
  },
  {
   "cell_type": "code",
   "execution_count": null,
   "metadata": {},
   "outputs": [],
   "source": [
    "columns = ['Category', 'BG', 'Subcategory', 'Group', '狀態', '銷售單號', '項次', '銷售月份', '開單日期', '預交日期', '預交年份', '預交月份', '交期變更',\n",
    "               '客戶名稱', '負責業務', '交貨方式', '產品分類', '品名', '幣別', '數量', '已出數量', '未出數', '單價', '集團匯率(NTD)', '金額*集團匯率(NTD)', '客戶料號', '客戶希交日',\n",
    "               'Term', '出通單號']"
   ]
  },
  {
   "cell_type": "code",
   "execution_count": null,
   "metadata": {},
   "outputs": [],
   "source": [
    "result = zhunan2020.reindex(columns=columns)"
   ]
  },
  {
   "cell_type": "code",
   "execution_count": null,
   "metadata": {},
   "outputs": [],
   "source": [
    "result['負責業務'] = result['負責業務'].map(lambda x: '鄭里緗' if x == '鄭裡緗' or x == '沈思明' else x)\n",
    "result = result[result['負責業務'].isin(['鄭里緗', '許凱智'])]"
   ]
  },
  {
   "cell_type": "code",
   "execution_count": null,
   "metadata": {},
   "outputs": [],
   "source": [
    "result['數量'] = result['數量'].astype(int)\n",
    "result['已出數量'] = result['已出數量'].astype(int)\n",
    "result['未出數'] = result['未出數'].astype(int)\n",
    "result['集團匯率*金額'] = result['金額*集團匯率(NTD)'].astype(int)"
   ]
  },
  {
   "cell_type": "code",
   "execution_count": null,
   "metadata": {},
   "outputs": [],
   "source": [
    "result.to_excel(r'C:\\Users\\kaihsu\\Desktop\\業績總表\\2020_zhunan_clean.xlsx', index=False)"
   ]
  },
  {
   "cell_type": "markdown",
   "metadata": {},
   "source": [
    "### 2021元件"
   ]
  },
  {
   "cell_type": "code",
   "execution_count": null,
   "metadata": {},
   "outputs": [],
   "source": [
    "wuxi = pd.read_excel(r\"C:\\Users\\kaihsu\\Desktop\\業績總表\\2021 HYWUXI.xls\")\n",
    "zhunan = pd.read_excel(r\"C:\\Users\\kaihsu\\Desktop\\業績總表\\2021 INPAQ.xls\")"
   ]
  },
  {
   "cell_type": "code",
   "execution_count": null,
   "metadata": {},
   "outputs": [],
   "source": [
    "zhunan.columns"
   ]
  },
  {
   "cell_type": "code",
   "execution_count": null,
   "metadata": {},
   "outputs": [],
   "source": [
    "keep_columns = ['狀態', '銷售單號', '銷售項次', '銷售月份', '開單日期', '預交日期', '交期變更', '客戶名稱', '負責業務', '交貨方式',\n",
    "                '產品分類', '品名', '幣別', '數量', '銷售單位', '已出數量', '未出數', \n",
    "                '單價', '集團匯率', '集團匯率*金額', '客戶料號', '客戶希交日', 'TERM', '出通單號']"
   ]
  },
  {
   "cell_type": "code",
   "execution_count": null,
   "metadata": {},
   "outputs": [],
   "source": [
    "wuxi = wuxi[keep_columns]\n",
    "zhunan = zhunan[keep_columns]"
   ]
  },
  {
   "cell_type": "code",
   "execution_count": null,
   "metadata": {},
   "outputs": [],
   "source": [
    "df = pd.concat([wuxi, zhunan], axis=0)"
   ]
  },
  {
   "cell_type": "code",
   "execution_count": null,
   "metadata": {
    "scrolled": true
   },
   "outputs": [],
   "source": [
    "df_unit_change = df[df['銷售單位'] == 'KPCS']\n",
    "df_keep_unit = df[~(df['銷售單位'] == 'KPCS')]\n",
    "df_unit_change['數量'] = df_unit_change['數量'].map(lambda x: x * 1000)\n",
    "df_unit_change['已出數量'] = df_unit_change['已出數量'].map(lambda x: x * 1000)\n",
    "df_unit_change['未出數'] = df_unit_change['未出數'].map(lambda x: x * 1000)\n",
    "df_unit_change['單價'] = df_unit_change['單價'].map(lambda x: x / 1000)\n",
    "\n",
    "df = pd.concat([df_unit_change, df_keep_unit], axis=0)\n",
    "\n",
    "append_dict = {0: 'Category', 1: 'BG', 2: 'Subcategory', 3: 'Group', 4: '預交年份', 5: '預交月份', }\n",
    "for k, v in append_dict.items():\n",
    "    df.insert(k, v, value=None)\n",
    "\n",
    "df = df.drop('銷售單位', axis=1)"
   ]
  },
  {
   "cell_type": "code",
   "execution_count": null,
   "metadata": {},
   "outputs": [],
   "source": [
    "columns = ['Category', 'BG', 'Subcategory', 'Group', '狀態', '銷售單號', '銷售項次', '銷售月份', '開單日期', '預交日期', '預交年份', '預交月份', '交期變更',\n",
    "               '客戶名稱', '負責業務', '交貨方式', '產品分類', '品名', '幣別', '數量', '已出數量', '未出數', '單價', '集團匯率', '集團匯率*金額', '客戶料號', '客戶希交日',\n",
    "               'TERM', '出通單號']\n",
    "result = df.reindex(columns=columns)"
   ]
  },
  {
   "cell_type": "code",
   "execution_count": null,
   "metadata": {},
   "outputs": [],
   "source": [
    "df['數量'] = df['數量'].astype(int)\n",
    "df['已出數量'] = df['已出數量'].astype(int)\n",
    "df['未出數'] = df['未出數'].astype(int)\n",
    "df['集團匯率*金額'] = df['集團匯率*金額'].astype(int)\n",
    "df.to_excel(r'C:\\Users\\kaihsu\\Desktop\\業績總表\\2021_component_clean.xlsx', index=False)"
   ]
  },
  {
   "cell_type": "markdown",
   "metadata": {},
   "source": [
    "### 2021小顧無錫廠"
   ]
  },
  {
   "cell_type": "code",
   "execution_count": null,
   "metadata": {},
   "outputs": [],
   "source": [
    "df = pd.read_excel(r\"C:\\Users\\kaihsu\\Desktop\\業績總表\\已交未交明细.xlsx\")"
   ]
  },
  {
   "cell_type": "code",
   "execution_count": null,
   "metadata": {},
   "outputs": [],
   "source": [
    "df.columns"
   ]
  },
  {
   "cell_type": "code",
   "execution_count": null,
   "metadata": {},
   "outputs": [],
   "source": [
    "keep_columns = ['状态', '销售单号', '销售项次', '销售月份', '开单日期', '预交日期', '交期变更', '客户名称', '负责业务', '交货方式', '产品分类', '品名', '币别', '数量', '已出数量', '未出数', '销售单位',\n",
    "                    '单价', '集团汇率', '集团汇率*金额', '客户料号', '客户希交日', 'TERM', '出通单号']\n",
    "df = df[keep_columns]"
   ]
  },
  {
   "cell_type": "code",
   "execution_count": null,
   "metadata": {},
   "outputs": [],
   "source": [
    "df.columns = ['狀態', '銷售單號', '銷售項次', '銷售月份', '開單日期', '預交日期', '交期變更', '客戶名稱', '負責業務', '交貨方式', '產品分類', '品名', '幣別', '數量', '已出數量', '未出數', '銷售單位',\n",
    "                    '單價', '集團匯率', '集團匯率*金額', '客戶料號', '客戶希交日', 'TERM', '出通單號']"
   ]
  },
  {
   "cell_type": "code",
   "execution_count": null,
   "metadata": {},
   "outputs": [],
   "source": [
    "df_unit_change = df[df['銷售單位'] == 'KPCS']\n",
    "df_keep_unit = df[~(df['銷售單位'] == 'KPCS')]\n",
    "df_unit_change['數量'] = df_unit_change['數量'].map(lambda x: x * 1000)\n",
    "df_unit_change['已出數量'] = df_unit_change['已出數量'].map(lambda x: x * 1000)\n",
    "df_unit_change['未出數'] = df_unit_change['未出數'].map(lambda x: x * 1000)\n",
    "df_unit_change['單價'] = df_unit_change['單價'].map(lambda x: x / 1000)\n",
    "\n",
    "df = pd.concat([df_unit_change, df_keep_unit], axis=0)\n",
    "\n",
    "append_dict = {0: 'Category', 1: 'BG', 2: 'Subcategory', 3: 'Group', 4: '預交年份', 5: '預交月份', }\n",
    "for k, v in append_dict.items():\n",
    "    df.insert(k, v, value=None)\n",
    "\n",
    "df = df.drop('銷售單位', axis=1)\n",
    "\n",
    "columns = ['Category', 'BG', 'Subcategory', 'Group', '狀態', '銷售單號', '銷售項次', '銷售月份', '開單日期', '預交日期', '預交年份', '預交月份', '交期變更',\n",
    "               '客戶名稱', '負責業務', '交貨方式', '產品分類', '品名', '幣別', '數量', '已出數量', '未出數', '單價', '集團匯率', '集團匯率*金額', '客戶料號', '客戶希交日',\n",
    "               'TERM', '出通單號']\n",
    "result = df.reindex(columns=columns)\n",
    "\n",
    "df['數量'] = df['數量'].astype(int)\n",
    "df['已出數量'] = df['已出數量'].astype(int)\n",
    "df['未出數'] = df['未出數'].astype(int)\n",
    "df['集團匯率*金額'] = df['集團匯率*金額'].astype(int)\n"
   ]
  },
  {
   "cell_type": "code",
   "execution_count": null,
   "metadata": {},
   "outputs": [],
   "source": [
    "df['負責業務'] = df['負責業務'].map(lambda x: '鄭裡緗' if x == '沈思明' else x)"
   ]
  },
  {
   "cell_type": "code",
   "execution_count": null,
   "metadata": {},
   "outputs": [],
   "source": [
    "df.to_excel(r'C:\\Users\\kaihsu\\Desktop\\業績總表\\2021_小顧_clean.xlsx', index=False)"
   ]
  }
 ],
 "metadata": {
  "kernelspec": {
   "display_name": "Python 3",
   "language": "python",
   "name": "python3"
  },
  "language_info": {
   "codemirror_mode": {
    "name": "ipython",
    "version": 3
   },
   "file_extension": ".py",
   "mimetype": "text/x-python",
   "name": "python",
   "nbconvert_exporter": "python",
   "pygments_lexer": "ipython3",
   "version": "3.8.5"
  }
 },
 "nbformat": 4,
 "nbformat_minor": 4
}
