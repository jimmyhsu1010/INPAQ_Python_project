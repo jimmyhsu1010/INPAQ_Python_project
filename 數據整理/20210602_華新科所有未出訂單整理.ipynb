{
 "cells": [
  {
   "cell_type": "code",
   "execution_count": null,
   "metadata": {},
   "outputs": [],
   "source": [
    "import pandas as pd\n",
    "pd.set_option('display.max_columns', None)\n",
    "pd.set_option('mode.chained_assignment', None)\n",
    "import tkinter as tk\n",
    "from tkinter import filedialog"
   ]
  },
  {
   "cell_type": "code",
   "execution_count": null,
   "metadata": {},
   "outputs": [],
   "source": [
    "df = pd.read_excel('/Users/kai/OneDrive/INPAQ/業績總表/Weekly report_v0.1.xlsx', sheet_name='出貨明細')"
   ]
  },
  {
   "cell_type": "markdown",
   "metadata": {},
   "source": [
    "## 思路整理：\n",
    "- 時間為7月之後的未交訂單\n",
    "- 客戶為華新科技，不看WIP\n",
    "- 按照BU別、銷售單號、項次、預交日期、未交數量、品名來篩選"
   ]
  },
  {
   "cell_type": "code",
   "execution_count": null,
   "metadata": {
    "scrolled": true
   },
   "outputs": [],
   "source": [
    "df.columns"
   ]
  },
  {
   "cell_type": "code",
   "execution_count": null,
   "metadata": {},
   "outputs": [],
   "source": [
    "df['客戶名稱'].unique()"
   ]
  },
  {
   "cell_type": "code",
   "execution_count": null,
   "metadata": {
    "scrolled": true
   },
   "outputs": [],
   "source": [
    "result = df[(df['預交日期'] >= '2021-06-02') & (df['客戶名稱'].isin(['華新科技', '華科高雄', '東莞華匯'])) & (df['BU'].isin(['EMC', 'MAG', 'PC']))]"
   ]
  },
  {
   "cell_type": "code",
   "execution_count": null,
   "metadata": {},
   "outputs": [],
   "source": [
    "result = result.groupby(['客戶名稱', 'BU', '產品分類', '銷售單號', '銷售項次', '預交日期', '品名'])[['未出數', '本國幣別NTD']].sum().reset_index()"
   ]
  },
  {
   "cell_type": "code",
   "execution_count": null,
   "metadata": {
    "scrolled": false
   },
   "outputs": [],
   "source": [
    "result['產品分類'] = result['產品分類'].str.extract(r'([A-Z]{3,4}\\d{4}|[A-Z]+.[A-Z]+.[A-Z]+)')"
   ]
  },
  {
   "cell_type": "code",
   "execution_count": null,
   "metadata": {},
   "outputs": [],
   "source": [
    "result['本國幣別NTD'] = result['本國幣別NTD'].astype('int')"
   ]
  },
  {
   "cell_type": "code",
   "execution_count": null,
   "metadata": {},
   "outputs": [],
   "source": [
    "result.to_excel('/Users/kai/OneDrive/INPAQ/客戶/華新科/出貨相關整理資料/20210602_華新科未交訂單整理.xlsx', index=False)"
   ]
  },
  {
   "cell_type": "code",
   "execution_count": null,
   "metadata": {},
   "outputs": [],
   "source": [
    "result['產品分類'].unique()"
   ]
  }
 ],
 "metadata": {
  "kernelspec": {
   "display_name": "Python 3",
   "language": "python",
   "name": "python3"
  },
  "language_info": {
   "codemirror_mode": {
    "name": "ipython",
    "version": 3
   },
   "file_extension": ".py",
   "mimetype": "text/x-python",
   "name": "python",
   "nbconvert_exporter": "python",
   "pygments_lexer": "ipython3",
   "version": "3.8.5"
  }
 },
 "nbformat": 4,
 "nbformat_minor": 4
}
