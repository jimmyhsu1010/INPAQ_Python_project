{
 "cells": [
  {
   "cell_type": "code",
   "execution_count": null,
   "id": "d5cc8ec1",
   "metadata": {},
   "outputs": [],
   "source": [
    "import pandas as pd\n",
    "pd.set_option('display.max_columns', None)"
   ]
  },
  {
   "cell_type": "code",
   "execution_count": null,
   "id": "797bc919",
   "metadata": {},
   "outputs": [],
   "source": [
    "df = pd.read_excel(r\"C:\\Users\\kaihsu\\Desktop\\業績總表\\Weekly report_v0.1.xlsx\", sheet_name='出貨明細')"
   ]
  },
  {
   "cell_type": "code",
   "execution_count": null,
   "id": "5e7f4824",
   "metadata": {
    "scrolled": true
   },
   "outputs": [],
   "source": [
    "df.columns"
   ]
  },
  {
   "cell_type": "code",
   "execution_count": null,
   "id": "1237a2ee",
   "metadata": {},
   "outputs": [],
   "source": [
    "teltonika = df[(df['Group'] == 'TELTONIKA') & (df['BU'].isin(['RF', 'RF1', 'RF2']))]"
   ]
  },
  {
   "cell_type": "code",
   "execution_count": null,
   "id": "8bf0911f",
   "metadata": {},
   "outputs": [],
   "source": [
    "import plotly.express as px"
   ]
  },
  {
   "cell_type": "code",
   "execution_count": null,
   "id": "2d6261dd",
   "metadata": {
    "scrolled": true
   },
   "outputs": [],
   "source": [
    "px.box(teltonika, x='產品分類', y='單價')"
   ]
  },
  {
   "cell_type": "code",
   "execution_count": null,
   "id": "56d8f37c",
   "metadata": {},
   "outputs": [],
   "source": []
  }
 ],
 "metadata": {
  "kernelspec": {
   "display_name": "Python 3",
   "language": "python",
   "name": "python3"
  },
  "language_info": {
   "codemirror_mode": {
    "name": "ipython",
    "version": 3
   },
   "file_extension": ".py",
   "mimetype": "text/x-python",
   "name": "python",
   "nbconvert_exporter": "python",
   "pygments_lexer": "ipython3",
   "version": "3.8.11"
  }
 },
 "nbformat": 4,
 "nbformat_minor": 5
}
