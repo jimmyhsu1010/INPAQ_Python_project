{
 "cells": [
  {
   "cell_type": "code",
   "execution_count": null,
   "id": "049adc5f",
   "metadata": {},
   "outputs": [],
   "source": [
    "import pandas as pd\n",
    "pd.set_option('display.max_columns', None)\n",
    "pd.set_option('mode.chained_assignment', None)\n",
    "\n",
    "def my_formatter(x):\n",
    "    if x < 0:\n",
    "        return '{:,.0f}'.format(-x)\n",
    "    return '{:,.02}'.format(x)\n",
    "pd.options.display.float_format = my_formatter"
   ]
  },
  {
   "cell_type": "code",
   "execution_count": null,
   "id": "bc44efbd",
   "metadata": {},
   "outputs": [],
   "source": [
    "df = pd.read_excel(r\"C:\\Users\\kaihsu\\Desktop\\業績總表\\FEC.xls\", header=3)"
   ]
  },
  {
   "cell_type": "code",
   "execution_count": null,
   "id": "9a585408",
   "metadata": {},
   "outputs": [],
   "source": [
    "df = df[:-2]"
   ]
  },
  {
   "cell_type": "code",
   "execution_count": null,
   "id": "9483e6bc",
   "metadata": {},
   "outputs": [],
   "source": [
    "keep_columns = ['狀態', '銷售單號', '銷售項次', '銷售月份', '開單日期', '排定交貨日', '預交日期', '交期變更', '客戶名稱', '負責業務', '交貨方式',\n",
    "                        '產品分類', '品名', '幣別', '數量', '銷售單位', '已出數量', '未出數',\n",
    "                        '單價', '集團匯率', '集團匯率*金額', '客戶料號', '客戶希交日', 'TERM', '出通單號', '客戶訂單', '客戶訂單項次', 'BU', 'INVOICE號碼']"
   ]
  },
  {
   "cell_type": "code",
   "execution_count": null,
   "id": "2f379f25",
   "metadata": {},
   "outputs": [],
   "source": [
    "df = df[keep_columns]"
   ]
  },
  {
   "cell_type": "code",
   "execution_count": null,
   "id": "9007de47",
   "metadata": {},
   "outputs": [],
   "source": [
    "df['數量'] = df['數量'].map(lambda x: x * 1000)\n",
    "df['已出數量'] = df['已出數量'].map(lambda x: x * 1000)\n",
    "df['未出數'] = df['未出數'].map(lambda x: x * 1000)\n",
    "df['單價'] = df['單價'].map(lambda x: x / 1000)\n"
   ]
  },
  {
   "cell_type": "code",
   "execution_count": null,
   "id": "8792bd34",
   "metadata": {},
   "outputs": [],
   "source": [
    "append_dict = {0: 'Category', 1: 'BG', 2: 'Subcategory', 3: 'Group', 11: '預交年份', 12: '預交月份', }\n",
    "for k, v in append_dict.items():\n",
    "    df.insert(k, v, value=None)"
   ]
  },
  {
   "cell_type": "code",
   "execution_count": null,
   "id": "c8b91fab",
   "metadata": {},
   "outputs": [],
   "source": [
    "df = df.drop(['銷售單位', '客戶訂單', '客戶訂單項次'], axis=1)\n",
    "columns = ['Category', 'BG', 'Subcategory', 'Group', '狀態', '銷售單號', '銷售項次', '銷售月份', '開單日期', '排定交貨日', '預交日期', '預交年份',\n",
    "           '預交月份',\n",
    "           '交期變更',\n",
    "           '客戶名稱', '負責業務', '交貨方式', '產品分類', '品名', '幣別', '數量', '已出數量', '未出數', '單價', '集團匯率', '集團匯率*金額', '客戶料號',\n",
    "           '客戶希交日',\n",
    "           'TERM', '出通單號', 'BU']"
   ]
  },
  {
   "cell_type": "code",
   "execution_count": null,
   "id": "aeac813f",
   "metadata": {},
   "outputs": [],
   "source": [
    "result = df.reindex(columns=columns)"
   ]
  },
  {
   "cell_type": "code",
   "execution_count": null,
   "id": "c9a1ff87",
   "metadata": {},
   "outputs": [],
   "source": [
    "result['負責業務'] = '許凱智'"
   ]
  },
  {
   "cell_type": "code",
   "execution_count": null,
   "id": "77543bff",
   "metadata": {},
   "outputs": [],
   "source": [
    "result['數量'] = result['數量'].astype(int)\n",
    "result['已出數量'] = result['已出數量'].astype(int)\n",
    "result['未出數'] = result['未出數'].astype(int)\n",
    "result['幣別'] = result['幣別'].map(lambda x: 'NTD' if x == 'TWD' else x)"
   ]
  },
  {
   "cell_type": "code",
   "execution_count": null,
   "id": "87bbd23a",
   "metadata": {},
   "outputs": [],
   "source": [
    "result.to_excel(r\"C:\\Users\\kaihsu\\Desktop\\業績總表\\2021FEC移交前數據.xlsx\", index=False)"
   ]
  },
  {
   "cell_type": "code",
   "execution_count": null,
   "id": "8f6f5e22",
   "metadata": {},
   "outputs": [],
   "source": []
  }
 ],
 "metadata": {
  "kernelspec": {
   "display_name": "Python 3",
   "language": "python",
   "name": "python3"
  },
  "language_info": {
   "codemirror_mode": {
    "name": "ipython",
    "version": 3
   },
   "file_extension": ".py",
   "mimetype": "text/x-python",
   "name": "python",
   "nbconvert_exporter": "python",
   "pygments_lexer": "ipython3",
   "version": "3.8.11"
  }
 },
 "nbformat": 4,
 "nbformat_minor": 5
}
