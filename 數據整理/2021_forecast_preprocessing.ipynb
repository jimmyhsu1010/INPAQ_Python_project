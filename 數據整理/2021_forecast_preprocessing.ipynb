{
 "cells": [
  {
   "cell_type": "code",
   "execution_count": null,
   "metadata": {},
   "outputs": [],
   "source": [
    "import pandas as pd\n",
    "import numpy as np\n",
    "pd.set_option('display.max_rows', 10)\n",
    "pd.set_option('display.max_columns', None)\n",
    "import plotly.express as px"
   ]
  },
  {
   "cell_type": "markdown",
   "metadata": {},
   "source": [
    "## Plotly Treemap chart試做"
   ]
  },
  {
   "cell_type": "code",
   "execution_count": null,
   "metadata": {},
   "outputs": [],
   "source": [
    "# df = pd.read_excel('/Users/kai/Desktop/Weekly report_v0.1.xlsx', sheet_name='出貨明細') # Mac用\n",
    "df = pd.read_excel(r'C:\\Users\\kaihsu\\Desktop\\業績總表\\Weekly report_v0.1.xlsx', sheet_name='出貨明細')\n",
    "# df = df[df['負責業務'] == '許凱智']\n",
    "# df.to_csv(r'C:\\Users\\kaihsu\\Desktop\\test1.csv', index=False)\n"
   ]
  },
  {
   "cell_type": "code",
   "execution_count": null,
   "metadata": {},
   "outputs": [],
   "source": [
    "fig = px.treemap(df, path=['負責業務', 'Group','預交年份','BG', '品名'], values='數量', color='負責業務')\n",
    "fig.show()"
   ]
  },
  {
   "cell_type": "code",
   "execution_count": null,
   "metadata": {},
   "outputs": [],
   "source": [
    "df.head(5)"
   ]
  },
  {
   "cell_type": "markdown",
   "metadata": {},
   "source": [
    "### Amber年度預算報告數據整理"
   ]
  },
  {
   "cell_type": "code",
   "execution_count": null,
   "metadata": {},
   "outputs": [],
   "source": [
    "df = pd.read_excel(r'C:\\Users\\kaihsu\\Desktop\\2021 Forecast\\Susan要的\\預算彙總表2021 Components_Amber_team.xlsx', None)\n",
    "# df = pd.read_excel('/Users/kai/Desktop/drive-download-20201027T132030Z-001/預算彙總表2021 Components_Amber_team.xlsx', None)\n",
    "com_qty = df['元件數量']\n",
    "com_amount = df['元件金額']\n",
    "rf_qty = df['天線數量']\n",
    "rf_amount = df['天線金額']"
   ]
  },
  {
   "cell_type": "code",
   "execution_count": null,
   "metadata": {},
   "outputs": [],
   "source": [
    "com_qty = com_qty.groupby(['業務名稱', 'Group', 'BG', '品名']).sum().stack().reset_index()\n",
    "com_qty.columns = ['業務名稱', 'Group', 'BG', '品名', '月份', '數量']\n",
    "com_qty['年份'] = 2021\n",
    "rf_qty = rf_qty.groupby(['業務名稱', 'Group', 'BG', '品名']).sum().stack().reset_index()\n",
    "rf_qty.columns = ['業務名稱', 'Group', 'BG', '品名', '月份', '數量']\n",
    "rf_qty['年份'] = 2021\n",
    "com_amount = com_amount.groupby(['業務名稱', 'Group', 'BG', '品名']).sum().stack().reset_index()\n",
    "com_amount.columns = ['業務名稱', 'Group', 'BG', '品名', '月份', '金額']\n",
    "com_amount['年份'] = 2021\n",
    "rf_amount = rf_amount.groupby(['業務名稱', 'Group', 'BG', '品名']).sum().stack().reset_index()\n",
    "rf_amount.columns = ['業務名稱', 'Group', 'BG', '品名', '月份', '金額']\n",
    "rf_amount['年份'] = 2021"
   ]
  },
  {
   "cell_type": "code",
   "execution_count": null,
   "metadata": {
    "scrolled": true
   },
   "outputs": [],
   "source": [
    "rf_final = pd.merge(rf_qty, rf_amount, on=['業務名稱', 'Group', 'BG', '品名', '月份', '年份'], how='left').loc[:,['業務名稱', 'Group', 'BG', '品名', '月份', '數量', '金額', '年份']]\n",
    "com_final = pd.merge(com_qty, com_amount, on=['業務名稱', 'Group', 'BG', '品名', '月份', '年份'], how='left').loc[:,['業務名稱', 'Group', 'BG', '品名', '月份', '數量', '金額', '年份']]"
   ]
  },
  {
   "cell_type": "code",
   "execution_count": null,
   "metadata": {},
   "outputs": [],
   "source": [
    "final_budget = pd.concat([rf_final, com_final], axis=0)"
   ]
  },
  {
   "cell_type": "code",
   "execution_count": null,
   "metadata": {},
   "outputs": [],
   "source": [
    "final_budget"
   ]
  },
  {
   "cell_type": "code",
   "execution_count": null,
   "metadata": {
    "scrolled": true
   },
   "outputs": [],
   "source": [
    "final_budget['Group'].unique()"
   ]
  },
  {
   "cell_type": "code",
   "execution_count": null,
   "metadata": {},
   "outputs": [],
   "source": [
    "name_dict = {'墨漢':'墨漢雷迪', '許凱智':'許凱智', '沈思明':'沈思明'}\n",
    "final_budget['業務名稱'] = final_budget['業務名稱'].map(name_dict)\n",
    "client_dict = {'Teltonika': 'TELTONIKA', '東莞華匯': '華新科技', 'MT-System': 'MT-SYSTEM', '信昌':'信昌', '華新科技':'華新科技', '藝感':'藝感', 'Zebra': 'Zebra', 'Digikey':'Digikey',\n",
    "              'MS': 'MS', 'Nexty': 'Nexty', 'OSE':'OSE', 'Reliance':'Reliance', 'Unified':'Unified', 'Bourns':'Bourns',\n",
    "              'Eaton':'Eaton', 'LF':'LF', 'LF OEM':'LF OEM', 'Laird':'Laird', 'WE':'WE'}\n",
    "final_budget['Group'] = final_budget['Group'].map(client_dict)\n",
    "mon_dict = {1 :'January', 2 :'February', 3:'March', 4:'April', 5:'May', 6:'June', 7:'July', 8:'August',\n",
    "           9:'September', 10:'October', 11:'November', 12:'December'}\n",
    "final_budget['月份'] = final_budget['月份'].map(mon_dict)"
   ]
  },
  {
   "cell_type": "code",
   "execution_count": null,
   "metadata": {},
   "outputs": [],
   "source": [
    "sales = pd.read_excel(r'C:\\Users\\kaihsu\\Desktop\\業績總表\\Weekly report_v0.1.xlsx', None)\n",
    "sales = sales['出貨明細']\n",
    "sales = sales[(sales['預交年份'].isin([2019, 2020])) & (sales['狀態'] != '合約') & (sales['狀態'] != '待通知')]\n",
    "keep = ['負責業務', 'BG', 'Group', '預交年份', '預交月份', '數量', '本國幣別NTD', '品名']\n",
    "sales = sales[keep]\n",
    "# mon_dict = {'January':1, 'February':2, 'March':3, 'April':4, 'May':5, 'June':6, 'July':7, 'August':8,'September':9,'October':10,'November':11,'December':12}\n",
    "# sales['預交月份'] = sales['預交月份'].map(mon_dict)"
   ]
  },
  {
   "cell_type": "code",
   "execution_count": null,
   "metadata": {},
   "outputs": [],
   "source": [
    "client_dict2 = {'藝感': '藝感', '華新科技':'華新科技', '東莞弘電':'東莞弘電', 'Laird':'Laird', 'WE':'WE', 'Eaton':'Eaton', 'Bourns':'Bourns', 'LF':'LF', '信昌':'信昌',\n",
    "       'TELTONIKA':'TELTONIKA', 'MT-SYSTEM':'MT-SYSTEM', 'TE ':'TE', 'LF OEM':'LF OEM', 'Zebra':'Zebra', 'Fides':'Fides',\n",
    "       'MATE':'Reliance', 'SSF':'Reliance', 'G -PLAST':'Reliance', 'Univa Te':'Unified', 'JBJ':'Reliance', 'Sancraft':'Reliance',\n",
    "       'FIRST EN':'Reliance', 'M.S.':'MS'}\n",
    "sales['Group'] = sales['Group'].map(client_dict2)"
   ]
  },
  {
   "cell_type": "code",
   "execution_count": null,
   "metadata": {},
   "outputs": [],
   "source": [
    "sales.columns"
   ]
  },
  {
   "cell_type": "code",
   "execution_count": null,
   "metadata": {},
   "outputs": [],
   "source": [
    "final_budget.columns"
   ]
  },
  {
   "cell_type": "code",
   "execution_count": null,
   "metadata": {},
   "outputs": [],
   "source": [
    "final_budget.columns = ['負責業務', 'Group', 'BG', '品名', '預交月份', '數量', '本國幣別NTD', '預交年份']\n",
    "final_budget = final_budget.reindex(columns=['負責業務', 'BG', 'Group', '預交年份', '預交月份', '數量', '本國幣別NTD', '品名'])\n",
    "# final_budget"
   ]
  },
  {
   "cell_type": "code",
   "execution_count": null,
   "metadata": {},
   "outputs": [],
   "source": [
    "total_table = pd.concat([sales, final_budget], axis=0)\n"
   ]
  },
  {
   "cell_type": "code",
   "execution_count": null,
   "metadata": {},
   "outputs": [],
   "source": [
    "total_table['類型'] = total_table.apply(lambda x: '天線' if x['BG'] == 'RF' else '元件', axis=1)"
   ]
  },
  {
   "cell_type": "code",
   "execution_count": null,
   "metadata": {},
   "outputs": [],
   "source": [
    "total_table.to_excel(r'C:\\Users\\kaihsu\\Desktop\\業績總表\\最終預算報告用表格（新）.xlsx', index=False, sheet_name='報告用')"
   ]
  },
  {
   "cell_type": "markdown",
   "metadata": {},
   "source": [
    "### Teltonika預算轉置"
   ]
  },
  {
   "cell_type": "code",
   "execution_count": null,
   "metadata": {},
   "outputs": [],
   "source": [
    "df = pd.read_excel(r'C:\\Users\\kaihsu\\Desktop\\2021 Forecast\\2021_forecast_Teltonika_response.xlsx', None)\n",
    "df = df['2021 Forecast']"
   ]
  },
  {
   "cell_type": "code",
   "execution_count": null,
   "metadata": {
    "scrolled": true
   },
   "outputs": [],
   "source": [
    "df = df.groupby(['INPAQ PN']).sum().stack().reset_index()\n",
    "df.to_excel(r'C:\\Users\\kaihsu\\Desktop\\2021 Forecast\\2021_forecast_Teltonika_revised.xlsx', index=False)"
   ]
  },
  {
   "cell_type": "markdown",
   "metadata": {},
   "source": [
    "### 年度別區域客戶總金額/總出貨"
   ]
  },
  {
   "cell_type": "code",
   "execution_count": null,
   "metadata": {},
   "outputs": [],
   "source": [
    "df = pd.read_excel(r'C:\\Users\\kaihsu\\Desktop\\業績總表\\Weekly report_v0.1.xlsx', None)\n",
    "df = df['出貨明細']"
   ]
  },
  {
   "cell_type": "code",
   "execution_count": null,
   "metadata": {},
   "outputs": [],
   "source": [
    "df = df[(df['預交年份'].isin([2019, 2020]) & (df['狀態'] != '合約') & (df['狀態'] != '待通知')]"
   ]
  },
  {
   "cell_type": "code",
   "execution_count": null,
   "metadata": {},
   "outputs": [],
   "source": [
    "keep = ['負責業務', 'BG', 'Group', '預交年份', '預交月份', '數量', '本國幣別NTD']\n",
    "df = df[keep]"
   ]
  },
  {
   "cell_type": "code",
   "execution_count": null,
   "metadata": {},
   "outputs": [],
   "source": [
    "mon_dict = {'January':1, 'February':2, 'March':3, 'April':4, 'May':5, 'June':6, 'July':7, 'August':8,'September':9,'October':10,'November':11,'December':12}\n",
    "df['預交月份'] = df['預交月份'].map(mon_dict)"
   ]
  },
  {
   "cell_type": "code",
   "execution_count": null,
   "metadata": {},
   "outputs": [],
   "source": [
    "budget = pd.read_excel(r'C:\\Users\\kaihsu\\Desktop\\2021 Forecast\\2021_forecast_final.xlsx', None)\n",
    "budget = budget['2021預算總表']\n"
   ]
  },
  {
   "cell_type": "code",
   "execution_count": null,
   "metadata": {},
   "outputs": [],
   "source": [
    "budget['數量'] = budget.apply(lambda x: x['Qty.'] * 1000 if x['Unit'] == 'KPCS' else x['Qty.'], axis=1)"
   ]
  },
  {
   "cell_type": "code",
   "execution_count": null,
   "metadata": {},
   "outputs": [],
   "source": [
    "keep_budget = ['Distributor', 'Year', 'Month', 'Product category', 'Total NTD', '數量']\n",
    "budget = budget[keep_budget]"
   ]
  },
  {
   "cell_type": "code",
   "execution_count": null,
   "metadata": {},
   "outputs": [],
   "source": [
    "name_dict = {'Teltonika': 'TELTONIKA', '東莞華匯': '華新科技', 'MT-System': 'MT-SYSTEM', '信昌':'信昌', '華新科技':'華新科技', '藝感':'藝感', 'Zebra': 'Zebra'}\n",
    "budget['Distributor'] = budget['Distributor'].map(name_dict)"
   ]
  },
  {
   "cell_type": "code",
   "execution_count": null,
   "metadata": {},
   "outputs": [],
   "source": [
    "budget = budget.reindex(columns=['Product category', 'Distributor', 'Year', 'Month', '數量', 'Total NTD'])"
   ]
  },
  {
   "cell_type": "code",
   "execution_count": null,
   "metadata": {
    "scrolled": true
   },
   "outputs": [],
   "source": [
    "budget.columns = ['BG', 'Group', '預交年份', '預交月份', '數量', '本國幣別NTD']"
   ]
  },
  {
   "cell_type": "code",
   "execution_count": null,
   "metadata": {},
   "outputs": [],
   "source": [
    "final = pd.concat([df, budget], axis=0).reset_index()"
   ]
  },
  {
   "cell_type": "code",
   "execution_count": null,
   "metadata": {},
   "outputs": [],
   "source": [
    "final = final.groupby(['BG', 'Group', '預交年份'])[['數量', '本國幣別NTD']].sum().reset_index()"
   ]
  },
  {
   "cell_type": "markdown",
   "metadata": {},
   "source": [
    "final.to_excel(r'C:\\Users\\kaihsu\\Desktop\\年份更新.xlsx', index=False)\n",
    "final"
   ]
  },
  {
   "cell_type": "markdown",
   "metadata": {},
   "source": [
    "### Tommy數據整理"
   ]
  },
  {
   "cell_type": "code",
   "execution_count": null,
   "metadata": {},
   "outputs": [],
   "source": [
    "df = pd.read_excel(r'C:\\Users\\kaihsu\\Desktop\\Tommy的預算\\預算彙總表2021 RF_CFT_1021.xlsx', None)\n",
    "df = df['預算總金額']"
   ]
  },
  {
   "cell_type": "code",
   "execution_count": null,
   "metadata": {},
   "outputs": [],
   "source": [
    "df = df.groupby('品名').sum().stack().reset_index()\n"
   ]
  },
  {
   "cell_type": "code",
   "execution_count": null,
   "metadata": {},
   "outputs": [],
   "source": [
    "df.to_excel(r'C:\\Users\\kaihsu\\Desktop\\Tommy的預算\\2021預算.xlsx', index=False)"
   ]
  },
  {
   "cell_type": "markdown",
   "metadata": {},
   "source": [
    "## 數據測試區"
   ]
  },
  {
   "cell_type": "code",
   "execution_count": null,
   "metadata": {},
   "outputs": [],
   "source": [
    "df = pd.read_excel('/Users/kai/Desktop/Weekly report_v0.1_20200924 — копия.xlsx', None)\n",
    "df.keys()"
   ]
  },
  {
   "cell_type": "code",
   "execution_count": null,
   "metadata": {},
   "outputs": [],
   "source": [
    "df_sales = df['出貨明細']\n",
    "df_budget = df['2020預算']"
   ]
  },
  {
   "cell_type": "code",
   "execution_count": null,
   "metadata": {},
   "outputs": [],
   "source": [
    "df_budget.columns = ['Group', '類型', '負責業務', '預交年份', '預交月份', '本國幣別NTD']"
   ]
  },
  {
   "cell_type": "code",
   "execution_count": null,
   "metadata": {
    "scrolled": false
   },
   "outputs": [],
   "source": [
    "months = df_budget['預交月份'].unique().tolist()\n",
    "num_month = []\n",
    "for i in range(1, 13):\n",
    "    num_month.append(i)\n",
    "mon_dict = dict(zip(months, num_month))\n",
    "mon_dict\n",
    "    "
   ]
  },
  {
   "cell_type": "code",
   "execution_count": null,
   "metadata": {},
   "outputs": [],
   "source": [
    "def transer(data):\n",
    "    return mon_dict[data]"
   ]
  },
  {
   "cell_type": "code",
   "execution_count": null,
   "metadata": {},
   "outputs": [],
   "source": [
    "df_budget['月份'] = df_budget['預交月份'].apply(transer)"
   ]
  },
  {
   "cell_type": "code",
   "execution_count": null,
   "metadata": {},
   "outputs": [],
   "source": [
    "df_budget = df_budget.drop('預交月份', axis=1)"
   ]
  },
  {
   "cell_type": "code",
   "execution_count": null,
   "metadata": {},
   "outputs": [],
   "source": [
    "df_budget['本國幣別NTD'] = pd.to_numeric(df_budget['本國幣別NTD'], errors='coerce')"
   ]
  },
  {
   "cell_type": "code",
   "execution_count": null,
   "metadata": {},
   "outputs": [],
   "source": [
    "df_budget"
   ]
  },
  {
   "cell_type": "code",
   "execution_count": null,
   "metadata": {},
   "outputs": [],
   "source": [
    "df_sales.insert(4, '類型', value='實績')"
   ]
  },
  {
   "cell_type": "code",
   "execution_count": null,
   "metadata": {},
   "outputs": [],
   "source": [
    "df_sales_grouped = df_sales.groupby(['Group', '類型', '負責業務', '預交年份', '預交月份'])[['本國幣別NTD']].sum().reset_index()"
   ]
  },
  {
   "cell_type": "code",
   "execution_count": null,
   "metadata": {},
   "outputs": [],
   "source": [
    "df_sales_grouped['月份'] = df_sales_grouped['預交月份'].apply(lambda x: mon_dict[x])"
   ]
  },
  {
   "cell_type": "code",
   "execution_count": null,
   "metadata": {},
   "outputs": [],
   "source": [
    "df_sales_grouped = df_sales_grouped.drop('預交月份', axis=1)"
   ]
  },
  {
   "cell_type": "code",
   "execution_count": null,
   "metadata": {},
   "outputs": [],
   "source": [
    "df_combined = pd.concat([df_sales_grouped, df_budget], axis=0)"
   ]
  },
  {
   "cell_type": "code",
   "execution_count": null,
   "metadata": {},
   "outputs": [],
   "source": [
    "df_combined"
   ]
  },
  {
   "cell_type": "code",
   "execution_count": null,
   "metadata": {},
   "outputs": [],
   "source": [
    "df_combined[df_combined['預交年份'] < 2021].groupby(['Group', '類型', '預交年份', '月份'])[['本國幣別NTD']].sum().unstack(['月份'])"
   ]
  },
  {
   "cell_type": "markdown",
   "metadata": {},
   "source": [
    "## Amber 10/26要處理的數據"
   ]
  },
  {
   "cell_type": "code",
   "execution_count": null,
   "metadata": {},
   "outputs": [],
   "source": [
    "df = pd.read_excel(r'C:\\Users\\kaihsu\\Desktop\\Robin的毛利變化 amber 20201023.xlsx', None)\n",
    "# df.columns = df.columns.str.strip()\n",
    "# df = df.drop(df.columns[-3:], axis=1)"
   ]
  },
  {
   "cell_type": "code",
   "execution_count": null,
   "metadata": {},
   "outputs": [],
   "source": [
    "df = df['工作表5 (3)']"
   ]
  },
  {
   "cell_type": "code",
   "execution_count": null,
   "metadata": {},
   "outputs": [],
   "source": [
    "column_names = df.iloc[0].tolist()"
   ]
  },
  {
   "cell_type": "code",
   "execution_count": null,
   "metadata": {},
   "outputs": [],
   "source": [
    "df.columns = column_names"
   ]
  },
  {
   "cell_type": "code",
   "execution_count": null,
   "metadata": {},
   "outputs": [],
   "source": [
    "df.drop(0, inplace=True)"
   ]
  },
  {
   "cell_type": "code",
   "execution_count": null,
   "metadata": {},
   "outputs": [],
   "source": [
    "df.drop(df.index[-12:], inplace=True)"
   ]
  },
  {
   "cell_type": "code",
   "execution_count": null,
   "metadata": {},
   "outputs": [],
   "source": [
    "df.columns = df.columns.str.strip()"
   ]
  },
  {
   "cell_type": "code",
   "execution_count": null,
   "metadata": {},
   "outputs": [],
   "source": [
    "keep_columns = ['SupplierPN', 'Mike對應PN', 'Shipment', '出貨明細價格', 'RobinQuotation\\n1022', '銀漲前成本', '銀漲後成本']\n",
    "df_first = df[keep_columns]"
   ]
  },
  {
   "cell_type": "code",
   "execution_count": null,
   "metadata": {},
   "outputs": [],
   "source": [
    "df_first['總毛利'] = df_first.apply(lambda x: (x['出貨明細價格'] - x['銀漲後成本']) * x['Shipment'] if x['出貨明細價格'] != 0 else np.nan, axis=1)\n",
    "df_first['毛利率'] = df_first.apply(lambda x: (x['出貨明細價格'] - x['銀漲後成本']) / x['出貨明細價格'] if x['出貨明細價格'] != 0 else np.nan, axis=1)\n",
    "df_first['Robin價格毛利率'] = df_first.apply(lambda x: (x['RobinQuotation\\n1022'] - x['銀漲後成本']) / x['RobinQuotation\\n1022'] if x['RobinQuotation\\n1022'] !=0 else np.nan, axis=1) \n",
    "df_first['Robin總毛利'] = df_first.apply(lambda x: (x['RobinQuotation\\n1022'] - x['銀漲後成本']) * x['Shipment'] if x['RobinQuotation\\n1022'] != 0 else np.nan, axis=1)"
   ]
  },
  {
   "cell_type": "code",
   "execution_count": null,
   "metadata": {},
   "outputs": [],
   "source": [
    "df_first.columns"
   ]
  },
  {
   "cell_type": "code",
   "execution_count": null,
   "metadata": {},
   "outputs": [],
   "source": [
    "rename_columns = ['Laird PN', 'INPAQ PN', '出貨量', '出貨明細價格', 'Robin 1023單價', '銀價前成本', '銀價後成本', '總毛利', '毛利率', 'Robin毛利率', 'Robin價格總毛利']\n",
    "df_first.columns = rename_columns\n"
   ]
  },
  {
   "cell_type": "code",
   "execution_count": null,
   "metadata": {},
   "outputs": [],
   "source": [
    "df_first.columns"
   ]
  },
  {
   "cell_type": "code",
   "execution_count": null,
   "metadata": {},
   "outputs": [],
   "source": [
    "final_columns = ['Laird PN', 'INPAQ PN', '出貨量', '出貨明細價格', '總毛利', '毛利率',\n",
    "       'Robin 1023單價', 'Robin價格總毛利', 'Robin毛利率', '銀價前成本', '銀價後成本']\n",
    "df_first = df_first.reindex(columns=final_columns)"
   ]
  },
  {
   "cell_type": "code",
   "execution_count": null,
   "metadata": {},
   "outputs": [],
   "source": [
    "df_first.to_excel(r'C:\\Users\\kaihsu\\Desktop\\Robin毛利變化.xlsx', index=False)"
   ]
  },
  {
   "cell_type": "code",
   "execution_count": null,
   "metadata": {},
   "outputs": [],
   "source": [
    "import os\n",
    "os.listdir()"
   ]
  },
  {
   "cell_type": "code",
   "execution_count": null,
   "metadata": {},
   "outputs": [],
   "source": [
    "df = pd.read_excel('Weekly report_v0.1.xlsx', None)\n",
    "df = df['出貨明細']"
   ]
  },
  {
   "cell_type": "code",
   "execution_count": null,
   "metadata": {},
   "outputs": [],
   "source": [
    "df.insert(10, '預交數字月份', value=df['預交日期'].dt.month)"
   ]
  },
  {
   "cell_type": "code",
   "execution_count": null,
   "metadata": {},
   "outputs": [],
   "source": [
    "test = df.groupby(['Group','預交年份', '預交數字月份'])[['本國幣別NTD']].sum().unstack('預交數字月份').reset_index()"
   ]
  },
  {
   "cell_type": "code",
   "execution_count": null,
   "metadata": {},
   "outputs": [],
   "source": [
    "def options(*args):\n",
    "    length = len(args)\n",
    "    if length == 0:\n",
    "        return test\n",
    "    else:\n",
    "        return test[(test['Group'] == args[0]) & (test['預交年份'] == args[1])]\n",
    "    "
   ]
  },
  {
   "cell_type": "code",
   "execution_count": null,
   "metadata": {},
   "outputs": [],
   "source": [
    "options('TELTONIKA', 2020)"
   ]
  },
  {
   "cell_type": "code",
   "execution_count": null,
   "metadata": {},
   "outputs": [],
   "source": [
    "def multi_arg(**kwargs):\n",
    "    print(kwargs)\n",
    "    for i in kwargs.keys():\n",
    "        print(kwargs[i])"
   ]
  },
  {
   "cell_type": "code",
   "execution_count": null,
   "metadata": {},
   "outputs": [],
   "source": [
    "multi_arg(client='Bourns', year=2020)"
   ]
  },
  {
   "cell_type": "code",
   "execution_count": null,
   "metadata": {},
   "outputs": [],
   "source": [
    "df.isna().sum()"
   ]
  },
  {
   "cell_type": "code",
   "execution_count": null,
   "metadata": {},
   "outputs": [],
   "source": [
    "result = df[(df['BG'] == 'RF') & (df['負責業務'] == '許凱智') & (df['預交日期'].between('2020-01-01', '2020-12-31')) & (df['狀態'] != '合約')][['Group', '預交日期','本國幣別NTD', '預交月份']]"
   ]
  },
  {
   "cell_type": "code",
   "execution_count": null,
   "metadata": {},
   "outputs": [],
   "source": [
    "result['本國幣別NTD'].sum()"
   ]
  },
  {
   "cell_type": "code",
   "execution_count": null,
   "metadata": {},
   "outputs": [],
   "source": [
    "result = result.reset_index(drop=True)"
   ]
  },
  {
   "cell_type": "code",
   "execution_count": null,
   "metadata": {},
   "outputs": [],
   "source": [
    "result['本國幣別NTD'] = result['本國幣別NTD'].map(lambda x: round(x,0))"
   ]
  },
  {
   "cell_type": "code",
   "execution_count": null,
   "metadata": {},
   "outputs": [],
   "source": [
    "dict = {'January':1, 'February':2, 'March':3, 'April':4, 'May':5, 'June':6, 'July':7, 'August':8,'September':9,'October':10,'November':11,'December':12}"
   ]
  },
  {
   "cell_type": "code",
   "execution_count": null,
   "metadata": {},
   "outputs": [],
   "source": [
    "result['預交月份'] = result['預交月份'].apply(lambda x: dict[x] if x in dict.keys() else x == 'NA')"
   ]
  },
  {
   "cell_type": "code",
   "execution_count": null,
   "metadata": {},
   "outputs": [],
   "source": [
    "result"
   ]
  },
  {
   "cell_type": "code",
   "execution_count": null,
   "metadata": {},
   "outputs": [],
   "source": [
    "result.groupby(['Group','預交日期'])[['本國幣別NTD']].sum()"
   ]
  },
  {
   "cell_type": "code",
   "execution_count": null,
   "metadata": {
    "scrolled": true
   },
   "outputs": [],
   "source": [
    "result.pivot_table(index='Group', columns='預交月份', values='本國幣別NTD').sort_values(by='預交月份', axis=1)"
   ]
  },
  {
   "cell_type": "code",
   "execution_count": null,
   "metadata": {},
   "outputs": [],
   "source": [
    "import dataframe_image as dfi\n",
    "dfi.export(result, 'result.png')"
   ]
  },
  {
   "cell_type": "markdown",
   "metadata": {},
   "source": [
    "## 2021 Budget test\n",
    "\n",
    "* 如果後續要groupby，需要groupby的欄位不可以為空值"
   ]
  },
  {
   "cell_type": "code",
   "execution_count": null,
   "metadata": {},
   "outputs": [],
   "source": [
    "import pandas as pd\n",
    "pd.set_option('display.max_columns', None)"
   ]
  },
  {
   "cell_type": "code",
   "execution_count": null,
   "metadata": {
    "scrolled": true
   },
   "outputs": [],
   "source": [
    "df = pd.read_excel(r'C:\\Users\\kaihsu\\Desktop\\2021 Forecast\\2021_forecast_final.xlsx')\n"
   ]
  },
  {
   "cell_type": "code",
   "execution_count": null,
   "metadata": {},
   "outputs": [],
   "source": [
    "df2 = df[df['Unit'] == 'KPCS']\n",
    "df2['Qty.'] = df2['Qty.'].apply(lambda x: x*1000)\n",
    "# df2\n",
    "# df3 = df[df['Unit'] == 'PCS']"
   ]
  },
  {
   "cell_type": "code",
   "execution_count": null,
   "metadata": {},
   "outputs": [],
   "source": [
    "df3 = df[df['Unit'] == 'PCS']"
   ]
  },
  {
   "cell_type": "code",
   "execution_count": null,
   "metadata": {},
   "outputs": [],
   "source": [
    "df2['Unit'] = df2['Unit'].str.replace('KPCS', 'PCS')\n",
    "# df2"
   ]
  },
  {
   "cell_type": "code",
   "execution_count": null,
   "metadata": {},
   "outputs": [],
   "source": [
    "df_final = pd.concat([df2, df3], axis=0)"
   ]
  },
  {
   "cell_type": "code",
   "execution_count": null,
   "metadata": {},
   "outputs": [],
   "source": [
    "# df_final = df[df_final['Year'] == 2021].reset_index(drop=True)\n",
    "df_final['Application'] = df_final['Application'].fillna('Unknown')\n",
    "df_final['End customer'] = df_final['End customer'].fillna('Unknown')\n",
    "df_final"
   ]
  },
  {
   "cell_type": "code",
   "execution_count": null,
   "metadata": {},
   "outputs": [],
   "source": [
    "test = df_final.groupby(['Distributor', 'End customer', 'Product category', 'INPAQ PN', 'Application', 'Unit Price', 'Currency', 'Month'])[['Qty.']].sum().reset_index()"
   ]
  },
  {
   "cell_type": "code",
   "execution_count": null,
   "metadata": {},
   "outputs": [],
   "source": [
    "# 重新改變columns的排列\n",
    "test = test.reindex(columns=['Distributor', 'End customer', 'Product category', 'INPAQ PN', 'Application', 'Qty.', 'Unit Price', 'Currency', 'Month', 'Total NTD'])\n",
    "# test.rename(columns={'Unit Price': 'Unit Price_USD/RMB'})"
   ]
  },
  {
   "cell_type": "code",
   "execution_count": null,
   "metadata": {
    "scrolled": true
   },
   "outputs": [],
   "source": [
    "test = pd.pivot_table(test, values='Qty.', index=['Distributor', 'End customer', 'Product category', 'INPAQ PN', 'Application', 'Unit Price', 'Currency'], columns='Month').reset_index()"
   ]
  },
  {
   "cell_type": "code",
   "execution_count": null,
   "metadata": {},
   "outputs": [],
   "source": [
    "test"
   ]
  },
  {
   "cell_type": "code",
   "execution_count": null,
   "metadata": {
    "scrolled": true
   },
   "outputs": [],
   "source": [
    "test.to_excel(r'C:\\Users\\kaihsu\\Desktop\\2021 Forecast\\2021_forecast_by_Susan_format.xlsx', sheet_name='Forecast_yearly', index=False)"
   ]
  },
  {
   "cell_type": "markdown",
   "metadata": {},
   "source": [
    "## 整理藝感的年度預估\n"
   ]
  },
  {
   "cell_type": "code",
   "execution_count": null,
   "metadata": {},
   "outputs": [],
   "source": [
    "df = pd.read_excel(r'C:\\Users\\kaihsu\\Desktop\\2021 Forecast\\2021_forecast_藝感_response.xlsx', None)"
   ]
  },
  {
   "cell_type": "code",
   "execution_count": null,
   "metadata": {},
   "outputs": [],
   "source": [
    "df = df['2021 Forecast']"
   ]
  },
  {
   "cell_type": "code",
   "execution_count": null,
   "metadata": {},
   "outputs": [],
   "source": [
    "df = df.drop([0,33])"
   ]
  },
  {
   "cell_type": "code",
   "execution_count": null,
   "metadata": {},
   "outputs": [],
   "source": [
    "df = df.drop('Customer PN', axis=1)\n"
   ]
  },
  {
   "cell_type": "code",
   "execution_count": null,
   "metadata": {},
   "outputs": [],
   "source": [
    "df = df.set_index('INPAQ PN')\n"
   ]
  },
  {
   "cell_type": "code",
   "execution_count": null,
   "metadata": {},
   "outputs": [],
   "source": [
    "df = df.stack()\n"
   ]
  },
  {
   "cell_type": "code",
   "execution_count": null,
   "metadata": {},
   "outputs": [],
   "source": [
    "df = df.reset_index()"
   ]
  },
  {
   "cell_type": "code",
   "execution_count": null,
   "metadata": {},
   "outputs": [],
   "source": [
    "df.to_excel(r'C:\\Users\\kaihsu\\Desktop\\2021 Forecast\\2021預算藝感整理過.xlsx')"
   ]
  },
  {
   "cell_type": "markdown",
   "metadata": {},
   "source": [
    "## 整理信昌預算\n"
   ]
  },
  {
   "cell_type": "code",
   "execution_count": null,
   "metadata": {},
   "outputs": [],
   "source": [
    "df = pd.read_excel(r'C:\\Users\\kaihsu\\Desktop\\2021 Forecast\\2021_forecast_PDC_response.xlsx', None)"
   ]
  },
  {
   "cell_type": "code",
   "execution_count": null,
   "metadata": {},
   "outputs": [],
   "source": [
    "df = df['2020出貨量']"
   ]
  },
  {
   "cell_type": "code",
   "execution_count": null,
   "metadata": {},
   "outputs": [],
   "source": [
    "df = df.drop([0,125])"
   ]
  },
  {
   "cell_type": "code",
   "execution_count": null,
   "metadata": {},
   "outputs": [],
   "source": [
    "df = df.drop(['Unnamed: 0', 'Unnamed: 3', 'January', 'February', 'March', 'April', 'May', 'June', 'July', 'August', 'September', 'October', 'November', 'December'], axis=1)"
   ]
  },
  {
   "cell_type": "code",
   "execution_count": null,
   "metadata": {},
   "outputs": [],
   "source": [
    "columns=['INPAQ PN', 'Customer PN', '1', '2', '3', '4', '5', '6', '7', '8', '9', '10', '11', '12']\n",
    "df.columns = columns"
   ]
  },
  {
   "cell_type": "code",
   "execution_count": null,
   "metadata": {},
   "outputs": [],
   "source": [
    "df = df.set_index(['INPAQ PN', 'Customer PN'])"
   ]
  },
  {
   "cell_type": "code",
   "execution_count": null,
   "metadata": {},
   "outputs": [],
   "source": [
    "df = df.stack()"
   ]
  },
  {
   "cell_type": "code",
   "execution_count": null,
   "metadata": {},
   "outputs": [],
   "source": [
    "df = df.reset_index()"
   ]
  },
  {
   "cell_type": "code",
   "execution_count": null,
   "metadata": {
    "scrolled": true
   },
   "outputs": [],
   "source": [
    "columns = ['INPAQ PN', 'Customer PN', 'Month', 'Qty.']\n",
    "df.columns = columns\n",
    "df"
   ]
  },
  {
   "cell_type": "code",
   "execution_count": null,
   "metadata": {},
   "outputs": [],
   "source": [
    "df = df.reindex(columns=df.columns.tolist() + new_columns)"
   ]
  },
  {
   "cell_type": "code",
   "execution_count": null,
   "metadata": {},
   "outputs": [],
   "source": [
    "re_columns = ['End customer', 'Distributor', 'Year', 'Month', 'Product category', 'Sub-category', 'Customer PN', 'INPAQ PN', 'Application', 'Qty.', 'Unit', 'Unit Price', 'Currency', 'Rate', 'NTD', 'Total NTD']\n",
    "df = df.reindex(columns=re_columns)\n"
   ]
  },
  {
   "cell_type": "code",
   "execution_count": null,
   "metadata": {},
   "outputs": [],
   "source": [
    "df['End customer'] = df['End customer'].fillna('N/A')\n",
    "df['Distributor'] = df['Distributor'].fillna('信昌')\n",
    "df['Year'] = df['Year'].fillna(2021)\n",
    "df['Application'] = df['Application'].fillna('N/A')\n",
    "df['Unit'] = df['Unit'].fillna('PCS')\n"
   ]
  },
  {
   "cell_type": "code",
   "execution_count": null,
   "metadata": {},
   "outputs": [],
   "source": [
    "df['Year'] = df['Year'].astype('int')\n",
    "df.to_excel(r'C:\\Users\\kaihsu\\Desktop\\2021 Forecast\\2021_forecast_PDC_清洗完.xlsx', index=False)"
   ]
  }
 ],
 "metadata": {
  "kernelspec": {
   "display_name": "Python 3",
   "language": "python",
   "name": "python3"
  },
  "language_info": {
   "codemirror_mode": {
    "name": "ipython",
    "version": 3
   },
   "file_extension": ".py",
   "mimetype": "text/x-python",
   "name": "python",
   "nbconvert_exporter": "python",
   "pygments_lexer": "ipython3",
   "version": "3.8.5"
  }
 },
 "nbformat": 4,
 "nbformat_minor": 4
}
