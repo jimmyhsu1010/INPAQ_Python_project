{
 "cells": [
  {
   "cell_type": "code",
   "execution_count": null,
   "metadata": {},
   "outputs": [],
   "source": [
    "import pandas as pd\n",
    "pd.set_option('display.max_rows', 30)\n",
    "pd.set_option('display.max_columns', None)"
   ]
  },
  {
   "cell_type": "code",
   "execution_count": null,
   "metadata": {},
   "outputs": [],
   "source": [
    "import os\n",
    "os.listdir()"
   ]
  },
  {
   "cell_type": "code",
   "execution_count": null,
   "metadata": {},
   "outputs": [],
   "source": [
    "df = pd.read_excel('Weekly report_v0.1.xlsx', None)\n",
    "df = df['出貨明細']"
   ]
  },
  {
   "cell_type": "code",
   "execution_count": null,
   "metadata": {},
   "outputs": [],
   "source": [
    "df.insert(10, '預交數字月份', value=df['預交日期'].dt.month)"
   ]
  },
  {
   "cell_type": "code",
   "execution_count": null,
   "metadata": {},
   "outputs": [],
   "source": [
    "test = df.groupby(['Group','預交年份', '預交數字月份'])[['本國幣別NTD']].sum().unstack('預交數字月份').reset_index()"
   ]
  },
  {
   "cell_type": "code",
   "execution_count": null,
   "metadata": {},
   "outputs": [],
   "source": [
    "def options(*args):\n",
    "    length = len(args)\n",
    "    if length == 0:\n",
    "        return test\n",
    "    else:\n",
    "        return test[(test['Group'] == args[0]) & (test['預交年份'] == args[1])]\n",
    "    "
   ]
  },
  {
   "cell_type": "code",
   "execution_count": null,
   "metadata": {},
   "outputs": [],
   "source": [
    "options('TELTONIKA', 2020)"
   ]
  },
  {
   "cell_type": "code",
   "execution_count": null,
   "metadata": {},
   "outputs": [],
   "source": [
    "def multi_arg(**kwargs):\n",
    "    print(kwargs)\n",
    "    for i in kwargs.keys():\n",
    "        print(kwargs[i])"
   ]
  },
  {
   "cell_type": "code",
   "execution_count": null,
   "metadata": {},
   "outputs": [],
   "source": [
    "multi_arg(client='Bourns', year=2020)"
   ]
  },
  {
   "cell_type": "code",
   "execution_count": null,
   "metadata": {},
   "outputs": [],
   "source": [
    "df.isna().sum()"
   ]
  },
  {
   "cell_type": "code",
   "execution_count": null,
   "metadata": {},
   "outputs": [],
   "source": [
    "result = df[(df['BG'] == 'RF') & (df['負責業務'] == '許凱智') & (df['預交日期'].between('2020-01-01', '2020-12-31')) & (df['狀態'] != '合約')][['Group', '預交日期','本國幣別NTD', '預交月份']]"
   ]
  },
  {
   "cell_type": "code",
   "execution_count": null,
   "metadata": {},
   "outputs": [],
   "source": [
    "result['本國幣別NTD'].sum()"
   ]
  },
  {
   "cell_type": "code",
   "execution_count": null,
   "metadata": {},
   "outputs": [],
   "source": [
    "result = result.reset_index(drop=True)"
   ]
  },
  {
   "cell_type": "code",
   "execution_count": null,
   "metadata": {},
   "outputs": [],
   "source": [
    "result['本國幣別NTD'] = result['本國幣別NTD'].map(lambda x: round(x,0))"
   ]
  },
  {
   "cell_type": "code",
   "execution_count": null,
   "metadata": {},
   "outputs": [],
   "source": [
    "dict = {'January':1, 'February':2, 'March':3, 'April':4, 'May':5, 'June':6, 'July':7, 'August':8,'September':9,'October':10,'November':11,'December':12}"
   ]
  },
  {
   "cell_type": "code",
   "execution_count": null,
   "metadata": {},
   "outputs": [],
   "source": [
    "result['預交月份'] = result['預交月份'].apply(lambda x: dict[x] if x in dict.keys() else x == 'NA')"
   ]
  },
  {
   "cell_type": "code",
   "execution_count": null,
   "metadata": {},
   "outputs": [],
   "source": [
    "result"
   ]
  },
  {
   "cell_type": "code",
   "execution_count": null,
   "metadata": {},
   "outputs": [],
   "source": [
    "result.groupby(['Group','預交日期'])[['本國幣別NTD']].sum()"
   ]
  },
  {
   "cell_type": "code",
   "execution_count": null,
   "metadata": {
    "scrolled": true
   },
   "outputs": [],
   "source": [
    "result.pivot_table(index='Group', columns='預交月份', values='本國幣別NTD').sort_values(by='預交月份', axis=1)"
   ]
  },
  {
   "cell_type": "code",
   "execution_count": null,
   "metadata": {},
   "outputs": [],
   "source": [
    "import dataframe_image as dfi\n",
    "dfi.export(result, 'result.png')"
   ]
  },
  {
   "cell_type": "markdown",
   "metadata": {},
   "source": [
    "## 2021 Budget test\n",
    "\n",
    "* 如果後續要groupby，需要groupby的欄位不可以為空值"
   ]
  },
  {
   "cell_type": "code",
   "execution_count": 1,
   "metadata": {},
   "outputs": [],
   "source": [
    "import pandas as pd\n",
    "pd.set_option('display.max_columns', None)"
   ]
  },
  {
   "cell_type": "code",
   "execution_count": 2,
   "metadata": {
    "scrolled": true
   },
   "outputs": [],
   "source": [
    "df = pd.read_excel(r'C:\\Users\\kaihsu\\Desktop\\2021 Forecast\\2021_forecast_final.xlsx')\n"
   ]
  },
  {
   "cell_type": "code",
   "execution_count": 3,
   "metadata": {},
   "outputs": [
    {
     "name": "stderr",
     "output_type": "stream",
     "text": [
      "<ipython-input-3-e58382e166bf>:2: SettingWithCopyWarning: \n",
      "A value is trying to be set on a copy of a slice from a DataFrame.\n",
      "Try using .loc[row_indexer,col_indexer] = value instead\n",
      "\n",
      "See the caveats in the documentation: https://pandas.pydata.org/pandas-docs/stable/user_guide/indexing.html#returning-a-view-versus-a-copy\n",
      "  df2['Qty.'] = df2['Qty.'].apply(lambda x: x*1000)\n"
     ]
    }
   ],
   "source": [
    "df2 = df[df['Unit'] == 'KPCS']\n",
    "df2['Qty.'] = df2['Qty.'].apply(lambda x: x*1000)\n",
    "# df2\n",
    "# df3 = df[df['Unit'] == 'PCS']"
   ]
  },
  {
   "cell_type": "code",
   "execution_count": 7,
   "metadata": {},
   "outputs": [],
   "source": [
    "df3 = df[df['Unit'] == 'PCS']"
   ]
  },
  {
   "cell_type": "code",
   "execution_count": 9,
   "metadata": {},
   "outputs": [
    {
     "name": "stderr",
     "output_type": "stream",
     "text": [
      "<ipython-input-9-762204f9bb89>:1: SettingWithCopyWarning: \n",
      "A value is trying to be set on a copy of a slice from a DataFrame.\n",
      "Try using .loc[row_indexer,col_indexer] = value instead\n",
      "\n",
      "See the caveats in the documentation: https://pandas.pydata.org/pandas-docs/stable/user_guide/indexing.html#returning-a-view-versus-a-copy\n",
      "  df2['Unit'] = df2['Unit'].str.replace('KPCS', 'PCS')\n"
     ]
    }
   ],
   "source": [
    "df2['Unit'] = df2['Unit'].str.replace('KPCS', 'PCS')\n",
    "# df2"
   ]
  },
  {
   "cell_type": "code",
   "execution_count": 12,
   "metadata": {},
   "outputs": [],
   "source": [
    "df_final = pd.concat([df2, df3], axis=0)"
   ]
  },
  {
   "cell_type": "code",
   "execution_count": 15,
   "metadata": {
    "collapsed": true,
    "jupyter": {
     "outputs_hidden": true
    }
   },
   "outputs": [
    {
     "data": {
      "text/html": [
       "<div>\n",
       "<style scoped>\n",
       "    .dataframe tbody tr th:only-of-type {\n",
       "        vertical-align: middle;\n",
       "    }\n",
       "\n",
       "    .dataframe tbody tr th {\n",
       "        vertical-align: top;\n",
       "    }\n",
       "\n",
       "    .dataframe thead th {\n",
       "        text-align: right;\n",
       "    }\n",
       "</style>\n",
       "<table border=\"1\" class=\"dataframe\">\n",
       "  <thead>\n",
       "    <tr style=\"text-align: right;\">\n",
       "      <th></th>\n",
       "      <th>End customer</th>\n",
       "      <th>Distributor</th>\n",
       "      <th>Year</th>\n",
       "      <th>Month</th>\n",
       "      <th>Product category</th>\n",
       "      <th>Sub-category</th>\n",
       "      <th>Customer PN</th>\n",
       "      <th>INPAQ PN</th>\n",
       "      <th>Application</th>\n",
       "      <th>Qty.</th>\n",
       "      <th>Unit</th>\n",
       "      <th>Unit Price</th>\n",
       "      <th>Currency</th>\n",
       "      <th>Rate</th>\n",
       "      <th>NTD</th>\n",
       "      <th>Total NTD</th>\n",
       "    </tr>\n",
       "  </thead>\n",
       "  <tbody>\n",
       "    <tr>\n",
       "      <th>0</th>\n",
       "      <td>Unknown</td>\n",
       "      <td>華新科技</td>\n",
       "      <td>2021</td>\n",
       "      <td>1</td>\n",
       "      <td>EMC</td>\n",
       "      <td>MCB/MHC</td>\n",
       "      <td>WLBD************</td>\n",
       "      <td>MCB/MHC</td>\n",
       "      <td>Unknown</td>\n",
       "      <td>1040000</td>\n",
       "      <td>PCS</td>\n",
       "      <td>0.080</td>\n",
       "      <td>NTD</td>\n",
       "      <td>1.0</td>\n",
       "      <td>0.08</td>\n",
       "      <td>83200.0</td>\n",
       "    </tr>\n",
       "    <tr>\n",
       "      <th>1</th>\n",
       "      <td>Unknown</td>\n",
       "      <td>華新科技</td>\n",
       "      <td>2021</td>\n",
       "      <td>2</td>\n",
       "      <td>EMC</td>\n",
       "      <td>MCB/MHC</td>\n",
       "      <td>WLBD************</td>\n",
       "      <td>MCB/MHC</td>\n",
       "      <td>Unknown</td>\n",
       "      <td>840000</td>\n",
       "      <td>PCS</td>\n",
       "      <td>0.080</td>\n",
       "      <td>NTD</td>\n",
       "      <td>1.0</td>\n",
       "      <td>0.08</td>\n",
       "      <td>67200.0</td>\n",
       "    </tr>\n",
       "    <tr>\n",
       "      <th>2</th>\n",
       "      <td>Unknown</td>\n",
       "      <td>華新科技</td>\n",
       "      <td>2021</td>\n",
       "      <td>3</td>\n",
       "      <td>EMC</td>\n",
       "      <td>MCB/MHC</td>\n",
       "      <td>WLBD************</td>\n",
       "      <td>MCB/MHC</td>\n",
       "      <td>Unknown</td>\n",
       "      <td>1090000</td>\n",
       "      <td>PCS</td>\n",
       "      <td>0.080</td>\n",
       "      <td>NTD</td>\n",
       "      <td>1.0</td>\n",
       "      <td>0.08</td>\n",
       "      <td>87200.0</td>\n",
       "    </tr>\n",
       "    <tr>\n",
       "      <th>3</th>\n",
       "      <td>Unknown</td>\n",
       "      <td>華新科技</td>\n",
       "      <td>2021</td>\n",
       "      <td>4</td>\n",
       "      <td>EMC</td>\n",
       "      <td>MCB/MHC</td>\n",
       "      <td>WLBD************</td>\n",
       "      <td>MCB/MHC</td>\n",
       "      <td>Unknown</td>\n",
       "      <td>1040000</td>\n",
       "      <td>PCS</td>\n",
       "      <td>0.080</td>\n",
       "      <td>NTD</td>\n",
       "      <td>1.0</td>\n",
       "      <td>0.08</td>\n",
       "      <td>83200.0</td>\n",
       "    </tr>\n",
       "    <tr>\n",
       "      <th>4</th>\n",
       "      <td>Unknown</td>\n",
       "      <td>華新科技</td>\n",
       "      <td>2021</td>\n",
       "      <td>5</td>\n",
       "      <td>EMC</td>\n",
       "      <td>MCB/MHC</td>\n",
       "      <td>WLBD************</td>\n",
       "      <td>MCB/MHC</td>\n",
       "      <td>Unknown</td>\n",
       "      <td>1256000</td>\n",
       "      <td>PCS</td>\n",
       "      <td>0.080</td>\n",
       "      <td>NTD</td>\n",
       "      <td>1.0</td>\n",
       "      <td>0.08</td>\n",
       "      <td>100480.0</td>\n",
       "    </tr>\n",
       "    <tr>\n",
       "      <th>...</th>\n",
       "      <td>...</td>\n",
       "      <td>...</td>\n",
       "      <td>...</td>\n",
       "      <td>...</td>\n",
       "      <td>...</td>\n",
       "      <td>...</td>\n",
       "      <td>...</td>\n",
       "      <td>...</td>\n",
       "      <td>...</td>\n",
       "      <td>...</td>\n",
       "      <td>...</td>\n",
       "      <td>...</td>\n",
       "      <td>...</td>\n",
       "      <td>...</td>\n",
       "      <td>...</td>\n",
       "      <td>...</td>\n",
       "    </tr>\n",
       "    <tr>\n",
       "      <th>499</th>\n",
       "      <td>Eltecks</td>\n",
       "      <td>MT-System</td>\n",
       "      <td>2021</td>\n",
       "      <td>12</td>\n",
       "      <td>WIP</td>\n",
       "      <td>NaN</td>\n",
       "      <td>NaN</td>\n",
       "      <td>WIP252012P-2R2ML</td>\n",
       "      <td>Router</td>\n",
       "      <td>80000</td>\n",
       "      <td>PCS</td>\n",
       "      <td>0.018</td>\n",
       "      <td>USD</td>\n",
       "      <td>30.0</td>\n",
       "      <td>0.54</td>\n",
       "      <td>43200.0</td>\n",
       "    </tr>\n",
       "    <tr>\n",
       "      <th>500</th>\n",
       "      <td>Escort</td>\n",
       "      <td>MT-System</td>\n",
       "      <td>2021</td>\n",
       "      <td>12</td>\n",
       "      <td>PC</td>\n",
       "      <td>NaN</td>\n",
       "      <td>NaN</td>\n",
       "      <td>SMAJ70CA-T</td>\n",
       "      <td>Car tracker</td>\n",
       "      <td>65000</td>\n",
       "      <td>PCS</td>\n",
       "      <td>0.024</td>\n",
       "      <td>USD</td>\n",
       "      <td>30.0</td>\n",
       "      <td>0.72</td>\n",
       "      <td>46800.0</td>\n",
       "    </tr>\n",
       "    <tr>\n",
       "      <th>501</th>\n",
       "      <td>Ultrastar</td>\n",
       "      <td>MT-System</td>\n",
       "      <td>2021</td>\n",
       "      <td>4</td>\n",
       "      <td>EMC</td>\n",
       "      <td>NaN</td>\n",
       "      <td>NaN</td>\n",
       "      <td>NIP8040PX-100M</td>\n",
       "      <td>Car alarm system</td>\n",
       "      <td>160000</td>\n",
       "      <td>PCS</td>\n",
       "      <td>0.080</td>\n",
       "      <td>USD</td>\n",
       "      <td>30.0</td>\n",
       "      <td>2.40</td>\n",
       "      <td>384000.0</td>\n",
       "    </tr>\n",
       "    <tr>\n",
       "      <th>502</th>\n",
       "      <td>Ultrastar</td>\n",
       "      <td>MT-System</td>\n",
       "      <td>2021</td>\n",
       "      <td>5</td>\n",
       "      <td>EMC</td>\n",
       "      <td>NaN</td>\n",
       "      <td>NaN</td>\n",
       "      <td>NIP8040PX-100M</td>\n",
       "      <td>Car alarm system</td>\n",
       "      <td>160000</td>\n",
       "      <td>PCS</td>\n",
       "      <td>0.080</td>\n",
       "      <td>USD</td>\n",
       "      <td>30.0</td>\n",
       "      <td>2.40</td>\n",
       "      <td>384000.0</td>\n",
       "    </tr>\n",
       "    <tr>\n",
       "      <th>503</th>\n",
       "      <td>Ultrastar</td>\n",
       "      <td>MT-System</td>\n",
       "      <td>2021</td>\n",
       "      <td>6</td>\n",
       "      <td>EMC</td>\n",
       "      <td>NaN</td>\n",
       "      <td>NaN</td>\n",
       "      <td>NIP8040PX-100M</td>\n",
       "      <td>Car alarm system</td>\n",
       "      <td>160000</td>\n",
       "      <td>PCS</td>\n",
       "      <td>0.080</td>\n",
       "      <td>USD</td>\n",
       "      <td>30.0</td>\n",
       "      <td>2.40</td>\n",
       "      <td>384000.0</td>\n",
       "    </tr>\n",
       "  </tbody>\n",
       "</table>\n",
       "<p>504 rows × 16 columns</p>\n",
       "</div>"
      ],
      "text/plain": [
       "    End customer Distributor  Year  Month Product category Sub-category  \\\n",
       "0        Unknown        華新科技  2021      1              EMC      MCB/MHC   \n",
       "1        Unknown        華新科技  2021      2              EMC      MCB/MHC   \n",
       "2        Unknown        華新科技  2021      3              EMC      MCB/MHC   \n",
       "3        Unknown        華新科技  2021      4              EMC      MCB/MHC   \n",
       "4        Unknown        華新科技  2021      5              EMC      MCB/MHC   \n",
       "..           ...         ...   ...    ...              ...          ...   \n",
       "499      Eltecks   MT-System  2021     12              WIP          NaN   \n",
       "500       Escort   MT-System  2021     12               PC          NaN   \n",
       "501    Ultrastar   MT-System  2021      4              EMC          NaN   \n",
       "502    Ultrastar   MT-System  2021      5              EMC          NaN   \n",
       "503    Ultrastar   MT-System  2021      6              EMC          NaN   \n",
       "\n",
       "          Customer PN          INPAQ PN       Application     Qty. Unit  \\\n",
       "0    WLBD************           MCB/MHC           Unknown  1040000  PCS   \n",
       "1    WLBD************           MCB/MHC           Unknown   840000  PCS   \n",
       "2    WLBD************           MCB/MHC           Unknown  1090000  PCS   \n",
       "3    WLBD************           MCB/MHC           Unknown  1040000  PCS   \n",
       "4    WLBD************           MCB/MHC           Unknown  1256000  PCS   \n",
       "..                ...               ...               ...      ...  ...   \n",
       "499               NaN  WIP252012P-2R2ML            Router    80000  PCS   \n",
       "500               NaN        SMAJ70CA-T       Car tracker    65000  PCS   \n",
       "501               NaN    NIP8040PX-100M  Car alarm system   160000  PCS   \n",
       "502               NaN    NIP8040PX-100M  Car alarm system   160000  PCS   \n",
       "503               NaN    NIP8040PX-100M  Car alarm system   160000  PCS   \n",
       "\n",
       "     Unit Price Currency  Rate   NTD  Total NTD  \n",
       "0         0.080      NTD   1.0  0.08    83200.0  \n",
       "1         0.080      NTD   1.0  0.08    67200.0  \n",
       "2         0.080      NTD   1.0  0.08    87200.0  \n",
       "3         0.080      NTD   1.0  0.08    83200.0  \n",
       "4         0.080      NTD   1.0  0.08   100480.0  \n",
       "..          ...      ...   ...   ...        ...  \n",
       "499       0.018      USD  30.0  0.54    43200.0  \n",
       "500       0.024      USD  30.0  0.72    46800.0  \n",
       "501       0.080      USD  30.0  2.40   384000.0  \n",
       "502       0.080      USD  30.0  2.40   384000.0  \n",
       "503       0.080      USD  30.0  2.40   384000.0  \n",
       "\n",
       "[504 rows x 16 columns]"
      ]
     },
     "execution_count": 15,
     "metadata": {},
     "output_type": "execute_result"
    }
   ],
   "source": [
    "# df_final = df[df_final['Year'] == 2021].reset_index(drop=True)\n",
    "df_final['Application'] = df_final['Application'].fillna('Unknown')\n",
    "df_final['End customer'] = df_final['End customer'].fillna('Unknown')\n",
    "df_final"
   ]
  },
  {
   "cell_type": "code",
   "execution_count": 16,
   "metadata": {},
   "outputs": [],
   "source": [
    "test = df_final.groupby(['Distributor', 'End customer', 'Product category', 'INPAQ PN', 'Application', 'Unit Price', 'Currency', 'Month'])[['Qty.']].sum().reset_index()"
   ]
  },
  {
   "cell_type": "code",
   "execution_count": 19,
   "metadata": {},
   "outputs": [],
   "source": [
    "# 重新改變columns的排列\n",
    "test = test.reindex(columns=['Distributor', 'End customer', 'Product category', 'INPAQ PN', 'Application', 'Qty.', 'Unit Price', 'Currency', 'Month', 'Total NTD'])\n",
    "# test.rename(columns={'Unit Price': 'Unit Price_USD/RMB'})"
   ]
  },
  {
   "cell_type": "code",
   "execution_count": 23,
   "metadata": {
    "scrolled": true
   },
   "outputs": [],
   "source": [
    "test = pd.pivot_table(test, values='Qty.', index=['Distributor', 'End customer', 'Product category', 'INPAQ PN', 'Application', 'Unit Price', 'Currency'], columns='Month').reset_index()"
   ]
  },
  {
   "cell_type": "code",
   "execution_count": 24,
   "metadata": {},
   "outputs": [
    {
     "data": {
      "text/html": [
       "<div>\n",
       "<style scoped>\n",
       "    .dataframe tbody tr th:only-of-type {\n",
       "        vertical-align: middle;\n",
       "    }\n",
       "\n",
       "    .dataframe tbody tr th {\n",
       "        vertical-align: top;\n",
       "    }\n",
       "\n",
       "    .dataframe thead th {\n",
       "        text-align: right;\n",
       "    }\n",
       "</style>\n",
       "<table border=\"1\" class=\"dataframe\">\n",
       "  <thead>\n",
       "    <tr style=\"text-align: right;\">\n",
       "      <th>Month</th>\n",
       "      <th>Distributor</th>\n",
       "      <th>End customer</th>\n",
       "      <th>Product category</th>\n",
       "      <th>INPAQ PN</th>\n",
       "      <th>Application</th>\n",
       "      <th>Unit Price</th>\n",
       "      <th>Currency</th>\n",
       "      <th>1</th>\n",
       "      <th>2</th>\n",
       "      <th>3</th>\n",
       "      <th>4</th>\n",
       "      <th>5</th>\n",
       "      <th>6</th>\n",
       "      <th>7</th>\n",
       "      <th>8</th>\n",
       "      <th>9</th>\n",
       "      <th>10</th>\n",
       "      <th>11</th>\n",
       "      <th>12</th>\n",
       "    </tr>\n",
       "  </thead>\n",
       "  <tbody>\n",
       "    <tr>\n",
       "      <th>0</th>\n",
       "      <td>MT-System</td>\n",
       "      <td>Argus-spectr</td>\n",
       "      <td>RF</td>\n",
       "      <td>ACM4-5036-A1-CC-S</td>\n",
       "      <td>Security</td>\n",
       "      <td>0.15000</td>\n",
       "      <td>USD</td>\n",
       "      <td>NaN</td>\n",
       "      <td>4000.0</td>\n",
       "      <td>NaN</td>\n",
       "      <td>4000.0</td>\n",
       "      <td>NaN</td>\n",
       "      <td>4000.0</td>\n",
       "      <td>NaN</td>\n",
       "      <td>NaN</td>\n",
       "      <td>NaN</td>\n",
       "      <td>4000.0</td>\n",
       "      <td>NaN</td>\n",
       "      <td>NaN</td>\n",
       "    </tr>\n",
       "    <tr>\n",
       "      <th>1</th>\n",
       "      <td>MT-System</td>\n",
       "      <td>Beta-Telecom</td>\n",
       "      <td>RF</td>\n",
       "      <td>WAG-P-LTE10-00-001</td>\n",
       "      <td>Tracker</td>\n",
       "      <td>0.27000</td>\n",
       "      <td>USD</td>\n",
       "      <td>NaN</td>\n",
       "      <td>5000.0</td>\n",
       "      <td>NaN</td>\n",
       "      <td>NaN</td>\n",
       "      <td>NaN</td>\n",
       "      <td>5000.0</td>\n",
       "      <td>NaN</td>\n",
       "      <td>NaN</td>\n",
       "      <td>NaN</td>\n",
       "      <td>NaN</td>\n",
       "      <td>NaN</td>\n",
       "      <td>NaN</td>\n",
       "    </tr>\n",
       "    <tr>\n",
       "      <th>2</th>\n",
       "      <td>MT-System</td>\n",
       "      <td>CSI</td>\n",
       "      <td>RF</td>\n",
       "      <td>PA1590MI4G-316-FZM</td>\n",
       "      <td>Commercial Tracker</td>\n",
       "      <td>0.26000</td>\n",
       "      <td>USD</td>\n",
       "      <td>NaN</td>\n",
       "      <td>20000.0</td>\n",
       "      <td>NaN</td>\n",
       "      <td>NaN</td>\n",
       "      <td>NaN</td>\n",
       "      <td>NaN</td>\n",
       "      <td>NaN</td>\n",
       "      <td>20000.0</td>\n",
       "      <td>NaN</td>\n",
       "      <td>NaN</td>\n",
       "      <td>NaN</td>\n",
       "      <td>NaN</td>\n",
       "    </tr>\n",
       "    <tr>\n",
       "      <th>3</th>\n",
       "      <td>MT-System</td>\n",
       "      <td>CSI</td>\n",
       "      <td>RF</td>\n",
       "      <td>PA1590MI4G-316-FZM</td>\n",
       "      <td>Platon</td>\n",
       "      <td>0.25090</td>\n",
       "      <td>USD</td>\n",
       "      <td>NaN</td>\n",
       "      <td>NaN</td>\n",
       "      <td>NaN</td>\n",
       "      <td>NaN</td>\n",
       "      <td>NaN</td>\n",
       "      <td>NaN</td>\n",
       "      <td>150000.0</td>\n",
       "      <td>NaN</td>\n",
       "      <td>NaN</td>\n",
       "      <td>NaN</td>\n",
       "      <td>NaN</td>\n",
       "      <td>150000.0</td>\n",
       "    </tr>\n",
       "    <tr>\n",
       "      <th>4</th>\n",
       "      <td>MT-System</td>\n",
       "      <td>Duotek</td>\n",
       "      <td>EMC</td>\n",
       "      <td>MCI1608HQ15NGHBP</td>\n",
       "      <td>Oil level control sytem</td>\n",
       "      <td>0.00450</td>\n",
       "      <td>USD</td>\n",
       "      <td>NaN</td>\n",
       "      <td>NaN</td>\n",
       "      <td>NaN</td>\n",
       "      <td>NaN</td>\n",
       "      <td>NaN</td>\n",
       "      <td>NaN</td>\n",
       "      <td>15000.0</td>\n",
       "      <td>NaN</td>\n",
       "      <td>NaN</td>\n",
       "      <td>NaN</td>\n",
       "      <td>NaN</td>\n",
       "      <td>NaN</td>\n",
       "    </tr>\n",
       "    <tr>\n",
       "      <th>...</th>\n",
       "      <td>...</td>\n",
       "      <td>...</td>\n",
       "      <td>...</td>\n",
       "      <td>...</td>\n",
       "      <td>...</td>\n",
       "      <td>...</td>\n",
       "      <td>...</td>\n",
       "      <td>...</td>\n",
       "      <td>...</td>\n",
       "      <td>...</td>\n",
       "      <td>...</td>\n",
       "      <td>...</td>\n",
       "      <td>...</td>\n",
       "      <td>...</td>\n",
       "      <td>...</td>\n",
       "      <td>...</td>\n",
       "      <td>...</td>\n",
       "      <td>...</td>\n",
       "      <td>...</td>\n",
       "    </tr>\n",
       "    <tr>\n",
       "      <th>73</th>\n",
       "      <td>華新科技</td>\n",
       "      <td>Unknown</td>\n",
       "      <td>EMC</td>\n",
       "      <td>MCB/MHC</td>\n",
       "      <td>Unknown</td>\n",
       "      <td>0.06200</td>\n",
       "      <td>NTD</td>\n",
       "      <td>800000.0</td>\n",
       "      <td>700000.0</td>\n",
       "      <td>800000.0</td>\n",
       "      <td>850000.0</td>\n",
       "      <td>1027000.0</td>\n",
       "      <td>1181000.0</td>\n",
       "      <td>956000.0</td>\n",
       "      <td>1050000.0</td>\n",
       "      <td>1418000.0</td>\n",
       "      <td>992000.0</td>\n",
       "      <td>973000.0</td>\n",
       "      <td>968000.0</td>\n",
       "    </tr>\n",
       "    <tr>\n",
       "      <th>74</th>\n",
       "      <td>華新科技</td>\n",
       "      <td>Unknown</td>\n",
       "      <td>EMC</td>\n",
       "      <td>MCB/MHC</td>\n",
       "      <td>Unknown</td>\n",
       "      <td>0.08000</td>\n",
       "      <td>NTD</td>\n",
       "      <td>1040000.0</td>\n",
       "      <td>840000.0</td>\n",
       "      <td>1090000.0</td>\n",
       "      <td>1040000.0</td>\n",
       "      <td>1256000.0</td>\n",
       "      <td>1445000.0</td>\n",
       "      <td>1180000.0</td>\n",
       "      <td>1285000.0</td>\n",
       "      <td>1735000.0</td>\n",
       "      <td>1214000.0</td>\n",
       "      <td>1190000.0</td>\n",
       "      <td>1184000.0</td>\n",
       "    </tr>\n",
       "    <tr>\n",
       "      <th>75</th>\n",
       "      <td>華新科技</td>\n",
       "      <td>Unknown</td>\n",
       "      <td>EMC</td>\n",
       "      <td>MCI</td>\n",
       "      <td>Unknown</td>\n",
       "      <td>0.04400</td>\n",
       "      <td>NTD</td>\n",
       "      <td>2500000.0</td>\n",
       "      <td>1880000.0</td>\n",
       "      <td>2845000.0</td>\n",
       "      <td>2840000.0</td>\n",
       "      <td>3431000.0</td>\n",
       "      <td>3945000.0</td>\n",
       "      <td>3196000.0</td>\n",
       "      <td>3509000.0</td>\n",
       "      <td>4737000.0</td>\n",
       "      <td>3316000.0</td>\n",
       "      <td>3250000.0</td>\n",
       "      <td>3233000.0</td>\n",
       "    </tr>\n",
       "    <tr>\n",
       "      <th>76</th>\n",
       "      <td>華新科技</td>\n",
       "      <td>Unknown</td>\n",
       "      <td>EMC</td>\n",
       "      <td>MIP</td>\n",
       "      <td>Unknown</td>\n",
       "      <td>0.46500</td>\n",
       "      <td>NTD</td>\n",
       "      <td>418000.0</td>\n",
       "      <td>350000.0</td>\n",
       "      <td>550000.0</td>\n",
       "      <td>550000.0</td>\n",
       "      <td>664000.0</td>\n",
       "      <td>764000.0</td>\n",
       "      <td>619000.0</td>\n",
       "      <td>680000.0</td>\n",
       "      <td>917000.0</td>\n",
       "      <td>642000.0</td>\n",
       "      <td>629000.0</td>\n",
       "      <td>626000.0</td>\n",
       "    </tr>\n",
       "    <tr>\n",
       "      <th>77</th>\n",
       "      <td>藝感</td>\n",
       "      <td>Unknown</td>\n",
       "      <td>WIP</td>\n",
       "      <td>WIP252010P-R47ML</td>\n",
       "      <td>Unknown</td>\n",
       "      <td>0.07579</td>\n",
       "      <td>RMB</td>\n",
       "      <td>3000000.0</td>\n",
       "      <td>3000000.0</td>\n",
       "      <td>3000000.0</td>\n",
       "      <td>3000000.0</td>\n",
       "      <td>3000000.0</td>\n",
       "      <td>3000000.0</td>\n",
       "      <td>3000000.0</td>\n",
       "      <td>3000000.0</td>\n",
       "      <td>3000000.0</td>\n",
       "      <td>3000000.0</td>\n",
       "      <td>3000000.0</td>\n",
       "      <td>3000000.0</td>\n",
       "    </tr>\n",
       "  </tbody>\n",
       "</table>\n",
       "<p>78 rows × 19 columns</p>\n",
       "</div>"
      ],
      "text/plain": [
       "Month Distributor  End customer Product category             INPAQ PN  \\\n",
       "0       MT-System  Argus-spectr               RF   ACM4-5036-A1-CC-S    \n",
       "1       MT-System  Beta-Telecom               RF  WAG-P-LTE10-00-001    \n",
       "2       MT-System          CSI                RF  PA1590MI4G-316-FZM    \n",
       "3       MT-System          CSI                RF  PA1590MI4G-316-FZM    \n",
       "4       MT-System        Duotek              EMC     MCI1608HQ15NGHBP   \n",
       "..            ...           ...              ...                  ...   \n",
       "73           華新科技       Unknown              EMC              MCB/MHC   \n",
       "74           華新科技       Unknown              EMC              MCB/MHC   \n",
       "75           華新科技       Unknown              EMC                  MCI   \n",
       "76           華新科技       Unknown              EMC                  MIP   \n",
       "77             藝感       Unknown              WIP     WIP252010P-R47ML   \n",
       "\n",
       "Month              Application  Unit Price Currency          1          2  \\\n",
       "0                     Security     0.15000      USD        NaN     4000.0   \n",
       "1                     Tracker      0.27000      USD        NaN     5000.0   \n",
       "2           Commercial Tracker     0.26000      USD        NaN    20000.0   \n",
       "3                     Platon       0.25090      USD        NaN        NaN   \n",
       "4      Oil level control sytem     0.00450      USD        NaN        NaN   \n",
       "..                         ...         ...      ...        ...        ...   \n",
       "73                     Unknown     0.06200      NTD   800000.0   700000.0   \n",
       "74                     Unknown     0.08000      NTD  1040000.0   840000.0   \n",
       "75                     Unknown     0.04400      NTD  2500000.0  1880000.0   \n",
       "76                     Unknown     0.46500      NTD   418000.0   350000.0   \n",
       "77                     Unknown     0.07579      RMB  3000000.0  3000000.0   \n",
       "\n",
       "Month          3          4          5          6          7          8  \\\n",
       "0            NaN     4000.0        NaN     4000.0        NaN        NaN   \n",
       "1            NaN        NaN        NaN     5000.0        NaN        NaN   \n",
       "2            NaN        NaN        NaN        NaN        NaN    20000.0   \n",
       "3            NaN        NaN        NaN        NaN   150000.0        NaN   \n",
       "4            NaN        NaN        NaN        NaN    15000.0        NaN   \n",
       "..           ...        ...        ...        ...        ...        ...   \n",
       "73      800000.0   850000.0  1027000.0  1181000.0   956000.0  1050000.0   \n",
       "74     1090000.0  1040000.0  1256000.0  1445000.0  1180000.0  1285000.0   \n",
       "75     2845000.0  2840000.0  3431000.0  3945000.0  3196000.0  3509000.0   \n",
       "76      550000.0   550000.0   664000.0   764000.0   619000.0   680000.0   \n",
       "77     3000000.0  3000000.0  3000000.0  3000000.0  3000000.0  3000000.0   \n",
       "\n",
       "Month          9         10         11         12  \n",
       "0            NaN     4000.0        NaN        NaN  \n",
       "1            NaN        NaN        NaN        NaN  \n",
       "2            NaN        NaN        NaN        NaN  \n",
       "3            NaN        NaN        NaN   150000.0  \n",
       "4            NaN        NaN        NaN        NaN  \n",
       "..           ...        ...        ...        ...  \n",
       "73     1418000.0   992000.0   973000.0   968000.0  \n",
       "74     1735000.0  1214000.0  1190000.0  1184000.0  \n",
       "75     4737000.0  3316000.0  3250000.0  3233000.0  \n",
       "76      917000.0   642000.0   629000.0   626000.0  \n",
       "77     3000000.0  3000000.0  3000000.0  3000000.0  \n",
       "\n",
       "[78 rows x 19 columns]"
      ]
     },
     "execution_count": 24,
     "metadata": {},
     "output_type": "execute_result"
    }
   ],
   "source": [
    "test"
   ]
  },
  {
   "cell_type": "code",
   "execution_count": 25,
   "metadata": {
    "scrolled": true
   },
   "outputs": [],
   "source": [
    "test.to_excel(r'C:\\Users\\kaihsu\\Desktop\\2021 Forecast\\2021_forecast_by_Susan_format.xlsx', sheet_name='Forecast_yearly', index=False)"
   ]
  },
  {
   "cell_type": "markdown",
   "metadata": {},
   "source": [
    "## 整理藝感的年度預估\n"
   ]
  },
  {
   "cell_type": "code",
   "execution_count": null,
   "metadata": {},
   "outputs": [],
   "source": [
    "df = pd.read_excel(r'C:\\Users\\kaihsu\\Desktop\\2021 Forecast\\2021_forecast_藝感_response.xlsx', None)"
   ]
  },
  {
   "cell_type": "code",
   "execution_count": null,
   "metadata": {},
   "outputs": [],
   "source": [
    "df = df['2021 Forecast']"
   ]
  },
  {
   "cell_type": "code",
   "execution_count": null,
   "metadata": {},
   "outputs": [],
   "source": [
    "df = df.drop([0,33])"
   ]
  },
  {
   "cell_type": "code",
   "execution_count": null,
   "metadata": {},
   "outputs": [],
   "source": [
    "df = df.drop('Customer PN', axis=1)\n"
   ]
  },
  {
   "cell_type": "code",
   "execution_count": null,
   "metadata": {},
   "outputs": [],
   "source": [
    "df = df.set_index('INPAQ PN')\n"
   ]
  },
  {
   "cell_type": "code",
   "execution_count": null,
   "metadata": {},
   "outputs": [],
   "source": [
    "df = df.stack()\n"
   ]
  },
  {
   "cell_type": "code",
   "execution_count": null,
   "metadata": {},
   "outputs": [],
   "source": [
    "df = df.reset_index()"
   ]
  },
  {
   "cell_type": "code",
   "execution_count": null,
   "metadata": {},
   "outputs": [],
   "source": [
    "df.to_excel(r'C:\\Users\\kaihsu\\Desktop\\2021 Forecast\\2021預算藝感整理過.xlsx')"
   ]
  },
  {
   "cell_type": "markdown",
   "metadata": {},
   "source": [
    "## 整理信昌預算\n"
   ]
  },
  {
   "cell_type": "code",
   "execution_count": null,
   "metadata": {},
   "outputs": [],
   "source": [
    "df = pd.read_excel(r'C:\\Users\\kaihsu\\Desktop\\2021 Forecast\\2021_forecast_PDC_response.xlsx', None)"
   ]
  },
  {
   "cell_type": "code",
   "execution_count": null,
   "metadata": {},
   "outputs": [],
   "source": [
    "df = df['2020出貨量']"
   ]
  },
  {
   "cell_type": "code",
   "execution_count": null,
   "metadata": {},
   "outputs": [],
   "source": [
    "df = df.drop([0,125])"
   ]
  },
  {
   "cell_type": "code",
   "execution_count": null,
   "metadata": {},
   "outputs": [],
   "source": [
    "df = df.drop(['Unnamed: 0', 'Unnamed: 3', 'January', 'February', 'March', 'April', 'May', 'June', 'July', 'August', 'September', 'October', 'November', 'December'], axis=1)"
   ]
  },
  {
   "cell_type": "code",
   "execution_count": null,
   "metadata": {},
   "outputs": [],
   "source": [
    "columns=['INPAQ PN', 'Customer PN', '1', '2', '3', '4', '5', '6', '7', '8', '9', '10', '11', '12']\n",
    "df.columns = columns"
   ]
  },
  {
   "cell_type": "code",
   "execution_count": null,
   "metadata": {},
   "outputs": [],
   "source": [
    "df = df.set_index(['INPAQ PN', 'Customer PN'])"
   ]
  },
  {
   "cell_type": "code",
   "execution_count": null,
   "metadata": {},
   "outputs": [],
   "source": [
    "df = df.stack()"
   ]
  },
  {
   "cell_type": "code",
   "execution_count": null,
   "metadata": {},
   "outputs": [],
   "source": [
    "df = df.reset_index()"
   ]
  },
  {
   "cell_type": "code",
   "execution_count": null,
   "metadata": {
    "scrolled": true
   },
   "outputs": [],
   "source": [
    "columns = ['INPAQ PN', 'Customer PN', 'Month', 'Qty.']\n",
    "df.columns = columns\n",
    "df"
   ]
  },
  {
   "cell_type": "code",
   "execution_count": null,
   "metadata": {},
   "outputs": [],
   "source": [
    "df = df.reindex(columns=df.columns.tolist() + new_columns)"
   ]
  },
  {
   "cell_type": "code",
   "execution_count": null,
   "metadata": {},
   "outputs": [],
   "source": [
    "re_columns = ['End customer', 'Distributor', 'Year', 'Month', 'Product category', 'Sub-category', 'Customer PN', 'INPAQ PN', 'Application', 'Qty.', 'Unit', 'Unit Price', 'Currency', 'Rate', 'NTD', 'Total NTD']\n",
    "df = df.reindex(columns=re_columns)\n"
   ]
  },
  {
   "cell_type": "code",
   "execution_count": null,
   "metadata": {},
   "outputs": [],
   "source": [
    "df['End customer'] = df['End customer'].fillna('N/A')\n",
    "df['Distributor'] = df['Distributor'].fillna('信昌')\n",
    "df['Year'] = df['Year'].fillna(2021)\n",
    "df['Application'] = df['Application'].fillna('N/A')\n",
    "df['Unit'] = df['Unit'].fillna('PCS')\n"
   ]
  },
  {
   "cell_type": "code",
   "execution_count": null,
   "metadata": {},
   "outputs": [],
   "source": [
    "df['Year'] = df['Year'].astype('int')\n",
    "df.to_excel(r'C:\\Users\\kaihsu\\Desktop\\2021 Forecast\\2021_forecast_PDC_清洗完.xlsx', index=False)"
   ]
  }
 ],
 "metadata": {
  "kernelspec": {
   "display_name": "Python 3",
   "language": "python",
   "name": "python3"
  },
  "language_info": {
   "codemirror_mode": {
    "name": "ipython",
    "version": 3
   },
   "file_extension": ".py",
   "mimetype": "text/x-python",
   "name": "python",
   "nbconvert_exporter": "python",
   "pygments_lexer": "ipython3",
   "version": "3.8.5"
  }
 },
 "nbformat": 4,
 "nbformat_minor": 4
}
