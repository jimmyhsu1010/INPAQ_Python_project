{
 "cells": [
  {
   "cell_type": "code",
   "execution_count": null,
   "id": "af645dc6",
   "metadata": {},
   "outputs": [],
   "source": [
    "import pandas as pd\n",
    "pd.set_option('display.max_columns', None)\n",
    "pd.set_option('mode.chained_assignment', None)\n",
    "# def my_formatter(x):\n",
    "#     if x < 0:\n",
    "#         return '{:,.2f}'.format(-x)\n",
    "#     return '{:,.2f}'.format(x)\n",
    "# pd.options.display.float_format = my_formatter\n",
    "import calendar"
   ]
  },
  {
   "cell_type": "code",
   "execution_count": null,
   "id": "301281ba",
   "metadata": {},
   "outputs": [],
   "source": [
    "df = pd.read_excel(r\"C:\\Users\\kaihsu\\Desktop\\業績總表\\Weekly report_v0.1.xlsx\", sheet_name='出貨明細')"
   ]
  },
  {
   "cell_type": "code",
   "execution_count": null,
   "id": "28ae85d8",
   "metadata": {},
   "outputs": [],
   "source": [
    "result = df[(df['Group'] == '華新科技') & (df['預交日期'].between('2021-01-01', '2021-12-31'))]"
   ]
  },
  {
   "cell_type": "code",
   "execution_count": null,
   "id": "3f7c2004",
   "metadata": {},
   "outputs": [],
   "source": [
    "result = result[result['BU'].notna()]"
   ]
  },
  {
   "cell_type": "code",
   "execution_count": null,
   "id": "9f512076",
   "metadata": {},
   "outputs": [],
   "source": [
    "result['單價'] = result.apply(lambda x: x['單價'] / 27.866 if x['幣別'] == 'USD' else x['單價'], axis=1)"
   ]
  },
  {
   "cell_type": "code",
   "execution_count": null,
   "id": "2417cee1",
   "metadata": {},
   "outputs": [],
   "source": [
    "month_name = [calendar.month_name[i] for i in range(1, 13)]"
   ]
  },
  {
   "cell_type": "code",
   "execution_count": null,
   "id": "c944cdc3",
   "metadata": {},
   "outputs": [],
   "source": [
    "result_price = result.drop_duplicates(subset=['品名'], keep='last')"
   ]
  },
  {
   "cell_type": "code",
   "execution_count": null,
   "id": "f6665d7e",
   "metadata": {},
   "outputs": [],
   "source": [
    "result_price = result_price[['品名', '單價']]"
   ]
  },
  {
   "cell_type": "code",
   "execution_count": null,
   "id": "e967afc4",
   "metadata": {},
   "outputs": [],
   "source": [
    "price_dict = dict(zip(result_price['品名'], result_price['單價']))"
   ]
  },
  {
   "cell_type": "code",
   "execution_count": null,
   "id": "c1a3c06f",
   "metadata": {},
   "outputs": [],
   "source": [
    "answer = pd.DataFrame(result.groupby(['品名', result['預交日期'].dt.to_period('Q')])[['數量']].sum().unstack('預交日期').to_records())"
   ]
  },
  {
   "cell_type": "code",
   "execution_count": null,
   "id": "68424de3",
   "metadata": {},
   "outputs": [],
   "source": [
    "answer.columns = ['PN', 'Q1', 'Q2', 'Q3', 'Q4']"
   ]
  },
  {
   "cell_type": "code",
   "execution_count": null,
   "id": "e7dd0a07",
   "metadata": {},
   "outputs": [],
   "source": [
    "answer['單價'] = answer['PN'].map(price_dict)"
   ]
  },
  {
   "cell_type": "code",
   "execution_count": null,
   "id": "9e49af90",
   "metadata": {},
   "outputs": [],
   "source": [
    "answer.to_excel(r\"C:\\Users\\kaihsu\\OneDrive\\INPAQ\\預算\\2022 Forecast\\2021華科預算by_季度.xlsx\", index=False)"
   ]
  }
 ],
 "metadata": {
  "kernelspec": {
   "display_name": "Python 3",
   "language": "python",
   "name": "python3"
  },
  "language_info": {
   "codemirror_mode": {
    "name": "ipython",
    "version": 3
   },
   "file_extension": ".py",
   "mimetype": "text/x-python",
   "name": "python",
   "nbconvert_exporter": "python",
   "pygments_lexer": "ipython3",
   "version": "3.8.11"
  }
 },
 "nbformat": 4,
 "nbformat_minor": 5
}
