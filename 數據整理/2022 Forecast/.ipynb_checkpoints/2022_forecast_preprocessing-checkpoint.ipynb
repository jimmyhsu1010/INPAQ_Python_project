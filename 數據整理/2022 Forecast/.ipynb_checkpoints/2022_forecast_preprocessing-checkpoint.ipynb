{
 "cells": [
  {
   "cell_type": "code",
   "execution_count": 1,
   "metadata": {},
   "outputs": [],
   "source": [
    "import pandas as pd\n",
    "pd.set_option('display.max_columns', None)\n",
    "pd.set_option('display.float_format',lambda x : '%.2f' % x)\n",
    "pd.set_option('mode.chained_assignment', None)\n",
    "def my_formatter(x):\n",
    "    if x < 0:\n",
    "        return '{:,.2f}'.format(-x)\n",
    "    return '{:,.2f}'.format(x)\n",
    "pd.options.display.float_format = my_formatter\n",
    "import calendar"
   ]
  },
  {
   "cell_type": "markdown",
   "metadata": {},
   "source": [
    "## 藝感預算處理"
   ]
  },
  {
   "cell_type": "code",
   "execution_count": 2,
   "metadata": {},
   "outputs": [],
   "source": [
    "df = pd.read_excel(r\"C:\\Users\\kaihsu\\OneDrive\\INPAQ\\預算\\2022 Forecast\\2022_forecast_藝感_Response.xlsx\", None)"
   ]
  },
  {
   "cell_type": "code",
   "execution_count": 3,
   "metadata": {},
   "outputs": [
    {
     "data": {
      "text/plain": [
       "dict_keys(['2020出貨量', '2021出貨量', '2022 Forecast'])"
      ]
     },
     "execution_count": 3,
     "metadata": {},
     "output_type": "execute_result"
    }
   ],
   "source": [
    "df.keys()"
   ]
  },
  {
   "cell_type": "code",
   "execution_count": 5,
   "metadata": {},
   "outputs": [],
   "source": [
    "result = df['2022 Forecast']"
   ]
  },
  {
   "cell_type": "code",
   "execution_count": 12,
   "metadata": {},
   "outputs": [],
   "source": [
    "result = pd.DataFrame(result.groupby(['INPAQ PN', 'Month'])[[' Qty. ']].sum().unstack('Month').to_records())"
   ]
  },
  {
   "cell_type": "code",
   "execution_count": 24,
   "metadata": {},
   "outputs": [],
   "source": [
    "month_name = [calendar.month_name[i] for i in range(1, 13)]"
   ]
  },
  {
   "cell_type": "code",
   "execution_count": 25,
   "metadata": {},
   "outputs": [],
   "source": [
    "month_name.insert(0, 'INPAQ PN')"
   ]
  },
  {
   "cell_type": "code",
   "execution_count": 26,
   "metadata": {},
   "outputs": [],
   "source": [
    "result.columns = month_name"
   ]
  },
  {
   "cell_type": "code",
   "execution_count": 28,
   "metadata": {},
   "outputs": [],
   "source": [
    "result.to_excel(r\"C:\\Users\\kaihsu\\OneDrive\\INPAQ\\預算\\2022 Forecast\\2022_forecast_藝感_sorted.xlsx\", index=False)"
   ]
  },
  {
   "cell_type": "markdown",
   "metadata": {},
   "source": [
    "## 信昌預算處理"
   ]
  },
  {
   "cell_type": "code",
   "execution_count": null,
   "metadata": {},
   "outputs": [],
   "source": [
    "df = pd.read_excel(r\"C:\\Users\\kaihsu\\Desktop\\業績總表\\Weekly report_v0.1.xlsx\", '出貨明細')"
   ]
  },
  {
   "cell_type": "code",
   "execution_count": null,
   "metadata": {
    "scrolled": true
   },
   "outputs": [],
   "source": [
    "pdc = df[(df['Group'] == '信昌') & (df['幣別'] == 'NTD') & (df['狀態'] != '雜項訂單')]"
   ]
  },
  {
   "cell_type": "code",
   "execution_count": null,
   "metadata": {
    "scrolled": true
   },
   "outputs": [],
   "source": [
    "pdc_price = pdc.drop_duplicates(['品名', '客戶料號'], keep='last')"
   ]
  },
  {
   "cell_type": "code",
   "execution_count": null,
   "metadata": {},
   "outputs": [],
   "source": [
    "pdc_result = pdc_price[['品名', '單價']]"
   ]
  },
  {
   "cell_type": "code",
   "execution_count": null,
   "metadata": {},
   "outputs": [],
   "source": [
    "pdc_result.to_excel(r\"C:\\Users\\kaihsu\\Desktop\\pdc_price.xlsx\", index=False)"
   ]
  },
  {
   "cell_type": "markdown",
   "metadata": {},
   "source": [
    "## MT-SYSTEM預算處理"
   ]
  },
  {
   "cell_type": "code",
   "execution_count": null,
   "metadata": {},
   "outputs": [],
   "source": [
    "df = pd.read_excel(r\"C:\\Users\\kaihsu\\OneDrive\\INPAQ\\預算\\2022 Forecast\\2022_forecast_MT-SYSTEM_Response.xlsx\", None)"
   ]
  },
  {
   "cell_type": "code",
   "execution_count": null,
   "metadata": {},
   "outputs": [],
   "source": [
    "df.keys()"
   ]
  },
  {
   "cell_type": "code",
   "execution_count": null,
   "metadata": {},
   "outputs": [],
   "source": [
    "component = df['2022 forecast Component']\n",
    "rf = df['2022 forecast MT-System RF']"
   ]
  },
  {
   "cell_type": "code",
   "execution_count": null,
   "metadata": {},
   "outputs": [],
   "source": [
    "month_name = [calendar.month_name[i] for i in range(1, 13)]"
   ]
  },
  {
   "cell_type": "code",
   "execution_count": null,
   "metadata": {},
   "outputs": [],
   "source": [
    "rf['Month'] = pd.Categorical(rf['Month'], ordered=True, categories=month_name)\n",
    "component['Month'] = pd.Categorical(component['Month'], ordered=True, categories=month_name)"
   ]
  },
  {
   "cell_type": "code",
   "execution_count": null,
   "metadata": {},
   "outputs": [],
   "source": [
    "def convert_table_qty(data):\n",
    "    result = data.groupby(['P/N', 'Month'])[['Qty.']].sum().unstack()\n",
    "    result = pd.DataFrame(result.to_records())\n",
    "    return result"
   ]
  },
  {
   "cell_type": "code",
   "execution_count": null,
   "metadata": {
    "scrolled": false
   },
   "outputs": [],
   "source": [
    "com_result = convert_table_qty(component)\n",
    "rf_result = convert_table_qty(rf)"
   ]
  },
  {
   "cell_type": "code",
   "execution_count": null,
   "metadata": {},
   "outputs": [],
   "source": [
    "com_result.to_excel(r'C:\\Users\\kaihsu\\OneDrive\\INPAQ\\預算\\2022 Forecast\\整理完的數據\\MT-SYSTEM元件預算.xlsx', index=False)\n",
    "rf_result.to_excel(r'C:\\Users\\kaihsu\\OneDrive\\INPAQ\\預算\\2022 Forecast\\整理完的數據\\MT-SYSTEM天線預算.xlsx', index=False)"
   ]
  },
  {
   "cell_type": "code",
   "execution_count": 88,
   "metadata": {},
   "outputs": [],
   "source": [
    "# MT-SYSTEM目前價格處理\n",
    "mt_price = df[(df['Group'] == 'MT-SYSTEM') & (df['預交年份'].isin([2022, 2021]))]"
   ]
  },
  {
   "cell_type": "code",
   "execution_count": 90,
   "metadata": {},
   "outputs": [],
   "source": [
    "mt_price = mt_price.drop_duplicates(subset=['品名', '單價'], keep='last')"
   ]
  },
  {
   "cell_type": "code",
   "execution_count": 91,
   "metadata": {},
   "outputs": [],
   "source": [
    "mt_price_dict = dict(zip(mt_price['品名'], mt_price['單價']))"
   ]
  },
  {
   "cell_type": "code",
   "execution_count": 92,
   "metadata": {},
   "outputs": [],
   "source": [
    "mt_sorted_com = df[(df['Group'] == 'MT-SYSTEM') & (df['預交年份'] == 2022) & ~(df['BU'].isin(['RF1', 'RF2']))]"
   ]
  },
  {
   "cell_type": "code",
   "execution_count": 100,
   "metadata": {},
   "outputs": [],
   "source": [
    "answer_mt_com = pd.DataFrame(mt_sorted_com.groupby(['品名', mt_sorted_com['預交日期'].dt.to_period('M')])[['數量']].sum().unstack('預交日期').to_records())"
   ]
  },
  {
   "cell_type": "code",
   "execution_count": 103,
   "metadata": {},
   "outputs": [],
   "source": [
    "answer_mt_com.columns = ['PN', '1', '2', '3', '4', '6', '7', '8', '9']"
   ]
  },
  {
   "cell_type": "code",
   "execution_count": 104,
   "metadata": {},
   "outputs": [],
   "source": [
    "answer_mt_com['單價'] = answer_mt_com['PN'].map(mt_price_dict)"
   ]
  },
  {
   "cell_type": "code",
   "execution_count": 106,
   "metadata": {},
   "outputs": [],
   "source": [
    "answer_mt_com.to_excel(r\"C:\\Users\\kaihsu\\OneDrive\\INPAQ\\預算\\2022 Forecast\\整理完的數據\\MT-SYSTEM元件預算_from_OPO.xlsx\", index=False)"
   ]
  },
  {
   "cell_type": "code",
   "execution_count": 107,
   "metadata": {},
   "outputs": [],
   "source": [
    "origin_mt_com = pd.read_excel(r\"C:\\Users\\kaihsu\\OneDrive\\INPAQ\\預算\\2022 Forecast\\整理完的數據\\MT-SYSTEM元件預算.xlsx\")"
   ]
  },
  {
   "cell_type": "code",
   "execution_count": 112,
   "metadata": {},
   "outputs": [],
   "source": [
    "origin_mt_com['單價'] = origin_mt_com['P/N'].map(mt_price_dict)"
   ]
  },
  {
   "cell_type": "code",
   "execution_count": 113,
   "metadata": {},
   "outputs": [],
   "source": [
    "origin_mt_com.to_excel(r\"C:\\Users\\kaihsu\\OneDrive\\INPAQ\\預算\\2022 Forecast\\整理完的數據\\MT-SYSTEM元件預算.xlsx\", index=False)"
   ]
  },
  {
   "cell_type": "code",
   "execution_count": 115,
   "metadata": {},
   "outputs": [],
   "source": [
    "origin_mt_rf = pd.read_excel(r\"C:\\Users\\kaihsu\\OneDrive\\INPAQ\\預算\\2022 Forecast\\整理完的數據\\MT-SYSTEM天線預算.xlsx\")"
   ]
  },
  {
   "cell_type": "code",
   "execution_count": 117,
   "metadata": {},
   "outputs": [],
   "source": [
    "origin_mt_rf['單價'] = origin_mt_rf['P/N'].map(mt_price_dict)"
   ]
  },
  {
   "cell_type": "code",
   "execution_count": 119,
   "metadata": {},
   "outputs": [],
   "source": [
    "origin_mt_rf.to_excel(r\"C:\\Users\\kaihsu\\OneDrive\\INPAQ\\預算\\2022 Forecast\\整理完的數據\\MT-SYSTEM天線預算.xlsx\", index=False)"
   ]
  },
  {
   "cell_type": "markdown",
   "metadata": {},
   "source": [
    "## Teltonika數據轉置"
   ]
  },
  {
   "cell_type": "code",
   "execution_count": null,
   "metadata": {},
   "outputs": [],
   "source": [
    "month_name = [calendar.month_name[i] for i in range(1, 13)]"
   ]
  },
  {
   "cell_type": "code",
   "execution_count": null,
   "metadata": {},
   "outputs": [],
   "source": [
    "month_dict = {}"
   ]
  },
  {
   "cell_type": "code",
   "execution_count": null,
   "metadata": {},
   "outputs": [],
   "source": [
    "for x, y in enumerate(month_name):\n",
    "    month_dict.setdefault(y, x+1)"
   ]
  },
  {
   "cell_type": "code",
   "execution_count": null,
   "metadata": {},
   "outputs": [],
   "source": [
    "df = pd.read_excel(r\"C:\\Users\\kaihsu\\OneDrive\\INPAQ\\預算\\2022 Forecast\\2022_forecast_Teltonika_Response.xlsx\", None)"
   ]
  },
  {
   "cell_type": "code",
   "execution_count": null,
   "metadata": {},
   "outputs": [],
   "source": [
    "component = df['2022 Forecast Component']\n",
    "antenna = df['2022 Forecast Antenna']"
   ]
  },
  {
   "cell_type": "code",
   "execution_count": null,
   "metadata": {
    "scrolled": true
   },
   "outputs": [],
   "source": [
    "def convert_table_qty(data):\n",
    "    data = data[data['Year'] == 2022]\n",
    "    data['Month'] = data['Month'].map(month_dict)\n",
    "    result = data.groupby(['INPAQ PN', 'Month'])[[' Qty. ']].sum().unstack()\n",
    "    result = pd.DataFrame(result.to_records())\n",
    "    return result"
   ]
  },
  {
   "cell_type": "code",
   "execution_count": null,
   "metadata": {},
   "outputs": [],
   "source": [
    "com_result_qty = convert_table_qty(component)"
   ]
  },
  {
   "cell_type": "code",
   "execution_count": null,
   "metadata": {
    "scrolled": true
   },
   "outputs": [],
   "source": [
    "ant_result_qty = convert_table_qty(antenna)"
   ]
  },
  {
   "cell_type": "code",
   "execution_count": null,
   "metadata": {},
   "outputs": [],
   "source": [
    "com_result_qty.to_excel(r'C:\\Users\\kaihsu\\OneDrive\\INPAQ\\預算\\2022 Forecast\\整理完的數據\\TELTONIKA元件預算.xlsx', index=False)\n",
    "ant_result_qty.to_excel(r'C:\\Users\\kaihsu\\OneDrive\\INPAQ\\預算\\2022 Forecast\\整理完的數據\\TELTONIKA天線預算.xlsx', index=False)"
   ]
  },
  {
   "cell_type": "code",
   "execution_count": 29,
   "metadata": {},
   "outputs": [],
   "source": [
    "# TELTONIKA 2021年下的2022年訂單整理\n",
    "df = pd.read_excel(r\"C:\\Users\\kaihsu\\Desktop\\業績總表\\Weekly report_v0.1.xlsx\", sheet_name='出貨明細')"
   ]
  },
  {
   "cell_type": "code",
   "execution_count": 39,
   "metadata": {},
   "outputs": [],
   "source": [
    "# 價格表做成字典檔\n",
    "for_price = df[(df['Group'] == 'TELTONIKA') & (df['預交年份'] == 2022)]"
   ]
  },
  {
   "cell_type": "code",
   "execution_count": 42,
   "metadata": {},
   "outputs": [],
   "source": [
    "price = for_price.drop_duplicates(subset=['品名', '單價'], keep='last')"
   ]
  },
  {
   "cell_type": "code",
   "execution_count": 47,
   "metadata": {},
   "outputs": [],
   "source": [
    "price_dict = dict(zip(price['品名'], price['單價']))"
   ]
  },
  {
   "cell_type": "code",
   "execution_count": 53,
   "metadata": {},
   "outputs": [
    {
     "data": {
      "text/plain": [
       "array([nan, 'PC', 'WIP', 'AIP', 'EMC', 'MAG', 'RF1', 'RF2', 'ODM'],\n",
       "      dtype=object)"
      ]
     },
     "execution_count": 53,
     "metadata": {},
     "output_type": "execute_result"
    }
   ],
   "source": [
    "df['BU'].unique()"
   ]
  },
  {
   "cell_type": "code",
   "execution_count": 64,
   "metadata": {
    "scrolled": true
   },
   "outputs": [],
   "source": [
    "sorted_com = df[(df['Group'] == 'TELTONIKA') & (df['預交年份'] == 2022) & ~(df['BU'].isin(['RF1', 'RF2']))]"
   ]
  },
  {
   "cell_type": "code",
   "execution_count": 71,
   "metadata": {},
   "outputs": [],
   "source": [
    "answer = pd.DataFrame(sorted_com.groupby(['品名', sorted_com['預交日期'].dt.to_period('M')])[['數量']].sum().unstack('預交日期').to_records())"
   ]
  },
  {
   "cell_type": "code",
   "execution_count": 75,
   "metadata": {},
   "outputs": [],
   "source": [
    "answer.columns = ['PN', '1', '2', '3', '4', '5','6', '7', '8', '9', '11', '12']"
   ]
  },
  {
   "cell_type": "code",
   "execution_count": 78,
   "metadata": {},
   "outputs": [],
   "source": [
    "answer.insert(10, '10', '')"
   ]
  },
  {
   "cell_type": "code",
   "execution_count": 80,
   "metadata": {},
   "outputs": [],
   "source": [
    "answer['單價'] = answer['PN'].map(price_dict)"
   ]
  },
  {
   "cell_type": "code",
   "execution_count": 83,
   "metadata": {},
   "outputs": [],
   "source": [
    "answer.to_excel(r\"C:\\Users\\kaihsu\\OneDrive\\INPAQ\\預算\\2022 Forecast\\整理完的數據\\TELTONIKA元件預算_from_OPO.xlsx\", index=False)"
   ]
  },
  {
   "cell_type": "code",
   "execution_count": 120,
   "metadata": {},
   "outputs": [],
   "source": [
    "origin_tel_rf = pd.read_excel(r\"C:\\Users\\kaihsu\\OneDrive\\INPAQ\\預算\\2022 Forecast\\整理完的數據\\TELTONIKA天線預算.xlsx\")"
   ]
  },
  {
   "cell_type": "code",
   "execution_count": 123,
   "metadata": {},
   "outputs": [],
   "source": [
    "origin_tel_rf['單價'] = origin_tel_rf['INPAQ PN'].map(price_dict)"
   ]
  },
  {
   "cell_type": "code",
   "execution_count": 124,
   "metadata": {},
   "outputs": [],
   "source": [
    "origin_tel_rf.to_excel(r\"C:\\Users\\kaihsu\\OneDrive\\INPAQ\\預算\\2022 Forecast\\整理完的數據\\TELTONIKA天線預算.xlsx\", index=False)"
   ]
  },
  {
   "cell_type": "code",
   "execution_count": null,
   "metadata": {},
   "outputs": [],
   "source": []
  }
 ],
 "metadata": {
  "kernelspec": {
   "display_name": "Python 3",
   "language": "python",
   "name": "python3"
  },
  "language_info": {
   "codemirror_mode": {
    "name": "ipython",
    "version": 3
   },
   "file_extension": ".py",
   "mimetype": "text/x-python",
   "name": "python",
   "nbconvert_exporter": "python",
   "pygments_lexer": "ipython3",
   "version": "3.8.11"
  }
 },
 "nbformat": 4,
 "nbformat_minor": 4
}
