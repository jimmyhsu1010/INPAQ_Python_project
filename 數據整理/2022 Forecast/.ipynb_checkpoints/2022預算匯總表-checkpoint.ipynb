{
 "cells": [
  {
   "cell_type": "code",
   "execution_count": 2,
   "id": "57a9ca8f",
   "metadata": {},
   "outputs": [],
   "source": [
    "import pandas as pd\n",
    "pd.set_option('display.max_columns', None)\n",
    "pd.set_option('mode.chained_assignment', None)\n",
    "import calendar"
   ]
  },
  {
   "cell_type": "code",
   "execution_count": 3,
   "id": "92a8d8ec",
   "metadata": {},
   "outputs": [],
   "source": [
    "df = pd.read_excel(r\"C:\\Users\\kaihsu\\OneDrive\\INPAQ\\預算\\2022 Forecast\\正式預算\\2022預算匯總表_kai_version_20220112.xlsx\", None)"
   ]
  },
  {
   "cell_type": "code",
   "execution_count": 4,
   "id": "d2567902",
   "metadata": {},
   "outputs": [
    {
     "data": {
      "text/plain": [
       "dict_keys(['元件預算總表（數量）', '元件預算總編（金額）', '天線預算總表（數量）', '天線預算總編（金額）'])"
      ]
     },
     "execution_count": 4,
     "metadata": {},
     "output_type": "execute_result"
    }
   ],
   "source": [
    "df.keys()"
   ]
  },
  {
   "cell_type": "code",
   "execution_count": 5,
   "id": "6adafa74",
   "metadata": {},
   "outputs": [],
   "source": [
    "rf_qty_budget = df['天線預算總表（數量）']\n",
    "rf_ntd_budget = df['天線預算總編（金額）']\n",
    "com_qty_budget = df['元件預算總表（數量）']\n",
    "com_ntd_budget = df['元件預算總編（金額）']"
   ]
  },
  {
   "cell_type": "code",
   "execution_count": 6,
   "id": "ff813e10",
   "metadata": {},
   "outputs": [],
   "source": [
    "qty_columns = ['負責業務', 'Group', 'BG', '品名', '月份', '數量']"
   ]
  },
  {
   "cell_type": "code",
   "execution_count": 7,
   "id": "f5321da8",
   "metadata": {},
   "outputs": [],
   "source": [
    "rf_qty_budget = rf_qty_budget.groupby(['負責業務', 'Group', 'BG', '品名']).sum().stack().reset_index()\n",
    "rf_qty_budget.columns = qty_columns\n",
    "com_qty_budget = com_qty_budget.groupby(['負責業務', 'Group', 'BG', '品名']).sum().stack().reset_index()\n",
    "com_qty_budget.columns = qty_columns"
   ]
  },
  {
   "cell_type": "code",
   "execution_count": 8,
   "id": "8a105baf",
   "metadata": {},
   "outputs": [],
   "source": [
    "ntd_columns = ['負責業務', 'Group', 'BG', '品名', '月份', '金額']"
   ]
  },
  {
   "cell_type": "code",
   "execution_count": 9,
   "id": "1b0f2d11",
   "metadata": {},
   "outputs": [],
   "source": [
    "rf_ntd_budget = rf_ntd_budget.groupby(['負責業務', 'Group', 'BG', '品名']).sum().stack().reset_index()\n",
    "rf_ntd_budget.columns = ntd_columns\n",
    "com_ntd_budget = com_ntd_budget.groupby(['負責業務', 'Group', 'BG', '品名']).sum().stack().reset_index()\n",
    "com_ntd_budget.columns = ntd_columns"
   ]
  },
  {
   "cell_type": "code",
   "execution_count": 10,
   "id": "805c6d52",
   "metadata": {},
   "outputs": [],
   "source": [
    "final_rf_budget = rf_qty_budget.merge(rf_ntd_budget, on=['負責業務', 'Group', 'BG', '品名', '月份'], how='left')\n",
    "final_com_budget = com_qty_budget.merge(com_ntd_budget, on=['負責業務', 'Group', 'BG', '品名', '月份'], how='left')"
   ]
  },
  {
   "cell_type": "code",
   "execution_count": 11,
   "id": "7451e201",
   "metadata": {},
   "outputs": [],
   "source": [
    "final = pd.concat([final_rf_budget, final_com_budget], axis=0)"
   ]
  },
  {
   "cell_type": "code",
   "execution_count": 12,
   "id": "921d6539",
   "metadata": {},
   "outputs": [],
   "source": [
    "month_name = [calendar.month_name[i] for i in range(1, 13)]"
   ]
  },
  {
   "cell_type": "code",
   "execution_count": 13,
   "id": "4bde7307",
   "metadata": {},
   "outputs": [],
   "source": [
    "month_num = [i for i in range(1, 13)]"
   ]
  },
  {
   "cell_type": "code",
   "execution_count": 14,
   "id": "3c4187af",
   "metadata": {},
   "outputs": [],
   "source": [
    "month_dict = dict(zip(month_num, month_name))"
   ]
  },
  {
   "cell_type": "code",
   "execution_count": 15,
   "id": "7a4e8221",
   "metadata": {},
   "outputs": [],
   "source": [
    "final['月份'] = final['月份'].map(month_dict)"
   ]
  },
  {
   "cell_type": "code",
   "execution_count": 16,
   "id": "7094fd65",
   "metadata": {},
   "outputs": [],
   "source": [
    "final.insert(3, '類型', '')"
   ]
  },
  {
   "cell_type": "code",
   "execution_count": 17,
   "id": "fa80abb6",
   "metadata": {},
   "outputs": [],
   "source": [
    "final['類型'] = final.apply(lambda x: '天線' if x['BG'] == 'RF1' or x['BG'] == 'RF2' else '元件', axis=1)"
   ]
  },
  {
   "cell_type": "code",
   "execution_count": 18,
   "id": "e4358013",
   "metadata": {},
   "outputs": [],
   "source": [
    "final.insert(0, '年份', '2022')"
   ]
  },
  {
   "cell_type": "code",
   "execution_count": 19,
   "id": "f0b58221",
   "metadata": {},
   "outputs": [],
   "source": [
    "final['金額類型'] = '預算'"
   ]
  },
  {
   "cell_type": "code",
   "execution_count": 20,
   "id": "dc192321",
   "metadata": {
    "scrolled": true
   },
   "outputs": [],
   "source": [
    "final = final.reindex(columns=['負責業務', 'BG', 'Group', '年份', '月份', '數量', '金額', '品名', '類型', '金額類型'])"
   ]
  },
  {
   "cell_type": "code",
   "execution_count": 21,
   "id": "4142b3cd",
   "metadata": {
    "scrolled": false
   },
   "outputs": [
    {
     "data": {
      "text/html": [
       "<div>\n",
       "<style scoped>\n",
       "    .dataframe tbody tr th:only-of-type {\n",
       "        vertical-align: middle;\n",
       "    }\n",
       "\n",
       "    .dataframe tbody tr th {\n",
       "        vertical-align: top;\n",
       "    }\n",
       "\n",
       "    .dataframe thead th {\n",
       "        text-align: right;\n",
       "    }\n",
       "</style>\n",
       "<table border=\"1\" class=\"dataframe\">\n",
       "  <thead>\n",
       "    <tr style=\"text-align: right;\">\n",
       "      <th></th>\n",
       "      <th>負責業務</th>\n",
       "      <th>Group</th>\n",
       "      <th>BG</th>\n",
       "    </tr>\n",
       "  </thead>\n",
       "  <tbody>\n",
       "    <tr>\n",
       "      <th>0</th>\n",
       "      <td>許凱智</td>\n",
       "      <td>MT-SYSTEM</td>\n",
       "      <td>RF1</td>\n",
       "    </tr>\n",
       "    <tr>\n",
       "      <th>1</th>\n",
       "      <td>許凱智</td>\n",
       "      <td>MT-SYSTEM</td>\n",
       "      <td>RF1</td>\n",
       "    </tr>\n",
       "    <tr>\n",
       "      <th>2</th>\n",
       "      <td>許凱智</td>\n",
       "      <td>MT-SYSTEM</td>\n",
       "      <td>RF1</td>\n",
       "    </tr>\n",
       "    <tr>\n",
       "      <th>3</th>\n",
       "      <td>許凱智</td>\n",
       "      <td>MT-SYSTEM</td>\n",
       "      <td>RF1</td>\n",
       "    </tr>\n",
       "    <tr>\n",
       "      <th>4</th>\n",
       "      <td>許凱智</td>\n",
       "      <td>MT-SYSTEM</td>\n",
       "      <td>RF1</td>\n",
       "    </tr>\n",
       "    <tr>\n",
       "      <th>...</th>\n",
       "      <td>...</td>\n",
       "      <td>...</td>\n",
       "      <td>...</td>\n",
       "    </tr>\n",
       "    <tr>\n",
       "      <th>991</th>\n",
       "      <td>許凱智</td>\n",
       "      <td>TELTONIKA</td>\n",
       "      <td>WIP</td>\n",
       "    </tr>\n",
       "    <tr>\n",
       "      <th>992</th>\n",
       "      <td>許凱智</td>\n",
       "      <td>TELTONIKA</td>\n",
       "      <td>WIP</td>\n",
       "    </tr>\n",
       "    <tr>\n",
       "      <th>993</th>\n",
       "      <td>許凱智</td>\n",
       "      <td>TELTONIKA</td>\n",
       "      <td>WIP</td>\n",
       "    </tr>\n",
       "    <tr>\n",
       "      <th>994</th>\n",
       "      <td>許凱智</td>\n",
       "      <td>TELTONIKA</td>\n",
       "      <td>WIP</td>\n",
       "    </tr>\n",
       "    <tr>\n",
       "      <th>995</th>\n",
       "      <td>許凱智</td>\n",
       "      <td>TELTONIKA</td>\n",
       "      <td>WIP</td>\n",
       "    </tr>\n",
       "  </tbody>\n",
       "</table>\n",
       "<p>1380 rows × 3 columns</p>\n",
       "</div>"
      ],
      "text/plain": [
       "    負責業務      Group   BG\n",
       "0    許凱智  MT-SYSTEM  RF1\n",
       "1    許凱智  MT-SYSTEM  RF1\n",
       "2    許凱智  MT-SYSTEM  RF1\n",
       "3    許凱智  MT-SYSTEM  RF1\n",
       "4    許凱智  MT-SYSTEM  RF1\n",
       "..   ...        ...  ...\n",
       "991  許凱智  TELTONIKA  WIP\n",
       "992  許凱智  TELTONIKA  WIP\n",
       "993  許凱智  TELTONIKA  WIP\n",
       "994  許凱智  TELTONIKA  WIP\n",
       "995  許凱智  TELTONIKA  WIP\n",
       "\n",
       "[1380 rows x 3 columns]"
      ]
     },
     "execution_count": 21,
     "metadata": {},
     "output_type": "execute_result"
    }
   ],
   "source": [
    "final.reindex(columns=['負責業務', 'Group', 'BG',])"
   ]
  },
  {
   "cell_type": "code",
   "execution_count": 26,
   "id": "96f5a150",
   "metadata": {},
   "outputs": [],
   "source": [
    "final = final.astype({\"數量\": \"int\", \"金額\": \"int\"})"
   ]
  },
  {
   "cell_type": "code",
   "execution_count": 28,
   "id": "03f8cfaa",
   "metadata": {},
   "outputs": [],
   "source": [
    "final.to_csv(r\"C:\\Users\\kaihsu\\OneDrive\\INPAQ\\預算\\2022 Forecast\\正式預算\\20220104財務版本預算\\budget_2022.csv\", index=False)"
   ]
  },
  {
   "cell_type": "markdown",
   "id": "2bb564ea",
   "metadata": {},
   "source": [
    "## 總表用2021實績匯總"
   ]
  },
  {
   "cell_type": "code",
   "execution_count": null,
   "id": "e3f4c28c",
   "metadata": {},
   "outputs": [],
   "source": [
    "df = pd.read_excel(r\"C:\\Users\\kaihsu\\Desktop\\業績總表\\Weekly report_v0.1.xlsx\", sheet_name='出貨明細')"
   ]
  },
  {
   "cell_type": "code",
   "execution_count": null,
   "id": "844501aa",
   "metadata": {},
   "outputs": [],
   "source": [
    "result = df[(df['狀態'].str.contains('出')) & (~df['BU'].isin(['Others'])) & (df['預交年份'] == 2019)]"
   ]
  },
  {
   "cell_type": "code",
   "execution_count": null,
   "id": "02c51fee",
   "metadata": {},
   "outputs": [],
   "source": [
    "final = result.groupby(['負責業務', 'BU', 'Group', '預交年份', '預交月份', '品名'])[['數量', '本國幣別NTD']].sum().reset_index()"
   ]
  },
  {
   "cell_type": "code",
   "execution_count": null,
   "id": "b68f24f6",
   "metadata": {},
   "outputs": [],
   "source": [
    "final['BU'].unique()"
   ]
  },
  {
   "cell_type": "code",
   "execution_count": null,
   "id": "06628344",
   "metadata": {},
   "outputs": [],
   "source": [
    "final['產品類型'] = final['BU'].map(lambda x: '天線' if x in ['RF1', 'RF2'] else '元件')"
   ]
  },
  {
   "cell_type": "code",
   "execution_count": null,
   "id": "9d39a0f8",
   "metadata": {},
   "outputs": [],
   "source": [
    "final['金額類型'] = '實績'"
   ]
  },
  {
   "cell_type": "code",
   "execution_count": null,
   "id": "1fa5f87e",
   "metadata": {},
   "outputs": [],
   "source": [
    "final.columns = ['負責業務', 'BG', 'Group', '年份', '月份', '品名', '數量', '金額', '產品類型',\n",
    "       '金額類型']"
   ]
  },
  {
   "cell_type": "code",
   "execution_count": null,
   "id": "6e41d4f8",
   "metadata": {},
   "outputs": [],
   "source": [
    "final = final.reindex(columns=['負責業務', 'BG', 'Group', '年份', '月份', '數量', '金額', '品名', '產品類型',\n",
    "       '金額類型'])"
   ]
  },
  {
   "cell_type": "code",
   "execution_count": null,
   "id": "9a2fd62a",
   "metadata": {
    "scrolled": true
   },
   "outputs": [],
   "source": [
    "final.to_excel(r\"D:\\OneDrive\\INPAQ\\預算\\2022 Forecast\\正式預算\\2019實績總表.xlsx\", index=False)"
   ]
  },
  {
   "cell_type": "markdown",
   "id": "7d81a5b8",
   "metadata": {},
   "source": [
    "### 製作總表"
   ]
  },
  {
   "cell_type": "code",
   "execution_count": null,
   "id": "523f7da7",
   "metadata": {},
   "outputs": [],
   "source": [
    "summary = pd.read_excel(r\"D:\\OneDrive\\INPAQ\\預算\\2022 Forecast\\正式預算\\20211102_第二版預算\\2022預算匯總表for樞紐_20211102.xlsx\", None)"
   ]
  },
  {
   "cell_type": "code",
   "execution_count": null,
   "id": "273c0941",
   "metadata": {},
   "outputs": [],
   "source": [
    "data = summary['預算和實績']"
   ]
  },
  {
   "cell_type": "code",
   "execution_count": null,
   "id": "f83c660a",
   "metadata": {},
   "outputs": [],
   "source": [
    "data.columns"
   ]
  },
  {
   "cell_type": "code",
   "execution_count": null,
   "id": "b5ba1c8e",
   "metadata": {
    "scrolled": true
   },
   "outputs": [],
   "source": [
    "analysis = pd.DataFrame(data.pivot_table(columns=['年份', '金額類型'], index=['產品類型', '負責業務', 'Group'], values=['金額'], aggfunc='sum').to_records())"
   ]
  },
  {
   "cell_type": "code",
   "execution_count": null,
   "id": "40707b28",
   "metadata": {
    "scrolled": false
   },
   "outputs": [],
   "source": [
    "analysis"
   ]
  },
  {
   "cell_type": "code",
   "execution_count": null,
   "id": "0072ce22",
   "metadata": {},
   "outputs": [],
   "source": [
    "analysis.columns = ['產品類型', '負責業務', 'Group', '2019實績', '2020實績', '2021實績', '2021預算', '2022實績', '2022預算']"
   ]
  },
  {
   "cell_type": "code",
   "execution_count": null,
   "id": "d33da480",
   "metadata": {},
   "outputs": [],
   "source": [
    "analysis = analysis.reindex(columns=['產品類型', '負責業務', 'Group', '2019實績', '2020實績', '2021預算', '2021實績', '2022預算', '2022實績'])"
   ]
  },
  {
   "cell_type": "code",
   "execution_count": null,
   "id": "9da93d37",
   "metadata": {},
   "outputs": [],
   "source": [
    "analysis['2021達成率'] = analysis['2021實績'] / analysis['2021預算']"
   ]
  },
  {
   "cell_type": "code",
   "execution_count": null,
   "id": "a8e932f5",
   "metadata": {},
   "outputs": [],
   "source": [
    "analysis['2022/2021成長率'] = analysis['2022預算'] / analysis['2021實績']"
   ]
  },
  {
   "cell_type": "code",
   "execution_count": null,
   "id": "ad17331b",
   "metadata": {},
   "outputs": [],
   "source": [
    "final = analysis[['產品類型', '負責業務', 'Group', '2019實績', '2020實績', '2021預算', '2021實績', '2021達成率',\n",
    "       '2022預算', '2022/2021成長率']]"
   ]
  },
  {
   "cell_type": "code",
   "execution_count": null,
   "id": "72482ae6",
   "metadata": {},
   "outputs": [],
   "source": [
    "final.to_excel(r\"D:\\OneDrive\\INPAQ\\預算\\2022 Forecast\\正式預算\\各年度數字.xlsx\", index=False)"
   ]
  },
  {
   "cell_type": "code",
   "execution_count": null,
   "id": "1c24e981",
   "metadata": {},
   "outputs": [],
   "source": []
  }
 ],
 "metadata": {
  "kernelspec": {
   "display_name": "Python 3 (ipykernel)",
   "language": "python",
   "name": "python3"
  },
  "language_info": {
   "codemirror_mode": {
    "name": "ipython",
    "version": 3
   },
   "file_extension": ".py",
   "mimetype": "text/x-python",
   "name": "python",
   "nbconvert_exporter": "python",
   "pygments_lexer": "ipython3",
   "version": "3.8.8"
  }
 },
 "nbformat": 4,
 "nbformat_minor": 5
}
