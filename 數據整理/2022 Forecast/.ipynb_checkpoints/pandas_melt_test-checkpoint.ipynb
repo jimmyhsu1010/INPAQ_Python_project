{
 "cells": [
  {
   "cell_type": "code",
   "execution_count": 15,
   "id": "24b58302",
   "metadata": {},
   "outputs": [],
   "source": [
    "import pandas as pd\n",
    "pd.set_option('display.max_columns', None)\n",
    "pd.set_option('mode.chained_assignment', None)\n",
    "def my_formatter(x):\n",
    "    if x < 0:\n",
    "        return '{:,.0f}'.format(-x)\n",
    "    return '{:,.0f}'.format(x)\n",
    "pd.options.display.float_format = my_formatter\n",
    "import calendar"
   ]
  },
  {
   "cell_type": "code",
   "execution_count": 4,
   "id": "68b8e548",
   "metadata": {},
   "outputs": [],
   "source": [
    "df = pd.read_excel(r\"C:\\Users\\kaihsu\\OneDrive\\INPAQ\\預算\\2022 Forecast\\正式預算\\20211109_第三版預算\\2022預算匯總表for樞紐_20211109.xlsx\", None)"
   ]
  },
  {
   "cell_type": "code",
   "execution_count": 5,
   "id": "8851c08c",
   "metadata": {
    "scrolled": true
   },
   "outputs": [
    {
     "data": {
      "text/plain": [
       "dict_keys(['各年度數字總表20211102', '改正LF', '各年度數字總表', '各年度數字樞紐', '2021預算raw data', 'BU對照表', '歷年實績', '20211109年度預算規劃元件', '2022預算Raw data', '預算和實績', '2021年實績樞紐', 'MT一頁報告用數據', 'TELTONIKA整理', 'TELTONIKA一頁報告用', 'TELTONIKA樞紐', '總覽', '圖表', '20211109開會表格'])"
      ]
     },
     "execution_count": 5,
     "metadata": {},
     "output_type": "execute_result"
    }
   ],
   "source": [
    "df.keys()"
   ]
  },
  {
   "cell_type": "code",
   "execution_count": 6,
   "id": "e0b740ae",
   "metadata": {},
   "outputs": [],
   "source": [
    "raw_data = df['預算和實績']"
   ]
  },
  {
   "cell_type": "code",
   "execution_count": 11,
   "id": "098d451f",
   "metadata": {},
   "outputs": [],
   "source": [
    "month_list = [calendar.month_name[i] for i in range(1, 13)]"
   ]
  },
  {
   "cell_type": "code",
   "execution_count": 12,
   "id": "aa9a2f30",
   "metadata": {},
   "outputs": [],
   "source": [
    "raw_data['月份'] = pd.Categorical(raw_data['月份'], ordered=True, categories=month_list)"
   ]
  },
  {
   "cell_type": "code",
   "execution_count": 72,
   "id": "88c2c8c5",
   "metadata": {
    "scrolled": true
   },
   "outputs": [],
   "source": [
    "test_data = raw_data[~(raw_data['數量'] == 0)]"
   ]
  },
  {
   "cell_type": "code",
   "execution_count": 77,
   "id": "b2e630b8",
   "metadata": {},
   "outputs": [],
   "source": [
    "test = test_data.groupby(['區域', '產品類型', '年份', '金額類型', '月份'])[['金額']].sum()"
   ]
  },
  {
   "cell_type": "code",
   "execution_count": 82,
   "id": "13e8b6fb",
   "metadata": {
    "scrolled": false
   },
   "outputs": [
    {
     "data": {
      "text/html": [
       "<div>\n",
       "<style scoped>\n",
       "    .dataframe tbody tr th:only-of-type {\n",
       "        vertical-align: middle;\n",
       "    }\n",
       "\n",
       "    .dataframe tbody tr th {\n",
       "        vertical-align: top;\n",
       "    }\n",
       "\n",
       "    .dataframe thead th {\n",
       "        text-align: right;\n",
       "    }\n",
       "</style>\n",
       "<table border=\"1\" class=\"dataframe\">\n",
       "  <thead>\n",
       "    <tr style=\"text-align: right;\">\n",
       "      <th></th>\n",
       "      <th>test</th>\n",
       "    </tr>\n",
       "  </thead>\n",
       "  <tbody>\n",
       "    <tr>\n",
       "      <th>0</th>\n",
       "      <td>20</td>\n",
       "    </tr>\n",
       "  </tbody>\n",
       "</table>\n",
       "</div>"
      ],
      "text/plain": [
       "   test\n",
       "0    20"
      ]
     },
     "execution_count": 82,
     "metadata": {},
     "output_type": "execute_result"
    }
   ],
   "source": [
    "pd.DataFrame({'test': [20]})"
   ]
  },
  {
   "cell_type": "code",
   "execution_count": 97,
   "id": "33bd5cac",
   "metadata": {},
   "outputs": [],
   "source": [
    "test_df = pd.DataFrame([[1,1]], columns=['a', 'b'])"
   ]
  },
  {
   "cell_type": "code",
   "execution_count": 106,
   "id": "8b8992a9",
   "metadata": {
    "scrolled": true
   },
   "outputs": [
    {
     "data": {
      "text/html": [
       "<div>\n",
       "<style scoped>\n",
       "    .dataframe tbody tr th:only-of-type {\n",
       "        vertical-align: middle;\n",
       "    }\n",
       "\n",
       "    .dataframe tbody tr th {\n",
       "        vertical-align: top;\n",
       "    }\n",
       "\n",
       "    .dataframe thead th {\n",
       "        text-align: right;\n",
       "    }\n",
       "</style>\n",
       "<table border=\"1\" class=\"dataframe\">\n",
       "  <thead>\n",
       "    <tr style=\"text-align: right;\">\n",
       "      <th></th>\n",
       "      <th>a</th>\n",
       "      <th>b</th>\n",
       "    </tr>\n",
       "  </thead>\n",
       "  <tbody>\n",
       "    <tr>\n",
       "      <th>0</th>\n",
       "      <td>1</td>\n",
       "      <td>1</td>\n",
       "    </tr>\n",
       "    <tr>\n",
       "      <th>1</th>\n",
       "      <td>22</td>\n",
       "      <td>33</td>\n",
       "    </tr>\n",
       "  </tbody>\n",
       "</table>\n",
       "</div>"
      ],
      "text/plain": [
       "    a   b\n",
       "0   1   1\n",
       "1  22  33"
      ]
     },
     "execution_count": 106,
     "metadata": {},
     "output_type": "execute_result"
    }
   ],
   "source": [
    "a = {'a': 22, 'b': 33}\n",
    "test_df.append(a, ignore_index=True)"
   ]
  },
  {
   "cell_type": "code",
   "execution_count": null,
   "id": "8b515a1e",
   "metadata": {},
   "outputs": [],
   "source": []
  }
 ],
 "metadata": {
  "kernelspec": {
   "display_name": "Python 3 (ipykernel)",
   "language": "python",
   "name": "python3"
  },
  "language_info": {
   "codemirror_mode": {
    "name": "ipython",
    "version": 3
   },
   "file_extension": ".py",
   "mimetype": "text/x-python",
   "name": "python",
   "nbconvert_exporter": "python",
   "pygments_lexer": "ipython3",
   "version": "3.8.8"
  }
 },
 "nbformat": 4,
 "nbformat_minor": 5
}
