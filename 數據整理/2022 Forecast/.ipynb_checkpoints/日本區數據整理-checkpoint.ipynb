{
 "cells": [
  {
   "cell_type": "code",
   "execution_count": 1,
   "id": "2f4f9274",
   "metadata": {},
   "outputs": [],
   "source": [
    "import pandas as pd\n",
    "pd.set_option('display.max_columns', None)\n",
    "pd.set_option('mode.chained_assignment', None)\n",
    "import calendar"
   ]
  },
  {
   "cell_type": "code",
   "execution_count": 2,
   "id": "00eb8a3d",
   "metadata": {},
   "outputs": [],
   "source": [
    "df = pd.read_excel(r\"D:\\OneDrive\\INPAQ\\預算\\2022 Forecast\\代工產品\\★預算彙總表2021 RF1匯整20210109 1030AMD JP_20211025.XLSX\", None)"
   ]
  },
  {
   "cell_type": "code",
   "execution_count": 3,
   "id": "2773d7a0",
   "metadata": {},
   "outputs": [
    {
     "data": {
      "text/plain": [
       "dict_keys(['2022預算', '產品規格', '提醒事項', '業務', 'RF1', 'RF2', 'RF1例外', '工作表1', '數量', '金額'])"
      ]
     },
     "execution_count": 3,
     "metadata": {},
     "output_type": "execute_result"
    }
   ],
   "source": [
    "df.keys()"
   ]
  },
  {
   "cell_type": "code",
   "execution_count": 4,
   "id": "21da3eae",
   "metadata": {},
   "outputs": [],
   "source": [
    "qty = df['數量']\n",
    "ntd = df['金額']"
   ]
  },
  {
   "cell_type": "code",
   "execution_count": 6,
   "id": "fad79fe4",
   "metadata": {},
   "outputs": [],
   "source": [
    "columns = ['業務名稱', '客戶/代工廠', '集團/代理商', '終端客戶', '品名', '產業', '1', '2', '3', '4', '5', '6','7', '8', '9', '10', '11', '12']"
   ]
  },
  {
   "cell_type": "code",
   "execution_count": 7,
   "id": "d7e869d2",
   "metadata": {},
   "outputs": [],
   "source": [
    "qty.columns = columns\n",
    "ntd.columns = columns"
   ]
  },
  {
   "cell_type": "code",
   "execution_count": 17,
   "id": "31d5718f",
   "metadata": {},
   "outputs": [],
   "source": [
    "qty_result = qty.groupby(['業務名稱', '客戶/代工廠', '集團/代理商', '終端客戶', '品名', '產業']).sum().stack().reset_index()\n",
    "ntd_result = ntd.groupby(['業務名稱', '客戶/代工廠', '集團/代理商', '終端客戶', '品名', '產業']).sum().stack().reset_index()\n"
   ]
  },
  {
   "cell_type": "code",
   "execution_count": 20,
   "id": "6a31c6cd",
   "metadata": {},
   "outputs": [],
   "source": [
    "ntd_result.columns = ['業務名稱', '客戶/代工廠', '集團/代理商', '終端客戶', '品名', '產業', '月份', '金額']\n",
    "qty_result.columns = ['業務名稱', '客戶/代工廠', '集團/代理商', '終端客戶', '品名', '產業', '月份', '數量']"
   ]
  },
  {
   "cell_type": "code",
   "execution_count": 24,
   "id": "fd638665",
   "metadata": {},
   "outputs": [],
   "source": [
    "result= qty_result.merge(ntd_result, on=['業務名稱', '客戶/代工廠', '集團/代理商', '終端客戶', '品名', '產業', '月份'], how='left')"
   ]
  },
  {
   "cell_type": "code",
   "execution_count": 26,
   "id": "532c9689",
   "metadata": {},
   "outputs": [],
   "source": [
    "result.to_excel(r\"D:\\OneDrive\\INPAQ\\預算\\2022 Forecast\\代工產品\\★預算彙總表2021 RF1匯整20210109 1030AMD JP_20211025.xlsx\", index=False)"
   ]
  },
  {
   "cell_type": "code",
   "execution_count": null,
   "id": "59a8aa8b",
   "metadata": {},
   "outputs": [],
   "source": []
  }
 ],
 "metadata": {
  "kernelspec": {
   "display_name": "Python 3",
   "language": "python",
   "name": "python3"
  },
  "language_info": {
   "codemirror_mode": {
    "name": "ipython",
    "version": 3
   },
   "file_extension": ".py",
   "mimetype": "text/x-python",
   "name": "python",
   "nbconvert_exporter": "python",
   "pygments_lexer": "ipython3",
   "version": "3.8.11"
  }
 },
 "nbformat": 4,
 "nbformat_minor": 5
}
