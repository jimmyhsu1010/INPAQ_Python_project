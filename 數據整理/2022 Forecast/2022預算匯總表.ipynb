{
 "cells": [
  {
   "cell_type": "code",
   "execution_count": null,
   "id": "57a9ca8f",
   "metadata": {},
   "outputs": [],
   "source": [
    "import pandas as pd\n",
    "pd.set_option('display.max_columns', None)\n",
    "pd.set_option('mode.chained_assignment', None)\n",
    "import calendar"
   ]
  },
  {
   "cell_type": "code",
   "execution_count": null,
   "id": "92a8d8ec",
   "metadata": {},
   "outputs": [],
   "source": [
    "df = pd.read_excel(r\"D:\\OneDrive\\INPAQ\\預算\\2022 Forecast\\正式預算\\2022預算匯總表.xlsx\", None)"
   ]
  },
  {
   "cell_type": "code",
   "execution_count": null,
   "id": "d2567902",
   "metadata": {},
   "outputs": [],
   "source": [
    "df.keys()"
   ]
  },
  {
   "cell_type": "code",
   "execution_count": null,
   "id": "6adafa74",
   "metadata": {},
   "outputs": [],
   "source": [
    "rf_qty_budget = df['天線預算總表（數量）']\n",
    "rf_ntd_budget = df['天線預算總編（金額）']\n",
    "com_qty_budget = df['元件預算總表（數量）']\n",
    "com_ntd_budget = df['元件預算總編（金額）']"
   ]
  },
  {
   "cell_type": "code",
   "execution_count": null,
   "id": "ff813e10",
   "metadata": {},
   "outputs": [],
   "source": [
    "qty_columns = ['負責業務', 'Group', 'BG', '品名', '月份', '數量']"
   ]
  },
  {
   "cell_type": "code",
   "execution_count": null,
   "id": "f5321da8",
   "metadata": {},
   "outputs": [],
   "source": [
    "rf_qty_budget = rf_qty_budget.groupby(['負責業務', 'Group', 'BG', '品名']).sum().stack().reset_index()\n",
    "rf_qty_budget.columns = qty_columns\n",
    "com_qty_budget = com_qty_budget.groupby(['負責業務', 'Group', 'BG', '品名']).sum().stack().reset_index()\n",
    "com_qty_budget.columns = qty_columns"
   ]
  },
  {
   "cell_type": "code",
   "execution_count": null,
   "id": "8a105baf",
   "metadata": {},
   "outputs": [],
   "source": [
    "ntd_columns = ['負責業務', 'Group', 'BG', '品名', '月份', '金額']"
   ]
  },
  {
   "cell_type": "code",
   "execution_count": null,
   "id": "1b0f2d11",
   "metadata": {},
   "outputs": [],
   "source": [
    "rf_ntd_budget = rf_ntd_budget.groupby(['負責業務', 'Group', 'BG', '品名']).sum().stack().reset_index()\n",
    "rf_ntd_budget.columns = ntd_columns\n",
    "com_ntd_budget = com_ntd_budget.groupby(['負責業務', 'Group', 'BG', '品名']).sum().stack().reset_index()\n",
    "com_ntd_budget.columns = ntd_columns"
   ]
  },
  {
   "cell_type": "code",
   "execution_count": null,
   "id": "805c6d52",
   "metadata": {},
   "outputs": [],
   "source": [
    "final_rf_budget = rf_qty_budget.merge(rf_ntd_budget, on=['負責業務', 'Group', 'BG', '品名', '月份'], how='left')\n",
    "final_com_budget = com_qty_budget.merge(com_ntd_budget, on=['負責業務', 'Group', 'BG', '品名', '月份'], how='left')"
   ]
  },
  {
   "cell_type": "code",
   "execution_count": null,
   "id": "7451e201",
   "metadata": {},
   "outputs": [],
   "source": [
    "final = pd.concat([final_rf_budget, final_com_budget], axis=0)"
   ]
  },
  {
   "cell_type": "code",
   "execution_count": null,
   "id": "921d6539",
   "metadata": {},
   "outputs": [],
   "source": [
    "month_name = [calendar.month_name[i] for i in range(1, 13)]"
   ]
  },
  {
   "cell_type": "code",
   "execution_count": null,
   "id": "4bde7307",
   "metadata": {},
   "outputs": [],
   "source": [
    "month_num = [i for i in range(1, 13)]"
   ]
  },
  {
   "cell_type": "code",
   "execution_count": null,
   "id": "3c4187af",
   "metadata": {},
   "outputs": [],
   "source": [
    "month_dict = dict(zip(month_num, month_name))"
   ]
  },
  {
   "cell_type": "code",
   "execution_count": null,
   "id": "7a4e8221",
   "metadata": {},
   "outputs": [],
   "source": [
    "final['月份'] = final['月份'].map(month_dict)"
   ]
  },
  {
   "cell_type": "code",
   "execution_count": null,
   "id": "7094fd65",
   "metadata": {},
   "outputs": [],
   "source": [
    "final.insert(3, '類型', '')"
   ]
  },
  {
   "cell_type": "code",
   "execution_count": null,
   "id": "fa80abb6",
   "metadata": {},
   "outputs": [],
   "source": [
    "final['類型'] = final.apply(lambda x: '天線' if x['BG'] == 'RF1' or x['BG'] == 'RF2' else '元件', axis=1)"
   ]
  },
  {
   "cell_type": "code",
   "execution_count": null,
   "id": "e4358013",
   "metadata": {},
   "outputs": [],
   "source": [
    "final.insert(0, '年份', '2022')"
   ]
  },
  {
   "cell_type": "code",
   "execution_count": null,
   "id": "f0b58221",
   "metadata": {},
   "outputs": [],
   "source": [
    "final['金額類型'] = '預算'"
   ]
  },
  {
   "cell_type": "code",
   "execution_count": null,
   "id": "dc192321",
   "metadata": {
    "scrolled": true
   },
   "outputs": [],
   "source": [
    "final = final.reindex(columns=['負責業務', 'BG', 'Group', '年份', '月份', '數量', '金額', '品名', '類型', '金額類型'])"
   ]
  },
  {
   "cell_type": "code",
   "execution_count": null,
   "id": "4142b3cd",
   "metadata": {
    "scrolled": true
   },
   "outputs": [],
   "source": [
    "final.reindex(columns=['負責業務', 'Group', 'BG',])"
   ]
  },
  {
   "cell_type": "code",
   "execution_count": null,
   "id": "03f8cfaa",
   "metadata": {},
   "outputs": [],
   "source": [
    "final.to_excel(r\"D:\\OneDrive\\INPAQ\\預算\\2022 Forecast\\正式預算\\2022預算清理完數據.xlsx\", index=False)"
   ]
  },
  {
   "cell_type": "markdown",
   "id": "2bb564ea",
   "metadata": {},
   "source": [
    "## 總表用2021實績匯總"
   ]
  },
  {
   "cell_type": "code",
   "execution_count": null,
   "id": "e3f4c28c",
   "metadata": {},
   "outputs": [],
   "source": [
    "df = pd.read_excel(r\"C:\\Users\\kaihsu\\Desktop\\業績總表\\Weekly report_v0.1.xlsx\", sheet_name='出貨明細')"
   ]
  },
  {
   "cell_type": "code",
   "execution_count": null,
   "id": "844501aa",
   "metadata": {},
   "outputs": [],
   "source": [
    "result = df[(df['狀態'].str.contains('出')) & (~df['BU'].isin(['Others'])) & (df['預交年份'] == 2019)]"
   ]
  },
  {
   "cell_type": "code",
   "execution_count": null,
   "id": "02c51fee",
   "metadata": {},
   "outputs": [],
   "source": [
    "final = result.groupby(['負責業務', 'BU', 'Group', '預交年份', '預交月份', '品名'])[['數量', '本國幣別NTD']].sum().reset_index()"
   ]
  },
  {
   "cell_type": "code",
   "execution_count": null,
   "id": "b68f24f6",
   "metadata": {},
   "outputs": [],
   "source": [
    "final['BU'].unique()"
   ]
  },
  {
   "cell_type": "code",
   "execution_count": null,
   "id": "06628344",
   "metadata": {},
   "outputs": [],
   "source": [
    "final['產品類型'] = final['BU'].map(lambda x: '天線' if x in ['RF1', 'RF2'] else '元件')"
   ]
  },
  {
   "cell_type": "code",
   "execution_count": null,
   "id": "9d39a0f8",
   "metadata": {},
   "outputs": [],
   "source": [
    "final['金額類型'] = '實績'"
   ]
  },
  {
   "cell_type": "code",
   "execution_count": null,
   "id": "1fa5f87e",
   "metadata": {},
   "outputs": [],
   "source": [
    "final.columns = ['負責業務', 'BG', 'Group', '年份', '月份', '品名', '數量', '金額', '產品類型',\n",
    "       '金額類型']"
   ]
  },
  {
   "cell_type": "code",
   "execution_count": null,
   "id": "6e41d4f8",
   "metadata": {},
   "outputs": [],
   "source": [
    "final = final.reindex(columns=['負責業務', 'BG', 'Group', '年份', '月份', '數量', '金額', '品名', '產品類型',\n",
    "       '金額類型'])"
   ]
  },
  {
   "cell_type": "code",
   "execution_count": null,
   "id": "9a2fd62a",
   "metadata": {
    "scrolled": true
   },
   "outputs": [],
   "source": [
    "final.to_excel(r\"D:\\OneDrive\\INPAQ\\預算\\2022 Forecast\\正式預算\\2019實績總表.xlsx\", index=False)"
   ]
  },
  {
   "cell_type": "markdown",
   "id": "7d81a5b8",
   "metadata": {},
   "source": [
    "### 製作總表"
   ]
  },
  {
   "cell_type": "code",
   "execution_count": null,
   "id": "523f7da7",
   "metadata": {},
   "outputs": [],
   "source": [
    "summary = pd.read_excel(r\"D:\\OneDrive\\INPAQ\\預算\\2022 Forecast\\正式預算\\20211102_第二版預算\\2022預算匯總表for樞紐_20211102.xlsx\", None)"
   ]
  },
  {
   "cell_type": "code",
   "execution_count": null,
   "id": "273c0941",
   "metadata": {},
   "outputs": [],
   "source": [
    "data = summary['預算和實績']"
   ]
  },
  {
   "cell_type": "code",
   "execution_count": null,
   "id": "f83c660a",
   "metadata": {},
   "outputs": [],
   "source": [
    "data.columns"
   ]
  },
  {
   "cell_type": "code",
   "execution_count": null,
   "id": "b5ba1c8e",
   "metadata": {
    "scrolled": true
   },
   "outputs": [],
   "source": [
    "analysis = pd.DataFrame(data.pivot_table(columns=['年份', '金額類型'], index=['產品類型', '負責業務', 'Group'], values=['金額'], aggfunc='sum').to_records())"
   ]
  },
  {
   "cell_type": "code",
   "execution_count": null,
   "id": "40707b28",
   "metadata": {
    "scrolled": false
   },
   "outputs": [],
   "source": [
    "analysis"
   ]
  },
  {
   "cell_type": "code",
   "execution_count": null,
   "id": "0072ce22",
   "metadata": {},
   "outputs": [],
   "source": [
    "analysis.columns = ['產品類型', '負責業務', 'Group', '2019實績', '2020實績', '2021實績', '2021預算', '2022實績', '2022預算']"
   ]
  },
  {
   "cell_type": "code",
   "execution_count": null,
   "id": "d33da480",
   "metadata": {},
   "outputs": [],
   "source": [
    "analysis = analysis.reindex(columns=['產品類型', '負責業務', 'Group', '2019實績', '2020實績', '2021預算', '2021實績', '2022預算', '2022實績'])"
   ]
  },
  {
   "cell_type": "code",
   "execution_count": null,
   "id": "9da93d37",
   "metadata": {},
   "outputs": [],
   "source": [
    "analysis['2021達成率'] = analysis['2021實績'] / analysis['2021預算']"
   ]
  },
  {
   "cell_type": "code",
   "execution_count": null,
   "id": "a8e932f5",
   "metadata": {},
   "outputs": [],
   "source": [
    "analysis['2022/2021成長率'] = analysis['2022預算'] / analysis['2021實績']"
   ]
  },
  {
   "cell_type": "code",
   "execution_count": null,
   "id": "ad17331b",
   "metadata": {},
   "outputs": [],
   "source": [
    "final = analysis[['產品類型', '負責業務', 'Group', '2019實績', '2020實績', '2021預算', '2021實績', '2021達成率',\n",
    "       '2022預算', '2022/2021成長率']]"
   ]
  },
  {
   "cell_type": "code",
   "execution_count": null,
   "id": "72482ae6",
   "metadata": {},
   "outputs": [],
   "source": [
    "final.to_excel(r\"D:\\OneDrive\\INPAQ\\預算\\2022 Forecast\\正式預算\\各年度數字.xlsx\", index=False)"
   ]
  },
  {
   "cell_type": "code",
   "execution_count": null,
   "id": "1c24e981",
   "metadata": {},
   "outputs": [],
   "source": []
  }
 ],
 "metadata": {
  "kernelspec": {
   "display_name": "Python 3",
   "language": "python",
   "name": "python3"
  },
  "language_info": {
   "codemirror_mode": {
    "name": "ipython",
    "version": 3
   },
   "file_extension": ".py",
   "mimetype": "text/x-python",
   "name": "python",
   "nbconvert_exporter": "python",
   "pygments_lexer": "ipython3",
   "version": "3.8.11"
  }
 },
 "nbformat": 4,
 "nbformat_minor": 5
}
