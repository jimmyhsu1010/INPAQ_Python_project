{
 "cells": [
  {
   "cell_type": "code",
   "execution_count": null,
   "id": "c37d6ef2",
   "metadata": {},
   "outputs": [],
   "source": [
    "import pandas as pd\n",
    "pd.set_option('display.max_columns', None)\n",
    "pd.set_option('mode.chained_assignment', None)\n"
   ]
  },
  {
   "cell_type": "code",
   "execution_count": null,
   "id": "8ca9e002",
   "metadata": {},
   "outputs": [],
   "source": [
    "df = pd.read_excel(r\"C:\\Users\\kaihsu\\Desktop\\業績總表\\Weekly report_v0.1.xlsx\", sheet_name='出貨明細')"
   ]
  },
  {
   "cell_type": "code",
   "execution_count": null,
   "id": "d4eb8b27",
   "metadata": {},
   "outputs": [],
   "source": [
    "sorted_bu = df.dropna(subset=['BU'])"
   ]
  },
  {
   "cell_type": "code",
   "execution_count": null,
   "id": "5900a748",
   "metadata": {},
   "outputs": [],
   "source": [
    "sorted_bu = sorted_bu[(~sorted_bu['BU'].isin(['RF'])) & (sorted_bu['狀態'].str.contains('出'))]"
   ]
  },
  {
   "cell_type": "code",
   "execution_count": null,
   "id": "dc90ab62",
   "metadata": {},
   "outputs": [],
   "source": [
    "bu_list = sorted_bu[['品名', 'BU']].drop_duplicates()"
   ]
  },
  {
   "cell_type": "code",
   "execution_count": null,
   "id": "10b3d27f",
   "metadata": {},
   "outputs": [],
   "source": [
    "bu_list.to_excel(r\"D:\\OneDrive\\INPAQ\\預算\\2022 Forecast\\正式預算\\BU對照表.xlsx\", index=False)"
   ]
  },
  {
   "cell_type": "code",
   "execution_count": null,
   "id": "5ee75585",
   "metadata": {},
   "outputs": [],
   "source": []
  }
 ],
 "metadata": {
  "kernelspec": {
   "display_name": "Python 3",
   "language": "python",
   "name": "python3"
  },
  "language_info": {
   "codemirror_mode": {
    "name": "ipython",
    "version": 3
   },
   "file_extension": ".py",
   "mimetype": "text/x-python",
   "name": "python",
   "nbconvert_exporter": "python",
   "pygments_lexer": "ipython3",
   "version": "3.8.11"
  }
 },
 "nbformat": 4,
 "nbformat_minor": 5
}
