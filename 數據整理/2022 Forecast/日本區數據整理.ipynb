{
 "cells": [
  {
   "cell_type": "code",
   "execution_count": null,
   "id": "a3d9f408",
   "metadata": {},
   "outputs": [],
   "source": [
    "import pandas as pd\n",
    "pd.set_option('display.max_columns', None)\n",
    "pd.set_option('mode.chained_assignment', None)\n",
    "import calendar"
   ]
  },
  {
   "cell_type": "code",
   "execution_count": null,
   "id": "9875b9d0",
   "metadata": {},
   "outputs": [],
   "source": [
    "df = pd.read_excel(r\"D:\\OneDrive\\INPAQ\\預算\\2022 Forecast\\代工產品\\★預算彙總表2021 RF1匯整20210109 1030AMD JP_20211025.XLSX\", None)"
   ]
  },
  {
   "cell_type": "code",
   "execution_count": null,
   "id": "693c93d4",
   "metadata": {},
   "outputs": [],
   "source": [
    "df.keys()"
   ]
  },
  {
   "cell_type": "code",
   "execution_count": null,
   "id": "a0151d97",
   "metadata": {},
   "outputs": [],
   "source": [
    "qty = df['數量']\n",
    "ntd = df['金額']"
   ]
  },
  {
   "cell_type": "code",
   "execution_count": null,
   "id": "e9829721",
   "metadata": {},
   "outputs": [],
   "source": [
    "columns = ['業務名稱', '客戶/代工廠', '集團/代理商', '終端客戶', '品名', '產業', '1', '2', '3', '4', '5', '6','7', '8', '9', '10', '11', '12']"
   ]
  },
  {
   "cell_type": "code",
   "execution_count": null,
   "id": "f18092a5",
   "metadata": {},
   "outputs": [],
   "source": [
    "qty.columns = columns\n",
    "ntd.columns = columns"
   ]
  },
  {
   "cell_type": "code",
   "execution_count": null,
   "id": "799aec6f",
   "metadata": {},
   "outputs": [],
   "source": [
    "qty_result = qty.groupby(['業務名稱', '客戶/代工廠', '集團/代理商', '終端客戶', '品名', '產業']).sum().stack().reset_index()\n",
    "ntd_result = ntd.groupby(['業務名稱', '客戶/代工廠', '集團/代理商', '終端客戶', '品名', '產業']).sum().stack().reset_index()\n"
   ]
  },
  {
   "cell_type": "code",
   "execution_count": null,
   "id": "d2d0a87a",
   "metadata": {},
   "outputs": [],
   "source": [
    "ntd_result.columns = ['業務名稱', '客戶/代工廠', '集團/代理商', '終端客戶', '品名', '產業', '月份', '金額']\n",
    "qty_result.columns = ['業務名稱', '客戶/代工廠', '集團/代理商', '終端客戶', '品名', '產業', '月份', '數量']"
   ]
  },
  {
   "cell_type": "code",
   "execution_count": null,
   "id": "e4cd0424",
   "metadata": {},
   "outputs": [],
   "source": [
    "result= qty_result.merge(ntd_result, on=['業務名稱', '客戶/代工廠', '集團/代理商', '終端客戶', '品名', '產業', '月份'], how='left')"
   ]
  },
  {
   "cell_type": "code",
   "execution_count": null,
   "id": "5fec2f1b",
   "metadata": {},
   "outputs": [],
   "source": [
    "result.to_excel(r\"D:\\OneDrive\\INPAQ\\預算\\2022 Forecast\\代工產品\\★預算彙總表2021 RF1匯整20210109 1030AMD JP_20211025.xlsx\", index=False)"
   ]
  },
  {
   "cell_type": "code",
   "execution_count": null,
   "id": "b89d114b",
   "metadata": {},
   "outputs": [],
   "source": []
  }
 ],
 "metadata": {
  "kernelspec": {
   "display_name": "Python 3",
   "language": "python",
   "name": "python3"
  },
  "language_info": {
   "codemirror_mode": {
    "name": "ipython",
    "version": 3
   },
   "file_extension": ".py",
   "mimetype": "text/x-python",
   "name": "python",
   "nbconvert_exporter": "python",
   "pygments_lexer": "ipython3",
   "version": "3.8.11"
  }
 },
 "nbformat": 4,
 "nbformat_minor": 5
}
