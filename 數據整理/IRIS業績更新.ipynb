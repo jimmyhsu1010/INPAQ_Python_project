{
 "cells": [
  {
   "cell_type": "code",
   "execution_count": null,
   "metadata": {},
   "outputs": [],
   "source": [
    "import pandas as pd\n",
    "pd.set_option(\"display.max_rows\", 8)\n",
    "pd.set_option(\"display.max_columns\", None)\n",
    "import tkinter as tk\n",
    "from tkinter import filedialog"
   ]
  },
  {
   "cell_type": "code",
   "execution_count": null,
   "metadata": {},
   "outputs": [],
   "source": [
    "root = tk.Tk()\n",
    "root.withdraw()\n",
    "file_path = filedialog.askopenfilename()"
   ]
  },
  {
   "cell_type": "code",
   "execution_count": null,
   "metadata": {},
   "outputs": [],
   "source": [
    "df = pd.read_excel(file_path, sheet_name=\"出貨明細\")"
   ]
  },
  {
   "cell_type": "code",
   "execution_count": null,
   "metadata": {},
   "outputs": [],
   "source": [
    "iris = df[[\"BG\", \"Subcategory\", \"Group\", \"狀態\", \"預交年份\", \"預交月份\", \"負責業務\", \"品名\", \"本國幣別NTD\"]]"
   ]
  },
  {
   "cell_type": "code",
   "execution_count": null,
   "metadata": {
    "scrolled": true
   },
   "outputs": [],
   "source": [
    "iris = iris[(iris[\"BG\"] == \"RF\") & (iris[\"狀態\"].str.contains(\"出\")) & (iris[\"預交年份\"] == 2021) & (iris[\"預交月份\"].isin([\"February\", \"March\", \"April\"]))]"
   ]
  },
  {
   "cell_type": "code",
   "execution_count": null,
   "metadata": {},
   "outputs": [],
   "source": [
    "iris[\"Subcategory\"] = iris.apply(lambda x: \"BU2\" if \"RFDPA\" in x[\"品名\"] else \"BU1\", axis=1)"
   ]
  },
  {
   "cell_type": "code",
   "execution_count": null,
   "metadata": {},
   "outputs": [],
   "source": [
    "iris = iris[iris[\"Subcategory\"] == \"BU1\"]"
   ]
  },
  {
   "cell_type": "code",
   "execution_count": null,
   "metadata": {},
   "outputs": [],
   "source": [
    "budget = pd.read_excel(file_path, sheet_name=\"2021預算總表\", usecols=\"A:I\")"
   ]
  },
  {
   "cell_type": "code",
   "execution_count": null,
   "metadata": {},
   "outputs": [],
   "source": [
    "revenue = iris.groupby([\"負責業務\", \"預交月份\"])[\"本國幣別NTD\"].sum().reset_index()"
   ]
  },
  {
   "cell_type": "code",
   "execution_count": null,
   "metadata": {},
   "outputs": [],
   "source": [
    "budget = budget[(budget[\"類型\"] == \"天線\") & (budget[\"預交年份\"] == 2021) & (budget[\"預交月份\"].isin([\"February\", \"March\", \"April\"]))].groupby([\"負責業務\", \"預交月份\"])[[\"本國幣別NTD\"]].sum().reset_index()"
   ]
  },
  {
   "cell_type": "code",
   "execution_count": null,
   "metadata": {},
   "outputs": [],
   "source": [
    "budget[\"類別\"] = \"預算\"\n",
    "revenue[\"類別\"] = \"實績\""
   ]
  },
  {
   "cell_type": "code",
   "execution_count": null,
   "metadata": {},
   "outputs": [],
   "source": [
    "budget.columns = ['負責業務', '預交月份', '本國幣別NTD', '類別']"
   ]
  },
  {
   "cell_type": "code",
   "execution_count": null,
   "metadata": {},
   "outputs": [],
   "source": [
    "revenue.columns = ['負責業務', '預交月份', '本國幣別NTD', '類別']"
   ]
  },
  {
   "cell_type": "code",
   "execution_count": null,
   "metadata": {},
   "outputs": [],
   "source": [
    "for_iris = pd.concat([revenue, budget], axis=0)"
   ]
  },
  {
   "cell_type": "code",
   "execution_count": null,
   "metadata": {},
   "outputs": [],
   "source": [
    "result = iris.pivot_table(index=[\"負責業務\", \"Subcategory\"], values=\"本國幣別NTD\", columns=\"預交月份\", aggfunc=\"sum\").reset_index()"
   ]
  },
  {
   "cell_type": "code",
   "execution_count": null,
   "metadata": {},
   "outputs": [],
   "source": [
    "'''.xs()可以將unstack後的level刪除'''\n",
    "test = iris.groupby([\"負責業務\", \"Subcategory\", \"預交月份\"])[[\"本國幣別NTD\"]].sum().unstack(\"預交月份\").xs(\"本國幣別NTD\", axis=1).reset_index()"
   ]
  },
  {
   "cell_type": "code",
   "execution_count": null,
   "metadata": {},
   "outputs": [],
   "source": [
    "result = iris.pivot_table(index=[\"負責業務\", \"Subcategory\"], columns=\"預交月份\", values=\"本國幣別NTD\", aggfunc=\"sum\", margins=True, margins_name=\"Total\").reset_index()"
   ]
  },
  {
   "cell_type": "code",
   "execution_count": null,
   "metadata": {},
   "outputs": [],
   "source": [
    "result = for_iris.pivot_table(index=[\"負責業務\", \"類別\"], columns=\"預交月份\", values=\"本國幣別NTD\", aggfunc=\"sum\").reset_index()"
   ]
  },
  {
   "cell_type": "code",
   "execution_count": null,
   "metadata": {},
   "outputs": [],
   "source": [
    "final = pd.DataFrame(result.to_records())"
   ]
  },
  {
   "cell_type": "code",
   "execution_count": null,
   "metadata": {},
   "outputs": [],
   "source": [
    "final = final.drop(\"index\", axis=1)"
   ]
  },
  {
   "cell_type": "code",
   "execution_count": null,
   "metadata": {},
   "outputs": [],
   "source": [
    "final"
   ]
  },
  {
   "cell_type": "code",
   "execution_count": null,
   "metadata": {},
   "outputs": [],
   "source": [
    "final = final.reindex(columns=['負責業務', '類別', 'February', 'March', 'April'])"
   ]
  },
  {
   "cell_type": "code",
   "execution_count": null,
   "metadata": {
    "scrolled": false
   },
   "outputs": [],
   "source": [
    "# final = final.sort_values([\"Subcategory\", \"February\", \"March\"], ascending=[True, False, False])\n",
    "final.style.format({\"February\":\"{0:,.0f}\", \"March\":\"{0:,.0f}\", \"April\":\"{:,.0f}\"}).hide_index()"
   ]
  },
  {
   "cell_type": "code",
   "execution_count": null,
   "metadata": {},
   "outputs": [],
   "source": [
    "result.style.format({\"本國幣別NTD\":\"{0:,.0f}\"}).highlight_max(color=\"lightgreen\").highlight_min(color=\"red\")"
   ]
  }
 ],
 "metadata": {
  "kernelspec": {
   "display_name": "Python 3",
   "language": "python",
   "name": "python3"
  },
  "language_info": {
   "codemirror_mode": {
    "name": "ipython",
    "version": 3
   },
   "file_extension": ".py",
   "mimetype": "text/x-python",
   "name": "python",
   "nbconvert_exporter": "python",
   "pygments_lexer": "ipython3",
   "version": "3.8.5"
  }
 },
 "nbformat": 4,
 "nbformat_minor": 4
}
