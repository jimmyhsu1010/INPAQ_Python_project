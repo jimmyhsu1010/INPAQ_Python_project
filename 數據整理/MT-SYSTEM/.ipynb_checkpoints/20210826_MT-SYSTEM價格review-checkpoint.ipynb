{
 "cells": [
  {
   "cell_type": "code",
   "execution_count": 80,
   "id": "390ef748",
   "metadata": {},
   "outputs": [],
   "source": [
    "import pandas as pd\n",
    "pd.set_option('display.max_columns', None)\n",
    "pd.set_option('mode.chained_assignment', None)\n",
    "def my_formatter(x):\n",
    "    if x < 0:\n",
    "        return '{:,.2f}'.format(-x)\n",
    "    return '{:,.2f}'.format(x)\n",
    "pd.options.display.float_format = my_formatter\n",
    "import tkinter as tk\n",
    "from tkinter import filedialog"
   ]
  },
  {
   "cell_type": "code",
   "execution_count": 2,
   "id": "280d28a8",
   "metadata": {},
   "outputs": [],
   "source": [
    "df = pd.read_excel(r\"C:\\Users\\kaihsu\\Desktop\\業績總表\\Weekly report_v0.1.xlsx\", sheet_name='出貨明細')"
   ]
  },
  {
   "cell_type": "code",
   "execution_count": 8,
   "id": "1e9bd6af",
   "metadata": {},
   "outputs": [],
   "source": [
    "def column_filter(data):\n",
    "    print(data.columns)\n",
    "    keep_columns = []\n",
    "    while True:\n",
    "        column = input(\"請填入要保留的欄位名稱\")\n",
    "        if column != '':\n",
    "            keep_columns.append(column)\n",
    "        else:\n",
    "            break\n",
    "    data = data[keep_columns]\n",
    "    return data"
   ]
  },
  {
   "cell_type": "code",
   "execution_count": 11,
   "id": "2ce3298b",
   "metadata": {
    "scrolled": true
   },
   "outputs": [
    {
     "name": "stdout",
     "output_type": "stream",
     "text": [
      "Index(['Category', 'BG', 'Subcategory', 'Group', '狀態', '銷售單號', '銷售項次', '月份',\n",
      "       '開單日期', '排定交貨日', '預交日期', '預交年份', '預交月份', '交期變更', '客戶名稱', '負責業務', '交貨方式',\n",
      "       '產品分類', '品名', '幣別', '數量', '已出數量', '未出數', '單價', '匯率', '本國幣別NTD', '客戶料號',\n",
      "       '客戶希交日', 'Term', '出通單號', 'BU'],\n",
      "      dtype='object')\n",
      "請填入要保留的欄位名稱Group\n",
      "請填入要保留的欄位名稱銷售單號\n",
      "請填入要保留的欄位名稱銷售項次\n",
      "請填入要保留的欄位名稱開單日期\n",
      "請填入要保留的欄位名稱品名\n",
      "請填入要保留的欄位名稱數量\n",
      "請填入要保留的欄位名稱單價\n",
      "請填入要保留的欄位名稱本國幣別NTD\n",
      "請填入要保留的欄位名稱BU\n",
      "請填入要保留的欄位名稱\n"
     ]
    }
   ],
   "source": [
    "result = column_filter(df)"
   ]
  },
  {
   "cell_type": "code",
   "execution_count": 14,
   "id": "59d573a1",
   "metadata": {},
   "outputs": [],
   "source": [
    "filtered = result[(result['Group'] == 'MT-SYSTEM') & (result['BU'].isin(['RF1', 'RF2', 'RF']))]\n",
    "    "
   ]
  },
  {
   "cell_type": "code",
   "execution_count": 17,
   "id": "e1ab35ed",
   "metadata": {},
   "outputs": [],
   "source": [
    "filtered['開單年份'] = filtered['開單日期'].dt.year"
   ]
  },
  {
   "cell_type": "code",
   "execution_count": 22,
   "id": "435d279d",
   "metadata": {},
   "outputs": [],
   "source": [
    "outcome = filtered.groupby(['開單年份', '品名', '單價'])[['數量', '本國幣別NTD']].sum().reset_index()"
   ]
  },
  {
   "cell_type": "code",
   "execution_count": 27,
   "id": "8c7bc2fd",
   "metadata": {},
   "outputs": [],
   "source": [
    "output = outcome[(outcome['開單年份'] == 2021) & (outcome['數量'] > 5000)]"
   ]
  },
  {
   "cell_type": "code",
   "execution_count": 28,
   "id": "3dff8fcb",
   "metadata": {},
   "outputs": [],
   "source": [
    "output.to_excel(r\"C:\\Users\\kaihsu\\Desktop\\MT-SYSTEM漲價討論.xlsx\", index=False)"
   ]
  },
  {
   "cell_type": "code",
   "execution_count": null,
   "id": "c500b299",
   "metadata": {},
   "outputs": [],
   "source": []
  }
 ],
 "metadata": {
  "kernelspec": {
   "display_name": "Python 3",
   "language": "python",
   "name": "python3"
  },
  "language_info": {
   "codemirror_mode": {
    "name": "ipython",
    "version": 3
   },
   "file_extension": ".py",
   "mimetype": "text/x-python",
   "name": "python",
   "nbconvert_exporter": "python",
   "pygments_lexer": "ipython3",
   "version": "3.8.11"
  }
 },
 "nbformat": 4,
 "nbformat_minor": 5
}
