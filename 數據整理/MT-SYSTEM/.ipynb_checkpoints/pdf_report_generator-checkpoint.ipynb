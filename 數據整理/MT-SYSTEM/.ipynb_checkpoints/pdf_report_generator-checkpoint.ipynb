{
 "cells": [
  {
   "cell_type": "markdown",
   "metadata": {},
   "source": [
    "## 瞎搞區"
   ]
  },
  {
   "cell_type": "code",
   "execution_count": null,
   "metadata": {},
   "outputs": [],
   "source": [
    "import tkinter as tk\n",
    "from tkinter import filedialog"
   ]
  },
  {
   "cell_type": "code",
   "execution_count": null,
   "metadata": {},
   "outputs": [],
   "source": [
    "def sheet_select():\n",
    "    root = tk.Tk()\n",
    "    root.withdraw()\n",
    "    path = filedialog.askopenfilename()\n",
    "    df = pd.read_excel(path, None)\n",
    "    catalog = {}\n",
    "    for k, v in enumerate(df.keys()):\n",
    "        print(k+1, v)\n",
    "        catalog.setdefault(k+1, v)\n",
    "    slctd_sheet = int(input(\"Please select the sheet you want to open:\\n\"))\n",
    "    df = df[catalog[slctd_sheet]]\n",
    "    return df"
   ]
  },
  {
   "cell_type": "code",
   "execution_count": null,
   "metadata": {},
   "outputs": [],
   "source": [
    "x = sheet_select()"
   ]
  },
  {
   "cell_type": "code",
   "execution_count": null,
   "metadata": {
    "scrolled": true
   },
   "outputs": [],
   "source": [
    "df = x[(x[\"狀態\"].str.contains(\"出\")) & (x[\"預交日期\"].between(\"2021-02-01\", \"2021-03-01\"))]"
   ]
  },
  {
   "cell_type": "code",
   "execution_count": null,
   "metadata": {},
   "outputs": [],
   "source": [
    "result = df.groupby([\"Group\"], as_index=False)[[\"本國幣別NTD\"]].agg([\"sum\", \"mean\", \"median\"])[\"本國幣別NTD\"].reset_index()"
   ]
  },
  {
   "cell_type": "code",
   "execution_count": null,
   "metadata": {
    "scrolled": true
   },
   "outputs": [],
   "source": [
    "pre_month = x[(x[\"狀態\"].str.contains(\"出\")) & (x[\"預交日期\"].between(\"2021-01-01\", \"2021-02-01\"))]\n",
    "pre_month = pre_month.groupby([\"Group\"])[[\"本國幣別NTD\"]].sum().reset_index()\n",
    "pre_month = pre_month.rename(columns={\"本國幣別NTD\":\"上月實績\"})\n",
    "next_month = x[(x[\"狀態\"].str.contains(\"出\")) & (x[\"預交日期\"].between(\"2021-03-01\", \"2021-04-01\"))]\n",
    "next_month = next_month.groupby([\"Group\"])[[\"本國幣別NTD\"]].sum().reset_index()\n",
    "next_month = next_month.rename(columns={\"本國幣別NTD\":\"下月實績\"})"
   ]
  },
  {
   "cell_type": "code",
   "execution_count": null,
   "metadata": {},
   "outputs": [],
   "source": [
    "table = result.merge(pre_month, on=\"Group\", how=\"left\")"
   ]
  },
  {
   "cell_type": "code",
   "execution_count": null,
   "metadata": {},
   "outputs": [],
   "source": [
    "table = table.merge(next_month, on=\"Group\", how=\"left\")"
   ]
  },
  {
   "cell_type": "code",
   "execution_count": null,
   "metadata": {},
   "outputs": [],
   "source": [
    "table.columns = ['公司名稱', '本月實績', '平均數', '中位數', '上月實績', '下月實績']"
   ]
  },
  {
   "cell_type": "code",
   "execution_count": null,
   "metadata": {
    "scrolled": false
   },
   "outputs": [],
   "source": [
    "report = table.style.format({\"本月實績\": \"NTD {:,.0f}\", \"平均數\": \"NTD {:,.0f}\", \"中位數\":\"NTD {:,.0f}\", \"上月實績\": \"NTD {:,.0f}\", \"下月實績\": \"NTD {:,.0f}\"}).bar(color=\"lightgreen\", subset=[\"本月實績\", \"上月實績\", \"下月實績\"]).hide_index().set_properties(padding=\"10px\", border=\"2px solid white\").highlight_max(color=\"green\", subset=[\"平均數\", \"中位數\"]).highlight_min(color=\"red\", subset=[\"平均數\", \"中位數\"])"
   ]
  },
  {
   "cell_type": "code",
   "execution_count": null,
   "metadata": {},
   "outputs": [],
   "source": [
    "report"
   ]
  },
  {
   "cell_type": "markdown",
   "metadata": {},
   "source": [
    "## PDF package installation"
   ]
  },
  {
   "cell_type": "code",
   "execution_count": null,
   "metadata": {},
   "outputs": [],
   "source": [
    "pip install fpdf"
   ]
  },
  {
   "cell_type": "code",
   "execution_count": null,
   "metadata": {},
   "outputs": [],
   "source": [
    "pip install -U kaleido"
   ]
  },
  {
   "cell_type": "markdown",
   "metadata": {},
   "source": [
    "## 建立PDF物件"
   ]
  },
  {
   "cell_type": "code",
   "execution_count": null,
   "metadata": {},
   "outputs": [],
   "source": [
    "from fpdf import FPDF"
   ]
  },
  {
   "cell_type": "code",
   "execution_count": null,
   "metadata": {
    "scrolled": true
   },
   "outputs": [],
   "source": [
    "pdf = FPDF()\n",
    "pdf.add_page()\n",
    "pdf.set_font(\"Arial\", \"B\", 32)\n",
    "text = input(\"請輸入內容：\")\n",
    "pdf.cell(40, 10, text)\n",
    "pdf.output(\"test.pdf\", \"F\")"
   ]
  },
  {
   "cell_type": "code",
   "execution_count": null,
   "metadata": {},
   "outputs": [],
   "source": [
    "import pandas as pd"
   ]
  }
 ],
 "metadata": {
  "kernelspec": {
   "display_name": "Python 3",
   "language": "python",
   "name": "python3"
  },
  "language_info": {
   "codemirror_mode": {
    "name": "ipython",
    "version": 3
   },
   "file_extension": ".py",
   "mimetype": "text/x-python",
   "name": "python",
   "nbconvert_exporter": "python",
   "pygments_lexer": "ipython3",
   "version": "3.8.5"
  }
 },
 "nbformat": 4,
 "nbformat_minor": 4
}
