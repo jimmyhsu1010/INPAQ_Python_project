{
 "cells": [
  {
   "cell_type": "code",
   "execution_count": null,
   "id": "5a511fe2",
   "metadata": {},
   "outputs": [],
   "source": [
    "import pandas as pd\n",
    "pd.set_option('display.max_columns', None)\n",
    "pd.set_option('mode.chained_assignment', None)\n",
    "def my_formatter(x):\n",
    "    if x < 0:\n",
    "        return '{:,.2f}'.format(-x)\n",
    "    return '{:,.2f}'.format(x)\n",
    "pd.options.display.float_format = my_formatter\n",
    "import tkinter as tk\n",
    "from tkinter import filedialog"
   ]
  },
  {
   "cell_type": "code",
   "execution_count": null,
   "id": "15b60ae7",
   "metadata": {},
   "outputs": [],
   "source": [
    "df = pd.read_excel(r\"C:\\Users\\kaihsu\\Desktop\\業績總表\\Weekly report_v0.1.xlsx\", sheet_name='出貨明細')"
   ]
  },
  {
   "cell_type": "code",
   "execution_count": null,
   "id": "69b03d65",
   "metadata": {},
   "outputs": [],
   "source": [
    "def column_filter(data):\n",
    "    print(data.columns)\n",
    "    keep_columns = []\n",
    "    while True:\n",
    "        column = input(\"請填入要保留的欄位名稱\")\n",
    "        if column != '':\n",
    "            keep_columns.append(column)\n",
    "        else:\n",
    "            break\n",
    "    data = data[keep_columns]\n",
    "    return data"
   ]
  },
  {
   "cell_type": "code",
   "execution_count": null,
   "id": "cf479252",
   "metadata": {
    "scrolled": true
   },
   "outputs": [],
   "source": [
    "result = column_filter(df)"
   ]
  },
  {
   "cell_type": "code",
   "execution_count": null,
   "id": "2de01f76",
   "metadata": {},
   "outputs": [],
   "source": [
    "filtered = result[(result['Group'] == 'MT-SYSTEM') & (result['BU'].isin(['RF1', 'RF2', 'RF']))]\n",
    "    "
   ]
  },
  {
   "cell_type": "code",
   "execution_count": null,
   "id": "b402f2d9",
   "metadata": {},
   "outputs": [],
   "source": [
    "filtered['開單年份'] = filtered['開單日期'].dt.year"
   ]
  },
  {
   "cell_type": "code",
   "execution_count": null,
   "id": "83590f64",
   "metadata": {},
   "outputs": [],
   "source": [
    "outcome = filtered.groupby(['開單年份', '品名', '單價'])[['數量', '本國幣別NTD']].sum().reset_index()"
   ]
  },
  {
   "cell_type": "code",
   "execution_count": null,
   "id": "888c6680",
   "metadata": {},
   "outputs": [],
   "source": [
    "output = outcome[(outcome['開單年份'] == 2021) & (outcome['數量'] > 5000)]"
   ]
  },
  {
   "cell_type": "code",
   "execution_count": null,
   "id": "36e19870",
   "metadata": {},
   "outputs": [],
   "source": [
    "output.to_excel(r\"C:\\Users\\kaihsu\\Desktop\\MT-SYSTEM漲價討論.xlsx\", index=False)"
   ]
  },
  {
   "cell_type": "code",
   "execution_count": null,
   "id": "e82bff2c",
   "metadata": {},
   "outputs": [],
   "source": []
  }
 ],
 "metadata": {
  "kernelspec": {
   "display_name": "Python 3",
   "language": "python",
   "name": "python3"
  },
  "language_info": {
   "codemirror_mode": {
    "name": "ipython",
    "version": 3
   },
   "file_extension": ".py",
   "mimetype": "text/x-python",
   "name": "python",
   "nbconvert_exporter": "python",
   "pygments_lexer": "ipython3",
   "version": "3.8.11"
  }
 },
 "nbformat": 4,
 "nbformat_minor": 5
}
