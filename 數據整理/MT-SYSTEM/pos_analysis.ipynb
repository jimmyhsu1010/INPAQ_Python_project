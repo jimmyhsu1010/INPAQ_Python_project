{
 "cells": [
  {
   "cell_type": "code",
   "execution_count": null,
   "metadata": {},
   "outputs": [],
   "source": [
    "import pandas as pd\n",
    "pd.set_option(\"display.max_rows\", None)\n",
    "pd.set_option(\"display.max_columns\", None)\n",
    "pd.set_option(\"display.float_format\", lambda x: \"%.2f\" % x)\n",
    "import plotly.express as px"
   ]
  },
  {
   "cell_type": "code",
   "execution_count": null,
   "metadata": {},
   "outputs": [],
   "source": [
    "df = pd.read_excel(r\"D:\\客戶\\Mt System\\POS_MT-SYSTEM\\2020POS Inpaq總表.xls\", sheet_name=\"POS Inpaq\")"
   ]
  },
  {
   "cell_type": "code",
   "execution_count": null,
   "metadata": {},
   "outputs": [],
   "source": [
    "df = df[['Country', 'Distributor', 'Customer Name', 'Application',\n",
    "       'Sell Date(text)', 'Product Name',\n",
    "       'Q.ty', 'Sell unit \\nprice USD', 'Total Sell, USD']]"
   ]
  },
  {
   "cell_type": "code",
   "execution_count": null,
   "metadata": {},
   "outputs": [],
   "source": [
    "df.columns = ['Country', 'Distributor', 'Customer Name', 'Application',\n",
    "       'Sell Date', 'Product Name', 'Q.ty', 'Sell unit price USD',\n",
    "       'Total Sell, USD']"
   ]
  },
  {
   "cell_type": "code",
   "execution_count": null,
   "metadata": {
    "scrolled": true
   },
   "outputs": [],
   "source": [
    "df[\"Sell Date\"] = pd.to_datetime(df[\"Sell Date\"], dayfirst=True)"
   ]
  },
  {
   "cell_type": "code",
   "execution_count": null,
   "metadata": {},
   "outputs": [],
   "source": [
    "plot = df.groupby([pd.Grouper(key=\"Sell Date\", freq=\"M\"), \"Customer Name\"])[[\"Total Sell, USD\"]].sum().reset_index()"
   ]
  },
  {
   "cell_type": "code",
   "execution_count": null,
   "metadata": {},
   "outputs": [],
   "source": [
    "x = df[\"Product Name\"].str.split(\"[\", expand=True)[0]"
   ]
  },
  {
   "cell_type": "code",
   "execution_count": null,
   "metadata": {},
   "outputs": [],
   "source": [
    "df = pd.concat([df, x], axis=1)"
   ]
  },
  {
   "cell_type": "code",
   "execution_count": null,
   "metadata": {},
   "outputs": [],
   "source": [
    "df = df.drop(\"Product Name\", axis=1)"
   ]
  },
  {
   "cell_type": "code",
   "execution_count": null,
   "metadata": {},
   "outputs": [],
   "source": [
    "df.columns = [            'Country',         'Distributor',       'Customer Name',\n",
    "               'Application',           'Sell Date',                'Q.ty',\n",
    "       'Sell unit price USD',     'Total Sell, USD',                   'Product Name']"
   ]
  },
  {
   "cell_type": "code",
   "execution_count": null,
   "metadata": {},
   "outputs": [],
   "source": [
    "df[\"Slice\"] = df[\"Product Name\"].str[0:3]"
   ]
  },
  {
   "cell_type": "code",
   "execution_count": null,
   "metadata": {},
   "outputs": [],
   "source": [
    "pro_list = df[\"Product Name\"].str[0:3].unique().tolist()"
   ]
  },
  {
   "cell_type": "code",
   "execution_count": null,
   "metadata": {},
   "outputs": [],
   "source": [
    "pro_value = ['Dipole',\n",
    " 'Patch',\n",
    " 'Wireless',\n",
    " 'Chip',\n",
    " 'AAF',\n",
    " 'Chip',\n",
    " 'Chip',\n",
    " 'Wireless',\n",
    " 'AAF',\n",
    " 'Chip',\n",
    " 'Components',\n",
    " 'Patch',\n",
    " 'LDS/LCT',\n",
    " 'Chip',\n",
    " 'Chip',\n",
    " 'Components',\n",
    " 'AAF',\n",
    " 'AAF']"
   ]
  },
  {
   "cell_type": "code",
   "execution_count": null,
   "metadata": {},
   "outputs": [],
   "source": [
    "pro_dict = dict(zip(pro_list, pro_value))"
   ]
  },
  {
   "cell_type": "code",
   "execution_count": null,
   "metadata": {},
   "outputs": [],
   "source": [
    "df[\"Type\"] = df[\"Slice\"].map(pro_dict)"
   ]
  },
  {
   "cell_type": "code",
   "execution_count": null,
   "metadata": {},
   "outputs": [],
   "source": [
    "df = df.drop(\"Slice\", axis=1)"
   ]
  },
  {
   "cell_type": "code",
   "execution_count": null,
   "metadata": {},
   "outputs": [],
   "source": [
    "df[\"Month\"] = df[\"Sell Date\"].dt.month_name()\n",
    "df[\"Year\"] = df[\"Sell Date\"].dt.year"
   ]
  },
  {
   "cell_type": "code",
   "execution_count": null,
   "metadata": {},
   "outputs": [],
   "source": [
    "df.columns"
   ]
  },
  {
   "cell_type": "markdown",
   "metadata": {},
   "source": [
    "## 繪製樹狀結構圖"
   ]
  },
  {
   "cell_type": "code",
   "execution_count": null,
   "metadata": {},
   "outputs": [],
   "source": [
    "ana_tree = px.treemap(df, path=[\"Year\", \"Type\", \"Month\", \"Customer Name\", \"Product Name\"], values=\"Total Sell, USD\", color=\"Application\")\n",
    "ana_tree.show()"
   ]
  },
  {
   "cell_type": "markdown",
   "metadata": {},
   "source": [
    "## 繪製箱型圖"
   ]
  },
  {
   "cell_type": "code",
   "execution_count": null,
   "metadata": {},
   "outputs": [],
   "source": [
    "box_df = df[df[\"Customer Name\"].isin([\"Ultrastar\", \"FORT-Telekom\", \"TekhnoKom OOO\", \"Vega-Absoliut\"])]"
   ]
  },
  {
   "cell_type": "code",
   "execution_count": null,
   "metadata": {},
   "outputs": [],
   "source": [
    "box_ana = px.box(box_df, x=\"Product Name\", y=\"Sell unit price USD\", color=\"Customer Name\")\n",
    "box_ana.show()"
   ]
  },
  {
   "cell_type": "markdown",
   "metadata": {},
   "source": [
    "## 繪製直條圖"
   ]
  },
  {
   "cell_type": "code",
   "execution_count": null,
   "metadata": {
    "scrolled": false
   },
   "outputs": [],
   "source": [
    "his_sales = px.bar(plot, x=\"Sell Date\", y=\"Total Sell, USD\", color=\"Customer Name\", title=\"2020-2021 Sales\", labels={\"Total Sell, USD\": \"Revenue\", \"Sell Date\": \"Month\"})\n",
    "his_sales.update_yaxes(tickprefix=\"$\", showgrid=True)\n",
    "his_sales.update_layout(font_family=\"Calibri\", font_size=15) \n",
    "his_sales.add_shape(type=\"line\", line_color=\"salmon\", line_width=3, opacity=1, line_dash=\"dot\", x0=0, x1=1, xref=\"paper\", y0=14167, y1=14167, yref=\"y\")\n",
    "his_sales.show()"
   ]
  },
  {
   "cell_type": "markdown",
   "metadata": {},
   "source": [
    "## 繪製區域圖"
   ]
  },
  {
   "cell_type": "code",
   "execution_count": null,
   "metadata": {},
   "outputs": [],
   "source": [
    "test = df.groupby([\"Year\", \"Month\"])[[\"Total Sell, USD\"]].sum().reset_index()"
   ]
  },
  {
   "cell_type": "code",
   "execution_count": null,
   "metadata": {},
   "outputs": [],
   "source": [
    "month_order = ['January', 'February', 'March', 'April', 'May', 'June', 'July',\n",
    "               'August', 'September', 'October', 'November', 'December']\n",
    "area_ana = px.area(test, x=\"Month\", y=\"Total Sell, USD\", color=\"Year\", category_orders={\"Month\":month_order})"
   ]
  },
  {
   "cell_type": "markdown",
   "metadata": {},
   "source": [
    "## 繪製折線圖"
   ]
  },
  {
   "cell_type": "code",
   "execution_count": null,
   "metadata": {},
   "outputs": [],
   "source": [
    "line_plot = df.groupby([pd.Grouper(key=\"Sell Date\", freq=\"M\")])[[\"Total Sell, USD\"]].sum().reset_index()"
   ]
  },
  {
   "cell_type": "code",
   "execution_count": null,
   "metadata": {},
   "outputs": [],
   "source": [
    "line_sales = px.line(line_plot, x=\"Sell Date\", y=\"Total Sell, USD\")\n",
    "line_sales.show()"
   ]
  },
  {
   "cell_type": "markdown",
   "metadata": {},
   "source": [
    "## 繪製Style表格和圓餅圖"
   ]
  },
  {
   "cell_type": "code",
   "execution_count": null,
   "metadata": {},
   "outputs": [],
   "source": [
    "stat_df = df.groupby(\"Customer Name\")[[\"Total Sell, USD\"]].sum().reset_index()"
   ]
  },
  {
   "cell_type": "code",
   "execution_count": null,
   "metadata": {},
   "outputs": [],
   "source": [
    "stat_df[\"Percentage\"] = stat_df[\"Total Sell, USD\"] / stat_df[\"Total Sell, USD\"].sum()"
   ]
  },
  {
   "cell_type": "code",
   "execution_count": null,
   "metadata": {},
   "outputs": [],
   "source": [
    "stat_df = stat_df[stat_df[\"Total Sell, USD\"] != 0]"
   ]
  },
  {
   "cell_type": "code",
   "execution_count": null,
   "metadata": {},
   "outputs": [],
   "source": [
    "stat_df = stat_df.sort_values(by=\"Total Sell, USD\", ascending=False)"
   ]
  },
  {
   "cell_type": "code",
   "execution_count": null,
   "metadata": {},
   "outputs": [],
   "source": [
    "stat_df = stat_df[stat_df[\"Percentage\"] > 0.01]"
   ]
  },
  {
   "cell_type": "code",
   "execution_count": null,
   "metadata": {},
   "outputs": [],
   "source": [
    "stat_df[\"Percentage\"] = stat_df[\"Percentage\"] / stat_df[\"Percentage\"].sum()"
   ]
  },
  {
   "cell_type": "code",
   "execution_count": null,
   "metadata": {},
   "outputs": [],
   "source": [
    "stat_df[\"Accum_percentage\"] = stat_df[\"Percentage\"].cumsum()"
   ]
  },
  {
   "cell_type": "code",
   "execution_count": null,
   "metadata": {
    "scrolled": true
   },
   "outputs": [],
   "source": [
    "style_df = stat_df.style.format({\"Total Sell, USD\": \"${0:,.0f}\", \"Percentage\": \"{:.2%}\", \"Accum_percentage\": \"{:.2%}\"}).hide_index()"
   ]
  },
  {
   "cell_type": "code",
   "execution_count": null,
   "metadata": {
    "scrolled": false
   },
   "outputs": [],
   "source": [
    "style_df"
   ]
  },
  {
   "cell_type": "code",
   "execution_count": null,
   "metadata": {},
   "outputs": [],
   "source": [
    "pie_df = style_df.data"
   ]
  },
  {
   "cell_type": "code",
   "execution_count": null,
   "metadata": {
    "scrolled": true
   },
   "outputs": [],
   "source": [
    "pie_chart = px.pie(pie_df, values=\"Total Sell, USD\", names=\"Customer Name\")"
   ]
  },
  {
   "cell_type": "code",
   "execution_count": null,
   "metadata": {},
   "outputs": [],
   "source": [
    "with open('POS_analysis.html', 'a') as f:\n",
    "    f.write(style_df.render()) # Styler之後要用Render\n",
    "    f.write(ana_tree.to_html(full_html=False, include_plotlyjs=\"cdn\"))\n",
    "    f.write(his_sales.to_html(full_html=False, include_plotlyjs='cdn'))\n",
    "    f.write(area_ana.to_html(full_html=False, include_plotlyjs='cdn'))\n",
    "    f.write(pie_chart.to_html(full_html=False, include_plotlyjs='cdn'))\n",
    "    f.close()"
   ]
  },
  {
   "cell_type": "code",
   "execution_count": null,
   "metadata": {},
   "outputs": [],
   "source": []
  }
 ],
 "metadata": {
  "kernelspec": {
   "display_name": "Python 3",
   "language": "python",
   "name": "python3"
  },
  "language_info": {
   "codemirror_mode": {
    "name": "ipython",
    "version": 3
   },
   "file_extension": ".py",
   "mimetype": "text/x-python",
   "name": "python",
   "nbconvert_exporter": "python",
   "pygments_lexer": "ipython3",
   "version": "3.8.5"
  }
 },
 "nbformat": 4,
 "nbformat_minor": 4
}
