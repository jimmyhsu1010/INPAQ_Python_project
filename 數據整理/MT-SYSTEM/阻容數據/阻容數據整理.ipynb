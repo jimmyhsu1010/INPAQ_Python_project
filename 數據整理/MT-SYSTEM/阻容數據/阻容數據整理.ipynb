{
 "cells": [
  {
   "cell_type": "code",
   "execution_count": 1,
   "metadata": {},
   "outputs": [],
   "source": [
    "import pandas as pd\n",
    "import tkinter as tk\n",
    "from tkinter import filedialog"
   ]
  },
  {
   "cell_type": "code",
   "execution_count": 2,
   "metadata": {},
   "outputs": [],
   "source": [
    "df = pd.read_excel(r\"C:\\Users\\kaihsu\\Desktop\\mt-system_clients_demands.xlsx\", None)"
   ]
  },
  {
   "cell_type": "code",
   "execution_count": 4,
   "metadata": {},
   "outputs": [],
   "source": [
    "df = df['阻容總需求']"
   ]
  },
  {
   "cell_type": "code",
   "execution_count": 6,
   "metadata": {},
   "outputs": [
    {
     "data": {
      "text/plain": [
       "array(['C0201-100-25V-NP0', 'C0201-100-50V-NP0', 'C0201-102-25V-X7R',\n",
       "       'C0201-104-16V-X5R', 'C0201-104-25V-X5R', 'C0201-270-50V-NP0',\n",
       "       'C0402-100-50V-NP0', 'C0402-101-50V-NP0', 'C0402-102-50V-X7R',\n",
       "       'C0402-103-25V-X7R', 'C0402-103-50V-X7R', 'C0402-104-16V-X7R',\n",
       "       'C0402-104-25V-X5R', 'C0402-104-25V-X7R', 'C0402-105-10V-X5R',\n",
       "       'C0402-224-16V-X7R', 'C0402-270-50V-NP0', 'C0402-475-10V-X5R',\n",
       "       'C0603-104-50V-X7R', 'C0603-105-25V-X5R', 'C0603-106-6.3V-X5R',\n",
       "       'C0805-106-25V-X5R', 'C0805-226-10V-X5R', 'C1206-102-2kV-X7R',\n",
       "       'C1206-107-6.3V-X5R', 'C1206-226-25V-X5R', 'C1206-473-250V-X7R',\n",
       "       'C1210-472-2KV-X7R', 'R0201-10K-1%', 'R0201-0R-5%', 'R0201-4K7-5%',\n",
       "       'R0402-1K-1%', 'R0402-240R-1%', 'R0402-2K49-1%', 'R0402-49R9-1%',\n",
       "       'R0402-56R2-1%', 'R0402-0R-5%', 'R0402-100R-5%', 'R0402-10K-5%',\n",
       "       'R0402-10R-5%', 'R0402-150R-5%', 'R0402-1K-5%', 'R0402-1K5-5%',\n",
       "       'R0402-200R-5%', 'R0402-20R-5%', 'R0402-2K-5%', 'R0402-2K2-5%',\n",
       "       'R0402-33R-5%', 'R0402-470R-5%', 'R0402-47K-5%', 'R0402-4K7-5%',\n",
       "       'R0402-510R-5%', 'R0402-51R-5%', 'R0402-75R-5%', 'R0603-2K49-1%',\n",
       "       'R0603-0R-5%', 'R0603-1K-5%', 'R0603-2K-5%', 'R0603-2K2-5%',\n",
       "       'R0603-510R-5%', 'R0805-0R-5%', 'R0805-10R-5%', 'R1206-1M-1%',\n",
       "       'R1206-210K-1%', 'R1206-0R-5%', 'R1206-100K-5%', 'R1206-510K-5%',\n",
       "       'R1206-5K1-5%', 'R1210-0R-5%',\n",
       "       'Конденсатор SMD CC 0402-NP0-12pF±5%-50V GRM1555C1H120JA01D MURATA, (шт.)',\n",
       "       'Конденсатор SMD CC 0402-NP0-15pF±5%-50V GJM1555C1H150JB01D (GRM1555C1H150JA01D) MURATA, (шт.)',\n",
       "       'Конденсатор SMD CC 0402-NP0-2,7pF±0,25pF-50V GRM1555C1H2R7CA01D MURATA, (шт.)',\n",
       "       'Конденсатор SMD CC 0402-X5R-0,47uF (470nF)-10%-6,3V GRM155R60J474KE19D MURATA, (шт.)',\n",
       "       'Конденсатор SMD CC 0402-X5R-1uF-10%-10V CL05A105KP5NNNC SAMSUNG, (шт.)',\n",
       "       'Конденсатор SMD CC 0402-X7R-0,015uF-10%-16V CL05B153KO5NNNC SAMSUNG, (шт.)',\n",
       "       'Конденсатор SMD CC 0402-X7R-0,1uF-10%-16V CC0402KRX7R7BB104 YAGEO (CL05B104KO5NNNC SAMSUNG, GRM155R71C104KA57D MURATA), (шт.)',\n",
       "       'Конденсатор SMD CC 0402-X7R-2200pF (2,2nF)-10%-50V CL05B222KB5NNNC SAMSUNG, (шт.)',\n",
       "       'Конденсатор SMD CC 0603-NPO-0,5pF-50V±0,1pF CL10C0R5BB8NNNC(D) SAMSUNG, (шт.)',\n",
       "       'Конденсатор SMD CC 0603-NPO-1,8pF±0,1pF-50V GRM1885C1H1R8BZD1J MURATA (C1608COG1H1R8B TDK), (шт.)',\n",
       "       'Конденсатор SMD CC 0603-NPO-100pF-5%-50V CL10C101JB8NNNC SAMSUNG, (шт.)',\n",
       "       'Конденсатор SMD CC 0603-NPO-10pF-5%-50V CL10C100JB8NNNC(D) SAMSUNG (CC0603JRNP09BN100 YAGEO), (шт.)',\n",
       "       'Конденсатор SMD CC 0603-NPO-150pF-5%-50V CL10C151JB8NNNC SAMSUNG (CC0603JRNP09BN151 YAGEO), (шт.)',\n",
       "       'Конденсатор SMD CC 0603-NPO-15pF-5%-50V CL10C150JB8NNNC(D) SAMSUNG (CC0603JRNP09BN150 YAGEO), (шт.)',\n",
       "       'Конденсатор SMD CC 0603-NPO-18pF-5%-50V CL10C180JB8NNNC SAMSUNG, (шт.)',\n",
       "       'Конденсатор SMD CC 0603-NPO-1pF±0,1pF-50V CL10C010BB8NNNC SAMSUNG, (шт.)',\n",
       "       'Конденсатор SMD CC 0603-NPO-2200pF-5%-50V COG GRM1885C1H222JA01D MURATA (CL10C222JB8NNNC SAMSUNG), (шт.)',\n",
       "       'Конденсатор SMD CC 0603-NPO-22pF-5%-50V CL10C220JB8NNNC SAMSUNG (CC0603JRNP09BN220 YAGEO), (шт.)',\n",
       "       'Конденсатор SMD CC 0603-NPO-270pF-5%-50V CL10C271JB8NNNC SAMSUNG, (шт.)',\n",
       "       'Конденсатор SMD CC 0603-NPO-3pF-50V±0,1pF CL10C030BB8NNNC SAMSUNG, (шт.)',\n",
       "       'Конденсатор SMD CC 0603-NPO-470pF-5%-50V CL10C471JB8NNNC SAMSUNG, (шт.)',\n",
       "       'Конденсатор SMD CC 0603-NPO-47pF-5%-50V CC0603JRNP09BN470 YAGEO (CL10C470JB8NNNC SAMSUNG), (шт.)',\n",
       "       'Конденсатор SMD CC 0603-NPO-680pF-5%-50V GRM1885C1H681JA01D MURATA, (шт.)',\n",
       "       'Конденсатор SMD CC 0603-X5R-10uF-10%-10V CL10A106KP8NNNC SAMSUNG (X5R-10uF-20%-10V CL10A106MP8NNNC SAMSUNG), (шт.)',\n",
       "       'Конденсатор SMD CC 0603-X5R-1uF-10%-50V CL10A105KB8NNNC SAMSUNG, (шт.)',\n",
       "       'Конденсатор SMD CC 0603-X5R-2,2uF-10%-16V CL10A225KO8NNNC SAMSUNG (CC0603KRX5R7BB225 YAGEO), (шт.)',\n",
       "       'Конденсатор SMD CC 0603-X5R-4,7uF-10%-6,3V GRM188R60J475KE19D MURATA, (шт.)',\n",
       "       'Конденсатор SMD CC 0603-X7R-0,015uF (15nF)-10%-50V CL10B153KB8NNNC SAMSUNG, (шт.)',\n",
       "       'Конденсатор SMD CC 0603-X7R-0,01uF (10nF)-10%-50V CL10B103KB8NNNC SAMSUNG (CC0603KRX7R9BB103 YAGEO), (шт.)',\n",
       "       'Конденсатор SMD CC 0603-X7R-0,022uF (22nF)-10%-50V CL10B223KB8NNNC SAMSUNG, (шт.)',\n",
       "       'Конденсатор SMD CC 0603-X7R-0,033uF (33nF)-10%-50V CL10B333KB8NNNC SAMSUNG (CC0603KRX7R9BB333 YAGEO), (шт.)',\n",
       "       'Конденсатор SMD CC 0603-X7R-0,047uF (47nF)-10%-16V CL10B473KO8NNNC SAMSUNG, (шт.)',\n",
       "       'Конденсатор SMD CC 0603-X7R-0,047uF (47nF)-10%-50V CL10B473KB8NNNC SAMSUNG, (шт.)',\n",
       "       'Конденсатор SMD CC 0603-X7R-0,068uF (68nF)-10%-50V CC0603KRX7R9BB683 YAGEO, (шт.)',\n",
       "       'Конденсатор SMD CC 0603-X7R-0,1uF (100nF)-10%-50V CL10B104KB8NNNC(D) SAMSUNG, (шт.)',\n",
       "       'Конденсатор SMD CC 0603-X7R-0,22uF (220nF)-10%-50V CC0603KRX7R9BB224 YAGEO, (шт.)',\n",
       "       'Конденсатор SMD CC 0603-X7R-0,47uF-10%-50V GRM188R71H474KA01D MURATA, (шт.)',\n",
       "       'Конденсатор SMD CC 0603-X7R-1000pF (1,0nF)-10%-50V CL10B102KB8NNNC SAMSUNG (CC0603KRX7R9BB102 YAGEO), (шт.)',\n",
       "       'Конденсатор SMD CC 0603-X7R-1500pF (1,5nF)-10%-50V CL10B152KB8NNNC SAMSUNG (CC0603KRX7R9BB152 YAGEO), (шт.)',\n",
       "       'Конденсатор SMD CC 0603-X7R-1uF-10%-16V CL10B105KO8NNNC SAMSUNG, (шт.)',\n",
       "       'Конденсатор SMD CC 0603-X7R-1uF-10%-50V CC0603KRX7R9BB105 YAGEO, (шт.)',\n",
       "       'Конденсатор SMD CC 0603-X7R-2200pF (2,2nF)-10%-50V CL10B222KB8NNNC SAMSUNG (CC0603KRX7R9BB222 YAGEO), (шт.)',\n",
       "       'Конденсатор SMD CC 0603-X7R-3300pF (3,3nF)-10%-50V CL10B332KB8NNNC SAMSUNG (CC0603KRX7R9BB332 YAGEO), (шт.)',\n",
       "       'Конденсатор SMD CC 0603-X7R-5600pF (5,6nF)-10%-50V CL10B562KB8NNNC SAMSUNG (CC0603KRX7R9BB562 YAGEO), (шт.)',\n",
       "       'Конденсатор SMD CC 0603-Y5V-1uF-20%+80%-16V CL10F105ZO8NNNC (D) SAMSUNG, (шт.)',\n",
       "       'Конденсатор SMD CC 0805-NPO-15pF-5%-50V CL21C150JBANNNC SAMSUNG (CC0805JRNP09BN150 YAGEO), (шт.)',\n",
       "       'Конденсатор SMD CC 0805-NPO-220pF-5%-50V CC0805JRNP09BN221 YAGEO, (шт.)',\n",
       "       'Конденсатор SMD CC 0805-NPO-27pF-5%-50V CC0805JRNP09BN270 YAGEO (CL21C270JBANNNC SAMSUNG), (шт.)',\n",
       "       'Конденсатор SMD CC 0805-NPO-330pF-5%-50V CL21C331JBANNNC SAMSUNG (CC0805JRNP09BN331 YAGEO), (шт.)',\n",
       "       'Конденсатор SMD CC 0805-NPO-470pF-5%-100V CL21C471JCCNNNC SAMSUNG, (шт.)',\n",
       "       'Конденсатор SMD CC 0805-X5R-10uF-10%-16V CL21A106KOQNNNG SAMSUNG (GRM21BR61C106KE15L MURATA), (шт.)',\n",
       "       'Конденсатор SMD CC 0805-X7R-0,015uF (15nF)-10%-50V CL21B153KBANNNC SAMSUNG (CC0805KRX7R9BB153 YAGEO), (шт.)',\n",
       "       'Конденсатор SMD CC 0805-X7R-0,033uF-10%-50V 0805B333K500CT WALSIN, (шт.)',\n",
       "       'Конденсатор SMD CC 0805-X7R-0,068uF-10%-50V 0805B683K500CT WALSIN, (шт.)',\n",
       "       'Конденсатор SMD CC 0805-X7R-0,1uF (100nF)-10%-50V 2238 580 15649 (CC0805KRX7R9BB104) YAGEO, (шт.)',\n",
       "       'Конденсатор SMD CC 0805-X7R-0,22uF (220nF)-10%-50V CC0805KKX7R9BB224 YAGEO, (шт.)',\n",
       "       'Конденсатор SMD CC 0805-X7R-0,33uF-10%-50V CL21B334KBFNNNE SAMSUNG, (шт.)',\n",
       "       'Конденсатор SMD CC 0805-X7R-1uF-10%-50V CL21B105KBFNNNG SAMSUNG, (шт.)',\n",
       "       'Конденсатор SMD CC 0805-X7R-2,2uF-10%-16V CL21B225KOFNNNG SAMSUNG, (шт.)',\n",
       "       'Конденсатор SMD CC 0805-X7R-2200pF (2,2nF)-10%-50V CL21B222KBANNNC SAMSUNG (CC0805KRX7R9BB222 YAGEO), (шт.)',\n",
       "       'Конденсатор SMD CC 0805-X7R-2700pF (2,7nF)-10%-50V CL21B272KBANNNC SAMSUNG (CC0805KRX7R9BB272 YAGEO), (шт.)',\n",
       "       'Конденсатор SMD CC 0805-X7R-4700pF (4,7nF)-10%-50V CL21B472KBANNNC SAMSUNG, (шт.)',\n",
       "       'Конденсатор SMD CC 0805-X7R-6800pF (6,8nF)-10%-50V CC0805KRX7R9BB682 YAGEO (CS2012X7R682K500NRA SAMWHA), (шт.)',\n",
       "       'Конденсатор SMD CC 1206-NPO-18pF-5%-1000V CC1206JKNPOCBN180 YAGEO, (шт.)',\n",
       "       'Конденсатор SMD CC 1206-X5R-10uF-10%-25V CL31A106KAHNNNE SAMSUNG, (шт.)',\n",
       "       'Конденсатор SMD CC 1206-X7R-0,01uF-10%-1000V GRM31CR73A103KW03 MURATA, (шт.)',\n",
       "       'Конденсатор SMD CC 1206-X7R-0,1uF (100nF)-10%-100V CL31B104KCFNNNE SAMSUNG, (шт.)',\n",
       "       'Конденсатор SMD CC 1206-X7R-1000pF (1,0nF)-10%-2000V CC1206KKX7RDBB102 YAGEO, (шт.)',\n",
       "       'Конденсатор SMD CC 1206-X7R-1uF-10%-50V CL31B105KBHNNNE SAMSUNG (CC1206KKX7R9BB105 YAGEO), (шт.)',\n",
       "       'Конденсатор SMD CC 1206-X7R-3300pF-10%-1000V 1206B332K102CT WALSIN, (шт.)',\n",
       "       'Конденсатор SMD CC 1206-X7R-4700pF (4,7nF)-10%-1000V 2250 001 15632 (CC1206KKX7RCBB472) YAGEO, (шт.)',\n",
       "       'Конденсатор SMD CC 1210-X7R-10uF-10%-25V GRM32DR71E106KA12L MURATA, (шт.)',\n",
       "       'Конденсатор SMD CC 1210-X7R-2,2uF-10%-100V CL32B225KCJSNNE(F) SAMSUNG, (шт.)',\n",
       "       'Конденсатор SMD CC 1210-X7R-22uF-10%-25V CL32B226KAJNFNE (CL32B226KAJNNNE) SAMSUNG (GRM32ER71E226KE15L MURATA), (шт.)',\n",
       "       'Конденсатор SMD CC 1210-X7R-4,7uF-10%-50V CL32B475KBUYNNE SAMSUNG (CL32B475KBJN3WE SAMSUNG), (шт.)',\n",
       "       'Конденсатор SMD CC 1812-X7R-1000pF-10%-250VAC X1/Y2 SC1812KKX7RWBB102 YAGEO, (шт.)',\n",
       "       'Конденсатор SMD CC 3216-10uF-10%-10V 293D106X9010A2TE3 (тип A) Тантал VISHAY, (шт.)',\n",
       "       'Конденсатор SMD CC 3528-22uF-10%-16V (тип В) 293D226X9016B2TE3 Vishay танталовый, (шт.)',\n",
       "       'Конденсатор SMD CC 3528-47uF-10%-6,3V (Case B) 293D476X96R3B2TE3 VISHAY танталовый (TAJB476K006RNJ AVX), (шт.)',\n",
       "       'Конденсатор SMD CC 6032-220uF-10%-6.3V Тантал (2.5mm) 293D227X96R3C2TE3 Vishay, (шт.)',\n",
       "       'R 0 Ом 0805', 'R 1 Ом 0805', 'R 10 Ом 0805', 'R 10 Ом 1206',\n",
       "       'R 20 Ом 1206', 'R 22 Ом 0805', 'R 22 Ом 1206', 'R 51 Ом 0805',\n",
       "       'R 8,2 Ом 0805', 'Ra 100 Ом 1206', 'Ra 130 Ом 1206',\n",
       "       'Ra 240 Ом 1206', 'Ra 330 Ом 1206', 'Ra 510 Ом 0805',\n",
       "       'Ra 750 Ом 0805', 'Rb 1 кОм 0805', 'Rb 1 кОм 0603',\n",
       "       'Rb 2 кОм 0805', 'Rb 3,3 кОм 0805', 'Rb 5,1 кОм 0805',\n",
       "       'Rc 10 кОм 0805', 'Rc 10 кОм 0603', 'Rc 20 кОм 0805',\n",
       "       'Rc 20 кОм 0603', 'Rc 56 кОм 0805', 'Rd 100 кОм 0805',\n",
       "       'Rd 160 кОм 1206', 'Rd 300 кОм 0805', 'Rd 470 кОм 1206',\n",
       "       'Rd 680 кОм 0805', 'Rd 750 кОм 0805', 'Re 1 МОм 0805',\n",
       "       'Re 1 МОм 1206', 'Re 2 МОм 0805', 'Re 2,2 МОм 0805',\n",
       "       'Re 4,7 МОм 0603', 'Ra 510 Ом 0603', 'Rc 75 кОм 1206',\n",
       "       'Rb 2,2 кОм 0603', 'Rd 330 кОм 1206', 'Rd 910 кОм 0805',\n",
       "       'Rc 47 кОм 1206', 'Rc 43 кОм  1206', 'Ra 820 Ом 0603',\n",
       "       'Rb 1 кОм 0402-4 сборка', 'Rb 3 кОм 0402-4 сборка',\n",
       "       'Rb 1 кОм 0402', 'Re 1,1 МОм 0402', 'Rb 3 кОм 0402',\n",
       "       'Rc 10 кОм 0402', 'Rc 47 кОм 0402', 'Rd 100 кОм 0402',\n",
       "       'Rc 33 кОм 0402', 'Ra 100 Ом 0402', 'Ra 220 Ом 0402',\n",
       "       'R 0 Ом 0402', 'Ra 100 Ом выводной 2Вт проволочный KNP',\n",
       "       'Rc 22 кОм 0402', 'R 10 Ом 0402', 'R 22 Ом 0402', 'Ra 560 Ом 0402',\n",
       "       'Rb 1,2 кОм 0402', 'Rb 2,2 кОм 0402', 'Rb 4,7 кОм 0402',\n",
       "       'Rb 6,2 кОм 0402', 'Rb 8,2 кОм 0402', 'Rc 15 кОм 0402',\n",
       "       'Rc 36 кОм 0402', 'Rc 43 кОм 0402', 'Rc 51 кОм 0402',\n",
       "       'Rd 110 кОм 0402', 'Re 1 МОм 0402',\n",
       "       'R 82 Ом выводной 2Вт проволочный KNP200S',\n",
       "       'R 47 Ом выводной 2Вт проволочный KNP',\n",
       "       'Ra 330 Ом выводной 2Вт проволочный KNP', 'Ra 360 Ом 0402',\n",
       "       'Rc 62 кОм 0402', 'Re 1.5 МОм 0805',\n",
       "       'R 47 Ом 1206 устойчивый к импульсным токам (ERJ-P08J470V)',\n",
       "       'R 3 Ом 0805', 'Rc 10 кОм 0402-1%',\n",
       "       'R 1 Ом выводной 2Вт проволочный KNP', 'Ra 750 Ом 0402',\n",
       "       'Rb 4,7 кОм 0402 1%', 'Rb 1,5 кОм 0402 1%', 'Ra 300 Ом 0402',\n",
       "       'Rd 560 кОм 1206', 'Ra 240 Oм 0402', 'Rb 3 кОм 0402 1%',\n",
       "       'Rd 130 кОм 0402', 'Rb 1 кОм 0402 1%', 'Rb 2,7 кОм 0402 1%',\n",
       "       'R 1 Ом 0603', 'R 0,24 Ом 1206 5%', 'Rb 3,9 кОм 0402',\n",
       "       'Rc 75 кОм 0402', 'Rd 270 кОм 1206', 'Rb 2,2 кОм 0402-1%',\n",
       "       'Ra 220 Ом, 5%, выводной, 2Вт, проволочный, KNP200S (KNPS200J220R)',\n",
       "       'R 22 Ом, 5%, выводной, 2Вт, проволочный, KNP200S (KNPS200J22R)',\n",
       "       'Rd 100 кОм 0402 - 1%', 'R 47 Ом 2616,wirewound SMD, 5%, 2W',\n",
       "       'Rc 22 кОм 0603 1%', 'Re 2 МОм 0603', 'Re 1 MOм 0402-1%',\n",
       "       'R 15 Ом 0805, 1%, ±25ppm', 'Rb 1 кОм 0805, 1%, ±25ppm',\n",
       "       'Rc 36 кОм 0402 1%', 'Rd 182 кОм 1206, 1%, ±100ppm',\n",
       "       'Ra 180 Ом, ±5%, 0.5W, 1/2W, ±200ppm/°C, -55°C ~ 155°C, 1206',\n",
       "       'Rb 1,2 кОм 0402 1%', 'Rb 6,8 кОм 0402 1%',\n",
       "       'Ra 100 Ом, ±5%, 1 Вт, выводной, 4.30mm x 11.00mm (Cemented Wirewound)',\n",
       "       'Rd 160 кОм, ±5%, 0.25W, 1/4W, ±200ppm/°C, -55°C ~ 155°C, 0603',\n",
       "       'Re 2,2 МОм, ±5%, 0.25W, 1/4W, ±200ppm/°C, -55°C ~ 155°C, 0603',\n",
       "       'Rd 270 кОм, ±5%, 0.5W, 1/2W, ±200ppm/°C, -55°C ~ 155°C, 0805',\n",
       "       'Rb 1 кОм выводной 2Вт проволочный KNP200S',\n",
       "       'Rd 412 кОм 1206, 1%, ±100ppm', 'Rc 37.4 кОм 0402 1%',\n",
       "       'R 3,3 Ом 0805', 'Re 2 МОм 1206', 'Rc 75 кОм 0402 1%',\n",
       "       'Re 1.5 МОм 1206', 'R 2,2 Ом 0805',\n",
       "       'Rb 1 кОм, ±5%, 0.5W, 1/2W, Anti-Surge, 1206',\n",
       "       'Rd 576 кОм 0402 1%', 'Rc 68 кОм 0402, 1%', 'Ra 560 Ом 0402 1%',\n",
       "       'Ra 360 Ом 0402 1%', 'Ra 100 Ом 0603 0.1%',\n",
       "       'R 3,3 Ом 1206 1%, ±100ppm/°C',\n",
       "       'Rc 10 кОм выводной 1Вт проволочный KNP100S', 'Ra 100 Ом 0402 1%',\n",
       "       'Ra 220 Ом 0402 1%', 'Ra 100 Ом 0402-4 сборка',\n",
       "       'Ra 330 Ом 0402 1%', 'R 49.9 Oм 0402 1%', 'R 2,4 Ом 0603',\n",
       "       'Re 3,9 МОм 1206', 'Rd 820 кОм 0603',\n",
       "       'R 0,039 Ом 0805, 1%, 0.5W (KRL1220E-M-R039-F), Current Sense Metal Foil',\n",
       "       'R 20 Ом 0805', 'R 3,6 Ом 0402', 'Rc 47 кОм 0402 1%',\n",
       "       'Rb 8.87 кОм 0402 1%', 'Rc 31.6 кОм 0402 1%',\n",
       "       'Re 1 МОм 0805 1%, High Voltage (RV0805FR-071ML)',\n",
       "       'Rb 9,1 кОм 0402 1%', 'Rc 15 кОм 0402 1%',\n",
       "       'Rd 200 кОм, ±20%, 3314G-1-204E, подстроечный/Trimmer, SMD, 4.5mm x 4.5mm x 2.55mm',\n",
       "       'R 1 Ом 1206, ±5%, ±200ppm/°C, 0.25W, Thick Film',\n",
       "       'Rb 2,2 кОм 0402-4 сборка', 'R 75 Om 0603 1%', 'Rc 30 кОм 0603 1%',\n",
       "       'R 62 Om 1206 1%',\n",
       "       'Rd 100 кОм, ±1%, 0.75W, 3/4W, ±100ppm/°C, Thick Film, 1812',\n",
       "       'Rc 53.6 кОм 0402 1%', 'Rd 107 кОм 0603 1%', 'R 15 Ом 0603, 1%',\n",
       "       'Rb 3,3 кОм 0603 1%', 'Rb 5,23 кОм 0603 1%', 'R 35,7 Ом 0805 1%',\n",
       "       'R 37,4 Ом 0805 1%', 'Rc 56 кОм 0402 1%',\n",
       "       'R 51 Ом 0805 1%, ±100ppm/°C', 'R 4,3 Ом 0603',\n",
       "       'R 1 Ом 5% 1W 2512, Thick Film (CRCW25121R00JNEG)',\n",
       "       'Re 4,3 МОм 0402', 'Rb 4,12 кОм 0603 1%', 'Rb 6,65 кОм 0603 1%',\n",
       "       'Ra 430 Ом 0603', 'Rd 133 кОм 0402 1%',\n",
       "       '10±10%-50В-NPO-0402 (CL05C100CB5NNNC)',\n",
       "       '15±10%-50В-NPO-0402 (CC0402JRNP09BN150)',\n",
       "       '0,47 мкФ±20%-50В-X7R-0402', '39±10%-50В-NPO-0402',\n",
       "       '680±10%-50В-NPO-0402', '0.01 мкФ±20%-50В-X7R-0402',\n",
       "       '0.1 мкФ±10%-50В-X7R-0402 (GRM155R71H104KE14D)',\n",
       "       '0.1 мкФ±10%-250В-X7R-1206',\n",
       "       '1.0 мкФ±20%-50В-Y5V-0603 (CL10A105MB8NNNC)',\n",
       "       '2.2 мкФ±10%-6,3В-X7R (CL10B225KQ8NNNC)',\n",
       "       '2.2 мкФ±20%-100В-X7R-1206',\n",
       "       '10 мкФ±20%-16В-X5R-0805 CL21A106KOQNNNE',\n",
       "       '1.0 мкФ±20%-100В-X7R-1206', '2±10%-50В-NPO-0402', '0 Ом±5%-0402',\n",
       "       '0 Ом±5%-1206', '22 Ом±5%-0402', '100 Ом±5%-0402',\n",
       "       '100 Ом±5%-0805', '1.1 кОм±5%-0402', '1.3 кОм±5%-0402',\n",
       "       '2.0 кОм±5%-0402', '2.0 кОм±5%-0603', '4.3 кОм±5%-0402',\n",
       "       '4.7 кОм±1%-0402', '10 кОм±1%-0402', '22 кОм±1%-0402',\n",
       "       '47 кОм±1%-0402', '49.9 кОм±1%-0402', '57.6 кОм±1%-0402',\n",
       "       '82 кОм±1%-0805', '100 кОм±1%-0402', '160 кОм±1%-0402',\n",
       "       '160 кОм±1%-0805', '200 кОм±1%-0805'], dtype=object)"
      ]
     },
     "execution_count": 6,
     "metadata": {},
     "output_type": "execute_result"
    }
   ],
   "source": []
  },
  {
   "cell_type": "markdown",
   "metadata": {},
   "source": [
    "## 測試區"
   ]
  },
  {
   "cell_type": "code",
   "execution_count": null,
   "metadata": {},
   "outputs": [],
   "source": [
    "root = tk.Tk()\n",
    "root.withdraw()\n",
    "paths = filedialog.askopenfilenames()"
   ]
  },
  {
   "cell_type": "code",
   "execution_count": null,
   "metadata": {},
   "outputs": [],
   "source": [
    "n = 1\n",
    "for i in paths:\n",
    "    globals()['df' + str(n)] = pd.read_excel(i, None)\n",
    "    n += 1"
   ]
  },
  {
   "cell_type": "code",
   "execution_count": null,
   "metadata": {},
   "outputs": [],
   "source": [
    "df1 = df1['Лист1']"
   ]
  },
  {
   "cell_type": "code",
   "execution_count": null,
   "metadata": {},
   "outputs": [],
   "source": [
    "df2 = df2['Лист1']"
   ]
  },
  {
   "cell_type": "code",
   "execution_count": null,
   "metadata": {},
   "outputs": [],
   "source": [
    "df3 = df3['Лист1']"
   ]
  },
  {
   "cell_type": "code",
   "execution_count": null,
   "metadata": {},
   "outputs": [],
   "source": [
    "df_capasitor = df4['Capasitors']\n",
    "df_resistor = df4['Resistors']"
   ]
  },
  {
   "cell_type": "code",
   "execution_count": null,
   "metadata": {},
   "outputs": [],
   "source": [
    "df = pd.concat([df1, df2, df3, df_capasitor, df_resistor], axis=0)"
   ]
  },
  {
   "cell_type": "code",
   "execution_count": null,
   "metadata": {},
   "outputs": [],
   "source": [
    "df.Quantity = df.Quantity.astype('int')"
   ]
  },
  {
   "cell_type": "code",
   "execution_count": null,
   "metadata": {},
   "outputs": [],
   "source": [
    "df\n"
   ]
  },
  {
   "cell_type": "code",
   "execution_count": null,
   "metadata": {},
   "outputs": [],
   "source": [
    "df.to_excel(r\"C:\\Users\\kaihsu\\Desktop\\mt-system_clients_demands.xlsx\", index=False)"
   ]
  }
 ],
 "metadata": {
  "kernelspec": {
   "display_name": "Python 3",
   "language": "python",
   "name": "python3"
  },
  "language_info": {
   "codemirror_mode": {
    "name": "ipython",
    "version": 3
   },
   "file_extension": ".py",
   "mimetype": "text/x-python",
   "name": "python",
   "nbconvert_exporter": "python",
   "pygments_lexer": "ipython3",
   "version": "3.8.5"
  }
 },
 "nbformat": 4,
 "nbformat_minor": 4
}
