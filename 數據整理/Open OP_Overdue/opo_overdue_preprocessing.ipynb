{
 "cells": [
  {
   "cell_type": "code",
   "execution_count": null,
   "metadata": {},
   "outputs": [],
   "source": [
    "import pandas as pd\n",
    "pd.set_option(\"display.max_columns\", None)"
   ]
  },
  {
   "cell_type": "code",
   "execution_count": null,
   "metadata": {
    "scrolled": true
   },
   "outputs": [],
   "source": [
    "op = pd.read_excel(\"OPO 20210227RFV2  (OEM).xlsx\")"
   ]
  },
  {
   "cell_type": "code",
   "execution_count": null,
   "metadata": {},
   "outputs": [],
   "source": [
    "op_com = pd.read_excel(\"OPO 20210227COMPV1 OEM_Joyce.xlsx\")"
   ]
  },
  {
   "cell_type": "code",
   "execution_count": null,
   "metadata": {},
   "outputs": [],
   "source": [
    "op.columns = op.columns.str.strip()"
   ]
  },
  {
   "cell_type": "code",
   "execution_count": null,
   "metadata": {},
   "outputs": [],
   "source": [
    "op = op[op[\"單位\"] != \"PDF\"]"
   ]
  },
  {
   "cell_type": "code",
   "execution_count": null,
   "metadata": {
    "scrolled": true
   },
   "outputs": [],
   "source": [
    "op_sort = op[[\"帳款客戶簡稱\", \"品名\", \"產品分類\", \"訂單業務\", \"數量\", \"約定交貨日\", \"客戶希交日\", \"排定交貨日\", \"實際出貨日\",\"訂單NTD\"]]"
   ]
  },
  {
   "cell_type": "code",
   "execution_count": null,
   "metadata": {},
   "outputs": [],
   "source": [
    "op_sort"
   ]
  },
  {
   "cell_type": "code",
   "execution_count": null,
   "metadata": {},
   "outputs": [],
   "source": [
    "x = op_com['帳款客戶簡稱;客戶訂單號碼;品名'].str.split(\";\", expand=True)\n",
    "x.columns = [\"客戶名稱\", \"訂單號碼\", \"品名\"]"
   ]
  },
  {
   "cell_type": "code",
   "execution_count": null,
   "metadata": {},
   "outputs": [],
   "source": [
    "op_com_sort = op_com[[\"產品分類 \", \"訂單業務\", \"數量\", \"單位\", \"約定交貨日\", \"客戶希交日\", \"排定交貨日\", \"實際出貨日\",\"NTD\"]]"
   ]
  },
  {
   "cell_type": "code",
   "execution_count": null,
   "metadata": {},
   "outputs": [],
   "source": [
    "op_com_sort[\"客戶名稱\"] = x[\"客戶名稱\"]\n",
    "op_com_sort[\"品名\"] = x[\"品名\"]"
   ]
  },
  {
   "cell_type": "code",
   "execution_count": null,
   "metadata": {},
   "outputs": [],
   "source": [
    "op_com_sort = op_com_sort.reindex(columns=[\"客戶名稱\", \"品名\", \"產品分類 \", \"訂單業務\", \"數量\", \"約定交貨日\", \"客戶希交日\", \"排定交貨日\", \"實際出貨日\",\"NTD\"])"
   ]
  },
  {
   "cell_type": "code",
   "execution_count": null,
   "metadata": {},
   "outputs": [],
   "source": [
    "op_com_sort.columns = [\"帳款客戶簡稱\", \"品名\", \"產品分類\", \"訂單業務\", \"數量\", \"約定交貨日\", \"客戶希交日\", \"排定交貨日\", \"實際出貨日\",\"訂單NTD\"]"
   ]
  },
  {
   "cell_type": "code",
   "execution_count": null,
   "metadata": {},
   "outputs": [],
   "source": [
    "op_com_sort[\"數量\"] = op_com_sort[\"數量\"].map(lambda x: x *1000)"
   ]
  },
  {
   "cell_type": "code",
   "execution_count": null,
   "metadata": {},
   "outputs": [],
   "source": [
    "bu = pd.read_excel(r\"D:\\pythonp_programming\\INPAQ_Python_project\\數據整理\\業績總表\\參照表\\BU_code.xlsx\", usecols=\"A:B\")\n",
    "bu_dict = dict(zip(bu[\"Code\"], bu[\"BG\"]))"
   ]
  },
  {
   "cell_type": "code",
   "execution_count": null,
   "metadata": {},
   "outputs": [],
   "source": [
    "op_com_sort[\"BU\"] = op_com_sort[\"產品分類\"].str[0:4].map(bu_dict)"
   ]
  },
  {
   "cell_type": "code",
   "execution_count": null,
   "metadata": {},
   "outputs": [],
   "source": [
    "op_sort[\"BU\"] = op_sort[\"產品分類\"].str[0:4].map(bu_dict)"
   ]
  },
  {
   "cell_type": "code",
   "execution_count": null,
   "metadata": {
    "scrolled": true
   },
   "outputs": [],
   "source": [
    "op_sort[\"BU\"] = op_sort[\"BU\"].fillna(\"直接材料\")"
   ]
  },
  {
   "cell_type": "code",
   "execution_count": null,
   "metadata": {},
   "outputs": [],
   "source": [
    "result = pd.concat([op_sort, op_com_sort], axis=0)"
   ]
  },
  {
   "cell_type": "code",
   "execution_count": null,
   "metadata": {
    "scrolled": true
   },
   "outputs": [],
   "source": [
    "result[result[\"帳款客戶簡稱\"] == \"TELTONIK\"]"
   ]
  },
  {
   "cell_type": "code",
   "execution_count": null,
   "metadata": {
    "scrolled": true
   },
   "outputs": [],
   "source": [
    "result.pivot_table(index=[\"訂單業務\", \"帳款客戶簡稱\"], values=\"訂單NTD\",  columns=\"BU\")"
   ]
  },
  {
   "cell_type": "code",
   "execution_count": null,
   "metadata": {},
   "outputs": [],
   "source": [
    "final = result.pivot_table(index=[\"訂單業務\", \"帳款客戶簡稱\"], values=\"訂單NTD\",  columns=\"BU\").to_records()"
   ]
  },
  {
   "cell_type": "code",
   "execution_count": null,
   "metadata": {},
   "outputs": [],
   "source": [
    "final = pd.DataFrame(final)"
   ]
  },
  {
   "cell_type": "code",
   "execution_count": null,
   "metadata": {},
   "outputs": [],
   "source": [
    "final"
   ]
  },
  {
   "cell_type": "code",
   "execution_count": null,
   "metadata": {
    "scrolled": true
   },
   "outputs": [],
   "source": [
    "final.style.format({\"EMC\":\"{:,.0f}\", \"PC\":\"{:,.0f}\", \"RF\":\"{:,.0f}\", \"WIP\":\"{:,.0f}\", \"直接材料\":\"{:,.0f}\"}, na_rep=\"-\").hide_index().set_caption(\"Open PO>90D\").set_table_styles([{\n",
    "    'selector': 'caption',\n",
    "    'props': [\n",
    "        ('color', 'black'),\n",
    "        ('font-size', '16px')]}])"
   ]
  },
  {
   "cell_type": "code",
   "execution_count": null,
   "metadata": {
    "scrolled": true
   },
   "outputs": [],
   "source": [
    "overdue = pd.read_excel(\"佳邦集團-應收帳款明細表-20210228_20210312v1OEMTW.xlsx\")"
   ]
  },
  {
   "cell_type": "code",
   "execution_count": null,
   "metadata": {},
   "outputs": [],
   "source": [
    "overdue.columns"
   ]
  },
  {
   "cell_type": "code",
   "execution_count": null,
   "metadata": {},
   "outputs": [],
   "source": [
    "table = pd.DataFrame(overdue.pivot_table(index=\"簡稱\", values=\"台幣金額\", columns=\"逾期天數區間\", margins=True, margins_name=\"總計NTD\").to_records())"
   ]
  },
  {
   "cell_type": "code",
   "execution_count": null,
   "metadata": {},
   "outputs": [],
   "source": [
    "table.columns = ['公司名稱', '000-030', '031-060', '總計NTD']"
   ]
  },
  {
   "cell_type": "code",
   "execution_count": null,
   "metadata": {},
   "outputs": [],
   "source": [
    "table = table.style.format({\"000-030\":\"{:,.0f}\", \"031-060\":\"{:,.0f}\", \"總計NTD\":\"{:,.0f}\"}, na_rep=\"-\").hide_index().set_caption(\"AR Overdue\").set_table_styles([{\n",
    "    'selector': 'caption',\n",
    "    'props': [\n",
    "        ('color', 'black'),\n",
    "        ('font-size', '16px')]}])"
   ]
  },
  {
   "cell_type": "code",
   "execution_count": null,
   "metadata": {},
   "outputs": [],
   "source": [
    "overdue[overdue[\"簡稱\"] == \"StewdCN\"]"
   ]
  }
 ],
 "metadata": {
  "kernelspec": {
   "display_name": "Python 3",
   "language": "python",
   "name": "python3"
  },
  "language_info": {
   "codemirror_mode": {
    "name": "ipython",
    "version": 3
   },
   "file_extension": ".py",
   "mimetype": "text/x-python",
   "name": "python",
   "nbconvert_exporter": "python",
   "pygments_lexer": "ipython3",
   "version": "3.8.5"
  }
 },
 "nbformat": 4,
 "nbformat_minor": 4
}
