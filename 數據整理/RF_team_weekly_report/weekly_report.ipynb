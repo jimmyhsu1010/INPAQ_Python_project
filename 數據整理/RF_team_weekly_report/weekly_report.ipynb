{
 "cells": [
  {
   "cell_type": "code",
   "execution_count": null,
   "id": "5f644fff",
   "metadata": {},
   "outputs": [],
   "source": [
    "import pandas as pd\n",
    "pd.set_option(\"display.max_columns\", None)\n",
    "pd.set_option(\"mode.chained_assignment\", None)"
   ]
  },
  {
   "cell_type": "markdown",
   "id": "f3bced9a",
   "metadata": {},
   "source": [
    "## 讀取raw data"
   ]
  },
  {
   "cell_type": "code",
   "execution_count": null,
   "id": "853ad5d0",
   "metadata": {},
   "outputs": [],
   "source": [
    "df = pd.read_excel(r\"C:\\Users\\kaihsu\\OneDrive\\INPAQ\\業績總表\\RF.xlsx\")"
   ]
  },
  {
   "cell_type": "code",
   "execution_count": null,
   "id": "c3735447",
   "metadata": {},
   "outputs": [],
   "source": [
    "df = df[(df[\"業務名稱\"].isin([\"許凱智\", \"楊婉芬\", \"周彥宏\"])) & (df[\"狀態\"].str.contains(\"出\")) & (df[\"客戶名稱\"].isin([\"TELTONIK\", \"MT-Syste\", \"Portmont\"]))]"
   ]
  },
  {
   "cell_type": "code",
   "execution_count": null,
   "id": "31a4af0e",
   "metadata": {
    "scrolled": true
   },
   "outputs": [],
   "source": [
    "df[\"業務名稱\"] = \"許凱智\""
   ]
  },
  {
   "cell_type": "code",
   "execution_count": null,
   "id": "17d11cee",
   "metadata": {},
   "outputs": [],
   "source": [
    "group_key = ['TELTONIK', 'MT-Syste', 'Portmont']\n",
    "group_value = [\"TELTONIKA\", \"MT-SYSTEM\", \"MT-SYSTEM\"]\n",
    "group_dict = dict(zip(group_key, group_value))"
   ]
  },
  {
   "cell_type": "code",
   "execution_count": null,
   "id": "9fa53cd0",
   "metadata": {},
   "outputs": [],
   "source": [
    "df[\"客戶名稱\"] = df[\"客戶名稱\"].map(group_dict)"
   ]
  },
  {
   "cell_type": "code",
   "execution_count": null,
   "id": "00d92152",
   "metadata": {},
   "outputs": [],
   "source": []
  },
  {
   "cell_type": "markdown",
   "id": "b2dc6a59",
   "metadata": {},
   "source": [
    "## 處理交接客戶名單\n",
    "1. 客編，客戶名稱，訂單業務編號，訂單業務名稱，新訂單業務編號，新訂單業務名稱，未交訂單（不能有已交項次）\n",
    "2. 整理成table傳給Davin，Amber，Mohan，Allison，Sasa"
   ]
  },
  {
   "cell_type": "code",
   "execution_count": null,
   "id": "00d8cdef",
   "metadata": {},
   "outputs": [],
   "source": [
    "sales = pd.read_excel(r\"C:\\Users\\kaihsu\\Desktop\\axmr410-0105.xls\")"
   ]
  },
  {
   "cell_type": "code",
   "execution_count": null,
   "id": "0ec504e9",
   "metadata": {},
   "outputs": [],
   "source": [
    "sales = sales[:-10]"
   ]
  },
  {
   "cell_type": "code",
   "execution_count": null,
   "id": "b5c7a70d",
   "metadata": {
    "scrolled": true
   },
   "outputs": [],
   "source": [
    "sorted_df = sales[[\"送貨客戶\", \"送貨客戶簡稱\", \"訂單單號\", \"訂單單號項次\", \"數量\", \"實際出貨量\", \"訂單業務\"]]"
   ]
  },
  {
   "cell_type": "code",
   "execution_count": null,
   "id": "9c1b30d2",
   "metadata": {},
   "outputs": [],
   "source": [
    "sorted_df = sorted_df.astype({\"訂單單號項次\": \"int\", \"數量\": \"int\", \"實際出貨量\": \"int\"})"
   ]
  },
  {
   "cell_type": "code",
   "execution_count": null,
   "id": "3fd913d0",
   "metadata": {},
   "outputs": [],
   "source": [
    "sorted_df[\"是否丟棄\"] = sorted_df.apply(lambda x: \"丟棄\" if x[\"實際出貨量\"] == x[\"數量\"] else \"保留\", axis=1)"
   ]
  },
  {
   "cell_type": "code",
   "execution_count": null,
   "id": "3ae9d8d2",
   "metadata": {},
   "outputs": [],
   "source": [
    "result = sorted_df.groupby([\"送貨客戶\", \"送貨客戶簡稱\", \"訂單單號\", \"訂單業務\"])[[\"數量\", \"實際出貨量\"]].sum().reset_index()"
   ]
  },
  {
   "cell_type": "code",
   "execution_count": null,
   "id": "377dbafc",
   "metadata": {},
   "outputs": [],
   "source": [
    "result[\"是否保留\"] = result.apply(lambda x: \"丟棄\" if x[\"數量\"] == x[\"實際出貨量\"] else \"保留\", axis=1)"
   ]
  },
  {
   "cell_type": "code",
   "execution_count": null,
   "id": "b0926a49",
   "metadata": {},
   "outputs": [],
   "source": [
    "sales_order = result[(result[\"是否保留\"] == \"保留\") & (result[\"實際出貨量\"] == 0)]"
   ]
  },
  {
   "cell_type": "code",
   "execution_count": null,
   "id": "b182bb92",
   "metadata": {},
   "outputs": [],
   "source": [
    "sales_order[\"送貨客戶簡稱\"].unique()"
   ]
  },
  {
   "cell_type": "code",
   "execution_count": null,
   "id": "c98dd92b",
   "metadata": {},
   "outputs": [],
   "source": [
    "cus_list = [\"久尹\", \"天二科技\", \"華新科技\", \"苏州华科\", \"能遠\", \"信昌\", \"東莞弘電\", \"艺感\", \"東莞華科\", \"FEC\"]"
   ]
  },
  {
   "cell_type": "code",
   "execution_count": null,
   "id": "1bdef831",
   "metadata": {},
   "outputs": [],
   "source": [
    "final = sales_order[sales_order[\"送貨客戶簡稱\"].isin(cus_list)]"
   ]
  },
  {
   "cell_type": "code",
   "execution_count": null,
   "id": "38cff1b0",
   "metadata": {},
   "outputs": [],
   "source": [
    "final[\"訂單業務\"].unique()"
   ]
  },
  {
   "cell_type": "code",
   "execution_count": null,
   "id": "3fcde9c8",
   "metadata": {},
   "outputs": [],
   "source": [
    "final[\"新業務名稱\"] = \"陳慶妍\""
   ]
  },
  {
   "cell_type": "code",
   "execution_count": null,
   "id": "1980226f",
   "metadata": {},
   "outputs": [],
   "source": [
    "final = final[[\"送貨客戶\", \"送貨客戶簡稱\", \"訂單單號\", \"訂單業務\", \"數量\", \"實際出貨量\", \"新業務名稱\"]]"
   ]
  },
  {
   "cell_type": "code",
   "execution_count": null,
   "id": "57b130b7",
   "metadata": {},
   "outputs": [],
   "source": [
    "final.to_excel(r\"C:\\Users\\kaihsu\\Desktop\\業務人員交接.xlsx\", index=False)"
   ]
  }
 ],
 "metadata": {
  "kernelspec": {
   "display_name": "Python 3 (ipykernel)",
   "language": "python",
   "name": "python3"
  },
  "language_info": {
   "codemirror_mode": {
    "name": "ipython",
    "version": 3
   },
   "file_extension": ".py",
   "mimetype": "text/x-python",
   "name": "python",
   "nbconvert_exporter": "python",
   "pygments_lexer": "ipython3",
   "version": "3.8.8"
  }
 },
 "nbformat": 4,
 "nbformat_minor": 5
}
