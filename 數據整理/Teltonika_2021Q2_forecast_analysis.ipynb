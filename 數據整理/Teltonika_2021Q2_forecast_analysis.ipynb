{
 "cells": [
  {
   "cell_type": "code",
   "execution_count": null,
   "metadata": {},
   "outputs": [],
   "source": [
    "import pandas as pd\n",
    "import tkinter as tk\n",
    "from tkinter import filedialog"
   ]
  },
  {
   "cell_type": "code",
   "execution_count": null,
   "metadata": {},
   "outputs": [],
   "source": [
    "root = tk.Tk()\n",
    "root.withdraw()\n",
    "path = filedialog.askopenfilename()"
   ]
  },
  {
   "cell_type": "code",
   "execution_count": null,
   "metadata": {},
   "outputs": [],
   "source": [
    "shipment = pd.read_excel(path, sheet_name=\"出貨明細\")"
   ]
  },
  {
   "cell_type": "code",
   "execution_count": null,
   "metadata": {},
   "outputs": [],
   "source": [
    "shipment = shipment[(shipment[\"BG\"] == \"RF\") & (shipment[\"狀態\"].str.contains(\"出\") & (shipment[\"預交年份\"] == 2021) & (shipment[\"Group\"] == \"TELTONIKA\"))]"
   ]
  },
  {
   "cell_type": "code",
   "execution_count": null,
   "metadata": {},
   "outputs": [],
   "source": [
    "shipment = shipment[[\"Group\", \"預交月份\", \"品名\", \"單價\", \"數量\"]]"
   ]
  },
  {
   "cell_type": "code",
   "execution_count": null,
   "metadata": {},
   "outputs": [],
   "source": [
    "shipment[\"金額\"] = shipment[\"單價\"] * shipment[\"數量\"]"
   ]
  },
  {
   "cell_type": "code",
   "execution_count": null,
   "metadata": {
    "scrolled": true
   },
   "outputs": [],
   "source": [
    "month_value = ['January', 'February', 'March', 'April', 'May', 'June', 'July', 'August', 'September', 'October', 'November', 'December']\n",
    "month_key = [\"1\", \"2\", \"3\", \"4\", \"5\", \"6\", \"7\", \"8\", \"9\", \"10\", \"11\", \"12\"]\n",
    "month_dict = dict(zip(month_key, month_value))"
   ]
  },
  {
   "cell_type": "code",
   "execution_count": null,
   "metadata": {},
   "outputs": [],
   "source": [
    "price_list = shipment.drop_duplicates(subset=[\"品名\", \"單價\"], keep=\"last\")\n",
    "product = price_list[\"品名\"].tolist()\n",
    "price = price_list[\"單價\"].tolist()"
   ]
  },
  {
   "cell_type": "code",
   "execution_count": null,
   "metadata": {},
   "outputs": [],
   "source": [
    "price_dict = dict(zip(product, price))"
   ]
  },
  {
   "cell_type": "code",
   "execution_count": null,
   "metadata": {},
   "outputs": [],
   "source": [
    "shipment[\"類型\"] = \"實績\""
   ]
  },
  {
   "cell_type": "code",
   "execution_count": null,
   "metadata": {},
   "outputs": [],
   "source": [
    "df = pd.read_excel(path, None)"
   ]
  },
  {
   "cell_type": "code",
   "execution_count": null,
   "metadata": {},
   "outputs": [],
   "source": [
    "origin_2021 = df[\"2021 Forecast\"]\n",
    "revised_2021 = df[\"20210224update Q2\"]"
   ]
  },
  {
   "cell_type": "code",
   "execution_count": null,
   "metadata": {},
   "outputs": [],
   "source": [
    "origin_2021 = origin_2021[origin_2021[\"INPAQ PN\"].isin(['DAM-P11-B-R2-015-10-49',\n",
    "       'DAM-P11-B-R2-015-10-50', 'DAM-P11-E1-R2-003-22-03',\n",
    "       'GPSGLONASSU10N-N6-0022-A', 'GPSGLONASSU10N-N6-0420-A',\n",
    "       'PA1590MI4G-371-28M', 'PA1590MI4G-375-28M', 'PA1590MI4G-376-28M',\n",
    "       'PA1590MI4G-377-28M', 'PA1590MI4G-402-28M', 'PA1590MI4G-447-28M-A',\n",
    "       'PA1590MI4G-448-28M-A', 'PA1590MJ4G-221-26M', 'PA1590MJ4G-224-2SP',\n",
    "       'PA1590MS4G-103-SMD-M-A', 'RFDPA141300SBLB803J4',\n",
    "       'RFDPA171300SBAB823J4', 'RFDPA191300SMTB806J4'])]"
   ]
  },
  {
   "cell_type": "code",
   "execution_count": null,
   "metadata": {},
   "outputs": [],
   "source": [
    "origin_2021 = origin_2021[['INPAQ PN', '1', '2', '3', '4', '5', '6', '7', '8', '9',\n",
    "       '10', '11', '12']]"
   ]
  },
  {
   "cell_type": "code",
   "execution_count": null,
   "metadata": {},
   "outputs": [],
   "source": [
    "origin_2021 = origin_2021.groupby(\"INPAQ PN\").sum().stack().reset_index()"
   ]
  },
  {
   "cell_type": "code",
   "execution_count": null,
   "metadata": {},
   "outputs": [],
   "source": [
    "origin_2021.columns = [\"品名\", \"預交月份\", \"數量\"]"
   ]
  },
  {
   "cell_type": "code",
   "execution_count": null,
   "metadata": {},
   "outputs": [],
   "source": [
    "origin_2021[\"預交月份\"] = origin_2021[\"預交月份\"].map(month_dict)"
   ]
  },
  {
   "cell_type": "code",
   "execution_count": null,
   "metadata": {},
   "outputs": [],
   "source": [
    "origin_2021[\"單價\"] = origin_2021[\"品名\"].map(price_dict)"
   ]
  },
  {
   "cell_type": "code",
   "execution_count": null,
   "metadata": {},
   "outputs": [],
   "source": [
    "origin_2021[\"金額\"] = origin_2021[\"數量\"] * origin_2021[\"單價\"]"
   ]
  },
  {
   "cell_type": "code",
   "execution_count": null,
   "metadata": {},
   "outputs": [],
   "source": [
    "origin_2021[\"類型\"] = \"初版預估\""
   ]
  },
  {
   "cell_type": "code",
   "execution_count": null,
   "metadata": {},
   "outputs": [],
   "source": [
    "origin_2021[\"Group\"] = \"TELTONIKA\""
   ]
  },
  {
   "cell_type": "code",
   "execution_count": null,
   "metadata": {},
   "outputs": [],
   "source": [
    "revised_2021 = revised_2021[revised_2021[\"INPAQ PN\"].isin(['DAM-P11-B-R2-015-10-49',\n",
    "       'DAM-P11-B-R2-015-10-50', 'DAM-P11-E1-R2-003-22-03',\n",
    "       'GPSGLONASSU10N-N6-0022-A', 'GPSGLONASSU10N-N6-0420-A',\n",
    "       'PA1590MI4G-371-28M', 'PA1590MI4G-375-28M', 'PA1590MI4G-376-28M',\n",
    "       'PA1590MI4G-377-28M', 'PA1590MI4G-402-28M', 'PA1590MI4G-447-28M-A',\n",
    "       'PA1590MI4G-448-28M-A', 'PA1590MJ4G-221-26M', 'PA1590MJ4G-224-2SP',\n",
    "       'PA1590MS4G-103-SMD-M-A', 'RFDPA141300SBLB803J4',\n",
    "       'RFDPA171300SBAB823J4', 'RFDPA191300SMTB806J4',\n",
    "       'RFDPA30871ASBLBA01J4'])]"
   ]
  },
  {
   "cell_type": "code",
   "execution_count": null,
   "metadata": {},
   "outputs": [],
   "source": [
    "revised_2021.columns = ['INPAQ PN', 'January', 'February', 'March', 'April',\n",
    "       'May', 'June', 'July', 'August', 'September',\n",
    "       'October', 'November', 'December']"
   ]
  },
  {
   "cell_type": "code",
   "execution_count": null,
   "metadata": {},
   "outputs": [],
   "source": [
    "revised_2021 = revised_2021.groupby(\"INPAQ PN\").sum().unstack().reset_index()"
   ]
  },
  {
   "cell_type": "code",
   "execution_count": null,
   "metadata": {},
   "outputs": [],
   "source": [
    "revised_2021.columns = ['預交月份', 'INPAQ PN', \"數量\"]"
   ]
  },
  {
   "cell_type": "code",
   "execution_count": null,
   "metadata": {},
   "outputs": [],
   "source": [
    "revised_2021[\"數量\"] = revised_2021[\"數量\"].astype(\"int\")"
   ]
  },
  {
   "cell_type": "code",
   "execution_count": null,
   "metadata": {},
   "outputs": [],
   "source": [
    "revised_2021 = revised_2021[revised_2021[\"數量\"] != 0]"
   ]
  },
  {
   "cell_type": "code",
   "execution_count": null,
   "metadata": {},
   "outputs": [],
   "source": [
    "revised_2021[\"單價\"] = revised_2021[\"INPAQ PN\"].map(price_dict)"
   ]
  },
  {
   "cell_type": "code",
   "execution_count": null,
   "metadata": {},
   "outputs": [],
   "source": [
    "revised_2021[\"金額\"] = revised_2021[\"單價\"] * revised_2021[\"數量\"]"
   ]
  },
  {
   "cell_type": "code",
   "execution_count": null,
   "metadata": {},
   "outputs": [],
   "source": [
    "revised_2021[\"類型\"] = \"Q2修改\"\n",
    "revised_2021[\"Group\"] = \"TELTONIKA\""
   ]
  },
  {
   "cell_type": "code",
   "execution_count": null,
   "metadata": {},
   "outputs": [],
   "source": [
    "origin_2021[\"數量\"] = origin_2021[\"數量\"].astype(\"int\")"
   ]
  },
  {
   "cell_type": "code",
   "execution_count": null,
   "metadata": {},
   "outputs": [],
   "source": [
    "shipment.columns"
   ]
  },
  {
   "cell_type": "code",
   "execution_count": null,
   "metadata": {},
   "outputs": [],
   "source": [
    "origin_2021 = origin_2021.reindex(columns=shipment.columns)"
   ]
  },
  {
   "cell_type": "code",
   "execution_count": null,
   "metadata": {},
   "outputs": [],
   "source": [
    "revised_2021.columns = ['預交月份', '品名', '數量', '單價', '金額', '類型', 'Group']"
   ]
  },
  {
   "cell_type": "code",
   "execution_count": null,
   "metadata": {},
   "outputs": [],
   "source": [
    "revised_2021 = revised_2021.reindex(columns=shipment.columns)"
   ]
  },
  {
   "cell_type": "code",
   "execution_count": null,
   "metadata": {},
   "outputs": [],
   "source": [
    "result = pd.concat([shipment, origin_2021, revised_2021], axis=0)"
   ]
  },
  {
   "cell_type": "code",
   "execution_count": null,
   "metadata": {},
   "outputs": [],
   "source": [
    "plot_use = result.groupby([\"預交月份\", \"品名\", \"類型\"])[[\"金額\"]].sum().reset_index()"
   ]
  },
  {
   "cell_type": "code",
   "execution_count": null,
   "metadata": {},
   "outputs": [],
   "source": [
    "import plotly.express as px"
   ]
  },
  {
   "cell_type": "code",
   "execution_count": null,
   "metadata": {},
   "outputs": [],
   "source": [
    "final_plot = px.bar(plot_use, x=\"預交月份\", y=\"金額\", color=\"類型\", barmode=\"group\", category_orders={\"預交月份\":month_value},\n",
    "      title=\"TELTONIKA 2021年實績/預算/修改預算\", labels={\"金額\":\"總金額\", \"預交月份\":\"月份\"}, text=\"品名\").update_layout(title_font_size=26).update_xaxes(title_font={\"size\":18}).update_yaxes(title_font={\"size\":18})"
   ]
  },
  {
   "cell_type": "code",
   "execution_count": null,
   "metadata": {},
   "outputs": [],
   "source": [
    "with open(\"teltonika預算實績差異.html\", \"a\", encoding=\"utf-8\") as f:\n",
    "    f.write(final_plot.to_html(full_html=False, include_plotlyjs=\"cdn\"))\n",
    "    f.close()"
   ]
  },
  {
   "cell_type": "code",
   "execution_count": null,
   "metadata": {},
   "outputs": [],
   "source": []
  }
 ],
 "metadata": {
  "kernelspec": {
   "display_name": "Python 3",
   "language": "python",
   "name": "python3"
  },
  "language_info": {
   "codemirror_mode": {
    "name": "ipython",
    "version": 3
   },
   "file_extension": ".py",
   "mimetype": "text/x-python",
   "name": "python",
   "nbconvert_exporter": "python",
   "pygments_lexer": "ipython3",
   "version": "3.8.5"
  }
 },
 "nbformat": 4,
 "nbformat_minor": 4
}
