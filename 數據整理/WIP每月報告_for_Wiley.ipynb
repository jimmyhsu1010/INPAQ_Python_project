{
 "cells": [
  {
   "cell_type": "code",
   "execution_count": null,
   "metadata": {},
   "outputs": [],
   "source": [
    "import pandas as pd\n",
    "pd.set_option('display.max_rows', 10)\n",
    "pd.set_option('display.max_columns', None)\n",
    "pd.set_option('display.float_format', lambda x: '%.0f' % x)\n",
    "import os\n",
    "import plotly.express as px\n",
    "from datetime import date"
   ]
  },
  {
   "cell_type": "code",
   "execution_count": null,
   "metadata": {},
   "outputs": [],
   "source": [
    "# df = pd.read_excel('/Users/kai/Desktop/Weekly report_v0.1.xlsx', None) # Mac用\n",
    "df = pd.read_excel(r'C:\\Users\\kaihsu\\Desktop\\業績總表\\Weekly report_v0.1.xlsx', None)\n",
    "df = df['出貨明細']"
   ]
  },
  {
   "cell_type": "code",
   "execution_count": null,
   "metadata": {},
   "outputs": [],
   "source": [
    "today = date.today()\n",
    "cur_month = today.strftime(\"%B\")\n",
    "cur_year = int(today.strftime('%Y'))\n"
   ]
  },
  {
   "cell_type": "code",
   "execution_count": null,
   "metadata": {},
   "outputs": [],
   "source": [
    "df['數量'] = df['數量'].astype('int')\n",
    "df['本國幣別NTD'] = df['本國幣別NTD'].astype('int')"
   ]
  },
  {
   "cell_type": "markdown",
   "metadata": {},
   "source": [
    "## 表格"
   ]
  },
  {
   "cell_type": "code",
   "execution_count": null,
   "metadata": {
    "scrolled": false
   },
   "outputs": [],
   "source": [
    "table = df.query('BG == \"WIP\" and 預交年份 == \"2020\" and 預交月份 == \"November\" and 狀態 != \"待通知\"').groupby('Group')['本國幣別NTD', '數量'].sum().reset_index()"
   ]
  },
  {
   "cell_type": "code",
   "execution_count": null,
   "metadata": {},
   "outputs": [],
   "source": [
    "table.columns = ['客戶名稱', '營業額', '出貨數量']\n",
    "format_dict = {'營業額': '{0:,.0f}', '出貨數量': '{0:,.0f}'}\n",
    "table = table.style.format(format_dict).highlight_max(color='lightgreen').highlight_min(color='red').set_caption('WIP月銷售統計').hide_index()\n"
   ]
  },
  {
   "cell_type": "code",
   "execution_count": null,
   "metadata": {},
   "outputs": [],
   "source": [
    "# test = test.groupby([pd.Grouper('Group'), pd.Grouper(key='預交日期', freq='Q')])['本國幣別NTD'].sum().reset_index().style.format({'本國幣別NTD':'{0:,.0f}'})"
   ]
  },
  {
   "cell_type": "markdown",
   "metadata": {},
   "source": [
    "## Treemap"
   ]
  },
  {
   "cell_type": "code",
   "execution_count": null,
   "metadata": {},
   "outputs": [],
   "source": [
    "treemap = df[(df['預交年份'] == cur_year) & (df['BG'] == 'WIP') & (df['狀態'].str.contains('出'))]"
   ]
  },
  {
   "cell_type": "code",
   "execution_count": null,
   "metadata": {},
   "outputs": [],
   "source": [
    "treemap = treemap[treemap['預交月份'] == cur_month]\n",
    "tree_map = treemap.groupby(['BG', '負責業務', 'Group', '品名'])[['本國幣別NTD', '數量']].sum().reset_index()"
   ]
  },
  {
   "cell_type": "code",
   "execution_count": null,
   "metadata": {},
   "outputs": [],
   "source": [
    "fig = px.treemap(tree_map, path=['BG', '負責業務', 'Group', '品名'], values='本國幣別NTD', color='數量',\n",
    "                title='Treemap',\n",
    "                labels={'BG': 'WIP',\n",
    "                       '負責業務': '負責業務',\n",
    "                       'Group': '客戶名稱',\n",
    "                       '品名': '品名'})\n",
    "fig.show()"
   ]
  },
  {
   "cell_type": "code",
   "execution_count": null,
   "metadata": {},
   "outputs": [],
   "source": [
    "# month_order = ['January', 'February', 'March', 'April', 'May', 'June', 'July',\n",
    "#                'August', 'September', 'October', 'November', 'December']\n",
    "# df['預交月份'] = pd.Categorical(df['預交月份'], ordered=True, categories=month_order)\n",
    "# fig1 = px.histogram(df, x='預交月份', y='本國幣別NTD', barmode='group', color='Group', category_orders={'預交月份': month_order},\n",
    "#                    labels={'預交月份':'月份', '本國幣別NTD': '營業額', 'Group': '客戶名稱'})\n",
    "# fig1.show()"
   ]
  },
  {
   "cell_type": "markdown",
   "metadata": {},
   "source": [
    "## YoY每月出貨圖"
   ]
  },
  {
   "cell_type": "code",
   "execution_count": null,
   "metadata": {
    "scrolled": true
   },
   "outputs": [],
   "source": [
    "yoy_plot = df[(df['BG'] == 'WIP') & (df['預交年份'] == cur_year) & (df['狀態'] != '待通知')]"
   ]
  },
  {
   "cell_type": "code",
   "execution_count": null,
   "metadata": {},
   "outputs": [],
   "source": [
    "\n",
    "yoy_plot = yoy_plot.groupby(['預交年份', 'Group', '預交月份'])[['數量', '本國幣別NTD']].sum().reset_index()"
   ]
  },
  {
   "cell_type": "code",
   "execution_count": null,
   "metadata": {},
   "outputs": [],
   "source": [
    "month_order = ['January', 'February', 'March', 'April', 'May', 'June', 'July',\n",
    "               'August', 'September', 'October', 'November', 'December']\n",
    "yoy_plot['預交月份'] = pd.Categorical(yoy_plot['預交月份'], ordered=True, categories=month_order)\n",
    "yoy_plot = yoy_plot.sort_values(by='預交月份')"
   ]
  },
  {
   "cell_type": "code",
   "execution_count": null,
   "metadata": {},
   "outputs": [],
   "source": [
    "yoy_plot['預交年份'] = yoy_plot['預交年份'].astype(str)\n",
    "yoy_fig = px.bar(yoy_plot, x='預交月份', y='本國幣別NTD', color='Group', category_orders={'預交月份':month_order}, \n",
    "                 title='各月營業額', \n",
    "                labels={'Group': '客戶名稱',\n",
    "                       '本國幣別NTD': '金額',\n",
    "                       '預交月份': '月份'})\n",
    "yoy_fig.show()"
   ]
  },
  {
   "cell_type": "code",
   "execution_count": null,
   "metadata": {},
   "outputs": [],
   "source": [
    "with open('WIP月營收.html', 'a') as f:\n",
    "    f.write(table.render()) # Styler之後要用Render\n",
    "    f.write(fig.to_html(full_html=False, include_plotlyjs='cdn'))\n",
    "    f.write(yoy_fig.to_html(full_html=False, include_plotlyjs='cdn'))\n",
    "    f.close()"
   ]
  },
  {
   "cell_type": "code",
   "execution_count": null,
   "metadata": {},
   "outputs": [],
   "source": []
  }
 ],
 "metadata": {
  "kernelspec": {
   "display_name": "Python 3",
   "language": "python",
   "name": "python3"
  },
  "language_info": {
   "codemirror_mode": {
    "name": "ipython",
    "version": 3
   },
   "file_extension": ".py",
   "mimetype": "text/x-python",
   "name": "python",
   "nbconvert_exporter": "python",
   "pygments_lexer": "ipython3",
   "version": "3.8.5"
  }
 },
 "nbformat": 4,
 "nbformat_minor": 4
}
