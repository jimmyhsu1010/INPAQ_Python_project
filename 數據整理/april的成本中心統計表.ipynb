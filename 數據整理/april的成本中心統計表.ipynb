{
 "cells": [
  {
   "cell_type": "code",
   "execution_count": null,
   "metadata": {},
   "outputs": [],
   "source": [
    "import pandas as pd"
   ]
  },
  {
   "cell_type": "code",
   "execution_count": null,
   "metadata": {},
   "outputs": [],
   "source": [
    "df = pd.read_excel(r\"C:\\Users\\kaihsu\\Desktop\\複本 副本WK14.xlsx\", None)"
   ]
  },
  {
   "cell_type": "code",
   "execution_count": null,
   "metadata": {},
   "outputs": [],
   "source": [
    "df = df['Q1統計表']"
   ]
  },
  {
   "cell_type": "code",
   "execution_count": null,
   "metadata": {},
   "outputs": [],
   "source": [
    "df.columns = df.columns.str.replace('\\n', '')"
   ]
  },
  {
   "cell_type": "code",
   "execution_count": null,
   "metadata": {},
   "outputs": [],
   "source": [
    "keys = ['1/30-2/11', '2/18-2/20', '2/22-2/26', '3/1-3/5', '3/8-3/12', '3/15-3/19', '3/22-3/28']\n",
    "values = ['2021-02-05', '2021-02-19', '2021-02-24', '2021-03-03', '2021-03-10', '2021-03-17', '2021-03-25']\n",
    "date_dict = dict(zip(keys, values))\n",
    "df['提供時間'] = df['提供時間'].map(lambda x: date_dict[x] if x in date_dict.keys() else x)"
   ]
  },
  {
   "cell_type": "code",
   "execution_count": null,
   "metadata": {},
   "outputs": [],
   "source": [
    "df['提供時間'] = pd.to_datetime(df['提供時間'], yearfirst=True)"
   ]
  },
  {
   "cell_type": "code",
   "execution_count": null,
   "metadata": {},
   "outputs": [],
   "source": [
    "cus_keys = df['客戶'].unique().tolist()\n",
    "cus_values = ['緯創', '和碩', '易维英途', '藍岸', 'ASUS', '仁寶', 'IPK', '鴻富泰', '鴻海', '龍旗',\n",
    "       'Nexty', '偉世通', '軟銀', 'Garmin', '歌爾', '万魔', '新案', '華勤', '下田貿易',\n",
    "       '神準', '歐立', '滴滴', 'Sercomm', '佳德', '富士康', '易冲', '大同', 'MSI', '海信',\n",
    "       '廣達', '聞泰', '酷比', '北京經緯恒潤', '麥博韋爾', '華米', 'LCFC', '千和佑',\n",
    "       'MT-SYSTEM', '歌樂', '比亞迪', 'SYSGRATION', '佳禾', '天鍵電聲', '双翼', '美團',\n",
    "       '大疆', 'Valeo', '立訊', '徐工', '欣旺達', '小尋', '京瓷', 'Harman', '傑銘', 'LG',\n",
    "       'Hirschmann (TE) ', '信邦', 'Panasonic', 'FIH', 'BOSCH', '维沃', '三一',\n",
    "       '福永生物科技', 'Kathrein', 'CCI', '小米', 'Silram', '睿生光電', '新案（七十迈）',\n",
    "       'Elema', 'Reliance ', '安波福', '下田', '下田貿易', '英業達', 'Kaonmedia',\n",
    "       'Endrich-ASK', '麦博韦尔', 'FUBA', '日安', '移遠', '通力', '欣旺達',\n",
    "       'AVNET\\xa0', '下田貿易-电裝天', '迪芬尼', '偉斯', '長城', 'UBLOX(UK)', '佳鎂',\n",
    "       'MLK', 'Denso', '阿里', 'Vega-Absolute', 'TELTONIKA', 'hellobike',\n",
    "       '博實結', '无锡行米', '廣達QSMC', 'Vitesco', '鎂佳', '系統電子', 'Visteon',\n",
    "       'Kamaya-CLS', 'Hellobike', 'Hirschmann ', 'Emelite Tech', '天亮',\n",
    "       '致伸', 'Molex', '好幫手', '亞馬遜', 'Shimoda/BizStation', '睦星']\n",
    "cus_dict = dict(zip(cus_keys, cus_values))"
   ]
  },
  {
   "cell_type": "code",
   "execution_count": null,
   "metadata": {},
   "outputs": [],
   "source": [
    "df['客戶'] = df['客戶'].map(cus_dict)"
   ]
  },
  {
   "cell_type": "code",
   "execution_count": null,
   "metadata": {},
   "outputs": [],
   "source": [
    "df['是否有接到案 Received ?'] = df['是否有接到案 Received ?'].map(lambda x: 'Yes' if x == 'YES' or x == 'yes' else 'No' if x == 'NO' else 'N/A' if pd.isna(x) else x)"
   ]
  },
  {
   "cell_type": "code",
   "execution_count": null,
   "metadata": {
    "scrolled": true
   },
   "outputs": [],
   "source": [
    "df.columns"
   ]
  },
  {
   "cell_type": "code",
   "execution_count": null,
   "metadata": {
    "scrolled": false
   },
   "outputs": [],
   "source": [
    "df['大於500萬'] = df.apply(lambda x: 'Yes' if x['該案營業額 NTExpected Revenue'] >= 5000000 else 'No', axis=1)"
   ]
  },
  {
   "cell_type": "code",
   "execution_count": null,
   "metadata": {},
   "outputs": [],
   "source": [
    "import plotly.express as px"
   ]
  },
  {
   "cell_type": "code",
   "execution_count": null,
   "metadata": {},
   "outputs": [],
   "source": [
    "plot = px.bar(df, x='區域', color='是否有接到案 Received ?', facet_col='大於500萬', title='各區域報價/結案狀態', labels={'count': '案件數', '是否有接到案 Received ?':'是否結案'}).update_xaxes(categoryorder='total descending')"
   ]
  },
  {
   "cell_type": "code",
   "execution_count": null,
   "metadata": {},
   "outputs": [],
   "source": [
    "plot"
   ]
  },
  {
   "cell_type": "code",
   "execution_count": null,
   "metadata": {},
   "outputs": [],
   "source": [
    "with open('區域統整圖.html', 'a') as f:\n",
    "    f.write(plot.to_html(full_html=False, include_plotlyjs='cdn'))\n",
    "    f.close()"
   ]
  },
  {
   "cell_type": "code",
   "execution_count": null,
   "metadata": {},
   "outputs": [],
   "source": []
  }
 ],
 "metadata": {
  "kernelspec": {
   "display_name": "Python 3",
   "language": "python",
   "name": "python3"
  },
  "language_info": {
   "codemirror_mode": {
    "name": "ipython",
    "version": 3
   },
   "file_extension": ".py",
   "mimetype": "text/x-python",
   "name": "python",
   "nbconvert_exporter": "python",
   "pygments_lexer": "ipython3",
   "version": "3.8.5"
  }
 },
 "nbformat": 4,
 "nbformat_minor": 4
}
