{
 "cells": [
  {
   "cell_type": "code",
   "execution_count": null,
   "metadata": {},
   "outputs": [],
   "source": [
    "import pandas as pd\n",
    "pd.set_option('display.max_rows', 10)\n",
    "pd.set_option('display.max_columns', None)\n",
    "import plotly.express as px\n"
   ]
  },
  {
   "cell_type": "code",
   "execution_count": null,
   "metadata": {},
   "outputs": [],
   "source": [
    "sales = pd.read_excel('/Users/kai/Desktop/Weekly report_v0.1.xlsx', sheet_name='出貨明細')\n",
    "budget = pd.read_excel('/Users/kai/Desktop/Weekly report_v0.1.xlsx', sheet_name='2020預算', usecols=('A:F'))                      "
   ]
  },
  {
   "cell_type": "code",
   "execution_count": null,
   "metadata": {},
   "outputs": [],
   "source": [
    "sales['BG'] = sales.apply(lambda x: 'RFBU2' if 'RFDP' in x['品名'] else x['BG'], axis=1)"
   ]
  },
  {
   "cell_type": "code",
   "execution_count": null,
   "metadata": {},
   "outputs": [],
   "source": [
    "sales_filter = sales[sales['狀態'].str.contains('出')]"
   ]
  },
  {
   "cell_type": "code",
   "execution_count": null,
   "metadata": {},
   "outputs": [],
   "source": [
    "budget['產品'] = budget.apply(lambda x: '天線' if 'RF' in x['客戶名稱'] else '元件', axis=1)"
   ]
  },
  {
   "cell_type": "code",
   "execution_count": null,
   "metadata": {},
   "outputs": [],
   "source": [
    "budget['預估業績'] = budget['預估業績'].apply(lambda x: '0' if x == ' -   ' else x)\n",
    "budget['預估業績'] = budget['預估業績'].astype('int')"
   ]
  },
  {
   "cell_type": "code",
   "execution_count": null,
   "metadata": {},
   "outputs": [],
   "source": [
    "sales_filter['產品'] = sales_filter.apply(lambda x: '天線' if 'RF' in x['BG'] or 'RFBU2' in x['BG'] else '元件', axis=1)"
   ]
  },
  {
   "cell_type": "code",
   "execution_count": null,
   "metadata": {},
   "outputs": [],
   "source": [
    "sales_filter = sales_filter.groupby(['Group', '負責業務', '預交年份', '預交月份', '產品'])[['本國幣別NTD']].sum().reset_index()"
   ]
  },
  {
   "cell_type": "code",
   "execution_count": null,
   "metadata": {},
   "outputs": [],
   "source": [
    "sales_filter.insert(1, '類型', '實績')"
   ]
  },
  {
   "cell_type": "code",
   "execution_count": null,
   "metadata": {
    "scrolled": true
   },
   "outputs": [],
   "source": [
    "sales_filter = sales_filter.reindex(columns=['Group', '類型', '負責業務', '預交年份', '預交月份', '本國幣別NTD', '產品'])"
   ]
  },
  {
   "cell_type": "code",
   "execution_count": null,
   "metadata": {},
   "outputs": [],
   "source": [
    "sales_filter.columns = budget.columns"
   ]
  },
  {
   "cell_type": "code",
   "execution_count": null,
   "metadata": {},
   "outputs": [],
   "source": [
    "sales_filter['預估業績'] = sales_filter['預估業績'].astype('int')"
   ]
  },
  {
   "cell_type": "code",
   "execution_count": null,
   "metadata": {},
   "outputs": [],
   "source": [
    "sales_budget = pd.concat([budget, sales_filter], axis=0)"
   ]
  },
  {
   "cell_type": "code",
   "execution_count": null,
   "metadata": {},
   "outputs": [],
   "source": [
    "customer_dict = {'Bourns': 'Bourns', 'Bourns RF': 'Bourns', 'Eaton':'Eaton',\n",
    "                'Laird':'Larid', 'LF':'LF', 'LF-OEM':'LF OEM', 'WE':'WE',\n",
    "                '信昌':'信昌', '東莞弘電':'東莞弘電', '藝感':'藝感', '華科': '華新科技', \n",
    "                'Mt System(Component)': 'MT-SYSTEM', 'Teltonika(Component)':'TELTONIKA', \n",
    "                'Mt System(RF)': 'MT-SYSTEM', 'Teltonika(RF)':'TELTONIKA', 'Te(RF)':'TE', \n",
    "                'Credence(India RF)':'Credence', 'Millenium(India RF)':'Millenium', \n",
    "                'Nexty(India RF)': 'Nexty', 'OSE(India RF)': 'OSE', 'Others/One Time PO(India RF)': 'Others/One Time PO',\n",
    "                'Credence':'Credence', 'Eteily':'Eteily', 'FIRST EN':'FIRST EN', 'Fides':'Fides',\n",
    "                'G -PLAST':'G-PLAST', 'Globalte':'Globalte', 'JBJ':'JBJ', 'LF OEM':'LF OEM', 'M.S.':'M.S.',\n",
    "                'MATE':'MATE', 'MT-SYSTEM':'MT-SYSTEM', 'Nexty':'Nexty', 'SSF': 'SSF', \n",
    "                'Sancraft': 'Sancraft', 'TELTONIKA': 'TELTONIKA', 'Univa Te':'Univa Te', 'WiSilica':'WiSilica', \n",
    "                'Zebra':'Zebra', '華新科技':'華新科技', 'TE ':'TE'}\n",
    "\n",
    "sales_budget['客戶名稱'] = sales_budget['客戶名稱'].map(customer_dict)"
   ]
  },
  {
   "cell_type": "code",
   "execution_count": null,
   "metadata": {
    "scrolled": true
   },
   "outputs": [],
   "source": [
    "from datetime import datetime\n",
    "\n",
    "cur_month = datetime.today().strftime('%B')"
   ]
  },
  {
   "cell_type": "code",
   "execution_count": null,
   "metadata": {},
   "outputs": [],
   "source": [
    "y = sales_budget[sales_budget['Month'] == cur_month]\n",
    "y.groupby(['年份', '類型', 'Month'])[['預估業績']].sum().reset_index()"
   ]
  },
  {
   "cell_type": "code",
   "execution_count": null,
   "metadata": {
    "scrolled": true
   },
   "outputs": [],
   "source": [
    "sales_amber = sales_budget.groupby(['客戶名稱','類型', '產品', '負責業務', '年份', 'Month'])['預估業績'].sum().unstack('Month')"
   ]
  },
  {
   "cell_type": "code",
   "execution_count": null,
   "metadata": {},
   "outputs": [],
   "source": [
    "# mon_order = ['January', 'February', 'March', \n",
    "#             'April', 'May', 'June', 'July', 'August',\n",
    "#              'September', 'October', 'November', 'December']\n",
    "\n",
    "# sales_budget['Month'] =pd.Categorical(sales_budget['Month'], ordered=True, categories=mon_order)"
   ]
  },
  {
   "cell_type": "code",
   "execution_count": null,
   "metadata": {},
   "outputs": [],
   "source": [
    "sales_amber.reindex(columns=['January', 'February', 'March', \n",
    "            'April', 'May', 'June', 'July', 'August',\n",
    "             'September', 'October', 'November', 'December'])"
   ]
  },
  {
   "cell_type": "code",
   "execution_count": null,
   "metadata": {},
   "outputs": [],
   "source": [
    "# sales_budget.groupby([''])\n",
    "\n",
    "fig = px.histogram(sales_budget, x='Month', y='預估業績', color='負責業務', facet_col='年份', facet_row='類型',\n",
    "                  labels={'預估業績':'總金額', 'Month':'月份'}, title='實績VS預算')\n",
    "fig.show()"
   ]
  }
 ],
 "metadata": {
  "kernelspec": {
   "display_name": "Python 3",
   "language": "python",
   "name": "python3"
  },
  "language_info": {
   "codemirror_mode": {
    "name": "ipython",
    "version": 3
   },
   "file_extension": ".py",
   "mimetype": "text/x-python",
   "name": "python",
   "nbconvert_exporter": "python",
   "pygments_lexer": "ipython3",
   "version": "3.8.5"
  }
 },
 "nbformat": 4,
 "nbformat_minor": 4
}
