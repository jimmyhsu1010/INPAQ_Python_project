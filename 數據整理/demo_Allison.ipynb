{
 "cells": [
  {
   "cell_type": "code",
   "execution_count": 1,
   "metadata": {},
   "outputs": [],
   "source": [
    "import pandas as pd\n",
    "pd.set_option('display.max_rows', 10)\n",
    "pd.set_option('display.float_format', lambda x: '%.2f' % x)"
   ]
  },
  {
   "cell_type": "code",
   "execution_count": 3,
   "metadata": {},
   "outputs": [],
   "source": [
    "order_code = pd.read_excel(r\"C:\\Users\\kaihsu\\Desktop\\單別_Kai.xlsx\")"
   ]
  },
  {
   "cell_type": "code",
   "execution_count": 6,
   "metadata": {},
   "outputs": [],
   "source": [
    "wuxi = pd.read_excel(r\"C:\\Users\\kaihsu\\Desktop\\業績總表\\2021 HYWUXI.xls\", header=3)"
   ]
  },
  {
   "cell_type": "code",
   "execution_count": 23,
   "metadata": {},
   "outputs": [
    {
     "data": {
      "text/plain": [
       "85"
      ]
     },
     "execution_count": 23,
     "metadata": {},
     "output_type": "execute_result"
    }
   ],
   "source": [
    "wuxi.shape[0]"
   ]
  },
  {
   "cell_type": "code",
   "execution_count": 29,
   "metadata": {},
   "outputs": [],
   "source": [
    "wuxi = wuxi.loc[:wuxi.shape[0]-3]"
   ]
  },
  {
   "cell_type": "code",
   "execution_count": 35,
   "metadata": {
    "scrolled": true
   },
   "outputs": [
    {
     "name": "stderr",
     "output_type": "stream",
     "text": [
      "<ipython-input-35-d2a882f3d3cd>:1: SettingWithCopyWarning: \n",
      "A value is trying to be set on a copy of a slice from a DataFrame.\n",
      "Try using .loc[row_indexer,col_indexer] = value instead\n",
      "\n",
      "See the caveats in the documentation: https://pandas.pydata.org/pandas-docs/stable/user_guide/indexing.html#returning-a-view-versus-a-copy\n",
      "  wuxi['開單日期'] = pd.to_datetime(wuxi['開單日期'])\n",
      "<ipython-input-35-d2a882f3d3cd>:2: SettingWithCopyWarning: \n",
      "A value is trying to be set on a copy of a slice from a DataFrame.\n",
      "Try using .loc[row_indexer,col_indexer] = value instead\n",
      "\n",
      "See the caveats in the documentation: https://pandas.pydata.org/pandas-docs/stable/user_guide/indexing.html#returning-a-view-versus-a-copy\n",
      "  wuxi['預交日期'] = pd.to_datetime(wuxi['預交日期'])\n",
      "<ipython-input-35-d2a882f3d3cd>:3: SettingWithCopyWarning: \n",
      "A value is trying to be set on a copy of a slice from a DataFrame.\n",
      "Try using .loc[row_indexer,col_indexer] = value instead\n",
      "\n",
      "See the caveats in the documentation: https://pandas.pydata.org/pandas-docs/stable/user_guide/indexing.html#returning-a-view-versus-a-copy\n",
      "  wuxi['客戶希交日'] = pd.to_datetime(wuxi['客戶希交日'])\n",
      "<ipython-input-35-d2a882f3d3cd>:4: SettingWithCopyWarning: \n",
      "A value is trying to be set on a copy of a slice from a DataFrame.\n",
      "Try using .loc[row_indexer,col_indexer] = value instead\n",
      "\n",
      "See the caveats in the documentation: https://pandas.pydata.org/pandas-docs/stable/user_guide/indexing.html#returning-a-view-versus-a-copy\n",
      "  wuxi['交期變更'] = pd.to_datetime(wuxi['交期變更'])\n"
     ]
    }
   ],
   "source": [
    "wuxi['開單日期'] = pd.to_datetime(wuxi['開單日期'])\n",
    "wuxi['預交日期'] = pd.to_datetime(wuxi['預交日期'])\n",
    "wuxi['客戶希交日'] = pd.to_datetime(wuxi['客戶希交日'])\n",
    "wuxi['交期變更'] = pd.to_datetime(wuxi['交期變更'])"
   ]
  },
  {
   "cell_type": "code",
   "execution_count": 37,
   "metadata": {},
   "outputs": [
    {
     "data": {
      "text/plain": [
       "(83, 58)"
      ]
     },
     "execution_count": 37,
     "metadata": {},
     "output_type": "execute_result"
    }
   ],
   "source": [
    "wuxi.shape\n"
   ]
  },
  {
   "cell_type": "code",
   "execution_count": 39,
   "metadata": {},
   "outputs": [
    {
     "data": {
      "text/html": [
       "<div>\n",
       "<style scoped>\n",
       "    .dataframe tbody tr th:only-of-type {\n",
       "        vertical-align: middle;\n",
       "    }\n",
       "\n",
       "    .dataframe tbody tr th {\n",
       "        vertical-align: top;\n",
       "    }\n",
       "\n",
       "    .dataframe thead th {\n",
       "        text-align: right;\n",
       "    }\n",
       "</style>\n",
       "<table border=\"1\" class=\"dataframe\">\n",
       "  <thead>\n",
       "    <tr style=\"text-align: right;\">\n",
       "      <th></th>\n",
       "      <th>營運中心</th>\n",
       "      <th>狀態</th>\n",
       "      <th>銷售單號</th>\n",
       "      <th>銷售項次</th>\n",
       "      <th>銷售月份</th>\n",
       "      <th>開單日期</th>\n",
       "      <th>預交日期</th>\n",
       "      <th>交期變更</th>\n",
       "      <th>客戶名稱</th>\n",
       "      <th>業務代號</th>\n",
       "      <th>...</th>\n",
       "      <th>車用</th>\n",
       "      <th>用戶端車型</th>\n",
       "      <th>天線擺放位置</th>\n",
       "      <th>REBATE</th>\n",
       "      <th>集團匯率</th>\n",
       "      <th>集團匯率*金額</th>\n",
       "      <th>資料所有者</th>\n",
       "      <th>資料修改者</th>\n",
       "      <th>出貨日期</th>\n",
       "      <th>數量(舊系統)</th>\n",
       "    </tr>\n",
       "  </thead>\n",
       "  <tbody>\n",
       "    <tr>\n",
       "      <th>0</th>\n",
       "      <td>HYWUXI</td>\n",
       "      <td>01未出</td>\n",
       "      <td>WWCON-2009000007</td>\n",
       "      <td>2</td>\n",
       "      <td>09</td>\n",
       "      <td>2020-09-09</td>\n",
       "      <td>2021-01-15</td>\n",
       "      <td>NaT</td>\n",
       "      <td>藝感</td>\n",
       "      <td>A5048</td>\n",
       "      <td>...</td>\n",
       "      <td>N</td>\n",
       "      <td>nan</td>\n",
       "      <td>nan</td>\n",
       "      <td>nan</td>\n",
       "      <td>4.27</td>\n",
       "      <td>425407.26</td>\n",
       "      <td>童彥銘</td>\n",
       "      <td>鼎新用</td>\n",
       "      <td>nan</td>\n",
       "      <td>1314.00</td>\n",
       "    </tr>\n",
       "    <tr>\n",
       "      <th>1</th>\n",
       "      <td>HYWUXI</td>\n",
       "      <td>01未出</td>\n",
       "      <td>WWCON-2009000013</td>\n",
       "      <td>4</td>\n",
       "      <td>09</td>\n",
       "      <td>2020-09-16</td>\n",
       "      <td>2021-01-22</td>\n",
       "      <td>NaT</td>\n",
       "      <td>藝感</td>\n",
       "      <td>A5048</td>\n",
       "      <td>...</td>\n",
       "      <td>N</td>\n",
       "      <td>nan</td>\n",
       "      <td>nan</td>\n",
       "      <td>nan</td>\n",
       "      <td>4.27</td>\n",
       "      <td>8741.25</td>\n",
       "      <td>童彥銘</td>\n",
       "      <td>鼎新用</td>\n",
       "      <td>nan</td>\n",
       "      <td>27.00</td>\n",
       "    </tr>\n",
       "    <tr>\n",
       "      <th>2</th>\n",
       "      <td>HYWUXI</td>\n",
       "      <td>01未出</td>\n",
       "      <td>WWCON-2009000013</td>\n",
       "      <td>3</td>\n",
       "      <td>09</td>\n",
       "      <td>2020-09-16</td>\n",
       "      <td>2021-01-22</td>\n",
       "      <td>NaT</td>\n",
       "      <td>藝感</td>\n",
       "      <td>A5048</td>\n",
       "      <td>...</td>\n",
       "      <td>N</td>\n",
       "      <td>nan</td>\n",
       "      <td>nan</td>\n",
       "      <td>nan</td>\n",
       "      <td>4.27</td>\n",
       "      <td>42734.97</td>\n",
       "      <td>童彥銘</td>\n",
       "      <td>鼎新用</td>\n",
       "      <td>nan</td>\n",
       "      <td>132.00</td>\n",
       "    </tr>\n",
       "    <tr>\n",
       "      <th>3</th>\n",
       "      <td>HYWUXI</td>\n",
       "      <td>01未出</td>\n",
       "      <td>WWCON-2009000013</td>\n",
       "      <td>2</td>\n",
       "      <td>09</td>\n",
       "      <td>2020-09-16</td>\n",
       "      <td>2021-01-22</td>\n",
       "      <td>NaT</td>\n",
       "      <td>藝感</td>\n",
       "      <td>A5048</td>\n",
       "      <td>...</td>\n",
       "      <td>N</td>\n",
       "      <td>nan</td>\n",
       "      <td>nan</td>\n",
       "      <td>nan</td>\n",
       "      <td>4.27</td>\n",
       "      <td>33022.50</td>\n",
       "      <td>童彥銘</td>\n",
       "      <td>鼎新用</td>\n",
       "      <td>nan</td>\n",
       "      <td>102.00</td>\n",
       "    </tr>\n",
       "    <tr>\n",
       "      <th>4</th>\n",
       "      <td>HYWUXI</td>\n",
       "      <td>01未出</td>\n",
       "      <td>WWCON-2009000013</td>\n",
       "      <td>1</td>\n",
       "      <td>09</td>\n",
       "      <td>2020-09-16</td>\n",
       "      <td>2021-01-22</td>\n",
       "      <td>NaT</td>\n",
       "      <td>藝感</td>\n",
       "      <td>A5048</td>\n",
       "      <td>...</td>\n",
       "      <td>N</td>\n",
       "      <td>nan</td>\n",
       "      <td>nan</td>\n",
       "      <td>nan</td>\n",
       "      <td>4.27</td>\n",
       "      <td>32051.23</td>\n",
       "      <td>童彥銘</td>\n",
       "      <td>鼎新用</td>\n",
       "      <td>nan</td>\n",
       "      <td>99.00</td>\n",
       "    </tr>\n",
       "    <tr>\n",
       "      <th>...</th>\n",
       "      <td>...</td>\n",
       "      <td>...</td>\n",
       "      <td>...</td>\n",
       "      <td>...</td>\n",
       "      <td>...</td>\n",
       "      <td>...</td>\n",
       "      <td>...</td>\n",
       "      <td>...</td>\n",
       "      <td>...</td>\n",
       "      <td>...</td>\n",
       "      <td>...</td>\n",
       "      <td>...</td>\n",
       "      <td>...</td>\n",
       "      <td>...</td>\n",
       "      <td>...</td>\n",
       "      <td>...</td>\n",
       "      <td>...</td>\n",
       "      <td>...</td>\n",
       "      <td>...</td>\n",
       "      <td>...</td>\n",
       "      <td>...</td>\n",
       "    </tr>\n",
       "    <tr>\n",
       "      <th>78</th>\n",
       "      <td>HYWUXI</td>\n",
       "      <td>09未出</td>\n",
       "      <td>WWCON-2012000134</td>\n",
       "      <td>5</td>\n",
       "      <td>12</td>\n",
       "      <td>2020-12-29</td>\n",
       "      <td>2021-09-17</td>\n",
       "      <td>NaT</td>\n",
       "      <td>藝感</td>\n",
       "      <td>A5048</td>\n",
       "      <td>...</td>\n",
       "      <td>N</td>\n",
       "      <td>nan</td>\n",
       "      <td>nan</td>\n",
       "      <td>nan</td>\n",
       "      <td>4.27</td>\n",
       "      <td>3885.01</td>\n",
       "      <td>童彥銘</td>\n",
       "      <td>童彥銘</td>\n",
       "      <td>nan</td>\n",
       "      <td>12.00</td>\n",
       "    </tr>\n",
       "    <tr>\n",
       "      <th>79</th>\n",
       "      <td>HYWUXI</td>\n",
       "      <td>09未出</td>\n",
       "      <td>WWCON-2012000134</td>\n",
       "      <td>4</td>\n",
       "      <td>12</td>\n",
       "      <td>2020-12-29</td>\n",
       "      <td>2021-09-17</td>\n",
       "      <td>NaT</td>\n",
       "      <td>藝感</td>\n",
       "      <td>A5048</td>\n",
       "      <td>...</td>\n",
       "      <td>N</td>\n",
       "      <td>nan</td>\n",
       "      <td>nan</td>\n",
       "      <td>nan</td>\n",
       "      <td>4.27</td>\n",
       "      <td>97124.93</td>\n",
       "      <td>童彥銘</td>\n",
       "      <td>童彥銘</td>\n",
       "      <td>nan</td>\n",
       "      <td>300.00</td>\n",
       "    </tr>\n",
       "    <tr>\n",
       "      <th>80</th>\n",
       "      <td>HYWUXI</td>\n",
       "      <td>09未出</td>\n",
       "      <td>WWCON-2012000134</td>\n",
       "      <td>3</td>\n",
       "      <td>12</td>\n",
       "      <td>2020-12-29</td>\n",
       "      <td>2021-09-17</td>\n",
       "      <td>NaT</td>\n",
       "      <td>藝感</td>\n",
       "      <td>A5048</td>\n",
       "      <td>...</td>\n",
       "      <td>N</td>\n",
       "      <td>nan</td>\n",
       "      <td>nan</td>\n",
       "      <td>nan</td>\n",
       "      <td>4.27</td>\n",
       "      <td>49533.73</td>\n",
       "      <td>童彥銘</td>\n",
       "      <td>童彥銘</td>\n",
       "      <td>nan</td>\n",
       "      <td>153.00</td>\n",
       "    </tr>\n",
       "    <tr>\n",
       "      <th>81</th>\n",
       "      <td>HYWUXI</td>\n",
       "      <td>09未出</td>\n",
       "      <td>WWCON-2012000134</td>\n",
       "      <td>2</td>\n",
       "      <td>12</td>\n",
       "      <td>2020-12-29</td>\n",
       "      <td>2021-09-17</td>\n",
       "      <td>NaT</td>\n",
       "      <td>藝感</td>\n",
       "      <td>A5048</td>\n",
       "      <td>...</td>\n",
       "      <td>N</td>\n",
       "      <td>nan</td>\n",
       "      <td>nan</td>\n",
       "      <td>nan</td>\n",
       "      <td>4.27</td>\n",
       "      <td>116549.95</td>\n",
       "      <td>童彥銘</td>\n",
       "      <td>童彥銘</td>\n",
       "      <td>nan</td>\n",
       "      <td>360.00</td>\n",
       "    </tr>\n",
       "    <tr>\n",
       "      <th>82</th>\n",
       "      <td>HYWUXI</td>\n",
       "      <td>09未出</td>\n",
       "      <td>WWCON-2012000134</td>\n",
       "      <td>1</td>\n",
       "      <td>12</td>\n",
       "      <td>2020-12-29</td>\n",
       "      <td>2021-09-17</td>\n",
       "      <td>NaT</td>\n",
       "      <td>藝感</td>\n",
       "      <td>A5048</td>\n",
       "      <td>...</td>\n",
       "      <td>N</td>\n",
       "      <td>nan</td>\n",
       "      <td>nan</td>\n",
       "      <td>nan</td>\n",
       "      <td>4.27</td>\n",
       "      <td>76728.69</td>\n",
       "      <td>童彥銘</td>\n",
       "      <td>童彥銘</td>\n",
       "      <td>nan</td>\n",
       "      <td>237.00</td>\n",
       "    </tr>\n",
       "  </tbody>\n",
       "</table>\n",
       "<p>83 rows × 58 columns</p>\n",
       "</div>"
      ],
      "text/plain": [
       "      營運中心    狀態              銷售單號 銷售項次 銷售月份       開單日期       預交日期 交期變更 客戶名稱  \\\n",
       "0   HYWUXI  01未出  WWCON-2009000007    2   09 2020-09-09 2021-01-15  NaT   藝感   \n",
       "1   HYWUXI  01未出  WWCON-2009000013    4   09 2020-09-16 2021-01-22  NaT   藝感   \n",
       "2   HYWUXI  01未出  WWCON-2009000013    3   09 2020-09-16 2021-01-22  NaT   藝感   \n",
       "3   HYWUXI  01未出  WWCON-2009000013    2   09 2020-09-16 2021-01-22  NaT   藝感   \n",
       "4   HYWUXI  01未出  WWCON-2009000013    1   09 2020-09-16 2021-01-22  NaT   藝感   \n",
       "..     ...   ...               ...  ...  ...        ...        ...  ...  ...   \n",
       "78  HYWUXI  09未出  WWCON-2012000134    5   12 2020-12-29 2021-09-17  NaT   藝感   \n",
       "79  HYWUXI  09未出  WWCON-2012000134    4   12 2020-12-29 2021-09-17  NaT   藝感   \n",
       "80  HYWUXI  09未出  WWCON-2012000134    3   12 2020-12-29 2021-09-17  NaT   藝感   \n",
       "81  HYWUXI  09未出  WWCON-2012000134    2   12 2020-12-29 2021-09-17  NaT   藝感   \n",
       "82  HYWUXI  09未出  WWCON-2012000134    1   12 2020-12-29 2021-09-17  NaT   藝感   \n",
       "\n",
       "     業務代號  ... 車用 用戶端車型  天線擺放位置 REBATE 集團匯率   集團匯率*金額  資料所有者 資料修改者 出貨日期  \\\n",
       "0   A5048  ...  N   nan     nan    nan 4.27 425407.26    童彥銘   鼎新用  nan   \n",
       "1   A5048  ...  N   nan     nan    nan 4.27   8741.25    童彥銘   鼎新用  nan   \n",
       "2   A5048  ...  N   nan     nan    nan 4.27  42734.97    童彥銘   鼎新用  nan   \n",
       "3   A5048  ...  N   nan     nan    nan 4.27  33022.50    童彥銘   鼎新用  nan   \n",
       "4   A5048  ...  N   nan     nan    nan 4.27  32051.23    童彥銘   鼎新用  nan   \n",
       "..    ...  ... ..   ...     ...    ...  ...       ...    ...   ...  ...   \n",
       "78  A5048  ...  N   nan     nan    nan 4.27   3885.01    童彥銘   童彥銘  nan   \n",
       "79  A5048  ...  N   nan     nan    nan 4.27  97124.93    童彥銘   童彥銘  nan   \n",
       "80  A5048  ...  N   nan     nan    nan 4.27  49533.73    童彥銘   童彥銘  nan   \n",
       "81  A5048  ...  N   nan     nan    nan 4.27 116549.95    童彥銘   童彥銘  nan   \n",
       "82  A5048  ...  N   nan     nan    nan 4.27  76728.69    童彥銘   童彥銘  nan   \n",
       "\n",
       "   數量(舊系統)  \n",
       "0  1314.00  \n",
       "1    27.00  \n",
       "2   132.00  \n",
       "3   102.00  \n",
       "4    99.00  \n",
       "..     ...  \n",
       "78   12.00  \n",
       "79  300.00  \n",
       "80  153.00  \n",
       "81  360.00  \n",
       "82  237.00  \n",
       "\n",
       "[83 rows x 58 columns]"
      ]
     },
     "execution_count": 39,
     "metadata": {},
     "output_type": "execute_result"
    }
   ],
   "source": [
    "wuxi.drop_duplicates()"
   ]
  },
  {
   "cell_type": "code",
   "execution_count": 40,
   "metadata": {},
   "outputs": [],
   "source": [
    "df = pd.read_excel(r\"C:\\Users\\kaihsu\\Desktop\\業績總表\\Weekly report_v0.1.xlsx\", sheet_name='出貨明細')"
   ]
  },
  {
   "cell_type": "code",
   "execution_count": 41,
   "metadata": {},
   "outputs": [],
   "source": [
    "pdc = df[df['客戶名稱'] == '信昌']"
   ]
  },
  {
   "cell_type": "code",
   "execution_count": 43,
   "metadata": {},
   "outputs": [],
   "source": [
    "pdc = pdc[['客戶名稱', '產品分類', '品名', '單價']]"
   ]
  },
  {
   "cell_type": "code",
   "execution_count": 44,
   "metadata": {},
   "outputs": [
    {
     "data": {
      "text/plain": [
       "171"
      ]
     },
     "execution_count": 44,
     "metadata": {},
     "output_type": "execute_result"
    }
   ],
   "source": [
    "len(pdc['品名'].unique())"
   ]
  },
  {
   "cell_type": "code",
   "execution_count": 46,
   "metadata": {},
   "outputs": [],
   "source": [
    "result = pdc.drop_duplicates(subset=['品名'], keep='last')"
   ]
  },
  {
   "cell_type": "code",
   "execution_count": 47,
   "metadata": {
    "scrolled": true
   },
   "outputs": [
    {
     "data": {
      "text/html": [
       "<div>\n",
       "<style scoped>\n",
       "    .dataframe tbody tr th:only-of-type {\n",
       "        vertical-align: middle;\n",
       "    }\n",
       "\n",
       "    .dataframe tbody tr th {\n",
       "        vertical-align: top;\n",
       "    }\n",
       "\n",
       "    .dataframe thead th {\n",
       "        text-align: right;\n",
       "    }\n",
       "</style>\n",
       "<table border=\"1\" class=\"dataframe\">\n",
       "  <thead>\n",
       "    <tr style=\"text-align: right;\">\n",
       "      <th></th>\n",
       "      <th>客戶名稱</th>\n",
       "      <th>產品分類</th>\n",
       "      <th>品名</th>\n",
       "      <th>單價</th>\n",
       "    </tr>\n",
       "  </thead>\n",
       "  <tbody>\n",
       "    <tr>\n",
       "      <th>1683</th>\n",
       "      <td>信昌</td>\n",
       "      <td>MHC2012-S series成品</td>\n",
       "      <td>MHC2012S600QBP</td>\n",
       "      <td>0.00</td>\n",
       "    </tr>\n",
       "    <tr>\n",
       "      <th>1686</th>\n",
       "      <td>信昌</td>\n",
       "      <td>MHC3216-S series成品</td>\n",
       "      <td>MHC3216S121WBE</td>\n",
       "      <td>0.01</td>\n",
       "    </tr>\n",
       "    <tr>\n",
       "      <th>1709</th>\n",
       "      <td>信昌</td>\n",
       "      <td>MCB1608-S series成品</td>\n",
       "      <td>MCB1608S221FBP</td>\n",
       "      <td>0.04</td>\n",
       "    </tr>\n",
       "    <tr>\n",
       "      <th>1710</th>\n",
       "      <td>信昌</td>\n",
       "      <td>MCB1608-S series成品</td>\n",
       "      <td>MCB1608S301FBP</td>\n",
       "      <td>0.04</td>\n",
       "    </tr>\n",
       "    <tr>\n",
       "      <th>1734</th>\n",
       "      <td>信昌</td>\n",
       "      <td>MCB1005-S series成品</td>\n",
       "      <td>MCB1005S100FBP</td>\n",
       "      <td>0.00</td>\n",
       "    </tr>\n",
       "    <tr>\n",
       "      <th>...</th>\n",
       "      <td>...</td>\n",
       "      <td>...</td>\n",
       "      <td>...</td>\n",
       "      <td>...</td>\n",
       "    </tr>\n",
       "    <tr>\n",
       "      <th>11696</th>\n",
       "      <td>信昌</td>\n",
       "      <td>MCI1608 series成品</td>\n",
       "      <td>MCI1608HQ10NJHBP</td>\n",
       "      <td>0.09</td>\n",
       "    </tr>\n",
       "    <tr>\n",
       "      <th>11701</th>\n",
       "      <td>信昌</td>\n",
       "      <td>MCI1005 series成品</td>\n",
       "      <td>MCI1005HQ8N2JHBP</td>\n",
       "      <td>0.03</td>\n",
       "    </tr>\n",
       "    <tr>\n",
       "      <th>11702</th>\n",
       "      <td>信昌</td>\n",
       "      <td>MFI2012 series成品</td>\n",
       "      <td>MFI2012P10RM09BPA125</td>\n",
       "      <td>0.17</td>\n",
       "    </tr>\n",
       "    <tr>\n",
       "      <th>11703</th>\n",
       "      <td>信昌</td>\n",
       "      <td>MHC3216-S series成品</td>\n",
       "      <td>MHC3216S601PBE</td>\n",
       "      <td>0.16</td>\n",
       "    </tr>\n",
       "    <tr>\n",
       "      <th>11704</th>\n",
       "      <td>信昌</td>\n",
       "      <td>MCB1005-S series成品</td>\n",
       "      <td>MCB1005S601FBP</td>\n",
       "      <td>0.02</td>\n",
       "    </tr>\n",
       "  </tbody>\n",
       "</table>\n",
       "<p>171 rows × 4 columns</p>\n",
       "</div>"
      ],
      "text/plain": [
       "      客戶名稱                產品分類                    品名   單價\n",
       "1683    信昌  MHC2012-S series成品        MHC2012S600QBP 0.00\n",
       "1686    信昌  MHC3216-S series成品        MHC3216S121WBE 0.01\n",
       "1709    信昌  MCB1608-S series成品        MCB1608S221FBP 0.04\n",
       "1710    信昌  MCB1608-S series成品        MCB1608S301FBP 0.04\n",
       "1734    信昌  MCB1005-S series成品        MCB1005S100FBP 0.00\n",
       "...    ...                 ...                   ...  ...\n",
       "11696   信昌    MCI1608 series成品      MCI1608HQ10NJHBP 0.09\n",
       "11701   信昌    MCI1005 series成品      MCI1005HQ8N2JHBP 0.03\n",
       "11702   信昌    MFI2012 series成品  MFI2012P10RM09BPA125 0.17\n",
       "11703   信昌  MHC3216-S series成品        MHC3216S601PBE 0.16\n",
       "11704   信昌  MCB1005-S series成品        MCB1005S601FBP 0.02\n",
       "\n",
       "[171 rows x 4 columns]"
      ]
     },
     "execution_count": 47,
     "metadata": {},
     "output_type": "execute_result"
    }
   ],
   "source": [
    "result"
   ]
  },
  {
   "cell_type": "code",
   "execution_count": 48,
   "metadata": {},
   "outputs": [],
   "source": [
    "quotation = pd.read_excel(r\"D:\\客戶\\信昌\\信昌-佳邦料號對照表.xlsx\")"
   ]
  },
  {
   "cell_type": "code",
   "execution_count": 49,
   "metadata": {},
   "outputs": [],
   "source": [
    "quotation = quotation[['佳邦part no.', '單價-K']]"
   ]
  },
  {
   "cell_type": "code",
   "execution_count": 50,
   "metadata": {},
   "outputs": [],
   "source": [
    "quotation = quotation.dropna(how='any')"
   ]
  },
  {
   "cell_type": "code",
   "execution_count": 51,
   "metadata": {},
   "outputs": [],
   "source": [
    "quotation.columns = ['品名', '美金單價']"
   ]
  },
  {
   "cell_type": "code",
   "execution_count": 52,
   "metadata": {},
   "outputs": [],
   "source": [
    "final = pd.merge(result, quotation, on=['品名'], how='left')"
   ]
  },
  {
   "cell_type": "code",
   "execution_count": 53,
   "metadata": {},
   "outputs": [],
   "source": [
    "final.to_excel(r\"C:\\Users\\kaihsu\\Desktop\\信昌價格表20210105.xlsx\", index=False)"
   ]
  },
  {
   "cell_type": "code",
   "execution_count": null,
   "metadata": {},
   "outputs": [],
   "source": [
    "df1 = df.drop_duplicates(subset=['銷售單號', '項次', '品名'], keep='first')\n",
    "df2 = df.drop_duplicates(subset=['銷售單號', '項次', '品名'], keep=False)\n",
    "result = pd.DataFrame(df1.append(df2).drop_duplicates(keep=False))\n",
    "result"
   ]
  },
  {
   "cell_type": "code",
   "execution_count": null,
   "metadata": {},
   "outputs": [],
   "source": [
    "df1['負責業務'].unique()"
   ]
  },
  {
   "cell_type": "code",
   "execution_count": null,
   "metadata": {},
   "outputs": [],
   "source": [
    "mohan = df1[(df1['狀態'] != '合約') & (df1['負責業務'].isin(['許凱智', '楊婉芬', '周彥宏', '鄭里緗', '墨漢雷迪'])) & (df1['出通單號'].notna()) & (df1['預交日期'].between('2020-12-01', '2021-01-01'))]"
   ]
  },
  {
   "cell_type": "code",
   "execution_count": null,
   "metadata": {},
   "outputs": [],
   "source": [
    "mohan_group = mohan.groupby(['預交日期', '銷售單號', '項次', '客戶名稱', '品名', '出通單號', '負責業務'])[['數量', '已出數量', '未出數', '金額*集團匯率(NTD)']].sum().reset_index()"
   ]
  },
  {
   "cell_type": "code",
   "execution_count": null,
   "metadata": {},
   "outputs": [],
   "source": [
    "mohan_group['金額*集團匯率(NTD)'].sum()"
   ]
  },
  {
   "cell_type": "code",
   "execution_count": null,
   "metadata": {},
   "outputs": [],
   "source": [
    "mohan_group.to_excel(r\"C:\\Users\\kaihsu\\Desktop\\莫漢12月天線.xlsx\", index=False)"
   ]
  },
  {
   "cell_type": "code",
   "execution_count": null,
   "metadata": {},
   "outputs": [],
   "source": [
    "dropped = df.drop_duplicates(keep='first')\n",
    "no_keep = df.drop_duplicates(keep=False)\n",
    "cll = pd.DataFrame(dropped.append(no_keep).drop_duplicates(keep=False))\n",
    "cll[cll['預交日期'] >= '2020-01-01']"
   ]
  },
  {
   "cell_type": "code",
   "execution_count": null,
   "metadata": {},
   "outputs": [],
   "source": []
  },
  {
   "cell_type": "code",
   "execution_count": null,
   "metadata": {
    "scrolled": true
   },
   "outputs": [],
   "source": [
    "df = pd.read_clipboard()\n",
    "df.describe().T"
   ]
  },
  {
   "cell_type": "code",
   "execution_count": null,
   "metadata": {},
   "outputs": [],
   "source": [
    "tabula.read_pdf(r\"C:\\Users\\kaihsu\\Desktop\\test.pdf\", pages='all')"
   ]
  }
 ],
 "metadata": {
  "kernelspec": {
   "display_name": "Python 3",
   "language": "python",
   "name": "python3"
  },
  "language_info": {
   "codemirror_mode": {
    "name": "ipython",
    "version": 3
   },
   "file_extension": ".py",
   "mimetype": "text/x-python",
   "name": "python",
   "nbconvert_exporter": "python",
   "pygments_lexer": "ipython3",
   "version": "3.8.5"
  }
 },
 "nbformat": 4,
 "nbformat_minor": 4
}
