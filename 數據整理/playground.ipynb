{
 "cells": [
  {
   "cell_type": "code",
   "execution_count": null,
   "metadata": {},
   "outputs": [],
   "source": [
    "import pandas as pd\n",
    "pd.set_option(\"display.max_rows\", 8)\n",
    "pd.set_option(\"display.max_columns\", None)\n",
    "import tkinter as tk\n",
    "from tkinter import filedialog"
   ]
  },
  {
   "cell_type": "code",
   "execution_count": null,
   "metadata": {
    "scrolled": true
   },
   "outputs": [],
   "source": [
    "class TestArea():\n",
    "    root = tk.Tk()\n",
    "    root.withdraw()\n",
    "    print(\"請選擇要開啟的檔案\")\n",
    "    file_path = filedialog.askopenfilename()\n",
    "    DATA = pd.read_excel(file_path, None)\n",
    "    sheet_dict = {}\n",
    "    for k, v in enumerate(list(DATA.keys())):\n",
    "        sheet_dict.setdefault(k+1, v)\n",
    "    for k, v in sheet_dict.items():\n",
    "        print(k, v)\n",
    "    print(\"請選擇要開啟的活頁簿\")\n",
    "    slct_sheet = eval(input(\"\"))    \n",
    "    sheet_name = sheet_dict[slct_sheet]\n",
    "    DATA = pd.read_excel(file_path, sheet_name = sheet_name)\n",
    "    def __init__(self, name, age, data=DATA):\n",
    "        self.name = name\n",
    "        self.age = age\n",
    "        self.data = data\n",
    "        \n",
    "    def antenna_preprocessing(self):\n",
    "        return self.data[self.data[\"負責業務\"].isin([\"許凱智\"])]\n",
    "        \n"
   ]
  },
  {
   "cell_type": "code",
   "execution_count": null,
   "metadata": {
    "scrolled": true
   },
   "outputs": [],
   "source": [
    "x = TestArea(\"Kai\", 20)"
   ]
  },
  {
   "cell_type": "code",
   "execution_count": null,
   "metadata": {
    "scrolled": false
   },
   "outputs": [],
   "source": [
    "x.antenna_preprocessing()"
   ]
  },
  {
   "cell_type": "code",
   "execution_count": null,
   "metadata": {},
   "outputs": [],
   "source": []
  }
 ],
 "metadata": {
  "kernelspec": {
   "display_name": "Python 3",
   "language": "python",
   "name": "python3"
  },
  "language_info": {
   "codemirror_mode": {
    "name": "ipython",
    "version": 3
   },
   "file_extension": ".py",
   "mimetype": "text/x-python",
   "name": "python",
   "nbconvert_exporter": "python",
   "pygments_lexer": "ipython3",
   "version": "3.8.5"
  }
 },
 "nbformat": 4,
 "nbformat_minor": 4
}
