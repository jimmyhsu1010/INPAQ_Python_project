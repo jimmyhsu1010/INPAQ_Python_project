{
 "cells": [
  {
   "cell_type": "code",
   "execution_count": 1,
   "metadata": {},
   "outputs": [],
   "source": [
    "import pandas as pd\n",
    "pd.set_option('display.max_rows', 10)\n",
    "pd.set_option('display.max_columns', None)\n",
    "pd.set_option('display.float_format', lambda x: '%.0f' % x)\n",
    "from plotly.offline import iplot, init_notebook_mode\n",
    "import plotly.express as px\n",
    "import plotly.figure_factory as ff\n",
    "import plotly.graph_objs as go\n",
    "import re\n"
   ]
  },
  {
   "cell_type": "markdown",
   "metadata": {},
   "source": [
    "## 數據前處理階段"
   ]
  },
  {
   "cell_type": "code",
   "execution_count": 2,
   "metadata": {},
   "outputs": [],
   "source": [
    "# sales = pd.read_excel('/Users/kai/Desktop/Weekly report_v0.1.xlsx', sheet_name='出貨明細') # Mac使用\n",
    "sales = pd.read_excel(r'C:\\Users\\kaihsu\\Desktop\\業績總表\\Weekly report_v0.1.xlsx', sheet_name='出貨明細')\n",
    "# budget = pd.read_excel('/Users/kai/Desktop/Weekly report_v0.1.xlsx', sheet_name='2020預算', usecols='A:F') # Mac使用\n",
    "# budget = pd.read_excel(r'C:\\Users\\kaihsu\\Desktop\\業績總表\\Weekly report_v0.1.xlsx', sheet_name='2020預算', usecols='A:F')"
   ]
  },
  {
   "cell_type": "code",
   "execution_count": null,
   "metadata": {},
   "outputs": [],
   "source": [
    "# sales['Size'] = sales['產品分類'].str.extract('([0-9]+)\\w', expand=True)"
   ]
  },
  {
   "cell_type": "code",
   "execution_count": null,
   "metadata": {},
   "outputs": [],
   "source": [
    "sales = sales.query('預交年份 == (2019,2020)')"
   ]
  },
  {
   "cell_type": "code",
   "execution_count": null,
   "metadata": {
    "scrolled": true
   },
   "outputs": [],
   "source": [
    "sales['預交日期'] = sales['預交日期'].apply(lambda x:x.strftime('%Y-%m'))"
   ]
  },
  {
   "cell_type": "code",
   "execution_count": null,
   "metadata": {},
   "outputs": [],
   "source": [
    "df = sales.groupby(['Group','預交日期'])[['數量', '本國幣別NTD']].sum().reset_index()"
   ]
  },
  {
   "cell_type": "code",
   "execution_count": null,
   "metadata": {
    "scrolled": true
   },
   "outputs": [],
   "source": [
    "df"
   ]
  },
  {
   "cell_type": "code",
   "execution_count": null,
   "metadata": {},
   "outputs": [],
   "source": [
    "df[['數量', '本國幣別NTD']].describe()"
   ]
  },
  {
   "cell_type": "code",
   "execution_count": null,
   "metadata": {},
   "outputs": [],
   "source": [
    "df = df.query('Group == \"華新科技\"')\n",
    "fig_total = px.scatter(df, x='數量', y='本國幣別NTD',\n",
    "                       size='本國幣別NTD', text='Group',\n",
    "                       color='Group',\n",
    "                       animation_frame='預交日期',\n",
    "                       range_x=[-10, 30000000],\n",
    "                       range_y=[0, 3000000],\n",
    "                       color_discrete_sequence=px.colors.qualitative.D3,\n",
    "                       size_max=50,\n",
    "                       hover_name='Group'\n",
    "                       )\n",
    "fig_total.show()"
   ]
  },
  {
   "cell_type": "code",
   "execution_count": null,
   "metadata": {},
   "outputs": [],
   "source": [
    "sales['品名'].str.extract('(^\\D+[0-9]+)([A-Z]+)')"
   ]
  },
  {
   "cell_type": "code",
   "execution_count": null,
   "metadata": {},
   "outputs": [],
   "source": [
    "budget.insert(2, 'BU', value=budget.apply(lambda x: 'RF' if 'RF' in x['客戶名稱'] else 'Component', axis=1))"
   ]
  },
  {
   "cell_type": "code",
   "execution_count": null,
   "metadata": {},
   "outputs": [],
   "source": [
    "budget['客戶名稱'] = budget['客戶名稱'].str.replace(' RF', '')"
   ]
  },
  {
   "cell_type": "code",
   "execution_count": null,
   "metadata": {},
   "outputs": [],
   "source": [
    "client_dict = {'Bourns': 'Bourns', 'Eaton': 'Eaton', 'Laird': 'Laird', 'LF': 'LF', 'LF-OEM': 'LF ORM', 'WE': 'WE',\n",
    "               '信昌': '信昌', '東莞弘電': '東莞弘電', '藝感': '藝感', '華科': '華新科技',\n",
    "               'Mt System(Component)': 'MT-SYSTEM', 'Teltonika(Component)': 'TELTONIKA', 'Mt System(RF)': 'MT-SYSTEM',\n",
    "               'Teltonika(RF)': 'TELTONIKA', 'Te(RF)': 'TE', 'Credence(India)': 'Credence',\n",
    "               'Millenium(India)': 'Millenium', 'Nexty(India)': 'Nexty', 'OSE(India)': 'OSE', 'Others/One Time PO(India)': 'Others/One Time PO(India)'}\n",
    "budget['客戶名稱'] = budget['客戶名稱'].map(client_dict)"
   ]
  },
  {
   "cell_type": "code",
   "execution_count": null,
   "metadata": {
    "scrolled": true
   },
   "outputs": [],
   "source": [
    "sales = sales[~sales['狀態'].str.contains('待通知 | 合約')]"
   ]
  },
  {
   "cell_type": "markdown",
   "metadata": {},
   "source": [
    "## 隨便亂打區"
   ]
  },
  {
   "cell_type": "code",
   "execution_count": null,
   "metadata": {},
   "outputs": [],
   "source": [
    "x = sales.groupby(['預交年份', '預交月份', '負責業務', 'BG'])[['本國幣別NTD']].sum().reset_index()\n",
    "month_order = ['January', 'February', 'March', 'April', 'May', 'June', 'July',\n",
    "               'August', 'September', 'October', 'November', 'December']\n",
    "x['預交月份'] = pd.Categorical(x['預交月份'], ordered=True, categories=month_order)\n",
    "x = x.sort_values(by='預交月份').reset_index()"
   ]
  },
  {
   "cell_type": "code",
   "execution_count": null,
   "metadata": {
    "scrolled": true
   },
   "outputs": [],
   "source": [
    "df = sales[['BG', 'Group', '狀態', '開單日期', '預交日期', '負責業務', '品名', '數量', '本國幣別NTD', '客戶料號']]"
   ]
  },
  {
   "cell_type": "code",
   "execution_count": null,
   "metadata": {},
   "outputs": [],
   "source": [
    "test = pd.pivot_table(df, index=['負責業務', 'Group', 'BG'], values=['本國幣別NTD', '數量'], aggfunc={'本國幣別NTD': sum, '數量': sum}).reset_index()"
   ]
  },
  {
   "cell_type": "code",
   "execution_count": null,
   "metadata": {
    "scrolled": true
   },
   "outputs": [],
   "source": [
    "test = test.style.format({'本國幣別NTD':'{0:,.0f}'}).highlight_max(color='green')"
   ]
  },
  {
   "cell_type": "code",
   "execution_count": null,
   "metadata": {},
   "outputs": [],
   "source": [
    "x = test['負責業務'].tolist()\n",
    "y = test['本國幣別NTD'].tolist()"
   ]
  },
  {
   "cell_type": "markdown",
   "metadata": {},
   "source": [
    "## Treemap"
   ]
  },
  {
   "cell_type": "code",
   "execution_count": null,
   "metadata": {},
   "outputs": [],
   "source": [
    "sales[(sales['負責業務'] == '許凱智') & (sales['預交年份'].isin([2019,2020])) & (sales['Group'].isin(['TELTONIKA', 'MT-SYSTEM']))]"
   ]
  },
  {
   "cell_type": "code",
   "execution_count": null,
   "metadata": {},
   "outputs": [],
   "source": [
    "test = sales[(sales['負責業務'] == '許凱智') & (sales['預交年份'].isin([2019,2020])) & (sales['Group'].isin(['TELTONIKA', 'MT-SYSTEM']))].groupby(['預交年份', 'Group', 'BG', '預交月份', '品名'])[['數量', '本國幣別NTD']].sum().reset_index()"
   ]
  },
  {
   "cell_type": "code",
   "execution_count": null,
   "metadata": {},
   "outputs": [],
   "source": [
    "test.columns = ['Year', 'Company', 'Category', 'Month', 'Part number', 'Quantity', 'Revenue in NTD']"
   ]
  },
  {
   "cell_type": "code",
   "execution_count": null,
   "metadata": {},
   "outputs": [],
   "source": [
    "data = test.query('Year == 2020 and Company == \"MT-SYSTEM\" and Category == \"RF\"')\n",
    "data = data[['Quantity']]"
   ]
  },
  {
   "cell_type": "code",
   "execution_count": null,
   "metadata": {},
   "outputs": [],
   "source": [
    "test1 = test.groupby(['Year', 'Company', 'Month', 'Category', 'Part number'])[['Quantity', 'Revenue in NTD']].sum().reset_index()"
   ]
  },
  {
   "cell_type": "code",
   "execution_count": null,
   "metadata": {},
   "outputs": [],
   "source": [
    "fig1 = px.treemap(test1, path=['Year', 'Company', 'Month', 'Category', 'Part number'], values='Revenue in NTD',\n",
    "                color='Quantity', color_continuous_scale='RdBu'\n",
    "                )\n",
    "fig1.show()\n",
    "with open('MT-SYSTEM.html', 'w') as f:\n",
    "    f.write(fig.to_html(full_html=False, include_plotlyjs='cdn'))\n",
    "    f.close()"
   ]
  },
  {
   "cell_type": "code",
   "execution_count": null,
   "metadata": {},
   "outputs": [],
   "source": [
    "fig = px.treemap(test, path=['預交年份', '預交月份', '負責業務', 'Group', 'BG'], values='本國幣別NTD',\n",
    "                color='數量', color_continuous_scale='RdBu'\n",
    "                )\n",
    "fig.show()"
   ]
  },
  {
   "cell_type": "code",
   "execution_count": null,
   "metadata": {},
   "outputs": [],
   "source": [
    "test1 = test.query('Group == [\"TELTONIKA\", \"MT-SYSTEM\"]')\n",
    "fig = px.treemap(test1, path=['預交年份', 'Group', 'BG'], values='本國幣別NTD',\n",
    "                color='數量', color_continuous_scale='RdBu'\n",
    "                )\n",
    "fig.show()"
   ]
  },
  {
   "cell_type": "markdown",
   "metadata": {},
   "source": [
    "## Line plot"
   ]
  },
  {
   "cell_type": "code",
   "execution_count": null,
   "metadata": {},
   "outputs": [],
   "source": [
    "from sklearn.preprocessing import StandardScaler\n",
    "# ss = StandardScaler()\n",
    "# ss.fit_transform(x['本國幣別NTD'])\n",
    "x['std'] = preprocessing.scale(x['本國幣別NTD'])"
   ]
  },
  {
   "cell_type": "code",
   "execution_count": null,
   "metadata": {},
   "outputs": [],
   "source": [
    "hist = px.histogram(x, x='預交月份', y='本國幣別NTD', facet_col='預交年份', facet_row='負責業務',\n",
    "                    category_orders={'預交年份':[2019,2020,2021,2022]},\n",
    "                   labels={'本國幣別NTD':'營業額', '預交月份':'月份'})\n",
    "hist.show()"
   ]
  },
  {
   "cell_type": "code",
   "execution_count": null,
   "metadata": {},
   "outputs": [],
   "source": [
    "line = px.line(x, x='預交月份', y='本國幣別NTD',color='預交年份', category_orders={'預交月份':month_order}, facet_col='負責業務', facet_row='BG')\n",
    "line.show()"
   ]
  },
  {
   "cell_type": "code",
   "execution_count": null,
   "metadata": {},
   "outputs": [],
   "source": [
    "line_plot = test.groupby(['預交年份', '預交月份', '負責業務'])[['本國幣別NTD']].sum().reset_index()\n",
    "month_order = ['January', 'February', 'March', 'April', 'May', 'June', 'July',\n",
    "               'August', 'September', 'October', 'November', 'December']\n",
    "line_plot['預交月份'] = pd.Categorical(line_plot['預交月份'], ordered=True, categories=month_order)\n",
    "line_plot = line_plot.sort_values(by='預交月份')"
   ]
  },
  {
   "cell_type": "code",
   "execution_count": null,
   "metadata": {},
   "outputs": [],
   "source": [
    "line = px.line(line_plot, x='預交月份', y='本國幣別NTD', color='預交年份', category_orders={'預交月份':month_order}, facet_col='負責業務')\n",
    "line.show()"
   ]
  },
  {
   "cell_type": "markdown",
   "metadata": {},
   "source": [
    "## Bar plot"
   ]
  },
  {
   "cell_type": "code",
   "execution_count": null,
   "metadata": {},
   "outputs": [],
   "source": [
    "df = test.query('預交年份 == (2020, 2019, 2021)')\n",
    "df = df.groupby(['預交年份', '負責業務', '預交月份'])[['本國幣別NTD']].sum().reset_index()\n",
    "df['預交年份'] = df['預交年份'].astype(str)\n",
    "bar = px.bar(df, x='預交月份', y='本國幣別NTD', color='預交年份', barmode='group',\n",
    "             category_orders={'預交月份':month_order}, facet_col='負責業務'\n",
    "            )\n",
    "bar.show()"
   ]
  },
  {
   "cell_type": "markdown",
   "metadata": {},
   "source": [
    "## Box Plot\n"
   ]
  },
  {
   "cell_type": "code",
   "execution_count": null,
   "metadata": {},
   "outputs": [],
   "source": [
    "data = sales.query('預交年份 == 2020')\n",
    "data = data.groupby(['銷售單號', 'Group'])[['本國幣別NTD']].sum().reset_index()\n",
    "fig = px.box(data, x='Group', y= '本國幣別NTD')\n",
    "fig.show()"
   ]
  },
  {
   "cell_type": "markdown",
   "metadata": {},
   "source": [
    "## Histogram"
   ]
  },
  {
   "cell_type": "code",
   "execution_count": null,
   "metadata": {},
   "outputs": [],
   "source": [
    "df = sales.query('預交年份 == 2020 and Group == \"Eaton\"')\n",
    "df = df.groupby(['銷售單號'])[['本國幣別NTD']].sum().reset_index()"
   ]
  },
  {
   "cell_type": "code",
   "execution_count": null,
   "metadata": {},
   "outputs": [],
   "source": [
    "\n",
    "fig = px.histogram(df, x='本國幣別NTD')\n",
    "fig.show()"
   ]
  },
  {
   "cell_type": "code",
   "execution_count": null,
   "metadata": {},
   "outputs": [],
   "source": [
    "from sklearn import preprocessing\n",
    "\n",
    "df['std'] = preprocessing.scale(df['本國幣別NTD'])"
   ]
  },
  {
   "cell_type": "code",
   "execution_count": null,
   "metadata": {},
   "outputs": [],
   "source": [
    "df['本國幣別NTD'].describe()"
   ]
  },
  {
   "cell_type": "code",
   "execution_count": null,
   "metadata": {},
   "outputs": [],
   "source": [
    "import plotly.figure_factory as ff\n",
    "\n",
    "hist_data = [df['std']]\n",
    "# fig = ff.create_distplot(hist_data, group_labels='Test')\n",
    "hist_data\n"
   ]
  },
  {
   "cell_type": "markdown",
   "metadata": {},
   "source": [
    "## 將多個figures結合成一份HTML"
   ]
  },
  {
   "cell_type": "code",
   "execution_count": null,
   "metadata": {},
   "outputs": [],
   "source": [
    "with open('test.html', 'a') as f:\n",
    "    f.write(fig.to_html(full_html=False, include_plotlyjs='cdn'))\n",
    "    f.write(line.to_html(full_html=False, include_plotlyjs='cdn'))\n",
    "    f.write(bar.to_html(full_html=False, include_plotlyjs='cdn'))\n",
    "    f.close()"
   ]
  },
  {
   "cell_type": "markdown",
   "metadata": {},
   "source": [
    "## Plotly graph_objs實作"
   ]
  },
  {
   "cell_type": "code",
   "execution_count": 3,
   "metadata": {},
   "outputs": [],
   "source": [
    "df = sales.groupby(['預交日期', '負責業務', 'BG', 'Group', '品名'])[['數量', '本國幣別NTD']].sum().reset_index()"
   ]
  },
  {
   "cell_type": "code",
   "execution_count": 5,
   "metadata": {},
   "outputs": [],
   "source": [
    "line_plot = df.groupby(['預交日期', '負責業務'])[['數量', '本國幣別NTD']].sum().reset_index().sort_values(by='預交日期')"
   ]
  },
  {
   "cell_type": "code",
   "execution_count": 8,
   "metadata": {},
   "outputs": [],
   "source": [
    "df['日期'] = df['預交日期'].dt.strftime('%Y-%m')"
   ]
  },
  {
   "cell_type": "code",
   "execution_count": 18,
   "metadata": {},
   "outputs": [],
   "source": [
    "sum_table = df.groupby(['日期', '負責業務', 'BG'])[['數量', '本國幣別NTD']].sum().reset_index()\n",
    "sum_table.columns=['Year/Month', 'Sales', 'BU', 'Qty.', 'Revenue']"
   ]
  },
  {
   "cell_type": "code",
   "execution_count": 24,
   "metadata": {},
   "outputs": [],
   "source": [
    "sum_table['Qty.'] = sum_table['Qty.'].astype('int')\n",
    "sum_table['Revenue'] = sum_table['Revenue'].astype('int')"
   ]
  },
  {
   "cell_type": "code",
   "execution_count": 20,
   "metadata": {},
   "outputs": [],
   "source": [
    "from plotly.subplots import make_subplots"
   ]
  },
  {
   "cell_type": "code",
   "execution_count": 25,
   "metadata": {
    "collapsed": true
   },
   "outputs": [
    {
     "data": {
      "application/vnd.plotly.v1+json": {
       "config": {
        "plotlyServerURL": "https://plot.ly"
       },
       "data": [
        {
         "cells": {
          "values": [
           [
            "2019-01",
            "2019-01",
            "2019-01",
            "2019-01",
            "2019-01",
            "2019-01",
            "2019-01",
            "2019-02",
            "2019-02",
            "2019-02",
            "2019-02",
            "2019-02",
            "2019-02",
            "2019-02",
            "2019-03",
            "2019-03",
            "2019-03",
            "2019-03",
            "2019-03",
            "2019-03",
            "2019-03",
            "2019-03",
            "2019-03",
            "2019-03",
            "2019-04",
            "2019-04",
            "2019-04",
            "2019-04",
            "2019-04",
            "2019-04",
            "2019-04",
            "2019-04",
            "2019-04",
            "2019-04",
            "2019-05",
            "2019-05",
            "2019-05",
            "2019-05",
            "2019-05",
            "2019-05",
            "2019-05",
            "2019-05",
            "2019-05",
            "2019-05",
            "2019-05",
            "2019-06",
            "2019-06",
            "2019-06",
            "2019-06",
            "2019-06",
            "2019-06",
            "2019-06",
            "2019-06",
            "2019-06",
            "2019-07",
            "2019-07",
            "2019-07",
            "2019-07",
            "2019-07",
            "2019-07",
            "2019-07",
            "2019-07",
            "2019-07",
            "2019-07",
            "2019-08",
            "2019-08",
            "2019-08",
            "2019-08",
            "2019-08",
            "2019-08",
            "2019-08",
            "2019-08",
            "2019-08",
            "2019-09",
            "2019-09",
            "2019-09",
            "2019-09",
            "2019-09",
            "2019-09",
            "2019-09",
            "2019-09",
            "2019-09",
            "2019-09",
            "2019-10",
            "2019-10",
            "2019-10",
            "2019-10",
            "2019-10",
            "2019-10",
            "2019-10",
            "2019-10",
            "2019-10",
            "2019-10",
            "2019-11",
            "2019-11",
            "2019-11",
            "2019-11",
            "2019-11",
            "2019-11",
            "2019-11",
            "2019-11",
            "2019-11",
            "2019-11",
            "2019-12",
            "2019-12",
            "2019-12",
            "2019-12",
            "2019-12",
            "2019-12",
            "2019-12",
            "2019-12",
            "2019-12",
            "2019-12",
            "2020-01",
            "2020-01",
            "2020-01",
            "2020-01",
            "2020-01",
            "2020-01",
            "2020-01",
            "2020-01",
            "2020-01",
            "2020-02",
            "2020-02",
            "2020-02",
            "2020-02",
            "2020-02",
            "2020-02",
            "2020-02",
            "2020-02",
            "2020-03",
            "2020-03",
            "2020-03",
            "2020-03",
            "2020-03",
            "2020-03",
            "2020-03",
            "2020-03",
            "2020-03",
            "2020-03",
            "2020-04",
            "2020-04",
            "2020-04",
            "2020-04",
            "2020-04",
            "2020-04",
            "2020-04",
            "2020-04",
            "2020-04",
            "2020-05",
            "2020-05",
            "2020-05",
            "2020-05",
            "2020-05",
            "2020-05",
            "2020-05",
            "2020-05",
            "2020-05",
            "2020-06",
            "2020-06",
            "2020-06",
            "2020-06",
            "2020-06",
            "2020-06",
            "2020-06",
            "2020-06",
            "2020-06",
            "2020-06",
            "2020-06",
            "2020-07",
            "2020-07",
            "2020-07",
            "2020-07",
            "2020-07",
            "2020-07",
            "2020-07",
            "2020-07",
            "2020-07",
            "2020-07",
            "2020-07",
            "2020-07",
            "2020-08",
            "2020-08",
            "2020-08",
            "2020-08",
            "2020-08",
            "2020-08",
            "2020-08",
            "2020-08",
            "2020-08",
            "2020-08",
            "2020-08",
            "2020-09",
            "2020-09",
            "2020-09",
            "2020-09",
            "2020-09",
            "2020-09",
            "2020-09",
            "2020-09",
            "2020-09",
            "2020-09",
            "2020-09",
            "2020-09",
            "2020-10",
            "2020-10",
            "2020-10",
            "2020-10",
            "2020-10",
            "2020-10",
            "2020-10",
            "2020-10",
            "2020-10",
            "2020-10",
            "2020-10",
            "2020-11",
            "2020-11",
            "2020-11",
            "2020-11",
            "2020-11",
            "2020-11",
            "2020-11",
            "2020-11",
            "2020-11",
            "2020-11",
            "2020-11",
            "2020-12",
            "2020-12",
            "2020-12",
            "2020-12",
            "2020-12",
            "2020-12",
            "2020-12",
            "2020-12",
            "2020-12",
            "2020-12",
            "2021-01",
            "2021-01",
            "2021-01",
            "2021-01",
            "2021-01",
            "2021-01",
            "2021-01",
            "2021-02",
            "2021-02",
            "2021-02",
            "2021-02",
            "2021-02",
            "2021-02",
            "2021-03",
            "2021-03",
            "2021-03",
            "2021-03",
            "2021-03",
            "2021-04",
            "2021-04",
            "2021-05",
            "2021-06",
            "2021-06",
            "2021-07",
            "2021-08",
            "2021-08",
            "2021-09",
            "2021-11",
            "2021-12",
            "2022-01",
            "2022-02",
            "2022-03",
            "2022-04",
            "2022-05"
           ],
           [
            "沈思明",
            "沈思明",
            "沈思明",
            "沈思明",
            "許凱智",
            "許凱智",
            "許凱智",
            "沈思明",
            "沈思明",
            "沈思明",
            "沈思明",
            "許凱智",
            "許凱智",
            "許凱智",
            "沈思明",
            "沈思明",
            "沈思明",
            "沈思明",
            "沈思明",
            "許凱智",
            "許凱智",
            "許凱智",
            "許凱智",
            "許凱智",
            "墨漢雷迪",
            "沈思明",
            "沈思明",
            "沈思明",
            "沈思明",
            "沈思明",
            "許凱智",
            "許凱智",
            "許凱智",
            "許凱智",
            "墨漢雷迪",
            "沈思明",
            "沈思明",
            "沈思明",
            "沈思明",
            "沈思明",
            "沈思明",
            "許凱智",
            "許凱智",
            "許凱智",
            "許凱智",
            "沈思明",
            "沈思明",
            "沈思明",
            "沈思明",
            "沈思明",
            "許凱智",
            "許凱智",
            "許凱智",
            "許凱智",
            "沈思明",
            "沈思明",
            "沈思明",
            "沈思明",
            "沈思明",
            "沈思明",
            "許凱智",
            "許凱智",
            "許凱智",
            "許凱智",
            "沈思明",
            "沈思明",
            "沈思明",
            "沈思明",
            "沈思明",
            "許凱智",
            "許凱智",
            "許凱智",
            "許凱智",
            "沈思明",
            "沈思明",
            "沈思明",
            "沈思明",
            "沈思明",
            "沈思明",
            "許凱智",
            "許凱智",
            "許凱智",
            "許凱智",
            "墨漢雷迪",
            "沈思明",
            "沈思明",
            "沈思明",
            "沈思明",
            "沈思明",
            "許凱智",
            "許凱智",
            "許凱智",
            "許凱智",
            "墨漢雷迪",
            "沈思明",
            "沈思明",
            "沈思明",
            "沈思明",
            "沈思明",
            "許凱智",
            "許凱智",
            "許凱智",
            "許凱智",
            "墨漢雷迪",
            "沈思明",
            "沈思明",
            "沈思明",
            "沈思明",
            "沈思明",
            "許凱智",
            "許凱智",
            "許凱智",
            "許凱智",
            "沈思明",
            "沈思明",
            "沈思明",
            "沈思明",
            "沈思明",
            "許凱智",
            "許凱智",
            "許凱智",
            "許凱智",
            "沈思明",
            "沈思明",
            "沈思明",
            "沈思明",
            "許凱智",
            "許凱智",
            "許凱智",
            "許凱智",
            "墨漢雷迪",
            "沈思明",
            "沈思明",
            "沈思明",
            "沈思明",
            "沈思明",
            "許凱智",
            "許凱智",
            "許凱智",
            "許凱智",
            "沈思明",
            "沈思明",
            "沈思明",
            "沈思明",
            "沈思明",
            "許凱智",
            "許凱智",
            "許凱智",
            "許凱智",
            "沈思明",
            "沈思明",
            "沈思明",
            "沈思明",
            "沈思明",
            "許凱智",
            "許凱智",
            "許凱智",
            "許凱智",
            "墨漢雷迪",
            "沈思明",
            "沈思明",
            "沈思明",
            "沈思明",
            "沈思明",
            "沈思明",
            "許凱智",
            "許凱智",
            "許凱智",
            "許凱智",
            "墨漢雷迪",
            "沈思明",
            "沈思明",
            "沈思明",
            "沈思明",
            "沈思明",
            "沈思明",
            "許凱智",
            "許凱智",
            "許凱智",
            "許凱智",
            "許凱智",
            "墨漢雷迪",
            "墨漢雷迪",
            "沈思明",
            "沈思明",
            "沈思明",
            "沈思明",
            "沈思明",
            "許凱智",
            "許凱智",
            "許凱智",
            "許凱智",
            "墨漢雷迪",
            "沈思明",
            "沈思明",
            "沈思明",
            "沈思明",
            "沈思明",
            "沈思明",
            "許凱智",
            "許凱智",
            "許凱智",
            "許凱智",
            "許凱智",
            "墨漢雷迪",
            "沈思明",
            "沈思明",
            "沈思明",
            "沈思明",
            "沈思明",
            "沈思明",
            "許凱智",
            "許凱智",
            "許凱智",
            "許凱智",
            "墨漢雷迪",
            "沈思明",
            "沈思明",
            "沈思明",
            "沈思明",
            "沈思明",
            "許凱智",
            "許凱智",
            "許凱智",
            "許凱智",
            "許凱智",
            "墨漢雷迪",
            "沈思明",
            "沈思明",
            "沈思明",
            "沈思明",
            "沈思明",
            "許凱智",
            "許凱智",
            "許凱智",
            "許凱智",
            "沈思明",
            "沈思明",
            "沈思明",
            "沈思明",
            "許凱智",
            "許凱智",
            "許凱智",
            "沈思明",
            "沈思明",
            "沈思明",
            "沈思明",
            "許凱智",
            "許凱智",
            "沈思明",
            "沈思明",
            "沈思明",
            "許凱智",
            "許凱智",
            "沈思明",
            "許凱智",
            "許凱智",
            "沈思明",
            "許凱智",
            "許凱智",
            "沈思明",
            "許凱智",
            "許凱智",
            "許凱智",
            "許凱智",
            "許凱智",
            "許凱智",
            "許凱智",
            "許凱智",
            "許凱智"
           ],
           [
            "EMC",
            "ODM",
            "PC",
            "WIP",
            "EMC",
            "RF",
            "WIP",
            "EMC",
            "ODM",
            "PC",
            "WIP",
            "EMC",
            "RF",
            "WIP",
            "EMC",
            "ODM",
            "Others",
            "PC",
            "WIP",
            "EMC",
            "Others",
            "PC",
            "RF",
            "WIP",
            "RF",
            "EMC",
            "ODM",
            "Others",
            "PC",
            "WIP",
            "EMC",
            "PC",
            "RF",
            "WIP",
            "RF",
            "EMC",
            "ODM",
            "Others",
            "PC",
            "RF",
            "WIP",
            "EMC",
            "PC",
            "RF",
            "WIP",
            "EMC",
            "ODM",
            "PC",
            "RF",
            "WIP",
            "EMC",
            "PC",
            "RF",
            "WIP",
            "EMC",
            "ODM",
            "Others",
            "PC",
            "RF",
            "WIP",
            "EMC",
            "PC",
            "RF",
            "WIP",
            "EMC",
            "ODM",
            "PC",
            "RF",
            "WIP",
            "EMC",
            "PC",
            "RF",
            "WIP",
            "EMC",
            "ODM",
            "Others",
            "PC",
            "RF",
            "WIP",
            "EMC",
            "PC",
            "RF",
            "WIP",
            "PC",
            "EMC",
            "ODM",
            "PC",
            "RF",
            "WIP",
            "EMC",
            "PC",
            "RF",
            "WIP",
            "RF",
            "EMC",
            "ODM",
            "PC",
            "RF",
            "WIP",
            "EMC",
            "PC",
            "RF",
            "WIP",
            "RF",
            "EMC",
            "ODM",
            "PC",
            "RF",
            "WIP",
            "EMC",
            "PC",
            "RF",
            "WIP",
            "EMC",
            "ODM",
            "PC",
            "RF",
            "WIP",
            "EMC",
            "PC",
            "RF",
            "WIP",
            "EMC",
            "ODM",
            "PC",
            "WIP",
            "EMC",
            "PC",
            "RF",
            "WIP",
            "Others",
            "EMC",
            "ODM",
            "PC",
            "RF",
            "WIP",
            "EMC",
            "PC",
            "RF",
            "WIP",
            "EMC",
            "ODM",
            "PC",
            "RF",
            "WIP",
            "EMC",
            "PC",
            "RF",
            "WIP",
            "EMC",
            "ODM",
            "PC",
            "RF",
            "WIP",
            "EMC",
            "PC",
            "RF",
            "WIP",
            "RF",
            "EMC",
            "ODM",
            "Others",
            "PC",
            "RF",
            "WIP",
            "EMC",
            "PC",
            "RF",
            "WIP",
            "RF",
            "EMC",
            "ODM",
            "Others",
            "PC",
            "RF",
            "WIP",
            "EMC",
            "Others",
            "PC",
            "RF",
            "WIP",
            "Others",
            "RF",
            "EMC",
            "ODM",
            "Others",
            "PC",
            "WIP",
            "EMC",
            "PC",
            "RF",
            "WIP",
            "RF",
            "EMC",
            "ODM",
            "Others",
            "PC",
            "RF",
            "WIP",
            "EMC",
            "Others",
            "PC",
            "RF",
            "WIP",
            "RF",
            "EMC",
            "ODM",
            "Others",
            "PC",
            "RF",
            "WIP",
            "EMC",
            "PC",
            "RF",
            "WIP",
            "RF",
            "EMC",
            "ODM",
            "PC",
            "RF",
            "WIP",
            "EMC",
            "Others",
            "PC",
            "RF",
            "WIP",
            "RF",
            "EMC",
            "ODM",
            "PC",
            "RF",
            "WIP",
            "EMC",
            "PC",
            "RF",
            "WIP",
            "EMC",
            "PC",
            "RF",
            "WIP",
            "EMC",
            "RF",
            "WIP",
            "EMC",
            "PC",
            "RF",
            "WIP",
            "EMC",
            "WIP",
            "EMC",
            "PC",
            "WIP",
            "EMC",
            "WIP",
            "PC",
            "WIP",
            "WIP",
            "PC",
            "WIP",
            "WIP",
            "PC",
            "WIP",
            "WIP",
            "WIP",
            "WIP",
            "WIP",
            "WIP",
            "WIP",
            "WIP",
            "WIP"
           ],
           [
            3288000,
            17971,
            40818000,
            5460000,
            2618000,
            227800,
            1671000,
            7242000,
            9399,
            32100000,
            3489000,
            151000,
            6000,
            726000,
            8579000,
            2001,
            312,
            48902000,
            2319000,
            1935000,
            5646802,
            183000,
            167200,
            2733000,
            25,
            16449000,
            1544,
            571520,
            30069000,
            2463000,
            5500000,
            34000,
            268020,
            5706000,
            101,
            18640000,
            30747,
            1288,
            25437000,
            24000,
            3015000,
            5034000,
            149000,
            242570,
            5508000,
            9078000,
            78067,
            44457000,
            200000,
            3054000,
            4244000,
            20000,
            185000,
            5667000,
            5076000,
            168550,
            1572,
            55601000,
            568000,
            2814000,
            5495000,
            33000,
            199810,
            9285000,
            3151000,
            53042,
            68085000,
            460000,
            5466000,
            3165000,
            5246000,
            151975,
            2412000,
            1050000,
            144407,
            82,
            57928000,
            660000,
            3498000,
            3852000,
            1958000,
            364256,
            4860000,
            20000,
            2523000,
            142805,
            49160000,
            532000,
            4056000,
            3775000,
            482000,
            45862,
            8553000,
            7000,
            5982000,
            1770,
            50541000,
            224000,
            3921000,
            5057000,
            2508000,
            182000,
            10218000,
            3200,
            1893000,
            21054,
            30191000,
            456000,
            5604000,
            5595000,
            3540000,
            187000,
            4644000,
            20262000,
            1270,
            49922000,
            2000,
            5046000,
            7310500,
            1360040,
            383050,
            2616000,
            9064000,
            40201,
            36281000,
            2397000,
            6701500,
            298000,
            125800,
            3513000,
            1,
            29708000,
            24450,
            52864000,
            80000,
            3702000,
            5682000,
            2776000,
            78400,
            4599000,
            32980000,
            99888,
            53130000,
            352000,
            2853000,
            7851000,
            1350000,
            239290,
            3705000,
            35444000,
            144769,
            57974000,
            216000,
            5751000,
            13603500,
            2014000,
            84710,
            2904000,
            2400,
            38811000,
            76285,
            4,
            59498000,
            352000,
            4665000,
            6558000,
            1422000,
            63308,
            7203000,
            840000,
            32254000,
            243976,
            1,
            65590600,
            680000,
            3999000,
            7567000,
            2,
            6708000,
            156000,
            8880000,
            600,
            2601155,
            40705000,
            188827,
            4,
            63731400,
            2754000,
            4704500,
            9120000,
            187480,
            6162000,
            6125,
            49325000,
            239330,
            2,
            84018000,
            336000,
            3276000,
            11637000,
            1,
            7374000,
            517572,
            6945000,
            360110,
            46836000,
            99613,
            1,
            79449000,
            96000,
            4755000,
            20700000,
            10633000,
            191700,
            13662000,
            10408000,
            33661000,
            178555,
            54233000,
            364000,
            2433000,
            18224000,
            303,
            4850000,
            342100,
            13443000,
            12100,
            23873000,
            2885,
            84936000,
            248000,
            4242000,
            37355000,
            316000,
            1017120,
            18449000,
            10993000,
            36827000,
            400000,
            4602000,
            9012000,
            303000,
            7035000,
            5837000,
            9823000,
            244000,
            1431000,
            3647000,
            7002000,
            5800000,
            420000,
            423000,
            991000,
            7002000,
            90000,
            5997000,
            3489000,
            60000,
            1170000,
            5121000,
            60000,
            2391000,
            999000,
            2199000,
            3006000,
            4008000,
            3498000,
            3039000,
            3342000,
            2532000
           ],
           [
            639601,
            1664223,
            15583174,
            5533350,
            98233,
            1610598,
            725782,
            526161,
            1267601,
            11114041,
            2678954,
            7282,
            42085,
            301936,
            795789,
            2175349,
            320335,
            15386572,
            2362894,
            72736,
            502566,
            110494,
            1658890,
            1115231,
            7698,
            1007810,
            2283310,
            401670,
            10400251,
            2401633,
            564839,
            29752,
            2306899,
            1687549,
            15097,
            1210527,
            2318310,
            1230181,
            9663017,
            40616,
            2943214,
            520300,
            114613,
            2013308,
            1770754,
            569069,
            5850014,
            16719438,
            338575,
            3061808,
            253648,
            31583,
            1787713,
            1721411,
            962277,
            5518784,
            1532589,
            18670751,
            967960,
            2636811,
            704743,
            26780,
            2116283,
            2763142,
            378135,
            7175998,
            25914896,
            788953,
            4725615,
            473726,
            264138,
            1430089,
            724976,
            269117,
            5898345,
            30508,
            21164429,
            1126158,
            3326706,
            489679,
            105915,
            3667218,
            1459354,
            9267,
            330376,
            3861906,
            16139241,
            919158,
            3518577,
            333636,
            33196,
            440138,
            2773588,
            138980,
            645452,
            1836898,
            15007820,
            384630,
            4015251,
            724359,
            125808,
            1733161,
            3134880,
            40415,
            89261,
            895352,
            9066222,
            769434,
            4395731,
            514713,
            190437,
            1361988,
            1468209,
            906326,
            1056795,
            16652209,
            33366,
            3948181,
            880537,
            188335,
            2688900,
            791870,
            619350,
            319090,
            11287673,
            1843766,
            977233,
            45706,
            916228,
            1099423,
            7471,
            1920980,
            584700,
            16877919,
            133848,
            3511759,
            470448,
            271508,
            544224,
            1393735,
            1365968,
            1176499,
            16716181,
            581236,
            2564819,
            571436,
            88338,
            2043620,
            1192378,
            1515590,
            1321462,
            16472965,
            520671,
            4329666,
            744959,
            98052,
            1055230,
            913073,
            30373,
            1955429,
            1812967,
            241419,
            17744153,
            580914,
            3839902,
            417908,
            99084,
            1406779,
            2322085,
            743400,
            1618627,
            4350119,
            18232,
            20733212,
            1115403,
            2847642,
            400421,
            600,
            326112,
            2622797,
            2906842,
            4847,
            2318095,
            2279001,
            6143593,
            104673,
            21069400,
            2305222,
            1019063,
            437760,
            2762363,
            1934075,
            82472,
            2601294,
            7227998,
            3063,
            25774029,
            546143,
            2787288,
            1042642,
            38340,
            386976,
            7460815,
            2210665,
            444401,
            2347179,
            8688968,
            565308,
            26988859,
            155667,
            3709502,
            1516365,
            532160,
            3849682,
            4271709,
            12760124,
            1843944,
            6100968,
            16999532,
            586865,
            1932782,
            1939284,
            8655,
            239392,
            5991132,
            4180660,
            67627,
            1473521,
            3945551,
            25225605,
            395425,
            3321291,
            3047209,
            109389,
            12704537,
            5644264,
            872005,
            11978904,
            634480,
            3446790,
            846321,
            2575328,
            2162901,
            603027,
            2697698,
            386361,
            1016829,
            603601,
            2137783,
            253129,
            234086,
            347898,
            43243,
            2137783,
            94704,
            1846333,
            1155348,
            52683,
            381109,
            1485090,
            52683,
            693390,
            289710,
            710727,
            871740,
            1162320,
            1014420,
            881310,
            986016,
            745077
           ]
          ]
         },
         "header": {
          "values": [
           "Year/Month",
           "Sales",
           "BU",
           "Qty.",
           "Revenue"
          ]
         },
         "type": "table"
        }
       ],
       "layout": {
        "template": {
         "data": {
          "bar": [
           {
            "error_x": {
             "color": "#2a3f5f"
            },
            "error_y": {
             "color": "#2a3f5f"
            },
            "marker": {
             "line": {
              "color": "#E5ECF6",
              "width": 0.5
             }
            },
            "type": "bar"
           }
          ],
          "barpolar": [
           {
            "marker": {
             "line": {
              "color": "#E5ECF6",
              "width": 0.5
             }
            },
            "type": "barpolar"
           }
          ],
          "carpet": [
           {
            "aaxis": {
             "endlinecolor": "#2a3f5f",
             "gridcolor": "white",
             "linecolor": "white",
             "minorgridcolor": "white",
             "startlinecolor": "#2a3f5f"
            },
            "baxis": {
             "endlinecolor": "#2a3f5f",
             "gridcolor": "white",
             "linecolor": "white",
             "minorgridcolor": "white",
             "startlinecolor": "#2a3f5f"
            },
            "type": "carpet"
           }
          ],
          "choropleth": [
           {
            "colorbar": {
             "outlinewidth": 0,
             "ticks": ""
            },
            "type": "choropleth"
           }
          ],
          "contour": [
           {
            "colorbar": {
             "outlinewidth": 0,
             "ticks": ""
            },
            "colorscale": [
             [
              0,
              "#0d0887"
             ],
             [
              0.1111111111111111,
              "#46039f"
             ],
             [
              0.2222222222222222,
              "#7201a8"
             ],
             [
              0.3333333333333333,
              "#9c179e"
             ],
             [
              0.4444444444444444,
              "#bd3786"
             ],
             [
              0.5555555555555556,
              "#d8576b"
             ],
             [
              0.6666666666666666,
              "#ed7953"
             ],
             [
              0.7777777777777778,
              "#fb9f3a"
             ],
             [
              0.8888888888888888,
              "#fdca26"
             ],
             [
              1,
              "#f0f921"
             ]
            ],
            "type": "contour"
           }
          ],
          "contourcarpet": [
           {
            "colorbar": {
             "outlinewidth": 0,
             "ticks": ""
            },
            "type": "contourcarpet"
           }
          ],
          "heatmap": [
           {
            "colorbar": {
             "outlinewidth": 0,
             "ticks": ""
            },
            "colorscale": [
             [
              0,
              "#0d0887"
             ],
             [
              0.1111111111111111,
              "#46039f"
             ],
             [
              0.2222222222222222,
              "#7201a8"
             ],
             [
              0.3333333333333333,
              "#9c179e"
             ],
             [
              0.4444444444444444,
              "#bd3786"
             ],
             [
              0.5555555555555556,
              "#d8576b"
             ],
             [
              0.6666666666666666,
              "#ed7953"
             ],
             [
              0.7777777777777778,
              "#fb9f3a"
             ],
             [
              0.8888888888888888,
              "#fdca26"
             ],
             [
              1,
              "#f0f921"
             ]
            ],
            "type": "heatmap"
           }
          ],
          "heatmapgl": [
           {
            "colorbar": {
             "outlinewidth": 0,
             "ticks": ""
            },
            "colorscale": [
             [
              0,
              "#0d0887"
             ],
             [
              0.1111111111111111,
              "#46039f"
             ],
             [
              0.2222222222222222,
              "#7201a8"
             ],
             [
              0.3333333333333333,
              "#9c179e"
             ],
             [
              0.4444444444444444,
              "#bd3786"
             ],
             [
              0.5555555555555556,
              "#d8576b"
             ],
             [
              0.6666666666666666,
              "#ed7953"
             ],
             [
              0.7777777777777778,
              "#fb9f3a"
             ],
             [
              0.8888888888888888,
              "#fdca26"
             ],
             [
              1,
              "#f0f921"
             ]
            ],
            "type": "heatmapgl"
           }
          ],
          "histogram": [
           {
            "marker": {
             "colorbar": {
              "outlinewidth": 0,
              "ticks": ""
             }
            },
            "type": "histogram"
           }
          ],
          "histogram2d": [
           {
            "colorbar": {
             "outlinewidth": 0,
             "ticks": ""
            },
            "colorscale": [
             [
              0,
              "#0d0887"
             ],
             [
              0.1111111111111111,
              "#46039f"
             ],
             [
              0.2222222222222222,
              "#7201a8"
             ],
             [
              0.3333333333333333,
              "#9c179e"
             ],
             [
              0.4444444444444444,
              "#bd3786"
             ],
             [
              0.5555555555555556,
              "#d8576b"
             ],
             [
              0.6666666666666666,
              "#ed7953"
             ],
             [
              0.7777777777777778,
              "#fb9f3a"
             ],
             [
              0.8888888888888888,
              "#fdca26"
             ],
             [
              1,
              "#f0f921"
             ]
            ],
            "type": "histogram2d"
           }
          ],
          "histogram2dcontour": [
           {
            "colorbar": {
             "outlinewidth": 0,
             "ticks": ""
            },
            "colorscale": [
             [
              0,
              "#0d0887"
             ],
             [
              0.1111111111111111,
              "#46039f"
             ],
             [
              0.2222222222222222,
              "#7201a8"
             ],
             [
              0.3333333333333333,
              "#9c179e"
             ],
             [
              0.4444444444444444,
              "#bd3786"
             ],
             [
              0.5555555555555556,
              "#d8576b"
             ],
             [
              0.6666666666666666,
              "#ed7953"
             ],
             [
              0.7777777777777778,
              "#fb9f3a"
             ],
             [
              0.8888888888888888,
              "#fdca26"
             ],
             [
              1,
              "#f0f921"
             ]
            ],
            "type": "histogram2dcontour"
           }
          ],
          "mesh3d": [
           {
            "colorbar": {
             "outlinewidth": 0,
             "ticks": ""
            },
            "type": "mesh3d"
           }
          ],
          "parcoords": [
           {
            "line": {
             "colorbar": {
              "outlinewidth": 0,
              "ticks": ""
             }
            },
            "type": "parcoords"
           }
          ],
          "pie": [
           {
            "automargin": true,
            "type": "pie"
           }
          ],
          "scatter": [
           {
            "marker": {
             "colorbar": {
              "outlinewidth": 0,
              "ticks": ""
             }
            },
            "type": "scatter"
           }
          ],
          "scatter3d": [
           {
            "line": {
             "colorbar": {
              "outlinewidth": 0,
              "ticks": ""
             }
            },
            "marker": {
             "colorbar": {
              "outlinewidth": 0,
              "ticks": ""
             }
            },
            "type": "scatter3d"
           }
          ],
          "scattercarpet": [
           {
            "marker": {
             "colorbar": {
              "outlinewidth": 0,
              "ticks": ""
             }
            },
            "type": "scattercarpet"
           }
          ],
          "scattergeo": [
           {
            "marker": {
             "colorbar": {
              "outlinewidth": 0,
              "ticks": ""
             }
            },
            "type": "scattergeo"
           }
          ],
          "scattergl": [
           {
            "marker": {
             "colorbar": {
              "outlinewidth": 0,
              "ticks": ""
             }
            },
            "type": "scattergl"
           }
          ],
          "scattermapbox": [
           {
            "marker": {
             "colorbar": {
              "outlinewidth": 0,
              "ticks": ""
             }
            },
            "type": "scattermapbox"
           }
          ],
          "scatterpolar": [
           {
            "marker": {
             "colorbar": {
              "outlinewidth": 0,
              "ticks": ""
             }
            },
            "type": "scatterpolar"
           }
          ],
          "scatterpolargl": [
           {
            "marker": {
             "colorbar": {
              "outlinewidth": 0,
              "ticks": ""
             }
            },
            "type": "scatterpolargl"
           }
          ],
          "scatterternary": [
           {
            "marker": {
             "colorbar": {
              "outlinewidth": 0,
              "ticks": ""
             }
            },
            "type": "scatterternary"
           }
          ],
          "surface": [
           {
            "colorbar": {
             "outlinewidth": 0,
             "ticks": ""
            },
            "colorscale": [
             [
              0,
              "#0d0887"
             ],
             [
              0.1111111111111111,
              "#46039f"
             ],
             [
              0.2222222222222222,
              "#7201a8"
             ],
             [
              0.3333333333333333,
              "#9c179e"
             ],
             [
              0.4444444444444444,
              "#bd3786"
             ],
             [
              0.5555555555555556,
              "#d8576b"
             ],
             [
              0.6666666666666666,
              "#ed7953"
             ],
             [
              0.7777777777777778,
              "#fb9f3a"
             ],
             [
              0.8888888888888888,
              "#fdca26"
             ],
             [
              1,
              "#f0f921"
             ]
            ],
            "type": "surface"
           }
          ],
          "table": [
           {
            "cells": {
             "fill": {
              "color": "#EBF0F8"
             },
             "line": {
              "color": "white"
             }
            },
            "header": {
             "fill": {
              "color": "#C8D4E3"
             },
             "line": {
              "color": "white"
             }
            },
            "type": "table"
           }
          ]
         },
         "layout": {
          "annotationdefaults": {
           "arrowcolor": "#2a3f5f",
           "arrowhead": 0,
           "arrowwidth": 1
          },
          "coloraxis": {
           "colorbar": {
            "outlinewidth": 0,
            "ticks": ""
           }
          },
          "colorscale": {
           "diverging": [
            [
             0,
             "#8e0152"
            ],
            [
             0.1,
             "#c51b7d"
            ],
            [
             0.2,
             "#de77ae"
            ],
            [
             0.3,
             "#f1b6da"
            ],
            [
             0.4,
             "#fde0ef"
            ],
            [
             0.5,
             "#f7f7f7"
            ],
            [
             0.6,
             "#e6f5d0"
            ],
            [
             0.7,
             "#b8e186"
            ],
            [
             0.8,
             "#7fbc41"
            ],
            [
             0.9,
             "#4d9221"
            ],
            [
             1,
             "#276419"
            ]
           ],
           "sequential": [
            [
             0,
             "#0d0887"
            ],
            [
             0.1111111111111111,
             "#46039f"
            ],
            [
             0.2222222222222222,
             "#7201a8"
            ],
            [
             0.3333333333333333,
             "#9c179e"
            ],
            [
             0.4444444444444444,
             "#bd3786"
            ],
            [
             0.5555555555555556,
             "#d8576b"
            ],
            [
             0.6666666666666666,
             "#ed7953"
            ],
            [
             0.7777777777777778,
             "#fb9f3a"
            ],
            [
             0.8888888888888888,
             "#fdca26"
            ],
            [
             1,
             "#f0f921"
            ]
           ],
           "sequentialminus": [
            [
             0,
             "#0d0887"
            ],
            [
             0.1111111111111111,
             "#46039f"
            ],
            [
             0.2222222222222222,
             "#7201a8"
            ],
            [
             0.3333333333333333,
             "#9c179e"
            ],
            [
             0.4444444444444444,
             "#bd3786"
            ],
            [
             0.5555555555555556,
             "#d8576b"
            ],
            [
             0.6666666666666666,
             "#ed7953"
            ],
            [
             0.7777777777777778,
             "#fb9f3a"
            ],
            [
             0.8888888888888888,
             "#fdca26"
            ],
            [
             1,
             "#f0f921"
            ]
           ]
          },
          "colorway": [
           "#636efa",
           "#EF553B",
           "#00cc96",
           "#ab63fa",
           "#FFA15A",
           "#19d3f3",
           "#FF6692",
           "#B6E880",
           "#FF97FF",
           "#FECB52"
          ],
          "font": {
           "color": "#2a3f5f"
          },
          "geo": {
           "bgcolor": "white",
           "lakecolor": "white",
           "landcolor": "#E5ECF6",
           "showlakes": true,
           "showland": true,
           "subunitcolor": "white"
          },
          "hoverlabel": {
           "align": "left"
          },
          "hovermode": "closest",
          "mapbox": {
           "style": "light"
          },
          "paper_bgcolor": "white",
          "plot_bgcolor": "#E5ECF6",
          "polar": {
           "angularaxis": {
            "gridcolor": "white",
            "linecolor": "white",
            "ticks": ""
           },
           "bgcolor": "#E5ECF6",
           "radialaxis": {
            "gridcolor": "white",
            "linecolor": "white",
            "ticks": ""
           }
          },
          "scene": {
           "xaxis": {
            "backgroundcolor": "#E5ECF6",
            "gridcolor": "white",
            "gridwidth": 2,
            "linecolor": "white",
            "showbackground": true,
            "ticks": "",
            "zerolinecolor": "white"
           },
           "yaxis": {
            "backgroundcolor": "#E5ECF6",
            "gridcolor": "white",
            "gridwidth": 2,
            "linecolor": "white",
            "showbackground": true,
            "ticks": "",
            "zerolinecolor": "white"
           },
           "zaxis": {
            "backgroundcolor": "#E5ECF6",
            "gridcolor": "white",
            "gridwidth": 2,
            "linecolor": "white",
            "showbackground": true,
            "ticks": "",
            "zerolinecolor": "white"
           }
          },
          "shapedefaults": {
           "line": {
            "color": "#2a3f5f"
           }
          },
          "ternary": {
           "aaxis": {
            "gridcolor": "white",
            "linecolor": "white",
            "ticks": ""
           },
           "baxis": {
            "gridcolor": "white",
            "linecolor": "white",
            "ticks": ""
           },
           "bgcolor": "#E5ECF6",
           "caxis": {
            "gridcolor": "white",
            "linecolor": "white",
            "ticks": ""
           }
          },
          "title": {
           "x": 0.05
          },
          "xaxis": {
           "automargin": true,
           "gridcolor": "white",
           "linecolor": "white",
           "ticks": "",
           "title": {
            "standoff": 15
           },
           "zerolinecolor": "white",
           "zerolinewidth": 2
          },
          "yaxis": {
           "automargin": true,
           "gridcolor": "white",
           "linecolor": "white",
           "ticks": "",
           "title": {
            "standoff": 15
           },
           "zerolinecolor": "white",
           "zerolinewidth": 2
          }
         }
        }
       }
      },
      "text/html": [
       "<div>                            <div id=\"ffd765bc-001c-4fb5-b8c5-f231e29abb16\" class=\"plotly-graph-div\" style=\"height:525px; width:100%;\"></div>            <script type=\"text/javascript\">                require([\"plotly\"], function(Plotly) {                    window.PLOTLYENV=window.PLOTLYENV || {};                                    if (document.getElementById(\"ffd765bc-001c-4fb5-b8c5-f231e29abb16\")) {                    Plotly.newPlot(                        \"ffd765bc-001c-4fb5-b8c5-f231e29abb16\",                        [{\"cells\": {\"values\": [[\"2019-01\", \"2019-01\", \"2019-01\", \"2019-01\", \"2019-01\", \"2019-01\", \"2019-01\", \"2019-02\", \"2019-02\", \"2019-02\", \"2019-02\", \"2019-02\", \"2019-02\", \"2019-02\", \"2019-03\", \"2019-03\", \"2019-03\", \"2019-03\", \"2019-03\", \"2019-03\", \"2019-03\", \"2019-03\", \"2019-03\", \"2019-03\", \"2019-04\", \"2019-04\", \"2019-04\", \"2019-04\", \"2019-04\", \"2019-04\", \"2019-04\", \"2019-04\", \"2019-04\", \"2019-04\", \"2019-05\", \"2019-05\", \"2019-05\", \"2019-05\", \"2019-05\", \"2019-05\", \"2019-05\", \"2019-05\", \"2019-05\", \"2019-05\", \"2019-05\", \"2019-06\", \"2019-06\", \"2019-06\", \"2019-06\", \"2019-06\", \"2019-06\", \"2019-06\", \"2019-06\", \"2019-06\", \"2019-07\", \"2019-07\", \"2019-07\", \"2019-07\", \"2019-07\", \"2019-07\", \"2019-07\", \"2019-07\", \"2019-07\", \"2019-07\", \"2019-08\", \"2019-08\", \"2019-08\", \"2019-08\", \"2019-08\", \"2019-08\", \"2019-08\", \"2019-08\", \"2019-08\", \"2019-09\", \"2019-09\", \"2019-09\", \"2019-09\", \"2019-09\", \"2019-09\", \"2019-09\", \"2019-09\", \"2019-09\", \"2019-09\", \"2019-10\", \"2019-10\", \"2019-10\", \"2019-10\", \"2019-10\", \"2019-10\", \"2019-10\", \"2019-10\", \"2019-10\", \"2019-10\", \"2019-11\", \"2019-11\", \"2019-11\", \"2019-11\", \"2019-11\", \"2019-11\", \"2019-11\", \"2019-11\", \"2019-11\", \"2019-11\", \"2019-12\", \"2019-12\", \"2019-12\", \"2019-12\", \"2019-12\", \"2019-12\", \"2019-12\", \"2019-12\", \"2019-12\", \"2019-12\", \"2020-01\", \"2020-01\", \"2020-01\", \"2020-01\", \"2020-01\", \"2020-01\", \"2020-01\", \"2020-01\", \"2020-01\", \"2020-02\", \"2020-02\", \"2020-02\", \"2020-02\", \"2020-02\", \"2020-02\", \"2020-02\", \"2020-02\", \"2020-03\", \"2020-03\", \"2020-03\", \"2020-03\", \"2020-03\", \"2020-03\", \"2020-03\", \"2020-03\", \"2020-03\", \"2020-03\", \"2020-04\", \"2020-04\", \"2020-04\", \"2020-04\", \"2020-04\", \"2020-04\", \"2020-04\", \"2020-04\", \"2020-04\", \"2020-05\", \"2020-05\", \"2020-05\", \"2020-05\", \"2020-05\", \"2020-05\", \"2020-05\", \"2020-05\", \"2020-05\", \"2020-06\", \"2020-06\", \"2020-06\", \"2020-06\", \"2020-06\", \"2020-06\", \"2020-06\", \"2020-06\", \"2020-06\", \"2020-06\", \"2020-06\", \"2020-07\", \"2020-07\", \"2020-07\", \"2020-07\", \"2020-07\", \"2020-07\", \"2020-07\", \"2020-07\", \"2020-07\", \"2020-07\", \"2020-07\", \"2020-07\", \"2020-08\", \"2020-08\", \"2020-08\", \"2020-08\", \"2020-08\", \"2020-08\", \"2020-08\", \"2020-08\", \"2020-08\", \"2020-08\", \"2020-08\", \"2020-09\", \"2020-09\", \"2020-09\", \"2020-09\", \"2020-09\", \"2020-09\", \"2020-09\", \"2020-09\", \"2020-09\", \"2020-09\", \"2020-09\", \"2020-09\", \"2020-10\", \"2020-10\", \"2020-10\", \"2020-10\", \"2020-10\", \"2020-10\", \"2020-10\", \"2020-10\", \"2020-10\", \"2020-10\", \"2020-10\", \"2020-11\", \"2020-11\", \"2020-11\", \"2020-11\", \"2020-11\", \"2020-11\", \"2020-11\", \"2020-11\", \"2020-11\", \"2020-11\", \"2020-11\", \"2020-12\", \"2020-12\", \"2020-12\", \"2020-12\", \"2020-12\", \"2020-12\", \"2020-12\", \"2020-12\", \"2020-12\", \"2020-12\", \"2021-01\", \"2021-01\", \"2021-01\", \"2021-01\", \"2021-01\", \"2021-01\", \"2021-01\", \"2021-02\", \"2021-02\", \"2021-02\", \"2021-02\", \"2021-02\", \"2021-02\", \"2021-03\", \"2021-03\", \"2021-03\", \"2021-03\", \"2021-03\", \"2021-04\", \"2021-04\", \"2021-05\", \"2021-06\", \"2021-06\", \"2021-07\", \"2021-08\", \"2021-08\", \"2021-09\", \"2021-11\", \"2021-12\", \"2022-01\", \"2022-02\", \"2022-03\", \"2022-04\", \"2022-05\"], [\"\\u6c88\\u601d\\u660e\", \"\\u6c88\\u601d\\u660e\", \"\\u6c88\\u601d\\u660e\", \"\\u6c88\\u601d\\u660e\", \"\\u8a31\\u51f1\\u667a\", \"\\u8a31\\u51f1\\u667a\", \"\\u8a31\\u51f1\\u667a\", \"\\u6c88\\u601d\\u660e\", \"\\u6c88\\u601d\\u660e\", \"\\u6c88\\u601d\\u660e\", \"\\u6c88\\u601d\\u660e\", \"\\u8a31\\u51f1\\u667a\", \"\\u8a31\\u51f1\\u667a\", \"\\u8a31\\u51f1\\u667a\", \"\\u6c88\\u601d\\u660e\", \"\\u6c88\\u601d\\u660e\", \"\\u6c88\\u601d\\u660e\", \"\\u6c88\\u601d\\u660e\", \"\\u6c88\\u601d\\u660e\", \"\\u8a31\\u51f1\\u667a\", \"\\u8a31\\u51f1\\u667a\", \"\\u8a31\\u51f1\\u667a\", \"\\u8a31\\u51f1\\u667a\", \"\\u8a31\\u51f1\\u667a\", \"\\u58a8\\u6f22\\u96f7\\u8fea\", \"\\u6c88\\u601d\\u660e\", \"\\u6c88\\u601d\\u660e\", \"\\u6c88\\u601d\\u660e\", \"\\u6c88\\u601d\\u660e\", \"\\u6c88\\u601d\\u660e\", \"\\u8a31\\u51f1\\u667a\", \"\\u8a31\\u51f1\\u667a\", \"\\u8a31\\u51f1\\u667a\", \"\\u8a31\\u51f1\\u667a\", \"\\u58a8\\u6f22\\u96f7\\u8fea\", \"\\u6c88\\u601d\\u660e\", \"\\u6c88\\u601d\\u660e\", \"\\u6c88\\u601d\\u660e\", \"\\u6c88\\u601d\\u660e\", \"\\u6c88\\u601d\\u660e\", \"\\u6c88\\u601d\\u660e\", \"\\u8a31\\u51f1\\u667a\", \"\\u8a31\\u51f1\\u667a\", \"\\u8a31\\u51f1\\u667a\", \"\\u8a31\\u51f1\\u667a\", \"\\u6c88\\u601d\\u660e\", \"\\u6c88\\u601d\\u660e\", \"\\u6c88\\u601d\\u660e\", \"\\u6c88\\u601d\\u660e\", \"\\u6c88\\u601d\\u660e\", \"\\u8a31\\u51f1\\u667a\", \"\\u8a31\\u51f1\\u667a\", \"\\u8a31\\u51f1\\u667a\", \"\\u8a31\\u51f1\\u667a\", \"\\u6c88\\u601d\\u660e\", \"\\u6c88\\u601d\\u660e\", \"\\u6c88\\u601d\\u660e\", \"\\u6c88\\u601d\\u660e\", \"\\u6c88\\u601d\\u660e\", \"\\u6c88\\u601d\\u660e\", \"\\u8a31\\u51f1\\u667a\", \"\\u8a31\\u51f1\\u667a\", \"\\u8a31\\u51f1\\u667a\", \"\\u8a31\\u51f1\\u667a\", \"\\u6c88\\u601d\\u660e\", \"\\u6c88\\u601d\\u660e\", \"\\u6c88\\u601d\\u660e\", \"\\u6c88\\u601d\\u660e\", \"\\u6c88\\u601d\\u660e\", \"\\u8a31\\u51f1\\u667a\", \"\\u8a31\\u51f1\\u667a\", \"\\u8a31\\u51f1\\u667a\", \"\\u8a31\\u51f1\\u667a\", \"\\u6c88\\u601d\\u660e\", \"\\u6c88\\u601d\\u660e\", \"\\u6c88\\u601d\\u660e\", \"\\u6c88\\u601d\\u660e\", \"\\u6c88\\u601d\\u660e\", \"\\u6c88\\u601d\\u660e\", \"\\u8a31\\u51f1\\u667a\", \"\\u8a31\\u51f1\\u667a\", \"\\u8a31\\u51f1\\u667a\", \"\\u8a31\\u51f1\\u667a\", \"\\u58a8\\u6f22\\u96f7\\u8fea\", \"\\u6c88\\u601d\\u660e\", \"\\u6c88\\u601d\\u660e\", \"\\u6c88\\u601d\\u660e\", \"\\u6c88\\u601d\\u660e\", \"\\u6c88\\u601d\\u660e\", \"\\u8a31\\u51f1\\u667a\", \"\\u8a31\\u51f1\\u667a\", \"\\u8a31\\u51f1\\u667a\", \"\\u8a31\\u51f1\\u667a\", \"\\u58a8\\u6f22\\u96f7\\u8fea\", \"\\u6c88\\u601d\\u660e\", \"\\u6c88\\u601d\\u660e\", \"\\u6c88\\u601d\\u660e\", \"\\u6c88\\u601d\\u660e\", \"\\u6c88\\u601d\\u660e\", \"\\u8a31\\u51f1\\u667a\", \"\\u8a31\\u51f1\\u667a\", \"\\u8a31\\u51f1\\u667a\", \"\\u8a31\\u51f1\\u667a\", \"\\u58a8\\u6f22\\u96f7\\u8fea\", \"\\u6c88\\u601d\\u660e\", \"\\u6c88\\u601d\\u660e\", \"\\u6c88\\u601d\\u660e\", \"\\u6c88\\u601d\\u660e\", \"\\u6c88\\u601d\\u660e\", \"\\u8a31\\u51f1\\u667a\", \"\\u8a31\\u51f1\\u667a\", \"\\u8a31\\u51f1\\u667a\", \"\\u8a31\\u51f1\\u667a\", \"\\u6c88\\u601d\\u660e\", \"\\u6c88\\u601d\\u660e\", \"\\u6c88\\u601d\\u660e\", \"\\u6c88\\u601d\\u660e\", \"\\u6c88\\u601d\\u660e\", \"\\u8a31\\u51f1\\u667a\", \"\\u8a31\\u51f1\\u667a\", \"\\u8a31\\u51f1\\u667a\", \"\\u8a31\\u51f1\\u667a\", \"\\u6c88\\u601d\\u660e\", \"\\u6c88\\u601d\\u660e\", \"\\u6c88\\u601d\\u660e\", \"\\u6c88\\u601d\\u660e\", \"\\u8a31\\u51f1\\u667a\", \"\\u8a31\\u51f1\\u667a\", \"\\u8a31\\u51f1\\u667a\", \"\\u8a31\\u51f1\\u667a\", \"\\u58a8\\u6f22\\u96f7\\u8fea\", \"\\u6c88\\u601d\\u660e\", \"\\u6c88\\u601d\\u660e\", \"\\u6c88\\u601d\\u660e\", \"\\u6c88\\u601d\\u660e\", \"\\u6c88\\u601d\\u660e\", \"\\u8a31\\u51f1\\u667a\", \"\\u8a31\\u51f1\\u667a\", \"\\u8a31\\u51f1\\u667a\", \"\\u8a31\\u51f1\\u667a\", \"\\u6c88\\u601d\\u660e\", \"\\u6c88\\u601d\\u660e\", \"\\u6c88\\u601d\\u660e\", \"\\u6c88\\u601d\\u660e\", \"\\u6c88\\u601d\\u660e\", \"\\u8a31\\u51f1\\u667a\", \"\\u8a31\\u51f1\\u667a\", \"\\u8a31\\u51f1\\u667a\", \"\\u8a31\\u51f1\\u667a\", \"\\u6c88\\u601d\\u660e\", \"\\u6c88\\u601d\\u660e\", \"\\u6c88\\u601d\\u660e\", \"\\u6c88\\u601d\\u660e\", \"\\u6c88\\u601d\\u660e\", \"\\u8a31\\u51f1\\u667a\", \"\\u8a31\\u51f1\\u667a\", \"\\u8a31\\u51f1\\u667a\", \"\\u8a31\\u51f1\\u667a\", \"\\u58a8\\u6f22\\u96f7\\u8fea\", \"\\u6c88\\u601d\\u660e\", \"\\u6c88\\u601d\\u660e\", \"\\u6c88\\u601d\\u660e\", \"\\u6c88\\u601d\\u660e\", \"\\u6c88\\u601d\\u660e\", \"\\u6c88\\u601d\\u660e\", \"\\u8a31\\u51f1\\u667a\", \"\\u8a31\\u51f1\\u667a\", \"\\u8a31\\u51f1\\u667a\", \"\\u8a31\\u51f1\\u667a\", \"\\u58a8\\u6f22\\u96f7\\u8fea\", \"\\u6c88\\u601d\\u660e\", \"\\u6c88\\u601d\\u660e\", \"\\u6c88\\u601d\\u660e\", \"\\u6c88\\u601d\\u660e\", \"\\u6c88\\u601d\\u660e\", \"\\u6c88\\u601d\\u660e\", \"\\u8a31\\u51f1\\u667a\", \"\\u8a31\\u51f1\\u667a\", \"\\u8a31\\u51f1\\u667a\", \"\\u8a31\\u51f1\\u667a\", \"\\u8a31\\u51f1\\u667a\", \"\\u58a8\\u6f22\\u96f7\\u8fea\", \"\\u58a8\\u6f22\\u96f7\\u8fea\", \"\\u6c88\\u601d\\u660e\", \"\\u6c88\\u601d\\u660e\", \"\\u6c88\\u601d\\u660e\", \"\\u6c88\\u601d\\u660e\", \"\\u6c88\\u601d\\u660e\", \"\\u8a31\\u51f1\\u667a\", \"\\u8a31\\u51f1\\u667a\", \"\\u8a31\\u51f1\\u667a\", \"\\u8a31\\u51f1\\u667a\", \"\\u58a8\\u6f22\\u96f7\\u8fea\", \"\\u6c88\\u601d\\u660e\", \"\\u6c88\\u601d\\u660e\", \"\\u6c88\\u601d\\u660e\", \"\\u6c88\\u601d\\u660e\", \"\\u6c88\\u601d\\u660e\", \"\\u6c88\\u601d\\u660e\", \"\\u8a31\\u51f1\\u667a\", \"\\u8a31\\u51f1\\u667a\", \"\\u8a31\\u51f1\\u667a\", \"\\u8a31\\u51f1\\u667a\", \"\\u8a31\\u51f1\\u667a\", \"\\u58a8\\u6f22\\u96f7\\u8fea\", \"\\u6c88\\u601d\\u660e\", \"\\u6c88\\u601d\\u660e\", \"\\u6c88\\u601d\\u660e\", \"\\u6c88\\u601d\\u660e\", \"\\u6c88\\u601d\\u660e\", \"\\u6c88\\u601d\\u660e\", \"\\u8a31\\u51f1\\u667a\", \"\\u8a31\\u51f1\\u667a\", \"\\u8a31\\u51f1\\u667a\", \"\\u8a31\\u51f1\\u667a\", \"\\u58a8\\u6f22\\u96f7\\u8fea\", \"\\u6c88\\u601d\\u660e\", \"\\u6c88\\u601d\\u660e\", \"\\u6c88\\u601d\\u660e\", \"\\u6c88\\u601d\\u660e\", \"\\u6c88\\u601d\\u660e\", \"\\u8a31\\u51f1\\u667a\", \"\\u8a31\\u51f1\\u667a\", \"\\u8a31\\u51f1\\u667a\", \"\\u8a31\\u51f1\\u667a\", \"\\u8a31\\u51f1\\u667a\", \"\\u58a8\\u6f22\\u96f7\\u8fea\", \"\\u6c88\\u601d\\u660e\", \"\\u6c88\\u601d\\u660e\", \"\\u6c88\\u601d\\u660e\", \"\\u6c88\\u601d\\u660e\", \"\\u6c88\\u601d\\u660e\", \"\\u8a31\\u51f1\\u667a\", \"\\u8a31\\u51f1\\u667a\", \"\\u8a31\\u51f1\\u667a\", \"\\u8a31\\u51f1\\u667a\", \"\\u6c88\\u601d\\u660e\", \"\\u6c88\\u601d\\u660e\", \"\\u6c88\\u601d\\u660e\", \"\\u6c88\\u601d\\u660e\", \"\\u8a31\\u51f1\\u667a\", \"\\u8a31\\u51f1\\u667a\", \"\\u8a31\\u51f1\\u667a\", \"\\u6c88\\u601d\\u660e\", \"\\u6c88\\u601d\\u660e\", \"\\u6c88\\u601d\\u660e\", \"\\u6c88\\u601d\\u660e\", \"\\u8a31\\u51f1\\u667a\", \"\\u8a31\\u51f1\\u667a\", \"\\u6c88\\u601d\\u660e\", \"\\u6c88\\u601d\\u660e\", \"\\u6c88\\u601d\\u660e\", \"\\u8a31\\u51f1\\u667a\", \"\\u8a31\\u51f1\\u667a\", \"\\u6c88\\u601d\\u660e\", \"\\u8a31\\u51f1\\u667a\", \"\\u8a31\\u51f1\\u667a\", \"\\u6c88\\u601d\\u660e\", \"\\u8a31\\u51f1\\u667a\", \"\\u8a31\\u51f1\\u667a\", \"\\u6c88\\u601d\\u660e\", \"\\u8a31\\u51f1\\u667a\", \"\\u8a31\\u51f1\\u667a\", \"\\u8a31\\u51f1\\u667a\", \"\\u8a31\\u51f1\\u667a\", \"\\u8a31\\u51f1\\u667a\", \"\\u8a31\\u51f1\\u667a\", \"\\u8a31\\u51f1\\u667a\", \"\\u8a31\\u51f1\\u667a\", \"\\u8a31\\u51f1\\u667a\"], [\"EMC\", \"ODM\", \"PC\", \"WIP\", \"EMC\", \"RF\", \"WIP\", \"EMC\", \"ODM\", \"PC\", \"WIP\", \"EMC\", \"RF\", \"WIP\", \"EMC\", \"ODM\", \"Others\", \"PC\", \"WIP\", \"EMC\", \"Others\", \"PC\", \"RF\", \"WIP\", \"RF\", \"EMC\", \"ODM\", \"Others\", \"PC\", \"WIP\", \"EMC\", \"PC\", \"RF\", \"WIP\", \"RF\", \"EMC\", \"ODM\", \"Others\", \"PC\", \"RF\", \"WIP\", \"EMC\", \"PC\", \"RF\", \"WIP\", \"EMC\", \"ODM\", \"PC\", \"RF\", \"WIP\", \"EMC\", \"PC\", \"RF\", \"WIP\", \"EMC\", \"ODM\", \"Others\", \"PC\", \"RF\", \"WIP\", \"EMC\", \"PC\", \"RF\", \"WIP\", \"EMC\", \"ODM\", \"PC\", \"RF\", \"WIP\", \"EMC\", \"PC\", \"RF\", \"WIP\", \"EMC\", \"ODM\", \"Others\", \"PC\", \"RF\", \"WIP\", \"EMC\", \"PC\", \"RF\", \"WIP\", \"PC\", \"EMC\", \"ODM\", \"PC\", \"RF\", \"WIP\", \"EMC\", \"PC\", \"RF\", \"WIP\", \"RF\", \"EMC\", \"ODM\", \"PC\", \"RF\", \"WIP\", \"EMC\", \"PC\", \"RF\", \"WIP\", \"RF\", \"EMC\", \"ODM\", \"PC\", \"RF\", \"WIP\", \"EMC\", \"PC\", \"RF\", \"WIP\", \"EMC\", \"ODM\", \"PC\", \"RF\", \"WIP\", \"EMC\", \"PC\", \"RF\", \"WIP\", \"EMC\", \"ODM\", \"PC\", \"WIP\", \"EMC\", \"PC\", \"RF\", \"WIP\", \"Others\", \"EMC\", \"ODM\", \"PC\", \"RF\", \"WIP\", \"EMC\", \"PC\", \"RF\", \"WIP\", \"EMC\", \"ODM\", \"PC\", \"RF\", \"WIP\", \"EMC\", \"PC\", \"RF\", \"WIP\", \"EMC\", \"ODM\", \"PC\", \"RF\", \"WIP\", \"EMC\", \"PC\", \"RF\", \"WIP\", \"RF\", \"EMC\", \"ODM\", \"Others\", \"PC\", \"RF\", \"WIP\", \"EMC\", \"PC\", \"RF\", \"WIP\", \"RF\", \"EMC\", \"ODM\", \"Others\", \"PC\", \"RF\", \"WIP\", \"EMC\", \"Others\", \"PC\", \"RF\", \"WIP\", \"Others\", \"RF\", \"EMC\", \"ODM\", \"Others\", \"PC\", \"WIP\", \"EMC\", \"PC\", \"RF\", \"WIP\", \"RF\", \"EMC\", \"ODM\", \"Others\", \"PC\", \"RF\", \"WIP\", \"EMC\", \"Others\", \"PC\", \"RF\", \"WIP\", \"RF\", \"EMC\", \"ODM\", \"Others\", \"PC\", \"RF\", \"WIP\", \"EMC\", \"PC\", \"RF\", \"WIP\", \"RF\", \"EMC\", \"ODM\", \"PC\", \"RF\", \"WIP\", \"EMC\", \"Others\", \"PC\", \"RF\", \"WIP\", \"RF\", \"EMC\", \"ODM\", \"PC\", \"RF\", \"WIP\", \"EMC\", \"PC\", \"RF\", \"WIP\", \"EMC\", \"PC\", \"RF\", \"WIP\", \"EMC\", \"RF\", \"WIP\", \"EMC\", \"PC\", \"RF\", \"WIP\", \"EMC\", \"WIP\", \"EMC\", \"PC\", \"WIP\", \"EMC\", \"WIP\", \"PC\", \"WIP\", \"WIP\", \"PC\", \"WIP\", \"WIP\", \"PC\", \"WIP\", \"WIP\", \"WIP\", \"WIP\", \"WIP\", \"WIP\", \"WIP\", \"WIP\", \"WIP\"], [3288000, 17971, 40818000, 5460000, 2618000, 227800, 1671000, 7242000, 9399, 32100000, 3489000, 151000, 6000, 726000, 8579000, 2001, 312, 48902000, 2319000, 1935000, 5646802, 183000, 167200, 2733000, 25, 16449000, 1544, 571520, 30069000, 2463000, 5500000, 34000, 268020, 5706000, 101, 18640000, 30747, 1288, 25437000, 24000, 3015000, 5034000, 149000, 242570, 5508000, 9078000, 78067, 44457000, 200000, 3054000, 4244000, 20000, 185000, 5667000, 5076000, 168550, 1572, 55601000, 568000, 2814000, 5495000, 33000, 199810, 9285000, 3151000, 53042, 68085000, 460000, 5466000, 3165000, 5246000, 151975, 2412000, 1050000, 144407, 82, 57928000, 660000, 3498000, 3852000, 1958000, 364256, 4860000, 20000, 2523000, 142805, 49160000, 532000, 4056000, 3775000, 482000, 45862, 8553000, 7000, 5982000, 1770, 50541000, 224000, 3921000, 5057000, 2508000, 182000, 10218000, 3200, 1893000, 21054, 30191000, 456000, 5604000, 5595000, 3540000, 187000, 4644000, 20262000, 1270, 49922000, 2000, 5046000, 7310500, 1360040, 383050, 2616000, 9064000, 40201, 36281000, 2397000, 6701500, 298000, 125800, 3513000, 1, 29708000, 24450, 52864000, 80000, 3702000, 5682000, 2776000, 78400, 4599000, 32980000, 99888, 53130000, 352000, 2853000, 7851000, 1350000, 239290, 3705000, 35444000, 144769, 57974000, 216000, 5751000, 13603500, 2014000, 84710, 2904000, 2400, 38811000, 76285, 4, 59498000, 352000, 4665000, 6558000, 1422000, 63308, 7203000, 840000, 32254000, 243976, 1, 65590600, 680000, 3999000, 7567000, 2, 6708000, 156000, 8880000, 600, 2601155, 40705000, 188827, 4, 63731400, 2754000, 4704500, 9120000, 187480, 6162000, 6125, 49325000, 239330, 2, 84018000, 336000, 3276000, 11637000, 1, 7374000, 517572, 6945000, 360110, 46836000, 99613, 1, 79449000, 96000, 4755000, 20700000, 10633000, 191700, 13662000, 10408000, 33661000, 178555, 54233000, 364000, 2433000, 18224000, 303, 4850000, 342100, 13443000, 12100, 23873000, 2885, 84936000, 248000, 4242000, 37355000, 316000, 1017120, 18449000, 10993000, 36827000, 400000, 4602000, 9012000, 303000, 7035000, 5837000, 9823000, 244000, 1431000, 3647000, 7002000, 5800000, 420000, 423000, 991000, 7002000, 90000, 5997000, 3489000, 60000, 1170000, 5121000, 60000, 2391000, 999000, 2199000, 3006000, 4008000, 3498000, 3039000, 3342000, 2532000], [639601, 1664223, 15583174, 5533350, 98233, 1610598, 725782, 526161, 1267601, 11114041, 2678954, 7282, 42085, 301936, 795789, 2175349, 320335, 15386572, 2362894, 72736, 502566, 110494, 1658890, 1115231, 7698, 1007810, 2283310, 401670, 10400251, 2401633, 564839, 29752, 2306899, 1687549, 15097, 1210527, 2318310, 1230181, 9663017, 40616, 2943214, 520300, 114613, 2013308, 1770754, 569069, 5850014, 16719438, 338575, 3061808, 253648, 31583, 1787713, 1721411, 962277, 5518784, 1532589, 18670751, 967960, 2636811, 704743, 26780, 2116283, 2763142, 378135, 7175998, 25914896, 788953, 4725615, 473726, 264138, 1430089, 724976, 269117, 5898345, 30508, 21164429, 1126158, 3326706, 489679, 105915, 3667218, 1459354, 9267, 330376, 3861906, 16139241, 919158, 3518577, 333636, 33196, 440138, 2773588, 138980, 645452, 1836898, 15007820, 384630, 4015251, 724359, 125808, 1733161, 3134880, 40415, 89261, 895352, 9066222, 769434, 4395731, 514713, 190437, 1361988, 1468209, 906326, 1056795, 16652209, 33366, 3948181, 880537, 188335, 2688900, 791870, 619350, 319090, 11287673, 1843766, 977233, 45706, 916228, 1099423, 7471, 1920980, 584700, 16877919, 133848, 3511759, 470448, 271508, 544224, 1393735, 1365968, 1176499, 16716181, 581236, 2564819, 571436, 88338, 2043620, 1192378, 1515590, 1321462, 16472965, 520671, 4329666, 744959, 98052, 1055230, 913073, 30373, 1955429, 1812967, 241419, 17744153, 580914, 3839902, 417908, 99084, 1406779, 2322085, 743400, 1618627, 4350119, 18232, 20733212, 1115403, 2847642, 400421, 600, 326112, 2622797, 2906842, 4847, 2318095, 2279001, 6143593, 104673, 21069400, 2305222, 1019063, 437760, 2762363, 1934075, 82472, 2601294, 7227998, 3063, 25774029, 546143, 2787288, 1042642, 38340, 386976, 7460815, 2210665, 444401, 2347179, 8688968, 565308, 26988859, 155667, 3709502, 1516365, 532160, 3849682, 4271709, 12760124, 1843944, 6100968, 16999532, 586865, 1932782, 1939284, 8655, 239392, 5991132, 4180660, 67627, 1473521, 3945551, 25225605, 395425, 3321291, 3047209, 109389, 12704537, 5644264, 872005, 11978904, 634480, 3446790, 846321, 2575328, 2162901, 603027, 2697698, 386361, 1016829, 603601, 2137783, 253129, 234086, 347898, 43243, 2137783, 94704, 1846333, 1155348, 52683, 381109, 1485090, 52683, 693390, 289710, 710727, 871740, 1162320, 1014420, 881310, 986016, 745077]]}, \"header\": {\"values\": [\"Year/Month\", \"Sales\", \"BU\", \"Qty.\", \"Revenue\"]}, \"type\": \"table\"}],                        {\"template\": {\"data\": {\"bar\": [{\"error_x\": {\"color\": \"#2a3f5f\"}, \"error_y\": {\"color\": \"#2a3f5f\"}, \"marker\": {\"line\": {\"color\": \"#E5ECF6\", \"width\": 0.5}}, \"type\": \"bar\"}], \"barpolar\": [{\"marker\": {\"line\": {\"color\": \"#E5ECF6\", \"width\": 0.5}}, \"type\": \"barpolar\"}], \"carpet\": [{\"aaxis\": {\"endlinecolor\": \"#2a3f5f\", \"gridcolor\": \"white\", \"linecolor\": \"white\", \"minorgridcolor\": \"white\", \"startlinecolor\": \"#2a3f5f\"}, \"baxis\": {\"endlinecolor\": \"#2a3f5f\", \"gridcolor\": \"white\", \"linecolor\": \"white\", \"minorgridcolor\": \"white\", \"startlinecolor\": \"#2a3f5f\"}, \"type\": \"carpet\"}], \"choropleth\": [{\"colorbar\": {\"outlinewidth\": 0, \"ticks\": \"\"}, \"type\": \"choropleth\"}], \"contour\": [{\"colorbar\": {\"outlinewidth\": 0, \"ticks\": \"\"}, \"colorscale\": [[0.0, \"#0d0887\"], [0.1111111111111111, \"#46039f\"], [0.2222222222222222, \"#7201a8\"], [0.3333333333333333, \"#9c179e\"], [0.4444444444444444, \"#bd3786\"], [0.5555555555555556, \"#d8576b\"], [0.6666666666666666, \"#ed7953\"], [0.7777777777777778, \"#fb9f3a\"], [0.8888888888888888, \"#fdca26\"], [1.0, \"#f0f921\"]], \"type\": \"contour\"}], \"contourcarpet\": [{\"colorbar\": {\"outlinewidth\": 0, \"ticks\": \"\"}, \"type\": \"contourcarpet\"}], \"heatmap\": [{\"colorbar\": {\"outlinewidth\": 0, \"ticks\": \"\"}, \"colorscale\": [[0.0, \"#0d0887\"], [0.1111111111111111, \"#46039f\"], [0.2222222222222222, \"#7201a8\"], [0.3333333333333333, \"#9c179e\"], [0.4444444444444444, \"#bd3786\"], [0.5555555555555556, \"#d8576b\"], [0.6666666666666666, \"#ed7953\"], [0.7777777777777778, \"#fb9f3a\"], [0.8888888888888888, \"#fdca26\"], [1.0, \"#f0f921\"]], \"type\": \"heatmap\"}], \"heatmapgl\": [{\"colorbar\": {\"outlinewidth\": 0, \"ticks\": \"\"}, \"colorscale\": [[0.0, \"#0d0887\"], [0.1111111111111111, \"#46039f\"], [0.2222222222222222, \"#7201a8\"], [0.3333333333333333, \"#9c179e\"], [0.4444444444444444, \"#bd3786\"], [0.5555555555555556, \"#d8576b\"], [0.6666666666666666, \"#ed7953\"], [0.7777777777777778, \"#fb9f3a\"], [0.8888888888888888, \"#fdca26\"], [1.0, \"#f0f921\"]], \"type\": \"heatmapgl\"}], \"histogram\": [{\"marker\": {\"colorbar\": {\"outlinewidth\": 0, \"ticks\": \"\"}}, \"type\": \"histogram\"}], \"histogram2d\": [{\"colorbar\": {\"outlinewidth\": 0, \"ticks\": \"\"}, \"colorscale\": [[0.0, \"#0d0887\"], [0.1111111111111111, \"#46039f\"], [0.2222222222222222, \"#7201a8\"], [0.3333333333333333, \"#9c179e\"], [0.4444444444444444, \"#bd3786\"], [0.5555555555555556, \"#d8576b\"], [0.6666666666666666, \"#ed7953\"], [0.7777777777777778, \"#fb9f3a\"], [0.8888888888888888, \"#fdca26\"], [1.0, \"#f0f921\"]], \"type\": \"histogram2d\"}], \"histogram2dcontour\": [{\"colorbar\": {\"outlinewidth\": 0, \"ticks\": \"\"}, \"colorscale\": [[0.0, \"#0d0887\"], [0.1111111111111111, \"#46039f\"], [0.2222222222222222, \"#7201a8\"], [0.3333333333333333, \"#9c179e\"], [0.4444444444444444, \"#bd3786\"], [0.5555555555555556, \"#d8576b\"], [0.6666666666666666, \"#ed7953\"], [0.7777777777777778, \"#fb9f3a\"], [0.8888888888888888, \"#fdca26\"], [1.0, \"#f0f921\"]], \"type\": \"histogram2dcontour\"}], \"mesh3d\": [{\"colorbar\": {\"outlinewidth\": 0, \"ticks\": \"\"}, \"type\": \"mesh3d\"}], \"parcoords\": [{\"line\": {\"colorbar\": {\"outlinewidth\": 0, \"ticks\": \"\"}}, \"type\": \"parcoords\"}], \"pie\": [{\"automargin\": true, \"type\": \"pie\"}], \"scatter\": [{\"marker\": {\"colorbar\": {\"outlinewidth\": 0, \"ticks\": \"\"}}, \"type\": \"scatter\"}], \"scatter3d\": [{\"line\": {\"colorbar\": {\"outlinewidth\": 0, \"ticks\": \"\"}}, \"marker\": {\"colorbar\": {\"outlinewidth\": 0, \"ticks\": \"\"}}, \"type\": \"scatter3d\"}], \"scattercarpet\": [{\"marker\": {\"colorbar\": {\"outlinewidth\": 0, \"ticks\": \"\"}}, \"type\": \"scattercarpet\"}], \"scattergeo\": [{\"marker\": {\"colorbar\": {\"outlinewidth\": 0, \"ticks\": \"\"}}, \"type\": \"scattergeo\"}], \"scattergl\": [{\"marker\": {\"colorbar\": {\"outlinewidth\": 0, \"ticks\": \"\"}}, \"type\": \"scattergl\"}], \"scattermapbox\": [{\"marker\": {\"colorbar\": {\"outlinewidth\": 0, \"ticks\": \"\"}}, \"type\": \"scattermapbox\"}], \"scatterpolar\": [{\"marker\": {\"colorbar\": {\"outlinewidth\": 0, \"ticks\": \"\"}}, \"type\": \"scatterpolar\"}], \"scatterpolargl\": [{\"marker\": {\"colorbar\": {\"outlinewidth\": 0, \"ticks\": \"\"}}, \"type\": \"scatterpolargl\"}], \"scatterternary\": [{\"marker\": {\"colorbar\": {\"outlinewidth\": 0, \"ticks\": \"\"}}, \"type\": \"scatterternary\"}], \"surface\": [{\"colorbar\": {\"outlinewidth\": 0, \"ticks\": \"\"}, \"colorscale\": [[0.0, \"#0d0887\"], [0.1111111111111111, \"#46039f\"], [0.2222222222222222, \"#7201a8\"], [0.3333333333333333, \"#9c179e\"], [0.4444444444444444, \"#bd3786\"], [0.5555555555555556, \"#d8576b\"], [0.6666666666666666, \"#ed7953\"], [0.7777777777777778, \"#fb9f3a\"], [0.8888888888888888, \"#fdca26\"], [1.0, \"#f0f921\"]], \"type\": \"surface\"}], \"table\": [{\"cells\": {\"fill\": {\"color\": \"#EBF0F8\"}, \"line\": {\"color\": \"white\"}}, \"header\": {\"fill\": {\"color\": \"#C8D4E3\"}, \"line\": {\"color\": \"white\"}}, \"type\": \"table\"}]}, \"layout\": {\"annotationdefaults\": {\"arrowcolor\": \"#2a3f5f\", \"arrowhead\": 0, \"arrowwidth\": 1}, \"coloraxis\": {\"colorbar\": {\"outlinewidth\": 0, \"ticks\": \"\"}}, \"colorscale\": {\"diverging\": [[0, \"#8e0152\"], [0.1, \"#c51b7d\"], [0.2, \"#de77ae\"], [0.3, \"#f1b6da\"], [0.4, \"#fde0ef\"], [0.5, \"#f7f7f7\"], [0.6, \"#e6f5d0\"], [0.7, \"#b8e186\"], [0.8, \"#7fbc41\"], [0.9, \"#4d9221\"], [1, \"#276419\"]], \"sequential\": [[0.0, \"#0d0887\"], [0.1111111111111111, \"#46039f\"], [0.2222222222222222, \"#7201a8\"], [0.3333333333333333, \"#9c179e\"], [0.4444444444444444, \"#bd3786\"], [0.5555555555555556, \"#d8576b\"], [0.6666666666666666, \"#ed7953\"], [0.7777777777777778, \"#fb9f3a\"], [0.8888888888888888, \"#fdca26\"], [1.0, \"#f0f921\"]], \"sequentialminus\": [[0.0, \"#0d0887\"], [0.1111111111111111, \"#46039f\"], [0.2222222222222222, \"#7201a8\"], [0.3333333333333333, \"#9c179e\"], [0.4444444444444444, \"#bd3786\"], [0.5555555555555556, \"#d8576b\"], [0.6666666666666666, \"#ed7953\"], [0.7777777777777778, \"#fb9f3a\"], [0.8888888888888888, \"#fdca26\"], [1.0, \"#f0f921\"]]}, \"colorway\": [\"#636efa\", \"#EF553B\", \"#00cc96\", \"#ab63fa\", \"#FFA15A\", \"#19d3f3\", \"#FF6692\", \"#B6E880\", \"#FF97FF\", \"#FECB52\"], \"font\": {\"color\": \"#2a3f5f\"}, \"geo\": {\"bgcolor\": \"white\", \"lakecolor\": \"white\", \"landcolor\": \"#E5ECF6\", \"showlakes\": true, \"showland\": true, \"subunitcolor\": \"white\"}, \"hoverlabel\": {\"align\": \"left\"}, \"hovermode\": \"closest\", \"mapbox\": {\"style\": \"light\"}, \"paper_bgcolor\": \"white\", \"plot_bgcolor\": \"#E5ECF6\", \"polar\": {\"angularaxis\": {\"gridcolor\": \"white\", \"linecolor\": \"white\", \"ticks\": \"\"}, \"bgcolor\": \"#E5ECF6\", \"radialaxis\": {\"gridcolor\": \"white\", \"linecolor\": \"white\", \"ticks\": \"\"}}, \"scene\": {\"xaxis\": {\"backgroundcolor\": \"#E5ECF6\", \"gridcolor\": \"white\", \"gridwidth\": 2, \"linecolor\": \"white\", \"showbackground\": true, \"ticks\": \"\", \"zerolinecolor\": \"white\"}, \"yaxis\": {\"backgroundcolor\": \"#E5ECF6\", \"gridcolor\": \"white\", \"gridwidth\": 2, \"linecolor\": \"white\", \"showbackground\": true, \"ticks\": \"\", \"zerolinecolor\": \"white\"}, \"zaxis\": {\"backgroundcolor\": \"#E5ECF6\", \"gridcolor\": \"white\", \"gridwidth\": 2, \"linecolor\": \"white\", \"showbackground\": true, \"ticks\": \"\", \"zerolinecolor\": \"white\"}}, \"shapedefaults\": {\"line\": {\"color\": \"#2a3f5f\"}}, \"ternary\": {\"aaxis\": {\"gridcolor\": \"white\", \"linecolor\": \"white\", \"ticks\": \"\"}, \"baxis\": {\"gridcolor\": \"white\", \"linecolor\": \"white\", \"ticks\": \"\"}, \"bgcolor\": \"#E5ECF6\", \"caxis\": {\"gridcolor\": \"white\", \"linecolor\": \"white\", \"ticks\": \"\"}}, \"title\": {\"x\": 0.05}, \"xaxis\": {\"automargin\": true, \"gridcolor\": \"white\", \"linecolor\": \"white\", \"ticks\": \"\", \"title\": {\"standoff\": 15}, \"zerolinecolor\": \"white\", \"zerolinewidth\": 2}, \"yaxis\": {\"automargin\": true, \"gridcolor\": \"white\", \"linecolor\": \"white\", \"ticks\": \"\", \"title\": {\"standoff\": 15}, \"zerolinecolor\": \"white\", \"zerolinewidth\": 2}}}},                        {\"responsive\": true}                    ).then(function(){\n",
       "                            \n",
       "var gd = document.getElementById('ffd765bc-001c-4fb5-b8c5-f231e29abb16');\n",
       "var x = new MutationObserver(function (mutations, observer) {{\n",
       "        var display = window.getComputedStyle(gd).display;\n",
       "        if (!display || display === 'none') {{\n",
       "            console.log([gd, 'removed!']);\n",
       "            Plotly.purge(gd);\n",
       "            observer.disconnect();\n",
       "        }}\n",
       "}});\n",
       "\n",
       "// Listen for the removal of the full notebook cells\n",
       "var notebookContainer = gd.closest('#notebook-container');\n",
       "if (notebookContainer) {{\n",
       "    x.observe(notebookContainer, {childList: true});\n",
       "}}\n",
       "\n",
       "// Listen for the clearing of the current output cell\n",
       "var outputEl = gd.closest('.output');\n",
       "if (outputEl) {{\n",
       "    x.observe(outputEl, {childList: true});\n",
       "}}\n",
       "\n",
       "                        })                };                });            </script>        </div>"
      ]
     },
     "metadata": {},
     "output_type": "display_data"
    }
   ],
   "source": [
    "fig = go.Figure(data=[go.Table(header=dict(values=sum_table.columns.tolist()), \n",
    "                              cells=dict(values=[sum_table['Year/Month'], sum_table['Sales'], sum_table['BU'], sum_table['Qty.'],\n",
    "                                                sum_table['Revenue']]))])\n",
    "\n",
    "fig.show()"
   ]
  },
  {
   "cell_type": "code",
   "execution_count": 34,
   "metadata": {},
   "outputs": [
    {
     "data": {
      "application/vnd.plotly.v1+json": {
       "config": {
        "plotlyServerURL": "https://plot.ly"
       },
       "data": [
        {
         "cells": {
          "values": [
           [
            "2019-01",
            "2019-01",
            "2019-01",
            "2019-01",
            "2019-01",
            "2019-01",
            "2019-01",
            "2019-02",
            "2019-02",
            "2019-02",
            "2019-02",
            "2019-02",
            "2019-02",
            "2019-02",
            "2019-03",
            "2019-03",
            "2019-03",
            "2019-03",
            "2019-03",
            "2019-03",
            "2019-03",
            "2019-03",
            "2019-03",
            "2019-03",
            "2019-04",
            "2019-04",
            "2019-04",
            "2019-04",
            "2019-04",
            "2019-04",
            "2019-04",
            "2019-04",
            "2019-04",
            "2019-04",
            "2019-05",
            "2019-05",
            "2019-05",
            "2019-05",
            "2019-05",
            "2019-05",
            "2019-05",
            "2019-05",
            "2019-05",
            "2019-05",
            "2019-05",
            "2019-06",
            "2019-06",
            "2019-06",
            "2019-06",
            "2019-06",
            "2019-06",
            "2019-06",
            "2019-06",
            "2019-06",
            "2019-07",
            "2019-07",
            "2019-07",
            "2019-07",
            "2019-07",
            "2019-07",
            "2019-07",
            "2019-07",
            "2019-07",
            "2019-07",
            "2019-08",
            "2019-08",
            "2019-08",
            "2019-08",
            "2019-08",
            "2019-08",
            "2019-08",
            "2019-08",
            "2019-08",
            "2019-09",
            "2019-09",
            "2019-09",
            "2019-09",
            "2019-09",
            "2019-09",
            "2019-09",
            "2019-09",
            "2019-09",
            "2019-09",
            "2019-10",
            "2019-10",
            "2019-10",
            "2019-10",
            "2019-10",
            "2019-10",
            "2019-10",
            "2019-10",
            "2019-10",
            "2019-10",
            "2019-11",
            "2019-11",
            "2019-11",
            "2019-11",
            "2019-11",
            "2019-11",
            "2019-11",
            "2019-11",
            "2019-11",
            "2019-11",
            "2019-12",
            "2019-12",
            "2019-12",
            "2019-12",
            "2019-12",
            "2019-12",
            "2019-12",
            "2019-12",
            "2019-12",
            "2019-12",
            "2020-01",
            "2020-01",
            "2020-01",
            "2020-01",
            "2020-01",
            "2020-01",
            "2020-01",
            "2020-01",
            "2020-01",
            "2020-02",
            "2020-02",
            "2020-02",
            "2020-02",
            "2020-02",
            "2020-02",
            "2020-02",
            "2020-02",
            "2020-03",
            "2020-03",
            "2020-03",
            "2020-03",
            "2020-03",
            "2020-03",
            "2020-03",
            "2020-03",
            "2020-03",
            "2020-03",
            "2020-04",
            "2020-04",
            "2020-04",
            "2020-04",
            "2020-04",
            "2020-04",
            "2020-04",
            "2020-04",
            "2020-04",
            "2020-05",
            "2020-05",
            "2020-05",
            "2020-05",
            "2020-05",
            "2020-05",
            "2020-05",
            "2020-05",
            "2020-05",
            "2020-06",
            "2020-06",
            "2020-06",
            "2020-06",
            "2020-06",
            "2020-06",
            "2020-06",
            "2020-06",
            "2020-06",
            "2020-06",
            "2020-06",
            "2020-07",
            "2020-07",
            "2020-07",
            "2020-07",
            "2020-07",
            "2020-07",
            "2020-07",
            "2020-07",
            "2020-07",
            "2020-07",
            "2020-07",
            "2020-07",
            "2020-08",
            "2020-08",
            "2020-08",
            "2020-08",
            "2020-08",
            "2020-08",
            "2020-08",
            "2020-08",
            "2020-08",
            "2020-08",
            "2020-08",
            "2020-09",
            "2020-09",
            "2020-09",
            "2020-09",
            "2020-09",
            "2020-09",
            "2020-09",
            "2020-09",
            "2020-09",
            "2020-09",
            "2020-09",
            "2020-09",
            "2020-10",
            "2020-10",
            "2020-10",
            "2020-10",
            "2020-10",
            "2020-10",
            "2020-10",
            "2020-10",
            "2020-10",
            "2020-10",
            "2020-10",
            "2020-11",
            "2020-11",
            "2020-11",
            "2020-11",
            "2020-11",
            "2020-11",
            "2020-11",
            "2020-11",
            "2020-11",
            "2020-11",
            "2020-11",
            "2020-12",
            "2020-12",
            "2020-12",
            "2020-12",
            "2020-12",
            "2020-12",
            "2020-12",
            "2020-12",
            "2020-12",
            "2020-12",
            "2021-01",
            "2021-01",
            "2021-01",
            "2021-01",
            "2021-01",
            "2021-01",
            "2021-01",
            "2021-02",
            "2021-02",
            "2021-02",
            "2021-02",
            "2021-02",
            "2021-02",
            "2021-03",
            "2021-03",
            "2021-03",
            "2021-03",
            "2021-03",
            "2021-04",
            "2021-04",
            "2021-05",
            "2021-06",
            "2021-06",
            "2021-07",
            "2021-08",
            "2021-08",
            "2021-09",
            "2021-11",
            "2021-12",
            "2022-01",
            "2022-02",
            "2022-03",
            "2022-04",
            "2022-05"
           ],
           [
            "沈思明",
            "沈思明",
            "沈思明",
            "沈思明",
            "許凱智",
            "許凱智",
            "許凱智",
            "沈思明",
            "沈思明",
            "沈思明",
            "沈思明",
            "許凱智",
            "許凱智",
            "許凱智",
            "沈思明",
            "沈思明",
            "沈思明",
            "沈思明",
            "沈思明",
            "許凱智",
            "許凱智",
            "許凱智",
            "許凱智",
            "許凱智",
            "墨漢雷迪",
            "沈思明",
            "沈思明",
            "沈思明",
            "沈思明",
            "沈思明",
            "許凱智",
            "許凱智",
            "許凱智",
            "許凱智",
            "墨漢雷迪",
            "沈思明",
            "沈思明",
            "沈思明",
            "沈思明",
            "沈思明",
            "沈思明",
            "許凱智",
            "許凱智",
            "許凱智",
            "許凱智",
            "沈思明",
            "沈思明",
            "沈思明",
            "沈思明",
            "沈思明",
            "許凱智",
            "許凱智",
            "許凱智",
            "許凱智",
            "沈思明",
            "沈思明",
            "沈思明",
            "沈思明",
            "沈思明",
            "沈思明",
            "許凱智",
            "許凱智",
            "許凱智",
            "許凱智",
            "沈思明",
            "沈思明",
            "沈思明",
            "沈思明",
            "沈思明",
            "許凱智",
            "許凱智",
            "許凱智",
            "許凱智",
            "沈思明",
            "沈思明",
            "沈思明",
            "沈思明",
            "沈思明",
            "沈思明",
            "許凱智",
            "許凱智",
            "許凱智",
            "許凱智",
            "墨漢雷迪",
            "沈思明",
            "沈思明",
            "沈思明",
            "沈思明",
            "沈思明",
            "許凱智",
            "許凱智",
            "許凱智",
            "許凱智",
            "墨漢雷迪",
            "沈思明",
            "沈思明",
            "沈思明",
            "沈思明",
            "沈思明",
            "許凱智",
            "許凱智",
            "許凱智",
            "許凱智",
            "墨漢雷迪",
            "沈思明",
            "沈思明",
            "沈思明",
            "沈思明",
            "沈思明",
            "許凱智",
            "許凱智",
            "許凱智",
            "許凱智",
            "沈思明",
            "沈思明",
            "沈思明",
            "沈思明",
            "沈思明",
            "許凱智",
            "許凱智",
            "許凱智",
            "許凱智",
            "沈思明",
            "沈思明",
            "沈思明",
            "沈思明",
            "許凱智",
            "許凱智",
            "許凱智",
            "許凱智",
            "墨漢雷迪",
            "沈思明",
            "沈思明",
            "沈思明",
            "沈思明",
            "沈思明",
            "許凱智",
            "許凱智",
            "許凱智",
            "許凱智",
            "沈思明",
            "沈思明",
            "沈思明",
            "沈思明",
            "沈思明",
            "許凱智",
            "許凱智",
            "許凱智",
            "許凱智",
            "沈思明",
            "沈思明",
            "沈思明",
            "沈思明",
            "沈思明",
            "許凱智",
            "許凱智",
            "許凱智",
            "許凱智",
            "墨漢雷迪",
            "沈思明",
            "沈思明",
            "沈思明",
            "沈思明",
            "沈思明",
            "沈思明",
            "許凱智",
            "許凱智",
            "許凱智",
            "許凱智",
            "墨漢雷迪",
            "沈思明",
            "沈思明",
            "沈思明",
            "沈思明",
            "沈思明",
            "沈思明",
            "許凱智",
            "許凱智",
            "許凱智",
            "許凱智",
            "許凱智",
            "墨漢雷迪",
            "墨漢雷迪",
            "沈思明",
            "沈思明",
            "沈思明",
            "沈思明",
            "沈思明",
            "許凱智",
            "許凱智",
            "許凱智",
            "許凱智",
            "墨漢雷迪",
            "沈思明",
            "沈思明",
            "沈思明",
            "沈思明",
            "沈思明",
            "沈思明",
            "許凱智",
            "許凱智",
            "許凱智",
            "許凱智",
            "許凱智",
            "墨漢雷迪",
            "沈思明",
            "沈思明",
            "沈思明",
            "沈思明",
            "沈思明",
            "沈思明",
            "許凱智",
            "許凱智",
            "許凱智",
            "許凱智",
            "墨漢雷迪",
            "沈思明",
            "沈思明",
            "沈思明",
            "沈思明",
            "沈思明",
            "許凱智",
            "許凱智",
            "許凱智",
            "許凱智",
            "許凱智",
            "墨漢雷迪",
            "沈思明",
            "沈思明",
            "沈思明",
            "沈思明",
            "沈思明",
            "許凱智",
            "許凱智",
            "許凱智",
            "許凱智",
            "沈思明",
            "沈思明",
            "沈思明",
            "沈思明",
            "許凱智",
            "許凱智",
            "許凱智",
            "沈思明",
            "沈思明",
            "沈思明",
            "沈思明",
            "許凱智",
            "許凱智",
            "沈思明",
            "沈思明",
            "沈思明",
            "許凱智",
            "許凱智",
            "沈思明",
            "許凱智",
            "許凱智",
            "沈思明",
            "許凱智",
            "許凱智",
            "沈思明",
            "許凱智",
            "許凱智",
            "許凱智",
            "許凱智",
            "許凱智",
            "許凱智",
            "許凱智",
            "許凱智",
            "許凱智"
           ],
           [
            "EMC",
            "ODM",
            "PC",
            "WIP",
            "EMC",
            "RF",
            "WIP",
            "EMC",
            "ODM",
            "PC",
            "WIP",
            "EMC",
            "RF",
            "WIP",
            "EMC",
            "ODM",
            "Others",
            "PC",
            "WIP",
            "EMC",
            "Others",
            "PC",
            "RF",
            "WIP",
            "RF",
            "EMC",
            "ODM",
            "Others",
            "PC",
            "WIP",
            "EMC",
            "PC",
            "RF",
            "WIP",
            "RF",
            "EMC",
            "ODM",
            "Others",
            "PC",
            "RF",
            "WIP",
            "EMC",
            "PC",
            "RF",
            "WIP",
            "EMC",
            "ODM",
            "PC",
            "RF",
            "WIP",
            "EMC",
            "PC",
            "RF",
            "WIP",
            "EMC",
            "ODM",
            "Others",
            "PC",
            "RF",
            "WIP",
            "EMC",
            "PC",
            "RF",
            "WIP",
            "EMC",
            "ODM",
            "PC",
            "RF",
            "WIP",
            "EMC",
            "PC",
            "RF",
            "WIP",
            "EMC",
            "ODM",
            "Others",
            "PC",
            "RF",
            "WIP",
            "EMC",
            "PC",
            "RF",
            "WIP",
            "PC",
            "EMC",
            "ODM",
            "PC",
            "RF",
            "WIP",
            "EMC",
            "PC",
            "RF",
            "WIP",
            "RF",
            "EMC",
            "ODM",
            "PC",
            "RF",
            "WIP",
            "EMC",
            "PC",
            "RF",
            "WIP",
            "RF",
            "EMC",
            "ODM",
            "PC",
            "RF",
            "WIP",
            "EMC",
            "PC",
            "RF",
            "WIP",
            "EMC",
            "ODM",
            "PC",
            "RF",
            "WIP",
            "EMC",
            "PC",
            "RF",
            "WIP",
            "EMC",
            "ODM",
            "PC",
            "WIP",
            "EMC",
            "PC",
            "RF",
            "WIP",
            "Others",
            "EMC",
            "ODM",
            "PC",
            "RF",
            "WIP",
            "EMC",
            "PC",
            "RF",
            "WIP",
            "EMC",
            "ODM",
            "PC",
            "RF",
            "WIP",
            "EMC",
            "PC",
            "RF",
            "WIP",
            "EMC",
            "ODM",
            "PC",
            "RF",
            "WIP",
            "EMC",
            "PC",
            "RF",
            "WIP",
            "RF",
            "EMC",
            "ODM",
            "Others",
            "PC",
            "RF",
            "WIP",
            "EMC",
            "PC",
            "RF",
            "WIP",
            "RF",
            "EMC",
            "ODM",
            "Others",
            "PC",
            "RF",
            "WIP",
            "EMC",
            "Others",
            "PC",
            "RF",
            "WIP",
            "Others",
            "RF",
            "EMC",
            "ODM",
            "Others",
            "PC",
            "WIP",
            "EMC",
            "PC",
            "RF",
            "WIP",
            "RF",
            "EMC",
            "ODM",
            "Others",
            "PC",
            "RF",
            "WIP",
            "EMC",
            "Others",
            "PC",
            "RF",
            "WIP",
            "RF",
            "EMC",
            "ODM",
            "Others",
            "PC",
            "RF",
            "WIP",
            "EMC",
            "PC",
            "RF",
            "WIP",
            "RF",
            "EMC",
            "ODM",
            "PC",
            "RF",
            "WIP",
            "EMC",
            "Others",
            "PC",
            "RF",
            "WIP",
            "RF",
            "EMC",
            "ODM",
            "PC",
            "RF",
            "WIP",
            "EMC",
            "PC",
            "RF",
            "WIP",
            "EMC",
            "PC",
            "RF",
            "WIP",
            "EMC",
            "RF",
            "WIP",
            "EMC",
            "PC",
            "RF",
            "WIP",
            "EMC",
            "WIP",
            "EMC",
            "PC",
            "WIP",
            "EMC",
            "WIP",
            "PC",
            "WIP",
            "WIP",
            "PC",
            "WIP",
            "WIP",
            "PC",
            "WIP",
            "WIP",
            "WIP",
            "WIP",
            "WIP",
            "WIP",
            "WIP",
            "WIP",
            "WIP"
           ],
           [
            3288000,
            17971,
            40818000,
            5460000,
            2618000,
            227800,
            1671000,
            7242000,
            9399,
            32100000,
            3489000,
            151000,
            6000,
            726000,
            8579000,
            2001,
            312,
            48902000,
            2319000,
            1935000,
            5646802,
            183000,
            167200,
            2733000,
            25,
            16449000,
            1544,
            571520,
            30069000,
            2463000,
            5500000,
            34000,
            268020,
            5706000,
            101,
            18640000,
            30747,
            1288,
            25437000,
            24000,
            3015000,
            5034000,
            149000,
            242570,
            5508000,
            9078000,
            78067,
            44457000,
            200000,
            3054000,
            4244000,
            20000,
            185000,
            5667000,
            5076000,
            168550,
            1572,
            55601000,
            568000,
            2814000,
            5495000,
            33000,
            199810,
            9285000,
            3151000,
            53042,
            68085000,
            460000,
            5466000,
            3165000,
            5246000,
            151975,
            2412000,
            1050000,
            144407,
            82,
            57928000,
            660000,
            3498000,
            3852000,
            1958000,
            364256,
            4860000,
            20000,
            2523000,
            142805,
            49160000,
            532000,
            4056000,
            3775000,
            482000,
            45862,
            8553000,
            7000,
            5982000,
            1770,
            50541000,
            224000,
            3921000,
            5057000,
            2508000,
            182000,
            10218000,
            3200,
            1893000,
            21054,
            30191000,
            456000,
            5604000,
            5595000,
            3540000,
            187000,
            4644000,
            20262000,
            1270,
            49922000,
            2000,
            5046000,
            7310500,
            1360040,
            383050,
            2616000,
            9064000,
            40201,
            36281000,
            2397000,
            6701500,
            298000,
            125800,
            3513000,
            1,
            29708000,
            24450,
            52864000,
            80000,
            3702000,
            5682000,
            2776000,
            78400,
            4599000,
            32980000,
            99888,
            53130000,
            352000,
            2853000,
            7851000,
            1350000,
            239290,
            3705000,
            35444000,
            144769,
            57974000,
            216000,
            5751000,
            13603500,
            2014000,
            84710,
            2904000,
            2400,
            38811000,
            76285,
            4,
            59498000,
            352000,
            4665000,
            6558000,
            1422000,
            63308,
            7203000,
            840000,
            32254000,
            243976,
            1,
            65590600,
            680000,
            3999000,
            7567000,
            2,
            6708000,
            156000,
            8880000,
            600,
            2601155,
            40705000,
            188827,
            4,
            63731400,
            2754000,
            4704500,
            9120000,
            187480,
            6162000,
            6125,
            49325000,
            239330,
            2,
            84018000,
            336000,
            3276000,
            11637000,
            1,
            7374000,
            517572,
            6945000,
            360110,
            46836000,
            99613,
            1,
            79449000,
            96000,
            4755000,
            20700000,
            10633000,
            191700,
            13662000,
            10408000,
            33661000,
            178555,
            54233000,
            364000,
            2433000,
            18224000,
            303,
            4850000,
            342100,
            13443000,
            12100,
            23873000,
            2885,
            84936000,
            248000,
            4242000,
            37355000,
            316000,
            1017120,
            18449000,
            10993000,
            36827000,
            400000,
            4602000,
            9012000,
            303000,
            7035000,
            5837000,
            9823000,
            244000,
            1431000,
            3647000,
            7002000,
            5800000,
            420000,
            423000,
            991000,
            7002000,
            90000,
            5997000,
            3489000,
            60000,
            1170000,
            5121000,
            60000,
            2391000,
            999000,
            2199000,
            3006000,
            4008000,
            3498000,
            3039000,
            3342000,
            2532000
           ],
           [
            639601,
            1664223,
            15583174,
            5533350,
            98233,
            1610598,
            725782,
            526161,
            1267601,
            11114041,
            2678954,
            7282,
            42085,
            301936,
            795789,
            2175349,
            320335,
            15386572,
            2362894,
            72736,
            502566,
            110494,
            1658890,
            1115231,
            7698,
            1007810,
            2283310,
            401670,
            10400251,
            2401633,
            564839,
            29752,
            2306899,
            1687549,
            15097,
            1210527,
            2318310,
            1230181,
            9663017,
            40616,
            2943214,
            520300,
            114613,
            2013308,
            1770754,
            569069,
            5850014,
            16719438,
            338575,
            3061808,
            253648,
            31583,
            1787713,
            1721411,
            962277,
            5518784,
            1532589,
            18670751,
            967960,
            2636811,
            704743,
            26780,
            2116283,
            2763142,
            378135,
            7175998,
            25914896,
            788953,
            4725615,
            473726,
            264138,
            1430089,
            724976,
            269117,
            5898345,
            30508,
            21164429,
            1126158,
            3326706,
            489679,
            105915,
            3667218,
            1459354,
            9267,
            330376,
            3861906,
            16139241,
            919158,
            3518577,
            333636,
            33196,
            440138,
            2773588,
            138980,
            645452,
            1836898,
            15007820,
            384630,
            4015251,
            724359,
            125808,
            1733161,
            3134880,
            40415,
            89261,
            895352,
            9066222,
            769434,
            4395731,
            514713,
            190437,
            1361988,
            1468209,
            906326,
            1056795,
            16652209,
            33366,
            3948181,
            880537,
            188335,
            2688900,
            791870,
            619350,
            319090,
            11287673,
            1843766,
            977233,
            45706,
            916228,
            1099423,
            7471,
            1920980,
            584700,
            16877919,
            133848,
            3511759,
            470448,
            271508,
            544224,
            1393735,
            1365968,
            1176499,
            16716181,
            581236,
            2564819,
            571436,
            88338,
            2043620,
            1192378,
            1515590,
            1321462,
            16472965,
            520671,
            4329666,
            744959,
            98052,
            1055230,
            913073,
            30373,
            1955429,
            1812967,
            241419,
            17744153,
            580914,
            3839902,
            417908,
            99084,
            1406779,
            2322085,
            743400,
            1618627,
            4350119,
            18232,
            20733212,
            1115403,
            2847642,
            400421,
            600,
            326112,
            2622797,
            2906842,
            4847,
            2318095,
            2279001,
            6143593,
            104673,
            21069400,
            2305222,
            1019063,
            437760,
            2762363,
            1934075,
            82472,
            2601294,
            7227998,
            3063,
            25774029,
            546143,
            2787288,
            1042642,
            38340,
            386976,
            7460815,
            2210665,
            444401,
            2347179,
            8688968,
            565308,
            26988859,
            155667,
            3709502,
            1516365,
            532160,
            3849682,
            4271709,
            12760124,
            1843944,
            6100968,
            16999532,
            586865,
            1932782,
            1939284,
            8655,
            239392,
            5991132,
            4180660,
            67627,
            1473521,
            3945551,
            25225605,
            395425,
            3321291,
            3047209,
            109389,
            12704537,
            5644264,
            872005,
            11978904,
            634480,
            3446790,
            846321,
            2575328,
            2162901,
            603027,
            2697698,
            386361,
            1016829,
            603601,
            2137783,
            253129,
            234086,
            347898,
            43243,
            2137783,
            94704,
            1846333,
            1155348,
            52683,
            381109,
            1485090,
            52683,
            693390,
            289710,
            710727,
            871740,
            1162320,
            1014420,
            881310,
            986016,
            745077
           ]
          ]
         },
         "domain": {
          "x": [
           0,
           0.54
          ],
          "y": [
           0,
           1
          ]
         },
         "header": {
          "values": [
           "Year/Month",
           "Sales",
           "BU",
           "Qty.",
           "Revenue"
          ]
         },
         "type": "table"
        }
       ],
       "layout": {
        "height": 1080,
        "template": {
         "data": {
          "bar": [
           {
            "error_x": {
             "color": "#2a3f5f"
            },
            "error_y": {
             "color": "#2a3f5f"
            },
            "marker": {
             "line": {
              "color": "#E5ECF6",
              "width": 0.5
             }
            },
            "type": "bar"
           }
          ],
          "barpolar": [
           {
            "marker": {
             "line": {
              "color": "#E5ECF6",
              "width": 0.5
             }
            },
            "type": "barpolar"
           }
          ],
          "carpet": [
           {
            "aaxis": {
             "endlinecolor": "#2a3f5f",
             "gridcolor": "white",
             "linecolor": "white",
             "minorgridcolor": "white",
             "startlinecolor": "#2a3f5f"
            },
            "baxis": {
             "endlinecolor": "#2a3f5f",
             "gridcolor": "white",
             "linecolor": "white",
             "minorgridcolor": "white",
             "startlinecolor": "#2a3f5f"
            },
            "type": "carpet"
           }
          ],
          "choropleth": [
           {
            "colorbar": {
             "outlinewidth": 0,
             "ticks": ""
            },
            "type": "choropleth"
           }
          ],
          "contour": [
           {
            "colorbar": {
             "outlinewidth": 0,
             "ticks": ""
            },
            "colorscale": [
             [
              0,
              "#0d0887"
             ],
             [
              0.1111111111111111,
              "#46039f"
             ],
             [
              0.2222222222222222,
              "#7201a8"
             ],
             [
              0.3333333333333333,
              "#9c179e"
             ],
             [
              0.4444444444444444,
              "#bd3786"
             ],
             [
              0.5555555555555556,
              "#d8576b"
             ],
             [
              0.6666666666666666,
              "#ed7953"
             ],
             [
              0.7777777777777778,
              "#fb9f3a"
             ],
             [
              0.8888888888888888,
              "#fdca26"
             ],
             [
              1,
              "#f0f921"
             ]
            ],
            "type": "contour"
           }
          ],
          "contourcarpet": [
           {
            "colorbar": {
             "outlinewidth": 0,
             "ticks": ""
            },
            "type": "contourcarpet"
           }
          ],
          "heatmap": [
           {
            "colorbar": {
             "outlinewidth": 0,
             "ticks": ""
            },
            "colorscale": [
             [
              0,
              "#0d0887"
             ],
             [
              0.1111111111111111,
              "#46039f"
             ],
             [
              0.2222222222222222,
              "#7201a8"
             ],
             [
              0.3333333333333333,
              "#9c179e"
             ],
             [
              0.4444444444444444,
              "#bd3786"
             ],
             [
              0.5555555555555556,
              "#d8576b"
             ],
             [
              0.6666666666666666,
              "#ed7953"
             ],
             [
              0.7777777777777778,
              "#fb9f3a"
             ],
             [
              0.8888888888888888,
              "#fdca26"
             ],
             [
              1,
              "#f0f921"
             ]
            ],
            "type": "heatmap"
           }
          ],
          "heatmapgl": [
           {
            "colorbar": {
             "outlinewidth": 0,
             "ticks": ""
            },
            "colorscale": [
             [
              0,
              "#0d0887"
             ],
             [
              0.1111111111111111,
              "#46039f"
             ],
             [
              0.2222222222222222,
              "#7201a8"
             ],
             [
              0.3333333333333333,
              "#9c179e"
             ],
             [
              0.4444444444444444,
              "#bd3786"
             ],
             [
              0.5555555555555556,
              "#d8576b"
             ],
             [
              0.6666666666666666,
              "#ed7953"
             ],
             [
              0.7777777777777778,
              "#fb9f3a"
             ],
             [
              0.8888888888888888,
              "#fdca26"
             ],
             [
              1,
              "#f0f921"
             ]
            ],
            "type": "heatmapgl"
           }
          ],
          "histogram": [
           {
            "marker": {
             "colorbar": {
              "outlinewidth": 0,
              "ticks": ""
             }
            },
            "type": "histogram"
           }
          ],
          "histogram2d": [
           {
            "colorbar": {
             "outlinewidth": 0,
             "ticks": ""
            },
            "colorscale": [
             [
              0,
              "#0d0887"
             ],
             [
              0.1111111111111111,
              "#46039f"
             ],
             [
              0.2222222222222222,
              "#7201a8"
             ],
             [
              0.3333333333333333,
              "#9c179e"
             ],
             [
              0.4444444444444444,
              "#bd3786"
             ],
             [
              0.5555555555555556,
              "#d8576b"
             ],
             [
              0.6666666666666666,
              "#ed7953"
             ],
             [
              0.7777777777777778,
              "#fb9f3a"
             ],
             [
              0.8888888888888888,
              "#fdca26"
             ],
             [
              1,
              "#f0f921"
             ]
            ],
            "type": "histogram2d"
           }
          ],
          "histogram2dcontour": [
           {
            "colorbar": {
             "outlinewidth": 0,
             "ticks": ""
            },
            "colorscale": [
             [
              0,
              "#0d0887"
             ],
             [
              0.1111111111111111,
              "#46039f"
             ],
             [
              0.2222222222222222,
              "#7201a8"
             ],
             [
              0.3333333333333333,
              "#9c179e"
             ],
             [
              0.4444444444444444,
              "#bd3786"
             ],
             [
              0.5555555555555556,
              "#d8576b"
             ],
             [
              0.6666666666666666,
              "#ed7953"
             ],
             [
              0.7777777777777778,
              "#fb9f3a"
             ],
             [
              0.8888888888888888,
              "#fdca26"
             ],
             [
              1,
              "#f0f921"
             ]
            ],
            "type": "histogram2dcontour"
           }
          ],
          "mesh3d": [
           {
            "colorbar": {
             "outlinewidth": 0,
             "ticks": ""
            },
            "type": "mesh3d"
           }
          ],
          "parcoords": [
           {
            "line": {
             "colorbar": {
              "outlinewidth": 0,
              "ticks": ""
             }
            },
            "type": "parcoords"
           }
          ],
          "pie": [
           {
            "automargin": true,
            "type": "pie"
           }
          ],
          "scatter": [
           {
            "marker": {
             "colorbar": {
              "outlinewidth": 0,
              "ticks": ""
             }
            },
            "type": "scatter"
           }
          ],
          "scatter3d": [
           {
            "line": {
             "colorbar": {
              "outlinewidth": 0,
              "ticks": ""
             }
            },
            "marker": {
             "colorbar": {
              "outlinewidth": 0,
              "ticks": ""
             }
            },
            "type": "scatter3d"
           }
          ],
          "scattercarpet": [
           {
            "marker": {
             "colorbar": {
              "outlinewidth": 0,
              "ticks": ""
             }
            },
            "type": "scattercarpet"
           }
          ],
          "scattergeo": [
           {
            "marker": {
             "colorbar": {
              "outlinewidth": 0,
              "ticks": ""
             }
            },
            "type": "scattergeo"
           }
          ],
          "scattergl": [
           {
            "marker": {
             "colorbar": {
              "outlinewidth": 0,
              "ticks": ""
             }
            },
            "type": "scattergl"
           }
          ],
          "scattermapbox": [
           {
            "marker": {
             "colorbar": {
              "outlinewidth": 0,
              "ticks": ""
             }
            },
            "type": "scattermapbox"
           }
          ],
          "scatterpolar": [
           {
            "marker": {
             "colorbar": {
              "outlinewidth": 0,
              "ticks": ""
             }
            },
            "type": "scatterpolar"
           }
          ],
          "scatterpolargl": [
           {
            "marker": {
             "colorbar": {
              "outlinewidth": 0,
              "ticks": ""
             }
            },
            "type": "scatterpolargl"
           }
          ],
          "scatterternary": [
           {
            "marker": {
             "colorbar": {
              "outlinewidth": 0,
              "ticks": ""
             }
            },
            "type": "scatterternary"
           }
          ],
          "surface": [
           {
            "colorbar": {
             "outlinewidth": 0,
             "ticks": ""
            },
            "colorscale": [
             [
              0,
              "#0d0887"
             ],
             [
              0.1111111111111111,
              "#46039f"
             ],
             [
              0.2222222222222222,
              "#7201a8"
             ],
             [
              0.3333333333333333,
              "#9c179e"
             ],
             [
              0.4444444444444444,
              "#bd3786"
             ],
             [
              0.5555555555555556,
              "#d8576b"
             ],
             [
              0.6666666666666666,
              "#ed7953"
             ],
             [
              0.7777777777777778,
              "#fb9f3a"
             ],
             [
              0.8888888888888888,
              "#fdca26"
             ],
             [
              1,
              "#f0f921"
             ]
            ],
            "type": "surface"
           }
          ],
          "table": [
           {
            "cells": {
             "fill": {
              "color": "#EBF0F8"
             },
             "line": {
              "color": "white"
             }
            },
            "header": {
             "fill": {
              "color": "#C8D4E3"
             },
             "line": {
              "color": "white"
             }
            },
            "type": "table"
           }
          ]
         },
         "layout": {
          "annotationdefaults": {
           "arrowcolor": "#2a3f5f",
           "arrowhead": 0,
           "arrowwidth": 1
          },
          "coloraxis": {
           "colorbar": {
            "outlinewidth": 0,
            "ticks": ""
           }
          },
          "colorscale": {
           "diverging": [
            [
             0,
             "#8e0152"
            ],
            [
             0.1,
             "#c51b7d"
            ],
            [
             0.2,
             "#de77ae"
            ],
            [
             0.3,
             "#f1b6da"
            ],
            [
             0.4,
             "#fde0ef"
            ],
            [
             0.5,
             "#f7f7f7"
            ],
            [
             0.6,
             "#e6f5d0"
            ],
            [
             0.7,
             "#b8e186"
            ],
            [
             0.8,
             "#7fbc41"
            ],
            [
             0.9,
             "#4d9221"
            ],
            [
             1,
             "#276419"
            ]
           ],
           "sequential": [
            [
             0,
             "#0d0887"
            ],
            [
             0.1111111111111111,
             "#46039f"
            ],
            [
             0.2222222222222222,
             "#7201a8"
            ],
            [
             0.3333333333333333,
             "#9c179e"
            ],
            [
             0.4444444444444444,
             "#bd3786"
            ],
            [
             0.5555555555555556,
             "#d8576b"
            ],
            [
             0.6666666666666666,
             "#ed7953"
            ],
            [
             0.7777777777777778,
             "#fb9f3a"
            ],
            [
             0.8888888888888888,
             "#fdca26"
            ],
            [
             1,
             "#f0f921"
            ]
           ],
           "sequentialminus": [
            [
             0,
             "#0d0887"
            ],
            [
             0.1111111111111111,
             "#46039f"
            ],
            [
             0.2222222222222222,
             "#7201a8"
            ],
            [
             0.3333333333333333,
             "#9c179e"
            ],
            [
             0.4444444444444444,
             "#bd3786"
            ],
            [
             0.5555555555555556,
             "#d8576b"
            ],
            [
             0.6666666666666666,
             "#ed7953"
            ],
            [
             0.7777777777777778,
             "#fb9f3a"
            ],
            [
             0.8888888888888888,
             "#fdca26"
            ],
            [
             1,
             "#f0f921"
            ]
           ]
          },
          "colorway": [
           "#636efa",
           "#EF553B",
           "#00cc96",
           "#ab63fa",
           "#FFA15A",
           "#19d3f3",
           "#FF6692",
           "#B6E880",
           "#FF97FF",
           "#FECB52"
          ],
          "font": {
           "color": "#2a3f5f"
          },
          "geo": {
           "bgcolor": "white",
           "lakecolor": "white",
           "landcolor": "#E5ECF6",
           "showlakes": true,
           "showland": true,
           "subunitcolor": "white"
          },
          "hoverlabel": {
           "align": "left"
          },
          "hovermode": "closest",
          "mapbox": {
           "style": "light"
          },
          "paper_bgcolor": "white",
          "plot_bgcolor": "#E5ECF6",
          "polar": {
           "angularaxis": {
            "gridcolor": "white",
            "linecolor": "white",
            "ticks": ""
           },
           "bgcolor": "#E5ECF6",
           "radialaxis": {
            "gridcolor": "white",
            "linecolor": "white",
            "ticks": ""
           }
          },
          "scene": {
           "xaxis": {
            "backgroundcolor": "#E5ECF6",
            "gridcolor": "white",
            "gridwidth": 2,
            "linecolor": "white",
            "showbackground": true,
            "ticks": "",
            "zerolinecolor": "white"
           },
           "yaxis": {
            "backgroundcolor": "#E5ECF6",
            "gridcolor": "white",
            "gridwidth": 2,
            "linecolor": "white",
            "showbackground": true,
            "ticks": "",
            "zerolinecolor": "white"
           },
           "zaxis": {
            "backgroundcolor": "#E5ECF6",
            "gridcolor": "white",
            "gridwidth": 2,
            "linecolor": "white",
            "showbackground": true,
            "ticks": "",
            "zerolinecolor": "white"
           }
          },
          "shapedefaults": {
           "line": {
            "color": "#2a3f5f"
           }
          },
          "ternary": {
           "aaxis": {
            "gridcolor": "white",
            "linecolor": "white",
            "ticks": ""
           },
           "baxis": {
            "gridcolor": "white",
            "linecolor": "white",
            "ticks": ""
           },
           "bgcolor": "#E5ECF6",
           "caxis": {
            "gridcolor": "white",
            "linecolor": "white",
            "ticks": ""
           }
          },
          "title": {
           "x": 0.05
          },
          "xaxis": {
           "automargin": true,
           "gridcolor": "white",
           "linecolor": "white",
           "ticks": "",
           "title": {
            "standoff": 15
           },
           "zerolinecolor": "white",
           "zerolinewidth": 2
          },
          "yaxis": {
           "automargin": true,
           "gridcolor": "white",
           "linecolor": "white",
           "ticks": "",
           "title": {
            "standoff": 15
           },
           "zerolinecolor": "white",
           "zerolinewidth": 2
          }
         }
        },
        "title": {
         "text": "Test"
        },
        "width": 1920
       }
      },
      "text/html": [
       "<div>                            <div id=\"d47992a8-c841-4df3-bff5-8b8c06a56810\" class=\"plotly-graph-div\" style=\"height:1080px; width:1920px;\"></div>            <script type=\"text/javascript\">                require([\"plotly\"], function(Plotly) {                    window.PLOTLYENV=window.PLOTLYENV || {};                                    if (document.getElementById(\"d47992a8-c841-4df3-bff5-8b8c06a56810\")) {                    Plotly.newPlot(                        \"d47992a8-c841-4df3-bff5-8b8c06a56810\",                        [{\"cells\": {\"values\": [[\"2019-01\", \"2019-01\", \"2019-01\", \"2019-01\", \"2019-01\", \"2019-01\", \"2019-01\", \"2019-02\", \"2019-02\", \"2019-02\", \"2019-02\", \"2019-02\", \"2019-02\", \"2019-02\", \"2019-03\", \"2019-03\", \"2019-03\", \"2019-03\", \"2019-03\", \"2019-03\", \"2019-03\", \"2019-03\", \"2019-03\", \"2019-03\", \"2019-04\", \"2019-04\", \"2019-04\", \"2019-04\", \"2019-04\", \"2019-04\", \"2019-04\", \"2019-04\", \"2019-04\", \"2019-04\", \"2019-05\", \"2019-05\", \"2019-05\", \"2019-05\", \"2019-05\", \"2019-05\", \"2019-05\", \"2019-05\", \"2019-05\", \"2019-05\", \"2019-05\", \"2019-06\", \"2019-06\", \"2019-06\", \"2019-06\", \"2019-06\", \"2019-06\", \"2019-06\", \"2019-06\", \"2019-06\", \"2019-07\", \"2019-07\", \"2019-07\", \"2019-07\", \"2019-07\", \"2019-07\", \"2019-07\", \"2019-07\", \"2019-07\", \"2019-07\", \"2019-08\", \"2019-08\", \"2019-08\", \"2019-08\", \"2019-08\", \"2019-08\", \"2019-08\", \"2019-08\", \"2019-08\", \"2019-09\", \"2019-09\", \"2019-09\", \"2019-09\", \"2019-09\", \"2019-09\", \"2019-09\", \"2019-09\", \"2019-09\", \"2019-09\", \"2019-10\", \"2019-10\", \"2019-10\", \"2019-10\", \"2019-10\", \"2019-10\", \"2019-10\", \"2019-10\", \"2019-10\", \"2019-10\", \"2019-11\", \"2019-11\", \"2019-11\", \"2019-11\", \"2019-11\", \"2019-11\", \"2019-11\", \"2019-11\", \"2019-11\", \"2019-11\", \"2019-12\", \"2019-12\", \"2019-12\", \"2019-12\", \"2019-12\", \"2019-12\", \"2019-12\", \"2019-12\", \"2019-12\", \"2019-12\", \"2020-01\", \"2020-01\", \"2020-01\", \"2020-01\", \"2020-01\", \"2020-01\", \"2020-01\", \"2020-01\", \"2020-01\", \"2020-02\", \"2020-02\", \"2020-02\", \"2020-02\", \"2020-02\", \"2020-02\", \"2020-02\", \"2020-02\", \"2020-03\", \"2020-03\", \"2020-03\", \"2020-03\", \"2020-03\", \"2020-03\", \"2020-03\", \"2020-03\", \"2020-03\", \"2020-03\", \"2020-04\", \"2020-04\", \"2020-04\", \"2020-04\", \"2020-04\", \"2020-04\", \"2020-04\", \"2020-04\", \"2020-04\", \"2020-05\", \"2020-05\", \"2020-05\", \"2020-05\", \"2020-05\", \"2020-05\", \"2020-05\", \"2020-05\", \"2020-05\", \"2020-06\", \"2020-06\", \"2020-06\", \"2020-06\", \"2020-06\", \"2020-06\", \"2020-06\", \"2020-06\", \"2020-06\", \"2020-06\", \"2020-06\", \"2020-07\", \"2020-07\", \"2020-07\", \"2020-07\", \"2020-07\", \"2020-07\", \"2020-07\", \"2020-07\", \"2020-07\", \"2020-07\", \"2020-07\", \"2020-07\", \"2020-08\", \"2020-08\", \"2020-08\", \"2020-08\", \"2020-08\", \"2020-08\", \"2020-08\", \"2020-08\", \"2020-08\", \"2020-08\", \"2020-08\", \"2020-09\", \"2020-09\", \"2020-09\", \"2020-09\", \"2020-09\", \"2020-09\", \"2020-09\", \"2020-09\", \"2020-09\", \"2020-09\", \"2020-09\", \"2020-09\", \"2020-10\", \"2020-10\", \"2020-10\", \"2020-10\", \"2020-10\", \"2020-10\", \"2020-10\", \"2020-10\", \"2020-10\", \"2020-10\", \"2020-10\", \"2020-11\", \"2020-11\", \"2020-11\", \"2020-11\", \"2020-11\", \"2020-11\", \"2020-11\", \"2020-11\", \"2020-11\", \"2020-11\", \"2020-11\", \"2020-12\", \"2020-12\", \"2020-12\", \"2020-12\", \"2020-12\", \"2020-12\", \"2020-12\", \"2020-12\", \"2020-12\", \"2020-12\", \"2021-01\", \"2021-01\", \"2021-01\", \"2021-01\", \"2021-01\", \"2021-01\", \"2021-01\", \"2021-02\", \"2021-02\", \"2021-02\", \"2021-02\", \"2021-02\", \"2021-02\", \"2021-03\", \"2021-03\", \"2021-03\", \"2021-03\", \"2021-03\", \"2021-04\", \"2021-04\", \"2021-05\", \"2021-06\", \"2021-06\", \"2021-07\", \"2021-08\", \"2021-08\", \"2021-09\", \"2021-11\", \"2021-12\", \"2022-01\", \"2022-02\", \"2022-03\", \"2022-04\", \"2022-05\"], [\"\\u6c88\\u601d\\u660e\", \"\\u6c88\\u601d\\u660e\", \"\\u6c88\\u601d\\u660e\", \"\\u6c88\\u601d\\u660e\", \"\\u8a31\\u51f1\\u667a\", \"\\u8a31\\u51f1\\u667a\", \"\\u8a31\\u51f1\\u667a\", \"\\u6c88\\u601d\\u660e\", \"\\u6c88\\u601d\\u660e\", \"\\u6c88\\u601d\\u660e\", \"\\u6c88\\u601d\\u660e\", \"\\u8a31\\u51f1\\u667a\", \"\\u8a31\\u51f1\\u667a\", \"\\u8a31\\u51f1\\u667a\", \"\\u6c88\\u601d\\u660e\", \"\\u6c88\\u601d\\u660e\", \"\\u6c88\\u601d\\u660e\", \"\\u6c88\\u601d\\u660e\", \"\\u6c88\\u601d\\u660e\", \"\\u8a31\\u51f1\\u667a\", \"\\u8a31\\u51f1\\u667a\", \"\\u8a31\\u51f1\\u667a\", \"\\u8a31\\u51f1\\u667a\", \"\\u8a31\\u51f1\\u667a\", \"\\u58a8\\u6f22\\u96f7\\u8fea\", \"\\u6c88\\u601d\\u660e\", \"\\u6c88\\u601d\\u660e\", \"\\u6c88\\u601d\\u660e\", \"\\u6c88\\u601d\\u660e\", \"\\u6c88\\u601d\\u660e\", \"\\u8a31\\u51f1\\u667a\", \"\\u8a31\\u51f1\\u667a\", \"\\u8a31\\u51f1\\u667a\", \"\\u8a31\\u51f1\\u667a\", \"\\u58a8\\u6f22\\u96f7\\u8fea\", \"\\u6c88\\u601d\\u660e\", \"\\u6c88\\u601d\\u660e\", \"\\u6c88\\u601d\\u660e\", \"\\u6c88\\u601d\\u660e\", \"\\u6c88\\u601d\\u660e\", \"\\u6c88\\u601d\\u660e\", \"\\u8a31\\u51f1\\u667a\", \"\\u8a31\\u51f1\\u667a\", \"\\u8a31\\u51f1\\u667a\", \"\\u8a31\\u51f1\\u667a\", \"\\u6c88\\u601d\\u660e\", \"\\u6c88\\u601d\\u660e\", \"\\u6c88\\u601d\\u660e\", \"\\u6c88\\u601d\\u660e\", \"\\u6c88\\u601d\\u660e\", \"\\u8a31\\u51f1\\u667a\", \"\\u8a31\\u51f1\\u667a\", \"\\u8a31\\u51f1\\u667a\", \"\\u8a31\\u51f1\\u667a\", \"\\u6c88\\u601d\\u660e\", \"\\u6c88\\u601d\\u660e\", \"\\u6c88\\u601d\\u660e\", \"\\u6c88\\u601d\\u660e\", \"\\u6c88\\u601d\\u660e\", \"\\u6c88\\u601d\\u660e\", \"\\u8a31\\u51f1\\u667a\", \"\\u8a31\\u51f1\\u667a\", \"\\u8a31\\u51f1\\u667a\", \"\\u8a31\\u51f1\\u667a\", \"\\u6c88\\u601d\\u660e\", \"\\u6c88\\u601d\\u660e\", \"\\u6c88\\u601d\\u660e\", \"\\u6c88\\u601d\\u660e\", \"\\u6c88\\u601d\\u660e\", \"\\u8a31\\u51f1\\u667a\", \"\\u8a31\\u51f1\\u667a\", \"\\u8a31\\u51f1\\u667a\", \"\\u8a31\\u51f1\\u667a\", \"\\u6c88\\u601d\\u660e\", \"\\u6c88\\u601d\\u660e\", \"\\u6c88\\u601d\\u660e\", \"\\u6c88\\u601d\\u660e\", \"\\u6c88\\u601d\\u660e\", \"\\u6c88\\u601d\\u660e\", \"\\u8a31\\u51f1\\u667a\", \"\\u8a31\\u51f1\\u667a\", \"\\u8a31\\u51f1\\u667a\", \"\\u8a31\\u51f1\\u667a\", \"\\u58a8\\u6f22\\u96f7\\u8fea\", \"\\u6c88\\u601d\\u660e\", \"\\u6c88\\u601d\\u660e\", \"\\u6c88\\u601d\\u660e\", \"\\u6c88\\u601d\\u660e\", \"\\u6c88\\u601d\\u660e\", \"\\u8a31\\u51f1\\u667a\", \"\\u8a31\\u51f1\\u667a\", \"\\u8a31\\u51f1\\u667a\", \"\\u8a31\\u51f1\\u667a\", \"\\u58a8\\u6f22\\u96f7\\u8fea\", \"\\u6c88\\u601d\\u660e\", \"\\u6c88\\u601d\\u660e\", \"\\u6c88\\u601d\\u660e\", \"\\u6c88\\u601d\\u660e\", \"\\u6c88\\u601d\\u660e\", \"\\u8a31\\u51f1\\u667a\", \"\\u8a31\\u51f1\\u667a\", \"\\u8a31\\u51f1\\u667a\", \"\\u8a31\\u51f1\\u667a\", \"\\u58a8\\u6f22\\u96f7\\u8fea\", \"\\u6c88\\u601d\\u660e\", \"\\u6c88\\u601d\\u660e\", \"\\u6c88\\u601d\\u660e\", \"\\u6c88\\u601d\\u660e\", \"\\u6c88\\u601d\\u660e\", \"\\u8a31\\u51f1\\u667a\", \"\\u8a31\\u51f1\\u667a\", \"\\u8a31\\u51f1\\u667a\", \"\\u8a31\\u51f1\\u667a\", \"\\u6c88\\u601d\\u660e\", \"\\u6c88\\u601d\\u660e\", \"\\u6c88\\u601d\\u660e\", \"\\u6c88\\u601d\\u660e\", \"\\u6c88\\u601d\\u660e\", \"\\u8a31\\u51f1\\u667a\", \"\\u8a31\\u51f1\\u667a\", \"\\u8a31\\u51f1\\u667a\", \"\\u8a31\\u51f1\\u667a\", \"\\u6c88\\u601d\\u660e\", \"\\u6c88\\u601d\\u660e\", \"\\u6c88\\u601d\\u660e\", \"\\u6c88\\u601d\\u660e\", \"\\u8a31\\u51f1\\u667a\", \"\\u8a31\\u51f1\\u667a\", \"\\u8a31\\u51f1\\u667a\", \"\\u8a31\\u51f1\\u667a\", \"\\u58a8\\u6f22\\u96f7\\u8fea\", \"\\u6c88\\u601d\\u660e\", \"\\u6c88\\u601d\\u660e\", \"\\u6c88\\u601d\\u660e\", \"\\u6c88\\u601d\\u660e\", \"\\u6c88\\u601d\\u660e\", \"\\u8a31\\u51f1\\u667a\", \"\\u8a31\\u51f1\\u667a\", \"\\u8a31\\u51f1\\u667a\", \"\\u8a31\\u51f1\\u667a\", \"\\u6c88\\u601d\\u660e\", \"\\u6c88\\u601d\\u660e\", \"\\u6c88\\u601d\\u660e\", \"\\u6c88\\u601d\\u660e\", \"\\u6c88\\u601d\\u660e\", \"\\u8a31\\u51f1\\u667a\", \"\\u8a31\\u51f1\\u667a\", \"\\u8a31\\u51f1\\u667a\", \"\\u8a31\\u51f1\\u667a\", \"\\u6c88\\u601d\\u660e\", \"\\u6c88\\u601d\\u660e\", \"\\u6c88\\u601d\\u660e\", \"\\u6c88\\u601d\\u660e\", \"\\u6c88\\u601d\\u660e\", \"\\u8a31\\u51f1\\u667a\", \"\\u8a31\\u51f1\\u667a\", \"\\u8a31\\u51f1\\u667a\", \"\\u8a31\\u51f1\\u667a\", \"\\u58a8\\u6f22\\u96f7\\u8fea\", \"\\u6c88\\u601d\\u660e\", \"\\u6c88\\u601d\\u660e\", \"\\u6c88\\u601d\\u660e\", \"\\u6c88\\u601d\\u660e\", \"\\u6c88\\u601d\\u660e\", \"\\u6c88\\u601d\\u660e\", \"\\u8a31\\u51f1\\u667a\", \"\\u8a31\\u51f1\\u667a\", \"\\u8a31\\u51f1\\u667a\", \"\\u8a31\\u51f1\\u667a\", \"\\u58a8\\u6f22\\u96f7\\u8fea\", \"\\u6c88\\u601d\\u660e\", \"\\u6c88\\u601d\\u660e\", \"\\u6c88\\u601d\\u660e\", \"\\u6c88\\u601d\\u660e\", \"\\u6c88\\u601d\\u660e\", \"\\u6c88\\u601d\\u660e\", \"\\u8a31\\u51f1\\u667a\", \"\\u8a31\\u51f1\\u667a\", \"\\u8a31\\u51f1\\u667a\", \"\\u8a31\\u51f1\\u667a\", \"\\u8a31\\u51f1\\u667a\", \"\\u58a8\\u6f22\\u96f7\\u8fea\", \"\\u58a8\\u6f22\\u96f7\\u8fea\", \"\\u6c88\\u601d\\u660e\", \"\\u6c88\\u601d\\u660e\", \"\\u6c88\\u601d\\u660e\", \"\\u6c88\\u601d\\u660e\", \"\\u6c88\\u601d\\u660e\", \"\\u8a31\\u51f1\\u667a\", \"\\u8a31\\u51f1\\u667a\", \"\\u8a31\\u51f1\\u667a\", \"\\u8a31\\u51f1\\u667a\", \"\\u58a8\\u6f22\\u96f7\\u8fea\", \"\\u6c88\\u601d\\u660e\", \"\\u6c88\\u601d\\u660e\", \"\\u6c88\\u601d\\u660e\", \"\\u6c88\\u601d\\u660e\", \"\\u6c88\\u601d\\u660e\", \"\\u6c88\\u601d\\u660e\", \"\\u8a31\\u51f1\\u667a\", \"\\u8a31\\u51f1\\u667a\", \"\\u8a31\\u51f1\\u667a\", \"\\u8a31\\u51f1\\u667a\", \"\\u8a31\\u51f1\\u667a\", \"\\u58a8\\u6f22\\u96f7\\u8fea\", \"\\u6c88\\u601d\\u660e\", \"\\u6c88\\u601d\\u660e\", \"\\u6c88\\u601d\\u660e\", \"\\u6c88\\u601d\\u660e\", \"\\u6c88\\u601d\\u660e\", \"\\u6c88\\u601d\\u660e\", \"\\u8a31\\u51f1\\u667a\", \"\\u8a31\\u51f1\\u667a\", \"\\u8a31\\u51f1\\u667a\", \"\\u8a31\\u51f1\\u667a\", \"\\u58a8\\u6f22\\u96f7\\u8fea\", \"\\u6c88\\u601d\\u660e\", \"\\u6c88\\u601d\\u660e\", \"\\u6c88\\u601d\\u660e\", \"\\u6c88\\u601d\\u660e\", \"\\u6c88\\u601d\\u660e\", \"\\u8a31\\u51f1\\u667a\", \"\\u8a31\\u51f1\\u667a\", \"\\u8a31\\u51f1\\u667a\", \"\\u8a31\\u51f1\\u667a\", \"\\u8a31\\u51f1\\u667a\", \"\\u58a8\\u6f22\\u96f7\\u8fea\", \"\\u6c88\\u601d\\u660e\", \"\\u6c88\\u601d\\u660e\", \"\\u6c88\\u601d\\u660e\", \"\\u6c88\\u601d\\u660e\", \"\\u6c88\\u601d\\u660e\", \"\\u8a31\\u51f1\\u667a\", \"\\u8a31\\u51f1\\u667a\", \"\\u8a31\\u51f1\\u667a\", \"\\u8a31\\u51f1\\u667a\", \"\\u6c88\\u601d\\u660e\", \"\\u6c88\\u601d\\u660e\", \"\\u6c88\\u601d\\u660e\", \"\\u6c88\\u601d\\u660e\", \"\\u8a31\\u51f1\\u667a\", \"\\u8a31\\u51f1\\u667a\", \"\\u8a31\\u51f1\\u667a\", \"\\u6c88\\u601d\\u660e\", \"\\u6c88\\u601d\\u660e\", \"\\u6c88\\u601d\\u660e\", \"\\u6c88\\u601d\\u660e\", \"\\u8a31\\u51f1\\u667a\", \"\\u8a31\\u51f1\\u667a\", \"\\u6c88\\u601d\\u660e\", \"\\u6c88\\u601d\\u660e\", \"\\u6c88\\u601d\\u660e\", \"\\u8a31\\u51f1\\u667a\", \"\\u8a31\\u51f1\\u667a\", \"\\u6c88\\u601d\\u660e\", \"\\u8a31\\u51f1\\u667a\", \"\\u8a31\\u51f1\\u667a\", \"\\u6c88\\u601d\\u660e\", \"\\u8a31\\u51f1\\u667a\", \"\\u8a31\\u51f1\\u667a\", \"\\u6c88\\u601d\\u660e\", \"\\u8a31\\u51f1\\u667a\", \"\\u8a31\\u51f1\\u667a\", \"\\u8a31\\u51f1\\u667a\", \"\\u8a31\\u51f1\\u667a\", \"\\u8a31\\u51f1\\u667a\", \"\\u8a31\\u51f1\\u667a\", \"\\u8a31\\u51f1\\u667a\", \"\\u8a31\\u51f1\\u667a\", \"\\u8a31\\u51f1\\u667a\"], [\"EMC\", \"ODM\", \"PC\", \"WIP\", \"EMC\", \"RF\", \"WIP\", \"EMC\", \"ODM\", \"PC\", \"WIP\", \"EMC\", \"RF\", \"WIP\", \"EMC\", \"ODM\", \"Others\", \"PC\", \"WIP\", \"EMC\", \"Others\", \"PC\", \"RF\", \"WIP\", \"RF\", \"EMC\", \"ODM\", \"Others\", \"PC\", \"WIP\", \"EMC\", \"PC\", \"RF\", \"WIP\", \"RF\", \"EMC\", \"ODM\", \"Others\", \"PC\", \"RF\", \"WIP\", \"EMC\", \"PC\", \"RF\", \"WIP\", \"EMC\", \"ODM\", \"PC\", \"RF\", \"WIP\", \"EMC\", \"PC\", \"RF\", \"WIP\", \"EMC\", \"ODM\", \"Others\", \"PC\", \"RF\", \"WIP\", \"EMC\", \"PC\", \"RF\", \"WIP\", \"EMC\", \"ODM\", \"PC\", \"RF\", \"WIP\", \"EMC\", \"PC\", \"RF\", \"WIP\", \"EMC\", \"ODM\", \"Others\", \"PC\", \"RF\", \"WIP\", \"EMC\", \"PC\", \"RF\", \"WIP\", \"PC\", \"EMC\", \"ODM\", \"PC\", \"RF\", \"WIP\", \"EMC\", \"PC\", \"RF\", \"WIP\", \"RF\", \"EMC\", \"ODM\", \"PC\", \"RF\", \"WIP\", \"EMC\", \"PC\", \"RF\", \"WIP\", \"RF\", \"EMC\", \"ODM\", \"PC\", \"RF\", \"WIP\", \"EMC\", \"PC\", \"RF\", \"WIP\", \"EMC\", \"ODM\", \"PC\", \"RF\", \"WIP\", \"EMC\", \"PC\", \"RF\", \"WIP\", \"EMC\", \"ODM\", \"PC\", \"WIP\", \"EMC\", \"PC\", \"RF\", \"WIP\", \"Others\", \"EMC\", \"ODM\", \"PC\", \"RF\", \"WIP\", \"EMC\", \"PC\", \"RF\", \"WIP\", \"EMC\", \"ODM\", \"PC\", \"RF\", \"WIP\", \"EMC\", \"PC\", \"RF\", \"WIP\", \"EMC\", \"ODM\", \"PC\", \"RF\", \"WIP\", \"EMC\", \"PC\", \"RF\", \"WIP\", \"RF\", \"EMC\", \"ODM\", \"Others\", \"PC\", \"RF\", \"WIP\", \"EMC\", \"PC\", \"RF\", \"WIP\", \"RF\", \"EMC\", \"ODM\", \"Others\", \"PC\", \"RF\", \"WIP\", \"EMC\", \"Others\", \"PC\", \"RF\", \"WIP\", \"Others\", \"RF\", \"EMC\", \"ODM\", \"Others\", \"PC\", \"WIP\", \"EMC\", \"PC\", \"RF\", \"WIP\", \"RF\", \"EMC\", \"ODM\", \"Others\", \"PC\", \"RF\", \"WIP\", \"EMC\", \"Others\", \"PC\", \"RF\", \"WIP\", \"RF\", \"EMC\", \"ODM\", \"Others\", \"PC\", \"RF\", \"WIP\", \"EMC\", \"PC\", \"RF\", \"WIP\", \"RF\", \"EMC\", \"ODM\", \"PC\", \"RF\", \"WIP\", \"EMC\", \"Others\", \"PC\", \"RF\", \"WIP\", \"RF\", \"EMC\", \"ODM\", \"PC\", \"RF\", \"WIP\", \"EMC\", \"PC\", \"RF\", \"WIP\", \"EMC\", \"PC\", \"RF\", \"WIP\", \"EMC\", \"RF\", \"WIP\", \"EMC\", \"PC\", \"RF\", \"WIP\", \"EMC\", \"WIP\", \"EMC\", \"PC\", \"WIP\", \"EMC\", \"WIP\", \"PC\", \"WIP\", \"WIP\", \"PC\", \"WIP\", \"WIP\", \"PC\", \"WIP\", \"WIP\", \"WIP\", \"WIP\", \"WIP\", \"WIP\", \"WIP\", \"WIP\", \"WIP\"], [3288000, 17971, 40818000, 5460000, 2618000, 227800, 1671000, 7242000, 9399, 32100000, 3489000, 151000, 6000, 726000, 8579000, 2001, 312, 48902000, 2319000, 1935000, 5646802, 183000, 167200, 2733000, 25, 16449000, 1544, 571520, 30069000, 2463000, 5500000, 34000, 268020, 5706000, 101, 18640000, 30747, 1288, 25437000, 24000, 3015000, 5034000, 149000, 242570, 5508000, 9078000, 78067, 44457000, 200000, 3054000, 4244000, 20000, 185000, 5667000, 5076000, 168550, 1572, 55601000, 568000, 2814000, 5495000, 33000, 199810, 9285000, 3151000, 53042, 68085000, 460000, 5466000, 3165000, 5246000, 151975, 2412000, 1050000, 144407, 82, 57928000, 660000, 3498000, 3852000, 1958000, 364256, 4860000, 20000, 2523000, 142805, 49160000, 532000, 4056000, 3775000, 482000, 45862, 8553000, 7000, 5982000, 1770, 50541000, 224000, 3921000, 5057000, 2508000, 182000, 10218000, 3200, 1893000, 21054, 30191000, 456000, 5604000, 5595000, 3540000, 187000, 4644000, 20262000, 1270, 49922000, 2000, 5046000, 7310500, 1360040, 383050, 2616000, 9064000, 40201, 36281000, 2397000, 6701500, 298000, 125800, 3513000, 1, 29708000, 24450, 52864000, 80000, 3702000, 5682000, 2776000, 78400, 4599000, 32980000, 99888, 53130000, 352000, 2853000, 7851000, 1350000, 239290, 3705000, 35444000, 144769, 57974000, 216000, 5751000, 13603500, 2014000, 84710, 2904000, 2400, 38811000, 76285, 4, 59498000, 352000, 4665000, 6558000, 1422000, 63308, 7203000, 840000, 32254000, 243976, 1, 65590600, 680000, 3999000, 7567000, 2, 6708000, 156000, 8880000, 600, 2601155, 40705000, 188827, 4, 63731400, 2754000, 4704500, 9120000, 187480, 6162000, 6125, 49325000, 239330, 2, 84018000, 336000, 3276000, 11637000, 1, 7374000, 517572, 6945000, 360110, 46836000, 99613, 1, 79449000, 96000, 4755000, 20700000, 10633000, 191700, 13662000, 10408000, 33661000, 178555, 54233000, 364000, 2433000, 18224000, 303, 4850000, 342100, 13443000, 12100, 23873000, 2885, 84936000, 248000, 4242000, 37355000, 316000, 1017120, 18449000, 10993000, 36827000, 400000, 4602000, 9012000, 303000, 7035000, 5837000, 9823000, 244000, 1431000, 3647000, 7002000, 5800000, 420000, 423000, 991000, 7002000, 90000, 5997000, 3489000, 60000, 1170000, 5121000, 60000, 2391000, 999000, 2199000, 3006000, 4008000, 3498000, 3039000, 3342000, 2532000], [639601, 1664223, 15583174, 5533350, 98233, 1610598, 725782, 526161, 1267601, 11114041, 2678954, 7282, 42085, 301936, 795789, 2175349, 320335, 15386572, 2362894, 72736, 502566, 110494, 1658890, 1115231, 7698, 1007810, 2283310, 401670, 10400251, 2401633, 564839, 29752, 2306899, 1687549, 15097, 1210527, 2318310, 1230181, 9663017, 40616, 2943214, 520300, 114613, 2013308, 1770754, 569069, 5850014, 16719438, 338575, 3061808, 253648, 31583, 1787713, 1721411, 962277, 5518784, 1532589, 18670751, 967960, 2636811, 704743, 26780, 2116283, 2763142, 378135, 7175998, 25914896, 788953, 4725615, 473726, 264138, 1430089, 724976, 269117, 5898345, 30508, 21164429, 1126158, 3326706, 489679, 105915, 3667218, 1459354, 9267, 330376, 3861906, 16139241, 919158, 3518577, 333636, 33196, 440138, 2773588, 138980, 645452, 1836898, 15007820, 384630, 4015251, 724359, 125808, 1733161, 3134880, 40415, 89261, 895352, 9066222, 769434, 4395731, 514713, 190437, 1361988, 1468209, 906326, 1056795, 16652209, 33366, 3948181, 880537, 188335, 2688900, 791870, 619350, 319090, 11287673, 1843766, 977233, 45706, 916228, 1099423, 7471, 1920980, 584700, 16877919, 133848, 3511759, 470448, 271508, 544224, 1393735, 1365968, 1176499, 16716181, 581236, 2564819, 571436, 88338, 2043620, 1192378, 1515590, 1321462, 16472965, 520671, 4329666, 744959, 98052, 1055230, 913073, 30373, 1955429, 1812967, 241419, 17744153, 580914, 3839902, 417908, 99084, 1406779, 2322085, 743400, 1618627, 4350119, 18232, 20733212, 1115403, 2847642, 400421, 600, 326112, 2622797, 2906842, 4847, 2318095, 2279001, 6143593, 104673, 21069400, 2305222, 1019063, 437760, 2762363, 1934075, 82472, 2601294, 7227998, 3063, 25774029, 546143, 2787288, 1042642, 38340, 386976, 7460815, 2210665, 444401, 2347179, 8688968, 565308, 26988859, 155667, 3709502, 1516365, 532160, 3849682, 4271709, 12760124, 1843944, 6100968, 16999532, 586865, 1932782, 1939284, 8655, 239392, 5991132, 4180660, 67627, 1473521, 3945551, 25225605, 395425, 3321291, 3047209, 109389, 12704537, 5644264, 872005, 11978904, 634480, 3446790, 846321, 2575328, 2162901, 603027, 2697698, 386361, 1016829, 603601, 2137783, 253129, 234086, 347898, 43243, 2137783, 94704, 1846333, 1155348, 52683, 381109, 1485090, 52683, 693390, 289710, 710727, 871740, 1162320, 1014420, 881310, 986016, 745077]]}, \"domain\": {\"x\": [0.0, 0.54], \"y\": [0.0, 1.0]}, \"header\": {\"values\": [\"Year/Month\", \"Sales\", \"BU\", \"Qty.\", \"Revenue\"]}, \"type\": \"table\"}],                        {\"height\": 1080, \"template\": {\"data\": {\"bar\": [{\"error_x\": {\"color\": \"#2a3f5f\"}, \"error_y\": {\"color\": \"#2a3f5f\"}, \"marker\": {\"line\": {\"color\": \"#E5ECF6\", \"width\": 0.5}}, \"type\": \"bar\"}], \"barpolar\": [{\"marker\": {\"line\": {\"color\": \"#E5ECF6\", \"width\": 0.5}}, \"type\": \"barpolar\"}], \"carpet\": [{\"aaxis\": {\"endlinecolor\": \"#2a3f5f\", \"gridcolor\": \"white\", \"linecolor\": \"white\", \"minorgridcolor\": \"white\", \"startlinecolor\": \"#2a3f5f\"}, \"baxis\": {\"endlinecolor\": \"#2a3f5f\", \"gridcolor\": \"white\", \"linecolor\": \"white\", \"minorgridcolor\": \"white\", \"startlinecolor\": \"#2a3f5f\"}, \"type\": \"carpet\"}], \"choropleth\": [{\"colorbar\": {\"outlinewidth\": 0, \"ticks\": \"\"}, \"type\": \"choropleth\"}], \"contour\": [{\"colorbar\": {\"outlinewidth\": 0, \"ticks\": \"\"}, \"colorscale\": [[0.0, \"#0d0887\"], [0.1111111111111111, \"#46039f\"], [0.2222222222222222, \"#7201a8\"], [0.3333333333333333, \"#9c179e\"], [0.4444444444444444, \"#bd3786\"], [0.5555555555555556, \"#d8576b\"], [0.6666666666666666, \"#ed7953\"], [0.7777777777777778, \"#fb9f3a\"], [0.8888888888888888, \"#fdca26\"], [1.0, \"#f0f921\"]], \"type\": \"contour\"}], \"contourcarpet\": [{\"colorbar\": {\"outlinewidth\": 0, \"ticks\": \"\"}, \"type\": \"contourcarpet\"}], \"heatmap\": [{\"colorbar\": {\"outlinewidth\": 0, \"ticks\": \"\"}, \"colorscale\": [[0.0, \"#0d0887\"], [0.1111111111111111, \"#46039f\"], [0.2222222222222222, \"#7201a8\"], [0.3333333333333333, \"#9c179e\"], [0.4444444444444444, \"#bd3786\"], [0.5555555555555556, \"#d8576b\"], [0.6666666666666666, \"#ed7953\"], [0.7777777777777778, \"#fb9f3a\"], [0.8888888888888888, \"#fdca26\"], [1.0, \"#f0f921\"]], \"type\": \"heatmap\"}], \"heatmapgl\": [{\"colorbar\": {\"outlinewidth\": 0, \"ticks\": \"\"}, \"colorscale\": [[0.0, \"#0d0887\"], [0.1111111111111111, \"#46039f\"], [0.2222222222222222, \"#7201a8\"], [0.3333333333333333, \"#9c179e\"], [0.4444444444444444, \"#bd3786\"], [0.5555555555555556, \"#d8576b\"], [0.6666666666666666, \"#ed7953\"], [0.7777777777777778, \"#fb9f3a\"], [0.8888888888888888, \"#fdca26\"], [1.0, \"#f0f921\"]], \"type\": \"heatmapgl\"}], \"histogram\": [{\"marker\": {\"colorbar\": {\"outlinewidth\": 0, \"ticks\": \"\"}}, \"type\": \"histogram\"}], \"histogram2d\": [{\"colorbar\": {\"outlinewidth\": 0, \"ticks\": \"\"}, \"colorscale\": [[0.0, \"#0d0887\"], [0.1111111111111111, \"#46039f\"], [0.2222222222222222, \"#7201a8\"], [0.3333333333333333, \"#9c179e\"], [0.4444444444444444, \"#bd3786\"], [0.5555555555555556, \"#d8576b\"], [0.6666666666666666, \"#ed7953\"], [0.7777777777777778, \"#fb9f3a\"], [0.8888888888888888, \"#fdca26\"], [1.0, \"#f0f921\"]], \"type\": \"histogram2d\"}], \"histogram2dcontour\": [{\"colorbar\": {\"outlinewidth\": 0, \"ticks\": \"\"}, \"colorscale\": [[0.0, \"#0d0887\"], [0.1111111111111111, \"#46039f\"], [0.2222222222222222, \"#7201a8\"], [0.3333333333333333, \"#9c179e\"], [0.4444444444444444, \"#bd3786\"], [0.5555555555555556, \"#d8576b\"], [0.6666666666666666, \"#ed7953\"], [0.7777777777777778, \"#fb9f3a\"], [0.8888888888888888, \"#fdca26\"], [1.0, \"#f0f921\"]], \"type\": \"histogram2dcontour\"}], \"mesh3d\": [{\"colorbar\": {\"outlinewidth\": 0, \"ticks\": \"\"}, \"type\": \"mesh3d\"}], \"parcoords\": [{\"line\": {\"colorbar\": {\"outlinewidth\": 0, \"ticks\": \"\"}}, \"type\": \"parcoords\"}], \"pie\": [{\"automargin\": true, \"type\": \"pie\"}], \"scatter\": [{\"marker\": {\"colorbar\": {\"outlinewidth\": 0, \"ticks\": \"\"}}, \"type\": \"scatter\"}], \"scatter3d\": [{\"line\": {\"colorbar\": {\"outlinewidth\": 0, \"ticks\": \"\"}}, \"marker\": {\"colorbar\": {\"outlinewidth\": 0, \"ticks\": \"\"}}, \"type\": \"scatter3d\"}], \"scattercarpet\": [{\"marker\": {\"colorbar\": {\"outlinewidth\": 0, \"ticks\": \"\"}}, \"type\": \"scattercarpet\"}], \"scattergeo\": [{\"marker\": {\"colorbar\": {\"outlinewidth\": 0, \"ticks\": \"\"}}, \"type\": \"scattergeo\"}], \"scattergl\": [{\"marker\": {\"colorbar\": {\"outlinewidth\": 0, \"ticks\": \"\"}}, \"type\": \"scattergl\"}], \"scattermapbox\": [{\"marker\": {\"colorbar\": {\"outlinewidth\": 0, \"ticks\": \"\"}}, \"type\": \"scattermapbox\"}], \"scatterpolar\": [{\"marker\": {\"colorbar\": {\"outlinewidth\": 0, \"ticks\": \"\"}}, \"type\": \"scatterpolar\"}], \"scatterpolargl\": [{\"marker\": {\"colorbar\": {\"outlinewidth\": 0, \"ticks\": \"\"}}, \"type\": \"scatterpolargl\"}], \"scatterternary\": [{\"marker\": {\"colorbar\": {\"outlinewidth\": 0, \"ticks\": \"\"}}, \"type\": \"scatterternary\"}], \"surface\": [{\"colorbar\": {\"outlinewidth\": 0, \"ticks\": \"\"}, \"colorscale\": [[0.0, \"#0d0887\"], [0.1111111111111111, \"#46039f\"], [0.2222222222222222, \"#7201a8\"], [0.3333333333333333, \"#9c179e\"], [0.4444444444444444, \"#bd3786\"], [0.5555555555555556, \"#d8576b\"], [0.6666666666666666, \"#ed7953\"], [0.7777777777777778, \"#fb9f3a\"], [0.8888888888888888, \"#fdca26\"], [1.0, \"#f0f921\"]], \"type\": \"surface\"}], \"table\": [{\"cells\": {\"fill\": {\"color\": \"#EBF0F8\"}, \"line\": {\"color\": \"white\"}}, \"header\": {\"fill\": {\"color\": \"#C8D4E3\"}, \"line\": {\"color\": \"white\"}}, \"type\": \"table\"}]}, \"layout\": {\"annotationdefaults\": {\"arrowcolor\": \"#2a3f5f\", \"arrowhead\": 0, \"arrowwidth\": 1}, \"coloraxis\": {\"colorbar\": {\"outlinewidth\": 0, \"ticks\": \"\"}}, \"colorscale\": {\"diverging\": [[0, \"#8e0152\"], [0.1, \"#c51b7d\"], [0.2, \"#de77ae\"], [0.3, \"#f1b6da\"], [0.4, \"#fde0ef\"], [0.5, \"#f7f7f7\"], [0.6, \"#e6f5d0\"], [0.7, \"#b8e186\"], [0.8, \"#7fbc41\"], [0.9, \"#4d9221\"], [1, \"#276419\"]], \"sequential\": [[0.0, \"#0d0887\"], [0.1111111111111111, \"#46039f\"], [0.2222222222222222, \"#7201a8\"], [0.3333333333333333, \"#9c179e\"], [0.4444444444444444, \"#bd3786\"], [0.5555555555555556, \"#d8576b\"], [0.6666666666666666, \"#ed7953\"], [0.7777777777777778, \"#fb9f3a\"], [0.8888888888888888, \"#fdca26\"], [1.0, \"#f0f921\"]], \"sequentialminus\": [[0.0, \"#0d0887\"], [0.1111111111111111, \"#46039f\"], [0.2222222222222222, \"#7201a8\"], [0.3333333333333333, \"#9c179e\"], [0.4444444444444444, \"#bd3786\"], [0.5555555555555556, \"#d8576b\"], [0.6666666666666666, \"#ed7953\"], [0.7777777777777778, \"#fb9f3a\"], [0.8888888888888888, \"#fdca26\"], [1.0, \"#f0f921\"]]}, \"colorway\": [\"#636efa\", \"#EF553B\", \"#00cc96\", \"#ab63fa\", \"#FFA15A\", \"#19d3f3\", \"#FF6692\", \"#B6E880\", \"#FF97FF\", \"#FECB52\"], \"font\": {\"color\": \"#2a3f5f\"}, \"geo\": {\"bgcolor\": \"white\", \"lakecolor\": \"white\", \"landcolor\": \"#E5ECF6\", \"showlakes\": true, \"showland\": true, \"subunitcolor\": \"white\"}, \"hoverlabel\": {\"align\": \"left\"}, \"hovermode\": \"closest\", \"mapbox\": {\"style\": \"light\"}, \"paper_bgcolor\": \"white\", \"plot_bgcolor\": \"#E5ECF6\", \"polar\": {\"angularaxis\": {\"gridcolor\": \"white\", \"linecolor\": \"white\", \"ticks\": \"\"}, \"bgcolor\": \"#E5ECF6\", \"radialaxis\": {\"gridcolor\": \"white\", \"linecolor\": \"white\", \"ticks\": \"\"}}, \"scene\": {\"xaxis\": {\"backgroundcolor\": \"#E5ECF6\", \"gridcolor\": \"white\", \"gridwidth\": 2, \"linecolor\": \"white\", \"showbackground\": true, \"ticks\": \"\", \"zerolinecolor\": \"white\"}, \"yaxis\": {\"backgroundcolor\": \"#E5ECF6\", \"gridcolor\": \"white\", \"gridwidth\": 2, \"linecolor\": \"white\", \"showbackground\": true, \"ticks\": \"\", \"zerolinecolor\": \"white\"}, \"zaxis\": {\"backgroundcolor\": \"#E5ECF6\", \"gridcolor\": \"white\", \"gridwidth\": 2, \"linecolor\": \"white\", \"showbackground\": true, \"ticks\": \"\", \"zerolinecolor\": \"white\"}}, \"shapedefaults\": {\"line\": {\"color\": \"#2a3f5f\"}}, \"ternary\": {\"aaxis\": {\"gridcolor\": \"white\", \"linecolor\": \"white\", \"ticks\": \"\"}, \"baxis\": {\"gridcolor\": \"white\", \"linecolor\": \"white\", \"ticks\": \"\"}, \"bgcolor\": \"#E5ECF6\", \"caxis\": {\"gridcolor\": \"white\", \"linecolor\": \"white\", \"ticks\": \"\"}}, \"title\": {\"x\": 0.05}, \"xaxis\": {\"automargin\": true, \"gridcolor\": \"white\", \"linecolor\": \"white\", \"ticks\": \"\", \"title\": {\"standoff\": 15}, \"zerolinecolor\": \"white\", \"zerolinewidth\": 2}, \"yaxis\": {\"automargin\": true, \"gridcolor\": \"white\", \"linecolor\": \"white\", \"ticks\": \"\", \"title\": {\"standoff\": 15}, \"zerolinecolor\": \"white\", \"zerolinewidth\": 2}}}, \"title\": {\"text\": \"Test\"}, \"width\": 1920},                        {\"responsive\": true}                    ).then(function(){\n",
       "                            \n",
       "var gd = document.getElementById('d47992a8-c841-4df3-bff5-8b8c06a56810');\n",
       "var x = new MutationObserver(function (mutations, observer) {{\n",
       "        var display = window.getComputedStyle(gd).display;\n",
       "        if (!display || display === 'none') {{\n",
       "            console.log([gd, 'removed!']);\n",
       "            Plotly.purge(gd);\n",
       "            observer.disconnect();\n",
       "        }}\n",
       "}});\n",
       "\n",
       "// Listen for the removal of the full notebook cells\n",
       "var notebookContainer = gd.closest('#notebook-container');\n",
       "if (notebookContainer) {{\n",
       "    x.observe(notebookContainer, {childList: true});\n",
       "}}\n",
       "\n",
       "// Listen for the clearing of the current output cell\n",
       "var outputEl = gd.closest('.output');\n",
       "if (outputEl) {{\n",
       "    x.observe(outputEl, {childList: true});\n",
       "}}\n",
       "\n",
       "                        })                };                });            </script>        </div>"
      ]
     },
     "metadata": {},
     "output_type": "display_data"
    }
   ],
   "source": [
    "fig = make_subplots(\n",
    "    rows=2, cols=2,\n",
    "    column_widths=[0.6, 0.4],\n",
    "    row_heights=[0.5, 0.5],\n",
    "    specs=[[{'type':'table', 'rowspan':2}, None],[None, None]]) # 需要指定specs，符合rows x columns的，沒有圖就先帶None\n",
    "\n",
    "fig.add_trace(go.Table(header=dict(values=sum_table.columns.tolist()), \n",
    "                       cells=dict(values=[sum_table['Year/Month'], sum_table['Sales'], sum_table['BU'], sum_table['Qty.'], \n",
    "                                sum_table['Revenue']])), row=1, col=1)\n",
    "\n",
    "fig.update_layout(height=1080, width=1920, title_text='Test')\n",
    "fig.show()"
   ]
  },
  {
   "cell_type": "code",
   "execution_count": null,
   "metadata": {},
   "outputs": [],
   "source": [
    "# line_plot['預交日期'] = line_plot['預交日期'].apply(lambda x: x.to_period('M'))"
   ]
  },
  {
   "cell_type": "code",
   "execution_count": null,
   "metadata": {},
   "outputs": [],
   "source": [
    "# line_plot['預交日期'] = line_plot['預交日期'].dt.strftime('%Y-%m')\n",
    "# ？？？如何將折線圖的x軸變成年+月呢？"
   ]
  },
  {
   "cell_type": "code",
   "execution_count": null,
   "metadata": {},
   "outputs": [],
   "source": [
    "cathy = line_plot.query('負責業務 == \"沈思明\"')\n",
    "kai = line_plot.query('負責業務 == \"許凱智\"')\n",
    "mohan = line_plot.query('負責業務 == \"墨漢雷迪\"')\n",
    "\n",
    "c1 = go.Scatter(x=cathy['預交日期'],\n",
    "               y=cathy['本國幣別NTD'], mode='lines', name='沈思明')\n",
    "k1 = go.Scatter(x=kai['預交日期'], \n",
    "               y=kai['本國幣別NTD'], mode='lines', name='許凱智')\n",
    "m1 = go.Scatter(x=mohan['預交日期'], \n",
    "               y=mohan['本國幣別NTD'], mode='lines', name='墨漢雷迪')\n",
    "\n",
    "data=[c1, k1, m1]\n",
    "\n",
    "layout = go.Layout(title='Test line plot', \n",
    "                  font={'size':22}, \n",
    "                  xaxis={'title':'日期', 'titlefont':{'size':12}, 'tickfont':{'size':12}},\n",
    "                  yaxis={'title':'出貨金額', 'titlefont':{'size':12}, 'tickfont':{'size':12}}\n",
    "                  )\n",
    "fig = go.Figure(data=data, layout=layout)\n",
    "\n",
    "fig.show()"
   ]
  },
  {
   "cell_type": "code",
   "execution_count": null,
   "metadata": {},
   "outputs": [],
   "source": [
    "sales = sales[['BG', 'Group', '預交日期', '負責業務', '數量', '本國幣別NTD']]\n",
    "sales['本國幣別NTD'] = sales['本國幣別NTD'].astype('int')\n"
   ]
  },
  {
   "cell_type": "code",
   "execution_count": null,
   "metadata": {},
   "outputs": [],
   "source": [
    "sales['日期'] = sales['預交日期'].dt.strftime('%Y-%m') #datetime提取自定格式"
   ]
  },
  {
   "cell_type": "code",
   "execution_count": null,
   "metadata": {},
   "outputs": [],
   "source": [
    "sales = sales.reindex(columns=['BG', 'Group', '日期', '預交日期', '負責業務', '數量', '本國幣別NTD',])"
   ]
  },
  {
   "cell_type": "code",
   "execution_count": null,
   "metadata": {},
   "outputs": [],
   "source": [
    "line2 = sales.groupby(['日期', '負責業務'])[['數量', '本國幣別NTD']].sum().reset_index()"
   ]
  },
  {
   "cell_type": "code",
   "execution_count": null,
   "metadata": {},
   "outputs": [],
   "source": [
    "cathy = line2.query('負責業務 == \"沈思明\"')\n",
    "kai = line2.query('負責業務 == \"許凱智\"')\n",
    "mohan = line2.query('負責業務 == \"墨漢雷迪\"')\n",
    "\n",
    "c2 = go.Scatter(x=cathy['日期'], \n",
    "               y=cathy['本國幣別NTD'], mode='lines+markers', name='沈思明')\n",
    "k2 = go.Scatter(x=kai['日期'], \n",
    "               y=kai['本國幣別NTD'], mode='lines+markers', name='許凱智')\n",
    "m2 = go.Scatter(x=mohan['日期'], \n",
    "               y=mohan['本國幣別NTD'], mode='lines+markers', name='墨漢雷迪')\n",
    "\n",
    "data = [c2, k2, m2]\n",
    "\n",
    "layout = go.Layout(title='測試圖2', \n",
    "                  font={'size':16},\n",
    "                  xaxis={'title':'日期', 'titlefont':{'size':12}, 'tickfont':{'size':12}},\n",
    "                  yaxis={'title':'出貨金額', 'titlefont':{'size':12}, 'tickfont':{'size':12}})\n",
    "\n",
    "fig2 = go.Figure(data=data, layout=layout)\n",
    "\n",
    "fig2.show()\n"
   ]
  },
  {
   "cell_type": "markdown",
   "metadata": {},
   "source": [
    "### Plotly graph_objs table實作"
   ]
  },
  {
   "cell_type": "code",
   "execution_count": null,
   "metadata": {},
   "outputs": [],
   "source": [
    "fig = go.Figure(data=[go.Table(header=dict(values=list(sales.columns)), \n",
    "        cells=dict(values=[sales.BG, sales.Group, sales.日期, sales.預交日期, sales.負責業務, sales.數量, sales.本國幣別NTD]))])\n",
    "fig.show()"
   ]
  }
 ],
 "metadata": {
  "kernelspec": {
   "display_name": "Python 3",
   "language": "python",
   "name": "python3"
  },
  "language_info": {
   "codemirror_mode": {
    "name": "ipython",
    "version": 3
   },
   "file_extension": ".py",
   "mimetype": "text/x-python",
   "name": "python",
   "nbconvert_exporter": "python",
   "pygments_lexer": "ipython3",
   "version": "3.8.5"
  }
 },
 "nbformat": 4,
 "nbformat_minor": 4
}
