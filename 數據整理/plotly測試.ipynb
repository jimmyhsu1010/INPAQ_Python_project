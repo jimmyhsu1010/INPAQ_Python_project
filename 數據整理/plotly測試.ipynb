{
 "cells": [
  {
   "cell_type": "code",
   "execution_count": 1,
   "metadata": {},
   "outputs": [],
   "source": [
    "import pandas as pd\n",
    "pd.set_option('display.max_rows', 10)\n",
    "pd.set_option('display.max_columns', None)\n",
    "pd.set_option('display.float_format', lambda x: '%.0f' % x)\n",
    "import plotly.express as px\n",
    "import re\n"
   ]
  },
  {
   "cell_type": "markdown",
   "metadata": {},
   "source": [
    "## 數據前處理階段"
   ]
  },
  {
   "cell_type": "code",
   "execution_count": 2,
   "metadata": {},
   "outputs": [],
   "source": [
    "# sales = pd.read_excel('/Users/kai/Desktop/Weekly report_v0.1.xlsx', sheet_name='出貨明細') # Mac使用\n",
    "sales = pd.read_excel(r'C:\\Users\\kaihsu\\Desktop\\業績總表\\Weekly report_v0.1.xlsx', sheet_name='出貨明細')\n",
    "# budget = pd.read_excel('/Users/kai/Desktop/Weekly report_v0.1.xlsx', sheet_name='2020預算', usecols='A:F') # Mac使用\n",
    "# budget = pd.read_excel(r'C:\\Users\\kaihsu\\Desktop\\業績總表\\Weekly report_v0.1.xlsx', sheet_name='2020預算', usecols='A:F')"
   ]
  },
  {
   "cell_type": "code",
   "execution_count": 69,
   "metadata": {},
   "outputs": [],
   "source": [
    "def categorize_product(data):\n",
    "    return re.search('[A-Z]*', data).group(0)\n",
    "#     print(re.search('[0-9]+', data).group())\n",
    "\n",
    "# categorize_product('ACA-2012-A1-CC-S成')"
   ]
  },
  {
   "cell_type": "code",
   "execution_count": 63,
   "metadata": {},
   "outputs": [],
   "source": [
    "test = sales[['品名', '產品分類']]"
   ]
  },
  {
   "cell_type": "code",
   "execution_count": 70,
   "metadata": {},
   "outputs": [
    {
     "name": "stderr",
     "output_type": "stream",
     "text": [
      "<ipython-input-70-bef036d71eef>:1: SettingWithCopyWarning: \n",
      "A value is trying to be set on a copy of a slice from a DataFrame.\n",
      "Try using .loc[row_indexer,col_indexer] = value instead\n",
      "\n",
      "See the caveats in the documentation: https://pandas.pydata.org/pandas-docs/stable/user_guide/indexing.html#returning-a-view-versus-a-copy\n",
      "  test['Type'] = test['產品分類'].apply(categorize_product)\n"
     ]
    }
   ],
   "source": [
    "test['Type'] = test['產品分類'].apply(categorize_product)"
   ]
  },
  {
   "cell_type": "code",
   "execution_count": 115,
   "metadata": {},
   "outputs": [],
   "source": [
    "re.search('/d*', 'AAF成品')"
   ]
  },
  {
   "cell_type": "code",
   "execution_count": 130,
   "metadata": {},
   "outputs": [
    {
     "data": {
      "text/plain": [
       "'2520'"
      ]
     },
     "execution_count": 130,
     "metadata": {},
     "output_type": "execute_result"
    }
   ],
   "source": [
    "re.search('[0-9]+', 'WIP2520 P-1 Series').group(0)"
   ]
  },
  {
   "cell_type": "code",
   "execution_count": 139,
   "metadata": {},
   "outputs": [
    {
     "ename": "ValueError",
     "evalue": "pattern contains no capture groups",
     "output_type": "error",
     "traceback": [
      "\u001b[0;31m---------------------------------------------------------------------------\u001b[0m",
      "\u001b[0;31mValueError\u001b[0m                                Traceback (most recent call last)",
      "\u001b[0;32m<ipython-input-139-33479d54f2eb>\u001b[0m in \u001b[0;36m<module>\u001b[0;34m\u001b[0m\n\u001b[0;32m----> 1\u001b[0;31m \u001b[0mtest\u001b[0m\u001b[0;34m[\u001b[0m\u001b[0;34m'產品分類'\u001b[0m\u001b[0;34m]\u001b[0m\u001b[0;34m.\u001b[0m\u001b[0mstr\u001b[0m\u001b[0;34m.\u001b[0m\u001b[0mextract\u001b[0m\u001b[0;34m(\u001b[0m\u001b[0;34mr'[A-Z]*'\u001b[0m\u001b[0;34m)\u001b[0m\u001b[0;34m\u001b[0m\u001b[0;34m\u001b[0m\u001b[0m\n\u001b[0m",
      "\u001b[0;32m/opt/anaconda3/lib/python3.8/site-packages/pandas/core/strings.py\u001b[0m in \u001b[0;36mwrapper\u001b[0;34m(self, *args, **kwargs)\u001b[0m\n\u001b[1;32m   1952\u001b[0m                 )\n\u001b[1;32m   1953\u001b[0m                 \u001b[0;32mraise\u001b[0m \u001b[0mTypeError\u001b[0m\u001b[0;34m(\u001b[0m\u001b[0mmsg\u001b[0m\u001b[0;34m)\u001b[0m\u001b[0;34m\u001b[0m\u001b[0;34m\u001b[0m\u001b[0m\n\u001b[0;32m-> 1954\u001b[0;31m             \u001b[0;32mreturn\u001b[0m \u001b[0mfunc\u001b[0m\u001b[0;34m(\u001b[0m\u001b[0mself\u001b[0m\u001b[0;34m,\u001b[0m \u001b[0;34m*\u001b[0m\u001b[0margs\u001b[0m\u001b[0;34m,\u001b[0m \u001b[0;34m**\u001b[0m\u001b[0mkwargs\u001b[0m\u001b[0;34m)\u001b[0m\u001b[0;34m\u001b[0m\u001b[0;34m\u001b[0m\u001b[0m\n\u001b[0m\u001b[1;32m   1955\u001b[0m \u001b[0;34m\u001b[0m\u001b[0m\n\u001b[1;32m   1956\u001b[0m         \u001b[0mwrapper\u001b[0m\u001b[0;34m.\u001b[0m\u001b[0m__name__\u001b[0m \u001b[0;34m=\u001b[0m \u001b[0mfunc_name\u001b[0m\u001b[0;34m\u001b[0m\u001b[0;34m\u001b[0m\u001b[0m\n",
      "\u001b[0;32m/opt/anaconda3/lib/python3.8/site-packages/pandas/core/strings.py\u001b[0m in \u001b[0;36mextract\u001b[0;34m(self, pat, flags, expand)\u001b[0m\n\u001b[1;32m   3039\u001b[0m     \u001b[0;34m@\u001b[0m\u001b[0mforbid_nonstring_types\u001b[0m\u001b[0;34m(\u001b[0m\u001b[0;34m[\u001b[0m\u001b[0;34m\"bytes\"\u001b[0m\u001b[0;34m]\u001b[0m\u001b[0;34m)\u001b[0m\u001b[0;34m\u001b[0m\u001b[0;34m\u001b[0m\u001b[0m\n\u001b[1;32m   3040\u001b[0m     \u001b[0;32mdef\u001b[0m \u001b[0mextract\u001b[0m\u001b[0;34m(\u001b[0m\u001b[0mself\u001b[0m\u001b[0;34m,\u001b[0m \u001b[0mpat\u001b[0m\u001b[0;34m,\u001b[0m \u001b[0mflags\u001b[0m\u001b[0;34m=\u001b[0m\u001b[0;36m0\u001b[0m\u001b[0;34m,\u001b[0m \u001b[0mexpand\u001b[0m\u001b[0;34m=\u001b[0m\u001b[0;32mTrue\u001b[0m\u001b[0;34m)\u001b[0m\u001b[0;34m:\u001b[0m\u001b[0;34m\u001b[0m\u001b[0;34m\u001b[0m\u001b[0m\n\u001b[0;32m-> 3041\u001b[0;31m         \u001b[0;32mreturn\u001b[0m \u001b[0mstr_extract\u001b[0m\u001b[0;34m(\u001b[0m\u001b[0mself\u001b[0m\u001b[0;34m,\u001b[0m \u001b[0mpat\u001b[0m\u001b[0;34m,\u001b[0m \u001b[0mflags\u001b[0m\u001b[0;34m=\u001b[0m\u001b[0mflags\u001b[0m\u001b[0;34m,\u001b[0m \u001b[0mexpand\u001b[0m\u001b[0;34m=\u001b[0m\u001b[0mexpand\u001b[0m\u001b[0;34m)\u001b[0m\u001b[0;34m\u001b[0m\u001b[0;34m\u001b[0m\u001b[0m\n\u001b[0m\u001b[1;32m   3042\u001b[0m \u001b[0;34m\u001b[0m\u001b[0m\n\u001b[1;32m   3043\u001b[0m     \u001b[0;34m@\u001b[0m\u001b[0mcopy\u001b[0m\u001b[0;34m(\u001b[0m\u001b[0mstr_extractall\u001b[0m\u001b[0;34m)\u001b[0m\u001b[0;34m\u001b[0m\u001b[0;34m\u001b[0m\u001b[0m\n",
      "\u001b[0;32m/opt/anaconda3/lib/python3.8/site-packages/pandas/core/strings.py\u001b[0m in \u001b[0;36mstr_extract\u001b[0;34m(arr, pat, flags, expand)\u001b[0m\n\u001b[1;32m   1010\u001b[0m         \u001b[0;32mraise\u001b[0m \u001b[0mValueError\u001b[0m\u001b[0;34m(\u001b[0m\u001b[0;34m\"expand must be True or False\"\u001b[0m\u001b[0;34m)\u001b[0m\u001b[0;34m\u001b[0m\u001b[0;34m\u001b[0m\u001b[0m\n\u001b[1;32m   1011\u001b[0m     \u001b[0;32mif\u001b[0m \u001b[0mexpand\u001b[0m\u001b[0;34m:\u001b[0m\u001b[0;34m\u001b[0m\u001b[0;34m\u001b[0m\u001b[0m\n\u001b[0;32m-> 1012\u001b[0;31m         \u001b[0;32mreturn\u001b[0m \u001b[0m_str_extract_frame\u001b[0m\u001b[0;34m(\u001b[0m\u001b[0marr\u001b[0m\u001b[0;34m.\u001b[0m\u001b[0m_orig\u001b[0m\u001b[0;34m,\u001b[0m \u001b[0mpat\u001b[0m\u001b[0;34m,\u001b[0m \u001b[0mflags\u001b[0m\u001b[0;34m=\u001b[0m\u001b[0mflags\u001b[0m\u001b[0;34m)\u001b[0m\u001b[0;34m\u001b[0m\u001b[0;34m\u001b[0m\u001b[0m\n\u001b[0m\u001b[1;32m   1013\u001b[0m     \u001b[0;32melse\u001b[0m\u001b[0;34m:\u001b[0m\u001b[0;34m\u001b[0m\u001b[0;34m\u001b[0m\u001b[0m\n\u001b[1;32m   1014\u001b[0m         \u001b[0mresult\u001b[0m\u001b[0;34m,\u001b[0m \u001b[0mname\u001b[0m \u001b[0;34m=\u001b[0m \u001b[0m_str_extract_noexpand\u001b[0m\u001b[0;34m(\u001b[0m\u001b[0marr\u001b[0m\u001b[0;34m.\u001b[0m\u001b[0m_parent\u001b[0m\u001b[0;34m,\u001b[0m \u001b[0mpat\u001b[0m\u001b[0;34m,\u001b[0m \u001b[0mflags\u001b[0m\u001b[0;34m=\u001b[0m\u001b[0mflags\u001b[0m\u001b[0;34m)\u001b[0m\u001b[0;34m\u001b[0m\u001b[0;34m\u001b[0m\u001b[0m\n",
      "\u001b[0;32m/opt/anaconda3/lib/python3.8/site-packages/pandas/core/strings.py\u001b[0m in \u001b[0;36m_str_extract_frame\u001b[0;34m(arr, pat, flags)\u001b[0m\n\u001b[1;32m    907\u001b[0m \u001b[0;34m\u001b[0m\u001b[0m\n\u001b[1;32m    908\u001b[0m     \u001b[0mregex\u001b[0m \u001b[0;34m=\u001b[0m \u001b[0mre\u001b[0m\u001b[0;34m.\u001b[0m\u001b[0mcompile\u001b[0m\u001b[0;34m(\u001b[0m\u001b[0mpat\u001b[0m\u001b[0;34m,\u001b[0m \u001b[0mflags\u001b[0m\u001b[0;34m=\u001b[0m\u001b[0mflags\u001b[0m\u001b[0;34m)\u001b[0m\u001b[0;34m\u001b[0m\u001b[0;34m\u001b[0m\u001b[0m\n\u001b[0;32m--> 909\u001b[0;31m     \u001b[0mgroups_or_na\u001b[0m \u001b[0;34m=\u001b[0m \u001b[0m_groups_or_na_fun\u001b[0m\u001b[0;34m(\u001b[0m\u001b[0mregex\u001b[0m\u001b[0;34m)\u001b[0m\u001b[0;34m\u001b[0m\u001b[0;34m\u001b[0m\u001b[0m\n\u001b[0m\u001b[1;32m    910\u001b[0m     \u001b[0mnames\u001b[0m \u001b[0;34m=\u001b[0m \u001b[0mdict\u001b[0m\u001b[0;34m(\u001b[0m\u001b[0mzip\u001b[0m\u001b[0;34m(\u001b[0m\u001b[0mregex\u001b[0m\u001b[0;34m.\u001b[0m\u001b[0mgroupindex\u001b[0m\u001b[0;34m.\u001b[0m\u001b[0mvalues\u001b[0m\u001b[0;34m(\u001b[0m\u001b[0;34m)\u001b[0m\u001b[0;34m,\u001b[0m \u001b[0mregex\u001b[0m\u001b[0;34m.\u001b[0m\u001b[0mgroupindex\u001b[0m\u001b[0;34m.\u001b[0m\u001b[0mkeys\u001b[0m\u001b[0;34m(\u001b[0m\u001b[0;34m)\u001b[0m\u001b[0;34m)\u001b[0m\u001b[0;34m)\u001b[0m\u001b[0;34m\u001b[0m\u001b[0;34m\u001b[0m\u001b[0m\n\u001b[1;32m    911\u001b[0m     \u001b[0mcolumns\u001b[0m \u001b[0;34m=\u001b[0m \u001b[0;34m[\u001b[0m\u001b[0mnames\u001b[0m\u001b[0;34m.\u001b[0m\u001b[0mget\u001b[0m\u001b[0;34m(\u001b[0m\u001b[0;36m1\u001b[0m \u001b[0;34m+\u001b[0m \u001b[0mi\u001b[0m\u001b[0;34m,\u001b[0m \u001b[0mi\u001b[0m\u001b[0;34m)\u001b[0m \u001b[0;32mfor\u001b[0m \u001b[0mi\u001b[0m \u001b[0;32min\u001b[0m \u001b[0mrange\u001b[0m\u001b[0;34m(\u001b[0m\u001b[0mregex\u001b[0m\u001b[0;34m.\u001b[0m\u001b[0mgroups\u001b[0m\u001b[0;34m)\u001b[0m\u001b[0;34m]\u001b[0m\u001b[0;34m\u001b[0m\u001b[0;34m\u001b[0m\u001b[0m\n",
      "\u001b[0;32m/opt/anaconda3/lib/python3.8/site-packages/pandas/core/strings.py\u001b[0m in \u001b[0;36m_groups_or_na_fun\u001b[0;34m(regex)\u001b[0m\n\u001b[1;32m    837\u001b[0m     \u001b[0;34m\"\"\"Used in both extract_noexpand and extract_frame\"\"\"\u001b[0m\u001b[0;34m\u001b[0m\u001b[0;34m\u001b[0m\u001b[0m\n\u001b[1;32m    838\u001b[0m     \u001b[0;32mif\u001b[0m \u001b[0mregex\u001b[0m\u001b[0;34m.\u001b[0m\u001b[0mgroups\u001b[0m \u001b[0;34m==\u001b[0m \u001b[0;36m0\u001b[0m\u001b[0;34m:\u001b[0m\u001b[0;34m\u001b[0m\u001b[0;34m\u001b[0m\u001b[0m\n\u001b[0;32m--> 839\u001b[0;31m         \u001b[0;32mraise\u001b[0m \u001b[0mValueError\u001b[0m\u001b[0;34m(\u001b[0m\u001b[0;34m\"pattern contains no capture groups\"\u001b[0m\u001b[0;34m)\u001b[0m\u001b[0;34m\u001b[0m\u001b[0;34m\u001b[0m\u001b[0m\n\u001b[0m\u001b[1;32m    840\u001b[0m     \u001b[0mempty_row\u001b[0m \u001b[0;34m=\u001b[0m \u001b[0;34m[\u001b[0m\u001b[0mnp\u001b[0m\u001b[0;34m.\u001b[0m\u001b[0mnan\u001b[0m\u001b[0;34m]\u001b[0m \u001b[0;34m*\u001b[0m \u001b[0mregex\u001b[0m\u001b[0;34m.\u001b[0m\u001b[0mgroups\u001b[0m\u001b[0;34m\u001b[0m\u001b[0;34m\u001b[0m\u001b[0m\n\u001b[1;32m    841\u001b[0m \u001b[0;34m\u001b[0m\u001b[0m\n",
      "\u001b[0;31mValueError\u001b[0m: pattern contains no capture groups"
     ]
    }
   ],
   "source": [
    "test['產品分類'].str.extract(r'[A-Z]*')"
   ]
  },
  {
   "cell_type": "code",
   "execution_count": 38,
   "metadata": {},
   "outputs": [
    {
     "data": {
      "text/plain": [
       "array(['WIP2520 P-1 Series', 'MLVS0603 AM成品', 'MLVS0603 L Free Ser',\n",
       "       'WIP2016 P-1 Series', 'MIP2520 series成品', 'MLVS0201成品',\n",
       "       'EGA0603成品', 'EGA0402AH成品', 'MLVS1206 AM成品', 'SGX0603成品',\n",
       "       'WIP2520 S-1 Series', 'MLVS0805 AM成品', 'TVS 0402',\n",
       "       'MCI1005 series成品', 'MCI0603 series成品', 'MGB1005-G series成',\n",
       "       'MLVG0402 series成品', 'SGX1206-4成品', 'MLVS0402 AM成品',\n",
       "       'MLVG0603 series成品', 'MLA0402series成品', 'MCB1005-B series成',\n",
       "       'WIP2520 P Series成', 'MCI1608 series成品', 'WIP2016 S-1 Series',\n",
       "       'MHC4516-S series成', 'MHC1608-P series成', 'MCM2012-B series成',\n",
       "       'EGA0402成品', 'MLVS0402 L Free Ser', 'WIP Series 成品', 'EGA1206-4成品',\n",
       "       'MLV0402成品', 'MLA0603series成品', 'TVS 0201 T成品', 'MLV0805-4成品',\n",
       "       'MIP2016-P series成', 'MHC1608-S series成', 'MHC2012-S series成',\n",
       "       'MHC1005-S series成', 'MLVS0805 AM W成品', 'TVS 0201', 'MISC',\n",
       "       'MLV1206 series成品', 'SMXX  A Series 成品', 'MHC3216-S series成',\n",
       "       'MHC1005-P series成', 'MCB1608-S series成', 'MCB1005-S series成',\n",
       "       'MIP2012 series成品', 'WIPRB2520 Series成', 'SMXX CA Series 成品',\n",
       "       'ACA-5036-A2-CC成品', 'MIP1608-P series成', 'Littelfuse代工成品',\n",
       "       'MCB1005-H series成', 'MCB2012-S series成', 'MIP2012-P series成',\n",
       "       'WCI1608 series成品', 'WMM0420 PX', 'NIP4030 GX', 'NIP5040 6028 GX',\n",
       "       'MIP2012-P*** M05 se', 'HCM1012-G series成', 'MHC1005-G series成',\n",
       "       'TVU1240成品', 'MHC3225-S series成', 'EGA0201成品', 'NIP3015 GX',\n",
       "       'MFI2012 series成品', 'DAM成品', 'TVS series成品', 'MIP2016 series成品',\n",
       "       'WIP series成品', 'HCE1012-GH series成', 'MFI2012 series 成品',\n",
       "       'ACM0-3216-A1-CC-S成', 'MCB0603-S series成', 'WIPRB2016 Series成',\n",
       "       'MCB3216-S series成', '成品', 'HCM2012-GH series成',\n",
       "       'MCI1005 series半成', '成品保護元件', 'WMM0603 PX', 'WMM1040 PX', 'GSM成品',\n",
       "       '台中廠直接材料主要', 'PATCH成品', 'AAF成品', 'PPTC成品', 'PFS1812成品',\n",
       "       'ACA5036成品', 'ACA-2012-A1-CC-S成', 'ACA-8010-A1成品', 'DAM半成品',\n",
       "       'NF Series成品', 'NFC series', 'NFW Series成品', 'GPS成品', 'DPA成品',\n",
       "       'Chip Ant.'], dtype=object)"
      ]
     },
     "execution_count": 38,
     "metadata": {},
     "output_type": "execute_result"
    }
   ],
   "source": [
    "sales['產品分類'].unique()"
   ]
  },
  {
   "cell_type": "code",
   "execution_count": null,
   "metadata": {},
   "outputs": [],
   "source": [
    "budget.insert(2, 'BU', value=budget.apply(lambda x: 'RF' if 'RF' in x['客戶名稱'] else 'Component', axis=1))"
   ]
  },
  {
   "cell_type": "code",
   "execution_count": null,
   "metadata": {},
   "outputs": [],
   "source": [
    "budget['客戶名稱'] = budget['客戶名稱'].str.replace(' RF', '')"
   ]
  },
  {
   "cell_type": "code",
   "execution_count": null,
   "metadata": {},
   "outputs": [],
   "source": [
    "client_dict = {'Bourns': 'Bourns', 'Eaton': 'Eaton', 'Laird': 'Laird', 'LF': 'LF', 'LF-OEM': 'LF ORM', 'WE': 'WE',\n",
    "               '信昌': '信昌', '東莞弘電': '東莞弘電', '藝感': '藝感', '華科': '華新科技',\n",
    "               'Mt System(Component)': 'MT-SYSTEM', 'Teltonika(Component)': 'TELTONIKA', 'Mt System(RF)': 'MT-SYSTEM',\n",
    "               'Teltonika(RF)': 'TELTONIKA', 'Te(RF)': 'TE', 'Credence(India)': 'Credence',\n",
    "               'Millenium(India)': 'Millenium', 'Nexty(India)': 'Nexty', 'OSE(India)': 'OSE', 'Others/One Time PO(India)': 'Others/One Time PO(India)'}\n",
    "budget['客戶名稱'] = budget['客戶名稱'].map(client_dict)"
   ]
  },
  {
   "cell_type": "code",
   "execution_count": 3,
   "metadata": {
    "scrolled": true
   },
   "outputs": [],
   "source": [
    "sales = sales[~sales['狀態'].str.contains('待通知 | 合約')]"
   ]
  },
  {
   "cell_type": "markdown",
   "metadata": {},
   "source": [
    "## Treemap"
   ]
  },
  {
   "cell_type": "code",
   "execution_count": 39,
   "metadata": {},
   "outputs": [
    {
     "data": {
      "text/html": [
       "<div>\n",
       "<style scoped>\n",
       "    .dataframe tbody tr th:only-of-type {\n",
       "        vertical-align: middle;\n",
       "    }\n",
       "\n",
       "    .dataframe tbody tr th {\n",
       "        vertical-align: top;\n",
       "    }\n",
       "\n",
       "    .dataframe thead th {\n",
       "        text-align: right;\n",
       "    }\n",
       "</style>\n",
       "<table border=\"1\" class=\"dataframe\">\n",
       "  <thead>\n",
       "    <tr style=\"text-align: right;\">\n",
       "      <th></th>\n",
       "      <th>Category</th>\n",
       "      <th>BG</th>\n",
       "      <th>Subcategory</th>\n",
       "      <th>Group</th>\n",
       "      <th>狀態</th>\n",
       "      <th>銷售單號</th>\n",
       "      <th>月份</th>\n",
       "      <th>開單日期</th>\n",
       "      <th>預交日期</th>\n",
       "      <th>預交年份</th>\n",
       "      <th>預交月份</th>\n",
       "      <th>交期變更</th>\n",
       "      <th>客戶名稱</th>\n",
       "      <th>負責業務</th>\n",
       "      <th>交貨方式</th>\n",
       "      <th>產品分類</th>\n",
       "      <th>品名</th>\n",
       "      <th>幣別</th>\n",
       "      <th>數量</th>\n",
       "      <th>單價</th>\n",
       "      <th>匯率</th>\n",
       "      <th>本國幣別NTD</th>\n",
       "      <th>客戶料號</th>\n",
       "      <th>客戶希交日</th>\n",
       "      <th>Term</th>\n",
       "    </tr>\n",
       "  </thead>\n",
       "  <tbody>\n",
       "    <tr>\n",
       "      <th>121</th>\n",
       "      <td>WIP2</td>\n",
       "      <td>WIP</td>\n",
       "      <td>NaN</td>\n",
       "      <td>MT-SYSTEM</td>\n",
       "      <td>01已出</td>\n",
       "      <td>SON18C0407</td>\n",
       "      <td>12</td>\n",
       "      <td>2018-12-27</td>\n",
       "      <td>2019-01-10</td>\n",
       "      <td>2019</td>\n",
       "      <td>January</td>\n",
       "      <td>NaT</td>\n",
       "      <td>MT-Sys.</td>\n",
       "      <td>許凱智</td>\n",
       "      <td>DHL</td>\n",
       "      <td>WIP2520 P-1 Series</td>\n",
       "      <td>WIP252012P-1R0ML</td>\n",
       "      <td>USD</td>\n",
       "      <td>60000</td>\n",
       "      <td>0</td>\n",
       "      <td>31</td>\n",
       "      <td>33269</td>\n",
       "      <td>WIP252012P-1R0ML</td>\n",
       "      <td>2019-01-11</td>\n",
       "      <td>EXW</td>\n",
       "    </tr>\n",
       "    <tr>\n",
       "      <th>131</th>\n",
       "      <td>WIP2</td>\n",
       "      <td>WIP</td>\n",
       "      <td>NaN</td>\n",
       "      <td>MT-SYSTEM</td>\n",
       "      <td>01已出</td>\n",
       "      <td>AON18B0042</td>\n",
       "      <td>11</td>\n",
       "      <td>2018-11-29</td>\n",
       "      <td>2019-01-10</td>\n",
       "      <td>2019</td>\n",
       "      <td>January</td>\n",
       "      <td>2018-12-26</td>\n",
       "      <td>MT-Sys.</td>\n",
       "      <td>許凱智</td>\n",
       "      <td>DHL</td>\n",
       "      <td>WIP2016 P-1 Series</td>\n",
       "      <td>WIP201610P-2R2ML</td>\n",
       "      <td>USD</td>\n",
       "      <td>42000</td>\n",
       "      <td>0</td>\n",
       "      <td>31</td>\n",
       "      <td>23277</td>\n",
       "      <td>WIP201610P-2R2ML</td>\n",
       "      <td>2019-01-10</td>\n",
       "      <td>EXW</td>\n",
       "    </tr>\n",
       "    <tr>\n",
       "      <th>132</th>\n",
       "      <td>MCI1</td>\n",
       "      <td>EMC</td>\n",
       "      <td>NaN</td>\n",
       "      <td>MT-SYSTEM</td>\n",
       "      <td>01已出</td>\n",
       "      <td>AON18C0005</td>\n",
       "      <td>12</td>\n",
       "      <td>2018-12-05</td>\n",
       "      <td>2019-01-10</td>\n",
       "      <td>2019</td>\n",
       "      <td>January</td>\n",
       "      <td>2018-12-26</td>\n",
       "      <td>MT-Sys.</td>\n",
       "      <td>許凱智</td>\n",
       "      <td>DHL</td>\n",
       "      <td>MCI1608 series成品</td>\n",
       "      <td>MCI1608HQ15NGHBP</td>\n",
       "      <td>USD</td>\n",
       "      <td>4000</td>\n",
       "      <td>0</td>\n",
       "      <td>31</td>\n",
       "      <td>555</td>\n",
       "      <td>MCI1608HQ15NGHBP</td>\n",
       "      <td>2018-12-10</td>\n",
       "      <td>EXW</td>\n",
       "    </tr>\n",
       "    <tr>\n",
       "      <th>133</th>\n",
       "      <td>MCI1</td>\n",
       "      <td>EMC</td>\n",
       "      <td>NaN</td>\n",
       "      <td>MT-SYSTEM</td>\n",
       "      <td>01已出</td>\n",
       "      <td>AON18C0005</td>\n",
       "      <td>12</td>\n",
       "      <td>2018-12-05</td>\n",
       "      <td>2019-01-10</td>\n",
       "      <td>2019</td>\n",
       "      <td>January</td>\n",
       "      <td>2018-12-26</td>\n",
       "      <td>MT-Sys.</td>\n",
       "      <td>許凱智</td>\n",
       "      <td>DHL</td>\n",
       "      <td>MCI1608 series成品</td>\n",
       "      <td>MCI1608HQ2N2SHBP</td>\n",
       "      <td>USD</td>\n",
       "      <td>16000</td>\n",
       "      <td>0</td>\n",
       "      <td>31</td>\n",
       "      <td>1727</td>\n",
       "      <td>MCI1608HQ2N2SHBP</td>\n",
       "      <td>2019-01-10</td>\n",
       "      <td>EXW</td>\n",
       "    </tr>\n",
       "    <tr>\n",
       "      <th>134</th>\n",
       "      <td>MCI1</td>\n",
       "      <td>EMC</td>\n",
       "      <td>NaN</td>\n",
       "      <td>MT-SYSTEM</td>\n",
       "      <td>01已出</td>\n",
       "      <td>AON18C0005</td>\n",
       "      <td>12</td>\n",
       "      <td>2018-12-05</td>\n",
       "      <td>2019-01-10</td>\n",
       "      <td>2019</td>\n",
       "      <td>January</td>\n",
       "      <td>2018-12-26</td>\n",
       "      <td>MT-Sys.</td>\n",
       "      <td>許凱智</td>\n",
       "      <td>DHL</td>\n",
       "      <td>MCI1608 series成品</td>\n",
       "      <td>MCI1608HQ5N6SHBP</td>\n",
       "      <td>USD</td>\n",
       "      <td>16000</td>\n",
       "      <td>0</td>\n",
       "      <td>31</td>\n",
       "      <td>1727</td>\n",
       "      <td>MCI1608HQ5N6SHBP</td>\n",
       "      <td>2019-01-10</td>\n",
       "      <td>EXW</td>\n",
       "    </tr>\n",
       "    <tr>\n",
       "      <th>...</th>\n",
       "      <td>...</td>\n",
       "      <td>...</td>\n",
       "      <td>...</td>\n",
       "      <td>...</td>\n",
       "      <td>...</td>\n",
       "      <td>...</td>\n",
       "      <td>...</td>\n",
       "      <td>...</td>\n",
       "      <td>...</td>\n",
       "      <td>...</td>\n",
       "      <td>...</td>\n",
       "      <td>...</td>\n",
       "      <td>...</td>\n",
       "      <td>...</td>\n",
       "      <td>...</td>\n",
       "      <td>...</td>\n",
       "      <td>...</td>\n",
       "      <td>...</td>\n",
       "      <td>...</td>\n",
       "      <td>...</td>\n",
       "      <td>...</td>\n",
       "      <td>...</td>\n",
       "      <td>...</td>\n",
       "      <td>...</td>\n",
       "      <td>...</td>\n",
       "    </tr>\n",
       "    <tr>\n",
       "      <th>10200</th>\n",
       "      <td>DPA成</td>\n",
       "      <td>RF</td>\n",
       "      <td>NaN</td>\n",
       "      <td>TELTONIKA</td>\n",
       "      <td>12未出</td>\n",
       "      <td>YT220A0001</td>\n",
       "      <td>10</td>\n",
       "      <td>2020-10-19</td>\n",
       "      <td>2020-12-15</td>\n",
       "      <td>2020</td>\n",
       "      <td>December</td>\n",
       "      <td>NaT</td>\n",
       "      <td>TELTONIK</td>\n",
       "      <td>許凱智</td>\n",
       "      <td>AIR-FWRD</td>\n",
       "      <td>DPA成品</td>\n",
       "      <td>RFDPA191300SMTB806J4</td>\n",
       "      <td>USD</td>\n",
       "      <td>122000</td>\n",
       "      <td>1</td>\n",
       "      <td>1</td>\n",
       "      <td>2578287</td>\n",
       "      <td>RFDPA191300SMTB806J4</td>\n",
       "      <td>2020-12-15</td>\n",
       "      <td>EXW</td>\n",
       "    </tr>\n",
       "    <tr>\n",
       "      <th>10201</th>\n",
       "      <td>PATC</td>\n",
       "      <td>RF</td>\n",
       "      <td>Patch</td>\n",
       "      <td>TELTONIKA</td>\n",
       "      <td>12未出</td>\n",
       "      <td>STN20A0008</td>\n",
       "      <td>10</td>\n",
       "      <td>2020-10-19</td>\n",
       "      <td>2020-12-17</td>\n",
       "      <td>2020</td>\n",
       "      <td>December</td>\n",
       "      <td>NaT</td>\n",
       "      <td>TELTONIK</td>\n",
       "      <td>許凱智</td>\n",
       "      <td>AIR-FWRD</td>\n",
       "      <td>PATCH成品</td>\n",
       "      <td>PA1590MI4G-375-28M</td>\n",
       "      <td>USD</td>\n",
       "      <td>93000</td>\n",
       "      <td>0</td>\n",
       "      <td>1</td>\n",
       "      <td>643472</td>\n",
       "      <td>PA1590MI4G-375-28M</td>\n",
       "      <td>2020-12-17</td>\n",
       "      <td>EXW</td>\n",
       "    </tr>\n",
       "    <tr>\n",
       "      <th>10202</th>\n",
       "      <td>AAF成</td>\n",
       "      <td>RF</td>\n",
       "      <td>AAF</td>\n",
       "      <td>TELTONIKA</td>\n",
       "      <td>12未出</td>\n",
       "      <td>STN20A0008</td>\n",
       "      <td>10</td>\n",
       "      <td>2020-10-19</td>\n",
       "      <td>2020-12-17</td>\n",
       "      <td>2020</td>\n",
       "      <td>December</td>\n",
       "      <td>NaT</td>\n",
       "      <td>TELTONIK</td>\n",
       "      <td>許凱智</td>\n",
       "      <td>AIR-FWRD</td>\n",
       "      <td>AAF成品</td>\n",
       "      <td>GPSGLONASSU10N-N6-0420-A</td>\n",
       "      <td>USD</td>\n",
       "      <td>1000</td>\n",
       "      <td>2</td>\n",
       "      <td>1</td>\n",
       "      <td>52978</td>\n",
       "      <td>GPSGLONASSU10N-N6-04</td>\n",
       "      <td>2020-12-17</td>\n",
       "      <td>EXW</td>\n",
       "    </tr>\n",
       "    <tr>\n",
       "      <th>10203</th>\n",
       "      <td>DAM成</td>\n",
       "      <td>RF</td>\n",
       "      <td>Dipole</td>\n",
       "      <td>TELTONIKA</td>\n",
       "      <td>12未出</td>\n",
       "      <td>STN20A0012</td>\n",
       "      <td>10</td>\n",
       "      <td>2020-10-22</td>\n",
       "      <td>2020-12-18</td>\n",
       "      <td>2020</td>\n",
       "      <td>December</td>\n",
       "      <td>NaT</td>\n",
       "      <td>TELTONIK</td>\n",
       "      <td>許凱智</td>\n",
       "      <td>AIR-FWRD</td>\n",
       "      <td>DAM成品</td>\n",
       "      <td>DAM-P11-E1-R2-003-22-03</td>\n",
       "      <td>USD</td>\n",
       "      <td>2000</td>\n",
       "      <td>1</td>\n",
       "      <td>1</td>\n",
       "      <td>64646</td>\n",
       "      <td>DAM-P11-E1-R2-003-22</td>\n",
       "      <td>2020-12-18</td>\n",
       "      <td>EXW</td>\n",
       "    </tr>\n",
       "    <tr>\n",
       "      <th>10204</th>\n",
       "      <td>AAF成</td>\n",
       "      <td>RF</td>\n",
       "      <td>AAF</td>\n",
       "      <td>TELTONIKA</td>\n",
       "      <td>12未出</td>\n",
       "      <td>STN20A0008</td>\n",
       "      <td>10</td>\n",
       "      <td>2020-10-19</td>\n",
       "      <td>2020-12-28</td>\n",
       "      <td>2020</td>\n",
       "      <td>December</td>\n",
       "      <td>NaT</td>\n",
       "      <td>TELTONIK</td>\n",
       "      <td>許凱智</td>\n",
       "      <td>AIR-FWRD</td>\n",
       "      <td>AAF成品</td>\n",
       "      <td>GPSGLONASSU10N-N6-0022-A</td>\n",
       "      <td>USD</td>\n",
       "      <td>15000</td>\n",
       "      <td>2</td>\n",
       "      <td>1</td>\n",
       "      <td>712170</td>\n",
       "      <td>GPSGLONASSU10N-N6-00</td>\n",
       "      <td>2020-12-28</td>\n",
       "      <td>EXW</td>\n",
       "    </tr>\n",
       "  </tbody>\n",
       "</table>\n",
       "<p>1291 rows × 25 columns</p>\n",
       "</div>"
      ],
      "text/plain": [
       "      Category   BG Subcategory      Group    狀態        銷售單號  月份       開單日期  \\\n",
       "121       WIP2  WIP         NaN  MT-SYSTEM  01已出  SON18C0407  12 2018-12-27   \n",
       "131       WIP2  WIP         NaN  MT-SYSTEM  01已出  AON18B0042  11 2018-11-29   \n",
       "132       MCI1  EMC         NaN  MT-SYSTEM  01已出  AON18C0005  12 2018-12-05   \n",
       "133       MCI1  EMC         NaN  MT-SYSTEM  01已出  AON18C0005  12 2018-12-05   \n",
       "134       MCI1  EMC         NaN  MT-SYSTEM  01已出  AON18C0005  12 2018-12-05   \n",
       "...        ...  ...         ...        ...   ...         ...  ..        ...   \n",
       "10200     DPA成   RF         NaN  TELTONIKA  12未出  YT220A0001  10 2020-10-19   \n",
       "10201     PATC   RF       Patch  TELTONIKA  12未出  STN20A0008  10 2020-10-19   \n",
       "10202     AAF成   RF         AAF  TELTONIKA  12未出  STN20A0008  10 2020-10-19   \n",
       "10203     DAM成   RF      Dipole  TELTONIKA  12未出  STN20A0012  10 2020-10-22   \n",
       "10204     AAF成   RF         AAF  TELTONIKA  12未出  STN20A0008  10 2020-10-19   \n",
       "\n",
       "            預交日期  預交年份      預交月份       交期變更      客戶名稱 負責業務      交貨方式  \\\n",
       "121   2019-01-10  2019   January        NaT   MT-Sys.  許凱智       DHL   \n",
       "131   2019-01-10  2019   January 2018-12-26   MT-Sys.  許凱智       DHL   \n",
       "132   2019-01-10  2019   January 2018-12-26   MT-Sys.  許凱智       DHL   \n",
       "133   2019-01-10  2019   January 2018-12-26   MT-Sys.  許凱智       DHL   \n",
       "134   2019-01-10  2019   January 2018-12-26   MT-Sys.  許凱智       DHL   \n",
       "...          ...   ...       ...        ...       ...  ...       ...   \n",
       "10200 2020-12-15  2020  December        NaT  TELTONIK  許凱智  AIR-FWRD   \n",
       "10201 2020-12-17  2020  December        NaT  TELTONIK  許凱智  AIR-FWRD   \n",
       "10202 2020-12-17  2020  December        NaT  TELTONIK  許凱智  AIR-FWRD   \n",
       "10203 2020-12-18  2020  December        NaT  TELTONIK  許凱智  AIR-FWRD   \n",
       "10204 2020-12-28  2020  December        NaT  TELTONIK  許凱智  AIR-FWRD   \n",
       "\n",
       "                     產品分類                        品名   幣別     數量  單價  匯率  \\\n",
       "121    WIP2520 P-1 Series          WIP252012P-1R0ML  USD  60000   0  31   \n",
       "131    WIP2016 P-1 Series          WIP201610P-2R2ML  USD  42000   0  31   \n",
       "132      MCI1608 series成品          MCI1608HQ15NGHBP  USD   4000   0  31   \n",
       "133      MCI1608 series成品          MCI1608HQ2N2SHBP  USD  16000   0  31   \n",
       "134      MCI1608 series成品          MCI1608HQ5N6SHBP  USD  16000   0  31   \n",
       "...                   ...                       ...  ...    ...  ..  ..   \n",
       "10200               DPA成品      RFDPA191300SMTB806J4  USD 122000   1   1   \n",
       "10201             PATCH成品        PA1590MI4G-375-28M  USD  93000   0   1   \n",
       "10202               AAF成品  GPSGLONASSU10N-N6-0420-A  USD   1000   2   1   \n",
       "10203               DAM成品   DAM-P11-E1-R2-003-22-03  USD   2000   1   1   \n",
       "10204               AAF成品  GPSGLONASSU10N-N6-0022-A  USD  15000   2   1   \n",
       "\n",
       "       本國幣別NTD                  客戶料號      客戶希交日 Term  \n",
       "121      33269      WIP252012P-1R0ML 2019-01-11  EXW  \n",
       "131      23277      WIP201610P-2R2ML 2019-01-10  EXW  \n",
       "132        555      MCI1608HQ15NGHBP 2018-12-10  EXW  \n",
       "133       1727      MCI1608HQ2N2SHBP 2019-01-10  EXW  \n",
       "134       1727      MCI1608HQ5N6SHBP 2019-01-10  EXW  \n",
       "...        ...                   ...        ...  ...  \n",
       "10200  2578287  RFDPA191300SMTB806J4 2020-12-15  EXW  \n",
       "10201   643472    PA1590MI4G-375-28M 2020-12-17  EXW  \n",
       "10202    52978  GPSGLONASSU10N-N6-04 2020-12-17  EXW  \n",
       "10203    64646  DAM-P11-E1-R2-003-22 2020-12-18  EXW  \n",
       "10204   712170  GPSGLONASSU10N-N6-00 2020-12-28  EXW  \n",
       "\n",
       "[1291 rows x 25 columns]"
      ]
     },
     "execution_count": 39,
     "metadata": {},
     "output_type": "execute_result"
    }
   ],
   "source": [
    "sales[(sales['負責業務'] == '許凱智') & (sales['預交年份'].isin([2019,2020])) & (sales['Group'].isin(['TELTONIKA', 'MT-SYSTEM']))]"
   ]
  },
  {
   "cell_type": "code",
   "execution_count": 40,
   "metadata": {},
   "outputs": [],
   "source": [
    "test = sales[(sales['負責業務'] == '許凱智') & (sales['預交年份'].isin([2019,2020])) & (sales['Group'].isin(['TELTONIKA', 'MT-SYSTEM']))].groupby(['預交年份', 'Group', 'BG', '預交月份', '品名'])[['數量', '本國幣別NTD']].sum().reset_index()"
   ]
  },
  {
   "cell_type": "code",
   "execution_count": 44,
   "metadata": {},
   "outputs": [],
   "source": [
    "test.columns = ['Year', 'Company', 'Category', 'Month', 'Part number', 'Quantity', 'Revenue in NTD']"
   ]
  },
  {
   "cell_type": "code",
   "execution_count": 64,
   "metadata": {},
   "outputs": [],
   "source": [
    "data = test.query('Year == 2020 and Company == \"MT-SYSTEM\" and Category == \"RF\"')\n",
    "data = data[['Quantity']]"
   ]
  },
  {
   "cell_type": "code",
   "execution_count": 49,
   "metadata": {},
   "outputs": [],
   "source": [
    "test1 = test.groupby(['Year', 'Company', 'Month', 'Category', 'Part number'])[['Quantity', 'Revenue in NTD']].sum().reset_index()"
   ]
  },
  {
   "cell_type": "code",
   "execution_count": 51,
   "metadata": {},
   "outputs": [
    {
     "data": {
      "application/vnd.plotly.v1+json": {
       "config": {
        "plotlyServerURL": "https://plot.ly"
       },
       "data": [
        {
         "branchvalues": "total",
         "customdata": [
          [
           6000
          ],
          [
           12000
          ],
          [
           5999.999999999999
          ],
          [
           2
          ],
          [
           1000
          ],
          [
           999.9999999999999
          ],
          [
           1780
          ],
          [
           3000
          ],
          [
           500
          ],
          [
           28000
          ],
          [
           11000
          ],
          [
           9000
          ],
          [
           24000
          ],
          [
           10000
          ],
          [
           2000
          ],
          [
           2000.0000000000002
          ],
          [
           6000.000000000001
          ],
          [
           4000
          ],
          [
           1890
          ],
          [
           12950
          ],
          [
           36000
          ],
          [
           20000
          ],
          [
           8500
          ],
          [
           15610
          ],
          [
           14000.000000000002
          ],
          [
           13500
          ],
          [
           30000
          ],
          [
           3000
          ],
          [
           4080
          ],
          [
           6160
          ],
          [
           6000
          ],
          [
           3000
          ],
          [
           3500
          ],
          [
           6500
          ],
          [
           6000
          ],
          [
           3000
          ],
          [
           2000
          ],
          [
           20
          ],
          [
           1020.0000000000001
          ],
          [
           1000
          ],
          [
           15
          ],
          [
           1300
          ],
          [
           100.00000000000001
          ],
          [
           400
          ],
          [
           6000
          ],
          [
           5000
          ],
          [
           2480
          ],
          [
           6000
          ],
          [
           5000
          ],
          [
           5000
          ],
          [
           4170
          ],
          [
           15000
          ],
          [
           26000
          ],
          [
           27000.000000000004
          ],
          [
           1000
          ],
          [
           10000
          ],
          [
           10000
          ],
          [
           10000
          ],
          [
           90000
          ],
          [
           40000
          ],
          [
           30000
          ],
          [
           20000
          ],
          [
           20000
          ],
          [
           30000
          ],
          [
           40000
          ],
          [
           30000
          ],
          [
           50000
          ],
          [
           320000
          ],
          [
           50000
          ],
          [
           300000
          ],
          [
           480000
          ],
          [
           180000
          ],
          [
           510000.00000000006
          ],
          [
           340000.00000000006
          ],
          [
           260000
          ],
          [
           320000
          ],
          [
           180000
          ],
          [
           100000
          ],
          [
           410000
          ],
          [
           200000
          ],
          [
           320000
          ],
          [
           290000
          ],
          [
           430000
          ],
          [
           210000
          ],
          [
           80000
          ],
          [
           90000
          ],
          [
           30000
          ],
          [
           10000
          ],
          [
           160000
          ],
          [
           60000
          ],
          [
           70000
          ],
          [
           40000
          ],
          [
           150000
          ],
          [
           20000
          ],
          [
           50000
          ],
          [
           40000
          ],
          [
           40000
          ],
          [
           10000
          ],
          [
           40000
          ],
          [
           70000
          ],
          [
           90000
          ],
          [
           64000
          ],
          [
           44000
          ],
          [
           24000
          ],
          [
           132000
          ],
          [
           52000
          ],
          [
           60000.00000000001
          ],
          [
           92000
          ],
          [
           32000
          ],
          [
           20000
          ],
          [
           60000
          ],
          [
           64000
          ],
          [
           88000
          ],
          [
           24000
          ],
          [
           48000
          ],
          [
           135000
          ],
          [
           465000
          ],
          [
           195000
          ],
          [
           210000
          ],
          [
           479999.99999999994
          ],
          [
           435000
          ],
          [
           210000
          ],
          [
           90000
          ],
          [
           210000
          ],
          [
           150000
          ],
          [
           90000
          ],
          [
           210000
          ],
          [
           315000
          ],
          [
           210000
          ],
          [
           150000
          ],
          [
           210000
          ],
          [
           270000
          ],
          [
           20000
          ],
          [
           200000
          ],
          [
           370000
          ],
          [
           620000
          ],
          [
           310000
          ],
          [
           130000
          ],
          [
           220000
          ],
          [
           350000
          ],
          [
           130000
          ],
          [
           290000
          ],
          [
           230000
          ],
          [
           350000
          ],
          [
           200000
          ],
          [
           40000
          ],
          [
           19999.999999999996
          ],
          [
           40000
          ],
          [
           29999.999999999996
          ],
          [
           30000
          ],
          [
           30000
          ],
          [
           30000
          ],
          [
           40000
          ],
          [
           50000
          ],
          [
           30000
          ],
          [
           70000
          ],
          [
           20000
          ],
          [
           29999.999999999996
          ],
          [
           29999.999999999996
          ],
          [
           30000
          ],
          [
           20000
          ],
          [
           10000
          ],
          [
           10000
          ],
          [
           330000
          ],
          [
           70000
          ],
          [
           60000
          ],
          [
           129999.99999999999
          ],
          [
           40000
          ],
          [
           10000
          ],
          [
           20000
          ],
          [
           40000
          ],
          [
           40000
          ],
          [
           10000
          ],
          [
           20000
          ],
          [
           20000
          ],
          [
           40000
          ],
          [
           10000
          ],
          [
           50000
          ],
          [
           10000
          ],
          [
           20000
          ],
          [
           20000
          ],
          [
           20000
          ],
          [
           10000
          ],
          [
           70000
          ],
          [
           20000.000000000004
          ],
          [
           90000
          ],
          [
           30000
          ],
          [
           40000
          ],
          [
           40000
          ],
          [
           40000
          ],
          [
           20000
          ],
          [
           70000
          ],
          [
           30000
          ],
          [
           30000
          ],
          [
           29999.999999999996
          ],
          [
           20000
          ],
          [
           40000
          ],
          [
           40000
          ],
          [
           50000
          ],
          [
           40000
          ],
          [
           40000
          ],
          [
           90000
          ],
          [
           20000
          ],
          [
           20000
          ],
          [
           170000
          ],
          [
           160000
          ],
          [
           50000.00000000001
          ],
          [
           50000
          ],
          [
           20000
          ],
          [
           80000
          ],
          [
           10000
          ],
          [
           30000
          ],
          [
           100000
          ],
          [
           20000
          ],
          [
           140000
          ],
          [
           20000
          ],
          [
           130000
          ],
          [
           20000
          ],
          [
           40000
          ],
          [
           90000
          ],
          [
           80000
          ],
          [
           20000
          ],
          [
           10000
          ],
          [
           30000
          ],
          [
           10000
          ],
          [
           20000
          ],
          [
           40000
          ],
          [
           70000
          ],
          [
           60000
          ],
          [
           50000
          ],
          [
           119999.99999999999
          ],
          [
           90000
          ],
          [
           30000
          ],
          [
           80000
          ],
          [
           70000
          ],
          [
           90000
          ],
          [
           80000
          ],
          [
           60000
          ],
          [
           50000
          ],
          [
           50000
          ],
          [
           60000
          ],
          [
           50000
          ],
          [
           99999.99999999999
          ],
          [
           40000
          ],
          [
           20000
          ],
          [
           20000
          ],
          [
           90000
          ],
          [
           100000
          ],
          [
           30000
          ],
          [
           80000
          ],
          [
           10000
          ],
          [
           50000
          ],
          [
           20000
          ],
          [
           60000
          ],
          [
           30000
          ],
          [
           80000
          ],
          [
           129999.99999999999
          ],
          [
           30000
          ],
          [
           10000
          ],
          [
           10000
          ],
          [
           70000
          ],
          [
           60000
          ],
          [
           10000
          ],
          [
           10000
          ],
          [
           30000
          ],
          [
           40000
          ],
          [
           60000
          ],
          [
           10000
          ],
          [
           30000
          ],
          [
           20000
          ],
          [
           50000
          ],
          [
           10000
          ],
          [
           20000
          ],
          [
           90000
          ],
          [
           30000
          ],
          [
           80000
          ],
          [
           150000
          ],
          [
           180000
          ],
          [
           20000
          ],
          [
           90000
          ],
          [
           80000
          ],
          [
           60000.00000000001
          ],
          [
           100000.00000000001
          ],
          [
           80000
          ],
          [
           130000
          ],
          [
           20000
          ],
          [
           10000
          ],
          [
           20000
          ],
          [
           200000
          ],
          [
           90000
          ],
          [
           150000
          ],
          [
           160000
          ],
          [
           170000
          ],
          [
           60000
          ],
          [
           150000
          ],
          [
           90000
          ],
          [
           120000
          ],
          [
           59999.99999999999
          ],
          [
           160000
          ],
          [
           80000
          ],
          [
           50000
          ],
          [
           70000
          ],
          [
           10000
          ],
          [
           10000
          ],
          [
           10000
          ],
          [
           10000
          ],
          [
           80000
          ],
          [
           60000
          ],
          [
           100000
          ],
          [
           60000
          ],
          [
           60000
          ],
          [
           60000
          ],
          [
           60000
          ],
          [
           10000
          ],
          [
           120000
          ],
          [
           10000
          ],
          [
           50000
          ],
          [
           130000
          ],
          [
           20000
          ],
          [
           30000
          ],
          [
           70000
          ],
          [
           40000
          ],
          [
           3999.9999999999995
          ],
          [
           3999.9999999999995
          ],
          [
           8000
          ],
          [
           16000
          ],
          [
           12000
          ],
          [
           8000
          ],
          [
           16000
          ],
          [
           12000
          ],
          [
           52000
          ],
          [
           52000
          ],
          [
           8000
          ],
          [
           8000
          ],
          [
           16000
          ],
          [
           52000
          ],
          [
           16000
          ],
          [
           183000
          ],
          [
           129000
          ],
          [
           153000
          ],
          [
           174000
          ],
          [
           40000
          ],
          [
           10000
          ],
          [
           10000
          ],
          [
           30000
          ],
          [
           20000
          ],
          [
           272000
          ],
          [
           168000
          ],
          [
           44000
          ],
          [
           264000
          ],
          [
           384000
          ],
          [
           460000
          ],
          [
           92000
          ],
          [
           200000
          ],
          [
           1048000
          ],
          [
           548000
          ],
          [
           592000
          ],
          [
           528000
          ],
          [
           475999.99999999994
          ],
          [
           140000
          ],
          [
           68000
          ],
          [
           940000.0000000001
          ],
          [
           452000
          ],
          [
           584000
          ],
          [
           816000
          ],
          [
           624000
          ],
          [
           724000
          ],
          [
           372000
          ],
          [
           212000
          ],
          [
           144000
          ],
          [
           55999.99999999999
          ],
          [
           48000
          ],
          [
           96000
          ],
          [
           76000
          ],
          [
           132000
          ],
          [
           32000
          ],
          [
           32000
          ],
          [
           24000
          ],
          [
           36000
          ],
          [
           8000
          ],
          [
           68000
          ],
          [
           12000
          ],
          [
           48000
          ],
          [
           48000
          ],
          [
           93000
          ],
          [
           198000
          ],
          [
           78000
          ],
          [
           75000
          ],
          [
           84000
          ],
          [
           165000
          ],
          [
           9000
          ],
          [
           33000
          ],
          [
           42000
          ],
          [
           126000
          ],
          [
           111000
          ],
          [
           84000
          ],
          [
           69000
          ],
          [
           75000
          ],
          [
           12000
          ],
          [
           204000
          ],
          [
           315000
          ],
          [
           201000
          ],
          [
           210000
          ],
          [
           549000
          ],
          [
           222000
          ],
          [
           213000
          ],
          [
           219000
          ],
          [
           204000
          ],
          [
           15000
          ],
          [
           222000
          ],
          [
           159000
          ],
          [
           204000
          ],
          [
           204000
          ],
          [
           153000
          ],
          [
           210000
          ],
          [
           201000
          ],
          [
           231000
          ],
          [
           10
          ],
          [
           4000
          ],
          [
           12000
          ],
          [
           12000
          ],
          [
           85000
          ],
          [
           220000
          ],
          [
           30000
          ],
          [
           132500
          ],
          [
           122500
          ],
          [
           157500
          ],
          [
           147500
          ],
          [
           72500
          ],
          [
           25000
          ],
          [
           48000
          ],
          [
           106500
          ],
          [
           45000.00000000001
          ],
          [
           99000
          ],
          [
           105000
          ],
          [
           58500
          ],
          [
           85500
          ],
          [
           145500
          ],
          [
           76500
          ],
          [
           102000
          ],
          [
           3999.9999999999995
          ],
          [
           5000
          ],
          [
           100
          ],
          [
           1000
          ],
          [
           100
          ],
          [
           1250
          ],
          [
           200
          ],
          [
           11600
          ],
          [
           800
          ],
          [
           8400
          ],
          [
           10000
          ],
          [
           10200
          ],
          [
           26000
          ],
          [
           20000
          ],
          [
           10000
          ],
          [
           97000
          ],
          [
           98000
          ],
          [
           48000
          ],
          [
           58000
          ],
          [
           27000
          ],
          [
           95000
          ],
          [
           2000
          ],
          [
           20000
          ],
          [
           96000
          ],
          [
           133800
          ],
          [
           80000
          ],
          [
           1000
          ],
          [
           77000
          ],
          [
           29000
          ],
          [
           21100
          ],
          [
           30000
          ],
          [
           59000
          ],
          [
           121000
          ],
          [
           88000
          ],
          [
           6000
          ],
          [
           6000
          ],
          [
           84000
          ],
          [
           172000
          ],
          [
           105000.00000000001
          ],
          [
           42000
          ],
          [
           70000
          ],
          [
           97100
          ],
          [
           143000
          ],
          [
           50000
          ],
          [
           79000
          ],
          [
           192350
          ],
          [
           70000
          ],
          [
           54000
          ],
          [
           40000
          ],
          [
           55300
          ],
          [
           95000
          ],
          [
           33000
          ],
          [
           24000
          ],
          [
           78000
          ],
          [
           148150
          ],
          [
           29000.000000000004
          ],
          [
           17000
          ],
          [
           12000
          ],
          [
           999.9999999999999
          ],
          [
           6999.999999999999
          ],
          [
           30000
          ],
          [
           4000
          ],
          [
           9000
          ],
          [
           14000
          ],
          [
           8700
          ],
          [
           12000
          ],
          [
           15000
          ],
          [
           3300
          ],
          [
           23000
          ],
          [
           5000
          ],
          [
           2000
          ],
          [
           3400
          ],
          [
           16000
          ],
          [
           5000
          ],
          [
           21000
          ],
          [
           34000
          ],
          [
           6000
          ],
          [
           12000
          ],
          [
           1000
          ],
          [
           3000
          ],
          [
           5000
          ],
          [
           9000
          ],
          [
           8000.000000000001
          ],
          [
           6000
          ],
          [
           12000
          ],
          [
           10200
          ],
          [
           5000
          ],
          [
           3000
          ],
          [
           3000
          ],
          [
           3000
          ],
          [
           3000
          ],
          [
           9000
          ],
          [
           3000
          ],
          [
           5000
          ],
          [
           20000
          ],
          [
           6000
          ],
          [
           4000
          ],
          [
           1000
          ],
          [
           3000
          ],
          [
           3000
          ],
          [
           2000
          ],
          [
           1000
          ],
          [
           6000
          ],
          [
           5000
          ],
          [
           1000
          ],
          [
           26000
          ],
          [
           10000
          ],
          [
           10000
          ],
          [
           10000
          ],
          [
           10000
          ],
          [
           10000
          ],
          [
           10000
          ],
          [
           5000
          ],
          [
           10000
          ],
          [
           20000
          ],
          [
           20000
          ],
          [
           20000
          ],
          [
           24000.000000000004
          ],
          [
           10000
          ],
          [
           10000
          ],
          [
           10000
          ],
          [
           1500
          ],
          [
           9000
          ],
          [
           999.9999999999999
          ],
          [
           8600
          ],
          [
           2000.0000000000002
          ],
          [
           2000.0000000000002
          ],
          [
           2100
          ],
          [
           350
          ],
          [
           1000
          ],
          [
           2000
          ],
          [
           3000
          ],
          [
           2000
          ],
          [
           7000
          ],
          [
           4000
          ],
          [
           3000
          ],
          [
           3000
          ],
          [
           3000
          ],
          [
           3000
          ],
          [
           2000
          ],
          [
           18000
          ],
          [
           25000
          ],
          [
           16000.000000000002
          ],
          [
           9100
          ],
          [
           19000
          ],
          [
           8100
          ],
          [
           7000
          ],
          [
           15200
          ],
          [
           24000
          ],
          [
           1000
          ],
          [
           11000
          ],
          [
           14000
          ],
          [
           8000
          ],
          [
           3000
          ],
          [
           6000
          ],
          [
           2000
          ],
          [
           6000
          ],
          [
           23000
          ],
          [
           2000
          ],
          [
           16562
          ],
          [
           4140
          ],
          [
           20
          ],
          [
           6460
          ],
          [
           15999.999999999998
          ],
          [
           16000
          ],
          [
           30000
          ],
          [
           15999.999999999998
          ],
          [
           2000.0000000000002
          ],
          [
           2000
          ],
          [
           2499.9999999999995
          ],
          [
           3100
          ],
          [
           5000
          ],
          [
           200
          ],
          [
           14499.999999999998
          ],
          [
           50
          ],
          [
           100
          ],
          [
           12000
          ],
          [
           1999.9999999999998
          ],
          [
           6000
          ],
          [
           6000
          ],
          [
           22000
          ],
          [
           62000
          ],
          [
           20000
          ],
          [
           37000
          ],
          [
           22000.000000000004
          ],
          [
           32000
          ],
          [
           35000
          ],
          [
           122000
          ],
          [
           39000
          ],
          [
           67000
          ],
          [
           6000
          ],
          [
           90000
          ],
          [
           2000
          ],
          [
           2000
          ],
          [
           15000
          ],
          [
           5000
          ],
          [
           10000
          ],
          [
           5000
          ],
          [
           5000
          ],
          [
           10000
          ],
          [
           5000
          ],
          [
           20000
          ],
          [
           10000
          ],
          [
           15000
          ],
          [
           10000
          ],
          [
           15000
          ],
          [
           5000
          ],
          [
           10000
          ],
          [
           5000
          ],
          [
           50000
          ],
          [
           100000
          ],
          [
           100000
          ],
          [
           10000
          ],
          [
           30000
          ],
          [
           25000
          ],
          [
           15000
          ],
          [
           5000
          ],
          [
           5000
          ],
          [
           9000
          ],
          [
           9000
          ],
          [
           3000
          ],
          [
           30000
          ],
          [
           30000
          ],
          [
           51000
          ],
          [
           120000
          ],
          [
           6000
          ],
          [
           6000
          ],
          [
           3000
          ],
          [
           12000
          ],
          [
           9000
          ],
          [
           3000
          ],
          [
           400
          ],
          [
           1500
          ],
          [
           1000
          ],
          [
           1140
          ],
          [
           1440
          ],
          [
           1000
          ],
          [
           200
          ],
          [
           10800
          ],
          [
           10000
          ],
          [
           10000
          ],
          [
           15600
          ],
          [
           14400
          ],
          [
           12000
          ],
          [
           8000
          ],
          [
           40000
          ],
          [
           44000
          ],
          [
           28000
          ],
          [
           20000
          ],
          [
           16000
          ],
          [
           20000
          ],
          [
           3000
          ],
          [
           45000
          ],
          [
           21000
          ],
          [
           3000
          ],
          [
           42000
          ],
          [
           21000
          ],
          [
           3000
          ],
          [
           3000
          ],
          [
           12000
          ],
          [
           24000
          ],
          [
           15000
          ],
          [
           12000
          ],
          [
           6000
          ],
          [
           24000
          ],
          [
           6000
          ],
          [
           60000
          ],
          [
           6000
          ],
          [
           27000
          ],
          [
           84000
          ],
          [
           3000
          ],
          [
           9000
          ],
          [
           72000
          ],
          [
           18000
          ],
          [
           3000
          ],
          [
           12000
          ],
          [
           3000
          ],
          [
           27000
          ],
          [
           12000
          ],
          [
           15000
          ],
          [
           36000
          ],
          [
           12000
          ],
          [
           42000
          ],
          [
           21000
          ],
          [
           3000
          ],
          [
           27000
          ],
          [
           6000
          ],
          [
           6000
          ],
          [
           6000
          ],
          [
           12000
          ],
          [
           3000
          ],
          [
           2000
          ],
          [
           2000
          ],
          [
           4000
          ],
          [
           4000
          ],
          [
           4000
          ],
          [
           4000
          ],
          [
           4000
          ],
          [
           1
          ],
          [
           46580.64516129032
          ],
          [
           15900.481850925558
          ],
          [
           234646.1049851278
          ],
          [
           212243.41620255326
          ],
          [
           2932.319482274989
          ],
          [
           4000
          ],
          [
           116376.05232097235
          ],
          [
           182456.26521744614
          ],
          [
           8531.214584571278
          ],
          [
           168647.7431173085
          ],
          [
           121879.82408858018
          ],
          [
           462713.89010135684
          ],
          [
           96919.04748668171
          ],
          [
           143002.417327453
          ],
          [
           15211.67883211679
          ],
          [
           201171.90369853217
          ],
          [
           4000
          ],
          [
           37943.580136298224
          ],
          [
           169590.52057873987
          ],
          [
           220022.6944509928
          ],
          [
           12000
          ],
          [
           41746.927934951396
          ],
          [
           248181.77437705328
          ],
          [
           101008.25505974612
          ],
          [
           129063.67199892225
          ],
          [
           53562.50000000001
          ],
          [
           348035.7033629156
          ],
          [
           199037.42258438794
          ],
          [
           174337.25053166287
          ],
          [
           33849.49404380684
          ],
          [
           186681.66549521775
          ],
          [
           223527.3752018112
          ],
          [
           4000
          ],
          [
           122601.94059653467
          ],
          [
           181933.35664419632
          ],
          [
           304823.05282936606
          ],
          [
           148180.43940917062
          ],
          [
           116453.20103521591
          ],
          [
           129141.42669855
          ],
          [
           30000
          ],
          [
           30000
          ],
          [
           6000
          ],
          [
           30000
          ],
          [
           39844.308419596215
          ],
          [
           13304.757655154082
          ],
          [
           25000
          ],
          [
           6832.577042270824
          ],
          [
           10406.383548600164
          ],
          [
           76721.24677018069
          ],
          [
           106147.3697471052
          ],
          [
           68993.54264662668
          ],
          [
           5000
          ],
          [
           4351.840641483033
          ],
          [
           5000
          ],
          [
           1
          ],
          [
           5814.5908847696255
          ],
          [
           6218.227573647024
          ],
          [
           84636.86217889434
          ],
          [
           57231.58030664448
          ],
          [
           3860.9687224493723
          ],
          [
           7759.8753364469685
          ],
          [
           54492.51938951941
          ],
          [
           29870.27773219318
          ],
          [
           14089.584251844788
          ],
          [
           10000
          ],
          [
           70775.97920687955
          ],
          [
           71402.39333904683
          ],
          [
           19840.18454244127
          ],
          [
           3332.26136117781
          ],
          [
           33783.41755310448
          ],
          [
           7112.351563806103
          ],
          [
           8206.976744731337
          ],
          [
           75308.06754627204
          ],
          [
           146911.97716911373
          ],
          [
           5897.563649139118
          ],
          [
           12915.937969131433
          ],
          [
           63997.82912649923
          ],
          [
           24973.71458890699
          ],
          [
           8482.844435369043
          ],
          [
           100.00000000000001
          ],
          [
           56369.739642975466
          ],
          [
           7637.099348880677
          ],
          [
           14021.802526481542
          ],
          [
           27848.283048095218
          ],
          [
           44737.96106730888
          ],
          [
           13881.666748175447
          ],
          [
           65894.53196561338
          ],
          [
           30400.289182624696
          ],
          [
           4943.047954415602
          ],
          [
           16717.091627686426
          ],
          [
           92881.2862518478
          ],
          [
           40210.47421185898
          ],
          [
           13310.755998737784
          ],
          [
           6000
          ],
          [
           4971.119133656929
          ],
          [
           29617.879810655635
          ],
          [
           7606.894306737817
          ],
          [
           5002.254403039707
          ],
          [
           109901.68228677945
          ],
          [
           68744.23426310149
          ],
          [
           60000
          ],
          [
           10210.501889544521
          ],
          [
           4987.706451440483
          ],
          [
           45000
          ],
          [
           25320
          ],
          [
           6000
          ],
          [
           12000
          ],
          [
           24000
          ],
          [
           8171.1383279400325
          ],
          [
           61519.31280002815
          ],
          [
           15000
          ],
          [
           33418.49710982659
          ],
          [
           21000
          ],
          [
           12000
          ],
          [
           35333.33333333333
          ],
          [
           16108.912075099406
          ],
          [
           69239.56994273694
          ],
          [
           12000
          ],
          [
           20601.458184290575
          ],
          [
           6000
          ],
          [
           24000
          ],
          [
           6000
          ],
          [
           11330.564169157116
          ],
          [
           7409.652864031975
          ],
          [
           94973.25426675353
          ],
          [
           86062.2370151578
          ],
          [
           3867.1403755961387
          ],
          [
           9457.094185731052
          ],
          [
           63254.70341538817
          ],
          [
           54776.527484908
          ],
          [
           15529.743005771907
          ],
          [
           42680.933807850866
          ],
          [
           81041.1262367854
          ],
          [
           86639.40540566648
          ],
          [
           25877.76649070002
          ],
          [
           3332.26136117781
          ],
          [
           81181.68460163788
          ],
          [
           26499.018650760416
          ],
          [
           8206.976744731337
          ],
          [
           75308.06754627204
          ],
          [
           156008.0183285191
          ],
          [
           7174.3451034769405
          ],
          [
           13571.4437524602
          ],
          [
           93461.95755875463
          ],
          [
           33713.29682047868
          ],
          [
           8633.211672942689
          ],
          [
           19349.701168676034
          ],
          [
           74537.1989302763
          ],
          [
           20930.038603533925
          ],
          [
           20824.898472620785
          ],
          [
           100751.6449746795
          ],
          [
           28096.11017852635
          ],
          [
           124568.39021082643
          ],
          [
           21824.282573077813
          ],
          [
           77743.68017575728
          ],
          [
           67049.80800070436
          ],
          [
           4943.047954415602
          ],
          [
           17488.95965840022
          ],
          [
           124618.16259807788
          ],
          [
           46319.38927522221
          ],
          [
           13487.349930475542
          ],
          [
           9522.279776260188
          ],
          [
           122985.34215524702
          ],
          [
           40989.13846957353
          ],
          [
           7606.894306737817
          ],
          [
           11188.428622357957
          ],
          [
           110763.29882753531
          ],
          [
           71289.31143191806
          ],
          [
           13001.17474457946
          ],
          [
           18423.936288778423
          ],
          [
           88738.26420728545
          ],
          [
           73537.07597563666
          ],
          [
           64930.84650887343
          ],
          [
           68734.75560294518
          ]
         ],
         "domain": {
          "x": [
           0,
           1
          ],
          "y": [
           0,
           1
          ]
         },
         "hovertemplate": "labels=%{label}<br>Revenue in NTD=%{value}<br>parent=%{parent}<br>id=%{id}<br>Quantity=%{color}<extra></extra>",
         "ids": [
          "2019/MT-SYSTEM/April/RF/ACM4-5036-A1-CC-S Taping",
          "2020/MT-SYSTEM/April/RF/ACM4-5036-A1-CC-S Taping",
          "2019/MT-SYSTEM/January/RF/ACM4-5036-A1-CC-S Taping",
          "2020/MT-SYSTEM/September/RF/B3G02G-S3-01-A",
          "2019/MT-SYSTEM/April/RF/DAM-P1-D-N0-000-08-02",
          "2019/MT-SYSTEM/January/RF/DAM-P1-D-N0-000-08-02",
          "2019/MT-SYSTEM/March/RF/DAM-P1-D-N0-000-08-02",
          "2019/MT-SYSTEM/May/RF/DAM-P1-D-N0-000-08-02",
          "2020/TELTONIKA/August/RF/DAM-P11-B-R2-015-10-49",
          "2020/TELTONIKA/December/RF/DAM-P11-B-R2-015-10-49",
          "2020/TELTONIKA/November/RF/DAM-P11-B-R2-015-10-49",
          "2020/TELTONIKA/October/RF/DAM-P11-B-R2-015-10-49",
          "2020/TELTONIKA/September/RF/DAM-P11-B-R2-015-10-49",
          "2020/TELTONIKA/December/RF/DAM-P11-B-R2-015-10-50",
          "2020/TELTONIKA/July/RF/DAM-P11-B-R2-015-10-50",
          "2020/TELTONIKA/May/RF/DAM-P11-B-R2-015-10-50",
          "2020/TELTONIKA/November/RF/DAM-P11-B-R2-015-10-50",
          "2020/TELTONIKA/September/RF/DAM-P11-B-R2-015-10-50",
          "2020/TELTONIKA/April/RF/DAM-P11-E1-R2-003-22-03",
          "2020/TELTONIKA/August/RF/DAM-P11-E1-R2-003-22-03",
          "2020/TELTONIKA/December/RF/DAM-P11-E1-R2-003-22-03",
          "2020/TELTONIKA/July/RF/DAM-P11-E1-R2-003-22-03",
          "2020/TELTONIKA/June/RF/DAM-P11-E1-R2-003-22-03",
          "2020/TELTONIKA/May/RF/DAM-P11-E1-R2-003-22-03",
          "2020/TELTONIKA/November/RF/DAM-P11-E1-R2-003-22-03",
          "2020/TELTONIKA/October/RF/DAM-P11-E1-R2-003-22-03",
          "2020/TELTONIKA/September/RF/DAM-P11-E1-R2-003-22-03",
          "2019/MT-SYSTEM/August/RF/DAM-P2-D-N0-000-08-02",
          "2019/MT-SYSTEM/July/RF/DAM-P2-D-N0-000-08-02",
          "2019/MT-SYSTEM/May/RF/DAM-P2-D-N0-000-08-02",
          "2019/MT-SYSTEM/November/RF/DAM-P2-D-N0-000-08-02",
          "2019/MT-SYSTEM/September/RF/DAM-P2-D-N0-000-08-02",
          "2019/MT-SYSTEM/August/RF/GNS01U7W-S6-00-A",
          "2019/MT-SYSTEM/July/RF/GNS01U7W-S6-00-A",
          "2020/MT-SYSTEM/October/RF/GNS01U7W-S6-00-A",
          "2019/MT-SYSTEM/September/RF/GNS01U7W-S6-00-A",
          "2020/MT-SYSTEM/September/RF/GNS01U7W-S6-00-A",
          "2019/MT-SYSTEM/March/RF/GNS01U7W-S6-03-A",
          "2019/MT-SYSTEM/May/RF/GNS01U7W-S6-03-A",
          "2019/MT-SYSTEM/September/RF/GNS01U7W-S6-03-A",
          "2019/MT-SYSTEM/August/RF/GNS01U7W-S6-05-A",
          "2020/MT-SYSTEM/August/RF/GNS01U7W-S6-06-A",
          "2020/MT-SYSTEM/June/RF/GNS01U7W-S6-06-A",
          "2019/MT-SYSTEM/November/RF/GPSGLONASS03D-S6-01-A",
          "2019/MT-SYSTEM/April/RF/GPSGLONASS45D-S6-00-A",
          "2020/MT-SYSTEM/April/RF/GPSGLONASS45D-S6-00-A",
          "2020/MT-SYSTEM/August/RF/GPSGLONASS45D-S6-00-A",
          "2019/MT-SYSTEM/June/RF/GPSGLONASS45D-S6-00-A",
          "2019/MT-SYSTEM/March/RF/GPSGLONASS45D-S6-00-A",
          "2019/MT-SYSTEM/November/RF/GPSGLONASS45D-S6-00-A",
          "2020/MT-SYSTEM/September/RF/GPSGLONASS45D-S6-00-A",
          "2020/TELTONIKA/December/RF/GPSGLONASSU10N-N6-0022-A",
          "2020/TELTONIKA/November/RF/GPSGLONASSU10N-N6-0022-A",
          "2020/TELTONIKA/October/RF/GPSGLONASSU10N-N6-0022-A",
          "2020/TELTONIKA/December/RF/GPSGLONASSU10N-N6-0420-A",
          "2020/TELTONIKA/April/EMC/MCB1005B102GBP",
          "2020/TELTONIKA/August/EMC/MCB1005B102GBP",
          "2019/TELTONIKA/December/EMC/MCB1005B102GBP",
          "2020/TELTONIKA/December/EMC/MCB1005B102GBP",
          "2020/TELTONIKA/July/EMC/MCB1005B102GBP",
          "2020/TELTONIKA/June/EMC/MCB1005B102GBP",
          "2020/TELTONIKA/May/EMC/MCB1005B102GBP",
          "2020/TELTONIKA/November/EMC/MCB1005B102GBP",
          "2019/TELTONIKA/October/EMC/MCB1005B102GBP",
          "2020/TELTONIKA/October/EMC/MCB1005B102GBP",
          "2019/TELTONIKA/September/EMC/MCB1005B102GBP",
          "2020/TELTONIKA/September/EMC/MCB1005B102GBP",
          "2020/TELTONIKA/April/EMC/MCB1005S102FBP",
          "2019/TELTONIKA/August/EMC/MCB1005S102FBP",
          "2019/TELTONIKA/December/EMC/MCB1005S102FBP",
          "2020/TELTONIKA/December/EMC/MCB1005S102FBP",
          "2020/TELTONIKA/February/EMC/MCB1005S102FBP",
          "2020/TELTONIKA/January/EMC/MCB1005S102FBP",
          "2019/TELTONIKA/July/EMC/MCB1005S102FBP",
          "2020/TELTONIKA/July/EMC/MCB1005S102FBP",
          "2019/TELTONIKA/June/EMC/MCB1005S102FBP",
          "2020/TELTONIKA/March/EMC/MCB1005S102FBP",
          "2019/TELTONIKA/May/EMC/MCB1005S102FBP",
          "2020/TELTONIKA/May/EMC/MCB1005S102FBP",
          "2019/TELTONIKA/November/EMC/MCB1005S102FBP",
          "2020/TELTONIKA/November/EMC/MCB1005S102FBP",
          "2019/TELTONIKA/October/EMC/MCB1005S102FBP",
          "2020/TELTONIKA/October/EMC/MCB1005S102FBP",
          "2019/TELTONIKA/September/EMC/MCB1005S102FBP",
          "2020/TELTONIKA/September/EMC/MCB1005S102FBP",
          "2020/TELTONIKA/April/EMC/MCB1005S300FBP",
          "2019/TELTONIKA/August/EMC/MCB1005S300FBP",
          "2019/TELTONIKA/December/EMC/MCB1005S300FBP",
          "2020/TELTONIKA/December/EMC/MCB1005S300FBP",
          "2020/TELTONIKA/February/EMC/MCB1005S300FBP",
          "2020/TELTONIKA/January/EMC/MCB1005S300FBP",
          "2019/TELTONIKA/July/EMC/MCB1005S300FBP",
          "2020/TELTONIKA/July/EMC/MCB1005S300FBP",
          "2019/TELTONIKA/June/EMC/MCB1005S300FBP",
          "2020/TELTONIKA/June/EMC/MCB1005S300FBP",
          "2020/TELTONIKA/March/EMC/MCB1005S300FBP",
          "2020/TELTONIKA/May/EMC/MCB1005S300FBP",
          "2019/TELTONIKA/November/EMC/MCB1005S300FBP",
          "2020/TELTONIKA/November/EMC/MCB1005S300FBP",
          "2019/TELTONIKA/October/EMC/MCB1005S300FBP",
          "2020/TELTONIKA/October/EMC/MCB1005S300FBP",
          "2020/TELTONIKA/April/EMC/MCB1608S152HBP",
          "2019/TELTONIKA/August/EMC/MCB1608S152HBP",
          "2019/TELTONIKA/December/EMC/MCB1608S152HBP",
          "2020/TELTONIKA/December/EMC/MCB1608S152HBP",
          "2020/TELTONIKA/February/EMC/MCB1608S152HBP",
          "2020/TELTONIKA/January/EMC/MCB1608S152HBP",
          "2019/TELTONIKA/July/EMC/MCB1608S152HBP",
          "2020/TELTONIKA/July/EMC/MCB1608S152HBP",
          "2020/TELTONIKA/March/EMC/MCB1608S152HBP",
          "2020/TELTONIKA/May/EMC/MCB1608S152HBP",
          "2020/TELTONIKA/November/EMC/MCB1608S152HBP",
          "2020/TELTONIKA/October/EMC/MCB1608S152HBP",
          "2019/TELTONIKA/September/EMC/MCB1608S152HBP",
          "2020/TELTONIKA/September/EMC/MCB1608S152HBP",
          "2019/TELTONIKA/April/EMC/MCI0603TG3N0CHBP",
          "2020/TELTONIKA/April/EMC/MCI0603TG3N0CHBP",
          "2019/TELTONIKA/August/EMC/MCI0603TG3N0CHBP",
          "2019/TELTONIKA/December/EMC/MCI0603TG3N0CHBP",
          "2020/TELTONIKA/December/EMC/MCI0603TG3N0CHBP",
          "2020/TELTONIKA/February/EMC/MCI0603TG3N0CHBP",
          "2020/TELTONIKA/January/EMC/MCI0603TG3N0CHBP",
          "2019/TELTONIKA/July/EMC/MCI0603TG3N0CHBP",
          "2020/TELTONIKA/June/EMC/MCI0603TG3N0CHBP",
          "2019/TELTONIKA/May/EMC/MCI0603TG3N0CHBP",
          "2020/TELTONIKA/May/EMC/MCI0603TG3N0CHBP",
          "2019/TELTONIKA/November/EMC/MCI0603TG3N0CHBP",
          "2020/TELTONIKA/November/EMC/MCI0603TG3N0CHBP",
          "2019/TELTONIKA/October/EMC/MCI0603TG3N0CHBP",
          "2020/TELTONIKA/October/EMC/MCI0603TG3N0CHBP",
          "2019/TELTONIKA/September/EMC/MCI0603TG3N0CHBP",
          "2020/TELTONIKA/April/EMC/MCI1005HQ10NGHBP",
          "2019/TELTONIKA/August/EMC/MCI1005HQ10NGHBP",
          "2019/TELTONIKA/December/EMC/MCI1005HQ10NGHBP",
          "2020/TELTONIKA/December/EMC/MCI1005HQ10NGHBP",
          "2020/TELTONIKA/January/EMC/MCI1005HQ10NGHBP",
          "2019/TELTONIKA/July/EMC/MCI1005HQ10NGHBP",
          "2020/TELTONIKA/July/EMC/MCI1005HQ10NGHBP",
          "2020/TELTONIKA/March/EMC/MCI1005HQ10NGHBP",
          "2020/TELTONIKA/May/EMC/MCI1005HQ10NGHBP",
          "2019/TELTONIKA/November/EMC/MCI1005HQ10NGHBP",
          "2020/TELTONIKA/November/EMC/MCI1005HQ10NGHBP",
          "2019/TELTONIKA/October/EMC/MCI1005HQ10NGHBP",
          "2020/TELTONIKA/October/EMC/MCI1005HQ10NGHBP",
          "2019/TELTONIKA/September/EMC/MCI1005HQ10NGHBP",
          "2020/TELTONIKA/September/EMC/MCI1005HQ10NGHBP",
          "2019/TELTONIKA/December/EMC/MCI1005HQ10NJHBP",
          "2020/TELTONIKA/December/EMC/MCI1005HQ10NJHBP",
          "2020/TELTONIKA/February/EMC/MCI1005HQ10NJHBP",
          "2020/TELTONIKA/January/EMC/MCI1005HQ10NJHBP",
          "2019/TELTONIKA/July/EMC/MCI1005HQ10NJHBP",
          "2020/TELTONIKA/July/EMC/MCI1005HQ10NJHBP",
          "2020/TELTONIKA/June/EMC/MCI1005HQ10NJHBP",
          "2020/TELTONIKA/March/EMC/MCI1005HQ10NJHBP",
          "2019/TELTONIKA/May/EMC/MCI1005HQ10NJHBP",
          "2020/TELTONIKA/May/EMC/MCI1005HQ10NJHBP",
          "2019/TELTONIKA/November/EMC/MCI1005HQ10NJHBP",
          "2020/TELTONIKA/November/EMC/MCI1005HQ10NJHBP",
          "2019/TELTONIKA/October/EMC/MCI1005HQ10NJHBP",
          "2020/TELTONIKA/October/EMC/MCI1005HQ10NJHBP",
          "2019/TELTONIKA/September/EMC/MCI1005HQ10NJHBP",
          "2020/TELTONIKA/April/EMC/MCI1005HQ1N0SHBP",
          "2020/TELTONIKA/March/EMC/MCI1005HQ1N0SHBP",
          "2020/TELTONIKA/December/EMC/MCI1005HQ1N2BHBP",
          "2020/TELTONIKA/November/EMC/MCI1005HQ1N2BHBP",
          "2020/TELTONIKA/October/EMC/MCI1005HQ1N2BHBP",
          "2020/TELTONIKA/September/EMC/MCI1005HQ1N2BHBP",
          "2020/TELTONIKA/April/EMC/MCI1005HQ1N2SHBP",
          "2019/TELTONIKA/August/EMC/MCI1005HQ1N2SHBP",
          "2019/TELTONIKA/December/EMC/MCI1005HQ1N2SHBP",
          "2020/TELTONIKA/December/EMC/MCI1005HQ1N2SHBP",
          "2020/TELTONIKA/January/EMC/MCI1005HQ1N2SHBP",
          "2019/TELTONIKA/July/EMC/MCI1005HQ1N2SHBP",
          "2020/TELTONIKA/July/EMC/MCI1005HQ1N2SHBP",
          "2020/TELTONIKA/June/EMC/MCI1005HQ1N2SHBP",
          "2020/TELTONIKA/March/EMC/MCI1005HQ1N2SHBP",
          "2019/TELTONIKA/May/EMC/MCI1005HQ1N2SHBP",
          "2020/TELTONIKA/May/EMC/MCI1005HQ1N2SHBP",
          "2019/TELTONIKA/November/EMC/MCI1005HQ1N2SHBP",
          "2020/TELTONIKA/November/EMC/MCI1005HQ1N2SHBP",
          "2019/TELTONIKA/October/EMC/MCI1005HQ1N2SHBP",
          "2019/TELTONIKA/September/EMC/MCI1005HQ1N2SHBP",
          "2019/TELTONIKA/April/EMC/MCI1005HQ1N5SHBP",
          "2020/TELTONIKA/April/EMC/MCI1005HQ1N5SHBP",
          "2019/TELTONIKA/December/EMC/MCI1005HQ1N5SHBP",
          "2020/TELTONIKA/December/EMC/MCI1005HQ1N5SHBP",
          "2020/TELTONIKA/February/EMC/MCI1005HQ1N5SHBP",
          "2020/TELTONIKA/January/EMC/MCI1005HQ1N5SHBP",
          "2019/TELTONIKA/July/EMC/MCI1005HQ1N5SHBP",
          "2020/TELTONIKA/July/EMC/MCI1005HQ1N5SHBP",
          "2019/TELTONIKA/June/EMC/MCI1005HQ1N5SHBP",
          "2020/TELTONIKA/June/EMC/MCI1005HQ1N5SHBP",
          "2020/TELTONIKA/March/EMC/MCI1005HQ1N5SHBP",
          "2019/TELTONIKA/May/EMC/MCI1005HQ1N5SHBP",
          "2020/TELTONIKA/May/EMC/MCI1005HQ1N5SHBP",
          "2019/TELTONIKA/November/EMC/MCI1005HQ1N5SHBP",
          "2020/TELTONIKA/November/EMC/MCI1005HQ1N5SHBP",
          "2019/TELTONIKA/October/EMC/MCI1005HQ1N5SHBP",
          "2020/TELTONIKA/October/EMC/MCI1005HQ1N5SHBP",
          "2019/TELTONIKA/September/EMC/MCI1005HQ1N5SHBP",
          "2020/TELTONIKA/September/EMC/MCI1005HQ1N5SHBP",
          "2020/TELTONIKA/April/EMC/MCI1005HQ1N8BHBP",
          "2019/TELTONIKA/August/EMC/MCI1005HQ1N8BHBP",
          "2019/TELTONIKA/December/EMC/MCI1005HQ1N8BHBP",
          "2020/TELTONIKA/December/EMC/MCI1005HQ1N8BHBP",
          "2020/TELTONIKA/February/EMC/MCI1005HQ1N8BHBP",
          "2020/TELTONIKA/January/EMC/MCI1005HQ1N8BHBP",
          "2020/TELTONIKA/July/EMC/MCI1005HQ1N8BHBP",
          "2020/TELTONIKA/June/EMC/MCI1005HQ1N8BHBP",
          "2020/TELTONIKA/March/EMC/MCI1005HQ1N8BHBP",
          "2020/TELTONIKA/May/EMC/MCI1005HQ1N8BHBP",
          "2019/TELTONIKA/November/EMC/MCI1005HQ1N8BHBP",
          "2020/TELTONIKA/November/EMC/MCI1005HQ1N8BHBP",
          "2019/TELTONIKA/October/EMC/MCI1005HQ1N8BHBP",
          "2020/TELTONIKA/October/EMC/MCI1005HQ1N8BHBP",
          "2019/TELTONIKA/September/EMC/MCI1005HQ1N8BHBP",
          "2020/TELTONIKA/September/EMC/MCI1005HQ1N8BHBP",
          "2019/TELTONIKA/August/EMC/MCI1005HQ2N2BHBP",
          "2019/TELTONIKA/December/EMC/MCI1005HQ2N2BHBP",
          "2020/TELTONIKA/December/EMC/MCI1005HQ2N2BHBP",
          "2020/TELTONIKA/February/EMC/MCI1005HQ2N2BHBP",
          "2019/TELTONIKA/November/EMC/MCI1005HQ2N2BHBP",
          "2019/TELTONIKA/October/EMC/MCI1005HQ2N2BHBP",
          "2019/TELTONIKA/September/EMC/MCI1005HQ2N2BHBP",
          "2020/TELTONIKA/October/EMC/MCI1005HQ2N7BHBP",
          "2020/TELTONIKA/September/EMC/MCI1005HQ2N7BHBP",
          "2019/TELTONIKA/April/EMC/MCI1005HQ3N3BHBP",
          "2020/TELTONIKA/April/EMC/MCI1005HQ3N3BHBP",
          "2019/TELTONIKA/December/EMC/MCI1005HQ3N3BHBP",
          "2020/TELTONIKA/December/EMC/MCI1005HQ3N3BHBP",
          "2020/TELTONIKA/January/EMC/MCI1005HQ3N3BHBP",
          "2019/TELTONIKA/July/EMC/MCI1005HQ3N3BHBP",
          "2020/TELTONIKA/July/EMC/MCI1005HQ3N3BHBP",
          "2019/TELTONIKA/June/EMC/MCI1005HQ3N3BHBP",
          "2020/TELTONIKA/March/EMC/MCI1005HQ3N3BHBP",
          "2019/TELTONIKA/May/EMC/MCI1005HQ3N3BHBP",
          "2020/TELTONIKA/May/EMC/MCI1005HQ3N3BHBP",
          "2019/TELTONIKA/November/EMC/MCI1005HQ3N3BHBP",
          "2020/TELTONIKA/November/EMC/MCI1005HQ3N3BHBP",
          "2019/TELTONIKA/October/EMC/MCI1005HQ3N3BHBP",
          "2020/TELTONIKA/October/EMC/MCI1005HQ3N3BHBP",
          "2019/TELTONIKA/September/EMC/MCI1005HQ3N3BHBP",
          "2020/TELTONIKA/April/EMC/MCI1005HQ3N9BHBP",
          "2019/TELTONIKA/August/EMC/MCI1005HQ3N9BHBP",
          "2020/TELTONIKA/August/EMC/MCI1005HQ3N9BHBP",
          "2019/TELTONIKA/December/EMC/MCI1005HQ3N9BHBP",
          "2020/TELTONIKA/December/EMC/MCI1005HQ3N9BHBP",
          "2020/TELTONIKA/February/EMC/MCI1005HQ3N9BHBP",
          "2020/TELTONIKA/January/EMC/MCI1005HQ3N9BHBP",
          "2020/TELTONIKA/July/EMC/MCI1005HQ3N9BHBP",
          "2020/TELTONIKA/June/EMC/MCI1005HQ3N9BHBP",
          "2020/TELTONIKA/May/EMC/MCI1005HQ3N9BHBP",
          "2019/TELTONIKA/November/EMC/MCI1005HQ3N9BHBP",
          "2020/TELTONIKA/November/EMC/MCI1005HQ3N9BHBP",
          "2019/TELTONIKA/October/EMC/MCI1005HQ3N9BHBP",
          "2020/TELTONIKA/October/EMC/MCI1005HQ3N9BHBP",
          "2020/TELTONIKA/September/EMC/MCI1005HQ3N9BHBP",
          "2020/TELTONIKA/April/EMC/MCI1005HQ4N3BHBP",
          "2019/TELTONIKA/August/EMC/MCI1005HQ4N3BHBP",
          "2019/TELTONIKA/December/EMC/MCI1005HQ4N3BHBP",
          "2020/TELTONIKA/December/EMC/MCI1005HQ4N3BHBP",
          "2020/TELTONIKA/February/EMC/MCI1005HQ4N3BHBP",
          "2020/TELTONIKA/January/EMC/MCI1005HQ4N3BHBP",
          "2019/TELTONIKA/July/EMC/MCI1005HQ4N3BHBP",
          "2020/TELTONIKA/July/EMC/MCI1005HQ4N3BHBP",
          "2020/TELTONIKA/March/EMC/MCI1005HQ4N3BHBP",
          "2020/TELTONIKA/May/EMC/MCI1005HQ4N3BHBP",
          "2019/TELTONIKA/November/EMC/MCI1005HQ4N3BHBP",
          "2020/TELTONIKA/November/EMC/MCI1005HQ4N3BHBP",
          "2019/TELTONIKA/October/EMC/MCI1005HQ4N3BHBP",
          "2020/TELTONIKA/October/EMC/MCI1005HQ4N3BHBP",
          "2019/TELTONIKA/September/EMC/MCI1005HQ4N3BHBP",
          "2020/TELTONIKA/September/EMC/MCI1005HQ4N3BHBP",
          "2020/TELTONIKA/April/EMC/MCI1005HQ4N7BHBP",
          "2019/TELTONIKA/August/EMC/MCI1005HQ4N7BHBP",
          "2019/TELTONIKA/December/EMC/MCI1005HQ4N7BHBP",
          "2020/TELTONIKA/December/EMC/MCI1005HQ4N7BHBP",
          "2020/TELTONIKA/February/EMC/MCI1005HQ4N7BHBP",
          "2020/TELTONIKA/January/EMC/MCI1005HQ4N7BHBP",
          "2020/TELTONIKA/July/EMC/MCI1005HQ4N7BHBP",
          "2020/TELTONIKA/June/EMC/MCI1005HQ4N7BHBP",
          "2020/TELTONIKA/March/EMC/MCI1005HQ4N7BHBP",
          "2020/TELTONIKA/May/EMC/MCI1005HQ4N7BHBP",
          "2019/TELTONIKA/November/EMC/MCI1005HQ4N7BHBP",
          "2020/TELTONIKA/November/EMC/MCI1005HQ4N7BHBP",
          "2019/TELTONIKA/October/EMC/MCI1005HQ4N7BHBP",
          "2020/TELTONIKA/October/EMC/MCI1005HQ4N7BHBP",
          "2019/TELTONIKA/September/EMC/MCI1005HQ4N7BHBP",
          "2020/TELTONIKA/September/EMC/MCI1005HQ4N7BHBP",
          "2020/TELTONIKA/April/EMC/MCI1005HQ6N8GHBP",
          "2019/TELTONIKA/December/EMC/MCI1005HQ6N8GHBP",
          "2020/TELTONIKA/December/EMC/MCI1005HQ6N8GHBP",
          "2020/TELTONIKA/January/EMC/MCI1005HQ6N8GHBP",
          "2019/TELTONIKA/July/EMC/MCI1005HQ6N8GHBP",
          "2019/TELTONIKA/June/EMC/MCI1005HQ6N8GHBP",
          "2020/TELTONIKA/March/EMC/MCI1005HQ6N8GHBP",
          "2020/TELTONIKA/May/EMC/MCI1005HQ6N8GHBP",
          "2019/TELTONIKA/November/EMC/MCI1005HQ6N8GHBP",
          "2020/TELTONIKA/November/EMC/MCI1005HQ6N8GHBP",
          "2019/TELTONIKA/October/EMC/MCI1005HQ6N8GHBP",
          "2020/TELTONIKA/October/EMC/MCI1005HQ6N8GHBP",
          "2019/TELTONIKA/September/EMC/MCI1005HQ6N8GHBP",
          "2020/TELTONIKA/April/EMC/MCI1005HQ6N8HHBP",
          "2019/TELTONIKA/August/EMC/MCI1005HQ6N8HHBP",
          "2019/MT-SYSTEM/August/EMC/MCI1005HQ9N1JHBP",
          "2019/TELTONIKA/April/EMC/MCI1005HQR10JHBP",
          "2020/TELTONIKA/April/EMC/MCI1005HQR10JHBP",
          "2019/TELTONIKA/December/EMC/MCI1005HQR10JHBP",
          "2020/TELTONIKA/December/EMC/MCI1005HQR10JHBP",
          "2020/TELTONIKA/February/EMC/MCI1005HQR10JHBP",
          "2020/TELTONIKA/January/EMC/MCI1005HQR10JHBP",
          "2019/TELTONIKA/July/EMC/MCI1005HQR10JHBP",
          "2020/TELTONIKA/July/EMC/MCI1005HQR10JHBP",
          "2019/TELTONIKA/June/EMC/MCI1005HQR10JHBP",
          "2020/TELTONIKA/June/EMC/MCI1005HQR10JHBP",
          "2020/TELTONIKA/March/EMC/MCI1005HQR10JHBP",
          "2019/TELTONIKA/May/EMC/MCI1005HQR10JHBP",
          "2020/TELTONIKA/May/EMC/MCI1005HQR10JHBP",
          "2019/TELTONIKA/November/EMC/MCI1005HQR10JHBP",
          "2020/TELTONIKA/November/EMC/MCI1005HQR10JHBP",
          "2019/TELTONIKA/October/EMC/MCI1005HQR10JHBP",
          "2019/TELTONIKA/September/EMC/MCI1005HQR10JHBP",
          "2019/MT-SYSTEM/August/EMC/MCI1608HQ15NGHBP",
          "2019/MT-SYSTEM/January/EMC/MCI1608HQ15NGHBP",
          "2019/MT-SYSTEM/April/EMC/MCI1608HQ2N2SHBP",
          "2019/MT-SYSTEM/January/EMC/MCI1608HQ2N2SHBP",
          "2019/MT-SYSTEM/June/EMC/MCI1608HQ2N2SHBP",
          "2019/MT-SYSTEM/April/EMC/MCI1608HQ2N7SHBP",
          "2019/MT-SYSTEM/January/EMC/MCI1608HQ2N7SHBP",
          "2019/MT-SYSTEM/June/EMC/MCI1608HQ2N7SHBP",
          "2019/MT-SYSTEM/April/EMC/MCI1608HQ3N3SHBP",
          "2019/MT-SYSTEM/April/EMC/MCI1608HQ4N7SHBP",
          "2019/MT-SYSTEM/April/EMC/MCI1608HQ5N6SHBP",
          "2019/MT-SYSTEM/August/EMC/MCI1608HQ5N6SHBP",
          "2019/MT-SYSTEM/January/EMC/MCI1608HQ5N6SHBP",
          "2019/MT-SYSTEM/April/EMC/MCI1608HQ6N8JHBP",
          "2019/MT-SYSTEM/January/EMC/MCI1608HQR10JHBP",
          "2020/MT-SYSTEM/December/EMC/MFI201210RKBE",
          "2020/MT-SYSTEM/February/EMC/MFI201210RKBE",
          "2020/MT-SYSTEM/March/EMC/MFI201210RKBE",
          "2020/MT-SYSTEM/September/EMC/MFI201210RKBE",
          "2020/MT-SYSTEM/February/EMC/MHC1005S121MBP",
          "2020/MT-SYSTEM/July/EMC/MHC1005S121MBP",
          "2020/MT-SYSTEM/June/EMC/MHC1005S121MBP",
          "2020/MT-SYSTEM/November/EMC/MHC1005S121MBP",
          "2020/MT-SYSTEM/September/EMC/MHC1005S121MBP",
          "2019/TELTONIKA/April/EMC/MHC1608S221NBP",
          "2020/TELTONIKA/January/EMC/MHC1608S221NBP",
          "2019/TELTONIKA/March/EMC/MHC1608S221NBP",
          "2020/TELTONIKA/March/EMC/MHC1608S221NBP",
          "2019/TELTONIKA/April/EMC/MHC1608S600QBP",
          "2020/TELTONIKA/April/EMC/MHC1608S600QBP",
          "2019/TELTONIKA/August/EMC/MHC1608S600QBP",
          "2019/TELTONIKA/December/EMC/MHC1608S600QBP",
          "2020/TELTONIKA/December/EMC/MHC1608S600QBP",
          "2020/TELTONIKA/January/EMC/MHC1608S600QBP",
          "2019/TELTONIKA/July/EMC/MHC1608S600QBP",
          "2020/TELTONIKA/July/EMC/MHC1608S600QBP",
          "2019/TELTONIKA/June/EMC/MHC1608S600QBP",
          "2020/TELTONIKA/June/EMC/MHC1608S600QBP",
          "2019/TELTONIKA/March/EMC/MHC1608S600QBP",
          "2020/TELTONIKA/March/EMC/MHC1608S600QBP",
          "2019/TELTONIKA/May/EMC/MHC1608S600QBP",
          "2020/TELTONIKA/May/EMC/MHC1608S600QBP",
          "2019/TELTONIKA/November/EMC/MHC1608S600QBP",
          "2020/TELTONIKA/November/EMC/MHC1608S600QBP",
          "2020/TELTONIKA/October/EMC/MHC1608S600QBP",
          "2019/TELTONIKA/September/EMC/MHC1608S600QBP",
          "2020/TELTONIKA/September/EMC/MHC1608S600QBP",
          "2020/MT-SYSTEM/December/EMC/MHC2012S121UBP",
          "2020/MT-SYSTEM/February/EMC/MHC2012S121UBP",
          "2020/MT-SYSTEM/July/EMC/MHC2012S121UBP",
          "2020/MT-SYSTEM/June/EMC/MHC2012S121UBP",
          "2020/MT-SYSTEM/March/EMC/MHC2012S121UBP",
          "2020/MT-SYSTEM/October/EMC/MHC2012S121UBP",
          "2020/MT-SYSTEM/April/EMC/MHC2012S600QBP",
          "2020/MT-SYSTEM/February/EMC/MHC2012S600QBP",
          "2020/MT-SYSTEM/July/EMC/MHC2012S600QBP",
          "2020/MT-SYSTEM/June/EMC/MHC2012S600QBP",
          "2020/MT-SYSTEM/March/EMC/MHC2012S600QBP",
          "2020/MT-SYSTEM/November/EMC/MHC2012S600QBP",
          "2020/MT-SYSTEM/October/EMC/MHC2012S600QBP",
          "2020/MT-SYSTEM/September/EMC/MHC2012S600QBP",
          "2020/TELTONIKA/April/EMC/MHC3216S800RBE",
          "2019/TELTONIKA/December/EMC/MHC3216S800RBE",
          "2020/TELTONIKA/December/EMC/MHC3216S800RBE",
          "2020/TELTONIKA/February/EMC/MHC3216S800RBE",
          "2020/TELTONIKA/January/EMC/MHC3216S800RBE",
          "2019/TELTONIKA/July/EMC/MHC3216S800RBE",
          "2020/TELTONIKA/July/EMC/MHC3216S800RBE",
          "2019/TELTONIKA/June/EMC/MHC3216S800RBE",
          "2020/TELTONIKA/June/EMC/MHC3216S800RBE",
          "2020/TELTONIKA/March/EMC/MHC3216S800RBE",
          "2020/TELTONIKA/May/EMC/MHC3216S800RBE",
          "2019/TELTONIKA/November/EMC/MHC3216S800RBE",
          "2020/TELTONIKA/November/EMC/MHC3216S800RBE",
          "2020/TELTONIKA/October/EMC/MHC3216S800RBE",
          "2019/TELTONIKA/September/EMC/MHC3216S800RBE",
          "2020/TELTONIKA/September/EMC/MHC3216S800RBE",
          "2019/TELTONIKA/April/EMC/MIP20121R0MBE",
          "2020/TELTONIKA/April/EMC/MIP20121R0MBE",
          "2019/TELTONIKA/August/EMC/MIP20121R0MBE",
          "2019/TELTONIKA/December/EMC/MIP20121R0MBE",
          "2020/TELTONIKA/December/EMC/MIP20121R0MBE",
          "2020/TELTONIKA/February/EMC/MIP20121R0MBE",
          "2020/TELTONIKA/January/EMC/MIP20121R0MBE",
          "2019/TELTONIKA/July/EMC/MIP20121R0MBE",
          "2019/TELTONIKA/June/EMC/MIP20121R0MBE",
          "2020/TELTONIKA/June/EMC/MIP20121R0MBE",
          "2020/TELTONIKA/March/EMC/MIP20121R0MBE",
          "2019/TELTONIKA/May/EMC/MIP20121R0MBE",
          "2020/TELTONIKA/May/EMC/MIP20121R0MBE",
          "2019/TELTONIKA/November/EMC/MIP20121R0MBE",
          "2020/TELTONIKA/November/EMC/MIP20121R0MBE",
          "2019/TELTONIKA/October/EMC/MIP20121R0MBE",
          "2019/TELTONIKA/September/EMC/MIP20121R0MBE",
          "2020/TELTONIKA/September/EMC/MIP20121R0MBE",
          "2019/MT-SYSTEM/September/RF/NF-P-F0-R0-009",
          "2019/MT-SYSTEM/December/EMC/NIP3015GX-2R2M",
          "2019/MT-SYSTEM/December/EMC/NIP3015GX-4R7M",
          "2020/MT-SYSTEM/June/EMC/NIP3015GX-4R7M",
          "2020/TELTONIKA/April/EMC/NIP5020GX-150M",
          "2020/TELTONIKA/August/EMC/NIP5020GX-150M",
          "2019/TELTONIKA/December/EMC/NIP5020GX-150M",
          "2020/TELTONIKA/February/EMC/NIP5020GX-150M",
          "2020/TELTONIKA/January/EMC/NIP5020GX-150M",
          "2019/TELTONIKA/July/EMC/NIP5020GX-150M",
          "2019/TELTONIKA/November/EMC/NIP5020GX-150M",
          "2019/TELTONIKA/September/EMC/NIP5020GX-150M",
          "2020/TELTONIKA/September/EMC/NIP5020GX-150M",
          "2019/TELTONIKA/August/EMC/NIP5040GX-6R8M",
          "2020/TELTONIKA/August/EMC/NIP5040GX-6R8M",
          "2019/TELTONIKA/December/EMC/NIP5040GX-6R8M",
          "2020/TELTONIKA/February/EMC/NIP5040GX-6R8M",
          "2020/TELTONIKA/January/EMC/NIP5040GX-6R8M",
          "2019/TELTONIKA/July/EMC/NIP5040GX-6R8M",
          "2020/TELTONIKA/May/EMC/NIP5040GX-6R8M",
          "2019/TELTONIKA/November/EMC/NIP5040GX-6R8M",
          "2019/TELTONIKA/September/EMC/NIP5040GX-6R8M",
          "2020/TELTONIKA/September/EMC/NIP5040GX-6R8M",
          "2019/MT-SYSTEM/August/RF/PA1590MI2G-144-2ZM",
          "2019/MT-SYSTEM/March/RF/PA1590MI2G-144-2ZM",
          "2020/MT-SYSTEM/August/RF/PA1590MI4G-101-17",
          "2019/MT-SYSTEM/January/RF/PA1590MI4G-101-17",
          "2020/MT-SYSTEM/January/RF/PA1590MI4G-101-17",
          "2019/MT-SYSTEM/July/RF/PA1590MI4G-101-17",
          "2019/MT-SYSTEM/March/RF/PA1590MI4G-101-17",
          "2020/MT-SYSTEM/February/RF/PA1590MI4G-316-FZM",
          "2019/MT-SYSTEM/January/RF/PA1590MI4G-316-FZM",
          "2020/MT-SYSTEM/January/RF/PA1590MI4G-316-FZM",
          "2020/MT-SYSTEM/July/RF/PA1590MI4G-316-FZM",
          "2019/MT-SYSTEM/March/RF/PA1590MI4G-316-FZM",
          "2019/MT-SYSTEM/May/RF/PA1590MI4G-316-FZM",
          "2020/MT-SYSTEM/November/RF/PA1590MI4G-316-FZM",
          "2020/MT-SYSTEM/September/RF/PA1590MI4G-316-FZM",
          "2019/TELTONIKA/April/RF/PA1590MI4G-371-28M",
          "2020/TELTONIKA/April/RF/PA1590MI4G-371-28M",
          "2019/TELTONIKA/August/RF/PA1590MI4G-371-28M",
          "2020/TELTONIKA/August/RF/PA1590MI4G-371-28M",
          "2019/TELTONIKA/December/RF/PA1590MI4G-371-28M",
          "2020/TELTONIKA/December/RF/PA1590MI4G-371-28M",
          "2019/TELTONIKA/February/RF/PA1590MI4G-371-28M",
          "2020/TELTONIKA/February/RF/PA1590MI4G-371-28M",
          "2019/TELTONIKA/January/RF/PA1590MI4G-371-28M",
          "2020/TELTONIKA/January/RF/PA1590MI4G-371-28M",
          "2019/TELTONIKA/July/RF/PA1590MI4G-371-28M",
          "2020/TELTONIKA/July/RF/PA1590MI4G-371-28M",
          "2019/TELTONIKA/June/RF/PA1590MI4G-371-28M",
          "2019/TELTONIKA/March/RF/PA1590MI4G-371-28M",
          "2020/TELTONIKA/March/RF/PA1590MI4G-371-28M",
          "2019/TELTONIKA/May/RF/PA1590MI4G-371-28M",
          "2020/TELTONIKA/May/RF/PA1590MI4G-371-28M",
          "2019/TELTONIKA/November/RF/PA1590MI4G-371-28M",
          "2020/TELTONIKA/November/RF/PA1590MI4G-371-28M",
          "2019/TELTONIKA/October/RF/PA1590MI4G-371-28M",
          "2020/TELTONIKA/October/RF/PA1590MI4G-371-28M",
          "2019/TELTONIKA/September/RF/PA1590MI4G-371-28M",
          "2020/TELTONIKA/September/RF/PA1590MI4G-371-28M",
          "2019/TELTONIKA/April/RF/PA1590MI4G-375-28M",
          "2020/TELTONIKA/April/RF/PA1590MI4G-375-28M",
          "2019/TELTONIKA/August/RF/PA1590MI4G-375-28M",
          "2019/TELTONIKA/December/RF/PA1590MI4G-375-28M",
          "2020/TELTONIKA/December/RF/PA1590MI4G-375-28M",
          "2020/TELTONIKA/February/RF/PA1590MI4G-375-28M",
          "2019/TELTONIKA/January/RF/PA1590MI4G-375-28M",
          "2020/TELTONIKA/January/RF/PA1590MI4G-375-28M",
          "2019/TELTONIKA/July/RF/PA1590MI4G-375-28M",
          "2019/TELTONIKA/June/RF/PA1590MI4G-375-28M",
          "2019/TELTONIKA/March/RF/PA1590MI4G-375-28M",
          "2020/TELTONIKA/March/RF/PA1590MI4G-375-28M",
          "2019/TELTONIKA/May/RF/PA1590MI4G-375-28M",
          "2019/TELTONIKA/November/RF/PA1590MI4G-375-28M",
          "2020/TELTONIKA/November/RF/PA1590MI4G-375-28M",
          "2020/TELTONIKA/October/RF/PA1590MI4G-375-28M",
          "2019/TELTONIKA/September/RF/PA1590MI4G-375-28M",
          "2019/TELTONIKA/April/RF/PA1590MI4G-376-28M",
          "2020/TELTONIKA/April/RF/PA1590MI4G-376-28M",
          "2019/TELTONIKA/August/RF/PA1590MI4G-376-28M",
          "2020/TELTONIKA/August/RF/PA1590MI4G-376-28M",
          "2019/TELTONIKA/December/RF/PA1590MI4G-376-28M",
          "2020/TELTONIKA/December/RF/PA1590MI4G-376-28M",
          "2019/TELTONIKA/February/RF/PA1590MI4G-376-28M",
          "2020/TELTONIKA/February/RF/PA1590MI4G-376-28M",
          "2019/TELTONIKA/January/RF/PA1590MI4G-376-28M",
          "2020/TELTONIKA/January/RF/PA1590MI4G-376-28M",
          "2020/TELTONIKA/July/RF/PA1590MI4G-376-28M",
          "2019/TELTONIKA/June/RF/PA1590MI4G-376-28M",
          "2020/TELTONIKA/June/RF/PA1590MI4G-376-28M",
          "2019/TELTONIKA/March/RF/PA1590MI4G-376-28M",
          "2019/TELTONIKA/May/RF/PA1590MI4G-376-28M",
          "2020/TELTONIKA/May/RF/PA1590MI4G-376-28M",
          "2019/TELTONIKA/November/RF/PA1590MI4G-376-28M",
          "2020/TELTONIKA/November/RF/PA1590MI4G-376-28M",
          "2020/TELTONIKA/October/RF/PA1590MI4G-376-28M",
          "2019/TELTONIKA/September/RF/PA1590MI4G-376-28M",
          "2020/TELTONIKA/September/RF/PA1590MI4G-376-28M",
          "2019/TELTONIKA/April/RF/PA1590MI4G-377-28M",
          "2020/TELTONIKA/April/RF/PA1590MI4G-377-28M",
          "2019/TELTONIKA/August/RF/PA1590MI4G-377-28M",
          "2019/TELTONIKA/December/RF/PA1590MI4G-377-28M",
          "2019/TELTONIKA/January/RF/PA1590MI4G-377-28M",
          "2020/TELTONIKA/January/RF/PA1590MI4G-377-28M",
          "2019/TELTONIKA/July/RF/PA1590MI4G-377-28M",
          "2019/TELTONIKA/March/RF/PA1590MI4G-377-28M",
          "2019/TELTONIKA/May/RF/PA1590MI4G-377-28M",
          "2019/TELTONIKA/November/RF/PA1590MI4G-377-28M",
          "2019/TELTONIKA/September/RF/PA1590MI4G-377-28M",
          "2020/TELTONIKA/April/RF/PA1590MI4G-380-18M-A",
          "2019/TELTONIKA/June/RF/PA1590MI4G-380-18M-A",
          "2019/TELTONIKA/May/RF/PA1590MI4G-380-18M-A",
          "2020/TELTONIKA/September/RF/PA1590MI4G-380-18M-A",
          "2020/TELTONIKA/April/RF/PA1590MI4G-402-28M",
          "2019/TELTONIKA/August/RF/PA1590MI4G-402-28M",
          "2020/TELTONIKA/August/RF/PA1590MI4G-402-28M",
          "2020/TELTONIKA/December/RF/PA1590MI4G-402-28M",
          "2019/TELTONIKA/January/RF/PA1590MI4G-402-28M",
          "2020/TELTONIKA/January/RF/PA1590MI4G-402-28M",
          "2020/TELTONIKA/July/RF/PA1590MI4G-402-28M",
          "2019/TELTONIKA/June/RF/PA1590MI4G-402-28M",
          "2019/TELTONIKA/March/RF/PA1590MI4G-402-28M",
          "2020/TELTONIKA/March/RF/PA1590MI4G-402-28M",
          "2019/TELTONIKA/May/RF/PA1590MI4G-402-28M",
          "2020/TELTONIKA/November/RF/PA1590MI4G-402-28M",
          "2020/TELTONIKA/October/RF/PA1590MI4G-402-28M",
          "2019/TELTONIKA/September/RF/PA1590MI4G-402-28M",
          "2020/TELTONIKA/September/RF/PA1590MI4G-402-28M",
          "2020/MT-SYSTEM/April/RF/PA1590MI4G-413-18M-A",
          "2019/MT-SYSTEM/December/RF/PA1590MI4G-413-18M-A",
          "2019/MT-SYSTEM/May/RF/PA1590MI4G-413-18M-A",
          "2019/MT-SYSTEM/October/RF/PA1590MI4G-413-18M-A",
          "2019/MT-SYSTEM/September/RF/PA1590MI4G-413-18M-A",
          "2020/MT-SYSTEM/December/RF/PA1590MI4G-414-18M-A",
          "2019/MT-SYSTEM/May/RF/PA1590MI4G-414-18M-A",
          "2020/MT-SYSTEM/December/RF/PA1590MI4G-415-18M-A",
          "2019/MT-SYSTEM/May/RF/PA1590MI4G-415-18M-A",
          "2020/MT-SYSTEM/August/RF/PA1590MI4G-431-28M-A",
          "2019/MT-SYSTEM/December/RF/PA1590MI4G-431-28M-A",
          "2020/MT-SYSTEM/February/RF/PA1590MI4G-431-28M-A",
          "2020/MT-SYSTEM/November/RF/PA1590MI4G-431-28M-A",
          "2019/MT-SYSTEM/October/RF/PA1590MI4G-431-28M-A",
          "2020/MT-SYSTEM/September/RF/PA1590MI4G-431-28M-A",
          "2020/TELTONIKA/August/RF/PA1590MI4G-447-28M-A",
          "2020/TELTONIKA/December/RF/PA1590MI4G-447-28M-A",
          "2020/TELTONIKA/June/RF/PA1590MI4G-447-28M-A",
          "2020/TELTONIKA/September/RF/PA1590MI4G-447-28M-A",
          "2019/TELTONIKA/December/RF/PA1590MI4G-448-28M-A",
          "2020/TELTONIKA/January/RF/PA1590MI4G-448-28M-A",
          "2020/TELTONIKA/September/RF/PA1590MI4G-448-28M-A",
          "2019/MT-SYSTEM/May/RF/PA1590MJ4G-124-16",
          "2019/TELTONIKA/August/RF/PA1590MJ4G-221-26M",
          "2020/TELTONIKA/December/RF/PA1590MJ4G-221-26M",
          "2020/TELTONIKA/February/RF/PA1590MJ4G-221-26M",
          "2019/TELTONIKA/January/RF/PA1590MJ4G-221-26M",
          "2020/TELTONIKA/January/RF/PA1590MJ4G-221-26M",
          "2019/TELTONIKA/July/RF/PA1590MJ4G-221-26M",
          "2020/TELTONIKA/June/RF/PA1590MJ4G-221-26M",
          "2020/TELTONIKA/May/RF/PA1590MJ4G-221-26M",
          "2019/TELTONIKA/October/RF/PA1590MJ4G-221-26M",
          "2019/TELTONIKA/September/RF/PA1590MJ4G-221-26M",
          "2020/TELTONIKA/September/RF/PA1590MJ4G-221-26M",
          "2019/TELTONIKA/April/RF/PA1590MJ4G-224-2SP",
          "2020/TELTONIKA/April/RF/PA1590MJ4G-224-2SP",
          "2020/TELTONIKA/August/RF/PA1590MJ4G-224-2SP",
          "2019/TELTONIKA/December/RF/PA1590MJ4G-224-2SP",
          "2020/TELTONIKA/December/RF/PA1590MJ4G-224-2SP",
          "2020/TELTONIKA/February/RF/PA1590MJ4G-224-2SP",
          "2019/TELTONIKA/January/RF/PA1590MJ4G-224-2SP",
          "2020/TELTONIKA/January/RF/PA1590MJ4G-224-2SP",
          "2019/TELTONIKA/July/RF/PA1590MJ4G-224-2SP",
          "2020/TELTONIKA/July/RF/PA1590MJ4G-224-2SP",
          "2019/TELTONIKA/June/RF/PA1590MJ4G-224-2SP",
          "2019/TELTONIKA/March/RF/PA1590MJ4G-224-2SP",
          "2019/TELTONIKA/May/RF/PA1590MJ4G-224-2SP",
          "2019/TELTONIKA/November/RF/PA1590MJ4G-224-2SP",
          "2020/TELTONIKA/November/RF/PA1590MJ4G-224-2SP",
          "2020/TELTONIKA/October/RF/PA1590MJ4G-224-2SP",
          "2019/TELTONIKA/September/RF/PA1590MJ4G-224-2SP",
          "2020/TELTONIKA/September/RF/PA1590MJ4G-224-2SP",
          "2020/MT-SYSTEM/April/RF/PA1590MQ5G-101-1P",
          "2019/MT-SYSTEM/October/RF/PA1590MQ5G-101-1P",
          "2019/MT-SYSTEM/September/RF/PA1590MQ5G-101-1P",
          "2019/MT-SYSTEM/April/RF/PA1590MS4G-102-1S",
          "2019/MT-SYSTEM/August/RF/PA1590MS4G-102-1S",
          "2020/MT-SYSTEM/July/RF/PA1590MS4G-103-1SS",
          "2019/MT-SYSTEM/June/RF/PA1590MS4G-103-1SS",
          "2019/MT-SYSTEM/March/RF/PA1590MS4G-103-1SS",
          "2019/MT-SYSTEM/September/RF/PA1590MS4G-103-1SS",
          "2020/TELTONIKA/April/RF/PA1590MS4G-103-SMD-M-A",
          "2020/TELTONIKA/August/RF/PA1590MS4G-103-SMD-M-A",
          "2020/TELTONIKA/January/RF/PA1590MS4G-103-SMD-M-A",
          "2020/TELTONIKA/May/RF/PA1590MS4G-103-SMD-M-A",
          "2020/TELTONIKA/November/RF/PA1590MS4G-103-SMD-M-A",
          "2020/TELTONIKA/October/RF/PA1590MS4G-103-SMD-M-A",
          "2020/TELTONIKA/September/RF/PA1590MS4G-103-SMD-M-A",
          "2020/TELTONIKA/August/RF/PA1590MS4G-104-SMD-M-A",
          "2020/MT-SYSTEM/August/RF/PA1598MI4G-487-17M",
          "2020/TELTONIKA/December/RF/RFDPA141300SBLB803J4",
          "2020/TELTONIKA/July/RF/RFDPA141300SBLB803J4",
          "2020/TELTONIKA/November/RF/RFDPA141300SBLB803J4",
          "2020/TELTONIKA/September/RF/RFDPA141300SBLB803J4",
          "2020/TELTONIKA/August/RF/RFDPA171300SBAB823J4",
          "2020/TELTONIKA/December/RF/RFDPA171300SBAB823J4",
          "2020/TELTONIKA/July/RF/RFDPA171300SBAB823J4",
          "2020/TELTONIKA/November/RF/RFDPA171300SBAB823J4",
          "2020/TELTONIKA/October/RF/RFDPA171300SBAB823J4",
          "2020/TELTONIKA/September/RF/RFDPA171300SBAB823J4",
          "2020/TELTONIKA/August/RF/RFDPA191300SMTB806J4",
          "2020/TELTONIKA/December/RF/RFDPA191300SMTB806J4",
          "2020/TELTONIKA/July/RF/RFDPA191300SMTB806J4",
          "2020/TELTONIKA/November/RF/RFDPA191300SMTB806J4",
          "2020/TELTONIKA/October/RF/RFDPA191300SMTB806J4",
          "2020/TELTONIKA/September/RF/RFDPA191300SMTB806J4",
          "2020/TELTONIKA/December/RF/RFDPA30871ASBLBA01J4",
          "2020/TELTONIKA/July/RF/RFDPA30871ASBLBA01J4",
          "2020/MT-SYSTEM/February/PC/SMAJ12A-T",
          "2020/MT-SYSTEM/June/PC/SMAJ12A-T",
          "2020/MT-SYSTEM/March/PC/SMAJ12A-T",
          "2020/MT-SYSTEM/November/PC/SMAJ12A-T",
          "2020/MT-SYSTEM/October/PC/SMAJ12A-T",
          "2020/MT-SYSTEM/December/PC/SMAJ12CA-T",
          "2019/MT-SYSTEM/June/PC/SMAJ12CA-T",
          "2019/MT-SYSTEM/March/PC/SMAJ15CA-T",
          "2019/MT-SYSTEM/May/PC/SMAJ15CA-T",
          "2019/MT-SYSTEM/May/PC/SMAJ28CA-T",
          "2020/MT-SYSTEM/December/PC/SMAJ36A-T",
          "2020/MT-SYSTEM/February/PC/SMAJ36A-T",
          "2020/MT-SYSTEM/June/PC/SMAJ36A-T",
          "2020/MT-SYSTEM/March/PC/SMAJ36A-T",
          "2020/MT-SYSTEM/November/PC/SMAJ36A-T",
          "2020/MT-SYSTEM/December/PC/SMAJ5.0A-T",
          "2019/MT-SYSTEM/March/PC/SMAJ5.0A-T",
          "2019/MT-SYSTEM/May/PC/SMAJ5.0A-T",
          "2020/MT-SYSTEM/December/PC/SMAJ6.0CA-T",
          "2019/MT-SYSTEM/December/PC/SMAJ70CA-T",
          "2019/MT-SYSTEM/July/PC/SMAJ70CA-T",
          "2019/MT-SYSTEM/May/PC/SMAJ70CA-T",
          "2019/MT-SYSTEM/March/PC/SMAJ85CA-T",
          "2019/MT-SYSTEM/October/PC/SMAJ85CA-T",
          "2019/MT-SYSTEM/May/PC/SMBJ26A-T",
          "2020/MT-SYSTEM/December/PC/SMBJ30A-T",
          "2019/MT-SYSTEM/June/PC/SMBJ33CA-T",
          "2019/MT-SYSTEM/April/PC/SMBJ36A-T",
          "2020/MT-SYSTEM/April/PC/SMBJ36A-T",
          "2020/MT-SYSTEM/December/PC/SMBJ36A-T",
          "2020/MT-SYSTEM/March/PC/SMBJ36A-T",
          "2019/MT-SYSTEM/August/PC/SMBJ5.0CA-T",
          "2020/MT-SYSTEM/February/PC/SMBJ5.0CA-T",
          "2019/MT-SYSTEM/October/PC/SMBJ5.0CA-T",
          "2020/MT-SYSTEM/June/PC/SMCJ220CA-M",
          "2019/MT-SYSTEM/June/PC/SMCJ36A-T",
          "2019/MT-SYSTEM/June/PC/SMCJ48A-T",
          "2020/MT-SYSTEM/April/RF/WA-F-P5-03-005",
          "2020/MT-SYSTEM/August/RF/WA-F-P5-03-005",
          "2019/MT-SYSTEM/December/RF/WA-F-P5-03-005",
          "2019/MT-SYSTEM/July/RF/WA-F-P5-03-005",
          "2019/MT-SYSTEM/May/RF/WA-F-P5-03-005",
          "2019/MT-SYSTEM/September/RF/WA-F-P5-03-005",
          "2020/MT-SYSTEM/September/RF/WA-F-P5-03-005",
          "2019/MT-SYSTEM/December/RF/WAG-P-LTE10-00-001",
          "2019/MT-SYSTEM/January/RF/WAG-P-LTE10-00-001",
          "2020/MT-SYSTEM/July/RF/WAG-P-LTE10-00-001",
          "2019/MT-SYSTEM/May/RF/WAG-P-LTE10-00-001",
          "2019/MT-SYSTEM/September/RF/WAG-P-LTE10-00-001",
          "2020/TELTONIKA/February/EMC/WCI1608CP33NJRBE",
          "2020/TELTONIKA/January/EMC/WCI1608CP33NJRBE",
          "2019/TELTONIKA/July/EMC/WCI1608CP33NJRBE",
          "2020/TELTONIKA/May/EMC/WCI1608CP33NJRBE",
          "2019/TELTONIKA/November/EMC/WCI1608CP33NJRBE",
          "2020/TELTONIKA/November/EMC/WCI1608CP33NJRBE",
          "2020/TELTONIKA/October/EMC/WCI1608CP33NJRBE",
          "2019/TELTONIKA/September/EMC/WCI1608CP33NJRBE",
          "2020/MT-SYSTEM/April/WIP/WIP201610P-2R2ML",
          "2020/MT-SYSTEM/August/WIP/WIP201610P-2R2ML",
          "2019/MT-SYSTEM/December/WIP/WIP201610P-2R2ML",
          "2020/MT-SYSTEM/February/WIP/WIP201610P-2R2ML",
          "2019/MT-SYSTEM/January/WIP/WIP201610P-2R2ML",
          "2019/MT-SYSTEM/June/WIP/WIP201610P-2R2ML",
          "2020/MT-SYSTEM/March/WIP/WIP201610P-2R2ML",
          "2019/MT-SYSTEM/October/WIP/WIP201610P-R47ML",
          "2019/TELTONIKA/December/WIP/WIP252010S-1R0ML",
          "2020/TELTONIKA/December/WIP/WIP252010S-1R0ML",
          "2020/TELTONIKA/January/WIP/WIP252010S-1R0ML",
          "2020/TELTONIKA/November/WIP/WIP252010S-1R0ML",
          "2019/TELTONIKA/October/WIP/WIP252010S-1R0ML",
          "2020/TELTONIKA/October/WIP/WIP252010S-1R0ML",
          "2019/TELTONIKA/September/WIP/WIP252010S-1R0ML",
          "2019/MT-SYSTEM/April/WIP/WIP252012P-1R0ML",
          "2019/MT-SYSTEM/August/WIP/WIP252012P-1R0ML",
          "2019/MT-SYSTEM/December/WIP/WIP252012P-1R0ML",
          "2019/MT-SYSTEM/January/WIP/WIP252012P-1R0ML",
          "2019/MT-SYSTEM/July/WIP/WIP252012P-1R0ML",
          "2020/MT-SYSTEM/March/WIP/WIP252012P-1R0ML",
          "2019/MT-SYSTEM/May/WIP/WIP252012P-1R0ML",
          "2019/MT-SYSTEM/October/WIP/WIP252012P-1R0ML",
          "2020/MT-SYSTEM/February/WIP/WIP252012P-1R5ML",
          "2020/MT-SYSTEM/April/WIP/WIP252012P-2R2ML",
          "2019/MT-SYSTEM/August/WIP/WIP252012P-2R2ML",
          "2019/MT-SYSTEM/December/WIP/WIP252012P-2R2ML",
          "2020/MT-SYSTEM/February/WIP/WIP252012P-2R2ML",
          "2019/MT-SYSTEM/January/WIP/WIP252012P-2R2ML",
          "2019/MT-SYSTEM/July/WIP/WIP252012P-2R2ML",
          "2020/MT-SYSTEM/June/WIP/WIP252012P-2R2ML",
          "2019/MT-SYSTEM/March/WIP/WIP252012P-2R2ML",
          "2020/MT-SYSTEM/March/WIP/WIP252012P-2R2ML",
          "2019/MT-SYSTEM/May/WIP/WIP252012P-2R2ML",
          "2019/MT-SYSTEM/October/WIP/WIP252012P-2R2ML",
          "2019/MT-SYSTEM/January/WIP/WIP252012P-3R3ML",
          "2020/MT-SYSTEM/December/WIP/WIP252012P-4R7ML",
          "2020/MT-SYSTEM/February/WIP/WIP252012P-4R7ML",
          "2019/MT-SYSTEM/March/WIP/WIP252012P-4R7ML",
          "2019/MT-SYSTEM/October/WIP/WIP252012P-4R7ML",
          "2019/MT-SYSTEM/August/EMC/WMM0420PX-1R0M",
          "2020/MT-SYSTEM/April/EMC/WMM0420PX-3R3M",
          "2020/MT-SYSTEM/August/EMC/WMM0420PX-3R3M",
          "2019/MT-SYSTEM/December/EMC/WMM0420PX-3R3M",
          "2019/MT-SYSTEM/July/EMC/WMM0420PX-3R3M",
          "2020/MT-SYSTEM/November/EMC/WMM0420PX-3R3M",
          "2019/MT-SYSTEM/October/EMC/WMM0420PX-3R3M",
          "2020/MT-SYSTEM/September/PC/pin to pin antenna tooling",
          "2019/MT-SYSTEM/April/EMC",
          "2020/MT-SYSTEM/April/EMC",
          "2019/TELTONIKA/April/EMC",
          "2020/TELTONIKA/April/EMC",
          "2019/MT-SYSTEM/August/EMC",
          "2020/MT-SYSTEM/August/EMC",
          "2019/TELTONIKA/August/EMC",
          "2020/TELTONIKA/August/EMC",
          "2019/MT-SYSTEM/December/EMC",
          "2020/MT-SYSTEM/December/EMC",
          "2019/TELTONIKA/December/EMC",
          "2020/TELTONIKA/December/EMC",
          "2020/MT-SYSTEM/February/EMC",
          "2020/TELTONIKA/February/EMC",
          "2019/MT-SYSTEM/January/EMC",
          "2020/TELTONIKA/January/EMC",
          "2019/MT-SYSTEM/July/EMC",
          "2020/MT-SYSTEM/July/EMC",
          "2019/TELTONIKA/July/EMC",
          "2020/TELTONIKA/July/EMC",
          "2019/MT-SYSTEM/June/EMC",
          "2020/MT-SYSTEM/June/EMC",
          "2019/TELTONIKA/June/EMC",
          "2020/TELTONIKA/June/EMC",
          "2020/MT-SYSTEM/March/EMC",
          "2019/TELTONIKA/March/EMC",
          "2020/TELTONIKA/March/EMC",
          "2019/TELTONIKA/May/EMC",
          "2020/TELTONIKA/May/EMC",
          "2020/MT-SYSTEM/November/EMC",
          "2019/TELTONIKA/November/EMC",
          "2020/TELTONIKA/November/EMC",
          "2019/MT-SYSTEM/October/EMC",
          "2020/MT-SYSTEM/October/EMC",
          "2019/TELTONIKA/October/EMC",
          "2020/TELTONIKA/October/EMC",
          "2020/MT-SYSTEM/September/EMC",
          "2019/TELTONIKA/September/EMC",
          "2020/TELTONIKA/September/EMC",
          "2019/MT-SYSTEM/April/PC",
          "2020/MT-SYSTEM/April/PC",
          "2019/MT-SYSTEM/August/PC",
          "2019/MT-SYSTEM/December/PC",
          "2020/MT-SYSTEM/December/PC",
          "2020/MT-SYSTEM/February/PC",
          "2019/MT-SYSTEM/July/PC",
          "2019/MT-SYSTEM/June/PC",
          "2020/MT-SYSTEM/June/PC",
          "2019/MT-SYSTEM/March/PC",
          "2020/MT-SYSTEM/March/PC",
          "2019/MT-SYSTEM/May/PC",
          "2020/MT-SYSTEM/November/PC",
          "2019/MT-SYSTEM/October/PC",
          "2020/MT-SYSTEM/October/PC",
          "2020/MT-SYSTEM/September/PC",
          "2019/MT-SYSTEM/April/RF",
          "2020/MT-SYSTEM/April/RF",
          "2019/TELTONIKA/April/RF",
          "2020/TELTONIKA/April/RF",
          "2019/MT-SYSTEM/August/RF",
          "2020/MT-SYSTEM/August/RF",
          "2019/TELTONIKA/August/RF",
          "2020/TELTONIKA/August/RF",
          "2019/MT-SYSTEM/December/RF",
          "2020/MT-SYSTEM/December/RF",
          "2019/TELTONIKA/December/RF",
          "2020/TELTONIKA/December/RF",
          "2020/MT-SYSTEM/February/RF",
          "2019/TELTONIKA/February/RF",
          "2020/TELTONIKA/February/RF",
          "2019/MT-SYSTEM/January/RF",
          "2020/MT-SYSTEM/January/RF",
          "2019/TELTONIKA/January/RF",
          "2020/TELTONIKA/January/RF",
          "2019/MT-SYSTEM/July/RF",
          "2020/MT-SYSTEM/July/RF",
          "2019/TELTONIKA/July/RF",
          "2020/TELTONIKA/July/RF",
          "2019/MT-SYSTEM/June/RF",
          "2020/MT-SYSTEM/June/RF",
          "2019/TELTONIKA/June/RF",
          "2020/TELTONIKA/June/RF",
          "2019/MT-SYSTEM/March/RF",
          "2019/TELTONIKA/March/RF",
          "2020/TELTONIKA/March/RF",
          "2019/MT-SYSTEM/May/RF",
          "2019/TELTONIKA/May/RF",
          "2020/TELTONIKA/May/RF",
          "2019/MT-SYSTEM/November/RF",
          "2020/MT-SYSTEM/November/RF",
          "2019/TELTONIKA/November/RF",
          "2020/TELTONIKA/November/RF",
          "2019/MT-SYSTEM/October/RF",
          "2020/MT-SYSTEM/October/RF",
          "2019/TELTONIKA/October/RF",
          "2020/TELTONIKA/October/RF",
          "2019/MT-SYSTEM/September/RF",
          "2020/MT-SYSTEM/September/RF",
          "2019/TELTONIKA/September/RF",
          "2020/TELTONIKA/September/RF",
          "2019/MT-SYSTEM/April/WIP",
          "2020/MT-SYSTEM/April/WIP",
          "2019/MT-SYSTEM/August/WIP",
          "2020/MT-SYSTEM/August/WIP",
          "2019/MT-SYSTEM/December/WIP",
          "2020/MT-SYSTEM/December/WIP",
          "2019/TELTONIKA/December/WIP",
          "2020/TELTONIKA/December/WIP",
          "2020/MT-SYSTEM/February/WIP",
          "2019/MT-SYSTEM/January/WIP",
          "2020/TELTONIKA/January/WIP",
          "2019/MT-SYSTEM/July/WIP",
          "2019/MT-SYSTEM/June/WIP",
          "2020/MT-SYSTEM/June/WIP",
          "2019/MT-SYSTEM/March/WIP",
          "2020/MT-SYSTEM/March/WIP",
          "2019/MT-SYSTEM/May/WIP",
          "2020/TELTONIKA/November/WIP",
          "2019/MT-SYSTEM/October/WIP",
          "2019/TELTONIKA/October/WIP",
          "2020/TELTONIKA/October/WIP",
          "2019/TELTONIKA/September/WIP",
          "2019/MT-SYSTEM/April",
          "2020/MT-SYSTEM/April",
          "2019/TELTONIKA/April",
          "2020/TELTONIKA/April",
          "2019/MT-SYSTEM/August",
          "2020/MT-SYSTEM/August",
          "2019/TELTONIKA/August",
          "2020/TELTONIKA/August",
          "2019/MT-SYSTEM/December",
          "2020/MT-SYSTEM/December",
          "2019/TELTONIKA/December",
          "2020/TELTONIKA/December",
          "2020/MT-SYSTEM/February",
          "2019/TELTONIKA/February",
          "2020/TELTONIKA/February",
          "2019/MT-SYSTEM/January",
          "2020/MT-SYSTEM/January",
          "2019/TELTONIKA/January",
          "2020/TELTONIKA/January",
          "2019/MT-SYSTEM/July",
          "2020/MT-SYSTEM/July",
          "2019/TELTONIKA/July",
          "2020/TELTONIKA/July",
          "2019/MT-SYSTEM/June",
          "2020/MT-SYSTEM/June",
          "2019/TELTONIKA/June",
          "2020/TELTONIKA/June",
          "2019/MT-SYSTEM/March",
          "2020/MT-SYSTEM/March",
          "2019/TELTONIKA/March",
          "2020/TELTONIKA/March",
          "2019/MT-SYSTEM/May",
          "2019/TELTONIKA/May",
          "2020/TELTONIKA/May",
          "2019/MT-SYSTEM/November",
          "2020/MT-SYSTEM/November",
          "2019/TELTONIKA/November",
          "2020/TELTONIKA/November",
          "2019/MT-SYSTEM/October",
          "2020/MT-SYSTEM/October",
          "2019/TELTONIKA/October",
          "2020/TELTONIKA/October",
          "2019/MT-SYSTEM/September",
          "2020/MT-SYSTEM/September",
          "2019/TELTONIKA/September",
          "2020/TELTONIKA/September",
          "2019/MT-SYSTEM",
          "2020/MT-SYSTEM",
          "2019/TELTONIKA",
          "2020/TELTONIKA",
          "2019",
          "2020"
         ],
         "labels": [
          "ACM4-5036-A1-CC-S Taping",
          "ACM4-5036-A1-CC-S Taping",
          "ACM4-5036-A1-CC-S Taping",
          "B3G02G-S3-01-A",
          "DAM-P1-D-N0-000-08-02",
          "DAM-P1-D-N0-000-08-02",
          "DAM-P1-D-N0-000-08-02",
          "DAM-P1-D-N0-000-08-02",
          "DAM-P11-B-R2-015-10-49",
          "DAM-P11-B-R2-015-10-49",
          "DAM-P11-B-R2-015-10-49",
          "DAM-P11-B-R2-015-10-49",
          "DAM-P11-B-R2-015-10-49",
          "DAM-P11-B-R2-015-10-50",
          "DAM-P11-B-R2-015-10-50",
          "DAM-P11-B-R2-015-10-50",
          "DAM-P11-B-R2-015-10-50",
          "DAM-P11-B-R2-015-10-50",
          "DAM-P11-E1-R2-003-22-03",
          "DAM-P11-E1-R2-003-22-03",
          "DAM-P11-E1-R2-003-22-03",
          "DAM-P11-E1-R2-003-22-03",
          "DAM-P11-E1-R2-003-22-03",
          "DAM-P11-E1-R2-003-22-03",
          "DAM-P11-E1-R2-003-22-03",
          "DAM-P11-E1-R2-003-22-03",
          "DAM-P11-E1-R2-003-22-03",
          "DAM-P2-D-N0-000-08-02",
          "DAM-P2-D-N0-000-08-02",
          "DAM-P2-D-N0-000-08-02",
          "DAM-P2-D-N0-000-08-02",
          "DAM-P2-D-N0-000-08-02",
          "GNS01U7W-S6-00-A",
          "GNS01U7W-S6-00-A",
          "GNS01U7W-S6-00-A",
          "GNS01U7W-S6-00-A",
          "GNS01U7W-S6-00-A",
          "GNS01U7W-S6-03-A",
          "GNS01U7W-S6-03-A",
          "GNS01U7W-S6-03-A",
          "GNS01U7W-S6-05-A",
          "GNS01U7W-S6-06-A",
          "GNS01U7W-S6-06-A",
          "GPSGLONASS03D-S6-01-A",
          "GPSGLONASS45D-S6-00-A",
          "GPSGLONASS45D-S6-00-A",
          "GPSGLONASS45D-S6-00-A",
          "GPSGLONASS45D-S6-00-A",
          "GPSGLONASS45D-S6-00-A",
          "GPSGLONASS45D-S6-00-A",
          "GPSGLONASS45D-S6-00-A",
          "GPSGLONASSU10N-N6-0022-A",
          "GPSGLONASSU10N-N6-0022-A",
          "GPSGLONASSU10N-N6-0022-A",
          "GPSGLONASSU10N-N6-0420-A",
          "MCB1005B102GBP",
          "MCB1005B102GBP",
          "MCB1005B102GBP",
          "MCB1005B102GBP",
          "MCB1005B102GBP",
          "MCB1005B102GBP",
          "MCB1005B102GBP",
          "MCB1005B102GBP",
          "MCB1005B102GBP",
          "MCB1005B102GBP",
          "MCB1005B102GBP",
          "MCB1005B102GBP",
          "MCB1005S102FBP",
          "MCB1005S102FBP",
          "MCB1005S102FBP",
          "MCB1005S102FBP",
          "MCB1005S102FBP",
          "MCB1005S102FBP",
          "MCB1005S102FBP",
          "MCB1005S102FBP",
          "MCB1005S102FBP",
          "MCB1005S102FBP",
          "MCB1005S102FBP",
          "MCB1005S102FBP",
          "MCB1005S102FBP",
          "MCB1005S102FBP",
          "MCB1005S102FBP",
          "MCB1005S102FBP",
          "MCB1005S102FBP",
          "MCB1005S102FBP",
          "MCB1005S300FBP",
          "MCB1005S300FBP",
          "MCB1005S300FBP",
          "MCB1005S300FBP",
          "MCB1005S300FBP",
          "MCB1005S300FBP",
          "MCB1005S300FBP",
          "MCB1005S300FBP",
          "MCB1005S300FBP",
          "MCB1005S300FBP",
          "MCB1005S300FBP",
          "MCB1005S300FBP",
          "MCB1005S300FBP",
          "MCB1005S300FBP",
          "MCB1005S300FBP",
          "MCB1005S300FBP",
          "MCB1608S152HBP",
          "MCB1608S152HBP",
          "MCB1608S152HBP",
          "MCB1608S152HBP",
          "MCB1608S152HBP",
          "MCB1608S152HBP",
          "MCB1608S152HBP",
          "MCB1608S152HBP",
          "MCB1608S152HBP",
          "MCB1608S152HBP",
          "MCB1608S152HBP",
          "MCB1608S152HBP",
          "MCB1608S152HBP",
          "MCB1608S152HBP",
          "MCI0603TG3N0CHBP",
          "MCI0603TG3N0CHBP",
          "MCI0603TG3N0CHBP",
          "MCI0603TG3N0CHBP",
          "MCI0603TG3N0CHBP",
          "MCI0603TG3N0CHBP",
          "MCI0603TG3N0CHBP",
          "MCI0603TG3N0CHBP",
          "MCI0603TG3N0CHBP",
          "MCI0603TG3N0CHBP",
          "MCI0603TG3N0CHBP",
          "MCI0603TG3N0CHBP",
          "MCI0603TG3N0CHBP",
          "MCI0603TG3N0CHBP",
          "MCI0603TG3N0CHBP",
          "MCI0603TG3N0CHBP",
          "MCI1005HQ10NGHBP",
          "MCI1005HQ10NGHBP",
          "MCI1005HQ10NGHBP",
          "MCI1005HQ10NGHBP",
          "MCI1005HQ10NGHBP",
          "MCI1005HQ10NGHBP",
          "MCI1005HQ10NGHBP",
          "MCI1005HQ10NGHBP",
          "MCI1005HQ10NGHBP",
          "MCI1005HQ10NGHBP",
          "MCI1005HQ10NGHBP",
          "MCI1005HQ10NGHBP",
          "MCI1005HQ10NGHBP",
          "MCI1005HQ10NGHBP",
          "MCI1005HQ10NGHBP",
          "MCI1005HQ10NJHBP",
          "MCI1005HQ10NJHBP",
          "MCI1005HQ10NJHBP",
          "MCI1005HQ10NJHBP",
          "MCI1005HQ10NJHBP",
          "MCI1005HQ10NJHBP",
          "MCI1005HQ10NJHBP",
          "MCI1005HQ10NJHBP",
          "MCI1005HQ10NJHBP",
          "MCI1005HQ10NJHBP",
          "MCI1005HQ10NJHBP",
          "MCI1005HQ10NJHBP",
          "MCI1005HQ10NJHBP",
          "MCI1005HQ10NJHBP",
          "MCI1005HQ10NJHBP",
          "MCI1005HQ1N0SHBP",
          "MCI1005HQ1N0SHBP",
          "MCI1005HQ1N2BHBP",
          "MCI1005HQ1N2BHBP",
          "MCI1005HQ1N2BHBP",
          "MCI1005HQ1N2BHBP",
          "MCI1005HQ1N2SHBP",
          "MCI1005HQ1N2SHBP",
          "MCI1005HQ1N2SHBP",
          "MCI1005HQ1N2SHBP",
          "MCI1005HQ1N2SHBP",
          "MCI1005HQ1N2SHBP",
          "MCI1005HQ1N2SHBP",
          "MCI1005HQ1N2SHBP",
          "MCI1005HQ1N2SHBP",
          "MCI1005HQ1N2SHBP",
          "MCI1005HQ1N2SHBP",
          "MCI1005HQ1N2SHBP",
          "MCI1005HQ1N2SHBP",
          "MCI1005HQ1N2SHBP",
          "MCI1005HQ1N2SHBP",
          "MCI1005HQ1N5SHBP",
          "MCI1005HQ1N5SHBP",
          "MCI1005HQ1N5SHBP",
          "MCI1005HQ1N5SHBP",
          "MCI1005HQ1N5SHBP",
          "MCI1005HQ1N5SHBP",
          "MCI1005HQ1N5SHBP",
          "MCI1005HQ1N5SHBP",
          "MCI1005HQ1N5SHBP",
          "MCI1005HQ1N5SHBP",
          "MCI1005HQ1N5SHBP",
          "MCI1005HQ1N5SHBP",
          "MCI1005HQ1N5SHBP",
          "MCI1005HQ1N5SHBP",
          "MCI1005HQ1N5SHBP",
          "MCI1005HQ1N5SHBP",
          "MCI1005HQ1N5SHBP",
          "MCI1005HQ1N5SHBP",
          "MCI1005HQ1N5SHBP",
          "MCI1005HQ1N8BHBP",
          "MCI1005HQ1N8BHBP",
          "MCI1005HQ1N8BHBP",
          "MCI1005HQ1N8BHBP",
          "MCI1005HQ1N8BHBP",
          "MCI1005HQ1N8BHBP",
          "MCI1005HQ1N8BHBP",
          "MCI1005HQ1N8BHBP",
          "MCI1005HQ1N8BHBP",
          "MCI1005HQ1N8BHBP",
          "MCI1005HQ1N8BHBP",
          "MCI1005HQ1N8BHBP",
          "MCI1005HQ1N8BHBP",
          "MCI1005HQ1N8BHBP",
          "MCI1005HQ1N8BHBP",
          "MCI1005HQ1N8BHBP",
          "MCI1005HQ2N2BHBP",
          "MCI1005HQ2N2BHBP",
          "MCI1005HQ2N2BHBP",
          "MCI1005HQ2N2BHBP",
          "MCI1005HQ2N2BHBP",
          "MCI1005HQ2N2BHBP",
          "MCI1005HQ2N2BHBP",
          "MCI1005HQ2N7BHBP",
          "MCI1005HQ2N7BHBP",
          "MCI1005HQ3N3BHBP",
          "MCI1005HQ3N3BHBP",
          "MCI1005HQ3N3BHBP",
          "MCI1005HQ3N3BHBP",
          "MCI1005HQ3N3BHBP",
          "MCI1005HQ3N3BHBP",
          "MCI1005HQ3N3BHBP",
          "MCI1005HQ3N3BHBP",
          "MCI1005HQ3N3BHBP",
          "MCI1005HQ3N3BHBP",
          "MCI1005HQ3N3BHBP",
          "MCI1005HQ3N3BHBP",
          "MCI1005HQ3N3BHBP",
          "MCI1005HQ3N3BHBP",
          "MCI1005HQ3N3BHBP",
          "MCI1005HQ3N3BHBP",
          "MCI1005HQ3N9BHBP",
          "MCI1005HQ3N9BHBP",
          "MCI1005HQ3N9BHBP",
          "MCI1005HQ3N9BHBP",
          "MCI1005HQ3N9BHBP",
          "MCI1005HQ3N9BHBP",
          "MCI1005HQ3N9BHBP",
          "MCI1005HQ3N9BHBP",
          "MCI1005HQ3N9BHBP",
          "MCI1005HQ3N9BHBP",
          "MCI1005HQ3N9BHBP",
          "MCI1005HQ3N9BHBP",
          "MCI1005HQ3N9BHBP",
          "MCI1005HQ3N9BHBP",
          "MCI1005HQ3N9BHBP",
          "MCI1005HQ4N3BHBP",
          "MCI1005HQ4N3BHBP",
          "MCI1005HQ4N3BHBP",
          "MCI1005HQ4N3BHBP",
          "MCI1005HQ4N3BHBP",
          "MCI1005HQ4N3BHBP",
          "MCI1005HQ4N3BHBP",
          "MCI1005HQ4N3BHBP",
          "MCI1005HQ4N3BHBP",
          "MCI1005HQ4N3BHBP",
          "MCI1005HQ4N3BHBP",
          "MCI1005HQ4N3BHBP",
          "MCI1005HQ4N3BHBP",
          "MCI1005HQ4N3BHBP",
          "MCI1005HQ4N3BHBP",
          "MCI1005HQ4N3BHBP",
          "MCI1005HQ4N7BHBP",
          "MCI1005HQ4N7BHBP",
          "MCI1005HQ4N7BHBP",
          "MCI1005HQ4N7BHBP",
          "MCI1005HQ4N7BHBP",
          "MCI1005HQ4N7BHBP",
          "MCI1005HQ4N7BHBP",
          "MCI1005HQ4N7BHBP",
          "MCI1005HQ4N7BHBP",
          "MCI1005HQ4N7BHBP",
          "MCI1005HQ4N7BHBP",
          "MCI1005HQ4N7BHBP",
          "MCI1005HQ4N7BHBP",
          "MCI1005HQ4N7BHBP",
          "MCI1005HQ4N7BHBP",
          "MCI1005HQ4N7BHBP",
          "MCI1005HQ6N8GHBP",
          "MCI1005HQ6N8GHBP",
          "MCI1005HQ6N8GHBP",
          "MCI1005HQ6N8GHBP",
          "MCI1005HQ6N8GHBP",
          "MCI1005HQ6N8GHBP",
          "MCI1005HQ6N8GHBP",
          "MCI1005HQ6N8GHBP",
          "MCI1005HQ6N8GHBP",
          "MCI1005HQ6N8GHBP",
          "MCI1005HQ6N8GHBP",
          "MCI1005HQ6N8GHBP",
          "MCI1005HQ6N8GHBP",
          "MCI1005HQ6N8HHBP",
          "MCI1005HQ6N8HHBP",
          "MCI1005HQ9N1JHBP",
          "MCI1005HQR10JHBP",
          "MCI1005HQR10JHBP",
          "MCI1005HQR10JHBP",
          "MCI1005HQR10JHBP",
          "MCI1005HQR10JHBP",
          "MCI1005HQR10JHBP",
          "MCI1005HQR10JHBP",
          "MCI1005HQR10JHBP",
          "MCI1005HQR10JHBP",
          "MCI1005HQR10JHBP",
          "MCI1005HQR10JHBP",
          "MCI1005HQR10JHBP",
          "MCI1005HQR10JHBP",
          "MCI1005HQR10JHBP",
          "MCI1005HQR10JHBP",
          "MCI1005HQR10JHBP",
          "MCI1005HQR10JHBP",
          "MCI1608HQ15NGHBP",
          "MCI1608HQ15NGHBP",
          "MCI1608HQ2N2SHBP",
          "MCI1608HQ2N2SHBP",
          "MCI1608HQ2N2SHBP",
          "MCI1608HQ2N7SHBP",
          "MCI1608HQ2N7SHBP",
          "MCI1608HQ2N7SHBP",
          "MCI1608HQ3N3SHBP",
          "MCI1608HQ4N7SHBP",
          "MCI1608HQ5N6SHBP",
          "MCI1608HQ5N6SHBP",
          "MCI1608HQ5N6SHBP",
          "MCI1608HQ6N8JHBP",
          "MCI1608HQR10JHBP",
          "MFI201210RKBE",
          "MFI201210RKBE",
          "MFI201210RKBE",
          "MFI201210RKBE",
          "MHC1005S121MBP",
          "MHC1005S121MBP",
          "MHC1005S121MBP",
          "MHC1005S121MBP",
          "MHC1005S121MBP",
          "MHC1608S221NBP",
          "MHC1608S221NBP",
          "MHC1608S221NBP",
          "MHC1608S221NBP",
          "MHC1608S600QBP",
          "MHC1608S600QBP",
          "MHC1608S600QBP",
          "MHC1608S600QBP",
          "MHC1608S600QBP",
          "MHC1608S600QBP",
          "MHC1608S600QBP",
          "MHC1608S600QBP",
          "MHC1608S600QBP",
          "MHC1608S600QBP",
          "MHC1608S600QBP",
          "MHC1608S600QBP",
          "MHC1608S600QBP",
          "MHC1608S600QBP",
          "MHC1608S600QBP",
          "MHC1608S600QBP",
          "MHC1608S600QBP",
          "MHC1608S600QBP",
          "MHC1608S600QBP",
          "MHC2012S121UBP",
          "MHC2012S121UBP",
          "MHC2012S121UBP",
          "MHC2012S121UBP",
          "MHC2012S121UBP",
          "MHC2012S121UBP",
          "MHC2012S600QBP",
          "MHC2012S600QBP",
          "MHC2012S600QBP",
          "MHC2012S600QBP",
          "MHC2012S600QBP",
          "MHC2012S600QBP",
          "MHC2012S600QBP",
          "MHC2012S600QBP",
          "MHC3216S800RBE",
          "MHC3216S800RBE",
          "MHC3216S800RBE",
          "MHC3216S800RBE",
          "MHC3216S800RBE",
          "MHC3216S800RBE",
          "MHC3216S800RBE",
          "MHC3216S800RBE",
          "MHC3216S800RBE",
          "MHC3216S800RBE",
          "MHC3216S800RBE",
          "MHC3216S800RBE",
          "MHC3216S800RBE",
          "MHC3216S800RBE",
          "MHC3216S800RBE",
          "MHC3216S800RBE",
          "MIP20121R0MBE",
          "MIP20121R0MBE",
          "MIP20121R0MBE",
          "MIP20121R0MBE",
          "MIP20121R0MBE",
          "MIP20121R0MBE",
          "MIP20121R0MBE",
          "MIP20121R0MBE",
          "MIP20121R0MBE",
          "MIP20121R0MBE",
          "MIP20121R0MBE",
          "MIP20121R0MBE",
          "MIP20121R0MBE",
          "MIP20121R0MBE",
          "MIP20121R0MBE",
          "MIP20121R0MBE",
          "MIP20121R0MBE",
          "MIP20121R0MBE",
          "NF-P-F0-R0-009",
          "NIP3015GX-2R2M",
          "NIP3015GX-4R7M",
          "NIP3015GX-4R7M",
          "NIP5020GX-150M",
          "NIP5020GX-150M",
          "NIP5020GX-150M",
          "NIP5020GX-150M",
          "NIP5020GX-150M",
          "NIP5020GX-150M",
          "NIP5020GX-150M",
          "NIP5020GX-150M",
          "NIP5020GX-150M",
          "NIP5040GX-6R8M",
          "NIP5040GX-6R8M",
          "NIP5040GX-6R8M",
          "NIP5040GX-6R8M",
          "NIP5040GX-6R8M",
          "NIP5040GX-6R8M",
          "NIP5040GX-6R8M",
          "NIP5040GX-6R8M",
          "NIP5040GX-6R8M",
          "NIP5040GX-6R8M",
          "PA1590MI2G-144-2ZM",
          "PA1590MI2G-144-2ZM",
          "PA1590MI4G-101-17",
          "PA1590MI4G-101-17",
          "PA1590MI4G-101-17",
          "PA1590MI4G-101-17",
          "PA1590MI4G-101-17",
          "PA1590MI4G-316-FZM",
          "PA1590MI4G-316-FZM",
          "PA1590MI4G-316-FZM",
          "PA1590MI4G-316-FZM",
          "PA1590MI4G-316-FZM",
          "PA1590MI4G-316-FZM",
          "PA1590MI4G-316-FZM",
          "PA1590MI4G-316-FZM",
          "PA1590MI4G-371-28M",
          "PA1590MI4G-371-28M",
          "PA1590MI4G-371-28M",
          "PA1590MI4G-371-28M",
          "PA1590MI4G-371-28M",
          "PA1590MI4G-371-28M",
          "PA1590MI4G-371-28M",
          "PA1590MI4G-371-28M",
          "PA1590MI4G-371-28M",
          "PA1590MI4G-371-28M",
          "PA1590MI4G-371-28M",
          "PA1590MI4G-371-28M",
          "PA1590MI4G-371-28M",
          "PA1590MI4G-371-28M",
          "PA1590MI4G-371-28M",
          "PA1590MI4G-371-28M",
          "PA1590MI4G-371-28M",
          "PA1590MI4G-371-28M",
          "PA1590MI4G-371-28M",
          "PA1590MI4G-371-28M",
          "PA1590MI4G-371-28M",
          "PA1590MI4G-371-28M",
          "PA1590MI4G-371-28M",
          "PA1590MI4G-375-28M",
          "PA1590MI4G-375-28M",
          "PA1590MI4G-375-28M",
          "PA1590MI4G-375-28M",
          "PA1590MI4G-375-28M",
          "PA1590MI4G-375-28M",
          "PA1590MI4G-375-28M",
          "PA1590MI4G-375-28M",
          "PA1590MI4G-375-28M",
          "PA1590MI4G-375-28M",
          "PA1590MI4G-375-28M",
          "PA1590MI4G-375-28M",
          "PA1590MI4G-375-28M",
          "PA1590MI4G-375-28M",
          "PA1590MI4G-375-28M",
          "PA1590MI4G-375-28M",
          "PA1590MI4G-375-28M",
          "PA1590MI4G-376-28M",
          "PA1590MI4G-376-28M",
          "PA1590MI4G-376-28M",
          "PA1590MI4G-376-28M",
          "PA1590MI4G-376-28M",
          "PA1590MI4G-376-28M",
          "PA1590MI4G-376-28M",
          "PA1590MI4G-376-28M",
          "PA1590MI4G-376-28M",
          "PA1590MI4G-376-28M",
          "PA1590MI4G-376-28M",
          "PA1590MI4G-376-28M",
          "PA1590MI4G-376-28M",
          "PA1590MI4G-376-28M",
          "PA1590MI4G-376-28M",
          "PA1590MI4G-376-28M",
          "PA1590MI4G-376-28M",
          "PA1590MI4G-376-28M",
          "PA1590MI4G-376-28M",
          "PA1590MI4G-376-28M",
          "PA1590MI4G-376-28M",
          "PA1590MI4G-377-28M",
          "PA1590MI4G-377-28M",
          "PA1590MI4G-377-28M",
          "PA1590MI4G-377-28M",
          "PA1590MI4G-377-28M",
          "PA1590MI4G-377-28M",
          "PA1590MI4G-377-28M",
          "PA1590MI4G-377-28M",
          "PA1590MI4G-377-28M",
          "PA1590MI4G-377-28M",
          "PA1590MI4G-377-28M",
          "PA1590MI4G-380-18M-A",
          "PA1590MI4G-380-18M-A",
          "PA1590MI4G-380-18M-A",
          "PA1590MI4G-380-18M-A",
          "PA1590MI4G-402-28M",
          "PA1590MI4G-402-28M",
          "PA1590MI4G-402-28M",
          "PA1590MI4G-402-28M",
          "PA1590MI4G-402-28M",
          "PA1590MI4G-402-28M",
          "PA1590MI4G-402-28M",
          "PA1590MI4G-402-28M",
          "PA1590MI4G-402-28M",
          "PA1590MI4G-402-28M",
          "PA1590MI4G-402-28M",
          "PA1590MI4G-402-28M",
          "PA1590MI4G-402-28M",
          "PA1590MI4G-402-28M",
          "PA1590MI4G-402-28M",
          "PA1590MI4G-413-18M-A",
          "PA1590MI4G-413-18M-A",
          "PA1590MI4G-413-18M-A",
          "PA1590MI4G-413-18M-A",
          "PA1590MI4G-413-18M-A",
          "PA1590MI4G-414-18M-A",
          "PA1590MI4G-414-18M-A",
          "PA1590MI4G-415-18M-A",
          "PA1590MI4G-415-18M-A",
          "PA1590MI4G-431-28M-A",
          "PA1590MI4G-431-28M-A",
          "PA1590MI4G-431-28M-A",
          "PA1590MI4G-431-28M-A",
          "PA1590MI4G-431-28M-A",
          "PA1590MI4G-431-28M-A",
          "PA1590MI4G-447-28M-A",
          "PA1590MI4G-447-28M-A",
          "PA1590MI4G-447-28M-A",
          "PA1590MI4G-447-28M-A",
          "PA1590MI4G-448-28M-A",
          "PA1590MI4G-448-28M-A",
          "PA1590MI4G-448-28M-A",
          "PA1590MJ4G-124-16",
          "PA1590MJ4G-221-26M",
          "PA1590MJ4G-221-26M",
          "PA1590MJ4G-221-26M",
          "PA1590MJ4G-221-26M",
          "PA1590MJ4G-221-26M",
          "PA1590MJ4G-221-26M",
          "PA1590MJ4G-221-26M",
          "PA1590MJ4G-221-26M",
          "PA1590MJ4G-221-26M",
          "PA1590MJ4G-221-26M",
          "PA1590MJ4G-221-26M",
          "PA1590MJ4G-224-2SP",
          "PA1590MJ4G-224-2SP",
          "PA1590MJ4G-224-2SP",
          "PA1590MJ4G-224-2SP",
          "PA1590MJ4G-224-2SP",
          "PA1590MJ4G-224-2SP",
          "PA1590MJ4G-224-2SP",
          "PA1590MJ4G-224-2SP",
          "PA1590MJ4G-224-2SP",
          "PA1590MJ4G-224-2SP",
          "PA1590MJ4G-224-2SP",
          "PA1590MJ4G-224-2SP",
          "PA1590MJ4G-224-2SP",
          "PA1590MJ4G-224-2SP",
          "PA1590MJ4G-224-2SP",
          "PA1590MJ4G-224-2SP",
          "PA1590MJ4G-224-2SP",
          "PA1590MJ4G-224-2SP",
          "PA1590MQ5G-101-1P",
          "PA1590MQ5G-101-1P",
          "PA1590MQ5G-101-1P",
          "PA1590MS4G-102-1S",
          "PA1590MS4G-102-1S",
          "PA1590MS4G-103-1SS",
          "PA1590MS4G-103-1SS",
          "PA1590MS4G-103-1SS",
          "PA1590MS4G-103-1SS",
          "PA1590MS4G-103-SMD-M-A",
          "PA1590MS4G-103-SMD-M-A",
          "PA1590MS4G-103-SMD-M-A",
          "PA1590MS4G-103-SMD-M-A",
          "PA1590MS4G-103-SMD-M-A",
          "PA1590MS4G-103-SMD-M-A",
          "PA1590MS4G-103-SMD-M-A",
          "PA1590MS4G-104-SMD-M-A",
          "PA1598MI4G-487-17M",
          "RFDPA141300SBLB803J4",
          "RFDPA141300SBLB803J4",
          "RFDPA141300SBLB803J4",
          "RFDPA141300SBLB803J4",
          "RFDPA171300SBAB823J4",
          "RFDPA171300SBAB823J4",
          "RFDPA171300SBAB823J4",
          "RFDPA171300SBAB823J4",
          "RFDPA171300SBAB823J4",
          "RFDPA171300SBAB823J4",
          "RFDPA191300SMTB806J4",
          "RFDPA191300SMTB806J4",
          "RFDPA191300SMTB806J4",
          "RFDPA191300SMTB806J4",
          "RFDPA191300SMTB806J4",
          "RFDPA191300SMTB806J4",
          "RFDPA30871ASBLBA01J4",
          "RFDPA30871ASBLBA01J4",
          "SMAJ12A-T",
          "SMAJ12A-T",
          "SMAJ12A-T",
          "SMAJ12A-T",
          "SMAJ12A-T",
          "SMAJ12CA-T",
          "SMAJ12CA-T",
          "SMAJ15CA-T",
          "SMAJ15CA-T",
          "SMAJ28CA-T",
          "SMAJ36A-T",
          "SMAJ36A-T",
          "SMAJ36A-T",
          "SMAJ36A-T",
          "SMAJ36A-T",
          "SMAJ5.0A-T",
          "SMAJ5.0A-T",
          "SMAJ5.0A-T",
          "SMAJ6.0CA-T",
          "SMAJ70CA-T",
          "SMAJ70CA-T",
          "SMAJ70CA-T",
          "SMAJ85CA-T",
          "SMAJ85CA-T",
          "SMBJ26A-T",
          "SMBJ30A-T",
          "SMBJ33CA-T",
          "SMBJ36A-T",
          "SMBJ36A-T",
          "SMBJ36A-T",
          "SMBJ36A-T",
          "SMBJ5.0CA-T",
          "SMBJ5.0CA-T",
          "SMBJ5.0CA-T",
          "SMCJ220CA-M",
          "SMCJ36A-T",
          "SMCJ48A-T",
          "WA-F-P5-03-005",
          "WA-F-P5-03-005",
          "WA-F-P5-03-005",
          "WA-F-P5-03-005",
          "WA-F-P5-03-005",
          "WA-F-P5-03-005",
          "WA-F-P5-03-005",
          "WAG-P-LTE10-00-001",
          "WAG-P-LTE10-00-001",
          "WAG-P-LTE10-00-001",
          "WAG-P-LTE10-00-001",
          "WAG-P-LTE10-00-001",
          "WCI1608CP33NJRBE",
          "WCI1608CP33NJRBE",
          "WCI1608CP33NJRBE",
          "WCI1608CP33NJRBE",
          "WCI1608CP33NJRBE",
          "WCI1608CP33NJRBE",
          "WCI1608CP33NJRBE",
          "WCI1608CP33NJRBE",
          "WIP201610P-2R2ML",
          "WIP201610P-2R2ML",
          "WIP201610P-2R2ML",
          "WIP201610P-2R2ML",
          "WIP201610P-2R2ML",
          "WIP201610P-2R2ML",
          "WIP201610P-2R2ML",
          "WIP201610P-R47ML",
          "WIP252010S-1R0ML",
          "WIP252010S-1R0ML",
          "WIP252010S-1R0ML",
          "WIP252010S-1R0ML",
          "WIP252010S-1R0ML",
          "WIP252010S-1R0ML",
          "WIP252010S-1R0ML",
          "WIP252012P-1R0ML",
          "WIP252012P-1R0ML",
          "WIP252012P-1R0ML",
          "WIP252012P-1R0ML",
          "WIP252012P-1R0ML",
          "WIP252012P-1R0ML",
          "WIP252012P-1R0ML",
          "WIP252012P-1R0ML",
          "WIP252012P-1R5ML",
          "WIP252012P-2R2ML",
          "WIP252012P-2R2ML",
          "WIP252012P-2R2ML",
          "WIP252012P-2R2ML",
          "WIP252012P-2R2ML",
          "WIP252012P-2R2ML",
          "WIP252012P-2R2ML",
          "WIP252012P-2R2ML",
          "WIP252012P-2R2ML",
          "WIP252012P-2R2ML",
          "WIP252012P-2R2ML",
          "WIP252012P-3R3ML",
          "WIP252012P-4R7ML",
          "WIP252012P-4R7ML",
          "WIP252012P-4R7ML",
          "WIP252012P-4R7ML",
          "WMM0420PX-1R0M",
          "WMM0420PX-3R3M",
          "WMM0420PX-3R3M",
          "WMM0420PX-3R3M",
          "WMM0420PX-3R3M",
          "WMM0420PX-3R3M",
          "WMM0420PX-3R3M",
          "pin to pin antenna tooling",
          "EMC",
          "EMC",
          "EMC",
          "EMC",
          "EMC",
          "EMC",
          "EMC",
          "EMC",
          "EMC",
          "EMC",
          "EMC",
          "EMC",
          "EMC",
          "EMC",
          "EMC",
          "EMC",
          "EMC",
          "EMC",
          "EMC",
          "EMC",
          "EMC",
          "EMC",
          "EMC",
          "EMC",
          "EMC",
          "EMC",
          "EMC",
          "EMC",
          "EMC",
          "EMC",
          "EMC",
          "EMC",
          "EMC",
          "EMC",
          "EMC",
          "EMC",
          "EMC",
          "EMC",
          "EMC",
          "PC",
          "PC",
          "PC",
          "PC",
          "PC",
          "PC",
          "PC",
          "PC",
          "PC",
          "PC",
          "PC",
          "PC",
          "PC",
          "PC",
          "PC",
          "PC",
          "RF",
          "RF",
          "RF",
          "RF",
          "RF",
          "RF",
          "RF",
          "RF",
          "RF",
          "RF",
          "RF",
          "RF",
          "RF",
          "RF",
          "RF",
          "RF",
          "RF",
          "RF",
          "RF",
          "RF",
          "RF",
          "RF",
          "RF",
          "RF",
          "RF",
          "RF",
          "RF",
          "RF",
          "RF",
          "RF",
          "RF",
          "RF",
          "RF",
          "RF",
          "RF",
          "RF",
          "RF",
          "RF",
          "RF",
          "RF",
          "RF",
          "RF",
          "RF",
          "RF",
          "RF",
          "WIP",
          "WIP",
          "WIP",
          "WIP",
          "WIP",
          "WIP",
          "WIP",
          "WIP",
          "WIP",
          "WIP",
          "WIP",
          "WIP",
          "WIP",
          "WIP",
          "WIP",
          "WIP",
          "WIP",
          "WIP",
          "WIP",
          "WIP",
          "WIP",
          "WIP",
          "April",
          "April",
          "April",
          "April",
          "August",
          "August",
          "August",
          "August",
          "December",
          "December",
          "December",
          "December",
          "February",
          "February",
          "February",
          "January",
          "January",
          "January",
          "January",
          "July",
          "July",
          "July",
          "July",
          "June",
          "June",
          "June",
          "June",
          "March",
          "March",
          "March",
          "March",
          "May",
          "May",
          "May",
          "November",
          "November",
          "November",
          "November",
          "October",
          "October",
          "October",
          "October",
          "September",
          "September",
          "September",
          "September",
          "MT-SYSTEM",
          "MT-SYSTEM",
          "TELTONIKA",
          "TELTONIKA",
          "2019",
          "2020"
         ],
         "marker": {
          "coloraxis": "coloraxis",
          "colors": [
           6000,
           12000,
           5999.999999999999,
           2,
           1000,
           999.9999999999999,
           1780,
           3000,
           500,
           28000,
           11000,
           9000,
           24000,
           10000,
           2000,
           2000.0000000000002,
           6000.000000000001,
           4000,
           1890,
           12950,
           36000,
           20000,
           8500,
           15610,
           14000.000000000002,
           13500,
           30000,
           3000,
           4080,
           6160,
           6000,
           3000,
           3500,
           6500,
           6000,
           3000,
           2000,
           20,
           1020.0000000000001,
           1000,
           15,
           1300,
           100.00000000000001,
           400,
           6000,
           5000,
           2480,
           6000,
           5000,
           5000,
           4170,
           15000,
           26000,
           27000.000000000004,
           1000,
           10000,
           10000,
           10000,
           90000,
           40000,
           30000,
           20000,
           20000,
           30000,
           40000,
           30000,
           50000,
           320000,
           50000,
           300000,
           480000,
           180000,
           510000.00000000006,
           340000.00000000006,
           260000,
           320000,
           180000,
           100000,
           410000,
           200000,
           320000,
           290000,
           430000,
           210000,
           80000,
           90000,
           30000,
           10000,
           160000,
           60000,
           70000,
           40000,
           150000,
           20000,
           50000,
           40000,
           40000,
           10000,
           40000,
           70000,
           90000,
           64000,
           44000,
           24000,
           132000,
           52000,
           60000.00000000001,
           92000,
           32000,
           20000,
           60000,
           64000,
           88000,
           24000,
           48000,
           135000,
           465000,
           195000,
           210000,
           479999.99999999994,
           435000,
           210000,
           90000,
           210000,
           150000,
           90000,
           210000,
           315000,
           210000,
           150000,
           210000,
           270000,
           20000,
           200000,
           370000,
           620000,
           310000,
           130000,
           220000,
           350000,
           130000,
           290000,
           230000,
           350000,
           200000,
           40000,
           19999.999999999996,
           40000,
           29999.999999999996,
           30000,
           30000,
           30000,
           40000,
           50000,
           30000,
           70000,
           20000,
           29999.999999999996,
           29999.999999999996,
           30000,
           20000,
           10000,
           10000,
           330000,
           70000,
           60000,
           129999.99999999999,
           40000,
           10000,
           20000,
           40000,
           40000,
           10000,
           20000,
           20000,
           40000,
           10000,
           50000,
           10000,
           20000,
           20000,
           20000,
           10000,
           70000,
           20000.000000000004,
           90000,
           30000,
           40000,
           40000,
           40000,
           20000,
           70000,
           30000,
           30000,
           29999.999999999996,
           20000,
           40000,
           40000,
           50000,
           40000,
           40000,
           90000,
           20000,
           20000,
           170000,
           160000,
           50000.00000000001,
           50000,
           20000,
           80000,
           10000,
           30000,
           100000,
           20000,
           140000,
           20000,
           130000,
           20000,
           40000,
           90000,
           80000,
           20000,
           10000,
           30000,
           10000,
           20000,
           40000,
           70000,
           60000,
           50000,
           119999.99999999999,
           90000,
           30000,
           80000,
           70000,
           90000,
           80000,
           60000,
           50000,
           50000,
           60000,
           50000,
           99999.99999999999,
           40000,
           20000,
           20000,
           90000,
           100000,
           30000,
           80000,
           10000,
           50000,
           20000,
           60000,
           30000,
           80000,
           129999.99999999999,
           30000,
           10000,
           10000,
           70000,
           60000,
           10000,
           10000,
           30000,
           40000,
           60000,
           10000,
           30000,
           20000,
           50000,
           10000,
           20000,
           90000,
           30000,
           80000,
           150000,
           180000,
           20000,
           90000,
           80000,
           60000.00000000001,
           100000.00000000001,
           80000,
           130000,
           20000,
           10000,
           20000,
           200000,
           90000,
           150000,
           160000,
           170000,
           60000,
           150000,
           90000,
           120000,
           59999.99999999999,
           160000,
           80000,
           50000,
           70000,
           10000,
           10000,
           10000,
           10000,
           80000,
           60000,
           100000,
           60000,
           60000,
           60000,
           60000,
           10000,
           120000,
           10000,
           50000,
           130000,
           20000,
           30000,
           70000,
           40000,
           3999.9999999999995,
           3999.9999999999995,
           8000,
           16000,
           12000,
           8000,
           16000,
           12000,
           52000,
           52000,
           8000,
           8000,
           16000,
           52000,
           16000,
           183000,
           129000,
           153000,
           174000,
           40000,
           10000,
           10000,
           30000,
           20000,
           272000,
           168000,
           44000,
           264000,
           384000,
           460000,
           92000,
           200000,
           1048000,
           548000,
           592000,
           528000,
           475999.99999999994,
           140000,
           68000,
           940000.0000000001,
           452000,
           584000,
           816000,
           624000,
           724000,
           372000,
           212000,
           144000,
           55999.99999999999,
           48000,
           96000,
           76000,
           132000,
           32000,
           32000,
           24000,
           36000,
           8000,
           68000,
           12000,
           48000,
           48000,
           93000,
           198000,
           78000,
           75000,
           84000,
           165000,
           9000,
           33000,
           42000,
           126000,
           111000,
           84000,
           69000,
           75000,
           12000,
           204000,
           315000,
           201000,
           210000,
           549000,
           222000,
           213000,
           219000,
           204000,
           15000,
           222000,
           159000,
           204000,
           204000,
           153000,
           210000,
           201000,
           231000,
           10,
           4000,
           12000,
           12000,
           85000,
           220000,
           30000,
           132500,
           122500,
           157500,
           147500,
           72500,
           25000,
           48000,
           106500,
           45000.00000000001,
           99000,
           105000,
           58500,
           85500,
           145500,
           76500,
           102000,
           3999.9999999999995,
           5000,
           100,
           1000,
           100,
           1250,
           200,
           11600,
           800,
           8400,
           10000,
           10200,
           26000,
           20000,
           10000,
           97000,
           98000,
           48000,
           58000,
           27000,
           95000,
           2000,
           20000,
           96000,
           133800,
           80000,
           1000,
           77000,
           29000,
           21100,
           30000,
           59000,
           121000,
           88000,
           6000,
           6000,
           84000,
           172000,
           105000.00000000001,
           42000,
           70000,
           97100,
           143000,
           50000,
           79000,
           192350,
           70000,
           54000,
           40000,
           55300,
           95000,
           33000,
           24000,
           78000,
           148150,
           29000.000000000004,
           17000,
           12000,
           999.9999999999999,
           6999.999999999999,
           30000,
           4000,
           9000,
           14000,
           8700,
           12000,
           15000,
           3300,
           23000,
           5000,
           2000,
           3400,
           16000,
           5000,
           21000,
           34000,
           6000,
           12000,
           1000,
           3000,
           5000,
           9000,
           8000.000000000001,
           6000,
           12000,
           10200,
           5000,
           3000,
           3000,
           3000,
           3000,
           9000,
           3000,
           5000,
           20000,
           6000,
           4000,
           1000,
           3000,
           3000,
           2000,
           1000,
           6000,
           5000,
           1000,
           26000,
           10000,
           10000,
           10000,
           10000,
           10000,
           10000,
           5000,
           10000,
           20000,
           20000,
           20000,
           24000.000000000004,
           10000,
           10000,
           10000,
           1500,
           9000,
           999.9999999999999,
           8600,
           2000.0000000000002,
           2000.0000000000002,
           2100,
           350,
           1000,
           2000,
           3000,
           2000,
           7000,
           4000,
           3000,
           3000,
           3000,
           3000,
           2000,
           18000,
           25000,
           16000.000000000002,
           9100,
           19000,
           8100,
           7000,
           15200,
           24000,
           1000,
           11000,
           14000,
           8000,
           3000,
           6000,
           2000,
           6000,
           23000,
           2000,
           16562,
           4140,
           20,
           6460,
           15999.999999999998,
           16000,
           30000,
           15999.999999999998,
           2000.0000000000002,
           2000,
           2499.9999999999995,
           3100,
           5000,
           200,
           14499.999999999998,
           50,
           100,
           12000,
           1999.9999999999998,
           6000,
           6000,
           22000,
           62000,
           20000,
           37000,
           22000.000000000004,
           32000,
           35000,
           122000,
           39000,
           67000,
           6000,
           90000,
           2000,
           2000,
           15000,
           5000,
           10000,
           5000,
           5000,
           10000,
           5000,
           20000,
           10000,
           15000,
           10000,
           15000,
           5000,
           10000,
           5000,
           50000,
           100000,
           100000,
           10000,
           30000,
           25000,
           15000,
           5000,
           5000,
           9000,
           9000,
           3000,
           30000,
           30000,
           51000,
           120000,
           6000,
           6000,
           3000,
           12000,
           9000,
           3000,
           400,
           1500,
           1000,
           1140,
           1440,
           1000,
           200,
           10800,
           10000,
           10000,
           15600,
           14400,
           12000,
           8000,
           40000,
           44000,
           28000,
           20000,
           16000,
           20000,
           3000,
           45000,
           21000,
           3000,
           42000,
           21000,
           3000,
           3000,
           12000,
           24000,
           15000,
           12000,
           6000,
           24000,
           6000,
           60000,
           6000,
           27000,
           84000,
           3000,
           9000,
           72000,
           18000,
           3000,
           12000,
           3000,
           27000,
           12000,
           15000,
           36000,
           12000,
           42000,
           21000,
           3000,
           27000,
           6000,
           6000,
           6000,
           12000,
           3000,
           2000,
           2000,
           4000,
           4000,
           4000,
           4000,
           4000,
           1,
           46580.64516129032,
           15900.481850925558,
           234646.1049851278,
           212243.41620255326,
           2932.319482274989,
           4000,
           116376.05232097235,
           182456.26521744614,
           8531.214584571278,
           168647.7431173085,
           121879.82408858018,
           462713.89010135684,
           96919.04748668171,
           143002.417327453,
           15211.67883211679,
           201171.90369853217,
           4000,
           37943.580136298224,
           169590.52057873987,
           220022.6944509928,
           12000,
           41746.927934951396,
           248181.77437705328,
           101008.25505974612,
           129063.67199892225,
           53562.50000000001,
           348035.7033629156,
           199037.42258438794,
           174337.25053166287,
           33849.49404380684,
           186681.66549521775,
           223527.3752018112,
           4000,
           122601.94059653467,
           181933.35664419632,
           304823.05282936606,
           148180.43940917062,
           116453.20103521591,
           129141.42669855,
           30000,
           30000,
           6000,
           30000,
           39844.308419596215,
           13304.757655154082,
           25000,
           6832.577042270824,
           10406.383548600164,
           76721.24677018069,
           106147.3697471052,
           68993.54264662668,
           5000,
           4351.840641483033,
           5000,
           1,
           5814.5908847696255,
           6218.227573647024,
           84636.86217889434,
           57231.58030664448,
           3860.9687224493723,
           7759.8753364469685,
           54492.51938951941,
           29870.27773219318,
           14089.584251844788,
           10000,
           70775.97920687955,
           71402.39333904683,
           19840.18454244127,
           3332.26136117781,
           33783.41755310448,
           7112.351563806103,
           8206.976744731337,
           75308.06754627204,
           146911.97716911373,
           5897.563649139118,
           12915.937969131433,
           63997.82912649923,
           24973.71458890699,
           8482.844435369043,
           100.00000000000001,
           56369.739642975466,
           7637.099348880677,
           14021.802526481542,
           27848.283048095218,
           44737.96106730888,
           13881.666748175447,
           65894.53196561338,
           30400.289182624696,
           4943.047954415602,
           16717.091627686426,
           92881.2862518478,
           40210.47421185898,
           13310.755998737784,
           6000,
           4971.119133656929,
           29617.879810655635,
           7606.894306737817,
           5002.254403039707,
           109901.68228677945,
           68744.23426310149,
           60000,
           10210.501889544521,
           4987.706451440483,
           45000,
           25320,
           6000,
           12000,
           24000,
           8171.1383279400325,
           61519.31280002815,
           15000,
           33418.49710982659,
           21000,
           12000,
           35333.33333333333,
           16108.912075099406,
           69239.56994273694,
           12000,
           20601.458184290575,
           6000,
           24000,
           6000,
           11330.564169157116,
           7409.652864031975,
           94973.25426675353,
           86062.2370151578,
           3867.1403755961387,
           9457.094185731052,
           63254.70341538817,
           54776.527484908,
           15529.743005771907,
           42680.933807850866,
           81041.1262367854,
           86639.40540566648,
           25877.76649070002,
           3332.26136117781,
           81181.68460163788,
           26499.018650760416,
           8206.976744731337,
           75308.06754627204,
           156008.0183285191,
           7174.3451034769405,
           13571.4437524602,
           93461.95755875463,
           33713.29682047868,
           8633.211672942689,
           19349.701168676034,
           74537.1989302763,
           20930.038603533925,
           20824.898472620785,
           100751.6449746795,
           28096.11017852635,
           124568.39021082643,
           21824.282573077813,
           77743.68017575728,
           67049.80800070436,
           4943.047954415602,
           17488.95965840022,
           124618.16259807788,
           46319.38927522221,
           13487.349930475542,
           9522.279776260188,
           122985.34215524702,
           40989.13846957353,
           7606.894306737817,
           11188.428622357957,
           110763.29882753531,
           71289.31143191806,
           13001.17474457946,
           18423.936288778423,
           88738.26420728545,
           73537.07597563666,
           64930.84650887343,
           68734.75560294518
          ]
         },
         "name": "",
         "parents": [
          "2019/MT-SYSTEM/April/RF",
          "2020/MT-SYSTEM/April/RF",
          "2019/MT-SYSTEM/January/RF",
          "2020/MT-SYSTEM/September/RF",
          "2019/MT-SYSTEM/April/RF",
          "2019/MT-SYSTEM/January/RF",
          "2019/MT-SYSTEM/March/RF",
          "2019/MT-SYSTEM/May/RF",
          "2020/TELTONIKA/August/RF",
          "2020/TELTONIKA/December/RF",
          "2020/TELTONIKA/November/RF",
          "2020/TELTONIKA/October/RF",
          "2020/TELTONIKA/September/RF",
          "2020/TELTONIKA/December/RF",
          "2020/TELTONIKA/July/RF",
          "2020/TELTONIKA/May/RF",
          "2020/TELTONIKA/November/RF",
          "2020/TELTONIKA/September/RF",
          "2020/TELTONIKA/April/RF",
          "2020/TELTONIKA/August/RF",
          "2020/TELTONIKA/December/RF",
          "2020/TELTONIKA/July/RF",
          "2020/TELTONIKA/June/RF",
          "2020/TELTONIKA/May/RF",
          "2020/TELTONIKA/November/RF",
          "2020/TELTONIKA/October/RF",
          "2020/TELTONIKA/September/RF",
          "2019/MT-SYSTEM/August/RF",
          "2019/MT-SYSTEM/July/RF",
          "2019/MT-SYSTEM/May/RF",
          "2019/MT-SYSTEM/November/RF",
          "2019/MT-SYSTEM/September/RF",
          "2019/MT-SYSTEM/August/RF",
          "2019/MT-SYSTEM/July/RF",
          "2020/MT-SYSTEM/October/RF",
          "2019/MT-SYSTEM/September/RF",
          "2020/MT-SYSTEM/September/RF",
          "2019/MT-SYSTEM/March/RF",
          "2019/MT-SYSTEM/May/RF",
          "2019/MT-SYSTEM/September/RF",
          "2019/MT-SYSTEM/August/RF",
          "2020/MT-SYSTEM/August/RF",
          "2020/MT-SYSTEM/June/RF",
          "2019/MT-SYSTEM/November/RF",
          "2019/MT-SYSTEM/April/RF",
          "2020/MT-SYSTEM/April/RF",
          "2020/MT-SYSTEM/August/RF",
          "2019/MT-SYSTEM/June/RF",
          "2019/MT-SYSTEM/March/RF",
          "2019/MT-SYSTEM/November/RF",
          "2020/MT-SYSTEM/September/RF",
          "2020/TELTONIKA/December/RF",
          "2020/TELTONIKA/November/RF",
          "2020/TELTONIKA/October/RF",
          "2020/TELTONIKA/December/RF",
          "2020/TELTONIKA/April/EMC",
          "2020/TELTONIKA/August/EMC",
          "2019/TELTONIKA/December/EMC",
          "2020/TELTONIKA/December/EMC",
          "2020/TELTONIKA/July/EMC",
          "2020/TELTONIKA/June/EMC",
          "2020/TELTONIKA/May/EMC",
          "2020/TELTONIKA/November/EMC",
          "2019/TELTONIKA/October/EMC",
          "2020/TELTONIKA/October/EMC",
          "2019/TELTONIKA/September/EMC",
          "2020/TELTONIKA/September/EMC",
          "2020/TELTONIKA/April/EMC",
          "2019/TELTONIKA/August/EMC",
          "2019/TELTONIKA/December/EMC",
          "2020/TELTONIKA/December/EMC",
          "2020/TELTONIKA/February/EMC",
          "2020/TELTONIKA/January/EMC",
          "2019/TELTONIKA/July/EMC",
          "2020/TELTONIKA/July/EMC",
          "2019/TELTONIKA/June/EMC",
          "2020/TELTONIKA/March/EMC",
          "2019/TELTONIKA/May/EMC",
          "2020/TELTONIKA/May/EMC",
          "2019/TELTONIKA/November/EMC",
          "2020/TELTONIKA/November/EMC",
          "2019/TELTONIKA/October/EMC",
          "2020/TELTONIKA/October/EMC",
          "2019/TELTONIKA/September/EMC",
          "2020/TELTONIKA/September/EMC",
          "2020/TELTONIKA/April/EMC",
          "2019/TELTONIKA/August/EMC",
          "2019/TELTONIKA/December/EMC",
          "2020/TELTONIKA/December/EMC",
          "2020/TELTONIKA/February/EMC",
          "2020/TELTONIKA/January/EMC",
          "2019/TELTONIKA/July/EMC",
          "2020/TELTONIKA/July/EMC",
          "2019/TELTONIKA/June/EMC",
          "2020/TELTONIKA/June/EMC",
          "2020/TELTONIKA/March/EMC",
          "2020/TELTONIKA/May/EMC",
          "2019/TELTONIKA/November/EMC",
          "2020/TELTONIKA/November/EMC",
          "2019/TELTONIKA/October/EMC",
          "2020/TELTONIKA/October/EMC",
          "2020/TELTONIKA/April/EMC",
          "2019/TELTONIKA/August/EMC",
          "2019/TELTONIKA/December/EMC",
          "2020/TELTONIKA/December/EMC",
          "2020/TELTONIKA/February/EMC",
          "2020/TELTONIKA/January/EMC",
          "2019/TELTONIKA/July/EMC",
          "2020/TELTONIKA/July/EMC",
          "2020/TELTONIKA/March/EMC",
          "2020/TELTONIKA/May/EMC",
          "2020/TELTONIKA/November/EMC",
          "2020/TELTONIKA/October/EMC",
          "2019/TELTONIKA/September/EMC",
          "2020/TELTONIKA/September/EMC",
          "2019/TELTONIKA/April/EMC",
          "2020/TELTONIKA/April/EMC",
          "2019/TELTONIKA/August/EMC",
          "2019/TELTONIKA/December/EMC",
          "2020/TELTONIKA/December/EMC",
          "2020/TELTONIKA/February/EMC",
          "2020/TELTONIKA/January/EMC",
          "2019/TELTONIKA/July/EMC",
          "2020/TELTONIKA/June/EMC",
          "2019/TELTONIKA/May/EMC",
          "2020/TELTONIKA/May/EMC",
          "2019/TELTONIKA/November/EMC",
          "2020/TELTONIKA/November/EMC",
          "2019/TELTONIKA/October/EMC",
          "2020/TELTONIKA/October/EMC",
          "2019/TELTONIKA/September/EMC",
          "2020/TELTONIKA/April/EMC",
          "2019/TELTONIKA/August/EMC",
          "2019/TELTONIKA/December/EMC",
          "2020/TELTONIKA/December/EMC",
          "2020/TELTONIKA/January/EMC",
          "2019/TELTONIKA/July/EMC",
          "2020/TELTONIKA/July/EMC",
          "2020/TELTONIKA/March/EMC",
          "2020/TELTONIKA/May/EMC",
          "2019/TELTONIKA/November/EMC",
          "2020/TELTONIKA/November/EMC",
          "2019/TELTONIKA/October/EMC",
          "2020/TELTONIKA/October/EMC",
          "2019/TELTONIKA/September/EMC",
          "2020/TELTONIKA/September/EMC",
          "2019/TELTONIKA/December/EMC",
          "2020/TELTONIKA/December/EMC",
          "2020/TELTONIKA/February/EMC",
          "2020/TELTONIKA/January/EMC",
          "2019/TELTONIKA/July/EMC",
          "2020/TELTONIKA/July/EMC",
          "2020/TELTONIKA/June/EMC",
          "2020/TELTONIKA/March/EMC",
          "2019/TELTONIKA/May/EMC",
          "2020/TELTONIKA/May/EMC",
          "2019/TELTONIKA/November/EMC",
          "2020/TELTONIKA/November/EMC",
          "2019/TELTONIKA/October/EMC",
          "2020/TELTONIKA/October/EMC",
          "2019/TELTONIKA/September/EMC",
          "2020/TELTONIKA/April/EMC",
          "2020/TELTONIKA/March/EMC",
          "2020/TELTONIKA/December/EMC",
          "2020/TELTONIKA/November/EMC",
          "2020/TELTONIKA/October/EMC",
          "2020/TELTONIKA/September/EMC",
          "2020/TELTONIKA/April/EMC",
          "2019/TELTONIKA/August/EMC",
          "2019/TELTONIKA/December/EMC",
          "2020/TELTONIKA/December/EMC",
          "2020/TELTONIKA/January/EMC",
          "2019/TELTONIKA/July/EMC",
          "2020/TELTONIKA/July/EMC",
          "2020/TELTONIKA/June/EMC",
          "2020/TELTONIKA/March/EMC",
          "2019/TELTONIKA/May/EMC",
          "2020/TELTONIKA/May/EMC",
          "2019/TELTONIKA/November/EMC",
          "2020/TELTONIKA/November/EMC",
          "2019/TELTONIKA/October/EMC",
          "2019/TELTONIKA/September/EMC",
          "2019/TELTONIKA/April/EMC",
          "2020/TELTONIKA/April/EMC",
          "2019/TELTONIKA/December/EMC",
          "2020/TELTONIKA/December/EMC",
          "2020/TELTONIKA/February/EMC",
          "2020/TELTONIKA/January/EMC",
          "2019/TELTONIKA/July/EMC",
          "2020/TELTONIKA/July/EMC",
          "2019/TELTONIKA/June/EMC",
          "2020/TELTONIKA/June/EMC",
          "2020/TELTONIKA/March/EMC",
          "2019/TELTONIKA/May/EMC",
          "2020/TELTONIKA/May/EMC",
          "2019/TELTONIKA/November/EMC",
          "2020/TELTONIKA/November/EMC",
          "2019/TELTONIKA/October/EMC",
          "2020/TELTONIKA/October/EMC",
          "2019/TELTONIKA/September/EMC",
          "2020/TELTONIKA/September/EMC",
          "2020/TELTONIKA/April/EMC",
          "2019/TELTONIKA/August/EMC",
          "2019/TELTONIKA/December/EMC",
          "2020/TELTONIKA/December/EMC",
          "2020/TELTONIKA/February/EMC",
          "2020/TELTONIKA/January/EMC",
          "2020/TELTONIKA/July/EMC",
          "2020/TELTONIKA/June/EMC",
          "2020/TELTONIKA/March/EMC",
          "2020/TELTONIKA/May/EMC",
          "2019/TELTONIKA/November/EMC",
          "2020/TELTONIKA/November/EMC",
          "2019/TELTONIKA/October/EMC",
          "2020/TELTONIKA/October/EMC",
          "2019/TELTONIKA/September/EMC",
          "2020/TELTONIKA/September/EMC",
          "2019/TELTONIKA/August/EMC",
          "2019/TELTONIKA/December/EMC",
          "2020/TELTONIKA/December/EMC",
          "2020/TELTONIKA/February/EMC",
          "2019/TELTONIKA/November/EMC",
          "2019/TELTONIKA/October/EMC",
          "2019/TELTONIKA/September/EMC",
          "2020/TELTONIKA/October/EMC",
          "2020/TELTONIKA/September/EMC",
          "2019/TELTONIKA/April/EMC",
          "2020/TELTONIKA/April/EMC",
          "2019/TELTONIKA/December/EMC",
          "2020/TELTONIKA/December/EMC",
          "2020/TELTONIKA/January/EMC",
          "2019/TELTONIKA/July/EMC",
          "2020/TELTONIKA/July/EMC",
          "2019/TELTONIKA/June/EMC",
          "2020/TELTONIKA/March/EMC",
          "2019/TELTONIKA/May/EMC",
          "2020/TELTONIKA/May/EMC",
          "2019/TELTONIKA/November/EMC",
          "2020/TELTONIKA/November/EMC",
          "2019/TELTONIKA/October/EMC",
          "2020/TELTONIKA/October/EMC",
          "2019/TELTONIKA/September/EMC",
          "2020/TELTONIKA/April/EMC",
          "2019/TELTONIKA/August/EMC",
          "2020/TELTONIKA/August/EMC",
          "2019/TELTONIKA/December/EMC",
          "2020/TELTONIKA/December/EMC",
          "2020/TELTONIKA/February/EMC",
          "2020/TELTONIKA/January/EMC",
          "2020/TELTONIKA/July/EMC",
          "2020/TELTONIKA/June/EMC",
          "2020/TELTONIKA/May/EMC",
          "2019/TELTONIKA/November/EMC",
          "2020/TELTONIKA/November/EMC",
          "2019/TELTONIKA/October/EMC",
          "2020/TELTONIKA/October/EMC",
          "2020/TELTONIKA/September/EMC",
          "2020/TELTONIKA/April/EMC",
          "2019/TELTONIKA/August/EMC",
          "2019/TELTONIKA/December/EMC",
          "2020/TELTONIKA/December/EMC",
          "2020/TELTONIKA/February/EMC",
          "2020/TELTONIKA/January/EMC",
          "2019/TELTONIKA/July/EMC",
          "2020/TELTONIKA/July/EMC",
          "2020/TELTONIKA/March/EMC",
          "2020/TELTONIKA/May/EMC",
          "2019/TELTONIKA/November/EMC",
          "2020/TELTONIKA/November/EMC",
          "2019/TELTONIKA/October/EMC",
          "2020/TELTONIKA/October/EMC",
          "2019/TELTONIKA/September/EMC",
          "2020/TELTONIKA/September/EMC",
          "2020/TELTONIKA/April/EMC",
          "2019/TELTONIKA/August/EMC",
          "2019/TELTONIKA/December/EMC",
          "2020/TELTONIKA/December/EMC",
          "2020/TELTONIKA/February/EMC",
          "2020/TELTONIKA/January/EMC",
          "2020/TELTONIKA/July/EMC",
          "2020/TELTONIKA/June/EMC",
          "2020/TELTONIKA/March/EMC",
          "2020/TELTONIKA/May/EMC",
          "2019/TELTONIKA/November/EMC",
          "2020/TELTONIKA/November/EMC",
          "2019/TELTONIKA/October/EMC",
          "2020/TELTONIKA/October/EMC",
          "2019/TELTONIKA/September/EMC",
          "2020/TELTONIKA/September/EMC",
          "2020/TELTONIKA/April/EMC",
          "2019/TELTONIKA/December/EMC",
          "2020/TELTONIKA/December/EMC",
          "2020/TELTONIKA/January/EMC",
          "2019/TELTONIKA/July/EMC",
          "2019/TELTONIKA/June/EMC",
          "2020/TELTONIKA/March/EMC",
          "2020/TELTONIKA/May/EMC",
          "2019/TELTONIKA/November/EMC",
          "2020/TELTONIKA/November/EMC",
          "2019/TELTONIKA/October/EMC",
          "2020/TELTONIKA/October/EMC",
          "2019/TELTONIKA/September/EMC",
          "2020/TELTONIKA/April/EMC",
          "2019/TELTONIKA/August/EMC",
          "2019/MT-SYSTEM/August/EMC",
          "2019/TELTONIKA/April/EMC",
          "2020/TELTONIKA/April/EMC",
          "2019/TELTONIKA/December/EMC",
          "2020/TELTONIKA/December/EMC",
          "2020/TELTONIKA/February/EMC",
          "2020/TELTONIKA/January/EMC",
          "2019/TELTONIKA/July/EMC",
          "2020/TELTONIKA/July/EMC",
          "2019/TELTONIKA/June/EMC",
          "2020/TELTONIKA/June/EMC",
          "2020/TELTONIKA/March/EMC",
          "2019/TELTONIKA/May/EMC",
          "2020/TELTONIKA/May/EMC",
          "2019/TELTONIKA/November/EMC",
          "2020/TELTONIKA/November/EMC",
          "2019/TELTONIKA/October/EMC",
          "2019/TELTONIKA/September/EMC",
          "2019/MT-SYSTEM/August/EMC",
          "2019/MT-SYSTEM/January/EMC",
          "2019/MT-SYSTEM/April/EMC",
          "2019/MT-SYSTEM/January/EMC",
          "2019/MT-SYSTEM/June/EMC",
          "2019/MT-SYSTEM/April/EMC",
          "2019/MT-SYSTEM/January/EMC",
          "2019/MT-SYSTEM/June/EMC",
          "2019/MT-SYSTEM/April/EMC",
          "2019/MT-SYSTEM/April/EMC",
          "2019/MT-SYSTEM/April/EMC",
          "2019/MT-SYSTEM/August/EMC",
          "2019/MT-SYSTEM/January/EMC",
          "2019/MT-SYSTEM/April/EMC",
          "2019/MT-SYSTEM/January/EMC",
          "2020/MT-SYSTEM/December/EMC",
          "2020/MT-SYSTEM/February/EMC",
          "2020/MT-SYSTEM/March/EMC",
          "2020/MT-SYSTEM/September/EMC",
          "2020/MT-SYSTEM/February/EMC",
          "2020/MT-SYSTEM/July/EMC",
          "2020/MT-SYSTEM/June/EMC",
          "2020/MT-SYSTEM/November/EMC",
          "2020/MT-SYSTEM/September/EMC",
          "2019/TELTONIKA/April/EMC",
          "2020/TELTONIKA/January/EMC",
          "2019/TELTONIKA/March/EMC",
          "2020/TELTONIKA/March/EMC",
          "2019/TELTONIKA/April/EMC",
          "2020/TELTONIKA/April/EMC",
          "2019/TELTONIKA/August/EMC",
          "2019/TELTONIKA/December/EMC",
          "2020/TELTONIKA/December/EMC",
          "2020/TELTONIKA/January/EMC",
          "2019/TELTONIKA/July/EMC",
          "2020/TELTONIKA/July/EMC",
          "2019/TELTONIKA/June/EMC",
          "2020/TELTONIKA/June/EMC",
          "2019/TELTONIKA/March/EMC",
          "2020/TELTONIKA/March/EMC",
          "2019/TELTONIKA/May/EMC",
          "2020/TELTONIKA/May/EMC",
          "2019/TELTONIKA/November/EMC",
          "2020/TELTONIKA/November/EMC",
          "2020/TELTONIKA/October/EMC",
          "2019/TELTONIKA/September/EMC",
          "2020/TELTONIKA/September/EMC",
          "2020/MT-SYSTEM/December/EMC",
          "2020/MT-SYSTEM/February/EMC",
          "2020/MT-SYSTEM/July/EMC",
          "2020/MT-SYSTEM/June/EMC",
          "2020/MT-SYSTEM/March/EMC",
          "2020/MT-SYSTEM/October/EMC",
          "2020/MT-SYSTEM/April/EMC",
          "2020/MT-SYSTEM/February/EMC",
          "2020/MT-SYSTEM/July/EMC",
          "2020/MT-SYSTEM/June/EMC",
          "2020/MT-SYSTEM/March/EMC",
          "2020/MT-SYSTEM/November/EMC",
          "2020/MT-SYSTEM/October/EMC",
          "2020/MT-SYSTEM/September/EMC",
          "2020/TELTONIKA/April/EMC",
          "2019/TELTONIKA/December/EMC",
          "2020/TELTONIKA/December/EMC",
          "2020/TELTONIKA/February/EMC",
          "2020/TELTONIKA/January/EMC",
          "2019/TELTONIKA/July/EMC",
          "2020/TELTONIKA/July/EMC",
          "2019/TELTONIKA/June/EMC",
          "2020/TELTONIKA/June/EMC",
          "2020/TELTONIKA/March/EMC",
          "2020/TELTONIKA/May/EMC",
          "2019/TELTONIKA/November/EMC",
          "2020/TELTONIKA/November/EMC",
          "2020/TELTONIKA/October/EMC",
          "2019/TELTONIKA/September/EMC",
          "2020/TELTONIKA/September/EMC",
          "2019/TELTONIKA/April/EMC",
          "2020/TELTONIKA/April/EMC",
          "2019/TELTONIKA/August/EMC",
          "2019/TELTONIKA/December/EMC",
          "2020/TELTONIKA/December/EMC",
          "2020/TELTONIKA/February/EMC",
          "2020/TELTONIKA/January/EMC",
          "2019/TELTONIKA/July/EMC",
          "2019/TELTONIKA/June/EMC",
          "2020/TELTONIKA/June/EMC",
          "2020/TELTONIKA/March/EMC",
          "2019/TELTONIKA/May/EMC",
          "2020/TELTONIKA/May/EMC",
          "2019/TELTONIKA/November/EMC",
          "2020/TELTONIKA/November/EMC",
          "2019/TELTONIKA/October/EMC",
          "2019/TELTONIKA/September/EMC",
          "2020/TELTONIKA/September/EMC",
          "2019/MT-SYSTEM/September/RF",
          "2019/MT-SYSTEM/December/EMC",
          "2019/MT-SYSTEM/December/EMC",
          "2020/MT-SYSTEM/June/EMC",
          "2020/TELTONIKA/April/EMC",
          "2020/TELTONIKA/August/EMC",
          "2019/TELTONIKA/December/EMC",
          "2020/TELTONIKA/February/EMC",
          "2020/TELTONIKA/January/EMC",
          "2019/TELTONIKA/July/EMC",
          "2019/TELTONIKA/November/EMC",
          "2019/TELTONIKA/September/EMC",
          "2020/TELTONIKA/September/EMC",
          "2019/TELTONIKA/August/EMC",
          "2020/TELTONIKA/August/EMC",
          "2019/TELTONIKA/December/EMC",
          "2020/TELTONIKA/February/EMC",
          "2020/TELTONIKA/January/EMC",
          "2019/TELTONIKA/July/EMC",
          "2020/TELTONIKA/May/EMC",
          "2019/TELTONIKA/November/EMC",
          "2019/TELTONIKA/September/EMC",
          "2020/TELTONIKA/September/EMC",
          "2019/MT-SYSTEM/August/RF",
          "2019/MT-SYSTEM/March/RF",
          "2020/MT-SYSTEM/August/RF",
          "2019/MT-SYSTEM/January/RF",
          "2020/MT-SYSTEM/January/RF",
          "2019/MT-SYSTEM/July/RF",
          "2019/MT-SYSTEM/March/RF",
          "2020/MT-SYSTEM/February/RF",
          "2019/MT-SYSTEM/January/RF",
          "2020/MT-SYSTEM/January/RF",
          "2020/MT-SYSTEM/July/RF",
          "2019/MT-SYSTEM/March/RF",
          "2019/MT-SYSTEM/May/RF",
          "2020/MT-SYSTEM/November/RF",
          "2020/MT-SYSTEM/September/RF",
          "2019/TELTONIKA/April/RF",
          "2020/TELTONIKA/April/RF",
          "2019/TELTONIKA/August/RF",
          "2020/TELTONIKA/August/RF",
          "2019/TELTONIKA/December/RF",
          "2020/TELTONIKA/December/RF",
          "2019/TELTONIKA/February/RF",
          "2020/TELTONIKA/February/RF",
          "2019/TELTONIKA/January/RF",
          "2020/TELTONIKA/January/RF",
          "2019/TELTONIKA/July/RF",
          "2020/TELTONIKA/July/RF",
          "2019/TELTONIKA/June/RF",
          "2019/TELTONIKA/March/RF",
          "2020/TELTONIKA/March/RF",
          "2019/TELTONIKA/May/RF",
          "2020/TELTONIKA/May/RF",
          "2019/TELTONIKA/November/RF",
          "2020/TELTONIKA/November/RF",
          "2019/TELTONIKA/October/RF",
          "2020/TELTONIKA/October/RF",
          "2019/TELTONIKA/September/RF",
          "2020/TELTONIKA/September/RF",
          "2019/TELTONIKA/April/RF",
          "2020/TELTONIKA/April/RF",
          "2019/TELTONIKA/August/RF",
          "2019/TELTONIKA/December/RF",
          "2020/TELTONIKA/December/RF",
          "2020/TELTONIKA/February/RF",
          "2019/TELTONIKA/January/RF",
          "2020/TELTONIKA/January/RF",
          "2019/TELTONIKA/July/RF",
          "2019/TELTONIKA/June/RF",
          "2019/TELTONIKA/March/RF",
          "2020/TELTONIKA/March/RF",
          "2019/TELTONIKA/May/RF",
          "2019/TELTONIKA/November/RF",
          "2020/TELTONIKA/November/RF",
          "2020/TELTONIKA/October/RF",
          "2019/TELTONIKA/September/RF",
          "2019/TELTONIKA/April/RF",
          "2020/TELTONIKA/April/RF",
          "2019/TELTONIKA/August/RF",
          "2020/TELTONIKA/August/RF",
          "2019/TELTONIKA/December/RF",
          "2020/TELTONIKA/December/RF",
          "2019/TELTONIKA/February/RF",
          "2020/TELTONIKA/February/RF",
          "2019/TELTONIKA/January/RF",
          "2020/TELTONIKA/January/RF",
          "2020/TELTONIKA/July/RF",
          "2019/TELTONIKA/June/RF",
          "2020/TELTONIKA/June/RF",
          "2019/TELTONIKA/March/RF",
          "2019/TELTONIKA/May/RF",
          "2020/TELTONIKA/May/RF",
          "2019/TELTONIKA/November/RF",
          "2020/TELTONIKA/November/RF",
          "2020/TELTONIKA/October/RF",
          "2019/TELTONIKA/September/RF",
          "2020/TELTONIKA/September/RF",
          "2019/TELTONIKA/April/RF",
          "2020/TELTONIKA/April/RF",
          "2019/TELTONIKA/August/RF",
          "2019/TELTONIKA/December/RF",
          "2019/TELTONIKA/January/RF",
          "2020/TELTONIKA/January/RF",
          "2019/TELTONIKA/July/RF",
          "2019/TELTONIKA/March/RF",
          "2019/TELTONIKA/May/RF",
          "2019/TELTONIKA/November/RF",
          "2019/TELTONIKA/September/RF",
          "2020/TELTONIKA/April/RF",
          "2019/TELTONIKA/June/RF",
          "2019/TELTONIKA/May/RF",
          "2020/TELTONIKA/September/RF",
          "2020/TELTONIKA/April/RF",
          "2019/TELTONIKA/August/RF",
          "2020/TELTONIKA/August/RF",
          "2020/TELTONIKA/December/RF",
          "2019/TELTONIKA/January/RF",
          "2020/TELTONIKA/January/RF",
          "2020/TELTONIKA/July/RF",
          "2019/TELTONIKA/June/RF",
          "2019/TELTONIKA/March/RF",
          "2020/TELTONIKA/March/RF",
          "2019/TELTONIKA/May/RF",
          "2020/TELTONIKA/November/RF",
          "2020/TELTONIKA/October/RF",
          "2019/TELTONIKA/September/RF",
          "2020/TELTONIKA/September/RF",
          "2020/MT-SYSTEM/April/RF",
          "2019/MT-SYSTEM/December/RF",
          "2019/MT-SYSTEM/May/RF",
          "2019/MT-SYSTEM/October/RF",
          "2019/MT-SYSTEM/September/RF",
          "2020/MT-SYSTEM/December/RF",
          "2019/MT-SYSTEM/May/RF",
          "2020/MT-SYSTEM/December/RF",
          "2019/MT-SYSTEM/May/RF",
          "2020/MT-SYSTEM/August/RF",
          "2019/MT-SYSTEM/December/RF",
          "2020/MT-SYSTEM/February/RF",
          "2020/MT-SYSTEM/November/RF",
          "2019/MT-SYSTEM/October/RF",
          "2020/MT-SYSTEM/September/RF",
          "2020/TELTONIKA/August/RF",
          "2020/TELTONIKA/December/RF",
          "2020/TELTONIKA/June/RF",
          "2020/TELTONIKA/September/RF",
          "2019/TELTONIKA/December/RF",
          "2020/TELTONIKA/January/RF",
          "2020/TELTONIKA/September/RF",
          "2019/MT-SYSTEM/May/RF",
          "2019/TELTONIKA/August/RF",
          "2020/TELTONIKA/December/RF",
          "2020/TELTONIKA/February/RF",
          "2019/TELTONIKA/January/RF",
          "2020/TELTONIKA/January/RF",
          "2019/TELTONIKA/July/RF",
          "2020/TELTONIKA/June/RF",
          "2020/TELTONIKA/May/RF",
          "2019/TELTONIKA/October/RF",
          "2019/TELTONIKA/September/RF",
          "2020/TELTONIKA/September/RF",
          "2019/TELTONIKA/April/RF",
          "2020/TELTONIKA/April/RF",
          "2020/TELTONIKA/August/RF",
          "2019/TELTONIKA/December/RF",
          "2020/TELTONIKA/December/RF",
          "2020/TELTONIKA/February/RF",
          "2019/TELTONIKA/January/RF",
          "2020/TELTONIKA/January/RF",
          "2019/TELTONIKA/July/RF",
          "2020/TELTONIKA/July/RF",
          "2019/TELTONIKA/June/RF",
          "2019/TELTONIKA/March/RF",
          "2019/TELTONIKA/May/RF",
          "2019/TELTONIKA/November/RF",
          "2020/TELTONIKA/November/RF",
          "2020/TELTONIKA/October/RF",
          "2019/TELTONIKA/September/RF",
          "2020/TELTONIKA/September/RF",
          "2020/MT-SYSTEM/April/RF",
          "2019/MT-SYSTEM/October/RF",
          "2019/MT-SYSTEM/September/RF",
          "2019/MT-SYSTEM/April/RF",
          "2019/MT-SYSTEM/August/RF",
          "2020/MT-SYSTEM/July/RF",
          "2019/MT-SYSTEM/June/RF",
          "2019/MT-SYSTEM/March/RF",
          "2019/MT-SYSTEM/September/RF",
          "2020/TELTONIKA/April/RF",
          "2020/TELTONIKA/August/RF",
          "2020/TELTONIKA/January/RF",
          "2020/TELTONIKA/May/RF",
          "2020/TELTONIKA/November/RF",
          "2020/TELTONIKA/October/RF",
          "2020/TELTONIKA/September/RF",
          "2020/TELTONIKA/August/RF",
          "2020/MT-SYSTEM/August/RF",
          "2020/TELTONIKA/December/RF",
          "2020/TELTONIKA/July/RF",
          "2020/TELTONIKA/November/RF",
          "2020/TELTONIKA/September/RF",
          "2020/TELTONIKA/August/RF",
          "2020/TELTONIKA/December/RF",
          "2020/TELTONIKA/July/RF",
          "2020/TELTONIKA/November/RF",
          "2020/TELTONIKA/October/RF",
          "2020/TELTONIKA/September/RF",
          "2020/TELTONIKA/August/RF",
          "2020/TELTONIKA/December/RF",
          "2020/TELTONIKA/July/RF",
          "2020/TELTONIKA/November/RF",
          "2020/TELTONIKA/October/RF",
          "2020/TELTONIKA/September/RF",
          "2020/TELTONIKA/December/RF",
          "2020/TELTONIKA/July/RF",
          "2020/MT-SYSTEM/February/PC",
          "2020/MT-SYSTEM/June/PC",
          "2020/MT-SYSTEM/March/PC",
          "2020/MT-SYSTEM/November/PC",
          "2020/MT-SYSTEM/October/PC",
          "2020/MT-SYSTEM/December/PC",
          "2019/MT-SYSTEM/June/PC",
          "2019/MT-SYSTEM/March/PC",
          "2019/MT-SYSTEM/May/PC",
          "2019/MT-SYSTEM/May/PC",
          "2020/MT-SYSTEM/December/PC",
          "2020/MT-SYSTEM/February/PC",
          "2020/MT-SYSTEM/June/PC",
          "2020/MT-SYSTEM/March/PC",
          "2020/MT-SYSTEM/November/PC",
          "2020/MT-SYSTEM/December/PC",
          "2019/MT-SYSTEM/March/PC",
          "2019/MT-SYSTEM/May/PC",
          "2020/MT-SYSTEM/December/PC",
          "2019/MT-SYSTEM/December/PC",
          "2019/MT-SYSTEM/July/PC",
          "2019/MT-SYSTEM/May/PC",
          "2019/MT-SYSTEM/March/PC",
          "2019/MT-SYSTEM/October/PC",
          "2019/MT-SYSTEM/May/PC",
          "2020/MT-SYSTEM/December/PC",
          "2019/MT-SYSTEM/June/PC",
          "2019/MT-SYSTEM/April/PC",
          "2020/MT-SYSTEM/April/PC",
          "2020/MT-SYSTEM/December/PC",
          "2020/MT-SYSTEM/March/PC",
          "2019/MT-SYSTEM/August/PC",
          "2020/MT-SYSTEM/February/PC",
          "2019/MT-SYSTEM/October/PC",
          "2020/MT-SYSTEM/June/PC",
          "2019/MT-SYSTEM/June/PC",
          "2019/MT-SYSTEM/June/PC",
          "2020/MT-SYSTEM/April/RF",
          "2020/MT-SYSTEM/August/RF",
          "2019/MT-SYSTEM/December/RF",
          "2019/MT-SYSTEM/July/RF",
          "2019/MT-SYSTEM/May/RF",
          "2019/MT-SYSTEM/September/RF",
          "2020/MT-SYSTEM/September/RF",
          "2019/MT-SYSTEM/December/RF",
          "2019/MT-SYSTEM/January/RF",
          "2020/MT-SYSTEM/July/RF",
          "2019/MT-SYSTEM/May/RF",
          "2019/MT-SYSTEM/September/RF",
          "2020/TELTONIKA/February/EMC",
          "2020/TELTONIKA/January/EMC",
          "2019/TELTONIKA/July/EMC",
          "2020/TELTONIKA/May/EMC",
          "2019/TELTONIKA/November/EMC",
          "2020/TELTONIKA/November/EMC",
          "2020/TELTONIKA/October/EMC",
          "2019/TELTONIKA/September/EMC",
          "2020/MT-SYSTEM/April/WIP",
          "2020/MT-SYSTEM/August/WIP",
          "2019/MT-SYSTEM/December/WIP",
          "2020/MT-SYSTEM/February/WIP",
          "2019/MT-SYSTEM/January/WIP",
          "2019/MT-SYSTEM/June/WIP",
          "2020/MT-SYSTEM/March/WIP",
          "2019/MT-SYSTEM/October/WIP",
          "2019/TELTONIKA/December/WIP",
          "2020/TELTONIKA/December/WIP",
          "2020/TELTONIKA/January/WIP",
          "2020/TELTONIKA/November/WIP",
          "2019/TELTONIKA/October/WIP",
          "2020/TELTONIKA/October/WIP",
          "2019/TELTONIKA/September/WIP",
          "2019/MT-SYSTEM/April/WIP",
          "2019/MT-SYSTEM/August/WIP",
          "2019/MT-SYSTEM/December/WIP",
          "2019/MT-SYSTEM/January/WIP",
          "2019/MT-SYSTEM/July/WIP",
          "2020/MT-SYSTEM/March/WIP",
          "2019/MT-SYSTEM/May/WIP",
          "2019/MT-SYSTEM/October/WIP",
          "2020/MT-SYSTEM/February/WIP",
          "2020/MT-SYSTEM/April/WIP",
          "2019/MT-SYSTEM/August/WIP",
          "2019/MT-SYSTEM/December/WIP",
          "2020/MT-SYSTEM/February/WIP",
          "2019/MT-SYSTEM/January/WIP",
          "2019/MT-SYSTEM/July/WIP",
          "2020/MT-SYSTEM/June/WIP",
          "2019/MT-SYSTEM/March/WIP",
          "2020/MT-SYSTEM/March/WIP",
          "2019/MT-SYSTEM/May/WIP",
          "2019/MT-SYSTEM/October/WIP",
          "2019/MT-SYSTEM/January/WIP",
          "2020/MT-SYSTEM/December/WIP",
          "2020/MT-SYSTEM/February/WIP",
          "2019/MT-SYSTEM/March/WIP",
          "2019/MT-SYSTEM/October/WIP",
          "2019/MT-SYSTEM/August/EMC",
          "2020/MT-SYSTEM/April/EMC",
          "2020/MT-SYSTEM/August/EMC",
          "2019/MT-SYSTEM/December/EMC",
          "2019/MT-SYSTEM/July/EMC",
          "2020/MT-SYSTEM/November/EMC",
          "2019/MT-SYSTEM/October/EMC",
          "2020/MT-SYSTEM/September/PC",
          "2019/MT-SYSTEM/April",
          "2020/MT-SYSTEM/April",
          "2019/TELTONIKA/April",
          "2020/TELTONIKA/April",
          "2019/MT-SYSTEM/August",
          "2020/MT-SYSTEM/August",
          "2019/TELTONIKA/August",
          "2020/TELTONIKA/August",
          "2019/MT-SYSTEM/December",
          "2020/MT-SYSTEM/December",
          "2019/TELTONIKA/December",
          "2020/TELTONIKA/December",
          "2020/MT-SYSTEM/February",
          "2020/TELTONIKA/February",
          "2019/MT-SYSTEM/January",
          "2020/TELTONIKA/January",
          "2019/MT-SYSTEM/July",
          "2020/MT-SYSTEM/July",
          "2019/TELTONIKA/July",
          "2020/TELTONIKA/July",
          "2019/MT-SYSTEM/June",
          "2020/MT-SYSTEM/June",
          "2019/TELTONIKA/June",
          "2020/TELTONIKA/June",
          "2020/MT-SYSTEM/March",
          "2019/TELTONIKA/March",
          "2020/TELTONIKA/March",
          "2019/TELTONIKA/May",
          "2020/TELTONIKA/May",
          "2020/MT-SYSTEM/November",
          "2019/TELTONIKA/November",
          "2020/TELTONIKA/November",
          "2019/MT-SYSTEM/October",
          "2020/MT-SYSTEM/October",
          "2019/TELTONIKA/October",
          "2020/TELTONIKA/October",
          "2020/MT-SYSTEM/September",
          "2019/TELTONIKA/September",
          "2020/TELTONIKA/September",
          "2019/MT-SYSTEM/April",
          "2020/MT-SYSTEM/April",
          "2019/MT-SYSTEM/August",
          "2019/MT-SYSTEM/December",
          "2020/MT-SYSTEM/December",
          "2020/MT-SYSTEM/February",
          "2019/MT-SYSTEM/July",
          "2019/MT-SYSTEM/June",
          "2020/MT-SYSTEM/June",
          "2019/MT-SYSTEM/March",
          "2020/MT-SYSTEM/March",
          "2019/MT-SYSTEM/May",
          "2020/MT-SYSTEM/November",
          "2019/MT-SYSTEM/October",
          "2020/MT-SYSTEM/October",
          "2020/MT-SYSTEM/September",
          "2019/MT-SYSTEM/April",
          "2020/MT-SYSTEM/April",
          "2019/TELTONIKA/April",
          "2020/TELTONIKA/April",
          "2019/MT-SYSTEM/August",
          "2020/MT-SYSTEM/August",
          "2019/TELTONIKA/August",
          "2020/TELTONIKA/August",
          "2019/MT-SYSTEM/December",
          "2020/MT-SYSTEM/December",
          "2019/TELTONIKA/December",
          "2020/TELTONIKA/December",
          "2020/MT-SYSTEM/February",
          "2019/TELTONIKA/February",
          "2020/TELTONIKA/February",
          "2019/MT-SYSTEM/January",
          "2020/MT-SYSTEM/January",
          "2019/TELTONIKA/January",
          "2020/TELTONIKA/January",
          "2019/MT-SYSTEM/July",
          "2020/MT-SYSTEM/July",
          "2019/TELTONIKA/July",
          "2020/TELTONIKA/July",
          "2019/MT-SYSTEM/June",
          "2020/MT-SYSTEM/June",
          "2019/TELTONIKA/June",
          "2020/TELTONIKA/June",
          "2019/MT-SYSTEM/March",
          "2019/TELTONIKA/March",
          "2020/TELTONIKA/March",
          "2019/MT-SYSTEM/May",
          "2019/TELTONIKA/May",
          "2020/TELTONIKA/May",
          "2019/MT-SYSTEM/November",
          "2020/MT-SYSTEM/November",
          "2019/TELTONIKA/November",
          "2020/TELTONIKA/November",
          "2019/MT-SYSTEM/October",
          "2020/MT-SYSTEM/October",
          "2019/TELTONIKA/October",
          "2020/TELTONIKA/October",
          "2019/MT-SYSTEM/September",
          "2020/MT-SYSTEM/September",
          "2019/TELTONIKA/September",
          "2020/TELTONIKA/September",
          "2019/MT-SYSTEM/April",
          "2020/MT-SYSTEM/April",
          "2019/MT-SYSTEM/August",
          "2020/MT-SYSTEM/August",
          "2019/MT-SYSTEM/December",
          "2020/MT-SYSTEM/December",
          "2019/TELTONIKA/December",
          "2020/TELTONIKA/December",
          "2020/MT-SYSTEM/February",
          "2019/MT-SYSTEM/January",
          "2020/TELTONIKA/January",
          "2019/MT-SYSTEM/July",
          "2019/MT-SYSTEM/June",
          "2020/MT-SYSTEM/June",
          "2019/MT-SYSTEM/March",
          "2020/MT-SYSTEM/March",
          "2019/MT-SYSTEM/May",
          "2020/TELTONIKA/November",
          "2019/MT-SYSTEM/October",
          "2019/TELTONIKA/October",
          "2020/TELTONIKA/October",
          "2019/TELTONIKA/September",
          "2019/MT-SYSTEM",
          "2020/MT-SYSTEM",
          "2019/TELTONIKA",
          "2020/TELTONIKA",
          "2019/MT-SYSTEM",
          "2020/MT-SYSTEM",
          "2019/TELTONIKA",
          "2020/TELTONIKA",
          "2019/MT-SYSTEM",
          "2020/MT-SYSTEM",
          "2019/TELTONIKA",
          "2020/TELTONIKA",
          "2020/MT-SYSTEM",
          "2019/TELTONIKA",
          "2020/TELTONIKA",
          "2019/MT-SYSTEM",
          "2020/MT-SYSTEM",
          "2019/TELTONIKA",
          "2020/TELTONIKA",
          "2019/MT-SYSTEM",
          "2020/MT-SYSTEM",
          "2019/TELTONIKA",
          "2020/TELTONIKA",
          "2019/MT-SYSTEM",
          "2020/MT-SYSTEM",
          "2019/TELTONIKA",
          "2020/TELTONIKA",
          "2019/MT-SYSTEM",
          "2020/MT-SYSTEM",
          "2019/TELTONIKA",
          "2020/TELTONIKA",
          "2019/MT-SYSTEM",
          "2019/TELTONIKA",
          "2020/TELTONIKA",
          "2019/MT-SYSTEM",
          "2020/MT-SYSTEM",
          "2019/TELTONIKA",
          "2020/TELTONIKA",
          "2019/MT-SYSTEM",
          "2020/MT-SYSTEM",
          "2019/TELTONIKA",
          "2020/TELTONIKA",
          "2019/MT-SYSTEM",
          "2020/MT-SYSTEM",
          "2019/TELTONIKA",
          "2020/TELTONIKA",
          "2019",
          "2020",
          "2019",
          "2020",
          "",
          ""
         ],
         "type": "treemap",
         "values": [
          27735.04823,
          53870.37516,
          27787.64993,
          736.88181,
          18490.03215,
          18465.4105,
          32995.09816,
          55590.42798,
          16522.70248,
          907872,
          360606.4,
          297259.2,
          793324.1659599999,
          324240,
          66812.48945,
          68087.85807,
          196694.40000000002,
          132178.8711,
          63194.04327,
          425787.42821999994,
          1167062.4,
          656194.09284,
          280833.64996999997,
          517644.08159999986,
          458953.60000000003,
          445642.4,
          991313.2266099999,
          61418.45528,
          84529.86791999999,
          125363.97714,
          121036.6235,
          61703.40879,
          302931.53396,
          562587.1345,
          493714.43036999996,
          259655.60054,
          164571.47679,
          4387.09677,
          84438.17461999999,
          81007.05882,
          4198.29869,
          99968.17333,
          21057.31863,
          33072.60286,
          467853.05389,
          383680.23758,
          184622.10741,
          479312.84211,
          389130.03124,
          391917.68693,
          310433.14028,
          712170,
          1248072.8,
          1303884.3349600001,
          52978.5,
          339.25,
          330.62,
          345.97,
          2910.6,
          1341.25,
          1000.78,
          667.18,
          659.56,
          1048.99,
          1318.91,
          1060.58,
          1653.12,
          11998.759999999998,
          1939.06,
          11531.689999999999,
          17325,
          6844.5,
          19469.26,
          13211.439999999999,
          9746.75,
          12353.38,
          6747.75,
          3851.25,
          15366.88,
          7780.25,
          11746.439999999999,
          11317.25,
          15824.38,
          8147.75,
          2946.63,
          3237.18,
          1116.72,
          370.68,
          5544,
          2187.2400000000002,
          2570.7,
          1490.4,
          5398.2,
          745.2,
          1809.78,
          1437.96,
          1444.32,
          374.64,
          1413.36,
          2614.56,
          3179.58,
          3844.4799999999996,
          2730.2,
          1468.44,
          7623,
          3150.68,
          3668.7200000000003,
          5787.72,
          1919.36,
          1199.6,
          3594,
          3736.64,
          5181.4800000000005,
          1488.96,
          2832,
          6401.24,
          21543.53,
          9316.81,
          9989.83,
          21344.4,
          20530.36,
          9989.83,
          4359.66,
          9769.91,
          7117.11,
          4170.47,
          10096.55,
          14038.79,
          10096.55,
          6801.8,
          10031.87,
          20250.25,
          1551.25,
          15340.880000000001,
          26709.38,
          47448.130000000005,
          24063.75,
          9746.75,
          16494.5,
          26234.25,
          10146.5,
          21271.88,
          17951.5,
          25760.760000000002,
          15510,
          2947,
          1835.5500000000002,
          3465,
          2726.55,
          2762.25,
          2794.5,
          2699.1,
          3597.9,
          4493.7,
          2772.9,
          6313.5,
          1873.2,
          2650.05,
          2809.8,
          2649.6,
          1861.2,
          545.22,
          545.22,
          17151.75,
          3710.0699999999997,
          3180.06,
          6896.52,
          2162.52,
          558.45,
          1101.33,
          2079,
          2186.46,
          566.19,
          1079.64,
          1087.56,
          2158.56,
          553.68,
          2698.02,
          561.96,
          1050.9299999999998,
          1123.92,
          1120.3200000000002,
          554.85,
          2937.0600000000004,
          856.5899999999999,
          3638.25,
          1259.58,
          1708.9099999999999,
          1738.8,
          1679.44,
          869.4,
          2938.3900000000003,
          1259.58,
          1663.74,
          1267.1399999999999,
          874.16,
          1648.92,
          1748.32,
          2060.8,
          1737.12,
          1652,
          4851.9,
          1117.62,
          1112.04,
          8835.75,
          8678.52,
          2746.2599999999998,
          2699.1,
          1079.1,
          4312.8,
          541.62,
          1679.94,
          5300.1,
          1123.92,
          7418.97,
          1116.72,
          6903,
          1117.62,
          2224.08,
          4677.75,
          4380.4800000000005,
          1123.92,
          561.96,
          1675.08,
          529.92,
          1060.92,
          2217.6,
          3779.8199999999997,
          3336.12,
          2598.75,
          6575.849999999999,
          5030.1,
          1619.46,
          4449.06,
          3778.74,
          4988.52,
          4332.96,
          3353.94,
          2604.6,
          2809.8,
          3179.52,
          2791.8,
          5409.719999999999,
          2235.24,
          1062.72,
          1112.04,
          4677.75,
          5475.6,
          1668.06,
          4305.6,
          539.55,
          2718.9,
          1123.92,
          3180.0600000000004,
          1679.94,
          4239.54,
          6901.56,
          1623.42,
          558.45,
          556.02,
          3638.25,
          3278.34,
          556.02,
          563.85,
          1619.46,
          2159.28,
          3242.16,
          561.96,
          1580.94,
          1123.92,
          2649.6,
          558.36,
          1062,
          4847.85,
          1676.43,
          4362.48,
          7796.25,
          9856.08,
          1112.04,
          4858.38,
          4333.32,
          3252.5099999999998,
          5393.5199999999995,
          4394.610000000001,
          6862.86,
          1123.92,
          530.01,
          1116.72,
          10607.04,
          8096.7,
          13829.1,
          13860,
          15557.55,
          5589,
          13880.25,
          8097.3,
          10782,
          5619.6,
          14130.9,
          7492.8,
          4416.75,
          6526.2,
          898.5,
          931.35,
          930.6,
          1078.88,
          8397.9,
          6445.25,
          10106.25,
          6361.95,
          6445.25,
          6520.5,
          6297.9,
          1086.75,
          12593.7,
          1049.65,
          5391.75,
          13673.449999999999,
          2185.4,
          3091.73,
          7648.9,
          4342.8,
          557.82,
          555.21,
          863.1,
          1727.32,
          1295.49,
          863.1,
          1727.32,
          1295.49,
          5610.15,
          5610.15,
          863.1,
          867.72,
          1727.32,
          7213.05,
          2714.36,
          26420.63,
          19649.93,
          22942.35,
          25621.05,
          2658.04,
          657.14,
          657.14,
          1905.75,
          1295.36,
          29321.6,
          12723.9,
          4743.2,
          20055.949999999997,
          17740.8,
          20665.5,
          4281.45,
          9267,
          45391.5,
          25391.58,
          27618.57,
          23752.08,
          22044.239999999998,
          6312.9,
          3141.6,
          42687.630000000005,
          20884.98,
          26148.6,
          38213.28,
          27515.07,
          31971.39,
          17309.16,
          9381,
          15384.6,
          6303.02,
          5304.91,
          10609.83,
          8433.19,
          14304.490000000002,
          3358.88,
          3407.04,
          2509.08,
          3763.6200000000003,
          839.72,
          6872.25,
          1215.48,
          4945.92,
          7906.8,
          15652.970000000001,
          31444.89,
          12996.560000000001,
          12496.69,
          14532.21,
          27244.059999999998,
          1557.02,
          5451.85,
          6927.69,
          20817.07,
          19038.030000000002,
          13603.6,
          11172.48,
          12795.75,
          1945.52,
          75324.96,
          94499.25,
          62360.25,
          64869,
          158757.75,
          68547.59999999999,
          65795.7,
          68242.5,
          63342,
          4531.5,
          67758,
          58709.16,
          61383.6,
          63688.8,
          45050.85,
          65142,
          62350.2,
          69785.1,
          3108.72807,
          6104,
          18492,
          17922,
          114711.76000000001,
          296509.51,
          41701.5,
          180802.69,
          170281.13,
          220066.88,
          207222.75,
          101202.75,
          34076.25,
          67044.38,
          143535.38,
          62552.259999999995,
          134964.23,
          145874.92999999996,
          81739.13,
          115386.53,
          204412.95,
          106786.35,
          137470.5,
          33575.07901,
          41578.63385,
          1599.79515,
          8267.72185,
          1646.42702,
          10631.5585,
          1669.16015,
          94595.83480000001,
          6653.84657,
          69149.93504,
          81088.25806,
          84845.30500000001,
          216208.89604,
          156550.77919,
          79297.02886,
          679747.92047,
          668984.53876,
          342073.84615,
          392906.40423,
          187582.296,
          657309.75,
          14051.07256,
          138585.74523,
          672803.90631,
          929826.8684700001,
          569559.60622,
          6785.64346,
          542063.0079000001,
          203242.40501,
          146475.54321,
          210737.94212,
          401151.5520099999,
          841551.9490499999,
          617279.64,
          42049.25305,
          42264.76,
          596076.1607499999,
          1154569.09118,
          735683.09372,
          286707.65948,
          497878.25717999996,
          674341.3561,
          989424.15,
          347035.03557,
          553702.83199,
          1335564.04376,
          498857.6923,
          379526.40495999996,
          280324.66233,
          383890.87863000005,
          667428.53391,
          229267.25066,
          165942.48,
          549006.9,
          1050646.69885,
          203185.0983,
          116537.33995,
          85442.31685,
          6712.2083,
          48632.44711,
          207571.5,
          28034.47332,
          62257.85126,
          98182.00703000001,
          60448.695170000006,
          81427.72151999999,
          105424.00138,
          22544.17771,
          161194.36333999998,
          35122.99035,
          13598.3577,
          23648.24157,
          111125.44,
          35234.575,
          149072.80986,
          228240.57478999998,
          42040.61868,
          81916.47413,
          7114.46096,
          20858.85097,
          35023.398,
          62505.73033,
          56957.69482,
          42028.07761,
          84317.18897,
          70908.08597,
          35512.72962,
          20432.54505,
          21200.42647,
          21073.79421,
          20147.4,
          61579.9794,
          21195.07446,
          33530.382150000005,
          138381,
          41948.31994,
          27670.15612,
          6785.64346,
          21084.80028,
          21025.85499,
          13858.57452,
          7024.59807,
          41858.46000000001,
          35192.75,
          7075.66108,
          174456.1,
          77766.2033,
          79026.90972,
          80149.74736,
          80432.662,
          81007.05882,
          74776.31352,
          40074.87368,
          74776.31352,
          160299.49472,
          154201.422,
          158489.00388,
          187385.02793,
          76512.55814,
          81007.05882,
          76512.55814,
          10063.20256,
          62271.45,
          6831.569,
          57729.7175,
          13883.93774,
          13883.93774,
          14088.8475,
          3783.23746,
          7427.18452,
          13751.25,
          21664.82003,
          14666.60706,
          50551.24675,
          29746.56322,
          21395.57325,
          21395.57325,
          21948.785930000002,
          22216.17063,
          14167.827,
          131670.51267999999,
          178296.0416,
          111958.18471000002,
          65983.30248,
          130636.875,
          58701.593929999995,
          51260.8891,
          110190.67568000001,
          178364.24948,
          7083.9135,
          80789.68962,
          102416.30956,
          58678.46274,
          21758.63018,
          41966.25,
          13988.75,
          44488.47446,
          161187.75253,
          19475.07799,
          164394.77441,
          41093.73059,
          494.35954,
          66835.17763,
          153068.36708,
          158312.43781,
          294053.69863,
          160133.83378,
          21555.21236,
          21243.03286,
          27463.06892,
          33353.33448,
          53010,
          2122.92,
          154022.55286,
          1472.68519,
          4018.08361,
          472464,
          81240.38737,
          238843.2,
          240754.37237,
          479676.69895,
          1310277,
          436069.72632,
          790582.7,
          473448.80000000005,
          689218.39932,
          763122.0210599999,
          2578287,
          850335.96632,
          1431595.7000000002,
          129122.4,
          1951166.49228,
          64848,
          67099.29412,
          10932,
          3629.4,
          7197.6,
          3536.4,
          3536.4,
          5788,
          3726,
          21440.28,
          10727.1,
          11097,
          5788,
          10932,
          3629.4,
          7197.6,
          3536.4,
          28875,
          68734.4,
          73980,
          5788,
          22726.8,
          18630,
          11097,
          5353.11,
          5448.81,
          7712.42,
          6980.33,
          2572.47,
          25708.05,
          24978.3,
          39466.35,
          99913.2,
          5174.97,
          5074.06,
          2612.51,
          24625.66,
          18932.66,
          6352.83,
          9624.95476,
          35759.295,
          24612.09222,
          28559.508680000003,
          35577.87391,
          24815.53748,
          4699.3121,
          88578.5625,
          81835.91708,
          80805.56274,
          127438.427,
          118919.29694,
          9637.68,
          6425.12,
          32185.4,
          34291.92,
          22728.16,
          15308.800000000001,
          12475.84,
          16133,
          1619.46,
          24125.85,
          11574.36,
          1619.46,
          23277.24,
          11646.18,
          1619.46,
          2349.38,
          9267,
          17667,
          11583.75,
          8832,
          4683,
          17707.5,
          4734.75,
          33231.6,
          3346.92,
          14881.32,
          46585.530000000006,
          1699.11,
          4932.9,
          39923.28,
          10102.59,
          1795.5,
          6525.36,
          1704.51,
          14881.32,
          6477.84,
          8328.15,
          20021.04,
          6469.2,
          23258.34,
          11510.099999999999,
          1663.74,
          15172.92,
          3701.4,
          3152.52,
          3290.22,
          6645.24,
          1673.19,
          12410,
          3890.25,
          7797.4,
          8052.2,
          8144.5,
          7616.7,
          8141.9,
          38340.2532,
          21022.65,
          7249.13,
          132639.93,
          342547.37,
          14766.14,
          7797.4,
          158535.28,
          441438.23000000004,
          32648.2,
          41805.23,
          269860.82,
          399575.27,
          32018.030000000002,
          481678.63999999996,
          8451.529999999999,
          563454.34,
          8144.5,
          8471.130000000001,
          516100.60000000003,
          106006.53,
          2590.98,
          32952.59,
          120327.29999999999,
          55046.24,
          32215.260000000002,
          7884.799999999999,
          194416.42,
          105933.09,
          360468.09,
          16394.7,
          607054.52,
          200156.15,
          8141.9,
          15519.970000000001,
          137418.05,
          144541.38999999998,
          31862.33,
          375662.69000000006,
          298120.16000000003,
          25708.05,
          24978.3,
          5174.97,
          22726.8,
          92685.68,
          26938.06,
          18630,
          31583.96,
          31884.46,
          95527.79,
          114308.4,
          114613.52,
          7072.8,
          8061.320000000001,
          3536.4,
          38340.2532,
          514572.49380999996,
          544416.84879,
          1792327.24385,
          1499203.834,
          468958.54456999997,
          480168.87649999995,
          961131.14012,
          2262994.9507099995,
          350706.56831999996,
          149552.62704,
          1011282.1903999998,
          9789544.875,
          281980.86273000005,
          42085.545880000005,
          628245.0460199999,
          143010.54593,
          70796.36206,
          1467587.95943,
          2618104.42294,
          686308.0696,
          314962.18788,
          1333485.80604,
          2259834.8783600004,
          637625.27992,
          21057.31863,
          1150088.33061,
          331604.96993,
          848659.0238,
          810231.67284,
          544224.9963600001,
          928925.1299099999,
          1084383.51037,
          1055230.75711,
          546026.91329,
          233063.33733,
          1187134.15743,
          5756531.07,
          325834.49523,
          493714.43036999996,
          63998.03898,
          3327167.78996,
          831444.2538300001,
          636250.3979799999,
          1905088.7052499999,
          6776565.391,
          33231.6,
          8144.82,
          5051.43,
          24125.85,
          41337,
          3152.52,
          9267,
          17667,
          13183.019999999999,
          81892.31999999999,
          11583.75,
          21720.15,
          11646.18,
          6469.2,
          29903.58,
          18062.46,
          41587.02,
          8832,
          29298.079999999998,
          4683,
          17707.5,
          4734.75,
          594534.79381,
          584789.09879,
          1924967.17385,
          1841751.2040000001,
          493951.08457,
          512092.12649999995,
          1119666.42012,
          2704433.18071,
          447418.56831999996,
          287196.05704,
          1290410.0104,
          10206787.145,
          354119.97273000004,
          42085.545880000005,
          1109923.68602,
          233354.39592999997,
          70796.36206,
          1467587.95943,
          3193142.51294,
          734802.7196000001,
          323433.31788,
          1849586.40604,
          2365841.4083600007,
          683446.3999200001,
          92363.56863000001,
          1270415.6306100003,
          386651.20993,
          974090.3938,
          164586.12,
          818116.4728400001,
          738641.4163600001,
          1085125.66991,
          1190316.6003700001,
          1415698.8471099997,
          546026.91329,
          256530.83733,
          1794188.67743,
          5965519.220000001,
          371335.79523000005,
          512770.80036999995,
          206099.08898,
          3489416.67996,
          831444.2538300001,
          706452.9811799999,
          2285486.14525,
          7074685.551,
          6995530.988210001,
          3865131.242510002,
          15258926.131200004,
          40492492.061390005,
          22254457.119410004,
          44357623.303899996
         ]
        }
       ],
       "layout": {
        "coloraxis": {
         "colorbar": {
          "title": {
           "text": "Quantity"
          }
         },
         "colorscale": [
          [
           0,
           "rgb(103,0,31)"
          ],
          [
           0.1,
           "rgb(178,24,43)"
          ],
          [
           0.2,
           "rgb(214,96,77)"
          ],
          [
           0.3,
           "rgb(244,165,130)"
          ],
          [
           0.4,
           "rgb(253,219,199)"
          ],
          [
           0.5,
           "rgb(247,247,247)"
          ],
          [
           0.6,
           "rgb(209,229,240)"
          ],
          [
           0.7,
           "rgb(146,197,222)"
          ],
          [
           0.8,
           "rgb(67,147,195)"
          ],
          [
           0.9,
           "rgb(33,102,172)"
          ],
          [
           1,
           "rgb(5,48,97)"
          ]
         ]
        },
        "legend": {
         "tracegroupgap": 0
        },
        "margin": {
         "t": 60
        },
        "template": {
         "data": {
          "bar": [
           {
            "error_x": {
             "color": "#2a3f5f"
            },
            "error_y": {
             "color": "#2a3f5f"
            },
            "marker": {
             "line": {
              "color": "#E5ECF6",
              "width": 0.5
             }
            },
            "type": "bar"
           }
          ],
          "barpolar": [
           {
            "marker": {
             "line": {
              "color": "#E5ECF6",
              "width": 0.5
             }
            },
            "type": "barpolar"
           }
          ],
          "carpet": [
           {
            "aaxis": {
             "endlinecolor": "#2a3f5f",
             "gridcolor": "white",
             "linecolor": "white",
             "minorgridcolor": "white",
             "startlinecolor": "#2a3f5f"
            },
            "baxis": {
             "endlinecolor": "#2a3f5f",
             "gridcolor": "white",
             "linecolor": "white",
             "minorgridcolor": "white",
             "startlinecolor": "#2a3f5f"
            },
            "type": "carpet"
           }
          ],
          "choropleth": [
           {
            "colorbar": {
             "outlinewidth": 0,
             "ticks": ""
            },
            "type": "choropleth"
           }
          ],
          "contour": [
           {
            "colorbar": {
             "outlinewidth": 0,
             "ticks": ""
            },
            "colorscale": [
             [
              0,
              "#0d0887"
             ],
             [
              0.1111111111111111,
              "#46039f"
             ],
             [
              0.2222222222222222,
              "#7201a8"
             ],
             [
              0.3333333333333333,
              "#9c179e"
             ],
             [
              0.4444444444444444,
              "#bd3786"
             ],
             [
              0.5555555555555556,
              "#d8576b"
             ],
             [
              0.6666666666666666,
              "#ed7953"
             ],
             [
              0.7777777777777778,
              "#fb9f3a"
             ],
             [
              0.8888888888888888,
              "#fdca26"
             ],
             [
              1,
              "#f0f921"
             ]
            ],
            "type": "contour"
           }
          ],
          "contourcarpet": [
           {
            "colorbar": {
             "outlinewidth": 0,
             "ticks": ""
            },
            "type": "contourcarpet"
           }
          ],
          "heatmap": [
           {
            "colorbar": {
             "outlinewidth": 0,
             "ticks": ""
            },
            "colorscale": [
             [
              0,
              "#0d0887"
             ],
             [
              0.1111111111111111,
              "#46039f"
             ],
             [
              0.2222222222222222,
              "#7201a8"
             ],
             [
              0.3333333333333333,
              "#9c179e"
             ],
             [
              0.4444444444444444,
              "#bd3786"
             ],
             [
              0.5555555555555556,
              "#d8576b"
             ],
             [
              0.6666666666666666,
              "#ed7953"
             ],
             [
              0.7777777777777778,
              "#fb9f3a"
             ],
             [
              0.8888888888888888,
              "#fdca26"
             ],
             [
              1,
              "#f0f921"
             ]
            ],
            "type": "heatmap"
           }
          ],
          "heatmapgl": [
           {
            "colorbar": {
             "outlinewidth": 0,
             "ticks": ""
            },
            "colorscale": [
             [
              0,
              "#0d0887"
             ],
             [
              0.1111111111111111,
              "#46039f"
             ],
             [
              0.2222222222222222,
              "#7201a8"
             ],
             [
              0.3333333333333333,
              "#9c179e"
             ],
             [
              0.4444444444444444,
              "#bd3786"
             ],
             [
              0.5555555555555556,
              "#d8576b"
             ],
             [
              0.6666666666666666,
              "#ed7953"
             ],
             [
              0.7777777777777778,
              "#fb9f3a"
             ],
             [
              0.8888888888888888,
              "#fdca26"
             ],
             [
              1,
              "#f0f921"
             ]
            ],
            "type": "heatmapgl"
           }
          ],
          "histogram": [
           {
            "marker": {
             "colorbar": {
              "outlinewidth": 0,
              "ticks": ""
             }
            },
            "type": "histogram"
           }
          ],
          "histogram2d": [
           {
            "colorbar": {
             "outlinewidth": 0,
             "ticks": ""
            },
            "colorscale": [
             [
              0,
              "#0d0887"
             ],
             [
              0.1111111111111111,
              "#46039f"
             ],
             [
              0.2222222222222222,
              "#7201a8"
             ],
             [
              0.3333333333333333,
              "#9c179e"
             ],
             [
              0.4444444444444444,
              "#bd3786"
             ],
             [
              0.5555555555555556,
              "#d8576b"
             ],
             [
              0.6666666666666666,
              "#ed7953"
             ],
             [
              0.7777777777777778,
              "#fb9f3a"
             ],
             [
              0.8888888888888888,
              "#fdca26"
             ],
             [
              1,
              "#f0f921"
             ]
            ],
            "type": "histogram2d"
           }
          ],
          "histogram2dcontour": [
           {
            "colorbar": {
             "outlinewidth": 0,
             "ticks": ""
            },
            "colorscale": [
             [
              0,
              "#0d0887"
             ],
             [
              0.1111111111111111,
              "#46039f"
             ],
             [
              0.2222222222222222,
              "#7201a8"
             ],
             [
              0.3333333333333333,
              "#9c179e"
             ],
             [
              0.4444444444444444,
              "#bd3786"
             ],
             [
              0.5555555555555556,
              "#d8576b"
             ],
             [
              0.6666666666666666,
              "#ed7953"
             ],
             [
              0.7777777777777778,
              "#fb9f3a"
             ],
             [
              0.8888888888888888,
              "#fdca26"
             ],
             [
              1,
              "#f0f921"
             ]
            ],
            "type": "histogram2dcontour"
           }
          ],
          "mesh3d": [
           {
            "colorbar": {
             "outlinewidth": 0,
             "ticks": ""
            },
            "type": "mesh3d"
           }
          ],
          "parcoords": [
           {
            "line": {
             "colorbar": {
              "outlinewidth": 0,
              "ticks": ""
             }
            },
            "type": "parcoords"
           }
          ],
          "pie": [
           {
            "automargin": true,
            "type": "pie"
           }
          ],
          "scatter": [
           {
            "marker": {
             "colorbar": {
              "outlinewidth": 0,
              "ticks": ""
             }
            },
            "type": "scatter"
           }
          ],
          "scatter3d": [
           {
            "line": {
             "colorbar": {
              "outlinewidth": 0,
              "ticks": ""
             }
            },
            "marker": {
             "colorbar": {
              "outlinewidth": 0,
              "ticks": ""
             }
            },
            "type": "scatter3d"
           }
          ],
          "scattercarpet": [
           {
            "marker": {
             "colorbar": {
              "outlinewidth": 0,
              "ticks": ""
             }
            },
            "type": "scattercarpet"
           }
          ],
          "scattergeo": [
           {
            "marker": {
             "colorbar": {
              "outlinewidth": 0,
              "ticks": ""
             }
            },
            "type": "scattergeo"
           }
          ],
          "scattergl": [
           {
            "marker": {
             "colorbar": {
              "outlinewidth": 0,
              "ticks": ""
             }
            },
            "type": "scattergl"
           }
          ],
          "scattermapbox": [
           {
            "marker": {
             "colorbar": {
              "outlinewidth": 0,
              "ticks": ""
             }
            },
            "type": "scattermapbox"
           }
          ],
          "scatterpolar": [
           {
            "marker": {
             "colorbar": {
              "outlinewidth": 0,
              "ticks": ""
             }
            },
            "type": "scatterpolar"
           }
          ],
          "scatterpolargl": [
           {
            "marker": {
             "colorbar": {
              "outlinewidth": 0,
              "ticks": ""
             }
            },
            "type": "scatterpolargl"
           }
          ],
          "scatterternary": [
           {
            "marker": {
             "colorbar": {
              "outlinewidth": 0,
              "ticks": ""
             }
            },
            "type": "scatterternary"
           }
          ],
          "surface": [
           {
            "colorbar": {
             "outlinewidth": 0,
             "ticks": ""
            },
            "colorscale": [
             [
              0,
              "#0d0887"
             ],
             [
              0.1111111111111111,
              "#46039f"
             ],
             [
              0.2222222222222222,
              "#7201a8"
             ],
             [
              0.3333333333333333,
              "#9c179e"
             ],
             [
              0.4444444444444444,
              "#bd3786"
             ],
             [
              0.5555555555555556,
              "#d8576b"
             ],
             [
              0.6666666666666666,
              "#ed7953"
             ],
             [
              0.7777777777777778,
              "#fb9f3a"
             ],
             [
              0.8888888888888888,
              "#fdca26"
             ],
             [
              1,
              "#f0f921"
             ]
            ],
            "type": "surface"
           }
          ],
          "table": [
           {
            "cells": {
             "fill": {
              "color": "#EBF0F8"
             },
             "line": {
              "color": "white"
             }
            },
            "header": {
             "fill": {
              "color": "#C8D4E3"
             },
             "line": {
              "color": "white"
             }
            },
            "type": "table"
           }
          ]
         },
         "layout": {
          "annotationdefaults": {
           "arrowcolor": "#2a3f5f",
           "arrowhead": 0,
           "arrowwidth": 1
          },
          "coloraxis": {
           "colorbar": {
            "outlinewidth": 0,
            "ticks": ""
           }
          },
          "colorscale": {
           "diverging": [
            [
             0,
             "#8e0152"
            ],
            [
             0.1,
             "#c51b7d"
            ],
            [
             0.2,
             "#de77ae"
            ],
            [
             0.3,
             "#f1b6da"
            ],
            [
             0.4,
             "#fde0ef"
            ],
            [
             0.5,
             "#f7f7f7"
            ],
            [
             0.6,
             "#e6f5d0"
            ],
            [
             0.7,
             "#b8e186"
            ],
            [
             0.8,
             "#7fbc41"
            ],
            [
             0.9,
             "#4d9221"
            ],
            [
             1,
             "#276419"
            ]
           ],
           "sequential": [
            [
             0,
             "#0d0887"
            ],
            [
             0.1111111111111111,
             "#46039f"
            ],
            [
             0.2222222222222222,
             "#7201a8"
            ],
            [
             0.3333333333333333,
             "#9c179e"
            ],
            [
             0.4444444444444444,
             "#bd3786"
            ],
            [
             0.5555555555555556,
             "#d8576b"
            ],
            [
             0.6666666666666666,
             "#ed7953"
            ],
            [
             0.7777777777777778,
             "#fb9f3a"
            ],
            [
             0.8888888888888888,
             "#fdca26"
            ],
            [
             1,
             "#f0f921"
            ]
           ],
           "sequentialminus": [
            [
             0,
             "#0d0887"
            ],
            [
             0.1111111111111111,
             "#46039f"
            ],
            [
             0.2222222222222222,
             "#7201a8"
            ],
            [
             0.3333333333333333,
             "#9c179e"
            ],
            [
             0.4444444444444444,
             "#bd3786"
            ],
            [
             0.5555555555555556,
             "#d8576b"
            ],
            [
             0.6666666666666666,
             "#ed7953"
            ],
            [
             0.7777777777777778,
             "#fb9f3a"
            ],
            [
             0.8888888888888888,
             "#fdca26"
            ],
            [
             1,
             "#f0f921"
            ]
           ]
          },
          "colorway": [
           "#636efa",
           "#EF553B",
           "#00cc96",
           "#ab63fa",
           "#FFA15A",
           "#19d3f3",
           "#FF6692",
           "#B6E880",
           "#FF97FF",
           "#FECB52"
          ],
          "font": {
           "color": "#2a3f5f"
          },
          "geo": {
           "bgcolor": "white",
           "lakecolor": "white",
           "landcolor": "#E5ECF6",
           "showlakes": true,
           "showland": true,
           "subunitcolor": "white"
          },
          "hoverlabel": {
           "align": "left"
          },
          "hovermode": "closest",
          "mapbox": {
           "style": "light"
          },
          "paper_bgcolor": "white",
          "plot_bgcolor": "#E5ECF6",
          "polar": {
           "angularaxis": {
            "gridcolor": "white",
            "linecolor": "white",
            "ticks": ""
           },
           "bgcolor": "#E5ECF6",
           "radialaxis": {
            "gridcolor": "white",
            "linecolor": "white",
            "ticks": ""
           }
          },
          "scene": {
           "xaxis": {
            "backgroundcolor": "#E5ECF6",
            "gridcolor": "white",
            "gridwidth": 2,
            "linecolor": "white",
            "showbackground": true,
            "ticks": "",
            "zerolinecolor": "white"
           },
           "yaxis": {
            "backgroundcolor": "#E5ECF6",
            "gridcolor": "white",
            "gridwidth": 2,
            "linecolor": "white",
            "showbackground": true,
            "ticks": "",
            "zerolinecolor": "white"
           },
           "zaxis": {
            "backgroundcolor": "#E5ECF6",
            "gridcolor": "white",
            "gridwidth": 2,
            "linecolor": "white",
            "showbackground": true,
            "ticks": "",
            "zerolinecolor": "white"
           }
          },
          "shapedefaults": {
           "line": {
            "color": "#2a3f5f"
           }
          },
          "ternary": {
           "aaxis": {
            "gridcolor": "white",
            "linecolor": "white",
            "ticks": ""
           },
           "baxis": {
            "gridcolor": "white",
            "linecolor": "white",
            "ticks": ""
           },
           "bgcolor": "#E5ECF6",
           "caxis": {
            "gridcolor": "white",
            "linecolor": "white",
            "ticks": ""
           }
          },
          "title": {
           "x": 0.05
          },
          "xaxis": {
           "automargin": true,
           "gridcolor": "white",
           "linecolor": "white",
           "ticks": "",
           "title": {
            "standoff": 15
           },
           "zerolinecolor": "white",
           "zerolinewidth": 2
          },
          "yaxis": {
           "automargin": true,
           "gridcolor": "white",
           "linecolor": "white",
           "ticks": "",
           "title": {
            "standoff": 15
           },
           "zerolinecolor": "white",
           "zerolinewidth": 2
          }
         }
        }
       }
      },
      "text/html": [
       "<div>                            <div id=\"aaf19620-eefb-4558-999d-a1ac91e7a609\" class=\"plotly-graph-div\" style=\"height:525px; width:100%;\"></div>            <script type=\"text/javascript\">                require([\"plotly\"], function(Plotly) {                    window.PLOTLYENV=window.PLOTLYENV || {};                                    if (document.getElementById(\"aaf19620-eefb-4558-999d-a1ac91e7a609\")) {                    Plotly.newPlot(                        \"aaf19620-eefb-4558-999d-a1ac91e7a609\",                        [{\"branchvalues\": \"total\", \"customdata\": [[6000.0], [12000.0], [5999.999999999999], [2.0], [1000.0], [999.9999999999999], [1780.0], [3000.0], [500.0], [28000.0], [11000.0], [9000.0], [24000.0], [10000.0], [2000.0], [2000.0000000000002], [6000.000000000001], [4000.0], [1890.0], [12950.0], [36000.0], [20000.0], [8500.0], [15610.0], [14000.000000000002], [13500.0], [30000.0], [3000.0], [4080.0], [6160.0], [6000.0], [3000.0], [3500.0], [6500.0], [6000.0], [3000.0], [2000.0], [20.0], [1020.0000000000001], [1000.0], [15.0], [1300.0], [100.00000000000001], [400.0], [6000.0], [5000.0], [2480.0], [6000.0], [5000.0], [5000.0], [4170.0], [15000.0], [26000.0], [27000.000000000004], [1000.0], [10000.0], [10000.0], [10000.0], [90000.0], [40000.0], [30000.0], [20000.0], [20000.0], [30000.0], [40000.0], [30000.0], [50000.0], [320000.0], [50000.0], [300000.0], [480000.0], [180000.0], [510000.00000000006], [340000.00000000006], [260000.0], [320000.0], [180000.0], [100000.0], [410000.0], [200000.0], [320000.0], [290000.0], [430000.0], [210000.0], [80000.0], [90000.0], [30000.0], [10000.0], [160000.0], [60000.0], [70000.0], [40000.0], [150000.0], [20000.0], [50000.0], [40000.0], [40000.0], [10000.0], [40000.0], [70000.0], [90000.0], [64000.0], [44000.0], [24000.0], [132000.0], [52000.0], [60000.00000000001], [92000.0], [32000.0], [20000.0], [60000.0], [64000.0], [88000.0], [24000.0], [48000.0], [135000.0], [465000.0], [195000.0], [210000.0], [479999.99999999994], [435000.0], [210000.0], [90000.0], [210000.0], [150000.0], [90000.0], [210000.0], [315000.0], [210000.0], [150000.0], [210000.0], [270000.0], [20000.0], [200000.0], [370000.0], [620000.0], [310000.0], [130000.0], [220000.0], [350000.0], [130000.0], [290000.0], [230000.0], [350000.0], [200000.0], [40000.0], [19999.999999999996], [40000.0], [29999.999999999996], [30000.0], [30000.0], [30000.0], [40000.0], [50000.0], [30000.0], [70000.0], [20000.0], [29999.999999999996], [29999.999999999996], [30000.0], [20000.0], [10000.0], [10000.0], [330000.0], [70000.0], [60000.0], [129999.99999999999], [40000.0], [10000.0], [20000.0], [40000.0], [40000.0], [10000.0], [20000.0], [20000.0], [40000.0], [10000.0], [50000.0], [10000.0], [20000.0], [20000.0], [20000.0], [10000.0], [70000.0], [20000.000000000004], [90000.0], [30000.0], [40000.0], [40000.0], [40000.0], [20000.0], [70000.0], [30000.0], [30000.0], [29999.999999999996], [20000.0], [40000.0], [40000.0], [50000.0], [40000.0], [40000.0], [90000.0], [20000.0], [20000.0], [170000.0], [160000.0], [50000.00000000001], [50000.0], [20000.0], [80000.0], [10000.0], [30000.0], [100000.0], [20000.0], [140000.0], [20000.0], [130000.0], [20000.0], [40000.0], [90000.0], [80000.0], [20000.0], [10000.0], [30000.0], [10000.0], [20000.0], [40000.0], [70000.0], [60000.0], [50000.0], [119999.99999999999], [90000.0], [30000.0], [80000.0], [70000.0], [90000.0], [80000.0], [60000.0], [50000.0], [50000.0], [60000.0], [50000.0], [99999.99999999999], [40000.0], [20000.0], [20000.0], [90000.0], [100000.0], [30000.0], [80000.0], [10000.0], [50000.0], [20000.0], [60000.0], [30000.0], [80000.0], [129999.99999999999], [30000.0], [10000.0], [10000.0], [70000.0], [60000.0], [10000.0], [10000.0], [30000.0], [40000.0], [60000.0], [10000.0], [30000.0], [20000.0], [50000.0], [10000.0], [20000.0], [90000.0], [30000.0], [80000.0], [150000.0], [180000.0], [20000.0], [90000.0], [80000.0], [60000.00000000001], [100000.00000000001], [80000.0], [130000.0], [20000.0], [10000.0], [20000.0], [200000.0], [90000.0], [150000.0], [160000.0], [170000.0], [60000.0], [150000.0], [90000.0], [120000.0], [59999.99999999999], [160000.0], [80000.0], [50000.0], [70000.0], [10000.0], [10000.0], [10000.0], [10000.0], [80000.0], [60000.0], [100000.0], [60000.0], [60000.0], [60000.0], [60000.0], [10000.0], [120000.0], [10000.0], [50000.0], [130000.0], [20000.0], [30000.0], [70000.0], [40000.0], [3999.9999999999995], [3999.9999999999995], [8000.0], [16000.0], [12000.0], [8000.0], [16000.0], [12000.0], [52000.0], [52000.0], [8000.0], [8000.0], [16000.0], [52000.0], [16000.0], [183000.0], [129000.0], [153000.0], [174000.0], [40000.0], [10000.0], [10000.0], [30000.0], [20000.0], [272000.0], [168000.0], [44000.0], [264000.0], [384000.0], [460000.0], [92000.0], [200000.0], [1048000.0], [548000.0], [592000.0], [528000.0], [475999.99999999994], [140000.0], [68000.0], [940000.0000000001], [452000.0], [584000.0], [816000.0], [624000.0], [724000.0], [372000.0], [212000.0], [144000.0], [55999.99999999999], [48000.0], [96000.0], [76000.0], [132000.0], [32000.0], [32000.0], [24000.0], [36000.0], [8000.0], [68000.0], [12000.0], [48000.0], [48000.0], [93000.0], [198000.0], [78000.0], [75000.0], [84000.0], [165000.0], [9000.0], [33000.0], [42000.0], [126000.0], [111000.0], [84000.0], [69000.0], [75000.0], [12000.0], [204000.0], [315000.0], [201000.0], [210000.0], [549000.0], [222000.0], [213000.0], [219000.0], [204000.0], [15000.0], [222000.0], [159000.0], [204000.0], [204000.0], [153000.0], [210000.0], [201000.0], [231000.0], [10.0], [4000.0], [12000.0], [12000.0], [85000.0], [220000.0], [30000.0], [132500.0], [122500.0], [157500.0], [147500.0], [72500.0], [25000.0], [48000.0], [106500.0], [45000.00000000001], [99000.0], [105000.0], [58500.0], [85500.0], [145500.0], [76500.0], [102000.0], [3999.9999999999995], [5000.0], [100.0], [1000.0], [100.0], [1250.0], [200.0], [11600.0], [800.0], [8400.0], [10000.0], [10200.0], [26000.0], [20000.0], [10000.0], [97000.0], [98000.0], [48000.0], [58000.0], [27000.0], [95000.0], [2000.0], [20000.0], [96000.0], [133800.0], [80000.0], [1000.0], [77000.0], [29000.0], [21100.0], [30000.0], [59000.0], [121000.0], [88000.0], [6000.0], [6000.0], [84000.0], [172000.0], [105000.00000000001], [42000.0], [70000.0], [97100.0], [143000.0], [50000.0], [79000.0], [192350.0], [70000.0], [54000.0], [40000.0], [55300.0], [95000.0], [33000.0], [24000.0], [78000.0], [148150.0], [29000.000000000004], [17000.0], [12000.0], [999.9999999999999], [6999.999999999999], [30000.0], [4000.0], [9000.0], [14000.0], [8700.0], [12000.0], [15000.0], [3300.0], [23000.0], [5000.0], [2000.0], [3400.0], [16000.0], [5000.0], [21000.0], [34000.0], [6000.0], [12000.0], [1000.0], [3000.0], [5000.0], [9000.0], [8000.000000000001], [6000.0], [12000.0], [10200.0], [5000.0], [3000.0], [3000.0], [3000.0], [3000.0], [9000.0], [3000.0], [5000.0], [20000.0], [6000.0], [4000.0], [1000.0], [3000.0], [3000.0], [2000.0], [1000.0], [6000.0], [5000.0], [1000.0], [26000.0], [10000.0], [10000.0], [10000.0], [10000.0], [10000.0], [10000.0], [5000.0], [10000.0], [20000.0], [20000.0], [20000.0], [24000.000000000004], [10000.0], [10000.0], [10000.0], [1500.0], [9000.0], [999.9999999999999], [8600.0], [2000.0000000000002], [2000.0000000000002], [2100.0], [350.0], [1000.0], [2000.0], [3000.0], [2000.0], [7000.0], [4000.0], [3000.0], [3000.0], [3000.0], [3000.0], [2000.0], [18000.0], [25000.0], [16000.000000000002], [9100.0], [19000.0], [8100.0], [7000.0], [15200.0], [24000.0], [1000.0], [11000.0], [14000.0], [8000.0], [3000.0], [6000.0], [2000.0], [6000.0], [23000.0], [2000.0], [16562.0], [4140.0], [20.0], [6460.0], [15999.999999999998], [16000.0], [30000.0], [15999.999999999998], [2000.0000000000002], [2000.0], [2499.9999999999995], [3100.0], [5000.0], [200.0], [14499.999999999998], [50.0], [100.0], [12000.0], [1999.9999999999998], [6000.0], [6000.0], [22000.0], [62000.0], [20000.0], [37000.0], [22000.000000000004], [32000.0], [35000.0], [122000.0], [39000.0], [67000.0], [6000.0], [90000.0], [2000.0], [2000.0], [15000.0], [5000.0], [10000.0], [5000.0], [5000.0], [10000.0], [5000.0], [20000.0], [10000.0], [15000.0], [10000.0], [15000.0], [5000.0], [10000.0], [5000.0], [50000.0], [100000.0], [100000.0], [10000.0], [30000.0], [25000.0], [15000.0], [5000.0], [5000.0], [9000.0], [9000.0], [3000.0], [30000.0], [30000.0], [51000.0], [120000.0], [6000.0], [6000.0], [3000.0], [12000.0], [9000.0], [3000.0], [400.0], [1500.0], [1000.0], [1140.0], [1440.0], [1000.0], [200.0], [10800.0], [10000.0], [10000.0], [15600.0], [14400.0], [12000.0], [8000.0], [40000.0], [44000.0], [28000.0], [20000.0], [16000.0], [20000.0], [3000.0], [45000.0], [21000.0], [3000.0], [42000.0], [21000.0], [3000.0], [3000.0], [12000.0], [24000.0], [15000.0], [12000.0], [6000.0], [24000.0], [6000.0], [60000.0], [6000.0], [27000.0], [84000.0], [3000.0], [9000.0], [72000.0], [18000.0], [3000.0], [12000.0], [3000.0], [27000.0], [12000.0], [15000.0], [36000.0], [12000.0], [42000.0], [21000.0], [3000.0], [27000.0], [6000.0], [6000.0], [6000.0], [12000.0], [3000.0], [2000.0], [2000.0], [4000.0], [4000.0], [4000.0], [4000.0], [4000.0], [1.0], [46580.64516129032], [15900.481850925558], [234646.1049851278], [212243.41620255326], [2932.319482274989], [4000.0], [116376.05232097235], [182456.26521744614], [8531.214584571278], [168647.7431173085], [121879.82408858018], [462713.89010135684], [96919.04748668171], [143002.417327453], [15211.67883211679], [201171.90369853217], [4000.0], [37943.580136298224], [169590.52057873987], [220022.6944509928], [12000.0], [41746.927934951396], [248181.77437705328], [101008.25505974612], [129063.67199892225], [53562.50000000001], [348035.7033629156], [199037.42258438794], [174337.25053166287], [33849.49404380684], [186681.66549521775], [223527.3752018112], [4000.0], [122601.94059653467], [181933.35664419632], [304823.05282936606], [148180.43940917062], [116453.20103521591], [129141.42669855], [30000.0], [30000.0], [6000.0], [30000.0], [39844.308419596215], [13304.757655154082], [25000.0], [6832.577042270824], [10406.383548600164], [76721.24677018069], [106147.3697471052], [68993.54264662668], [5000.0], [4351.840641483033], [5000.0], [1.0], [5814.5908847696255], [6218.227573647024], [84636.86217889434], [57231.58030664448], [3860.9687224493723], [7759.8753364469685], [54492.51938951941], [29870.27773219318], [14089.584251844788], [10000.0], [70775.97920687955], [71402.39333904683], [19840.18454244127], [3332.26136117781], [33783.41755310448], [7112.351563806103], [8206.976744731337], [75308.06754627204], [146911.97716911373], [5897.563649139118], [12915.937969131433], [63997.82912649923], [24973.71458890699], [8482.844435369043], [100.00000000000001], [56369.739642975466], [7637.099348880677], [14021.802526481542], [27848.283048095218], [44737.96106730888], [13881.666748175447], [65894.53196561338], [30400.289182624696], [4943.047954415602], [16717.091627686426], [92881.2862518478], [40210.47421185898], [13310.755998737784], [6000.0], [4971.119133656929], [29617.879810655635], [7606.894306737817], [5002.254403039707], [109901.68228677945], [68744.23426310149], [60000.0], [10210.501889544521], [4987.706451440483], [45000.0], [25320.0], [6000.0], [12000.0], [24000.0], [8171.1383279400325], [61519.31280002815], [15000.0], [33418.49710982659], [21000.0], [12000.0], [35333.33333333333], [16108.912075099406], [69239.56994273694], [12000.0], [20601.458184290575], [6000.0], [24000.0], [6000.0], [11330.564169157116], [7409.652864031975], [94973.25426675353], [86062.2370151578], [3867.1403755961387], [9457.094185731052], [63254.70341538817], [54776.527484908], [15529.743005771907], [42680.933807850866], [81041.1262367854], [86639.40540566648], [25877.76649070002], [3332.26136117781], [81181.68460163788], [26499.018650760416], [8206.976744731337], [75308.06754627204], [156008.0183285191], [7174.3451034769405], [13571.4437524602], [93461.95755875463], [33713.29682047868], [8633.211672942689], [19349.701168676034], [74537.1989302763], [20930.038603533925], [20824.898472620785], [100751.6449746795], [28096.11017852635], [124568.39021082643], [21824.282573077813], [77743.68017575728], [67049.80800070436], [4943.047954415602], [17488.95965840022], [124618.16259807788], [46319.38927522221], [13487.349930475542], [9522.279776260188], [122985.34215524702], [40989.13846957353], [7606.894306737817], [11188.428622357957], [110763.29882753531], [71289.31143191806], [13001.17474457946], [18423.936288778423], [88738.26420728545], [73537.07597563666], [64930.84650887343], [68734.75560294518]], \"domain\": {\"x\": [0.0, 1.0], \"y\": [0.0, 1.0]}, \"hovertemplate\": \"labels=%{label}<br>Revenue in NTD=%{value}<br>parent=%{parent}<br>id=%{id}<br>Quantity=%{color}<extra></extra>\", \"ids\": [\"2019/MT-SYSTEM/April/RF/ACM4-5036-A1-CC-S Taping\", \"2020/MT-SYSTEM/April/RF/ACM4-5036-A1-CC-S Taping\", \"2019/MT-SYSTEM/January/RF/ACM4-5036-A1-CC-S Taping\", \"2020/MT-SYSTEM/September/RF/B3G02G-S3-01-A\", \"2019/MT-SYSTEM/April/RF/DAM-P1-D-N0-000-08-02\", \"2019/MT-SYSTEM/January/RF/DAM-P1-D-N0-000-08-02\", \"2019/MT-SYSTEM/March/RF/DAM-P1-D-N0-000-08-02\", \"2019/MT-SYSTEM/May/RF/DAM-P1-D-N0-000-08-02\", \"2020/TELTONIKA/August/RF/DAM-P11-B-R2-015-10-49\", \"2020/TELTONIKA/December/RF/DAM-P11-B-R2-015-10-49\", \"2020/TELTONIKA/November/RF/DAM-P11-B-R2-015-10-49\", \"2020/TELTONIKA/October/RF/DAM-P11-B-R2-015-10-49\", \"2020/TELTONIKA/September/RF/DAM-P11-B-R2-015-10-49\", \"2020/TELTONIKA/December/RF/DAM-P11-B-R2-015-10-50\", \"2020/TELTONIKA/July/RF/DAM-P11-B-R2-015-10-50\", \"2020/TELTONIKA/May/RF/DAM-P11-B-R2-015-10-50\", \"2020/TELTONIKA/November/RF/DAM-P11-B-R2-015-10-50\", \"2020/TELTONIKA/September/RF/DAM-P11-B-R2-015-10-50\", \"2020/TELTONIKA/April/RF/DAM-P11-E1-R2-003-22-03\", \"2020/TELTONIKA/August/RF/DAM-P11-E1-R2-003-22-03\", \"2020/TELTONIKA/December/RF/DAM-P11-E1-R2-003-22-03\", \"2020/TELTONIKA/July/RF/DAM-P11-E1-R2-003-22-03\", \"2020/TELTONIKA/June/RF/DAM-P11-E1-R2-003-22-03\", \"2020/TELTONIKA/May/RF/DAM-P11-E1-R2-003-22-03\", \"2020/TELTONIKA/November/RF/DAM-P11-E1-R2-003-22-03\", \"2020/TELTONIKA/October/RF/DAM-P11-E1-R2-003-22-03\", \"2020/TELTONIKA/September/RF/DAM-P11-E1-R2-003-22-03\", \"2019/MT-SYSTEM/August/RF/DAM-P2-D-N0-000-08-02\", \"2019/MT-SYSTEM/July/RF/DAM-P2-D-N0-000-08-02\", \"2019/MT-SYSTEM/May/RF/DAM-P2-D-N0-000-08-02\", \"2019/MT-SYSTEM/November/RF/DAM-P2-D-N0-000-08-02\", \"2019/MT-SYSTEM/September/RF/DAM-P2-D-N0-000-08-02\", \"2019/MT-SYSTEM/August/RF/GNS01U7W-S6-00-A\", \"2019/MT-SYSTEM/July/RF/GNS01U7W-S6-00-A\", \"2020/MT-SYSTEM/October/RF/GNS01U7W-S6-00-A\", \"2019/MT-SYSTEM/September/RF/GNS01U7W-S6-00-A\", \"2020/MT-SYSTEM/September/RF/GNS01U7W-S6-00-A\", \"2019/MT-SYSTEM/March/RF/GNS01U7W-S6-03-A\", \"2019/MT-SYSTEM/May/RF/GNS01U7W-S6-03-A\", \"2019/MT-SYSTEM/September/RF/GNS01U7W-S6-03-A\", \"2019/MT-SYSTEM/August/RF/GNS01U7W-S6-05-A\", \"2020/MT-SYSTEM/August/RF/GNS01U7W-S6-06-A\", \"2020/MT-SYSTEM/June/RF/GNS01U7W-S6-06-A\", \"2019/MT-SYSTEM/November/RF/GPSGLONASS03D-S6-01-A\", \"2019/MT-SYSTEM/April/RF/GPSGLONASS45D-S6-00-A\", \"2020/MT-SYSTEM/April/RF/GPSGLONASS45D-S6-00-A\", \"2020/MT-SYSTEM/August/RF/GPSGLONASS45D-S6-00-A\", \"2019/MT-SYSTEM/June/RF/GPSGLONASS45D-S6-00-A\", \"2019/MT-SYSTEM/March/RF/GPSGLONASS45D-S6-00-A\", \"2019/MT-SYSTEM/November/RF/GPSGLONASS45D-S6-00-A\", \"2020/MT-SYSTEM/September/RF/GPSGLONASS45D-S6-00-A\", \"2020/TELTONIKA/December/RF/GPSGLONASSU10N-N6-0022-A\", \"2020/TELTONIKA/November/RF/GPSGLONASSU10N-N6-0022-A\", \"2020/TELTONIKA/October/RF/GPSGLONASSU10N-N6-0022-A\", \"2020/TELTONIKA/December/RF/GPSGLONASSU10N-N6-0420-A\", \"2020/TELTONIKA/April/EMC/MCB1005B102GBP\", \"2020/TELTONIKA/August/EMC/MCB1005B102GBP\", \"2019/TELTONIKA/December/EMC/MCB1005B102GBP\", \"2020/TELTONIKA/December/EMC/MCB1005B102GBP\", \"2020/TELTONIKA/July/EMC/MCB1005B102GBP\", \"2020/TELTONIKA/June/EMC/MCB1005B102GBP\", \"2020/TELTONIKA/May/EMC/MCB1005B102GBP\", \"2020/TELTONIKA/November/EMC/MCB1005B102GBP\", \"2019/TELTONIKA/October/EMC/MCB1005B102GBP\", \"2020/TELTONIKA/October/EMC/MCB1005B102GBP\", \"2019/TELTONIKA/September/EMC/MCB1005B102GBP\", \"2020/TELTONIKA/September/EMC/MCB1005B102GBP\", \"2020/TELTONIKA/April/EMC/MCB1005S102FBP\", \"2019/TELTONIKA/August/EMC/MCB1005S102FBP\", \"2019/TELTONIKA/December/EMC/MCB1005S102FBP\", \"2020/TELTONIKA/December/EMC/MCB1005S102FBP\", \"2020/TELTONIKA/February/EMC/MCB1005S102FBP\", \"2020/TELTONIKA/January/EMC/MCB1005S102FBP\", \"2019/TELTONIKA/July/EMC/MCB1005S102FBP\", \"2020/TELTONIKA/July/EMC/MCB1005S102FBP\", \"2019/TELTONIKA/June/EMC/MCB1005S102FBP\", \"2020/TELTONIKA/March/EMC/MCB1005S102FBP\", \"2019/TELTONIKA/May/EMC/MCB1005S102FBP\", \"2020/TELTONIKA/May/EMC/MCB1005S102FBP\", \"2019/TELTONIKA/November/EMC/MCB1005S102FBP\", \"2020/TELTONIKA/November/EMC/MCB1005S102FBP\", \"2019/TELTONIKA/October/EMC/MCB1005S102FBP\", \"2020/TELTONIKA/October/EMC/MCB1005S102FBP\", \"2019/TELTONIKA/September/EMC/MCB1005S102FBP\", \"2020/TELTONIKA/September/EMC/MCB1005S102FBP\", \"2020/TELTONIKA/April/EMC/MCB1005S300FBP\", \"2019/TELTONIKA/August/EMC/MCB1005S300FBP\", \"2019/TELTONIKA/December/EMC/MCB1005S300FBP\", \"2020/TELTONIKA/December/EMC/MCB1005S300FBP\", \"2020/TELTONIKA/February/EMC/MCB1005S300FBP\", \"2020/TELTONIKA/January/EMC/MCB1005S300FBP\", \"2019/TELTONIKA/July/EMC/MCB1005S300FBP\", \"2020/TELTONIKA/July/EMC/MCB1005S300FBP\", \"2019/TELTONIKA/June/EMC/MCB1005S300FBP\", \"2020/TELTONIKA/June/EMC/MCB1005S300FBP\", \"2020/TELTONIKA/March/EMC/MCB1005S300FBP\", \"2020/TELTONIKA/May/EMC/MCB1005S300FBP\", \"2019/TELTONIKA/November/EMC/MCB1005S300FBP\", \"2020/TELTONIKA/November/EMC/MCB1005S300FBP\", \"2019/TELTONIKA/October/EMC/MCB1005S300FBP\", \"2020/TELTONIKA/October/EMC/MCB1005S300FBP\", \"2020/TELTONIKA/April/EMC/MCB1608S152HBP\", \"2019/TELTONIKA/August/EMC/MCB1608S152HBP\", \"2019/TELTONIKA/December/EMC/MCB1608S152HBP\", \"2020/TELTONIKA/December/EMC/MCB1608S152HBP\", \"2020/TELTONIKA/February/EMC/MCB1608S152HBP\", \"2020/TELTONIKA/January/EMC/MCB1608S152HBP\", \"2019/TELTONIKA/July/EMC/MCB1608S152HBP\", \"2020/TELTONIKA/July/EMC/MCB1608S152HBP\", \"2020/TELTONIKA/March/EMC/MCB1608S152HBP\", \"2020/TELTONIKA/May/EMC/MCB1608S152HBP\", \"2020/TELTONIKA/November/EMC/MCB1608S152HBP\", \"2020/TELTONIKA/October/EMC/MCB1608S152HBP\", \"2019/TELTONIKA/September/EMC/MCB1608S152HBP\", \"2020/TELTONIKA/September/EMC/MCB1608S152HBP\", \"2019/TELTONIKA/April/EMC/MCI0603TG3N0CHBP\", \"2020/TELTONIKA/April/EMC/MCI0603TG3N0CHBP\", \"2019/TELTONIKA/August/EMC/MCI0603TG3N0CHBP\", \"2019/TELTONIKA/December/EMC/MCI0603TG3N0CHBP\", \"2020/TELTONIKA/December/EMC/MCI0603TG3N0CHBP\", \"2020/TELTONIKA/February/EMC/MCI0603TG3N0CHBP\", \"2020/TELTONIKA/January/EMC/MCI0603TG3N0CHBP\", \"2019/TELTONIKA/July/EMC/MCI0603TG3N0CHBP\", \"2020/TELTONIKA/June/EMC/MCI0603TG3N0CHBP\", \"2019/TELTONIKA/May/EMC/MCI0603TG3N0CHBP\", \"2020/TELTONIKA/May/EMC/MCI0603TG3N0CHBP\", \"2019/TELTONIKA/November/EMC/MCI0603TG3N0CHBP\", \"2020/TELTONIKA/November/EMC/MCI0603TG3N0CHBP\", \"2019/TELTONIKA/October/EMC/MCI0603TG3N0CHBP\", \"2020/TELTONIKA/October/EMC/MCI0603TG3N0CHBP\", \"2019/TELTONIKA/September/EMC/MCI0603TG3N0CHBP\", \"2020/TELTONIKA/April/EMC/MCI1005HQ10NGHBP\", \"2019/TELTONIKA/August/EMC/MCI1005HQ10NGHBP\", \"2019/TELTONIKA/December/EMC/MCI1005HQ10NGHBP\", \"2020/TELTONIKA/December/EMC/MCI1005HQ10NGHBP\", \"2020/TELTONIKA/January/EMC/MCI1005HQ10NGHBP\", \"2019/TELTONIKA/July/EMC/MCI1005HQ10NGHBP\", \"2020/TELTONIKA/July/EMC/MCI1005HQ10NGHBP\", \"2020/TELTONIKA/March/EMC/MCI1005HQ10NGHBP\", \"2020/TELTONIKA/May/EMC/MCI1005HQ10NGHBP\", \"2019/TELTONIKA/November/EMC/MCI1005HQ10NGHBP\", \"2020/TELTONIKA/November/EMC/MCI1005HQ10NGHBP\", \"2019/TELTONIKA/October/EMC/MCI1005HQ10NGHBP\", \"2020/TELTONIKA/October/EMC/MCI1005HQ10NGHBP\", \"2019/TELTONIKA/September/EMC/MCI1005HQ10NGHBP\", \"2020/TELTONIKA/September/EMC/MCI1005HQ10NGHBP\", \"2019/TELTONIKA/December/EMC/MCI1005HQ10NJHBP\", \"2020/TELTONIKA/December/EMC/MCI1005HQ10NJHBP\", \"2020/TELTONIKA/February/EMC/MCI1005HQ10NJHBP\", \"2020/TELTONIKA/January/EMC/MCI1005HQ10NJHBP\", \"2019/TELTONIKA/July/EMC/MCI1005HQ10NJHBP\", \"2020/TELTONIKA/July/EMC/MCI1005HQ10NJHBP\", \"2020/TELTONIKA/June/EMC/MCI1005HQ10NJHBP\", \"2020/TELTONIKA/March/EMC/MCI1005HQ10NJHBP\", \"2019/TELTONIKA/May/EMC/MCI1005HQ10NJHBP\", \"2020/TELTONIKA/May/EMC/MCI1005HQ10NJHBP\", \"2019/TELTONIKA/November/EMC/MCI1005HQ10NJHBP\", \"2020/TELTONIKA/November/EMC/MCI1005HQ10NJHBP\", \"2019/TELTONIKA/October/EMC/MCI1005HQ10NJHBP\", \"2020/TELTONIKA/October/EMC/MCI1005HQ10NJHBP\", \"2019/TELTONIKA/September/EMC/MCI1005HQ10NJHBP\", \"2020/TELTONIKA/April/EMC/MCI1005HQ1N0SHBP\", \"2020/TELTONIKA/March/EMC/MCI1005HQ1N0SHBP\", \"2020/TELTONIKA/December/EMC/MCI1005HQ1N2BHBP\", \"2020/TELTONIKA/November/EMC/MCI1005HQ1N2BHBP\", \"2020/TELTONIKA/October/EMC/MCI1005HQ1N2BHBP\", \"2020/TELTONIKA/September/EMC/MCI1005HQ1N2BHBP\", \"2020/TELTONIKA/April/EMC/MCI1005HQ1N2SHBP\", \"2019/TELTONIKA/August/EMC/MCI1005HQ1N2SHBP\", \"2019/TELTONIKA/December/EMC/MCI1005HQ1N2SHBP\", \"2020/TELTONIKA/December/EMC/MCI1005HQ1N2SHBP\", \"2020/TELTONIKA/January/EMC/MCI1005HQ1N2SHBP\", \"2019/TELTONIKA/July/EMC/MCI1005HQ1N2SHBP\", \"2020/TELTONIKA/July/EMC/MCI1005HQ1N2SHBP\", \"2020/TELTONIKA/June/EMC/MCI1005HQ1N2SHBP\", \"2020/TELTONIKA/March/EMC/MCI1005HQ1N2SHBP\", \"2019/TELTONIKA/May/EMC/MCI1005HQ1N2SHBP\", \"2020/TELTONIKA/May/EMC/MCI1005HQ1N2SHBP\", \"2019/TELTONIKA/November/EMC/MCI1005HQ1N2SHBP\", \"2020/TELTONIKA/November/EMC/MCI1005HQ1N2SHBP\", \"2019/TELTONIKA/October/EMC/MCI1005HQ1N2SHBP\", \"2019/TELTONIKA/September/EMC/MCI1005HQ1N2SHBP\", \"2019/TELTONIKA/April/EMC/MCI1005HQ1N5SHBP\", \"2020/TELTONIKA/April/EMC/MCI1005HQ1N5SHBP\", \"2019/TELTONIKA/December/EMC/MCI1005HQ1N5SHBP\", \"2020/TELTONIKA/December/EMC/MCI1005HQ1N5SHBP\", \"2020/TELTONIKA/February/EMC/MCI1005HQ1N5SHBP\", \"2020/TELTONIKA/January/EMC/MCI1005HQ1N5SHBP\", \"2019/TELTONIKA/July/EMC/MCI1005HQ1N5SHBP\", \"2020/TELTONIKA/July/EMC/MCI1005HQ1N5SHBP\", \"2019/TELTONIKA/June/EMC/MCI1005HQ1N5SHBP\", \"2020/TELTONIKA/June/EMC/MCI1005HQ1N5SHBP\", \"2020/TELTONIKA/March/EMC/MCI1005HQ1N5SHBP\", \"2019/TELTONIKA/May/EMC/MCI1005HQ1N5SHBP\", \"2020/TELTONIKA/May/EMC/MCI1005HQ1N5SHBP\", \"2019/TELTONIKA/November/EMC/MCI1005HQ1N5SHBP\", \"2020/TELTONIKA/November/EMC/MCI1005HQ1N5SHBP\", \"2019/TELTONIKA/October/EMC/MCI1005HQ1N5SHBP\", \"2020/TELTONIKA/October/EMC/MCI1005HQ1N5SHBP\", \"2019/TELTONIKA/September/EMC/MCI1005HQ1N5SHBP\", \"2020/TELTONIKA/September/EMC/MCI1005HQ1N5SHBP\", \"2020/TELTONIKA/April/EMC/MCI1005HQ1N8BHBP\", \"2019/TELTONIKA/August/EMC/MCI1005HQ1N8BHBP\", \"2019/TELTONIKA/December/EMC/MCI1005HQ1N8BHBP\", \"2020/TELTONIKA/December/EMC/MCI1005HQ1N8BHBP\", \"2020/TELTONIKA/February/EMC/MCI1005HQ1N8BHBP\", \"2020/TELTONIKA/January/EMC/MCI1005HQ1N8BHBP\", \"2020/TELTONIKA/July/EMC/MCI1005HQ1N8BHBP\", \"2020/TELTONIKA/June/EMC/MCI1005HQ1N8BHBP\", \"2020/TELTONIKA/March/EMC/MCI1005HQ1N8BHBP\", \"2020/TELTONIKA/May/EMC/MCI1005HQ1N8BHBP\", \"2019/TELTONIKA/November/EMC/MCI1005HQ1N8BHBP\", \"2020/TELTONIKA/November/EMC/MCI1005HQ1N8BHBP\", \"2019/TELTONIKA/October/EMC/MCI1005HQ1N8BHBP\", \"2020/TELTONIKA/October/EMC/MCI1005HQ1N8BHBP\", \"2019/TELTONIKA/September/EMC/MCI1005HQ1N8BHBP\", \"2020/TELTONIKA/September/EMC/MCI1005HQ1N8BHBP\", \"2019/TELTONIKA/August/EMC/MCI1005HQ2N2BHBP\", \"2019/TELTONIKA/December/EMC/MCI1005HQ2N2BHBP\", \"2020/TELTONIKA/December/EMC/MCI1005HQ2N2BHBP\", \"2020/TELTONIKA/February/EMC/MCI1005HQ2N2BHBP\", \"2019/TELTONIKA/November/EMC/MCI1005HQ2N2BHBP\", \"2019/TELTONIKA/October/EMC/MCI1005HQ2N2BHBP\", \"2019/TELTONIKA/September/EMC/MCI1005HQ2N2BHBP\", \"2020/TELTONIKA/October/EMC/MCI1005HQ2N7BHBP\", \"2020/TELTONIKA/September/EMC/MCI1005HQ2N7BHBP\", \"2019/TELTONIKA/April/EMC/MCI1005HQ3N3BHBP\", \"2020/TELTONIKA/April/EMC/MCI1005HQ3N3BHBP\", \"2019/TELTONIKA/December/EMC/MCI1005HQ3N3BHBP\", \"2020/TELTONIKA/December/EMC/MCI1005HQ3N3BHBP\", \"2020/TELTONIKA/January/EMC/MCI1005HQ3N3BHBP\", \"2019/TELTONIKA/July/EMC/MCI1005HQ3N3BHBP\", \"2020/TELTONIKA/July/EMC/MCI1005HQ3N3BHBP\", \"2019/TELTONIKA/June/EMC/MCI1005HQ3N3BHBP\", \"2020/TELTONIKA/March/EMC/MCI1005HQ3N3BHBP\", \"2019/TELTONIKA/May/EMC/MCI1005HQ3N3BHBP\", \"2020/TELTONIKA/May/EMC/MCI1005HQ3N3BHBP\", \"2019/TELTONIKA/November/EMC/MCI1005HQ3N3BHBP\", \"2020/TELTONIKA/November/EMC/MCI1005HQ3N3BHBP\", \"2019/TELTONIKA/October/EMC/MCI1005HQ3N3BHBP\", \"2020/TELTONIKA/October/EMC/MCI1005HQ3N3BHBP\", \"2019/TELTONIKA/September/EMC/MCI1005HQ3N3BHBP\", \"2020/TELTONIKA/April/EMC/MCI1005HQ3N9BHBP\", \"2019/TELTONIKA/August/EMC/MCI1005HQ3N9BHBP\", \"2020/TELTONIKA/August/EMC/MCI1005HQ3N9BHBP\", \"2019/TELTONIKA/December/EMC/MCI1005HQ3N9BHBP\", \"2020/TELTONIKA/December/EMC/MCI1005HQ3N9BHBP\", \"2020/TELTONIKA/February/EMC/MCI1005HQ3N9BHBP\", \"2020/TELTONIKA/January/EMC/MCI1005HQ3N9BHBP\", \"2020/TELTONIKA/July/EMC/MCI1005HQ3N9BHBP\", \"2020/TELTONIKA/June/EMC/MCI1005HQ3N9BHBP\", \"2020/TELTONIKA/May/EMC/MCI1005HQ3N9BHBP\", \"2019/TELTONIKA/November/EMC/MCI1005HQ3N9BHBP\", \"2020/TELTONIKA/November/EMC/MCI1005HQ3N9BHBP\", \"2019/TELTONIKA/October/EMC/MCI1005HQ3N9BHBP\", \"2020/TELTONIKA/October/EMC/MCI1005HQ3N9BHBP\", \"2020/TELTONIKA/September/EMC/MCI1005HQ3N9BHBP\", \"2020/TELTONIKA/April/EMC/MCI1005HQ4N3BHBP\", \"2019/TELTONIKA/August/EMC/MCI1005HQ4N3BHBP\", \"2019/TELTONIKA/December/EMC/MCI1005HQ4N3BHBP\", \"2020/TELTONIKA/December/EMC/MCI1005HQ4N3BHBP\", \"2020/TELTONIKA/February/EMC/MCI1005HQ4N3BHBP\", \"2020/TELTONIKA/January/EMC/MCI1005HQ4N3BHBP\", \"2019/TELTONIKA/July/EMC/MCI1005HQ4N3BHBP\", \"2020/TELTONIKA/July/EMC/MCI1005HQ4N3BHBP\", \"2020/TELTONIKA/March/EMC/MCI1005HQ4N3BHBP\", \"2020/TELTONIKA/May/EMC/MCI1005HQ4N3BHBP\", \"2019/TELTONIKA/November/EMC/MCI1005HQ4N3BHBP\", \"2020/TELTONIKA/November/EMC/MCI1005HQ4N3BHBP\", \"2019/TELTONIKA/October/EMC/MCI1005HQ4N3BHBP\", \"2020/TELTONIKA/October/EMC/MCI1005HQ4N3BHBP\", \"2019/TELTONIKA/September/EMC/MCI1005HQ4N3BHBP\", \"2020/TELTONIKA/September/EMC/MCI1005HQ4N3BHBP\", \"2020/TELTONIKA/April/EMC/MCI1005HQ4N7BHBP\", \"2019/TELTONIKA/August/EMC/MCI1005HQ4N7BHBP\", \"2019/TELTONIKA/December/EMC/MCI1005HQ4N7BHBP\", \"2020/TELTONIKA/December/EMC/MCI1005HQ4N7BHBP\", \"2020/TELTONIKA/February/EMC/MCI1005HQ4N7BHBP\", \"2020/TELTONIKA/January/EMC/MCI1005HQ4N7BHBP\", \"2020/TELTONIKA/July/EMC/MCI1005HQ4N7BHBP\", \"2020/TELTONIKA/June/EMC/MCI1005HQ4N7BHBP\", \"2020/TELTONIKA/March/EMC/MCI1005HQ4N7BHBP\", \"2020/TELTONIKA/May/EMC/MCI1005HQ4N7BHBP\", \"2019/TELTONIKA/November/EMC/MCI1005HQ4N7BHBP\", \"2020/TELTONIKA/November/EMC/MCI1005HQ4N7BHBP\", \"2019/TELTONIKA/October/EMC/MCI1005HQ4N7BHBP\", \"2020/TELTONIKA/October/EMC/MCI1005HQ4N7BHBP\", \"2019/TELTONIKA/September/EMC/MCI1005HQ4N7BHBP\", \"2020/TELTONIKA/September/EMC/MCI1005HQ4N7BHBP\", \"2020/TELTONIKA/April/EMC/MCI1005HQ6N8GHBP\", \"2019/TELTONIKA/December/EMC/MCI1005HQ6N8GHBP\", \"2020/TELTONIKA/December/EMC/MCI1005HQ6N8GHBP\", \"2020/TELTONIKA/January/EMC/MCI1005HQ6N8GHBP\", \"2019/TELTONIKA/July/EMC/MCI1005HQ6N8GHBP\", \"2019/TELTONIKA/June/EMC/MCI1005HQ6N8GHBP\", \"2020/TELTONIKA/March/EMC/MCI1005HQ6N8GHBP\", \"2020/TELTONIKA/May/EMC/MCI1005HQ6N8GHBP\", \"2019/TELTONIKA/November/EMC/MCI1005HQ6N8GHBP\", \"2020/TELTONIKA/November/EMC/MCI1005HQ6N8GHBP\", \"2019/TELTONIKA/October/EMC/MCI1005HQ6N8GHBP\", \"2020/TELTONIKA/October/EMC/MCI1005HQ6N8GHBP\", \"2019/TELTONIKA/September/EMC/MCI1005HQ6N8GHBP\", \"2020/TELTONIKA/April/EMC/MCI1005HQ6N8HHBP\", \"2019/TELTONIKA/August/EMC/MCI1005HQ6N8HHBP\", \"2019/MT-SYSTEM/August/EMC/MCI1005HQ9N1JHBP\", \"2019/TELTONIKA/April/EMC/MCI1005HQR10JHBP\", \"2020/TELTONIKA/April/EMC/MCI1005HQR10JHBP\", \"2019/TELTONIKA/December/EMC/MCI1005HQR10JHBP\", \"2020/TELTONIKA/December/EMC/MCI1005HQR10JHBP\", \"2020/TELTONIKA/February/EMC/MCI1005HQR10JHBP\", \"2020/TELTONIKA/January/EMC/MCI1005HQR10JHBP\", \"2019/TELTONIKA/July/EMC/MCI1005HQR10JHBP\", \"2020/TELTONIKA/July/EMC/MCI1005HQR10JHBP\", \"2019/TELTONIKA/June/EMC/MCI1005HQR10JHBP\", \"2020/TELTONIKA/June/EMC/MCI1005HQR10JHBP\", \"2020/TELTONIKA/March/EMC/MCI1005HQR10JHBP\", \"2019/TELTONIKA/May/EMC/MCI1005HQR10JHBP\", \"2020/TELTONIKA/May/EMC/MCI1005HQR10JHBP\", \"2019/TELTONIKA/November/EMC/MCI1005HQR10JHBP\", \"2020/TELTONIKA/November/EMC/MCI1005HQR10JHBP\", \"2019/TELTONIKA/October/EMC/MCI1005HQR10JHBP\", \"2019/TELTONIKA/September/EMC/MCI1005HQR10JHBP\", \"2019/MT-SYSTEM/August/EMC/MCI1608HQ15NGHBP\", \"2019/MT-SYSTEM/January/EMC/MCI1608HQ15NGHBP\", \"2019/MT-SYSTEM/April/EMC/MCI1608HQ2N2SHBP\", \"2019/MT-SYSTEM/January/EMC/MCI1608HQ2N2SHBP\", \"2019/MT-SYSTEM/June/EMC/MCI1608HQ2N2SHBP\", \"2019/MT-SYSTEM/April/EMC/MCI1608HQ2N7SHBP\", \"2019/MT-SYSTEM/January/EMC/MCI1608HQ2N7SHBP\", \"2019/MT-SYSTEM/June/EMC/MCI1608HQ2N7SHBP\", \"2019/MT-SYSTEM/April/EMC/MCI1608HQ3N3SHBP\", \"2019/MT-SYSTEM/April/EMC/MCI1608HQ4N7SHBP\", \"2019/MT-SYSTEM/April/EMC/MCI1608HQ5N6SHBP\", \"2019/MT-SYSTEM/August/EMC/MCI1608HQ5N6SHBP\", \"2019/MT-SYSTEM/January/EMC/MCI1608HQ5N6SHBP\", \"2019/MT-SYSTEM/April/EMC/MCI1608HQ6N8JHBP\", \"2019/MT-SYSTEM/January/EMC/MCI1608HQR10JHBP\", \"2020/MT-SYSTEM/December/EMC/MFI201210RKBE\", \"2020/MT-SYSTEM/February/EMC/MFI201210RKBE\", \"2020/MT-SYSTEM/March/EMC/MFI201210RKBE\", \"2020/MT-SYSTEM/September/EMC/MFI201210RKBE\", \"2020/MT-SYSTEM/February/EMC/MHC1005S121MBP\", \"2020/MT-SYSTEM/July/EMC/MHC1005S121MBP\", \"2020/MT-SYSTEM/June/EMC/MHC1005S121MBP\", \"2020/MT-SYSTEM/November/EMC/MHC1005S121MBP\", \"2020/MT-SYSTEM/September/EMC/MHC1005S121MBP\", \"2019/TELTONIKA/April/EMC/MHC1608S221NBP\", \"2020/TELTONIKA/January/EMC/MHC1608S221NBP\", \"2019/TELTONIKA/March/EMC/MHC1608S221NBP\", \"2020/TELTONIKA/March/EMC/MHC1608S221NBP\", \"2019/TELTONIKA/April/EMC/MHC1608S600QBP\", \"2020/TELTONIKA/April/EMC/MHC1608S600QBP\", \"2019/TELTONIKA/August/EMC/MHC1608S600QBP\", \"2019/TELTONIKA/December/EMC/MHC1608S600QBP\", \"2020/TELTONIKA/December/EMC/MHC1608S600QBP\", \"2020/TELTONIKA/January/EMC/MHC1608S600QBP\", \"2019/TELTONIKA/July/EMC/MHC1608S600QBP\", \"2020/TELTONIKA/July/EMC/MHC1608S600QBP\", \"2019/TELTONIKA/June/EMC/MHC1608S600QBP\", \"2020/TELTONIKA/June/EMC/MHC1608S600QBP\", \"2019/TELTONIKA/March/EMC/MHC1608S600QBP\", \"2020/TELTONIKA/March/EMC/MHC1608S600QBP\", \"2019/TELTONIKA/May/EMC/MHC1608S600QBP\", \"2020/TELTONIKA/May/EMC/MHC1608S600QBP\", \"2019/TELTONIKA/November/EMC/MHC1608S600QBP\", \"2020/TELTONIKA/November/EMC/MHC1608S600QBP\", \"2020/TELTONIKA/October/EMC/MHC1608S600QBP\", \"2019/TELTONIKA/September/EMC/MHC1608S600QBP\", \"2020/TELTONIKA/September/EMC/MHC1608S600QBP\", \"2020/MT-SYSTEM/December/EMC/MHC2012S121UBP\", \"2020/MT-SYSTEM/February/EMC/MHC2012S121UBP\", \"2020/MT-SYSTEM/July/EMC/MHC2012S121UBP\", \"2020/MT-SYSTEM/June/EMC/MHC2012S121UBP\", \"2020/MT-SYSTEM/March/EMC/MHC2012S121UBP\", \"2020/MT-SYSTEM/October/EMC/MHC2012S121UBP\", \"2020/MT-SYSTEM/April/EMC/MHC2012S600QBP\", \"2020/MT-SYSTEM/February/EMC/MHC2012S600QBP\", \"2020/MT-SYSTEM/July/EMC/MHC2012S600QBP\", \"2020/MT-SYSTEM/June/EMC/MHC2012S600QBP\", \"2020/MT-SYSTEM/March/EMC/MHC2012S600QBP\", \"2020/MT-SYSTEM/November/EMC/MHC2012S600QBP\", \"2020/MT-SYSTEM/October/EMC/MHC2012S600QBP\", \"2020/MT-SYSTEM/September/EMC/MHC2012S600QBP\", \"2020/TELTONIKA/April/EMC/MHC3216S800RBE\", \"2019/TELTONIKA/December/EMC/MHC3216S800RBE\", \"2020/TELTONIKA/December/EMC/MHC3216S800RBE\", \"2020/TELTONIKA/February/EMC/MHC3216S800RBE\", \"2020/TELTONIKA/January/EMC/MHC3216S800RBE\", \"2019/TELTONIKA/July/EMC/MHC3216S800RBE\", \"2020/TELTONIKA/July/EMC/MHC3216S800RBE\", \"2019/TELTONIKA/June/EMC/MHC3216S800RBE\", \"2020/TELTONIKA/June/EMC/MHC3216S800RBE\", \"2020/TELTONIKA/March/EMC/MHC3216S800RBE\", \"2020/TELTONIKA/May/EMC/MHC3216S800RBE\", \"2019/TELTONIKA/November/EMC/MHC3216S800RBE\", \"2020/TELTONIKA/November/EMC/MHC3216S800RBE\", \"2020/TELTONIKA/October/EMC/MHC3216S800RBE\", \"2019/TELTONIKA/September/EMC/MHC3216S800RBE\", \"2020/TELTONIKA/September/EMC/MHC3216S800RBE\", \"2019/TELTONIKA/April/EMC/MIP20121R0MBE\", \"2020/TELTONIKA/April/EMC/MIP20121R0MBE\", \"2019/TELTONIKA/August/EMC/MIP20121R0MBE\", \"2019/TELTONIKA/December/EMC/MIP20121R0MBE\", \"2020/TELTONIKA/December/EMC/MIP20121R0MBE\", \"2020/TELTONIKA/February/EMC/MIP20121R0MBE\", \"2020/TELTONIKA/January/EMC/MIP20121R0MBE\", \"2019/TELTONIKA/July/EMC/MIP20121R0MBE\", \"2019/TELTONIKA/June/EMC/MIP20121R0MBE\", \"2020/TELTONIKA/June/EMC/MIP20121R0MBE\", \"2020/TELTONIKA/March/EMC/MIP20121R0MBE\", \"2019/TELTONIKA/May/EMC/MIP20121R0MBE\", \"2020/TELTONIKA/May/EMC/MIP20121R0MBE\", \"2019/TELTONIKA/November/EMC/MIP20121R0MBE\", \"2020/TELTONIKA/November/EMC/MIP20121R0MBE\", \"2019/TELTONIKA/October/EMC/MIP20121R0MBE\", \"2019/TELTONIKA/September/EMC/MIP20121R0MBE\", \"2020/TELTONIKA/September/EMC/MIP20121R0MBE\", \"2019/MT-SYSTEM/September/RF/NF-P-F0-R0-009\", \"2019/MT-SYSTEM/December/EMC/NIP3015GX-2R2M\", \"2019/MT-SYSTEM/December/EMC/NIP3015GX-4R7M\", \"2020/MT-SYSTEM/June/EMC/NIP3015GX-4R7M\", \"2020/TELTONIKA/April/EMC/NIP5020GX-150M\", \"2020/TELTONIKA/August/EMC/NIP5020GX-150M\", \"2019/TELTONIKA/December/EMC/NIP5020GX-150M\", \"2020/TELTONIKA/February/EMC/NIP5020GX-150M\", \"2020/TELTONIKA/January/EMC/NIP5020GX-150M\", \"2019/TELTONIKA/July/EMC/NIP5020GX-150M\", \"2019/TELTONIKA/November/EMC/NIP5020GX-150M\", \"2019/TELTONIKA/September/EMC/NIP5020GX-150M\", \"2020/TELTONIKA/September/EMC/NIP5020GX-150M\", \"2019/TELTONIKA/August/EMC/NIP5040GX-6R8M\", \"2020/TELTONIKA/August/EMC/NIP5040GX-6R8M\", \"2019/TELTONIKA/December/EMC/NIP5040GX-6R8M\", \"2020/TELTONIKA/February/EMC/NIP5040GX-6R8M\", \"2020/TELTONIKA/January/EMC/NIP5040GX-6R8M\", \"2019/TELTONIKA/July/EMC/NIP5040GX-6R8M\", \"2020/TELTONIKA/May/EMC/NIP5040GX-6R8M\", \"2019/TELTONIKA/November/EMC/NIP5040GX-6R8M\", \"2019/TELTONIKA/September/EMC/NIP5040GX-6R8M\", \"2020/TELTONIKA/September/EMC/NIP5040GX-6R8M\", \"2019/MT-SYSTEM/August/RF/PA1590MI2G-144-2ZM\", \"2019/MT-SYSTEM/March/RF/PA1590MI2G-144-2ZM\", \"2020/MT-SYSTEM/August/RF/PA1590MI4G-101-17\", \"2019/MT-SYSTEM/January/RF/PA1590MI4G-101-17\", \"2020/MT-SYSTEM/January/RF/PA1590MI4G-101-17\", \"2019/MT-SYSTEM/July/RF/PA1590MI4G-101-17\", \"2019/MT-SYSTEM/March/RF/PA1590MI4G-101-17\", \"2020/MT-SYSTEM/February/RF/PA1590MI4G-316-FZM\", \"2019/MT-SYSTEM/January/RF/PA1590MI4G-316-FZM\", \"2020/MT-SYSTEM/January/RF/PA1590MI4G-316-FZM\", \"2020/MT-SYSTEM/July/RF/PA1590MI4G-316-FZM\", \"2019/MT-SYSTEM/March/RF/PA1590MI4G-316-FZM\", \"2019/MT-SYSTEM/May/RF/PA1590MI4G-316-FZM\", \"2020/MT-SYSTEM/November/RF/PA1590MI4G-316-FZM\", \"2020/MT-SYSTEM/September/RF/PA1590MI4G-316-FZM\", \"2019/TELTONIKA/April/RF/PA1590MI4G-371-28M\", \"2020/TELTONIKA/April/RF/PA1590MI4G-371-28M\", \"2019/TELTONIKA/August/RF/PA1590MI4G-371-28M\", \"2020/TELTONIKA/August/RF/PA1590MI4G-371-28M\", \"2019/TELTONIKA/December/RF/PA1590MI4G-371-28M\", \"2020/TELTONIKA/December/RF/PA1590MI4G-371-28M\", \"2019/TELTONIKA/February/RF/PA1590MI4G-371-28M\", \"2020/TELTONIKA/February/RF/PA1590MI4G-371-28M\", \"2019/TELTONIKA/January/RF/PA1590MI4G-371-28M\", \"2020/TELTONIKA/January/RF/PA1590MI4G-371-28M\", \"2019/TELTONIKA/July/RF/PA1590MI4G-371-28M\", \"2020/TELTONIKA/July/RF/PA1590MI4G-371-28M\", \"2019/TELTONIKA/June/RF/PA1590MI4G-371-28M\", \"2019/TELTONIKA/March/RF/PA1590MI4G-371-28M\", \"2020/TELTONIKA/March/RF/PA1590MI4G-371-28M\", \"2019/TELTONIKA/May/RF/PA1590MI4G-371-28M\", \"2020/TELTONIKA/May/RF/PA1590MI4G-371-28M\", \"2019/TELTONIKA/November/RF/PA1590MI4G-371-28M\", \"2020/TELTONIKA/November/RF/PA1590MI4G-371-28M\", \"2019/TELTONIKA/October/RF/PA1590MI4G-371-28M\", \"2020/TELTONIKA/October/RF/PA1590MI4G-371-28M\", \"2019/TELTONIKA/September/RF/PA1590MI4G-371-28M\", \"2020/TELTONIKA/September/RF/PA1590MI4G-371-28M\", \"2019/TELTONIKA/April/RF/PA1590MI4G-375-28M\", \"2020/TELTONIKA/April/RF/PA1590MI4G-375-28M\", \"2019/TELTONIKA/August/RF/PA1590MI4G-375-28M\", \"2019/TELTONIKA/December/RF/PA1590MI4G-375-28M\", \"2020/TELTONIKA/December/RF/PA1590MI4G-375-28M\", \"2020/TELTONIKA/February/RF/PA1590MI4G-375-28M\", \"2019/TELTONIKA/January/RF/PA1590MI4G-375-28M\", \"2020/TELTONIKA/January/RF/PA1590MI4G-375-28M\", \"2019/TELTONIKA/July/RF/PA1590MI4G-375-28M\", \"2019/TELTONIKA/June/RF/PA1590MI4G-375-28M\", \"2019/TELTONIKA/March/RF/PA1590MI4G-375-28M\", \"2020/TELTONIKA/March/RF/PA1590MI4G-375-28M\", \"2019/TELTONIKA/May/RF/PA1590MI4G-375-28M\", \"2019/TELTONIKA/November/RF/PA1590MI4G-375-28M\", \"2020/TELTONIKA/November/RF/PA1590MI4G-375-28M\", \"2020/TELTONIKA/October/RF/PA1590MI4G-375-28M\", \"2019/TELTONIKA/September/RF/PA1590MI4G-375-28M\", \"2019/TELTONIKA/April/RF/PA1590MI4G-376-28M\", \"2020/TELTONIKA/April/RF/PA1590MI4G-376-28M\", \"2019/TELTONIKA/August/RF/PA1590MI4G-376-28M\", \"2020/TELTONIKA/August/RF/PA1590MI4G-376-28M\", \"2019/TELTONIKA/December/RF/PA1590MI4G-376-28M\", \"2020/TELTONIKA/December/RF/PA1590MI4G-376-28M\", \"2019/TELTONIKA/February/RF/PA1590MI4G-376-28M\", \"2020/TELTONIKA/February/RF/PA1590MI4G-376-28M\", \"2019/TELTONIKA/January/RF/PA1590MI4G-376-28M\", \"2020/TELTONIKA/January/RF/PA1590MI4G-376-28M\", \"2020/TELTONIKA/July/RF/PA1590MI4G-376-28M\", \"2019/TELTONIKA/June/RF/PA1590MI4G-376-28M\", \"2020/TELTONIKA/June/RF/PA1590MI4G-376-28M\", \"2019/TELTONIKA/March/RF/PA1590MI4G-376-28M\", \"2019/TELTONIKA/May/RF/PA1590MI4G-376-28M\", \"2020/TELTONIKA/May/RF/PA1590MI4G-376-28M\", \"2019/TELTONIKA/November/RF/PA1590MI4G-376-28M\", \"2020/TELTONIKA/November/RF/PA1590MI4G-376-28M\", \"2020/TELTONIKA/October/RF/PA1590MI4G-376-28M\", \"2019/TELTONIKA/September/RF/PA1590MI4G-376-28M\", \"2020/TELTONIKA/September/RF/PA1590MI4G-376-28M\", \"2019/TELTONIKA/April/RF/PA1590MI4G-377-28M\", \"2020/TELTONIKA/April/RF/PA1590MI4G-377-28M\", \"2019/TELTONIKA/August/RF/PA1590MI4G-377-28M\", \"2019/TELTONIKA/December/RF/PA1590MI4G-377-28M\", \"2019/TELTONIKA/January/RF/PA1590MI4G-377-28M\", \"2020/TELTONIKA/January/RF/PA1590MI4G-377-28M\", \"2019/TELTONIKA/July/RF/PA1590MI4G-377-28M\", \"2019/TELTONIKA/March/RF/PA1590MI4G-377-28M\", \"2019/TELTONIKA/May/RF/PA1590MI4G-377-28M\", \"2019/TELTONIKA/November/RF/PA1590MI4G-377-28M\", \"2019/TELTONIKA/September/RF/PA1590MI4G-377-28M\", \"2020/TELTONIKA/April/RF/PA1590MI4G-380-18M-A\", \"2019/TELTONIKA/June/RF/PA1590MI4G-380-18M-A\", \"2019/TELTONIKA/May/RF/PA1590MI4G-380-18M-A\", \"2020/TELTONIKA/September/RF/PA1590MI4G-380-18M-A\", \"2020/TELTONIKA/April/RF/PA1590MI4G-402-28M\", \"2019/TELTONIKA/August/RF/PA1590MI4G-402-28M\", \"2020/TELTONIKA/August/RF/PA1590MI4G-402-28M\", \"2020/TELTONIKA/December/RF/PA1590MI4G-402-28M\", \"2019/TELTONIKA/January/RF/PA1590MI4G-402-28M\", \"2020/TELTONIKA/January/RF/PA1590MI4G-402-28M\", \"2020/TELTONIKA/July/RF/PA1590MI4G-402-28M\", \"2019/TELTONIKA/June/RF/PA1590MI4G-402-28M\", \"2019/TELTONIKA/March/RF/PA1590MI4G-402-28M\", \"2020/TELTONIKA/March/RF/PA1590MI4G-402-28M\", \"2019/TELTONIKA/May/RF/PA1590MI4G-402-28M\", \"2020/TELTONIKA/November/RF/PA1590MI4G-402-28M\", \"2020/TELTONIKA/October/RF/PA1590MI4G-402-28M\", \"2019/TELTONIKA/September/RF/PA1590MI4G-402-28M\", \"2020/TELTONIKA/September/RF/PA1590MI4G-402-28M\", \"2020/MT-SYSTEM/April/RF/PA1590MI4G-413-18M-A\", \"2019/MT-SYSTEM/December/RF/PA1590MI4G-413-18M-A\", \"2019/MT-SYSTEM/May/RF/PA1590MI4G-413-18M-A\", \"2019/MT-SYSTEM/October/RF/PA1590MI4G-413-18M-A\", \"2019/MT-SYSTEM/September/RF/PA1590MI4G-413-18M-A\", \"2020/MT-SYSTEM/December/RF/PA1590MI4G-414-18M-A\", \"2019/MT-SYSTEM/May/RF/PA1590MI4G-414-18M-A\", \"2020/MT-SYSTEM/December/RF/PA1590MI4G-415-18M-A\", \"2019/MT-SYSTEM/May/RF/PA1590MI4G-415-18M-A\", \"2020/MT-SYSTEM/August/RF/PA1590MI4G-431-28M-A\", \"2019/MT-SYSTEM/December/RF/PA1590MI4G-431-28M-A\", \"2020/MT-SYSTEM/February/RF/PA1590MI4G-431-28M-A\", \"2020/MT-SYSTEM/November/RF/PA1590MI4G-431-28M-A\", \"2019/MT-SYSTEM/October/RF/PA1590MI4G-431-28M-A\", \"2020/MT-SYSTEM/September/RF/PA1590MI4G-431-28M-A\", \"2020/TELTONIKA/August/RF/PA1590MI4G-447-28M-A\", \"2020/TELTONIKA/December/RF/PA1590MI4G-447-28M-A\", \"2020/TELTONIKA/June/RF/PA1590MI4G-447-28M-A\", \"2020/TELTONIKA/September/RF/PA1590MI4G-447-28M-A\", \"2019/TELTONIKA/December/RF/PA1590MI4G-448-28M-A\", \"2020/TELTONIKA/January/RF/PA1590MI4G-448-28M-A\", \"2020/TELTONIKA/September/RF/PA1590MI4G-448-28M-A\", \"2019/MT-SYSTEM/May/RF/PA1590MJ4G-124-16\", \"2019/TELTONIKA/August/RF/PA1590MJ4G-221-26M\", \"2020/TELTONIKA/December/RF/PA1590MJ4G-221-26M\", \"2020/TELTONIKA/February/RF/PA1590MJ4G-221-26M\", \"2019/TELTONIKA/January/RF/PA1590MJ4G-221-26M\", \"2020/TELTONIKA/January/RF/PA1590MJ4G-221-26M\", \"2019/TELTONIKA/July/RF/PA1590MJ4G-221-26M\", \"2020/TELTONIKA/June/RF/PA1590MJ4G-221-26M\", \"2020/TELTONIKA/May/RF/PA1590MJ4G-221-26M\", \"2019/TELTONIKA/October/RF/PA1590MJ4G-221-26M\", \"2019/TELTONIKA/September/RF/PA1590MJ4G-221-26M\", \"2020/TELTONIKA/September/RF/PA1590MJ4G-221-26M\", \"2019/TELTONIKA/April/RF/PA1590MJ4G-224-2SP\", \"2020/TELTONIKA/April/RF/PA1590MJ4G-224-2SP\", \"2020/TELTONIKA/August/RF/PA1590MJ4G-224-2SP\", \"2019/TELTONIKA/December/RF/PA1590MJ4G-224-2SP\", \"2020/TELTONIKA/December/RF/PA1590MJ4G-224-2SP\", \"2020/TELTONIKA/February/RF/PA1590MJ4G-224-2SP\", \"2019/TELTONIKA/January/RF/PA1590MJ4G-224-2SP\", \"2020/TELTONIKA/January/RF/PA1590MJ4G-224-2SP\", \"2019/TELTONIKA/July/RF/PA1590MJ4G-224-2SP\", \"2020/TELTONIKA/July/RF/PA1590MJ4G-224-2SP\", \"2019/TELTONIKA/June/RF/PA1590MJ4G-224-2SP\", \"2019/TELTONIKA/March/RF/PA1590MJ4G-224-2SP\", \"2019/TELTONIKA/May/RF/PA1590MJ4G-224-2SP\", \"2019/TELTONIKA/November/RF/PA1590MJ4G-224-2SP\", \"2020/TELTONIKA/November/RF/PA1590MJ4G-224-2SP\", \"2020/TELTONIKA/October/RF/PA1590MJ4G-224-2SP\", \"2019/TELTONIKA/September/RF/PA1590MJ4G-224-2SP\", \"2020/TELTONIKA/September/RF/PA1590MJ4G-224-2SP\", \"2020/MT-SYSTEM/April/RF/PA1590MQ5G-101-1P\", \"2019/MT-SYSTEM/October/RF/PA1590MQ5G-101-1P\", \"2019/MT-SYSTEM/September/RF/PA1590MQ5G-101-1P\", \"2019/MT-SYSTEM/April/RF/PA1590MS4G-102-1S\", \"2019/MT-SYSTEM/August/RF/PA1590MS4G-102-1S\", \"2020/MT-SYSTEM/July/RF/PA1590MS4G-103-1SS\", \"2019/MT-SYSTEM/June/RF/PA1590MS4G-103-1SS\", \"2019/MT-SYSTEM/March/RF/PA1590MS4G-103-1SS\", \"2019/MT-SYSTEM/September/RF/PA1590MS4G-103-1SS\", \"2020/TELTONIKA/April/RF/PA1590MS4G-103-SMD-M-A\", \"2020/TELTONIKA/August/RF/PA1590MS4G-103-SMD-M-A\", \"2020/TELTONIKA/January/RF/PA1590MS4G-103-SMD-M-A\", \"2020/TELTONIKA/May/RF/PA1590MS4G-103-SMD-M-A\", \"2020/TELTONIKA/November/RF/PA1590MS4G-103-SMD-M-A\", \"2020/TELTONIKA/October/RF/PA1590MS4G-103-SMD-M-A\", \"2020/TELTONIKA/September/RF/PA1590MS4G-103-SMD-M-A\", \"2020/TELTONIKA/August/RF/PA1590MS4G-104-SMD-M-A\", \"2020/MT-SYSTEM/August/RF/PA1598MI4G-487-17M\", \"2020/TELTONIKA/December/RF/RFDPA141300SBLB803J4\", \"2020/TELTONIKA/July/RF/RFDPA141300SBLB803J4\", \"2020/TELTONIKA/November/RF/RFDPA141300SBLB803J4\", \"2020/TELTONIKA/September/RF/RFDPA141300SBLB803J4\", \"2020/TELTONIKA/August/RF/RFDPA171300SBAB823J4\", \"2020/TELTONIKA/December/RF/RFDPA171300SBAB823J4\", \"2020/TELTONIKA/July/RF/RFDPA171300SBAB823J4\", \"2020/TELTONIKA/November/RF/RFDPA171300SBAB823J4\", \"2020/TELTONIKA/October/RF/RFDPA171300SBAB823J4\", \"2020/TELTONIKA/September/RF/RFDPA171300SBAB823J4\", \"2020/TELTONIKA/August/RF/RFDPA191300SMTB806J4\", \"2020/TELTONIKA/December/RF/RFDPA191300SMTB806J4\", \"2020/TELTONIKA/July/RF/RFDPA191300SMTB806J4\", \"2020/TELTONIKA/November/RF/RFDPA191300SMTB806J4\", \"2020/TELTONIKA/October/RF/RFDPA191300SMTB806J4\", \"2020/TELTONIKA/September/RF/RFDPA191300SMTB806J4\", \"2020/TELTONIKA/December/RF/RFDPA30871ASBLBA01J4\", \"2020/TELTONIKA/July/RF/RFDPA30871ASBLBA01J4\", \"2020/MT-SYSTEM/February/PC/SMAJ12A-T\", \"2020/MT-SYSTEM/June/PC/SMAJ12A-T\", \"2020/MT-SYSTEM/March/PC/SMAJ12A-T\", \"2020/MT-SYSTEM/November/PC/SMAJ12A-T\", \"2020/MT-SYSTEM/October/PC/SMAJ12A-T\", \"2020/MT-SYSTEM/December/PC/SMAJ12CA-T\", \"2019/MT-SYSTEM/June/PC/SMAJ12CA-T\", \"2019/MT-SYSTEM/March/PC/SMAJ15CA-T\", \"2019/MT-SYSTEM/May/PC/SMAJ15CA-T\", \"2019/MT-SYSTEM/May/PC/SMAJ28CA-T\", \"2020/MT-SYSTEM/December/PC/SMAJ36A-T\", \"2020/MT-SYSTEM/February/PC/SMAJ36A-T\", \"2020/MT-SYSTEM/June/PC/SMAJ36A-T\", \"2020/MT-SYSTEM/March/PC/SMAJ36A-T\", \"2020/MT-SYSTEM/November/PC/SMAJ36A-T\", \"2020/MT-SYSTEM/December/PC/SMAJ5.0A-T\", \"2019/MT-SYSTEM/March/PC/SMAJ5.0A-T\", \"2019/MT-SYSTEM/May/PC/SMAJ5.0A-T\", \"2020/MT-SYSTEM/December/PC/SMAJ6.0CA-T\", \"2019/MT-SYSTEM/December/PC/SMAJ70CA-T\", \"2019/MT-SYSTEM/July/PC/SMAJ70CA-T\", \"2019/MT-SYSTEM/May/PC/SMAJ70CA-T\", \"2019/MT-SYSTEM/March/PC/SMAJ85CA-T\", \"2019/MT-SYSTEM/October/PC/SMAJ85CA-T\", \"2019/MT-SYSTEM/May/PC/SMBJ26A-T\", \"2020/MT-SYSTEM/December/PC/SMBJ30A-T\", \"2019/MT-SYSTEM/June/PC/SMBJ33CA-T\", \"2019/MT-SYSTEM/April/PC/SMBJ36A-T\", \"2020/MT-SYSTEM/April/PC/SMBJ36A-T\", \"2020/MT-SYSTEM/December/PC/SMBJ36A-T\", \"2020/MT-SYSTEM/March/PC/SMBJ36A-T\", \"2019/MT-SYSTEM/August/PC/SMBJ5.0CA-T\", \"2020/MT-SYSTEM/February/PC/SMBJ5.0CA-T\", \"2019/MT-SYSTEM/October/PC/SMBJ5.0CA-T\", \"2020/MT-SYSTEM/June/PC/SMCJ220CA-M\", \"2019/MT-SYSTEM/June/PC/SMCJ36A-T\", \"2019/MT-SYSTEM/June/PC/SMCJ48A-T\", \"2020/MT-SYSTEM/April/RF/WA-F-P5-03-005\", \"2020/MT-SYSTEM/August/RF/WA-F-P5-03-005\", \"2019/MT-SYSTEM/December/RF/WA-F-P5-03-005\", \"2019/MT-SYSTEM/July/RF/WA-F-P5-03-005\", \"2019/MT-SYSTEM/May/RF/WA-F-P5-03-005\", \"2019/MT-SYSTEM/September/RF/WA-F-P5-03-005\", \"2020/MT-SYSTEM/September/RF/WA-F-P5-03-005\", \"2019/MT-SYSTEM/December/RF/WAG-P-LTE10-00-001\", \"2019/MT-SYSTEM/January/RF/WAG-P-LTE10-00-001\", \"2020/MT-SYSTEM/July/RF/WAG-P-LTE10-00-001\", \"2019/MT-SYSTEM/May/RF/WAG-P-LTE10-00-001\", \"2019/MT-SYSTEM/September/RF/WAG-P-LTE10-00-001\", \"2020/TELTONIKA/February/EMC/WCI1608CP33NJRBE\", \"2020/TELTONIKA/January/EMC/WCI1608CP33NJRBE\", \"2019/TELTONIKA/July/EMC/WCI1608CP33NJRBE\", \"2020/TELTONIKA/May/EMC/WCI1608CP33NJRBE\", \"2019/TELTONIKA/November/EMC/WCI1608CP33NJRBE\", \"2020/TELTONIKA/November/EMC/WCI1608CP33NJRBE\", \"2020/TELTONIKA/October/EMC/WCI1608CP33NJRBE\", \"2019/TELTONIKA/September/EMC/WCI1608CP33NJRBE\", \"2020/MT-SYSTEM/April/WIP/WIP201610P-2R2ML\", \"2020/MT-SYSTEM/August/WIP/WIP201610P-2R2ML\", \"2019/MT-SYSTEM/December/WIP/WIP201610P-2R2ML\", \"2020/MT-SYSTEM/February/WIP/WIP201610P-2R2ML\", \"2019/MT-SYSTEM/January/WIP/WIP201610P-2R2ML\", \"2019/MT-SYSTEM/June/WIP/WIP201610P-2R2ML\", \"2020/MT-SYSTEM/March/WIP/WIP201610P-2R2ML\", \"2019/MT-SYSTEM/October/WIP/WIP201610P-R47ML\", \"2019/TELTONIKA/December/WIP/WIP252010S-1R0ML\", \"2020/TELTONIKA/December/WIP/WIP252010S-1R0ML\", \"2020/TELTONIKA/January/WIP/WIP252010S-1R0ML\", \"2020/TELTONIKA/November/WIP/WIP252010S-1R0ML\", \"2019/TELTONIKA/October/WIP/WIP252010S-1R0ML\", \"2020/TELTONIKA/October/WIP/WIP252010S-1R0ML\", \"2019/TELTONIKA/September/WIP/WIP252010S-1R0ML\", \"2019/MT-SYSTEM/April/WIP/WIP252012P-1R0ML\", \"2019/MT-SYSTEM/August/WIP/WIP252012P-1R0ML\", \"2019/MT-SYSTEM/December/WIP/WIP252012P-1R0ML\", \"2019/MT-SYSTEM/January/WIP/WIP252012P-1R0ML\", \"2019/MT-SYSTEM/July/WIP/WIP252012P-1R0ML\", \"2020/MT-SYSTEM/March/WIP/WIP252012P-1R0ML\", \"2019/MT-SYSTEM/May/WIP/WIP252012P-1R0ML\", \"2019/MT-SYSTEM/October/WIP/WIP252012P-1R0ML\", \"2020/MT-SYSTEM/February/WIP/WIP252012P-1R5ML\", \"2020/MT-SYSTEM/April/WIP/WIP252012P-2R2ML\", \"2019/MT-SYSTEM/August/WIP/WIP252012P-2R2ML\", \"2019/MT-SYSTEM/December/WIP/WIP252012P-2R2ML\", \"2020/MT-SYSTEM/February/WIP/WIP252012P-2R2ML\", \"2019/MT-SYSTEM/January/WIP/WIP252012P-2R2ML\", \"2019/MT-SYSTEM/July/WIP/WIP252012P-2R2ML\", \"2020/MT-SYSTEM/June/WIP/WIP252012P-2R2ML\", \"2019/MT-SYSTEM/March/WIP/WIP252012P-2R2ML\", \"2020/MT-SYSTEM/March/WIP/WIP252012P-2R2ML\", \"2019/MT-SYSTEM/May/WIP/WIP252012P-2R2ML\", \"2019/MT-SYSTEM/October/WIP/WIP252012P-2R2ML\", \"2019/MT-SYSTEM/January/WIP/WIP252012P-3R3ML\", \"2020/MT-SYSTEM/December/WIP/WIP252012P-4R7ML\", \"2020/MT-SYSTEM/February/WIP/WIP252012P-4R7ML\", \"2019/MT-SYSTEM/March/WIP/WIP252012P-4R7ML\", \"2019/MT-SYSTEM/October/WIP/WIP252012P-4R7ML\", \"2019/MT-SYSTEM/August/EMC/WMM0420PX-1R0M\", \"2020/MT-SYSTEM/April/EMC/WMM0420PX-3R3M\", \"2020/MT-SYSTEM/August/EMC/WMM0420PX-3R3M\", \"2019/MT-SYSTEM/December/EMC/WMM0420PX-3R3M\", \"2019/MT-SYSTEM/July/EMC/WMM0420PX-3R3M\", \"2020/MT-SYSTEM/November/EMC/WMM0420PX-3R3M\", \"2019/MT-SYSTEM/October/EMC/WMM0420PX-3R3M\", \"2020/MT-SYSTEM/September/PC/pin to pin antenna tooling\", \"2019/MT-SYSTEM/April/EMC\", \"2020/MT-SYSTEM/April/EMC\", \"2019/TELTONIKA/April/EMC\", \"2020/TELTONIKA/April/EMC\", \"2019/MT-SYSTEM/August/EMC\", \"2020/MT-SYSTEM/August/EMC\", \"2019/TELTONIKA/August/EMC\", \"2020/TELTONIKA/August/EMC\", \"2019/MT-SYSTEM/December/EMC\", \"2020/MT-SYSTEM/December/EMC\", \"2019/TELTONIKA/December/EMC\", \"2020/TELTONIKA/December/EMC\", \"2020/MT-SYSTEM/February/EMC\", \"2020/TELTONIKA/February/EMC\", \"2019/MT-SYSTEM/January/EMC\", \"2020/TELTONIKA/January/EMC\", \"2019/MT-SYSTEM/July/EMC\", \"2020/MT-SYSTEM/July/EMC\", \"2019/TELTONIKA/July/EMC\", \"2020/TELTONIKA/July/EMC\", \"2019/MT-SYSTEM/June/EMC\", \"2020/MT-SYSTEM/June/EMC\", \"2019/TELTONIKA/June/EMC\", \"2020/TELTONIKA/June/EMC\", \"2020/MT-SYSTEM/March/EMC\", \"2019/TELTONIKA/March/EMC\", \"2020/TELTONIKA/March/EMC\", \"2019/TELTONIKA/May/EMC\", \"2020/TELTONIKA/May/EMC\", \"2020/MT-SYSTEM/November/EMC\", \"2019/TELTONIKA/November/EMC\", \"2020/TELTONIKA/November/EMC\", \"2019/MT-SYSTEM/October/EMC\", \"2020/MT-SYSTEM/October/EMC\", \"2019/TELTONIKA/October/EMC\", \"2020/TELTONIKA/October/EMC\", \"2020/MT-SYSTEM/September/EMC\", \"2019/TELTONIKA/September/EMC\", \"2020/TELTONIKA/September/EMC\", \"2019/MT-SYSTEM/April/PC\", \"2020/MT-SYSTEM/April/PC\", \"2019/MT-SYSTEM/August/PC\", \"2019/MT-SYSTEM/December/PC\", \"2020/MT-SYSTEM/December/PC\", \"2020/MT-SYSTEM/February/PC\", \"2019/MT-SYSTEM/July/PC\", \"2019/MT-SYSTEM/June/PC\", \"2020/MT-SYSTEM/June/PC\", \"2019/MT-SYSTEM/March/PC\", \"2020/MT-SYSTEM/March/PC\", \"2019/MT-SYSTEM/May/PC\", \"2020/MT-SYSTEM/November/PC\", \"2019/MT-SYSTEM/October/PC\", \"2020/MT-SYSTEM/October/PC\", \"2020/MT-SYSTEM/September/PC\", \"2019/MT-SYSTEM/April/RF\", \"2020/MT-SYSTEM/April/RF\", \"2019/TELTONIKA/April/RF\", \"2020/TELTONIKA/April/RF\", \"2019/MT-SYSTEM/August/RF\", \"2020/MT-SYSTEM/August/RF\", \"2019/TELTONIKA/August/RF\", \"2020/TELTONIKA/August/RF\", \"2019/MT-SYSTEM/December/RF\", \"2020/MT-SYSTEM/December/RF\", \"2019/TELTONIKA/December/RF\", \"2020/TELTONIKA/December/RF\", \"2020/MT-SYSTEM/February/RF\", \"2019/TELTONIKA/February/RF\", \"2020/TELTONIKA/February/RF\", \"2019/MT-SYSTEM/January/RF\", \"2020/MT-SYSTEM/January/RF\", \"2019/TELTONIKA/January/RF\", \"2020/TELTONIKA/January/RF\", \"2019/MT-SYSTEM/July/RF\", \"2020/MT-SYSTEM/July/RF\", \"2019/TELTONIKA/July/RF\", \"2020/TELTONIKA/July/RF\", \"2019/MT-SYSTEM/June/RF\", \"2020/MT-SYSTEM/June/RF\", \"2019/TELTONIKA/June/RF\", \"2020/TELTONIKA/June/RF\", \"2019/MT-SYSTEM/March/RF\", \"2019/TELTONIKA/March/RF\", \"2020/TELTONIKA/March/RF\", \"2019/MT-SYSTEM/May/RF\", \"2019/TELTONIKA/May/RF\", \"2020/TELTONIKA/May/RF\", \"2019/MT-SYSTEM/November/RF\", \"2020/MT-SYSTEM/November/RF\", \"2019/TELTONIKA/November/RF\", \"2020/TELTONIKA/November/RF\", \"2019/MT-SYSTEM/October/RF\", \"2020/MT-SYSTEM/October/RF\", \"2019/TELTONIKA/October/RF\", \"2020/TELTONIKA/October/RF\", \"2019/MT-SYSTEM/September/RF\", \"2020/MT-SYSTEM/September/RF\", \"2019/TELTONIKA/September/RF\", \"2020/TELTONIKA/September/RF\", \"2019/MT-SYSTEM/April/WIP\", \"2020/MT-SYSTEM/April/WIP\", \"2019/MT-SYSTEM/August/WIP\", \"2020/MT-SYSTEM/August/WIP\", \"2019/MT-SYSTEM/December/WIP\", \"2020/MT-SYSTEM/December/WIP\", \"2019/TELTONIKA/December/WIP\", \"2020/TELTONIKA/December/WIP\", \"2020/MT-SYSTEM/February/WIP\", \"2019/MT-SYSTEM/January/WIP\", \"2020/TELTONIKA/January/WIP\", \"2019/MT-SYSTEM/July/WIP\", \"2019/MT-SYSTEM/June/WIP\", \"2020/MT-SYSTEM/June/WIP\", \"2019/MT-SYSTEM/March/WIP\", \"2020/MT-SYSTEM/March/WIP\", \"2019/MT-SYSTEM/May/WIP\", \"2020/TELTONIKA/November/WIP\", \"2019/MT-SYSTEM/October/WIP\", \"2019/TELTONIKA/October/WIP\", \"2020/TELTONIKA/October/WIP\", \"2019/TELTONIKA/September/WIP\", \"2019/MT-SYSTEM/April\", \"2020/MT-SYSTEM/April\", \"2019/TELTONIKA/April\", \"2020/TELTONIKA/April\", \"2019/MT-SYSTEM/August\", \"2020/MT-SYSTEM/August\", \"2019/TELTONIKA/August\", \"2020/TELTONIKA/August\", \"2019/MT-SYSTEM/December\", \"2020/MT-SYSTEM/December\", \"2019/TELTONIKA/December\", \"2020/TELTONIKA/December\", \"2020/MT-SYSTEM/February\", \"2019/TELTONIKA/February\", \"2020/TELTONIKA/February\", \"2019/MT-SYSTEM/January\", \"2020/MT-SYSTEM/January\", \"2019/TELTONIKA/January\", \"2020/TELTONIKA/January\", \"2019/MT-SYSTEM/July\", \"2020/MT-SYSTEM/July\", \"2019/TELTONIKA/July\", \"2020/TELTONIKA/July\", \"2019/MT-SYSTEM/June\", \"2020/MT-SYSTEM/June\", \"2019/TELTONIKA/June\", \"2020/TELTONIKA/June\", \"2019/MT-SYSTEM/March\", \"2020/MT-SYSTEM/March\", \"2019/TELTONIKA/March\", \"2020/TELTONIKA/March\", \"2019/MT-SYSTEM/May\", \"2019/TELTONIKA/May\", \"2020/TELTONIKA/May\", \"2019/MT-SYSTEM/November\", \"2020/MT-SYSTEM/November\", \"2019/TELTONIKA/November\", \"2020/TELTONIKA/November\", \"2019/MT-SYSTEM/October\", \"2020/MT-SYSTEM/October\", \"2019/TELTONIKA/October\", \"2020/TELTONIKA/October\", \"2019/MT-SYSTEM/September\", \"2020/MT-SYSTEM/September\", \"2019/TELTONIKA/September\", \"2020/TELTONIKA/September\", \"2019/MT-SYSTEM\", \"2020/MT-SYSTEM\", \"2019/TELTONIKA\", \"2020/TELTONIKA\", \"2019\", \"2020\"], \"labels\": [\"ACM4-5036-A1-CC-S Taping\", \"ACM4-5036-A1-CC-S Taping\", \"ACM4-5036-A1-CC-S Taping\", \"B3G02G-S3-01-A\", \"DAM-P1-D-N0-000-08-02\", \"DAM-P1-D-N0-000-08-02\", \"DAM-P1-D-N0-000-08-02\", \"DAM-P1-D-N0-000-08-02\", \"DAM-P11-B-R2-015-10-49\", \"DAM-P11-B-R2-015-10-49\", \"DAM-P11-B-R2-015-10-49\", \"DAM-P11-B-R2-015-10-49\", \"DAM-P11-B-R2-015-10-49\", \"DAM-P11-B-R2-015-10-50\", \"DAM-P11-B-R2-015-10-50\", \"DAM-P11-B-R2-015-10-50\", \"DAM-P11-B-R2-015-10-50\", \"DAM-P11-B-R2-015-10-50\", \"DAM-P11-E1-R2-003-22-03\", \"DAM-P11-E1-R2-003-22-03\", \"DAM-P11-E1-R2-003-22-03\", \"DAM-P11-E1-R2-003-22-03\", \"DAM-P11-E1-R2-003-22-03\", \"DAM-P11-E1-R2-003-22-03\", \"DAM-P11-E1-R2-003-22-03\", \"DAM-P11-E1-R2-003-22-03\", \"DAM-P11-E1-R2-003-22-03\", \"DAM-P2-D-N0-000-08-02\", \"DAM-P2-D-N0-000-08-02\", \"DAM-P2-D-N0-000-08-02\", \"DAM-P2-D-N0-000-08-02\", \"DAM-P2-D-N0-000-08-02\", \"GNS01U7W-S6-00-A\", \"GNS01U7W-S6-00-A\", \"GNS01U7W-S6-00-A\", \"GNS01U7W-S6-00-A\", \"GNS01U7W-S6-00-A\", \"GNS01U7W-S6-03-A\", \"GNS01U7W-S6-03-A\", \"GNS01U7W-S6-03-A\", \"GNS01U7W-S6-05-A\", \"GNS01U7W-S6-06-A\", \"GNS01U7W-S6-06-A\", \"GPSGLONASS03D-S6-01-A\", \"GPSGLONASS45D-S6-00-A\", \"GPSGLONASS45D-S6-00-A\", \"GPSGLONASS45D-S6-00-A\", \"GPSGLONASS45D-S6-00-A\", \"GPSGLONASS45D-S6-00-A\", \"GPSGLONASS45D-S6-00-A\", \"GPSGLONASS45D-S6-00-A\", \"GPSGLONASSU10N-N6-0022-A\", \"GPSGLONASSU10N-N6-0022-A\", \"GPSGLONASSU10N-N6-0022-A\", \"GPSGLONASSU10N-N6-0420-A\", \"MCB1005B102GBP\", \"MCB1005B102GBP\", \"MCB1005B102GBP\", \"MCB1005B102GBP\", \"MCB1005B102GBP\", \"MCB1005B102GBP\", \"MCB1005B102GBP\", \"MCB1005B102GBP\", \"MCB1005B102GBP\", \"MCB1005B102GBP\", \"MCB1005B102GBP\", \"MCB1005B102GBP\", \"MCB1005S102FBP\", \"MCB1005S102FBP\", \"MCB1005S102FBP\", \"MCB1005S102FBP\", \"MCB1005S102FBP\", \"MCB1005S102FBP\", \"MCB1005S102FBP\", \"MCB1005S102FBP\", \"MCB1005S102FBP\", \"MCB1005S102FBP\", \"MCB1005S102FBP\", \"MCB1005S102FBP\", \"MCB1005S102FBP\", \"MCB1005S102FBP\", \"MCB1005S102FBP\", \"MCB1005S102FBP\", \"MCB1005S102FBP\", \"MCB1005S102FBP\", \"MCB1005S300FBP\", \"MCB1005S300FBP\", \"MCB1005S300FBP\", \"MCB1005S300FBP\", \"MCB1005S300FBP\", \"MCB1005S300FBP\", \"MCB1005S300FBP\", \"MCB1005S300FBP\", \"MCB1005S300FBP\", \"MCB1005S300FBP\", \"MCB1005S300FBP\", \"MCB1005S300FBP\", \"MCB1005S300FBP\", \"MCB1005S300FBP\", \"MCB1005S300FBP\", \"MCB1005S300FBP\", \"MCB1608S152HBP\", \"MCB1608S152HBP\", \"MCB1608S152HBP\", \"MCB1608S152HBP\", \"MCB1608S152HBP\", \"MCB1608S152HBP\", \"MCB1608S152HBP\", \"MCB1608S152HBP\", \"MCB1608S152HBP\", \"MCB1608S152HBP\", \"MCB1608S152HBP\", \"MCB1608S152HBP\", \"MCB1608S152HBP\", \"MCB1608S152HBP\", \"MCI0603TG3N0CHBP\", \"MCI0603TG3N0CHBP\", \"MCI0603TG3N0CHBP\", \"MCI0603TG3N0CHBP\", \"MCI0603TG3N0CHBP\", \"MCI0603TG3N0CHBP\", \"MCI0603TG3N0CHBP\", \"MCI0603TG3N0CHBP\", \"MCI0603TG3N0CHBP\", \"MCI0603TG3N0CHBP\", \"MCI0603TG3N0CHBP\", \"MCI0603TG3N0CHBP\", \"MCI0603TG3N0CHBP\", \"MCI0603TG3N0CHBP\", \"MCI0603TG3N0CHBP\", \"MCI0603TG3N0CHBP\", \"MCI1005HQ10NGHBP\", \"MCI1005HQ10NGHBP\", \"MCI1005HQ10NGHBP\", \"MCI1005HQ10NGHBP\", \"MCI1005HQ10NGHBP\", \"MCI1005HQ10NGHBP\", \"MCI1005HQ10NGHBP\", \"MCI1005HQ10NGHBP\", \"MCI1005HQ10NGHBP\", \"MCI1005HQ10NGHBP\", \"MCI1005HQ10NGHBP\", \"MCI1005HQ10NGHBP\", \"MCI1005HQ10NGHBP\", \"MCI1005HQ10NGHBP\", \"MCI1005HQ10NGHBP\", \"MCI1005HQ10NJHBP\", \"MCI1005HQ10NJHBP\", \"MCI1005HQ10NJHBP\", \"MCI1005HQ10NJHBP\", \"MCI1005HQ10NJHBP\", \"MCI1005HQ10NJHBP\", \"MCI1005HQ10NJHBP\", \"MCI1005HQ10NJHBP\", \"MCI1005HQ10NJHBP\", \"MCI1005HQ10NJHBP\", \"MCI1005HQ10NJHBP\", \"MCI1005HQ10NJHBP\", \"MCI1005HQ10NJHBP\", \"MCI1005HQ10NJHBP\", \"MCI1005HQ10NJHBP\", \"MCI1005HQ1N0SHBP\", \"MCI1005HQ1N0SHBP\", \"MCI1005HQ1N2BHBP\", \"MCI1005HQ1N2BHBP\", \"MCI1005HQ1N2BHBP\", \"MCI1005HQ1N2BHBP\", \"MCI1005HQ1N2SHBP\", \"MCI1005HQ1N2SHBP\", \"MCI1005HQ1N2SHBP\", \"MCI1005HQ1N2SHBP\", \"MCI1005HQ1N2SHBP\", \"MCI1005HQ1N2SHBP\", \"MCI1005HQ1N2SHBP\", \"MCI1005HQ1N2SHBP\", \"MCI1005HQ1N2SHBP\", \"MCI1005HQ1N2SHBP\", \"MCI1005HQ1N2SHBP\", \"MCI1005HQ1N2SHBP\", \"MCI1005HQ1N2SHBP\", \"MCI1005HQ1N2SHBP\", \"MCI1005HQ1N2SHBP\", \"MCI1005HQ1N5SHBP\", \"MCI1005HQ1N5SHBP\", \"MCI1005HQ1N5SHBP\", \"MCI1005HQ1N5SHBP\", \"MCI1005HQ1N5SHBP\", \"MCI1005HQ1N5SHBP\", \"MCI1005HQ1N5SHBP\", \"MCI1005HQ1N5SHBP\", \"MCI1005HQ1N5SHBP\", \"MCI1005HQ1N5SHBP\", \"MCI1005HQ1N5SHBP\", \"MCI1005HQ1N5SHBP\", \"MCI1005HQ1N5SHBP\", \"MCI1005HQ1N5SHBP\", \"MCI1005HQ1N5SHBP\", \"MCI1005HQ1N5SHBP\", \"MCI1005HQ1N5SHBP\", \"MCI1005HQ1N5SHBP\", \"MCI1005HQ1N5SHBP\", \"MCI1005HQ1N8BHBP\", \"MCI1005HQ1N8BHBP\", \"MCI1005HQ1N8BHBP\", \"MCI1005HQ1N8BHBP\", \"MCI1005HQ1N8BHBP\", \"MCI1005HQ1N8BHBP\", \"MCI1005HQ1N8BHBP\", \"MCI1005HQ1N8BHBP\", \"MCI1005HQ1N8BHBP\", \"MCI1005HQ1N8BHBP\", \"MCI1005HQ1N8BHBP\", \"MCI1005HQ1N8BHBP\", \"MCI1005HQ1N8BHBP\", \"MCI1005HQ1N8BHBP\", \"MCI1005HQ1N8BHBP\", \"MCI1005HQ1N8BHBP\", \"MCI1005HQ2N2BHBP\", \"MCI1005HQ2N2BHBP\", \"MCI1005HQ2N2BHBP\", \"MCI1005HQ2N2BHBP\", \"MCI1005HQ2N2BHBP\", \"MCI1005HQ2N2BHBP\", \"MCI1005HQ2N2BHBP\", \"MCI1005HQ2N7BHBP\", \"MCI1005HQ2N7BHBP\", \"MCI1005HQ3N3BHBP\", \"MCI1005HQ3N3BHBP\", \"MCI1005HQ3N3BHBP\", \"MCI1005HQ3N3BHBP\", \"MCI1005HQ3N3BHBP\", \"MCI1005HQ3N3BHBP\", \"MCI1005HQ3N3BHBP\", \"MCI1005HQ3N3BHBP\", \"MCI1005HQ3N3BHBP\", \"MCI1005HQ3N3BHBP\", \"MCI1005HQ3N3BHBP\", \"MCI1005HQ3N3BHBP\", \"MCI1005HQ3N3BHBP\", \"MCI1005HQ3N3BHBP\", \"MCI1005HQ3N3BHBP\", \"MCI1005HQ3N3BHBP\", \"MCI1005HQ3N9BHBP\", \"MCI1005HQ3N9BHBP\", \"MCI1005HQ3N9BHBP\", \"MCI1005HQ3N9BHBP\", \"MCI1005HQ3N9BHBP\", \"MCI1005HQ3N9BHBP\", \"MCI1005HQ3N9BHBP\", \"MCI1005HQ3N9BHBP\", \"MCI1005HQ3N9BHBP\", \"MCI1005HQ3N9BHBP\", \"MCI1005HQ3N9BHBP\", \"MCI1005HQ3N9BHBP\", \"MCI1005HQ3N9BHBP\", \"MCI1005HQ3N9BHBP\", \"MCI1005HQ3N9BHBP\", \"MCI1005HQ4N3BHBP\", \"MCI1005HQ4N3BHBP\", \"MCI1005HQ4N3BHBP\", \"MCI1005HQ4N3BHBP\", \"MCI1005HQ4N3BHBP\", \"MCI1005HQ4N3BHBP\", \"MCI1005HQ4N3BHBP\", \"MCI1005HQ4N3BHBP\", \"MCI1005HQ4N3BHBP\", \"MCI1005HQ4N3BHBP\", \"MCI1005HQ4N3BHBP\", \"MCI1005HQ4N3BHBP\", \"MCI1005HQ4N3BHBP\", \"MCI1005HQ4N3BHBP\", \"MCI1005HQ4N3BHBP\", \"MCI1005HQ4N3BHBP\", \"MCI1005HQ4N7BHBP\", \"MCI1005HQ4N7BHBP\", \"MCI1005HQ4N7BHBP\", \"MCI1005HQ4N7BHBP\", \"MCI1005HQ4N7BHBP\", \"MCI1005HQ4N7BHBP\", \"MCI1005HQ4N7BHBP\", \"MCI1005HQ4N7BHBP\", \"MCI1005HQ4N7BHBP\", \"MCI1005HQ4N7BHBP\", \"MCI1005HQ4N7BHBP\", \"MCI1005HQ4N7BHBP\", \"MCI1005HQ4N7BHBP\", \"MCI1005HQ4N7BHBP\", \"MCI1005HQ4N7BHBP\", \"MCI1005HQ4N7BHBP\", \"MCI1005HQ6N8GHBP\", \"MCI1005HQ6N8GHBP\", \"MCI1005HQ6N8GHBP\", \"MCI1005HQ6N8GHBP\", \"MCI1005HQ6N8GHBP\", \"MCI1005HQ6N8GHBP\", \"MCI1005HQ6N8GHBP\", \"MCI1005HQ6N8GHBP\", \"MCI1005HQ6N8GHBP\", \"MCI1005HQ6N8GHBP\", \"MCI1005HQ6N8GHBP\", \"MCI1005HQ6N8GHBP\", \"MCI1005HQ6N8GHBP\", \"MCI1005HQ6N8HHBP\", \"MCI1005HQ6N8HHBP\", \"MCI1005HQ9N1JHBP\", \"MCI1005HQR10JHBP\", \"MCI1005HQR10JHBP\", \"MCI1005HQR10JHBP\", \"MCI1005HQR10JHBP\", \"MCI1005HQR10JHBP\", \"MCI1005HQR10JHBP\", \"MCI1005HQR10JHBP\", \"MCI1005HQR10JHBP\", \"MCI1005HQR10JHBP\", \"MCI1005HQR10JHBP\", \"MCI1005HQR10JHBP\", \"MCI1005HQR10JHBP\", \"MCI1005HQR10JHBP\", \"MCI1005HQR10JHBP\", \"MCI1005HQR10JHBP\", \"MCI1005HQR10JHBP\", \"MCI1005HQR10JHBP\", \"MCI1608HQ15NGHBP\", \"MCI1608HQ15NGHBP\", \"MCI1608HQ2N2SHBP\", \"MCI1608HQ2N2SHBP\", \"MCI1608HQ2N2SHBP\", \"MCI1608HQ2N7SHBP\", \"MCI1608HQ2N7SHBP\", \"MCI1608HQ2N7SHBP\", \"MCI1608HQ3N3SHBP\", \"MCI1608HQ4N7SHBP\", \"MCI1608HQ5N6SHBP\", \"MCI1608HQ5N6SHBP\", \"MCI1608HQ5N6SHBP\", \"MCI1608HQ6N8JHBP\", \"MCI1608HQR10JHBP\", \"MFI201210RKBE\", \"MFI201210RKBE\", \"MFI201210RKBE\", \"MFI201210RKBE\", \"MHC1005S121MBP\", \"MHC1005S121MBP\", \"MHC1005S121MBP\", \"MHC1005S121MBP\", \"MHC1005S121MBP\", \"MHC1608S221NBP\", \"MHC1608S221NBP\", \"MHC1608S221NBP\", \"MHC1608S221NBP\", \"MHC1608S600QBP\", \"MHC1608S600QBP\", \"MHC1608S600QBP\", \"MHC1608S600QBP\", \"MHC1608S600QBP\", \"MHC1608S600QBP\", \"MHC1608S600QBP\", \"MHC1608S600QBP\", \"MHC1608S600QBP\", \"MHC1608S600QBP\", \"MHC1608S600QBP\", \"MHC1608S600QBP\", \"MHC1608S600QBP\", \"MHC1608S600QBP\", \"MHC1608S600QBP\", \"MHC1608S600QBP\", \"MHC1608S600QBP\", \"MHC1608S600QBP\", \"MHC1608S600QBP\", \"MHC2012S121UBP\", \"MHC2012S121UBP\", \"MHC2012S121UBP\", \"MHC2012S121UBP\", \"MHC2012S121UBP\", \"MHC2012S121UBP\", \"MHC2012S600QBP\", \"MHC2012S600QBP\", \"MHC2012S600QBP\", \"MHC2012S600QBP\", \"MHC2012S600QBP\", \"MHC2012S600QBP\", \"MHC2012S600QBP\", \"MHC2012S600QBP\", \"MHC3216S800RBE\", \"MHC3216S800RBE\", \"MHC3216S800RBE\", \"MHC3216S800RBE\", \"MHC3216S800RBE\", \"MHC3216S800RBE\", \"MHC3216S800RBE\", \"MHC3216S800RBE\", \"MHC3216S800RBE\", \"MHC3216S800RBE\", \"MHC3216S800RBE\", \"MHC3216S800RBE\", \"MHC3216S800RBE\", \"MHC3216S800RBE\", \"MHC3216S800RBE\", \"MHC3216S800RBE\", \"MIP20121R0MBE\", \"MIP20121R0MBE\", \"MIP20121R0MBE\", \"MIP20121R0MBE\", \"MIP20121R0MBE\", \"MIP20121R0MBE\", \"MIP20121R0MBE\", \"MIP20121R0MBE\", \"MIP20121R0MBE\", \"MIP20121R0MBE\", \"MIP20121R0MBE\", \"MIP20121R0MBE\", \"MIP20121R0MBE\", \"MIP20121R0MBE\", \"MIP20121R0MBE\", \"MIP20121R0MBE\", \"MIP20121R0MBE\", \"MIP20121R0MBE\", \"NF-P-F0-R0-009\", \"NIP3015GX-2R2M\", \"NIP3015GX-4R7M\", \"NIP3015GX-4R7M\", \"NIP5020GX-150M\", \"NIP5020GX-150M\", \"NIP5020GX-150M\", \"NIP5020GX-150M\", \"NIP5020GX-150M\", \"NIP5020GX-150M\", \"NIP5020GX-150M\", \"NIP5020GX-150M\", \"NIP5020GX-150M\", \"NIP5040GX-6R8M\", \"NIP5040GX-6R8M\", \"NIP5040GX-6R8M\", \"NIP5040GX-6R8M\", \"NIP5040GX-6R8M\", \"NIP5040GX-6R8M\", \"NIP5040GX-6R8M\", \"NIP5040GX-6R8M\", \"NIP5040GX-6R8M\", \"NIP5040GX-6R8M\", \"PA1590MI2G-144-2ZM\", \"PA1590MI2G-144-2ZM\", \"PA1590MI4G-101-17\", \"PA1590MI4G-101-17\", \"PA1590MI4G-101-17\", \"PA1590MI4G-101-17\", \"PA1590MI4G-101-17\", \"PA1590MI4G-316-FZM\", \"PA1590MI4G-316-FZM\", \"PA1590MI4G-316-FZM\", \"PA1590MI4G-316-FZM\", \"PA1590MI4G-316-FZM\", \"PA1590MI4G-316-FZM\", \"PA1590MI4G-316-FZM\", \"PA1590MI4G-316-FZM\", \"PA1590MI4G-371-28M\", \"PA1590MI4G-371-28M\", \"PA1590MI4G-371-28M\", \"PA1590MI4G-371-28M\", \"PA1590MI4G-371-28M\", \"PA1590MI4G-371-28M\", \"PA1590MI4G-371-28M\", \"PA1590MI4G-371-28M\", \"PA1590MI4G-371-28M\", \"PA1590MI4G-371-28M\", \"PA1590MI4G-371-28M\", \"PA1590MI4G-371-28M\", \"PA1590MI4G-371-28M\", \"PA1590MI4G-371-28M\", \"PA1590MI4G-371-28M\", \"PA1590MI4G-371-28M\", \"PA1590MI4G-371-28M\", \"PA1590MI4G-371-28M\", \"PA1590MI4G-371-28M\", \"PA1590MI4G-371-28M\", \"PA1590MI4G-371-28M\", \"PA1590MI4G-371-28M\", \"PA1590MI4G-371-28M\", \"PA1590MI4G-375-28M\", \"PA1590MI4G-375-28M\", \"PA1590MI4G-375-28M\", \"PA1590MI4G-375-28M\", \"PA1590MI4G-375-28M\", \"PA1590MI4G-375-28M\", \"PA1590MI4G-375-28M\", \"PA1590MI4G-375-28M\", \"PA1590MI4G-375-28M\", \"PA1590MI4G-375-28M\", \"PA1590MI4G-375-28M\", \"PA1590MI4G-375-28M\", \"PA1590MI4G-375-28M\", \"PA1590MI4G-375-28M\", \"PA1590MI4G-375-28M\", \"PA1590MI4G-375-28M\", \"PA1590MI4G-375-28M\", \"PA1590MI4G-376-28M\", \"PA1590MI4G-376-28M\", \"PA1590MI4G-376-28M\", \"PA1590MI4G-376-28M\", \"PA1590MI4G-376-28M\", \"PA1590MI4G-376-28M\", \"PA1590MI4G-376-28M\", \"PA1590MI4G-376-28M\", \"PA1590MI4G-376-28M\", \"PA1590MI4G-376-28M\", \"PA1590MI4G-376-28M\", \"PA1590MI4G-376-28M\", \"PA1590MI4G-376-28M\", \"PA1590MI4G-376-28M\", \"PA1590MI4G-376-28M\", \"PA1590MI4G-376-28M\", \"PA1590MI4G-376-28M\", \"PA1590MI4G-376-28M\", \"PA1590MI4G-376-28M\", \"PA1590MI4G-376-28M\", \"PA1590MI4G-376-28M\", \"PA1590MI4G-377-28M\", \"PA1590MI4G-377-28M\", \"PA1590MI4G-377-28M\", \"PA1590MI4G-377-28M\", \"PA1590MI4G-377-28M\", \"PA1590MI4G-377-28M\", \"PA1590MI4G-377-28M\", \"PA1590MI4G-377-28M\", \"PA1590MI4G-377-28M\", \"PA1590MI4G-377-28M\", \"PA1590MI4G-377-28M\", \"PA1590MI4G-380-18M-A\", \"PA1590MI4G-380-18M-A\", \"PA1590MI4G-380-18M-A\", \"PA1590MI4G-380-18M-A\", \"PA1590MI4G-402-28M\", \"PA1590MI4G-402-28M\", \"PA1590MI4G-402-28M\", \"PA1590MI4G-402-28M\", \"PA1590MI4G-402-28M\", \"PA1590MI4G-402-28M\", \"PA1590MI4G-402-28M\", \"PA1590MI4G-402-28M\", \"PA1590MI4G-402-28M\", \"PA1590MI4G-402-28M\", \"PA1590MI4G-402-28M\", \"PA1590MI4G-402-28M\", \"PA1590MI4G-402-28M\", \"PA1590MI4G-402-28M\", \"PA1590MI4G-402-28M\", \"PA1590MI4G-413-18M-A\", \"PA1590MI4G-413-18M-A\", \"PA1590MI4G-413-18M-A\", \"PA1590MI4G-413-18M-A\", \"PA1590MI4G-413-18M-A\", \"PA1590MI4G-414-18M-A\", \"PA1590MI4G-414-18M-A\", \"PA1590MI4G-415-18M-A\", \"PA1590MI4G-415-18M-A\", \"PA1590MI4G-431-28M-A\", \"PA1590MI4G-431-28M-A\", \"PA1590MI4G-431-28M-A\", \"PA1590MI4G-431-28M-A\", \"PA1590MI4G-431-28M-A\", \"PA1590MI4G-431-28M-A\", \"PA1590MI4G-447-28M-A\", \"PA1590MI4G-447-28M-A\", \"PA1590MI4G-447-28M-A\", \"PA1590MI4G-447-28M-A\", \"PA1590MI4G-448-28M-A\", \"PA1590MI4G-448-28M-A\", \"PA1590MI4G-448-28M-A\", \"PA1590MJ4G-124-16\", \"PA1590MJ4G-221-26M\", \"PA1590MJ4G-221-26M\", \"PA1590MJ4G-221-26M\", \"PA1590MJ4G-221-26M\", \"PA1590MJ4G-221-26M\", \"PA1590MJ4G-221-26M\", \"PA1590MJ4G-221-26M\", \"PA1590MJ4G-221-26M\", \"PA1590MJ4G-221-26M\", \"PA1590MJ4G-221-26M\", \"PA1590MJ4G-221-26M\", \"PA1590MJ4G-224-2SP\", \"PA1590MJ4G-224-2SP\", \"PA1590MJ4G-224-2SP\", \"PA1590MJ4G-224-2SP\", \"PA1590MJ4G-224-2SP\", \"PA1590MJ4G-224-2SP\", \"PA1590MJ4G-224-2SP\", \"PA1590MJ4G-224-2SP\", \"PA1590MJ4G-224-2SP\", \"PA1590MJ4G-224-2SP\", \"PA1590MJ4G-224-2SP\", \"PA1590MJ4G-224-2SP\", \"PA1590MJ4G-224-2SP\", \"PA1590MJ4G-224-2SP\", \"PA1590MJ4G-224-2SP\", \"PA1590MJ4G-224-2SP\", \"PA1590MJ4G-224-2SP\", \"PA1590MJ4G-224-2SP\", \"PA1590MQ5G-101-1P\", \"PA1590MQ5G-101-1P\", \"PA1590MQ5G-101-1P\", \"PA1590MS4G-102-1S\", \"PA1590MS4G-102-1S\", \"PA1590MS4G-103-1SS\", \"PA1590MS4G-103-1SS\", \"PA1590MS4G-103-1SS\", \"PA1590MS4G-103-1SS\", \"PA1590MS4G-103-SMD-M-A\", \"PA1590MS4G-103-SMD-M-A\", \"PA1590MS4G-103-SMD-M-A\", \"PA1590MS4G-103-SMD-M-A\", \"PA1590MS4G-103-SMD-M-A\", \"PA1590MS4G-103-SMD-M-A\", \"PA1590MS4G-103-SMD-M-A\", \"PA1590MS4G-104-SMD-M-A\", \"PA1598MI4G-487-17M\", \"RFDPA141300SBLB803J4\", \"RFDPA141300SBLB803J4\", \"RFDPA141300SBLB803J4\", \"RFDPA141300SBLB803J4\", \"RFDPA171300SBAB823J4\", \"RFDPA171300SBAB823J4\", \"RFDPA171300SBAB823J4\", \"RFDPA171300SBAB823J4\", \"RFDPA171300SBAB823J4\", \"RFDPA171300SBAB823J4\", \"RFDPA191300SMTB806J4\", \"RFDPA191300SMTB806J4\", \"RFDPA191300SMTB806J4\", \"RFDPA191300SMTB806J4\", \"RFDPA191300SMTB806J4\", \"RFDPA191300SMTB806J4\", \"RFDPA30871ASBLBA01J4\", \"RFDPA30871ASBLBA01J4\", \"SMAJ12A-T\", \"SMAJ12A-T\", \"SMAJ12A-T\", \"SMAJ12A-T\", \"SMAJ12A-T\", \"SMAJ12CA-T\", \"SMAJ12CA-T\", \"SMAJ15CA-T\", \"SMAJ15CA-T\", \"SMAJ28CA-T\", \"SMAJ36A-T\", \"SMAJ36A-T\", \"SMAJ36A-T\", \"SMAJ36A-T\", \"SMAJ36A-T\", \"SMAJ5.0A-T\", \"SMAJ5.0A-T\", \"SMAJ5.0A-T\", \"SMAJ6.0CA-T\", \"SMAJ70CA-T\", \"SMAJ70CA-T\", \"SMAJ70CA-T\", \"SMAJ85CA-T\", \"SMAJ85CA-T\", \"SMBJ26A-T\", \"SMBJ30A-T\", \"SMBJ33CA-T\", \"SMBJ36A-T\", \"SMBJ36A-T\", \"SMBJ36A-T\", \"SMBJ36A-T\", \"SMBJ5.0CA-T\", \"SMBJ5.0CA-T\", \"SMBJ5.0CA-T\", \"SMCJ220CA-M\", \"SMCJ36A-T\", \"SMCJ48A-T\", \"WA-F-P5-03-005\", \"WA-F-P5-03-005\", \"WA-F-P5-03-005\", \"WA-F-P5-03-005\", \"WA-F-P5-03-005\", \"WA-F-P5-03-005\", \"WA-F-P5-03-005\", \"WAG-P-LTE10-00-001\", \"WAG-P-LTE10-00-001\", \"WAG-P-LTE10-00-001\", \"WAG-P-LTE10-00-001\", \"WAG-P-LTE10-00-001\", \"WCI1608CP33NJRBE\", \"WCI1608CP33NJRBE\", \"WCI1608CP33NJRBE\", \"WCI1608CP33NJRBE\", \"WCI1608CP33NJRBE\", \"WCI1608CP33NJRBE\", \"WCI1608CP33NJRBE\", \"WCI1608CP33NJRBE\", \"WIP201610P-2R2ML\", \"WIP201610P-2R2ML\", \"WIP201610P-2R2ML\", \"WIP201610P-2R2ML\", \"WIP201610P-2R2ML\", \"WIP201610P-2R2ML\", \"WIP201610P-2R2ML\", \"WIP201610P-R47ML\", \"WIP252010S-1R0ML\", \"WIP252010S-1R0ML\", \"WIP252010S-1R0ML\", \"WIP252010S-1R0ML\", \"WIP252010S-1R0ML\", \"WIP252010S-1R0ML\", \"WIP252010S-1R0ML\", \"WIP252012P-1R0ML\", \"WIP252012P-1R0ML\", \"WIP252012P-1R0ML\", \"WIP252012P-1R0ML\", \"WIP252012P-1R0ML\", \"WIP252012P-1R0ML\", \"WIP252012P-1R0ML\", \"WIP252012P-1R0ML\", \"WIP252012P-1R5ML\", \"WIP252012P-2R2ML\", \"WIP252012P-2R2ML\", \"WIP252012P-2R2ML\", \"WIP252012P-2R2ML\", \"WIP252012P-2R2ML\", \"WIP252012P-2R2ML\", \"WIP252012P-2R2ML\", \"WIP252012P-2R2ML\", \"WIP252012P-2R2ML\", \"WIP252012P-2R2ML\", \"WIP252012P-2R2ML\", \"WIP252012P-3R3ML\", \"WIP252012P-4R7ML\", \"WIP252012P-4R7ML\", \"WIP252012P-4R7ML\", \"WIP252012P-4R7ML\", \"WMM0420PX-1R0M\", \"WMM0420PX-3R3M\", \"WMM0420PX-3R3M\", \"WMM0420PX-3R3M\", \"WMM0420PX-3R3M\", \"WMM0420PX-3R3M\", \"WMM0420PX-3R3M\", \"pin to pin antenna tooling\", \"EMC\", \"EMC\", \"EMC\", \"EMC\", \"EMC\", \"EMC\", \"EMC\", \"EMC\", \"EMC\", \"EMC\", \"EMC\", \"EMC\", \"EMC\", \"EMC\", \"EMC\", \"EMC\", \"EMC\", \"EMC\", \"EMC\", \"EMC\", \"EMC\", \"EMC\", \"EMC\", \"EMC\", \"EMC\", \"EMC\", \"EMC\", \"EMC\", \"EMC\", \"EMC\", \"EMC\", \"EMC\", \"EMC\", \"EMC\", \"EMC\", \"EMC\", \"EMC\", \"EMC\", \"EMC\", \"PC\", \"PC\", \"PC\", \"PC\", \"PC\", \"PC\", \"PC\", \"PC\", \"PC\", \"PC\", \"PC\", \"PC\", \"PC\", \"PC\", \"PC\", \"PC\", \"RF\", \"RF\", \"RF\", \"RF\", \"RF\", \"RF\", \"RF\", \"RF\", \"RF\", \"RF\", \"RF\", \"RF\", \"RF\", \"RF\", \"RF\", \"RF\", \"RF\", \"RF\", \"RF\", \"RF\", \"RF\", \"RF\", \"RF\", \"RF\", \"RF\", \"RF\", \"RF\", \"RF\", \"RF\", \"RF\", \"RF\", \"RF\", \"RF\", \"RF\", \"RF\", \"RF\", \"RF\", \"RF\", \"RF\", \"RF\", \"RF\", \"RF\", \"RF\", \"RF\", \"RF\", \"WIP\", \"WIP\", \"WIP\", \"WIP\", \"WIP\", \"WIP\", \"WIP\", \"WIP\", \"WIP\", \"WIP\", \"WIP\", \"WIP\", \"WIP\", \"WIP\", \"WIP\", \"WIP\", \"WIP\", \"WIP\", \"WIP\", \"WIP\", \"WIP\", \"WIP\", \"April\", \"April\", \"April\", \"April\", \"August\", \"August\", \"August\", \"August\", \"December\", \"December\", \"December\", \"December\", \"February\", \"February\", \"February\", \"January\", \"January\", \"January\", \"January\", \"July\", \"July\", \"July\", \"July\", \"June\", \"June\", \"June\", \"June\", \"March\", \"March\", \"March\", \"March\", \"May\", \"May\", \"May\", \"November\", \"November\", \"November\", \"November\", \"October\", \"October\", \"October\", \"October\", \"September\", \"September\", \"September\", \"September\", \"MT-SYSTEM\", \"MT-SYSTEM\", \"TELTONIKA\", \"TELTONIKA\", \"2019\", \"2020\"], \"marker\": {\"coloraxis\": \"coloraxis\", \"colors\": [6000.0, 12000.0, 5999.999999999999, 2.0, 1000.0, 999.9999999999999, 1780.0, 3000.0, 500.0, 28000.0, 11000.0, 9000.0, 24000.0, 10000.0, 2000.0, 2000.0000000000002, 6000.000000000001, 4000.0, 1890.0, 12950.0, 36000.0, 20000.0, 8500.0, 15610.0, 14000.000000000002, 13500.0, 30000.0, 3000.0, 4080.0, 6160.0, 6000.0, 3000.0, 3500.0, 6500.0, 6000.0, 3000.0, 2000.0, 20.0, 1020.0000000000001, 1000.0, 15.0, 1300.0, 100.00000000000001, 400.0, 6000.0, 5000.0, 2480.0, 6000.0, 5000.0, 5000.0, 4170.0, 15000.0, 26000.0, 27000.000000000004, 1000.0, 10000.0, 10000.0, 10000.0, 90000.0, 40000.0, 30000.0, 20000.0, 20000.0, 30000.0, 40000.0, 30000.0, 50000.0, 320000.0, 50000.0, 300000.0, 480000.0, 180000.0, 510000.00000000006, 340000.00000000006, 260000.0, 320000.0, 180000.0, 100000.0, 410000.0, 200000.0, 320000.0, 290000.0, 430000.0, 210000.0, 80000.0, 90000.0, 30000.0, 10000.0, 160000.0, 60000.0, 70000.0, 40000.0, 150000.0, 20000.0, 50000.0, 40000.0, 40000.0, 10000.0, 40000.0, 70000.0, 90000.0, 64000.0, 44000.0, 24000.0, 132000.0, 52000.0, 60000.00000000001, 92000.0, 32000.0, 20000.0, 60000.0, 64000.0, 88000.0, 24000.0, 48000.0, 135000.0, 465000.0, 195000.0, 210000.0, 479999.99999999994, 435000.0, 210000.0, 90000.0, 210000.0, 150000.0, 90000.0, 210000.0, 315000.0, 210000.0, 150000.0, 210000.0, 270000.0, 20000.0, 200000.0, 370000.0, 620000.0, 310000.0, 130000.0, 220000.0, 350000.0, 130000.0, 290000.0, 230000.0, 350000.0, 200000.0, 40000.0, 19999.999999999996, 40000.0, 29999.999999999996, 30000.0, 30000.0, 30000.0, 40000.0, 50000.0, 30000.0, 70000.0, 20000.0, 29999.999999999996, 29999.999999999996, 30000.0, 20000.0, 10000.0, 10000.0, 330000.0, 70000.0, 60000.0, 129999.99999999999, 40000.0, 10000.0, 20000.0, 40000.0, 40000.0, 10000.0, 20000.0, 20000.0, 40000.0, 10000.0, 50000.0, 10000.0, 20000.0, 20000.0, 20000.0, 10000.0, 70000.0, 20000.000000000004, 90000.0, 30000.0, 40000.0, 40000.0, 40000.0, 20000.0, 70000.0, 30000.0, 30000.0, 29999.999999999996, 20000.0, 40000.0, 40000.0, 50000.0, 40000.0, 40000.0, 90000.0, 20000.0, 20000.0, 170000.0, 160000.0, 50000.00000000001, 50000.0, 20000.0, 80000.0, 10000.0, 30000.0, 100000.0, 20000.0, 140000.0, 20000.0, 130000.0, 20000.0, 40000.0, 90000.0, 80000.0, 20000.0, 10000.0, 30000.0, 10000.0, 20000.0, 40000.0, 70000.0, 60000.0, 50000.0, 119999.99999999999, 90000.0, 30000.0, 80000.0, 70000.0, 90000.0, 80000.0, 60000.0, 50000.0, 50000.0, 60000.0, 50000.0, 99999.99999999999, 40000.0, 20000.0, 20000.0, 90000.0, 100000.0, 30000.0, 80000.0, 10000.0, 50000.0, 20000.0, 60000.0, 30000.0, 80000.0, 129999.99999999999, 30000.0, 10000.0, 10000.0, 70000.0, 60000.0, 10000.0, 10000.0, 30000.0, 40000.0, 60000.0, 10000.0, 30000.0, 20000.0, 50000.0, 10000.0, 20000.0, 90000.0, 30000.0, 80000.0, 150000.0, 180000.0, 20000.0, 90000.0, 80000.0, 60000.00000000001, 100000.00000000001, 80000.0, 130000.0, 20000.0, 10000.0, 20000.0, 200000.0, 90000.0, 150000.0, 160000.0, 170000.0, 60000.0, 150000.0, 90000.0, 120000.0, 59999.99999999999, 160000.0, 80000.0, 50000.0, 70000.0, 10000.0, 10000.0, 10000.0, 10000.0, 80000.0, 60000.0, 100000.0, 60000.0, 60000.0, 60000.0, 60000.0, 10000.0, 120000.0, 10000.0, 50000.0, 130000.0, 20000.0, 30000.0, 70000.0, 40000.0, 3999.9999999999995, 3999.9999999999995, 8000.0, 16000.0, 12000.0, 8000.0, 16000.0, 12000.0, 52000.0, 52000.0, 8000.0, 8000.0, 16000.0, 52000.0, 16000.0, 183000.0, 129000.0, 153000.0, 174000.0, 40000.0, 10000.0, 10000.0, 30000.0, 20000.0, 272000.0, 168000.0, 44000.0, 264000.0, 384000.0, 460000.0, 92000.0, 200000.0, 1048000.0, 548000.0, 592000.0, 528000.0, 475999.99999999994, 140000.0, 68000.0, 940000.0000000001, 452000.0, 584000.0, 816000.0, 624000.0, 724000.0, 372000.0, 212000.0, 144000.0, 55999.99999999999, 48000.0, 96000.0, 76000.0, 132000.0, 32000.0, 32000.0, 24000.0, 36000.0, 8000.0, 68000.0, 12000.0, 48000.0, 48000.0, 93000.0, 198000.0, 78000.0, 75000.0, 84000.0, 165000.0, 9000.0, 33000.0, 42000.0, 126000.0, 111000.0, 84000.0, 69000.0, 75000.0, 12000.0, 204000.0, 315000.0, 201000.0, 210000.0, 549000.0, 222000.0, 213000.0, 219000.0, 204000.0, 15000.0, 222000.0, 159000.0, 204000.0, 204000.0, 153000.0, 210000.0, 201000.0, 231000.0, 10.0, 4000.0, 12000.0, 12000.0, 85000.0, 220000.0, 30000.0, 132500.0, 122500.0, 157500.0, 147500.0, 72500.0, 25000.0, 48000.0, 106500.0, 45000.00000000001, 99000.0, 105000.0, 58500.0, 85500.0, 145500.0, 76500.0, 102000.0, 3999.9999999999995, 5000.0, 100.0, 1000.0, 100.0, 1250.0, 200.0, 11600.0, 800.0, 8400.0, 10000.0, 10200.0, 26000.0, 20000.0, 10000.0, 97000.0, 98000.0, 48000.0, 58000.0, 27000.0, 95000.0, 2000.0, 20000.0, 96000.0, 133800.0, 80000.0, 1000.0, 77000.0, 29000.0, 21100.0, 30000.0, 59000.0, 121000.0, 88000.0, 6000.0, 6000.0, 84000.0, 172000.0, 105000.00000000001, 42000.0, 70000.0, 97100.0, 143000.0, 50000.0, 79000.0, 192350.0, 70000.0, 54000.0, 40000.0, 55300.0, 95000.0, 33000.0, 24000.0, 78000.0, 148150.0, 29000.000000000004, 17000.0, 12000.0, 999.9999999999999, 6999.999999999999, 30000.0, 4000.0, 9000.0, 14000.0, 8700.0, 12000.0, 15000.0, 3300.0, 23000.0, 5000.0, 2000.0, 3400.0, 16000.0, 5000.0, 21000.0, 34000.0, 6000.0, 12000.0, 1000.0, 3000.0, 5000.0, 9000.0, 8000.000000000001, 6000.0, 12000.0, 10200.0, 5000.0, 3000.0, 3000.0, 3000.0, 3000.0, 9000.0, 3000.0, 5000.0, 20000.0, 6000.0, 4000.0, 1000.0, 3000.0, 3000.0, 2000.0, 1000.0, 6000.0, 5000.0, 1000.0, 26000.0, 10000.0, 10000.0, 10000.0, 10000.0, 10000.0, 10000.0, 5000.0, 10000.0, 20000.0, 20000.0, 20000.0, 24000.000000000004, 10000.0, 10000.0, 10000.0, 1500.0, 9000.0, 999.9999999999999, 8600.0, 2000.0000000000002, 2000.0000000000002, 2100.0, 350.0, 1000.0, 2000.0, 3000.0, 2000.0, 7000.0, 4000.0, 3000.0, 3000.0, 3000.0, 3000.0, 2000.0, 18000.0, 25000.0, 16000.000000000002, 9100.0, 19000.0, 8100.0, 7000.0, 15200.0, 24000.0, 1000.0, 11000.0, 14000.0, 8000.0, 3000.0, 6000.0, 2000.0, 6000.0, 23000.0, 2000.0, 16562.0, 4140.0, 20.0, 6460.0, 15999.999999999998, 16000.0, 30000.0, 15999.999999999998, 2000.0000000000002, 2000.0, 2499.9999999999995, 3100.0, 5000.0, 200.0, 14499.999999999998, 50.0, 100.0, 12000.0, 1999.9999999999998, 6000.0, 6000.0, 22000.0, 62000.0, 20000.0, 37000.0, 22000.000000000004, 32000.0, 35000.0, 122000.0, 39000.0, 67000.0, 6000.0, 90000.0, 2000.0, 2000.0, 15000.0, 5000.0, 10000.0, 5000.0, 5000.0, 10000.0, 5000.0, 20000.0, 10000.0, 15000.0, 10000.0, 15000.0, 5000.0, 10000.0, 5000.0, 50000.0, 100000.0, 100000.0, 10000.0, 30000.0, 25000.0, 15000.0, 5000.0, 5000.0, 9000.0, 9000.0, 3000.0, 30000.0, 30000.0, 51000.0, 120000.0, 6000.0, 6000.0, 3000.0, 12000.0, 9000.0, 3000.0, 400.0, 1500.0, 1000.0, 1140.0, 1440.0, 1000.0, 200.0, 10800.0, 10000.0, 10000.0, 15600.0, 14400.0, 12000.0, 8000.0, 40000.0, 44000.0, 28000.0, 20000.0, 16000.0, 20000.0, 3000.0, 45000.0, 21000.0, 3000.0, 42000.0, 21000.0, 3000.0, 3000.0, 12000.0, 24000.0, 15000.0, 12000.0, 6000.0, 24000.0, 6000.0, 60000.0, 6000.0, 27000.0, 84000.0, 3000.0, 9000.0, 72000.0, 18000.0, 3000.0, 12000.0, 3000.0, 27000.0, 12000.0, 15000.0, 36000.0, 12000.0, 42000.0, 21000.0, 3000.0, 27000.0, 6000.0, 6000.0, 6000.0, 12000.0, 3000.0, 2000.0, 2000.0, 4000.0, 4000.0, 4000.0, 4000.0, 4000.0, 1.0, 46580.64516129032, 15900.481850925558, 234646.1049851278, 212243.41620255326, 2932.319482274989, 4000.0, 116376.05232097235, 182456.26521744614, 8531.214584571278, 168647.7431173085, 121879.82408858018, 462713.89010135684, 96919.04748668171, 143002.417327453, 15211.67883211679, 201171.90369853217, 4000.0, 37943.580136298224, 169590.52057873987, 220022.6944509928, 12000.0, 41746.927934951396, 248181.77437705328, 101008.25505974612, 129063.67199892225, 53562.50000000001, 348035.7033629156, 199037.42258438794, 174337.25053166287, 33849.49404380684, 186681.66549521775, 223527.3752018112, 4000.0, 122601.94059653467, 181933.35664419632, 304823.05282936606, 148180.43940917062, 116453.20103521591, 129141.42669855, 30000.0, 30000.0, 6000.0, 30000.0, 39844.308419596215, 13304.757655154082, 25000.0, 6832.577042270824, 10406.383548600164, 76721.24677018069, 106147.3697471052, 68993.54264662668, 5000.0, 4351.840641483033, 5000.0, 1.0, 5814.5908847696255, 6218.227573647024, 84636.86217889434, 57231.58030664448, 3860.9687224493723, 7759.8753364469685, 54492.51938951941, 29870.27773219318, 14089.584251844788, 10000.0, 70775.97920687955, 71402.39333904683, 19840.18454244127, 3332.26136117781, 33783.41755310448, 7112.351563806103, 8206.976744731337, 75308.06754627204, 146911.97716911373, 5897.563649139118, 12915.937969131433, 63997.82912649923, 24973.71458890699, 8482.844435369043, 100.00000000000001, 56369.739642975466, 7637.099348880677, 14021.802526481542, 27848.283048095218, 44737.96106730888, 13881.666748175447, 65894.53196561338, 30400.289182624696, 4943.047954415602, 16717.091627686426, 92881.2862518478, 40210.47421185898, 13310.755998737784, 6000.0, 4971.119133656929, 29617.879810655635, 7606.894306737817, 5002.254403039707, 109901.68228677945, 68744.23426310149, 60000.0, 10210.501889544521, 4987.706451440483, 45000.0, 25320.0, 6000.0, 12000.0, 24000.0, 8171.1383279400325, 61519.31280002815, 15000.0, 33418.49710982659, 21000.0, 12000.0, 35333.33333333333, 16108.912075099406, 69239.56994273694, 12000.0, 20601.458184290575, 6000.0, 24000.0, 6000.0, 11330.564169157116, 7409.652864031975, 94973.25426675353, 86062.2370151578, 3867.1403755961387, 9457.094185731052, 63254.70341538817, 54776.527484908, 15529.743005771907, 42680.933807850866, 81041.1262367854, 86639.40540566648, 25877.76649070002, 3332.26136117781, 81181.68460163788, 26499.018650760416, 8206.976744731337, 75308.06754627204, 156008.0183285191, 7174.3451034769405, 13571.4437524602, 93461.95755875463, 33713.29682047868, 8633.211672942689, 19349.701168676034, 74537.1989302763, 20930.038603533925, 20824.898472620785, 100751.6449746795, 28096.11017852635, 124568.39021082643, 21824.282573077813, 77743.68017575728, 67049.80800070436, 4943.047954415602, 17488.95965840022, 124618.16259807788, 46319.38927522221, 13487.349930475542, 9522.279776260188, 122985.34215524702, 40989.13846957353, 7606.894306737817, 11188.428622357957, 110763.29882753531, 71289.31143191806, 13001.17474457946, 18423.936288778423, 88738.26420728545, 73537.07597563666, 64930.84650887343, 68734.75560294518]}, \"name\": \"\", \"parents\": [\"2019/MT-SYSTEM/April/RF\", \"2020/MT-SYSTEM/April/RF\", \"2019/MT-SYSTEM/January/RF\", \"2020/MT-SYSTEM/September/RF\", \"2019/MT-SYSTEM/April/RF\", \"2019/MT-SYSTEM/January/RF\", \"2019/MT-SYSTEM/March/RF\", \"2019/MT-SYSTEM/May/RF\", \"2020/TELTONIKA/August/RF\", \"2020/TELTONIKA/December/RF\", \"2020/TELTONIKA/November/RF\", \"2020/TELTONIKA/October/RF\", \"2020/TELTONIKA/September/RF\", \"2020/TELTONIKA/December/RF\", \"2020/TELTONIKA/July/RF\", \"2020/TELTONIKA/May/RF\", \"2020/TELTONIKA/November/RF\", \"2020/TELTONIKA/September/RF\", \"2020/TELTONIKA/April/RF\", \"2020/TELTONIKA/August/RF\", \"2020/TELTONIKA/December/RF\", \"2020/TELTONIKA/July/RF\", \"2020/TELTONIKA/June/RF\", \"2020/TELTONIKA/May/RF\", \"2020/TELTONIKA/November/RF\", \"2020/TELTONIKA/October/RF\", \"2020/TELTONIKA/September/RF\", \"2019/MT-SYSTEM/August/RF\", \"2019/MT-SYSTEM/July/RF\", \"2019/MT-SYSTEM/May/RF\", \"2019/MT-SYSTEM/November/RF\", \"2019/MT-SYSTEM/September/RF\", \"2019/MT-SYSTEM/August/RF\", \"2019/MT-SYSTEM/July/RF\", \"2020/MT-SYSTEM/October/RF\", \"2019/MT-SYSTEM/September/RF\", \"2020/MT-SYSTEM/September/RF\", \"2019/MT-SYSTEM/March/RF\", \"2019/MT-SYSTEM/May/RF\", \"2019/MT-SYSTEM/September/RF\", \"2019/MT-SYSTEM/August/RF\", \"2020/MT-SYSTEM/August/RF\", \"2020/MT-SYSTEM/June/RF\", \"2019/MT-SYSTEM/November/RF\", \"2019/MT-SYSTEM/April/RF\", \"2020/MT-SYSTEM/April/RF\", \"2020/MT-SYSTEM/August/RF\", \"2019/MT-SYSTEM/June/RF\", \"2019/MT-SYSTEM/March/RF\", \"2019/MT-SYSTEM/November/RF\", \"2020/MT-SYSTEM/September/RF\", \"2020/TELTONIKA/December/RF\", \"2020/TELTONIKA/November/RF\", \"2020/TELTONIKA/October/RF\", \"2020/TELTONIKA/December/RF\", \"2020/TELTONIKA/April/EMC\", \"2020/TELTONIKA/August/EMC\", \"2019/TELTONIKA/December/EMC\", \"2020/TELTONIKA/December/EMC\", \"2020/TELTONIKA/July/EMC\", \"2020/TELTONIKA/June/EMC\", \"2020/TELTONIKA/May/EMC\", \"2020/TELTONIKA/November/EMC\", \"2019/TELTONIKA/October/EMC\", \"2020/TELTONIKA/October/EMC\", \"2019/TELTONIKA/September/EMC\", \"2020/TELTONIKA/September/EMC\", \"2020/TELTONIKA/April/EMC\", \"2019/TELTONIKA/August/EMC\", \"2019/TELTONIKA/December/EMC\", \"2020/TELTONIKA/December/EMC\", \"2020/TELTONIKA/February/EMC\", \"2020/TELTONIKA/January/EMC\", \"2019/TELTONIKA/July/EMC\", \"2020/TELTONIKA/July/EMC\", \"2019/TELTONIKA/June/EMC\", \"2020/TELTONIKA/March/EMC\", \"2019/TELTONIKA/May/EMC\", \"2020/TELTONIKA/May/EMC\", \"2019/TELTONIKA/November/EMC\", \"2020/TELTONIKA/November/EMC\", \"2019/TELTONIKA/October/EMC\", \"2020/TELTONIKA/October/EMC\", \"2019/TELTONIKA/September/EMC\", \"2020/TELTONIKA/September/EMC\", \"2020/TELTONIKA/April/EMC\", \"2019/TELTONIKA/August/EMC\", \"2019/TELTONIKA/December/EMC\", \"2020/TELTONIKA/December/EMC\", \"2020/TELTONIKA/February/EMC\", \"2020/TELTONIKA/January/EMC\", \"2019/TELTONIKA/July/EMC\", \"2020/TELTONIKA/July/EMC\", \"2019/TELTONIKA/June/EMC\", \"2020/TELTONIKA/June/EMC\", \"2020/TELTONIKA/March/EMC\", \"2020/TELTONIKA/May/EMC\", \"2019/TELTONIKA/November/EMC\", \"2020/TELTONIKA/November/EMC\", \"2019/TELTONIKA/October/EMC\", \"2020/TELTONIKA/October/EMC\", \"2020/TELTONIKA/April/EMC\", \"2019/TELTONIKA/August/EMC\", \"2019/TELTONIKA/December/EMC\", \"2020/TELTONIKA/December/EMC\", \"2020/TELTONIKA/February/EMC\", \"2020/TELTONIKA/January/EMC\", \"2019/TELTONIKA/July/EMC\", \"2020/TELTONIKA/July/EMC\", \"2020/TELTONIKA/March/EMC\", \"2020/TELTONIKA/May/EMC\", \"2020/TELTONIKA/November/EMC\", \"2020/TELTONIKA/October/EMC\", \"2019/TELTONIKA/September/EMC\", \"2020/TELTONIKA/September/EMC\", \"2019/TELTONIKA/April/EMC\", \"2020/TELTONIKA/April/EMC\", \"2019/TELTONIKA/August/EMC\", \"2019/TELTONIKA/December/EMC\", \"2020/TELTONIKA/December/EMC\", \"2020/TELTONIKA/February/EMC\", \"2020/TELTONIKA/January/EMC\", \"2019/TELTONIKA/July/EMC\", \"2020/TELTONIKA/June/EMC\", \"2019/TELTONIKA/May/EMC\", \"2020/TELTONIKA/May/EMC\", \"2019/TELTONIKA/November/EMC\", \"2020/TELTONIKA/November/EMC\", \"2019/TELTONIKA/October/EMC\", \"2020/TELTONIKA/October/EMC\", \"2019/TELTONIKA/September/EMC\", \"2020/TELTONIKA/April/EMC\", \"2019/TELTONIKA/August/EMC\", \"2019/TELTONIKA/December/EMC\", \"2020/TELTONIKA/December/EMC\", \"2020/TELTONIKA/January/EMC\", \"2019/TELTONIKA/July/EMC\", \"2020/TELTONIKA/July/EMC\", \"2020/TELTONIKA/March/EMC\", \"2020/TELTONIKA/May/EMC\", \"2019/TELTONIKA/November/EMC\", \"2020/TELTONIKA/November/EMC\", \"2019/TELTONIKA/October/EMC\", \"2020/TELTONIKA/October/EMC\", \"2019/TELTONIKA/September/EMC\", \"2020/TELTONIKA/September/EMC\", \"2019/TELTONIKA/December/EMC\", \"2020/TELTONIKA/December/EMC\", \"2020/TELTONIKA/February/EMC\", \"2020/TELTONIKA/January/EMC\", \"2019/TELTONIKA/July/EMC\", \"2020/TELTONIKA/July/EMC\", \"2020/TELTONIKA/June/EMC\", \"2020/TELTONIKA/March/EMC\", \"2019/TELTONIKA/May/EMC\", \"2020/TELTONIKA/May/EMC\", \"2019/TELTONIKA/November/EMC\", \"2020/TELTONIKA/November/EMC\", \"2019/TELTONIKA/October/EMC\", \"2020/TELTONIKA/October/EMC\", \"2019/TELTONIKA/September/EMC\", \"2020/TELTONIKA/April/EMC\", \"2020/TELTONIKA/March/EMC\", \"2020/TELTONIKA/December/EMC\", \"2020/TELTONIKA/November/EMC\", \"2020/TELTONIKA/October/EMC\", \"2020/TELTONIKA/September/EMC\", \"2020/TELTONIKA/April/EMC\", \"2019/TELTONIKA/August/EMC\", \"2019/TELTONIKA/December/EMC\", \"2020/TELTONIKA/December/EMC\", \"2020/TELTONIKA/January/EMC\", \"2019/TELTONIKA/July/EMC\", \"2020/TELTONIKA/July/EMC\", \"2020/TELTONIKA/June/EMC\", \"2020/TELTONIKA/March/EMC\", \"2019/TELTONIKA/May/EMC\", \"2020/TELTONIKA/May/EMC\", \"2019/TELTONIKA/November/EMC\", \"2020/TELTONIKA/November/EMC\", \"2019/TELTONIKA/October/EMC\", \"2019/TELTONIKA/September/EMC\", \"2019/TELTONIKA/April/EMC\", \"2020/TELTONIKA/April/EMC\", \"2019/TELTONIKA/December/EMC\", \"2020/TELTONIKA/December/EMC\", \"2020/TELTONIKA/February/EMC\", \"2020/TELTONIKA/January/EMC\", \"2019/TELTONIKA/July/EMC\", \"2020/TELTONIKA/July/EMC\", \"2019/TELTONIKA/June/EMC\", \"2020/TELTONIKA/June/EMC\", \"2020/TELTONIKA/March/EMC\", \"2019/TELTONIKA/May/EMC\", \"2020/TELTONIKA/May/EMC\", \"2019/TELTONIKA/November/EMC\", \"2020/TELTONIKA/November/EMC\", \"2019/TELTONIKA/October/EMC\", \"2020/TELTONIKA/October/EMC\", \"2019/TELTONIKA/September/EMC\", \"2020/TELTONIKA/September/EMC\", \"2020/TELTONIKA/April/EMC\", \"2019/TELTONIKA/August/EMC\", \"2019/TELTONIKA/December/EMC\", \"2020/TELTONIKA/December/EMC\", \"2020/TELTONIKA/February/EMC\", \"2020/TELTONIKA/January/EMC\", \"2020/TELTONIKA/July/EMC\", \"2020/TELTONIKA/June/EMC\", \"2020/TELTONIKA/March/EMC\", \"2020/TELTONIKA/May/EMC\", \"2019/TELTONIKA/November/EMC\", \"2020/TELTONIKA/November/EMC\", \"2019/TELTONIKA/October/EMC\", \"2020/TELTONIKA/October/EMC\", \"2019/TELTONIKA/September/EMC\", \"2020/TELTONIKA/September/EMC\", \"2019/TELTONIKA/August/EMC\", \"2019/TELTONIKA/December/EMC\", \"2020/TELTONIKA/December/EMC\", \"2020/TELTONIKA/February/EMC\", \"2019/TELTONIKA/November/EMC\", \"2019/TELTONIKA/October/EMC\", \"2019/TELTONIKA/September/EMC\", \"2020/TELTONIKA/October/EMC\", \"2020/TELTONIKA/September/EMC\", \"2019/TELTONIKA/April/EMC\", \"2020/TELTONIKA/April/EMC\", \"2019/TELTONIKA/December/EMC\", \"2020/TELTONIKA/December/EMC\", \"2020/TELTONIKA/January/EMC\", \"2019/TELTONIKA/July/EMC\", \"2020/TELTONIKA/July/EMC\", \"2019/TELTONIKA/June/EMC\", \"2020/TELTONIKA/March/EMC\", \"2019/TELTONIKA/May/EMC\", \"2020/TELTONIKA/May/EMC\", \"2019/TELTONIKA/November/EMC\", \"2020/TELTONIKA/November/EMC\", \"2019/TELTONIKA/October/EMC\", \"2020/TELTONIKA/October/EMC\", \"2019/TELTONIKA/September/EMC\", \"2020/TELTONIKA/April/EMC\", \"2019/TELTONIKA/August/EMC\", \"2020/TELTONIKA/August/EMC\", \"2019/TELTONIKA/December/EMC\", \"2020/TELTONIKA/December/EMC\", \"2020/TELTONIKA/February/EMC\", \"2020/TELTONIKA/January/EMC\", \"2020/TELTONIKA/July/EMC\", \"2020/TELTONIKA/June/EMC\", \"2020/TELTONIKA/May/EMC\", \"2019/TELTONIKA/November/EMC\", \"2020/TELTONIKA/November/EMC\", \"2019/TELTONIKA/October/EMC\", \"2020/TELTONIKA/October/EMC\", \"2020/TELTONIKA/September/EMC\", \"2020/TELTONIKA/April/EMC\", \"2019/TELTONIKA/August/EMC\", \"2019/TELTONIKA/December/EMC\", \"2020/TELTONIKA/December/EMC\", \"2020/TELTONIKA/February/EMC\", \"2020/TELTONIKA/January/EMC\", \"2019/TELTONIKA/July/EMC\", \"2020/TELTONIKA/July/EMC\", \"2020/TELTONIKA/March/EMC\", \"2020/TELTONIKA/May/EMC\", \"2019/TELTONIKA/November/EMC\", \"2020/TELTONIKA/November/EMC\", \"2019/TELTONIKA/October/EMC\", \"2020/TELTONIKA/October/EMC\", \"2019/TELTONIKA/September/EMC\", \"2020/TELTONIKA/September/EMC\", \"2020/TELTONIKA/April/EMC\", \"2019/TELTONIKA/August/EMC\", \"2019/TELTONIKA/December/EMC\", \"2020/TELTONIKA/December/EMC\", \"2020/TELTONIKA/February/EMC\", \"2020/TELTONIKA/January/EMC\", \"2020/TELTONIKA/July/EMC\", \"2020/TELTONIKA/June/EMC\", \"2020/TELTONIKA/March/EMC\", \"2020/TELTONIKA/May/EMC\", \"2019/TELTONIKA/November/EMC\", \"2020/TELTONIKA/November/EMC\", \"2019/TELTONIKA/October/EMC\", \"2020/TELTONIKA/October/EMC\", \"2019/TELTONIKA/September/EMC\", \"2020/TELTONIKA/September/EMC\", \"2020/TELTONIKA/April/EMC\", \"2019/TELTONIKA/December/EMC\", \"2020/TELTONIKA/December/EMC\", \"2020/TELTONIKA/January/EMC\", \"2019/TELTONIKA/July/EMC\", \"2019/TELTONIKA/June/EMC\", \"2020/TELTONIKA/March/EMC\", \"2020/TELTONIKA/May/EMC\", \"2019/TELTONIKA/November/EMC\", \"2020/TELTONIKA/November/EMC\", \"2019/TELTONIKA/October/EMC\", \"2020/TELTONIKA/October/EMC\", \"2019/TELTONIKA/September/EMC\", \"2020/TELTONIKA/April/EMC\", \"2019/TELTONIKA/August/EMC\", \"2019/MT-SYSTEM/August/EMC\", \"2019/TELTONIKA/April/EMC\", \"2020/TELTONIKA/April/EMC\", \"2019/TELTONIKA/December/EMC\", \"2020/TELTONIKA/December/EMC\", \"2020/TELTONIKA/February/EMC\", \"2020/TELTONIKA/January/EMC\", \"2019/TELTONIKA/July/EMC\", \"2020/TELTONIKA/July/EMC\", \"2019/TELTONIKA/June/EMC\", \"2020/TELTONIKA/June/EMC\", \"2020/TELTONIKA/March/EMC\", \"2019/TELTONIKA/May/EMC\", \"2020/TELTONIKA/May/EMC\", \"2019/TELTONIKA/November/EMC\", \"2020/TELTONIKA/November/EMC\", \"2019/TELTONIKA/October/EMC\", \"2019/TELTONIKA/September/EMC\", \"2019/MT-SYSTEM/August/EMC\", \"2019/MT-SYSTEM/January/EMC\", \"2019/MT-SYSTEM/April/EMC\", \"2019/MT-SYSTEM/January/EMC\", \"2019/MT-SYSTEM/June/EMC\", \"2019/MT-SYSTEM/April/EMC\", \"2019/MT-SYSTEM/January/EMC\", \"2019/MT-SYSTEM/June/EMC\", \"2019/MT-SYSTEM/April/EMC\", \"2019/MT-SYSTEM/April/EMC\", \"2019/MT-SYSTEM/April/EMC\", \"2019/MT-SYSTEM/August/EMC\", \"2019/MT-SYSTEM/January/EMC\", \"2019/MT-SYSTEM/April/EMC\", \"2019/MT-SYSTEM/January/EMC\", \"2020/MT-SYSTEM/December/EMC\", \"2020/MT-SYSTEM/February/EMC\", \"2020/MT-SYSTEM/March/EMC\", \"2020/MT-SYSTEM/September/EMC\", \"2020/MT-SYSTEM/February/EMC\", \"2020/MT-SYSTEM/July/EMC\", \"2020/MT-SYSTEM/June/EMC\", \"2020/MT-SYSTEM/November/EMC\", \"2020/MT-SYSTEM/September/EMC\", \"2019/TELTONIKA/April/EMC\", \"2020/TELTONIKA/January/EMC\", \"2019/TELTONIKA/March/EMC\", \"2020/TELTONIKA/March/EMC\", \"2019/TELTONIKA/April/EMC\", \"2020/TELTONIKA/April/EMC\", \"2019/TELTONIKA/August/EMC\", \"2019/TELTONIKA/December/EMC\", \"2020/TELTONIKA/December/EMC\", \"2020/TELTONIKA/January/EMC\", \"2019/TELTONIKA/July/EMC\", \"2020/TELTONIKA/July/EMC\", \"2019/TELTONIKA/June/EMC\", \"2020/TELTONIKA/June/EMC\", \"2019/TELTONIKA/March/EMC\", \"2020/TELTONIKA/March/EMC\", \"2019/TELTONIKA/May/EMC\", \"2020/TELTONIKA/May/EMC\", \"2019/TELTONIKA/November/EMC\", \"2020/TELTONIKA/November/EMC\", \"2020/TELTONIKA/October/EMC\", \"2019/TELTONIKA/September/EMC\", \"2020/TELTONIKA/September/EMC\", \"2020/MT-SYSTEM/December/EMC\", \"2020/MT-SYSTEM/February/EMC\", \"2020/MT-SYSTEM/July/EMC\", \"2020/MT-SYSTEM/June/EMC\", \"2020/MT-SYSTEM/March/EMC\", \"2020/MT-SYSTEM/October/EMC\", \"2020/MT-SYSTEM/April/EMC\", \"2020/MT-SYSTEM/February/EMC\", \"2020/MT-SYSTEM/July/EMC\", \"2020/MT-SYSTEM/June/EMC\", \"2020/MT-SYSTEM/March/EMC\", \"2020/MT-SYSTEM/November/EMC\", \"2020/MT-SYSTEM/October/EMC\", \"2020/MT-SYSTEM/September/EMC\", \"2020/TELTONIKA/April/EMC\", \"2019/TELTONIKA/December/EMC\", \"2020/TELTONIKA/December/EMC\", \"2020/TELTONIKA/February/EMC\", \"2020/TELTONIKA/January/EMC\", \"2019/TELTONIKA/July/EMC\", \"2020/TELTONIKA/July/EMC\", \"2019/TELTONIKA/June/EMC\", \"2020/TELTONIKA/June/EMC\", \"2020/TELTONIKA/March/EMC\", \"2020/TELTONIKA/May/EMC\", \"2019/TELTONIKA/November/EMC\", \"2020/TELTONIKA/November/EMC\", \"2020/TELTONIKA/October/EMC\", \"2019/TELTONIKA/September/EMC\", \"2020/TELTONIKA/September/EMC\", \"2019/TELTONIKA/April/EMC\", \"2020/TELTONIKA/April/EMC\", \"2019/TELTONIKA/August/EMC\", \"2019/TELTONIKA/December/EMC\", \"2020/TELTONIKA/December/EMC\", \"2020/TELTONIKA/February/EMC\", \"2020/TELTONIKA/January/EMC\", \"2019/TELTONIKA/July/EMC\", \"2019/TELTONIKA/June/EMC\", \"2020/TELTONIKA/June/EMC\", \"2020/TELTONIKA/March/EMC\", \"2019/TELTONIKA/May/EMC\", \"2020/TELTONIKA/May/EMC\", \"2019/TELTONIKA/November/EMC\", \"2020/TELTONIKA/November/EMC\", \"2019/TELTONIKA/October/EMC\", \"2019/TELTONIKA/September/EMC\", \"2020/TELTONIKA/September/EMC\", \"2019/MT-SYSTEM/September/RF\", \"2019/MT-SYSTEM/December/EMC\", \"2019/MT-SYSTEM/December/EMC\", \"2020/MT-SYSTEM/June/EMC\", \"2020/TELTONIKA/April/EMC\", \"2020/TELTONIKA/August/EMC\", \"2019/TELTONIKA/December/EMC\", \"2020/TELTONIKA/February/EMC\", \"2020/TELTONIKA/January/EMC\", \"2019/TELTONIKA/July/EMC\", \"2019/TELTONIKA/November/EMC\", \"2019/TELTONIKA/September/EMC\", \"2020/TELTONIKA/September/EMC\", \"2019/TELTONIKA/August/EMC\", \"2020/TELTONIKA/August/EMC\", \"2019/TELTONIKA/December/EMC\", \"2020/TELTONIKA/February/EMC\", \"2020/TELTONIKA/January/EMC\", \"2019/TELTONIKA/July/EMC\", \"2020/TELTONIKA/May/EMC\", \"2019/TELTONIKA/November/EMC\", \"2019/TELTONIKA/September/EMC\", \"2020/TELTONIKA/September/EMC\", \"2019/MT-SYSTEM/August/RF\", \"2019/MT-SYSTEM/March/RF\", \"2020/MT-SYSTEM/August/RF\", \"2019/MT-SYSTEM/January/RF\", \"2020/MT-SYSTEM/January/RF\", \"2019/MT-SYSTEM/July/RF\", \"2019/MT-SYSTEM/March/RF\", \"2020/MT-SYSTEM/February/RF\", \"2019/MT-SYSTEM/January/RF\", \"2020/MT-SYSTEM/January/RF\", \"2020/MT-SYSTEM/July/RF\", \"2019/MT-SYSTEM/March/RF\", \"2019/MT-SYSTEM/May/RF\", \"2020/MT-SYSTEM/November/RF\", \"2020/MT-SYSTEM/September/RF\", \"2019/TELTONIKA/April/RF\", \"2020/TELTONIKA/April/RF\", \"2019/TELTONIKA/August/RF\", \"2020/TELTONIKA/August/RF\", \"2019/TELTONIKA/December/RF\", \"2020/TELTONIKA/December/RF\", \"2019/TELTONIKA/February/RF\", \"2020/TELTONIKA/February/RF\", \"2019/TELTONIKA/January/RF\", \"2020/TELTONIKA/January/RF\", \"2019/TELTONIKA/July/RF\", \"2020/TELTONIKA/July/RF\", \"2019/TELTONIKA/June/RF\", \"2019/TELTONIKA/March/RF\", \"2020/TELTONIKA/March/RF\", \"2019/TELTONIKA/May/RF\", \"2020/TELTONIKA/May/RF\", \"2019/TELTONIKA/November/RF\", \"2020/TELTONIKA/November/RF\", \"2019/TELTONIKA/October/RF\", \"2020/TELTONIKA/October/RF\", \"2019/TELTONIKA/September/RF\", \"2020/TELTONIKA/September/RF\", \"2019/TELTONIKA/April/RF\", \"2020/TELTONIKA/April/RF\", \"2019/TELTONIKA/August/RF\", \"2019/TELTONIKA/December/RF\", \"2020/TELTONIKA/December/RF\", \"2020/TELTONIKA/February/RF\", \"2019/TELTONIKA/January/RF\", \"2020/TELTONIKA/January/RF\", \"2019/TELTONIKA/July/RF\", \"2019/TELTONIKA/June/RF\", \"2019/TELTONIKA/March/RF\", \"2020/TELTONIKA/March/RF\", \"2019/TELTONIKA/May/RF\", \"2019/TELTONIKA/November/RF\", \"2020/TELTONIKA/November/RF\", \"2020/TELTONIKA/October/RF\", \"2019/TELTONIKA/September/RF\", \"2019/TELTONIKA/April/RF\", \"2020/TELTONIKA/April/RF\", \"2019/TELTONIKA/August/RF\", \"2020/TELTONIKA/August/RF\", \"2019/TELTONIKA/December/RF\", \"2020/TELTONIKA/December/RF\", \"2019/TELTONIKA/February/RF\", \"2020/TELTONIKA/February/RF\", \"2019/TELTONIKA/January/RF\", \"2020/TELTONIKA/January/RF\", \"2020/TELTONIKA/July/RF\", \"2019/TELTONIKA/June/RF\", \"2020/TELTONIKA/June/RF\", \"2019/TELTONIKA/March/RF\", \"2019/TELTONIKA/May/RF\", \"2020/TELTONIKA/May/RF\", \"2019/TELTONIKA/November/RF\", \"2020/TELTONIKA/November/RF\", \"2020/TELTONIKA/October/RF\", \"2019/TELTONIKA/September/RF\", \"2020/TELTONIKA/September/RF\", \"2019/TELTONIKA/April/RF\", \"2020/TELTONIKA/April/RF\", \"2019/TELTONIKA/August/RF\", \"2019/TELTONIKA/December/RF\", \"2019/TELTONIKA/January/RF\", \"2020/TELTONIKA/January/RF\", \"2019/TELTONIKA/July/RF\", \"2019/TELTONIKA/March/RF\", \"2019/TELTONIKA/May/RF\", \"2019/TELTONIKA/November/RF\", \"2019/TELTONIKA/September/RF\", \"2020/TELTONIKA/April/RF\", \"2019/TELTONIKA/June/RF\", \"2019/TELTONIKA/May/RF\", \"2020/TELTONIKA/September/RF\", \"2020/TELTONIKA/April/RF\", \"2019/TELTONIKA/August/RF\", \"2020/TELTONIKA/August/RF\", \"2020/TELTONIKA/December/RF\", \"2019/TELTONIKA/January/RF\", \"2020/TELTONIKA/January/RF\", \"2020/TELTONIKA/July/RF\", \"2019/TELTONIKA/June/RF\", \"2019/TELTONIKA/March/RF\", \"2020/TELTONIKA/March/RF\", \"2019/TELTONIKA/May/RF\", \"2020/TELTONIKA/November/RF\", \"2020/TELTONIKA/October/RF\", \"2019/TELTONIKA/September/RF\", \"2020/TELTONIKA/September/RF\", \"2020/MT-SYSTEM/April/RF\", \"2019/MT-SYSTEM/December/RF\", \"2019/MT-SYSTEM/May/RF\", \"2019/MT-SYSTEM/October/RF\", \"2019/MT-SYSTEM/September/RF\", \"2020/MT-SYSTEM/December/RF\", \"2019/MT-SYSTEM/May/RF\", \"2020/MT-SYSTEM/December/RF\", \"2019/MT-SYSTEM/May/RF\", \"2020/MT-SYSTEM/August/RF\", \"2019/MT-SYSTEM/December/RF\", \"2020/MT-SYSTEM/February/RF\", \"2020/MT-SYSTEM/November/RF\", \"2019/MT-SYSTEM/October/RF\", \"2020/MT-SYSTEM/September/RF\", \"2020/TELTONIKA/August/RF\", \"2020/TELTONIKA/December/RF\", \"2020/TELTONIKA/June/RF\", \"2020/TELTONIKA/September/RF\", \"2019/TELTONIKA/December/RF\", \"2020/TELTONIKA/January/RF\", \"2020/TELTONIKA/September/RF\", \"2019/MT-SYSTEM/May/RF\", \"2019/TELTONIKA/August/RF\", \"2020/TELTONIKA/December/RF\", \"2020/TELTONIKA/February/RF\", \"2019/TELTONIKA/January/RF\", \"2020/TELTONIKA/January/RF\", \"2019/TELTONIKA/July/RF\", \"2020/TELTONIKA/June/RF\", \"2020/TELTONIKA/May/RF\", \"2019/TELTONIKA/October/RF\", \"2019/TELTONIKA/September/RF\", \"2020/TELTONIKA/September/RF\", \"2019/TELTONIKA/April/RF\", \"2020/TELTONIKA/April/RF\", \"2020/TELTONIKA/August/RF\", \"2019/TELTONIKA/December/RF\", \"2020/TELTONIKA/December/RF\", \"2020/TELTONIKA/February/RF\", \"2019/TELTONIKA/January/RF\", \"2020/TELTONIKA/January/RF\", \"2019/TELTONIKA/July/RF\", \"2020/TELTONIKA/July/RF\", \"2019/TELTONIKA/June/RF\", \"2019/TELTONIKA/March/RF\", \"2019/TELTONIKA/May/RF\", \"2019/TELTONIKA/November/RF\", \"2020/TELTONIKA/November/RF\", \"2020/TELTONIKA/October/RF\", \"2019/TELTONIKA/September/RF\", \"2020/TELTONIKA/September/RF\", \"2020/MT-SYSTEM/April/RF\", \"2019/MT-SYSTEM/October/RF\", \"2019/MT-SYSTEM/September/RF\", \"2019/MT-SYSTEM/April/RF\", \"2019/MT-SYSTEM/August/RF\", \"2020/MT-SYSTEM/July/RF\", \"2019/MT-SYSTEM/June/RF\", \"2019/MT-SYSTEM/March/RF\", \"2019/MT-SYSTEM/September/RF\", \"2020/TELTONIKA/April/RF\", \"2020/TELTONIKA/August/RF\", \"2020/TELTONIKA/January/RF\", \"2020/TELTONIKA/May/RF\", \"2020/TELTONIKA/November/RF\", \"2020/TELTONIKA/October/RF\", \"2020/TELTONIKA/September/RF\", \"2020/TELTONIKA/August/RF\", \"2020/MT-SYSTEM/August/RF\", \"2020/TELTONIKA/December/RF\", \"2020/TELTONIKA/July/RF\", \"2020/TELTONIKA/November/RF\", \"2020/TELTONIKA/September/RF\", \"2020/TELTONIKA/August/RF\", \"2020/TELTONIKA/December/RF\", \"2020/TELTONIKA/July/RF\", \"2020/TELTONIKA/November/RF\", \"2020/TELTONIKA/October/RF\", \"2020/TELTONIKA/September/RF\", \"2020/TELTONIKA/August/RF\", \"2020/TELTONIKA/December/RF\", \"2020/TELTONIKA/July/RF\", \"2020/TELTONIKA/November/RF\", \"2020/TELTONIKA/October/RF\", \"2020/TELTONIKA/September/RF\", \"2020/TELTONIKA/December/RF\", \"2020/TELTONIKA/July/RF\", \"2020/MT-SYSTEM/February/PC\", \"2020/MT-SYSTEM/June/PC\", \"2020/MT-SYSTEM/March/PC\", \"2020/MT-SYSTEM/November/PC\", \"2020/MT-SYSTEM/October/PC\", \"2020/MT-SYSTEM/December/PC\", \"2019/MT-SYSTEM/June/PC\", \"2019/MT-SYSTEM/March/PC\", \"2019/MT-SYSTEM/May/PC\", \"2019/MT-SYSTEM/May/PC\", \"2020/MT-SYSTEM/December/PC\", \"2020/MT-SYSTEM/February/PC\", \"2020/MT-SYSTEM/June/PC\", \"2020/MT-SYSTEM/March/PC\", \"2020/MT-SYSTEM/November/PC\", \"2020/MT-SYSTEM/December/PC\", \"2019/MT-SYSTEM/March/PC\", \"2019/MT-SYSTEM/May/PC\", \"2020/MT-SYSTEM/December/PC\", \"2019/MT-SYSTEM/December/PC\", \"2019/MT-SYSTEM/July/PC\", \"2019/MT-SYSTEM/May/PC\", \"2019/MT-SYSTEM/March/PC\", \"2019/MT-SYSTEM/October/PC\", \"2019/MT-SYSTEM/May/PC\", \"2020/MT-SYSTEM/December/PC\", \"2019/MT-SYSTEM/June/PC\", \"2019/MT-SYSTEM/April/PC\", \"2020/MT-SYSTEM/April/PC\", \"2020/MT-SYSTEM/December/PC\", \"2020/MT-SYSTEM/March/PC\", \"2019/MT-SYSTEM/August/PC\", \"2020/MT-SYSTEM/February/PC\", \"2019/MT-SYSTEM/October/PC\", \"2020/MT-SYSTEM/June/PC\", \"2019/MT-SYSTEM/June/PC\", \"2019/MT-SYSTEM/June/PC\", \"2020/MT-SYSTEM/April/RF\", \"2020/MT-SYSTEM/August/RF\", \"2019/MT-SYSTEM/December/RF\", \"2019/MT-SYSTEM/July/RF\", \"2019/MT-SYSTEM/May/RF\", \"2019/MT-SYSTEM/September/RF\", \"2020/MT-SYSTEM/September/RF\", \"2019/MT-SYSTEM/December/RF\", \"2019/MT-SYSTEM/January/RF\", \"2020/MT-SYSTEM/July/RF\", \"2019/MT-SYSTEM/May/RF\", \"2019/MT-SYSTEM/September/RF\", \"2020/TELTONIKA/February/EMC\", \"2020/TELTONIKA/January/EMC\", \"2019/TELTONIKA/July/EMC\", \"2020/TELTONIKA/May/EMC\", \"2019/TELTONIKA/November/EMC\", \"2020/TELTONIKA/November/EMC\", \"2020/TELTONIKA/October/EMC\", \"2019/TELTONIKA/September/EMC\", \"2020/MT-SYSTEM/April/WIP\", \"2020/MT-SYSTEM/August/WIP\", \"2019/MT-SYSTEM/December/WIP\", \"2020/MT-SYSTEM/February/WIP\", \"2019/MT-SYSTEM/January/WIP\", \"2019/MT-SYSTEM/June/WIP\", \"2020/MT-SYSTEM/March/WIP\", \"2019/MT-SYSTEM/October/WIP\", \"2019/TELTONIKA/December/WIP\", \"2020/TELTONIKA/December/WIP\", \"2020/TELTONIKA/January/WIP\", \"2020/TELTONIKA/November/WIP\", \"2019/TELTONIKA/October/WIP\", \"2020/TELTONIKA/October/WIP\", \"2019/TELTONIKA/September/WIP\", \"2019/MT-SYSTEM/April/WIP\", \"2019/MT-SYSTEM/August/WIP\", \"2019/MT-SYSTEM/December/WIP\", \"2019/MT-SYSTEM/January/WIP\", \"2019/MT-SYSTEM/July/WIP\", \"2020/MT-SYSTEM/March/WIP\", \"2019/MT-SYSTEM/May/WIP\", \"2019/MT-SYSTEM/October/WIP\", \"2020/MT-SYSTEM/February/WIP\", \"2020/MT-SYSTEM/April/WIP\", \"2019/MT-SYSTEM/August/WIP\", \"2019/MT-SYSTEM/December/WIP\", \"2020/MT-SYSTEM/February/WIP\", \"2019/MT-SYSTEM/January/WIP\", \"2019/MT-SYSTEM/July/WIP\", \"2020/MT-SYSTEM/June/WIP\", \"2019/MT-SYSTEM/March/WIP\", \"2020/MT-SYSTEM/March/WIP\", \"2019/MT-SYSTEM/May/WIP\", \"2019/MT-SYSTEM/October/WIP\", \"2019/MT-SYSTEM/January/WIP\", \"2020/MT-SYSTEM/December/WIP\", \"2020/MT-SYSTEM/February/WIP\", \"2019/MT-SYSTEM/March/WIP\", \"2019/MT-SYSTEM/October/WIP\", \"2019/MT-SYSTEM/August/EMC\", \"2020/MT-SYSTEM/April/EMC\", \"2020/MT-SYSTEM/August/EMC\", \"2019/MT-SYSTEM/December/EMC\", \"2019/MT-SYSTEM/July/EMC\", \"2020/MT-SYSTEM/November/EMC\", \"2019/MT-SYSTEM/October/EMC\", \"2020/MT-SYSTEM/September/PC\", \"2019/MT-SYSTEM/April\", \"2020/MT-SYSTEM/April\", \"2019/TELTONIKA/April\", \"2020/TELTONIKA/April\", \"2019/MT-SYSTEM/August\", \"2020/MT-SYSTEM/August\", \"2019/TELTONIKA/August\", \"2020/TELTONIKA/August\", \"2019/MT-SYSTEM/December\", \"2020/MT-SYSTEM/December\", \"2019/TELTONIKA/December\", \"2020/TELTONIKA/December\", \"2020/MT-SYSTEM/February\", \"2020/TELTONIKA/February\", \"2019/MT-SYSTEM/January\", \"2020/TELTONIKA/January\", \"2019/MT-SYSTEM/July\", \"2020/MT-SYSTEM/July\", \"2019/TELTONIKA/July\", \"2020/TELTONIKA/July\", \"2019/MT-SYSTEM/June\", \"2020/MT-SYSTEM/June\", \"2019/TELTONIKA/June\", \"2020/TELTONIKA/June\", \"2020/MT-SYSTEM/March\", \"2019/TELTONIKA/March\", \"2020/TELTONIKA/March\", \"2019/TELTONIKA/May\", \"2020/TELTONIKA/May\", \"2020/MT-SYSTEM/November\", \"2019/TELTONIKA/November\", \"2020/TELTONIKA/November\", \"2019/MT-SYSTEM/October\", \"2020/MT-SYSTEM/October\", \"2019/TELTONIKA/October\", \"2020/TELTONIKA/October\", \"2020/MT-SYSTEM/September\", \"2019/TELTONIKA/September\", \"2020/TELTONIKA/September\", \"2019/MT-SYSTEM/April\", \"2020/MT-SYSTEM/April\", \"2019/MT-SYSTEM/August\", \"2019/MT-SYSTEM/December\", \"2020/MT-SYSTEM/December\", \"2020/MT-SYSTEM/February\", \"2019/MT-SYSTEM/July\", \"2019/MT-SYSTEM/June\", \"2020/MT-SYSTEM/June\", \"2019/MT-SYSTEM/March\", \"2020/MT-SYSTEM/March\", \"2019/MT-SYSTEM/May\", \"2020/MT-SYSTEM/November\", \"2019/MT-SYSTEM/October\", \"2020/MT-SYSTEM/October\", \"2020/MT-SYSTEM/September\", \"2019/MT-SYSTEM/April\", \"2020/MT-SYSTEM/April\", \"2019/TELTONIKA/April\", \"2020/TELTONIKA/April\", \"2019/MT-SYSTEM/August\", \"2020/MT-SYSTEM/August\", \"2019/TELTONIKA/August\", \"2020/TELTONIKA/August\", \"2019/MT-SYSTEM/December\", \"2020/MT-SYSTEM/December\", \"2019/TELTONIKA/December\", \"2020/TELTONIKA/December\", \"2020/MT-SYSTEM/February\", \"2019/TELTONIKA/February\", \"2020/TELTONIKA/February\", \"2019/MT-SYSTEM/January\", \"2020/MT-SYSTEM/January\", \"2019/TELTONIKA/January\", \"2020/TELTONIKA/January\", \"2019/MT-SYSTEM/July\", \"2020/MT-SYSTEM/July\", \"2019/TELTONIKA/July\", \"2020/TELTONIKA/July\", \"2019/MT-SYSTEM/June\", \"2020/MT-SYSTEM/June\", \"2019/TELTONIKA/June\", \"2020/TELTONIKA/June\", \"2019/MT-SYSTEM/March\", \"2019/TELTONIKA/March\", \"2020/TELTONIKA/March\", \"2019/MT-SYSTEM/May\", \"2019/TELTONIKA/May\", \"2020/TELTONIKA/May\", \"2019/MT-SYSTEM/November\", \"2020/MT-SYSTEM/November\", \"2019/TELTONIKA/November\", \"2020/TELTONIKA/November\", \"2019/MT-SYSTEM/October\", \"2020/MT-SYSTEM/October\", \"2019/TELTONIKA/October\", \"2020/TELTONIKA/October\", \"2019/MT-SYSTEM/September\", \"2020/MT-SYSTEM/September\", \"2019/TELTONIKA/September\", \"2020/TELTONIKA/September\", \"2019/MT-SYSTEM/April\", \"2020/MT-SYSTEM/April\", \"2019/MT-SYSTEM/August\", \"2020/MT-SYSTEM/August\", \"2019/MT-SYSTEM/December\", \"2020/MT-SYSTEM/December\", \"2019/TELTONIKA/December\", \"2020/TELTONIKA/December\", \"2020/MT-SYSTEM/February\", \"2019/MT-SYSTEM/January\", \"2020/TELTONIKA/January\", \"2019/MT-SYSTEM/July\", \"2019/MT-SYSTEM/June\", \"2020/MT-SYSTEM/June\", \"2019/MT-SYSTEM/March\", \"2020/MT-SYSTEM/March\", \"2019/MT-SYSTEM/May\", \"2020/TELTONIKA/November\", \"2019/MT-SYSTEM/October\", \"2019/TELTONIKA/October\", \"2020/TELTONIKA/October\", \"2019/TELTONIKA/September\", \"2019/MT-SYSTEM\", \"2020/MT-SYSTEM\", \"2019/TELTONIKA\", \"2020/TELTONIKA\", \"2019/MT-SYSTEM\", \"2020/MT-SYSTEM\", \"2019/TELTONIKA\", \"2020/TELTONIKA\", \"2019/MT-SYSTEM\", \"2020/MT-SYSTEM\", \"2019/TELTONIKA\", \"2020/TELTONIKA\", \"2020/MT-SYSTEM\", \"2019/TELTONIKA\", \"2020/TELTONIKA\", \"2019/MT-SYSTEM\", \"2020/MT-SYSTEM\", \"2019/TELTONIKA\", \"2020/TELTONIKA\", \"2019/MT-SYSTEM\", \"2020/MT-SYSTEM\", \"2019/TELTONIKA\", \"2020/TELTONIKA\", \"2019/MT-SYSTEM\", \"2020/MT-SYSTEM\", \"2019/TELTONIKA\", \"2020/TELTONIKA\", \"2019/MT-SYSTEM\", \"2020/MT-SYSTEM\", \"2019/TELTONIKA\", \"2020/TELTONIKA\", \"2019/MT-SYSTEM\", \"2019/TELTONIKA\", \"2020/TELTONIKA\", \"2019/MT-SYSTEM\", \"2020/MT-SYSTEM\", \"2019/TELTONIKA\", \"2020/TELTONIKA\", \"2019/MT-SYSTEM\", \"2020/MT-SYSTEM\", \"2019/TELTONIKA\", \"2020/TELTONIKA\", \"2019/MT-SYSTEM\", \"2020/MT-SYSTEM\", \"2019/TELTONIKA\", \"2020/TELTONIKA\", \"2019\", \"2020\", \"2019\", \"2020\", \"\", \"\"], \"type\": \"treemap\", \"values\": [27735.04823, 53870.37516, 27787.64993, 736.88181, 18490.03215, 18465.4105, 32995.09816, 55590.42798, 16522.70248, 907872.0, 360606.4, 297259.2, 793324.1659599999, 324240.0, 66812.48945, 68087.85807, 196694.40000000002, 132178.8711, 63194.04327, 425787.42821999994, 1167062.4, 656194.09284, 280833.64996999997, 517644.08159999986, 458953.60000000003, 445642.4, 991313.2266099999, 61418.45528, 84529.86791999999, 125363.97714, 121036.6235, 61703.40879, 302931.53396, 562587.1345, 493714.43036999996, 259655.60054, 164571.47679, 4387.09677, 84438.17461999999, 81007.05882, 4198.29869, 99968.17333, 21057.31863, 33072.60286, 467853.05389, 383680.23758, 184622.10741, 479312.84211, 389130.03124, 391917.68693, 310433.14028, 712170.0, 1248072.8, 1303884.3349600001, 52978.5, 339.25, 330.62, 345.97, 2910.6, 1341.25, 1000.78, 667.18, 659.56, 1048.99, 1318.91, 1060.58, 1653.12, 11998.759999999998, 1939.06, 11531.689999999999, 17325.0, 6844.5, 19469.26, 13211.439999999999, 9746.75, 12353.38, 6747.75, 3851.25, 15366.88, 7780.25, 11746.439999999999, 11317.25, 15824.38, 8147.75, 2946.63, 3237.18, 1116.72, 370.68, 5544.0, 2187.2400000000002, 2570.7, 1490.4, 5398.2, 745.2, 1809.78, 1437.96, 1444.32, 374.64, 1413.36, 2614.56, 3179.58, 3844.4799999999996, 2730.2, 1468.44, 7623.0, 3150.68, 3668.7200000000003, 5787.72, 1919.36, 1199.6, 3594.0, 3736.64, 5181.4800000000005, 1488.96, 2832.0, 6401.24, 21543.53, 9316.81, 9989.83, 21344.4, 20530.36, 9989.83, 4359.66, 9769.91, 7117.11, 4170.47, 10096.55, 14038.79, 10096.55, 6801.8, 10031.87, 20250.25, 1551.25, 15340.880000000001, 26709.38, 47448.130000000005, 24063.75, 9746.75, 16494.5, 26234.25, 10146.5, 21271.88, 17951.5, 25760.760000000002, 15510.0, 2947.0, 1835.5500000000002, 3465.0, 2726.55, 2762.25, 2794.5, 2699.1, 3597.9, 4493.7, 2772.9, 6313.5, 1873.2, 2650.05, 2809.8, 2649.6, 1861.2, 545.22, 545.22, 17151.75, 3710.0699999999997, 3180.06, 6896.52, 2162.52, 558.45, 1101.33, 2079.0, 2186.46, 566.19, 1079.64, 1087.56, 2158.56, 553.68, 2698.02, 561.96, 1050.9299999999998, 1123.92, 1120.3200000000002, 554.85, 2937.0600000000004, 856.5899999999999, 3638.25, 1259.58, 1708.9099999999999, 1738.8, 1679.44, 869.4, 2938.3900000000003, 1259.58, 1663.74, 1267.1399999999999, 874.16, 1648.92, 1748.32, 2060.8, 1737.12, 1652.0, 4851.9, 1117.62, 1112.04, 8835.75, 8678.52, 2746.2599999999998, 2699.1, 1079.1, 4312.8, 541.62, 1679.94, 5300.1, 1123.92, 7418.97, 1116.72, 6903.0, 1117.62, 2224.08, 4677.75, 4380.4800000000005, 1123.92, 561.96, 1675.08, 529.92, 1060.92, 2217.6, 3779.8199999999997, 3336.12, 2598.75, 6575.849999999999, 5030.1, 1619.46, 4449.06, 3778.74, 4988.52, 4332.96, 3353.94, 2604.6, 2809.8, 3179.52, 2791.8, 5409.719999999999, 2235.24, 1062.72, 1112.04, 4677.75, 5475.6, 1668.06, 4305.6, 539.55, 2718.9, 1123.92, 3180.0600000000004, 1679.94, 4239.54, 6901.56, 1623.42, 558.45, 556.02, 3638.25, 3278.34, 556.02, 563.85, 1619.46, 2159.28, 3242.16, 561.96, 1580.94, 1123.92, 2649.6, 558.36, 1062.0, 4847.85, 1676.43, 4362.48, 7796.25, 9856.08, 1112.04, 4858.38, 4333.32, 3252.5099999999998, 5393.5199999999995, 4394.610000000001, 6862.86, 1123.92, 530.01, 1116.72, 10607.04, 8096.7, 13829.1, 13860.0, 15557.55, 5589.0, 13880.25, 8097.3, 10782.0, 5619.6, 14130.9, 7492.8, 4416.75, 6526.2, 898.5, 931.35, 930.6, 1078.88, 8397.9, 6445.25, 10106.25, 6361.95, 6445.25, 6520.5, 6297.9, 1086.75, 12593.7, 1049.65, 5391.75, 13673.449999999999, 2185.4, 3091.73, 7648.9, 4342.8, 557.82, 555.21, 863.1, 1727.32, 1295.49, 863.1, 1727.32, 1295.49, 5610.15, 5610.15, 863.1, 867.72, 1727.32, 7213.05, 2714.36, 26420.63, 19649.93, 22942.35, 25621.05, 2658.04, 657.14, 657.14, 1905.75, 1295.36, 29321.6, 12723.9, 4743.2, 20055.949999999997, 17740.8, 20665.5, 4281.45, 9267.0, 45391.5, 25391.58, 27618.57, 23752.08, 22044.239999999998, 6312.9, 3141.6, 42687.630000000005, 20884.98, 26148.6, 38213.28, 27515.07, 31971.39, 17309.16, 9381.0, 15384.6, 6303.02, 5304.91, 10609.83, 8433.19, 14304.490000000002, 3358.88, 3407.04, 2509.08, 3763.6200000000003, 839.72, 6872.25, 1215.48, 4945.92, 7906.8, 15652.970000000001, 31444.89, 12996.560000000001, 12496.69, 14532.21, 27244.059999999998, 1557.02, 5451.85, 6927.69, 20817.07, 19038.030000000002, 13603.6, 11172.48, 12795.75, 1945.52, 75324.96, 94499.25, 62360.25, 64869.0, 158757.75, 68547.59999999999, 65795.7, 68242.5, 63342.0, 4531.5, 67758.0, 58709.16, 61383.6, 63688.8, 45050.85, 65142.0, 62350.2, 69785.1, 3108.72807, 6104.0, 18492.0, 17922.0, 114711.76000000001, 296509.51, 41701.5, 180802.69, 170281.13, 220066.88, 207222.75, 101202.75, 34076.25, 67044.38, 143535.38, 62552.259999999995, 134964.23, 145874.92999999996, 81739.13, 115386.53, 204412.95, 106786.35, 137470.5, 33575.07901, 41578.63385, 1599.79515, 8267.72185, 1646.42702, 10631.5585, 1669.16015, 94595.83480000001, 6653.84657, 69149.93504, 81088.25806, 84845.30500000001, 216208.89604, 156550.77919, 79297.02886, 679747.92047, 668984.53876, 342073.84615, 392906.40423, 187582.296, 657309.75, 14051.07256, 138585.74523, 672803.90631, 929826.8684700001, 569559.60622, 6785.64346, 542063.0079000001, 203242.40501, 146475.54321, 210737.94212, 401151.5520099999, 841551.9490499999, 617279.64, 42049.25305, 42264.76, 596076.1607499999, 1154569.09118, 735683.09372, 286707.65948, 497878.25717999996, 674341.3561, 989424.15, 347035.03557, 553702.83199, 1335564.04376, 498857.6923, 379526.40495999996, 280324.66233, 383890.87863000005, 667428.53391, 229267.25066, 165942.48, 549006.9, 1050646.69885, 203185.0983, 116537.33995, 85442.31685, 6712.2083, 48632.44711, 207571.5, 28034.47332, 62257.85126, 98182.00703000001, 60448.695170000006, 81427.72151999999, 105424.00138, 22544.17771, 161194.36333999998, 35122.99035, 13598.3577, 23648.24157, 111125.44, 35234.575, 149072.80986, 228240.57478999998, 42040.61868, 81916.47413, 7114.46096, 20858.85097, 35023.398, 62505.73033, 56957.69482, 42028.07761, 84317.18897, 70908.08597, 35512.72962, 20432.54505, 21200.42647, 21073.79421, 20147.4, 61579.9794, 21195.07446, 33530.382150000005, 138381.0, 41948.31994, 27670.15612, 6785.64346, 21084.80028, 21025.85499, 13858.57452, 7024.59807, 41858.46000000001, 35192.75, 7075.66108, 174456.1, 77766.2033, 79026.90972, 80149.74736, 80432.662, 81007.05882, 74776.31352, 40074.87368, 74776.31352, 160299.49472, 154201.422, 158489.00388, 187385.02793, 76512.55814, 81007.05882, 76512.55814, 10063.20256, 62271.45, 6831.569, 57729.7175, 13883.93774, 13883.93774, 14088.8475, 3783.23746, 7427.18452, 13751.25, 21664.82003, 14666.60706, 50551.24675, 29746.56322, 21395.57325, 21395.57325, 21948.785930000002, 22216.17063, 14167.827, 131670.51267999999, 178296.0416, 111958.18471000002, 65983.30248, 130636.875, 58701.593929999995, 51260.8891, 110190.67568000001, 178364.24948, 7083.9135, 80789.68962, 102416.30956, 58678.46274, 21758.63018, 41966.25, 13988.75, 44488.47446, 161187.75253, 19475.07799, 164394.77441, 41093.73059, 494.35954, 66835.17763, 153068.36708, 158312.43781, 294053.69863, 160133.83378, 21555.21236, 21243.03286, 27463.06892, 33353.33448, 53010.0, 2122.92, 154022.55286, 1472.68519, 4018.08361, 472464.0, 81240.38737, 238843.2, 240754.37237, 479676.69895, 1310277.0, 436069.72632, 790582.7, 473448.80000000005, 689218.39932, 763122.0210599999, 2578287.0, 850335.96632, 1431595.7000000002, 129122.4, 1951166.49228, 64848.0, 67099.29412, 10932.0, 3629.4, 7197.6, 3536.4, 3536.4, 5788.0, 3726.0, 21440.28, 10727.1, 11097.0, 5788.0, 10932.0, 3629.4, 7197.6, 3536.4, 28875.0, 68734.4, 73980.0, 5788.0, 22726.8, 18630.0, 11097.0, 5353.11, 5448.81, 7712.42, 6980.33, 2572.47, 25708.05, 24978.3, 39466.35, 99913.2, 5174.97, 5074.06, 2612.51, 24625.66, 18932.66, 6352.83, 9624.95476, 35759.295, 24612.09222, 28559.508680000003, 35577.87391, 24815.53748, 4699.3121, 88578.5625, 81835.91708, 80805.56274, 127438.427, 118919.29694, 9637.68, 6425.12, 32185.4, 34291.92, 22728.16, 15308.800000000001, 12475.84, 16133.0, 1619.46, 24125.85, 11574.36, 1619.46, 23277.24, 11646.18, 1619.46, 2349.38, 9267.0, 17667.0, 11583.75, 8832.0, 4683.0, 17707.5, 4734.75, 33231.6, 3346.92, 14881.32, 46585.530000000006, 1699.11, 4932.9, 39923.28, 10102.59, 1795.5, 6525.36, 1704.51, 14881.32, 6477.84, 8328.15, 20021.04, 6469.2, 23258.34, 11510.099999999999, 1663.74, 15172.92, 3701.4, 3152.52, 3290.22, 6645.24, 1673.19, 12410.0, 3890.25, 7797.4, 8052.2, 8144.5, 7616.7, 8141.9, 38340.2532, 21022.65, 7249.13, 132639.93, 342547.37, 14766.14, 7797.4, 158535.28, 441438.23000000004, 32648.2, 41805.23, 269860.82, 399575.27, 32018.030000000002, 481678.63999999996, 8451.529999999999, 563454.34, 8144.5, 8471.130000000001, 516100.60000000003, 106006.53, 2590.98, 32952.59, 120327.29999999999, 55046.24, 32215.260000000002, 7884.799999999999, 194416.42, 105933.09, 360468.09, 16394.7, 607054.52, 200156.15, 8141.9, 15519.970000000001, 137418.05, 144541.38999999998, 31862.33, 375662.69000000006, 298120.16000000003, 25708.05, 24978.3, 5174.97, 22726.8, 92685.68, 26938.06, 18630.0, 31583.96, 31884.46, 95527.79, 114308.4, 114613.52, 7072.8, 8061.320000000001, 3536.4, 38340.2532, 514572.49380999996, 544416.84879, 1792327.24385, 1499203.834, 468958.54456999997, 480168.87649999995, 961131.14012, 2262994.9507099995, 350706.56831999996, 149552.62704, 1011282.1903999998, 9789544.875, 281980.86273000005, 42085.545880000005, 628245.0460199999, 143010.54593, 70796.36206, 1467587.95943, 2618104.42294, 686308.0696, 314962.18788, 1333485.80604, 2259834.8783600004, 637625.27992, 21057.31863, 1150088.33061, 331604.96993, 848659.0238, 810231.67284, 544224.9963600001, 928925.1299099999, 1084383.51037, 1055230.75711, 546026.91329, 233063.33733, 1187134.15743, 5756531.07, 325834.49523, 493714.43036999996, 63998.03898, 3327167.78996, 831444.2538300001, 636250.3979799999, 1905088.7052499999, 6776565.391, 33231.6, 8144.82, 5051.43, 24125.85, 41337.0, 3152.52, 9267.0, 17667.0, 13183.019999999999, 81892.31999999999, 11583.75, 21720.15, 11646.18, 6469.2, 29903.58, 18062.46, 41587.02, 8832.0, 29298.079999999998, 4683.0, 17707.5, 4734.75, 594534.79381, 584789.09879, 1924967.17385, 1841751.2040000001, 493951.08457, 512092.12649999995, 1119666.42012, 2704433.18071, 447418.56831999996, 287196.05704, 1290410.0104, 10206787.145, 354119.97273000004, 42085.545880000005, 1109923.68602, 233354.39592999997, 70796.36206, 1467587.95943, 3193142.51294, 734802.7196000001, 323433.31788, 1849586.40604, 2365841.4083600007, 683446.3999200001, 92363.56863000001, 1270415.6306100003, 386651.20993, 974090.3938, 164586.12, 818116.4728400001, 738641.4163600001, 1085125.66991, 1190316.6003700001, 1415698.8471099997, 546026.91329, 256530.83733, 1794188.67743, 5965519.220000001, 371335.79523000005, 512770.80036999995, 206099.08898, 3489416.67996, 831444.2538300001, 706452.9811799999, 2285486.14525, 7074685.551, 6995530.988210001, 3865131.242510002, 15258926.131200004, 40492492.061390005, 22254457.119410004, 44357623.303899996]}],                        {\"coloraxis\": {\"colorbar\": {\"title\": {\"text\": \"Quantity\"}}, \"colorscale\": [[0.0, \"rgb(103,0,31)\"], [0.1, \"rgb(178,24,43)\"], [0.2, \"rgb(214,96,77)\"], [0.3, \"rgb(244,165,130)\"], [0.4, \"rgb(253,219,199)\"], [0.5, \"rgb(247,247,247)\"], [0.6, \"rgb(209,229,240)\"], [0.7, \"rgb(146,197,222)\"], [0.8, \"rgb(67,147,195)\"], [0.9, \"rgb(33,102,172)\"], [1.0, \"rgb(5,48,97)\"]]}, \"legend\": {\"tracegroupgap\": 0}, \"margin\": {\"t\": 60}, \"template\": {\"data\": {\"bar\": [{\"error_x\": {\"color\": \"#2a3f5f\"}, \"error_y\": {\"color\": \"#2a3f5f\"}, \"marker\": {\"line\": {\"color\": \"#E5ECF6\", \"width\": 0.5}}, \"type\": \"bar\"}], \"barpolar\": [{\"marker\": {\"line\": {\"color\": \"#E5ECF6\", \"width\": 0.5}}, \"type\": \"barpolar\"}], \"carpet\": [{\"aaxis\": {\"endlinecolor\": \"#2a3f5f\", \"gridcolor\": \"white\", \"linecolor\": \"white\", \"minorgridcolor\": \"white\", \"startlinecolor\": \"#2a3f5f\"}, \"baxis\": {\"endlinecolor\": \"#2a3f5f\", \"gridcolor\": \"white\", \"linecolor\": \"white\", \"minorgridcolor\": \"white\", \"startlinecolor\": \"#2a3f5f\"}, \"type\": \"carpet\"}], \"choropleth\": [{\"colorbar\": {\"outlinewidth\": 0, \"ticks\": \"\"}, \"type\": \"choropleth\"}], \"contour\": [{\"colorbar\": {\"outlinewidth\": 0, \"ticks\": \"\"}, \"colorscale\": [[0.0, \"#0d0887\"], [0.1111111111111111, \"#46039f\"], [0.2222222222222222, \"#7201a8\"], [0.3333333333333333, \"#9c179e\"], [0.4444444444444444, \"#bd3786\"], [0.5555555555555556, \"#d8576b\"], [0.6666666666666666, \"#ed7953\"], [0.7777777777777778, \"#fb9f3a\"], [0.8888888888888888, \"#fdca26\"], [1.0, \"#f0f921\"]], \"type\": \"contour\"}], \"contourcarpet\": [{\"colorbar\": {\"outlinewidth\": 0, \"ticks\": \"\"}, \"type\": \"contourcarpet\"}], \"heatmap\": [{\"colorbar\": {\"outlinewidth\": 0, \"ticks\": \"\"}, \"colorscale\": [[0.0, \"#0d0887\"], [0.1111111111111111, \"#46039f\"], [0.2222222222222222, \"#7201a8\"], [0.3333333333333333, \"#9c179e\"], [0.4444444444444444, \"#bd3786\"], [0.5555555555555556, \"#d8576b\"], [0.6666666666666666, \"#ed7953\"], [0.7777777777777778, \"#fb9f3a\"], [0.8888888888888888, \"#fdca26\"], [1.0, \"#f0f921\"]], \"type\": \"heatmap\"}], \"heatmapgl\": [{\"colorbar\": {\"outlinewidth\": 0, \"ticks\": \"\"}, \"colorscale\": [[0.0, \"#0d0887\"], [0.1111111111111111, \"#46039f\"], [0.2222222222222222, \"#7201a8\"], [0.3333333333333333, \"#9c179e\"], [0.4444444444444444, \"#bd3786\"], [0.5555555555555556, \"#d8576b\"], [0.6666666666666666, \"#ed7953\"], [0.7777777777777778, \"#fb9f3a\"], [0.8888888888888888, \"#fdca26\"], [1.0, \"#f0f921\"]], \"type\": \"heatmapgl\"}], \"histogram\": [{\"marker\": {\"colorbar\": {\"outlinewidth\": 0, \"ticks\": \"\"}}, \"type\": \"histogram\"}], \"histogram2d\": [{\"colorbar\": {\"outlinewidth\": 0, \"ticks\": \"\"}, \"colorscale\": [[0.0, \"#0d0887\"], [0.1111111111111111, \"#46039f\"], [0.2222222222222222, \"#7201a8\"], [0.3333333333333333, \"#9c179e\"], [0.4444444444444444, \"#bd3786\"], [0.5555555555555556, \"#d8576b\"], [0.6666666666666666, \"#ed7953\"], [0.7777777777777778, \"#fb9f3a\"], [0.8888888888888888, \"#fdca26\"], [1.0, \"#f0f921\"]], \"type\": \"histogram2d\"}], \"histogram2dcontour\": [{\"colorbar\": {\"outlinewidth\": 0, \"ticks\": \"\"}, \"colorscale\": [[0.0, \"#0d0887\"], [0.1111111111111111, \"#46039f\"], [0.2222222222222222, \"#7201a8\"], [0.3333333333333333, \"#9c179e\"], [0.4444444444444444, \"#bd3786\"], [0.5555555555555556, \"#d8576b\"], [0.6666666666666666, \"#ed7953\"], [0.7777777777777778, \"#fb9f3a\"], [0.8888888888888888, \"#fdca26\"], [1.0, \"#f0f921\"]], \"type\": \"histogram2dcontour\"}], \"mesh3d\": [{\"colorbar\": {\"outlinewidth\": 0, \"ticks\": \"\"}, \"type\": \"mesh3d\"}], \"parcoords\": [{\"line\": {\"colorbar\": {\"outlinewidth\": 0, \"ticks\": \"\"}}, \"type\": \"parcoords\"}], \"pie\": [{\"automargin\": true, \"type\": \"pie\"}], \"scatter\": [{\"marker\": {\"colorbar\": {\"outlinewidth\": 0, \"ticks\": \"\"}}, \"type\": \"scatter\"}], \"scatter3d\": [{\"line\": {\"colorbar\": {\"outlinewidth\": 0, \"ticks\": \"\"}}, \"marker\": {\"colorbar\": {\"outlinewidth\": 0, \"ticks\": \"\"}}, \"type\": \"scatter3d\"}], \"scattercarpet\": [{\"marker\": {\"colorbar\": {\"outlinewidth\": 0, \"ticks\": \"\"}}, \"type\": \"scattercarpet\"}], \"scattergeo\": [{\"marker\": {\"colorbar\": {\"outlinewidth\": 0, \"ticks\": \"\"}}, \"type\": \"scattergeo\"}], \"scattergl\": [{\"marker\": {\"colorbar\": {\"outlinewidth\": 0, \"ticks\": \"\"}}, \"type\": \"scattergl\"}], \"scattermapbox\": [{\"marker\": {\"colorbar\": {\"outlinewidth\": 0, \"ticks\": \"\"}}, \"type\": \"scattermapbox\"}], \"scatterpolar\": [{\"marker\": {\"colorbar\": {\"outlinewidth\": 0, \"ticks\": \"\"}}, \"type\": \"scatterpolar\"}], \"scatterpolargl\": [{\"marker\": {\"colorbar\": {\"outlinewidth\": 0, \"ticks\": \"\"}}, \"type\": \"scatterpolargl\"}], \"scatterternary\": [{\"marker\": {\"colorbar\": {\"outlinewidth\": 0, \"ticks\": \"\"}}, \"type\": \"scatterternary\"}], \"surface\": [{\"colorbar\": {\"outlinewidth\": 0, \"ticks\": \"\"}, \"colorscale\": [[0.0, \"#0d0887\"], [0.1111111111111111, \"#46039f\"], [0.2222222222222222, \"#7201a8\"], [0.3333333333333333, \"#9c179e\"], [0.4444444444444444, \"#bd3786\"], [0.5555555555555556, \"#d8576b\"], [0.6666666666666666, \"#ed7953\"], [0.7777777777777778, \"#fb9f3a\"], [0.8888888888888888, \"#fdca26\"], [1.0, \"#f0f921\"]], \"type\": \"surface\"}], \"table\": [{\"cells\": {\"fill\": {\"color\": \"#EBF0F8\"}, \"line\": {\"color\": \"white\"}}, \"header\": {\"fill\": {\"color\": \"#C8D4E3\"}, \"line\": {\"color\": \"white\"}}, \"type\": \"table\"}]}, \"layout\": {\"annotationdefaults\": {\"arrowcolor\": \"#2a3f5f\", \"arrowhead\": 0, \"arrowwidth\": 1}, \"coloraxis\": {\"colorbar\": {\"outlinewidth\": 0, \"ticks\": \"\"}}, \"colorscale\": {\"diverging\": [[0, \"#8e0152\"], [0.1, \"#c51b7d\"], [0.2, \"#de77ae\"], [0.3, \"#f1b6da\"], [0.4, \"#fde0ef\"], [0.5, \"#f7f7f7\"], [0.6, \"#e6f5d0\"], [0.7, \"#b8e186\"], [0.8, \"#7fbc41\"], [0.9, \"#4d9221\"], [1, \"#276419\"]], \"sequential\": [[0.0, \"#0d0887\"], [0.1111111111111111, \"#46039f\"], [0.2222222222222222, \"#7201a8\"], [0.3333333333333333, \"#9c179e\"], [0.4444444444444444, \"#bd3786\"], [0.5555555555555556, \"#d8576b\"], [0.6666666666666666, \"#ed7953\"], [0.7777777777777778, \"#fb9f3a\"], [0.8888888888888888, \"#fdca26\"], [1.0, \"#f0f921\"]], \"sequentialminus\": [[0.0, \"#0d0887\"], [0.1111111111111111, \"#46039f\"], [0.2222222222222222, \"#7201a8\"], [0.3333333333333333, \"#9c179e\"], [0.4444444444444444, \"#bd3786\"], [0.5555555555555556, \"#d8576b\"], [0.6666666666666666, \"#ed7953\"], [0.7777777777777778, \"#fb9f3a\"], [0.8888888888888888, \"#fdca26\"], [1.0, \"#f0f921\"]]}, \"colorway\": [\"#636efa\", \"#EF553B\", \"#00cc96\", \"#ab63fa\", \"#FFA15A\", \"#19d3f3\", \"#FF6692\", \"#B6E880\", \"#FF97FF\", \"#FECB52\"], \"font\": {\"color\": \"#2a3f5f\"}, \"geo\": {\"bgcolor\": \"white\", \"lakecolor\": \"white\", \"landcolor\": \"#E5ECF6\", \"showlakes\": true, \"showland\": true, \"subunitcolor\": \"white\"}, \"hoverlabel\": {\"align\": \"left\"}, \"hovermode\": \"closest\", \"mapbox\": {\"style\": \"light\"}, \"paper_bgcolor\": \"white\", \"plot_bgcolor\": \"#E5ECF6\", \"polar\": {\"angularaxis\": {\"gridcolor\": \"white\", \"linecolor\": \"white\", \"ticks\": \"\"}, \"bgcolor\": \"#E5ECF6\", \"radialaxis\": {\"gridcolor\": \"white\", \"linecolor\": \"white\", \"ticks\": \"\"}}, \"scene\": {\"xaxis\": {\"backgroundcolor\": \"#E5ECF6\", \"gridcolor\": \"white\", \"gridwidth\": 2, \"linecolor\": \"white\", \"showbackground\": true, \"ticks\": \"\", \"zerolinecolor\": \"white\"}, \"yaxis\": {\"backgroundcolor\": \"#E5ECF6\", \"gridcolor\": \"white\", \"gridwidth\": 2, \"linecolor\": \"white\", \"showbackground\": true, \"ticks\": \"\", \"zerolinecolor\": \"white\"}, \"zaxis\": {\"backgroundcolor\": \"#E5ECF6\", \"gridcolor\": \"white\", \"gridwidth\": 2, \"linecolor\": \"white\", \"showbackground\": true, \"ticks\": \"\", \"zerolinecolor\": \"white\"}}, \"shapedefaults\": {\"line\": {\"color\": \"#2a3f5f\"}}, \"ternary\": {\"aaxis\": {\"gridcolor\": \"white\", \"linecolor\": \"white\", \"ticks\": \"\"}, \"baxis\": {\"gridcolor\": \"white\", \"linecolor\": \"white\", \"ticks\": \"\"}, \"bgcolor\": \"#E5ECF6\", \"caxis\": {\"gridcolor\": \"white\", \"linecolor\": \"white\", \"ticks\": \"\"}}, \"title\": {\"x\": 0.05}, \"xaxis\": {\"automargin\": true, \"gridcolor\": \"white\", \"linecolor\": \"white\", \"ticks\": \"\", \"title\": {\"standoff\": 15}, \"zerolinecolor\": \"white\", \"zerolinewidth\": 2}, \"yaxis\": {\"automargin\": true, \"gridcolor\": \"white\", \"linecolor\": \"white\", \"ticks\": \"\", \"title\": {\"standoff\": 15}, \"zerolinecolor\": \"white\", \"zerolinewidth\": 2}}}},                        {\"responsive\": true}                    ).then(function(){\n",
       "                            \n",
       "var gd = document.getElementById('aaf19620-eefb-4558-999d-a1ac91e7a609');\n",
       "var x = new MutationObserver(function (mutations, observer) {{\n",
       "        var display = window.getComputedStyle(gd).display;\n",
       "        if (!display || display === 'none') {{\n",
       "            console.log([gd, 'removed!']);\n",
       "            Plotly.purge(gd);\n",
       "            observer.disconnect();\n",
       "        }}\n",
       "}});\n",
       "\n",
       "// Listen for the removal of the full notebook cells\n",
       "var notebookContainer = gd.closest('#notebook-container');\n",
       "if (notebookContainer) {{\n",
       "    x.observe(notebookContainer, {childList: true});\n",
       "}}\n",
       "\n",
       "// Listen for the clearing of the current output cell\n",
       "var outputEl = gd.closest('.output');\n",
       "if (outputEl) {{\n",
       "    x.observe(outputEl, {childList: true});\n",
       "}}\n",
       "\n",
       "                        })                };                });            </script>        </div>"
      ]
     },
     "metadata": {},
     "output_type": "display_data"
    }
   ],
   "source": [
    "fig1 = px.treemap(test1, path=['Year', 'Company', 'Month', 'Category', 'Part number'], values='Revenue in NTD',\n",
    "                color='Quantity', color_continuous_scale='RdBu'\n",
    "                )\n",
    "fig1.show()\n",
    "with open('MT-SYSTEM.html', 'w') as f:\n",
    "    f.write(fig.to_html(full_html=False, include_plotlyjs='cdn'))\n",
    "    f.close()"
   ]
  },
  {
   "cell_type": "code",
   "execution_count": 13,
   "metadata": {},
   "outputs": [
    {
     "data": {
      "application/vnd.plotly.v1+json": {
       "config": {
        "plotlyServerURL": "https://plot.ly"
       },
       "data": [
        {
         "branchvalues": "total",
         "customdata": [
          [
           75000
          ],
          [
           149999.99999999997
          ],
          [
           411000
          ],
          [
           1222000
          ],
          [
           93000
          ],
          [
           1321000
          ],
          [
           462000.00000000006
          ],
          [
           710000
          ],
          [
           1242000
          ],
          [
           452000
          ],
          [
           1056000
          ],
          [
           1596000.0000000002
          ],
          [
           225000
          ],
          [
           30000
          ],
          [
           1660000
          ],
          [
           666000
          ],
          [
           1846000
          ],
          [
           234000
          ],
          [
           565000
          ],
          [
           841999.9999999999
          ],
          [
           1221000
          ],
          [
           483000
          ],
          [
           949000
          ],
          [
           502000
          ],
          [
           1343000
          ],
          [
           16374000
          ],
          [
           32830000.000000004
          ],
          [
           2740000
          ],
          [
           39483000
          ],
          [
           1800000
          ],
          [
           10656000
          ],
          [
           6780000
          ],
          [
           8354000
          ],
          [
           2800000
          ],
          [
           2046000
          ],
          [
           19810000
          ],
          [
           8020000
          ],
          [
           3480000
          ],
          [
           32029000
          ],
          [
           9048000
          ],
          [
           37151000
          ],
          [
           7913000
          ],
          [
           27862000
          ],
          [
           18406000
          ],
          [
           34879000
          ],
          [
           5140000
          ],
          [
           32750000
          ],
          [
           2040000.0000000002
          ],
          [
           45087000
          ],
          [
           548000
          ],
          [
           47982000
          ],
          [
           180000
          ],
          [
           34000
          ],
          [
           24000
          ],
          [
           4000
          ],
          [
           20000
          ],
          [
           327000
          ],
          [
           257000
          ],
          [
           68000
          ],
          [
           69000
          ],
          [
           4000
          ],
          [
           82000
          ],
          [
           24000
          ],
          [
           154000
          ],
          [
           237000.00000000003
          ],
          [
           102000
          ],
          [
           4000
          ],
          [
           144000
          ],
          [
           242000
          ],
          [
           1055000
          ],
          [
           2807000
          ],
          [
           820000
          ],
          [
           356500
          ],
          [
           1832000
          ],
          [
           4887000
          ],
          [
           1970500
          ],
          [
           24000
          ],
          [
           3279500
          ],
          [
           2390000
          ],
          [
           2323000
          ],
          [
           1735000
          ],
          [
           1289000
          ],
          [
           838000
          ],
          [
           112000
          ],
          [
           2408000
          ],
          [
           1071000
          ],
          [
           2713500
          ],
          [
           2352000
          ],
          [
           2650000
          ],
          [
           1430000
          ],
          [
           2497000
          ],
          [
           1811000
          ],
          [
           1470000
          ],
          [
           44000
          ],
          [
           25000
          ],
          [
           406000
          ],
          [
           748000
          ],
          [
           333000
          ],
          [
           790000
          ],
          [
           513000
          ],
          [
           2620000
          ],
          [
           74000
          ],
          [
           426000
          ],
          [
           109999.99999999999
          ],
          [
           72000
          ],
          [
           10000
          ],
          [
           474000
          ],
          [
           476000
          ],
          [
           40000
          ],
          [
           26000
          ],
          [
           239000
          ],
          [
           93000
          ],
          [
           7186000
          ],
          [
           70000
          ],
          [
           2845000
          ],
          [
           1002000
          ],
          [
           915000
          ],
          [
           222000
          ],
          [
           21000
          ],
          [
           345000
          ],
          [
           45000
          ],
          [
           999000.0000000001
          ],
          [
           21000
          ],
          [
           141000
          ],
          [
           51000
          ],
          [
           3263000
          ],
          [
           4966000
          ],
          [
           1381000
          ],
          [
           3938000
          ],
          [
           2773000
          ],
          [
           29326000
          ],
          [
           151000
          ],
          [
           3662999.9999999995
          ],
          [
           1200000
          ],
          [
           2550000
          ],
          [
           3518000
          ],
          [
           2259000
          ],
          [
           2749000
          ],
          [
           5324000
          ],
          [
           2776000
          ],
          [
           5494000
          ],
          [
           1813000
          ],
          [
           2563000
          ],
          [
           2488000
          ],
          [
           10829000
          ],
          [
           2679000
          ],
          [
           13202000
          ],
          [
           2107000
          ],
          [
           10873000
          ],
          [
           1919999.9999999998
          ],
          [
           7170000
          ],
          [
           1544.59
          ],
          [
           99888.75
          ],
          [
           53042.67
          ],
          [
           188827
          ],
          [
           21054.5
          ],
          [
           1680
          ],
          [
           9399.25
          ],
          [
           40201.25
          ],
          [
           17971.67
          ],
          [
           1270.5
          ],
          [
           168550.5
          ],
          [
           243976.17
          ],
          [
           78067.83
          ],
          [
           76285.83
          ],
          [
           2001.9200000000003
          ],
          [
           24450.25
          ],
          [
           30747.499999999996
          ],
          [
           144769.25
          ],
          [
           1770.5
          ],
          [
           90974
          ],
          [
           142805.65999999997
          ],
          [
           129511.34000000001
          ],
          [
           144407.58000000002
          ],
          [
           239330.42
          ],
          [
           8057000
          ],
          [
           7482000
          ],
          [
           2954000
          ],
          [
           3277002
          ],
          [
           6792000
          ],
          [
           9215000
          ],
          [
           2730000
          ],
          [
           7462000
          ],
          [
           60000
          ],
          [
           7083000
          ],
          [
           4304000
          ],
          [
           5264000
          ],
          [
           4726000
          ],
          [
           3190000
          ],
          [
           5532000
          ],
          [
           3697000.0000000005
          ],
          [
           7003000
          ],
          [
           4123000
          ],
          [
           260000
          ],
          [
           4401000
          ],
          [
           4697000
          ],
          [
           7433000
          ],
          [
           8351000.000000001
          ],
          [
           6246000.000000001
          ],
          [
           5551000
          ],
          [
           4731000
          ],
          [
           3641000
          ],
          [
           5965000
          ],
          [
           25540000
          ],
          [
           10610000
          ],
          [
           19784000
          ],
          [
           3888000
          ],
          [
           13919000
          ],
          [
           6624000
          ],
          [
           3651000.0000000005
          ],
          [
           9984000
          ],
          [
           6164000
          ],
          [
           9255000
          ],
          [
           6693000
          ],
          [
           29134000
          ],
          [
           5676000
          ],
          [
           4613004
          ],
          [
           9340000
          ],
          [
           13222000
          ],
          [
           3974000
          ],
          [
           24591999.999999996
          ],
          [
           6368000
          ],
          [
           23937000.000000004
          ],
          [
           11256000
          ],
          [
           16149000
          ],
          [
           3449000
          ],
          [
           21725000
          ],
          [
           1
          ],
          [
           13587520
          ],
          [
           16549000
          ],
          [
           50228000
          ],
          [
           38013000
          ],
          [
           17946000
          ],
          [
           39127000
          ],
          [
           18916000
          ],
          [
           21267000
          ],
          [
           19066000
          ],
          [
           35231000
          ],
          [
           42547570
          ],
          [
           30164000
          ],
          [
           29477000
          ],
          [
           47062000
          ],
          [
           30460312
          ],
          [
           30634000
          ],
          [
           13337288
          ],
          [
           26034999.999999996
          ],
          [
           33251000
          ],
          [
           12841000
          ],
          [
           27377000
          ],
          [
           56169000
          ],
          [
           48129000
          ],
          [
           54247000
          ],
          [
           1
          ],
          [
           1
          ],
          [
           82.5
          ],
          [
           1400
          ],
          [
           6600
          ],
          [
           600
          ],
          [
           30000
          ],
          [
           30000
          ],
          [
           6000
          ],
          [
           30000
          ],
          [
           140000
          ],
          [
           36000
          ],
          [
           25000
          ],
          [
           20000
          ],
          [
           22000.000000000004
          ],
          [
           125000.00000000001
          ],
          [
           140000
          ],
          [
           149000
          ],
          [
           10000
          ],
          [
           8000
          ],
          [
           5000
          ],
          [
           1
          ],
          [
           3031000
          ],
          [
           3559000
          ],
          [
           90000
          ],
          [
           4293000
          ],
          [
           2656002
          ],
          [
           60000
          ],
          [
           1565000
          ],
          [
           1670000
          ],
          [
           3830000
          ],
          [
           3901000.0000000005
          ],
          [
           119999.99999999999
          ],
          [
           4685000
          ],
          [
           4223000
          ],
          [
           1890000
          ],
          [
           1636002
          ],
          [
           3096000
          ],
          [
           3772000
          ],
          [
           4126000
          ],
          [
           60000
          ],
          [
           2099000
          ],
          [
           4885000
          ],
          [
           60000
          ],
          [
           3726000.0000000005
          ],
          [
           2650000
          ],
          [
           3489000
          ],
          [
           2150000
          ],
          [
           4281000
          ],
          [
           1580000
          ],
          [
           1619000
          ],
          [
           4405002
          ],
          [
           20000
          ],
          [
           303
          ],
          [
           4000
          ],
          [
           1320000
          ],
          [
           5240000
          ],
          [
           9120000
          ],
          [
           3510000
          ],
          [
           262000
          ],
          [
           1360040
          ],
          [
           8000
          ],
          [
           6708002
          ],
          [
           1400000
          ],
          [
           5704802
          ],
          [
           2636000
          ],
          [
           2014000
          ],
          [
           2508000
          ],
          [
           474000
          ],
          [
           10628000
          ],
          [
           1958000
          ],
          [
           7374000
          ],
          [
           352000
          ],
          [
           460000
          ],
          [
           456000
          ],
          [
           158000
          ],
          [
           290000
          ],
          [
           568000
          ],
          [
           680000
          ],
          [
           200000
          ],
          [
           352000
          ],
          [
           80000
          ],
          [
           24000
          ],
          [
           56000
          ],
          [
           224000
          ],
          [
           364000
          ],
          [
           532000
          ],
          [
           96000
          ],
          [
           660000
          ],
          [
           336000
          ],
          [
           5000
          ],
          [
           101.00000000000001
          ],
          [
           1999.9999999999998
          ],
          [
           900000
          ],
          [
           200000
          ],
          [
           1119000
          ],
          [
           1299000
          ],
          [
           60000
          ],
          [
           25
          ],
          [
           2310000
          ],
          [
           120000
          ],
          [
           805
          ],
          [
           3200
          ],
          [
           2400
          ],
          [
           2100
          ],
          [
           6125
          ],
          [
           1800000
          ],
          [
           840000
          ],
          [
           1110000
          ],
          [
           90000
          ],
          [
           13020
          ],
          [
           29400
          ],
          [
           16975
          ],
          [
           25480.000000000004
          ],
          [
           41800
          ],
          [
           20000
          ],
          [
           35600
          ],
          [
           18800
          ],
          [
           8500
          ],
          [
           12969.999999999998
          ],
          [
           36000
          ],
          [
           22000
          ],
          [
           100.00000000000001
          ],
          [
           52200
          ],
          [
           88570
          ],
          [
           11400
          ],
          [
           30000
          ],
          [
           36562
          ],
          [
           6000
          ],
          [
           52550
          ],
          [
           26372
          ],
          [
           350
          ],
          [
           600000
          ],
          [
           1710000
          ],
          [
           89999.99999999999
          ],
          [
           90000
          ],
          [
           839.9999999999999
          ],
          [
           43408
          ],
          [
           300
          ],
          [
           43556
          ],
          [
           255000
          ],
          [
           209890
          ],
          [
           135000
          ],
          [
           154000
          ],
          [
           145200
          ],
          [
           606000
          ],
          [
           6000
          ],
          [
           90100
          ],
          [
           209000
          ],
          [
           374550
          ],
          [
           11000
          ],
          [
           186000
          ],
          [
           100000
          ],
          [
           163000
          ],
          [
           15799.999999999998
          ],
          [
           115000
          ],
          [
           78400
          ],
          [
           154000
          ],
          [
           84710
          ],
          [
           170600
          ],
          [
           312000
          ],
          [
           9000
          ],
          [
           173700
          ],
          [
           268150
          ],
          [
           471199.99999999994
          ],
          [
           8000
          ],
          [
           2010
          ],
          [
           2000
          ],
          [
           160000
          ],
          [
           99.99999999999999
          ],
          [
           8000
          ],
          [
           20000
          ],
          [
           4000
          ],
          [
           12000
          ],
          [
           20000
          ],
          [
           1107000
          ],
          [
           1679999.9999999998
          ],
          [
           3606000
          ],
          [
           1727999.9999999998
          ],
          [
           4611000
          ],
          [
           3390000
          ],
          [
           2547000
          ],
          [
           1899000
          ],
          [
           447000
          ],
          [
           2229000
          ],
          [
           3282000.0000000005
          ],
          [
           2769000
          ],
          [
           1614000
          ],
          [
           3575999.9999999995
          ],
          [
           1254000
          ],
          [
           4116000
          ],
          [
           699000
          ],
          [
           1590000
          ],
          [
           1365000
          ],
          [
           4218000
          ],
          [
           1893000
          ],
          [
           1782000.0000000002
          ],
          [
           2571000.0000000005
          ],
          [
           3042000
          ],
          [
           1578000
          ],
          [
           1347000
          ],
          [
           1350000
          ],
          [
           630000
          ],
          [
           1860000
          ],
          [
           666000
          ],
          [
           690000
          ],
          [
           690000
          ],
          [
           750000
          ],
          [
           480000
          ],
          [
           2880000
          ],
          [
           1650000
          ],
          [
           90000
          ],
          [
           1200000
          ],
          [
           1440000
          ],
          [
           300000
          ],
          [
           1620000.0000000002
          ],
          [
           1620000
          ],
          [
           1650000
          ],
          [
           510000.00000000006
          ],
          [
           1710000
          ],
          [
           360000
          ],
          [
           1470000
          ],
          [
           570000
          ],
          [
           1920000
          ],
          [
           894000
          ],
          [
           6000
          ],
          [
           543000
          ],
          [
           360000
          ],
          [
           303000
          ],
          [
           108000
          ],
          [
           192000
          ],
          [
           18000
          ],
          [
           351000
          ],
          [
           114000
          ],
          [
           510000
          ],
          [
           423000
          ],
          [
           360000
          ],
          [
           249000
          ],
          [
           492000
          ],
          [
           1023000
          ],
          [
           318000
          ],
          [
           270000
          ],
          [
           15000
          ],
          [
           1143000
          ],
          [
           1035000
          ],
          [
           60000
          ],
          [
           15000
          ],
          [
           9000
          ],
          [
           45000
          ],
          [
           75000
          ],
          [
           6000
          ],
          [
           24000
          ],
          [
           147000
          ],
          [
           39000
          ],
          [
           21000
          ],
          [
           12000
          ],
          [
           54000
          ],
          [
           33000
          ],
          [
           75000
          ],
          [
           51000
          ],
          [
           12000
          ],
          [
           24000
          ],
          [
           15000
          ],
          [
           36000
          ],
          [
           12000
          ],
          [
           6000
          ],
          [
           24000
          ],
          [
           6000
          ],
          [
           5646000
          ],
          [
           1644000
          ],
          [
           2997000
          ],
          [
           3642000
          ],
          [
           2403000
          ],
          [
           4161000
          ],
          [
           2700000
          ],
          [
           3531000
          ],
          [
           3000000
          ],
          [
           3006000
          ],
          [
           726000
          ],
          [
           2229000
          ],
          [
           4002000
          ],
          [
           3498000
          ],
          [
           1524000
          ],
          [
           2100000
          ],
          [
           3999000
          ],
          [
           4008000
          ],
          [
           9228000
          ],
          [
           5472000
          ],
          [
           4002000
          ],
          [
           5646000
          ],
          [
           5031000
          ],
          [
           2679000
          ],
          [
           4065000
          ],
          [
           4002000
          ],
          [
           3144000
          ],
          [
           5433000.000000001
          ],
          [
           1932000
          ],
          [
           1449000
          ],
          [
           2532000
          ],
          [
           9345000
          ],
          [
           7074000
          ],
          [
           2199000
          ],
          [
           8082000
          ],
          [
           12926000
          ],
          [
           4854000
          ],
          [
           16638000
          ],
          [
           999000
          ],
          [
           36000
          ],
          [
           108000
          ],
          [
           6000
          ],
          [
           3000
          ],
          [
           99000
          ],
          [
           48000
          ],
          [
           2010000
          ],
          [
           3000000
          ],
          [
           1848000
          ],
          [
           1026000.0000000001
          ],
          [
           2820000
          ],
          [
           1254000
          ],
          [
           3000000
          ],
          [
           501000
          ],
          [
           3000000
          ],
          [
           18000
          ],
          [
           3408000
          ],
          [
           2157000
          ],
          [
           501000
          ],
          [
           3000000
          ],
          [
           873000
          ],
          [
           1413000.0000000002
          ],
          [
           873000
          ],
          [
           3000000
          ],
          [
           414000
          ],
          [
           3459000
          ],
          [
           1905000.0000000002
          ],
          [
           5625716.144401061
          ],
          [
           4408213.437050853
          ],
          [
           2773398.2680342137
          ],
          [
           2239259.1540188687
          ],
          [
           4537329.666478231
          ],
          [
           5323739.729529133
          ],
          [
           2450991.159213895
          ],
          [
           5191189.802917057
          ],
          [
           416811.079908093
          ],
          [
           4650141.072667297
          ],
          [
           3499967.521100737
          ],
          [
           3340031.8544120765
          ],
          [
           2096534.9710352905
          ],
          [
           2703113.710494315
          ],
          [
           3408072.0706486474
          ],
          [
           3384960.5901672137
          ],
          [
           5408785.053201676
          ],
          [
           2406959.933794379
          ],
          [
           260000
          ],
          [
           2708295.8044627034
          ],
          [
           4052148.6271422245
          ],
          [
           4333854.24547483
          ],
          [
           4955693.877282734
          ],
          [
           3340520.206885732
          ],
          [
           3839139.928635654
          ],
          [
           2389623.662255297
          ],
          [
           1973559.2580167023
          ],
          [
           5000
          ],
          [
           4073188.0633494
          ],
          [
           23387029.488491796
          ],
          [
           7799769.547861557
          ],
          [
           18213084.188745808
          ],
          [
           2905299.3680863366
          ],
          [
           11971824.878557503
          ],
          [
           5061526.030582306
          ],
          [
           2761802.9064653507
          ],
          [
           6629334.80118698
          ],
          [
           4324619.021925306
          ],
          [
           8955909.045884637
          ],
          [
           4753165.846162225
          ],
          [
           29134000
          ],
          [
           4006150.360223145
          ],
          [
           4104706.597088154
          ],
          [
           6255828.301984071
          ],
          [
           9665789.610032277
          ],
          [
           2836094.3711023205
          ],
          [
           22765588.217243005
          ],
          [
           4033773.684192083
          ],
          [
           22683106.9571715
          ],
          [
           8038492.834346363
          ],
          [
           14311515.448801387
          ],
          [
           2524286.7643760145
          ],
          [
           18987420.156860102
          ],
          [
           101.00000000000001
          ],
          [
           1999.9999999999998
          ],
          [
           900000
          ],
          [
           1
          ],
          [
           200000
          ],
          [
           1119000
          ],
          [
           1299000
          ],
          [
           60000
          ],
          [
           25
          ],
          [
           2310000
          ],
          [
           120000
          ],
          [
           13587520
          ],
          [
           16549000
          ],
          [
           50228000
          ],
          [
           38013000
          ],
          [
           17946000
          ],
          [
           39127000
          ],
          [
           18916000
          ],
          [
           21267000
          ],
          [
           19066000
          ],
          [
           35231000
          ],
          [
           42547570
          ],
          [
           30164000
          ],
          [
           29477000
          ],
          [
           47062000
          ],
          [
           30460312
          ],
          [
           30634000
          ],
          [
           13337288
          ],
          [
           26034999.999999996
          ],
          [
           33251000
          ],
          [
           12841000
          ],
          [
           27377000
          ],
          [
           56169000
          ],
          [
           48129000
          ],
          [
           54247000
          ],
          [
           1544.59
          ],
          [
           99888.75
          ],
          [
           53042.67
          ],
          [
           188827
          ],
          [
           21054.5
          ],
          [
           1680
          ],
          [
           9399.25
          ],
          [
           40201.25
          ],
          [
           17971.67
          ],
          [
           1270.5
          ],
          [
           168550.5
          ],
          [
           242957.90132171597
          ],
          [
           78067.83
          ],
          [
           76285.83
          ],
          [
           2001.9200000000003
          ],
          [
           24450.25
          ],
          [
           30747.499999999996
          ],
          [
           144769.25
          ],
          [
           1770.5
          ],
          [
           90974
          ],
          [
           142805.65999999997
          ],
          [
           121500.21881602993
          ],
          [
           143664.9168097877
          ],
          [
           239330.42
          ],
          [
           16304438.088850105
          ],
          [
           24108030.26724961
          ],
          [
           2740000
          ],
          [
           33939293.41973467
          ],
          [
           497925.8590361711
          ],
          [
           9419488.782967191
          ],
          [
           4024965.6616954436
          ],
          [
           8092558.066630228
          ],
          [
           2800000
          ],
          [
           612463.5951402195
          ],
          [
           16790988.78459383
          ],
          [
           3911700.411241342
          ],
          [
           3480000
          ],
          [
           25768471.053393617
          ],
          [
           5284644.918881658
          ],
          [
           31779866.50920626
          ],
          [
           7913000
          ],
          [
           20638138.11158863
          ],
          [
           18406000
          ],
          [
           20800635.21177202
          ],
          [
           2269431.045538957
          ],
          [
           29169752.33481382
          ],
          [
           1868946.5807315917
          ],
          [
           31200190.281601876
          ],
          [
           548000
          ],
          [
           34712993.81995194
          ],
          [
           739.1536366720204
          ],
          [
           3200
          ],
          [
           2400
          ],
          [
           2100
          ],
          [
           6125
          ],
          [
           1800000
          ],
          [
           840000
          ],
          [
           1110000
          ],
          [
           90000
          ],
          [
           22284.563506371116
          ],
          [
           29282.0900900125
          ],
          [
           16988.46627977503
          ],
          [
           26072.566111246393
          ],
          [
           42677.21303448295
          ],
          [
           103261.42140130268
          ],
          [
           55216.64003429846
          ],
          [
           65571.82384545276
          ],
          [
           8500
          ],
          [
           69000
          ],
          [
           13945.00760461257
          ],
          [
           37204.79851165048
          ],
          [
           21898.11616535232
          ],
          [
           63400.46404357946
          ],
          [
           59394.66037300737
          ],
          [
           147243.6059614262
          ],
          [
           94432.69344520036
          ],
          [
           11400
          ],
          [
           34050.04876144182
          ],
          [
           36367.14054521681
          ],
          [
           10169.932177216653
          ],
          [
           52550
          ],
          [
           34666.02639976952
          ],
          [
           350
          ],
          [
           600000
          ],
          [
           1710000
          ],
          [
           89999.99999999999
          ],
          [
           90000
          ],
          [
           839.9999999999999
          ],
          [
           43408
          ],
          [
           300
          ],
          [
           43556
          ],
          [
           310124.0277971975
          ],
          [
           692926.5785392476
          ],
          [
           231990.19712349787
          ],
          [
           187053.59593004695
          ],
          [
           497000.4844330678
          ],
          [
           772585.1861820129
          ],
          [
           6000
          ],
          [
           906145.7570771032
          ],
          [
           24000
          ],
          [
           209000
          ],
          [
           885846.2359350787
          ],
          [
           791292.1892366711
          ],
          [
           782299.247549805
          ],
          [
           173259.63436836866
          ],
          [
           269648.9867846982
          ],
          [
           132853.8649968114
          ],
          [
           114971.08675746634
          ],
          [
           691569.6409117398
          ],
          [
           235609.08072676178
          ],
          [
           754057.8010846127
          ],
          [
           908665.4813989956
          ],
          [
           390000.83472030115
          ],
          [
           956393.8046807566
          ],
          [
           269177.9062501699
          ],
          [
           521203.36799175246
          ],
          [
           513288.43116227427
          ],
          [
           8000
          ],
          [
           2010
          ],
          [
           3031000
          ],
          [
           3559000
          ],
          [
           90000
          ],
          [
           4293000
          ],
          [
           2656002
          ],
          [
           60000
          ],
          [
           1565000
          ],
          [
           1670000
          ],
          [
           3830000
          ],
          [
           3901000.0000000005
          ],
          [
           119999.99999999999
          ],
          [
           4685000
          ],
          [
           4179275.2283909386
          ],
          [
           1890000
          ],
          [
           1636002
          ],
          [
           3096000
          ],
          [
           3772000
          ],
          [
           4126000
          ],
          [
           60000
          ],
          [
           2099000
          ],
          [
           4885000
          ],
          [
           60000
          ],
          [
           3726000.0000000005
          ],
          [
           2224058.1640048246
          ],
          [
           3489000
          ],
          [
           2150000
          ],
          [
           4281000
          ],
          [
           1580000
          ],
          [
           1619000
          ],
          [
           4405002
          ],
          [
           20000
          ],
          [
           99.99999999999999
          ],
          [
           303
          ],
          [
           5646000
          ],
          [
           1631512.33958539
          ],
          [
           2997000
          ],
          [
           3642000
          ],
          [
           2398939.249139091
          ],
          [
           4066144.189530682
          ],
          [
           2700000
          ],
          [
           3468322.7152812616
          ],
          [
           2972368.5417491365
          ],
          [
           3006000
          ],
          [
           726000
          ],
          [
           2182336.3030229243
          ],
          [
           4002000
          ],
          [
           3498000
          ],
          [
           1524000
          ],
          [
           2053066.3280389998
          ],
          [
           3910594.4316668683
          ],
          [
           4008000
          ],
          [
           9216309.381233037
          ],
          [
           5411589.308053618
          ],
          [
           4002000
          ],
          [
           5635541.075321695
          ],
          [
           5025210.846441836
          ],
          [
           2678279.929693693
          ],
          [
           4000221.1582226097
          ],
          [
           4002000
          ],
          [
           3144000
          ],
          [
           5380499.061076821
          ],
          [
           1928923.3896375794
          ],
          [
           1449000
          ],
          [
           2532000
          ],
          [
           9342132.129524743
          ],
          [
           7046567.054382554
          ],
          [
           2199000
          ],
          [
           8066219.398796714
          ],
          [
           12628392.444705421
          ],
          [
           4847195.525970089
          ],
          [
           16112326.641549515
          ],
          [
           999000
          ],
          [
           1002000
          ],
          [
           915000
          ],
          [
           222000
          ],
          [
           21000
          ],
          [
           345000
          ],
          [
           45000
          ],
          [
           999000.0000000001
          ],
          [
           21000
          ],
          [
           141000
          ],
          [
           51000
          ],
          [
           3155172.447656293
          ],
          [
           3944912.9883286487
          ],
          [
           4462891.096937192
          ],
          [
           5896169.486414828
          ],
          [
           3159206.6734415907
          ],
          [
           29326000
          ],
          [
           151000
          ],
          [
           3505923.5745307948
          ],
          [
           1200000
          ],
          [
           2550000
          ],
          [
           2682795.83782188
          ],
          [
           2259000
          ],
          [
           2540279.4135247516
          ],
          [
           5633250.143879892
          ],
          [
           2776000
          ],
          [
           4672073.211474355
          ],
          [
           5273168.929426327
          ],
          [
           2593299.1978459256
          ],
          [
           2488000
          ],
          [
           8344283.854353331
          ],
          [
           2590189.1691015526
          ],
          [
           13202000
          ],
          [
           1886185.0008591362
          ],
          [
           10612283.712891394
          ],
          [
           1939180.23119248
          ],
          [
           6783161.402801948
          ],
          [
           2010000
          ],
          [
           3000000
          ],
          [
           1848000
          ],
          [
           1026000.0000000001
          ],
          [
           2820000
          ],
          [
           1254000
          ],
          [
           3000000
          ],
          [
           501000
          ],
          [
           3000000
          ],
          [
           18000
          ],
          [
           3408000
          ],
          [
           2157000
          ],
          [
           501000
          ],
          [
           3000000
          ],
          [
           873000
          ],
          [
           1413000.0000000002
          ],
          [
           873000
          ],
          [
           3000000
          ],
          [
           414000
          ],
          [
           3459000
          ],
          [
           1905000.0000000002
          ],
          [
           25
          ],
          [
           1386347.6631737459
          ],
          [
           3200
          ],
          [
           1119000
          ],
          [
           840000
          ],
          [
           2400
          ],
          [
           1
          ],
          [
           101.00000000000001
          ],
          [
           4175.151215341847
          ],
          [
           1607408.7348693619
          ],
          [
           20000
          ],
          [
           93089.54207668749
          ],
          [
           6125
          ],
          [
           6962495.196549165
          ],
          [
           14824399.849069893
          ],
          [
           90000
          ],
          [
           24382889.683541592
          ],
          [
           20704682.774204403
          ],
          [
           60000
          ],
          [
           8075303.145821719
          ],
          [
           21844578.221374184
          ],
          [
           8313619.4138115505
          ],
          [
           10067105.80287021
          ],
          [
           933795.8386727383
          ],
          [
           8342530.771348054
          ],
          [
           17462684.796536528
          ],
          [
           4743336.063303072
          ],
          [
           22476798.44724419
          ],
          [
           19641523.167283475
          ],
          [
           12393276.156128425
          ],
          [
           22968265.136467937
          ],
          [
           60000
          ],
          [
           15217565.508687338
          ],
          [
           15455341.10460076
          ],
          [
           173398.87013489392
          ],
          [
           6528769.900866169
          ],
          [
           16959277.10504516
          ],
          [
           14595339.61085596
          ],
          [
           10237143.295374738
          ],
          [
           11524893.09391943
          ],
          [
           30111067.5708966
          ],
          [
           26235418.87524145
          ],
          [
           27813164.936671983
          ],
          [
           2316334.0998402797
          ],
          [
           1186272.4330452278
          ],
          [
           2998587.8012143713
          ],
          [
           3642000
          ],
          [
           1264915.8100121976
          ],
          [
           2116092.226559335
          ],
          [
           2700000
          ],
          [
           1659332.054532012
          ],
          [
           5105621.425229315
          ],
          [
           3006000
          ],
          [
           627825.7904558916
          ],
          [
           1536590.3063972108
          ],
          [
           3123686.123560116
          ],
          [
           3498000
          ],
          [
           629364.6369905322
          ],
          [
           1213726.0251941376
          ],
          [
           2558056.6119818036
          ],
          [
           4008000
          ],
          [
           4812051.291405989
          ],
          [
           2819932.8631924023
          ],
          [
           4002000
          ],
          [
           2726633.308373038
          ],
          [
           2737789.3787376666
          ],
          [
           1771422.485782661
          ],
          [
           2439738.831163589
          ],
          [
           3543975.164797226
          ],
          [
           3144000
          ],
          [
           2339057.8200842016
          ],
          [
           2409361.5737083685
          ],
          [
           1430376.3855537158
          ],
          [
           2532000
          ],
          [
           5097803.6366687305
          ],
          [
           3485553.481350274
          ],
          [
           2199000
          ],
          [
           6052765.76741418
          ],
          [
           6877046.814743957
          ],
          [
           1528027.1146473936
          ],
          [
           6526878.94662506
          ],
          [
           999000
          ],
          [
           5949048.597276241
          ],
          [
           12804244.12760952
          ],
          [
           2856675.6533280094
          ],
          [
           3642000
          ],
          [
           22785844.88136875
          ],
          [
           16760567.595257167
          ],
          [
           2534334.4901979174
          ],
          [
           6850887.585576473
          ],
          [
           16078688.912987627
          ],
          [
           3006000
          ],
          [
           8144210.291020867
          ],
          [
           8552023.34846985
          ],
          [
           2746613.7446719483
          ],
          [
           3498000
          ],
          [
           7616225.862639621
          ],
          [
           14739426.901843695
          ],
          [
           3835218.3026482426
          ],
          [
           4008000
          ],
          [
           19715916.20262417
          ],
          [
           16477639.435937513
          ],
          [
           4002000
          ],
          [
           11184085.560389299
          ],
          [
           20124574.36994902
          ],
          [
           60000
          ],
          [
           13318751.839814587
          ],
          [
           14094499.55052807
          ],
          [
           3257448.2280051145
          ],
          [
           3144000
          ],
          [
           5676532.779524463
          ],
          [
           15442708.023167137
          ],
          [
           1430376.3855537158
          ],
          [
           2532000
          ],
          [
           12564983.614671553
          ],
          [
           7009159.156649934
          ],
          [
           2199000
          ],
          [
           10830233.884032905
          ],
          [
           25099651.395177282
          ],
          [
           22469050.01414083
          ],
          [
           21979155.24785129
          ],
          [
           999000
          ],
          [
           13741929.905599644
          ],
          [
           16606124.010116862
          ],
          [
           3368287.969308749
          ],
          [
           3439894.4967800244
          ]
         ],
         "domain": {
          "x": [
           0,
           1
          ],
          "y": [
           0,
           1
          ]
         },
         "hovertemplate": "labels=%{label}<br>本國幣別NTD=%{value}<br>parent=%{parent}<br>id=%{id}<br>數量=%{color}<extra></extra>",
         "ids": [
          "2019/April/沈思明/Bourns/EMC",
          "2020/April/沈思明/Bourns/EMC",
          "2019/August/沈思明/Bourns/EMC",
          "2020/August/沈思明/Bourns/EMC",
          "2019/December/沈思明/Bourns/EMC",
          "2020/December/沈思明/Bourns/EMC",
          "2019/February/沈思明/Bourns/EMC",
          "2020/February/沈思明/Bourns/EMC",
          "2019/January/沈思明/Bourns/EMC",
          "2020/January/沈思明/Bourns/EMC",
          "2021/January/沈思明/Bourns/EMC",
          "2019/July/沈思明/Bourns/EMC",
          "2020/July/沈思明/Bourns/EMC",
          "2019/June/沈思明/Bourns/EMC",
          "2020/June/沈思明/Bourns/EMC",
          "2019/March/沈思明/Bourns/EMC",
          "2020/March/沈思明/Bourns/EMC",
          "2019/May/沈思明/Bourns/EMC",
          "2020/May/沈思明/Bourns/EMC",
          "2019/November/沈思明/Bourns/EMC",
          "2020/November/沈思明/Bourns/EMC",
          "2019/October/沈思明/Bourns/EMC",
          "2020/October/沈思明/Bourns/EMC",
          "2019/September/沈思明/Bourns/EMC",
          "2020/September/沈思明/Bourns/EMC",
          "2019/April/沈思明/Laird/EMC",
          "2020/April/沈思明/Laird/EMC",
          "2019/August/沈思明/Laird/EMC",
          "2020/August/沈思明/Laird/EMC",
          "2019/December/沈思明/Laird/EMC",
          "2020/December/沈思明/Laird/EMC",
          "2019/February/沈思明/Laird/EMC",
          "2020/February/沈思明/Laird/EMC",
          "2021/February/沈思明/Laird/EMC",
          "2019/January/沈思明/Laird/EMC",
          "2020/January/沈思明/Laird/EMC",
          "2021/January/沈思明/Laird/EMC",
          "2019/July/沈思明/Laird/EMC",
          "2020/July/沈思明/Laird/EMC",
          "2019/June/沈思明/Laird/EMC",
          "2020/June/沈思明/Laird/EMC",
          "2019/March/沈思明/Laird/EMC",
          "2020/March/沈思明/Laird/EMC",
          "2019/May/沈思明/Laird/EMC",
          "2020/May/沈思明/Laird/EMC",
          "2019/November/沈思明/Laird/EMC",
          "2020/November/沈思明/Laird/EMC",
          "2019/October/沈思明/Laird/EMC",
          "2020/October/沈思明/Laird/EMC",
          "2019/September/沈思明/Laird/EMC",
          "2020/September/沈思明/Laird/EMC",
          "2019/April/許凱智/MT-SYSTEM/EMC",
          "2020/April/許凱智/MT-SYSTEM/EMC",
          "2019/August/許凱智/MT-SYSTEM/EMC",
          "2020/August/許凱智/MT-SYSTEM/EMC",
          "2019/December/許凱智/MT-SYSTEM/EMC",
          "2020/December/許凱智/MT-SYSTEM/EMC",
          "2020/February/許凱智/MT-SYSTEM/EMC",
          "2019/January/許凱智/MT-SYSTEM/EMC",
          "2021/January/許凱智/MT-SYSTEM/EMC",
          "2019/July/許凱智/MT-SYSTEM/EMC",
          "2020/July/許凱智/MT-SYSTEM/EMC",
          "2019/June/許凱智/MT-SYSTEM/EMC",
          "2020/June/許凱智/MT-SYSTEM/EMC",
          "2020/March/許凱智/MT-SYSTEM/EMC",
          "2020/November/許凱智/MT-SYSTEM/EMC",
          "2019/October/許凱智/MT-SYSTEM/EMC",
          "2020/October/許凱智/MT-SYSTEM/EMC",
          "2020/September/許凱智/MT-SYSTEM/EMC",
          "2019/April/許凱智/TELTONIKA/EMC",
          "2020/April/許凱智/TELTONIKA/EMC",
          "2019/August/許凱智/TELTONIKA/EMC",
          "2020/August/許凱智/TELTONIKA/EMC",
          "2019/December/許凱智/TELTONIKA/EMC",
          "2020/December/許凱智/TELTONIKA/EMC",
          "2020/February/許凱智/TELTONIKA/EMC",
          "2021/February/許凱智/TELTONIKA/EMC",
          "2020/January/許凱智/TELTONIKA/EMC",
          "2021/January/許凱智/TELTONIKA/EMC",
          "2019/July/許凱智/TELTONIKA/EMC",
          "2020/July/許凱智/TELTONIKA/EMC",
          "2019/June/許凱智/TELTONIKA/EMC",
          "2020/June/許凱智/TELTONIKA/EMC",
          "2019/March/許凱智/TELTONIKA/EMC",
          "2020/March/許凱智/TELTONIKA/EMC",
          "2019/May/許凱智/TELTONIKA/EMC",
          "2020/May/許凱智/TELTONIKA/EMC",
          "2019/November/許凱智/TELTONIKA/EMC",
          "2020/November/許凱智/TELTONIKA/EMC",
          "2019/October/許凱智/TELTONIKA/EMC",
          "2020/October/許凱智/TELTONIKA/EMC",
          "2019/September/許凱智/TELTONIKA/EMC",
          "2020/September/許凱智/TELTONIKA/EMC",
          "2020/April/許凱智/信昌/EMC",
          "2019/August/許凱智/信昌/EMC",
          "2020/August/許凱智/信昌/EMC",
          "2019/December/許凱智/信昌/EMC",
          "2020/December/許凱智/信昌/EMC",
          "2020/February/許凱智/信昌/EMC",
          "2020/January/許凱智/信昌/EMC",
          "2021/January/許凱智/信昌/EMC",
          "2019/July/許凱智/信昌/EMC",
          "2020/July/許凱智/信昌/EMC",
          "2019/June/許凱智/信昌/EMC",
          "2020/June/許凱智/信昌/EMC",
          "2019/March/許凱智/信昌/EMC",
          "2020/March/許凱智/信昌/EMC",
          "2019/May/許凱智/信昌/EMC",
          "2020/May/許凱智/信昌/EMC",
          "2019/November/許凱智/信昌/EMC",
          "2020/November/許凱智/信昌/EMC",
          "2019/October/許凱智/信昌/EMC",
          "2020/October/許凱智/信昌/EMC",
          "2019/September/許凱智/信昌/EMC",
          "2020/September/許凱智/信昌/EMC",
          "2019/April/許凱智/東莞弘電/EMC",
          "2019/August/許凱智/東莞弘電/EMC",
          "2019/December/許凱智/東莞弘電/EMC",
          "2020/February/許凱智/東莞弘電/EMC",
          "2019/July/許凱智/東莞弘電/EMC",
          "2019/June/許凱智/東莞弘電/EMC",
          "2019/May/許凱智/東莞弘電/EMC",
          "2020/May/許凱智/東莞弘電/EMC",
          "2019/October/許凱智/東莞弘電/EMC",
          "2019/September/許凱智/東莞弘電/EMC",
          "2019/April/許凱智/華新科技/EMC",
          "2020/April/許凱智/華新科技/EMC",
          "2019/August/許凱智/華新科技/EMC",
          "2020/August/許凱智/華新科技/EMC",
          "2019/December/許凱智/華新科技/EMC",
          "2020/December/許凱智/華新科技/EMC",
          "2019/February/許凱智/華新科技/EMC",
          "2020/February/許凱智/華新科技/EMC",
          "2021/February/許凱智/華新科技/EMC",
          "2019/January/許凱智/華新科技/EMC",
          "2020/January/許凱智/華新科技/EMC",
          "2021/January/許凱智/華新科技/EMC",
          "2019/July/許凱智/華新科技/EMC",
          "2020/July/許凱智/華新科技/EMC",
          "2019/June/許凱智/華新科技/EMC",
          "2020/June/許凱智/華新科技/EMC",
          "2019/March/許凱智/華新科技/EMC",
          "2020/March/許凱智/華新科技/EMC",
          "2019/May/許凱智/華新科技/EMC",
          "2020/May/許凱智/華新科技/EMC",
          "2019/November/許凱智/華新科技/EMC",
          "2020/November/許凱智/華新科技/EMC",
          "2019/October/許凱智/華新科技/EMC",
          "2020/October/許凱智/華新科技/EMC",
          "2019/September/許凱智/華新科技/EMC",
          "2020/September/許凱智/華新科技/EMC",
          "2019/April/沈思明/LF OEM/ODM",
          "2020/April/沈思明/LF OEM/ODM",
          "2019/August/沈思明/LF OEM/ODM",
          "2020/August/沈思明/LF OEM/ODM",
          "2019/December/沈思明/LF OEM/ODM",
          "2020/December/沈思明/LF OEM/ODM",
          "2019/February/沈思明/LF OEM/ODM",
          "2020/February/沈思明/LF OEM/ODM",
          "2019/January/沈思明/LF OEM/ODM",
          "2020/January/沈思明/LF OEM/ODM",
          "2019/July/沈思明/LF OEM/ODM",
          "2020/July/沈思明/LF OEM/ODM",
          "2019/June/沈思明/LF OEM/ODM",
          "2020/June/沈思明/LF OEM/ODM",
          "2019/March/沈思明/LF OEM/ODM",
          "2020/March/沈思明/LF OEM/ODM",
          "2019/May/沈思明/LF OEM/ODM",
          "2020/May/沈思明/LF OEM/ODM",
          "2019/November/沈思明/LF OEM/ODM",
          "2020/November/沈思明/LF OEM/ODM",
          "2019/October/沈思明/LF OEM/ODM",
          "2020/October/沈思明/LF OEM/ODM",
          "2019/September/沈思明/LF OEM/ODM",
          "2020/September/沈思明/LF OEM/ODM",
          "2019/April/沈思明/Bourns/PC",
          "2020/April/沈思明/Bourns/PC",
          "2019/August/沈思明/Bourns/PC",
          "2020/August/沈思明/Bourns/PC",
          "2019/December/沈思明/Bourns/PC",
          "2020/December/沈思明/Bourns/PC",
          "2019/February/沈思明/Bourns/PC",
          "2020/February/沈思明/Bourns/PC",
          "2021/February/沈思明/Bourns/PC",
          "2019/January/沈思明/Bourns/PC",
          "2020/January/沈思明/Bourns/PC",
          "2021/January/沈思明/Bourns/PC",
          "2019/July/沈思明/Bourns/PC",
          "2020/July/沈思明/Bourns/PC",
          "2019/June/沈思明/Bourns/PC",
          "2020/June/沈思明/Bourns/PC",
          "2019/March/沈思明/Bourns/PC",
          "2020/March/沈思明/Bourns/PC",
          "2021/March/沈思明/Bourns/PC",
          "2019/May/沈思明/Bourns/PC",
          "2020/May/沈思明/Bourns/PC",
          "2019/November/沈思明/Bourns/PC",
          "2020/November/沈思明/Bourns/PC",
          "2019/October/沈思明/Bourns/PC",
          "2020/October/沈思明/Bourns/PC",
          "2019/September/沈思明/Bourns/PC",
          "2020/September/沈思明/Bourns/PC",
          "2019/April/沈思明/Eaton/PC",
          "2020/April/沈思明/Eaton/PC",
          "2019/August/沈思明/Eaton/PC",
          "2020/August/沈思明/Eaton/PC",
          "2019/December/沈思明/Eaton/PC",
          "2020/December/沈思明/Eaton/PC",
          "2019/February/沈思明/Eaton/PC",
          "2020/February/沈思明/Eaton/PC",
          "2019/January/沈思明/Eaton/PC",
          "2020/January/沈思明/Eaton/PC",
          "2021/January/沈思明/Eaton/PC",
          "2019/July/沈思明/Eaton/PC",
          "2020/July/沈思明/Eaton/PC",
          "2019/June/沈思明/Eaton/PC",
          "2020/June/沈思明/Eaton/PC",
          "2019/March/沈思明/Eaton/PC",
          "2020/March/沈思明/Eaton/PC",
          "2019/May/沈思明/Eaton/PC",
          "2020/May/沈思明/Eaton/PC",
          "2019/November/沈思明/Eaton/PC",
          "2020/November/沈思明/Eaton/PC",
          "2019/October/沈思明/Eaton/PC",
          "2020/October/沈思明/Eaton/PC",
          "2019/September/沈思明/Eaton/PC",
          "2020/September/沈思明/Eaton/PC",
          "2020/March/墨漢雷迪/Fides/PC",
          "2019/April/沈思明/LF/PC",
          "2020/April/沈思明/LF/PC",
          "2019/August/沈思明/LF/PC",
          "2020/August/沈思明/LF/PC",
          "2019/December/沈思明/LF/PC",
          "2020/December/沈思明/LF/PC",
          "2019/February/沈思明/LF/PC",
          "2020/February/沈思明/LF/PC",
          "2019/January/沈思明/LF/PC",
          "2020/January/沈思明/LF/PC",
          "2019/July/沈思明/LF/PC",
          "2020/July/沈思明/LF/PC",
          "2019/June/沈思明/LF/PC",
          "2020/June/沈思明/LF/PC",
          "2019/March/沈思明/LF/PC",
          "2020/March/沈思明/LF/PC",
          "2019/May/沈思明/LF/PC",
          "2020/May/沈思明/LF/PC",
          "2019/November/沈思明/LF/PC",
          "2020/November/沈思明/LF/PC",
          "2019/October/沈思明/LF/PC",
          "2020/October/沈思明/LF/PC",
          "2019/September/沈思明/LF/PC",
          "2020/September/沈思明/LF/PC",
          "2020/July/沈思明/LF OEM/PC",
          "2020/October/沈思明/LF OEM/PC",
          "2019/September/沈思明/LF OEM/PC",
          "2020/August/沈思明/Laird/PC",
          "2020/July/沈思明/Laird/PC",
          "2020/August/墨漢雷迪/M.S./PC",
          "2019/April/許凱智/MT-SYSTEM/PC",
          "2020/April/許凱智/MT-SYSTEM/PC",
          "2019/August/許凱智/MT-SYSTEM/PC",
          "2019/December/許凱智/MT-SYSTEM/PC",
          "2020/December/許凱智/MT-SYSTEM/PC",
          "2020/February/許凱智/MT-SYSTEM/PC",
          "2019/July/許凱智/MT-SYSTEM/PC",
          "2019/June/許凱智/MT-SYSTEM/PC",
          "2020/June/許凱智/MT-SYSTEM/PC",
          "2019/March/許凱智/MT-SYSTEM/PC",
          "2020/March/許凱智/MT-SYSTEM/PC",
          "2019/May/許凱智/MT-SYSTEM/PC",
          "2020/November/許凱智/MT-SYSTEM/PC",
          "2019/October/許凱智/MT-SYSTEM/PC",
          "2020/October/許凱智/MT-SYSTEM/PC",
          "2020/September/許凱智/MT-SYSTEM/PC",
          "2019/April/沈思明/WE/PC",
          "2020/April/沈思明/WE/PC",
          "2021/April/沈思明/WE/PC",
          "2019/August/沈思明/WE/PC",
          "2020/August/沈思明/WE/PC",
          "2021/August/沈思明/WE/PC",
          "2019/December/沈思明/WE/PC",
          "2020/December/沈思明/WE/PC",
          "2019/February/沈思明/WE/PC",
          "2020/February/沈思明/WE/PC",
          "2021/February/沈思明/WE/PC",
          "2019/January/沈思明/WE/PC",
          "2020/January/沈思明/WE/PC",
          "2021/January/沈思明/WE/PC",
          "2019/July/沈思明/WE/PC",
          "2020/July/沈思明/WE/PC",
          "2019/June/沈思明/WE/PC",
          "2020/June/沈思明/WE/PC",
          "2021/June/沈思明/WE/PC",
          "2019/March/沈思明/WE/PC",
          "2020/March/沈思明/WE/PC",
          "2021/March/沈思明/WE/PC",
          "2019/May/沈思明/WE/PC",
          "2020/May/沈思明/WE/PC",
          "2019/November/沈思明/WE/PC",
          "2020/November/沈思明/WE/PC",
          "2019/October/沈思明/WE/PC",
          "2020/October/沈思明/WE/PC",
          "2019/September/沈思明/WE/PC",
          "2020/September/沈思明/WE/PC",
          "2019/October/墨漢雷迪/WiSilica/PC",
          "2020/November/許凱智/Zebra/PC",
          "2019/April/許凱智/華新科技/PC",
          "2020/April/許凱智/華新科技/PC",
          "2019/August/許凱智/華新科技/PC",
          "2020/August/許凱智/華新科技/PC",
          "2019/December/許凱智/華新科技/PC",
          "2020/February/許凱智/華新科技/PC",
          "2020/January/許凱智/華新科技/PC",
          "2019/July/許凱智/華新科技/PC",
          "2020/July/許凱智/華新科技/PC",
          "2020/June/許凱智/華新科技/PC",
          "2019/March/許凱智/華新科技/PC",
          "2020/March/許凱智/華新科技/PC",
          "2020/May/許凱智/華新科技/PC",
          "2019/November/許凱智/華新科技/PC",
          "2019/October/許凱智/華新科技/PC",
          "2020/October/許凱智/華新科技/PC",
          "2019/September/許凱智/華新科技/PC",
          "2020/September/許凱智/華新科技/PC",
          "2020/April/沈思明/Bourns/RF",
          "2019/August/沈思明/Bourns/RF",
          "2019/December/沈思明/Bourns/RF",
          "2020/December/沈思明/Bourns/RF",
          "2021/January/沈思明/Bourns/RF",
          "2019/July/沈思明/Bourns/RF",
          "2020/July/沈思明/Bourns/RF",
          "2019/June/沈思明/Bourns/RF",
          "2020/June/沈思明/Bourns/RF",
          "2020/March/沈思明/Bourns/RF",
          "2019/May/沈思明/Bourns/RF",
          "2020/May/沈思明/Bourns/RF",
          "2019/November/沈思明/Bourns/RF",
          "2020/November/沈思明/Bourns/RF",
          "2019/October/沈思明/Bourns/RF",
          "2020/October/沈思明/Bourns/RF",
          "2019/September/沈思明/Bourns/RF",
          "2020/September/沈思明/Bourns/RF",
          "2019/November/墨漢雷迪/Credence/RF",
          "2019/May/墨漢雷迪/Eteily/RF",
          "2019/November/墨漢雷迪/Eteily/RF",
          "2020/November/墨漢雷迪/FIRST EN/RF",
          "2020/August/墨漢雷迪/G -PLAST/RF",
          "2021/January/墨漢雷迪/G -PLAST/RF",
          "2020/November/墨漢雷迪/G -PLAST/RF",
          "2020/October/墨漢雷迪/G -PLAST/RF",
          "2019/April/墨漢雷迪/Globalte/RF",
          "2020/November/墨漢雷迪/JBJ/RF",
          "2020/October/墨漢雷迪/JBJ/RF",
          "2020/August/墨漢雷迪/M.S./RF",
          "2019/December/墨漢雷迪/M.S./RF",
          "2020/June/墨漢雷迪/M.S./RF",
          "2020/November/墨漢雷迪/M.S./RF",
          "2020/September/墨漢雷迪/M.S./RF",
          "2020/August/墨漢雷迪/MATE/RF",
          "2020/July/墨漢雷迪/MATE/RF",
          "2020/November/墨漢雷迪/MATE/RF",
          "2020/October/墨漢雷迪/MATE/RF",
          "2019/April/許凱智/MT-SYSTEM/RF",
          "2020/April/許凱智/MT-SYSTEM/RF",
          "2019/August/許凱智/MT-SYSTEM/RF",
          "2020/August/許凱智/MT-SYSTEM/RF",
          "2019/December/許凱智/MT-SYSTEM/RF",
          "2020/December/許凱智/MT-SYSTEM/RF",
          "2020/February/許凱智/MT-SYSTEM/RF",
          "2019/January/許凱智/MT-SYSTEM/RF",
          "2020/January/許凱智/MT-SYSTEM/RF",
          "2019/July/許凱智/MT-SYSTEM/RF",
          "2020/July/許凱智/MT-SYSTEM/RF",
          "2019/June/許凱智/MT-SYSTEM/RF",
          "2020/June/許凱智/MT-SYSTEM/RF",
          "2019/March/許凱智/MT-SYSTEM/RF",
          "2019/May/許凱智/MT-SYSTEM/RF",
          "2019/November/許凱智/MT-SYSTEM/RF",
          "2020/November/許凱智/MT-SYSTEM/RF",
          "2019/October/許凱智/MT-SYSTEM/RF",
          "2020/October/許凱智/MT-SYSTEM/RF",
          "2019/September/許凱智/MT-SYSTEM/RF",
          "2020/September/許凱智/MT-SYSTEM/RF",
          "2020/August/墨漢雷迪/Nexty/RF",
          "2020/August/墨漢雷迪/SSF/RF",
          "2020/November/墨漢雷迪/SSF/RF",
          "2020/October/墨漢雷迪/SSF/RF",
          "2020/November/墨漢雷迪/Sancraft/RF",
          "2019/July/許凱智/TE /RF",
          "2020/June/許凱智/TE /RF",
          "2019/October/許凱智/TE /RF",
          "2019/September/許凱智/TE /RF",
          "2019/April/許凱智/TELTONIKA/RF",
          "2020/April/許凱智/TELTONIKA/RF",
          "2019/August/許凱智/TELTONIKA/RF",
          "2020/August/許凱智/TELTONIKA/RF",
          "2019/December/許凱智/TELTONIKA/RF",
          "2020/December/許凱智/TELTONIKA/RF",
          "2019/February/許凱智/TELTONIKA/RF",
          "2020/February/許凱智/TELTONIKA/RF",
          "2019/January/許凱智/TELTONIKA/RF",
          "2020/January/許凱智/TELTONIKA/RF",
          "2021/January/許凱智/TELTONIKA/RF",
          "2019/July/許凱智/TELTONIKA/RF",
          "2020/July/許凱智/TELTONIKA/RF",
          "2019/June/許凱智/TELTONIKA/RF",
          "2020/June/許凱智/TELTONIKA/RF",
          "2019/March/許凱智/TELTONIKA/RF",
          "2020/March/許凱智/TELTONIKA/RF",
          "2019/May/許凱智/TELTONIKA/RF",
          "2020/May/許凱智/TELTONIKA/RF",
          "2019/November/許凱智/TELTONIKA/RF",
          "2020/November/許凱智/TELTONIKA/RF",
          "2019/October/許凱智/TELTONIKA/RF",
          "2020/October/許凱智/TELTONIKA/RF",
          "2019/September/許凱智/TELTONIKA/RF",
          "2020/September/許凱智/TELTONIKA/RF",
          "2020/November/墨漢雷迪/Univa Te/RF",
          "2020/October/墨漢雷迪/Univa Te/RF",
          "2020/January/沈思明/WE/RF",
          "2020/May/沈思明/WE/RF",
          "2020/February/許凱智/Zebra/RF",
          "2020/August/許凱智/華新科技/RF",
          "2020/July/許凱智/華新科技/RF",
          "2020/June/許凱智/華新科技/RF",
          "2020/October/許凱智/華新科技/RF",
          "2020/September/許凱智/華新科技/RF",
          "2019/April/沈思明/Bourns/WIP",
          "2020/April/沈思明/Bourns/WIP",
          "2019/August/沈思明/Bourns/WIP",
          "2020/August/沈思明/Bourns/WIP",
          "2019/December/沈思明/Bourns/WIP",
          "2020/December/沈思明/Bourns/WIP",
          "2019/February/沈思明/Bourns/WIP",
          "2020/February/沈思明/Bourns/WIP",
          "2021/February/沈思明/Bourns/WIP",
          "2019/January/沈思明/Bourns/WIP",
          "2020/January/沈思明/Bourns/WIP",
          "2021/January/沈思明/Bourns/WIP",
          "2019/July/沈思明/Bourns/WIP",
          "2020/July/沈思明/Bourns/WIP",
          "2019/June/沈思明/Bourns/WIP",
          "2020/June/沈思明/Bourns/WIP",
          "2019/March/沈思明/Bourns/WIP",
          "2020/March/沈思明/Bourns/WIP",
          "2019/May/沈思明/Bourns/WIP",
          "2020/May/沈思明/Bourns/WIP",
          "2019/November/沈思明/Bourns/WIP",
          "2020/November/沈思明/Bourns/WIP",
          "2019/October/沈思明/Bourns/WIP",
          "2020/October/沈思明/Bourns/WIP",
          "2019/September/沈思明/Bourns/WIP",
          "2020/September/沈思明/Bourns/WIP",
          "2019/April/沈思明/Eaton/WIP",
          "2020/April/沈思明/Eaton/WIP",
          "2019/August/沈思明/Eaton/WIP",
          "2020/August/沈思明/Eaton/WIP",
          "2019/December/沈思明/Eaton/WIP",
          "2020/December/沈思明/Eaton/WIP",
          "2019/February/沈思明/Eaton/WIP",
          "2020/February/沈思明/Eaton/WIP",
          "2019/January/沈思明/Eaton/WIP",
          "2020/January/沈思明/Eaton/WIP",
          "2021/January/沈思明/Eaton/WIP",
          "2019/July/沈思明/Eaton/WIP",
          "2019/June/沈思明/Eaton/WIP",
          "2020/June/沈思明/Eaton/WIP",
          "2019/March/沈思明/Eaton/WIP",
          "2020/March/沈思明/Eaton/WIP",
          "2019/May/沈思明/Eaton/WIP",
          "2020/May/沈思明/Eaton/WIP",
          "2019/November/沈思明/Eaton/WIP",
          "2020/November/沈思明/Eaton/WIP",
          "2019/October/沈思明/Eaton/WIP",
          "2020/October/沈思明/Eaton/WIP",
          "2019/September/沈思明/Eaton/WIP",
          "2020/September/沈思明/Eaton/WIP",
          "2019/April/沈思明/Laird/WIP",
          "2020/April/沈思明/Laird/WIP",
          "2020/August/沈思明/Laird/WIP",
          "2019/December/沈思明/Laird/WIP",
          "2020/December/沈思明/Laird/WIP",
          "2019/February/沈思明/Laird/WIP",
          "2020/February/沈思明/Laird/WIP",
          "2019/January/沈思明/Laird/WIP",
          "2020/January/沈思明/Laird/WIP",
          "2021/January/沈思明/Laird/WIP",
          "2020/July/沈思明/Laird/WIP",
          "2019/June/沈思明/Laird/WIP",
          "2020/June/沈思明/Laird/WIP",
          "2020/March/沈思明/Laird/WIP",
          "2020/May/沈思明/Laird/WIP",
          "2019/November/沈思明/Laird/WIP",
          "2020/November/沈思明/Laird/WIP",
          "2019/October/沈思明/Laird/WIP",
          "2020/October/沈思明/Laird/WIP",
          "2020/September/沈思明/Laird/WIP",
          "2019/April/許凱智/MT-SYSTEM/WIP",
          "2020/April/許凱智/MT-SYSTEM/WIP",
          "2019/August/許凱智/MT-SYSTEM/WIP",
          "2020/August/許凱智/MT-SYSTEM/WIP",
          "2019/December/許凱智/MT-SYSTEM/WIP",
          "2020/December/許凱智/MT-SYSTEM/WIP",
          "2020/February/許凱智/MT-SYSTEM/WIP",
          "2019/January/許凱智/MT-SYSTEM/WIP",
          "2019/July/許凱智/MT-SYSTEM/WIP",
          "2019/June/許凱智/MT-SYSTEM/WIP",
          "2020/June/許凱智/MT-SYSTEM/WIP",
          "2019/March/許凱智/MT-SYSTEM/WIP",
          "2020/March/許凱智/MT-SYSTEM/WIP",
          "2019/May/許凱智/MT-SYSTEM/WIP",
          "2019/October/許凱智/MT-SYSTEM/WIP",
          "2019/December/許凱智/TELTONIKA/WIP",
          "2020/December/許凱智/TELTONIKA/WIP",
          "2020/January/許凱智/TELTONIKA/WIP",
          "2021/January/許凱智/TELTONIKA/WIP",
          "2020/November/許凱智/TELTONIKA/WIP",
          "2019/October/許凱智/TELTONIKA/WIP",
          "2020/October/許凱智/TELTONIKA/WIP",
          "2019/September/許凱智/TELTONIKA/WIP",
          "2019/April/許凱智/信昌/WIP",
          "2020/April/許凱智/信昌/WIP",
          "2021/April/許凱智/信昌/WIP",
          "2022/April/許凱智/信昌/WIP",
          "2019/August/許凱智/信昌/WIP",
          "2020/August/許凱智/信昌/WIP",
          "2021/August/許凱智/信昌/WIP",
          "2019/December/許凱智/信昌/WIP",
          "2020/December/許凱智/信昌/WIP",
          "2021/December/許凱智/信昌/WIP",
          "2019/February/許凱智/信昌/WIP",
          "2020/February/許凱智/信昌/WIP",
          "2021/February/許凱智/信昌/WIP",
          "2022/February/許凱智/信昌/WIP",
          "2019/January/許凱智/信昌/WIP",
          "2020/January/許凱智/信昌/WIP",
          "2021/January/許凱智/信昌/WIP",
          "2022/January/許凱智/信昌/WIP",
          "2019/July/許凱智/信昌/WIP",
          "2020/July/許凱智/信昌/WIP",
          "2021/July/許凱智/信昌/WIP",
          "2019/June/許凱智/信昌/WIP",
          "2020/June/許凱智/信昌/WIP",
          "2019/March/許凱智/信昌/WIP",
          "2020/March/許凱智/信昌/WIP",
          "2021/March/許凱智/信昌/WIP",
          "2022/March/許凱智/信昌/WIP",
          "2019/May/許凱智/信昌/WIP",
          "2020/May/許凱智/信昌/WIP",
          "2021/May/許凱智/信昌/WIP",
          "2022/May/許凱智/信昌/WIP",
          "2019/November/許凱智/信昌/WIP",
          "2020/November/許凱智/信昌/WIP",
          "2021/November/許凱智/信昌/WIP",
          "2019/October/許凱智/信昌/WIP",
          "2020/October/許凱智/信昌/WIP",
          "2019/September/許凱智/信昌/WIP",
          "2020/September/許凱智/信昌/WIP",
          "2021/September/許凱智/信昌/WIP",
          "2020/April/許凱智/華新科技/WIP",
          "2020/August/許凱智/華新科技/WIP",
          "2020/February/許凱智/華新科技/WIP",
          "2020/June/許凱智/華新科技/WIP",
          "2020/May/許凱智/華新科技/WIP",
          "2020/September/許凱智/華新科技/WIP",
          "2020/April/許凱智/藝感/WIP",
          "2021/April/許凱智/藝感/WIP",
          "2020/August/許凱智/藝感/WIP",
          "2019/December/許凱智/藝感/WIP",
          "2020/December/許凱智/藝感/WIP",
          "2020/February/許凱智/藝感/WIP",
          "2021/February/許凱智/藝感/WIP",
          "2020/January/許凱智/藝感/WIP",
          "2021/January/許凱智/藝感/WIP",
          "2019/July/許凱智/藝感/WIP",
          "2020/July/許凱智/藝感/WIP",
          "2020/June/許凱智/藝感/WIP",
          "2020/March/許凱智/藝感/WIP",
          "2021/March/許凱智/藝感/WIP",
          "2020/May/許凱智/藝感/WIP",
          "2021/May/許凱智/藝感/WIP",
          "2019/November/許凱智/藝感/WIP",
          "2020/November/許凱智/藝感/WIP",
          "2019/October/許凱智/藝感/WIP",
          "2020/October/許凱智/藝感/WIP",
          "2020/September/許凱智/藝感/WIP",
          "2019/April/沈思明/Bourns",
          "2020/April/沈思明/Bourns",
          "2019/August/沈思明/Bourns",
          "2020/August/沈思明/Bourns",
          "2019/December/沈思明/Bourns",
          "2020/December/沈思明/Bourns",
          "2019/February/沈思明/Bourns",
          "2020/February/沈思明/Bourns",
          "2021/February/沈思明/Bourns",
          "2019/January/沈思明/Bourns",
          "2020/January/沈思明/Bourns",
          "2021/January/沈思明/Bourns",
          "2019/July/沈思明/Bourns",
          "2020/July/沈思明/Bourns",
          "2019/June/沈思明/Bourns",
          "2020/June/沈思明/Bourns",
          "2019/March/沈思明/Bourns",
          "2020/March/沈思明/Bourns",
          "2021/March/沈思明/Bourns",
          "2019/May/沈思明/Bourns",
          "2020/May/沈思明/Bourns",
          "2019/November/沈思明/Bourns",
          "2020/November/沈思明/Bourns",
          "2019/October/沈思明/Bourns",
          "2020/October/沈思明/Bourns",
          "2019/September/沈思明/Bourns",
          "2020/September/沈思明/Bourns",
          "2019/November/墨漢雷迪/Credence",
          "2019/April/沈思明/Eaton",
          "2020/April/沈思明/Eaton",
          "2019/August/沈思明/Eaton",
          "2020/August/沈思明/Eaton",
          "2019/December/沈思明/Eaton",
          "2020/December/沈思明/Eaton",
          "2019/February/沈思明/Eaton",
          "2020/February/沈思明/Eaton",
          "2019/January/沈思明/Eaton",
          "2020/January/沈思明/Eaton",
          "2021/January/沈思明/Eaton",
          "2019/July/沈思明/Eaton",
          "2020/July/沈思明/Eaton",
          "2019/June/沈思明/Eaton",
          "2020/June/沈思明/Eaton",
          "2019/March/沈思明/Eaton",
          "2020/March/沈思明/Eaton",
          "2019/May/沈思明/Eaton",
          "2020/May/沈思明/Eaton",
          "2019/November/沈思明/Eaton",
          "2020/November/沈思明/Eaton",
          "2019/October/沈思明/Eaton",
          "2020/October/沈思明/Eaton",
          "2019/September/沈思明/Eaton",
          "2020/September/沈思明/Eaton",
          "2019/May/墨漢雷迪/Eteily",
          "2019/November/墨漢雷迪/Eteily",
          "2020/November/墨漢雷迪/FIRST EN",
          "2020/March/墨漢雷迪/Fides",
          "2020/August/墨漢雷迪/G -PLAST",
          "2021/January/墨漢雷迪/G -PLAST",
          "2020/November/墨漢雷迪/G -PLAST",
          "2020/October/墨漢雷迪/G -PLAST",
          "2019/April/墨漢雷迪/Globalte",
          "2020/November/墨漢雷迪/JBJ",
          "2020/October/墨漢雷迪/JBJ",
          "2019/April/沈思明/LF",
          "2020/April/沈思明/LF",
          "2019/August/沈思明/LF",
          "2020/August/沈思明/LF",
          "2019/December/沈思明/LF",
          "2020/December/沈思明/LF",
          "2019/February/沈思明/LF",
          "2020/February/沈思明/LF",
          "2019/January/沈思明/LF",
          "2020/January/沈思明/LF",
          "2019/July/沈思明/LF",
          "2020/July/沈思明/LF",
          "2019/June/沈思明/LF",
          "2020/June/沈思明/LF",
          "2019/March/沈思明/LF",
          "2020/March/沈思明/LF",
          "2019/May/沈思明/LF",
          "2020/May/沈思明/LF",
          "2019/November/沈思明/LF",
          "2020/November/沈思明/LF",
          "2019/October/沈思明/LF",
          "2020/October/沈思明/LF",
          "2019/September/沈思明/LF",
          "2020/September/沈思明/LF",
          "2019/April/沈思明/LF OEM",
          "2020/April/沈思明/LF OEM",
          "2019/August/沈思明/LF OEM",
          "2020/August/沈思明/LF OEM",
          "2019/December/沈思明/LF OEM",
          "2020/December/沈思明/LF OEM",
          "2019/February/沈思明/LF OEM",
          "2020/February/沈思明/LF OEM",
          "2019/January/沈思明/LF OEM",
          "2020/January/沈思明/LF OEM",
          "2019/July/沈思明/LF OEM",
          "2020/July/沈思明/LF OEM",
          "2019/June/沈思明/LF OEM",
          "2020/June/沈思明/LF OEM",
          "2019/March/沈思明/LF OEM",
          "2020/March/沈思明/LF OEM",
          "2019/May/沈思明/LF OEM",
          "2020/May/沈思明/LF OEM",
          "2019/November/沈思明/LF OEM",
          "2020/November/沈思明/LF OEM",
          "2019/October/沈思明/LF OEM",
          "2020/October/沈思明/LF OEM",
          "2019/September/沈思明/LF OEM",
          "2020/September/沈思明/LF OEM",
          "2019/April/沈思明/Laird",
          "2020/April/沈思明/Laird",
          "2019/August/沈思明/Laird",
          "2020/August/沈思明/Laird",
          "2019/December/沈思明/Laird",
          "2020/December/沈思明/Laird",
          "2019/February/沈思明/Laird",
          "2020/February/沈思明/Laird",
          "2021/February/沈思明/Laird",
          "2019/January/沈思明/Laird",
          "2020/January/沈思明/Laird",
          "2021/January/沈思明/Laird",
          "2019/July/沈思明/Laird",
          "2020/July/沈思明/Laird",
          "2019/June/沈思明/Laird",
          "2020/June/沈思明/Laird",
          "2019/March/沈思明/Laird",
          "2020/March/沈思明/Laird",
          "2019/May/沈思明/Laird",
          "2020/May/沈思明/Laird",
          "2019/November/沈思明/Laird",
          "2020/November/沈思明/Laird",
          "2019/October/沈思明/Laird",
          "2020/October/沈思明/Laird",
          "2019/September/沈思明/Laird",
          "2020/September/沈思明/Laird",
          "2020/August/墨漢雷迪/M.S.",
          "2019/December/墨漢雷迪/M.S.",
          "2020/June/墨漢雷迪/M.S.",
          "2020/November/墨漢雷迪/M.S.",
          "2020/September/墨漢雷迪/M.S.",
          "2020/August/墨漢雷迪/MATE",
          "2020/July/墨漢雷迪/MATE",
          "2020/November/墨漢雷迪/MATE",
          "2020/October/墨漢雷迪/MATE",
          "2019/April/許凱智/MT-SYSTEM",
          "2020/April/許凱智/MT-SYSTEM",
          "2019/August/許凱智/MT-SYSTEM",
          "2020/August/許凱智/MT-SYSTEM",
          "2019/December/許凱智/MT-SYSTEM",
          "2020/December/許凱智/MT-SYSTEM",
          "2020/February/許凱智/MT-SYSTEM",
          "2019/January/許凱智/MT-SYSTEM",
          "2020/January/許凱智/MT-SYSTEM",
          "2021/January/許凱智/MT-SYSTEM",
          "2019/July/許凱智/MT-SYSTEM",
          "2020/July/許凱智/MT-SYSTEM",
          "2019/June/許凱智/MT-SYSTEM",
          "2020/June/許凱智/MT-SYSTEM",
          "2019/March/許凱智/MT-SYSTEM",
          "2020/March/許凱智/MT-SYSTEM",
          "2019/May/許凱智/MT-SYSTEM",
          "2019/November/許凱智/MT-SYSTEM",
          "2020/November/許凱智/MT-SYSTEM",
          "2019/October/許凱智/MT-SYSTEM",
          "2020/October/許凱智/MT-SYSTEM",
          "2019/September/許凱智/MT-SYSTEM",
          "2020/September/許凱智/MT-SYSTEM",
          "2020/August/墨漢雷迪/Nexty",
          "2020/August/墨漢雷迪/SSF",
          "2020/November/墨漢雷迪/SSF",
          "2020/October/墨漢雷迪/SSF",
          "2020/November/墨漢雷迪/Sancraft",
          "2019/July/許凱智/TE ",
          "2020/June/許凱智/TE ",
          "2019/October/許凱智/TE ",
          "2019/September/許凱智/TE ",
          "2019/April/許凱智/TELTONIKA",
          "2020/April/許凱智/TELTONIKA",
          "2019/August/許凱智/TELTONIKA",
          "2020/August/許凱智/TELTONIKA",
          "2019/December/許凱智/TELTONIKA",
          "2020/December/許凱智/TELTONIKA",
          "2019/February/許凱智/TELTONIKA",
          "2020/February/許凱智/TELTONIKA",
          "2021/February/許凱智/TELTONIKA",
          "2019/January/許凱智/TELTONIKA",
          "2020/January/許凱智/TELTONIKA",
          "2021/January/許凱智/TELTONIKA",
          "2019/July/許凱智/TELTONIKA",
          "2020/July/許凱智/TELTONIKA",
          "2019/June/許凱智/TELTONIKA",
          "2020/June/許凱智/TELTONIKA",
          "2019/March/許凱智/TELTONIKA",
          "2020/March/許凱智/TELTONIKA",
          "2019/May/許凱智/TELTONIKA",
          "2020/May/許凱智/TELTONIKA",
          "2019/November/許凱智/TELTONIKA",
          "2020/November/許凱智/TELTONIKA",
          "2019/October/許凱智/TELTONIKA",
          "2020/October/許凱智/TELTONIKA",
          "2019/September/許凱智/TELTONIKA",
          "2020/September/許凱智/TELTONIKA",
          "2020/November/墨漢雷迪/Univa Te",
          "2020/October/墨漢雷迪/Univa Te",
          "2019/April/沈思明/WE",
          "2020/April/沈思明/WE",
          "2021/April/沈思明/WE",
          "2019/August/沈思明/WE",
          "2020/August/沈思明/WE",
          "2021/August/沈思明/WE",
          "2019/December/沈思明/WE",
          "2020/December/沈思明/WE",
          "2019/February/沈思明/WE",
          "2020/February/沈思明/WE",
          "2021/February/沈思明/WE",
          "2019/January/沈思明/WE",
          "2020/January/沈思明/WE",
          "2021/January/沈思明/WE",
          "2019/July/沈思明/WE",
          "2020/July/沈思明/WE",
          "2019/June/沈思明/WE",
          "2020/June/沈思明/WE",
          "2021/June/沈思明/WE",
          "2019/March/沈思明/WE",
          "2020/March/沈思明/WE",
          "2021/March/沈思明/WE",
          "2019/May/沈思明/WE",
          "2020/May/沈思明/WE",
          "2019/November/沈思明/WE",
          "2020/November/沈思明/WE",
          "2019/October/沈思明/WE",
          "2020/October/沈思明/WE",
          "2019/September/沈思明/WE",
          "2020/September/沈思明/WE",
          "2019/October/墨漢雷迪/WiSilica",
          "2020/February/許凱智/Zebra",
          "2020/November/許凱智/Zebra",
          "2019/April/許凱智/信昌",
          "2020/April/許凱智/信昌",
          "2021/April/許凱智/信昌",
          "2022/April/許凱智/信昌",
          "2019/August/許凱智/信昌",
          "2020/August/許凱智/信昌",
          "2021/August/許凱智/信昌",
          "2019/December/許凱智/信昌",
          "2020/December/許凱智/信昌",
          "2021/December/許凱智/信昌",
          "2019/February/許凱智/信昌",
          "2020/February/許凱智/信昌",
          "2021/February/許凱智/信昌",
          "2022/February/許凱智/信昌",
          "2019/January/許凱智/信昌",
          "2020/January/許凱智/信昌",
          "2021/January/許凱智/信昌",
          "2022/January/許凱智/信昌",
          "2019/July/許凱智/信昌",
          "2020/July/許凱智/信昌",
          "2021/July/許凱智/信昌",
          "2019/June/許凱智/信昌",
          "2020/June/許凱智/信昌",
          "2019/March/許凱智/信昌",
          "2020/March/許凱智/信昌",
          "2021/March/許凱智/信昌",
          "2022/March/許凱智/信昌",
          "2019/May/許凱智/信昌",
          "2020/May/許凱智/信昌",
          "2021/May/許凱智/信昌",
          "2022/May/許凱智/信昌",
          "2019/November/許凱智/信昌",
          "2020/November/許凱智/信昌",
          "2021/November/許凱智/信昌",
          "2019/October/許凱智/信昌",
          "2020/October/許凱智/信昌",
          "2019/September/許凱智/信昌",
          "2020/September/許凱智/信昌",
          "2021/September/許凱智/信昌",
          "2019/April/許凱智/東莞弘電",
          "2019/August/許凱智/東莞弘電",
          "2019/December/許凱智/東莞弘電",
          "2020/February/許凱智/東莞弘電",
          "2019/July/許凱智/東莞弘電",
          "2019/June/許凱智/東莞弘電",
          "2019/May/許凱智/東莞弘電",
          "2020/May/許凱智/東莞弘電",
          "2019/October/許凱智/東莞弘電",
          "2019/September/許凱智/東莞弘電",
          "2019/April/許凱智/華新科技",
          "2020/April/許凱智/華新科技",
          "2019/August/許凱智/華新科技",
          "2020/August/許凱智/華新科技",
          "2019/December/許凱智/華新科技",
          "2020/December/許凱智/華新科技",
          "2019/February/許凱智/華新科技",
          "2020/February/許凱智/華新科技",
          "2021/February/許凱智/華新科技",
          "2019/January/許凱智/華新科技",
          "2020/January/許凱智/華新科技",
          "2021/January/許凱智/華新科技",
          "2019/July/許凱智/華新科技",
          "2020/July/許凱智/華新科技",
          "2019/June/許凱智/華新科技",
          "2020/June/許凱智/華新科技",
          "2019/March/許凱智/華新科技",
          "2020/March/許凱智/華新科技",
          "2019/May/許凱智/華新科技",
          "2020/May/許凱智/華新科技",
          "2019/November/許凱智/華新科技",
          "2020/November/許凱智/華新科技",
          "2019/October/許凱智/華新科技",
          "2020/October/許凱智/華新科技",
          "2019/September/許凱智/華新科技",
          "2020/September/許凱智/華新科技",
          "2020/April/許凱智/藝感",
          "2021/April/許凱智/藝感",
          "2020/August/許凱智/藝感",
          "2019/December/許凱智/藝感",
          "2020/December/許凱智/藝感",
          "2020/February/許凱智/藝感",
          "2021/February/許凱智/藝感",
          "2020/January/許凱智/藝感",
          "2021/January/許凱智/藝感",
          "2019/July/許凱智/藝感",
          "2020/July/許凱智/藝感",
          "2020/June/許凱智/藝感",
          "2020/March/許凱智/藝感",
          "2021/March/許凱智/藝感",
          "2020/May/許凱智/藝感",
          "2021/May/許凱智/藝感",
          "2019/November/許凱智/藝感",
          "2020/November/許凱智/藝感",
          "2019/October/許凱智/藝感",
          "2020/October/許凱智/藝感",
          "2020/September/許凱智/藝感",
          "2019/April/墨漢雷迪",
          "2020/August/墨漢雷迪",
          "2019/December/墨漢雷迪",
          "2021/January/墨漢雷迪",
          "2020/July/墨漢雷迪",
          "2020/June/墨漢雷迪",
          "2020/March/墨漢雷迪",
          "2019/May/墨漢雷迪",
          "2019/November/墨漢雷迪",
          "2020/November/墨漢雷迪",
          "2019/October/墨漢雷迪",
          "2020/October/墨漢雷迪",
          "2020/September/墨漢雷迪",
          "2019/April/沈思明",
          "2020/April/沈思明",
          "2021/April/沈思明",
          "2019/August/沈思明",
          "2020/August/沈思明",
          "2021/August/沈思明",
          "2019/December/沈思明",
          "2020/December/沈思明",
          "2019/February/沈思明",
          "2020/February/沈思明",
          "2021/February/沈思明",
          "2019/January/沈思明",
          "2020/January/沈思明",
          "2021/January/沈思明",
          "2019/July/沈思明",
          "2020/July/沈思明",
          "2019/June/沈思明",
          "2020/June/沈思明",
          "2021/June/沈思明",
          "2019/March/沈思明",
          "2020/March/沈思明",
          "2021/March/沈思明",
          "2019/May/沈思明",
          "2020/May/沈思明",
          "2019/November/沈思明",
          "2020/November/沈思明",
          "2019/October/沈思明",
          "2020/October/沈思明",
          "2019/September/沈思明",
          "2020/September/沈思明",
          "2019/April/許凱智",
          "2020/April/許凱智",
          "2021/April/許凱智",
          "2022/April/許凱智",
          "2019/August/許凱智",
          "2020/August/許凱智",
          "2021/August/許凱智",
          "2019/December/許凱智",
          "2020/December/許凱智",
          "2021/December/許凱智",
          "2019/February/許凱智",
          "2020/February/許凱智",
          "2021/February/許凱智",
          "2022/February/許凱智",
          "2019/January/許凱智",
          "2020/January/許凱智",
          "2021/January/許凱智",
          "2022/January/許凱智",
          "2019/July/許凱智",
          "2020/July/許凱智",
          "2021/July/許凱智",
          "2019/June/許凱智",
          "2020/June/許凱智",
          "2019/March/許凱智",
          "2020/March/許凱智",
          "2021/March/許凱智",
          "2022/March/許凱智",
          "2019/May/許凱智",
          "2020/May/許凱智",
          "2021/May/許凱智",
          "2022/May/許凱智",
          "2019/November/許凱智",
          "2020/November/許凱智",
          "2021/November/許凱智",
          "2019/October/許凱智",
          "2020/October/許凱智",
          "2019/September/許凱智",
          "2020/September/許凱智",
          "2021/September/許凱智",
          "2019/April",
          "2020/April",
          "2021/April",
          "2022/April",
          "2019/August",
          "2020/August",
          "2021/August",
          "2019/December",
          "2020/December",
          "2021/December",
          "2019/February",
          "2020/February",
          "2021/February",
          "2022/February",
          "2019/January",
          "2020/January",
          "2021/January",
          "2022/January",
          "2019/July",
          "2020/July",
          "2021/July",
          "2019/June",
          "2020/June",
          "2021/June",
          "2019/March",
          "2020/March",
          "2021/March",
          "2022/March",
          "2019/May",
          "2020/May",
          "2021/May",
          "2022/May",
          "2019/November",
          "2020/November",
          "2021/November",
          "2019/October",
          "2020/October",
          "2019/September",
          "2020/September",
          "2021/September",
          "2019",
          "2020",
          "2021",
          "2022"
         ],
         "labels": [
          "EMC",
          "EMC",
          "EMC",
          "EMC",
          "EMC",
          "EMC",
          "EMC",
          "EMC",
          "EMC",
          "EMC",
          "EMC",
          "EMC",
          "EMC",
          "EMC",
          "EMC",
          "EMC",
          "EMC",
          "EMC",
          "EMC",
          "EMC",
          "EMC",
          "EMC",
          "EMC",
          "EMC",
          "EMC",
          "EMC",
          "EMC",
          "EMC",
          "EMC",
          "EMC",
          "EMC",
          "EMC",
          "EMC",
          "EMC",
          "EMC",
          "EMC",
          "EMC",
          "EMC",
          "EMC",
          "EMC",
          "EMC",
          "EMC",
          "EMC",
          "EMC",
          "EMC",
          "EMC",
          "EMC",
          "EMC",
          "EMC",
          "EMC",
          "EMC",
          "EMC",
          "EMC",
          "EMC",
          "EMC",
          "EMC",
          "EMC",
          "EMC",
          "EMC",
          "EMC",
          "EMC",
          "EMC",
          "EMC",
          "EMC",
          "EMC",
          "EMC",
          "EMC",
          "EMC",
          "EMC",
          "EMC",
          "EMC",
          "EMC",
          "EMC",
          "EMC",
          "EMC",
          "EMC",
          "EMC",
          "EMC",
          "EMC",
          "EMC",
          "EMC",
          "EMC",
          "EMC",
          "EMC",
          "EMC",
          "EMC",
          "EMC",
          "EMC",
          "EMC",
          "EMC",
          "EMC",
          "EMC",
          "EMC",
          "EMC",
          "EMC",
          "EMC",
          "EMC",
          "EMC",
          "EMC",
          "EMC",
          "EMC",
          "EMC",
          "EMC",
          "EMC",
          "EMC",
          "EMC",
          "EMC",
          "EMC",
          "EMC",
          "EMC",
          "EMC",
          "EMC",
          "EMC",
          "EMC",
          "EMC",
          "EMC",
          "EMC",
          "EMC",
          "EMC",
          "EMC",
          "EMC",
          "EMC",
          "EMC",
          "EMC",
          "EMC",
          "EMC",
          "EMC",
          "EMC",
          "EMC",
          "EMC",
          "EMC",
          "EMC",
          "EMC",
          "EMC",
          "EMC",
          "EMC",
          "EMC",
          "EMC",
          "EMC",
          "EMC",
          "EMC",
          "EMC",
          "EMC",
          "EMC",
          "EMC",
          "EMC",
          "EMC",
          "EMC",
          "EMC",
          "EMC",
          "EMC",
          "ODM",
          "ODM",
          "ODM",
          "ODM",
          "ODM",
          "ODM",
          "ODM",
          "ODM",
          "ODM",
          "ODM",
          "ODM",
          "ODM",
          "ODM",
          "ODM",
          "ODM",
          "ODM",
          "ODM",
          "ODM",
          "ODM",
          "ODM",
          "ODM",
          "ODM",
          "ODM",
          "ODM",
          "PC",
          "PC",
          "PC",
          "PC",
          "PC",
          "PC",
          "PC",
          "PC",
          "PC",
          "PC",
          "PC",
          "PC",
          "PC",
          "PC",
          "PC",
          "PC",
          "PC",
          "PC",
          "PC",
          "PC",
          "PC",
          "PC",
          "PC",
          "PC",
          "PC",
          "PC",
          "PC",
          "PC",
          "PC",
          "PC",
          "PC",
          "PC",
          "PC",
          "PC",
          "PC",
          "PC",
          "PC",
          "PC",
          "PC",
          "PC",
          "PC",
          "PC",
          "PC",
          "PC",
          "PC",
          "PC",
          "PC",
          "PC",
          "PC",
          "PC",
          "PC",
          "PC",
          "PC",
          "PC",
          "PC",
          "PC",
          "PC",
          "PC",
          "PC",
          "PC",
          "PC",
          "PC",
          "PC",
          "PC",
          "PC",
          "PC",
          "PC",
          "PC",
          "PC",
          "PC",
          "PC",
          "PC",
          "PC",
          "PC",
          "PC",
          "PC",
          "PC",
          "PC",
          "PC",
          "PC",
          "PC",
          "PC",
          "PC",
          "PC",
          "PC",
          "PC",
          "PC",
          "PC",
          "PC",
          "PC",
          "PC",
          "PC",
          "PC",
          "PC",
          "PC",
          "PC",
          "PC",
          "PC",
          "PC",
          "PC",
          "PC",
          "PC",
          "PC",
          "PC",
          "PC",
          "PC",
          "PC",
          "PC",
          "PC",
          "PC",
          "PC",
          "PC",
          "PC",
          "PC",
          "PC",
          "PC",
          "PC",
          "PC",
          "PC",
          "PC",
          "PC",
          "PC",
          "PC",
          "PC",
          "PC",
          "PC",
          "PC",
          "PC",
          "PC",
          "PC",
          "PC",
          "PC",
          "PC",
          "PC",
          "PC",
          "PC",
          "PC",
          "PC",
          "PC",
          "PC",
          "PC",
          "PC",
          "PC",
          "PC",
          "PC",
          "PC",
          "PC",
          "PC",
          "PC",
          "RF",
          "RF",
          "RF",
          "RF",
          "RF",
          "RF",
          "RF",
          "RF",
          "RF",
          "RF",
          "RF",
          "RF",
          "RF",
          "RF",
          "RF",
          "RF",
          "RF",
          "RF",
          "RF",
          "RF",
          "RF",
          "RF",
          "RF",
          "RF",
          "RF",
          "RF",
          "RF",
          "RF",
          "RF",
          "RF",
          "RF",
          "RF",
          "RF",
          "RF",
          "RF",
          "RF",
          "RF",
          "RF",
          "RF",
          "RF",
          "RF",
          "RF",
          "RF",
          "RF",
          "RF",
          "RF",
          "RF",
          "RF",
          "RF",
          "RF",
          "RF",
          "RF",
          "RF",
          "RF",
          "RF",
          "RF",
          "RF",
          "RF",
          "RF",
          "RF",
          "RF",
          "RF",
          "RF",
          "RF",
          "RF",
          "RF",
          "RF",
          "RF",
          "RF",
          "RF",
          "RF",
          "RF",
          "RF",
          "RF",
          "RF",
          "RF",
          "RF",
          "RF",
          "RF",
          "RF",
          "RF",
          "RF",
          "RF",
          "RF",
          "RF",
          "RF",
          "RF",
          "RF",
          "RF",
          "RF",
          "RF",
          "RF",
          "RF",
          "RF",
          "RF",
          "RF",
          "RF",
          "RF",
          "RF",
          "RF",
          "RF",
          "RF",
          "RF",
          "WIP",
          "WIP",
          "WIP",
          "WIP",
          "WIP",
          "WIP",
          "WIP",
          "WIP",
          "WIP",
          "WIP",
          "WIP",
          "WIP",
          "WIP",
          "WIP",
          "WIP",
          "WIP",
          "WIP",
          "WIP",
          "WIP",
          "WIP",
          "WIP",
          "WIP",
          "WIP",
          "WIP",
          "WIP",
          "WIP",
          "WIP",
          "WIP",
          "WIP",
          "WIP",
          "WIP",
          "WIP",
          "WIP",
          "WIP",
          "WIP",
          "WIP",
          "WIP",
          "WIP",
          "WIP",
          "WIP",
          "WIP",
          "WIP",
          "WIP",
          "WIP",
          "WIP",
          "WIP",
          "WIP",
          "WIP",
          "WIP",
          "WIP",
          "WIP",
          "WIP",
          "WIP",
          "WIP",
          "WIP",
          "WIP",
          "WIP",
          "WIP",
          "WIP",
          "WIP",
          "WIP",
          "WIP",
          "WIP",
          "WIP",
          "WIP",
          "WIP",
          "WIP",
          "WIP",
          "WIP",
          "WIP",
          "WIP",
          "WIP",
          "WIP",
          "WIP",
          "WIP",
          "WIP",
          "WIP",
          "WIP",
          "WIP",
          "WIP",
          "WIP",
          "WIP",
          "WIP",
          "WIP",
          "WIP",
          "WIP",
          "WIP",
          "WIP",
          "WIP",
          "WIP",
          "WIP",
          "WIP",
          "WIP",
          "WIP",
          "WIP",
          "WIP",
          "WIP",
          "WIP",
          "WIP",
          "WIP",
          "WIP",
          "WIP",
          "WIP",
          "WIP",
          "WIP",
          "WIP",
          "WIP",
          "WIP",
          "WIP",
          "WIP",
          "WIP",
          "WIP",
          "WIP",
          "WIP",
          "WIP",
          "WIP",
          "WIP",
          "WIP",
          "WIP",
          "WIP",
          "WIP",
          "WIP",
          "WIP",
          "WIP",
          "WIP",
          "WIP",
          "WIP",
          "WIP",
          "WIP",
          "WIP",
          "WIP",
          "WIP",
          "WIP",
          "WIP",
          "WIP",
          "WIP",
          "WIP",
          "WIP",
          "WIP",
          "WIP",
          "WIP",
          "WIP",
          "WIP",
          "WIP",
          "WIP",
          "WIP",
          "WIP",
          "WIP",
          "WIP",
          "WIP",
          "WIP",
          "WIP",
          "WIP",
          "WIP",
          "WIP",
          "WIP",
          "WIP",
          "WIP",
          "WIP",
          "Bourns",
          "Bourns",
          "Bourns",
          "Bourns",
          "Bourns",
          "Bourns",
          "Bourns",
          "Bourns",
          "Bourns",
          "Bourns",
          "Bourns",
          "Bourns",
          "Bourns",
          "Bourns",
          "Bourns",
          "Bourns",
          "Bourns",
          "Bourns",
          "Bourns",
          "Bourns",
          "Bourns",
          "Bourns",
          "Bourns",
          "Bourns",
          "Bourns",
          "Bourns",
          "Bourns",
          "Credence",
          "Eaton",
          "Eaton",
          "Eaton",
          "Eaton",
          "Eaton",
          "Eaton",
          "Eaton",
          "Eaton",
          "Eaton",
          "Eaton",
          "Eaton",
          "Eaton",
          "Eaton",
          "Eaton",
          "Eaton",
          "Eaton",
          "Eaton",
          "Eaton",
          "Eaton",
          "Eaton",
          "Eaton",
          "Eaton",
          "Eaton",
          "Eaton",
          "Eaton",
          "Eteily",
          "Eteily",
          "FIRST EN",
          "Fides",
          "G -PLAST",
          "G -PLAST",
          "G -PLAST",
          "G -PLAST",
          "Globalte",
          "JBJ",
          "JBJ",
          "LF",
          "LF",
          "LF",
          "LF",
          "LF",
          "LF",
          "LF",
          "LF",
          "LF",
          "LF",
          "LF",
          "LF",
          "LF",
          "LF",
          "LF",
          "LF",
          "LF",
          "LF",
          "LF",
          "LF",
          "LF",
          "LF",
          "LF",
          "LF",
          "LF OEM",
          "LF OEM",
          "LF OEM",
          "LF OEM",
          "LF OEM",
          "LF OEM",
          "LF OEM",
          "LF OEM",
          "LF OEM",
          "LF OEM",
          "LF OEM",
          "LF OEM",
          "LF OEM",
          "LF OEM",
          "LF OEM",
          "LF OEM",
          "LF OEM",
          "LF OEM",
          "LF OEM",
          "LF OEM",
          "LF OEM",
          "LF OEM",
          "LF OEM",
          "LF OEM",
          "Laird",
          "Laird",
          "Laird",
          "Laird",
          "Laird",
          "Laird",
          "Laird",
          "Laird",
          "Laird",
          "Laird",
          "Laird",
          "Laird",
          "Laird",
          "Laird",
          "Laird",
          "Laird",
          "Laird",
          "Laird",
          "Laird",
          "Laird",
          "Laird",
          "Laird",
          "Laird",
          "Laird",
          "Laird",
          "Laird",
          "M.S.",
          "M.S.",
          "M.S.",
          "M.S.",
          "M.S.",
          "MATE",
          "MATE",
          "MATE",
          "MATE",
          "MT-SYSTEM",
          "MT-SYSTEM",
          "MT-SYSTEM",
          "MT-SYSTEM",
          "MT-SYSTEM",
          "MT-SYSTEM",
          "MT-SYSTEM",
          "MT-SYSTEM",
          "MT-SYSTEM",
          "MT-SYSTEM",
          "MT-SYSTEM",
          "MT-SYSTEM",
          "MT-SYSTEM",
          "MT-SYSTEM",
          "MT-SYSTEM",
          "MT-SYSTEM",
          "MT-SYSTEM",
          "MT-SYSTEM",
          "MT-SYSTEM",
          "MT-SYSTEM",
          "MT-SYSTEM",
          "MT-SYSTEM",
          "MT-SYSTEM",
          "Nexty",
          "SSF",
          "SSF",
          "SSF",
          "Sancraft",
          "TE ",
          "TE ",
          "TE ",
          "TE ",
          "TELTONIKA",
          "TELTONIKA",
          "TELTONIKA",
          "TELTONIKA",
          "TELTONIKA",
          "TELTONIKA",
          "TELTONIKA",
          "TELTONIKA",
          "TELTONIKA",
          "TELTONIKA",
          "TELTONIKA",
          "TELTONIKA",
          "TELTONIKA",
          "TELTONIKA",
          "TELTONIKA",
          "TELTONIKA",
          "TELTONIKA",
          "TELTONIKA",
          "TELTONIKA",
          "TELTONIKA",
          "TELTONIKA",
          "TELTONIKA",
          "TELTONIKA",
          "TELTONIKA",
          "TELTONIKA",
          "TELTONIKA",
          "Univa Te",
          "Univa Te",
          "WE",
          "WE",
          "WE",
          "WE",
          "WE",
          "WE",
          "WE",
          "WE",
          "WE",
          "WE",
          "WE",
          "WE",
          "WE",
          "WE",
          "WE",
          "WE",
          "WE",
          "WE",
          "WE",
          "WE",
          "WE",
          "WE",
          "WE",
          "WE",
          "WE",
          "WE",
          "WE",
          "WE",
          "WE",
          "WE",
          "WiSilica",
          "Zebra",
          "Zebra",
          "信昌",
          "信昌",
          "信昌",
          "信昌",
          "信昌",
          "信昌",
          "信昌",
          "信昌",
          "信昌",
          "信昌",
          "信昌",
          "信昌",
          "信昌",
          "信昌",
          "信昌",
          "信昌",
          "信昌",
          "信昌",
          "信昌",
          "信昌",
          "信昌",
          "信昌",
          "信昌",
          "信昌",
          "信昌",
          "信昌",
          "信昌",
          "信昌",
          "信昌",
          "信昌",
          "信昌",
          "信昌",
          "信昌",
          "信昌",
          "信昌",
          "信昌",
          "信昌",
          "信昌",
          "信昌",
          "東莞弘電",
          "東莞弘電",
          "東莞弘電",
          "東莞弘電",
          "東莞弘電",
          "東莞弘電",
          "東莞弘電",
          "東莞弘電",
          "東莞弘電",
          "東莞弘電",
          "華新科技",
          "華新科技",
          "華新科技",
          "華新科技",
          "華新科技",
          "華新科技",
          "華新科技",
          "華新科技",
          "華新科技",
          "華新科技",
          "華新科技",
          "華新科技",
          "華新科技",
          "華新科技",
          "華新科技",
          "華新科技",
          "華新科技",
          "華新科技",
          "華新科技",
          "華新科技",
          "華新科技",
          "華新科技",
          "華新科技",
          "華新科技",
          "華新科技",
          "華新科技",
          "藝感",
          "藝感",
          "藝感",
          "藝感",
          "藝感",
          "藝感",
          "藝感",
          "藝感",
          "藝感",
          "藝感",
          "藝感",
          "藝感",
          "藝感",
          "藝感",
          "藝感",
          "藝感",
          "藝感",
          "藝感",
          "藝感",
          "藝感",
          "藝感",
          "墨漢雷迪",
          "墨漢雷迪",
          "墨漢雷迪",
          "墨漢雷迪",
          "墨漢雷迪",
          "墨漢雷迪",
          "墨漢雷迪",
          "墨漢雷迪",
          "墨漢雷迪",
          "墨漢雷迪",
          "墨漢雷迪",
          "墨漢雷迪",
          "墨漢雷迪",
          "沈思明",
          "沈思明",
          "沈思明",
          "沈思明",
          "沈思明",
          "沈思明",
          "沈思明",
          "沈思明",
          "沈思明",
          "沈思明",
          "沈思明",
          "沈思明",
          "沈思明",
          "沈思明",
          "沈思明",
          "沈思明",
          "沈思明",
          "沈思明",
          "沈思明",
          "沈思明",
          "沈思明",
          "沈思明",
          "沈思明",
          "沈思明",
          "沈思明",
          "沈思明",
          "沈思明",
          "沈思明",
          "沈思明",
          "沈思明",
          "許凱智",
          "許凱智",
          "許凱智",
          "許凱智",
          "許凱智",
          "許凱智",
          "許凱智",
          "許凱智",
          "許凱智",
          "許凱智",
          "許凱智",
          "許凱智",
          "許凱智",
          "許凱智",
          "許凱智",
          "許凱智",
          "許凱智",
          "許凱智",
          "許凱智",
          "許凱智",
          "許凱智",
          "許凱智",
          "許凱智",
          "許凱智",
          "許凱智",
          "許凱智",
          "許凱智",
          "許凱智",
          "許凱智",
          "許凱智",
          "許凱智",
          "許凱智",
          "許凱智",
          "許凱智",
          "許凱智",
          "許凱智",
          "許凱智",
          "許凱智",
          "許凱智",
          "April",
          "April",
          "April",
          "April",
          "August",
          "August",
          "August",
          "December",
          "December",
          "December",
          "February",
          "February",
          "February",
          "February",
          "January",
          "January",
          "January",
          "January",
          "July",
          "July",
          "July",
          "June",
          "June",
          "June",
          "March",
          "March",
          "March",
          "March",
          "May",
          "May",
          "May",
          "May",
          "November",
          "November",
          "November",
          "October",
          "October",
          "September",
          "September",
          "September",
          "2019",
          "2020",
          "2021",
          "2022"
         ],
         "marker": {
          "coloraxis": "coloraxis",
          "colors": [
           75000,
           149999.99999999997,
           411000,
           1222000,
           93000,
           1321000,
           462000.00000000006,
           710000,
           1242000,
           452000,
           1056000,
           1596000.0000000002,
           225000,
           30000,
           1660000,
           666000,
           1846000,
           234000,
           565000,
           841999.9999999999,
           1221000,
           483000,
           949000,
           502000,
           1343000,
           16374000,
           32830000.000000004,
           2740000,
           39483000,
           1800000,
           10656000,
           6780000,
           8354000,
           2800000,
           2046000,
           19810000,
           8020000,
           3480000,
           32029000,
           9048000,
           37151000,
           7913000,
           27862000,
           18406000,
           34879000,
           5140000,
           32750000,
           2040000.0000000002,
           45087000,
           548000,
           47982000,
           180000,
           34000,
           24000,
           4000,
           20000,
           327000,
           257000,
           68000,
           69000,
           4000,
           82000,
           24000,
           154000,
           237000.00000000003,
           102000,
           4000,
           144000,
           242000,
           1055000,
           2807000,
           820000,
           356500,
           1832000,
           4887000,
           1970500,
           24000,
           3279500,
           2390000,
           2323000,
           1735000,
           1289000,
           838000,
           112000,
           2408000,
           1071000,
           2713500,
           2352000,
           2650000,
           1430000,
           2497000,
           1811000,
           1470000,
           44000,
           25000,
           406000,
           748000,
           333000,
           790000,
           513000,
           2620000,
           74000,
           426000,
           109999.99999999999,
           72000,
           10000,
           474000,
           476000,
           40000,
           26000,
           239000,
           93000,
           7186000,
           70000,
           2845000,
           1002000,
           915000,
           222000,
           21000,
           345000,
           45000,
           999000.0000000001,
           21000,
           141000,
           51000,
           3263000,
           4966000,
           1381000,
           3938000,
           2773000,
           29326000,
           151000,
           3662999.9999999995,
           1200000,
           2550000,
           3518000,
           2259000,
           2749000,
           5324000,
           2776000,
           5494000,
           1813000,
           2563000,
           2488000,
           10829000,
           2679000,
           13202000,
           2107000,
           10873000,
           1919999.9999999998,
           7170000,
           1544.59,
           99888.75,
           53042.67,
           188827,
           21054.5,
           1680,
           9399.25,
           40201.25,
           17971.67,
           1270.5,
           168550.5,
           243976.17,
           78067.83,
           76285.83,
           2001.9200000000003,
           24450.25,
           30747.499999999996,
           144769.25,
           1770.5,
           90974,
           142805.65999999997,
           129511.34000000001,
           144407.58000000002,
           239330.42,
           8057000,
           7482000,
           2954000,
           3277002,
           6792000,
           9215000,
           2730000,
           7462000,
           60000,
           7083000,
           4304000,
           5264000,
           4726000,
           3190000,
           5532000,
           3697000.0000000005,
           7003000,
           4123000,
           260000,
           4401000,
           4697000,
           7433000,
           8351000.000000001,
           6246000.000000001,
           5551000,
           4731000,
           3641000,
           5965000,
           25540000,
           10610000,
           19784000,
           3888000,
           13919000,
           6624000,
           3651000.0000000005,
           9984000,
           6164000,
           9255000,
           6693000,
           29134000,
           5676000,
           4613004,
           9340000,
           13222000,
           3974000,
           24591999.999999996,
           6368000,
           23937000.000000004,
           11256000,
           16149000,
           3449000,
           21725000,
           1,
           13587520,
           16549000,
           50228000,
           38013000,
           17946000,
           39127000,
           18916000,
           21267000,
           19066000,
           35231000,
           42547570,
           30164000,
           29477000,
           47062000,
           30460312,
           30634000,
           13337288,
           26034999.999999996,
           33251000,
           12841000,
           27377000,
           56169000,
           48129000,
           54247000,
           1,
           1,
           82.5,
           1400,
           6600,
           600,
           30000,
           30000,
           6000,
           30000,
           140000,
           36000,
           25000,
           20000,
           22000.000000000004,
           125000.00000000001,
           140000,
           149000,
           10000,
           8000,
           5000,
           1,
           3031000,
           3559000,
           90000,
           4293000,
           2656002,
           60000,
           1565000,
           1670000,
           3830000,
           3901000.0000000005,
           119999.99999999999,
           4685000,
           4223000,
           1890000,
           1636002,
           3096000,
           3772000,
           4126000,
           60000,
           2099000,
           4885000,
           60000,
           3726000.0000000005,
           2650000,
           3489000,
           2150000,
           4281000,
           1580000,
           1619000,
           4405002,
           20000,
           303,
           4000,
           1320000,
           5240000,
           9120000,
           3510000,
           262000,
           1360040,
           8000,
           6708002,
           1400000,
           5704802,
           2636000,
           2014000,
           2508000,
           474000,
           10628000,
           1958000,
           7374000,
           352000,
           460000,
           456000,
           158000,
           290000,
           568000,
           680000,
           200000,
           352000,
           80000,
           24000,
           56000,
           224000,
           364000,
           532000,
           96000,
           660000,
           336000,
           5000,
           101.00000000000001,
           1999.9999999999998,
           900000,
           200000,
           1119000,
           1299000,
           60000,
           25,
           2310000,
           120000,
           805,
           3200,
           2400,
           2100,
           6125,
           1800000,
           840000,
           1110000,
           90000,
           13020,
           29400,
           16975,
           25480.000000000004,
           41800,
           20000,
           35600,
           18800,
           8500,
           12969.999999999998,
           36000,
           22000,
           100.00000000000001,
           52200,
           88570,
           11400,
           30000,
           36562,
           6000,
           52550,
           26372,
           350,
           600000,
           1710000,
           89999.99999999999,
           90000,
           839.9999999999999,
           43408,
           300,
           43556,
           255000,
           209890,
           135000,
           154000,
           145200,
           606000,
           6000,
           90100,
           209000,
           374550,
           11000,
           186000,
           100000,
           163000,
           15799.999999999998,
           115000,
           78400,
           154000,
           84710,
           170600,
           312000,
           9000,
           173700,
           268150,
           471199.99999999994,
           8000,
           2010,
           2000,
           160000,
           99.99999999999999,
           8000,
           20000,
           4000,
           12000,
           20000,
           1107000,
           1679999.9999999998,
           3606000,
           1727999.9999999998,
           4611000,
           3390000,
           2547000,
           1899000,
           447000,
           2229000,
           3282000.0000000005,
           2769000,
           1614000,
           3575999.9999999995,
           1254000,
           4116000,
           699000,
           1590000,
           1365000,
           4218000,
           1893000,
           1782000.0000000002,
           2571000.0000000005,
           3042000,
           1578000,
           1347000,
           1350000,
           630000,
           1860000,
           666000,
           690000,
           690000,
           750000,
           480000,
           2880000,
           1650000,
           90000,
           1200000,
           1440000,
           300000,
           1620000.0000000002,
           1620000,
           1650000,
           510000.00000000006,
           1710000,
           360000,
           1470000,
           570000,
           1920000,
           894000,
           6000,
           543000,
           360000,
           303000,
           108000,
           192000,
           18000,
           351000,
           114000,
           510000,
           423000,
           360000,
           249000,
           492000,
           1023000,
           318000,
           270000,
           15000,
           1143000,
           1035000,
           60000,
           15000,
           9000,
           45000,
           75000,
           6000,
           24000,
           147000,
           39000,
           21000,
           12000,
           54000,
           33000,
           75000,
           51000,
           12000,
           24000,
           15000,
           36000,
           12000,
           6000,
           24000,
           6000,
           5646000,
           1644000,
           2997000,
           3642000,
           2403000,
           4161000,
           2700000,
           3531000,
           3000000,
           3006000,
           726000,
           2229000,
           4002000,
           3498000,
           1524000,
           2100000,
           3999000,
           4008000,
           9228000,
           5472000,
           4002000,
           5646000,
           5031000,
           2679000,
           4065000,
           4002000,
           3144000,
           5433000.000000001,
           1932000,
           1449000,
           2532000,
           9345000,
           7074000,
           2199000,
           8082000,
           12926000,
           4854000,
           16638000,
           999000,
           36000,
           108000,
           6000,
           3000,
           99000,
           48000,
           2010000,
           3000000,
           1848000,
           1026000.0000000001,
           2820000,
           1254000,
           3000000,
           501000,
           3000000,
           18000,
           3408000,
           2157000,
           501000,
           3000000,
           873000,
           1413000.0000000002,
           873000,
           3000000,
           414000,
           3459000,
           1905000.0000000002,
           5625716.144401061,
           4408213.437050853,
           2773398.2680342137,
           2239259.1540188687,
           4537329.666478231,
           5323739.729529133,
           2450991.159213895,
           5191189.802917057,
           416811.079908093,
           4650141.072667297,
           3499967.521100737,
           3340031.8544120765,
           2096534.9710352905,
           2703113.710494315,
           3408072.0706486474,
           3384960.5901672137,
           5408785.053201676,
           2406959.933794379,
           260000,
           2708295.8044627034,
           4052148.6271422245,
           4333854.24547483,
           4955693.877282734,
           3340520.206885732,
           3839139.928635654,
           2389623.662255297,
           1973559.2580167023,
           5000,
           4073188.0633494,
           23387029.488491796,
           7799769.547861557,
           18213084.188745808,
           2905299.3680863366,
           11971824.878557503,
           5061526.030582306,
           2761802.9064653507,
           6629334.80118698,
           4324619.021925306,
           8955909.045884637,
           4753165.846162225,
           29134000,
           4006150.360223145,
           4104706.597088154,
           6255828.301984071,
           9665789.610032277,
           2836094.3711023205,
           22765588.217243005,
           4033773.684192083,
           22683106.9571715,
           8038492.834346363,
           14311515.448801387,
           2524286.7643760145,
           18987420.156860102,
           101.00000000000001,
           1999.9999999999998,
           900000,
           1,
           200000,
           1119000,
           1299000,
           60000,
           25,
           2310000,
           120000,
           13587520,
           16549000,
           50228000,
           38013000,
           17946000,
           39127000,
           18916000,
           21267000,
           19066000,
           35231000,
           42547570,
           30164000,
           29477000,
           47062000,
           30460312,
           30634000,
           13337288,
           26034999.999999996,
           33251000,
           12841000,
           27377000,
           56169000,
           48129000,
           54247000,
           1544.59,
           99888.75,
           53042.67,
           188827,
           21054.5,
           1680,
           9399.25,
           40201.25,
           17971.67,
           1270.5,
           168550.5,
           242957.90132171597,
           78067.83,
           76285.83,
           2001.9200000000003,
           24450.25,
           30747.499999999996,
           144769.25,
           1770.5,
           90974,
           142805.65999999997,
           121500.21881602993,
           143664.9168097877,
           239330.42,
           16304438.088850105,
           24108030.26724961,
           2740000,
           33939293.41973467,
           497925.8590361711,
           9419488.782967191,
           4024965.6616954436,
           8092558.066630228,
           2800000,
           612463.5951402195,
           16790988.78459383,
           3911700.411241342,
           3480000,
           25768471.053393617,
           5284644.918881658,
           31779866.50920626,
           7913000,
           20638138.11158863,
           18406000,
           20800635.21177202,
           2269431.045538957,
           29169752.33481382,
           1868946.5807315917,
           31200190.281601876,
           548000,
           34712993.81995194,
           739.1536366720204,
           3200,
           2400,
           2100,
           6125,
           1800000,
           840000,
           1110000,
           90000,
           22284.563506371116,
           29282.0900900125,
           16988.46627977503,
           26072.566111246393,
           42677.21303448295,
           103261.42140130268,
           55216.64003429846,
           65571.82384545276,
           8500,
           69000,
           13945.00760461257,
           37204.79851165048,
           21898.11616535232,
           63400.46404357946,
           59394.66037300737,
           147243.6059614262,
           94432.69344520036,
           11400,
           34050.04876144182,
           36367.14054521681,
           10169.932177216653,
           52550,
           34666.02639976952,
           350,
           600000,
           1710000,
           89999.99999999999,
           90000,
           839.9999999999999,
           43408,
           300,
           43556,
           310124.0277971975,
           692926.5785392476,
           231990.19712349787,
           187053.59593004695,
           497000.4844330678,
           772585.1861820129,
           6000,
           906145.7570771032,
           24000,
           209000,
           885846.2359350787,
           791292.1892366711,
           782299.247549805,
           173259.63436836866,
           269648.9867846982,
           132853.8649968114,
           114971.08675746634,
           691569.6409117398,
           235609.08072676178,
           754057.8010846127,
           908665.4813989956,
           390000.83472030115,
           956393.8046807566,
           269177.9062501699,
           521203.36799175246,
           513288.43116227427,
           8000,
           2010,
           3031000,
           3559000,
           90000,
           4293000,
           2656002,
           60000,
           1565000,
           1670000,
           3830000,
           3901000.0000000005,
           119999.99999999999,
           4685000,
           4179275.2283909386,
           1890000,
           1636002,
           3096000,
           3772000,
           4126000,
           60000,
           2099000,
           4885000,
           60000,
           3726000.0000000005,
           2224058.1640048246,
           3489000,
           2150000,
           4281000,
           1580000,
           1619000,
           4405002,
           20000,
           99.99999999999999,
           303,
           5646000,
           1631512.33958539,
           2997000,
           3642000,
           2398939.249139091,
           4066144.189530682,
           2700000,
           3468322.7152812616,
           2972368.5417491365,
           3006000,
           726000,
           2182336.3030229243,
           4002000,
           3498000,
           1524000,
           2053066.3280389998,
           3910594.4316668683,
           4008000,
           9216309.381233037,
           5411589.308053618,
           4002000,
           5635541.075321695,
           5025210.846441836,
           2678279.929693693,
           4000221.1582226097,
           4002000,
           3144000,
           5380499.061076821,
           1928923.3896375794,
           1449000,
           2532000,
           9342132.129524743,
           7046567.054382554,
           2199000,
           8066219.398796714,
           12628392.444705421,
           4847195.525970089,
           16112326.641549515,
           999000,
           1002000,
           915000,
           222000,
           21000,
           345000,
           45000,
           999000.0000000001,
           21000,
           141000,
           51000,
           3155172.447656293,
           3944912.9883286487,
           4462891.096937192,
           5896169.486414828,
           3159206.6734415907,
           29326000,
           151000,
           3505923.5745307948,
           1200000,
           2550000,
           2682795.83782188,
           2259000,
           2540279.4135247516,
           5633250.143879892,
           2776000,
           4672073.211474355,
           5273168.929426327,
           2593299.1978459256,
           2488000,
           8344283.854353331,
           2590189.1691015526,
           13202000,
           1886185.0008591362,
           10612283.712891394,
           1939180.23119248,
           6783161.402801948,
           2010000,
           3000000,
           1848000,
           1026000.0000000001,
           2820000,
           1254000,
           3000000,
           501000,
           3000000,
           18000,
           3408000,
           2157000,
           501000,
           3000000,
           873000,
           1413000.0000000002,
           873000,
           3000000,
           414000,
           3459000,
           1905000.0000000002,
           25,
           1386347.6631737459,
           3200,
           1119000,
           840000,
           2400,
           1,
           101.00000000000001,
           4175.151215341847,
           1607408.7348693619,
           20000,
           93089.54207668749,
           6125,
           6962495.196549165,
           14824399.849069893,
           90000,
           24382889.683541592,
           20704682.774204403,
           60000,
           8075303.145821719,
           21844578.221374184,
           8313619.4138115505,
           10067105.80287021,
           933795.8386727383,
           8342530.771348054,
           17462684.796536528,
           4743336.063303072,
           22476798.44724419,
           19641523.167283475,
           12393276.156128425,
           22968265.136467937,
           60000,
           15217565.508687338,
           15455341.10460076,
           173398.87013489392,
           6528769.900866169,
           16959277.10504516,
           14595339.61085596,
           10237143.295374738,
           11524893.09391943,
           30111067.5708966,
           26235418.87524145,
           27813164.936671983,
           2316334.0998402797,
           1186272.4330452278,
           2998587.8012143713,
           3642000,
           1264915.8100121976,
           2116092.226559335,
           2700000,
           1659332.054532012,
           5105621.425229315,
           3006000,
           627825.7904558916,
           1536590.3063972108,
           3123686.123560116,
           3498000,
           629364.6369905322,
           1213726.0251941376,
           2558056.6119818036,
           4008000,
           4812051.291405989,
           2819932.8631924023,
           4002000,
           2726633.308373038,
           2737789.3787376666,
           1771422.485782661,
           2439738.831163589,
           3543975.164797226,
           3144000,
           2339057.8200842016,
           2409361.5737083685,
           1430376.3855537158,
           2532000,
           5097803.6366687305,
           3485553.481350274,
           2199000,
           6052765.76741418,
           6877046.814743957,
           1528027.1146473936,
           6526878.94662506,
           999000,
           5949048.597276241,
           12804244.12760952,
           2856675.6533280094,
           3642000,
           22785844.88136875,
           16760567.595257167,
           2534334.4901979174,
           6850887.585576473,
           16078688.912987627,
           3006000,
           8144210.291020867,
           8552023.34846985,
           2746613.7446719483,
           3498000,
           7616225.862639621,
           14739426.901843695,
           3835218.3026482426,
           4008000,
           19715916.20262417,
           16477639.435937513,
           4002000,
           11184085.560389299,
           20124574.36994902,
           60000,
           13318751.839814587,
           14094499.55052807,
           3257448.2280051145,
           3144000,
           5676532.779524463,
           15442708.023167137,
           1430376.3855537158,
           2532000,
           12564983.614671553,
           7009159.156649934,
           2199000,
           10830233.884032905,
           25099651.395177282,
           22469050.01414083,
           21979155.24785129,
           999000,
           13741929.905599644,
           16606124.010116862,
           3368287.969308749,
           3439894.4967800244
          ]
         },
         "name": "",
         "parents": [
          "2019/April/沈思明/Bourns",
          "2020/April/沈思明/Bourns",
          "2019/August/沈思明/Bourns",
          "2020/August/沈思明/Bourns",
          "2019/December/沈思明/Bourns",
          "2020/December/沈思明/Bourns",
          "2019/February/沈思明/Bourns",
          "2020/February/沈思明/Bourns",
          "2019/January/沈思明/Bourns",
          "2020/January/沈思明/Bourns",
          "2021/January/沈思明/Bourns",
          "2019/July/沈思明/Bourns",
          "2020/July/沈思明/Bourns",
          "2019/June/沈思明/Bourns",
          "2020/June/沈思明/Bourns",
          "2019/March/沈思明/Bourns",
          "2020/March/沈思明/Bourns",
          "2019/May/沈思明/Bourns",
          "2020/May/沈思明/Bourns",
          "2019/November/沈思明/Bourns",
          "2020/November/沈思明/Bourns",
          "2019/October/沈思明/Bourns",
          "2020/October/沈思明/Bourns",
          "2019/September/沈思明/Bourns",
          "2020/September/沈思明/Bourns",
          "2019/April/沈思明/Laird",
          "2020/April/沈思明/Laird",
          "2019/August/沈思明/Laird",
          "2020/August/沈思明/Laird",
          "2019/December/沈思明/Laird",
          "2020/December/沈思明/Laird",
          "2019/February/沈思明/Laird",
          "2020/February/沈思明/Laird",
          "2021/February/沈思明/Laird",
          "2019/January/沈思明/Laird",
          "2020/January/沈思明/Laird",
          "2021/January/沈思明/Laird",
          "2019/July/沈思明/Laird",
          "2020/July/沈思明/Laird",
          "2019/June/沈思明/Laird",
          "2020/June/沈思明/Laird",
          "2019/March/沈思明/Laird",
          "2020/March/沈思明/Laird",
          "2019/May/沈思明/Laird",
          "2020/May/沈思明/Laird",
          "2019/November/沈思明/Laird",
          "2020/November/沈思明/Laird",
          "2019/October/沈思明/Laird",
          "2020/October/沈思明/Laird",
          "2019/September/沈思明/Laird",
          "2020/September/沈思明/Laird",
          "2019/April/許凱智/MT-SYSTEM",
          "2020/April/許凱智/MT-SYSTEM",
          "2019/August/許凱智/MT-SYSTEM",
          "2020/August/許凱智/MT-SYSTEM",
          "2019/December/許凱智/MT-SYSTEM",
          "2020/December/許凱智/MT-SYSTEM",
          "2020/February/許凱智/MT-SYSTEM",
          "2019/January/許凱智/MT-SYSTEM",
          "2021/January/許凱智/MT-SYSTEM",
          "2019/July/許凱智/MT-SYSTEM",
          "2020/July/許凱智/MT-SYSTEM",
          "2019/June/許凱智/MT-SYSTEM",
          "2020/June/許凱智/MT-SYSTEM",
          "2020/March/許凱智/MT-SYSTEM",
          "2020/November/許凱智/MT-SYSTEM",
          "2019/October/許凱智/MT-SYSTEM",
          "2020/October/許凱智/MT-SYSTEM",
          "2020/September/許凱智/MT-SYSTEM",
          "2019/April/許凱智/TELTONIKA",
          "2020/April/許凱智/TELTONIKA",
          "2019/August/許凱智/TELTONIKA",
          "2020/August/許凱智/TELTONIKA",
          "2019/December/許凱智/TELTONIKA",
          "2020/December/許凱智/TELTONIKA",
          "2020/February/許凱智/TELTONIKA",
          "2021/February/許凱智/TELTONIKA",
          "2020/January/許凱智/TELTONIKA",
          "2021/January/許凱智/TELTONIKA",
          "2019/July/許凱智/TELTONIKA",
          "2020/July/許凱智/TELTONIKA",
          "2019/June/許凱智/TELTONIKA",
          "2020/June/許凱智/TELTONIKA",
          "2019/March/許凱智/TELTONIKA",
          "2020/March/許凱智/TELTONIKA",
          "2019/May/許凱智/TELTONIKA",
          "2020/May/許凱智/TELTONIKA",
          "2019/November/許凱智/TELTONIKA",
          "2020/November/許凱智/TELTONIKA",
          "2019/October/許凱智/TELTONIKA",
          "2020/October/許凱智/TELTONIKA",
          "2019/September/許凱智/TELTONIKA",
          "2020/September/許凱智/TELTONIKA",
          "2020/April/許凱智/信昌",
          "2019/August/許凱智/信昌",
          "2020/August/許凱智/信昌",
          "2019/December/許凱智/信昌",
          "2020/December/許凱智/信昌",
          "2020/February/許凱智/信昌",
          "2020/January/許凱智/信昌",
          "2021/January/許凱智/信昌",
          "2019/July/許凱智/信昌",
          "2020/July/許凱智/信昌",
          "2019/June/許凱智/信昌",
          "2020/June/許凱智/信昌",
          "2019/March/許凱智/信昌",
          "2020/March/許凱智/信昌",
          "2019/May/許凱智/信昌",
          "2020/May/許凱智/信昌",
          "2019/November/許凱智/信昌",
          "2020/November/許凱智/信昌",
          "2019/October/許凱智/信昌",
          "2020/October/許凱智/信昌",
          "2019/September/許凱智/信昌",
          "2020/September/許凱智/信昌",
          "2019/April/許凱智/東莞弘電",
          "2019/August/許凱智/東莞弘電",
          "2019/December/許凱智/東莞弘電",
          "2020/February/許凱智/東莞弘電",
          "2019/July/許凱智/東莞弘電",
          "2019/June/許凱智/東莞弘電",
          "2019/May/許凱智/東莞弘電",
          "2020/May/許凱智/東莞弘電",
          "2019/October/許凱智/東莞弘電",
          "2019/September/許凱智/東莞弘電",
          "2019/April/許凱智/華新科技",
          "2020/April/許凱智/華新科技",
          "2019/August/許凱智/華新科技",
          "2020/August/許凱智/華新科技",
          "2019/December/許凱智/華新科技",
          "2020/December/許凱智/華新科技",
          "2019/February/許凱智/華新科技",
          "2020/February/許凱智/華新科技",
          "2021/February/許凱智/華新科技",
          "2019/January/許凱智/華新科技",
          "2020/January/許凱智/華新科技",
          "2021/January/許凱智/華新科技",
          "2019/July/許凱智/華新科技",
          "2020/July/許凱智/華新科技",
          "2019/June/許凱智/華新科技",
          "2020/June/許凱智/華新科技",
          "2019/March/許凱智/華新科技",
          "2020/March/許凱智/華新科技",
          "2019/May/許凱智/華新科技",
          "2020/May/許凱智/華新科技",
          "2019/November/許凱智/華新科技",
          "2020/November/許凱智/華新科技",
          "2019/October/許凱智/華新科技",
          "2020/October/許凱智/華新科技",
          "2019/September/許凱智/華新科技",
          "2020/September/許凱智/華新科技",
          "2019/April/沈思明/LF OEM",
          "2020/April/沈思明/LF OEM",
          "2019/August/沈思明/LF OEM",
          "2020/August/沈思明/LF OEM",
          "2019/December/沈思明/LF OEM",
          "2020/December/沈思明/LF OEM",
          "2019/February/沈思明/LF OEM",
          "2020/February/沈思明/LF OEM",
          "2019/January/沈思明/LF OEM",
          "2020/January/沈思明/LF OEM",
          "2019/July/沈思明/LF OEM",
          "2020/July/沈思明/LF OEM",
          "2019/June/沈思明/LF OEM",
          "2020/June/沈思明/LF OEM",
          "2019/March/沈思明/LF OEM",
          "2020/March/沈思明/LF OEM",
          "2019/May/沈思明/LF OEM",
          "2020/May/沈思明/LF OEM",
          "2019/November/沈思明/LF OEM",
          "2020/November/沈思明/LF OEM",
          "2019/October/沈思明/LF OEM",
          "2020/October/沈思明/LF OEM",
          "2019/September/沈思明/LF OEM",
          "2020/September/沈思明/LF OEM",
          "2019/April/沈思明/Bourns",
          "2020/April/沈思明/Bourns",
          "2019/August/沈思明/Bourns",
          "2020/August/沈思明/Bourns",
          "2019/December/沈思明/Bourns",
          "2020/December/沈思明/Bourns",
          "2019/February/沈思明/Bourns",
          "2020/February/沈思明/Bourns",
          "2021/February/沈思明/Bourns",
          "2019/January/沈思明/Bourns",
          "2020/January/沈思明/Bourns",
          "2021/January/沈思明/Bourns",
          "2019/July/沈思明/Bourns",
          "2020/July/沈思明/Bourns",
          "2019/June/沈思明/Bourns",
          "2020/June/沈思明/Bourns",
          "2019/March/沈思明/Bourns",
          "2020/March/沈思明/Bourns",
          "2021/March/沈思明/Bourns",
          "2019/May/沈思明/Bourns",
          "2020/May/沈思明/Bourns",
          "2019/November/沈思明/Bourns",
          "2020/November/沈思明/Bourns",
          "2019/October/沈思明/Bourns",
          "2020/October/沈思明/Bourns",
          "2019/September/沈思明/Bourns",
          "2020/September/沈思明/Bourns",
          "2019/April/沈思明/Eaton",
          "2020/April/沈思明/Eaton",
          "2019/August/沈思明/Eaton",
          "2020/August/沈思明/Eaton",
          "2019/December/沈思明/Eaton",
          "2020/December/沈思明/Eaton",
          "2019/February/沈思明/Eaton",
          "2020/February/沈思明/Eaton",
          "2019/January/沈思明/Eaton",
          "2020/January/沈思明/Eaton",
          "2021/January/沈思明/Eaton",
          "2019/July/沈思明/Eaton",
          "2020/July/沈思明/Eaton",
          "2019/June/沈思明/Eaton",
          "2020/June/沈思明/Eaton",
          "2019/March/沈思明/Eaton",
          "2020/March/沈思明/Eaton",
          "2019/May/沈思明/Eaton",
          "2020/May/沈思明/Eaton",
          "2019/November/沈思明/Eaton",
          "2020/November/沈思明/Eaton",
          "2019/October/沈思明/Eaton",
          "2020/October/沈思明/Eaton",
          "2019/September/沈思明/Eaton",
          "2020/September/沈思明/Eaton",
          "2020/March/墨漢雷迪/Fides",
          "2019/April/沈思明/LF",
          "2020/April/沈思明/LF",
          "2019/August/沈思明/LF",
          "2020/August/沈思明/LF",
          "2019/December/沈思明/LF",
          "2020/December/沈思明/LF",
          "2019/February/沈思明/LF",
          "2020/February/沈思明/LF",
          "2019/January/沈思明/LF",
          "2020/January/沈思明/LF",
          "2019/July/沈思明/LF",
          "2020/July/沈思明/LF",
          "2019/June/沈思明/LF",
          "2020/June/沈思明/LF",
          "2019/March/沈思明/LF",
          "2020/March/沈思明/LF",
          "2019/May/沈思明/LF",
          "2020/May/沈思明/LF",
          "2019/November/沈思明/LF",
          "2020/November/沈思明/LF",
          "2019/October/沈思明/LF",
          "2020/October/沈思明/LF",
          "2019/September/沈思明/LF",
          "2020/September/沈思明/LF",
          "2020/July/沈思明/LF OEM",
          "2020/October/沈思明/LF OEM",
          "2019/September/沈思明/LF OEM",
          "2020/August/沈思明/Laird",
          "2020/July/沈思明/Laird",
          "2020/August/墨漢雷迪/M.S.",
          "2019/April/許凱智/MT-SYSTEM",
          "2020/April/許凱智/MT-SYSTEM",
          "2019/August/許凱智/MT-SYSTEM",
          "2019/December/許凱智/MT-SYSTEM",
          "2020/December/許凱智/MT-SYSTEM",
          "2020/February/許凱智/MT-SYSTEM",
          "2019/July/許凱智/MT-SYSTEM",
          "2019/June/許凱智/MT-SYSTEM",
          "2020/June/許凱智/MT-SYSTEM",
          "2019/March/許凱智/MT-SYSTEM",
          "2020/March/許凱智/MT-SYSTEM",
          "2019/May/許凱智/MT-SYSTEM",
          "2020/November/許凱智/MT-SYSTEM",
          "2019/October/許凱智/MT-SYSTEM",
          "2020/October/許凱智/MT-SYSTEM",
          "2020/September/許凱智/MT-SYSTEM",
          "2019/April/沈思明/WE",
          "2020/April/沈思明/WE",
          "2021/April/沈思明/WE",
          "2019/August/沈思明/WE",
          "2020/August/沈思明/WE",
          "2021/August/沈思明/WE",
          "2019/December/沈思明/WE",
          "2020/December/沈思明/WE",
          "2019/February/沈思明/WE",
          "2020/February/沈思明/WE",
          "2021/February/沈思明/WE",
          "2019/January/沈思明/WE",
          "2020/January/沈思明/WE",
          "2021/January/沈思明/WE",
          "2019/July/沈思明/WE",
          "2020/July/沈思明/WE",
          "2019/June/沈思明/WE",
          "2020/June/沈思明/WE",
          "2021/June/沈思明/WE",
          "2019/March/沈思明/WE",
          "2020/March/沈思明/WE",
          "2021/March/沈思明/WE",
          "2019/May/沈思明/WE",
          "2020/May/沈思明/WE",
          "2019/November/沈思明/WE",
          "2020/November/沈思明/WE",
          "2019/October/沈思明/WE",
          "2020/October/沈思明/WE",
          "2019/September/沈思明/WE",
          "2020/September/沈思明/WE",
          "2019/October/墨漢雷迪/WiSilica",
          "2020/November/許凱智/Zebra",
          "2019/April/許凱智/華新科技",
          "2020/April/許凱智/華新科技",
          "2019/August/許凱智/華新科技",
          "2020/August/許凱智/華新科技",
          "2019/December/許凱智/華新科技",
          "2020/February/許凱智/華新科技",
          "2020/January/許凱智/華新科技",
          "2019/July/許凱智/華新科技",
          "2020/July/許凱智/華新科技",
          "2020/June/許凱智/華新科技",
          "2019/March/許凱智/華新科技",
          "2020/March/許凱智/華新科技",
          "2020/May/許凱智/華新科技",
          "2019/November/許凱智/華新科技",
          "2019/October/許凱智/華新科技",
          "2020/October/許凱智/華新科技",
          "2019/September/許凱智/華新科技",
          "2020/September/許凱智/華新科技",
          "2020/April/沈思明/Bourns",
          "2019/August/沈思明/Bourns",
          "2019/December/沈思明/Bourns",
          "2020/December/沈思明/Bourns",
          "2021/January/沈思明/Bourns",
          "2019/July/沈思明/Bourns",
          "2020/July/沈思明/Bourns",
          "2019/June/沈思明/Bourns",
          "2020/June/沈思明/Bourns",
          "2020/March/沈思明/Bourns",
          "2019/May/沈思明/Bourns",
          "2020/May/沈思明/Bourns",
          "2019/November/沈思明/Bourns",
          "2020/November/沈思明/Bourns",
          "2019/October/沈思明/Bourns",
          "2020/October/沈思明/Bourns",
          "2019/September/沈思明/Bourns",
          "2020/September/沈思明/Bourns",
          "2019/November/墨漢雷迪/Credence",
          "2019/May/墨漢雷迪/Eteily",
          "2019/November/墨漢雷迪/Eteily",
          "2020/November/墨漢雷迪/FIRST EN",
          "2020/August/墨漢雷迪/G -PLAST",
          "2021/January/墨漢雷迪/G -PLAST",
          "2020/November/墨漢雷迪/G -PLAST",
          "2020/October/墨漢雷迪/G -PLAST",
          "2019/April/墨漢雷迪/Globalte",
          "2020/November/墨漢雷迪/JBJ",
          "2020/October/墨漢雷迪/JBJ",
          "2020/August/墨漢雷迪/M.S.",
          "2019/December/墨漢雷迪/M.S.",
          "2020/June/墨漢雷迪/M.S.",
          "2020/November/墨漢雷迪/M.S.",
          "2020/September/墨漢雷迪/M.S.",
          "2020/August/墨漢雷迪/MATE",
          "2020/July/墨漢雷迪/MATE",
          "2020/November/墨漢雷迪/MATE",
          "2020/October/墨漢雷迪/MATE",
          "2019/April/許凱智/MT-SYSTEM",
          "2020/April/許凱智/MT-SYSTEM",
          "2019/August/許凱智/MT-SYSTEM",
          "2020/August/許凱智/MT-SYSTEM",
          "2019/December/許凱智/MT-SYSTEM",
          "2020/December/許凱智/MT-SYSTEM",
          "2020/February/許凱智/MT-SYSTEM",
          "2019/January/許凱智/MT-SYSTEM",
          "2020/January/許凱智/MT-SYSTEM",
          "2019/July/許凱智/MT-SYSTEM",
          "2020/July/許凱智/MT-SYSTEM",
          "2019/June/許凱智/MT-SYSTEM",
          "2020/June/許凱智/MT-SYSTEM",
          "2019/March/許凱智/MT-SYSTEM",
          "2019/May/許凱智/MT-SYSTEM",
          "2019/November/許凱智/MT-SYSTEM",
          "2020/November/許凱智/MT-SYSTEM",
          "2019/October/許凱智/MT-SYSTEM",
          "2020/October/許凱智/MT-SYSTEM",
          "2019/September/許凱智/MT-SYSTEM",
          "2020/September/許凱智/MT-SYSTEM",
          "2020/August/墨漢雷迪/Nexty",
          "2020/August/墨漢雷迪/SSF",
          "2020/November/墨漢雷迪/SSF",
          "2020/October/墨漢雷迪/SSF",
          "2020/November/墨漢雷迪/Sancraft",
          "2019/July/許凱智/TE ",
          "2020/June/許凱智/TE ",
          "2019/October/許凱智/TE ",
          "2019/September/許凱智/TE ",
          "2019/April/許凱智/TELTONIKA",
          "2020/April/許凱智/TELTONIKA",
          "2019/August/許凱智/TELTONIKA",
          "2020/August/許凱智/TELTONIKA",
          "2019/December/許凱智/TELTONIKA",
          "2020/December/許凱智/TELTONIKA",
          "2019/February/許凱智/TELTONIKA",
          "2020/February/許凱智/TELTONIKA",
          "2019/January/許凱智/TELTONIKA",
          "2020/January/許凱智/TELTONIKA",
          "2021/January/許凱智/TELTONIKA",
          "2019/July/許凱智/TELTONIKA",
          "2020/July/許凱智/TELTONIKA",
          "2019/June/許凱智/TELTONIKA",
          "2020/June/許凱智/TELTONIKA",
          "2019/March/許凱智/TELTONIKA",
          "2020/March/許凱智/TELTONIKA",
          "2019/May/許凱智/TELTONIKA",
          "2020/May/許凱智/TELTONIKA",
          "2019/November/許凱智/TELTONIKA",
          "2020/November/許凱智/TELTONIKA",
          "2019/October/許凱智/TELTONIKA",
          "2020/October/許凱智/TELTONIKA",
          "2019/September/許凱智/TELTONIKA",
          "2020/September/許凱智/TELTONIKA",
          "2020/November/墨漢雷迪/Univa Te",
          "2020/October/墨漢雷迪/Univa Te",
          "2020/January/沈思明/WE",
          "2020/May/沈思明/WE",
          "2020/February/許凱智/Zebra",
          "2020/August/許凱智/華新科技",
          "2020/July/許凱智/華新科技",
          "2020/June/許凱智/華新科技",
          "2020/October/許凱智/華新科技",
          "2020/September/許凱智/華新科技",
          "2019/April/沈思明/Bourns",
          "2020/April/沈思明/Bourns",
          "2019/August/沈思明/Bourns",
          "2020/August/沈思明/Bourns",
          "2019/December/沈思明/Bourns",
          "2020/December/沈思明/Bourns",
          "2019/February/沈思明/Bourns",
          "2020/February/沈思明/Bourns",
          "2021/February/沈思明/Bourns",
          "2019/January/沈思明/Bourns",
          "2020/January/沈思明/Bourns",
          "2021/January/沈思明/Bourns",
          "2019/July/沈思明/Bourns",
          "2020/July/沈思明/Bourns",
          "2019/June/沈思明/Bourns",
          "2020/June/沈思明/Bourns",
          "2019/March/沈思明/Bourns",
          "2020/March/沈思明/Bourns",
          "2019/May/沈思明/Bourns",
          "2020/May/沈思明/Bourns",
          "2019/November/沈思明/Bourns",
          "2020/November/沈思明/Bourns",
          "2019/October/沈思明/Bourns",
          "2020/October/沈思明/Bourns",
          "2019/September/沈思明/Bourns",
          "2020/September/沈思明/Bourns",
          "2019/April/沈思明/Eaton",
          "2020/April/沈思明/Eaton",
          "2019/August/沈思明/Eaton",
          "2020/August/沈思明/Eaton",
          "2019/December/沈思明/Eaton",
          "2020/December/沈思明/Eaton",
          "2019/February/沈思明/Eaton",
          "2020/February/沈思明/Eaton",
          "2019/January/沈思明/Eaton",
          "2020/January/沈思明/Eaton",
          "2021/January/沈思明/Eaton",
          "2019/July/沈思明/Eaton",
          "2019/June/沈思明/Eaton",
          "2020/June/沈思明/Eaton",
          "2019/March/沈思明/Eaton",
          "2020/March/沈思明/Eaton",
          "2019/May/沈思明/Eaton",
          "2020/May/沈思明/Eaton",
          "2019/November/沈思明/Eaton",
          "2020/November/沈思明/Eaton",
          "2019/October/沈思明/Eaton",
          "2020/October/沈思明/Eaton",
          "2019/September/沈思明/Eaton",
          "2020/September/沈思明/Eaton",
          "2019/April/沈思明/Laird",
          "2020/April/沈思明/Laird",
          "2020/August/沈思明/Laird",
          "2019/December/沈思明/Laird",
          "2020/December/沈思明/Laird",
          "2019/February/沈思明/Laird",
          "2020/February/沈思明/Laird",
          "2019/January/沈思明/Laird",
          "2020/January/沈思明/Laird",
          "2021/January/沈思明/Laird",
          "2020/July/沈思明/Laird",
          "2019/June/沈思明/Laird",
          "2020/June/沈思明/Laird",
          "2020/March/沈思明/Laird",
          "2020/May/沈思明/Laird",
          "2019/November/沈思明/Laird",
          "2020/November/沈思明/Laird",
          "2019/October/沈思明/Laird",
          "2020/October/沈思明/Laird",
          "2020/September/沈思明/Laird",
          "2019/April/許凱智/MT-SYSTEM",
          "2020/April/許凱智/MT-SYSTEM",
          "2019/August/許凱智/MT-SYSTEM",
          "2020/August/許凱智/MT-SYSTEM",
          "2019/December/許凱智/MT-SYSTEM",
          "2020/December/許凱智/MT-SYSTEM",
          "2020/February/許凱智/MT-SYSTEM",
          "2019/January/許凱智/MT-SYSTEM",
          "2019/July/許凱智/MT-SYSTEM",
          "2019/June/許凱智/MT-SYSTEM",
          "2020/June/許凱智/MT-SYSTEM",
          "2019/March/許凱智/MT-SYSTEM",
          "2020/March/許凱智/MT-SYSTEM",
          "2019/May/許凱智/MT-SYSTEM",
          "2019/October/許凱智/MT-SYSTEM",
          "2019/December/許凱智/TELTONIKA",
          "2020/December/許凱智/TELTONIKA",
          "2020/January/許凱智/TELTONIKA",
          "2021/January/許凱智/TELTONIKA",
          "2020/November/許凱智/TELTONIKA",
          "2019/October/許凱智/TELTONIKA",
          "2020/October/許凱智/TELTONIKA",
          "2019/September/許凱智/TELTONIKA",
          "2019/April/許凱智/信昌",
          "2020/April/許凱智/信昌",
          "2021/April/許凱智/信昌",
          "2022/April/許凱智/信昌",
          "2019/August/許凱智/信昌",
          "2020/August/許凱智/信昌",
          "2021/August/許凱智/信昌",
          "2019/December/許凱智/信昌",
          "2020/December/許凱智/信昌",
          "2021/December/許凱智/信昌",
          "2019/February/許凱智/信昌",
          "2020/February/許凱智/信昌",
          "2021/February/許凱智/信昌",
          "2022/February/許凱智/信昌",
          "2019/January/許凱智/信昌",
          "2020/January/許凱智/信昌",
          "2021/January/許凱智/信昌",
          "2022/January/許凱智/信昌",
          "2019/July/許凱智/信昌",
          "2020/July/許凱智/信昌",
          "2021/July/許凱智/信昌",
          "2019/June/許凱智/信昌",
          "2020/June/許凱智/信昌",
          "2019/March/許凱智/信昌",
          "2020/March/許凱智/信昌",
          "2021/March/許凱智/信昌",
          "2022/March/許凱智/信昌",
          "2019/May/許凱智/信昌",
          "2020/May/許凱智/信昌",
          "2021/May/許凱智/信昌",
          "2022/May/許凱智/信昌",
          "2019/November/許凱智/信昌",
          "2020/November/許凱智/信昌",
          "2021/November/許凱智/信昌",
          "2019/October/許凱智/信昌",
          "2020/October/許凱智/信昌",
          "2019/September/許凱智/信昌",
          "2020/September/許凱智/信昌",
          "2021/September/許凱智/信昌",
          "2020/April/許凱智/華新科技",
          "2020/August/許凱智/華新科技",
          "2020/February/許凱智/華新科技",
          "2020/June/許凱智/華新科技",
          "2020/May/許凱智/華新科技",
          "2020/September/許凱智/華新科技",
          "2020/April/許凱智/藝感",
          "2021/April/許凱智/藝感",
          "2020/August/許凱智/藝感",
          "2019/December/許凱智/藝感",
          "2020/December/許凱智/藝感",
          "2020/February/許凱智/藝感",
          "2021/February/許凱智/藝感",
          "2020/January/許凱智/藝感",
          "2021/January/許凱智/藝感",
          "2019/July/許凱智/藝感",
          "2020/July/許凱智/藝感",
          "2020/June/許凱智/藝感",
          "2020/March/許凱智/藝感",
          "2021/March/許凱智/藝感",
          "2020/May/許凱智/藝感",
          "2021/May/許凱智/藝感",
          "2019/November/許凱智/藝感",
          "2020/November/許凱智/藝感",
          "2019/October/許凱智/藝感",
          "2020/October/許凱智/藝感",
          "2020/September/許凱智/藝感",
          "2019/April/沈思明",
          "2020/April/沈思明",
          "2019/August/沈思明",
          "2020/August/沈思明",
          "2019/December/沈思明",
          "2020/December/沈思明",
          "2019/February/沈思明",
          "2020/February/沈思明",
          "2021/February/沈思明",
          "2019/January/沈思明",
          "2020/January/沈思明",
          "2021/January/沈思明",
          "2019/July/沈思明",
          "2020/July/沈思明",
          "2019/June/沈思明",
          "2020/June/沈思明",
          "2019/March/沈思明",
          "2020/March/沈思明",
          "2021/March/沈思明",
          "2019/May/沈思明",
          "2020/May/沈思明",
          "2019/November/沈思明",
          "2020/November/沈思明",
          "2019/October/沈思明",
          "2020/October/沈思明",
          "2019/September/沈思明",
          "2020/September/沈思明",
          "2019/November/墨漢雷迪",
          "2019/April/沈思明",
          "2020/April/沈思明",
          "2019/August/沈思明",
          "2020/August/沈思明",
          "2019/December/沈思明",
          "2020/December/沈思明",
          "2019/February/沈思明",
          "2020/February/沈思明",
          "2019/January/沈思明",
          "2020/January/沈思明",
          "2021/January/沈思明",
          "2019/July/沈思明",
          "2020/July/沈思明",
          "2019/June/沈思明",
          "2020/June/沈思明",
          "2019/March/沈思明",
          "2020/March/沈思明",
          "2019/May/沈思明",
          "2020/May/沈思明",
          "2019/November/沈思明",
          "2020/November/沈思明",
          "2019/October/沈思明",
          "2020/October/沈思明",
          "2019/September/沈思明",
          "2020/September/沈思明",
          "2019/May/墨漢雷迪",
          "2019/November/墨漢雷迪",
          "2020/November/墨漢雷迪",
          "2020/March/墨漢雷迪",
          "2020/August/墨漢雷迪",
          "2021/January/墨漢雷迪",
          "2020/November/墨漢雷迪",
          "2020/October/墨漢雷迪",
          "2019/April/墨漢雷迪",
          "2020/November/墨漢雷迪",
          "2020/October/墨漢雷迪",
          "2019/April/沈思明",
          "2020/April/沈思明",
          "2019/August/沈思明",
          "2020/August/沈思明",
          "2019/December/沈思明",
          "2020/December/沈思明",
          "2019/February/沈思明",
          "2020/February/沈思明",
          "2019/January/沈思明",
          "2020/January/沈思明",
          "2019/July/沈思明",
          "2020/July/沈思明",
          "2019/June/沈思明",
          "2020/June/沈思明",
          "2019/March/沈思明",
          "2020/March/沈思明",
          "2019/May/沈思明",
          "2020/May/沈思明",
          "2019/November/沈思明",
          "2020/November/沈思明",
          "2019/October/沈思明",
          "2020/October/沈思明",
          "2019/September/沈思明",
          "2020/September/沈思明",
          "2019/April/沈思明",
          "2020/April/沈思明",
          "2019/August/沈思明",
          "2020/August/沈思明",
          "2019/December/沈思明",
          "2020/December/沈思明",
          "2019/February/沈思明",
          "2020/February/沈思明",
          "2019/January/沈思明",
          "2020/January/沈思明",
          "2019/July/沈思明",
          "2020/July/沈思明",
          "2019/June/沈思明",
          "2020/June/沈思明",
          "2019/March/沈思明",
          "2020/March/沈思明",
          "2019/May/沈思明",
          "2020/May/沈思明",
          "2019/November/沈思明",
          "2020/November/沈思明",
          "2019/October/沈思明",
          "2020/October/沈思明",
          "2019/September/沈思明",
          "2020/September/沈思明",
          "2019/April/沈思明",
          "2020/April/沈思明",
          "2019/August/沈思明",
          "2020/August/沈思明",
          "2019/December/沈思明",
          "2020/December/沈思明",
          "2019/February/沈思明",
          "2020/February/沈思明",
          "2021/February/沈思明",
          "2019/January/沈思明",
          "2020/January/沈思明",
          "2021/January/沈思明",
          "2019/July/沈思明",
          "2020/July/沈思明",
          "2019/June/沈思明",
          "2020/June/沈思明",
          "2019/March/沈思明",
          "2020/March/沈思明",
          "2019/May/沈思明",
          "2020/May/沈思明",
          "2019/November/沈思明",
          "2020/November/沈思明",
          "2019/October/沈思明",
          "2020/October/沈思明",
          "2019/September/沈思明",
          "2020/September/沈思明",
          "2020/August/墨漢雷迪",
          "2019/December/墨漢雷迪",
          "2020/June/墨漢雷迪",
          "2020/November/墨漢雷迪",
          "2020/September/墨漢雷迪",
          "2020/August/墨漢雷迪",
          "2020/July/墨漢雷迪",
          "2020/November/墨漢雷迪",
          "2020/October/墨漢雷迪",
          "2019/April/許凱智",
          "2020/April/許凱智",
          "2019/August/許凱智",
          "2020/August/許凱智",
          "2019/December/許凱智",
          "2020/December/許凱智",
          "2020/February/許凱智",
          "2019/January/許凱智",
          "2020/January/許凱智",
          "2021/January/許凱智",
          "2019/July/許凱智",
          "2020/July/許凱智",
          "2019/June/許凱智",
          "2020/June/許凱智",
          "2019/March/許凱智",
          "2020/March/許凱智",
          "2019/May/許凱智",
          "2019/November/許凱智",
          "2020/November/許凱智",
          "2019/October/許凱智",
          "2020/October/許凱智",
          "2019/September/許凱智",
          "2020/September/許凱智",
          "2020/August/墨漢雷迪",
          "2020/August/墨漢雷迪",
          "2020/November/墨漢雷迪",
          "2020/October/墨漢雷迪",
          "2020/November/墨漢雷迪",
          "2019/July/許凱智",
          "2020/June/許凱智",
          "2019/October/許凱智",
          "2019/September/許凱智",
          "2019/April/許凱智",
          "2020/April/許凱智",
          "2019/August/許凱智",
          "2020/August/許凱智",
          "2019/December/許凱智",
          "2020/December/許凱智",
          "2019/February/許凱智",
          "2020/February/許凱智",
          "2021/February/許凱智",
          "2019/January/許凱智",
          "2020/January/許凱智",
          "2021/January/許凱智",
          "2019/July/許凱智",
          "2020/July/許凱智",
          "2019/June/許凱智",
          "2020/June/許凱智",
          "2019/March/許凱智",
          "2020/March/許凱智",
          "2019/May/許凱智",
          "2020/May/許凱智",
          "2019/November/許凱智",
          "2020/November/許凱智",
          "2019/October/許凱智",
          "2020/October/許凱智",
          "2019/September/許凱智",
          "2020/September/許凱智",
          "2020/November/墨漢雷迪",
          "2020/October/墨漢雷迪",
          "2019/April/沈思明",
          "2020/April/沈思明",
          "2021/April/沈思明",
          "2019/August/沈思明",
          "2020/August/沈思明",
          "2021/August/沈思明",
          "2019/December/沈思明",
          "2020/December/沈思明",
          "2019/February/沈思明",
          "2020/February/沈思明",
          "2021/February/沈思明",
          "2019/January/沈思明",
          "2020/January/沈思明",
          "2021/January/沈思明",
          "2019/July/沈思明",
          "2020/July/沈思明",
          "2019/June/沈思明",
          "2020/June/沈思明",
          "2021/June/沈思明",
          "2019/March/沈思明",
          "2020/March/沈思明",
          "2021/March/沈思明",
          "2019/May/沈思明",
          "2020/May/沈思明",
          "2019/November/沈思明",
          "2020/November/沈思明",
          "2019/October/沈思明",
          "2020/October/沈思明",
          "2019/September/沈思明",
          "2020/September/沈思明",
          "2019/October/墨漢雷迪",
          "2020/February/許凱智",
          "2020/November/許凱智",
          "2019/April/許凱智",
          "2020/April/許凱智",
          "2021/April/許凱智",
          "2022/April/許凱智",
          "2019/August/許凱智",
          "2020/August/許凱智",
          "2021/August/許凱智",
          "2019/December/許凱智",
          "2020/December/許凱智",
          "2021/December/許凱智",
          "2019/February/許凱智",
          "2020/February/許凱智",
          "2021/February/許凱智",
          "2022/February/許凱智",
          "2019/January/許凱智",
          "2020/January/許凱智",
          "2021/January/許凱智",
          "2022/January/許凱智",
          "2019/July/許凱智",
          "2020/July/許凱智",
          "2021/July/許凱智",
          "2019/June/許凱智",
          "2020/June/許凱智",
          "2019/March/許凱智",
          "2020/March/許凱智",
          "2021/March/許凱智",
          "2022/March/許凱智",
          "2019/May/許凱智",
          "2020/May/許凱智",
          "2021/May/許凱智",
          "2022/May/許凱智",
          "2019/November/許凱智",
          "2020/November/許凱智",
          "2021/November/許凱智",
          "2019/October/許凱智",
          "2020/October/許凱智",
          "2019/September/許凱智",
          "2020/September/許凱智",
          "2021/September/許凱智",
          "2019/April/許凱智",
          "2019/August/許凱智",
          "2019/December/許凱智",
          "2020/February/許凱智",
          "2019/July/許凱智",
          "2019/June/許凱智",
          "2019/May/許凱智",
          "2020/May/許凱智",
          "2019/October/許凱智",
          "2019/September/許凱智",
          "2019/April/許凱智",
          "2020/April/許凱智",
          "2019/August/許凱智",
          "2020/August/許凱智",
          "2019/December/許凱智",
          "2020/December/許凱智",
          "2019/February/許凱智",
          "2020/February/許凱智",
          "2021/February/許凱智",
          "2019/January/許凱智",
          "2020/January/許凱智",
          "2021/January/許凱智",
          "2019/July/許凱智",
          "2020/July/許凱智",
          "2019/June/許凱智",
          "2020/June/許凱智",
          "2019/March/許凱智",
          "2020/March/許凱智",
          "2019/May/許凱智",
          "2020/May/許凱智",
          "2019/November/許凱智",
          "2020/November/許凱智",
          "2019/October/許凱智",
          "2020/October/許凱智",
          "2019/September/許凱智",
          "2020/September/許凱智",
          "2020/April/許凱智",
          "2021/April/許凱智",
          "2020/August/許凱智",
          "2019/December/許凱智",
          "2020/December/許凱智",
          "2020/February/許凱智",
          "2021/February/許凱智",
          "2020/January/許凱智",
          "2021/January/許凱智",
          "2019/July/許凱智",
          "2020/July/許凱智",
          "2020/June/許凱智",
          "2020/March/許凱智",
          "2021/March/許凱智",
          "2020/May/許凱智",
          "2021/May/許凱智",
          "2019/November/許凱智",
          "2020/November/許凱智",
          "2019/October/許凱智",
          "2020/October/許凱智",
          "2020/September/許凱智",
          "2019/April",
          "2020/August",
          "2019/December",
          "2021/January",
          "2020/July",
          "2020/June",
          "2020/March",
          "2019/May",
          "2019/November",
          "2020/November",
          "2019/October",
          "2020/October",
          "2020/September",
          "2019/April",
          "2020/April",
          "2021/April",
          "2019/August",
          "2020/August",
          "2021/August",
          "2019/December",
          "2020/December",
          "2019/February",
          "2020/February",
          "2021/February",
          "2019/January",
          "2020/January",
          "2021/January",
          "2019/July",
          "2020/July",
          "2019/June",
          "2020/June",
          "2021/June",
          "2019/March",
          "2020/March",
          "2021/March",
          "2019/May",
          "2020/May",
          "2019/November",
          "2020/November",
          "2019/October",
          "2020/October",
          "2019/September",
          "2020/September",
          "2019/April",
          "2020/April",
          "2021/April",
          "2022/April",
          "2019/August",
          "2020/August",
          "2021/August",
          "2019/December",
          "2020/December",
          "2021/December",
          "2019/February",
          "2020/February",
          "2021/February",
          "2022/February",
          "2019/January",
          "2020/January",
          "2021/January",
          "2022/January",
          "2019/July",
          "2020/July",
          "2021/July",
          "2019/June",
          "2020/June",
          "2019/March",
          "2020/March",
          "2021/March",
          "2022/March",
          "2019/May",
          "2020/May",
          "2021/May",
          "2022/May",
          "2019/November",
          "2020/November",
          "2021/November",
          "2019/October",
          "2020/October",
          "2019/September",
          "2020/September",
          "2021/September",
          "2019",
          "2020",
          "2021",
          "2022",
          "2019",
          "2020",
          "2021",
          "2019",
          "2020",
          "2021",
          "2019",
          "2020",
          "2021",
          "2022",
          "2019",
          "2020",
          "2021",
          "2022",
          "2019",
          "2020",
          "2021",
          "2019",
          "2020",
          "2021",
          "2019",
          "2020",
          "2021",
          "2022",
          "2019",
          "2020",
          "2021",
          "2022",
          "2019",
          "2020",
          "2021",
          "2019",
          "2020",
          "2019",
          "2020",
          "2021",
          "",
          "",
          "",
          ""
         ],
         "type": "treemap",
         "values": [
          34534.8,
          58426.530000000006,
          208484.8,
          447656.92999999993,
          36321.530000000006,
          490811.1099999999,
          213471.91999999998,
          287111.33999999997,
          574557.0900000001,
          177301.69,
          421719.02999999997,
          751082.4299999999,
          94048.11,
          16902.449999999997,
          628474.7500000001,
          307415.27,
          683910.91,
          108174.16,
          207014.93,
          395793.10000000003,
          435605.76999999996,
          228522.16,
          407386.44999999995,
          234822.03999999995,
          503528.17,
          973275.4,
          1307542.1500000001,
          169650.65,
          1831345.0099999998,
          52940.25,
          546134.76,
          312689.97,
          332239.17000000004,
          126934.5,
          65044.55,
          729025.2,
          365815.61000000004,
          211194.57,
          1524579.24,
          552167.1900000001,
          1326955.19,
          488374.6,
          1237069.82,
          1102352.99,
          1308575.27,
          249659.71000000002,
          1390191.8,
          101853.93000000001,
          1902816.6,
          34295.12,
          2097766.08,
          21022.65,
          7249.13,
          14766.14,
          7797.4,
          32648.2,
          41805.23,
          32018.030000000002,
          8451.529999999999,
          185059.88,
          8144.5,
          8471.130000000001,
          2590.98,
          32952.59,
          32215.260000000002,
          16394.7,
          8141.9,
          15519.970000000001,
          31862.329999999998,
          132639.93,
          342547.36999999994,
          158535.27999999997,
          441438.23,
          269860.82000000007,
          399575.2700000001,
          481678.63999999996,
          18018,
          563454.3400000001,
          267179.53,
          516100.6,
          106006.53,
          120327.3,
          55046.24,
          7884.799999999999,
          194416.42000000004,
          105933.08999999998,
          360468.08999999997,
          607054.5200000001,
          200156.15000000002,
          137418.05000000002,
          144541.39000000004,
          375662.68999999994,
          298120.16000000003,
          4048,
          1231.47,
          32778,
          24962,
          9108,
          22640,
          18806,
          79440,
          3498.06,
          21762,
          3236.2999999999997,
          1884,
          292.89,
          22274,
          18510.13,
          960,
          877.5,
          8472,
          5155.330000000001,
          217211,
          2071.91,
          197782,
          292984.8,
          233894.67299999998,
          34909.722,
          3302.271,
          78117.88500000001,
          7076.295,
          292107.6,
          3302.271,
          22172.391,
          8019.800999999999,
          118191.96000000002,
          217592.3,
          65298.540000000015,
          537050.127,
          152332.34,
          2049427.2,
          7282.509999999998,
          437594.5400000001,
          438032.4,
          89782.04,
          298276.93,
          690763.593,
          98882.36999999998,
          264182,
          120417.30000000006,
          328026,
          64558.75999999998,
          221542.7,
          103749.46999999999,
          380229.1,
          116427.86000000002,
          1270009.0389999999,
          160749.01,
          1139093.256,
          103924.68000000001,
          541427.835,
          2283310.105,
          1176499.35,
          7175998.455,
          6143593.738999999,
          895352.665,
          2239440,
          1267601.644,
          319090.10000000003,
          1664223.4100000008,
          1056795.7349999999,
          5518784.389,
          4350119.295,
          5850014.55,
          1812967.935,
          2175349.36,
          584700.154,
          2318310.815,
          1321462.025,
          1836898.7249999999,
          8080871.75,
          3861906.11,
          8573642.934999999,
          5898345.603999999,
          7227998.785,
          1665047.7,
          2104692.5599999996,
          996459.23,
          1158685.45,
          1358453.53,
          2090075.8900000001,
          976195.6399999999,
          2436249.09,
          25987.5,
          2476194.1600000006,
          1191344.8699999999,
          1834213.31,
          937686.9700000003,
          630094.23,
          1545983.5899999999,
          1396134.3699999999,
          2428852.1499999994,
          1027040.3600000001,
          112612.5,
          1063563.21,
          954488.19,
          2261329.6,
          2571079.0300000003,
          1590457.6900000002,
          2076438.45,
          1397418.07,
          1141988.86,
          2222565.3600000003,
          7028419.32,
          4561394.63,
          6120875.069999999,
          1802528.04,
          3906273.0800000005,
          2396983.34,
          1394423.8599999999,
          3908784.6,
          2764102.7800000003,
          2579608.77,
          2513850.89,
          8792487.25,
          2529882.75,
          2370759.45,
          2781224.29,
          3985790.829999999,
          1963181.4099999997,
          6580141.100000001,
          1981731.04,
          6289772.970000001,
          3485489.15,
          4331700.41,
          1464774,
          5656017.49,
          7471.62511,
          4569893.949999999,
          4894310.26,
          17355686.339999996,
          11927715.4,
          4964217.85,
          12890166.67,
          4933623.47,
          4812891.9399999995,
          5626159.66,
          9509068.940000001,
          15277822.21,
          9228853.07,
          9687261.070000002,
          10760650.120000001,
          8735271.390000002,
          7772125.14,
          4880129.9,
          6861047.529999999,
          8203155.859999999,
          3845614.09,
          7812319.049999999,
          19496790.670000006,
          16891946.970000003,
          15369530.720000004,
          18232,
          565308.1,
          30508.5,
          6195,
          29205,
          4847.35231,
          25708.05,
          24978.3,
          5174.97,
          22726.8,
          92685.68,
          26938.06,
          18630,
          31583.96,
          31884.460000000003,
          95527.79,
          114308.40000000001,
          114613.52,
          7072.8,
          8061.320000000001,
          3536.4,
          38340.2532,
          2344414.6899999985,
          2688759.4200000004,
          94704.69,
          3001356.5699999994,
          1960603.3800000004,
          52683.75,
          941022.7699999999,
          1615023.0100000002,
          2807239.330000001,
          2644108.51,
          79451.07,
          3572035.6,
          3187692.7499999995,
          1364752.02,
          1473980.9,
          2052573.4100000001,
          2956311.089999999,
          3458028.9300000006,
          52683.75,
          1761559.88,
          4092963.4,
          86000.59,
          2986324.78,
          2077288.18,
          2561604.2199999993,
          1727289.75,
          3250975.9000000013,
          1083929.86,
          1410290.2599999998,
          3609555.59,
          9267,
          8655.72154,
          4044.32,
          63360,
          258963.69,
          437760,
          167710.62,
          18768,
          188335.69,
          8150.28,
          326712,
          67200,
          517532.67000000004,
          157200,
          98052,
          125808.00000000001,
          25135.37,
          528624,
          105915.19000000002,
          386976,
          581236.7,
          788953,
          769434.6,
          252494.55,
          460171.25,
          967960.4,
          1115403.3,
          338575.6,
          580914.4,
          133848,
          40616.4,
          91999.6,
          384630.4,
          586865.4,
          919158.9,
          155667.59999999998,
          1126158,
          546143.4,
          100767.60259,
          15097.95353,
          38212.53159,
          1099566,
          176820,
          1369021.9,
          1589239.9,
          73406,
          7698.60028,
          2831084,
          147828,
          10243.9477,
          40415.13995,
          30373.34197,
          21403.2,
          82472.62067,
          1592400.0000000002,
          743400,
          1356131.4,
          109956.6,
          514572.49380999996,
          544416.84879,
          468958.54456999997,
          480168.8765,
          350706.56831999996,
          149552.62704,
          281980.86273000005,
          143010.54593,
          70796.36206,
          686308.0696,
          314962.18788,
          637625.27992,
          21057.31863,
          848659.0238,
          928925.1299099998,
          546026.91329,
          233063.33733,
          325834.49523,
          493714.43036999996,
          831444.2538300001,
          636250.3979799999,
          7451.0962,
          531180,
          2088337.1999999997,
          110032.79999999999,
          110204.25,
          96489.95508,
          1044517.04,
          50306.4,
          930685.38898,
          1792327.2438499997,
          1499203.834,
          961131.1401199999,
          2262994.95071,
          1011282.1904,
          9789544.875,
          42085.545880000005,
          628245.04602,
          1467587.95943,
          2618104.42294,
          522258,
          1333485.80604,
          2259834.8783600004,
          1150088.3306099998,
          331604.96992999996,
          810231.67284,
          544224.9963600001,
          1084383.51037,
          1055230.7571100001,
          1187134.1574300001,
          5756531.07,
          63998.038980000005,
          3327167.7899600007,
          1905088.7052499996,
          6776565.391,
          37030.4,
          9546.4,
          33366.52,
          428672.00000000006,
          6002.0979,
          19200,
          48000,
          9600,
          28800,
          48000,
          853452.7500000001,
          1415931.36,
          2567523.330000001,
          1461165.87,
          3242502.4799999995,
          2515394.88,
          1585547.1900000002,
          1289615.46,
          307153.35,
          1679397.9900000005,
          1915286.1600000001,
          2035282.8,
          1264386.5999999996,
          2500744.2600000002,
          993599.5799999998,
          3297135.120000001,
          512572.83,
          1306473.9300000002,
          1059793.83,
          2858178.8400000003,
          1657355.55,
          1388930.4000000001,
          1801849.5599999998,
          2251151.34,
          1085227.65,
          1105006.77,
          1544026.9200000002,
          664936.5,
          2158092.1599999997,
          547975.91,
          799596.42,
          674199.24,
          868653.94,
          543393.84,
          3497330.69,
          1900920.48,
          87022.96,
          1372425.05,
          1646249.5199999998,
          316726.36,
          1850321.5999999999,
          1761705.37,
          1883421.11,
          540001.33,
          1990645.12,
          353297.70999999996,
          1707330.22,
          579225.2400000001,
          2241478.69,
          855769.6299999999,
          4153.95,
          483951.98,
          296081.1,
          353632.56000000006,
          72523.5,
          224753.28,
          10757.4,
          356622.2299999999,
          131974.38,
          441802.61,
          346898.15,
          421959.6,
          226040.52000000002,
          443579.87999999995,
          931486.49,
          367251.21,
          172224,
          9397.5,
          879125.8200000001,
          826512.1500000001,
          33231.6,
          8144.82,
          5051.43,
          24125.85,
          41337,
          3152.52,
          13183.02,
          81892.31999999999,
          21720.15,
          11646.18,
          6469.2,
          29903.58,
          18062.46,
          41587.020000000004,
          29298.079999999994,
          9267,
          17667,
          11583.75,
          25987.51,
          8832,
          4683,
          17707.5,
          4734.75,
          1654317.4000000006,
          514608,
          869130,
          1132416,
          719924.73,
          1264785,
          786870,
          1083402,
          870000,
          871740,
          301936.39,
          675525,
          1160580,
          1014420,
          643890.32,
          617094,
          1159710,
          1162320,
          2735556.3800000004,
          1795980,
          1160580,
          1709765.4999999998,
          1611954,
          1085328.0599999998,
          1212480,
          1160580,
          918165,
          1729167.4600000002,
          589404,
          440772,
          745077,
          2850514.35,
          2102352,
          710727,
          2604753.5599999996,
          3972169,
          1454619.29,
          4991766,
          289710,
          14292,
          42600,
          2244,
          1053,
          39303,
          16845,
          655333.674,
          977203.5519999999,
          602564.8479999999,
          334203.65400000004,
          918571.3319999999,
          408471.104,
          977203.595,
          163192.998,
          977203.5519999999,
          5866.146,
          1110862.6019999997,
          702609.336,
          163192.998,
          977203.5520000001,
          284366.224,
          472409.39499999996,
          284366.353,
          977203.552,
          134854.10599999997,
          1127171.298,
          620524.271,
          2553035.25,
          4160287.1499999994,
          4561420.360000001,
          3067508.25,
          5406712.14,
          5348776.43,
          2775214.75,
          4012975.8899999997,
          333140.85,
          4730149.240000001,
          3283932.7199999997,
          4751386.39,
          3921116.4,
          4340289.9,
          2895061.2199999997,
          5902658.640000001,
          3248840.2499999995,
          3151273.2,
          112612.5,
          2272147.5999999996,
          4111681.5600000005,
          4699108.65,
          4982480.600000001,
          4539988.31,
          4890643.84,
          3843625.7600000002,
          3296667.2,
          100767.60259,
          3766592.2800000003,
          7693355.82,
          6719486.789999999,
          6668850.9799999995,
          2602124.46,
          4580472.32,
          3265637.28,
          1937817.6999999997,
          7406115.29,
          4665023.26,
          2666631.73,
          3886275.9400000004,
          8792487.25,
          4176132.2699999996,
          2687485.81,
          4631545.89,
          5747496.199999999,
          3846602.5199999996,
          7120142.430000001,
          3972376.16,
          6643070.680000001,
          5192819.37,
          4910925.65,
          3706252.69,
          6511787.12,
          15097.95353,
          38212.53159,
          1099566,
          7471.62511,
          176820,
          1369021.9,
          1589239.9,
          73406,
          7698.60028,
          2831084,
          147828,
          4569893.949999999,
          4894310.26,
          17355686.339999996,
          11927715.4,
          4964217.85,
          12890166.67,
          4933623.47,
          4812891.9399999995,
          5626159.66,
          9509068.940000001,
          15277822.21,
          9228853.07,
          9687261.070000002,
          10760650.120000001,
          8735271.390000002,
          7772125.14,
          4880129.9,
          6861047.529999999,
          8203155.859999999,
          3845614.09,
          7812319.049999999,
          19496790.670000006,
          16891946.970000003,
          15369530.720000004,
          2283310.105,
          1176499.35,
          7175998.455,
          6143593.738999999,
          895352.665,
          2239440,
          1267601.644,
          319090.10000000003,
          1664223.4100000008,
          1056795.7349999999,
          5518784.389,
          4368351.295,
          5850014.55,
          1812967.935,
          2175349.36,
          584700.154,
          2318310.815,
          1321462.025,
          1836898.7249999999,
          8080871.75,
          3861906.11,
          9138951.034999998,
          5928854.103999999,
          7227998.785,
          977429.35,
          1791494.1300000001,
          169650.65,
          2133621.11,
          406572.81000000006,
          618658.26,
          537443.25,
          342996.57000000007,
          126934.5,
          421666.7799999999,
          860999.58,
          807618.22,
          211194.57,
          1900682.3900000001,
          974126.79,
          1552995.71,
          488374.6,
          1680649.7,
          1102352.99,
          2240061.76,
          616910.92,
          1562415.8,
          111251.43000000001,
          2781942.42,
          34295.12,
          2924278.2300000004,
          15091.30001,
          40415.13995,
          30373.34197,
          21403.2,
          82472.62067,
          1592400.0000000002,
          743400,
          1356131.4,
          109956.6,
          594534.79381,
          584789.09879,
          493951.08456999995,
          512092.1265,
          447418.56831999996,
          287196.05704,
          354119.9727300001,
          233354.39593,
          70796.36206,
          185059.88,
          734802.7196000001,
          323433.31788,
          683446.3999200001,
          92363.56863000001,
          974090.3938,
          164586.12,
          1085125.6699099997,
          546026.91329,
          256530.83733,
          371335.79523,
          512770.80036999995,
          831444.2538300001,
          706452.9811799999,
          7451.0962,
          531180,
          2088337.1999999997,
          110032.79999999999,
          110204.25,
          96489.95508,
          1044517.04,
          50306.4,
          930685.38898,
          1924967.1738499997,
          1841751.204,
          1119666.42012,
          2704433.18071,
          1290410.0104,
          10206787.145,
          42085.545880000005,
          1109923.68602,
          18018,
          1467587.95943,
          3193142.51294,
          815425.04,
          1849586.4060399998,
          2365841.4083600002,
          1270415.6306099999,
          386651.20992999995,
          818116.4728400001,
          738641.4163600001,
          1190316.6003700001,
          1415698.84711,
          1794188.6774300002,
          5965519.220000001,
          206099.08898000003,
          3489416.679960001,
          2285486.1452499996,
          7074685.551,
          37030.4,
          9546.4,
          2344414.6899999985,
          2688759.4200000004,
          94704.69,
          3001356.5699999994,
          1960603.3800000004,
          52683.75,
          941022.7699999999,
          1615023.0100000002,
          2807239.330000001,
          2644108.51,
          79451.07,
          3572035.6,
          3221059.2699999996,
          1364752.02,
          1473980.9,
          2052573.4100000001,
          2956311.089999999,
          3458028.9300000006,
          52683.75,
          1761559.88,
          4092963.4,
          86000.59,
          2986324.78,
          2505960.18,
          2561604.2199999993,
          1727289.75,
          3250975.9000000013,
          1083929.86,
          1410290.2599999998,
          3609555.59,
          9267,
          6002.0979,
          8655.72154,
          1654317.4000000006,
          518656,
          869130,
          1132416,
          721156.2,
          1297563,
          786870,
          1108364,
          879108,
          871740,
          301936.39,
          698165,
          1160580,
          1014420,
          643890.32,
          635900,
          1239150,
          1162320,
          2739054.4400000004,
          1817742,
          1160580,
          1713001.7999999998,
          1613838,
          1085620.9499999997,
          1234754,
          1160580,
          918165,
          1747677.59,
          590364,
          440772,
          745077,
          2851391.85,
          2110824,
          710727,
          2609908.8899999997,
          4189380,
          1456691.2,
          5189548,
          289710,
          292984.8,
          233894.67299999998,
          34909.722,
          3302.271,
          78117.88500000001,
          7076.295,
          292107.6,
          3302.271,
          22172.391,
          8019.800999999999,
          122236.28000000003,
          295244.3,
          324262.23000000004,
          1036610.127,
          320042.95999999996,
          2049427.2,
          7282.509999999998,
          458606.5400000001,
          438032.4,
          89782.04,
          486612.62,
          690763.593,
          107032.64999999998,
          638894,
          120417.30000000006,
          405879,
          582091.43,
          378742.7,
          103749.46999999999,
          517584.1,
          242235.86000000004,
          1270009.0389999999,
          185884.38,
          1696517.256,
          209839.87000000002,
          993248.835,
          655333.674,
          977203.5519999999,
          602564.8479999999,
          334203.65400000004,
          918571.3319999999,
          408471.104,
          977203.595,
          163192.998,
          977203.5519999999,
          5866.146,
          1110862.6019999997,
          702609.336,
          163192.998,
          977203.5520000001,
          284366.224,
          472409.39499999996,
          284366.353,
          977203.552,
          134854.10599999997,
          1127171.298,
          620524.271,
          7698.60028,
          2322942.39621,
          40415.13995,
          1369021.9,
          743400,
          30373.34197,
          7471.62511,
          15097.95353,
          138980.13418,
          9132996.35,
          9267,
          450769.8,
          82472.62067,
          16494675.625,
          22404706.13,
          94704.69,
          38983599.165,
          31901892.859,
          52683.75,
          15216002.694999998,
          27292536.690000005,
          15586759.724,
          14069880.709999999,
          539526.4199999999,
          23420349.980000004,
          22596879.505,
          9590388.360000001,
          30289174.409,
          30683237.314999998,
          26538906.990000006,
          26174787.145,
          52683.75,
          21040941.37,
          23029207.793999996,
          198613.09,
          17405868.605,
          24160355.484999996,
          21890054.535000004,
          26841742.67,
          24769260.169999998,
          42303183.475,
          31815264.904,
          38939817.64500001,
          4589040.44766,
          3895774.27679,
          1846333.552,
          1132416,
          2892930.60769,
          6153263.282210001,
          786870,
          3535348.9147200002,
          14341089.73404,
          871740,
          351304.44588,
          3038590.67165,
          2593833.995,
          1014420,
          2434614.71536,
          4549644.493,
          3907602.0649999995,
          1162320,
          5610950.20172,
          6256773.328240001,
          1160580,
          3794357.42553,
          4245858.15456,
          3459919.2466399996,
          2679917.2343600006,
          2137783.552,
          918165,
          4418976.930279999,
          2811315.4421099997,
          913181.395,
          745077,
          5718209.653720001,
          10588742.36987,
          710727,
          3580561.0512099997,
          11015256.034330001,
          5722166.6590599995,
          14584459.63818,
          289710,
          21091414.672940005,
          26300480.40679,
          1941038.2419999999,
          1132416,
          41876529.77268999,
          40378098.53742,
          839553.75,
          18791766.74967,
          41633626.424040005,
          871740,
          15938064.169879999,
          17108471.381649997,
          3133360.415,
          1014420,
          25854964.695360005,
          27146523.998,
          14867012.325,
          1162320,
          35900124.61071999,
          37683410.64324,
          1160580,
          30333264.41553001,
          30451018.64153,
          52683.75,
          24500860.61664,
          25716596.65347,
          2336396.642,
          918165,
          21839943.488810003,
          26971670.927109998,
          913181.395,
          745077,
          27747244.322900005,
          46563481.389869995,
          710727,
          28359088.22120999,
          53769209.30933001,
          37537431.56305999,
          53606749.90385,
          289710,
          329770697.2994099,
          427329338.21629953,
          27115983.518999998,
          4972398
         ]
        }
       ],
       "layout": {
        "coloraxis": {
         "colorbar": {
          "title": {
           "text": "數量"
          }
         },
         "colorscale": [
          [
           0,
           "rgb(103,0,31)"
          ],
          [
           0.1,
           "rgb(178,24,43)"
          ],
          [
           0.2,
           "rgb(214,96,77)"
          ],
          [
           0.3,
           "rgb(244,165,130)"
          ],
          [
           0.4,
           "rgb(253,219,199)"
          ],
          [
           0.5,
           "rgb(247,247,247)"
          ],
          [
           0.6,
           "rgb(209,229,240)"
          ],
          [
           0.7,
           "rgb(146,197,222)"
          ],
          [
           0.8,
           "rgb(67,147,195)"
          ],
          [
           0.9,
           "rgb(33,102,172)"
          ],
          [
           1,
           "rgb(5,48,97)"
          ]
         ]
        },
        "legend": {
         "tracegroupgap": 0
        },
        "margin": {
         "t": 60
        },
        "template": {
         "data": {
          "bar": [
           {
            "error_x": {
             "color": "#2a3f5f"
            },
            "error_y": {
             "color": "#2a3f5f"
            },
            "marker": {
             "line": {
              "color": "#E5ECF6",
              "width": 0.5
             }
            },
            "type": "bar"
           }
          ],
          "barpolar": [
           {
            "marker": {
             "line": {
              "color": "#E5ECF6",
              "width": 0.5
             }
            },
            "type": "barpolar"
           }
          ],
          "carpet": [
           {
            "aaxis": {
             "endlinecolor": "#2a3f5f",
             "gridcolor": "white",
             "linecolor": "white",
             "minorgridcolor": "white",
             "startlinecolor": "#2a3f5f"
            },
            "baxis": {
             "endlinecolor": "#2a3f5f",
             "gridcolor": "white",
             "linecolor": "white",
             "minorgridcolor": "white",
             "startlinecolor": "#2a3f5f"
            },
            "type": "carpet"
           }
          ],
          "choropleth": [
           {
            "colorbar": {
             "outlinewidth": 0,
             "ticks": ""
            },
            "type": "choropleth"
           }
          ],
          "contour": [
           {
            "colorbar": {
             "outlinewidth": 0,
             "ticks": ""
            },
            "colorscale": [
             [
              0,
              "#0d0887"
             ],
             [
              0.1111111111111111,
              "#46039f"
             ],
             [
              0.2222222222222222,
              "#7201a8"
             ],
             [
              0.3333333333333333,
              "#9c179e"
             ],
             [
              0.4444444444444444,
              "#bd3786"
             ],
             [
              0.5555555555555556,
              "#d8576b"
             ],
             [
              0.6666666666666666,
              "#ed7953"
             ],
             [
              0.7777777777777778,
              "#fb9f3a"
             ],
             [
              0.8888888888888888,
              "#fdca26"
             ],
             [
              1,
              "#f0f921"
             ]
            ],
            "type": "contour"
           }
          ],
          "contourcarpet": [
           {
            "colorbar": {
             "outlinewidth": 0,
             "ticks": ""
            },
            "type": "contourcarpet"
           }
          ],
          "heatmap": [
           {
            "colorbar": {
             "outlinewidth": 0,
             "ticks": ""
            },
            "colorscale": [
             [
              0,
              "#0d0887"
             ],
             [
              0.1111111111111111,
              "#46039f"
             ],
             [
              0.2222222222222222,
              "#7201a8"
             ],
             [
              0.3333333333333333,
              "#9c179e"
             ],
             [
              0.4444444444444444,
              "#bd3786"
             ],
             [
              0.5555555555555556,
              "#d8576b"
             ],
             [
              0.6666666666666666,
              "#ed7953"
             ],
             [
              0.7777777777777778,
              "#fb9f3a"
             ],
             [
              0.8888888888888888,
              "#fdca26"
             ],
             [
              1,
              "#f0f921"
             ]
            ],
            "type": "heatmap"
           }
          ],
          "heatmapgl": [
           {
            "colorbar": {
             "outlinewidth": 0,
             "ticks": ""
            },
            "colorscale": [
             [
              0,
              "#0d0887"
             ],
             [
              0.1111111111111111,
              "#46039f"
             ],
             [
              0.2222222222222222,
              "#7201a8"
             ],
             [
              0.3333333333333333,
              "#9c179e"
             ],
             [
              0.4444444444444444,
              "#bd3786"
             ],
             [
              0.5555555555555556,
              "#d8576b"
             ],
             [
              0.6666666666666666,
              "#ed7953"
             ],
             [
              0.7777777777777778,
              "#fb9f3a"
             ],
             [
              0.8888888888888888,
              "#fdca26"
             ],
             [
              1,
              "#f0f921"
             ]
            ],
            "type": "heatmapgl"
           }
          ],
          "histogram": [
           {
            "marker": {
             "colorbar": {
              "outlinewidth": 0,
              "ticks": ""
             }
            },
            "type": "histogram"
           }
          ],
          "histogram2d": [
           {
            "colorbar": {
             "outlinewidth": 0,
             "ticks": ""
            },
            "colorscale": [
             [
              0,
              "#0d0887"
             ],
             [
              0.1111111111111111,
              "#46039f"
             ],
             [
              0.2222222222222222,
              "#7201a8"
             ],
             [
              0.3333333333333333,
              "#9c179e"
             ],
             [
              0.4444444444444444,
              "#bd3786"
             ],
             [
              0.5555555555555556,
              "#d8576b"
             ],
             [
              0.6666666666666666,
              "#ed7953"
             ],
             [
              0.7777777777777778,
              "#fb9f3a"
             ],
             [
              0.8888888888888888,
              "#fdca26"
             ],
             [
              1,
              "#f0f921"
             ]
            ],
            "type": "histogram2d"
           }
          ],
          "histogram2dcontour": [
           {
            "colorbar": {
             "outlinewidth": 0,
             "ticks": ""
            },
            "colorscale": [
             [
              0,
              "#0d0887"
             ],
             [
              0.1111111111111111,
              "#46039f"
             ],
             [
              0.2222222222222222,
              "#7201a8"
             ],
             [
              0.3333333333333333,
              "#9c179e"
             ],
             [
              0.4444444444444444,
              "#bd3786"
             ],
             [
              0.5555555555555556,
              "#d8576b"
             ],
             [
              0.6666666666666666,
              "#ed7953"
             ],
             [
              0.7777777777777778,
              "#fb9f3a"
             ],
             [
              0.8888888888888888,
              "#fdca26"
             ],
             [
              1,
              "#f0f921"
             ]
            ],
            "type": "histogram2dcontour"
           }
          ],
          "mesh3d": [
           {
            "colorbar": {
             "outlinewidth": 0,
             "ticks": ""
            },
            "type": "mesh3d"
           }
          ],
          "parcoords": [
           {
            "line": {
             "colorbar": {
              "outlinewidth": 0,
              "ticks": ""
             }
            },
            "type": "parcoords"
           }
          ],
          "pie": [
           {
            "automargin": true,
            "type": "pie"
           }
          ],
          "scatter": [
           {
            "marker": {
             "colorbar": {
              "outlinewidth": 0,
              "ticks": ""
             }
            },
            "type": "scatter"
           }
          ],
          "scatter3d": [
           {
            "line": {
             "colorbar": {
              "outlinewidth": 0,
              "ticks": ""
             }
            },
            "marker": {
             "colorbar": {
              "outlinewidth": 0,
              "ticks": ""
             }
            },
            "type": "scatter3d"
           }
          ],
          "scattercarpet": [
           {
            "marker": {
             "colorbar": {
              "outlinewidth": 0,
              "ticks": ""
             }
            },
            "type": "scattercarpet"
           }
          ],
          "scattergeo": [
           {
            "marker": {
             "colorbar": {
              "outlinewidth": 0,
              "ticks": ""
             }
            },
            "type": "scattergeo"
           }
          ],
          "scattergl": [
           {
            "marker": {
             "colorbar": {
              "outlinewidth": 0,
              "ticks": ""
             }
            },
            "type": "scattergl"
           }
          ],
          "scattermapbox": [
           {
            "marker": {
             "colorbar": {
              "outlinewidth": 0,
              "ticks": ""
             }
            },
            "type": "scattermapbox"
           }
          ],
          "scatterpolar": [
           {
            "marker": {
             "colorbar": {
              "outlinewidth": 0,
              "ticks": ""
             }
            },
            "type": "scatterpolar"
           }
          ],
          "scatterpolargl": [
           {
            "marker": {
             "colorbar": {
              "outlinewidth": 0,
              "ticks": ""
             }
            },
            "type": "scatterpolargl"
           }
          ],
          "scatterternary": [
           {
            "marker": {
             "colorbar": {
              "outlinewidth": 0,
              "ticks": ""
             }
            },
            "type": "scatterternary"
           }
          ],
          "surface": [
           {
            "colorbar": {
             "outlinewidth": 0,
             "ticks": ""
            },
            "colorscale": [
             [
              0,
              "#0d0887"
             ],
             [
              0.1111111111111111,
              "#46039f"
             ],
             [
              0.2222222222222222,
              "#7201a8"
             ],
             [
              0.3333333333333333,
              "#9c179e"
             ],
             [
              0.4444444444444444,
              "#bd3786"
             ],
             [
              0.5555555555555556,
              "#d8576b"
             ],
             [
              0.6666666666666666,
              "#ed7953"
             ],
             [
              0.7777777777777778,
              "#fb9f3a"
             ],
             [
              0.8888888888888888,
              "#fdca26"
             ],
             [
              1,
              "#f0f921"
             ]
            ],
            "type": "surface"
           }
          ],
          "table": [
           {
            "cells": {
             "fill": {
              "color": "#EBF0F8"
             },
             "line": {
              "color": "white"
             }
            },
            "header": {
             "fill": {
              "color": "#C8D4E3"
             },
             "line": {
              "color": "white"
             }
            },
            "type": "table"
           }
          ]
         },
         "layout": {
          "annotationdefaults": {
           "arrowcolor": "#2a3f5f",
           "arrowhead": 0,
           "arrowwidth": 1
          },
          "coloraxis": {
           "colorbar": {
            "outlinewidth": 0,
            "ticks": ""
           }
          },
          "colorscale": {
           "diverging": [
            [
             0,
             "#8e0152"
            ],
            [
             0.1,
             "#c51b7d"
            ],
            [
             0.2,
             "#de77ae"
            ],
            [
             0.3,
             "#f1b6da"
            ],
            [
             0.4,
             "#fde0ef"
            ],
            [
             0.5,
             "#f7f7f7"
            ],
            [
             0.6,
             "#e6f5d0"
            ],
            [
             0.7,
             "#b8e186"
            ],
            [
             0.8,
             "#7fbc41"
            ],
            [
             0.9,
             "#4d9221"
            ],
            [
             1,
             "#276419"
            ]
           ],
           "sequential": [
            [
             0,
             "#0d0887"
            ],
            [
             0.1111111111111111,
             "#46039f"
            ],
            [
             0.2222222222222222,
             "#7201a8"
            ],
            [
             0.3333333333333333,
             "#9c179e"
            ],
            [
             0.4444444444444444,
             "#bd3786"
            ],
            [
             0.5555555555555556,
             "#d8576b"
            ],
            [
             0.6666666666666666,
             "#ed7953"
            ],
            [
             0.7777777777777778,
             "#fb9f3a"
            ],
            [
             0.8888888888888888,
             "#fdca26"
            ],
            [
             1,
             "#f0f921"
            ]
           ],
           "sequentialminus": [
            [
             0,
             "#0d0887"
            ],
            [
             0.1111111111111111,
             "#46039f"
            ],
            [
             0.2222222222222222,
             "#7201a8"
            ],
            [
             0.3333333333333333,
             "#9c179e"
            ],
            [
             0.4444444444444444,
             "#bd3786"
            ],
            [
             0.5555555555555556,
             "#d8576b"
            ],
            [
             0.6666666666666666,
             "#ed7953"
            ],
            [
             0.7777777777777778,
             "#fb9f3a"
            ],
            [
             0.8888888888888888,
             "#fdca26"
            ],
            [
             1,
             "#f0f921"
            ]
           ]
          },
          "colorway": [
           "#636efa",
           "#EF553B",
           "#00cc96",
           "#ab63fa",
           "#FFA15A",
           "#19d3f3",
           "#FF6692",
           "#B6E880",
           "#FF97FF",
           "#FECB52"
          ],
          "font": {
           "color": "#2a3f5f"
          },
          "geo": {
           "bgcolor": "white",
           "lakecolor": "white",
           "landcolor": "#E5ECF6",
           "showlakes": true,
           "showland": true,
           "subunitcolor": "white"
          },
          "hoverlabel": {
           "align": "left"
          },
          "hovermode": "closest",
          "mapbox": {
           "style": "light"
          },
          "paper_bgcolor": "white",
          "plot_bgcolor": "#E5ECF6",
          "polar": {
           "angularaxis": {
            "gridcolor": "white",
            "linecolor": "white",
            "ticks": ""
           },
           "bgcolor": "#E5ECF6",
           "radialaxis": {
            "gridcolor": "white",
            "linecolor": "white",
            "ticks": ""
           }
          },
          "scene": {
           "xaxis": {
            "backgroundcolor": "#E5ECF6",
            "gridcolor": "white",
            "gridwidth": 2,
            "linecolor": "white",
            "showbackground": true,
            "ticks": "",
            "zerolinecolor": "white"
           },
           "yaxis": {
            "backgroundcolor": "#E5ECF6",
            "gridcolor": "white",
            "gridwidth": 2,
            "linecolor": "white",
            "showbackground": true,
            "ticks": "",
            "zerolinecolor": "white"
           },
           "zaxis": {
            "backgroundcolor": "#E5ECF6",
            "gridcolor": "white",
            "gridwidth": 2,
            "linecolor": "white",
            "showbackground": true,
            "ticks": "",
            "zerolinecolor": "white"
           }
          },
          "shapedefaults": {
           "line": {
            "color": "#2a3f5f"
           }
          },
          "ternary": {
           "aaxis": {
            "gridcolor": "white",
            "linecolor": "white",
            "ticks": ""
           },
           "baxis": {
            "gridcolor": "white",
            "linecolor": "white",
            "ticks": ""
           },
           "bgcolor": "#E5ECF6",
           "caxis": {
            "gridcolor": "white",
            "linecolor": "white",
            "ticks": ""
           }
          },
          "title": {
           "x": 0.05
          },
          "xaxis": {
           "automargin": true,
           "gridcolor": "white",
           "linecolor": "white",
           "ticks": "",
           "title": {
            "standoff": 15
           },
           "zerolinecolor": "white",
           "zerolinewidth": 2
          },
          "yaxis": {
           "automargin": true,
           "gridcolor": "white",
           "linecolor": "white",
           "ticks": "",
           "title": {
            "standoff": 15
           },
           "zerolinecolor": "white",
           "zerolinewidth": 2
          }
         }
        }
       }
      },
      "text/html": [
       "<div>                            <div id=\"0d8e106c-48cd-4d38-8641-23e8df67d176\" class=\"plotly-graph-div\" style=\"height:525px; width:100%;\"></div>            <script type=\"text/javascript\">                require([\"plotly\"], function(Plotly) {                    window.PLOTLYENV=window.PLOTLYENV || {};                                    if (document.getElementById(\"0d8e106c-48cd-4d38-8641-23e8df67d176\")) {                    Plotly.newPlot(                        \"0d8e106c-48cd-4d38-8641-23e8df67d176\",                        [{\"branchvalues\": \"total\", \"customdata\": [[75000.0], [149999.99999999997], [411000.0], [1222000.0], [93000.0], [1321000.0], [462000.00000000006], [710000.0], [1242000.0], [452000.0], [1056000.0], [1596000.0000000002], [225000.0], [30000.0], [1660000.0], [666000.0], [1846000.0], [234000.0], [565000.0], [841999.9999999999], [1221000.0], [483000.0], [949000.0], [502000.0], [1343000.0], [16374000.0], [32830000.000000004], [2740000.0], [39483000.0], [1800000.0], [10656000.0], [6780000.0], [8354000.0], [2800000.0], [2046000.0], [19810000.0], [8020000.0], [3480000.0], [32029000.0], [9048000.0], [37151000.0], [7913000.0], [27862000.0], [18406000.0], [34879000.0], [5140000.0], [32750000.0], [2040000.0000000002], [45087000.0], [548000.0], [47982000.0], [180000.0], [34000.0], [24000.0], [4000.0], [20000.0], [327000.0], [257000.0], [68000.0], [69000.0], [4000.0], [82000.0], [24000.0], [154000.0], [237000.00000000003], [102000.0], [4000.0], [144000.0], [242000.0], [1055000.0], [2807000.0], [820000.0], [356500.0], [1832000.0], [4887000.0], [1970500.0], [24000.0], [3279500.0], [2390000.0], [2323000.0], [1735000.0], [1289000.0], [838000.0], [112000.0], [2408000.0], [1071000.0], [2713500.0], [2352000.0], [2650000.0], [1430000.0], [2497000.0], [1811000.0], [1470000.0], [44000.0], [25000.0], [406000.0], [748000.0], [333000.0], [790000.0], [513000.0], [2620000.0], [74000.0], [426000.0], [109999.99999999999], [72000.0], [10000.0], [474000.0], [476000.0], [40000.0], [26000.0], [239000.0], [93000.0], [7186000.0], [70000.0], [2845000.0], [1002000.0], [915000.0], [222000.0], [21000.0], [345000.0], [45000.0], [999000.0000000001], [21000.0], [141000.0], [51000.0], [3263000.0], [4966000.0], [1381000.0], [3938000.0], [2773000.0], [29326000.0], [151000.0], [3662999.9999999995], [1200000.0], [2550000.0], [3518000.0], [2259000.0], [2749000.0], [5324000.0], [2776000.0], [5494000.0], [1813000.0], [2563000.0], [2488000.0], [10829000.0], [2679000.0], [13202000.0], [2107000.0], [10873000.0], [1919999.9999999998], [7170000.0], [1544.59], [99888.75], [53042.67], [188827.0], [21054.5], [1680.0], [9399.25], [40201.25], [17971.67], [1270.5], [168550.5], [243976.17], [78067.83], [76285.83], [2001.9200000000003], [24450.25], [30747.499999999996], [144769.25], [1770.5], [90974.0], [142805.65999999997], [129511.34000000001], [144407.58000000002], [239330.42], [8057000.0], [7482000.0], [2954000.0], [3277002.0], [6792000.0], [9215000.0], [2730000.0], [7462000.0], [60000.0], [7083000.0], [4304000.0], [5264000.0], [4726000.0], [3190000.0], [5532000.0], [3697000.0000000005], [7003000.0], [4123000.0], [260000.0], [4401000.0], [4697000.0], [7433000.0], [8351000.000000001], [6246000.000000001], [5551000.0], [4731000.0], [3641000.0], [5965000.0], [25540000.0], [10610000.0], [19784000.0], [3888000.0], [13919000.0], [6624000.0], [3651000.0000000005], [9984000.0], [6164000.0], [9255000.0], [6693000.0], [29134000.0], [5676000.0], [4613004.0], [9340000.0], [13222000.0], [3974000.0], [24591999.999999996], [6368000.0], [23937000.000000004], [11256000.0], [16149000.0], [3449000.0], [21725000.0], [1.0], [13587520.0], [16549000.0], [50228000.0], [38013000.0], [17946000.0], [39127000.0], [18916000.0], [21267000.0], [19066000.0], [35231000.0], [42547570.0], [30164000.0], [29477000.0], [47062000.0], [30460312.0], [30634000.0], [13337288.0], [26034999.999999996], [33251000.0], [12841000.0], [27377000.0], [56169000.0], [48129000.0], [54247000.0], [1.0], [1.0], [82.5], [1400.0], [6600.0], [600.0], [30000.0], [30000.0], [6000.0], [30000.0], [140000.0], [36000.0], [25000.0], [20000.0], [22000.000000000004], [125000.00000000001], [140000.0], [149000.0], [10000.0], [8000.0], [5000.0], [1.0], [3031000.0], [3559000.0], [90000.0], [4293000.0], [2656002.0], [60000.0], [1565000.0], [1670000.0], [3830000.0], [3901000.0000000005], [119999.99999999999], [4685000.0], [4223000.0], [1890000.0], [1636002.0], [3096000.0], [3772000.0], [4126000.0], [60000.0], [2099000.0], [4885000.0], [60000.0], [3726000.0000000005], [2650000.0], [3489000.0], [2150000.0], [4281000.0], [1580000.0], [1619000.0], [4405002.0], [20000.0], [303.0], [4000.0], [1320000.0], [5240000.0], [9120000.0], [3510000.0], [262000.0], [1360040.0], [8000.0], [6708002.0], [1400000.0], [5704802.0], [2636000.0], [2014000.0], [2508000.0], [474000.0], [10628000.0], [1958000.0], [7374000.0], [352000.0], [460000.0], [456000.0], [158000.0], [290000.0], [568000.0], [680000.0], [200000.0], [352000.0], [80000.0], [24000.0], [56000.0], [224000.0], [364000.0], [532000.0], [96000.0], [660000.0], [336000.0], [5000.0], [101.00000000000001], [1999.9999999999998], [900000.0], [200000.0], [1119000.0], [1299000.0], [60000.0], [25.0], [2310000.0], [120000.0], [805.0], [3200.0], [2400.0], [2100.0], [6125.0], [1800000.0], [840000.0], [1110000.0], [90000.0], [13020.0], [29400.0], [16975.0], [25480.000000000004], [41800.0], [20000.0], [35600.0], [18800.0], [8500.0], [12969.999999999998], [36000.0], [22000.0], [100.00000000000001], [52200.0], [88570.0], [11400.0], [30000.0], [36562.0], [6000.0], [52550.0], [26372.0], [350.0], [600000.0], [1710000.0], [89999.99999999999], [90000.0], [839.9999999999999], [43408.0], [300.0], [43556.0], [255000.0], [209890.0], [135000.0], [154000.0], [145200.0], [606000.0], [6000.0], [90100.0], [209000.0], [374550.0], [11000.0], [186000.0], [100000.0], [163000.0], [15799.999999999998], [115000.0], [78400.0], [154000.0], [84710.0], [170600.0], [312000.0], [9000.0], [173700.0], [268150.0], [471199.99999999994], [8000.0], [2010.0], [2000.0], [160000.0], [99.99999999999999], [8000.0], [20000.0], [4000.0], [12000.0], [20000.0], [1107000.0], [1679999.9999999998], [3606000.0], [1727999.9999999998], [4611000.0], [3390000.0], [2547000.0], [1899000.0], [447000.0], [2229000.0], [3282000.0000000005], [2769000.0], [1614000.0], [3575999.9999999995], [1254000.0], [4116000.0], [699000.0], [1590000.0], [1365000.0], [4218000.0], [1893000.0], [1782000.0000000002], [2571000.0000000005], [3042000.0], [1578000.0], [1347000.0], [1350000.0], [630000.0], [1860000.0], [666000.0], [690000.0], [690000.0], [750000.0], [480000.0], [2880000.0], [1650000.0], [90000.0], [1200000.0], [1440000.0], [300000.0], [1620000.0000000002], [1620000.0], [1650000.0], [510000.00000000006], [1710000.0], [360000.0], [1470000.0], [570000.0], [1920000.0], [894000.0], [6000.0], [543000.0], [360000.0], [303000.0], [108000.0], [192000.0], [18000.0], [351000.0], [114000.0], [510000.0], [423000.0], [360000.0], [249000.0], [492000.0], [1023000.0], [318000.0], [270000.0], [15000.0], [1143000.0], [1035000.0], [60000.0], [15000.0], [9000.0], [45000.0], [75000.0], [6000.0], [24000.0], [147000.0], [39000.0], [21000.0], [12000.0], [54000.0], [33000.0], [75000.0], [51000.0], [12000.0], [24000.0], [15000.0], [36000.0], [12000.0], [6000.0], [24000.0], [6000.0], [5646000.0], [1644000.0], [2997000.0], [3642000.0], [2403000.0], [4161000.0], [2700000.0], [3531000.0], [3000000.0], [3006000.0], [726000.0], [2229000.0], [4002000.0], [3498000.0], [1524000.0], [2100000.0], [3999000.0], [4008000.0], [9228000.0], [5472000.0], [4002000.0], [5646000.0], [5031000.0], [2679000.0], [4065000.0], [4002000.0], [3144000.0], [5433000.000000001], [1932000.0], [1449000.0], [2532000.0], [9345000.0], [7074000.0], [2199000.0], [8082000.0], [12926000.0], [4854000.0], [16638000.0], [999000.0], [36000.0], [108000.0], [6000.0], [3000.0], [99000.0], [48000.0], [2010000.0], [3000000.0], [1848000.0], [1026000.0000000001], [2820000.0], [1254000.0], [3000000.0], [501000.0], [3000000.0], [18000.0], [3408000.0], [2157000.0], [501000.0], [3000000.0], [873000.0], [1413000.0000000002], [873000.0], [3000000.0], [414000.0], [3459000.0], [1905000.0000000002], [5625716.144401061], [4408213.437050853], [2773398.2680342137], [2239259.1540188687], [4537329.666478231], [5323739.729529133], [2450991.159213895], [5191189.802917057], [416811.079908093], [4650141.072667297], [3499967.521100737], [3340031.8544120765], [2096534.9710352905], [2703113.710494315], [3408072.0706486474], [3384960.5901672137], [5408785.053201676], [2406959.933794379], [260000.0], [2708295.8044627034], [4052148.6271422245], [4333854.24547483], [4955693.877282734], [3340520.206885732], [3839139.928635654], [2389623.662255297], [1973559.2580167023], [5000.0], [4073188.0633494], [23387029.488491796], [7799769.547861557], [18213084.188745808], [2905299.3680863366], [11971824.878557503], [5061526.030582306], [2761802.9064653507], [6629334.80118698], [4324619.021925306], [8955909.045884637], [4753165.846162225], [29134000.0], [4006150.360223145], [4104706.597088154], [6255828.301984071], [9665789.610032277], [2836094.3711023205], [22765588.217243005], [4033773.684192083], [22683106.9571715], [8038492.834346363], [14311515.448801387], [2524286.7643760145], [18987420.156860102], [101.00000000000001], [1999.9999999999998], [900000.0], [1.0], [200000.0], [1119000.0], [1299000.0], [60000.0], [25.0], [2310000.0], [120000.0], [13587520.0], [16549000.0], [50228000.0], [38013000.0], [17946000.0], [39127000.0], [18916000.0], [21267000.0], [19066000.0], [35231000.0], [42547570.0], [30164000.0], [29477000.0], [47062000.0], [30460312.0], [30634000.0], [13337288.0], [26034999.999999996], [33251000.0], [12841000.0], [27377000.0], [56169000.0], [48129000.0], [54247000.0], [1544.59], [99888.75], [53042.67], [188827.0], [21054.5], [1680.0], [9399.25], [40201.25], [17971.67], [1270.5], [168550.5], [242957.90132171597], [78067.83], [76285.83], [2001.9200000000003], [24450.25], [30747.499999999996], [144769.25], [1770.5], [90974.0], [142805.65999999997], [121500.21881602993], [143664.9168097877], [239330.42], [16304438.088850105], [24108030.26724961], [2740000.0], [33939293.41973467], [497925.8590361711], [9419488.782967191], [4024965.6616954436], [8092558.066630228], [2800000.0], [612463.5951402195], [16790988.78459383], [3911700.411241342], [3480000.0], [25768471.053393617], [5284644.918881658], [31779866.50920626], [7913000.0], [20638138.11158863], [18406000.0], [20800635.21177202], [2269431.045538957], [29169752.33481382], [1868946.5807315917], [31200190.281601876], [548000.0], [34712993.81995194], [739.1536366720204], [3200.0], [2400.0], [2100.0], [6125.0], [1800000.0], [840000.0], [1110000.0], [90000.0], [22284.563506371116], [29282.0900900125], [16988.46627977503], [26072.566111246393], [42677.21303448295], [103261.42140130268], [55216.64003429846], [65571.82384545276], [8500.0], [69000.0], [13945.00760461257], [37204.79851165048], [21898.11616535232], [63400.46404357946], [59394.66037300737], [147243.6059614262], [94432.69344520036], [11400.0], [34050.04876144182], [36367.14054521681], [10169.932177216653], [52550.0], [34666.02639976952], [350.0], [600000.0], [1710000.0], [89999.99999999999], [90000.0], [839.9999999999999], [43408.0], [300.0], [43556.0], [310124.0277971975], [692926.5785392476], [231990.19712349787], [187053.59593004695], [497000.4844330678], [772585.1861820129], [6000.0], [906145.7570771032], [24000.0], [209000.0], [885846.2359350787], [791292.1892366711], [782299.247549805], [173259.63436836866], [269648.9867846982], [132853.8649968114], [114971.08675746634], [691569.6409117398], [235609.08072676178], [754057.8010846127], [908665.4813989956], [390000.83472030115], [956393.8046807566], [269177.9062501699], [521203.36799175246], [513288.43116227427], [8000.0], [2010.0], [3031000.0], [3559000.0], [90000.0], [4293000.0], [2656002.0], [60000.0], [1565000.0], [1670000.0], [3830000.0], [3901000.0000000005], [119999.99999999999], [4685000.0], [4179275.2283909386], [1890000.0], [1636002.0], [3096000.0], [3772000.0], [4126000.0], [60000.0], [2099000.0], [4885000.0], [60000.0], [3726000.0000000005], [2224058.1640048246], [3489000.0], [2150000.0], [4281000.0], [1580000.0], [1619000.0], [4405002.0], [20000.0], [99.99999999999999], [303.0], [5646000.0], [1631512.33958539], [2997000.0], [3642000.0], [2398939.249139091], [4066144.189530682], [2700000.0], [3468322.7152812616], [2972368.5417491365], [3006000.0], [726000.0], [2182336.3030229243], [4002000.0], [3498000.0], [1524000.0], [2053066.3280389998], [3910594.4316668683], [4008000.0], [9216309.381233037], [5411589.308053618], [4002000.0], [5635541.075321695], [5025210.846441836], [2678279.929693693], [4000221.1582226097], [4002000.0], [3144000.0], [5380499.061076821], [1928923.3896375794], [1449000.0], [2532000.0], [9342132.129524743], [7046567.054382554], [2199000.0], [8066219.398796714], [12628392.444705421], [4847195.525970089], [16112326.641549515], [999000.0], [1002000.0], [915000.0], [222000.0], [21000.0], [345000.0], [45000.0], [999000.0000000001], [21000.0], [141000.0], [51000.0], [3155172.447656293], [3944912.9883286487], [4462891.096937192], [5896169.486414828], [3159206.6734415907], [29326000.0], [151000.0], [3505923.5745307948], [1200000.0], [2550000.0], [2682795.83782188], [2259000.0], [2540279.4135247516], [5633250.143879892], [2776000.0], [4672073.211474355], [5273168.929426327], [2593299.1978459256], [2488000.0], [8344283.854353331], [2590189.1691015526], [13202000.0], [1886185.0008591362], [10612283.712891394], [1939180.23119248], [6783161.402801948], [2010000.0], [3000000.0], [1848000.0], [1026000.0000000001], [2820000.0], [1254000.0], [3000000.0], [501000.0], [3000000.0], [18000.0], [3408000.0], [2157000.0], [501000.0], [3000000.0], [873000.0], [1413000.0000000002], [873000.0], [3000000.0], [414000.0], [3459000.0], [1905000.0000000002], [25.0], [1386347.6631737459], [3200.0], [1119000.0], [840000.0], [2400.0], [1.0], [101.00000000000001], [4175.151215341847], [1607408.7348693619], [20000.0], [93089.54207668749], [6125.0], [6962495.196549165], [14824399.849069893], [90000.0], [24382889.683541592], [20704682.774204403], [60000.0], [8075303.145821719], [21844578.221374184], [8313619.4138115505], [10067105.80287021], [933795.8386727383], [8342530.771348054], [17462684.796536528], [4743336.063303072], [22476798.44724419], [19641523.167283475], [12393276.156128425], [22968265.136467937], [60000.0], [15217565.508687338], [15455341.10460076], [173398.87013489392], [6528769.900866169], [16959277.10504516], [14595339.61085596], [10237143.295374738], [11524893.09391943], [30111067.5708966], [26235418.87524145], [27813164.936671983], [2316334.0998402797], [1186272.4330452278], [2998587.8012143713], [3642000.0], [1264915.8100121976], [2116092.226559335], [2700000.0], [1659332.054532012], [5105621.425229315], [3006000.0], [627825.7904558916], [1536590.3063972108], [3123686.123560116], [3498000.0], [629364.6369905322], [1213726.0251941376], [2558056.6119818036], [4008000.0], [4812051.291405989], [2819932.8631924023], [4002000.0], [2726633.308373038], [2737789.3787376666], [1771422.485782661], [2439738.831163589], [3543975.164797226], [3144000.0], [2339057.8200842016], [2409361.5737083685], [1430376.3855537158], [2532000.0], [5097803.6366687305], [3485553.481350274], [2199000.0], [6052765.76741418], [6877046.814743957], [1528027.1146473936], [6526878.94662506], [999000.0], [5949048.597276241], [12804244.12760952], [2856675.6533280094], [3642000.0], [22785844.88136875], [16760567.595257167], [2534334.4901979174], [6850887.585576473], [16078688.912987627], [3006000.0], [8144210.291020867], [8552023.34846985], [2746613.7446719483], [3498000.0], [7616225.862639621], [14739426.901843695], [3835218.3026482426], [4008000.0], [19715916.20262417], [16477639.435937513], [4002000.0], [11184085.560389299], [20124574.36994902], [60000.0], [13318751.839814587], [14094499.55052807], [3257448.2280051145], [3144000.0], [5676532.779524463], [15442708.023167137], [1430376.3855537158], [2532000.0], [12564983.614671553], [7009159.156649934], [2199000.0], [10830233.884032905], [25099651.395177282], [22469050.01414083], [21979155.24785129], [999000.0], [13741929.905599644], [16606124.010116862], [3368287.969308749], [3439894.4967800244]], \"domain\": {\"x\": [0.0, 1.0], \"y\": [0.0, 1.0]}, \"hovertemplate\": \"labels=%{label}<br>\\u672c\\u570b\\u5e63\\u5225NTD=%{value}<br>parent=%{parent}<br>id=%{id}<br>\\u6578\\u91cf=%{color}<extra></extra>\", \"ids\": [\"2019/April/\\u6c88\\u601d\\u660e/Bourns/EMC\", \"2020/April/\\u6c88\\u601d\\u660e/Bourns/EMC\", \"2019/August/\\u6c88\\u601d\\u660e/Bourns/EMC\", \"2020/August/\\u6c88\\u601d\\u660e/Bourns/EMC\", \"2019/December/\\u6c88\\u601d\\u660e/Bourns/EMC\", \"2020/December/\\u6c88\\u601d\\u660e/Bourns/EMC\", \"2019/February/\\u6c88\\u601d\\u660e/Bourns/EMC\", \"2020/February/\\u6c88\\u601d\\u660e/Bourns/EMC\", \"2019/January/\\u6c88\\u601d\\u660e/Bourns/EMC\", \"2020/January/\\u6c88\\u601d\\u660e/Bourns/EMC\", \"2021/January/\\u6c88\\u601d\\u660e/Bourns/EMC\", \"2019/July/\\u6c88\\u601d\\u660e/Bourns/EMC\", \"2020/July/\\u6c88\\u601d\\u660e/Bourns/EMC\", \"2019/June/\\u6c88\\u601d\\u660e/Bourns/EMC\", \"2020/June/\\u6c88\\u601d\\u660e/Bourns/EMC\", \"2019/March/\\u6c88\\u601d\\u660e/Bourns/EMC\", \"2020/March/\\u6c88\\u601d\\u660e/Bourns/EMC\", \"2019/May/\\u6c88\\u601d\\u660e/Bourns/EMC\", \"2020/May/\\u6c88\\u601d\\u660e/Bourns/EMC\", \"2019/November/\\u6c88\\u601d\\u660e/Bourns/EMC\", \"2020/November/\\u6c88\\u601d\\u660e/Bourns/EMC\", \"2019/October/\\u6c88\\u601d\\u660e/Bourns/EMC\", \"2020/October/\\u6c88\\u601d\\u660e/Bourns/EMC\", \"2019/September/\\u6c88\\u601d\\u660e/Bourns/EMC\", \"2020/September/\\u6c88\\u601d\\u660e/Bourns/EMC\", \"2019/April/\\u6c88\\u601d\\u660e/Laird/EMC\", \"2020/April/\\u6c88\\u601d\\u660e/Laird/EMC\", \"2019/August/\\u6c88\\u601d\\u660e/Laird/EMC\", \"2020/August/\\u6c88\\u601d\\u660e/Laird/EMC\", \"2019/December/\\u6c88\\u601d\\u660e/Laird/EMC\", \"2020/December/\\u6c88\\u601d\\u660e/Laird/EMC\", \"2019/February/\\u6c88\\u601d\\u660e/Laird/EMC\", \"2020/February/\\u6c88\\u601d\\u660e/Laird/EMC\", \"2021/February/\\u6c88\\u601d\\u660e/Laird/EMC\", \"2019/January/\\u6c88\\u601d\\u660e/Laird/EMC\", \"2020/January/\\u6c88\\u601d\\u660e/Laird/EMC\", \"2021/January/\\u6c88\\u601d\\u660e/Laird/EMC\", \"2019/July/\\u6c88\\u601d\\u660e/Laird/EMC\", \"2020/July/\\u6c88\\u601d\\u660e/Laird/EMC\", \"2019/June/\\u6c88\\u601d\\u660e/Laird/EMC\", \"2020/June/\\u6c88\\u601d\\u660e/Laird/EMC\", \"2019/March/\\u6c88\\u601d\\u660e/Laird/EMC\", \"2020/March/\\u6c88\\u601d\\u660e/Laird/EMC\", \"2019/May/\\u6c88\\u601d\\u660e/Laird/EMC\", \"2020/May/\\u6c88\\u601d\\u660e/Laird/EMC\", \"2019/November/\\u6c88\\u601d\\u660e/Laird/EMC\", \"2020/November/\\u6c88\\u601d\\u660e/Laird/EMC\", \"2019/October/\\u6c88\\u601d\\u660e/Laird/EMC\", \"2020/October/\\u6c88\\u601d\\u660e/Laird/EMC\", \"2019/September/\\u6c88\\u601d\\u660e/Laird/EMC\", \"2020/September/\\u6c88\\u601d\\u660e/Laird/EMC\", \"2019/April/\\u8a31\\u51f1\\u667a/MT-SYSTEM/EMC\", \"2020/April/\\u8a31\\u51f1\\u667a/MT-SYSTEM/EMC\", \"2019/August/\\u8a31\\u51f1\\u667a/MT-SYSTEM/EMC\", \"2020/August/\\u8a31\\u51f1\\u667a/MT-SYSTEM/EMC\", \"2019/December/\\u8a31\\u51f1\\u667a/MT-SYSTEM/EMC\", \"2020/December/\\u8a31\\u51f1\\u667a/MT-SYSTEM/EMC\", \"2020/February/\\u8a31\\u51f1\\u667a/MT-SYSTEM/EMC\", \"2019/January/\\u8a31\\u51f1\\u667a/MT-SYSTEM/EMC\", \"2021/January/\\u8a31\\u51f1\\u667a/MT-SYSTEM/EMC\", \"2019/July/\\u8a31\\u51f1\\u667a/MT-SYSTEM/EMC\", \"2020/July/\\u8a31\\u51f1\\u667a/MT-SYSTEM/EMC\", \"2019/June/\\u8a31\\u51f1\\u667a/MT-SYSTEM/EMC\", \"2020/June/\\u8a31\\u51f1\\u667a/MT-SYSTEM/EMC\", \"2020/March/\\u8a31\\u51f1\\u667a/MT-SYSTEM/EMC\", \"2020/November/\\u8a31\\u51f1\\u667a/MT-SYSTEM/EMC\", \"2019/October/\\u8a31\\u51f1\\u667a/MT-SYSTEM/EMC\", \"2020/October/\\u8a31\\u51f1\\u667a/MT-SYSTEM/EMC\", \"2020/September/\\u8a31\\u51f1\\u667a/MT-SYSTEM/EMC\", \"2019/April/\\u8a31\\u51f1\\u667a/TELTONIKA/EMC\", \"2020/April/\\u8a31\\u51f1\\u667a/TELTONIKA/EMC\", \"2019/August/\\u8a31\\u51f1\\u667a/TELTONIKA/EMC\", \"2020/August/\\u8a31\\u51f1\\u667a/TELTONIKA/EMC\", \"2019/December/\\u8a31\\u51f1\\u667a/TELTONIKA/EMC\", \"2020/December/\\u8a31\\u51f1\\u667a/TELTONIKA/EMC\", \"2020/February/\\u8a31\\u51f1\\u667a/TELTONIKA/EMC\", \"2021/February/\\u8a31\\u51f1\\u667a/TELTONIKA/EMC\", \"2020/January/\\u8a31\\u51f1\\u667a/TELTONIKA/EMC\", \"2021/January/\\u8a31\\u51f1\\u667a/TELTONIKA/EMC\", \"2019/July/\\u8a31\\u51f1\\u667a/TELTONIKA/EMC\", \"2020/July/\\u8a31\\u51f1\\u667a/TELTONIKA/EMC\", \"2019/June/\\u8a31\\u51f1\\u667a/TELTONIKA/EMC\", \"2020/June/\\u8a31\\u51f1\\u667a/TELTONIKA/EMC\", \"2019/March/\\u8a31\\u51f1\\u667a/TELTONIKA/EMC\", \"2020/March/\\u8a31\\u51f1\\u667a/TELTONIKA/EMC\", \"2019/May/\\u8a31\\u51f1\\u667a/TELTONIKA/EMC\", \"2020/May/\\u8a31\\u51f1\\u667a/TELTONIKA/EMC\", \"2019/November/\\u8a31\\u51f1\\u667a/TELTONIKA/EMC\", \"2020/November/\\u8a31\\u51f1\\u667a/TELTONIKA/EMC\", \"2019/October/\\u8a31\\u51f1\\u667a/TELTONIKA/EMC\", \"2020/October/\\u8a31\\u51f1\\u667a/TELTONIKA/EMC\", \"2019/September/\\u8a31\\u51f1\\u667a/TELTONIKA/EMC\", \"2020/September/\\u8a31\\u51f1\\u667a/TELTONIKA/EMC\", \"2020/April/\\u8a31\\u51f1\\u667a/\\u4fe1\\u660c/EMC\", \"2019/August/\\u8a31\\u51f1\\u667a/\\u4fe1\\u660c/EMC\", \"2020/August/\\u8a31\\u51f1\\u667a/\\u4fe1\\u660c/EMC\", \"2019/December/\\u8a31\\u51f1\\u667a/\\u4fe1\\u660c/EMC\", \"2020/December/\\u8a31\\u51f1\\u667a/\\u4fe1\\u660c/EMC\", \"2020/February/\\u8a31\\u51f1\\u667a/\\u4fe1\\u660c/EMC\", \"2020/January/\\u8a31\\u51f1\\u667a/\\u4fe1\\u660c/EMC\", \"2021/January/\\u8a31\\u51f1\\u667a/\\u4fe1\\u660c/EMC\", \"2019/July/\\u8a31\\u51f1\\u667a/\\u4fe1\\u660c/EMC\", \"2020/July/\\u8a31\\u51f1\\u667a/\\u4fe1\\u660c/EMC\", \"2019/June/\\u8a31\\u51f1\\u667a/\\u4fe1\\u660c/EMC\", \"2020/June/\\u8a31\\u51f1\\u667a/\\u4fe1\\u660c/EMC\", \"2019/March/\\u8a31\\u51f1\\u667a/\\u4fe1\\u660c/EMC\", \"2020/March/\\u8a31\\u51f1\\u667a/\\u4fe1\\u660c/EMC\", \"2019/May/\\u8a31\\u51f1\\u667a/\\u4fe1\\u660c/EMC\", \"2020/May/\\u8a31\\u51f1\\u667a/\\u4fe1\\u660c/EMC\", \"2019/November/\\u8a31\\u51f1\\u667a/\\u4fe1\\u660c/EMC\", \"2020/November/\\u8a31\\u51f1\\u667a/\\u4fe1\\u660c/EMC\", \"2019/October/\\u8a31\\u51f1\\u667a/\\u4fe1\\u660c/EMC\", \"2020/October/\\u8a31\\u51f1\\u667a/\\u4fe1\\u660c/EMC\", \"2019/September/\\u8a31\\u51f1\\u667a/\\u4fe1\\u660c/EMC\", \"2020/September/\\u8a31\\u51f1\\u667a/\\u4fe1\\u660c/EMC\", \"2019/April/\\u8a31\\u51f1\\u667a/\\u6771\\u839e\\u5f18\\u96fb/EMC\", \"2019/August/\\u8a31\\u51f1\\u667a/\\u6771\\u839e\\u5f18\\u96fb/EMC\", \"2019/December/\\u8a31\\u51f1\\u667a/\\u6771\\u839e\\u5f18\\u96fb/EMC\", \"2020/February/\\u8a31\\u51f1\\u667a/\\u6771\\u839e\\u5f18\\u96fb/EMC\", \"2019/July/\\u8a31\\u51f1\\u667a/\\u6771\\u839e\\u5f18\\u96fb/EMC\", \"2019/June/\\u8a31\\u51f1\\u667a/\\u6771\\u839e\\u5f18\\u96fb/EMC\", \"2019/May/\\u8a31\\u51f1\\u667a/\\u6771\\u839e\\u5f18\\u96fb/EMC\", \"2020/May/\\u8a31\\u51f1\\u667a/\\u6771\\u839e\\u5f18\\u96fb/EMC\", \"2019/October/\\u8a31\\u51f1\\u667a/\\u6771\\u839e\\u5f18\\u96fb/EMC\", \"2019/September/\\u8a31\\u51f1\\u667a/\\u6771\\u839e\\u5f18\\u96fb/EMC\", \"2019/April/\\u8a31\\u51f1\\u667a/\\u83ef\\u65b0\\u79d1\\u6280/EMC\", \"2020/April/\\u8a31\\u51f1\\u667a/\\u83ef\\u65b0\\u79d1\\u6280/EMC\", \"2019/August/\\u8a31\\u51f1\\u667a/\\u83ef\\u65b0\\u79d1\\u6280/EMC\", \"2020/August/\\u8a31\\u51f1\\u667a/\\u83ef\\u65b0\\u79d1\\u6280/EMC\", \"2019/December/\\u8a31\\u51f1\\u667a/\\u83ef\\u65b0\\u79d1\\u6280/EMC\", \"2020/December/\\u8a31\\u51f1\\u667a/\\u83ef\\u65b0\\u79d1\\u6280/EMC\", \"2019/February/\\u8a31\\u51f1\\u667a/\\u83ef\\u65b0\\u79d1\\u6280/EMC\", \"2020/February/\\u8a31\\u51f1\\u667a/\\u83ef\\u65b0\\u79d1\\u6280/EMC\", \"2021/February/\\u8a31\\u51f1\\u667a/\\u83ef\\u65b0\\u79d1\\u6280/EMC\", \"2019/January/\\u8a31\\u51f1\\u667a/\\u83ef\\u65b0\\u79d1\\u6280/EMC\", \"2020/January/\\u8a31\\u51f1\\u667a/\\u83ef\\u65b0\\u79d1\\u6280/EMC\", \"2021/January/\\u8a31\\u51f1\\u667a/\\u83ef\\u65b0\\u79d1\\u6280/EMC\", \"2019/July/\\u8a31\\u51f1\\u667a/\\u83ef\\u65b0\\u79d1\\u6280/EMC\", \"2020/July/\\u8a31\\u51f1\\u667a/\\u83ef\\u65b0\\u79d1\\u6280/EMC\", \"2019/June/\\u8a31\\u51f1\\u667a/\\u83ef\\u65b0\\u79d1\\u6280/EMC\", \"2020/June/\\u8a31\\u51f1\\u667a/\\u83ef\\u65b0\\u79d1\\u6280/EMC\", \"2019/March/\\u8a31\\u51f1\\u667a/\\u83ef\\u65b0\\u79d1\\u6280/EMC\", \"2020/March/\\u8a31\\u51f1\\u667a/\\u83ef\\u65b0\\u79d1\\u6280/EMC\", \"2019/May/\\u8a31\\u51f1\\u667a/\\u83ef\\u65b0\\u79d1\\u6280/EMC\", \"2020/May/\\u8a31\\u51f1\\u667a/\\u83ef\\u65b0\\u79d1\\u6280/EMC\", \"2019/November/\\u8a31\\u51f1\\u667a/\\u83ef\\u65b0\\u79d1\\u6280/EMC\", \"2020/November/\\u8a31\\u51f1\\u667a/\\u83ef\\u65b0\\u79d1\\u6280/EMC\", \"2019/October/\\u8a31\\u51f1\\u667a/\\u83ef\\u65b0\\u79d1\\u6280/EMC\", \"2020/October/\\u8a31\\u51f1\\u667a/\\u83ef\\u65b0\\u79d1\\u6280/EMC\", \"2019/September/\\u8a31\\u51f1\\u667a/\\u83ef\\u65b0\\u79d1\\u6280/EMC\", \"2020/September/\\u8a31\\u51f1\\u667a/\\u83ef\\u65b0\\u79d1\\u6280/EMC\", \"2019/April/\\u6c88\\u601d\\u660e/LF OEM/ODM\", \"2020/April/\\u6c88\\u601d\\u660e/LF OEM/ODM\", \"2019/August/\\u6c88\\u601d\\u660e/LF OEM/ODM\", \"2020/August/\\u6c88\\u601d\\u660e/LF OEM/ODM\", \"2019/December/\\u6c88\\u601d\\u660e/LF OEM/ODM\", \"2020/December/\\u6c88\\u601d\\u660e/LF OEM/ODM\", \"2019/February/\\u6c88\\u601d\\u660e/LF OEM/ODM\", \"2020/February/\\u6c88\\u601d\\u660e/LF OEM/ODM\", \"2019/January/\\u6c88\\u601d\\u660e/LF OEM/ODM\", \"2020/January/\\u6c88\\u601d\\u660e/LF OEM/ODM\", \"2019/July/\\u6c88\\u601d\\u660e/LF OEM/ODM\", \"2020/July/\\u6c88\\u601d\\u660e/LF OEM/ODM\", \"2019/June/\\u6c88\\u601d\\u660e/LF OEM/ODM\", \"2020/June/\\u6c88\\u601d\\u660e/LF OEM/ODM\", \"2019/March/\\u6c88\\u601d\\u660e/LF OEM/ODM\", \"2020/March/\\u6c88\\u601d\\u660e/LF OEM/ODM\", \"2019/May/\\u6c88\\u601d\\u660e/LF OEM/ODM\", \"2020/May/\\u6c88\\u601d\\u660e/LF OEM/ODM\", \"2019/November/\\u6c88\\u601d\\u660e/LF OEM/ODM\", \"2020/November/\\u6c88\\u601d\\u660e/LF OEM/ODM\", \"2019/October/\\u6c88\\u601d\\u660e/LF OEM/ODM\", \"2020/October/\\u6c88\\u601d\\u660e/LF OEM/ODM\", \"2019/September/\\u6c88\\u601d\\u660e/LF OEM/ODM\", \"2020/September/\\u6c88\\u601d\\u660e/LF OEM/ODM\", \"2019/April/\\u6c88\\u601d\\u660e/Bourns/PC\", \"2020/April/\\u6c88\\u601d\\u660e/Bourns/PC\", \"2019/August/\\u6c88\\u601d\\u660e/Bourns/PC\", \"2020/August/\\u6c88\\u601d\\u660e/Bourns/PC\", \"2019/December/\\u6c88\\u601d\\u660e/Bourns/PC\", \"2020/December/\\u6c88\\u601d\\u660e/Bourns/PC\", \"2019/February/\\u6c88\\u601d\\u660e/Bourns/PC\", \"2020/February/\\u6c88\\u601d\\u660e/Bourns/PC\", \"2021/February/\\u6c88\\u601d\\u660e/Bourns/PC\", \"2019/January/\\u6c88\\u601d\\u660e/Bourns/PC\", \"2020/January/\\u6c88\\u601d\\u660e/Bourns/PC\", \"2021/January/\\u6c88\\u601d\\u660e/Bourns/PC\", \"2019/July/\\u6c88\\u601d\\u660e/Bourns/PC\", \"2020/July/\\u6c88\\u601d\\u660e/Bourns/PC\", \"2019/June/\\u6c88\\u601d\\u660e/Bourns/PC\", \"2020/June/\\u6c88\\u601d\\u660e/Bourns/PC\", \"2019/March/\\u6c88\\u601d\\u660e/Bourns/PC\", \"2020/March/\\u6c88\\u601d\\u660e/Bourns/PC\", \"2021/March/\\u6c88\\u601d\\u660e/Bourns/PC\", \"2019/May/\\u6c88\\u601d\\u660e/Bourns/PC\", \"2020/May/\\u6c88\\u601d\\u660e/Bourns/PC\", \"2019/November/\\u6c88\\u601d\\u660e/Bourns/PC\", \"2020/November/\\u6c88\\u601d\\u660e/Bourns/PC\", \"2019/October/\\u6c88\\u601d\\u660e/Bourns/PC\", \"2020/October/\\u6c88\\u601d\\u660e/Bourns/PC\", \"2019/September/\\u6c88\\u601d\\u660e/Bourns/PC\", \"2020/September/\\u6c88\\u601d\\u660e/Bourns/PC\", \"2019/April/\\u6c88\\u601d\\u660e/Eaton/PC\", \"2020/April/\\u6c88\\u601d\\u660e/Eaton/PC\", \"2019/August/\\u6c88\\u601d\\u660e/Eaton/PC\", \"2020/August/\\u6c88\\u601d\\u660e/Eaton/PC\", \"2019/December/\\u6c88\\u601d\\u660e/Eaton/PC\", \"2020/December/\\u6c88\\u601d\\u660e/Eaton/PC\", \"2019/February/\\u6c88\\u601d\\u660e/Eaton/PC\", \"2020/February/\\u6c88\\u601d\\u660e/Eaton/PC\", \"2019/January/\\u6c88\\u601d\\u660e/Eaton/PC\", \"2020/January/\\u6c88\\u601d\\u660e/Eaton/PC\", \"2021/January/\\u6c88\\u601d\\u660e/Eaton/PC\", \"2019/July/\\u6c88\\u601d\\u660e/Eaton/PC\", \"2020/July/\\u6c88\\u601d\\u660e/Eaton/PC\", \"2019/June/\\u6c88\\u601d\\u660e/Eaton/PC\", \"2020/June/\\u6c88\\u601d\\u660e/Eaton/PC\", \"2019/March/\\u6c88\\u601d\\u660e/Eaton/PC\", \"2020/March/\\u6c88\\u601d\\u660e/Eaton/PC\", \"2019/May/\\u6c88\\u601d\\u660e/Eaton/PC\", \"2020/May/\\u6c88\\u601d\\u660e/Eaton/PC\", \"2019/November/\\u6c88\\u601d\\u660e/Eaton/PC\", \"2020/November/\\u6c88\\u601d\\u660e/Eaton/PC\", \"2019/October/\\u6c88\\u601d\\u660e/Eaton/PC\", \"2020/October/\\u6c88\\u601d\\u660e/Eaton/PC\", \"2019/September/\\u6c88\\u601d\\u660e/Eaton/PC\", \"2020/September/\\u6c88\\u601d\\u660e/Eaton/PC\", \"2020/March/\\u58a8\\u6f22\\u96f7\\u8fea/Fides/PC\", \"2019/April/\\u6c88\\u601d\\u660e/LF/PC\", \"2020/April/\\u6c88\\u601d\\u660e/LF/PC\", \"2019/August/\\u6c88\\u601d\\u660e/LF/PC\", \"2020/August/\\u6c88\\u601d\\u660e/LF/PC\", \"2019/December/\\u6c88\\u601d\\u660e/LF/PC\", \"2020/December/\\u6c88\\u601d\\u660e/LF/PC\", \"2019/February/\\u6c88\\u601d\\u660e/LF/PC\", \"2020/February/\\u6c88\\u601d\\u660e/LF/PC\", \"2019/January/\\u6c88\\u601d\\u660e/LF/PC\", \"2020/January/\\u6c88\\u601d\\u660e/LF/PC\", \"2019/July/\\u6c88\\u601d\\u660e/LF/PC\", \"2020/July/\\u6c88\\u601d\\u660e/LF/PC\", \"2019/June/\\u6c88\\u601d\\u660e/LF/PC\", \"2020/June/\\u6c88\\u601d\\u660e/LF/PC\", \"2019/March/\\u6c88\\u601d\\u660e/LF/PC\", \"2020/March/\\u6c88\\u601d\\u660e/LF/PC\", \"2019/May/\\u6c88\\u601d\\u660e/LF/PC\", \"2020/May/\\u6c88\\u601d\\u660e/LF/PC\", \"2019/November/\\u6c88\\u601d\\u660e/LF/PC\", \"2020/November/\\u6c88\\u601d\\u660e/LF/PC\", \"2019/October/\\u6c88\\u601d\\u660e/LF/PC\", \"2020/October/\\u6c88\\u601d\\u660e/LF/PC\", \"2019/September/\\u6c88\\u601d\\u660e/LF/PC\", \"2020/September/\\u6c88\\u601d\\u660e/LF/PC\", \"2020/July/\\u6c88\\u601d\\u660e/LF OEM/PC\", \"2020/October/\\u6c88\\u601d\\u660e/LF OEM/PC\", \"2019/September/\\u6c88\\u601d\\u660e/LF OEM/PC\", \"2020/August/\\u6c88\\u601d\\u660e/Laird/PC\", \"2020/July/\\u6c88\\u601d\\u660e/Laird/PC\", \"2020/August/\\u58a8\\u6f22\\u96f7\\u8fea/M.S./PC\", \"2019/April/\\u8a31\\u51f1\\u667a/MT-SYSTEM/PC\", \"2020/April/\\u8a31\\u51f1\\u667a/MT-SYSTEM/PC\", \"2019/August/\\u8a31\\u51f1\\u667a/MT-SYSTEM/PC\", \"2019/December/\\u8a31\\u51f1\\u667a/MT-SYSTEM/PC\", \"2020/December/\\u8a31\\u51f1\\u667a/MT-SYSTEM/PC\", \"2020/February/\\u8a31\\u51f1\\u667a/MT-SYSTEM/PC\", \"2019/July/\\u8a31\\u51f1\\u667a/MT-SYSTEM/PC\", \"2019/June/\\u8a31\\u51f1\\u667a/MT-SYSTEM/PC\", \"2020/June/\\u8a31\\u51f1\\u667a/MT-SYSTEM/PC\", \"2019/March/\\u8a31\\u51f1\\u667a/MT-SYSTEM/PC\", \"2020/March/\\u8a31\\u51f1\\u667a/MT-SYSTEM/PC\", \"2019/May/\\u8a31\\u51f1\\u667a/MT-SYSTEM/PC\", \"2020/November/\\u8a31\\u51f1\\u667a/MT-SYSTEM/PC\", \"2019/October/\\u8a31\\u51f1\\u667a/MT-SYSTEM/PC\", \"2020/October/\\u8a31\\u51f1\\u667a/MT-SYSTEM/PC\", \"2020/September/\\u8a31\\u51f1\\u667a/MT-SYSTEM/PC\", \"2019/April/\\u6c88\\u601d\\u660e/WE/PC\", \"2020/April/\\u6c88\\u601d\\u660e/WE/PC\", \"2021/April/\\u6c88\\u601d\\u660e/WE/PC\", \"2019/August/\\u6c88\\u601d\\u660e/WE/PC\", \"2020/August/\\u6c88\\u601d\\u660e/WE/PC\", \"2021/August/\\u6c88\\u601d\\u660e/WE/PC\", \"2019/December/\\u6c88\\u601d\\u660e/WE/PC\", \"2020/December/\\u6c88\\u601d\\u660e/WE/PC\", \"2019/February/\\u6c88\\u601d\\u660e/WE/PC\", \"2020/February/\\u6c88\\u601d\\u660e/WE/PC\", \"2021/February/\\u6c88\\u601d\\u660e/WE/PC\", \"2019/January/\\u6c88\\u601d\\u660e/WE/PC\", \"2020/January/\\u6c88\\u601d\\u660e/WE/PC\", \"2021/January/\\u6c88\\u601d\\u660e/WE/PC\", \"2019/July/\\u6c88\\u601d\\u660e/WE/PC\", \"2020/July/\\u6c88\\u601d\\u660e/WE/PC\", \"2019/June/\\u6c88\\u601d\\u660e/WE/PC\", \"2020/June/\\u6c88\\u601d\\u660e/WE/PC\", \"2021/June/\\u6c88\\u601d\\u660e/WE/PC\", \"2019/March/\\u6c88\\u601d\\u660e/WE/PC\", \"2020/March/\\u6c88\\u601d\\u660e/WE/PC\", \"2021/March/\\u6c88\\u601d\\u660e/WE/PC\", \"2019/May/\\u6c88\\u601d\\u660e/WE/PC\", \"2020/May/\\u6c88\\u601d\\u660e/WE/PC\", \"2019/November/\\u6c88\\u601d\\u660e/WE/PC\", \"2020/November/\\u6c88\\u601d\\u660e/WE/PC\", \"2019/October/\\u6c88\\u601d\\u660e/WE/PC\", \"2020/October/\\u6c88\\u601d\\u660e/WE/PC\", \"2019/September/\\u6c88\\u601d\\u660e/WE/PC\", \"2020/September/\\u6c88\\u601d\\u660e/WE/PC\", \"2019/October/\\u58a8\\u6f22\\u96f7\\u8fea/WiSilica/PC\", \"2020/November/\\u8a31\\u51f1\\u667a/Zebra/PC\", \"2019/April/\\u8a31\\u51f1\\u667a/\\u83ef\\u65b0\\u79d1\\u6280/PC\", \"2020/April/\\u8a31\\u51f1\\u667a/\\u83ef\\u65b0\\u79d1\\u6280/PC\", \"2019/August/\\u8a31\\u51f1\\u667a/\\u83ef\\u65b0\\u79d1\\u6280/PC\", \"2020/August/\\u8a31\\u51f1\\u667a/\\u83ef\\u65b0\\u79d1\\u6280/PC\", \"2019/December/\\u8a31\\u51f1\\u667a/\\u83ef\\u65b0\\u79d1\\u6280/PC\", \"2020/February/\\u8a31\\u51f1\\u667a/\\u83ef\\u65b0\\u79d1\\u6280/PC\", \"2020/January/\\u8a31\\u51f1\\u667a/\\u83ef\\u65b0\\u79d1\\u6280/PC\", \"2019/July/\\u8a31\\u51f1\\u667a/\\u83ef\\u65b0\\u79d1\\u6280/PC\", \"2020/July/\\u8a31\\u51f1\\u667a/\\u83ef\\u65b0\\u79d1\\u6280/PC\", \"2020/June/\\u8a31\\u51f1\\u667a/\\u83ef\\u65b0\\u79d1\\u6280/PC\", \"2019/March/\\u8a31\\u51f1\\u667a/\\u83ef\\u65b0\\u79d1\\u6280/PC\", \"2020/March/\\u8a31\\u51f1\\u667a/\\u83ef\\u65b0\\u79d1\\u6280/PC\", \"2020/May/\\u8a31\\u51f1\\u667a/\\u83ef\\u65b0\\u79d1\\u6280/PC\", \"2019/November/\\u8a31\\u51f1\\u667a/\\u83ef\\u65b0\\u79d1\\u6280/PC\", \"2019/October/\\u8a31\\u51f1\\u667a/\\u83ef\\u65b0\\u79d1\\u6280/PC\", \"2020/October/\\u8a31\\u51f1\\u667a/\\u83ef\\u65b0\\u79d1\\u6280/PC\", \"2019/September/\\u8a31\\u51f1\\u667a/\\u83ef\\u65b0\\u79d1\\u6280/PC\", \"2020/September/\\u8a31\\u51f1\\u667a/\\u83ef\\u65b0\\u79d1\\u6280/PC\", \"2020/April/\\u6c88\\u601d\\u660e/Bourns/RF\", \"2019/August/\\u6c88\\u601d\\u660e/Bourns/RF\", \"2019/December/\\u6c88\\u601d\\u660e/Bourns/RF\", \"2020/December/\\u6c88\\u601d\\u660e/Bourns/RF\", \"2021/January/\\u6c88\\u601d\\u660e/Bourns/RF\", \"2019/July/\\u6c88\\u601d\\u660e/Bourns/RF\", \"2020/July/\\u6c88\\u601d\\u660e/Bourns/RF\", \"2019/June/\\u6c88\\u601d\\u660e/Bourns/RF\", \"2020/June/\\u6c88\\u601d\\u660e/Bourns/RF\", \"2020/March/\\u6c88\\u601d\\u660e/Bourns/RF\", \"2019/May/\\u6c88\\u601d\\u660e/Bourns/RF\", \"2020/May/\\u6c88\\u601d\\u660e/Bourns/RF\", \"2019/November/\\u6c88\\u601d\\u660e/Bourns/RF\", \"2020/November/\\u6c88\\u601d\\u660e/Bourns/RF\", \"2019/October/\\u6c88\\u601d\\u660e/Bourns/RF\", \"2020/October/\\u6c88\\u601d\\u660e/Bourns/RF\", \"2019/September/\\u6c88\\u601d\\u660e/Bourns/RF\", \"2020/September/\\u6c88\\u601d\\u660e/Bourns/RF\", \"2019/November/\\u58a8\\u6f22\\u96f7\\u8fea/Credence/RF\", \"2019/May/\\u58a8\\u6f22\\u96f7\\u8fea/Eteily/RF\", \"2019/November/\\u58a8\\u6f22\\u96f7\\u8fea/Eteily/RF\", \"2020/November/\\u58a8\\u6f22\\u96f7\\u8fea/FIRST EN/RF\", \"2020/August/\\u58a8\\u6f22\\u96f7\\u8fea/G -PLAST/RF\", \"2021/January/\\u58a8\\u6f22\\u96f7\\u8fea/G -PLAST/RF\", \"2020/November/\\u58a8\\u6f22\\u96f7\\u8fea/G -PLAST/RF\", \"2020/October/\\u58a8\\u6f22\\u96f7\\u8fea/G -PLAST/RF\", \"2019/April/\\u58a8\\u6f22\\u96f7\\u8fea/Globalte/RF\", \"2020/November/\\u58a8\\u6f22\\u96f7\\u8fea/JBJ/RF\", \"2020/October/\\u58a8\\u6f22\\u96f7\\u8fea/JBJ/RF\", \"2020/August/\\u58a8\\u6f22\\u96f7\\u8fea/M.S./RF\", \"2019/December/\\u58a8\\u6f22\\u96f7\\u8fea/M.S./RF\", \"2020/June/\\u58a8\\u6f22\\u96f7\\u8fea/M.S./RF\", \"2020/November/\\u58a8\\u6f22\\u96f7\\u8fea/M.S./RF\", \"2020/September/\\u58a8\\u6f22\\u96f7\\u8fea/M.S./RF\", \"2020/August/\\u58a8\\u6f22\\u96f7\\u8fea/MATE/RF\", \"2020/July/\\u58a8\\u6f22\\u96f7\\u8fea/MATE/RF\", \"2020/November/\\u58a8\\u6f22\\u96f7\\u8fea/MATE/RF\", \"2020/October/\\u58a8\\u6f22\\u96f7\\u8fea/MATE/RF\", \"2019/April/\\u8a31\\u51f1\\u667a/MT-SYSTEM/RF\", \"2020/April/\\u8a31\\u51f1\\u667a/MT-SYSTEM/RF\", \"2019/August/\\u8a31\\u51f1\\u667a/MT-SYSTEM/RF\", \"2020/August/\\u8a31\\u51f1\\u667a/MT-SYSTEM/RF\", \"2019/December/\\u8a31\\u51f1\\u667a/MT-SYSTEM/RF\", \"2020/December/\\u8a31\\u51f1\\u667a/MT-SYSTEM/RF\", \"2020/February/\\u8a31\\u51f1\\u667a/MT-SYSTEM/RF\", \"2019/January/\\u8a31\\u51f1\\u667a/MT-SYSTEM/RF\", \"2020/January/\\u8a31\\u51f1\\u667a/MT-SYSTEM/RF\", \"2019/July/\\u8a31\\u51f1\\u667a/MT-SYSTEM/RF\", \"2020/July/\\u8a31\\u51f1\\u667a/MT-SYSTEM/RF\", \"2019/June/\\u8a31\\u51f1\\u667a/MT-SYSTEM/RF\", \"2020/June/\\u8a31\\u51f1\\u667a/MT-SYSTEM/RF\", \"2019/March/\\u8a31\\u51f1\\u667a/MT-SYSTEM/RF\", \"2019/May/\\u8a31\\u51f1\\u667a/MT-SYSTEM/RF\", \"2019/November/\\u8a31\\u51f1\\u667a/MT-SYSTEM/RF\", \"2020/November/\\u8a31\\u51f1\\u667a/MT-SYSTEM/RF\", \"2019/October/\\u8a31\\u51f1\\u667a/MT-SYSTEM/RF\", \"2020/October/\\u8a31\\u51f1\\u667a/MT-SYSTEM/RF\", \"2019/September/\\u8a31\\u51f1\\u667a/MT-SYSTEM/RF\", \"2020/September/\\u8a31\\u51f1\\u667a/MT-SYSTEM/RF\", \"2020/August/\\u58a8\\u6f22\\u96f7\\u8fea/Nexty/RF\", \"2020/August/\\u58a8\\u6f22\\u96f7\\u8fea/SSF/RF\", \"2020/November/\\u58a8\\u6f22\\u96f7\\u8fea/SSF/RF\", \"2020/October/\\u58a8\\u6f22\\u96f7\\u8fea/SSF/RF\", \"2020/November/\\u58a8\\u6f22\\u96f7\\u8fea/Sancraft/RF\", \"2019/July/\\u8a31\\u51f1\\u667a/TE /RF\", \"2020/June/\\u8a31\\u51f1\\u667a/TE /RF\", \"2019/October/\\u8a31\\u51f1\\u667a/TE /RF\", \"2019/September/\\u8a31\\u51f1\\u667a/TE /RF\", \"2019/April/\\u8a31\\u51f1\\u667a/TELTONIKA/RF\", \"2020/April/\\u8a31\\u51f1\\u667a/TELTONIKA/RF\", \"2019/August/\\u8a31\\u51f1\\u667a/TELTONIKA/RF\", \"2020/August/\\u8a31\\u51f1\\u667a/TELTONIKA/RF\", \"2019/December/\\u8a31\\u51f1\\u667a/TELTONIKA/RF\", \"2020/December/\\u8a31\\u51f1\\u667a/TELTONIKA/RF\", \"2019/February/\\u8a31\\u51f1\\u667a/TELTONIKA/RF\", \"2020/February/\\u8a31\\u51f1\\u667a/TELTONIKA/RF\", \"2019/January/\\u8a31\\u51f1\\u667a/TELTONIKA/RF\", \"2020/January/\\u8a31\\u51f1\\u667a/TELTONIKA/RF\", \"2021/January/\\u8a31\\u51f1\\u667a/TELTONIKA/RF\", \"2019/July/\\u8a31\\u51f1\\u667a/TELTONIKA/RF\", \"2020/July/\\u8a31\\u51f1\\u667a/TELTONIKA/RF\", \"2019/June/\\u8a31\\u51f1\\u667a/TELTONIKA/RF\", \"2020/June/\\u8a31\\u51f1\\u667a/TELTONIKA/RF\", \"2019/March/\\u8a31\\u51f1\\u667a/TELTONIKA/RF\", \"2020/March/\\u8a31\\u51f1\\u667a/TELTONIKA/RF\", \"2019/May/\\u8a31\\u51f1\\u667a/TELTONIKA/RF\", \"2020/May/\\u8a31\\u51f1\\u667a/TELTONIKA/RF\", \"2019/November/\\u8a31\\u51f1\\u667a/TELTONIKA/RF\", \"2020/November/\\u8a31\\u51f1\\u667a/TELTONIKA/RF\", \"2019/October/\\u8a31\\u51f1\\u667a/TELTONIKA/RF\", \"2020/October/\\u8a31\\u51f1\\u667a/TELTONIKA/RF\", \"2019/September/\\u8a31\\u51f1\\u667a/TELTONIKA/RF\", \"2020/September/\\u8a31\\u51f1\\u667a/TELTONIKA/RF\", \"2020/November/\\u58a8\\u6f22\\u96f7\\u8fea/Univa Te/RF\", \"2020/October/\\u58a8\\u6f22\\u96f7\\u8fea/Univa Te/RF\", \"2020/January/\\u6c88\\u601d\\u660e/WE/RF\", \"2020/May/\\u6c88\\u601d\\u660e/WE/RF\", \"2020/February/\\u8a31\\u51f1\\u667a/Zebra/RF\", \"2020/August/\\u8a31\\u51f1\\u667a/\\u83ef\\u65b0\\u79d1\\u6280/RF\", \"2020/July/\\u8a31\\u51f1\\u667a/\\u83ef\\u65b0\\u79d1\\u6280/RF\", \"2020/June/\\u8a31\\u51f1\\u667a/\\u83ef\\u65b0\\u79d1\\u6280/RF\", \"2020/October/\\u8a31\\u51f1\\u667a/\\u83ef\\u65b0\\u79d1\\u6280/RF\", \"2020/September/\\u8a31\\u51f1\\u667a/\\u83ef\\u65b0\\u79d1\\u6280/RF\", \"2019/April/\\u6c88\\u601d\\u660e/Bourns/WIP\", \"2020/April/\\u6c88\\u601d\\u660e/Bourns/WIP\", \"2019/August/\\u6c88\\u601d\\u660e/Bourns/WIP\", \"2020/August/\\u6c88\\u601d\\u660e/Bourns/WIP\", \"2019/December/\\u6c88\\u601d\\u660e/Bourns/WIP\", \"2020/December/\\u6c88\\u601d\\u660e/Bourns/WIP\", \"2019/February/\\u6c88\\u601d\\u660e/Bourns/WIP\", \"2020/February/\\u6c88\\u601d\\u660e/Bourns/WIP\", \"2021/February/\\u6c88\\u601d\\u660e/Bourns/WIP\", \"2019/January/\\u6c88\\u601d\\u660e/Bourns/WIP\", \"2020/January/\\u6c88\\u601d\\u660e/Bourns/WIP\", \"2021/January/\\u6c88\\u601d\\u660e/Bourns/WIP\", \"2019/July/\\u6c88\\u601d\\u660e/Bourns/WIP\", \"2020/July/\\u6c88\\u601d\\u660e/Bourns/WIP\", \"2019/June/\\u6c88\\u601d\\u660e/Bourns/WIP\", \"2020/June/\\u6c88\\u601d\\u660e/Bourns/WIP\", \"2019/March/\\u6c88\\u601d\\u660e/Bourns/WIP\", \"2020/March/\\u6c88\\u601d\\u660e/Bourns/WIP\", \"2019/May/\\u6c88\\u601d\\u660e/Bourns/WIP\", \"2020/May/\\u6c88\\u601d\\u660e/Bourns/WIP\", \"2019/November/\\u6c88\\u601d\\u660e/Bourns/WIP\", \"2020/November/\\u6c88\\u601d\\u660e/Bourns/WIP\", \"2019/October/\\u6c88\\u601d\\u660e/Bourns/WIP\", \"2020/October/\\u6c88\\u601d\\u660e/Bourns/WIP\", \"2019/September/\\u6c88\\u601d\\u660e/Bourns/WIP\", \"2020/September/\\u6c88\\u601d\\u660e/Bourns/WIP\", \"2019/April/\\u6c88\\u601d\\u660e/Eaton/WIP\", \"2020/April/\\u6c88\\u601d\\u660e/Eaton/WIP\", \"2019/August/\\u6c88\\u601d\\u660e/Eaton/WIP\", \"2020/August/\\u6c88\\u601d\\u660e/Eaton/WIP\", \"2019/December/\\u6c88\\u601d\\u660e/Eaton/WIP\", \"2020/December/\\u6c88\\u601d\\u660e/Eaton/WIP\", \"2019/February/\\u6c88\\u601d\\u660e/Eaton/WIP\", \"2020/February/\\u6c88\\u601d\\u660e/Eaton/WIP\", \"2019/January/\\u6c88\\u601d\\u660e/Eaton/WIP\", \"2020/January/\\u6c88\\u601d\\u660e/Eaton/WIP\", \"2021/January/\\u6c88\\u601d\\u660e/Eaton/WIP\", \"2019/July/\\u6c88\\u601d\\u660e/Eaton/WIP\", \"2019/June/\\u6c88\\u601d\\u660e/Eaton/WIP\", \"2020/June/\\u6c88\\u601d\\u660e/Eaton/WIP\", \"2019/March/\\u6c88\\u601d\\u660e/Eaton/WIP\", \"2020/March/\\u6c88\\u601d\\u660e/Eaton/WIP\", \"2019/May/\\u6c88\\u601d\\u660e/Eaton/WIP\", \"2020/May/\\u6c88\\u601d\\u660e/Eaton/WIP\", \"2019/November/\\u6c88\\u601d\\u660e/Eaton/WIP\", \"2020/November/\\u6c88\\u601d\\u660e/Eaton/WIP\", \"2019/October/\\u6c88\\u601d\\u660e/Eaton/WIP\", \"2020/October/\\u6c88\\u601d\\u660e/Eaton/WIP\", \"2019/September/\\u6c88\\u601d\\u660e/Eaton/WIP\", \"2020/September/\\u6c88\\u601d\\u660e/Eaton/WIP\", \"2019/April/\\u6c88\\u601d\\u660e/Laird/WIP\", \"2020/April/\\u6c88\\u601d\\u660e/Laird/WIP\", \"2020/August/\\u6c88\\u601d\\u660e/Laird/WIP\", \"2019/December/\\u6c88\\u601d\\u660e/Laird/WIP\", \"2020/December/\\u6c88\\u601d\\u660e/Laird/WIP\", \"2019/February/\\u6c88\\u601d\\u660e/Laird/WIP\", \"2020/February/\\u6c88\\u601d\\u660e/Laird/WIP\", \"2019/January/\\u6c88\\u601d\\u660e/Laird/WIP\", \"2020/January/\\u6c88\\u601d\\u660e/Laird/WIP\", \"2021/January/\\u6c88\\u601d\\u660e/Laird/WIP\", \"2020/July/\\u6c88\\u601d\\u660e/Laird/WIP\", \"2019/June/\\u6c88\\u601d\\u660e/Laird/WIP\", \"2020/June/\\u6c88\\u601d\\u660e/Laird/WIP\", \"2020/March/\\u6c88\\u601d\\u660e/Laird/WIP\", \"2020/May/\\u6c88\\u601d\\u660e/Laird/WIP\", \"2019/November/\\u6c88\\u601d\\u660e/Laird/WIP\", \"2020/November/\\u6c88\\u601d\\u660e/Laird/WIP\", \"2019/October/\\u6c88\\u601d\\u660e/Laird/WIP\", \"2020/October/\\u6c88\\u601d\\u660e/Laird/WIP\", \"2020/September/\\u6c88\\u601d\\u660e/Laird/WIP\", \"2019/April/\\u8a31\\u51f1\\u667a/MT-SYSTEM/WIP\", \"2020/April/\\u8a31\\u51f1\\u667a/MT-SYSTEM/WIP\", \"2019/August/\\u8a31\\u51f1\\u667a/MT-SYSTEM/WIP\", \"2020/August/\\u8a31\\u51f1\\u667a/MT-SYSTEM/WIP\", \"2019/December/\\u8a31\\u51f1\\u667a/MT-SYSTEM/WIP\", \"2020/December/\\u8a31\\u51f1\\u667a/MT-SYSTEM/WIP\", \"2020/February/\\u8a31\\u51f1\\u667a/MT-SYSTEM/WIP\", \"2019/January/\\u8a31\\u51f1\\u667a/MT-SYSTEM/WIP\", \"2019/July/\\u8a31\\u51f1\\u667a/MT-SYSTEM/WIP\", \"2019/June/\\u8a31\\u51f1\\u667a/MT-SYSTEM/WIP\", \"2020/June/\\u8a31\\u51f1\\u667a/MT-SYSTEM/WIP\", \"2019/March/\\u8a31\\u51f1\\u667a/MT-SYSTEM/WIP\", \"2020/March/\\u8a31\\u51f1\\u667a/MT-SYSTEM/WIP\", \"2019/May/\\u8a31\\u51f1\\u667a/MT-SYSTEM/WIP\", \"2019/October/\\u8a31\\u51f1\\u667a/MT-SYSTEM/WIP\", \"2019/December/\\u8a31\\u51f1\\u667a/TELTONIKA/WIP\", \"2020/December/\\u8a31\\u51f1\\u667a/TELTONIKA/WIP\", \"2020/January/\\u8a31\\u51f1\\u667a/TELTONIKA/WIP\", \"2021/January/\\u8a31\\u51f1\\u667a/TELTONIKA/WIP\", \"2020/November/\\u8a31\\u51f1\\u667a/TELTONIKA/WIP\", \"2019/October/\\u8a31\\u51f1\\u667a/TELTONIKA/WIP\", \"2020/October/\\u8a31\\u51f1\\u667a/TELTONIKA/WIP\", \"2019/September/\\u8a31\\u51f1\\u667a/TELTONIKA/WIP\", \"2019/April/\\u8a31\\u51f1\\u667a/\\u4fe1\\u660c/WIP\", \"2020/April/\\u8a31\\u51f1\\u667a/\\u4fe1\\u660c/WIP\", \"2021/April/\\u8a31\\u51f1\\u667a/\\u4fe1\\u660c/WIP\", \"2022/April/\\u8a31\\u51f1\\u667a/\\u4fe1\\u660c/WIP\", \"2019/August/\\u8a31\\u51f1\\u667a/\\u4fe1\\u660c/WIP\", \"2020/August/\\u8a31\\u51f1\\u667a/\\u4fe1\\u660c/WIP\", \"2021/August/\\u8a31\\u51f1\\u667a/\\u4fe1\\u660c/WIP\", \"2019/December/\\u8a31\\u51f1\\u667a/\\u4fe1\\u660c/WIP\", \"2020/December/\\u8a31\\u51f1\\u667a/\\u4fe1\\u660c/WIP\", \"2021/December/\\u8a31\\u51f1\\u667a/\\u4fe1\\u660c/WIP\", \"2019/February/\\u8a31\\u51f1\\u667a/\\u4fe1\\u660c/WIP\", \"2020/February/\\u8a31\\u51f1\\u667a/\\u4fe1\\u660c/WIP\", \"2021/February/\\u8a31\\u51f1\\u667a/\\u4fe1\\u660c/WIP\", \"2022/February/\\u8a31\\u51f1\\u667a/\\u4fe1\\u660c/WIP\", \"2019/January/\\u8a31\\u51f1\\u667a/\\u4fe1\\u660c/WIP\", \"2020/January/\\u8a31\\u51f1\\u667a/\\u4fe1\\u660c/WIP\", \"2021/January/\\u8a31\\u51f1\\u667a/\\u4fe1\\u660c/WIP\", \"2022/January/\\u8a31\\u51f1\\u667a/\\u4fe1\\u660c/WIP\", \"2019/July/\\u8a31\\u51f1\\u667a/\\u4fe1\\u660c/WIP\", \"2020/July/\\u8a31\\u51f1\\u667a/\\u4fe1\\u660c/WIP\", \"2021/July/\\u8a31\\u51f1\\u667a/\\u4fe1\\u660c/WIP\", \"2019/June/\\u8a31\\u51f1\\u667a/\\u4fe1\\u660c/WIP\", \"2020/June/\\u8a31\\u51f1\\u667a/\\u4fe1\\u660c/WIP\", \"2019/March/\\u8a31\\u51f1\\u667a/\\u4fe1\\u660c/WIP\", \"2020/March/\\u8a31\\u51f1\\u667a/\\u4fe1\\u660c/WIP\", \"2021/March/\\u8a31\\u51f1\\u667a/\\u4fe1\\u660c/WIP\", \"2022/March/\\u8a31\\u51f1\\u667a/\\u4fe1\\u660c/WIP\", \"2019/May/\\u8a31\\u51f1\\u667a/\\u4fe1\\u660c/WIP\", \"2020/May/\\u8a31\\u51f1\\u667a/\\u4fe1\\u660c/WIP\", \"2021/May/\\u8a31\\u51f1\\u667a/\\u4fe1\\u660c/WIP\", \"2022/May/\\u8a31\\u51f1\\u667a/\\u4fe1\\u660c/WIP\", \"2019/November/\\u8a31\\u51f1\\u667a/\\u4fe1\\u660c/WIP\", \"2020/November/\\u8a31\\u51f1\\u667a/\\u4fe1\\u660c/WIP\", \"2021/November/\\u8a31\\u51f1\\u667a/\\u4fe1\\u660c/WIP\", \"2019/October/\\u8a31\\u51f1\\u667a/\\u4fe1\\u660c/WIP\", \"2020/October/\\u8a31\\u51f1\\u667a/\\u4fe1\\u660c/WIP\", \"2019/September/\\u8a31\\u51f1\\u667a/\\u4fe1\\u660c/WIP\", \"2020/September/\\u8a31\\u51f1\\u667a/\\u4fe1\\u660c/WIP\", \"2021/September/\\u8a31\\u51f1\\u667a/\\u4fe1\\u660c/WIP\", \"2020/April/\\u8a31\\u51f1\\u667a/\\u83ef\\u65b0\\u79d1\\u6280/WIP\", \"2020/August/\\u8a31\\u51f1\\u667a/\\u83ef\\u65b0\\u79d1\\u6280/WIP\", \"2020/February/\\u8a31\\u51f1\\u667a/\\u83ef\\u65b0\\u79d1\\u6280/WIP\", \"2020/June/\\u8a31\\u51f1\\u667a/\\u83ef\\u65b0\\u79d1\\u6280/WIP\", \"2020/May/\\u8a31\\u51f1\\u667a/\\u83ef\\u65b0\\u79d1\\u6280/WIP\", \"2020/September/\\u8a31\\u51f1\\u667a/\\u83ef\\u65b0\\u79d1\\u6280/WIP\", \"2020/April/\\u8a31\\u51f1\\u667a/\\u85dd\\u611f/WIP\", \"2021/April/\\u8a31\\u51f1\\u667a/\\u85dd\\u611f/WIP\", \"2020/August/\\u8a31\\u51f1\\u667a/\\u85dd\\u611f/WIP\", \"2019/December/\\u8a31\\u51f1\\u667a/\\u85dd\\u611f/WIP\", \"2020/December/\\u8a31\\u51f1\\u667a/\\u85dd\\u611f/WIP\", \"2020/February/\\u8a31\\u51f1\\u667a/\\u85dd\\u611f/WIP\", \"2021/February/\\u8a31\\u51f1\\u667a/\\u85dd\\u611f/WIP\", \"2020/January/\\u8a31\\u51f1\\u667a/\\u85dd\\u611f/WIP\", \"2021/January/\\u8a31\\u51f1\\u667a/\\u85dd\\u611f/WIP\", \"2019/July/\\u8a31\\u51f1\\u667a/\\u85dd\\u611f/WIP\", \"2020/July/\\u8a31\\u51f1\\u667a/\\u85dd\\u611f/WIP\", \"2020/June/\\u8a31\\u51f1\\u667a/\\u85dd\\u611f/WIP\", \"2020/March/\\u8a31\\u51f1\\u667a/\\u85dd\\u611f/WIP\", \"2021/March/\\u8a31\\u51f1\\u667a/\\u85dd\\u611f/WIP\", \"2020/May/\\u8a31\\u51f1\\u667a/\\u85dd\\u611f/WIP\", \"2021/May/\\u8a31\\u51f1\\u667a/\\u85dd\\u611f/WIP\", \"2019/November/\\u8a31\\u51f1\\u667a/\\u85dd\\u611f/WIP\", \"2020/November/\\u8a31\\u51f1\\u667a/\\u85dd\\u611f/WIP\", \"2019/October/\\u8a31\\u51f1\\u667a/\\u85dd\\u611f/WIP\", \"2020/October/\\u8a31\\u51f1\\u667a/\\u85dd\\u611f/WIP\", \"2020/September/\\u8a31\\u51f1\\u667a/\\u85dd\\u611f/WIP\", \"2019/April/\\u6c88\\u601d\\u660e/Bourns\", \"2020/April/\\u6c88\\u601d\\u660e/Bourns\", \"2019/August/\\u6c88\\u601d\\u660e/Bourns\", \"2020/August/\\u6c88\\u601d\\u660e/Bourns\", \"2019/December/\\u6c88\\u601d\\u660e/Bourns\", \"2020/December/\\u6c88\\u601d\\u660e/Bourns\", \"2019/February/\\u6c88\\u601d\\u660e/Bourns\", \"2020/February/\\u6c88\\u601d\\u660e/Bourns\", \"2021/February/\\u6c88\\u601d\\u660e/Bourns\", \"2019/January/\\u6c88\\u601d\\u660e/Bourns\", \"2020/January/\\u6c88\\u601d\\u660e/Bourns\", \"2021/January/\\u6c88\\u601d\\u660e/Bourns\", \"2019/July/\\u6c88\\u601d\\u660e/Bourns\", \"2020/July/\\u6c88\\u601d\\u660e/Bourns\", \"2019/June/\\u6c88\\u601d\\u660e/Bourns\", \"2020/June/\\u6c88\\u601d\\u660e/Bourns\", \"2019/March/\\u6c88\\u601d\\u660e/Bourns\", \"2020/March/\\u6c88\\u601d\\u660e/Bourns\", \"2021/March/\\u6c88\\u601d\\u660e/Bourns\", \"2019/May/\\u6c88\\u601d\\u660e/Bourns\", \"2020/May/\\u6c88\\u601d\\u660e/Bourns\", \"2019/November/\\u6c88\\u601d\\u660e/Bourns\", \"2020/November/\\u6c88\\u601d\\u660e/Bourns\", \"2019/October/\\u6c88\\u601d\\u660e/Bourns\", \"2020/October/\\u6c88\\u601d\\u660e/Bourns\", \"2019/September/\\u6c88\\u601d\\u660e/Bourns\", \"2020/September/\\u6c88\\u601d\\u660e/Bourns\", \"2019/November/\\u58a8\\u6f22\\u96f7\\u8fea/Credence\", \"2019/April/\\u6c88\\u601d\\u660e/Eaton\", \"2020/April/\\u6c88\\u601d\\u660e/Eaton\", \"2019/August/\\u6c88\\u601d\\u660e/Eaton\", \"2020/August/\\u6c88\\u601d\\u660e/Eaton\", \"2019/December/\\u6c88\\u601d\\u660e/Eaton\", \"2020/December/\\u6c88\\u601d\\u660e/Eaton\", \"2019/February/\\u6c88\\u601d\\u660e/Eaton\", \"2020/February/\\u6c88\\u601d\\u660e/Eaton\", \"2019/January/\\u6c88\\u601d\\u660e/Eaton\", \"2020/January/\\u6c88\\u601d\\u660e/Eaton\", \"2021/January/\\u6c88\\u601d\\u660e/Eaton\", \"2019/July/\\u6c88\\u601d\\u660e/Eaton\", \"2020/July/\\u6c88\\u601d\\u660e/Eaton\", \"2019/June/\\u6c88\\u601d\\u660e/Eaton\", \"2020/June/\\u6c88\\u601d\\u660e/Eaton\", \"2019/March/\\u6c88\\u601d\\u660e/Eaton\", \"2020/March/\\u6c88\\u601d\\u660e/Eaton\", \"2019/May/\\u6c88\\u601d\\u660e/Eaton\", \"2020/May/\\u6c88\\u601d\\u660e/Eaton\", \"2019/November/\\u6c88\\u601d\\u660e/Eaton\", \"2020/November/\\u6c88\\u601d\\u660e/Eaton\", \"2019/October/\\u6c88\\u601d\\u660e/Eaton\", \"2020/October/\\u6c88\\u601d\\u660e/Eaton\", \"2019/September/\\u6c88\\u601d\\u660e/Eaton\", \"2020/September/\\u6c88\\u601d\\u660e/Eaton\", \"2019/May/\\u58a8\\u6f22\\u96f7\\u8fea/Eteily\", \"2019/November/\\u58a8\\u6f22\\u96f7\\u8fea/Eteily\", \"2020/November/\\u58a8\\u6f22\\u96f7\\u8fea/FIRST EN\", \"2020/March/\\u58a8\\u6f22\\u96f7\\u8fea/Fides\", \"2020/August/\\u58a8\\u6f22\\u96f7\\u8fea/G -PLAST\", \"2021/January/\\u58a8\\u6f22\\u96f7\\u8fea/G -PLAST\", \"2020/November/\\u58a8\\u6f22\\u96f7\\u8fea/G -PLAST\", \"2020/October/\\u58a8\\u6f22\\u96f7\\u8fea/G -PLAST\", \"2019/April/\\u58a8\\u6f22\\u96f7\\u8fea/Globalte\", \"2020/November/\\u58a8\\u6f22\\u96f7\\u8fea/JBJ\", \"2020/October/\\u58a8\\u6f22\\u96f7\\u8fea/JBJ\", \"2019/April/\\u6c88\\u601d\\u660e/LF\", \"2020/April/\\u6c88\\u601d\\u660e/LF\", \"2019/August/\\u6c88\\u601d\\u660e/LF\", \"2020/August/\\u6c88\\u601d\\u660e/LF\", \"2019/December/\\u6c88\\u601d\\u660e/LF\", \"2020/December/\\u6c88\\u601d\\u660e/LF\", \"2019/February/\\u6c88\\u601d\\u660e/LF\", \"2020/February/\\u6c88\\u601d\\u660e/LF\", \"2019/January/\\u6c88\\u601d\\u660e/LF\", \"2020/January/\\u6c88\\u601d\\u660e/LF\", \"2019/July/\\u6c88\\u601d\\u660e/LF\", \"2020/July/\\u6c88\\u601d\\u660e/LF\", \"2019/June/\\u6c88\\u601d\\u660e/LF\", \"2020/June/\\u6c88\\u601d\\u660e/LF\", \"2019/March/\\u6c88\\u601d\\u660e/LF\", \"2020/March/\\u6c88\\u601d\\u660e/LF\", \"2019/May/\\u6c88\\u601d\\u660e/LF\", \"2020/May/\\u6c88\\u601d\\u660e/LF\", \"2019/November/\\u6c88\\u601d\\u660e/LF\", \"2020/November/\\u6c88\\u601d\\u660e/LF\", \"2019/October/\\u6c88\\u601d\\u660e/LF\", \"2020/October/\\u6c88\\u601d\\u660e/LF\", \"2019/September/\\u6c88\\u601d\\u660e/LF\", \"2020/September/\\u6c88\\u601d\\u660e/LF\", \"2019/April/\\u6c88\\u601d\\u660e/LF OEM\", \"2020/April/\\u6c88\\u601d\\u660e/LF OEM\", \"2019/August/\\u6c88\\u601d\\u660e/LF OEM\", \"2020/August/\\u6c88\\u601d\\u660e/LF OEM\", \"2019/December/\\u6c88\\u601d\\u660e/LF OEM\", \"2020/December/\\u6c88\\u601d\\u660e/LF OEM\", \"2019/February/\\u6c88\\u601d\\u660e/LF OEM\", \"2020/February/\\u6c88\\u601d\\u660e/LF OEM\", \"2019/January/\\u6c88\\u601d\\u660e/LF OEM\", \"2020/January/\\u6c88\\u601d\\u660e/LF OEM\", \"2019/July/\\u6c88\\u601d\\u660e/LF OEM\", \"2020/July/\\u6c88\\u601d\\u660e/LF OEM\", \"2019/June/\\u6c88\\u601d\\u660e/LF OEM\", \"2020/June/\\u6c88\\u601d\\u660e/LF OEM\", \"2019/March/\\u6c88\\u601d\\u660e/LF OEM\", \"2020/March/\\u6c88\\u601d\\u660e/LF OEM\", \"2019/May/\\u6c88\\u601d\\u660e/LF OEM\", \"2020/May/\\u6c88\\u601d\\u660e/LF OEM\", \"2019/November/\\u6c88\\u601d\\u660e/LF OEM\", \"2020/November/\\u6c88\\u601d\\u660e/LF OEM\", \"2019/October/\\u6c88\\u601d\\u660e/LF OEM\", \"2020/October/\\u6c88\\u601d\\u660e/LF OEM\", \"2019/September/\\u6c88\\u601d\\u660e/LF OEM\", \"2020/September/\\u6c88\\u601d\\u660e/LF OEM\", \"2019/April/\\u6c88\\u601d\\u660e/Laird\", \"2020/April/\\u6c88\\u601d\\u660e/Laird\", \"2019/August/\\u6c88\\u601d\\u660e/Laird\", \"2020/August/\\u6c88\\u601d\\u660e/Laird\", \"2019/December/\\u6c88\\u601d\\u660e/Laird\", \"2020/December/\\u6c88\\u601d\\u660e/Laird\", \"2019/February/\\u6c88\\u601d\\u660e/Laird\", \"2020/February/\\u6c88\\u601d\\u660e/Laird\", \"2021/February/\\u6c88\\u601d\\u660e/Laird\", \"2019/January/\\u6c88\\u601d\\u660e/Laird\", \"2020/January/\\u6c88\\u601d\\u660e/Laird\", \"2021/January/\\u6c88\\u601d\\u660e/Laird\", \"2019/July/\\u6c88\\u601d\\u660e/Laird\", \"2020/July/\\u6c88\\u601d\\u660e/Laird\", \"2019/June/\\u6c88\\u601d\\u660e/Laird\", \"2020/June/\\u6c88\\u601d\\u660e/Laird\", \"2019/March/\\u6c88\\u601d\\u660e/Laird\", \"2020/March/\\u6c88\\u601d\\u660e/Laird\", \"2019/May/\\u6c88\\u601d\\u660e/Laird\", \"2020/May/\\u6c88\\u601d\\u660e/Laird\", \"2019/November/\\u6c88\\u601d\\u660e/Laird\", \"2020/November/\\u6c88\\u601d\\u660e/Laird\", \"2019/October/\\u6c88\\u601d\\u660e/Laird\", \"2020/October/\\u6c88\\u601d\\u660e/Laird\", \"2019/September/\\u6c88\\u601d\\u660e/Laird\", \"2020/September/\\u6c88\\u601d\\u660e/Laird\", \"2020/August/\\u58a8\\u6f22\\u96f7\\u8fea/M.S.\", \"2019/December/\\u58a8\\u6f22\\u96f7\\u8fea/M.S.\", \"2020/June/\\u58a8\\u6f22\\u96f7\\u8fea/M.S.\", \"2020/November/\\u58a8\\u6f22\\u96f7\\u8fea/M.S.\", \"2020/September/\\u58a8\\u6f22\\u96f7\\u8fea/M.S.\", \"2020/August/\\u58a8\\u6f22\\u96f7\\u8fea/MATE\", \"2020/July/\\u58a8\\u6f22\\u96f7\\u8fea/MATE\", \"2020/November/\\u58a8\\u6f22\\u96f7\\u8fea/MATE\", \"2020/October/\\u58a8\\u6f22\\u96f7\\u8fea/MATE\", \"2019/April/\\u8a31\\u51f1\\u667a/MT-SYSTEM\", \"2020/April/\\u8a31\\u51f1\\u667a/MT-SYSTEM\", \"2019/August/\\u8a31\\u51f1\\u667a/MT-SYSTEM\", \"2020/August/\\u8a31\\u51f1\\u667a/MT-SYSTEM\", \"2019/December/\\u8a31\\u51f1\\u667a/MT-SYSTEM\", \"2020/December/\\u8a31\\u51f1\\u667a/MT-SYSTEM\", \"2020/February/\\u8a31\\u51f1\\u667a/MT-SYSTEM\", \"2019/January/\\u8a31\\u51f1\\u667a/MT-SYSTEM\", \"2020/January/\\u8a31\\u51f1\\u667a/MT-SYSTEM\", \"2021/January/\\u8a31\\u51f1\\u667a/MT-SYSTEM\", \"2019/July/\\u8a31\\u51f1\\u667a/MT-SYSTEM\", \"2020/July/\\u8a31\\u51f1\\u667a/MT-SYSTEM\", \"2019/June/\\u8a31\\u51f1\\u667a/MT-SYSTEM\", \"2020/June/\\u8a31\\u51f1\\u667a/MT-SYSTEM\", \"2019/March/\\u8a31\\u51f1\\u667a/MT-SYSTEM\", \"2020/March/\\u8a31\\u51f1\\u667a/MT-SYSTEM\", \"2019/May/\\u8a31\\u51f1\\u667a/MT-SYSTEM\", \"2019/November/\\u8a31\\u51f1\\u667a/MT-SYSTEM\", \"2020/November/\\u8a31\\u51f1\\u667a/MT-SYSTEM\", \"2019/October/\\u8a31\\u51f1\\u667a/MT-SYSTEM\", \"2020/October/\\u8a31\\u51f1\\u667a/MT-SYSTEM\", \"2019/September/\\u8a31\\u51f1\\u667a/MT-SYSTEM\", \"2020/September/\\u8a31\\u51f1\\u667a/MT-SYSTEM\", \"2020/August/\\u58a8\\u6f22\\u96f7\\u8fea/Nexty\", \"2020/August/\\u58a8\\u6f22\\u96f7\\u8fea/SSF\", \"2020/November/\\u58a8\\u6f22\\u96f7\\u8fea/SSF\", \"2020/October/\\u58a8\\u6f22\\u96f7\\u8fea/SSF\", \"2020/November/\\u58a8\\u6f22\\u96f7\\u8fea/Sancraft\", \"2019/July/\\u8a31\\u51f1\\u667a/TE \", \"2020/June/\\u8a31\\u51f1\\u667a/TE \", \"2019/October/\\u8a31\\u51f1\\u667a/TE \", \"2019/September/\\u8a31\\u51f1\\u667a/TE \", \"2019/April/\\u8a31\\u51f1\\u667a/TELTONIKA\", \"2020/April/\\u8a31\\u51f1\\u667a/TELTONIKA\", \"2019/August/\\u8a31\\u51f1\\u667a/TELTONIKA\", \"2020/August/\\u8a31\\u51f1\\u667a/TELTONIKA\", \"2019/December/\\u8a31\\u51f1\\u667a/TELTONIKA\", \"2020/December/\\u8a31\\u51f1\\u667a/TELTONIKA\", \"2019/February/\\u8a31\\u51f1\\u667a/TELTONIKA\", \"2020/February/\\u8a31\\u51f1\\u667a/TELTONIKA\", \"2021/February/\\u8a31\\u51f1\\u667a/TELTONIKA\", \"2019/January/\\u8a31\\u51f1\\u667a/TELTONIKA\", \"2020/January/\\u8a31\\u51f1\\u667a/TELTONIKA\", \"2021/January/\\u8a31\\u51f1\\u667a/TELTONIKA\", \"2019/July/\\u8a31\\u51f1\\u667a/TELTONIKA\", \"2020/July/\\u8a31\\u51f1\\u667a/TELTONIKA\", \"2019/June/\\u8a31\\u51f1\\u667a/TELTONIKA\", \"2020/June/\\u8a31\\u51f1\\u667a/TELTONIKA\", \"2019/March/\\u8a31\\u51f1\\u667a/TELTONIKA\", \"2020/March/\\u8a31\\u51f1\\u667a/TELTONIKA\", \"2019/May/\\u8a31\\u51f1\\u667a/TELTONIKA\", \"2020/May/\\u8a31\\u51f1\\u667a/TELTONIKA\", \"2019/November/\\u8a31\\u51f1\\u667a/TELTONIKA\", \"2020/November/\\u8a31\\u51f1\\u667a/TELTONIKA\", \"2019/October/\\u8a31\\u51f1\\u667a/TELTONIKA\", \"2020/October/\\u8a31\\u51f1\\u667a/TELTONIKA\", \"2019/September/\\u8a31\\u51f1\\u667a/TELTONIKA\", \"2020/September/\\u8a31\\u51f1\\u667a/TELTONIKA\", \"2020/November/\\u58a8\\u6f22\\u96f7\\u8fea/Univa Te\", \"2020/October/\\u58a8\\u6f22\\u96f7\\u8fea/Univa Te\", \"2019/April/\\u6c88\\u601d\\u660e/WE\", \"2020/April/\\u6c88\\u601d\\u660e/WE\", \"2021/April/\\u6c88\\u601d\\u660e/WE\", \"2019/August/\\u6c88\\u601d\\u660e/WE\", \"2020/August/\\u6c88\\u601d\\u660e/WE\", \"2021/August/\\u6c88\\u601d\\u660e/WE\", \"2019/December/\\u6c88\\u601d\\u660e/WE\", \"2020/December/\\u6c88\\u601d\\u660e/WE\", \"2019/February/\\u6c88\\u601d\\u660e/WE\", \"2020/February/\\u6c88\\u601d\\u660e/WE\", \"2021/February/\\u6c88\\u601d\\u660e/WE\", \"2019/January/\\u6c88\\u601d\\u660e/WE\", \"2020/January/\\u6c88\\u601d\\u660e/WE\", \"2021/January/\\u6c88\\u601d\\u660e/WE\", \"2019/July/\\u6c88\\u601d\\u660e/WE\", \"2020/July/\\u6c88\\u601d\\u660e/WE\", \"2019/June/\\u6c88\\u601d\\u660e/WE\", \"2020/June/\\u6c88\\u601d\\u660e/WE\", \"2021/June/\\u6c88\\u601d\\u660e/WE\", \"2019/March/\\u6c88\\u601d\\u660e/WE\", \"2020/March/\\u6c88\\u601d\\u660e/WE\", \"2021/March/\\u6c88\\u601d\\u660e/WE\", \"2019/May/\\u6c88\\u601d\\u660e/WE\", \"2020/May/\\u6c88\\u601d\\u660e/WE\", \"2019/November/\\u6c88\\u601d\\u660e/WE\", \"2020/November/\\u6c88\\u601d\\u660e/WE\", \"2019/October/\\u6c88\\u601d\\u660e/WE\", \"2020/October/\\u6c88\\u601d\\u660e/WE\", \"2019/September/\\u6c88\\u601d\\u660e/WE\", \"2020/September/\\u6c88\\u601d\\u660e/WE\", \"2019/October/\\u58a8\\u6f22\\u96f7\\u8fea/WiSilica\", \"2020/February/\\u8a31\\u51f1\\u667a/Zebra\", \"2020/November/\\u8a31\\u51f1\\u667a/Zebra\", \"2019/April/\\u8a31\\u51f1\\u667a/\\u4fe1\\u660c\", \"2020/April/\\u8a31\\u51f1\\u667a/\\u4fe1\\u660c\", \"2021/April/\\u8a31\\u51f1\\u667a/\\u4fe1\\u660c\", \"2022/April/\\u8a31\\u51f1\\u667a/\\u4fe1\\u660c\", \"2019/August/\\u8a31\\u51f1\\u667a/\\u4fe1\\u660c\", \"2020/August/\\u8a31\\u51f1\\u667a/\\u4fe1\\u660c\", \"2021/August/\\u8a31\\u51f1\\u667a/\\u4fe1\\u660c\", \"2019/December/\\u8a31\\u51f1\\u667a/\\u4fe1\\u660c\", \"2020/December/\\u8a31\\u51f1\\u667a/\\u4fe1\\u660c\", \"2021/December/\\u8a31\\u51f1\\u667a/\\u4fe1\\u660c\", \"2019/February/\\u8a31\\u51f1\\u667a/\\u4fe1\\u660c\", \"2020/February/\\u8a31\\u51f1\\u667a/\\u4fe1\\u660c\", \"2021/February/\\u8a31\\u51f1\\u667a/\\u4fe1\\u660c\", \"2022/February/\\u8a31\\u51f1\\u667a/\\u4fe1\\u660c\", \"2019/January/\\u8a31\\u51f1\\u667a/\\u4fe1\\u660c\", \"2020/January/\\u8a31\\u51f1\\u667a/\\u4fe1\\u660c\", \"2021/January/\\u8a31\\u51f1\\u667a/\\u4fe1\\u660c\", \"2022/January/\\u8a31\\u51f1\\u667a/\\u4fe1\\u660c\", \"2019/July/\\u8a31\\u51f1\\u667a/\\u4fe1\\u660c\", \"2020/July/\\u8a31\\u51f1\\u667a/\\u4fe1\\u660c\", \"2021/July/\\u8a31\\u51f1\\u667a/\\u4fe1\\u660c\", \"2019/June/\\u8a31\\u51f1\\u667a/\\u4fe1\\u660c\", \"2020/June/\\u8a31\\u51f1\\u667a/\\u4fe1\\u660c\", \"2019/March/\\u8a31\\u51f1\\u667a/\\u4fe1\\u660c\", \"2020/March/\\u8a31\\u51f1\\u667a/\\u4fe1\\u660c\", \"2021/March/\\u8a31\\u51f1\\u667a/\\u4fe1\\u660c\", \"2022/March/\\u8a31\\u51f1\\u667a/\\u4fe1\\u660c\", \"2019/May/\\u8a31\\u51f1\\u667a/\\u4fe1\\u660c\", \"2020/May/\\u8a31\\u51f1\\u667a/\\u4fe1\\u660c\", \"2021/May/\\u8a31\\u51f1\\u667a/\\u4fe1\\u660c\", \"2022/May/\\u8a31\\u51f1\\u667a/\\u4fe1\\u660c\", \"2019/November/\\u8a31\\u51f1\\u667a/\\u4fe1\\u660c\", \"2020/November/\\u8a31\\u51f1\\u667a/\\u4fe1\\u660c\", \"2021/November/\\u8a31\\u51f1\\u667a/\\u4fe1\\u660c\", \"2019/October/\\u8a31\\u51f1\\u667a/\\u4fe1\\u660c\", \"2020/October/\\u8a31\\u51f1\\u667a/\\u4fe1\\u660c\", \"2019/September/\\u8a31\\u51f1\\u667a/\\u4fe1\\u660c\", \"2020/September/\\u8a31\\u51f1\\u667a/\\u4fe1\\u660c\", \"2021/September/\\u8a31\\u51f1\\u667a/\\u4fe1\\u660c\", \"2019/April/\\u8a31\\u51f1\\u667a/\\u6771\\u839e\\u5f18\\u96fb\", \"2019/August/\\u8a31\\u51f1\\u667a/\\u6771\\u839e\\u5f18\\u96fb\", \"2019/December/\\u8a31\\u51f1\\u667a/\\u6771\\u839e\\u5f18\\u96fb\", \"2020/February/\\u8a31\\u51f1\\u667a/\\u6771\\u839e\\u5f18\\u96fb\", \"2019/July/\\u8a31\\u51f1\\u667a/\\u6771\\u839e\\u5f18\\u96fb\", \"2019/June/\\u8a31\\u51f1\\u667a/\\u6771\\u839e\\u5f18\\u96fb\", \"2019/May/\\u8a31\\u51f1\\u667a/\\u6771\\u839e\\u5f18\\u96fb\", \"2020/May/\\u8a31\\u51f1\\u667a/\\u6771\\u839e\\u5f18\\u96fb\", \"2019/October/\\u8a31\\u51f1\\u667a/\\u6771\\u839e\\u5f18\\u96fb\", \"2019/September/\\u8a31\\u51f1\\u667a/\\u6771\\u839e\\u5f18\\u96fb\", \"2019/April/\\u8a31\\u51f1\\u667a/\\u83ef\\u65b0\\u79d1\\u6280\", \"2020/April/\\u8a31\\u51f1\\u667a/\\u83ef\\u65b0\\u79d1\\u6280\", \"2019/August/\\u8a31\\u51f1\\u667a/\\u83ef\\u65b0\\u79d1\\u6280\", \"2020/August/\\u8a31\\u51f1\\u667a/\\u83ef\\u65b0\\u79d1\\u6280\", \"2019/December/\\u8a31\\u51f1\\u667a/\\u83ef\\u65b0\\u79d1\\u6280\", \"2020/December/\\u8a31\\u51f1\\u667a/\\u83ef\\u65b0\\u79d1\\u6280\", \"2019/February/\\u8a31\\u51f1\\u667a/\\u83ef\\u65b0\\u79d1\\u6280\", \"2020/February/\\u8a31\\u51f1\\u667a/\\u83ef\\u65b0\\u79d1\\u6280\", \"2021/February/\\u8a31\\u51f1\\u667a/\\u83ef\\u65b0\\u79d1\\u6280\", \"2019/January/\\u8a31\\u51f1\\u667a/\\u83ef\\u65b0\\u79d1\\u6280\", \"2020/January/\\u8a31\\u51f1\\u667a/\\u83ef\\u65b0\\u79d1\\u6280\", \"2021/January/\\u8a31\\u51f1\\u667a/\\u83ef\\u65b0\\u79d1\\u6280\", \"2019/July/\\u8a31\\u51f1\\u667a/\\u83ef\\u65b0\\u79d1\\u6280\", \"2020/July/\\u8a31\\u51f1\\u667a/\\u83ef\\u65b0\\u79d1\\u6280\", \"2019/June/\\u8a31\\u51f1\\u667a/\\u83ef\\u65b0\\u79d1\\u6280\", \"2020/June/\\u8a31\\u51f1\\u667a/\\u83ef\\u65b0\\u79d1\\u6280\", \"2019/March/\\u8a31\\u51f1\\u667a/\\u83ef\\u65b0\\u79d1\\u6280\", \"2020/March/\\u8a31\\u51f1\\u667a/\\u83ef\\u65b0\\u79d1\\u6280\", \"2019/May/\\u8a31\\u51f1\\u667a/\\u83ef\\u65b0\\u79d1\\u6280\", \"2020/May/\\u8a31\\u51f1\\u667a/\\u83ef\\u65b0\\u79d1\\u6280\", \"2019/November/\\u8a31\\u51f1\\u667a/\\u83ef\\u65b0\\u79d1\\u6280\", \"2020/November/\\u8a31\\u51f1\\u667a/\\u83ef\\u65b0\\u79d1\\u6280\", \"2019/October/\\u8a31\\u51f1\\u667a/\\u83ef\\u65b0\\u79d1\\u6280\", \"2020/October/\\u8a31\\u51f1\\u667a/\\u83ef\\u65b0\\u79d1\\u6280\", \"2019/September/\\u8a31\\u51f1\\u667a/\\u83ef\\u65b0\\u79d1\\u6280\", \"2020/September/\\u8a31\\u51f1\\u667a/\\u83ef\\u65b0\\u79d1\\u6280\", \"2020/April/\\u8a31\\u51f1\\u667a/\\u85dd\\u611f\", \"2021/April/\\u8a31\\u51f1\\u667a/\\u85dd\\u611f\", \"2020/August/\\u8a31\\u51f1\\u667a/\\u85dd\\u611f\", \"2019/December/\\u8a31\\u51f1\\u667a/\\u85dd\\u611f\", \"2020/December/\\u8a31\\u51f1\\u667a/\\u85dd\\u611f\", \"2020/February/\\u8a31\\u51f1\\u667a/\\u85dd\\u611f\", \"2021/February/\\u8a31\\u51f1\\u667a/\\u85dd\\u611f\", \"2020/January/\\u8a31\\u51f1\\u667a/\\u85dd\\u611f\", \"2021/January/\\u8a31\\u51f1\\u667a/\\u85dd\\u611f\", \"2019/July/\\u8a31\\u51f1\\u667a/\\u85dd\\u611f\", \"2020/July/\\u8a31\\u51f1\\u667a/\\u85dd\\u611f\", \"2020/June/\\u8a31\\u51f1\\u667a/\\u85dd\\u611f\", \"2020/March/\\u8a31\\u51f1\\u667a/\\u85dd\\u611f\", \"2021/March/\\u8a31\\u51f1\\u667a/\\u85dd\\u611f\", \"2020/May/\\u8a31\\u51f1\\u667a/\\u85dd\\u611f\", \"2021/May/\\u8a31\\u51f1\\u667a/\\u85dd\\u611f\", \"2019/November/\\u8a31\\u51f1\\u667a/\\u85dd\\u611f\", \"2020/November/\\u8a31\\u51f1\\u667a/\\u85dd\\u611f\", \"2019/October/\\u8a31\\u51f1\\u667a/\\u85dd\\u611f\", \"2020/October/\\u8a31\\u51f1\\u667a/\\u85dd\\u611f\", \"2020/September/\\u8a31\\u51f1\\u667a/\\u85dd\\u611f\", \"2019/April/\\u58a8\\u6f22\\u96f7\\u8fea\", \"2020/August/\\u58a8\\u6f22\\u96f7\\u8fea\", \"2019/December/\\u58a8\\u6f22\\u96f7\\u8fea\", \"2021/January/\\u58a8\\u6f22\\u96f7\\u8fea\", \"2020/July/\\u58a8\\u6f22\\u96f7\\u8fea\", \"2020/June/\\u58a8\\u6f22\\u96f7\\u8fea\", \"2020/March/\\u58a8\\u6f22\\u96f7\\u8fea\", \"2019/May/\\u58a8\\u6f22\\u96f7\\u8fea\", \"2019/November/\\u58a8\\u6f22\\u96f7\\u8fea\", \"2020/November/\\u58a8\\u6f22\\u96f7\\u8fea\", \"2019/October/\\u58a8\\u6f22\\u96f7\\u8fea\", \"2020/October/\\u58a8\\u6f22\\u96f7\\u8fea\", \"2020/September/\\u58a8\\u6f22\\u96f7\\u8fea\", \"2019/April/\\u6c88\\u601d\\u660e\", \"2020/April/\\u6c88\\u601d\\u660e\", \"2021/April/\\u6c88\\u601d\\u660e\", \"2019/August/\\u6c88\\u601d\\u660e\", \"2020/August/\\u6c88\\u601d\\u660e\", \"2021/August/\\u6c88\\u601d\\u660e\", \"2019/December/\\u6c88\\u601d\\u660e\", \"2020/December/\\u6c88\\u601d\\u660e\", \"2019/February/\\u6c88\\u601d\\u660e\", \"2020/February/\\u6c88\\u601d\\u660e\", \"2021/February/\\u6c88\\u601d\\u660e\", \"2019/January/\\u6c88\\u601d\\u660e\", \"2020/January/\\u6c88\\u601d\\u660e\", \"2021/January/\\u6c88\\u601d\\u660e\", \"2019/July/\\u6c88\\u601d\\u660e\", \"2020/July/\\u6c88\\u601d\\u660e\", \"2019/June/\\u6c88\\u601d\\u660e\", \"2020/June/\\u6c88\\u601d\\u660e\", \"2021/June/\\u6c88\\u601d\\u660e\", \"2019/March/\\u6c88\\u601d\\u660e\", \"2020/March/\\u6c88\\u601d\\u660e\", \"2021/March/\\u6c88\\u601d\\u660e\", \"2019/May/\\u6c88\\u601d\\u660e\", \"2020/May/\\u6c88\\u601d\\u660e\", \"2019/November/\\u6c88\\u601d\\u660e\", \"2020/November/\\u6c88\\u601d\\u660e\", \"2019/October/\\u6c88\\u601d\\u660e\", \"2020/October/\\u6c88\\u601d\\u660e\", \"2019/September/\\u6c88\\u601d\\u660e\", \"2020/September/\\u6c88\\u601d\\u660e\", \"2019/April/\\u8a31\\u51f1\\u667a\", \"2020/April/\\u8a31\\u51f1\\u667a\", \"2021/April/\\u8a31\\u51f1\\u667a\", \"2022/April/\\u8a31\\u51f1\\u667a\", \"2019/August/\\u8a31\\u51f1\\u667a\", \"2020/August/\\u8a31\\u51f1\\u667a\", \"2021/August/\\u8a31\\u51f1\\u667a\", \"2019/December/\\u8a31\\u51f1\\u667a\", \"2020/December/\\u8a31\\u51f1\\u667a\", \"2021/December/\\u8a31\\u51f1\\u667a\", \"2019/February/\\u8a31\\u51f1\\u667a\", \"2020/February/\\u8a31\\u51f1\\u667a\", \"2021/February/\\u8a31\\u51f1\\u667a\", \"2022/February/\\u8a31\\u51f1\\u667a\", \"2019/January/\\u8a31\\u51f1\\u667a\", \"2020/January/\\u8a31\\u51f1\\u667a\", \"2021/January/\\u8a31\\u51f1\\u667a\", \"2022/January/\\u8a31\\u51f1\\u667a\", \"2019/July/\\u8a31\\u51f1\\u667a\", \"2020/July/\\u8a31\\u51f1\\u667a\", \"2021/July/\\u8a31\\u51f1\\u667a\", \"2019/June/\\u8a31\\u51f1\\u667a\", \"2020/June/\\u8a31\\u51f1\\u667a\", \"2019/March/\\u8a31\\u51f1\\u667a\", \"2020/March/\\u8a31\\u51f1\\u667a\", \"2021/March/\\u8a31\\u51f1\\u667a\", \"2022/March/\\u8a31\\u51f1\\u667a\", \"2019/May/\\u8a31\\u51f1\\u667a\", \"2020/May/\\u8a31\\u51f1\\u667a\", \"2021/May/\\u8a31\\u51f1\\u667a\", \"2022/May/\\u8a31\\u51f1\\u667a\", \"2019/November/\\u8a31\\u51f1\\u667a\", \"2020/November/\\u8a31\\u51f1\\u667a\", \"2021/November/\\u8a31\\u51f1\\u667a\", \"2019/October/\\u8a31\\u51f1\\u667a\", \"2020/October/\\u8a31\\u51f1\\u667a\", \"2019/September/\\u8a31\\u51f1\\u667a\", \"2020/September/\\u8a31\\u51f1\\u667a\", \"2021/September/\\u8a31\\u51f1\\u667a\", \"2019/April\", \"2020/April\", \"2021/April\", \"2022/April\", \"2019/August\", \"2020/August\", \"2021/August\", \"2019/December\", \"2020/December\", \"2021/December\", \"2019/February\", \"2020/February\", \"2021/February\", \"2022/February\", \"2019/January\", \"2020/January\", \"2021/January\", \"2022/January\", \"2019/July\", \"2020/July\", \"2021/July\", \"2019/June\", \"2020/June\", \"2021/June\", \"2019/March\", \"2020/March\", \"2021/March\", \"2022/March\", \"2019/May\", \"2020/May\", \"2021/May\", \"2022/May\", \"2019/November\", \"2020/November\", \"2021/November\", \"2019/October\", \"2020/October\", \"2019/September\", \"2020/September\", \"2021/September\", \"2019\", \"2020\", \"2021\", \"2022\"], \"labels\": [\"EMC\", \"EMC\", \"EMC\", \"EMC\", \"EMC\", \"EMC\", \"EMC\", \"EMC\", \"EMC\", \"EMC\", \"EMC\", \"EMC\", \"EMC\", \"EMC\", \"EMC\", \"EMC\", \"EMC\", \"EMC\", \"EMC\", \"EMC\", \"EMC\", \"EMC\", \"EMC\", \"EMC\", \"EMC\", \"EMC\", \"EMC\", \"EMC\", \"EMC\", \"EMC\", \"EMC\", \"EMC\", \"EMC\", \"EMC\", \"EMC\", \"EMC\", \"EMC\", \"EMC\", \"EMC\", \"EMC\", \"EMC\", \"EMC\", \"EMC\", \"EMC\", \"EMC\", \"EMC\", \"EMC\", \"EMC\", \"EMC\", \"EMC\", \"EMC\", \"EMC\", \"EMC\", \"EMC\", \"EMC\", \"EMC\", \"EMC\", \"EMC\", \"EMC\", \"EMC\", \"EMC\", \"EMC\", \"EMC\", \"EMC\", \"EMC\", \"EMC\", \"EMC\", \"EMC\", \"EMC\", \"EMC\", \"EMC\", \"EMC\", \"EMC\", \"EMC\", \"EMC\", \"EMC\", \"EMC\", \"EMC\", \"EMC\", \"EMC\", \"EMC\", \"EMC\", \"EMC\", \"EMC\", \"EMC\", \"EMC\", \"EMC\", \"EMC\", \"EMC\", \"EMC\", \"EMC\", \"EMC\", \"EMC\", \"EMC\", \"EMC\", \"EMC\", \"EMC\", \"EMC\", \"EMC\", \"EMC\", \"EMC\", \"EMC\", \"EMC\", \"EMC\", \"EMC\", \"EMC\", \"EMC\", \"EMC\", \"EMC\", \"EMC\", \"EMC\", \"EMC\", \"EMC\", \"EMC\", \"EMC\", \"EMC\", \"EMC\", \"EMC\", \"EMC\", \"EMC\", \"EMC\", \"EMC\", \"EMC\", \"EMC\", \"EMC\", \"EMC\", \"EMC\", \"EMC\", \"EMC\", \"EMC\", \"EMC\", \"EMC\", \"EMC\", \"EMC\", \"EMC\", \"EMC\", \"EMC\", \"EMC\", \"EMC\", \"EMC\", \"EMC\", \"EMC\", \"EMC\", \"EMC\", \"EMC\", \"EMC\", \"EMC\", \"EMC\", \"EMC\", \"EMC\", \"EMC\", \"ODM\", \"ODM\", \"ODM\", \"ODM\", \"ODM\", \"ODM\", \"ODM\", \"ODM\", \"ODM\", \"ODM\", \"ODM\", \"ODM\", \"ODM\", \"ODM\", \"ODM\", \"ODM\", \"ODM\", \"ODM\", \"ODM\", \"ODM\", \"ODM\", \"ODM\", \"ODM\", \"ODM\", \"PC\", \"PC\", \"PC\", \"PC\", \"PC\", \"PC\", \"PC\", \"PC\", \"PC\", \"PC\", \"PC\", \"PC\", \"PC\", \"PC\", \"PC\", \"PC\", \"PC\", \"PC\", \"PC\", \"PC\", \"PC\", \"PC\", \"PC\", \"PC\", \"PC\", \"PC\", \"PC\", \"PC\", \"PC\", \"PC\", \"PC\", \"PC\", \"PC\", \"PC\", \"PC\", \"PC\", \"PC\", \"PC\", \"PC\", \"PC\", \"PC\", \"PC\", \"PC\", \"PC\", \"PC\", \"PC\", \"PC\", \"PC\", \"PC\", \"PC\", \"PC\", \"PC\", \"PC\", \"PC\", \"PC\", \"PC\", \"PC\", \"PC\", \"PC\", \"PC\", \"PC\", \"PC\", \"PC\", \"PC\", \"PC\", \"PC\", \"PC\", \"PC\", \"PC\", \"PC\", \"PC\", \"PC\", \"PC\", \"PC\", \"PC\", \"PC\", \"PC\", \"PC\", \"PC\", \"PC\", \"PC\", \"PC\", \"PC\", \"PC\", \"PC\", \"PC\", \"PC\", \"PC\", \"PC\", \"PC\", \"PC\", \"PC\", \"PC\", \"PC\", \"PC\", \"PC\", \"PC\", \"PC\", \"PC\", \"PC\", \"PC\", \"PC\", \"PC\", \"PC\", \"PC\", \"PC\", \"PC\", \"PC\", \"PC\", \"PC\", \"PC\", \"PC\", \"PC\", \"PC\", \"PC\", \"PC\", \"PC\", \"PC\", \"PC\", \"PC\", \"PC\", \"PC\", \"PC\", \"PC\", \"PC\", \"PC\", \"PC\", \"PC\", \"PC\", \"PC\", \"PC\", \"PC\", \"PC\", \"PC\", \"PC\", \"PC\", \"PC\", \"PC\", \"PC\", \"PC\", \"PC\", \"PC\", \"PC\", \"PC\", \"PC\", \"PC\", \"PC\", \"PC\", \"PC\", \"RF\", \"RF\", \"RF\", \"RF\", \"RF\", \"RF\", \"RF\", \"RF\", \"RF\", \"RF\", \"RF\", \"RF\", \"RF\", \"RF\", \"RF\", \"RF\", \"RF\", \"RF\", \"RF\", \"RF\", \"RF\", \"RF\", \"RF\", \"RF\", \"RF\", \"RF\", \"RF\", \"RF\", \"RF\", \"RF\", \"RF\", \"RF\", \"RF\", \"RF\", \"RF\", \"RF\", \"RF\", \"RF\", \"RF\", \"RF\", \"RF\", \"RF\", \"RF\", \"RF\", \"RF\", \"RF\", \"RF\", \"RF\", \"RF\", \"RF\", \"RF\", \"RF\", \"RF\", \"RF\", \"RF\", \"RF\", \"RF\", \"RF\", \"RF\", \"RF\", \"RF\", \"RF\", \"RF\", \"RF\", \"RF\", \"RF\", \"RF\", \"RF\", \"RF\", \"RF\", \"RF\", \"RF\", \"RF\", \"RF\", \"RF\", \"RF\", \"RF\", \"RF\", \"RF\", \"RF\", \"RF\", \"RF\", \"RF\", \"RF\", \"RF\", \"RF\", \"RF\", \"RF\", \"RF\", \"RF\", \"RF\", \"RF\", \"RF\", \"RF\", \"RF\", \"RF\", \"RF\", \"RF\", \"RF\", \"RF\", \"RF\", \"RF\", \"RF\", \"WIP\", \"WIP\", \"WIP\", \"WIP\", \"WIP\", \"WIP\", \"WIP\", \"WIP\", \"WIP\", \"WIP\", \"WIP\", \"WIP\", \"WIP\", \"WIP\", \"WIP\", \"WIP\", \"WIP\", \"WIP\", \"WIP\", \"WIP\", \"WIP\", \"WIP\", \"WIP\", \"WIP\", \"WIP\", \"WIP\", \"WIP\", \"WIP\", \"WIP\", \"WIP\", \"WIP\", \"WIP\", \"WIP\", \"WIP\", \"WIP\", \"WIP\", \"WIP\", \"WIP\", \"WIP\", \"WIP\", \"WIP\", \"WIP\", \"WIP\", \"WIP\", \"WIP\", \"WIP\", \"WIP\", \"WIP\", \"WIP\", \"WIP\", \"WIP\", \"WIP\", \"WIP\", \"WIP\", \"WIP\", \"WIP\", \"WIP\", \"WIP\", \"WIP\", \"WIP\", \"WIP\", \"WIP\", \"WIP\", \"WIP\", \"WIP\", \"WIP\", \"WIP\", \"WIP\", \"WIP\", \"WIP\", \"WIP\", \"WIP\", \"WIP\", \"WIP\", \"WIP\", \"WIP\", \"WIP\", \"WIP\", \"WIP\", \"WIP\", \"WIP\", \"WIP\", \"WIP\", \"WIP\", \"WIP\", \"WIP\", \"WIP\", \"WIP\", \"WIP\", \"WIP\", \"WIP\", \"WIP\", \"WIP\", \"WIP\", \"WIP\", \"WIP\", \"WIP\", \"WIP\", \"WIP\", \"WIP\", \"WIP\", \"WIP\", \"WIP\", \"WIP\", \"WIP\", \"WIP\", \"WIP\", \"WIP\", \"WIP\", \"WIP\", \"WIP\", \"WIP\", \"WIP\", \"WIP\", \"WIP\", \"WIP\", \"WIP\", \"WIP\", \"WIP\", \"WIP\", \"WIP\", \"WIP\", \"WIP\", \"WIP\", \"WIP\", \"WIP\", \"WIP\", \"WIP\", \"WIP\", \"WIP\", \"WIP\", \"WIP\", \"WIP\", \"WIP\", \"WIP\", \"WIP\", \"WIP\", \"WIP\", \"WIP\", \"WIP\", \"WIP\", \"WIP\", \"WIP\", \"WIP\", \"WIP\", \"WIP\", \"WIP\", \"WIP\", \"WIP\", \"WIP\", \"WIP\", \"WIP\", \"WIP\", \"WIP\", \"WIP\", \"WIP\", \"WIP\", \"WIP\", \"WIP\", \"Bourns\", \"Bourns\", \"Bourns\", \"Bourns\", \"Bourns\", \"Bourns\", \"Bourns\", \"Bourns\", \"Bourns\", \"Bourns\", \"Bourns\", \"Bourns\", \"Bourns\", \"Bourns\", \"Bourns\", \"Bourns\", \"Bourns\", \"Bourns\", \"Bourns\", \"Bourns\", \"Bourns\", \"Bourns\", \"Bourns\", \"Bourns\", \"Bourns\", \"Bourns\", \"Bourns\", \"Credence\", \"Eaton\", \"Eaton\", \"Eaton\", \"Eaton\", \"Eaton\", \"Eaton\", \"Eaton\", \"Eaton\", \"Eaton\", \"Eaton\", \"Eaton\", \"Eaton\", \"Eaton\", \"Eaton\", \"Eaton\", \"Eaton\", \"Eaton\", \"Eaton\", \"Eaton\", \"Eaton\", \"Eaton\", \"Eaton\", \"Eaton\", \"Eaton\", \"Eaton\", \"Eteily\", \"Eteily\", \"FIRST EN\", \"Fides\", \"G -PLAST\", \"G -PLAST\", \"G -PLAST\", \"G -PLAST\", \"Globalte\", \"JBJ\", \"JBJ\", \"LF\", \"LF\", \"LF\", \"LF\", \"LF\", \"LF\", \"LF\", \"LF\", \"LF\", \"LF\", \"LF\", \"LF\", \"LF\", \"LF\", \"LF\", \"LF\", \"LF\", \"LF\", \"LF\", \"LF\", \"LF\", \"LF\", \"LF\", \"LF\", \"LF OEM\", \"LF OEM\", \"LF OEM\", \"LF OEM\", \"LF OEM\", \"LF OEM\", \"LF OEM\", \"LF OEM\", \"LF OEM\", \"LF OEM\", \"LF OEM\", \"LF OEM\", \"LF OEM\", \"LF OEM\", \"LF OEM\", \"LF OEM\", \"LF OEM\", \"LF OEM\", \"LF OEM\", \"LF OEM\", \"LF OEM\", \"LF OEM\", \"LF OEM\", \"LF OEM\", \"Laird\", \"Laird\", \"Laird\", \"Laird\", \"Laird\", \"Laird\", \"Laird\", \"Laird\", \"Laird\", \"Laird\", \"Laird\", \"Laird\", \"Laird\", \"Laird\", \"Laird\", \"Laird\", \"Laird\", \"Laird\", \"Laird\", \"Laird\", \"Laird\", \"Laird\", \"Laird\", \"Laird\", \"Laird\", \"Laird\", \"M.S.\", \"M.S.\", \"M.S.\", \"M.S.\", \"M.S.\", \"MATE\", \"MATE\", \"MATE\", \"MATE\", \"MT-SYSTEM\", \"MT-SYSTEM\", \"MT-SYSTEM\", \"MT-SYSTEM\", \"MT-SYSTEM\", \"MT-SYSTEM\", \"MT-SYSTEM\", \"MT-SYSTEM\", \"MT-SYSTEM\", \"MT-SYSTEM\", \"MT-SYSTEM\", \"MT-SYSTEM\", \"MT-SYSTEM\", \"MT-SYSTEM\", \"MT-SYSTEM\", \"MT-SYSTEM\", \"MT-SYSTEM\", \"MT-SYSTEM\", \"MT-SYSTEM\", \"MT-SYSTEM\", \"MT-SYSTEM\", \"MT-SYSTEM\", \"MT-SYSTEM\", \"Nexty\", \"SSF\", \"SSF\", \"SSF\", \"Sancraft\", \"TE \", \"TE \", \"TE \", \"TE \", \"TELTONIKA\", \"TELTONIKA\", \"TELTONIKA\", \"TELTONIKA\", \"TELTONIKA\", \"TELTONIKA\", \"TELTONIKA\", \"TELTONIKA\", \"TELTONIKA\", \"TELTONIKA\", \"TELTONIKA\", \"TELTONIKA\", \"TELTONIKA\", \"TELTONIKA\", \"TELTONIKA\", \"TELTONIKA\", \"TELTONIKA\", \"TELTONIKA\", \"TELTONIKA\", \"TELTONIKA\", \"TELTONIKA\", \"TELTONIKA\", \"TELTONIKA\", \"TELTONIKA\", \"TELTONIKA\", \"TELTONIKA\", \"Univa Te\", \"Univa Te\", \"WE\", \"WE\", \"WE\", \"WE\", \"WE\", \"WE\", \"WE\", \"WE\", \"WE\", \"WE\", \"WE\", \"WE\", \"WE\", \"WE\", \"WE\", \"WE\", \"WE\", \"WE\", \"WE\", \"WE\", \"WE\", \"WE\", \"WE\", \"WE\", \"WE\", \"WE\", \"WE\", \"WE\", \"WE\", \"WE\", \"WiSilica\", \"Zebra\", \"Zebra\", \"\\u4fe1\\u660c\", \"\\u4fe1\\u660c\", \"\\u4fe1\\u660c\", \"\\u4fe1\\u660c\", \"\\u4fe1\\u660c\", \"\\u4fe1\\u660c\", \"\\u4fe1\\u660c\", \"\\u4fe1\\u660c\", \"\\u4fe1\\u660c\", \"\\u4fe1\\u660c\", \"\\u4fe1\\u660c\", \"\\u4fe1\\u660c\", \"\\u4fe1\\u660c\", \"\\u4fe1\\u660c\", \"\\u4fe1\\u660c\", \"\\u4fe1\\u660c\", \"\\u4fe1\\u660c\", \"\\u4fe1\\u660c\", \"\\u4fe1\\u660c\", \"\\u4fe1\\u660c\", \"\\u4fe1\\u660c\", \"\\u4fe1\\u660c\", \"\\u4fe1\\u660c\", \"\\u4fe1\\u660c\", \"\\u4fe1\\u660c\", \"\\u4fe1\\u660c\", \"\\u4fe1\\u660c\", \"\\u4fe1\\u660c\", \"\\u4fe1\\u660c\", \"\\u4fe1\\u660c\", \"\\u4fe1\\u660c\", \"\\u4fe1\\u660c\", \"\\u4fe1\\u660c\", \"\\u4fe1\\u660c\", \"\\u4fe1\\u660c\", \"\\u4fe1\\u660c\", \"\\u4fe1\\u660c\", \"\\u4fe1\\u660c\", \"\\u4fe1\\u660c\", \"\\u6771\\u839e\\u5f18\\u96fb\", \"\\u6771\\u839e\\u5f18\\u96fb\", \"\\u6771\\u839e\\u5f18\\u96fb\", \"\\u6771\\u839e\\u5f18\\u96fb\", \"\\u6771\\u839e\\u5f18\\u96fb\", \"\\u6771\\u839e\\u5f18\\u96fb\", \"\\u6771\\u839e\\u5f18\\u96fb\", \"\\u6771\\u839e\\u5f18\\u96fb\", \"\\u6771\\u839e\\u5f18\\u96fb\", \"\\u6771\\u839e\\u5f18\\u96fb\", \"\\u83ef\\u65b0\\u79d1\\u6280\", \"\\u83ef\\u65b0\\u79d1\\u6280\", \"\\u83ef\\u65b0\\u79d1\\u6280\", \"\\u83ef\\u65b0\\u79d1\\u6280\", \"\\u83ef\\u65b0\\u79d1\\u6280\", \"\\u83ef\\u65b0\\u79d1\\u6280\", \"\\u83ef\\u65b0\\u79d1\\u6280\", \"\\u83ef\\u65b0\\u79d1\\u6280\", \"\\u83ef\\u65b0\\u79d1\\u6280\", \"\\u83ef\\u65b0\\u79d1\\u6280\", \"\\u83ef\\u65b0\\u79d1\\u6280\", \"\\u83ef\\u65b0\\u79d1\\u6280\", \"\\u83ef\\u65b0\\u79d1\\u6280\", \"\\u83ef\\u65b0\\u79d1\\u6280\", \"\\u83ef\\u65b0\\u79d1\\u6280\", \"\\u83ef\\u65b0\\u79d1\\u6280\", \"\\u83ef\\u65b0\\u79d1\\u6280\", \"\\u83ef\\u65b0\\u79d1\\u6280\", \"\\u83ef\\u65b0\\u79d1\\u6280\", \"\\u83ef\\u65b0\\u79d1\\u6280\", \"\\u83ef\\u65b0\\u79d1\\u6280\", \"\\u83ef\\u65b0\\u79d1\\u6280\", \"\\u83ef\\u65b0\\u79d1\\u6280\", \"\\u83ef\\u65b0\\u79d1\\u6280\", \"\\u83ef\\u65b0\\u79d1\\u6280\", \"\\u83ef\\u65b0\\u79d1\\u6280\", \"\\u85dd\\u611f\", \"\\u85dd\\u611f\", \"\\u85dd\\u611f\", \"\\u85dd\\u611f\", \"\\u85dd\\u611f\", \"\\u85dd\\u611f\", \"\\u85dd\\u611f\", \"\\u85dd\\u611f\", \"\\u85dd\\u611f\", \"\\u85dd\\u611f\", \"\\u85dd\\u611f\", \"\\u85dd\\u611f\", \"\\u85dd\\u611f\", \"\\u85dd\\u611f\", \"\\u85dd\\u611f\", \"\\u85dd\\u611f\", \"\\u85dd\\u611f\", \"\\u85dd\\u611f\", \"\\u85dd\\u611f\", \"\\u85dd\\u611f\", \"\\u85dd\\u611f\", \"\\u58a8\\u6f22\\u96f7\\u8fea\", \"\\u58a8\\u6f22\\u96f7\\u8fea\", \"\\u58a8\\u6f22\\u96f7\\u8fea\", \"\\u58a8\\u6f22\\u96f7\\u8fea\", \"\\u58a8\\u6f22\\u96f7\\u8fea\", \"\\u58a8\\u6f22\\u96f7\\u8fea\", \"\\u58a8\\u6f22\\u96f7\\u8fea\", \"\\u58a8\\u6f22\\u96f7\\u8fea\", \"\\u58a8\\u6f22\\u96f7\\u8fea\", \"\\u58a8\\u6f22\\u96f7\\u8fea\", \"\\u58a8\\u6f22\\u96f7\\u8fea\", \"\\u58a8\\u6f22\\u96f7\\u8fea\", \"\\u58a8\\u6f22\\u96f7\\u8fea\", \"\\u6c88\\u601d\\u660e\", \"\\u6c88\\u601d\\u660e\", \"\\u6c88\\u601d\\u660e\", \"\\u6c88\\u601d\\u660e\", \"\\u6c88\\u601d\\u660e\", \"\\u6c88\\u601d\\u660e\", \"\\u6c88\\u601d\\u660e\", \"\\u6c88\\u601d\\u660e\", \"\\u6c88\\u601d\\u660e\", \"\\u6c88\\u601d\\u660e\", \"\\u6c88\\u601d\\u660e\", \"\\u6c88\\u601d\\u660e\", \"\\u6c88\\u601d\\u660e\", \"\\u6c88\\u601d\\u660e\", \"\\u6c88\\u601d\\u660e\", \"\\u6c88\\u601d\\u660e\", \"\\u6c88\\u601d\\u660e\", \"\\u6c88\\u601d\\u660e\", \"\\u6c88\\u601d\\u660e\", \"\\u6c88\\u601d\\u660e\", \"\\u6c88\\u601d\\u660e\", \"\\u6c88\\u601d\\u660e\", \"\\u6c88\\u601d\\u660e\", \"\\u6c88\\u601d\\u660e\", \"\\u6c88\\u601d\\u660e\", \"\\u6c88\\u601d\\u660e\", \"\\u6c88\\u601d\\u660e\", \"\\u6c88\\u601d\\u660e\", \"\\u6c88\\u601d\\u660e\", \"\\u6c88\\u601d\\u660e\", \"\\u8a31\\u51f1\\u667a\", \"\\u8a31\\u51f1\\u667a\", \"\\u8a31\\u51f1\\u667a\", \"\\u8a31\\u51f1\\u667a\", \"\\u8a31\\u51f1\\u667a\", \"\\u8a31\\u51f1\\u667a\", \"\\u8a31\\u51f1\\u667a\", \"\\u8a31\\u51f1\\u667a\", \"\\u8a31\\u51f1\\u667a\", \"\\u8a31\\u51f1\\u667a\", \"\\u8a31\\u51f1\\u667a\", \"\\u8a31\\u51f1\\u667a\", \"\\u8a31\\u51f1\\u667a\", \"\\u8a31\\u51f1\\u667a\", \"\\u8a31\\u51f1\\u667a\", \"\\u8a31\\u51f1\\u667a\", \"\\u8a31\\u51f1\\u667a\", \"\\u8a31\\u51f1\\u667a\", \"\\u8a31\\u51f1\\u667a\", \"\\u8a31\\u51f1\\u667a\", \"\\u8a31\\u51f1\\u667a\", \"\\u8a31\\u51f1\\u667a\", \"\\u8a31\\u51f1\\u667a\", \"\\u8a31\\u51f1\\u667a\", \"\\u8a31\\u51f1\\u667a\", \"\\u8a31\\u51f1\\u667a\", \"\\u8a31\\u51f1\\u667a\", \"\\u8a31\\u51f1\\u667a\", \"\\u8a31\\u51f1\\u667a\", \"\\u8a31\\u51f1\\u667a\", \"\\u8a31\\u51f1\\u667a\", \"\\u8a31\\u51f1\\u667a\", \"\\u8a31\\u51f1\\u667a\", \"\\u8a31\\u51f1\\u667a\", \"\\u8a31\\u51f1\\u667a\", \"\\u8a31\\u51f1\\u667a\", \"\\u8a31\\u51f1\\u667a\", \"\\u8a31\\u51f1\\u667a\", \"\\u8a31\\u51f1\\u667a\", \"April\", \"April\", \"April\", \"April\", \"August\", \"August\", \"August\", \"December\", \"December\", \"December\", \"February\", \"February\", \"February\", \"February\", \"January\", \"January\", \"January\", \"January\", \"July\", \"July\", \"July\", \"June\", \"June\", \"June\", \"March\", \"March\", \"March\", \"March\", \"May\", \"May\", \"May\", \"May\", \"November\", \"November\", \"November\", \"October\", \"October\", \"September\", \"September\", \"September\", \"2019\", \"2020\", \"2021\", \"2022\"], \"marker\": {\"coloraxis\": \"coloraxis\", \"colors\": [75000.0, 149999.99999999997, 411000.0, 1222000.0, 93000.0, 1321000.0, 462000.00000000006, 710000.0, 1242000.0, 452000.0, 1056000.0, 1596000.0000000002, 225000.0, 30000.0, 1660000.0, 666000.0, 1846000.0, 234000.0, 565000.0, 841999.9999999999, 1221000.0, 483000.0, 949000.0, 502000.0, 1343000.0, 16374000.0, 32830000.000000004, 2740000.0, 39483000.0, 1800000.0, 10656000.0, 6780000.0, 8354000.0, 2800000.0, 2046000.0, 19810000.0, 8020000.0, 3480000.0, 32029000.0, 9048000.0, 37151000.0, 7913000.0, 27862000.0, 18406000.0, 34879000.0, 5140000.0, 32750000.0, 2040000.0000000002, 45087000.0, 548000.0, 47982000.0, 180000.0, 34000.0, 24000.0, 4000.0, 20000.0, 327000.0, 257000.0, 68000.0, 69000.0, 4000.0, 82000.0, 24000.0, 154000.0, 237000.00000000003, 102000.0, 4000.0, 144000.0, 242000.0, 1055000.0, 2807000.0, 820000.0, 356500.0, 1832000.0, 4887000.0, 1970500.0, 24000.0, 3279500.0, 2390000.0, 2323000.0, 1735000.0, 1289000.0, 838000.0, 112000.0, 2408000.0, 1071000.0, 2713500.0, 2352000.0, 2650000.0, 1430000.0, 2497000.0, 1811000.0, 1470000.0, 44000.0, 25000.0, 406000.0, 748000.0, 333000.0, 790000.0, 513000.0, 2620000.0, 74000.0, 426000.0, 109999.99999999999, 72000.0, 10000.0, 474000.0, 476000.0, 40000.0, 26000.0, 239000.0, 93000.0, 7186000.0, 70000.0, 2845000.0, 1002000.0, 915000.0, 222000.0, 21000.0, 345000.0, 45000.0, 999000.0000000001, 21000.0, 141000.0, 51000.0, 3263000.0, 4966000.0, 1381000.0, 3938000.0, 2773000.0, 29326000.0, 151000.0, 3662999.9999999995, 1200000.0, 2550000.0, 3518000.0, 2259000.0, 2749000.0, 5324000.0, 2776000.0, 5494000.0, 1813000.0, 2563000.0, 2488000.0, 10829000.0, 2679000.0, 13202000.0, 2107000.0, 10873000.0, 1919999.9999999998, 7170000.0, 1544.59, 99888.75, 53042.67, 188827.0, 21054.5, 1680.0, 9399.25, 40201.25, 17971.67, 1270.5, 168550.5, 243976.17, 78067.83, 76285.83, 2001.9200000000003, 24450.25, 30747.499999999996, 144769.25, 1770.5, 90974.0, 142805.65999999997, 129511.34000000001, 144407.58000000002, 239330.42, 8057000.0, 7482000.0, 2954000.0, 3277002.0, 6792000.0, 9215000.0, 2730000.0, 7462000.0, 60000.0, 7083000.0, 4304000.0, 5264000.0, 4726000.0, 3190000.0, 5532000.0, 3697000.0000000005, 7003000.0, 4123000.0, 260000.0, 4401000.0, 4697000.0, 7433000.0, 8351000.000000001, 6246000.000000001, 5551000.0, 4731000.0, 3641000.0, 5965000.0, 25540000.0, 10610000.0, 19784000.0, 3888000.0, 13919000.0, 6624000.0, 3651000.0000000005, 9984000.0, 6164000.0, 9255000.0, 6693000.0, 29134000.0, 5676000.0, 4613004.0, 9340000.0, 13222000.0, 3974000.0, 24591999.999999996, 6368000.0, 23937000.000000004, 11256000.0, 16149000.0, 3449000.0, 21725000.0, 1.0, 13587520.0, 16549000.0, 50228000.0, 38013000.0, 17946000.0, 39127000.0, 18916000.0, 21267000.0, 19066000.0, 35231000.0, 42547570.0, 30164000.0, 29477000.0, 47062000.0, 30460312.0, 30634000.0, 13337288.0, 26034999.999999996, 33251000.0, 12841000.0, 27377000.0, 56169000.0, 48129000.0, 54247000.0, 1.0, 1.0, 82.5, 1400.0, 6600.0, 600.0, 30000.0, 30000.0, 6000.0, 30000.0, 140000.0, 36000.0, 25000.0, 20000.0, 22000.000000000004, 125000.00000000001, 140000.0, 149000.0, 10000.0, 8000.0, 5000.0, 1.0, 3031000.0, 3559000.0, 90000.0, 4293000.0, 2656002.0, 60000.0, 1565000.0, 1670000.0, 3830000.0, 3901000.0000000005, 119999.99999999999, 4685000.0, 4223000.0, 1890000.0, 1636002.0, 3096000.0, 3772000.0, 4126000.0, 60000.0, 2099000.0, 4885000.0, 60000.0, 3726000.0000000005, 2650000.0, 3489000.0, 2150000.0, 4281000.0, 1580000.0, 1619000.0, 4405002.0, 20000.0, 303.0, 4000.0, 1320000.0, 5240000.0, 9120000.0, 3510000.0, 262000.0, 1360040.0, 8000.0, 6708002.0, 1400000.0, 5704802.0, 2636000.0, 2014000.0, 2508000.0, 474000.0, 10628000.0, 1958000.0, 7374000.0, 352000.0, 460000.0, 456000.0, 158000.0, 290000.0, 568000.0, 680000.0, 200000.0, 352000.0, 80000.0, 24000.0, 56000.0, 224000.0, 364000.0, 532000.0, 96000.0, 660000.0, 336000.0, 5000.0, 101.00000000000001, 1999.9999999999998, 900000.0, 200000.0, 1119000.0, 1299000.0, 60000.0, 25.0, 2310000.0, 120000.0, 805.0, 3200.0, 2400.0, 2100.0, 6125.0, 1800000.0, 840000.0, 1110000.0, 90000.0, 13020.0, 29400.0, 16975.0, 25480.000000000004, 41800.0, 20000.0, 35600.0, 18800.0, 8500.0, 12969.999999999998, 36000.0, 22000.0, 100.00000000000001, 52200.0, 88570.0, 11400.0, 30000.0, 36562.0, 6000.0, 52550.0, 26372.0, 350.0, 600000.0, 1710000.0, 89999.99999999999, 90000.0, 839.9999999999999, 43408.0, 300.0, 43556.0, 255000.0, 209890.0, 135000.0, 154000.0, 145200.0, 606000.0, 6000.0, 90100.0, 209000.0, 374550.0, 11000.0, 186000.0, 100000.0, 163000.0, 15799.999999999998, 115000.0, 78400.0, 154000.0, 84710.0, 170600.0, 312000.0, 9000.0, 173700.0, 268150.0, 471199.99999999994, 8000.0, 2010.0, 2000.0, 160000.0, 99.99999999999999, 8000.0, 20000.0, 4000.0, 12000.0, 20000.0, 1107000.0, 1679999.9999999998, 3606000.0, 1727999.9999999998, 4611000.0, 3390000.0, 2547000.0, 1899000.0, 447000.0, 2229000.0, 3282000.0000000005, 2769000.0, 1614000.0, 3575999.9999999995, 1254000.0, 4116000.0, 699000.0, 1590000.0, 1365000.0, 4218000.0, 1893000.0, 1782000.0000000002, 2571000.0000000005, 3042000.0, 1578000.0, 1347000.0, 1350000.0, 630000.0, 1860000.0, 666000.0, 690000.0, 690000.0, 750000.0, 480000.0, 2880000.0, 1650000.0, 90000.0, 1200000.0, 1440000.0, 300000.0, 1620000.0000000002, 1620000.0, 1650000.0, 510000.00000000006, 1710000.0, 360000.0, 1470000.0, 570000.0, 1920000.0, 894000.0, 6000.0, 543000.0, 360000.0, 303000.0, 108000.0, 192000.0, 18000.0, 351000.0, 114000.0, 510000.0, 423000.0, 360000.0, 249000.0, 492000.0, 1023000.0, 318000.0, 270000.0, 15000.0, 1143000.0, 1035000.0, 60000.0, 15000.0, 9000.0, 45000.0, 75000.0, 6000.0, 24000.0, 147000.0, 39000.0, 21000.0, 12000.0, 54000.0, 33000.0, 75000.0, 51000.0, 12000.0, 24000.0, 15000.0, 36000.0, 12000.0, 6000.0, 24000.0, 6000.0, 5646000.0, 1644000.0, 2997000.0, 3642000.0, 2403000.0, 4161000.0, 2700000.0, 3531000.0, 3000000.0, 3006000.0, 726000.0, 2229000.0, 4002000.0, 3498000.0, 1524000.0, 2100000.0, 3999000.0, 4008000.0, 9228000.0, 5472000.0, 4002000.0, 5646000.0, 5031000.0, 2679000.0, 4065000.0, 4002000.0, 3144000.0, 5433000.000000001, 1932000.0, 1449000.0, 2532000.0, 9345000.0, 7074000.0, 2199000.0, 8082000.0, 12926000.0, 4854000.0, 16638000.0, 999000.0, 36000.0, 108000.0, 6000.0, 3000.0, 99000.0, 48000.0, 2010000.0, 3000000.0, 1848000.0, 1026000.0000000001, 2820000.0, 1254000.0, 3000000.0, 501000.0, 3000000.0, 18000.0, 3408000.0, 2157000.0, 501000.0, 3000000.0, 873000.0, 1413000.0000000002, 873000.0, 3000000.0, 414000.0, 3459000.0, 1905000.0000000002, 5625716.144401061, 4408213.437050853, 2773398.2680342137, 2239259.1540188687, 4537329.666478231, 5323739.729529133, 2450991.159213895, 5191189.802917057, 416811.079908093, 4650141.072667297, 3499967.521100737, 3340031.8544120765, 2096534.9710352905, 2703113.710494315, 3408072.0706486474, 3384960.5901672137, 5408785.053201676, 2406959.933794379, 260000.0, 2708295.8044627034, 4052148.6271422245, 4333854.24547483, 4955693.877282734, 3340520.206885732, 3839139.928635654, 2389623.662255297, 1973559.2580167023, 5000.0, 4073188.0633494, 23387029.488491796, 7799769.547861557, 18213084.188745808, 2905299.3680863366, 11971824.878557503, 5061526.030582306, 2761802.9064653507, 6629334.80118698, 4324619.021925306, 8955909.045884637, 4753165.846162225, 29134000.0, 4006150.360223145, 4104706.597088154, 6255828.301984071, 9665789.610032277, 2836094.3711023205, 22765588.217243005, 4033773.684192083, 22683106.9571715, 8038492.834346363, 14311515.448801387, 2524286.7643760145, 18987420.156860102, 101.00000000000001, 1999.9999999999998, 900000.0, 1.0, 200000.0, 1119000.0, 1299000.0, 60000.0, 25.0, 2310000.0, 120000.0, 13587520.0, 16549000.0, 50228000.0, 38013000.0, 17946000.0, 39127000.0, 18916000.0, 21267000.0, 19066000.0, 35231000.0, 42547570.0, 30164000.0, 29477000.0, 47062000.0, 30460312.0, 30634000.0, 13337288.0, 26034999.999999996, 33251000.0, 12841000.0, 27377000.0, 56169000.0, 48129000.0, 54247000.0, 1544.59, 99888.75, 53042.67, 188827.0, 21054.5, 1680.0, 9399.25, 40201.25, 17971.67, 1270.5, 168550.5, 242957.90132171597, 78067.83, 76285.83, 2001.9200000000003, 24450.25, 30747.499999999996, 144769.25, 1770.5, 90974.0, 142805.65999999997, 121500.21881602993, 143664.9168097877, 239330.42, 16304438.088850105, 24108030.26724961, 2740000.0, 33939293.41973467, 497925.8590361711, 9419488.782967191, 4024965.6616954436, 8092558.066630228, 2800000.0, 612463.5951402195, 16790988.78459383, 3911700.411241342, 3480000.0, 25768471.053393617, 5284644.918881658, 31779866.50920626, 7913000.0, 20638138.11158863, 18406000.0, 20800635.21177202, 2269431.045538957, 29169752.33481382, 1868946.5807315917, 31200190.281601876, 548000.0, 34712993.81995194, 739.1536366720204, 3200.0, 2400.0, 2100.0, 6125.0, 1800000.0, 840000.0, 1110000.0, 90000.0, 22284.563506371116, 29282.0900900125, 16988.46627977503, 26072.566111246393, 42677.21303448295, 103261.42140130268, 55216.64003429846, 65571.82384545276, 8500.0, 69000.0, 13945.00760461257, 37204.79851165048, 21898.11616535232, 63400.46404357946, 59394.66037300737, 147243.6059614262, 94432.69344520036, 11400.0, 34050.04876144182, 36367.14054521681, 10169.932177216653, 52550.0, 34666.02639976952, 350.0, 600000.0, 1710000.0, 89999.99999999999, 90000.0, 839.9999999999999, 43408.0, 300.0, 43556.0, 310124.0277971975, 692926.5785392476, 231990.19712349787, 187053.59593004695, 497000.4844330678, 772585.1861820129, 6000.0, 906145.7570771032, 24000.0, 209000.0, 885846.2359350787, 791292.1892366711, 782299.247549805, 173259.63436836866, 269648.9867846982, 132853.8649968114, 114971.08675746634, 691569.6409117398, 235609.08072676178, 754057.8010846127, 908665.4813989956, 390000.83472030115, 956393.8046807566, 269177.9062501699, 521203.36799175246, 513288.43116227427, 8000.0, 2010.0, 3031000.0, 3559000.0, 90000.0, 4293000.0, 2656002.0, 60000.0, 1565000.0, 1670000.0, 3830000.0, 3901000.0000000005, 119999.99999999999, 4685000.0, 4179275.2283909386, 1890000.0, 1636002.0, 3096000.0, 3772000.0, 4126000.0, 60000.0, 2099000.0, 4885000.0, 60000.0, 3726000.0000000005, 2224058.1640048246, 3489000.0, 2150000.0, 4281000.0, 1580000.0, 1619000.0, 4405002.0, 20000.0, 99.99999999999999, 303.0, 5646000.0, 1631512.33958539, 2997000.0, 3642000.0, 2398939.249139091, 4066144.189530682, 2700000.0, 3468322.7152812616, 2972368.5417491365, 3006000.0, 726000.0, 2182336.3030229243, 4002000.0, 3498000.0, 1524000.0, 2053066.3280389998, 3910594.4316668683, 4008000.0, 9216309.381233037, 5411589.308053618, 4002000.0, 5635541.075321695, 5025210.846441836, 2678279.929693693, 4000221.1582226097, 4002000.0, 3144000.0, 5380499.061076821, 1928923.3896375794, 1449000.0, 2532000.0, 9342132.129524743, 7046567.054382554, 2199000.0, 8066219.398796714, 12628392.444705421, 4847195.525970089, 16112326.641549515, 999000.0, 1002000.0, 915000.0, 222000.0, 21000.0, 345000.0, 45000.0, 999000.0000000001, 21000.0, 141000.0, 51000.0, 3155172.447656293, 3944912.9883286487, 4462891.096937192, 5896169.486414828, 3159206.6734415907, 29326000.0, 151000.0, 3505923.5745307948, 1200000.0, 2550000.0, 2682795.83782188, 2259000.0, 2540279.4135247516, 5633250.143879892, 2776000.0, 4672073.211474355, 5273168.929426327, 2593299.1978459256, 2488000.0, 8344283.854353331, 2590189.1691015526, 13202000.0, 1886185.0008591362, 10612283.712891394, 1939180.23119248, 6783161.402801948, 2010000.0, 3000000.0, 1848000.0, 1026000.0000000001, 2820000.0, 1254000.0, 3000000.0, 501000.0, 3000000.0, 18000.0, 3408000.0, 2157000.0, 501000.0, 3000000.0, 873000.0, 1413000.0000000002, 873000.0, 3000000.0, 414000.0, 3459000.0, 1905000.0000000002, 25.0, 1386347.6631737459, 3200.0, 1119000.0, 840000.0, 2400.0, 1.0, 101.00000000000001, 4175.151215341847, 1607408.7348693619, 20000.0, 93089.54207668749, 6125.0, 6962495.196549165, 14824399.849069893, 90000.0, 24382889.683541592, 20704682.774204403, 60000.0, 8075303.145821719, 21844578.221374184, 8313619.4138115505, 10067105.80287021, 933795.8386727383, 8342530.771348054, 17462684.796536528, 4743336.063303072, 22476798.44724419, 19641523.167283475, 12393276.156128425, 22968265.136467937, 60000.0, 15217565.508687338, 15455341.10460076, 173398.87013489392, 6528769.900866169, 16959277.10504516, 14595339.61085596, 10237143.295374738, 11524893.09391943, 30111067.5708966, 26235418.87524145, 27813164.936671983, 2316334.0998402797, 1186272.4330452278, 2998587.8012143713, 3642000.0, 1264915.8100121976, 2116092.226559335, 2700000.0, 1659332.054532012, 5105621.425229315, 3006000.0, 627825.7904558916, 1536590.3063972108, 3123686.123560116, 3498000.0, 629364.6369905322, 1213726.0251941376, 2558056.6119818036, 4008000.0, 4812051.291405989, 2819932.8631924023, 4002000.0, 2726633.308373038, 2737789.3787376666, 1771422.485782661, 2439738.831163589, 3543975.164797226, 3144000.0, 2339057.8200842016, 2409361.5737083685, 1430376.3855537158, 2532000.0, 5097803.6366687305, 3485553.481350274, 2199000.0, 6052765.76741418, 6877046.814743957, 1528027.1146473936, 6526878.94662506, 999000.0, 5949048.597276241, 12804244.12760952, 2856675.6533280094, 3642000.0, 22785844.88136875, 16760567.595257167, 2534334.4901979174, 6850887.585576473, 16078688.912987627, 3006000.0, 8144210.291020867, 8552023.34846985, 2746613.7446719483, 3498000.0, 7616225.862639621, 14739426.901843695, 3835218.3026482426, 4008000.0, 19715916.20262417, 16477639.435937513, 4002000.0, 11184085.560389299, 20124574.36994902, 60000.0, 13318751.839814587, 14094499.55052807, 3257448.2280051145, 3144000.0, 5676532.779524463, 15442708.023167137, 1430376.3855537158, 2532000.0, 12564983.614671553, 7009159.156649934, 2199000.0, 10830233.884032905, 25099651.395177282, 22469050.01414083, 21979155.24785129, 999000.0, 13741929.905599644, 16606124.010116862, 3368287.969308749, 3439894.4967800244]}, \"name\": \"\", \"parents\": [\"2019/April/\\u6c88\\u601d\\u660e/Bourns\", \"2020/April/\\u6c88\\u601d\\u660e/Bourns\", \"2019/August/\\u6c88\\u601d\\u660e/Bourns\", \"2020/August/\\u6c88\\u601d\\u660e/Bourns\", \"2019/December/\\u6c88\\u601d\\u660e/Bourns\", \"2020/December/\\u6c88\\u601d\\u660e/Bourns\", \"2019/February/\\u6c88\\u601d\\u660e/Bourns\", \"2020/February/\\u6c88\\u601d\\u660e/Bourns\", \"2019/January/\\u6c88\\u601d\\u660e/Bourns\", \"2020/January/\\u6c88\\u601d\\u660e/Bourns\", \"2021/January/\\u6c88\\u601d\\u660e/Bourns\", \"2019/July/\\u6c88\\u601d\\u660e/Bourns\", \"2020/July/\\u6c88\\u601d\\u660e/Bourns\", \"2019/June/\\u6c88\\u601d\\u660e/Bourns\", \"2020/June/\\u6c88\\u601d\\u660e/Bourns\", \"2019/March/\\u6c88\\u601d\\u660e/Bourns\", \"2020/March/\\u6c88\\u601d\\u660e/Bourns\", \"2019/May/\\u6c88\\u601d\\u660e/Bourns\", \"2020/May/\\u6c88\\u601d\\u660e/Bourns\", \"2019/November/\\u6c88\\u601d\\u660e/Bourns\", \"2020/November/\\u6c88\\u601d\\u660e/Bourns\", \"2019/October/\\u6c88\\u601d\\u660e/Bourns\", \"2020/October/\\u6c88\\u601d\\u660e/Bourns\", \"2019/September/\\u6c88\\u601d\\u660e/Bourns\", \"2020/September/\\u6c88\\u601d\\u660e/Bourns\", \"2019/April/\\u6c88\\u601d\\u660e/Laird\", \"2020/April/\\u6c88\\u601d\\u660e/Laird\", \"2019/August/\\u6c88\\u601d\\u660e/Laird\", \"2020/August/\\u6c88\\u601d\\u660e/Laird\", \"2019/December/\\u6c88\\u601d\\u660e/Laird\", \"2020/December/\\u6c88\\u601d\\u660e/Laird\", \"2019/February/\\u6c88\\u601d\\u660e/Laird\", \"2020/February/\\u6c88\\u601d\\u660e/Laird\", \"2021/February/\\u6c88\\u601d\\u660e/Laird\", \"2019/January/\\u6c88\\u601d\\u660e/Laird\", \"2020/January/\\u6c88\\u601d\\u660e/Laird\", \"2021/January/\\u6c88\\u601d\\u660e/Laird\", \"2019/July/\\u6c88\\u601d\\u660e/Laird\", \"2020/July/\\u6c88\\u601d\\u660e/Laird\", \"2019/June/\\u6c88\\u601d\\u660e/Laird\", \"2020/June/\\u6c88\\u601d\\u660e/Laird\", \"2019/March/\\u6c88\\u601d\\u660e/Laird\", \"2020/March/\\u6c88\\u601d\\u660e/Laird\", \"2019/May/\\u6c88\\u601d\\u660e/Laird\", \"2020/May/\\u6c88\\u601d\\u660e/Laird\", \"2019/November/\\u6c88\\u601d\\u660e/Laird\", \"2020/November/\\u6c88\\u601d\\u660e/Laird\", \"2019/October/\\u6c88\\u601d\\u660e/Laird\", \"2020/October/\\u6c88\\u601d\\u660e/Laird\", \"2019/September/\\u6c88\\u601d\\u660e/Laird\", \"2020/September/\\u6c88\\u601d\\u660e/Laird\", \"2019/April/\\u8a31\\u51f1\\u667a/MT-SYSTEM\", \"2020/April/\\u8a31\\u51f1\\u667a/MT-SYSTEM\", \"2019/August/\\u8a31\\u51f1\\u667a/MT-SYSTEM\", \"2020/August/\\u8a31\\u51f1\\u667a/MT-SYSTEM\", \"2019/December/\\u8a31\\u51f1\\u667a/MT-SYSTEM\", \"2020/December/\\u8a31\\u51f1\\u667a/MT-SYSTEM\", \"2020/February/\\u8a31\\u51f1\\u667a/MT-SYSTEM\", \"2019/January/\\u8a31\\u51f1\\u667a/MT-SYSTEM\", \"2021/January/\\u8a31\\u51f1\\u667a/MT-SYSTEM\", \"2019/July/\\u8a31\\u51f1\\u667a/MT-SYSTEM\", \"2020/July/\\u8a31\\u51f1\\u667a/MT-SYSTEM\", \"2019/June/\\u8a31\\u51f1\\u667a/MT-SYSTEM\", \"2020/June/\\u8a31\\u51f1\\u667a/MT-SYSTEM\", \"2020/March/\\u8a31\\u51f1\\u667a/MT-SYSTEM\", \"2020/November/\\u8a31\\u51f1\\u667a/MT-SYSTEM\", \"2019/October/\\u8a31\\u51f1\\u667a/MT-SYSTEM\", \"2020/October/\\u8a31\\u51f1\\u667a/MT-SYSTEM\", \"2020/September/\\u8a31\\u51f1\\u667a/MT-SYSTEM\", \"2019/April/\\u8a31\\u51f1\\u667a/TELTONIKA\", \"2020/April/\\u8a31\\u51f1\\u667a/TELTONIKA\", \"2019/August/\\u8a31\\u51f1\\u667a/TELTONIKA\", \"2020/August/\\u8a31\\u51f1\\u667a/TELTONIKA\", \"2019/December/\\u8a31\\u51f1\\u667a/TELTONIKA\", \"2020/December/\\u8a31\\u51f1\\u667a/TELTONIKA\", \"2020/February/\\u8a31\\u51f1\\u667a/TELTONIKA\", \"2021/February/\\u8a31\\u51f1\\u667a/TELTONIKA\", \"2020/January/\\u8a31\\u51f1\\u667a/TELTONIKA\", \"2021/January/\\u8a31\\u51f1\\u667a/TELTONIKA\", \"2019/July/\\u8a31\\u51f1\\u667a/TELTONIKA\", \"2020/July/\\u8a31\\u51f1\\u667a/TELTONIKA\", \"2019/June/\\u8a31\\u51f1\\u667a/TELTONIKA\", \"2020/June/\\u8a31\\u51f1\\u667a/TELTONIKA\", \"2019/March/\\u8a31\\u51f1\\u667a/TELTONIKA\", \"2020/March/\\u8a31\\u51f1\\u667a/TELTONIKA\", \"2019/May/\\u8a31\\u51f1\\u667a/TELTONIKA\", \"2020/May/\\u8a31\\u51f1\\u667a/TELTONIKA\", \"2019/November/\\u8a31\\u51f1\\u667a/TELTONIKA\", \"2020/November/\\u8a31\\u51f1\\u667a/TELTONIKA\", \"2019/October/\\u8a31\\u51f1\\u667a/TELTONIKA\", \"2020/October/\\u8a31\\u51f1\\u667a/TELTONIKA\", \"2019/September/\\u8a31\\u51f1\\u667a/TELTONIKA\", \"2020/September/\\u8a31\\u51f1\\u667a/TELTONIKA\", \"2020/April/\\u8a31\\u51f1\\u667a/\\u4fe1\\u660c\", \"2019/August/\\u8a31\\u51f1\\u667a/\\u4fe1\\u660c\", \"2020/August/\\u8a31\\u51f1\\u667a/\\u4fe1\\u660c\", \"2019/December/\\u8a31\\u51f1\\u667a/\\u4fe1\\u660c\", \"2020/December/\\u8a31\\u51f1\\u667a/\\u4fe1\\u660c\", \"2020/February/\\u8a31\\u51f1\\u667a/\\u4fe1\\u660c\", \"2020/January/\\u8a31\\u51f1\\u667a/\\u4fe1\\u660c\", \"2021/January/\\u8a31\\u51f1\\u667a/\\u4fe1\\u660c\", \"2019/July/\\u8a31\\u51f1\\u667a/\\u4fe1\\u660c\", \"2020/July/\\u8a31\\u51f1\\u667a/\\u4fe1\\u660c\", \"2019/June/\\u8a31\\u51f1\\u667a/\\u4fe1\\u660c\", \"2020/June/\\u8a31\\u51f1\\u667a/\\u4fe1\\u660c\", \"2019/March/\\u8a31\\u51f1\\u667a/\\u4fe1\\u660c\", \"2020/March/\\u8a31\\u51f1\\u667a/\\u4fe1\\u660c\", \"2019/May/\\u8a31\\u51f1\\u667a/\\u4fe1\\u660c\", \"2020/May/\\u8a31\\u51f1\\u667a/\\u4fe1\\u660c\", \"2019/November/\\u8a31\\u51f1\\u667a/\\u4fe1\\u660c\", \"2020/November/\\u8a31\\u51f1\\u667a/\\u4fe1\\u660c\", \"2019/October/\\u8a31\\u51f1\\u667a/\\u4fe1\\u660c\", \"2020/October/\\u8a31\\u51f1\\u667a/\\u4fe1\\u660c\", \"2019/September/\\u8a31\\u51f1\\u667a/\\u4fe1\\u660c\", \"2020/September/\\u8a31\\u51f1\\u667a/\\u4fe1\\u660c\", \"2019/April/\\u8a31\\u51f1\\u667a/\\u6771\\u839e\\u5f18\\u96fb\", \"2019/August/\\u8a31\\u51f1\\u667a/\\u6771\\u839e\\u5f18\\u96fb\", \"2019/December/\\u8a31\\u51f1\\u667a/\\u6771\\u839e\\u5f18\\u96fb\", \"2020/February/\\u8a31\\u51f1\\u667a/\\u6771\\u839e\\u5f18\\u96fb\", \"2019/July/\\u8a31\\u51f1\\u667a/\\u6771\\u839e\\u5f18\\u96fb\", \"2019/June/\\u8a31\\u51f1\\u667a/\\u6771\\u839e\\u5f18\\u96fb\", \"2019/May/\\u8a31\\u51f1\\u667a/\\u6771\\u839e\\u5f18\\u96fb\", \"2020/May/\\u8a31\\u51f1\\u667a/\\u6771\\u839e\\u5f18\\u96fb\", \"2019/October/\\u8a31\\u51f1\\u667a/\\u6771\\u839e\\u5f18\\u96fb\", \"2019/September/\\u8a31\\u51f1\\u667a/\\u6771\\u839e\\u5f18\\u96fb\", \"2019/April/\\u8a31\\u51f1\\u667a/\\u83ef\\u65b0\\u79d1\\u6280\", \"2020/April/\\u8a31\\u51f1\\u667a/\\u83ef\\u65b0\\u79d1\\u6280\", \"2019/August/\\u8a31\\u51f1\\u667a/\\u83ef\\u65b0\\u79d1\\u6280\", \"2020/August/\\u8a31\\u51f1\\u667a/\\u83ef\\u65b0\\u79d1\\u6280\", \"2019/December/\\u8a31\\u51f1\\u667a/\\u83ef\\u65b0\\u79d1\\u6280\", \"2020/December/\\u8a31\\u51f1\\u667a/\\u83ef\\u65b0\\u79d1\\u6280\", \"2019/February/\\u8a31\\u51f1\\u667a/\\u83ef\\u65b0\\u79d1\\u6280\", \"2020/February/\\u8a31\\u51f1\\u667a/\\u83ef\\u65b0\\u79d1\\u6280\", \"2021/February/\\u8a31\\u51f1\\u667a/\\u83ef\\u65b0\\u79d1\\u6280\", \"2019/January/\\u8a31\\u51f1\\u667a/\\u83ef\\u65b0\\u79d1\\u6280\", \"2020/January/\\u8a31\\u51f1\\u667a/\\u83ef\\u65b0\\u79d1\\u6280\", \"2021/January/\\u8a31\\u51f1\\u667a/\\u83ef\\u65b0\\u79d1\\u6280\", \"2019/July/\\u8a31\\u51f1\\u667a/\\u83ef\\u65b0\\u79d1\\u6280\", \"2020/July/\\u8a31\\u51f1\\u667a/\\u83ef\\u65b0\\u79d1\\u6280\", \"2019/June/\\u8a31\\u51f1\\u667a/\\u83ef\\u65b0\\u79d1\\u6280\", \"2020/June/\\u8a31\\u51f1\\u667a/\\u83ef\\u65b0\\u79d1\\u6280\", \"2019/March/\\u8a31\\u51f1\\u667a/\\u83ef\\u65b0\\u79d1\\u6280\", \"2020/March/\\u8a31\\u51f1\\u667a/\\u83ef\\u65b0\\u79d1\\u6280\", \"2019/May/\\u8a31\\u51f1\\u667a/\\u83ef\\u65b0\\u79d1\\u6280\", \"2020/May/\\u8a31\\u51f1\\u667a/\\u83ef\\u65b0\\u79d1\\u6280\", \"2019/November/\\u8a31\\u51f1\\u667a/\\u83ef\\u65b0\\u79d1\\u6280\", \"2020/November/\\u8a31\\u51f1\\u667a/\\u83ef\\u65b0\\u79d1\\u6280\", \"2019/October/\\u8a31\\u51f1\\u667a/\\u83ef\\u65b0\\u79d1\\u6280\", \"2020/October/\\u8a31\\u51f1\\u667a/\\u83ef\\u65b0\\u79d1\\u6280\", \"2019/September/\\u8a31\\u51f1\\u667a/\\u83ef\\u65b0\\u79d1\\u6280\", \"2020/September/\\u8a31\\u51f1\\u667a/\\u83ef\\u65b0\\u79d1\\u6280\", \"2019/April/\\u6c88\\u601d\\u660e/LF OEM\", \"2020/April/\\u6c88\\u601d\\u660e/LF OEM\", \"2019/August/\\u6c88\\u601d\\u660e/LF OEM\", \"2020/August/\\u6c88\\u601d\\u660e/LF OEM\", \"2019/December/\\u6c88\\u601d\\u660e/LF OEM\", \"2020/December/\\u6c88\\u601d\\u660e/LF OEM\", \"2019/February/\\u6c88\\u601d\\u660e/LF OEM\", \"2020/February/\\u6c88\\u601d\\u660e/LF OEM\", \"2019/January/\\u6c88\\u601d\\u660e/LF OEM\", \"2020/January/\\u6c88\\u601d\\u660e/LF OEM\", \"2019/July/\\u6c88\\u601d\\u660e/LF OEM\", \"2020/July/\\u6c88\\u601d\\u660e/LF OEM\", \"2019/June/\\u6c88\\u601d\\u660e/LF OEM\", \"2020/June/\\u6c88\\u601d\\u660e/LF OEM\", \"2019/March/\\u6c88\\u601d\\u660e/LF OEM\", \"2020/March/\\u6c88\\u601d\\u660e/LF OEM\", \"2019/May/\\u6c88\\u601d\\u660e/LF OEM\", \"2020/May/\\u6c88\\u601d\\u660e/LF OEM\", \"2019/November/\\u6c88\\u601d\\u660e/LF OEM\", \"2020/November/\\u6c88\\u601d\\u660e/LF OEM\", \"2019/October/\\u6c88\\u601d\\u660e/LF OEM\", \"2020/October/\\u6c88\\u601d\\u660e/LF OEM\", \"2019/September/\\u6c88\\u601d\\u660e/LF OEM\", \"2020/September/\\u6c88\\u601d\\u660e/LF OEM\", \"2019/April/\\u6c88\\u601d\\u660e/Bourns\", \"2020/April/\\u6c88\\u601d\\u660e/Bourns\", \"2019/August/\\u6c88\\u601d\\u660e/Bourns\", \"2020/August/\\u6c88\\u601d\\u660e/Bourns\", \"2019/December/\\u6c88\\u601d\\u660e/Bourns\", \"2020/December/\\u6c88\\u601d\\u660e/Bourns\", \"2019/February/\\u6c88\\u601d\\u660e/Bourns\", \"2020/February/\\u6c88\\u601d\\u660e/Bourns\", \"2021/February/\\u6c88\\u601d\\u660e/Bourns\", \"2019/January/\\u6c88\\u601d\\u660e/Bourns\", \"2020/January/\\u6c88\\u601d\\u660e/Bourns\", \"2021/January/\\u6c88\\u601d\\u660e/Bourns\", \"2019/July/\\u6c88\\u601d\\u660e/Bourns\", \"2020/July/\\u6c88\\u601d\\u660e/Bourns\", \"2019/June/\\u6c88\\u601d\\u660e/Bourns\", \"2020/June/\\u6c88\\u601d\\u660e/Bourns\", \"2019/March/\\u6c88\\u601d\\u660e/Bourns\", \"2020/March/\\u6c88\\u601d\\u660e/Bourns\", \"2021/March/\\u6c88\\u601d\\u660e/Bourns\", \"2019/May/\\u6c88\\u601d\\u660e/Bourns\", \"2020/May/\\u6c88\\u601d\\u660e/Bourns\", \"2019/November/\\u6c88\\u601d\\u660e/Bourns\", \"2020/November/\\u6c88\\u601d\\u660e/Bourns\", \"2019/October/\\u6c88\\u601d\\u660e/Bourns\", \"2020/October/\\u6c88\\u601d\\u660e/Bourns\", \"2019/September/\\u6c88\\u601d\\u660e/Bourns\", \"2020/September/\\u6c88\\u601d\\u660e/Bourns\", \"2019/April/\\u6c88\\u601d\\u660e/Eaton\", \"2020/April/\\u6c88\\u601d\\u660e/Eaton\", \"2019/August/\\u6c88\\u601d\\u660e/Eaton\", \"2020/August/\\u6c88\\u601d\\u660e/Eaton\", \"2019/December/\\u6c88\\u601d\\u660e/Eaton\", \"2020/December/\\u6c88\\u601d\\u660e/Eaton\", \"2019/February/\\u6c88\\u601d\\u660e/Eaton\", \"2020/February/\\u6c88\\u601d\\u660e/Eaton\", \"2019/January/\\u6c88\\u601d\\u660e/Eaton\", \"2020/January/\\u6c88\\u601d\\u660e/Eaton\", \"2021/January/\\u6c88\\u601d\\u660e/Eaton\", \"2019/July/\\u6c88\\u601d\\u660e/Eaton\", \"2020/July/\\u6c88\\u601d\\u660e/Eaton\", \"2019/June/\\u6c88\\u601d\\u660e/Eaton\", \"2020/June/\\u6c88\\u601d\\u660e/Eaton\", \"2019/March/\\u6c88\\u601d\\u660e/Eaton\", \"2020/March/\\u6c88\\u601d\\u660e/Eaton\", \"2019/May/\\u6c88\\u601d\\u660e/Eaton\", \"2020/May/\\u6c88\\u601d\\u660e/Eaton\", \"2019/November/\\u6c88\\u601d\\u660e/Eaton\", \"2020/November/\\u6c88\\u601d\\u660e/Eaton\", \"2019/October/\\u6c88\\u601d\\u660e/Eaton\", \"2020/October/\\u6c88\\u601d\\u660e/Eaton\", \"2019/September/\\u6c88\\u601d\\u660e/Eaton\", \"2020/September/\\u6c88\\u601d\\u660e/Eaton\", \"2020/March/\\u58a8\\u6f22\\u96f7\\u8fea/Fides\", \"2019/April/\\u6c88\\u601d\\u660e/LF\", \"2020/April/\\u6c88\\u601d\\u660e/LF\", \"2019/August/\\u6c88\\u601d\\u660e/LF\", \"2020/August/\\u6c88\\u601d\\u660e/LF\", \"2019/December/\\u6c88\\u601d\\u660e/LF\", \"2020/December/\\u6c88\\u601d\\u660e/LF\", \"2019/February/\\u6c88\\u601d\\u660e/LF\", \"2020/February/\\u6c88\\u601d\\u660e/LF\", \"2019/January/\\u6c88\\u601d\\u660e/LF\", \"2020/January/\\u6c88\\u601d\\u660e/LF\", \"2019/July/\\u6c88\\u601d\\u660e/LF\", \"2020/July/\\u6c88\\u601d\\u660e/LF\", \"2019/June/\\u6c88\\u601d\\u660e/LF\", \"2020/June/\\u6c88\\u601d\\u660e/LF\", \"2019/March/\\u6c88\\u601d\\u660e/LF\", \"2020/March/\\u6c88\\u601d\\u660e/LF\", \"2019/May/\\u6c88\\u601d\\u660e/LF\", \"2020/May/\\u6c88\\u601d\\u660e/LF\", \"2019/November/\\u6c88\\u601d\\u660e/LF\", \"2020/November/\\u6c88\\u601d\\u660e/LF\", \"2019/October/\\u6c88\\u601d\\u660e/LF\", \"2020/October/\\u6c88\\u601d\\u660e/LF\", \"2019/September/\\u6c88\\u601d\\u660e/LF\", \"2020/September/\\u6c88\\u601d\\u660e/LF\", \"2020/July/\\u6c88\\u601d\\u660e/LF OEM\", \"2020/October/\\u6c88\\u601d\\u660e/LF OEM\", \"2019/September/\\u6c88\\u601d\\u660e/LF OEM\", \"2020/August/\\u6c88\\u601d\\u660e/Laird\", \"2020/July/\\u6c88\\u601d\\u660e/Laird\", \"2020/August/\\u58a8\\u6f22\\u96f7\\u8fea/M.S.\", \"2019/April/\\u8a31\\u51f1\\u667a/MT-SYSTEM\", \"2020/April/\\u8a31\\u51f1\\u667a/MT-SYSTEM\", \"2019/August/\\u8a31\\u51f1\\u667a/MT-SYSTEM\", \"2019/December/\\u8a31\\u51f1\\u667a/MT-SYSTEM\", \"2020/December/\\u8a31\\u51f1\\u667a/MT-SYSTEM\", \"2020/February/\\u8a31\\u51f1\\u667a/MT-SYSTEM\", \"2019/July/\\u8a31\\u51f1\\u667a/MT-SYSTEM\", \"2019/June/\\u8a31\\u51f1\\u667a/MT-SYSTEM\", \"2020/June/\\u8a31\\u51f1\\u667a/MT-SYSTEM\", \"2019/March/\\u8a31\\u51f1\\u667a/MT-SYSTEM\", \"2020/March/\\u8a31\\u51f1\\u667a/MT-SYSTEM\", \"2019/May/\\u8a31\\u51f1\\u667a/MT-SYSTEM\", \"2020/November/\\u8a31\\u51f1\\u667a/MT-SYSTEM\", \"2019/October/\\u8a31\\u51f1\\u667a/MT-SYSTEM\", \"2020/October/\\u8a31\\u51f1\\u667a/MT-SYSTEM\", \"2020/September/\\u8a31\\u51f1\\u667a/MT-SYSTEM\", \"2019/April/\\u6c88\\u601d\\u660e/WE\", \"2020/April/\\u6c88\\u601d\\u660e/WE\", \"2021/April/\\u6c88\\u601d\\u660e/WE\", \"2019/August/\\u6c88\\u601d\\u660e/WE\", \"2020/August/\\u6c88\\u601d\\u660e/WE\", \"2021/August/\\u6c88\\u601d\\u660e/WE\", \"2019/December/\\u6c88\\u601d\\u660e/WE\", \"2020/December/\\u6c88\\u601d\\u660e/WE\", \"2019/February/\\u6c88\\u601d\\u660e/WE\", \"2020/February/\\u6c88\\u601d\\u660e/WE\", \"2021/February/\\u6c88\\u601d\\u660e/WE\", \"2019/January/\\u6c88\\u601d\\u660e/WE\", \"2020/January/\\u6c88\\u601d\\u660e/WE\", \"2021/January/\\u6c88\\u601d\\u660e/WE\", \"2019/July/\\u6c88\\u601d\\u660e/WE\", \"2020/July/\\u6c88\\u601d\\u660e/WE\", \"2019/June/\\u6c88\\u601d\\u660e/WE\", \"2020/June/\\u6c88\\u601d\\u660e/WE\", \"2021/June/\\u6c88\\u601d\\u660e/WE\", \"2019/March/\\u6c88\\u601d\\u660e/WE\", \"2020/March/\\u6c88\\u601d\\u660e/WE\", \"2021/March/\\u6c88\\u601d\\u660e/WE\", \"2019/May/\\u6c88\\u601d\\u660e/WE\", \"2020/May/\\u6c88\\u601d\\u660e/WE\", \"2019/November/\\u6c88\\u601d\\u660e/WE\", \"2020/November/\\u6c88\\u601d\\u660e/WE\", \"2019/October/\\u6c88\\u601d\\u660e/WE\", \"2020/October/\\u6c88\\u601d\\u660e/WE\", \"2019/September/\\u6c88\\u601d\\u660e/WE\", \"2020/September/\\u6c88\\u601d\\u660e/WE\", \"2019/October/\\u58a8\\u6f22\\u96f7\\u8fea/WiSilica\", \"2020/November/\\u8a31\\u51f1\\u667a/Zebra\", \"2019/April/\\u8a31\\u51f1\\u667a/\\u83ef\\u65b0\\u79d1\\u6280\", \"2020/April/\\u8a31\\u51f1\\u667a/\\u83ef\\u65b0\\u79d1\\u6280\", \"2019/August/\\u8a31\\u51f1\\u667a/\\u83ef\\u65b0\\u79d1\\u6280\", \"2020/August/\\u8a31\\u51f1\\u667a/\\u83ef\\u65b0\\u79d1\\u6280\", \"2019/December/\\u8a31\\u51f1\\u667a/\\u83ef\\u65b0\\u79d1\\u6280\", \"2020/February/\\u8a31\\u51f1\\u667a/\\u83ef\\u65b0\\u79d1\\u6280\", \"2020/January/\\u8a31\\u51f1\\u667a/\\u83ef\\u65b0\\u79d1\\u6280\", \"2019/July/\\u8a31\\u51f1\\u667a/\\u83ef\\u65b0\\u79d1\\u6280\", \"2020/July/\\u8a31\\u51f1\\u667a/\\u83ef\\u65b0\\u79d1\\u6280\", \"2020/June/\\u8a31\\u51f1\\u667a/\\u83ef\\u65b0\\u79d1\\u6280\", \"2019/March/\\u8a31\\u51f1\\u667a/\\u83ef\\u65b0\\u79d1\\u6280\", \"2020/March/\\u8a31\\u51f1\\u667a/\\u83ef\\u65b0\\u79d1\\u6280\", \"2020/May/\\u8a31\\u51f1\\u667a/\\u83ef\\u65b0\\u79d1\\u6280\", \"2019/November/\\u8a31\\u51f1\\u667a/\\u83ef\\u65b0\\u79d1\\u6280\", \"2019/October/\\u8a31\\u51f1\\u667a/\\u83ef\\u65b0\\u79d1\\u6280\", \"2020/October/\\u8a31\\u51f1\\u667a/\\u83ef\\u65b0\\u79d1\\u6280\", \"2019/September/\\u8a31\\u51f1\\u667a/\\u83ef\\u65b0\\u79d1\\u6280\", \"2020/September/\\u8a31\\u51f1\\u667a/\\u83ef\\u65b0\\u79d1\\u6280\", \"2020/April/\\u6c88\\u601d\\u660e/Bourns\", \"2019/August/\\u6c88\\u601d\\u660e/Bourns\", \"2019/December/\\u6c88\\u601d\\u660e/Bourns\", \"2020/December/\\u6c88\\u601d\\u660e/Bourns\", \"2021/January/\\u6c88\\u601d\\u660e/Bourns\", \"2019/July/\\u6c88\\u601d\\u660e/Bourns\", \"2020/July/\\u6c88\\u601d\\u660e/Bourns\", \"2019/June/\\u6c88\\u601d\\u660e/Bourns\", \"2020/June/\\u6c88\\u601d\\u660e/Bourns\", \"2020/March/\\u6c88\\u601d\\u660e/Bourns\", \"2019/May/\\u6c88\\u601d\\u660e/Bourns\", \"2020/May/\\u6c88\\u601d\\u660e/Bourns\", \"2019/November/\\u6c88\\u601d\\u660e/Bourns\", \"2020/November/\\u6c88\\u601d\\u660e/Bourns\", \"2019/October/\\u6c88\\u601d\\u660e/Bourns\", \"2020/October/\\u6c88\\u601d\\u660e/Bourns\", \"2019/September/\\u6c88\\u601d\\u660e/Bourns\", \"2020/September/\\u6c88\\u601d\\u660e/Bourns\", \"2019/November/\\u58a8\\u6f22\\u96f7\\u8fea/Credence\", \"2019/May/\\u58a8\\u6f22\\u96f7\\u8fea/Eteily\", \"2019/November/\\u58a8\\u6f22\\u96f7\\u8fea/Eteily\", \"2020/November/\\u58a8\\u6f22\\u96f7\\u8fea/FIRST EN\", \"2020/August/\\u58a8\\u6f22\\u96f7\\u8fea/G -PLAST\", \"2021/January/\\u58a8\\u6f22\\u96f7\\u8fea/G -PLAST\", \"2020/November/\\u58a8\\u6f22\\u96f7\\u8fea/G -PLAST\", \"2020/October/\\u58a8\\u6f22\\u96f7\\u8fea/G -PLAST\", \"2019/April/\\u58a8\\u6f22\\u96f7\\u8fea/Globalte\", \"2020/November/\\u58a8\\u6f22\\u96f7\\u8fea/JBJ\", \"2020/October/\\u58a8\\u6f22\\u96f7\\u8fea/JBJ\", \"2020/August/\\u58a8\\u6f22\\u96f7\\u8fea/M.S.\", \"2019/December/\\u58a8\\u6f22\\u96f7\\u8fea/M.S.\", \"2020/June/\\u58a8\\u6f22\\u96f7\\u8fea/M.S.\", \"2020/November/\\u58a8\\u6f22\\u96f7\\u8fea/M.S.\", \"2020/September/\\u58a8\\u6f22\\u96f7\\u8fea/M.S.\", \"2020/August/\\u58a8\\u6f22\\u96f7\\u8fea/MATE\", \"2020/July/\\u58a8\\u6f22\\u96f7\\u8fea/MATE\", \"2020/November/\\u58a8\\u6f22\\u96f7\\u8fea/MATE\", \"2020/October/\\u58a8\\u6f22\\u96f7\\u8fea/MATE\", \"2019/April/\\u8a31\\u51f1\\u667a/MT-SYSTEM\", \"2020/April/\\u8a31\\u51f1\\u667a/MT-SYSTEM\", \"2019/August/\\u8a31\\u51f1\\u667a/MT-SYSTEM\", \"2020/August/\\u8a31\\u51f1\\u667a/MT-SYSTEM\", \"2019/December/\\u8a31\\u51f1\\u667a/MT-SYSTEM\", \"2020/December/\\u8a31\\u51f1\\u667a/MT-SYSTEM\", \"2020/February/\\u8a31\\u51f1\\u667a/MT-SYSTEM\", \"2019/January/\\u8a31\\u51f1\\u667a/MT-SYSTEM\", \"2020/January/\\u8a31\\u51f1\\u667a/MT-SYSTEM\", \"2019/July/\\u8a31\\u51f1\\u667a/MT-SYSTEM\", \"2020/July/\\u8a31\\u51f1\\u667a/MT-SYSTEM\", \"2019/June/\\u8a31\\u51f1\\u667a/MT-SYSTEM\", \"2020/June/\\u8a31\\u51f1\\u667a/MT-SYSTEM\", \"2019/March/\\u8a31\\u51f1\\u667a/MT-SYSTEM\", \"2019/May/\\u8a31\\u51f1\\u667a/MT-SYSTEM\", \"2019/November/\\u8a31\\u51f1\\u667a/MT-SYSTEM\", \"2020/November/\\u8a31\\u51f1\\u667a/MT-SYSTEM\", \"2019/October/\\u8a31\\u51f1\\u667a/MT-SYSTEM\", \"2020/October/\\u8a31\\u51f1\\u667a/MT-SYSTEM\", \"2019/September/\\u8a31\\u51f1\\u667a/MT-SYSTEM\", \"2020/September/\\u8a31\\u51f1\\u667a/MT-SYSTEM\", \"2020/August/\\u58a8\\u6f22\\u96f7\\u8fea/Nexty\", \"2020/August/\\u58a8\\u6f22\\u96f7\\u8fea/SSF\", \"2020/November/\\u58a8\\u6f22\\u96f7\\u8fea/SSF\", \"2020/October/\\u58a8\\u6f22\\u96f7\\u8fea/SSF\", \"2020/November/\\u58a8\\u6f22\\u96f7\\u8fea/Sancraft\", \"2019/July/\\u8a31\\u51f1\\u667a/TE \", \"2020/June/\\u8a31\\u51f1\\u667a/TE \", \"2019/October/\\u8a31\\u51f1\\u667a/TE \", \"2019/September/\\u8a31\\u51f1\\u667a/TE \", \"2019/April/\\u8a31\\u51f1\\u667a/TELTONIKA\", \"2020/April/\\u8a31\\u51f1\\u667a/TELTONIKA\", \"2019/August/\\u8a31\\u51f1\\u667a/TELTONIKA\", \"2020/August/\\u8a31\\u51f1\\u667a/TELTONIKA\", \"2019/December/\\u8a31\\u51f1\\u667a/TELTONIKA\", \"2020/December/\\u8a31\\u51f1\\u667a/TELTONIKA\", \"2019/February/\\u8a31\\u51f1\\u667a/TELTONIKA\", \"2020/February/\\u8a31\\u51f1\\u667a/TELTONIKA\", \"2019/January/\\u8a31\\u51f1\\u667a/TELTONIKA\", \"2020/January/\\u8a31\\u51f1\\u667a/TELTONIKA\", \"2021/January/\\u8a31\\u51f1\\u667a/TELTONIKA\", \"2019/July/\\u8a31\\u51f1\\u667a/TELTONIKA\", \"2020/July/\\u8a31\\u51f1\\u667a/TELTONIKA\", \"2019/June/\\u8a31\\u51f1\\u667a/TELTONIKA\", \"2020/June/\\u8a31\\u51f1\\u667a/TELTONIKA\", \"2019/March/\\u8a31\\u51f1\\u667a/TELTONIKA\", \"2020/March/\\u8a31\\u51f1\\u667a/TELTONIKA\", \"2019/May/\\u8a31\\u51f1\\u667a/TELTONIKA\", \"2020/May/\\u8a31\\u51f1\\u667a/TELTONIKA\", \"2019/November/\\u8a31\\u51f1\\u667a/TELTONIKA\", \"2020/November/\\u8a31\\u51f1\\u667a/TELTONIKA\", \"2019/October/\\u8a31\\u51f1\\u667a/TELTONIKA\", \"2020/October/\\u8a31\\u51f1\\u667a/TELTONIKA\", \"2019/September/\\u8a31\\u51f1\\u667a/TELTONIKA\", \"2020/September/\\u8a31\\u51f1\\u667a/TELTONIKA\", \"2020/November/\\u58a8\\u6f22\\u96f7\\u8fea/Univa Te\", \"2020/October/\\u58a8\\u6f22\\u96f7\\u8fea/Univa Te\", \"2020/January/\\u6c88\\u601d\\u660e/WE\", \"2020/May/\\u6c88\\u601d\\u660e/WE\", \"2020/February/\\u8a31\\u51f1\\u667a/Zebra\", \"2020/August/\\u8a31\\u51f1\\u667a/\\u83ef\\u65b0\\u79d1\\u6280\", \"2020/July/\\u8a31\\u51f1\\u667a/\\u83ef\\u65b0\\u79d1\\u6280\", \"2020/June/\\u8a31\\u51f1\\u667a/\\u83ef\\u65b0\\u79d1\\u6280\", \"2020/October/\\u8a31\\u51f1\\u667a/\\u83ef\\u65b0\\u79d1\\u6280\", \"2020/September/\\u8a31\\u51f1\\u667a/\\u83ef\\u65b0\\u79d1\\u6280\", \"2019/April/\\u6c88\\u601d\\u660e/Bourns\", \"2020/April/\\u6c88\\u601d\\u660e/Bourns\", \"2019/August/\\u6c88\\u601d\\u660e/Bourns\", \"2020/August/\\u6c88\\u601d\\u660e/Bourns\", \"2019/December/\\u6c88\\u601d\\u660e/Bourns\", \"2020/December/\\u6c88\\u601d\\u660e/Bourns\", \"2019/February/\\u6c88\\u601d\\u660e/Bourns\", \"2020/February/\\u6c88\\u601d\\u660e/Bourns\", \"2021/February/\\u6c88\\u601d\\u660e/Bourns\", \"2019/January/\\u6c88\\u601d\\u660e/Bourns\", \"2020/January/\\u6c88\\u601d\\u660e/Bourns\", \"2021/January/\\u6c88\\u601d\\u660e/Bourns\", \"2019/July/\\u6c88\\u601d\\u660e/Bourns\", \"2020/July/\\u6c88\\u601d\\u660e/Bourns\", \"2019/June/\\u6c88\\u601d\\u660e/Bourns\", \"2020/June/\\u6c88\\u601d\\u660e/Bourns\", \"2019/March/\\u6c88\\u601d\\u660e/Bourns\", \"2020/March/\\u6c88\\u601d\\u660e/Bourns\", \"2019/May/\\u6c88\\u601d\\u660e/Bourns\", \"2020/May/\\u6c88\\u601d\\u660e/Bourns\", \"2019/November/\\u6c88\\u601d\\u660e/Bourns\", \"2020/November/\\u6c88\\u601d\\u660e/Bourns\", \"2019/October/\\u6c88\\u601d\\u660e/Bourns\", \"2020/October/\\u6c88\\u601d\\u660e/Bourns\", \"2019/September/\\u6c88\\u601d\\u660e/Bourns\", \"2020/September/\\u6c88\\u601d\\u660e/Bourns\", \"2019/April/\\u6c88\\u601d\\u660e/Eaton\", \"2020/April/\\u6c88\\u601d\\u660e/Eaton\", \"2019/August/\\u6c88\\u601d\\u660e/Eaton\", \"2020/August/\\u6c88\\u601d\\u660e/Eaton\", \"2019/December/\\u6c88\\u601d\\u660e/Eaton\", \"2020/December/\\u6c88\\u601d\\u660e/Eaton\", \"2019/February/\\u6c88\\u601d\\u660e/Eaton\", \"2020/February/\\u6c88\\u601d\\u660e/Eaton\", \"2019/January/\\u6c88\\u601d\\u660e/Eaton\", \"2020/January/\\u6c88\\u601d\\u660e/Eaton\", \"2021/January/\\u6c88\\u601d\\u660e/Eaton\", \"2019/July/\\u6c88\\u601d\\u660e/Eaton\", \"2019/June/\\u6c88\\u601d\\u660e/Eaton\", \"2020/June/\\u6c88\\u601d\\u660e/Eaton\", \"2019/March/\\u6c88\\u601d\\u660e/Eaton\", \"2020/March/\\u6c88\\u601d\\u660e/Eaton\", \"2019/May/\\u6c88\\u601d\\u660e/Eaton\", \"2020/May/\\u6c88\\u601d\\u660e/Eaton\", \"2019/November/\\u6c88\\u601d\\u660e/Eaton\", \"2020/November/\\u6c88\\u601d\\u660e/Eaton\", \"2019/October/\\u6c88\\u601d\\u660e/Eaton\", \"2020/October/\\u6c88\\u601d\\u660e/Eaton\", \"2019/September/\\u6c88\\u601d\\u660e/Eaton\", \"2020/September/\\u6c88\\u601d\\u660e/Eaton\", \"2019/April/\\u6c88\\u601d\\u660e/Laird\", \"2020/April/\\u6c88\\u601d\\u660e/Laird\", \"2020/August/\\u6c88\\u601d\\u660e/Laird\", \"2019/December/\\u6c88\\u601d\\u660e/Laird\", \"2020/December/\\u6c88\\u601d\\u660e/Laird\", \"2019/February/\\u6c88\\u601d\\u660e/Laird\", \"2020/February/\\u6c88\\u601d\\u660e/Laird\", \"2019/January/\\u6c88\\u601d\\u660e/Laird\", \"2020/January/\\u6c88\\u601d\\u660e/Laird\", \"2021/January/\\u6c88\\u601d\\u660e/Laird\", \"2020/July/\\u6c88\\u601d\\u660e/Laird\", \"2019/June/\\u6c88\\u601d\\u660e/Laird\", \"2020/June/\\u6c88\\u601d\\u660e/Laird\", \"2020/March/\\u6c88\\u601d\\u660e/Laird\", \"2020/May/\\u6c88\\u601d\\u660e/Laird\", \"2019/November/\\u6c88\\u601d\\u660e/Laird\", \"2020/November/\\u6c88\\u601d\\u660e/Laird\", \"2019/October/\\u6c88\\u601d\\u660e/Laird\", \"2020/October/\\u6c88\\u601d\\u660e/Laird\", \"2020/September/\\u6c88\\u601d\\u660e/Laird\", \"2019/April/\\u8a31\\u51f1\\u667a/MT-SYSTEM\", \"2020/April/\\u8a31\\u51f1\\u667a/MT-SYSTEM\", \"2019/August/\\u8a31\\u51f1\\u667a/MT-SYSTEM\", \"2020/August/\\u8a31\\u51f1\\u667a/MT-SYSTEM\", \"2019/December/\\u8a31\\u51f1\\u667a/MT-SYSTEM\", \"2020/December/\\u8a31\\u51f1\\u667a/MT-SYSTEM\", \"2020/February/\\u8a31\\u51f1\\u667a/MT-SYSTEM\", \"2019/January/\\u8a31\\u51f1\\u667a/MT-SYSTEM\", \"2019/July/\\u8a31\\u51f1\\u667a/MT-SYSTEM\", \"2019/June/\\u8a31\\u51f1\\u667a/MT-SYSTEM\", \"2020/June/\\u8a31\\u51f1\\u667a/MT-SYSTEM\", \"2019/March/\\u8a31\\u51f1\\u667a/MT-SYSTEM\", \"2020/March/\\u8a31\\u51f1\\u667a/MT-SYSTEM\", \"2019/May/\\u8a31\\u51f1\\u667a/MT-SYSTEM\", \"2019/October/\\u8a31\\u51f1\\u667a/MT-SYSTEM\", \"2019/December/\\u8a31\\u51f1\\u667a/TELTONIKA\", \"2020/December/\\u8a31\\u51f1\\u667a/TELTONIKA\", \"2020/January/\\u8a31\\u51f1\\u667a/TELTONIKA\", \"2021/January/\\u8a31\\u51f1\\u667a/TELTONIKA\", \"2020/November/\\u8a31\\u51f1\\u667a/TELTONIKA\", \"2019/October/\\u8a31\\u51f1\\u667a/TELTONIKA\", \"2020/October/\\u8a31\\u51f1\\u667a/TELTONIKA\", \"2019/September/\\u8a31\\u51f1\\u667a/TELTONIKA\", \"2019/April/\\u8a31\\u51f1\\u667a/\\u4fe1\\u660c\", \"2020/April/\\u8a31\\u51f1\\u667a/\\u4fe1\\u660c\", \"2021/April/\\u8a31\\u51f1\\u667a/\\u4fe1\\u660c\", \"2022/April/\\u8a31\\u51f1\\u667a/\\u4fe1\\u660c\", \"2019/August/\\u8a31\\u51f1\\u667a/\\u4fe1\\u660c\", \"2020/August/\\u8a31\\u51f1\\u667a/\\u4fe1\\u660c\", \"2021/August/\\u8a31\\u51f1\\u667a/\\u4fe1\\u660c\", \"2019/December/\\u8a31\\u51f1\\u667a/\\u4fe1\\u660c\", \"2020/December/\\u8a31\\u51f1\\u667a/\\u4fe1\\u660c\", \"2021/December/\\u8a31\\u51f1\\u667a/\\u4fe1\\u660c\", \"2019/February/\\u8a31\\u51f1\\u667a/\\u4fe1\\u660c\", \"2020/February/\\u8a31\\u51f1\\u667a/\\u4fe1\\u660c\", \"2021/February/\\u8a31\\u51f1\\u667a/\\u4fe1\\u660c\", \"2022/February/\\u8a31\\u51f1\\u667a/\\u4fe1\\u660c\", \"2019/January/\\u8a31\\u51f1\\u667a/\\u4fe1\\u660c\", \"2020/January/\\u8a31\\u51f1\\u667a/\\u4fe1\\u660c\", \"2021/January/\\u8a31\\u51f1\\u667a/\\u4fe1\\u660c\", \"2022/January/\\u8a31\\u51f1\\u667a/\\u4fe1\\u660c\", \"2019/July/\\u8a31\\u51f1\\u667a/\\u4fe1\\u660c\", \"2020/July/\\u8a31\\u51f1\\u667a/\\u4fe1\\u660c\", \"2021/July/\\u8a31\\u51f1\\u667a/\\u4fe1\\u660c\", \"2019/June/\\u8a31\\u51f1\\u667a/\\u4fe1\\u660c\", \"2020/June/\\u8a31\\u51f1\\u667a/\\u4fe1\\u660c\", \"2019/March/\\u8a31\\u51f1\\u667a/\\u4fe1\\u660c\", \"2020/March/\\u8a31\\u51f1\\u667a/\\u4fe1\\u660c\", \"2021/March/\\u8a31\\u51f1\\u667a/\\u4fe1\\u660c\", \"2022/March/\\u8a31\\u51f1\\u667a/\\u4fe1\\u660c\", \"2019/May/\\u8a31\\u51f1\\u667a/\\u4fe1\\u660c\", \"2020/May/\\u8a31\\u51f1\\u667a/\\u4fe1\\u660c\", \"2021/May/\\u8a31\\u51f1\\u667a/\\u4fe1\\u660c\", \"2022/May/\\u8a31\\u51f1\\u667a/\\u4fe1\\u660c\", \"2019/November/\\u8a31\\u51f1\\u667a/\\u4fe1\\u660c\", \"2020/November/\\u8a31\\u51f1\\u667a/\\u4fe1\\u660c\", \"2021/November/\\u8a31\\u51f1\\u667a/\\u4fe1\\u660c\", \"2019/October/\\u8a31\\u51f1\\u667a/\\u4fe1\\u660c\", \"2020/October/\\u8a31\\u51f1\\u667a/\\u4fe1\\u660c\", \"2019/September/\\u8a31\\u51f1\\u667a/\\u4fe1\\u660c\", \"2020/September/\\u8a31\\u51f1\\u667a/\\u4fe1\\u660c\", \"2021/September/\\u8a31\\u51f1\\u667a/\\u4fe1\\u660c\", \"2020/April/\\u8a31\\u51f1\\u667a/\\u83ef\\u65b0\\u79d1\\u6280\", \"2020/August/\\u8a31\\u51f1\\u667a/\\u83ef\\u65b0\\u79d1\\u6280\", \"2020/February/\\u8a31\\u51f1\\u667a/\\u83ef\\u65b0\\u79d1\\u6280\", \"2020/June/\\u8a31\\u51f1\\u667a/\\u83ef\\u65b0\\u79d1\\u6280\", \"2020/May/\\u8a31\\u51f1\\u667a/\\u83ef\\u65b0\\u79d1\\u6280\", \"2020/September/\\u8a31\\u51f1\\u667a/\\u83ef\\u65b0\\u79d1\\u6280\", \"2020/April/\\u8a31\\u51f1\\u667a/\\u85dd\\u611f\", \"2021/April/\\u8a31\\u51f1\\u667a/\\u85dd\\u611f\", \"2020/August/\\u8a31\\u51f1\\u667a/\\u85dd\\u611f\", \"2019/December/\\u8a31\\u51f1\\u667a/\\u85dd\\u611f\", \"2020/December/\\u8a31\\u51f1\\u667a/\\u85dd\\u611f\", \"2020/February/\\u8a31\\u51f1\\u667a/\\u85dd\\u611f\", \"2021/February/\\u8a31\\u51f1\\u667a/\\u85dd\\u611f\", \"2020/January/\\u8a31\\u51f1\\u667a/\\u85dd\\u611f\", \"2021/January/\\u8a31\\u51f1\\u667a/\\u85dd\\u611f\", \"2019/July/\\u8a31\\u51f1\\u667a/\\u85dd\\u611f\", \"2020/July/\\u8a31\\u51f1\\u667a/\\u85dd\\u611f\", \"2020/June/\\u8a31\\u51f1\\u667a/\\u85dd\\u611f\", \"2020/March/\\u8a31\\u51f1\\u667a/\\u85dd\\u611f\", \"2021/March/\\u8a31\\u51f1\\u667a/\\u85dd\\u611f\", \"2020/May/\\u8a31\\u51f1\\u667a/\\u85dd\\u611f\", \"2021/May/\\u8a31\\u51f1\\u667a/\\u85dd\\u611f\", \"2019/November/\\u8a31\\u51f1\\u667a/\\u85dd\\u611f\", \"2020/November/\\u8a31\\u51f1\\u667a/\\u85dd\\u611f\", \"2019/October/\\u8a31\\u51f1\\u667a/\\u85dd\\u611f\", \"2020/October/\\u8a31\\u51f1\\u667a/\\u85dd\\u611f\", \"2020/September/\\u8a31\\u51f1\\u667a/\\u85dd\\u611f\", \"2019/April/\\u6c88\\u601d\\u660e\", \"2020/April/\\u6c88\\u601d\\u660e\", \"2019/August/\\u6c88\\u601d\\u660e\", \"2020/August/\\u6c88\\u601d\\u660e\", \"2019/December/\\u6c88\\u601d\\u660e\", \"2020/December/\\u6c88\\u601d\\u660e\", \"2019/February/\\u6c88\\u601d\\u660e\", \"2020/February/\\u6c88\\u601d\\u660e\", \"2021/February/\\u6c88\\u601d\\u660e\", \"2019/January/\\u6c88\\u601d\\u660e\", \"2020/January/\\u6c88\\u601d\\u660e\", \"2021/January/\\u6c88\\u601d\\u660e\", \"2019/July/\\u6c88\\u601d\\u660e\", \"2020/July/\\u6c88\\u601d\\u660e\", \"2019/June/\\u6c88\\u601d\\u660e\", \"2020/June/\\u6c88\\u601d\\u660e\", \"2019/March/\\u6c88\\u601d\\u660e\", \"2020/March/\\u6c88\\u601d\\u660e\", \"2021/March/\\u6c88\\u601d\\u660e\", \"2019/May/\\u6c88\\u601d\\u660e\", \"2020/May/\\u6c88\\u601d\\u660e\", \"2019/November/\\u6c88\\u601d\\u660e\", \"2020/November/\\u6c88\\u601d\\u660e\", \"2019/October/\\u6c88\\u601d\\u660e\", \"2020/October/\\u6c88\\u601d\\u660e\", \"2019/September/\\u6c88\\u601d\\u660e\", \"2020/September/\\u6c88\\u601d\\u660e\", \"2019/November/\\u58a8\\u6f22\\u96f7\\u8fea\", \"2019/April/\\u6c88\\u601d\\u660e\", \"2020/April/\\u6c88\\u601d\\u660e\", \"2019/August/\\u6c88\\u601d\\u660e\", \"2020/August/\\u6c88\\u601d\\u660e\", \"2019/December/\\u6c88\\u601d\\u660e\", \"2020/December/\\u6c88\\u601d\\u660e\", \"2019/February/\\u6c88\\u601d\\u660e\", \"2020/February/\\u6c88\\u601d\\u660e\", \"2019/January/\\u6c88\\u601d\\u660e\", \"2020/January/\\u6c88\\u601d\\u660e\", \"2021/January/\\u6c88\\u601d\\u660e\", \"2019/July/\\u6c88\\u601d\\u660e\", \"2020/July/\\u6c88\\u601d\\u660e\", \"2019/June/\\u6c88\\u601d\\u660e\", \"2020/June/\\u6c88\\u601d\\u660e\", \"2019/March/\\u6c88\\u601d\\u660e\", \"2020/March/\\u6c88\\u601d\\u660e\", \"2019/May/\\u6c88\\u601d\\u660e\", \"2020/May/\\u6c88\\u601d\\u660e\", \"2019/November/\\u6c88\\u601d\\u660e\", \"2020/November/\\u6c88\\u601d\\u660e\", \"2019/October/\\u6c88\\u601d\\u660e\", \"2020/October/\\u6c88\\u601d\\u660e\", \"2019/September/\\u6c88\\u601d\\u660e\", \"2020/September/\\u6c88\\u601d\\u660e\", \"2019/May/\\u58a8\\u6f22\\u96f7\\u8fea\", \"2019/November/\\u58a8\\u6f22\\u96f7\\u8fea\", \"2020/November/\\u58a8\\u6f22\\u96f7\\u8fea\", \"2020/March/\\u58a8\\u6f22\\u96f7\\u8fea\", \"2020/August/\\u58a8\\u6f22\\u96f7\\u8fea\", \"2021/January/\\u58a8\\u6f22\\u96f7\\u8fea\", \"2020/November/\\u58a8\\u6f22\\u96f7\\u8fea\", \"2020/October/\\u58a8\\u6f22\\u96f7\\u8fea\", \"2019/April/\\u58a8\\u6f22\\u96f7\\u8fea\", \"2020/November/\\u58a8\\u6f22\\u96f7\\u8fea\", \"2020/October/\\u58a8\\u6f22\\u96f7\\u8fea\", \"2019/April/\\u6c88\\u601d\\u660e\", \"2020/April/\\u6c88\\u601d\\u660e\", \"2019/August/\\u6c88\\u601d\\u660e\", \"2020/August/\\u6c88\\u601d\\u660e\", \"2019/December/\\u6c88\\u601d\\u660e\", \"2020/December/\\u6c88\\u601d\\u660e\", \"2019/February/\\u6c88\\u601d\\u660e\", \"2020/February/\\u6c88\\u601d\\u660e\", \"2019/January/\\u6c88\\u601d\\u660e\", \"2020/January/\\u6c88\\u601d\\u660e\", \"2019/July/\\u6c88\\u601d\\u660e\", \"2020/July/\\u6c88\\u601d\\u660e\", \"2019/June/\\u6c88\\u601d\\u660e\", \"2020/June/\\u6c88\\u601d\\u660e\", \"2019/March/\\u6c88\\u601d\\u660e\", \"2020/March/\\u6c88\\u601d\\u660e\", \"2019/May/\\u6c88\\u601d\\u660e\", \"2020/May/\\u6c88\\u601d\\u660e\", \"2019/November/\\u6c88\\u601d\\u660e\", \"2020/November/\\u6c88\\u601d\\u660e\", \"2019/October/\\u6c88\\u601d\\u660e\", \"2020/October/\\u6c88\\u601d\\u660e\", \"2019/September/\\u6c88\\u601d\\u660e\", \"2020/September/\\u6c88\\u601d\\u660e\", \"2019/April/\\u6c88\\u601d\\u660e\", \"2020/April/\\u6c88\\u601d\\u660e\", \"2019/August/\\u6c88\\u601d\\u660e\", \"2020/August/\\u6c88\\u601d\\u660e\", \"2019/December/\\u6c88\\u601d\\u660e\", \"2020/December/\\u6c88\\u601d\\u660e\", \"2019/February/\\u6c88\\u601d\\u660e\", \"2020/February/\\u6c88\\u601d\\u660e\", \"2019/January/\\u6c88\\u601d\\u660e\", \"2020/January/\\u6c88\\u601d\\u660e\", \"2019/July/\\u6c88\\u601d\\u660e\", \"2020/July/\\u6c88\\u601d\\u660e\", \"2019/June/\\u6c88\\u601d\\u660e\", \"2020/June/\\u6c88\\u601d\\u660e\", \"2019/March/\\u6c88\\u601d\\u660e\", \"2020/March/\\u6c88\\u601d\\u660e\", \"2019/May/\\u6c88\\u601d\\u660e\", \"2020/May/\\u6c88\\u601d\\u660e\", \"2019/November/\\u6c88\\u601d\\u660e\", \"2020/November/\\u6c88\\u601d\\u660e\", \"2019/October/\\u6c88\\u601d\\u660e\", \"2020/October/\\u6c88\\u601d\\u660e\", \"2019/September/\\u6c88\\u601d\\u660e\", \"2020/September/\\u6c88\\u601d\\u660e\", \"2019/April/\\u6c88\\u601d\\u660e\", \"2020/April/\\u6c88\\u601d\\u660e\", \"2019/August/\\u6c88\\u601d\\u660e\", \"2020/August/\\u6c88\\u601d\\u660e\", \"2019/December/\\u6c88\\u601d\\u660e\", \"2020/December/\\u6c88\\u601d\\u660e\", \"2019/February/\\u6c88\\u601d\\u660e\", \"2020/February/\\u6c88\\u601d\\u660e\", \"2021/February/\\u6c88\\u601d\\u660e\", \"2019/January/\\u6c88\\u601d\\u660e\", \"2020/January/\\u6c88\\u601d\\u660e\", \"2021/January/\\u6c88\\u601d\\u660e\", \"2019/July/\\u6c88\\u601d\\u660e\", \"2020/July/\\u6c88\\u601d\\u660e\", \"2019/June/\\u6c88\\u601d\\u660e\", \"2020/June/\\u6c88\\u601d\\u660e\", \"2019/March/\\u6c88\\u601d\\u660e\", \"2020/March/\\u6c88\\u601d\\u660e\", \"2019/May/\\u6c88\\u601d\\u660e\", \"2020/May/\\u6c88\\u601d\\u660e\", \"2019/November/\\u6c88\\u601d\\u660e\", \"2020/November/\\u6c88\\u601d\\u660e\", \"2019/October/\\u6c88\\u601d\\u660e\", \"2020/October/\\u6c88\\u601d\\u660e\", \"2019/September/\\u6c88\\u601d\\u660e\", \"2020/September/\\u6c88\\u601d\\u660e\", \"2020/August/\\u58a8\\u6f22\\u96f7\\u8fea\", \"2019/December/\\u58a8\\u6f22\\u96f7\\u8fea\", \"2020/June/\\u58a8\\u6f22\\u96f7\\u8fea\", \"2020/November/\\u58a8\\u6f22\\u96f7\\u8fea\", \"2020/September/\\u58a8\\u6f22\\u96f7\\u8fea\", \"2020/August/\\u58a8\\u6f22\\u96f7\\u8fea\", \"2020/July/\\u58a8\\u6f22\\u96f7\\u8fea\", \"2020/November/\\u58a8\\u6f22\\u96f7\\u8fea\", \"2020/October/\\u58a8\\u6f22\\u96f7\\u8fea\", \"2019/April/\\u8a31\\u51f1\\u667a\", \"2020/April/\\u8a31\\u51f1\\u667a\", \"2019/August/\\u8a31\\u51f1\\u667a\", \"2020/August/\\u8a31\\u51f1\\u667a\", \"2019/December/\\u8a31\\u51f1\\u667a\", \"2020/December/\\u8a31\\u51f1\\u667a\", \"2020/February/\\u8a31\\u51f1\\u667a\", \"2019/January/\\u8a31\\u51f1\\u667a\", \"2020/January/\\u8a31\\u51f1\\u667a\", \"2021/January/\\u8a31\\u51f1\\u667a\", \"2019/July/\\u8a31\\u51f1\\u667a\", \"2020/July/\\u8a31\\u51f1\\u667a\", \"2019/June/\\u8a31\\u51f1\\u667a\", \"2020/June/\\u8a31\\u51f1\\u667a\", \"2019/March/\\u8a31\\u51f1\\u667a\", \"2020/March/\\u8a31\\u51f1\\u667a\", \"2019/May/\\u8a31\\u51f1\\u667a\", \"2019/November/\\u8a31\\u51f1\\u667a\", \"2020/November/\\u8a31\\u51f1\\u667a\", \"2019/October/\\u8a31\\u51f1\\u667a\", \"2020/October/\\u8a31\\u51f1\\u667a\", \"2019/September/\\u8a31\\u51f1\\u667a\", \"2020/September/\\u8a31\\u51f1\\u667a\", \"2020/August/\\u58a8\\u6f22\\u96f7\\u8fea\", \"2020/August/\\u58a8\\u6f22\\u96f7\\u8fea\", \"2020/November/\\u58a8\\u6f22\\u96f7\\u8fea\", \"2020/October/\\u58a8\\u6f22\\u96f7\\u8fea\", \"2020/November/\\u58a8\\u6f22\\u96f7\\u8fea\", \"2019/July/\\u8a31\\u51f1\\u667a\", \"2020/June/\\u8a31\\u51f1\\u667a\", \"2019/October/\\u8a31\\u51f1\\u667a\", \"2019/September/\\u8a31\\u51f1\\u667a\", \"2019/April/\\u8a31\\u51f1\\u667a\", \"2020/April/\\u8a31\\u51f1\\u667a\", \"2019/August/\\u8a31\\u51f1\\u667a\", \"2020/August/\\u8a31\\u51f1\\u667a\", \"2019/December/\\u8a31\\u51f1\\u667a\", \"2020/December/\\u8a31\\u51f1\\u667a\", \"2019/February/\\u8a31\\u51f1\\u667a\", \"2020/February/\\u8a31\\u51f1\\u667a\", \"2021/February/\\u8a31\\u51f1\\u667a\", \"2019/January/\\u8a31\\u51f1\\u667a\", \"2020/January/\\u8a31\\u51f1\\u667a\", \"2021/January/\\u8a31\\u51f1\\u667a\", \"2019/July/\\u8a31\\u51f1\\u667a\", \"2020/July/\\u8a31\\u51f1\\u667a\", \"2019/June/\\u8a31\\u51f1\\u667a\", \"2020/June/\\u8a31\\u51f1\\u667a\", \"2019/March/\\u8a31\\u51f1\\u667a\", \"2020/March/\\u8a31\\u51f1\\u667a\", \"2019/May/\\u8a31\\u51f1\\u667a\", \"2020/May/\\u8a31\\u51f1\\u667a\", \"2019/November/\\u8a31\\u51f1\\u667a\", \"2020/November/\\u8a31\\u51f1\\u667a\", \"2019/October/\\u8a31\\u51f1\\u667a\", \"2020/October/\\u8a31\\u51f1\\u667a\", \"2019/September/\\u8a31\\u51f1\\u667a\", \"2020/September/\\u8a31\\u51f1\\u667a\", \"2020/November/\\u58a8\\u6f22\\u96f7\\u8fea\", \"2020/October/\\u58a8\\u6f22\\u96f7\\u8fea\", \"2019/April/\\u6c88\\u601d\\u660e\", \"2020/April/\\u6c88\\u601d\\u660e\", \"2021/April/\\u6c88\\u601d\\u660e\", \"2019/August/\\u6c88\\u601d\\u660e\", \"2020/August/\\u6c88\\u601d\\u660e\", \"2021/August/\\u6c88\\u601d\\u660e\", \"2019/December/\\u6c88\\u601d\\u660e\", \"2020/December/\\u6c88\\u601d\\u660e\", \"2019/February/\\u6c88\\u601d\\u660e\", \"2020/February/\\u6c88\\u601d\\u660e\", \"2021/February/\\u6c88\\u601d\\u660e\", \"2019/January/\\u6c88\\u601d\\u660e\", \"2020/January/\\u6c88\\u601d\\u660e\", \"2021/January/\\u6c88\\u601d\\u660e\", \"2019/July/\\u6c88\\u601d\\u660e\", \"2020/July/\\u6c88\\u601d\\u660e\", \"2019/June/\\u6c88\\u601d\\u660e\", \"2020/June/\\u6c88\\u601d\\u660e\", \"2021/June/\\u6c88\\u601d\\u660e\", \"2019/March/\\u6c88\\u601d\\u660e\", \"2020/March/\\u6c88\\u601d\\u660e\", \"2021/March/\\u6c88\\u601d\\u660e\", \"2019/May/\\u6c88\\u601d\\u660e\", \"2020/May/\\u6c88\\u601d\\u660e\", \"2019/November/\\u6c88\\u601d\\u660e\", \"2020/November/\\u6c88\\u601d\\u660e\", \"2019/October/\\u6c88\\u601d\\u660e\", \"2020/October/\\u6c88\\u601d\\u660e\", \"2019/September/\\u6c88\\u601d\\u660e\", \"2020/September/\\u6c88\\u601d\\u660e\", \"2019/October/\\u58a8\\u6f22\\u96f7\\u8fea\", \"2020/February/\\u8a31\\u51f1\\u667a\", \"2020/November/\\u8a31\\u51f1\\u667a\", \"2019/April/\\u8a31\\u51f1\\u667a\", \"2020/April/\\u8a31\\u51f1\\u667a\", \"2021/April/\\u8a31\\u51f1\\u667a\", \"2022/April/\\u8a31\\u51f1\\u667a\", \"2019/August/\\u8a31\\u51f1\\u667a\", \"2020/August/\\u8a31\\u51f1\\u667a\", \"2021/August/\\u8a31\\u51f1\\u667a\", \"2019/December/\\u8a31\\u51f1\\u667a\", \"2020/December/\\u8a31\\u51f1\\u667a\", \"2021/December/\\u8a31\\u51f1\\u667a\", \"2019/February/\\u8a31\\u51f1\\u667a\", \"2020/February/\\u8a31\\u51f1\\u667a\", \"2021/February/\\u8a31\\u51f1\\u667a\", \"2022/February/\\u8a31\\u51f1\\u667a\", \"2019/January/\\u8a31\\u51f1\\u667a\", \"2020/January/\\u8a31\\u51f1\\u667a\", \"2021/January/\\u8a31\\u51f1\\u667a\", \"2022/January/\\u8a31\\u51f1\\u667a\", \"2019/July/\\u8a31\\u51f1\\u667a\", \"2020/July/\\u8a31\\u51f1\\u667a\", \"2021/July/\\u8a31\\u51f1\\u667a\", \"2019/June/\\u8a31\\u51f1\\u667a\", \"2020/June/\\u8a31\\u51f1\\u667a\", \"2019/March/\\u8a31\\u51f1\\u667a\", \"2020/March/\\u8a31\\u51f1\\u667a\", \"2021/March/\\u8a31\\u51f1\\u667a\", \"2022/March/\\u8a31\\u51f1\\u667a\", \"2019/May/\\u8a31\\u51f1\\u667a\", \"2020/May/\\u8a31\\u51f1\\u667a\", \"2021/May/\\u8a31\\u51f1\\u667a\", \"2022/May/\\u8a31\\u51f1\\u667a\", \"2019/November/\\u8a31\\u51f1\\u667a\", \"2020/November/\\u8a31\\u51f1\\u667a\", \"2021/November/\\u8a31\\u51f1\\u667a\", \"2019/October/\\u8a31\\u51f1\\u667a\", \"2020/October/\\u8a31\\u51f1\\u667a\", \"2019/September/\\u8a31\\u51f1\\u667a\", \"2020/September/\\u8a31\\u51f1\\u667a\", \"2021/September/\\u8a31\\u51f1\\u667a\", \"2019/April/\\u8a31\\u51f1\\u667a\", \"2019/August/\\u8a31\\u51f1\\u667a\", \"2019/December/\\u8a31\\u51f1\\u667a\", \"2020/February/\\u8a31\\u51f1\\u667a\", \"2019/July/\\u8a31\\u51f1\\u667a\", \"2019/June/\\u8a31\\u51f1\\u667a\", \"2019/May/\\u8a31\\u51f1\\u667a\", \"2020/May/\\u8a31\\u51f1\\u667a\", \"2019/October/\\u8a31\\u51f1\\u667a\", \"2019/September/\\u8a31\\u51f1\\u667a\", \"2019/April/\\u8a31\\u51f1\\u667a\", \"2020/April/\\u8a31\\u51f1\\u667a\", \"2019/August/\\u8a31\\u51f1\\u667a\", \"2020/August/\\u8a31\\u51f1\\u667a\", \"2019/December/\\u8a31\\u51f1\\u667a\", \"2020/December/\\u8a31\\u51f1\\u667a\", \"2019/February/\\u8a31\\u51f1\\u667a\", \"2020/February/\\u8a31\\u51f1\\u667a\", \"2021/February/\\u8a31\\u51f1\\u667a\", \"2019/January/\\u8a31\\u51f1\\u667a\", \"2020/January/\\u8a31\\u51f1\\u667a\", \"2021/January/\\u8a31\\u51f1\\u667a\", \"2019/July/\\u8a31\\u51f1\\u667a\", \"2020/July/\\u8a31\\u51f1\\u667a\", \"2019/June/\\u8a31\\u51f1\\u667a\", \"2020/June/\\u8a31\\u51f1\\u667a\", \"2019/March/\\u8a31\\u51f1\\u667a\", \"2020/March/\\u8a31\\u51f1\\u667a\", \"2019/May/\\u8a31\\u51f1\\u667a\", \"2020/May/\\u8a31\\u51f1\\u667a\", \"2019/November/\\u8a31\\u51f1\\u667a\", \"2020/November/\\u8a31\\u51f1\\u667a\", \"2019/October/\\u8a31\\u51f1\\u667a\", \"2020/October/\\u8a31\\u51f1\\u667a\", \"2019/September/\\u8a31\\u51f1\\u667a\", \"2020/September/\\u8a31\\u51f1\\u667a\", \"2020/April/\\u8a31\\u51f1\\u667a\", \"2021/April/\\u8a31\\u51f1\\u667a\", \"2020/August/\\u8a31\\u51f1\\u667a\", \"2019/December/\\u8a31\\u51f1\\u667a\", \"2020/December/\\u8a31\\u51f1\\u667a\", \"2020/February/\\u8a31\\u51f1\\u667a\", \"2021/February/\\u8a31\\u51f1\\u667a\", \"2020/January/\\u8a31\\u51f1\\u667a\", \"2021/January/\\u8a31\\u51f1\\u667a\", \"2019/July/\\u8a31\\u51f1\\u667a\", \"2020/July/\\u8a31\\u51f1\\u667a\", \"2020/June/\\u8a31\\u51f1\\u667a\", \"2020/March/\\u8a31\\u51f1\\u667a\", \"2021/March/\\u8a31\\u51f1\\u667a\", \"2020/May/\\u8a31\\u51f1\\u667a\", \"2021/May/\\u8a31\\u51f1\\u667a\", \"2019/November/\\u8a31\\u51f1\\u667a\", \"2020/November/\\u8a31\\u51f1\\u667a\", \"2019/October/\\u8a31\\u51f1\\u667a\", \"2020/October/\\u8a31\\u51f1\\u667a\", \"2020/September/\\u8a31\\u51f1\\u667a\", \"2019/April\", \"2020/August\", \"2019/December\", \"2021/January\", \"2020/July\", \"2020/June\", \"2020/March\", \"2019/May\", \"2019/November\", \"2020/November\", \"2019/October\", \"2020/October\", \"2020/September\", \"2019/April\", \"2020/April\", \"2021/April\", \"2019/August\", \"2020/August\", \"2021/August\", \"2019/December\", \"2020/December\", \"2019/February\", \"2020/February\", \"2021/February\", \"2019/January\", \"2020/January\", \"2021/January\", \"2019/July\", \"2020/July\", \"2019/June\", \"2020/June\", \"2021/June\", \"2019/March\", \"2020/March\", \"2021/March\", \"2019/May\", \"2020/May\", \"2019/November\", \"2020/November\", \"2019/October\", \"2020/October\", \"2019/September\", \"2020/September\", \"2019/April\", \"2020/April\", \"2021/April\", \"2022/April\", \"2019/August\", \"2020/August\", \"2021/August\", \"2019/December\", \"2020/December\", \"2021/December\", \"2019/February\", \"2020/February\", \"2021/February\", \"2022/February\", \"2019/January\", \"2020/January\", \"2021/January\", \"2022/January\", \"2019/July\", \"2020/July\", \"2021/July\", \"2019/June\", \"2020/June\", \"2019/March\", \"2020/March\", \"2021/March\", \"2022/March\", \"2019/May\", \"2020/May\", \"2021/May\", \"2022/May\", \"2019/November\", \"2020/November\", \"2021/November\", \"2019/October\", \"2020/October\", \"2019/September\", \"2020/September\", \"2021/September\", \"2019\", \"2020\", \"2021\", \"2022\", \"2019\", \"2020\", \"2021\", \"2019\", \"2020\", \"2021\", \"2019\", \"2020\", \"2021\", \"2022\", \"2019\", \"2020\", \"2021\", \"2022\", \"2019\", \"2020\", \"2021\", \"2019\", \"2020\", \"2021\", \"2019\", \"2020\", \"2021\", \"2022\", \"2019\", \"2020\", \"2021\", \"2022\", \"2019\", \"2020\", \"2021\", \"2019\", \"2020\", \"2019\", \"2020\", \"2021\", \"\", \"\", \"\", \"\"], \"type\": \"treemap\", \"values\": [34534.8, 58426.530000000006, 208484.8, 447656.92999999993, 36321.530000000006, 490811.1099999999, 213471.91999999998, 287111.33999999997, 574557.0900000001, 177301.69, 421719.02999999997, 751082.4299999999, 94048.11, 16902.449999999997, 628474.7500000001, 307415.27, 683910.91, 108174.16, 207014.93, 395793.10000000003, 435605.76999999996, 228522.16, 407386.44999999995, 234822.03999999995, 503528.17, 973275.4, 1307542.1500000001, 169650.65, 1831345.0099999998, 52940.25, 546134.76, 312689.97, 332239.17000000004, 126934.5, 65044.55, 729025.2, 365815.61000000004, 211194.57, 1524579.24, 552167.1900000001, 1326955.19, 488374.6, 1237069.82, 1102352.99, 1308575.27, 249659.71000000002, 1390191.8, 101853.93000000001, 1902816.6, 34295.12, 2097766.08, 21022.65, 7249.13, 14766.14, 7797.4, 32648.2, 41805.23, 32018.030000000002, 8451.529999999999, 185059.88, 8144.5, 8471.130000000001, 2590.98, 32952.59, 32215.260000000002, 16394.7, 8141.9, 15519.970000000001, 31862.329999999998, 132639.93, 342547.36999999994, 158535.27999999997, 441438.23, 269860.82000000007, 399575.2700000001, 481678.63999999996, 18018.0, 563454.3400000001, 267179.53, 516100.6, 106006.53, 120327.3, 55046.24, 7884.799999999999, 194416.42000000004, 105933.08999999998, 360468.08999999997, 607054.5200000001, 200156.15000000002, 137418.05000000002, 144541.39000000004, 375662.68999999994, 298120.16000000003, 4048.0, 1231.47, 32778.0, 24962.0, 9108.0, 22640.0, 18806.0, 79440.0, 3498.06, 21762.0, 3236.2999999999997, 1884.0, 292.89, 22274.0, 18510.13, 960.0, 877.5, 8472.0, 5155.330000000001, 217211.0, 2071.91, 197782.0, 292984.8, 233894.67299999998, 34909.722, 3302.271, 78117.88500000001, 7076.295, 292107.6, 3302.271, 22172.391, 8019.800999999999, 118191.96000000002, 217592.3, 65298.540000000015, 537050.127, 152332.34, 2049427.2, 7282.509999999998, 437594.5400000001, 438032.4, 89782.04, 298276.93, 690763.593, 98882.36999999998, 264182.0, 120417.30000000006, 328026.0, 64558.75999999998, 221542.7, 103749.46999999999, 380229.1, 116427.86000000002, 1270009.0389999999, 160749.01, 1139093.256, 103924.68000000001, 541427.835, 2283310.105, 1176499.35, 7175998.455, 6143593.738999999, 895352.665, 2239440.0, 1267601.644, 319090.10000000003, 1664223.4100000008, 1056795.7349999999, 5518784.389, 4350119.295, 5850014.55, 1812967.935, 2175349.36, 584700.154, 2318310.815, 1321462.025, 1836898.7249999999, 8080871.75, 3861906.11, 8573642.934999999, 5898345.603999999, 7227998.785, 1665047.7, 2104692.5599999996, 996459.23, 1158685.45, 1358453.53, 2090075.8900000001, 976195.6399999999, 2436249.09, 25987.5, 2476194.1600000006, 1191344.8699999999, 1834213.31, 937686.9700000003, 630094.23, 1545983.5899999999, 1396134.3699999999, 2428852.1499999994, 1027040.3600000001, 112612.5, 1063563.21, 954488.19, 2261329.6, 2571079.0300000003, 1590457.6900000002, 2076438.45, 1397418.07, 1141988.86, 2222565.3600000003, 7028419.32, 4561394.63, 6120875.069999999, 1802528.04, 3906273.0800000005, 2396983.34, 1394423.8599999999, 3908784.6, 2764102.7800000003, 2579608.77, 2513850.89, 8792487.25, 2529882.75, 2370759.45, 2781224.29, 3985790.829999999, 1963181.4099999997, 6580141.100000001, 1981731.04, 6289772.970000001, 3485489.15, 4331700.41, 1464774.0, 5656017.49, 7471.62511, 4569893.949999999, 4894310.26, 17355686.339999996, 11927715.4, 4964217.85, 12890166.67, 4933623.47, 4812891.9399999995, 5626159.66, 9509068.940000001, 15277822.21, 9228853.07, 9687261.070000002, 10760650.120000001, 8735271.390000002, 7772125.14, 4880129.9, 6861047.529999999, 8203155.859999999, 3845614.09, 7812319.049999999, 19496790.670000006, 16891946.970000003, 15369530.720000004, 18232.0, 565308.1, 30508.5, 6195.0, 29205.0, 4847.35231, 25708.05, 24978.3, 5174.97, 22726.8, 92685.68, 26938.06, 18630.0, 31583.96, 31884.460000000003, 95527.79, 114308.40000000001, 114613.52, 7072.8, 8061.320000000001, 3536.4, 38340.2532, 2344414.6899999985, 2688759.4200000004, 94704.69, 3001356.5699999994, 1960603.3800000004, 52683.75, 941022.7699999999, 1615023.0100000002, 2807239.330000001, 2644108.51, 79451.07, 3572035.6, 3187692.7499999995, 1364752.02, 1473980.9, 2052573.4100000001, 2956311.089999999, 3458028.9300000006, 52683.75, 1761559.88, 4092963.4, 86000.59, 2986324.78, 2077288.18, 2561604.2199999993, 1727289.75, 3250975.9000000013, 1083929.86, 1410290.2599999998, 3609555.59, 9267.0, 8655.72154, 4044.32, 63360.0, 258963.69, 437760.0, 167710.62, 18768.0, 188335.69, 8150.28, 326712.0, 67200.0, 517532.67000000004, 157200.0, 98052.0, 125808.00000000001, 25135.37, 528624.0, 105915.19000000002, 386976.0, 581236.7, 788953.0, 769434.6, 252494.55, 460171.25, 967960.4, 1115403.3, 338575.6, 580914.4, 133848.0, 40616.4, 91999.6, 384630.4, 586865.4, 919158.9, 155667.59999999998, 1126158.0, 546143.4, 100767.60259, 15097.95353, 38212.53159, 1099566.0, 176820.0, 1369021.9, 1589239.9, 73406.0, 7698.60028, 2831084.0, 147828.0, 10243.9477, 40415.13995, 30373.34197, 21403.2, 82472.62067, 1592400.0000000002, 743400.0, 1356131.4, 109956.6, 514572.49380999996, 544416.84879, 468958.54456999997, 480168.8765, 350706.56831999996, 149552.62704, 281980.86273000005, 143010.54593, 70796.36206, 686308.0696, 314962.18788, 637625.27992, 21057.31863, 848659.0238, 928925.1299099998, 546026.91329, 233063.33733, 325834.49523, 493714.43036999996, 831444.2538300001, 636250.3979799999, 7451.0962, 531180.0, 2088337.1999999997, 110032.79999999999, 110204.25, 96489.95508, 1044517.04, 50306.4, 930685.38898, 1792327.2438499997, 1499203.834, 961131.1401199999, 2262994.95071, 1011282.1904, 9789544.875, 42085.545880000005, 628245.04602, 1467587.95943, 2618104.42294, 522258.0, 1333485.80604, 2259834.8783600004, 1150088.3306099998, 331604.96992999996, 810231.67284, 544224.9963600001, 1084383.51037, 1055230.7571100001, 1187134.1574300001, 5756531.07, 63998.038980000005, 3327167.7899600007, 1905088.7052499996, 6776565.391, 37030.4, 9546.4, 33366.52, 428672.00000000006, 6002.0979, 19200.0, 48000.0, 9600.0, 28800.0, 48000.0, 853452.7500000001, 1415931.36, 2567523.330000001, 1461165.87, 3242502.4799999995, 2515394.88, 1585547.1900000002, 1289615.46, 307153.35, 1679397.9900000005, 1915286.1600000001, 2035282.8, 1264386.5999999996, 2500744.2600000002, 993599.5799999998, 3297135.120000001, 512572.83, 1306473.9300000002, 1059793.83, 2858178.8400000003, 1657355.55, 1388930.4000000001, 1801849.5599999998, 2251151.34, 1085227.65, 1105006.77, 1544026.9200000002, 664936.5, 2158092.1599999997, 547975.91, 799596.42, 674199.24, 868653.94, 543393.84, 3497330.69, 1900920.48, 87022.96, 1372425.05, 1646249.5199999998, 316726.36, 1850321.5999999999, 1761705.37, 1883421.11, 540001.33, 1990645.12, 353297.70999999996, 1707330.22, 579225.2400000001, 2241478.69, 855769.6299999999, 4153.95, 483951.98, 296081.1, 353632.56000000006, 72523.5, 224753.28, 10757.4, 356622.2299999999, 131974.38, 441802.61, 346898.15, 421959.6, 226040.52000000002, 443579.87999999995, 931486.49, 367251.21, 172224.0, 9397.5, 879125.8200000001, 826512.1500000001, 33231.6, 8144.82, 5051.43, 24125.85, 41337.0, 3152.52, 13183.02, 81892.31999999999, 21720.15, 11646.18, 6469.2, 29903.58, 18062.46, 41587.020000000004, 29298.079999999994, 9267.0, 17667.0, 11583.75, 25987.51, 8832.0, 4683.0, 17707.5, 4734.75, 1654317.4000000006, 514608.0, 869130.0, 1132416.0, 719924.73, 1264785.0, 786870.0, 1083402.0, 870000.0, 871740.0, 301936.39, 675525.0, 1160580.0, 1014420.0, 643890.32, 617094.0, 1159710.0, 1162320.0, 2735556.3800000004, 1795980.0, 1160580.0, 1709765.4999999998, 1611954.0, 1085328.0599999998, 1212480.0, 1160580.0, 918165.0, 1729167.4600000002, 589404.0, 440772.0, 745077.0, 2850514.35, 2102352.0, 710727.0, 2604753.5599999996, 3972169.0, 1454619.29, 4991766.0, 289710.0, 14292.0, 42600.0, 2244.0, 1053.0, 39303.0, 16845.0, 655333.674, 977203.5519999999, 602564.8479999999, 334203.65400000004, 918571.3319999999, 408471.104, 977203.595, 163192.998, 977203.5519999999, 5866.146, 1110862.6019999997, 702609.336, 163192.998, 977203.5520000001, 284366.224, 472409.39499999996, 284366.353, 977203.552, 134854.10599999997, 1127171.298, 620524.271, 2553035.25, 4160287.1499999994, 4561420.360000001, 3067508.25, 5406712.14, 5348776.43, 2775214.75, 4012975.8899999997, 333140.85, 4730149.240000001, 3283932.7199999997, 4751386.39, 3921116.4, 4340289.9, 2895061.2199999997, 5902658.640000001, 3248840.2499999995, 3151273.2, 112612.5, 2272147.5999999996, 4111681.5600000005, 4699108.65, 4982480.600000001, 4539988.31, 4890643.84, 3843625.7600000002, 3296667.2, 100767.60259, 3766592.2800000003, 7693355.82, 6719486.789999999, 6668850.9799999995, 2602124.46, 4580472.32, 3265637.28, 1937817.6999999997, 7406115.29, 4665023.26, 2666631.73, 3886275.9400000004, 8792487.25, 4176132.2699999996, 2687485.81, 4631545.89, 5747496.199999999, 3846602.5199999996, 7120142.430000001, 3972376.16, 6643070.680000001, 5192819.37, 4910925.65, 3706252.69, 6511787.12, 15097.95353, 38212.53159, 1099566.0, 7471.62511, 176820.0, 1369021.9, 1589239.9, 73406.0, 7698.60028, 2831084.0, 147828.0, 4569893.949999999, 4894310.26, 17355686.339999996, 11927715.4, 4964217.85, 12890166.67, 4933623.47, 4812891.9399999995, 5626159.66, 9509068.940000001, 15277822.21, 9228853.07, 9687261.070000002, 10760650.120000001, 8735271.390000002, 7772125.14, 4880129.9, 6861047.529999999, 8203155.859999999, 3845614.09, 7812319.049999999, 19496790.670000006, 16891946.970000003, 15369530.720000004, 2283310.105, 1176499.35, 7175998.455, 6143593.738999999, 895352.665, 2239440.0, 1267601.644, 319090.10000000003, 1664223.4100000008, 1056795.7349999999, 5518784.389, 4368351.295, 5850014.55, 1812967.935, 2175349.36, 584700.154, 2318310.815, 1321462.025, 1836898.7249999999, 8080871.75, 3861906.11, 9138951.034999998, 5928854.103999999, 7227998.785, 977429.35, 1791494.1300000001, 169650.65, 2133621.11, 406572.81000000006, 618658.26, 537443.25, 342996.57000000007, 126934.5, 421666.7799999999, 860999.58, 807618.22, 211194.57, 1900682.3900000001, 974126.79, 1552995.71, 488374.6, 1680649.7, 1102352.99, 2240061.76, 616910.92, 1562415.8, 111251.43000000001, 2781942.42, 34295.12, 2924278.2300000004, 15091.30001, 40415.13995, 30373.34197, 21403.2, 82472.62067, 1592400.0000000002, 743400.0, 1356131.4, 109956.6, 594534.79381, 584789.09879, 493951.08456999995, 512092.1265, 447418.56831999996, 287196.05704, 354119.9727300001, 233354.39593, 70796.36206, 185059.88, 734802.7196000001, 323433.31788, 683446.3999200001, 92363.56863000001, 974090.3938, 164586.12, 1085125.6699099997, 546026.91329, 256530.83733, 371335.79523, 512770.80036999995, 831444.2538300001, 706452.9811799999, 7451.0962, 531180.0, 2088337.1999999997, 110032.79999999999, 110204.25, 96489.95508, 1044517.04, 50306.4, 930685.38898, 1924967.1738499997, 1841751.204, 1119666.42012, 2704433.18071, 1290410.0104, 10206787.145, 42085.545880000005, 1109923.68602, 18018.0, 1467587.95943, 3193142.51294, 815425.04, 1849586.4060399998, 2365841.4083600002, 1270415.6306099999, 386651.20992999995, 818116.4728400001, 738641.4163600001, 1190316.6003700001, 1415698.84711, 1794188.6774300002, 5965519.220000001, 206099.08898000003, 3489416.679960001, 2285486.1452499996, 7074685.551, 37030.4, 9546.4, 2344414.6899999985, 2688759.4200000004, 94704.69, 3001356.5699999994, 1960603.3800000004, 52683.75, 941022.7699999999, 1615023.0100000002, 2807239.330000001, 2644108.51, 79451.07, 3572035.6, 3221059.2699999996, 1364752.02, 1473980.9, 2052573.4100000001, 2956311.089999999, 3458028.9300000006, 52683.75, 1761559.88, 4092963.4, 86000.59, 2986324.78, 2505960.18, 2561604.2199999993, 1727289.75, 3250975.9000000013, 1083929.86, 1410290.2599999998, 3609555.59, 9267.0, 6002.0979, 8655.72154, 1654317.4000000006, 518656.0, 869130.0, 1132416.0, 721156.2, 1297563.0, 786870.0, 1108364.0, 879108.0, 871740.0, 301936.39, 698165.0, 1160580.0, 1014420.0, 643890.32, 635900.0, 1239150.0, 1162320.0, 2739054.4400000004, 1817742.0, 1160580.0, 1713001.7999999998, 1613838.0, 1085620.9499999997, 1234754.0, 1160580.0, 918165.0, 1747677.59, 590364.0, 440772.0, 745077.0, 2851391.85, 2110824.0, 710727.0, 2609908.8899999997, 4189380.0, 1456691.2, 5189548.0, 289710.0, 292984.8, 233894.67299999998, 34909.722, 3302.271, 78117.88500000001, 7076.295, 292107.6, 3302.271, 22172.391, 8019.800999999999, 122236.28000000003, 295244.3, 324262.23000000004, 1036610.127, 320042.95999999996, 2049427.2, 7282.509999999998, 458606.5400000001, 438032.4, 89782.04, 486612.62, 690763.593, 107032.64999999998, 638894.0, 120417.30000000006, 405879.0, 582091.43, 378742.7, 103749.46999999999, 517584.1, 242235.86000000004, 1270009.0389999999, 185884.38, 1696517.256, 209839.87000000002, 993248.835, 655333.674, 977203.5519999999, 602564.8479999999, 334203.65400000004, 918571.3319999999, 408471.104, 977203.595, 163192.998, 977203.5519999999, 5866.146, 1110862.6019999997, 702609.336, 163192.998, 977203.5520000001, 284366.224, 472409.39499999996, 284366.353, 977203.552, 134854.10599999997, 1127171.298, 620524.271, 7698.60028, 2322942.39621, 40415.13995, 1369021.9, 743400.0, 30373.34197, 7471.62511, 15097.95353, 138980.13418, 9132996.35, 9267.0, 450769.8, 82472.62067, 16494675.625, 22404706.13, 94704.69, 38983599.165, 31901892.859, 52683.75, 15216002.694999998, 27292536.690000005, 15586759.724, 14069880.709999999, 539526.4199999999, 23420349.980000004, 22596879.505, 9590388.360000001, 30289174.409, 30683237.314999998, 26538906.990000006, 26174787.145, 52683.75, 21040941.37, 23029207.793999996, 198613.09, 17405868.605, 24160355.484999996, 21890054.535000004, 26841742.67, 24769260.169999998, 42303183.475, 31815264.904, 38939817.64500001, 4589040.44766, 3895774.27679, 1846333.552, 1132416.0, 2892930.60769, 6153263.282210001, 786870.0, 3535348.9147200002, 14341089.73404, 871740.0, 351304.44588, 3038590.67165, 2593833.995, 1014420.0, 2434614.71536, 4549644.493, 3907602.0649999995, 1162320.0, 5610950.20172, 6256773.328240001, 1160580.0, 3794357.42553, 4245858.15456, 3459919.2466399996, 2679917.2343600006, 2137783.552, 918165.0, 4418976.930279999, 2811315.4421099997, 913181.395, 745077.0, 5718209.653720001, 10588742.36987, 710727.0, 3580561.0512099997, 11015256.034330001, 5722166.6590599995, 14584459.63818, 289710.0, 21091414.672940005, 26300480.40679, 1941038.2419999999, 1132416.0, 41876529.77268999, 40378098.53742, 839553.75, 18791766.74967, 41633626.424040005, 871740.0, 15938064.169879999, 17108471.381649997, 3133360.415, 1014420.0, 25854964.695360005, 27146523.998, 14867012.325, 1162320.0, 35900124.61071999, 37683410.64324, 1160580.0, 30333264.41553001, 30451018.64153, 52683.75, 24500860.61664, 25716596.65347, 2336396.642, 918165.0, 21839943.488810003, 26971670.927109998, 913181.395, 745077.0, 27747244.322900005, 46563481.389869995, 710727.0, 28359088.22120999, 53769209.30933001, 37537431.56305999, 53606749.90385, 289710.0, 329770697.2994099, 427329338.21629953, 27115983.518999998, 4972398.0]}],                        {\"coloraxis\": {\"colorbar\": {\"title\": {\"text\": \"\\u6578\\u91cf\"}}, \"colorscale\": [[0.0, \"rgb(103,0,31)\"], [0.1, \"rgb(178,24,43)\"], [0.2, \"rgb(214,96,77)\"], [0.3, \"rgb(244,165,130)\"], [0.4, \"rgb(253,219,199)\"], [0.5, \"rgb(247,247,247)\"], [0.6, \"rgb(209,229,240)\"], [0.7, \"rgb(146,197,222)\"], [0.8, \"rgb(67,147,195)\"], [0.9, \"rgb(33,102,172)\"], [1.0, \"rgb(5,48,97)\"]]}, \"legend\": {\"tracegroupgap\": 0}, \"margin\": {\"t\": 60}, \"template\": {\"data\": {\"bar\": [{\"error_x\": {\"color\": \"#2a3f5f\"}, \"error_y\": {\"color\": \"#2a3f5f\"}, \"marker\": {\"line\": {\"color\": \"#E5ECF6\", \"width\": 0.5}}, \"type\": \"bar\"}], \"barpolar\": [{\"marker\": {\"line\": {\"color\": \"#E5ECF6\", \"width\": 0.5}}, \"type\": \"barpolar\"}], \"carpet\": [{\"aaxis\": {\"endlinecolor\": \"#2a3f5f\", \"gridcolor\": \"white\", \"linecolor\": \"white\", \"minorgridcolor\": \"white\", \"startlinecolor\": \"#2a3f5f\"}, \"baxis\": {\"endlinecolor\": \"#2a3f5f\", \"gridcolor\": \"white\", \"linecolor\": \"white\", \"minorgridcolor\": \"white\", \"startlinecolor\": \"#2a3f5f\"}, \"type\": \"carpet\"}], \"choropleth\": [{\"colorbar\": {\"outlinewidth\": 0, \"ticks\": \"\"}, \"type\": \"choropleth\"}], \"contour\": [{\"colorbar\": {\"outlinewidth\": 0, \"ticks\": \"\"}, \"colorscale\": [[0.0, \"#0d0887\"], [0.1111111111111111, \"#46039f\"], [0.2222222222222222, \"#7201a8\"], [0.3333333333333333, \"#9c179e\"], [0.4444444444444444, \"#bd3786\"], [0.5555555555555556, \"#d8576b\"], [0.6666666666666666, \"#ed7953\"], [0.7777777777777778, \"#fb9f3a\"], [0.8888888888888888, \"#fdca26\"], [1.0, \"#f0f921\"]], \"type\": \"contour\"}], \"contourcarpet\": [{\"colorbar\": {\"outlinewidth\": 0, \"ticks\": \"\"}, \"type\": \"contourcarpet\"}], \"heatmap\": [{\"colorbar\": {\"outlinewidth\": 0, \"ticks\": \"\"}, \"colorscale\": [[0.0, \"#0d0887\"], [0.1111111111111111, \"#46039f\"], [0.2222222222222222, \"#7201a8\"], [0.3333333333333333, \"#9c179e\"], [0.4444444444444444, \"#bd3786\"], [0.5555555555555556, \"#d8576b\"], [0.6666666666666666, \"#ed7953\"], [0.7777777777777778, \"#fb9f3a\"], [0.8888888888888888, \"#fdca26\"], [1.0, \"#f0f921\"]], \"type\": \"heatmap\"}], \"heatmapgl\": [{\"colorbar\": {\"outlinewidth\": 0, \"ticks\": \"\"}, \"colorscale\": [[0.0, \"#0d0887\"], [0.1111111111111111, \"#46039f\"], [0.2222222222222222, \"#7201a8\"], [0.3333333333333333, \"#9c179e\"], [0.4444444444444444, \"#bd3786\"], [0.5555555555555556, \"#d8576b\"], [0.6666666666666666, \"#ed7953\"], [0.7777777777777778, \"#fb9f3a\"], [0.8888888888888888, \"#fdca26\"], [1.0, \"#f0f921\"]], \"type\": \"heatmapgl\"}], \"histogram\": [{\"marker\": {\"colorbar\": {\"outlinewidth\": 0, \"ticks\": \"\"}}, \"type\": \"histogram\"}], \"histogram2d\": [{\"colorbar\": {\"outlinewidth\": 0, \"ticks\": \"\"}, \"colorscale\": [[0.0, \"#0d0887\"], [0.1111111111111111, \"#46039f\"], [0.2222222222222222, \"#7201a8\"], [0.3333333333333333, \"#9c179e\"], [0.4444444444444444, \"#bd3786\"], [0.5555555555555556, \"#d8576b\"], [0.6666666666666666, \"#ed7953\"], [0.7777777777777778, \"#fb9f3a\"], [0.8888888888888888, \"#fdca26\"], [1.0, \"#f0f921\"]], \"type\": \"histogram2d\"}], \"histogram2dcontour\": [{\"colorbar\": {\"outlinewidth\": 0, \"ticks\": \"\"}, \"colorscale\": [[0.0, \"#0d0887\"], [0.1111111111111111, \"#46039f\"], [0.2222222222222222, \"#7201a8\"], [0.3333333333333333, \"#9c179e\"], [0.4444444444444444, \"#bd3786\"], [0.5555555555555556, \"#d8576b\"], [0.6666666666666666, \"#ed7953\"], [0.7777777777777778, \"#fb9f3a\"], [0.8888888888888888, \"#fdca26\"], [1.0, \"#f0f921\"]], \"type\": \"histogram2dcontour\"}], \"mesh3d\": [{\"colorbar\": {\"outlinewidth\": 0, \"ticks\": \"\"}, \"type\": \"mesh3d\"}], \"parcoords\": [{\"line\": {\"colorbar\": {\"outlinewidth\": 0, \"ticks\": \"\"}}, \"type\": \"parcoords\"}], \"pie\": [{\"automargin\": true, \"type\": \"pie\"}], \"scatter\": [{\"marker\": {\"colorbar\": {\"outlinewidth\": 0, \"ticks\": \"\"}}, \"type\": \"scatter\"}], \"scatter3d\": [{\"line\": {\"colorbar\": {\"outlinewidth\": 0, \"ticks\": \"\"}}, \"marker\": {\"colorbar\": {\"outlinewidth\": 0, \"ticks\": \"\"}}, \"type\": \"scatter3d\"}], \"scattercarpet\": [{\"marker\": {\"colorbar\": {\"outlinewidth\": 0, \"ticks\": \"\"}}, \"type\": \"scattercarpet\"}], \"scattergeo\": [{\"marker\": {\"colorbar\": {\"outlinewidth\": 0, \"ticks\": \"\"}}, \"type\": \"scattergeo\"}], \"scattergl\": [{\"marker\": {\"colorbar\": {\"outlinewidth\": 0, \"ticks\": \"\"}}, \"type\": \"scattergl\"}], \"scattermapbox\": [{\"marker\": {\"colorbar\": {\"outlinewidth\": 0, \"ticks\": \"\"}}, \"type\": \"scattermapbox\"}], \"scatterpolar\": [{\"marker\": {\"colorbar\": {\"outlinewidth\": 0, \"ticks\": \"\"}}, \"type\": \"scatterpolar\"}], \"scatterpolargl\": [{\"marker\": {\"colorbar\": {\"outlinewidth\": 0, \"ticks\": \"\"}}, \"type\": \"scatterpolargl\"}], \"scatterternary\": [{\"marker\": {\"colorbar\": {\"outlinewidth\": 0, \"ticks\": \"\"}}, \"type\": \"scatterternary\"}], \"surface\": [{\"colorbar\": {\"outlinewidth\": 0, \"ticks\": \"\"}, \"colorscale\": [[0.0, \"#0d0887\"], [0.1111111111111111, \"#46039f\"], [0.2222222222222222, \"#7201a8\"], [0.3333333333333333, \"#9c179e\"], [0.4444444444444444, \"#bd3786\"], [0.5555555555555556, \"#d8576b\"], [0.6666666666666666, \"#ed7953\"], [0.7777777777777778, \"#fb9f3a\"], [0.8888888888888888, \"#fdca26\"], [1.0, \"#f0f921\"]], \"type\": \"surface\"}], \"table\": [{\"cells\": {\"fill\": {\"color\": \"#EBF0F8\"}, \"line\": {\"color\": \"white\"}}, \"header\": {\"fill\": {\"color\": \"#C8D4E3\"}, \"line\": {\"color\": \"white\"}}, \"type\": \"table\"}]}, \"layout\": {\"annotationdefaults\": {\"arrowcolor\": \"#2a3f5f\", \"arrowhead\": 0, \"arrowwidth\": 1}, \"coloraxis\": {\"colorbar\": {\"outlinewidth\": 0, \"ticks\": \"\"}}, \"colorscale\": {\"diverging\": [[0, \"#8e0152\"], [0.1, \"#c51b7d\"], [0.2, \"#de77ae\"], [0.3, \"#f1b6da\"], [0.4, \"#fde0ef\"], [0.5, \"#f7f7f7\"], [0.6, \"#e6f5d0\"], [0.7, \"#b8e186\"], [0.8, \"#7fbc41\"], [0.9, \"#4d9221\"], [1, \"#276419\"]], \"sequential\": [[0.0, \"#0d0887\"], [0.1111111111111111, \"#46039f\"], [0.2222222222222222, \"#7201a8\"], [0.3333333333333333, \"#9c179e\"], [0.4444444444444444, \"#bd3786\"], [0.5555555555555556, \"#d8576b\"], [0.6666666666666666, \"#ed7953\"], [0.7777777777777778, \"#fb9f3a\"], [0.8888888888888888, \"#fdca26\"], [1.0, \"#f0f921\"]], \"sequentialminus\": [[0.0, \"#0d0887\"], [0.1111111111111111, \"#46039f\"], [0.2222222222222222, \"#7201a8\"], [0.3333333333333333, \"#9c179e\"], [0.4444444444444444, \"#bd3786\"], [0.5555555555555556, \"#d8576b\"], [0.6666666666666666, \"#ed7953\"], [0.7777777777777778, \"#fb9f3a\"], [0.8888888888888888, \"#fdca26\"], [1.0, \"#f0f921\"]]}, \"colorway\": [\"#636efa\", \"#EF553B\", \"#00cc96\", \"#ab63fa\", \"#FFA15A\", \"#19d3f3\", \"#FF6692\", \"#B6E880\", \"#FF97FF\", \"#FECB52\"], \"font\": {\"color\": \"#2a3f5f\"}, \"geo\": {\"bgcolor\": \"white\", \"lakecolor\": \"white\", \"landcolor\": \"#E5ECF6\", \"showlakes\": true, \"showland\": true, \"subunitcolor\": \"white\"}, \"hoverlabel\": {\"align\": \"left\"}, \"hovermode\": \"closest\", \"mapbox\": {\"style\": \"light\"}, \"paper_bgcolor\": \"white\", \"plot_bgcolor\": \"#E5ECF6\", \"polar\": {\"angularaxis\": {\"gridcolor\": \"white\", \"linecolor\": \"white\", \"ticks\": \"\"}, \"bgcolor\": \"#E5ECF6\", \"radialaxis\": {\"gridcolor\": \"white\", \"linecolor\": \"white\", \"ticks\": \"\"}}, \"scene\": {\"xaxis\": {\"backgroundcolor\": \"#E5ECF6\", \"gridcolor\": \"white\", \"gridwidth\": 2, \"linecolor\": \"white\", \"showbackground\": true, \"ticks\": \"\", \"zerolinecolor\": \"white\"}, \"yaxis\": {\"backgroundcolor\": \"#E5ECF6\", \"gridcolor\": \"white\", \"gridwidth\": 2, \"linecolor\": \"white\", \"showbackground\": true, \"ticks\": \"\", \"zerolinecolor\": \"white\"}, \"zaxis\": {\"backgroundcolor\": \"#E5ECF6\", \"gridcolor\": \"white\", \"gridwidth\": 2, \"linecolor\": \"white\", \"showbackground\": true, \"ticks\": \"\", \"zerolinecolor\": \"white\"}}, \"shapedefaults\": {\"line\": {\"color\": \"#2a3f5f\"}}, \"ternary\": {\"aaxis\": {\"gridcolor\": \"white\", \"linecolor\": \"white\", \"ticks\": \"\"}, \"baxis\": {\"gridcolor\": \"white\", \"linecolor\": \"white\", \"ticks\": \"\"}, \"bgcolor\": \"#E5ECF6\", \"caxis\": {\"gridcolor\": \"white\", \"linecolor\": \"white\", \"ticks\": \"\"}}, \"title\": {\"x\": 0.05}, \"xaxis\": {\"automargin\": true, \"gridcolor\": \"white\", \"linecolor\": \"white\", \"ticks\": \"\", \"title\": {\"standoff\": 15}, \"zerolinecolor\": \"white\", \"zerolinewidth\": 2}, \"yaxis\": {\"automargin\": true, \"gridcolor\": \"white\", \"linecolor\": \"white\", \"ticks\": \"\", \"title\": {\"standoff\": 15}, \"zerolinecolor\": \"white\", \"zerolinewidth\": 2}}}},                        {\"responsive\": true}                    ).then(function(){\n",
       "                            \n",
       "var gd = document.getElementById('0d8e106c-48cd-4d38-8641-23e8df67d176');\n",
       "var x = new MutationObserver(function (mutations, observer) {{\n",
       "        var display = window.getComputedStyle(gd).display;\n",
       "        if (!display || display === 'none') {{\n",
       "            console.log([gd, 'removed!']);\n",
       "            Plotly.purge(gd);\n",
       "            observer.disconnect();\n",
       "        }}\n",
       "}});\n",
       "\n",
       "// Listen for the removal of the full notebook cells\n",
       "var notebookContainer = gd.closest('#notebook-container');\n",
       "if (notebookContainer) {{\n",
       "    x.observe(notebookContainer, {childList: true});\n",
       "}}\n",
       "\n",
       "// Listen for the clearing of the current output cell\n",
       "var outputEl = gd.closest('.output');\n",
       "if (outputEl) {{\n",
       "    x.observe(outputEl, {childList: true});\n",
       "}}\n",
       "\n",
       "                        })                };                });            </script>        </div>"
      ]
     },
     "metadata": {},
     "output_type": "display_data"
    }
   ],
   "source": [
    "fig = px.treemap(test, path=['預交年份', '預交月份', '負責業務', 'Group', 'BG'], values='本國幣別NTD',\n",
    "                color='數量', color_continuous_scale='RdBu'\n",
    "                )\n",
    "fig.show()"
   ]
  },
  {
   "cell_type": "code",
   "execution_count": null,
   "metadata": {},
   "outputs": [],
   "source": [
    "test1 = test.query('Group == [\"TELTONIKA\", \"MT-SYSTEM\"]')\n",
    "fig = px.treemap(test1, path=['預交年份', 'Group', 'BG'], values='本國幣別NTD',\n",
    "                color='數量', color_continuous_scale='RdBu'\n",
    "                )\n",
    "fig.show()"
   ]
  },
  {
   "cell_type": "markdown",
   "metadata": {},
   "source": [
    "## Line plot"
   ]
  },
  {
   "cell_type": "code",
   "execution_count": 7,
   "metadata": {},
   "outputs": [],
   "source": [
    "line_plot = test.groupby(['預交年份', '預交月份', '負責業務'])[['本國幣別NTD']].sum().reset_index()\n",
    "month_order = ['January', 'February', 'March', 'April', 'May', 'June', 'July',\n",
    "               'August', 'September', 'October', 'November', 'December']\n",
    "line_plot['預交月份'] = pd.Categorical(line_plot['預交月份'], ordered=True, categories=month_order)\n",
    "line_plot = line_plot.sort_values(by='預交月份')"
   ]
  },
  {
   "cell_type": "code",
   "execution_count": 8,
   "metadata": {},
   "outputs": [
    {
     "data": {
      "application/vnd.plotly.v1+json": {
       "config": {
        "plotlyServerURL": "https://plot.ly"
       },
       "data": [
        {
         "hovertemplate": "預交年份=2020<br>負責業務=沈思明<br>預交月份=%{x}<br>本國幣別NTD=%{y}<extra></extra>",
         "legendgroup": "2020",
         "line": {
          "color": "#636efa",
          "dash": "solid"
         },
         "mode": "lines",
         "name": "2020",
         "orientation": "v",
         "showlegend": true,
         "type": "scatter",
         "x": [
          "January",
          "February",
          "March",
          "April",
          "May",
          "June",
          "July",
          "August",
          "September",
          "October",
          "November",
          "December"
         ],
         "xaxis": "x",
         "y": [
          22596879.505,
          14069880.709999999,
          23029207.793999996,
          22404706.13,
          24160355.484999996,
          26174787.145,
          30683237.314999998,
          31901892.859,
          38939817.64500001,
          42303183.475,
          26841742.67,
          27292536.690000005
         ],
         "yaxis": "y"
        },
        {
         "hovertemplate": "預交年份=2020<br>負責業務=許凱智<br>預交月份=%{x}<br>本國幣別NTD=%{y}<extra></extra>",
         "legendgroup": "2020",
         "line": {
          "color": "#636efa",
          "dash": "solid"
         },
         "mode": "lines",
         "name": "2020",
         "orientation": "v",
         "showlegend": false,
         "type": "scatter",
         "x": [
          "January",
          "February",
          "March",
          "April",
          "May",
          "June",
          "July",
          "August",
          "September",
          "October",
          "November",
          "December"
         ],
         "xaxis": "x2",
         "y": [
          4549644.493,
          3038590.67165,
          2679917.2343600006,
          3895774.27679,
          2811315.4421099997,
          4245858.15456,
          6256773.328240001,
          6153263.282210001,
          14584459.63818,
          11015256.034330001,
          10588742.36987,
          14341089.73404
         ],
         "yaxis": "y2"
        },
        {
         "hovertemplate": "預交年份=2020<br>負責業務=墨漢雷迪<br>預交月份=%{x}<br>本國幣別NTD=%{y}<extra></extra>",
         "legendgroup": "2020",
         "line": {
          "color": "#636efa",
          "dash": "solid"
         },
         "mode": "lines",
         "name": "2020",
         "orientation": "v",
         "showlegend": false,
         "type": "scatter",
         "x": [
          "March",
          "June",
          "July",
          "August",
          "September",
          "October",
          "November"
         ],
         "xaxis": "x3",
         "y": [
          7471.62511,
          30373.34197,
          743400,
          2322942.39621,
          82472.62067,
          450769.8,
          9132996.35
         ],
         "yaxis": "y3"
        },
        {
         "hovertemplate": "預交年份=2022<br>負責業務=許凱智<br>預交月份=%{x}<br>本國幣別NTD=%{y}<extra></extra>",
         "legendgroup": "2022",
         "line": {
          "color": "#EF553B",
          "dash": "solid"
         },
         "mode": "lines",
         "name": "2022",
         "orientation": "v",
         "showlegend": true,
         "type": "scatter",
         "x": [
          "January",
          "February",
          "March",
          "April",
          "May"
         ],
         "xaxis": "x2",
         "y": [
          1162320,
          1014420,
          918165,
          1132416,
          745077
         ],
         "yaxis": "y2"
        },
        {
         "hovertemplate": "預交年份=2021<br>負責業務=沈思明<br>預交月份=%{x}<br>本國幣別NTD=%{y}<extra></extra>",
         "legendgroup": "2021",
         "line": {
          "color": "#00cc96",
          "dash": "solid"
         },
         "mode": "lines",
         "name": "2021",
         "orientation": "v",
         "showlegend": true,
         "type": "scatter",
         "x": [
          "January",
          "February",
          "March",
          "April",
          "June",
          "August"
         ],
         "xaxis": "x",
         "y": [
          9590388.360000001,
          539526.4199999999,
          198613.09,
          94704.69,
          52683.75,
          52683.75
         ],
         "yaxis": "y"
        },
        {
         "hovertemplate": "預交年份=2021<br>負責業務=許凱智<br>預交月份=%{x}<br>本國幣別NTD=%{y}<extra></extra>",
         "legendgroup": "2021",
         "line": {
          "color": "#00cc96",
          "dash": "solid"
         },
         "mode": "lines",
         "name": "2021",
         "orientation": "v",
         "showlegend": false,
         "type": "scatter",
         "x": [
          "January",
          "February",
          "March",
          "April",
          "May",
          "July",
          "August",
          "September",
          "November",
          "December"
         ],
         "xaxis": "x2",
         "y": [
          3907602.0649999995,
          2593833.995,
          2137783.552,
          1846333.552,
          913181.395,
          1160580,
          786870,
          289710,
          710727,
          871740
         ],
         "yaxis": "y2"
        },
        {
         "hovertemplate": "預交年份=2021<br>負責業務=墨漢雷迪<br>預交月份=%{x}<br>本國幣別NTD=%{y}<extra></extra>",
         "legendgroup": "2021",
         "line": {
          "color": "#00cc96",
          "dash": "solid"
         },
         "mode": "lines",
         "name": "2021",
         "orientation": "v",
         "showlegend": false,
         "type": "scatter",
         "x": [
          "January"
         ],
         "xaxis": "x3",
         "y": [
          1369021.9
         ],
         "yaxis": "y3"
        },
        {
         "hovertemplate": "預交年份=2019<br>負責業務=沈思明<br>預交月份=%{x}<br>本國幣別NTD=%{y}<extra></extra>",
         "legendgroup": "2019",
         "line": {
          "color": "#ab63fa",
          "dash": "solid"
         },
         "mode": "lines",
         "name": "2019",
         "orientation": "v",
         "showlegend": true,
         "type": "scatter",
         "x": [
          "January",
          "February",
          "March",
          "April",
          "May",
          "June",
          "July",
          "August",
          "September",
          "October",
          "November",
          "December"
         ],
         "xaxis": "x",
         "y": [
          23420349.980000004,
          15586759.724,
          21040941.37,
          16494675.625,
          17405868.605,
          26538906.990000006,
          30289174.409,
          38983599.165,
          31815264.904,
          24769260.169999998,
          21890054.535000004,
          15216002.694999998
         ],
         "yaxis": "y"
        },
        {
         "hovertemplate": "預交年份=2019<br>負責業務=許凱智<br>預交月份=%{x}<br>本國幣別NTD=%{y}<extra></extra>",
         "legendgroup": "2019",
         "line": {
          "color": "#ab63fa",
          "dash": "solid"
         },
         "mode": "lines",
         "name": "2019",
         "orientation": "v",
         "showlegend": false,
         "type": "scatter",
         "x": [
          "January",
          "February",
          "March",
          "April",
          "May",
          "June",
          "July",
          "August",
          "September",
          "October",
          "November",
          "December"
         ],
         "xaxis": "x2",
         "y": [
          2434614.71536,
          351304.44588,
          3459919.2466399996,
          4589040.44766,
          4418976.930279999,
          3794357.42553,
          5610950.20172,
          2892930.60769,
          5722166.6590599995,
          3580561.0512099997,
          5718209.653720001,
          3535348.9147200002
         ],
         "yaxis": "y2"
        },
        {
         "hovertemplate": "預交年份=2019<br>負責業務=墨漢雷迪<br>預交月份=%{x}<br>本國幣別NTD=%{y}<extra></extra>",
         "legendgroup": "2019",
         "line": {
          "color": "#ab63fa",
          "dash": "solid"
         },
         "mode": "lines",
         "name": "2019",
         "orientation": "v",
         "showlegend": false,
         "type": "scatter",
         "x": [
          "April",
          "May",
          "October",
          "November",
          "December"
         ],
         "xaxis": "x3",
         "y": [
          7698.60028,
          15097.95353,
          9267,
          138980.13418,
          40415.13995
         ],
         "yaxis": "y3"
        }
       ],
       "layout": {
        "annotations": [
         {
          "font": {},
          "showarrow": false,
          "text": "負責業務=沈思明",
          "x": 0.15999999999999998,
          "xanchor": "center",
          "xref": "paper",
          "y": 1,
          "yanchor": "bottom",
          "yref": "paper"
         },
         {
          "font": {},
          "showarrow": false,
          "text": "負責業務=許凱智",
          "x": 0.49999999999999994,
          "xanchor": "center",
          "xref": "paper",
          "y": 1,
          "yanchor": "bottom",
          "yref": "paper"
         },
         {
          "font": {},
          "showarrow": false,
          "text": "負責業務=墨漢雷迪",
          "x": 0.8399999999999999,
          "xanchor": "center",
          "xref": "paper",
          "y": 1,
          "yanchor": "bottom",
          "yref": "paper"
         }
        ],
        "legend": {
         "title": {
          "text": "預交年份"
         },
         "tracegroupgap": 0
        },
        "margin": {
         "t": 60
        },
        "template": {
         "data": {
          "bar": [
           {
            "error_x": {
             "color": "#2a3f5f"
            },
            "error_y": {
             "color": "#2a3f5f"
            },
            "marker": {
             "line": {
              "color": "#E5ECF6",
              "width": 0.5
             }
            },
            "type": "bar"
           }
          ],
          "barpolar": [
           {
            "marker": {
             "line": {
              "color": "#E5ECF6",
              "width": 0.5
             }
            },
            "type": "barpolar"
           }
          ],
          "carpet": [
           {
            "aaxis": {
             "endlinecolor": "#2a3f5f",
             "gridcolor": "white",
             "linecolor": "white",
             "minorgridcolor": "white",
             "startlinecolor": "#2a3f5f"
            },
            "baxis": {
             "endlinecolor": "#2a3f5f",
             "gridcolor": "white",
             "linecolor": "white",
             "minorgridcolor": "white",
             "startlinecolor": "#2a3f5f"
            },
            "type": "carpet"
           }
          ],
          "choropleth": [
           {
            "colorbar": {
             "outlinewidth": 0,
             "ticks": ""
            },
            "type": "choropleth"
           }
          ],
          "contour": [
           {
            "colorbar": {
             "outlinewidth": 0,
             "ticks": ""
            },
            "colorscale": [
             [
              0,
              "#0d0887"
             ],
             [
              0.1111111111111111,
              "#46039f"
             ],
             [
              0.2222222222222222,
              "#7201a8"
             ],
             [
              0.3333333333333333,
              "#9c179e"
             ],
             [
              0.4444444444444444,
              "#bd3786"
             ],
             [
              0.5555555555555556,
              "#d8576b"
             ],
             [
              0.6666666666666666,
              "#ed7953"
             ],
             [
              0.7777777777777778,
              "#fb9f3a"
             ],
             [
              0.8888888888888888,
              "#fdca26"
             ],
             [
              1,
              "#f0f921"
             ]
            ],
            "type": "contour"
           }
          ],
          "contourcarpet": [
           {
            "colorbar": {
             "outlinewidth": 0,
             "ticks": ""
            },
            "type": "contourcarpet"
           }
          ],
          "heatmap": [
           {
            "colorbar": {
             "outlinewidth": 0,
             "ticks": ""
            },
            "colorscale": [
             [
              0,
              "#0d0887"
             ],
             [
              0.1111111111111111,
              "#46039f"
             ],
             [
              0.2222222222222222,
              "#7201a8"
             ],
             [
              0.3333333333333333,
              "#9c179e"
             ],
             [
              0.4444444444444444,
              "#bd3786"
             ],
             [
              0.5555555555555556,
              "#d8576b"
             ],
             [
              0.6666666666666666,
              "#ed7953"
             ],
             [
              0.7777777777777778,
              "#fb9f3a"
             ],
             [
              0.8888888888888888,
              "#fdca26"
             ],
             [
              1,
              "#f0f921"
             ]
            ],
            "type": "heatmap"
           }
          ],
          "heatmapgl": [
           {
            "colorbar": {
             "outlinewidth": 0,
             "ticks": ""
            },
            "colorscale": [
             [
              0,
              "#0d0887"
             ],
             [
              0.1111111111111111,
              "#46039f"
             ],
             [
              0.2222222222222222,
              "#7201a8"
             ],
             [
              0.3333333333333333,
              "#9c179e"
             ],
             [
              0.4444444444444444,
              "#bd3786"
             ],
             [
              0.5555555555555556,
              "#d8576b"
             ],
             [
              0.6666666666666666,
              "#ed7953"
             ],
             [
              0.7777777777777778,
              "#fb9f3a"
             ],
             [
              0.8888888888888888,
              "#fdca26"
             ],
             [
              1,
              "#f0f921"
             ]
            ],
            "type": "heatmapgl"
           }
          ],
          "histogram": [
           {
            "marker": {
             "colorbar": {
              "outlinewidth": 0,
              "ticks": ""
             }
            },
            "type": "histogram"
           }
          ],
          "histogram2d": [
           {
            "colorbar": {
             "outlinewidth": 0,
             "ticks": ""
            },
            "colorscale": [
             [
              0,
              "#0d0887"
             ],
             [
              0.1111111111111111,
              "#46039f"
             ],
             [
              0.2222222222222222,
              "#7201a8"
             ],
             [
              0.3333333333333333,
              "#9c179e"
             ],
             [
              0.4444444444444444,
              "#bd3786"
             ],
             [
              0.5555555555555556,
              "#d8576b"
             ],
             [
              0.6666666666666666,
              "#ed7953"
             ],
             [
              0.7777777777777778,
              "#fb9f3a"
             ],
             [
              0.8888888888888888,
              "#fdca26"
             ],
             [
              1,
              "#f0f921"
             ]
            ],
            "type": "histogram2d"
           }
          ],
          "histogram2dcontour": [
           {
            "colorbar": {
             "outlinewidth": 0,
             "ticks": ""
            },
            "colorscale": [
             [
              0,
              "#0d0887"
             ],
             [
              0.1111111111111111,
              "#46039f"
             ],
             [
              0.2222222222222222,
              "#7201a8"
             ],
             [
              0.3333333333333333,
              "#9c179e"
             ],
             [
              0.4444444444444444,
              "#bd3786"
             ],
             [
              0.5555555555555556,
              "#d8576b"
             ],
             [
              0.6666666666666666,
              "#ed7953"
             ],
             [
              0.7777777777777778,
              "#fb9f3a"
             ],
             [
              0.8888888888888888,
              "#fdca26"
             ],
             [
              1,
              "#f0f921"
             ]
            ],
            "type": "histogram2dcontour"
           }
          ],
          "mesh3d": [
           {
            "colorbar": {
             "outlinewidth": 0,
             "ticks": ""
            },
            "type": "mesh3d"
           }
          ],
          "parcoords": [
           {
            "line": {
             "colorbar": {
              "outlinewidth": 0,
              "ticks": ""
             }
            },
            "type": "parcoords"
           }
          ],
          "pie": [
           {
            "automargin": true,
            "type": "pie"
           }
          ],
          "scatter": [
           {
            "marker": {
             "colorbar": {
              "outlinewidth": 0,
              "ticks": ""
             }
            },
            "type": "scatter"
           }
          ],
          "scatter3d": [
           {
            "line": {
             "colorbar": {
              "outlinewidth": 0,
              "ticks": ""
             }
            },
            "marker": {
             "colorbar": {
              "outlinewidth": 0,
              "ticks": ""
             }
            },
            "type": "scatter3d"
           }
          ],
          "scattercarpet": [
           {
            "marker": {
             "colorbar": {
              "outlinewidth": 0,
              "ticks": ""
             }
            },
            "type": "scattercarpet"
           }
          ],
          "scattergeo": [
           {
            "marker": {
             "colorbar": {
              "outlinewidth": 0,
              "ticks": ""
             }
            },
            "type": "scattergeo"
           }
          ],
          "scattergl": [
           {
            "marker": {
             "colorbar": {
              "outlinewidth": 0,
              "ticks": ""
             }
            },
            "type": "scattergl"
           }
          ],
          "scattermapbox": [
           {
            "marker": {
             "colorbar": {
              "outlinewidth": 0,
              "ticks": ""
             }
            },
            "type": "scattermapbox"
           }
          ],
          "scatterpolar": [
           {
            "marker": {
             "colorbar": {
              "outlinewidth": 0,
              "ticks": ""
             }
            },
            "type": "scatterpolar"
           }
          ],
          "scatterpolargl": [
           {
            "marker": {
             "colorbar": {
              "outlinewidth": 0,
              "ticks": ""
             }
            },
            "type": "scatterpolargl"
           }
          ],
          "scatterternary": [
           {
            "marker": {
             "colorbar": {
              "outlinewidth": 0,
              "ticks": ""
             }
            },
            "type": "scatterternary"
           }
          ],
          "surface": [
           {
            "colorbar": {
             "outlinewidth": 0,
             "ticks": ""
            },
            "colorscale": [
             [
              0,
              "#0d0887"
             ],
             [
              0.1111111111111111,
              "#46039f"
             ],
             [
              0.2222222222222222,
              "#7201a8"
             ],
             [
              0.3333333333333333,
              "#9c179e"
             ],
             [
              0.4444444444444444,
              "#bd3786"
             ],
             [
              0.5555555555555556,
              "#d8576b"
             ],
             [
              0.6666666666666666,
              "#ed7953"
             ],
             [
              0.7777777777777778,
              "#fb9f3a"
             ],
             [
              0.8888888888888888,
              "#fdca26"
             ],
             [
              1,
              "#f0f921"
             ]
            ],
            "type": "surface"
           }
          ],
          "table": [
           {
            "cells": {
             "fill": {
              "color": "#EBF0F8"
             },
             "line": {
              "color": "white"
             }
            },
            "header": {
             "fill": {
              "color": "#C8D4E3"
             },
             "line": {
              "color": "white"
             }
            },
            "type": "table"
           }
          ]
         },
         "layout": {
          "annotationdefaults": {
           "arrowcolor": "#2a3f5f",
           "arrowhead": 0,
           "arrowwidth": 1
          },
          "coloraxis": {
           "colorbar": {
            "outlinewidth": 0,
            "ticks": ""
           }
          },
          "colorscale": {
           "diverging": [
            [
             0,
             "#8e0152"
            ],
            [
             0.1,
             "#c51b7d"
            ],
            [
             0.2,
             "#de77ae"
            ],
            [
             0.3,
             "#f1b6da"
            ],
            [
             0.4,
             "#fde0ef"
            ],
            [
             0.5,
             "#f7f7f7"
            ],
            [
             0.6,
             "#e6f5d0"
            ],
            [
             0.7,
             "#b8e186"
            ],
            [
             0.8,
             "#7fbc41"
            ],
            [
             0.9,
             "#4d9221"
            ],
            [
             1,
             "#276419"
            ]
           ],
           "sequential": [
            [
             0,
             "#0d0887"
            ],
            [
             0.1111111111111111,
             "#46039f"
            ],
            [
             0.2222222222222222,
             "#7201a8"
            ],
            [
             0.3333333333333333,
             "#9c179e"
            ],
            [
             0.4444444444444444,
             "#bd3786"
            ],
            [
             0.5555555555555556,
             "#d8576b"
            ],
            [
             0.6666666666666666,
             "#ed7953"
            ],
            [
             0.7777777777777778,
             "#fb9f3a"
            ],
            [
             0.8888888888888888,
             "#fdca26"
            ],
            [
             1,
             "#f0f921"
            ]
           ],
           "sequentialminus": [
            [
             0,
             "#0d0887"
            ],
            [
             0.1111111111111111,
             "#46039f"
            ],
            [
             0.2222222222222222,
             "#7201a8"
            ],
            [
             0.3333333333333333,
             "#9c179e"
            ],
            [
             0.4444444444444444,
             "#bd3786"
            ],
            [
             0.5555555555555556,
             "#d8576b"
            ],
            [
             0.6666666666666666,
             "#ed7953"
            ],
            [
             0.7777777777777778,
             "#fb9f3a"
            ],
            [
             0.8888888888888888,
             "#fdca26"
            ],
            [
             1,
             "#f0f921"
            ]
           ]
          },
          "colorway": [
           "#636efa",
           "#EF553B",
           "#00cc96",
           "#ab63fa",
           "#FFA15A",
           "#19d3f3",
           "#FF6692",
           "#B6E880",
           "#FF97FF",
           "#FECB52"
          ],
          "font": {
           "color": "#2a3f5f"
          },
          "geo": {
           "bgcolor": "white",
           "lakecolor": "white",
           "landcolor": "#E5ECF6",
           "showlakes": true,
           "showland": true,
           "subunitcolor": "white"
          },
          "hoverlabel": {
           "align": "left"
          },
          "hovermode": "closest",
          "mapbox": {
           "style": "light"
          },
          "paper_bgcolor": "white",
          "plot_bgcolor": "#E5ECF6",
          "polar": {
           "angularaxis": {
            "gridcolor": "white",
            "linecolor": "white",
            "ticks": ""
           },
           "bgcolor": "#E5ECF6",
           "radialaxis": {
            "gridcolor": "white",
            "linecolor": "white",
            "ticks": ""
           }
          },
          "scene": {
           "xaxis": {
            "backgroundcolor": "#E5ECF6",
            "gridcolor": "white",
            "gridwidth": 2,
            "linecolor": "white",
            "showbackground": true,
            "ticks": "",
            "zerolinecolor": "white"
           },
           "yaxis": {
            "backgroundcolor": "#E5ECF6",
            "gridcolor": "white",
            "gridwidth": 2,
            "linecolor": "white",
            "showbackground": true,
            "ticks": "",
            "zerolinecolor": "white"
           },
           "zaxis": {
            "backgroundcolor": "#E5ECF6",
            "gridcolor": "white",
            "gridwidth": 2,
            "linecolor": "white",
            "showbackground": true,
            "ticks": "",
            "zerolinecolor": "white"
           }
          },
          "shapedefaults": {
           "line": {
            "color": "#2a3f5f"
           }
          },
          "ternary": {
           "aaxis": {
            "gridcolor": "white",
            "linecolor": "white",
            "ticks": ""
           },
           "baxis": {
            "gridcolor": "white",
            "linecolor": "white",
            "ticks": ""
           },
           "bgcolor": "#E5ECF6",
           "caxis": {
            "gridcolor": "white",
            "linecolor": "white",
            "ticks": ""
           }
          },
          "title": {
           "x": 0.05
          },
          "xaxis": {
           "automargin": true,
           "gridcolor": "white",
           "linecolor": "white",
           "ticks": "",
           "title": {
            "standoff": 15
           },
           "zerolinecolor": "white",
           "zerolinewidth": 2
          },
          "yaxis": {
           "automargin": true,
           "gridcolor": "white",
           "linecolor": "white",
           "ticks": "",
           "title": {
            "standoff": 15
           },
           "zerolinecolor": "white",
           "zerolinewidth": 2
          }
         }
        },
        "xaxis": {
         "anchor": "y",
         "categoryarray": [
          "January",
          "February",
          "March",
          "April",
          "May",
          "June",
          "July",
          "August",
          "September",
          "October",
          "November",
          "December"
         ],
         "categoryorder": "array",
         "domain": [
          0,
          0.31999999999999995
         ],
         "title": {
          "text": "預交月份"
         }
        },
        "xaxis2": {
         "anchor": "y2",
         "categoryarray": [
          "January",
          "February",
          "March",
          "April",
          "May",
          "June",
          "July",
          "August",
          "September",
          "October",
          "November",
          "December"
         ],
         "categoryorder": "array",
         "domain": [
          0.33999999999999997,
          0.6599999999999999
         ],
         "matches": "x",
         "title": {
          "text": "預交月份"
         }
        },
        "xaxis3": {
         "anchor": "y3",
         "categoryarray": [
          "January",
          "February",
          "March",
          "April",
          "May",
          "June",
          "July",
          "August",
          "September",
          "October",
          "November",
          "December"
         ],
         "categoryorder": "array",
         "domain": [
          0.6799999999999999,
          0.9999999999999999
         ],
         "matches": "x",
         "title": {
          "text": "預交月份"
         }
        },
        "yaxis": {
         "anchor": "x",
         "domain": [
          0,
          1
         ],
         "title": {
          "text": "本國幣別NTD"
         }
        },
        "yaxis2": {
         "anchor": "x2",
         "domain": [
          0,
          1
         ],
         "matches": "y",
         "showticklabels": false
        },
        "yaxis3": {
         "anchor": "x3",
         "domain": [
          0,
          1
         ],
         "matches": "y",
         "showticklabels": false
        }
       }
      },
      "text/html": [
       "<div>                            <div id=\"053fe581-2cd5-4c97-b17f-1781908df2d2\" class=\"plotly-graph-div\" style=\"height:525px; width:100%;\"></div>            <script type=\"text/javascript\">                require([\"plotly\"], function(Plotly) {                    window.PLOTLYENV=window.PLOTLYENV || {};                                    if (document.getElementById(\"053fe581-2cd5-4c97-b17f-1781908df2d2\")) {                    Plotly.newPlot(                        \"053fe581-2cd5-4c97-b17f-1781908df2d2\",                        [{\"hovertemplate\": \"\\u9810\\u4ea4\\u5e74\\u4efd=2020<br>\\u8ca0\\u8cac\\u696d\\u52d9=\\u6c88\\u601d\\u660e<br>\\u9810\\u4ea4\\u6708\\u4efd=%{x}<br>\\u672c\\u570b\\u5e63\\u5225NTD=%{y}<extra></extra>\", \"legendgroup\": \"2020\", \"line\": {\"color\": \"#636efa\", \"dash\": \"solid\"}, \"mode\": \"lines\", \"name\": \"2020\", \"orientation\": \"v\", \"showlegend\": true, \"type\": \"scatter\", \"x\": [\"January\", \"February\", \"March\", \"April\", \"May\", \"June\", \"July\", \"August\", \"September\", \"October\", \"November\", \"December\"], \"xaxis\": \"x\", \"y\": [22596879.505, 14069880.709999999, 23029207.793999996, 22404706.13, 24160355.484999996, 26174787.145, 30683237.314999998, 31901892.859, 38939817.64500001, 42303183.475, 26841742.67, 27292536.690000005], \"yaxis\": \"y\"}, {\"hovertemplate\": \"\\u9810\\u4ea4\\u5e74\\u4efd=2020<br>\\u8ca0\\u8cac\\u696d\\u52d9=\\u8a31\\u51f1\\u667a<br>\\u9810\\u4ea4\\u6708\\u4efd=%{x}<br>\\u672c\\u570b\\u5e63\\u5225NTD=%{y}<extra></extra>\", \"legendgroup\": \"2020\", \"line\": {\"color\": \"#636efa\", \"dash\": \"solid\"}, \"mode\": \"lines\", \"name\": \"2020\", \"orientation\": \"v\", \"showlegend\": false, \"type\": \"scatter\", \"x\": [\"January\", \"February\", \"March\", \"April\", \"May\", \"June\", \"July\", \"August\", \"September\", \"October\", \"November\", \"December\"], \"xaxis\": \"x2\", \"y\": [4549644.493, 3038590.67165, 2679917.2343600006, 3895774.27679, 2811315.4421099997, 4245858.15456, 6256773.328240001, 6153263.282210001, 14584459.63818, 11015256.034330001, 10588742.36987, 14341089.73404], \"yaxis\": \"y2\"}, {\"hovertemplate\": \"\\u9810\\u4ea4\\u5e74\\u4efd=2020<br>\\u8ca0\\u8cac\\u696d\\u52d9=\\u58a8\\u6f22\\u96f7\\u8fea<br>\\u9810\\u4ea4\\u6708\\u4efd=%{x}<br>\\u672c\\u570b\\u5e63\\u5225NTD=%{y}<extra></extra>\", \"legendgroup\": \"2020\", \"line\": {\"color\": \"#636efa\", \"dash\": \"solid\"}, \"mode\": \"lines\", \"name\": \"2020\", \"orientation\": \"v\", \"showlegend\": false, \"type\": \"scatter\", \"x\": [\"March\", \"June\", \"July\", \"August\", \"September\", \"October\", \"November\"], \"xaxis\": \"x3\", \"y\": [7471.62511, 30373.34197, 743400.0, 2322942.39621, 82472.62067, 450769.8, 9132996.35], \"yaxis\": \"y3\"}, {\"hovertemplate\": \"\\u9810\\u4ea4\\u5e74\\u4efd=2022<br>\\u8ca0\\u8cac\\u696d\\u52d9=\\u8a31\\u51f1\\u667a<br>\\u9810\\u4ea4\\u6708\\u4efd=%{x}<br>\\u672c\\u570b\\u5e63\\u5225NTD=%{y}<extra></extra>\", \"legendgroup\": \"2022\", \"line\": {\"color\": \"#EF553B\", \"dash\": \"solid\"}, \"mode\": \"lines\", \"name\": \"2022\", \"orientation\": \"v\", \"showlegend\": true, \"type\": \"scatter\", \"x\": [\"January\", \"February\", \"March\", \"April\", \"May\"], \"xaxis\": \"x2\", \"y\": [1162320.0, 1014420.0, 918165.0, 1132416.0, 745077.0], \"yaxis\": \"y2\"}, {\"hovertemplate\": \"\\u9810\\u4ea4\\u5e74\\u4efd=2021<br>\\u8ca0\\u8cac\\u696d\\u52d9=\\u6c88\\u601d\\u660e<br>\\u9810\\u4ea4\\u6708\\u4efd=%{x}<br>\\u672c\\u570b\\u5e63\\u5225NTD=%{y}<extra></extra>\", \"legendgroup\": \"2021\", \"line\": {\"color\": \"#00cc96\", \"dash\": \"solid\"}, \"mode\": \"lines\", \"name\": \"2021\", \"orientation\": \"v\", \"showlegend\": true, \"type\": \"scatter\", \"x\": [\"January\", \"February\", \"March\", \"April\", \"June\", \"August\"], \"xaxis\": \"x\", \"y\": [9590388.360000001, 539526.4199999999, 198613.09, 94704.69, 52683.75, 52683.75], \"yaxis\": \"y\"}, {\"hovertemplate\": \"\\u9810\\u4ea4\\u5e74\\u4efd=2021<br>\\u8ca0\\u8cac\\u696d\\u52d9=\\u8a31\\u51f1\\u667a<br>\\u9810\\u4ea4\\u6708\\u4efd=%{x}<br>\\u672c\\u570b\\u5e63\\u5225NTD=%{y}<extra></extra>\", \"legendgroup\": \"2021\", \"line\": {\"color\": \"#00cc96\", \"dash\": \"solid\"}, \"mode\": \"lines\", \"name\": \"2021\", \"orientation\": \"v\", \"showlegend\": false, \"type\": \"scatter\", \"x\": [\"January\", \"February\", \"March\", \"April\", \"May\", \"July\", \"August\", \"September\", \"November\", \"December\"], \"xaxis\": \"x2\", \"y\": [3907602.0649999995, 2593833.995, 2137783.552, 1846333.552, 913181.395, 1160580.0, 786870.0, 289710.0, 710727.0, 871740.0], \"yaxis\": \"y2\"}, {\"hovertemplate\": \"\\u9810\\u4ea4\\u5e74\\u4efd=2021<br>\\u8ca0\\u8cac\\u696d\\u52d9=\\u58a8\\u6f22\\u96f7\\u8fea<br>\\u9810\\u4ea4\\u6708\\u4efd=%{x}<br>\\u672c\\u570b\\u5e63\\u5225NTD=%{y}<extra></extra>\", \"legendgroup\": \"2021\", \"line\": {\"color\": \"#00cc96\", \"dash\": \"solid\"}, \"mode\": \"lines\", \"name\": \"2021\", \"orientation\": \"v\", \"showlegend\": false, \"type\": \"scatter\", \"x\": [\"January\"], \"xaxis\": \"x3\", \"y\": [1369021.9], \"yaxis\": \"y3\"}, {\"hovertemplate\": \"\\u9810\\u4ea4\\u5e74\\u4efd=2019<br>\\u8ca0\\u8cac\\u696d\\u52d9=\\u6c88\\u601d\\u660e<br>\\u9810\\u4ea4\\u6708\\u4efd=%{x}<br>\\u672c\\u570b\\u5e63\\u5225NTD=%{y}<extra></extra>\", \"legendgroup\": \"2019\", \"line\": {\"color\": \"#ab63fa\", \"dash\": \"solid\"}, \"mode\": \"lines\", \"name\": \"2019\", \"orientation\": \"v\", \"showlegend\": true, \"type\": \"scatter\", \"x\": [\"January\", \"February\", \"March\", \"April\", \"May\", \"June\", \"July\", \"August\", \"September\", \"October\", \"November\", \"December\"], \"xaxis\": \"x\", \"y\": [23420349.980000004, 15586759.724, 21040941.37, 16494675.625, 17405868.605, 26538906.990000006, 30289174.409, 38983599.165, 31815264.904, 24769260.169999998, 21890054.535000004, 15216002.694999998], \"yaxis\": \"y\"}, {\"hovertemplate\": \"\\u9810\\u4ea4\\u5e74\\u4efd=2019<br>\\u8ca0\\u8cac\\u696d\\u52d9=\\u8a31\\u51f1\\u667a<br>\\u9810\\u4ea4\\u6708\\u4efd=%{x}<br>\\u672c\\u570b\\u5e63\\u5225NTD=%{y}<extra></extra>\", \"legendgroup\": \"2019\", \"line\": {\"color\": \"#ab63fa\", \"dash\": \"solid\"}, \"mode\": \"lines\", \"name\": \"2019\", \"orientation\": \"v\", \"showlegend\": false, \"type\": \"scatter\", \"x\": [\"January\", \"February\", \"March\", \"April\", \"May\", \"June\", \"July\", \"August\", \"September\", \"October\", \"November\", \"December\"], \"xaxis\": \"x2\", \"y\": [2434614.71536, 351304.44588, 3459919.2466399996, 4589040.44766, 4418976.930279999, 3794357.42553, 5610950.20172, 2892930.60769, 5722166.6590599995, 3580561.0512099997, 5718209.653720001, 3535348.9147200002], \"yaxis\": \"y2\"}, {\"hovertemplate\": \"\\u9810\\u4ea4\\u5e74\\u4efd=2019<br>\\u8ca0\\u8cac\\u696d\\u52d9=\\u58a8\\u6f22\\u96f7\\u8fea<br>\\u9810\\u4ea4\\u6708\\u4efd=%{x}<br>\\u672c\\u570b\\u5e63\\u5225NTD=%{y}<extra></extra>\", \"legendgroup\": \"2019\", \"line\": {\"color\": \"#ab63fa\", \"dash\": \"solid\"}, \"mode\": \"lines\", \"name\": \"2019\", \"orientation\": \"v\", \"showlegend\": false, \"type\": \"scatter\", \"x\": [\"April\", \"May\", \"October\", \"November\", \"December\"], \"xaxis\": \"x3\", \"y\": [7698.60028, 15097.95353, 9267.0, 138980.13418, 40415.13995], \"yaxis\": \"y3\"}],                        {\"annotations\": [{\"font\": {}, \"showarrow\": false, \"text\": \"\\u8ca0\\u8cac\\u696d\\u52d9=\\u6c88\\u601d\\u660e\", \"x\": 0.15999999999999998, \"xanchor\": \"center\", \"xref\": \"paper\", \"y\": 1.0, \"yanchor\": \"bottom\", \"yref\": \"paper\"}, {\"font\": {}, \"showarrow\": false, \"text\": \"\\u8ca0\\u8cac\\u696d\\u52d9=\\u8a31\\u51f1\\u667a\", \"x\": 0.49999999999999994, \"xanchor\": \"center\", \"xref\": \"paper\", \"y\": 1.0, \"yanchor\": \"bottom\", \"yref\": \"paper\"}, {\"font\": {}, \"showarrow\": false, \"text\": \"\\u8ca0\\u8cac\\u696d\\u52d9=\\u58a8\\u6f22\\u96f7\\u8fea\", \"x\": 0.8399999999999999, \"xanchor\": \"center\", \"xref\": \"paper\", \"y\": 1.0, \"yanchor\": \"bottom\", \"yref\": \"paper\"}], \"legend\": {\"title\": {\"text\": \"\\u9810\\u4ea4\\u5e74\\u4efd\"}, \"tracegroupgap\": 0}, \"margin\": {\"t\": 60}, \"template\": {\"data\": {\"bar\": [{\"error_x\": {\"color\": \"#2a3f5f\"}, \"error_y\": {\"color\": \"#2a3f5f\"}, \"marker\": {\"line\": {\"color\": \"#E5ECF6\", \"width\": 0.5}}, \"type\": \"bar\"}], \"barpolar\": [{\"marker\": {\"line\": {\"color\": \"#E5ECF6\", \"width\": 0.5}}, \"type\": \"barpolar\"}], \"carpet\": [{\"aaxis\": {\"endlinecolor\": \"#2a3f5f\", \"gridcolor\": \"white\", \"linecolor\": \"white\", \"minorgridcolor\": \"white\", \"startlinecolor\": \"#2a3f5f\"}, \"baxis\": {\"endlinecolor\": \"#2a3f5f\", \"gridcolor\": \"white\", \"linecolor\": \"white\", \"minorgridcolor\": \"white\", \"startlinecolor\": \"#2a3f5f\"}, \"type\": \"carpet\"}], \"choropleth\": [{\"colorbar\": {\"outlinewidth\": 0, \"ticks\": \"\"}, \"type\": \"choropleth\"}], \"contour\": [{\"colorbar\": {\"outlinewidth\": 0, \"ticks\": \"\"}, \"colorscale\": [[0.0, \"#0d0887\"], [0.1111111111111111, \"#46039f\"], [0.2222222222222222, \"#7201a8\"], [0.3333333333333333, \"#9c179e\"], [0.4444444444444444, \"#bd3786\"], [0.5555555555555556, \"#d8576b\"], [0.6666666666666666, \"#ed7953\"], [0.7777777777777778, \"#fb9f3a\"], [0.8888888888888888, \"#fdca26\"], [1.0, \"#f0f921\"]], \"type\": \"contour\"}], \"contourcarpet\": [{\"colorbar\": {\"outlinewidth\": 0, \"ticks\": \"\"}, \"type\": \"contourcarpet\"}], \"heatmap\": [{\"colorbar\": {\"outlinewidth\": 0, \"ticks\": \"\"}, \"colorscale\": [[0.0, \"#0d0887\"], [0.1111111111111111, \"#46039f\"], [0.2222222222222222, \"#7201a8\"], [0.3333333333333333, \"#9c179e\"], [0.4444444444444444, \"#bd3786\"], [0.5555555555555556, \"#d8576b\"], [0.6666666666666666, \"#ed7953\"], [0.7777777777777778, \"#fb9f3a\"], [0.8888888888888888, \"#fdca26\"], [1.0, \"#f0f921\"]], \"type\": \"heatmap\"}], \"heatmapgl\": [{\"colorbar\": {\"outlinewidth\": 0, \"ticks\": \"\"}, \"colorscale\": [[0.0, \"#0d0887\"], [0.1111111111111111, \"#46039f\"], [0.2222222222222222, \"#7201a8\"], [0.3333333333333333, \"#9c179e\"], [0.4444444444444444, \"#bd3786\"], [0.5555555555555556, \"#d8576b\"], [0.6666666666666666, \"#ed7953\"], [0.7777777777777778, \"#fb9f3a\"], [0.8888888888888888, \"#fdca26\"], [1.0, \"#f0f921\"]], \"type\": \"heatmapgl\"}], \"histogram\": [{\"marker\": {\"colorbar\": {\"outlinewidth\": 0, \"ticks\": \"\"}}, \"type\": \"histogram\"}], \"histogram2d\": [{\"colorbar\": {\"outlinewidth\": 0, \"ticks\": \"\"}, \"colorscale\": [[0.0, \"#0d0887\"], [0.1111111111111111, \"#46039f\"], [0.2222222222222222, \"#7201a8\"], [0.3333333333333333, \"#9c179e\"], [0.4444444444444444, \"#bd3786\"], [0.5555555555555556, \"#d8576b\"], [0.6666666666666666, \"#ed7953\"], [0.7777777777777778, \"#fb9f3a\"], [0.8888888888888888, \"#fdca26\"], [1.0, \"#f0f921\"]], \"type\": \"histogram2d\"}], \"histogram2dcontour\": [{\"colorbar\": {\"outlinewidth\": 0, \"ticks\": \"\"}, \"colorscale\": [[0.0, \"#0d0887\"], [0.1111111111111111, \"#46039f\"], [0.2222222222222222, \"#7201a8\"], [0.3333333333333333, \"#9c179e\"], [0.4444444444444444, \"#bd3786\"], [0.5555555555555556, \"#d8576b\"], [0.6666666666666666, \"#ed7953\"], [0.7777777777777778, \"#fb9f3a\"], [0.8888888888888888, \"#fdca26\"], [1.0, \"#f0f921\"]], \"type\": \"histogram2dcontour\"}], \"mesh3d\": [{\"colorbar\": {\"outlinewidth\": 0, \"ticks\": \"\"}, \"type\": \"mesh3d\"}], \"parcoords\": [{\"line\": {\"colorbar\": {\"outlinewidth\": 0, \"ticks\": \"\"}}, \"type\": \"parcoords\"}], \"pie\": [{\"automargin\": true, \"type\": \"pie\"}], \"scatter\": [{\"marker\": {\"colorbar\": {\"outlinewidth\": 0, \"ticks\": \"\"}}, \"type\": \"scatter\"}], \"scatter3d\": [{\"line\": {\"colorbar\": {\"outlinewidth\": 0, \"ticks\": \"\"}}, \"marker\": {\"colorbar\": {\"outlinewidth\": 0, \"ticks\": \"\"}}, \"type\": \"scatter3d\"}], \"scattercarpet\": [{\"marker\": {\"colorbar\": {\"outlinewidth\": 0, \"ticks\": \"\"}}, \"type\": \"scattercarpet\"}], \"scattergeo\": [{\"marker\": {\"colorbar\": {\"outlinewidth\": 0, \"ticks\": \"\"}}, \"type\": \"scattergeo\"}], \"scattergl\": [{\"marker\": {\"colorbar\": {\"outlinewidth\": 0, \"ticks\": \"\"}}, \"type\": \"scattergl\"}], \"scattermapbox\": [{\"marker\": {\"colorbar\": {\"outlinewidth\": 0, \"ticks\": \"\"}}, \"type\": \"scattermapbox\"}], \"scatterpolar\": [{\"marker\": {\"colorbar\": {\"outlinewidth\": 0, \"ticks\": \"\"}}, \"type\": \"scatterpolar\"}], \"scatterpolargl\": [{\"marker\": {\"colorbar\": {\"outlinewidth\": 0, \"ticks\": \"\"}}, \"type\": \"scatterpolargl\"}], \"scatterternary\": [{\"marker\": {\"colorbar\": {\"outlinewidth\": 0, \"ticks\": \"\"}}, \"type\": \"scatterternary\"}], \"surface\": [{\"colorbar\": {\"outlinewidth\": 0, \"ticks\": \"\"}, \"colorscale\": [[0.0, \"#0d0887\"], [0.1111111111111111, \"#46039f\"], [0.2222222222222222, \"#7201a8\"], [0.3333333333333333, \"#9c179e\"], [0.4444444444444444, \"#bd3786\"], [0.5555555555555556, \"#d8576b\"], [0.6666666666666666, \"#ed7953\"], [0.7777777777777778, \"#fb9f3a\"], [0.8888888888888888, \"#fdca26\"], [1.0, \"#f0f921\"]], \"type\": \"surface\"}], \"table\": [{\"cells\": {\"fill\": {\"color\": \"#EBF0F8\"}, \"line\": {\"color\": \"white\"}}, \"header\": {\"fill\": {\"color\": \"#C8D4E3\"}, \"line\": {\"color\": \"white\"}}, \"type\": \"table\"}]}, \"layout\": {\"annotationdefaults\": {\"arrowcolor\": \"#2a3f5f\", \"arrowhead\": 0, \"arrowwidth\": 1}, \"coloraxis\": {\"colorbar\": {\"outlinewidth\": 0, \"ticks\": \"\"}}, \"colorscale\": {\"diverging\": [[0, \"#8e0152\"], [0.1, \"#c51b7d\"], [0.2, \"#de77ae\"], [0.3, \"#f1b6da\"], [0.4, \"#fde0ef\"], [0.5, \"#f7f7f7\"], [0.6, \"#e6f5d0\"], [0.7, \"#b8e186\"], [0.8, \"#7fbc41\"], [0.9, \"#4d9221\"], [1, \"#276419\"]], \"sequential\": [[0.0, \"#0d0887\"], [0.1111111111111111, \"#46039f\"], [0.2222222222222222, \"#7201a8\"], [0.3333333333333333, \"#9c179e\"], [0.4444444444444444, \"#bd3786\"], [0.5555555555555556, \"#d8576b\"], [0.6666666666666666, \"#ed7953\"], [0.7777777777777778, \"#fb9f3a\"], [0.8888888888888888, \"#fdca26\"], [1.0, \"#f0f921\"]], \"sequentialminus\": [[0.0, \"#0d0887\"], [0.1111111111111111, \"#46039f\"], [0.2222222222222222, \"#7201a8\"], [0.3333333333333333, \"#9c179e\"], [0.4444444444444444, \"#bd3786\"], [0.5555555555555556, \"#d8576b\"], [0.6666666666666666, \"#ed7953\"], [0.7777777777777778, \"#fb9f3a\"], [0.8888888888888888, \"#fdca26\"], [1.0, \"#f0f921\"]]}, \"colorway\": [\"#636efa\", \"#EF553B\", \"#00cc96\", \"#ab63fa\", \"#FFA15A\", \"#19d3f3\", \"#FF6692\", \"#B6E880\", \"#FF97FF\", \"#FECB52\"], \"font\": {\"color\": \"#2a3f5f\"}, \"geo\": {\"bgcolor\": \"white\", \"lakecolor\": \"white\", \"landcolor\": \"#E5ECF6\", \"showlakes\": true, \"showland\": true, \"subunitcolor\": \"white\"}, \"hoverlabel\": {\"align\": \"left\"}, \"hovermode\": \"closest\", \"mapbox\": {\"style\": \"light\"}, \"paper_bgcolor\": \"white\", \"plot_bgcolor\": \"#E5ECF6\", \"polar\": {\"angularaxis\": {\"gridcolor\": \"white\", \"linecolor\": \"white\", \"ticks\": \"\"}, \"bgcolor\": \"#E5ECF6\", \"radialaxis\": {\"gridcolor\": \"white\", \"linecolor\": \"white\", \"ticks\": \"\"}}, \"scene\": {\"xaxis\": {\"backgroundcolor\": \"#E5ECF6\", \"gridcolor\": \"white\", \"gridwidth\": 2, \"linecolor\": \"white\", \"showbackground\": true, \"ticks\": \"\", \"zerolinecolor\": \"white\"}, \"yaxis\": {\"backgroundcolor\": \"#E5ECF6\", \"gridcolor\": \"white\", \"gridwidth\": 2, \"linecolor\": \"white\", \"showbackground\": true, \"ticks\": \"\", \"zerolinecolor\": \"white\"}, \"zaxis\": {\"backgroundcolor\": \"#E5ECF6\", \"gridcolor\": \"white\", \"gridwidth\": 2, \"linecolor\": \"white\", \"showbackground\": true, \"ticks\": \"\", \"zerolinecolor\": \"white\"}}, \"shapedefaults\": {\"line\": {\"color\": \"#2a3f5f\"}}, \"ternary\": {\"aaxis\": {\"gridcolor\": \"white\", \"linecolor\": \"white\", \"ticks\": \"\"}, \"baxis\": {\"gridcolor\": \"white\", \"linecolor\": \"white\", \"ticks\": \"\"}, \"bgcolor\": \"#E5ECF6\", \"caxis\": {\"gridcolor\": \"white\", \"linecolor\": \"white\", \"ticks\": \"\"}}, \"title\": {\"x\": 0.05}, \"xaxis\": {\"automargin\": true, \"gridcolor\": \"white\", \"linecolor\": \"white\", \"ticks\": \"\", \"title\": {\"standoff\": 15}, \"zerolinecolor\": \"white\", \"zerolinewidth\": 2}, \"yaxis\": {\"automargin\": true, \"gridcolor\": \"white\", \"linecolor\": \"white\", \"ticks\": \"\", \"title\": {\"standoff\": 15}, \"zerolinecolor\": \"white\", \"zerolinewidth\": 2}}}, \"xaxis\": {\"anchor\": \"y\", \"categoryarray\": [\"January\", \"February\", \"March\", \"April\", \"May\", \"June\", \"July\", \"August\", \"September\", \"October\", \"November\", \"December\"], \"categoryorder\": \"array\", \"domain\": [0.0, 0.31999999999999995], \"title\": {\"text\": \"\\u9810\\u4ea4\\u6708\\u4efd\"}}, \"xaxis2\": {\"anchor\": \"y2\", \"categoryarray\": [\"January\", \"February\", \"March\", \"April\", \"May\", \"June\", \"July\", \"August\", \"September\", \"October\", \"November\", \"December\"], \"categoryorder\": \"array\", \"domain\": [0.33999999999999997, 0.6599999999999999], \"matches\": \"x\", \"title\": {\"text\": \"\\u9810\\u4ea4\\u6708\\u4efd\"}}, \"xaxis3\": {\"anchor\": \"y3\", \"categoryarray\": [\"January\", \"February\", \"March\", \"April\", \"May\", \"June\", \"July\", \"August\", \"September\", \"October\", \"November\", \"December\"], \"categoryorder\": \"array\", \"domain\": [0.6799999999999999, 0.9999999999999999], \"matches\": \"x\", \"title\": {\"text\": \"\\u9810\\u4ea4\\u6708\\u4efd\"}}, \"yaxis\": {\"anchor\": \"x\", \"domain\": [0.0, 1.0], \"title\": {\"text\": \"\\u672c\\u570b\\u5e63\\u5225NTD\"}}, \"yaxis2\": {\"anchor\": \"x2\", \"domain\": [0.0, 1.0], \"matches\": \"y\", \"showticklabels\": false}, \"yaxis3\": {\"anchor\": \"x3\", \"domain\": [0.0, 1.0], \"matches\": \"y\", \"showticklabels\": false}},                        {\"responsive\": true}                    ).then(function(){\n",
       "                            \n",
       "var gd = document.getElementById('053fe581-2cd5-4c97-b17f-1781908df2d2');\n",
       "var x = new MutationObserver(function (mutations, observer) {{\n",
       "        var display = window.getComputedStyle(gd).display;\n",
       "        if (!display || display === 'none') {{\n",
       "            console.log([gd, 'removed!']);\n",
       "            Plotly.purge(gd);\n",
       "            observer.disconnect();\n",
       "        }}\n",
       "}});\n",
       "\n",
       "// Listen for the removal of the full notebook cells\n",
       "var notebookContainer = gd.closest('#notebook-container');\n",
       "if (notebookContainer) {{\n",
       "    x.observe(notebookContainer, {childList: true});\n",
       "}}\n",
       "\n",
       "// Listen for the clearing of the current output cell\n",
       "var outputEl = gd.closest('.output');\n",
       "if (outputEl) {{\n",
       "    x.observe(outputEl, {childList: true});\n",
       "}}\n",
       "\n",
       "                        })                };                });            </script>        </div>"
      ]
     },
     "metadata": {},
     "output_type": "display_data"
    }
   ],
   "source": [
    "line = px.line(line_plot, x='預交月份', y='本國幣別NTD', color='預交年份', category_orders={'預交月份':month_order}, facet_col='負責業務')\n",
    "line.show()"
   ]
  },
  {
   "cell_type": "markdown",
   "metadata": {},
   "source": [
    "## Bar plot"
   ]
  },
  {
   "cell_type": "code",
   "execution_count": 9,
   "metadata": {},
   "outputs": [
    {
     "data": {
      "application/vnd.plotly.v1+json": {
       "config": {
        "plotlyServerURL": "https://plot.ly"
       },
       "data": [
        {
         "alignmentgroup": "True",
         "hovertemplate": "預交年份=2019<br>負責業務=墨漢雷迪<br>預交月份=%{x}<br>本國幣別NTD=%{y}<extra></extra>",
         "legendgroup": "2019",
         "marker": {
          "color": "#636efa"
         },
         "name": "2019",
         "offsetgroup": "2019",
         "orientation": "v",
         "showlegend": true,
         "textposition": "auto",
         "type": "bar",
         "x": [
          "April",
          "December",
          "May",
          "November",
          "October"
         ],
         "xaxis": "x",
         "y": [
          7698.60028,
          40415.13995,
          15097.95353,
          138980.13418,
          9267
         ],
         "yaxis": "y"
        },
        {
         "alignmentgroup": "True",
         "hovertemplate": "預交年份=2019<br>負責業務=沈思明<br>預交月份=%{x}<br>本國幣別NTD=%{y}<extra></extra>",
         "legendgroup": "2019",
         "marker": {
          "color": "#636efa"
         },
         "name": "2019",
         "offsetgroup": "2019",
         "orientation": "v",
         "showlegend": false,
         "textposition": "auto",
         "type": "bar",
         "x": [
          "April",
          "August",
          "December",
          "February",
          "January",
          "July",
          "June",
          "March",
          "May",
          "November",
          "October",
          "September"
         ],
         "xaxis": "x2",
         "y": [
          16494675.625,
          38983599.165,
          15216002.694999998,
          15586759.724,
          23420349.980000004,
          30289174.409,
          26538906.990000006,
          21040941.37,
          17405868.605,
          21890054.535000004,
          24769260.169999998,
          31815264.904
         ],
         "yaxis": "y2"
        },
        {
         "alignmentgroup": "True",
         "hovertemplate": "預交年份=2019<br>負責業務=許凱智<br>預交月份=%{x}<br>本國幣別NTD=%{y}<extra></extra>",
         "legendgroup": "2019",
         "marker": {
          "color": "#636efa"
         },
         "name": "2019",
         "offsetgroup": "2019",
         "orientation": "v",
         "showlegend": false,
         "textposition": "auto",
         "type": "bar",
         "x": [
          "April",
          "August",
          "December",
          "February",
          "January",
          "July",
          "June",
          "March",
          "May",
          "November",
          "October",
          "September"
         ],
         "xaxis": "x3",
         "y": [
          4589040.44766,
          2892930.60769,
          3535348.9147200002,
          351304.44588,
          2434614.71536,
          5610950.20172,
          3794357.42553,
          3459919.2466399996,
          4418976.930279999,
          5718209.653720001,
          3580561.0512099997,
          5722166.6590599995
         ],
         "yaxis": "y3"
        },
        {
         "alignmentgroup": "True",
         "hovertemplate": "預交年份=2020<br>負責業務=墨漢雷迪<br>預交月份=%{x}<br>本國幣別NTD=%{y}<extra></extra>",
         "legendgroup": "2020",
         "marker": {
          "color": "#EF553B"
         },
         "name": "2020",
         "offsetgroup": "2020",
         "orientation": "v",
         "showlegend": true,
         "textposition": "auto",
         "type": "bar",
         "x": [
          "August",
          "July",
          "June",
          "March",
          "November",
          "October",
          "September"
         ],
         "xaxis": "x",
         "y": [
          2322942.39621,
          743400,
          30373.34197,
          7471.62511,
          9132996.35,
          450769.8,
          82472.62067
         ],
         "yaxis": "y"
        },
        {
         "alignmentgroup": "True",
         "hovertemplate": "預交年份=2020<br>負責業務=沈思明<br>預交月份=%{x}<br>本國幣別NTD=%{y}<extra></extra>",
         "legendgroup": "2020",
         "marker": {
          "color": "#EF553B"
         },
         "name": "2020",
         "offsetgroup": "2020",
         "orientation": "v",
         "showlegend": false,
         "textposition": "auto",
         "type": "bar",
         "x": [
          "April",
          "August",
          "December",
          "February",
          "January",
          "July",
          "June",
          "March",
          "May",
          "November",
          "October",
          "September"
         ],
         "xaxis": "x2",
         "y": [
          22404706.13,
          31901892.859,
          27292536.690000005,
          14069880.709999999,
          22596879.505,
          30683237.314999998,
          26174787.145,
          23029207.793999996,
          24160355.484999996,
          26841742.67,
          42303183.475,
          38939817.64500001
         ],
         "yaxis": "y2"
        },
        {
         "alignmentgroup": "True",
         "hovertemplate": "預交年份=2020<br>負責業務=許凱智<br>預交月份=%{x}<br>本國幣別NTD=%{y}<extra></extra>",
         "legendgroup": "2020",
         "marker": {
          "color": "#EF553B"
         },
         "name": "2020",
         "offsetgroup": "2020",
         "orientation": "v",
         "showlegend": false,
         "textposition": "auto",
         "type": "bar",
         "x": [
          "April",
          "August",
          "December",
          "February",
          "January",
          "July",
          "June",
          "March",
          "May",
          "November",
          "October",
          "September"
         ],
         "xaxis": "x3",
         "y": [
          3895774.27679,
          6153263.282210001,
          14341089.73404,
          3038590.67165,
          4549644.493,
          6256773.328240001,
          4245858.15456,
          2679917.2343600006,
          2811315.4421099997,
          10588742.36987,
          11015256.034330001,
          14584459.63818
         ],
         "yaxis": "y3"
        },
        {
         "alignmentgroup": "True",
         "hovertemplate": "預交年份=2021<br>負責業務=墨漢雷迪<br>預交月份=%{x}<br>本國幣別NTD=%{y}<extra></extra>",
         "legendgroup": "2021",
         "marker": {
          "color": "#00cc96"
         },
         "name": "2021",
         "offsetgroup": "2021",
         "orientation": "v",
         "showlegend": true,
         "textposition": "auto",
         "type": "bar",
         "x": [
          "January"
         ],
         "xaxis": "x",
         "y": [
          1369021.9
         ],
         "yaxis": "y"
        },
        {
         "alignmentgroup": "True",
         "hovertemplate": "預交年份=2021<br>負責業務=沈思明<br>預交月份=%{x}<br>本國幣別NTD=%{y}<extra></extra>",
         "legendgroup": "2021",
         "marker": {
          "color": "#00cc96"
         },
         "name": "2021",
         "offsetgroup": "2021",
         "orientation": "v",
         "showlegend": false,
         "textposition": "auto",
         "type": "bar",
         "x": [
          "April",
          "August",
          "February",
          "January",
          "June",
          "March"
         ],
         "xaxis": "x2",
         "y": [
          94704.69,
          52683.75,
          539526.4199999999,
          9590388.360000001,
          52683.75,
          198613.09
         ],
         "yaxis": "y2"
        },
        {
         "alignmentgroup": "True",
         "hovertemplate": "預交年份=2021<br>負責業務=許凱智<br>預交月份=%{x}<br>本國幣別NTD=%{y}<extra></extra>",
         "legendgroup": "2021",
         "marker": {
          "color": "#00cc96"
         },
         "name": "2021",
         "offsetgroup": "2021",
         "orientation": "v",
         "showlegend": false,
         "textposition": "auto",
         "type": "bar",
         "x": [
          "April",
          "August",
          "December",
          "February",
          "January",
          "July",
          "March",
          "May",
          "November",
          "September"
         ],
         "xaxis": "x3",
         "y": [
          1846333.552,
          786870,
          871740,
          2593833.995,
          3907602.0649999995,
          1160580,
          2137783.552,
          913181.395,
          710727,
          289710
         ],
         "yaxis": "y3"
        }
       ],
       "layout": {
        "annotations": [
         {
          "font": {},
          "showarrow": false,
          "text": "負責業務=墨漢雷迪",
          "x": 0.15999999999999998,
          "xanchor": "center",
          "xref": "paper",
          "y": 1,
          "yanchor": "bottom",
          "yref": "paper"
         },
         {
          "font": {},
          "showarrow": false,
          "text": "負責業務=沈思明",
          "x": 0.49999999999999994,
          "xanchor": "center",
          "xref": "paper",
          "y": 1,
          "yanchor": "bottom",
          "yref": "paper"
         },
         {
          "font": {},
          "showarrow": false,
          "text": "負責業務=許凱智",
          "x": 0.8399999999999999,
          "xanchor": "center",
          "xref": "paper",
          "y": 1,
          "yanchor": "bottom",
          "yref": "paper"
         }
        ],
        "barmode": "group",
        "legend": {
         "title": {
          "text": "預交年份"
         },
         "tracegroupgap": 0
        },
        "margin": {
         "t": 60
        },
        "template": {
         "data": {
          "bar": [
           {
            "error_x": {
             "color": "#2a3f5f"
            },
            "error_y": {
             "color": "#2a3f5f"
            },
            "marker": {
             "line": {
              "color": "#E5ECF6",
              "width": 0.5
             }
            },
            "type": "bar"
           }
          ],
          "barpolar": [
           {
            "marker": {
             "line": {
              "color": "#E5ECF6",
              "width": 0.5
             }
            },
            "type": "barpolar"
           }
          ],
          "carpet": [
           {
            "aaxis": {
             "endlinecolor": "#2a3f5f",
             "gridcolor": "white",
             "linecolor": "white",
             "minorgridcolor": "white",
             "startlinecolor": "#2a3f5f"
            },
            "baxis": {
             "endlinecolor": "#2a3f5f",
             "gridcolor": "white",
             "linecolor": "white",
             "minorgridcolor": "white",
             "startlinecolor": "#2a3f5f"
            },
            "type": "carpet"
           }
          ],
          "choropleth": [
           {
            "colorbar": {
             "outlinewidth": 0,
             "ticks": ""
            },
            "type": "choropleth"
           }
          ],
          "contour": [
           {
            "colorbar": {
             "outlinewidth": 0,
             "ticks": ""
            },
            "colorscale": [
             [
              0,
              "#0d0887"
             ],
             [
              0.1111111111111111,
              "#46039f"
             ],
             [
              0.2222222222222222,
              "#7201a8"
             ],
             [
              0.3333333333333333,
              "#9c179e"
             ],
             [
              0.4444444444444444,
              "#bd3786"
             ],
             [
              0.5555555555555556,
              "#d8576b"
             ],
             [
              0.6666666666666666,
              "#ed7953"
             ],
             [
              0.7777777777777778,
              "#fb9f3a"
             ],
             [
              0.8888888888888888,
              "#fdca26"
             ],
             [
              1,
              "#f0f921"
             ]
            ],
            "type": "contour"
           }
          ],
          "contourcarpet": [
           {
            "colorbar": {
             "outlinewidth": 0,
             "ticks": ""
            },
            "type": "contourcarpet"
           }
          ],
          "heatmap": [
           {
            "colorbar": {
             "outlinewidth": 0,
             "ticks": ""
            },
            "colorscale": [
             [
              0,
              "#0d0887"
             ],
             [
              0.1111111111111111,
              "#46039f"
             ],
             [
              0.2222222222222222,
              "#7201a8"
             ],
             [
              0.3333333333333333,
              "#9c179e"
             ],
             [
              0.4444444444444444,
              "#bd3786"
             ],
             [
              0.5555555555555556,
              "#d8576b"
             ],
             [
              0.6666666666666666,
              "#ed7953"
             ],
             [
              0.7777777777777778,
              "#fb9f3a"
             ],
             [
              0.8888888888888888,
              "#fdca26"
             ],
             [
              1,
              "#f0f921"
             ]
            ],
            "type": "heatmap"
           }
          ],
          "heatmapgl": [
           {
            "colorbar": {
             "outlinewidth": 0,
             "ticks": ""
            },
            "colorscale": [
             [
              0,
              "#0d0887"
             ],
             [
              0.1111111111111111,
              "#46039f"
             ],
             [
              0.2222222222222222,
              "#7201a8"
             ],
             [
              0.3333333333333333,
              "#9c179e"
             ],
             [
              0.4444444444444444,
              "#bd3786"
             ],
             [
              0.5555555555555556,
              "#d8576b"
             ],
             [
              0.6666666666666666,
              "#ed7953"
             ],
             [
              0.7777777777777778,
              "#fb9f3a"
             ],
             [
              0.8888888888888888,
              "#fdca26"
             ],
             [
              1,
              "#f0f921"
             ]
            ],
            "type": "heatmapgl"
           }
          ],
          "histogram": [
           {
            "marker": {
             "colorbar": {
              "outlinewidth": 0,
              "ticks": ""
             }
            },
            "type": "histogram"
           }
          ],
          "histogram2d": [
           {
            "colorbar": {
             "outlinewidth": 0,
             "ticks": ""
            },
            "colorscale": [
             [
              0,
              "#0d0887"
             ],
             [
              0.1111111111111111,
              "#46039f"
             ],
             [
              0.2222222222222222,
              "#7201a8"
             ],
             [
              0.3333333333333333,
              "#9c179e"
             ],
             [
              0.4444444444444444,
              "#bd3786"
             ],
             [
              0.5555555555555556,
              "#d8576b"
             ],
             [
              0.6666666666666666,
              "#ed7953"
             ],
             [
              0.7777777777777778,
              "#fb9f3a"
             ],
             [
              0.8888888888888888,
              "#fdca26"
             ],
             [
              1,
              "#f0f921"
             ]
            ],
            "type": "histogram2d"
           }
          ],
          "histogram2dcontour": [
           {
            "colorbar": {
             "outlinewidth": 0,
             "ticks": ""
            },
            "colorscale": [
             [
              0,
              "#0d0887"
             ],
             [
              0.1111111111111111,
              "#46039f"
             ],
             [
              0.2222222222222222,
              "#7201a8"
             ],
             [
              0.3333333333333333,
              "#9c179e"
             ],
             [
              0.4444444444444444,
              "#bd3786"
             ],
             [
              0.5555555555555556,
              "#d8576b"
             ],
             [
              0.6666666666666666,
              "#ed7953"
             ],
             [
              0.7777777777777778,
              "#fb9f3a"
             ],
             [
              0.8888888888888888,
              "#fdca26"
             ],
             [
              1,
              "#f0f921"
             ]
            ],
            "type": "histogram2dcontour"
           }
          ],
          "mesh3d": [
           {
            "colorbar": {
             "outlinewidth": 0,
             "ticks": ""
            },
            "type": "mesh3d"
           }
          ],
          "parcoords": [
           {
            "line": {
             "colorbar": {
              "outlinewidth": 0,
              "ticks": ""
             }
            },
            "type": "parcoords"
           }
          ],
          "pie": [
           {
            "automargin": true,
            "type": "pie"
           }
          ],
          "scatter": [
           {
            "marker": {
             "colorbar": {
              "outlinewidth": 0,
              "ticks": ""
             }
            },
            "type": "scatter"
           }
          ],
          "scatter3d": [
           {
            "line": {
             "colorbar": {
              "outlinewidth": 0,
              "ticks": ""
             }
            },
            "marker": {
             "colorbar": {
              "outlinewidth": 0,
              "ticks": ""
             }
            },
            "type": "scatter3d"
           }
          ],
          "scattercarpet": [
           {
            "marker": {
             "colorbar": {
              "outlinewidth": 0,
              "ticks": ""
             }
            },
            "type": "scattercarpet"
           }
          ],
          "scattergeo": [
           {
            "marker": {
             "colorbar": {
              "outlinewidth": 0,
              "ticks": ""
             }
            },
            "type": "scattergeo"
           }
          ],
          "scattergl": [
           {
            "marker": {
             "colorbar": {
              "outlinewidth": 0,
              "ticks": ""
             }
            },
            "type": "scattergl"
           }
          ],
          "scattermapbox": [
           {
            "marker": {
             "colorbar": {
              "outlinewidth": 0,
              "ticks": ""
             }
            },
            "type": "scattermapbox"
           }
          ],
          "scatterpolar": [
           {
            "marker": {
             "colorbar": {
              "outlinewidth": 0,
              "ticks": ""
             }
            },
            "type": "scatterpolar"
           }
          ],
          "scatterpolargl": [
           {
            "marker": {
             "colorbar": {
              "outlinewidth": 0,
              "ticks": ""
             }
            },
            "type": "scatterpolargl"
           }
          ],
          "scatterternary": [
           {
            "marker": {
             "colorbar": {
              "outlinewidth": 0,
              "ticks": ""
             }
            },
            "type": "scatterternary"
           }
          ],
          "surface": [
           {
            "colorbar": {
             "outlinewidth": 0,
             "ticks": ""
            },
            "colorscale": [
             [
              0,
              "#0d0887"
             ],
             [
              0.1111111111111111,
              "#46039f"
             ],
             [
              0.2222222222222222,
              "#7201a8"
             ],
             [
              0.3333333333333333,
              "#9c179e"
             ],
             [
              0.4444444444444444,
              "#bd3786"
             ],
             [
              0.5555555555555556,
              "#d8576b"
             ],
             [
              0.6666666666666666,
              "#ed7953"
             ],
             [
              0.7777777777777778,
              "#fb9f3a"
             ],
             [
              0.8888888888888888,
              "#fdca26"
             ],
             [
              1,
              "#f0f921"
             ]
            ],
            "type": "surface"
           }
          ],
          "table": [
           {
            "cells": {
             "fill": {
              "color": "#EBF0F8"
             },
             "line": {
              "color": "white"
             }
            },
            "header": {
             "fill": {
              "color": "#C8D4E3"
             },
             "line": {
              "color": "white"
             }
            },
            "type": "table"
           }
          ]
         },
         "layout": {
          "annotationdefaults": {
           "arrowcolor": "#2a3f5f",
           "arrowhead": 0,
           "arrowwidth": 1
          },
          "coloraxis": {
           "colorbar": {
            "outlinewidth": 0,
            "ticks": ""
           }
          },
          "colorscale": {
           "diverging": [
            [
             0,
             "#8e0152"
            ],
            [
             0.1,
             "#c51b7d"
            ],
            [
             0.2,
             "#de77ae"
            ],
            [
             0.3,
             "#f1b6da"
            ],
            [
             0.4,
             "#fde0ef"
            ],
            [
             0.5,
             "#f7f7f7"
            ],
            [
             0.6,
             "#e6f5d0"
            ],
            [
             0.7,
             "#b8e186"
            ],
            [
             0.8,
             "#7fbc41"
            ],
            [
             0.9,
             "#4d9221"
            ],
            [
             1,
             "#276419"
            ]
           ],
           "sequential": [
            [
             0,
             "#0d0887"
            ],
            [
             0.1111111111111111,
             "#46039f"
            ],
            [
             0.2222222222222222,
             "#7201a8"
            ],
            [
             0.3333333333333333,
             "#9c179e"
            ],
            [
             0.4444444444444444,
             "#bd3786"
            ],
            [
             0.5555555555555556,
             "#d8576b"
            ],
            [
             0.6666666666666666,
             "#ed7953"
            ],
            [
             0.7777777777777778,
             "#fb9f3a"
            ],
            [
             0.8888888888888888,
             "#fdca26"
            ],
            [
             1,
             "#f0f921"
            ]
           ],
           "sequentialminus": [
            [
             0,
             "#0d0887"
            ],
            [
             0.1111111111111111,
             "#46039f"
            ],
            [
             0.2222222222222222,
             "#7201a8"
            ],
            [
             0.3333333333333333,
             "#9c179e"
            ],
            [
             0.4444444444444444,
             "#bd3786"
            ],
            [
             0.5555555555555556,
             "#d8576b"
            ],
            [
             0.6666666666666666,
             "#ed7953"
            ],
            [
             0.7777777777777778,
             "#fb9f3a"
            ],
            [
             0.8888888888888888,
             "#fdca26"
            ],
            [
             1,
             "#f0f921"
            ]
           ]
          },
          "colorway": [
           "#636efa",
           "#EF553B",
           "#00cc96",
           "#ab63fa",
           "#FFA15A",
           "#19d3f3",
           "#FF6692",
           "#B6E880",
           "#FF97FF",
           "#FECB52"
          ],
          "font": {
           "color": "#2a3f5f"
          },
          "geo": {
           "bgcolor": "white",
           "lakecolor": "white",
           "landcolor": "#E5ECF6",
           "showlakes": true,
           "showland": true,
           "subunitcolor": "white"
          },
          "hoverlabel": {
           "align": "left"
          },
          "hovermode": "closest",
          "mapbox": {
           "style": "light"
          },
          "paper_bgcolor": "white",
          "plot_bgcolor": "#E5ECF6",
          "polar": {
           "angularaxis": {
            "gridcolor": "white",
            "linecolor": "white",
            "ticks": ""
           },
           "bgcolor": "#E5ECF6",
           "radialaxis": {
            "gridcolor": "white",
            "linecolor": "white",
            "ticks": ""
           }
          },
          "scene": {
           "xaxis": {
            "backgroundcolor": "#E5ECF6",
            "gridcolor": "white",
            "gridwidth": 2,
            "linecolor": "white",
            "showbackground": true,
            "ticks": "",
            "zerolinecolor": "white"
           },
           "yaxis": {
            "backgroundcolor": "#E5ECF6",
            "gridcolor": "white",
            "gridwidth": 2,
            "linecolor": "white",
            "showbackground": true,
            "ticks": "",
            "zerolinecolor": "white"
           },
           "zaxis": {
            "backgroundcolor": "#E5ECF6",
            "gridcolor": "white",
            "gridwidth": 2,
            "linecolor": "white",
            "showbackground": true,
            "ticks": "",
            "zerolinecolor": "white"
           }
          },
          "shapedefaults": {
           "line": {
            "color": "#2a3f5f"
           }
          },
          "ternary": {
           "aaxis": {
            "gridcolor": "white",
            "linecolor": "white",
            "ticks": ""
           },
           "baxis": {
            "gridcolor": "white",
            "linecolor": "white",
            "ticks": ""
           },
           "bgcolor": "#E5ECF6",
           "caxis": {
            "gridcolor": "white",
            "linecolor": "white",
            "ticks": ""
           }
          },
          "title": {
           "x": 0.05
          },
          "xaxis": {
           "automargin": true,
           "gridcolor": "white",
           "linecolor": "white",
           "ticks": "",
           "title": {
            "standoff": 15
           },
           "zerolinecolor": "white",
           "zerolinewidth": 2
          },
          "yaxis": {
           "automargin": true,
           "gridcolor": "white",
           "linecolor": "white",
           "ticks": "",
           "title": {
            "standoff": 15
           },
           "zerolinecolor": "white",
           "zerolinewidth": 2
          }
         }
        },
        "xaxis": {
         "anchor": "y",
         "categoryarray": [
          "January",
          "February",
          "March",
          "April",
          "May",
          "June",
          "July",
          "August",
          "September",
          "October",
          "November",
          "December"
         ],
         "categoryorder": "array",
         "domain": [
          0,
          0.31999999999999995
         ],
         "title": {
          "text": "預交月份"
         }
        },
        "xaxis2": {
         "anchor": "y2",
         "categoryarray": [
          "January",
          "February",
          "March",
          "April",
          "May",
          "June",
          "July",
          "August",
          "September",
          "October",
          "November",
          "December"
         ],
         "categoryorder": "array",
         "domain": [
          0.33999999999999997,
          0.6599999999999999
         ],
         "matches": "x",
         "title": {
          "text": "預交月份"
         }
        },
        "xaxis3": {
         "anchor": "y3",
         "categoryarray": [
          "January",
          "February",
          "March",
          "April",
          "May",
          "June",
          "July",
          "August",
          "September",
          "October",
          "November",
          "December"
         ],
         "categoryorder": "array",
         "domain": [
          0.6799999999999999,
          0.9999999999999999
         ],
         "matches": "x",
         "title": {
          "text": "預交月份"
         }
        },
        "yaxis": {
         "anchor": "x",
         "domain": [
          0,
          1
         ],
         "title": {
          "text": "本國幣別NTD"
         }
        },
        "yaxis2": {
         "anchor": "x2",
         "domain": [
          0,
          1
         ],
         "matches": "y",
         "showticklabels": false
        },
        "yaxis3": {
         "anchor": "x3",
         "domain": [
          0,
          1
         ],
         "matches": "y",
         "showticklabels": false
        }
       }
      },
      "text/html": [
       "<div>                            <div id=\"8ba1e5dd-865d-40b6-b41d-422cd08b2ac1\" class=\"plotly-graph-div\" style=\"height:525px; width:100%;\"></div>            <script type=\"text/javascript\">                require([\"plotly\"], function(Plotly) {                    window.PLOTLYENV=window.PLOTLYENV || {};                                    if (document.getElementById(\"8ba1e5dd-865d-40b6-b41d-422cd08b2ac1\")) {                    Plotly.newPlot(                        \"8ba1e5dd-865d-40b6-b41d-422cd08b2ac1\",                        [{\"alignmentgroup\": \"True\", \"hovertemplate\": \"\\u9810\\u4ea4\\u5e74\\u4efd=2019<br>\\u8ca0\\u8cac\\u696d\\u52d9=\\u58a8\\u6f22\\u96f7\\u8fea<br>\\u9810\\u4ea4\\u6708\\u4efd=%{x}<br>\\u672c\\u570b\\u5e63\\u5225NTD=%{y}<extra></extra>\", \"legendgroup\": \"2019\", \"marker\": {\"color\": \"#636efa\"}, \"name\": \"2019\", \"offsetgroup\": \"2019\", \"orientation\": \"v\", \"showlegend\": true, \"textposition\": \"auto\", \"type\": \"bar\", \"x\": [\"April\", \"December\", \"May\", \"November\", \"October\"], \"xaxis\": \"x\", \"y\": [7698.60028, 40415.13995, 15097.95353, 138980.13418, 9267.0], \"yaxis\": \"y\"}, {\"alignmentgroup\": \"True\", \"hovertemplate\": \"\\u9810\\u4ea4\\u5e74\\u4efd=2019<br>\\u8ca0\\u8cac\\u696d\\u52d9=\\u6c88\\u601d\\u660e<br>\\u9810\\u4ea4\\u6708\\u4efd=%{x}<br>\\u672c\\u570b\\u5e63\\u5225NTD=%{y}<extra></extra>\", \"legendgroup\": \"2019\", \"marker\": {\"color\": \"#636efa\"}, \"name\": \"2019\", \"offsetgroup\": \"2019\", \"orientation\": \"v\", \"showlegend\": false, \"textposition\": \"auto\", \"type\": \"bar\", \"x\": [\"April\", \"August\", \"December\", \"February\", \"January\", \"July\", \"June\", \"March\", \"May\", \"November\", \"October\", \"September\"], \"xaxis\": \"x2\", \"y\": [16494675.625, 38983599.165, 15216002.694999998, 15586759.724, 23420349.980000004, 30289174.409, 26538906.990000006, 21040941.37, 17405868.605, 21890054.535000004, 24769260.169999998, 31815264.904], \"yaxis\": \"y2\"}, {\"alignmentgroup\": \"True\", \"hovertemplate\": \"\\u9810\\u4ea4\\u5e74\\u4efd=2019<br>\\u8ca0\\u8cac\\u696d\\u52d9=\\u8a31\\u51f1\\u667a<br>\\u9810\\u4ea4\\u6708\\u4efd=%{x}<br>\\u672c\\u570b\\u5e63\\u5225NTD=%{y}<extra></extra>\", \"legendgroup\": \"2019\", \"marker\": {\"color\": \"#636efa\"}, \"name\": \"2019\", \"offsetgroup\": \"2019\", \"orientation\": \"v\", \"showlegend\": false, \"textposition\": \"auto\", \"type\": \"bar\", \"x\": [\"April\", \"August\", \"December\", \"February\", \"January\", \"July\", \"June\", \"March\", \"May\", \"November\", \"October\", \"September\"], \"xaxis\": \"x3\", \"y\": [4589040.44766, 2892930.60769, 3535348.9147200002, 351304.44588, 2434614.71536, 5610950.20172, 3794357.42553, 3459919.2466399996, 4418976.930279999, 5718209.653720001, 3580561.0512099997, 5722166.6590599995], \"yaxis\": \"y3\"}, {\"alignmentgroup\": \"True\", \"hovertemplate\": \"\\u9810\\u4ea4\\u5e74\\u4efd=2020<br>\\u8ca0\\u8cac\\u696d\\u52d9=\\u58a8\\u6f22\\u96f7\\u8fea<br>\\u9810\\u4ea4\\u6708\\u4efd=%{x}<br>\\u672c\\u570b\\u5e63\\u5225NTD=%{y}<extra></extra>\", \"legendgroup\": \"2020\", \"marker\": {\"color\": \"#EF553B\"}, \"name\": \"2020\", \"offsetgroup\": \"2020\", \"orientation\": \"v\", \"showlegend\": true, \"textposition\": \"auto\", \"type\": \"bar\", \"x\": [\"August\", \"July\", \"June\", \"March\", \"November\", \"October\", \"September\"], \"xaxis\": \"x\", \"y\": [2322942.39621, 743400.0, 30373.34197, 7471.62511, 9132996.35, 450769.8, 82472.62067], \"yaxis\": \"y\"}, {\"alignmentgroup\": \"True\", \"hovertemplate\": \"\\u9810\\u4ea4\\u5e74\\u4efd=2020<br>\\u8ca0\\u8cac\\u696d\\u52d9=\\u6c88\\u601d\\u660e<br>\\u9810\\u4ea4\\u6708\\u4efd=%{x}<br>\\u672c\\u570b\\u5e63\\u5225NTD=%{y}<extra></extra>\", \"legendgroup\": \"2020\", \"marker\": {\"color\": \"#EF553B\"}, \"name\": \"2020\", \"offsetgroup\": \"2020\", \"orientation\": \"v\", \"showlegend\": false, \"textposition\": \"auto\", \"type\": \"bar\", \"x\": [\"April\", \"August\", \"December\", \"February\", \"January\", \"July\", \"June\", \"March\", \"May\", \"November\", \"October\", \"September\"], \"xaxis\": \"x2\", \"y\": [22404706.13, 31901892.859, 27292536.690000005, 14069880.709999999, 22596879.505, 30683237.314999998, 26174787.145, 23029207.793999996, 24160355.484999996, 26841742.67, 42303183.475, 38939817.64500001], \"yaxis\": \"y2\"}, {\"alignmentgroup\": \"True\", \"hovertemplate\": \"\\u9810\\u4ea4\\u5e74\\u4efd=2020<br>\\u8ca0\\u8cac\\u696d\\u52d9=\\u8a31\\u51f1\\u667a<br>\\u9810\\u4ea4\\u6708\\u4efd=%{x}<br>\\u672c\\u570b\\u5e63\\u5225NTD=%{y}<extra></extra>\", \"legendgroup\": \"2020\", \"marker\": {\"color\": \"#EF553B\"}, \"name\": \"2020\", \"offsetgroup\": \"2020\", \"orientation\": \"v\", \"showlegend\": false, \"textposition\": \"auto\", \"type\": \"bar\", \"x\": [\"April\", \"August\", \"December\", \"February\", \"January\", \"July\", \"June\", \"March\", \"May\", \"November\", \"October\", \"September\"], \"xaxis\": \"x3\", \"y\": [3895774.27679, 6153263.282210001, 14341089.73404, 3038590.67165, 4549644.493, 6256773.328240001, 4245858.15456, 2679917.2343600006, 2811315.4421099997, 10588742.36987, 11015256.034330001, 14584459.63818], \"yaxis\": \"y3\"}, {\"alignmentgroup\": \"True\", \"hovertemplate\": \"\\u9810\\u4ea4\\u5e74\\u4efd=2021<br>\\u8ca0\\u8cac\\u696d\\u52d9=\\u58a8\\u6f22\\u96f7\\u8fea<br>\\u9810\\u4ea4\\u6708\\u4efd=%{x}<br>\\u672c\\u570b\\u5e63\\u5225NTD=%{y}<extra></extra>\", \"legendgroup\": \"2021\", \"marker\": {\"color\": \"#00cc96\"}, \"name\": \"2021\", \"offsetgroup\": \"2021\", \"orientation\": \"v\", \"showlegend\": true, \"textposition\": \"auto\", \"type\": \"bar\", \"x\": [\"January\"], \"xaxis\": \"x\", \"y\": [1369021.9], \"yaxis\": \"y\"}, {\"alignmentgroup\": \"True\", \"hovertemplate\": \"\\u9810\\u4ea4\\u5e74\\u4efd=2021<br>\\u8ca0\\u8cac\\u696d\\u52d9=\\u6c88\\u601d\\u660e<br>\\u9810\\u4ea4\\u6708\\u4efd=%{x}<br>\\u672c\\u570b\\u5e63\\u5225NTD=%{y}<extra></extra>\", \"legendgroup\": \"2021\", \"marker\": {\"color\": \"#00cc96\"}, \"name\": \"2021\", \"offsetgroup\": \"2021\", \"orientation\": \"v\", \"showlegend\": false, \"textposition\": \"auto\", \"type\": \"bar\", \"x\": [\"April\", \"August\", \"February\", \"January\", \"June\", \"March\"], \"xaxis\": \"x2\", \"y\": [94704.69, 52683.75, 539526.4199999999, 9590388.360000001, 52683.75, 198613.09], \"yaxis\": \"y2\"}, {\"alignmentgroup\": \"True\", \"hovertemplate\": \"\\u9810\\u4ea4\\u5e74\\u4efd=2021<br>\\u8ca0\\u8cac\\u696d\\u52d9=\\u8a31\\u51f1\\u667a<br>\\u9810\\u4ea4\\u6708\\u4efd=%{x}<br>\\u672c\\u570b\\u5e63\\u5225NTD=%{y}<extra></extra>\", \"legendgroup\": \"2021\", \"marker\": {\"color\": \"#00cc96\"}, \"name\": \"2021\", \"offsetgroup\": \"2021\", \"orientation\": \"v\", \"showlegend\": false, \"textposition\": \"auto\", \"type\": \"bar\", \"x\": [\"April\", \"August\", \"December\", \"February\", \"January\", \"July\", \"March\", \"May\", \"November\", \"September\"], \"xaxis\": \"x3\", \"y\": [1846333.552, 786870.0, 871740.0, 2593833.995, 3907602.0649999995, 1160580.0, 2137783.552, 913181.395, 710727.0, 289710.0], \"yaxis\": \"y3\"}],                        {\"annotations\": [{\"font\": {}, \"showarrow\": false, \"text\": \"\\u8ca0\\u8cac\\u696d\\u52d9=\\u58a8\\u6f22\\u96f7\\u8fea\", \"x\": 0.15999999999999998, \"xanchor\": \"center\", \"xref\": \"paper\", \"y\": 1.0, \"yanchor\": \"bottom\", \"yref\": \"paper\"}, {\"font\": {}, \"showarrow\": false, \"text\": \"\\u8ca0\\u8cac\\u696d\\u52d9=\\u6c88\\u601d\\u660e\", \"x\": 0.49999999999999994, \"xanchor\": \"center\", \"xref\": \"paper\", \"y\": 1.0, \"yanchor\": \"bottom\", \"yref\": \"paper\"}, {\"font\": {}, \"showarrow\": false, \"text\": \"\\u8ca0\\u8cac\\u696d\\u52d9=\\u8a31\\u51f1\\u667a\", \"x\": 0.8399999999999999, \"xanchor\": \"center\", \"xref\": \"paper\", \"y\": 1.0, \"yanchor\": \"bottom\", \"yref\": \"paper\"}], \"barmode\": \"group\", \"legend\": {\"title\": {\"text\": \"\\u9810\\u4ea4\\u5e74\\u4efd\"}, \"tracegroupgap\": 0}, \"margin\": {\"t\": 60}, \"template\": {\"data\": {\"bar\": [{\"error_x\": {\"color\": \"#2a3f5f\"}, \"error_y\": {\"color\": \"#2a3f5f\"}, \"marker\": {\"line\": {\"color\": \"#E5ECF6\", \"width\": 0.5}}, \"type\": \"bar\"}], \"barpolar\": [{\"marker\": {\"line\": {\"color\": \"#E5ECF6\", \"width\": 0.5}}, \"type\": \"barpolar\"}], \"carpet\": [{\"aaxis\": {\"endlinecolor\": \"#2a3f5f\", \"gridcolor\": \"white\", \"linecolor\": \"white\", \"minorgridcolor\": \"white\", \"startlinecolor\": \"#2a3f5f\"}, \"baxis\": {\"endlinecolor\": \"#2a3f5f\", \"gridcolor\": \"white\", \"linecolor\": \"white\", \"minorgridcolor\": \"white\", \"startlinecolor\": \"#2a3f5f\"}, \"type\": \"carpet\"}], \"choropleth\": [{\"colorbar\": {\"outlinewidth\": 0, \"ticks\": \"\"}, \"type\": \"choropleth\"}], \"contour\": [{\"colorbar\": {\"outlinewidth\": 0, \"ticks\": \"\"}, \"colorscale\": [[0.0, \"#0d0887\"], [0.1111111111111111, \"#46039f\"], [0.2222222222222222, \"#7201a8\"], [0.3333333333333333, \"#9c179e\"], [0.4444444444444444, \"#bd3786\"], [0.5555555555555556, \"#d8576b\"], [0.6666666666666666, \"#ed7953\"], [0.7777777777777778, \"#fb9f3a\"], [0.8888888888888888, \"#fdca26\"], [1.0, \"#f0f921\"]], \"type\": \"contour\"}], \"contourcarpet\": [{\"colorbar\": {\"outlinewidth\": 0, \"ticks\": \"\"}, \"type\": \"contourcarpet\"}], \"heatmap\": [{\"colorbar\": {\"outlinewidth\": 0, \"ticks\": \"\"}, \"colorscale\": [[0.0, \"#0d0887\"], [0.1111111111111111, \"#46039f\"], [0.2222222222222222, \"#7201a8\"], [0.3333333333333333, \"#9c179e\"], [0.4444444444444444, \"#bd3786\"], [0.5555555555555556, \"#d8576b\"], [0.6666666666666666, \"#ed7953\"], [0.7777777777777778, \"#fb9f3a\"], [0.8888888888888888, \"#fdca26\"], [1.0, \"#f0f921\"]], \"type\": \"heatmap\"}], \"heatmapgl\": [{\"colorbar\": {\"outlinewidth\": 0, \"ticks\": \"\"}, \"colorscale\": [[0.0, \"#0d0887\"], [0.1111111111111111, \"#46039f\"], [0.2222222222222222, \"#7201a8\"], [0.3333333333333333, \"#9c179e\"], [0.4444444444444444, \"#bd3786\"], [0.5555555555555556, \"#d8576b\"], [0.6666666666666666, \"#ed7953\"], [0.7777777777777778, \"#fb9f3a\"], [0.8888888888888888, \"#fdca26\"], [1.0, \"#f0f921\"]], \"type\": \"heatmapgl\"}], \"histogram\": [{\"marker\": {\"colorbar\": {\"outlinewidth\": 0, \"ticks\": \"\"}}, \"type\": \"histogram\"}], \"histogram2d\": [{\"colorbar\": {\"outlinewidth\": 0, \"ticks\": \"\"}, \"colorscale\": [[0.0, \"#0d0887\"], [0.1111111111111111, \"#46039f\"], [0.2222222222222222, \"#7201a8\"], [0.3333333333333333, \"#9c179e\"], [0.4444444444444444, \"#bd3786\"], [0.5555555555555556, \"#d8576b\"], [0.6666666666666666, \"#ed7953\"], [0.7777777777777778, \"#fb9f3a\"], [0.8888888888888888, \"#fdca26\"], [1.0, \"#f0f921\"]], \"type\": \"histogram2d\"}], \"histogram2dcontour\": [{\"colorbar\": {\"outlinewidth\": 0, \"ticks\": \"\"}, \"colorscale\": [[0.0, \"#0d0887\"], [0.1111111111111111, \"#46039f\"], [0.2222222222222222, \"#7201a8\"], [0.3333333333333333, \"#9c179e\"], [0.4444444444444444, \"#bd3786\"], [0.5555555555555556, \"#d8576b\"], [0.6666666666666666, \"#ed7953\"], [0.7777777777777778, \"#fb9f3a\"], [0.8888888888888888, \"#fdca26\"], [1.0, \"#f0f921\"]], \"type\": \"histogram2dcontour\"}], \"mesh3d\": [{\"colorbar\": {\"outlinewidth\": 0, \"ticks\": \"\"}, \"type\": \"mesh3d\"}], \"parcoords\": [{\"line\": {\"colorbar\": {\"outlinewidth\": 0, \"ticks\": \"\"}}, \"type\": \"parcoords\"}], \"pie\": [{\"automargin\": true, \"type\": \"pie\"}], \"scatter\": [{\"marker\": {\"colorbar\": {\"outlinewidth\": 0, \"ticks\": \"\"}}, \"type\": \"scatter\"}], \"scatter3d\": [{\"line\": {\"colorbar\": {\"outlinewidth\": 0, \"ticks\": \"\"}}, \"marker\": {\"colorbar\": {\"outlinewidth\": 0, \"ticks\": \"\"}}, \"type\": \"scatter3d\"}], \"scattercarpet\": [{\"marker\": {\"colorbar\": {\"outlinewidth\": 0, \"ticks\": \"\"}}, \"type\": \"scattercarpet\"}], \"scattergeo\": [{\"marker\": {\"colorbar\": {\"outlinewidth\": 0, \"ticks\": \"\"}}, \"type\": \"scattergeo\"}], \"scattergl\": [{\"marker\": {\"colorbar\": {\"outlinewidth\": 0, \"ticks\": \"\"}}, \"type\": \"scattergl\"}], \"scattermapbox\": [{\"marker\": {\"colorbar\": {\"outlinewidth\": 0, \"ticks\": \"\"}}, \"type\": \"scattermapbox\"}], \"scatterpolar\": [{\"marker\": {\"colorbar\": {\"outlinewidth\": 0, \"ticks\": \"\"}}, \"type\": \"scatterpolar\"}], \"scatterpolargl\": [{\"marker\": {\"colorbar\": {\"outlinewidth\": 0, \"ticks\": \"\"}}, \"type\": \"scatterpolargl\"}], \"scatterternary\": [{\"marker\": {\"colorbar\": {\"outlinewidth\": 0, \"ticks\": \"\"}}, \"type\": \"scatterternary\"}], \"surface\": [{\"colorbar\": {\"outlinewidth\": 0, \"ticks\": \"\"}, \"colorscale\": [[0.0, \"#0d0887\"], [0.1111111111111111, \"#46039f\"], [0.2222222222222222, \"#7201a8\"], [0.3333333333333333, \"#9c179e\"], [0.4444444444444444, \"#bd3786\"], [0.5555555555555556, \"#d8576b\"], [0.6666666666666666, \"#ed7953\"], [0.7777777777777778, \"#fb9f3a\"], [0.8888888888888888, \"#fdca26\"], [1.0, \"#f0f921\"]], \"type\": \"surface\"}], \"table\": [{\"cells\": {\"fill\": {\"color\": \"#EBF0F8\"}, \"line\": {\"color\": \"white\"}}, \"header\": {\"fill\": {\"color\": \"#C8D4E3\"}, \"line\": {\"color\": \"white\"}}, \"type\": \"table\"}]}, \"layout\": {\"annotationdefaults\": {\"arrowcolor\": \"#2a3f5f\", \"arrowhead\": 0, \"arrowwidth\": 1}, \"coloraxis\": {\"colorbar\": {\"outlinewidth\": 0, \"ticks\": \"\"}}, \"colorscale\": {\"diverging\": [[0, \"#8e0152\"], [0.1, \"#c51b7d\"], [0.2, \"#de77ae\"], [0.3, \"#f1b6da\"], [0.4, \"#fde0ef\"], [0.5, \"#f7f7f7\"], [0.6, \"#e6f5d0\"], [0.7, \"#b8e186\"], [0.8, \"#7fbc41\"], [0.9, \"#4d9221\"], [1, \"#276419\"]], \"sequential\": [[0.0, \"#0d0887\"], [0.1111111111111111, \"#46039f\"], [0.2222222222222222, \"#7201a8\"], [0.3333333333333333, \"#9c179e\"], [0.4444444444444444, \"#bd3786\"], [0.5555555555555556, \"#d8576b\"], [0.6666666666666666, \"#ed7953\"], [0.7777777777777778, \"#fb9f3a\"], [0.8888888888888888, \"#fdca26\"], [1.0, \"#f0f921\"]], \"sequentialminus\": [[0.0, \"#0d0887\"], [0.1111111111111111, \"#46039f\"], [0.2222222222222222, \"#7201a8\"], [0.3333333333333333, \"#9c179e\"], [0.4444444444444444, \"#bd3786\"], [0.5555555555555556, \"#d8576b\"], [0.6666666666666666, \"#ed7953\"], [0.7777777777777778, \"#fb9f3a\"], [0.8888888888888888, \"#fdca26\"], [1.0, \"#f0f921\"]]}, \"colorway\": [\"#636efa\", \"#EF553B\", \"#00cc96\", \"#ab63fa\", \"#FFA15A\", \"#19d3f3\", \"#FF6692\", \"#B6E880\", \"#FF97FF\", \"#FECB52\"], \"font\": {\"color\": \"#2a3f5f\"}, \"geo\": {\"bgcolor\": \"white\", \"lakecolor\": \"white\", \"landcolor\": \"#E5ECF6\", \"showlakes\": true, \"showland\": true, \"subunitcolor\": \"white\"}, \"hoverlabel\": {\"align\": \"left\"}, \"hovermode\": \"closest\", \"mapbox\": {\"style\": \"light\"}, \"paper_bgcolor\": \"white\", \"plot_bgcolor\": \"#E5ECF6\", \"polar\": {\"angularaxis\": {\"gridcolor\": \"white\", \"linecolor\": \"white\", \"ticks\": \"\"}, \"bgcolor\": \"#E5ECF6\", \"radialaxis\": {\"gridcolor\": \"white\", \"linecolor\": \"white\", \"ticks\": \"\"}}, \"scene\": {\"xaxis\": {\"backgroundcolor\": \"#E5ECF6\", \"gridcolor\": \"white\", \"gridwidth\": 2, \"linecolor\": \"white\", \"showbackground\": true, \"ticks\": \"\", \"zerolinecolor\": \"white\"}, \"yaxis\": {\"backgroundcolor\": \"#E5ECF6\", \"gridcolor\": \"white\", \"gridwidth\": 2, \"linecolor\": \"white\", \"showbackground\": true, \"ticks\": \"\", \"zerolinecolor\": \"white\"}, \"zaxis\": {\"backgroundcolor\": \"#E5ECF6\", \"gridcolor\": \"white\", \"gridwidth\": 2, \"linecolor\": \"white\", \"showbackground\": true, \"ticks\": \"\", \"zerolinecolor\": \"white\"}}, \"shapedefaults\": {\"line\": {\"color\": \"#2a3f5f\"}}, \"ternary\": {\"aaxis\": {\"gridcolor\": \"white\", \"linecolor\": \"white\", \"ticks\": \"\"}, \"baxis\": {\"gridcolor\": \"white\", \"linecolor\": \"white\", \"ticks\": \"\"}, \"bgcolor\": \"#E5ECF6\", \"caxis\": {\"gridcolor\": \"white\", \"linecolor\": \"white\", \"ticks\": \"\"}}, \"title\": {\"x\": 0.05}, \"xaxis\": {\"automargin\": true, \"gridcolor\": \"white\", \"linecolor\": \"white\", \"ticks\": \"\", \"title\": {\"standoff\": 15}, \"zerolinecolor\": \"white\", \"zerolinewidth\": 2}, \"yaxis\": {\"automargin\": true, \"gridcolor\": \"white\", \"linecolor\": \"white\", \"ticks\": \"\", \"title\": {\"standoff\": 15}, \"zerolinecolor\": \"white\", \"zerolinewidth\": 2}}}, \"xaxis\": {\"anchor\": \"y\", \"categoryarray\": [\"January\", \"February\", \"March\", \"April\", \"May\", \"June\", \"July\", \"August\", \"September\", \"October\", \"November\", \"December\"], \"categoryorder\": \"array\", \"domain\": [0.0, 0.31999999999999995], \"title\": {\"text\": \"\\u9810\\u4ea4\\u6708\\u4efd\"}}, \"xaxis2\": {\"anchor\": \"y2\", \"categoryarray\": [\"January\", \"February\", \"March\", \"April\", \"May\", \"June\", \"July\", \"August\", \"September\", \"October\", \"November\", \"December\"], \"categoryorder\": \"array\", \"domain\": [0.33999999999999997, 0.6599999999999999], \"matches\": \"x\", \"title\": {\"text\": \"\\u9810\\u4ea4\\u6708\\u4efd\"}}, \"xaxis3\": {\"anchor\": \"y3\", \"categoryarray\": [\"January\", \"February\", \"March\", \"April\", \"May\", \"June\", \"July\", \"August\", \"September\", \"October\", \"November\", \"December\"], \"categoryorder\": \"array\", \"domain\": [0.6799999999999999, 0.9999999999999999], \"matches\": \"x\", \"title\": {\"text\": \"\\u9810\\u4ea4\\u6708\\u4efd\"}}, \"yaxis\": {\"anchor\": \"x\", \"domain\": [0.0, 1.0], \"title\": {\"text\": \"\\u672c\\u570b\\u5e63\\u5225NTD\"}}, \"yaxis2\": {\"anchor\": \"x2\", \"domain\": [0.0, 1.0], \"matches\": \"y\", \"showticklabels\": false}, \"yaxis3\": {\"anchor\": \"x3\", \"domain\": [0.0, 1.0], \"matches\": \"y\", \"showticklabels\": false}},                        {\"responsive\": true}                    ).then(function(){\n",
       "                            \n",
       "var gd = document.getElementById('8ba1e5dd-865d-40b6-b41d-422cd08b2ac1');\n",
       "var x = new MutationObserver(function (mutations, observer) {{\n",
       "        var display = window.getComputedStyle(gd).display;\n",
       "        if (!display || display === 'none') {{\n",
       "            console.log([gd, 'removed!']);\n",
       "            Plotly.purge(gd);\n",
       "            observer.disconnect();\n",
       "        }}\n",
       "}});\n",
       "\n",
       "// Listen for the removal of the full notebook cells\n",
       "var notebookContainer = gd.closest('#notebook-container');\n",
       "if (notebookContainer) {{\n",
       "    x.observe(notebookContainer, {childList: true});\n",
       "}}\n",
       "\n",
       "// Listen for the clearing of the current output cell\n",
       "var outputEl = gd.closest('.output');\n",
       "if (outputEl) {{\n",
       "    x.observe(outputEl, {childList: true});\n",
       "}}\n",
       "\n",
       "                        })                };                });            </script>        </div>"
      ]
     },
     "metadata": {},
     "output_type": "display_data"
    }
   ],
   "source": [
    "df = test.query('預交年份 == (2020, 2019, 2021)')\n",
    "df = df.groupby(['預交年份', '負責業務', '預交月份'])[['本國幣別NTD']].sum().reset_index()\n",
    "df['預交年份'] = df['預交年份'].astype(str)\n",
    "bar = px.bar(df, x='預交月份', y='本國幣別NTD', color='預交年份', barmode='group',\n",
    "             category_orders={'預交月份':month_order}, facet_col='負責業務'\n",
    "            )\n",
    "bar.show()"
   ]
  },
  {
   "cell_type": "markdown",
   "metadata": {},
   "source": [
    "## 將多個figures結合成一份HTML"
   ]
  },
  {
   "cell_type": "code",
   "execution_count": 14,
   "metadata": {},
   "outputs": [],
   "source": [
    "with open('test.html', 'a') as f:\n",
    "    f.write(fig.to_html(full_html=False, include_plotlyjs='cdn'))\n",
    "    f.write(line.to_html(full_html=False, include_plotlyjs='cdn'))\n",
    "    f.write(bar.to_html(full_html=False, include_plotlyjs='cdn'))\n",
    "    f.close()"
   ]
  },
  {
   "cell_type": "code",
   "execution_count": null,
   "metadata": {},
   "outputs": [],
   "source": []
  },
  {
   "cell_type": "code",
   "execution_count": null,
   "metadata": {},
   "outputs": [],
   "source": []
  }
 ],
 "metadata": {
  "kernelspec": {
   "display_name": "Python 3",
   "language": "python",
   "name": "python3"
  },
  "language_info": {
   "codemirror_mode": {
    "name": "ipython",
    "version": 3
   },
   "file_extension": ".py",
   "mimetype": "text/x-python",
   "name": "python",
   "nbconvert_exporter": "python",
   "pygments_lexer": "ipython3",
   "version": "3.8.5"
  }
 },
 "nbformat": 4,
 "nbformat_minor": 4
}
