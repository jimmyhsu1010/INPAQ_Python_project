{
 "cells": [
  {
   "cell_type": "code",
   "execution_count": null,
   "metadata": {},
   "outputs": [],
   "source": [
    "import time\n",
    "import pandas as pd\n",
    "import tkinter as tk\n",
    "from tkinter import filedialog\n",
    "pd.set_option('display.max_rows', 10)\n",
    "pd.set_option('display.max_columns', None)\n",
    "pd.set_option('display.float_format', lambda x: '%.0f' % x)"
   ]
  },
  {
   "cell_type": "markdown",
   "metadata": {},
   "source": [
    "## 使用Tkinter選取檔案"
   ]
  },
  {
   "cell_type": "code",
   "execution_count": null,
   "metadata": {},
   "outputs": [],
   "source": [
    "def get_file_path():\n",
    "    root = tk.Tk()\n",
    "    root.withdraw()\n",
    "    file_path = filedialog.askdirectory() #取得檔案夾路徑\n",
    "#     file_name = file_path.split('/')[-1].split('.')[0] #取得檔案名稱\n",
    "    return file_path"
   ]
  },
  {
   "cell_type": "code",
   "execution_count": null,
   "metadata": {},
   "outputs": [],
   "source": [
    "def get_file_paths():\n",
    "    root = tk.Tk()\n",
    "    root.withdraw()\n",
    "    file_paths = filedialog.askopenfilenames() #取得所有檔案路徑\n",
    "#     file_name = file_path.split('/')[-1].split('.')[0] #取得檔案名稱\n",
    "#     return file_path, file_name\n",
    "    file_paths = list(file_paths)\n",
    "    return file_paths"
   ]
  },
  {
   "cell_type": "markdown",
   "metadata": {},
   "source": [
    "## Function寫作"
   ]
  },
  {
   "cell_type": "code",
   "execution_count": null,
   "metadata": {},
   "outputs": [],
   "source": [
    "# data_list丟入取得所有檔案路徑的字典\n",
    "def display(data_list):\n",
    "    data_dict = {}\n",
    "    for i in data_list:\n",
    "        print(data_list.index(i)+1, i.split('/')[-1].split('.')[0])\n",
    "        data_dict.setdefault(data_list.index(i)+1, i)\n",
    "    return data_dict"
   ]
  },
  {
   "cell_type": "code",
   "execution_count": null,
   "metadata": {},
   "outputs": [],
   "source": [
    "# sltd_file丟入選擇的檔案編號\n",
    "def file_info(sltd_file, y):\n",
    "    file_path = y[sltd_file]\n",
    "    file_name = y[sltd_file].split('/')[-1].split('.')[0] + '已修改.xlsx'\n",
    "    return file_path, file_name"
   ]
  },
  {
   "cell_type": "code",
   "execution_count": null,
   "metadata": {},
   "outputs": [],
   "source": [
    "def change_name(data):\n",
    "    if data in ['周彥宏', '楊婉芬']:\n",
    "        return '許凱智'\n",
    "    else:\n",
    "        return data"
   ]
  },
  {
   "cell_type": "markdown",
   "metadata": {},
   "source": [
    "## 三廠資料處理Function"
   ]
  },
  {
   "cell_type": "code",
   "execution_count": null,
   "metadata": {},
   "outputs": [],
   "source": [
    "df = pd.read_excel(r\"C:\\Users\\kaihsu\\Desktop\\業績總表\\訂單出貨明細_axmr4301_2019.xlsx\")"
   ]
  },
  {
   "cell_type": "code",
   "execution_count": null,
   "metadata": {},
   "outputs": [],
   "source": [
    "df.columns = df.columns.str.strip()"
   ]
  },
  {
   "cell_type": "code",
   "execution_count": null,
   "metadata": {
    "scrolled": false
   },
   "outputs": [],
   "source": [
    "df['開單日期']"
   ]
  },
  {
   "cell_type": "code",
   "execution_count": null,
   "metadata": {},
   "outputs": [],
   "source": [
    "df['開單日期'] = pd.to_datetime(df['開單日期'], yearfirst=True, unit='D')\n",
    "df['預交日期'] = pd.to_datetime(df['預交日期'], yearfirst=True, unit='D')\n",
    "df['客戶希交日'] = pd.to_datetime(df['客戶希交日'], yearfirst=True, errors='coerce', unit='D')\n",
    "df['交期變更'] = pd.to_datetime(df['交期變更'], yearfirst=True, errors='coerce', unit='D')"
   ]
  },
  {
   "cell_type": "code",
   "execution_count": null,
   "metadata": {},
   "outputs": [],
   "source": [
    "keep_columns = ['狀態', '銷售單號', '月份', '開單日期', '預交日期', '交期變更', '客戶名稱', '負責業務', '交貨方式', '產品分類', '品名', '幣別', '數量', '單位',\n",
    "                    '單價', '集團匯率(NTD)', '金額*集團匯率(NTD)', '客戶料號', '客戶希交日', 'Term']\n",
    "df = df[keep_columns]\n",
    "# columns_strip = ['狀態', '銷售單號', '客戶名稱', '負責業務', '交貨方式',\n",
    "#                      '產品分類', '品名', '幣別', '單位', '客戶料號',\n",
    "#                      'Term']\n",
    "# df_strip = df[columns_strip]\n",
    "# df_strip = df_strip.applymap(lambda x: x.strip())\n",
    "# df = pd.concat([df_strip, df_keep], axis=1)\n",
    "\n",
    "df_unit_change = df[df['單位'] == 'KPCS']\n",
    "df_keep_unit = df[~(df['單位'] == 'KPCS')]\n",
    "\n",
    "df_unit_change['數量'] = df_unit_change['數量'].map(lambda x: x * 1000)\n",
    "df_unit_change['單價'] = df_unit_change['單價'].map(lambda x: x / 1000)\n",
    "df_unit_change['單位'] = df_unit_change['單位'].str.replace('KPCS', 'PCS')\n",
    "\n",
    "df = pd.concat([df_unit_change, df_keep_unit], axis=0)"
   ]
  },
  {
   "cell_type": "code",
   "execution_count": null,
   "metadata": {},
   "outputs": [],
   "source": [
    "append_dict = {0: 'Category', 1: 'BG', 2: 'Subcategory', 3: 'Group', 4: '預交年份', 5: '預交月份', }\n",
    "for k, v in append_dict.items():\n",
    "    df.insert(k, v, value=None)\n",
    "\n",
    "df = df.drop('單位', axis=1)\n",
    "\n",
    "columns = ['Category', 'BG', 'Subcategory', 'Group', '狀態', '銷售單號', '月份', '開單日期', '預交日期', '預交年份', '預交月份', '交期變更',\n",
    "           '客戶名稱', '負責業務', '交貨方式', '產品分類', '品名', '幣別', '數量', '單價', '集團匯率(NTD)', '金額*集團匯率(NTD)', '客戶料號', '客戶希交日', 'Term']\n",
    "result = df.reindex(columns=columns)"
   ]
  },
  {
   "cell_type": "code",
   "execution_count": null,
   "metadata": {},
   "outputs": [],
   "source": [
    "result['Category'] = result['產品分類'].str.strip().str[0:4]"
   ]
  },
  {
   "cell_type": "code",
   "execution_count": null,
   "metadata": {},
   "outputs": [],
   "source": [
    "result"
   ]
  },
  {
   "cell_type": "code",
   "execution_count": null,
   "metadata": {},
   "outputs": [],
   "source": [
    "result['BG'] = result['Category'].map(bu_code)"
   ]
  },
  {
   "cell_type": "code",
   "execution_count": null,
   "metadata": {
    "scrolled": false
   },
   "outputs": [],
   "source": [
    "result['Group'] = result.apply(lambda x: cus_code[x['客戶名稱']] if x['客戶名稱'] in cus_code.keys() else x['客戶名稱'], axis=1)"
   ]
  },
  {
   "cell_type": "code",
   "execution_count": null,
   "metadata": {},
   "outputs": [],
   "source": [
    "result['負責業務'] = result['負責業務'].map(lambda x: '許凱智' if x == '楊婉芬' or x == '周彥宏' else x)"
   ]
  },
  {
   "cell_type": "code",
   "execution_count": null,
   "metadata": {},
   "outputs": [],
   "source": [
    "result = result[result['負責業務'].isin(['鄭里緗', '許凱智', '墨漢雷迪'])]"
   ]
  },
  {
   "cell_type": "code",
   "execution_count": null,
   "metadata": {},
   "outputs": [],
   "source": [
    "result['預交年份'] = result['預交日期'].dt.year\n",
    "result['預交月份'] = result['預交日期'].dt.month_name()"
   ]
  },
  {
   "cell_type": "code",
   "execution_count": null,
   "metadata": {},
   "outputs": [],
   "source": [
    "result.columns = ['Category', 'BG', 'Subcategory', 'Group', '狀態', '銷售單號', '月份', '開單日期',\n",
    "       '預交日期', '預交年份', '預交月份', '交期變更', '客戶名稱', '負責業務', '交貨方式', '產品分類', '品名',\n",
    "       '幣別', '數量', '單價', '匯率', '本國幣別NTD', '客戶料號', '客戶希交日', 'Term']"
   ]
  },
  {
   "cell_type": "code",
   "execution_count": null,
   "metadata": {},
   "outputs": [],
   "source": [
    "result['數量'] = result['數量'].astype(int)\n",
    "result['本國幣別NTD'] = result['本國幣別NTD'].astype(int)"
   ]
  },
  {
   "cell_type": "code",
   "execution_count": null,
   "metadata": {
    "scrolled": true
   },
   "outputs": [],
   "source": [
    "result"
   ]
  },
  {
   "cell_type": "code",
   "execution_count": null,
   "metadata": {
    "scrolled": true
   },
   "outputs": [],
   "source": [
    "code = pd.read_excel(r\"C:\\Users\\kaihsu\\Desktop\\BU_code.xlsx\")"
   ]
  },
  {
   "cell_type": "code",
   "execution_count": null,
   "metadata": {},
   "outputs": [],
   "source": [
    "bu_code = dict(zip(code.Code, code.BG))\n",
    "cus_code = dict(zip(code.Cus, code.Group))"
   ]
  },
  {
   "cell_type": "code",
   "execution_count": null,
   "metadata": {},
   "outputs": [],
   "source": [
    "def zhunan_component_processing(file_path, file_name, export_path):\n",
    "    code = pd.read_excel(\"BU_code.xlsx\")\n",
    "    bu_code = dict(zip(code.Code, code.BG))\n",
    "    cus_code = dict(zip(code.Cus, code.Group))\n",
    "    df = pd.read_excel(file_path)\n",
    "    #     df.keys()\n",
    "    #     df = df['axmr4301']\n",
    "    #     columns = df.iloc[0,:].tolist()\n",
    "    #     df.columns = columns\n",
    "    #     df = df.drop(0, axis=0) #去掉最上面沒有用的row\n",
    "    df.columns = df.columns.str.strip()  # 去掉欄位名稱的空白\n",
    "\n",
    "    df['開單日期'] = pd.to_datetime(df['開單日期'], yearfirst=True, unit='D')\n",
    "    df['預交日期'] = pd.to_datetime(df['預交日期'], yearfirst=True, unit='D')\n",
    "    df['客戶希交日'] = pd.to_datetime(df['客戶希交日'], yearfirst=True, errors='coerce', unit='D')\n",
    "    df['交期變更'] = pd.to_datetime(df['交期變更'], yearfirst=True, errors='coerce', unit='D')\n",
    "    keep_columns = ['狀態', '銷售單號', '月份', '開單日期', '預交日期', '交期變更', '客戶名稱', '負責業務', '交貨方式', '產品分類', '品名', '幣別', '數量', '單位',\n",
    "                    '單價', '匯率', '本國幣別 NTD', '客戶料號', '客戶希交日', 'Term']\n",
    "    df = df[keep_columns]  # 需要留下來的欄位建立新表格\n",
    "\n",
    "    # columns_strip = ['狀態', '銷售單號', '客戶名稱', '負責業務', '交貨方式',\n",
    "    #                  '產品分類', '品名', '幣別', '單位', '客戶料號',\n",
    "    #                  'Term']\n",
    "    # df_strip = df[columns_strip]\n",
    "#     columns_keep = ['開單日期', '預交日期', '交期變更', '月份', '數量', '單價', '匯率', '本國幣別 NTD', '客戶希交日']\n",
    "#     df_keep = df[columns_keep]\n",
    "#     df_strip = df_strip.applymap(lambda x: x.strip())\n",
    "#     df = pd.concat([df_strip, df_keep], axis=1)\n",
    "\n",
    "    df_unit_change = df[df['單位'] == 'KPCS']\n",
    "    df_keep_unit = df[~(df['單位'] == 'KPCS')]\n",
    "\n",
    "    df_unit_change['數量'] = df_unit_change['數量'].map(lambda x: x * 1000)\n",
    "    df_unit_change['單價'] = df_unit_change['單價'].map(lambda x: x / 1000)\n",
    "    df_unit_change['單位'] = df_unit_change['單位'].str.replace('KPCS', 'PCS')\n",
    "\n",
    "    df = pd.concat([df_unit_change, df_keep_unit], axis=0)\n",
    "\n",
    "    append_dict = {0: 'Category', 1: 'BG', 2: 'Subcategory', 3: 'Group', 4: '預交年份', 5: '預交月份', }\n",
    "    for k, v in append_dict.items():\n",
    "        df.insert(k, v, value=None)\n",
    "\n",
    "    df = df.drop('單位', axis=1)\n",
    "\n",
    "    columns = ['Category', 'BG', 'Subcategory', 'Group', '狀態', '銷售單號', '月份', '開單日期', '預交日期', '預交年份', '預交月份', '交期變更',\n",
    "           '客戶名稱', '負責業務', '交貨方式', '產品分類', '品名', '幣別', '數量', '單價', '集團匯率(NTD)', '金額*集團匯率(NTD)', '客戶料號', '客戶希交日', 'Term']\n",
    "    result = df.reindex(columns=columns)\n",
    "    result['Category'] = result['產品分類'].map(lambda x: x[0:4])\n",
    "    result['BG'] = result['Category'].map(bu_code)\n",
    "    result['Group'] = result['客戶名稱'].map(cus_code)\n",
    "    result['負責業務'] = result['負責業務'].map(lambda x: '鄭里緗' if x == '沈思明' else x)\n",
    "    result = result[result['負責業務'].isin(['鄭里緗', '許凱智', '墨漢雷迪'])]\n",
    "    result['預交年份'] = result['預交日期'].dt.year\n",
    "    result['預交月份'] = result['預交日期'].dt.month_name()\n",
    "    result.columns = ['Category', 'BG', 'Subcategory', 'Group', '狀態', '銷售單號', '月份', '開單日期',\n",
    "       '預交日期', '預交年份', '預交月份', '交期變更', '客戶名稱', '負責業務', '交貨方式', '產品分類', '品名',\n",
    "       '幣別', '數量', '單價', '匯率', '本國幣別NTD', '客戶料號', '客戶希交日', 'Term']\n",
    "    result['數量'] = result['數量'].astype(int)\n",
    "    result['本國幣別NTD'] = result['本國幣別NTD'].astype(int)\n",
    "    # print('請選擇輸出資料夾')\n",
    "    # export_path = get_file_path()\n",
    "    # export_file_name = 'C:\\\\Users\\\\kaihsu\\\\Desktop\\\\業績總表\\\\' + file_name # PC使用\n",
    "    export_file_name = export_path + '/' + file_name  # Mac使用\n",
    "    result.to_excel(export_file_name, index=False)"
   ]
  },
  {
   "cell_type": "code",
   "execution_count": null,
   "metadata": {},
   "outputs": [],
   "source": [
    "def antenna_processing(file_path, file_name, export_path):\n",
    "    code = pd.read_excel(\"BU_code.xlsx\")\n",
    "    bu_code = dict(zip(code.Code, code.BG))\n",
    "    cus_code = dict(zip(code.Cus, code.Group))\n",
    "    df = pd.read_excel(file_path, header=1)\n",
    "    #     df.keys()\n",
    "    #     df = df['axmr4301']\n",
    "    #     columns = df.iloc[0,:].tolist()\n",
    "    #     df.columns = columns\n",
    "    #     df = df.drop(0, axis=0) #去掉最上面沒有用的row\n",
    "    df.columns = df.columns.str.strip()  # 去掉欄位名稱的空白\n",
    "    # df = df.drop(df.columns[-3:], axis=1)\n",
    "\n",
    "    # df['開單日期'] = pd.to_datetime(df['開單日期'], yearfirst=True, unit='D')\n",
    "    # df['預交日期'] = pd.to_datetime(df['預交日期'], yearfirst=True, unit='D')\n",
    "    # df['客戶希交日'] = pd.to_datetime(df['客戶希交日'], yearfirst=True, errors='coerce', unit='D')\n",
    "    # df['交期變更'] = pd.to_datetime(df['交期變更'], yearfirst=True, errors='coerce', unit='D')\n",
    "    keep_columns = ['狀態', '銷售單號', '月份', '開單日期', '預交日期', '交期變更', '客戶名稱', '負責業務', '交貨方式', '產品分類', '品名', '幣別', '數量', '單位',\n",
    "                    '單價', '集團匯率(NTD)', '金額*集團匯率(NTD)', '客戶料號', '客戶希交日', 'Term']\n",
    "    df = df[keep_columns]  # 需要留下來的欄位建立新表格\n",
    "\n",
    "    # columns_strip = ['狀態', '銷售單號', '客戶名稱', '負責業務', '交貨方式',\n",
    "    #                  '產品分類', '品名', '幣別', '單位', '客戶料號',\n",
    "    #                  'Term']\n",
    "    # df_strip = df[columns_strip]\n",
    "    # columns_keep = ['開單日期', '預交日期', '交期變更', '月份', '數量', '單價', '匯率', '本國幣別 NTD', '客戶希交日']\n",
    "    # df_keep = df[columns_keep]\n",
    "    # df_strip = df_strip.applymap(lambda x: x.strip())\n",
    "    # df_strip['負責業務'] = df_strip['負責業務'].apply(change_name)\n",
    "    # df = pd.concat([df_strip, df_keep], axis=1)\n",
    "    # df = df[(df['負責業務'].str.contains('許凱智|墨漢雷迪|楊婉芬|沈思明|周彥宏'))].reset_index()\n",
    "\n",
    "    df_unit_change = df[df['單位'] == 'KPCS']\n",
    "    df_keep_unit = df[~(df['單位'] == 'KPCS')]\n",
    "\n",
    "    df_unit_change['數量'] = df_unit_change['數量'].map(lambda x: x * 1000)\n",
    "    df_unit_change['單價'] = df_unit_change['單價'].map(lambda x: x / 1000)\n",
    "    df_unit_change['單位'] = df_unit_change['單位'].str.replace('KPCS', 'PCS')\n",
    "\n",
    "    df = pd.concat([df_unit_change, df_keep_unit], axis=0)\n",
    "\n",
    "    append_dict = {0: 'Category', 1: 'BG', 2: 'Subcategory', 3: 'Group', 4: '預交年份', 5: '預交月份', }\n",
    "    for k, v in append_dict.items():\n",
    "        df.insert(k, v, value=None)\n",
    "\n",
    "    df = df.drop('單位', axis=1)\n",
    "\n",
    "    columns = ['Category', 'BG', 'Subcategory', 'Group', '狀態', '銷售單號', '月份', '開單日期', '預交日期', '預交年份', '預交月份', '交期變更',\n",
    "               '客戶名稱', '負責業務', '交貨方式', '產品分類', '品名', '幣別', '數量', '單價', '集團匯率(NTD)', '金額*集團匯率(NTD)', '客戶料號', '客戶希交日',\n",
    "               'Term']\n",
    "    result = df.reindex(columns=columns)\n",
    "    result['Category'] = result['產品分類'].map(lambda x: x[0:4])\n",
    "    result['BG'] = result['Category'].map(bu_code)\n",
    "    result['Group'] = result.apply(lambda x: cus_code[x['客戶名稱']] if x['客戶名稱'] in cus_code.keys() else x['客戶名稱'], axis=1)\n",
    "    result['負責業務'] = result['負責業務'].map(lambda x: '許凱智' if x == '楊婉芬' or x == '周彥宏' else x)\n",
    "    result = result[result['負責業務'].isin(['鄭里緗', '許凱智', '墨漢雷迪'])]\n",
    "    result['預交年份'] = result['預交日期'].dt.year\n",
    "    result['預交月份'] = result['預交日期'].dt.month_name()\n",
    "    result.columns = ['Category', 'BG', 'Subcategory', 'Group', '狀態', '銷售單號', '月份', '開單日期',\n",
    "                      '預交日期', '預交年份', '預交月份', '交期變更', '客戶名稱', '負責業務', '交貨方式', '產品分類', '品名',\n",
    "                      '幣別', '數量', '單價', '匯率', '本國幣別NTD', '客戶料號', '客戶希交日', 'Term']\n",
    "    result['數量'] = result['數量'].astype(int)\n",
    "    result['本國幣別NTD'] = result['本國幣別NTD'].astype(int)\n",
    "    # print('請選擇輸出資料夾')\n",
    "    # export_path = get_file_path()\n",
    "    # export_file_name = 'C:\\\\Users\\\\kaihsu\\\\Desktop\\\\業績總表\\\\' + file_name\n",
    "    export_file_name = export_path + '/' + file_name  # Mac使用\n",
    "    result.to_excel(export_file_name, index=False)"
   ]
  },
  {
   "cell_type": "markdown",
   "metadata": {},
   "source": [
    "## 一次處理所有檔案"
   ]
  },
  {
   "cell_type": "code",
   "execution_count": null,
   "metadata": {},
   "outputs": [],
   "source": [
    "'''一次整理所有的檔案'''\n",
    "\n",
    "def preprocessing_data():\n",
    "    print('Please select the files from the folder to extract!')\n",
    "    file_paths = get_file_paths()\n",
    "    y = display(file_paths)\n",
    "    a, b, c = map(int, input('Please input numbers to decide the processing order and press \"Enter\": (Component, RF)\\n Example: 3 2 1\\n\\n').split())\n",
    "    preprocessing_order = [a, b, c]\n",
    "    print('Please select the folder to export the files.')\n",
    "    export_path = get_file_path()\n",
    "    for file in preprocessing_order:\n",
    "        if preprocessing_order.index(file) == 1 or preprocessing_order.index(file) == 2:\n",
    "            file_path = y[file]\n",
    "            file_name = y[file].split('/')[-1].split('.')[0] + '_revised.xlsx'\n",
    "            zhunan_component_processing(file_path, file_name, export_path)\n",
    "        else:\n",
    "            file_path = y[file]\n",
    "            file_name = y[file].split('/')[-1].split('.')[0] + '_revised.xlsx'\n",
    "            antenna_processing(file_path, file_name, export_path)"
   ]
  },
  {
   "cell_type": "code",
   "execution_count": null,
   "metadata": {},
   "outputs": [],
   "source": [
    "file_paths = get_file_paths()\n",
    "y = display(file_paths)\n",
    "a, b, c = map(int, input('Please input numbers to decide the processing order and press \"Enter\": (Component, RF)\\n Example: 3 2 1\\n\\n').split())\n",
    "preprocessing_order = [a, b, c]\n",
    "print('Please select the folder to export the files.')\n",
    "export_path = get_file_path()"
   ]
  },
  {
   "cell_type": "code",
   "execution_count": null,
   "metadata": {
    "scrolled": true
   },
   "outputs": [],
   "source": [
    "for file in preprocessing_order:\n",
    "     if preprocessing_order.index(file) == 0 or preprocessing_order.index(file) == 1:\n",
    "        file_path = y[file]\n",
    "        file_name = y[file].split('/')[-1].split('.')[0] + '_revised.xlsx'\n",
    "        zhunan_component_processing(file_path, file_name, export_path)\n",
    "        print(file_path, file_name, export_path)\n",
    "    else:\n",
    "        file_path = y[file]\n",
    "        file_name = y[file].split('/')[-1].split('.')[0] + '_revised.xlsx'\n",
    "        antenna_processing(file_path, file_name, export_path)\n",
    "        print(file_path, file_name, export_path)"
   ]
  },
  {
   "cell_type": "code",
   "execution_count": null,
   "metadata": {},
   "outputs": [],
   "source": [
    "preprocessing_order.index(3)"
   ]
  },
  {
   "cell_type": "code",
   "execution_count": null,
   "metadata": {},
   "outputs": [],
   "source": [
    "'''將所有檔案的資料合併為一個檔案'''\n",
    "def merge_files():\n",
    "    print('Please select the files for combination.')\n",
    "    files = get_file_paths()\n",
    "    n = 1\n",
    "    combine_files = {}\n",
    "    for f in files:\n",
    "        file_name = 'df' + str(n)\n",
    "        combine_files.setdefault(file_name, pd.read_excel(f))\n",
    "        n += 1\n",
    "    final = pd.concat(combine_files)\n",
    "    print('Please select the folder to export')\n",
    "    folder_name = get_file_path()\n",
    "    final.to_excel(folder_name + '/匯總數據_final.xlsx', index=False)\n",
    "    print('Export has been finished.')\n"
   ]
  },
  {
   "cell_type": "code",
   "execution_count": null,
   "metadata": {},
   "outputs": [],
   "source": []
  }
 ],
 "metadata": {
  "kernelspec": {
   "display_name": "Python 3",
   "language": "python",
   "name": "python3"
  },
  "language_info": {
   "codemirror_mode": {
    "name": "ipython",
    "version": 3
   },
   "file_extension": ".py",
   "mimetype": "text/x-python",
   "name": "python",
   "nbconvert_exporter": "python",
   "pygments_lexer": "ipython3",
   "version": "3.8.5"
  }
 },
 "nbformat": 4,
 "nbformat_minor": 4
}
