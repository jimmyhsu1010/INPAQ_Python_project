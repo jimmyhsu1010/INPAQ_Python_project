{
 "cells": [
  {
   "cell_type": "code",
   "execution_count": 1,
   "metadata": {},
   "outputs": [],
   "source": [
    "import pandas as pd\n",
    "import tkinter as tk\n",
    "from tkinter import filedialog\n",
    "pd.set_option('display.max_rows', 15)\n",
    "pd.set_option('display.max_columns', None)\n",
    "pd.set_option('display.float_format', lambda x: '%.2f' % x)"
   ]
  },
  {
   "cell_type": "markdown",
   "metadata": {},
   "source": [
    "## 使用Tkinter選取檔案"
   ]
  },
  {
   "cell_type": "code",
   "execution_count": 4,
   "metadata": {},
   "outputs": [],
   "source": [
    "def get_file_path():\n",
    "    root = tk.Tk()\n",
    "    root.withdraw()\n",
    "    file_path = filedialog.askopenfilename() #取得檔案路徑\n",
    "    return file_path"
   ]
  },
  {
   "cell_type": "markdown",
   "metadata": {},
   "source": [
    "## Function寫作"
   ]
  },
  {
   "cell_type": "code",
   "execution_count": null,
   "metadata": {},
   "outputs": [],
   "source": []
  },
  {
   "cell_type": "code",
   "execution_count": null,
   "metadata": {},
   "outputs": [],
   "source": [
    "# 竹南元件出貨明細表整理\n",
    "def zhunan_component_processing(file_path):\n",
    "    df = pd.read_excel(file_path, None)\n",
    "    df.keys()\n",
    "    df = df['axmr4301']\n",
    "    columns = df.iloc[0,:].tolist()\n",
    "    df.columns = columns\n",
    "    df = df.drop(0, axis=0) #去掉最上面沒有用的row\n",
    "    df.columns = df.columns.str.strip() # 去掉欄位名稱的空白"
   ]
  },
  {
   "cell_type": "markdown",
   "metadata": {},
   "source": [
    "## 開始處理數據"
   ]
  },
  {
   "cell_type": "code",
   "execution_count": null,
   "metadata": {},
   "outputs": [],
   "source": [
    "df = pd.read_excel(file_path, None)\n",
    "df.keys()\n",
    "df = df['axmr4301']\n",
    "columns = df.iloc[0,:].tolist()\n",
    "df.columns = columns"
   ]
  },
  {
   "cell_type": "code",
   "execution_count": null,
   "metadata": {},
   "outputs": [],
   "source": [
    "# 去掉欄位名稱的空白\n",
    "df = df.drop(0, axis=0)\n",
    "df.columns = df.columns.str.strip()\n"
   ]
  },
  {
   "cell_type": "code",
   "execution_count": null,
   "metadata": {},
   "outputs": [],
   "source": [
    "df['開單日期'] = pd.to_datetime(df['開單日期'], yearfirst=True)\n",
    "df['預交日期'] = pd.to_datetime(df['預交日期'], yearfirst=True)\n",
    "df['客戶希交日'] = pd.to_datetime(df['客戶希交日'], yearfirst=True, errors='coerce')\n",
    "df['交期變更'] = pd.to_datetime(df['交期變更'], yearfirst=True, errors='coerce')\n",
    "keep_columns = ['狀態', '銷售單號', '月份', '開單日期', '預交日期', '交期變更', '客戶名稱', '負責業務', '交貨方式', '產品分類', '品名', '幣別', '數量', '單位', '單價', '匯率', '本國幣別 NTD', '客戶料號', '客戶希交日', 'Term']\n",
    "df = df[keep_columns] #需要留下來的欄位建立新錶格"
   ]
  },
  {
   "cell_type": "markdown",
   "metadata": {},
   "source": [
    "## 分成需要去空白和不需要去空白的表格"
   ]
  },
  {
   "cell_type": "code",
   "execution_count": null,
   "metadata": {},
   "outputs": [],
   "source": [
    "columns_strip = ['狀態', '銷售單號', '月份', '客戶名稱', '負責業務', '交貨方式',\n",
    "       '產品分類', '品名', '幣別', '單位', '客戶料號',\n",
    "       'Term']\n",
    "df_strip = df[columns_strip]\n",
    "columns_keep = ['開單日期', '預交日期', '交期變更', '數量', '單價', '匯率', '本國幣別 NTD', '客戶希交日' ]\n",
    "df_keep = df[columns_keep]\n",
    "df_strip = df_strip.applymap(lambda x: x.strip())\n",
    "df = pd.concat([df_strip, df_keep], axis=1)"
   ]
  },
  {
   "cell_type": "markdown",
   "metadata": {},
   "source": [
    "## 變換單位從KPCS到PCS，單價變PCS報價，數量變成PCS單位"
   ]
  },
  {
   "cell_type": "code",
   "execution_count": null,
   "metadata": {},
   "outputs": [],
   "source": [
    "df_unit_change = df[df['單位'] == 'KPCS']\n",
    "df_keep_unit = df[~(df['單位'] == 'KPCS')]\n",
    "\n",
    "df_unit_change['數量'] = df_unit_change['數量'].map(lambda x: x * 1000)\n",
    "df_unit_change['單價'] = df_unit_change['單價'].map(lambda x: x / 1000)\n",
    "df_unit_change['單位'] = df_unit_change['單位'].str.replace('KPCS', 'PCS')\n",
    "\n",
    "df = pd.concat([df_unit_change, df_keep_unit], axis=0)"
   ]
  },
  {
   "cell_type": "markdown",
   "metadata": {},
   "source": [
    "## 增加欄位，建立字典"
   ]
  },
  {
   "cell_type": "code",
   "execution_count": null,
   "metadata": {},
   "outputs": [],
   "source": [
    "append_dict = {0: 'Category', 1:'BG', 2:'Subcategory', 3:'Group', 4:'預交年份', 5:'預交月份',  }\n",
    "for k, v in append_dict.items():\n",
    "    df.insert(k, v, value=None)\n",
    "\n",
    "df = df.drop('單位', axis=1)"
   ]
  },
  {
   "cell_type": "markdown",
   "metadata": {},
   "source": [
    "## 調整欄位順序"
   ]
  },
  {
   "cell_type": "code",
   "execution_count": null,
   "metadata": {},
   "outputs": [],
   "source": [
    "columns = ['Category', 'BG', 'Subcategory', 'Group', '狀態', '銷售單號', '月份', '開單日期', '預交日期', '預交年份', '預交月份', '交期變更', '客戶名稱', '負責業務', '交貨方式', '產品分類', '品名', '幣別', '數量', '單價', '匯率', '本國幣別 NTD', '客戶料號', '客戶希交日', 'Term']\n",
    "result_zhunan_2020 = df.reindex(columns=columns)\n",
    "\n",
    "result_zhunan_2020.to_excel(r'C:\\Users\\kaihsu\\Desktop\\業績總表\\竹南元件2019.xlsx', index=False)"
   ]
  }
 ],
 "metadata": {
  "kernelspec": {
   "display_name": "Python 3",
   "language": "python",
   "name": "python3"
  },
  "language_info": {
   "codemirror_mode": {
    "name": "ipython",
    "version": 3
   },
   "file_extension": ".py",
   "mimetype": "text/x-python",
   "name": "python",
   "nbconvert_exporter": "python",
   "pygments_lexer": "ipython3",
   "version": "3.8.5"
  }
 },
 "nbformat": 4,
 "nbformat_minor": 4
}
