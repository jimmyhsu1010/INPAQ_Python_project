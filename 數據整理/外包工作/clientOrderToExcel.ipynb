{
 "cells": [
  {
   "cell_type": "code",
   "execution_count": null,
   "metadata": {
    "scrolled": false
   },
   "outputs": [],
   "source": [
    "import pandas as pd"
   ]
  },
  {
   "cell_type": "code",
   "execution_count": null,
   "metadata": {},
   "outputs": [],
   "source": [
    "fd_file = pd.read_excel(r\"C:\\Users\\kaihsu\\Desktop\\財務發送對帳單.xlsx\", header=7)"
   ]
  },
  {
   "cell_type": "code",
   "execution_count": null,
   "metadata": {},
   "outputs": [],
   "source": [
    "fd_file = fd_file.dropna(subset=['INVOICE NO'])"
   ]
  },
  {
   "cell_type": "code",
   "execution_count": null,
   "metadata": {},
   "outputs": [],
   "source": [
    "fd_file['發票日'] = pd.to_datetime(fd_file['發票日'], yearfirst=True)"
   ]
  },
  {
   "cell_type": "code",
   "execution_count": null,
   "metadata": {},
   "outputs": [],
   "source": [
    "fd_file = fd_file[['發票日', 'INVOICE NO', '幣別', '金額']]"
   ]
  },
  {
   "cell_type": "code",
   "execution_count": null,
   "metadata": {},
   "outputs": [],
   "source": [
    "fd_file = fd_file.groupby(['發票日', 'INVOICE NO', '幣別'])[['金額']].sum().reset_index()"
   ]
  },
  {
   "cell_type": "code",
   "execution_count": null,
   "metadata": {},
   "outputs": [],
   "source": [
    "fd_file.columns = ['INVOICE DATE', 'INVOICE NO', 'CURRENCY', 'AMOUNT']"
   ]
  },
  {
   "cell_type": "code",
   "execution_count": null,
   "metadata": {},
   "outputs": [],
   "source": [
    "fd_file['INVOICE DATE'] = fd_file['INVOICE DATE'].dt.strftime('%Y-%m-%d')"
   ]
  },
  {
   "cell_type": "code",
   "execution_count": null,
   "metadata": {},
   "outputs": [],
   "source": [
    "axrr = pd.read_excel(r\"C:\\Users\\kaihsu\\Desktop\\axrr330.xls\", header=6)    "
   ]
  },
  {
   "cell_type": "code",
   "execution_count": null,
   "metadata": {},
   "outputs": [],
   "source": [
    "axrr = axrr.dropna(subset=['商用發票號碼'])"
   ]
  },
  {
   "cell_type": "code",
   "execution_count": null,
   "metadata": {},
   "outputs": [],
   "source": [
    "axrr = axrr[['帳款日期', '商用發票號碼', '幣別', '未沖金額']]"
   ]
  },
  {
   "cell_type": "code",
   "execution_count": null,
   "metadata": {},
   "outputs": [],
   "source": [
    "axrr.columns = ['INVOICE DATE', 'INVOICE NO', 'CURRENCY', 'AMOUNT']"
   ]
  },
  {
   "cell_type": "code",
   "execution_count": null,
   "metadata": {},
   "outputs": [],
   "source": [
    "axrr['INVOICE DATE'] = pd.to_datetime(axrr['INVOICE DATE'], yearfirst=True)"
   ]
  },
  {
   "cell_type": "code",
   "execution_count": null,
   "metadata": {},
   "outputs": [],
   "source": [
    "axrr = axrr.groupby(['INVOICE DATE', 'INVOICE NO', 'CURRENCY'])[['AMOUNT']].sum().reset_index()"
   ]
  },
  {
   "cell_type": "code",
   "execution_count": null,
   "metadata": {},
   "outputs": [],
   "source": [
    "axrr['INVOICE DATE'] = axrr['INVOICE DATE'].dt.strftime('%Y-%m-%d')"
   ]
  },
  {
   "cell_type": "code",
   "execution_count": null,
   "metadata": {},
   "outputs": [],
   "source": [
    "axrr"
   ]
  },
  {
   "cell_type": "markdown",
   "metadata": {},
   "source": [
    "## PDC\n"
   ]
  },
  {
   "cell_type": "code",
   "execution_count": null,
   "metadata": {},
   "outputs": [],
   "source": [
    "df = pd.read_clipboard()"
   ]
  },
  {
   "cell_type": "code",
   "execution_count": null,
   "metadata": {},
   "outputs": [],
   "source": [
    "df.columns = df.columns.str.strip()"
   ]
  },
  {
   "cell_type": "code",
   "execution_count": null,
   "metadata": {},
   "outputs": [],
   "source": [
    "df['採購數量'] = df.apply(lambda x: x['採購數量'] * 1000 if x['採購單位'] == 'KPC' else x['採購數量'], axis=1)"
   ]
  },
  {
   "cell_type": "code",
   "execution_count": null,
   "metadata": {},
   "outputs": [],
   "source": [
    "df = df[['料號', '採購數量', '訂單號碼', '採購項次', '訂單交期']]"
   ]
  },
  {
   "cell_type": "code",
   "execution_count": null,
   "metadata": {},
   "outputs": [],
   "source": [
    "df['佳邦料號'] = ''"
   ]
  },
  {
   "cell_type": "code",
   "execution_count": null,
   "metadata": {},
   "outputs": [],
   "source": [
    "append_dict = {4: '客戶發票', 5: '客戶單號', 6: '客戶收貨日期', 7: '項次', 9: '約定交貨日'}\n",
    "for k, v in append_dict.items():\n",
    "    df.insert(k, v, value=None)\n",
    "df['項次'] = df.groupby(['項次']).cumcount()+1"
   ]
  },
  {
   "cell_type": "markdown",
   "metadata": {},
   "source": [
    "## 處理Shara的對帳單"
   ]
  },
  {
   "cell_type": "code",
   "execution_count": null,
   "metadata": {},
   "outputs": [],
   "source": [
    "df = pd.read_excel('複本 axrr330 _Example.xls')"
   ]
  },
  {
   "cell_type": "code",
   "execution_count": null,
   "metadata": {},
   "outputs": [],
   "source": [
    "cus_code = df.iloc[0:, 1].str.extract(r'([A-Z]{2}[0-9]+)').dropna()[0].tolist()"
   ]
  },
  {
   "cell_type": "code",
   "execution_count": null,
   "metadata": {},
   "outputs": [],
   "source": [
    "cus_code = tuple(cus_code) # get customer code"
   ]
  },
  {
   "cell_type": "code",
   "execution_count": null,
   "metadata": {
    "scrolled": true
   },
   "outputs": [],
   "source": [
    "df['Sign'] = df[df.columns.tolist()[1]].str.startswith('類別')"
   ]
  },
  {
   "cell_type": "code",
   "execution_count": null,
   "metadata": {},
   "outputs": [],
   "source": [
    "df['Sign'] = df['Sign'].map(lambda x: 'Header' if x == True else '' if pd.isna(x) else '')"
   ]
  },
  {
   "cell_type": "code",
   "execution_count": null,
   "metadata": {},
   "outputs": [],
   "source": [
    "headers = tuple(df[df['Sign'].isin(['Header'])].index.tolist()) # get table headers index"
   ]
  },
  {
   "cell_type": "code",
   "execution_count": null,
   "metadata": {},
   "outputs": [],
   "source": [
    "headers # 下一張表格-6等於上一張結尾"
   ]
  },
  {
   "cell_type": "code",
   "execution_count": null,
   "metadata": {},
   "outputs": [],
   "source": [
    "columns = df.loc[5, :].tolist() # column names"
   ]
  },
  {
   "cell_type": "code",
   "execution_count": null,
   "metadata": {},
   "outputs": [],
   "source": [
    "index_list = df.index.tolist() # get all index length"
   ]
  },
  {
   "cell_type": "code",
   "execution_count": null,
   "metadata": {},
   "outputs": [],
   "source": [
    "df"
   ]
  },
  {
   "cell_type": "code",
   "execution_count": null,
   "metadata": {
    "scrolled": true
   },
   "outputs": [],
   "source": [
    "table_list = []\n",
    "for i in range(0, len(headers)):\n",
    "    if headers[i] != headers[-1]:\n",
    "        result = df.loc[headers[i]: headers[i+1] - 6, :].reset_index(drop=True)\n",
    "        result.columns = columns\n",
    "        result.drop(0, inplace=True)\n",
    "        result.dropna(subset=['類別'], inplace=True)\n",
    "        result['類別'] = cus_code[i]\n",
    "        result = result[['帳款日期', '類別', '應收款日', '商用發票號碼', '幣別', '未沖金額']]\n",
    "        result['帳款日期'] = pd.to_datetime(result['帳款日期'], yearfirst=True).dt.strftime('%Y-%m-%d')\n",
    "        result['應收款日'] = pd.to_datetime(result['應收款日'], yearfirst=True).dt.strftime('%Y-%m-%d')\n",
    "#         result = result.groupby(['帳款日期', '類別', '應收款日', '商用發票號碼', '幣別'])[['未沖金額']].sum().reset_index()\n",
    "        globals()['table' + str(i)] = result\n",
    "        table_list.append(globals()['table' + str(i)])\n",
    "        \n",
    "    else:\n",
    "        result = df.loc[headers[-1]:index_list[-4],].reset_index(drop=True)\n",
    "        result.columns = columns\n",
    "        result.drop(0, inplace=True)\n",
    "        result.dropna(subset=['類別'], inplace=True)\n",
    "        result['類別'] = cus_code[-1]\n",
    "        result = result[['帳款日期', '類別', '應收款日', '商用發票號碼', '幣別', '未沖金額']]\n",
    "        result['帳款日期'] = pd.to_datetime(result['帳款日期'], yearfirst=True).dt.strftime('%Y-%m-%d')\n",
    "        result['應收款日'] = pd.to_datetime(result['應收款日'], yearfirst=True).dt.strftime('%Y-%m-%d')\n",
    "#         result = result.groupby(['帳款日期', '類別', '應收款日', '商用發票號碼', '幣別'])[['未沖金額']].sum().reset_index()\n",
    "        globals()['table' + str(i)] = result\n",
    "        table_list.append(globals()['table' + str(i)])"
   ]
  },
  {
   "cell_type": "code",
   "execution_count": null,
   "metadata": {},
   "outputs": [],
   "source": [
    "final = pd.concat(table_list)"
   ]
  },
  {
   "cell_type": "code",
   "execution_count": null,
   "metadata": {},
   "outputs": [],
   "source": [
    "final"
   ]
  },
  {
   "cell_type": "code",
   "execution_count": null,
   "metadata": {},
   "outputs": [],
   "source": [
    "final['未沖金額'].sum()"
   ]
  }
 ],
 "metadata": {
  "kernelspec": {
   "display_name": "Python 3",
   "language": "python",
   "name": "python3"
  },
  "language_info": {
   "codemirror_mode": {
    "name": "ipython",
    "version": 3
   },
   "file_extension": ".py",
   "mimetype": "text/x-python",
   "name": "python",
   "nbconvert_exporter": "python",
   "pygments_lexer": "ipython3",
   "version": "3.8.5"
  }
 },
 "nbformat": 4,
 "nbformat_minor": 4
}
