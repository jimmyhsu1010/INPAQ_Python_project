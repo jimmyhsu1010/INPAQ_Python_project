{
 "cells": [
  {
   "cell_type": "code",
   "execution_count": 2,
   "metadata": {},
   "outputs": [],
   "source": [
    "import pandas as pd\n",
    "pd.set_option(\"display.max_rows\", 5)\n",
    "pd.set_option(\"display.float_format\", lambda x: \"%.3f\" % x)"
   ]
  },
  {
   "cell_type": "code",
   "execution_count": 5,
   "metadata": {},
   "outputs": [],
   "source": [
    "df = pd.read_excel(r\"C:\\Users\\kaihsu\\Desktop\\Price Quote list 20210111.xlsx\", None)"
   ]
  },
  {
   "cell_type": "code",
   "execution_count": 7,
   "metadata": {},
   "outputs": [],
   "source": [
    "df = df['Components']"
   ]
  },
  {
   "cell_type": "code",
   "execution_count": 17,
   "metadata": {},
   "outputs": [],
   "source": [
    "df['Region'] = df['Region'].map(lambda x: 'Russia' if x == 'Russia ' else x)"
   ]
  },
  {
   "cell_type": "code",
   "execution_count": 19,
   "metadata": {},
   "outputs": [
    {
     "data": {
      "text/plain": [
       "Index(['Date', 'Region', 'Customer', 'End Customer', 'Application', 'Supplier',\n",
       "       'Customer PN', 'Inpaq PN', 'Cust. Target Price',\n",
       "       'Inpaq Price(USD/Kpcs)', 'Quantity(PCS)', 'Samples', 'Unnamed: 12'],\n",
       "      dtype='object')"
      ]
     },
     "execution_count": 19,
     "metadata": {},
     "output_type": "execute_result"
    }
   ],
   "source": [
    "df.columns"
   ]
  },
  {
   "cell_type": "code",
   "execution_count": 22,
   "metadata": {},
   "outputs": [],
   "source": [
    "df['Customer'] = df['Customer'].map(lambda x: 'MT-System' if x =='Mt System' else x)"
   ]
  },
  {
   "cell_type": "code",
   "execution_count": 26,
   "metadata": {},
   "outputs": [],
   "source": [
    "df ['Customer'] = df['Customer'].map(lambda x: x.upper())"
   ]
  },
  {
   "cell_type": "code",
   "execution_count": 27,
   "metadata": {},
   "outputs": [],
   "source": [
    "df1 = df[['Date', 'Customer', 'Inpaq PN', 'Inpaq Price(USD/Kpcs)']]"
   ]
  },
  {
   "cell_type": "code",
   "execution_count": 32,
   "metadata": {},
   "outputs": [
    {
     "name": "stderr",
     "output_type": "stream",
     "text": [
      "<ipython-input-32-afb00ed6a50c>:1: SettingWithCopyWarning: \n",
      "A value is trying to be set on a copy of a slice from a DataFrame\n",
      "\n",
      "See the caveats in the documentation: https://pandas.pydata.org/pandas-docs/stable/user_guide/indexing.html#returning-a-view-versus-a-copy\n",
      "  df1.dropna(subset=['Inpaq Price(USD/Kpcs)'], inplace=True)\n"
     ]
    }
   ],
   "source": [
    "df1.dropna(subset=['Inpaq Price(USD/Kpcs)'], inplace=True)"
   ]
  },
  {
   "cell_type": "code",
   "execution_count": 37,
   "metadata": {
    "scrolled": true
   },
   "outputs": [
    {
     "data": {
      "text/html": [
       "<div>\n",
       "<style scoped>\n",
       "    .dataframe tbody tr th:only-of-type {\n",
       "        vertical-align: middle;\n",
       "    }\n",
       "\n",
       "    .dataframe tbody tr th {\n",
       "        vertical-align: top;\n",
       "    }\n",
       "\n",
       "    .dataframe thead th {\n",
       "        text-align: right;\n",
       "    }\n",
       "</style>\n",
       "<table border=\"1\" class=\"dataframe\">\n",
       "  <thead>\n",
       "    <tr style=\"text-align: right;\">\n",
       "      <th></th>\n",
       "      <th>Date</th>\n",
       "      <th>Customer</th>\n",
       "      <th>Inpaq PN</th>\n",
       "      <th>Inpaq Price(USD/Kpcs)</th>\n",
       "    </tr>\n",
       "  </thead>\n",
       "  <tbody>\n",
       "    <tr>\n",
       "      <th>5</th>\n",
       "      <td>2018-02-21</td>\n",
       "      <td>MT-SYSTEM</td>\n",
       "      <td>TVWDF1004AD0</td>\n",
       "      <td>41</td>\n",
       "    </tr>\n",
       "    <tr>\n",
       "      <th>6</th>\n",
       "      <td>2018-02-21</td>\n",
       "      <td>MT-SYSTEM</td>\n",
       "      <td>TVLV5B1-DFN1006-2L</td>\n",
       "      <td>6.300</td>\n",
       "    </tr>\n",
       "    <tr>\n",
       "      <th>...</th>\n",
       "      <td>...</td>\n",
       "      <td>...</td>\n",
       "      <td>...</td>\n",
       "      <td>...</td>\n",
       "    </tr>\n",
       "    <tr>\n",
       "      <th>89</th>\n",
       "      <td>2020-11-03</td>\n",
       "      <td>TELTONIKA</td>\n",
       "      <td>WCI1005AN8N2_E</td>\n",
       "      <td>0.034</td>\n",
       "    </tr>\n",
       "    <tr>\n",
       "      <th>90</th>\n",
       "      <td>2020-11-03</td>\n",
       "      <td>TELTONIKA</td>\n",
       "      <td>WCI1005AN33N_E</td>\n",
       "      <td>0.034</td>\n",
       "    </tr>\n",
       "  </tbody>\n",
       "</table>\n",
       "<p>76 rows × 4 columns</p>\n",
       "</div>"
      ],
      "text/plain": [
       "         Date   Customer            Inpaq PN Inpaq Price(USD/Kpcs)\n",
       "5  2018-02-21  MT-SYSTEM        TVWDF1004AD0                    41\n",
       "6  2018-02-21  MT-SYSTEM  TVLV5B1-DFN1006-2L                 6.300\n",
       "..        ...        ...                 ...                   ...\n",
       "89 2020-11-03  TELTONIKA      WCI1005AN8N2_E                 0.034\n",
       "90 2020-11-03  TELTONIKA      WCI1005AN33N_E                 0.034\n",
       "\n",
       "[76 rows x 4 columns]"
      ]
     },
     "execution_count": 37,
     "metadata": {},
     "output_type": "execute_result"
    }
   ],
   "source": [
    "df1"
   ]
  },
  {
   "cell_type": "code",
   "execution_count": 61,
   "metadata": {},
   "outputs": [],
   "source": [
    "# 匯入整理好的預算價格，抽出MT-SYSTEM 2021的元件預算來比對價格\n",
    "budget = pd.read_excel(r\"C:\\Users\\kaihsu\\Desktop\\業績總表\\最終預算報告用表格（新）.xlsx\", None)"
   ]
  },
  {
   "cell_type": "code",
   "execution_count": 62,
   "metadata": {},
   "outputs": [],
   "source": [
    "budget = budget['Sheet1']"
   ]
  },
  {
   "cell_type": "code",
   "execution_count": 63,
   "metadata": {},
   "outputs": [
    {
     "data": {
      "text/plain": [
       "Index(['負責業務', 'BG', 'Group', '預交年份', '預交月份', '數量', '本國幣別NTD', '品名', '類型'], dtype='object')"
      ]
     },
     "execution_count": 63,
     "metadata": {},
     "output_type": "execute_result"
    }
   ],
   "source": [
    "budget.columns"
   ]
  },
  {
   "cell_type": "code",
   "execution_count": 64,
   "metadata": {},
   "outputs": [],
   "source": [
    "budget_sample = budget[(budget['負責業務'] == '許凱智') & (budget['Group'] == 'MT-SYSTEM') & (budget['類型'] == '元件') & (budget['預交年份'] == 2021)]"
   ]
  },
  {
   "cell_type": "code",
   "execution_count": 74,
   "metadata": {},
   "outputs": [
    {
     "data": {
      "text/plain": [
       "Index(['負責業務', 'BG', 'Group', '預交年份', '預交月份', '數量', '本國幣別NTD', '品名', '類型'], dtype='object')"
      ]
     },
     "execution_count": 74,
     "metadata": {},
     "output_type": "execute_result"
    }
   ],
   "source": [
    "budget_sample.columns"
   ]
  },
  {
   "cell_type": "code",
   "execution_count": 84,
   "metadata": {},
   "outputs": [
    {
     "name": "stdout",
     "output_type": "stream",
     "text": [
      "<class 'pandas.core.frame.DataFrame'>\n",
      "Int64Index: 216 entries, 16198 to 16413\n",
      "Data columns (total 9 columns):\n",
      " #   Column   Non-Null Count  Dtype \n",
      "---  ------   --------------  ----- \n",
      " 0   負責業務     216 non-null    object\n",
      " 1   BG       216 non-null    object\n",
      " 2   Group    216 non-null    object\n",
      " 3   預交年份     216 non-null    int64 \n",
      " 4   預交月份     216 non-null    object\n",
      " 5   數量       216 non-null    int64 \n",
      " 6   本國幣別NTD  216 non-null    int64 \n",
      " 7   品名       216 non-null    object\n",
      " 8   類型       216 non-null    object\n",
      "dtypes: int64(3), object(6)\n",
      "memory usage: 16.9+ KB\n"
     ]
    }
   ],
   "source": [
    "budget_sample.info()"
   ]
  },
  {
   "cell_type": "code",
   "execution_count": 85,
   "metadata": {
    "scrolled": true
   },
   "outputs": [
    {
     "name": "stderr",
     "output_type": "stream",
     "text": [
      "<ipython-input-85-4af7499e77b8>:1: SettingWithCopyWarning: \n",
      "A value is trying to be set on a copy of a slice from a DataFrame.\n",
      "Try using .loc[row_indexer,col_indexer] = value instead\n",
      "\n",
      "See the caveats in the documentation: https://pandas.pydata.org/pandas-docs/stable/user_guide/indexing.html#returning-a-view-versus-a-copy\n",
      "  budget_sample['單價'] = budget_sample['本國幣別NTD'] / budget_sample['數量']\n"
     ]
    }
   ],
   "source": [
    "budget_sample['單價'] = budget_sample['本國幣別NTD'] / budget_sample['數量']"
   ]
  },
  {
   "cell_type": "code",
   "execution_count": 89,
   "metadata": {},
   "outputs": [],
   "source": [
    "budget_sample = budget_sample.groupby(['Group', '預交年份', '品名', '單價'])[['數量', '本國幣別NTD']].sum().reset_index()"
   ]
  },
  {
   "cell_type": "code",
   "execution_count": 90,
   "metadata": {},
   "outputs": [],
   "source": [
    "budget_sample = budget_sample[['Group', '品名', '單價']]"
   ]
  },
  {
   "cell_type": "code",
   "execution_count": 95,
   "metadata": {},
   "outputs": [],
   "source": [
    "df1 = df1[['Customer', 'Inpaq PN', 'Inpaq Price(USD/Kpcs)']]\n",
    "df1 = df1[df1['Customer'] == 'MT-SYSTEM']"
   ]
  },
  {
   "cell_type": "code",
   "execution_count": 96,
   "metadata": {},
   "outputs": [],
   "source": [
    "df1.columns = ['Group', '品名', 'Unit price']"
   ]
  },
  {
   "cell_type": "code",
   "execution_count": 98,
   "metadata": {},
   "outputs": [],
   "source": [
    "result = pd.merge(budget_sample, df1, on=['Group', '品名'], how='left')"
   ]
  },
  {
   "cell_type": "code",
   "execution_count": 107,
   "metadata": {},
   "outputs": [
    {
     "data": {
      "text/html": [
       "<div>\n",
       "<style scoped>\n",
       "    .dataframe tbody tr th:only-of-type {\n",
       "        vertical-align: middle;\n",
       "    }\n",
       "\n",
       "    .dataframe tbody tr th {\n",
       "        vertical-align: top;\n",
       "    }\n",
       "\n",
       "    .dataframe thead th {\n",
       "        text-align: right;\n",
       "    }\n",
       "</style>\n",
       "<table border=\"1\" class=\"dataframe\">\n",
       "  <thead>\n",
       "    <tr style=\"text-align: right;\">\n",
       "      <th></th>\n",
       "      <th>Group</th>\n",
       "      <th>品名</th>\n",
       "      <th>單價</th>\n",
       "      <th>Unit price</th>\n",
       "    </tr>\n",
       "  </thead>\n",
       "  <tbody>\n",
       "    <tr>\n",
       "      <th>10</th>\n",
       "      <td>MT-SYSTEM</td>\n",
       "      <td>WIP201610P-1R5ML</td>\n",
       "      <td>0.728</td>\n",
       "      <td>18(20)</td>\n",
       "    </tr>\n",
       "    <tr>\n",
       "      <th>11</th>\n",
       "      <td>MT-SYSTEM</td>\n",
       "      <td>WIP201610P-1R5ML</td>\n",
       "      <td>0.728</td>\n",
       "      <td>20</td>\n",
       "    </tr>\n",
       "    <tr>\n",
       "      <th>14</th>\n",
       "      <td>MT-SYSTEM</td>\n",
       "      <td>WIP252012P-2R2ML</td>\n",
       "      <td>0.517</td>\n",
       "      <td>20</td>\n",
       "    </tr>\n",
       "    <tr>\n",
       "      <th>15</th>\n",
       "      <td>MT-SYSTEM</td>\n",
       "      <td>WIP252012P-2R2ML</td>\n",
       "      <td>0.518</td>\n",
       "      <td>20</td>\n",
       "    </tr>\n",
       "    <tr>\n",
       "      <th>16</th>\n",
       "      <td>MT-SYSTEM</td>\n",
       "      <td>WMM0420PX-3R3M</td>\n",
       "      <td>1.872</td>\n",
       "      <td>53.500</td>\n",
       "    </tr>\n",
       "  </tbody>\n",
       "</table>\n",
       "</div>"
      ],
      "text/plain": [
       "        Group                品名    單價 Unit price\n",
       "10  MT-SYSTEM  WIP201610P-1R5ML 0.728     18(20)\n",
       "11  MT-SYSTEM  WIP201610P-1R5ML 0.728         20\n",
       "14  MT-SYSTEM  WIP252012P-2R2ML 0.517         20\n",
       "15  MT-SYSTEM  WIP252012P-2R2ML 0.518         20\n",
       "16  MT-SYSTEM    WMM0420PX-3R3M 1.872     53.500"
      ]
     },
     "execution_count": 107,
     "metadata": {},
     "output_type": "execute_result"
    }
   ],
   "source": [
    "result[result['Unit price'].notna()]"
   ]
  },
  {
   "cell_type": "code",
   "execution_count": 60,
   "metadata": {},
   "outputs": [
    {
     "data": {
      "text/html": [
       "<div>\n",
       "<style scoped>\n",
       "    .dataframe tbody tr th:only-of-type {\n",
       "        vertical-align: middle;\n",
       "    }\n",
       "\n",
       "    .dataframe tbody tr th {\n",
       "        vertical-align: top;\n",
       "    }\n",
       "\n",
       "    .dataframe thead th {\n",
       "        text-align: right;\n",
       "    }\n",
       "</style>\n",
       "<table border=\"1\" class=\"dataframe\">\n",
       "  <thead>\n",
       "    <tr style=\"text-align: right;\">\n",
       "      <th></th>\n",
       "      <th>負責業務</th>\n",
       "      <th>BG</th>\n",
       "      <th>Group</th>\n",
       "      <th>預交年份</th>\n",
       "      <th>預交月份</th>\n",
       "      <th>數量</th>\n",
       "      <th>本國幣別NTD</th>\n",
       "      <th>品名</th>\n",
       "      <th>類型</th>\n",
       "    </tr>\n",
       "  </thead>\n",
       "  <tbody>\n",
       "    <tr>\n",
       "      <th>0</th>\n",
       "      <td>許凱智</td>\n",
       "      <td>AIP</td>\n",
       "      <td>MT-SYSTEM</td>\n",
       "      <td>2021</td>\n",
       "      <td>January</td>\n",
       "      <td>0</td>\n",
       "      <td>0</td>\n",
       "      <td>NIP8040PX-100M</td>\n",
       "      <td>元件</td>\n",
       "    </tr>\n",
       "    <tr>\n",
       "      <th>1</th>\n",
       "      <td>許凱智</td>\n",
       "      <td>AIP</td>\n",
       "      <td>MT-SYSTEM</td>\n",
       "      <td>2021</td>\n",
       "      <td>February</td>\n",
       "      <td>0</td>\n",
       "      <td>0</td>\n",
       "      <td>NIP8040PX-100M</td>\n",
       "      <td>元件</td>\n",
       "    </tr>\n",
       "    <tr>\n",
       "      <th>...</th>\n",
       "      <td>...</td>\n",
       "      <td>...</td>\n",
       "      <td>...</td>\n",
       "      <td>...</td>\n",
       "      <td>...</td>\n",
       "      <td>...</td>\n",
       "      <td>...</td>\n",
       "      <td>...</td>\n",
       "      <td>...</td>\n",
       "    </tr>\n",
       "    <tr>\n",
       "      <th>215</th>\n",
       "      <td>許凱智</td>\n",
       "      <td>WIP</td>\n",
       "      <td>MT-SYSTEM</td>\n",
       "      <td>2021</td>\n",
       "      <td>December</td>\n",
       "      <td>80000</td>\n",
       "      <td>41328</td>\n",
       "      <td>WIP252012P-2R2ML</td>\n",
       "      <td>元件</td>\n",
       "    </tr>\n",
       "    <tr>\n",
       "      <th>216</th>\n",
       "      <td>許凱智</td>\n",
       "      <td>TT</td>\n",
       "      <td>MT-SYSTEM</td>\n",
       "      <td>2021</td>\n",
       "      <td>March</td>\n",
       "      <td>20302</td>\n",
       "      <td>1432423</td>\n",
       "      <td>JDS-DS-1234</td>\n",
       "      <td>元件</td>\n",
       "    </tr>\n",
       "  </tbody>\n",
       "</table>\n",
       "<p>217 rows × 9 columns</p>\n",
       "</div>"
      ],
      "text/plain": [
       "    負責業務   BG      Group  預交年份      預交月份     數量  本國幣別NTD                品名  類型\n",
       "0    許凱智  AIP  MT-SYSTEM  2021   January      0        0    NIP8040PX-100M  元件\n",
       "1    許凱智  AIP  MT-SYSTEM  2021  February      0        0    NIP8040PX-100M  元件\n",
       "..   ...  ...        ...   ...       ...    ...      ...               ...  ..\n",
       "215  許凱智  WIP  MT-SYSTEM  2021  December  80000    41328  WIP252012P-2R2ML  元件\n",
       "216  許凱智   TT  MT-SYSTEM  2021     March  20302  1432423       JDS-DS-1234  元件\n",
       "\n",
       "[217 rows x 9 columns]"
      ]
     },
     "execution_count": 60,
     "metadata": {},
     "output_type": "execute_result"
    }
   ],
   "source": [
    "'''先寫起來，以後可以拿來當做維護報價表的方式，就不需要去Teams裡面填寫了。\n",
    "    input按照欄位順序填寫\n",
    "    然後建立成list再和表格的columns合併成字典\n",
    "    最後append到表格最後'''\n",
    "budget_keys = budget.columns\n",
    "budget_values = ['許凱智', 'TT', 'MT-SYSTEM', 2021, 'March', 20302, 1432423, 'JDS-DS-1234', '元件']\n",
    "# 下面這步很重要，把輸入的值和欄位名稱合併為dictionary之後才能直接append到dataframe去\n",
    "combine = dict(zip(budget_keys, budget_values))\n",
    "# 使用append將上面的dictionary加入表格最後，然後index重新計算\n",
    "budget_sample.append(combine, ignore_index=True)"
   ]
  }
 ],
 "metadata": {
  "kernelspec": {
   "display_name": "Python 3",
   "language": "python",
   "name": "python3"
  },
  "language_info": {
   "codemirror_mode": {
    "name": "ipython",
    "version": 3
   },
   "file_extension": ".py",
   "mimetype": "text/x-python",
   "name": "python",
   "nbconvert_exporter": "python",
   "pygments_lexer": "ipython3",
   "version": "3.8.5"
  }
 },
 "nbformat": 4,
 "nbformat_minor": 4
}
