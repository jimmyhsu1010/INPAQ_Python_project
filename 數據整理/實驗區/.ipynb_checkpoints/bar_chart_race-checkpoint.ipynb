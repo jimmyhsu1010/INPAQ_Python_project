{
 "cells": [
  {
   "cell_type": "code",
   "execution_count": 2,
   "metadata": {},
   "outputs": [],
   "source": [
    "from raceplotly.plots import barplot\n",
    "import pandas as pd\n",
    "pd.set_option(\"display.max_columns\", None)\n",
    "import tkinter as tk\n",
    "from tkinter import filedialog"
   ]
  },
  {
   "cell_type": "code",
   "execution_count": 33,
   "metadata": {},
   "outputs": [],
   "source": [
    "def open_file():\n",
    "    root = tk.Tk()\n",
    "    root.withdraw()\n",
    "    path = filedialog.askopenfilename()\n",
    "    df = pd.read_excel(path, None)\n",
    "    sheet_list = {}\n",
    "    for i, j in enumerate(list(df.keys())):\n",
    "        sheet_list.setdefault(i+1, j)\n",
    "        print(i+1, j)\n",
    "    sheet = eval(input(\"Please choose the sheet you want to open:\\n\"))\n",
    "    df = df[sheet_list[sheet]]\n",
    "    return df"
   ]
  },
  {
   "cell_type": "code",
   "execution_count": 35,
   "metadata": {
    "collapsed": true
   },
   "outputs": [
    {
     "name": "stdout",
     "output_type": "stream",
     "text": [
      "1 Dashboard\n",
      "2 元件天線客戶貢獻度\n",
      "3 各年份實績樞紐流動\n",
      "4 20192020實績折線圖\n",
      "5 2020累積實績固定\n",
      "6 固定實績樞紐\n",
      "7 2020預算固定表\n",
      "8 2020預算流動\n",
      "9 Amber週報用預算\n",
      "10 全年預算by person\n",
      "11 2020預算\n",
      "12 客戶 年份樞紐\n",
      "13 各類別圓餅圖\n",
      "14 業務實績排名\n",
      "15 各客戶成長率\n",
      "16 Weekly report\n",
      "17 週報更新用樞紐\n",
      "18 Amber週報用格式\n",
      "19 天線出貨量樞紐\n",
      "20 元件出貨量直條圖\n",
      "21 Allison客戶樞紐\n",
      "22 給二廠的Teltonika數據\n",
      "23 每月15號左右給Wiley的圖表\n",
      "24 固定天線當月實績\n",
      "25 LF ODM\n",
      "26 總實績表格for Amber\n",
      "27 出貨明細\n",
      "28 差異分析用樞紐\n",
      "29 2021業績總表 (2) Mohan+Kai Edited\n",
      "30 工作表3\n",
      "31 Wurth開會報告用\n",
      "32 分類命名表\n",
      "33 工作表1\n",
      "34 成長率byBG\n",
      "35 2021預算固定表\n",
      "36 2021預算流動\n",
      "37 華新科By BU分析\n",
      "38 20210126預算調整\n",
      "39 2021預算總表\n",
      "40 2021年實績預算達成率\n",
      "Please choose the sheet you want to open:\n",
      "27\n"
     ]
    }
   ],
   "source": [
    "x = open_file()"
   ]
  },
  {
   "cell_type": "code",
   "execution_count": 37,
   "metadata": {},
   "outputs": [],
   "source": [
    "df = x[(x[\"狀態\"].str.contains(\"已|未\"))]"
   ]
  },
  {
   "cell_type": "code",
   "execution_count": 82,
   "metadata": {},
   "outputs": [],
   "source": [
    "test = df.groupby([pd.Grouper(key=\"預交日期\", freq=\"M\"), \"Group\"])[[\"本國幣別NTD\"]].sum().reset_index()"
   ]
  },
  {
   "cell_type": "code",
   "execution_count": 83,
   "metadata": {},
   "outputs": [],
   "source": [
    "test[\"預交日期\"] = test[\"預交日期\"].dt.strftime(\"%Y-%m\")"
   ]
  },
  {
   "cell_type": "code",
   "execution_count": 88,
   "metadata": {
    "scrolled": true
   },
   "outputs": [
    {
     "data": {
      "text/plain": [
       "array(['LF OEM', 'Bourns', 'Eaton', 'LF', 'Laird', 'TELTONIKA', 'WE',\n",
       "       '信昌', '華新科技', '藝感', 'MT-SYSTEM', 'TE', 'G-PLAST', 'M.S.', 'MATE',\n",
       "       'Nexty', 'SSF', 'JBJ', 'UnivaTe', 'FIRSTEN', 'Sancraft', 'VTech',\n",
       "       'iWave'], dtype=object)"
      ]
     },
     "execution_count": 88,
     "metadata": {},
     "output_type": "execute_result"
    }
   ],
   "source": [
    "test[\"Group\"].unique()"
   ]
  },
  {
   "cell_type": "code",
   "execution_count": 103,
   "metadata": {},
   "outputs": [],
   "source": [
    "pd.set_option(\"display.float_format\", lambda x: \"%.0f\" % x)"
   ]
  },
  {
   "cell_type": "code",
   "execution_count": 104,
   "metadata": {},
   "outputs": [
    {
     "data": {
      "text/html": [
       "<div>\n",
       "<style scoped>\n",
       "    .dataframe tbody tr th:only-of-type {\n",
       "        vertical-align: middle;\n",
       "    }\n",
       "\n",
       "    .dataframe tbody tr th {\n",
       "        vertical-align: top;\n",
       "    }\n",
       "\n",
       "    .dataframe thead th {\n",
       "        text-align: right;\n",
       "    }\n",
       "</style>\n",
       "<table border=\"1\" class=\"dataframe\">\n",
       "  <thead>\n",
       "    <tr style=\"text-align: right;\">\n",
       "      <th></th>\n",
       "      <th>預交日期</th>\n",
       "      <th>Group</th>\n",
       "      <th>本國幣別NTD</th>\n",
       "      <th>color</th>\n",
       "    </tr>\n",
       "  </thead>\n",
       "  <tbody>\n",
       "    <tr>\n",
       "      <th>0</th>\n",
       "      <td>2019-01</td>\n",
       "      <td>LF OEM</td>\n",
       "      <td>1698011</td>\n",
       "      <td>rgb(212, 115, 213)</td>\n",
       "    </tr>\n",
       "    <tr>\n",
       "      <th>1</th>\n",
       "      <td>2019-02</td>\n",
       "      <td>LF OEM</td>\n",
       "      <td>1293337</td>\n",
       "      <td>rgb(212, 115, 213)</td>\n",
       "    </tr>\n",
       "    <tr>\n",
       "      <th>2</th>\n",
       "      <td>2019-03</td>\n",
       "      <td>LF OEM</td>\n",
       "      <td>2219514</td>\n",
       "      <td>rgb(212, 115, 213)</td>\n",
       "    </tr>\n",
       "    <tr>\n",
       "      <th>3</th>\n",
       "      <td>2019-04</td>\n",
       "      <td>LF OEM</td>\n",
       "      <td>2329667</td>\n",
       "      <td>rgb(212, 115, 213)</td>\n",
       "    </tr>\n",
       "    <tr>\n",
       "      <th>4</th>\n",
       "      <td>2019-05</td>\n",
       "      <td>LF OEM</td>\n",
       "      <td>2365378</td>\n",
       "      <td>rgb(212, 115, 213)</td>\n",
       "    </tr>\n",
       "    <tr>\n",
       "      <th>...</th>\n",
       "      <td>...</td>\n",
       "      <td>...</td>\n",
       "      <td>...</td>\n",
       "      <td>...</td>\n",
       "    </tr>\n",
       "    <tr>\n",
       "      <th>249</th>\n",
       "      <td>2021-07</td>\n",
       "      <td>WE</td>\n",
       "      <td>62773</td>\n",
       "      <td>rgb(158, 150, 113)</td>\n",
       "    </tr>\n",
       "    <tr>\n",
       "      <th>250</th>\n",
       "      <td>2021-08</td>\n",
       "      <td>Bourns</td>\n",
       "      <td>42585</td>\n",
       "      <td>rgb(68, 184, 225)</td>\n",
       "    </tr>\n",
       "    <tr>\n",
       "      <th>251</th>\n",
       "      <td>2021-08</td>\n",
       "      <td>Laird</td>\n",
       "      <td>55965</td>\n",
       "      <td>rgb(31, 255, 161)</td>\n",
       "    </tr>\n",
       "    <tr>\n",
       "      <th>252</th>\n",
       "      <td>2021-08</td>\n",
       "      <td>WE</td>\n",
       "      <td>303728</td>\n",
       "      <td>rgb(158, 150, 113)</td>\n",
       "    </tr>\n",
       "    <tr>\n",
       "      <th>253</th>\n",
       "      <td>2021-09</td>\n",
       "      <td>Laird</td>\n",
       "      <td>178857</td>\n",
       "      <td>rgb(31, 255, 161)</td>\n",
       "    </tr>\n",
       "  </tbody>\n",
       "</table>\n",
       "<p>254 rows × 4 columns</p>\n",
       "</div>"
      ],
      "text/plain": [
       "        預交日期   Group  本國幣別NTD               color\n",
       "0    2019-01  LF OEM  1698011  rgb(212, 115, 213)\n",
       "1    2019-02  LF OEM  1293337  rgb(212, 115, 213)\n",
       "2    2019-03  LF OEM  2219514  rgb(212, 115, 213)\n",
       "3    2019-04  LF OEM  2329667  rgb(212, 115, 213)\n",
       "4    2019-05  LF OEM  2365378  rgb(212, 115, 213)\n",
       "..       ...     ...      ...                 ...\n",
       "249  2021-07      WE    62773  rgb(158, 150, 113)\n",
       "250  2021-08  Bourns    42585   rgb(68, 184, 225)\n",
       "251  2021-08   Laird    55965   rgb(31, 255, 161)\n",
       "252  2021-08      WE   303728  rgb(158, 150, 113)\n",
       "253  2021-09   Laird   178857   rgb(31, 255, 161)\n",
       "\n",
       "[254 rows x 4 columns]"
      ]
     },
     "execution_count": 104,
     "metadata": {},
     "output_type": "execute_result"
    }
   ],
   "source": [
    "test"
   ]
  },
  {
   "cell_type": "code",
   "execution_count": 107,
   "metadata": {
    "scrolled": false
   },
   "outputs": [
    {
     "data": {
      "application/vnd.plotly.v1+json": {
       "config": {
        "plotlyServerURL": "https://plot.ly"
       },
       "data": [
        {
         "cliponaxis": false,
         "hoverinfo": "all",
         "marker": {
          "color": [
           "rgb(72, 100, 154)"
          ]
         },
         "orientation": "h",
         "textangle": 0,
         "textposition": "outside",
         "texttemplate": "%{y}<br>%{x:.4s}",
         "type": "bar",
         "x": [
          1698011.0155100005
         ],
         "y": [
          "LF OEM"
         ]
        }
       ],
       "frames": [
        {
         "data": [
          {
           "cliponaxis": false,
           "hoverinfo": "all",
           "hovertemplate": "<extra></extra>",
           "marker": {
            "color": [
             "rgb(72, 100, 154)"
            ]
           },
           "orientation": "h",
           "textangle": 0,
           "textposition": "outside",
           "texttemplate": "%{y}<br>%{x:.4s}",
           "type": "bar",
           "x": [
            1698011.0155100005
           ],
           "y": [
            "LF OEM"
           ]
          }
         ],
         "layout": {
          "bargap": 0.15,
          "font": {
           "size": 14
          },
          "plot_bgcolor": "#FFFFFF",
          "title": {
           "text": "Top 10 Crops from 1961 to 2018"
          },
          "xaxis": {
           "range": [
            0,
            19140904.48049999
           ],
           "showline": true,
           "visible": true
          },
          "yaxis": {
           "showline": false,
           "visible": true
          }
         },
         "name": "2019-01"
        },
        {
         "data": [
          {
           "cliponaxis": false,
           "hoverinfo": "all",
           "hovertemplate": "<extra></extra>",
           "marker": {
            "color": [
             "rgb(72, 100, 154)"
            ]
           },
           "orientation": "h",
           "textangle": 0,
           "textposition": "outside",
           "texttemplate": "%{y}<br>%{x:.4s}",
           "type": "bar",
           "x": [
            1293336.9052839999
           ],
           "y": [
            "LF OEM"
           ]
          }
         ],
         "layout": {
          "bargap": 0.15,
          "font": {
           "size": 14
          },
          "plot_bgcolor": "#FFFFFF",
          "title": {
           "text": "Top 10 Crops from 1961 to 2018"
          },
          "xaxis": {
           "range": [
            0,
            19140904.48049999
           ],
           "showline": true,
           "visible": true
          },
          "yaxis": {
           "showline": false,
           "visible": true
          }
         },
         "name": "2019-02"
        },
        {
         "data": [
          {
           "cliponaxis": false,
           "hoverinfo": "all",
           "hovertemplate": "<extra></extra>",
           "marker": {
            "color": [
             "rgb(72, 100, 154)"
            ]
           },
           "orientation": "h",
           "textangle": 0,
           "textposition": "outside",
           "texttemplate": "%{y}<br>%{x:.4s}",
           "type": "bar",
           "x": [
            2219514.010959999
           ],
           "y": [
            "LF OEM"
           ]
          }
         ],
         "layout": {
          "bargap": 0.15,
          "font": {
           "size": 14
          },
          "plot_bgcolor": "#FFFFFF",
          "title": {
           "text": "Top 10 Crops from 1961 to 2018"
          },
          "xaxis": {
           "range": [
            0,
            19140904.48049999
           ],
           "showline": true,
           "visible": true
          },
          "yaxis": {
           "showline": false,
           "visible": true
          }
         },
         "name": "2019-03"
        },
        {
         "data": [
          {
           "cliponaxis": false,
           "hoverinfo": "all",
           "hovertemplate": "<extra></extra>",
           "marker": {
            "color": [
             "rgb(72, 100, 154)"
            ]
           },
           "orientation": "h",
           "textangle": 0,
           "textposition": "outside",
           "texttemplate": "%{y}<br>%{x:.4s}",
           "type": "bar",
           "x": [
            2329666.610155
           ],
           "y": [
            "LF OEM"
           ]
          }
         ],
         "layout": {
          "bargap": 0.15,
          "font": {
           "size": 14
          },
          "plot_bgcolor": "#FFFFFF",
          "title": {
           "text": "Top 10 Crops from 1961 to 2018"
          },
          "xaxis": {
           "range": [
            0,
            19140904.48049999
           ],
           "showline": true,
           "visible": true
          },
          "yaxis": {
           "showline": false,
           "visible": true
          }
         },
         "name": "2019-04"
        },
        {
         "data": [
          {
           "cliponaxis": false,
           "hoverinfo": "all",
           "hovertemplate": "<extra></extra>",
           "marker": {
            "color": [
             "rgb(72, 100, 154)"
            ]
           },
           "orientation": "h",
           "textangle": 0,
           "textposition": "outside",
           "texttemplate": "%{y}<br>%{x:.4s}",
           "type": "bar",
           "x": [
            2365377.915965
           ],
           "y": [
            "LF OEM"
           ]
          }
         ],
         "layout": {
          "bargap": 0.15,
          "font": {
           "size": 14
          },
          "plot_bgcolor": "#FFFFFF",
          "title": {
           "text": "Top 10 Crops from 1961 to 2018"
          },
          "xaxis": {
           "range": [
            0,
            19140904.48049999
           ],
           "showline": true,
           "visible": true
          },
          "yaxis": {
           "showline": false,
           "visible": true
          }
         },
         "name": "2019-05"
        },
        {
         "data": [
          {
           "cliponaxis": false,
           "hoverinfo": "all",
           "hovertemplate": "<extra></extra>",
           "marker": {
            "color": [
             "rgb(72, 100, 154)"
            ]
           },
           "orientation": "h",
           "textangle": 0,
           "textposition": "outside",
           "texttemplate": "%{y}<br>%{x:.4s}",
           "type": "bar",
           "x": [
            5968783.45005
           ],
           "y": [
            "LF OEM"
           ]
          }
         ],
         "layout": {
          "bargap": 0.15,
          "font": {
           "size": 14
          },
          "plot_bgcolor": "#FFFFFF",
          "title": {
           "text": "Top 10 Crops from 1961 to 2018"
          },
          "xaxis": {
           "range": [
            0,
            19140904.48049999
           ],
           "showline": true,
           "visible": true
          },
          "yaxis": {
           "showline": false,
           "visible": true
          }
         },
         "name": "2019-06"
        },
        {
         "data": [
          {
           "cliponaxis": false,
           "hoverinfo": "all",
           "hovertemplate": "<extra></extra>",
           "marker": {
            "color": [
             "rgb(72, 100, 154)"
            ]
           },
           "orientation": "h",
           "textangle": 0,
           "textposition": "outside",
           "texttemplate": "%{y}<br>%{x:.4s}",
           "type": "bar",
           "x": [
            5630828.546479002
           ],
           "y": [
            "LF OEM"
           ]
          }
         ],
         "layout": {
          "bargap": 0.15,
          "font": {
           "size": 14
          },
          "plot_bgcolor": "#FFFFFF",
          "title": {
           "text": "Top 10 Crops from 1961 to 2018"
          },
          "xaxis": {
           "range": [
            0,
            19140904.48049999
           ],
           "showline": true,
           "visible": true
          },
          "yaxis": {
           "showline": false,
           "visible": true
          }
         },
         "name": "2019-07"
        },
        {
         "data": [
          {
           "cliponaxis": false,
           "hoverinfo": "all",
           "hovertemplate": "<extra></extra>",
           "marker": {
            "color": [
             "rgb(72, 100, 154)"
            ]
           },
           "orientation": "h",
           "textangle": 0,
           "textposition": "outside",
           "texttemplate": "%{y}<br>%{x:.4s}",
           "type": "bar",
           "x": [
            7321687.912005
           ],
           "y": [
            "LF OEM"
           ]
          }
         ],
         "layout": {
          "bargap": 0.15,
          "font": {
           "size": 14
          },
          "plot_bgcolor": "#FFFFFF",
          "title": {
           "text": "Top 10 Crops from 1961 to 2018"
          },
          "xaxis": {
           "range": [
            0,
            19140904.48049999
           ],
           "showline": true,
           "visible": true
          },
          "yaxis": {
           "showline": false,
           "visible": true
          }
         },
         "name": "2019-08"
        },
        {
         "data": [
          {
           "cliponaxis": false,
           "hoverinfo": "all",
           "hovertemplate": "<extra></extra>",
           "marker": {
            "color": [
             "rgb(72, 100, 154)"
            ]
           },
           "orientation": "h",
           "textangle": 0,
           "textposition": "outside",
           "texttemplate": "%{y}<br>%{x:.4s}",
           "type": "bar",
           "x": [
            6018095.7368439995
           ],
           "y": [
            "LF OEM"
           ]
          }
         ],
         "layout": {
          "bargap": 0.15,
          "font": {
           "size": 14
          },
          "plot_bgcolor": "#FFFFFF",
          "title": {
           "text": "Top 10 Crops from 1961 to 2018"
          },
          "xaxis": {
           "range": [
            0,
            19140904.48049999
           ],
           "showline": true,
           "visible": true
          },
          "yaxis": {
           "showline": false,
           "visible": true
          }
         },
         "name": "2019-09"
        },
        {
         "data": [
          {
           "cliponaxis": false,
           "hoverinfo": "all",
           "hovertemplate": "<extra></extra>",
           "marker": {
            "color": [
             "rgb(72, 100, 154)"
            ]
           },
           "orientation": "h",
           "textangle": 0,
           "textposition": "outside",
           "texttemplate": "%{y}<br>%{x:.4s}",
           "type": "bar",
           "x": [
            3940311.7852100004
           ],
           "y": [
            "LF OEM"
           ]
          }
         ],
         "layout": {
          "bargap": 0.15,
          "font": {
           "size": 14
          },
          "plot_bgcolor": "#FFFFFF",
          "title": {
           "text": "Top 10 Crops from 1961 to 2018"
          },
          "xaxis": {
           "range": [
            0,
            19140904.48049999
           ],
           "showline": true,
           "visible": true
          },
          "yaxis": {
           "showline": false,
           "visible": true
          }
         },
         "name": "2019-10"
        },
        {
         "data": [
          {
           "cliponaxis": false,
           "hoverinfo": "all",
           "hovertemplate": "<extra></extra>",
           "marker": {
            "color": [
             "rgb(72, 100, 154)"
            ]
           },
           "orientation": "h",
           "textangle": 0,
           "textposition": "outside",
           "texttemplate": "%{y}<br>%{x:.4s}",
           "type": "bar",
           "x": [
            1874192.040975
           ],
           "y": [
            "LF OEM"
           ]
          }
         ],
         "layout": {
          "bargap": 0.15,
          "font": {
           "size": 14
          },
          "plot_bgcolor": "#FFFFFF",
          "title": {
           "text": "Top 10 Crops from 1961 to 2018"
          },
          "xaxis": {
           "range": [
            0,
            19140904.48049999
           ],
           "showline": true,
           "visible": true
          },
          "yaxis": {
           "showline": false,
           "visible": true
          }
         },
         "name": "2019-11"
        },
        {
         "data": [
          {
           "cliponaxis": false,
           "hoverinfo": "all",
           "hovertemplate": "<extra></extra>",
           "marker": {
            "color": [
             "rgb(72, 100, 154)"
            ]
           },
           "orientation": "h",
           "textangle": 0,
           "textposition": "outside",
           "texttemplate": "%{y}<br>%{x:.4s}",
           "type": "bar",
           "x": [
            913530.4063149999
           ],
           "y": [
            "LF OEM"
           ]
          }
         ],
         "layout": {
          "bargap": 0.15,
          "font": {
           "size": 14
          },
          "plot_bgcolor": "#FFFFFF",
          "title": {
           "text": "Top 10 Crops from 1961 to 2018"
          },
          "xaxis": {
           "range": [
            0,
            19140904.48049999
           ],
           "showline": true,
           "visible": true
          },
          "yaxis": {
           "showline": false,
           "visible": true
          }
         },
         "name": "2019-12"
        },
        {
         "data": [
          {
           "cliponaxis": false,
           "hoverinfo": "all",
           "hovertemplate": "<extra></extra>",
           "marker": {
            "color": [
             "rgb(162, 13, 20)",
             "rgb(128, 232, 162)",
             "rgb(3, 251, 151)"
            ]
           },
           "orientation": "h",
           "textangle": 0,
           "textposition": "outside",
           "texttemplate": "%{y}<br>%{x:.4s}",
           "type": "bar",
           "x": [
            3286330.329300001,
            4329804.7706,
            9029392.517499998
           ],
           "y": [
            "WE",
            "Eaton",
            "LF"
           ]
          }
         ],
         "layout": {
          "bargap": 0.15,
          "font": {
           "size": 14
          },
          "plot_bgcolor": "#FFFFFF",
          "title": {
           "text": "Top 10 Crops from 1961 to 2018"
          },
          "xaxis": {
           "range": [
            0,
            19140904.48049999
           ],
           "showline": true,
           "visible": true
          },
          "yaxis": {
           "showline": false,
           "visible": true
          }
         },
         "name": "2020-01"
        },
        {
         "data": [
          {
           "cliponaxis": false,
           "hoverinfo": "all",
           "hovertemplate": "<extra></extra>",
           "marker": {
            "color": [
             "rgb(162, 13, 20)",
             "rgb(28, 226, 142)",
             "rgb(3, 251, 151)"
            ]
           },
           "orientation": "h",
           "textangle": 0,
           "textposition": "outside",
           "texttemplate": "%{y}<br>%{x:.4s}",
           "type": "bar",
           "x": [
            2720852.9833000014,
            3815642.4959999993,
            4605749.5435
           ],
           "y": [
            "WE",
            "Bourns",
            "LF"
           ]
          }
         ],
         "layout": {
          "bargap": 0.15,
          "font": {
           "size": 14
          },
          "plot_bgcolor": "#FFFFFF",
          "title": {
           "text": "Top 10 Crops from 1961 to 2018"
          },
          "xaxis": {
           "range": [
            0,
            19140904.48049999
           ],
           "showline": true,
           "visible": true
          },
          "yaxis": {
           "showline": false,
           "visible": true
          }
         },
         "name": "2020-02"
        },
        {
         "data": [
          {
           "cliponaxis": false,
           "hoverinfo": "all",
           "hovertemplate": "<extra></extra>",
           "marker": {
            "color": [
             "rgb(162, 13, 20)",
             "rgb(128, 232, 162)",
             "rgb(3, 251, 151)"
            ]
           },
           "orientation": "h",
           "textangle": 0,
           "textposition": "outside",
           "texttemplate": "%{y}<br>%{x:.4s}",
           "type": "bar",
           "x": [
            4229305.553900002,
            5482972.845199999,
            7458275.180000001
           ],
           "y": [
            "WE",
            "Eaton",
            "LF"
           ]
          }
         ],
         "layout": {
          "bargap": 0.15,
          "font": {
           "size": 14
          },
          "plot_bgcolor": "#FFFFFF",
          "title": {
           "text": "Top 10 Crops from 1961 to 2018"
          },
          "xaxis": {
           "range": [
            0,
            19140904.48049999
           ],
           "showline": true,
           "visible": true
          },
          "yaxis": {
           "showline": false,
           "visible": true
          }
         },
         "name": "2020-03"
        },
        {
         "data": [
          {
           "cliponaxis": false,
           "hoverinfo": "all",
           "hovertemplate": "<extra></extra>",
           "marker": {
            "color": [
             "rgb(28, 226, 142)",
             "rgb(3, 251, 151)",
             "rgb(128, 232, 162)"
            ]
           },
           "orientation": "h",
           "textangle": 0,
           "textposition": "outside",
           "texttemplate": "%{y}<br>%{x:.4s}",
           "type": "bar",
           "x": [
            3698541.3699999987,
            4706538.447499999,
            7365502.658500001
           ],
           "y": [
            "Bourns",
            "LF",
            "Eaton"
           ]
          }
         ],
         "layout": {
          "bargap": 0.15,
          "font": {
           "size": 14
          },
          "plot_bgcolor": "#FFFFFF",
          "title": {
           "text": "Top 10 Crops from 1961 to 2018"
          },
          "xaxis": {
           "range": [
            0,
            19140904.48049999
           ],
           "showline": true,
           "visible": true
          },
          "yaxis": {
           "showline": false,
           "visible": true
          }
         },
         "name": "2020-04"
        },
        {
         "data": [
          {
           "cliponaxis": false,
           "hoverinfo": "all",
           "hovertemplate": "<extra></extra>",
           "marker": {
            "color": [
             "rgb(28, 226, 142)",
             "rgb(3, 251, 151)",
             "rgb(128, 232, 162)"
            ]
           },
           "orientation": "h",
           "textangle": 0,
           "textposition": "outside",
           "texttemplate": "%{y}<br>%{x:.4s}",
           "type": "bar",
           "x": [
            3899816.6730000004,
            6566895.220500002,
            6842382.778699999
           ],
           "y": [
            "Bourns",
            "LF",
            "Eaton"
           ]
          }
         ],
         "layout": {
          "bargap": 0.15,
          "font": {
           "size": 14
          },
          "plot_bgcolor": "#FFFFFF",
          "title": {
           "text": "Top 10 Crops from 1961 to 2018"
          },
          "xaxis": {
           "range": [
            0,
            19140904.48049999
           ],
           "showline": true,
           "visible": true
          },
          "yaxis": {
           "showline": false,
           "visible": true
          }
         },
         "name": "2020-05"
        },
        {
         "data": [
          {
           "cliponaxis": false,
           "hoverinfo": "all",
           "hovertemplate": "<extra></extra>",
           "marker": {
            "color": [
             "rgb(72, 100, 154)",
             "rgb(28, 226, 142)",
             "rgb(3, 251, 151)"
            ]
           },
           "orientation": "h",
           "textangle": 0,
           "textposition": "outside",
           "texttemplate": "%{y}<br>%{x:.4s}",
           "type": "bar",
           "x": [
            3745574.823105,
            5384957.768000001,
            10335034.348000001
           ],
           "y": [
            "LF OEM",
            "Bourns",
            "LF"
           ]
          }
         ],
         "layout": {
          "bargap": 0.15,
          "font": {
           "size": 14
          },
          "plot_bgcolor": "#FFFFFF",
          "title": {
           "text": "Top 10 Crops from 1961 to 2018"
          },
          "xaxis": {
           "range": [
            0,
            19140904.48049999
           ],
           "showline": true,
           "visible": true
          },
          "yaxis": {
           "showline": false,
           "visible": true
          }
         },
         "name": "2020-06"
        },
        {
         "data": [
          {
           "cliponaxis": false,
           "hoverinfo": "all",
           "hovertemplate": "<extra></extra>",
           "marker": {
            "color": [
             "rgb(128, 232, 162)",
             "rgb(3, 251, 151)",
             "rgb(72, 100, 154)"
            ]
           },
           "orientation": "h",
           "textangle": 0,
           "textposition": "outside",
           "texttemplate": "%{y}<br>%{x:.4s}",
           "type": "bar",
           "x": [
            8458221.014899999,
            8906480.9907,
            8907361.621985001
           ],
           "y": [
            "Eaton",
            "LF",
            "LF OEM"
           ]
          }
         ],
         "layout": {
          "bargap": 0.15,
          "font": {
           "size": 14
          },
          "plot_bgcolor": "#FFFFFF",
          "title": {
           "text": "Top 10 Crops from 1961 to 2018"
          },
          "xaxis": {
           "range": [
            0,
            19140904.48049999
           ],
           "showline": true,
           "visible": true
          },
          "yaxis": {
           "showline": false,
           "visible": true
          }
         },
         "name": "2020-07"
        },
        {
         "data": [
          {
           "cliponaxis": false,
           "hoverinfo": "all",
           "hovertemplate": "<extra></extra>",
           "marker": {
            "color": [
             "rgb(128, 232, 162)",
             "rgb(3, 251, 151)",
             "rgb(72, 100, 154)"
            ]
           },
           "orientation": "h",
           "textangle": 0,
           "textposition": "outside",
           "texttemplate": "%{y}<br>%{x:.4s}",
           "type": "bar",
           "x": [
            6407307.699399999,
            11622368.2878,
            12606590.114843002
           ],
           "y": [
            "Eaton",
            "LF",
            "LF OEM"
           ]
          }
         ],
         "layout": {
          "bargap": 0.15,
          "font": {
           "size": 14
          },
          "plot_bgcolor": "#FFFFFF",
          "title": {
           "text": "Top 10 Crops from 1961 to 2018"
          },
          "xaxis": {
           "range": [
            0,
            19140904.48049999
           ],
           "showline": true,
           "visible": true
          },
          "yaxis": {
           "showline": false,
           "visible": true
          }
         },
         "name": "2020-08"
        },
        {
         "data": [
          {
           "cliponaxis": false,
           "hoverinfo": "all",
           "hovertemplate": "<extra></extra>",
           "marker": {
            "color": [
             "rgb(56, 27, 17)",
             "rgb(72, 100, 154)",
             "rgb(3, 251, 151)"
            ]
           },
           "orientation": "h",
           "textangle": 0,
           "textposition": "outside",
           "texttemplate": "%{y}<br>%{x:.4s}",
           "type": "bar",
           "x": [
            6794648.6675,
            14855337.049054993,
            15016712.6465
           ],
           "y": [
            "TELTONIKA",
            "LF OEM",
            "LF"
           ]
          }
         ],
         "layout": {
          "bargap": 0.15,
          "font": {
           "size": 14
          },
          "plot_bgcolor": "#FFFFFF",
          "title": {
           "text": "Top 10 Crops from 1961 to 2018"
          },
          "xaxis": {
           "range": [
            0,
            19140904.48049999
           ],
           "showline": true,
           "visible": true
          },
          "yaxis": {
           "showline": false,
           "visible": true
          }
         },
         "name": "2020-09"
        },
        {
         "data": [
          {
           "cliponaxis": false,
           "hoverinfo": "all",
           "hovertemplate": "<extra></extra>",
           "marker": {
            "color": [
             "rgb(128, 232, 162)",
             "rgb(72, 100, 154)",
             "rgb(3, 251, 151)"
            ]
           },
           "orientation": "h",
           "textangle": 0,
           "textposition": "outside",
           "texttemplate": "%{y}<br>%{x:.4s}",
           "type": "bar",
           "x": [
            4800140.408899999,
            18334955.90738499,
            19140904.48049999
           ],
           "y": [
            "Eaton",
            "LF OEM",
            "LF"
           ]
          }
         ],
         "layout": {
          "bargap": 0.15,
          "font": {
           "size": 14
          },
          "plot_bgcolor": "#FFFFFF",
          "title": {
           "text": "Top 10 Crops from 1961 to 2018"
          },
          "xaxis": {
           "range": [
            0,
            19140904.48049999
           ],
           "showline": true,
           "visible": true
          },
          "yaxis": {
           "showline": false,
           "visible": true
          }
         },
         "name": "2020-10"
        },
        {
         "data": [
          {
           "cliponaxis": false,
           "hoverinfo": "all",
           "hovertemplate": "<extra></extra>",
           "marker": {
            "color": [
             "rgb(128, 232, 162)",
             "rgb(72, 100, 154)",
             "rgb(3, 251, 151)"
            ]
           },
           "orientation": "h",
           "textangle": 0,
           "textposition": "outside",
           "texttemplate": "%{y}<br>%{x:.4s}",
           "type": "bar",
           "x": [
            9042395.3348,
            14214368.413644997,
            15546426.271
           ],
           "y": [
            "Eaton",
            "LF OEM",
            "LF"
           ]
          }
         ],
         "layout": {
          "bargap": 0.15,
          "font": {
           "size": 14
          },
          "plot_bgcolor": "#FFFFFF",
          "title": {
           "text": "Top 10 Crops from 1961 to 2018"
          },
          "xaxis": {
           "range": [
            0,
            19140904.48049999
           ],
           "showline": true,
           "visible": true
          },
          "yaxis": {
           "showline": false,
           "visible": true
          }
         },
         "name": "2020-11"
        },
        {
         "data": [
          {
           "cliponaxis": false,
           "hoverinfo": "all",
           "hovertemplate": "<extra></extra>",
           "marker": {
            "color": [
             "rgb(72, 100, 154)",
             "rgb(56, 27, 17)",
             "rgb(3, 251, 151)"
            ]
           },
           "orientation": "h",
           "textangle": 0,
           "textposition": "outside",
           "texttemplate": "%{y}<br>%{x:.4s}",
           "type": "bar",
           "x": [
            9219279.41845,
            10223132.266999988,
            14750843.883000005
           ],
           "y": [
            "LF OEM",
            "TELTONIKA",
            "LF"
           ]
          }
         ],
         "layout": {
          "bargap": 0.15,
          "font": {
           "size": 14
          },
          "plot_bgcolor": "#FFFFFF",
          "title": {
           "text": "Top 10 Crops from 1961 to 2018"
          },
          "xaxis": {
           "range": [
            0,
            19140904.48049999
           ],
           "showline": true,
           "visible": true
          },
          "yaxis": {
           "showline": false,
           "visible": true
          }
         },
         "name": "2020-12"
        },
        {
         "data": [
          {
           "cliponaxis": false,
           "hoverinfo": "all",
           "hovertemplate": "<extra></extra>",
           "marker": {
            "color": [
             "rgb(42, 242, 112)",
             "rgb(56, 27, 17)",
             "rgb(3, 251, 151)"
            ]
           },
           "orientation": "h",
           "textangle": 0,
           "textposition": "outside",
           "texttemplate": "%{y}<br>%{x:.4s}",
           "type": "bar",
           "x": [
            6472920,
            16064326.77449999,
            16761474.453499997
           ],
           "y": [
            "SSF",
            "TELTONIKA",
            "LF"
           ]
          }
         ],
         "layout": {
          "bargap": 0.15,
          "font": {
           "size": 14
          },
          "plot_bgcolor": "#FFFFFF",
          "title": {
           "text": "Top 10 Crops from 1961 to 2018"
          },
          "xaxis": {
           "range": [
            0,
            19140904.48049999
           ],
           "showline": true,
           "visible": true
          },
          "yaxis": {
           "showline": false,
           "visible": true
          }
         },
         "name": "2021-01"
        },
        {
         "data": [
          {
           "cliponaxis": false,
           "hoverinfo": "all",
           "hovertemplate": "<extra></extra>",
           "marker": {
            "color": [
             "rgb(128, 232, 162)",
             "rgb(3, 251, 151)",
             "rgb(56, 27, 17)"
            ]
           },
           "orientation": "h",
           "textangle": 0,
           "textposition": "outside",
           "texttemplate": "%{y}<br>%{x:.4s}",
           "type": "bar",
           "x": [
            6041302.0037,
            6240434.290000001,
            10792725.365999999
           ],
           "y": [
            "Eaton",
            "LF",
            "TELTONIKA"
           ]
          }
         ],
         "layout": {
          "bargap": 0.15,
          "font": {
           "size": 14
          },
          "plot_bgcolor": "#FFFFFF",
          "title": {
           "text": "Top 10 Crops from 1961 to 2018"
          },
          "xaxis": {
           "range": [
            0,
            19140904.48049999
           ],
           "showline": true,
           "visible": true
          },
          "yaxis": {
           "showline": false,
           "visible": true
          }
         },
         "name": "2021-02"
        },
        {
         "data": [
          {
           "cliponaxis": false,
           "hoverinfo": "all",
           "hovertemplate": "<extra></extra>",
           "marker": {
            "color": [
             "rgb(128, 232, 162)",
             "rgb(3, 251, 151)",
             "rgb(56, 27, 17)"
            ]
           },
           "orientation": "h",
           "textangle": 0,
           "textposition": "outside",
           "texttemplate": "%{y}<br>%{x:.4s}",
           "type": "bar",
           "x": [
            7473719.7376,
            7585694.440000001,
            9459755.247
           ],
           "y": [
            "Eaton",
            "LF",
            "TELTONIKA"
           ]
          }
         ],
         "layout": {
          "bargap": 0.15,
          "font": {
           "size": 14
          },
          "plot_bgcolor": "#FFFFFF",
          "title": {
           "text": "Top 10 Crops from 1961 to 2018"
          },
          "xaxis": {
           "range": [
            0,
            19140904.48049999
           ],
           "showline": true,
           "visible": true
          },
          "yaxis": {
           "showline": false,
           "visible": true
          }
         },
         "name": "2021-03"
        },
        {
         "data": [
          {
           "cliponaxis": false,
           "hoverinfo": "all",
           "hovertemplate": "<extra></extra>",
           "marker": {
            "color": [
             "rgb(28, 226, 142)",
             "rgb(128, 232, 162)",
             "rgb(56, 27, 17)"
            ]
           },
           "orientation": "h",
           "textangle": 0,
           "textposition": "outside",
           "texttemplate": "%{y}<br>%{x:.4s}",
           "type": "bar",
           "x": [
            5269814.257999999,
            9474876.896599997,
            10462878.989999998
           ],
           "y": [
            "Bourns",
            "Eaton",
            "TELTONIKA"
           ]
          }
         ],
         "layout": {
          "bargap": 0.15,
          "font": {
           "size": 14
          },
          "plot_bgcolor": "#FFFFFF",
          "title": {
           "text": "Top 10 Crops from 1961 to 2018"
          },
          "xaxis": {
           "range": [
            0,
            19140904.48049999
           ],
           "showline": true,
           "visible": true
          },
          "yaxis": {
           "showline": false,
           "visible": true
          }
         },
         "name": "2021-04"
        },
        {
         "data": [
          {
           "cliponaxis": false,
           "hoverinfo": "all",
           "hovertemplate": "<extra></extra>",
           "marker": {
            "color": [
             "rgb(128, 232, 162)",
             "rgb(28, 226, 142)",
             "rgb(56, 27, 17)"
            ]
           },
           "orientation": "h",
           "textangle": 0,
           "textposition": "outside",
           "texttemplate": "%{y}<br>%{x:.4s}",
           "type": "bar",
           "x": [
            2549507.17,
            3339004.6799999992,
            5927167.674
           ],
           "y": [
            "Eaton",
            "Bourns",
            "TELTONIKA"
           ]
          }
         ],
         "layout": {
          "bargap": 0.15,
          "font": {
           "size": 14
          },
          "plot_bgcolor": "#FFFFFF",
          "title": {
           "text": "Top 10 Crops from 1961 to 2018"
          },
          "xaxis": {
           "range": [
            0,
            19140904.48049999
           ],
           "showline": true,
           "visible": true
          },
          "yaxis": {
           "showline": false,
           "visible": true
          }
         },
         "name": "2021-05"
        },
        {
         "data": [
          {
           "cliponaxis": false,
           "hoverinfo": "all",
           "hovertemplate": "<extra></extra>",
           "marker": {
            "color": [
             "rgb(244, 27, 182)",
             "rgb(28, 226, 142)",
             "rgb(162, 13, 20)"
            ]
           },
           "orientation": "h",
           "textangle": 0,
           "textposition": "outside",
           "texttemplate": "%{y}<br>%{x:.4s}",
           "type": "bar",
           "x": [
            378909.97400000005,
            925457.2200000002,
            1165737.601
           ],
           "y": [
            "Laird",
            "Bourns",
            "WE"
           ]
          }
         ],
         "layout": {
          "bargap": 0.15,
          "font": {
           "size": 14
          },
          "plot_bgcolor": "#FFFFFF",
          "title": {
           "text": "Top 10 Crops from 1961 to 2018"
          },
          "xaxis": {
           "range": [
            0,
            19140904.48049999
           ],
           "showline": true,
           "visible": true
          },
          "yaxis": {
           "showline": false,
           "visible": true
          }
         },
         "name": "2021-06"
        },
        {
         "data": [
          {
           "cliponaxis": false,
           "hoverinfo": "all",
           "hovertemplate": "<extra></extra>",
           "marker": {
            "color": [
             "rgb(162, 13, 20)",
             "rgb(28, 226, 142)",
             "rgb(244, 27, 182)"
            ]
           },
           "orientation": "h",
           "textangle": 0,
           "textposition": "outside",
           "texttemplate": "%{y}<br>%{x:.4s}",
           "type": "bar",
           "x": [
            62773.368,
            313368.82,
            694038.9740000002
           ],
           "y": [
            "WE",
            "Bourns",
            "Laird"
           ]
          }
         ],
         "layout": {
          "bargap": 0.15,
          "font": {
           "size": 14
          },
          "plot_bgcolor": "#FFFFFF",
          "title": {
           "text": "Top 10 Crops from 1961 to 2018"
          },
          "xaxis": {
           "range": [
            0,
            19140904.48049999
           ],
           "showline": true,
           "visible": true
          },
          "yaxis": {
           "showline": false,
           "visible": true
          }
         },
         "name": "2021-07"
        },
        {
         "data": [
          {
           "cliponaxis": false,
           "hoverinfo": "all",
           "hovertemplate": "<extra></extra>",
           "marker": {
            "color": [
             "rgb(28, 226, 142)",
             "rgb(244, 27, 182)",
             "rgb(162, 13, 20)"
            ]
           },
           "orientation": "h",
           "textangle": 0,
           "textposition": "outside",
           "texttemplate": "%{y}<br>%{x:.4s}",
           "type": "bar",
           "x": [
            42585,
            55965.20700000001,
            303727.69
           ],
           "y": [
            "Bourns",
            "Laird",
            "WE"
           ]
          }
         ],
         "layout": {
          "bargap": 0.15,
          "font": {
           "size": 14
          },
          "plot_bgcolor": "#FFFFFF",
          "title": {
           "text": "Top 10 Crops from 1961 to 2018"
          },
          "xaxis": {
           "range": [
            0,
            19140904.48049999
           ],
           "showline": true,
           "visible": true
          },
          "yaxis": {
           "showline": false,
           "visible": true
          }
         },
         "name": "2021-08"
        },
        {
         "data": [
          {
           "cliponaxis": false,
           "hoverinfo": "all",
           "hovertemplate": "<extra></extra>",
           "marker": {
            "color": [
             "rgb(244, 27, 182)"
            ]
           },
           "orientation": "h",
           "textangle": 0,
           "textposition": "outside",
           "texttemplate": "%{y}<br>%{x:.4s}",
           "type": "bar",
           "x": [
            178857
           ],
           "y": [
            "Laird"
           ]
          }
         ],
         "layout": {
          "bargap": 0.15,
          "font": {
           "size": 14
          },
          "plot_bgcolor": "#FFFFFF",
          "title": {
           "text": "Top 10 Crops from 1961 to 2018"
          },
          "xaxis": {
           "range": [
            0,
            19140904.48049999
           ],
           "showline": true,
           "visible": true
          },
          "yaxis": {
           "showline": false,
           "visible": true
          }
         },
         "name": "2021-09"
        }
       ],
       "layout": {
        "bargap": 0.15,
        "font": {
         "size": 14
        },
        "plot_bgcolor": "#FFFFFF",
        "sliders": [
         {
          "active": 0,
          "currentvalue": {
           "font": {
            "size": 20
           },
           "prefix": "Date: ",
           "visible": true,
           "xanchor": "right"
          },
          "len": 0.9,
          "pad": {
           "b": 10,
           "t": 50
          },
          "steps": [
           {
            "args": [
             [
              "2019-01"
             ],
             {
              "frame": {
               "duration": 1000,
               "redraw": false
              },
              "mode": "immediate",
              "transition": {
               "duration": 1000
              }
             }
            ],
            "label": "2019-01",
            "method": "animate"
           },
           {
            "args": [
             [
              "2019-02"
             ],
             {
              "frame": {
               "duration": 1000,
               "redraw": false
              },
              "mode": "immediate",
              "transition": {
               "duration": 1000
              }
             }
            ],
            "label": "2019-02",
            "method": "animate"
           },
           {
            "args": [
             [
              "2019-03"
             ],
             {
              "frame": {
               "duration": 1000,
               "redraw": false
              },
              "mode": "immediate",
              "transition": {
               "duration": 1000
              }
             }
            ],
            "label": "2019-03",
            "method": "animate"
           },
           {
            "args": [
             [
              "2019-04"
             ],
             {
              "frame": {
               "duration": 1000,
               "redraw": false
              },
              "mode": "immediate",
              "transition": {
               "duration": 1000
              }
             }
            ],
            "label": "2019-04",
            "method": "animate"
           },
           {
            "args": [
             [
              "2019-05"
             ],
             {
              "frame": {
               "duration": 1000,
               "redraw": false
              },
              "mode": "immediate",
              "transition": {
               "duration": 1000
              }
             }
            ],
            "label": "2019-05",
            "method": "animate"
           },
           {
            "args": [
             [
              "2019-06"
             ],
             {
              "frame": {
               "duration": 1000,
               "redraw": false
              },
              "mode": "immediate",
              "transition": {
               "duration": 1000
              }
             }
            ],
            "label": "2019-06",
            "method": "animate"
           },
           {
            "args": [
             [
              "2019-07"
             ],
             {
              "frame": {
               "duration": 1000,
               "redraw": false
              },
              "mode": "immediate",
              "transition": {
               "duration": 1000
              }
             }
            ],
            "label": "2019-07",
            "method": "animate"
           },
           {
            "args": [
             [
              "2019-08"
             ],
             {
              "frame": {
               "duration": 1000,
               "redraw": false
              },
              "mode": "immediate",
              "transition": {
               "duration": 1000
              }
             }
            ],
            "label": "2019-08",
            "method": "animate"
           },
           {
            "args": [
             [
              "2019-09"
             ],
             {
              "frame": {
               "duration": 1000,
               "redraw": false
              },
              "mode": "immediate",
              "transition": {
               "duration": 1000
              }
             }
            ],
            "label": "2019-09",
            "method": "animate"
           },
           {
            "args": [
             [
              "2019-10"
             ],
             {
              "frame": {
               "duration": 1000,
               "redraw": false
              },
              "mode": "immediate",
              "transition": {
               "duration": 1000
              }
             }
            ],
            "label": "2019-10",
            "method": "animate"
           },
           {
            "args": [
             [
              "2019-11"
             ],
             {
              "frame": {
               "duration": 1000,
               "redraw": false
              },
              "mode": "immediate",
              "transition": {
               "duration": 1000
              }
             }
            ],
            "label": "2019-11",
            "method": "animate"
           },
           {
            "args": [
             [
              "2019-12"
             ],
             {
              "frame": {
               "duration": 1000,
               "redraw": false
              },
              "mode": "immediate",
              "transition": {
               "duration": 1000
              }
             }
            ],
            "label": "2019-12",
            "method": "animate"
           },
           {
            "args": [
             [
              "2020-01"
             ],
             {
              "frame": {
               "duration": 1000,
               "redraw": false
              },
              "mode": "immediate",
              "transition": {
               "duration": 1000
              }
             }
            ],
            "label": "2020-01",
            "method": "animate"
           },
           {
            "args": [
             [
              "2020-02"
             ],
             {
              "frame": {
               "duration": 1000,
               "redraw": false
              },
              "mode": "immediate",
              "transition": {
               "duration": 1000
              }
             }
            ],
            "label": "2020-02",
            "method": "animate"
           },
           {
            "args": [
             [
              "2020-03"
             ],
             {
              "frame": {
               "duration": 1000,
               "redraw": false
              },
              "mode": "immediate",
              "transition": {
               "duration": 1000
              }
             }
            ],
            "label": "2020-03",
            "method": "animate"
           },
           {
            "args": [
             [
              "2020-04"
             ],
             {
              "frame": {
               "duration": 1000,
               "redraw": false
              },
              "mode": "immediate",
              "transition": {
               "duration": 1000
              }
             }
            ],
            "label": "2020-04",
            "method": "animate"
           },
           {
            "args": [
             [
              "2020-05"
             ],
             {
              "frame": {
               "duration": 1000,
               "redraw": false
              },
              "mode": "immediate",
              "transition": {
               "duration": 1000
              }
             }
            ],
            "label": "2020-05",
            "method": "animate"
           },
           {
            "args": [
             [
              "2020-06"
             ],
             {
              "frame": {
               "duration": 1000,
               "redraw": false
              },
              "mode": "immediate",
              "transition": {
               "duration": 1000
              }
             }
            ],
            "label": "2020-06",
            "method": "animate"
           },
           {
            "args": [
             [
              "2020-07"
             ],
             {
              "frame": {
               "duration": 1000,
               "redraw": false
              },
              "mode": "immediate",
              "transition": {
               "duration": 1000
              }
             }
            ],
            "label": "2020-07",
            "method": "animate"
           },
           {
            "args": [
             [
              "2020-08"
             ],
             {
              "frame": {
               "duration": 1000,
               "redraw": false
              },
              "mode": "immediate",
              "transition": {
               "duration": 1000
              }
             }
            ],
            "label": "2020-08",
            "method": "animate"
           },
           {
            "args": [
             [
              "2020-09"
             ],
             {
              "frame": {
               "duration": 1000,
               "redraw": false
              },
              "mode": "immediate",
              "transition": {
               "duration": 1000
              }
             }
            ],
            "label": "2020-09",
            "method": "animate"
           },
           {
            "args": [
             [
              "2020-10"
             ],
             {
              "frame": {
               "duration": 1000,
               "redraw": false
              },
              "mode": "immediate",
              "transition": {
               "duration": 1000
              }
             }
            ],
            "label": "2020-10",
            "method": "animate"
           },
           {
            "args": [
             [
              "2020-11"
             ],
             {
              "frame": {
               "duration": 1000,
               "redraw": false
              },
              "mode": "immediate",
              "transition": {
               "duration": 1000
              }
             }
            ],
            "label": "2020-11",
            "method": "animate"
           },
           {
            "args": [
             [
              "2020-12"
             ],
             {
              "frame": {
               "duration": 1000,
               "redraw": false
              },
              "mode": "immediate",
              "transition": {
               "duration": 1000
              }
             }
            ],
            "label": "2020-12",
            "method": "animate"
           },
           {
            "args": [
             [
              "2021-01"
             ],
             {
              "frame": {
               "duration": 1000,
               "redraw": false
              },
              "mode": "immediate",
              "transition": {
               "duration": 1000
              }
             }
            ],
            "label": "2021-01",
            "method": "animate"
           },
           {
            "args": [
             [
              "2021-02"
             ],
             {
              "frame": {
               "duration": 1000,
               "redraw": false
              },
              "mode": "immediate",
              "transition": {
               "duration": 1000
              }
             }
            ],
            "label": "2021-02",
            "method": "animate"
           },
           {
            "args": [
             [
              "2021-03"
             ],
             {
              "frame": {
               "duration": 1000,
               "redraw": false
              },
              "mode": "immediate",
              "transition": {
               "duration": 1000
              }
             }
            ],
            "label": "2021-03",
            "method": "animate"
           },
           {
            "args": [
             [
              "2021-04"
             ],
             {
              "frame": {
               "duration": 1000,
               "redraw": false
              },
              "mode": "immediate",
              "transition": {
               "duration": 1000
              }
             }
            ],
            "label": "2021-04",
            "method": "animate"
           },
           {
            "args": [
             [
              "2021-05"
             ],
             {
              "frame": {
               "duration": 1000,
               "redraw": false
              },
              "mode": "immediate",
              "transition": {
               "duration": 1000
              }
             }
            ],
            "label": "2021-05",
            "method": "animate"
           },
           {
            "args": [
             [
              "2021-06"
             ],
             {
              "frame": {
               "duration": 1000,
               "redraw": false
              },
              "mode": "immediate",
              "transition": {
               "duration": 1000
              }
             }
            ],
            "label": "2021-06",
            "method": "animate"
           },
           {
            "args": [
             [
              "2021-07"
             ],
             {
              "frame": {
               "duration": 1000,
               "redraw": false
              },
              "mode": "immediate",
              "transition": {
               "duration": 1000
              }
             }
            ],
            "label": "2021-07",
            "method": "animate"
           },
           {
            "args": [
             [
              "2021-08"
             ],
             {
              "frame": {
               "duration": 1000,
               "redraw": false
              },
              "mode": "immediate",
              "transition": {
               "duration": 1000
              }
             }
            ],
            "label": "2021-08",
            "method": "animate"
           },
           {
            "args": [
             [
              "2021-09"
             ],
             {
              "frame": {
               "duration": 1000,
               "redraw": false
              },
              "mode": "immediate",
              "transition": {
               "duration": 1000
              }
             }
            ],
            "label": "2021-09",
            "method": "animate"
           }
          ],
          "transition": {
           "duration": 300,
           "easing": "cubic-in-out"
          },
          "x": 0.1,
          "xanchor": "left",
          "y": 0,
          "yanchor": "top"
         }
        ],
        "template": {
         "data": {
          "bar": [
           {
            "error_x": {
             "color": "#2a3f5f"
            },
            "error_y": {
             "color": "#2a3f5f"
            },
            "marker": {
             "line": {
              "color": "#E5ECF6",
              "width": 0.5
             }
            },
            "type": "bar"
           }
          ],
          "barpolar": [
           {
            "marker": {
             "line": {
              "color": "#E5ECF6",
              "width": 0.5
             }
            },
            "type": "barpolar"
           }
          ],
          "carpet": [
           {
            "aaxis": {
             "endlinecolor": "#2a3f5f",
             "gridcolor": "white",
             "linecolor": "white",
             "minorgridcolor": "white",
             "startlinecolor": "#2a3f5f"
            },
            "baxis": {
             "endlinecolor": "#2a3f5f",
             "gridcolor": "white",
             "linecolor": "white",
             "minorgridcolor": "white",
             "startlinecolor": "#2a3f5f"
            },
            "type": "carpet"
           }
          ],
          "choropleth": [
           {
            "colorbar": {
             "outlinewidth": 0,
             "ticks": ""
            },
            "type": "choropleth"
           }
          ],
          "contour": [
           {
            "colorbar": {
             "outlinewidth": 0,
             "ticks": ""
            },
            "colorscale": [
             [
              0,
              "#0d0887"
             ],
             [
              0.1111111111111111,
              "#46039f"
             ],
             [
              0.2222222222222222,
              "#7201a8"
             ],
             [
              0.3333333333333333,
              "#9c179e"
             ],
             [
              0.4444444444444444,
              "#bd3786"
             ],
             [
              0.5555555555555556,
              "#d8576b"
             ],
             [
              0.6666666666666666,
              "#ed7953"
             ],
             [
              0.7777777777777778,
              "#fb9f3a"
             ],
             [
              0.8888888888888888,
              "#fdca26"
             ],
             [
              1,
              "#f0f921"
             ]
            ],
            "type": "contour"
           }
          ],
          "contourcarpet": [
           {
            "colorbar": {
             "outlinewidth": 0,
             "ticks": ""
            },
            "type": "contourcarpet"
           }
          ],
          "heatmap": [
           {
            "colorbar": {
             "outlinewidth": 0,
             "ticks": ""
            },
            "colorscale": [
             [
              0,
              "#0d0887"
             ],
             [
              0.1111111111111111,
              "#46039f"
             ],
             [
              0.2222222222222222,
              "#7201a8"
             ],
             [
              0.3333333333333333,
              "#9c179e"
             ],
             [
              0.4444444444444444,
              "#bd3786"
             ],
             [
              0.5555555555555556,
              "#d8576b"
             ],
             [
              0.6666666666666666,
              "#ed7953"
             ],
             [
              0.7777777777777778,
              "#fb9f3a"
             ],
             [
              0.8888888888888888,
              "#fdca26"
             ],
             [
              1,
              "#f0f921"
             ]
            ],
            "type": "heatmap"
           }
          ],
          "heatmapgl": [
           {
            "colorbar": {
             "outlinewidth": 0,
             "ticks": ""
            },
            "colorscale": [
             [
              0,
              "#0d0887"
             ],
             [
              0.1111111111111111,
              "#46039f"
             ],
             [
              0.2222222222222222,
              "#7201a8"
             ],
             [
              0.3333333333333333,
              "#9c179e"
             ],
             [
              0.4444444444444444,
              "#bd3786"
             ],
             [
              0.5555555555555556,
              "#d8576b"
             ],
             [
              0.6666666666666666,
              "#ed7953"
             ],
             [
              0.7777777777777778,
              "#fb9f3a"
             ],
             [
              0.8888888888888888,
              "#fdca26"
             ],
             [
              1,
              "#f0f921"
             ]
            ],
            "type": "heatmapgl"
           }
          ],
          "histogram": [
           {
            "marker": {
             "colorbar": {
              "outlinewidth": 0,
              "ticks": ""
             }
            },
            "type": "histogram"
           }
          ],
          "histogram2d": [
           {
            "colorbar": {
             "outlinewidth": 0,
             "ticks": ""
            },
            "colorscale": [
             [
              0,
              "#0d0887"
             ],
             [
              0.1111111111111111,
              "#46039f"
             ],
             [
              0.2222222222222222,
              "#7201a8"
             ],
             [
              0.3333333333333333,
              "#9c179e"
             ],
             [
              0.4444444444444444,
              "#bd3786"
             ],
             [
              0.5555555555555556,
              "#d8576b"
             ],
             [
              0.6666666666666666,
              "#ed7953"
             ],
             [
              0.7777777777777778,
              "#fb9f3a"
             ],
             [
              0.8888888888888888,
              "#fdca26"
             ],
             [
              1,
              "#f0f921"
             ]
            ],
            "type": "histogram2d"
           }
          ],
          "histogram2dcontour": [
           {
            "colorbar": {
             "outlinewidth": 0,
             "ticks": ""
            },
            "colorscale": [
             [
              0,
              "#0d0887"
             ],
             [
              0.1111111111111111,
              "#46039f"
             ],
             [
              0.2222222222222222,
              "#7201a8"
             ],
             [
              0.3333333333333333,
              "#9c179e"
             ],
             [
              0.4444444444444444,
              "#bd3786"
             ],
             [
              0.5555555555555556,
              "#d8576b"
             ],
             [
              0.6666666666666666,
              "#ed7953"
             ],
             [
              0.7777777777777778,
              "#fb9f3a"
             ],
             [
              0.8888888888888888,
              "#fdca26"
             ],
             [
              1,
              "#f0f921"
             ]
            ],
            "type": "histogram2dcontour"
           }
          ],
          "mesh3d": [
           {
            "colorbar": {
             "outlinewidth": 0,
             "ticks": ""
            },
            "type": "mesh3d"
           }
          ],
          "parcoords": [
           {
            "line": {
             "colorbar": {
              "outlinewidth": 0,
              "ticks": ""
             }
            },
            "type": "parcoords"
           }
          ],
          "pie": [
           {
            "automargin": true,
            "type": "pie"
           }
          ],
          "scatter": [
           {
            "marker": {
             "colorbar": {
              "outlinewidth": 0,
              "ticks": ""
             }
            },
            "type": "scatter"
           }
          ],
          "scatter3d": [
           {
            "line": {
             "colorbar": {
              "outlinewidth": 0,
              "ticks": ""
             }
            },
            "marker": {
             "colorbar": {
              "outlinewidth": 0,
              "ticks": ""
             }
            },
            "type": "scatter3d"
           }
          ],
          "scattercarpet": [
           {
            "marker": {
             "colorbar": {
              "outlinewidth": 0,
              "ticks": ""
             }
            },
            "type": "scattercarpet"
           }
          ],
          "scattergeo": [
           {
            "marker": {
             "colorbar": {
              "outlinewidth": 0,
              "ticks": ""
             }
            },
            "type": "scattergeo"
           }
          ],
          "scattergl": [
           {
            "marker": {
             "colorbar": {
              "outlinewidth": 0,
              "ticks": ""
             }
            },
            "type": "scattergl"
           }
          ],
          "scattermapbox": [
           {
            "marker": {
             "colorbar": {
              "outlinewidth": 0,
              "ticks": ""
             }
            },
            "type": "scattermapbox"
           }
          ],
          "scatterpolar": [
           {
            "marker": {
             "colorbar": {
              "outlinewidth": 0,
              "ticks": ""
             }
            },
            "type": "scatterpolar"
           }
          ],
          "scatterpolargl": [
           {
            "marker": {
             "colorbar": {
              "outlinewidth": 0,
              "ticks": ""
             }
            },
            "type": "scatterpolargl"
           }
          ],
          "scatterternary": [
           {
            "marker": {
             "colorbar": {
              "outlinewidth": 0,
              "ticks": ""
             }
            },
            "type": "scatterternary"
           }
          ],
          "surface": [
           {
            "colorbar": {
             "outlinewidth": 0,
             "ticks": ""
            },
            "colorscale": [
             [
              0,
              "#0d0887"
             ],
             [
              0.1111111111111111,
              "#46039f"
             ],
             [
              0.2222222222222222,
              "#7201a8"
             ],
             [
              0.3333333333333333,
              "#9c179e"
             ],
             [
              0.4444444444444444,
              "#bd3786"
             ],
             [
              0.5555555555555556,
              "#d8576b"
             ],
             [
              0.6666666666666666,
              "#ed7953"
             ],
             [
              0.7777777777777778,
              "#fb9f3a"
             ],
             [
              0.8888888888888888,
              "#fdca26"
             ],
             [
              1,
              "#f0f921"
             ]
            ],
            "type": "surface"
           }
          ],
          "table": [
           {
            "cells": {
             "fill": {
              "color": "#EBF0F8"
             },
             "line": {
              "color": "white"
             }
            },
            "header": {
             "fill": {
              "color": "#C8D4E3"
             },
             "line": {
              "color": "white"
             }
            },
            "type": "table"
           }
          ]
         },
         "layout": {
          "annotationdefaults": {
           "arrowcolor": "#2a3f5f",
           "arrowhead": 0,
           "arrowwidth": 1
          },
          "coloraxis": {
           "colorbar": {
            "outlinewidth": 0,
            "ticks": ""
           }
          },
          "colorscale": {
           "diverging": [
            [
             0,
             "#8e0152"
            ],
            [
             0.1,
             "#c51b7d"
            ],
            [
             0.2,
             "#de77ae"
            ],
            [
             0.3,
             "#f1b6da"
            ],
            [
             0.4,
             "#fde0ef"
            ],
            [
             0.5,
             "#f7f7f7"
            ],
            [
             0.6,
             "#e6f5d0"
            ],
            [
             0.7,
             "#b8e186"
            ],
            [
             0.8,
             "#7fbc41"
            ],
            [
             0.9,
             "#4d9221"
            ],
            [
             1,
             "#276419"
            ]
           ],
           "sequential": [
            [
             0,
             "#0d0887"
            ],
            [
             0.1111111111111111,
             "#46039f"
            ],
            [
             0.2222222222222222,
             "#7201a8"
            ],
            [
             0.3333333333333333,
             "#9c179e"
            ],
            [
             0.4444444444444444,
             "#bd3786"
            ],
            [
             0.5555555555555556,
             "#d8576b"
            ],
            [
             0.6666666666666666,
             "#ed7953"
            ],
            [
             0.7777777777777778,
             "#fb9f3a"
            ],
            [
             0.8888888888888888,
             "#fdca26"
            ],
            [
             1,
             "#f0f921"
            ]
           ],
           "sequentialminus": [
            [
             0,
             "#0d0887"
            ],
            [
             0.1111111111111111,
             "#46039f"
            ],
            [
             0.2222222222222222,
             "#7201a8"
            ],
            [
             0.3333333333333333,
             "#9c179e"
            ],
            [
             0.4444444444444444,
             "#bd3786"
            ],
            [
             0.5555555555555556,
             "#d8576b"
            ],
            [
             0.6666666666666666,
             "#ed7953"
            ],
            [
             0.7777777777777778,
             "#fb9f3a"
            ],
            [
             0.8888888888888888,
             "#fdca26"
            ],
            [
             1,
             "#f0f921"
            ]
           ]
          },
          "colorway": [
           "#636efa",
           "#EF553B",
           "#00cc96",
           "#ab63fa",
           "#FFA15A",
           "#19d3f3",
           "#FF6692",
           "#B6E880",
           "#FF97FF",
           "#FECB52"
          ],
          "font": {
           "color": "#2a3f5f"
          },
          "geo": {
           "bgcolor": "white",
           "lakecolor": "white",
           "landcolor": "#E5ECF6",
           "showlakes": true,
           "showland": true,
           "subunitcolor": "white"
          },
          "hoverlabel": {
           "align": "left"
          },
          "hovermode": "closest",
          "mapbox": {
           "style": "light"
          },
          "paper_bgcolor": "white",
          "plot_bgcolor": "#E5ECF6",
          "polar": {
           "angularaxis": {
            "gridcolor": "white",
            "linecolor": "white",
            "ticks": ""
           },
           "bgcolor": "#E5ECF6",
           "radialaxis": {
            "gridcolor": "white",
            "linecolor": "white",
            "ticks": ""
           }
          },
          "scene": {
           "xaxis": {
            "backgroundcolor": "#E5ECF6",
            "gridcolor": "white",
            "gridwidth": 2,
            "linecolor": "white",
            "showbackground": true,
            "ticks": "",
            "zerolinecolor": "white"
           },
           "yaxis": {
            "backgroundcolor": "#E5ECF6",
            "gridcolor": "white",
            "gridwidth": 2,
            "linecolor": "white",
            "showbackground": true,
            "ticks": "",
            "zerolinecolor": "white"
           },
           "zaxis": {
            "backgroundcolor": "#E5ECF6",
            "gridcolor": "white",
            "gridwidth": 2,
            "linecolor": "white",
            "showbackground": true,
            "ticks": "",
            "zerolinecolor": "white"
           }
          },
          "shapedefaults": {
           "line": {
            "color": "#2a3f5f"
           }
          },
          "ternary": {
           "aaxis": {
            "gridcolor": "white",
            "linecolor": "white",
            "ticks": ""
           },
           "baxis": {
            "gridcolor": "white",
            "linecolor": "white",
            "ticks": ""
           },
           "bgcolor": "#E5ECF6",
           "caxis": {
            "gridcolor": "white",
            "linecolor": "white",
            "ticks": ""
           }
          },
          "title": {
           "x": 0.05
          },
          "xaxis": {
           "automargin": true,
           "gridcolor": "white",
           "linecolor": "white",
           "ticks": "",
           "title": {
            "standoff": 15
           },
           "zerolinecolor": "white",
           "zerolinewidth": 2
          },
          "yaxis": {
           "automargin": true,
           "gridcolor": "white",
           "linecolor": "white",
           "ticks": "",
           "title": {
            "standoff": 15
           },
           "zerolinecolor": "white",
           "zerolinewidth": 2
          }
         }
        },
        "title": {
         "text": "Top 10 Crops from 1961 to 2018"
        },
        "updatemenus": [
         {
          "buttons": [
           {
            "args": [
             null,
             {
              "frame": {
               "duration": 1000,
               "redraw": false
              },
              "fromcurrent": true,
              "transition": {
               "duration": 1000,
               "easing": "quadratic-in-out"
              }
             }
            ],
            "label": "Play",
            "method": "animate"
           },
           {
            "args": [
             [
              null
             ],
             {
              "frame": {
               "duration": 0,
               "redraw": false
              },
              "mode": "immediate",
              "transition": {
               "duration": 0
              }
             }
            ],
            "label": "Pause",
            "method": "animate"
           }
          ],
          "direction": "left",
          "pad": {
           "r": 10,
           "t": 87
          },
          "showactive": true,
          "type": "buttons",
          "x": 0.1,
          "xanchor": "right",
          "y": 0,
          "yanchor": "top"
         }
        ],
        "xaxis": {
         "range": [
          0,
          19140904.48049999
         ],
         "showline": true,
         "showticklabels": true,
         "title": {
          "text": "Production quantity (tonnes)"
         },
         "visible": true
        },
        "yaxis": {
         "showline": false,
         "showticklabels": false,
         "title": {
          "text": "Top 10 crops"
         },
         "visible": true
        }
       }
      },
      "text/html": [
       "<div>                            <div id=\"9c9445ba-21f0-44a0-a02e-c37e580d434c\" class=\"plotly-graph-div\" style=\"height:525px; width:100%;\"></div>            <script type=\"text/javascript\">                require([\"plotly\"], function(Plotly) {                    window.PLOTLYENV=window.PLOTLYENV || {};                                    if (document.getElementById(\"9c9445ba-21f0-44a0-a02e-c37e580d434c\")) {                    Plotly.newPlot(                        \"9c9445ba-21f0-44a0-a02e-c37e580d434c\",                        [{\"cliponaxis\": false, \"hoverinfo\": \"all\", \"marker\": {\"color\": [\"rgb(72, 100, 154)\"]}, \"orientation\": \"h\", \"textangle\": 0, \"textposition\": \"outside\", \"texttemplate\": \"%{y}<br>%{x:.4s}\", \"type\": \"bar\", \"x\": [1698011.0155100005], \"y\": [\"LF OEM\"]}],                        {\"bargap\": 0.15, \"font\": {\"size\": 14}, \"plot_bgcolor\": \"#FFFFFF\", \"sliders\": [{\"active\": 0, \"currentvalue\": {\"font\": {\"size\": 20}, \"prefix\": \"Date: \", \"visible\": true, \"xanchor\": \"right\"}, \"len\": 0.9, \"pad\": {\"b\": 10, \"t\": 50}, \"steps\": [{\"args\": [[\"2019-01\"], {\"frame\": {\"duration\": 1000, \"redraw\": false}, \"mode\": \"immediate\", \"transition\": {\"duration\": 1000}}], \"label\": \"2019-01\", \"method\": \"animate\"}, {\"args\": [[\"2019-02\"], {\"frame\": {\"duration\": 1000, \"redraw\": false}, \"mode\": \"immediate\", \"transition\": {\"duration\": 1000}}], \"label\": \"2019-02\", \"method\": \"animate\"}, {\"args\": [[\"2019-03\"], {\"frame\": {\"duration\": 1000, \"redraw\": false}, \"mode\": \"immediate\", \"transition\": {\"duration\": 1000}}], \"label\": \"2019-03\", \"method\": \"animate\"}, {\"args\": [[\"2019-04\"], {\"frame\": {\"duration\": 1000, \"redraw\": false}, \"mode\": \"immediate\", \"transition\": {\"duration\": 1000}}], \"label\": \"2019-04\", \"method\": \"animate\"}, {\"args\": [[\"2019-05\"], {\"frame\": {\"duration\": 1000, \"redraw\": false}, \"mode\": \"immediate\", \"transition\": {\"duration\": 1000}}], \"label\": \"2019-05\", \"method\": \"animate\"}, {\"args\": [[\"2019-06\"], {\"frame\": {\"duration\": 1000, \"redraw\": false}, \"mode\": \"immediate\", \"transition\": {\"duration\": 1000}}], \"label\": \"2019-06\", \"method\": \"animate\"}, {\"args\": [[\"2019-07\"], {\"frame\": {\"duration\": 1000, \"redraw\": false}, \"mode\": \"immediate\", \"transition\": {\"duration\": 1000}}], \"label\": \"2019-07\", \"method\": \"animate\"}, {\"args\": [[\"2019-08\"], {\"frame\": {\"duration\": 1000, \"redraw\": false}, \"mode\": \"immediate\", \"transition\": {\"duration\": 1000}}], \"label\": \"2019-08\", \"method\": \"animate\"}, {\"args\": [[\"2019-09\"], {\"frame\": {\"duration\": 1000, \"redraw\": false}, \"mode\": \"immediate\", \"transition\": {\"duration\": 1000}}], \"label\": \"2019-09\", \"method\": \"animate\"}, {\"args\": [[\"2019-10\"], {\"frame\": {\"duration\": 1000, \"redraw\": false}, \"mode\": \"immediate\", \"transition\": {\"duration\": 1000}}], \"label\": \"2019-10\", \"method\": \"animate\"}, {\"args\": [[\"2019-11\"], {\"frame\": {\"duration\": 1000, \"redraw\": false}, \"mode\": \"immediate\", \"transition\": {\"duration\": 1000}}], \"label\": \"2019-11\", \"method\": \"animate\"}, {\"args\": [[\"2019-12\"], {\"frame\": {\"duration\": 1000, \"redraw\": false}, \"mode\": \"immediate\", \"transition\": {\"duration\": 1000}}], \"label\": \"2019-12\", \"method\": \"animate\"}, {\"args\": [[\"2020-01\"], {\"frame\": {\"duration\": 1000, \"redraw\": false}, \"mode\": \"immediate\", \"transition\": {\"duration\": 1000}}], \"label\": \"2020-01\", \"method\": \"animate\"}, {\"args\": [[\"2020-02\"], {\"frame\": {\"duration\": 1000, \"redraw\": false}, \"mode\": \"immediate\", \"transition\": {\"duration\": 1000}}], \"label\": \"2020-02\", \"method\": \"animate\"}, {\"args\": [[\"2020-03\"], {\"frame\": {\"duration\": 1000, \"redraw\": false}, \"mode\": \"immediate\", \"transition\": {\"duration\": 1000}}], \"label\": \"2020-03\", \"method\": \"animate\"}, {\"args\": [[\"2020-04\"], {\"frame\": {\"duration\": 1000, \"redraw\": false}, \"mode\": \"immediate\", \"transition\": {\"duration\": 1000}}], \"label\": \"2020-04\", \"method\": \"animate\"}, {\"args\": [[\"2020-05\"], {\"frame\": {\"duration\": 1000, \"redraw\": false}, \"mode\": \"immediate\", \"transition\": {\"duration\": 1000}}], \"label\": \"2020-05\", \"method\": \"animate\"}, {\"args\": [[\"2020-06\"], {\"frame\": {\"duration\": 1000, \"redraw\": false}, \"mode\": \"immediate\", \"transition\": {\"duration\": 1000}}], \"label\": \"2020-06\", \"method\": \"animate\"}, {\"args\": [[\"2020-07\"], {\"frame\": {\"duration\": 1000, \"redraw\": false}, \"mode\": \"immediate\", \"transition\": {\"duration\": 1000}}], \"label\": \"2020-07\", \"method\": \"animate\"}, {\"args\": [[\"2020-08\"], {\"frame\": {\"duration\": 1000, \"redraw\": false}, \"mode\": \"immediate\", \"transition\": {\"duration\": 1000}}], \"label\": \"2020-08\", \"method\": \"animate\"}, {\"args\": [[\"2020-09\"], {\"frame\": {\"duration\": 1000, \"redraw\": false}, \"mode\": \"immediate\", \"transition\": {\"duration\": 1000}}], \"label\": \"2020-09\", \"method\": \"animate\"}, {\"args\": [[\"2020-10\"], {\"frame\": {\"duration\": 1000, \"redraw\": false}, \"mode\": \"immediate\", \"transition\": {\"duration\": 1000}}], \"label\": \"2020-10\", \"method\": \"animate\"}, {\"args\": [[\"2020-11\"], {\"frame\": {\"duration\": 1000, \"redraw\": false}, \"mode\": \"immediate\", \"transition\": {\"duration\": 1000}}], \"label\": \"2020-11\", \"method\": \"animate\"}, {\"args\": [[\"2020-12\"], {\"frame\": {\"duration\": 1000, \"redraw\": false}, \"mode\": \"immediate\", \"transition\": {\"duration\": 1000}}], \"label\": \"2020-12\", \"method\": \"animate\"}, {\"args\": [[\"2021-01\"], {\"frame\": {\"duration\": 1000, \"redraw\": false}, \"mode\": \"immediate\", \"transition\": {\"duration\": 1000}}], \"label\": \"2021-01\", \"method\": \"animate\"}, {\"args\": [[\"2021-02\"], {\"frame\": {\"duration\": 1000, \"redraw\": false}, \"mode\": \"immediate\", \"transition\": {\"duration\": 1000}}], \"label\": \"2021-02\", \"method\": \"animate\"}, {\"args\": [[\"2021-03\"], {\"frame\": {\"duration\": 1000, \"redraw\": false}, \"mode\": \"immediate\", \"transition\": {\"duration\": 1000}}], \"label\": \"2021-03\", \"method\": \"animate\"}, {\"args\": [[\"2021-04\"], {\"frame\": {\"duration\": 1000, \"redraw\": false}, \"mode\": \"immediate\", \"transition\": {\"duration\": 1000}}], \"label\": \"2021-04\", \"method\": \"animate\"}, {\"args\": [[\"2021-05\"], {\"frame\": {\"duration\": 1000, \"redraw\": false}, \"mode\": \"immediate\", \"transition\": {\"duration\": 1000}}], \"label\": \"2021-05\", \"method\": \"animate\"}, {\"args\": [[\"2021-06\"], {\"frame\": {\"duration\": 1000, \"redraw\": false}, \"mode\": \"immediate\", \"transition\": {\"duration\": 1000}}], \"label\": \"2021-06\", \"method\": \"animate\"}, {\"args\": [[\"2021-07\"], {\"frame\": {\"duration\": 1000, \"redraw\": false}, \"mode\": \"immediate\", \"transition\": {\"duration\": 1000}}], \"label\": \"2021-07\", \"method\": \"animate\"}, {\"args\": [[\"2021-08\"], {\"frame\": {\"duration\": 1000, \"redraw\": false}, \"mode\": \"immediate\", \"transition\": {\"duration\": 1000}}], \"label\": \"2021-08\", \"method\": \"animate\"}, {\"args\": [[\"2021-09\"], {\"frame\": {\"duration\": 1000, \"redraw\": false}, \"mode\": \"immediate\", \"transition\": {\"duration\": 1000}}], \"label\": \"2021-09\", \"method\": \"animate\"}], \"transition\": {\"duration\": 300, \"easing\": \"cubic-in-out\"}, \"x\": 0.1, \"xanchor\": \"left\", \"y\": 0, \"yanchor\": \"top\"}], \"template\": {\"data\": {\"bar\": [{\"error_x\": {\"color\": \"#2a3f5f\"}, \"error_y\": {\"color\": \"#2a3f5f\"}, \"marker\": {\"line\": {\"color\": \"#E5ECF6\", \"width\": 0.5}}, \"type\": \"bar\"}], \"barpolar\": [{\"marker\": {\"line\": {\"color\": \"#E5ECF6\", \"width\": 0.5}}, \"type\": \"barpolar\"}], \"carpet\": [{\"aaxis\": {\"endlinecolor\": \"#2a3f5f\", \"gridcolor\": \"white\", \"linecolor\": \"white\", \"minorgridcolor\": \"white\", \"startlinecolor\": \"#2a3f5f\"}, \"baxis\": {\"endlinecolor\": \"#2a3f5f\", \"gridcolor\": \"white\", \"linecolor\": \"white\", \"minorgridcolor\": \"white\", \"startlinecolor\": \"#2a3f5f\"}, \"type\": \"carpet\"}], \"choropleth\": [{\"colorbar\": {\"outlinewidth\": 0, \"ticks\": \"\"}, \"type\": \"choropleth\"}], \"contour\": [{\"colorbar\": {\"outlinewidth\": 0, \"ticks\": \"\"}, \"colorscale\": [[0.0, \"#0d0887\"], [0.1111111111111111, \"#46039f\"], [0.2222222222222222, \"#7201a8\"], [0.3333333333333333, \"#9c179e\"], [0.4444444444444444, \"#bd3786\"], [0.5555555555555556, \"#d8576b\"], [0.6666666666666666, \"#ed7953\"], [0.7777777777777778, \"#fb9f3a\"], [0.8888888888888888, \"#fdca26\"], [1.0, \"#f0f921\"]], \"type\": \"contour\"}], \"contourcarpet\": [{\"colorbar\": {\"outlinewidth\": 0, \"ticks\": \"\"}, \"type\": \"contourcarpet\"}], \"heatmap\": [{\"colorbar\": {\"outlinewidth\": 0, \"ticks\": \"\"}, \"colorscale\": [[0.0, \"#0d0887\"], [0.1111111111111111, \"#46039f\"], [0.2222222222222222, \"#7201a8\"], [0.3333333333333333, \"#9c179e\"], [0.4444444444444444, \"#bd3786\"], [0.5555555555555556, \"#d8576b\"], [0.6666666666666666, \"#ed7953\"], [0.7777777777777778, \"#fb9f3a\"], [0.8888888888888888, \"#fdca26\"], [1.0, \"#f0f921\"]], \"type\": \"heatmap\"}], \"heatmapgl\": [{\"colorbar\": {\"outlinewidth\": 0, \"ticks\": \"\"}, \"colorscale\": [[0.0, \"#0d0887\"], [0.1111111111111111, \"#46039f\"], [0.2222222222222222, \"#7201a8\"], [0.3333333333333333, \"#9c179e\"], [0.4444444444444444, \"#bd3786\"], [0.5555555555555556, \"#d8576b\"], [0.6666666666666666, \"#ed7953\"], [0.7777777777777778, \"#fb9f3a\"], [0.8888888888888888, \"#fdca26\"], [1.0, \"#f0f921\"]], \"type\": \"heatmapgl\"}], \"histogram\": [{\"marker\": {\"colorbar\": {\"outlinewidth\": 0, \"ticks\": \"\"}}, \"type\": \"histogram\"}], \"histogram2d\": [{\"colorbar\": {\"outlinewidth\": 0, \"ticks\": \"\"}, \"colorscale\": [[0.0, \"#0d0887\"], [0.1111111111111111, \"#46039f\"], [0.2222222222222222, \"#7201a8\"], [0.3333333333333333, \"#9c179e\"], [0.4444444444444444, \"#bd3786\"], [0.5555555555555556, \"#d8576b\"], [0.6666666666666666, \"#ed7953\"], [0.7777777777777778, \"#fb9f3a\"], [0.8888888888888888, \"#fdca26\"], [1.0, \"#f0f921\"]], \"type\": \"histogram2d\"}], \"histogram2dcontour\": [{\"colorbar\": {\"outlinewidth\": 0, \"ticks\": \"\"}, \"colorscale\": [[0.0, \"#0d0887\"], [0.1111111111111111, \"#46039f\"], [0.2222222222222222, \"#7201a8\"], [0.3333333333333333, \"#9c179e\"], [0.4444444444444444, \"#bd3786\"], [0.5555555555555556, \"#d8576b\"], [0.6666666666666666, \"#ed7953\"], [0.7777777777777778, \"#fb9f3a\"], [0.8888888888888888, \"#fdca26\"], [1.0, \"#f0f921\"]], \"type\": \"histogram2dcontour\"}], \"mesh3d\": [{\"colorbar\": {\"outlinewidth\": 0, \"ticks\": \"\"}, \"type\": \"mesh3d\"}], \"parcoords\": [{\"line\": {\"colorbar\": {\"outlinewidth\": 0, \"ticks\": \"\"}}, \"type\": \"parcoords\"}], \"pie\": [{\"automargin\": true, \"type\": \"pie\"}], \"scatter\": [{\"marker\": {\"colorbar\": {\"outlinewidth\": 0, \"ticks\": \"\"}}, \"type\": \"scatter\"}], \"scatter3d\": [{\"line\": {\"colorbar\": {\"outlinewidth\": 0, \"ticks\": \"\"}}, \"marker\": {\"colorbar\": {\"outlinewidth\": 0, \"ticks\": \"\"}}, \"type\": \"scatter3d\"}], \"scattercarpet\": [{\"marker\": {\"colorbar\": {\"outlinewidth\": 0, \"ticks\": \"\"}}, \"type\": \"scattercarpet\"}], \"scattergeo\": [{\"marker\": {\"colorbar\": {\"outlinewidth\": 0, \"ticks\": \"\"}}, \"type\": \"scattergeo\"}], \"scattergl\": [{\"marker\": {\"colorbar\": {\"outlinewidth\": 0, \"ticks\": \"\"}}, \"type\": \"scattergl\"}], \"scattermapbox\": [{\"marker\": {\"colorbar\": {\"outlinewidth\": 0, \"ticks\": \"\"}}, \"type\": \"scattermapbox\"}], \"scatterpolar\": [{\"marker\": {\"colorbar\": {\"outlinewidth\": 0, \"ticks\": \"\"}}, \"type\": \"scatterpolar\"}], \"scatterpolargl\": [{\"marker\": {\"colorbar\": {\"outlinewidth\": 0, \"ticks\": \"\"}}, \"type\": \"scatterpolargl\"}], \"scatterternary\": [{\"marker\": {\"colorbar\": {\"outlinewidth\": 0, \"ticks\": \"\"}}, \"type\": \"scatterternary\"}], \"surface\": [{\"colorbar\": {\"outlinewidth\": 0, \"ticks\": \"\"}, \"colorscale\": [[0.0, \"#0d0887\"], [0.1111111111111111, \"#46039f\"], [0.2222222222222222, \"#7201a8\"], [0.3333333333333333, \"#9c179e\"], [0.4444444444444444, \"#bd3786\"], [0.5555555555555556, \"#d8576b\"], [0.6666666666666666, \"#ed7953\"], [0.7777777777777778, \"#fb9f3a\"], [0.8888888888888888, \"#fdca26\"], [1.0, \"#f0f921\"]], \"type\": \"surface\"}], \"table\": [{\"cells\": {\"fill\": {\"color\": \"#EBF0F8\"}, \"line\": {\"color\": \"white\"}}, \"header\": {\"fill\": {\"color\": \"#C8D4E3\"}, \"line\": {\"color\": \"white\"}}, \"type\": \"table\"}]}, \"layout\": {\"annotationdefaults\": {\"arrowcolor\": \"#2a3f5f\", \"arrowhead\": 0, \"arrowwidth\": 1}, \"coloraxis\": {\"colorbar\": {\"outlinewidth\": 0, \"ticks\": \"\"}}, \"colorscale\": {\"diverging\": [[0, \"#8e0152\"], [0.1, \"#c51b7d\"], [0.2, \"#de77ae\"], [0.3, \"#f1b6da\"], [0.4, \"#fde0ef\"], [0.5, \"#f7f7f7\"], [0.6, \"#e6f5d0\"], [0.7, \"#b8e186\"], [0.8, \"#7fbc41\"], [0.9, \"#4d9221\"], [1, \"#276419\"]], \"sequential\": [[0.0, \"#0d0887\"], [0.1111111111111111, \"#46039f\"], [0.2222222222222222, \"#7201a8\"], [0.3333333333333333, \"#9c179e\"], [0.4444444444444444, \"#bd3786\"], [0.5555555555555556, \"#d8576b\"], [0.6666666666666666, \"#ed7953\"], [0.7777777777777778, \"#fb9f3a\"], [0.8888888888888888, \"#fdca26\"], [1.0, \"#f0f921\"]], \"sequentialminus\": [[0.0, \"#0d0887\"], [0.1111111111111111, \"#46039f\"], [0.2222222222222222, \"#7201a8\"], [0.3333333333333333, \"#9c179e\"], [0.4444444444444444, \"#bd3786\"], [0.5555555555555556, \"#d8576b\"], [0.6666666666666666, \"#ed7953\"], [0.7777777777777778, \"#fb9f3a\"], [0.8888888888888888, \"#fdca26\"], [1.0, \"#f0f921\"]]}, \"colorway\": [\"#636efa\", \"#EF553B\", \"#00cc96\", \"#ab63fa\", \"#FFA15A\", \"#19d3f3\", \"#FF6692\", \"#B6E880\", \"#FF97FF\", \"#FECB52\"], \"font\": {\"color\": \"#2a3f5f\"}, \"geo\": {\"bgcolor\": \"white\", \"lakecolor\": \"white\", \"landcolor\": \"#E5ECF6\", \"showlakes\": true, \"showland\": true, \"subunitcolor\": \"white\"}, \"hoverlabel\": {\"align\": \"left\"}, \"hovermode\": \"closest\", \"mapbox\": {\"style\": \"light\"}, \"paper_bgcolor\": \"white\", \"plot_bgcolor\": \"#E5ECF6\", \"polar\": {\"angularaxis\": {\"gridcolor\": \"white\", \"linecolor\": \"white\", \"ticks\": \"\"}, \"bgcolor\": \"#E5ECF6\", \"radialaxis\": {\"gridcolor\": \"white\", \"linecolor\": \"white\", \"ticks\": \"\"}}, \"scene\": {\"xaxis\": {\"backgroundcolor\": \"#E5ECF6\", \"gridcolor\": \"white\", \"gridwidth\": 2, \"linecolor\": \"white\", \"showbackground\": true, \"ticks\": \"\", \"zerolinecolor\": \"white\"}, \"yaxis\": {\"backgroundcolor\": \"#E5ECF6\", \"gridcolor\": \"white\", \"gridwidth\": 2, \"linecolor\": \"white\", \"showbackground\": true, \"ticks\": \"\", \"zerolinecolor\": \"white\"}, \"zaxis\": {\"backgroundcolor\": \"#E5ECF6\", \"gridcolor\": \"white\", \"gridwidth\": 2, \"linecolor\": \"white\", \"showbackground\": true, \"ticks\": \"\", \"zerolinecolor\": \"white\"}}, \"shapedefaults\": {\"line\": {\"color\": \"#2a3f5f\"}}, \"ternary\": {\"aaxis\": {\"gridcolor\": \"white\", \"linecolor\": \"white\", \"ticks\": \"\"}, \"baxis\": {\"gridcolor\": \"white\", \"linecolor\": \"white\", \"ticks\": \"\"}, \"bgcolor\": \"#E5ECF6\", \"caxis\": {\"gridcolor\": \"white\", \"linecolor\": \"white\", \"ticks\": \"\"}}, \"title\": {\"x\": 0.05}, \"xaxis\": {\"automargin\": true, \"gridcolor\": \"white\", \"linecolor\": \"white\", \"ticks\": \"\", \"title\": {\"standoff\": 15}, \"zerolinecolor\": \"white\", \"zerolinewidth\": 2}, \"yaxis\": {\"automargin\": true, \"gridcolor\": \"white\", \"linecolor\": \"white\", \"ticks\": \"\", \"title\": {\"standoff\": 15}, \"zerolinecolor\": \"white\", \"zerolinewidth\": 2}}}, \"title\": {\"text\": \"Top 10 Crops from 1961 to 2018\"}, \"updatemenus\": [{\"buttons\": [{\"args\": [null, {\"frame\": {\"duration\": 1000, \"redraw\": false}, \"fromcurrent\": true, \"transition\": {\"duration\": 1000, \"easing\": \"quadratic-in-out\"}}], \"label\": \"Play\", \"method\": \"animate\"}, {\"args\": [[null], {\"frame\": {\"duration\": 0, \"redraw\": false}, \"mode\": \"immediate\", \"transition\": {\"duration\": 0}}], \"label\": \"Pause\", \"method\": \"animate\"}], \"direction\": \"left\", \"pad\": {\"r\": 10, \"t\": 87}, \"showactive\": true, \"type\": \"buttons\", \"x\": 0.1, \"xanchor\": \"right\", \"y\": 0, \"yanchor\": \"top\"}], \"xaxis\": {\"range\": [0, 19140904.48049999], \"showline\": true, \"showticklabels\": true, \"title\": {\"text\": \"Production quantity (tonnes)\"}, \"visible\": true}, \"yaxis\": {\"showline\": false, \"showticklabels\": false, \"title\": {\"text\": \"Top 10 crops\"}, \"visible\": true}},                        {\"responsive\": true}                    ).then(function(){\n",
       "                            Plotly.addFrames('9c9445ba-21f0-44a0-a02e-c37e580d434c', [{\"data\": [{\"cliponaxis\": false, \"hoverinfo\": \"all\", \"hovertemplate\": \"<extra></extra>\", \"marker\": {\"color\": [\"rgb(72, 100, 154)\"]}, \"orientation\": \"h\", \"textangle\": 0, \"textposition\": \"outside\", \"texttemplate\": \"%{y}<br>%{x:.4s}\", \"x\": [1698011.0155100005], \"y\": [\"LF OEM\"], \"type\": \"bar\"}], \"layout\": {\"bargap\": 0.15, \"font\": {\"size\": 14}, \"plot_bgcolor\": \"#FFFFFF\", \"title\": {\"text\": \"Top 10 Crops from 1961 to 2018\"}, \"xaxis\": {\"range\": [0, 19140904.48049999], \"showline\": true, \"visible\": true}, \"yaxis\": {\"showline\": false, \"visible\": true}}, \"name\": \"2019-01\"}, {\"data\": [{\"cliponaxis\": false, \"hoverinfo\": \"all\", \"hovertemplate\": \"<extra></extra>\", \"marker\": {\"color\": [\"rgb(72, 100, 154)\"]}, \"orientation\": \"h\", \"textangle\": 0, \"textposition\": \"outside\", \"texttemplate\": \"%{y}<br>%{x:.4s}\", \"x\": [1293336.9052839999], \"y\": [\"LF OEM\"], \"type\": \"bar\"}], \"layout\": {\"bargap\": 0.15, \"font\": {\"size\": 14}, \"plot_bgcolor\": \"#FFFFFF\", \"title\": {\"text\": \"Top 10 Crops from 1961 to 2018\"}, \"xaxis\": {\"range\": [0, 19140904.48049999], \"showline\": true, \"visible\": true}, \"yaxis\": {\"showline\": false, \"visible\": true}}, \"name\": \"2019-02\"}, {\"data\": [{\"cliponaxis\": false, \"hoverinfo\": \"all\", \"hovertemplate\": \"<extra></extra>\", \"marker\": {\"color\": [\"rgb(72, 100, 154)\"]}, \"orientation\": \"h\", \"textangle\": 0, \"textposition\": \"outside\", \"texttemplate\": \"%{y}<br>%{x:.4s}\", \"x\": [2219514.010959999], \"y\": [\"LF OEM\"], \"type\": \"bar\"}], \"layout\": {\"bargap\": 0.15, \"font\": {\"size\": 14}, \"plot_bgcolor\": \"#FFFFFF\", \"title\": {\"text\": \"Top 10 Crops from 1961 to 2018\"}, \"xaxis\": {\"range\": [0, 19140904.48049999], \"showline\": true, \"visible\": true}, \"yaxis\": {\"showline\": false, \"visible\": true}}, \"name\": \"2019-03\"}, {\"data\": [{\"cliponaxis\": false, \"hoverinfo\": \"all\", \"hovertemplate\": \"<extra></extra>\", \"marker\": {\"color\": [\"rgb(72, 100, 154)\"]}, \"orientation\": \"h\", \"textangle\": 0, \"textposition\": \"outside\", \"texttemplate\": \"%{y}<br>%{x:.4s}\", \"x\": [2329666.610155], \"y\": [\"LF OEM\"], \"type\": \"bar\"}], \"layout\": {\"bargap\": 0.15, \"font\": {\"size\": 14}, \"plot_bgcolor\": \"#FFFFFF\", \"title\": {\"text\": \"Top 10 Crops from 1961 to 2018\"}, \"xaxis\": {\"range\": [0, 19140904.48049999], \"showline\": true, \"visible\": true}, \"yaxis\": {\"showline\": false, \"visible\": true}}, \"name\": \"2019-04\"}, {\"data\": [{\"cliponaxis\": false, \"hoverinfo\": \"all\", \"hovertemplate\": \"<extra></extra>\", \"marker\": {\"color\": [\"rgb(72, 100, 154)\"]}, \"orientation\": \"h\", \"textangle\": 0, \"textposition\": \"outside\", \"texttemplate\": \"%{y}<br>%{x:.4s}\", \"x\": [2365377.915965], \"y\": [\"LF OEM\"], \"type\": \"bar\"}], \"layout\": {\"bargap\": 0.15, \"font\": {\"size\": 14}, \"plot_bgcolor\": \"#FFFFFF\", \"title\": {\"text\": \"Top 10 Crops from 1961 to 2018\"}, \"xaxis\": {\"range\": [0, 19140904.48049999], \"showline\": true, \"visible\": true}, \"yaxis\": {\"showline\": false, \"visible\": true}}, \"name\": \"2019-05\"}, {\"data\": [{\"cliponaxis\": false, \"hoverinfo\": \"all\", \"hovertemplate\": \"<extra></extra>\", \"marker\": {\"color\": [\"rgb(72, 100, 154)\"]}, \"orientation\": \"h\", \"textangle\": 0, \"textposition\": \"outside\", \"texttemplate\": \"%{y}<br>%{x:.4s}\", \"x\": [5968783.45005], \"y\": [\"LF OEM\"], \"type\": \"bar\"}], \"layout\": {\"bargap\": 0.15, \"font\": {\"size\": 14}, \"plot_bgcolor\": \"#FFFFFF\", \"title\": {\"text\": \"Top 10 Crops from 1961 to 2018\"}, \"xaxis\": {\"range\": [0, 19140904.48049999], \"showline\": true, \"visible\": true}, \"yaxis\": {\"showline\": false, \"visible\": true}}, \"name\": \"2019-06\"}, {\"data\": [{\"cliponaxis\": false, \"hoverinfo\": \"all\", \"hovertemplate\": \"<extra></extra>\", \"marker\": {\"color\": [\"rgb(72, 100, 154)\"]}, \"orientation\": \"h\", \"textangle\": 0, \"textposition\": \"outside\", \"texttemplate\": \"%{y}<br>%{x:.4s}\", \"x\": [5630828.546479002], \"y\": [\"LF OEM\"], \"type\": \"bar\"}], \"layout\": {\"bargap\": 0.15, \"font\": {\"size\": 14}, \"plot_bgcolor\": \"#FFFFFF\", \"title\": {\"text\": \"Top 10 Crops from 1961 to 2018\"}, \"xaxis\": {\"range\": [0, 19140904.48049999], \"showline\": true, \"visible\": true}, \"yaxis\": {\"showline\": false, \"visible\": true}}, \"name\": \"2019-07\"}, {\"data\": [{\"cliponaxis\": false, \"hoverinfo\": \"all\", \"hovertemplate\": \"<extra></extra>\", \"marker\": {\"color\": [\"rgb(72, 100, 154)\"]}, \"orientation\": \"h\", \"textangle\": 0, \"textposition\": \"outside\", \"texttemplate\": \"%{y}<br>%{x:.4s}\", \"x\": [7321687.912005], \"y\": [\"LF OEM\"], \"type\": \"bar\"}], \"layout\": {\"bargap\": 0.15, \"font\": {\"size\": 14}, \"plot_bgcolor\": \"#FFFFFF\", \"title\": {\"text\": \"Top 10 Crops from 1961 to 2018\"}, \"xaxis\": {\"range\": [0, 19140904.48049999], \"showline\": true, \"visible\": true}, \"yaxis\": {\"showline\": false, \"visible\": true}}, \"name\": \"2019-08\"}, {\"data\": [{\"cliponaxis\": false, \"hoverinfo\": \"all\", \"hovertemplate\": \"<extra></extra>\", \"marker\": {\"color\": [\"rgb(72, 100, 154)\"]}, \"orientation\": \"h\", \"textangle\": 0, \"textposition\": \"outside\", \"texttemplate\": \"%{y}<br>%{x:.4s}\", \"x\": [6018095.7368439995], \"y\": [\"LF OEM\"], \"type\": \"bar\"}], \"layout\": {\"bargap\": 0.15, \"font\": {\"size\": 14}, \"plot_bgcolor\": \"#FFFFFF\", \"title\": {\"text\": \"Top 10 Crops from 1961 to 2018\"}, \"xaxis\": {\"range\": [0, 19140904.48049999], \"showline\": true, \"visible\": true}, \"yaxis\": {\"showline\": false, \"visible\": true}}, \"name\": \"2019-09\"}, {\"data\": [{\"cliponaxis\": false, \"hoverinfo\": \"all\", \"hovertemplate\": \"<extra></extra>\", \"marker\": {\"color\": [\"rgb(72, 100, 154)\"]}, \"orientation\": \"h\", \"textangle\": 0, \"textposition\": \"outside\", \"texttemplate\": \"%{y}<br>%{x:.4s}\", \"x\": [3940311.7852100004], \"y\": [\"LF OEM\"], \"type\": \"bar\"}], \"layout\": {\"bargap\": 0.15, \"font\": {\"size\": 14}, \"plot_bgcolor\": \"#FFFFFF\", \"title\": {\"text\": \"Top 10 Crops from 1961 to 2018\"}, \"xaxis\": {\"range\": [0, 19140904.48049999], \"showline\": true, \"visible\": true}, \"yaxis\": {\"showline\": false, \"visible\": true}}, \"name\": \"2019-10\"}, {\"data\": [{\"cliponaxis\": false, \"hoverinfo\": \"all\", \"hovertemplate\": \"<extra></extra>\", \"marker\": {\"color\": [\"rgb(72, 100, 154)\"]}, \"orientation\": \"h\", \"textangle\": 0, \"textposition\": \"outside\", \"texttemplate\": \"%{y}<br>%{x:.4s}\", \"x\": [1874192.040975], \"y\": [\"LF OEM\"], \"type\": \"bar\"}], \"layout\": {\"bargap\": 0.15, \"font\": {\"size\": 14}, \"plot_bgcolor\": \"#FFFFFF\", \"title\": {\"text\": \"Top 10 Crops from 1961 to 2018\"}, \"xaxis\": {\"range\": [0, 19140904.48049999], \"showline\": true, \"visible\": true}, \"yaxis\": {\"showline\": false, \"visible\": true}}, \"name\": \"2019-11\"}, {\"data\": [{\"cliponaxis\": false, \"hoverinfo\": \"all\", \"hovertemplate\": \"<extra></extra>\", \"marker\": {\"color\": [\"rgb(72, 100, 154)\"]}, \"orientation\": \"h\", \"textangle\": 0, \"textposition\": \"outside\", \"texttemplate\": \"%{y}<br>%{x:.4s}\", \"x\": [913530.4063149999], \"y\": [\"LF OEM\"], \"type\": \"bar\"}], \"layout\": {\"bargap\": 0.15, \"font\": {\"size\": 14}, \"plot_bgcolor\": \"#FFFFFF\", \"title\": {\"text\": \"Top 10 Crops from 1961 to 2018\"}, \"xaxis\": {\"range\": [0, 19140904.48049999], \"showline\": true, \"visible\": true}, \"yaxis\": {\"showline\": false, \"visible\": true}}, \"name\": \"2019-12\"}, {\"data\": [{\"cliponaxis\": false, \"hoverinfo\": \"all\", \"hovertemplate\": \"<extra></extra>\", \"marker\": {\"color\": [\"rgb(162, 13, 20)\", \"rgb(128, 232, 162)\", \"rgb(3, 251, 151)\"]}, \"orientation\": \"h\", \"textangle\": 0, \"textposition\": \"outside\", \"texttemplate\": \"%{y}<br>%{x:.4s}\", \"x\": [3286330.329300001, 4329804.7706, 9029392.517499998], \"y\": [\"WE\", \"Eaton\", \"LF\"], \"type\": \"bar\"}], \"layout\": {\"bargap\": 0.15, \"font\": {\"size\": 14}, \"plot_bgcolor\": \"#FFFFFF\", \"title\": {\"text\": \"Top 10 Crops from 1961 to 2018\"}, \"xaxis\": {\"range\": [0, 19140904.48049999], \"showline\": true, \"visible\": true}, \"yaxis\": {\"showline\": false, \"visible\": true}}, \"name\": \"2020-01\"}, {\"data\": [{\"cliponaxis\": false, \"hoverinfo\": \"all\", \"hovertemplate\": \"<extra></extra>\", \"marker\": {\"color\": [\"rgb(162, 13, 20)\", \"rgb(28, 226, 142)\", \"rgb(3, 251, 151)\"]}, \"orientation\": \"h\", \"textangle\": 0, \"textposition\": \"outside\", \"texttemplate\": \"%{y}<br>%{x:.4s}\", \"x\": [2720852.9833000014, 3815642.4959999993, 4605749.5435], \"y\": [\"WE\", \"Bourns\", \"LF\"], \"type\": \"bar\"}], \"layout\": {\"bargap\": 0.15, \"font\": {\"size\": 14}, \"plot_bgcolor\": \"#FFFFFF\", \"title\": {\"text\": \"Top 10 Crops from 1961 to 2018\"}, \"xaxis\": {\"range\": [0, 19140904.48049999], \"showline\": true, \"visible\": true}, \"yaxis\": {\"showline\": false, \"visible\": true}}, \"name\": \"2020-02\"}, {\"data\": [{\"cliponaxis\": false, \"hoverinfo\": \"all\", \"hovertemplate\": \"<extra></extra>\", \"marker\": {\"color\": [\"rgb(162, 13, 20)\", \"rgb(128, 232, 162)\", \"rgb(3, 251, 151)\"]}, \"orientation\": \"h\", \"textangle\": 0, \"textposition\": \"outside\", \"texttemplate\": \"%{y}<br>%{x:.4s}\", \"x\": [4229305.553900002, 5482972.845199999, 7458275.180000001], \"y\": [\"WE\", \"Eaton\", \"LF\"], \"type\": \"bar\"}], \"layout\": {\"bargap\": 0.15, \"font\": {\"size\": 14}, \"plot_bgcolor\": \"#FFFFFF\", \"title\": {\"text\": \"Top 10 Crops from 1961 to 2018\"}, \"xaxis\": {\"range\": [0, 19140904.48049999], \"showline\": true, \"visible\": true}, \"yaxis\": {\"showline\": false, \"visible\": true}}, \"name\": \"2020-03\"}, {\"data\": [{\"cliponaxis\": false, \"hoverinfo\": \"all\", \"hovertemplate\": \"<extra></extra>\", \"marker\": {\"color\": [\"rgb(28, 226, 142)\", \"rgb(3, 251, 151)\", \"rgb(128, 232, 162)\"]}, \"orientation\": \"h\", \"textangle\": 0, \"textposition\": \"outside\", \"texttemplate\": \"%{y}<br>%{x:.4s}\", \"x\": [3698541.3699999987, 4706538.447499999, 7365502.658500001], \"y\": [\"Bourns\", \"LF\", \"Eaton\"], \"type\": \"bar\"}], \"layout\": {\"bargap\": 0.15, \"font\": {\"size\": 14}, \"plot_bgcolor\": \"#FFFFFF\", \"title\": {\"text\": \"Top 10 Crops from 1961 to 2018\"}, \"xaxis\": {\"range\": [0, 19140904.48049999], \"showline\": true, \"visible\": true}, \"yaxis\": {\"showline\": false, \"visible\": true}}, \"name\": \"2020-04\"}, {\"data\": [{\"cliponaxis\": false, \"hoverinfo\": \"all\", \"hovertemplate\": \"<extra></extra>\", \"marker\": {\"color\": [\"rgb(28, 226, 142)\", \"rgb(3, 251, 151)\", \"rgb(128, 232, 162)\"]}, \"orientation\": \"h\", \"textangle\": 0, \"textposition\": \"outside\", \"texttemplate\": \"%{y}<br>%{x:.4s}\", \"x\": [3899816.6730000004, 6566895.220500002, 6842382.778699999], \"y\": [\"Bourns\", \"LF\", \"Eaton\"], \"type\": \"bar\"}], \"layout\": {\"bargap\": 0.15, \"font\": {\"size\": 14}, \"plot_bgcolor\": \"#FFFFFF\", \"title\": {\"text\": \"Top 10 Crops from 1961 to 2018\"}, \"xaxis\": {\"range\": [0, 19140904.48049999], \"showline\": true, \"visible\": true}, \"yaxis\": {\"showline\": false, \"visible\": true}}, \"name\": \"2020-05\"}, {\"data\": [{\"cliponaxis\": false, \"hoverinfo\": \"all\", \"hovertemplate\": \"<extra></extra>\", \"marker\": {\"color\": [\"rgb(72, 100, 154)\", \"rgb(28, 226, 142)\", \"rgb(3, 251, 151)\"]}, \"orientation\": \"h\", \"textangle\": 0, \"textposition\": \"outside\", \"texttemplate\": \"%{y}<br>%{x:.4s}\", \"x\": [3745574.823105, 5384957.768000001, 10335034.348000001], \"y\": [\"LF OEM\", \"Bourns\", \"LF\"], \"type\": \"bar\"}], \"layout\": {\"bargap\": 0.15, \"font\": {\"size\": 14}, \"plot_bgcolor\": \"#FFFFFF\", \"title\": {\"text\": \"Top 10 Crops from 1961 to 2018\"}, \"xaxis\": {\"range\": [0, 19140904.48049999], \"showline\": true, \"visible\": true}, \"yaxis\": {\"showline\": false, \"visible\": true}}, \"name\": \"2020-06\"}, {\"data\": [{\"cliponaxis\": false, \"hoverinfo\": \"all\", \"hovertemplate\": \"<extra></extra>\", \"marker\": {\"color\": [\"rgb(128, 232, 162)\", \"rgb(3, 251, 151)\", \"rgb(72, 100, 154)\"]}, \"orientation\": \"h\", \"textangle\": 0, \"textposition\": \"outside\", \"texttemplate\": \"%{y}<br>%{x:.4s}\", \"x\": [8458221.014899999, 8906480.9907, 8907361.621985001], \"y\": [\"Eaton\", \"LF\", \"LF OEM\"], \"type\": \"bar\"}], \"layout\": {\"bargap\": 0.15, \"font\": {\"size\": 14}, \"plot_bgcolor\": \"#FFFFFF\", \"title\": {\"text\": \"Top 10 Crops from 1961 to 2018\"}, \"xaxis\": {\"range\": [0, 19140904.48049999], \"showline\": true, \"visible\": true}, \"yaxis\": {\"showline\": false, \"visible\": true}}, \"name\": \"2020-07\"}, {\"data\": [{\"cliponaxis\": false, \"hoverinfo\": \"all\", \"hovertemplate\": \"<extra></extra>\", \"marker\": {\"color\": [\"rgb(128, 232, 162)\", \"rgb(3, 251, 151)\", \"rgb(72, 100, 154)\"]}, \"orientation\": \"h\", \"textangle\": 0, \"textposition\": \"outside\", \"texttemplate\": \"%{y}<br>%{x:.4s}\", \"x\": [6407307.699399999, 11622368.2878, 12606590.114843002], \"y\": [\"Eaton\", \"LF\", \"LF OEM\"], \"type\": \"bar\"}], \"layout\": {\"bargap\": 0.15, \"font\": {\"size\": 14}, \"plot_bgcolor\": \"#FFFFFF\", \"title\": {\"text\": \"Top 10 Crops from 1961 to 2018\"}, \"xaxis\": {\"range\": [0, 19140904.48049999], \"showline\": true, \"visible\": true}, \"yaxis\": {\"showline\": false, \"visible\": true}}, \"name\": \"2020-08\"}, {\"data\": [{\"cliponaxis\": false, \"hoverinfo\": \"all\", \"hovertemplate\": \"<extra></extra>\", \"marker\": {\"color\": [\"rgb(56, 27, 17)\", \"rgb(72, 100, 154)\", \"rgb(3, 251, 151)\"]}, \"orientation\": \"h\", \"textangle\": 0, \"textposition\": \"outside\", \"texttemplate\": \"%{y}<br>%{x:.4s}\", \"x\": [6794648.6675, 14855337.049054993, 15016712.6465], \"y\": [\"TELTONIKA\", \"LF OEM\", \"LF\"], \"type\": \"bar\"}], \"layout\": {\"bargap\": 0.15, \"font\": {\"size\": 14}, \"plot_bgcolor\": \"#FFFFFF\", \"title\": {\"text\": \"Top 10 Crops from 1961 to 2018\"}, \"xaxis\": {\"range\": [0, 19140904.48049999], \"showline\": true, \"visible\": true}, \"yaxis\": {\"showline\": false, \"visible\": true}}, \"name\": \"2020-09\"}, {\"data\": [{\"cliponaxis\": false, \"hoverinfo\": \"all\", \"hovertemplate\": \"<extra></extra>\", \"marker\": {\"color\": [\"rgb(128, 232, 162)\", \"rgb(72, 100, 154)\", \"rgb(3, 251, 151)\"]}, \"orientation\": \"h\", \"textangle\": 0, \"textposition\": \"outside\", \"texttemplate\": \"%{y}<br>%{x:.4s}\", \"x\": [4800140.408899999, 18334955.90738499, 19140904.48049999], \"y\": [\"Eaton\", \"LF OEM\", \"LF\"], \"type\": \"bar\"}], \"layout\": {\"bargap\": 0.15, \"font\": {\"size\": 14}, \"plot_bgcolor\": \"#FFFFFF\", \"title\": {\"text\": \"Top 10 Crops from 1961 to 2018\"}, \"xaxis\": {\"range\": [0, 19140904.48049999], \"showline\": true, \"visible\": true}, \"yaxis\": {\"showline\": false, \"visible\": true}}, \"name\": \"2020-10\"}, {\"data\": [{\"cliponaxis\": false, \"hoverinfo\": \"all\", \"hovertemplate\": \"<extra></extra>\", \"marker\": {\"color\": [\"rgb(128, 232, 162)\", \"rgb(72, 100, 154)\", \"rgb(3, 251, 151)\"]}, \"orientation\": \"h\", \"textangle\": 0, \"textposition\": \"outside\", \"texttemplate\": \"%{y}<br>%{x:.4s}\", \"x\": [9042395.3348, 14214368.413644997, 15546426.271], \"y\": [\"Eaton\", \"LF OEM\", \"LF\"], \"type\": \"bar\"}], \"layout\": {\"bargap\": 0.15, \"font\": {\"size\": 14}, \"plot_bgcolor\": \"#FFFFFF\", \"title\": {\"text\": \"Top 10 Crops from 1961 to 2018\"}, \"xaxis\": {\"range\": [0, 19140904.48049999], \"showline\": true, \"visible\": true}, \"yaxis\": {\"showline\": false, \"visible\": true}}, \"name\": \"2020-11\"}, {\"data\": [{\"cliponaxis\": false, \"hoverinfo\": \"all\", \"hovertemplate\": \"<extra></extra>\", \"marker\": {\"color\": [\"rgb(72, 100, 154)\", \"rgb(56, 27, 17)\", \"rgb(3, 251, 151)\"]}, \"orientation\": \"h\", \"textangle\": 0, \"textposition\": \"outside\", \"texttemplate\": \"%{y}<br>%{x:.4s}\", \"x\": [9219279.41845, 10223132.266999988, 14750843.883000005], \"y\": [\"LF OEM\", \"TELTONIKA\", \"LF\"], \"type\": \"bar\"}], \"layout\": {\"bargap\": 0.15, \"font\": {\"size\": 14}, \"plot_bgcolor\": \"#FFFFFF\", \"title\": {\"text\": \"Top 10 Crops from 1961 to 2018\"}, \"xaxis\": {\"range\": [0, 19140904.48049999], \"showline\": true, \"visible\": true}, \"yaxis\": {\"showline\": false, \"visible\": true}}, \"name\": \"2020-12\"}, {\"data\": [{\"cliponaxis\": false, \"hoverinfo\": \"all\", \"hovertemplate\": \"<extra></extra>\", \"marker\": {\"color\": [\"rgb(42, 242, 112)\", \"rgb(56, 27, 17)\", \"rgb(3, 251, 151)\"]}, \"orientation\": \"h\", \"textangle\": 0, \"textposition\": \"outside\", \"texttemplate\": \"%{y}<br>%{x:.4s}\", \"x\": [6472920.0, 16064326.77449999, 16761474.453499997], \"y\": [\"SSF\", \"TELTONIKA\", \"LF\"], \"type\": \"bar\"}], \"layout\": {\"bargap\": 0.15, \"font\": {\"size\": 14}, \"plot_bgcolor\": \"#FFFFFF\", \"title\": {\"text\": \"Top 10 Crops from 1961 to 2018\"}, \"xaxis\": {\"range\": [0, 19140904.48049999], \"showline\": true, \"visible\": true}, \"yaxis\": {\"showline\": false, \"visible\": true}}, \"name\": \"2021-01\"}, {\"data\": [{\"cliponaxis\": false, \"hoverinfo\": \"all\", \"hovertemplate\": \"<extra></extra>\", \"marker\": {\"color\": [\"rgb(128, 232, 162)\", \"rgb(3, 251, 151)\", \"rgb(56, 27, 17)\"]}, \"orientation\": \"h\", \"textangle\": 0, \"textposition\": \"outside\", \"texttemplate\": \"%{y}<br>%{x:.4s}\", \"x\": [6041302.0037, 6240434.290000001, 10792725.365999999], \"y\": [\"Eaton\", \"LF\", \"TELTONIKA\"], \"type\": \"bar\"}], \"layout\": {\"bargap\": 0.15, \"font\": {\"size\": 14}, \"plot_bgcolor\": \"#FFFFFF\", \"title\": {\"text\": \"Top 10 Crops from 1961 to 2018\"}, \"xaxis\": {\"range\": [0, 19140904.48049999], \"showline\": true, \"visible\": true}, \"yaxis\": {\"showline\": false, \"visible\": true}}, \"name\": \"2021-02\"}, {\"data\": [{\"cliponaxis\": false, \"hoverinfo\": \"all\", \"hovertemplate\": \"<extra></extra>\", \"marker\": {\"color\": [\"rgb(128, 232, 162)\", \"rgb(3, 251, 151)\", \"rgb(56, 27, 17)\"]}, \"orientation\": \"h\", \"textangle\": 0, \"textposition\": \"outside\", \"texttemplate\": \"%{y}<br>%{x:.4s}\", \"x\": [7473719.7376, 7585694.440000001, 9459755.247], \"y\": [\"Eaton\", \"LF\", \"TELTONIKA\"], \"type\": \"bar\"}], \"layout\": {\"bargap\": 0.15, \"font\": {\"size\": 14}, \"plot_bgcolor\": \"#FFFFFF\", \"title\": {\"text\": \"Top 10 Crops from 1961 to 2018\"}, \"xaxis\": {\"range\": [0, 19140904.48049999], \"showline\": true, \"visible\": true}, \"yaxis\": {\"showline\": false, \"visible\": true}}, \"name\": \"2021-03\"}, {\"data\": [{\"cliponaxis\": false, \"hoverinfo\": \"all\", \"hovertemplate\": \"<extra></extra>\", \"marker\": {\"color\": [\"rgb(28, 226, 142)\", \"rgb(128, 232, 162)\", \"rgb(56, 27, 17)\"]}, \"orientation\": \"h\", \"textangle\": 0, \"textposition\": \"outside\", \"texttemplate\": \"%{y}<br>%{x:.4s}\", \"x\": [5269814.257999999, 9474876.896599997, 10462878.989999998], \"y\": [\"Bourns\", \"Eaton\", \"TELTONIKA\"], \"type\": \"bar\"}], \"layout\": {\"bargap\": 0.15, \"font\": {\"size\": 14}, \"plot_bgcolor\": \"#FFFFFF\", \"title\": {\"text\": \"Top 10 Crops from 1961 to 2018\"}, \"xaxis\": {\"range\": [0, 19140904.48049999], \"showline\": true, \"visible\": true}, \"yaxis\": {\"showline\": false, \"visible\": true}}, \"name\": \"2021-04\"}, {\"data\": [{\"cliponaxis\": false, \"hoverinfo\": \"all\", \"hovertemplate\": \"<extra></extra>\", \"marker\": {\"color\": [\"rgb(128, 232, 162)\", \"rgb(28, 226, 142)\", \"rgb(56, 27, 17)\"]}, \"orientation\": \"h\", \"textangle\": 0, \"textposition\": \"outside\", \"texttemplate\": \"%{y}<br>%{x:.4s}\", \"x\": [2549507.17, 3339004.6799999992, 5927167.674], \"y\": [\"Eaton\", \"Bourns\", \"TELTONIKA\"], \"type\": \"bar\"}], \"layout\": {\"bargap\": 0.15, \"font\": {\"size\": 14}, \"plot_bgcolor\": \"#FFFFFF\", \"title\": {\"text\": \"Top 10 Crops from 1961 to 2018\"}, \"xaxis\": {\"range\": [0, 19140904.48049999], \"showline\": true, \"visible\": true}, \"yaxis\": {\"showline\": false, \"visible\": true}}, \"name\": \"2021-05\"}, {\"data\": [{\"cliponaxis\": false, \"hoverinfo\": \"all\", \"hovertemplate\": \"<extra></extra>\", \"marker\": {\"color\": [\"rgb(244, 27, 182)\", \"rgb(28, 226, 142)\", \"rgb(162, 13, 20)\"]}, \"orientation\": \"h\", \"textangle\": 0, \"textposition\": \"outside\", \"texttemplate\": \"%{y}<br>%{x:.4s}\", \"x\": [378909.97400000005, 925457.2200000002, 1165737.601], \"y\": [\"Laird\", \"Bourns\", \"WE\"], \"type\": \"bar\"}], \"layout\": {\"bargap\": 0.15, \"font\": {\"size\": 14}, \"plot_bgcolor\": \"#FFFFFF\", \"title\": {\"text\": \"Top 10 Crops from 1961 to 2018\"}, \"xaxis\": {\"range\": [0, 19140904.48049999], \"showline\": true, \"visible\": true}, \"yaxis\": {\"showline\": false, \"visible\": true}}, \"name\": \"2021-06\"}, {\"data\": [{\"cliponaxis\": false, \"hoverinfo\": \"all\", \"hovertemplate\": \"<extra></extra>\", \"marker\": {\"color\": [\"rgb(162, 13, 20)\", \"rgb(28, 226, 142)\", \"rgb(244, 27, 182)\"]}, \"orientation\": \"h\", \"textangle\": 0, \"textposition\": \"outside\", \"texttemplate\": \"%{y}<br>%{x:.4s}\", \"x\": [62773.368, 313368.82, 694038.9740000002], \"y\": [\"WE\", \"Bourns\", \"Laird\"], \"type\": \"bar\"}], \"layout\": {\"bargap\": 0.15, \"font\": {\"size\": 14}, \"plot_bgcolor\": \"#FFFFFF\", \"title\": {\"text\": \"Top 10 Crops from 1961 to 2018\"}, \"xaxis\": {\"range\": [0, 19140904.48049999], \"showline\": true, \"visible\": true}, \"yaxis\": {\"showline\": false, \"visible\": true}}, \"name\": \"2021-07\"}, {\"data\": [{\"cliponaxis\": false, \"hoverinfo\": \"all\", \"hovertemplate\": \"<extra></extra>\", \"marker\": {\"color\": [\"rgb(28, 226, 142)\", \"rgb(244, 27, 182)\", \"rgb(162, 13, 20)\"]}, \"orientation\": \"h\", \"textangle\": 0, \"textposition\": \"outside\", \"texttemplate\": \"%{y}<br>%{x:.4s}\", \"x\": [42585.0, 55965.20700000001, 303727.69], \"y\": [\"Bourns\", \"Laird\", \"WE\"], \"type\": \"bar\"}], \"layout\": {\"bargap\": 0.15, \"font\": {\"size\": 14}, \"plot_bgcolor\": \"#FFFFFF\", \"title\": {\"text\": \"Top 10 Crops from 1961 to 2018\"}, \"xaxis\": {\"range\": [0, 19140904.48049999], \"showline\": true, \"visible\": true}, \"yaxis\": {\"showline\": false, \"visible\": true}}, \"name\": \"2021-08\"}, {\"data\": [{\"cliponaxis\": false, \"hoverinfo\": \"all\", \"hovertemplate\": \"<extra></extra>\", \"marker\": {\"color\": [\"rgb(244, 27, 182)\"]}, \"orientation\": \"h\", \"textangle\": 0, \"textposition\": \"outside\", \"texttemplate\": \"%{y}<br>%{x:.4s}\", \"x\": [178857.0], \"y\": [\"Laird\"], \"type\": \"bar\"}], \"layout\": {\"bargap\": 0.15, \"font\": {\"size\": 14}, \"plot_bgcolor\": \"#FFFFFF\", \"title\": {\"text\": \"Top 10 Crops from 1961 to 2018\"}, \"xaxis\": {\"range\": [0, 19140904.48049999], \"showline\": true, \"visible\": true}, \"yaxis\": {\"showline\": false, \"visible\": true}}, \"name\": \"2021-09\"}]);\n",
       "                        }).then(function(){\n",
       "                            \n",
       "var gd = document.getElementById('9c9445ba-21f0-44a0-a02e-c37e580d434c');\n",
       "var x = new MutationObserver(function (mutations, observer) {{\n",
       "        var display = window.getComputedStyle(gd).display;\n",
       "        if (!display || display === 'none') {{\n",
       "            console.log([gd, 'removed!']);\n",
       "            Plotly.purge(gd);\n",
       "            observer.disconnect();\n",
       "        }}\n",
       "}});\n",
       "\n",
       "// Listen for the removal of the full notebook cells\n",
       "var notebookContainer = gd.closest('#notebook-container');\n",
       "if (notebookContainer) {{\n",
       "    x.observe(notebookContainer, {childList: true});\n",
       "}}\n",
       "\n",
       "// Listen for the clearing of the current output cell\n",
       "var outputEl = gd.closest('.output');\n",
       "if (outputEl) {{\n",
       "    x.observe(outputEl, {childList: true});\n",
       "}}\n",
       "\n",
       "                        })                };                });            </script>        </div>"
      ]
     },
     "metadata": {},
     "output_type": "display_data"
    }
   ],
   "source": [
    "my_raceplot = barplot(test,\n",
    "                      item_column='Group',\n",
    "                      value_column='本國幣別NTD',\n",
    "                      time_column='預交日期', top_entries=3)\n",
    "\n",
    "my_raceplot.plot(title = 'Top 10 Crops from 1961 to 2018',\n",
    "                 item_label = 'Top 10 crops',\n",
    "                 value_label = 'Production quantity (tonnes)',\n",
    "                 frame_duration = 1000,\n",
    "                initial_frame = \"min\")\n"
   ]
  },
  {
   "cell_type": "code",
   "execution_count": 106,
   "metadata": {},
   "outputs": [
    {
     "data": {
      "application/vnd.plotly.v1+json": {
       "config": {
        "plotlyServerURL": "https://plot.ly"
       },
       "data": [
        {
         "cliponaxis": false,
         "hoverinfo": "all",
         "marker": {
          "color": [
           "rgb(193, 21, 123)",
           "rgb(62, 187, 94)",
           "rgb(148, 185, 41)",
           "rgb(179, 146, 21)",
           "rgb(179, 27, 76)",
           "rgb(236, 85, 80)",
           "rgb(33, 22, 89)",
           "rgb(225, 59, 87)",
           "rgb(54, 158, 213)",
           "rgb(119, 210, 159)"
          ]
         },
         "orientation": "h",
         "textangle": 0,
         "textposition": "outside",
         "texttemplate": "%{y}<br>%{x:.4s}",
         "type": "bar",
         "x": [
          71259839,
          72411104,
          98192635,
          143836304,
          160501987,
          205027583,
          215646633,
          222357231,
          270552196,
          447977522
         ],
         "y": [
          "Cassava",
          "Barley",
          "Sweet potatoes",
          "Rice, paddy (rice milled equivalent)",
          "Sugar beet",
          "Maize",
          "Rice, paddy",
          "Wheat",
          "Potatoes",
          "Sugar cane"
         ]
        }
       ],
       "frames": [
        {
         "data": [
          {
           "cliponaxis": false,
           "hoverinfo": "all",
           "hovertemplate": "<extra></extra>",
           "marker": {
            "color": [
             "rgb(193, 21, 123)",
             "rgb(62, 187, 94)",
             "rgb(148, 185, 41)",
             "rgb(179, 146, 21)",
             "rgb(179, 27, 76)",
             "rgb(236, 85, 80)",
             "rgb(33, 22, 89)",
             "rgb(225, 59, 87)",
             "rgb(54, 158, 213)",
             "rgb(119, 210, 159)"
            ]
           },
           "orientation": "h",
           "textangle": 0,
           "textposition": "outside",
           "texttemplate": "%{y}<br>%{x:.4s}",
           "type": "bar",
           "x": [
            71259839,
            72411104,
            98192635,
            143836304,
            160501987,
            205027583,
            215646633,
            222357231,
            270552196,
            447977522
           ],
           "y": [
            "Cassava",
            "Barley",
            "Sweet potatoes",
            "Rice, paddy (rice milled equivalent)",
            "Sugar beet",
            "Maize",
            "Rice, paddy",
            "Wheat",
            "Potatoes",
            "Sugar cane"
           ]
          }
         ],
         "layout": {
          "bargap": 0.15,
          "font": {
           "size": 14
          },
          "plot_bgcolor": "#FFFFFF",
          "xaxis": {
           "range": [
            0,
            1907024730
           ],
           "showline": true,
           "visible": true
          },
          "yaxis": {
           "showline": false,
           "visible": true
          }
         },
         "name": "1961"
        },
        {
         "data": [
          {
           "cliponaxis": false,
           "hoverinfo": "all",
           "hovertemplate": "<extra></extra>",
           "marker": {
            "color": [
             "rgb(193, 21, 123)",
             "rgb(62, 187, 94)",
             "rgb(148, 185, 41)",
             "rgb(179, 27, 76)",
             "rgb(179, 146, 21)",
             "rgb(236, 85, 80)",
             "rgb(33, 22, 89)",
             "rgb(225, 59, 87)",
             "rgb(54, 158, 213)",
             "rgb(119, 210, 159)"
            ]
           },
           "orientation": "h",
           "textangle": 0,
           "textposition": "outside",
           "texttemplate": "%{y}<br>%{x:.4s}",
           "type": "bar",
           "x": [
            74636680,
            88396959,
            105291106,
            149172711,
            151046350,
            204876937,
            226456297,
            250319146,
            252987460,
            436872640
           ],
           "y": [
            "Cassava",
            "Barley",
            "Sweet potatoes",
            "Sugar beet",
            "Rice, paddy (rice milled equivalent)",
            "Maize",
            "Rice, paddy",
            "Wheat",
            "Potatoes",
            "Sugar cane"
           ]
          }
         ],
         "layout": {
          "bargap": 0.15,
          "font": {
           "size": 14
          },
          "plot_bgcolor": "#FFFFFF",
          "xaxis": {
           "range": [
            0,
            1907024730
           ],
           "showline": true,
           "visible": true
          },
          "yaxis": {
           "showline": false,
           "visible": true
          }
         },
         "name": "1962"
        },
        {
         "data": [
          {
           "cliponaxis": false,
           "hoverinfo": "all",
           "hovertemplate": "<extra></extra>",
           "marker": {
            "color": [
             "rgb(193, 21, 123)",
             "rgb(62, 187, 94)",
             "rgb(148, 185, 41)",
             "rgb(179, 146, 21)",
             "rgb(179, 27, 76)",
             "rgb(236, 85, 80)",
             "rgb(225, 59, 87)",
             "rgb(33, 22, 89)",
             "rgb(54, 158, 213)",
             "rgb(119, 210, 159)"
            ]
           },
           "orientation": "h",
           "textangle": 0,
           "textposition": "outside",
           "texttemplate": "%{y}<br>%{x:.4s}",
           "type": "bar",
           "x": [
            77975688,
            90385850,
            98009159,
            164828514,
            164975629,
            220228333,
            233339473,
            247119211,
            269982498,
            439927902
           ],
           "y": [
            "Cassava",
            "Barley",
            "Sweet potatoes",
            "Rice, paddy (rice milled equivalent)",
            "Sugar beet",
            "Maize",
            "Wheat",
            "Rice, paddy",
            "Potatoes",
            "Sugar cane"
           ]
          }
         ],
         "layout": {
          "bargap": 0.15,
          "font": {
           "size": 14
          },
          "plot_bgcolor": "#FFFFFF",
          "xaxis": {
           "range": [
            0,
            1907024730
           ],
           "showline": true,
           "visible": true
          },
          "yaxis": {
           "showline": false,
           "visible": true
          }
         },
         "name": "1963"
        },
        {
         "data": [
          {
           "cliponaxis": false,
           "hoverinfo": "all",
           "hovertemplate": "<extra></extra>",
           "marker": {
            "color": [
             "rgb(193, 21, 123)",
             "rgb(148, 185, 41)",
             "rgb(62, 187, 94)",
             "rgb(179, 146, 21)",
             "rgb(236, 85, 80)",
             "rgb(179, 27, 76)",
             "rgb(33, 22, 89)",
             "rgb(225, 59, 87)",
             "rgb(54, 158, 213)",
             "rgb(119, 210, 159)"
            ]
           },
           "orientation": "h",
           "textangle": 0,
           "textposition": "outside",
           "texttemplate": "%{y}<br>%{x:.4s}",
           "type": "bar",
           "x": [
            82429399,
            93377412,
            95524923,
            175373614,
            215172627,
            216206931,
            262928956,
            268791657,
            284678614,
            480849768
           ],
           "y": [
            "Cassava",
            "Sweet potatoes",
            "Barley",
            "Rice, paddy (rice milled equivalent)",
            "Maize",
            "Sugar beet",
            "Rice, paddy",
            "Wheat",
            "Potatoes",
            "Sugar cane"
           ]
          }
         ],
         "layout": {
          "bargap": 0.15,
          "font": {
           "size": 14
          },
          "plot_bgcolor": "#FFFFFF",
          "xaxis": {
           "range": [
            0,
            1907024730
           ],
           "showline": true,
           "visible": true
          },
          "yaxis": {
           "showline": false,
           "visible": true
          }
         },
         "name": "1964"
        },
        {
         "data": [
          {
           "cliponaxis": false,
           "hoverinfo": "all",
           "hovertemplate": "<extra></extra>",
           "marker": {
            "color": [
             "rgb(193, 21, 123)",
             "rgb(62, 187, 94)",
             "rgb(148, 185, 41)",
             "rgb(179, 146, 21)",
             "rgb(179, 27, 76)",
             "rgb(236, 85, 80)",
             "rgb(33, 22, 89)",
             "rgb(225, 59, 87)",
             "rgb(54, 158, 213)",
             "rgb(119, 210, 159)"
            ]
           },
           "orientation": "h",
           "textangle": 0,
           "textposition": "outside",
           "texttemplate": "%{y}<br>%{x:.4s}",
           "type": "bar",
           "x": [
            85582843,
            92617012,
            108377879,
            169457796,
            197376224,
            226544256,
            254059664,
            263645963,
            270913502,
            531297486
           ],
           "y": [
            "Cassava",
            "Barley",
            "Sweet potatoes",
            "Rice, paddy (rice milled equivalent)",
            "Sugar beet",
            "Maize",
            "Rice, paddy",
            "Wheat",
            "Potatoes",
            "Sugar cane"
           ]
          }
         ],
         "layout": {
          "bargap": 0.15,
          "font": {
           "size": 14
          },
          "plot_bgcolor": "#FFFFFF",
          "xaxis": {
           "range": [
            0,
            1907024730
           ],
           "showline": true,
           "visible": true
          },
          "yaxis": {
           "showline": false,
           "visible": true
          }
         },
         "name": "1965"
        },
        {
         "data": [
          {
           "cliponaxis": false,
           "hoverinfo": "all",
           "hovertemplate": "<extra></extra>",
           "marker": {
            "color": [
             "rgb(193, 21, 123)",
             "rgb(62, 187, 94)",
             "rgb(148, 185, 41)",
             "rgb(179, 146, 21)",
             "rgb(179, 27, 76)",
             "rgb(236, 85, 80)",
             "rgb(33, 22, 89)",
             "rgb(54, 158, 213)",
             "rgb(225, 59, 87)",
             "rgb(119, 210, 159)"
            ]
           },
           "orientation": "h",
           "textangle": 0,
           "textposition": "outside",
           "texttemplate": "%{y}<br>%{x:.4s}",
           "type": "bar",
           "x": [
            84718809,
            100425696,
            119686566,
            174207899,
            212270253,
            245599160,
            261181258,
            281964109,
            303785460,
            531492823
           ],
           "y": [
            "Cassava",
            "Barley",
            "Sweet potatoes",
            "Rice, paddy (rice milled equivalent)",
            "Sugar beet",
            "Maize",
            "Rice, paddy",
            "Potatoes",
            "Wheat",
            "Sugar cane"
           ]
          }
         ],
         "layout": {
          "bargap": 0.15,
          "font": {
           "size": 14
          },
          "plot_bgcolor": "#FFFFFF",
          "xaxis": {
           "range": [
            0,
            1907024730
           ],
           "showline": true,
           "visible": true
          },
          "yaxis": {
           "showline": false,
           "visible": true
          }
         },
         "name": "1966"
        },
        {
         "data": [
          {
           "cliponaxis": false,
           "hoverinfo": "all",
           "hovertemplate": "<extra></extra>",
           "marker": {
            "color": [
             "rgb(193, 21, 123)",
             "rgb(62, 187, 94)",
             "rgb(148, 185, 41)",
             "rgb(179, 146, 21)",
             "rgb(179, 27, 76)",
             "rgb(236, 85, 80)",
             "rgb(33, 22, 89)",
             "rgb(225, 59, 87)",
             "rgb(54, 158, 213)",
             "rgb(119, 210, 159)"
            ]
           },
           "orientation": "h",
           "textangle": 0,
           "textposition": "outside",
           "texttemplate": "%{y}<br>%{x:.4s}",
           "type": "bar",
           "x": [
            88630176,
            103177495,
            118614438,
            185016704,
            233455177,
            272548473,
            277386363,
            294295876,
            296220305,
            518890895
           ],
           "y": [
            "Cassava",
            "Barley",
            "Sweet potatoes",
            "Rice, paddy (rice milled equivalent)",
            "Sugar beet",
            "Maize",
            "Rice, paddy",
            "Wheat",
            "Potatoes",
            "Sugar cane"
           ]
          }
         ],
         "layout": {
          "bargap": 0.15,
          "font": {
           "size": 14
          },
          "plot_bgcolor": "#FFFFFF",
          "xaxis": {
           "range": [
            0,
            1907024730
           ],
           "showline": true,
           "visible": true
          },
          "yaxis": {
           "showline": false,
           "visible": true
          }
         },
         "name": "1967"
        },
        {
         "data": [
          {
           "cliponaxis": false,
           "hoverinfo": "all",
           "hovertemplate": "<extra></extra>",
           "marker": {
            "color": [
             "rgb(193, 21, 123)",
             "rgb(62, 187, 94)",
             "rgb(148, 185, 41)",
             "rgb(179, 146, 21)",
             "rgb(179, 27, 76)",
             "rgb(236, 85, 80)",
             "rgb(33, 22, 89)",
             "rgb(54, 158, 213)",
             "rgb(225, 59, 87)",
             "rgb(119, 210, 159)"
            ]
           },
           "orientation": "h",
           "textangle": 0,
           "textposition": "outside",
           "texttemplate": "%{y}<br>%{x:.4s}",
           "type": "bar",
           "x": [
            93090059,
            113504505,
            118097469,
            192512413,
            248856658,
            255670551,
            288624308,
            303709120,
            326843941,
            506091880
           ],
           "y": [
            "Cassava",
            "Barley",
            "Sweet potatoes",
            "Rice, paddy (rice milled equivalent)",
            "Sugar beet",
            "Maize",
            "Rice, paddy",
            "Potatoes",
            "Wheat",
            "Sugar cane"
           ]
          }
         ],
         "layout": {
          "bargap": 0.15,
          "font": {
           "size": 14
          },
          "plot_bgcolor": "#FFFFFF",
          "xaxis": {
           "range": [
            0,
            1907024730
           ],
           "showline": true,
           "visible": true
          },
          "yaxis": {
           "showline": false,
           "visible": true
          }
         },
         "name": "1968"
        },
        {
         "data": [
          {
           "cliponaxis": false,
           "hoverinfo": "all",
           "hovertemplate": "<extra></extra>",
           "marker": {
            "color": [
             "rgb(193, 21, 123)",
             "rgb(62, 187, 94)",
             "rgb(148, 185, 41)",
             "rgb(179, 146, 21)",
             "rgb(179, 27, 76)",
             "rgb(236, 85, 80)",
             "rgb(54, 158, 213)",
             "rgb(33, 22, 89)",
             "rgb(225, 59, 87)",
             "rgb(119, 210, 159)"
            ]
           },
           "orientation": "h",
           "textangle": 0,
           "textposition": "outside",
           "texttemplate": "%{y}<br>%{x:.4s}",
           "type": "bar",
           "x": [
            95325330,
            118006371,
            126160704,
            197154789,
            216920772,
            269506068,
            278475710,
            295584391,
            308640283,
            538255737
           ],
           "y": [
            "Cassava",
            "Barley",
            "Sweet potatoes",
            "Rice, paddy (rice milled equivalent)",
            "Sugar beet",
            "Maize",
            "Potatoes",
            "Rice, paddy",
            "Wheat",
            "Sugar cane"
           ]
          }
         ],
         "layout": {
          "bargap": 0.15,
          "font": {
           "size": 14
          },
          "plot_bgcolor": "#FFFFFF",
          "xaxis": {
           "range": [
            0,
            1907024730
           ],
           "showline": true,
           "visible": true
          },
          "yaxis": {
           "showline": false,
           "visible": true
          }
         },
         "name": "1969"
        },
        {
         "data": [
          {
           "cliponaxis": false,
           "hoverinfo": "all",
           "hovertemplate": "<extra></extra>",
           "marker": {
            "color": [
             "rgb(193, 21, 123)",
             "rgb(62, 187, 94)",
             "rgb(148, 185, 41)",
             "rgb(179, 146, 21)",
             "rgb(179, 27, 76)",
             "rgb(236, 85, 80)",
             "rgb(54, 158, 213)",
             "rgb(225, 59, 87)",
             "rgb(33, 22, 89)",
             "rgb(119, 210, 159)"
            ]
           },
           "orientation": "h",
           "textangle": 0,
           "textposition": "outside",
           "texttemplate": "%{y}<br>%{x:.4s}",
           "type": "bar",
           "x": [
            98589699,
            119378695,
            136507488,
            211002584,
            224251952,
            265831145,
            298048017,
            310740954,
            316345703,
            608616105
           ],
           "y": [
            "Cassava",
            "Barley",
            "Sweet potatoes",
            "Rice, paddy (rice milled equivalent)",
            "Sugar beet",
            "Maize",
            "Potatoes",
            "Wheat",
            "Rice, paddy",
            "Sugar cane"
           ]
          }
         ],
         "layout": {
          "bargap": 0.15,
          "font": {
           "size": 14
          },
          "plot_bgcolor": "#FFFFFF",
          "xaxis": {
           "range": [
            0,
            1907024730
           ],
           "showline": true,
           "visible": true
          },
          "yaxis": {
           "showline": false,
           "visible": true
          }
         },
         "name": "1970"
        },
        {
         "data": [
          {
           "cliponaxis": false,
           "hoverinfo": "all",
           "hovertemplate": "<extra></extra>",
           "marker": {
            "color": [
             "rgb(193, 21, 123)",
             "rgb(148, 185, 41)",
             "rgb(62, 187, 94)",
             "rgb(179, 146, 21)",
             "rgb(179, 27, 76)",
             "rgb(54, 158, 213)",
             "rgb(236, 85, 80)",
             "rgb(33, 22, 89)",
             "rgb(225, 59, 87)",
             "rgb(119, 210, 159)"
            ]
           },
           "orientation": "h",
           "textangle": 0,
           "textposition": "outside",
           "texttemplate": "%{y}<br>%{x:.4s}",
           "type": "bar",
           "x": [
            98756434,
            127252781,
            131237044,
            211914188,
            227540795,
            279490572,
            313622622,
            317712426,
            347525581,
            582105426
           ],
           "y": [
            "Cassava",
            "Sweet potatoes",
            "Barley",
            "Rice, paddy (rice milled equivalent)",
            "Sugar beet",
            "Potatoes",
            "Maize",
            "Rice, paddy",
            "Wheat",
            "Sugar cane"
           ]
          }
         ],
         "layout": {
          "bargap": 0.15,
          "font": {
           "size": 14
          },
          "plot_bgcolor": "#FFFFFF",
          "xaxis": {
           "range": [
            0,
            1907024730
           ],
           "showline": true,
           "visible": true
          },
          "yaxis": {
           "showline": false,
           "visible": true
          }
         },
         "name": "1971"
        },
        {
         "data": [
          {
           "cliponaxis": false,
           "hoverinfo": "all",
           "hovertemplate": "<extra></extra>",
           "marker": {
            "color": [
             "rgb(193, 21, 123)",
             "rgb(148, 185, 41)",
             "rgb(62, 187, 94)",
             "rgb(179, 146, 21)",
             "rgb(179, 27, 76)",
             "rgb(54, 158, 213)",
             "rgb(33, 22, 89)",
             "rgb(236, 85, 80)",
             "rgb(225, 59, 87)",
             "rgb(119, 210, 159)"
            ]
           },
           "orientation": "h",
           "textangle": 0,
           "textposition": "outside",
           "texttemplate": "%{y}<br>%{x:.4s}",
           "type": "bar",
           "x": [
            101261515,
            121467494,
            132963909,
            204962388,
            240336963,
            272144812,
            307289937,
            308826290,
            343001429,
            569105570
           ],
           "y": [
            "Cassava",
            "Sweet potatoes",
            "Barley",
            "Rice, paddy (rice milled equivalent)",
            "Sugar beet",
            "Potatoes",
            "Rice, paddy",
            "Maize",
            "Wheat",
            "Sugar cane"
           ]
          }
         ],
         "layout": {
          "bargap": 0.15,
          "font": {
           "size": 14
          },
          "plot_bgcolor": "#FFFFFF",
          "xaxis": {
           "range": [
            0,
            1907024730
           ],
           "showline": true,
           "visible": true
          },
          "yaxis": {
           "showline": false,
           "visible": true
          }
         },
         "name": "1972"
        },
        {
         "data": [
          {
           "cliponaxis": false,
           "hoverinfo": "all",
           "hovertemplate": "<extra></extra>",
           "marker": {
            "color": [
             "rgb(193, 21, 123)",
             "rgb(62, 187, 94)",
             "rgb(148, 185, 41)",
             "rgb(179, 146, 21)",
             "rgb(179, 27, 76)",
             "rgb(54, 158, 213)",
             "rgb(236, 85, 80)",
             "rgb(33, 22, 89)",
             "rgb(225, 59, 87)",
             "rgb(119, 210, 159)"
            ]
           },
           "orientation": "h",
           "textangle": 0,
           "textposition": "outside",
           "texttemplate": "%{y}<br>%{x:.4s}",
           "type": "bar",
           "x": [
            101734795,
            146966081,
            152865329,
            223397535,
            250104320,
            307160130,
            318290469,
            334928838,
            369334126,
            600227145
           ],
           "y": [
            "Cassava",
            "Barley",
            "Sweet potatoes",
            "Rice, paddy (rice milled equivalent)",
            "Sugar beet",
            "Potatoes",
            "Maize",
            "Rice, paddy",
            "Wheat",
            "Sugar cane"
           ]
          }
         ],
         "layout": {
          "bargap": 0.15,
          "font": {
           "size": 14
          },
          "plot_bgcolor": "#FFFFFF",
          "xaxis": {
           "range": [
            0,
            1907024730
           ],
           "showline": true,
           "visible": true
          },
          "yaxis": {
           "showline": false,
           "visible": true
          }
         },
         "name": "1973"
        },
        {
         "data": [
          {
           "cliponaxis": false,
           "hoverinfo": "all",
           "hovertemplate": "<extra></extra>",
           "marker": {
            "color": [
             "rgb(193, 21, 123)",
             "rgb(148, 185, 41)",
             "rgb(62, 187, 94)",
             "rgb(179, 146, 21)",
             "rgb(179, 27, 76)",
             "rgb(54, 158, 213)",
             "rgb(236, 85, 80)",
             "rgb(33, 22, 89)",
             "rgb(225, 59, 87)",
             "rgb(119, 210, 159)"
            ]
           },
           "orientation": "h",
           "textangle": 0,
           "textposition": "outside",
           "texttemplate": "%{y}<br>%{x:.4s}",
           "type": "bar",
           "x": [
            104370567,
            137264243,
            148818870,
            221424400,
            234922029,
            284781339,
            306427347,
            331970614,
            358825442,
            648516497
           ],
           "y": [
            "Cassava",
            "Sweet potatoes",
            "Barley",
            "Rice, paddy (rice milled equivalent)",
            "Sugar beet",
            "Potatoes",
            "Maize",
            "Rice, paddy",
            "Wheat",
            "Sugar cane"
           ]
          }
         ],
         "layout": {
          "bargap": 0.15,
          "font": {
           "size": 14
          },
          "plot_bgcolor": "#FFFFFF",
          "xaxis": {
           "range": [
            0,
            1907024730
           ],
           "showline": true,
           "visible": true
          },
          "yaxis": {
           "showline": false,
           "visible": true
          }
         },
         "name": "1974"
        },
        {
         "data": [
          {
           "cliponaxis": false,
           "hoverinfo": "all",
           "hovertemplate": "<extra></extra>",
           "marker": {
            "color": [
             "rgb(193, 21, 123)",
             "rgb(62, 187, 94)",
             "rgb(148, 185, 41)",
             "rgb(179, 146, 21)",
             "rgb(179, 27, 76)",
             "rgb(54, 158, 213)",
             "rgb(236, 85, 80)",
             "rgb(225, 59, 87)",
             "rgb(33, 22, 89)",
             "rgb(119, 210, 159)"
            ]
           },
           "orientation": "h",
           "textangle": 0,
           "textposition": "outside",
           "texttemplate": "%{y}<br>%{x:.4s}",
           "type": "bar",
           "x": [
            110398445,
            135491720,
            141314403,
            238094381,
            251310276,
            270384075,
            341751971,
            355806146,
            356963090,
            655815792
           ],
           "y": [
            "Cassava",
            "Barley",
            "Sweet potatoes",
            "Rice, paddy (rice milled equivalent)",
            "Sugar beet",
            "Potatoes",
            "Maize",
            "Wheat",
            "Rice, paddy",
            "Sugar cane"
           ]
          }
         ],
         "layout": {
          "bargap": 0.15,
          "font": {
           "size": 14
          },
          "plot_bgcolor": "#FFFFFF",
          "xaxis": {
           "range": [
            0,
            1907024730
           ],
           "showline": true,
           "visible": true
          },
          "yaxis": {
           "showline": false,
           "visible": true
          }
         },
         "name": "1975"
        },
        {
         "data": [
          {
           "cliponaxis": false,
           "hoverinfo": "all",
           "hovertemplate": "<extra></extra>",
           "marker": {
            "color": [
             "rgb(193, 21, 123)",
             "rgb(148, 185, 41)",
             "rgb(62, 187, 94)",
             "rgb(179, 146, 21)",
             "rgb(54, 158, 213)",
             "rgb(179, 27, 76)",
             "rgb(33, 22, 89)",
             "rgb(236, 85, 80)",
             "rgb(225, 59, 87)",
             "rgb(119, 210, 159)"
            ]
           },
           "orientation": "h",
           "textangle": 0,
           "textposition": "outside",
           "texttemplate": "%{y}<br>%{x:.4s}",
           "type": "bar",
           "x": [
            113892497,
            133322031,
            166595806,
            231906870,
            272745276,
            296408369,
            347686462,
            352395866,
            419868031,
            687207538
           ],
           "y": [
            "Cassava",
            "Sweet potatoes",
            "Barley",
            "Rice, paddy (rice milled equivalent)",
            "Potatoes",
            "Sugar beet",
            "Rice, paddy",
            "Maize",
            "Wheat",
            "Sugar cane"
           ]
          }
         ],
         "layout": {
          "bargap": 0.15,
          "font": {
           "size": 14
          },
          "plot_bgcolor": "#FFFFFF",
          "xaxis": {
           "range": [
            0,
            1907024730
           ],
           "showline": true,
           "visible": true
          },
          "yaxis": {
           "showline": false,
           "visible": true
          }
         },
         "name": "1976"
        },
        {
         "data": [
          {
           "cliponaxis": false,
           "hoverinfo": "all",
           "hovertemplate": "<extra></extra>",
           "marker": {
            "color": [
             "rgb(193, 21, 123)",
             "rgb(148, 185, 41)",
             "rgb(62, 187, 94)",
             "rgb(179, 146, 21)",
             "rgb(54, 158, 213)",
             "rgb(179, 27, 76)",
             "rgb(33, 22, 89)",
             "rgb(236, 85, 80)",
             "rgb(225, 59, 87)",
             "rgb(119, 210, 159)"
            ]
           },
           "orientation": "h",
           "textangle": 0,
           "textposition": "outside",
           "texttemplate": "%{y}<br>%{x:.4s}",
           "type": "bar",
           "x": [
            118605256,
            143107584,
            156386493,
            246443929,
            279667694,
            288582476,
            369481153,
            371593355,
            382276677,
            734858286
           ],
           "y": [
            "Cassava",
            "Sweet potatoes",
            "Barley",
            "Rice, paddy (rice milled equivalent)",
            "Potatoes",
            "Sugar beet",
            "Rice, paddy",
            "Maize",
            "Wheat",
            "Sugar cane"
           ]
          }
         ],
         "layout": {
          "bargap": 0.15,
          "font": {
           "size": 14
          },
          "plot_bgcolor": "#FFFFFF",
          "xaxis": {
           "range": [
            0,
            1907024730
           ],
           "showline": true,
           "visible": true
          },
          "yaxis": {
           "showline": false,
           "visible": true
          }
         },
         "name": "1977"
        },
        {
         "data": [
          {
           "cliponaxis": false,
           "hoverinfo": "all",
           "hovertemplate": "<extra></extra>",
           "marker": {
            "color": [
             "rgb(193, 21, 123)",
             "rgb(148, 185, 41)",
             "rgb(62, 187, 94)",
             "rgb(179, 146, 21)",
             "rgb(179, 27, 76)",
             "rgb(54, 158, 213)",
             "rgb(33, 22, 89)",
             "rgb(236, 85, 80)",
             "rgb(225, 59, 87)",
             "rgb(119, 210, 159)"
            ]
           },
           "orientation": "h",
           "textangle": 0,
           "textposition": "outside",
           "texttemplate": "%{y}<br>%{x:.4s}",
           "type": "bar",
           "x": [
            123308473,
            151857764,
            174929309,
            256934233,
            282834069,
            291161652,
            385208745,
            393600091,
            443844880,
            774416858
           ],
           "y": [
            "Cassava",
            "Sweet potatoes",
            "Barley",
            "Rice, paddy (rice milled equivalent)",
            "Sugar beet",
            "Potatoes",
            "Rice, paddy",
            "Maize",
            "Wheat",
            "Sugar cane"
           ]
          }
         ],
         "layout": {
          "bargap": 0.15,
          "font": {
           "size": 14
          },
          "plot_bgcolor": "#FFFFFF",
          "xaxis": {
           "range": [
            0,
            1907024730
           ],
           "showline": true,
           "visible": true
          },
          "yaxis": {
           "showline": false,
           "visible": true
          }
         },
         "name": "1978"
        },
        {
         "data": [
          {
           "cliponaxis": false,
           "hoverinfo": "all",
           "hovertemplate": "<extra></extra>",
           "marker": {
            "color": [
             "rgb(193, 21, 123)",
             "rgb(148, 185, 41)",
             "rgb(62, 187, 94)",
             "rgb(179, 146, 21)",
             "rgb(179, 27, 76)",
             "rgb(54, 158, 213)",
             "rgb(33, 22, 89)",
             "rgb(236, 85, 80)",
             "rgb(225, 59, 87)",
             "rgb(119, 210, 159)"
            ]
           },
           "orientation": "h",
           "textangle": 0,
           "textposition": "outside",
           "texttemplate": "%{y}<br>%{x:.4s}",
           "type": "bar",
           "x": [
            119745423,
            137935647,
            154989948,
            250292923,
            262752809,
            297921605,
            375251758,
            418622993,
            422999301,
            770245178
           ],
           "y": [
            "Cassava",
            "Sweet potatoes",
            "Barley",
            "Rice, paddy (rice milled equivalent)",
            "Sugar beet",
            "Potatoes",
            "Rice, paddy",
            "Maize",
            "Wheat",
            "Sugar cane"
           ]
          }
         ],
         "layout": {
          "bargap": 0.15,
          "font": {
           "size": 14
          },
          "plot_bgcolor": "#FFFFFF",
          "xaxis": {
           "range": [
            0,
            1907024730
           ],
           "showline": true,
           "visible": true
          },
          "yaxis": {
           "showline": false,
           "visible": true
          }
         },
         "name": "1979"
        },
        {
         "data": [
          {
           "cliponaxis": false,
           "hoverinfo": "all",
           "hovertemplate": "<extra></extra>",
           "marker": {
            "color": [
             "rgb(193, 21, 123)",
             "rgb(148, 185, 41)",
             "rgb(62, 187, 94)",
             "rgb(54, 158, 213)",
             "rgb(179, 146, 21)",
             "rgb(179, 27, 76)",
             "rgb(236, 85, 80)",
             "rgb(33, 22, 89)",
             "rgb(225, 59, 87)",
             "rgb(119, 210, 159)"
            ]
           },
           "orientation": "h",
           "textangle": 0,
           "textposition": "outside",
           "texttemplate": "%{y}<br>%{x:.4s}",
           "type": "bar",
           "x": [
            124135066,
            137869239,
            156702822,
            240495788,
            264713164,
            267856451,
            396623388,
            396871310,
            440187901,
            734489200
           ],
           "y": [
            "Cassava",
            "Sweet potatoes",
            "Barley",
            "Potatoes",
            "Rice, paddy (rice milled equivalent)",
            "Sugar beet",
            "Maize",
            "Rice, paddy",
            "Wheat",
            "Sugar cane"
           ]
          }
         ],
         "layout": {
          "bargap": 0.15,
          "font": {
           "size": 14
          },
          "plot_bgcolor": "#FFFFFF",
          "xaxis": {
           "range": [
            0,
            1907024730
           ],
           "showline": true,
           "visible": true
          },
          "yaxis": {
           "showline": false,
           "visible": true
          }
         },
         "name": "1980"
        },
        {
         "data": [
          {
           "cliponaxis": false,
           "hoverinfo": "all",
           "hovertemplate": "<extra></extra>",
           "marker": {
            "color": [
             "rgb(148, 185, 41)",
             "rgb(193, 21, 123)",
             "rgb(62, 187, 94)",
             "rgb(54, 158, 213)",
             "rgb(179, 146, 21)",
             "rgb(179, 27, 76)",
             "rgb(33, 22, 89)",
             "rgb(236, 85, 80)",
             "rgb(225, 59, 87)",
             "rgb(119, 210, 159)"
            ]
           },
           "orientation": "h",
           "textangle": 0,
           "textposition": "outside",
           "texttemplate": "%{y}<br>%{x:.4s}",
           "type": "bar",
           "x": [
            125543727,
            127513877,
            149602582,
            267781520,
            273520179,
            287840286,
            410075231,
            446772517,
            449633986,
            799604214
           ],
           "y": [
            "Sweet potatoes",
            "Cassava",
            "Barley",
            "Potatoes",
            "Rice, paddy (rice milled equivalent)",
            "Sugar beet",
            "Rice, paddy",
            "Maize",
            "Wheat",
            "Sugar cane"
           ]
          }
         ],
         "layout": {
          "bargap": 0.15,
          "font": {
           "size": 14
          },
          "plot_bgcolor": "#FFFFFF",
          "xaxis": {
           "range": [
            0,
            1907024730
           ],
           "showline": true,
           "visible": true
          },
          "yaxis": {
           "showline": false,
           "visible": true
          }
         },
         "name": "1981"
        },
        {
         "data": [
          {
           "cliponaxis": false,
           "hoverinfo": "all",
           "hovertemplate": "<extra></extra>",
           "marker": {
            "color": [
             "rgb(193, 21, 123)",
             "rgb(148, 185, 41)",
             "rgb(62, 187, 94)",
             "rgb(54, 158, 213)",
             "rgb(179, 146, 21)",
             "rgb(179, 27, 76)",
             "rgb(33, 22, 89)",
             "rgb(236, 85, 80)",
             "rgb(225, 59, 87)",
             "rgb(119, 210, 159)"
            ]
           },
           "orientation": "h",
           "textangle": 0,
           "textposition": "outside",
           "texttemplate": "%{y}<br>%{x:.4s}",
           "type": "bar",
           "x": [
            128849568,
            129433910,
            161352537,
            265142602,
            281440016,
            291773194,
            421949049,
            448932280,
            476768609,
            907067880
           ],
           "y": [
            "Cassava",
            "Sweet potatoes",
            "Barley",
            "Potatoes",
            "Rice, paddy (rice milled equivalent)",
            "Sugar beet",
            "Rice, paddy",
            "Maize",
            "Wheat",
            "Sugar cane"
           ]
          }
         ],
         "layout": {
          "bargap": 0.15,
          "font": {
           "size": 14
          },
          "plot_bgcolor": "#FFFFFF",
          "xaxis": {
           "range": [
            0,
            1907024730
           ],
           "showline": true,
           "visible": true
          },
          "yaxis": {
           "showline": false,
           "visible": true
          }
         },
         "name": "1982"
        },
        {
         "data": [
          {
           "cliponaxis": false,
           "hoverinfo": "all",
           "hovertemplate": "<extra></extra>",
           "marker": {
            "color": [
             "rgb(193, 21, 123)",
             "rgb(148, 185, 41)",
             "rgb(62, 187, 94)",
             "rgb(54, 158, 213)",
             "rgb(179, 27, 76)",
             "rgb(179, 146, 21)",
             "rgb(236, 85, 80)",
             "rgb(33, 22, 89)",
             "rgb(225, 59, 87)",
             "rgb(119, 210, 159)"
            ]
           },
           "orientation": "h",
           "textangle": 0,
           "textposition": "outside",
           "texttemplate": "%{y}<br>%{x:.4s}",
           "type": "bar",
           "x": [
            126886287,
            137945719,
            159470171,
            264471009,
            274395485,
            298826869,
            347082034,
            448016295,
            489555281,
            903684353
           ],
           "y": [
            "Cassava",
            "Sweet potatoes",
            "Barley",
            "Potatoes",
            "Sugar beet",
            "Rice, paddy (rice milled equivalent)",
            "Maize",
            "Rice, paddy",
            "Wheat",
            "Sugar cane"
           ]
          }
         ],
         "layout": {
          "bargap": 0.15,
          "font": {
           "size": 14
          },
          "plot_bgcolor": "#FFFFFF",
          "xaxis": {
           "range": [
            0,
            1907024730
           ],
           "showline": true,
           "visible": true
          },
          "yaxis": {
           "showline": false,
           "visible": true
          }
         },
         "name": "1983"
        },
        {
         "data": [
          {
           "cliponaxis": false,
           "hoverinfo": "all",
           "hovertemplate": "<extra></extra>",
           "marker": {
            "color": [
             "rgb(148, 185, 41)",
             "rgb(193, 21, 123)",
             "rgb(62, 187, 94)",
             "rgb(54, 158, 213)",
             "rgb(179, 27, 76)",
             "rgb(179, 146, 21)",
             "rgb(236, 85, 80)",
             "rgb(33, 22, 89)",
             "rgb(225, 59, 87)",
             "rgb(119, 210, 159)"
            ]
           },
           "orientation": "h",
           "textangle": 0,
           "textposition": "outside",
           "texttemplate": "%{y}<br>%{x:.4s}",
           "type": "bar",
           "x": [
            133036563,
            133239818,
            169433845,
            290945972,
            296351939,
            310383713,
            450449992,
            465342898,
            512330225,
            929768246
           ],
           "y": [
            "Sweet potatoes",
            "Cassava",
            "Barley",
            "Potatoes",
            "Sugar beet",
            "Rice, paddy (rice milled equivalent)",
            "Maize",
            "Rice, paddy",
            "Wheat",
            "Sugar cane"
           ]
          }
         ],
         "layout": {
          "bargap": 0.15,
          "font": {
           "size": 14
          },
          "plot_bgcolor": "#FFFFFF",
          "xaxis": {
           "range": [
            0,
            1907024730
           ],
           "showline": true,
           "visible": true
          },
          "yaxis": {
           "showline": false,
           "visible": true
          }
         },
         "name": "1984"
        },
        {
         "data": [
          {
           "cliponaxis": false,
           "hoverinfo": "all",
           "hovertemplate": "<extra></extra>",
           "marker": {
            "color": [
             "rgb(148, 185, 41)",
             "rgb(193, 21, 123)",
             "rgb(62, 187, 94)",
             "rgb(54, 158, 213)",
             "rgb(179, 27, 76)",
             "rgb(179, 146, 21)",
             "rgb(33, 22, 89)",
             "rgb(236, 85, 80)",
             "rgb(225, 59, 87)",
             "rgb(119, 210, 159)"
            ]
           },
           "orientation": "h",
           "textangle": 0,
           "textposition": "outside",
           "texttemplate": "%{y}<br>%{x:.4s}",
           "type": "bar",
           "x": [
            122997023,
            135852865,
            172618338,
            281603760,
            284155160,
            312265770,
            468164572,
            485527301,
            499527392,
            933213589
           ],
           "y": [
            "Sweet potatoes",
            "Cassava",
            "Barley",
            "Potatoes",
            "Sugar beet",
            "Rice, paddy (rice milled equivalent)",
            "Rice, paddy",
            "Maize",
            "Wheat",
            "Sugar cane"
           ]
          }
         ],
         "layout": {
          "bargap": 0.15,
          "font": {
           "size": 14
          },
          "plot_bgcolor": "#FFFFFF",
          "xaxis": {
           "range": [
            0,
            1907024730
           ],
           "showline": true,
           "visible": true
          },
          "yaxis": {
           "showline": false,
           "visible": true
          }
         },
         "name": "1985"
        },
        {
         "data": [
          {
           "cliponaxis": false,
           "hoverinfo": "all",
           "hovertemplate": "<extra></extra>",
           "marker": {
            "color": [
             "rgb(91, 230, 76)",
             "rgb(193, 21, 123)",
             "rgb(62, 187, 94)",
             "rgb(179, 27, 76)",
             "rgb(54, 158, 213)",
             "rgb(179, 146, 21)",
             "rgb(33, 22, 89)",
             "rgb(236, 85, 80)",
             "rgb(225, 59, 87)",
             "rgb(119, 210, 159)"
            ]
           },
           "orientation": "h",
           "textangle": 0,
           "textposition": "outside",
           "texttemplate": "%{y}<br>%{x:.4s}",
           "type": "bar",
           "x": [
            129814219,
            134228164,
            177169275,
            286334048,
            286610518,
            312606386,
            468675242,
            478176622,
            528685222,
            934719186
           ],
           "y": [
            "Vegetables, fresh nes",
            "Cassava",
            "Barley",
            "Sugar beet",
            "Potatoes",
            "Rice, paddy (rice milled equivalent)",
            "Rice, paddy",
            "Maize",
            "Wheat",
            "Sugar cane"
           ]
          }
         ],
         "layout": {
          "bargap": 0.15,
          "font": {
           "size": 14
          },
          "plot_bgcolor": "#FFFFFF",
          "xaxis": {
           "range": [
            0,
            1907024730
           ],
           "showline": true,
           "visible": true
          },
          "yaxis": {
           "showline": false,
           "visible": true
          }
         },
         "name": "1986"
        },
        {
         "data": [
          {
           "cliponaxis": false,
           "hoverinfo": "all",
           "hovertemplate": "<extra></extra>",
           "marker": {
            "color": [
             "rgb(148, 185, 41)",
             "rgb(193, 21, 123)",
             "rgb(62, 187, 94)",
             "rgb(54, 158, 213)",
             "rgb(179, 27, 76)",
             "rgb(179, 146, 21)",
             "rgb(236, 85, 80)",
             "rgb(33, 22, 89)",
             "rgb(225, 59, 87)",
             "rgb(119, 210, 159)"
            ]
           },
           "orientation": "h",
           "textangle": 0,
           "textposition": "outside",
           "texttemplate": "%{y}<br>%{x:.4s}",
           "type": "bar",
           "x": [
            133652442,
            138134704,
            175288684,
            279415351,
            299751636,
            307780419,
            453115794,
            461439908,
            505075847,
            990319251
           ],
           "y": [
            "Sweet potatoes",
            "Cassava",
            "Barley",
            "Potatoes",
            "Sugar beet",
            "Rice, paddy (rice milled equivalent)",
            "Maize",
            "Rice, paddy",
            "Wheat",
            "Sugar cane"
           ]
          }
         ],
         "layout": {
          "bargap": 0.15,
          "font": {
           "size": 14
          },
          "plot_bgcolor": "#FFFFFF",
          "xaxis": {
           "range": [
            0,
            1907024730
           ],
           "showline": true,
           "visible": true
          },
          "yaxis": {
           "showline": false,
           "visible": true
          }
         },
         "name": "1987"
        },
        {
         "data": [
          {
           "cliponaxis": false,
           "hoverinfo": "all",
           "hovertemplate": "<extra></extra>",
           "marker": {
            "color": [
             "rgb(91, 230, 76)",
             "rgb(193, 21, 123)",
             "rgb(62, 187, 94)",
             "rgb(54, 158, 213)",
             "rgb(179, 27, 76)",
             "rgb(179, 146, 21)",
             "rgb(236, 85, 80)",
             "rgb(33, 22, 89)",
             "rgb(225, 59, 87)",
             "rgb(119, 210, 159)"
            ]
           },
           "orientation": "h",
           "textangle": 0,
           "textposition": "outside",
           "texttemplate": "%{y}<br>%{x:.4s}",
           "type": "bar",
           "x": [
            137997867,
            144878275,
            163396406,
            268603004,
            293570876,
            325134421,
            403050234,
            487457902,
            500656538,
            992982513
           ],
           "y": [
            "Vegetables, fresh nes",
            "Cassava",
            "Barley",
            "Potatoes",
            "Sugar beet",
            "Rice, paddy (rice milled equivalent)",
            "Maize",
            "Rice, paddy",
            "Wheat",
            "Sugar cane"
           ]
          }
         ],
         "layout": {
          "bargap": 0.15,
          "font": {
           "size": 14
          },
          "plot_bgcolor": "#FFFFFF",
          "xaxis": {
           "range": [
            0,
            1907024730
           ],
           "showline": true,
           "visible": true
          },
          "yaxis": {
           "showline": false,
           "visible": true
          }
         },
         "name": "1988"
        },
        {
         "data": [
          {
           "cliponaxis": false,
           "hoverinfo": "all",
           "hovertemplate": "<extra></extra>",
           "marker": {
            "color": [
             "rgb(91, 230, 76)",
             "rgb(193, 21, 123)",
             "rgb(62, 187, 94)",
             "rgb(54, 158, 213)",
             "rgb(179, 27, 76)",
             "rgb(179, 146, 21)",
             "rgb(236, 85, 80)",
             "rgb(33, 22, 89)",
             "rgb(225, 59, 87)",
             "rgb(119, 210, 159)"
            ]
           },
           "orientation": "h",
           "textangle": 0,
           "textposition": "outside",
           "texttemplate": "%{y}<br>%{x:.4s}",
           "type": "bar",
           "x": [
            138710355,
            152885746,
            164166455,
            276583863,
            314402899,
            343119234,
            476874503,
            514421640,
            538206114,
            1017998783
           ],
           "y": [
            "Vegetables, fresh nes",
            "Cassava",
            "Barley",
            "Potatoes",
            "Sugar beet",
            "Rice, paddy (rice milled equivalent)",
            "Maize",
            "Rice, paddy",
            "Wheat",
            "Sugar cane"
           ]
          }
         ],
         "layout": {
          "bargap": 0.15,
          "font": {
           "size": 14
          },
          "plot_bgcolor": "#FFFFFF",
          "xaxis": {
           "range": [
            0,
            1907024730
           ],
           "showline": true,
           "visible": true
          },
          "yaxis": {
           "showline": false,
           "visible": true
          }
         },
         "name": "1989"
        },
        {
         "data": [
          {
           "cliponaxis": false,
           "hoverinfo": "all",
           "hovertemplate": "<extra></extra>",
           "marker": {
            "color": [
             "rgb(91, 230, 76)",
             "rgb(193, 21, 123)",
             "rgb(62, 187, 94)",
             "rgb(54, 158, 213)",
             "rgb(179, 27, 76)",
             "rgb(179, 146, 21)",
             "rgb(236, 85, 80)",
             "rgb(33, 22, 89)",
             "rgb(225, 59, 87)",
             "rgb(119, 210, 159)"
            ]
           },
           "orientation": "h",
           "textangle": 0,
           "textposition": "outside",
           "texttemplate": "%{y}<br>%{x:.4s}",
           "type": "bar",
           "x": [
            140314879,
            152378682,
            178074020,
            266825273,
            309186724,
            345885292,
            483620724,
            518568653,
            591330111,
            1052997497
           ],
           "y": [
            "Vegetables, fresh nes",
            "Cassava",
            "Barley",
            "Potatoes",
            "Sugar beet",
            "Rice, paddy (rice milled equivalent)",
            "Maize",
            "Rice, paddy",
            "Wheat",
            "Sugar cane"
           ]
          }
         ],
         "layout": {
          "bargap": 0.15,
          "font": {
           "size": 14
          },
          "plot_bgcolor": "#FFFFFF",
          "xaxis": {
           "range": [
            0,
            1907024730
           ],
           "showline": true,
           "visible": true
          },
          "yaxis": {
           "showline": false,
           "visible": true
          }
         },
         "name": "1990"
        },
        {
         "data": [
          {
           "cliponaxis": false,
           "hoverinfo": "all",
           "hovertemplate": "<extra></extra>",
           "marker": {
            "color": [
             "rgb(91, 230, 76)",
             "rgb(193, 21, 123)",
             "rgb(62, 187, 94)",
             "rgb(54, 158, 213)",
             "rgb(179, 27, 76)",
             "rgb(179, 146, 21)",
             "rgb(236, 85, 80)",
             "rgb(33, 22, 89)",
             "rgb(225, 59, 87)",
             "rgb(119, 210, 159)"
            ]
           },
           "orientation": "h",
           "textangle": 0,
           "textposition": "outside",
           "texttemplate": "%{y}<br>%{x:.4s}",
           "type": "bar",
           "x": [
            135062201,
            160406516,
            169582274,
            256993281,
            285129013,
            345847886,
            494407622,
            518512573,
            547820731,
            1086955621
           ],
           "y": [
            "Vegetables, fresh nes",
            "Cassava",
            "Barley",
            "Potatoes",
            "Sugar beet",
            "Rice, paddy (rice milled equivalent)",
            "Maize",
            "Rice, paddy",
            "Wheat",
            "Sugar cane"
           ]
          }
         ],
         "layout": {
          "bargap": 0.15,
          "font": {
           "size": 14
          },
          "plot_bgcolor": "#FFFFFF",
          "xaxis": {
           "range": [
            0,
            1907024730
           ],
           "showline": true,
           "visible": true
          },
          "yaxis": {
           "showline": false,
           "visible": true
          }
         },
         "name": "1991"
        },
        {
         "data": [
          {
           "cliponaxis": false,
           "hoverinfo": "all",
           "hovertemplate": "<extra></extra>",
           "marker": {
            "color": [
             "rgb(91, 230, 76)",
             "rgb(193, 21, 123)",
             "rgb(62, 187, 94)",
             "rgb(54, 158, 213)",
             "rgb(179, 27, 76)",
             "rgb(179, 146, 21)",
             "rgb(33, 22, 89)",
             "rgb(236, 85, 80)",
             "rgb(225, 59, 87)",
             "rgb(119, 210, 159)"
            ]
           },
           "orientation": "h",
           "textangle": 0,
           "textposition": "outside",
           "texttemplate": "%{y}<br>%{x:.4s}",
           "type": "bar",
           "x": [
            144904166,
            162004349,
            165533308,
            278980652,
            281711850,
            352094665,
            527878059,
            533789336,
            565111947,
            1107576853
           ],
           "y": [
            "Vegetables, fresh nes",
            "Cassava",
            "Barley",
            "Potatoes",
            "Sugar beet",
            "Rice, paddy (rice milled equivalent)",
            "Rice, paddy",
            "Maize",
            "Wheat",
            "Sugar cane"
           ]
          }
         ],
         "layout": {
          "bargap": 0.15,
          "font": {
           "size": 14
          },
          "plot_bgcolor": "#FFFFFF",
          "xaxis": {
           "range": [
            0,
            1907024730
           ],
           "showline": true,
           "visible": true
          },
          "yaxis": {
           "showline": false,
           "visible": true
          }
         },
         "name": "1992"
        },
        {
         "data": [
          {
           "cliponaxis": false,
           "hoverinfo": "all",
           "hovertemplate": "<extra></extra>",
           "marker": {
            "color": [
             "rgb(91, 230, 76)",
             "rgb(193, 21, 123)",
             "rgb(62, 187, 94)",
             "rgb(179, 27, 76)",
             "rgb(54, 158, 213)",
             "rgb(179, 146, 21)",
             "rgb(236, 85, 80)",
             "rgb(33, 22, 89)",
             "rgb(225, 59, 87)",
             "rgb(119, 210, 159)"
            ]
           },
           "orientation": "h",
           "textangle": 0,
           "textposition": "outside",
           "texttemplate": "%{y}<br>%{x:.4s}",
           "type": "bar",
           "x": [
            155428142,
            163185199,
            169542965,
            282190576,
            304619922,
            353242902,
            477221153,
            529599553,
            564739765,
            1020881319
           ],
           "y": [
            "Vegetables, fresh nes",
            "Cassava",
            "Barley",
            "Sugar beet",
            "Potatoes",
            "Rice, paddy (rice milled equivalent)",
            "Maize",
            "Rice, paddy",
            "Wheat",
            "Sugar cane"
           ]
          }
         ],
         "layout": {
          "bargap": 0.15,
          "font": {
           "size": 14
          },
          "plot_bgcolor": "#FFFFFF",
          "xaxis": {
           "range": [
            0,
            1907024730
           ],
           "showline": true,
           "visible": true
          },
          "yaxis": {
           "showline": false,
           "visible": true
          }
         },
         "name": "1993"
        },
        {
         "data": [
          {
           "cliponaxis": false,
           "hoverinfo": "all",
           "hovertemplate": "<extra></extra>",
           "marker": {
            "color": [
             "rgb(62, 187, 94)",
             "rgb(91, 230, 76)",
             "rgb(193, 21, 123)",
             "rgb(179, 27, 76)",
             "rgb(54, 158, 213)",
             "rgb(179, 146, 21)",
             "rgb(225, 59, 87)",
             "rgb(33, 22, 89)",
             "rgb(236, 85, 80)",
             "rgb(119, 210, 159)"
            ]
           },
           "orientation": "h",
           "textangle": 0,
           "textposition": "outside",
           "texttemplate": "%{y}<br>%{x:.4s}",
           "type": "bar",
           "x": [
            161019263,
            161088312,
            164501121,
            254453796,
            270203771,
            359240229,
            525435323,
            538591048,
            568663564,
            1084097363
           ],
           "y": [
            "Barley",
            "Vegetables, fresh nes",
            "Cassava",
            "Sugar beet",
            "Potatoes",
            "Rice, paddy (rice milled equivalent)",
            "Wheat",
            "Rice, paddy",
            "Maize",
            "Sugar cane"
           ]
          }
         ],
         "layout": {
          "bargap": 0.15,
          "font": {
           "size": 14
          },
          "plot_bgcolor": "#FFFFFF",
          "xaxis": {
           "range": [
            0,
            1907024730
           ],
           "showline": true,
           "visible": true
          },
          "yaxis": {
           "showline": false,
           "visible": true
          }
         },
         "name": "1994"
        },
        {
         "data": [
          {
           "cliponaxis": false,
           "hoverinfo": "all",
           "hovertemplate": "<extra></extra>",
           "marker": {
            "color": [
             "rgb(62, 187, 94)",
             "rgb(193, 21, 123)",
             "rgb(91, 230, 76)",
             "rgb(179, 27, 76)",
             "rgb(54, 158, 213)",
             "rgb(179, 146, 21)",
             "rgb(236, 85, 80)",
             "rgb(225, 59, 87)",
             "rgb(33, 22, 89)",
             "rgb(119, 210, 159)"
            ]
           },
           "orientation": "h",
           "textangle": 0,
           "textposition": "outside",
           "texttemplate": "%{y}<br>%{x:.4s}",
           "type": "bar",
           "x": [
            140724630,
            161787472,
            165885731,
            264504934,
            285333037,
            364957060,
            517299059,
            544357532,
            547162009,
            1163366858
           ],
           "y": [
            "Barley",
            "Cassava",
            "Vegetables, fresh nes",
            "Sugar beet",
            "Potatoes",
            "Rice, paddy (rice milled equivalent)",
            "Maize",
            "Wheat",
            "Rice, paddy",
            "Sugar cane"
           ]
          }
         ],
         "layout": {
          "bargap": 0.15,
          "font": {
           "size": 14
          },
          "plot_bgcolor": "#FFFFFF",
          "xaxis": {
           "range": [
            0,
            1907024730
           ],
           "showline": true,
           "visible": true
          },
          "yaxis": {
           "showline": false,
           "visible": true
          }
         },
         "name": "1995"
        },
        {
         "data": [
          {
           "cliponaxis": false,
           "hoverinfo": "all",
           "hovertemplate": "<extra></extra>",
           "marker": {
            "color": [
             "rgb(62, 187, 94)",
             "rgb(193, 21, 123)",
             "rgb(91, 230, 76)",
             "rgb(179, 27, 76)",
             "rgb(54, 158, 213)",
             "rgb(179, 146, 21)",
             "rgb(33, 22, 89)",
             "rgb(225, 59, 87)",
             "rgb(236, 85, 80)",
             "rgb(119, 210, 159)"
            ]
           },
           "orientation": "h",
           "textangle": 0,
           "textposition": "outside",
           "texttemplate": "%{y}<br>%{x:.4s}",
           "type": "bar",
           "x": [
            155017318,
            158373490,
            171922447,
            264461343,
            310493658,
            379294907,
            568658031,
            578616933,
            586146163,
            1218890125
           ],
           "y": [
            "Barley",
            "Cassava",
            "Vegetables, fresh nes",
            "Sugar beet",
            "Potatoes",
            "Rice, paddy (rice milled equivalent)",
            "Rice, paddy",
            "Wheat",
            "Maize",
            "Sugar cane"
           ]
          }
         ],
         "layout": {
          "bargap": 0.15,
          "font": {
           "size": 14
          },
          "plot_bgcolor": "#FFFFFF",
          "xaxis": {
           "range": [
            0,
            1907024730
           ],
           "showline": true,
           "visible": true
          },
          "yaxis": {
           "showline": false,
           "visible": true
          }
         },
         "name": "1996"
        },
        {
         "data": [
          {
           "cliponaxis": false,
           "hoverinfo": "all",
           "hovertemplate": "<extra></extra>",
           "marker": {
            "color": [
             "rgb(62, 187, 94)",
             "rgb(193, 21, 123)",
             "rgb(91, 230, 76)",
             "rgb(179, 27, 76)",
             "rgb(54, 158, 213)",
             "rgb(179, 146, 21)",
             "rgb(33, 22, 89)",
             "rgb(236, 85, 80)",
             "rgb(225, 59, 87)",
             "rgb(119, 210, 159)"
            ]
           },
           "orientation": "h",
           "textangle": 0,
           "textposition": "outside",
           "texttemplate": "%{y}<br>%{x:.4s}",
           "type": "bar",
           "x": [
            154359212,
            161747290,
            175581351,
            267973956,
            301079129,
            384950308,
            577136893,
            584411894,
            614651780,
            1246425310
           ],
           "y": [
            "Barley",
            "Cassava",
            "Vegetables, fresh nes",
            "Sugar beet",
            "Potatoes",
            "Rice, paddy (rice milled equivalent)",
            "Rice, paddy",
            "Maize",
            "Wheat",
            "Sugar cane"
           ]
          }
         ],
         "layout": {
          "bargap": 0.15,
          "font": {
           "size": 14
          },
          "plot_bgcolor": "#FFFFFF",
          "xaxis": {
           "range": [
            0,
            1907024730
           ],
           "showline": true,
           "visible": true
          },
          "yaxis": {
           "showline": false,
           "visible": true
          }
         },
         "name": "1997"
        },
        {
         "data": [
          {
           "cliponaxis": false,
           "hoverinfo": "all",
           "hovertemplate": "<extra></extra>",
           "marker": {
            "color": [
             "rgb(139, 147, 31)",
             "rgb(193, 21, 123)",
             "rgb(91, 230, 76)",
             "rgb(179, 27, 76)",
             "rgb(54, 158, 213)",
             "rgb(179, 146, 21)",
             "rgb(33, 22, 89)",
             "rgb(225, 59, 87)",
             "rgb(236, 85, 80)",
             "rgb(119, 210, 159)"
            ]
           },
           "orientation": "h",
           "textangle": 0,
           "textposition": "outside",
           "texttemplate": "%{y}<br>%{x:.4s}",
           "type": "bar",
           "x": [
            160128822,
            162613417,
            178523814,
            263032522,
            297834904,
            386068923,
            578813977,
            596175815,
            615081853,
            1263674263
           ],
           "y": [
            "Soybeans",
            "Cassava",
            "Vegetables, fresh nes",
            "Sugar beet",
            "Potatoes",
            "Rice, paddy (rice milled equivalent)",
            "Rice, paddy",
            "Wheat",
            "Maize",
            "Sugar cane"
           ]
          }
         ],
         "layout": {
          "bargap": 0.15,
          "font": {
           "size": 14
          },
          "plot_bgcolor": "#FFFFFF",
          "xaxis": {
           "range": [
            0,
            1907024730
           ],
           "showline": true,
           "visible": true
          },
          "yaxis": {
           "showline": false,
           "visible": true
          }
         },
         "name": "1998"
        },
        {
         "data": [
          {
           "cliponaxis": false,
           "hoverinfo": "all",
           "hovertemplate": "<extra></extra>",
           "marker": {
            "color": [
             "rgb(139, 147, 31)",
             "rgb(193, 21, 123)",
             "rgb(91, 230, 76)",
             "rgb(179, 27, 76)",
             "rgb(54, 158, 213)",
             "rgb(179, 146, 21)",
             "rgb(225, 59, 87)",
             "rgb(236, 85, 80)",
             "rgb(33, 22, 89)",
             "rgb(119, 210, 159)"
            ]
           },
           "orientation": "h",
           "textangle": 0,
           "textposition": "outside",
           "texttemplate": "%{y}<br>%{x:.4s}",
           "type": "bar",
           "x": [
            157815479,
            168847321,
            188064527,
            260565420,
            296076184,
            407655445,
            584763438,
            607434709,
            611177579,
            1282128475
           ],
           "y": [
            "Soybeans",
            "Cassava",
            "Vegetables, fresh nes",
            "Sugar beet",
            "Potatoes",
            "Rice, paddy (rice milled equivalent)",
            "Wheat",
            "Maize",
            "Rice, paddy",
            "Sugar cane"
           ]
          }
         ],
         "layout": {
          "bargap": 0.15,
          "font": {
           "size": 14
          },
          "plot_bgcolor": "#FFFFFF",
          "xaxis": {
           "range": [
            0,
            1907024730
           ],
           "showline": true,
           "visible": true
          },
          "yaxis": {
           "showline": false,
           "visible": true
          }
         },
         "name": "1999"
        },
        {
         "data": [
          {
           "cliponaxis": false,
           "hoverinfo": "all",
           "hovertemplate": "<extra></extra>",
           "marker": {
            "color": [
             "rgb(139, 147, 31)",
             "rgb(193, 21, 123)",
             "rgb(91, 230, 76)",
             "rgb(179, 27, 76)",
             "rgb(54, 158, 213)",
             "rgb(179, 146, 21)",
             "rgb(225, 59, 87)",
             "rgb(236, 85, 80)",
             "rgb(33, 22, 89)",
             "rgb(119, 210, 159)"
            ]
           },
           "orientation": "h",
           "textangle": 0,
           "textposition": "outside",
           "texttemplate": "%{y}<br>%{x:.4s}",
           "type": "bar",
           "x": [
            161308383,
            175846840,
            211610549,
            250148505,
            322775223,
            399311670,
            584999160,
            592038698,
            598668171,
            1252668856
           ],
           "y": [
            "Soybeans",
            "Cassava",
            "Vegetables, fresh nes",
            "Sugar beet",
            "Potatoes",
            "Rice, paddy (rice milled equivalent)",
            "Wheat",
            "Maize",
            "Rice, paddy",
            "Sugar cane"
           ]
          }
         ],
         "layout": {
          "bargap": 0.15,
          "font": {
           "size": 14
          },
          "plot_bgcolor": "#FFFFFF",
          "xaxis": {
           "range": [
            0,
            1907024730
           ],
           "showline": true,
           "visible": true
          },
          "yaxis": {
           "showline": false,
           "visible": true
          }
         },
         "name": "2000"
        },
        {
         "data": [
          {
           "cliponaxis": false,
           "hoverinfo": "all",
           "hovertemplate": "<extra></extra>",
           "marker": {
            "color": [
             "rgb(139, 147, 31)",
             "rgb(193, 21, 123)",
             "rgb(91, 230, 76)",
             "rgb(179, 27, 76)",
             "rgb(54, 158, 213)",
             "rgb(179, 146, 21)",
             "rgb(225, 59, 87)",
             "rgb(33, 22, 89)",
             "rgb(236, 85, 80)",
             "rgb(119, 210, 159)"
            ]
           },
           "orientation": "h",
           "textangle": 0,
           "textposition": "outside",
           "texttemplate": "%{y}<br>%{x:.4s}",
           "type": "bar",
           "x": [
            177020743,
            181687057,
            227180655,
            230314950,
            305492291,
            400364493,
            588243664,
            600246617,
            615152413,
            1257665353
           ],
           "y": [
            "Soybeans",
            "Cassava",
            "Vegetables, fresh nes",
            "Sugar beet",
            "Potatoes",
            "Rice, paddy (rice milled equivalent)",
            "Wheat",
            "Rice, paddy",
            "Maize",
            "Sugar cane"
           ]
          }
         ],
         "layout": {
          "bargap": 0.15,
          "font": {
           "size": 14
          },
          "plot_bgcolor": "#FFFFFF",
          "xaxis": {
           "range": [
            0,
            1907024730
           ],
           "showline": true,
           "visible": true
          },
          "yaxis": {
           "showline": false,
           "visible": true
          }
         },
         "name": "2001"
        },
        {
         "data": [
          {
           "cliponaxis": false,
           "hoverinfo": "all",
           "hovertemplate": "<extra></extra>",
           "marker": {
            "color": [
             "rgb(139, 147, 31)",
             "rgb(193, 21, 123)",
             "rgb(91, 230, 76)",
             "rgb(179, 27, 76)",
             "rgb(54, 158, 213)",
             "rgb(179, 146, 21)",
             "rgb(33, 22, 89)",
             "rgb(225, 59, 87)",
             "rgb(236, 85, 80)",
             "rgb(119, 210, 159)"
            ]
           },
           "orientation": "h",
           "textangle": 0,
           "textposition": "outside",
           "texttemplate": "%{y}<br>%{x:.4s}",
           "type": "bar",
           "x": [
            180950733,
            182642727,
            226692031,
            259606962,
            309800226,
            380891169,
            571051228,
            592045286,
            603551954,
            1326773955
           ],
           "y": [
            "Soybeans",
            "Cassava",
            "Vegetables, fresh nes",
            "Sugar beet",
            "Potatoes",
            "Rice, paddy (rice milled equivalent)",
            "Rice, paddy",
            "Wheat",
            "Maize",
            "Sugar cane"
           ]
          }
         ],
         "layout": {
          "bargap": 0.15,
          "font": {
           "size": 14
          },
          "plot_bgcolor": "#FFFFFF",
          "xaxis": {
           "range": [
            0,
            1907024730
           ],
           "showline": true,
           "visible": true
          },
          "yaxis": {
           "showline": false,
           "visible": true
          }
         },
         "name": "2002"
        },
        {
         "data": [
          {
           "cliponaxis": false,
           "hoverinfo": "all",
           "hovertemplate": "<extra></extra>",
           "marker": {
            "color": [
             "rgb(139, 147, 31)",
             "rgb(193, 21, 123)",
             "rgb(179, 27, 76)",
             "rgb(91, 230, 76)",
             "rgb(54, 158, 213)",
             "rgb(179, 146, 21)",
             "rgb(225, 59, 87)",
             "rgb(33, 22, 89)",
             "rgb(236, 85, 80)",
             "rgb(119, 210, 159)"
            ]
           },
           "orientation": "h",
           "textangle": 0,
           "textposition": "outside",
           "texttemplate": "%{y}<br>%{x:.4s}",
           "type": "bar",
           "x": [
            190573528,
            192215569,
            232734248,
            237183104,
            307591201,
            391483259,
            549974473,
            586931423,
            645055272,
            1371880978
           ],
           "y": [
            "Soybeans",
            "Cassava",
            "Sugar beet",
            "Vegetables, fresh nes",
            "Potatoes",
            "Rice, paddy (rice milled equivalent)",
            "Wheat",
            "Rice, paddy",
            "Maize",
            "Sugar cane"
           ]
          }
         ],
         "layout": {
          "bargap": 0.15,
          "font": {
           "size": 14
          },
          "plot_bgcolor": "#FFFFFF",
          "xaxis": {
           "range": [
            0,
            1907024730
           ],
           "showline": true,
           "visible": true
          },
          "yaxis": {
           "showline": false,
           "visible": true
          }
         },
         "name": "2003"
        },
        {
         "data": [
          {
           "cliponaxis": false,
           "hoverinfo": "all",
           "hovertemplate": "<extra></extra>",
           "marker": {
            "color": [
             "rgb(193, 21, 123)",
             "rgb(139, 147, 31)",
             "rgb(91, 230, 76)",
             "rgb(179, 27, 76)",
             "rgb(54, 158, 213)",
             "rgb(179, 146, 21)",
             "rgb(33, 22, 89)",
             "rgb(225, 59, 87)",
             "rgb(236, 85, 80)",
             "rgb(119, 210, 159)"
            ]
           },
           "orientation": "h",
           "textangle": 0,
           "textposition": "outside",
           "texttemplate": "%{y}<br>%{x:.4s}",
           "type": "bar",
           "x": [
            203831956,
            205548134,
            224325418,
            251589379,
            328165612,
            405101582,
            607348698,
            634666010,
            729517951,
            1333138427
           ],
           "y": [
            "Cassava",
            "Soybeans",
            "Vegetables, fresh nes",
            "Sugar beet",
            "Potatoes",
            "Rice, paddy (rice milled equivalent)",
            "Rice, paddy",
            "Wheat",
            "Maize",
            "Sugar cane"
           ]
          }
         ],
         "layout": {
          "bargap": 0.15,
          "font": {
           "size": 14
          },
          "plot_bgcolor": "#FFFFFF",
          "xaxis": {
           "range": [
            0,
            1907024730
           ],
           "showline": true,
           "visible": true
          },
          "yaxis": {
           "showline": false,
           "visible": true
          }
         },
         "name": "2004"
        },
        {
         "data": [
          {
           "cliponaxis": false,
           "hoverinfo": "all",
           "hovertemplate": "<extra></extra>",
           "marker": {
            "color": [
             "rgb(193, 21, 123)",
             "rgb(139, 147, 31)",
             "rgb(91, 230, 76)",
             "rgb(179, 27, 76)",
             "rgb(54, 158, 213)",
             "rgb(179, 146, 21)",
             "rgb(225, 59, 87)",
             "rgb(33, 22, 89)",
             "rgb(236, 85, 80)",
             "rgb(119, 210, 159)"
            ]
           },
           "orientation": "h",
           "textangle": 0,
           "textposition": "outside",
           "texttemplate": "%{y}<br>%{x:.4s}",
           "type": "bar",
           "x": [
            206533771,
            214542761,
            231771630,
            253737449,
            317675179,
            423028136,
            627020836,
            634225091,
            714191174,
            1306307695
           ],
           "y": [
            "Cassava",
            "Soybeans",
            "Vegetables, fresh nes",
            "Sugar beet",
            "Potatoes",
            "Rice, paddy (rice milled equivalent)",
            "Wheat",
            "Rice, paddy",
            "Maize",
            "Sugar cane"
           ]
          }
         ],
         "layout": {
          "bargap": 0.15,
          "font": {
           "size": 14
          },
          "plot_bgcolor": "#FFFFFF",
          "xaxis": {
           "range": [
            0,
            1907024730
           ],
           "showline": true,
           "visible": true
          },
          "yaxis": {
           "showline": false,
           "visible": true
          }
         },
         "name": "2005"
        },
        {
         "data": [
          {
           "cliponaxis": false,
           "hoverinfo": "all",
           "hovertemplate": "<extra></extra>",
           "marker": {
            "color": [
             "rgb(139, 147, 31)",
             "rgb(193, 21, 123)",
             "rgb(91, 230, 76)",
             "rgb(179, 27, 76)",
             "rgb(54, 158, 213)",
             "rgb(179, 146, 21)",
             "rgb(225, 59, 87)",
             "rgb(33, 22, 89)",
             "rgb(236, 85, 80)",
             "rgb(119, 210, 159)"
            ]
           },
           "orientation": "h",
           "textangle": 0,
           "textposition": "outside",
           "texttemplate": "%{y}<br>%{x:.4s}",
           "type": "bar",
           "x": [
            221558922,
            223636615,
            241884277,
            254025175,
            307572166,
            427350243,
            614381123,
            640705012,
            707937211,
            1417376025
           ],
           "y": [
            "Soybeans",
            "Cassava",
            "Vegetables, fresh nes",
            "Sugar beet",
            "Potatoes",
            "Rice, paddy (rice milled equivalent)",
            "Wheat",
            "Rice, paddy",
            "Maize",
            "Sugar cane"
           ]
          }
         ],
         "layout": {
          "bargap": 0.15,
          "font": {
           "size": 14
          },
          "plot_bgcolor": "#FFFFFF",
          "xaxis": {
           "range": [
            0,
            1907024730
           ],
           "showline": true,
           "visible": true
          },
          "yaxis": {
           "showline": false,
           "visible": true
          }
         },
         "name": "2006"
        },
        {
         "data": [
          {
           "cliponaxis": false,
           "hoverinfo": "all",
           "hovertemplate": "<extra></extra>",
           "marker": {
            "color": [
             "rgb(139, 147, 31)",
             "rgb(193, 21, 123)",
             "rgb(91, 230, 76)",
             "rgb(179, 27, 76)",
             "rgb(54, 158, 213)",
             "rgb(179, 146, 21)",
             "rgb(225, 59, 87)",
             "rgb(33, 22, 89)",
             "rgb(236, 85, 80)",
             "rgb(119, 210, 159)"
            ]
           },
           "orientation": "h",
           "textangle": 0,
           "textposition": "outside",
           "texttemplate": "%{y}<br>%{x:.4s}",
           "type": "bar",
           "x": [
            219793075,
            226974274,
            244610984,
            246945604,
            313191368,
            437923034,
            606595140,
            656556273,
            792732888,
            1605136205
           ],
           "y": [
            "Soybeans",
            "Cassava",
            "Vegetables, fresh nes",
            "Sugar beet",
            "Potatoes",
            "Rice, paddy (rice milled equivalent)",
            "Wheat",
            "Rice, paddy",
            "Maize",
            "Sugar cane"
           ]
          }
         ],
         "layout": {
          "bargap": 0.15,
          "font": {
           "size": 14
          },
          "plot_bgcolor": "#FFFFFF",
          "xaxis": {
           "range": [
            0,
            1907024730
           ],
           "showline": true,
           "visible": true
          },
          "yaxis": {
           "showline": false,
           "visible": true
          }
         },
         "name": "2007"
        },
        {
         "data": [
          {
           "cliponaxis": false,
           "hoverinfo": "all",
           "hovertemplate": "<extra></extra>",
           "marker": {
            "color": [
             "rgb(179, 27, 76)",
             "rgb(193, 21, 123)",
             "rgb(139, 147, 31)",
             "rgb(91, 230, 76)",
             "rgb(54, 158, 213)",
             "rgb(179, 146, 21)",
             "rgb(225, 59, 87)",
             "rgb(33, 22, 89)",
             "rgb(236, 85, 80)",
             "rgb(119, 210, 159)"
            ]
           },
           "orientation": "h",
           "textangle": 0,
           "textposition": "outside",
           "texttemplate": "%{y}<br>%{x:.4s}",
           "type": "bar",
           "x": [
            221199239,
            230081674,
            231223485,
            249305237,
            327188473,
            458262606,
            680294443,
            687050383,
            829240208,
            1721251508
           ],
           "y": [
            "Sugar beet",
            "Cassava",
            "Soybeans",
            "Vegetables, fresh nes",
            "Potatoes",
            "Rice, paddy (rice milled equivalent)",
            "Wheat",
            "Rice, paddy",
            "Maize",
            "Sugar cane"
           ]
          }
         ],
         "layout": {
          "bargap": 0.15,
          "font": {
           "size": 14
          },
          "plot_bgcolor": "#FFFFFF",
          "xaxis": {
           "range": [
            0,
            1907024730
           ],
           "showline": true,
           "visible": true
          },
          "yaxis": {
           "showline": false,
           "visible": true
          }
         },
         "name": "2008"
        },
        {
         "data": [
          {
           "cliponaxis": false,
           "hoverinfo": "all",
           "hovertemplate": "<extra></extra>",
           "marker": {
            "color": [
             "rgb(139, 147, 31)",
             "rgb(179, 27, 76)",
             "rgb(193, 21, 123)",
             "rgb(91, 230, 76)",
             "rgb(54, 158, 213)",
             "rgb(179, 146, 21)",
             "rgb(225, 59, 87)",
             "rgb(33, 22, 89)",
             "rgb(236, 85, 80)",
             "rgb(119, 210, 159)"
            ]
           },
           "orientation": "h",
           "textangle": 0,
           "textposition": "outside",
           "texttemplate": "%{y}<br>%{x:.4s}",
           "type": "bar",
           "x": [
            223380802,
            227985771,
            233794346,
            248581509,
            330740148,
            457333039,
            683639171,
            685656731,
            820072448,
            1677610596
           ],
           "y": [
            "Soybeans",
            "Sugar beet",
            "Cassava",
            "Vegetables, fresh nes",
            "Potatoes",
            "Rice, paddy (rice milled equivalent)",
            "Wheat",
            "Rice, paddy",
            "Maize",
            "Sugar cane"
           ]
          }
         ],
         "layout": {
          "bargap": 0.15,
          "font": {
           "size": 14
          },
          "plot_bgcolor": "#FFFFFF",
          "xaxis": {
           "range": [
            0,
            1907024730
           ],
           "showline": true,
           "visible": true
          },
          "yaxis": {
           "showline": false,
           "visible": true
          }
         },
         "name": "2009"
        },
        {
         "data": [
          {
           "cliponaxis": false,
           "hoverinfo": "all",
           "hovertemplate": "<extra></extra>",
           "marker": {
            "color": [
             "rgb(179, 27, 76)",
             "rgb(193, 21, 123)",
             "rgb(91, 230, 76)",
             "rgb(139, 147, 31)",
             "rgb(54, 158, 213)",
             "rgb(179, 146, 21)",
             "rgb(225, 59, 87)",
             "rgb(33, 22, 89)",
             "rgb(236, 85, 80)",
             "rgb(119, 210, 159)"
            ]
           },
           "orientation": "h",
           "textangle": 0,
           "textposition": "outside",
           "texttemplate": "%{y}<br>%{x:.4s}",
           "type": "bar",
           "x": [
            228408922,
            239296357,
            259746276,
            265088429,
            328616920,
            467659411,
            640802665,
            701138548,
            851679519,
            1682839957
           ],
           "y": [
            "Sugar beet",
            "Cassava",
            "Vegetables, fresh nes",
            "Soybeans",
            "Potatoes",
            "Rice, paddy (rice milled equivalent)",
            "Wheat",
            "Rice, paddy",
            "Maize",
            "Sugar cane"
           ]
          }
         ],
         "layout": {
          "bargap": 0.15,
          "font": {
           "size": 14
          },
          "plot_bgcolor": "#FFFFFF",
          "xaxis": {
           "range": [
            0,
            1907024730
           ],
           "showline": true,
           "visible": true
          },
          "yaxis": {
           "showline": false,
           "visible": true
          }
         },
         "name": "2010"
        },
        {
         "data": [
          {
           "cliponaxis": false,
           "hoverinfo": "all",
           "hovertemplate": "<extra></extra>",
           "marker": {
            "color": [
             "rgb(193, 21, 123)",
             "rgb(91, 230, 76)",
             "rgb(139, 147, 31)",
             "rgb(179, 27, 76)",
             "rgb(54, 158, 213)",
             "rgb(179, 146, 21)",
             "rgb(225, 59, 87)",
             "rgb(33, 22, 89)",
             "rgb(236, 85, 80)",
             "rgb(119, 210, 159)"
            ]
           },
           "orientation": "h",
           "textangle": 0,
           "textposition": "outside",
           "texttemplate": "%{y}<br>%{x:.4s}",
           "type": "bar",
           "x": [
            251822205,
            260842101,
            261601653,
            278833260,
            367889898,
            484492968,
            696898368,
            726376264,
            886680581,
            1794120501
           ],
           "y": [
            "Cassava",
            "Vegetables, fresh nes",
            "Soybeans",
            "Sugar beet",
            "Potatoes",
            "Rice, paddy (rice milled equivalent)",
            "Wheat",
            "Rice, paddy",
            "Maize",
            "Sugar cane"
           ]
          }
         ],
         "layout": {
          "bargap": 0.15,
          "font": {
           "size": 14
          },
          "plot_bgcolor": "#FFFFFF",
          "xaxis": {
           "range": [
            0,
            1907024730
           ],
           "showline": true,
           "visible": true
          },
          "yaxis": {
           "showline": false,
           "visible": true
          }
         },
         "name": "2011"
        },
        {
         "data": [
          {
           "cliponaxis": false,
           "hoverinfo": "all",
           "hovertemplate": "<extra></extra>",
           "marker": {
            "color": [
             "rgb(121, 15, 103)",
             "rgb(179, 27, 76)",
             "rgb(91, 230, 76)",
             "rgb(193, 21, 123)",
             "rgb(54, 158, 213)",
             "rgb(179, 146, 21)",
             "rgb(225, 59, 87)",
             "rgb(33, 22, 89)",
             "rgb(236, 85, 80)",
             "rgb(119, 210, 159)"
            ]
           },
           "orientation": "h",
           "textangle": 0,
           "textposition": "outside",
           "texttemplate": "%{y}<br>%{x:.4s}",
           "type": "bar",
           "x": [
            256568919,
            269637113,
            272044780,
            277683210,
            361003266,
            491310036,
            673728907,
            736596755,
            875039160,
            1831008220
           ],
           "y": [
            "Oil palm fruit",
            "Sugar beet",
            "Vegetables, fresh nes",
            "Cassava",
            "Potatoes",
            "Rice, paddy (rice milled equivalent)",
            "Wheat",
            "Rice, paddy",
            "Maize",
            "Sugar cane"
           ]
          }
         ],
         "layout": {
          "bargap": 0.15,
          "font": {
           "size": 14
          },
          "plot_bgcolor": "#FFFFFF",
          "xaxis": {
           "range": [
            0,
            1907024730
           ],
           "showline": true,
           "visible": true
          },
          "yaxis": {
           "showline": false,
           "visible": true
          }
         },
         "name": "2012"
        },
        {
         "data": [
          {
           "cliponaxis": false,
           "hoverinfo": "all",
           "hovertemplate": "<extra></extra>",
           "marker": {
            "color": [
             "rgb(121, 15, 103)",
             "rgb(139, 147, 31)",
             "rgb(91, 230, 76)",
             "rgb(193, 21, 123)",
             "rgb(54, 158, 213)",
             "rgb(179, 146, 21)",
             "rgb(225, 59, 87)",
             "rgb(33, 22, 89)",
             "rgb(236, 85, 80)",
             "rgb(119, 210, 159)"
            ]
           },
           "orientation": "h",
           "textangle": 0,
           "textposition": "outside",
           "texttemplate": "%{y}<br>%{x:.4s}",
           "type": "bar",
           "x": [
            265060825,
            277672608,
            277982471,
            278454322,
            365087514,
            495250794,
            710397103,
            742504938,
            1016207182,
            1901868866
           ],
           "y": [
            "Oil palm fruit",
            "Soybeans",
            "Vegetables, fresh nes",
            "Cassava",
            "Potatoes",
            "Rice, paddy (rice milled equivalent)",
            "Wheat",
            "Rice, paddy",
            "Maize",
            "Sugar cane"
           ]
          }
         ],
         "layout": {
          "bargap": 0.15,
          "font": {
           "size": 14
          },
          "plot_bgcolor": "#FFFFFF",
          "xaxis": {
           "range": [
            0,
            1907024730
           ],
           "showline": true,
           "visible": true
          },
          "yaxis": {
           "showline": false,
           "visible": true
          }
         },
         "name": "2013"
        },
        {
         "data": [
          {
           "cliponaxis": false,
           "hoverinfo": "all",
           "hovertemplate": "<extra></extra>",
           "marker": {
            "color": [
             "rgb(91, 230, 76)",
             "rgb(121, 15, 103)",
             "rgb(193, 21, 123)",
             "rgb(139, 147, 31)",
             "rgb(54, 158, 213)",
             "rgb(179, 146, 21)",
             "rgb(225, 59, 87)",
             "rgb(33, 22, 89)",
             "rgb(236, 85, 80)",
             "rgb(119, 210, 159)"
            ]
           },
           "orientation": "h",
           "textangle": 0,
           "textposition": "outside",
           "texttemplate": "%{y}<br>%{x:.4s}",
           "type": "bar",
           "x": [
            285693443,
            285916764,
            290942989,
            306348530,
            369966532,
            495216917,
            728730126,
            742454148,
            1039226655,
            1885955643
           ],
           "y": [
            "Vegetables, fresh nes",
            "Oil palm fruit",
            "Cassava",
            "Soybeans",
            "Potatoes",
            "Rice, paddy (rice milled equivalent)",
            "Wheat",
            "Rice, paddy",
            "Maize",
            "Sugar cane"
           ]
          }
         ],
         "layout": {
          "bargap": 0.15,
          "font": {
           "size": 14
          },
          "plot_bgcolor": "#FFFFFF",
          "xaxis": {
           "range": [
            0,
            1907024730
           ],
           "showline": true,
           "visible": true
          },
          "yaxis": {
           "showline": false,
           "visible": true
          }
         },
         "name": "2014"
        },
        {
         "data": [
          {
           "cliponaxis": false,
           "hoverinfo": "all",
           "hovertemplate": "<extra></extra>",
           "marker": {
            "color": [
             "rgb(91, 230, 76)",
             "rgb(193, 21, 123)",
             "rgb(121, 15, 103)",
             "rgb(139, 147, 31)",
             "rgb(54, 158, 213)",
             "rgb(179, 146, 21)",
             "rgb(225, 59, 87)",
             "rgb(33, 22, 89)",
             "rgb(236, 85, 80)",
             "rgb(119, 210, 159)"
            ]
           },
           "orientation": "h",
           "textangle": 0,
           "textposition": "outside",
           "texttemplate": "%{y}<br>%{x:.4s}",
           "type": "bar",
           "x": [
            288931169,
            293010305,
            300284643,
            323306702,
            365748227,
            497518927,
            741643258,
            745905437,
            1052127378,
            1875060932
           ],
           "y": [
            "Vegetables, fresh nes",
            "Cassava",
            "Oil palm fruit",
            "Soybeans",
            "Potatoes",
            "Rice, paddy (rice milled equivalent)",
            "Wheat",
            "Rice, paddy",
            "Maize",
            "Sugar cane"
           ]
          }
         ],
         "layout": {
          "bargap": 0.15,
          "font": {
           "size": 14
          },
          "plot_bgcolor": "#FFFFFF",
          "xaxis": {
           "range": [
            0,
            1907024730
           ],
           "showline": true,
           "visible": true
          },
          "yaxis": {
           "showline": false,
           "visible": true
          }
         },
         "name": "2015"
        },
        {
         "data": [
          {
           "cliponaxis": false,
           "hoverinfo": "all",
           "hovertemplate": "<extra></extra>",
           "marker": {
            "color": [
             "rgb(179, 27, 76)",
             "rgb(193, 21, 123)",
             "rgb(91, 230, 76)",
             "rgb(139, 147, 31)",
             "rgb(54, 158, 213)",
             "rgb(179, 146, 21)",
             "rgb(225, 59, 87)",
             "rgb(33, 22, 89)",
             "rgb(236, 85, 80)",
             "rgb(119, 210, 159)"
            ]
           },
           "orientation": "h",
           "textangle": 0,
           "textposition": "outside",
           "texttemplate": "%{y}<br>%{x:.4s}",
           "type": "bar",
           "x": [
            278702349,
            288497460,
            292920885,
            335613801,
            356952488,
            501507373,
            748392150,
            751885117,
            1126990585,
            1874611396
           ],
           "y": [
            "Sugar beet",
            "Cassava",
            "Vegetables, fresh nes",
            "Soybeans",
            "Potatoes",
            "Rice, paddy (rice milled equivalent)",
            "Wheat",
            "Rice, paddy",
            "Maize",
            "Sugar cane"
           ]
          }
         ],
         "layout": {
          "bargap": 0.15,
          "font": {
           "size": 14
          },
          "plot_bgcolor": "#FFFFFF",
          "xaxis": {
           "range": [
            0,
            1907024730
           ],
           "showline": true,
           "visible": true
          },
          "yaxis": {
           "showline": false,
           "visible": true
          }
         },
         "name": "2016"
        },
        {
         "data": [
          {
           "cliponaxis": false,
           "hoverinfo": "all",
           "hovertemplate": "<extra></extra>",
           "marker": {
            "color": [
             "rgb(193, 21, 123)",
             "rgb(91, 230, 76)",
             "rgb(179, 27, 76)",
             "rgb(139, 147, 31)",
             "rgb(54, 158, 213)",
             "rgb(179, 146, 21)",
             "rgb(33, 22, 89)",
             "rgb(225, 59, 87)",
             "rgb(236, 85, 80)",
             "rgb(119, 210, 159)"
            ]
           },
           "orientation": "h",
           "textangle": 0,
           "textposition": "outside",
           "texttemplate": "%{y}<br>%{x:.4s}",
           "type": "bar",
           "x": [
            279304523,
            294934038,
            310374816,
            353026796,
            373774234,
            513476024,
            769829121,
            773476524,
            1164400832,
            1851333716
           ],
           "y": [
            "Cassava",
            "Vegetables, fresh nes",
            "Sugar beet",
            "Soybeans",
            "Potatoes",
            "Rice, paddy (rice milled equivalent)",
            "Rice, paddy",
            "Wheat",
            "Maize",
            "Sugar cane"
           ]
          }
         ],
         "layout": {
          "bargap": 0.15,
          "font": {
           "size": 14
          },
          "plot_bgcolor": "#FFFFFF",
          "xaxis": {
           "range": [
            0,
            1907024730
           ],
           "showline": true,
           "visible": true
          },
          "yaxis": {
           "showline": false,
           "visible": true
          }
         },
         "name": "2017"
        },
        {
         "data": [
          {
           "cliponaxis": false,
           "hoverinfo": "all",
           "hovertemplate": "<extra></extra>",
           "marker": {
            "color": [
             "rgb(179, 27, 76)",
             "rgb(193, 21, 123)",
             "rgb(91, 230, 76)",
             "rgb(139, 147, 31)",
             "rgb(54, 158, 213)",
             "rgb(179, 146, 21)",
             "rgb(225, 59, 87)",
             "rgb(33, 22, 89)",
             "rgb(236, 85, 80)",
             "rgb(119, 210, 159)"
            ]
           },
           "orientation": "h",
           "textangle": 0,
           "textposition": "outside",
           "texttemplate": "%{y}<br>%{x:.4s}",
           "type": "bar",
           "x": [
            274886306,
            277808759,
            297596674,
            348712311,
            368168914,
            521594098,
            734045174,
            782000147,
            1147621938,
            1907024730
           ],
           "y": [
            "Sugar beet",
            "Cassava",
            "Vegetables, fresh nes",
            "Soybeans",
            "Potatoes",
            "Rice, paddy (rice milled equivalent)",
            "Wheat",
            "Rice, paddy",
            "Maize",
            "Sugar cane"
           ]
          }
         ],
         "layout": {
          "bargap": 0.15,
          "font": {
           "size": 14
          },
          "plot_bgcolor": "#FFFFFF",
          "xaxis": {
           "range": [
            0,
            1907024730
           ],
           "showline": true,
           "visible": true
          },
          "yaxis": {
           "showline": false,
           "visible": true
          }
         },
         "name": "2018"
        }
       ],
       "layout": {
        "bargap": 0.15,
        "font": {
         "size": 14
        },
        "plot_bgcolor": "#FFFFFF",
        "sliders": [
         {
          "active": 0,
          "currentvalue": {
           "font": {
            "size": 20
           },
           "prefix": "Year: ",
           "visible": true,
           "xanchor": "right"
          },
          "len": 0.9,
          "pad": {
           "b": 10,
           "t": 50
          },
          "steps": [
           {
            "args": [
             [
              "1961"
             ],
             {
              "frame": {
               "duration": 800,
               "redraw": false
              },
              "mode": "immediate",
              "transition": {
               "duration": 800
              }
             }
            ],
            "label": "1961",
            "method": "animate"
           },
           {
            "args": [
             [
              "1962"
             ],
             {
              "frame": {
               "duration": 800,
               "redraw": false
              },
              "mode": "immediate",
              "transition": {
               "duration": 800
              }
             }
            ],
            "label": "1962",
            "method": "animate"
           },
           {
            "args": [
             [
              "1963"
             ],
             {
              "frame": {
               "duration": 800,
               "redraw": false
              },
              "mode": "immediate",
              "transition": {
               "duration": 800
              }
             }
            ],
            "label": "1963",
            "method": "animate"
           },
           {
            "args": [
             [
              "1964"
             ],
             {
              "frame": {
               "duration": 800,
               "redraw": false
              },
              "mode": "immediate",
              "transition": {
               "duration": 800
              }
             }
            ],
            "label": "1964",
            "method": "animate"
           },
           {
            "args": [
             [
              "1965"
             ],
             {
              "frame": {
               "duration": 800,
               "redraw": false
              },
              "mode": "immediate",
              "transition": {
               "duration": 800
              }
             }
            ],
            "label": "1965",
            "method": "animate"
           },
           {
            "args": [
             [
              "1966"
             ],
             {
              "frame": {
               "duration": 800,
               "redraw": false
              },
              "mode": "immediate",
              "transition": {
               "duration": 800
              }
             }
            ],
            "label": "1966",
            "method": "animate"
           },
           {
            "args": [
             [
              "1967"
             ],
             {
              "frame": {
               "duration": 800,
               "redraw": false
              },
              "mode": "immediate",
              "transition": {
               "duration": 800
              }
             }
            ],
            "label": "1967",
            "method": "animate"
           },
           {
            "args": [
             [
              "1968"
             ],
             {
              "frame": {
               "duration": 800,
               "redraw": false
              },
              "mode": "immediate",
              "transition": {
               "duration": 800
              }
             }
            ],
            "label": "1968",
            "method": "animate"
           },
           {
            "args": [
             [
              "1969"
             ],
             {
              "frame": {
               "duration": 800,
               "redraw": false
              },
              "mode": "immediate",
              "transition": {
               "duration": 800
              }
             }
            ],
            "label": "1969",
            "method": "animate"
           },
           {
            "args": [
             [
              "1970"
             ],
             {
              "frame": {
               "duration": 800,
               "redraw": false
              },
              "mode": "immediate",
              "transition": {
               "duration": 800
              }
             }
            ],
            "label": "1970",
            "method": "animate"
           },
           {
            "args": [
             [
              "1971"
             ],
             {
              "frame": {
               "duration": 800,
               "redraw": false
              },
              "mode": "immediate",
              "transition": {
               "duration": 800
              }
             }
            ],
            "label": "1971",
            "method": "animate"
           },
           {
            "args": [
             [
              "1972"
             ],
             {
              "frame": {
               "duration": 800,
               "redraw": false
              },
              "mode": "immediate",
              "transition": {
               "duration": 800
              }
             }
            ],
            "label": "1972",
            "method": "animate"
           },
           {
            "args": [
             [
              "1973"
             ],
             {
              "frame": {
               "duration": 800,
               "redraw": false
              },
              "mode": "immediate",
              "transition": {
               "duration": 800
              }
             }
            ],
            "label": "1973",
            "method": "animate"
           },
           {
            "args": [
             [
              "1974"
             ],
             {
              "frame": {
               "duration": 800,
               "redraw": false
              },
              "mode": "immediate",
              "transition": {
               "duration": 800
              }
             }
            ],
            "label": "1974",
            "method": "animate"
           },
           {
            "args": [
             [
              "1975"
             ],
             {
              "frame": {
               "duration": 800,
               "redraw": false
              },
              "mode": "immediate",
              "transition": {
               "duration": 800
              }
             }
            ],
            "label": "1975",
            "method": "animate"
           },
           {
            "args": [
             [
              "1976"
             ],
             {
              "frame": {
               "duration": 800,
               "redraw": false
              },
              "mode": "immediate",
              "transition": {
               "duration": 800
              }
             }
            ],
            "label": "1976",
            "method": "animate"
           },
           {
            "args": [
             [
              "1977"
             ],
             {
              "frame": {
               "duration": 800,
               "redraw": false
              },
              "mode": "immediate",
              "transition": {
               "duration": 800
              }
             }
            ],
            "label": "1977",
            "method": "animate"
           },
           {
            "args": [
             [
              "1978"
             ],
             {
              "frame": {
               "duration": 800,
               "redraw": false
              },
              "mode": "immediate",
              "transition": {
               "duration": 800
              }
             }
            ],
            "label": "1978",
            "method": "animate"
           },
           {
            "args": [
             [
              "1979"
             ],
             {
              "frame": {
               "duration": 800,
               "redraw": false
              },
              "mode": "immediate",
              "transition": {
               "duration": 800
              }
             }
            ],
            "label": "1979",
            "method": "animate"
           },
           {
            "args": [
             [
              "1980"
             ],
             {
              "frame": {
               "duration": 800,
               "redraw": false
              },
              "mode": "immediate",
              "transition": {
               "duration": 800
              }
             }
            ],
            "label": "1980",
            "method": "animate"
           },
           {
            "args": [
             [
              "1981"
             ],
             {
              "frame": {
               "duration": 800,
               "redraw": false
              },
              "mode": "immediate",
              "transition": {
               "duration": 800
              }
             }
            ],
            "label": "1981",
            "method": "animate"
           },
           {
            "args": [
             [
              "1982"
             ],
             {
              "frame": {
               "duration": 800,
               "redraw": false
              },
              "mode": "immediate",
              "transition": {
               "duration": 800
              }
             }
            ],
            "label": "1982",
            "method": "animate"
           },
           {
            "args": [
             [
              "1983"
             ],
             {
              "frame": {
               "duration": 800,
               "redraw": false
              },
              "mode": "immediate",
              "transition": {
               "duration": 800
              }
             }
            ],
            "label": "1983",
            "method": "animate"
           },
           {
            "args": [
             [
              "1984"
             ],
             {
              "frame": {
               "duration": 800,
               "redraw": false
              },
              "mode": "immediate",
              "transition": {
               "duration": 800
              }
             }
            ],
            "label": "1984",
            "method": "animate"
           },
           {
            "args": [
             [
              "1985"
             ],
             {
              "frame": {
               "duration": 800,
               "redraw": false
              },
              "mode": "immediate",
              "transition": {
               "duration": 800
              }
             }
            ],
            "label": "1985",
            "method": "animate"
           },
           {
            "args": [
             [
              "1986"
             ],
             {
              "frame": {
               "duration": 800,
               "redraw": false
              },
              "mode": "immediate",
              "transition": {
               "duration": 800
              }
             }
            ],
            "label": "1986",
            "method": "animate"
           },
           {
            "args": [
             [
              "1987"
             ],
             {
              "frame": {
               "duration": 800,
               "redraw": false
              },
              "mode": "immediate",
              "transition": {
               "duration": 800
              }
             }
            ],
            "label": "1987",
            "method": "animate"
           },
           {
            "args": [
             [
              "1988"
             ],
             {
              "frame": {
               "duration": 800,
               "redraw": false
              },
              "mode": "immediate",
              "transition": {
               "duration": 800
              }
             }
            ],
            "label": "1988",
            "method": "animate"
           },
           {
            "args": [
             [
              "1989"
             ],
             {
              "frame": {
               "duration": 800,
               "redraw": false
              },
              "mode": "immediate",
              "transition": {
               "duration": 800
              }
             }
            ],
            "label": "1989",
            "method": "animate"
           },
           {
            "args": [
             [
              "1990"
             ],
             {
              "frame": {
               "duration": 800,
               "redraw": false
              },
              "mode": "immediate",
              "transition": {
               "duration": 800
              }
             }
            ],
            "label": "1990",
            "method": "animate"
           },
           {
            "args": [
             [
              "1991"
             ],
             {
              "frame": {
               "duration": 800,
               "redraw": false
              },
              "mode": "immediate",
              "transition": {
               "duration": 800
              }
             }
            ],
            "label": "1991",
            "method": "animate"
           },
           {
            "args": [
             [
              "1992"
             ],
             {
              "frame": {
               "duration": 800,
               "redraw": false
              },
              "mode": "immediate",
              "transition": {
               "duration": 800
              }
             }
            ],
            "label": "1992",
            "method": "animate"
           },
           {
            "args": [
             [
              "1993"
             ],
             {
              "frame": {
               "duration": 800,
               "redraw": false
              },
              "mode": "immediate",
              "transition": {
               "duration": 800
              }
             }
            ],
            "label": "1993",
            "method": "animate"
           },
           {
            "args": [
             [
              "1994"
             ],
             {
              "frame": {
               "duration": 800,
               "redraw": false
              },
              "mode": "immediate",
              "transition": {
               "duration": 800
              }
             }
            ],
            "label": "1994",
            "method": "animate"
           },
           {
            "args": [
             [
              "1995"
             ],
             {
              "frame": {
               "duration": 800,
               "redraw": false
              },
              "mode": "immediate",
              "transition": {
               "duration": 800
              }
             }
            ],
            "label": "1995",
            "method": "animate"
           },
           {
            "args": [
             [
              "1996"
             ],
             {
              "frame": {
               "duration": 800,
               "redraw": false
              },
              "mode": "immediate",
              "transition": {
               "duration": 800
              }
             }
            ],
            "label": "1996",
            "method": "animate"
           },
           {
            "args": [
             [
              "1997"
             ],
             {
              "frame": {
               "duration": 800,
               "redraw": false
              },
              "mode": "immediate",
              "transition": {
               "duration": 800
              }
             }
            ],
            "label": "1997",
            "method": "animate"
           },
           {
            "args": [
             [
              "1998"
             ],
             {
              "frame": {
               "duration": 800,
               "redraw": false
              },
              "mode": "immediate",
              "transition": {
               "duration": 800
              }
             }
            ],
            "label": "1998",
            "method": "animate"
           },
           {
            "args": [
             [
              "1999"
             ],
             {
              "frame": {
               "duration": 800,
               "redraw": false
              },
              "mode": "immediate",
              "transition": {
               "duration": 800
              }
             }
            ],
            "label": "1999",
            "method": "animate"
           },
           {
            "args": [
             [
              "2000"
             ],
             {
              "frame": {
               "duration": 800,
               "redraw": false
              },
              "mode": "immediate",
              "transition": {
               "duration": 800
              }
             }
            ],
            "label": "2000",
            "method": "animate"
           },
           {
            "args": [
             [
              "2001"
             ],
             {
              "frame": {
               "duration": 800,
               "redraw": false
              },
              "mode": "immediate",
              "transition": {
               "duration": 800
              }
             }
            ],
            "label": "2001",
            "method": "animate"
           },
           {
            "args": [
             [
              "2002"
             ],
             {
              "frame": {
               "duration": 800,
               "redraw": false
              },
              "mode": "immediate",
              "transition": {
               "duration": 800
              }
             }
            ],
            "label": "2002",
            "method": "animate"
           },
           {
            "args": [
             [
              "2003"
             ],
             {
              "frame": {
               "duration": 800,
               "redraw": false
              },
              "mode": "immediate",
              "transition": {
               "duration": 800
              }
             }
            ],
            "label": "2003",
            "method": "animate"
           },
           {
            "args": [
             [
              "2004"
             ],
             {
              "frame": {
               "duration": 800,
               "redraw": false
              },
              "mode": "immediate",
              "transition": {
               "duration": 800
              }
             }
            ],
            "label": "2004",
            "method": "animate"
           },
           {
            "args": [
             [
              "2005"
             ],
             {
              "frame": {
               "duration": 800,
               "redraw": false
              },
              "mode": "immediate",
              "transition": {
               "duration": 800
              }
             }
            ],
            "label": "2005",
            "method": "animate"
           },
           {
            "args": [
             [
              "2006"
             ],
             {
              "frame": {
               "duration": 800,
               "redraw": false
              },
              "mode": "immediate",
              "transition": {
               "duration": 800
              }
             }
            ],
            "label": "2006",
            "method": "animate"
           },
           {
            "args": [
             [
              "2007"
             ],
             {
              "frame": {
               "duration": 800,
               "redraw": false
              },
              "mode": "immediate",
              "transition": {
               "duration": 800
              }
             }
            ],
            "label": "2007",
            "method": "animate"
           },
           {
            "args": [
             [
              "2008"
             ],
             {
              "frame": {
               "duration": 800,
               "redraw": false
              },
              "mode": "immediate",
              "transition": {
               "duration": 800
              }
             }
            ],
            "label": "2008",
            "method": "animate"
           },
           {
            "args": [
             [
              "2009"
             ],
             {
              "frame": {
               "duration": 800,
               "redraw": false
              },
              "mode": "immediate",
              "transition": {
               "duration": 800
              }
             }
            ],
            "label": "2009",
            "method": "animate"
           },
           {
            "args": [
             [
              "2010"
             ],
             {
              "frame": {
               "duration": 800,
               "redraw": false
              },
              "mode": "immediate",
              "transition": {
               "duration": 800
              }
             }
            ],
            "label": "2010",
            "method": "animate"
           },
           {
            "args": [
             [
              "2011"
             ],
             {
              "frame": {
               "duration": 800,
               "redraw": false
              },
              "mode": "immediate",
              "transition": {
               "duration": 800
              }
             }
            ],
            "label": "2011",
            "method": "animate"
           },
           {
            "args": [
             [
              "2012"
             ],
             {
              "frame": {
               "duration": 800,
               "redraw": false
              },
              "mode": "immediate",
              "transition": {
               "duration": 800
              }
             }
            ],
            "label": "2012",
            "method": "animate"
           },
           {
            "args": [
             [
              "2013"
             ],
             {
              "frame": {
               "duration": 800,
               "redraw": false
              },
              "mode": "immediate",
              "transition": {
               "duration": 800
              }
             }
            ],
            "label": "2013",
            "method": "animate"
           },
           {
            "args": [
             [
              "2014"
             ],
             {
              "frame": {
               "duration": 800,
               "redraw": false
              },
              "mode": "immediate",
              "transition": {
               "duration": 800
              }
             }
            ],
            "label": "2014",
            "method": "animate"
           },
           {
            "args": [
             [
              "2015"
             ],
             {
              "frame": {
               "duration": 800,
               "redraw": false
              },
              "mode": "immediate",
              "transition": {
               "duration": 800
              }
             }
            ],
            "label": "2015",
            "method": "animate"
           },
           {
            "args": [
             [
              "2016"
             ],
             {
              "frame": {
               "duration": 800,
               "redraw": false
              },
              "mode": "immediate",
              "transition": {
               "duration": 800
              }
             }
            ],
            "label": "2016",
            "method": "animate"
           },
           {
            "args": [
             [
              "2017"
             ],
             {
              "frame": {
               "duration": 800,
               "redraw": false
              },
              "mode": "immediate",
              "transition": {
               "duration": 800
              }
             }
            ],
            "label": "2017",
            "method": "animate"
           },
           {
            "args": [
             [
              "2018"
             ],
             {
              "frame": {
               "duration": 800,
               "redraw": false
              },
              "mode": "immediate",
              "transition": {
               "duration": 800
              }
             }
            ],
            "label": "2018",
            "method": "animate"
           }
          ],
          "transition": {
           "duration": 300,
           "easing": "cubic-in-out"
          },
          "x": 0.1,
          "xanchor": "left",
          "y": 0,
          "yanchor": "top"
         }
        ],
        "template": {
         "data": {
          "bar": [
           {
            "error_x": {
             "color": "#2a3f5f"
            },
            "error_y": {
             "color": "#2a3f5f"
            },
            "marker": {
             "line": {
              "color": "#E5ECF6",
              "width": 0.5
             }
            },
            "type": "bar"
           }
          ],
          "barpolar": [
           {
            "marker": {
             "line": {
              "color": "#E5ECF6",
              "width": 0.5
             }
            },
            "type": "barpolar"
           }
          ],
          "carpet": [
           {
            "aaxis": {
             "endlinecolor": "#2a3f5f",
             "gridcolor": "white",
             "linecolor": "white",
             "minorgridcolor": "white",
             "startlinecolor": "#2a3f5f"
            },
            "baxis": {
             "endlinecolor": "#2a3f5f",
             "gridcolor": "white",
             "linecolor": "white",
             "minorgridcolor": "white",
             "startlinecolor": "#2a3f5f"
            },
            "type": "carpet"
           }
          ],
          "choropleth": [
           {
            "colorbar": {
             "outlinewidth": 0,
             "ticks": ""
            },
            "type": "choropleth"
           }
          ],
          "contour": [
           {
            "colorbar": {
             "outlinewidth": 0,
             "ticks": ""
            },
            "colorscale": [
             [
              0,
              "#0d0887"
             ],
             [
              0.1111111111111111,
              "#46039f"
             ],
             [
              0.2222222222222222,
              "#7201a8"
             ],
             [
              0.3333333333333333,
              "#9c179e"
             ],
             [
              0.4444444444444444,
              "#bd3786"
             ],
             [
              0.5555555555555556,
              "#d8576b"
             ],
             [
              0.6666666666666666,
              "#ed7953"
             ],
             [
              0.7777777777777778,
              "#fb9f3a"
             ],
             [
              0.8888888888888888,
              "#fdca26"
             ],
             [
              1,
              "#f0f921"
             ]
            ],
            "type": "contour"
           }
          ],
          "contourcarpet": [
           {
            "colorbar": {
             "outlinewidth": 0,
             "ticks": ""
            },
            "type": "contourcarpet"
           }
          ],
          "heatmap": [
           {
            "colorbar": {
             "outlinewidth": 0,
             "ticks": ""
            },
            "colorscale": [
             [
              0,
              "#0d0887"
             ],
             [
              0.1111111111111111,
              "#46039f"
             ],
             [
              0.2222222222222222,
              "#7201a8"
             ],
             [
              0.3333333333333333,
              "#9c179e"
             ],
             [
              0.4444444444444444,
              "#bd3786"
             ],
             [
              0.5555555555555556,
              "#d8576b"
             ],
             [
              0.6666666666666666,
              "#ed7953"
             ],
             [
              0.7777777777777778,
              "#fb9f3a"
             ],
             [
              0.8888888888888888,
              "#fdca26"
             ],
             [
              1,
              "#f0f921"
             ]
            ],
            "type": "heatmap"
           }
          ],
          "heatmapgl": [
           {
            "colorbar": {
             "outlinewidth": 0,
             "ticks": ""
            },
            "colorscale": [
             [
              0,
              "#0d0887"
             ],
             [
              0.1111111111111111,
              "#46039f"
             ],
             [
              0.2222222222222222,
              "#7201a8"
             ],
             [
              0.3333333333333333,
              "#9c179e"
             ],
             [
              0.4444444444444444,
              "#bd3786"
             ],
             [
              0.5555555555555556,
              "#d8576b"
             ],
             [
              0.6666666666666666,
              "#ed7953"
             ],
             [
              0.7777777777777778,
              "#fb9f3a"
             ],
             [
              0.8888888888888888,
              "#fdca26"
             ],
             [
              1,
              "#f0f921"
             ]
            ],
            "type": "heatmapgl"
           }
          ],
          "histogram": [
           {
            "marker": {
             "colorbar": {
              "outlinewidth": 0,
              "ticks": ""
             }
            },
            "type": "histogram"
           }
          ],
          "histogram2d": [
           {
            "colorbar": {
             "outlinewidth": 0,
             "ticks": ""
            },
            "colorscale": [
             [
              0,
              "#0d0887"
             ],
             [
              0.1111111111111111,
              "#46039f"
             ],
             [
              0.2222222222222222,
              "#7201a8"
             ],
             [
              0.3333333333333333,
              "#9c179e"
             ],
             [
              0.4444444444444444,
              "#bd3786"
             ],
             [
              0.5555555555555556,
              "#d8576b"
             ],
             [
              0.6666666666666666,
              "#ed7953"
             ],
             [
              0.7777777777777778,
              "#fb9f3a"
             ],
             [
              0.8888888888888888,
              "#fdca26"
             ],
             [
              1,
              "#f0f921"
             ]
            ],
            "type": "histogram2d"
           }
          ],
          "histogram2dcontour": [
           {
            "colorbar": {
             "outlinewidth": 0,
             "ticks": ""
            },
            "colorscale": [
             [
              0,
              "#0d0887"
             ],
             [
              0.1111111111111111,
              "#46039f"
             ],
             [
              0.2222222222222222,
              "#7201a8"
             ],
             [
              0.3333333333333333,
              "#9c179e"
             ],
             [
              0.4444444444444444,
              "#bd3786"
             ],
             [
              0.5555555555555556,
              "#d8576b"
             ],
             [
              0.6666666666666666,
              "#ed7953"
             ],
             [
              0.7777777777777778,
              "#fb9f3a"
             ],
             [
              0.8888888888888888,
              "#fdca26"
             ],
             [
              1,
              "#f0f921"
             ]
            ],
            "type": "histogram2dcontour"
           }
          ],
          "mesh3d": [
           {
            "colorbar": {
             "outlinewidth": 0,
             "ticks": ""
            },
            "type": "mesh3d"
           }
          ],
          "parcoords": [
           {
            "line": {
             "colorbar": {
              "outlinewidth": 0,
              "ticks": ""
             }
            },
            "type": "parcoords"
           }
          ],
          "pie": [
           {
            "automargin": true,
            "type": "pie"
           }
          ],
          "scatter": [
           {
            "marker": {
             "colorbar": {
              "outlinewidth": 0,
              "ticks": ""
             }
            },
            "type": "scatter"
           }
          ],
          "scatter3d": [
           {
            "line": {
             "colorbar": {
              "outlinewidth": 0,
              "ticks": ""
             }
            },
            "marker": {
             "colorbar": {
              "outlinewidth": 0,
              "ticks": ""
             }
            },
            "type": "scatter3d"
           }
          ],
          "scattercarpet": [
           {
            "marker": {
             "colorbar": {
              "outlinewidth": 0,
              "ticks": ""
             }
            },
            "type": "scattercarpet"
           }
          ],
          "scattergeo": [
           {
            "marker": {
             "colorbar": {
              "outlinewidth": 0,
              "ticks": ""
             }
            },
            "type": "scattergeo"
           }
          ],
          "scattergl": [
           {
            "marker": {
             "colorbar": {
              "outlinewidth": 0,
              "ticks": ""
             }
            },
            "type": "scattergl"
           }
          ],
          "scattermapbox": [
           {
            "marker": {
             "colorbar": {
              "outlinewidth": 0,
              "ticks": ""
             }
            },
            "type": "scattermapbox"
           }
          ],
          "scatterpolar": [
           {
            "marker": {
             "colorbar": {
              "outlinewidth": 0,
              "ticks": ""
             }
            },
            "type": "scatterpolar"
           }
          ],
          "scatterpolargl": [
           {
            "marker": {
             "colorbar": {
              "outlinewidth": 0,
              "ticks": ""
             }
            },
            "type": "scatterpolargl"
           }
          ],
          "scatterternary": [
           {
            "marker": {
             "colorbar": {
              "outlinewidth": 0,
              "ticks": ""
             }
            },
            "type": "scatterternary"
           }
          ],
          "surface": [
           {
            "colorbar": {
             "outlinewidth": 0,
             "ticks": ""
            },
            "colorscale": [
             [
              0,
              "#0d0887"
             ],
             [
              0.1111111111111111,
              "#46039f"
             ],
             [
              0.2222222222222222,
              "#7201a8"
             ],
             [
              0.3333333333333333,
              "#9c179e"
             ],
             [
              0.4444444444444444,
              "#bd3786"
             ],
             [
              0.5555555555555556,
              "#d8576b"
             ],
             [
              0.6666666666666666,
              "#ed7953"
             ],
             [
              0.7777777777777778,
              "#fb9f3a"
             ],
             [
              0.8888888888888888,
              "#fdca26"
             ],
             [
              1,
              "#f0f921"
             ]
            ],
            "type": "surface"
           }
          ],
          "table": [
           {
            "cells": {
             "fill": {
              "color": "#EBF0F8"
             },
             "line": {
              "color": "white"
             }
            },
            "header": {
             "fill": {
              "color": "#C8D4E3"
             },
             "line": {
              "color": "white"
             }
            },
            "type": "table"
           }
          ]
         },
         "layout": {
          "annotationdefaults": {
           "arrowcolor": "#2a3f5f",
           "arrowhead": 0,
           "arrowwidth": 1
          },
          "coloraxis": {
           "colorbar": {
            "outlinewidth": 0,
            "ticks": ""
           }
          },
          "colorscale": {
           "diverging": [
            [
             0,
             "#8e0152"
            ],
            [
             0.1,
             "#c51b7d"
            ],
            [
             0.2,
             "#de77ae"
            ],
            [
             0.3,
             "#f1b6da"
            ],
            [
             0.4,
             "#fde0ef"
            ],
            [
             0.5,
             "#f7f7f7"
            ],
            [
             0.6,
             "#e6f5d0"
            ],
            [
             0.7,
             "#b8e186"
            ],
            [
             0.8,
             "#7fbc41"
            ],
            [
             0.9,
             "#4d9221"
            ],
            [
             1,
             "#276419"
            ]
           ],
           "sequential": [
            [
             0,
             "#0d0887"
            ],
            [
             0.1111111111111111,
             "#46039f"
            ],
            [
             0.2222222222222222,
             "#7201a8"
            ],
            [
             0.3333333333333333,
             "#9c179e"
            ],
            [
             0.4444444444444444,
             "#bd3786"
            ],
            [
             0.5555555555555556,
             "#d8576b"
            ],
            [
             0.6666666666666666,
             "#ed7953"
            ],
            [
             0.7777777777777778,
             "#fb9f3a"
            ],
            [
             0.8888888888888888,
             "#fdca26"
            ],
            [
             1,
             "#f0f921"
            ]
           ],
           "sequentialminus": [
            [
             0,
             "#0d0887"
            ],
            [
             0.1111111111111111,
             "#46039f"
            ],
            [
             0.2222222222222222,
             "#7201a8"
            ],
            [
             0.3333333333333333,
             "#9c179e"
            ],
            [
             0.4444444444444444,
             "#bd3786"
            ],
            [
             0.5555555555555556,
             "#d8576b"
            ],
            [
             0.6666666666666666,
             "#ed7953"
            ],
            [
             0.7777777777777778,
             "#fb9f3a"
            ],
            [
             0.8888888888888888,
             "#fdca26"
            ],
            [
             1,
             "#f0f921"
            ]
           ]
          },
          "colorway": [
           "#636efa",
           "#EF553B",
           "#00cc96",
           "#ab63fa",
           "#FFA15A",
           "#19d3f3",
           "#FF6692",
           "#B6E880",
           "#FF97FF",
           "#FECB52"
          ],
          "font": {
           "color": "#2a3f5f"
          },
          "geo": {
           "bgcolor": "white",
           "lakecolor": "white",
           "landcolor": "#E5ECF6",
           "showlakes": true,
           "showland": true,
           "subunitcolor": "white"
          },
          "hoverlabel": {
           "align": "left"
          },
          "hovermode": "closest",
          "mapbox": {
           "style": "light"
          },
          "paper_bgcolor": "white",
          "plot_bgcolor": "#E5ECF6",
          "polar": {
           "angularaxis": {
            "gridcolor": "white",
            "linecolor": "white",
            "ticks": ""
           },
           "bgcolor": "#E5ECF6",
           "radialaxis": {
            "gridcolor": "white",
            "linecolor": "white",
            "ticks": ""
           }
          },
          "scene": {
           "xaxis": {
            "backgroundcolor": "#E5ECF6",
            "gridcolor": "white",
            "gridwidth": 2,
            "linecolor": "white",
            "showbackground": true,
            "ticks": "",
            "zerolinecolor": "white"
           },
           "yaxis": {
            "backgroundcolor": "#E5ECF6",
            "gridcolor": "white",
            "gridwidth": 2,
            "linecolor": "white",
            "showbackground": true,
            "ticks": "",
            "zerolinecolor": "white"
           },
           "zaxis": {
            "backgroundcolor": "#E5ECF6",
            "gridcolor": "white",
            "gridwidth": 2,
            "linecolor": "white",
            "showbackground": true,
            "ticks": "",
            "zerolinecolor": "white"
           }
          },
          "shapedefaults": {
           "line": {
            "color": "#2a3f5f"
           }
          },
          "ternary": {
           "aaxis": {
            "gridcolor": "white",
            "linecolor": "white",
            "ticks": ""
           },
           "baxis": {
            "gridcolor": "white",
            "linecolor": "white",
            "ticks": ""
           },
           "bgcolor": "#E5ECF6",
           "caxis": {
            "gridcolor": "white",
            "linecolor": "white",
            "ticks": ""
           }
          },
          "title": {
           "x": 0.05
          },
          "xaxis": {
           "automargin": true,
           "gridcolor": "white",
           "linecolor": "white",
           "ticks": "",
           "title": {
            "standoff": 15
           },
           "zerolinecolor": "white",
           "zerolinewidth": 2
          },
          "yaxis": {
           "automargin": true,
           "gridcolor": "white",
           "linecolor": "white",
           "ticks": "",
           "title": {
            "standoff": 15
           },
           "zerolinecolor": "white",
           "zerolinewidth": 2
          }
         }
        },
        "updatemenus": [
         {
          "buttons": [
           {
            "args": [
             null,
             {
              "frame": {
               "duration": 800,
               "redraw": false
              },
              "fromcurrent": true,
              "transition": {
               "duration": 800,
               "easing": "quadratic-in-out"
              }
             }
            ],
            "label": "Play",
            "method": "animate"
           },
           {
            "args": [
             [
              null
             ],
             {
              "frame": {
               "duration": 0,
               "redraw": false
              },
              "mode": "immediate",
              "transition": {
               "duration": 0
              }
             }
            ],
            "label": "Pause",
            "method": "animate"
           }
          ],
          "direction": "left",
          "pad": {
           "r": 10,
           "t": 87
          },
          "showactive": true,
          "type": "buttons",
          "x": 0.1,
          "xanchor": "right",
          "y": 0,
          "yanchor": "top"
         }
        ],
        "xaxis": {
         "range": [
          0,
          1907024730
         ],
         "showline": true,
         "showticklabels": true,
         "title": {
          "text": "Production quantity (tonnes)"
         },
         "visible": true
        },
        "yaxis": {
         "showline": false,
         "showticklabels": false,
         "title": {
          "text": "Top 10 crops"
         },
         "visible": true
        }
       }
      },
      "text/html": [
       "<div>                            <div id=\"0f561d9b-12e4-4c27-8b88-cf05f06c2867\" class=\"plotly-graph-div\" style=\"height:525px; width:100%;\"></div>            <script type=\"text/javascript\">                require([\"plotly\"], function(Plotly) {                    window.PLOTLYENV=window.PLOTLYENV || {};                                    if (document.getElementById(\"0f561d9b-12e4-4c27-8b88-cf05f06c2867\")) {                    Plotly.newPlot(                        \"0f561d9b-12e4-4c27-8b88-cf05f06c2867\",                        [{\"cliponaxis\": false, \"hoverinfo\": \"all\", \"marker\": {\"color\": [\"rgb(193, 21, 123)\", \"rgb(62, 187, 94)\", \"rgb(148, 185, 41)\", \"rgb(179, 146, 21)\", \"rgb(179, 27, 76)\", \"rgb(236, 85, 80)\", \"rgb(33, 22, 89)\", \"rgb(225, 59, 87)\", \"rgb(54, 158, 213)\", \"rgb(119, 210, 159)\"]}, \"orientation\": \"h\", \"textangle\": 0, \"textposition\": \"outside\", \"texttemplate\": \"%{y}<br>%{x:.4s}\", \"type\": \"bar\", \"x\": [71259839.0, 72411104.0, 98192635.0, 143836304.0, 160501987.0, 205027583.0, 215646633.0, 222357231.0, 270552196.0, 447977522.0], \"y\": [\"Cassava\", \"Barley\", \"Sweet potatoes\", \"Rice, paddy (rice milled equivalent)\", \"Sugar beet\", \"Maize\", \"Rice, paddy\", \"Wheat\", \"Potatoes\", \"Sugar cane\"]}],                        {\"bargap\": 0.15, \"font\": {\"size\": 14}, \"plot_bgcolor\": \"#FFFFFF\", \"sliders\": [{\"active\": 0, \"currentvalue\": {\"font\": {\"size\": 20}, \"prefix\": \"Year: \", \"visible\": true, \"xanchor\": \"right\"}, \"len\": 0.9, \"pad\": {\"b\": 10, \"t\": 50}, \"steps\": [{\"args\": [[\"1961\"], {\"frame\": {\"duration\": 800, \"redraw\": false}, \"mode\": \"immediate\", \"transition\": {\"duration\": 800}}], \"label\": \"1961\", \"method\": \"animate\"}, {\"args\": [[\"1962\"], {\"frame\": {\"duration\": 800, \"redraw\": false}, \"mode\": \"immediate\", \"transition\": {\"duration\": 800}}], \"label\": \"1962\", \"method\": \"animate\"}, {\"args\": [[\"1963\"], {\"frame\": {\"duration\": 800, \"redraw\": false}, \"mode\": \"immediate\", \"transition\": {\"duration\": 800}}], \"label\": \"1963\", \"method\": \"animate\"}, {\"args\": [[\"1964\"], {\"frame\": {\"duration\": 800, \"redraw\": false}, \"mode\": \"immediate\", \"transition\": {\"duration\": 800}}], \"label\": \"1964\", \"method\": \"animate\"}, {\"args\": [[\"1965\"], {\"frame\": {\"duration\": 800, \"redraw\": false}, \"mode\": \"immediate\", \"transition\": {\"duration\": 800}}], \"label\": \"1965\", \"method\": \"animate\"}, {\"args\": [[\"1966\"], {\"frame\": {\"duration\": 800, \"redraw\": false}, \"mode\": \"immediate\", \"transition\": {\"duration\": 800}}], \"label\": \"1966\", \"method\": \"animate\"}, {\"args\": [[\"1967\"], {\"frame\": {\"duration\": 800, \"redraw\": false}, \"mode\": \"immediate\", \"transition\": {\"duration\": 800}}], \"label\": \"1967\", \"method\": \"animate\"}, {\"args\": [[\"1968\"], {\"frame\": {\"duration\": 800, \"redraw\": false}, \"mode\": \"immediate\", \"transition\": {\"duration\": 800}}], \"label\": \"1968\", \"method\": \"animate\"}, {\"args\": [[\"1969\"], {\"frame\": {\"duration\": 800, \"redraw\": false}, \"mode\": \"immediate\", \"transition\": {\"duration\": 800}}], \"label\": \"1969\", \"method\": \"animate\"}, {\"args\": [[\"1970\"], {\"frame\": {\"duration\": 800, \"redraw\": false}, \"mode\": \"immediate\", \"transition\": {\"duration\": 800}}], \"label\": \"1970\", \"method\": \"animate\"}, {\"args\": [[\"1971\"], {\"frame\": {\"duration\": 800, \"redraw\": false}, \"mode\": \"immediate\", \"transition\": {\"duration\": 800}}], \"label\": \"1971\", \"method\": \"animate\"}, {\"args\": [[\"1972\"], {\"frame\": {\"duration\": 800, \"redraw\": false}, \"mode\": \"immediate\", \"transition\": {\"duration\": 800}}], \"label\": \"1972\", \"method\": \"animate\"}, {\"args\": [[\"1973\"], {\"frame\": {\"duration\": 800, \"redraw\": false}, \"mode\": \"immediate\", \"transition\": {\"duration\": 800}}], \"label\": \"1973\", \"method\": \"animate\"}, {\"args\": [[\"1974\"], {\"frame\": {\"duration\": 800, \"redraw\": false}, \"mode\": \"immediate\", \"transition\": {\"duration\": 800}}], \"label\": \"1974\", \"method\": \"animate\"}, {\"args\": [[\"1975\"], {\"frame\": {\"duration\": 800, \"redraw\": false}, \"mode\": \"immediate\", \"transition\": {\"duration\": 800}}], \"label\": \"1975\", \"method\": \"animate\"}, {\"args\": [[\"1976\"], {\"frame\": {\"duration\": 800, \"redraw\": false}, \"mode\": \"immediate\", \"transition\": {\"duration\": 800}}], \"label\": \"1976\", \"method\": \"animate\"}, {\"args\": [[\"1977\"], {\"frame\": {\"duration\": 800, \"redraw\": false}, \"mode\": \"immediate\", \"transition\": {\"duration\": 800}}], \"label\": \"1977\", \"method\": \"animate\"}, {\"args\": [[\"1978\"], {\"frame\": {\"duration\": 800, \"redraw\": false}, \"mode\": \"immediate\", \"transition\": {\"duration\": 800}}], \"label\": \"1978\", \"method\": \"animate\"}, {\"args\": [[\"1979\"], {\"frame\": {\"duration\": 800, \"redraw\": false}, \"mode\": \"immediate\", \"transition\": {\"duration\": 800}}], \"label\": \"1979\", \"method\": \"animate\"}, {\"args\": [[\"1980\"], {\"frame\": {\"duration\": 800, \"redraw\": false}, \"mode\": \"immediate\", \"transition\": {\"duration\": 800}}], \"label\": \"1980\", \"method\": \"animate\"}, {\"args\": [[\"1981\"], {\"frame\": {\"duration\": 800, \"redraw\": false}, \"mode\": \"immediate\", \"transition\": {\"duration\": 800}}], \"label\": \"1981\", \"method\": \"animate\"}, {\"args\": [[\"1982\"], {\"frame\": {\"duration\": 800, \"redraw\": false}, \"mode\": \"immediate\", \"transition\": {\"duration\": 800}}], \"label\": \"1982\", \"method\": \"animate\"}, {\"args\": [[\"1983\"], {\"frame\": {\"duration\": 800, \"redraw\": false}, \"mode\": \"immediate\", \"transition\": {\"duration\": 800}}], \"label\": \"1983\", \"method\": \"animate\"}, {\"args\": [[\"1984\"], {\"frame\": {\"duration\": 800, \"redraw\": false}, \"mode\": \"immediate\", \"transition\": {\"duration\": 800}}], \"label\": \"1984\", \"method\": \"animate\"}, {\"args\": [[\"1985\"], {\"frame\": {\"duration\": 800, \"redraw\": false}, \"mode\": \"immediate\", \"transition\": {\"duration\": 800}}], \"label\": \"1985\", \"method\": \"animate\"}, {\"args\": [[\"1986\"], {\"frame\": {\"duration\": 800, \"redraw\": false}, \"mode\": \"immediate\", \"transition\": {\"duration\": 800}}], \"label\": \"1986\", \"method\": \"animate\"}, {\"args\": [[\"1987\"], {\"frame\": {\"duration\": 800, \"redraw\": false}, \"mode\": \"immediate\", \"transition\": {\"duration\": 800}}], \"label\": \"1987\", \"method\": \"animate\"}, {\"args\": [[\"1988\"], {\"frame\": {\"duration\": 800, \"redraw\": false}, \"mode\": \"immediate\", \"transition\": {\"duration\": 800}}], \"label\": \"1988\", \"method\": \"animate\"}, {\"args\": [[\"1989\"], {\"frame\": {\"duration\": 800, \"redraw\": false}, \"mode\": \"immediate\", \"transition\": {\"duration\": 800}}], \"label\": \"1989\", \"method\": \"animate\"}, {\"args\": [[\"1990\"], {\"frame\": {\"duration\": 800, \"redraw\": false}, \"mode\": \"immediate\", \"transition\": {\"duration\": 800}}], \"label\": \"1990\", \"method\": \"animate\"}, {\"args\": [[\"1991\"], {\"frame\": {\"duration\": 800, \"redraw\": false}, \"mode\": \"immediate\", \"transition\": {\"duration\": 800}}], \"label\": \"1991\", \"method\": \"animate\"}, {\"args\": [[\"1992\"], {\"frame\": {\"duration\": 800, \"redraw\": false}, \"mode\": \"immediate\", \"transition\": {\"duration\": 800}}], \"label\": \"1992\", \"method\": \"animate\"}, {\"args\": [[\"1993\"], {\"frame\": {\"duration\": 800, \"redraw\": false}, \"mode\": \"immediate\", \"transition\": {\"duration\": 800}}], \"label\": \"1993\", \"method\": \"animate\"}, {\"args\": [[\"1994\"], {\"frame\": {\"duration\": 800, \"redraw\": false}, \"mode\": \"immediate\", \"transition\": {\"duration\": 800}}], \"label\": \"1994\", \"method\": \"animate\"}, {\"args\": [[\"1995\"], {\"frame\": {\"duration\": 800, \"redraw\": false}, \"mode\": \"immediate\", \"transition\": {\"duration\": 800}}], \"label\": \"1995\", \"method\": \"animate\"}, {\"args\": [[\"1996\"], {\"frame\": {\"duration\": 800, \"redraw\": false}, \"mode\": \"immediate\", \"transition\": {\"duration\": 800}}], \"label\": \"1996\", \"method\": \"animate\"}, {\"args\": [[\"1997\"], {\"frame\": {\"duration\": 800, \"redraw\": false}, \"mode\": \"immediate\", \"transition\": {\"duration\": 800}}], \"label\": \"1997\", \"method\": \"animate\"}, {\"args\": [[\"1998\"], {\"frame\": {\"duration\": 800, \"redraw\": false}, \"mode\": \"immediate\", \"transition\": {\"duration\": 800}}], \"label\": \"1998\", \"method\": \"animate\"}, {\"args\": [[\"1999\"], {\"frame\": {\"duration\": 800, \"redraw\": false}, \"mode\": \"immediate\", \"transition\": {\"duration\": 800}}], \"label\": \"1999\", \"method\": \"animate\"}, {\"args\": [[\"2000\"], {\"frame\": {\"duration\": 800, \"redraw\": false}, \"mode\": \"immediate\", \"transition\": {\"duration\": 800}}], \"label\": \"2000\", \"method\": \"animate\"}, {\"args\": [[\"2001\"], {\"frame\": {\"duration\": 800, \"redraw\": false}, \"mode\": \"immediate\", \"transition\": {\"duration\": 800}}], \"label\": \"2001\", \"method\": \"animate\"}, {\"args\": [[\"2002\"], {\"frame\": {\"duration\": 800, \"redraw\": false}, \"mode\": \"immediate\", \"transition\": {\"duration\": 800}}], \"label\": \"2002\", \"method\": \"animate\"}, {\"args\": [[\"2003\"], {\"frame\": {\"duration\": 800, \"redraw\": false}, \"mode\": \"immediate\", \"transition\": {\"duration\": 800}}], \"label\": \"2003\", \"method\": \"animate\"}, {\"args\": [[\"2004\"], {\"frame\": {\"duration\": 800, \"redraw\": false}, \"mode\": \"immediate\", \"transition\": {\"duration\": 800}}], \"label\": \"2004\", \"method\": \"animate\"}, {\"args\": [[\"2005\"], {\"frame\": {\"duration\": 800, \"redraw\": false}, \"mode\": \"immediate\", \"transition\": {\"duration\": 800}}], \"label\": \"2005\", \"method\": \"animate\"}, {\"args\": [[\"2006\"], {\"frame\": {\"duration\": 800, \"redraw\": false}, \"mode\": \"immediate\", \"transition\": {\"duration\": 800}}], \"label\": \"2006\", \"method\": \"animate\"}, {\"args\": [[\"2007\"], {\"frame\": {\"duration\": 800, \"redraw\": false}, \"mode\": \"immediate\", \"transition\": {\"duration\": 800}}], \"label\": \"2007\", \"method\": \"animate\"}, {\"args\": [[\"2008\"], {\"frame\": {\"duration\": 800, \"redraw\": false}, \"mode\": \"immediate\", \"transition\": {\"duration\": 800}}], \"label\": \"2008\", \"method\": \"animate\"}, {\"args\": [[\"2009\"], {\"frame\": {\"duration\": 800, \"redraw\": false}, \"mode\": \"immediate\", \"transition\": {\"duration\": 800}}], \"label\": \"2009\", \"method\": \"animate\"}, {\"args\": [[\"2010\"], {\"frame\": {\"duration\": 800, \"redraw\": false}, \"mode\": \"immediate\", \"transition\": {\"duration\": 800}}], \"label\": \"2010\", \"method\": \"animate\"}, {\"args\": [[\"2011\"], {\"frame\": {\"duration\": 800, \"redraw\": false}, \"mode\": \"immediate\", \"transition\": {\"duration\": 800}}], \"label\": \"2011\", \"method\": \"animate\"}, {\"args\": [[\"2012\"], {\"frame\": {\"duration\": 800, \"redraw\": false}, \"mode\": \"immediate\", \"transition\": {\"duration\": 800}}], \"label\": \"2012\", \"method\": \"animate\"}, {\"args\": [[\"2013\"], {\"frame\": {\"duration\": 800, \"redraw\": false}, \"mode\": \"immediate\", \"transition\": {\"duration\": 800}}], \"label\": \"2013\", \"method\": \"animate\"}, {\"args\": [[\"2014\"], {\"frame\": {\"duration\": 800, \"redraw\": false}, \"mode\": \"immediate\", \"transition\": {\"duration\": 800}}], \"label\": \"2014\", \"method\": \"animate\"}, {\"args\": [[\"2015\"], {\"frame\": {\"duration\": 800, \"redraw\": false}, \"mode\": \"immediate\", \"transition\": {\"duration\": 800}}], \"label\": \"2015\", \"method\": \"animate\"}, {\"args\": [[\"2016\"], {\"frame\": {\"duration\": 800, \"redraw\": false}, \"mode\": \"immediate\", \"transition\": {\"duration\": 800}}], \"label\": \"2016\", \"method\": \"animate\"}, {\"args\": [[\"2017\"], {\"frame\": {\"duration\": 800, \"redraw\": false}, \"mode\": \"immediate\", \"transition\": {\"duration\": 800}}], \"label\": \"2017\", \"method\": \"animate\"}, {\"args\": [[\"2018\"], {\"frame\": {\"duration\": 800, \"redraw\": false}, \"mode\": \"immediate\", \"transition\": {\"duration\": 800}}], \"label\": \"2018\", \"method\": \"animate\"}], \"transition\": {\"duration\": 300, \"easing\": \"cubic-in-out\"}, \"x\": 0.1, \"xanchor\": \"left\", \"y\": 0, \"yanchor\": \"top\"}], \"template\": {\"data\": {\"bar\": [{\"error_x\": {\"color\": \"#2a3f5f\"}, \"error_y\": {\"color\": \"#2a3f5f\"}, \"marker\": {\"line\": {\"color\": \"#E5ECF6\", \"width\": 0.5}}, \"type\": \"bar\"}], \"barpolar\": [{\"marker\": {\"line\": {\"color\": \"#E5ECF6\", \"width\": 0.5}}, \"type\": \"barpolar\"}], \"carpet\": [{\"aaxis\": {\"endlinecolor\": \"#2a3f5f\", \"gridcolor\": \"white\", \"linecolor\": \"white\", \"minorgridcolor\": \"white\", \"startlinecolor\": \"#2a3f5f\"}, \"baxis\": {\"endlinecolor\": \"#2a3f5f\", \"gridcolor\": \"white\", \"linecolor\": \"white\", \"minorgridcolor\": \"white\", \"startlinecolor\": \"#2a3f5f\"}, \"type\": \"carpet\"}], \"choropleth\": [{\"colorbar\": {\"outlinewidth\": 0, \"ticks\": \"\"}, \"type\": \"choropleth\"}], \"contour\": [{\"colorbar\": {\"outlinewidth\": 0, \"ticks\": \"\"}, \"colorscale\": [[0.0, \"#0d0887\"], [0.1111111111111111, \"#46039f\"], [0.2222222222222222, \"#7201a8\"], [0.3333333333333333, \"#9c179e\"], [0.4444444444444444, \"#bd3786\"], [0.5555555555555556, \"#d8576b\"], [0.6666666666666666, \"#ed7953\"], [0.7777777777777778, \"#fb9f3a\"], [0.8888888888888888, \"#fdca26\"], [1.0, \"#f0f921\"]], \"type\": \"contour\"}], \"contourcarpet\": [{\"colorbar\": {\"outlinewidth\": 0, \"ticks\": \"\"}, \"type\": \"contourcarpet\"}], \"heatmap\": [{\"colorbar\": {\"outlinewidth\": 0, \"ticks\": \"\"}, \"colorscale\": [[0.0, \"#0d0887\"], [0.1111111111111111, \"#46039f\"], [0.2222222222222222, \"#7201a8\"], [0.3333333333333333, \"#9c179e\"], [0.4444444444444444, \"#bd3786\"], [0.5555555555555556, \"#d8576b\"], [0.6666666666666666, \"#ed7953\"], [0.7777777777777778, \"#fb9f3a\"], [0.8888888888888888, \"#fdca26\"], [1.0, \"#f0f921\"]], \"type\": \"heatmap\"}], \"heatmapgl\": [{\"colorbar\": {\"outlinewidth\": 0, \"ticks\": \"\"}, \"colorscale\": [[0.0, \"#0d0887\"], [0.1111111111111111, \"#46039f\"], [0.2222222222222222, \"#7201a8\"], [0.3333333333333333, \"#9c179e\"], [0.4444444444444444, \"#bd3786\"], [0.5555555555555556, \"#d8576b\"], [0.6666666666666666, \"#ed7953\"], [0.7777777777777778, \"#fb9f3a\"], [0.8888888888888888, \"#fdca26\"], [1.0, \"#f0f921\"]], \"type\": \"heatmapgl\"}], \"histogram\": [{\"marker\": {\"colorbar\": {\"outlinewidth\": 0, \"ticks\": \"\"}}, \"type\": \"histogram\"}], \"histogram2d\": [{\"colorbar\": {\"outlinewidth\": 0, \"ticks\": \"\"}, \"colorscale\": [[0.0, \"#0d0887\"], [0.1111111111111111, \"#46039f\"], [0.2222222222222222, \"#7201a8\"], [0.3333333333333333, \"#9c179e\"], [0.4444444444444444, \"#bd3786\"], [0.5555555555555556, \"#d8576b\"], [0.6666666666666666, \"#ed7953\"], [0.7777777777777778, \"#fb9f3a\"], [0.8888888888888888, \"#fdca26\"], [1.0, \"#f0f921\"]], \"type\": \"histogram2d\"}], \"histogram2dcontour\": [{\"colorbar\": {\"outlinewidth\": 0, \"ticks\": \"\"}, \"colorscale\": [[0.0, \"#0d0887\"], [0.1111111111111111, \"#46039f\"], [0.2222222222222222, \"#7201a8\"], [0.3333333333333333, \"#9c179e\"], [0.4444444444444444, \"#bd3786\"], [0.5555555555555556, \"#d8576b\"], [0.6666666666666666, \"#ed7953\"], [0.7777777777777778, \"#fb9f3a\"], [0.8888888888888888, \"#fdca26\"], [1.0, \"#f0f921\"]], \"type\": \"histogram2dcontour\"}], \"mesh3d\": [{\"colorbar\": {\"outlinewidth\": 0, \"ticks\": \"\"}, \"type\": \"mesh3d\"}], \"parcoords\": [{\"line\": {\"colorbar\": {\"outlinewidth\": 0, \"ticks\": \"\"}}, \"type\": \"parcoords\"}], \"pie\": [{\"automargin\": true, \"type\": \"pie\"}], \"scatter\": [{\"marker\": {\"colorbar\": {\"outlinewidth\": 0, \"ticks\": \"\"}}, \"type\": \"scatter\"}], \"scatter3d\": [{\"line\": {\"colorbar\": {\"outlinewidth\": 0, \"ticks\": \"\"}}, \"marker\": {\"colorbar\": {\"outlinewidth\": 0, \"ticks\": \"\"}}, \"type\": \"scatter3d\"}], \"scattercarpet\": [{\"marker\": {\"colorbar\": {\"outlinewidth\": 0, \"ticks\": \"\"}}, \"type\": \"scattercarpet\"}], \"scattergeo\": [{\"marker\": {\"colorbar\": {\"outlinewidth\": 0, \"ticks\": \"\"}}, \"type\": \"scattergeo\"}], \"scattergl\": [{\"marker\": {\"colorbar\": {\"outlinewidth\": 0, \"ticks\": \"\"}}, \"type\": \"scattergl\"}], \"scattermapbox\": [{\"marker\": {\"colorbar\": {\"outlinewidth\": 0, \"ticks\": \"\"}}, \"type\": \"scattermapbox\"}], \"scatterpolar\": [{\"marker\": {\"colorbar\": {\"outlinewidth\": 0, \"ticks\": \"\"}}, \"type\": \"scatterpolar\"}], \"scatterpolargl\": [{\"marker\": {\"colorbar\": {\"outlinewidth\": 0, \"ticks\": \"\"}}, \"type\": \"scatterpolargl\"}], \"scatterternary\": [{\"marker\": {\"colorbar\": {\"outlinewidth\": 0, \"ticks\": \"\"}}, \"type\": \"scatterternary\"}], \"surface\": [{\"colorbar\": {\"outlinewidth\": 0, \"ticks\": \"\"}, \"colorscale\": [[0.0, \"#0d0887\"], [0.1111111111111111, \"#46039f\"], [0.2222222222222222, \"#7201a8\"], [0.3333333333333333, \"#9c179e\"], [0.4444444444444444, \"#bd3786\"], [0.5555555555555556, \"#d8576b\"], [0.6666666666666666, \"#ed7953\"], [0.7777777777777778, \"#fb9f3a\"], [0.8888888888888888, \"#fdca26\"], [1.0, \"#f0f921\"]], \"type\": \"surface\"}], \"table\": [{\"cells\": {\"fill\": {\"color\": \"#EBF0F8\"}, \"line\": {\"color\": \"white\"}}, \"header\": {\"fill\": {\"color\": \"#C8D4E3\"}, \"line\": {\"color\": \"white\"}}, \"type\": \"table\"}]}, \"layout\": {\"annotationdefaults\": {\"arrowcolor\": \"#2a3f5f\", \"arrowhead\": 0, \"arrowwidth\": 1}, \"coloraxis\": {\"colorbar\": {\"outlinewidth\": 0, \"ticks\": \"\"}}, \"colorscale\": {\"diverging\": [[0, \"#8e0152\"], [0.1, \"#c51b7d\"], [0.2, \"#de77ae\"], [0.3, \"#f1b6da\"], [0.4, \"#fde0ef\"], [0.5, \"#f7f7f7\"], [0.6, \"#e6f5d0\"], [0.7, \"#b8e186\"], [0.8, \"#7fbc41\"], [0.9, \"#4d9221\"], [1, \"#276419\"]], \"sequential\": [[0.0, \"#0d0887\"], [0.1111111111111111, \"#46039f\"], [0.2222222222222222, \"#7201a8\"], [0.3333333333333333, \"#9c179e\"], [0.4444444444444444, \"#bd3786\"], [0.5555555555555556, \"#d8576b\"], [0.6666666666666666, \"#ed7953\"], [0.7777777777777778, \"#fb9f3a\"], [0.8888888888888888, \"#fdca26\"], [1.0, \"#f0f921\"]], \"sequentialminus\": [[0.0, \"#0d0887\"], [0.1111111111111111, \"#46039f\"], [0.2222222222222222, \"#7201a8\"], [0.3333333333333333, \"#9c179e\"], [0.4444444444444444, \"#bd3786\"], [0.5555555555555556, \"#d8576b\"], [0.6666666666666666, \"#ed7953\"], [0.7777777777777778, \"#fb9f3a\"], [0.8888888888888888, \"#fdca26\"], [1.0, \"#f0f921\"]]}, \"colorway\": [\"#636efa\", \"#EF553B\", \"#00cc96\", \"#ab63fa\", \"#FFA15A\", \"#19d3f3\", \"#FF6692\", \"#B6E880\", \"#FF97FF\", \"#FECB52\"], \"font\": {\"color\": \"#2a3f5f\"}, \"geo\": {\"bgcolor\": \"white\", \"lakecolor\": \"white\", \"landcolor\": \"#E5ECF6\", \"showlakes\": true, \"showland\": true, \"subunitcolor\": \"white\"}, \"hoverlabel\": {\"align\": \"left\"}, \"hovermode\": \"closest\", \"mapbox\": {\"style\": \"light\"}, \"paper_bgcolor\": \"white\", \"plot_bgcolor\": \"#E5ECF6\", \"polar\": {\"angularaxis\": {\"gridcolor\": \"white\", \"linecolor\": \"white\", \"ticks\": \"\"}, \"bgcolor\": \"#E5ECF6\", \"radialaxis\": {\"gridcolor\": \"white\", \"linecolor\": \"white\", \"ticks\": \"\"}}, \"scene\": {\"xaxis\": {\"backgroundcolor\": \"#E5ECF6\", \"gridcolor\": \"white\", \"gridwidth\": 2, \"linecolor\": \"white\", \"showbackground\": true, \"ticks\": \"\", \"zerolinecolor\": \"white\"}, \"yaxis\": {\"backgroundcolor\": \"#E5ECF6\", \"gridcolor\": \"white\", \"gridwidth\": 2, \"linecolor\": \"white\", \"showbackground\": true, \"ticks\": \"\", \"zerolinecolor\": \"white\"}, \"zaxis\": {\"backgroundcolor\": \"#E5ECF6\", \"gridcolor\": \"white\", \"gridwidth\": 2, \"linecolor\": \"white\", \"showbackground\": true, \"ticks\": \"\", \"zerolinecolor\": \"white\"}}, \"shapedefaults\": {\"line\": {\"color\": \"#2a3f5f\"}}, \"ternary\": {\"aaxis\": {\"gridcolor\": \"white\", \"linecolor\": \"white\", \"ticks\": \"\"}, \"baxis\": {\"gridcolor\": \"white\", \"linecolor\": \"white\", \"ticks\": \"\"}, \"bgcolor\": \"#E5ECF6\", \"caxis\": {\"gridcolor\": \"white\", \"linecolor\": \"white\", \"ticks\": \"\"}}, \"title\": {\"x\": 0.05}, \"xaxis\": {\"automargin\": true, \"gridcolor\": \"white\", \"linecolor\": \"white\", \"ticks\": \"\", \"title\": {\"standoff\": 15}, \"zerolinecolor\": \"white\", \"zerolinewidth\": 2}, \"yaxis\": {\"automargin\": true, \"gridcolor\": \"white\", \"linecolor\": \"white\", \"ticks\": \"\", \"title\": {\"standoff\": 15}, \"zerolinecolor\": \"white\", \"zerolinewidth\": 2}}}, \"updatemenus\": [{\"buttons\": [{\"args\": [null, {\"frame\": {\"duration\": 800, \"redraw\": false}, \"fromcurrent\": true, \"transition\": {\"duration\": 800, \"easing\": \"quadratic-in-out\"}}], \"label\": \"Play\", \"method\": \"animate\"}, {\"args\": [[null], {\"frame\": {\"duration\": 0, \"redraw\": false}, \"mode\": \"immediate\", \"transition\": {\"duration\": 0}}], \"label\": \"Pause\", \"method\": \"animate\"}], \"direction\": \"left\", \"pad\": {\"r\": 10, \"t\": 87}, \"showactive\": true, \"type\": \"buttons\", \"x\": 0.1, \"xanchor\": \"right\", \"y\": 0, \"yanchor\": \"top\"}], \"xaxis\": {\"range\": [0, 1907024730.0], \"showline\": true, \"showticklabels\": true, \"title\": {\"text\": \"Production quantity (tonnes)\"}, \"visible\": true}, \"yaxis\": {\"showline\": false, \"showticklabels\": false, \"title\": {\"text\": \"Top 10 crops\"}, \"visible\": true}},                        {\"responsive\": true}                    ).then(function(){\n",
       "                            Plotly.addFrames('0f561d9b-12e4-4c27-8b88-cf05f06c2867', [{\"data\": [{\"cliponaxis\": false, \"hoverinfo\": \"all\", \"hovertemplate\": \"<extra></extra>\", \"marker\": {\"color\": [\"rgb(193, 21, 123)\", \"rgb(62, 187, 94)\", \"rgb(148, 185, 41)\", \"rgb(179, 146, 21)\", \"rgb(179, 27, 76)\", \"rgb(236, 85, 80)\", \"rgb(33, 22, 89)\", \"rgb(225, 59, 87)\", \"rgb(54, 158, 213)\", \"rgb(119, 210, 159)\"]}, \"orientation\": \"h\", \"textangle\": 0, \"textposition\": \"outside\", \"texttemplate\": \"%{y}<br>%{x:.4s}\", \"x\": [71259839.0, 72411104.0, 98192635.0, 143836304.0, 160501987.0, 205027583.0, 215646633.0, 222357231.0, 270552196.0, 447977522.0], \"y\": [\"Cassava\", \"Barley\", \"Sweet potatoes\", \"Rice, paddy (rice milled equivalent)\", \"Sugar beet\", \"Maize\", \"Rice, paddy\", \"Wheat\", \"Potatoes\", \"Sugar cane\"], \"type\": \"bar\"}], \"layout\": {\"bargap\": 0.15, \"font\": {\"size\": 14}, \"plot_bgcolor\": \"#FFFFFF\", \"xaxis\": {\"range\": [0, 1907024730.0], \"showline\": true, \"visible\": true}, \"yaxis\": {\"showline\": false, \"visible\": true}}, \"name\": \"1961\"}, {\"data\": [{\"cliponaxis\": false, \"hoverinfo\": \"all\", \"hovertemplate\": \"<extra></extra>\", \"marker\": {\"color\": [\"rgb(193, 21, 123)\", \"rgb(62, 187, 94)\", \"rgb(148, 185, 41)\", \"rgb(179, 27, 76)\", \"rgb(179, 146, 21)\", \"rgb(236, 85, 80)\", \"rgb(33, 22, 89)\", \"rgb(225, 59, 87)\", \"rgb(54, 158, 213)\", \"rgb(119, 210, 159)\"]}, \"orientation\": \"h\", \"textangle\": 0, \"textposition\": \"outside\", \"texttemplate\": \"%{y}<br>%{x:.4s}\", \"x\": [74636680.0, 88396959.0, 105291106.0, 149172711.0, 151046350.0, 204876937.0, 226456297.0, 250319146.0, 252987460.0, 436872640.0], \"y\": [\"Cassava\", \"Barley\", \"Sweet potatoes\", \"Sugar beet\", \"Rice, paddy (rice milled equivalent)\", \"Maize\", \"Rice, paddy\", \"Wheat\", \"Potatoes\", \"Sugar cane\"], \"type\": \"bar\"}], \"layout\": {\"bargap\": 0.15, \"font\": {\"size\": 14}, \"plot_bgcolor\": \"#FFFFFF\", \"xaxis\": {\"range\": [0, 1907024730.0], \"showline\": true, \"visible\": true}, \"yaxis\": {\"showline\": false, \"visible\": true}}, \"name\": \"1962\"}, {\"data\": [{\"cliponaxis\": false, \"hoverinfo\": \"all\", \"hovertemplate\": \"<extra></extra>\", \"marker\": {\"color\": [\"rgb(193, 21, 123)\", \"rgb(62, 187, 94)\", \"rgb(148, 185, 41)\", \"rgb(179, 146, 21)\", \"rgb(179, 27, 76)\", \"rgb(236, 85, 80)\", \"rgb(225, 59, 87)\", \"rgb(33, 22, 89)\", \"rgb(54, 158, 213)\", \"rgb(119, 210, 159)\"]}, \"orientation\": \"h\", \"textangle\": 0, \"textposition\": \"outside\", \"texttemplate\": \"%{y}<br>%{x:.4s}\", \"x\": [77975688.0, 90385850.0, 98009159.0, 164828514.0, 164975629.0, 220228333.0, 233339473.0, 247119211.0, 269982498.0, 439927902.0], \"y\": [\"Cassava\", \"Barley\", \"Sweet potatoes\", \"Rice, paddy (rice milled equivalent)\", \"Sugar beet\", \"Maize\", \"Wheat\", \"Rice, paddy\", \"Potatoes\", \"Sugar cane\"], \"type\": \"bar\"}], \"layout\": {\"bargap\": 0.15, \"font\": {\"size\": 14}, \"plot_bgcolor\": \"#FFFFFF\", \"xaxis\": {\"range\": [0, 1907024730.0], \"showline\": true, \"visible\": true}, \"yaxis\": {\"showline\": false, \"visible\": true}}, \"name\": \"1963\"}, {\"data\": [{\"cliponaxis\": false, \"hoverinfo\": \"all\", \"hovertemplate\": \"<extra></extra>\", \"marker\": {\"color\": [\"rgb(193, 21, 123)\", \"rgb(148, 185, 41)\", \"rgb(62, 187, 94)\", \"rgb(179, 146, 21)\", \"rgb(236, 85, 80)\", \"rgb(179, 27, 76)\", \"rgb(33, 22, 89)\", \"rgb(225, 59, 87)\", \"rgb(54, 158, 213)\", \"rgb(119, 210, 159)\"]}, \"orientation\": \"h\", \"textangle\": 0, \"textposition\": \"outside\", \"texttemplate\": \"%{y}<br>%{x:.4s}\", \"x\": [82429399.0, 93377412.0, 95524923.0, 175373614.0, 215172627.0, 216206931.0, 262928956.0, 268791657.0, 284678614.0, 480849768.0], \"y\": [\"Cassava\", \"Sweet potatoes\", \"Barley\", \"Rice, paddy (rice milled equivalent)\", \"Maize\", \"Sugar beet\", \"Rice, paddy\", \"Wheat\", \"Potatoes\", \"Sugar cane\"], \"type\": \"bar\"}], \"layout\": {\"bargap\": 0.15, \"font\": {\"size\": 14}, \"plot_bgcolor\": \"#FFFFFF\", \"xaxis\": {\"range\": [0, 1907024730.0], \"showline\": true, \"visible\": true}, \"yaxis\": {\"showline\": false, \"visible\": true}}, \"name\": \"1964\"}, {\"data\": [{\"cliponaxis\": false, \"hoverinfo\": \"all\", \"hovertemplate\": \"<extra></extra>\", \"marker\": {\"color\": [\"rgb(193, 21, 123)\", \"rgb(62, 187, 94)\", \"rgb(148, 185, 41)\", \"rgb(179, 146, 21)\", \"rgb(179, 27, 76)\", \"rgb(236, 85, 80)\", \"rgb(33, 22, 89)\", \"rgb(225, 59, 87)\", \"rgb(54, 158, 213)\", \"rgb(119, 210, 159)\"]}, \"orientation\": \"h\", \"textangle\": 0, \"textposition\": \"outside\", \"texttemplate\": \"%{y}<br>%{x:.4s}\", \"x\": [85582843.0, 92617012.0, 108377879.0, 169457796.0, 197376224.0, 226544256.0, 254059664.0, 263645963.0, 270913502.0, 531297486.0], \"y\": [\"Cassava\", \"Barley\", \"Sweet potatoes\", \"Rice, paddy (rice milled equivalent)\", \"Sugar beet\", \"Maize\", \"Rice, paddy\", \"Wheat\", \"Potatoes\", \"Sugar cane\"], \"type\": \"bar\"}], \"layout\": {\"bargap\": 0.15, \"font\": {\"size\": 14}, \"plot_bgcolor\": \"#FFFFFF\", \"xaxis\": {\"range\": [0, 1907024730.0], \"showline\": true, \"visible\": true}, \"yaxis\": {\"showline\": false, \"visible\": true}}, \"name\": \"1965\"}, {\"data\": [{\"cliponaxis\": false, \"hoverinfo\": \"all\", \"hovertemplate\": \"<extra></extra>\", \"marker\": {\"color\": [\"rgb(193, 21, 123)\", \"rgb(62, 187, 94)\", \"rgb(148, 185, 41)\", \"rgb(179, 146, 21)\", \"rgb(179, 27, 76)\", \"rgb(236, 85, 80)\", \"rgb(33, 22, 89)\", \"rgb(54, 158, 213)\", \"rgb(225, 59, 87)\", \"rgb(119, 210, 159)\"]}, \"orientation\": \"h\", \"textangle\": 0, \"textposition\": \"outside\", \"texttemplate\": \"%{y}<br>%{x:.4s}\", \"x\": [84718809.0, 100425696.0, 119686566.0, 174207899.0, 212270253.0, 245599160.0, 261181258.0, 281964109.0, 303785460.0, 531492823.0], \"y\": [\"Cassava\", \"Barley\", \"Sweet potatoes\", \"Rice, paddy (rice milled equivalent)\", \"Sugar beet\", \"Maize\", \"Rice, paddy\", \"Potatoes\", \"Wheat\", \"Sugar cane\"], \"type\": \"bar\"}], \"layout\": {\"bargap\": 0.15, \"font\": {\"size\": 14}, \"plot_bgcolor\": \"#FFFFFF\", \"xaxis\": {\"range\": [0, 1907024730.0], \"showline\": true, \"visible\": true}, \"yaxis\": {\"showline\": false, \"visible\": true}}, \"name\": \"1966\"}, {\"data\": [{\"cliponaxis\": false, \"hoverinfo\": \"all\", \"hovertemplate\": \"<extra></extra>\", \"marker\": {\"color\": [\"rgb(193, 21, 123)\", \"rgb(62, 187, 94)\", \"rgb(148, 185, 41)\", \"rgb(179, 146, 21)\", \"rgb(179, 27, 76)\", \"rgb(236, 85, 80)\", \"rgb(33, 22, 89)\", \"rgb(225, 59, 87)\", \"rgb(54, 158, 213)\", \"rgb(119, 210, 159)\"]}, \"orientation\": \"h\", \"textangle\": 0, \"textposition\": \"outside\", \"texttemplate\": \"%{y}<br>%{x:.4s}\", \"x\": [88630176.0, 103177495.0, 118614438.0, 185016704.0, 233455177.0, 272548473.0, 277386363.0, 294295876.0, 296220305.0, 518890895.0], \"y\": [\"Cassava\", \"Barley\", \"Sweet potatoes\", \"Rice, paddy (rice milled equivalent)\", \"Sugar beet\", \"Maize\", \"Rice, paddy\", \"Wheat\", \"Potatoes\", \"Sugar cane\"], \"type\": \"bar\"}], \"layout\": {\"bargap\": 0.15, \"font\": {\"size\": 14}, \"plot_bgcolor\": \"#FFFFFF\", \"xaxis\": {\"range\": [0, 1907024730.0], \"showline\": true, \"visible\": true}, \"yaxis\": {\"showline\": false, \"visible\": true}}, \"name\": \"1967\"}, {\"data\": [{\"cliponaxis\": false, \"hoverinfo\": \"all\", \"hovertemplate\": \"<extra></extra>\", \"marker\": {\"color\": [\"rgb(193, 21, 123)\", \"rgb(62, 187, 94)\", \"rgb(148, 185, 41)\", \"rgb(179, 146, 21)\", \"rgb(179, 27, 76)\", \"rgb(236, 85, 80)\", \"rgb(33, 22, 89)\", \"rgb(54, 158, 213)\", \"rgb(225, 59, 87)\", \"rgb(119, 210, 159)\"]}, \"orientation\": \"h\", \"textangle\": 0, \"textposition\": \"outside\", \"texttemplate\": \"%{y}<br>%{x:.4s}\", \"x\": [93090059.0, 113504505.0, 118097469.0, 192512413.0, 248856658.0, 255670551.0, 288624308.0, 303709120.0, 326843941.0, 506091880.0], \"y\": [\"Cassava\", \"Barley\", \"Sweet potatoes\", \"Rice, paddy (rice milled equivalent)\", \"Sugar beet\", \"Maize\", \"Rice, paddy\", \"Potatoes\", \"Wheat\", \"Sugar cane\"], \"type\": \"bar\"}], \"layout\": {\"bargap\": 0.15, \"font\": {\"size\": 14}, \"plot_bgcolor\": \"#FFFFFF\", \"xaxis\": {\"range\": [0, 1907024730.0], \"showline\": true, \"visible\": true}, \"yaxis\": {\"showline\": false, \"visible\": true}}, \"name\": \"1968\"}, {\"data\": [{\"cliponaxis\": false, \"hoverinfo\": \"all\", \"hovertemplate\": \"<extra></extra>\", \"marker\": {\"color\": [\"rgb(193, 21, 123)\", \"rgb(62, 187, 94)\", \"rgb(148, 185, 41)\", \"rgb(179, 146, 21)\", \"rgb(179, 27, 76)\", \"rgb(236, 85, 80)\", \"rgb(54, 158, 213)\", \"rgb(33, 22, 89)\", \"rgb(225, 59, 87)\", \"rgb(119, 210, 159)\"]}, \"orientation\": \"h\", \"textangle\": 0, \"textposition\": \"outside\", \"texttemplate\": \"%{y}<br>%{x:.4s}\", \"x\": [95325330.0, 118006371.0, 126160704.0, 197154789.0, 216920772.0, 269506068.0, 278475710.0, 295584391.0, 308640283.0, 538255737.0], \"y\": [\"Cassava\", \"Barley\", \"Sweet potatoes\", \"Rice, paddy (rice milled equivalent)\", \"Sugar beet\", \"Maize\", \"Potatoes\", \"Rice, paddy\", \"Wheat\", \"Sugar cane\"], \"type\": \"bar\"}], \"layout\": {\"bargap\": 0.15, \"font\": {\"size\": 14}, \"plot_bgcolor\": \"#FFFFFF\", \"xaxis\": {\"range\": [0, 1907024730.0], \"showline\": true, \"visible\": true}, \"yaxis\": {\"showline\": false, \"visible\": true}}, \"name\": \"1969\"}, {\"data\": [{\"cliponaxis\": false, \"hoverinfo\": \"all\", \"hovertemplate\": \"<extra></extra>\", \"marker\": {\"color\": [\"rgb(193, 21, 123)\", \"rgb(62, 187, 94)\", \"rgb(148, 185, 41)\", \"rgb(179, 146, 21)\", \"rgb(179, 27, 76)\", \"rgb(236, 85, 80)\", \"rgb(54, 158, 213)\", \"rgb(225, 59, 87)\", \"rgb(33, 22, 89)\", \"rgb(119, 210, 159)\"]}, \"orientation\": \"h\", \"textangle\": 0, \"textposition\": \"outside\", \"texttemplate\": \"%{y}<br>%{x:.4s}\", \"x\": [98589699.0, 119378695.0, 136507488.0, 211002584.0, 224251952.0, 265831145.0, 298048017.0, 310740954.0, 316345703.0, 608616105.0], \"y\": [\"Cassava\", \"Barley\", \"Sweet potatoes\", \"Rice, paddy (rice milled equivalent)\", \"Sugar beet\", \"Maize\", \"Potatoes\", \"Wheat\", \"Rice, paddy\", \"Sugar cane\"], \"type\": \"bar\"}], \"layout\": {\"bargap\": 0.15, \"font\": {\"size\": 14}, \"plot_bgcolor\": \"#FFFFFF\", \"xaxis\": {\"range\": [0, 1907024730.0], \"showline\": true, \"visible\": true}, \"yaxis\": {\"showline\": false, \"visible\": true}}, \"name\": \"1970\"}, {\"data\": [{\"cliponaxis\": false, \"hoverinfo\": \"all\", \"hovertemplate\": \"<extra></extra>\", \"marker\": {\"color\": [\"rgb(193, 21, 123)\", \"rgb(148, 185, 41)\", \"rgb(62, 187, 94)\", \"rgb(179, 146, 21)\", \"rgb(179, 27, 76)\", \"rgb(54, 158, 213)\", \"rgb(236, 85, 80)\", \"rgb(33, 22, 89)\", \"rgb(225, 59, 87)\", \"rgb(119, 210, 159)\"]}, \"orientation\": \"h\", \"textangle\": 0, \"textposition\": \"outside\", \"texttemplate\": \"%{y}<br>%{x:.4s}\", \"x\": [98756434.0, 127252781.0, 131237044.0, 211914188.0, 227540795.0, 279490572.0, 313622622.0, 317712426.0, 347525581.0, 582105426.0], \"y\": [\"Cassava\", \"Sweet potatoes\", \"Barley\", \"Rice, paddy (rice milled equivalent)\", \"Sugar beet\", \"Potatoes\", \"Maize\", \"Rice, paddy\", \"Wheat\", \"Sugar cane\"], \"type\": \"bar\"}], \"layout\": {\"bargap\": 0.15, \"font\": {\"size\": 14}, \"plot_bgcolor\": \"#FFFFFF\", \"xaxis\": {\"range\": [0, 1907024730.0], \"showline\": true, \"visible\": true}, \"yaxis\": {\"showline\": false, \"visible\": true}}, \"name\": \"1971\"}, {\"data\": [{\"cliponaxis\": false, \"hoverinfo\": \"all\", \"hovertemplate\": \"<extra></extra>\", \"marker\": {\"color\": [\"rgb(193, 21, 123)\", \"rgb(148, 185, 41)\", \"rgb(62, 187, 94)\", \"rgb(179, 146, 21)\", \"rgb(179, 27, 76)\", \"rgb(54, 158, 213)\", \"rgb(33, 22, 89)\", \"rgb(236, 85, 80)\", \"rgb(225, 59, 87)\", \"rgb(119, 210, 159)\"]}, \"orientation\": \"h\", \"textangle\": 0, \"textposition\": \"outside\", \"texttemplate\": \"%{y}<br>%{x:.4s}\", \"x\": [101261515.0, 121467494.0, 132963909.0, 204962388.0, 240336963.0, 272144812.0, 307289937.0, 308826290.0, 343001429.0, 569105570.0], \"y\": [\"Cassava\", \"Sweet potatoes\", \"Barley\", \"Rice, paddy (rice milled equivalent)\", \"Sugar beet\", \"Potatoes\", \"Rice, paddy\", \"Maize\", \"Wheat\", \"Sugar cane\"], \"type\": \"bar\"}], \"layout\": {\"bargap\": 0.15, \"font\": {\"size\": 14}, \"plot_bgcolor\": \"#FFFFFF\", \"xaxis\": {\"range\": [0, 1907024730.0], \"showline\": true, \"visible\": true}, \"yaxis\": {\"showline\": false, \"visible\": true}}, \"name\": \"1972\"}, {\"data\": [{\"cliponaxis\": false, \"hoverinfo\": \"all\", \"hovertemplate\": \"<extra></extra>\", \"marker\": {\"color\": [\"rgb(193, 21, 123)\", \"rgb(62, 187, 94)\", \"rgb(148, 185, 41)\", \"rgb(179, 146, 21)\", \"rgb(179, 27, 76)\", \"rgb(54, 158, 213)\", \"rgb(236, 85, 80)\", \"rgb(33, 22, 89)\", \"rgb(225, 59, 87)\", \"rgb(119, 210, 159)\"]}, \"orientation\": \"h\", \"textangle\": 0, \"textposition\": \"outside\", \"texttemplate\": \"%{y}<br>%{x:.4s}\", \"x\": [101734795.0, 146966081.0, 152865329.0, 223397535.0, 250104320.0, 307160130.0, 318290469.0, 334928838.0, 369334126.0, 600227145.0], \"y\": [\"Cassava\", \"Barley\", \"Sweet potatoes\", \"Rice, paddy (rice milled equivalent)\", \"Sugar beet\", \"Potatoes\", \"Maize\", \"Rice, paddy\", \"Wheat\", \"Sugar cane\"], \"type\": \"bar\"}], \"layout\": {\"bargap\": 0.15, \"font\": {\"size\": 14}, \"plot_bgcolor\": \"#FFFFFF\", \"xaxis\": {\"range\": [0, 1907024730.0], \"showline\": true, \"visible\": true}, \"yaxis\": {\"showline\": false, \"visible\": true}}, \"name\": \"1973\"}, {\"data\": [{\"cliponaxis\": false, \"hoverinfo\": \"all\", \"hovertemplate\": \"<extra></extra>\", \"marker\": {\"color\": [\"rgb(193, 21, 123)\", \"rgb(148, 185, 41)\", \"rgb(62, 187, 94)\", \"rgb(179, 146, 21)\", \"rgb(179, 27, 76)\", \"rgb(54, 158, 213)\", \"rgb(236, 85, 80)\", \"rgb(33, 22, 89)\", \"rgb(225, 59, 87)\", \"rgb(119, 210, 159)\"]}, \"orientation\": \"h\", \"textangle\": 0, \"textposition\": \"outside\", \"texttemplate\": \"%{y}<br>%{x:.4s}\", \"x\": [104370567.0, 137264243.0, 148818870.0, 221424400.0, 234922029.0, 284781339.0, 306427347.0, 331970614.0, 358825442.0, 648516497.0], \"y\": [\"Cassava\", \"Sweet potatoes\", \"Barley\", \"Rice, paddy (rice milled equivalent)\", \"Sugar beet\", \"Potatoes\", \"Maize\", \"Rice, paddy\", \"Wheat\", \"Sugar cane\"], \"type\": \"bar\"}], \"layout\": {\"bargap\": 0.15, \"font\": {\"size\": 14}, \"plot_bgcolor\": \"#FFFFFF\", \"xaxis\": {\"range\": [0, 1907024730.0], \"showline\": true, \"visible\": true}, \"yaxis\": {\"showline\": false, \"visible\": true}}, \"name\": \"1974\"}, {\"data\": [{\"cliponaxis\": false, \"hoverinfo\": \"all\", \"hovertemplate\": \"<extra></extra>\", \"marker\": {\"color\": [\"rgb(193, 21, 123)\", \"rgb(62, 187, 94)\", \"rgb(148, 185, 41)\", \"rgb(179, 146, 21)\", \"rgb(179, 27, 76)\", \"rgb(54, 158, 213)\", \"rgb(236, 85, 80)\", \"rgb(225, 59, 87)\", \"rgb(33, 22, 89)\", \"rgb(119, 210, 159)\"]}, \"orientation\": \"h\", \"textangle\": 0, \"textposition\": \"outside\", \"texttemplate\": \"%{y}<br>%{x:.4s}\", \"x\": [110398445.0, 135491720.0, 141314403.0, 238094381.0, 251310276.0, 270384075.0, 341751971.0, 355806146.0, 356963090.0, 655815792.0], \"y\": [\"Cassava\", \"Barley\", \"Sweet potatoes\", \"Rice, paddy (rice milled equivalent)\", \"Sugar beet\", \"Potatoes\", \"Maize\", \"Wheat\", \"Rice, paddy\", \"Sugar cane\"], \"type\": \"bar\"}], \"layout\": {\"bargap\": 0.15, \"font\": {\"size\": 14}, \"plot_bgcolor\": \"#FFFFFF\", \"xaxis\": {\"range\": [0, 1907024730.0], \"showline\": true, \"visible\": true}, \"yaxis\": {\"showline\": false, \"visible\": true}}, \"name\": \"1975\"}, {\"data\": [{\"cliponaxis\": false, \"hoverinfo\": \"all\", \"hovertemplate\": \"<extra></extra>\", \"marker\": {\"color\": [\"rgb(193, 21, 123)\", \"rgb(148, 185, 41)\", \"rgb(62, 187, 94)\", \"rgb(179, 146, 21)\", \"rgb(54, 158, 213)\", \"rgb(179, 27, 76)\", \"rgb(33, 22, 89)\", \"rgb(236, 85, 80)\", \"rgb(225, 59, 87)\", \"rgb(119, 210, 159)\"]}, \"orientation\": \"h\", \"textangle\": 0, \"textposition\": \"outside\", \"texttemplate\": \"%{y}<br>%{x:.4s}\", \"x\": [113892497.0, 133322031.0, 166595806.0, 231906870.0, 272745276.0, 296408369.0, 347686462.0, 352395866.0, 419868031.0, 687207538.0], \"y\": [\"Cassava\", \"Sweet potatoes\", \"Barley\", \"Rice, paddy (rice milled equivalent)\", \"Potatoes\", \"Sugar beet\", \"Rice, paddy\", \"Maize\", \"Wheat\", \"Sugar cane\"], \"type\": \"bar\"}], \"layout\": {\"bargap\": 0.15, \"font\": {\"size\": 14}, \"plot_bgcolor\": \"#FFFFFF\", \"xaxis\": {\"range\": [0, 1907024730.0], \"showline\": true, \"visible\": true}, \"yaxis\": {\"showline\": false, \"visible\": true}}, \"name\": \"1976\"}, {\"data\": [{\"cliponaxis\": false, \"hoverinfo\": \"all\", \"hovertemplate\": \"<extra></extra>\", \"marker\": {\"color\": [\"rgb(193, 21, 123)\", \"rgb(148, 185, 41)\", \"rgb(62, 187, 94)\", \"rgb(179, 146, 21)\", \"rgb(54, 158, 213)\", \"rgb(179, 27, 76)\", \"rgb(33, 22, 89)\", \"rgb(236, 85, 80)\", \"rgb(225, 59, 87)\", \"rgb(119, 210, 159)\"]}, \"orientation\": \"h\", \"textangle\": 0, \"textposition\": \"outside\", \"texttemplate\": \"%{y}<br>%{x:.4s}\", \"x\": [118605256.0, 143107584.0, 156386493.0, 246443929.0, 279667694.0, 288582476.0, 369481153.0, 371593355.0, 382276677.0, 734858286.0], \"y\": [\"Cassava\", \"Sweet potatoes\", \"Barley\", \"Rice, paddy (rice milled equivalent)\", \"Potatoes\", \"Sugar beet\", \"Rice, paddy\", \"Maize\", \"Wheat\", \"Sugar cane\"], \"type\": \"bar\"}], \"layout\": {\"bargap\": 0.15, \"font\": {\"size\": 14}, \"plot_bgcolor\": \"#FFFFFF\", \"xaxis\": {\"range\": [0, 1907024730.0], \"showline\": true, \"visible\": true}, \"yaxis\": {\"showline\": false, \"visible\": true}}, \"name\": \"1977\"}, {\"data\": [{\"cliponaxis\": false, \"hoverinfo\": \"all\", \"hovertemplate\": \"<extra></extra>\", \"marker\": {\"color\": [\"rgb(193, 21, 123)\", \"rgb(148, 185, 41)\", \"rgb(62, 187, 94)\", \"rgb(179, 146, 21)\", \"rgb(179, 27, 76)\", \"rgb(54, 158, 213)\", \"rgb(33, 22, 89)\", \"rgb(236, 85, 80)\", \"rgb(225, 59, 87)\", \"rgb(119, 210, 159)\"]}, \"orientation\": \"h\", \"textangle\": 0, \"textposition\": \"outside\", \"texttemplate\": \"%{y}<br>%{x:.4s}\", \"x\": [123308473.0, 151857764.0, 174929309.0, 256934233.0, 282834069.0, 291161652.0, 385208745.0, 393600091.0, 443844880.0, 774416858.0], \"y\": [\"Cassava\", \"Sweet potatoes\", \"Barley\", \"Rice, paddy (rice milled equivalent)\", \"Sugar beet\", \"Potatoes\", \"Rice, paddy\", \"Maize\", \"Wheat\", \"Sugar cane\"], \"type\": \"bar\"}], \"layout\": {\"bargap\": 0.15, \"font\": {\"size\": 14}, \"plot_bgcolor\": \"#FFFFFF\", \"xaxis\": {\"range\": [0, 1907024730.0], \"showline\": true, \"visible\": true}, \"yaxis\": {\"showline\": false, \"visible\": true}}, \"name\": \"1978\"}, {\"data\": [{\"cliponaxis\": false, \"hoverinfo\": \"all\", \"hovertemplate\": \"<extra></extra>\", \"marker\": {\"color\": [\"rgb(193, 21, 123)\", \"rgb(148, 185, 41)\", \"rgb(62, 187, 94)\", \"rgb(179, 146, 21)\", \"rgb(179, 27, 76)\", \"rgb(54, 158, 213)\", \"rgb(33, 22, 89)\", \"rgb(236, 85, 80)\", \"rgb(225, 59, 87)\", \"rgb(119, 210, 159)\"]}, \"orientation\": \"h\", \"textangle\": 0, \"textposition\": \"outside\", \"texttemplate\": \"%{y}<br>%{x:.4s}\", \"x\": [119745423.0, 137935647.0, 154989948.0, 250292923.0, 262752809.0, 297921605.0, 375251758.0, 418622993.0, 422999301.0, 770245178.0], \"y\": [\"Cassava\", \"Sweet potatoes\", \"Barley\", \"Rice, paddy (rice milled equivalent)\", \"Sugar beet\", \"Potatoes\", \"Rice, paddy\", \"Maize\", \"Wheat\", \"Sugar cane\"], \"type\": \"bar\"}], \"layout\": {\"bargap\": 0.15, \"font\": {\"size\": 14}, \"plot_bgcolor\": \"#FFFFFF\", \"xaxis\": {\"range\": [0, 1907024730.0], \"showline\": true, \"visible\": true}, \"yaxis\": {\"showline\": false, \"visible\": true}}, \"name\": \"1979\"}, {\"data\": [{\"cliponaxis\": false, \"hoverinfo\": \"all\", \"hovertemplate\": \"<extra></extra>\", \"marker\": {\"color\": [\"rgb(193, 21, 123)\", \"rgb(148, 185, 41)\", \"rgb(62, 187, 94)\", \"rgb(54, 158, 213)\", \"rgb(179, 146, 21)\", \"rgb(179, 27, 76)\", \"rgb(236, 85, 80)\", \"rgb(33, 22, 89)\", \"rgb(225, 59, 87)\", \"rgb(119, 210, 159)\"]}, \"orientation\": \"h\", \"textangle\": 0, \"textposition\": \"outside\", \"texttemplate\": \"%{y}<br>%{x:.4s}\", \"x\": [124135066.0, 137869239.0, 156702822.0, 240495788.0, 264713164.0, 267856451.0, 396623388.0, 396871310.0, 440187901.0, 734489200.0], \"y\": [\"Cassava\", \"Sweet potatoes\", \"Barley\", \"Potatoes\", \"Rice, paddy (rice milled equivalent)\", \"Sugar beet\", \"Maize\", \"Rice, paddy\", \"Wheat\", \"Sugar cane\"], \"type\": \"bar\"}], \"layout\": {\"bargap\": 0.15, \"font\": {\"size\": 14}, \"plot_bgcolor\": \"#FFFFFF\", \"xaxis\": {\"range\": [0, 1907024730.0], \"showline\": true, \"visible\": true}, \"yaxis\": {\"showline\": false, \"visible\": true}}, \"name\": \"1980\"}, {\"data\": [{\"cliponaxis\": false, \"hoverinfo\": \"all\", \"hovertemplate\": \"<extra></extra>\", \"marker\": {\"color\": [\"rgb(148, 185, 41)\", \"rgb(193, 21, 123)\", \"rgb(62, 187, 94)\", \"rgb(54, 158, 213)\", \"rgb(179, 146, 21)\", \"rgb(179, 27, 76)\", \"rgb(33, 22, 89)\", \"rgb(236, 85, 80)\", \"rgb(225, 59, 87)\", \"rgb(119, 210, 159)\"]}, \"orientation\": \"h\", \"textangle\": 0, \"textposition\": \"outside\", \"texttemplate\": \"%{y}<br>%{x:.4s}\", \"x\": [125543727.0, 127513877.0, 149602582.0, 267781520.0, 273520179.0, 287840286.0, 410075231.0, 446772517.0, 449633986.0, 799604214.0], \"y\": [\"Sweet potatoes\", \"Cassava\", \"Barley\", \"Potatoes\", \"Rice, paddy (rice milled equivalent)\", \"Sugar beet\", \"Rice, paddy\", \"Maize\", \"Wheat\", \"Sugar cane\"], \"type\": \"bar\"}], \"layout\": {\"bargap\": 0.15, \"font\": {\"size\": 14}, \"plot_bgcolor\": \"#FFFFFF\", \"xaxis\": {\"range\": [0, 1907024730.0], \"showline\": true, \"visible\": true}, \"yaxis\": {\"showline\": false, \"visible\": true}}, \"name\": \"1981\"}, {\"data\": [{\"cliponaxis\": false, \"hoverinfo\": \"all\", \"hovertemplate\": \"<extra></extra>\", \"marker\": {\"color\": [\"rgb(193, 21, 123)\", \"rgb(148, 185, 41)\", \"rgb(62, 187, 94)\", \"rgb(54, 158, 213)\", \"rgb(179, 146, 21)\", \"rgb(179, 27, 76)\", \"rgb(33, 22, 89)\", \"rgb(236, 85, 80)\", \"rgb(225, 59, 87)\", \"rgb(119, 210, 159)\"]}, \"orientation\": \"h\", \"textangle\": 0, \"textposition\": \"outside\", \"texttemplate\": \"%{y}<br>%{x:.4s}\", \"x\": [128849568.0, 129433910.0, 161352537.0, 265142602.0, 281440016.0, 291773194.0, 421949049.0, 448932280.0, 476768609.0, 907067880.0], \"y\": [\"Cassava\", \"Sweet potatoes\", \"Barley\", \"Potatoes\", \"Rice, paddy (rice milled equivalent)\", \"Sugar beet\", \"Rice, paddy\", \"Maize\", \"Wheat\", \"Sugar cane\"], \"type\": \"bar\"}], \"layout\": {\"bargap\": 0.15, \"font\": {\"size\": 14}, \"plot_bgcolor\": \"#FFFFFF\", \"xaxis\": {\"range\": [0, 1907024730.0], \"showline\": true, \"visible\": true}, \"yaxis\": {\"showline\": false, \"visible\": true}}, \"name\": \"1982\"}, {\"data\": [{\"cliponaxis\": false, \"hoverinfo\": \"all\", \"hovertemplate\": \"<extra></extra>\", \"marker\": {\"color\": [\"rgb(193, 21, 123)\", \"rgb(148, 185, 41)\", \"rgb(62, 187, 94)\", \"rgb(54, 158, 213)\", \"rgb(179, 27, 76)\", \"rgb(179, 146, 21)\", \"rgb(236, 85, 80)\", \"rgb(33, 22, 89)\", \"rgb(225, 59, 87)\", \"rgb(119, 210, 159)\"]}, \"orientation\": \"h\", \"textangle\": 0, \"textposition\": \"outside\", \"texttemplate\": \"%{y}<br>%{x:.4s}\", \"x\": [126886287.0, 137945719.0, 159470171.0, 264471009.0, 274395485.0, 298826869.0, 347082034.0, 448016295.0, 489555281.0, 903684353.0], \"y\": [\"Cassava\", \"Sweet potatoes\", \"Barley\", \"Potatoes\", \"Sugar beet\", \"Rice, paddy (rice milled equivalent)\", \"Maize\", \"Rice, paddy\", \"Wheat\", \"Sugar cane\"], \"type\": \"bar\"}], \"layout\": {\"bargap\": 0.15, \"font\": {\"size\": 14}, \"plot_bgcolor\": \"#FFFFFF\", \"xaxis\": {\"range\": [0, 1907024730.0], \"showline\": true, \"visible\": true}, \"yaxis\": {\"showline\": false, \"visible\": true}}, \"name\": \"1983\"}, {\"data\": [{\"cliponaxis\": false, \"hoverinfo\": \"all\", \"hovertemplate\": \"<extra></extra>\", \"marker\": {\"color\": [\"rgb(148, 185, 41)\", \"rgb(193, 21, 123)\", \"rgb(62, 187, 94)\", \"rgb(54, 158, 213)\", \"rgb(179, 27, 76)\", \"rgb(179, 146, 21)\", \"rgb(236, 85, 80)\", \"rgb(33, 22, 89)\", \"rgb(225, 59, 87)\", \"rgb(119, 210, 159)\"]}, \"orientation\": \"h\", \"textangle\": 0, \"textposition\": \"outside\", \"texttemplate\": \"%{y}<br>%{x:.4s}\", \"x\": [133036563.0, 133239818.0, 169433845.0, 290945972.0, 296351939.0, 310383713.0, 450449992.0, 465342898.0, 512330225.0, 929768246.0], \"y\": [\"Sweet potatoes\", \"Cassava\", \"Barley\", \"Potatoes\", \"Sugar beet\", \"Rice, paddy (rice milled equivalent)\", \"Maize\", \"Rice, paddy\", \"Wheat\", \"Sugar cane\"], \"type\": \"bar\"}], \"layout\": {\"bargap\": 0.15, \"font\": {\"size\": 14}, \"plot_bgcolor\": \"#FFFFFF\", \"xaxis\": {\"range\": [0, 1907024730.0], \"showline\": true, \"visible\": true}, \"yaxis\": {\"showline\": false, \"visible\": true}}, \"name\": \"1984\"}, {\"data\": [{\"cliponaxis\": false, \"hoverinfo\": \"all\", \"hovertemplate\": \"<extra></extra>\", \"marker\": {\"color\": [\"rgb(148, 185, 41)\", \"rgb(193, 21, 123)\", \"rgb(62, 187, 94)\", \"rgb(54, 158, 213)\", \"rgb(179, 27, 76)\", \"rgb(179, 146, 21)\", \"rgb(33, 22, 89)\", \"rgb(236, 85, 80)\", \"rgb(225, 59, 87)\", \"rgb(119, 210, 159)\"]}, \"orientation\": \"h\", \"textangle\": 0, \"textposition\": \"outside\", \"texttemplate\": \"%{y}<br>%{x:.4s}\", \"x\": [122997023.0, 135852865.0, 172618338.0, 281603760.0, 284155160.0, 312265770.0, 468164572.0, 485527301.0, 499527392.0, 933213589.0], \"y\": [\"Sweet potatoes\", \"Cassava\", \"Barley\", \"Potatoes\", \"Sugar beet\", \"Rice, paddy (rice milled equivalent)\", \"Rice, paddy\", \"Maize\", \"Wheat\", \"Sugar cane\"], \"type\": \"bar\"}], \"layout\": {\"bargap\": 0.15, \"font\": {\"size\": 14}, \"plot_bgcolor\": \"#FFFFFF\", \"xaxis\": {\"range\": [0, 1907024730.0], \"showline\": true, \"visible\": true}, \"yaxis\": {\"showline\": false, \"visible\": true}}, \"name\": \"1985\"}, {\"data\": [{\"cliponaxis\": false, \"hoverinfo\": \"all\", \"hovertemplate\": \"<extra></extra>\", \"marker\": {\"color\": [\"rgb(91, 230, 76)\", \"rgb(193, 21, 123)\", \"rgb(62, 187, 94)\", \"rgb(179, 27, 76)\", \"rgb(54, 158, 213)\", \"rgb(179, 146, 21)\", \"rgb(33, 22, 89)\", \"rgb(236, 85, 80)\", \"rgb(225, 59, 87)\", \"rgb(119, 210, 159)\"]}, \"orientation\": \"h\", \"textangle\": 0, \"textposition\": \"outside\", \"texttemplate\": \"%{y}<br>%{x:.4s}\", \"x\": [129814219.0, 134228164.0, 177169275.0, 286334048.0, 286610518.0, 312606386.0, 468675242.0, 478176622.0, 528685222.0, 934719186.0], \"y\": [\"Vegetables, fresh nes\", \"Cassava\", \"Barley\", \"Sugar beet\", \"Potatoes\", \"Rice, paddy (rice milled equivalent)\", \"Rice, paddy\", \"Maize\", \"Wheat\", \"Sugar cane\"], \"type\": \"bar\"}], \"layout\": {\"bargap\": 0.15, \"font\": {\"size\": 14}, \"plot_bgcolor\": \"#FFFFFF\", \"xaxis\": {\"range\": [0, 1907024730.0], \"showline\": true, \"visible\": true}, \"yaxis\": {\"showline\": false, \"visible\": true}}, \"name\": \"1986\"}, {\"data\": [{\"cliponaxis\": false, \"hoverinfo\": \"all\", \"hovertemplate\": \"<extra></extra>\", \"marker\": {\"color\": [\"rgb(148, 185, 41)\", \"rgb(193, 21, 123)\", \"rgb(62, 187, 94)\", \"rgb(54, 158, 213)\", \"rgb(179, 27, 76)\", \"rgb(179, 146, 21)\", \"rgb(236, 85, 80)\", \"rgb(33, 22, 89)\", \"rgb(225, 59, 87)\", \"rgb(119, 210, 159)\"]}, \"orientation\": \"h\", \"textangle\": 0, \"textposition\": \"outside\", \"texttemplate\": \"%{y}<br>%{x:.4s}\", \"x\": [133652442.0, 138134704.0, 175288684.0, 279415351.0, 299751636.0, 307780419.0, 453115794.0, 461439908.0, 505075847.0, 990319251.0], \"y\": [\"Sweet potatoes\", \"Cassava\", \"Barley\", \"Potatoes\", \"Sugar beet\", \"Rice, paddy (rice milled equivalent)\", \"Maize\", \"Rice, paddy\", \"Wheat\", \"Sugar cane\"], \"type\": \"bar\"}], \"layout\": {\"bargap\": 0.15, \"font\": {\"size\": 14}, \"plot_bgcolor\": \"#FFFFFF\", \"xaxis\": {\"range\": [0, 1907024730.0], \"showline\": true, \"visible\": true}, \"yaxis\": {\"showline\": false, \"visible\": true}}, \"name\": \"1987\"}, {\"data\": [{\"cliponaxis\": false, \"hoverinfo\": \"all\", \"hovertemplate\": \"<extra></extra>\", \"marker\": {\"color\": [\"rgb(91, 230, 76)\", \"rgb(193, 21, 123)\", \"rgb(62, 187, 94)\", \"rgb(54, 158, 213)\", \"rgb(179, 27, 76)\", \"rgb(179, 146, 21)\", \"rgb(236, 85, 80)\", \"rgb(33, 22, 89)\", \"rgb(225, 59, 87)\", \"rgb(119, 210, 159)\"]}, \"orientation\": \"h\", \"textangle\": 0, \"textposition\": \"outside\", \"texttemplate\": \"%{y}<br>%{x:.4s}\", \"x\": [137997867.0, 144878275.0, 163396406.0, 268603004.0, 293570876.0, 325134421.0, 403050234.0, 487457902.0, 500656538.0, 992982513.0], \"y\": [\"Vegetables, fresh nes\", \"Cassava\", \"Barley\", \"Potatoes\", \"Sugar beet\", \"Rice, paddy (rice milled equivalent)\", \"Maize\", \"Rice, paddy\", \"Wheat\", \"Sugar cane\"], \"type\": \"bar\"}], \"layout\": {\"bargap\": 0.15, \"font\": {\"size\": 14}, \"plot_bgcolor\": \"#FFFFFF\", \"xaxis\": {\"range\": [0, 1907024730.0], \"showline\": true, \"visible\": true}, \"yaxis\": {\"showline\": false, \"visible\": true}}, \"name\": \"1988\"}, {\"data\": [{\"cliponaxis\": false, \"hoverinfo\": \"all\", \"hovertemplate\": \"<extra></extra>\", \"marker\": {\"color\": [\"rgb(91, 230, 76)\", \"rgb(193, 21, 123)\", \"rgb(62, 187, 94)\", \"rgb(54, 158, 213)\", \"rgb(179, 27, 76)\", \"rgb(179, 146, 21)\", \"rgb(236, 85, 80)\", \"rgb(33, 22, 89)\", \"rgb(225, 59, 87)\", \"rgb(119, 210, 159)\"]}, \"orientation\": \"h\", \"textangle\": 0, \"textposition\": \"outside\", \"texttemplate\": \"%{y}<br>%{x:.4s}\", \"x\": [138710355.0, 152885746.0, 164166455.0, 276583863.0, 314402899.0, 343119234.0, 476874503.0, 514421640.0, 538206114.0, 1017998783.0], \"y\": [\"Vegetables, fresh nes\", \"Cassava\", \"Barley\", \"Potatoes\", \"Sugar beet\", \"Rice, paddy (rice milled equivalent)\", \"Maize\", \"Rice, paddy\", \"Wheat\", \"Sugar cane\"], \"type\": \"bar\"}], \"layout\": {\"bargap\": 0.15, \"font\": {\"size\": 14}, \"plot_bgcolor\": \"#FFFFFF\", \"xaxis\": {\"range\": [0, 1907024730.0], \"showline\": true, \"visible\": true}, \"yaxis\": {\"showline\": false, \"visible\": true}}, \"name\": \"1989\"}, {\"data\": [{\"cliponaxis\": false, \"hoverinfo\": \"all\", \"hovertemplate\": \"<extra></extra>\", \"marker\": {\"color\": [\"rgb(91, 230, 76)\", \"rgb(193, 21, 123)\", \"rgb(62, 187, 94)\", \"rgb(54, 158, 213)\", \"rgb(179, 27, 76)\", \"rgb(179, 146, 21)\", \"rgb(236, 85, 80)\", \"rgb(33, 22, 89)\", \"rgb(225, 59, 87)\", \"rgb(119, 210, 159)\"]}, \"orientation\": \"h\", \"textangle\": 0, \"textposition\": \"outside\", \"texttemplate\": \"%{y}<br>%{x:.4s}\", \"x\": [140314879.0, 152378682.0, 178074020.0, 266825273.0, 309186724.0, 345885292.0, 483620724.0, 518568653.0, 591330111.0, 1052997497.0], \"y\": [\"Vegetables, fresh nes\", \"Cassava\", \"Barley\", \"Potatoes\", \"Sugar beet\", \"Rice, paddy (rice milled equivalent)\", \"Maize\", \"Rice, paddy\", \"Wheat\", \"Sugar cane\"], \"type\": \"bar\"}], \"layout\": {\"bargap\": 0.15, \"font\": {\"size\": 14}, \"plot_bgcolor\": \"#FFFFFF\", \"xaxis\": {\"range\": [0, 1907024730.0], \"showline\": true, \"visible\": true}, \"yaxis\": {\"showline\": false, \"visible\": true}}, \"name\": \"1990\"}, {\"data\": [{\"cliponaxis\": false, \"hoverinfo\": \"all\", \"hovertemplate\": \"<extra></extra>\", \"marker\": {\"color\": [\"rgb(91, 230, 76)\", \"rgb(193, 21, 123)\", \"rgb(62, 187, 94)\", \"rgb(54, 158, 213)\", \"rgb(179, 27, 76)\", \"rgb(179, 146, 21)\", \"rgb(236, 85, 80)\", \"rgb(33, 22, 89)\", \"rgb(225, 59, 87)\", \"rgb(119, 210, 159)\"]}, \"orientation\": \"h\", \"textangle\": 0, \"textposition\": \"outside\", \"texttemplate\": \"%{y}<br>%{x:.4s}\", \"x\": [135062201.0, 160406516.0, 169582274.0, 256993281.0, 285129013.0, 345847886.0, 494407622.0, 518512573.0, 547820731.0, 1086955621.0], \"y\": [\"Vegetables, fresh nes\", \"Cassava\", \"Barley\", \"Potatoes\", \"Sugar beet\", \"Rice, paddy (rice milled equivalent)\", \"Maize\", \"Rice, paddy\", \"Wheat\", \"Sugar cane\"], \"type\": \"bar\"}], \"layout\": {\"bargap\": 0.15, \"font\": {\"size\": 14}, \"plot_bgcolor\": \"#FFFFFF\", \"xaxis\": {\"range\": [0, 1907024730.0], \"showline\": true, \"visible\": true}, \"yaxis\": {\"showline\": false, \"visible\": true}}, \"name\": \"1991\"}, {\"data\": [{\"cliponaxis\": false, \"hoverinfo\": \"all\", \"hovertemplate\": \"<extra></extra>\", \"marker\": {\"color\": [\"rgb(91, 230, 76)\", \"rgb(193, 21, 123)\", \"rgb(62, 187, 94)\", \"rgb(54, 158, 213)\", \"rgb(179, 27, 76)\", \"rgb(179, 146, 21)\", \"rgb(33, 22, 89)\", \"rgb(236, 85, 80)\", \"rgb(225, 59, 87)\", \"rgb(119, 210, 159)\"]}, \"orientation\": \"h\", \"textangle\": 0, \"textposition\": \"outside\", \"texttemplate\": \"%{y}<br>%{x:.4s}\", \"x\": [144904166.0, 162004349.0, 165533308.0, 278980652.0, 281711850.0, 352094665.0, 527878059.0, 533789336.0, 565111947.0, 1107576853.0], \"y\": [\"Vegetables, fresh nes\", \"Cassava\", \"Barley\", \"Potatoes\", \"Sugar beet\", \"Rice, paddy (rice milled equivalent)\", \"Rice, paddy\", \"Maize\", \"Wheat\", \"Sugar cane\"], \"type\": \"bar\"}], \"layout\": {\"bargap\": 0.15, \"font\": {\"size\": 14}, \"plot_bgcolor\": \"#FFFFFF\", \"xaxis\": {\"range\": [0, 1907024730.0], \"showline\": true, \"visible\": true}, \"yaxis\": {\"showline\": false, \"visible\": true}}, \"name\": \"1992\"}, {\"data\": [{\"cliponaxis\": false, \"hoverinfo\": \"all\", \"hovertemplate\": \"<extra></extra>\", \"marker\": {\"color\": [\"rgb(91, 230, 76)\", \"rgb(193, 21, 123)\", \"rgb(62, 187, 94)\", \"rgb(179, 27, 76)\", \"rgb(54, 158, 213)\", \"rgb(179, 146, 21)\", \"rgb(236, 85, 80)\", \"rgb(33, 22, 89)\", \"rgb(225, 59, 87)\", \"rgb(119, 210, 159)\"]}, \"orientation\": \"h\", \"textangle\": 0, \"textposition\": \"outside\", \"texttemplate\": \"%{y}<br>%{x:.4s}\", \"x\": [155428142.0, 163185199.0, 169542965.0, 282190576.0, 304619922.0, 353242902.0, 477221153.0, 529599553.0, 564739765.0, 1020881319.0], \"y\": [\"Vegetables, fresh nes\", \"Cassava\", \"Barley\", \"Sugar beet\", \"Potatoes\", \"Rice, paddy (rice milled equivalent)\", \"Maize\", \"Rice, paddy\", \"Wheat\", \"Sugar cane\"], \"type\": \"bar\"}], \"layout\": {\"bargap\": 0.15, \"font\": {\"size\": 14}, \"plot_bgcolor\": \"#FFFFFF\", \"xaxis\": {\"range\": [0, 1907024730.0], \"showline\": true, \"visible\": true}, \"yaxis\": {\"showline\": false, \"visible\": true}}, \"name\": \"1993\"}, {\"data\": [{\"cliponaxis\": false, \"hoverinfo\": \"all\", \"hovertemplate\": \"<extra></extra>\", \"marker\": {\"color\": [\"rgb(62, 187, 94)\", \"rgb(91, 230, 76)\", \"rgb(193, 21, 123)\", \"rgb(179, 27, 76)\", \"rgb(54, 158, 213)\", \"rgb(179, 146, 21)\", \"rgb(225, 59, 87)\", \"rgb(33, 22, 89)\", \"rgb(236, 85, 80)\", \"rgb(119, 210, 159)\"]}, \"orientation\": \"h\", \"textangle\": 0, \"textposition\": \"outside\", \"texttemplate\": \"%{y}<br>%{x:.4s}\", \"x\": [161019263.0, 161088312.0, 164501121.0, 254453796.0, 270203771.0, 359240229.0, 525435323.0, 538591048.0, 568663564.0, 1084097363.0], \"y\": [\"Barley\", \"Vegetables, fresh nes\", \"Cassava\", \"Sugar beet\", \"Potatoes\", \"Rice, paddy (rice milled equivalent)\", \"Wheat\", \"Rice, paddy\", \"Maize\", \"Sugar cane\"], \"type\": \"bar\"}], \"layout\": {\"bargap\": 0.15, \"font\": {\"size\": 14}, \"plot_bgcolor\": \"#FFFFFF\", \"xaxis\": {\"range\": [0, 1907024730.0], \"showline\": true, \"visible\": true}, \"yaxis\": {\"showline\": false, \"visible\": true}}, \"name\": \"1994\"}, {\"data\": [{\"cliponaxis\": false, \"hoverinfo\": \"all\", \"hovertemplate\": \"<extra></extra>\", \"marker\": {\"color\": [\"rgb(62, 187, 94)\", \"rgb(193, 21, 123)\", \"rgb(91, 230, 76)\", \"rgb(179, 27, 76)\", \"rgb(54, 158, 213)\", \"rgb(179, 146, 21)\", \"rgb(236, 85, 80)\", \"rgb(225, 59, 87)\", \"rgb(33, 22, 89)\", \"rgb(119, 210, 159)\"]}, \"orientation\": \"h\", \"textangle\": 0, \"textposition\": \"outside\", \"texttemplate\": \"%{y}<br>%{x:.4s}\", \"x\": [140724630.0, 161787472.0, 165885731.0, 264504934.0, 285333037.0, 364957060.0, 517299059.0, 544357532.0, 547162009.0, 1163366858.0], \"y\": [\"Barley\", \"Cassava\", \"Vegetables, fresh nes\", \"Sugar beet\", \"Potatoes\", \"Rice, paddy (rice milled equivalent)\", \"Maize\", \"Wheat\", \"Rice, paddy\", \"Sugar cane\"], \"type\": \"bar\"}], \"layout\": {\"bargap\": 0.15, \"font\": {\"size\": 14}, \"plot_bgcolor\": \"#FFFFFF\", \"xaxis\": {\"range\": [0, 1907024730.0], \"showline\": true, \"visible\": true}, \"yaxis\": {\"showline\": false, \"visible\": true}}, \"name\": \"1995\"}, {\"data\": [{\"cliponaxis\": false, \"hoverinfo\": \"all\", \"hovertemplate\": \"<extra></extra>\", \"marker\": {\"color\": [\"rgb(62, 187, 94)\", \"rgb(193, 21, 123)\", \"rgb(91, 230, 76)\", \"rgb(179, 27, 76)\", \"rgb(54, 158, 213)\", \"rgb(179, 146, 21)\", \"rgb(33, 22, 89)\", \"rgb(225, 59, 87)\", \"rgb(236, 85, 80)\", \"rgb(119, 210, 159)\"]}, \"orientation\": \"h\", \"textangle\": 0, \"textposition\": \"outside\", \"texttemplate\": \"%{y}<br>%{x:.4s}\", \"x\": [155017318.0, 158373490.0, 171922447.0, 264461343.0, 310493658.0, 379294907.0, 568658031.0, 578616933.0, 586146163.0, 1218890125.0], \"y\": [\"Barley\", \"Cassava\", \"Vegetables, fresh nes\", \"Sugar beet\", \"Potatoes\", \"Rice, paddy (rice milled equivalent)\", \"Rice, paddy\", \"Wheat\", \"Maize\", \"Sugar cane\"], \"type\": \"bar\"}], \"layout\": {\"bargap\": 0.15, \"font\": {\"size\": 14}, \"plot_bgcolor\": \"#FFFFFF\", \"xaxis\": {\"range\": [0, 1907024730.0], \"showline\": true, \"visible\": true}, \"yaxis\": {\"showline\": false, \"visible\": true}}, \"name\": \"1996\"}, {\"data\": [{\"cliponaxis\": false, \"hoverinfo\": \"all\", \"hovertemplate\": \"<extra></extra>\", \"marker\": {\"color\": [\"rgb(62, 187, 94)\", \"rgb(193, 21, 123)\", \"rgb(91, 230, 76)\", \"rgb(179, 27, 76)\", \"rgb(54, 158, 213)\", \"rgb(179, 146, 21)\", \"rgb(33, 22, 89)\", \"rgb(236, 85, 80)\", \"rgb(225, 59, 87)\", \"rgb(119, 210, 159)\"]}, \"orientation\": \"h\", \"textangle\": 0, \"textposition\": \"outside\", \"texttemplate\": \"%{y}<br>%{x:.4s}\", \"x\": [154359212.0, 161747290.0, 175581351.0, 267973956.0, 301079129.0, 384950308.0, 577136893.0, 584411894.0, 614651780.0, 1246425310.0], \"y\": [\"Barley\", \"Cassava\", \"Vegetables, fresh nes\", \"Sugar beet\", \"Potatoes\", \"Rice, paddy (rice milled equivalent)\", \"Rice, paddy\", \"Maize\", \"Wheat\", \"Sugar cane\"], \"type\": \"bar\"}], \"layout\": {\"bargap\": 0.15, \"font\": {\"size\": 14}, \"plot_bgcolor\": \"#FFFFFF\", \"xaxis\": {\"range\": [0, 1907024730.0], \"showline\": true, \"visible\": true}, \"yaxis\": {\"showline\": false, \"visible\": true}}, \"name\": \"1997\"}, {\"data\": [{\"cliponaxis\": false, \"hoverinfo\": \"all\", \"hovertemplate\": \"<extra></extra>\", \"marker\": {\"color\": [\"rgb(139, 147, 31)\", \"rgb(193, 21, 123)\", \"rgb(91, 230, 76)\", \"rgb(179, 27, 76)\", \"rgb(54, 158, 213)\", \"rgb(179, 146, 21)\", \"rgb(33, 22, 89)\", \"rgb(225, 59, 87)\", \"rgb(236, 85, 80)\", \"rgb(119, 210, 159)\"]}, \"orientation\": \"h\", \"textangle\": 0, \"textposition\": \"outside\", \"texttemplate\": \"%{y}<br>%{x:.4s}\", \"x\": [160128822.0, 162613417.0, 178523814.0, 263032522.0, 297834904.0, 386068923.0, 578813977.0, 596175815.0, 615081853.0, 1263674263.0], \"y\": [\"Soybeans\", \"Cassava\", \"Vegetables, fresh nes\", \"Sugar beet\", \"Potatoes\", \"Rice, paddy (rice milled equivalent)\", \"Rice, paddy\", \"Wheat\", \"Maize\", \"Sugar cane\"], \"type\": \"bar\"}], \"layout\": {\"bargap\": 0.15, \"font\": {\"size\": 14}, \"plot_bgcolor\": \"#FFFFFF\", \"xaxis\": {\"range\": [0, 1907024730.0], \"showline\": true, \"visible\": true}, \"yaxis\": {\"showline\": false, \"visible\": true}}, \"name\": \"1998\"}, {\"data\": [{\"cliponaxis\": false, \"hoverinfo\": \"all\", \"hovertemplate\": \"<extra></extra>\", \"marker\": {\"color\": [\"rgb(139, 147, 31)\", \"rgb(193, 21, 123)\", \"rgb(91, 230, 76)\", \"rgb(179, 27, 76)\", \"rgb(54, 158, 213)\", \"rgb(179, 146, 21)\", \"rgb(225, 59, 87)\", \"rgb(236, 85, 80)\", \"rgb(33, 22, 89)\", \"rgb(119, 210, 159)\"]}, \"orientation\": \"h\", \"textangle\": 0, \"textposition\": \"outside\", \"texttemplate\": \"%{y}<br>%{x:.4s}\", \"x\": [157815479.0, 168847321.0, 188064527.0, 260565420.0, 296076184.0, 407655445.0, 584763438.0, 607434709.0, 611177579.0, 1282128475.0], \"y\": [\"Soybeans\", \"Cassava\", \"Vegetables, fresh nes\", \"Sugar beet\", \"Potatoes\", \"Rice, paddy (rice milled equivalent)\", \"Wheat\", \"Maize\", \"Rice, paddy\", \"Sugar cane\"], \"type\": \"bar\"}], \"layout\": {\"bargap\": 0.15, \"font\": {\"size\": 14}, \"plot_bgcolor\": \"#FFFFFF\", \"xaxis\": {\"range\": [0, 1907024730.0], \"showline\": true, \"visible\": true}, \"yaxis\": {\"showline\": false, \"visible\": true}}, \"name\": \"1999\"}, {\"data\": [{\"cliponaxis\": false, \"hoverinfo\": \"all\", \"hovertemplate\": \"<extra></extra>\", \"marker\": {\"color\": [\"rgb(139, 147, 31)\", \"rgb(193, 21, 123)\", \"rgb(91, 230, 76)\", \"rgb(179, 27, 76)\", \"rgb(54, 158, 213)\", \"rgb(179, 146, 21)\", \"rgb(225, 59, 87)\", \"rgb(236, 85, 80)\", \"rgb(33, 22, 89)\", \"rgb(119, 210, 159)\"]}, \"orientation\": \"h\", \"textangle\": 0, \"textposition\": \"outside\", \"texttemplate\": \"%{y}<br>%{x:.4s}\", \"x\": [161308383.0, 175846840.0, 211610549.0, 250148505.0, 322775223.0, 399311670.0, 584999160.0, 592038698.0, 598668171.0, 1252668856.0], \"y\": [\"Soybeans\", \"Cassava\", \"Vegetables, fresh nes\", \"Sugar beet\", \"Potatoes\", \"Rice, paddy (rice milled equivalent)\", \"Wheat\", \"Maize\", \"Rice, paddy\", \"Sugar cane\"], \"type\": \"bar\"}], \"layout\": {\"bargap\": 0.15, \"font\": {\"size\": 14}, \"plot_bgcolor\": \"#FFFFFF\", \"xaxis\": {\"range\": [0, 1907024730.0], \"showline\": true, \"visible\": true}, \"yaxis\": {\"showline\": false, \"visible\": true}}, \"name\": \"2000\"}, {\"data\": [{\"cliponaxis\": false, \"hoverinfo\": \"all\", \"hovertemplate\": \"<extra></extra>\", \"marker\": {\"color\": [\"rgb(139, 147, 31)\", \"rgb(193, 21, 123)\", \"rgb(91, 230, 76)\", \"rgb(179, 27, 76)\", \"rgb(54, 158, 213)\", \"rgb(179, 146, 21)\", \"rgb(225, 59, 87)\", \"rgb(33, 22, 89)\", \"rgb(236, 85, 80)\", \"rgb(119, 210, 159)\"]}, \"orientation\": \"h\", \"textangle\": 0, \"textposition\": \"outside\", \"texttemplate\": \"%{y}<br>%{x:.4s}\", \"x\": [177020743.0, 181687057.0, 227180655.0, 230314950.0, 305492291.0, 400364493.0, 588243664.0, 600246617.0, 615152413.0, 1257665353.0], \"y\": [\"Soybeans\", \"Cassava\", \"Vegetables, fresh nes\", \"Sugar beet\", \"Potatoes\", \"Rice, paddy (rice milled equivalent)\", \"Wheat\", \"Rice, paddy\", \"Maize\", \"Sugar cane\"], \"type\": \"bar\"}], \"layout\": {\"bargap\": 0.15, \"font\": {\"size\": 14}, \"plot_bgcolor\": \"#FFFFFF\", \"xaxis\": {\"range\": [0, 1907024730.0], \"showline\": true, \"visible\": true}, \"yaxis\": {\"showline\": false, \"visible\": true}}, \"name\": \"2001\"}, {\"data\": [{\"cliponaxis\": false, \"hoverinfo\": \"all\", \"hovertemplate\": \"<extra></extra>\", \"marker\": {\"color\": [\"rgb(139, 147, 31)\", \"rgb(193, 21, 123)\", \"rgb(91, 230, 76)\", \"rgb(179, 27, 76)\", \"rgb(54, 158, 213)\", \"rgb(179, 146, 21)\", \"rgb(33, 22, 89)\", \"rgb(225, 59, 87)\", \"rgb(236, 85, 80)\", \"rgb(119, 210, 159)\"]}, \"orientation\": \"h\", \"textangle\": 0, \"textposition\": \"outside\", \"texttemplate\": \"%{y}<br>%{x:.4s}\", \"x\": [180950733.0, 182642727.0, 226692031.0, 259606962.0, 309800226.0, 380891169.0, 571051228.0, 592045286.0, 603551954.0, 1326773955.0], \"y\": [\"Soybeans\", \"Cassava\", \"Vegetables, fresh nes\", \"Sugar beet\", \"Potatoes\", \"Rice, paddy (rice milled equivalent)\", \"Rice, paddy\", \"Wheat\", \"Maize\", \"Sugar cane\"], \"type\": \"bar\"}], \"layout\": {\"bargap\": 0.15, \"font\": {\"size\": 14}, \"plot_bgcolor\": \"#FFFFFF\", \"xaxis\": {\"range\": [0, 1907024730.0], \"showline\": true, \"visible\": true}, \"yaxis\": {\"showline\": false, \"visible\": true}}, \"name\": \"2002\"}, {\"data\": [{\"cliponaxis\": false, \"hoverinfo\": \"all\", \"hovertemplate\": \"<extra></extra>\", \"marker\": {\"color\": [\"rgb(139, 147, 31)\", \"rgb(193, 21, 123)\", \"rgb(179, 27, 76)\", \"rgb(91, 230, 76)\", \"rgb(54, 158, 213)\", \"rgb(179, 146, 21)\", \"rgb(225, 59, 87)\", \"rgb(33, 22, 89)\", \"rgb(236, 85, 80)\", \"rgb(119, 210, 159)\"]}, \"orientation\": \"h\", \"textangle\": 0, \"textposition\": \"outside\", \"texttemplate\": \"%{y}<br>%{x:.4s}\", \"x\": [190573528.0, 192215569.0, 232734248.0, 237183104.0, 307591201.0, 391483259.0, 549974473.0, 586931423.0, 645055272.0, 1371880978.0], \"y\": [\"Soybeans\", \"Cassava\", \"Sugar beet\", \"Vegetables, fresh nes\", \"Potatoes\", \"Rice, paddy (rice milled equivalent)\", \"Wheat\", \"Rice, paddy\", \"Maize\", \"Sugar cane\"], \"type\": \"bar\"}], \"layout\": {\"bargap\": 0.15, \"font\": {\"size\": 14}, \"plot_bgcolor\": \"#FFFFFF\", \"xaxis\": {\"range\": [0, 1907024730.0], \"showline\": true, \"visible\": true}, \"yaxis\": {\"showline\": false, \"visible\": true}}, \"name\": \"2003\"}, {\"data\": [{\"cliponaxis\": false, \"hoverinfo\": \"all\", \"hovertemplate\": \"<extra></extra>\", \"marker\": {\"color\": [\"rgb(193, 21, 123)\", \"rgb(139, 147, 31)\", \"rgb(91, 230, 76)\", \"rgb(179, 27, 76)\", \"rgb(54, 158, 213)\", \"rgb(179, 146, 21)\", \"rgb(33, 22, 89)\", \"rgb(225, 59, 87)\", \"rgb(236, 85, 80)\", \"rgb(119, 210, 159)\"]}, \"orientation\": \"h\", \"textangle\": 0, \"textposition\": \"outside\", \"texttemplate\": \"%{y}<br>%{x:.4s}\", \"x\": [203831956.0, 205548134.0, 224325418.0, 251589379.0, 328165612.0, 405101582.0, 607348698.0, 634666010.0, 729517951.0, 1333138427.0], \"y\": [\"Cassava\", \"Soybeans\", \"Vegetables, fresh nes\", \"Sugar beet\", \"Potatoes\", \"Rice, paddy (rice milled equivalent)\", \"Rice, paddy\", \"Wheat\", \"Maize\", \"Sugar cane\"], \"type\": \"bar\"}], \"layout\": {\"bargap\": 0.15, \"font\": {\"size\": 14}, \"plot_bgcolor\": \"#FFFFFF\", \"xaxis\": {\"range\": [0, 1907024730.0], \"showline\": true, \"visible\": true}, \"yaxis\": {\"showline\": false, \"visible\": true}}, \"name\": \"2004\"}, {\"data\": [{\"cliponaxis\": false, \"hoverinfo\": \"all\", \"hovertemplate\": \"<extra></extra>\", \"marker\": {\"color\": [\"rgb(193, 21, 123)\", \"rgb(139, 147, 31)\", \"rgb(91, 230, 76)\", \"rgb(179, 27, 76)\", \"rgb(54, 158, 213)\", \"rgb(179, 146, 21)\", \"rgb(225, 59, 87)\", \"rgb(33, 22, 89)\", \"rgb(236, 85, 80)\", \"rgb(119, 210, 159)\"]}, \"orientation\": \"h\", \"textangle\": 0, \"textposition\": \"outside\", \"texttemplate\": \"%{y}<br>%{x:.4s}\", \"x\": [206533771.0, 214542761.0, 231771630.0, 253737449.0, 317675179.0, 423028136.0, 627020836.0, 634225091.0, 714191174.0, 1306307695.0], \"y\": [\"Cassava\", \"Soybeans\", \"Vegetables, fresh nes\", \"Sugar beet\", \"Potatoes\", \"Rice, paddy (rice milled equivalent)\", \"Wheat\", \"Rice, paddy\", \"Maize\", \"Sugar cane\"], \"type\": \"bar\"}], \"layout\": {\"bargap\": 0.15, \"font\": {\"size\": 14}, \"plot_bgcolor\": \"#FFFFFF\", \"xaxis\": {\"range\": [0, 1907024730.0], \"showline\": true, \"visible\": true}, \"yaxis\": {\"showline\": false, \"visible\": true}}, \"name\": \"2005\"}, {\"data\": [{\"cliponaxis\": false, \"hoverinfo\": \"all\", \"hovertemplate\": \"<extra></extra>\", \"marker\": {\"color\": [\"rgb(139, 147, 31)\", \"rgb(193, 21, 123)\", \"rgb(91, 230, 76)\", \"rgb(179, 27, 76)\", \"rgb(54, 158, 213)\", \"rgb(179, 146, 21)\", \"rgb(225, 59, 87)\", \"rgb(33, 22, 89)\", \"rgb(236, 85, 80)\", \"rgb(119, 210, 159)\"]}, \"orientation\": \"h\", \"textangle\": 0, \"textposition\": \"outside\", \"texttemplate\": \"%{y}<br>%{x:.4s}\", \"x\": [221558922.0, 223636615.0, 241884277.0, 254025175.0, 307572166.0, 427350243.0, 614381123.0, 640705012.0, 707937211.0, 1417376025.0], \"y\": [\"Soybeans\", \"Cassava\", \"Vegetables, fresh nes\", \"Sugar beet\", \"Potatoes\", \"Rice, paddy (rice milled equivalent)\", \"Wheat\", \"Rice, paddy\", \"Maize\", \"Sugar cane\"], \"type\": \"bar\"}], \"layout\": {\"bargap\": 0.15, \"font\": {\"size\": 14}, \"plot_bgcolor\": \"#FFFFFF\", \"xaxis\": {\"range\": [0, 1907024730.0], \"showline\": true, \"visible\": true}, \"yaxis\": {\"showline\": false, \"visible\": true}}, \"name\": \"2006\"}, {\"data\": [{\"cliponaxis\": false, \"hoverinfo\": \"all\", \"hovertemplate\": \"<extra></extra>\", \"marker\": {\"color\": [\"rgb(139, 147, 31)\", \"rgb(193, 21, 123)\", \"rgb(91, 230, 76)\", \"rgb(179, 27, 76)\", \"rgb(54, 158, 213)\", \"rgb(179, 146, 21)\", \"rgb(225, 59, 87)\", \"rgb(33, 22, 89)\", \"rgb(236, 85, 80)\", \"rgb(119, 210, 159)\"]}, \"orientation\": \"h\", \"textangle\": 0, \"textposition\": \"outside\", \"texttemplate\": \"%{y}<br>%{x:.4s}\", \"x\": [219793075.0, 226974274.0, 244610984.0, 246945604.0, 313191368.0, 437923034.0, 606595140.0, 656556273.0, 792732888.0, 1605136205.0], \"y\": [\"Soybeans\", \"Cassava\", \"Vegetables, fresh nes\", \"Sugar beet\", \"Potatoes\", \"Rice, paddy (rice milled equivalent)\", \"Wheat\", \"Rice, paddy\", \"Maize\", \"Sugar cane\"], \"type\": \"bar\"}], \"layout\": {\"bargap\": 0.15, \"font\": {\"size\": 14}, \"plot_bgcolor\": \"#FFFFFF\", \"xaxis\": {\"range\": [0, 1907024730.0], \"showline\": true, \"visible\": true}, \"yaxis\": {\"showline\": false, \"visible\": true}}, \"name\": \"2007\"}, {\"data\": [{\"cliponaxis\": false, \"hoverinfo\": \"all\", \"hovertemplate\": \"<extra></extra>\", \"marker\": {\"color\": [\"rgb(179, 27, 76)\", \"rgb(193, 21, 123)\", \"rgb(139, 147, 31)\", \"rgb(91, 230, 76)\", \"rgb(54, 158, 213)\", \"rgb(179, 146, 21)\", \"rgb(225, 59, 87)\", \"rgb(33, 22, 89)\", \"rgb(236, 85, 80)\", \"rgb(119, 210, 159)\"]}, \"orientation\": \"h\", \"textangle\": 0, \"textposition\": \"outside\", \"texttemplate\": \"%{y}<br>%{x:.4s}\", \"x\": [221199239.0, 230081674.0, 231223485.0, 249305237.0, 327188473.0, 458262606.0, 680294443.0, 687050383.0, 829240208.0, 1721251508.0], \"y\": [\"Sugar beet\", \"Cassava\", \"Soybeans\", \"Vegetables, fresh nes\", \"Potatoes\", \"Rice, paddy (rice milled equivalent)\", \"Wheat\", \"Rice, paddy\", \"Maize\", \"Sugar cane\"], \"type\": \"bar\"}], \"layout\": {\"bargap\": 0.15, \"font\": {\"size\": 14}, \"plot_bgcolor\": \"#FFFFFF\", \"xaxis\": {\"range\": [0, 1907024730.0], \"showline\": true, \"visible\": true}, \"yaxis\": {\"showline\": false, \"visible\": true}}, \"name\": \"2008\"}, {\"data\": [{\"cliponaxis\": false, \"hoverinfo\": \"all\", \"hovertemplate\": \"<extra></extra>\", \"marker\": {\"color\": [\"rgb(139, 147, 31)\", \"rgb(179, 27, 76)\", \"rgb(193, 21, 123)\", \"rgb(91, 230, 76)\", \"rgb(54, 158, 213)\", \"rgb(179, 146, 21)\", \"rgb(225, 59, 87)\", \"rgb(33, 22, 89)\", \"rgb(236, 85, 80)\", \"rgb(119, 210, 159)\"]}, \"orientation\": \"h\", \"textangle\": 0, \"textposition\": \"outside\", \"texttemplate\": \"%{y}<br>%{x:.4s}\", \"x\": [223380802.0, 227985771.0, 233794346.0, 248581509.0, 330740148.0, 457333039.0, 683639171.0, 685656731.0, 820072448.0, 1677610596.0], \"y\": [\"Soybeans\", \"Sugar beet\", \"Cassava\", \"Vegetables, fresh nes\", \"Potatoes\", \"Rice, paddy (rice milled equivalent)\", \"Wheat\", \"Rice, paddy\", \"Maize\", \"Sugar cane\"], \"type\": \"bar\"}], \"layout\": {\"bargap\": 0.15, \"font\": {\"size\": 14}, \"plot_bgcolor\": \"#FFFFFF\", \"xaxis\": {\"range\": [0, 1907024730.0], \"showline\": true, \"visible\": true}, \"yaxis\": {\"showline\": false, \"visible\": true}}, \"name\": \"2009\"}, {\"data\": [{\"cliponaxis\": false, \"hoverinfo\": \"all\", \"hovertemplate\": \"<extra></extra>\", \"marker\": {\"color\": [\"rgb(179, 27, 76)\", \"rgb(193, 21, 123)\", \"rgb(91, 230, 76)\", \"rgb(139, 147, 31)\", \"rgb(54, 158, 213)\", \"rgb(179, 146, 21)\", \"rgb(225, 59, 87)\", \"rgb(33, 22, 89)\", \"rgb(236, 85, 80)\", \"rgb(119, 210, 159)\"]}, \"orientation\": \"h\", \"textangle\": 0, \"textposition\": \"outside\", \"texttemplate\": \"%{y}<br>%{x:.4s}\", \"x\": [228408922.0, 239296357.0, 259746276.0, 265088429.0, 328616920.0, 467659411.0, 640802665.0, 701138548.0, 851679519.0, 1682839957.0], \"y\": [\"Sugar beet\", \"Cassava\", \"Vegetables, fresh nes\", \"Soybeans\", \"Potatoes\", \"Rice, paddy (rice milled equivalent)\", \"Wheat\", \"Rice, paddy\", \"Maize\", \"Sugar cane\"], \"type\": \"bar\"}], \"layout\": {\"bargap\": 0.15, \"font\": {\"size\": 14}, \"plot_bgcolor\": \"#FFFFFF\", \"xaxis\": {\"range\": [0, 1907024730.0], \"showline\": true, \"visible\": true}, \"yaxis\": {\"showline\": false, \"visible\": true}}, \"name\": \"2010\"}, {\"data\": [{\"cliponaxis\": false, \"hoverinfo\": \"all\", \"hovertemplate\": \"<extra></extra>\", \"marker\": {\"color\": [\"rgb(193, 21, 123)\", \"rgb(91, 230, 76)\", \"rgb(139, 147, 31)\", \"rgb(179, 27, 76)\", \"rgb(54, 158, 213)\", \"rgb(179, 146, 21)\", \"rgb(225, 59, 87)\", \"rgb(33, 22, 89)\", \"rgb(236, 85, 80)\", \"rgb(119, 210, 159)\"]}, \"orientation\": \"h\", \"textangle\": 0, \"textposition\": \"outside\", \"texttemplate\": \"%{y}<br>%{x:.4s}\", \"x\": [251822205.0, 260842101.0, 261601653.0, 278833260.0, 367889898.0, 484492968.0, 696898368.0, 726376264.0, 886680581.0, 1794120501.0], \"y\": [\"Cassava\", \"Vegetables, fresh nes\", \"Soybeans\", \"Sugar beet\", \"Potatoes\", \"Rice, paddy (rice milled equivalent)\", \"Wheat\", \"Rice, paddy\", \"Maize\", \"Sugar cane\"], \"type\": \"bar\"}], \"layout\": {\"bargap\": 0.15, \"font\": {\"size\": 14}, \"plot_bgcolor\": \"#FFFFFF\", \"xaxis\": {\"range\": [0, 1907024730.0], \"showline\": true, \"visible\": true}, \"yaxis\": {\"showline\": false, \"visible\": true}}, \"name\": \"2011\"}, {\"data\": [{\"cliponaxis\": false, \"hoverinfo\": \"all\", \"hovertemplate\": \"<extra></extra>\", \"marker\": {\"color\": [\"rgb(121, 15, 103)\", \"rgb(179, 27, 76)\", \"rgb(91, 230, 76)\", \"rgb(193, 21, 123)\", \"rgb(54, 158, 213)\", \"rgb(179, 146, 21)\", \"rgb(225, 59, 87)\", \"rgb(33, 22, 89)\", \"rgb(236, 85, 80)\", \"rgb(119, 210, 159)\"]}, \"orientation\": \"h\", \"textangle\": 0, \"textposition\": \"outside\", \"texttemplate\": \"%{y}<br>%{x:.4s}\", \"x\": [256568919.0, 269637113.0, 272044780.0, 277683210.0, 361003266.0, 491310036.0, 673728907.0, 736596755.0, 875039160.0, 1831008220.0], \"y\": [\"Oil palm fruit\", \"Sugar beet\", \"Vegetables, fresh nes\", \"Cassava\", \"Potatoes\", \"Rice, paddy (rice milled equivalent)\", \"Wheat\", \"Rice, paddy\", \"Maize\", \"Sugar cane\"], \"type\": \"bar\"}], \"layout\": {\"bargap\": 0.15, \"font\": {\"size\": 14}, \"plot_bgcolor\": \"#FFFFFF\", \"xaxis\": {\"range\": [0, 1907024730.0], \"showline\": true, \"visible\": true}, \"yaxis\": {\"showline\": false, \"visible\": true}}, \"name\": \"2012\"}, {\"data\": [{\"cliponaxis\": false, \"hoverinfo\": \"all\", \"hovertemplate\": \"<extra></extra>\", \"marker\": {\"color\": [\"rgb(121, 15, 103)\", \"rgb(139, 147, 31)\", \"rgb(91, 230, 76)\", \"rgb(193, 21, 123)\", \"rgb(54, 158, 213)\", \"rgb(179, 146, 21)\", \"rgb(225, 59, 87)\", \"rgb(33, 22, 89)\", \"rgb(236, 85, 80)\", \"rgb(119, 210, 159)\"]}, \"orientation\": \"h\", \"textangle\": 0, \"textposition\": \"outside\", \"texttemplate\": \"%{y}<br>%{x:.4s}\", \"x\": [265060825.0, 277672608.0, 277982471.0, 278454322.0, 365087514.0, 495250794.0, 710397103.0, 742504938.0, 1016207182.0, 1901868866.0], \"y\": [\"Oil palm fruit\", \"Soybeans\", \"Vegetables, fresh nes\", \"Cassava\", \"Potatoes\", \"Rice, paddy (rice milled equivalent)\", \"Wheat\", \"Rice, paddy\", \"Maize\", \"Sugar cane\"], \"type\": \"bar\"}], \"layout\": {\"bargap\": 0.15, \"font\": {\"size\": 14}, \"plot_bgcolor\": \"#FFFFFF\", \"xaxis\": {\"range\": [0, 1907024730.0], \"showline\": true, \"visible\": true}, \"yaxis\": {\"showline\": false, \"visible\": true}}, \"name\": \"2013\"}, {\"data\": [{\"cliponaxis\": false, \"hoverinfo\": \"all\", \"hovertemplate\": \"<extra></extra>\", \"marker\": {\"color\": [\"rgb(91, 230, 76)\", \"rgb(121, 15, 103)\", \"rgb(193, 21, 123)\", \"rgb(139, 147, 31)\", \"rgb(54, 158, 213)\", \"rgb(179, 146, 21)\", \"rgb(225, 59, 87)\", \"rgb(33, 22, 89)\", \"rgb(236, 85, 80)\", \"rgb(119, 210, 159)\"]}, \"orientation\": \"h\", \"textangle\": 0, \"textposition\": \"outside\", \"texttemplate\": \"%{y}<br>%{x:.4s}\", \"x\": [285693443.0, 285916764.0, 290942989.0, 306348530.0, 369966532.0, 495216917.0, 728730126.0, 742454148.0, 1039226655.0, 1885955643.0], \"y\": [\"Vegetables, fresh nes\", \"Oil palm fruit\", \"Cassava\", \"Soybeans\", \"Potatoes\", \"Rice, paddy (rice milled equivalent)\", \"Wheat\", \"Rice, paddy\", \"Maize\", \"Sugar cane\"], \"type\": \"bar\"}], \"layout\": {\"bargap\": 0.15, \"font\": {\"size\": 14}, \"plot_bgcolor\": \"#FFFFFF\", \"xaxis\": {\"range\": [0, 1907024730.0], \"showline\": true, \"visible\": true}, \"yaxis\": {\"showline\": false, \"visible\": true}}, \"name\": \"2014\"}, {\"data\": [{\"cliponaxis\": false, \"hoverinfo\": \"all\", \"hovertemplate\": \"<extra></extra>\", \"marker\": {\"color\": [\"rgb(91, 230, 76)\", \"rgb(193, 21, 123)\", \"rgb(121, 15, 103)\", \"rgb(139, 147, 31)\", \"rgb(54, 158, 213)\", \"rgb(179, 146, 21)\", \"rgb(225, 59, 87)\", \"rgb(33, 22, 89)\", \"rgb(236, 85, 80)\", \"rgb(119, 210, 159)\"]}, \"orientation\": \"h\", \"textangle\": 0, \"textposition\": \"outside\", \"texttemplate\": \"%{y}<br>%{x:.4s}\", \"x\": [288931169.0, 293010305.0, 300284643.0, 323306702.0, 365748227.0, 497518927.0, 741643258.0, 745905437.0, 1052127378.0, 1875060932.0], \"y\": [\"Vegetables, fresh nes\", \"Cassava\", \"Oil palm fruit\", \"Soybeans\", \"Potatoes\", \"Rice, paddy (rice milled equivalent)\", \"Wheat\", \"Rice, paddy\", \"Maize\", \"Sugar cane\"], \"type\": \"bar\"}], \"layout\": {\"bargap\": 0.15, \"font\": {\"size\": 14}, \"plot_bgcolor\": \"#FFFFFF\", \"xaxis\": {\"range\": [0, 1907024730.0], \"showline\": true, \"visible\": true}, \"yaxis\": {\"showline\": false, \"visible\": true}}, \"name\": \"2015\"}, {\"data\": [{\"cliponaxis\": false, \"hoverinfo\": \"all\", \"hovertemplate\": \"<extra></extra>\", \"marker\": {\"color\": [\"rgb(179, 27, 76)\", \"rgb(193, 21, 123)\", \"rgb(91, 230, 76)\", \"rgb(139, 147, 31)\", \"rgb(54, 158, 213)\", \"rgb(179, 146, 21)\", \"rgb(225, 59, 87)\", \"rgb(33, 22, 89)\", \"rgb(236, 85, 80)\", \"rgb(119, 210, 159)\"]}, \"orientation\": \"h\", \"textangle\": 0, \"textposition\": \"outside\", \"texttemplate\": \"%{y}<br>%{x:.4s}\", \"x\": [278702349.0, 288497460.0, 292920885.0, 335613801.0, 356952488.0, 501507373.0, 748392150.0, 751885117.0, 1126990585.0, 1874611396.0], \"y\": [\"Sugar beet\", \"Cassava\", \"Vegetables, fresh nes\", \"Soybeans\", \"Potatoes\", \"Rice, paddy (rice milled equivalent)\", \"Wheat\", \"Rice, paddy\", \"Maize\", \"Sugar cane\"], \"type\": \"bar\"}], \"layout\": {\"bargap\": 0.15, \"font\": {\"size\": 14}, \"plot_bgcolor\": \"#FFFFFF\", \"xaxis\": {\"range\": [0, 1907024730.0], \"showline\": true, \"visible\": true}, \"yaxis\": {\"showline\": false, \"visible\": true}}, \"name\": \"2016\"}, {\"data\": [{\"cliponaxis\": false, \"hoverinfo\": \"all\", \"hovertemplate\": \"<extra></extra>\", \"marker\": {\"color\": [\"rgb(193, 21, 123)\", \"rgb(91, 230, 76)\", \"rgb(179, 27, 76)\", \"rgb(139, 147, 31)\", \"rgb(54, 158, 213)\", \"rgb(179, 146, 21)\", \"rgb(33, 22, 89)\", \"rgb(225, 59, 87)\", \"rgb(236, 85, 80)\", \"rgb(119, 210, 159)\"]}, \"orientation\": \"h\", \"textangle\": 0, \"textposition\": \"outside\", \"texttemplate\": \"%{y}<br>%{x:.4s}\", \"x\": [279304523.0, 294934038.0, 310374816.0, 353026796.0, 373774234.0, 513476024.0, 769829121.0, 773476524.0, 1164400832.0, 1851333716.0], \"y\": [\"Cassava\", \"Vegetables, fresh nes\", \"Sugar beet\", \"Soybeans\", \"Potatoes\", \"Rice, paddy (rice milled equivalent)\", \"Rice, paddy\", \"Wheat\", \"Maize\", \"Sugar cane\"], \"type\": \"bar\"}], \"layout\": {\"bargap\": 0.15, \"font\": {\"size\": 14}, \"plot_bgcolor\": \"#FFFFFF\", \"xaxis\": {\"range\": [0, 1907024730.0], \"showline\": true, \"visible\": true}, \"yaxis\": {\"showline\": false, \"visible\": true}}, \"name\": \"2017\"}, {\"data\": [{\"cliponaxis\": false, \"hoverinfo\": \"all\", \"hovertemplate\": \"<extra></extra>\", \"marker\": {\"color\": [\"rgb(179, 27, 76)\", \"rgb(193, 21, 123)\", \"rgb(91, 230, 76)\", \"rgb(139, 147, 31)\", \"rgb(54, 158, 213)\", \"rgb(179, 146, 21)\", \"rgb(225, 59, 87)\", \"rgb(33, 22, 89)\", \"rgb(236, 85, 80)\", \"rgb(119, 210, 159)\"]}, \"orientation\": \"h\", \"textangle\": 0, \"textposition\": \"outside\", \"texttemplate\": \"%{y}<br>%{x:.4s}\", \"x\": [274886306.0, 277808759.0, 297596674.0, 348712311.0, 368168914.0, 521594098.0, 734045174.0, 782000147.0, 1147621938.0, 1907024730.0], \"y\": [\"Sugar beet\", \"Cassava\", \"Vegetables, fresh nes\", \"Soybeans\", \"Potatoes\", \"Rice, paddy (rice milled equivalent)\", \"Wheat\", \"Rice, paddy\", \"Maize\", \"Sugar cane\"], \"type\": \"bar\"}], \"layout\": {\"bargap\": 0.15, \"font\": {\"size\": 14}, \"plot_bgcolor\": \"#FFFFFF\", \"xaxis\": {\"range\": [0, 1907024730.0], \"showline\": true, \"visible\": true}, \"yaxis\": {\"showline\": false, \"visible\": true}}, \"name\": \"2018\"}]);\n",
       "                        }).then(function(){\n",
       "                            \n",
       "var gd = document.getElementById('0f561d9b-12e4-4c27-8b88-cf05f06c2867');\n",
       "var x = new MutationObserver(function (mutations, observer) {{\n",
       "        var display = window.getComputedStyle(gd).display;\n",
       "        if (!display || display === 'none') {{\n",
       "            console.log([gd, 'removed!']);\n",
       "            Plotly.purge(gd);\n",
       "            observer.disconnect();\n",
       "        }}\n",
       "}});\n",
       "\n",
       "// Listen for the removal of the full notebook cells\n",
       "var notebookContainer = gd.closest('#notebook-container');\n",
       "if (notebookContainer) {{\n",
       "    x.observe(notebookContainer, {childList: true});\n",
       "}}\n",
       "\n",
       "// Listen for the clearing of the current output cell\n",
       "var outputEl = gd.closest('.output');\n",
       "if (outputEl) {{\n",
       "    x.observe(outputEl, {childList: true});\n",
       "}}\n",
       "\n",
       "                        })                };                });            </script>        </div>"
      ]
     },
     "metadata": {},
     "output_type": "display_data"
    }
   ],
   "source": [
    "data = pd.read_csv('https://raw.githubusercontent.com/lc5415/raceplotly/main/example/FAOSTAT_data.csv')\n",
    "\n",
    "my_raceplot = barplot(data,  item_column='Item', value_column='Value', time_column='Year')\n",
    "\n",
    "my_raceplot.plot(item_label = 'Top 10 crops',\n",
    "                 value_label = 'Production quantity (tonnes)',\n",
    "                 time_label = 'Year: ', ## overwrites default `Date: `\n",
    "                 frame_duration = 800)"
   ]
  }
 ],
 "metadata": {
  "kernelspec": {
   "display_name": "Python 3",
   "language": "python",
   "name": "python3"
  },
  "language_info": {
   "codemirror_mode": {
    "name": "ipython",
    "version": 3
   },
   "file_extension": ".py",
   "mimetype": "text/x-python",
   "name": "python",
   "nbconvert_exporter": "python",
   "pygments_lexer": "ipython3",
   "version": "3.8.5"
  }
 },
 "nbformat": 4,
 "nbformat_minor": 4
}
