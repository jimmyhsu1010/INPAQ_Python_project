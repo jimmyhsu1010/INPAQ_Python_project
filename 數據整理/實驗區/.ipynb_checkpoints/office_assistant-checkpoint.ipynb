{
 "cells": [
  {
   "cell_type": "code",
   "execution_count": 27,
   "metadata": {},
   "outputs": [],
   "source": [
    "import pandas as pd\n",
    "import tkinter as tk\n",
    "from tkinter import filedialog\n",
    "pd.set_option('display.max_columns', None)\n",
    "pd.set_option('display.float_format', lambda x: '%.2f' % x)\n",
    "from datetime import datetime\n",
    "import plotly.express as px\n",
    "import plotly.graph_objects as go"
   ]
  },
  {
   "cell_type": "code",
   "execution_count": 2,
   "metadata": {},
   "outputs": [],
   "source": [
    "_today = datetime.today().strftime('%Y-%m-%d')\n",
    "def to_report(pivot_table, plot, today=_today):\n",
    "    with open(_today + '_weekly_report_iris.html', 'w') as f:\n",
    "        f.write(pivot_table.to_html())\n",
    "        f.write(plot.to_html(full_html=False, include_plotlyjs='cdn'))\n",
    "        f.close()"
   ]
  },
  {
   "cell_type": "code",
   "execution_count": 3,
   "metadata": {},
   "outputs": [],
   "source": [
    "class WeeklyReport:\n",
    "    \n",
    "    _today = datetime.today().strftime('%Y-%m')\n",
    "    \n",
    "    _month_dict = {1: 'January', 2: 'February', 3: 'March', 4: 'April', \n",
    "             5: 'May', 6: 'June', 7: 'July', 8: 'August', \n",
    "             9: 'September', 10: 'October', 11: 'November', 12: 'December'}\n",
    "    \n",
    "    _month_list = list(_month_dict.values())\n",
    "    \n",
    "    def __init__(self):\n",
    "        path = self.file_path()\n",
    "        df = self.sheet_select(path)\n",
    "        self.df = df\n",
    "        \n",
    "    def file_path(self):\n",
    "        root = tk.Tk()\n",
    "        root.withdraw()\n",
    "        path = filedialog.askopenfilename()\n",
    "        return path\n",
    "\n",
    "    def sheet_select(self, path):\n",
    "        df = pd.read_excel(path, None)\n",
    "        sheet_dict = {}\n",
    "        for index, sheet in enumerate(df.keys()):\n",
    "            print(index + 1, sheet)\n",
    "            sheet_dict.setdefault(index + 1, sheet)\n",
    "        slct_sheet = eval(input('請輸入要開啟的sheet編號：\\n'))\n",
    "        df = df[sheet_dict[slct_sheet]]\n",
    "        return df\n",
    "    \n",
    "    def folder_path(self):\n",
    "        root = tk.Tk()\n",
    "        root.withdraw()\n",
    "        folder_name = filedialog.askdirectory()\n",
    "        return folder_name\n",
    "    \n",
    "    @property\n",
    "    def for_iris(self):\n",
    "        last_month = int(self._today.split('-')[-1]) - 1\n",
    "        this_month = int(self._today.split('-')[-1])\n",
    "        next_month = int(self._today.split('-')[-1]) + 1\n",
    "        df = self.df[(self.df['狀態'].str.contains('出')) & (self.df['BG'] == 'RF') & (self.df['預交年份'] == int(self._today.split('-')[0])) & \n",
    "                    (self.df['預交月份'].isin([self._month_dict[last_month], self._month_dict[this_month], self._month_dict[next_month]]))]\n",
    "        df['廠別'] = df['品名'].map(lambda x: 'BU2' if x.startswith('RFDP') else 'BU1')\n",
    "        df['Type'] = '實績'\n",
    "        df = df[df['廠別'] == 'BU1']\n",
    "        df = df.groupby(['負責業務', '預交月份'])[['本國幣別NTD']].sum().reset_index()\n",
    "        df['預交月份'] = pd.Categorical(df['預交月份'], ordered=True, categories=self._month_list)\n",
    "        \n",
    "        table = df.pivot_table(index='負責業務', values='本國幣別NTD', columns='預交月份', fill_value=0, aggfunc='sum', margins=True)\n",
    "        pd.options.display.float_format = '{:,.0f}'.format # 讓pivot table裡面可以使用千分位\n",
    "        return table\n",
    "    \n",
    "    @property\n",
    "    def iris_plot(self):\n",
    "        last_month = int(self._today.split('-')[-1]) - 1\n",
    "        this_month = int(self._today.split('-')[-1])\n",
    "        next_month = int(self._today.split('-')[-1]) + 1\n",
    "        df = self.df[(self.df['狀態'].str.contains('出')) & (self.df['BG'] == 'RF') & (self.df['預交年份'] == int(self._today.split('-')[0]))]\n",
    "        df['預交月份'] = pd.Categorical(df['預交月份'], ordered=True, categories=self._month_list)\n",
    "        df['廠別'] = df['品名'].map(lambda x: 'BU2' if x.startswith('RFDP') else 'BU1')\n",
    "        df = df[df['廠別'] == 'BU1']\n",
    "        plot = df.groupby(['預交月份'])[['本國幣別NTD']].sum().reset_index()\n",
    "        fig = px.histogram(plot, x='預交月份', y='本國幣別NTD', category_orders={'預交月份': self._month_list}, \n",
    "                          title='BU1 Amber team每月實績', labels=dict(本國幣別NTD='Revenue', 預交月份='Month'))\n",
    "        return fig\n",
    "        "
   ]
  },
  {
   "cell_type": "markdown",
   "metadata": {},
   "source": [
    "## 測試區域"
   ]
  },
  {
   "cell_type": "code",
   "execution_count": 9,
   "metadata": {
    "scrolled": false
   },
   "outputs": [
    {
     "name": "stdout",
     "output_type": "stream",
     "text": [
      "1 Dashboard\n",
      "2 元件天線客戶貢獻度\n",
      "3 各年份實績樞紐流動\n",
      "4 20192020實績折線圖\n",
      "5 2020累積實績固定\n",
      "6 固定實績樞紐\n",
      "7 2020預算固定表\n",
      "8 2020預算流動\n",
      "9 Amber週報用預算\n",
      "10 全年預算by person\n",
      "11 2020預算\n",
      "12 客戶 年份樞紐\n",
      "13 各類別圓餅圖\n",
      "14 業務實績排名\n",
      "15 各客戶成長率\n",
      "16 Weekly report\n",
      "17 週報更新用樞紐\n",
      "18 Amber週報用格式\n",
      "19 天線出貨量樞紐\n",
      "20 元件出貨量直條圖\n",
      "21 Allison客戶樞紐\n",
      "22 給二廠的Teltonika數據\n",
      "23 每月15號左右給Wiley的圖表\n",
      "24 固定天線當月實績\n",
      "25 LF ODM\n",
      "26 總實績表格for Amber\n",
      "27 出貨明細\n",
      "28 差異分析用樞紐\n",
      "29 2021業績總表 (2) Mohan+Kai Edited\n",
      "30 工作表3\n",
      "31 Wurth開會報告用\n",
      "32 分類命名表\n",
      "33 工作表1\n",
      "34 成長率byBG\n",
      "35 2021預算固定表\n",
      "36 2021預算流動\n",
      "37 華新科By BU分析\n",
      "38 20210126預算調整\n",
      "39 2021預算總表\n",
      "40 2021年實績預算達成率\n",
      "請輸入要開啟的sheet編號：\n",
      "27\n"
     ]
    }
   ],
   "source": [
    "df = WeeklyReport()"
   ]
  },
  {
   "cell_type": "code",
   "execution_count": 10,
   "metadata": {},
   "outputs": [],
   "source": [
    "revenue = df.df"
   ]
  },
  {
   "cell_type": "code",
   "execution_count": 11,
   "metadata": {},
   "outputs": [
    {
     "data": {
      "text/html": [
       "<div>\n",
       "<style scoped>\n",
       "    .dataframe tbody tr th:only-of-type {\n",
       "        vertical-align: middle;\n",
       "    }\n",
       "\n",
       "    .dataframe tbody tr th {\n",
       "        vertical-align: top;\n",
       "    }\n",
       "\n",
       "    .dataframe thead th {\n",
       "        text-align: right;\n",
       "    }\n",
       "</style>\n",
       "<table border=\"1\" class=\"dataframe\">\n",
       "  <thead>\n",
       "    <tr style=\"text-align: right;\">\n",
       "      <th></th>\n",
       "      <th>Category</th>\n",
       "      <th>BG</th>\n",
       "      <th>Subcategory</th>\n",
       "      <th>Group</th>\n",
       "      <th>狀態</th>\n",
       "      <th>銷售單號</th>\n",
       "      <th>銷售項次</th>\n",
       "      <th>月份</th>\n",
       "      <th>開單日期</th>\n",
       "      <th>預交日期</th>\n",
       "      <th>預交年份</th>\n",
       "      <th>預交月份</th>\n",
       "      <th>交期變更</th>\n",
       "      <th>客戶名稱</th>\n",
       "      <th>負責業務</th>\n",
       "      <th>交貨方式</th>\n",
       "      <th>產品分類</th>\n",
       "      <th>品名</th>\n",
       "      <th>幣別</th>\n",
       "      <th>數量</th>\n",
       "      <th>已出數量</th>\n",
       "      <th>未出數</th>\n",
       "      <th>單價</th>\n",
       "      <th>匯率</th>\n",
       "      <th>本國幣別NTD</th>\n",
       "      <th>客戶料號</th>\n",
       "      <th>客戶希交日</th>\n",
       "      <th>Term</th>\n",
       "      <th>出通單號</th>\n",
       "    </tr>\n",
       "  </thead>\n",
       "  <tbody>\n",
       "    <tr>\n",
       "      <th>0</th>\n",
       "      <td>MIP1</td>\n",
       "      <td>EMC</td>\n",
       "      <td>NaN</td>\n",
       "      <td>Bourns</td>\n",
       "      <td>01已出</td>\n",
       "      <td>AON19A0070</td>\n",
       "      <td>12</td>\n",
       "      <td>nan</td>\n",
       "      <td>2019-10-25</td>\n",
       "      <td>2020-01-02</td>\n",
       "      <td>2020</td>\n",
       "      <td>January</td>\n",
       "      <td>2019-11-19</td>\n",
       "      <td>Bourns</td>\n",
       "      <td>鄭里緗</td>\n",
       "      <td>EXPRESS</td>\n",
       "      <td>MIP1608-P series成品</td>\n",
       "      <td>MIP1608P1R0MBP</td>\n",
       "      <td>USD</td>\n",
       "      <td>4000</td>\n",
       "      <td>4000</td>\n",
       "      <td>0</td>\n",
       "      <td>0.02</td>\n",
       "      <td>28.81</td>\n",
       "      <td>2650.52</td>\n",
       "      <td>CVH160808-1R0M</td>\n",
       "      <td>2020-01-02</td>\n",
       "      <td>FCA</td>\n",
       "      <td>SIN2010012</td>\n",
       "    </tr>\n",
       "    <tr>\n",
       "      <th>1</th>\n",
       "      <td>MIP1</td>\n",
       "      <td>EMC</td>\n",
       "      <td>NaN</td>\n",
       "      <td>Bourns</td>\n",
       "      <td>01已出</td>\n",
       "      <td>AON19A0070</td>\n",
       "      <td>13</td>\n",
       "      <td>nan</td>\n",
       "      <td>2019-10-25</td>\n",
       "      <td>2020-01-02</td>\n",
       "      <td>2020</td>\n",
       "      <td>January</td>\n",
       "      <td>2019-11-19</td>\n",
       "      <td>Bourns</td>\n",
       "      <td>鄭里緗</td>\n",
       "      <td>EXPRESS</td>\n",
       "      <td>MIP1608-P series成品</td>\n",
       "      <td>MIP1608P2R2MBP</td>\n",
       "      <td>USD</td>\n",
       "      <td>4000</td>\n",
       "      <td>4000</td>\n",
       "      <td>0</td>\n",
       "      <td>0.02</td>\n",
       "      <td>28.81</td>\n",
       "      <td>2650.52</td>\n",
       "      <td>CVH160808-2R2M</td>\n",
       "      <td>2020-01-02</td>\n",
       "      <td>FCA</td>\n",
       "      <td>SIN2010012</td>\n",
       "    </tr>\n",
       "    <tr>\n",
       "      <th>2</th>\n",
       "      <td>MIP1</td>\n",
       "      <td>EMC</td>\n",
       "      <td>NaN</td>\n",
       "      <td>Bourns</td>\n",
       "      <td>01已出</td>\n",
       "      <td>AON19A0070</td>\n",
       "      <td>14</td>\n",
       "      <td>nan</td>\n",
       "      <td>2019-10-25</td>\n",
       "      <td>2020-01-02</td>\n",
       "      <td>2020</td>\n",
       "      <td>January</td>\n",
       "      <td>2019-11-19</td>\n",
       "      <td>Bourns</td>\n",
       "      <td>鄭里緗</td>\n",
       "      <td>EXPRESS</td>\n",
       "      <td>MIP1608-P series成品</td>\n",
       "      <td>MIP1608PR47MBP</td>\n",
       "      <td>USD</td>\n",
       "      <td>4000</td>\n",
       "      <td>4000</td>\n",
       "      <td>0</td>\n",
       "      <td>0.02</td>\n",
       "      <td>28.81</td>\n",
       "      <td>2650.52</td>\n",
       "      <td>CVH160808-R47M</td>\n",
       "      <td>2020-01-02</td>\n",
       "      <td>FCA</td>\n",
       "      <td>SIN2010012</td>\n",
       "    </tr>\n",
       "    <tr>\n",
       "      <th>3</th>\n",
       "      <td>WIP2</td>\n",
       "      <td>WIP</td>\n",
       "      <td>NaN</td>\n",
       "      <td>Bourns</td>\n",
       "      <td>01已出</td>\n",
       "      <td>AON19A0070</td>\n",
       "      <td>19</td>\n",
       "      <td>nan</td>\n",
       "      <td>2019-10-25</td>\n",
       "      <td>2020-01-02</td>\n",
       "      <td>2020</td>\n",
       "      <td>January</td>\n",
       "      <td>2019-11-19</td>\n",
       "      <td>Bourns</td>\n",
       "      <td>鄭里緗</td>\n",
       "      <td>EXPRESS</td>\n",
       "      <td>WIP2016 P-1 Series成品</td>\n",
       "      <td>WIP201610P-2R2ML</td>\n",
       "      <td>USD</td>\n",
       "      <td>33000</td>\n",
       "      <td>33000</td>\n",
       "      <td>0</td>\n",
       "      <td>0.03</td>\n",
       "      <td>28.81</td>\n",
       "      <td>26620.44</td>\n",
       "      <td>SRP2010-2R2M</td>\n",
       "      <td>2020-01-02</td>\n",
       "      <td>FCA</td>\n",
       "      <td>SIN2010014</td>\n",
       "    </tr>\n",
       "    <tr>\n",
       "      <th>4</th>\n",
       "      <td>WIP2</td>\n",
       "      <td>WIP</td>\n",
       "      <td>NaN</td>\n",
       "      <td>Bourns</td>\n",
       "      <td>01已出</td>\n",
       "      <td>AON19A0070</td>\n",
       "      <td>21</td>\n",
       "      <td>nan</td>\n",
       "      <td>2019-10-25</td>\n",
       "      <td>2020-01-02</td>\n",
       "      <td>2020</td>\n",
       "      <td>January</td>\n",
       "      <td>2019-11-19</td>\n",
       "      <td>Bourns</td>\n",
       "      <td>鄭里緗</td>\n",
       "      <td>EXPRESS</td>\n",
       "      <td>WIP2016 P-1 Series成品</td>\n",
       "      <td>WIP201610P-R33ML</td>\n",
       "      <td>USD</td>\n",
       "      <td>90000</td>\n",
       "      <td>90000</td>\n",
       "      <td>0</td>\n",
       "      <td>0.03</td>\n",
       "      <td>28.81</td>\n",
       "      <td>72601.20</td>\n",
       "      <td>SRP2010-R33M</td>\n",
       "      <td>2020-01-02</td>\n",
       "      <td>FCA</td>\n",
       "      <td>SIN2010014</td>\n",
       "    </tr>\n",
       "    <tr>\n",
       "      <th>...</th>\n",
       "      <td>...</td>\n",
       "      <td>...</td>\n",
       "      <td>...</td>\n",
       "      <td>...</td>\n",
       "      <td>...</td>\n",
       "      <td>...</td>\n",
       "      <td>...</td>\n",
       "      <td>...</td>\n",
       "      <td>...</td>\n",
       "      <td>...</td>\n",
       "      <td>...</td>\n",
       "      <td>...</td>\n",
       "      <td>...</td>\n",
       "      <td>...</td>\n",
       "      <td>...</td>\n",
       "      <td>...</td>\n",
       "      <td>...</td>\n",
       "      <td>...</td>\n",
       "      <td>...</td>\n",
       "      <td>...</td>\n",
       "      <td>...</td>\n",
       "      <td>...</td>\n",
       "      <td>...</td>\n",
       "      <td>...</td>\n",
       "      <td>...</td>\n",
       "      <td>...</td>\n",
       "      <td>...</td>\n",
       "      <td>...</td>\n",
       "      <td>...</td>\n",
       "    </tr>\n",
       "    <tr>\n",
       "      <th>9507</th>\n",
       "      <td>PPTC</td>\n",
       "      <td>ODM</td>\n",
       "      <td>NaN</td>\n",
       "      <td>LF OEM</td>\n",
       "      <td>03未出</td>\n",
       "      <td>WWCON-2101000356</td>\n",
       "      <td>2</td>\n",
       "      <td>1.00</td>\n",
       "      <td>2021-01-26</td>\n",
       "      <td>2021-03-19</td>\n",
       "      <td>2021</td>\n",
       "      <td>March</td>\n",
       "      <td>NaT</td>\n",
       "      <td>LF.瑞侃</td>\n",
       "      <td>鄭里緗</td>\n",
       "      <td>BY TRUCK</td>\n",
       "      <td>PPTC成品</td>\n",
       "      <td>PSR28473-D-壓合後-外觀</td>\n",
       "      <td>CNY</td>\n",
       "      <td>40</td>\n",
       "      <td>0</td>\n",
       "      <td>40</td>\n",
       "      <td>740.00</td>\n",
       "      <td>4.39</td>\n",
       "      <td>129864.08</td>\n",
       "      <td>RS3927-000</td>\n",
       "      <td>NaT</td>\n",
       "      <td>LOC1</td>\n",
       "      <td>NaN</td>\n",
       "    </tr>\n",
       "    <tr>\n",
       "      <th>9508</th>\n",
       "      <td>PPTC</td>\n",
       "      <td>ODM</td>\n",
       "      <td>NaN</td>\n",
       "      <td>LF OEM</td>\n",
       "      <td>03未出</td>\n",
       "      <td>WWCON-2101000370</td>\n",
       "      <td>1</td>\n",
       "      <td>1.00</td>\n",
       "      <td>2021-01-27</td>\n",
       "      <td>2021-03-19</td>\n",
       "      <td>2021</td>\n",
       "      <td>March</td>\n",
       "      <td>NaT</td>\n",
       "      <td>LF.瑞侃</td>\n",
       "      <td>鄭里緗</td>\n",
       "      <td>BY TRUCK</td>\n",
       "      <td>PPTC成品</td>\n",
       "      <td>PSR29330-C-8064壓合後-外觀</td>\n",
       "      <td>CNY</td>\n",
       "      <td>41</td>\n",
       "      <td>0</td>\n",
       "      <td>41</td>\n",
       "      <td>725.00</td>\n",
       "      <td>4.39</td>\n",
       "      <td>130412.49</td>\n",
       "      <td>RS4440-000</td>\n",
       "      <td>NaT</td>\n",
       "      <td>CIP</td>\n",
       "      <td>NaN</td>\n",
       "    </tr>\n",
       "    <tr>\n",
       "      <th>9509</th>\n",
       "      <td>PPTC</td>\n",
       "      <td>ODM</td>\n",
       "      <td>NaN</td>\n",
       "      <td>LF OEM</td>\n",
       "      <td>02未出</td>\n",
       "      <td>WWCON-2101000376</td>\n",
       "      <td>1</td>\n",
       "      <td>1.00</td>\n",
       "      <td>2021-01-28</td>\n",
       "      <td>2021-02-02</td>\n",
       "      <td>2021</td>\n",
       "      <td>February</td>\n",
       "      <td>2021-02-02</td>\n",
       "      <td>LF.瑞侃</td>\n",
       "      <td>鄭里緗</td>\n",
       "      <td>BY TRUCK</td>\n",
       "      <td>PPTC成品</td>\n",
       "      <td>RF4633-000 PSR29154-包</td>\n",
       "      <td>CNY</td>\n",
       "      <td>15000</td>\n",
       "      <td>0</td>\n",
       "      <td>15000</td>\n",
       "      <td>0.16</td>\n",
       "      <td>4.39</td>\n",
       "      <td>10529.52</td>\n",
       "      <td>RF4633-000</td>\n",
       "      <td>NaT</td>\n",
       "      <td>CIP</td>\n",
       "      <td>WWCIN-2102000038-1</td>\n",
       "    </tr>\n",
       "    <tr>\n",
       "      <th>9510</th>\n",
       "      <td>PPTC</td>\n",
       "      <td>ODM</td>\n",
       "      <td>NaN</td>\n",
       "      <td>LF OEM</td>\n",
       "      <td>02未出</td>\n",
       "      <td>WWCON-2101000376</td>\n",
       "      <td>2</td>\n",
       "      <td>1.00</td>\n",
       "      <td>2021-01-28</td>\n",
       "      <td>2021-02-02</td>\n",
       "      <td>2021</td>\n",
       "      <td>February</td>\n",
       "      <td>2021-02-02</td>\n",
       "      <td>LF.瑞侃</td>\n",
       "      <td>鄭里緗</td>\n",
       "      <td>BY TRUCK</td>\n",
       "      <td>PPTC成品</td>\n",
       "      <td>ZEN132V130A24LS-包裝</td>\n",
       "      <td>CNY</td>\n",
       "      <td>42000</td>\n",
       "      <td>0</td>\n",
       "      <td>42000</td>\n",
       "      <td>0.16</td>\n",
       "      <td>4.39</td>\n",
       "      <td>29482.66</td>\n",
       "      <td>RF1490-000</td>\n",
       "      <td>NaT</td>\n",
       "      <td>CIP</td>\n",
       "      <td>WWCIN-2102000038-2</td>\n",
       "    </tr>\n",
       "    <tr>\n",
       "      <th>9511</th>\n",
       "      <td>PPTC</td>\n",
       "      <td>ODM</td>\n",
       "      <td>NaN</td>\n",
       "      <td>LF OEM</td>\n",
       "      <td>02未出</td>\n",
       "      <td>WWCON-2101000376</td>\n",
       "      <td>3</td>\n",
       "      <td>1.00</td>\n",
       "      <td>2021-01-28</td>\n",
       "      <td>2021-02-02</td>\n",
       "      <td>2021</td>\n",
       "      <td>February</td>\n",
       "      <td>2021-02-02</td>\n",
       "      <td>LF.瑞侃</td>\n",
       "      <td>鄭里緗</td>\n",
       "      <td>BY TRUCK</td>\n",
       "      <td>PPTC成品</td>\n",
       "      <td>ZEN056V130A24LS-包�</td>\n",
       "      <td>CNY</td>\n",
       "      <td>27000</td>\n",
       "      <td>0</td>\n",
       "      <td>27000</td>\n",
       "      <td>0.16</td>\n",
       "      <td>4.39</td>\n",
       "      <td>18953.14</td>\n",
       "      <td>RF1489-000</td>\n",
       "      <td>NaT</td>\n",
       "      <td>CIP</td>\n",
       "      <td>WWCIN-2102000038-3</td>\n",
       "    </tr>\n",
       "  </tbody>\n",
       "</table>\n",
       "<p>9512 rows × 29 columns</p>\n",
       "</div>"
      ],
      "text/plain": [
       "     Category   BG Subcategory   Group    狀態              銷售單號  銷售項次   月份  \\\n",
       "0        MIP1  EMC         NaN  Bourns  01已出        AON19A0070    12  nan   \n",
       "1        MIP1  EMC         NaN  Bourns  01已出        AON19A0070    13  nan   \n",
       "2        MIP1  EMC         NaN  Bourns  01已出        AON19A0070    14  nan   \n",
       "3        WIP2  WIP         NaN  Bourns  01已出        AON19A0070    19  nan   \n",
       "4        WIP2  WIP         NaN  Bourns  01已出        AON19A0070    21  nan   \n",
       "...       ...  ...         ...     ...   ...               ...   ...  ...   \n",
       "9507     PPTC  ODM         NaN  LF OEM  03未出  WWCON-2101000356     2 1.00   \n",
       "9508     PPTC  ODM         NaN  LF OEM  03未出  WWCON-2101000370     1 1.00   \n",
       "9509     PPTC  ODM         NaN  LF OEM  02未出  WWCON-2101000376     1 1.00   \n",
       "9510     PPTC  ODM         NaN  LF OEM  02未出  WWCON-2101000376     2 1.00   \n",
       "9511     PPTC  ODM         NaN  LF OEM  02未出  WWCON-2101000376     3 1.00   \n",
       "\n",
       "           開單日期       預交日期  預交年份      預交月份       交期變更    客戶名稱 負責業務      交貨方式  \\\n",
       "0    2019-10-25 2020-01-02  2020   January 2019-11-19  Bourns  鄭里緗   EXPRESS   \n",
       "1    2019-10-25 2020-01-02  2020   January 2019-11-19  Bourns  鄭里緗   EXPRESS   \n",
       "2    2019-10-25 2020-01-02  2020   January 2019-11-19  Bourns  鄭里緗   EXPRESS   \n",
       "3    2019-10-25 2020-01-02  2020   January 2019-11-19  Bourns  鄭里緗   EXPRESS   \n",
       "4    2019-10-25 2020-01-02  2020   January 2019-11-19  Bourns  鄭里緗   EXPRESS   \n",
       "...         ...        ...   ...       ...        ...     ...  ...       ...   \n",
       "9507 2021-01-26 2021-03-19  2021     March        NaT   LF.瑞侃  鄭里緗  BY TRUCK   \n",
       "9508 2021-01-27 2021-03-19  2021     March        NaT   LF.瑞侃  鄭里緗  BY TRUCK   \n",
       "9509 2021-01-28 2021-02-02  2021  February 2021-02-02   LF.瑞侃  鄭里緗  BY TRUCK   \n",
       "9510 2021-01-28 2021-02-02  2021  February 2021-02-02   LF.瑞侃  鄭里緗  BY TRUCK   \n",
       "9511 2021-01-28 2021-02-02  2021  February 2021-02-02   LF.瑞侃  鄭里緗  BY TRUCK   \n",
       "\n",
       "                      產品分類                     品名   幣別     數量   已出數量    未出數  \\\n",
       "0       MIP1608-P series成品         MIP1608P1R0MBP  USD   4000   4000      0   \n",
       "1       MIP1608-P series成品         MIP1608P2R2MBP  USD   4000   4000      0   \n",
       "2       MIP1608-P series成品         MIP1608PR47MBP  USD   4000   4000      0   \n",
       "3     WIP2016 P-1 Series成品       WIP201610P-2R2ML  USD  33000  33000      0   \n",
       "4     WIP2016 P-1 Series成品       WIP201610P-R33ML  USD  90000  90000      0   \n",
       "...                    ...                    ...  ...    ...    ...    ...   \n",
       "9507                PPTC成品      PSR28473-D-壓合後-外觀  CNY     40      0     40   \n",
       "9508                PPTC成品  PSR29330-C-8064壓合後-外觀  CNY     41      0     41   \n",
       "9509                PPTC成品  RF4633-000 PSR29154-包  CNY  15000      0  15000   \n",
       "9510                PPTC成品     ZEN132V130A24LS-包裝  CNY  42000      0  42000   \n",
       "9511                PPTC成品     ZEN056V130A24LS-包�  CNY  27000      0  27000   \n",
       "\n",
       "         單價    匯率   本國幣別NTD            客戶料號      客戶希交日  Term  \\\n",
       "0      0.02 28.81   2650.52  CVH160808-1R0M 2020-01-02   FCA   \n",
       "1      0.02 28.81   2650.52  CVH160808-2R2M 2020-01-02   FCA   \n",
       "2      0.02 28.81   2650.52  CVH160808-R47M 2020-01-02   FCA   \n",
       "3      0.03 28.81  26620.44    SRP2010-2R2M 2020-01-02   FCA   \n",
       "4      0.03 28.81  72601.20    SRP2010-R33M 2020-01-02   FCA   \n",
       "...     ...   ...       ...             ...        ...   ...   \n",
       "9507 740.00  4.39 129864.08      RS3927-000        NaT  LOC1   \n",
       "9508 725.00  4.39 130412.49      RS4440-000        NaT   CIP   \n",
       "9509   0.16  4.39  10529.52      RF4633-000        NaT   CIP   \n",
       "9510   0.16  4.39  29482.66      RF1490-000        NaT   CIP   \n",
       "9511   0.16  4.39  18953.14      RF1489-000        NaT   CIP   \n",
       "\n",
       "                    出通單號  \n",
       "0             SIN2010012  \n",
       "1             SIN2010012  \n",
       "2             SIN2010012  \n",
       "3             SIN2010014  \n",
       "4             SIN2010014  \n",
       "...                  ...  \n",
       "9507                 NaN  \n",
       "9508                 NaN  \n",
       "9509  WWCIN-2102000038-1  \n",
       "9510  WWCIN-2102000038-2  \n",
       "9511  WWCIN-2102000038-3  \n",
       "\n",
       "[9512 rows x 29 columns]"
      ]
     },
     "execution_count": 11,
     "metadata": {},
     "output_type": "execute_result"
    }
   ],
   "source": [
    "revenue"
   ]
  },
  {
   "cell_type": "code",
   "execution_count": 14,
   "metadata": {},
   "outputs": [
    {
     "data": {
      "text/plain": [
       "Index(['負責業務', 'BG', 'Group', '預交年份', '預交月份', '數量', '本國幣別NTD', '品名', '類型',\n",
       "       'Unnamed: 9', 'Unnamed: 10', 'Unnamed: 11'],\n",
       "      dtype='object')"
      ]
     },
     "execution_count": 14,
     "metadata": {},
     "output_type": "execute_result"
    }
   ],
   "source": [
    "budget.columns"
   ]
  },
  {
   "cell_type": "code",
   "execution_count": 40,
   "metadata": {},
   "outputs": [],
   "source": [
    "budget = budget[(budget['預交年份'] == 2021) & (budget['BG'] == 'RF')][['負責業務', 'BG', 'Group', '預交年份', '預交月份', '數量', '本國幣別NTD', '品名', '類型']]"
   ]
  },
  {
   "cell_type": "code",
   "execution_count": 41,
   "metadata": {},
   "outputs": [],
   "source": [
    "total_budget = budget['本國幣別NTD'].sum()"
   ]
  },
  {
   "cell_type": "code",
   "execution_count": 42,
   "metadata": {},
   "outputs": [
    {
     "data": {
      "text/plain": [
       "104441975"
      ]
     },
     "execution_count": 42,
     "metadata": {},
     "output_type": "execute_result"
    }
   ],
   "source": [
    "total_budget"
   ]
  },
  {
   "cell_type": "code",
   "execution_count": 43,
   "metadata": {},
   "outputs": [],
   "source": [
    "current_rev = revenue[(revenue['狀態'].str.contains('已出')) & (revenue['預交年份'] == 2021) & (revenue['BG'] == 'RF')]['本國幣別NTD'].sum()"
   ]
  },
  {
   "cell_type": "code",
   "execution_count": 44,
   "metadata": {},
   "outputs": [
    {
     "data": {
      "application/vnd.plotly.v1+json": {
       "config": {
        "plotlyServerURL": "https://plot.ly"
       },
       "data": [
        {
         "delta": {
          "reference": 104441975
         },
         "domain": {
          "x": [
           0,
           1
          ],
          "y": [
           0,
           1
          ]
         },
         "gauge": {
          "axis": {
           "range": [
            null,
            104441975
           ]
          },
          "shape": "bullet"
         },
         "mode": "number+gauge+delta",
         "title": {
          "text": "實績/預算"
         },
         "type": "indicator",
         "value": 42446550.6381
        }
       ],
       "layout": {
        "height": 250,
        "template": {
         "data": {
          "bar": [
           {
            "error_x": {
             "color": "#2a3f5f"
            },
            "error_y": {
             "color": "#2a3f5f"
            },
            "marker": {
             "line": {
              "color": "#E5ECF6",
              "width": 0.5
             }
            },
            "type": "bar"
           }
          ],
          "barpolar": [
           {
            "marker": {
             "line": {
              "color": "#E5ECF6",
              "width": 0.5
             }
            },
            "type": "barpolar"
           }
          ],
          "carpet": [
           {
            "aaxis": {
             "endlinecolor": "#2a3f5f",
             "gridcolor": "white",
             "linecolor": "white",
             "minorgridcolor": "white",
             "startlinecolor": "#2a3f5f"
            },
            "baxis": {
             "endlinecolor": "#2a3f5f",
             "gridcolor": "white",
             "linecolor": "white",
             "minorgridcolor": "white",
             "startlinecolor": "#2a3f5f"
            },
            "type": "carpet"
           }
          ],
          "choropleth": [
           {
            "colorbar": {
             "outlinewidth": 0,
             "ticks": ""
            },
            "type": "choropleth"
           }
          ],
          "contour": [
           {
            "colorbar": {
             "outlinewidth": 0,
             "ticks": ""
            },
            "colorscale": [
             [
              0,
              "#0d0887"
             ],
             [
              0.1111111111111111,
              "#46039f"
             ],
             [
              0.2222222222222222,
              "#7201a8"
             ],
             [
              0.3333333333333333,
              "#9c179e"
             ],
             [
              0.4444444444444444,
              "#bd3786"
             ],
             [
              0.5555555555555556,
              "#d8576b"
             ],
             [
              0.6666666666666666,
              "#ed7953"
             ],
             [
              0.7777777777777778,
              "#fb9f3a"
             ],
             [
              0.8888888888888888,
              "#fdca26"
             ],
             [
              1,
              "#f0f921"
             ]
            ],
            "type": "contour"
           }
          ],
          "contourcarpet": [
           {
            "colorbar": {
             "outlinewidth": 0,
             "ticks": ""
            },
            "type": "contourcarpet"
           }
          ],
          "heatmap": [
           {
            "colorbar": {
             "outlinewidth": 0,
             "ticks": ""
            },
            "colorscale": [
             [
              0,
              "#0d0887"
             ],
             [
              0.1111111111111111,
              "#46039f"
             ],
             [
              0.2222222222222222,
              "#7201a8"
             ],
             [
              0.3333333333333333,
              "#9c179e"
             ],
             [
              0.4444444444444444,
              "#bd3786"
             ],
             [
              0.5555555555555556,
              "#d8576b"
             ],
             [
              0.6666666666666666,
              "#ed7953"
             ],
             [
              0.7777777777777778,
              "#fb9f3a"
             ],
             [
              0.8888888888888888,
              "#fdca26"
             ],
             [
              1,
              "#f0f921"
             ]
            ],
            "type": "heatmap"
           }
          ],
          "heatmapgl": [
           {
            "colorbar": {
             "outlinewidth": 0,
             "ticks": ""
            },
            "colorscale": [
             [
              0,
              "#0d0887"
             ],
             [
              0.1111111111111111,
              "#46039f"
             ],
             [
              0.2222222222222222,
              "#7201a8"
             ],
             [
              0.3333333333333333,
              "#9c179e"
             ],
             [
              0.4444444444444444,
              "#bd3786"
             ],
             [
              0.5555555555555556,
              "#d8576b"
             ],
             [
              0.6666666666666666,
              "#ed7953"
             ],
             [
              0.7777777777777778,
              "#fb9f3a"
             ],
             [
              0.8888888888888888,
              "#fdca26"
             ],
             [
              1,
              "#f0f921"
             ]
            ],
            "type": "heatmapgl"
           }
          ],
          "histogram": [
           {
            "marker": {
             "colorbar": {
              "outlinewidth": 0,
              "ticks": ""
             }
            },
            "type": "histogram"
           }
          ],
          "histogram2d": [
           {
            "colorbar": {
             "outlinewidth": 0,
             "ticks": ""
            },
            "colorscale": [
             [
              0,
              "#0d0887"
             ],
             [
              0.1111111111111111,
              "#46039f"
             ],
             [
              0.2222222222222222,
              "#7201a8"
             ],
             [
              0.3333333333333333,
              "#9c179e"
             ],
             [
              0.4444444444444444,
              "#bd3786"
             ],
             [
              0.5555555555555556,
              "#d8576b"
             ],
             [
              0.6666666666666666,
              "#ed7953"
             ],
             [
              0.7777777777777778,
              "#fb9f3a"
             ],
             [
              0.8888888888888888,
              "#fdca26"
             ],
             [
              1,
              "#f0f921"
             ]
            ],
            "type": "histogram2d"
           }
          ],
          "histogram2dcontour": [
           {
            "colorbar": {
             "outlinewidth": 0,
             "ticks": ""
            },
            "colorscale": [
             [
              0,
              "#0d0887"
             ],
             [
              0.1111111111111111,
              "#46039f"
             ],
             [
              0.2222222222222222,
              "#7201a8"
             ],
             [
              0.3333333333333333,
              "#9c179e"
             ],
             [
              0.4444444444444444,
              "#bd3786"
             ],
             [
              0.5555555555555556,
              "#d8576b"
             ],
             [
              0.6666666666666666,
              "#ed7953"
             ],
             [
              0.7777777777777778,
              "#fb9f3a"
             ],
             [
              0.8888888888888888,
              "#fdca26"
             ],
             [
              1,
              "#f0f921"
             ]
            ],
            "type": "histogram2dcontour"
           }
          ],
          "mesh3d": [
           {
            "colorbar": {
             "outlinewidth": 0,
             "ticks": ""
            },
            "type": "mesh3d"
           }
          ],
          "parcoords": [
           {
            "line": {
             "colorbar": {
              "outlinewidth": 0,
              "ticks": ""
             }
            },
            "type": "parcoords"
           }
          ],
          "pie": [
           {
            "automargin": true,
            "type": "pie"
           }
          ],
          "scatter": [
           {
            "marker": {
             "colorbar": {
              "outlinewidth": 0,
              "ticks": ""
             }
            },
            "type": "scatter"
           }
          ],
          "scatter3d": [
           {
            "line": {
             "colorbar": {
              "outlinewidth": 0,
              "ticks": ""
             }
            },
            "marker": {
             "colorbar": {
              "outlinewidth": 0,
              "ticks": ""
             }
            },
            "type": "scatter3d"
           }
          ],
          "scattercarpet": [
           {
            "marker": {
             "colorbar": {
              "outlinewidth": 0,
              "ticks": ""
             }
            },
            "type": "scattercarpet"
           }
          ],
          "scattergeo": [
           {
            "marker": {
             "colorbar": {
              "outlinewidth": 0,
              "ticks": ""
             }
            },
            "type": "scattergeo"
           }
          ],
          "scattergl": [
           {
            "marker": {
             "colorbar": {
              "outlinewidth": 0,
              "ticks": ""
             }
            },
            "type": "scattergl"
           }
          ],
          "scattermapbox": [
           {
            "marker": {
             "colorbar": {
              "outlinewidth": 0,
              "ticks": ""
             }
            },
            "type": "scattermapbox"
           }
          ],
          "scatterpolar": [
           {
            "marker": {
             "colorbar": {
              "outlinewidth": 0,
              "ticks": ""
             }
            },
            "type": "scatterpolar"
           }
          ],
          "scatterpolargl": [
           {
            "marker": {
             "colorbar": {
              "outlinewidth": 0,
              "ticks": ""
             }
            },
            "type": "scatterpolargl"
           }
          ],
          "scatterternary": [
           {
            "marker": {
             "colorbar": {
              "outlinewidth": 0,
              "ticks": ""
             }
            },
            "type": "scatterternary"
           }
          ],
          "surface": [
           {
            "colorbar": {
             "outlinewidth": 0,
             "ticks": ""
            },
            "colorscale": [
             [
              0,
              "#0d0887"
             ],
             [
              0.1111111111111111,
              "#46039f"
             ],
             [
              0.2222222222222222,
              "#7201a8"
             ],
             [
              0.3333333333333333,
              "#9c179e"
             ],
             [
              0.4444444444444444,
              "#bd3786"
             ],
             [
              0.5555555555555556,
              "#d8576b"
             ],
             [
              0.6666666666666666,
              "#ed7953"
             ],
             [
              0.7777777777777778,
              "#fb9f3a"
             ],
             [
              0.8888888888888888,
              "#fdca26"
             ],
             [
              1,
              "#f0f921"
             ]
            ],
            "type": "surface"
           }
          ],
          "table": [
           {
            "cells": {
             "fill": {
              "color": "#EBF0F8"
             },
             "line": {
              "color": "white"
             }
            },
            "header": {
             "fill": {
              "color": "#C8D4E3"
             },
             "line": {
              "color": "white"
             }
            },
            "type": "table"
           }
          ]
         },
         "layout": {
          "annotationdefaults": {
           "arrowcolor": "#2a3f5f",
           "arrowhead": 0,
           "arrowwidth": 1
          },
          "coloraxis": {
           "colorbar": {
            "outlinewidth": 0,
            "ticks": ""
           }
          },
          "colorscale": {
           "diverging": [
            [
             0,
             "#8e0152"
            ],
            [
             0.1,
             "#c51b7d"
            ],
            [
             0.2,
             "#de77ae"
            ],
            [
             0.3,
             "#f1b6da"
            ],
            [
             0.4,
             "#fde0ef"
            ],
            [
             0.5,
             "#f7f7f7"
            ],
            [
             0.6,
             "#e6f5d0"
            ],
            [
             0.7,
             "#b8e186"
            ],
            [
             0.8,
             "#7fbc41"
            ],
            [
             0.9,
             "#4d9221"
            ],
            [
             1,
             "#276419"
            ]
           ],
           "sequential": [
            [
             0,
             "#0d0887"
            ],
            [
             0.1111111111111111,
             "#46039f"
            ],
            [
             0.2222222222222222,
             "#7201a8"
            ],
            [
             0.3333333333333333,
             "#9c179e"
            ],
            [
             0.4444444444444444,
             "#bd3786"
            ],
            [
             0.5555555555555556,
             "#d8576b"
            ],
            [
             0.6666666666666666,
             "#ed7953"
            ],
            [
             0.7777777777777778,
             "#fb9f3a"
            ],
            [
             0.8888888888888888,
             "#fdca26"
            ],
            [
             1,
             "#f0f921"
            ]
           ],
           "sequentialminus": [
            [
             0,
             "#0d0887"
            ],
            [
             0.1111111111111111,
             "#46039f"
            ],
            [
             0.2222222222222222,
             "#7201a8"
            ],
            [
             0.3333333333333333,
             "#9c179e"
            ],
            [
             0.4444444444444444,
             "#bd3786"
            ],
            [
             0.5555555555555556,
             "#d8576b"
            ],
            [
             0.6666666666666666,
             "#ed7953"
            ],
            [
             0.7777777777777778,
             "#fb9f3a"
            ],
            [
             0.8888888888888888,
             "#fdca26"
            ],
            [
             1,
             "#f0f921"
            ]
           ]
          },
          "colorway": [
           "#636efa",
           "#EF553B",
           "#00cc96",
           "#ab63fa",
           "#FFA15A",
           "#19d3f3",
           "#FF6692",
           "#B6E880",
           "#FF97FF",
           "#FECB52"
          ],
          "font": {
           "color": "#2a3f5f"
          },
          "geo": {
           "bgcolor": "white",
           "lakecolor": "white",
           "landcolor": "#E5ECF6",
           "showlakes": true,
           "showland": true,
           "subunitcolor": "white"
          },
          "hoverlabel": {
           "align": "left"
          },
          "hovermode": "closest",
          "mapbox": {
           "style": "light"
          },
          "paper_bgcolor": "white",
          "plot_bgcolor": "#E5ECF6",
          "polar": {
           "angularaxis": {
            "gridcolor": "white",
            "linecolor": "white",
            "ticks": ""
           },
           "bgcolor": "#E5ECF6",
           "radialaxis": {
            "gridcolor": "white",
            "linecolor": "white",
            "ticks": ""
           }
          },
          "scene": {
           "xaxis": {
            "backgroundcolor": "#E5ECF6",
            "gridcolor": "white",
            "gridwidth": 2,
            "linecolor": "white",
            "showbackground": true,
            "ticks": "",
            "zerolinecolor": "white"
           },
           "yaxis": {
            "backgroundcolor": "#E5ECF6",
            "gridcolor": "white",
            "gridwidth": 2,
            "linecolor": "white",
            "showbackground": true,
            "ticks": "",
            "zerolinecolor": "white"
           },
           "zaxis": {
            "backgroundcolor": "#E5ECF6",
            "gridcolor": "white",
            "gridwidth": 2,
            "linecolor": "white",
            "showbackground": true,
            "ticks": "",
            "zerolinecolor": "white"
           }
          },
          "shapedefaults": {
           "line": {
            "color": "#2a3f5f"
           }
          },
          "ternary": {
           "aaxis": {
            "gridcolor": "white",
            "linecolor": "white",
            "ticks": ""
           },
           "baxis": {
            "gridcolor": "white",
            "linecolor": "white",
            "ticks": ""
           },
           "bgcolor": "#E5ECF6",
           "caxis": {
            "gridcolor": "white",
            "linecolor": "white",
            "ticks": ""
           }
          },
          "title": {
           "x": 0.05
          },
          "xaxis": {
           "automargin": true,
           "gridcolor": "white",
           "linecolor": "white",
           "ticks": "",
           "title": {
            "standoff": 15
           },
           "zerolinecolor": "white",
           "zerolinewidth": 2
          },
          "yaxis": {
           "automargin": true,
           "gridcolor": "white",
           "linecolor": "white",
           "ticks": "",
           "title": {
            "standoff": 15
           },
           "zerolinecolor": "white",
           "zerolinewidth": 2
          }
         }
        }
       }
      },
      "text/html": [
       "<div>                            <div id=\"e1a4fb2a-2bb7-4129-a8cf-cc6cc2dd72f9\" class=\"plotly-graph-div\" style=\"height:250px; width:100%;\"></div>            <script type=\"text/javascript\">                require([\"plotly\"], function(Plotly) {                    window.PLOTLYENV=window.PLOTLYENV || {};                                    if (document.getElementById(\"e1a4fb2a-2bb7-4129-a8cf-cc6cc2dd72f9\")) {                    Plotly.newPlot(                        \"e1a4fb2a-2bb7-4129-a8cf-cc6cc2dd72f9\",                        [{\"delta\": {\"reference\": 104441975}, \"domain\": {\"x\": [0, 1], \"y\": [0, 1]}, \"gauge\": {\"axis\": {\"range\": [null, 104441975]}, \"shape\": \"bullet\"}, \"mode\": \"number+gauge+delta\", \"title\": {\"text\": \"\\u5be6\\u7e3e/\\u9810\\u7b97\"}, \"type\": \"indicator\", \"value\": 42446550.6381}],                        {\"height\": 250, \"template\": {\"data\": {\"bar\": [{\"error_x\": {\"color\": \"#2a3f5f\"}, \"error_y\": {\"color\": \"#2a3f5f\"}, \"marker\": {\"line\": {\"color\": \"#E5ECF6\", \"width\": 0.5}}, \"type\": \"bar\"}], \"barpolar\": [{\"marker\": {\"line\": {\"color\": \"#E5ECF6\", \"width\": 0.5}}, \"type\": \"barpolar\"}], \"carpet\": [{\"aaxis\": {\"endlinecolor\": \"#2a3f5f\", \"gridcolor\": \"white\", \"linecolor\": \"white\", \"minorgridcolor\": \"white\", \"startlinecolor\": \"#2a3f5f\"}, \"baxis\": {\"endlinecolor\": \"#2a3f5f\", \"gridcolor\": \"white\", \"linecolor\": \"white\", \"minorgridcolor\": \"white\", \"startlinecolor\": \"#2a3f5f\"}, \"type\": \"carpet\"}], \"choropleth\": [{\"colorbar\": {\"outlinewidth\": 0, \"ticks\": \"\"}, \"type\": \"choropleth\"}], \"contour\": [{\"colorbar\": {\"outlinewidth\": 0, \"ticks\": \"\"}, \"colorscale\": [[0.0, \"#0d0887\"], [0.1111111111111111, \"#46039f\"], [0.2222222222222222, \"#7201a8\"], [0.3333333333333333, \"#9c179e\"], [0.4444444444444444, \"#bd3786\"], [0.5555555555555556, \"#d8576b\"], [0.6666666666666666, \"#ed7953\"], [0.7777777777777778, \"#fb9f3a\"], [0.8888888888888888, \"#fdca26\"], [1.0, \"#f0f921\"]], \"type\": \"contour\"}], \"contourcarpet\": [{\"colorbar\": {\"outlinewidth\": 0, \"ticks\": \"\"}, \"type\": \"contourcarpet\"}], \"heatmap\": [{\"colorbar\": {\"outlinewidth\": 0, \"ticks\": \"\"}, \"colorscale\": [[0.0, \"#0d0887\"], [0.1111111111111111, \"#46039f\"], [0.2222222222222222, \"#7201a8\"], [0.3333333333333333, \"#9c179e\"], [0.4444444444444444, \"#bd3786\"], [0.5555555555555556, \"#d8576b\"], [0.6666666666666666, \"#ed7953\"], [0.7777777777777778, \"#fb9f3a\"], [0.8888888888888888, \"#fdca26\"], [1.0, \"#f0f921\"]], \"type\": \"heatmap\"}], \"heatmapgl\": [{\"colorbar\": {\"outlinewidth\": 0, \"ticks\": \"\"}, \"colorscale\": [[0.0, \"#0d0887\"], [0.1111111111111111, \"#46039f\"], [0.2222222222222222, \"#7201a8\"], [0.3333333333333333, \"#9c179e\"], [0.4444444444444444, \"#bd3786\"], [0.5555555555555556, \"#d8576b\"], [0.6666666666666666, \"#ed7953\"], [0.7777777777777778, \"#fb9f3a\"], [0.8888888888888888, \"#fdca26\"], [1.0, \"#f0f921\"]], \"type\": \"heatmapgl\"}], \"histogram\": [{\"marker\": {\"colorbar\": {\"outlinewidth\": 0, \"ticks\": \"\"}}, \"type\": \"histogram\"}], \"histogram2d\": [{\"colorbar\": {\"outlinewidth\": 0, \"ticks\": \"\"}, \"colorscale\": [[0.0, \"#0d0887\"], [0.1111111111111111, \"#46039f\"], [0.2222222222222222, \"#7201a8\"], [0.3333333333333333, \"#9c179e\"], [0.4444444444444444, \"#bd3786\"], [0.5555555555555556, \"#d8576b\"], [0.6666666666666666, \"#ed7953\"], [0.7777777777777778, \"#fb9f3a\"], [0.8888888888888888, \"#fdca26\"], [1.0, \"#f0f921\"]], \"type\": \"histogram2d\"}], \"histogram2dcontour\": [{\"colorbar\": {\"outlinewidth\": 0, \"ticks\": \"\"}, \"colorscale\": [[0.0, \"#0d0887\"], [0.1111111111111111, \"#46039f\"], [0.2222222222222222, \"#7201a8\"], [0.3333333333333333, \"#9c179e\"], [0.4444444444444444, \"#bd3786\"], [0.5555555555555556, \"#d8576b\"], [0.6666666666666666, \"#ed7953\"], [0.7777777777777778, \"#fb9f3a\"], [0.8888888888888888, \"#fdca26\"], [1.0, \"#f0f921\"]], \"type\": \"histogram2dcontour\"}], \"mesh3d\": [{\"colorbar\": {\"outlinewidth\": 0, \"ticks\": \"\"}, \"type\": \"mesh3d\"}], \"parcoords\": [{\"line\": {\"colorbar\": {\"outlinewidth\": 0, \"ticks\": \"\"}}, \"type\": \"parcoords\"}], \"pie\": [{\"automargin\": true, \"type\": \"pie\"}], \"scatter\": [{\"marker\": {\"colorbar\": {\"outlinewidth\": 0, \"ticks\": \"\"}}, \"type\": \"scatter\"}], \"scatter3d\": [{\"line\": {\"colorbar\": {\"outlinewidth\": 0, \"ticks\": \"\"}}, \"marker\": {\"colorbar\": {\"outlinewidth\": 0, \"ticks\": \"\"}}, \"type\": \"scatter3d\"}], \"scattercarpet\": [{\"marker\": {\"colorbar\": {\"outlinewidth\": 0, \"ticks\": \"\"}}, \"type\": \"scattercarpet\"}], \"scattergeo\": [{\"marker\": {\"colorbar\": {\"outlinewidth\": 0, \"ticks\": \"\"}}, \"type\": \"scattergeo\"}], \"scattergl\": [{\"marker\": {\"colorbar\": {\"outlinewidth\": 0, \"ticks\": \"\"}}, \"type\": \"scattergl\"}], \"scattermapbox\": [{\"marker\": {\"colorbar\": {\"outlinewidth\": 0, \"ticks\": \"\"}}, \"type\": \"scattermapbox\"}], \"scatterpolar\": [{\"marker\": {\"colorbar\": {\"outlinewidth\": 0, \"ticks\": \"\"}}, \"type\": \"scatterpolar\"}], \"scatterpolargl\": [{\"marker\": {\"colorbar\": {\"outlinewidth\": 0, \"ticks\": \"\"}}, \"type\": \"scatterpolargl\"}], \"scatterternary\": [{\"marker\": {\"colorbar\": {\"outlinewidth\": 0, \"ticks\": \"\"}}, \"type\": \"scatterternary\"}], \"surface\": [{\"colorbar\": {\"outlinewidth\": 0, \"ticks\": \"\"}, \"colorscale\": [[0.0, \"#0d0887\"], [0.1111111111111111, \"#46039f\"], [0.2222222222222222, \"#7201a8\"], [0.3333333333333333, \"#9c179e\"], [0.4444444444444444, \"#bd3786\"], [0.5555555555555556, \"#d8576b\"], [0.6666666666666666, \"#ed7953\"], [0.7777777777777778, \"#fb9f3a\"], [0.8888888888888888, \"#fdca26\"], [1.0, \"#f0f921\"]], \"type\": \"surface\"}], \"table\": [{\"cells\": {\"fill\": {\"color\": \"#EBF0F8\"}, \"line\": {\"color\": \"white\"}}, \"header\": {\"fill\": {\"color\": \"#C8D4E3\"}, \"line\": {\"color\": \"white\"}}, \"type\": \"table\"}]}, \"layout\": {\"annotationdefaults\": {\"arrowcolor\": \"#2a3f5f\", \"arrowhead\": 0, \"arrowwidth\": 1}, \"coloraxis\": {\"colorbar\": {\"outlinewidth\": 0, \"ticks\": \"\"}}, \"colorscale\": {\"diverging\": [[0, \"#8e0152\"], [0.1, \"#c51b7d\"], [0.2, \"#de77ae\"], [0.3, \"#f1b6da\"], [0.4, \"#fde0ef\"], [0.5, \"#f7f7f7\"], [0.6, \"#e6f5d0\"], [0.7, \"#b8e186\"], [0.8, \"#7fbc41\"], [0.9, \"#4d9221\"], [1, \"#276419\"]], \"sequential\": [[0.0, \"#0d0887\"], [0.1111111111111111, \"#46039f\"], [0.2222222222222222, \"#7201a8\"], [0.3333333333333333, \"#9c179e\"], [0.4444444444444444, \"#bd3786\"], [0.5555555555555556, \"#d8576b\"], [0.6666666666666666, \"#ed7953\"], [0.7777777777777778, \"#fb9f3a\"], [0.8888888888888888, \"#fdca26\"], [1.0, \"#f0f921\"]], \"sequentialminus\": [[0.0, \"#0d0887\"], [0.1111111111111111, \"#46039f\"], [0.2222222222222222, \"#7201a8\"], [0.3333333333333333, \"#9c179e\"], [0.4444444444444444, \"#bd3786\"], [0.5555555555555556, \"#d8576b\"], [0.6666666666666666, \"#ed7953\"], [0.7777777777777778, \"#fb9f3a\"], [0.8888888888888888, \"#fdca26\"], [1.0, \"#f0f921\"]]}, \"colorway\": [\"#636efa\", \"#EF553B\", \"#00cc96\", \"#ab63fa\", \"#FFA15A\", \"#19d3f3\", \"#FF6692\", \"#B6E880\", \"#FF97FF\", \"#FECB52\"], \"font\": {\"color\": \"#2a3f5f\"}, \"geo\": {\"bgcolor\": \"white\", \"lakecolor\": \"white\", \"landcolor\": \"#E5ECF6\", \"showlakes\": true, \"showland\": true, \"subunitcolor\": \"white\"}, \"hoverlabel\": {\"align\": \"left\"}, \"hovermode\": \"closest\", \"mapbox\": {\"style\": \"light\"}, \"paper_bgcolor\": \"white\", \"plot_bgcolor\": \"#E5ECF6\", \"polar\": {\"angularaxis\": {\"gridcolor\": \"white\", \"linecolor\": \"white\", \"ticks\": \"\"}, \"bgcolor\": \"#E5ECF6\", \"radialaxis\": {\"gridcolor\": \"white\", \"linecolor\": \"white\", \"ticks\": \"\"}}, \"scene\": {\"xaxis\": {\"backgroundcolor\": \"#E5ECF6\", \"gridcolor\": \"white\", \"gridwidth\": 2, \"linecolor\": \"white\", \"showbackground\": true, \"ticks\": \"\", \"zerolinecolor\": \"white\"}, \"yaxis\": {\"backgroundcolor\": \"#E5ECF6\", \"gridcolor\": \"white\", \"gridwidth\": 2, \"linecolor\": \"white\", \"showbackground\": true, \"ticks\": \"\", \"zerolinecolor\": \"white\"}, \"zaxis\": {\"backgroundcolor\": \"#E5ECF6\", \"gridcolor\": \"white\", \"gridwidth\": 2, \"linecolor\": \"white\", \"showbackground\": true, \"ticks\": \"\", \"zerolinecolor\": \"white\"}}, \"shapedefaults\": {\"line\": {\"color\": \"#2a3f5f\"}}, \"ternary\": {\"aaxis\": {\"gridcolor\": \"white\", \"linecolor\": \"white\", \"ticks\": \"\"}, \"baxis\": {\"gridcolor\": \"white\", \"linecolor\": \"white\", \"ticks\": \"\"}, \"bgcolor\": \"#E5ECF6\", \"caxis\": {\"gridcolor\": \"white\", \"linecolor\": \"white\", \"ticks\": \"\"}}, \"title\": {\"x\": 0.05}, \"xaxis\": {\"automargin\": true, \"gridcolor\": \"white\", \"linecolor\": \"white\", \"ticks\": \"\", \"title\": {\"standoff\": 15}, \"zerolinecolor\": \"white\", \"zerolinewidth\": 2}, \"yaxis\": {\"automargin\": true, \"gridcolor\": \"white\", \"linecolor\": \"white\", \"ticks\": \"\", \"title\": {\"standoff\": 15}, \"zerolinecolor\": \"white\", \"zerolinewidth\": 2}}}},                        {\"responsive\": true}                    ).then(function(){\n",
       "                            \n",
       "var gd = document.getElementById('e1a4fb2a-2bb7-4129-a8cf-cc6cc2dd72f9');\n",
       "var x = new MutationObserver(function (mutations, observer) {{\n",
       "        var display = window.getComputedStyle(gd).display;\n",
       "        if (!display || display === 'none') {{\n",
       "            console.log([gd, 'removed!']);\n",
       "            Plotly.purge(gd);\n",
       "            observer.disconnect();\n",
       "        }}\n",
       "}});\n",
       "\n",
       "// Listen for the removal of the full notebook cells\n",
       "var notebookContainer = gd.closest('#notebook-container');\n",
       "if (notebookContainer) {{\n",
       "    x.observe(notebookContainer, {childList: true});\n",
       "}}\n",
       "\n",
       "// Listen for the clearing of the current output cell\n",
       "var outputEl = gd.closest('.output');\n",
       "if (outputEl) {{\n",
       "    x.observe(outputEl, {childList: true});\n",
       "}}\n",
       "\n",
       "                        })                };                });            </script>        </div>"
      ]
     },
     "metadata": {},
     "output_type": "display_data"
    }
   ],
   "source": [
    "fig = go.Figure(go.Indicator(\n",
    "    mode = \"number+gauge+delta\", \n",
    "                gauge = {'shape': \"bullet\", 'axis': {'range': [None, total_budget]}}, \n",
    "                value = current_rev, \n",
    "                delta = {'reference': total_budget}, \n",
    "                domain = {'x': [0, 1], 'y': [0, 1]}, \n",
    "                title = {'text': \"實績/預算\"}))\n",
    "fig.update_layout(height = 250)\n",
    "fig.show()"
   ]
  },
  {
   "cell_type": "code",
   "execution_count": null,
   "metadata": {},
   "outputs": [],
   "source": [
    "wip = data[(data.BG == 'RF') & (data['狀態'].str.contains('出')) & (data['負責業務'] == '許凱智')]"
   ]
  },
  {
   "cell_type": "code",
   "execution_count": null,
   "metadata": {},
   "outputs": [],
   "source": [
    "wip['單價'] = wip.apply(lambda x: x['單價'] / 28.5 if x['幣別'] == 'NTD' else x['單價'] / 6.5 if x['幣別'] == 'CNY' else x['單價'], axis=1)"
   ]
  },
  {
   "cell_type": "code",
   "execution_count": null,
   "metadata": {},
   "outputs": [],
   "source": [
    "wip = wip.groupby(['品名', '單價'])[['數量', '本國幣別NTD']].sum().reset_index()"
   ]
  },
  {
   "cell_type": "code",
   "execution_count": null,
   "metadata": {},
   "outputs": [],
   "source": [
    "med_price = round(wip['單價'].mean(), 2)\n",
    "med_qty = round(wip['數量'].mean(), 2)"
   ]
  },
  {
   "cell_type": "code",
   "execution_count": null,
   "metadata": {},
   "outputs": [],
   "source": [
    "fig = px.scatter(wip, x='數量', y='單價', size='本國幣別NTD', color='品名', title='產品象限圖')\n",
    "fig.update_yaxes(tickprefix='$', showgrid=True)\n",
    "fig.add_shape( # add a horizontal \"target\" line\n",
    "    type=\"line\", line_color=\"salmon\", line_width=3, opacity=1, line_dash=\"dot\",\n",
    "    x0=0, x1=1, xref=\"paper\", y0=med_price, y1=med_price, yref=\"y\"\n",
    ")\n",
    "fig.add_shape( # add a vertical \"target\" line\n",
    "    type=\"line\", line_color=\"salmon\", line_width=3, opacity=1, line_dash=\"dot\",\n",
    "    x0=med_qty, x1=med_qty, xref=\"x\", y0=0, y1=1, yref=\"paper\"\n",
    ")"
   ]
  },
  {
   "cell_type": "code",
   "execution_count": null,
   "metadata": {},
   "outputs": [],
   "source": [
    "df = WeeklyReport()"
   ]
  },
  {
   "cell_type": "code",
   "execution_count": null,
   "metadata": {},
   "outputs": [],
   "source": [
    "class SampleTracking(WeeklyReport):\n",
    "    \n",
    "    def __init__(self):\n",
    "        path = self.file_path()\n",
    "        df = self.sheet_select(path)\n",
    "        self.df = df\n",
    "    \n",
    "    @property\n",
    "    def revise_name(self):\n",
    "        _client_dict = {'華新科技': '華新科技', \n",
    "                    'MT-Sys': 'MT-SYSTEM', \n",
    "                    }\n",
    "        for i in self.df['代理商'].unique().tolist():\n",
    "            if i not in _client_dict.keys():\n",
    "                new_name = input(('{}不在字典內，請輸入需要取代的名稱：\\n'.format(i)))\n",
    "                _client_dict.setdefault(i, new_name)\n",
    "        self.df['代理商'] = self.df['代理商'].map(_client_dict)\n",
    "        return self.df\n",
    "    \n",
    "    @property\n",
    "    def to_files(self):\n",
    "        client_list = self.df['代理商'].unique().tolist()\n",
    "        client_dict = {}\n",
    "        for index, client in enumerate(client_list):\n",
    "            client_dict.setdefault(index + 1, client)\n",
    "        while True:\n",
    "            for i, j in client_dict.items():\n",
    "                print(i, 1)\n",
    "            slct_client = int(input(\"請選擇需要匯出的客戶：\"))\n",
    "            if slct_client in client_dict.keys():\n",
    "                slct_df = self.df[self.df[\"代理商\"] == client_dict[slct_client]]\n",
    "                slct_df[\"開單日期\"] = slct_df[\"開單日期\"].dt.strftime(\"%Y-%m-%d\")\n",
    "                slct_df[\"業務需求日\"] = slct_df[\"業務需求日\"].dt.strftime(\"%Y-%m-%d\")\n",
    "                slct_df[\"預計完成日\"] = slct_df[\"預計完成日\"].dt.strftime(\"%Y-%m-%d\")\n",
    "                slct_df[\"實際完成日\"] = slct_df[\"實際完成日\"].dt.strftime(\"%Y-%m-%d\")\n",
    "                en_version = input(\"請問需要英文版嗎？(y or n)\")\n",
    "                if en_version == \"y\":\n",
    "                    sorted_df = slct_df[['月份', '客戶回饋結果', '測試通過', '測試中', '品名', '代理商', '實際完成日', '數量']]\n",
    "                    sorted_df.columns = ['Month', 'Feedback from end-customer', 'Testing Pass', 'Testing', 'Part Number', 'Customer', 'Sample provided date', 'Quantity']\n",
    "                    folder_path = self.folder_path()\n",
    "                    file_name = input(\"請輸入要建立的檔案名稱:\")\n",
    "                    sorted_df.to_excel(folder_path + \"/\" + file_name + \".xlsx\", index=False)\n",
    "                else:\n",
    "                    folder_path = self.folder_path()\n",
    "                    file_name = input(\"請輸入要建立的檔案名稱:\")\n",
    "                    slct_df.to_excel(folder_path + \"/\" + file_name + \".xlsx\", index=False)\n",
    "            else:\n",
    "                break\n",
    "            "
   ]
  },
  {
   "cell_type": "code",
   "execution_count": null,
   "metadata": {
    "scrolled": false
   },
   "outputs": [],
   "source": [
    "track = SampleTracking()"
   ]
  },
  {
   "cell_type": "code",
   "execution_count": null,
   "metadata": {
    "scrolled": false
   },
   "outputs": [],
   "source": [
    "track.revise_name"
   ]
  },
  {
   "cell_type": "code",
   "execution_count": null,
   "metadata": {
    "scrolled": true
   },
   "outputs": [],
   "source": [
    "track.to_files()"
   ]
  },
  {
   "cell_type": "code",
   "execution_count": null,
   "metadata": {},
   "outputs": [],
   "source": [
    "# 將ipynb轉py要寫下面的程式碼\n",
    "!jupyter nbconvert --to script office_assistant.ipynb "
   ]
  },
  {
   "cell_type": "code",
   "execution_count": null,
   "metadata": {},
   "outputs": [],
   "source": []
  }
 ],
 "metadata": {
  "kernelspec": {
   "display_name": "Python 3",
   "language": "python",
   "name": "python3"
  },
  "language_info": {
   "codemirror_mode": {
    "name": "ipython",
    "version": 3
   },
   "file_extension": ".py",
   "mimetype": "text/x-python",
   "name": "python",
   "nbconvert_exporter": "python",
   "pygments_lexer": "ipython3",
   "version": "3.8.5"
  }
 },
 "nbformat": 4,
 "nbformat_minor": 4
}
