{
 "cells": [
  {
   "cell_type": "code",
   "execution_count": 16,
   "metadata": {},
   "outputs": [],
   "source": [
    "import pandas as pd\n",
    "import tkinter as tk\n",
    "from tkinter import filedialog\n",
    "pd.set_option('display.max_columns', None)\n",
    "pd.set_option('display.float_format', lambda x: '%.2f' % x)\n",
    "from datetime import datetime\n",
    "import plotly.express as px"
   ]
  },
  {
   "cell_type": "code",
   "execution_count": 2,
   "metadata": {},
   "outputs": [],
   "source": [
    "_today = datetime.today().strftime('%Y-%m-%d')\n",
    "def to_report(pivot_table, plot, today=_today):\n",
    "    with open(_today + '_weekly_report_iris.html', 'w') as f:\n",
    "        f.write(pivot_table.to_html())\n",
    "        f.write(plot.to_html(full_html=False, include_plotlyjs='cdn'))\n",
    "        f.close()"
   ]
  },
  {
   "cell_type": "code",
   "execution_count": 3,
   "metadata": {},
   "outputs": [],
   "source": [
    "class WeeklyReport:\n",
    "    \n",
    "    _today = datetime.today().strftime('%Y-%m')\n",
    "    \n",
    "    _month_dict = {1: 'January', 2: 'February', 3: 'March', 4: 'April', \n",
    "             5: 'May', 6: 'June', 7: 'July', 8: 'August', \n",
    "             9: 'September', 10: 'October', 11: 'November', 12: 'December'}\n",
    "    \n",
    "    _month_list = list(_month_dict.values())\n",
    "    \n",
    "    def __init__(self):\n",
    "        path = self.file_path()\n",
    "        df = self.sheet_select(path)\n",
    "        self.df = df\n",
    "        \n",
    "    def file_path(self):\n",
    "        root = tk.Tk()\n",
    "        root.withdraw()\n",
    "        path = filedialog.askopenfilename()\n",
    "        return path\n",
    "\n",
    "    def sheet_select(self, path):\n",
    "        df = pd.read_excel(path, None)\n",
    "        sheet_dict = {}\n",
    "        for index, sheet in enumerate(df.keys()):\n",
    "            print(index + 1, sheet)\n",
    "            sheet_dict.setdefault(index + 1, sheet)\n",
    "        slct_sheet = eval(input('請輸入要開啟的sheet編號：\\n'))\n",
    "        df = df[sheet_dict[slct_sheet]]\n",
    "        return df\n",
    "    \n",
    "    @property\n",
    "    def for_iris(self):\n",
    "        last_month = int(self._today.split('-')[-1]) - 1\n",
    "        this_month = int(self._today.split('-')[-1])\n",
    "        next_month = int(self._today.split('-')[-1]) + 1\n",
    "        df = self.df[(self.df['狀態'].str.contains('出')) & (self.df['BG'] == 'RF') & (self.df['預交年份'] == int(self._today.split('-')[0])) & \n",
    "                    (self.df['預交月份'].isin([self._month_dict[last_month], self._month_dict[this_month], self._month_dict[next_month]]))]\n",
    "        df['廠別'] = df['品名'].map(lambda x: 'BU2' if x.startswith('RFDP') else 'BU1')\n",
    "        df['Type'] = '實績'\n",
    "        df = df[df['廠別'] == 'BU1']\n",
    "        df = df.groupby(['負責業務', '預交月份'])[['本國幣別NTD']].sum().reset_index()\n",
    "        df['預交月份'] = pd.Categorical(df['預交月份'], ordered=True, categories=self._month_list)\n",
    "        \n",
    "        table = df.pivot_table(index='負責業務', values='本國幣別NTD', columns='預交月份', fill_value=0, aggfunc='sum', margins=True)\n",
    "        pd.options.display.float_format = '{:,.0f}'.format # 讓pivot table裡面可以使用千分位\n",
    "        return table\n",
    "    \n",
    "    @property\n",
    "    def iris_plot(self):\n",
    "        last_month = int(self._today.split('-')[-1]) - 1\n",
    "        this_month = int(self._today.split('-')[-1])\n",
    "        next_month = int(self._today.split('-')[-1]) + 1\n",
    "        df = self.df[(self.df['狀態'].str.contains('出')) & (self.df['BG'] == 'RF') & (self.df['預交年份'] == int(self._today.split('-')[0]))]\n",
    "        df['預交月份'] = pd.Categorical(df['預交月份'], ordered=True, categories=self._month_list)\n",
    "        df['廠別'] = df['品名'].map(lambda x: 'BU2' if x.startswith('RFDP') else 'BU1')\n",
    "        df = df[df['廠別'] == 'BU1']\n",
    "        plot = df.groupby(['預交月份'])[['本國幣別NTD']].sum().reset_index()\n",
    "        fig = px.histogram(plot, x='預交月份', y='本國幣別NTD', category_orders={'預交月份': self._month_list}, \n",
    "                          title='BU1 Amber team每月實績', labels=dict(本國幣別NTD='Revenue', 預交月份='Month'))\n",
    "        return fig\n",
    "        "
   ]
  },
  {
   "cell_type": "code",
   "execution_count": 5,
   "metadata": {},
   "outputs": [],
   "source": [
    "import plotly.express as px"
   ]
  },
  {
   "cell_type": "code",
   "execution_count": 81,
   "metadata": {},
   "outputs": [],
   "source": [
    "data = df.df"
   ]
  },
  {
   "cell_type": "code",
   "execution_count": 82,
   "metadata": {},
   "outputs": [],
   "source": [
    "wip = data[(data.BG == 'RF') & (data['狀態'].str.contains('出')) & (data['負責業務'] == '許凱智')]"
   ]
  },
  {
   "cell_type": "code",
   "execution_count": 83,
   "metadata": {},
   "outputs": [
    {
     "name": "stderr",
     "output_type": "stream",
     "text": [
      "<ipython-input-83-3379ef55f8de>:1: SettingWithCopyWarning:\n",
      "\n",
      "\n",
      "A value is trying to be set on a copy of a slice from a DataFrame.\n",
      "Try using .loc[row_indexer,col_indexer] = value instead\n",
      "\n",
      "See the caveats in the documentation: https://pandas.pydata.org/pandas-docs/stable/user_guide/indexing.html#returning-a-view-versus-a-copy\n",
      "\n"
     ]
    }
   ],
   "source": [
    "wip['單價'] = wip.apply(lambda x: x['單價'] / 28.5 if x['幣別'] == 'NTD' else x['單價'] / 6.5 if x['幣別'] == 'CNY' else x['單價'], axis=1)"
   ]
  },
  {
   "cell_type": "code",
   "execution_count": 84,
   "metadata": {},
   "outputs": [],
   "source": [
    "wip = wip.groupby(['品名', '單價'])[['數量', '本國幣別NTD']].sum().reset_index()"
   ]
  },
  {
   "cell_type": "code",
   "execution_count": 92,
   "metadata": {},
   "outputs": [],
   "source": [
    "med_price = round(wip['單價'].mean(), 2)\n",
    "med_qty = round(wip['數量'].mean(), 2)"
   ]
  },
  {
   "cell_type": "code",
   "execution_count": 93,
   "metadata": {},
   "outputs": [
    {
     "data": {
      "application/vnd.plotly.v1+json": {
       "config": {
        "plotlyServerURL": "https://plot.ly"
       },
       "data": [
        {
         "hovertemplate": "品名=ACA-3216-D1-MF-S<br>數量=%{x}<br>單價=%{y}<br>本國幣別NTD=%{marker.size}<extra></extra>",
         "legendgroup": "ACA-3216-D1-MF-S",
         "marker": {
          "color": "#636efa",
          "size": [
           2555.1
          ],
          "sizemode": "area",
          "sizeref": 43806.83462499999,
          "symbol": "circle"
         },
         "mode": "markers",
         "name": "ACA-3216-D1-MF-S",
         "orientation": "v",
         "showlegend": true,
         "type": "scatter",
         "x": [
          2000
         ],
         "xaxis": "x",
         "y": [
          0.045
         ],
         "yaxis": "y"
        },
        {
         "hovertemplate": "品名=ACM0-3216-A1-CC-S-00<br>數量=%{x}<br>單價=%{y}<br>本國幣別NTD=%{marker.size}<extra></extra>",
         "legendgroup": "ACM0-3216-A1-CC-S-00",
         "marker": {
          "color": "#EF553B",
          "size": [
           80668
          ],
          "sizemode": "area",
          "sizeref": 43806.83462499999,
          "symbol": "circle"
         },
         "mode": "markers",
         "name": "ACM0-3216-A1-CC-S-00",
         "orientation": "v",
         "showlegend": true,
         "type": "scatter",
         "x": [
          8000
         ],
         "xaxis": "x",
         "y": [
          0.35
         ],
         "yaxis": "y"
        },
        {
         "hovertemplate": "品名=ACM3-5036-A1-CC-S<br>數量=%{x}<br>單價=%{y}<br>本國幣別NTD=%{marker.size}<extra></extra>",
         "legendgroup": "ACM3-5036-A1-CC-S",
         "marker": {
          "color": "#00cc96",
          "size": [
           110400
          ],
          "sizemode": "area",
          "sizeref": 43806.83462499999,
          "symbol": "circle"
         },
         "mode": "markers",
         "name": "ACM3-5036-A1-CC-S",
         "orientation": "v",
         "showlegend": true,
         "type": "scatter",
         "x": [
          46000
         ],
         "xaxis": "x",
         "y": [
          0.08421052631578947
         ],
         "yaxis": "y"
        },
        {
         "hovertemplate": "品名=ACM4-5036-A1-CC-S-00<br>數量=%{x}<br>單價=%{y}<br>本國幣別NTD=%{marker.size}<extra></extra>",
         "legendgroup": "ACM4-5036-A1-CC-S-00",
         "marker": {
          "color": "#ab63fa",
          "size": [
           100835
          ],
          "sizemode": "area",
          "sizeref": 43806.83462499999,
          "symbol": "circle"
         },
         "mode": "markers",
         "name": "ACM4-5036-A1-CC-S-00",
         "orientation": "v",
         "showlegend": true,
         "type": "scatter",
         "x": [
          10000
         ],
         "xaxis": "x",
         "y": [
          0.35
         ],
         "yaxis": "y"
        },
        {
         "hovertemplate": "品名=B3G02G-S3-01-A<br>數量=%{x}<br>單價=%{y}<br>本國幣別NTD=%{marker.size}<extra></extra>",
         "legendgroup": "B3G02G-S3-01-A",
         "marker": {
          "color": "#FFA15A",
          "size": [
           712.5889999999999
          ],
          "sizemode": "area",
          "sizeref": 43806.83462499999,
          "symbol": "circle"
         },
         "mode": "markers",
         "name": "B3G02G-S3-01-A",
         "orientation": "v",
         "showlegend": true,
         "type": "scatter",
         "x": [
          2
         ],
         "xaxis": "x",
         "y": [
          12.55
         ],
         "yaxis": "y"
        },
        {
         "hovertemplate": "品名=DAM-P11-B-R2-015-10-49<br>數量=%{x}<br>單價=%{y}<br>本國幣別NTD=%{marker.size}<extra></extra>",
         "legendgroup": "DAM-P11-B-R2-015-10-49",
         "marker": {
          "color": "#19d3f3",
          "size": [
           6298946.080000006
          ],
          "sizemode": "area",
          "sizeref": 43806.83462499999,
          "symbol": "circle"
         },
         "mode": "markers",
         "name": "DAM-P11-B-R2-015-10-49",
         "orientation": "v",
         "showlegend": true,
         "type": "scatter",
         "x": [
          198100
         ],
         "xaxis": "x",
         "y": [
          1.12
         ],
         "yaxis": "y"
        },
        {
         "hovertemplate": "品名=DAM-P11-B-R2-015-10-50<br>數量=%{x}<br>單價=%{y}<br>本國幣別NTD=%{marker.size}<extra></extra>",
         "legendgroup": "DAM-P11-B-R2-015-10-50",
         "marker": {
          "color": "#FF6692",
          "size": [
           1589839.9999999998
          ],
          "sizemode": "area",
          "sizeref": 43806.83462499999,
          "symbol": "circle"
         },
         "mode": "markers",
         "name": "DAM-P11-B-R2-015-10-50",
         "orientation": "v",
         "showlegend": true,
         "type": "scatter",
         "x": [
          50000
         ],
         "xaxis": "x",
         "y": [
          1.12
         ],
         "yaxis": "y"
        },
        {
         "hovertemplate": "品名=DAM-P11-E1-R2-003-22-03<br>數量=%{x}<br>單價=%{y}<br>本國幣別NTD=%{marker.size}<extra></extra>",
         "legendgroup": "DAM-P11-E1-R2-003-22-03",
         "marker": {
          "color": "#B6E880",
          "size": [
           249832,
           8272891.423999994
          ],
          "sizemode": "area",
          "sizeref": 43806.83462499999,
          "symbol": "circle"
         },
         "mode": "markers",
         "name": "DAM-P11-E1-R2-003-22-03",
         "orientation": "v",
         "showlegend": true,
         "type": "scatter",
         "x": [
          8000,
          260180
         ],
         "xaxis": "x",
         "y": [
          1.1,
          1.12
         ],
         "yaxis": "y"
        },
        {
         "hovertemplate": "品名=GNS01U7W-S6-00-A<br>數量=%{x}<br>單價=%{y}<br>本國幣別NTD=%{marker.size}<extra></extra>",
         "legendgroup": "GNS01U7W-S6-00-A",
         "marker": {
          "color": "#FF97FF",
          "size": [
           1589840
          ],
          "sizemode": "area",
          "sizeref": 43806.83462499999,
          "symbol": "circle"
         },
         "mode": "markers",
         "name": "GNS01U7W-S6-00-A",
         "orientation": "v",
         "showlegend": true,
         "type": "scatter",
         "x": [
          20000
         ],
         "xaxis": "x",
         "y": [
          2.8
         ],
         "yaxis": "y"
        },
        {
         "hovertemplate": "品名=GNS01U7W-S6-06-A<br>數量=%{x}<br>單價=%{y}<br>本國幣別NTD=%{marker.size}<extra></extra>",
         "legendgroup": "GNS01U7W-S6-06-A",
         "marker": {
          "color": "#FECB52",
          "size": [
           317400.2
          ],
          "sizemode": "area",
          "sizeref": 43806.83462499999,
          "symbol": "circle"
         },
         "mode": "markers",
         "name": "GNS01U7W-S6-06-A",
         "orientation": "v",
         "showlegend": true,
         "type": "scatter",
         "x": [
          4300
         ],
         "xaxis": "x",
         "y": [
          2.6
         ],
         "yaxis": "y"
        },
        {
         "hovertemplate": "品名=GPSGLONASS45D-S6-00-A<br>數量=%{x}<br>單價=%{y}<br>本國幣別NTD=%{marker.size}<extra></extra>",
         "legendgroup": "GPSGLONASS45D-S6-00-A",
         "marker": {
          "color": "#636efa",
          "size": [
           908607.755
          ],
          "sizemode": "area",
          "sizeref": 43806.83462499999,
          "symbol": "circle"
         },
         "mode": "markers",
         "name": "GPSGLONASS45D-S6-00-A",
         "orientation": "v",
         "showlegend": true,
         "type": "scatter",
         "x": [
          12650
         ],
         "xaxis": "x",
         "y": [
          2.53
         ],
         "yaxis": "y"
        },
        {
         "hovertemplate": "品名=GPSGLONASSU10N-N6-0022-A<br>數量=%{x}<br>單價=%{y}<br>本國幣別NTD=%{marker.size}<extra></extra>",
         "legendgroup": "GPSGLONASSU10N-N6-0022-A",
         "marker": {
          "color": "#EF553B",
          "size": [
           13967879.999999981
          ],
          "sizemode": "area",
          "sizeref": 43806.83462499999,
          "symbol": "circle"
         },
         "mode": "markers",
         "name": "GPSGLONASSU10N-N6-0022-A",
         "orientation": "v",
         "showlegend": true,
         "type": "scatter",
         "x": [
          300000
         ],
         "xaxis": "x",
         "y": [
          1.64
         ],
         "yaxis": "y"
        },
        {
         "hovertemplate": "品名=GPSGLONASSU10N-N6-0420-A<br>數量=%{x}<br>單價=%{y}<br>本國幣別NTD=%{marker.size}<extra></extra>",
         "legendgroup": "GPSGLONASSU10N-N6-0420-A",
         "marker": {
          "color": "#00cc96",
          "size": [
           78190.3185
          ],
          "sizemode": "area",
          "sizeref": 43806.83462499999,
          "symbol": "circle"
         },
         "mode": "markers",
         "name": "GPSGLONASSU10N-N6-0420-A",
         "orientation": "v",
         "showlegend": true,
         "type": "scatter",
         "x": [
          1505
         ],
         "xaxis": "x",
         "y": [
          1.83
         ],
         "yaxis": "y"
        },
        {
         "hovertemplate": "品名=GPSH212N-N3-19-A<br>數量=%{x}<br>單價=%{y}<br>本國幣別NTD=%{marker.size}<extra></extra>",
         "legendgroup": "GPSH212N-N3-19-A",
         "marker": {
          "color": "#ab63fa",
          "size": [
           127052.1
          ],
          "sizemode": "area",
          "sizeref": 43806.83462499999,
          "symbol": "circle"
         },
         "mode": "markers",
         "name": "GPSH212N-N3-19-A",
         "orientation": "v",
         "showlegend": true,
         "type": "scatter",
         "x": [
          1400
         ],
         "xaxis": "x",
         "y": [
          3.15
         ],
         "yaxis": "y"
        },
        {
         "hovertemplate": "品名=PA1590MI2G-144-2ZM<br>數量=%{x}<br>單價=%{y}<br>本國幣別NTD=%{marker.size}<extra></extra>",
         "legendgroup": "PA1590MI2G-144-2ZM",
         "marker": {
          "color": "#FFA15A",
          "size": [
           3832.65
          ],
          "sizemode": "area",
          "sizeref": 43806.83462499999,
          "symbol": "circle"
         },
         "mode": "markers",
         "name": "PA1590MI2G-144-2ZM",
         "orientation": "v",
         "showlegend": true,
         "type": "scatter",
         "x": [
          500
         ],
         "xaxis": "x",
         "y": [
          0.27
         ],
         "yaxis": "y"
        },
        {
         "hovertemplate": "品名=PA1590MI4G-101-17<br>數量=%{x}<br>單價=%{y}<br>本國幣別NTD=%{marker.size}<extra></extra>",
         "legendgroup": "PA1590MI4G-101-17",
         "marker": {
          "color": "#19d3f3",
          "size": [
           4599.18
          ],
          "sizemode": "area",
          "sizeref": 43806.83462499999,
          "symbol": "circle"
         },
         "mode": "markers",
         "name": "PA1590MI4G-101-17",
         "orientation": "v",
         "showlegend": true,
         "type": "scatter",
         "x": [
          300
         ],
         "xaxis": "x",
         "y": [
          0.54
         ],
         "yaxis": "y"
        },
        {
         "hovertemplate": "品名=PA1590MI4G-316-FZM<br>數量=%{x}<br>單價=%{y}<br>本國幣別NTD=%{marker.size}<extra></extra>",
         "legendgroup": "PA1590MI4G-316-FZM",
         "marker": {
          "color": "#FF6692",
          "size": [
           306612
          ],
          "sizemode": "area",
          "sizeref": 43806.83462499999,
          "symbol": "circle"
         },
         "mode": "markers",
         "name": "PA1590MI4G-316-FZM",
         "orientation": "v",
         "showlegend": true,
         "type": "scatter",
         "x": [
          40000
         ],
         "xaxis": "x",
         "y": [
          0.27
         ],
         "yaxis": "y"
        },
        {
         "hovertemplate": "品名=PA1590MI4G-371-28M<br>數量=%{x}<br>單價=%{y}<br>本國幣別NTD=%{marker.size}<extra></extra>",
         "legendgroup": "PA1590MI4G-371-28M",
         "marker": {
          "color": "#B6E880",
          "size": [
           1485506.75,
           5163544.8100000005
          ],
          "sizemode": "area",
          "sizeref": 43806.83462499999,
          "symbol": "circle"
         },
         "mode": "markers",
         "name": "PA1590MI4G-371-28M",
         "orientation": "v",
         "showlegend": true,
         "type": "scatter",
         "x": [
          230000,
          761000
         ],
         "xaxis": "x",
         "y": [
          0.2275,
          0.239
         ],
         "yaxis": "y"
        },
        {
         "hovertemplate": "品名=PA1590MI4G-375-28M<br>數量=%{x}<br>單價=%{y}<br>本國幣別NTD=%{marker.size}<extra></extra>",
         "legendgroup": "PA1590MI4G-375-28M",
         "marker": {
          "color": "#FF97FF",
          "size": [
           5380671.530000002
          ],
          "sizemode": "area",
          "sizeref": 43806.83462499999,
          "symbol": "circle"
         },
         "mode": "markers",
         "name": "PA1590MI4G-375-28M",
         "orientation": "v",
         "showlegend": true,
         "type": "scatter",
         "x": [
          793000
         ],
         "xaxis": "x",
         "y": [
          0.239
         ],
         "yaxis": "y"
        },
        {
         "hovertemplate": "品名=PA1590MI4G-376-28M<br>數量=%{x}<br>單價=%{y}<br>本國幣別NTD=%{marker.size}<extra></extra>",
         "legendgroup": "PA1590MI4G-376-28M",
         "marker": {
          "color": "#FECB52",
          "size": [
           226055.375,
           1133130.0700000003
          ],
          "sizemode": "area",
          "sizeref": 43806.83462499999,
          "symbol": "circle"
         },
         "mode": "markers",
         "name": "PA1590MI4G-376-28M",
         "orientation": "v",
         "showlegend": true,
         "type": "scatter",
         "x": [
          35000,
          167000
         ],
         "xaxis": "x",
         "y": [
          0.2275,
          0.239
         ],
         "yaxis": "y"
        },
        {
         "hovertemplate": "品名=PA1590MI4G-380-18M-A<br>數量=%{x}<br>單價=%{y}<br>本國幣別NTD=%{marker.size}<extra></extra>",
         "legendgroup": "PA1590MI4G-380-18M-A",
         "marker": {
          "color": "#636efa",
          "size": [
           19376.175,
           122133.78000000001
          ],
          "sizemode": "area",
          "sizeref": 43806.83462499999,
          "symbol": "circle"
         },
         "mode": "markers",
         "name": "PA1590MI4G-380-18M-A",
         "orientation": "v",
         "showlegend": true,
         "type": "scatter",
         "x": [
          3000,
          18000
         ],
         "xaxis": "x",
         "y": [
          0.2275,
          0.239
         ],
         "yaxis": "y"
        },
        {
         "hovertemplate": "品名=PA1590MI4G-402-28M<br>數量=%{x}<br>單價=%{y}<br>本國幣別NTD=%{marker.size}<extra></extra>",
         "legendgroup": "PA1590MI4G-402-28M",
         "marker": {
          "color": "#EF553B",
          "size": [
           200220.475,
           278193.61000000004
          ],
          "sizemode": "area",
          "sizeref": 43806.83462499999,
          "symbol": "circle"
         },
         "mode": "markers",
         "name": "PA1590MI4G-402-28M",
         "orientation": "v",
         "showlegend": true,
         "type": "scatter",
         "x": [
          31000,
          41000
         ],
         "xaxis": "x",
         "y": [
          0.2275,
          0.239
         ],
         "yaxis": "y"
        },
        {
         "hovertemplate": "品名=PA1590MI4G-414-18M-A<br>數量=%{x}<br>單價=%{y}<br>本國幣別NTD=%{marker.size}<extra></extra>",
         "legendgroup": "PA1590MI4G-414-18M-A",
         "marker": {
          "color": "#00cc96",
          "size": [
           147628
          ],
          "sizemode": "area",
          "sizeref": 43806.83462499999,
          "symbol": "circle"
         },
         "mode": "markers",
         "name": "PA1590MI4G-414-18M-A",
         "orientation": "v",
         "showlegend": true,
         "type": "scatter",
         "x": [
          20000
         ],
         "xaxis": "x",
         "y": [
          0.26
         ],
         "yaxis": "y"
        },
        {
         "hovertemplate": "品名=PA1590MI4G-415-18M-A<br>數量=%{x}<br>單價=%{y}<br>本國幣別NTD=%{marker.size}<extra></extra>",
         "legendgroup": "PA1590MI4G-415-18M-A",
         "marker": {
          "color": "#ab63fa",
          "size": [
           73814
          ],
          "sizemode": "area",
          "sizeref": 43806.83462499999,
          "symbol": "circle"
         },
         "mode": "markers",
         "name": "PA1590MI4G-415-18M-A",
         "orientation": "v",
         "showlegend": true,
         "type": "scatter",
         "x": [
          10000
         ],
         "xaxis": "x",
         "y": [
          0.26
         ],
         "yaxis": "y"
        },
        {
         "hovertemplate": "品名=PA1590MI4G-431-28M-A<br>數量=%{x}<br>單價=%{y}<br>本國幣別NTD=%{marker.size}<extra></extra>",
         "legendgroup": "PA1590MI4G-431-28M-A",
         "marker": {
          "color": "#FFA15A",
          "size": [
           989107.6
          ],
          "sizemode": "area",
          "sizeref": 43806.83462499999,
          "symbol": "circle"
         },
         "mode": "markers",
         "name": "PA1590MI4G-431-28M-A",
         "orientation": "v",
         "showlegend": true,
         "type": "scatter",
         "x": [
          134000
         ],
         "xaxis": "x",
         "y": [
          0.26
         ],
         "yaxis": "y"
        },
        {
         "hovertemplate": "品名=PA1590MI4G-447-28M-A<br>數量=%{x}<br>單價=%{y}<br>本國幣別NTD=%{marker.size}<extra></extra>",
         "legendgroup": "PA1590MI4G-447-28M-A",
         "marker": {
          "color": "#19d3f3",
          "size": [
           65233.1225,
           230697.14
          ],
          "sizemode": "area",
          "sizeref": 43806.83462499999,
          "symbol": "circle"
         },
         "mode": "markers",
         "name": "PA1590MI4G-447-28M-A",
         "orientation": "v",
         "showlegend": true,
         "type": "scatter",
         "x": [
          10100,
          34000
         ],
         "xaxis": "x",
         "y": [
          0.2275,
          0.239
         ],
         "yaxis": "y"
        },
        {
         "hovertemplate": "品名=PA1590MI4G-448-28M-A<br>數量=%{x}<br>單價=%{y}<br>本國幣別NTD=%{marker.size}<extra></extra>",
         "legendgroup": "PA1590MI4G-448-28M-A",
         "marker": {
          "color": "#FF6692",
          "size": [
           13563.3225,
           115348.57
          ],
          "sizemode": "area",
          "sizeref": 43806.83462499999,
          "symbol": "circle"
         },
         "mode": "markers",
         "name": "PA1590MI4G-448-28M-A",
         "orientation": "v",
         "showlegend": true,
         "type": "scatter",
         "x": [
          2100,
          17000
         ],
         "xaxis": "x",
         "y": [
          0.2275,
          0.239
         ],
         "yaxis": "y"
        },
        {
         "hovertemplate": "品名=PA1590MJ4G-221-26M<br>數量=%{x}<br>單價=%{y}<br>本國幣別NTD=%{marker.size}<extra></extra>",
         "legendgroup": "PA1590MJ4G-221-26M",
         "marker": {
          "color": "#B6E880",
          "size": [
           114624.625
          ],
          "sizemode": "area",
          "sizeref": 43806.83462499999,
          "symbol": "circle"
         },
         "mode": "markers",
         "name": "PA1590MJ4G-221-26M",
         "orientation": "v",
         "showlegend": true,
         "type": "scatter",
         "x": [
          17000
         ],
         "xaxis": "x",
         "y": [
          0.2375
         ],
         "yaxis": "y"
        },
        {
         "hovertemplate": "品名=PA1590MJ4G-224-2SP<br>數量=%{x}<br>單價=%{y}<br>本國幣別NTD=%{marker.size}<extra></extra>",
         "legendgroup": "PA1590MJ4G-224-2SP",
         "marker": {
          "color": "#FF97FF",
          "size": [
           1024879
          ],
          "sizemode": "area",
          "sizeref": 43806.83462499999,
          "symbol": "circle"
         },
         "mode": "markers",
         "name": "PA1590MJ4G-224-2SP",
         "orientation": "v",
         "showlegend": true,
         "type": "scatter",
         "x": [
          152000
         ],
         "xaxis": "x",
         "y": [
          0.2375
         ],
         "yaxis": "y"
        },
        {
         "hovertemplate": "品名=PA1590MS4G-102-1S<br>數量=%{x}<br>單價=%{y}<br>本國幣別NTD=%{marker.size}<extra></extra>",
         "legendgroup": "PA1590MS4G-102-1S",
         "marker": {
          "color": "#FECB52",
          "size": [
           46843.5
          ],
          "sizemode": "area",
          "sizeref": 43806.83462499999,
          "symbol": "circle"
         },
         "mode": "markers",
         "name": "PA1590MS4G-102-1S",
         "orientation": "v",
         "showlegend": true,
         "type": "scatter",
         "x": [
          5000
         ],
         "xaxis": "x",
         "y": [
          0.33
         ],
         "yaxis": "y"
        },
        {
         "hovertemplate": "品名=PA1590MS4G-103-1SS<br>數量=%{x}<br>單價=%{y}<br>本國幣別NTD=%{marker.size}<extra></extra>",
         "legendgroup": "PA1590MS4G-103-1SS",
         "marker": {
          "color": "#636efa",
          "size": [
           254374.4
          ],
          "sizemode": "area",
          "sizeref": 43806.83462499999,
          "symbol": "circle"
         },
         "mode": "markers",
         "name": "PA1590MS4G-103-1SS",
         "orientation": "v",
         "showlegend": true,
         "type": "scatter",
         "x": [
          28000
         ],
         "xaxis": "x",
         "y": [
          0.32
         ],
         "yaxis": "y"
        },
        {
         "hovertemplate": "品名=PA1590MS4G-103-SMD-M-A<br>數量=%{x}<br>單價=%{y}<br>本國幣別NTD=%{marker.size}<extra></extra>",
         "legendgroup": "PA1590MS4G-103-SMD-M-A",
         "marker": {
          "color": "#EF553B",
          "size": [
           661259.8799999999
          ],
          "sizemode": "area",
          "sizeref": 43806.83462499999,
          "symbol": "circle"
         },
         "mode": "markers",
         "name": "PA1590MS4G-103-SMD-M-A",
         "orientation": "v",
         "showlegend": true,
         "type": "scatter",
         "x": [
          64700
         ],
         "xaxis": "x",
         "y": [
          0.36
         ],
         "yaxis": "y"
        },
        {
         "hovertemplate": "品名=PA1590MS4G-104-SMD-M-A<br>數量=%{x}<br>單價=%{y}<br>本國幣別NTD=%{marker.size}<extra></extra>",
         "legendgroup": "PA1590MS4G-104-SMD-M-A",
         "marker": {
          "color": "#00cc96",
          "size": [
           378438.69999999995,
           1419.5
          ],
          "sizemode": "area",
          "sizeref": 43806.83462499999,
          "symbol": "circle"
         },
         "mode": "markers",
         "name": "PA1590MS4G-104-SMD-M-A",
         "orientation": "v",
         "showlegend": true,
         "type": "scatter",
         "x": [
          31000,
          50
         ],
         "xaxis": "x",
         "y": [
          0.43,
          1
         ],
         "yaxis": "y"
        },
        {
         "hovertemplate": "品名=PA1598MI4G-487-17M<br>數量=%{x}<br>單價=%{y}<br>本國幣別NTD=%{marker.size}<extra></extra>",
         "legendgroup": "PA1598MI4G-487-17M",
         "marker": {
          "color": "#ab63fa",
          "size": [
           3861.04
          ],
          "sizemode": "area",
          "sizeref": 43806.83462499999,
          "symbol": "circle"
         },
         "mode": "markers",
         "name": "PA1598MI4G-487-17M",
         "orientation": "v",
         "showlegend": true,
         "type": "scatter",
         "x": [
          100
         ],
         "xaxis": "x",
         "y": [
          1.36
         ],
         "yaxis": "y"
        },
        {
         "hovertemplate": "品名=PA1621MI4G-366-18M<br>數量=%{x}<br>單價=%{y}<br>本國幣別NTD=%{marker.size}<extra></extra>",
         "legendgroup": "PA1621MI4G-366-18M",
         "marker": {
          "color": "#FFA15A",
          "size": [
           1504.67
          ],
          "sizemode": "area",
          "sizeref": 43806.83462499999,
          "symbol": "circle"
         },
         "mode": "markers",
         "name": "PA1621MI4G-366-18M",
         "orientation": "v",
         "showlegend": true,
         "type": "scatter",
         "x": [
          100
         ],
         "xaxis": "x",
         "y": [
          0.53
         ],
         "yaxis": "y"
        },
        {
         "hovertemplate": "品名=PA2195766-1I4H4G-106-1ZS-A<br>數量=%{x}<br>單價=%{y}<br>本國幣別NTD=%{marker.size}<extra></extra>",
         "legendgroup": "PA2195766-1I4H4G-106-1ZS-A",
         "marker": {
          "color": "#19d3f3",
          "size": [
           73016.064
          ],
          "sizemode": "area",
          "sizeref": 43806.83462499999,
          "symbol": "circle"
         },
         "mode": "markers",
         "name": "PA2195766-1I4H4G-106-1ZS-A",
         "orientation": "v",
         "showlegend": true,
         "type": "scatter",
         "x": [
          1152
         ],
         "xaxis": "x",
         "y": [
          2.2
         ],
         "yaxis": "y"
        },
        {
         "hovertemplate": "品名=PA2195767-1I4H10G-103-1ZS-A<br>數量=%{x}<br>單價=%{y}<br>本國幣別NTD=%{marker.size}<extra></extra>",
         "legendgroup": "PA2195767-1I4H10G-103-1ZS-A",
         "marker": {
          "color": "#FF6692",
          "size": [
           120808.3968
          ],
          "sizemode": "area",
          "sizeref": 43806.83462499999,
          "symbol": "circle"
         },
         "mode": "markers",
         "name": "PA2195767-1I4H10G-103-1ZS-A",
         "orientation": "v",
         "showlegend": true,
         "type": "scatter",
         "x": [
          1152
         ],
         "xaxis": "x",
         "y": [
          3.64
         ],
         "yaxis": "y"
        },
        {
         "hovertemplate": "品名=RFDPA141300SBLB803J4<br>數量=%{x}<br>單價=%{y}<br>本國幣別NTD=%{marker.size}<extra></extra>",
         "legendgroup": "RFDPA141300SBLB803J4",
         "marker": {
          "color": "#B6E880",
          "size": [
           2548286.4
          ],
          "sizemode": "area",
          "sizeref": 43806.83462499999,
          "symbol": "circle"
         },
         "mode": "markers",
         "name": "RFDPA141300SBLB803J4",
         "orientation": "v",
         "showlegend": true,
         "type": "scatter",
         "x": [
          66000
         ],
         "xaxis": "x",
         "y": [
          1.36
         ],
         "yaxis": "y"
        },
        {
         "hovertemplate": "品名=RFDPA171300SBAB823J4<br>數量=%{x}<br>單價=%{y}<br>本國幣別NTD=%{marker.size}<extra></extra>",
         "legendgroup": "RFDPA171300SBAB823J4",
         "marker": {
          "color": "#FF97FF",
          "size": [
           9429738.499999993
          ],
          "sizemode": "area",
          "sizeref": 43806.83462499999,
          "symbol": "circle"
         },
         "mode": "markers",
         "name": "RFDPA171300SBAB823J4",
         "orientation": "v",
         "showlegend": true,
         "type": "scatter",
         "x": [
          455000
         ],
         "xaxis": "x",
         "y": [
          0.73
         ],
         "yaxis": "y"
        },
        {
         "hovertemplate": "品名=RFDPA191300SMTB806J4<br>數量=%{x}<br>單價=%{y}<br>本國幣別NTD=%{marker.size}<extra></extra>",
         "legendgroup": "RFDPA191300SMTB806J4",
         "marker": {
          "color": "#FECB52",
          "size": [
           17522733.849999994
          ],
          "sizemode": "area",
          "sizeref": 43806.83462499999,
          "symbol": "circle"
         },
         "mode": "markers",
         "name": "RFDPA191300SMTB806J4",
         "orientation": "v",
         "showlegend": true,
         "type": "scatter",
         "x": [
          845500
         ],
         "xaxis": "x",
         "y": [
          0.73
         ],
         "yaxis": "y"
        },
        {
         "hovertemplate": "品名=RFDPA30871ASBLBA01J4<br>數量=%{x}<br>單價=%{y}<br>本國幣別NTD=%{marker.size}<extra></extra>",
         "legendgroup": "RFDPA30871ASBLBA01J4",
         "marker": {
          "color": "#636efa",
          "size": [
           317968
          ],
          "sizemode": "area",
          "sizeref": 43806.83462499999,
          "symbol": "circle"
         },
         "mode": "markers",
         "name": "RFDPA30871ASBLBA01J4",
         "orientation": "v",
         "showlegend": true,
         "type": "scatter",
         "x": [
          10000
         ],
         "xaxis": "x",
         "y": [
          1.12
         ],
         "yaxis": "y"
        },
        {
         "hovertemplate": "品名=WA-F-P5-03-005<br>數量=%{x}<br>單價=%{y}<br>本國幣別NTD=%{marker.size}<extra></extra>",
         "legendgroup": "WA-F-P5-03-005",
         "marker": {
          "color": "#EF553B",
          "size": [
           41335.840000000004
          ],
          "sizemode": "area",
          "sizeref": 43806.83462499999,
          "symbol": "circle"
         },
         "mode": "markers",
         "name": "WA-F-P5-03-005",
         "orientation": "v",
         "showlegend": true,
         "type": "scatter",
         "x": [
          1820
         ],
         "xaxis": "x",
         "y": [
          0.8
         ],
         "yaxis": "y"
        },
        {
         "hovertemplate": "品名=WAG-P-LTE10-00-001<br>數量=%{x}<br>單價=%{y}<br>本國幣別NTD=%{marker.size}<extra></extra>",
         "legendgroup": "WAG-P-LTE10-00-001",
         "marker": {
          "color": "#00cc96",
          "size": [
           137975.40000000002
          ],
          "sizemode": "area",
          "sizeref": 43806.83462499999,
          "symbol": "circle"
         },
         "mode": "markers",
         "name": "WAG-P-LTE10-00-001",
         "orientation": "v",
         "showlegend": true,
         "type": "scatter",
         "x": [
          18000
         ],
         "xaxis": "x",
         "y": [
          0.27
         ],
         "yaxis": "y"
        }
       ],
       "layout": {
        "legend": {
         "itemsizing": "constant",
         "title": {
          "text": "品名"
         },
         "tracegroupgap": 0
        },
        "shapes": [
         {
          "line": {
           "color": "salmon",
           "dash": "dot",
           "width": 3
          },
          "opacity": 1,
          "type": "line",
          "x0": 0,
          "x1": 1,
          "xref": "paper",
          "y0": 1.04,
          "y1": 1.04,
          "yref": "y"
         },
         {
          "line": {
           "color": "salmon",
           "dash": "dot",
           "width": 3
          },
          "opacity": 1,
          "type": "line",
          "x0": 97366.88,
          "x1": 97366.88,
          "xref": "x",
          "y0": 0,
          "y1": 1,
          "yref": "paper"
         }
        ],
        "template": {
         "data": {
          "bar": [
           {
            "error_x": {
             "color": "#2a3f5f"
            },
            "error_y": {
             "color": "#2a3f5f"
            },
            "marker": {
             "line": {
              "color": "#E5ECF6",
              "width": 0.5
             }
            },
            "type": "bar"
           }
          ],
          "barpolar": [
           {
            "marker": {
             "line": {
              "color": "#E5ECF6",
              "width": 0.5
             }
            },
            "type": "barpolar"
           }
          ],
          "carpet": [
           {
            "aaxis": {
             "endlinecolor": "#2a3f5f",
             "gridcolor": "white",
             "linecolor": "white",
             "minorgridcolor": "white",
             "startlinecolor": "#2a3f5f"
            },
            "baxis": {
             "endlinecolor": "#2a3f5f",
             "gridcolor": "white",
             "linecolor": "white",
             "minorgridcolor": "white",
             "startlinecolor": "#2a3f5f"
            },
            "type": "carpet"
           }
          ],
          "choropleth": [
           {
            "colorbar": {
             "outlinewidth": 0,
             "ticks": ""
            },
            "type": "choropleth"
           }
          ],
          "contour": [
           {
            "colorbar": {
             "outlinewidth": 0,
             "ticks": ""
            },
            "colorscale": [
             [
              0,
              "#0d0887"
             ],
             [
              0.1111111111111111,
              "#46039f"
             ],
             [
              0.2222222222222222,
              "#7201a8"
             ],
             [
              0.3333333333333333,
              "#9c179e"
             ],
             [
              0.4444444444444444,
              "#bd3786"
             ],
             [
              0.5555555555555556,
              "#d8576b"
             ],
             [
              0.6666666666666666,
              "#ed7953"
             ],
             [
              0.7777777777777778,
              "#fb9f3a"
             ],
             [
              0.8888888888888888,
              "#fdca26"
             ],
             [
              1,
              "#f0f921"
             ]
            ],
            "type": "contour"
           }
          ],
          "contourcarpet": [
           {
            "colorbar": {
             "outlinewidth": 0,
             "ticks": ""
            },
            "type": "contourcarpet"
           }
          ],
          "heatmap": [
           {
            "colorbar": {
             "outlinewidth": 0,
             "ticks": ""
            },
            "colorscale": [
             [
              0,
              "#0d0887"
             ],
             [
              0.1111111111111111,
              "#46039f"
             ],
             [
              0.2222222222222222,
              "#7201a8"
             ],
             [
              0.3333333333333333,
              "#9c179e"
             ],
             [
              0.4444444444444444,
              "#bd3786"
             ],
             [
              0.5555555555555556,
              "#d8576b"
             ],
             [
              0.6666666666666666,
              "#ed7953"
             ],
             [
              0.7777777777777778,
              "#fb9f3a"
             ],
             [
              0.8888888888888888,
              "#fdca26"
             ],
             [
              1,
              "#f0f921"
             ]
            ],
            "type": "heatmap"
           }
          ],
          "heatmapgl": [
           {
            "colorbar": {
             "outlinewidth": 0,
             "ticks": ""
            },
            "colorscale": [
             [
              0,
              "#0d0887"
             ],
             [
              0.1111111111111111,
              "#46039f"
             ],
             [
              0.2222222222222222,
              "#7201a8"
             ],
             [
              0.3333333333333333,
              "#9c179e"
             ],
             [
              0.4444444444444444,
              "#bd3786"
             ],
             [
              0.5555555555555556,
              "#d8576b"
             ],
             [
              0.6666666666666666,
              "#ed7953"
             ],
             [
              0.7777777777777778,
              "#fb9f3a"
             ],
             [
              0.8888888888888888,
              "#fdca26"
             ],
             [
              1,
              "#f0f921"
             ]
            ],
            "type": "heatmapgl"
           }
          ],
          "histogram": [
           {
            "marker": {
             "colorbar": {
              "outlinewidth": 0,
              "ticks": ""
             }
            },
            "type": "histogram"
           }
          ],
          "histogram2d": [
           {
            "colorbar": {
             "outlinewidth": 0,
             "ticks": ""
            },
            "colorscale": [
             [
              0,
              "#0d0887"
             ],
             [
              0.1111111111111111,
              "#46039f"
             ],
             [
              0.2222222222222222,
              "#7201a8"
             ],
             [
              0.3333333333333333,
              "#9c179e"
             ],
             [
              0.4444444444444444,
              "#bd3786"
             ],
             [
              0.5555555555555556,
              "#d8576b"
             ],
             [
              0.6666666666666666,
              "#ed7953"
             ],
             [
              0.7777777777777778,
              "#fb9f3a"
             ],
             [
              0.8888888888888888,
              "#fdca26"
             ],
             [
              1,
              "#f0f921"
             ]
            ],
            "type": "histogram2d"
           }
          ],
          "histogram2dcontour": [
           {
            "colorbar": {
             "outlinewidth": 0,
             "ticks": ""
            },
            "colorscale": [
             [
              0,
              "#0d0887"
             ],
             [
              0.1111111111111111,
              "#46039f"
             ],
             [
              0.2222222222222222,
              "#7201a8"
             ],
             [
              0.3333333333333333,
              "#9c179e"
             ],
             [
              0.4444444444444444,
              "#bd3786"
             ],
             [
              0.5555555555555556,
              "#d8576b"
             ],
             [
              0.6666666666666666,
              "#ed7953"
             ],
             [
              0.7777777777777778,
              "#fb9f3a"
             ],
             [
              0.8888888888888888,
              "#fdca26"
             ],
             [
              1,
              "#f0f921"
             ]
            ],
            "type": "histogram2dcontour"
           }
          ],
          "mesh3d": [
           {
            "colorbar": {
             "outlinewidth": 0,
             "ticks": ""
            },
            "type": "mesh3d"
           }
          ],
          "parcoords": [
           {
            "line": {
             "colorbar": {
              "outlinewidth": 0,
              "ticks": ""
             }
            },
            "type": "parcoords"
           }
          ],
          "pie": [
           {
            "automargin": true,
            "type": "pie"
           }
          ],
          "scatter": [
           {
            "marker": {
             "colorbar": {
              "outlinewidth": 0,
              "ticks": ""
             }
            },
            "type": "scatter"
           }
          ],
          "scatter3d": [
           {
            "line": {
             "colorbar": {
              "outlinewidth": 0,
              "ticks": ""
             }
            },
            "marker": {
             "colorbar": {
              "outlinewidth": 0,
              "ticks": ""
             }
            },
            "type": "scatter3d"
           }
          ],
          "scattercarpet": [
           {
            "marker": {
             "colorbar": {
              "outlinewidth": 0,
              "ticks": ""
             }
            },
            "type": "scattercarpet"
           }
          ],
          "scattergeo": [
           {
            "marker": {
             "colorbar": {
              "outlinewidth": 0,
              "ticks": ""
             }
            },
            "type": "scattergeo"
           }
          ],
          "scattergl": [
           {
            "marker": {
             "colorbar": {
              "outlinewidth": 0,
              "ticks": ""
             }
            },
            "type": "scattergl"
           }
          ],
          "scattermapbox": [
           {
            "marker": {
             "colorbar": {
              "outlinewidth": 0,
              "ticks": ""
             }
            },
            "type": "scattermapbox"
           }
          ],
          "scatterpolar": [
           {
            "marker": {
             "colorbar": {
              "outlinewidth": 0,
              "ticks": ""
             }
            },
            "type": "scatterpolar"
           }
          ],
          "scatterpolargl": [
           {
            "marker": {
             "colorbar": {
              "outlinewidth": 0,
              "ticks": ""
             }
            },
            "type": "scatterpolargl"
           }
          ],
          "scatterternary": [
           {
            "marker": {
             "colorbar": {
              "outlinewidth": 0,
              "ticks": ""
             }
            },
            "type": "scatterternary"
           }
          ],
          "surface": [
           {
            "colorbar": {
             "outlinewidth": 0,
             "ticks": ""
            },
            "colorscale": [
             [
              0,
              "#0d0887"
             ],
             [
              0.1111111111111111,
              "#46039f"
             ],
             [
              0.2222222222222222,
              "#7201a8"
             ],
             [
              0.3333333333333333,
              "#9c179e"
             ],
             [
              0.4444444444444444,
              "#bd3786"
             ],
             [
              0.5555555555555556,
              "#d8576b"
             ],
             [
              0.6666666666666666,
              "#ed7953"
             ],
             [
              0.7777777777777778,
              "#fb9f3a"
             ],
             [
              0.8888888888888888,
              "#fdca26"
             ],
             [
              1,
              "#f0f921"
             ]
            ],
            "type": "surface"
           }
          ],
          "table": [
           {
            "cells": {
             "fill": {
              "color": "#EBF0F8"
             },
             "line": {
              "color": "white"
             }
            },
            "header": {
             "fill": {
              "color": "#C8D4E3"
             },
             "line": {
              "color": "white"
             }
            },
            "type": "table"
           }
          ]
         },
         "layout": {
          "annotationdefaults": {
           "arrowcolor": "#2a3f5f",
           "arrowhead": 0,
           "arrowwidth": 1
          },
          "coloraxis": {
           "colorbar": {
            "outlinewidth": 0,
            "ticks": ""
           }
          },
          "colorscale": {
           "diverging": [
            [
             0,
             "#8e0152"
            ],
            [
             0.1,
             "#c51b7d"
            ],
            [
             0.2,
             "#de77ae"
            ],
            [
             0.3,
             "#f1b6da"
            ],
            [
             0.4,
             "#fde0ef"
            ],
            [
             0.5,
             "#f7f7f7"
            ],
            [
             0.6,
             "#e6f5d0"
            ],
            [
             0.7,
             "#b8e186"
            ],
            [
             0.8,
             "#7fbc41"
            ],
            [
             0.9,
             "#4d9221"
            ],
            [
             1,
             "#276419"
            ]
           ],
           "sequential": [
            [
             0,
             "#0d0887"
            ],
            [
             0.1111111111111111,
             "#46039f"
            ],
            [
             0.2222222222222222,
             "#7201a8"
            ],
            [
             0.3333333333333333,
             "#9c179e"
            ],
            [
             0.4444444444444444,
             "#bd3786"
            ],
            [
             0.5555555555555556,
             "#d8576b"
            ],
            [
             0.6666666666666666,
             "#ed7953"
            ],
            [
             0.7777777777777778,
             "#fb9f3a"
            ],
            [
             0.8888888888888888,
             "#fdca26"
            ],
            [
             1,
             "#f0f921"
            ]
           ],
           "sequentialminus": [
            [
             0,
             "#0d0887"
            ],
            [
             0.1111111111111111,
             "#46039f"
            ],
            [
             0.2222222222222222,
             "#7201a8"
            ],
            [
             0.3333333333333333,
             "#9c179e"
            ],
            [
             0.4444444444444444,
             "#bd3786"
            ],
            [
             0.5555555555555556,
             "#d8576b"
            ],
            [
             0.6666666666666666,
             "#ed7953"
            ],
            [
             0.7777777777777778,
             "#fb9f3a"
            ],
            [
             0.8888888888888888,
             "#fdca26"
            ],
            [
             1,
             "#f0f921"
            ]
           ]
          },
          "colorway": [
           "#636efa",
           "#EF553B",
           "#00cc96",
           "#ab63fa",
           "#FFA15A",
           "#19d3f3",
           "#FF6692",
           "#B6E880",
           "#FF97FF",
           "#FECB52"
          ],
          "font": {
           "color": "#2a3f5f"
          },
          "geo": {
           "bgcolor": "white",
           "lakecolor": "white",
           "landcolor": "#E5ECF6",
           "showlakes": true,
           "showland": true,
           "subunitcolor": "white"
          },
          "hoverlabel": {
           "align": "left"
          },
          "hovermode": "closest",
          "mapbox": {
           "style": "light"
          },
          "paper_bgcolor": "white",
          "plot_bgcolor": "#E5ECF6",
          "polar": {
           "angularaxis": {
            "gridcolor": "white",
            "linecolor": "white",
            "ticks": ""
           },
           "bgcolor": "#E5ECF6",
           "radialaxis": {
            "gridcolor": "white",
            "linecolor": "white",
            "ticks": ""
           }
          },
          "scene": {
           "xaxis": {
            "backgroundcolor": "#E5ECF6",
            "gridcolor": "white",
            "gridwidth": 2,
            "linecolor": "white",
            "showbackground": true,
            "ticks": "",
            "zerolinecolor": "white"
           },
           "yaxis": {
            "backgroundcolor": "#E5ECF6",
            "gridcolor": "white",
            "gridwidth": 2,
            "linecolor": "white",
            "showbackground": true,
            "ticks": "",
            "zerolinecolor": "white"
           },
           "zaxis": {
            "backgroundcolor": "#E5ECF6",
            "gridcolor": "white",
            "gridwidth": 2,
            "linecolor": "white",
            "showbackground": true,
            "ticks": "",
            "zerolinecolor": "white"
           }
          },
          "shapedefaults": {
           "line": {
            "color": "#2a3f5f"
           }
          },
          "ternary": {
           "aaxis": {
            "gridcolor": "white",
            "linecolor": "white",
            "ticks": ""
           },
           "baxis": {
            "gridcolor": "white",
            "linecolor": "white",
            "ticks": ""
           },
           "bgcolor": "#E5ECF6",
           "caxis": {
            "gridcolor": "white",
            "linecolor": "white",
            "ticks": ""
           }
          },
          "title": {
           "x": 0.05
          },
          "xaxis": {
           "automargin": true,
           "gridcolor": "white",
           "linecolor": "white",
           "ticks": "",
           "title": {
            "standoff": 15
           },
           "zerolinecolor": "white",
           "zerolinewidth": 2
          },
          "yaxis": {
           "automargin": true,
           "gridcolor": "white",
           "linecolor": "white",
           "ticks": "",
           "title": {
            "standoff": 15
           },
           "zerolinecolor": "white",
           "zerolinewidth": 2
          }
         }
        },
        "title": {
         "text": "產品象限圖"
        },
        "xaxis": {
         "anchor": "y",
         "domain": [
          0,
          1
         ],
         "title": {
          "text": "數量"
         }
        },
        "yaxis": {
         "anchor": "x",
         "domain": [
          0,
          1
         ],
         "showgrid": true,
         "tickprefix": "$",
         "title": {
          "text": "單價"
         }
        }
       }
      },
      "text/html": [
       "<div>                            <div id=\"7ba8a818-7488-4889-ba3d-673499d97982\" class=\"plotly-graph-div\" style=\"height:525px; width:100%;\"></div>            <script type=\"text/javascript\">                require([\"plotly\"], function(Plotly) {                    window.PLOTLYENV=window.PLOTLYENV || {};                                    if (document.getElementById(\"7ba8a818-7488-4889-ba3d-673499d97982\")) {                    Plotly.newPlot(                        \"7ba8a818-7488-4889-ba3d-673499d97982\",                        [{\"hovertemplate\": \"\\u54c1\\u540d=ACA-3216-D1-MF-S<br>\\u6578\\u91cf=%{x}<br>\\u55ae\\u50f9=%{y}<br>\\u672c\\u570b\\u5e63\\u5225NTD=%{marker.size}<extra></extra>\", \"legendgroup\": \"ACA-3216-D1-MF-S\", \"marker\": {\"color\": \"#636efa\", \"size\": [2555.1], \"sizemode\": \"area\", \"sizeref\": 43806.83462499999, \"symbol\": \"circle\"}, \"mode\": \"markers\", \"name\": \"ACA-3216-D1-MF-S\", \"orientation\": \"v\", \"showlegend\": true, \"type\": \"scatter\", \"x\": [2000], \"xaxis\": \"x\", \"y\": [0.045], \"yaxis\": \"y\"}, {\"hovertemplate\": \"\\u54c1\\u540d=ACM0-3216-A1-CC-S-00<br>\\u6578\\u91cf=%{x}<br>\\u55ae\\u50f9=%{y}<br>\\u672c\\u570b\\u5e63\\u5225NTD=%{marker.size}<extra></extra>\", \"legendgroup\": \"ACM0-3216-A1-CC-S-00\", \"marker\": {\"color\": \"#EF553B\", \"size\": [80668.0], \"sizemode\": \"area\", \"sizeref\": 43806.83462499999, \"symbol\": \"circle\"}, \"mode\": \"markers\", \"name\": \"ACM0-3216-A1-CC-S-00\", \"orientation\": \"v\", \"showlegend\": true, \"type\": \"scatter\", \"x\": [8000], \"xaxis\": \"x\", \"y\": [0.35], \"yaxis\": \"y\"}, {\"hovertemplate\": \"\\u54c1\\u540d=ACM3-5036-A1-CC-S<br>\\u6578\\u91cf=%{x}<br>\\u55ae\\u50f9=%{y}<br>\\u672c\\u570b\\u5e63\\u5225NTD=%{marker.size}<extra></extra>\", \"legendgroup\": \"ACM3-5036-A1-CC-S\", \"marker\": {\"color\": \"#00cc96\", \"size\": [110400.0], \"sizemode\": \"area\", \"sizeref\": 43806.83462499999, \"symbol\": \"circle\"}, \"mode\": \"markers\", \"name\": \"ACM3-5036-A1-CC-S\", \"orientation\": \"v\", \"showlegend\": true, \"type\": \"scatter\", \"x\": [46000], \"xaxis\": \"x\", \"y\": [0.08421052631578947], \"yaxis\": \"y\"}, {\"hovertemplate\": \"\\u54c1\\u540d=ACM4-5036-A1-CC-S-00<br>\\u6578\\u91cf=%{x}<br>\\u55ae\\u50f9=%{y}<br>\\u672c\\u570b\\u5e63\\u5225NTD=%{marker.size}<extra></extra>\", \"legendgroup\": \"ACM4-5036-A1-CC-S-00\", \"marker\": {\"color\": \"#ab63fa\", \"size\": [100835.0], \"sizemode\": \"area\", \"sizeref\": 43806.83462499999, \"symbol\": \"circle\"}, \"mode\": \"markers\", \"name\": \"ACM4-5036-A1-CC-S-00\", \"orientation\": \"v\", \"showlegend\": true, \"type\": \"scatter\", \"x\": [10000], \"xaxis\": \"x\", \"y\": [0.35], \"yaxis\": \"y\"}, {\"hovertemplate\": \"\\u54c1\\u540d=B3G02G-S3-01-A<br>\\u6578\\u91cf=%{x}<br>\\u55ae\\u50f9=%{y}<br>\\u672c\\u570b\\u5e63\\u5225NTD=%{marker.size}<extra></extra>\", \"legendgroup\": \"B3G02G-S3-01-A\", \"marker\": {\"color\": \"#FFA15A\", \"size\": [712.5889999999999], \"sizemode\": \"area\", \"sizeref\": 43806.83462499999, \"symbol\": \"circle\"}, \"mode\": \"markers\", \"name\": \"B3G02G-S3-01-A\", \"orientation\": \"v\", \"showlegend\": true, \"type\": \"scatter\", \"x\": [2], \"xaxis\": \"x\", \"y\": [12.55], \"yaxis\": \"y\"}, {\"hovertemplate\": \"\\u54c1\\u540d=DAM-P11-B-R2-015-10-49<br>\\u6578\\u91cf=%{x}<br>\\u55ae\\u50f9=%{y}<br>\\u672c\\u570b\\u5e63\\u5225NTD=%{marker.size}<extra></extra>\", \"legendgroup\": \"DAM-P11-B-R2-015-10-49\", \"marker\": {\"color\": \"#19d3f3\", \"size\": [6298946.080000006], \"sizemode\": \"area\", \"sizeref\": 43806.83462499999, \"symbol\": \"circle\"}, \"mode\": \"markers\", \"name\": \"DAM-P11-B-R2-015-10-49\", \"orientation\": \"v\", \"showlegend\": true, \"type\": \"scatter\", \"x\": [198100], \"xaxis\": \"x\", \"y\": [1.12], \"yaxis\": \"y\"}, {\"hovertemplate\": \"\\u54c1\\u540d=DAM-P11-B-R2-015-10-50<br>\\u6578\\u91cf=%{x}<br>\\u55ae\\u50f9=%{y}<br>\\u672c\\u570b\\u5e63\\u5225NTD=%{marker.size}<extra></extra>\", \"legendgroup\": \"DAM-P11-B-R2-015-10-50\", \"marker\": {\"color\": \"#FF6692\", \"size\": [1589839.9999999998], \"sizemode\": \"area\", \"sizeref\": 43806.83462499999, \"symbol\": \"circle\"}, \"mode\": \"markers\", \"name\": \"DAM-P11-B-R2-015-10-50\", \"orientation\": \"v\", \"showlegend\": true, \"type\": \"scatter\", \"x\": [50000], \"xaxis\": \"x\", \"y\": [1.12], \"yaxis\": \"y\"}, {\"hovertemplate\": \"\\u54c1\\u540d=DAM-P11-E1-R2-003-22-03<br>\\u6578\\u91cf=%{x}<br>\\u55ae\\u50f9=%{y}<br>\\u672c\\u570b\\u5e63\\u5225NTD=%{marker.size}<extra></extra>\", \"legendgroup\": \"DAM-P11-E1-R2-003-22-03\", \"marker\": {\"color\": \"#B6E880\", \"size\": [249832.0, 8272891.423999994], \"sizemode\": \"area\", \"sizeref\": 43806.83462499999, \"symbol\": \"circle\"}, \"mode\": \"markers\", \"name\": \"DAM-P11-E1-R2-003-22-03\", \"orientation\": \"v\", \"showlegend\": true, \"type\": \"scatter\", \"x\": [8000, 260180], \"xaxis\": \"x\", \"y\": [1.1, 1.12], \"yaxis\": \"y\"}, {\"hovertemplate\": \"\\u54c1\\u540d=GNS01U7W-S6-00-A<br>\\u6578\\u91cf=%{x}<br>\\u55ae\\u50f9=%{y}<br>\\u672c\\u570b\\u5e63\\u5225NTD=%{marker.size}<extra></extra>\", \"legendgroup\": \"GNS01U7W-S6-00-A\", \"marker\": {\"color\": \"#FF97FF\", \"size\": [1589840.0], \"sizemode\": \"area\", \"sizeref\": 43806.83462499999, \"symbol\": \"circle\"}, \"mode\": \"markers\", \"name\": \"GNS01U7W-S6-00-A\", \"orientation\": \"v\", \"showlegend\": true, \"type\": \"scatter\", \"x\": [20000], \"xaxis\": \"x\", \"y\": [2.8], \"yaxis\": \"y\"}, {\"hovertemplate\": \"\\u54c1\\u540d=GNS01U7W-S6-06-A<br>\\u6578\\u91cf=%{x}<br>\\u55ae\\u50f9=%{y}<br>\\u672c\\u570b\\u5e63\\u5225NTD=%{marker.size}<extra></extra>\", \"legendgroup\": \"GNS01U7W-S6-06-A\", \"marker\": {\"color\": \"#FECB52\", \"size\": [317400.2], \"sizemode\": \"area\", \"sizeref\": 43806.83462499999, \"symbol\": \"circle\"}, \"mode\": \"markers\", \"name\": \"GNS01U7W-S6-06-A\", \"orientation\": \"v\", \"showlegend\": true, \"type\": \"scatter\", \"x\": [4300], \"xaxis\": \"x\", \"y\": [2.6], \"yaxis\": \"y\"}, {\"hovertemplate\": \"\\u54c1\\u540d=GPSGLONASS45D-S6-00-A<br>\\u6578\\u91cf=%{x}<br>\\u55ae\\u50f9=%{y}<br>\\u672c\\u570b\\u5e63\\u5225NTD=%{marker.size}<extra></extra>\", \"legendgroup\": \"GPSGLONASS45D-S6-00-A\", \"marker\": {\"color\": \"#636efa\", \"size\": [908607.755], \"sizemode\": \"area\", \"sizeref\": 43806.83462499999, \"symbol\": \"circle\"}, \"mode\": \"markers\", \"name\": \"GPSGLONASS45D-S6-00-A\", \"orientation\": \"v\", \"showlegend\": true, \"type\": \"scatter\", \"x\": [12650], \"xaxis\": \"x\", \"y\": [2.53], \"yaxis\": \"y\"}, {\"hovertemplate\": \"\\u54c1\\u540d=GPSGLONASSU10N-N6-0022-A<br>\\u6578\\u91cf=%{x}<br>\\u55ae\\u50f9=%{y}<br>\\u672c\\u570b\\u5e63\\u5225NTD=%{marker.size}<extra></extra>\", \"legendgroup\": \"GPSGLONASSU10N-N6-0022-A\", \"marker\": {\"color\": \"#EF553B\", \"size\": [13967879.999999981], \"sizemode\": \"area\", \"sizeref\": 43806.83462499999, \"symbol\": \"circle\"}, \"mode\": \"markers\", \"name\": \"GPSGLONASSU10N-N6-0022-A\", \"orientation\": \"v\", \"showlegend\": true, \"type\": \"scatter\", \"x\": [300000], \"xaxis\": \"x\", \"y\": [1.64], \"yaxis\": \"y\"}, {\"hovertemplate\": \"\\u54c1\\u540d=GPSGLONASSU10N-N6-0420-A<br>\\u6578\\u91cf=%{x}<br>\\u55ae\\u50f9=%{y}<br>\\u672c\\u570b\\u5e63\\u5225NTD=%{marker.size}<extra></extra>\", \"legendgroup\": \"GPSGLONASSU10N-N6-0420-A\", \"marker\": {\"color\": \"#00cc96\", \"size\": [78190.3185], \"sizemode\": \"area\", \"sizeref\": 43806.83462499999, \"symbol\": \"circle\"}, \"mode\": \"markers\", \"name\": \"GPSGLONASSU10N-N6-0420-A\", \"orientation\": \"v\", \"showlegend\": true, \"type\": \"scatter\", \"x\": [1505], \"xaxis\": \"x\", \"y\": [1.83], \"yaxis\": \"y\"}, {\"hovertemplate\": \"\\u54c1\\u540d=GPSH212N-N3-19-A<br>\\u6578\\u91cf=%{x}<br>\\u55ae\\u50f9=%{y}<br>\\u672c\\u570b\\u5e63\\u5225NTD=%{marker.size}<extra></extra>\", \"legendgroup\": \"GPSH212N-N3-19-A\", \"marker\": {\"color\": \"#ab63fa\", \"size\": [127052.1], \"sizemode\": \"area\", \"sizeref\": 43806.83462499999, \"symbol\": \"circle\"}, \"mode\": \"markers\", \"name\": \"GPSH212N-N3-19-A\", \"orientation\": \"v\", \"showlegend\": true, \"type\": \"scatter\", \"x\": [1400], \"xaxis\": \"x\", \"y\": [3.15], \"yaxis\": \"y\"}, {\"hovertemplate\": \"\\u54c1\\u540d=PA1590MI2G-144-2ZM<br>\\u6578\\u91cf=%{x}<br>\\u55ae\\u50f9=%{y}<br>\\u672c\\u570b\\u5e63\\u5225NTD=%{marker.size}<extra></extra>\", \"legendgroup\": \"PA1590MI2G-144-2ZM\", \"marker\": {\"color\": \"#FFA15A\", \"size\": [3832.65], \"sizemode\": \"area\", \"sizeref\": 43806.83462499999, \"symbol\": \"circle\"}, \"mode\": \"markers\", \"name\": \"PA1590MI2G-144-2ZM\", \"orientation\": \"v\", \"showlegend\": true, \"type\": \"scatter\", \"x\": [500], \"xaxis\": \"x\", \"y\": [0.27], \"yaxis\": \"y\"}, {\"hovertemplate\": \"\\u54c1\\u540d=PA1590MI4G-101-17<br>\\u6578\\u91cf=%{x}<br>\\u55ae\\u50f9=%{y}<br>\\u672c\\u570b\\u5e63\\u5225NTD=%{marker.size}<extra></extra>\", \"legendgroup\": \"PA1590MI4G-101-17\", \"marker\": {\"color\": \"#19d3f3\", \"size\": [4599.18], \"sizemode\": \"area\", \"sizeref\": 43806.83462499999, \"symbol\": \"circle\"}, \"mode\": \"markers\", \"name\": \"PA1590MI4G-101-17\", \"orientation\": \"v\", \"showlegend\": true, \"type\": \"scatter\", \"x\": [300], \"xaxis\": \"x\", \"y\": [0.54], \"yaxis\": \"y\"}, {\"hovertemplate\": \"\\u54c1\\u540d=PA1590MI4G-316-FZM<br>\\u6578\\u91cf=%{x}<br>\\u55ae\\u50f9=%{y}<br>\\u672c\\u570b\\u5e63\\u5225NTD=%{marker.size}<extra></extra>\", \"legendgroup\": \"PA1590MI4G-316-FZM\", \"marker\": {\"color\": \"#FF6692\", \"size\": [306612.0], \"sizemode\": \"area\", \"sizeref\": 43806.83462499999, \"symbol\": \"circle\"}, \"mode\": \"markers\", \"name\": \"PA1590MI4G-316-FZM\", \"orientation\": \"v\", \"showlegend\": true, \"type\": \"scatter\", \"x\": [40000], \"xaxis\": \"x\", \"y\": [0.27], \"yaxis\": \"y\"}, {\"hovertemplate\": \"\\u54c1\\u540d=PA1590MI4G-371-28M<br>\\u6578\\u91cf=%{x}<br>\\u55ae\\u50f9=%{y}<br>\\u672c\\u570b\\u5e63\\u5225NTD=%{marker.size}<extra></extra>\", \"legendgroup\": \"PA1590MI4G-371-28M\", \"marker\": {\"color\": \"#B6E880\", \"size\": [1485506.75, 5163544.8100000005], \"sizemode\": \"area\", \"sizeref\": 43806.83462499999, \"symbol\": \"circle\"}, \"mode\": \"markers\", \"name\": \"PA1590MI4G-371-28M\", \"orientation\": \"v\", \"showlegend\": true, \"type\": \"scatter\", \"x\": [230000, 761000], \"xaxis\": \"x\", \"y\": [0.2275, 0.239], \"yaxis\": \"y\"}, {\"hovertemplate\": \"\\u54c1\\u540d=PA1590MI4G-375-28M<br>\\u6578\\u91cf=%{x}<br>\\u55ae\\u50f9=%{y}<br>\\u672c\\u570b\\u5e63\\u5225NTD=%{marker.size}<extra></extra>\", \"legendgroup\": \"PA1590MI4G-375-28M\", \"marker\": {\"color\": \"#FF97FF\", \"size\": [5380671.530000002], \"sizemode\": \"area\", \"sizeref\": 43806.83462499999, \"symbol\": \"circle\"}, \"mode\": \"markers\", \"name\": \"PA1590MI4G-375-28M\", \"orientation\": \"v\", \"showlegend\": true, \"type\": \"scatter\", \"x\": [793000], \"xaxis\": \"x\", \"y\": [0.239], \"yaxis\": \"y\"}, {\"hovertemplate\": \"\\u54c1\\u540d=PA1590MI4G-376-28M<br>\\u6578\\u91cf=%{x}<br>\\u55ae\\u50f9=%{y}<br>\\u672c\\u570b\\u5e63\\u5225NTD=%{marker.size}<extra></extra>\", \"legendgroup\": \"PA1590MI4G-376-28M\", \"marker\": {\"color\": \"#FECB52\", \"size\": [226055.375, 1133130.0700000003], \"sizemode\": \"area\", \"sizeref\": 43806.83462499999, \"symbol\": \"circle\"}, \"mode\": \"markers\", \"name\": \"PA1590MI4G-376-28M\", \"orientation\": \"v\", \"showlegend\": true, \"type\": \"scatter\", \"x\": [35000, 167000], \"xaxis\": \"x\", \"y\": [0.2275, 0.239], \"yaxis\": \"y\"}, {\"hovertemplate\": \"\\u54c1\\u540d=PA1590MI4G-380-18M-A<br>\\u6578\\u91cf=%{x}<br>\\u55ae\\u50f9=%{y}<br>\\u672c\\u570b\\u5e63\\u5225NTD=%{marker.size}<extra></extra>\", \"legendgroup\": \"PA1590MI4G-380-18M-A\", \"marker\": {\"color\": \"#636efa\", \"size\": [19376.175, 122133.78000000001], \"sizemode\": \"area\", \"sizeref\": 43806.83462499999, \"symbol\": \"circle\"}, \"mode\": \"markers\", \"name\": \"PA1590MI4G-380-18M-A\", \"orientation\": \"v\", \"showlegend\": true, \"type\": \"scatter\", \"x\": [3000, 18000], \"xaxis\": \"x\", \"y\": [0.2275, 0.239], \"yaxis\": \"y\"}, {\"hovertemplate\": \"\\u54c1\\u540d=PA1590MI4G-402-28M<br>\\u6578\\u91cf=%{x}<br>\\u55ae\\u50f9=%{y}<br>\\u672c\\u570b\\u5e63\\u5225NTD=%{marker.size}<extra></extra>\", \"legendgroup\": \"PA1590MI4G-402-28M\", \"marker\": {\"color\": \"#EF553B\", \"size\": [200220.475, 278193.61000000004], \"sizemode\": \"area\", \"sizeref\": 43806.83462499999, \"symbol\": \"circle\"}, \"mode\": \"markers\", \"name\": \"PA1590MI4G-402-28M\", \"orientation\": \"v\", \"showlegend\": true, \"type\": \"scatter\", \"x\": [31000, 41000], \"xaxis\": \"x\", \"y\": [0.2275, 0.239], \"yaxis\": \"y\"}, {\"hovertemplate\": \"\\u54c1\\u540d=PA1590MI4G-414-18M-A<br>\\u6578\\u91cf=%{x}<br>\\u55ae\\u50f9=%{y}<br>\\u672c\\u570b\\u5e63\\u5225NTD=%{marker.size}<extra></extra>\", \"legendgroup\": \"PA1590MI4G-414-18M-A\", \"marker\": {\"color\": \"#00cc96\", \"size\": [147628.0], \"sizemode\": \"area\", \"sizeref\": 43806.83462499999, \"symbol\": \"circle\"}, \"mode\": \"markers\", \"name\": \"PA1590MI4G-414-18M-A\", \"orientation\": \"v\", \"showlegend\": true, \"type\": \"scatter\", \"x\": [20000], \"xaxis\": \"x\", \"y\": [0.26], \"yaxis\": \"y\"}, {\"hovertemplate\": \"\\u54c1\\u540d=PA1590MI4G-415-18M-A<br>\\u6578\\u91cf=%{x}<br>\\u55ae\\u50f9=%{y}<br>\\u672c\\u570b\\u5e63\\u5225NTD=%{marker.size}<extra></extra>\", \"legendgroup\": \"PA1590MI4G-415-18M-A\", \"marker\": {\"color\": \"#ab63fa\", \"size\": [73814.0], \"sizemode\": \"area\", \"sizeref\": 43806.83462499999, \"symbol\": \"circle\"}, \"mode\": \"markers\", \"name\": \"PA1590MI4G-415-18M-A\", \"orientation\": \"v\", \"showlegend\": true, \"type\": \"scatter\", \"x\": [10000], \"xaxis\": \"x\", \"y\": [0.26], \"yaxis\": \"y\"}, {\"hovertemplate\": \"\\u54c1\\u540d=PA1590MI4G-431-28M-A<br>\\u6578\\u91cf=%{x}<br>\\u55ae\\u50f9=%{y}<br>\\u672c\\u570b\\u5e63\\u5225NTD=%{marker.size}<extra></extra>\", \"legendgroup\": \"PA1590MI4G-431-28M-A\", \"marker\": {\"color\": \"#FFA15A\", \"size\": [989107.6], \"sizemode\": \"area\", \"sizeref\": 43806.83462499999, \"symbol\": \"circle\"}, \"mode\": \"markers\", \"name\": \"PA1590MI4G-431-28M-A\", \"orientation\": \"v\", \"showlegend\": true, \"type\": \"scatter\", \"x\": [134000], \"xaxis\": \"x\", \"y\": [0.26], \"yaxis\": \"y\"}, {\"hovertemplate\": \"\\u54c1\\u540d=PA1590MI4G-447-28M-A<br>\\u6578\\u91cf=%{x}<br>\\u55ae\\u50f9=%{y}<br>\\u672c\\u570b\\u5e63\\u5225NTD=%{marker.size}<extra></extra>\", \"legendgroup\": \"PA1590MI4G-447-28M-A\", \"marker\": {\"color\": \"#19d3f3\", \"size\": [65233.1225, 230697.14], \"sizemode\": \"area\", \"sizeref\": 43806.83462499999, \"symbol\": \"circle\"}, \"mode\": \"markers\", \"name\": \"PA1590MI4G-447-28M-A\", \"orientation\": \"v\", \"showlegend\": true, \"type\": \"scatter\", \"x\": [10100, 34000], \"xaxis\": \"x\", \"y\": [0.2275, 0.239], \"yaxis\": \"y\"}, {\"hovertemplate\": \"\\u54c1\\u540d=PA1590MI4G-448-28M-A<br>\\u6578\\u91cf=%{x}<br>\\u55ae\\u50f9=%{y}<br>\\u672c\\u570b\\u5e63\\u5225NTD=%{marker.size}<extra></extra>\", \"legendgroup\": \"PA1590MI4G-448-28M-A\", \"marker\": {\"color\": \"#FF6692\", \"size\": [13563.3225, 115348.57], \"sizemode\": \"area\", \"sizeref\": 43806.83462499999, \"symbol\": \"circle\"}, \"mode\": \"markers\", \"name\": \"PA1590MI4G-448-28M-A\", \"orientation\": \"v\", \"showlegend\": true, \"type\": \"scatter\", \"x\": [2100, 17000], \"xaxis\": \"x\", \"y\": [0.2275, 0.239], \"yaxis\": \"y\"}, {\"hovertemplate\": \"\\u54c1\\u540d=PA1590MJ4G-221-26M<br>\\u6578\\u91cf=%{x}<br>\\u55ae\\u50f9=%{y}<br>\\u672c\\u570b\\u5e63\\u5225NTD=%{marker.size}<extra></extra>\", \"legendgroup\": \"PA1590MJ4G-221-26M\", \"marker\": {\"color\": \"#B6E880\", \"size\": [114624.625], \"sizemode\": \"area\", \"sizeref\": 43806.83462499999, \"symbol\": \"circle\"}, \"mode\": \"markers\", \"name\": \"PA1590MJ4G-221-26M\", \"orientation\": \"v\", \"showlegend\": true, \"type\": \"scatter\", \"x\": [17000], \"xaxis\": \"x\", \"y\": [0.2375], \"yaxis\": \"y\"}, {\"hovertemplate\": \"\\u54c1\\u540d=PA1590MJ4G-224-2SP<br>\\u6578\\u91cf=%{x}<br>\\u55ae\\u50f9=%{y}<br>\\u672c\\u570b\\u5e63\\u5225NTD=%{marker.size}<extra></extra>\", \"legendgroup\": \"PA1590MJ4G-224-2SP\", \"marker\": {\"color\": \"#FF97FF\", \"size\": [1024879.0], \"sizemode\": \"area\", \"sizeref\": 43806.83462499999, \"symbol\": \"circle\"}, \"mode\": \"markers\", \"name\": \"PA1590MJ4G-224-2SP\", \"orientation\": \"v\", \"showlegend\": true, \"type\": \"scatter\", \"x\": [152000], \"xaxis\": \"x\", \"y\": [0.2375], \"yaxis\": \"y\"}, {\"hovertemplate\": \"\\u54c1\\u540d=PA1590MS4G-102-1S<br>\\u6578\\u91cf=%{x}<br>\\u55ae\\u50f9=%{y}<br>\\u672c\\u570b\\u5e63\\u5225NTD=%{marker.size}<extra></extra>\", \"legendgroup\": \"PA1590MS4G-102-1S\", \"marker\": {\"color\": \"#FECB52\", \"size\": [46843.5], \"sizemode\": \"area\", \"sizeref\": 43806.83462499999, \"symbol\": \"circle\"}, \"mode\": \"markers\", \"name\": \"PA1590MS4G-102-1S\", \"orientation\": \"v\", \"showlegend\": true, \"type\": \"scatter\", \"x\": [5000], \"xaxis\": \"x\", \"y\": [0.33], \"yaxis\": \"y\"}, {\"hovertemplate\": \"\\u54c1\\u540d=PA1590MS4G-103-1SS<br>\\u6578\\u91cf=%{x}<br>\\u55ae\\u50f9=%{y}<br>\\u672c\\u570b\\u5e63\\u5225NTD=%{marker.size}<extra></extra>\", \"legendgroup\": \"PA1590MS4G-103-1SS\", \"marker\": {\"color\": \"#636efa\", \"size\": [254374.4], \"sizemode\": \"area\", \"sizeref\": 43806.83462499999, \"symbol\": \"circle\"}, \"mode\": \"markers\", \"name\": \"PA1590MS4G-103-1SS\", \"orientation\": \"v\", \"showlegend\": true, \"type\": \"scatter\", \"x\": [28000], \"xaxis\": \"x\", \"y\": [0.32], \"yaxis\": \"y\"}, {\"hovertemplate\": \"\\u54c1\\u540d=PA1590MS4G-103-SMD-M-A<br>\\u6578\\u91cf=%{x}<br>\\u55ae\\u50f9=%{y}<br>\\u672c\\u570b\\u5e63\\u5225NTD=%{marker.size}<extra></extra>\", \"legendgroup\": \"PA1590MS4G-103-SMD-M-A\", \"marker\": {\"color\": \"#EF553B\", \"size\": [661259.8799999999], \"sizemode\": \"area\", \"sizeref\": 43806.83462499999, \"symbol\": \"circle\"}, \"mode\": \"markers\", \"name\": \"PA1590MS4G-103-SMD-M-A\", \"orientation\": \"v\", \"showlegend\": true, \"type\": \"scatter\", \"x\": [64700], \"xaxis\": \"x\", \"y\": [0.36], \"yaxis\": \"y\"}, {\"hovertemplate\": \"\\u54c1\\u540d=PA1590MS4G-104-SMD-M-A<br>\\u6578\\u91cf=%{x}<br>\\u55ae\\u50f9=%{y}<br>\\u672c\\u570b\\u5e63\\u5225NTD=%{marker.size}<extra></extra>\", \"legendgroup\": \"PA1590MS4G-104-SMD-M-A\", \"marker\": {\"color\": \"#00cc96\", \"size\": [378438.69999999995, 1419.5], \"sizemode\": \"area\", \"sizeref\": 43806.83462499999, \"symbol\": \"circle\"}, \"mode\": \"markers\", \"name\": \"PA1590MS4G-104-SMD-M-A\", \"orientation\": \"v\", \"showlegend\": true, \"type\": \"scatter\", \"x\": [31000, 50], \"xaxis\": \"x\", \"y\": [0.43, 1.0], \"yaxis\": \"y\"}, {\"hovertemplate\": \"\\u54c1\\u540d=PA1598MI4G-487-17M<br>\\u6578\\u91cf=%{x}<br>\\u55ae\\u50f9=%{y}<br>\\u672c\\u570b\\u5e63\\u5225NTD=%{marker.size}<extra></extra>\", \"legendgroup\": \"PA1598MI4G-487-17M\", \"marker\": {\"color\": \"#ab63fa\", \"size\": [3861.04], \"sizemode\": \"area\", \"sizeref\": 43806.83462499999, \"symbol\": \"circle\"}, \"mode\": \"markers\", \"name\": \"PA1598MI4G-487-17M\", \"orientation\": \"v\", \"showlegend\": true, \"type\": \"scatter\", \"x\": [100], \"xaxis\": \"x\", \"y\": [1.36], \"yaxis\": \"y\"}, {\"hovertemplate\": \"\\u54c1\\u540d=PA1621MI4G-366-18M<br>\\u6578\\u91cf=%{x}<br>\\u55ae\\u50f9=%{y}<br>\\u672c\\u570b\\u5e63\\u5225NTD=%{marker.size}<extra></extra>\", \"legendgroup\": \"PA1621MI4G-366-18M\", \"marker\": {\"color\": \"#FFA15A\", \"size\": [1504.67], \"sizemode\": \"area\", \"sizeref\": 43806.83462499999, \"symbol\": \"circle\"}, \"mode\": \"markers\", \"name\": \"PA1621MI4G-366-18M\", \"orientation\": \"v\", \"showlegend\": true, \"type\": \"scatter\", \"x\": [100], \"xaxis\": \"x\", \"y\": [0.53], \"yaxis\": \"y\"}, {\"hovertemplate\": \"\\u54c1\\u540d=PA2195766-1I4H4G-106-1ZS-A<br>\\u6578\\u91cf=%{x}<br>\\u55ae\\u50f9=%{y}<br>\\u672c\\u570b\\u5e63\\u5225NTD=%{marker.size}<extra></extra>\", \"legendgroup\": \"PA2195766-1I4H4G-106-1ZS-A\", \"marker\": {\"color\": \"#19d3f3\", \"size\": [73016.064], \"sizemode\": \"area\", \"sizeref\": 43806.83462499999, \"symbol\": \"circle\"}, \"mode\": \"markers\", \"name\": \"PA2195766-1I4H4G-106-1ZS-A\", \"orientation\": \"v\", \"showlegend\": true, \"type\": \"scatter\", \"x\": [1152], \"xaxis\": \"x\", \"y\": [2.2], \"yaxis\": \"y\"}, {\"hovertemplate\": \"\\u54c1\\u540d=PA2195767-1I4H10G-103-1ZS-A<br>\\u6578\\u91cf=%{x}<br>\\u55ae\\u50f9=%{y}<br>\\u672c\\u570b\\u5e63\\u5225NTD=%{marker.size}<extra></extra>\", \"legendgroup\": \"PA2195767-1I4H10G-103-1ZS-A\", \"marker\": {\"color\": \"#FF6692\", \"size\": [120808.3968], \"sizemode\": \"area\", \"sizeref\": 43806.83462499999, \"symbol\": \"circle\"}, \"mode\": \"markers\", \"name\": \"PA2195767-1I4H10G-103-1ZS-A\", \"orientation\": \"v\", \"showlegend\": true, \"type\": \"scatter\", \"x\": [1152], \"xaxis\": \"x\", \"y\": [3.64], \"yaxis\": \"y\"}, {\"hovertemplate\": \"\\u54c1\\u540d=RFDPA141300SBLB803J4<br>\\u6578\\u91cf=%{x}<br>\\u55ae\\u50f9=%{y}<br>\\u672c\\u570b\\u5e63\\u5225NTD=%{marker.size}<extra></extra>\", \"legendgroup\": \"RFDPA141300SBLB803J4\", \"marker\": {\"color\": \"#B6E880\", \"size\": [2548286.4], \"sizemode\": \"area\", \"sizeref\": 43806.83462499999, \"symbol\": \"circle\"}, \"mode\": \"markers\", \"name\": \"RFDPA141300SBLB803J4\", \"orientation\": \"v\", \"showlegend\": true, \"type\": \"scatter\", \"x\": [66000], \"xaxis\": \"x\", \"y\": [1.36], \"yaxis\": \"y\"}, {\"hovertemplate\": \"\\u54c1\\u540d=RFDPA171300SBAB823J4<br>\\u6578\\u91cf=%{x}<br>\\u55ae\\u50f9=%{y}<br>\\u672c\\u570b\\u5e63\\u5225NTD=%{marker.size}<extra></extra>\", \"legendgroup\": \"RFDPA171300SBAB823J4\", \"marker\": {\"color\": \"#FF97FF\", \"size\": [9429738.499999993], \"sizemode\": \"area\", \"sizeref\": 43806.83462499999, \"symbol\": \"circle\"}, \"mode\": \"markers\", \"name\": \"RFDPA171300SBAB823J4\", \"orientation\": \"v\", \"showlegend\": true, \"type\": \"scatter\", \"x\": [455000], \"xaxis\": \"x\", \"y\": [0.73], \"yaxis\": \"y\"}, {\"hovertemplate\": \"\\u54c1\\u540d=RFDPA191300SMTB806J4<br>\\u6578\\u91cf=%{x}<br>\\u55ae\\u50f9=%{y}<br>\\u672c\\u570b\\u5e63\\u5225NTD=%{marker.size}<extra></extra>\", \"legendgroup\": \"RFDPA191300SMTB806J4\", \"marker\": {\"color\": \"#FECB52\", \"size\": [17522733.849999994], \"sizemode\": \"area\", \"sizeref\": 43806.83462499999, \"symbol\": \"circle\"}, \"mode\": \"markers\", \"name\": \"RFDPA191300SMTB806J4\", \"orientation\": \"v\", \"showlegend\": true, \"type\": \"scatter\", \"x\": [845500], \"xaxis\": \"x\", \"y\": [0.73], \"yaxis\": \"y\"}, {\"hovertemplate\": \"\\u54c1\\u540d=RFDPA30871ASBLBA01J4<br>\\u6578\\u91cf=%{x}<br>\\u55ae\\u50f9=%{y}<br>\\u672c\\u570b\\u5e63\\u5225NTD=%{marker.size}<extra></extra>\", \"legendgroup\": \"RFDPA30871ASBLBA01J4\", \"marker\": {\"color\": \"#636efa\", \"size\": [317968.0], \"sizemode\": \"area\", \"sizeref\": 43806.83462499999, \"symbol\": \"circle\"}, \"mode\": \"markers\", \"name\": \"RFDPA30871ASBLBA01J4\", \"orientation\": \"v\", \"showlegend\": true, \"type\": \"scatter\", \"x\": [10000], \"xaxis\": \"x\", \"y\": [1.12], \"yaxis\": \"y\"}, {\"hovertemplate\": \"\\u54c1\\u540d=WA-F-P5-03-005<br>\\u6578\\u91cf=%{x}<br>\\u55ae\\u50f9=%{y}<br>\\u672c\\u570b\\u5e63\\u5225NTD=%{marker.size}<extra></extra>\", \"legendgroup\": \"WA-F-P5-03-005\", \"marker\": {\"color\": \"#EF553B\", \"size\": [41335.840000000004], \"sizemode\": \"area\", \"sizeref\": 43806.83462499999, \"symbol\": \"circle\"}, \"mode\": \"markers\", \"name\": \"WA-F-P5-03-005\", \"orientation\": \"v\", \"showlegend\": true, \"type\": \"scatter\", \"x\": [1820], \"xaxis\": \"x\", \"y\": [0.8], \"yaxis\": \"y\"}, {\"hovertemplate\": \"\\u54c1\\u540d=WAG-P-LTE10-00-001<br>\\u6578\\u91cf=%{x}<br>\\u55ae\\u50f9=%{y}<br>\\u672c\\u570b\\u5e63\\u5225NTD=%{marker.size}<extra></extra>\", \"legendgroup\": \"WAG-P-LTE10-00-001\", \"marker\": {\"color\": \"#00cc96\", \"size\": [137975.40000000002], \"sizemode\": \"area\", \"sizeref\": 43806.83462499999, \"symbol\": \"circle\"}, \"mode\": \"markers\", \"name\": \"WAG-P-LTE10-00-001\", \"orientation\": \"v\", \"showlegend\": true, \"type\": \"scatter\", \"x\": [18000], \"xaxis\": \"x\", \"y\": [0.27], \"yaxis\": \"y\"}],                        {\"legend\": {\"itemsizing\": \"constant\", \"title\": {\"text\": \"\\u54c1\\u540d\"}, \"tracegroupgap\": 0}, \"shapes\": [{\"line\": {\"color\": \"salmon\", \"dash\": \"dot\", \"width\": 3}, \"opacity\": 1, \"type\": \"line\", \"x0\": 0, \"x1\": 1, \"xref\": \"paper\", \"y0\": 1.04, \"y1\": 1.04, \"yref\": \"y\"}, {\"line\": {\"color\": \"salmon\", \"dash\": \"dot\", \"width\": 3}, \"opacity\": 1, \"type\": \"line\", \"x0\": 97366.88, \"x1\": 97366.88, \"xref\": \"x\", \"y0\": 0, \"y1\": 1, \"yref\": \"paper\"}], \"template\": {\"data\": {\"bar\": [{\"error_x\": {\"color\": \"#2a3f5f\"}, \"error_y\": {\"color\": \"#2a3f5f\"}, \"marker\": {\"line\": {\"color\": \"#E5ECF6\", \"width\": 0.5}}, \"type\": \"bar\"}], \"barpolar\": [{\"marker\": {\"line\": {\"color\": \"#E5ECF6\", \"width\": 0.5}}, \"type\": \"barpolar\"}], \"carpet\": [{\"aaxis\": {\"endlinecolor\": \"#2a3f5f\", \"gridcolor\": \"white\", \"linecolor\": \"white\", \"minorgridcolor\": \"white\", \"startlinecolor\": \"#2a3f5f\"}, \"baxis\": {\"endlinecolor\": \"#2a3f5f\", \"gridcolor\": \"white\", \"linecolor\": \"white\", \"minorgridcolor\": \"white\", \"startlinecolor\": \"#2a3f5f\"}, \"type\": \"carpet\"}], \"choropleth\": [{\"colorbar\": {\"outlinewidth\": 0, \"ticks\": \"\"}, \"type\": \"choropleth\"}], \"contour\": [{\"colorbar\": {\"outlinewidth\": 0, \"ticks\": \"\"}, \"colorscale\": [[0.0, \"#0d0887\"], [0.1111111111111111, \"#46039f\"], [0.2222222222222222, \"#7201a8\"], [0.3333333333333333, \"#9c179e\"], [0.4444444444444444, \"#bd3786\"], [0.5555555555555556, \"#d8576b\"], [0.6666666666666666, \"#ed7953\"], [0.7777777777777778, \"#fb9f3a\"], [0.8888888888888888, \"#fdca26\"], [1.0, \"#f0f921\"]], \"type\": \"contour\"}], \"contourcarpet\": [{\"colorbar\": {\"outlinewidth\": 0, \"ticks\": \"\"}, \"type\": \"contourcarpet\"}], \"heatmap\": [{\"colorbar\": {\"outlinewidth\": 0, \"ticks\": \"\"}, \"colorscale\": [[0.0, \"#0d0887\"], [0.1111111111111111, \"#46039f\"], [0.2222222222222222, \"#7201a8\"], [0.3333333333333333, \"#9c179e\"], [0.4444444444444444, \"#bd3786\"], [0.5555555555555556, \"#d8576b\"], [0.6666666666666666, \"#ed7953\"], [0.7777777777777778, \"#fb9f3a\"], [0.8888888888888888, \"#fdca26\"], [1.0, \"#f0f921\"]], \"type\": \"heatmap\"}], \"heatmapgl\": [{\"colorbar\": {\"outlinewidth\": 0, \"ticks\": \"\"}, \"colorscale\": [[0.0, \"#0d0887\"], [0.1111111111111111, \"#46039f\"], [0.2222222222222222, \"#7201a8\"], [0.3333333333333333, \"#9c179e\"], [0.4444444444444444, \"#bd3786\"], [0.5555555555555556, \"#d8576b\"], [0.6666666666666666, \"#ed7953\"], [0.7777777777777778, \"#fb9f3a\"], [0.8888888888888888, \"#fdca26\"], [1.0, \"#f0f921\"]], \"type\": \"heatmapgl\"}], \"histogram\": [{\"marker\": {\"colorbar\": {\"outlinewidth\": 0, \"ticks\": \"\"}}, \"type\": \"histogram\"}], \"histogram2d\": [{\"colorbar\": {\"outlinewidth\": 0, \"ticks\": \"\"}, \"colorscale\": [[0.0, \"#0d0887\"], [0.1111111111111111, \"#46039f\"], [0.2222222222222222, \"#7201a8\"], [0.3333333333333333, \"#9c179e\"], [0.4444444444444444, \"#bd3786\"], [0.5555555555555556, \"#d8576b\"], [0.6666666666666666, \"#ed7953\"], [0.7777777777777778, \"#fb9f3a\"], [0.8888888888888888, \"#fdca26\"], [1.0, \"#f0f921\"]], \"type\": \"histogram2d\"}], \"histogram2dcontour\": [{\"colorbar\": {\"outlinewidth\": 0, \"ticks\": \"\"}, \"colorscale\": [[0.0, \"#0d0887\"], [0.1111111111111111, \"#46039f\"], [0.2222222222222222, \"#7201a8\"], [0.3333333333333333, \"#9c179e\"], [0.4444444444444444, \"#bd3786\"], [0.5555555555555556, \"#d8576b\"], [0.6666666666666666, \"#ed7953\"], [0.7777777777777778, \"#fb9f3a\"], [0.8888888888888888, \"#fdca26\"], [1.0, \"#f0f921\"]], \"type\": \"histogram2dcontour\"}], \"mesh3d\": [{\"colorbar\": {\"outlinewidth\": 0, \"ticks\": \"\"}, \"type\": \"mesh3d\"}], \"parcoords\": [{\"line\": {\"colorbar\": {\"outlinewidth\": 0, \"ticks\": \"\"}}, \"type\": \"parcoords\"}], \"pie\": [{\"automargin\": true, \"type\": \"pie\"}], \"scatter\": [{\"marker\": {\"colorbar\": {\"outlinewidth\": 0, \"ticks\": \"\"}}, \"type\": \"scatter\"}], \"scatter3d\": [{\"line\": {\"colorbar\": {\"outlinewidth\": 0, \"ticks\": \"\"}}, \"marker\": {\"colorbar\": {\"outlinewidth\": 0, \"ticks\": \"\"}}, \"type\": \"scatter3d\"}], \"scattercarpet\": [{\"marker\": {\"colorbar\": {\"outlinewidth\": 0, \"ticks\": \"\"}}, \"type\": \"scattercarpet\"}], \"scattergeo\": [{\"marker\": {\"colorbar\": {\"outlinewidth\": 0, \"ticks\": \"\"}}, \"type\": \"scattergeo\"}], \"scattergl\": [{\"marker\": {\"colorbar\": {\"outlinewidth\": 0, \"ticks\": \"\"}}, \"type\": \"scattergl\"}], \"scattermapbox\": [{\"marker\": {\"colorbar\": {\"outlinewidth\": 0, \"ticks\": \"\"}}, \"type\": \"scattermapbox\"}], \"scatterpolar\": [{\"marker\": {\"colorbar\": {\"outlinewidth\": 0, \"ticks\": \"\"}}, \"type\": \"scatterpolar\"}], \"scatterpolargl\": [{\"marker\": {\"colorbar\": {\"outlinewidth\": 0, \"ticks\": \"\"}}, \"type\": \"scatterpolargl\"}], \"scatterternary\": [{\"marker\": {\"colorbar\": {\"outlinewidth\": 0, \"ticks\": \"\"}}, \"type\": \"scatterternary\"}], \"surface\": [{\"colorbar\": {\"outlinewidth\": 0, \"ticks\": \"\"}, \"colorscale\": [[0.0, \"#0d0887\"], [0.1111111111111111, \"#46039f\"], [0.2222222222222222, \"#7201a8\"], [0.3333333333333333, \"#9c179e\"], [0.4444444444444444, \"#bd3786\"], [0.5555555555555556, \"#d8576b\"], [0.6666666666666666, \"#ed7953\"], [0.7777777777777778, \"#fb9f3a\"], [0.8888888888888888, \"#fdca26\"], [1.0, \"#f0f921\"]], \"type\": \"surface\"}], \"table\": [{\"cells\": {\"fill\": {\"color\": \"#EBF0F8\"}, \"line\": {\"color\": \"white\"}}, \"header\": {\"fill\": {\"color\": \"#C8D4E3\"}, \"line\": {\"color\": \"white\"}}, \"type\": \"table\"}]}, \"layout\": {\"annotationdefaults\": {\"arrowcolor\": \"#2a3f5f\", \"arrowhead\": 0, \"arrowwidth\": 1}, \"coloraxis\": {\"colorbar\": {\"outlinewidth\": 0, \"ticks\": \"\"}}, \"colorscale\": {\"diverging\": [[0, \"#8e0152\"], [0.1, \"#c51b7d\"], [0.2, \"#de77ae\"], [0.3, \"#f1b6da\"], [0.4, \"#fde0ef\"], [0.5, \"#f7f7f7\"], [0.6, \"#e6f5d0\"], [0.7, \"#b8e186\"], [0.8, \"#7fbc41\"], [0.9, \"#4d9221\"], [1, \"#276419\"]], \"sequential\": [[0.0, \"#0d0887\"], [0.1111111111111111, \"#46039f\"], [0.2222222222222222, \"#7201a8\"], [0.3333333333333333, \"#9c179e\"], [0.4444444444444444, \"#bd3786\"], [0.5555555555555556, \"#d8576b\"], [0.6666666666666666, \"#ed7953\"], [0.7777777777777778, \"#fb9f3a\"], [0.8888888888888888, \"#fdca26\"], [1.0, \"#f0f921\"]], \"sequentialminus\": [[0.0, \"#0d0887\"], [0.1111111111111111, \"#46039f\"], [0.2222222222222222, \"#7201a8\"], [0.3333333333333333, \"#9c179e\"], [0.4444444444444444, \"#bd3786\"], [0.5555555555555556, \"#d8576b\"], [0.6666666666666666, \"#ed7953\"], [0.7777777777777778, \"#fb9f3a\"], [0.8888888888888888, \"#fdca26\"], [1.0, \"#f0f921\"]]}, \"colorway\": [\"#636efa\", \"#EF553B\", \"#00cc96\", \"#ab63fa\", \"#FFA15A\", \"#19d3f3\", \"#FF6692\", \"#B6E880\", \"#FF97FF\", \"#FECB52\"], \"font\": {\"color\": \"#2a3f5f\"}, \"geo\": {\"bgcolor\": \"white\", \"lakecolor\": \"white\", \"landcolor\": \"#E5ECF6\", \"showlakes\": true, \"showland\": true, \"subunitcolor\": \"white\"}, \"hoverlabel\": {\"align\": \"left\"}, \"hovermode\": \"closest\", \"mapbox\": {\"style\": \"light\"}, \"paper_bgcolor\": \"white\", \"plot_bgcolor\": \"#E5ECF6\", \"polar\": {\"angularaxis\": {\"gridcolor\": \"white\", \"linecolor\": \"white\", \"ticks\": \"\"}, \"bgcolor\": \"#E5ECF6\", \"radialaxis\": {\"gridcolor\": \"white\", \"linecolor\": \"white\", \"ticks\": \"\"}}, \"scene\": {\"xaxis\": {\"backgroundcolor\": \"#E5ECF6\", \"gridcolor\": \"white\", \"gridwidth\": 2, \"linecolor\": \"white\", \"showbackground\": true, \"ticks\": \"\", \"zerolinecolor\": \"white\"}, \"yaxis\": {\"backgroundcolor\": \"#E5ECF6\", \"gridcolor\": \"white\", \"gridwidth\": 2, \"linecolor\": \"white\", \"showbackground\": true, \"ticks\": \"\", \"zerolinecolor\": \"white\"}, \"zaxis\": {\"backgroundcolor\": \"#E5ECF6\", \"gridcolor\": \"white\", \"gridwidth\": 2, \"linecolor\": \"white\", \"showbackground\": true, \"ticks\": \"\", \"zerolinecolor\": \"white\"}}, \"shapedefaults\": {\"line\": {\"color\": \"#2a3f5f\"}}, \"ternary\": {\"aaxis\": {\"gridcolor\": \"white\", \"linecolor\": \"white\", \"ticks\": \"\"}, \"baxis\": {\"gridcolor\": \"white\", \"linecolor\": \"white\", \"ticks\": \"\"}, \"bgcolor\": \"#E5ECF6\", \"caxis\": {\"gridcolor\": \"white\", \"linecolor\": \"white\", \"ticks\": \"\"}}, \"title\": {\"x\": 0.05}, \"xaxis\": {\"automargin\": true, \"gridcolor\": \"white\", \"linecolor\": \"white\", \"ticks\": \"\", \"title\": {\"standoff\": 15}, \"zerolinecolor\": \"white\", \"zerolinewidth\": 2}, \"yaxis\": {\"automargin\": true, \"gridcolor\": \"white\", \"linecolor\": \"white\", \"ticks\": \"\", \"title\": {\"standoff\": 15}, \"zerolinecolor\": \"white\", \"zerolinewidth\": 2}}}, \"title\": {\"text\": \"\\u7522\\u54c1\\u8c61\\u9650\\u5716\"}, \"xaxis\": {\"anchor\": \"y\", \"domain\": [0.0, 1.0], \"title\": {\"text\": \"\\u6578\\u91cf\"}}, \"yaxis\": {\"anchor\": \"x\", \"domain\": [0.0, 1.0], \"showgrid\": true, \"tickprefix\": \"$\", \"title\": {\"text\": \"\\u55ae\\u50f9\"}}},                        {\"responsive\": true}                    ).then(function(){\n",
       "                            \n",
       "var gd = document.getElementById('7ba8a818-7488-4889-ba3d-673499d97982');\n",
       "var x = new MutationObserver(function (mutations, observer) {{\n",
       "        var display = window.getComputedStyle(gd).display;\n",
       "        if (!display || display === 'none') {{\n",
       "            console.log([gd, 'removed!']);\n",
       "            Plotly.purge(gd);\n",
       "            observer.disconnect();\n",
       "        }}\n",
       "}});\n",
       "\n",
       "// Listen for the removal of the full notebook cells\n",
       "var notebookContainer = gd.closest('#notebook-container');\n",
       "if (notebookContainer) {{\n",
       "    x.observe(notebookContainer, {childList: true});\n",
       "}}\n",
       "\n",
       "// Listen for the clearing of the current output cell\n",
       "var outputEl = gd.closest('.output');\n",
       "if (outputEl) {{\n",
       "    x.observe(outputEl, {childList: true});\n",
       "}}\n",
       "\n",
       "                        })                };                });            </script>        </div>"
      ]
     },
     "metadata": {},
     "output_type": "display_data"
    }
   ],
   "source": [
    "fig = px.scatter(wip, x='數量', y='單價', size='本國幣別NTD', color='品名', title='產品象限圖')\n",
    "fig.update_yaxes(tickprefix='$', showgrid=True)\n",
    "fig.add_shape( # add a horizontal \"target\" line\n",
    "    type=\"line\", line_color=\"salmon\", line_width=3, opacity=1, line_dash=\"dot\",\n",
    "    x0=0, x1=1, xref=\"paper\", y0=med_price, y1=med_price, yref=\"y\"\n",
    ")\n",
    "fig.add_shape( # add a vertical \"target\" line\n",
    "    type=\"line\", line_color=\"salmon\", line_width=3, opacity=1, line_dash=\"dot\",\n",
    "    x0=med_qty, x1=med_qty, xref=\"x\", y0=0, y1=1, yref=\"paper\"\n",
    ")"
   ]
  },
  {
   "cell_type": "code",
   "execution_count": 4,
   "metadata": {},
   "outputs": [
    {
     "name": "stdout",
     "output_type": "stream",
     "text": [
      "1 Dashboard\n",
      "2 元件天線客戶貢獻度\n",
      "3 各年份實績樞紐流動\n",
      "4 20192020實績折線圖\n",
      "5 2020累積實績固定\n",
      "6 固定實績樞紐\n",
      "7 2020預算固定表\n",
      "8 2020預算流動\n",
      "9 Amber週報用預算\n",
      "10 全年預算by person\n",
      "11 2020預算\n",
      "12 客戶 年份樞紐\n",
      "13 各類別圓餅圖\n",
      "14 業務實績排名\n",
      "15 各客戶成長率\n",
      "16 Weekly report\n",
      "17 週報更新用樞紐\n",
      "18 Amber週報用格式\n",
      "19 天線出貨量樞紐\n",
      "20 元件出貨量直條圖\n",
      "21 Allison客戶樞紐\n",
      "22 給二廠的Teltonika數據\n",
      "23 每月15號左右給Wiley的圖表\n",
      "24 固定天線當月實績\n",
      "25 LF ODM\n",
      "26 總實績表格for Amber\n",
      "27 出貨明細\n",
      "28 差異分析用樞紐\n",
      "29 2021業績總表 (2) Mohan+Kai Edited\n",
      "30 工作表3\n",
      "31 Wurth開會報告用\n",
      "32 分類命名表\n",
      "33 工作表1\n",
      "34 成長率byBG\n",
      "35 2021預算固定表\n",
      "36 2021預算流動\n",
      "37 華新科By BU分析\n",
      "38 20210126預算調整\n",
      "39 2021預算總表\n",
      "40 2021年實績預算達成率\n",
      "請輸入要開啟的sheet編號：\n",
      "27\n"
     ]
    }
   ],
   "source": [
    "df = WeeklyReport()"
   ]
  },
  {
   "cell_type": "code",
   "execution_count": null,
   "metadata": {},
   "outputs": [],
   "source": [
    "class SampleTracking:\n",
    "    def __init__(self):\n",
    "        pass"
   ]
  },
  {
   "cell_type": "code",
   "execution_count": null,
   "metadata": {},
   "outputs": [],
   "source": [
    "# 將ipynb轉py要寫下面的程式碼\n",
    "!jupyter nbconvert --to script office_assistant.ipynb "
   ]
  },
  {
   "cell_type": "code",
   "execution_count": null,
   "metadata": {},
   "outputs": [],
   "source": []
  }
 ],
 "metadata": {
  "kernelspec": {
   "display_name": "Python 3",
   "language": "python",
   "name": "python3"
  },
  "language_info": {
   "codemirror_mode": {
    "name": "ipython",
    "version": 3
   },
   "file_extension": ".py",
   "mimetype": "text/x-python",
   "name": "python",
   "nbconvert_exporter": "python",
   "pygments_lexer": "ipython3",
   "version": "3.8.5"
  }
 },
 "nbformat": 4,
 "nbformat_minor": 4
}
