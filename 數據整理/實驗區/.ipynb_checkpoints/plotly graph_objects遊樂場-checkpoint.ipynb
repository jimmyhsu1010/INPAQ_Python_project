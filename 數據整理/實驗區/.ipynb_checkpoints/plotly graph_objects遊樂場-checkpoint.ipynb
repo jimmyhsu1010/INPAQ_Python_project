{
 "cells": [
  {
   "cell_type": "code",
   "execution_count": null,
   "metadata": {},
   "outputs": [],
   "source": [
    "import pandas as pd\n",
    "import plotly.graph_objects as go\n",
    "from plotly.subplots import make_subplots\n",
    "import tkinter as tk\n",
    "from tkinter import filedialog"
   ]
  },
  {
   "cell_type": "code",
   "execution_count": null,
   "metadata": {},
   "outputs": [],
   "source": [
    "def slc_sheet():\n",
    "    root = tk.Tk()\n",
    "    root.withdraw()\n",
    "    path = filedialog.askopenfilename()\n",
    "    df = pd.read_excel(path, None)\n",
    "    \n",
    "    sheet_dict = {}\n",
    "    for k, v in enumerate(df.keys()):\n",
    "        print(k+1, v)\n",
    "        sheet_dict.setdefault(k+1, v)\n",
    "    slctd = eval(input(\"請輸入您要選擇的工作頁：\\n\"))\n",
    "    slctd = sheet_dict[slctd]\n",
    "    df = df[slctd]\n",
    "    return df\n",
    "    "
   ]
  },
  {
   "cell_type": "code",
   "execution_count": null,
   "metadata": {},
   "outputs": [],
   "source": [
    "df = slc_sheet()"
   ]
  },
  {
   "cell_type": "code",
   "execution_count": null,
   "metadata": {},
   "outputs": [],
   "source": [
    "test = df[[\"BG\", \"Group\", \"銷售單號\", \"銷售項次\", \"預交日期\", \"負責業務\", \"品名\", \"數量\", \"本國幣別NTD\"]]"
   ]
  },
  {
   "cell_type": "code",
   "execution_count": null,
   "metadata": {},
   "outputs": [],
   "source": [
    "fig = go.Figure(data=[go.Table(header=dict(values=list(test.columns)), cells=dict(values=[df[\"BG\"], df[\"Group\"], df[\"銷售單號\"], df[\"銷售項次\"], df[\"預交日期\"] ,df[\"負責業務\"], df[\"品名\"],df[\"數量\"], df[\"本國幣別NTD\"]]))])"
   ]
  },
  {
   "cell_type": "code",
   "execution_count": null,
   "metadata": {},
   "outputs": [],
   "source": [
    "fig.show()"
   ]
  }
 ],
 "metadata": {
  "kernelspec": {
   "display_name": "Python 3",
   "language": "python",
   "name": "python3"
  },
  "language_info": {
   "codemirror_mode": {
    "name": "ipython",
    "version": 3
   },
   "file_extension": ".py",
   "mimetype": "text/x-python",
   "name": "python",
   "nbconvert_exporter": "python",
   "pygments_lexer": "ipython3",
   "version": "3.8.5"
  }
 },
 "nbformat": 4,
 "nbformat_minor": 4
}
