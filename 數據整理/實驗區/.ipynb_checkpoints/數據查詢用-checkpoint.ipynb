{
 "cells": [
  {
   "cell_type": "code",
   "execution_count": 16,
   "metadata": {},
   "outputs": [],
   "source": [
    "import pandas as pd\n",
    "pd.set_option('display.float_format', lambda x: '%.0f' % x)\n",
    "pd.set_option('display.max_columns', None)\n",
    "import plotly.express as px"
   ]
  },
  {
   "cell_type": "code",
   "execution_count": 2,
   "metadata": {},
   "outputs": [],
   "source": [
    "import tkinter as tk\n",
    "from tkinter import filedialog"
   ]
  },
  {
   "cell_type": "code",
   "execution_count": 3,
   "metadata": {},
   "outputs": [],
   "source": [
    "def get_path():\n",
    "    root = tk.Tk()\n",
    "    root.withdraw()\n",
    "    path = filedialog.askopenfilename()\n",
    "    return path"
   ]
  },
  {
   "cell_type": "code",
   "execution_count": 7,
   "metadata": {},
   "outputs": [],
   "source": [
    "def get_sheet(path):\n",
    "    df = pd.read_excel(path, None)\n",
    "    sheet_dict = {}\n",
    "    for i, j in enumerate(df.keys()):\n",
    "        print(i, j, sep='\\t')\n",
    "        sheet_dict.setdefault(i, j)\n",
    "    sheet = eval(input('Please enter the sheet number to open:\\n'))\n",
    "    df = df[sheet_dict[sheet]]\n",
    "    return df"
   ]
  },
  {
   "cell_type": "code",
   "execution_count": 5,
   "metadata": {},
   "outputs": [],
   "source": [
    "path = get_path()"
   ]
  },
  {
   "cell_type": "code",
   "execution_count": 8,
   "metadata": {},
   "outputs": [
    {
     "name": "stdout",
     "output_type": "stream",
     "text": [
      "0\tDashboard\n",
      "1\t元件天線客戶貢獻度\n",
      "2\t各年份實績樞紐流動\n",
      "3\t20192020實績折線圖\n",
      "4\t2020累積實績固定\n",
      "5\t固定實績樞紐\n",
      "6\t2020預算固定表\n",
      "7\t2020預算流動\n",
      "8\tAmber週報用預算\n",
      "9\t全年預算by person\n",
      "10\t2020預算\n",
      "11\t客戶 年份樞紐\n",
      "12\t各類別圓餅圖\n",
      "13\t業務實績排名\n",
      "14\t各客戶成長率\n",
      "15\tWeekly report\n",
      "16\t週報更新用樞紐\n",
      "17\tAmber週報用格式\n",
      "18\t天線出貨量樞紐\n",
      "19\t元件出貨量直條圖\n",
      "20\t2021預算流動\n",
      "21\tAllison客戶樞紐\n",
      "22\t給二廠的Teltonika數據\n",
      "23\t每月15號左右給Wiley的圖表\n",
      "24\t固定天線當月實績\n",
      "25\tLF ODM\n",
      "26\t總實績表格for Amber\n",
      "27\t出貨明細\n",
      "28\t差異分析用樞紐\n",
      "29\t2021業績總表 (2) Mohan+Kai Edited\n",
      "30\t工作表3\n",
      "31\tWurth開會報告用\n",
      "32\t分類命名表\n",
      "33\t工作表1\n",
      "34\t成長率byBG\n",
      "35\t2021預算固定表\n",
      "36\t華新科By BU分析\n",
      "37\t20210126預算調整\n",
      "38\t2021業績計算用預算樞紐\n",
      "39\t2021預算總表\n",
      "40\t2021年實績預算達成率\n",
      "Please enter the sheet number to open:\n",
      "27\n"
     ]
    }
   ],
   "source": [
    "df = get_sheet(path)"
   ]
  },
  {
   "cell_type": "code",
   "execution_count": 17,
   "metadata": {},
   "outputs": [],
   "source": [
    "teltonika = df[(df['狀態'].str.contains('未出')) & (df['Group'] == 'TELTONIKA') & (df['BG'] == 'RF') & (~df['出通單號'].notna()) & (~df['品名'].str.contains('RFDPA'))]"
   ]
  },
  {
   "cell_type": "code",
   "execution_count": 25,
   "metadata": {},
   "outputs": [],
   "source": [
    "result = teltonika.groupby([pd.Grouper(key='預交日期', freq='M'), 'Group', '品名', 'Subcategory', '銷售單號', '開單日期'])[['數量']].sum().reset_index()"
   ]
  },
  {
   "cell_type": "code",
   "execution_count": 30,
   "metadata": {},
   "outputs": [],
   "source": [
    "result['Month'] = result['預交日期'].dt.month_name()"
   ]
  },
  {
   "cell_type": "code",
   "execution_count": 38,
   "metadata": {},
   "outputs": [],
   "source": [
    "result = result[~result['品名'].str.contains('DAM')]"
   ]
  },
  {
   "cell_type": "code",
   "execution_count": 64,
   "metadata": {
    "scrolled": true
   },
   "outputs": [],
   "source": [
    "fig = px.histogram(result, x='Month', y='數量', color='Subcategory', title='TELTONIKA shipment plan in the following months', labels=dict(Subcategory='Type', 數量='Qty.'))"
   ]
  },
  {
   "cell_type": "code",
   "execution_count": 62,
   "metadata": {},
   "outputs": [],
   "source": [
    "table = result.style.format({'預交日期': '{:%Y-%m}', '開單日期': '{:%Y-%m-%d}', '數量': '{:,.0f}'}).hide_index().set_caption('TELTONIKA在途訂單各月未交數量')"
   ]
  },
  {
   "cell_type": "code",
   "execution_count": 66,
   "metadata": {},
   "outputs": [],
   "source": [
    "with open('Teltonika_shipment_plan.html', 'w') as f:\n",
    "    f.write(table.render())\n",
    "    f.write(fig.to_html(full_html=False, include_plotlyjs='cdn'))\n",
    "    f.close()"
   ]
  },
  {
   "cell_type": "code",
   "execution_count": 68,
   "metadata": {},
   "outputs": [],
   "source": [
    "result.to_excel(r\"C:\\Users\\kaihsu\\Desktop\\teltonika_shipment_plan.xlsx\", index=False)"
   ]
  },
  {
   "cell_type": "code",
   "execution_count": 85,
   "metadata": {
    "scrolled": true
   },
   "outputs": [
    {
     "data": {
      "text/plain": [
       "array(['GPSGLONASSU10N-N6-0022-A', 'GPSGLONASSU10N-N6-0420-A'],\n",
       "      dtype=object)"
      ]
     },
     "execution_count": 85,
     "metadata": {},
     "output_type": "execute_result"
    }
   ],
   "source": [
    "df[(df['Group'] == 'TELTONIKA') & (~df['品名'].str.contains('PA|RFDP|DAM')) & (df['BG'] == 'RF')]['品名'].unique()"
   ]
  },
  {
   "cell_type": "code",
   "execution_count": null,
   "metadata": {},
   "outputs": [],
   "source": [
    "from etl_tools import select_sheet"
   ]
  },
  {
   "cell_type": "code",
   "execution_count": null,
   "metadata": {},
   "outputs": [],
   "source": [
    "df = select_sheet()"
   ]
  },
  {
   "cell_type": "code",
   "execution_count": null,
   "metadata": {},
   "outputs": [],
   "source": [
    "result = df[(df[\"BG\"] == \"RF\") & (df[\"Group\"] == \"TELTONIKA\") & (df[\"狀態\"].str.contains(\"出\")) & (df[\"預交年份\"] == 2021) & (df[\"預交日期\"] >= \"2021-03-01\") & (df[\"品名\"].isin([\"RFDPA191300SMTB806J4\", \"RFDPA171300SBAB823J4\", \"RFDPA141300SBLB803J4\", \"RFDPA141300SBLB803J4\"]))]"
   ]
  },
  {
   "cell_type": "code",
   "execution_count": null,
   "metadata": {
    "scrolled": true
   },
   "outputs": [],
   "source": [
    "result = result.pivot_table(index=\"品名\", values=\"數量\", columns=\"預交日期\")"
   ]
  },
  {
   "cell_type": "code",
   "execution_count": null,
   "metadata": {},
   "outputs": [],
   "source": [
    "result = pd.DataFrame(result.to_records())"
   ]
  },
  {
   "cell_type": "code",
   "execution_count": null,
   "metadata": {},
   "outputs": [],
   "source": [
    "result.columns = ['品名', '2021-03-09', '2021-03-26',\n",
    "       '2021-04-02', '2021-04-26', '2021-05-07']"
   ]
  },
  {
   "cell_type": "code",
   "execution_count": null,
   "metadata": {
    "scrolled": false
   },
   "outputs": [],
   "source": [
    "result.style.format({\"2021-03-09\":\"{:,.0f}\", \"2021-03-26\":\"{:,.0f}\", \"2021-04-02\":\"{:,.0f}\", \"2021-04-26\":\"{:,.0f}\", \"2021-05-07\":\"{:,.0f}\"})"
   ]
  },
  {
   "cell_type": "code",
   "execution_count": null,
   "metadata": {
    "scrolled": true
   },
   "outputs": [],
   "source": [
    "a, b, c = map(int, input(\"enter somthing\").split())"
   ]
  },
  {
   "cell_type": "code",
   "execution_count": null,
   "metadata": {},
   "outputs": [],
   "source": [
    "wip = df[(df[\"BG\"] == \"WIP\") & (df[\"狀態\"].str.contains(\"出\")) & (df[\"預交年份\"] == 2021) & (df[\"預交月份\"] == \"March\")]"
   ]
  },
  {
   "cell_type": "code",
   "execution_count": null,
   "metadata": {},
   "outputs": [],
   "source": [
    "wip = wip.pivot_table(index=[\"負責業務\", \"Group\"], values=\"本國幣別NTD\", aggfunc=\"sum\", margins=True, margins_name=\"總計\").reset_index()"
   ]
  },
  {
   "cell_type": "code",
   "execution_count": null,
   "metadata": {},
   "outputs": [],
   "source": [
    "wip.style.format({\"本國幣別NTD\":\"{:,.0f}\"}).hide_index().set_caption(\"2021年3月份WIP實績\")"
   ]
  }
 ],
 "metadata": {
  "kernelspec": {
   "display_name": "Python 3",
   "language": "python",
   "name": "python3"
  },
  "language_info": {
   "codemirror_mode": {
    "name": "ipython",
    "version": 3
   },
   "file_extension": ".py",
   "mimetype": "text/x-python",
   "name": "python",
   "nbconvert_exporter": "python",
   "pygments_lexer": "ipython3",
   "version": "3.8.5"
  }
 },
 "nbformat": 4,
 "nbformat_minor": 4
}
