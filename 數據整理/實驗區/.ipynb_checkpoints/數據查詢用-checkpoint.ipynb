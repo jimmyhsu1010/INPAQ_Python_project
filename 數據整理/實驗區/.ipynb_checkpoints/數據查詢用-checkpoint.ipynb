{
 "cells": [
  {
   "cell_type": "code",
   "execution_count": 1,
   "metadata": {},
   "outputs": [],
   "source": [
    "import pandas as pd\n",
    "pd.set_option('display.float_format', lambda x: '%.0f' % x)\n",
    "pd.set_option('display.max_columns', None)\n",
    "import plotly.express as px"
   ]
  },
  {
   "cell_type": "code",
   "execution_count": null,
   "metadata": {},
   "outputs": [],
   "source": [
    "import tkinter as tk\n",
    "from tkinter import filedialog"
   ]
  },
  {
   "cell_type": "code",
   "execution_count": null,
   "metadata": {},
   "outputs": [],
   "source": [
    "def get_path():\n",
    "    root = tk.Tk()\n",
    "    root.withdraw()\n",
    "    path = filedialog.askopenfilename()\n",
    "    return path"
   ]
  },
  {
   "cell_type": "code",
   "execution_count": null,
   "metadata": {},
   "outputs": [],
   "source": [
    "def get_sheet(path):\n",
    "    df = pd.read_excel(path, None)\n",
    "    sheet_dict = {}\n",
    "    for i, j in enumerate(df.keys()):\n",
    "        print(i, j, sep='\\t')\n",
    "        sheet_dict.setdefault(i, j)\n",
    "    sheet = eval(input('Please enter the sheet number to open:\\n'))\n",
    "    df = df[sheet_dict[sheet]]\n",
    "    return df"
   ]
  },
  {
   "cell_type": "code",
   "execution_count": null,
   "metadata": {},
   "outputs": [],
   "source": [
    "path = get_path()"
   ]
  },
  {
   "cell_type": "code",
   "execution_count": null,
   "metadata": {},
   "outputs": [],
   "source": [
    "df = get_sheet(path)"
   ]
  },
  {
   "cell_type": "code",
   "execution_count": null,
   "metadata": {},
   "outputs": [],
   "source": [
    "teltonika = df[(df['狀態'].str.contains('未出')) & (df['Group'] == 'TELTONIKA') & (df['BG'] == 'RF') & (~df['出通單號'].notna()) & (~df['品名'].str.contains('RFDPA'))]"
   ]
  },
  {
   "cell_type": "code",
   "execution_count": null,
   "metadata": {},
   "outputs": [],
   "source": [
    "result = teltonika.groupby([pd.Grouper(key='預交日期', freq='M'), 'Group', '品名', 'Subcategory', '銷售單號', '開單日期'])[['數量']].sum().reset_index()"
   ]
  },
  {
   "cell_type": "code",
   "execution_count": null,
   "metadata": {},
   "outputs": [],
   "source": [
    "result['Month'] = result['預交日期'].dt.month_name()"
   ]
  },
  {
   "cell_type": "code",
   "execution_count": null,
   "metadata": {},
   "outputs": [],
   "source": [
    "result = result[~result['品名'].str.contains('DAM')]"
   ]
  },
  {
   "cell_type": "code",
   "execution_count": null,
   "metadata": {
    "scrolled": true
   },
   "outputs": [],
   "source": [
    "fig = px.histogram(result, x='Month', y='數量', color='Subcategory', title='TELTONIKA shipment plan in the following months', labels=dict(Subcategory='Type', 數量='Qty.'))"
   ]
  },
  {
   "cell_type": "code",
   "execution_count": null,
   "metadata": {},
   "outputs": [],
   "source": [
    "table = result.style.format({'預交日期': '{:%Y-%m}', '開單日期': '{:%Y-%m-%d}', '數量': '{:,.0f}'}).hide_index().set_caption('TELTONIKA在途訂單各月未交數量')"
   ]
  },
  {
   "cell_type": "code",
   "execution_count": null,
   "metadata": {},
   "outputs": [],
   "source": [
    "with open('Teltonika_shipment_plan.html', 'w') as f:\n",
    "    f.write(table.render())\n",
    "    f.write(fig.to_html(full_html=False, include_plotlyjs='cdn'))\n",
    "    f.close()"
   ]
  },
  {
   "cell_type": "code",
   "execution_count": null,
   "metadata": {},
   "outputs": [],
   "source": [
    "result.to_excel(r\"C:\\Users\\kaihsu\\Desktop\\teltonika_shipment_plan.xlsx\", index=False)"
   ]
  },
  {
   "cell_type": "code",
   "execution_count": null,
   "metadata": {
    "scrolled": true
   },
   "outputs": [],
   "source": [
    "df[(df['Group'] == 'TELTONIKA') & (~df['品名'].str.contains('PA|RFDP|DAM')) & (df['BG'] == 'RF')]['品名'].unique()"
   ]
  },
  {
   "cell_type": "code",
   "execution_count": null,
   "metadata": {},
   "outputs": [],
   "source": [
    "from etl_tools import select_sheet"
   ]
  },
  {
   "cell_type": "code",
   "execution_count": null,
   "metadata": {},
   "outputs": [],
   "source": [
    "df = select_sheet()"
   ]
  },
  {
   "cell_type": "code",
   "execution_count": null,
   "metadata": {},
   "outputs": [],
   "source": [
    "result = df[(df[\"BG\"] == \"RF\") & (df[\"Group\"] == \"TELTONIKA\") & (df[\"狀態\"].str.contains(\"出\")) & (df[\"預交年份\"] == 2021) & (df[\"預交日期\"] >= \"2021-03-01\") & (df[\"品名\"].isin([\"RFDPA191300SMTB806J4\", \"RFDPA171300SBAB823J4\", \"RFDPA141300SBLB803J4\", \"RFDPA141300SBLB803J4\"]))]"
   ]
  },
  {
   "cell_type": "code",
   "execution_count": null,
   "metadata": {
    "scrolled": true
   },
   "outputs": [],
   "source": [
    "result = result.pivot_table(index=\"品名\", values=\"數量\", columns=\"預交日期\")"
   ]
  },
  {
   "cell_type": "code",
   "execution_count": null,
   "metadata": {},
   "outputs": [],
   "source": [
    "result = pd.DataFrame(result.to_records())"
   ]
  },
  {
   "cell_type": "code",
   "execution_count": null,
   "metadata": {},
   "outputs": [],
   "source": [
    "result.columns = ['品名', '2021-03-09', '2021-03-26',\n",
    "       '2021-04-02', '2021-04-26', '2021-05-07']"
   ]
  },
  {
   "cell_type": "code",
   "execution_count": null,
   "metadata": {
    "scrolled": false
   },
   "outputs": [],
   "source": [
    "result.style.format({\"2021-03-09\":\"{:,.0f}\", \"2021-03-26\":\"{:,.0f}\", \"2021-04-02\":\"{:,.0f}\", \"2021-04-26\":\"{:,.0f}\", \"2021-05-07\":\"{:,.0f}\"})"
   ]
  },
  {
   "cell_type": "code",
   "execution_count": null,
   "metadata": {
    "scrolled": true
   },
   "outputs": [],
   "source": [
    "a, b, c = map(int, input(\"enter somthing\").split())"
   ]
  },
  {
   "cell_type": "code",
   "execution_count": null,
   "metadata": {},
   "outputs": [],
   "source": [
    "wip = df[(df[\"BG\"] == \"WIP\") & (df[\"狀態\"].str.contains(\"出\")) & (df[\"預交年份\"] == 2021) & (df[\"預交月份\"] == \"March\")]"
   ]
  },
  {
   "cell_type": "code",
   "execution_count": null,
   "metadata": {},
   "outputs": [],
   "source": [
    "wip = wip.pivot_table(index=[\"負責業務\", \"Group\"], values=\"本國幣別NTD\", aggfunc=\"sum\", margins=True, margins_name=\"總計\").reset_index()"
   ]
  },
  {
   "cell_type": "code",
   "execution_count": null,
   "metadata": {},
   "outputs": [],
   "source": [
    "wip.style.format({\"本國幣別NTD\":\"{:,.0f}\"}).hide_index().set_caption(\"2021年3月份WIP實績\")"
   ]
  },
  {
   "cell_type": "markdown",
   "metadata": {},
   "source": [
    "## 出貨排程確認"
   ]
  },
  {
   "cell_type": "code",
   "execution_count": 2,
   "metadata": {},
   "outputs": [],
   "source": [
    "df = pd.read_clipboard()"
   ]
  },
  {
   "cell_type": "code",
   "execution_count": 43,
   "metadata": {},
   "outputs": [],
   "source": [
    "weekly = pd.read_excel('/Users/kai/OneDrive/INPAQ/業績總表/Weekly report_v0.1.xlsx', sheet_name='出貨明細')"
   ]
  },
  {
   "cell_type": "code",
   "execution_count": 44,
   "metadata": {},
   "outputs": [],
   "source": [
    "weekly = weekly[['銷售單號', '預交日期', '數量', '品名', '銷售項次']]"
   ]
  },
  {
   "cell_type": "code",
   "execution_count": 45,
   "metadata": {},
   "outputs": [],
   "source": [
    "weekly.columns = ['訂單單號', '預交日期', '未交量', '品名', '項次']"
   ]
  },
  {
   "cell_type": "code",
   "execution_count": 46,
   "metadata": {},
   "outputs": [],
   "source": [
    "result = pd.merge(df, weekly, on=['訂單單號', '未交量', '品名', '項次'], how='left')"
   ]
  },
  {
   "cell_type": "code",
   "execution_count": 47,
   "metadata": {},
   "outputs": [
    {
     "data": {
      "text/html": [
       "<div>\n",
       "<style scoped>\n",
       "    .dataframe tbody tr th:only-of-type {\n",
       "        vertical-align: middle;\n",
       "    }\n",
       "\n",
       "    .dataframe tbody tr th {\n",
       "        vertical-align: top;\n",
       "    }\n",
       "\n",
       "    .dataframe thead th {\n",
       "        text-align: right;\n",
       "    }\n",
       "</style>\n",
       "<table border=\"1\" class=\"dataframe\">\n",
       "  <thead>\n",
       "    <tr style=\"text-align: right;\">\n",
       "      <th></th>\n",
       "      <th>料號</th>\n",
       "      <th>計數</th>\n",
       "      <th>品名</th>\n",
       "      <th>庫存數</th>\n",
       "      <th>庫存單價</th>\n",
       "      <th>庫存金額</th>\n",
       "      <th>倉庫代碼</th>\n",
       "      <th>倉庫名稱</th>\n",
       "      <th>儲位</th>\n",
       "      <th>批號</th>\n",
       "      <th>庫存天數</th>\n",
       "      <th>接單公司</th>\n",
       "      <th>訂單日期</th>\n",
       "      <th>訂單單號</th>\n",
       "      <th>項次</th>\n",
       "      <th>送貨客戶代碼</th>\n",
       "      <th>送貨客戶名稱</th>\n",
       "      <th>未交量</th>\n",
       "      <th>單位</th>\n",
       "      <th>業務人員代碼</th>\n",
       "      <th>業務人員名稱</th>\n",
       "      <th>業務部門代碼</th>\n",
       "      <th>業務部門名稱</th>\n",
       "      <th>幣別</th>\n",
       "      <th>銷售單價</th>\n",
       "      <th>銷售金額</th>\n",
       "      <th>客戶案名</th>\n",
       "      <th>業務人員名稱.1</th>\n",
       "      <th>預交日期</th>\n",
       "    </tr>\n",
       "  </thead>\n",
       "  <tbody>\n",
       "    <tr>\n",
       "      <th>0</th>\n",
       "      <td>404001001</td>\n",
       "      <td>1</td>\n",
       "      <td>WA-P-U6-02-003-A</td>\n",
       "      <td>317</td>\n",
       "      <td>1</td>\n",
       "      <td>179</td>\n",
       "      <td>S03</td>\n",
       "      <td>成品倉</td>\n",
       "      <td>C030705</td>\n",
       "      <td>GS21415039H</td>\n",
       "      <td>30</td>\n",
       "      <td>HOLYTW</td>\n",
       "      <td>2021/04/13</td>\n",
       "      <td>EHRON-2104000005</td>\n",
       "      <td>1</td>\n",
       "      <td>HX003</td>\n",
       "      <td>Univa Te</td>\n",
       "      <td>20000</td>\n",
       "      <td>PCS</td>\n",
       "      <td>A4685</td>\n",
       "      <td>墨漢雷迪</td>\n",
       "      <td>75000000</td>\n",
       "      <td>OEM/ODM</td>\n",
       "      <td>USD</td>\n",
       "      <td>0</td>\n",
       "      <td>3200</td>\n",
       "      <td>NaN</td>\n",
       "      <td>墨漢雷迪</td>\n",
       "      <td>2021-05-21</td>\n",
       "    </tr>\n",
       "    <tr>\n",
       "      <th>1</th>\n",
       "      <td>462071527</td>\n",
       "      <td>26</td>\n",
       "      <td>PA1590MI4G-371-28M</td>\n",
       "      <td>3400</td>\n",
       "      <td>2</td>\n",
       "      <td>6,164</td>\n",
       "      <td>S03-07</td>\n",
       "      <td>Coating成品倉</td>\n",
       "      <td>C300201</td>\n",
       "      <td>B121512037</td>\n",
       "      <td>7</td>\n",
       "      <td>HOLYTW</td>\n",
       "      <td>2021/02/19</td>\n",
       "      <td>EHRON-2102000008</td>\n",
       "      <td>2</td>\n",
       "      <td>EZ061</td>\n",
       "      <td>TELTONIK</td>\n",
       "      <td>70000</td>\n",
       "      <td>PCS</td>\n",
       "      <td>A5048</td>\n",
       "      <td>許凱智</td>\n",
       "      <td>75000000</td>\n",
       "      <td>OEM/ODM</td>\n",
       "      <td>USD</td>\n",
       "      <td>0</td>\n",
       "      <td>16730</td>\n",
       "      <td>tuned for FMB120</td>\n",
       "      <td>許凱智</td>\n",
       "      <td>2021-05-28</td>\n",
       "    </tr>\n",
       "    <tr>\n",
       "      <th>2</th>\n",
       "      <td>462071527</td>\n",
       "      <td>26</td>\n",
       "      <td>PA1590MI4G-371-28M</td>\n",
       "      <td>1600</td>\n",
       "      <td>nan</td>\n",
       "      <td>2,901</td>\n",
       "      <td>S03-07</td>\n",
       "      <td>Coating成品倉</td>\n",
       "      <td>C300202</td>\n",
       "      <td>B121514029</td>\n",
       "      <td>5</td>\n",
       "      <td>HOLYTW</td>\n",
       "      <td>2021/04/08</td>\n",
       "      <td>EHRON-2104000003</td>\n",
       "      <td>10</td>\n",
       "      <td>EZ061</td>\n",
       "      <td>TELTONIK</td>\n",
       "      <td>100000</td>\n",
       "      <td>PCS</td>\n",
       "      <td>A5048</td>\n",
       "      <td>許凱智</td>\n",
       "      <td>75000000</td>\n",
       "      <td>OEM/ODM</td>\n",
       "      <td>USD</td>\n",
       "      <td>0</td>\n",
       "      <td>23900</td>\n",
       "      <td>tuned for FMB120</td>\n",
       "      <td>許凱智</td>\n",
       "      <td>2021-09-06</td>\n",
       "    </tr>\n",
       "    <tr>\n",
       "      <th>3</th>\n",
       "      <td>462071527</td>\n",
       "      <td>26</td>\n",
       "      <td>PA1590MI4G-371-28M</td>\n",
       "      <td>3400</td>\n",
       "      <td>nan</td>\n",
       "      <td>6,164</td>\n",
       "      <td>S03-07</td>\n",
       "      <td>Coating成品倉</td>\n",
       "      <td>C300204</td>\n",
       "      <td>B121512039</td>\n",
       "      <td>7</td>\n",
       "      <td>HOLYTW</td>\n",
       "      <td>2021/04/08</td>\n",
       "      <td>EHRON-2104000003</td>\n",
       "      <td>11</td>\n",
       "      <td>EZ061</td>\n",
       "      <td>TELTONIK</td>\n",
       "      <td>101000</td>\n",
       "      <td>PCS</td>\n",
       "      <td>A5048</td>\n",
       "      <td>許凱智</td>\n",
       "      <td>75000000</td>\n",
       "      <td>OEM/ODM</td>\n",
       "      <td>USD</td>\n",
       "      <td>0</td>\n",
       "      <td>24139</td>\n",
       "      <td>tuned for FMB120</td>\n",
       "      <td>許凱智</td>\n",
       "      <td>2021-09-27</td>\n",
       "    </tr>\n",
       "    <tr>\n",
       "      <th>4</th>\n",
       "      <td>462071527</td>\n",
       "      <td>26</td>\n",
       "      <td>PA1590MI4G-371-28M</td>\n",
       "      <td>3400</td>\n",
       "      <td>nan</td>\n",
       "      <td>6,164</td>\n",
       "      <td>S03-07</td>\n",
       "      <td>Coating成品倉</td>\n",
       "      <td>C310203</td>\n",
       "      <td>B121511036</td>\n",
       "      <td>7</td>\n",
       "      <td>HOLYTW</td>\n",
       "      <td>2021/04/08</td>\n",
       "      <td>EHRON-2104000003</td>\n",
       "      <td>12</td>\n",
       "      <td>EZ061</td>\n",
       "      <td>TELTONIK</td>\n",
       "      <td>104000</td>\n",
       "      <td>PCS</td>\n",
       "      <td>A5048</td>\n",
       "      <td>許凱智</td>\n",
       "      <td>75000000</td>\n",
       "      <td>OEM/ODM</td>\n",
       "      <td>USD</td>\n",
       "      <td>0</td>\n",
       "      <td>24856</td>\n",
       "      <td>tuned for FMB120</td>\n",
       "      <td>許凱智</td>\n",
       "      <td>2021-11-08</td>\n",
       "    </tr>\n",
       "    <tr>\n",
       "      <th>...</th>\n",
       "      <td>...</td>\n",
       "      <td>...</td>\n",
       "      <td>...</td>\n",
       "      <td>...</td>\n",
       "      <td>...</td>\n",
       "      <td>...</td>\n",
       "      <td>...</td>\n",
       "      <td>...</td>\n",
       "      <td>...</td>\n",
       "      <td>...</td>\n",
       "      <td>...</td>\n",
       "      <td>...</td>\n",
       "      <td>...</td>\n",
       "      <td>...</td>\n",
       "      <td>...</td>\n",
       "      <td>...</td>\n",
       "      <td>...</td>\n",
       "      <td>...</td>\n",
       "      <td>...</td>\n",
       "      <td>...</td>\n",
       "      <td>...</td>\n",
       "      <td>...</td>\n",
       "      <td>...</td>\n",
       "      <td>...</td>\n",
       "      <td>...</td>\n",
       "      <td>...</td>\n",
       "      <td>...</td>\n",
       "      <td>...</td>\n",
       "      <td>...</td>\n",
       "    </tr>\n",
       "    <tr>\n",
       "      <th>59</th>\n",
       "      <td>82020005100</td>\n",
       "      <td>13</td>\n",
       "      <td>GPSGLONASSU10N-N6-0022-A</td>\n",
       "      <td>2000</td>\n",
       "      <td>nan</td>\n",
       "      <td>18,281</td>\n",
       "      <td>S03</td>\n",
       "      <td>成品倉</td>\n",
       "      <td>P226</td>\n",
       "      <td>AA21510009H-TELTONIK</td>\n",
       "      <td>6</td>\n",
       "      <td>HOLYTW</td>\n",
       "      <td>2021/04/09</td>\n",
       "      <td>EHRON-2104000004</td>\n",
       "      <td>12</td>\n",
       "      <td>EZ061</td>\n",
       "      <td>TELTONIK</td>\n",
       "      <td>23000</td>\n",
       "      <td>PCS</td>\n",
       "      <td>A5048</td>\n",
       "      <td>許凱智</td>\n",
       "      <td>75000000</td>\n",
       "      <td>OEM/ODM</td>\n",
       "      <td>USD</td>\n",
       "      <td>2</td>\n",
       "      <td>37720</td>\n",
       "      <td>NaN</td>\n",
       "      <td>許凱智</td>\n",
       "      <td>2021-08-09</td>\n",
       "    </tr>\n",
       "    <tr>\n",
       "      <th>60</th>\n",
       "      <td>82020005100</td>\n",
       "      <td>13</td>\n",
       "      <td>GPSGLONASSU10N-N6-0022-A</td>\n",
       "      <td>2000</td>\n",
       "      <td>nan</td>\n",
       "      <td>18,281</td>\n",
       "      <td>S03</td>\n",
       "      <td>成品倉</td>\n",
       "      <td>P226</td>\n",
       "      <td>AA21510010H-TELTONIK</td>\n",
       "      <td>6</td>\n",
       "      <td>HOLYTW</td>\n",
       "      <td>2021/04/09</td>\n",
       "      <td>EHRON-2104000004</td>\n",
       "      <td>13</td>\n",
       "      <td>EZ061</td>\n",
       "      <td>TELTONIK</td>\n",
       "      <td>14000</td>\n",
       "      <td>PCS</td>\n",
       "      <td>A5048</td>\n",
       "      <td>許凱智</td>\n",
       "      <td>75000000</td>\n",
       "      <td>OEM/ODM</td>\n",
       "      <td>USD</td>\n",
       "      <td>2</td>\n",
       "      <td>22960</td>\n",
       "      <td>NaN</td>\n",
       "      <td>許凱智</td>\n",
       "      <td>2021-09-10</td>\n",
       "    </tr>\n",
       "    <tr>\n",
       "      <th>61</th>\n",
       "      <td>82020005100</td>\n",
       "      <td>13</td>\n",
       "      <td>GPSGLONASSU10N-N6-0022-A</td>\n",
       "      <td>2000</td>\n",
       "      <td>nan</td>\n",
       "      <td>18,281</td>\n",
       "      <td>S03</td>\n",
       "      <td>成品倉</td>\n",
       "      <td>P240</td>\n",
       "      <td>AA21510011H-TELTONIK</td>\n",
       "      <td>5</td>\n",
       "      <td>HOLYTW</td>\n",
       "      <td>2021/04/09</td>\n",
       "      <td>EHRON-2104000004</td>\n",
       "      <td>14</td>\n",
       "      <td>EZ061</td>\n",
       "      <td>TELTONIK</td>\n",
       "      <td>30000</td>\n",
       "      <td>PCS</td>\n",
       "      <td>A5048</td>\n",
       "      <td>許凱智</td>\n",
       "      <td>75000000</td>\n",
       "      <td>OEM/ODM</td>\n",
       "      <td>USD</td>\n",
       "      <td>2</td>\n",
       "      <td>49200</td>\n",
       "      <td>NaN</td>\n",
       "      <td>許凱智</td>\n",
       "      <td>2021-09-10</td>\n",
       "    </tr>\n",
       "    <tr>\n",
       "      <th>62</th>\n",
       "      <td>82020005100</td>\n",
       "      <td>13</td>\n",
       "      <td>GPSGLONASSU10N-N6-0022-A</td>\n",
       "      <td>2000</td>\n",
       "      <td>nan</td>\n",
       "      <td>18,281</td>\n",
       "      <td>S03</td>\n",
       "      <td>成品倉</td>\n",
       "      <td>P255</td>\n",
       "      <td>AA21513006H-TELTONIK</td>\n",
       "      <td>5</td>\n",
       "      <td>HOLYTW</td>\n",
       "      <td>2021/04/09</td>\n",
       "      <td>EHRON-2104000004</td>\n",
       "      <td>15</td>\n",
       "      <td>EZ061</td>\n",
       "      <td>TELTONIK</td>\n",
       "      <td>9000</td>\n",
       "      <td>PCS</td>\n",
       "      <td>A5048</td>\n",
       "      <td>許凱智</td>\n",
       "      <td>75000000</td>\n",
       "      <td>OEM/ODM</td>\n",
       "      <td>USD</td>\n",
       "      <td>2</td>\n",
       "      <td>14760</td>\n",
       "      <td>NaN</td>\n",
       "      <td>許凱智</td>\n",
       "      <td>2021-09-27</td>\n",
       "    </tr>\n",
       "    <tr>\n",
       "      <th>63</th>\n",
       "      <td>82020005100</td>\n",
       "      <td>13</td>\n",
       "      <td>GPSGLONASSU10N-N6-0022-A</td>\n",
       "      <td>2000</td>\n",
       "      <td>nan</td>\n",
       "      <td>18,281</td>\n",
       "      <td>S03</td>\n",
       "      <td>成品倉</td>\n",
       "      <td>P255</td>\n",
       "      <td>AA21513007H-TELTONIK</td>\n",
       "      <td>5</td>\n",
       "      <td>HOLYTW</td>\n",
       "      <td>2021/04/09</td>\n",
       "      <td>EHRON-2104000004</td>\n",
       "      <td>16</td>\n",
       "      <td>EZ061</td>\n",
       "      <td>TELTONIK</td>\n",
       "      <td>24000</td>\n",
       "      <td>PCS</td>\n",
       "      <td>A5048</td>\n",
       "      <td>許凱智</td>\n",
       "      <td>75000000</td>\n",
       "      <td>OEM/ODM</td>\n",
       "      <td>USD</td>\n",
       "      <td>2</td>\n",
       "      <td>39360</td>\n",
       "      <td>NaN</td>\n",
       "      <td>許凱智</td>\n",
       "      <td>2021-09-27</td>\n",
       "    </tr>\n",
       "  </tbody>\n",
       "</table>\n",
       "<p>64 rows × 29 columns</p>\n",
       "</div>"
      ],
      "text/plain": [
       "             料號  計數                        品名   庫存數  庫存單價     庫存金額     倉庫代碼  \\\n",
       "0     404001001   1          WA-P-U6-02-003-A   317     1      179      S03   \n",
       "1     462071527  26        PA1590MI4G-371-28M  3400     2    6,164   S03-07   \n",
       "2     462071527  26        PA1590MI4G-371-28M  1600   nan    2,901   S03-07   \n",
       "3     462071527  26        PA1590MI4G-371-28M  3400   nan    6,164   S03-07   \n",
       "4     462071527  26        PA1590MI4G-371-28M  3400   nan    6,164   S03-07   \n",
       "..          ...  ..                       ...   ...   ...       ...     ...   \n",
       "59  82020005100  13  GPSGLONASSU10N-N6-0022-A  2000   nan   18,281      S03   \n",
       "60  82020005100  13  GPSGLONASSU10N-N6-0022-A  2000   nan   18,281      S03   \n",
       "61  82020005100  13  GPSGLONASSU10N-N6-0022-A  2000   nan   18,281      S03   \n",
       "62  82020005100  13  GPSGLONASSU10N-N6-0022-A  2000   nan   18,281      S03   \n",
       "63  82020005100  13  GPSGLONASSU10N-N6-0022-A  2000   nan   18,281      S03   \n",
       "\n",
       "          倉庫名稱       儲位                    批號  庫存天數    接單公司        訂單日期  \\\n",
       "0          成品倉  C030705           GS21415039H    30  HOLYTW  2021/04/13   \n",
       "1   Coating成品倉  C300201            B121512037     7  HOLYTW  2021/02/19   \n",
       "2   Coating成品倉  C300202            B121514029     5  HOLYTW  2021/04/08   \n",
       "3   Coating成品倉  C300204            B121512039     7  HOLYTW  2021/04/08   \n",
       "4   Coating成品倉  C310203            B121511036     7  HOLYTW  2021/04/08   \n",
       "..         ...      ...                   ...   ...     ...         ...   \n",
       "59         成品倉     P226  AA21510009H-TELTONIK     6  HOLYTW  2021/04/09   \n",
       "60         成品倉     P226  AA21510010H-TELTONIK     6  HOLYTW  2021/04/09   \n",
       "61         成品倉     P240  AA21510011H-TELTONIK     5  HOLYTW  2021/04/09   \n",
       "62         成品倉     P255  AA21513006H-TELTONIK     5  HOLYTW  2021/04/09   \n",
       "63         成品倉     P255  AA21513007H-TELTONIK     5  HOLYTW  2021/04/09   \n",
       "\n",
       "                訂單單號  項次 送貨客戶代碼    送貨客戶名稱    未交量   單位 業務人員代碼 業務人員名稱   業務部門代碼  \\\n",
       "0   EHRON-2104000005   1  HX003  Univa Te  20000  PCS  A4685   墨漢雷迪 75000000   \n",
       "1   EHRON-2102000008   2  EZ061  TELTONIK  70000  PCS  A5048    許凱智 75000000   \n",
       "2   EHRON-2104000003  10  EZ061  TELTONIK 100000  PCS  A5048    許凱智 75000000   \n",
       "3   EHRON-2104000003  11  EZ061  TELTONIK 101000  PCS  A5048    許凱智 75000000   \n",
       "4   EHRON-2104000003  12  EZ061  TELTONIK 104000  PCS  A5048    許凱智 75000000   \n",
       "..               ...  ..    ...       ...    ...  ...    ...    ...      ...   \n",
       "59  EHRON-2104000004  12  EZ061  TELTONIK  23000  PCS  A5048    許凱智 75000000   \n",
       "60  EHRON-2104000004  13  EZ061  TELTONIK  14000  PCS  A5048    許凱智 75000000   \n",
       "61  EHRON-2104000004  14  EZ061  TELTONIK  30000  PCS  A5048    許凱智 75000000   \n",
       "62  EHRON-2104000004  15  EZ061  TELTONIK   9000  PCS  A5048    許凱智 75000000   \n",
       "63  EHRON-2104000004  16  EZ061  TELTONIK  24000  PCS  A5048    許凱智 75000000   \n",
       "\n",
       "     業務部門名稱   幣別  銷售單價  銷售金額              客戶案名 業務人員名稱.1       預交日期  \n",
       "0   OEM/ODM  USD     0  3200               NaN     墨漢雷迪 2021-05-21  \n",
       "1   OEM/ODM  USD     0 16730  tuned for FMB120      許凱智 2021-05-28  \n",
       "2   OEM/ODM  USD     0 23900  tuned for FMB120      許凱智 2021-09-06  \n",
       "3   OEM/ODM  USD     0 24139  tuned for FMB120      許凱智 2021-09-27  \n",
       "4   OEM/ODM  USD     0 24856  tuned for FMB120      許凱智 2021-11-08  \n",
       "..      ...  ...   ...   ...               ...      ...        ...  \n",
       "59  OEM/ODM  USD     2 37720               NaN      許凱智 2021-08-09  \n",
       "60  OEM/ODM  USD     2 22960               NaN      許凱智 2021-09-10  \n",
       "61  OEM/ODM  USD     2 49200               NaN      許凱智 2021-09-10  \n",
       "62  OEM/ODM  USD     2 14760               NaN      許凱智 2021-09-27  \n",
       "63  OEM/ODM  USD     2 39360               NaN      許凱智 2021-09-27  \n",
       "\n",
       "[64 rows x 29 columns]"
      ]
     },
     "execution_count": 47,
     "metadata": {},
     "output_type": "execute_result"
    }
   ],
   "source": [
    "result"
   ]
  },
  {
   "cell_type": "code",
   "execution_count": 48,
   "metadata": {
    "scrolled": true
   },
   "outputs": [],
   "source": [
    "result.to_excel('/Users/kai/Desktop/Susan.xlsx', index=False)"
   ]
  },
  {
   "cell_type": "code",
   "execution_count": null,
   "metadata": {},
   "outputs": [],
   "source": []
  }
 ],
 "metadata": {
  "kernelspec": {
   "display_name": "Python 3",
   "language": "python",
   "name": "python3"
  },
  "language_info": {
   "codemirror_mode": {
    "name": "ipython",
    "version": 3
   },
   "file_extension": ".py",
   "mimetype": "text/x-python",
   "name": "python",
   "nbconvert_exporter": "python",
   "pygments_lexer": "ipython3",
   "version": "3.8.5"
  }
 },
 "nbformat": 4,
 "nbformat_minor": 4
}
