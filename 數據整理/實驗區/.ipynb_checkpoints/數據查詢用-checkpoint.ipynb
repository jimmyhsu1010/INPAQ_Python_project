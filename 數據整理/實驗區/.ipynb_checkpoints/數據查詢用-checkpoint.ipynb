{
 "cells": [
  {
   "cell_type": "code",
   "execution_count": 2,
   "metadata": {},
   "outputs": [],
   "source": [
    "import pandas as pd"
   ]
  },
  {
   "cell_type": "code",
   "execution_count": 3,
   "metadata": {},
   "outputs": [],
   "source": [
    "from etl_tools import select_sheet"
   ]
  },
  {
   "cell_type": "code",
   "execution_count": 4,
   "metadata": {},
   "outputs": [
    {
     "name": "stdout",
     "output_type": "stream",
     "text": [
      "1 Dashboard\n",
      "2 元件天線客戶貢獻度\n",
      "3 各年份實績樞紐流動\n",
      "4 20192020實績折線圖\n",
      "5 2020累積實績固定\n",
      "6 固定實績樞紐\n",
      "7 2020預算固定表\n",
      "8 2020預算流動\n",
      "9 Amber週報用預算\n",
      "10 全年預算by person\n",
      "11 2020預算\n",
      "12 客戶 年份樞紐\n",
      "13 各類別圓餅圖\n",
      "14 業務實績排名\n",
      "15 各客戶成長率\n",
      "16 Weekly report\n",
      "17 週報更新用樞紐\n",
      "18 Amber週報用格式\n",
      "19 天線出貨量樞紐\n",
      "20 元件出貨量直條圖\n",
      "21 Allison客戶樞紐\n",
      "22 給二廠的Teltonika數據\n",
      "23 每月15號左右給Wiley的圖表\n",
      "24 固定天線當月實績\n",
      "25 LF ODM\n",
      "26 總實績表格for Amber\n",
      "27 出貨明細\n",
      "28 差異分析用樞紐\n",
      "29 2021業績總表 (2) Mohan+Kai Edited\n",
      "30 工作表3\n",
      "31 Wurth開會報告用\n",
      "32 分類命名表\n",
      "33 工作表1\n",
      "34 成長率byBG\n",
      "35 2021預算固定表\n",
      "36 2021預算流動\n",
      "37 華新科By BU分析\n",
      "38 20210126預算調整\n",
      "39 2021業績計算用預算樞紐\n",
      "40 2021預算總表\n",
      "41 2021年實績預算達成率\n",
      "請輸入要開啟的sheet：\n",
      "27\n"
     ]
    }
   ],
   "source": [
    "df = select_sheet()"
   ]
  },
  {
   "cell_type": "code",
   "execution_count": 9,
   "metadata": {},
   "outputs": [],
   "source": [
    "result = df[(df[\"BG\"] == \"RF\") & (df[\"Group\"] == \"TELTONIKA\") & (df[\"狀態\"].str.contains(\"出\")) & (df[\"預交年份\"] == 2021) & (df[\"預交日期\"] >= \"2021-03-01\") & (df[\"品名\"].isin([\"RFDPA191300SMTB806J4\", \"RFDPA171300SBAB823J4\", \"RFDPA141300SBLB803J4\", \"RFDPA141300SBLB803J4\"]))]"
   ]
  },
  {
   "cell_type": "code",
   "execution_count": 13,
   "metadata": {
    "scrolled": true
   },
   "outputs": [],
   "source": [
    "result = result.pivot_table(index=\"品名\", values=\"數量\", columns=\"預交日期\")"
   ]
  },
  {
   "cell_type": "code",
   "execution_count": 21,
   "metadata": {},
   "outputs": [],
   "source": [
    "result = pd.DataFrame(result.to_records())"
   ]
  },
  {
   "cell_type": "code",
   "execution_count": 24,
   "metadata": {},
   "outputs": [],
   "source": [
    "result.columns = ['品名', '2021-03-09', '2021-03-26',\n",
    "       '2021-04-02', '2021-04-26', '2021-05-07']"
   ]
  },
  {
   "cell_type": "code",
   "execution_count": 28,
   "metadata": {
    "scrolled": false
   },
   "outputs": [
    {
     "data": {
      "text/html": [
       "<style  type=\"text/css\" >\n",
       "</style><table id=\"T_5b3b8bdb_8543_11eb_a9e1_f83441a55a81\" ><thead>    <tr>        <th class=\"blank level0\" ></th>        <th class=\"col_heading level0 col0\" >品名</th>        <th class=\"col_heading level0 col1\" >2021-03-09</th>        <th class=\"col_heading level0 col2\" >2021-03-26</th>        <th class=\"col_heading level0 col3\" >2021-04-02</th>        <th class=\"col_heading level0 col4\" >2021-04-26</th>        <th class=\"col_heading level0 col5\" >2021-05-07</th>    </tr></thead><tbody>\n",
       "                <tr>\n",
       "                        <th id=\"T_5b3b8bdb_8543_11eb_a9e1_f83441a55a81level0_row0\" class=\"row_heading level0 row0\" >0</th>\n",
       "                        <td id=\"T_5b3b8bdb_8543_11eb_a9e1_f83441a55a81row0_col0\" class=\"data row0 col0\" >RFDPA141300SBLB803J4</td>\n",
       "                        <td id=\"T_5b3b8bdb_8543_11eb_a9e1_f83441a55a81row0_col1\" class=\"data row0 col1\" >6,000</td>\n",
       "                        <td id=\"T_5b3b8bdb_8543_11eb_a9e1_f83441a55a81row0_col2\" class=\"data row0 col2\" >6,000</td>\n",
       "                        <td id=\"T_5b3b8bdb_8543_11eb_a9e1_f83441a55a81row0_col3\" class=\"data row0 col3\" >3,500</td>\n",
       "                        <td id=\"T_5b3b8bdb_8543_11eb_a9e1_f83441a55a81row0_col4\" class=\"data row0 col4\" >2,667</td>\n",
       "                        <td id=\"T_5b3b8bdb_8543_11eb_a9e1_f83441a55a81row0_col5\" class=\"data row0 col5\" >5,000</td>\n",
       "            </tr>\n",
       "            <tr>\n",
       "                        <th id=\"T_5b3b8bdb_8543_11eb_a9e1_f83441a55a81level0_row1\" class=\"row_heading level0 row1\" >1</th>\n",
       "                        <td id=\"T_5b3b8bdb_8543_11eb_a9e1_f83441a55a81row1_col0\" class=\"data row1 col0\" >RFDPA171300SBAB823J4</td>\n",
       "                        <td id=\"T_5b3b8bdb_8543_11eb_a9e1_f83441a55a81row1_col1\" class=\"data row1 col1\" >16,000</td>\n",
       "                        <td id=\"T_5b3b8bdb_8543_11eb_a9e1_f83441a55a81row1_col2\" class=\"data row1 col2\" >17,000</td>\n",
       "                        <td id=\"T_5b3b8bdb_8543_11eb_a9e1_f83441a55a81row1_col3\" class=\"data row1 col3\" >52,000</td>\n",
       "                        <td id=\"T_5b3b8bdb_8543_11eb_a9e1_f83441a55a81row1_col4\" class=\"data row1 col4\" >9,500</td>\n",
       "                        <td id=\"T_5b3b8bdb_8543_11eb_a9e1_f83441a55a81row1_col5\" class=\"data row1 col5\" >39,000</td>\n",
       "            </tr>\n",
       "            <tr>\n",
       "                        <th id=\"T_5b3b8bdb_8543_11eb_a9e1_f83441a55a81level0_row2\" class=\"row_heading level0 row2\" >2</th>\n",
       "                        <td id=\"T_5b3b8bdb_8543_11eb_a9e1_f83441a55a81row2_col0\" class=\"data row2 col0\" >RFDPA191300SMTB806J4</td>\n",
       "                        <td id=\"T_5b3b8bdb_8543_11eb_a9e1_f83441a55a81row2_col1\" class=\"data row2 col1\" >33,000</td>\n",
       "                        <td id=\"T_5b3b8bdb_8543_11eb_a9e1_f83441a55a81row2_col2\" class=\"data row2 col2\" >50,000</td>\n",
       "                        <td id=\"T_5b3b8bdb_8543_11eb_a9e1_f83441a55a81row2_col3\" class=\"data row2 col3\" >92,000</td>\n",
       "                        <td id=\"T_5b3b8bdb_8543_11eb_a9e1_f83441a55a81row2_col4\" class=\"data row2 col4\" >nan</td>\n",
       "                        <td id=\"T_5b3b8bdb_8543_11eb_a9e1_f83441a55a81row2_col5\" class=\"data row2 col5\" >70,000</td>\n",
       "            </tr>\n",
       "    </tbody></table>"
      ],
      "text/plain": [
       "<pandas.io.formats.style.Styler at 0x220affde670>"
      ]
     },
     "execution_count": 28,
     "metadata": {},
     "output_type": "execute_result"
    }
   ],
   "source": [
    "result.style.format({\"2021-03-09\":\"{:,.0f}\", \"2021-03-26\":\"{:,.0f}\", \"2021-04-02\":\"{:,.0f}\", \"2021-04-26\":\"{:,.0f}\", \"2021-05-07\":\"{:,.0f}\"})"
   ]
  },
  {
   "cell_type": "code",
   "execution_count": 38,
   "metadata": {
    "scrolled": true
   },
   "outputs": [
    {
     "name": "stdout",
     "output_type": "stream",
     "text": [
      "enter somthing3 2 1\n"
     ]
    }
   ],
   "source": [
    "a, b, c = map(int, input(\"enter somthing\").split())"
   ]
  },
  {
   "cell_type": "code",
   "execution_count": 44,
   "metadata": {},
   "outputs": [],
   "source": [
    "wip = df[(df[\"BG\"] == \"WIP\") & (df[\"狀態\"].str.contains(\"出\")) & (df[\"預交年份\"] == 2021) & (df[\"預交月份\"] == \"March\")]"
   ]
  },
  {
   "cell_type": "code",
   "execution_count": 55,
   "metadata": {},
   "outputs": [],
   "source": [
    "wip = wip.pivot_table(index=[\"負責業務\", \"Group\"], values=\"本國幣別NTD\", aggfunc=\"sum\", margins=True, margins_name=\"總計\").reset_index()"
   ]
  },
  {
   "cell_type": "code",
   "execution_count": 59,
   "metadata": {},
   "outputs": [
    {
     "data": {
      "text/html": [
       "<style  type=\"text/css\" >\n",
       "</style><table id=\"T_0818ad8c_8553_11eb_963a_f83441a55a81\" ><caption>2021年3月份WIP實績</caption><thead>    <tr>        <th class=\"col_heading level0 col0\" >負責業務</th>        <th class=\"col_heading level0 col1\" >Group</th>        <th class=\"col_heading level0 col2\" >本國幣別NTD</th>    </tr></thead><tbody>\n",
       "                <tr>\n",
       "                                <td id=\"T_0818ad8c_8553_11eb_963a_f83441a55a81row0_col0\" class=\"data row0 col0\" >許凱智</td>\n",
       "                        <td id=\"T_0818ad8c_8553_11eb_963a_f83441a55a81row0_col1\" class=\"data row0 col1\" >MT-SYSTEM</td>\n",
       "                        <td id=\"T_0818ad8c_8553_11eb_963a_f83441a55a81row0_col2\" class=\"data row0 col2\" >1,527</td>\n",
       "            </tr>\n",
       "            <tr>\n",
       "                                <td id=\"T_0818ad8c_8553_11eb_963a_f83441a55a81row1_col0\" class=\"data row1 col0\" >許凱智</td>\n",
       "                        <td id=\"T_0818ad8c_8553_11eb_963a_f83441a55a81row1_col1\" class=\"data row1 col1\" >TELTONIKA</td>\n",
       "                        <td id=\"T_0818ad8c_8553_11eb_963a_f83441a55a81row1_col2\" class=\"data row1 col2\" >19,089</td>\n",
       "            </tr>\n",
       "            <tr>\n",
       "                                <td id=\"T_0818ad8c_8553_11eb_963a_f83441a55a81row2_col0\" class=\"data row2 col0\" >許凱智</td>\n",
       "                        <td id=\"T_0818ad8c_8553_11eb_963a_f83441a55a81row2_col1\" class=\"data row2 col1\" >信昌</td>\n",
       "                        <td id=\"T_0818ad8c_8553_11eb_963a_f83441a55a81row2_col2\" class=\"data row2 col2\" >1,312,389</td>\n",
       "            </tr>\n",
       "            <tr>\n",
       "                                <td id=\"T_0818ad8c_8553_11eb_963a_f83441a55a81row3_col0\" class=\"data row3 col0\" >許凱智</td>\n",
       "                        <td id=\"T_0818ad8c_8553_11eb_963a_f83441a55a81row3_col1\" class=\"data row3 col1\" >華新科技</td>\n",
       "                        <td id=\"T_0818ad8c_8553_11eb_963a_f83441a55a81row3_col2\" class=\"data row3 col2\" >13,683</td>\n",
       "            </tr>\n",
       "            <tr>\n",
       "                                <td id=\"T_0818ad8c_8553_11eb_963a_f83441a55a81row4_col0\" class=\"data row4 col0\" >許凱智</td>\n",
       "                        <td id=\"T_0818ad8c_8553_11eb_963a_f83441a55a81row4_col1\" class=\"data row4 col1\" >藝感</td>\n",
       "                        <td id=\"T_0818ad8c_8553_11eb_963a_f83441a55a81row4_col2\" class=\"data row4 col2\" >2,316,982</td>\n",
       "            </tr>\n",
       "            <tr>\n",
       "                                <td id=\"T_0818ad8c_8553_11eb_963a_f83441a55a81row5_col0\" class=\"data row5 col0\" >鄭里緗</td>\n",
       "                        <td id=\"T_0818ad8c_8553_11eb_963a_f83441a55a81row5_col1\" class=\"data row5 col1\" >Bourns</td>\n",
       "                        <td id=\"T_0818ad8c_8553_11eb_963a_f83441a55a81row5_col2\" class=\"data row5 col2\" >2,271,336</td>\n",
       "            </tr>\n",
       "            <tr>\n",
       "                                <td id=\"T_0818ad8c_8553_11eb_963a_f83441a55a81row6_col0\" class=\"data row6 col0\" >鄭里緗</td>\n",
       "                        <td id=\"T_0818ad8c_8553_11eb_963a_f83441a55a81row6_col1\" class=\"data row6 col1\" >Eaton</td>\n",
       "                        <td id=\"T_0818ad8c_8553_11eb_963a_f83441a55a81row6_col2\" class=\"data row6 col2\" >56,843</td>\n",
       "            </tr>\n",
       "            <tr>\n",
       "                                <td id=\"T_0818ad8c_8553_11eb_963a_f83441a55a81row7_col0\" class=\"data row7 col0\" >鄭里緗</td>\n",
       "                        <td id=\"T_0818ad8c_8553_11eb_963a_f83441a55a81row7_col1\" class=\"data row7 col1\" >Laird</td>\n",
       "                        <td id=\"T_0818ad8c_8553_11eb_963a_f83441a55a81row7_col2\" class=\"data row7 col2\" >255,877</td>\n",
       "            </tr>\n",
       "            <tr>\n",
       "                                <td id=\"T_0818ad8c_8553_11eb_963a_f83441a55a81row8_col0\" class=\"data row8 col0\" >總計</td>\n",
       "                        <td id=\"T_0818ad8c_8553_11eb_963a_f83441a55a81row8_col1\" class=\"data row8 col1\" ></td>\n",
       "                        <td id=\"T_0818ad8c_8553_11eb_963a_f83441a55a81row8_col2\" class=\"data row8 col2\" >6,247,727</td>\n",
       "            </tr>\n",
       "    </tbody></table>"
      ],
      "text/plain": [
       "<pandas.io.formats.style.Styler at 0x220afe273a0>"
      ]
     },
     "execution_count": 59,
     "metadata": {},
     "output_type": "execute_result"
    }
   ],
   "source": [
    "wip.style.format({\"本國幣別NTD\":\"{:,.0f}\"}).hide_index().set_caption(\"2021年3月份WIP實績\")"
   ]
  }
 ],
 "metadata": {
  "kernelspec": {
   "display_name": "Python 3",
   "language": "python",
   "name": "python3"
  },
  "language_info": {
   "codemirror_mode": {
    "name": "ipython",
    "version": 3
   },
   "file_extension": ".py",
   "mimetype": "text/x-python",
   "name": "python",
   "nbconvert_exporter": "python",
   "pygments_lexer": "ipython3",
   "version": "3.8.5"
  }
 },
 "nbformat": 4,
 "nbformat_minor": 4
}
