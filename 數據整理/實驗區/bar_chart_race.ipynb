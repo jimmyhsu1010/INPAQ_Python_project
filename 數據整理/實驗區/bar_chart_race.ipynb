{
 "cells": [
  {
   "cell_type": "code",
   "execution_count": null,
   "metadata": {},
   "outputs": [],
   "source": [
    "from raceplotly.plots import barplot\n",
    "import pandas as pd\n",
    "pd.set_option(\"display.max_columns\", None)\n",
    "import tkinter as tk\n",
    "from tkinter import filedialog"
   ]
  },
  {
   "cell_type": "code",
   "execution_count": null,
   "metadata": {},
   "outputs": [],
   "source": [
    "def open_file():\n",
    "    root = tk.Tk()\n",
    "    root.withdraw()\n",
    "    path = filedialog.askopenfilename()\n",
    "    df = pd.read_excel(path, None)\n",
    "    sheet_list = {}\n",
    "    for i, j in enumerate(list(df.keys())):\n",
    "        sheet_list.setdefault(i+1, j)\n",
    "        print(i+1, j)\n",
    "    sheet = eval(input(\"Please choose the sheet you want to open:\\n\"))\n",
    "    df = df[sheet_list[sheet]]\n",
    "    return df"
   ]
  },
  {
   "cell_type": "code",
   "execution_count": null,
   "metadata": {},
   "outputs": [],
   "source": [
    "x = open_file()"
   ]
  },
  {
   "cell_type": "code",
   "execution_count": null,
   "metadata": {},
   "outputs": [],
   "source": [
    "df = x[(x[\"狀態\"].str.contains(\"已|未\"))]"
   ]
  },
  {
   "cell_type": "code",
   "execution_count": null,
   "metadata": {},
   "outputs": [],
   "source": [
    "test = df.groupby([pd.Grouper(key=\"預交日期\", freq=\"M\"), \"Group\"])[[\"本國幣別NTD\"]].sum().reset_index()"
   ]
  },
  {
   "cell_type": "code",
   "execution_count": null,
   "metadata": {},
   "outputs": [],
   "source": [
    "test[\"預交日期\"] = test[\"預交日期\"].dt.strftime(\"%Y-%m\")"
   ]
  },
  {
   "cell_type": "code",
   "execution_count": null,
   "metadata": {
    "scrolled": true
   },
   "outputs": [],
   "source": [
    "test[\"Group\"].unique()"
   ]
  },
  {
   "cell_type": "code",
   "execution_count": null,
   "metadata": {},
   "outputs": [],
   "source": [
    "pd.set_option(\"display.float_format\", lambda x: \"%.0f\" % x)"
   ]
  },
  {
   "cell_type": "code",
   "execution_count": null,
   "metadata": {},
   "outputs": [],
   "source": [
    "test"
   ]
  },
  {
   "cell_type": "code",
   "execution_count": null,
   "metadata": {
    "scrolled": false
   },
   "outputs": [],
   "source": [
    "my_raceplot = barplot(test,\n",
    "                      item_column='Group',\n",
    "                      value_column='本國幣別NTD',\n",
    "                      time_column='預交日期', top_entries=3)\n",
    "\n",
    "my_raceplot.plot(title = 'Top 10 Crops from 1961 to 2018',\n",
    "                 item_label = 'Top 10 crops',\n",
    "                 value_label = 'Production quantity (tonnes)',\n",
    "                 frame_duration = 1000,\n",
    "                initial_frame = \"min\")\n"
   ]
  },
  {
   "cell_type": "code",
   "execution_count": null,
   "metadata": {},
   "outputs": [],
   "source": [
    "data = pd.read_csv('https://raw.githubusercontent.com/lc5415/raceplotly/main/example/FAOSTAT_data.csv')\n",
    "\n",
    "my_raceplot = barplot(data,  item_column='Item', value_column='Value', time_column='Year')\n",
    "\n",
    "my_raceplot.plot(item_label = 'Top 10 crops',\n",
    "                 value_label = 'Production quantity (tonnes)',\n",
    "                 time_label = 'Year: ', ## overwrites default `Date: `\n",
    "                 frame_duration = 800)"
   ]
  }
 ],
 "metadata": {
  "kernelspec": {
   "display_name": "Python 3",
   "language": "python",
   "name": "python3"
  },
  "language_info": {
   "codemirror_mode": {
    "name": "ipython",
    "version": 3
   },
   "file_extension": ".py",
   "mimetype": "text/x-python",
   "name": "python",
   "nbconvert_exporter": "python",
   "pygments_lexer": "ipython3",
   "version": "3.8.5"
  }
 },
 "nbformat": 4,
 "nbformat_minor": 4
}
