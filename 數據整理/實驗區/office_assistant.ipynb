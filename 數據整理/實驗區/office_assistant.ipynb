{
 "cells": [
  {
   "cell_type": "code",
   "execution_count": null,
   "metadata": {},
   "outputs": [],
   "source": [
    "import pandas as pd\n",
    "import tkinter as tk\n",
    "from tkinter import filedialog\n",
    "pd.set_option('display.max_columns', None)\n",
    "pd.set_option('display.float_format', lambda x: '%.2f' % x)\n",
    "from datetime import datetime\n",
    "import plotly.express as px"
   ]
  },
  {
   "cell_type": "code",
   "execution_count": null,
   "metadata": {},
   "outputs": [],
   "source": [
    "_today = datetime.today().strftime('%Y-%m-%d')\n",
    "def to_report(pivot_table, plot, today=_today):\n",
    "    with open(_today + '_weekly_report_iris.html', 'w') as f:\n",
    "        f.write(pivot_table.to_html())\n",
    "        f.write(plot.to_html(full_html=False, include_plotlyjs='cdn'))\n",
    "        f.close()"
   ]
  },
  {
   "cell_type": "code",
   "execution_count": null,
   "metadata": {},
   "outputs": [],
   "source": [
    "class WeeklyReport:\n",
    "    \n",
    "    _today = datetime.today().strftime('%Y-%m')\n",
    "    \n",
    "    _month_dict = {1: 'January', 2: 'February', 3: 'March', 4: 'April', \n",
    "             5: 'May', 6: 'June', 7: 'July', 8: 'August', \n",
    "             9: 'September', 10: 'October', 11: 'November', 12: 'December'}\n",
    "    \n",
    "    _month_list = list(_month_dict.values())\n",
    "    \n",
    "    def __init__(self):\n",
    "        path = self.file_path()\n",
    "        df = self.sheet_select(path)\n",
    "        self.df = df\n",
    "        \n",
    "    def file_path(self):\n",
    "        root = tk.Tk()\n",
    "        root.withdraw()\n",
    "        path = filedialog.askopenfilename()\n",
    "        return path\n",
    "\n",
    "    def sheet_select(self, path):\n",
    "        df = pd.read_excel(path, None)\n",
    "        sheet_dict = {}\n",
    "        for index, sheet in enumerate(df.keys()):\n",
    "            print(index + 1, sheet)\n",
    "            sheet_dict.setdefault(index + 1, sheet)\n",
    "        slct_sheet = eval(input('請輸入要開啟的sheet編號：\\n'))\n",
    "        df = df[sheet_dict[slct_sheet]]\n",
    "        return df\n",
    "    \n",
    "    @property\n",
    "    def for_iris(self):\n",
    "        last_month = int(self._today.split('-')[-1]) - 1\n",
    "        this_month = int(self._today.split('-')[-1])\n",
    "        next_month = int(self._today.split('-')[-1]) + 1\n",
    "        df = self.df[(self.df['狀態'].str.contains('出')) & (self.df['BG'] == 'RF') & (self.df['預交年份'] == int(self._today.split('-')[0])) & \n",
    "                    (self.df['預交月份'].isin([self._month_dict[last_month], self._month_dict[this_month], self._month_dict[next_month]]))]\n",
    "        df['廠別'] = df['品名'].map(lambda x: 'BU2' if x.startswith('RFDP') else 'BU1')\n",
    "        df['Type'] = '實績'\n",
    "        df = df[df['廠別'] == 'BU1']\n",
    "        df = df.groupby(['負責業務', '預交月份'])[['本國幣別NTD']].sum().reset_index()\n",
    "        df['預交月份'] = pd.Categorical(df['預交月份'], ordered=True, categories=self._month_list)\n",
    "        \n",
    "        table = df.pivot_table(index='負責業務', values='本國幣別NTD', columns='預交月份', fill_value=0, aggfunc='sum', margins=True)\n",
    "        pd.options.display.float_format = '{:,.0f}'.format # 讓pivot table裡面可以使用千分位\n",
    "        return table\n",
    "    \n",
    "    @property\n",
    "    def iris_plot(self):\n",
    "        last_month = int(self._today.split('-')[-1]) - 1\n",
    "        this_month = int(self._today.split('-')[-1])\n",
    "        next_month = int(self._today.split('-')[-1]) + 1\n",
    "        df = self.df[(self.df['狀態'].str.contains('出')) & (self.df['BG'] == 'RF') & (self.df['預交年份'] == int(self._today.split('-')[0]))]\n",
    "        df['預交月份'] = pd.Categorical(df['預交月份'], ordered=True, categories=self._month_list)\n",
    "        df['廠別'] = df['品名'].map(lambda x: 'BU2' if x.startswith('RFDP') else 'BU1')\n",
    "        df = df[df['廠別'] == 'BU1']\n",
    "        plot = df.groupby(['預交月份'])[['本國幣別NTD']].sum().reset_index()\n",
    "        fig = px.histogram(plot, x='預交月份', y='本國幣別NTD', category_orders={'預交月份': self._month_list}, \n",
    "                          title='BU1 Amber team每月實績', labels=dict(本國幣別NTD='Revenue', 預交月份='Month'))\n",
    "        return fig\n",
    "        "
   ]
  },
  {
   "cell_type": "code",
   "execution_count": null,
   "metadata": {},
   "outputs": [],
   "source": [
    "import plotly.express as px"
   ]
  },
  {
   "cell_type": "code",
   "execution_count": null,
   "metadata": {},
   "outputs": [],
   "source": [
    "data = df.df"
   ]
  },
  {
   "cell_type": "code",
   "execution_count": null,
   "metadata": {},
   "outputs": [],
   "source": [
    "wip = data[(data.BG == 'RF') & (data['狀態'].str.contains('出')) & (data['負責業務'] == '許凱智')]"
   ]
  },
  {
   "cell_type": "code",
   "execution_count": null,
   "metadata": {},
   "outputs": [],
   "source": [
    "wip['單價'] = wip.apply(lambda x: x['單價'] / 28.5 if x['幣別'] == 'NTD' else x['單價'] / 6.5 if x['幣別'] == 'CNY' else x['單價'], axis=1)"
   ]
  },
  {
   "cell_type": "code",
   "execution_count": null,
   "metadata": {},
   "outputs": [],
   "source": [
    "wip = wip.groupby(['品名', '單價'])[['數量', '本國幣別NTD']].sum().reset_index()"
   ]
  },
  {
   "cell_type": "code",
   "execution_count": null,
   "metadata": {},
   "outputs": [],
   "source": [
    "med_price = round(wip['單價'].mean(), 2)\n",
    "med_qty = round(wip['數量'].mean(), 2)"
   ]
  },
  {
   "cell_type": "code",
   "execution_count": null,
   "metadata": {},
   "outputs": [],
   "source": [
    "fig = px.scatter(wip, x='數量', y='單價', size='本國幣別NTD', color='品名', title='產品象限圖')\n",
    "fig.update_yaxes(tickprefix='$', showgrid=True)\n",
    "fig.add_shape( # add a horizontal \"target\" line\n",
    "    type=\"line\", line_color=\"salmon\", line_width=3, opacity=1, line_dash=\"dot\",\n",
    "    x0=0, x1=1, xref=\"paper\", y0=med_price, y1=med_price, yref=\"y\"\n",
    ")\n",
    "fig.add_shape( # add a vertical \"target\" line\n",
    "    type=\"line\", line_color=\"salmon\", line_width=3, opacity=1, line_dash=\"dot\",\n",
    "    x0=med_qty, x1=med_qty, xref=\"x\", y0=0, y1=1, yref=\"paper\"\n",
    ")"
   ]
  },
  {
   "cell_type": "code",
   "execution_count": null,
   "metadata": {},
   "outputs": [],
   "source": [
    "df = WeeklyReport()"
   ]
  },
  {
   "cell_type": "code",
   "execution_count": null,
   "metadata": {},
   "outputs": [],
   "source": [
    "class SampleTracking:\n",
    "    def __init__(self):\n",
    "        pass"
   ]
  },
  {
   "cell_type": "code",
   "execution_count": null,
   "metadata": {},
   "outputs": [],
   "source": [
    "# 將ipynb轉py要寫下面的程式碼\n",
    "!jupyter nbconvert --to script office_assistant.ipynb "
   ]
  },
  {
   "cell_type": "code",
   "execution_count": null,
   "metadata": {},
   "outputs": [],
   "source": []
  }
 ],
 "metadata": {
  "kernelspec": {
   "display_name": "Python 3",
   "language": "python",
   "name": "python3"
  },
  "language_info": {
   "codemirror_mode": {
    "name": "ipython",
    "version": 3
   },
   "file_extension": ".py",
   "mimetype": "text/x-python",
   "name": "python",
   "nbconvert_exporter": "python",
   "pygments_lexer": "ipython3",
   "version": "3.8.5"
  }
 },
 "nbformat": 4,
 "nbformat_minor": 4
}
