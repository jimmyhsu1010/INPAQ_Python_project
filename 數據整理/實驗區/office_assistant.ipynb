{
 "cells": [
  {
   "cell_type": "code",
   "execution_count": null,
   "metadata": {},
   "outputs": [],
   "source": [
    "import pandas as pd\n",
    "import tkinter as tk\n",
    "from tkinter import filedialog\n",
    "pd.set_option('display.max_columns', None)\n",
    "pd.set_option('display.float_format', lambda x: '%.0f' % x)\n",
    "from datetime import datetime\n",
    "import plotly.express as px"
   ]
  },
  {
   "cell_type": "code",
   "execution_count": null,
   "metadata": {},
   "outputs": [],
   "source": [
    "def file_path():\n",
    "    root = tk.Tk()\n",
    "    root.withdraw()\n",
    "    path = filedialog.askopenfilename()\n",
    "    return path"
   ]
  },
  {
   "cell_type": "code",
   "execution_count": null,
   "metadata": {},
   "outputs": [],
   "source": [
    "def sheet_select(path):\n",
    "    df = pd.read_excel(path, None)\n",
    "    sheet_dict = {}\n",
    "    for index, sheet in enumerate(df.keys()):\n",
    "        print(index + 1, sheet)\n",
    "        sheet_dict.setdefault(index + 1, sheet)\n",
    "    slct_sheet = eval(input('請輸入要開啟的sheet編號：\\n'))\n",
    "    df = df[sheet_dict[slct_sheet]]\n",
    "    return df"
   ]
  },
  {
   "cell_type": "code",
   "execution_count": null,
   "metadata": {},
   "outputs": [],
   "source": [
    "class WeeklyReport:\n",
    "    \n",
    "    _today = datetime.today().strftime('%Y-%m')\n",
    "    \n",
    "    _month_dict = {1: 'January', 2: 'February', 3: 'March', 4: 'April', \n",
    "             5: 'May', 6: 'June', 7: 'July', 8: 'August', \n",
    "             9: 'September', 10: 'October', 11: 'November', 12: 'December'}\n",
    "    \n",
    "    _month_list = list(_month_dict.values())\n",
    "    \n",
    "    def __init__(self, df):\n",
    "        self.df = df\n",
    "        \n",
    "    def for_iris(self):\n",
    "        last_month = int(self._today.split('-')[-1]) - 1\n",
    "        this_month = int(self._today.split('-')[-1])\n",
    "        next_month = int(self._today.split('-')[-1]) + 1\n",
    "        df = self.df[(self.df['狀態'].str.contains('出')) & (self.df['BG'] == 'RF') & (self.df['預交年份'] == int(self._today.split('-')[0])) & \n",
    "                    (self.df['預交月份'].isin([self._month_dict[last_month], self._month_dict[this_month], self._month_dict[next_month]]))]\n",
    "        df['預交月份'] = pd.Categorical(df['預交月份'], ordered=True, categories=self._month_list)\n",
    "        df['廠別'] = df['品名'].map(lambda x: 'BU2' if x.startswith('RFDP') else 'BU1')\n",
    "        table = df.pivot_table(index=['負責業務', '廠別'], values='本國幣別NTD', columns='預交月份', fill_value=0)\n",
    "        return table\n",
    "    \n",
    "    def iris_plot(self):\n",
    "        last_month = int(self._today.split('-')[-1]) - 1\n",
    "        this_month = int(self._today.split('-')[-1])\n",
    "        next_month = int(self._today.split('-')[-1]) + 1\n",
    "        df = self.df[(self.df['狀態'].str.contains('出')) & (self.df['BG'] == 'RF') & (self.df['預交年份'] == int(self._today.split('-')[0])) & \n",
    "                    (self.df['預交月份'].isin([self._month_dict[last_month], self._month_dict[this_month], self._month_dict[next_month]]))]\n",
    "        df['預交月份'] = pd.Categorical(df['預交月份'], ordered=True, categories=self._month_list)\n",
    "        df['廠別'] = df['品名'].map(lambda x: 'BU2' if x.startswith('RFDP') else 'BU1')\n",
    "        plot = df.groupby(['負責業務', '廠別', '預交月份'])[['本國幣別NTD']].sum().reset_index()\n",
    "        fig = px.histogram(plot, x='預交月份', y='本國幣別NTD', color='負責業務', facet_col='廠別', barmode='group', category_orders={'預交月份': self._month_list}, log_y=True)\n",
    "        return fig\n",
    "        "
   ]
  },
  {
   "cell_type": "code",
   "execution_count": 1,
   "metadata": {},
   "outputs": [
    {
     "name": "stdout",
     "output_type": "stream",
     "text": [
      "[NbConvertApp] Converting notebook office_assistant.ipynb to script\n",
      "[NbConvertApp] Writing 2948 bytes to office_assistant.py\n"
     ]
    }
   ],
   "source": [
    "# 將ipynb轉py要寫下面的程式碼\n",
    "!jupyter nbconvert --to script office_assistant.ipynb "
   ]
  },
  {
   "cell_type": "code",
   "execution_count": null,
   "metadata": {},
   "outputs": [],
   "source": []
  }
 ],
 "metadata": {
  "kernelspec": {
   "display_name": "Python 3",
   "language": "python",
   "name": "python3"
  },
  "language_info": {
   "codemirror_mode": {
    "name": "ipython",
    "version": 3
   },
   "file_extension": ".py",
   "mimetype": "text/x-python",
   "name": "python",
   "nbconvert_exporter": "python",
   "pygments_lexer": "ipython3",
   "version": "3.8.5"
  }
 },
 "nbformat": 4,
 "nbformat_minor": 4
}
