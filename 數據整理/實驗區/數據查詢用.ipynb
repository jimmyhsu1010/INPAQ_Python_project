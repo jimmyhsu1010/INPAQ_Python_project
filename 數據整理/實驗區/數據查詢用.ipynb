{
 "cells": [
  {
   "cell_type": "code",
   "execution_count": null,
   "metadata": {},
   "outputs": [],
   "source": [
    "import pandas as pd\n",
    "pd.set_option('display.float_format', lambda x: '%.0f' % x)\n",
    "pd.set_option('display.max_columns', None)\n",
    "import plotly.express as px"
   ]
  },
  {
   "cell_type": "code",
   "execution_count": null,
   "metadata": {},
   "outputs": [],
   "source": [
    "import tkinter as tk\n",
    "from tkinter import filedialog"
   ]
  },
  {
   "cell_type": "code",
   "execution_count": null,
   "metadata": {},
   "outputs": [],
   "source": [
    "def get_path():\n",
    "    root = tk.Tk()\n",
    "    root.withdraw()\n",
    "    path = filedialog.askopenfilename()\n",
    "    return path"
   ]
  },
  {
   "cell_type": "code",
   "execution_count": null,
   "metadata": {},
   "outputs": [],
   "source": [
    "def get_sheet(path):\n",
    "    df = pd.read_excel(path, None)\n",
    "    sheet_dict = {}\n",
    "    for i, j in enumerate(df.keys()):\n",
    "        print(i, j, sep='\\t')\n",
    "        sheet_dict.setdefault(i, j)\n",
    "    sheet = eval(input('Please enter the sheet number to open:\\n'))\n",
    "    df = df[sheet_dict[sheet]]\n",
    "    return df"
   ]
  },
  {
   "cell_type": "code",
   "execution_count": null,
   "metadata": {},
   "outputs": [],
   "source": [
    "path = get_path()"
   ]
  },
  {
   "cell_type": "code",
   "execution_count": null,
   "metadata": {},
   "outputs": [],
   "source": [
    "df = get_sheet(path)"
   ]
  },
  {
   "cell_type": "code",
   "execution_count": null,
   "metadata": {},
   "outputs": [],
   "source": [
    "teltonika = df[(df['狀態'].str.contains('未出')) & (df['Group'] == 'TELTONIKA') & (df['BG'] == 'RF') & (~df['出通單號'].notna()) & (~df['品名'].str.contains('RFDPA'))]"
   ]
  },
  {
   "cell_type": "code",
   "execution_count": null,
   "metadata": {},
   "outputs": [],
   "source": [
    "result = teltonika.groupby([pd.Grouper(key='預交日期', freq='M'), 'Group', '品名', 'Subcategory', '銷售單號', '開單日期'])[['數量']].sum().reset_index()"
   ]
  },
  {
   "cell_type": "code",
   "execution_count": null,
   "metadata": {},
   "outputs": [],
   "source": [
    "result['Month'] = result['預交日期'].dt.month_name()"
   ]
  },
  {
   "cell_type": "code",
   "execution_count": null,
   "metadata": {},
   "outputs": [],
   "source": [
    "result = result[~result['品名'].str.contains('DAM')]"
   ]
  },
  {
   "cell_type": "code",
   "execution_count": null,
   "metadata": {
    "scrolled": true
   },
   "outputs": [],
   "source": [
    "fig = px.histogram(result, x='Month', y='數量', color='Subcategory', title='TELTONIKA shipment plan in the following months', labels=dict(Subcategory='Type', 數量='Qty.'))"
   ]
  },
  {
   "cell_type": "code",
   "execution_count": null,
   "metadata": {},
   "outputs": [],
   "source": [
    "table = result.style.format({'預交日期': '{:%Y-%m}', '開單日期': '{:%Y-%m-%d}', '數量': '{:,.0f}'}).hide_index().set_caption('TELTONIKA在途訂單各月未交數量')"
   ]
  },
  {
   "cell_type": "code",
   "execution_count": null,
   "metadata": {},
   "outputs": [],
   "source": [
    "with open('Teltonika_shipment_plan.html', 'w') as f:\n",
    "    f.write(table.render())\n",
    "    f.write(fig.to_html(full_html=False, include_plotlyjs='cdn'))\n",
    "    f.close()"
   ]
  },
  {
   "cell_type": "code",
   "execution_count": null,
   "metadata": {},
   "outputs": [],
   "source": [
    "result.to_excel(r\"C:\\Users\\kaihsu\\Desktop\\teltonika_shipment_plan.xlsx\", index=False)"
   ]
  },
  {
   "cell_type": "code",
   "execution_count": null,
   "metadata": {
    "scrolled": true
   },
   "outputs": [],
   "source": [
    "df[(df['Group'] == 'TELTONIKA') & (~df['品名'].str.contains('PA|RFDP|DAM')) & (df['BG'] == 'RF')]['品名'].unique()"
   ]
  },
  {
   "cell_type": "code",
   "execution_count": null,
   "metadata": {},
   "outputs": [],
   "source": [
    "from etl_tools import select_sheet"
   ]
  },
  {
   "cell_type": "code",
   "execution_count": null,
   "metadata": {},
   "outputs": [],
   "source": [
    "df = select_sheet()"
   ]
  },
  {
   "cell_type": "code",
   "execution_count": null,
   "metadata": {},
   "outputs": [],
   "source": [
    "result = df[(df[\"BG\"] == \"RF\") & (df[\"Group\"] == \"TELTONIKA\") & (df[\"狀態\"].str.contains(\"出\")) & (df[\"預交年份\"] == 2021) & (df[\"預交日期\"] >= \"2021-03-01\") & (df[\"品名\"].isin([\"RFDPA191300SMTB806J4\", \"RFDPA171300SBAB823J4\", \"RFDPA141300SBLB803J4\", \"RFDPA141300SBLB803J4\"]))]"
   ]
  },
  {
   "cell_type": "code",
   "execution_count": null,
   "metadata": {
    "scrolled": true
   },
   "outputs": [],
   "source": [
    "result = result.pivot_table(index=\"品名\", values=\"數量\", columns=\"預交日期\")"
   ]
  },
  {
   "cell_type": "code",
   "execution_count": null,
   "metadata": {},
   "outputs": [],
   "source": [
    "result = pd.DataFrame(result.to_records())"
   ]
  },
  {
   "cell_type": "code",
   "execution_count": null,
   "metadata": {},
   "outputs": [],
   "source": [
    "result.columns = ['品名', '2021-03-09', '2021-03-26',\n",
    "       '2021-04-02', '2021-04-26', '2021-05-07']"
   ]
  },
  {
   "cell_type": "code",
   "execution_count": null,
   "metadata": {
    "scrolled": false
   },
   "outputs": [],
   "source": [
    "result.style.format({\"2021-03-09\":\"{:,.0f}\", \"2021-03-26\":\"{:,.0f}\", \"2021-04-02\":\"{:,.0f}\", \"2021-04-26\":\"{:,.0f}\", \"2021-05-07\":\"{:,.0f}\"})"
   ]
  },
  {
   "cell_type": "code",
   "execution_count": null,
   "metadata": {
    "scrolled": true
   },
   "outputs": [],
   "source": [
    "a, b, c = map(int, input(\"enter somthing\").split())"
   ]
  },
  {
   "cell_type": "code",
   "execution_count": null,
   "metadata": {},
   "outputs": [],
   "source": [
    "wip = df[(df[\"BG\"] == \"WIP\") & (df[\"狀態\"].str.contains(\"出\")) & (df[\"預交年份\"] == 2021) & (df[\"預交月份\"] == \"March\")]"
   ]
  },
  {
   "cell_type": "code",
   "execution_count": null,
   "metadata": {},
   "outputs": [],
   "source": [
    "wip = wip.pivot_table(index=[\"負責業務\", \"Group\"], values=\"本國幣別NTD\", aggfunc=\"sum\", margins=True, margins_name=\"總計\").reset_index()"
   ]
  },
  {
   "cell_type": "code",
   "execution_count": null,
   "metadata": {},
   "outputs": [],
   "source": [
    "wip.style.format({\"本國幣別NTD\":\"{:,.0f}\"}).hide_index().set_caption(\"2021年3月份WIP實績\")"
   ]
  },
  {
   "cell_type": "markdown",
   "metadata": {},
   "source": [
    "## 出貨排程確認"
   ]
  },
  {
   "cell_type": "code",
   "execution_count": null,
   "metadata": {},
   "outputs": [],
   "source": [
    "df = pd.read_clipboard()"
   ]
  },
  {
   "cell_type": "code",
   "execution_count": null,
   "metadata": {},
   "outputs": [],
   "source": [
    "weekly = pd.read_excel('/Users/kai/OneDrive/INPAQ/業績總表/Weekly report_v0.1.xlsx', sheet_name='出貨明細')"
   ]
  },
  {
   "cell_type": "code",
   "execution_count": null,
   "metadata": {},
   "outputs": [],
   "source": [
    "weekly = weekly[['銷售單號', '預交日期', '數量', '品名', '銷售項次']]"
   ]
  },
  {
   "cell_type": "code",
   "execution_count": null,
   "metadata": {},
   "outputs": [],
   "source": [
    "weekly.columns = ['訂單單號', '預交日期', '未交量', '品名', '項次']"
   ]
  },
  {
   "cell_type": "code",
   "execution_count": null,
   "metadata": {},
   "outputs": [],
   "source": [
    "result = pd.merge(df, weekly, on=['訂單單號', '未交量', '品名', '項次'], how='left')"
   ]
  },
  {
   "cell_type": "code",
   "execution_count": null,
   "metadata": {},
   "outputs": [],
   "source": [
    "result"
   ]
  },
  {
   "cell_type": "code",
   "execution_count": null,
   "metadata": {
    "scrolled": true
   },
   "outputs": [],
   "source": [
    "result.to_excel('/Users/kai/Desktop/Susan.xlsx', index=False)"
   ]
  },
  {
   "cell_type": "code",
   "execution_count": null,
   "metadata": {},
   "outputs": [],
   "source": []
  }
 ],
 "metadata": {
  "kernelspec": {
   "display_name": "Python 3",
   "language": "python",
   "name": "python3"
  },
  "language_info": {
   "codemirror_mode": {
    "name": "ipython",
    "version": 3
   },
   "file_extension": ".py",
   "mimetype": "text/x-python",
   "name": "python",
   "nbconvert_exporter": "python",
   "pygments_lexer": "ipython3",
   "version": "3.8.5"
  }
 },
 "nbformat": 4,
 "nbformat_minor": 4
}
