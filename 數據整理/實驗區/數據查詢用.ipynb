{
 "cells": [
  {
   "cell_type": "code",
   "execution_count": null,
   "metadata": {},
   "outputs": [],
   "source": [
    "import pandas as pd"
   ]
  },
  {
   "cell_type": "code",
   "execution_count": null,
   "metadata": {},
   "outputs": [],
   "source": [
    "from etl_tools import select_sheet"
   ]
  },
  {
   "cell_type": "code",
   "execution_count": null,
   "metadata": {},
   "outputs": [],
   "source": [
    "df = select_sheet()"
   ]
  },
  {
   "cell_type": "code",
   "execution_count": null,
   "metadata": {},
   "outputs": [],
   "source": [
    "result = df[(df[\"BG\"] == \"RF\") & (df[\"Group\"] == \"TELTONIKA\") & (df[\"狀態\"].str.contains(\"出\")) & (df[\"預交年份\"] == 2021) & (df[\"預交日期\"] >= \"2021-03-01\") & (df[\"品名\"].isin([\"RFDPA191300SMTB806J4\", \"RFDPA171300SBAB823J4\", \"RFDPA141300SBLB803J4\", \"RFDPA141300SBLB803J4\"]))]"
   ]
  },
  {
   "cell_type": "code",
   "execution_count": null,
   "metadata": {
    "scrolled": true
   },
   "outputs": [],
   "source": [
    "result = result.pivot_table(index=\"品名\", values=\"數量\", columns=\"預交日期\")"
   ]
  },
  {
   "cell_type": "code",
   "execution_count": null,
   "metadata": {},
   "outputs": [],
   "source": [
    "result = pd.DataFrame(result.to_records())"
   ]
  },
  {
   "cell_type": "code",
   "execution_count": null,
   "metadata": {},
   "outputs": [],
   "source": [
    "result.columns = ['品名', '2021-03-09', '2021-03-26',\n",
    "       '2021-04-02', '2021-04-26', '2021-05-07']"
   ]
  },
  {
   "cell_type": "code",
   "execution_count": null,
   "metadata": {
    "scrolled": false
   },
   "outputs": [],
   "source": [
    "result.style.format({\"2021-03-09\":\"{:,.0f}\", \"2021-03-26\":\"{:,.0f}\", \"2021-04-02\":\"{:,.0f}\", \"2021-04-26\":\"{:,.0f}\", \"2021-05-07\":\"{:,.0f}\"})"
   ]
  },
  {
   "cell_type": "code",
   "execution_count": null,
   "metadata": {
    "scrolled": true
   },
   "outputs": [],
   "source": [
    "a, b, c = map(int, input(\"enter somthing\").split())"
   ]
  },
  {
   "cell_type": "code",
   "execution_count": null,
   "metadata": {},
   "outputs": [],
   "source": [
    "wip = df[(df[\"BG\"] == \"WIP\") & (df[\"狀態\"].str.contains(\"出\")) & (df[\"預交年份\"] == 2021) & (df[\"預交月份\"] == \"March\")]"
   ]
  },
  {
   "cell_type": "code",
   "execution_count": null,
   "metadata": {},
   "outputs": [],
   "source": [
    "wip = wip.pivot_table(index=[\"負責業務\", \"Group\"], values=\"本國幣別NTD\", aggfunc=\"sum\", margins=True, margins_name=\"總計\").reset_index()"
   ]
  },
  {
   "cell_type": "code",
   "execution_count": null,
   "metadata": {},
   "outputs": [],
   "source": [
    "wip.style.format({\"本國幣別NTD\":\"{:,.0f}\"}).hide_index().set_caption(\"2021年3月份WIP實績\")"
   ]
  }
 ],
 "metadata": {
  "kernelspec": {
   "display_name": "Python 3",
   "language": "python",
   "name": "python3"
  },
  "language_info": {
   "codemirror_mode": {
    "name": "ipython",
    "version": 3
   },
   "file_extension": ".py",
   "mimetype": "text/x-python",
   "name": "python",
   "nbconvert_exporter": "python",
   "pygments_lexer": "ipython3",
   "version": "3.8.5"
  }
 },
 "nbformat": 4,
 "nbformat_minor": 4
}
