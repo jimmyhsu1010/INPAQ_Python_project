{
 "cells": [
  {
   "cell_type": "code",
   "execution_count": 1,
   "metadata": {},
   "outputs": [],
   "source": [
    "import pandas as pd\n",
    "pd.set_option('display.float_format', lambda x: '%.0f' % x)\n",
    "pd.set_option('display.max_columns', None)\n",
    "import plotly.express as px"
   ]
  },
  {
   "cell_type": "code",
   "execution_count": null,
   "metadata": {},
   "outputs": [],
   "source": [
    "import tkinter as tk\n",
    "from tkinter import filedialog"
   ]
  },
  {
   "cell_type": "code",
   "execution_count": null,
   "metadata": {},
   "outputs": [],
   "source": [
    "def get_path():\n",
    "    root = tk.Tk()\n",
    "    root.withdraw()\n",
    "    path = filedialog.askopenfilename()\n",
    "    return path"
   ]
  },
  {
   "cell_type": "code",
   "execution_count": null,
   "metadata": {},
   "outputs": [],
   "source": [
    "def get_sheet(path):\n",
    "    df = pd.read_excel(path, None)\n",
    "    sheet_dict = {}\n",
    "    for i, j in enumerate(df.keys()):\n",
    "        print(i, j, sep='\\t')\n",
    "        sheet_dict.setdefault(i, j)\n",
    "    sheet = eval(input('Please enter the sheet number to open:\\n'))\n",
    "    df = df[sheet_dict[sheet]]\n",
    "    return df"
   ]
  },
  {
   "cell_type": "code",
   "execution_count": null,
   "metadata": {},
   "outputs": [],
   "source": [
    "path = get_path()"
   ]
  },
  {
   "cell_type": "code",
   "execution_count": null,
   "metadata": {},
   "outputs": [],
   "source": [
    "df = get_sheet(path)"
   ]
  },
  {
   "cell_type": "code",
   "execution_count": null,
   "metadata": {},
   "outputs": [],
   "source": [
    "teltonika = df[(df['狀態'].str.contains('未出')) & (df['Group'] == 'TELTONIKA') & (df['BG'] == 'RF') & (~df['出通單號'].notna()) & (~df['品名'].str.contains('RFDPA'))]"
   ]
  },
  {
   "cell_type": "code",
   "execution_count": null,
   "metadata": {},
   "outputs": [],
   "source": [
    "result = teltonika.groupby([pd.Grouper(key='預交日期', freq='M'), 'Group', '品名', 'Subcategory', '銷售單號', '開單日期'])[['數量']].sum().reset_index()"
   ]
  },
  {
   "cell_type": "code",
   "execution_count": null,
   "metadata": {},
   "outputs": [],
   "source": [
    "result['Month'] = result['預交日期'].dt.month_name()"
   ]
  },
  {
   "cell_type": "code",
   "execution_count": null,
   "metadata": {},
   "outputs": [],
   "source": [
    "result = result[~result['品名'].str.contains('DAM')]"
   ]
  },
  {
   "cell_type": "code",
   "execution_count": null,
   "metadata": {
    "scrolled": true
   },
   "outputs": [],
   "source": [
    "fig = px.histogram(result, x='Month', y='數量', color='Subcategory', title='TELTONIKA shipment plan in the following months', labels=dict(Subcategory='Type', 數量='Qty.'))"
   ]
  },
  {
   "cell_type": "code",
   "execution_count": null,
   "metadata": {},
   "outputs": [],
   "source": [
    "table = result.style.format({'預交日期': '{:%Y-%m}', '開單日期': '{:%Y-%m-%d}', '數量': '{:,.0f}'}).hide_index().set_caption('TELTONIKA在途訂單各月未交數量')"
   ]
  },
  {
   "cell_type": "code",
   "execution_count": null,
   "metadata": {},
   "outputs": [],
   "source": [
    "with open('Teltonika_shipment_plan.html', 'w') as f:\n",
    "    f.write(table.render())\n",
    "    f.write(fig.to_html(full_html=False, include_plotlyjs='cdn'))\n",
    "    f.close()"
   ]
  },
  {
   "cell_type": "code",
   "execution_count": null,
   "metadata": {},
   "outputs": [],
   "source": [
    "result.to_excel(r\"C:\\Users\\kaihsu\\Desktop\\teltonika_shipment_plan.xlsx\", index=False)"
   ]
  },
  {
   "cell_type": "code",
   "execution_count": null,
   "metadata": {
    "scrolled": true
   },
   "outputs": [],
   "source": [
    "df[(df['Group'] == 'TELTONIKA') & (~df['品名'].str.contains('PA|RFDP|DAM')) & (df['BG'] == 'RF')]['品名'].unique()"
   ]
  },
  {
   "cell_type": "code",
   "execution_count": null,
   "metadata": {},
   "outputs": [],
   "source": [
    "from etl_tools import select_sheet"
   ]
  },
  {
   "cell_type": "code",
   "execution_count": null,
   "metadata": {},
   "outputs": [],
   "source": [
    "df = select_sheet()"
   ]
  },
  {
   "cell_type": "code",
   "execution_count": null,
   "metadata": {},
   "outputs": [],
   "source": [
    "result = df[(df[\"BG\"] == \"RF\") & (df[\"Group\"] == \"TELTONIKA\") & (df[\"狀態\"].str.contains(\"出\")) & (df[\"預交年份\"] == 2021) & (df[\"預交日期\"] >= \"2021-03-01\") & (df[\"品名\"].isin([\"RFDPA191300SMTB806J4\", \"RFDPA171300SBAB823J4\", \"RFDPA141300SBLB803J4\", \"RFDPA141300SBLB803J4\"]))]"
   ]
  },
  {
   "cell_type": "code",
   "execution_count": null,
   "metadata": {
    "scrolled": true
   },
   "outputs": [],
   "source": [
    "result = result.pivot_table(index=\"品名\", values=\"數量\", columns=\"預交日期\")"
   ]
  },
  {
   "cell_type": "code",
   "execution_count": null,
   "metadata": {},
   "outputs": [],
   "source": [
    "result = pd.DataFrame(result.to_records())"
   ]
  },
  {
   "cell_type": "code",
   "execution_count": null,
   "metadata": {},
   "outputs": [],
   "source": [
    "result.columns = ['品名', '2021-03-09', '2021-03-26',\n",
    "       '2021-04-02', '2021-04-26', '2021-05-07']"
   ]
  },
  {
   "cell_type": "code",
   "execution_count": null,
   "metadata": {
    "scrolled": false
   },
   "outputs": [],
   "source": [
    "result.style.format({\"2021-03-09\":\"{:,.0f}\", \"2021-03-26\":\"{:,.0f}\", \"2021-04-02\":\"{:,.0f}\", \"2021-04-26\":\"{:,.0f}\", \"2021-05-07\":\"{:,.0f}\"})"
   ]
  },
  {
   "cell_type": "code",
   "execution_count": null,
   "metadata": {
    "scrolled": true
   },
   "outputs": [],
   "source": [
    "a, b, c = map(int, input(\"enter somthing\").split())"
   ]
  },
  {
   "cell_type": "code",
   "execution_count": null,
   "metadata": {},
   "outputs": [],
   "source": [
    "wip = df[(df[\"BG\"] == \"WIP\") & (df[\"狀態\"].str.contains(\"出\")) & (df[\"預交年份\"] == 2021) & (df[\"預交月份\"] == \"March\")]"
   ]
  },
  {
   "cell_type": "code",
   "execution_count": null,
   "metadata": {},
   "outputs": [],
   "source": [
    "wip = wip.pivot_table(index=[\"負責業務\", \"Group\"], values=\"本國幣別NTD\", aggfunc=\"sum\", margins=True, margins_name=\"總計\").reset_index()"
   ]
  },
  {
   "cell_type": "code",
   "execution_count": null,
   "metadata": {},
   "outputs": [],
   "source": [
    "wip.style.format({\"本國幣別NTD\":\"{:,.0f}\"}).hide_index().set_caption(\"2021年3月份WIP實績\")"
   ]
  },
  {
   "cell_type": "markdown",
   "metadata": {},
   "source": [
    "## BU1 BU2分類"
   ]
  },
  {
   "cell_type": "code",
   "execution_count": 2,
   "metadata": {},
   "outputs": [],
   "source": [
    "df = pd.read_clipboard()"
   ]
  },
  {
   "cell_type": "code",
   "execution_count": 8,
   "metadata": {},
   "outputs": [],
   "source": [
    "df.columns = df.columns.str.strip()"
   ]
  },
  {
   "cell_type": "code",
   "execution_count": 10,
   "metadata": {},
   "outputs": [],
   "source": [
    "result = df[df['狀態'].str.contains('出')]"
   ]
  },
  {
   "cell_type": "code",
   "execution_count": 19,
   "metadata": {},
   "outputs": [],
   "source": [
    "keys = result['品名'].tolist()\n",
    "values = result['BU'].tolist()\n",
    "bu_dict = dict(zip(keys, values))"
   ]
  },
  {
   "cell_type": "code",
   "execution_count": 20,
   "metadata": {
    "scrolled": true
   },
   "outputs": [
    {
     "data": {
      "text/plain": [
       "{'WA-P-LTE9-02-004-A': 'RF1',\n",
       " 'WAG-P-LTE10-00-001 Test Board': 'RF1',\n",
       " 'ACE-3505-P1-PF-S  Test Board': 'RF2',\n",
       " 'PA1590MQ4G-118-2KP-A': 'RF1',\n",
       " 'WA-F-LTE10-02-016-A': 'RF1',\n",
       " 'WA-F-LTE10-02-014': 'RF1',\n",
       " 'WA-F-S6G1-02-011': 'RF1',\n",
       " 'WA-F-S6G1-02-012': 'RF1',\n",
       " 'WA-F-S6G2-02-006': 'RF1',\n",
       " 'WA-F-S6G2-07-001': 'RF1',\n",
       " 'WA-F-S6G2-07-002': 'RF1',\n",
       " 'WA-F-S6G2-07-003': 'RF1',\n",
       " 'WA-F-S6G2-07-004': 'RF1',\n",
       " 'WA-F-LE-02-011': 'RF1',\n",
       " 'WA-F-LE-02-013': 'RF1',\n",
       " 'WA-F-S6G2-02-005': 'RF1',\n",
       " 'WA-F-LE-02-018': 'RF1',\n",
       " 'WA-F-LTE15LBG0-15-003': 'RF1',\n",
       " 'WA-F-LB-03-124': 'RF1',\n",
       " 'WA-F-LTE15LBG0-15-004-01': 'RF1',\n",
       " 'WA-F-LE-02-021 II': 'RF1',\n",
       " 'WA-F-S6G1-02-013 II': 'RF1',\n",
       " 'WA-F-S6G1-02-014 II': 'RF1',\n",
       " 'WA-F-S6G1-02-015 II': 'RF1',\n",
       " 'WA-F-S6G1-02-016 II': 'RF1',\n",
       " 'WA-F-S6G1-02-017 II': 'RF1',\n",
       " 'WA-F-S6G1-02-018 II': 'RF1',\n",
       " 'WA-F-S6G2-02-009 II': 'RF1',\n",
       " 'GPSGLONASSU10N-N6-0022-A': 'RF1',\n",
       " 'WAG-F-LTE10-00-053-I': 'RF1',\n",
       " 'WAG-F-LAG0-00-042-I': 'RF1',\n",
       " 'WAG-F-LTE10-00-052-I': 'RF1',\n",
       " 'PA1590MS4G-103-SMD-M-A': 'RF1',\n",
       " 'PA1590MI4G-447-28M-A': 'RF1',\n",
       " 'PA1590MJ4G-221-26M': 'RF1',\n",
       " 'PA1590MJ4G-224-2SP': 'RF1',\n",
       " 'PA1590MI4G-376-28M': 'RF1',\n",
       " 'PA1590MI4G-371-28M': 'RF1',\n",
       " 'PA1590MI4G-375-28M': 'RF1',\n",
       " 'PA1590MI4G-402-28M': 'RF1',\n",
       " 'DAM-P11-E1-R2-003-22-03': 'RF1',\n",
       " 'DAM-P11-B-R2-015-10-49': 'RF1',\n",
       " 'DAM-P11-B-R2-015-10-50': 'RF1',\n",
       " 'GPSGLONASSU10N-N6-0420-A': 'RF1',\n",
       " 'WA-P-U6-02-003-A': 'RF1',\n",
       " 'ACE-3505-P1-PF-S': 'RF2',\n",
       " 'PA1590MI4G-380-18M-A': 'RF1',\n",
       " 'ACA-3216-D1-MF-S': 'RF1',\n",
       " 'WAG-P-LTE10-00-001': 'RF1',\n",
       " 'PA1590MI4G-448-28M-A': 'RF1',\n",
       " 'PA1590MS4G-104-SMD-M-A': 'RF1',\n",
       " 'WAG-H-LTE4-00-001': 'RF1',\n",
       " 'PA1590MS4G-102-1S': 'RF1',\n",
       " 'PA1582MI4G-429-28M-A': 'RF1',\n",
       " 'PADGPS-S4J4G-101-18': 'RF1',\n",
       " 'PA1590MS2G-102-2SM': 'RF1',\n",
       " 'RFDPA191300SMTB806J4': 'RF2',\n",
       " 'RFDPA30871ASBLBA01J4': 'RF2',\n",
       " 'RFDPA171300SBAB823J4': 'RF2',\n",
       " 'RFDPA141300SBLB803J4': 'RF2',\n",
       " 'RFDPA191300SMTB806J4-1': 'RF2',\n",
       " 'RFDPA171300SBAB823J4-1': 'RF2',\n",
       " 'PA1621MI4G-366-18M': 'RF1',\n",
       " 'PA1590MI4G-431-28M-A': 'RF1',\n",
       " 'WA-F-P5-03-005': 'RF1',\n",
       " 'PA1590MS4G-103-1SS': 'RF1',\n",
       " 'PA1590MI4G-316-FZM': 'RF1',\n",
       " 'PA1590MI4G-101-17': 'RF1',\n",
       " 'GPSGLONASS45D-S6-00-A': 'RF1',\n",
       " 'PA1590MI4G-414-18M-A': 'RF1',\n",
       " 'GNS01U7W-S6-06-A': 'RF1',\n",
       " 'PA1590MI2G-144-2ZM': 'RF1',\n",
       " 'PA1590MJ4G-124-16': 'RF1',\n",
       " 'ACM4-5036-A1-CC-S Taping': 'RF1',\n",
       " 'GNS01U7W-S6-00-A': 'RF1',\n",
       " 'DAM-P1-D-N0-000-08-02': 'RF1',\n",
       " 'PA1590MI4G-415-18M-A': 'RF1',\n",
       " 'PA1590MS4G-145-2SM-A': 'RF1',\n",
       " 'ACA-2003-P1-GF-S': 'RF2',\n",
       " 'ACA-5036-A7-CC-S': 'RF1',\n",
       " 'ACM3-5036-A1-CC-S': 'RF1',\n",
       " 'ACA-5036-A2-CC-S-00-E1': 'RF1',\n",
       " 'ACM3-5036-A1-CC-S-00-E1': 'RF1',\n",
       " 'ACM0-3216-A1-CC-S-00-E1': 'RF1',\n",
       " 'ACD-5036-A3-CC-S-00-E1': 'RF1',\n",
       " 'WAG-M-LTE10-00-011-I': 'RF1',\n",
       " 'WAG-M-LAG0-00-002-I': 'RF1',\n",
       " 'WAG-M-LTE10-00-008-I': 'RF1',\n",
       " 'WAG-M-LTE10-00-010-I': 'RF1',\n",
       " 'PA1590MS4G-100-SMD-S': 'RF1',\n",
       " 'ACA-1903-P2-GF-S': 'RF2',\n",
       " 'PA1598MI4G-487-17M': 'RF1',\n",
       " 'WPC-W-P-RX-CF-063': 'RF1',\n",
       " 'WA-F-LTE10-02-021-A': 'RF1',\n",
       " 'PA1590MI4G-377-28M': 'RF1',\n",
       " 'PA1590MI4G-413-18M-A': 'RF1',\n",
       " 'PA2195766-1I4H4G-106-1ZS-A': 'RF1',\n",
       " 'PA2195767-1I4H10G-103-1ZS-A': 'RF1',\n",
       " 'GPSH212N-N3-19-A': 'RF1',\n",
       " 'ACM4-5036-A1-CC-S-00': 'RF1',\n",
       " 'ACM0-3216-A1-CC-S-00': 'RF1',\n",
       " 'PA1590MQ5G-101-1P': 'RF1',\n",
       " 'ACH-5036-A1-CC-S-00-E1': 'RF1',\n",
       " 'B3G02G-S3-01-A': 'RF1'}"
      ]
     },
     "execution_count": 20,
     "metadata": {},
     "output_type": "execute_result"
    }
   ],
   "source": [
    "bu_dict"
   ]
  }
 ],
 "metadata": {
  "kernelspec": {
   "display_name": "Python 3",
   "language": "python",
   "name": "python3"
  },
  "language_info": {
   "codemirror_mode": {
    "name": "ipython",
    "version": 3
   },
   "file_extension": ".py",
   "mimetype": "text/x-python",
   "name": "python",
   "nbconvert_exporter": "python",
   "pygments_lexer": "ipython3",
   "version": "3.8.5"
  }
 },
 "nbformat": 4,
 "nbformat_minor": 4
}
