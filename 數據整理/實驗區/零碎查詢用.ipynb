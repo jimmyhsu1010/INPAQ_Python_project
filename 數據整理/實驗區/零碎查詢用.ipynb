{
 "cells": [
  {
   "cell_type": "code",
   "execution_count": null,
   "metadata": {},
   "outputs": [],
   "source": [
    "import pandas as pd\n",
    "import numpy as np\n",
    "pd.set_option(\"display.max_rows\", 10)\n",
    "pd.set_option(\"display.max_columns\", None)\n",
    "import tkinter as tk\n",
    "from tkinter import filedialog\n",
    "import plotly.express as px"
   ]
  },
  {
   "cell_type": "code",
   "execution_count": null,
   "metadata": {},
   "outputs": [],
   "source": [
    "def select_sheet():\n",
    "    root = tk.Tk()\n",
    "    root.withdraw()\n",
    "    file_path = filedialog.askopenfilename()\n",
    "    df = pd.read_excel(file_path, None)\n",
    "    list_dict = {}\n",
    "    for k, v in enumerate(list(df.keys())):\n",
    "        print(k+1, v)\n",
    "        list_dict.setdefault(k+1, v)\n",
    "    sheet_name = eval(input(\"Please enter the sheet No.:\"))\n",
    "    sheet_name = list_dict[sheet_name]\n",
    "    return df[sheet_name]"
   ]
  },
  {
   "cell_type": "code",
   "execution_count": null,
   "metadata": {
    "scrolled": true
   },
   "outputs": [],
   "source": [
    "df = select_sheet()"
   ]
  },
  {
   "cell_type": "code",
   "execution_count": null,
   "metadata": {},
   "outputs": [],
   "source": [
    "df = df[(df[\"狀態\"].str.contains(\"出\") & (df[\"負責業務\"] == \"許凱智\"))]"
   ]
  },
  {
   "cell_type": "code",
   "execution_count": null,
   "metadata": {},
   "outputs": [],
   "source": [
    "test = df.groupby([\"Group\"])[[\"數量\"]].sum().reset_index()"
   ]
  },
  {
   "cell_type": "code",
   "execution_count": null,
   "metadata": {},
   "outputs": [],
   "source": [
    "px.bar(test, x=\"Group\", y=\"數量\", log_y=True).update_xaxes(categoryorder=\"total descending\")"
   ]
  },
  {
   "cell_type": "markdown",
   "metadata": {},
   "source": [
    "## 20210223俄羅斯元件排名"
   ]
  },
  {
   "cell_type": "code",
   "execution_count": null,
   "metadata": {
    "scrolled": false
   },
   "outputs": [],
   "source": [
    "df = pd.read_clipboard()"
   ]
  },
  {
   "cell_type": "code",
   "execution_count": null,
   "metadata": {},
   "outputs": [],
   "source": [
    "df.columns = [\"Place in 2018\", \"Place in 2012\", \"Distributor\", \"Founded\", \"Sales volume USD bln, 2018\", \"Affiliates/offices/representatives\", \"Employees\"]"
   ]
  },
  {
   "cell_type": "code",
   "execution_count": null,
   "metadata": {
    "scrolled": true
   },
   "outputs": [],
   "source": [
    "df[\"Place in 2012\"] = df[\"Place in 2012\"].astype(\"str\")"
   ]
  },
  {
   "cell_type": "code",
   "execution_count": null,
   "metadata": {},
   "outputs": [],
   "source": [
    "df[\"Place in 2012\"] = df[\"Place in 2012\"].str.split(\".\", expand=True)[0]"
   ]
  },
  {
   "cell_type": "code",
   "execution_count": null,
   "metadata": {},
   "outputs": [],
   "source": [
    "df[\"Place in 2018\"] = df[\"Place in 2018\"].astype(\"str\")"
   ]
  },
  {
   "cell_type": "code",
   "execution_count": null,
   "metadata": {
    "scrolled": true
   },
   "outputs": [],
   "source": [
    "df[\"Region\"] = df.apply(lambda x: \"Russia\" if \"ru\" in x[\"Place in 2018\"] else \"Unknown\", axis=1)"
   ]
  },
  {
   "cell_type": "code",
   "execution_count": null,
   "metadata": {},
   "outputs": [],
   "source": [
    "df[\"Place in 2018\"] = df[\"Place in 2018\"].map(lambda x: \"0\" if x == \"ru\" else x)"
   ]
  },
  {
   "cell_type": "code",
   "execution_count": null,
   "metadata": {},
   "outputs": [],
   "source": [
    "df[\"Place in 2012\"] = df[\"Place in 2012\"].map(lambda x: \"0\" if x == \"nan\" else x)"
   ]
  },
  {
   "cell_type": "code",
   "execution_count": null,
   "metadata": {},
   "outputs": [],
   "source": [
    "df[\"Place in 2018\"] = df[\"Place in 2018\"].astype(\"int\")\n",
    "df[\"Place in 2012\"] = df[\"Place in 2012\"].astype(\"int\")"
   ]
  },
  {
   "cell_type": "code",
   "execution_count": null,
   "metadata": {},
   "outputs": [],
   "source": [
    "df[\"test\"] = df[\"Place in 2012\"] - df[\"Place in 2018\"]"
   ]
  },
  {
   "cell_type": "code",
   "execution_count": null,
   "metadata": {},
   "outputs": [],
   "source": [
    "df = df.rename(columns={\"test\":\"Ranking change\"})"
   ]
  },
  {
   "cell_type": "code",
   "execution_count": null,
   "metadata": {},
   "outputs": [],
   "source": [
    "df[\"Affiliates/offices/representatives\"] = df[\"Affiliates/offices/representatives\"].fillna(0)\n",
    "df[\"Employees\"] = df[\"Employees\"].fillna(0)"
   ]
  },
  {
   "cell_type": "code",
   "execution_count": null,
   "metadata": {},
   "outputs": [],
   "source": [
    "df[\"Affiliates/offices/representatives\"] = df[\"Affiliates/offices/representatives\"].astype(\"int\")\n",
    "df[\"Employees\"] = df[\"Employees\"].astype(\"int\")"
   ]
  },
  {
   "cell_type": "code",
   "execution_count": null,
   "metadata": {},
   "outputs": [],
   "source": [
    "pd.set_option(\"display.float_format\", lambda x: \"%.0f\" % x)\n",
    "df[\"Sales volume USD bln, 2018\"] = df[\"Sales volume USD bln, 2018\"].str.replace(\",\", \".\").astype(\"float\") * 10 ** 9"
   ]
  },
  {
   "cell_type": "code",
   "execution_count": null,
   "metadata": {},
   "outputs": [],
   "source": [
    "df[\"Sales volume USD bln, 2018\"].median()"
   ]
  },
  {
   "cell_type": "code",
   "execution_count": null,
   "metadata": {},
   "outputs": [],
   "source": [
    "px.defaults.width = 1280\n",
    "px.defaults.height = 720\n",
    "global_disti = px.bar(df, x=\"Distributor\", y=\"Sales volume USD bln, 2018\", color=\"Region\", log_y=True, hover_data=df.columns, hover_name=\"Distributor\", title=\"Global component ranking in revenue\") # Global\n",
    "global_disti.update_yaxes(tickprefix=\"$\")\n",
    "global_disti.add_shape(type=\"line\", line_color=\"black\", line_width=3, opacity=1, \n",
    "                       line_dash=\"dot\", x0=0, x1=1, xref=\"paper\", y0=df[\"Sales volume USD bln, 2018\"].median(), y1=df[\"Sales volume USD bln, 2018\"].median(), yref=\"y\")\n",
    "# global_disti.add_annotation(text=\"Median of the sales volume\")\n",
    "global_disti"
   ]
  },
  {
   "cell_type": "code",
   "execution_count": null,
   "metadata": {},
   "outputs": [],
   "source": [
    "ru_disti = px.bar(df[df[\"Place in 2018\"] == \"RU\"], x=\"Distributor\", y=\"Sales volume USD bln, 2018\", labels={\"Distributor\":\"Russian Distributor\"},\n",
    "      title=\"Russian component distributor ranking in revenue\", log_y=True, hover_data=df.columns, hover_name=\"Distributor\")\n",
    "ru_disti.update_yaxes(tickprefix=\"$\")\n",
    "ru_disti"
   ]
  },
  {
   "cell_type": "code",
   "execution_count": null,
   "metadata": {},
   "outputs": [],
   "source": [
    "df[\"Ranking change\"] = df.apply(lambda x: \"-\" if x[\"Place in 2012\"] == 0 else x[\"Place in 2012\"] - x[\"Place in 2018\"], axis=1)"
   ]
  },
  {
   "cell_type": "code",
   "execution_count": null,
   "metadata": {},
   "outputs": [],
   "source": [
    "df[\"Place in 2018\"] = df[\"Place in 2018\"].astype(\"str\")\n",
    "df[\"Place in 2018\"] = df[\"Place in 2018\"].map(lambda x: \"RU\" if x == \"0\" else x)\n",
    "df[\"Place in 2012\"] = df[\"Place in 2012\"].astype(\"str\")\n",
    "df[\"Place in 2012\"] = df[\"Place in 2012\"].map(lambda x: \"N/A\" if x == \"0\" else x)"
   ]
  },
  {
   "cell_type": "code",
   "execution_count": null,
   "metadata": {},
   "outputs": [],
   "source": [
    "df.to_excel(r\"C:\\Users\\kaihsu\\Desktop\\global_ranking_component_distributor_1.xlsx\", index=False)"
   ]
  },
  {
   "cell_type": "code",
   "execution_count": null,
   "metadata": {},
   "outputs": [],
   "source": [
    "rank_table = df.style.format({\"Sales volume USD bln, 2018\":\"${:,.0f}\", \"Employees\": \"{:,.0f}\", \"Founded\":\"{:.0f}\"}).hide_index().set_caption(\"Global component distributor ranking\").set_properties(**{\"background-color\":\"black\", \"color\": \"lawngreen\", \"border-color\":\"white\"})"
   ]
  },
  {
   "cell_type": "markdown",
   "metadata": {},
   "source": [
    "## 輸出報告 in html"
   ]
  },
  {
   "cell_type": "code",
   "execution_count": null,
   "metadata": {},
   "outputs": [],
   "source": [
    "rank_table"
   ]
  },
  {
   "cell_type": "code",
   "execution_count": null,
   "metadata": {},
   "outputs": [],
   "source": [
    "df.to_excel(r\"C:\\Users\\kaihsu\\Desktop\\global_ranking_component_distributor.xlsx\", index=False, sheet_name=\"Global ranking\")"
   ]
  },
  {
   "cell_type": "code",
   "execution_count": null,
   "metadata": {
    "scrolled": false
   },
   "outputs": [],
   "source": [
    "with open(\"global_component_distributor_ranking.html\", \"a\", encoding=\"utf-8\") as f:\n",
    "    f.write(rank_table.render())\n",
    "    f.write(global_disti.to_html(full_html=False, include_plotlyjs=\"cdn\"))\n",
    "#     f.write(ru_disti.to_html(full_html=False, include_plotlyjs=\"cdn\"))\n",
    "    f.close()"
   ]
  },
  {
   "cell_type": "markdown",
   "metadata": {},
   "source": [
    "## 圖表美化實驗區"
   ]
  },
  {
   "cell_type": "code",
   "execution_count": null,
   "metadata": {},
   "outputs": [],
   "source": [
    "sorted_df = df.groupby([pd.Grouper(key=\"預交日期\", freq=\"M\"), \"BG\", \"Group\", \"單價\"])[[\"數量\", \"本國幣別NTD\"]].sum().reset_index()"
   ]
  },
  {
   "cell_type": "code",
   "execution_count": null,
   "metadata": {},
   "outputs": [],
   "source": [
    "sorted_df[\"預交日期\"] = sorted_df[\"預交日期\"].astype(\"str\")"
   ]
  },
  {
   "cell_type": "code",
   "execution_count": null,
   "metadata": {},
   "outputs": [],
   "source": [
    "sorted_df = sorted_df[~sorted_df[\"BG\"].isin([\"Others\"])]"
   ]
  },
  {
   "cell_type": "code",
   "execution_count": null,
   "metadata": {},
   "outputs": [],
   "source": [
    "px.bar(sorted_df, x=\"預交日期\", y=\"數量\", barmode=\"group\", color=\"BG\", log_y=True,\n",
    "      title=\"各BU各客戶各月出貨\", text=\"Group\").update_xaxes(title_text=\"Month\", tickangle=45, title_font=dict(size=18), categoryorder=\"total descending\").update_layout(\n",
    "        title_font_size=26)"
   ]
  },
  {
   "cell_type": "code",
   "execution_count": null,
   "metadata": {
    "scrolled": false
   },
   "outputs": [],
   "source": [
    "sorted_df[\"預交日期\"] = sorted_df[\"預交日期\"].dt.strftime(\"%Y-%m\")"
   ]
  },
  {
   "cell_type": "code",
   "execution_count": null,
   "metadata": {
    "scrolled": false
   },
   "outputs": [],
   "source": [
    "px.treemap(sorted_df, path=[\"預交日期\", \"Group\"], values=\"本國幣別NTD\", color=\"數量\")"
   ]
  },
  {
   "cell_type": "code",
   "execution_count": null,
   "metadata": {},
   "outputs": [],
   "source": [
    "x = px.data.gapminder()"
   ]
  },
  {
   "cell_type": "code",
   "execution_count": null,
   "metadata": {},
   "outputs": [],
   "source": [
    "x"
   ]
  },
  {
   "cell_type": "markdown",
   "metadata": {},
   "source": [
    "## 以下空白"
   ]
  },
  {
   "cell_type": "code",
   "execution_count": null,
   "metadata": {},
   "outputs": [],
   "source": [
    "df = pd.read_clipboard()"
   ]
  },
  {
   "cell_type": "code",
   "execution_count": null,
   "metadata": {},
   "outputs": [],
   "source": [
    "df.insert(1, 'BU', df['佳邦PN'].map(lambda x: x[0:3]))"
   ]
  },
  {
   "cell_type": "code",
   "execution_count": null,
   "metadata": {},
   "outputs": [],
   "source": [
    "df.insert(2, 'Size', df['佳邦PN'].map(lambda x: x[3:7]))"
   ]
  },
  {
   "cell_type": "code",
   "execution_count": null,
   "metadata": {},
   "outputs": [],
   "source": [
    "df.to_excel(r\"C:\\Users\\kaihsu\\Desktop\\華科四五月forecast.xlsx\", index=False)"
   ]
  }
 ],
 "metadata": {
  "kernelspec": {
   "display_name": "Python 3",
   "language": "python",
   "name": "python3"
  },
  "language_info": {
   "codemirror_mode": {
    "name": "ipython",
    "version": 3
   },
   "file_extension": ".py",
   "mimetype": "text/x-python",
   "name": "python",
   "nbconvert_exporter": "python",
   "pygments_lexer": "ipython3",
   "version": "3.8.5"
  }
 },
 "nbformat": 4,
 "nbformat_minor": 4
}
