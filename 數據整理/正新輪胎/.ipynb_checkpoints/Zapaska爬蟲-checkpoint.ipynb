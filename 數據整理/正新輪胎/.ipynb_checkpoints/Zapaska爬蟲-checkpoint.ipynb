{
 "cells": [
  {
   "cell_type": "code",
   "execution_count": null,
   "metadata": {},
   "outputs": [],
   "source": [
    "import pandas as pd\n",
    "import requests\n",
    "from bs4 import BeautifulSoup as bs\n",
    "import json\n",
    "from lxml import etree\n",
    "import time\n",
    "import random"
   ]
  },
  {
   "cell_type": "code",
   "execution_count": null,
   "metadata": {},
   "outputs": [],
   "source": [
    "columns = ['Name', 'Price']\n",
    "df = pd.DataFrame(columns=columns)\n",
    "\n",
    "url = 'https://www.sibzapaska.ru/include/ajax/shini.php'\n",
    "headers = {'user-agent': 'Mozilla/5.0 (Macintosh; Intel Mac OS X 11_2_3) AppleWebKit/537.36 (KHTML, like Gecko) Chrome/89.0.4389.90 Safari/537.36'}\n",
    "\n",
    "page_n = 1\n",
    "while True:\n",
    "    data = {'iblock': 17, 'PAGEN_1': page_n, 'kol': 24, 'by1': 'DESC', 'or1': 'ASC', 'by2': 'CATALOG_PRICE_1',\n",
    "        'or2': 'ASC', 'min': 'undefined', 'max': 'undefined', 't[]': 'Летняя'}\n",
    "    \n",
    "    res = requests.post(url, headers=headers, data=data)\n",
    "    body = bs(res.content, 'html.parser')\n",
    "    for d in body.findAll('div', class_='col-lg-3 col-md-4 col-sm-6 tire-list__col'):\n",
    "        name = d.find('a', class_='item__name').text\n",
    "        price = d.find('span', class_='item__price').text\n",
    "#         print(name, price)\n",
    "        df = df.append({'Name': name, 'Price': price}, ignore_index=True)\n",
    "    print(df)\n",
    "    \n",
    "    verify = []\n",
    "    pages = body.find('div', class_='navi navi_ajax')\n",
    "    for page in pages:\n",
    "        try:\n",
    "            verify.append(page.text)\n",
    "        except AttributeError:\n",
    "            pass\n",
    "    \n",
    "    if '>' in verify:\n",
    "        page_n += 1\n",
    "        time.sleep(random.randint(0,2))\n",
    "    else:\n",
    "        break\n"
   ]
  },
  {
   "cell_type": "code",
   "execution_count": null,
   "metadata": {},
   "outputs": [],
   "source": [
    "df['Price'] = df['Price'].str.split(' ', expand=True)[1]"
   ]
  },
  {
   "cell_type": "code",
   "execution_count": null,
   "metadata": {},
   "outputs": [],
   "source": [
    "df['Price'] = df['Price'].str.split('.', expand=True)[0]"
   ]
  },
  {
   "cell_type": "code",
   "execution_count": null,
   "metadata": {},
   "outputs": [],
   "source": [
    "df['Price'] = df['Price'].str.strip()"
   ]
  },
  {
   "cell_type": "code",
   "execution_count": null,
   "metadata": {
    "scrolled": true
   },
   "outputs": [],
   "source": [
    "df[pd.to_numeric(df['Price'], errors='coerce').isnull()]"
   ]
  },
  {
   "cell_type": "code",
   "execution_count": null,
   "metadata": {},
   "outputs": [],
   "source": []
  }
 ],
 "metadata": {
  "kernelspec": {
   "display_name": "Python 3",
   "language": "python",
   "name": "python3"
  },
  "language_info": {
   "codemirror_mode": {
    "name": "ipython",
    "version": 3
   },
   "file_extension": ".py",
   "mimetype": "text/x-python",
   "name": "python",
   "nbconvert_exporter": "python",
   "pygments_lexer": "ipython3",
   "version": "3.8.5"
  }
 },
 "nbformat": 4,
 "nbformat_minor": 4
}
