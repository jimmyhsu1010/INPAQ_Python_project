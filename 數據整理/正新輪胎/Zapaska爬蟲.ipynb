{
 "cells": [
  {
   "cell_type": "code",
   "execution_count": null,
   "metadata": {},
   "outputs": [],
   "source": [
    "import pandas as pd\n",
    "import requests\n",
    "from bs4 import BeautifulSoup as bs\n",
    "import json\n",
    "from lxml import etree\n",
    "import time\n",
    "import random\n",
    "import tkinter as tk\n",
    "from tkinter import filedialog"
   ]
  },
  {
   "cell_type": "code",
   "execution_count": null,
   "metadata": {
    "scrolled": true
   },
   "outputs": [],
   "source": [
    "url = 'https://www.sibzapaska.ru/include/ajax/shini.php'\n",
    "headers = {'user-agent': 'Mozilla/5.0 (Macintosh; Intel Mac OS X 11_2_3) AppleWebKit/537.36 (KHTML, like Gecko) Chrome/89.0.4389.90 Safari/537.36'}\n",
    "data = {'iblock': 17, 'PAGEN_1': 1, 'kol': 24, 'by1': 'DESC', 'or1': 'ASC', 'by2': 'CATALOG_PRICE_1',\n",
    "        'or2': 'ASC', 'min': 'undefined', 'max': 'undefined'}\n",
    "res = requests.post(url, headers=headers, data=data)\n",
    "body = bs(res.content, 'html.parser')\n",
    "for d in body.findAll('div', class_='col-lg-3 col-md-4 col-sm-6 tire-list__col'):\n",
    "    href = d.find('a', class_='item__name')['href']\n",
    "    home = 'https://www.sibzapaska.ru'\n",
    "    product = home + href\n",
    "#     print(product)\n",
    "    res = requests.get(home, headers=headers)\n",
    "#     print(res.status_code)\n",
    "    content = bs(res.content, 'html.parser')\n",
    "#     print(content)\n",
    "#     brand_link = content.findAll('a', class_='view-all')\n",
    "#     print(brand_link)\n",
    "    des = content.findAll('div', class_='row')\n",
    "    for d in des:\n",
    "        print(d)\n",
    "\n"
   ]
  },
  {
   "cell_type": "code",
   "execution_count": null,
   "metadata": {
    "scrolled": true
   },
   "outputs": [],
   "source": [
    "root = tk.Tk()\n",
    "print('請選擇要儲存到哪裡？\\n')\n",
    "root.withdraw()\n",
    "path = filedialog.askdirectory()\n",
    "file_name = input('請輸入檔案名稱：\\n')\n",
    "full_name = path + '/' + file_name + '.xlsx'\n",
    "etl.to_excel(full_name, index=False)"
   ]
  },
  {
   "cell_type": "code",
   "execution_count": null,
   "metadata": {},
   "outputs": [],
   "source": [
    "columns = ['Name', 'Price']\n",
    "df = pd.DataFrame(columns=columns)\n",
    "\n",
    "url = 'https://www.sibzapaska.ru/include/ajax/shini.php'\n",
    "headers = {'user-agent': 'Mozilla/5.0 (Macintosh; Intel Mac OS X 11_2_3) AppleWebKit/537.36 (KHTML, like Gecko) Chrome/89.0.4389.90 Safari/537.36'}\n",
    "\n",
    "page_n = 1\n",
    "while True:\n",
    "    data = {'iblock': 17, 'PAGEN_1': page_n, 'kol': 24, 'by1': 'DESC', 'or1': 'ASC', 'by2': 'CATALOG_PRICE_1',\n",
    "        'or2': 'ASC', 'min': 'undefined', 'max': 'undefined'}\n",
    "    \n",
    "    res = requests.post(url, headers=headers, data=data)\n",
    "#     print(res.status_code)\n",
    "    body = bs(res.content, 'html.parser')\n",
    "    for d in body.findAll('div', class_='col-lg-3 col-md-4 col-sm-6 tire-list__col'):\n",
    "        name = d.find('a', class_='item__name').text\n",
    "        price = d.find('span', class_='item__price').text\n",
    "#         print(name, price)\n",
    "        df = df.append({'Name': name, 'Price': price}, ignore_index=True)\n",
    "    print(df, '\\n已經爬取{}頁'.format(page_n))\n",
    "    \n",
    "    verify = []\n",
    "    pages = body.find('div', class_='navi navi_ajax')\n",
    "    for page in pages:\n",
    "        try:\n",
    "            verify.append(page.text)\n",
    "        except AttributeError:\n",
    "            pass\n",
    "    \n",
    "    if '>' in verify:\n",
    "        page_n += 1\n",
    "        time.sleep(random.randint(0,1))\n",
    "    else:\n",
    "        print('爬取完畢，共{}頁'.format(page_n))\n",
    "        break\n"
   ]
  },
  {
   "cell_type": "code",
   "execution_count": null,
   "metadata": {},
   "outputs": [],
   "source": [
    "etl = df.copy()"
   ]
  },
  {
   "cell_type": "code",
   "execution_count": null,
   "metadata": {},
   "outputs": [],
   "source": [
    "price = etl['Price'].str.split(' ', expand=True)"
   ]
  },
  {
   "cell_type": "code",
   "execution_count": null,
   "metadata": {},
   "outputs": [],
   "source": [
    "price = price[1].map(lambda x: 0 if x == '' else x.replace('.00', ''))"
   ]
  },
  {
   "cell_type": "code",
   "execution_count": null,
   "metadata": {},
   "outputs": [],
   "source": [
    "etl['Price'] = price.astype('int')"
   ]
  },
  {
   "cell_type": "code",
   "execution_count": null,
   "metadata": {},
   "outputs": [],
   "source": [
    "etl['Name']"
   ]
  },
  {
   "cell_type": "code",
   "execution_count": null,
   "metadata": {
    "scrolled": true
   },
   "outputs": [],
   "source": [
    "etl['Name'].str.replace('Шина', '').str.extract(r'(\\d+\\,?\\d*\\/\\d+)', expand=True)"
   ]
  }
 ],
 "metadata": {
  "kernelspec": {
   "display_name": "Python 3",
   "language": "python",
   "name": "python3"
  },
  "language_info": {
   "codemirror_mode": {
    "name": "ipython",
    "version": 3
   },
   "file_extension": ".py",
   "mimetype": "text/x-python",
   "name": "python",
   "nbconvert_exporter": "python",
   "pygments_lexer": "ipython3",
   "version": "3.8.5"
  }
 },
 "nbformat": 4,
 "nbformat_minor": 4
}
