{
 "cells": [
  {
   "cell_type": "code",
   "execution_count": null,
   "metadata": {},
   "outputs": [],
   "source": [
    "import pandas as pd\n",
    "pd.set_option('display.max_rows', 5)\n",
    "import tkinter as tk\n",
    "from tkinter import filedialog\n",
    "import xlsxwriter\n"
   ]
  },
  {
   "cell_type": "markdown",
   "metadata": {},
   "source": [
    "### 需要的function：\n",
    "1. 讀取對照表檔案路徑\n",
    "2. 選取要對照的csv\n",
    "3. 輸出excel"
   ]
  },
  {
   "cell_type": "markdown",
   "metadata": {},
   "source": [
    "### 讀取對照表和前處理"
   ]
  },
  {
   "cell_type": "code",
   "execution_count": null,
   "metadata": {},
   "outputs": [],
   "source": [
    "def get_conv_table():\n",
    "    print('''\n",
    "    請選擇GTIN對照表檔案''')\n",
    "    root = tk.Tk()\n",
    "    root.withdraw()\n",
    "    file_path = filedialog.askopenfilename()\n",
    "    df = pd.read_excel(file_path)\n",
    "    ref_dict = df.set_index('GTIN').to_dict('index')\n",
    "    return ref_dict"
   ]
  },
  {
   "cell_type": "markdown",
   "metadata": {},
   "source": [
    "### 選取要對照的CSV"
   ]
  },
  {
   "cell_type": "code",
   "execution_count": null,
   "metadata": {},
   "outputs": [],
   "source": [
    "def get_compare_file():\n",
    "    print('''\n",
    "    請選擇要對照輸出的csv檔案''')\n",
    "    root = tk.Tk()\n",
    "    root.withdraw()\n",
    "    file_path = filedialog.askopenfilename()\n",
    "    df = pd.read_csv(file_path, delimiter=\"\\t\", header=None)\n",
    "    df.columns = ['Code']\n",
    "    code = input('請輸入客戶代號:')\n",
    "    df['客戶代號'] = code\n",
    "    df['GTIN'] = df['Code'].str[3:16]\n",
    "    df['GTIN'] = df['GTIN'].astype('str')\n",
    "    df['value'] = df['GTIN'].map(ref_dict)\n",
    "    result = pd.concat([df.drop(['value'],axis=1), df['value'].apply(pd.Series)], axis=1)\n",
    "    result = result.drop(0, axis=1)\n",
    "    return result\n",
    "    \n",
    "    \n",
    "    "
   ]
  },
  {
   "cell_type": "markdown",
   "metadata": {},
   "source": [
    "### 選擇要輸出的檔案夾"
   ]
  },
  {
   "cell_type": "code",
   "execution_count": null,
   "metadata": {},
   "outputs": [],
   "source": [
    "def export_file():\n",
    "    print('''\n",
    "    請選擇要輸出的資料夾''')\n",
    "    root = tk.Tk()\n",
    "    root.withdraw()\n",
    "    folder_path = filedialog.askdirectory()\n",
    "    result.to_excel(folder_path + 'final_version.xlsx', index=False, engine='xlsxwriter')"
   ]
  },
  {
   "cell_type": "code",
   "execution_count": null,
   "metadata": {
    "scrolled": true
   },
   "outputs": [],
   "source": [
    "ref_dict = get_conv_table()\n",
    "result = get_compare_file()\n",
    "export_file()"
   ]
  },
  {
   "cell_type": "markdown",
   "metadata": {},
   "source": [
    "### 處理對照表，將CST，CSTC，MIT合併在一起"
   ]
  },
  {
   "cell_type": "code",
   "execution_count": null,
   "metadata": {},
   "outputs": [],
   "source": [
    "# df3 = pd.read_excel(r\"C:\\Users\\kaihsu\\Desktop\\2021 SUMMER LIST 2020.11.20 update.xlsx\", sheet_name='Sheet4', usecols='C, G, I, J, AL')\n",
    "df3 = pd.read_excel(r\"C:\\Users\\kaihsu\\Desktop\\2021 SUMMER LIST 2020.11.20 update.xlsx\", sheet_name='Sheet4')"
   ]
  },
  {
   "cell_type": "code",
   "execution_count": null,
   "metadata": {},
   "outputs": [],
   "source": [
    "cst_item = df3[['CSTitem', 'CSTGTIN', 'Type', 'Pattern', 'Size']]\n",
    "cstc_item = df3[['CSTCitem（SAP)', 'CSTCGTIN(SAP)', 'Type', 'Pattern', 'Size']]\n",
    "mit_item = df3[['MITitem', 'MITGTIN', 'Type', 'Pattern', 'Size']]"
   ]
  },
  {
   "cell_type": "code",
   "execution_count": null,
   "metadata": {},
   "outputs": [],
   "source": [
    "columns = ['Item', 'GTIN', 'Type', 'Pattern', 'Size']"
   ]
  },
  {
   "cell_type": "code",
   "execution_count": null,
   "metadata": {},
   "outputs": [],
   "source": [
    "cst_item = cst_item.dropna(axis=0, how='any')\n",
    "cstc_item = cstc_item.dropna(axis=0, how='any')\n",
    "mit_item = mit_item.dropna(axis=0, how='any')"
   ]
  },
  {
   "cell_type": "code",
   "execution_count": null,
   "metadata": {},
   "outputs": [],
   "source": [
    "cst_item.columns = columns\n",
    "cstc_item.columns = columns\n",
    "mit_item.columns = columns"
   ]
  },
  {
   "cell_type": "code",
   "execution_count": null,
   "metadata": {},
   "outputs": [],
   "source": [
    "conversion_table = pd.concat([cst_item, cstc_item, mit_item], axis=0)"
   ]
  },
  {
   "cell_type": "code",
   "execution_count": null,
   "metadata": {},
   "outputs": [],
   "source": [
    "conversion_table.columns"
   ]
  },
  {
   "cell_type": "code",
   "execution_count": null,
   "metadata": {},
   "outputs": [],
   "source": [
    "conversion_table = conversion_table[~conversion_table.GTIN.isin(['cancel', '尚未有', 'developing'])]"
   ]
  },
  {
   "cell_type": "code",
   "execution_count": null,
   "metadata": {},
   "outputs": [],
   "source": [
    "conversion_table = conversion_table.drop_duplicates(subset='GTIN', keep='last')"
   ]
  },
  {
   "cell_type": "code",
   "execution_count": null,
   "metadata": {},
   "outputs": [],
   "source": [
    "conversion_table['GTIN'] = conversion_table.GTIN.astype('str')"
   ]
  },
  {
   "cell_type": "markdown",
   "metadata": {},
   "source": [
    "### 先將要作為Key的欄位設定成index，然後以index來作為key轉換成dictionary，value因為來自多個欄位，所以會以list的方式呈現"
   ]
  },
  {
   "cell_type": "code",
   "execution_count": null,
   "metadata": {
    "scrolled": true
   },
   "outputs": [],
   "source": [
    "ref_dict = conversion_table.set_index('GTIN').to_dict('index')"
   ]
  },
  {
   "cell_type": "code",
   "execution_count": null,
   "metadata": {},
   "outputs": [],
   "source": [
    "conversion_table.to_excel(r\"C:\\Users\\kaihsu\\Desktop\\對照表.xlsx\", index=False)"
   ]
  },
  {
   "cell_type": "markdown",
   "metadata": {},
   "source": [
    "### 開始匯入csv檔案處理"
   ]
  },
  {
   "cell_type": "code",
   "execution_count": null,
   "metadata": {},
   "outputs": [],
   "source": [
    "df2 = pd.read_csv(r\"C:\\Users\\kaihsu\\Desktop\\Semisotnov CSTC all Codes.csv\", delimiter=\"\\t\", header=None)"
   ]
  },
  {
   "cell_type": "code",
   "execution_count": null,
   "metadata": {},
   "outputs": [],
   "source": [
    "df2.columns = ['Code']"
   ]
  },
  {
   "cell_type": "code",
   "execution_count": null,
   "metadata": {},
   "outputs": [],
   "source": [
    "df2['客戶代號'] = '3030'"
   ]
  },
  {
   "cell_type": "code",
   "execution_count": null,
   "metadata": {},
   "outputs": [],
   "source": [
    "df2['GTIN'] = df2['Code'].str[3:16]"
   ]
  },
  {
   "cell_type": "code",
   "execution_count": null,
   "metadata": {},
   "outputs": [],
   "source": [
    "df2['GTIN'] = df2['GTIN'].astype('str')"
   ]
  },
  {
   "cell_type": "markdown",
   "metadata": {},
   "source": [
    "### 將上面的字典當映射到一個新欄位"
   ]
  },
  {
   "cell_type": "code",
   "execution_count": null,
   "metadata": {},
   "outputs": [],
   "source": [
    "df2['value'] = df2['GTIN'].map(ref_dict)"
   ]
  },
  {
   "cell_type": "markdown",
   "metadata": {},
   "source": [
    "### 使用concat合併，將剛才映射的欄位（裡面是list）使用apply(pd.Series)將欄位裡面的list展開成其他欄位"
   ]
  },
  {
   "cell_type": "code",
   "execution_count": null,
   "metadata": {
    "scrolled": true
   },
   "outputs": [],
   "source": [
    "result = pd.concat([df2.drop(['value'],axis=1), df2['value'].apply(pd.Series)], axis=1)"
   ]
  },
  {
   "cell_type": "code",
   "execution_count": null,
   "metadata": {},
   "outputs": [],
   "source": [
    "result = result.drop(0, axis=1)"
   ]
  },
  {
   "cell_type": "code",
   "execution_count": null,
   "metadata": {
    "scrolled": false
   },
   "outputs": [],
   "source": [
    "# result = df2.merge(df3, on='CSTCGTIN(SAP)', how='left')"
   ]
  },
  {
   "cell_type": "code",
   "execution_count": null,
   "metadata": {
    "scrolled": true
   },
   "outputs": [],
   "source": [
    "import xlsxwriter"
   ]
  },
  {
   "cell_type": "code",
   "execution_count": null,
   "metadata": {
    "scrolled": true
   },
   "outputs": [],
   "source": [
    "result.to_excel(r\"C:\\Users\\kaihsu\\Desktop\\final.xlsx\", index=False, engine='xlsxwriter')"
   ]
  },
  {
   "cell_type": "code",
   "execution_count": null,
   "metadata": {},
   "outputs": [],
   "source": [
    "df = pd.read_excel(r\"D:\\pythonp_programming\\INPAQ_Python_project\\數據整理\\正新輪胎\\final.xlsx\")"
   ]
  }
 ],
 "metadata": {
  "kernelspec": {
   "display_name": "Python 3",
   "language": "python",
   "name": "python3"
  },
  "language_info": {
   "codemirror_mode": {
    "name": "ipython",
    "version": 3
   },
   "file_extension": ".py",
   "mimetype": "text/x-python",
   "name": "python",
   "nbconvert_exporter": "python",
   "pygments_lexer": "ipython3",
   "version": "3.8.5"
  }
 },
 "nbformat": 4,
 "nbformat_minor": 4
}
