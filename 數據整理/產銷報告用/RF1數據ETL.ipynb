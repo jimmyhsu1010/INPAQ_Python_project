{
 "cells": [
  {
   "cell_type": "code",
   "execution_count": 19,
   "metadata": {},
   "outputs": [],
   "source": [
    "import pandas as pd\n",
    "pd.set_option('display.max_columns', None)\n",
    "pd.set_option('mode.chained_assignment', None)\n",
    "\n",
    "def formatter(x):\n",
    "    if x < 0:\n",
    "        return '{:,.0f}'.format(-x)\n",
    "    return '{:,.0f}'.format(x)\n",
    "pd.options.display.float_format = formatter\n",
    "import plotly.express as px"
   ]
  },
  {
   "cell_type": "code",
   "execution_count": 102,
   "metadata": {},
   "outputs": [],
   "source": [
    "df = pd.read_excel(r\"C:\\Users\\kaihsu\\Desktop\\業績總表\\Weekly report_v0.1.xlsx\", sheet_name='出貨明細')"
   ]
  },
  {
   "cell_type": "code",
   "execution_count": 103,
   "metadata": {},
   "outputs": [],
   "source": [
    "df['最終日期'] = df.apply(lambda x: x['預交日期'] if x['預交日期'] > x['排定交貨日'] else x['排定交貨日'] if x['排定交貨日'] > x['預交日期'] else x['預交日期'] if pd.isna(x['排定交貨日']) else x['預交日期'], axis=1)"
   ]
  },
  {
   "cell_type": "code",
   "execution_count": 122,
   "metadata": {
    "scrolled": true
   },
   "outputs": [],
   "source": [
    "result = df[(df['狀態'].str.contains('未')) & (df['Group'] == '華新科技')]"
   ]
  },
  {
   "cell_type": "code",
   "execution_count": 126,
   "metadata": {},
   "outputs": [],
   "source": [
    "result['客戶系列'] = result['客戶料號'].str.extract(r'([A-Z]+)')"
   ]
  },
  {
   "cell_type": "code",
   "execution_count": 127,
   "metadata": {},
   "outputs": [],
   "source": [
    "result['佳邦系列'] = result['品名'].str.extract(r'([A-Z]+)')"
   ]
  },
  {
   "cell_type": "code",
   "execution_count": 128,
   "metadata": {},
   "outputs": [],
   "source": [
    "result = result.groupby([pd.Grouper(key='最終日期', freq='M'), '客戶系列', '佳邦系列'])[['數量']].sum().reset_index()"
   ]
  },
  {
   "cell_type": "code",
   "execution_count": 130,
   "metadata": {},
   "outputs": [],
   "source": [
    "result['最終日期'] = result['最終日期'].dt.strftime('%Y-%m')"
   ]
  },
  {
   "cell_type": "code",
   "execution_count": 131,
   "metadata": {
    "scrolled": true
   },
   "outputs": [],
   "source": [
    "result = pd.pivot_table(result, index=['客戶系列', '佳邦系列'], columns='最終日期', values='數量', margins=True).reset_index()"
   ]
  },
  {
   "cell_type": "code",
   "execution_count": 133,
   "metadata": {},
   "outputs": [],
   "source": [
    "result.to_excel(r\"C:\\Users\\kaihsu\\Desktop\\20210810華科未交單數量彙整.xlsx\", index=False)"
   ]
  },
  {
   "cell_type": "code",
   "execution_count": null,
   "metadata": {},
   "outputs": [],
   "source": []
  }
 ],
 "metadata": {
  "kernelspec": {
   "display_name": "Python 3",
   "language": "python",
   "name": "python3"
  },
  "language_info": {
   "codemirror_mode": {
    "name": "ipython",
    "version": 3
   },
   "file_extension": ".py",
   "mimetype": "text/x-python",
   "name": "python",
   "nbconvert_exporter": "python",
   "pygments_lexer": "ipython3",
   "version": "3.8.5"
  }
 },
 "nbformat": 4,
 "nbformat_minor": 4
}
