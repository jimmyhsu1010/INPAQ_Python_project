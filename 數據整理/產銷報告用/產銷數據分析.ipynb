{
 "cells": [
  {
   "cell_type": "code",
   "execution_count": 1,
   "metadata": {},
   "outputs": [],
   "source": [
    "import pandas as pd"
   ]
  },
  {
   "cell_type": "code",
   "execution_count": 2,
   "metadata": {},
   "outputs": [],
   "source": [
    "df = pd.read_clipboard()"
   ]
  },
  {
   "cell_type": "code",
   "execution_count": 3,
   "metadata": {},
   "outputs": [
    {
     "data": {
      "text/html": [
       "<div>\n",
       "<style scoped>\n",
       "    .dataframe tbody tr th:only-of-type {\n",
       "        vertical-align: middle;\n",
       "    }\n",
       "\n",
       "    .dataframe tbody tr th {\n",
       "        vertical-align: top;\n",
       "    }\n",
       "\n",
       "    .dataframe thead th {\n",
       "        text-align: right;\n",
       "    }\n",
       "</style>\n",
       "<table border=\"1\" class=\"dataframe\">\n",
       "  <thead>\n",
       "    <tr style=\"text-align: right;\">\n",
       "      <th></th>\n",
       "      <th>Категория</th>\n",
       "      <th>Компонент</th>\n",
       "      <th>Δ</th>\n",
       "      <th>Цена</th>\n",
       "      <th>Δ.1</th>\n",
       "      <th>Срок,</th>\n",
       "      <th>недель</th>\n",
       "    </tr>\n",
       "  </thead>\n",
       "  <tbody>\n",
       "    <tr>\n",
       "      <th>Пассивные</th>\n",
       "      <td>компоненты</td>\n",
       "      <td>Резисторы,</td>\n",
       "      <td>конденсаторы</td>\n",
       "      <td>и</td>\n",
       "      <td>т.д.</td>\n",
       "      <td>20~25%</td>\n",
       "      <td>26~30</td>\n",
       "    </tr>\n",
       "    <tr>\n",
       "      <th>Аккумуляторы</th>\n",
       "      <td>10~15%</td>\n",
       "      <td>12~26</td>\n",
       "      <td>None</td>\n",
       "      <td>None</td>\n",
       "      <td>None</td>\n",
       "      <td>None</td>\n",
       "      <td>None</td>\n",
       "    </tr>\n",
       "    <tr>\n",
       "      <th>Кварцевые</th>\n",
       "      <td>резонаторы</td>\n",
       "      <td>10~20%</td>\n",
       "      <td>52</td>\n",
       "      <td>None</td>\n",
       "      <td>None</td>\n",
       "      <td>None</td>\n",
       "      <td>None</td>\n",
       "    </tr>\n",
       "    <tr>\n",
       "      <th>Разъемы</th>\n",
       "      <td>местного</td>\n",
       "      <td>производства</td>\n",
       "      <td>10~45%</td>\n",
       "      <td>6~12</td>\n",
       "      <td>None</td>\n",
       "      <td>None</td>\n",
       "      <td>None</td>\n",
       "    </tr>\n",
       "    <tr>\n",
       "      <th>Разъемы</th>\n",
       "      <td>импортные</td>\n",
       "      <td>25~50%</td>\n",
       "      <td>10~38</td>\n",
       "      <td>None</td>\n",
       "      <td>None</td>\n",
       "      <td>None</td>\n",
       "      <td>None</td>\n",
       "    </tr>\n",
       "    <tr>\n",
       "      <th>Разъемы</th>\n",
       "      <td>RJ</td>\n",
       "      <td>и</td>\n",
       "      <td>водонепроницаемые</td>\n",
       "      <td>10~50%</td>\n",
       "      <td>12~20</td>\n",
       "      <td>None</td>\n",
       "      <td>None</td>\n",
       "    </tr>\n",
       "    <tr>\n",
       "      <th>Микросхемы</th>\n",
       "      <td>MPU</td>\n",
       "      <td>акселерометры,</td>\n",
       "      <td>гироскопы</td>\n",
       "      <td>20~30%</td>\n",
       "      <td>40</td>\n",
       "      <td>None</td>\n",
       "      <td>None</td>\n",
       "    </tr>\n",
       "    <tr>\n",
       "      <th>MCU</th>\n",
       "      <td>микроконтроллеры</td>\n",
       "      <td>10~55%</td>\n",
       "      <td>40~52</td>\n",
       "      <td>None</td>\n",
       "      <td>None</td>\n",
       "      <td>None</td>\n",
       "      <td>None</td>\n",
       "    </tr>\n",
       "    <tr>\n",
       "      <th>LAN</th>\n",
       "      <td>микросхемы</td>\n",
       "      <td>сетевые</td>\n",
       "      <td>25~45%</td>\n",
       "      <td>24~52</td>\n",
       "      <td>None</td>\n",
       "      <td>None</td>\n",
       "      <td>None</td>\n",
       "    </tr>\n",
       "    <tr>\n",
       "      <th>PMIC</th>\n",
       "      <td>управления</td>\n",
       "      <td>питанием</td>\n",
       "      <td>10~50%</td>\n",
       "      <td>24~30</td>\n",
       "      <td>None</td>\n",
       "      <td>None</td>\n",
       "      <td>None</td>\n",
       "    </tr>\n",
       "    <tr>\n",
       "      <th>IC</th>\n",
       "      <td>обычные</td>\n",
       "      <td>микросхемы</td>\n",
       "      <td>10~50%</td>\n",
       "      <td>24~30</td>\n",
       "      <td>None</td>\n",
       "      <td>None</td>\n",
       "      <td>None</td>\n",
       "    </tr>\n",
       "    <tr>\n",
       "      <th>IC</th>\n",
       "      <td>специальные</td>\n",
       "      <td>микросхемы</td>\n",
       "      <td>20~65%</td>\n",
       "      <td>36~52</td>\n",
       "      <td>None</td>\n",
       "      <td>None</td>\n",
       "      <td>None</td>\n",
       "    </tr>\n",
       "    <tr>\n",
       "      <th>MOSFET</th>\n",
       "      <td>транзисторы</td>\n",
       "      <td>20~40%</td>\n",
       "      <td>30</td>\n",
       "      <td>None</td>\n",
       "      <td>None</td>\n",
       "      <td>None</td>\n",
       "      <td>None</td>\n",
       "    </tr>\n",
       "    <tr>\n",
       "      <th>Память</th>\n",
       "      <td>Flash</td>\n",
       "      <td>20~55%</td>\n",
       "      <td>20~30</td>\n",
       "      <td>None</td>\n",
       "      <td>None</td>\n",
       "      <td>None</td>\n",
       "      <td>None</td>\n",
       "    </tr>\n",
       "    <tr>\n",
       "      <th>DRAM</th>\n",
       "      <td>50~70%</td>\n",
       "      <td>30</td>\n",
       "      <td>None</td>\n",
       "      <td>None</td>\n",
       "      <td>None</td>\n",
       "      <td>None</td>\n",
       "      <td>None</td>\n",
       "    </tr>\n",
       "    <tr>\n",
       "      <th>Печатные</th>\n",
       "      <td>платы</td>\n",
       "      <td>Печатные</td>\n",
       "      <td>платы</td>\n",
       "      <td>10~25%</td>\n",
       "      <td>4~14</td>\n",
       "      <td>None</td>\n",
       "      <td>None</td>\n",
       "    </tr>\n",
       "    <tr>\n",
       "      <th>LCD</th>\n",
       "      <td>панели</td>\n",
       "      <td>Промышленные</td>\n",
       "      <td>LCD</td>\n",
       "      <td>10~30%</td>\n",
       "      <td>20~30</td>\n",
       "      <td>None</td>\n",
       "      <td>None</td>\n",
       "    </tr>\n",
       "    <tr>\n",
       "      <th>Коммерческие</th>\n",
       "      <td>LCD</td>\n",
       "      <td>40~75%</td>\n",
       "      <td>20~35</td>\n",
       "      <td>None</td>\n",
       "      <td>None</td>\n",
       "      <td>None</td>\n",
       "      <td>None</td>\n",
       "    </tr>\n",
       "    <tr>\n",
       "      <th>Сенсорный</th>\n",
       "      <td>экран</td>\n",
       "      <td>Сенсорные</td>\n",
       "      <td>экраны</td>\n",
       "      <td>10~15%</td>\n",
       "      <td>12~16</td>\n",
       "      <td>None</td>\n",
       "      <td>None</td>\n",
       "    </tr>\n",
       "    <tr>\n",
       "      <th>Источник</th>\n",
       "      <td>питания</td>\n",
       "      <td>Адаптеры</td>\n",
       "      <td>10~20%</td>\n",
       "      <td>20~25</td>\n",
       "      <td>None</td>\n",
       "      <td>None</td>\n",
       "      <td>None</td>\n",
       "    </tr>\n",
       "    <tr>\n",
       "      <th>БП</th>\n",
       "      <td>для</td>\n",
       "      <td>ПК</td>\n",
       "      <td>10~15%</td>\n",
       "      <td>20~30</td>\n",
       "      <td>None</td>\n",
       "      <td>None</td>\n",
       "      <td>None</td>\n",
       "    </tr>\n",
       "    <tr>\n",
       "      <th>Механизмы</th>\n",
       "      <td>и</td>\n",
       "      <td>их</td>\n",
       "      <td>части</td>\n",
       "      <td>Кабели</td>\n",
       "      <td>40~60%</td>\n",
       "      <td>6~24</td>\n",
       "      <td>None</td>\n",
       "    </tr>\n",
       "    <tr>\n",
       "      <th>Вентиляторы</th>\n",
       "      <td>10~15%</td>\n",
       "      <td>16~30</td>\n",
       "      <td>None</td>\n",
       "      <td>None</td>\n",
       "      <td>None</td>\n",
       "      <td>None</td>\n",
       "      <td>None</td>\n",
       "    </tr>\n",
       "    <tr>\n",
       "      <th>Листовой</th>\n",
       "      <td>металл</td>\n",
       "      <td>10~20%</td>\n",
       "      <td>6~8</td>\n",
       "      <td>None</td>\n",
       "      <td>None</td>\n",
       "      <td>None</td>\n",
       "      <td>None</td>\n",
       "    </tr>\n",
       "    <tr>\n",
       "      <th>Радиаторы</th>\n",
       "      <td>10~15%</td>\n",
       "      <td>8~12</td>\n",
       "      <td>None</td>\n",
       "      <td>None</td>\n",
       "      <td>None</td>\n",
       "      <td>None</td>\n",
       "      <td>None</td>\n",
       "    </tr>\n",
       "    <tr>\n",
       "      <th>Различное</th>\n",
       "      <td>сырье</td>\n",
       "      <td>30~45%</td>\n",
       "      <td>8~12</td>\n",
       "      <td>None</td>\n",
       "      <td>None</td>\n",
       "      <td>None</td>\n",
       "      <td>None</td>\n",
       "    </tr>\n",
       "    <tr>\n",
       "      <th>Упаковка</th>\n",
       "      <td>Картон</td>\n",
       "      <td>15~30%</td>\n",
       "      <td>4~6</td>\n",
       "      <td>None</td>\n",
       "      <td>None</td>\n",
       "      <td>None</td>\n",
       "      <td>None</td>\n",
       "    </tr>\n",
       "  </tbody>\n",
       "</table>\n",
       "</div>"
      ],
      "text/plain": [
       "                     Категория       Компонент                  Δ    Цена  \\\n",
       "Пассивные           компоненты      Резисторы,       конденсаторы       и   \n",
       "Аккумуляторы            10~15%           12~26               None    None   \n",
       "Кварцевые           резонаторы          10~20%                 52    None   \n",
       "Разъемы               местного    производства             10~45%    6~12   \n",
       "Разъемы              импортные          25~50%              10~38    None   \n",
       "Разъемы                     RJ               и  водонепроницаемые  10~50%   \n",
       "Микросхемы                 MPU  акселерометры,          гироскопы  20~30%   \n",
       "MCU           микроконтроллеры          10~55%              40~52    None   \n",
       "LAN                 микросхемы         сетевые             25~45%   24~52   \n",
       "PMIC                управления        питанием             10~50%   24~30   \n",
       "IC                     обычные      микросхемы             10~50%   24~30   \n",
       "IC                 специальные      микросхемы             20~65%   36~52   \n",
       "MOSFET             транзисторы          20~40%                 30    None   \n",
       "Память                   Flash          20~55%              20~30    None   \n",
       "DRAM                    50~70%              30               None    None   \n",
       "Печатные                 платы        Печатные              платы  10~25%   \n",
       "LCD                     панели    Промышленные                LCD  10~30%   \n",
       "Коммерческие               LCD          40~75%              20~35    None   \n",
       "Сенсорный                экран       Сенсорные             экраны  10~15%   \n",
       "Источник               питания        Адаптеры             10~20%   20~25   \n",
       "БП                         для              ПК             10~15%   20~30   \n",
       "Механизмы                    и              их              части  Кабели   \n",
       "Вентиляторы             10~15%           16~30               None    None   \n",
       "Листовой                металл          10~20%                6~8    None   \n",
       "Радиаторы               10~15%            8~12               None    None   \n",
       "Различное                сырье          30~45%               8~12    None   \n",
       "Упаковка                Картон          15~30%                4~6    None   \n",
       "\n",
       "                 Δ.1   Срок, недель  \n",
       "Пассивные       т.д.  20~25%  26~30  \n",
       "Аккумуляторы    None    None   None  \n",
       "Кварцевые       None    None   None  \n",
       "Разъемы         None    None   None  \n",
       "Разъемы         None    None   None  \n",
       "Разъемы        12~20    None   None  \n",
       "Микросхемы        40    None   None  \n",
       "MCU             None    None   None  \n",
       "LAN             None    None   None  \n",
       "PMIC            None    None   None  \n",
       "IC              None    None   None  \n",
       "IC              None    None   None  \n",
       "MOSFET          None    None   None  \n",
       "Память          None    None   None  \n",
       "DRAM            None    None   None  \n",
       "Печатные        4~14    None   None  \n",
       "LCD            20~30    None   None  \n",
       "Коммерческие    None    None   None  \n",
       "Сенсорный      12~16    None   None  \n",
       "Источник        None    None   None  \n",
       "БП              None    None   None  \n",
       "Механизмы     40~60%    6~24   None  \n",
       "Вентиляторы     None    None   None  \n",
       "Листовой        None    None   None  \n",
       "Радиаторы       None    None   None  \n",
       "Различное       None    None   None  \n",
       "Упаковка        None    None   None  "
      ]
     },
     "execution_count": 3,
     "metadata": {},
     "output_type": "execute_result"
    }
   ],
   "source": [
    "df"
   ]
  },
  {
   "cell_type": "code",
   "execution_count": null,
   "metadata": {},
   "outputs": [],
   "source": [
    "# import pandas_profiling\n",
    "import pandas as pd\n",
    "pd.set_option('display.max_columns', None)\n",
    "pd.set_option('mode.chained_assignment', None)\n",
    "pd.set_option('display.float_format', lambda x: '%.0f' % x)\n",
    "import tkinter as tk\n",
    "from tkinter import filedialog\n",
    "import plotly.express as px\n",
    "import calendar\n",
    "def my_formatter(x):\n",
    "    if x < 0:\n",
    "        return '{:,.0f}'.format(-x)\n",
    "    return '{:,.0f}'.format(x)\n",
    "pd.options.display.float_format = my_formatter"
   ]
  },
  {
   "cell_type": "code",
   "execution_count": null,
   "metadata": {},
   "outputs": [],
   "source": [
    "category = [calendar.month_name[i] for i in range(1, 13)]"
   ]
  },
  {
   "cell_type": "code",
   "execution_count": null,
   "metadata": {},
   "outputs": [],
   "source": [
    "class ProductionSalesReport:\n",
    "    \n",
    "    def __init__(self):\n",
    "        self.path = self.__getFilePath()\n",
    "        self.df = self.__open_file(self.path)\n",
    "        \n",
    "    def __repr__(self):\n",
    "        return repr(self.df)\n",
    "    \n",
    "    def __getFilePath(self):\n",
    "        '''\n",
    "        取得開啟檔案路徑\n",
    "        '''\n",
    "        root = tk.Tk()\n",
    "        root.withdraw()\n",
    "        file_path = filedialog.askopenfilename()\n",
    "        return file_path\n",
    "\n",
    "    def __open_file(self, path):\n",
    "        '''\n",
    "        path: str\n",
    "        開啟檔案，如果工作表超過一個需要選取\n",
    "        '''\n",
    "        df = pd.read_excel(path, None)\n",
    "        sheets_dict = {}\n",
    "        if len(df.keys()) != 1:\n",
    "            for key, value in enumerate(df.keys()):\n",
    "                print(key + 1, value)\n",
    "                sheets_dict.setdefault(key + 1, value)\n",
    "            select_sheet = eval(input('請輸入要開啟的sheet編號：\\n'))\n",
    "            df = df[sheets_dict[select_sheet]]\n",
    "            return df\n",
    "        else:\n",
    "            df = df[list(df.keys())[0]]\n",
    "            return df"
   ]
  },
  {
   "cell_type": "code",
   "execution_count": null,
   "metadata": {
    "scrolled": false
   },
   "outputs": [],
   "source": [
    "budget = ProductionSalesReport()"
   ]
  },
  {
   "cell_type": "code",
   "execution_count": null,
   "metadata": {},
   "outputs": [],
   "source": [
    "budget = budget.df"
   ]
  },
  {
   "cell_type": "code",
   "execution_count": null,
   "metadata": {},
   "outputs": [],
   "source": [
    "sales = ProductionSalesReport()"
   ]
  },
  {
   "cell_type": "code",
   "execution_count": null,
   "metadata": {},
   "outputs": [],
   "source": [
    "sales = sales.df"
   ]
  },
  {
   "cell_type": "code",
   "execution_count": null,
   "metadata": {},
   "outputs": [],
   "source": [
    "budget = budget[budget['類型'] == '天線']"
   ]
  },
  {
   "cell_type": "code",
   "execution_count": null,
   "metadata": {},
   "outputs": [],
   "source": [
    "budget['類型'] = '預算'"
   ]
  },
  {
   "cell_type": "code",
   "execution_count": null,
   "metadata": {
    "scrolled": false
   },
   "outputs": [],
   "source": [
    "budget['BU'] = budget.apply(lambda x: 'RF2' if x['品名'].startswith('RFDP') else 'RF1', axis=1)"
   ]
  },
  {
   "cell_type": "code",
   "execution_count": null,
   "metadata": {},
   "outputs": [],
   "source": [
    "budget = budget.groupby(['類型', '負責業務', 'BU', '預交年份', '預交月份'])[['數量', '本國幣別NTD']].sum().reset_index()"
   ]
  },
  {
   "cell_type": "code",
   "execution_count": null,
   "metadata": {},
   "outputs": [],
   "source": [
    "sales['更新日期'] = sales['更新日期'].dt.strftime('%Y-%m-%d')"
   ]
  },
  {
   "cell_type": "code",
   "execution_count": null,
   "metadata": {},
   "outputs": [],
   "source": [
    "sales = sales[sales['更新日期'] == sales['更新日期'].max()]"
   ]
  },
  {
   "cell_type": "code",
   "execution_count": null,
   "metadata": {},
   "outputs": [],
   "source": [
    "sales['預交月份'] = sales['預交日期'].dt.month_name()"
   ]
  },
  {
   "cell_type": "code",
   "execution_count": null,
   "metadata": {},
   "outputs": [],
   "source": [
    "sales['預交年份'] = sales['預交日期'].dt.year"
   ]
  },
  {
   "cell_type": "code",
   "execution_count": null,
   "metadata": {},
   "outputs": [],
   "source": [
    "sales['類型'] = '預估實績'"
   ]
  },
  {
   "cell_type": "code",
   "execution_count": null,
   "metadata": {},
   "outputs": [],
   "source": [
    "sales['負責業務'] = sales['負責業務'].map(lambda x: '許凱智' if x in ['楊婉芬', '周彥宏'] else x)"
   ]
  },
  {
   "cell_type": "code",
   "execution_count": null,
   "metadata": {},
   "outputs": [],
   "source": [
    "sales = sales[(sales['狀態'].str.contains('出')) & (sales['預交年份'] == 2021) & (sales['BU'] == 'RF1') & (sales['負責業務'].isin(['許凱智', '墨漢雷迪', '鄭里緗']))]"
   ]
  },
  {
   "cell_type": "code",
   "execution_count": null,
   "metadata": {},
   "outputs": [],
   "source": [
    "sales = sales.groupby(['類型', '負責業務', 'BU', '預交年份', '預交月份'])[['數量', '集團匯率*金額']].sum().reset_index()"
   ]
  },
  {
   "cell_type": "code",
   "execution_count": null,
   "metadata": {},
   "outputs": [],
   "source": [
    "sales.columns = ['類型', '負責業務', 'BU', '預交年份', '預交月份', '數量', '本國幣別NTD']"
   ]
  },
  {
   "cell_type": "code",
   "execution_count": null,
   "metadata": {},
   "outputs": [],
   "source": [
    "result = pd.concat([budget, sales], axis=0)"
   ]
  },
  {
   "cell_type": "code",
   "execution_count": null,
   "metadata": {},
   "outputs": [],
   "source": [
    "result['預交月份'] = pd.Categorical(result['預交月份'], categories=category, ordered=True)"
   ]
  },
  {
   "cell_type": "code",
   "execution_count": null,
   "metadata": {
    "scrolled": true
   },
   "outputs": [],
   "source": [
    "result"
   ]
  },
  {
   "cell_type": "code",
   "execution_count": null,
   "metadata": {},
   "outputs": [],
   "source": [
    "px.histogram(result, x='預交月份', y='本國幣別NTD', color='類型', \n",
    "             facet_col='負責業務', barmode='group', category_orders={'預交月份': category}, \n",
    "             log_y=True, labels=dict(預交月份='月份', 本國幣別NTD='金額'), title='2021年各月金額')"
   ]
  },
  {
   "cell_type": "code",
   "execution_count": null,
   "metadata": {},
   "outputs": [],
   "source": [
    "result.to_excel(r\"C:\\Users\\kaihsu\\OneDrive\\INPAQ\\報告簡報類\\產銷會議\\預算實績更新總表.xlsx\", index=False)"
   ]
  },
  {
   "cell_type": "markdown",
   "metadata": {},
   "source": [
    "### 未結訂單庫存表"
   ]
  },
  {
   "cell_type": "code",
   "execution_count": null,
   "metadata": {},
   "outputs": [],
   "source": [
    "stock = ProductionSalesReport()"
   ]
  },
  {
   "cell_type": "code",
   "execution_count": null,
   "metadata": {},
   "outputs": [],
   "source": [
    "stock = stock.df"
   ]
  },
  {
   "cell_type": "code",
   "execution_count": null,
   "metadata": {},
   "outputs": [],
   "source": [
    "stock['更新日期'] = stock['更新日期'].dt.strftime('%Y-%m-%d')"
   ]
  },
  {
   "cell_type": "code",
   "execution_count": null,
   "metadata": {
    "scrolled": true
   },
   "outputs": [],
   "source": [
    "x = stock['更新日期'].unique()[-2:].tolist()"
   ]
  },
  {
   "cell_type": "code",
   "execution_count": null,
   "metadata": {
    "scrolled": true
   },
   "outputs": [],
   "source": [
    "last_two_week = stock[stock['更新日期'].isin(x)]"
   ]
  },
  {
   "cell_type": "code",
   "execution_count": null,
   "metadata": {
    "scrolled": false
   },
   "outputs": [],
   "source": [
    "pd.pivot_table(last_two_week, index=['更新日期', '業務人員名稱(NEW)'], columns=['庫存區間'], values=['批次庫存數', '銷售金額(NTD)\\n'], aggfunc='sum', fill_value=0)"
   ]
  },
  {
   "cell_type": "code",
   "execution_count": null,
   "metadata": {},
   "outputs": [],
   "source": [
    "df = pd.read_excel(path)"
   ]
  },
  {
   "cell_type": "code",
   "execution_count": null,
   "metadata": {},
   "outputs": [],
   "source": [
    "df['未交量'] = df.apply(lambda x: x['未交量'] * 1000 if x['單位'] == 'KPCS' else x['未交量'], axis=1)"
   ]
  },
  {
   "cell_type": "code",
   "execution_count": null,
   "metadata": {},
   "outputs": [],
   "source": [
    "df['批次庫存數'] = df.apply(lambda x: x['批次庫存數'] * 1000 if x['單位'] == 'KPCS' else x['批次庫存數'], axis=1)"
   ]
  },
  {
   "cell_type": "code",
   "execution_count": null,
   "metadata": {},
   "outputs": [],
   "source": [
    "df['單位'] = df['單位'].map(lambda x: 'PCS' if x == 'KPCS' else x)"
   ]
  },
  {
   "cell_type": "code",
   "execution_count": null,
   "metadata": {},
   "outputs": [],
   "source": [
    "import plotly.express as px"
   ]
  },
  {
   "cell_type": "code",
   "execution_count": null,
   "metadata": {},
   "outputs": [],
   "source": [
    "df.columns"
   ]
  },
  {
   "cell_type": "code",
   "execution_count": null,
   "metadata": {},
   "outputs": [],
   "source": [
    "result = df.groupby(['庫存區間', '業務人員名稱(NEW)', '品名', '送貨客戶名稱'])[['批次庫存數', '未交量', '批次庫存金額NTD', '銷售金額(NTD)\\n']].sum().reset_index()"
   ]
  },
  {
   "cell_type": "code",
   "execution_count": null,
   "metadata": {},
   "outputs": [],
   "source": [
    "df.to_excel(r\"C:\\Users\\kaihsu\\OneDrive\\INPAQ\\報告簡報類\\產銷會議\\20210712\\整理過的未結訂單.xlsx\", index=False)"
   ]
  },
  {
   "cell_type": "markdown",
   "metadata": {},
   "source": [
    "## Susan OPO"
   ]
  },
  {
   "cell_type": "code",
   "execution_count": null,
   "metadata": {},
   "outputs": [],
   "source": [
    "path = getFilePath()"
   ]
  },
  {
   "cell_type": "code",
   "execution_count": null,
   "metadata": {},
   "outputs": [],
   "source": [
    "df = pd.read_excel(path, sheet_name='Susan提供的OPO')"
   ]
  },
  {
   "cell_type": "code",
   "execution_count": null,
   "metadata": {},
   "outputs": [],
   "source": [
    "df.columns = df.columns.str.strip()"
   ]
  },
  {
   "cell_type": "code",
   "execution_count": null,
   "metadata": {},
   "outputs": [],
   "source": [
    "df.columns"
   ]
  },
  {
   "cell_type": "markdown",
   "metadata": {},
   "source": [
    "## CS OPO"
   ]
  },
  {
   "cell_type": "code",
   "execution_count": null,
   "metadata": {},
   "outputs": [],
   "source": [
    "path = getFilePath()\n",
    "df = pd.read_excel(path, sheet_name='CS OPO')"
   ]
  },
  {
   "cell_type": "code",
   "execution_count": null,
   "metadata": {
    "scrolled": true
   },
   "outputs": [],
   "source": [
    "df.columns"
   ]
  },
  {
   "cell_type": "code",
   "execution_count": null,
   "metadata": {},
   "outputs": [],
   "source": [
    "df = df.drop_duplicates(subset=['銷售單號', '銷售項次', '客戶訂單', '客戶訂單項次'], keep='last')"
   ]
  },
  {
   "cell_type": "code",
   "execution_count": null,
   "metadata": {},
   "outputs": [],
   "source": [
    "df.to_excel(r\"C:\\Users\\kaihsu\\OneDrive\\INPAQ\\報告簡報類\\產銷會議\\20210712\\整理過的CS OPO.xlsx\", index=False)"
   ]
  }
 ],
 "metadata": {
  "kernelspec": {
   "display_name": "Python 3",
   "language": "python",
   "name": "python3"
  },
  "language_info": {
   "codemirror_mode": {
    "name": "ipython",
    "version": 3
   },
   "file_extension": ".py",
   "mimetype": "text/x-python",
   "name": "python",
   "nbconvert_exporter": "python",
   "pygments_lexer": "ipython3",
   "version": "3.8.11"
  }
 },
 "nbformat": 4,
 "nbformat_minor": 4
}
