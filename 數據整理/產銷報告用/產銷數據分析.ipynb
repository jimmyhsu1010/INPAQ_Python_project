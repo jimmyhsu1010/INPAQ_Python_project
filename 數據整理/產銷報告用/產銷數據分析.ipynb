{
 "cells": [
  {
   "cell_type": "code",
   "execution_count": null,
   "metadata": {},
   "outputs": [],
   "source": [
    "# 開啟帶有密碼的excel使用方式\n",
    "df = io.BytesIO()\n",
    "\n",
    "with open(path, 'rb') as f:\n",
    "    encrypted_file = msoffcrypto.OfficeFile(f)\n",
    "    password = input('Please enter the password.\\n')\n",
    "    encrypted_file.load_key(password=password)\n",
    "    encrypted_file.decrypt(df)\n",
    "    file_name = input('Please enter the file name:\\n')\n",
    "    vars()[file_name] = pd.read_excel(df)"
   ]
  },
  {
   "cell_type": "code",
   "execution_count": null,
   "metadata": {},
   "outputs": [],
   "source": [
    "import tkinter as tk\n",
    "from tkinter import filedialog\n",
    "import pandas as pd\n",
    "import io\n",
    "import msoffcrypto\n",
    "pd.set_option('display.max_columns', None)\n",
    "pd.set_option('mode.chained_assignment', None)\n",
    "pd.set_option('display.float_format', lambda x: '%.0f' % x)\n",
    "import plotly.express as px\n",
    "import calendar\n",
    "def my_formatter(x):\n",
    "    if x < 0:\n",
    "        return '{:,.0f}'.format(-x)\n",
    "    return '{:,.0f}'.format(x)\n",
    "pd.options.display.float_format = my_formatter"
   ]
  },
  {
   "cell_type": "code",
   "execution_count": null,
   "metadata": {},
   "outputs": [],
   "source": [
    "category = [calendar.month_name[i] for i in range(1, 13)]"
   ]
  },
  {
   "cell_type": "code",
   "execution_count": null,
   "metadata": {},
   "outputs": [],
   "source": [
    "class DataExtrct:\n",
    "    files = {}\n",
    "    \n",
    "    def __init__(self):\n",
    "        pass\n",
    "    \n",
    "    def get_path(self):\n",
    "        root = tk.Tk()\n",
    "        root.withdraw()\n",
    "        path = filedialog.askopenfilename()\n",
    "        self.path = path\n",
    "        return path\n",
    "    \n",
    "    def open_file(self):\n",
    "        df = io.BytesIO()\n",
    "        with open(self.path, 'rb') as f:\n",
    "            encrypted_file = msoffcrypto.OfficeFile(f)\n",
    "            password = input('Please enter the password:\\n')\n",
    "            encrypted_file.load_key(password=password)\n",
    "            encrypted_file.decrypt(df)\n",
    "            file_name = input('Please enter the file name:\\n')\n",
    "            self.files.setdefault(file_name, pd.read_excel(df))\n",
    "    \n",
    "    def file_load(self):\n",
    "        self.get_path()\n",
    "        self.open_file()"
   ]
  },
  {
   "cell_type": "code",
   "execution_count": null,
   "metadata": {},
   "outputs": [],
   "source": [
    "class ProductionSalesReport:\n",
    "    \n",
    "    def __init__(self):\n",
    "        self.path = self.__getFilePath()\n",
    "        self.df = self.__open_file(self.path)\n",
    "        \n",
    "    def __repr__(self):\n",
    "        return repr(self.df)\n",
    "    \n",
    "    def __getFilePath(self):\n",
    "        '''\n",
    "        取得開啟檔案路徑\n",
    "        '''\n",
    "        root = tk.Tk()\n",
    "        root.withdraw()\n",
    "        file_path = filedialog.askopenfilename()\n",
    "        return file_path\n",
    "\n",
    "    def __open_file(self, path):\n",
    "        '''\n",
    "        path: str\n",
    "        開啟檔案，如果工作表超過一個需要選取\n",
    "        '''\n",
    "        df = pd.read_excel(path, None)\n",
    "        return df"
   ]
  },
  {
   "cell_type": "code",
   "execution_count": null,
   "metadata": {},
   "outputs": [],
   "source": [
    "budget = pd.read_excel(r\"C:\\Users\\kaihsu\\Desktop\\業績總表\\Weekly report_v0.1.xlsx\", sheet_name='2021預算總表 (revised)')"
   ]
  },
  {
   "cell_type": "code",
   "execution_count": null,
   "metadata": {},
   "outputs": [],
   "source": [
    "budget = ProductionSalesReport()"
   ]
  },
  {
   "cell_type": "code",
   "execution_count": null,
   "metadata": {},
   "outputs": [],
   "source": [
    "budget = budget.df"
   ]
  },
  {
   "cell_type": "code",
   "execution_count": null,
   "metadata": {
    "scrolled": false
   },
   "outputs": [],
   "source": [
    "sales = ProductionSalesReport()"
   ]
  },
  {
   "cell_type": "code",
   "execution_count": null,
   "metadata": {
    "scrolled": true
   },
   "outputs": [],
   "source": [
    "sales = sales.df"
   ]
  },
  {
   "cell_type": "code",
   "execution_count": null,
   "metadata": {},
   "outputs": [],
   "source": [
    "sales = sales['CS OPO']"
   ]
  },
  {
   "cell_type": "code",
   "execution_count": null,
   "metadata": {},
   "outputs": [],
   "source": [
    "budget = budget[budget['類型'] == '天線']"
   ]
  },
  {
   "cell_type": "code",
   "execution_count": null,
   "metadata": {},
   "outputs": [],
   "source": [
    "budget['類型'] = '預算'"
   ]
  },
  {
   "cell_type": "code",
   "execution_count": null,
   "metadata": {},
   "outputs": [],
   "source": [
    "budget['BU'] = budget.apply(lambda x: 'RF2' if x['品名'].startswith('RFDP') else 'RF1', axis=1)"
   ]
  },
  {
   "cell_type": "code",
   "execution_count": null,
   "metadata": {},
   "outputs": [],
   "source": [
    "budget = budget.groupby(['類型', '負責業務', 'BU', '預交年份', '預交月份'])[['數量', '本國幣別NTD']].sum().reset_index()"
   ]
  },
  {
   "cell_type": "code",
   "execution_count": null,
   "metadata": {},
   "outputs": [],
   "source": [
    "sales['更新日期'] = sales['更新日期'].dt.strftime('%Y-%m-%d')"
   ]
  },
  {
   "cell_type": "code",
   "execution_count": null,
   "metadata": {},
   "outputs": [],
   "source": [
    "sales = sales[sales['更新日期'] == sales['更新日期'].max()]"
   ]
  },
  {
   "cell_type": "code",
   "execution_count": null,
   "metadata": {},
   "outputs": [],
   "source": [
    "sales['預交月份'] = sales['預交日期'].dt.month_name()"
   ]
  },
  {
   "cell_type": "code",
   "execution_count": null,
   "metadata": {},
   "outputs": [],
   "source": [
    "sales['預交年份'] = sales['預交日期'].dt.year"
   ]
  },
  {
   "cell_type": "code",
   "execution_count": null,
   "metadata": {},
   "outputs": [],
   "source": [
    "sales['類型'] = '預估實績'"
   ]
  },
  {
   "cell_type": "code",
   "execution_count": null,
   "metadata": {},
   "outputs": [],
   "source": [
    "sales['負責業務'] = sales['負責業務'].map(lambda x: '許凱智' if x in ['楊婉芬', '周彥宏'] else x)"
   ]
  },
  {
   "cell_type": "code",
   "execution_count": null,
   "metadata": {},
   "outputs": [],
   "source": [
    "sales = sales[(sales['狀態'].str.contains('出')) & (sales['預交日期'].between('2021-01-01', '2021-12-31')) & (sales['BU'] == 'RF1') & (sales['負責業務'].isin(['許凱智', '墨漢雷迪', '鄭里緗']))]"
   ]
  },
  {
   "cell_type": "code",
   "execution_count": null,
   "metadata": {},
   "outputs": [],
   "source": [
    "sales['數量'] = sales.apply(lambda x: x['數量'] * 1000 if x['銷售單位'] == 'KPCS' else x['數量'], axis=1)"
   ]
  },
  {
   "cell_type": "code",
   "execution_count": null,
   "metadata": {},
   "outputs": [],
   "source": [
    "sales = sales.groupby(['類型', '負責業務', 'BU', '預交年份', '預交月份'])[['數量', '集團匯率*金額']].sum().reset_index()"
   ]
  },
  {
   "cell_type": "code",
   "execution_count": null,
   "metadata": {},
   "outputs": [],
   "source": [
    "sales.columns = ['類型', '負責業務', 'BU', '預交年份', '預交月份', '數量', '本國幣別NTD']"
   ]
  },
  {
   "cell_type": "code",
   "execution_count": null,
   "metadata": {},
   "outputs": [],
   "source": [
    "result = pd.concat([budget, sales], axis=0)"
   ]
  },
  {
   "cell_type": "code",
   "execution_count": null,
   "metadata": {},
   "outputs": [],
   "source": [
    "result['預交月份'] = pd.Categorical(result['預交月份'], categories=category, ordered=True)"
   ]
  },
  {
   "cell_type": "code",
   "execution_count": null,
   "metadata": {
    "scrolled": true
   },
   "outputs": [],
   "source": [
    "result"
   ]
  },
  {
   "cell_type": "code",
   "execution_count": null,
   "metadata": {},
   "outputs": [],
   "source": [
    "px.histogram(result, x='預交月份', y='本國幣別NTD', color='類型', \n",
    "             facet_col='負責業務', barmode='group', category_orders={'預交月份': category}, \n",
    "             log_y=True, labels=dict(預交月份='月份', 本國幣別NTD='金額'), title='2021年各月金額')"
   ]
  },
  {
   "cell_type": "code",
   "execution_count": null,
   "metadata": {
    "scrolled": true
   },
   "outputs": [],
   "source": [
    "result.to_excel(r\"D:\\OneDrive\\INPAQ\\報告簡報類\\產銷會議\\預算實績更新總表.xlsx\", index=False)"
   ]
  },
  {
   "cell_type": "markdown",
   "metadata": {},
   "source": [
    "### 未結訂單庫存表"
   ]
  },
  {
   "cell_type": "code",
   "execution_count": null,
   "metadata": {},
   "outputs": [],
   "source": [
    "stock = ProductionSalesReport()"
   ]
  },
  {
   "cell_type": "code",
   "execution_count": null,
   "metadata": {},
   "outputs": [],
   "source": [
    "stock = stock.df"
   ]
  },
  {
   "cell_type": "code",
   "execution_count": null,
   "metadata": {},
   "outputs": [],
   "source": [
    "stock['更新日期'] = stock['更新日期'].dt.strftime('%Y-%m-%d')"
   ]
  },
  {
   "cell_type": "code",
   "execution_count": null,
   "metadata": {
    "scrolled": true
   },
   "outputs": [],
   "source": [
    "x = stock['更新日期'].unique()[-2:].tolist()"
   ]
  },
  {
   "cell_type": "code",
   "execution_count": null,
   "metadata": {
    "scrolled": true
   },
   "outputs": [],
   "source": [
    "last_two_week = stock[stock['更新日期'].isin(x)]"
   ]
  },
  {
   "cell_type": "code",
   "execution_count": null,
   "metadata": {},
   "outputs": [],
   "source": [
    "pd.pivot_table(last_two_week, index=['更新日期', '業務人員名稱(NEW)'], columns=['庫存區間'], values=['批次庫存數', '銷售金額(NTD)\\n'], aggfunc='sum', fill_value=0)"
   ]
  },
  {
   "cell_type": "code",
   "execution_count": null,
   "metadata": {},
   "outputs": [],
   "source": [
    "df = pd.read_excel(path)"
   ]
  },
  {
   "cell_type": "code",
   "execution_count": null,
   "metadata": {},
   "outputs": [],
   "source": [
    "df['未交量'] = df.apply(lambda x: x['未交量'] * 1000 if x['單位'] == 'KPCS' else x['未交量'], axis=1)"
   ]
  },
  {
   "cell_type": "code",
   "execution_count": null,
   "metadata": {},
   "outputs": [],
   "source": [
    "df['批次庫存數'] = df.apply(lambda x: x['批次庫存數'] * 1000 if x['單位'] == 'KPCS' else x['批次庫存數'], axis=1)"
   ]
  },
  {
   "cell_type": "code",
   "execution_count": null,
   "metadata": {},
   "outputs": [],
   "source": [
    "df['單位'] = df['單位'].map(lambda x: 'PCS' if x == 'KPCS' else x)"
   ]
  },
  {
   "cell_type": "code",
   "execution_count": null,
   "metadata": {},
   "outputs": [],
   "source": [
    "import plotly.express as px"
   ]
  },
  {
   "cell_type": "code",
   "execution_count": null,
   "metadata": {},
   "outputs": [],
   "source": [
    "df.columns"
   ]
  },
  {
   "cell_type": "code",
   "execution_count": null,
   "metadata": {},
   "outputs": [],
   "source": [
    "result = df.groupby(['庫存區間', '業務人員名稱(NEW)', '品名', '送貨客戶名稱'])[['批次庫存數', '未交量', '批次庫存金額NTD', '銷售金額(NTD)\\n']].sum().reset_index()"
   ]
  },
  {
   "cell_type": "code",
   "execution_count": null,
   "metadata": {},
   "outputs": [],
   "source": [
    "df.to_excel(r\"C:\\Users\\kaihsu\\OneDrive\\INPAQ\\報告簡報類\\產銷會議\\20210712\\整理過的未結訂單.xlsx\", index=False)"
   ]
  },
  {
   "cell_type": "markdown",
   "metadata": {},
   "source": [
    "## Susan OPO"
   ]
  },
  {
   "cell_type": "code",
   "execution_count": null,
   "metadata": {},
   "outputs": [],
   "source": [
    "path = getFilePath()"
   ]
  },
  {
   "cell_type": "code",
   "execution_count": null,
   "metadata": {},
   "outputs": [],
   "source": [
    "df = pd.read_excel(path, sheet_name='Susan提供的OPO')"
   ]
  },
  {
   "cell_type": "code",
   "execution_count": null,
   "metadata": {},
   "outputs": [],
   "source": [
    "df.columns = df.columns.str.strip()"
   ]
  },
  {
   "cell_type": "code",
   "execution_count": null,
   "metadata": {},
   "outputs": [],
   "source": [
    "df.columns"
   ]
  },
  {
   "cell_type": "markdown",
   "metadata": {},
   "source": [
    "## CS OPO"
   ]
  },
  {
   "cell_type": "code",
   "execution_count": null,
   "metadata": {},
   "outputs": [],
   "source": [
    "path = getFilePath()\n",
    "df = pd.read_excel(path, sheet_name='CS OPO')"
   ]
  },
  {
   "cell_type": "code",
   "execution_count": null,
   "metadata": {
    "scrolled": true
   },
   "outputs": [],
   "source": [
    "df.columns"
   ]
  },
  {
   "cell_type": "code",
   "execution_count": null,
   "metadata": {},
   "outputs": [],
   "source": [
    "df = df.drop_duplicates(subset=['銷售單號', '銷售項次', '客戶訂單', '客戶訂單項次'], keep='last')"
   ]
  },
  {
   "cell_type": "code",
   "execution_count": null,
   "metadata": {},
   "outputs": [],
   "source": [
    "df.to_excel(r\"C:\\Users\\kaihsu\\OneDrive\\INPAQ\\報告簡報類\\產銷會議\\20210712\\整理過的CS OPO.xlsx\", index=False)"
   ]
  },
  {
   "cell_type": "markdown",
   "metadata": {},
   "source": [
    "## 累積實績（使用weekly report的數據）"
   ]
  },
  {
   "cell_type": "code",
   "execution_count": null,
   "metadata": {},
   "outputs": [],
   "source": [
    "df = pd.read_excel(r\"C:\\Users\\kaihsu\\Desktop\\業績總表\\Weekly report_v0.1.xlsx\", sheet_name='出貨明細')"
   ]
  },
  {
   "cell_type": "code",
   "execution_count": null,
   "metadata": {},
   "outputs": [],
   "source": [
    "df.columns"
   ]
  },
  {
   "cell_type": "code",
   "execution_count": null,
   "metadata": {},
   "outputs": [],
   "source": [
    "answer = df[(df['BU'] == 'RF1') & (df['狀態'].str.contains('出')) & (df['預交日期'].between('2021-01-01', '2021-09-30')) & (~df['出通單號'].isna())]"
   ]
  },
  {
   "cell_type": "code",
   "execution_count": null,
   "metadata": {
    "scrolled": true
   },
   "outputs": [],
   "source": [
    "answer.groupby(['負責業務'])[['本國幣別NTD']].sum()"
   ]
  }
 ],
 "metadata": {
  "kernelspec": {
   "display_name": "Python 3",
   "language": "python",
   "name": "python3"
  },
  "language_info": {
   "codemirror_mode": {
    "name": "ipython",
    "version": 3
   },
   "file_extension": ".py",
   "mimetype": "text/x-python",
   "name": "python",
   "nbconvert_exporter": "python",
   "pygments_lexer": "ipython3",
   "version": "3.8.11"
  }
 },
 "nbformat": 4,
 "nbformat_minor": 4
}
