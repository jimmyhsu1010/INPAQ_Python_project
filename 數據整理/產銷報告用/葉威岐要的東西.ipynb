{
 "cells": [
  {
   "cell_type": "code",
   "execution_count": null,
   "id": "f1d4182a",
   "metadata": {},
   "outputs": [],
   "source": [
    "import pandas as pd\n",
    "pd.set_option('display.max_columns', None)"
   ]
  },
  {
   "cell_type": "code",
   "execution_count": null,
   "id": "9b423298",
   "metadata": {},
   "outputs": [],
   "source": [
    "df = pd.read_excel(r\"C:\\Users\\kaihsu\\OneDrive\\INPAQ\\業績總表\\Weekly report_v0.1.xlsx\", sheet_name=\"出貨明細\")"
   ]
  },
  {
   "cell_type": "code",
   "execution_count": null,
   "id": "066c522a",
   "metadata": {
    "scrolled": true
   },
   "outputs": [],
   "source": [
    "result = df[(df['品名'] == 'PA1590MI4G-414-18M-A') & (df['已出數量'] == 0)]"
   ]
  },
  {
   "cell_type": "code",
   "execution_count": null,
   "id": "47246f29",
   "metadata": {
    "scrolled": true
   },
   "outputs": [],
   "source": [
    "result.groupby(['品名', '預交日期'])[['未出數']].sum().unstack('預交日期')"
   ]
  },
  {
   "cell_type": "code",
   "execution_count": null,
   "id": "82f0accd",
   "metadata": {},
   "outputs": [],
   "source": [
    "class Test:\n",
    "    \n",
    "    @classmethod\n",
    "    def sayHi(cls):\n",
    "        print('Hi')\n",
    "    \n",
    "    def __init__(self):\n",
    "        self._name : str = 'Mohan'\n",
    "        self.__nationality = 'India'\n",
    "        \n",
    "    @property\n",
    "    def showName(self):\n",
    "        print(self._name)\n",
    "        return self._name\n",
    "    \n",
    "    @showName.setter\n",
    "    def showName(self, new_name):\n",
    "        self._name = new_name\n",
    "        print(f'New name is {self._name}')\n",
    "        return self._name\n",
    "    \n",
    "    @staticmethod\n",
    "    def sayNo():\n",
    "        print(\"No\")\n",
    "      \n",
    "        \n"
   ]
  }
 ],
 "metadata": {
  "kernelspec": {
   "display_name": "Python 3 (ipykernel)",
   "language": "python",
   "name": "python3"
  },
  "language_info": {
   "codemirror_mode": {
    "name": "ipython",
    "version": 3
   },
   "file_extension": ".py",
   "mimetype": "text/x-python",
   "name": "python",
   "nbconvert_exporter": "python",
   "pygments_lexer": "ipython3",
   "version": "3.8.8"
  }
 },
 "nbformat": 4,
 "nbformat_minor": 5
}
