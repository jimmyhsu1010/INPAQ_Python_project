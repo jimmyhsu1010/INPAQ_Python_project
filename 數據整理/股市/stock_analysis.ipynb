{
 "cells": [
  {
   "cell_type": "code",
   "execution_count": null,
   "metadata": {},
   "outputs": [],
   "source": [
    "import pandas as pd"
   ]
  },
  {
   "cell_type": "code",
   "execution_count": null,
   "metadata": {},
   "outputs": [],
   "source": [
    "df = pd.read_clipboard()"
   ]
  },
  {
   "cell_type": "code",
   "execution_count": null,
   "metadata": {
    "scrolled": true
   },
   "outputs": [],
   "source": [
    "avg_pe = round(df['本益比(近4季)'].mean(), 2)"
   ]
  },
  {
   "cell_type": "code",
   "execution_count": null,
   "metadata": {},
   "outputs": [],
   "source": [
    "high_pe = round(df['本益比(季高)'].mean(), 2)"
   ]
  },
  {
   "cell_type": "code",
   "execution_count": null,
   "metadata": {},
   "outputs": [],
   "source": [
    "low_pe = round(df['本益比(季低)'].mean(), 2)"
   ]
  },
  {
   "cell_type": "code",
   "execution_count": null,
   "metadata": {},
   "outputs": [],
   "source": [
    "avg_eps = round(df['EPS'].iloc[-4:].mean(), 2)"
   ]
  },
  {
   "cell_type": "code",
   "execution_count": null,
   "metadata": {},
   "outputs": [],
   "source": [
    "cheap = low_pe * avg_eps\n",
    "reasonable = avg_pe * avg_eps\n",
    "sell_price = high_pe * avg_eps"
   ]
  },
  {
   "cell_type": "code",
   "execution_count": null,
   "metadata": {},
   "outputs": [],
   "source": [
    "latest_price = df['收盤價'].iloc[-1]"
   ]
  },
  {
   "cell_type": "code",
   "execution_count": null,
   "metadata": {},
   "outputs": [],
   "source": [
    "values = [latest_price, cheap, reasonable, sell_price]\n",
    "columns=['收盤價', '入手價', '合理價', '脫手價']\n",
    "pd.DataFrame([values], columns=columns)"
   ]
  },
  {
   "cell_type": "code",
   "execution_count": null,
   "metadata": {},
   "outputs": [],
   "source": [
    "import requests\n",
    "import json"
   ]
  },
  {
   "cell_type": "code",
   "execution_count": null,
   "metadata": {},
   "outputs": [],
   "source": [
    "def getStock(stock_code):\n",
    "    url = 'https://www.cmoney.tw/finance/ashx/mainpage.ashx?action=GetPERAndEPSBySeason&stockId=' + str(stock_code) + '&cmkey=nKc3UiJ69M29lby3o7L4vw%3D%3D'\n",
    "    headers = {\"Accept\": \"application/json, text/javascript, */*; q=0.01\", \"user-agent\": \"Mozilla/5.0 (Macintosh; Intel Mac OS X 11_2_3) AppleWebKit/537.36 (KHTML, like Gecko) Chrome/89.0.4389.90 Safari/537.36\", \"Cookie\": \"AspSession=jm02cp53rssbormlkklazpct; ASP.NET_SessionId=sr4jjrh2fmdvfdeonpwekbyu; __auc=129621ea179513f98f9ad51cc78; _gid=GA1.2.274269013.1620565793; AviviD_uuid=adaf5e8b-24b8-4c9c-b143-76b82f61d17f; AviviD_refresh_uuid_status=1; webuserid=36339597-ab5d-ba20-0b57-6fce3aaf2dbd; _hjTLDTest=1; _hjid=23ba5fa6-c669-4482-bff9-6b8833221899; _hjFirstSeen=1; _hjAbsoluteSessionInProgress=0; _fbp=fb.1.1620565794776.1628822178; page_view=1; AviviD_waterfall_status=1; AviviD_token_retake=0; _ga=GA1.2.1748038313.1620565793; AviviD_already_exist=1; AviviD_show_sub=1; __gads=ID=0b457bcf92dc4f8b-22ca2030f3c7004e:T=1620568192:S=ALNI_MbTeBWeE4zUYOsB56ls6a7oHXSevA; _ga_6P4X22LDKK=GS1.1.1620568748.2.0.1620568748.0; _ga_SG15L0JFQ7=GS1.1.1620568748.2.0.1620568748.0\", \"Connection\": \"keep-alive\", \n",
    "              \"Accept-Language\": \"zh-TW,zh;q=0.9,ru;q=0.8,en-US;q=0.7,en;q=0.6,ja;q=0.5\", \"Referer\": \"https://www.cmoney.tw/finance/f00032.aspx?s=2330\"}\n",
    "    res = requests.get(url, headers=headers)\n",
    "    result = json.loads(res.content)\n",
    "    return result"
   ]
  },
  {
   "cell_type": "code",
   "execution_count": null,
   "metadata": {},
   "outputs": [],
   "source": [
    "data = getStock(2330)"
   ]
  },
  {
   "cell_type": "code",
   "execution_count": null,
   "metadata": {},
   "outputs": [],
   "source": [
    "def parseStock(json):\n",
    "    total = sum([float(i['PERSeasonHigh']) for i in json]) / len([float(i['PERSeasonHigh']) for i in json])\n",
    "    return total\n"
   ]
  },
  {
   "cell_type": "code",
   "execution_count": null,
   "metadata": {},
   "outputs": [],
   "source": [
    "parseStock(data)"
   ]
  },
  {
   "cell_type": "code",
   "execution_count": null,
   "metadata": {},
   "outputs": [],
   "source": []
  }
 ],
 "metadata": {
  "kernelspec": {
   "display_name": "Python 3",
   "language": "python",
   "name": "python3"
  },
  "language_info": {
   "codemirror_mode": {
    "name": "ipython",
    "version": 3
   },
   "file_extension": ".py",
   "mimetype": "text/x-python",
   "name": "python",
   "nbconvert_exporter": "python",
   "pygments_lexer": "ipython3",
   "version": "3.8.5"
  }
 },
 "nbformat": 4,
 "nbformat_minor": 4
}
