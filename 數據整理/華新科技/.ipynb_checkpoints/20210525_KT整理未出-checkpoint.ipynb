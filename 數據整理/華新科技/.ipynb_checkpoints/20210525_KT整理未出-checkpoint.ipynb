{
 "cells": [
  {
   "cell_type": "code",
   "execution_count": 1,
   "metadata": {},
   "outputs": [],
   "source": [
    "import pandas as pd\n",
    "pd.set_option('display.max_columns', None)\n",
    "pd.set_option('mode.chained_assignment', None)\n",
    "from datetime import datetime\n",
    "import plotly.express as px"
   ]
  },
  {
   "cell_type": "code",
   "execution_count": null,
   "metadata": {},
   "outputs": [],
   "source": [
    "df = pd.read_excel(r\"C:\\Users\\kaihsu\\Desktop\\業績總表\\Weekly report_v0.1.xlsx\", sheet_name='出貨明細')"
   ]
  },
  {
   "cell_type": "code",
   "execution_count": 2,
   "metadata": {},
   "outputs": [],
   "source": [
    "df = pd.read_excel('/Users/kai/OneDrive/INPAQ/業績總表/Weekly report_v0.1.xlsx', sheet_name='出貨明細')"
   ]
  },
  {
   "cell_type": "code",
   "execution_count": 3,
   "metadata": {},
   "outputs": [],
   "source": [
    "today = datetime.today().strftime('%Y-%m-%d')"
   ]
  },
  {
   "cell_type": "code",
   "execution_count": 70,
   "metadata": {},
   "outputs": [],
   "source": [
    "filtered = df[(df['Group'] == '華新科技') & (df['狀態'].str.contains('未出')) & (df['預交日期'] >= today) & (df['BG'].isin(['EMC'])) & (df['客戶名稱'] == '華新科技')]"
   ]
  },
  {
   "cell_type": "code",
   "execution_count": 105,
   "metadata": {},
   "outputs": [],
   "source": [
    "filtered['日數'] = filtered['預交日期'] - filtered['開單日期']"
   ]
  },
  {
   "cell_type": "code",
   "execution_count": 126,
   "metadata": {},
   "outputs": [],
   "source": [
    "result = filtered [filtered['日數'] >= '84days']\n"
   ]
  },
  {
   "cell_type": "code",
   "execution_count": 71,
   "metadata": {
    "scrolled": false
   },
   "outputs": [],
   "source": [
    "plot = filtered.groupby([pd.Grouper(key='預交日期', freq='M'), '產品分類', '品名'])[['數量']].sum().reset_index()"
   ]
  },
  {
   "cell_type": "code",
   "execution_count": 72,
   "metadata": {},
   "outputs": [],
   "source": [
    "plot['預交日期'] = plot['預交日期'].dt.strftime('%Y-%m')"
   ]
  },
  {
   "cell_type": "code",
   "execution_count": 73,
   "metadata": {},
   "outputs": [],
   "source": [
    "plot['數量'] = plot['數量'].astype('int')"
   ]
  },
  {
   "cell_type": "code",
   "execution_count": 74,
   "metadata": {},
   "outputs": [],
   "source": [
    "chart = plot.style.format({'數量': '{:,.0f}'}).set_caption('華新科EMC產品未交訂單數量').hide_index()"
   ]
  },
  {
   "cell_type": "code",
   "execution_count": 91,
   "metadata": {},
   "outputs": [],
   "source": [
    "emc = plot.groupby(['品名'])[['數量']].sum().sort_values(by='數量', ascending=False).reset_index()"
   ]
  },
  {
   "cell_type": "code",
   "execution_count": 93,
   "metadata": {},
   "outputs": [],
   "source": [
    "emc['佔比'] = emc['數量'] / emc['數量'].sum()"
   ]
  },
  {
   "cell_type": "code",
   "execution_count": 101,
   "metadata": {},
   "outputs": [
    {
     "data": {
      "text/plain": [
       "7515000"
      ]
     },
     "execution_count": 101,
     "metadata": {},
     "output_type": "execute_result"
    }
   ],
   "source": [
    "plot[plot['預交日期'].isin(['2021-06'])]['數量'].sum()"
   ]
  },
  {
   "cell_type": "code",
   "execution_count": 83,
   "metadata": {},
   "outputs": [],
   "source": [
    "chart.data.to_excel('/Users/kai/Desktop/20210525_未出訂單.xlsx', index=False)"
   ]
  },
  {
   "cell_type": "code",
   "execution_count": 76,
   "metadata": {},
   "outputs": [],
   "source": [
    "bar_plot = px.bar(plot, x='預交日期', y='數量', color='產品分類', barmode='group', text=plot['數量'])"
   ]
  },
  {
   "cell_type": "code",
   "execution_count": 77,
   "metadata": {},
   "outputs": [
    {
     "data": {
      "application/vnd.plotly.v1+json": {
       "config": {
        "plotlyServerURL": "https://plot.ly"
       },
       "data": [
        {
         "alignmentgroup": "True",
         "hovertemplate": "產品分類=MCB1608-S series成品<br>預交日期=%{x}<br>數量=%{text}<extra></extra>",
         "legendgroup": "MCB1608-S series成品",
         "marker": {
          "color": "#636efa"
         },
         "name": "MCB1608-S series成品",
         "offsetgroup": "MCB1608-S series成品",
         "orientation": "v",
         "showlegend": true,
         "text": [
          40000,
          624000,
          640000,
          48000,
          40000
         ],
         "textposition": "auto",
         "type": "bar",
         "x": [
          "2021-05",
          "2021-06",
          "2021-08",
          "2021-08",
          "2021-09"
         ],
         "xaxis": "x",
         "y": [
          40000,
          624000,
          640000,
          48000,
          40000
         ],
         "yaxis": "y"
        },
        {
         "alignmentgroup": "True",
         "hovertemplate": "產品分類=MCI0603 series成品<br>預交日期=%{x}<br>數量=%{text}<extra></extra>",
         "legendgroup": "MCI0603 series成品",
         "marker": {
          "color": "#EF553B"
         },
         "name": "MCI0603 series成品",
         "offsetgroup": "MCI0603 series成品",
         "orientation": "v",
         "showlegend": true,
         "text": [
          120000,
          15000,
          45000,
          15000
         ],
         "textposition": "auto",
         "type": "bar",
         "x": [
          "2021-05",
          "2021-05",
          "2021-05",
          "2021-06"
         ],
         "xaxis": "x",
         "y": [
          120000,
          15000,
          45000,
          15000
         ],
         "yaxis": "y"
        },
        {
         "alignmentgroup": "True",
         "hovertemplate": "產品分類=MCI1005 series成品<br>預交日期=%{x}<br>數量=%{text}<extra></extra>",
         "legendgroup": "MCI1005 series成品",
         "marker": {
          "color": "#00cc96"
         },
         "name": "MCI1005 series成品",
         "offsetgroup": "MCI1005 series成品",
         "orientation": "v",
         "showlegend": true,
         "text": [
          290000,
          470000,
          620000,
          70000,
          30000,
          50000,
          300000,
          520000,
          500000,
          770000,
          120000,
          10000,
          10000,
          130000,
          20000,
          220000,
          40000,
          40000,
          250000,
          800000,
          540000,
          20000,
          90000,
          140000,
          410000,
          30000,
          650000,
          680000,
          80000,
          340000,
          80000,
          440000,
          430000,
          70000,
          80000,
          50000,
          120000,
          20000,
          1400000,
          40000,
          1400000,
          90000,
          1400000
         ],
         "textposition": "auto",
         "type": "bar",
         "x": [
          "2021-05",
          "2021-05",
          "2021-05",
          "2021-05",
          "2021-05",
          "2021-05",
          "2021-05",
          "2021-05",
          "2021-05",
          "2021-05",
          "2021-05",
          "2021-05",
          "2021-05",
          "2021-05",
          "2021-05",
          "2021-05",
          "2021-05",
          "2021-05",
          "2021-06",
          "2021-06",
          "2021-06",
          "2021-06",
          "2021-06",
          "2021-06",
          "2021-06",
          "2021-06",
          "2021-06",
          "2021-06",
          "2021-06",
          "2021-06",
          "2021-06",
          "2021-07",
          "2021-07",
          "2021-07",
          "2021-07",
          "2021-07",
          "2021-07",
          "2021-07",
          "2021-07",
          "2021-07",
          "2021-08",
          "2021-08",
          "2021-09"
         ],
         "xaxis": "x",
         "y": [
          290000,
          470000,
          620000,
          70000,
          30000,
          50000,
          300000,
          520000,
          500000,
          770000,
          120000,
          10000,
          10000,
          130000,
          20000,
          220000,
          40000,
          40000,
          250000,
          800000,
          540000,
          20000,
          90000,
          140000,
          410000,
          30000,
          650000,
          680000,
          80000,
          340000,
          80000,
          440000,
          430000,
          70000,
          80000,
          50000,
          120000,
          20000,
          1400000,
          40000,
          1400000,
          90000,
          1400000
         ],
         "yaxis": "y"
        },
        {
         "alignmentgroup": "True",
         "hovertemplate": "產品分類=MCI1608 series成品<br>預交日期=%{x}<br>數量=%{text}<extra></extra>",
         "legendgroup": "MCI1608 series成品",
         "marker": {
          "color": "#ab63fa"
         },
         "name": "MCI1608 series成品",
         "offsetgroup": "MCI1608 series成品",
         "orientation": "v",
         "showlegend": true,
         "text": [
          4000,
          4000,
          4000,
          4000,
          4000,
          184000,
          60000,
          44000,
          4000,
          4000
         ],
         "textposition": "auto",
         "type": "bar",
         "x": [
          "2021-05",
          "2021-05",
          "2021-05",
          "2021-05",
          "2021-05",
          "2021-06",
          "2021-07",
          "2021-07",
          "2021-07",
          "2021-08"
         ],
         "xaxis": "x",
         "y": [
          4000,
          4000,
          4000,
          4000,
          4000,
          184000,
          60000,
          44000,
          4000,
          4000
         ],
         "yaxis": "y"
        },
        {
         "alignmentgroup": "True",
         "hovertemplate": "產品分類=MHC1005-P series成品<br>預交日期=%{x}<br>數量=%{text}<extra></extra>",
         "legendgroup": "MHC1005-P series成品",
         "marker": {
          "color": "#FFA15A"
         },
         "name": "MHC1005-P series成品",
         "offsetgroup": "MHC1005-P series成品",
         "orientation": "v",
         "showlegend": true,
         "text": [
          20000,
          160000,
          50000
         ],
         "textposition": "auto",
         "type": "bar",
         "x": [
          "2021-05",
          "2021-05",
          "2021-09"
         ],
         "xaxis": "x",
         "y": [
          20000,
          160000,
          50000
         ],
         "yaxis": "y"
        },
        {
         "alignmentgroup": "True",
         "hovertemplate": "產品分類=MHC1608-S series成品<br>預交日期=%{x}<br>數量=%{text}<extra></extra>",
         "legendgroup": "MHC1608-S series成品",
         "marker": {
          "color": "#19d3f3"
         },
         "name": "MHC1608-S series成品",
         "offsetgroup": "MHC1608-S series成品",
         "orientation": "v",
         "showlegend": true,
         "text": [
          208000,
          32000,
          2384000,
          544000,
          1000000,
          708000,
          1000000,
          1380000
         ],
         "textposition": "auto",
         "type": "bar",
         "x": [
          "2021-05",
          "2021-05",
          "2021-06",
          "2021-07",
          "2021-08",
          "2021-08",
          "2021-09",
          "2021-10"
         ],
         "xaxis": "x",
         "y": [
          208000,
          32000,
          2384000,
          544000,
          1000000,
          708000,
          1000000,
          1380000
         ],
         "yaxis": "y"
        },
        {
         "alignmentgroup": "True",
         "hovertemplate": "產品分類=MHC2012-S series成品<br>預交日期=%{x}<br>數量=%{text}<extra></extra>",
         "legendgroup": "MHC2012-S series成品",
         "marker": {
          "color": "#FF6692"
         },
         "name": "MHC2012-S series成品",
         "offsetgroup": "MHC2012-S series成品",
         "orientation": "v",
         "showlegend": true,
         "text": [
          441000,
          124000,
          544000,
          681000,
          484000,
          480000,
          312000,
          412000,
          201000
         ],
         "textposition": "auto",
         "type": "bar",
         "x": [
          "2021-05",
          "2021-05",
          "2021-05",
          "2021-07",
          "2021-07",
          "2021-08",
          "2021-09",
          "2021-09",
          "2021-10"
         ],
         "xaxis": "x",
         "y": [
          441000,
          124000,
          544000,
          681000,
          484000,
          480000,
          312000,
          412000,
          201000
         ],
         "yaxis": "y"
        },
        {
         "alignmentgroup": "True",
         "hovertemplate": "產品分類=MCM2012-B series成品<br>預交日期=%{x}<br>數量=%{text}<extra></extra>",
         "legendgroup": "MCM2012-B series成品",
         "marker": {
          "color": "#B6E880"
         },
         "name": "MCM2012-B series成品",
         "offsetgroup": "MCM2012-B series成品",
         "orientation": "v",
         "showlegend": true,
         "text": [
          18000
         ],
         "textposition": "auto",
         "type": "bar",
         "x": [
          "2021-06"
         ],
         "xaxis": "x",
         "y": [
          18000
         ],
         "yaxis": "y"
        },
        {
         "alignmentgroup": "True",
         "hovertemplate": "產品分類=MHC1608-P series成品<br>預交日期=%{x}<br>數量=%{text}<extra></extra>",
         "legendgroup": "MHC1608-P series成品",
         "marker": {
          "color": "#FF97FF"
         },
         "name": "MHC1608-P series成品",
         "offsetgroup": "MHC1608-P series成品",
         "orientation": "v",
         "showlegend": true,
         "text": [
          180000
         ],
         "textposition": "auto",
         "type": "bar",
         "x": [
          "2021-06"
         ],
         "xaxis": "x",
         "y": [
          180000
         ],
         "yaxis": "y"
        },
        {
         "alignmentgroup": "True",
         "hovertemplate": "產品分類=MIP2016-P series成品<br>預交日期=%{x}<br>數量=%{text}<extra></extra>",
         "legendgroup": "MIP2016-P series成品",
         "marker": {
          "color": "#FECB52"
         },
         "name": "MIP2016-P series成品",
         "offsetgroup": "MIP2016-P series成品",
         "orientation": "v",
         "showlegend": true,
         "text": [
          15000
         ],
         "textposition": "auto",
         "type": "bar",
         "x": [
          "2021-08"
         ],
         "xaxis": "x",
         "y": [
          15000
         ],
         "yaxis": "y"
        }
       ],
       "layout": {
        "barmode": "group",
        "legend": {
         "title": {
          "text": "產品分類"
         },
         "tracegroupgap": 0
        },
        "margin": {
         "t": 60
        },
        "template": {
         "data": {
          "bar": [
           {
            "error_x": {
             "color": "#2a3f5f"
            },
            "error_y": {
             "color": "#2a3f5f"
            },
            "marker": {
             "line": {
              "color": "#E5ECF6",
              "width": 0.5
             }
            },
            "type": "bar"
           }
          ],
          "barpolar": [
           {
            "marker": {
             "line": {
              "color": "#E5ECF6",
              "width": 0.5
             }
            },
            "type": "barpolar"
           }
          ],
          "carpet": [
           {
            "aaxis": {
             "endlinecolor": "#2a3f5f",
             "gridcolor": "white",
             "linecolor": "white",
             "minorgridcolor": "white",
             "startlinecolor": "#2a3f5f"
            },
            "baxis": {
             "endlinecolor": "#2a3f5f",
             "gridcolor": "white",
             "linecolor": "white",
             "minorgridcolor": "white",
             "startlinecolor": "#2a3f5f"
            },
            "type": "carpet"
           }
          ],
          "choropleth": [
           {
            "colorbar": {
             "outlinewidth": 0,
             "ticks": ""
            },
            "type": "choropleth"
           }
          ],
          "contour": [
           {
            "colorbar": {
             "outlinewidth": 0,
             "ticks": ""
            },
            "colorscale": [
             [
              0,
              "#0d0887"
             ],
             [
              0.1111111111111111,
              "#46039f"
             ],
             [
              0.2222222222222222,
              "#7201a8"
             ],
             [
              0.3333333333333333,
              "#9c179e"
             ],
             [
              0.4444444444444444,
              "#bd3786"
             ],
             [
              0.5555555555555556,
              "#d8576b"
             ],
             [
              0.6666666666666666,
              "#ed7953"
             ],
             [
              0.7777777777777778,
              "#fb9f3a"
             ],
             [
              0.8888888888888888,
              "#fdca26"
             ],
             [
              1,
              "#f0f921"
             ]
            ],
            "type": "contour"
           }
          ],
          "contourcarpet": [
           {
            "colorbar": {
             "outlinewidth": 0,
             "ticks": ""
            },
            "type": "contourcarpet"
           }
          ],
          "heatmap": [
           {
            "colorbar": {
             "outlinewidth": 0,
             "ticks": ""
            },
            "colorscale": [
             [
              0,
              "#0d0887"
             ],
             [
              0.1111111111111111,
              "#46039f"
             ],
             [
              0.2222222222222222,
              "#7201a8"
             ],
             [
              0.3333333333333333,
              "#9c179e"
             ],
             [
              0.4444444444444444,
              "#bd3786"
             ],
             [
              0.5555555555555556,
              "#d8576b"
             ],
             [
              0.6666666666666666,
              "#ed7953"
             ],
             [
              0.7777777777777778,
              "#fb9f3a"
             ],
             [
              0.8888888888888888,
              "#fdca26"
             ],
             [
              1,
              "#f0f921"
             ]
            ],
            "type": "heatmap"
           }
          ],
          "heatmapgl": [
           {
            "colorbar": {
             "outlinewidth": 0,
             "ticks": ""
            },
            "colorscale": [
             [
              0,
              "#0d0887"
             ],
             [
              0.1111111111111111,
              "#46039f"
             ],
             [
              0.2222222222222222,
              "#7201a8"
             ],
             [
              0.3333333333333333,
              "#9c179e"
             ],
             [
              0.4444444444444444,
              "#bd3786"
             ],
             [
              0.5555555555555556,
              "#d8576b"
             ],
             [
              0.6666666666666666,
              "#ed7953"
             ],
             [
              0.7777777777777778,
              "#fb9f3a"
             ],
             [
              0.8888888888888888,
              "#fdca26"
             ],
             [
              1,
              "#f0f921"
             ]
            ],
            "type": "heatmapgl"
           }
          ],
          "histogram": [
           {
            "marker": {
             "colorbar": {
              "outlinewidth": 0,
              "ticks": ""
             }
            },
            "type": "histogram"
           }
          ],
          "histogram2d": [
           {
            "colorbar": {
             "outlinewidth": 0,
             "ticks": ""
            },
            "colorscale": [
             [
              0,
              "#0d0887"
             ],
             [
              0.1111111111111111,
              "#46039f"
             ],
             [
              0.2222222222222222,
              "#7201a8"
             ],
             [
              0.3333333333333333,
              "#9c179e"
             ],
             [
              0.4444444444444444,
              "#bd3786"
             ],
             [
              0.5555555555555556,
              "#d8576b"
             ],
             [
              0.6666666666666666,
              "#ed7953"
             ],
             [
              0.7777777777777778,
              "#fb9f3a"
             ],
             [
              0.8888888888888888,
              "#fdca26"
             ],
             [
              1,
              "#f0f921"
             ]
            ],
            "type": "histogram2d"
           }
          ],
          "histogram2dcontour": [
           {
            "colorbar": {
             "outlinewidth": 0,
             "ticks": ""
            },
            "colorscale": [
             [
              0,
              "#0d0887"
             ],
             [
              0.1111111111111111,
              "#46039f"
             ],
             [
              0.2222222222222222,
              "#7201a8"
             ],
             [
              0.3333333333333333,
              "#9c179e"
             ],
             [
              0.4444444444444444,
              "#bd3786"
             ],
             [
              0.5555555555555556,
              "#d8576b"
             ],
             [
              0.6666666666666666,
              "#ed7953"
             ],
             [
              0.7777777777777778,
              "#fb9f3a"
             ],
             [
              0.8888888888888888,
              "#fdca26"
             ],
             [
              1,
              "#f0f921"
             ]
            ],
            "type": "histogram2dcontour"
           }
          ],
          "mesh3d": [
           {
            "colorbar": {
             "outlinewidth": 0,
             "ticks": ""
            },
            "type": "mesh3d"
           }
          ],
          "parcoords": [
           {
            "line": {
             "colorbar": {
              "outlinewidth": 0,
              "ticks": ""
             }
            },
            "type": "parcoords"
           }
          ],
          "pie": [
           {
            "automargin": true,
            "type": "pie"
           }
          ],
          "scatter": [
           {
            "marker": {
             "colorbar": {
              "outlinewidth": 0,
              "ticks": ""
             }
            },
            "type": "scatter"
           }
          ],
          "scatter3d": [
           {
            "line": {
             "colorbar": {
              "outlinewidth": 0,
              "ticks": ""
             }
            },
            "marker": {
             "colorbar": {
              "outlinewidth": 0,
              "ticks": ""
             }
            },
            "type": "scatter3d"
           }
          ],
          "scattercarpet": [
           {
            "marker": {
             "colorbar": {
              "outlinewidth": 0,
              "ticks": ""
             }
            },
            "type": "scattercarpet"
           }
          ],
          "scattergeo": [
           {
            "marker": {
             "colorbar": {
              "outlinewidth": 0,
              "ticks": ""
             }
            },
            "type": "scattergeo"
           }
          ],
          "scattergl": [
           {
            "marker": {
             "colorbar": {
              "outlinewidth": 0,
              "ticks": ""
             }
            },
            "type": "scattergl"
           }
          ],
          "scattermapbox": [
           {
            "marker": {
             "colorbar": {
              "outlinewidth": 0,
              "ticks": ""
             }
            },
            "type": "scattermapbox"
           }
          ],
          "scatterpolar": [
           {
            "marker": {
             "colorbar": {
              "outlinewidth": 0,
              "ticks": ""
             }
            },
            "type": "scatterpolar"
           }
          ],
          "scatterpolargl": [
           {
            "marker": {
             "colorbar": {
              "outlinewidth": 0,
              "ticks": ""
             }
            },
            "type": "scatterpolargl"
           }
          ],
          "scatterternary": [
           {
            "marker": {
             "colorbar": {
              "outlinewidth": 0,
              "ticks": ""
             }
            },
            "type": "scatterternary"
           }
          ],
          "surface": [
           {
            "colorbar": {
             "outlinewidth": 0,
             "ticks": ""
            },
            "colorscale": [
             [
              0,
              "#0d0887"
             ],
             [
              0.1111111111111111,
              "#46039f"
             ],
             [
              0.2222222222222222,
              "#7201a8"
             ],
             [
              0.3333333333333333,
              "#9c179e"
             ],
             [
              0.4444444444444444,
              "#bd3786"
             ],
             [
              0.5555555555555556,
              "#d8576b"
             ],
             [
              0.6666666666666666,
              "#ed7953"
             ],
             [
              0.7777777777777778,
              "#fb9f3a"
             ],
             [
              0.8888888888888888,
              "#fdca26"
             ],
             [
              1,
              "#f0f921"
             ]
            ],
            "type": "surface"
           }
          ],
          "table": [
           {
            "cells": {
             "fill": {
              "color": "#EBF0F8"
             },
             "line": {
              "color": "white"
             }
            },
            "header": {
             "fill": {
              "color": "#C8D4E3"
             },
             "line": {
              "color": "white"
             }
            },
            "type": "table"
           }
          ]
         },
         "layout": {
          "annotationdefaults": {
           "arrowcolor": "#2a3f5f",
           "arrowhead": 0,
           "arrowwidth": 1
          },
          "coloraxis": {
           "colorbar": {
            "outlinewidth": 0,
            "ticks": ""
           }
          },
          "colorscale": {
           "diverging": [
            [
             0,
             "#8e0152"
            ],
            [
             0.1,
             "#c51b7d"
            ],
            [
             0.2,
             "#de77ae"
            ],
            [
             0.3,
             "#f1b6da"
            ],
            [
             0.4,
             "#fde0ef"
            ],
            [
             0.5,
             "#f7f7f7"
            ],
            [
             0.6,
             "#e6f5d0"
            ],
            [
             0.7,
             "#b8e186"
            ],
            [
             0.8,
             "#7fbc41"
            ],
            [
             0.9,
             "#4d9221"
            ],
            [
             1,
             "#276419"
            ]
           ],
           "sequential": [
            [
             0,
             "#0d0887"
            ],
            [
             0.1111111111111111,
             "#46039f"
            ],
            [
             0.2222222222222222,
             "#7201a8"
            ],
            [
             0.3333333333333333,
             "#9c179e"
            ],
            [
             0.4444444444444444,
             "#bd3786"
            ],
            [
             0.5555555555555556,
             "#d8576b"
            ],
            [
             0.6666666666666666,
             "#ed7953"
            ],
            [
             0.7777777777777778,
             "#fb9f3a"
            ],
            [
             0.8888888888888888,
             "#fdca26"
            ],
            [
             1,
             "#f0f921"
            ]
           ],
           "sequentialminus": [
            [
             0,
             "#0d0887"
            ],
            [
             0.1111111111111111,
             "#46039f"
            ],
            [
             0.2222222222222222,
             "#7201a8"
            ],
            [
             0.3333333333333333,
             "#9c179e"
            ],
            [
             0.4444444444444444,
             "#bd3786"
            ],
            [
             0.5555555555555556,
             "#d8576b"
            ],
            [
             0.6666666666666666,
             "#ed7953"
            ],
            [
             0.7777777777777778,
             "#fb9f3a"
            ],
            [
             0.8888888888888888,
             "#fdca26"
            ],
            [
             1,
             "#f0f921"
            ]
           ]
          },
          "colorway": [
           "#636efa",
           "#EF553B",
           "#00cc96",
           "#ab63fa",
           "#FFA15A",
           "#19d3f3",
           "#FF6692",
           "#B6E880",
           "#FF97FF",
           "#FECB52"
          ],
          "font": {
           "color": "#2a3f5f"
          },
          "geo": {
           "bgcolor": "white",
           "lakecolor": "white",
           "landcolor": "#E5ECF6",
           "showlakes": true,
           "showland": true,
           "subunitcolor": "white"
          },
          "hoverlabel": {
           "align": "left"
          },
          "hovermode": "closest",
          "mapbox": {
           "style": "light"
          },
          "paper_bgcolor": "white",
          "plot_bgcolor": "#E5ECF6",
          "polar": {
           "angularaxis": {
            "gridcolor": "white",
            "linecolor": "white",
            "ticks": ""
           },
           "bgcolor": "#E5ECF6",
           "radialaxis": {
            "gridcolor": "white",
            "linecolor": "white",
            "ticks": ""
           }
          },
          "scene": {
           "xaxis": {
            "backgroundcolor": "#E5ECF6",
            "gridcolor": "white",
            "gridwidth": 2,
            "linecolor": "white",
            "showbackground": true,
            "ticks": "",
            "zerolinecolor": "white"
           },
           "yaxis": {
            "backgroundcolor": "#E5ECF6",
            "gridcolor": "white",
            "gridwidth": 2,
            "linecolor": "white",
            "showbackground": true,
            "ticks": "",
            "zerolinecolor": "white"
           },
           "zaxis": {
            "backgroundcolor": "#E5ECF6",
            "gridcolor": "white",
            "gridwidth": 2,
            "linecolor": "white",
            "showbackground": true,
            "ticks": "",
            "zerolinecolor": "white"
           }
          },
          "shapedefaults": {
           "line": {
            "color": "#2a3f5f"
           }
          },
          "ternary": {
           "aaxis": {
            "gridcolor": "white",
            "linecolor": "white",
            "ticks": ""
           },
           "baxis": {
            "gridcolor": "white",
            "linecolor": "white",
            "ticks": ""
           },
           "bgcolor": "#E5ECF6",
           "caxis": {
            "gridcolor": "white",
            "linecolor": "white",
            "ticks": ""
           }
          },
          "title": {
           "x": 0.05
          },
          "xaxis": {
           "automargin": true,
           "gridcolor": "white",
           "linecolor": "white",
           "ticks": "",
           "title": {
            "standoff": 15
           },
           "zerolinecolor": "white",
           "zerolinewidth": 2
          },
          "yaxis": {
           "automargin": true,
           "gridcolor": "white",
           "linecolor": "white",
           "ticks": "",
           "title": {
            "standoff": 15
           },
           "zerolinecolor": "white",
           "zerolinewidth": 2
          }
         }
        },
        "xaxis": {
         "anchor": "y",
         "domain": [
          0,
          1
         ],
         "title": {
          "text": "預交日期"
         }
        },
        "yaxis": {
         "anchor": "x",
         "domain": [
          0,
          1
         ],
         "title": {
          "text": "數量"
         }
        }
       }
      },
      "text/html": [
       "<div>                            <div id=\"76ee4613-ae4c-4c57-98f9-d748c0fd2024\" class=\"plotly-graph-div\" style=\"height:525px; width:100%;\"></div>            <script type=\"text/javascript\">                require([\"plotly\"], function(Plotly) {                    window.PLOTLYENV=window.PLOTLYENV || {};                                    if (document.getElementById(\"76ee4613-ae4c-4c57-98f9-d748c0fd2024\")) {                    Plotly.newPlot(                        \"76ee4613-ae4c-4c57-98f9-d748c0fd2024\",                        [{\"alignmentgroup\": \"True\", \"hovertemplate\": \"\\u7522\\u54c1\\u5206\\u985e=MCB1608-S series\\u6210\\u54c1<br>\\u9810\\u4ea4\\u65e5\\u671f=%{x}<br>\\u6578\\u91cf=%{text}<extra></extra>\", \"legendgroup\": \"MCB1608-S series\\u6210\\u54c1\", \"marker\": {\"color\": \"#636efa\"}, \"name\": \"MCB1608-S series\\u6210\\u54c1\", \"offsetgroup\": \"MCB1608-S series\\u6210\\u54c1\", \"orientation\": \"v\", \"showlegend\": true, \"text\": [40000.0, 624000.0, 640000.0, 48000.0, 40000.0], \"textposition\": \"auto\", \"type\": \"bar\", \"x\": [\"2021-05\", \"2021-06\", \"2021-08\", \"2021-08\", \"2021-09\"], \"xaxis\": \"x\", \"y\": [40000, 624000, 640000, 48000, 40000], \"yaxis\": \"y\"}, {\"alignmentgroup\": \"True\", \"hovertemplate\": \"\\u7522\\u54c1\\u5206\\u985e=MCI0603 series\\u6210\\u54c1<br>\\u9810\\u4ea4\\u65e5\\u671f=%{x}<br>\\u6578\\u91cf=%{text}<extra></extra>\", \"legendgroup\": \"MCI0603 series\\u6210\\u54c1\", \"marker\": {\"color\": \"#EF553B\"}, \"name\": \"MCI0603 series\\u6210\\u54c1\", \"offsetgroup\": \"MCI0603 series\\u6210\\u54c1\", \"orientation\": \"v\", \"showlegend\": true, \"text\": [120000.0, 15000.0, 45000.0, 15000.0], \"textposition\": \"auto\", \"type\": \"bar\", \"x\": [\"2021-05\", \"2021-05\", \"2021-05\", \"2021-06\"], \"xaxis\": \"x\", \"y\": [120000, 15000, 45000, 15000], \"yaxis\": \"y\"}, {\"alignmentgroup\": \"True\", \"hovertemplate\": \"\\u7522\\u54c1\\u5206\\u985e=MCI1005 series\\u6210\\u54c1<br>\\u9810\\u4ea4\\u65e5\\u671f=%{x}<br>\\u6578\\u91cf=%{text}<extra></extra>\", \"legendgroup\": \"MCI1005 series\\u6210\\u54c1\", \"marker\": {\"color\": \"#00cc96\"}, \"name\": \"MCI1005 series\\u6210\\u54c1\", \"offsetgroup\": \"MCI1005 series\\u6210\\u54c1\", \"orientation\": \"v\", \"showlegend\": true, \"text\": [290000.0, 470000.0, 620000.0, 70000.0, 30000.0, 50000.0, 300000.0, 520000.0, 500000.0, 770000.0, 120000.0, 10000.0, 10000.0, 130000.0, 20000.0, 220000.0, 40000.0, 40000.0, 250000.0, 800000.0, 540000.0, 20000.0, 90000.0, 140000.0, 410000.0, 30000.0, 650000.0, 680000.0, 80000.0, 340000.0, 80000.0, 440000.0, 430000.0, 70000.0, 80000.0, 50000.0, 120000.0, 20000.0, 1400000.0, 40000.0, 1400000.0, 90000.0, 1400000.0], \"textposition\": \"auto\", \"type\": \"bar\", \"x\": [\"2021-05\", \"2021-05\", \"2021-05\", \"2021-05\", \"2021-05\", \"2021-05\", \"2021-05\", \"2021-05\", \"2021-05\", \"2021-05\", \"2021-05\", \"2021-05\", \"2021-05\", \"2021-05\", \"2021-05\", \"2021-05\", \"2021-05\", \"2021-05\", \"2021-06\", \"2021-06\", \"2021-06\", \"2021-06\", \"2021-06\", \"2021-06\", \"2021-06\", \"2021-06\", \"2021-06\", \"2021-06\", \"2021-06\", \"2021-06\", \"2021-06\", \"2021-07\", \"2021-07\", \"2021-07\", \"2021-07\", \"2021-07\", \"2021-07\", \"2021-07\", \"2021-07\", \"2021-07\", \"2021-08\", \"2021-08\", \"2021-09\"], \"xaxis\": \"x\", \"y\": [290000, 470000, 620000, 70000, 30000, 50000, 300000, 520000, 500000, 770000, 120000, 10000, 10000, 130000, 20000, 220000, 40000, 40000, 250000, 800000, 540000, 20000, 90000, 140000, 410000, 30000, 650000, 680000, 80000, 340000, 80000, 440000, 430000, 70000, 80000, 50000, 120000, 20000, 1400000, 40000, 1400000, 90000, 1400000], \"yaxis\": \"y\"}, {\"alignmentgroup\": \"True\", \"hovertemplate\": \"\\u7522\\u54c1\\u5206\\u985e=MCI1608 series\\u6210\\u54c1<br>\\u9810\\u4ea4\\u65e5\\u671f=%{x}<br>\\u6578\\u91cf=%{text}<extra></extra>\", \"legendgroup\": \"MCI1608 series\\u6210\\u54c1\", \"marker\": {\"color\": \"#ab63fa\"}, \"name\": \"MCI1608 series\\u6210\\u54c1\", \"offsetgroup\": \"MCI1608 series\\u6210\\u54c1\", \"orientation\": \"v\", \"showlegend\": true, \"text\": [4000.0, 4000.0, 4000.0, 4000.0, 4000.0, 184000.0, 60000.0, 44000.0, 4000.0, 4000.0], \"textposition\": \"auto\", \"type\": \"bar\", \"x\": [\"2021-05\", \"2021-05\", \"2021-05\", \"2021-05\", \"2021-05\", \"2021-06\", \"2021-07\", \"2021-07\", \"2021-07\", \"2021-08\"], \"xaxis\": \"x\", \"y\": [4000, 4000, 4000, 4000, 4000, 184000, 60000, 44000, 4000, 4000], \"yaxis\": \"y\"}, {\"alignmentgroup\": \"True\", \"hovertemplate\": \"\\u7522\\u54c1\\u5206\\u985e=MHC1005-P series\\u6210\\u54c1<br>\\u9810\\u4ea4\\u65e5\\u671f=%{x}<br>\\u6578\\u91cf=%{text}<extra></extra>\", \"legendgroup\": \"MHC1005-P series\\u6210\\u54c1\", \"marker\": {\"color\": \"#FFA15A\"}, \"name\": \"MHC1005-P series\\u6210\\u54c1\", \"offsetgroup\": \"MHC1005-P series\\u6210\\u54c1\", \"orientation\": \"v\", \"showlegend\": true, \"text\": [20000.0, 160000.0, 50000.0], \"textposition\": \"auto\", \"type\": \"bar\", \"x\": [\"2021-05\", \"2021-05\", \"2021-09\"], \"xaxis\": \"x\", \"y\": [20000, 160000, 50000], \"yaxis\": \"y\"}, {\"alignmentgroup\": \"True\", \"hovertemplate\": \"\\u7522\\u54c1\\u5206\\u985e=MHC1608-S series\\u6210\\u54c1<br>\\u9810\\u4ea4\\u65e5\\u671f=%{x}<br>\\u6578\\u91cf=%{text}<extra></extra>\", \"legendgroup\": \"MHC1608-S series\\u6210\\u54c1\", \"marker\": {\"color\": \"#19d3f3\"}, \"name\": \"MHC1608-S series\\u6210\\u54c1\", \"offsetgroup\": \"MHC1608-S series\\u6210\\u54c1\", \"orientation\": \"v\", \"showlegend\": true, \"text\": [208000.0, 32000.0, 2384000.0, 544000.0, 1000000.0, 708000.0, 1000000.0, 1380000.0], \"textposition\": \"auto\", \"type\": \"bar\", \"x\": [\"2021-05\", \"2021-05\", \"2021-06\", \"2021-07\", \"2021-08\", \"2021-08\", \"2021-09\", \"2021-10\"], \"xaxis\": \"x\", \"y\": [208000, 32000, 2384000, 544000, 1000000, 708000, 1000000, 1380000], \"yaxis\": \"y\"}, {\"alignmentgroup\": \"True\", \"hovertemplate\": \"\\u7522\\u54c1\\u5206\\u985e=MHC2012-S series\\u6210\\u54c1<br>\\u9810\\u4ea4\\u65e5\\u671f=%{x}<br>\\u6578\\u91cf=%{text}<extra></extra>\", \"legendgroup\": \"MHC2012-S series\\u6210\\u54c1\", \"marker\": {\"color\": \"#FF6692\"}, \"name\": \"MHC2012-S series\\u6210\\u54c1\", \"offsetgroup\": \"MHC2012-S series\\u6210\\u54c1\", \"orientation\": \"v\", \"showlegend\": true, \"text\": [441000.0, 124000.0, 544000.0, 681000.0, 484000.0, 480000.0, 312000.0, 412000.0, 201000.0], \"textposition\": \"auto\", \"type\": \"bar\", \"x\": [\"2021-05\", \"2021-05\", \"2021-05\", \"2021-07\", \"2021-07\", \"2021-08\", \"2021-09\", \"2021-09\", \"2021-10\"], \"xaxis\": \"x\", \"y\": [441000, 124000, 544000, 681000, 484000, 480000, 312000, 412000, 201000], \"yaxis\": \"y\"}, {\"alignmentgroup\": \"True\", \"hovertemplate\": \"\\u7522\\u54c1\\u5206\\u985e=MCM2012-B series\\u6210\\u54c1<br>\\u9810\\u4ea4\\u65e5\\u671f=%{x}<br>\\u6578\\u91cf=%{text}<extra></extra>\", \"legendgroup\": \"MCM2012-B series\\u6210\\u54c1\", \"marker\": {\"color\": \"#B6E880\"}, \"name\": \"MCM2012-B series\\u6210\\u54c1\", \"offsetgroup\": \"MCM2012-B series\\u6210\\u54c1\", \"orientation\": \"v\", \"showlegend\": true, \"text\": [18000.0], \"textposition\": \"auto\", \"type\": \"bar\", \"x\": [\"2021-06\"], \"xaxis\": \"x\", \"y\": [18000], \"yaxis\": \"y\"}, {\"alignmentgroup\": \"True\", \"hovertemplate\": \"\\u7522\\u54c1\\u5206\\u985e=MHC1608-P series\\u6210\\u54c1<br>\\u9810\\u4ea4\\u65e5\\u671f=%{x}<br>\\u6578\\u91cf=%{text}<extra></extra>\", \"legendgroup\": \"MHC1608-P series\\u6210\\u54c1\", \"marker\": {\"color\": \"#FF97FF\"}, \"name\": \"MHC1608-P series\\u6210\\u54c1\", \"offsetgroup\": \"MHC1608-P series\\u6210\\u54c1\", \"orientation\": \"v\", \"showlegend\": true, \"text\": [180000.0], \"textposition\": \"auto\", \"type\": \"bar\", \"x\": [\"2021-06\"], \"xaxis\": \"x\", \"y\": [180000], \"yaxis\": \"y\"}, {\"alignmentgroup\": \"True\", \"hovertemplate\": \"\\u7522\\u54c1\\u5206\\u985e=MIP2016-P series\\u6210\\u54c1<br>\\u9810\\u4ea4\\u65e5\\u671f=%{x}<br>\\u6578\\u91cf=%{text}<extra></extra>\", \"legendgroup\": \"MIP2016-P series\\u6210\\u54c1\", \"marker\": {\"color\": \"#FECB52\"}, \"name\": \"MIP2016-P series\\u6210\\u54c1\", \"offsetgroup\": \"MIP2016-P series\\u6210\\u54c1\", \"orientation\": \"v\", \"showlegend\": true, \"text\": [15000.0], \"textposition\": \"auto\", \"type\": \"bar\", \"x\": [\"2021-08\"], \"xaxis\": \"x\", \"y\": [15000], \"yaxis\": \"y\"}],                        {\"barmode\": \"group\", \"legend\": {\"title\": {\"text\": \"\\u7522\\u54c1\\u5206\\u985e\"}, \"tracegroupgap\": 0}, \"margin\": {\"t\": 60}, \"template\": {\"data\": {\"bar\": [{\"error_x\": {\"color\": \"#2a3f5f\"}, \"error_y\": {\"color\": \"#2a3f5f\"}, \"marker\": {\"line\": {\"color\": \"#E5ECF6\", \"width\": 0.5}}, \"type\": \"bar\"}], \"barpolar\": [{\"marker\": {\"line\": {\"color\": \"#E5ECF6\", \"width\": 0.5}}, \"type\": \"barpolar\"}], \"carpet\": [{\"aaxis\": {\"endlinecolor\": \"#2a3f5f\", \"gridcolor\": \"white\", \"linecolor\": \"white\", \"minorgridcolor\": \"white\", \"startlinecolor\": \"#2a3f5f\"}, \"baxis\": {\"endlinecolor\": \"#2a3f5f\", \"gridcolor\": \"white\", \"linecolor\": \"white\", \"minorgridcolor\": \"white\", \"startlinecolor\": \"#2a3f5f\"}, \"type\": \"carpet\"}], \"choropleth\": [{\"colorbar\": {\"outlinewidth\": 0, \"ticks\": \"\"}, \"type\": \"choropleth\"}], \"contour\": [{\"colorbar\": {\"outlinewidth\": 0, \"ticks\": \"\"}, \"colorscale\": [[0.0, \"#0d0887\"], [0.1111111111111111, \"#46039f\"], [0.2222222222222222, \"#7201a8\"], [0.3333333333333333, \"#9c179e\"], [0.4444444444444444, \"#bd3786\"], [0.5555555555555556, \"#d8576b\"], [0.6666666666666666, \"#ed7953\"], [0.7777777777777778, \"#fb9f3a\"], [0.8888888888888888, \"#fdca26\"], [1.0, \"#f0f921\"]], \"type\": \"contour\"}], \"contourcarpet\": [{\"colorbar\": {\"outlinewidth\": 0, \"ticks\": \"\"}, \"type\": \"contourcarpet\"}], \"heatmap\": [{\"colorbar\": {\"outlinewidth\": 0, \"ticks\": \"\"}, \"colorscale\": [[0.0, \"#0d0887\"], [0.1111111111111111, \"#46039f\"], [0.2222222222222222, \"#7201a8\"], [0.3333333333333333, \"#9c179e\"], [0.4444444444444444, \"#bd3786\"], [0.5555555555555556, \"#d8576b\"], [0.6666666666666666, \"#ed7953\"], [0.7777777777777778, \"#fb9f3a\"], [0.8888888888888888, \"#fdca26\"], [1.0, \"#f0f921\"]], \"type\": \"heatmap\"}], \"heatmapgl\": [{\"colorbar\": {\"outlinewidth\": 0, \"ticks\": \"\"}, \"colorscale\": [[0.0, \"#0d0887\"], [0.1111111111111111, \"#46039f\"], [0.2222222222222222, \"#7201a8\"], [0.3333333333333333, \"#9c179e\"], [0.4444444444444444, \"#bd3786\"], [0.5555555555555556, \"#d8576b\"], [0.6666666666666666, \"#ed7953\"], [0.7777777777777778, \"#fb9f3a\"], [0.8888888888888888, \"#fdca26\"], [1.0, \"#f0f921\"]], \"type\": \"heatmapgl\"}], \"histogram\": [{\"marker\": {\"colorbar\": {\"outlinewidth\": 0, \"ticks\": \"\"}}, \"type\": \"histogram\"}], \"histogram2d\": [{\"colorbar\": {\"outlinewidth\": 0, \"ticks\": \"\"}, \"colorscale\": [[0.0, \"#0d0887\"], [0.1111111111111111, \"#46039f\"], [0.2222222222222222, \"#7201a8\"], [0.3333333333333333, \"#9c179e\"], [0.4444444444444444, \"#bd3786\"], [0.5555555555555556, \"#d8576b\"], [0.6666666666666666, \"#ed7953\"], [0.7777777777777778, \"#fb9f3a\"], [0.8888888888888888, \"#fdca26\"], [1.0, \"#f0f921\"]], \"type\": \"histogram2d\"}], \"histogram2dcontour\": [{\"colorbar\": {\"outlinewidth\": 0, \"ticks\": \"\"}, \"colorscale\": [[0.0, \"#0d0887\"], [0.1111111111111111, \"#46039f\"], [0.2222222222222222, \"#7201a8\"], [0.3333333333333333, \"#9c179e\"], [0.4444444444444444, \"#bd3786\"], [0.5555555555555556, \"#d8576b\"], [0.6666666666666666, \"#ed7953\"], [0.7777777777777778, \"#fb9f3a\"], [0.8888888888888888, \"#fdca26\"], [1.0, \"#f0f921\"]], \"type\": \"histogram2dcontour\"}], \"mesh3d\": [{\"colorbar\": {\"outlinewidth\": 0, \"ticks\": \"\"}, \"type\": \"mesh3d\"}], \"parcoords\": [{\"line\": {\"colorbar\": {\"outlinewidth\": 0, \"ticks\": \"\"}}, \"type\": \"parcoords\"}], \"pie\": [{\"automargin\": true, \"type\": \"pie\"}], \"scatter\": [{\"marker\": {\"colorbar\": {\"outlinewidth\": 0, \"ticks\": \"\"}}, \"type\": \"scatter\"}], \"scatter3d\": [{\"line\": {\"colorbar\": {\"outlinewidth\": 0, \"ticks\": \"\"}}, \"marker\": {\"colorbar\": {\"outlinewidth\": 0, \"ticks\": \"\"}}, \"type\": \"scatter3d\"}], \"scattercarpet\": [{\"marker\": {\"colorbar\": {\"outlinewidth\": 0, \"ticks\": \"\"}}, \"type\": \"scattercarpet\"}], \"scattergeo\": [{\"marker\": {\"colorbar\": {\"outlinewidth\": 0, \"ticks\": \"\"}}, \"type\": \"scattergeo\"}], \"scattergl\": [{\"marker\": {\"colorbar\": {\"outlinewidth\": 0, \"ticks\": \"\"}}, \"type\": \"scattergl\"}], \"scattermapbox\": [{\"marker\": {\"colorbar\": {\"outlinewidth\": 0, \"ticks\": \"\"}}, \"type\": \"scattermapbox\"}], \"scatterpolar\": [{\"marker\": {\"colorbar\": {\"outlinewidth\": 0, \"ticks\": \"\"}}, \"type\": \"scatterpolar\"}], \"scatterpolargl\": [{\"marker\": {\"colorbar\": {\"outlinewidth\": 0, \"ticks\": \"\"}}, \"type\": \"scatterpolargl\"}], \"scatterternary\": [{\"marker\": {\"colorbar\": {\"outlinewidth\": 0, \"ticks\": \"\"}}, \"type\": \"scatterternary\"}], \"surface\": [{\"colorbar\": {\"outlinewidth\": 0, \"ticks\": \"\"}, \"colorscale\": [[0.0, \"#0d0887\"], [0.1111111111111111, \"#46039f\"], [0.2222222222222222, \"#7201a8\"], [0.3333333333333333, \"#9c179e\"], [0.4444444444444444, \"#bd3786\"], [0.5555555555555556, \"#d8576b\"], [0.6666666666666666, \"#ed7953\"], [0.7777777777777778, \"#fb9f3a\"], [0.8888888888888888, \"#fdca26\"], [1.0, \"#f0f921\"]], \"type\": \"surface\"}], \"table\": [{\"cells\": {\"fill\": {\"color\": \"#EBF0F8\"}, \"line\": {\"color\": \"white\"}}, \"header\": {\"fill\": {\"color\": \"#C8D4E3\"}, \"line\": {\"color\": \"white\"}}, \"type\": \"table\"}]}, \"layout\": {\"annotationdefaults\": {\"arrowcolor\": \"#2a3f5f\", \"arrowhead\": 0, \"arrowwidth\": 1}, \"coloraxis\": {\"colorbar\": {\"outlinewidth\": 0, \"ticks\": \"\"}}, \"colorscale\": {\"diverging\": [[0, \"#8e0152\"], [0.1, \"#c51b7d\"], [0.2, \"#de77ae\"], [0.3, \"#f1b6da\"], [0.4, \"#fde0ef\"], [0.5, \"#f7f7f7\"], [0.6, \"#e6f5d0\"], [0.7, \"#b8e186\"], [0.8, \"#7fbc41\"], [0.9, \"#4d9221\"], [1, \"#276419\"]], \"sequential\": [[0.0, \"#0d0887\"], [0.1111111111111111, \"#46039f\"], [0.2222222222222222, \"#7201a8\"], [0.3333333333333333, \"#9c179e\"], [0.4444444444444444, \"#bd3786\"], [0.5555555555555556, \"#d8576b\"], [0.6666666666666666, \"#ed7953\"], [0.7777777777777778, \"#fb9f3a\"], [0.8888888888888888, \"#fdca26\"], [1.0, \"#f0f921\"]], \"sequentialminus\": [[0.0, \"#0d0887\"], [0.1111111111111111, \"#46039f\"], [0.2222222222222222, \"#7201a8\"], [0.3333333333333333, \"#9c179e\"], [0.4444444444444444, \"#bd3786\"], [0.5555555555555556, \"#d8576b\"], [0.6666666666666666, \"#ed7953\"], [0.7777777777777778, \"#fb9f3a\"], [0.8888888888888888, \"#fdca26\"], [1.0, \"#f0f921\"]]}, \"colorway\": [\"#636efa\", \"#EF553B\", \"#00cc96\", \"#ab63fa\", \"#FFA15A\", \"#19d3f3\", \"#FF6692\", \"#B6E880\", \"#FF97FF\", \"#FECB52\"], \"font\": {\"color\": \"#2a3f5f\"}, \"geo\": {\"bgcolor\": \"white\", \"lakecolor\": \"white\", \"landcolor\": \"#E5ECF6\", \"showlakes\": true, \"showland\": true, \"subunitcolor\": \"white\"}, \"hoverlabel\": {\"align\": \"left\"}, \"hovermode\": \"closest\", \"mapbox\": {\"style\": \"light\"}, \"paper_bgcolor\": \"white\", \"plot_bgcolor\": \"#E5ECF6\", \"polar\": {\"angularaxis\": {\"gridcolor\": \"white\", \"linecolor\": \"white\", \"ticks\": \"\"}, \"bgcolor\": \"#E5ECF6\", \"radialaxis\": {\"gridcolor\": \"white\", \"linecolor\": \"white\", \"ticks\": \"\"}}, \"scene\": {\"xaxis\": {\"backgroundcolor\": \"#E5ECF6\", \"gridcolor\": \"white\", \"gridwidth\": 2, \"linecolor\": \"white\", \"showbackground\": true, \"ticks\": \"\", \"zerolinecolor\": \"white\"}, \"yaxis\": {\"backgroundcolor\": \"#E5ECF6\", \"gridcolor\": \"white\", \"gridwidth\": 2, \"linecolor\": \"white\", \"showbackground\": true, \"ticks\": \"\", \"zerolinecolor\": \"white\"}, \"zaxis\": {\"backgroundcolor\": \"#E5ECF6\", \"gridcolor\": \"white\", \"gridwidth\": 2, \"linecolor\": \"white\", \"showbackground\": true, \"ticks\": \"\", \"zerolinecolor\": \"white\"}}, \"shapedefaults\": {\"line\": {\"color\": \"#2a3f5f\"}}, \"ternary\": {\"aaxis\": {\"gridcolor\": \"white\", \"linecolor\": \"white\", \"ticks\": \"\"}, \"baxis\": {\"gridcolor\": \"white\", \"linecolor\": \"white\", \"ticks\": \"\"}, \"bgcolor\": \"#E5ECF6\", \"caxis\": {\"gridcolor\": \"white\", \"linecolor\": \"white\", \"ticks\": \"\"}}, \"title\": {\"x\": 0.05}, \"xaxis\": {\"automargin\": true, \"gridcolor\": \"white\", \"linecolor\": \"white\", \"ticks\": \"\", \"title\": {\"standoff\": 15}, \"zerolinecolor\": \"white\", \"zerolinewidth\": 2}, \"yaxis\": {\"automargin\": true, \"gridcolor\": \"white\", \"linecolor\": \"white\", \"ticks\": \"\", \"title\": {\"standoff\": 15}, \"zerolinecolor\": \"white\", \"zerolinewidth\": 2}}}, \"xaxis\": {\"anchor\": \"y\", \"domain\": [0.0, 1.0], \"title\": {\"text\": \"\\u9810\\u4ea4\\u65e5\\u671f\"}}, \"yaxis\": {\"anchor\": \"x\", \"domain\": [0.0, 1.0], \"title\": {\"text\": \"\\u6578\\u91cf\"}}},                        {\"responsive\": true}                    ).then(function(){\n",
       "                            \n",
       "var gd = document.getElementById('76ee4613-ae4c-4c57-98f9-d748c0fd2024');\n",
       "var x = new MutationObserver(function (mutations, observer) {{\n",
       "        var display = window.getComputedStyle(gd).display;\n",
       "        if (!display || display === 'none') {{\n",
       "            console.log([gd, 'removed!']);\n",
       "            Plotly.purge(gd);\n",
       "            observer.disconnect();\n",
       "        }}\n",
       "}});\n",
       "\n",
       "// Listen for the removal of the full notebook cells\n",
       "var notebookContainer = gd.closest('#notebook-container');\n",
       "if (notebookContainer) {{\n",
       "    x.observe(notebookContainer, {childList: true});\n",
       "}}\n",
       "\n",
       "// Listen for the clearing of the current output cell\n",
       "var outputEl = gd.closest('.output');\n",
       "if (outputEl) {{\n",
       "    x.observe(outputEl, {childList: true});\n",
       "}}\n",
       "\n",
       "                        })                };                });            </script>        </div>"
      ]
     },
     "metadata": {},
     "output_type": "display_data"
    }
   ],
   "source": [
    "bar_plot"
   ]
  },
  {
   "cell_type": "code",
   "execution_count": 78,
   "metadata": {},
   "outputs": [],
   "source": [
    "with open('/Users/kai/Desktop/20210525_未出訂單.html', 'w') as f:\n",
    "    f.write(chart.render())\n",
    "    f.write(bar_plot.to_html(full_html=False, include_plotlyjs='cdn') )\n",
    "    f.close()"
   ]
  },
  {
   "cell_type": "code",
   "execution_count": 127,
   "metadata": {},
   "outputs": [],
   "source": [
    "result.to_excel('/Users/kai/Desktop/20210525_超出12週訂單.xlsx', index=False)"
   ]
  }
 ],
 "metadata": {
  "kernelspec": {
   "display_name": "Python 3",
   "language": "python",
   "name": "python3"
  },
  "language_info": {
   "codemirror_mode": {
    "name": "ipython",
    "version": 3
   },
   "file_extension": ".py",
   "mimetype": "text/x-python",
   "name": "python",
   "nbconvert_exporter": "python",
   "pygments_lexer": "ipython3",
   "version": "3.8.5"
  }
 },
 "nbformat": 4,
 "nbformat_minor": 4
}
