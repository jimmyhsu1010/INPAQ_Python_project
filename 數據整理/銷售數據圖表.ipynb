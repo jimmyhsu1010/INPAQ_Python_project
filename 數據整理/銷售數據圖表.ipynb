{
 "cells": [
  {
   "cell_type": "code",
   "execution_count": null,
   "metadata": {},
   "outputs": [],
   "source": [
    "import pandas as pd"
   ]
  },
  {
   "cell_type": "code",
   "execution_count": null,
   "metadata": {},
   "outputs": [],
   "source": [
    "import tkinter as tk\n",
    "from tkinter import filedialog"
   ]
  },
  {
   "cell_type": "code",
   "execution_count": null,
   "metadata": {},
   "outputs": [],
   "source": [
    "root = tk.Tk()\n",
    "root.withdraw()\n",
    "file_path = filedialog.askopenfilename()"
   ]
  },
  {
   "cell_type": "code",
   "execution_count": null,
   "metadata": {},
   "outputs": [],
   "source": [
    "df = pd.read_excel(file_path, sheet_name=\"出貨明細\")"
   ]
  },
  {
   "cell_type": "code",
   "execution_count": null,
   "metadata": {},
   "outputs": [],
   "source": [
    "df = df[(df[\"狀態\"].str.contains(\"出\")) & (df[\"預交日期\"] <= \"2021-01-31\")]"
   ]
  },
  {
   "cell_type": "code",
   "execution_count": null,
   "metadata": {
    "scrolled": true
   },
   "outputs": [],
   "source": [
    "monthly_sales = df.groupby([pd.Grouper(key=\"預交日期\", freq=\"M\"), \"負責業務\"])[[\"數量\", \"本國幣別NTD\"]].sum().reset_index()"
   ]
  },
  {
   "cell_type": "code",
   "execution_count": null,
   "metadata": {},
   "outputs": [],
   "source": [
    "monthly_sales"
   ]
  },
  {
   "cell_type": "code",
   "execution_count": null,
   "metadata": {},
   "outputs": [],
   "source": [
    "format_dict = {\"預交日期\": \"{:%Y-%m}\", \"數量\": \"{0:,.0f}\", \"本國幣別NTD\": \"{0:,.0f}\"} # 設定樣式字典來套用\n",
    "test = monthly_sales.style.format(format_dict).hide_index().background_gradient(subset=[\"數量\", \"本國幣別NTD\"], cmap=\"BuGn\")"
   ]
  },
  {
   "cell_type": "code",
   "execution_count": null,
   "metadata": {},
   "outputs": [],
   "source": [
    "monthly_sales.style.format(format_dict).hide_index().bar(color=\"lightgreen\", vmin=100_000, subset=[\"本國幣別NTD\"]).set_caption(\"2019年至今各月統計表\")"
   ]
  },
  {
   "cell_type": "code",
   "execution_count": null,
   "metadata": {},
   "outputs": [],
   "source": [
    "month_order = [\"January\", \"February\", \"March\", \"April\",\n",
    "              \"May\", \"June\", \"July\", \"August\",\n",
    "              \"September\", \"October\", \"November\", \"December\"]\n",
    "df[\"預交月份\"] = pd.Categorical(df[\"預交月份\"], ordered=True, categories=month_order)"
   ]
  },
  {
   "cell_type": "code",
   "execution_count": null,
   "metadata": {},
   "outputs": [],
   "source": [
    "result = test.data # .data將styler轉回dataframe才能進行其他操作，例如作圖之類的"
   ]
  },
  {
   "cell_type": "markdown",
   "metadata": {},
   "source": [
    "## Pivot table轉回DataFrame方式為\n",
    "---\n",
    "1. 使用.to_records()將數據轉為array\n",
    "2. 在用pd.DataFrame的方式將array放進去即可"
   ]
  },
  {
   "cell_type": "code",
   "execution_count": null,
   "metadata": {},
   "outputs": [],
   "source": [
    "pd.DataFrame(pd.pivot_table(df, index=[\"預交年份\", \"負責業務\"], values=\"本國幣別NTD\", columns=\"預交月份\").to_records())"
   ]
  },
  {
   "cell_type": "code",
   "execution_count": null,
   "metadata": {},
   "outputs": [],
   "source": [
    "import plotly.express as px"
   ]
  },
  {
   "cell_type": "code",
   "execution_count": null,
   "metadata": {
    "scrolled": true
   },
   "outputs": [],
   "source": [
    "px.line(result, x=\"預交日期\", y=\"本國幣別NTD\", color=\"負責業務\", \n",
    "        title=\"業績走勢圖\", labels={\"本國幣別NTD\": \"營業額\", \"預交日期\": \"月份\"}).show()"
   ]
  },
  {
   "cell_type": "code",
   "execution_count": null,
   "metadata": {},
   "outputs": [],
   "source": [
    "test.to_excel(r\"C:\\Users\\kaihsu\\Desktop\\test.xlsx\", index=False)"
   ]
  }
 ],
 "metadata": {
  "kernelspec": {
   "display_name": "Python 3",
   "language": "python",
   "name": "python3"
  },
  "language_info": {
   "codemirror_mode": {
    "name": "ipython",
    "version": 3
   },
   "file_extension": ".py",
   "mimetype": "text/x-python",
   "name": "python",
   "nbconvert_exporter": "python",
   "pygments_lexer": "ipython3",
   "version": "3.8.3"
  }
 },
 "nbformat": 4,
 "nbformat_minor": 4
}
