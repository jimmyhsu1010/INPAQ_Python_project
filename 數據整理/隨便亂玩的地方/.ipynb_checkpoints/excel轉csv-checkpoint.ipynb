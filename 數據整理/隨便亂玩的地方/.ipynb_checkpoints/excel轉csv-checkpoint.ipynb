{
 "cells": [
  {
   "cell_type": "code",
   "execution_count": null,
   "id": "fd1cc575",
   "metadata": {},
   "outputs": [],
   "source": [
    "import pandas as pd"
   ]
  },
  {
   "cell_type": "code",
   "execution_count": null,
   "id": "034ee17a",
   "metadata": {},
   "outputs": [],
   "source": [
    "import datetime"
   ]
  },
  {
   "cell_type": "code",
   "execution_count": null,
   "id": "ce1cffc1",
   "metadata": {},
   "outputs": [],
   "source": [
    "import calendar"
   ]
  },
  {
   "cell_type": "code",
   "execution_count": null,
   "id": "b2f86f00",
   "metadata": {},
   "outputs": [],
   "source": [
    "months = [calendar.month_name[i] for i in range(1, 13)]"
   ]
  },
  {
   "cell_type": "code",
   "execution_count": null,
   "id": "720e19b0",
   "metadata": {},
   "outputs": [],
   "source": [
    "current_month = months.index(datetime.datetime.now().strftime('%B'))"
   ]
  },
  {
   "cell_type": "code",
   "execution_count": null,
   "id": "e17c4f35",
   "metadata": {},
   "outputs": [],
   "source": [
    "current_month_index = current_month + 1"
   ]
  },
  {
   "cell_type": "code",
   "execution_count": null,
   "id": "9acd7ff6",
   "metadata": {},
   "outputs": [],
   "source": [
    "months[0:current_month_index]"
   ]
  },
  {
   "cell_type": "code",
   "execution_count": null,
   "id": "1f90c8b7",
   "metadata": {
    "scrolled": false
   },
   "outputs": [],
   "source": [
    "df[(df['狀態'].str.contains('出')) & (~df['BG'].isin(['Others'])) & (df['預交月份'].isin(months[0:current_month_index])) & (df['預交年份'] == datetime.datetime.now().year)]['本國幣別NTD'].sum()"
   ]
  },
  {
   "cell_type": "code",
   "execution_count": null,
   "id": "d814b04f",
   "metadata": {},
   "outputs": [],
   "source": [
    "df = pd.read_excel(r\"C:\\Users\\kaihsu\\Desktop\\業績總表\\Weekly report_v0.1.xlsx\", sheet_name=\"出貨明細\")"
   ]
  },
  {
   "cell_type": "code",
   "execution_count": null,
   "id": "8ef5a264",
   "metadata": {},
   "outputs": [],
   "source": [
    "df.to_csv(r\"C:\\Users\\kaihsu\\Desktop\\業績總表\\出貨明細總表.csv\", index=False)"
   ]
  },
  {
   "cell_type": "code",
   "execution_count": null,
   "id": "5bb733db",
   "metadata": {},
   "outputs": [],
   "source": [
    "budget = pd.read_excel(r\"D:\\OneDrive\\INPAQ\\預算\\2022 Forecast\\正式預算\\20211102_第二版預算\\2022預算匯總表for樞紐_20211102.xlsx\", None)"
   ]
  },
  {
   "cell_type": "code",
   "execution_count": null,
   "id": "08d3c6f9",
   "metadata": {},
   "outputs": [],
   "source": [
    "budget.keys()"
   ]
  },
  {
   "cell_type": "code",
   "execution_count": null,
   "id": "078a06a2",
   "metadata": {},
   "outputs": [],
   "source": [
    "result = budget['預算和實績']"
   ]
  },
  {
   "cell_type": "code",
   "execution_count": null,
   "id": "cf5219c9",
   "metadata": {},
   "outputs": [],
   "source": [
    "result.to_csv(r\"D:\\OneDrive\\INPAQ\\業績總表\\各年度預算和實績.csv\", index=False)"
   ]
  },
  {
   "cell_type": "code",
   "execution_count": null,
   "id": "2795cdb5",
   "metadata": {},
   "outputs": [],
   "source": [
    "budget = result[(result['月份'] == 'November') & (result['年份'] == 2021) & (result['金額類型'] == '預算')]['金額'].sum()\n",
    "real = result[(result['月份'] == 'November') & (result['年份'] == 2021) & (result['金額類型'] == '實績')]['金額'].sum()"
   ]
  },
  {
   "cell_type": "code",
   "execution_count": null,
   "id": "d805cf0f",
   "metadata": {},
   "outputs": [],
   "source": [
    "round(real / budget, 2)"
   ]
  },
  {
   "cell_type": "code",
   "execution_count": null,
   "id": "e94f3723",
   "metadata": {},
   "outputs": [],
   "source": [
    "def test(*args):\n",
    "    x = list(args)\n",
    "    return x"
   ]
  },
  {
   "cell_type": "code",
   "execution_count": null,
   "id": "3a04232e",
   "metadata": {},
   "outputs": [],
   "source": [
    "test(1, 2, 3, 4)"
   ]
  },
  {
   "cell_type": "code",
   "execution_count": null,
   "id": "b1b018af",
   "metadata": {},
   "outputs": [],
   "source": []
  }
 ],
 "metadata": {
  "kernelspec": {
   "display_name": "Python 3",
   "language": "python",
   "name": "python3"
  },
  "language_info": {
   "codemirror_mode": {
    "name": "ipython",
    "version": 3
   },
   "file_extension": ".py",
   "mimetype": "text/x-python",
   "name": "python",
   "nbconvert_exporter": "python",
   "pygments_lexer": "ipython3",
   "version": "3.8.11"
  }
 },
 "nbformat": 4,
 "nbformat_minor": 5
}
