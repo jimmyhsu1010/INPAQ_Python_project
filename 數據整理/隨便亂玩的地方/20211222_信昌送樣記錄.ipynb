{
 "cells": [
  {
   "cell_type": "code",
   "execution_count": null,
   "id": "e3ae7989",
   "metadata": {},
   "outputs": [],
   "source": [
    "import pandas as pd\n",
    "pd.set_option(\"display.max_columns\", None)\n",
    "pd.set_option(\"mode.chained_assignment\", None)\n"
   ]
  },
  {
   "cell_type": "code",
   "execution_count": null,
   "id": "0a149ad2",
   "metadata": {},
   "outputs": [],
   "source": [
    "df = pd.read_clipboard()"
   ]
  },
  {
   "cell_type": "code",
   "execution_count": null,
   "id": "71711f78",
   "metadata": {},
   "outputs": [],
   "source": [
    "result = df.dropna(axis=1)"
   ]
  },
  {
   "cell_type": "code",
   "execution_count": null,
   "id": "0aacd21f",
   "metadata": {},
   "outputs": [],
   "source": [
    "result[\"單位\"].unique()"
   ]
  },
  {
   "cell_type": "code",
   "execution_count": null,
   "id": "d0294353",
   "metadata": {},
   "outputs": [],
   "source": [
    "result[\"已出貨數 總和\"] = result[\"已出貨數 總和\"].str.replace(\",\", \"\")"
   ]
  },
  {
   "cell_type": "code",
   "execution_count": null,
   "id": "092879ec",
   "metadata": {},
   "outputs": [],
   "source": [
    "result[\"已出貨數 總和\"] = result[\"已出貨數 總和\"].astype(\"int\")"
   ]
  },
  {
   "cell_type": "code",
   "execution_count": null,
   "id": "0f646675",
   "metadata": {},
   "outputs": [],
   "source": [
    "result[\"已出貨數 總和\"] = result.apply(lambda x: x[\"已出貨數 總和\"] * 1000 if x[\"單位\"] == \"KPCS\" else x[\"已出貨數 總和\"], axis=1)"
   ]
  },
  {
   "cell_type": "code",
   "execution_count": null,
   "id": "0dd7dfb4",
   "metadata": {},
   "outputs": [],
   "source": [
    "final = result.groupby([\"實際完成日\", \"品名\"])[[\"已出貨數 總和\"]].sum().reset_index()"
   ]
  },
  {
   "cell_type": "code",
   "execution_count": null,
   "id": "d79aa96b",
   "metadata": {},
   "outputs": [],
   "source": [
    "final[\"進度\"] = \"\""
   ]
  },
  {
   "cell_type": "code",
   "execution_count": null,
   "id": "d33fdbd4",
   "metadata": {},
   "outputs": [],
   "source": [
    "final.to_excel(r\"C:\\Users\\kaihsu\\Desktop\\2021年送樣完成記錄.xlsx\", index=False)"
   ]
  },
  {
   "cell_type": "code",
   "execution_count": null,
   "id": "8c0aa2f4",
   "metadata": {},
   "outputs": [],
   "source": []
  }
 ],
 "metadata": {
  "kernelspec": {
   "display_name": "Python 3 (ipykernel)",
   "language": "python",
   "name": "python3"
  },
  "language_info": {
   "codemirror_mode": {
    "name": "ipython",
    "version": 3
   },
   "file_extension": ".py",
   "mimetype": "text/x-python",
   "name": "python",
   "nbconvert_exporter": "python",
   "pygments_lexer": "ipython3",
   "version": "3.8.8"
  }
 },
 "nbformat": 4,
 "nbformat_minor": 5
}
