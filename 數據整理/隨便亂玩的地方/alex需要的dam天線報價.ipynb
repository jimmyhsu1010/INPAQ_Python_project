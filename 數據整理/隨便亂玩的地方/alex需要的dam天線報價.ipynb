{
 "cells": [
  {
   "cell_type": "code",
   "execution_count": null,
   "id": "ac5b0296",
   "metadata": {},
   "outputs": [],
   "source": [
    "import pandas as pd\n",
    "pd.set_option('display.max_columns', None)\n",
    "pd.set_option('mode.chained_assignment', None)\n"
   ]
  },
  {
   "cell_type": "code",
   "execution_count": null,
   "id": "878ef9a7",
   "metadata": {},
   "outputs": [],
   "source": [
    "df = pd.read_excel(r\"C:\\Users\\kaihsu\\OneDrive\\INPAQ\\業績總表\\Weekly report_v0.1.xlsx\", sheet_name='出貨明細')"
   ]
  },
  {
   "cell_type": "code",
   "execution_count": null,
   "id": "f846a661",
   "metadata": {},
   "outputs": [],
   "source": [
    "result = df[(df[\"產品分類\"].str.contains(\"DAM\")) & (df[\"負責業務\"] == \"許凱智\")]"
   ]
  },
  {
   "cell_type": "code",
   "execution_count": null,
   "id": "d8859b09",
   "metadata": {},
   "outputs": [],
   "source": [
    "result.drop_duplicates(subset=[\"Group\", \"品名\", \"單價\"], keep=\"last\", inplace=True)"
   ]
  },
  {
   "cell_type": "code",
   "execution_count": null,
   "id": "297c1e92",
   "metadata": {},
   "outputs": [],
   "source": [
    "final = result[[\"Group\", \"品名\", \"單價\"]]"
   ]
  },
  {
   "cell_type": "code",
   "execution_count": null,
   "id": "e67a1fe9",
   "metadata": {},
   "outputs": [],
   "source": [
    "final.to_excel(r\"C:\\Users\\kaihsu\\Desktop\\for_alex.xlsx\", index=False)"
   ]
  },
  {
   "cell_type": "code",
   "execution_count": null,
   "id": "12f37d45",
   "metadata": {},
   "outputs": [],
   "source": []
  }
 ],
 "metadata": {
  "kernelspec": {
   "display_name": "Python 3 (ipykernel)",
   "language": "python",
   "name": "python3"
  },
  "language_info": {
   "codemirror_mode": {
    "name": "ipython",
    "version": 3
   },
   "file_extension": ".py",
   "mimetype": "text/x-python",
   "name": "python",
   "nbconvert_exporter": "python",
   "pygments_lexer": "ipython3",
   "version": "3.8.8"
  }
 },
 "nbformat": 4,
 "nbformat_minor": 5
}
