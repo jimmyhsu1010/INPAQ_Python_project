{
 "cells": [
  {
   "cell_type": "code",
   "execution_count": 1,
   "id": "68974827",
   "metadata": {},
   "outputs": [],
   "source": [
    "import pandas as pd"
   ]
  },
  {
   "cell_type": "code",
   "execution_count": 5,
   "id": "e4ea1a8c",
   "metadata": {},
   "outputs": [],
   "source": [
    "import datetime"
   ]
  },
  {
   "cell_type": "code",
   "execution_count": 36,
   "id": "75cb1b8d",
   "metadata": {},
   "outputs": [],
   "source": [
    "import calendar"
   ]
  },
  {
   "cell_type": "code",
   "execution_count": 38,
   "id": "592a41e0",
   "metadata": {},
   "outputs": [],
   "source": [
    "months = [calendar.month_name[i] for i in range(1, 13)]"
   ]
  },
  {
   "cell_type": "code",
   "execution_count": 45,
   "id": "a4b438a4",
   "metadata": {},
   "outputs": [],
   "source": [
    "current_month = months.index(datetime.datetime.now().strftime('%B'))"
   ]
  },
  {
   "cell_type": "code",
   "execution_count": 48,
   "id": "552cc796",
   "metadata": {},
   "outputs": [],
   "source": [
    "current_month_index = current_month + 1"
   ]
  },
  {
   "cell_type": "code",
   "execution_count": 50,
   "id": "ae6c3fd2",
   "metadata": {},
   "outputs": [
    {
     "data": {
      "text/plain": [
       "['January',\n",
       " 'February',\n",
       " 'March',\n",
       " 'April',\n",
       " 'May',\n",
       " 'June',\n",
       " 'July',\n",
       " 'August',\n",
       " 'September',\n",
       " 'October',\n",
       " 'November']"
      ]
     },
     "execution_count": 50,
     "metadata": {},
     "output_type": "execute_result"
    }
   ],
   "source": [
    "months[0:current_month_index]"
   ]
  },
  {
   "cell_type": "code",
   "execution_count": 51,
   "id": "7bce91e8",
   "metadata": {
    "scrolled": false
   },
   "outputs": [
    {
     "data": {
      "text/plain": [
       "547117026.3890541"
      ]
     },
     "execution_count": 51,
     "metadata": {},
     "output_type": "execute_result"
    }
   ],
   "source": [
    "df[(df['狀態'].str.contains('出')) & (~df['BG'].isin(['Others'])) & (df['預交月份'].isin(months[0:current_month_index])) & (df['預交年份'] == datetime.datetime.now().year)]['本國幣別NTD'].sum()"
   ]
  },
  {
   "cell_type": "code",
   "execution_count": 2,
   "id": "a088f5bb",
   "metadata": {},
   "outputs": [],
   "source": [
    "df = pd.read_excel(r\"C:\\Users\\kaihsu\\Desktop\\業績總表\\Weekly report_v0.1.xlsx\", sheet_name=\"出貨明細\")"
   ]
  },
  {
   "cell_type": "code",
   "execution_count": 3,
   "id": "eaa56ddb",
   "metadata": {},
   "outputs": [],
   "source": [
    "df.to_csv(r\"C:\\Users\\kaihsu\\Desktop\\業績總表\\出貨明細總表.csv\", index=False)"
   ]
  },
  {
   "cell_type": "code",
   "execution_count": 53,
   "id": "b166c92e",
   "metadata": {},
   "outputs": [],
   "source": [
    "budget = pd.read_excel(r\"D:\\OneDrive\\INPAQ\\預算\\2022 Forecast\\正式預算\\20211102_第二版預算\\2022預算匯總表for樞紐_20211102.xlsx\", None)"
   ]
  },
  {
   "cell_type": "code",
   "execution_count": 54,
   "id": "1ff2bf53",
   "metadata": {},
   "outputs": [
    {
     "data": {
      "text/plain": [
       "dict_keys(['各年度數字總表20211102', '改正LF', '各年度數字總表', '各年度數字樞紐', '2021預算raw data', '2022預算Raw data', 'BU對照表', '歷年實績', '預算和實績', '2021年實績樞紐', 'MT一頁報告用數據', 'TELTONIKA整理', 'TELTONIKA一頁報告用', 'TELTONIKA樞紐', '總覽', '圖表'])"
      ]
     },
     "execution_count": 54,
     "metadata": {},
     "output_type": "execute_result"
    }
   ],
   "source": [
    "budget.keys()"
   ]
  },
  {
   "cell_type": "code",
   "execution_count": 56,
   "id": "095f952b",
   "metadata": {},
   "outputs": [],
   "source": [
    "result = budget['預算和實績']"
   ]
  },
  {
   "cell_type": "code",
   "execution_count": 57,
   "id": "681f17ff",
   "metadata": {},
   "outputs": [],
   "source": [
    "result.to_csv(r\"D:\\OneDrive\\INPAQ\\業績總表\\各年度預算和實績.csv\", index=False)"
   ]
  },
  {
   "cell_type": "code",
   "execution_count": 60,
   "id": "757f6f97",
   "metadata": {},
   "outputs": [],
   "source": [
    "budget = result[(result['月份'] == 'November') & (result['年份'] == 2021) & (result['金額類型'] == '預算')]['金額'].sum()\n",
    "real = result[(result['月份'] == 'November') & (result['年份'] == 2021) & (result['金額類型'] == '實績')]['金額'].sum()"
   ]
  },
  {
   "cell_type": "code",
   "execution_count": 63,
   "id": "a06b33d9",
   "metadata": {},
   "outputs": [
    {
     "data": {
      "text/plain": [
       "0.95"
      ]
     },
     "execution_count": 63,
     "metadata": {},
     "output_type": "execute_result"
    }
   ],
   "source": [
    "round(real / budget, 2)"
   ]
  },
  {
   "cell_type": "code",
   "execution_count": 75,
   "id": "381ffe49",
   "metadata": {},
   "outputs": [],
   "source": [
    "def test(*args):\n",
    "    x = list(args)\n",
    "    return x"
   ]
  },
  {
   "cell_type": "code",
   "execution_count": 76,
   "id": "a554745a",
   "metadata": {},
   "outputs": [
    {
     "data": {
      "text/plain": [
       "[1, 2, 3, 4]"
      ]
     },
     "execution_count": 76,
     "metadata": {},
     "output_type": "execute_result"
    }
   ],
   "source": [
    "test(1, 2, 3, 4)"
   ]
  },
  {
   "cell_type": "code",
   "execution_count": null,
   "id": "5ea0b4e3",
   "metadata": {},
   "outputs": [],
   "source": []
  }
 ],
 "metadata": {
  "kernelspec": {
   "display_name": "Python 3",
   "language": "python",
   "name": "python3"
  },
  "language_info": {
   "codemirror_mode": {
    "name": "ipython",
    "version": 3
   },
   "file_extension": ".py",
   "mimetype": "text/x-python",
   "name": "python",
   "nbconvert_exporter": "python",
   "pygments_lexer": "ipython3",
   "version": "3.8.11"
  }
 },
 "nbformat": 4,
 "nbformat_minor": 5
}
