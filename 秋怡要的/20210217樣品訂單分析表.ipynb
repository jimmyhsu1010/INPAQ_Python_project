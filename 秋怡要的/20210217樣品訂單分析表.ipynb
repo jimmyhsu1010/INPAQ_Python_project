{
 "cells": [
  {
   "cell_type": "code",
   "execution_count": 1,
   "metadata": {},
   "outputs": [],
   "source": [
    "import pandas as pd\n",
    "pd.set_option(\"display.max_rows\", 8)\n",
    "pd.set_option(\"display.max_columns\", None)\n",
    "import tkinter as tk\n",
    "from tkinter import filedialog"
   ]
  },
  {
   "cell_type": "code",
   "execution_count": 4,
   "metadata": {},
   "outputs": [],
   "source": [
    "root = tk.Tk()\n",
    "root.withdraw()\n",
    "file = filedialog.askopenfilename()\n",
    "df = pd.read_csv(file)"
   ]
  },
  {
   "cell_type": "code",
   "execution_count": 7,
   "metadata": {},
   "outputs": [],
   "source": [
    "df = df.drop([\"系統\", \"營運中心\"], axis=1)"
   ]
  },
  {
   "cell_type": "code",
   "execution_count": 11,
   "metadata": {},
   "outputs": [],
   "source": [
    "df = df.reindex(columns=['完成', '出貨單開立者', '業務員', '工程師', '樣品編號', '項次', '開單日期2', '代理商', '客戶', '業務需求日2',\n",
    "       '預計完成日2', '實際完成日2', '產品分類', '客戶專案名稱', '應用系統', '應用位置', '品名', '數量', '已出貨數', '單位', '量產',\n",
    "       '批號', '備註'])"
   ]
  },
  {
   "cell_type": "code",
   "execution_count": 13,
   "metadata": {},
   "outputs": [],
   "source": [
    "df.columns = ['完成', '出貨單開立者', '業務員', '工程師', '樣品編號', '項次', '開單日期', '代理商', '客戶',\n",
    "       '業務需求日', '預計完成日', '實際完成日', '產品分類', '客戶專案名稱', '應用系統', '應用位置', '品名',\n",
    "       '數量', '已出貨數', '單位', '量產', '批號', '備註']"
   ]
  },
  {
   "cell_type": "code",
   "execution_count": 15,
   "metadata": {},
   "outputs": [],
   "source": [
    "df.to_excel(r\"C:\\Users\\kaihsu\\Desktop\\樣品訂單分析表_data.xlsx\", index=False)"
   ]
  }
 ],
 "metadata": {
  "kernelspec": {
   "display_name": "Python 3",
   "language": "python",
   "name": "python3"
  },
  "language_info": {
   "codemirror_mode": {
    "name": "ipython",
    "version": 3
   },
   "file_extension": ".py",
   "mimetype": "text/x-python",
   "name": "python",
   "nbconvert_exporter": "python",
   "pygments_lexer": "ipython3",
   "version": "3.8.5"
  }
 },
 "nbformat": 4,
 "nbformat_minor": 4
}
