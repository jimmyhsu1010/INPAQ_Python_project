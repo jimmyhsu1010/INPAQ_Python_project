{
 "cells": [
  {
   "cell_type": "code",
   "execution_count": 1,
   "metadata": {},
   "outputs": [],
   "source": [
    "import pandas as pd\n",
    "pd.set_option('display.max_columns', None)\n",
    "pd.set_option('display.max_rows', 8)\n",
    "pd.set_option('display.float_format', lambda x: {',.0f'}.format(x))"
   ]
  },
  {
   "cell_type": "code",
   "execution_count": 2,
   "metadata": {},
   "outputs": [],
   "source": [
    "df = pd.read_excel(r'compel_antenna.xlsx')"
   ]
  },
  {
   "cell_type": "code",
   "execution_count": 10,
   "metadata": {},
   "outputs": [],
   "source": [
    "des = df['Description'].str.split(';', expand=True)"
   ]
  },
  {
   "cell_type": "code",
   "execution_count": 19,
   "metadata": {},
   "outputs": [
    {
     "data": {
      "text/html": [
       "<div>\n",
       "<style scoped>\n",
       "    .dataframe tbody tr th:only-of-type {\n",
       "        vertical-align: middle;\n",
       "    }\n",
       "\n",
       "    .dataframe tbody tr th {\n",
       "        vertical-align: top;\n",
       "    }\n",
       "\n",
       "    .dataframe thead th {\n",
       "        text-align: right;\n",
       "    }\n",
       "</style>\n",
       "<table border=\"1\" class=\"dataframe\">\n",
       "  <thead>\n",
       "    <tr style=\"text-align: right;\">\n",
       "      <th></th>\n",
       "      <th>0</th>\n",
       "      <th>1</th>\n",
       "      <th>2</th>\n",
       "      <th>3</th>\n",
       "      <th>4</th>\n",
       "    </tr>\n",
       "  </thead>\n",
       "  <tbody>\n",
       "    <tr>\n",
       "      <th>0</th>\n",
       "      <td>Антенна - Монтаж: на разъём</td>\n",
       "      <td>Применение: индустриальное</td>\n",
       "      <td>Частоты: 2.4 ГГц</td>\n",
       "      <td>K усил: 5 dB...</td>\n",
       "      <td>None</td>\n",
       "    </tr>\n",
       "    <tr>\n",
       "      <th>1</th>\n",
       "      <td>Антенна - Монтаж: на плату</td>\n",
       "      <td>Применение: навигация</td>\n",
       "      <td>Частоты: 1575/1602 МГц</td>\n",
       "      <td>K усил: 3 dB...</td>\n",
       "      <td>None</td>\n",
       "    </tr>\n",
       "    <tr>\n",
       "      <th>2</th>\n",
       "      <td>NaN</td>\n",
       "      <td>NaN</td>\n",
       "      <td>NaN</td>\n",
       "      <td>NaN</td>\n",
       "      <td>NaN</td>\n",
       "    </tr>\n",
       "    <tr>\n",
       "      <th>3</th>\n",
       "      <td>GPS/GLONASS антенна CeramicPatch Antenna 25x25...</td>\n",
       "      <td>None</td>\n",
       "      <td>None</td>\n",
       "      <td>None</td>\n",
       "      <td>None</td>\n",
       "    </tr>\n",
       "    <tr>\n",
       "      <th>...</th>\n",
       "      <td>...</td>\n",
       "      <td>...</td>\n",
       "      <td>...</td>\n",
       "      <td>...</td>\n",
       "      <td>...</td>\n",
       "    </tr>\n",
       "    <tr>\n",
       "      <th>639</th>\n",
       "      <td>Антенна - Монтаж: магнит</td>\n",
       "      <td>Применение: сотовая связь</td>\n",
       "      <td>Частоты: 900 МГц, 1800 МГц</td>\n",
       "      <td>K усил...</td>\n",
       "      <td>None</td>\n",
       "    </tr>\n",
       "    <tr>\n",
       "      <th>640</th>\n",
       "      <td>Антенна - Монтаж: магнит</td>\n",
       "      <td>Применение: сотовая связь</td>\n",
       "      <td>Частоты: 900 МГц, 1800 МГц</td>\n",
       "      <td>K усил...</td>\n",
       "      <td>None</td>\n",
       "    </tr>\n",
       "    <tr>\n",
       "      <th>641</th>\n",
       "      <td>Антенна - Монтаж: магнит</td>\n",
       "      <td>Применение: сотовая связь</td>\n",
       "      <td>Частоты: 900 МГц, 1800 МГц</td>\n",
       "      <td>K усил...</td>\n",
       "      <td>None</td>\n",
       "    </tr>\n",
       "    <tr>\n",
       "      <th>642</th>\n",
       "      <td>Средство разработки - Тип: программное обеспеч...</td>\n",
       "      <td>Производитель серий: SW</td>\n",
       "      <td>None</td>\n",
       "      <td>None</td>\n",
       "      <td>None</td>\n",
       "    </tr>\n",
       "  </tbody>\n",
       "</table>\n",
       "<p>643 rows × 5 columns</p>\n",
       "</div>"
      ],
      "text/plain": [
       "                                                     0  \\\n",
       "0                          Антенна - Монтаж: на разъём   \n",
       "1                           Антенна - Монтаж: на плату   \n",
       "2                                                  NaN   \n",
       "3    GPS/GLONASS антенна CeramicPatch Antenna 25x25...   \n",
       "..                                                 ...   \n",
       "639                           Антенна - Монтаж: магнит   \n",
       "640                           Антенна - Монтаж: магнит   \n",
       "641                           Антенна - Монтаж: магнит   \n",
       "642  Средство разработки - Тип: программное обеспеч...   \n",
       "\n",
       "                               1                            2  \\\n",
       "0     Применение: индустриальное             Частоты: 2.4 ГГц   \n",
       "1          Применение: навигация       Частоты: 1575/1602 МГц   \n",
       "2                            NaN                          NaN   \n",
       "3                           None                         None   \n",
       "..                           ...                          ...   \n",
       "639    Применение: сотовая связь   Частоты: 900 МГц, 1800 МГц   \n",
       "640    Применение: сотовая связь   Частоты: 900 МГц, 1800 МГц   \n",
       "641    Применение: сотовая связь   Частоты: 900 МГц, 1800 МГц   \n",
       "642      Производитель серий: SW                         None   \n",
       "\n",
       "                    3     4  \n",
       "0     K усил: 5 dB...  None  \n",
       "1     K усил: 3 dB...  None  \n",
       "2                 NaN   NaN  \n",
       "3                None  None  \n",
       "..                ...   ...  \n",
       "639         K усил...  None  \n",
       "640         K усил...  None  \n",
       "641         K усил...  None  \n",
       "642              None  None  \n",
       "\n",
       "[643 rows x 5 columns]"
      ]
     },
     "execution_count": 19,
     "metadata": {},
     "output_type": "execute_result"
    }
   ],
   "source": [
    "des"
   ]
  },
  {
   "cell_type": "code",
   "execution_count": 24,
   "metadata": {},
   "outputs": [],
   "source": [
    "mount_type = des[0].str.split(':', expand=True)\n",
    "df['mount_type'] = mount_type[1]"
   ]
  },
  {
   "cell_type": "code",
   "execution_count": 29,
   "metadata": {},
   "outputs": [],
   "source": [
    "freq = des[2].str.split(':', expand=True)\n",
    "df['Frequency'] = freq[1]"
   ]
  },
  {
   "cell_type": "code",
   "execution_count": 33,
   "metadata": {},
   "outputs": [],
   "source": [
    "gain = des[3].str.split(':', expand=True)"
   ]
  },
  {
   "cell_type": "code",
   "execution_count": 39,
   "metadata": {},
   "outputs": [],
   "source": [
    "df['Frequency'] = df['Frequency'].fillna('N/A')"
   ]
  },
  {
   "cell_type": "code",
   "execution_count": 41,
   "metadata": {},
   "outputs": [],
   "source": [
    "df['mount_type'] = df['mount_type'].fillna('N/A')"
   ]
  },
  {
   "cell_type": "code",
   "execution_count": 49,
   "metadata": {},
   "outputs": [],
   "source": [
    "des[0] = des[0].astype('str')"
   ]
  },
  {
   "cell_type": "code",
   "execution_count": 51,
   "metadata": {
    "scrolled": true
   },
   "outputs": [],
   "source": [
    "df['memo'] = des[0].map(lambda x: 'N/A' if 'Антенна - Монтаж' in x else x)"
   ]
  },
  {
   "cell_type": "code",
   "execution_count": 54,
   "metadata": {},
   "outputs": [],
   "source": [
    "df.columns = ['Part number', 'Manufacturer', 'Description', 'Mount_type', 'Frequency',\n",
    "       'Memo']"
   ]
  },
  {
   "cell_type": "code",
   "execution_count": 63,
   "metadata": {
    "scrolled": true
   },
   "outputs": [],
   "source": [
    "keys = df['Frequency'].unique().tolist()\n",
    "values = ['WiFi', 'GNSS L1', 'N/A', 'N/A', 'Unlicensed433',\n",
    "       'LoRa868', 'GNSS L1', 'GSM', 'GSM',\n",
    "       'GSM+WCDMA', 'GSM', 'GSM',\n",
    "       'GSM', '3-6 ГГц', '824MHz to 2.5GHz...', 'GSM',\n",
    "       'Wifi', '450 МГц', 'GSM',\n",
    "       'GSM+WCDMA', 'GSM',\n",
    "       'GSM+WCDMA', '12 dBi',\n",
    "       'GSM+WCDMA', 'GSM',\n",
    "       '380-500 МГц', 'N/A', 'N/A']\n",
    "freq_dict = dict(zip(keys, values))"
   ]
  },
  {
   "cell_type": "code",
   "execution_count": 66,
   "metadata": {},
   "outputs": [],
   "source": [
    "df['Antenna type'] = df['Frequency'].map(freq_dict)"
   ]
  },
  {
   "cell_type": "code",
   "execution_count": 69,
   "metadata": {},
   "outputs": [],
   "source": [
    "df['Antenna type'] = df.apply(lambda x: 'GNSS' if 'GPS' in x['Part number'] else x['Antenna type'], axis=1)"
   ]
  },
  {
   "cell_type": "code",
   "execution_count": 77,
   "metadata": {},
   "outputs": [],
   "source": [
    "df.to_excel(r'compel_antenna_final.xlsx', index=False)"
   ]
  }
 ],
 "metadata": {
  "kernelspec": {
   "display_name": "Python 3",
   "language": "python",
   "name": "python3"
  },
  "language_info": {
   "codemirror_mode": {
    "name": "ipython",
    "version": 3
   },
   "file_extension": ".py",
   "mimetype": "text/x-python",
   "name": "python",
   "nbconvert_exporter": "python",
   "pygments_lexer": "ipython3",
   "version": "3.8.5"
  }
 },
 "nbformat": 4,
 "nbformat_minor": 4
}
