{
 "cells": [
  {
   "cell_type": "code",
   "execution_count": null,
   "metadata": {},
   "outputs": [],
   "source": [
    "import requests\n",
    "from bs4 import BeautifulSoup as bs\n",
    "import pandas as pd\n",
    "import concurrent.futures\n",
    "import time"
   ]
  },
  {
   "cell_type": "code",
   "execution_count": null,
   "metadata": {},
   "outputs": [],
   "source": [
    "url = 'https://www.digikey.tw/products/zh/inductors-coils-chokes/fixed-inductors/71/page/2318?stock=1'"
   ]
  },
  {
   "cell_type": "code",
   "execution_count": null,
   "metadata": {},
   "outputs": [],
   "source": [
    "headers = {'user-agent': 'Mozilla/5.0 (Windows NT 10.0; Win64; x64) AppleWebKit/537.36 (KHTML, like Gecko) Chrome/89.0.4389.114 Safari/537.36'}"
   ]
  },
  {
   "cell_type": "code",
   "execution_count": null,
   "metadata": {},
   "outputs": [],
   "source": [
    "urls = []\n",
    "for i in range(1, 2319):\n",
    "    url = 'https://www.digikey.tw/products/zh/inductors-coils-chokes/fixed-inductors/71/page/' + str(i) + '?stock=1'\n",
    "    urls.append(url)"
   ]
  },
  {
   "cell_type": "code",
   "execution_count": null,
   "metadata": {},
   "outputs": [],
   "source": [
    "df = pd.DataFrame()"
   ]
  },
  {
   "cell_type": "code",
   "execution_count": null,
   "metadata": {},
   "outputs": [],
   "source": [
    "def parse(url):\n",
    "    global df\n",
    "    print(url)\n",
    "    res = requests.get(url, headers=headers)\n",
    "    print(res.status_code)\n",
    "    soup = bs(res.content, 'html.parser')\n",
    "    table = soup.find('tbody', id='lnkPart').find_all('tr')\n",
    "    for t in table:\n",
    "        rows = t.find_all('td')\n",
    "        manuf_pn = rows[4].text.strip()\n",
    "        manufacturer = rows[5].text.strip()\n",
    "        description = rows[6].text.strip()\n",
    "        price = rows[8].text.strip()\n",
    "#         moq = rows[9].text.strip()\n",
    "        series = rows[11].text.strip()\n",
    "        category = rows[13].text.strip()\n",
    "        material = rows[14].text.strip()\n",
    "        induc = rows[15].text.strip()\n",
    "        tolerance = rows[16].text.strip()\n",
    "        ia = rows[17].text.strip()\n",
    "        isat = rows[18].text.strip()\n",
    "        dcr = rows[20].text.strip()\n",
    "        case = rows[28].text.strip()\n",
    "        packing_size = rows[29].text.strip()\n",
    "        dimension = rows[30].text.strip()\n",
    "        height = rows[31].text.strip()\n",
    "        data = {'製造商PN': manuf_pn, '製造商': manufacturer, '說明': description,\n",
    "                        '單價':price, '系列': series, '類型': category,\n",
    "                        '材料-核心': material, '電感值': induc, '容差': tolerance,\n",
    "                        '額定電流(A)': ia, '飽和電流(Isat)': isat, 'DCR': dcr, '封裝/外殼': case,\n",
    "                        '供應商元件封裝': packing_size, '尺寸': dimension, '高度': height}\n",
    "#         print(data)\n",
    "        df = df.append(data, ignore_index=True)\n",
    "#     print(df.shape[0])"
   ]
  },
  {
   "cell_type": "markdown",
   "metadata": {},
   "source": [
    "## 回來的數據沒有全部，問題是什麼？來不及寫入df？還是先把數據collect起來，之後再處理數據"
   ]
  },
  {
   "cell_type": "code",
   "execution_count": null,
   "metadata": {
    "scrolled": false
   },
   "outputs": [],
   "source": [
    "start = time.time()\n",
    "with concurrent.futures.ThreadPoolExecutor() as executor:\n",
    "    executor.map(parse, urls)\n",
    "end = time.time()\n",
    "total = end - start\n",
    "items = df.shape[0]\n",
    "print('總共花了{}秒爬取全部{}筆數據'.format(total, items))"
   ]
  },
  {
   "cell_type": "code",
   "execution_count": null,
   "metadata": {},
   "outputs": [],
   "source": [
    "df = df.drop_duplicates()"
   ]
  },
  {
   "cell_type": "code",
   "execution_count": null,
   "metadata": {
    "scrolled": true
   },
   "outputs": [],
   "source": [
    "df.to_excel(r\"C:\\Users\\kaihsu\\Desktop\\digikeys_inductors.xlsx\", index=False)"
   ]
  },
  {
   "cell_type": "markdown",
   "metadata": {},
   "source": [
    "## 下面為測試區"
   ]
  },
  {
   "cell_type": "code",
   "execution_count": null,
   "metadata": {},
   "outputs": [],
   "source": [
    "res = requests.get(url, headers=headers)"
   ]
  },
  {
   "cell_type": "code",
   "execution_count": null,
   "metadata": {},
   "outputs": [],
   "source": [
    "soup = bs(res.content, 'html.parser')"
   ]
  },
  {
   "cell_type": "code",
   "execution_count": null,
   "metadata": {},
   "outputs": [],
   "source": [
    "table = soup.find('tbody', id='lnkPart').find_all('tr')"
   ]
  },
  {
   "cell_type": "code",
   "execution_count": null,
   "metadata": {},
   "outputs": [],
   "source": [
    "for t in table:\n",
    "    rows = t.find_all('td')\n",
    "    manuf_pn = rows[4].text.strip()\n",
    "    manufacturer = rows[5].text.strip()\n",
    "    description = rows[6].text.strip()\n",
    "    price = rows[8].text.strip()\n",
    "    moq = rows[9].text.strip()\n",
    "    series = rows[11].text.strip()\n",
    "    category = rows[13].text.strip()\n",
    "    material = rows[14].text.strip()\n",
    "    induc = rows[15].text.strip()\n",
    "    tolerance = rows[16].text.strip()\n",
    "    ia = rows[17].text.strip()\n",
    "    isat = rows[18].text.strip()\n",
    "    dcr = rows[20].text.strip()\n",
    "    case = rows[28].text.strip()\n",
    "    packing_size = rows[29].text.strip()\n",
    "    dimension = rows[30].text.strip()\n",
    "    height = rows[31].text.strip()\n",
    "    print(manuf_pn, manufacturer, description, price, moq, series, category, material, induc, tolerance, ia, isat, dcr,\n",
    "          case, packing_size, dimension, height)"
   ]
  },
  {
   "cell_type": "code",
   "execution_count": null,
   "metadata": {},
   "outputs": [],
   "source": []
  }
 ],
 "metadata": {
  "kernelspec": {
   "display_name": "Python 3",
   "language": "python",
   "name": "python3"
  },
  "language_info": {
   "codemirror_mode": {
    "name": "ipython",
    "version": 3
   },
   "file_extension": ".py",
   "mimetype": "text/x-python",
   "name": "python",
   "nbconvert_exporter": "python",
   "pygments_lexer": "ipython3",
   "version": "3.8.5"
  }
 },
 "nbformat": 4,
 "nbformat_minor": 4
}
