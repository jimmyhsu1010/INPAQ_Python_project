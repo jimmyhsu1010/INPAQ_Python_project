{
 "cells": [
  {
   "cell_type": "code",
   "execution_count": null,
   "metadata": {},
   "outputs": [],
   "source": [
    "import pandas as pd\n",
    "import datetime\n",
    "import requests\n",
    "from bs4 import BeautifulSoup as bs\n",
    "import time"
   ]
  },
  {
   "cell_type": "markdown",
   "metadata": {},
   "source": [
    "## 共用參數"
   ]
  },
  {
   "cell_type": "code",
   "execution_count": null,
   "metadata": {},
   "outputs": [],
   "source": [
    "in_theater = 'https://movies.yahoo.com.tw/movie_intheaters.html?page=1'\n",
    "coming_soon = 'https://movies.yahoo.com.tw/movie_comingsoon.html?page=1'\n",
    "headers = {'user-agent': 'Mozilla/5.0 (Macintosh; Intel Mac OS X 11_2_3) AppleWebKit/537.36 (KHTML, like Gecko) Chrome/89.0.4389.114 Safari/537.36'}"
   ]
  },
  {
   "cell_type": "markdown",
   "metadata": {},
   "source": [
    "## 爬取總頁面數function"
   ]
  },
  {
   "cell_type": "code",
   "execution_count": null,
   "metadata": {},
   "outputs": [],
   "source": [
    "def get_page(url):\n",
    "    res = requests.get(url, headers=headers)\n",
    "    soup = bs(res.content, 'html.parser')\n",
    "    body = soup.find('div', class_='page_numbox').find('ul')\n",
    "    pages = []\n",
    "    for b in body.find_all('a'):\n",
    "        pages.append(b.text)\n",
    "    new_pages = []\n",
    "    for p in pages:\n",
    "        try:\n",
    "            new_pages.append(int(p))\n",
    "        except ValueError:\n",
    "            pass\n",
    "    return max(new_pages)"
   ]
  },
  {
   "cell_type": "markdown",
   "metadata": {},
   "source": [
    "## 爬蟲主程式"
   ]
  },
  {
   "cell_type": "code",
   "execution_count": null,
   "metadata": {
    "scrolled": true
   },
   "outputs": [],
   "source": [
    "start = time.time()\n",
    "columns = ['片名', '英文片名', '上映日期', '期待度', '網友評分', '影片簡介']\n",
    "movie = pd.DataFrame(columns=columns)\n",
    "\n",
    "headers = {'user-agent': 'Mozilla/5.0 (Macintosh; Intel Mac OS X 11_2_3) AppleWebKit/537.36 (KHTML, like Gecko) Chrome/89.0.4389.114 Safari/537.36'}\n",
    "\n",
    "page = get_page(in_theater)\n",
    "for i in range(1, page + 1):\n",
    "    url = 'https://movies.yahoo.com.tw/movie_intheaters.html?page=' + str(i)\n",
    "    res = requests.get(url, headers=headers)\n",
    "    soup = bs(res.content, 'html.parser')\n",
    "    divs = soup.find_all('div', class_='release_info_text')\n",
    "    for d in divs:\n",
    "        name = d.find('a', class_='gabtn').text\n",
    "        en_name = d.find('div', class_='en').text\n",
    "        date = d.find('div', class_='release_movie_time').text\n",
    "        wanted = d.find('div', class_='leveltext').find('span').text\n",
    "        rating = d.find('span', class_='count')['data-num']\n",
    "        description = d.find('div', class_='release_text').text.strip()\n",
    "        movie = movie.append({'片名': name, '英文片名': en_name, '上映日期': date, '期待度': wanted, '網友評分': rating, '影片簡介': description}, ignore_index=True)\n",
    "\n",
    "page = get_page(coming_soon)\n",
    "for i in range(1, page + 1):\n",
    "    url = 'https://movies.yahoo.com.tw/movie_comingsoon.html?page=' + str(i)\n",
    "    res = requests.get(url, headers=headers)\n",
    "    soup = bs(res.content, 'html.parser')\n",
    "    divs = soup.find_all('div', class_='release_info_text')\n",
    "    for d in divs:\n",
    "        name = d.find('a', class_='gabtn').text\n",
    "        en_name = d.find('div', class_='en').text\n",
    "        date = d.find('div', class_='release_movie_time').text\n",
    "        wanted = d.find('div', class_='leveltext').find('span').text\n",
    "#         rating = d.find('span', class_='count')['data-num']\n",
    "        description = d.find('div', class_='release_text').text.strip()\n",
    "        movie = movie.append({'片名': name, '英文片名': en_name, '上映日期': date, '期待度': wanted, '影片簡介': description}, ignore_index=True)\n",
    "\n",
    "end = time.time()\n",
    "final = end - start\n",
    "print('總共{}秒爬完'.format(final))\n",
    "\n"
   ]
  },
  {
   "cell_type": "markdown",
   "metadata": {},
   "source": [
    "## 處理數據"
   ]
  },
  {
   "cell_type": "code",
   "execution_count": null,
   "metadata": {},
   "outputs": [],
   "source": [
    "movie['片名'] = movie['片名'].str.strip()\n",
    "movie['英文片名'] = movie['英文片名'].str.strip()\n",
    "movie['影片簡介'] = movie['影片簡介'].str.replace('\\r\\n', '')\n",
    "movie['上映日期'] = movie['上映日期'].str.replace('上映日期 ： ', '')\n",
    "movie['上映日期'] = pd.to_datetime(movie['上映日期'], yearfirst=True)\n",
    "movie['網友評分'] = movie['網友評分'].map(lambda x: x if pd.notna(x) else 0)\n",
    "movie['網友評分'] = movie['網友評分'].astype('float')\n",
    "# result = result.sort_values(['網友評分', '期待度'], ascending=False)\n",
    "# result.to_excel('/Users/kai/Desktop/movies.xlsx', index=False)"
   ]
  },
  {
   "cell_type": "code",
   "execution_count": null,
   "metadata": {},
   "outputs": [],
   "source": [
    "import plotly.express as px"
   ]
  },
  {
   "cell_type": "code",
   "execution_count": null,
   "metadata": {
    "scrolled": false
   },
   "outputs": [],
   "source": [
    "plot = movie[(movie['網友評分'] > 0) & (movie['上映日期'].between('2021-03-01', '2021-04-06'))]\n",
    "px.bar(plot, x='片名', y='網友評分').update_xaxes(categoryorder='total descending', tickangle=45).update_yaxes(showgrid=False, dtick=0.5, range=[2, movie['網友評分'].max()])"
   ]
  },
  {
   "cell_type": "code",
   "execution_count": null,
   "metadata": {},
   "outputs": [],
   "source": [
    "print(__name__)"
   ]
  }
 ],
 "metadata": {
  "kernelspec": {
   "display_name": "Python 3",
   "language": "python",
   "name": "python3"
  },
  "language_info": {
   "codemirror_mode": {
    "name": "ipython",
    "version": 3
   },
   "file_extension": ".py",
   "mimetype": "text/x-python",
   "name": "python",
   "nbconvert_exporter": "python",
   "pygments_lexer": "ipython3",
   "version": "3.8.5"
  }
 },
 "nbformat": 4,
 "nbformat_minor": 4
}
