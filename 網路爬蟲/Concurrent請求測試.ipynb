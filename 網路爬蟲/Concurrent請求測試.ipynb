{
 "cells": [
  {
   "cell_type": "code",
   "execution_count": null,
   "metadata": {},
   "outputs": [],
   "source": [
    "import requests\n",
    "from bs4 import BeautifulSoup as bs\n",
    "import concurrent.futures\n",
    "import pandas as pd\n",
    "import random\n",
    "import time"
   ]
  },
  {
   "cell_type": "code",
   "execution_count": null,
   "metadata": {},
   "outputs": [],
   "source": [
    "headers = {'upgrade-insecure-requests': '1', 'user-agent': 'Mozilla/5.0 (Macintosh; Intel Mac OS X 11_2_3) AppleWebKit/537.36 (KHTML, like Gecko) Chrome/89.0.4389.90 Safari/537.36',\n",
    "          'accept': 'text/html,application/xhtml+xml,application/xml;q=0.9,image/avif,image/webp,image/apng,*/*;q=0.8,application/signed-exchange;v=b3;q=0.9',\n",
    "            'accept-encoding': 'gzip, deflate, br',\n",
    "            'accept-language': 'zh-TW,zh;q=0.9,ru;q=0.8,en-US;q=0.7,en;q=0.6,ja;q=0.5',\n",
    "        'host': 'www.mouser.tw'}"
   ]
  },
  {
   "cell_type": "code",
   "execution_count": null,
   "metadata": {},
   "outputs": [],
   "source": [
    "url = 'https://www.mouser.tw/Passive-Components/Inductors-Chokes-Coils/_/N-5gb4'"
   ]
  },
  {
   "cell_type": "code",
   "execution_count": null,
   "metadata": {
    "scrolled": true
   },
   "outputs": [],
   "source": [
    "response = requests.get(url, headers=headers)"
   ]
  },
  {
   "cell_type": "code",
   "execution_count": null,
   "metadata": {},
   "outputs": [],
   "source": [
    "soup = bs(response.content, 'html.parser')"
   ]
  },
  {
   "cell_type": "code",
   "execution_count": null,
   "metadata": {},
   "outputs": [],
   "source": [
    "table = soup.find(\"table\", id=\"SearchResultsGrid_grid\").find(\"tbody\")"
   ]
  },
  {
   "cell_type": "code",
   "execution_count": null,
   "metadata": {},
   "outputs": [],
   "source": [
    "tds = table.find_all(\"td\", class_=\"column part-column hide-xsmall\")"
   ]
  },
  {
   "cell_type": "code",
   "execution_count": null,
   "metadata": {},
   "outputs": [],
   "source": [
    "pro_urls = []\n",
    "url_body = 'https://www.mouser.tw'\n",
    "for td in tds:\n",
    "    body = td.find(\"a\").get('href')\n",
    "    pro_url = url_body + body\n",
    "    pro_urls.append(pro_url)\n",
    "    "
   ]
  },
  {
   "cell_type": "code",
   "execution_count": null,
   "metadata": {},
   "outputs": [],
   "source": [
    "pro_urls"
   ]
  },
  {
   "cell_type": "code",
   "execution_count": null,
   "metadata": {},
   "outputs": [],
   "source": [
    "pro_list = ['185.156.172.36:3128',\n",
    " '91.149.203.9:3128',\n",
    " '151.235.164.211:8080',\n",
    " '173.249.5.7:8080',\n",
    " '103.240.77.98:30093',\n",
    " '78.46.113.151:3128',\n",
    " '175.100.72.95:57938',\n",
    " '47.225.156.67:8080',\n",
    " '60.234.24.162:3128',\n",
    " '157.25.84.210:8080',\n",
    " '161.202.226.194:80',\n",
    " '121.122.107.85:8080',\n",
    " '80.249.176.214:3128',\n",
    " '103.115.255.201:80',\n",
    " '51.75.187.147:80',\n",
    " '208.80.28.208:8080',\n",
    " '207.157.220.8:8080',\n",
    " '139.59.168.30:8080',\n",
    " '77.68.125.33:80',\n",
    " '80.248.15.86:8080',\n",
    " '103.90.229.165:3128',\n",
    " '69.167.174.17:80',\n",
    " '144.217.101.245:3129',\n",
    " '169.57.1.84:80',\n",
    " '169.57.1.85:8123',\n",
    " '185.128.136.252:3128',\n",
    " '217.91.183.231:8080',\n",
    " '173.251.68.57:4444',\n",
    " '161.97.128.47:4444',\n",
    " '161.97.86.13:4444',\n",
    " '198.24.169.226:8080',\n",
    " '37.111.42.210:8080',\n",
    " '159.65.171.69:80',\n",
    " '195.46.165.5:8080',\n",
    " '157.230.103.189:36366',\n",
    " '23.235.231.106:8080',\n",
    " '5.189.133.231:80',\n",
    " '167.172.180.46:35301',\n",
    " '198.24.170.58:8080',\n",
    " '103.115.255.158:80',\n",
    " '150.129.148.99:35101',\n",
    " '124.244.186.246:8080',\n",
    " '185.131.62.250:53281',\n",
    " '185.202.165.1:53281',\n",
    " '94.205.254.82:3128',\n",
    " '202.61.51.204:3128',\n",
    " '188.166.125.206:36956',\n",
    " '202.90.133.254:8080',\n",
    " '198.50.163.192:3129',\n",
    " '94.130.179.24:8009',\n",
    " '163.182.137.83:8080',\n",
    " '200.160.119.73:8080',\n",
    " '23.92.27.50:80',\n",
    " '188.163.170.130:41209',\n",
    " '95.47.255.181:3128',\n",
    " '198.24.170.122:8080',\n",
    " '99.192.170.250:80',\n",
    " '167.172.191.249:34327',\n",
    " '197.243.20.186:80',\n",
    " '210.113.204.108:8080',\n",
    " '18.222.178.66:4444',\n",
    " '125.99.191.107:80',\n",
    " '3.17.188.25:80',\n",
    " '178.124.208.8:3128',\n",
    " '150.129.148.88:35101',\n",
    " '3.84.211.3:80',\n",
    " '185.18.214.13:1080',\n",
    " '213.203.177.219:3128',\n",
    " '75.82.152.178:8080',\n",
    " '164.68.106.173:8866',\n",
    " '139.180.194.41:80',\n",
    " '45.33.104.134:80',\n",
    " '161.97.158.76:4444',\n",
    " '43.245.218.217:25',\n",
    " '196.19.14.107:3128',\n",
    " '186.159.3.193:56861',\n",
    " '117.6.161.118:53281',\n",
    " '119.82.252.29:46872',\n",
    " '187.243.250.10:8080',\n",
    " '62.205.169.74:53281',\n",
    " '118.27.27.165:3128',\n",
    " '165.227.173.87:44641',\n",
    " '198.24.170.146:8080',\n",
    " '173.212.202.65:80',\n",
    " '198.24.170.162:30740',\n",
    " '178.62.224.151:8080',\n",
    " '167.172.109.12:36457',\n",
    " '208.167.253.68:8080',\n",
    " '167.172.184.166:38318',\n",
    " '80.246.241.43:3128',\n",
    " '161.35.4.201:80',\n",
    " '202.69.59.187:3128',\n",
    " '95.52.0.211:8080',\n",
    " '51.77.150.43:80',\n",
    " '123.231.244.237:8080',\n",
    " '3.142.114.86:8080',\n",
    " '93.63.209.19:3128',\n",
    " '3.14.129.244:8080',\n",
    " '165.22.243.240:4033',\n",
    " '165.22.81.30:42040',\n",
    " '159.65.69.186:9300',\n",
    " '118.99.100.14:8080',\n",
    " '198.24.170.250:30740',\n",
    " '218.147.194.12:80',\n",
    " '161.82.175.172:8080',\n",
    " '223.255.133.34:8080',\n",
    " '198.24.169.234:8080',\n",
    " '119.81.189.194:80',\n",
    " '149.125.150.250:8080',\n",
    " '20.52.158.161:8080',\n",
    " '3.15.220.224:80',\n",
    " '18.139.83.232:3129',\n",
    " '129.146.112.125:80',\n",
    " '113.11.20.215:8080',\n",
    " '195.230.102.62:80',\n",
    " '180.179.98.22:3128',\n",
    " '218.147.194.20:80',\n",
    " '152.67.24.187:80',\n",
    " '125.141.117.9:80',\n",
    " '89.47.120.66:8080',\n",
    " '167.172.180.40:43112',\n",
    " '81.95.230.211:3128',\n",
    " '122.58.118.224:8080',\n",
    " '178.236.33.253:8080',\n",
    " '175.209.219.214:8080',\n",
    " '125.164.158.211:8080',\n",
    " '103.216.82.20:6666',\n",
    " '125.141.117.42:80',\n",
    " '161.35.22.17:80',\n",
    " '103.90.228.25:3128',\n",
    " '133.167.122.147:3128',\n",
    " '3.138.157.89:3128',\n",
    " '125.141.117.6:80',\n",
    " '104.254.238.122:8080',\n",
    " '125.25.80.39:42790',\n",
    " '54.165.67.102:8080',\n",
    " '14.207.124.119:8080',\n",
    " '95.216.78.164:8123',\n",
    " '115.124.115.26:80',\n",
    " '191.100.20.14:8080',\n",
    " '85.175.216.32:53281',\n",
    " '150.136.37.217:80',\n",
    " '103.209.64.19:6666',\n",
    " '188.72.6.98:37083']"
   ]
  },
  {
   "cell_type": "code",
   "execution_count": null,
   "metadata": {},
   "outputs": [],
   "source": [
    "df = pd.DataFrame()"
   ]
  },
  {
   "cell_type": "code",
   "execution_count": null,
   "metadata": {},
   "outputs": [],
   "source": [
    "def concurrent_crawl(url):\n",
    "    res = requests.get(url, headers=headers)\n",
    "#     print(res.json(), res.status_code)       \n",
    "    soup = bs(res.content, 'html.parser')\n",
    "    table = soup.find('table', class_='specs-table')\n",
    "    keys = table.find_all('td', class_='attr-col')\n",
    "    values = table.find_all('td', class_='attr-value-col')\n",
    "    k = []\n",
    "    for key in keys:\n",
    "        k.append(key.text.strip())\n",
    "    v = []\n",
    "    for value in values:\n",
    "        v.append(value.text.strip())\n",
    "    data = dict(zip(k, v))\n",
    "    df = df.append([data], ignore_index=True)\n",
    "    print(data)\n",
    "    return data\n",
    "    time.sleep(3,30)\n",
    "    \n",
    "    "
   ]
  },
  {
   "cell_type": "code",
   "execution_count": null,
   "metadata": {
    "scrolled": false
   },
   "outputs": [],
   "source": [
    "with concurrent.futures.ThreadPoolExecutor() as executor:\n",
    "    executor.map(concurrent_crawl, pro_urls)"
   ]
  }
 ],
 "metadata": {
  "kernelspec": {
   "display_name": "Python 3",
   "language": "python",
   "name": "python3"
  },
  "language_info": {
   "codemirror_mode": {
    "name": "ipython",
    "version": 3
   },
   "file_extension": ".py",
   "mimetype": "text/x-python",
   "name": "python",
   "nbconvert_exporter": "python",
   "pygments_lexer": "ipython3",
   "version": "3.8.5"
  }
 },
 "nbformat": 4,
 "nbformat_minor": 4
}
