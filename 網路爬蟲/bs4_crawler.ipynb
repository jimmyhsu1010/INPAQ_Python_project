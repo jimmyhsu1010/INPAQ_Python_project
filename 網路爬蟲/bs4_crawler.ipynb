{
 "cells": [
  {
   "cell_type": "code",
   "execution_count": null,
   "metadata": {},
   "outputs": [],
   "source": [
    "import requests\n",
    "\n",
    "from bs4 import BeautifulSoup as bs\n"
   ]
  },
  {
   "cell_type": "code",
   "execution_count": null,
   "metadata": {},
   "outputs": [],
   "source": [
    "from lxml import etree"
   ]
  },
  {
   "cell_type": "code",
   "execution_count": null,
   "metadata": {},
   "outputs": [],
   "source": [
    "import json"
   ]
  },
  {
   "cell_type": "code",
   "execution_count": null,
   "metadata": {},
   "outputs": [],
   "source": [
    "columns = [\"品名\", \"製造商\", \"描述\", \"感應係數\", \"耐受性\", \"最大直流電流\", \"終端類型\", \"最高工作溫度\"]"
   ]
  },
  {
   "cell_type": "code",
   "execution_count": null,
   "metadata": {},
   "outputs": [],
   "source": [
    "headers = {\"user-agent\": \"Mozilla/5.0 (Windows NT 10.0; Win64; x64) AppleWebKit/537.36 (KHTML, like Gecko) Chrome/89.0.4389.90 Safari/537.36\", \"upgrade-insecure-requests\": \"1\"}\n",
    "url = \"https://www.mouser.tw/Passive-Components/Inductors-Chokes-Coils/_/N-5gb4\""
   ]
  },
  {
   "cell_type": "code",
   "execution_count": null,
   "metadata": {},
   "outputs": [],
   "source": [
    "next_page = \"//a[@id='lnkPager_lnkNext']/@href\""
   ]
  },
  {
   "cell_type": "code",
   "execution_count": null,
   "metadata": {},
   "outputs": [],
   "source": [
    "selector.xpath(\"//a[@id='lnkPager_lnkNext']/@href\")[0]"
   ]
  },
  {
   "cell_type": "code",
   "execution_count": null,
   "metadata": {},
   "outputs": [],
   "source": [
    "headers = {\"user-agent\": \"Mozilla/5.0 (Windows NT 10.0; Win64; x64) AppleWebKit/537.36 (KHTML, like Gecko) Chrome/89.0.4389.90 Safari/537.36\", \"upgrade-insecure-requests\": \"1\"}\n",
    "url = \"https://www.mouser.tw/Passive-Components/Inductors-Chokes-Coils/_/N-5gb4\"\n",
    "suffix = \"\"\n",
    "while True:\n",
    "    url = \"https://www.mouser.tw/Passive-Components/Inductors-Chokes-Coils/_/N-5gb4\" + suffix\n",
    "    print(url)\n",
    "    response = requests.get(url, headers=headers).content\n",
    "    selector = etree.HTML(response)\n",
    "    datas = selector.xpath(\"//div/div[1]/div[6]/div/form/div[2]/div[2]/table/tbody/tr\")\n",
    "    for data in datas:\n",
    "        pn = data.xpath(\"td[3]/div[1]/a\")[0].text\n",
    "        manufacturer = data.xpath(\"td[4]/a\")[0].text\n",
    "        description = data.xpath(\"td[5]/span\")[0].text\n",
    "        ganyingxishu = data.xpath(\"td[11]/span\")[0].text\n",
    "        naishouxing = data.xpath(\"td[12]/span\")[0].text\n",
    "        zuidazhiliudian = data.xpath(\"td[13]/span\")[0].text\n",
    "        zhongduanleixing = data.xpath(\"td[14]/span\")[0].text\n",
    "        zuigaogongzuowendu = data.xpath(\"td[15]/span\")[0].text\n",
    "        print(pn, manufacturer, description, ganyingxishu, naishouxing, zuidazhiliudian, zhongduanleixing, zuigaogongzuowendu)\n",
    "    \n",
    "    if selector.xpath(\"//a[@id='lnkPager_lnkNext']/@href\"):\n",
    "        suffix = selector.xpath(\"//a[@id='lnkPager_lnkNext']/@href\")[0]\n",
    "    \n",
    "    "
   ]
  },
  {
   "cell_type": "code",
   "execution_count": null,
   "metadata": {},
   "outputs": [],
   "source": [
    "response = requests.get(url, headers=headers).content"
   ]
  },
  {
   "cell_type": "code",
   "execution_count": null,
   "metadata": {},
   "outputs": [],
   "source": [
    "selector = etree.HTML(response)"
   ]
  },
  {
   "cell_type": "code",
   "execution_count": null,
   "metadata": {
    "scrolled": true
   },
   "outputs": [],
   "source": [
    "datas = selector.xpath(\"//div/div[1]/div[6]/div/form/div[2]/div[2]/table/tbody/tr\")"
   ]
  },
  {
   "cell_type": "code",
   "execution_count": null,
   "metadata": {},
   "outputs": [],
   "source": [
    "for data in datas:\n",
    "    pn = data.xpath(\"td[3]/div[1]/a\")[0].text\n",
    "    manufacturer = data.xpath(\"td[4]/a\")[0].text\n",
    "    description = data.xpath(\"td[5]/span\")[0].text\n",
    "    ganyingxishu = data.xpath(\"td[11]/span\")[0].text\n",
    "    naishouxing = data.xpath(\"td[12]/span\")[0].text\n",
    "    zuidazhiliudian = data.xpath(\"td[13]/span\")[0].text\n",
    "    zhongduanleixing = data.xpath(\"td[14]/span\")[0].text\n",
    "    zuigaogongzuowendu = data.xpath(\"td[15]/span\")[0].text\n",
    "    print(pn, manufacturer, description, ganyingxishu, naishouxing, zuidazhiliudian, zhongduanleixing, zuigaogongzuowendu)"
   ]
  },
  {
   "cell_type": "code",
   "execution_count": null,
   "metadata": {},
   "outputs": [],
   "source": [
    "import pandas as pd"
   ]
  },
  {
   "cell_type": "code",
   "execution_count": null,
   "metadata": {},
   "outputs": [],
   "source": [
    "df = pd.DataFrame(columns=columns)"
   ]
  },
  {
   "cell_type": "code",
   "execution_count": null,
   "metadata": {},
   "outputs": [],
   "source": [
    "df.append([\"pn\", \"manufacturer\", \"description\", \"ganyingxishu\", \"naishouxing\", \"zuidazhiliudian\", \"zhongduanleixing\",\n",
    "              \"zuigaogongzuowendu\"], ignore_index=True)"
   ]
  }
 ],
 "metadata": {
  "kernelspec": {
   "display_name": "Python 3",
   "language": "python",
   "name": "python3"
  },
  "language_info": {
   "codemirror_mode": {
    "name": "ipython",
    "version": 3
   },
   "file_extension": ".py",
   "mimetype": "text/x-python",
   "name": "python",
   "nbconvert_exporter": "python",
   "pygments_lexer": "ipython3",
   "version": "3.8.5"
  }
 },
 "nbformat": 4,
 "nbformat_minor": 4
}
