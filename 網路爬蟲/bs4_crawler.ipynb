{
 "cells": [
  {
   "cell_type": "code",
   "execution_count": 1,
   "metadata": {},
   "outputs": [],
   "source": [
    "from lxml import etree\n",
    "import requests\n"
   ]
  },
  {
   "cell_type": "code",
   "execution_count": 2,
   "metadata": {},
   "outputs": [],
   "source": [
    "headers = {\n",
    "    \"user-agent\": \"Mozilla/5.0 (Windows NT 10.0; Win64; x64) AppleWebKit/537.36 (KHTML, like Gecko) Chrome/89.0.4389.90 Safari/537.36\",\n",
    "    \"upgrade-insecure-requests\": \"1\"}"
   ]
  },
  {
   "cell_type": "code",
   "execution_count": 3,
   "metadata": {},
   "outputs": [],
   "source": [
    "url = \"https://www.mouser.tw/ProductDetail/TDK/TCM0403S-350-2P-T210?qs=sGAEpiMZZMv126LJFLh8y%2Ffsm5hBFUvHtDSn4lyPHpE=\""
   ]
  },
  {
   "cell_type": "code",
   "execution_count": 4,
   "metadata": {},
   "outputs": [],
   "source": [
    "response = requests.get(url, headers=headers)"
   ]
  },
  {
   "cell_type": "code",
   "execution_count": 9,
   "metadata": {},
   "outputs": [],
   "source": [
    "s = etree.HTML(response.content)\n"
   ]
  },
  {
   "cell_type": "code",
   "execution_count": 66,
   "metadata": {},
   "outputs": [],
   "source": [
    "y = s.xpath(\"//td[@class='attr-col']//text()\")   # key"
   ]
  },
  {
   "cell_type": "code",
   "execution_count": 91,
   "metadata": {},
   "outputs": [
    {
     "data": {
      "text/plain": [
       "['製造商:',\n",
       " '產品類型:',\n",
       " 'RoHS:',\n",
       " '系列:',\n",
       " '感應係數:',\n",
       " '阻抗:',\n",
       " '最大直流電流:',\n",
       " '最大直流電阻:',\n",
       " '最低工作溫度:',\n",
       " '最高工作溫度:',\n",
       " '長度:',\n",
       " '寬度:',\n",
       " '高度:',\n",
       " '封裝:',\n",
       " '封裝:',\n",
       " '品牌:',\n",
       " '安裝風格:',\n",
       " '通道數:',\n",
       " '產品類型:',\n",
       " '原廠包裝數量:',\n",
       " '子類別:']"
      ]
     },
     "execution_count": 91,
     "metadata": {},
     "output_type": "execute_result"
    }
   ],
   "source": [
    "j = []\n",
    "for i in y:\n",
    "    i = i.replace(\"\\r\\n\", \"\")\n",
    "    i = i.strip()\n",
    "    if i == '':\n",
    "        pass\n",
    "    else:\n",
    "        j.append(i)\n",
    "j"
   ]
  },
  {
   "cell_type": "code",
   "execution_count": 92,
   "metadata": {},
   "outputs": [
    {
     "data": {
      "text/plain": [
       "['\\r\\nTDK            ',\n",
       " '                                ',\n",
       " '\\r\\n共模扼流圈/過濾器            ',\n",
       " '                                ',\n",
       " '\\r\\n',\n",
       " '\\xa0',\n",
       " '詳細資料',\n",
       " '            ',\n",
       " '                                ',\n",
       " '\\r\\n',\n",
       " 'TCM-S',\n",
       " '            ',\n",
       " '                                ',\n",
       " '\\r\\n49 nH            ',\n",
       " '                                ',\n",
       " '\\r\\n35 Ohms            ',\n",
       " '                                ',\n",
       " '\\r\\n0.05 A            ',\n",
       " '                                ',\n",
       " '\\r\\n3.9 Ohms            ',\n",
       " '                                ',\n",
       " '\\r\\n- 25 C            ',\n",
       " '                                ',\n",
       " '\\r\\n+ 85 C            ',\n",
       " '                                ',\n",
       " '\\r\\n0.45 mm            ',\n",
       " '                                ',\n",
       " '\\r\\n0.3 mm            ',\n",
       " '                                ',\n",
       " '\\r\\n0.25 mm            ',\n",
       " '                                ',\n",
       " '\\r\\nCut Tape            ',\n",
       " '                                ',\n",
       " '\\r\\nReel            ',\n",
       " '                                ',\n",
       " '\\r\\nTDK            ',\n",
       " '                                ',\n",
       " '\\r\\nSMD/SMT            ',\n",
       " '                                ',\n",
       " '\\r\\n2 Channel            ',\n",
       " '                                ',\n",
       " '\\r\\nCommon Mode Chokes            ',\n",
       " '                                ',\n",
       " '\\r\\n10000            ',\n",
       " '                                ',\n",
       " '\\r\\nInductors, Chokes & Coils            ',\n",
       " '                                ']"
      ]
     },
     "execution_count": 92,
     "metadata": {},
     "output_type": "execute_result"
    }
   ],
   "source": [
    "s.xpath(\"//td[@class='attr-value-col']//text()\")"
   ]
  },
  {
   "cell_type": "code",
   "execution_count": 79,
   "metadata": {},
   "outputs": [],
   "source": [
    "z = s.xpath(\"//td[@class='attr-value-col']//text()\") # value"
   ]
  },
  {
   "cell_type": "code",
   "execution_count": 89,
   "metadata": {},
   "outputs": [
    {
     "data": {
      "text/plain": [
       "['TDK',\n",
       " '共模扼流圈/過濾器',\n",
       " '詳細資料',\n",
       " 'TCM-S',\n",
       " '49 nH',\n",
       " '35 Ohms',\n",
       " '0.05 A',\n",
       " '3.9 Ohms',\n",
       " '- 25 C',\n",
       " '+ 85 C',\n",
       " '0.45 mm',\n",
       " '0.3 mm',\n",
       " '0.25 mm',\n",
       " 'Cut Tape',\n",
       " 'Reel',\n",
       " 'TDK',\n",
       " 'SMD/SMT',\n",
       " '2 Channel',\n",
       " 'Common Mode Chokes',\n",
       " '10000',\n",
       " 'Inductors, Chokes & Coils']"
      ]
     },
     "execution_count": 89,
     "metadata": {},
     "output_type": "execute_result"
    }
   ],
   "source": [
    "v = []\n",
    "for i in z:\n",
    "    i = i.replace(\"\\r\\n\", \"\")\n",
    "    i = i.strip()\n",
    "    if i == \"\":\n",
    "        pass\n",
    "    else:\n",
    "        v.append(i)\n",
    "v"
   ]
  },
  {
   "cell_type": "code",
   "execution_count": 87,
   "metadata": {},
   "outputs": [
    {
     "data": {
      "text/plain": [
       "{'製造商:': 'TDK',\n",
       " '產品類型:': 'Common Mode Chokes',\n",
       " 'RoHS:': '詳細資料',\n",
       " '系列:': 'TCM-S',\n",
       " '感應係數:': '49 nH',\n",
       " '阻抗:': '35 Ohms',\n",
       " '最大直流電流:': '0.05 A',\n",
       " '最大直流電阻:': '3.9 Ohms',\n",
       " '最低工作溫度:': '- 25 C',\n",
       " '最高工作溫度:': '+ 85 C',\n",
       " '長度:': '0.45 mm',\n",
       " '寬度:': '0.3 mm',\n",
       " '高度:': '0.25 mm',\n",
       " '封裝:': 'Reel',\n",
       " '品牌:': 'TDK',\n",
       " '安裝風格:': 'SMD/SMT',\n",
       " '通道數:': '2 Channel',\n",
       " '原廠包裝數量:': '10000',\n",
       " '子類別:': 'Inductors, Chokes & Coils'}"
      ]
     },
     "execution_count": 87,
     "metadata": {},
     "output_type": "execute_result"
    }
   ],
   "source": [
    "dict(zip(j, v))"
   ]
  }
 ],
 "metadata": {
  "kernelspec": {
   "display_name": "Python 3",
   "language": "python",
   "name": "python3"
  },
  "language_info": {
   "codemirror_mode": {
    "name": "ipython",
    "version": 3
   },
   "file_extension": ".py",
   "mimetype": "text/x-python",
   "name": "python",
   "nbconvert_exporter": "python",
   "pygments_lexer": "ipython3",
   "version": "3.8.5"
  }
 },
 "nbformat": 4,
 "nbformat_minor": 4
}
