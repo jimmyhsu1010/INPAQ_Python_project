{
 "cells": [
  {
   "cell_type": "code",
   "execution_count": null,
   "metadata": {},
   "outputs": [],
   "source": [
    "import pandas as pd\n",
    "import tkinter as tk\n",
    "from tkinter import filedialog"
   ]
  },
  {
   "cell_type": "code",
   "execution_count": null,
   "metadata": {},
   "outputs": [],
   "source": [
    "def open_file():\n",
    "    root = tk.Tk()\n",
    "    root.withdraw()\n",
    "    file_path = filedialog.askopenfilename()\n",
    "    file_name = file_path.split('/')[-1]\n",
    "    df = pd.read_excel(file_path, None)\n",
    "    key_dict = {}\n",
    "    for i, j in enumerate(df.keys()):\n",
    "        print(i+1, j)\n",
    "        key_dict.setdefault(i+1, j)\n",
    "    ans = eval(input('選擇sheet：'))\n",
    "    df = df[key_dict[ans]]\n",
    "    return df, file_name\n",
    "    \n",
    "        "
   ]
  },
  {
   "cell_type": "code",
   "execution_count": null,
   "metadata": {},
   "outputs": [],
   "source": [
    "def parse_export(df, file_name):\n",
    "    df = df.drop('單價', axis=1)\n",
    "    df = df.drop_duplicates()\n",
    "    manu_series = df[['製造商', '系列']].drop_duplicates()\n",
    "    manu_series.dropna(inplace=True)\n",
    "    manu_series = manu_series[~manu_series['系列'].isin(['-', '*'])]\n",
    "    writer = pd.ExcelWriter(file_name, engine='xlsxwriter')\n",
    "    df.to_excel(writer, sheet_name='Digikey元件列表', index=False)\n",
    "    manu_series.to_excel(writer, sheet_name='製造商系列', index=False)\n",
    "    writer.save()\n",
    "    writer.close()"
   ]
  },
  {
   "cell_type": "code",
   "execution_count": null,
   "metadata": {
    "scrolled": false
   },
   "outputs": [],
   "source": [
    "df, file_name = open_file()\n",
    "parse_export(df, file_name)"
   ]
  },
  {
   "cell_type": "code",
   "execution_count": null,
   "metadata": {},
   "outputs": [],
   "source": []
  }
 ],
 "metadata": {
  "kernelspec": {
   "display_name": "Python 3",
   "language": "python",
   "name": "python3"
  },
  "language_info": {
   "codemirror_mode": {
    "name": "ipython",
    "version": 3
   },
   "file_extension": ".py",
   "mimetype": "text/x-python",
   "name": "python",
   "nbconvert_exporter": "python",
   "pygments_lexer": "ipython3",
   "version": "3.8.5"
  }
 },
 "nbformat": 4,
 "nbformat_minor": 4
}
