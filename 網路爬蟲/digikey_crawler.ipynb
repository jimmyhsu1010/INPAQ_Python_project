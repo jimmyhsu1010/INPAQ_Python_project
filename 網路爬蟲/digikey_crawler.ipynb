{
 "cells": [
  {
   "cell_type": "code",
   "execution_count": null,
   "metadata": {},
   "outputs": [],
   "source": [
    "import requests\n",
    "from bs4 import BeautifulSoup as bs\n",
    "import pandas as pd\n",
    "import concurrent.futures\n",
    "import time"
   ]
  },
  {
   "cell_type": "code",
   "execution_count": null,
   "metadata": {},
   "outputs": [],
   "source": [
    "url = 'https://www.digikey.tw/products/zh/inductors-coils-chokes/fixed-inductors/71?k=&pkeyword=&sv=0&sf=0&FV=-8%7C71&quantity=&ColumnSort=0&page=1&pageSize=500'"
   ]
  },
  {
   "cell_type": "code",
   "execution_count": null,
   "metadata": {},
   "outputs": [],
   "source": [
    "headers = {'user-agent': 'Mozilla/5.0 (Windows NT 10.0; Win64; x64) AppleWebKit/537.36 (KHTML, like Gecko) Chrome/89.0.4389.114 Safari/537.36', \n",
    "          'accept': 'text/html,application/xhtml+xml,application/xml;q=0.9,image/avif,image/webp,image/apng,*/*;q=0.8,application/signed-exchange;v=b3;q=0.9', \n",
    "          'accept-language': 'zh-TW,zh;q=0.9,ru;q=0.8,en-US;q=0.7,en;q=0.6,ja;q=0.5', 'upgrade-insecure-requests': '1', \n",
    "          'referer': 'referer: https://www.google.com/'}"
   ]
  },
  {
   "cell_type": "markdown",
   "metadata": {},
   "source": [
    "## 天線爬取"
   ]
  },
  {
   "cell_type": "code",
   "execution_count": null,
   "metadata": {},
   "outputs": [],
   "source": [
    "x = []"
   ]
  },
  {
   "cell_type": "code",
   "execution_count": null,
   "metadata": {},
   "outputs": [],
   "source": [
    "for i in range(1, 16):\n",
    "    url = 'https://www.digikey.tw/products/zh/rf-if-and-rfid/rf-antennas/875?FV=-8%7C875%2C1989%7C0&quantity=0&ColumnSort=0&page=' +str(i) + '&pageSize=500'\n",
    "    res = requests.get(url, headers=headers)\n",
    "    soup = bs(res.content, 'html.parser')\n",
    "    table = soup.find('tbody', id='lnkPart').find_all('tr')\n",
    "    for t in table:\n",
    "        rows = t.find_all('td')\n",
    "        manuf_pn = rows[4].text.strip()\n",
    "        manufacturer = rows[5].text.strip()\n",
    "        description = rows[6].text.strip()\n",
    "        price = rows[8].text.strip()\n",
    "        freq_type = rows[14].text.strip()\n",
    "        c_band = rows[15].text.strip()\n",
    "        band = rows[16].text.strip()\n",
    "        ant_type = rows[17].text.strip()\n",
    "        band_n = rows[18].text.strip()\n",
    "        vswr = rows[19].text.strip()\n",
    "        gain = rows[21].text.strip()\n",
    "        charact = rows[23].text.strip()\n",
    "        install_type = rows[24].text.strip()\n",
    "        height = rows[27].text.strip()\n",
    "        application = rows[28].text.strip()\n",
    "        data = {'製造商PN': manuf_pn, '製造商': manufacturer, '說明': description, '價格': price,\n",
    "                '頻率分組':freq_type, '頻率 (中心／頻帶)': c_band, '頻率範圍': band, \n",
    "                '天線類型': ant_type, '頻帶數': band_n, 'VSWR': vswr, \n",
    "                '增益': gain, '特點': charact, '安裝類型': install_type, '高度': height, \n",
    "                '應用': application}\n",
    "        x.append(data)"
   ]
  },
  {
   "cell_type": "code",
   "execution_count": null,
   "metadata": {},
   "outputs": [],
   "source": [
    "antenna = pd.DataFrame()\n",
    "for data in x:\n",
    "    antenna = antenna.append(data, ignore_index=True)"
   ]
  },
  {
   "cell_type": "code",
   "execution_count": null,
   "metadata": {},
   "outputs": [],
   "source": [
    "antenna = antenna.drop_duplicates()\n",
    "antenna.columns"
   ]
  },
  {
   "cell_type": "code",
   "execution_count": null,
   "metadata": {},
   "outputs": [],
   "source": [
    "antenna = antenna.reindex(columns=['製造商PN', '製造商', '說明', '頻率分組', '頻率 (中心／頻帶)',\n",
    "                         '頻率範圍', '天線類型', '頻帶數', 'VSWR', '增益', '特點', '安裝類型', '高度', '應用', '價格'])"
   ]
  },
  {
   "cell_type": "code",
   "execution_count": null,
   "metadata": {},
   "outputs": [],
   "source": [
    "antenna.to_excel('digikey_antenna.xlsx', index=False)"
   ]
  },
  {
   "cell_type": "markdown",
   "metadata": {},
   "source": [
    "## 測試區塊"
   ]
  },
  {
   "cell_type": "code",
   "execution_count": null,
   "metadata": {},
   "outputs": [],
   "source": [
    "url = 'https://www.digikey.tw/products/zh/filters/emi-rfi-filters-lc-rc-networks/835?k=&pkeyword=&sv=0&sf=0&FV=-8%7C835&quantity=&ColumnSort=0&page=1&pageSize=500'\n",
    "res = requests.get(url, headers=headers)\n",
    "soup = bs(res.content, 'html.parser')\n",
    "table = soup.find('tbody', id='lnkPart').find_all('tr')\n",
    "for t in table:\n",
    "    rows = t.find_all('td')\n",
    "    manuf_pn = rows[4].text.strip()\n",
    "    manufacturer = rows[5].text.strip()\n",
    "    description = rows[6].text.strip()\n",
    "    price = rows[8].text.strip()\n",
    "#         moq = rows[9].text.strip()\n",
    "    series = rows[11].text.strip()\n",
    "    status = rows[12].text.strip()\n",
    "    category = rows[13].text.strip()\n",
    "    filter_n = rows[14].text.strip()\n",
    "    tech = rows[15].text.strip()\n",
    "    channel = rows[16].text.strip()\n",
    "    c_freq = rows[17].text.strip()\n",
    "    attenuation = rows[18].text.strip()\n",
    "    impedence = rows[19].text.strip()\n",
    "    current = rows[20].text.strip()\n",
    "    value = rows[21].text.strip()\n",
    "    esd_protect = rows[22].text.strip()\n",
    "    working_temp = rows[23].text.strip()\n",
    "    application = rows[24].text.strip()\n",
    "    voltage = rows[25].text.strip()\n",
    "    install_type = rows[26].text.strip()\n",
    "    case = rows[27].text.strip()\n",
    "    dimension = rows[28].text.strip()\n",
    "    height = rows[27].text.strip()\n",
    "    data = {'製造商PN': manuf_pn, '製造商': manufacturer, '說明': description,\n",
    "                        '單價':price, '系列': series, '零件狀態': status, '類型': category, \n",
    "            '濾波器階數': filter_n, '技術': tech, '通道數': channel, '中心／截止頻率': c_freq, \n",
    "            '衰減值': attenuation, '電阻值 - 通道 (Ohm)': impedence, '電流': current, '值': value, \n",
    "            'ESD防護': esd_protect, '工作溫度': working_temp, '應用': application, '電壓 - 額定': voltage, \n",
    "            '安裝類型': install_type, '封裝／外殼': case, '尺寸': dimension, '高度': height}\n",
    "    print(data)\n",
    "    "
   ]
  },
  {
   "cell_type": "markdown",
   "metadata": {},
   "source": [
    "## EMI爬取"
   ]
  },
  {
   "cell_type": "code",
   "execution_count": null,
   "metadata": {
    "scrolled": true
   },
   "outputs": [],
   "source": [
    "url = 'https://www.digikey.tw/products/zh/filters/emi-rfi-filters-lc-rc-networks/835?k=&pkeyword=&sv=0&sf=0&FV=-8%7C835&quantity=&ColumnSort=0&page=1&pageSize=500'\n",
    "res = requests.get(url, headers=headers)\n",
    "soup = bs(res.content, 'html.parser')\n",
    "total_page = soup.find('div', class_='paging').find('span', class_='current-page').text\n",
    "pages = int(total_page.split('/')[1])\n",
    "pages"
   ]
  },
  {
   "cell_type": "code",
   "execution_count": null,
   "metadata": {},
   "outputs": [],
   "source": [
    "y = []\n",
    "for i in range(1, pages+1):\n",
    "    url = 'https://www.digikey.tw/products/zh/filters/emi-rfi-filters-lc-rc-networks/835?k=&pkeyword=&sv=0&sf=0&FV=-8%7C835&quantity=&ColumnSort=0&page=' + str(i) + '&pageSize=500'\n",
    "    res = requests.get(url, headers=headers)\n",
    "    soup = bs(res.content, 'html.parser')\n",
    "    table = soup.find('tbody', id='lnkPart').find_all('tr')\n",
    "    for t in table:\n",
    "        rows = t.find_all('td')\n",
    "        manuf_pn = rows[4].text.strip()\n",
    "        manufacturer = rows[5].text.strip()\n",
    "        description = rows[6].text.strip()\n",
    "        price = rows[8].text.strip()\n",
    "    #         moq = rows[9].text.strip()\n",
    "        series = rows[11].text.strip()\n",
    "        status = rows[12].text.strip()\n",
    "        category = rows[13].text.strip()\n",
    "        filter_n = rows[14].text.strip()\n",
    "        tech = rows[15].text.strip()\n",
    "        channel = rows[16].text.strip()\n",
    "        c_freq = rows[17].text.strip()\n",
    "        attenuation = rows[18].text.strip()\n",
    "        impedence = rows[19].text.strip()\n",
    "        current = rows[20].text.strip()\n",
    "        value = rows[21].text.strip()\n",
    "        esd_protect = rows[22].text.strip()\n",
    "        working_temp = rows[23].text.strip()\n",
    "        application = rows[24].text.strip()\n",
    "        voltage = rows[25].text.strip()\n",
    "        install_type = rows[26].text.strip()\n",
    "        case = rows[27].text.strip()\n",
    "        dimension = rows[28].text.strip()\n",
    "        height = rows[27].text.strip()\n",
    "        data = {'製造商PN': manuf_pn, '製造商': manufacturer, '說明': description,\n",
    "                '單價':price, '系列': series, '零件狀態': status, '類型': category, \n",
    "                '濾波器階數': filter_n, '技術': tech, '通道數': channel, '中心／截止頻率': c_freq, \n",
    "                '衰減值': attenuation, '電阻值 - 通道 (Ohm)': impedence, '電流': current, '值': value, \n",
    "                'ESD防護': esd_protect, '工作溫度': working_temp, '應用': application, '電壓 - 額定': voltage, \n",
    "                '安裝類型': install_type, '封裝／外殼': case, '尺寸': dimension, '高度': height}\n",
    "        y.append(data)\n",
    "    "
   ]
  },
  {
   "cell_type": "code",
   "execution_count": null,
   "metadata": {
    "scrolled": true
   },
   "outputs": [],
   "source": [
    "emi = pd.DataFrame()\n",
    "for data in y:\n",
    "    emi = emi.append(data, ignore_index=True)\n",
    "emi = emi.drop_duplicates()\n",
    "emi.shape\n",
    "data = {'製造商PN': manuf_pn, '製造商': manufacturer, '說明': description,\n",
    "                '單價':price, '系列': series, '零件狀態': status, '類型': category, \n",
    "                '濾波器階數': filter_n, '技術': tech, '通道數': channel, '中心／截止頻率': c_freq, \n",
    "                '衰減值': attenuation, '電阻值 - 通道 (Ohm)': impedence, '電流': current, '值': value, \n",
    "                'ESD防護': esd_protect, '工作溫度': working_temp, '應用': application, '電壓 - 額定': voltage, \n",
    "                '安裝類型': install_type, '封裝／外殼': case, '尺寸': dimension, '高度': height}\n",
    "columns = list(data.keys())\n",
    "emi = emi.reindex(columns=columns)"
   ]
  },
  {
   "cell_type": "markdown",
   "metadata": {},
   "source": [
    "## 電感爬取"
   ]
  },
  {
   "cell_type": "markdown",
   "metadata": {},
   "source": [
    "## 方法一：使用一般For loop"
   ]
  },
  {
   "cell_type": "code",
   "execution_count": null,
   "metadata": {},
   "outputs": [],
   "source": [
    "url = 'https://www.digikey.tw/products/zh/inductors-coils-chokes/fixed-inductors/71?k=&pkeyword=&sv=0&umin2087=&umax2087=&rfu2087=nH&umin2088=&umax2088=&rfu2088=mA&umin1222=&umax1222=&rfu1222=Hz&sf=0&FV=-8%7C71&quantity=&ColumnSort=0&page=1&pageSize=500'\n",
    "res = requests.get(url, headers=headers)\n",
    "soup = bs(res.content, 'html.parser')\n",
    "total_page = soup.find('div', class_='paging').find('span', class_='current-page').text\n",
    "pages = int(total_page.split('/')[1])"
   ]
  },
  {
   "cell_type": "code",
   "execution_count": null,
   "metadata": {},
   "outputs": [],
   "source": [
    "columns = ['製造商PN', '製造商', '說明', '單價', '系列', '零件狀態', '類型', '材料-核心', \n",
    "           '電感值', '容差', '額定電流(A)', '飽和電流(Isat)', 'DCR', '封裝/外殼', \n",
    "           '供應商元件封裝', '尺寸', '高度']\n",
    "inductor = pd.DataFrame(columns=columns)\n",
    "for i in range(1, pages+1):\n",
    "    url = 'https://www.digikey.tw/products/zh/inductors-coils-chokes/fixed-inductors/71?k=&pkeyword=&sv=0&umin2087=&umax2087=&rfu2087=nH&umin2088=&umax2088=&rfu2088=mA&umin1222=&umax1222=&rfu1222=Hz&sf=0&FV=-8%7C71&quantity=&ColumnSort=0&page=' + str(i) + '&pageSize=500'\n",
    "    res = requests.get(url, headers=headers)\n",
    "    soup = bs(res.content, 'html.parser')\n",
    "    table = soup.find('tbody', id='lnkPart').find_all('tr')\n",
    "    for t in table:\n",
    "        rows = t.find_all('td')\n",
    "        manuf_pn = rows[4].text.strip()\n",
    "        manufacturer = rows[5].text.strip()\n",
    "        description = rows[6].text.strip()\n",
    "        price = rows[8].text.strip()\n",
    "#         moq = rows[9].text.strip()\n",
    "        series = rows[11].text.strip()\n",
    "        status = rows[12].text.strip()\n",
    "        category = rows[13].text.strip()\n",
    "        material = rows[14].text.strip()\n",
    "        induc = rows[15].text.strip()\n",
    "        tolerance = rows[16].text.strip()\n",
    "        ia = rows[17].text.strip()\n",
    "        isat = rows[18].text.strip()\n",
    "        dcr = rows[20].text.strip()\n",
    "        case = rows[28].text.strip()\n",
    "        packing_size = rows[29].text.strip()\n",
    "        dimension = rows[30].text.strip()\n",
    "        height = rows[31].text.strip()\n",
    "        data = [manuf_pn, manufacturer, description, price, series, status, \n",
    "                category, material, induc, tolerance, ia, isat, dcr, case, packing_size, dimension, height]\n",
    "        s = pd.Series(data, index=columns)\n",
    "        inductor = inductor.append(s, ignore_index=True)\n",
    "    "
   ]
  },
  {
   "cell_type": "code",
   "execution_count": null,
   "metadata": {},
   "outputs": [],
   "source": [
    "inductor = pd.DataFrame()\n",
    "for data in y:\n",
    "    inductor = inductor.append(data, ignore_index=True)\n",
    "inductor = inductor.drop_duplicates()\n",
    "inductor.shape\n",
    "inductor = inductor.reindex(columns=['製造商PN', '製造商', '說明', '單價', '系列', '零件狀態', '類型', '材料-核心', \n",
    "                          '電感值', '容差', '額定電流(A)', '飽和電流(Isat)', 'DCR', '封裝/外殼', \n",
    "                          '供應商元件封裝', '尺寸', '高度'])"
   ]
  },
  {
   "cell_type": "code",
   "execution_count": null,
   "metadata": {},
   "outputs": [],
   "source": [
    "inductor.to_excel('digikeys_inductors.xlsx', index=False)"
   ]
  },
  {
   "cell_type": "code",
   "execution_count": null,
   "metadata": {
    "scrolled": true
   },
   "outputs": [],
   "source": [
    "manu_series = inductor[['製造商', '系列']].drop_duplicates().reset_index()"
   ]
  },
  {
   "cell_type": "code",
   "execution_count": null,
   "metadata": {
    "scrolled": true
   },
   "outputs": [],
   "source": [
    "writer = pd.ExcelWriter(r\"D:\\pythonp_programming\\INPAQ_Python_project\\網路爬蟲\\digikeys_inductors.xlsx\", engine='xlsxwriter')\n",
    "manu_series.to_excel(writer, sheet_name='製造商系列', index=False)\n",
    "inductor.to_excel(writer, sheet_name='Digikey元件列表', index=False)\n",
    "writer.save()\n",
    "writer.close()"
   ]
  },
  {
   "cell_type": "markdown",
   "metadata": {},
   "source": [
    "## 方法二：使用concurrent"
   ]
  },
  {
   "cell_type": "code",
   "execution_count": null,
   "metadata": {},
   "outputs": [],
   "source": [
    "urls = []\n",
    "for i in range(1, 2318):\n",
    "    url = 'https://www.digikey.tw/products/zh/inductors-coils-chokes/fixed-inductors/71/page/' + str(i) + '?stock=1'\n",
    "    urls.append(url)"
   ]
  },
  {
   "cell_type": "code",
   "execution_count": null,
   "metadata": {},
   "outputs": [],
   "source": [
    "df = pd.DataFrame()"
   ]
  },
  {
   "cell_type": "code",
   "execution_count": null,
   "metadata": {},
   "outputs": [],
   "source": [
    "n = 0"
   ]
  },
  {
   "cell_type": "code",
   "execution_count": null,
   "metadata": {},
   "outputs": [],
   "source": [
    "def parse(url):\n",
    "    global df\n",
    "    global n\n",
    "#     print(url)\n",
    "    res = requests.get(url, headers=headers)\n",
    "    if res.status_code == 200:\n",
    "        print('連線成功{}次'.format(n))\n",
    "        n += 1\n",
    "    soup = bs(res.content, 'html.parser')\n",
    "    table = soup.find('tbody', id='lnkPart').find_all('tr')\n",
    "    for t in table:\n",
    "        rows = t.find_all('td')\n",
    "        manuf_pn = rows[4].text.strip()\n",
    "        manufacturer = rows[5].text.strip()\n",
    "        description = rows[6].text.strip()\n",
    "        price = rows[8].text.strip()\n",
    "#         moq = rows[9].text.strip()\n",
    "        series = rows[11].text.strip()\n",
    "        category = rows[13].text.strip()\n",
    "        material = rows[14].text.strip()\n",
    "        induc = rows[15].text.strip()\n",
    "        tolerance = rows[16].text.strip()\n",
    "        ia = rows[17].text.strip()\n",
    "        isat = rows[18].text.strip()\n",
    "        dcr = rows[20].text.strip()\n",
    "        case = rows[28].text.strip()\n",
    "        packing_size = rows[29].text.strip()\n",
    "        dimension = rows[30].text.strip()\n",
    "        height = rows[31].text.strip()\n",
    "        data = {'製造商PN': manuf_pn, '製造商': manufacturer, '說明': description,\n",
    "                        '單價':price, '系列': series, '類型': category,\n",
    "                        '材料-核心': material, '電感值': induc, '容差': tolerance,\n",
    "                        '額定電流(A)': ia, '飽和電流(Isat)': isat, 'DCR': dcr, '封裝/外殼': case,\n",
    "                        '供應商元件封裝': packing_size, '尺寸': dimension, '高度': height}\n",
    "#         print(data)\n",
    "        df = df.append(data, ignore_index=True)\n",
    "#     print(df.shape[0])"
   ]
  },
  {
   "cell_type": "markdown",
   "metadata": {},
   "source": [
    "## 回來的數據沒有全部，問題是什麼？來不及寫入df？還是先把數據collect起來，之後再處理數據"
   ]
  },
  {
   "cell_type": "code",
   "execution_count": null,
   "metadata": {
    "scrolled": true
   },
   "outputs": [],
   "source": [
    "start = time.time()\n",
    "with concurrent.futures.ThreadPoolExecutor(max_workers=30) as executor:\n",
    "    executor.map(parse, urls)\n",
    "end = time.time()\n",
    "total = end - start\n",
    "items = df.shape[0]\n",
    "print('總共花了{}秒爬取全部{}筆數據'.format(total, items))"
   ]
  },
  {
   "cell_type": "code",
   "execution_count": null,
   "metadata": {},
   "outputs": [],
   "source": [
    "df = df.drop_duplicates()"
   ]
  },
  {
   "cell_type": "code",
   "execution_count": null,
   "metadata": {
    "scrolled": true
   },
   "outputs": [],
   "source": [
    "df.to_excel(r\"digikeys_inductors.xlsx\", index=False)"
   ]
  },
  {
   "cell_type": "markdown",
   "metadata": {},
   "source": [
    "## 下面為測試區"
   ]
  },
  {
   "cell_type": "code",
   "execution_count": null,
   "metadata": {},
   "outputs": [],
   "source": [
    "res = requests.get(url, headers=headers)"
   ]
  },
  {
   "cell_type": "code",
   "execution_count": null,
   "metadata": {},
   "outputs": [],
   "source": [
    "soup = bs(res.content, 'html.parser')"
   ]
  },
  {
   "cell_type": "code",
   "execution_count": null,
   "metadata": {},
   "outputs": [],
   "source": [
    "table = soup.find('tbody', id='lnkPart').find_all('tr')"
   ]
  },
  {
   "cell_type": "code",
   "execution_count": null,
   "metadata": {},
   "outputs": [],
   "source": [
    "for t in table:\n",
    "    rows = t.find_all('td')\n",
    "    manuf_pn = rows[4].text.strip()\n",
    "    manufacturer = rows[5].text.strip()\n",
    "    description = rows[6].text.strip()\n",
    "    price = rows[8].text.strip()\n",
    "    moq = rows[9].text.strip()\n",
    "    series = rows[11].text.strip()\n",
    "    category = rows[13].text.strip()\n",
    "    material = rows[14].text.strip()\n",
    "    induc = rows[15].text.strip()\n",
    "    tolerance = rows[16].text.strip()\n",
    "    ia = rows[17].text.strip()\n",
    "    isat = rows[18].text.strip()\n",
    "    dcr = rows[20].text.strip()\n",
    "    case = rows[28].text.strip()\n",
    "    packing_size = rows[29].text.strip()\n",
    "    dimension = rows[30].text.strip()\n",
    "    height = rows[31].text.strip()\n",
    "    print(manuf_pn, manufacturer, description, price, moq, series, category, material, induc, tolerance, ia, isat, dcr,\n",
    "          case, packing_size, dimension, height)"
   ]
  },
  {
   "cell_type": "code",
   "execution_count": null,
   "metadata": {},
   "outputs": [],
   "source": []
  }
 ],
 "metadata": {
  "kernelspec": {
   "display_name": "Python 3",
   "language": "python",
   "name": "python3"
  },
  "language_info": {
   "codemirror_mode": {
    "name": "ipython",
    "version": 3
   },
   "file_extension": ".py",
   "mimetype": "text/x-python",
   "name": "python",
   "nbconvert_exporter": "python",
   "pygments_lexer": "ipython3",
   "version": "3.8.5"
  }
 },
 "nbformat": 4,
 "nbformat_minor": 4
}
