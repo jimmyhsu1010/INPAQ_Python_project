{
 "cells": [
  {
   "cell_type": "code",
   "execution_count": null,
   "metadata": {},
   "outputs": [],
   "source": [
    "import requests\n",
    "from bs4 import BeautifulSoup as bs\n",
    "import concurrent.futures\n",
    "import pandas as pd\n",
    "import random\n",
    "import time"
   ]
  },
  {
   "cell_type": "code",
   "execution_count": null,
   "metadata": {},
   "outputs": [],
   "source": [
    "headers = {'upgrade-insecure-requests': '1', 'user-agent': 'Mozilla/5.0 (Macintosh; Intel Mac OS X 11_2_3) AppleWebKit/537.36 (KHTML, like Gecko) Chrome/89.0.4389.90 Safari/537.36',\n",
    "          'accept': 'text/html,application/xhtml+xml,application/xml;q=0.9,image/avif,image/webp,image/apng,*/*;q=0.8,application/signed-exchange;v=b3;q=0.9',\n",
    "            'accept-encoding': 'gzip, deflate, br',\n",
    "            'accept-language': 'zh-TW,zh;q=0.9,ru;q=0.8,en-US;q=0.7,en;q=0.6,ja;q=0.5',\n",
    "        'host': 'www.mouser.tw',\n",
    "          'cookie': 'ASP.NET_SessionId=1dcxuqtxypmnlpfabvqzkmnf; CARTCOOKIEUUID=e49dbae4-a487-4e2f-bff3-ea3cc7421718; __neoui=49d56446-2a3f-4d54-a1b0-ec62d7579ab9; akacd_Default_PR=3793360754~rv=43~id=9ccbce3e163b3f7923449a02d92eee96; _gcl_au=1.1.427459853.1615907958; _pxvid=f9c52e55-866a-11eb-8c57-0242ac120010; _hjTLDTest=1; _hjid=346190cd-c5c2-4d77-a2e7-0ac7eed931fb; LPVID=M3NzQyZTBjMGUyM2IxMWJk; __RequestVerificationToken=t5C4XzHnD7omQkcXOAJc_5Ks0jUqai_PZTSGEh6J3VMIZgSxQpiYe2kKOWl0pXys8o1u0dOA2V7NdAKx6d_OdUahOAU1; _fbp=fb.1.1615907996714.1895477609; __atuvc=3%7C11%2C7%7C12; enableFBPixel=false; bm_sz=4E136ED39FC688BACE82409F2321923A~YAAQHvk90svaaHN4AQAA+biZmwtK93jCvdeEuhnPt91Z8uRm6olwY7uGZyUGSDCjZRryZYvyzFufdI+3r1WRdc1RoVuQziT1iKGFNLzN0eO45ZLzv3nvGwd69nIzqUqveA0RmlTR8mF2LmZyglZE5kXZu84Xbm43POGQhDBlToEOYXk+tbYgSXFy2NTwMXg6X0hLlPZ4r/nMAxa9CykgDH9kjHOOyAkmRv7YPcd3oYWs1y7glkSdtq5rFRBqhg==; preferences=pl=zh-CHT&pc_tw=TWD; bm_mi=AE08DC561EC5364F1AE1F25C8708D0CC~0M9QrtJR1J1yIobfoP+qjw9F3W1XLuCjRO61W+dL7az8c5VwUSZYzjbLJ49kRvfDPvaeNr2SNolN7HeOma1TWqNBOMOreyzJ02qOGvFM2B5KWOwP0sae1AtkHDBZYGvacZ+tw0w/e0CiZTrNjRhS13qOr6eNDCpfB/K1NaorCM4LyUNSmvLt40inXDL/sEKZjhEmJTRGUy2mBx01wUn/I9YW2j43im85t5qMTsD6f9vW5hKTZLq+oJklAqFWZOV9KvU33OjR6RU8D7rfgxAbrw==; _gid=GA1.2.1795163363.1617518248; _gat=1; TLS_SUPPORTED=1.2; ak_bmsc=2C6BEA029638931EE8C4B62F91198BF1~000000000000000000000000000000~YAAQHvk90tvaaHN4AQAAS8eZmwsr9nBnao6MrN56Yy2kF1ts1lBXAkIurXgPc6fDppgIxJmRly0rKh6J2E9gcl/JRe6tUgirikom5GBfydHFAnofgRSigR6kt2pTYBr40bBHj/qoK6PK7T4mUkarJUQ02YUc/3Nwn6JYwwa68I/cEhJ2dRqahtR10cwSTX3YoQXvzLaq3urqnNoecTeNROqFrMGssf/JUs/OtdOL8SL5wVxBgzTeV5lBxaYVOZHpXmp5yp81KeT2uCO4F4RQ0WbQIuF5V2psh2zD8AgBotuZmBiQykFnEcsLDqo28eq6OBAOSMmlz3M28YCC6zJsVl1lF+9Sj2kZEOMBYjlpFFueT680Cy/sgTmGq9mJJo4TftxbDI9AgvvWBhenjooR4Y9Z/m2nbA2R2BEbdQ==; _hjIncludedInSessionSample=0; _hjAbsoluteSessionInProgress=0; fs_uid=rs.fullstory.com#Z1BBJ#5255125162532864:6500769373364224/1647704443; LPSID-12757882=Cde_r3CMRnOeGBVwp3VrnA; _abck=BCFDDBE2BE4C272F7E3E335498580E2D~0~YAAQHvk90vHaaHN4AQAAaxyamwWUnvUCWLo77uITZean6LtD6z0URGcdKELMHWqHl231TVZWYUzvnzvBppwQb/3Tkc3HxqooUb7gikjHDqmAmjqkGqZ6Kh86bVB3O2zcksIBAf7CBpJt1EsxIqNsD4aqgZhBoryL5AbsTONilTDhPEvPIqCWo20qqmHNzY5qsCY8enw1AJdbT3EEzR0lxVjA41CXL4ksL0Q7dp1is1061zV3am9CuJUsEMAWXShqHKEcgzxhR9EEtyZ4CjsaaJh7OkXnxAYeLTJMf53rzexiLJdbnZ0TdDaRUeIMl6jx8xVX/xZja+/eEx+OcnB22JpzzfqBZHd96XuSGeDMc5voyD9vuIM8TqQP5nFzzjvfQu7+9I10heTF9DGYhK+GJ3fVZ38cFN4=~-1~-1~-1; _ga=GA1.1.1563358207.1615907958; _px3=000b81adc82e417333cc414df4d3a9b0f6cdb613099c6e2a14fef687e6825002:mu+qfwMyTJd8tG2wZyJA6dRgTbQpudvl7QvyBQxD1GAPa55hXTVfNGSUiTUlBXCt5vGjftJkQzr0Rp2BKAzcTQ==:1000:bx64uR4JhB6nNYty+MXiAV8/sotz6to0u9ZXA/LBSY2lX+GDFSsaGno6dHGO09riorZpYCag0qVqAZv1BpNOrwOEipwUpeJ2a/W9tHGMi0Uad4a9e8W8qvMlE8qowM2iPtKqCaULSojd9DoSOyXbiwGYDxLlks2VkGS+BeTWHsc=; QSI_HistorySession=https%3A%2F%2Fwww.mouser.tw%2FPassive-Components%2FInductors-Chokes-Coils%2F_%2FN-5gb4%3FNo%3D25~1616420120149%7Chttps%3A%2F%2Fwww.mouser.tw%2Fmanufacturer%2Flaird-performance-materials%2F~1616420147530%7Chttps%3A%2F%2Fwww.mouser.tw%2FProductDetail%2FLaird-Performance-Materials%2FTYA40126R8M-10%3Fqs%3DsGAEpiMZZMv126LJFLh8yyOx6Bzv8uleSIgL6Z0kwMw%253D~1616420161262%7Chttps%3A%2F%2Fwww.mouser.tw%2FProductDetail%2FTDK%2FSPM12565VT-3R3M-D%3Fqs%3DsGAEpiMZZMv126LJFLh8y2BOiR32Vxc9cFfCiEMzuo0%253D~1616420355462%7Chttps%3A%2F%2Fwww.mouser.tw%2FPassive-Components%2FInductors-Chokes-Coils%2F_%2FN-5gb4~1616420716821%7Chttps%3A%2F%2Fwww.mouser.tw%2FPassive-Components%2FInductors-Chokes-Coils%2F_%2FN-5gb4%3FNo%3D25~1616420723623%7Chttps%3A%2F%2Fwww.mouser.tw%2FProductDetail%2FTDK%2FSPM12565VT-3R3M-D%3Fqs%3DsGAEpiMZZMv126LJFLh8y2BOiR32Vxc9cFfCiEMzuo0%253D~1616420734797%7Chttps%3A%2F%2Fwww.mouser.tw%2FPassive-Components%2FInductors-Chokes-Coils%2F_%2FN-5gb4%3FNo%3D25~1616420961647%7Chttps%3A%2F%2Fwww.mouser.tw%2FProductDetail%2FTDK%2FSPM5030VT-R15M-D%3Fqs%3DsGAEpiMZZMv126LJFLh8yxCtzOKMcI0QbwEgzoqVrg8%253D~1616420972094%7Chttps%3A%2F%2Fwww.mouser.tw%2F~1616429200713%7Chttps%3A%2F%2Fwww.mouser.tw%2FPassive-Components%2FInductors-Chokes-Coils%2F_%2FN-5gb4~1616429206819%7Chttps%3A%2F%2Fwww.mouser.tw%2FProductDetail%2FTDK%2FTCM0403S-350-2P-T210%3Fqs%3DsGAEpiMZZMv126LJFLh8y%252Ffsm5hBFUvHtDSn4lyPHpE%253D~1616676065644%7Chttps%3A%2F%2Fwww.mouser.tw%2F~1617294843648%7Chttps%3A%2F%2Fwww.mouser.tw%2FPassive-Components%2FResistors%2F_%2FN-5g9n~1617294852041%7Chttps%3A%2F%2Fwww.mouser.tw%2FPassive-Components%2FResistors%2FHigh-Frequency-RF-Resistors%2F_%2FN-7jdaj~1617294886746%7Chttps%3A%2F%2Fwww.mouser.tw%2FPassive-Components%2FInductors-Chokes-Coils%2F_%2FN-5gb4~1617295781680%7Chttps%3A%2F%2Fwww.mouser.tw%2F~1617518250866%7Chttps%3A%2F%2Fwww.mouser.tw%2FPassive-Components%2FInductors-Chokes-Coils%2F_%2FN-5gb4~1617518276073; _ga_15W4STQT4T=GS1.1.1617518249.20.1.1617518277.0; RT=\"z=1&dm=mouser.tw&si=f48e427c-87cf-40f8-b109-fc92a2284e27&ss=kn2sll3j&sl=3&tt=d5d&bcn=%2F%2F684fc53b.akstat.io%2F&ld=o9n&ul=ye8\"'}"
   ]
  },
  {
   "cell_type": "code",
   "execution_count": null,
   "metadata": {},
   "outputs": [],
   "source": [
    "def get_pages():\n",
    "    ind_pages = []\n",
    "    n = 0\n",
    "    for i in range(1, 4489):\n",
    "        url = 'https://www.mouser.tw/Passive-Components/Inductors-Chokes-Coils/_/N-5gb4?No=' + str(n)\n",
    "        n += 25\n",
    "        ind_pages.append(url)\n",
    "    return ind_pages"
   ]
  },
  {
   "cell_type": "code",
   "execution_count": null,
   "metadata": {},
   "outputs": [],
   "source": [
    "ind_pages = get_pages()"
   ]
  },
  {
   "cell_type": "code",
   "execution_count": null,
   "metadata": {},
   "outputs": [],
   "source": [
    "def get_pages(url):\n",
    "    pro_lists = []\n",
    "    response = requests.get(url, headers=headers)\n",
    "    print(response.status_code)\n",
    "    soup = bs(response.content, 'html.parser')\n",
    "    table = soup.find(\"table\", id=\"SearchResultsGrid_grid\").find(\"tbody\")\n",
    "    tds = table.find_all(\"td\", class_=\"column part-column hide-xsmall\")\n",
    "    url_body = 'https://www.mouser.tw'\n",
    "    for td in tds:\n",
    "        body = td.find(\"a\").get('href')\n",
    "        pro_url = url_body + body\n",
    "        pro_lists.append(pro_url)\n",
    "    return pro_lists\n",
    "    "
   ]
  },
  {
   "cell_type": "code",
   "execution_count": null,
   "metadata": {
    "scrolled": true
   },
   "outputs": [],
   "source": [
    "with concurrent.futures.ThreadPoolExecutor(max_workers=20) as executor:\n",
    "    detail = list(executor.map(get_pages, ind_pages))"
   ]
  },
  {
   "cell_type": "code",
   "execution_count": null,
   "metadata": {},
   "outputs": [],
   "source": [
    "ind_pages = []\n",
    "pro_urls = []\n",
    "n = 0\n",
    "for i in range(1, 4487):\n",
    "    url = 'https://www.mouser.tw/Passive-Components/Inductors-Chokes-Coils/_/N-5gb4?No=' + str(n)\n",
    "    n += 25\n",
    "    ind_pages.append(url)\n",
    "\n",
    "for url in ind_pages:\n",
    "    response = requests.get(url, headers=headers)\n",
    "    soup = bs(response.content, 'html.parser')\n",
    "    table = soup.find(\"table\", id=\"SearchResultsGrid_grid\").find(\"tbody\")\n",
    "    tds = table.find_all(\"td\", class_=\"column part-column hide-xsmall\")\n",
    "    url_body = 'https://www.mouser.tw'\n",
    "    for td in tds:\n",
    "        body = td.find(\"a\").get('href')\n",
    "        pro_url = url_body + body\n",
    "        pro_urls.append(pro_url)\n",
    "    \n"
   ]
  },
  {
   "cell_type": "code",
   "execution_count": null,
   "metadata": {},
   "outputs": [],
   "source": [
    "url = 'https://www.mouser.tw/Passive-Components/Inductors-Chokes-Coils/_/N-5gb4'"
   ]
  },
  {
   "cell_type": "code",
   "execution_count": null,
   "metadata": {
    "scrolled": true
   },
   "outputs": [],
   "source": [
    "response = requests.get(url, headers=headers)"
   ]
  },
  {
   "cell_type": "code",
   "execution_count": null,
   "metadata": {},
   "outputs": [],
   "source": [
    "soup = bs(response.content, 'html.parser')"
   ]
  },
  {
   "cell_type": "code",
   "execution_count": null,
   "metadata": {},
   "outputs": [],
   "source": [
    "table = soup.find(\"table\", id=\"SearchResultsGrid_grid\").find(\"tbody\")"
   ]
  },
  {
   "cell_type": "code",
   "execution_count": null,
   "metadata": {},
   "outputs": [],
   "source": [
    "tds = table.find_all(\"td\", class_=\"column part-column hide-xsmall\")"
   ]
  },
  {
   "cell_type": "code",
   "execution_count": null,
   "metadata": {},
   "outputs": [],
   "source": [
    "pro_urls = []\n",
    "url_body = 'https://www.mouser.tw'\n",
    "for td in tds:\n",
    "    body = td.find(\"a\").get('href')\n",
    "    pro_url = url_body + body\n",
    "    pro_urls.append(pro_url)\n",
    "    "
   ]
  },
  {
   "cell_type": "code",
   "execution_count": null,
   "metadata": {},
   "outputs": [],
   "source": [
    "def concurrent_crawl(url):\n",
    "    res = requests.get(url, headers=headers)\n",
    "#     print(res.json(), res.status_code)       \n",
    "    soup = bs(res.content, 'html.parser')\n",
    "    table = soup.find('table', class_='specs-table')\n",
    "    keys = table.find_all('td', class_='attr-col')\n",
    "    values = table.find_all('td', class_='attr-value-col')\n",
    "    k = []\n",
    "    for key in keys:\n",
    "        k.append(key.text.strip())\n",
    "    v = []\n",
    "    for value in values:\n",
    "        v.append(value.text.strip())\n",
    "    data = dict(zip(k, v))\n",
    "#     df = df.append([data], ignore_index=True)\n",
    "    print(data)\n",
    "    return data\n",
    "    time.sleep(3)\n",
    "    \n",
    "    "
   ]
  },
  {
   "cell_type": "code",
   "execution_count": null,
   "metadata": {
    "scrolled": true
   },
   "outputs": [],
   "source": [
    "with concurrent.futures.ThreadPoolExecutor() as executor:\n",
    "    detail = list(executor.map(concurrent_crawl, pro_urls))"
   ]
  },
  {
   "cell_type": "code",
   "execution_count": null,
   "metadata": {},
   "outputs": [],
   "source": [
    "df = pd.DataFrame()"
   ]
  },
  {
   "cell_type": "code",
   "execution_count": null,
   "metadata": {},
   "outputs": [],
   "source": [
    "for d in detail:\n",
    "    df = df.append(d, ignore_index=True)"
   ]
  },
  {
   "cell_type": "code",
   "execution_count": null,
   "metadata": {},
   "outputs": [],
   "source": [
    "df"
   ]
  }
 ],
 "metadata": {
  "kernelspec": {
   "display_name": "Python 3",
   "language": "python",
   "name": "python3"
  },
  "language_info": {
   "codemirror_mode": {
    "name": "ipython",
    "version": 3
   },
   "file_extension": ".py",
   "mimetype": "text/x-python",
   "name": "python",
   "nbconvert_exporter": "python",
   "pygments_lexer": "ipython3",
   "version": "3.8.5"
  }
 },
 "nbformat": 4,
 "nbformat_minor": 4
}
