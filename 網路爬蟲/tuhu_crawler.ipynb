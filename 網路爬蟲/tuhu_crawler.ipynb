{
 "cells": [
  {
   "cell_type": "code",
   "execution_count": null,
   "metadata": {},
   "outputs": [],
   "source": [
    "import requests\n",
    "from bs4 import BeautifulSoup as bs\n",
    "import pandas as pd\n",
    "import time"
   ]
  },
  {
   "cell_type": "code",
   "execution_count": null,
   "metadata": {},
   "outputs": [],
   "source": [
    "# url = 'https://item.tuhu.cn/Products/TR-JJ-HT5/1.html'\n",
    "headers = {'user-agent': 'Mozilla/5.0 (Macintosh; Intel Mac OS X 11_2_3) AppleWebKit/537.36 (KHTML, like Gecko) Chrome/89.0.4389.114 Safari/537.36', \n",
    "          'accept': 'text/html,application/xhtml+xml,application/xml;q=0.9,image/avif,image/webp,image/apng,*/*;q=0.8,application/signed-exchange;v=b3;q=0.9', \n",
    "          'accept-encoding': 'gzip, deflate, br', 'accept-language': 'zh-TW,zh;q=0.9,ru;q=0.8,en-US;q=0.7,en;q=0.6,ja;q=0.5', \n",
    "          'upgrade-insecure-requests': '1'}\n"
   ]
  },
  {
   "cell_type": "code",
   "execution_count": null,
   "metadata": {},
   "outputs": [],
   "source": [
    "def get_products():\n",
    "    links = []\n",
    "    for i in range(1, 268):\n",
    "        url = 'https://item.tuhu.cn/Tires/' + str(i) + '/f0.html?ws=home&ln=paneltire&na=alltire'\n",
    "        res = requests.get(url, headers=headers)\n",
    "        soup = bs(res.content, 'html.parser')\n",
    "        table = soup.find('table', class_='List')\n",
    "        tds = table.find_all('td', class_='td1')\n",
    "        for t in tds:\n",
    "            link = t.find('a')['href']\n",
    "            links.append(link)\n",
    "        time.sleep(1)\n",
    "    return links"
   ]
  },
  {
   "cell_type": "code",
   "execution_count": null,
   "metadata": {},
   "outputs": [],
   "source": [
    "links = get_products()"
   ]
  },
  {
   "cell_type": "code",
   "execution_count": null,
   "metadata": {},
   "outputs": [],
   "source": [
    "def parse(links):\n",
    "    contents = []\n",
    "    for link in links:\n",
    "        res = requests.get(url=link, headers=headers)\n",
    "        soup = bs(res.content, 'html.parser')\n",
    "        properties = soup.find('div', class_='properties').find_all('li')\n",
    "        keys = []\n",
    "        values = []\n",
    "        for p in properties:\n",
    "            text = p.text.split('：')\n",
    "            keys.append(text[0])\n",
    "            values.append(text[1])\n",
    "        data = dict(zip(keys, values))\n",
    "\n",
    "        price_tag = soup.find('div', class_='price')\n",
    "        price = price_tag.text.strip()\n",
    "        data.setdefault('Price', price)\n",
    "        contents.append(data)\n",
    "    return contents"
   ]
  },
  {
   "cell_type": "code",
   "execution_count": null,
   "metadata": {
    "scrolled": true
   },
   "outputs": [],
   "source": [
    "contents = parse(links)"
   ]
  },
  {
   "cell_type": "code",
   "execution_count": null,
   "metadata": {},
   "outputs": [],
   "source": [
    "contents"
   ]
  },
  {
   "cell_type": "code",
   "execution_count": null,
   "metadata": {},
   "outputs": [],
   "source": [
    "import concurrent.futures"
   ]
  },
  {
   "cell_type": "code",
   "execution_count": null,
   "metadata": {},
   "outputs": [],
   "source": [
    "def parse_item(link):\n",
    "    res = requests.get(url=link, headers=headers)\n",
    "    soup = bs(res.content, 'html.parser')\n",
    "    properties = soup.find('div', class_='properties').find_all('li')\n",
    "    keys = []\n",
    "    values = []\n",
    "    for p in properties:\n",
    "        text = p.text.split('：')\n",
    "        keys.append(text[0])\n",
    "        values.append(text[1])\n",
    "    data = dict(zip(keys, values))\n",
    "\n",
    "    price_tag = soup.find('div', class_='price')\n",
    "    price = price_tag.text.strip()\n",
    "    data.setdefault('Price', price)\n",
    "    return data"
   ]
  },
  {
   "cell_type": "code",
   "execution_count": null,
   "metadata": {
    "scrolled": true
   },
   "outputs": [],
   "source": [
    "with concurrent.futures.ThreadPoolExecutor(max_workers=20) as executor:\n",
    "    results = list(executor.map(parse_item, links))\n",
    "    "
   ]
  },
  {
   "cell_type": "code",
   "execution_count": null,
   "metadata": {},
   "outputs": [],
   "source": [
    "df = pd.DataFrame()\n",
    "for result in results:\n",
    "    df = df.append(result, ignore_index=True)\n",
    "df"
   ]
  },
  {
   "cell_type": "code",
   "execution_count": null,
   "metadata": {},
   "outputs": [],
   "source": [
    "df.columns = df.columns.str.strip()"
   ]
  },
  {
   "cell_type": "code",
   "execution_count": null,
   "metadata": {},
   "outputs": [],
   "source": [
    "df.to_excel('tuhu_tires.xlsx', index=False)"
   ]
  }
 ],
 "metadata": {
  "kernelspec": {
   "display_name": "Python 3",
   "language": "python",
   "name": "python3"
  },
  "language_info": {
   "codemirror_mode": {
    "name": "ipython",
    "version": 3
   },
   "file_extension": ".py",
   "mimetype": "text/x-python",
   "name": "python",
   "nbconvert_exporter": "python",
   "pygments_lexer": "ipython3",
   "version": "3.8.5"
  }
 },
 "nbformat": 4,
 "nbformat_minor": 4
}
