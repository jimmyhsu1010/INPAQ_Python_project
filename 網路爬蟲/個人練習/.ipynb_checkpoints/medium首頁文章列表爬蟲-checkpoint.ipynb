{
 "cells": [
  {
   "cell_type": "code",
   "execution_count": null,
   "metadata": {},
   "outputs": [],
   "source": [
    "import requests\n",
    "import json\n",
    "from bs4 import BeautifulSoup as bs\n",
    "from lxml import etree\n",
    "import pandas as pd"
   ]
  },
  {
   "cell_type": "markdown",
   "metadata": {},
   "source": [
    "### 先把爬蟲前需要的資訊收集起來\n",
    "1. 目標網址（這次的是AJAX網站，所以網址列的網址不是真正的目標，要開開發人員工具來檢視XHR\n",
    "2. Payload訊息，需要點<font color=red>view source</font>來檢查原始的請求傳遞參數\n",
    "3. Request headers需要設定<font color=red>user agent</font>和<font color=red>content type</font>\n",
    "4. 注意請求方式，如果使用post，那就要用requests.post()\n",
    "\n",
    "## <font color=red>注意</font>\n",
    "payload要用json格式帶入，方法有兩種：\n",
    "1. import json，然後requests.post()裡面的`data=json.dumps(payload)`\n",
    "2. requests.post()裡面使用`json=payload'"
   ]
  },
  {
   "cell_type": "code",
   "execution_count": null,
   "metadata": {},
   "outputs": [],
   "source": [
    "url = 'https://medium.com/_/graphql'\n",
    "payload = {\"operationName\":\"ExtendedFeedQuery\",\"variables\":{\"items\":[{\"postId\":\"71ab2b25d663\",\"topicId\":\"\"},{\"postId\":\"e90431463924\",\"topicId\":\"\"},{\"postId\":\"3e07bdae552d\",\"topicId\":\"\"},{\"postId\":\"be0a205af03d\",\"topicId\":\"\"},{\"postId\":\"a993c9e3e02f\",\"topicId\":\"\"},{\"postId\":\"d9b536f91c2\",\"topicId\":\"\"},{\"postId\":\"a357562193a2\",\"topicId\":\"\"},{\"postId\":\"ab488fd553e2\",\"topicId\":\"\"},{\"postId\":\"5ad767af8564\",\"topicId\":\"\"},{\"postId\":\"ffd33fe37dec\",\"topicId\":\"\"},{\"postId\":\"6f746ea7d850\",\"topicId\":\"\"},{\"postId\":\"3cab1c76f1db\",\"topicId\":\"\"},{\"postId\":\"ac8e5bc9b455\",\"topicId\":\"\"},{\"postId\":\"2ac516e4d8ad\",\"topicId\":\"\"},{\"postId\":\"4848d8769eaa\",\"topicId\":\"\"},{\"postId\":\"8886a8b42715\",\"topicId\":\"\"},{\"postId\":\"2358f8451ef9\",\"topicId\":\"\"},{\"postId\":\"642172b959d2\",\"topicId\":\"\"},{\"postId\":\"98baed2b4b7a\",\"topicId\":\"\"},{\"postId\":\"8b592d50e530\",\"topicId\":\"\"}]},\"query\":\"query ExtendedFeedQuery($items: [ExtendedFeedItemOptions!]!) {\\n  extendedFeedItems(items: $items) {\\n    post {\\n      ...PostListModulePostPreviewData\\n      __typename\\n    }\\n    metadata {\\n      topic {\\n        id\\n        name\\n        __typename\\n      }\\n      __typename\\n    }\\n    __typename\\n  }\\n}\\n\\nfragment PostListModulePostPreviewData on Post {\\n  id\\n  firstPublishedAt\\n  readingTime\\n  createdAt\\n  mediumUrl\\n  previewImage {\\n    id\\n    __typename\\n  }\\n  title\\n  collection {\\n    id\\n    domain\\n    slug\\n    name\\n    navItems {\\n      url\\n      __typename\\n    }\\n    logo {\\n      id\\n      __typename\\n    }\\n    avatar {\\n      id\\n      __typename\\n    }\\n    __typename\\n  }\\n  creator {\\n    id\\n    name\\n    username\\n    imageId\\n    mediumMemberAt\\n    ...userUrl_user\\n    __typename\\n  }\\n  visibility\\n  isProxyPost\\n  isLocked\\n  ...HomeFeedItem_post\\n  ...HomeReadingListItem_post\\n  ...HomeTrendingModule_post\\n  __typename\\n}\\n\\nfragment HomeFeedItem_post on Post {\\n  __typename\\n  id\\n  title\\n  firstPublishedAt\\n  mediumUrl\\n  collection {\\n    id\\n    name\\n    domain\\n    logo {\\n      id\\n      __typename\\n    }\\n    __typename\\n  }\\n  creator {\\n    id\\n    name\\n    username\\n    imageId\\n    mediumMemberAt\\n    __typename\\n  }\\n  previewImage {\\n    id\\n    __typename\\n  }\\n  previewContent {\\n    subtitle\\n    __typename\\n  }\\n  readingTime\\n  ...BookmarkButton_post\\n  ...CreatorActionOverflowPopover_post\\n  ...PostPresentationTracker_post\\n  ...PostPreviewAvatar_post\\n}\\n\\nfragment BookmarkButton_post on Post {\\n  ...SusiClickable_post\\n  ...WithSetReadingList_post\\n  __typename\\n  id\\n}\\n\\nfragment SusiClickable_post on Post {\\n  id\\n  mediumUrl\\n  ...SusiContainer_post\\n  __typename\\n}\\n\\nfragment SusiContainer_post on Post {\\n  id\\n  __typename\\n}\\n\\nfragment WithSetReadingList_post on Post {\\n  ...ReadingList_post\\n  __typename\\n  id\\n}\\n\\nfragment ReadingList_post on Post {\\n  __typename\\n  id\\n  readingList\\n}\\n\\nfragment CreatorActionOverflowPopover_post on Post {\\n  allowResponses\\n  id\\n  statusForCollection\\n  isLocked\\n  isPublished\\n  clapCount\\n  viewerClapCount\\n  mediumUrl\\n  pinnedAt\\n  pinnedByCreatorAt\\n  curationEligibleAt\\n  mediumUrl\\n  responseDistribution\\n  shareKey\\n  visibility\\n  ...useIsPinnedInContext_post\\n  pendingCollection {\\n    id\\n    name\\n    viewerIsEditor\\n    creator {\\n      id\\n      __typename\\n    }\\n    avatar {\\n      id\\n      __typename\\n    }\\n    domain\\n    slug\\n    __typename\\n  }\\n  creator {\\n    id\\n    isBlocking\\n    ...MutePopoverOptions_creator\\n    ...auroraHooks_publisher\\n    __typename\\n  }\\n  collection {\\n    id\\n    viewerIsEditor\\n    name\\n    creator {\\n      id\\n      __typename\\n    }\\n    avatar {\\n      id\\n      __typename\\n    }\\n    domain\\n    slug\\n    ...MutePopoverOptions_collection\\n    ...auroraHooks_publisher\\n    __typename\\n  }\\n  ...ClapMutation_post\\n  __typename\\n}\\n\\nfragment MutePopoverOptions_creator on User {\\n  id\\n  isMuting\\n  __typename\\n}\\n\\nfragment MutePopoverOptions_collection on Collection {\\n  id\\n  viewerIsEditor\\n  viewerIsMuting\\n  __typename\\n}\\n\\nfragment ClapMutation_post on Post {\\n  __typename\\n  id\\n  clapCount\\n  viewerClapCount\\n  ...MultiVoteCount_post\\n}\\n\\nfragment MultiVoteCount_post on Post {\\n  id\\n  ...PostVotersNetwork_post\\n  __typename\\n}\\n\\nfragment PostVotersNetwork_post on Post {\\n  voterCount\\n  viewerClapCount\\n  recommenders {\\n    name\\n    __typename\\n  }\\n  __typename\\n  id\\n}\\n\\nfragment useIsPinnedInContext_post on Post {\\n  id\\n  collection {\\n    id\\n    __typename\\n  }\\n  pendingCollection {\\n    id\\n    __typename\\n  }\\n  pinnedAt\\n  pinnedByCreatorAt\\n  __typename\\n}\\n\\nfragment auroraHooks_publisher on Publisher {\\n  __typename\\n  ... on Collection {\\n    isAuroraEligible\\n    isAuroraVisible\\n    viewerIsEditor\\n    __typename\\n    id\\n  }\\n  ... on User {\\n    isAuroraVisible\\n    __typename\\n    id\\n  }\\n}\\n\\nfragment PostPresentationTracker_post on Post {\\n  id\\n  visibility\\n  previewContent {\\n    isFullContent\\n    __typename\\n  }\\n  collection {\\n    id\\n    slug\\n    __typename\\n  }\\n  __typename\\n}\\n\\nfragment PostPreviewAvatar_post on Post {\\n  __typename\\n  id\\n  collection {\\n    id\\n    name\\n    ...CollectionAvatar_collection\\n    ...collectionUrl_collection\\n    __typename\\n  }\\n  creator {\\n    id\\n    username\\n    name\\n    ...UserAvatar_user\\n    ...userUrl_user\\n    __typename\\n  }\\n}\\n\\nfragment CollectionAvatar_collection on Collection {\\n  name\\n  avatar {\\n    id\\n    __typename\\n  }\\n  ...collectionUrl_collection\\n  __typename\\n  id\\n}\\n\\nfragment collectionUrl_collection on Collection {\\n  id\\n  domain\\n  slug\\n  __typename\\n}\\n\\nfragment UserAvatar_user on User {\\n  __typename\\n  username\\n  id\\n  name\\n  imageId\\n  mediumMemberAt\\n  ...userUrl_user\\n}\\n\\nfragment userUrl_user on User {\\n  __typename\\n  id\\n  customDomainState {\\n    live {\\n      domain\\n      __typename\\n    }\\n    __typename\\n  }\\n  username\\n  hasSubdomain\\n}\\n\\nfragment HomeReadingListItem_post on Post {\\n  id\\n  title\\n  creator {\\n    id\\n    name\\n    username\\n    ...UserAvatar_user\\n    __typename\\n  }\\n  mediumUrl\\n  createdAt\\n  readingTime\\n  collection {\\n    id\\n    name\\n    navItems {\\n      url\\n      __typename\\n    }\\n    ...CollectionAvatar_collection\\n    __typename\\n  }\\n  visibility\\n  __typename\\n}\\n\\nfragment HomeTrendingModule_post on Post {\\n  id\\n  ...HomeTrendingPostPreview_post\\n  __typename\\n}\\n\\nfragment HomeTrendingPostPreview_post on Post {\\n  id\\n  title\\n  mediumUrl\\n  readingTime\\n  firstPublishedAt\\n  ...PostPreviewAvatar_post\\n  ...PostPresentationTracker_post\\n  __typename\\n}\\n\"}\n",
    "headers = {\"content-type\": \"application/json\", \"user-agent\": \"Mozilla/5.0 (Macintosh; Intel Mac OS X 11_2_3) AppleWebKit/537.36 (KHTML, like Gecko) Chrome/89.0.4389.90 Safari/537.36\"}\n"
   ]
  },
  {
   "cell_type": "code",
   "execution_count": null,
   "metadata": {},
   "outputs": [],
   "source": [
    "response = requests.post(url, headers=headers, json=payload)"
   ]
  },
  {
   "cell_type": "markdown",
   "metadata": {},
   "source": [
    "### 返回的結果要用json來把他轉成python的字典"
   ]
  },
  {
   "cell_type": "code",
   "execution_count": null,
   "metadata": {
    "scrolled": false
   },
   "outputs": [],
   "source": [
    "response = json.loads(response.content)"
   ]
  },
  {
   "cell_type": "code",
   "execution_count": null,
   "metadata": {
    "scrolled": true
   },
   "outputs": [],
   "source": [
    "result = response[\"data\"][\"extendedFeedItems\"]"
   ]
  },
  {
   "cell_type": "code",
   "execution_count": null,
   "metadata": {},
   "outputs": [],
   "source": [
    "response"
   ]
  },
  {
   "cell_type": "code",
   "execution_count": null,
   "metadata": {},
   "outputs": [],
   "source": [
    "for r in result:\n",
    "    print(\"Author: \", r[\"post\"]['creator'][\"name\"], \"\\nTitle: \",  r[\"post\"][\"title\"], \"\\nSubtitle: \", r[\"post\"][\"previewContent\"][\"subtitle\"])"
   ]
  },
  {
   "cell_type": "markdown",
   "metadata": {},
   "source": [
    "### Test zone"
   ]
  },
  {
   "cell_type": "code",
   "execution_count": null,
   "metadata": {},
   "outputs": [],
   "source": [
    "total_amount = 643\n",
    "total = round(total_amount / 20 + 1)"
   ]
  },
  {
   "cell_type": "code",
   "execution_count": null,
   "metadata": {},
   "outputs": [],
   "source": [
    "for t in range(1, total+1):\n",
    "    print(t)"
   ]
  },
  {
   "cell_type": "code",
   "execution_count": null,
   "metadata": {},
   "outputs": [],
   "source": [
    "columns = ['Part number', 'Description']\n",
    "df = pd.DataFrame(columns=columns)\n",
    "\n",
    "url = 'https://www.compel.ru/catalog/wireless/antenna'\n",
    "headers = {'User-Agent': 'Mozilla/5.0 (Windows NT 10.0; Win64; x64) AppleWebKit/537.36 (KHTML, like Gecko) Chrome/89.0.4389.90 Safari/537.36',\n",
    "           'Referer': 'https://www.compel.ru/catalog/wireless/antenna', 'content-type': 'application/x-www-form-urlencoded'}\n",
    "\n",
    "for t in range(1, total+1):\n",
    "    data = {'act': 'data-more', 'page': t, 'eng': '30172'}\n",
    "    res = requests.post(url, headers=headers, data=data)\n",
    "    response = res.content.decode('utf8')\n",
    "    content = json.loads(response)\n",
    "    target = bs(content['_catalog_tbody'])\n",
    "    pns = target.findAll('a', class_='item-link')\n",
    "    for pn in pns:\n",
    "        part_number = pn.text\n",
    "        try:\n",
    "            description = pn['title']\n",
    "        except:\n",
    "            description = 'N/A'\n",
    "        finally:\n",
    "            df = df.append({'Part number': part_number, 'Description': description}, ignore_index=True)\n",
    "\n",
    "df"
   ]
  },
  {
   "cell_type": "code",
   "execution_count": null,
   "metadata": {},
   "outputs": [],
   "source": [
    "df.insert(1, 'Manufacturer', df['Part number'].str.split('(').str[1].str.replace(')', ''))"
   ]
  },
  {
   "cell_type": "code",
   "execution_count": null,
   "metadata": {},
   "outputs": [],
   "source": [
    "df['Part number'] = df['Part number'].str.split('(').str[0]"
   ]
  },
  {
   "cell_type": "code",
   "execution_count": null,
   "metadata": {},
   "outputs": [],
   "source": [
    "df.to_excel('compel_antenna.xlsx', index=False)"
   ]
  }
 ],
 "metadata": {
  "kernelspec": {
   "display_name": "Python 3",
   "language": "python",
   "name": "python3"
  },
  "language_info": {
   "codemirror_mode": {
    "name": "ipython",
    "version": 3
   },
   "file_extension": ".py",
   "mimetype": "text/x-python",
   "name": "python",
   "nbconvert_exporter": "python",
   "pygments_lexer": "ipython3",
   "version": "3.8.5"
  }
 },
 "nbformat": 4,
 "nbformat_minor": 4
}
