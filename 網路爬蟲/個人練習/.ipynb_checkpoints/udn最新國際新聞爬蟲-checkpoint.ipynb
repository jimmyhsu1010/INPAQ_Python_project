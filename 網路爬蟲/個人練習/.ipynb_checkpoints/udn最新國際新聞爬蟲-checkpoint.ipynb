{
 "cells": [
  {
   "cell_type": "code",
   "execution_count": null,
   "metadata": {},
   "outputs": [],
   "source": [
    "import requests\n",
    "from bs4 import BeautifulSoup as bs\n",
    "import json\n",
    "import pandas as pd\n",
    "import time"
   ]
  },
  {
   "cell_type": "code",
   "execution_count": null,
   "metadata": {},
   "outputs": [],
   "source": [
    "headers = {'user-agent': 'Mozilla/5.0 (Windows NT 10.0; Win64; x64) AppleWebKit/537.36 (KHTML, like Gecko) Chrome/89.0.4389.114 Safari/537.36'}"
   ]
  },
  {
   "cell_type": "code",
   "execution_count": null,
   "metadata": {
    "scrolled": true
   },
   "outputs": [],
   "source": [
    "columns = ['新聞標題', '時間', '內容摘要']\n",
    "df = pd.DataFrame(columns=columns)\n",
    "\n",
    "n = 0\n",
    "while True:\n",
    "    url = 'https://udn.com/api/more?page=' + str(n) + '&channelId=2&type=cate_latest_news&cate_id=7225&totalRecNo=651'\n",
    "    res = requests.get(url, headers=headers)\n",
    "    try:\n",
    "        if res.status_code == 200:\n",
    "            body = json.loads(res.content)\n",
    "            for i in body['lists']:\n",
    "                title = i['title']\n",
    "                time = i['time']['date']\n",
    "                content = i['paragraph']\n",
    "                df = df.append({'新聞標題': title, '時間': time, '內容摘要': content}, ignore_index=True)\n",
    "            n += 1\n",
    "    #         time.sleep(1)\n",
    "    except ConnectionError:\n",
    "        break"
   ]
  },
  {
   "cell_type": "code",
   "execution_count": null,
   "metadata": {},
   "outputs": [],
   "source": [
    "df['時間'] = pd.to_datetime(df['時間'], yearfirst=True)"
   ]
  },
  {
   "cell_type": "code",
   "execution_count": null,
   "metadata": {},
   "outputs": [],
   "source": [
    "df = df[df['時間'].between('2021-04-06', '2021-04-07')]"
   ]
  },
  {
   "cell_type": "code",
   "execution_count": null,
   "metadata": {},
   "outputs": [],
   "source": [
    "df.resample('60min').count()"
   ]
  },
  {
   "cell_type": "code",
   "execution_count": null,
   "metadata": {},
   "outputs": [],
   "source": [
    "df.reset_index(inplace=True)"
   ]
  },
  {
   "cell_type": "code",
   "execution_count": null,
   "metadata": {
    "scrolled": true
   },
   "outputs": [],
   "source": [
    "df.to_excel(r\"C:\\Users\\kaihsu\\Desktop\\udn_news.xlsx\", index=False)"
   ]
  },
  {
   "cell_type": "code",
   "execution_count": null,
   "metadata": {},
   "outputs": [],
   "source": []
  }
 ],
 "metadata": {
  "kernelspec": {
   "display_name": "Python 3",
   "language": "python",
   "name": "python3"
  },
  "language_info": {
   "codemirror_mode": {
    "name": "ipython",
    "version": 3
   },
   "file_extension": ".py",
   "mimetype": "text/x-python",
   "name": "python",
   "nbconvert_exporter": "python",
   "pygments_lexer": "ipython3",
   "version": "3.8.5"
  }
 },
 "nbformat": 4,
 "nbformat_minor": 4
}
