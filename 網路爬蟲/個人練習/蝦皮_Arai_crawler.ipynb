{
 "cells": [
  {
   "cell_type": "code",
   "execution_count": null,
   "metadata": {},
   "outputs": [],
   "source": [
    "import requests\n",
    "import json\n",
    "import pandas as pd\n",
    "from bs4 import BeautifulSoup as bs\n",
    "import xlsxwriter"
   ]
  },
  {
   "cell_type": "code",
   "execution_count": null,
   "metadata": {},
   "outputs": [],
   "source": [
    "headers = {'user-agent': 'Mozilla/5.0 (Macintosh; Intel Mac OS X 11_2_3) AppleWebKit/537.36 (KHTML, like Gecko) Chrome/89.0.4389.114 Safari/537.36', \n",
    "           'x-api-source': 'pc', 'x-requested-with': 'XMLHttpRequest', 'x-shopee-language': 'zh-Hant', \n",
    "          'cookie': 'SPC_F=JhDQe7D66ZJRSo9FXG495qr4O0BloTjY; REC_T_ID=769738d6-da49-11ea-ad8e-b4969130c56c; _fbp=fb.1.1596981965618.982700371; __BWfp=c1596981977542xc7fbaee54; csrftoken=IfhLgNz00K4lnBUIa1r7D4YRLsS1EKUK; G_ENABLED_IDPS=google; SPC_CLIENTID=JhDQe7D66ZJRSo9Fgujpogfjcixryswv; SPC_IA=-1; SPC_EC=-; SPC_U=-; welcomePkgShown=true; _gcl_au=1.1.1930762698.1613442663; _med=refer; _gid=GA1.2.525977365.1617721285; AMP_TOKEN=%24NOT_FOUND; SPC_SI=mall.Lg9pybjZLOO1wPWXqHRBxBurX6lITlHi; _ga=GA1.2.659499360.1596981966; SPC_R_T_ID=\"0rfzVDtxrh7kycAQGSPhlEW6u4Jm8u85tNA2ZIb/RlP9ztu3aG8/L72USKNma2sZLjdbYZzzBJrTqkdCEoNP37Fc770s011lp+ZHb+WI6UI=\"; SPC_T_IV=\"PHmuMCIsyHm6jYcBsyXnyQ==\"; SPC_R_T_IV=\"PHmuMCIsyHm6jYcBsyXnyQ==\"; SPC_T_ID=\"0rfzVDtxrh7kycAQGSPhlEW6u4Jm8u85tNA2ZIb/RlP9ztu3aG8/L72USKNma2sZLjdbYZzzBJrTqkdCEoNP37Fc770s011lp+ZHb+WI6UI=\"; _ga_RPSBE3TQZZ=GS1.1.1617801050.38.1.1617801510.60', \n",
    "          'referer': 'https://shopee.tw/', 'upgrade-insecure-requests': '1', \n",
    "          'accept': 'text/html,application/xhtml+xml,application/xml;q=0.9,image/avif,image/webp,image/apng,*/*;q=0.8,application/signed-exchange;v=b3;q=0.9', \n",
    "          'accept-encoding': 'gzip, deflate, br', 'accept-language': 'zh-TW,zh;q=0.9,ru;q=0.8,en-US;q=0.7,en;q=0.6,ja;q=0.5'}"
   ]
  },
  {
   "cell_type": "markdown",
   "metadata": {},
   "source": [
    "## Get all items"
   ]
  },
  {
   "cell_type": "code",
   "execution_count": null,
   "metadata": {},
   "outputs": [],
   "source": [
    "main = 'https://shopee.tw/api/v4/search/search_items?by=relevancy&categoryids=10085%2C14436&keyword=arai&limit=50&newest=0&order=desc&page_type=search&skip_autocorrect=1&version=2'"
   ]
  },
  {
   "cell_type": "code",
   "execution_count": null,
   "metadata": {},
   "outputs": [],
   "source": [
    "res = requests.get(main, headers=headers)"
   ]
  },
  {
   "cell_type": "code",
   "execution_count": null,
   "metadata": {},
   "outputs": [],
   "source": [
    "total_items = json.loads(res.content)['adjust']['count']"
   ]
  },
  {
   "cell_type": "code",
   "execution_count": null,
   "metadata": {},
   "outputs": [],
   "source": [
    "columns = ['商店ID', '品項名稱', '地區', '已銷售', '庫存', '評分', '價格', '折扣前價格', '折扣', '最高價', '折扣前最高價', '最低價', '折扣前最低價', '已瀏覽次數']\n",
    "df = pd.DataFrame(columns=columns)\n",
    "\n",
    "for i in range(0, int(total_items / 50)):\n",
    "    n = i * 50\n",
    "    url = 'https://shopee.tw/api/v4/search/search_items?by=relevancy&categoryids=10085%2C14436&keyword=arai&limit=50&newest=' + str(n) + '&order=desc&page_type=search&skip_autocorrect=1&version=2'\n",
    "    res = requests.get(url, headers=headers)\n",
    "    data = json.loads(res.content)\n",
    "    for i in data['items']:\n",
    "        discount = i['item_basic']['discount']\n",
    "        sold_item = i['item_basic']['historical_sold']\n",
    "        rating = i['item_basic']['item_rating']['rating_star']\n",
    "        name = i['item_basic']['name']\n",
    "        price = i['item_basic']['price']\n",
    "        price_before_discount = i['item_basic']['price_before_discount']\n",
    "        price_max = i['item_basic']['price_max']\n",
    "        price_max_before_discount = i['item_basic']['price_max_before_discount']\n",
    "        price_min = i['item_basic']['price_min']\n",
    "        price_min_before_discount = i['item_basic']['price_min_before_discount']\n",
    "        location = i['item_basic']['shop_location']\n",
    "        shopid = i['item_basic']['shopid']\n",
    "        stock = i['item_basic']['stock']\n",
    "        views = i['item_basic']['view_count']\n",
    "        df = df.append({'商店ID': shopid, '品項名稱': name, '地區': location, '已銷售': sold_item,\n",
    "                        '庫存': stock, '評分': rating, '價格': price, '折扣前價格': price_before_discount,\n",
    "                        '折扣': discount, '最高價': price_max, '折扣前最高價': price_max_before_discount,\n",
    "                        '最低價': price_min, '折扣前最低價': price_min_before_discount, '已瀏覽次數': views}, \n",
    "                       ignore_index=True)"
   ]
  },
  {
   "cell_type": "markdown",
   "metadata": {},
   "source": [
    "## 數據處理"
   ]
  },
  {
   "cell_type": "code",
   "execution_count": null,
   "metadata": {},
   "outputs": [],
   "source": [
    "df['價格'] = df['價格'] / 100000\n",
    "df['折扣前價格'] = df['折扣前價格'] / 100000\n",
    "df['最高價'] = df['最高價'] / 100000\n",
    "df['折扣前最高價'] = df['折扣前最高價'] / 100000\n",
    "df['最低價'] = df['最低價'] / 100000\n",
    "df['折扣前最低價'] = df['折扣前最低價'] / 100000"
   ]
  },
  {
   "cell_type": "code",
   "execution_count": null,
   "metadata": {
    "scrolled": true
   },
   "outputs": [],
   "source": [
    "for i in ['已銷售', '庫存', '價格', '折扣前價格', '最高價',\n",
    "       '折扣前最高價', '最低價', '折扣前最低價', '已瀏覽次數']:\n",
    "    df[i] = df[i].astype('int')"
   ]
  },
  {
   "cell_type": "code",
   "execution_count": null,
   "metadata": {},
   "outputs": [],
   "source": [
    "test = df.copy()"
   ]
  },
  {
   "cell_type": "code",
   "execution_count": null,
   "metadata": {},
   "outputs": [],
   "source": [
    "test['平均價格'] = (test['最高價'] + test['最低價']) / 2"
   ]
  },
  {
   "cell_type": "code",
   "execution_count": null,
   "metadata": {},
   "outputs": [],
   "source": [
    "test['平均價格'] = test['平均價格'].astype('int')"
   ]
  },
  {
   "cell_type": "code",
   "execution_count": null,
   "metadata": {},
   "outputs": [],
   "source": [
    "test['營業額'] = test['平均價格'] * test['已銷售']\n",
    "test['庫存金額'] = test['平均價格'] * test['庫存']"
   ]
  },
  {
   "cell_type": "code",
   "execution_count": null,
   "metadata": {},
   "outputs": [],
   "source": [
    "test.to_excel('shopee_arai.xlsx', index=False, engine='xlsxwriter')"
   ]
  },
  {
   "cell_type": "code",
   "execution_count": null,
   "metadata": {},
   "outputs": [],
   "source": []
  }
 ],
 "metadata": {
  "kernelspec": {
   "display_name": "Python 3",
   "language": "python",
   "name": "python3"
  },
  "language_info": {
   "codemirror_mode": {
    "name": "ipython",
    "version": 3
   },
   "file_extension": ".py",
   "mimetype": "text/x-python",
   "name": "python",
   "nbconvert_exporter": "python",
   "pygments_lexer": "ipython3",
   "version": "3.8.5"
  }
 },
 "nbformat": 4,
 "nbformat_minor": 4
}
