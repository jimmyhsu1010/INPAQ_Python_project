{
 "cells": [
  {
   "cell_type": "code",
   "execution_count": 122,
   "metadata": {},
   "outputs": [],
   "source": [
    "import pandas as pd\n",
    "pd.set_option(\"display.float_format\", lambda x: \"%.2f\" % x)"
   ]
  },
  {
   "cell_type": "code",
   "execution_count": 123,
   "metadata": {},
   "outputs": [],
   "source": [
    "import tkinter as tk\n",
    "from tkinter import filedialog"
   ]
  },
  {
   "cell_type": "code",
   "execution_count": 124,
   "metadata": {},
   "outputs": [],
   "source": [
    "root = tk.Tk()\n",
    "root.withdraw()\n",
    "file_path = filedialog.askopenfilename()"
   ]
  },
  {
   "cell_type": "code",
   "execution_count": 125,
   "metadata": {},
   "outputs": [],
   "source": [
    "df = pd.read_excel(file_path, sheet_name= \"出貨明細\")"
   ]
  },
  {
   "cell_type": "code",
   "execution_count": 126,
   "metadata": {},
   "outputs": [],
   "source": [
    "sort_df = df[df[\"預交日期\"] >= \"2020-01-01\"]"
   ]
  },
  {
   "cell_type": "markdown",
   "metadata": {},
   "source": [
    "# 全系列商品+全客戶的購物籃分析"
   ]
  },
  {
   "cell_type": "code",
   "execution_count": 145,
   "metadata": {},
   "outputs": [],
   "source": [
    "order_numbers = sort_df[\"銷售單號\"].unique().tolist()"
   ]
  },
  {
   "cell_type": "code",
   "execution_count": 146,
   "metadata": {
    "scrolled": true
   },
   "outputs": [
    {
     "data": {
      "text/plain": [
       "2037"
      ]
     },
     "execution_count": 146,
     "metadata": {},
     "output_type": "execute_result"
    }
   ],
   "source": [
    "len(sort_df[\"銷售單號\"].unique())"
   ]
  },
  {
   "cell_type": "code",
   "execution_count": 147,
   "metadata": {
    "scrolled": true
   },
   "outputs": [
    {
     "data": {
      "text/plain": [
       "0.051055473735886106"
      ]
     },
     "execution_count": 147,
     "metadata": {},
     "output_type": "execute_result"
    }
   ],
   "source": [
    "104 / 2037"
   ]
  },
  {
   "cell_type": "code",
   "execution_count": 149,
   "metadata": {
    "scrolled": true
   },
   "outputs": [],
   "source": [
    "cart_ordered = []\n",
    "for i in order_numbers:\n",
    "    order_list = sort_df[sort_df[\"銷售單號\"] == i][\"品名\"].values\n",
    "    cart_ordered.append(order_list)"
   ]
  },
  {
   "cell_type": "code",
   "execution_count": 165,
   "metadata": {},
   "outputs": [
    {
     "data": {
      "text/plain": [
       "[array(['MIP1608P1R0MBP', 'MIP1608P2R2MBP', 'MIP1608PR47MBP',\n",
       "        'WIP201610P-2R2ML', 'WIP201610P-R33ML', 'WIP252012P-2R2ML',\n",
       "        'WIPC252012P-1R0ML', 'WIP252012P-R47ML'], dtype=object),\n",
       " array(['MLVS1206AM14701F', 'MLVS1206AM35201F', 'MLVS0805AM08361F',\n",
       "        'MLVS0805AM30201F', 'MLVS0805AM30201F', 'MLVS1206AM30501F',\n",
       "        'MLVS1206AM50251F'], dtype=object),\n",
       " array(['EGA10603V05B0', 'EGA10603V05B0', 'EGA10603V12B0', 'EGA10603V12B0',\n",
       "        'EGA10603V12B0'], dtype=object),\n",
       " array(['MLVS0402AM10101', 'MLVS0603AM04301F', 'MLVS0603AM04301F',\n",
       "        'MLVS0603AM04301F', 'MLVS1206AM30501F', 'MLVS0805AM06421F',\n",
       "        'MLVS0805AM20221F', 'MLVS0805AM25251F', 'MLVS0805AM30201F',\n",
       "        'MLVS0603AM30350F'], dtype=object),\n",
       " array(['WIP201612S-R47ML'], dtype=object),\n",
       " array(['WIPEA252012S-1R0ML'], dtype=object),\n",
       " array(['EGA10603V12B0'], dtype=object),\n",
       " array(['MCB1005S300FBP', 'MIP20121R0MBE', 'MHC1608S600QBP',\n",
       "        'MCB1608S152HBP'], dtype=object),\n",
       " array(['MIP20121R0MBE'], dtype=object),\n",
       " array(['NIP5040GX-6R8M', 'MCI1005HQ1N2SHBP', 'MCI1005HQ3N3BHBP',\n",
       "        'MCI1005HQ1N8BHBP', 'WCI1608CP33NJRBE', 'MCI1005HQ10NJHBP',\n",
       "        'MCI1005HQR10JHBP', 'MCI1005HQ10NGHBP', 'MCI1005HQ4N7BHBP',\n",
       "        'MCI1005HQ3N9BHBP', 'MCI1005HQ4N3BHBP', 'MCI0603TG3N0CHBP',\n",
       "        'NIP5020GX-150M', 'MCI1005HQ1N5SHBP', 'MCI1005HQ4N3BHBP'],\n",
       "       dtype=object),\n",
       " array(['WCI1608CP33NJRBE', 'MCI0603TG3N0CHBP'], dtype=object),\n",
       " array(['WIP252010S-1R0ML', 'WIP252012P-1R5ML', 'WIP252012P-R68ML',\n",
       "        'WIP201610S-R47ML'], dtype=object),\n",
       " array(['MCB1005S300FBP', 'MIP20121R0MBE', 'MHC1608S600QBP',\n",
       "        'MCB1005S102FBP'], dtype=object),\n",
       " array(['MIP20121R0MBE', 'MIP20121R0MBE'], dtype=object),\n",
       " array(['MCI1005HQ3N3BHBP', 'WIP252010S-1R0ML', 'NIP5020GX-150M',\n",
       "        'NIP5040GX-6R8M', 'MCI1005HQ6N8GHBP', 'MCI1005HQ10NGHBP'],\n",
       "       dtype=object),\n",
       " array(['MCB1005B601EBP'], dtype=object),\n",
       " array(['MLVS0805AM35171F', 'MLVS1206AM40181F'], dtype=object),\n",
       " array(['MCI1005HQ12NJHBP', 'MCI1005HQ18NJHBP', 'MHC1608S121PBP',\n",
       "        'MHC2012S301NBP', 'MCI1005HQ12NJHBP', 'MCI1005HQ18NJHBP'],\n",
       "       dtype=object),\n",
       " array(['MHC2012S121UBP'], dtype=object),\n",
       " array(['WIP252012P-4R7ML'], dtype=object),\n",
       " array(['MLVS0603AM04301F', 'MLVS1206AM40181F', 'EGA10603V05B0',\n",
       "        'EGA10603V05B0'], dtype=object),\n",
       " array(['MLVS1206AM20601F', 'MLVS0805AM25251F', 'MLVS0805AM04501F',\n",
       "        'MLVS0603AM04301F', 'MLVS1206AM35201F'], dtype=object),\n",
       " array(['WIP252012P-2R2ML', 'WIP252012P-2R2ML'], dtype=object),\n",
       " array(['EGA10603V12B0'], dtype=object),\n",
       " array(['WIP252012P-1R0ML', 'WIP252012P-4R7ML', 'WIP252012P-R47ML',\n",
       "        'WIP252012S-1R0ML', 'WIP201610S-R47ML'], dtype=object),\n",
       " array(['WIP201610S-R47ML', 'WIP252012P-2R2ML'], dtype=object),\n",
       " array(['WIP252012P-4R7ML', 'WIP252012P-4R7ML', 'WIP252012P-4R7ML',\n",
       "        'WIP252012P-4R7ML', 'WIP252012P-4R7ML', 'WIP252012P-4R7ML',\n",
       "        'WIP252012P-4R7ML', 'WIP252012P-4R7ML', 'WIP252012P-4R7ML'],\n",
       "       dtype=object),\n",
       " array(['EGA10603V05B0', 'EGA10603V12B0', 'MLVS1206AM40181F',\n",
       "        'MLVS0603AM04301F'], dtype=object),\n",
       " array(['MLVS0805AM06421F'], dtype=object),\n",
       " array(['WIPEA252012S-1R0ML'], dtype=object),\n",
       " array(['WIPEA252012S-1R0ML'], dtype=object),\n",
       " array(['MLVG04020R5IV18BP', 'MLVG04020R5IV18BP', 'MLVG04020R5IV18BP'],\n",
       "       dtype=object),\n",
       " array(['MLVS0603L14', 'MLVS0603L04', 'EGA10603V12B0', 'MLVS0603LE08',\n",
       "        'MLVA0805M04-330', 'EGA10402V24B0', 'MLVS0603AM20800',\n",
       "        'EGA10603V05B0', 'EGA10603V24B0', 'MIP25202R2MBE', 'MIP25204R7MBE',\n",
       "        'WIPRB252010P-4R7ML', 'WIP252012P-2R2ML', 'WIPC252012P-2R2ML'],\n",
       "       dtype=object),\n",
       " array(['NIP5040GX-6R8M', 'MCI1005HQ3N3BHBP', 'MCI1005HQ10NJHBP',\n",
       "        'MCI1005HQ1N5SHBP', 'MCI1005HQR10JHBP'], dtype=object),\n",
       " array(['NIP5020GX-150M', 'NIP5040GX-6R8M', 'MCI1005HQ3N3BHBP',\n",
       "        'MCI1005HQ6N8GHBP', 'MCI1005HQ10NGHBP', 'MCI1005HQ10NJHBP',\n",
       "        'MCI1005HQ1N2SHBP', 'MCI1005HQR10JHBP'], dtype=object),\n",
       " array(['MCB1005S300FBP', 'MHC1608S600QBP', 'MCB1005S102FBP',\n",
       "        'MHC1608S221NBP', 'MCB1608S152HBP', 'MHC3216S800RBE'], dtype=object),\n",
       " array(['WIPEA252012S-1R0ML', 'WIPEA252012S-1R0ML', 'WIPEA252012S-1R0ML'],\n",
       "       dtype=object),\n",
       " array(['WIPEA252012S-1R0ML', 'SurgX0603ESDA2', 'SurgX0603ESDA2'],\n",
       "       dtype=object),\n",
       " array(['SurgX0603ESDA2'], dtype=object),\n",
       " array(['WIPRB252010P-4R7ML'], dtype=object),\n",
       " array(['MCB1005S300FBP', 'MHC1608S221NBP', 'MHC1608S221NBP',\n",
       "        'MCB1608S152HBP', 'MHC3216S800RBE', 'MHC3216S800RBE'], dtype=object),\n",
       " array(['MIP25202R2MBE', 'MHC1608P471ZBP1A5'], dtype=object),\n",
       " array(['SurgX0603ESDA2'], dtype=object),\n",
       " array(['EGA10402V05AH', 'MLVS0603AM04301F', 'MLVS1206AM30501F',\n",
       "        'MLVS0805AM04501F', 'MLVS0603AM30350F'], dtype=object),\n",
       " array(['SurgX0603ESDA2'], dtype=object),\n",
       " array(['EGA10603V05B0', 'EGA10603V12B0', 'MLVS0402AM04241',\n",
       "        'MLVS0402AM04241', 'MLVS0603AM30350F', 'MLVS0603AM14101F',\n",
       "        'MLVS0805AM14351F', 'MLVS0805AM04501F', 'MLVS0805AM20221F',\n",
       "        'MLVS0805AM20221F', 'MLVS1206AM25551F', 'MLVS1206AM50251F',\n",
       "        'MLVS1206AM50251F', 'MLVS1206AM40181F', 'MLVS1206AM14701F',\n",
       "        'MLVS1206AM25551F', 'MLVS1206AM30501F'], dtype=object),\n",
       " array(['WIPEA252012S-1R0ML', 'MLVS0402L04'], dtype=object),\n",
       " array(['EGA10402V05AH', 'MLVS0805AM25251F', 'MLVS0805AM30201F',\n",
       "        'MLVS1206AM40181F'], dtype=object),\n",
       " array(['SurgX Array (ESD41)', 'SurgX0603ESDA2', 'TVL 0201 01 AC1'],\n",
       "       dtype=object),\n",
       " array(['MLVS0603LE08', 'MIP25201R0MBE', 'MIP25202R2MBE',\n",
       "        'WIP201610P-2R2ML', 'WIPC201610P-1R0ML', 'WIP201612S-R47ML',\n",
       "        'WIPRB252010P-4R7ML', 'WIPRB252010P-4R7ML', 'WIP252012P-2R2ML',\n",
       "        'WIP252012P-2R2ML', 'WIPC252012P-2R2ML', 'WIPC252012P-R47ML',\n",
       "        'WIP252012P-R47ML', 'MLVS0402L04', 'MLVS0402L04'], dtype=object),\n",
       " array(['MLVS0603AM02481F'], dtype=object),\n",
       " array(['TVL 0201 01 AC1'], dtype=object),\n",
       " array(['WIPEA252012S-1R0ML'], dtype=object),\n",
       " array(['SurgX Array (ESD41)', 'WIPEA252012S-1R0ML'], dtype=object),\n",
       " array(['MLVS0402M02-181'], dtype=object),\n",
       " array(['EGA10603V12B0', 'MLVS1206AM25551F', 'MLVS0603AM04301F',\n",
       "        'MLVS1206AM11461F', 'MLVS0805AM11401F', 'MLVS1206AM20601F',\n",
       "        'MLVS0805AM20221F'], dtype=object),\n",
       " array(['MLVG04023R0LV42BP', 'MLVG0603120LV18BP', 'MLA0402V5.5',\n",
       "        'MLA0402V14'], dtype=object),\n",
       " array(['WIP252012P-1R0ML'], dtype=object),\n",
       " array(['MLVG04023R0LV42BP', 'MLA0603V18', 'MLA0402V18E', 'MLA0603V26'],\n",
       "       dtype=object),\n",
       " array(['EGA10402V05AH', 'MLVS0402AM04241', 'MLVS1206AM35201F',\n",
       "        'MLVS0805AM30201F', 'MLVS0603AM20800F', 'MLVS0603AM30350F'],\n",
       "       dtype=object),\n",
       " array(['SurgX Array (ESD41)', 'TVL 0201 01 AC1', 'WIPEA252012S-1R0ML',\n",
       "        'WIPEA252012S-1R0ML'], dtype=object),\n",
       " array(['SurgX0603ESDA2'], dtype=object),\n",
       " array(['TVL 0201 01 AC1'], dtype=object),\n",
       " array(['EGA10603V05B0', 'MLVS0603LE08', 'EGA10402V24B0', 'EGA10603V24B0',\n",
       "        'MIP1608P2R2MBP', 'MIP25203R3MBE', 'WIP201610P-1R0ML',\n",
       "        'WIP201610P-2R2ML', 'WIPC252010P-R22ML', 'WIP252012P-1R0ML',\n",
       "        'WIP252012P-2R2ML', 'WIPC252012P-1R0ML'], dtype=object),\n",
       " array(['EGA10603V12A0', 'EGA10402V05A0', 'EGA10603V12A0-T',\n",
       "        'EGA10603V12A0-T'], dtype=object),\n",
       " array(['MCB1005B601EBP'], dtype=object),\n",
       " array(['MLVG0402120LV18BP', 'MLVG06033R0LV42BP', 'MLVS0402L14F'],\n",
       "       dtype=object),\n",
       " array(['EGA10603V12A0', 'EGA41206V12A0'], dtype=object),\n",
       " array(['MCI1005HQ5N6SHBP', 'MIP20122R2MBE', 'MIP20122R2MBE',\n",
       "        'MIP20124R7MBE', 'MIP20124R7MBE', 'MIP20124R7MBE', 'MIP20124R7MBE',\n",
       "        'MHC3216S601PBE'], dtype=object),\n",
       " array(['WIP252012P-2R2ML', 'MCI1005HQ27NJHBP', 'MCI1005HQ6N8JHBP'],\n",
       "       dtype=object),\n",
       " array(['MHC1005G121MBP', 'MHC1608P260Z06BP6A0', 'MHC1608P260Z06BP6A0',\n",
       "        'MHC1608P260Z06BP6A0'], dtype=object),\n",
       " array(['MLVS0402AM04241', 'MLVS0402AM04241', 'MLVS0402AM10101'],\n",
       "       dtype=object),\n",
       " array(['HCM1012GS150A05P'], dtype=object),\n",
       " array(['WIP252012S-1R0ML', 'MCB1005S151FBP'], dtype=object),\n",
       " array(['MCI0603TG0N4BHBP', 'MCI0603TG0N5BHBP', 'MCI0603TG0N7BHBP',\n",
       "        'MCI0603TG0N9BHBP', 'MCI0603TG1N7BHBP', 'MCI0603TG1N8BHBP',\n",
       "        'MCI0603TG1N9BHBP', 'MCI0603TG2N3BHBP', 'MCI0603TG3N1BHBP',\n",
       "        'MCI0603TG3N5BHBP', 'MCI0603TG3N6BHBP', 'MCI0603TG3N7BHBP',\n",
       "        'MCI0603TG3N8BHBP', 'MCI0603TG4N3JHBP', 'MCI0603TG9N1JHBP',\n",
       "        'MCI0603TG15NJHBP', 'MCI0603TG27NJHBP'], dtype=object),\n",
       " array(['MCI1005HQ1N0CHBP', 'MCI1005HQ2N7CHBP', 'MCI1005HQ2N0CHBP',\n",
       "        'MCI1005HQ2N2CHBP', 'MHC1005P331ZBP1A2', 'MCI1005HQ3N9SHBP',\n",
       "        'MCI1608HQ5N6SHBP', 'MCI1608HQ5N6SHBP', 'MCI1005HQ10NJHBP'],\n",
       "       dtype=object),\n",
       " array(['MCI1608HQ6N8JHBP', 'MCI1608HQ1N8SHBP', 'MCI1608HQ1N8SHBP'],\n",
       "       dtype=object),\n",
       " array(['SMBJ36A-T', 'WIP252012P-2R2ML', 'SMBJ36A-T'], dtype=object),\n",
       " array(['MCB1005B601EBP', 'MCB1005B601EBP', 'MCB1005B601EBP'], dtype=object),\n",
       " array(['MLA0402V5.5', 'MLA0603V5.5L', 'MLA0402V9L'], dtype=object),\n",
       " array(['WIP252012P-R47ML', 'WIP252012P-R47ML', 'WIP252012P-R47ML',\n",
       "        'WIP252012P-R47ML'], dtype=object),\n",
       " array(['MHC2012S310WBP'], dtype=object),\n",
       " array(['WIP252012S-1R0ML'], dtype=object),\n",
       " array(['zepto0201-PSR-29326', 'zepto0201-PSR-29326',\n",
       "        'zepto0201-PSR-29326', 'zepto0201-PSR-29326',\n",
       "        'zepto0201-PSR-29326', 'zepto0201-PSR-29326'], dtype=object),\n",
       " array(['zepto0201-PSR-29340', 'zepto0201-PSR-29340',\n",
       "        'zepto0201-PSR-29340', 'zepto0201-PSR-29340',\n",
       "        'zepto0201-PSR-29340'], dtype=object),\n",
       " array(['MLVS0402L04'], dtype=object),\n",
       " array(['MCB1005S300FBP', 'MCB1005B102GBP', 'MCB1005S102FBP',\n",
       "        'NIP5020GX-150M', 'MCB1608S152HBP', 'MHC3216S800RBE'], dtype=object),\n",
       " array(['MCI1005HQ3N3BHBP', 'MCI1005HQ3N9BHBP', 'MCI1005HQ6N8GHBP',\n",
       "        'MCI1005HQ1N2SHBP', 'MCI1005HQR10JHBP', 'MCI1005HQ4N3BHBP',\n",
       "        'MCI1005HQ4N7BHBP', 'MCI1005HQ4N7BHBP', 'MCI1005HQ10NGHBP',\n",
       "        'MCI0603TG3N0CHBP', 'MCI1005HQ1N0SHBP', 'MCI1005HQ1N0SHBP'],\n",
       "       dtype=object),\n",
       " array(['EGA10603V12B0', 'EGA10402V05AH', 'MLVS1206AM14701F',\n",
       "        'MLVS1206AM40181F', 'MLVS0603AM11500F', 'MLVS0603AM02481F',\n",
       "        'MLVS1206AM11461F', 'MLVS1206AM30501F', 'MLVS0805AM08361F',\n",
       "        'MLVS0805AM25251F', 'MLVS1206AM30501F', 'MLVS1206AM50251F',\n",
       "        'MLVS1206AM30501F', 'MLVS1206AM40181F'], dtype=object),\n",
       " array(['ACA-5036-A7-CC-S'], dtype=object),\n",
       " array(['MLVS0603L04', 'EGA10603V05B0', 'MIP2012P2R2M05BP',\n",
       "        'MIP25201R0MBE', 'MIP25204R7MBE', 'MIP2520R47MBE',\n",
       "        'WIP201610P-2R2ML', 'WIPRB252010P-4R7ML', 'WIPC252010P-R22ML',\n",
       "        'WIP252012P-1R0ML', 'WIPC252012P-R47ML', 'MLVS0603L14'],\n",
       "       dtype=object),\n",
       " array(['MCI1005HQ3N9BHBP', 'MCI1005HQ1N8BHBP', 'MCI1005HQ4N3BHBP',\n",
       "        'MCI1005HQ2N2BHBP', 'MCI1005HQ4N7BHBP'], dtype=object),\n",
       " array(['MCI1005HQ3N9BHBP', 'MCI1005HQ1N8BHBP', 'MCI1005HQ2N2BHBP',\n",
       "        'MCI1005HQ4N7BHBP', 'NIP5020GX-150M', 'MCI0603TG3N0CHBP',\n",
       "        'MCI0603TG3N0CHBP'], dtype=object),\n",
       " array(['MCB1005S300FBP'], dtype=object),\n",
       " array(['MLVS0402L04', 'MLVS0402LE08', 'MLVS0402LE08', 'MLVS0603L14',\n",
       "        'MLVS0603L04', 'EGA10603V05B0', 'EGA10603V12B0', 'MLVS0603LE08',\n",
       "        'MLVS0603LE08', 'EGA10402V12B0', 'EGA10402V24B0', 'EGA10603V12B0',\n",
       "        'MIP25201R0MBE', 'MIP25203R3MBE', 'MIP25204R7MBE',\n",
       "        'WIPC252010P-R68ML', 'WIP252012P-1R0ML', 'WIPC252012P-1R5ML',\n",
       "        'WIPC252012P-R47ML', 'MLVS0402L04', 'MLVS0402L04', 'MLVS0402L04',\n",
       "        'MLVS0402L04', 'MLVS0402L04'], dtype=object),\n",
       " array(['MLVG04023R0LV42BP', 'MLVG0603220LV09BP', 'MLA0402V14',\n",
       "        'MLA0603V5.5L'], dtype=object),\n",
       " array(['EGA10603V12A0-T'], dtype=object),\n",
       " array(['MHC1608S600QBP', 'WIP252010P-R22ML'], dtype=object),\n",
       " array(['MCB1005S300FBP', 'MHC1608S600QBP', 'MCB1005S102FBP',\n",
       "        'NIP5020GX-150M', 'NIP5040GX-6R8M', 'MCB1608S152HBP',\n",
       "        'MHC3216S800RBE'], dtype=object),\n",
       " array(['MCI1005HQ15NJHBP', 'MCI1005HQ18NJHBP'], dtype=object),\n",
       " array(['MCI1005HQ33NJHBP', 'MCB2012S601HBP', 'MCI0603TG2N9BHBP',\n",
       "        'MCI0603HQ10NJHBP', 'MCI0603HQ12NJHBP', 'MCI0603HQ15NJHBP',\n",
       "        'MCI0603HQ18NJHBP', 'MCI0603HQ22NJHBP', 'MCI0603HQ27NJHBP',\n",
       "        'MCI0603HQ33NJHBP', 'MCI0603HQ8N2JHBP', 'MCI0603HQ1N0SHBP',\n",
       "        'MCI0603HQ1N2SHBP', 'MCI0603HQ1N5SHBP', 'MCI0603HQ1N8SHBP',\n",
       "        'MCI0603HQ2N0SHBP', 'MCI0603HQ2N2SHBP', 'MCI0603HQ2N4SHBP',\n",
       "        'MCI0603HQ2N7SHBP', 'MCI0603HQ3N3SHBP', 'MCI0603HQ3N9SHBP',\n",
       "        'MCI0603HQ4N3SHBP', 'MCI0603HQ5N1SHBP', 'MCI0603HQ6N2SHBP',\n",
       "        'MCI1005HQ18NJHBP', 'MCI1005HQ3N0SHBP', 'MCI1005HQ1N5BHBP'],\n",
       "       dtype=object),\n",
       " array(['HCM1012GS150A05P'], dtype=object),\n",
       " array(['zepto0201-PSR-29340', 'zepto0201-PSR-29340',\n",
       "        'zepto0201-PSR-29340', 'zepto0201-PSR-29340'], dtype=object),\n",
       " array(['WIP252012P-2R2ML', 'WIP252010S-1R0ML'], dtype=object),\n",
       " array(['MCB1005S102FBP', 'MCB1005S300FBP', 'MHC1608S600QBP',\n",
       "        'MIP20121R0MBE', 'MIP20121R0MBE', 'MHC1608S221NBP'], dtype=object),\n",
       " array(['MCB1005B601EBP'], dtype=object),\n",
       " array(['MHC1608P260Z06BP6A0'], dtype=object),\n",
       " array(['MCB1005B601EBP'], dtype=object),\n",
       " array(['MCB1005B601EBP'], dtype=object),\n",
       " array(['MCB1608S102EBP', 'MCB1608S102EBP', 'MCI0603HQ2N2SHBP',\n",
       "        'MCI0603TG4N3HHBP', 'MCI0603TG4N7HHBP'], dtype=object),\n",
       " array(['MHC2012S301NBP', 'MHC1608S121PBP', 'MHC1608S301NBP',\n",
       "        'MCB1005S601FBP', 'MHC2012S121QBP', 'MCI1005HQ4N7SHBP',\n",
       "        'MCB1608S221HBP', 'MCI1005HQ2N0CHBP', 'MCI1005HQ2N0CHBP'],\n",
       "       dtype=object),\n",
       " array(['MLVS1206AM14701F'], dtype=object),\n",
       " array(['MCI1005HQ2N7SHBP', 'MCI1005HQ2N7SHBP', 'MCI1005HQ2N7SHBP',\n",
       "        'MCI1005HQ3N9SHBP', 'MCI1005HQ1N2BHBP', 'MCI1005HQ3N3SHBP',\n",
       "        'MCI0603TG10NHHBP'], dtype=object),\n",
       " array(['MCB1005S151FBP', 'MCB1005H121FBP'], dtype=object),\n",
       " array(['MCI1005HQ1N0SHBP', 'MCI1005HQ1N0SHBP', 'MCI1005HQ1N0CHBP',\n",
       "        'MCI1005HQ2N7CHBP'], dtype=object),\n",
       " array(['SurgX0603ESDA2', 'MLVS0603L04', 'SurgX0603ESDA2',\n",
       "        'SurgX0603ESDA2'], dtype=object),\n",
       " array(['TVL 0201 01 AC1', 'MLVS0603L20', 'WIPEA252012S-1R0ML',\n",
       "        'WIPEA252012S-1R0ML', 'SurgX0603ESDA2'], dtype=object),\n",
       " array(['MLVS0402M02-181', 'MLVS0603AM25900F'], dtype=object),\n",
       " array(['MHC1608P260Z06BP6A0'], dtype=object),\n",
       " array(['WIP201610P-2R2ML', 'WIP201610P-2R2ML', 'WIP201610P-2R2ML',\n",
       "        'WIP201610P-2R2ML', 'WIP201610P-2R2ML', 'MHC3216S601PBE'],\n",
       "       dtype=object),\n",
       " array(['MHC2012S221QBP', 'MCB2012S601HBP'], dtype=object),\n",
       " array(['MLVS0402LE08', 'MLVS0603L20', 'EGA10603V05B0', 'MLVS0603LE08',\n",
       "        'EGA10402V12B0', 'EGA10402V24B0', 'EGA10603V12B0',\n",
       "        'MPA2016P2R2MBE', 'MIP25201R5MBE', 'MIP25201R5MBE',\n",
       "        'MIP25202R2MBE', 'MIP25202R2MBE', 'MIP25204R7MBE',\n",
       "        'WIP201610P-2R2ML', 'WIP201610P-2R2ML', 'WIP201610P-R33ML',\n",
       "        'WIP201610P-R47ML', 'WIPC252010P-1R0ML', 'WIP252012P-1R0ML',\n",
       "        'WIPC252012P-4R7ML', 'WIPC252012P-R47ML', 'WIP252012P-R68ML'],\n",
       "       dtype=object),\n",
       " array(['MLVS0402LE06', 'MLVS0402LE06', 'MLVS0402LE06', 'MLVS0402LE06'],\n",
       "       dtype=object),\n",
       " array(['MHC3225S102NBE'], dtype=object),\n",
       " array(['MFI201210RKBE'], dtype=object),\n",
       " array(['WIP201610P-1R0ML'], dtype=object),\n",
       " array(['MLVS0402LE08'], dtype=object),\n",
       " array(['MIP2012P1R0M05BP', 'MIP25204R7MBE', 'WIP201610P-2R2ML',\n",
       "        'WIPC201610P-1R0ML', 'WIP201610P-1R0ML', 'WIP201610P-R47ML',\n",
       "        'WFP201210Y-1R0ML', 'WIP201612S-R47ML', 'WIPC252010P-1R5ML',\n",
       "        'WIPC252010P-4R7ML', 'WIPC252010P-R22ML', 'WIP252012P-2R2ML',\n",
       "        'WIPC252012P-2R2ML', 'WIPC252012P-R47ML', 'MLVS0603L14',\n",
       "        'MLVS0603L14', 'MLVS0603L04', 'MLVS0603L04', 'EGA10603V05B0',\n",
       "        'EGA10603V24B0', 'WFP201210Y-1R0ML', 'WFP201210Y-1R0ML',\n",
       "        'WFP201210Y-1R0ML'], dtype=object),\n",
       " array(['MLVG06033R0LV42BP', 'MLA0603V14', 'MLA0603V26', 'MLA0402V5.5',\n",
       "        'MLA0603V5.5L', 'MLA0402V9', 'MLA0402V18'], dtype=object),\n",
       " array(['WIP201610P-1R0ML', 'WIP201610P-1R5ML', 'WIP201610P-2R2ML',\n",
       "        'WIP201610P-R24ML', 'WIP201610P-R33ML', 'WIP201610P-R47ML',\n",
       "        'WIP201610P-R68ML', 'WIP201610S-1R0ML', 'WIP201610S-1R5ML',\n",
       "        'WIP201610S-2R2ML', 'WIP201610S-R47ML', 'WIP252010P-1R0ML',\n",
       "        'WIP252010P-1R5ML', 'WIP252010P-2R2ML', 'WIP252010P-4R7ML',\n",
       "        'WIP252010P-R22ML', 'WIP252010P-R33ML', 'WIP252010P-R47ML',\n",
       "        'WIP252010P-R68ML', 'WIP252010S-1R0ML', 'WIP252010S-2R2ML',\n",
       "        'WIP252010S-R33ML', 'WIP252010S-R47ML', 'WIP252012P-1R5ML',\n",
       "        'WIP252012P-4R7ML', 'WIP252012P-R47ML', 'WIP252012P-R68ML',\n",
       "        'WIP252012S-1R0ML', 'WIP252012S-2R2ML'], dtype=object),\n",
       " array(['MLVS0603AM02481F'], dtype=object),\n",
       " array(['MHC1005G121MBP', 'MCB1608S102CBP'], dtype=object),\n",
       " array(['MLVG04023R0TV18BP', 'SurgX0603ESDA2', 'WIPE201610S-2R2ML',\n",
       "        'WIPE201610S-2R2ML', 'WIPE201610S-2R2ML', 'WIP252010P-R47ML'],\n",
       "       dtype=object),\n",
       " array(['TVL 0201 01 AC1', 'MLVS0603L07', 'MLVS0603L07'], dtype=object),\n",
       " array(['MCI1005HQ2N7CHBP', 'MCI1005HQ2N7CHBP', 'MCI1005HQ2N7CHBP',\n",
       "        'MCI1005HQ2N7CHBP', 'MCI1005HQ2N7CHBP', 'MCI1005HQ2N7CHBP',\n",
       "        'MCI1005HQ2N7CHBP', 'MCI1005HQ1N0CHBP', 'MCI1005HQ1N0CHBP',\n",
       "        'MCI1005HQ1N0CHBP', 'MCI1005HQ1N0CHBP', 'MCI1005HQ1N0CHBP',\n",
       "        'MCI1005HQ2N7CHBP', 'MCI1005HQ2N7CHBP', 'MCI1005HQ2N7CHBP',\n",
       "        'MCI1005HQ2N7CHBP', 'MCI1005HQ2N7CHBP', 'MCI1005HQ2N0CHBP',\n",
       "        'MCI1005HQ2N0CHBP', 'MCI1005HQ2N0CHBP', 'MCI1005HQ2N0CHBP',\n",
       "        'MCI1005HQ2N0CHBP', 'MCI1005HQ2N2CHBP', 'MCI1005HQ2N2CHBP',\n",
       "        'MCI1005HQ2N2CHBP', 'MCI1005HQ2N2CHBP', 'MCI1005HQ2N2CHBP'],\n",
       "       dtype=object),\n",
       " array(['WIP252012P-1R0ML', 'WIP252012P-1R0ML'], dtype=object),\n",
       " array(['MCI1005HQ33NJHBP', 'MHC1005P800ZBP2A3', 'MCB1005S601FBP',\n",
       "        'MHC1005P221ZBP1A4', 'MCI1005HQ2N0CHBP', 'MCI1005HQ2N2CHBP'],\n",
       "       dtype=object),\n",
       " array(['MCB1608S102CBP'], dtype=object),\n",
       " array(['WIP252010P-1R0ML', 'WIP252010P-1R0ML', 'WIP252012P-R68ML',\n",
       "        'WIP252012P-R68ML'], dtype=object),\n",
       " array(['WMM0420PX-3R3M'], dtype=object),\n",
       " array(['MHC1608P260Z06BP6A0'], dtype=object),\n",
       " array(['WIP201610P-R47ML'], dtype=object),\n",
       " array(['WIP252012S-1R0ML', 'WIP252012S-1R0ML'], dtype=object),\n",
       " array(['SurgX Array (ESD41)', 'SurgX Array (ESD41)',\n",
       "        'SurgX Array (ESD41)', 'SurgX0603ESDA2'], dtype=object),\n",
       " array(['MLVG04020R5IV18BP', 'MLVG04020R5IV18BP', 'SurgX Array (ESD41)',\n",
       "        'SurgX0603ESDA2', 'SurgX0603ESDA2'], dtype=object),\n",
       " array(['SurgX Array (ESD41)', 'SurgX0603ESDA2', 'SurgX0603ESDA2'],\n",
       "       dtype=object),\n",
       " array(['WIP201610P-2R2ML', 'WIP252012P-1R0ML', 'WIP252012P-1R0ML',\n",
       "        'WIP252012P-1R0ML', 'WIP252012P-1R0ML', 'WIP252012P-1R0ML',\n",
       "        'WIP252012P-1R0ML', 'WIP252012P-1R0ML'], dtype=object),\n",
       " array(['EGA10603V12B0', 'EGA10402V05AH', 'EGA10402V05AH', 'EGA10402V05AH',\n",
       "        'MLVS0603AM02481F', 'MLVS0603AM04301F', 'EGA10603V05B0',\n",
       "        'MLVS1206AM40181F', 'MLVS1206AM50251F'], dtype=object),\n",
       " array(['ACM3-5036-A1-CC-S'], dtype=object),\n",
       " array(['MCI0603TG1N8CHBP', 'MCI1005HQ1N0CHBP', 'MCI1005HQ2N2CHBP',\n",
       "        'MCI1005HQ2N7CHBP'], dtype=object),\n",
       " array(['HCM1012GS150A05P'], dtype=object),\n",
       " array(['MLVS0805P35-171', 'MLVS0402LE06', 'MLVS0402LE06'], dtype=object),\n",
       " array(['zepto0201-PSR-29340', 'zepto0201-PSR-29340',\n",
       "        'zepto0201-PSR-29340', 'zepto0201-PSR-29340',\n",
       "        'zepto0201-PSR-29340'], dtype=object),\n",
       " array(['MHC2012S600QBTC6', 'MHC2012S600QBTC6', 'MHC2012S600QBTC6',\n",
       "        'MHC2012S600QBTC6', 'MHC2012S600QBTC6', 'MHC2012S600QBTC6',\n",
       "        'MCB1608S601FBPC6', 'MHC1005G121MBP', 'MHC2012S600QBTC6',\n",
       "        'MHC2012S600QBTC6', 'MHC2012S600QBTC6', 'MHC2012S600QBTC6',\n",
       "        'MHC2012S600QBTC6'], dtype=object),\n",
       " array(['MLVS0603AM11500F', 'MLVS0402M02-181', 'MLVS1206AM30501F',\n",
       "        'EGA10603V12B0'], dtype=object),\n",
       " array(['MLVS0805AM35171F', 'MLVS0603AM02481F', 'MLVS0603AM04301F',\n",
       "        'MLVS1206AM11461F', 'MLVS1206AM11461F', 'EGA10603V12B0',\n",
       "        'MLVS1206AM50251F', 'MLVS1206AM20601F'], dtype=object),\n",
       " array(['MLVS0402AM06121'], dtype=object),\n",
       " array(['MLVS0603AM02481F', 'MLVS0603AM06241F', 'MLVS1206AM11461F',\n",
       "        'MLVS1206AM11461F', 'MLVS0805AM11401F', 'MLVS0805AM14351F'],\n",
       "       dtype=object),\n",
       " array(['MCB2012S121KBPC6', 'MHC1608P260Z06BP6A0', 'MHC2012S600QBTC6',\n",
       "        'MCB1608S601FBPC6', 'MHC1005G121MBP', 'MHC1608P221ZBP2A2C6'],\n",
       "       dtype=object),\n",
       " array(['WIP252010P-R22ML'], dtype=object),\n",
       " array(['WIP252012P-1R5ML'], dtype=object),\n",
       " array(['TVL 0201 01 AC1', 'SurgX Array (ESD41)', 'TVU1240R1A',\n",
       "        'MLVS0603L04'], dtype=object),\n",
       " array(['MLVS0402L04', 'WIPE252012S-1R0ML'], dtype=object),\n",
       " array(['WIP252012S-R47ML'], dtype=object),\n",
       " array(['MCB2012S601HBPC6', 'MCB2012S601HBPC6'], dtype=object),\n",
       " array(['MCB2012S601HBPC6', 'MCB2012S601HBPC6'], dtype=object),\n",
       " array(['MHC1608P260Z06BP6A0'], dtype=object),\n",
       " array(['SurgX0603ESDA2'], dtype=object),\n",
       " array(['MCI0603TG1N8BHBP', 'MCI0603TG2N0BHBP', 'MCI0603TG2N2BHBP',\n",
       "        'MCI0603TG2N4BHBP', 'MCI0603TG2N7BHBP', 'MCI0603TG3N0BHBP',\n",
       "        'MCI0603TG3N3BHBP', 'MCI0603TG3N6BHBP', 'MCI0603TG3N9BHBP',\n",
       "        'MCI0603TG12NHHBP', 'MCI0603TG15NHHBP', 'MCI0603TG18NHHBP',\n",
       "        'MCI0603TG22NHHBP', 'MCI0603TG6N8HHBP', 'MCI0603TG7N5HHBP',\n",
       "        'MCI0603TG8N2HHBP', 'MCI0603TG9N1HHBP', 'MCI0603TG12NJHBP',\n",
       "        'MCI0603TG18NJHBP', 'MCI0603TG22NJHBP', 'MCI0603HQ12NJHBP',\n",
       "        'MCI0603HQ18NJHBP', 'MCI0603HQ22NJHBP', 'MCI0603HQ6N8JHBP',\n",
       "        'MCI0603HQ8N2JHBP', 'MCI0603HQ1N2SHBP', 'MCI0603HQ1N8SHBP',\n",
       "        'MCI0603HQ2N4SHBP', 'MCI0603HQ2N7SHBP', 'MCI0603HQ3N0SHBP',\n",
       "        'MCI0603HQ3N3SHBP', 'MCI0603HQ3N9SHBP', 'MCI0603HQ6N2SHBP',\n",
       "        'MCI1005HQ6N8JHBP', 'MCI1005HQ7N5JHBP', 'MCI1005HQ1N0SHBP',\n",
       "        'MCI1005HQ1N8SHBP', 'MCI1005HQ2N2SHBP', 'MCI1005HQ3N9SHBP',\n",
       "        'MCI1005HQ5N6SHBP'], dtype=object),\n",
       " array(['MCB2012S601HBPC6'], dtype=object),\n",
       " array(['MCB2012S601HBPC6', 'MHC1608P221ZBP2A2C6', 'MHC1608P221ZBP2A2C6',\n",
       "        'MCB2012S601HBPC6'], dtype=object),\n",
       " array(['WIP252010S-1R0ML', 'WIP252010S-1R0ML', 'MCI1005HQ3N9BHBP',\n",
       "        'MCI1005HQ3N9BHBP'], dtype=object),\n",
       " array(['MCB1005B102GBP', 'MCB1005B102GBP'], dtype=object),\n",
       " array(['WIP252012P-1R0ML'], dtype=object),\n",
       " array(['WIP252012S-R47ML'], dtype=object),\n",
       " array(['MHC1005G121MBP', 'MHC1005G121MBP', 'MHC1005G121MBP'], dtype=object),\n",
       " array(['MLVS0603AM25900'], dtype=object),\n",
       " array(['MHC2012S301NBP', 'MHC1608S121PBP', 'MCI1005HQ1N5BHBP'],\n",
       "       dtype=object),\n",
       " array(['MHC1608S601LBP', 'MHC2012S301NBP', 'MCI1005HQ82NJHBP'],\n",
       "       dtype=object),\n",
       " array(['WIP201610S-R47ML'], dtype=object),\n",
       " array(['MCI1608HQ18NJHBP'], dtype=object),\n",
       " array(['MLVS0402LE06'], dtype=object),\n",
       " array(['HCM1012GD500A05P'], dtype=object),\n",
       " array(['ACA-5036-A7-CC-S', 'ACA-5036-A7-CC-S'], dtype=object),\n",
       " array(['HCM1012GD500A05P'], dtype=object),\n",
       " array(['HCM1012GD900A05P'], dtype=object),\n",
       " array(['MCB1608S601FBPC6', 'MHC1608P221ZBP2A2C6', 'MHC1608P221ZBP2A2C6'],\n",
       "       dtype=object),\n",
       " array(['WIP252012P-1R0ML', 'WIP252012P-1R0ML'], dtype=object),\n",
       " array(['MCI1005HQ4N7BHBP', 'MCI1005HQ4N7BHBP'], dtype=object),\n",
       " array(['MCB1005S300FBP', 'MCB1005S300FBP'], dtype=object),\n",
       " array(['WIP252012S-R47ML'], dtype=object),\n",
       " array(['MLVS0603AM30350F', 'MLVS0603AM30350F', 'MLVS0603AM25900F'],\n",
       "       dtype=object),\n",
       " array(['EGA10603V05B0', 'EGA10603V12B0', 'EGA10402V05AH', 'EGA41206V12B0',\n",
       "        'MLVS1206AM40181F', 'MLVS0603AM04301F', 'MLVS0402AM04241',\n",
       "        'MLVS1206AM11461F', 'MLVS1206AM20601F', 'MLVS1206AM25551F',\n",
       "        'MLVS0805AM04501F', 'MLVS0805AM06421F', 'MLVS0805AM25251F',\n",
       "        'MLVS1206AM25551F', 'MLVS1206AM60121F', 'MLVS1206AM60121F'],\n",
       "       dtype=object),\n",
       " array(['SurgX Array (ESD41)', 'SurgX0603ESDA2', 'SurgX0603ESDA2'],\n",
       "       dtype=object),\n",
       " array(['WIPEA252012S-1R0ML', 'SurgX0603ESDA2'], dtype=object),\n",
       " array(['WIPEA252012S-1R0ML'], dtype=object),\n",
       " array(['MLVG04023R0LV42BP', 'MLVS0402L14F', 'MLA0603V5.5L'], dtype=object),\n",
       " array(['MLVS0402LE08', 'MLVS0603L14', 'MLVS0603L14', 'MLVS0603L04',\n",
       "        'EGA10603V05B0', 'EGA10603V12B0', 'MLVS0603LE08', 'EGA10402V05B0',\n",
       "        'EGA10603V24B0', 'MIP1608P2R2MBP', 'MPA2016P2R2MBE',\n",
       "        'MIP25201R0MBE', 'MIP25201R5MBE', 'MIP25202R2MBE', 'MIP25202R2MBE',\n",
       "        'MIP25204R7MBE', 'MIP25204R7MBE', 'WIPC252010P-R22ML',\n",
       "        'WIP252012P-1R0ML', 'WIPC252012P-1R5ML', 'WIPC252012P-4R7ML'],\n",
       "       dtype=object),\n",
       " array(['WFP201210Y-1R0ML', 'WIP201612S-R47ML', 'WIP252012P-2R2ML',\n",
       "        'WFP201210Y-1R0ML', 'WIP252012P-2R2ML', 'WIP252012P-2R2ML'],\n",
       "       dtype=object),\n",
       " array(['MLVS0402LE06', 'MLVS1206P17-651'], dtype=object),\n",
       " array(['MCI0603TG0N6BHBP', 'MCI0603TG1N6BHBP'], dtype=object),\n",
       " array(['MCI1608HQ12NJHBP', 'MCI1608HQ18NJHBP', 'MCI1005HQ6N2SHBP',\n",
       "        'MHC2012S121QBP', 'MCI1608HQ5N6SHBP'], dtype=object),\n",
       " array(['MCI1608HQ5N6SHBP'], dtype=object),\n",
       " array(['MLVS1206AM35201F', 'MLVS1206AM25551F'], dtype=object),\n",
       " array(['MLVS0805AM14351F', 'MLVS0805AM04501F', 'MLVS0603AM11500F',\n",
       "        'EGA10603V12B0', 'MLVS1206AM35201F', 'MLVS0603AM30350F',\n",
       "        'MLVS0805AM30201F', 'MLVS0805AM30201F', 'MLVS0805AM11401F',\n",
       "        'MLVS0805AM06421F', 'MLVS0805AM20221F'], dtype=object),\n",
       " array(['ACA-5036-A7-CC-S'], dtype=object),\n",
       " array(['MLVG04023R0LV42BP', 'MLVG0402120LV18BP', 'MLVG0402220LV09BP',\n",
       "        'MLVG06033R0LV42BP', 'MLA0402V18', 'MLA0402V18E', 'MLA0603V18E',\n",
       "        'MLA0402V5.5', 'MLA0603V5.5L', 'MLA0402V9'], dtype=object),\n",
       " array(['EGA10603V12A0', 'EGA10402V05A0'], dtype=object),\n",
       " array(['MLVS0603AM02481F', 'MLVS1206AM50251F', 'MLVS1206AM50251F',\n",
       "        'MLVS1206AM50251F', 'MLVS0603AM30350F'], dtype=object),\n",
       " array(['SMCJ220CA-M'], dtype=object),\n",
       " array(['WIP252012P-2R2ML', 'WIP252012P-2R2ML', 'WIP252012P-2R2ML'],\n",
       "       dtype=object),\n",
       " array(['MHC2012S121UBP', 'MHC2012S121UBP', 'MHC1608P471ZBP1A5',\n",
       "        'MHC1608P471ZBP1A5'], dtype=object),\n",
       " array(['WIP252012S-2R2ML'], dtype=object),\n",
       " array(['MCB1608S601FBPC6', 'MCB1608S601FBPC6'], dtype=object),\n",
       " array(['zepto0201-PSR-29340', 'zepto0201-PSR-29340',\n",
       "        'zepto0201-PSR-29340', 'zepto0201-PSR-29340',\n",
       "        'zepto0201-PSR-29340'], dtype=object),\n",
       " array(['VPORT0402L100V05', 'MLVS0402LE06'], dtype=object),\n",
       " array(['MIP1608PR47MBP', 'MIP25201R5MBE', 'WFP201210Y-1R0ML',\n",
       "        'WIP201612S-R47ML', 'WIP201610Y-1R0ML', 'WIPC252010P-1R5ML',\n",
       "        'WIPC252010P-1R5ML', 'WIP252012P-1R0ML', 'WIPC252012P-1R5ML',\n",
       "        'WIPC252012P-4R7ML', 'WIPC252012P-R47ML', 'MLVS0603L14',\n",
       "        'MLVS0603L04', 'EGA10603V05B0', 'EGA10603V12B0', 'EGA10603V05B0',\n",
       "        'WFP201210Y-1R0ML'], dtype=object),\n",
       " array(['MLVS0402M02-181'], dtype=object),\n",
       " array(['MLVS0805AM14351F'], dtype=object),\n",
       " array(['MCB1005B601EBP', 'MCB1005B601EBP', 'MCB1608S102CBP',\n",
       "        'MCB1005B601EBP'], dtype=object),\n",
       " array(['SMBJ5.0CA-T'], dtype=object),\n",
       " array(['MLVS1206AM14701F', 'MLVS0402AM10101', 'MLVS1206AM20601F',\n",
       "        'MLVS0805AM08361F', 'MLVS1206AM35201F', 'MLVS0402AM06121',\n",
       "        'MLVS0402AM14750'], dtype=object),\n",
       " array(['MLVS0603AM04301F', 'MLVS0603AM04301F', 'MLVS1206AM40181F',\n",
       "        'EGA10402V05AH', 'EGA10603V05B0', 'EGA10603V12B0'], dtype=object),\n",
       " array(['MHC1005G121MBP'], dtype=object),\n",
       " array(['MCI1005HQ1N5SHBP', 'MCB1608S301HBP', 'MCI1005HQ1N0CHBP',\n",
       "        'MCI1005HQ2N7CHBP', 'MCI1005HQ2N0CHBP'], dtype=object),\n",
       " array(['MLVS0402LE06', 'MLVS0402LE06'], dtype=object),\n",
       " array(['MCI1005HQ1N2SHBP', 'MCI1005HQ3N9SHBP', 'MCI1005HQ2N7SHBP',\n",
       "        'MCB2012S601HBP'], dtype=object),\n",
       " array(['MCI1005HQ1N0CHBP', 'MCI1005HQ2N7CHBP', 'MCI1005HQ2N0CHBP',\n",
       "        'MCI1005HQ2N2CHBP', 'MCI1005HQR10JHBP', 'MHC1005P331ZBP1A2',\n",
       "        'MCI1005HQ1N0CHBP', 'MCI1005HQ2N7CHBP', 'MCI1005HQ2N0CHBP',\n",
       "        'MCI1005HQ2N0CHBP', 'MCI1005HQ2N0CHBP', 'MCI1005HQ2N2CHBP'],\n",
       "       dtype=object),\n",
       " array(['MLVS0402LE06', 'MLVS0402LE06'], dtype=object),\n",
       " array(['MLVS0402LE06'], dtype=object),\n",
       " array(['MCI1005HQ5N6SHBP'], dtype=object),\n",
       " array(['MCI1005HQ2N2CHBP'], dtype=object),\n",
       " array(['WIP252012S-R47ML'], dtype=object),\n",
       " array(['EGA10603V12A0'], dtype=object),\n",
       " array(['MLVG06033R0LV42BP', 'MLA0603V14', 'MLA0402V18', 'MLVS0402L14F',\n",
       "        'MLA0402V5.5L', 'MLA0402V5.5'], dtype=object),\n",
       " array(['WIP252012P-R68ML', 'WIP252012P-R68ML', 'WIP252012P-R68ML',\n",
       "        'WIP252012P-R68ML', 'WIP252012P-R68ML', 'WIP252012P-R68ML',\n",
       "        'WIP252012P-R68ML'], dtype=object),\n",
       " array(['MCB1005B601EBP'], dtype=object),\n",
       " array(['MCI1608HQ27NJHBP', 'MCI1005HQ1N2SHBP', 'MCI1005HQ1N2SHBP',\n",
       "        'MCI1005HQ2N7SHBP'], dtype=object),\n",
       " array(['WIP252012P-4R7ML', 'MCI0603TG3N9BHBP', 'MCI0603TG3N0BHBP',\n",
       "        'MHC1005P800ZBP2A3'], dtype=object),\n",
       " array(['MCB1005B102GBP'], dtype=object),\n",
       " array(['MCI1005HQ1N2SHBP', 'MCI1005HQ22NJHBP', 'MCI1005HQ3N9SHBP',\n",
       "        'MCI1005HQ1N8SHBP', 'MCI1005HQ2N7SHBP'], dtype=object),\n",
       " array(['MCI1005HQ1N0CHBP', 'MCI1005HQ2N7SHBP', 'MCI1005HQ2N7CHBP',\n",
       "        'MCI1005HQ2N0CHBP', 'MCI1005HQ2N2CHBP', 'MHC1005P331ZBP1A2'],\n",
       "       dtype=object),\n",
       " array(['MLVS0805AM30201F', 'MLVS0805AM30201F', 'MLVS0805AM30201F'],\n",
       "       dtype=object),\n",
       " array(['TVL 0201 01 AC1', 'SurgX Array (ESD41)', 'SurgX Array (ESD41)',\n",
       "        'SurgX0603ESDA2', 'SurgX0603ESDA2', 'SurgX Array (ESD41)'],\n",
       "       dtype=object),\n",
       " array(['MCB1005B601EBP', 'MHC1608P260Z06BP6A0', 'MHC1005G121MBP'],\n",
       "       dtype=object),\n",
       " array(['MHC3216S601PBE', 'MHC3216S601PBE', 'MHC3216S601PBE'], dtype=object),\n",
       " array(['MCB2012S601HBPC6'], dtype=object),\n",
       " array(['WIP252012S-2R2ML'], dtype=object),\n",
       " array(['WIP252012P-R68ML', 'WIP252012P-R68ML', 'WIP252012P-R68ML'],\n",
       "       dtype=object),\n",
       " array(['MCB1005B102EBT'], dtype=object),\n",
       " array(['MHC1608P260Z06BP6A0'], dtype=object),\n",
       " array(['MHC1005G121MBP'], dtype=object),\n",
       " array(['MCB1005B601EBP'], dtype=object),\n",
       " array(['EGA10402V05A0-C3', 'EGA10603V12A0', 'EGA10402V05A0',\n",
       "        'EGA41206V12A0', 'EGA10603V12A0-T', 'EGA10603V12A0-T'],\n",
       "       dtype=object),\n",
       " array(['TVL 0201 01 AC1'], dtype=object),\n",
       " array(['TVL 0201 01 AC1', 'TVL 0201 01 AC1'], dtype=object),\n",
       " array(['TVL 0201 01 AC1', 'TVL 0201 01 AC1'], dtype=object),\n",
       " array(['TVL 0201 01 AC1', 'MLVS0603L04', 'MLVG04020R5IV18BP',\n",
       "        'MLVG04020R5IV18BP', 'MLVG04020R5IV18BP', 'TVL 0201 01 AC1'],\n",
       "       dtype=object),\n",
       " array(['ACH-5036-A1-CC-S-00-E1', 'ACM0-3216-A1-CC-S-00-E1',\n",
       "        'ACD-5036-A3-CC-S-00-E1', 'ACM3-5036-A1-CC-S-00-E1',\n",
       "        'ACA-5036-A2-CC-S-00-E1'], dtype=object),\n",
       " array(['TVL 0201 01 AC1', 'TVL 0201 01 AC1'], dtype=object),\n",
       " array(['MLVS0603L20', 'MLVG04020R5IV18BP', 'WIPEA252012S-1R0ML'],\n",
       "       dtype=object),\n",
       " array(['MLVS0201V05330', 'MLVS0603L14', 'MLVS0603L14', 'MLVS0603L04',\n",
       "        'EGA10603V05B0', 'EGA10603V12B0', 'MLVS0603LE08',\n",
       "        'MLVA0805M04-330', 'EGA10402V24B0', 'MLVS0603AM25900',\n",
       "        'EGA10603V24B0', 'MIP1608P1R0MBP', 'MPA2016PR47MBE',\n",
       "        'MIP25202R2MBE', 'MIP25204R7MBE', 'MIP25204R7MBE', 'MIP2520R47MBE',\n",
       "        'WIP201610P-R47ML', 'WIPC252010P-R22ML', 'WIPC252010P-R47ML',\n",
       "        'WIP252012P-1R0ML', 'WIP252012P-2R2ML', 'WIPC252012P-1R0ML',\n",
       "        'WIPC252012P-1R5ML', 'WIPC252012P-2R2ML', 'WIPC252012P-2R2ML',\n",
       "        'WIPC252012P-R47ML', 'WIPC252012P-R68ML', 'WIP252012P-R47ML'],\n",
       "       dtype=object),\n",
       " array(['MLVG04020R5IV18BP', 'MLVG04020R5IV18BP', 'MLVG04020R5IV18BP'],\n",
       "       dtype=object),\n",
       " array(['MLVG04023R0LV42BP', 'MLA0402V14', 'MLA0603V14', 'MLA0402V18E',\n",
       "        'MLA0603V5.5L'], dtype=object),\n",
       " array(['EGA10402V05A0-C3', 'EGA10402V05A0', 'EGA41206V12A0',\n",
       "        'EGA10603V12A0-T'], dtype=object),\n",
       " array(['zepto0201-PSR-29340'], dtype=object),\n",
       " array(['WIP252012P-2R2ML'], dtype=object),\n",
       " array(['WIP252012P-1R0ML', 'WIP252012P-1R0ML', 'WIP252012P-1R0ML',\n",
       "        'WIP252012P-1R0ML', 'WIP252012P-1R0ML'], dtype=object),\n",
       " array(['WIP252010P-R22ML', 'WIP252012P-2R2ML', 'WIP252012P-2R2ML'],\n",
       "       dtype=object),\n",
       " array(['MLVS0603AM30350F', 'MLVS0603AM25900F', 'MLVS0805AM04501F'],\n",
       "       dtype=object),\n",
       " array(['MLVS1206AM40181F'], dtype=object),\n",
       " array(['MCI1005HQ39NJHBP', 'MCI1005HQ47NJHBP', 'MCI1005HQ56NJHBP',\n",
       "        'MCI1005HQ68NJHBP', 'MCI1005HQ6N8JHBP', 'MCI1005HQ7N5JHBP',\n",
       "        'MCI1005HQ82NJHBP', 'MCI1005HQ8N2JHBP', 'MCI1005HQ9N1JHBP',\n",
       "        'MCI1005HQR10JHBP', 'MCI1005HQR12JHBP', 'MCI1005HQR15JHBP',\n",
       "        'MCI1005HQ1N1SHBP', 'MCI1005HQ1N2SHBP', 'MCI1005HQ1N3SHBP',\n",
       "        'MCI1005HQ1N6SHBP', 'MCI1005HQ1N8SHBP', 'MCI1005HQ2N0SHBP',\n",
       "        'MCI1005HQ2N2SHBP', 'MCI1005HQ2N4SHBP'], dtype=object),\n",
       " array(['MCI1005HQ2N7SHBP', 'MCI1005HQ3N0SHBP', 'MCI1005HQ3N3SHBP',\n",
       "        'MCI1005HQ3N6SHBP', 'MCI1005HQ3N9SHBP', 'MCI1005HQ4N3SHBP',\n",
       "        'MCI1005HQ4N7SHBP', 'MCI1005HQ5N1SHBP', 'MCI1005HQ5N6SHBP'],\n",
       "       dtype=object),\n",
       " array(['WIP252012P-2R2ML'], dtype=object),\n",
       " array(['MLVS0603AM04301F', 'MLVS0603AM02481F', 'MLVS1206AM30501F',\n",
       "        'MLVS0805AM04501F', 'MLVS1206AM04152F'], dtype=object),\n",
       " array(['WIP201610P-1R0ML', 'WIP201610P-2R2ML', 'WIP252012P-2R2ML'],\n",
       "       dtype=object),\n",
       " array(['WIP201610S-R47ML', 'WIP201610P-1R0ML'], dtype=object),\n",
       " array(['MLVS0402LE06', 'MLVS0402LE06'], dtype=object),\n",
       " array(['MHC1608P260Z06BP6A0', 'MHC1608P260Z06BP6A0',\n",
       "        'MHC1608P260Z06BP6A0', 'MHC1608P260Z06BP6A0',\n",
       "        'MHC1608P260Z06BP6A0', 'MCB2012S601HBPC6', 'MCB2012S601HBPC6',\n",
       "        'MCB2012S601HBPC6'], dtype=object),\n",
       " array(['WIPC252012S-1R0ML', 'WIPC252012S-2R2ML', 'WIPC252012S-R47ML'],\n",
       "       dtype=object),\n",
       " array(['zepto0201-PSR-29340', 'zepto0201-PSR-29340'], dtype=object),\n",
       " array(['WIP252010P-2R2ML', 'WIP252010P-4R7ML'], dtype=object),\n",
       " array(['ACA-5036-A7-CC-S'], dtype=object),\n",
       " array(['MFI201210RKBE', 'WIP201610P-2R2ML', 'SMAJ12A-T', 'SMAJ36A-T',\n",
       "        'MHC1005S121MBP', 'MHC2012S121UBP', 'MHC2012S600QBP',\n",
       "        'WIP201610P-2R2ML', 'WIP201610P-2R2ML', 'MFI201210RKBE',\n",
       "        'MHC2012S600QBP'], dtype=object),\n",
       " array(['WIP252012P-1R0ML'], dtype=object),\n",
       " array(['MLVS0603AM20800F', 'MLVS0603AM20800F'], dtype=object),\n",
       " array(['WIPC252012S-R47ML', 'WIPC252012S-1R0ML', 'WIPC252012S-2R2ML'],\n",
       "       dtype=object),\n",
       " array(['MLVS1206AM30501F', 'MLVS0805AM30201F', 'MLVS0603AM20800F'],\n",
       "       dtype=object),\n",
       " array(['MLVS0805AM14351F', 'EGA10402V05AH', 'MLVS1206AM40181F'],\n",
       "       dtype=object),\n",
       " array(['WIP252012S-2R2ML'], dtype=object),\n",
       " array(['MLVS1206AM04152F'], dtype=object),\n",
       " array(['MLVS1206AM40181F', 'EGA10603V05B0', 'EGA10402V05AH'], dtype=object),\n",
       " array(['MHC3216S601PBE', 'MHC3216S601PBE', 'MHC3216S601PBE'], dtype=object),\n",
       " array(['MLVS1206AM14701F', 'MLVS0603AM11500F', 'MLVS0402AM04241',\n",
       "        'MLVS1206AM30501F', 'MLVS0805AM11401F', 'MLVS0805AM30201F',\n",
       "        'MLVS1206AM30501F', 'MLVS0402AM14750'], dtype=object),\n",
       " array(['MLVS0603AM02481F', 'MLVS0402AM10101', 'MLVS1206AM11461F',\n",
       "        'MLVS1206AM30501F', 'MLVS0805AM11401FW'], dtype=object),\n",
       " array(['TVL 0201 01 AC1'], dtype=object),\n",
       " array(['TVL 0201 01 AC1'], dtype=object),\n",
       " array(['WIPEA252012S-1R0ML', 'WIPEA252012S-1R0ML', 'MLVS0603L20',\n",
       "        'MLVG04020R5IV18BP', 'SurgX0603ESDA2'], dtype=object),\n",
       " array(['WIP252010S-R47ML', 'WIP252010S-R47ML'], dtype=object),\n",
       " array(['MLVS1206AM04152F', 'MLVS1206AM14701F', 'MLVS1206AM35201F',\n",
       "        'MLVS0805AM20221F', 'MLVS0805AM30201F', 'MLVS0805AM35171F',\n",
       "        'MLVS1206AM14701F', 'MLVS1206AM14701F', 'MLVS1206AM30501F',\n",
       "        'MLVS1206AM30501F'], dtype=object),\n",
       " array(['EGA10603V12B0'], dtype=object),\n",
       " array(['WIPC252012S-R47ML', 'WIP252012S-R47ML'], dtype=object),\n",
       " array(['MCB2012S121KBPC6', 'MCB2012S121KBPC6', 'MHC1608P260Z06BP6A0',\n",
       "        'MCB1005B601EBP', 'MCB1005B102EBP', 'MCB1608S601FBPC6',\n",
       "        'MCB2012S121KBPC6'], dtype=object),\n",
       " array(['MCI0603TG1N8CHBP', 'MCI0603TG6N2HHBP', 'MCI1005HW1N0SHBP',\n",
       "        'MCI1005HQ2N2BHBP'], dtype=object),\n",
       " array(['WIP252012P-1R0ML', 'WIP252012P-2R2ML'], dtype=object),\n",
       " array(['MLVG04023R0LV42BP', 'MLVG0402220LV09BP', 'MLVG06033R0LV42BP',\n",
       "        'MLA0402V14', 'MLA0603V14', 'MLA0402V18', 'MLVS0402L14F',\n",
       "        'MLA0402V18E', 'MLA0603V26', 'MLA0603V5.5L', 'MLA0402V9'],\n",
       "       dtype=object),\n",
       " array(['EGA10402V05A0-C3', 'EGA10603V12A0', 'EGA10402V05A0'], dtype=object),\n",
       " array(['MLVS1206AM25551F', 'MLVS0805AM04501F', 'MLVS0805AM14351F',\n",
       "        'MLVS1206AM20601F', 'EGA10402V05AH', 'MLVS0603AM04301F',\n",
       "        'MLVS0402AM04241'], dtype=object),\n",
       " array(['MHC1608P260Z06BP6A0', 'MHC1608P260Z06BP6A0'], dtype=object),\n",
       " array(['WIP252012P-1R0ML', 'WIP252012P-1R0ML', 'WIP252012P-1R0ML',\n",
       "        'WIP252012P-1R0ML', 'WIP252012P-1R0ML'], dtype=object),\n",
       " array(['ACM4-5036-A1-CC-S-00'], dtype=object),\n",
       " array(['ACM0-3216-A1-CC-S-00'], dtype=object),\n",
       " array(['MHC1608P260Z06BP6A0', 'MHC1608P260Z06BP6A0',\n",
       "        'MHC1608P260Z06BP6A0', 'MHC1608P260Z06BP6A0', 'MCB1005B601EBP'],\n",
       "       dtype=object),\n",
       " array(['SurgX Array (ESD41)', 'SurgX0603ESDA2', 'SurgX0603ESDA2'],\n",
       "       dtype=object),\n",
       " array(['WIPEA252012S-1R0ML', 'MLVS0603L20'], dtype=object),\n",
       " array(['MCM2012B670GBE', 'MCM2012B900GBE'], dtype=object),\n",
       " array(['SurgX Array (ESD41)', 'SurgX0603ESDA2', 'SurgX0603ESDA2',\n",
       "        'MLVG04020R5IV18BP'], dtype=object),\n",
       " array(['WIPEA252012S-1R0ML', 'WIPEA252012S-1R0ML', 'MLVS0402L04',\n",
       "        'SurgX0603ESDA2', 'SurgX0603ESDA2', 'MLVG04020R5IV18BP',\n",
       "        'SurgX0603ESDA2'], dtype=object),\n",
       " array(['AIP0603GX-1R0MPB', 'AIP0603GX-1R8MPB', 'AIP0603GX-2R2MPB',\n",
       "        'AIP0603GX-3R3MPB', 'AIP0603GX-4R7MPB', 'AIP0603GX-6R8MPB',\n",
       "        'AIP0603GX-100MPB', 'AIP0603GX-220MPB', 'AIP0603GX-100MPB'],\n",
       "       dtype=object),\n",
       " array(['WIP252012S-R47ML'], dtype=object),\n",
       " array(['MLVS1206AM40181F', 'MLVS1206AM40181F'], dtype=object),\n",
       " array(['MLVG04023R0LV42BP', 'MLVG0402120LV18BP', 'MLVG0402220LV09BP',\n",
       "        'MLVG06033R0LV42BP', 'MLA0402V18E', 'MLA0603V18E', 'MLA0603V26',\n",
       "        'MLA0402V5.5L', 'MLA0603V5.5L', 'MLA0402V9', 'MLVG04023R0LV42BP'],\n",
       "       dtype=object),\n",
       " array(['EGA10603V12A0', 'EGA10402V05A0', 'EGA41206V12A0',\n",
       "        'EGA10603V12A0-T'], dtype=object),\n",
       " array(['MCB1608S601FBPC6', 'MCB2012S121KBPC6', 'MCB1005B601EBP'],\n",
       "       dtype=object),\n",
       " array(['MLVG04020R5IV18BP', 'SurgX Array (ESD41)', 'TVL 0201 01 AC1',\n",
       "        'WIPEA252012S-1R0ML', 'WIPEA252012S-1R0ML', 'WIPEA252012S-1R0ML',\n",
       "        'SurgX0603ESDA2', 'WIPEA252012S-1R0ML', 'WIPEA252012S-1R0ML'],\n",
       "       dtype=object),\n",
       " array(['WIP201610P-2R2ML', 'WIP201610P-1R0ML'], dtype=object),\n",
       " array(['WIP252012P-1R0ML', 'MCB1005S601FBP', 'MCB1005S601FBP'],\n",
       "       dtype=object),\n",
       " array(['MHC1608P260Z06BP6A0'], dtype=object),\n",
       " array(['MLVS0603L04'], dtype=object),\n",
       " array(['WIPEA252012S-1R0ML', 'MLVS0402L04', 'MLVG04023R0TV18BP'],\n",
       "       dtype=object),\n",
       " array(['WIP252010S-1R0ML', 'MCI1005HQ1N8BHBP', 'MCI1005HQ2N7BHBP',\n",
       "        'MCI1005HQ3N9BHBP', 'MCI1005HQ4N3BHBP', 'MCI1005HQ4N7BHBP'],\n",
       "       dtype=object),\n",
       " array(['MHC1608S600QBP', 'MCB1608S152HBP', 'MHC3216S800RBE'], dtype=object),\n",
       " array(['MCI1005HQ1N2SHBP', 'MCI1005HQ27NJHBP', 'MHC1005P331ZBP1A2',\n",
       "        'MCI1005HQ1N2CHBP', 'MCI1005HQ1N2CHBP', 'MCI1005HQ1N8CHBP',\n",
       "        'MCI1005HQ1N8CHBP', 'MCI1005HQ2N2CHBP', 'MCI1005HQ3N3CHBP',\n",
       "        'MCI1005HQ3N9CHBP', 'MCI1005HQ4N7CHBP', 'MCI1005HQ6N2CHBP',\n",
       "        'MCI1005HQ10NJHBP', 'MCI1005HQ15NJHBP', 'MCI1005HQ15NJHBP',\n",
       "        'MCI1005HQ18NJHBP'], dtype=object),\n",
       " array(['MLVS0603AM14101F', 'MLVS1206AM30501F'], dtype=object),\n",
       " array(['MCB2012S601HBPC6'], dtype=object),\n",
       " array(['MLVG04021R0UV18BP', 'WIPEA252012S-1R0ML', 'TVL 0201 01 AC1'],\n",
       "       dtype=object),\n",
       " array(['MCI1005HQ3N9BHBP', 'MCI1005HQ10NGHBP'], dtype=object),\n",
       " array(['MLVS0402LE06', 'MLVS0402LE06', 'MLVS0402LE06', 'MLVS0402LE06'],\n",
       "       dtype=object),\n",
       " array(['WIP252012P-4R7ML'], dtype=object),\n",
       " array(['MCB2012S121KBPC6'], dtype=object),\n",
       " array(['TVL 0201 01 AC1', 'MLVS0603L20'], dtype=object),\n",
       " array(['SurgX Array (ESD41)', 'SurgX Array (ESD41)', 'TVL 0201 01 AC1',\n",
       "        'SurgX Array (ESD41)'], dtype=object),\n",
       " array(['WIP201610P-2R2ML', 'WIP201610P-2R2ML', 'WIP201610P-2R2ML'],\n",
       "       dtype=object),\n",
       " array(['MHC1005G121MBP'], dtype=object),\n",
       " array(['MLVS0402LE06'], dtype=object),\n",
       " array(['EGA10402V05AH', 'MLVS0603AM11500F', 'MLVS1206AM04152F'],\n",
       "       dtype=object),\n",
       " array(['WIP252012P-1R0ML'], dtype=object),\n",
       " array(['MHC1608P260Z06BP6A0', 'MHC1608P260Z06BP6A0',\n",
       "        'MHC1608P260Z06BP6A0', 'MHC1608S800QBP', 'MHC1608P260Z06BP6A0'],\n",
       "       dtype=object),\n",
       " array(['WIP201612S-R47ML', 'WIP201612S-R47ML'], dtype=object),\n",
       " array(['MLVS0402LE08', 'MLVS0603L14', 'MLVS0603L14', 'MLVS0603L20',\n",
       "        'MLVS0603L04', 'MLVS0603L04', 'EGA10603V05B0', 'EGA10603V12B0',\n",
       "        'EGA10603V05B0', 'EGA10603V12B0', 'EGA10603V24B0', 'MIP25201R0MBE',\n",
       "        'MIP25201R5MBE', 'MIP25204R7MBE', 'MIP2520R47MBE',\n",
       "        'WIPC252010P-R22ML', 'WIPC252010P-R68ML', 'WIP252012P-1R0ML',\n",
       "        'WIP252012P-2R2ML', 'WIP252012P-2R2ML', 'WIPC252012P-1R5ML',\n",
       "        'WIPC252012P-1R5ML', 'WIPC252012P-2R2ML', 'WIPC252012P-4R7ML',\n",
       "        'WIPC252012P-R47ML', 'WIP252012P-R47ML', 'WIP252012P-R68ML'],\n",
       "       dtype=object),\n",
       " array(['MLVS0402LE06', 'MLVS0402LE06', 'MLVS0402LE06', 'MLVS0402LE06',\n",
       "        'MLVS0402LE06'], dtype=object),\n",
       " array(['WIP252010P-2R2ML', 'WIP252012S-1R0ML', 'WIP252010P-2R2ML'],\n",
       "       dtype=object),\n",
       " array(['MCB1608S601FBPC6', 'MCB2012S601HBPC6', 'MCB2012S601HBPC6',\n",
       "        'MCB2012S601HBPC6', 'MCB2012S601HBPC6'], dtype=object),\n",
       " array(['MLVS0603L14', 'MLVS0603L20', 'EGA10603V05B0', 'EGA10603V12B0',\n",
       "        'MLVS0603LE10', 'EGA10603V05B0', 'MIP1608PR47MBP', 'MIP25201R5MBE',\n",
       "        'MIP25202R2MBE', 'WIP201610P-1R0ML', 'WIP201610P-2R2ML',\n",
       "        'WIP201610Y-1R0ML', 'WIPC252010P-4R7ML', 'WIP252012P-1R0ML',\n",
       "        'WIP252012P-1R0ML', 'WIPC252012P-1R0ML', 'WIPC252012P-4R7ML',\n",
       "        'WIP252012P-R47ML', 'WIP252012P-R68ML', 'MIP1608PR47MBP'],\n",
       "       dtype=object),\n",
       " array(['MHC1005S121MBP', 'MHC2012S121UBP', 'MHC2012S600QBP',\n",
       "        'MHC2012S121UBP', 'MHC2012S600QBP', 'MHC1005S121MBP',\n",
       "        'MHC2012S121UBP', 'MHC2012S600QBP'], dtype=object),\n",
       " array(['TVL 0201 01 AC1', 'MLVG04023R0TV18BP', 'SurgX Array (ESD41)',\n",
       "        'WIPEA252012S-1R0ML', 'WIPEA252012S-1R0ML', 'WIPEA252012S-1R0ML',\n",
       "        'WIPEA252012S-1R0ML', 'MLVS0603L20', 'MLVG04021R0UV18BP',\n",
       "        'SurgX0603ESDA2', 'TVL 0201 01 AC1'], dtype=object),\n",
       " array(['TVL 0201 01 AC1'], dtype=object),\n",
       " array(['MLVS0805AM25251F', 'MLVS0603AM11500F', 'MLVS1206AM04152F',\n",
       "        'MLVS1206AM14701F'], dtype=object),\n",
       " array(['TVL 0402 01 AB1'], dtype=object),\n",
       " array(['WIPEA252012S-1R0ML', 'WIPEA252012S-1R0ML'], dtype=object),\n",
       " array(['MLVS0402L14', 'WIPEA252012S-1R0ML', 'WIPEA252012S-1R0ML'],\n",
       "       dtype=object),\n",
       " array(['MHC1608P260Z06BP6A0'], dtype=object),\n",
       " array(['WIPC252012S-R47ML'], dtype=object),\n",
       " array(['WIP252012P-R68ML'], dtype=object),\n",
       " array(['MLVS1206AM25551F'], dtype=object),\n",
       " array(['MHC3216S601PBE', 'MHC3216S601PBE', 'MHC3216S601PBE'], dtype=object),\n",
       " array(['MLVS0805AM25251F', 'MLVS1206AM30501F', 'EGA10603V12B0',\n",
       "        'MLVS0603AM04301F', 'MLVS1206AM25551F', 'MLVS1206AM35201F',\n",
       "        'MLVS1206AM20601F', 'MLVS0603AM30350F'], dtype=object),\n",
       " array(['MHC1608P601ZBP1A3', 'MHC1005P331ZBP1A2', 'MCI1005HQ1N8SHBP',\n",
       "        'MCI0603TG1N0BHBP', 'MCI0603TG1N2BHBP', 'MCI0603TG1N5BHBP',\n",
       "        'MCI0603TG1N8BHBP', 'MCI0603TG2N0BHBP', 'MCI0603TG2N4BHBP',\n",
       "        'MCI0603TG2N6BHBP', 'MCI0603TG2N7BHBP', 'MCI0603TG3N0BHBP',\n",
       "        'MCI0603TG3N3BHBP', 'MCI0603TG3N9BHBP', 'MCI0603TG12NHHBP',\n",
       "        'MCI0603TG15NHHBP', 'MCI0603TG18NHHBP'], dtype=object),\n",
       " array(['EGA10402V05AH', 'MLVS0805AM30201F', 'MLVS0805AM30201F'],\n",
       "       dtype=object),\n",
       " array(['WIP252010P-R22ML'], dtype=object),\n",
       " array(['MHC1005G121MBP'], dtype=object),\n",
       " array(['WIP201610P-R47ML'], dtype=object),\n",
       " array(['WIP252012P-R68ML'], dtype=object),\n",
       " array(['MLVS0603L14', 'MLVS0603L04', 'EGA10603V05B0', 'MLVS0603LE08',\n",
       "        'EGA10402V24B0', 'EGA10603V05B0', 'MIP25202R2MBE', 'MIP25203R3MBE',\n",
       "        'WIPC201610P-1R0ML', 'WIP252012P-1R0ML', 'WIP252012P-2R2ML',\n",
       "        'WIPC252012P-1R5ML', 'WIPC252012P-4R7ML', 'WIPC252012P-R47ML'],\n",
       "       dtype=object),\n",
       " array(['MCM2012B221FBE'], dtype=object),\n",
       " array(['MCB1005S102FBP', 'MHC3216S800RBE'], dtype=object),\n",
       " array(['EGA10603V05B0', 'MLVS0603AM04301F', 'MLVS1206AM25551F'],\n",
       "       dtype=object),\n",
       " array(['MLVG04025R0QV09BP', 'MLVG04021R0UV18BP', 'MLVS0603L20'],\n",
       "       dtype=object),\n",
       " array(['MLVS1206AM40181F', 'MLVS0805AM14351F', 'MLVS0603AM04301F',\n",
       "        'MLVS0805AM11401F'], dtype=object),\n",
       " array(['WIP252012P-1R0ML'], dtype=object),\n",
       " array(['WIP201610S-2R2ML'], dtype=object),\n",
       " array(['MCI0603TG1N8CHBP', 'MCI0603TG6N2HHBP', 'MCI0603HQ2N0SHBP',\n",
       "        'MCI1005HQ1N5BHBP', 'MCI1005HQ1N0SHBP'], dtype=object),\n",
       " array(['HCM1012GD900A05P'], dtype=object),\n",
       " array(['MLVS0603AM14101F', 'MLVS0603AM20800', 'MLVS0603AM25900',\n",
       "        'MLVS0603AM25900F', 'MLVS0603AM02481', 'MLVS0603AM04301F',\n",
       "        'MLVS0603AM04301F', 'MLVS0603AM06241', 'MLVS0603AM07241',\n",
       "        'MLVS0603AM07241', 'MLVS0603AM11500', 'MLVS0603AM11500',\n",
       "        'MLVS0603AM30350F', 'MLVS1206AM14701', 'MLVS1206AM17841',\n",
       "        'MLVS1206AM20601', 'MLVS1206AM20601', 'MLVS1206AM25551',\n",
       "        'MLVS1206AM30501F', 'MLVS1206AM35201', 'MLVS1206AM60121',\n",
       "        'MLVS1206AM04152', 'MLVS0603AM04301F'], dtype=object),\n",
       " array(['MCB1005B601EBP'], dtype=object),\n",
       " array(['TVL 0201 01 AC1', 'WIPEA252012S-1R0ML', 'WIPEA252012S-1R0ML',\n",
       "        'MLVS0603L04', 'MLVG04021R0UV18BP', 'MLVG04023R0TV18BP',\n",
       "        'SurgX0603ESDA2', 'SurgX Array (ESD41)', 'WIPEA252012S-1R0ML',\n",
       "        'MLVG04020R5IV18BP'], dtype=object),\n",
       " array(['MCI1005HQ33NJHBP', 'MCI1005HQ1N8SHBP', 'MCI1005HQ33NJHBP'],\n",
       "       dtype=object),\n",
       " array(['MHC3216S601PBE', 'MHC3216S601PBE', 'MHC3216S601PBE',\n",
       "        'MHC3216S601PBE', 'WIP252010P-2R2ML', 'WIP252010P-2R2ML'],\n",
       "       dtype=object),\n",
       " array(['zepto0201-PSR-29340'], dtype=object),\n",
       " array(['zepto0201-PSR-29326'], dtype=object),\n",
       " array(['zepto0201-PSR-29340', 'zepto0201-PSR-29340',\n",
       "        'zepto0201-PSR-29340', 'zepto0201-PSR-29340',\n",
       "        'zepto0201-PSR-29340', 'zepto0201-PSR-29340',\n",
       "        'zepto0201-PSR-29340'], dtype=object),\n",
       " array(['WIP252012P-1R0ML', 'WIP252012P-R68ML'], dtype=object),\n",
       " array(['MLVG04020R5IV18BP', 'SurgX0603ESDA2'], dtype=object),\n",
       " array(['MCB2012S601HBPC6', 'MCB2012S601HBPC6', 'MCB2012S601HBPC6',\n",
       "        'MCB2012S601HBPC6'], dtype=object),\n",
       " array(['TVL 0201 01 AC1'], dtype=object),\n",
       " array(['ACA-5036-A7-CC-S'], dtype=object),\n",
       " array(['MHC1005G121MBP'], dtype=object),\n",
       " array(['WIP252012P-1R0ML'], dtype=object),\n",
       " array(['MCB1005S102FBP'], dtype=object),\n",
       " array(['SMAJ12A-T'], dtype=object),\n",
       " array(['MLVS0603L14'], dtype=object),\n",
       " array(['MLVS0603AM25900F', 'EGA10603V05B0', 'EGA10402V05AH',\n",
       "        'EGA10402V05AH', 'MLVS1206AM40181F', 'MLVS1206AM25551F',\n",
       "        'MLVS1206AM50251F'], dtype=object),\n",
       " array(['zepto0201-PSR-29340', 'zepto0201-PSR-29340',\n",
       "        'zepto0201-PSR-29340', 'zepto0201-PSR-29340',\n",
       "        'zepto0201-PSR-29340'], dtype=object),\n",
       " array(['zepto0201-PSR-29326', 'zepto0201-PSR-29326',\n",
       "        'zepto0201-PSR-29326', 'zepto0201-PSR-29326'], dtype=object),\n",
       " array(['MLVG04023R0LV42BP', 'MLVG06033R0LV42BP', 'MLVG0603120LV18BP',\n",
       "        'MLA0402V14', 'MLA0402V18', 'MLA0603V18', 'MLA0402V18E',\n",
       "        'MLA0603V26', 'MLA0402V5.5L', 'MLA0603V5.5L'], dtype=object),\n",
       " array(['EGA10603V12A0', 'EGA10402V05A0', 'EGA10603V12A0-T'], dtype=object),\n",
       " array(['MHC1608P260Z06BP6A0', 'MCB1608S601FBPC6', 'MCB2012S601HBPC6',\n",
       "        'MCB2012S121KBPC6'], dtype=object),\n",
       " array(['WIPC252012S-R47ML', 'WIPC252012S-1R0ML', 'WIPC252012S-2R2ML'],\n",
       "       dtype=object),\n",
       " array(['MLVG0402120LV18BP', 'MLVG06033R0LV42BP', 'MLVG0603120LV18BP',\n",
       "        'MLA0402V14', 'MLA0603V14', 'MLA0402V18', 'MLVS0402L14F',\n",
       "        'MLA0402V18E', 'MLA0603V26', 'MLA0402V5.5', 'MLA0402V5.5'],\n",
       "       dtype=object),\n",
       " array(['EGA10402V05A0-C3', 'EGA10603V12A0', 'EGA10402V05A0'], dtype=object),\n",
       " array(['MCB1005S601FBP', 'MCI1005HQ1N2CHBP', 'MCI1005HQ1N2CHBP',\n",
       "        'MCI1005HQ1N8CHBP', 'MCI1005HQ1N8CHBP', 'MCI1005HQ3N3CHBP',\n",
       "        'MCI1005HQ3N9CHBP', 'MCI1005HQ4N7CHBP', 'MCI1005HQ6N2CHBP',\n",
       "        'MCI1005HQ10NJHBP', 'MCI1005HQ15NJHBP', 'MCI1005HQ15NJHBP',\n",
       "        'MCI1005HQ15NJHBP', 'MCI1005HQ18NJHBP', 'MCI1005HQ6N8JHBP',\n",
       "        'MCI1005HQR10JHBP'], dtype=object),\n",
       " array(['WIPC252012S-1R0ML', 'WIPC252012S-2R2ML', 'WIPC252012S-R47ML',\n",
       "        'WIPC252012S-1R0ML', 'WIPC252012S-2R2ML', 'WIPC252012S-R47ML'],\n",
       "       dtype=object),\n",
       " array(['MHC1005S121MBP', 'MHC2012S121UBP', 'MHC2012S600QBP'], dtype=object),\n",
       " array(['WIP252012P-2R2ML'], dtype=object),\n",
       " array(['MLVS0402L14', 'MLVS0603L14', 'EGA10603V05B0', 'EGA10603V12B0',\n",
       "        'MLVS0603AM25900', 'EGA10603V05B0', 'EGA10603V12B0',\n",
       "        'EGA10603V24B0', 'EGA10603V24B0', 'MIP25201R5MBE', 'MIP25202R2MBE',\n",
       "        'MIP25202R2MBE', 'MIP25203R3MBE', 'MIP25204R7MBE',\n",
       "        'WIP201610P-1R0ML', 'WIP201610P-2R2ML', 'WIPC201610P-1R0ML',\n",
       "        'WIP201610P-R33ML', 'WFP201210Y-1R0ML', 'WFP201210Y-1R0ML',\n",
       "        'WIPRB252010P-4R7ML', 'WIPRB252010P-4R7ML', 'WIPC252010P-4R7ML',\n",
       "        'WIPC252010P-R68ML', 'WIP252012P-1R0ML', 'WIP252012P-1R0ML',\n",
       "        'WIPC252012P-1R5ML', 'WIPC252012P-2R2ML'], dtype=object),\n",
       " array(['MLVS0402L14F', 'MLA0402V5.5L', 'MLA0402V9L'], dtype=object),\n",
       " array(['EGA10402V05A0'], dtype=object),\n",
       " array(['WIPEA252012S-1R0ML'], dtype=object),\n",
       " array(['TVL 0201 01 AC1', 'TVL 0201 01 AC1', 'SurgX0603ESDA2'],\n",
       "       dtype=object),\n",
       " array(['EGA10603V12B0', 'EGA10402V05AH', 'MLVS1206AM40181F',\n",
       "        'MLVS0603AM14101F', 'MLVS1206AM35201F', 'MLVS0805AM04501F',\n",
       "        'MLVS0805AM08361F', 'MLVS0805AM14351F', 'MLVS0805AM25251F',\n",
       "        'MLVS1206AM20601F', 'MLVS1206AM30501F', 'MLVS0603AM25900F'],\n",
       "       dtype=object),\n",
       " array(['MCI1005HQ1N0CHBP', 'MCI1005HQ2N7CHBP', 'MCI1005HQ2N0CHBP',\n",
       "        'MCI1005HQ2N0CHBP', 'MCI1005HQ2N2CHBP', 'MHC1005P331ZBP1A2',\n",
       "        'MHC2012S301NBP', 'MHC1608S121PBP', 'MHC1608S601LBP',\n",
       "        'MCB1005S601FBP', 'MHC2012S121QBP', 'MCB1608S221HBP',\n",
       "        'MCI1005HQ6N8JHBP'], dtype=object),\n",
       " array(['MLVS0402LE06', 'MLVS0805P35-171'], dtype=object),\n",
       " array(['MHC1005P121ZBP2A0', 'MHC1608S300QBP', 'MHC2012S301NBP',\n",
       "        'MCI1005HQ1N5BHBP', 'MHC1608S121PBP', 'MHC1608S601LBP',\n",
       "        'MHC1608S301NBP', 'MCB1005S601FBP', 'MHC2012S121QBP',\n",
       "        'MHC2012S310WBP', 'MCI1005HQ1N3BHBP', 'MCI1005HQ4N7SHBP'],\n",
       "       dtype=object),\n",
       " array(['HCM1012GD900A05P'], dtype=object),\n",
       " array(['WIP252010P-2R2ML', 'MCI1005HQ0N5BHBP', 'MCI1005HQ10NJHBP',\n",
       "        'MCI1005HQ3N0BHBP'], dtype=object),\n",
       " array(['MLVG04023R0LV42BP', 'MLVG0402120LV18BP', 'MLVG06033R0LV42BP',\n",
       "        'MLA0402V14', 'MLA0603V14', 'MLA0402V18E', 'MLA0603V26',\n",
       "        'MLA0402V5.5', 'MLA0603V5.5L'], dtype=object),\n",
       " array(['MLVG06033R0LV42BP', 'MLVS0402L14F', 'MLA0402V5.5'], dtype=object),\n",
       " array(['EGA10603V12A0', 'EGA10402V05A0', 'EGA41206V12A0'], dtype=object),\n",
       " array(['EGA10402V05A0-C3', 'EGA10603V12A0', 'EGA10402V05A0',\n",
       "        'EGA41206V12A0'], dtype=object),\n",
       " array(['MLVS0805AM35171F', 'MLVS0805AM35171F'], dtype=object),\n",
       " array(['WIP252012P-2R2ML', 'WIP252012P-2R2ML', 'WIP252012P-2R2ML',\n",
       "        'WIP252012P-2R2ML', 'WIP252012S-R47ML', 'WIP252012S-R47ML'],\n",
       "       dtype=object),\n",
       " array(['WIPC252012S-1R0ML', 'WIPC252012S-2R2ML', 'WIPC252012S-R47ML'],\n",
       "       dtype=object),\n",
       " array(['WIP201610Y-1R0ML'], dtype=object),\n",
       " array(['MLVS1206AM11461F'], dtype=object),\n",
       " array(['MLVG04023R0LV42BP', 'MLVG0402120LV18BP', 'MLVG06033R0LV42BP',\n",
       "        'MLVG0603120LV18BP', 'MLA0402V5.5'], dtype=object),\n",
       " array(['EGA10603V12A0', 'EGA41206V12A0', 'CGA10201V05B0'], dtype=object),\n",
       " array(['ACA-5036-A7-CC-S', 'ACA-5036-A7-CC-S'], dtype=object),\n",
       " array(['EGA41206V12B0', 'MLVS0805AM11401FW'], dtype=object),\n",
       " array(['MCB2012S121KBPC6', 'MCB2012S601HBPC6'], dtype=object),\n",
       " array(['WIPC252012S-1R0ML', 'WIPC252012S-2R2ML', 'WIPC252012S-R47ML',\n",
       "        'WIPC252012S-R47ML'], dtype=object),\n",
       " array(['WIP252012S-1R0ML', 'WIP252012P-R68ML'], dtype=object),\n",
       " array(['WIP252012P-2R2ML'], dtype=object),\n",
       " array(['WIPEA252012S-1R0ML'], dtype=object),\n",
       " array(['SurgX0603ESDA2', 'TVL 0201 01 AC1'], dtype=object),\n",
       " array(['MLVS0805AM35171F', 'MLVS1206AM40181F'], dtype=object),\n",
       " array(['MLVS1206AM11461F', 'MLVS1206AM11461F', 'MLVS1206AM11461F'],\n",
       "       dtype=object),\n",
       " array(['EGA10603V12B0'], dtype=object),\n",
       " array(['MLVS1206AM11461F', 'EGA10603V05B0', 'MLVS1206AM30501F',\n",
       "        'MLVS1206AM40181F', 'MLVS0603AM02481F', 'MLVS1206AM14701F',\n",
       "        'MLVS0603AM14101F', 'MLVS0603AM30350F'], dtype=object),\n",
       " array(['MCB1005B601EBP', 'MHC1005G121MBP'], dtype=object),\n",
       " array(['MCB1005B601EBP'], dtype=object),\n",
       " array(['MLVS0402L04', 'TVL 0201 01 AC1'], dtype=object),\n",
       " array(['SurgX0603ESDA2', 'MLVG04021R0UV18BP', 'SurgX0603ESDA2'],\n",
       "       dtype=object),\n",
       " array(['MCB1608S102CBP'], dtype=object),\n",
       " array(['WIP252010P-2R2ML', 'WIP252010P-2R2ML', 'WIP252012S-2R2ML'],\n",
       "       dtype=object),\n",
       " array(['HCM1012GD900A05P'], dtype=object),\n",
       " array(['MLVS1206AM11461F', 'MLVS1206AM30501F', 'MLVS1206AM30501F',\n",
       "        'MLVS1206AM30501F', 'MLVS1206AM30501F', 'MLVS1206AM30501F',\n",
       "        'MLVS1206AM30501F', 'MLVS1206AM30501F', 'MLVS0805AM25251F',\n",
       "        'MLVS0805AM25251F', 'MLVS0805AM25251F', 'MLVS0805AM25251F',\n",
       "        'MLVS0805AM25251F', 'MLVS0805AM25251F', 'MLVS0805AM25251F',\n",
       "        'MLVS1206AM30501F'], dtype=object),\n",
       " array(['MLVS0402AM14750'], dtype=object),\n",
       " array(['EGA10603V05B0', 'EGA10603V12B0', 'EGA10402V05AH',\n",
       "        'MLVS1206AM04152F', 'MLVS1206AM40181F', 'MLVS0603AM14101F',\n",
       "        'MLVS0603AM02481F', 'MLVS0402AM10101', 'MLVS1206AM11461F',\n",
       "        'MLVS1206AM30501F', 'MLVS0805AM08361F', 'MLVS0805AM11401F',\n",
       "        'MLVS0805AM20221F', 'MLVS0805AM25251F', 'MLVS1206AM25551F',\n",
       "        'MLVS1206AM30501F', 'MLVS0603AM06241F', 'MLVS0603AM25900F',\n",
       "        'MLVS1206AM04152F'], dtype=object),\n",
       " array(['MLVG04023R0LV42BP', 'MLVG0402120LV18BP', 'MLA0402V14',\n",
       "        'MLA0603V14', 'MLVS0402L14F', 'MLA0402V18E', 'MLA0603V26',\n",
       "        'MLA0402V5.5L', 'MLA0402V5.5', 'MLA0402V9L'], dtype=object),\n",
       " array(['MCI0603HQ0N6BHBP', 'MCI0603HQ0N8BHBP', 'MCI0603HQ1N0BHBP',\n",
       "        'MCI0603HQ1N2BHBP', 'MCI0603HQ1N5BHBP', 'MCI0603HQ1N8BHBP',\n",
       "        'MCI0603HQ2N0BHBP', 'MCI0603HQ2N2BHBP', 'MCI0603HQ2N4BHBP',\n",
       "        'MCI0603HQ2N7BHBP', 'MCI0603HQ3N0BHBP', 'MCI0603HQ3N3BHBP',\n",
       "        'MCI0603HQ3N6BHBP', 'MCI0603HQ3N9BHBP', 'MCI0603HQ4N3BHBP',\n",
       "        'MCI0603HQ4N7BHBP', 'MCI0603HQ5N1BHBP', 'MCI0603HQ5N6BHBP',\n",
       "        'MCI0603HQ6N2BHBP', 'MCI0603HQ6N8JHBP', 'MCI0603HQ7N5JHBP',\n",
       "        'MCI0603HQ8N2JHBP', 'MCI0603HQ9N1JHBP', 'MCI0603HQ10NJHBP',\n",
       "        'MCI0603HQ12NJHBP', 'MCI0603HQ15NJHBP', 'MCI0603HQ18NJHBP',\n",
       "        'MCI0603HQ22NJHBP', 'MCI0603HQ27NJHBP', 'MCI0603HQ33NJHBP',\n",
       "        'MCI0603HQ39NJHBP', 'WIP252010P-2R2ML', 'MCI0603TG10NHHBP'],\n",
       "       dtype=object),\n",
       " array(['MHC1608P260Z06BP6A0', 'MHC1608P260Z06BP6A0', 'MHC1005G121MBP',\n",
       "        'MCB1005B601EBP'], dtype=object),\n",
       " array(['MLA0402V14', 'MLA0603V14', 'MLVS0402L14F', 'MLA0402V5.5L',\n",
       "        'MLA0402V9L', 'MLA0402V9'], dtype=object),\n",
       " array(['EGA10603V12A0', 'EGA10402V05A0', 'EGA41206V12A0'], dtype=object),\n",
       " array(['MLVS0603AM25900F'], dtype=object),\n",
       " array(['MLVS0402LE06', 'MLVS0402LE06'], dtype=object),\n",
       " array(['MCB1005B601EBP'], dtype=object),\n",
       " array(['MHC1608P601ZBP1A3'], dtype=object),\n",
       " array(['EGA10402V05A0-C3', 'EGA10603V12A0', 'EGA10402V05A0',\n",
       "        'EGA41206V12A0', 'EGA10603V12A0-T'], dtype=object),\n",
       " array(['MLVG04023R0LV42BP', 'MLA0402V18', 'MLA0603V18', 'MLA0402V5.5',\n",
       "        'MLA0603V5.5L'], dtype=object),\n",
       " array(['MLVS0402L04', 'SurgX0603ESDA2', 'SurgX0603ESDA2', 'MLVS0603L20'],\n",
       "       dtype=object),\n",
       " array(['TVL 0201 01 AC1'], dtype=object),\n",
       " array(['TVL 0201 01 AC1'], dtype=object),\n",
       " array(['SurgX Array (ESD41)', 'TVL 0201 01 AC1', 'TVL 0201 01 AC1',\n",
       "        'TVL 0201 01 AC1'], dtype=object),\n",
       " array(['TVL 0201 01 AC1'], dtype=object),\n",
       " array(['MLVS1206AM20601F'], dtype=object),\n",
       " array(['MCI1005HQ3N3BHBP', 'WCI1608CP33NJRBE', 'MCI1005HQ1N8BHBP',\n",
       "        'MCI1005HQ3N9BHBP', 'MCI1005HQ10NJHBP', 'MCI1005HQ10NJHBP',\n",
       "        'MCI1005HQ1N2SHBP', 'MCI1005HQR10JHBP', 'MCI1005HQR10JHBP',\n",
       "        'MCI1005HQ1N5SHBP', 'MCI1005HQ1N5SHBP', 'MCI1005HQ4N3BHBP',\n",
       "        'MCI1005HQ4N7BHBP', 'MCI1005HQ10NGHBP'], dtype=object),\n",
       " array(['MCI0603HQ3N9CHBP'], dtype=object),\n",
       " array(['MCB1005B601EBP', 'MCB1005B601EBP', 'MCB1005B601EBP',\n",
       "        'MCB1005B601EBP', 'MHC1005G121MBP'], dtype=object),\n",
       " array(['MCI1005HQ3N9BHBP', 'MCI1005HQ10NJHBP', 'MCI1005HQ1N2SHBP',\n",
       "        'MCI1005HQR10JHBP', 'MCI1005HQ1N5SHBP', 'MCI1005HQ4N7BHBP',\n",
       "        'MCI0603TG3N0CHBP'], dtype=object),\n",
       " array(['MCB1005S300FBP', 'MIP20121R0MBE', 'MIP20121R0MBE'], dtype=object),\n",
       " array(['MCI0603TG0N6BHBP', 'MCI0603TG0N8BHBP', 'MCI0603TG3N6BHBP',\n",
       "        'MCI0603TG10NHHBP'], dtype=object),\n",
       " array(['SurgX Array (ESD41)', 'TVL 0201 01 AC1', 'MLVS0603L20'],\n",
       "       dtype=object),\n",
       " array(['MLVG04020R5IV18BP', 'MLVG04020R5IV18BP'], dtype=object),\n",
       " array(['MCB1005B102EBP', 'MCB2012S601HBPC6'], dtype=object),\n",
       " array(['MLVS0603AM04301F'], dtype=object),\n",
       " array(['MHC2012S301NBP'], dtype=object),\n",
       " array(['ACA-5036-A7-CC-S'], dtype=object),\n",
       " array(['WIPE201610S-1R0ML', 'WIPE201610S-1R5ML', 'WIPE201610S-2R2ML',\n",
       "        'WIPE201610S-R47ML'], dtype=object),\n",
       " array(['WIP201610S-R47ML', 'WIP252012P-1R0ML', 'WIP252010S-2R2ML'],\n",
       "       dtype=object),\n",
       " array(['MHC1005G121MBP'], dtype=object),\n",
       " array(['WIPC252012S-1R0ML', 'WIPC252012S-2R2ML', 'WIPC252012S-R47ML',\n",
       "        'WIPC252012S-1R0ML', 'WIPC252012S-2R2ML', 'WIPC252012S-R47ML',\n",
       "        'WIPC252012S-1R0ML', 'WIPC252012S-2R2ML', 'WIPC252012S-R47ML'],\n",
       "       dtype=object),\n",
       " array(['MLVS0805AM11401FW'], dtype=object),\n",
       " array(['MCB1608S601FBPC6'], dtype=object),\n",
       " array(['MCB1005S121FBP'], dtype=object),\n",
       " array(['MIP25202R2MBE', 'MIP25203R3MBE', 'MIP25204R7MBE', 'MIP25204R7MBE',\n",
       "        'WIP201610P-1R0ML', 'WIP201610P-R33ML', 'WIP201610P-R33ML',\n",
       "        'WIP252012P-1R0ML', 'WIP252012P-1R0ML', 'WIPC252012P-1R0ML',\n",
       "        'WIPC252012P-2R2ML', 'WIPC252012P-4R7ML', 'WIP252012P-R47ML',\n",
       "        'MLVS0402L14', 'EGA10603V05B0', 'MLVS0603LE10', 'MLVS0603LE08',\n",
       "        'EGA10402V24B0', 'MLVS0603AM25900', 'EGA10603V05B0',\n",
       "        'EGA10603V24B0', 'MIP25202R2MBE', 'MIP25202R2MBE'], dtype=object),\n",
       " array(['MLVS0402LE06'], dtype=object),\n",
       " array(['MHC1005P331ZBP1A2', 'MCI1608HW39NJHBP', 'MHC1608S601LBP',\n",
       "        'MHC1608S301NBP'], dtype=object),\n",
       " array(['MCI0603TG3N0CHBP'], dtype=object),\n",
       " array(['MIP20121R0MBE'], dtype=object),\n",
       " array(['MLVS0402LE06'], dtype=object),\n",
       " array(['MCI1005HQR10JHBP', 'MCI1005HQ27NJHBP', 'MCI0603TG2N2CHBP',\n",
       "        'MCI1005HQ2N2CHBP', 'MHC2012S301NBP', 'MHC1608S121PBP',\n",
       "        'MHC2012S121QBP', 'MHC2012S310WBP', 'MCI0603TG1N5BHBP'],\n",
       "       dtype=object),\n",
       " array(['EGA10603V12B0', 'EGA10603V12B0'], dtype=object),\n",
       " array(['MLVS0402LE06', 'MLVS0402LE06'], dtype=object),\n",
       " array(['MHC1608P260Z06BP6A0', 'MHC1608P260Z06BP6A0', 'MHC1608S800QBP'],\n",
       "       dtype=object),\n",
       " array(['MLVS0201V05330', 'MLVS0402LE08', 'MLVS0603L04', 'EGA10603V05B0',\n",
       "        'EGA10603V12B0', 'EGA10603V12B0', 'MIP1608P1R0MBP',\n",
       "        'MIP25203R3MBE', 'MIP25204R7MBE', 'WIP201610P-R33ML',\n",
       "        'WIPC252010P-R68ML', 'WIP252012P-1R0ML', 'WIPC252012P-1R0ML',\n",
       "        'WIP252012P-R47ML'], dtype=object),\n",
       " array(['MCB1608S601FBPC6'], dtype=object),\n",
       " array(['MHC1608P221ZBP2A2C6', 'MHC1608P221ZBP2A2C6',\n",
       "        'MHC1608P221ZBP2A2C6'], dtype=object),\n",
       " array(['MHC1608P221ZBP2A2C6', 'MHC1608P221ZBP2A2C6'], dtype=object),\n",
       " array(['MCB2012S601HBPC6', 'MHC1608P260Z06BP6A0', 'MHC1608P260Z06BP6A0',\n",
       "        'MHC1608P260Z06BP6A0', 'MHC1005G121MBP', 'MCB2012S121KBPC6',\n",
       "        'MCB2012S601HBPC6'], dtype=object),\n",
       " array(['MCI0603TG1N8CHBP', 'MCI0603TG6N2HHBP', 'MCI1005HQ3N3SHBP'],\n",
       "       dtype=object),\n",
       " array(['MLVG0603120LV18BP', 'MLA0402V18', 'MLA0603V26', 'MLA0402V5.5L',\n",
       "        'MLA0402V5.5', 'MLA0402V9L'], dtype=object),\n",
       " array(['EGA10402V05A0-C3', 'EGA10603V12A0', 'EGA10402V05A0',\n",
       "        'WIP252010P-R47ML'], dtype=object),\n",
       " array(['zepto0201-PSR-29326', 'zepto0201-PSR-29326'], dtype=object),\n",
       " array(['EGA10603V12A0'], dtype=object),\n",
       " array(['MLVS1206AM04152F', 'MLVS0805AM04501F', 'MLVS0603AM11500F',\n",
       "        'MLVS1206AM20601F', 'MLVS0603AM04301F', 'MLVS0402AM04241'],\n",
       "       dtype=object),\n",
       " array(['MCB1005B601EBP'], dtype=object),\n",
       " array(['EGA10603V05B0', 'EGA10603V12B0', 'EGA10402V05AH', 'EGA10402V05AH',\n",
       "        'MLVS1206AM04152F', 'MLVS1206AM04152F', 'MLVS1206AM04152F',\n",
       "        'MLVS1206AM40181F', 'MLVS0603AM14101F', 'MLVS1206AM11461F',\n",
       "        'MLVS1206AM11461F', 'MLVS1206AM11461F', 'MLVS1206AM25551F',\n",
       "        'MLVS1206AM30501F', 'MLVS1206AM35201F', 'MLVS1206AM35201F',\n",
       "        'MLVS0805AM04501F', 'MLVS0805AM04501F', 'MLVS0805AM14351F',\n",
       "        'MLVS0805AM25251F', 'MLVS0805AM25251F', 'MLVS0805AM30201F',\n",
       "        'MLVS1206AM25551F', 'MLVS1206AM25551F', 'MLVS1206AM25551F',\n",
       "        'MLVS1206AM50251F', 'MLVS0603AM25900F', 'MLVS0603AM30350F',\n",
       "        'MLVS1206AM04152F'], dtype=object),\n",
       " array(['MHC1608P260Z06BP6A0', 'MCB2012S121KBPC6', 'MHC1005G121MBP'],\n",
       "       dtype=object),\n",
       " array(['MCB2012S121KBPC6', 'MCB2012S121KBPC6'], dtype=object),\n",
       " array(['MCI0603HQ1N0BHBP', 'MCI0603HQ2N2BHBP', 'MCI0603HQ3N9BHBP',\n",
       "        'MCI0603HQ6N8HHBP', 'MCI0603HQ8N2HHBP', 'MCI0603HQ10NJHBP',\n",
       "        'MCI0603HQ12NJHBP', 'MCI0603HQ15NJHBP', 'MCI0603HQ18NJHBP',\n",
       "        'MCI0603HQ22NJHBP', 'MCI0603HQ27NJHBP', 'MCI0603HQ33NJHBP',\n",
       "        'MCI0603HQ39NJHBP', 'MCI0603HQ6N8JHBP', 'MCI0603HQ7N5JHBP',\n",
       "        'MCI0603HQ8N2JHBP', 'MCI0603HQ9N1JHBP', 'MCI0603HQ1N0SHBP',\n",
       "        'MCI0603HQ1N1SHBP', 'MCI0603HQ1N2SHBP'], dtype=object),\n",
       " array(['WIPEA252012S-1R0ML', 'MLVG04023R0TV18BP', 'SurgX0603ESDA2'],\n",
       "       dtype=object),\n",
       " array(['MLVS1206AM20601F', 'MLVS0402AM04241', 'MLVS0805AM08361F',\n",
       "        'MLVS0805AM08361F', 'MLVS0805AM04501F', 'MLVS0603AM11500F'],\n",
       "       dtype=object),\n",
       " array(['MHC1005P331ZBP1A2', 'MHC1005P331ZBP1A2', 'MCB1608S301HBP',\n",
       "        'MCI1005HQ1N3BHBP', 'MCI1005HQ2N2CHBP', 'MCI1005HQ56NJHBP',\n",
       "        'MCI1005HQ3N9SHBP', 'MHC1005P121ZBP2A0', 'MHC1608S300QBP',\n",
       "        'MHC1608S301NBP', 'MHC1005P331ZBP1A2'], dtype=object),\n",
       " array(['WIP252012P-1R0ML', 'MHC1608S300QBP'], dtype=object),\n",
       " array(['WIP252012P-2R2ML', 'WIP252012P-2R2ML'], dtype=object),\n",
       " array(['MLVS0402LE06', 'MLVS0805P35-171', 'MLVS1206P17-651',\n",
       "        'MLVS1206P17-651'], dtype=object),\n",
       " array(['MIP25203R3MBE'], dtype=object),\n",
       " array(['MCI1005HQ1N2SHBP', 'MCI1005HQ1N2SHBP', 'MCB2012S601HBP',\n",
       "        'MHC3216S601PBE', 'MCI1005HQ1N0SHBP', 'MCI1005HQ3N0SHBP',\n",
       "        'MCI1005HQ3N0SHBP', 'MCI1005HQ3N3SHBP', 'MCI1005HQ3N9SHBP',\n",
       "        'MCI1608HQ1N8SHBP'], dtype=object),\n",
       " array(['MCI1005HQ3N9SHBP', 'MCI1005HQ33NJHBP', 'MCI0603TG1N0BHBP',\n",
       "        'MCI0603TG1N2BHBP', 'MCI1005HQ1N8SHBP'], dtype=object),\n",
       " array(['MHC1608S600QBP', 'MCI1005HQ10NJHBP', 'MCI1005HQ1N8SHBP',\n",
       "        'MCI1005HQ3N9SHBP', 'MCI1005HQ8N2JHBP', 'MCB1005H470FBP',\n",
       "        'MCB1005H750FBP'], dtype=object),\n",
       " array(['MCB2012S121KBPC6', 'MHC2012S600QBTC6', 'MCB2012S601HBPC6',\n",
       "        'MCB2012S121KBPC6'], dtype=object),\n",
       " array(['MHC3216S601PBE', 'MHC3216S601PBE'], dtype=object),\n",
       " array(['MLVS0603AM30350F'], dtype=object),\n",
       " array(['MHC1608P260Z06BP6A0', 'MHC1608P260Z06BP6A0',\n",
       "        'MHC1608P260Z06BP6A0', 'MCB1005B601EBP', 'MHC1005G121MBP',\n",
       "        'MHC1005G121MBP'], dtype=object),\n",
       " array(['HCM1012GD900A05P'], dtype=object),\n",
       " array(['EGA10402V05AH', 'MLVS0402M02-181', 'MLVS0805AM06421F'],\n",
       "       dtype=object),\n",
       " array(['HCM1012GD900A05P'], dtype=object),\n",
       " array(['MLVS0402LE06'], dtype=object),\n",
       " array(['MLVG04020R5IV18BP'], dtype=object),\n",
       " array(['MCI1005HQ1N5SHBP', 'MCI1005HQ1N5SHBP', 'MCI1005HQ1N5SHBP'],\n",
       "       dtype=object),\n",
       " array(['WIP201610P-R47ML'], dtype=object),\n",
       " array(['WIP252012P-4R7ML', 'MCI0603HQ2N7BHBP'], dtype=object),\n",
       " array(['MCI1005HQ2N0CHBP', 'MCI1005HQ2N2CHBP', 'MCI1608HQR18JHBP',\n",
       "        'MCI1005HQ1N8SHBP', 'MCI1005HQ2N7SHBP', 'MCI1005HQ1N0SHBP',\n",
       "        'MCI1005HQ1N2SHBP', 'MCI1005HQ2N2SHBP'], dtype=object),\n",
       " array(['HCM1012GS150A05P'], dtype=object),\n",
       " array(['HCE1012GH900BP'], dtype=object),\n",
       " array(['MLVG04025R0QV09BP'], dtype=object),\n",
       " array(['SurgX Array (ESD41)'], dtype=object),\n",
       " array(['MLVG04020R5IV18BP'], dtype=object),\n",
       " array(['MLVS1206AM14701F', 'MLVS1206AM14701F'], dtype=object),\n",
       " array(['MHC1005P800ZBP2A3', 'MCI1005HQ1N5BHBP'], dtype=object),\n",
       " array(['MLVS0603AM14101F', 'MLVS0805AM35171F', 'MLVS0805AM25251F',\n",
       "        'MLVS0805AM25251F'], dtype=object),\n",
       " array(['MHC1608P260Z06BP6A0'], dtype=object),\n",
       " array(['MHC1608P260Z06BP6A0', 'MHC1005G121MBP'], dtype=object),\n",
       " array(['MCB1005B601EBP'], dtype=object),\n",
       " array(['MLVS0402LE06', 'MLVS0402LE06', 'MLVS0805P35-171'], dtype=object),\n",
       " array(['MCI1005HQ5N6SHBP', 'MHC1005P121ZBP2A0', 'MHC1608S300QBP',\n",
       "        'MHC2012S301NBP', 'MCI1005HQ1N5BHBP', 'MHC1608S121PBP',\n",
       "        'MHC1608S601LBP', 'MCB1005S601FBP', 'MCI1005HQ4N7SHBP',\n",
       "        'MCB1608S301HBP', 'MCI1005HQ1N0CHBP', 'MCI1005HQ1N0CHBP',\n",
       "        'MCI1005HQ1N0CHBP', 'MCI1005HQ1N0CHBP', 'MCI1005HQ1N0CHBP',\n",
       "        'MCI1005HQ2N7CHBP', 'MCI1005HQ2N7CHBP', 'MCI1005HQ2N7CHBP',\n",
       "        'MCI1005HQ2N7CHBP', 'MCI1005HQ2N7CHBP', 'MCI1005HQ2N0CHBP',\n",
       "        'MCI1005HQ2N0CHBP', 'MCI1005HQ2N2CHBP', 'MCI1005HQ2N2CHBP',\n",
       "        'MCI1005HQ2N2CHBP', 'MCI1005HQ2N2CHBP', 'MHC1005P331ZBP1A2',\n",
       "        'MHC1005P331ZBP1A2'], dtype=object),\n",
       " array(['HCM1012GD500A05P'], dtype=object),\n",
       " array(['NIP3015GX-4R7M', 'NIP3015GX-4R7M'], dtype=object),\n",
       " array(['MCI1005HQ1N5SHBP', 'MCI1005HQ4N7BHBP'], dtype=object),\n",
       " array(['MHC1005P331ZBP1A2', 'MCI1005HQ1N0CHBP', 'MCI1005HQ2N7CHBP',\n",
       "        'MCI1005HQ2N0CHBP', 'MCI1005HQ2N2CHBP', 'MCI1005HQ22NJHBP',\n",
       "        'MCI1005HQ6N8JHBP', 'MCI1005HQ7N5JHBP', 'MCI1005HQ2N7SHBP',\n",
       "        'MCI1005HQ4N7SHBP', 'MCI0603HQ2N0SHBP', 'MCI1005HQ0N6BHBP',\n",
       "        'MCI1005HQ1N5BHBP', 'MCI1005HQ10NJHBP'], dtype=object),\n",
       " array(['MLVS0402LE06', 'MLVS0402LE06', 'MLVS0402LE06', 'MLVS0402LE06'],\n",
       "       dtype=object),\n",
       " array(['EGA10402V05AH', 'MLVS0603AM02481F', 'MLVS0402AM04241'],\n",
       "       dtype=object),\n",
       " array(['MCI1005HW10NJHBP', 'MCI1005HW27NJHBP', 'MCI1005HW39NJHBP',\n",
       "        'MCI1005HW6N8JHBP', 'MCI1005HW8N2JHBP', 'MCI1005HW1N2SHBP',\n",
       "        'MCI1005HW1N5SHBP', 'MCI1005HW5N6SHBP', 'MCI1005HQ0N4BHBP'],\n",
       "       dtype=object),\n",
       " array(['MHC1005P121ZBP2A0', 'MHC1608S300QBP', 'MHC2012S301NBP',\n",
       "        'MCI1005HQ1N5BHBP', 'MHC1608S121PBP', 'MHC1608S601LBP',\n",
       "        'MHC1608S301NBP', 'MCB1005S601FBP', 'MHC2012S121QBP',\n",
       "        'MCI1005HQ4N7SHBP'], dtype=object),\n",
       " array(['MLVS0402LE06'], dtype=object),\n",
       " array(['MCI1005HQ1N2SHBP', 'MCI1005HQ1N5SHBP', 'MHC4516S181ZBE3A5',\n",
       "        'MCI1005HQ2N2CHBP'], dtype=object),\n",
       " array(['MLVS0805AM08361F', 'MLVS1206AM35201F'], dtype=object),\n",
       " array(['MHC1608P260Z06BP6A0', 'MHC1608P260Z06BP6A0', 'MHC1005G121MBP',\n",
       "        'MHC1608P260Z06BP6A0'], dtype=object),\n",
       " array(['MLVS0402L14', 'MLVS0402LE08', 'MLVS0603L14', 'MLVS0603L20',\n",
       "        'EGA10603V05B0', 'EGA10603V05B0', 'EGA10603V05B0', 'EGA10603V12B0',\n",
       "        'EGA10603V12B0', 'MLVS0603LE08', 'MLVA0805M04-330',\n",
       "        'EGA10603V05B0', 'EGA10603V24B0', 'EGA10603V24B0', 'MIP25204R7MBE',\n",
       "        'MIP25204R7MBE', 'WIP201610P-1R0ML', 'WIP201610P-R33ML',\n",
       "        'WFP201210Y-1R0ML', 'WFP201210Y-1R0ML', 'WIP201610Y-1R0ML',\n",
       "        'WIPRB252010P-4R7ML', 'WIPC252010P-R47ML', 'WIP252012P-1R0ML',\n",
       "        'WIPC252012P-1R0ML', 'WIPC252012P-1R5ML', 'WIPC252012P-2R2ML',\n",
       "        'WIPC252012P-4R7ML', 'WIPC252012P-R47ML', 'WIP252012P-R47ML'],\n",
       "       dtype=object),\n",
       " array(['MLVS0603AM30350F', 'MLVS0603AM30350F'], dtype=object),\n",
       " array(['MLVS1206AM35201F', 'EGA10402V05AH', 'MLVS1206AM14701F',\n",
       "        'MLVS1206AM04152F'], dtype=object),\n",
       " array(['MCB1005B102EBP'], dtype=object),\n",
       " array(['MIP1608PR47MBP'], dtype=object),\n",
       " array(['WIP252012P-R68ML', 'WIP252012P-R68ML', 'WIP252012P-R68ML',\n",
       "        'WIP252012P-R68ML', 'WIP252012P-R68ML', 'MIP25202R2MBE',\n",
       "        'WIP252012P-R68ML'], dtype=object),\n",
       " array(['ACA-5036-A7-CC-S'], dtype=object),\n",
       " array(['MHC1005P800ZBP2A3', 'MHC1005P800ZBP2A3', 'MHC1005P331ZBP1A2',\n",
       "        'MHC1005P331ZBP1A2', 'MHC1005P331ZBP1A2', 'MHC1005P331ZBP1A2',\n",
       "        'MCI0603TG0N6BHBP', 'MCI1005HQ0N6BHBP', 'MCI0603HQ2N0SHBP',\n",
       "        'MCI1005HQR10JHBP', 'MCB1608S301HBP'], dtype=object),\n",
       " array(['MLVG04023R0LV42BP', 'MLVG0402220LV09BP', 'MLVG0603120LV18BP',\n",
       "        'MLVG0603220LV09BP', 'MLA0402V14', 'MLA0603V14', 'MLA0402V18',\n",
       "        'MLA0402V18E', 'MLA0603V26', 'MLA0603V5.5L', 'MLA0402V9',\n",
       "        'MLVG0603120LV18BP'], dtype=object),\n",
       " array(['TVL 0201 01 AC1'], dtype=object),\n",
       " array(['TVL 0201 01 AC1'], dtype=object),\n",
       " array(['EGA10402V05AH'], dtype=object),\n",
       " array(['zepto0201-PSR-29340', 'zepto0201-PSR-29340',\n",
       "        'zepto0201-PSR-29340', 'zepto0201-PSR-29340',\n",
       "        'zepto0201-PSR-29340', 'zepto0201-PSR-29340'], dtype=object),\n",
       " array(['MCB2012S601HBPC6', 'MCB2012S601HBPC6'], dtype=object),\n",
       " array(['MHC3216S601PBE'], dtype=object),\n",
       " array(['MLVS0603AM14101F'], dtype=object),\n",
       " array(['MHC1005P330ZBP3A0', 'MCI1005HQ33NJHBP', 'MCI1005HQ47NJHBP'],\n",
       "       dtype=object),\n",
       " array(['EGA10603V05B0', 'EGA10402V05AH', 'MLVS0603AM04301F'], dtype=object),\n",
       " array(['ACA-5036-A7-CC-S', 'ACA-5036-A7-CC-S'], dtype=object),\n",
       " array(['ACA-5036-A7-CC-S'], dtype=object),\n",
       " array(['MCB1608S601FBPC6'], dtype=object),\n",
       " array(['MHC3216S500WBE', 'WIP252010P-2R2ML', 'WIP252010P-2R2ML',\n",
       "        'WIP252010P-2R2ML', 'WIP252010P-2R2ML', 'MCI0603HQ2N0SHBP',\n",
       "        'MCI1005HQ1N5BHBP', 'MCI1005HQR10JHBP', 'MCB1608S301HBP',\n",
       "        'WIP252010P-2R2ML', 'WIP252010P-2R2ML', 'MIP2016P1R0MBE',\n",
       "        'MIP2016P1R5MBE', 'MIP2016P2R2MBE', 'MIP25202R2MBE',\n",
       "        'MIP25204R7MBE', 'MIP2520R47MBE'], dtype=object),\n",
       " array(['MCI1005HQ2N7SHBP', 'MCI1005HQ1N8SHBP', 'MCI1005HQ3N9SHBP',\n",
       "        'MCI1005HQ3N3SHBP', 'MCI1005HQ3N0SHBP'], dtype=object),\n",
       " array(['HCM1012GD900A05P'], dtype=object),\n",
       " array(['WIP252012P-2R2ML', 'WIP252012P-2R2ML', 'WIP252010P-R22ML',\n",
       "        'WIP252012P-2R2ML', 'WIP252012P-2R2ML'], dtype=object),\n",
       " array(['MCI0603HQ1N3SHBP', 'MCI0603HQ1N4SHBP', 'MCI0603HQ1N5SHBP',\n",
       "        'MCI0603HQ1N6SHBP', 'MCI0603HQ1N7SHBP', 'MCI0603HQ1N8SHBP',\n",
       "        'MCI0603HQ1N9SHBP', 'MCI0603HQ2N0SHBP', 'MCI0603HQ2N1SHBP',\n",
       "        'MCI0603HQ2N3SHBP', 'MCI0603HQ2N4SHBP', 'MCI0603HQ2N5SHBP',\n",
       "        'MCI0603HQ2N6SHBP', 'MCI0603HQ2N7SHBP', 'MCI0603HQ2N9SHBP',\n",
       "        'MCI0603HQ3N0SHBP', 'MCI0603HQ3N1SHBP', 'MCI0603HQ3N2SHBP',\n",
       "        'MCI0603HQ3N3SHBP', 'MCI0603HQ3N4SHBP'], dtype=object),\n",
       " array(['MCI0603HQ3N5SHBP', 'MCI0603HQ3N6SHBP', 'MCI0603HQ3N7SHBP',\n",
       "        'MCI0603HQ3N8SHBP', 'MCI0603HQ3N9SHBP', 'MCI0603HQ4N3SHBP',\n",
       "        'MCI0603HQ4N7SHBP', 'MCI0603HQ5N1SHBP', 'MCI0603HQ5N6SHBP',\n",
       "        'MCI0603HQ6N2SHBP', 'MCI1005HQ2N0CHBP', 'MCI1005HQ2N7CHBP',\n",
       "        'MCI1005HQ12NJHBP', 'MCI1005HQ15NJHBP', 'MCI1005HQ18NJHBP',\n",
       "        'MCI1005HQ22NJHBP', 'MCI1005HQ27NJHBP', 'MCI1005HQ33NJHBP'],\n",
       "       dtype=object),\n",
       " array(['MLVS1206K14-182'], dtype=object),\n",
       " array(['EGA10402V05A0-C3', 'EGA10603V12A0', 'EGA10402V05A0',\n",
       "        'EGA10603V12A0-T'], dtype=object),\n",
       " array(['EGA10603V05B0', 'EGA10603V12B0', 'EGA41206V12B0', 'EGA10402V05B0',\n",
       "        'EGA10603V05B0', 'MIP1608PR47MBP', 'MIP25202R2MBE',\n",
       "        'MIP25204R7MBE', 'WIP201610P-2R2ML', 'WIPRB252010P-4R7ML',\n",
       "        'WIPRB252010P-4R7ML', 'WIPC252010P-1R5ML', 'WIP252012P-1R0ML',\n",
       "        'WIP252012P-1R0ML', 'WIP252012P-R47ML', 'WIPC252012P-2R2ML',\n",
       "        'WIPC252012P-R68ML'], dtype=object),\n",
       " array(['MCI1005HQ1N0CHBP', 'MCI1005HQ1N0CHBP', 'MCI1005HQ2N7CHBP',\n",
       "        'MCI1005HQ2N7CHBP', 'MCI1005HQ2N0CHBP', 'MCI1005HQ2N0CHBP',\n",
       "        'MCI1005HQ2N0CHBP', 'MCI1005HQ2N0CHBP', 'MCI1005HQ1N0CHBP',\n",
       "        'MCI1005HQ1N0CHBP', 'MCI1005HQ2N7CHBP', 'MCI1005HQ2N7CHBP',\n",
       "        'MCI1005HQ2N2CHBP', 'MCI1005HQ2N2CHBP', 'MCI1005HQ2N2CHBP',\n",
       "        'MCI1005HQ2N2CHBP', 'MHC1005P331ZBP1A2', 'MHC1005P331ZBP1A2',\n",
       "        'MHC1005P331ZBP1A2', 'MCI1005HQ1N5BHBP', 'WIP252010P-2R2ML',\n",
       "        'MHC2012S121UBP'], dtype=object),\n",
       " array(['MCI1005HQ18NHHBP', 'MCI1005HQ8N2JHBP'], dtype=object),\n",
       " array(['NIP5020GX-150M', 'NIP5040GX-6R8M', 'MCI1005HQ3N3BHBP',\n",
       "        'MCI1005HQ1N8BHBP', 'MCI1005HQ6N8GHBP', 'WCI1608CP33NJRBE',\n",
       "        'WCI1608CP33NJRBE', 'MCI1005HQ10NJHBP', 'MCI1005HQ1N2SHBP',\n",
       "        'MCI1005HQ1N2SHBP', 'MCI1005HQR10JHBP', 'MCI1005HQ4N3BHBP',\n",
       "        'MCI1005HQ4N3BHBP', 'MCI1005HQ10NGHBP', 'NIP5020GX-150M'],\n",
       "       dtype=object),\n",
       " array(['MLVG04023R0LV42BP', 'MLVG06033R0LV42BP', 'MLVG0603220LV09BP',\n",
       "        'MLA0402V14', 'MLA0402V18', 'MLVS0402L14F', 'MLA0603V26',\n",
       "        'MLA0402V9', 'MLA0402V14', 'MLA0402V14', 'MLVG04023R0LV42BP',\n",
       "        'MLA0402V14'], dtype=object),\n",
       " array(['EGA10402V05A0', 'EGA10603V12A0-T', 'EGA10603V12A0'], dtype=object),\n",
       " array(['EGA10603V05B0', 'EGA10603V05B0', 'EGA10402V05AH',\n",
       "        'MLVS1206AM11461F', 'MLVS1206AM11461F'], dtype=object),\n",
       " array(['MCI1005HQ1N2SHBP', 'MCI1005HQ1N5SHBP'], dtype=object),\n",
       " array(['MCB1608S301HBP', 'MCI1005HQ2N7SHBP', 'MCI1005HQ1N0CHBP',\n",
       "        'MCI1005HQ1N0CHBP'], dtype=object),\n",
       " array(['WIP252012S-2R2ML', 'WIP252010P-4R7ML', 'WIP252012S-1R0ML'],\n",
       "       dtype=object),\n",
       " array(['WIP252010P-2R2ML', 'WIP252012P-R68ML', 'MIP25204R7MBE'],\n",
       "       dtype=object),\n",
       " array(['WIPRB201610S-R10ML', 'WIPRB201610S-R10ML', 'WIPRB201610S-R10ML'],\n",
       "       dtype=object),\n",
       " array(['MLVS0603AM02481F', 'MLVS1206AM11461F', 'MLVS1206AM35201F',\n",
       "        'MLVS0805AM20221F', 'MLVS0603AM25900F'], dtype=object),\n",
       " array(['MLVS1206AM11461F', 'MLVS0805AM11401FW', 'MLVS1206AM60121F',\n",
       "        'MLVS0603AM06241F', 'MLVS0603AM25900F'], dtype=object),\n",
       " array(['MLVG04023R0LV42BP', 'MLVG0402120LV18BP', 'MLA0603V14',\n",
       "        'MLA0402V18', 'MLA0402V9'], dtype=object),\n",
       " array(['EGA10603V12A0', 'EGA10402V05A0'], dtype=object),\n",
       " array(['MHC1608P260Z06BP6A0', 'MHC1005G121MBP'], dtype=object),\n",
       " array(['WIPC252012S-R47ML', 'WIPC252012S-1R0ML', 'WIPC252012S-2R2ML'],\n",
       "       dtype=object),\n",
       " array(['EGA10402V05AH', 'EGA41206V12B0', 'MLVS1206AM40181F',\n",
       "        'MLVS0603AM04301F', 'MLVS0402M02-181', 'MLVS0805AM11401FW',\n",
       "        'MLVS1206AM50251F'], dtype=object),\n",
       " array(['ACM3-5036-A1-CC-S', 'ACM3-5036-A1-CC-S'], dtype=object),\n",
       " array(['MLVS0603AM11500F', 'MLVS0805AM06421F', 'MLVS0805AM20221F'],\n",
       "       dtype=object),\n",
       " array(['MCB1005S121FBP', 'MCB1608S601EBP', 'WIP201610P-2R2ML',\n",
       "        'MCB1608S601FBP'], dtype=object),\n",
       " array(['MCB1608S100IBP', 'MCB1608S100IBP'], dtype=object),\n",
       " array(['MLVS0805AM30201F'], dtype=object),\n",
       " array(['MLVS0402LE08', 'MLVS0603L04', 'MLVS0603L04', 'EGA10603V05B0',\n",
       "        'MLVS0603LE10', 'MLVS0603LE08', 'EGA10402V05B0', 'EGA10402V24B0',\n",
       "        'MIP2012P2R2M05BP', 'MIP25201R0MBE', 'MIP25201R5MBE',\n",
       "        'MIP25201R5MBE', 'MIP25202R2MBE', 'MIP25202R2MBE', 'MIP25204R7MBE',\n",
       "        'MIP25204R7MBE', 'WIP201610P-2R2ML', 'WIP201610P-R33ML',\n",
       "        'WIP201610P-R33ML', 'WIPRB252010P-4R7ML', 'WIPC252010P-R22ML',\n",
       "        'WIPC252010P-R22ML', 'WIPC252010P-R22ML', 'WIPC252010P-R47ML',\n",
       "        'WIPC252010P-R68ML', 'WIP252012P-1R0ML', 'WIP252012P-1R0ML',\n",
       "        'WIPC252012P-4R7ML', 'WIPC252012P-R47ML', 'WIPC252012P-R47ML',\n",
       "        'WIP252012P-R47ML', 'WIPC252010P-R22ML', 'WIPC252010P-R22ML',\n",
       "        'MLVS0603L04', 'WIPC252010P-R22ML', 'WIPC252010P-R22ML',\n",
       "        'MLVS0603L04'], dtype=object),\n",
       " array(['SMAJ12A-T', 'SMAJ36A-T'], dtype=object),\n",
       " array(['MLVS1206AM11461F', 'MLVS1206AM11461F', 'MLVS0805AM30201F',\n",
       "        'MLVS0805AM30201F', 'MLVS1206AM11461F'], dtype=object),\n",
       " array(['MLVS1206AM14701F', 'MLVS1206AM40181F', 'MLVS0603AM02481F',\n",
       "        'MLVS0402M02-181', 'MLVS0402M02-181', 'MLVS1206AM11461F',\n",
       "        'MLVS1206AM30501F', 'MLVS1206AM35201F', 'MLVS0805AM20221F',\n",
       "        'MLVS0805AM25251F', 'MLVS0805AM30201F', 'MLVS1206AM25551F',\n",
       "        'MLVS1206AM30501F', 'MLVS1206AM35201F', 'MLVS0603AM20800F',\n",
       "        'MLVS0603AM20800F', 'MLVS0603AM30350F'], dtype=object),\n",
       " array(['ACA-5036-A7-CC-S', 'ACA-5036-A7-CC-S'], dtype=object),\n",
       " array(['MLVG04023R0LV42BP', 'MLVG0402120LV18BP', 'MLVG06033R0LV42BP',\n",
       "        'MLA0402V5.5'], dtype=object),\n",
       " array(['EGA10402V05A0'], dtype=object),\n",
       " array(['MLVS1206AM20601F'], dtype=object),\n",
       " array(['MCI1005HQ2N7SHBP'], dtype=object),\n",
       " array(['MLVS0201V05330', 'MLVS0402LE08', 'MLVS0603L14', 'MLVS0603L14',\n",
       "        'MLVS0603L20', 'MLVS0603L04', 'EGA10603V05B0', 'EGA10603V12B0',\n",
       "        'MLVS0603LE08', 'EGA10402V05B0', 'EGA10402V24B0', 'EGA10603V05B0',\n",
       "        'EGA10603V12B0', 'MIP25201R0MBE', 'MIP25201R5MBE', 'MIP25203R3MBE',\n",
       "        'MIP25204R7MBE', 'WIP201610P-2R2ML', 'WIP201610P-R33ML',\n",
       "        'WIPC252010P-1R0ML', 'WIPC252010P-R22ML', 'WIPC252010P-R68ML',\n",
       "        'WIP252012P-1R0ML', 'WIP252012P-2R2ML', 'WIPC252012P-1R0ML',\n",
       "        'WIPC252012P-R47ML', 'WIPC252012P-R68ML', 'WIP252012P-R47ML'],\n",
       "       dtype=object),\n",
       " array(['WIP252012S-1R0ML', 'WIP252012P-R68ML'], dtype=object),\n",
       " array(['MLVS0402LE08', 'MLVS0603L14', 'MLVS0603L04', 'EGA10603V05B0',\n",
       "        'EGA10603V05B0', 'EGA10603V12B0', 'MLVS0603LE08', 'EGA10603V05B0',\n",
       "        'MIP1608P1R0MBP', 'MIP1608PR47MBP', 'MIP25201R5MBE',\n",
       "        'MIP25202R2MBE', 'WIP201610P-1R0ML', 'WIP201610P-2R2ML',\n",
       "        'WIPC201610P-1R0ML', 'WIP201610P-R33ML', 'WIPRB252010P-4R7ML',\n",
       "        'WIPC252010P-1R5ML', 'WIP252012P-1R0ML', 'WIP252012P-1R5ML',\n",
       "        'WIPC252012P-1R0ML', 'WIPC252012P-2R2ML', 'WIPC252012P-R68ML',\n",
       "        'WIP252012P-R47ML', 'MLVS0603L04'], dtype=object),\n",
       " array(['MCI1608HQR27JHBP', 'MCI1608HQR27JHBP'], dtype=object),\n",
       " array(['MCI1005HQ2N2CHBP', 'MCI1005HQ1N0CHBP', 'MCI1005HQ2N7CHBP',\n",
       "        'MCI1005HQ2N0CHBP', 'MCI1005HQ2N2CHBP'], dtype=object),\n",
       " array(['MHC3216S601PBE', 'MHC3216S601PBE', 'MHC3216S601PBE'], dtype=object),\n",
       " array(['MLVS1206AM20601F'], dtype=object),\n",
       " array(['zepto0201-PSR-29340', 'zepto0201-PSR-29340',\n",
       "        'zepto0201-PSR-29340', 'zepto0201-PSR-29340'], dtype=object),\n",
       " array(['WIP201610P-2R2ML'], dtype=object),\n",
       " array(['ACA-5036-A7-CC-S', 'ACA-5036-A7-CC-S'], dtype=object),\n",
       " array(['WIP201610P-R68ML', 'WIP201610P-R47ML'], dtype=object),\n",
       " array(['MLVS0402LE08', 'MLVS0603L14', 'MLVS0603L04', 'EGA10603V05B0',\n",
       "        'MLVS0603LE10', 'MIP25201R5MBE', 'MIP25202R2MBE', 'MIP25203R3MBE',\n",
       "        'MIP25204R7MBE', 'WIP201610P-2R2ML', 'WIPC252010P-1R5ML',\n",
       "        'WIPC252012P-1R0ML', 'WIPC252012P-R68ML', 'WIP252012P-R68ML'],\n",
       "       dtype=object),\n",
       " array(['MCB1005S300FBP', 'MHC3216S800RBE', 'MHC3216S800RBE'], dtype=object),\n",
       " array(['MCI1005HQ1N8BHBP', 'MCI1005HQ3N9BHBP', 'MCI1005HQ10NJHBP',\n",
       "        'MCI1005HQR10JHBP', 'MCI1005HQ1N5SHBP', 'MCI1005HQ4N7BHBP'],\n",
       "       dtype=object),\n",
       " array(['MLVS1206AM04152F'], dtype=object),\n",
       " array(['WIP201610S-2R2ML', 'WIP201610S-R47ML', 'WIP252010P-1R0ML',\n",
       "        'WIP252010P-1R5ML', 'WIP252010P-2R2ML', 'WIP252010P-4R7ML',\n",
       "        'WIP252010P-R22ML', 'WIP252010P-R33ML', 'WIP252010P-R47ML'],\n",
       "       dtype=object),\n",
       " array(['WIP252012S-R47ML'], dtype=object),\n",
       " array(['MHC1608P260Z06BP6A0'], dtype=object),\n",
       " array(['MCI1608HQ56NJHBP', 'MCI1608HQR22JHBP', 'MCI1005HQ7N5GHBP'],\n",
       "       dtype=object),\n",
       " array(['SMAJ36A-T', 'SMAJ12A-T'], dtype=object),\n",
       " array(['HCM1012GS150A05P'], dtype=object),\n",
       " array(['HCE1012GH900BP'], dtype=object),\n",
       " array(['WIPRB201610S-R10ML'], dtype=object),\n",
       " array(['MLVG0402120LV18BP', 'MLVS0402L14F', 'MLA0402V18E'], dtype=object),\n",
       " array(['EGA10402V05A0'], dtype=object),\n",
       " array(['WMM0420PX-3R3M'], dtype=object),\n",
       " array(['MLVS1206AM25551F', 'EGA10603V05B0'], dtype=object),\n",
       " array(['zepto0201-PSR-29340', 'zepto0201-PSR-29340',\n",
       "        'zepto0201-PSR-29340'], dtype=object),\n",
       " array(['EGA10603V05B0', 'EGA10402V05AH', 'EGA10402V05AH', 'EGA10402V05AH',\n",
       "        'MLVS0603AM04301F', 'MLVS0603AM04301F', 'MLVS0603AM04301F',\n",
       "        'MLVS1206AM11461F', 'MLVS1206AM50251F', 'MLVS1206AM50251F'],\n",
       "       dtype=object),\n",
       " array(['EGA10603V05B0', 'EGA10402V05AH', 'MLVS0603AM04301F',\n",
       "        'MLVS0603AM04301F', 'MLVS0603AM04301F', 'MLVS0603AM14101F'],\n",
       "       dtype=object),\n",
       " array(['MHC2012S301NBP', 'MHC1608S121PBP', 'MHC1608S601LBP',\n",
       "        'MHC1608S301NBP', 'MCB1005S601FBP', 'MHC2012S121QBP',\n",
       "        'MCB1608S221HBP', 'MCI1005HQ6N8JHBP'], dtype=object),\n",
       " array(['MCI1005HQ33NJHBP', 'MCI1005HQ3N3SHBP', 'MCI1005HQ1N0SHBP',\n",
       "        'MHC1608P601ZBP1A3', 'MCB1005S601FBP', 'MCB1608S471FBP',\n",
       "        'MCB1608S221HBP', 'MCB1005S121FBP', 'MHC1608S600QBP',\n",
       "        'MHC2012S310WBP', 'MHC1005S300QBP', 'MHC1005S100NBP',\n",
       "        'MCB1005B102GBP', 'MCI1005HQ2N0CHBP', 'MHC1005S300QBP'],\n",
       "       dtype=object),\n",
       " array(['MCB1005B102EBT', 'MCB1005B102EBT'], dtype=object),\n",
       " array(['MCI1005HQ3N9BHBP'], dtype=object),\n",
       " array(['MCB1005B102EBP'], dtype=object),\n",
       " array(['MCB1005B102EBP'], dtype=object),\n",
       " array(['MLVS0402LE06'], dtype=object),\n",
       " array(['MHC1005P331ZBP1A2'], dtype=object),\n",
       " array(['WIP201610P-1R0ML'], dtype=object),\n",
       " array(['EGA10603V05B0', 'EGA10603V05B0', 'EGA41206V12B0',\n",
       "        'MLVS1206AM04152F', 'MLVS1206AM04152F', 'MLVS0603AM04301F',\n",
       "        'MLVS0402AM10101', 'MLVS0402M02-181', 'MLVS1206AM25551F',\n",
       "        'MLVS1206AM25551F', 'MLVS1206AM35201F', 'MLVS0805AM06421F',\n",
       "        'MLVS0805AM11401F', 'MLVS0805AM11401F', 'MLVS0805AM14351F',\n",
       "        'MLVS0805AM25251F', 'MLVS0805AM35171F', 'MLVS1206AM14701',\n",
       "        'MLVS1206AM14701', 'MLVS1206AM14701', 'MLVS1206AM25551F',\n",
       "        'MLVS1206AM25551F', 'MLVS1206AM25551F', 'MLVS1206AM50251F',\n",
       "        'MLVS1206AM50251F'], dtype=object),\n",
       " array(['MLVS0805P35-171'], dtype=object),\n",
       " array(['MCI1005HQ1N2BHBP'], dtype=object),\n",
       " array(['MCM2012B221FBE', 'MCM2012B121GBE', 'MCM2012B181GBE',\n",
       "        'MCB2012S121KBPC6', 'MCB2012S601HBPC6'], dtype=object),\n",
       " array(['SMAJ36A-T'], dtype=object),\n",
       " array(['EGA10603V05B0', 'EGA10603V05B0'], dtype=object),\n",
       " array(['EGA10603V12B0', 'EGA10603V12B0', 'MLVS1206AM14701F',\n",
       "        'MLVS1206AM40181F', 'MLVS1206AM40181F', 'MLVS0603AM02481F',\n",
       "        'MLVS0603AM02481F', 'MLVS0402AM10101', 'MLVS0805AM06421F',\n",
       "        'MLVS0805AM14351F', 'MLVS0603AM25900F'], dtype=object),\n",
       " array(['MIP2012PR47M05BP', 'MIP25202R2MBE', 'MIP25202R2MBE',\n",
       "        'MIP25204R7MBE', 'MIP2520R47MBE', 'WIPC252010P-1R0ML',\n",
       "        'WIPC252010P-1R5ML', 'WIPC252012P-1R5ML', 'WIPC252012P-R47ML',\n",
       "        'WIP252012P-R47ML', 'MLVS0402L04', 'MLVS0603L04', 'MLVS0603L04',\n",
       "        'EGA10603V05B0', 'EGA10603V12B0', 'EGA10402V24B0', 'EGA10603V12B0',\n",
       "        'MLVS0402L04', 'MLVS0402L04', 'MLVS0402L04', 'MIP25202R2MBE'],\n",
       "       dtype=object),\n",
       " array(['MLVS0603AM20800F', 'MLVS1206AM60121F', 'EGA41206V12B0',\n",
       "        'EGA10402V05AH', 'MLVS1206AM40181F', 'MLVS1206AM04152F'],\n",
       "       dtype=object),\n",
       " array(['MLVS1206AM30501F', 'MLVS0805AM04501F'], dtype=object),\n",
       " array(['MLVS0805AM30201F', 'MLVS0805AM30201F'], dtype=object),\n",
       " array(['MCM2012B670GBE', 'MHC1608P260Z06BP6A0'], dtype=object),\n",
       " array(['ACM3-5036-A1-CC-S'], dtype=object),\n",
       " array(['HCM1012GD500A05P'], dtype=object),\n",
       " array(['WIP252012P-2R2ML'], dtype=object),\n",
       " array(['MLVS0805AM35171F'], dtype=object),\n",
       " array(['WIP201610P-2R2ML', 'WIP201610P-2R2ML'], dtype=object),\n",
       " array(['MHC1608P260Z06BP6A0'], dtype=object),\n",
       " array(['SurgX Array (ESD41)', 'SurgX0603ESDA2'], dtype=object),\n",
       " array(['MLVG04023R0LV42BP', 'MLVG0603120LV18BP', 'MLA0603V14',\n",
       "        'MLA0402V18', 'MLA0402V18E', 'MLA0402V5.5L', 'MLA0402V5.5',\n",
       "        'MLA0402V18'], dtype=object),\n",
       " array(['zepto0201-PSR-29340', 'zepto0201-PSR-29340'], dtype=object),\n",
       " array(['MHC1005P331ZBP1A2', 'MCI1608HW47NJHBP', 'MHC1608S600QBP',\n",
       "        'MHC1608S121PBP', 'MHC2012S121QBP'], dtype=object),\n",
       " array(['EGA10402V24B0'], dtype=object),\n",
       " array(['HCM1012GS150A05P'], dtype=object),\n",
       " array(['MHC1005G121MBP'], dtype=object),\n",
       " array(['WIPC252012S-1R0ML', 'WIPC252012S-1R0ML', 'WIPC252012S-2R2ML',\n",
       "        'WIPC252012S-2R2ML', 'WIPC252012S-R47ML', 'WIPC252012S-R47ML'],\n",
       "       dtype=object),\n",
       " array(['EGA10402V05AH', 'EGA10402V05AH', 'EGA10402V05AH'], dtype=object),\n",
       " array(['EGA10402V05AH', 'EGA10402V05AH', 'MLVS1206AM04152F',\n",
       "        'MLVS1206AM04152F', 'MLVS1206AM30501F', 'MLVS0805AM11401FW',\n",
       "        'MLVS0805AM14351F', 'MLVS0603AM25900F'], dtype=object),\n",
       " array(['WIP252012S-1R0ML'], dtype=object),\n",
       " array(['WIP252010S-1R0ML', 'MCI1005HQ1N0CHBP', 'MCI1005HQ1N8SHBP',\n",
       "        'MCI1005HQ3N0SHBP'], dtype=object),\n",
       " array(['zepto0201-PSR-29340', 'zepto0201-PSR-29340'], dtype=object),\n",
       " array(['MCB1005B601EBP', 'MCB1005B601EBP', 'MCB1005B601EBP'], dtype=object),\n",
       " array(['EGA10603V05B0', 'EGA10603V12B0', 'MLVS1206AM04152F',\n",
       "        'MLVS1206AM40181F', 'MLVS0603AM04301F', 'MLVS0603AM02481F',\n",
       "        'MLVS1206AM11461F', 'MLVS1206AM30501F', 'MLVS0805AM08361F',\n",
       "        'MLVS0805AM20221F', 'MLVS0402AM06121'], dtype=object),\n",
       " array(['EGA10402V05A0-C3', 'EGA10402V05A0'], dtype=object),\n",
       " array(['MHC1608S600QBP', 'MHC3216S800RBE'], dtype=object),\n",
       " array(['WIP252012S-1R0ML'], dtype=object),\n",
       " array(['MLVS1206AM14701F'], dtype=object),\n",
       " array(['MLVG04023R0TV18BP', 'MLVS0402L04', 'TVL 0201 01 AC1',\n",
       "        'TVL 0201 01 AC1', 'MLVG04020R5IV18BP', 'SurgX0603ESDA2'],\n",
       "       dtype=object),\n",
       " array(['MLVG06033R0LV42BP', 'MLVG0603120LV18BP', 'MLA0402V14',\n",
       "        'MLA0402V18', 'MLA0603V5.5L', 'MLA0402V9L'], dtype=object),\n",
       " array(['EGA10402V05A0-C3', 'EGA10603V12A0', 'EGA10402V05A0'], dtype=object),\n",
       " array(['EGA10603V12B0', 'MLVS1206AM40181F', 'MLVS0603AM02481F',\n",
       "        'MLVS0402AM10101', 'MLVS1206AM25551F', 'MLVS1206AM30501F',\n",
       "        'MLVS0805AM04501F', 'MLVS0805AM04501F', 'MLVS0805AM20221F',\n",
       "        'MLVS0805AM25251F', 'MLVS1206AM30501F', 'MLVS1206AM35201F',\n",
       "        'MLVS0603AM20800F', 'MLVS0603AM20800F', 'MLVS0402AM14750'],\n",
       "       dtype=object),\n",
       " array(['zepto0201-PSR-29340', 'zepto0201-PSR-29340',\n",
       "        'zepto0201-PSR-29340'], dtype=object),\n",
       " array(['MLVG04023R0LV42BP', 'MLVG0402120LV18BP', 'MLVG06033R0LV42BP',\n",
       "        'MLA0402V18', 'MLVS0402L14F', 'MLA0603V5.5L', 'MLA0402V9L'],\n",
       "       dtype=object),\n",
       " array(['EGA10402V05A0-C3', 'EGA10603V12A0', 'EGA10402V05A0',\n",
       "        'EGA41206V12A0'], dtype=object),\n",
       " array(['MLVS0402L14', 'MLVS0402L14', 'MLVS0603L14', 'MLVS0603L04',\n",
       "        'EGA10603V05B0', 'EGA10603V12B0', 'MLVS0603LE10', 'MLVS0603LE08',\n",
       "        'MLVS0603LE08', 'EGA10402V05B0', 'MLVS0603AM25900',\n",
       "        'EGA10603V24B0', 'MIP25201R0MBE', 'MIP25201R5MBE', 'MIP25202R2MBE',\n",
       "        'MIP25202R2MBE', 'MIP25204R7MBE', 'WIP201610P-1R0ML',\n",
       "        'WIPC201610P-1R0ML', 'WIP201610P-R47ML', 'WIPC252010P-R68ML',\n",
       "        'WIPC252012P-1R0ML', 'WIPC252012P-2R2ML'], dtype=object),\n",
       " array(['MCI1005HQ3N0SHBP', 'MCI1005HQ3N0SHBP', 'MCI1005HQ10NJHBP',\n",
       "        'MCB1608S301HBP', 'MCI1005HQ2N7SHBP', 'MCI1005HQ1N2SHBP',\n",
       "        'MCI1005HQ3N0SHBP'], dtype=object),\n",
       " array(['HCM1012GS150A05P'], dtype=object),\n",
       " array(['HCM1012GD900B05P'], dtype=object),\n",
       " array(['MHC1608S601LBP', 'MCI1005HQ22NJHBP', 'MCI1005HQ6N8JHBP',\n",
       "        'MCI1005HQ7N5JHBP', 'MCI1005HQ2N7SHBP', 'MCI1005HQ4N7SHBP',\n",
       "        'MCI0603HQ2N0SHBP', 'MCI1005HQR10JHBP'], dtype=object),\n",
       " array(['HCM1012GD900B05P'], dtype=object),\n",
       " array(['WIP252012P-1R0ML', 'WIP252010S-R47ML'], dtype=object),\n",
       " array(['MCI1005HQ22NJHBP', 'MCI1005HQ27NJHBP', 'MCI1005HQ5N6SHBP',\n",
       "        'MCI1005HQ8N2JHBP', 'MHC1608S121PBP', 'MCB2012S601HBP'],\n",
       "       dtype=object),\n",
       " array(['EGA10603V05B0', 'EGA10402V05AH', 'MLVS0805AM14351F',\n",
       "        'MLVS0603AM04301F', 'MLVS0805AM25251F', 'MLVS1206AM11461F',\n",
       "        'MLVS0402AM04241', 'MLVS1206AM20601F'], dtype=object),\n",
       " array(['TVL 0201 01 AC1'], dtype=object),\n",
       " array(['WIP252012S-R47ML', 'WIP252010P-R47ML'], dtype=object),\n",
       " array(['MHC1005G121MBP', 'MHC1005G121MBP'], dtype=object),\n",
       " array(['WIP252012S-R47ML'], dtype=object),\n",
       " array(['MCI1005HQ3N3BHBP', 'MCI1005HQ1N8BHBP', 'MCI1005HQ1N8BHBP',\n",
       "        'MCI1005HQ1N8BHBP', 'MCI1005HQ6N8GHBP', 'MCI1005HQ6N8GHBP',\n",
       "        'MCI1005HQ3N9BHBP', 'WCI1608CP33NJRBE', 'WCI1608CP33NJRBE',\n",
       "        'MCI1005HQ10NJHBP', 'MCI1005HQ10NJHBP', 'MCI1005HQ6N8HHBP',\n",
       "        'MCI1005HQ1N2SHBP', 'MCI1005HQ1N2SHBP', 'MCI1005HQ1N2SHBP',\n",
       "        'MCI1005HQR10JHBP', 'MCI1005HQR10JHBP', 'MCI1005HQ1N5SHBP',\n",
       "        'MCI1005HQ1N5SHBP', 'MCI1005HQ4N3BHBP', 'MCI1005HQ4N3BHBP',\n",
       "        'MCI1005HQ4N7BHBP', 'MCI1005HQ4N7BHBP', 'MCI1005HQ10NGHBP',\n",
       "        'MCI1005HQ10NGHBP'], dtype=object),\n",
       " array(['MCB1005S300FBP', 'MHC1608S600QBP', 'MCB1005S102FBP',\n",
       "        'MCB1005S102FBP', 'NIP5020GX-150M', 'NIP5020GX-150M',\n",
       "        'NIP5040GX-6R8M', 'NIP5040GX-6R8M', 'MCB1608S152HBP',\n",
       "        'MCB1608S152HBP', 'MHC3216S800RBE', 'MHC3216S800RBE',\n",
       "        'MIP20121R0MBE', 'MIP20121R0MBE'], dtype=object),\n",
       " array(['MHC1608P260Z06BP6A0'], dtype=object),\n",
       " array(['SMAJ12A-T', 'SMAJ36A-T'], dtype=object),\n",
       " array(['MHC1608S600QBP', 'WIP252010P-2R2ML'], dtype=object),\n",
       " array(['HCE1012GH900BP'], dtype=object),\n",
       " array(['HCM1012GD900A05P'], dtype=object),\n",
       " array(['HCM1012GD900B05P'], dtype=object),\n",
       " array(['MCB1005S300FBP', 'MHC1608S600QBP', 'MHC1608S600QBP',\n",
       "        'MCB1005S102FBP', 'MCB1608S152HBP', 'MCB1608S152HBP'], dtype=object),\n",
       " array(['HCE1012GH900BP'], dtype=object),\n",
       " array(['MHC1005G121MBP'], dtype=object),\n",
       " array(['HCE1012GH900BP'], dtype=object),\n",
       " array(['MCI1005HQ10NJHBP', 'MHC1005P121ZBP2A0', 'MHC1608S300QBP',\n",
       "        'MHC2012S301NBP', 'MCI1005HQ1N5BHBP', 'MHC1608S121PBP',\n",
       "        'MHC1608S601LBP', 'MHC1608S301NBP', 'MCB1005S601FBP',\n",
       "        'MHC2012S121QBP', 'MCI0603TG1N5BHBP', 'MCI1005HQ1N3BHBP',\n",
       "        'MCB1608S221HBP', 'MCI1005HQ4N7SHBP', 'MCI1005HQ6N8JHBP'],\n",
       "       dtype=object),\n",
       " array(['WIP201610P-R47ML'], dtype=object),\n",
       " array(['MHC3216S601PBE'], dtype=object),\n",
       " array(['MCB2012S121KBPC6', 'MCB2012S121KBPC6', 'MCB1005B601EBP',\n",
       "        'MHC2012S600QBTC6'], dtype=object),\n",
       " array(['MIP25202R2MBE'], dtype=object),\n",
       " array(['MHC1608P260Z06BP6A0', 'MHC1608P260Z06BP6A0'], dtype=object),\n",
       " array(['zepto0201-PSR-29340', 'zepto0201-PSR-29340'], dtype=object),\n",
       " array(['EGA10402V05A0', 'EGA41206V12A0', 'EGA10402V05A0-T',\n",
       "        'EGA10603V12A0-T'], dtype=object),\n",
       " array(['MLVG0402120LV18BP', 'MLVG0603120LV18BP', 'MLA0402V14',\n",
       "        'MLA0603V14', 'MLA0402V5.5L', 'MLA0402V9L', 'MLA0402V9L',\n",
       "        'MLVG0603120LV18BP'], dtype=object),\n",
       " array(['MLVG04023R0LV42BP', 'MLVG0402120LV18BP', 'MLVG0603120LV18BP',\n",
       "        'MLA0402V18', 'MLA0603V18E', 'MLA0402V5.5'], dtype=object),\n",
       " array(['EGA10603V12A0', 'EGA10402V05A0', 'EGA41206V12A0'], dtype=object),\n",
       " array(['EGA10603V05B0', 'EGA10603V05B0', 'EGA10402V05AH',\n",
       "        'MLVS1206AM40181F', 'MLVS0603AM04301F', 'MLVS1206AM30501F',\n",
       "        'MLVS1206AM30501F', 'MLVS0805AM35171F'], dtype=object),\n",
       " array(['MLVS0805AM25251F'], dtype=object),\n",
       " array(['WIP252012P-2R2ML', 'MCB1005S601FBP'], dtype=object),\n",
       " array(['HCM1012GD900A05P'], dtype=object),\n",
       " array(['ACA-5036-A7-CC-S'], dtype=object),\n",
       " array(['WIP252012S-R47ML'], dtype=object),\n",
       " array(['MHC1608P260Z06BP6A0'], dtype=object),\n",
       " array(['MLVS0805AM25251F', 'MLVS1206AM30501F', 'MLVS1206AM30501F'],\n",
       "       dtype=object),\n",
       " array(['HCM1012GD500A05P'], dtype=object),\n",
       " array(['MLVS0402LE06', 'MLVS0402LE06', 'MLVS0402LE06', 'MLVS0805P35-171'],\n",
       "       dtype=object),\n",
       " array(['MHC1005P800ZBP2A3', 'MHC1608S121PBP', 'MHC2012S301NBP',\n",
       "        'MCI0603TG1N5BHBP', 'MCI1005HQ1N3BHBP', 'MCI1005HQ1N5BHBP',\n",
       "        'MCI1005HQ1N0CHBP', 'MCI1005HQ1N0CHBP', 'MCI1005HQ2N0CHBP',\n",
       "        'MCI1005HQ2N2CHBP', 'MCI1005HQ2N7CHBP', 'MCI1005HQ2N7CHBP',\n",
       "        'MCI1005HQ15NJHBP', 'MCI1005HQ6N8JHBP', 'MCI1005HQR10JHBP',\n",
       "        'MCI1005HQ2N0SHBP', 'MCI1005HQ4N7SHBP', 'MCI1005HQ5N6SHBP'],\n",
       "       dtype=object),\n",
       " array(['MCI0603TG3N0CHBP', 'MCI1005HQ3N3BHBP', 'MCI1005HQ1N8BHBP',\n",
       "        'MCI1005HQ3N9BHBP', 'MCI1005HQ10NJHBP', 'MCI1005HQ1N2SHBP',\n",
       "        'MCI1005HQR10JHBP', 'MCI1005HQ1N5SHBP', 'MCI1005HQ1N5SHBP',\n",
       "        'MCI1005HQ4N3BHBP', 'MCI1005HQ4N7BHBP', 'MCI1005HQ10NGHBP'],\n",
       "       dtype=object),\n",
       " array(['MCB1005S300FBP', 'MCB1005S102FBP', 'MCB1005S102FBP',\n",
       "        'MHC3216S800RBE', 'MIP20121R0MBE', 'MHC3216S800RBE'], dtype=object),\n",
       " array(['WIP252012P-R47ML', 'WIP252012P-R47ML', 'WIP252012P-R47ML',\n",
       "        'WIP252012P-R47ML', 'WIP252012P-R47ML'], dtype=object),\n",
       " array(['WIP252012P-2R2ML', 'WIP252012P-2R2ML', 'WIP252012P-2R2ML',\n",
       "        'WIP252012P-2R2ML', 'WIP252012P-2R2ML', 'WIP252012P-2R2ML',\n",
       "        'WIP252012P-2R2ML', 'WIP252012P-2R2ML', 'WIP252012P-2R2ML'],\n",
       "       dtype=object),\n",
       " array(['WIP252012P-2R2ML', 'WIP252012P-2R2ML', 'WIP252012P-2R2ML',\n",
       "        'WIP252012P-2R2ML', 'WIP252012P-2R2ML', 'WIP252012P-2R2ML',\n",
       "        'WIP252012P-2R2ML', 'WIP252012P-2R2ML'], dtype=object),\n",
       " array(['MHC1005G121MBP', 'MHC1608P260Z06BP6A0'], dtype=object),\n",
       " array(['MLVS0805AM25251'], dtype=object),\n",
       " array(['MLVS0603AM02481F', 'MLVS0603AM06241F', 'MLVS0603AM06241F',\n",
       "        'MLVS0603AM06241F'], dtype=object),\n",
       " array(['SurgX0603ESDA2', 'SurgX0603ESDA2'], dtype=object),\n",
       " array(['SurgX0603ESDA2', 'SurgX0603ESDA2', 'SurgX0603ESDA2',\n",
       "        'SurgX0603ESDA2'], dtype=object),\n",
       " array(['WIPEA252012S-1R0ML', 'WIPEA252012S-1R0ML'], dtype=object),\n",
       " array(['MLVG04023R0LV42BP', 'MLVG0402120LV18BP', 'MLVG06033R0LV42BP',\n",
       "        'MLA0402V18', 'MLA0402V5.5L', 'MLA0402V5.5', 'MLA0603V5.5L',\n",
       "        'MLA0402V9'], dtype=object),\n",
       " array(['EGA10402V05A0-C3', 'EGA10603V12A0', 'CGA10201V05B0'], dtype=object),\n",
       " array(['MLVG04023R0LV42BP', 'MLVG0402120LV18BP', 'MLA0402V14',\n",
       "        'MLA0402V5.5L', 'MLA0603V5.5L', 'MLA0402V9L'], dtype=object),\n",
       " array(['EGA10402V05A0-C3', 'EGA10603V12A0', 'EGA10402V05A0'], dtype=object),\n",
       " array(['WIPC252012S-1R0ML', 'WIPC252012S-2R2ML', 'WIPC252012S-R47ML',\n",
       "        'WIPC252012S-R47ML'], dtype=object),\n",
       " array(['MHC1608P260Z06BP6A0', 'MHC1608P260Z06BP6A0',\n",
       "        'MHC1608P260Z06BP6A0'], dtype=object),\n",
       " array(['WIP252010P-1R0ML'], dtype=object),\n",
       " array(['WIP252012S-R47ML'], dtype=object),\n",
       " array(['MCI1005HQ18NHHBP', 'MHC2012S331NBP', 'MCI1005HQ18NHHBP'],\n",
       "       dtype=object),\n",
       " array(['ACA-5036-A7-CC-S'], dtype=object),\n",
       " array(['MLVS0603AM04301F', 'MLVS1206AM25551F', 'MLVS1206AM35201F',\n",
       "        'MLVS0805AM11401F', 'MLVS0805AM25251F', 'MLVS1206AM50251F',\n",
       "        'MLVS1206AM50251F'], dtype=object),\n",
       " array(['MLVS0402LE08', 'MLVS0603L20', 'MLVS0603L04', 'EGA10603V05B0',\n",
       "        'EGA10603V12B0', 'MLVS0603LE08', 'MIP25202R2MBE',\n",
       "        'WIP201610P-1R0ML', 'WIP201610P-2R2ML', 'WFP201210Y-1R0ML',\n",
       "        'WIPC252010P-R22ML', 'WIP252012P-1R0ML', 'WIP252012P-2R2ML',\n",
       "        'WIPC252012P-1R5ML', 'WIPC252012P-2R2ML', 'WIPC252012P-R47ML',\n",
       "        'WIP252012P-R68ML', 'MIP25202R2MBE'], dtype=object),\n",
       " array(['MCB1005B601EBP'], dtype=object),\n",
       " array(['MCB1005B102GBP', 'MCB1005B102GBP', 'MCB1005B102GBP'], dtype=object),\n",
       " array(['MCI1005HQ5N6SHBP', 'MCI1005HQ15NJHBP', 'MCI1005HQ15NJHBP',\n",
       "        'MCI1005HQ18NJHBP', 'MCI1005HQ6N8JHBP', 'MCI1005HQ27NJHBP',\n",
       "        'MCI1005HQ56NJHBP'], dtype=object),\n",
       " array(['WIP252012P-1R0ML'], dtype=object),\n",
       " array(['MLVS0402L14', 'MLVS0603L14', 'MLVS0603L04', 'EGA10603V05B0',\n",
       "        'MLVS0603LE08', 'MLVS0603AM25900', 'EGA10402V24B0',\n",
       "        'EGA10402V12B0', 'EGA10402V05B0', 'MIP1608P1R0MBP',\n",
       "        'MPA2016P2R2MBE', 'MIP25201R0MBE', 'MIP25202R2MBE',\n",
       "        'MIP25202R2MBE', 'MIP25203R3MBE', 'MIP25204R7MBE',\n",
       "        'WIP201610P-1R0ML', 'WIP201610P-2R2ML', 'WIP201610P-R47ML',\n",
       "        'WIPC252010P-R22ML', 'WIPC252010P-R47ML', 'WIPC252010P-R68ML',\n",
       "        'WIP252012P-2R2ML', 'WIP252012P-2R2ML', 'WIPC252012P-1R0ML',\n",
       "        'WIPC252012P-4R7ML', 'WIPC252012P-R47ML', 'WIP252012P-R47ML',\n",
       "        'WIP252012P-R47ML'], dtype=object),\n",
       " array(['EGA10603V05B0', 'EGA10603V05B0', 'EGA10402V05AH',\n",
       "        'MLVS1206AM40181F', 'MLVS1206AM40181F', 'MLVS0805AM25251F',\n",
       "        'MLVS1206AM50251F'], dtype=object),\n",
       " array(['MLVS0402AM14750'], dtype=object),\n",
       " array(['MLVS0603AM02481F', 'MLVS0603AM02481F', 'MLVS0805AM30201F'],\n",
       "       dtype=object),\n",
       " array(['MLVS0402LE06'], dtype=object),\n",
       " array(['MCI0603TG1N8CHBP', 'MCI0603TG6N2HHBP', 'MHC1608S300QBP',\n",
       "        'MCI1005HQ47NJHBP', 'MCI0603HQ2N0SHBP'], dtype=object),\n",
       " array(['MHC2012S301NBP', 'MHC1608S121PBP', 'MHC1608S601LBP',\n",
       "        'MHC1608S301NBP', 'MCB1005S601FBP', 'MHC2012S121QBP',\n",
       "        'MCI0603TG1N5BHBP', 'MCI1005HQ1N3BHBP', 'MHC1005P601ZBPA90',\n",
       "        'MCI1005HQ4N7SHBP', 'MCB0603P121ZBPA45'], dtype=object),\n",
       " array(['WIP201610P-1R0ML', 'WIP201610P-1R0ML', 'WIP201610P-1R0ML',\n",
       "        'WIP201610P-R24ML', 'WIP201610P-R24ML', 'WIP201610P-R24ML',\n",
       "        'WIP201610P-R47ML', 'WIP201610P-R47ML', 'WIP201610P-R47ML',\n",
       "        'WIP201610P-1R0ML', 'WIP201610P-R24ML', 'WIP201610P-1R0ML',\n",
       "        'WIP201610P-R24ML'], dtype=object),\n",
       " array(['WIP252012S-2R2ML'], dtype=object),\n",
       " array(['HCM1012GD900B05P'], dtype=object),\n",
       " array(['MCI1005HQ1N2SHBP', 'MCI1005HQ1N5SHBP'], dtype=object),\n",
       " array(['SurgX0603ESDA3', 'MLVG04023R0TV18BP', 'WIPEA252012S-1R0ML',\n",
       "        'WIPEA252012S-1R0ML'], dtype=object),\n",
       " array(['MCI1005HQ8N2JHBP', 'MCI1005HQ2N2SHBP', 'MHC1608S601LBP',\n",
       "        'MCI1005HQ10NJHBP', 'MHC2012S121QBP', 'MCB1005S601FBP',\n",
       "        'MCB1005S601FBP', 'MHC1608S121PBP', 'MHC1608S121PBP',\n",
       "        'MHC2012S301NBP', 'MHC2012S301NBP'], dtype=object),\n",
       " array(['MHC1005G121MBP'], dtype=object),\n",
       " array(['MCI1005HQ10NJHBP', 'MCI1005HQ12NJHBP', 'MCI1005HQ1N2SHBP',\n",
       "        'MCI1005HQ1N5SHBP', 'MCI1005HQ2N7SHBP', 'MCB1608S102EBP',\n",
       "        'MCI1005HQ1N0CHBP', 'MCI1005HQ2N7CHBP', 'MCI1005HQ2N2CHBP',\n",
       "        'MHC1005P331ZBP1A2'], dtype=object),\n",
       " array(['MLVS0402LE08'], dtype=object),\n",
       " array(['TVL 0201 01 AC1', 'WIPEA252012S-1R0ML'], dtype=object),\n",
       " array(['TVL 0201 01 AC1', 'SurgX Array (ESD41)', 'WIPEA252012S-1R0ML',\n",
       "        'SurgX0603ESDA2'], dtype=object),\n",
       " array(['MHC1005G121MBP'], dtype=object),\n",
       " array(['MHC3216S800RBE'], dtype=object),\n",
       " array(['MLVS0402LE06', 'MLVS0402LE06'], dtype=object),\n",
       " array(['MCI1005HQ2N2SHBP', 'MCI1005HQ10NJHBP', 'MCI1005HQ8N2JHBP'],\n",
       "       dtype=object),\n",
       " array(['WIP252012P-2R2ML', 'MHC1608P331ZBP1A7', 'MCB1608S121IBP',\n",
       "        'MCB1005H121FBP'], dtype=object),\n",
       " array(['HCM1012GD900A05P'], dtype=object),\n",
       " array(['WIP252012P-R68ML', 'WIP252012P-R68ML', 'WIP252012P-R68ML',\n",
       "        'WIP252012P-R68ML', 'WIP252012P-R68ML', 'WIP252012P-R68ML'],\n",
       "       dtype=object),\n",
       " array(['MLVS0603L14', 'MLVS0603L04', 'EGA10603V05B0', 'MLVS0603LE08',\n",
       "        'MLVS0603LE08', 'EGA10402V24B0', 'EGA10603V12B0', 'EGA10603V12B0',\n",
       "        'MPA2016P2R2MBE', 'MIP25202R2MBE', 'MIP25203R3MBE',\n",
       "        'MIP25204R7MBE', 'WIP201610P-1R0ML', 'WIPC201610P-1R0ML',\n",
       "        'WIP252012P-1R0ML', 'WIP252012P-2R2ML', 'WIPC252012P-1R0ML',\n",
       "        'WIPC252012P-2R2ML', 'WIPC252012P-R47ML', 'WIP252012P-R47ML'],\n",
       "       dtype=object),\n",
       " array(['EGA10603V12B0', 'MLVS0603AM04301F', 'MLVS0402AM10101',\n",
       "        'MLVS1206AM30501F', 'MLVS0805AM08361F', 'MLVS0805AM20221F',\n",
       "        'MLVS0805AM35171F', 'MLVS0603AM25900F'], dtype=object),\n",
       " array(['MHC1608P601ZBP1A3', 'MCB1608S301HBP'], dtype=object),\n",
       " array(['HCM1012GD900A05P'], dtype=object),\n",
       " array(['MCI1005HQ2N7SHBP'], dtype=object),\n",
       " array(['WIP252012P-1R0ML', 'WIP252012P-1R0ML', 'WIP252012P-1R0ML',\n",
       "        'WIP252012P-1R0ML', 'WIP252012P-1R0ML', 'WIP201610S-R47ML'],\n",
       "       dtype=object),\n",
       " array(['MLVG04023R0LV42BP', 'MLA0402V14', 'MLA0603V14', 'MLA0402V18',\n",
       "        'MLA0402V9L', 'MLA0402V9'], dtype=object),\n",
       " array(['EGA10603V12A0', 'EGA10402V05A0'], dtype=object),\n",
       " array(['MHC1608S600QBP'], dtype=object),\n",
       " array(['MHC1608S600QBP'], dtype=object),\n",
       " array(['MCB1005H121FBP'], dtype=object),\n",
       " array(['ACA-5036-A7-CC-S'], dtype=object),\n",
       " array(['MLVS0402LE06', 'MLVS0402LE06'], dtype=object),\n",
       " array(['MCI0603HQ0N3BHBP', 'MCI0603HQ0N4BHBP', 'MCI0603HQ0N5BHBP',\n",
       "        'MCI0603HQ0N6BHBP', 'MCI0603HQ0N7BHBP', 'MCI0603HQ0N8BHBP',\n",
       "        'MCI0603HQ0N9BHBP', 'MCI1005HQ0N3BHBP', 'MCI1005HQ0N4BHBP',\n",
       "        'MCI1005HQ0N5BHBP', 'MCI1005HQ0N7BHBP', 'MCI1005HQ0N8BHBP'],\n",
       "       dtype=object),\n",
       " array(['WIP252010S-R47ML'], dtype=object),\n",
       " array(['HCM1012GD900A05P'], dtype=object),\n",
       " array(['MLVS0402LE06'], dtype=object),\n",
       " array(['MCB3216S121IBE', 'MHC1608S300QBP', 'MHC1608S300QBP'], dtype=object),\n",
       " array(['MLVS0805AM30201F'], dtype=object),\n",
       " array(['MHC1005G121MBP'], dtype=object),\n",
       " array(['MCI1005HQ1N0CHBP', 'MCI1005HQ1N0CHBP', 'MCI1005HQ1N0CHBP',\n",
       "        'MCI1005HQ1N0CHBP', 'MCI1005HQ1N0CHBP', 'MCI1005HQ1N0CHBP',\n",
       "        'MCI1005HQ1N0CHBP', 'MCI1005HQ2N0CHBP', 'MCI1005HQ2N0CHBP',\n",
       "        'MCI1005HQ2N2CHBP', 'MCI1005HQ2N2CHBP', 'MCI1005HQ2N2CHBP',\n",
       "        'MCI1005HQ2N2CHBP', 'MCI1005HQ2N2CHBP', 'MHC2012S301NBP',\n",
       "        'MHC1608S121PBP', 'MHC1608S301NBP', 'MCB1005S601FBP',\n",
       "        'MHC2012S121QBP', 'MHC2012S310WBP', 'MCI0603TG1N5BHBP',\n",
       "        'MCI1005HQ1N3BHBP', 'MCB1608S221HBP', 'MCI1005HQ4N7SHBP',\n",
       "        'MCI1005HQ22NJHBP', 'MCI1005HQ1N0SHBP'], dtype=object),\n",
       " array(['MLVG04023R0LV42BP', 'MLVG06033R0LV42BP', 'MLA0603V14',\n",
       "        'MLVS0402L14F', 'MLA0402V18E', 'MLA0603V18E', 'MLA0402V5.5'],\n",
       "       dtype=object),\n",
       " array(['EGA10603V12A0', 'EGA41206V12A0'], dtype=object),\n",
       " array(['MCM2012B670GBE', 'MHC1608P260Z06BP6A0'], dtype=object),\n",
       " array(['MHC1005G121MBP'], dtype=object),\n",
       " array(['MCM2012B670GBE'], dtype=object),\n",
       " array(['MLVS0402L14F', 'MLA0603V5.5L', 'MLVS0402L14F'], dtype=object),\n",
       " array(['EGA10603V12A0', 'EGA10402V05A0', 'CGA10201V05B0'], dtype=object),\n",
       " array(['MHC1005G121MBP'], dtype=object),\n",
       " array(['MHC1005P800ZBP2A3', 'MHC1608S121PBP'], dtype=object),\n",
       " array(['MHC1005P121ZBP2A0', 'MHC1608S300QBP', 'MHC2012S301NBP',\n",
       "        'MCI1005HQ1N5BHBP', 'MHC1608S121PBP', 'MHC1608S601LBP',\n",
       "        'MHC1608S301NBP', 'MCB1005S601FBP', 'MHC2012S121QBP',\n",
       "        'MCI1005HQ4N7SHBP', 'MCI1005HQ22NJHBP'], dtype=object),\n",
       " array(['MCB1005S121FBP', 'WIP252012S-2R2ML'], dtype=object),\n",
       " array(['MLVS0402L14', 'MLVS0402L04', 'MLVS0603L14', 'MLVS0603L14',\n",
       "        'MLVS0603L20', 'MLVS0603L04', 'MLVS0603L04', 'EGA10603V05B0',\n",
       "        'EGA10603V12B0', 'MLVS0603LE08', 'EGA10603V12B0', 'MIP25202R2MBE',\n",
       "        'MIP25204R7MBE', 'WIP201610P-1R0ML', 'WIP201610P-2R2ML',\n",
       "        'WIPC252010P-R22ML', 'WIP252012P-1R0ML', 'WIP252012P-2R2ML',\n",
       "        'WIPC252012P-2R2ML', 'WIPC252012P-4R7ML', 'MLVS0402L04',\n",
       "        'MLVS0402L04', 'MLVS0402L04'], dtype=object),\n",
       " array(['HCM1012GD900A05P'], dtype=object),\n",
       " array(['HCM1012GD900A05P'], dtype=object),\n",
       " array(['WIP201612S-R47ML'], dtype=object),\n",
       " array(['EGA10402V24B0', 'EGA10402V24B0'], dtype=object),\n",
       " array(['zepto0201-PSR-29326'], dtype=object),\n",
       " array(['MCB1005B102EBP'], dtype=object),\n",
       " array(['EGA10402V05A0-C3', 'EGA10603V12A0', 'EGA10402V05A0',\n",
       "        'EGA41206V12A0', 'EGA10603V12A0-T'], dtype=object),\n",
       " array(['MCB2012S300KBP', 'MFI2012P10RM09BPA125'], dtype=object),\n",
       " array(['MFI201210RKBE', 'MFI201210RKBE', 'MFI201210RKBE'], dtype=object),\n",
       " array(['MCI1005HQ2N0CHBP', 'MCI1005HQ2N7CHBP', 'MCI1005HQ2N7CHBP',\n",
       "        'MCB2012S601HBP'], dtype=object),\n",
       " array(['MHC1005S121MBP', 'MHC1005S121MBP', 'MHC2012S121UBP',\n",
       "        'MHC2012S121UBP', 'MHC2012S600QBP', 'MHC2012S600QBP'], dtype=object),\n",
       " array(['MHC1608S600QBP', 'MCB1005S300FBP', 'MCB1005B102GBP',\n",
       "        'MCB1005S102FBP', 'MCB1005S102FBP', 'MCB1608S152HBP',\n",
       "        'MHC3216S800RBE'], dtype=object),\n",
       " array(['MCI1005HQ3N3BHBP', 'WCI1608CP33NJRBE', 'WCI1608CP33NJRBE',\n",
       "        'MCI1005HQ10NJHBP', 'MCI1005HQ1N2BHBP', 'MCI1005HQ1N5SHBP',\n",
       "        'MCI1005HQ4N7BHBP', 'MCI1005HQ4N7BHBP', 'MCI1005HQ10NGHBP',\n",
       "        'WIP252010S-1R0ML', 'MCI1005HQ1N8BHBP', 'MCI1005HQ2N7BHBP',\n",
       "        'MCI1005HQ2N7BHBP', 'MCI1005HQ3N9BHBP', 'MCI1005HQ4N3BHBP'],\n",
       "       dtype=object),\n",
       " array(['WIP201610P-1R0ML', 'WIP201610P-1R5ML', 'WIP201610P-2R2ML',\n",
       "        'WIP201610P-R24ML', 'WIP201610P-R33ML', 'WIP201610P-R47ML',\n",
       "        'WIP201610P-R68ML', 'WIP201610S-1R0ML', 'WIP201610S-1R5ML'],\n",
       "       dtype=object),\n",
       " array(['WIP252010P-R68ML', 'WIP252010S-1R0ML', 'WIP252010S-2R2ML',\n",
       "        'WIP252010S-R33ML', 'WIP252010S-R47ML', 'WIP252012P-1R5ML',\n",
       "        'WIP252012P-4R7ML', 'WIP252012P-R47ML', 'WIP252012P-R68ML'],\n",
       "       dtype=object),\n",
       " array(['WIP252012S-1R0ML', 'WIP252012S-2R2ML', 'WIP252012S-R47ML'],\n",
       "       dtype=object),\n",
       " array(['WIPEA252012S-1R0ML'], dtype=object),\n",
       " array(['SurgX Array (ESD41)', 'SurgX0603ESDA2', 'SurgX0603ESDA2'],\n",
       "       dtype=object),\n",
       " array(['SurgX0603ESDA2', 'SurgX0603ESDA2', 'SurgX0603ESDA2',\n",
       "        'SurgX0603ESDA2', 'SurgX0603ESDA2'], dtype=object),\n",
       " array(['WIP252012P-R68ML', 'WIP252012P-R68ML', 'MCI1005HQ68NJHBP'],\n",
       "       dtype=object),\n",
       " array(['ACA-5036-A7-CC-S', 'ACA-5036-A7-CC-S', 'ACA-5036-A7-CC-S',\n",
       "        'ACA-5036-A7-CC-S'], dtype=object),\n",
       " array(['MLVS0603L20', 'SurgX Array (ESD41)', 'SurgX Array (ESD41)',\n",
       "        'SurgX0603ESDA2'], dtype=object),\n",
       " array(['ACM3-5036-A1-CC-S', 'ACM3-5036-A1-CC-S'], dtype=object),\n",
       " array(['MCB1005B601EBP', 'MCB1005B102EBP', 'MCB1608S601FBPC6',\n",
       "        'MCB2012S601HBPC6', 'MCB3216S121KBEC6', 'MHC1608P221ZBP2A2C6'],\n",
       "       dtype=object),\n",
       " array(['MLVS0402L04'], dtype=object),\n",
       " array(['MCI1005HQ1N8BHBP', 'MCI1005HQ6N8GHBP'], dtype=object),\n",
       " array(['MCB1005S300FBP', 'MCB1005S300FBP'], dtype=object),\n",
       " array(['SMAJ5.0A-T', 'SMBJ36A-T'], dtype=object),\n",
       " array(['EGA10402V05AH'], dtype=object),\n",
       " array(['MLVS0402L14', 'MLVS0402LE08', 'MLVS0603LE08', 'EGA10402V05B0',\n",
       "        'EGA10603V05B0', 'MIP1608P1R0MBP', 'MIP1608P2R2MBP',\n",
       "        'MPA2016P2R2MBE', 'MIP25201R0MBE', 'MIP25201R5MBE',\n",
       "        'MIP25201R5MBE', 'WIP252012P-1R0ML', 'WIPC252012P-1R5ML',\n",
       "        'WIPC252012P-2R2ML', 'WIPC252012P-R47ML', 'WIP252012P-R47ML'],\n",
       "       dtype=object),\n",
       " array(['MCI1608HQ1N8SHBP', 'MCI1005HQ1N2SHBP', 'MCI1005HQ1N5SHBP',\n",
       "        'MCI1005HW10NJHBP', 'MCI1005HW12NJHBP', 'MCI1005HW27NJHBP',\n",
       "        'MCI1005HW33NJHBP', 'MCI1005HW39NJHBP', 'MCI1005HW4N7SHBP',\n",
       "        'MCI1005HW12NJHBP', 'MCI1005HW39NJHBP', 'MCI1005HW4N7SHBP',\n",
       "        'MCI1005HW33NJHBP', 'MCI1005HW27NJHBP', 'MCI1005HW10NJHBP'],\n",
       "       dtype=object),\n",
       " array(['MHC3216S601PBE'], dtype=object),\n",
       " array(['MHC1608P260Z06BP6A0', 'MCB1005B601EBP', 'MCB1005B102EBP',\n",
       "        'MCB2012S121KBPC6', 'MCB2012S121KBPC6', 'MCB2012S121KBPC6',\n",
       "        'MCB2012S121KBPC6', 'MHC1005G121MBP', 'MHC1608P260Z06BP6A0',\n",
       "        'MHC1608P221ZBP2A2C6', 'MHC1608P221ZBP2A2C6',\n",
       "        'MHC1608P221ZBP2A2C6', 'MHC1608P221ZBP2A2C6'], dtype=object),\n",
       " array(['MCI1005HQ1N0CHBP', 'MCI1005HQ2N7CHBP', 'MCI0603TG0N4BHBP',\n",
       "        'MCB2012S601HBP', 'MCI1005HQ33NJHBP', 'MHC1608S601LBP',\n",
       "        'MHC1005P800ZBP2A3', 'MHC1005P800ZBP2A3', 'MCI1005HQ1N0CHBP',\n",
       "        'MCI1005HQ1N0CHBP', 'MCI1005HQ1N0CHBP', 'MCI1005HQ2N7CHBP',\n",
       "        'MCI1005HQ2N7CHBP', 'MCI1005HQ2N7CHBP', 'MCI1005HQ2N0CHBP',\n",
       "        'MCI1005HQ2N0CHBP', 'MCI1005HQ2N0CHBP', 'MCI1005HQ2N2CHBP',\n",
       "        'MCI1005HQ2N2CHBP', 'MCI1005HQ2N2CHBP'], dtype=object),\n",
       " array(['MHC1005P331ZBP1A2', 'MCI1005HQ2N2CHBP', 'MCI1005HQ10NJHBP',\n",
       "        'MCI0603HQ2N0SHBP', 'MCI1608HQR15JHBP', 'MCI1608HQ18NJHBP',\n",
       "        'MCI1005HQR10JHBP', 'MCI1005HQ15NJHBP', 'MCI1005HQ18NJHBP',\n",
       "        'MCI1005HQ3N9SHBP', 'MCI1005HQ10NJHBP', 'MCI1005HQ82NJHBP',\n",
       "        'MCI1005HQ22NJHBP', 'MCI1005HQ27NJHBP', 'MIP25204R7MBE',\n",
       "        'MCI1005HQ2N2CHBP'], dtype=object),\n",
       " array(['WIP252012P-R68ML'], dtype=object),\n",
       " array(['MLVS1206AM14701F', 'MLVS0402M02-181', 'MLVS1206AM11461F'],\n",
       "       dtype=object),\n",
       " array(['WIP252012P-2R2ML', 'WIP252012P-4R7ML', 'WIP252012P-4R7ML',\n",
       "        'WIP252012P-4R7ML', 'WIP252012P-4R7ML', 'MCI1005HQ8N2JHBP',\n",
       "        'MCI1005HQ1N8SHBP'], dtype=object),\n",
       " array(['EGA10402V05AH'], dtype=object),\n",
       " array(['MHC1608P471ZBP1A5', 'WIP252012P-1R0ML'], dtype=object),\n",
       " array(['MLVG04021R0UV18BP', 'MLVG04023R0TV18BP', 'MLVG04023R0TV18BP'],\n",
       "       dtype=object),\n",
       " array(['MCI1005HQ5N6SHBP', 'MCI1005HQ47NJHBP', 'MCI1005HQ8N2JHBP',\n",
       "        'MCI1005HQ12NJHBP', 'MCI1005HQ1N0CHBP', 'MCI1005HQ2N7CHBP',\n",
       "        'MCI1005HQ2N0CHBP', 'MCI1005HQ2N2CHBP', 'MCB1608S301HBP',\n",
       "        'MHC1005P331ZBP1A2', 'MHC1005P331ZBP1A2', 'WIP252010P-2R2ML',\n",
       "        'WIP252010P-2R2ML', 'MCI1005HQ5N6SHBP'], dtype=object),\n",
       " array(['WIP252012P-1R0ML'], dtype=object),\n",
       " array(['MCB1005S800FBTC6', 'MCB1005S800FBTC6'], dtype=object),\n",
       " array(['MIP2012P4R7MBE', 'MIP2012P4R7MBE'], dtype=object),\n",
       " array(['MLVS1206AM04152F'], dtype=object),\n",
       " array(['MHC3216S601PBE'], dtype=object),\n",
       " array(['MCB2012S121KBPC6', 'MCB2012S121KBPC6'], dtype=object),\n",
       " array(['MLVG0402120LV18BP', 'MLA0402V18', 'MLA0603V9L'], dtype=object),\n",
       " array(['EGA10603V12A0', 'EGA10402V05A0', 'EGA41206V12A0'], dtype=object),\n",
       " array(['MLVS1206AM04152F'], dtype=object),\n",
       " array(['MCB1005B601EBP'], dtype=object),\n",
       " array(['MHC3216S601PBE'], dtype=object),\n",
       " array(['MLVS0603AM14300', 'MIP25204R7MBE', 'WIPC252010P-1R5ML',\n",
       "        'WIPC252010P-2R2ML', 'WIPC252010P-4R7ML', 'WIPC252010P-R22ML'],\n",
       "       dtype=object),\n",
       " array(['MHC1608S301NBP'], dtype=object),\n",
       " array(['MHC2012S102NBE', 'MHC2012S102NBE', 'MCI1005HQ1N0CHBP',\n",
       "        'MCI1005HQ2N7CHBP', 'MCI1005HQ2N2CHBP', 'MHC1608S121PBP',\n",
       "        'MHC3216S601PBE', 'MCB1608S301HBP', 'MHC2012S102NBE'], dtype=object),\n",
       " array(['zepto0201-PSR-29340', 'zepto0201-PSR-29340',\n",
       "        'zepto0201-PSR-29340', 'zepto0201-PSR-29340',\n",
       "        'zepto0201-PSR-29340'], dtype=object),\n",
       " array(['TVL 0201 01 AC1'], dtype=object),\n",
       " array(['HCE1012GH900BP'], dtype=object),\n",
       " array(['WIP252012S-1R0ML', 'MCI1608HQR27JHBP', 'WIP252012S-1R0ML'],\n",
       "       dtype=object),\n",
       " array(['MCB1005H121FBP'], dtype=object),\n",
       " array(['MCB1005B601EBP', 'MCB1005B102EBP', 'MCB1005B102EBP'], dtype=object),\n",
       " array(['MCB1608S102CBP'], dtype=object),\n",
       " array(['EGA10603V12B0', 'MLVS1206AM14701F', 'MLVS0805AM11401F'],\n",
       "       dtype=object),\n",
       " array(['WIP201610P-R47ML'], dtype=object),\n",
       " array(['MCB2012S601HBPC6', 'MCB2012S121KBPC6', 'MHC1608P221ZBP2A2C6',\n",
       "        'MHC1608P221ZBP2A2C6', 'MCB1005B102EBP', 'MCB2012S601HBPC6'],\n",
       "       dtype=object),\n",
       " array(['MLVS0603L04', 'EGA10603V05B0', 'EGA10603V12B0', 'EGA10603V12B0'],\n",
       "       dtype=object),\n",
       " array(['WIP201610P-1R5ML'], dtype=object),\n",
       " array(['MCB1005S601FBP', 'MCB1005S601FBP', 'MCB1005S601FBP',\n",
       "        'MCB1005S601FBP', 'MHC2012S221QBP', 'MCB1005S601FBP'], dtype=object),\n",
       " array(['HCM1012GD900A05P'], dtype=object),\n",
       " array(['MLVS0402LE08', 'EGA10402V05B0'], dtype=object),\n",
       " array(['MCB1005S601FBP'], dtype=object),\n",
       " array(['MLVG04020R5IV18BP', 'WIPEA252012S-1R0ML'], dtype=object),\n",
       " array(['TVL 0201 01 AC1', 'MLVS0603L20', 'MLVG04020R5IV18BP',\n",
       "        'SurgX0603ESDA2'], dtype=object),\n",
       " array(['WIP252010P-R22ML'], dtype=object),\n",
       " array(['MCB1005S300FBP', 'MHC1608S600QBP', 'MCB1005B102GBP',\n",
       "        'MHC3216S800RBE', 'MCB1005S300FBP', 'MHC1608S600QBP',\n",
       "        'MHC1608S600QBP', 'MCB1005S102FBP', 'MCB1005S102FBP',\n",
       "        'MCB1608S152HBP', 'MCB1005S300FBP', 'MHC1608S600QBP',\n",
       "        'MHC1608S600QBP', 'MCB1005B102GBP', 'MCB1005S102FBP',\n",
       "        'MCB1005S102FBP', 'MCB1608S152HBP', 'MHC3216S800RBE',\n",
       "        'MHC3216S800RBE', 'MIP20121R0MBE'], dtype=object),\n",
       " array(['zepto0201-PSR-29326'], dtype=object),\n",
       " array(['zepto0201-PSR-29326'], dtype=object),\n",
       " array(['MCM2012B221FBE'], dtype=object),\n",
       " array(['MHC1608P260Z06BP6A0', 'MHC1608P260Z06BP6A0', 'MHC1005G121MBP',\n",
       "        'MHC1608P260Z06BP6A0', 'MHC1005G121MBP', 'MHC1608P260Z06BP6A0'],\n",
       "       dtype=object),\n",
       " array(['MLVS0402LE08', 'MLVS0603L14', 'MLVS0603L14', 'MLVS0603L20',\n",
       "        'MLVS0603L20', 'MLVS0603L04', 'MLVS0603L04', 'EGA10603V05B0',\n",
       "        'EGA10603V12B0', 'MLVS0603LE08', 'EGA10402V24B0', 'EGA10603V05B0',\n",
       "        'EGA10603V24B0', 'EGA10603V24B0', 'MPA2016P2R2MBE',\n",
       "        'MIP25201R0MBE', 'MIP25201R5MBE', 'MIP25202R2MBE', 'MIP25202R2MBE',\n",
       "        'MIP25202R2MBE', 'MIP25203R3MBE', 'MIP25204R7MBE',\n",
       "        'WIPC201610P-1R0ML', 'WIPC201610P-1R0ML', 'WIPC252010P-1R5ML',\n",
       "        'WIPC252010P-1R5ML', 'WIPC252010P-2R2ML', 'WIPC252010P-R68ML',\n",
       "        'WIP252012P-1R0ML', 'WIPC252012P-1R5ML', 'WIPC252012P-2R2ML',\n",
       "        'WIPC252012P-R47ML', 'WIPC252010P-2R2ML'], dtype=object),\n",
       " array(['MHC3216S601PBE', 'MHC3216S601PBE'], dtype=object),\n",
       " array(['MHC1005G121MBP'], dtype=object),\n",
       " array(['MCB1005S601FBP', 'MCB1005S601FBP', 'MHC3216S601PBE'], dtype=object),\n",
       " array(['MCI1608HQ27NJHBP', 'MCI1005HQ1N0CHBP', 'MCI1005HQ2N7CHBP',\n",
       "        'MCI1005HQ2N0CHBP', 'MCI1005HQ2N2CHBP', 'MCI1005HQ8N2JHBP',\n",
       "        'MCI0603HQ2N0SHBP'], dtype=object),\n",
       " array(['WIP201610S-R33ML'], dtype=object),\n",
       " array(['MCI1005HQ5N6SHBP', 'MCI0603TG0N6BHBP'], dtype=object),\n",
       " array(['MHC1005P121ZBP2A0', 'MHC1608S601LBP', 'MHC1608S301NBP',\n",
       "        'MCB1005S601FBP', 'MCI0603TG1N5BHBP', 'MHC1608S601LBP',\n",
       "        'MCB1005S601FBP', 'MHC1608S471LBP'], dtype=object),\n",
       " array(['zepto0201-PSR-29340', 'zepto0201-PSR-29340',\n",
       "        'zepto0201-PSR-29340', 'zepto0201-PSR-29340'], dtype=object),\n",
       " array(['MLVS1206AM35201F', 'MLVS1206AM35201F'], dtype=object),\n",
       " array(['MLVS0603AM06241F', 'EGA10603V05B0', 'EGA10603V12B0',\n",
       "        'EGA10402V05AH', 'MLVS1206AM40181F', 'MLVS0603AM04301F',\n",
       "        'MLVS0603AM04301F'], dtype=object),\n",
       " array(['MCI1005HQ2N7SHBP', 'MCI1005HQ2N7SHBP'], dtype=object),\n",
       " array(['MCI1005HQ2N7SHBP', 'MCB1005S601FBP', 'MHC1005P121ZBP2A0',\n",
       "        'MHC2012S301NBP', 'MHC1608S121PBP', 'MHC1608S301NBP',\n",
       "        'MCB1005S601FBP', 'MHC2012S121QBP', 'MCI1005HQ4N7SHBP'],\n",
       "       dtype=object),\n",
       " array(['MCB1005S601FBP'], dtype=object),\n",
       " array(['MLVS0805AM30201F', 'MLVS0603AM14101F', 'EGA10603V05B0',\n",
       "        'EGA10402V05AH', 'MLVS1206AM40181F', 'MLVS0603AM04301F',\n",
       "        'MLVS1206AM11461F', 'MLVS1206AM14701F', 'MLVS1206AM20601F',\n",
       "        'MLVS1206AM20601F', 'MLVS0603AM06241F'], dtype=object),\n",
       " array(['WMM1040PX-100M', 'WMM1040PX-100M'], dtype=object),\n",
       " array(['MCI1005HQ3N3BHBP', 'MCI1005HQ1N2SHBP', 'MCI1005HQ4N3BHBP',\n",
       "        'MCI1005HQ4N7BHBP', 'MCI1005HQ4N7BHBP', 'MCI1005HQ10NGHBP',\n",
       "        'MCI1005HQ10NGHBP', 'MCI0603TG3N0CHBP'], dtype=object),\n",
       " array(['WIP201610S-1R0ML', 'WIP252012P-1R5ML', 'WIP252012P-R68ML',\n",
       "        'WIP252012P-R68ML', 'WIP252012P-R68ML', 'MCI1005HQ1N2SHBP',\n",
       "        'MCI1005HQ22NJHBP', 'MCI1005HQ27NJHBP', 'MCI1005HQ2N2SHBP',\n",
       "        'MCI1005HQ2N7SHBP', 'MCI1005HQ3N0SHBP', 'MCI1005HQ47NJHBP',\n",
       "        'MCI1005HQ4N7SHBP', 'MCI1005HQ6N8JHBP', 'MCI1005HQR10JHBP',\n",
       "        'MCI1005HQR15JHBP', 'MCI1608HQ10NJHBP', 'MCI1608HQ22NJHBP',\n",
       "        'WIP252012P-R68ML'], dtype=object),\n",
       " array(['MIP2012P4R7MBE'], dtype=object),\n",
       " array(['EGA41206V12B0'], dtype=object),\n",
       " array(['WIP252012S-1R0ML', 'MHC3216S601PBE', 'WIP252012S-1R0ML'],\n",
       "       dtype=object),\n",
       " array(['MHC1608P260Z06BP6A0', 'MCB1005B102EBT', 'MCB1005B102EBT',\n",
       "        'MCB1005B102EBT'], dtype=object),\n",
       " array(['WIP201610P-R47ML'], dtype=object),\n",
       " array(['MHC3216S601PBE'], dtype=object),\n",
       " array(['MCB1005B102EBP'], dtype=object),\n",
       " array(['WIP252012P-2R2ML'], dtype=object),\n",
       " array(['MHC1005G121MBP'], dtype=object),\n",
       " array(['MCI1005HQ1N2BHBP', 'MCI1005HQ1N2BHBP', 'MCI1005HQ1N2BHBP',\n",
       "        'MCI1005HQ1N2BHBP', 'MCI1005HQ2N2BHBP', 'MCI1005HQ2N2BHBP'],\n",
       "       dtype=object),\n",
       " array(['ACA-5036-A7-CC-S', 'ACA-5036-A7-CC-S'], dtype=object),\n",
       " array(['EGA10402V24B0'], dtype=object),\n",
       " array(['MLVS0805AM25251F', 'MLVS0805AM25251F'], dtype=object),\n",
       " array(['EGA10603V05B0', 'MLVS1206AM04152F'], dtype=object),\n",
       " array(['MCI1005HQ3N3SHBP', 'MHC1005P331ZBP1A2', 'MCI0603HQ10NJHBP',\n",
       "        'MCI0603HQ12NJHBP', 'MCI0603HQ15NJHBP', 'MCI0603HQ22NJHBP',\n",
       "        'MCI0603HQ27NJHBP', 'MCI0603HQ33NJHBP', 'MCI0603HQ8N2JHBP',\n",
       "        'MCI0603HQ1N2SHBP', 'MCI0603HQ1N5SHBP', 'MCI0603HQ1N8SHBP',\n",
       "        'MCI0603HQ2N0SHBP', 'MCI0603HQ2N7SHBP', 'MCI0603HQ3N3SHBP',\n",
       "        'MCI0603HQ3N9SHBP', 'MCI0603HQ4N7SHBP', 'MCI0603HQ5N1SHBP',\n",
       "        'MCI1005HQ18NJHBP', 'MCI1005HQ22NJHBP', 'MCI1005HQ3N0SHBP',\n",
       "        'MIP2016P1R0MBE', 'MIP2016P1R5MBE', 'MIP2016P2R2MBE',\n",
       "        'MIP25202R2MBE', 'MIP25204R7MBE', 'MIP2520R47MBE',\n",
       "        'MIP2016P1R0MBE', 'MIP2016P2R2MBE', 'MIP25202R2MBE',\n",
       "        'MIP25204R7MBE', 'MIP2520R47MBE', 'MCI1005HQ1N5BHBP',\n",
       "        'MCI0603HQ10NJHBP', 'MCI0603HQ33NJHBP', 'MCI0603HQ2N0SHBP',\n",
       "        'MCI0603HQ4N7SHBP', 'MCI1005HQ18NJHBP', 'MCI0603HQ4N7SHBP',\n",
       "        'MCI0603HQ1N2SHBP', 'MCI0603HQ33NJHBP', 'MIP2016P1R5MBE',\n",
       "        'MIP2520R47MBE', 'MIP2016P1R0MBE'], dtype=object),\n",
       " array(['MCI1005HQ33NJHBP', 'MCI1005HQR10JHBP', 'MCI1005HQ10NJHBP',\n",
       "        'MCI1005HQ27NJHBP', 'MCI1005HQ15NJHBP', 'MCI1608HQ5N6SHBP',\n",
       "        'MCB1608S121IBP', 'MCI1608HQ5N6SHBP', 'MCI1005HQ1N0BHBP',\n",
       "        'MCI1005HQ4N7BHBP'], dtype=object),\n",
       " array(['MLVS0805P35-171', 'MLVS1206P17-651'], dtype=object),\n",
       " array(['MCI1005HQ10NJHBP', 'MCI1005HQR10JHBP', 'MCI1005HQ10NGHBP'],\n",
       "       dtype=object),\n",
       " array(['HCM1012GS150A05P'], dtype=object),\n",
       " array(['MCI1005HQ1N0SHBP', 'MCI1005HQ1N0SHBP', 'MCI1005HQ3N9SHBP',\n",
       "        'MCI1005HQ3N9SHBP', 'MCI1005HQ3N9SHBP', 'MCI1608HQ6N8JHBP',\n",
       "        'MCI1608HQ1N8SHBP'], dtype=object),\n",
       " array(['WIP252010P-R47ML', 'WIP252012P-2R2ML', 'WIP252010S-R47ML'],\n",
       "       dtype=object),\n",
       " array(['MCI1005HQ8N2JHBP'], dtype=object),\n",
       " array(['HCM1012GD900A05P'], dtype=object),\n",
       " array(['MHC3216S601PBE'], dtype=object),\n",
       " array(['MHC3216S601PBE', 'MHC3216S601PBE'], dtype=object),\n",
       " array(['MCB1005B102EBP'], dtype=object),\n",
       " array(['WIP201610P-1R0ML'], dtype=object),\n",
       " array(['MLVS0402LE06', 'MLVS0805P35-171', 'MLVS0402LE06'], dtype=object),\n",
       " array(['MHC1005P331ZBP1A2', 'MCB1608S301HBP', 'MHC1608W121NBP',\n",
       "        'MCI1005HQ2N0CHBP', 'MCI1005HQ2N0CHBP', 'MCI1005HQ2N0CHBP',\n",
       "        'MCI1005HQ2N0CHBP', 'MCI1005HQ2N0CHBP', 'MCI1005HQ2N0CHBP',\n",
       "        'MCI1005HQ2N0CHBP', 'MCI1005HQ2N0CHBP', 'MCI1005HQ2N0CHBP',\n",
       "        'MCI1005HQ2N0CHBP'], dtype=object),\n",
       " array(['MCB1608S152HBPC6'], dtype=object),\n",
       " array(['MCB2012S121KBPC6'], dtype=object),\n",
       " array(['MHC2012S600QBTC6', 'MHC1005G121MBP'], dtype=object),\n",
       " array(['EGA41206V12B0'], dtype=object),\n",
       " array(['MLVG04023R0LV42BP', 'MLA0402V14', 'MLA0603V14', 'MLA0402V18E',\n",
       "        'MLA0402V5.5', 'MLA0603V5.5L'], dtype=object),\n",
       " array(['EGA10603V12A0', 'EGA10402V05A0', 'EGA10603V12A0-T'], dtype=object),\n",
       " array(['MLVS1206AM04152F', 'MLVS1206AM25551F'], dtype=object),\n",
       " array(['MCB1608S601FBPC6'], dtype=object),\n",
       " array(['WIPC252010P-R47ML', 'WIPC252010P-R68ML', 'WIPC252012P-4R7ML'],\n",
       "       dtype=object),\n",
       " array(['MHC1608P260Z06BP6A0', 'MCB2012S601HBPC6', 'MCB2012S601HBPC6',\n",
       "        'MCB2012S601HBPC6', 'MHC1005G121MBP'], dtype=object),\n",
       " array(['MCI1005HQ1N0SHBP', 'MCI1005HQ1N0SHBP', 'MCI1005HQ2N7SHBP',\n",
       "        'MCI1005HQ1N0SHBP'], dtype=object),\n",
       " array(['MLVS1206AM35201F', 'MLVS1206AM35201F'], dtype=object),\n",
       " array(['zepto0201-PSR-29340', 'zepto0201-PSR-29340',\n",
       "        'zepto0201-PSR-29340', 'zepto0201-PSR-29340',\n",
       "        'zepto0201-PSR-29340'], dtype=object),\n",
       " array(['SurgX Array (ESD41)', 'MLVS0603L20', 'WIPEA252012S-1R0ML',\n",
       "        'SurgX0603ESDA2'], dtype=object),\n",
       " array(['SurgX Array (ESD41)', 'WIPEA252012S-1R0ML', 'SurgX0603ESDA2'],\n",
       "       dtype=object),\n",
       " array(['TVL 0201 01 AC1'], dtype=object),\n",
       " array(['WIP252010P-2R2ML', 'MCI0603TG0N6BHBP', 'MCI1005HQ1N5BHBP',\n",
       "        'MCI0603HQ15NJHBP', 'MCI0603HQ15NJHBP', 'MCI1005HQ1N0CHBP',\n",
       "        'MCI1005HQ2N7CHBP', 'MCI1005HQ2N0CHBP', 'MCI1005HQ2N2CHBP',\n",
       "        'MHC1005P331ZBP1A2', 'MCI1005HQ2N0CHBP'], dtype=object),\n",
       " array(['MHC2012S121UBP', 'MHC2012S600QBP'], dtype=object),\n",
       " array(['WIP252012P-1R0ML', 'MHC1608S600QBP'], dtype=object),\n",
       " array(['MCB1005S601FBP', 'MCB1005S601FBP'], dtype=object),\n",
       " array(['MCI0603HQ6N2SHBP', 'MHC2012S301NBP', 'MHC1608S121PBP',\n",
       "        'MHC1608S301NBP', 'MCB1005S601FBP', 'MHC2012S121QBP',\n",
       "        'MHC2012S310WBP', 'MCI1005HQ4N7SHBP', 'MCI1005HQ22NJHBP',\n",
       "        'MIP2016P2R2MBE', 'MCI1005HQ47NJHBP', 'MCI0603HQ10NJHBP',\n",
       "        'MCI0603HQ12NJHBP', 'MCI0603HQ22NJHBP', 'MCI0603HQ27NJHBP',\n",
       "        'MCI0603HQ33NJHBP', 'MCI0603HQ6N8JHBP', 'MCI0603HQ7N5JHBP',\n",
       "        'MCI0603HQ8N2JHBP', 'MCI0603HQ1N0SHBP', 'MCI0603HQ1N2SHBP',\n",
       "        'MCI0603HQ1N5SHBP', 'MCI0603HQ1N8SHBP', 'MCI0603HQ2N2SHBP',\n",
       "        'MCI0603HQ2N4SHBP', 'MCI0603HQ2N7SHBP', 'MCI0603HQ3N3SHBP',\n",
       "        'MCI0603HQ3N6SHBP', 'MCI0603HQ3N9SHBP', 'MCI0603HQ4N7SHBP',\n",
       "        'MCI0603HQ5N6SHBP', 'MCI1005HQ18NJHBP', 'MCI1005HQ3N0SHBP',\n",
       "        'MCI1005HQ3N9SHBP', 'MCI0603HQ2N7SHBP', 'MCI0603HQ3N6SHBP',\n",
       "        'MCI1005HQ3N9SHBP', 'MCI0603HQ22NJHBP', 'MCI0603HQ3N9SHBP',\n",
       "        'MCI0603HQ1N0SHBP', 'MCI0603HQ1N8SHBP', 'MCI0603HQ22NJHBP',\n",
       "        'MCI0603HQ27NJHBP', 'MCI0603HQ2N4SHBP', 'MCI0603HQ2N7SHBP',\n",
       "        'MCI0603HQ33NJHBP', 'MCI0603HQ3N3SHBP', 'MCI0603HQ6N8JHBP',\n",
       "        'MCI0603HQ7N5JHBP', 'MCI0603HQ10NJHBP', 'MCI0603HQ10NJHBP',\n",
       "        'MCI0603HQ1N2SHBP', 'MCI0603HQ1N2SHBP', 'MCI1005HQ3N0SHBP',\n",
       "        'MCI0603HQ1N2SHBP', 'MCI0603HQ33NJHBP'], dtype=object),\n",
       " array(['MHC2012S600QBTC6', 'MHC1005G121MBP'], dtype=object),\n",
       " array(['MHC1608P260Z06BP6A0', 'MHC1005G121MBP'], dtype=object),\n",
       " array(['MHC3216S601PBE'], dtype=object),\n",
       " array(['HCM1012GS150A05P', 'HCM1012GD500A05P', 'HCM2012GD900AE'],\n",
       "       dtype=object),\n",
       " array(['HCM1012GD900A05P'], dtype=object),\n",
       " array(['MCI1005HQ3N3SHBP', 'MCB1005S601FBP'], dtype=object),\n",
       " array(['MHC2012S300WBP'], dtype=object),\n",
       " ...]"
      ]
     },
     "execution_count": 165,
     "metadata": {},
     "output_type": "execute_result"
    }
   ],
   "source": [
    "# 整理出所有每筆訂單的購物內容\n",
    "cart_ordered"
   ]
  },
  {
   "cell_type": "code",
   "execution_count": 152,
   "metadata": {
    "scrolled": true
   },
   "outputs": [],
   "source": [
    "from mlxtend.preprocessing import TransactionEncoder"
   ]
  },
  {
   "cell_type": "code",
   "execution_count": 166,
   "metadata": {},
   "outputs": [],
   "source": [
    "te = TransactionEncoder()\n",
    "te.ary = te.fit(cart_ordered).transform(cart_ordered)"
   ]
  },
  {
   "cell_type": "code",
   "execution_count": 167,
   "metadata": {},
   "outputs": [
    {
     "data": {
      "text/plain": [
       "array([[False, False, False, ..., False, False, False],\n",
       "       [False, False, False, ..., False, False, False],\n",
       "       [False, False, False, ..., False, False, False],\n",
       "       ...,\n",
       "       [False, False, False, ..., False, False, False],\n",
       "       [False, False, False, ..., False, False, False],\n",
       "       [False, False, False, ..., False, False, False]])"
      ]
     },
     "execution_count": 167,
     "metadata": {},
     "output_type": "execute_result"
    }
   ],
   "source": [
    "te.ary"
   ]
  },
  {
   "cell_type": "code",
   "execution_count": 168,
   "metadata": {
    "scrolled": true
   },
   "outputs": [
    {
     "data": {
      "text/plain": [
       "['000005700008 SurgX0603ESDA2',\n",
       " '000006001072 MLVS1206AM30501F',\n",
       " '056ZEN075（RS1010）-SMT',\n",
       " '056ZEN130 New(RS4146)-SMT',\n",
       " '056ZEN230（RS1013）-SMT',\n",
       " '059ZEN130（RS1362）-SMT',\n",
       " '065ZEN130（RS1007）-SMT',\n",
       " '065ZEN230（RS1006）-SMT',\n",
       " '132ZEN130（RS1005）-SMT',\n",
       " '132ZEN230（RS1009）-SMT',\n",
       " 'ACA-3216-D1-MF-S',\n",
       " 'ACA-5036-A2-CC-S-00-E1',\n",
       " 'ACA-5036-A7-CC-S',\n",
       " 'ACD-5036-A3-CC-S-00-E1',\n",
       " 'ACE-3505-P1-PF-S',\n",
       " 'ACE-3505-P1-PF-STestBoard',\n",
       " 'ACH-5036-A1-CC-S-00-E1',\n",
       " 'ACM0-3216-A1-CC-S',\n",
       " 'ACM0-3216-A1-CC-S-00',\n",
       " 'ACM0-3216-A1-CC-S-00-E1',\n",
       " 'ACM3-5036-A1-CC-S',\n",
       " 'ACM3-5036-A1-CC-S-00-E1',\n",
       " 'ACM3-5036-A1-CC-S-chip',\n",
       " 'ACM4-5036-A1-CC-S-00',\n",
       " 'AIP0530GX-R33MPB',\n",
       " 'AIP06030GX Series SPEC',\n",
       " 'AIP0603GX-100MPB',\n",
       " 'AIP0603GX-1R0MPB',\n",
       " 'AIP0603GX-1R8MPB',\n",
       " 'AIP0603GX-220MPB',\n",
       " 'AIP0603GX-2R2MPB',\n",
       " 'AIP0603GX-3R3MPB',\n",
       " 'AIP0603GX-4R7MPB',\n",
       " 'AIP0603GX-6R8MPB',\n",
       " 'AIP1040EX-1R5MPA',\n",
       " 'AIP1040EX-3R3MPA',\n",
       " 'B3G02G-S3-01-A',\n",
       " 'C03粉末',\n",
       " 'CES10201V24B0',\n",
       " 'CGA10201V05B0',\n",
       " 'CI060303-3N9C*30kpcs(HOTAYI-TI',\n",
       " 'DAM-P11-B-R2-015-10-49',\n",
       " 'DAM-P11-B-R2-015-10-50',\n",
       " 'DAM-P11-E1-R2-003-22-03',\n",
       " 'Development and CAD - SMDMOV',\n",
       " 'Development for WE-VE femtoF',\n",
       " 'EGA10402V05A0',\n",
       " 'EGA10402V05A0-C3',\n",
       " 'EGA10402V05A0-T',\n",
       " 'EGA10402V05AH',\n",
       " 'EGA10402V05B0',\n",
       " 'EGA10402V12B0',\n",
       " 'EGA10402V24B0',\n",
       " 'EGA10603V05B0',\n",
       " 'EGA10603V12A0',\n",
       " 'EGA10603V12A0-T',\n",
       " 'EGA10603V12B0',\n",
       " 'EGA10603V24B0',\n",
       " 'EGA41206V12A0',\n",
       " 'EGA41206V12B0',\n",
       " 'GNS01U7W-S6-00-A',\n",
       " 'GNS01U7W-S6-06-A',\n",
       " 'GPSGLONASS45D-S6-00-A',\n",
       " 'GPSGLONASSU10N-N6-0022-A',\n",
       " 'GPSGLONASSU10N-N6-0420-A',\n",
       " 'GPSH212N-N3-19-A',\n",
       " 'GPSLX09U8W-S6-01-A',\n",
       " 'HCE1012GH900BP',\n",
       " 'HCM1012GD500A05P',\n",
       " 'HCM1012GD900A05P',\n",
       " 'HCM1012GD900B05P',\n",
       " 'HCM1012GD900B05P 工規',\n",
       " 'HCM1012GS150A05P',\n",
       " 'HCM2012GD900AE',\n",
       " 'LR-1-3CORE-NANO-PUN-ENHANCE-壓',\n",
       " 'LR-MICRO-PUNCHCORE-8064-SS1-PU',\n",
       " 'MCB0603P121ZBPA45',\n",
       " 'MCB1005B102EBP',\n",
       " 'MCB1005B102EBT',\n",
       " 'MCB1005B102GBP',\n",
       " 'MCB1005B601EBP',\n",
       " 'MCB1005H121FBP',\n",
       " 'MCB1005H470FBP',\n",
       " 'MCB1005H750FBP',\n",
       " 'MCB1005S102FBP',\n",
       " 'MCB1005S121FBP',\n",
       " 'MCB1005S151FBP',\n",
       " 'MCB1005S300FBP',\n",
       " 'MCB1005S601FBP',\n",
       " 'MCB1005S601HBP',\n",
       " 'MCB1005S800FBTC6',\n",
       " 'MCB1005S800KBPC6',\n",
       " 'MCB1608S100IBP',\n",
       " 'MCB1608S102CBP',\n",
       " 'MCB1608S102EBP',\n",
       " 'MCB1608S121IBP',\n",
       " 'MCB1608S152HBP',\n",
       " 'MCB1608S152HBPC6',\n",
       " 'MCB1608S221HBP',\n",
       " 'MCB1608S252EBP',\n",
       " 'MCB1608S301HBP',\n",
       " 'MCB1608S471FBP',\n",
       " 'MCB1608S601EBP',\n",
       " 'MCB1608S601FBP',\n",
       " 'MCB1608S601FBPC6',\n",
       " 'MCB1608S800IBP',\n",
       " 'MCB2012S121KBPC6',\n",
       " 'MCB2012S300KBP',\n",
       " 'MCB2012S301HBP',\n",
       " 'MCB2012S601HBP',\n",
       " 'MCB2012S601HBPC6',\n",
       " 'MCB3216S121IBE',\n",
       " 'MCB3216S121KBEC6',\n",
       " 'MCI0603HQ0N3BHBP',\n",
       " 'MCI0603HQ0N4BHBP',\n",
       " 'MCI0603HQ0N5BHBP',\n",
       " 'MCI0603HQ0N6BHBP',\n",
       " 'MCI0603HQ0N7BHBP',\n",
       " 'MCI0603HQ0N8BHBP',\n",
       " 'MCI0603HQ0N9BHBP',\n",
       " 'MCI0603HQ10NJHBP',\n",
       " 'MCI0603HQ12NJHBP',\n",
       " 'MCI0603HQ15NJHBP',\n",
       " 'MCI0603HQ18NJHBP',\n",
       " 'MCI0603HQ1N0BHBP',\n",
       " 'MCI0603HQ1N0SHBP',\n",
       " 'MCI0603HQ1N1SHBP',\n",
       " 'MCI0603HQ1N2BHBP',\n",
       " 'MCI0603HQ1N2SHBP',\n",
       " 'MCI0603HQ1N3SHBP',\n",
       " 'MCI0603HQ1N4SHBP',\n",
       " 'MCI0603HQ1N5BHBP',\n",
       " 'MCI0603HQ1N5SHBP',\n",
       " 'MCI0603HQ1N6SHBP',\n",
       " 'MCI0603HQ1N7SHBP',\n",
       " 'MCI0603HQ1N8BHBP',\n",
       " 'MCI0603HQ1N8SHBP',\n",
       " 'MCI0603HQ1N9SHBP',\n",
       " 'MCI0603HQ22NJHBP',\n",
       " 'MCI0603HQ27NJHBP',\n",
       " 'MCI0603HQ2N0BHBP',\n",
       " 'MCI0603HQ2N0SHBP',\n",
       " 'MCI0603HQ2N1SHBP',\n",
       " 'MCI0603HQ2N2BHBP',\n",
       " 'MCI0603HQ2N2SHBP',\n",
       " 'MCI0603HQ2N3SHBP',\n",
       " 'MCI0603HQ2N4BHBP',\n",
       " 'MCI0603HQ2N4SHBP',\n",
       " 'MCI0603HQ2N5SHBP',\n",
       " 'MCI0603HQ2N6SHBP',\n",
       " 'MCI0603HQ2N7BHBP',\n",
       " 'MCI0603HQ2N7SHBP',\n",
       " 'MCI0603HQ2N9SHBP',\n",
       " 'MCI0603HQ33NJHBP',\n",
       " 'MCI0603HQ39NJHBP',\n",
       " 'MCI0603HQ3N0BHBP',\n",
       " 'MCI0603HQ3N0SHBP',\n",
       " 'MCI0603HQ3N1SHBP',\n",
       " 'MCI0603HQ3N2SHBP',\n",
       " 'MCI0603HQ3N3BHBP',\n",
       " 'MCI0603HQ3N3SHBP',\n",
       " 'MCI0603HQ3N4SHBP',\n",
       " 'MCI0603HQ3N5SHBP',\n",
       " 'MCI0603HQ3N6BHBP',\n",
       " 'MCI0603HQ3N6SHBP',\n",
       " 'MCI0603HQ3N7SHBP',\n",
       " 'MCI0603HQ3N8SHBP',\n",
       " 'MCI0603HQ3N9BHBP',\n",
       " 'MCI0603HQ3N9CHBP',\n",
       " 'MCI0603HQ3N9SHBP',\n",
       " 'MCI0603HQ4N3BHBP',\n",
       " 'MCI0603HQ4N3SHBP',\n",
       " 'MCI0603HQ4N7BHBP',\n",
       " 'MCI0603HQ4N7CHBP',\n",
       " 'MCI0603HQ4N7SHBP',\n",
       " 'MCI0603HQ5N1BHBP',\n",
       " 'MCI0603HQ5N1SHBP',\n",
       " 'MCI0603HQ5N6BHBP',\n",
       " 'MCI0603HQ5N6SHBP',\n",
       " 'MCI0603HQ6N2BHBP',\n",
       " 'MCI0603HQ6N2SHBP',\n",
       " 'MCI0603HQ6N8HHBP',\n",
       " 'MCI0603HQ6N8JHBP',\n",
       " 'MCI0603HQ7N5JHBP',\n",
       " 'MCI0603HQ8N2HHBP',\n",
       " 'MCI0603HQ8N2JHBP',\n",
       " 'MCI0603HQ9N1JHBP',\n",
       " 'MCI0603TG0N4BHBP',\n",
       " 'MCI0603TG0N5BHBP',\n",
       " 'MCI0603TG0N6BHBP',\n",
       " 'MCI0603TG0N7BHBP',\n",
       " 'MCI0603TG0N8BHBP',\n",
       " 'MCI0603TG0N9BHBP',\n",
       " 'MCI0603TG10NHHBP',\n",
       " 'MCI0603TG12NHHBP',\n",
       " 'MCI0603TG12NJHBP',\n",
       " 'MCI0603TG15NHHBP',\n",
       " 'MCI0603TG15NJHBP',\n",
       " 'MCI0603TG18NHHBP',\n",
       " 'MCI0603TG18NJHBP',\n",
       " 'MCI0603TG1N0BHBP',\n",
       " 'MCI0603TG1N2BHBP',\n",
       " 'MCI0603TG1N5BHBP',\n",
       " 'MCI0603TG1N6BHBP',\n",
       " 'MCI0603TG1N7BHBP',\n",
       " 'MCI0603TG1N8BHBP',\n",
       " 'MCI0603TG1N8CHBP',\n",
       " 'MCI0603TG1N9BHBP',\n",
       " 'MCI0603TG22NHHBP',\n",
       " 'MCI0603TG22NJHBP',\n",
       " 'MCI0603TG27NJHBP',\n",
       " 'MCI0603TG2N0BHBP',\n",
       " 'MCI0603TG2N2BHBP',\n",
       " 'MCI0603TG2N2CHBP',\n",
       " 'MCI0603TG2N3BHBP',\n",
       " 'MCI0603TG2N4BHBP',\n",
       " 'MCI0603TG2N6BHBP',\n",
       " 'MCI0603TG2N7BHBP',\n",
       " 'MCI0603TG2N9BHBP',\n",
       " 'MCI0603TG3N0BHBP',\n",
       " 'MCI0603TG3N0CHBP',\n",
       " 'MCI0603TG3N1BHBP',\n",
       " 'MCI0603TG3N3BHBP',\n",
       " 'MCI0603TG3N5BHBP',\n",
       " 'MCI0603TG3N6BHBP',\n",
       " 'MCI0603TG3N7BHBP',\n",
       " 'MCI0603TG3N8BHBP',\n",
       " 'MCI0603TG3N9BHBP',\n",
       " 'MCI0603TG4N3HHBP',\n",
       " 'MCI0603TG4N3JHBP',\n",
       " 'MCI0603TG4N7HHBP',\n",
       " 'MCI0603TG6N2HHBP',\n",
       " 'MCI0603TG6N8HHBP',\n",
       " 'MCI0603TG7N5HHBP',\n",
       " 'MCI0603TG8N2HHBP',\n",
       " 'MCI0603TG9N1HHBP',\n",
       " 'MCI0603TG9N1JHBP',\n",
       " 'MCI1005HQ0N3BHBP',\n",
       " 'MCI1005HQ0N4BHBP',\n",
       " 'MCI1005HQ0N5BHBP',\n",
       " 'MCI1005HQ0N6BHBP',\n",
       " 'MCI1005HQ0N7BHBP',\n",
       " 'MCI1005HQ0N8BHBP',\n",
       " 'MCI1005HQ10NGHBP',\n",
       " 'MCI1005HQ10NJHBP',\n",
       " 'MCI1005HQ12NGHBP',\n",
       " 'MCI1005HQ12NJHBP',\n",
       " 'MCI1005HQ15NGHBP',\n",
       " 'MCI1005HQ15NJHBP',\n",
       " 'MCI1005HQ18NGHBP',\n",
       " 'MCI1005HQ18NHHBP',\n",
       " 'MCI1005HQ18NJHBP',\n",
       " 'MCI1005HQ1N0BHBP',\n",
       " 'MCI1005HQ1N0CHBP',\n",
       " 'MCI1005HQ1N0SHBP',\n",
       " 'MCI1005HQ1N1SHBP',\n",
       " 'MCI1005HQ1N2BHBP',\n",
       " 'MCI1005HQ1N2CHBP',\n",
       " 'MCI1005HQ1N2SHBP',\n",
       " 'MCI1005HQ1N3BHBP',\n",
       " 'MCI1005HQ1N3SHBP',\n",
       " 'MCI1005HQ1N5BHBP',\n",
       " 'MCI1005HQ1N5SHBP',\n",
       " 'MCI1005HQ1N6SHBP',\n",
       " 'MCI1005HQ1N8BHBP',\n",
       " 'MCI1005HQ1N8CHBP',\n",
       " 'MCI1005HQ1N8SHBP',\n",
       " 'MCI1005HQ22NJHBP',\n",
       " 'MCI1005HQ27NJHBP',\n",
       " 'MCI1005HQ2N0CHBP',\n",
       " 'MCI1005HQ2N0SHBP',\n",
       " 'MCI1005HQ2N2BHBP',\n",
       " 'MCI1005HQ2N2CHBP',\n",
       " 'MCI1005HQ2N2SHBP',\n",
       " 'MCI1005HQ2N4BHBP',\n",
       " 'MCI1005HQ2N4SHBP',\n",
       " 'MCI1005HQ2N7BHBP',\n",
       " 'MCI1005HQ2N7CHBP',\n",
       " 'MCI1005HQ2N7SHBP',\n",
       " 'MCI1005HQ33NGHBP',\n",
       " 'MCI1005HQ33NJHBP',\n",
       " 'MCI1005HQ39NGHBP',\n",
       " 'MCI1005HQ39NJHBP',\n",
       " 'MCI1005HQ3N0BHBP',\n",
       " 'MCI1005HQ3N0CHBP',\n",
       " 'MCI1005HQ3N0SHBP',\n",
       " 'MCI1005HQ3N3BHBP',\n",
       " 'MCI1005HQ3N3CHBP',\n",
       " 'MCI1005HQ3N3SHBP',\n",
       " 'MCI1005HQ3N6BHBP',\n",
       " 'MCI1005HQ3N6SHBP',\n",
       " 'MCI1005HQ3N9BHBP',\n",
       " 'MCI1005HQ3N9CHBP',\n",
       " 'MCI1005HQ3N9SHBP',\n",
       " 'MCI1005HQ47NGHBP',\n",
       " 'MCI1005HQ47NJHBP',\n",
       " 'MCI1005HQ4N3BHBP',\n",
       " 'MCI1005HQ4N3SHBP',\n",
       " 'MCI1005HQ4N7BHBP',\n",
       " 'MCI1005HQ4N7CHBP',\n",
       " 'MCI1005HQ4N7SHBP',\n",
       " 'MCI1005HQ56NGHBP',\n",
       " 'MCI1005HQ56NJHBP',\n",
       " 'MCI1005HQ5N1CHBP',\n",
       " 'MCI1005HQ5N1SHBP',\n",
       " 'MCI1005HQ5N6BHBP',\n",
       " 'MCI1005HQ5N6SHBP',\n",
       " 'MCI1005HQ68NGHBP',\n",
       " 'MCI1005HQ68NJHBP',\n",
       " 'MCI1005HQ6N2BHBP',\n",
       " 'MCI1005HQ6N2CHBP',\n",
       " 'MCI1005HQ6N2SHBP',\n",
       " 'MCI1005HQ6N8GHBP',\n",
       " 'MCI1005HQ6N8HHBP',\n",
       " 'MCI1005HQ6N8JHBP',\n",
       " 'MCI1005HQ7N5GHBP',\n",
       " 'MCI1005HQ7N5JHBP',\n",
       " 'MCI1005HQ82NJHBP',\n",
       " 'MCI1005HQ8N2GHBP',\n",
       " 'MCI1005HQ8N2JHBP',\n",
       " 'MCI1005HQ9N1JHBP',\n",
       " 'MCI1005HQR10JHBP',\n",
       " 'MCI1005HQR12JHBP',\n",
       " 'MCI1005HQR15JHBP',\n",
       " 'MCI1005HW10NJHBP',\n",
       " 'MCI1005HW12NJHBP',\n",
       " 'MCI1005HW1N0SHBP',\n",
       " 'MCI1005HW1N2SHBP',\n",
       " 'MCI1005HW1N5SHBP',\n",
       " 'MCI1005HW27NJHBP',\n",
       " 'MCI1005HW33NJHBP',\n",
       " 'MCI1005HW39NJHBP',\n",
       " 'MCI1005HW4N7SHBP',\n",
       " 'MCI1005HW5N6SHBP',\n",
       " 'MCI1005HW6N8JHBP',\n",
       " 'MCI1005HW8N2JHBP',\n",
       " 'MCI1005HW9N1JHBP',\n",
       " 'MCI1608HQ10NJHBP',\n",
       " 'MCI1608HQ12NJHBP',\n",
       " 'MCI1608HQ15NJHBP',\n",
       " 'MCI1608HQ18NJHBP',\n",
       " 'MCI1608HQ1N0SHBP',\n",
       " 'MCI1608HQ1N5SHBP',\n",
       " 'MCI1608HQ1N8SHBP',\n",
       " 'MCI1608HQ22NJHBP',\n",
       " 'MCI1608HQ27NJHBP',\n",
       " 'MCI1608HQ2N2SHBP',\n",
       " 'MCI1608HQ2N7BHBP',\n",
       " 'MCI1608HQ33NJHBP',\n",
       " 'MCI1608HQ39NJHBP',\n",
       " 'MCI1608HQ3N3SHBP',\n",
       " 'MCI1608HQ3N9SHBP',\n",
       " 'MCI1608HQ47NJHBP',\n",
       " 'MCI1608HQ4N7SHBP',\n",
       " 'MCI1608HQ56NJHBP',\n",
       " 'MCI1608HQ5N6SHBP',\n",
       " 'MCI1608HQ68NJHBP',\n",
       " 'MCI1608HQ6N8JHBP',\n",
       " 'MCI1608HQ82NJHBP',\n",
       " 'MCI1608HQR10JHBP',\n",
       " 'MCI1608HQR12JHBP',\n",
       " 'MCI1608HQR15JHBP',\n",
       " 'MCI1608HQR18JHBP',\n",
       " 'MCI1608HQR22JHBP',\n",
       " 'MCI1608HQR27JHBP',\n",
       " 'MCI1608HQR47JHBP',\n",
       " 'MCI1608HW39NJHBP',\n",
       " 'MCI1608HW3N9SHBP',\n",
       " 'MCI1608HW47NJHBP',\n",
       " 'MCM1012B900F06BP',\n",
       " 'MCM1012B900FBT',\n",
       " 'MCM2012B121GBE',\n",
       " 'MCM2012B181GBE',\n",
       " 'MCM2012B221FBE',\n",
       " 'MCM2012B670GBE',\n",
       " 'MCM2012B900GBE',\n",
       " 'MFI201210RKBE',\n",
       " 'MFI2012P10RM09BPA125',\n",
       " 'MHC1005G121MBP',\n",
       " 'MHC1005P121ZBP2A0',\n",
       " 'MHC1005P221ZBP1A4',\n",
       " 'MHC1005P330ZBP3A0',\n",
       " 'MHC1005P331ZBP1A2',\n",
       " 'MHC1005P600ZBP2A5',\n",
       " 'MHC1005P601ZBPA90',\n",
       " 'MHC1005P800ZBP2A3',\n",
       " 'MHC1005S100NBP',\n",
       " 'MHC1005S121MBP',\n",
       " 'MHC1005S300QBP',\n",
       " 'MHC1608P121Z06BP3A0',\n",
       " 'MHC1608P221ZBP2A2C6',\n",
       " 'MHC1608P260Z06BP6A0',\n",
       " 'MHC1608P331ZBP1A7',\n",
       " 'MHC1608P471ZBP1A5',\n",
       " 'MHC1608P601ZBP1A3',\n",
       " 'MHC1608S102ZBPA80',\n",
       " 'MHC1608S121PBP',\n",
       " 'MHC1608S221NBP',\n",
       " 'MHC1608S300QBP',\n",
       " 'MHC1608S301NBP',\n",
       " 'MHC1608S471LBP',\n",
       " 'MHC1608S600QBP',\n",
       " 'MHC1608S601LBP',\n",
       " 'MHC1608S800QBP',\n",
       " 'MHC1608W121NBP',\n",
       " 'MHC2012S102NBE',\n",
       " 'MHC2012S121QBP',\n",
       " 'MHC2012S121UBP',\n",
       " 'MHC2012S221QBP',\n",
       " 'MHC2012S300QBPC6  工規',\n",
       " 'MHC2012S300WBP',\n",
       " 'MHC2012S301NBP',\n",
       " 'MHC2012S310WBP',\n",
       " 'MHC2012S331NBP',\n",
       " 'MHC2012S600QBP',\n",
       " 'MHC2012S600QBTC6',\n",
       " 'MHC2012W601NBPC6',\n",
       " 'MHC3216S121WBE',\n",
       " 'MHC3216S300WBE',\n",
       " 'MHC3216S500WBE',\n",
       " 'MHC3216S601PBE',\n",
       " 'MHC3216S800RBE',\n",
       " 'MHC3225S102NBE',\n",
       " 'MHC4516S181ZBE3A5',\n",
       " 'MHC4516S600WBE',\n",
       " 'MICRO200LR-ETCH-包裝',\n",
       " 'MICRO450LR-ETCH-NI-STRIPPING-',\n",
       " 'MIP1608P1R0MBP',\n",
       " 'MIP1608P2R2MBP',\n",
       " 'MIP1608PR24MBP',\n",
       " 'MIP1608PR47MBP',\n",
       " 'MIP20121R0MBE',\n",
       " 'MIP20122R2MBE',\n",
       " 'MIP20123R3MBE',\n",
       " 'MIP20124R7MBE',\n",
       " 'MIP2012P1R0M05BP',\n",
       " 'MIP2012P2R2M05BP',\n",
       " 'MIP2012P2R2MBE',\n",
       " 'MIP2012P4R7MBE',\n",
       " 'MIP2012PR47M05BP',\n",
       " 'MIP2016P1R0MBE',\n",
       " 'MIP2016P1R5MBE',\n",
       " 'MIP2016P2R2MBE',\n",
       " 'MIP2016P4R7MBE',\n",
       " 'MIP25201R0MBE',\n",
       " 'MIP25201R5MBE',\n",
       " 'MIP25202R2MBE',\n",
       " 'MIP25203R3MBE',\n",
       " 'MIP25204R7MBE',\n",
       " 'MIP2520R47MBE',\n",
       " 'MLA0402V14',\n",
       " 'MLA0402V18',\n",
       " 'MLA0402V18E',\n",
       " 'MLA0402V5.5',\n",
       " 'MLA0402V5.5L',\n",
       " 'MLA0402V9',\n",
       " 'MLA0402V9L',\n",
       " 'MLA0603V14',\n",
       " 'MLA0603V18',\n",
       " 'MLA0603V18E',\n",
       " 'MLA0603V26',\n",
       " 'MLA0603V5.5L',\n",
       " 'MLA0603V9L',\n",
       " 'MLVA0805M04-330',\n",
       " 'MLVG04020R5IV18BP',\n",
       " 'MLVG0402120LV18BP',\n",
       " 'MLVG04021R0UV18BP',\n",
       " 'MLVG0402220LV09BP',\n",
       " 'MLVG04023R0LV42BP',\n",
       " 'MLVG04023R0TV18BP',\n",
       " 'MLVG04025R0QV09BP',\n",
       " 'MLVG06030R5IV18BP',\n",
       " 'MLVG0603120LV18BP',\n",
       " 'MLVG0603220LV09BP',\n",
       " 'MLVG06033R0LV42BP',\n",
       " 'MLVG06033R0TV18BP',\n",
       " 'MLVG06035R0QV09BP',\n",
       " 'MLVS0201V05330',\n",
       " 'MLVS0201V05640',\n",
       " 'MLVS0402AM04241',\n",
       " 'MLVS0402AM06121',\n",
       " 'MLVS0402AM10101',\n",
       " 'MLVS0402AM14750',\n",
       " 'MLVS0402L04',\n",
       " 'MLVS0402L14',\n",
       " 'MLVS0402L14F',\n",
       " 'MLVS0402LE06',\n",
       " 'MLVS0402LE08',\n",
       " 'MLVS0402M02-181',\n",
       " 'MLVS0402M07-121',\n",
       " 'MLVS0603AM02481',\n",
       " 'MLVS0603AM02481F',\n",
       " 'MLVS0603AM04301F',\n",
       " 'MLVS0603AM06241',\n",
       " 'MLVS0603AM06241F',\n",
       " 'MLVS0603AM07241',\n",
       " 'MLVS0603AM11500',\n",
       " 'MLVS0603AM11500F',\n",
       " 'MLVS0603AM14101F',\n",
       " 'MLVS0603AM14300',\n",
       " 'MLVS0603AM20800',\n",
       " 'MLVS0603AM20800F',\n",
       " 'MLVS0603AM25900',\n",
       " 'MLVS0603AM25900F',\n",
       " 'MLVS0603AM30350F',\n",
       " 'MLVS0603L04',\n",
       " 'MLVS0603L07',\n",
       " 'MLVS0603L14',\n",
       " 'MLVS0603L20',\n",
       " 'MLVS0603LE08',\n",
       " 'MLVS0603LE10',\n",
       " 'MLVS0805AM04501F',\n",
       " 'MLVS0805AM06421F',\n",
       " 'MLVS0805AM08361F',\n",
       " 'MLVS0805AM11401F',\n",
       " 'MLVS0805AM11401FW',\n",
       " 'MLVS0805AM14351F',\n",
       " 'MLVS0805AM20221F',\n",
       " 'MLVS0805AM25251',\n",
       " 'MLVS0805AM25251F',\n",
       " 'MLVS0805AM30201F',\n",
       " 'MLVS0805AM35171F',\n",
       " 'MLVS0805P35-171',\n",
       " 'MLVS1206AM04152',\n",
       " 'MLVS1206AM04152F',\n",
       " 'MLVS1206AM11461F',\n",
       " 'MLVS1206AM14701',\n",
       " 'MLVS1206AM14701F',\n",
       " 'MLVS1206AM17841',\n",
       " 'MLVS1206AM20601',\n",
       " 'MLVS1206AM20601F',\n",
       " 'MLVS1206AM25551',\n",
       " 'MLVS1206AM25551F',\n",
       " 'MLVS1206AM30501',\n",
       " 'MLVS1206AM30501F',\n",
       " 'MLVS1206AM35201',\n",
       " 'MLVS1206AM35201F',\n",
       " 'MLVS1206AM40181F',\n",
       " 'MLVS1206AM50251F',\n",
       " 'MLVS1206AM60121',\n",
       " 'MLVS1206AM60121F',\n",
       " 'MLVS1206K14-182',\n",
       " 'MLVS1206K25-501',\n",
       " 'MLVS1206P17-651',\n",
       " 'MLVS1210P46301',\n",
       " 'MOVS2825361',\n",
       " 'MOVS2825390',\n",
       " 'MOVS2825391',\n",
       " 'MOVS2825431',\n",
       " 'MOVS4032201',\n",
       " 'MOVS4032221',\n",
       " 'MOVS4032361',\n",
       " 'MOVS4032391',\n",
       " 'MOVS4032560',\n",
       " 'MOVS4032681',\n",
       " 'MOVS4032751',\n",
       " 'MOVS4032781',\n",
       " 'MPA2016P2R2MBE',\n",
       " 'MPA2016PR47MBE',\n",
       " 'Micro200LR-8064壓合後-外觀',\n",
       " 'Micro350LR-D-8064壓合後-外觀',\n",
       " 'Micro450LR-C-8064壓合後-外觀',\n",
       " 'Micro550LR-D-8064壓合後-外觀',\n",
       " 'NANO200&350&270LR-ETCH-包裝',\n",
       " 'NANO200(PP)-壓合後-外觀',\n",
       " 'NANO270(PP)-壓合後-外觀',\n",
       " 'NANO350(PP)-壓合後-外觀',\n",
       " 'NANO500-ETCH-D-包裝',\n",
       " 'NANOSMD500LR-D-外觀',\n",
       " 'NIP3015GX-4R7M',\n",
       " 'NIP5020GX-150M',\n",
       " 'NIP5040GX-6R8M',\n",
       " 'Nano350LR-D-壓合後-外觀',\n",
       " 'PA1582MI4G-429-28M-A',\n",
       " 'PA1590MI4G-101-17',\n",
       " 'PA1590MI4G-316-FZM',\n",
       " 'PA1590MI4G-371-28M',\n",
       " 'PA1590MI4G-375-28M',\n",
       " 'PA1590MI4G-376-28M',\n",
       " 'PA1590MI4G-380-18M-A',\n",
       " 'PA1590MI4G-402-28M',\n",
       " 'PA1590MI4G-414-18M-A',\n",
       " 'PA1590MI4G-415-18M-A',\n",
       " 'PA1590MI4G-431-28M-A',\n",
       " 'PA1590MI4G-447-28M-A',\n",
       " 'PA1590MI4G-448-28M-A',\n",
       " 'PA1590MJ4G-221-26M',\n",
       " 'PA1590MJ4G-224-2SP',\n",
       " 'PA1590MQ4G-118-2KP-A',\n",
       " 'PA1590MS4G-100-SMD-S',\n",
       " 'PA1590MS4G-102-1S',\n",
       " 'PA1590MS4G-103-1SS',\n",
       " 'PA1590MS4G-103-SMD-M-A',\n",
       " 'PA1590MS4G-104-SMD-M-A',\n",
       " 'PA1598MI4G-487-17M',\n",
       " 'PA1621MI4G-366-18M',\n",
       " 'PA2195766-1I4H4G-106-1ZS-A',\n",
       " 'PA2195767-1I4H10G-103-1ZS-A',\n",
       " 'PADGPS-S4J4G-101-18',\n",
       " 'PCB FOR 0201',\n",
       " 'PPTC Sample',\n",
       " 'PSR-29326 TEST SAMPLE',\n",
       " 'PSR-29340 TEST SAMPLE',\n",
       " 'PSR28456壓合後外觀',\n",
       " 'PSR28473-D-壓合後-外觀',\n",
       " 'PSR28473-ETCH-D-包裝',\n",
       " 'PSR28875-(8064)-PUN壓合前-包裝',\n",
       " 'PSR28875-(8064)-PUN壓合後-外觀',\n",
       " 'PSR28875-ETCH-NI-STRIPPING-包',\n",
       " 'PSR29054-ETCH-包裝',\n",
       " 'PSR29131-C-8064壓合後-外觀',\n",
       " 'PSR29138-C-壓合後-外觀',\n",
       " 'PSR29326（1/6）-外觀',\n",
       " 'PSR29330-C-8064壓合後-外觀',\n",
       " 'PSR29340（1/6）-外觀',\n",
       " 'PSR29340（1/6）reduce-外觀',\n",
       " 'PSR29460(1/9)-外觀',\n",
       " 'PTC0201',\n",
       " 'RF4180-000,ZEN056V230A16YC-包',\n",
       " 'RF4181-000,ZEN056V260A16YC-包',\n",
       " 'RF4204-000,ZEN132V130A24YC-包',\n",
       " 'RF4205-000,ZEN132V230A16YC-包',\n",
       " 'RF4633-000 PSR29154-包',\n",
       " 'RFDPA141300SBLB803J4',\n",
       " 'RFDPA171300SBAB823J4',\n",
       " 'RFDPA191300SMTB806J4',\n",
       " 'RFDPA30871ASBLBA01J4',\n",
       " 'RR2268-000研磨--外觀',\n",
       " 'Reach檢測費用',\n",
       " 'SMAJ12A-T',\n",
       " 'SMAJ12CA-T',\n",
       " 'SMAJ36A-T',\n",
       " 'SMAJ5.0A-T',\n",
       " 'SMAJ6.0CA-T',\n",
       " 'SMBJ30A-T',\n",
       " 'SMBJ36A-T',\n",
       " 'SMBJ5.0CA-T',\n",
       " 'SMCJ220CA-M',\n",
       " 'SamplecostforACA-1903-P2-GF',\n",
       " 'SurgX 0603ESDA2電性送樣',\n",
       " 'SurgX Array (ESD41)',\n",
       " 'SurgX Array (ESD41)電性送樣',\n",
       " 'SurgX0603ESDA2',\n",
       " 'SurgX0603ESDA3',\n",
       " 'TVL 0201 01 AC1',\n",
       " 'TVL 0402 01 AB1',\n",
       " 'TVU1240R1A',\n",
       " 'Thermometer',\n",
       " 'VPORT0402L100V05',\n",
       " 'WA-F-LTE10-02-014',\n",
       " 'WA-F-LTE10-02-016-A',\n",
       " 'WA-F-LTE10-02-021-A',\n",
       " 'WA-F-P5-03-005',\n",
       " 'WA-P-LTE9-02-004-A',\n",
       " 'WA-P-U6-02-003-A',\n",
       " 'WAG-F-LAG0-00-042-I',\n",
       " 'WAG-F-LTE10-00-052-I',\n",
       " 'WAG-F-LTE10-00-053-I',\n",
       " 'WAG-H-LTE4-00-001',\n",
       " 'WAG-M-LAG0-00-002-I',\n",
       " 'WAG-M-LTE10-00-008-I',\n",
       " 'WAG-M-LTE10-00-010-I',\n",
       " 'WAG-M-LTE10-00-011-I',\n",
       " 'WAG-P-LTE10-00-001',\n",
       " 'WAG-P-LTE10-00-001TestBoard',\n",
       " 'WCI1608CP33NJRBE',\n",
       " 'WFP201210Y-1R0ML',\n",
       " 'WIP201610P-1R0ML',\n",
       " 'WIP201610P-1R5ML',\n",
       " 'WIP201610P-2R2ML',\n",
       " 'WIP201610P-R24ML',\n",
       " 'WIP201610P-R33ML',\n",
       " 'WIP201610P-R47ML',\n",
       " 'WIP201610P-R68ML',\n",
       " 'WIP201610S-1R0ML',\n",
       " 'WIP201610S-1R5ML',\n",
       " 'WIP201610S-2R2ML',\n",
       " 'WIP201610S-R33ML',\n",
       " 'WIP201610S-R47ML',\n",
       " 'WIP201610Y-1R0ML',\n",
       " 'WIP201612S-1R0ML',\n",
       " 'WIP201612S-R47ML',\n",
       " 'WIP252010P-1R0ML',\n",
       " 'WIP252010P-1R5ML',\n",
       " 'WIP252010P-2R2ML',\n",
       " 'WIP252010P-4R7ML',\n",
       " 'WIP252010P-R22ML',\n",
       " 'WIP252010P-R33ML',\n",
       " 'WIP252010P-R47ML',\n",
       " 'WIP252010P-R68ML',\n",
       " 'WIP252010S-1R0ML',\n",
       " 'WIP252010S-2R2ML',\n",
       " 'WIP252010S-4R7ML',\n",
       " 'WIP252010S-R33ML',\n",
       " 'WIP252010S-R47ML',\n",
       " 'WIP252012P-1R0ML',\n",
       " 'WIP252012P-1R5ML',\n",
       " 'WIP252012P-2R2ML',\n",
       " 'WIP252012P-3R3ML',\n",
       " 'WIP252012P-4R7ML',\n",
       " 'WIP252012P-R47ML',\n",
       " 'WIP252012P-R68ML',\n",
       " 'WIP252012S-1R0ML',\n",
       " 'WIP252012S-2R2ML',\n",
       " 'WIP252012S-R47ML',\n",
       " 'WIPC201610P-1R0ML',\n",
       " 'WIPC252010P-1R0ML',\n",
       " 'WIPC252010P-1R5ML',\n",
       " 'WIPC252010P-2R2ML',\n",
       " 'WIPC252010P-4R7ML',\n",
       " 'WIPC252010P-R22ML',\n",
       " 'WIPC252010P-R47ML',\n",
       " 'WIPC252010P-R68ML',\n",
       " 'WIPC252012P-1R0ML',\n",
       " 'WIPC252012P-1R5ML',\n",
       " 'WIPC252012P-2R2ML',\n",
       " 'WIPC252012P-4R7ML',\n",
       " 'WIPC252012P-R47ML',\n",
       " 'WIPC252012P-R68ML',\n",
       " 'WIPC252012S-1R0ML',\n",
       " 'WIPC252012S-2R2ML',\n",
       " 'WIPC252012S-R47ML',\n",
       " 'WIPE201610S-1R0ML',\n",
       " 'WIPE201610S-1R5ML',\n",
       " 'WIPE201610S-2R2ML',\n",
       " 'WIPE201610S-R47ML',\n",
       " 'WIPE252012S-1R0ML',\n",
       " 'WIPEA252012S-1R0ML',\n",
       " 'WIPRB201610S-R10ML',\n",
       " 'WIPRB252010P-4R7ML',\n",
       " 'WMM0420PX-3R3M',\n",
       " 'WMM0530PX-3R3M',\n",
       " 'WMM0630PX-100M',\n",
       " 'WMM0630PX-8R2M',\n",
       " 'WMM1040PX-100M',\n",
       " 'WPC-W-P-RX-CF-063',\n",
       " 'ZEN-075(RS4477)-外觀',\n",
       " 'ZEN-230(RS4476)-外觀',\n",
       " 'ZEN056V130A16YM-包裝',\n",
       " 'ZEN056V130A24LS-包�',\n",
       " 'ZEN056V230A16LS-包裝',\n",
       " 'ZEN065V130A24LS-包裝',\n",
       " 'ZEN065V230A16LS-包裝',\n",
       " 'ZEN132V130A24LS-包裝',\n",
       " 'ZEN132V230A16LS-包裝',\n",
       " 'Zen-130（RS4285）-外�',\n",
       " 'pintopinantennatooling',\n",
       " 'zepto0201-PSR-29326',\n",
       " 'zepto0201-PSR-29340',\n",
       " '代墊SGS測試費用',\n",
       " '電阻損失費用']"
      ]
     },
     "execution_count": 168,
     "metadata": {},
     "output_type": "execute_result"
    }
   ],
   "source": [
    "te.columns_"
   ]
  },
  {
   "cell_type": "code",
   "execution_count": 169,
   "metadata": {},
   "outputs": [],
   "source": [
    "test_frame = pd.DataFrame(te.ary, columns=te.columns_)"
   ]
  },
  {
   "cell_type": "markdown",
   "metadata": {},
   "source": [
    "# 購物籃分析術語解釋\n",
    "1. 支持度（Support）：這個商品組合在所有購買清單中，出現的機率。\n",
    "2. 信賴度（Confidence）：購買A商品後，購買B商品的機率，這也是本篇文章最後要得知的結果。\n",
    "3. 提昇度（Lift）：判斷A商品與B商品的相關程度，若小於1表示負相關，等於1表示完全無相關（完全沒有交集），大於1表示正相關。"
   ]
  },
  {
   "cell_type": "code",
   "execution_count": 183,
   "metadata": {},
   "outputs": [],
   "source": [
    "from mlxtend.frequent_patterns import apriori\n",
    "frequent_items = apriori(test_frame, min_support=0.02, use_colnames=True)\n",
    "frequent_items['length'] = frequent_items['itemsets'].apply(lambda x: len(x))\n",
    "# frequent_items = frequent_items[frequent_items[\"length\"] == 2]"
   ]
  },
  {
   "cell_type": "code",
   "execution_count": 184,
   "metadata": {
    "scrolled": true
   },
   "outputs": [
    {
     "data": {
      "text/html": [
       "<div>\n",
       "<style scoped>\n",
       "    .dataframe tbody tr th:only-of-type {\n",
       "        vertical-align: middle;\n",
       "    }\n",
       "\n",
       "    .dataframe tbody tr th {\n",
       "        vertical-align: top;\n",
       "    }\n",
       "\n",
       "    .dataframe thead th {\n",
       "        text-align: right;\n",
       "    }\n",
       "</style>\n",
       "<table border=\"1\" class=\"dataframe\">\n",
       "  <thead>\n",
       "    <tr style=\"text-align: right;\">\n",
       "      <th></th>\n",
       "      <th>support</th>\n",
       "      <th>itemsets</th>\n",
       "      <th>length</th>\n",
       "    </tr>\n",
       "  </thead>\n",
       "  <tbody>\n",
       "    <tr>\n",
       "      <th>0</th>\n",
       "      <td>0.02</td>\n",
       "      <td>(EGA10402V05AH)</td>\n",
       "      <td>1</td>\n",
       "    </tr>\n",
       "    <tr>\n",
       "      <th>1</th>\n",
       "      <td>0.04</td>\n",
       "      <td>(EGA10603V05B0)</td>\n",
       "      <td>1</td>\n",
       "    </tr>\n",
       "    <tr>\n",
       "      <th>2</th>\n",
       "      <td>0.02</td>\n",
       "      <td>(EGA10603V12A0)</td>\n",
       "      <td>1</td>\n",
       "    </tr>\n",
       "    <tr>\n",
       "      <th>3</th>\n",
       "      <td>0.03</td>\n",
       "      <td>(EGA10603V12B0)</td>\n",
       "      <td>1</td>\n",
       "    </tr>\n",
       "    <tr>\n",
       "      <th>4</th>\n",
       "      <td>0.03</td>\n",
       "      <td>(MHC1005G121MBP)</td>\n",
       "      <td>1</td>\n",
       "    </tr>\n",
       "    <tr>\n",
       "      <th>5</th>\n",
       "      <td>0.02</td>\n",
       "      <td>(MHC1608P260Z06BP6A0)</td>\n",
       "      <td>1</td>\n",
       "    </tr>\n",
       "    <tr>\n",
       "      <th>6</th>\n",
       "      <td>0.03</td>\n",
       "      <td>(MHC3216S601PBE)</td>\n",
       "      <td>1</td>\n",
       "    </tr>\n",
       "    <tr>\n",
       "      <th>7</th>\n",
       "      <td>0.02</td>\n",
       "      <td>(MIP25202R2MBE)</td>\n",
       "      <td>1</td>\n",
       "    </tr>\n",
       "    <tr>\n",
       "      <th>8</th>\n",
       "      <td>0.02</td>\n",
       "      <td>(MIP25204R7MBE)</td>\n",
       "      <td>1</td>\n",
       "    </tr>\n",
       "    <tr>\n",
       "      <th>9</th>\n",
       "      <td>0.02</td>\n",
       "      <td>(MLVS0603L04)</td>\n",
       "      <td>1</td>\n",
       "    </tr>\n",
       "    <tr>\n",
       "      <th>10</th>\n",
       "      <td>0.02</td>\n",
       "      <td>(SurgX Array (ESD41))</td>\n",
       "      <td>1</td>\n",
       "    </tr>\n",
       "    <tr>\n",
       "      <th>11</th>\n",
       "      <td>0.03</td>\n",
       "      <td>(SurgX0603ESDA2)</td>\n",
       "      <td>1</td>\n",
       "    </tr>\n",
       "    <tr>\n",
       "      <th>12</th>\n",
       "      <td>0.04</td>\n",
       "      <td>(TVL 0201 01 AC1)</td>\n",
       "      <td>1</td>\n",
       "    </tr>\n",
       "    <tr>\n",
       "      <th>13</th>\n",
       "      <td>0.02</td>\n",
       "      <td>(WAG-F-LAG0-00-042-I)</td>\n",
       "      <td>1</td>\n",
       "    </tr>\n",
       "    <tr>\n",
       "      <th>14</th>\n",
       "      <td>0.02</td>\n",
       "      <td>(WAG-F-LTE10-00-052-I)</td>\n",
       "      <td>1</td>\n",
       "    </tr>\n",
       "    <tr>\n",
       "      <th>15</th>\n",
       "      <td>0.02</td>\n",
       "      <td>(WAG-F-LTE10-00-053-I)</td>\n",
       "      <td>1</td>\n",
       "    </tr>\n",
       "    <tr>\n",
       "      <th>16</th>\n",
       "      <td>0.02</td>\n",
       "      <td>(WIP201610P-2R2ML)</td>\n",
       "      <td>1</td>\n",
       "    </tr>\n",
       "    <tr>\n",
       "      <th>17</th>\n",
       "      <td>0.03</td>\n",
       "      <td>(WIP252010P-R47ML)</td>\n",
       "      <td>1</td>\n",
       "    </tr>\n",
       "    <tr>\n",
       "      <th>18</th>\n",
       "      <td>0.04</td>\n",
       "      <td>(WIP252012P-1R0ML)</td>\n",
       "      <td>1</td>\n",
       "    </tr>\n",
       "    <tr>\n",
       "      <th>19</th>\n",
       "      <td>0.04</td>\n",
       "      <td>(WIP252012P-2R2ML)</td>\n",
       "      <td>1</td>\n",
       "    </tr>\n",
       "    <tr>\n",
       "      <th>20</th>\n",
       "      <td>0.02</td>\n",
       "      <td>(WIP252012P-R47ML)</td>\n",
       "      <td>1</td>\n",
       "    </tr>\n",
       "    <tr>\n",
       "      <th>21</th>\n",
       "      <td>0.02</td>\n",
       "      <td>(WIP252012P-R68ML)</td>\n",
       "      <td>1</td>\n",
       "    </tr>\n",
       "    <tr>\n",
       "      <th>22</th>\n",
       "      <td>0.03</td>\n",
       "      <td>(WIPEA252012S-1R0ML)</td>\n",
       "      <td>1</td>\n",
       "    </tr>\n",
       "    <tr>\n",
       "      <th>23</th>\n",
       "      <td>0.02</td>\n",
       "      <td>(EGA10603V12B0, EGA10603V05B0)</td>\n",
       "      <td>2</td>\n",
       "    </tr>\n",
       "    <tr>\n",
       "      <th>24</th>\n",
       "      <td>0.02</td>\n",
       "      <td>(WAG-F-LAG0-00-042-I, WAG-F-LTE10-00-052-I)</td>\n",
       "      <td>2</td>\n",
       "    </tr>\n",
       "    <tr>\n",
       "      <th>25</th>\n",
       "      <td>0.02</td>\n",
       "      <td>(WAG-F-LAG0-00-042-I, WAG-F-LTE10-00-053-I)</td>\n",
       "      <td>2</td>\n",
       "    </tr>\n",
       "    <tr>\n",
       "      <th>26</th>\n",
       "      <td>0.02</td>\n",
       "      <td>(WAG-F-LTE10-00-052-I, WAG-F-LTE10-00-053-I)</td>\n",
       "      <td>2</td>\n",
       "    </tr>\n",
       "    <tr>\n",
       "      <th>27</th>\n",
       "      <td>0.02</td>\n",
       "      <td>(WAG-F-LAG0-00-042-I, WAG-F-LTE10-00-052-I, WA...</td>\n",
       "      <td>3</td>\n",
       "    </tr>\n",
       "  </tbody>\n",
       "</table>\n",
       "</div>"
      ],
      "text/plain": [
       "    support                                           itemsets  length\n",
       "0      0.02                                    (EGA10402V05AH)       1\n",
       "1      0.04                                    (EGA10603V05B0)       1\n",
       "2      0.02                                    (EGA10603V12A0)       1\n",
       "3      0.03                                    (EGA10603V12B0)       1\n",
       "4      0.03                                   (MHC1005G121MBP)       1\n",
       "5      0.02                              (MHC1608P260Z06BP6A0)       1\n",
       "6      0.03                                   (MHC3216S601PBE)       1\n",
       "7      0.02                                    (MIP25202R2MBE)       1\n",
       "8      0.02                                    (MIP25204R7MBE)       1\n",
       "9      0.02                                      (MLVS0603L04)       1\n",
       "10     0.02                              (SurgX Array (ESD41))       1\n",
       "11     0.03                                   (SurgX0603ESDA2)       1\n",
       "12     0.04                                  (TVL 0201 01 AC1)       1\n",
       "13     0.02                              (WAG-F-LAG0-00-042-I)       1\n",
       "14     0.02                             (WAG-F-LTE10-00-052-I)       1\n",
       "15     0.02                             (WAG-F-LTE10-00-053-I)       1\n",
       "16     0.02                                 (WIP201610P-2R2ML)       1\n",
       "17     0.03                                 (WIP252010P-R47ML)       1\n",
       "18     0.04                                 (WIP252012P-1R0ML)       1\n",
       "19     0.04                                 (WIP252012P-2R2ML)       1\n",
       "20     0.02                                 (WIP252012P-R47ML)       1\n",
       "21     0.02                                 (WIP252012P-R68ML)       1\n",
       "22     0.03                               (WIPEA252012S-1R0ML)       1\n",
       "23     0.02                     (EGA10603V12B0, EGA10603V05B0)       2\n",
       "24     0.02        (WAG-F-LAG0-00-042-I, WAG-F-LTE10-00-052-I)       2\n",
       "25     0.02        (WAG-F-LAG0-00-042-I, WAG-F-LTE10-00-053-I)       2\n",
       "26     0.02       (WAG-F-LTE10-00-052-I, WAG-F-LTE10-00-053-I)       2\n",
       "27     0.02  (WAG-F-LAG0-00-042-I, WAG-F-LTE10-00-052-I, WA...       3"
      ]
     },
     "execution_count": 184,
     "metadata": {},
     "output_type": "execute_result"
    }
   ],
   "source": [
    "frequent_items"
   ]
  },
  {
   "cell_type": "code",
   "execution_count": 187,
   "metadata": {
    "scrolled": true
   },
   "outputs": [],
   "source": [
    "from mlxtend.frequent_patterns import association_rules\n",
    "result = association_rules(frequent_items, metric=\"confidence\", min_threshold=0.8)"
   ]
  },
  {
   "cell_type": "code",
   "execution_count": 188,
   "metadata": {
    "scrolled": false
   },
   "outputs": [
    {
     "data": {
      "text/html": [
       "<div>\n",
       "<style scoped>\n",
       "    .dataframe tbody tr th:only-of-type {\n",
       "        vertical-align: middle;\n",
       "    }\n",
       "\n",
       "    .dataframe tbody tr th {\n",
       "        vertical-align: top;\n",
       "    }\n",
       "\n",
       "    .dataframe thead th {\n",
       "        text-align: right;\n",
       "    }\n",
       "</style>\n",
       "<table border=\"1\" class=\"dataframe\">\n",
       "  <thead>\n",
       "    <tr style=\"text-align: right;\">\n",
       "      <th></th>\n",
       "      <th>antecedents</th>\n",
       "      <th>consequents</th>\n",
       "      <th>antecedent support</th>\n",
       "      <th>consequent support</th>\n",
       "      <th>support</th>\n",
       "      <th>confidence</th>\n",
       "      <th>lift</th>\n",
       "      <th>leverage</th>\n",
       "      <th>conviction</th>\n",
       "    </tr>\n",
       "  </thead>\n",
       "  <tbody>\n",
       "    <tr>\n",
       "      <th>0</th>\n",
       "      <td>(WAG-F-LAG0-00-042-I)</td>\n",
       "      <td>(WAG-F-LTE10-00-052-I)</td>\n",
       "      <td>0.02</td>\n",
       "      <td>0.02</td>\n",
       "      <td>0.02</td>\n",
       "      <td>1.00</td>\n",
       "      <td>47.37</td>\n",
       "      <td>0.02</td>\n",
       "      <td>inf</td>\n",
       "    </tr>\n",
       "    <tr>\n",
       "      <th>1</th>\n",
       "      <td>(WAG-F-LTE10-00-052-I)</td>\n",
       "      <td>(WAG-F-LAG0-00-042-I)</td>\n",
       "      <td>0.02</td>\n",
       "      <td>0.02</td>\n",
       "      <td>0.02</td>\n",
       "      <td>1.00</td>\n",
       "      <td>47.37</td>\n",
       "      <td>0.02</td>\n",
       "      <td>inf</td>\n",
       "    </tr>\n",
       "    <tr>\n",
       "      <th>2</th>\n",
       "      <td>(WAG-F-LAG0-00-042-I)</td>\n",
       "      <td>(WAG-F-LTE10-00-053-I)</td>\n",
       "      <td>0.02</td>\n",
       "      <td>0.02</td>\n",
       "      <td>0.02</td>\n",
       "      <td>1.00</td>\n",
       "      <td>47.37</td>\n",
       "      <td>0.02</td>\n",
       "      <td>inf</td>\n",
       "    </tr>\n",
       "    <tr>\n",
       "      <th>3</th>\n",
       "      <td>(WAG-F-LTE10-00-053-I)</td>\n",
       "      <td>(WAG-F-LAG0-00-042-I)</td>\n",
       "      <td>0.02</td>\n",
       "      <td>0.02</td>\n",
       "      <td>0.02</td>\n",
       "      <td>1.00</td>\n",
       "      <td>47.37</td>\n",
       "      <td>0.02</td>\n",
       "      <td>inf</td>\n",
       "    </tr>\n",
       "    <tr>\n",
       "      <th>4</th>\n",
       "      <td>(WAG-F-LTE10-00-052-I)</td>\n",
       "      <td>(WAG-F-LTE10-00-053-I)</td>\n",
       "      <td>0.02</td>\n",
       "      <td>0.02</td>\n",
       "      <td>0.02</td>\n",
       "      <td>1.00</td>\n",
       "      <td>47.37</td>\n",
       "      <td>0.02</td>\n",
       "      <td>inf</td>\n",
       "    </tr>\n",
       "    <tr>\n",
       "      <th>5</th>\n",
       "      <td>(WAG-F-LTE10-00-053-I)</td>\n",
       "      <td>(WAG-F-LTE10-00-052-I)</td>\n",
       "      <td>0.02</td>\n",
       "      <td>0.02</td>\n",
       "      <td>0.02</td>\n",
       "      <td>1.00</td>\n",
       "      <td>47.37</td>\n",
       "      <td>0.02</td>\n",
       "      <td>inf</td>\n",
       "    </tr>\n",
       "    <tr>\n",
       "      <th>6</th>\n",
       "      <td>(WAG-F-LAG0-00-042-I, WAG-F-LTE10-00-052-I)</td>\n",
       "      <td>(WAG-F-LTE10-00-053-I)</td>\n",
       "      <td>0.02</td>\n",
       "      <td>0.02</td>\n",
       "      <td>0.02</td>\n",
       "      <td>1.00</td>\n",
       "      <td>47.37</td>\n",
       "      <td>0.02</td>\n",
       "      <td>inf</td>\n",
       "    </tr>\n",
       "    <tr>\n",
       "      <th>7</th>\n",
       "      <td>(WAG-F-LAG0-00-042-I, WAG-F-LTE10-00-053-I)</td>\n",
       "      <td>(WAG-F-LTE10-00-052-I)</td>\n",
       "      <td>0.02</td>\n",
       "      <td>0.02</td>\n",
       "      <td>0.02</td>\n",
       "      <td>1.00</td>\n",
       "      <td>47.37</td>\n",
       "      <td>0.02</td>\n",
       "      <td>inf</td>\n",
       "    </tr>\n",
       "    <tr>\n",
       "      <th>8</th>\n",
       "      <td>(WAG-F-LTE10-00-052-I, WAG-F-LTE10-00-053-I)</td>\n",
       "      <td>(WAG-F-LAG0-00-042-I)</td>\n",
       "      <td>0.02</td>\n",
       "      <td>0.02</td>\n",
       "      <td>0.02</td>\n",
       "      <td>1.00</td>\n",
       "      <td>47.37</td>\n",
       "      <td>0.02</td>\n",
       "      <td>inf</td>\n",
       "    </tr>\n",
       "    <tr>\n",
       "      <th>9</th>\n",
       "      <td>(WAG-F-LAG0-00-042-I)</td>\n",
       "      <td>(WAG-F-LTE10-00-052-I, WAG-F-LTE10-00-053-I)</td>\n",
       "      <td>0.02</td>\n",
       "      <td>0.02</td>\n",
       "      <td>0.02</td>\n",
       "      <td>1.00</td>\n",
       "      <td>47.37</td>\n",
       "      <td>0.02</td>\n",
       "      <td>inf</td>\n",
       "    </tr>\n",
       "    <tr>\n",
       "      <th>10</th>\n",
       "      <td>(WAG-F-LTE10-00-052-I)</td>\n",
       "      <td>(WAG-F-LAG0-00-042-I, WAG-F-LTE10-00-053-I)</td>\n",
       "      <td>0.02</td>\n",
       "      <td>0.02</td>\n",
       "      <td>0.02</td>\n",
       "      <td>1.00</td>\n",
       "      <td>47.37</td>\n",
       "      <td>0.02</td>\n",
       "      <td>inf</td>\n",
       "    </tr>\n",
       "    <tr>\n",
       "      <th>11</th>\n",
       "      <td>(WAG-F-LTE10-00-053-I)</td>\n",
       "      <td>(WAG-F-LAG0-00-042-I, WAG-F-LTE10-00-052-I)</td>\n",
       "      <td>0.02</td>\n",
       "      <td>0.02</td>\n",
       "      <td>0.02</td>\n",
       "      <td>1.00</td>\n",
       "      <td>47.37</td>\n",
       "      <td>0.02</td>\n",
       "      <td>inf</td>\n",
       "    </tr>\n",
       "  </tbody>\n",
       "</table>\n",
       "</div>"
      ],
      "text/plain": [
       "                                     antecedents  \\\n",
       "0                          (WAG-F-LAG0-00-042-I)   \n",
       "1                         (WAG-F-LTE10-00-052-I)   \n",
       "2                          (WAG-F-LAG0-00-042-I)   \n",
       "3                         (WAG-F-LTE10-00-053-I)   \n",
       "4                         (WAG-F-LTE10-00-052-I)   \n",
       "5                         (WAG-F-LTE10-00-053-I)   \n",
       "6    (WAG-F-LAG0-00-042-I, WAG-F-LTE10-00-052-I)   \n",
       "7    (WAG-F-LAG0-00-042-I, WAG-F-LTE10-00-053-I)   \n",
       "8   (WAG-F-LTE10-00-052-I, WAG-F-LTE10-00-053-I)   \n",
       "9                          (WAG-F-LAG0-00-042-I)   \n",
       "10                        (WAG-F-LTE10-00-052-I)   \n",
       "11                        (WAG-F-LTE10-00-053-I)   \n",
       "\n",
       "                                     consequents  antecedent support  \\\n",
       "0                         (WAG-F-LTE10-00-052-I)                0.02   \n",
       "1                          (WAG-F-LAG0-00-042-I)                0.02   \n",
       "2                         (WAG-F-LTE10-00-053-I)                0.02   \n",
       "3                          (WAG-F-LAG0-00-042-I)                0.02   \n",
       "4                         (WAG-F-LTE10-00-053-I)                0.02   \n",
       "5                         (WAG-F-LTE10-00-052-I)                0.02   \n",
       "6                         (WAG-F-LTE10-00-053-I)                0.02   \n",
       "7                         (WAG-F-LTE10-00-052-I)                0.02   \n",
       "8                          (WAG-F-LAG0-00-042-I)                0.02   \n",
       "9   (WAG-F-LTE10-00-052-I, WAG-F-LTE10-00-053-I)                0.02   \n",
       "10   (WAG-F-LAG0-00-042-I, WAG-F-LTE10-00-053-I)                0.02   \n",
       "11   (WAG-F-LAG0-00-042-I, WAG-F-LTE10-00-052-I)                0.02   \n",
       "\n",
       "    consequent support  support  confidence  lift  leverage  conviction  \n",
       "0                 0.02     0.02        1.00 47.37      0.02         inf  \n",
       "1                 0.02     0.02        1.00 47.37      0.02         inf  \n",
       "2                 0.02     0.02        1.00 47.37      0.02         inf  \n",
       "3                 0.02     0.02        1.00 47.37      0.02         inf  \n",
       "4                 0.02     0.02        1.00 47.37      0.02         inf  \n",
       "5                 0.02     0.02        1.00 47.37      0.02         inf  \n",
       "6                 0.02     0.02        1.00 47.37      0.02         inf  \n",
       "7                 0.02     0.02        1.00 47.37      0.02         inf  \n",
       "8                 0.02     0.02        1.00 47.37      0.02         inf  \n",
       "9                 0.02     0.02        1.00 47.37      0.02         inf  \n",
       "10                0.02     0.02        1.00 47.37      0.02         inf  \n",
       "11                0.02     0.02        1.00 47.37      0.02         inf  "
      ]
     },
     "execution_count": 188,
     "metadata": {},
     "output_type": "execute_result"
    }
   ],
   "source": [
    "result.sort_values(\"confidence\", ascending=False)"
   ]
  },
  {
   "cell_type": "markdown",
   "metadata": {},
   "source": [
    "# MT-SYSTEM的購物籃分析"
   ]
  },
  {
   "cell_type": "code",
   "execution_count": 189,
   "metadata": {
    "scrolled": true
   },
   "outputs": [
    {
     "name": "stdout",
     "output_type": "stream",
     "text": [
      "1 Bourns\n",
      "2 WE\n",
      "3 Eaton\n",
      "4 TELTONIKA\n",
      "5 信昌\n",
      "6 Laird\n",
      "7 華新科技\n",
      "8 MT-SYSTEM\n",
      "9 LF\n",
      "10 TE\n",
      "11 藝感\n",
      "12 LF OEM\n",
      "13 M.S.\n",
      "14 UnivaTe\n",
      "15 SSF\n",
      "16 G-PLAST\n",
      "17 VTech\n",
      "18 MATE\n",
      "19 FIRSTEN\n",
      "20 JBJ\n",
      "21 Sancraft\n",
      "22 iWave\n",
      "23 Nexty\n",
      "24 Zebra\n",
      "請輸入要分析購物籃的客戶：1\n"
     ]
    }
   ],
   "source": [
    "client_dict = {}\n",
    "for i, j in enumerate(df[\"Group\"].unique().tolist()):\n",
    "    print(i+1, j)\n",
    "    client_dict.setdefault(i+1, j)\n",
    "slct_client = int(input(\"請輸入要分析購物籃的客戶：\"))"
   ]
  },
  {
   "cell_type": "code",
   "execution_count": 190,
   "metadata": {},
   "outputs": [],
   "source": [
    "client_filter = client_dict[slct_client]\n",
    "sort_df = df[(df[\"預交日期\"] >= \"2020-01-01\") & (df[\"Group\"] == client_filter)]"
   ]
  },
  {
   "cell_type": "code",
   "execution_count": 191,
   "metadata": {},
   "outputs": [],
   "source": [
    "order_numbers = sort_df[\"銷售單號\"].unique().tolist()"
   ]
  },
  {
   "cell_type": "code",
   "execution_count": 192,
   "metadata": {},
   "outputs": [],
   "source": [
    "cart_list = []\n",
    "for i in order_numbers:\n",
    "    order_list = sort_df[sort_df[\"銷售單號\"] == i][\"品名\"].values\n",
    "    cart_list.append(order_list)"
   ]
  },
  {
   "cell_type": "code",
   "execution_count": 193,
   "metadata": {},
   "outputs": [],
   "source": [
    "te = TransactionEncoder()\n",
    "te.ary = te.fit(cart_list).transform(cart_list)"
   ]
  },
  {
   "cell_type": "code",
   "execution_count": 194,
   "metadata": {},
   "outputs": [
    {
     "data": {
      "text/plain": [
       "['ACA-5036-A7-CC-S',\n",
       " 'CI060303-3N9C*30kpcs(HOTAYI-TI',\n",
       " 'EGA10402V05B0',\n",
       " 'EGA10402V12B0',\n",
       " 'EGA10402V24B0',\n",
       " 'EGA10603V05B0',\n",
       " 'EGA10603V12B0',\n",
       " 'EGA10603V24B0',\n",
       " 'EGA41206V12B0',\n",
       " 'MCI0603HQ3N9CHBP',\n",
       " 'MIP1608P1R0MBP',\n",
       " 'MIP1608P2R2MBP',\n",
       " 'MIP1608PR24MBP',\n",
       " 'MIP1608PR47MBP',\n",
       " 'MIP2012P1R0M05BP',\n",
       " 'MIP2012P2R2M05BP',\n",
       " 'MIP2012PR47M05BP',\n",
       " 'MIP25201R0MBE',\n",
       " 'MIP25201R5MBE',\n",
       " 'MIP25202R2MBE',\n",
       " 'MIP25203R3MBE',\n",
       " 'MIP25204R7MBE',\n",
       " 'MIP2520R47MBE',\n",
       " 'MLVA0805M04-330',\n",
       " 'MLVS0201V05330',\n",
       " 'MLVS0402L04',\n",
       " 'MLVS0402L14',\n",
       " 'MLVS0402LE08',\n",
       " 'MLVS0603AM14300',\n",
       " 'MLVS0603AM20800',\n",
       " 'MLVS0603AM25900',\n",
       " 'MLVS0603L04',\n",
       " 'MLVS0603L14',\n",
       " 'MLVS0603L20',\n",
       " 'MLVS0603LE08',\n",
       " 'MLVS0603LE10',\n",
       " 'MLVS1206AM30501',\n",
       " 'MPA2016P2R2MBE',\n",
       " 'MPA2016PR47MBE',\n",
       " 'WFP201210Y-1R0ML',\n",
       " 'WIP201610P-1R0ML',\n",
       " 'WIP201610P-1R5ML',\n",
       " 'WIP201610P-2R2ML',\n",
       " 'WIP201610P-R33ML',\n",
       " 'WIP201610P-R47ML',\n",
       " 'WIP201610Y-1R0ML',\n",
       " 'WIP201612S-1R0ML',\n",
       " 'WIP201612S-R47ML',\n",
       " 'WIP252012P-1R0ML',\n",
       " 'WIP252012P-1R5ML',\n",
       " 'WIP252012P-2R2ML',\n",
       " 'WIP252012P-R47ML',\n",
       " 'WIP252012P-R68ML',\n",
       " 'WIPC201610P-1R0ML',\n",
       " 'WIPC252010P-1R0ML',\n",
       " 'WIPC252010P-1R5ML',\n",
       " 'WIPC252010P-2R2ML',\n",
       " 'WIPC252010P-4R7ML',\n",
       " 'WIPC252010P-R22ML',\n",
       " 'WIPC252010P-R47ML',\n",
       " 'WIPC252010P-R68ML',\n",
       " 'WIPC252012P-1R0ML',\n",
       " 'WIPC252012P-1R5ML',\n",
       " 'WIPC252012P-2R2ML',\n",
       " 'WIPC252012P-4R7ML',\n",
       " 'WIPC252012P-R47ML',\n",
       " 'WIPC252012P-R68ML',\n",
       " 'WIPRB201610S-R10ML',\n",
       " 'WIPRB252010P-4R7ML']"
      ]
     },
     "execution_count": 194,
     "metadata": {},
     "output_type": "execute_result"
    }
   ],
   "source": [
    "te.columns_"
   ]
  },
  {
   "cell_type": "code",
   "execution_count": 195,
   "metadata": {},
   "outputs": [],
   "source": [
    "test_frame = pd.DataFrame(te.ary, columns=te.columns_)"
   ]
  },
  {
   "cell_type": "code",
   "execution_count": 196,
   "metadata": {
    "scrolled": true
   },
   "outputs": [],
   "source": [
    "frequent_items = apriori(test_frame, min_support=0.18, use_colnames=True)\n",
    "frequent_items[\"length\"] = frequent_items[\"itemsets\"].map(lambda x: len(x))"
   ]
  },
  {
   "cell_type": "code",
   "execution_count": 197,
   "metadata": {
    "scrolled": false
   },
   "outputs": [
    {
     "data": {
      "application/vnd.plotly.v1+json": {
       "config": {
        "plotlyServerURL": "https://plot.ly"
       },
       "data": [
        {
         "alignmentgroup": "True",
         "bingroup": "x",
         "hovertemplate": "support=%{x}<br>count=%{y}<extra></extra>",
         "legendgroup": "",
         "marker": {
          "color": "#636efa"
         },
         "name": "",
         "nbinsx": 10,
         "offsetgroup": "",
         "orientation": "v",
         "showlegend": false,
         "type": "histogram",
         "x": [
          0.2074074074074074,
          0.35555555555555557,
          0.2814814814814815,
          0.18518518518518517,
          0.2740740740740741,
          0.2814814814814815,
          0.24444444444444444,
          0.24444444444444444,
          0.23703703703703705,
          0.1925925925925926,
          0.3111111111111111,
          0.2074074074074074,
          0.21481481481481482,
          0.25925925925925924,
          0.2222222222222222,
          0.22962962962962963,
          0.23703703703703705,
          0.22962962962962963,
          0.22962962962962963,
          0.24444444444444444,
          0.18518518518518517,
          0.2,
          0.1925925925925926,
          0.2,
          0.18518518518518517
         ],
         "xaxis": "x",
         "yaxis": "y"
        }
       ],
       "layout": {
        "barmode": "relative",
        "legend": {
         "tracegroupgap": 0
        },
        "margin": {
         "t": 60
        },
        "template": {
         "data": {
          "bar": [
           {
            "error_x": {
             "color": "#2a3f5f"
            },
            "error_y": {
             "color": "#2a3f5f"
            },
            "marker": {
             "line": {
              "color": "#E5ECF6",
              "width": 0.5
             }
            },
            "type": "bar"
           }
          ],
          "barpolar": [
           {
            "marker": {
             "line": {
              "color": "#E5ECF6",
              "width": 0.5
             }
            },
            "type": "barpolar"
           }
          ],
          "carpet": [
           {
            "aaxis": {
             "endlinecolor": "#2a3f5f",
             "gridcolor": "white",
             "linecolor": "white",
             "minorgridcolor": "white",
             "startlinecolor": "#2a3f5f"
            },
            "baxis": {
             "endlinecolor": "#2a3f5f",
             "gridcolor": "white",
             "linecolor": "white",
             "minorgridcolor": "white",
             "startlinecolor": "#2a3f5f"
            },
            "type": "carpet"
           }
          ],
          "choropleth": [
           {
            "colorbar": {
             "outlinewidth": 0,
             "ticks": ""
            },
            "type": "choropleth"
           }
          ],
          "contour": [
           {
            "colorbar": {
             "outlinewidth": 0,
             "ticks": ""
            },
            "colorscale": [
             [
              0,
              "#0d0887"
             ],
             [
              0.1111111111111111,
              "#46039f"
             ],
             [
              0.2222222222222222,
              "#7201a8"
             ],
             [
              0.3333333333333333,
              "#9c179e"
             ],
             [
              0.4444444444444444,
              "#bd3786"
             ],
             [
              0.5555555555555556,
              "#d8576b"
             ],
             [
              0.6666666666666666,
              "#ed7953"
             ],
             [
              0.7777777777777778,
              "#fb9f3a"
             ],
             [
              0.8888888888888888,
              "#fdca26"
             ],
             [
              1,
              "#f0f921"
             ]
            ],
            "type": "contour"
           }
          ],
          "contourcarpet": [
           {
            "colorbar": {
             "outlinewidth": 0,
             "ticks": ""
            },
            "type": "contourcarpet"
           }
          ],
          "heatmap": [
           {
            "colorbar": {
             "outlinewidth": 0,
             "ticks": ""
            },
            "colorscale": [
             [
              0,
              "#0d0887"
             ],
             [
              0.1111111111111111,
              "#46039f"
             ],
             [
              0.2222222222222222,
              "#7201a8"
             ],
             [
              0.3333333333333333,
              "#9c179e"
             ],
             [
              0.4444444444444444,
              "#bd3786"
             ],
             [
              0.5555555555555556,
              "#d8576b"
             ],
             [
              0.6666666666666666,
              "#ed7953"
             ],
             [
              0.7777777777777778,
              "#fb9f3a"
             ],
             [
              0.8888888888888888,
              "#fdca26"
             ],
             [
              1,
              "#f0f921"
             ]
            ],
            "type": "heatmap"
           }
          ],
          "heatmapgl": [
           {
            "colorbar": {
             "outlinewidth": 0,
             "ticks": ""
            },
            "colorscale": [
             [
              0,
              "#0d0887"
             ],
             [
              0.1111111111111111,
              "#46039f"
             ],
             [
              0.2222222222222222,
              "#7201a8"
             ],
             [
              0.3333333333333333,
              "#9c179e"
             ],
             [
              0.4444444444444444,
              "#bd3786"
             ],
             [
              0.5555555555555556,
              "#d8576b"
             ],
             [
              0.6666666666666666,
              "#ed7953"
             ],
             [
              0.7777777777777778,
              "#fb9f3a"
             ],
             [
              0.8888888888888888,
              "#fdca26"
             ],
             [
              1,
              "#f0f921"
             ]
            ],
            "type": "heatmapgl"
           }
          ],
          "histogram": [
           {
            "marker": {
             "colorbar": {
              "outlinewidth": 0,
              "ticks": ""
             }
            },
            "type": "histogram"
           }
          ],
          "histogram2d": [
           {
            "colorbar": {
             "outlinewidth": 0,
             "ticks": ""
            },
            "colorscale": [
             [
              0,
              "#0d0887"
             ],
             [
              0.1111111111111111,
              "#46039f"
             ],
             [
              0.2222222222222222,
              "#7201a8"
             ],
             [
              0.3333333333333333,
              "#9c179e"
             ],
             [
              0.4444444444444444,
              "#bd3786"
             ],
             [
              0.5555555555555556,
              "#d8576b"
             ],
             [
              0.6666666666666666,
              "#ed7953"
             ],
             [
              0.7777777777777778,
              "#fb9f3a"
             ],
             [
              0.8888888888888888,
              "#fdca26"
             ],
             [
              1,
              "#f0f921"
             ]
            ],
            "type": "histogram2d"
           }
          ],
          "histogram2dcontour": [
           {
            "colorbar": {
             "outlinewidth": 0,
             "ticks": ""
            },
            "colorscale": [
             [
              0,
              "#0d0887"
             ],
             [
              0.1111111111111111,
              "#46039f"
             ],
             [
              0.2222222222222222,
              "#7201a8"
             ],
             [
              0.3333333333333333,
              "#9c179e"
             ],
             [
              0.4444444444444444,
              "#bd3786"
             ],
             [
              0.5555555555555556,
              "#d8576b"
             ],
             [
              0.6666666666666666,
              "#ed7953"
             ],
             [
              0.7777777777777778,
              "#fb9f3a"
             ],
             [
              0.8888888888888888,
              "#fdca26"
             ],
             [
              1,
              "#f0f921"
             ]
            ],
            "type": "histogram2dcontour"
           }
          ],
          "mesh3d": [
           {
            "colorbar": {
             "outlinewidth": 0,
             "ticks": ""
            },
            "type": "mesh3d"
           }
          ],
          "parcoords": [
           {
            "line": {
             "colorbar": {
              "outlinewidth": 0,
              "ticks": ""
             }
            },
            "type": "parcoords"
           }
          ],
          "pie": [
           {
            "automargin": true,
            "type": "pie"
           }
          ],
          "scatter": [
           {
            "marker": {
             "colorbar": {
              "outlinewidth": 0,
              "ticks": ""
             }
            },
            "type": "scatter"
           }
          ],
          "scatter3d": [
           {
            "line": {
             "colorbar": {
              "outlinewidth": 0,
              "ticks": ""
             }
            },
            "marker": {
             "colorbar": {
              "outlinewidth": 0,
              "ticks": ""
             }
            },
            "type": "scatter3d"
           }
          ],
          "scattercarpet": [
           {
            "marker": {
             "colorbar": {
              "outlinewidth": 0,
              "ticks": ""
             }
            },
            "type": "scattercarpet"
           }
          ],
          "scattergeo": [
           {
            "marker": {
             "colorbar": {
              "outlinewidth": 0,
              "ticks": ""
             }
            },
            "type": "scattergeo"
           }
          ],
          "scattergl": [
           {
            "marker": {
             "colorbar": {
              "outlinewidth": 0,
              "ticks": ""
             }
            },
            "type": "scattergl"
           }
          ],
          "scattermapbox": [
           {
            "marker": {
             "colorbar": {
              "outlinewidth": 0,
              "ticks": ""
             }
            },
            "type": "scattermapbox"
           }
          ],
          "scatterpolar": [
           {
            "marker": {
             "colorbar": {
              "outlinewidth": 0,
              "ticks": ""
             }
            },
            "type": "scatterpolar"
           }
          ],
          "scatterpolargl": [
           {
            "marker": {
             "colorbar": {
              "outlinewidth": 0,
              "ticks": ""
             }
            },
            "type": "scatterpolargl"
           }
          ],
          "scatterternary": [
           {
            "marker": {
             "colorbar": {
              "outlinewidth": 0,
              "ticks": ""
             }
            },
            "type": "scatterternary"
           }
          ],
          "surface": [
           {
            "colorbar": {
             "outlinewidth": 0,
             "ticks": ""
            },
            "colorscale": [
             [
              0,
              "#0d0887"
             ],
             [
              0.1111111111111111,
              "#46039f"
             ],
             [
              0.2222222222222222,
              "#7201a8"
             ],
             [
              0.3333333333333333,
              "#9c179e"
             ],
             [
              0.4444444444444444,
              "#bd3786"
             ],
             [
              0.5555555555555556,
              "#d8576b"
             ],
             [
              0.6666666666666666,
              "#ed7953"
             ],
             [
              0.7777777777777778,
              "#fb9f3a"
             ],
             [
              0.8888888888888888,
              "#fdca26"
             ],
             [
              1,
              "#f0f921"
             ]
            ],
            "type": "surface"
           }
          ],
          "table": [
           {
            "cells": {
             "fill": {
              "color": "#EBF0F8"
             },
             "line": {
              "color": "white"
             }
            },
            "header": {
             "fill": {
              "color": "#C8D4E3"
             },
             "line": {
              "color": "white"
             }
            },
            "type": "table"
           }
          ]
         },
         "layout": {
          "annotationdefaults": {
           "arrowcolor": "#2a3f5f",
           "arrowhead": 0,
           "arrowwidth": 1
          },
          "coloraxis": {
           "colorbar": {
            "outlinewidth": 0,
            "ticks": ""
           }
          },
          "colorscale": {
           "diverging": [
            [
             0,
             "#8e0152"
            ],
            [
             0.1,
             "#c51b7d"
            ],
            [
             0.2,
             "#de77ae"
            ],
            [
             0.3,
             "#f1b6da"
            ],
            [
             0.4,
             "#fde0ef"
            ],
            [
             0.5,
             "#f7f7f7"
            ],
            [
             0.6,
             "#e6f5d0"
            ],
            [
             0.7,
             "#b8e186"
            ],
            [
             0.8,
             "#7fbc41"
            ],
            [
             0.9,
             "#4d9221"
            ],
            [
             1,
             "#276419"
            ]
           ],
           "sequential": [
            [
             0,
             "#0d0887"
            ],
            [
             0.1111111111111111,
             "#46039f"
            ],
            [
             0.2222222222222222,
             "#7201a8"
            ],
            [
             0.3333333333333333,
             "#9c179e"
            ],
            [
             0.4444444444444444,
             "#bd3786"
            ],
            [
             0.5555555555555556,
             "#d8576b"
            ],
            [
             0.6666666666666666,
             "#ed7953"
            ],
            [
             0.7777777777777778,
             "#fb9f3a"
            ],
            [
             0.8888888888888888,
             "#fdca26"
            ],
            [
             1,
             "#f0f921"
            ]
           ],
           "sequentialminus": [
            [
             0,
             "#0d0887"
            ],
            [
             0.1111111111111111,
             "#46039f"
            ],
            [
             0.2222222222222222,
             "#7201a8"
            ],
            [
             0.3333333333333333,
             "#9c179e"
            ],
            [
             0.4444444444444444,
             "#bd3786"
            ],
            [
             0.5555555555555556,
             "#d8576b"
            ],
            [
             0.6666666666666666,
             "#ed7953"
            ],
            [
             0.7777777777777778,
             "#fb9f3a"
            ],
            [
             0.8888888888888888,
             "#fdca26"
            ],
            [
             1,
             "#f0f921"
            ]
           ]
          },
          "colorway": [
           "#636efa",
           "#EF553B",
           "#00cc96",
           "#ab63fa",
           "#FFA15A",
           "#19d3f3",
           "#FF6692",
           "#B6E880",
           "#FF97FF",
           "#FECB52"
          ],
          "font": {
           "color": "#2a3f5f"
          },
          "geo": {
           "bgcolor": "white",
           "lakecolor": "white",
           "landcolor": "#E5ECF6",
           "showlakes": true,
           "showland": true,
           "subunitcolor": "white"
          },
          "hoverlabel": {
           "align": "left"
          },
          "hovermode": "closest",
          "mapbox": {
           "style": "light"
          },
          "paper_bgcolor": "white",
          "plot_bgcolor": "#E5ECF6",
          "polar": {
           "angularaxis": {
            "gridcolor": "white",
            "linecolor": "white",
            "ticks": ""
           },
           "bgcolor": "#E5ECF6",
           "radialaxis": {
            "gridcolor": "white",
            "linecolor": "white",
            "ticks": ""
           }
          },
          "scene": {
           "xaxis": {
            "backgroundcolor": "#E5ECF6",
            "gridcolor": "white",
            "gridwidth": 2,
            "linecolor": "white",
            "showbackground": true,
            "ticks": "",
            "zerolinecolor": "white"
           },
           "yaxis": {
            "backgroundcolor": "#E5ECF6",
            "gridcolor": "white",
            "gridwidth": 2,
            "linecolor": "white",
            "showbackground": true,
            "ticks": "",
            "zerolinecolor": "white"
           },
           "zaxis": {
            "backgroundcolor": "#E5ECF6",
            "gridcolor": "white",
            "gridwidth": 2,
            "linecolor": "white",
            "showbackground": true,
            "ticks": "",
            "zerolinecolor": "white"
           }
          },
          "shapedefaults": {
           "line": {
            "color": "#2a3f5f"
           }
          },
          "ternary": {
           "aaxis": {
            "gridcolor": "white",
            "linecolor": "white",
            "ticks": ""
           },
           "baxis": {
            "gridcolor": "white",
            "linecolor": "white",
            "ticks": ""
           },
           "bgcolor": "#E5ECF6",
           "caxis": {
            "gridcolor": "white",
            "linecolor": "white",
            "ticks": ""
           }
          },
          "title": {
           "x": 0.05
          },
          "xaxis": {
           "automargin": true,
           "gridcolor": "white",
           "linecolor": "white",
           "ticks": "",
           "title": {
            "standoff": 15
           },
           "zerolinecolor": "white",
           "zerolinewidth": 2
          },
          "yaxis": {
           "automargin": true,
           "gridcolor": "white",
           "linecolor": "white",
           "ticks": "",
           "title": {
            "standoff": 15
           },
           "zerolinecolor": "white",
           "zerolinewidth": 2
          }
         }
        },
        "xaxis": {
         "anchor": "y",
         "domain": [
          0,
          1
         ],
         "title": {
          "text": "support"
         }
        },
        "yaxis": {
         "anchor": "x",
         "domain": [
          0,
          1
         ],
         "title": {
          "text": "count"
         }
        }
       }
      },
      "text/html": [
       "<div>                            <div id=\"7bee1b6a-3e1f-41e6-a43e-dae43d63c6dc\" class=\"plotly-graph-div\" style=\"height:525px; width:100%;\"></div>            <script type=\"text/javascript\">                require([\"plotly\"], function(Plotly) {                    window.PLOTLYENV=window.PLOTLYENV || {};                                    if (document.getElementById(\"7bee1b6a-3e1f-41e6-a43e-dae43d63c6dc\")) {                    Plotly.newPlot(                        \"7bee1b6a-3e1f-41e6-a43e-dae43d63c6dc\",                        [{\"alignmentgroup\": \"True\", \"bingroup\": \"x\", \"hovertemplate\": \"support=%{x}<br>count=%{y}<extra></extra>\", \"legendgroup\": \"\", \"marker\": {\"color\": \"#636efa\"}, \"name\": \"\", \"nbinsx\": 10, \"offsetgroup\": \"\", \"orientation\": \"v\", \"showlegend\": false, \"type\": \"histogram\", \"x\": [0.2074074074074074, 0.35555555555555557, 0.2814814814814815, 0.18518518518518517, 0.2740740740740741, 0.2814814814814815, 0.24444444444444444, 0.24444444444444444, 0.23703703703703705, 0.1925925925925926, 0.3111111111111111, 0.2074074074074074, 0.21481481481481482, 0.25925925925925924, 0.2222222222222222, 0.22962962962962963, 0.23703703703703705, 0.22962962962962963, 0.22962962962962963, 0.24444444444444444, 0.18518518518518517, 0.2, 0.1925925925925926, 0.2, 0.18518518518518517], \"xaxis\": \"x\", \"yaxis\": \"y\"}],                        {\"barmode\": \"relative\", \"legend\": {\"tracegroupgap\": 0}, \"margin\": {\"t\": 60}, \"template\": {\"data\": {\"bar\": [{\"error_x\": {\"color\": \"#2a3f5f\"}, \"error_y\": {\"color\": \"#2a3f5f\"}, \"marker\": {\"line\": {\"color\": \"#E5ECF6\", \"width\": 0.5}}, \"type\": \"bar\"}], \"barpolar\": [{\"marker\": {\"line\": {\"color\": \"#E5ECF6\", \"width\": 0.5}}, \"type\": \"barpolar\"}], \"carpet\": [{\"aaxis\": {\"endlinecolor\": \"#2a3f5f\", \"gridcolor\": \"white\", \"linecolor\": \"white\", \"minorgridcolor\": \"white\", \"startlinecolor\": \"#2a3f5f\"}, \"baxis\": {\"endlinecolor\": \"#2a3f5f\", \"gridcolor\": \"white\", \"linecolor\": \"white\", \"minorgridcolor\": \"white\", \"startlinecolor\": \"#2a3f5f\"}, \"type\": \"carpet\"}], \"choropleth\": [{\"colorbar\": {\"outlinewidth\": 0, \"ticks\": \"\"}, \"type\": \"choropleth\"}], \"contour\": [{\"colorbar\": {\"outlinewidth\": 0, \"ticks\": \"\"}, \"colorscale\": [[0.0, \"#0d0887\"], [0.1111111111111111, \"#46039f\"], [0.2222222222222222, \"#7201a8\"], [0.3333333333333333, \"#9c179e\"], [0.4444444444444444, \"#bd3786\"], [0.5555555555555556, \"#d8576b\"], [0.6666666666666666, \"#ed7953\"], [0.7777777777777778, \"#fb9f3a\"], [0.8888888888888888, \"#fdca26\"], [1.0, \"#f0f921\"]], \"type\": \"contour\"}], \"contourcarpet\": [{\"colorbar\": {\"outlinewidth\": 0, \"ticks\": \"\"}, \"type\": \"contourcarpet\"}], \"heatmap\": [{\"colorbar\": {\"outlinewidth\": 0, \"ticks\": \"\"}, \"colorscale\": [[0.0, \"#0d0887\"], [0.1111111111111111, \"#46039f\"], [0.2222222222222222, \"#7201a8\"], [0.3333333333333333, \"#9c179e\"], [0.4444444444444444, \"#bd3786\"], [0.5555555555555556, \"#d8576b\"], [0.6666666666666666, \"#ed7953\"], [0.7777777777777778, \"#fb9f3a\"], [0.8888888888888888, \"#fdca26\"], [1.0, \"#f0f921\"]], \"type\": \"heatmap\"}], \"heatmapgl\": [{\"colorbar\": {\"outlinewidth\": 0, \"ticks\": \"\"}, \"colorscale\": [[0.0, \"#0d0887\"], [0.1111111111111111, \"#46039f\"], [0.2222222222222222, \"#7201a8\"], [0.3333333333333333, \"#9c179e\"], [0.4444444444444444, \"#bd3786\"], [0.5555555555555556, \"#d8576b\"], [0.6666666666666666, \"#ed7953\"], [0.7777777777777778, \"#fb9f3a\"], [0.8888888888888888, \"#fdca26\"], [1.0, \"#f0f921\"]], \"type\": \"heatmapgl\"}], \"histogram\": [{\"marker\": {\"colorbar\": {\"outlinewidth\": 0, \"ticks\": \"\"}}, \"type\": \"histogram\"}], \"histogram2d\": [{\"colorbar\": {\"outlinewidth\": 0, \"ticks\": \"\"}, \"colorscale\": [[0.0, \"#0d0887\"], [0.1111111111111111, \"#46039f\"], [0.2222222222222222, \"#7201a8\"], [0.3333333333333333, \"#9c179e\"], [0.4444444444444444, \"#bd3786\"], [0.5555555555555556, \"#d8576b\"], [0.6666666666666666, \"#ed7953\"], [0.7777777777777778, \"#fb9f3a\"], [0.8888888888888888, \"#fdca26\"], [1.0, \"#f0f921\"]], \"type\": \"histogram2d\"}], \"histogram2dcontour\": [{\"colorbar\": {\"outlinewidth\": 0, \"ticks\": \"\"}, \"colorscale\": [[0.0, \"#0d0887\"], [0.1111111111111111, \"#46039f\"], [0.2222222222222222, \"#7201a8\"], [0.3333333333333333, \"#9c179e\"], [0.4444444444444444, \"#bd3786\"], [0.5555555555555556, \"#d8576b\"], [0.6666666666666666, \"#ed7953\"], [0.7777777777777778, \"#fb9f3a\"], [0.8888888888888888, \"#fdca26\"], [1.0, \"#f0f921\"]], \"type\": \"histogram2dcontour\"}], \"mesh3d\": [{\"colorbar\": {\"outlinewidth\": 0, \"ticks\": \"\"}, \"type\": \"mesh3d\"}], \"parcoords\": [{\"line\": {\"colorbar\": {\"outlinewidth\": 0, \"ticks\": \"\"}}, \"type\": \"parcoords\"}], \"pie\": [{\"automargin\": true, \"type\": \"pie\"}], \"scatter\": [{\"marker\": {\"colorbar\": {\"outlinewidth\": 0, \"ticks\": \"\"}}, \"type\": \"scatter\"}], \"scatter3d\": [{\"line\": {\"colorbar\": {\"outlinewidth\": 0, \"ticks\": \"\"}}, \"marker\": {\"colorbar\": {\"outlinewidth\": 0, \"ticks\": \"\"}}, \"type\": \"scatter3d\"}], \"scattercarpet\": [{\"marker\": {\"colorbar\": {\"outlinewidth\": 0, \"ticks\": \"\"}}, \"type\": \"scattercarpet\"}], \"scattergeo\": [{\"marker\": {\"colorbar\": {\"outlinewidth\": 0, \"ticks\": \"\"}}, \"type\": \"scattergeo\"}], \"scattergl\": [{\"marker\": {\"colorbar\": {\"outlinewidth\": 0, \"ticks\": \"\"}}, \"type\": \"scattergl\"}], \"scattermapbox\": [{\"marker\": {\"colorbar\": {\"outlinewidth\": 0, \"ticks\": \"\"}}, \"type\": \"scattermapbox\"}], \"scatterpolar\": [{\"marker\": {\"colorbar\": {\"outlinewidth\": 0, \"ticks\": \"\"}}, \"type\": \"scatterpolar\"}], \"scatterpolargl\": [{\"marker\": {\"colorbar\": {\"outlinewidth\": 0, \"ticks\": \"\"}}, \"type\": \"scatterpolargl\"}], \"scatterternary\": [{\"marker\": {\"colorbar\": {\"outlinewidth\": 0, \"ticks\": \"\"}}, \"type\": \"scatterternary\"}], \"surface\": [{\"colorbar\": {\"outlinewidth\": 0, \"ticks\": \"\"}, \"colorscale\": [[0.0, \"#0d0887\"], [0.1111111111111111, \"#46039f\"], [0.2222222222222222, \"#7201a8\"], [0.3333333333333333, \"#9c179e\"], [0.4444444444444444, \"#bd3786\"], [0.5555555555555556, \"#d8576b\"], [0.6666666666666666, \"#ed7953\"], [0.7777777777777778, \"#fb9f3a\"], [0.8888888888888888, \"#fdca26\"], [1.0, \"#f0f921\"]], \"type\": \"surface\"}], \"table\": [{\"cells\": {\"fill\": {\"color\": \"#EBF0F8\"}, \"line\": {\"color\": \"white\"}}, \"header\": {\"fill\": {\"color\": \"#C8D4E3\"}, \"line\": {\"color\": \"white\"}}, \"type\": \"table\"}]}, \"layout\": {\"annotationdefaults\": {\"arrowcolor\": \"#2a3f5f\", \"arrowhead\": 0, \"arrowwidth\": 1}, \"coloraxis\": {\"colorbar\": {\"outlinewidth\": 0, \"ticks\": \"\"}}, \"colorscale\": {\"diverging\": [[0, \"#8e0152\"], [0.1, \"#c51b7d\"], [0.2, \"#de77ae\"], [0.3, \"#f1b6da\"], [0.4, \"#fde0ef\"], [0.5, \"#f7f7f7\"], [0.6, \"#e6f5d0\"], [0.7, \"#b8e186\"], [0.8, \"#7fbc41\"], [0.9, \"#4d9221\"], [1, \"#276419\"]], \"sequential\": [[0.0, \"#0d0887\"], [0.1111111111111111, \"#46039f\"], [0.2222222222222222, \"#7201a8\"], [0.3333333333333333, \"#9c179e\"], [0.4444444444444444, \"#bd3786\"], [0.5555555555555556, \"#d8576b\"], [0.6666666666666666, \"#ed7953\"], [0.7777777777777778, \"#fb9f3a\"], [0.8888888888888888, \"#fdca26\"], [1.0, \"#f0f921\"]], \"sequentialminus\": [[0.0, \"#0d0887\"], [0.1111111111111111, \"#46039f\"], [0.2222222222222222, \"#7201a8\"], [0.3333333333333333, \"#9c179e\"], [0.4444444444444444, \"#bd3786\"], [0.5555555555555556, \"#d8576b\"], [0.6666666666666666, \"#ed7953\"], [0.7777777777777778, \"#fb9f3a\"], [0.8888888888888888, \"#fdca26\"], [1.0, \"#f0f921\"]]}, \"colorway\": [\"#636efa\", \"#EF553B\", \"#00cc96\", \"#ab63fa\", \"#FFA15A\", \"#19d3f3\", \"#FF6692\", \"#B6E880\", \"#FF97FF\", \"#FECB52\"], \"font\": {\"color\": \"#2a3f5f\"}, \"geo\": {\"bgcolor\": \"white\", \"lakecolor\": \"white\", \"landcolor\": \"#E5ECF6\", \"showlakes\": true, \"showland\": true, \"subunitcolor\": \"white\"}, \"hoverlabel\": {\"align\": \"left\"}, \"hovermode\": \"closest\", \"mapbox\": {\"style\": \"light\"}, \"paper_bgcolor\": \"white\", \"plot_bgcolor\": \"#E5ECF6\", \"polar\": {\"angularaxis\": {\"gridcolor\": \"white\", \"linecolor\": \"white\", \"ticks\": \"\"}, \"bgcolor\": \"#E5ECF6\", \"radialaxis\": {\"gridcolor\": \"white\", \"linecolor\": \"white\", \"ticks\": \"\"}}, \"scene\": {\"xaxis\": {\"backgroundcolor\": \"#E5ECF6\", \"gridcolor\": \"white\", \"gridwidth\": 2, \"linecolor\": \"white\", \"showbackground\": true, \"ticks\": \"\", \"zerolinecolor\": \"white\"}, \"yaxis\": {\"backgroundcolor\": \"#E5ECF6\", \"gridcolor\": \"white\", \"gridwidth\": 2, \"linecolor\": \"white\", \"showbackground\": true, \"ticks\": \"\", \"zerolinecolor\": \"white\"}, \"zaxis\": {\"backgroundcolor\": \"#E5ECF6\", \"gridcolor\": \"white\", \"gridwidth\": 2, \"linecolor\": \"white\", \"showbackground\": true, \"ticks\": \"\", \"zerolinecolor\": \"white\"}}, \"shapedefaults\": {\"line\": {\"color\": \"#2a3f5f\"}}, \"ternary\": {\"aaxis\": {\"gridcolor\": \"white\", \"linecolor\": \"white\", \"ticks\": \"\"}, \"baxis\": {\"gridcolor\": \"white\", \"linecolor\": \"white\", \"ticks\": \"\"}, \"bgcolor\": \"#E5ECF6\", \"caxis\": {\"gridcolor\": \"white\", \"linecolor\": \"white\", \"ticks\": \"\"}}, \"title\": {\"x\": 0.05}, \"xaxis\": {\"automargin\": true, \"gridcolor\": \"white\", \"linecolor\": \"white\", \"ticks\": \"\", \"title\": {\"standoff\": 15}, \"zerolinecolor\": \"white\", \"zerolinewidth\": 2}, \"yaxis\": {\"automargin\": true, \"gridcolor\": \"white\", \"linecolor\": \"white\", \"ticks\": \"\", \"title\": {\"standoff\": 15}, \"zerolinecolor\": \"white\", \"zerolinewidth\": 2}}}, \"xaxis\": {\"anchor\": \"y\", \"domain\": [0.0, 1.0], \"title\": {\"text\": \"support\"}}, \"yaxis\": {\"anchor\": \"x\", \"domain\": [0.0, 1.0], \"title\": {\"text\": \"count\"}}},                        {\"responsive\": true}                    ).then(function(){\n",
       "                            \n",
       "var gd = document.getElementById('7bee1b6a-3e1f-41e6-a43e-dae43d63c6dc');\n",
       "var x = new MutationObserver(function (mutations, observer) {{\n",
       "        var display = window.getComputedStyle(gd).display;\n",
       "        if (!display || display === 'none') {{\n",
       "            console.log([gd, 'removed!']);\n",
       "            Plotly.purge(gd);\n",
       "            observer.disconnect();\n",
       "        }}\n",
       "}});\n",
       "\n",
       "// Listen for the removal of the full notebook cells\n",
       "var notebookContainer = gd.closest('#notebook-container');\n",
       "if (notebookContainer) {{\n",
       "    x.observe(notebookContainer, {childList: true});\n",
       "}}\n",
       "\n",
       "// Listen for the clearing of the current output cell\n",
       "var outputEl = gd.closest('.output');\n",
       "if (outputEl) {{\n",
       "    x.observe(outputEl, {childList: true});\n",
       "}}\n",
       "\n",
       "                        })                };                });            </script>        </div>"
      ]
     },
     "metadata": {},
     "output_type": "display_data"
    }
   ],
   "source": [
    "import plotly.express as px\n",
    "px.histogram(frequent_items, x=\"support\", nbins=10).show()\n"
   ]
  },
  {
   "cell_type": "code",
   "execution_count": 198,
   "metadata": {
    "scrolled": false
   },
   "outputs": [
    {
     "data": {
      "text/html": [
       "<div>\n",
       "<style scoped>\n",
       "    .dataframe tbody tr th:only-of-type {\n",
       "        vertical-align: middle;\n",
       "    }\n",
       "\n",
       "    .dataframe tbody tr th {\n",
       "        vertical-align: top;\n",
       "    }\n",
       "\n",
       "    .dataframe thead th {\n",
       "        text-align: right;\n",
       "    }\n",
       "</style>\n",
       "<table border=\"1\" class=\"dataframe\">\n",
       "  <thead>\n",
       "    <tr style=\"text-align: right;\">\n",
       "      <th></th>\n",
       "      <th>antecedents</th>\n",
       "      <th>consequents</th>\n",
       "      <th>antecedent support</th>\n",
       "      <th>consequent support</th>\n",
       "      <th>support</th>\n",
       "      <th>confidence</th>\n",
       "      <th>lift</th>\n",
       "      <th>leverage</th>\n",
       "      <th>conviction</th>\n",
       "    </tr>\n",
       "  </thead>\n",
       "  <tbody>\n",
       "    <tr>\n",
       "      <th>0</th>\n",
       "      <td>(EGA10603V12B0, MLVS0603L04)</td>\n",
       "      <td>(EGA10603V05B0)</td>\n",
       "      <td>0.19</td>\n",
       "      <td>0.36</td>\n",
       "      <td>0.19</td>\n",
       "      <td>1.00</td>\n",
       "      <td>2.81</td>\n",
       "      <td>0.12</td>\n",
       "      <td>inf</td>\n",
       "    </tr>\n",
       "    <tr>\n",
       "      <th>1</th>\n",
       "      <td>(MLVS0603L04)</td>\n",
       "      <td>(EGA10603V05B0)</td>\n",
       "      <td>0.24</td>\n",
       "      <td>0.36</td>\n",
       "      <td>0.24</td>\n",
       "      <td>0.97</td>\n",
       "      <td>2.73</td>\n",
       "      <td>0.15</td>\n",
       "      <td>21.27</td>\n",
       "    </tr>\n",
       "    <tr>\n",
       "      <th>2</th>\n",
       "      <td>(MLVS0603LE08)</td>\n",
       "      <td>(EGA10603V05B0)</td>\n",
       "      <td>0.24</td>\n",
       "      <td>0.36</td>\n",
       "      <td>0.23</td>\n",
       "      <td>0.97</td>\n",
       "      <td>2.72</td>\n",
       "      <td>0.15</td>\n",
       "      <td>20.62</td>\n",
       "    </tr>\n",
       "    <tr>\n",
       "      <th>3</th>\n",
       "      <td>(MLVS0603L14)</td>\n",
       "      <td>(EGA10603V05B0)</td>\n",
       "      <td>0.24</td>\n",
       "      <td>0.36</td>\n",
       "      <td>0.23</td>\n",
       "      <td>0.94</td>\n",
       "      <td>2.64</td>\n",
       "      <td>0.14</td>\n",
       "      <td>10.63</td>\n",
       "    </tr>\n",
       "    <tr>\n",
       "      <th>4</th>\n",
       "      <td>(EGA10603V12B0)</td>\n",
       "      <td>(EGA10603V05B0)</td>\n",
       "      <td>0.28</td>\n",
       "      <td>0.36</td>\n",
       "      <td>0.26</td>\n",
       "      <td>0.92</td>\n",
       "      <td>2.59</td>\n",
       "      <td>0.16</td>\n",
       "      <td>8.16</td>\n",
       "    </tr>\n",
       "    <tr>\n",
       "      <th>5</th>\n",
       "      <td>(MIP25204R7MBE)</td>\n",
       "      <td>(EGA10603V05B0)</td>\n",
       "      <td>0.28</td>\n",
       "      <td>0.36</td>\n",
       "      <td>0.23</td>\n",
       "      <td>0.82</td>\n",
       "      <td>2.29</td>\n",
       "      <td>0.13</td>\n",
       "      <td>3.50</td>\n",
       "    </tr>\n",
       "    <tr>\n",
       "      <th>6</th>\n",
       "      <td>(MIP25202R2MBE)</td>\n",
       "      <td>(EGA10603V05B0)</td>\n",
       "      <td>0.27</td>\n",
       "      <td>0.36</td>\n",
       "      <td>0.22</td>\n",
       "      <td>0.81</td>\n",
       "      <td>2.28</td>\n",
       "      <td>0.12</td>\n",
       "      <td>3.41</td>\n",
       "    </tr>\n",
       "  </tbody>\n",
       "</table>\n",
       "</div>"
      ],
      "text/plain": [
       "                    antecedents      consequents  antecedent support  \\\n",
       "0  (EGA10603V12B0, MLVS0603L04)  (EGA10603V05B0)                0.19   \n",
       "1                 (MLVS0603L04)  (EGA10603V05B0)                0.24   \n",
       "2                (MLVS0603LE08)  (EGA10603V05B0)                0.24   \n",
       "3                 (MLVS0603L14)  (EGA10603V05B0)                0.24   \n",
       "4               (EGA10603V12B0)  (EGA10603V05B0)                0.28   \n",
       "5               (MIP25204R7MBE)  (EGA10603V05B0)                0.28   \n",
       "6               (MIP25202R2MBE)  (EGA10603V05B0)                0.27   \n",
       "\n",
       "   consequent support  support  confidence  lift  leverage  conviction  \n",
       "0                0.36     0.19        1.00  2.81      0.12         inf  \n",
       "1                0.36     0.24        0.97  2.73      0.15       21.27  \n",
       "2                0.36     0.23        0.97  2.72      0.15       20.62  \n",
       "3                0.36     0.23        0.94  2.64      0.14       10.63  \n",
       "4                0.36     0.26        0.92  2.59      0.16        8.16  \n",
       "5                0.36     0.23        0.82  2.29      0.13        3.50  \n",
       "6                0.36     0.22        0.81  2.28      0.12        3.41  "
      ]
     },
     "execution_count": 198,
     "metadata": {},
     "output_type": "execute_result"
    }
   ],
   "source": [
    "result = association_rules(frequent_items)\n",
    "result.sort_values(\"confidence\", ascending=False).reset_index(drop=True)"
   ]
  },
  {
   "cell_type": "code",
   "execution_count": 199,
   "metadata": {
    "scrolled": false
   },
   "outputs": [
    {
     "data": {
      "application/vnd.plotly.v1+json": {
       "config": {
        "plotlyServerURL": "https://plot.ly"
       },
       "data": [
        {
         "alignmentgroup": "True",
         "bingroup": "x",
         "hovertemplate": "confidence=%{x}<br>count=%{y}<extra></extra>",
         "legendgroup": "",
         "marker": {
          "color": "#636efa"
         },
         "name": "",
         "nbinsx": 10,
         "offsetgroup": "",
         "orientation": "v",
         "showlegend": false,
         "type": "histogram",
         "x": [
          0.9210526315789472,
          0.8108108108108107,
          0.8157894736842105,
          0.9696969696969697,
          0.9393939393939394,
          0.96875,
          1
         ],
         "xaxis": "x",
         "yaxis": "y"
        }
       ],
       "layout": {
        "barmode": "relative",
        "legend": {
         "tracegroupgap": 0
        },
        "margin": {
         "t": 60
        },
        "template": {
         "data": {
          "bar": [
           {
            "error_x": {
             "color": "#2a3f5f"
            },
            "error_y": {
             "color": "#2a3f5f"
            },
            "marker": {
             "line": {
              "color": "#E5ECF6",
              "width": 0.5
             }
            },
            "type": "bar"
           }
          ],
          "barpolar": [
           {
            "marker": {
             "line": {
              "color": "#E5ECF6",
              "width": 0.5
             }
            },
            "type": "barpolar"
           }
          ],
          "carpet": [
           {
            "aaxis": {
             "endlinecolor": "#2a3f5f",
             "gridcolor": "white",
             "linecolor": "white",
             "minorgridcolor": "white",
             "startlinecolor": "#2a3f5f"
            },
            "baxis": {
             "endlinecolor": "#2a3f5f",
             "gridcolor": "white",
             "linecolor": "white",
             "minorgridcolor": "white",
             "startlinecolor": "#2a3f5f"
            },
            "type": "carpet"
           }
          ],
          "choropleth": [
           {
            "colorbar": {
             "outlinewidth": 0,
             "ticks": ""
            },
            "type": "choropleth"
           }
          ],
          "contour": [
           {
            "colorbar": {
             "outlinewidth": 0,
             "ticks": ""
            },
            "colorscale": [
             [
              0,
              "#0d0887"
             ],
             [
              0.1111111111111111,
              "#46039f"
             ],
             [
              0.2222222222222222,
              "#7201a8"
             ],
             [
              0.3333333333333333,
              "#9c179e"
             ],
             [
              0.4444444444444444,
              "#bd3786"
             ],
             [
              0.5555555555555556,
              "#d8576b"
             ],
             [
              0.6666666666666666,
              "#ed7953"
             ],
             [
              0.7777777777777778,
              "#fb9f3a"
             ],
             [
              0.8888888888888888,
              "#fdca26"
             ],
             [
              1,
              "#f0f921"
             ]
            ],
            "type": "contour"
           }
          ],
          "contourcarpet": [
           {
            "colorbar": {
             "outlinewidth": 0,
             "ticks": ""
            },
            "type": "contourcarpet"
           }
          ],
          "heatmap": [
           {
            "colorbar": {
             "outlinewidth": 0,
             "ticks": ""
            },
            "colorscale": [
             [
              0,
              "#0d0887"
             ],
             [
              0.1111111111111111,
              "#46039f"
             ],
             [
              0.2222222222222222,
              "#7201a8"
             ],
             [
              0.3333333333333333,
              "#9c179e"
             ],
             [
              0.4444444444444444,
              "#bd3786"
             ],
             [
              0.5555555555555556,
              "#d8576b"
             ],
             [
              0.6666666666666666,
              "#ed7953"
             ],
             [
              0.7777777777777778,
              "#fb9f3a"
             ],
             [
              0.8888888888888888,
              "#fdca26"
             ],
             [
              1,
              "#f0f921"
             ]
            ],
            "type": "heatmap"
           }
          ],
          "heatmapgl": [
           {
            "colorbar": {
             "outlinewidth": 0,
             "ticks": ""
            },
            "colorscale": [
             [
              0,
              "#0d0887"
             ],
             [
              0.1111111111111111,
              "#46039f"
             ],
             [
              0.2222222222222222,
              "#7201a8"
             ],
             [
              0.3333333333333333,
              "#9c179e"
             ],
             [
              0.4444444444444444,
              "#bd3786"
             ],
             [
              0.5555555555555556,
              "#d8576b"
             ],
             [
              0.6666666666666666,
              "#ed7953"
             ],
             [
              0.7777777777777778,
              "#fb9f3a"
             ],
             [
              0.8888888888888888,
              "#fdca26"
             ],
             [
              1,
              "#f0f921"
             ]
            ],
            "type": "heatmapgl"
           }
          ],
          "histogram": [
           {
            "marker": {
             "colorbar": {
              "outlinewidth": 0,
              "ticks": ""
             }
            },
            "type": "histogram"
           }
          ],
          "histogram2d": [
           {
            "colorbar": {
             "outlinewidth": 0,
             "ticks": ""
            },
            "colorscale": [
             [
              0,
              "#0d0887"
             ],
             [
              0.1111111111111111,
              "#46039f"
             ],
             [
              0.2222222222222222,
              "#7201a8"
             ],
             [
              0.3333333333333333,
              "#9c179e"
             ],
             [
              0.4444444444444444,
              "#bd3786"
             ],
             [
              0.5555555555555556,
              "#d8576b"
             ],
             [
              0.6666666666666666,
              "#ed7953"
             ],
             [
              0.7777777777777778,
              "#fb9f3a"
             ],
             [
              0.8888888888888888,
              "#fdca26"
             ],
             [
              1,
              "#f0f921"
             ]
            ],
            "type": "histogram2d"
           }
          ],
          "histogram2dcontour": [
           {
            "colorbar": {
             "outlinewidth": 0,
             "ticks": ""
            },
            "colorscale": [
             [
              0,
              "#0d0887"
             ],
             [
              0.1111111111111111,
              "#46039f"
             ],
             [
              0.2222222222222222,
              "#7201a8"
             ],
             [
              0.3333333333333333,
              "#9c179e"
             ],
             [
              0.4444444444444444,
              "#bd3786"
             ],
             [
              0.5555555555555556,
              "#d8576b"
             ],
             [
              0.6666666666666666,
              "#ed7953"
             ],
             [
              0.7777777777777778,
              "#fb9f3a"
             ],
             [
              0.8888888888888888,
              "#fdca26"
             ],
             [
              1,
              "#f0f921"
             ]
            ],
            "type": "histogram2dcontour"
           }
          ],
          "mesh3d": [
           {
            "colorbar": {
             "outlinewidth": 0,
             "ticks": ""
            },
            "type": "mesh3d"
           }
          ],
          "parcoords": [
           {
            "line": {
             "colorbar": {
              "outlinewidth": 0,
              "ticks": ""
             }
            },
            "type": "parcoords"
           }
          ],
          "pie": [
           {
            "automargin": true,
            "type": "pie"
           }
          ],
          "scatter": [
           {
            "marker": {
             "colorbar": {
              "outlinewidth": 0,
              "ticks": ""
             }
            },
            "type": "scatter"
           }
          ],
          "scatter3d": [
           {
            "line": {
             "colorbar": {
              "outlinewidth": 0,
              "ticks": ""
             }
            },
            "marker": {
             "colorbar": {
              "outlinewidth": 0,
              "ticks": ""
             }
            },
            "type": "scatter3d"
           }
          ],
          "scattercarpet": [
           {
            "marker": {
             "colorbar": {
              "outlinewidth": 0,
              "ticks": ""
             }
            },
            "type": "scattercarpet"
           }
          ],
          "scattergeo": [
           {
            "marker": {
             "colorbar": {
              "outlinewidth": 0,
              "ticks": ""
             }
            },
            "type": "scattergeo"
           }
          ],
          "scattergl": [
           {
            "marker": {
             "colorbar": {
              "outlinewidth": 0,
              "ticks": ""
             }
            },
            "type": "scattergl"
           }
          ],
          "scattermapbox": [
           {
            "marker": {
             "colorbar": {
              "outlinewidth": 0,
              "ticks": ""
             }
            },
            "type": "scattermapbox"
           }
          ],
          "scatterpolar": [
           {
            "marker": {
             "colorbar": {
              "outlinewidth": 0,
              "ticks": ""
             }
            },
            "type": "scatterpolar"
           }
          ],
          "scatterpolargl": [
           {
            "marker": {
             "colorbar": {
              "outlinewidth": 0,
              "ticks": ""
             }
            },
            "type": "scatterpolargl"
           }
          ],
          "scatterternary": [
           {
            "marker": {
             "colorbar": {
              "outlinewidth": 0,
              "ticks": ""
             }
            },
            "type": "scatterternary"
           }
          ],
          "surface": [
           {
            "colorbar": {
             "outlinewidth": 0,
             "ticks": ""
            },
            "colorscale": [
             [
              0,
              "#0d0887"
             ],
             [
              0.1111111111111111,
              "#46039f"
             ],
             [
              0.2222222222222222,
              "#7201a8"
             ],
             [
              0.3333333333333333,
              "#9c179e"
             ],
             [
              0.4444444444444444,
              "#bd3786"
             ],
             [
              0.5555555555555556,
              "#d8576b"
             ],
             [
              0.6666666666666666,
              "#ed7953"
             ],
             [
              0.7777777777777778,
              "#fb9f3a"
             ],
             [
              0.8888888888888888,
              "#fdca26"
             ],
             [
              1,
              "#f0f921"
             ]
            ],
            "type": "surface"
           }
          ],
          "table": [
           {
            "cells": {
             "fill": {
              "color": "#EBF0F8"
             },
             "line": {
              "color": "white"
             }
            },
            "header": {
             "fill": {
              "color": "#C8D4E3"
             },
             "line": {
              "color": "white"
             }
            },
            "type": "table"
           }
          ]
         },
         "layout": {
          "annotationdefaults": {
           "arrowcolor": "#2a3f5f",
           "arrowhead": 0,
           "arrowwidth": 1
          },
          "coloraxis": {
           "colorbar": {
            "outlinewidth": 0,
            "ticks": ""
           }
          },
          "colorscale": {
           "diverging": [
            [
             0,
             "#8e0152"
            ],
            [
             0.1,
             "#c51b7d"
            ],
            [
             0.2,
             "#de77ae"
            ],
            [
             0.3,
             "#f1b6da"
            ],
            [
             0.4,
             "#fde0ef"
            ],
            [
             0.5,
             "#f7f7f7"
            ],
            [
             0.6,
             "#e6f5d0"
            ],
            [
             0.7,
             "#b8e186"
            ],
            [
             0.8,
             "#7fbc41"
            ],
            [
             0.9,
             "#4d9221"
            ],
            [
             1,
             "#276419"
            ]
           ],
           "sequential": [
            [
             0,
             "#0d0887"
            ],
            [
             0.1111111111111111,
             "#46039f"
            ],
            [
             0.2222222222222222,
             "#7201a8"
            ],
            [
             0.3333333333333333,
             "#9c179e"
            ],
            [
             0.4444444444444444,
             "#bd3786"
            ],
            [
             0.5555555555555556,
             "#d8576b"
            ],
            [
             0.6666666666666666,
             "#ed7953"
            ],
            [
             0.7777777777777778,
             "#fb9f3a"
            ],
            [
             0.8888888888888888,
             "#fdca26"
            ],
            [
             1,
             "#f0f921"
            ]
           ],
           "sequentialminus": [
            [
             0,
             "#0d0887"
            ],
            [
             0.1111111111111111,
             "#46039f"
            ],
            [
             0.2222222222222222,
             "#7201a8"
            ],
            [
             0.3333333333333333,
             "#9c179e"
            ],
            [
             0.4444444444444444,
             "#bd3786"
            ],
            [
             0.5555555555555556,
             "#d8576b"
            ],
            [
             0.6666666666666666,
             "#ed7953"
            ],
            [
             0.7777777777777778,
             "#fb9f3a"
            ],
            [
             0.8888888888888888,
             "#fdca26"
            ],
            [
             1,
             "#f0f921"
            ]
           ]
          },
          "colorway": [
           "#636efa",
           "#EF553B",
           "#00cc96",
           "#ab63fa",
           "#FFA15A",
           "#19d3f3",
           "#FF6692",
           "#B6E880",
           "#FF97FF",
           "#FECB52"
          ],
          "font": {
           "color": "#2a3f5f"
          },
          "geo": {
           "bgcolor": "white",
           "lakecolor": "white",
           "landcolor": "#E5ECF6",
           "showlakes": true,
           "showland": true,
           "subunitcolor": "white"
          },
          "hoverlabel": {
           "align": "left"
          },
          "hovermode": "closest",
          "mapbox": {
           "style": "light"
          },
          "paper_bgcolor": "white",
          "plot_bgcolor": "#E5ECF6",
          "polar": {
           "angularaxis": {
            "gridcolor": "white",
            "linecolor": "white",
            "ticks": ""
           },
           "bgcolor": "#E5ECF6",
           "radialaxis": {
            "gridcolor": "white",
            "linecolor": "white",
            "ticks": ""
           }
          },
          "scene": {
           "xaxis": {
            "backgroundcolor": "#E5ECF6",
            "gridcolor": "white",
            "gridwidth": 2,
            "linecolor": "white",
            "showbackground": true,
            "ticks": "",
            "zerolinecolor": "white"
           },
           "yaxis": {
            "backgroundcolor": "#E5ECF6",
            "gridcolor": "white",
            "gridwidth": 2,
            "linecolor": "white",
            "showbackground": true,
            "ticks": "",
            "zerolinecolor": "white"
           },
           "zaxis": {
            "backgroundcolor": "#E5ECF6",
            "gridcolor": "white",
            "gridwidth": 2,
            "linecolor": "white",
            "showbackground": true,
            "ticks": "",
            "zerolinecolor": "white"
           }
          },
          "shapedefaults": {
           "line": {
            "color": "#2a3f5f"
           }
          },
          "ternary": {
           "aaxis": {
            "gridcolor": "white",
            "linecolor": "white",
            "ticks": ""
           },
           "baxis": {
            "gridcolor": "white",
            "linecolor": "white",
            "ticks": ""
           },
           "bgcolor": "#E5ECF6",
           "caxis": {
            "gridcolor": "white",
            "linecolor": "white",
            "ticks": ""
           }
          },
          "title": {
           "x": 0.05
          },
          "xaxis": {
           "automargin": true,
           "gridcolor": "white",
           "linecolor": "white",
           "ticks": "",
           "title": {
            "standoff": 15
           },
           "zerolinecolor": "white",
           "zerolinewidth": 2
          },
          "yaxis": {
           "automargin": true,
           "gridcolor": "white",
           "linecolor": "white",
           "ticks": "",
           "title": {
            "standoff": 15
           },
           "zerolinecolor": "white",
           "zerolinewidth": 2
          }
         }
        },
        "xaxis": {
         "anchor": "y",
         "domain": [
          0,
          1
         ],
         "title": {
          "text": "confidence"
         }
        },
        "yaxis": {
         "anchor": "x",
         "domain": [
          0,
          1
         ],
         "title": {
          "text": "count"
         }
        }
       }
      },
      "text/html": [
       "<div>                            <div id=\"63e2c022-5870-496e-9186-8b220aed2c08\" class=\"plotly-graph-div\" style=\"height:525px; width:100%;\"></div>            <script type=\"text/javascript\">                require([\"plotly\"], function(Plotly) {                    window.PLOTLYENV=window.PLOTLYENV || {};                                    if (document.getElementById(\"63e2c022-5870-496e-9186-8b220aed2c08\")) {                    Plotly.newPlot(                        \"63e2c022-5870-496e-9186-8b220aed2c08\",                        [{\"alignmentgroup\": \"True\", \"bingroup\": \"x\", \"hovertemplate\": \"confidence=%{x}<br>count=%{y}<extra></extra>\", \"legendgroup\": \"\", \"marker\": {\"color\": \"#636efa\"}, \"name\": \"\", \"nbinsx\": 10, \"offsetgroup\": \"\", \"orientation\": \"v\", \"showlegend\": false, \"type\": \"histogram\", \"x\": [0.9210526315789472, 0.8108108108108107, 0.8157894736842105, 0.9696969696969697, 0.9393939393939394, 0.96875, 1.0], \"xaxis\": \"x\", \"yaxis\": \"y\"}],                        {\"barmode\": \"relative\", \"legend\": {\"tracegroupgap\": 0}, \"margin\": {\"t\": 60}, \"template\": {\"data\": {\"bar\": [{\"error_x\": {\"color\": \"#2a3f5f\"}, \"error_y\": {\"color\": \"#2a3f5f\"}, \"marker\": {\"line\": {\"color\": \"#E5ECF6\", \"width\": 0.5}}, \"type\": \"bar\"}], \"barpolar\": [{\"marker\": {\"line\": {\"color\": \"#E5ECF6\", \"width\": 0.5}}, \"type\": \"barpolar\"}], \"carpet\": [{\"aaxis\": {\"endlinecolor\": \"#2a3f5f\", \"gridcolor\": \"white\", \"linecolor\": \"white\", \"minorgridcolor\": \"white\", \"startlinecolor\": \"#2a3f5f\"}, \"baxis\": {\"endlinecolor\": \"#2a3f5f\", \"gridcolor\": \"white\", \"linecolor\": \"white\", \"minorgridcolor\": \"white\", \"startlinecolor\": \"#2a3f5f\"}, \"type\": \"carpet\"}], \"choropleth\": [{\"colorbar\": {\"outlinewidth\": 0, \"ticks\": \"\"}, \"type\": \"choropleth\"}], \"contour\": [{\"colorbar\": {\"outlinewidth\": 0, \"ticks\": \"\"}, \"colorscale\": [[0.0, \"#0d0887\"], [0.1111111111111111, \"#46039f\"], [0.2222222222222222, \"#7201a8\"], [0.3333333333333333, \"#9c179e\"], [0.4444444444444444, \"#bd3786\"], [0.5555555555555556, \"#d8576b\"], [0.6666666666666666, \"#ed7953\"], [0.7777777777777778, \"#fb9f3a\"], [0.8888888888888888, \"#fdca26\"], [1.0, \"#f0f921\"]], \"type\": \"contour\"}], \"contourcarpet\": [{\"colorbar\": {\"outlinewidth\": 0, \"ticks\": \"\"}, \"type\": \"contourcarpet\"}], \"heatmap\": [{\"colorbar\": {\"outlinewidth\": 0, \"ticks\": \"\"}, \"colorscale\": [[0.0, \"#0d0887\"], [0.1111111111111111, \"#46039f\"], [0.2222222222222222, \"#7201a8\"], [0.3333333333333333, \"#9c179e\"], [0.4444444444444444, \"#bd3786\"], [0.5555555555555556, \"#d8576b\"], [0.6666666666666666, \"#ed7953\"], [0.7777777777777778, \"#fb9f3a\"], [0.8888888888888888, \"#fdca26\"], [1.0, \"#f0f921\"]], \"type\": \"heatmap\"}], \"heatmapgl\": [{\"colorbar\": {\"outlinewidth\": 0, \"ticks\": \"\"}, \"colorscale\": [[0.0, \"#0d0887\"], [0.1111111111111111, \"#46039f\"], [0.2222222222222222, \"#7201a8\"], [0.3333333333333333, \"#9c179e\"], [0.4444444444444444, \"#bd3786\"], [0.5555555555555556, \"#d8576b\"], [0.6666666666666666, \"#ed7953\"], [0.7777777777777778, \"#fb9f3a\"], [0.8888888888888888, \"#fdca26\"], [1.0, \"#f0f921\"]], \"type\": \"heatmapgl\"}], \"histogram\": [{\"marker\": {\"colorbar\": {\"outlinewidth\": 0, \"ticks\": \"\"}}, \"type\": \"histogram\"}], \"histogram2d\": [{\"colorbar\": {\"outlinewidth\": 0, \"ticks\": \"\"}, \"colorscale\": [[0.0, \"#0d0887\"], [0.1111111111111111, \"#46039f\"], [0.2222222222222222, \"#7201a8\"], [0.3333333333333333, \"#9c179e\"], [0.4444444444444444, \"#bd3786\"], [0.5555555555555556, \"#d8576b\"], [0.6666666666666666, \"#ed7953\"], [0.7777777777777778, \"#fb9f3a\"], [0.8888888888888888, \"#fdca26\"], [1.0, \"#f0f921\"]], \"type\": \"histogram2d\"}], \"histogram2dcontour\": [{\"colorbar\": {\"outlinewidth\": 0, \"ticks\": \"\"}, \"colorscale\": [[0.0, \"#0d0887\"], [0.1111111111111111, \"#46039f\"], [0.2222222222222222, \"#7201a8\"], [0.3333333333333333, \"#9c179e\"], [0.4444444444444444, \"#bd3786\"], [0.5555555555555556, \"#d8576b\"], [0.6666666666666666, \"#ed7953\"], [0.7777777777777778, \"#fb9f3a\"], [0.8888888888888888, \"#fdca26\"], [1.0, \"#f0f921\"]], \"type\": \"histogram2dcontour\"}], \"mesh3d\": [{\"colorbar\": {\"outlinewidth\": 0, \"ticks\": \"\"}, \"type\": \"mesh3d\"}], \"parcoords\": [{\"line\": {\"colorbar\": {\"outlinewidth\": 0, \"ticks\": \"\"}}, \"type\": \"parcoords\"}], \"pie\": [{\"automargin\": true, \"type\": \"pie\"}], \"scatter\": [{\"marker\": {\"colorbar\": {\"outlinewidth\": 0, \"ticks\": \"\"}}, \"type\": \"scatter\"}], \"scatter3d\": [{\"line\": {\"colorbar\": {\"outlinewidth\": 0, \"ticks\": \"\"}}, \"marker\": {\"colorbar\": {\"outlinewidth\": 0, \"ticks\": \"\"}}, \"type\": \"scatter3d\"}], \"scattercarpet\": [{\"marker\": {\"colorbar\": {\"outlinewidth\": 0, \"ticks\": \"\"}}, \"type\": \"scattercarpet\"}], \"scattergeo\": [{\"marker\": {\"colorbar\": {\"outlinewidth\": 0, \"ticks\": \"\"}}, \"type\": \"scattergeo\"}], \"scattergl\": [{\"marker\": {\"colorbar\": {\"outlinewidth\": 0, \"ticks\": \"\"}}, \"type\": \"scattergl\"}], \"scattermapbox\": [{\"marker\": {\"colorbar\": {\"outlinewidth\": 0, \"ticks\": \"\"}}, \"type\": \"scattermapbox\"}], \"scatterpolar\": [{\"marker\": {\"colorbar\": {\"outlinewidth\": 0, \"ticks\": \"\"}}, \"type\": \"scatterpolar\"}], \"scatterpolargl\": [{\"marker\": {\"colorbar\": {\"outlinewidth\": 0, \"ticks\": \"\"}}, \"type\": \"scatterpolargl\"}], \"scatterternary\": [{\"marker\": {\"colorbar\": {\"outlinewidth\": 0, \"ticks\": \"\"}}, \"type\": \"scatterternary\"}], \"surface\": [{\"colorbar\": {\"outlinewidth\": 0, \"ticks\": \"\"}, \"colorscale\": [[0.0, \"#0d0887\"], [0.1111111111111111, \"#46039f\"], [0.2222222222222222, \"#7201a8\"], [0.3333333333333333, \"#9c179e\"], [0.4444444444444444, \"#bd3786\"], [0.5555555555555556, \"#d8576b\"], [0.6666666666666666, \"#ed7953\"], [0.7777777777777778, \"#fb9f3a\"], [0.8888888888888888, \"#fdca26\"], [1.0, \"#f0f921\"]], \"type\": \"surface\"}], \"table\": [{\"cells\": {\"fill\": {\"color\": \"#EBF0F8\"}, \"line\": {\"color\": \"white\"}}, \"header\": {\"fill\": {\"color\": \"#C8D4E3\"}, \"line\": {\"color\": \"white\"}}, \"type\": \"table\"}]}, \"layout\": {\"annotationdefaults\": {\"arrowcolor\": \"#2a3f5f\", \"arrowhead\": 0, \"arrowwidth\": 1}, \"coloraxis\": {\"colorbar\": {\"outlinewidth\": 0, \"ticks\": \"\"}}, \"colorscale\": {\"diverging\": [[0, \"#8e0152\"], [0.1, \"#c51b7d\"], [0.2, \"#de77ae\"], [0.3, \"#f1b6da\"], [0.4, \"#fde0ef\"], [0.5, \"#f7f7f7\"], [0.6, \"#e6f5d0\"], [0.7, \"#b8e186\"], [0.8, \"#7fbc41\"], [0.9, \"#4d9221\"], [1, \"#276419\"]], \"sequential\": [[0.0, \"#0d0887\"], [0.1111111111111111, \"#46039f\"], [0.2222222222222222, \"#7201a8\"], [0.3333333333333333, \"#9c179e\"], [0.4444444444444444, \"#bd3786\"], [0.5555555555555556, \"#d8576b\"], [0.6666666666666666, \"#ed7953\"], [0.7777777777777778, \"#fb9f3a\"], [0.8888888888888888, \"#fdca26\"], [1.0, \"#f0f921\"]], \"sequentialminus\": [[0.0, \"#0d0887\"], [0.1111111111111111, \"#46039f\"], [0.2222222222222222, \"#7201a8\"], [0.3333333333333333, \"#9c179e\"], [0.4444444444444444, \"#bd3786\"], [0.5555555555555556, \"#d8576b\"], [0.6666666666666666, \"#ed7953\"], [0.7777777777777778, \"#fb9f3a\"], [0.8888888888888888, \"#fdca26\"], [1.0, \"#f0f921\"]]}, \"colorway\": [\"#636efa\", \"#EF553B\", \"#00cc96\", \"#ab63fa\", \"#FFA15A\", \"#19d3f3\", \"#FF6692\", \"#B6E880\", \"#FF97FF\", \"#FECB52\"], \"font\": {\"color\": \"#2a3f5f\"}, \"geo\": {\"bgcolor\": \"white\", \"lakecolor\": \"white\", \"landcolor\": \"#E5ECF6\", \"showlakes\": true, \"showland\": true, \"subunitcolor\": \"white\"}, \"hoverlabel\": {\"align\": \"left\"}, \"hovermode\": \"closest\", \"mapbox\": {\"style\": \"light\"}, \"paper_bgcolor\": \"white\", \"plot_bgcolor\": \"#E5ECF6\", \"polar\": {\"angularaxis\": {\"gridcolor\": \"white\", \"linecolor\": \"white\", \"ticks\": \"\"}, \"bgcolor\": \"#E5ECF6\", \"radialaxis\": {\"gridcolor\": \"white\", \"linecolor\": \"white\", \"ticks\": \"\"}}, \"scene\": {\"xaxis\": {\"backgroundcolor\": \"#E5ECF6\", \"gridcolor\": \"white\", \"gridwidth\": 2, \"linecolor\": \"white\", \"showbackground\": true, \"ticks\": \"\", \"zerolinecolor\": \"white\"}, \"yaxis\": {\"backgroundcolor\": \"#E5ECF6\", \"gridcolor\": \"white\", \"gridwidth\": 2, \"linecolor\": \"white\", \"showbackground\": true, \"ticks\": \"\", \"zerolinecolor\": \"white\"}, \"zaxis\": {\"backgroundcolor\": \"#E5ECF6\", \"gridcolor\": \"white\", \"gridwidth\": 2, \"linecolor\": \"white\", \"showbackground\": true, \"ticks\": \"\", \"zerolinecolor\": \"white\"}}, \"shapedefaults\": {\"line\": {\"color\": \"#2a3f5f\"}}, \"ternary\": {\"aaxis\": {\"gridcolor\": \"white\", \"linecolor\": \"white\", \"ticks\": \"\"}, \"baxis\": {\"gridcolor\": \"white\", \"linecolor\": \"white\", \"ticks\": \"\"}, \"bgcolor\": \"#E5ECF6\", \"caxis\": {\"gridcolor\": \"white\", \"linecolor\": \"white\", \"ticks\": \"\"}}, \"title\": {\"x\": 0.05}, \"xaxis\": {\"automargin\": true, \"gridcolor\": \"white\", \"linecolor\": \"white\", \"ticks\": \"\", \"title\": {\"standoff\": 15}, \"zerolinecolor\": \"white\", \"zerolinewidth\": 2}, \"yaxis\": {\"automargin\": true, \"gridcolor\": \"white\", \"linecolor\": \"white\", \"ticks\": \"\", \"title\": {\"standoff\": 15}, \"zerolinecolor\": \"white\", \"zerolinewidth\": 2}}}, \"xaxis\": {\"anchor\": \"y\", \"domain\": [0.0, 1.0], \"title\": {\"text\": \"confidence\"}}, \"yaxis\": {\"anchor\": \"x\", \"domain\": [0.0, 1.0], \"title\": {\"text\": \"count\"}}},                        {\"responsive\": true}                    ).then(function(){\n",
       "                            \n",
       "var gd = document.getElementById('63e2c022-5870-496e-9186-8b220aed2c08');\n",
       "var x = new MutationObserver(function (mutations, observer) {{\n",
       "        var display = window.getComputedStyle(gd).display;\n",
       "        if (!display || display === 'none') {{\n",
       "            console.log([gd, 'removed!']);\n",
       "            Plotly.purge(gd);\n",
       "            observer.disconnect();\n",
       "        }}\n",
       "}});\n",
       "\n",
       "// Listen for the removal of the full notebook cells\n",
       "var notebookContainer = gd.closest('#notebook-container');\n",
       "if (notebookContainer) {{\n",
       "    x.observe(notebookContainer, {childList: true});\n",
       "}}\n",
       "\n",
       "// Listen for the clearing of the current output cell\n",
       "var outputEl = gd.closest('.output');\n",
       "if (outputEl) {{\n",
       "    x.observe(outputEl, {childList: true});\n",
       "}}\n",
       "\n",
       "                        })                };                });            </script>        </div>"
      ]
     },
     "metadata": {},
     "output_type": "display_data"
    }
   ],
   "source": [
    "import plotly.express as px\n",
    "px.histogram(result, x=\"confidence\", nbins=10).show()"
   ]
  },
  {
   "cell_type": "code",
   "execution_count": 200,
   "metadata": {},
   "outputs": [],
   "source": [
    "test1 = pd.DataFrame(result, columns=result.columns)\n",
    "test1[\"antecedents\"] = test1[\"antecedents\"].map(lambda x: list(x))\n",
    "test1[\"consequents\"] = test1[\"consequents\"].map(lambda x: list(x))"
   ]
  },
  {
   "cell_type": "code",
   "execution_count": 201,
   "metadata": {},
   "outputs": [],
   "source": [
    "x = sort_df.groupby([\"品名\"])[[\"數量\", \"本國幣別NTD\"]].sum().reset_index()"
   ]
  },
  {
   "cell_type": "code",
   "execution_count": 202,
   "metadata": {
    "scrolled": true
   },
   "outputs": [],
   "source": [
    "total_volume = []\n",
    "total_volume_consequents = []\n",
    "total_revenue = []\n",
    "total_revenue_consequents = []\n",
    "for i in test1[\"antecedents\"]:\n",
    "    product_sum = 0\n",
    "    for j in i:\n",
    "#         print(j)\n",
    "        volume = x[x[\"品名\"] == j][\"數量\"].sum()\n",
    "#         print(volume)\n",
    "        product_sum += volume\n",
    "    total_volume.append(product_sum)\n",
    "\n",
    "for i in test1[\"antecedents\"]:\n",
    "    product_sum = 0\n",
    "    for j in i:\n",
    "#         print(j)\n",
    "        volume = x[x[\"品名\"] == j][\"本國幣別NTD\"].sum()\n",
    "#         print(volume)\n",
    "        product_sum += volume\n",
    "    total_revenue.append(product_sum)\n",
    "\n",
    "for i in test1[\"consequents\"]:\n",
    "    product_sum = 0\n",
    "    for j in i:\n",
    "#         print(j)\n",
    "        volume = x[x[\"品名\"] == j][\"數量\"].sum()\n",
    "#         print(volume)\n",
    "        product_sum += volume\n",
    "    total_volume_consequents.append(product_sum)\n",
    "\n",
    "for i in test1[\"consequents\"]:\n",
    "    product_sum = 0\n",
    "    for j in i:\n",
    "#         print(j)\n",
    "        volume = x[x[\"品名\"] == j][\"本國幣別NTD\"].sum()\n",
    "#         print(volume)\n",
    "        product_sum += volume\n",
    "    total_revenue_consequents.append(product_sum)\n",
    "    \n"
   ]
  },
  {
   "cell_type": "code",
   "execution_count": 203,
   "metadata": {
    "scrolled": true
   },
   "outputs": [],
   "source": [
    "test1[\"總數量\"] = [i + j for i, j in zip(total_volume, total_volume_consequents)]"
   ]
  },
  {
   "cell_type": "code",
   "execution_count": 204,
   "metadata": {},
   "outputs": [],
   "source": [
    "test1[\"總營業額\"] = [k + y for k, y in zip(total_revenue, total_revenue_consequents)]"
   ]
  },
  {
   "cell_type": "code",
   "execution_count": 205,
   "metadata": {
    "scrolled": false
   },
   "outputs": [],
   "source": [
    "test1[\"antecedents_len\"] = test1[\"antecedents\"].map(lambda x: len(x))"
   ]
  },
  {
   "cell_type": "code",
   "execution_count": 106,
   "metadata": {
    "scrolled": true
   },
   "outputs": [
    {
     "name": "stdout",
     "output_type": "stream",
     "text": [
      "請輸入先決條件數量：2\n"
     ]
    }
   ],
   "source": [
    "ante_filter = int(input(\"請輸入先決條件數量：\"))\n",
    "final_result = test1[test1[\"antecedents_len\"] >= ante_filter]"
   ]
  },
  {
   "cell_type": "code",
   "execution_count": 213,
   "metadata": {},
   "outputs": [
    {
     "data": {
      "text/html": [
       "<style  type=\"text/css\" >\n",
       "#T_e2188ccd_646d_11eb_85a1_f83441a55a81row0_col9{\n",
       "            background-color:  #82ceb8;\n",
       "            color:  #000000;\n",
       "        }#T_e2188ccd_646d_11eb_85a1_f83441a55a81row0_col10{\n",
       "            background-color:  #2a9350;\n",
       "            color:  #000000;\n",
       "        }#T_e2188ccd_646d_11eb_85a1_f83441a55a81row1_col9{\n",
       "            background-color:  #bfe7de;\n",
       "            color:  #000000;\n",
       "        }#T_e2188ccd_646d_11eb_85a1_f83441a55a81row1_col10{\n",
       "            background-color:  #85cfbb;\n",
       "            color:  #000000;\n",
       "        }#T_e2188ccd_646d_11eb_85a1_f83441a55a81row2_col9{\n",
       "            background-color:  #f5fbfd;\n",
       "            color:  #000000;\n",
       "        }#T_e2188ccd_646d_11eb_85a1_f83441a55a81row2_col10{\n",
       "            background-color:  #ecf8fa;\n",
       "            color:  #000000;\n",
       "        }#T_e2188ccd_646d_11eb_85a1_f83441a55a81row3_col9{\n",
       "            background-color:  #61bf9e;\n",
       "            color:  #000000;\n",
       "        }#T_e2188ccd_646d_11eb_85a1_f83441a55a81row3_col10{\n",
       "            background-color:  #cdece6;\n",
       "            color:  #000000;\n",
       "        }#T_e2188ccd_646d_11eb_85a1_f83441a55a81row4_col9{\n",
       "            background-color:  #edf8fb;\n",
       "            color:  #000000;\n",
       "        }#T_e2188ccd_646d_11eb_85a1_f83441a55a81row4_col10{\n",
       "            background-color:  #f3fafc;\n",
       "            color:  #000000;\n",
       "        }#T_e2188ccd_646d_11eb_85a1_f83441a55a81row5_col9,#T_e2188ccd_646d_11eb_85a1_f83441a55a81row5_col10{\n",
       "            background-color:  #f7fcfd;\n",
       "            color:  #000000;\n",
       "        }#T_e2188ccd_646d_11eb_85a1_f83441a55a81row6_col9,#T_e2188ccd_646d_11eb_85a1_f83441a55a81row6_col10{\n",
       "            background-color:  #00441b;\n",
       "            color:  #f1f1f1;\n",
       "        }</style><table id=\"T_e2188ccd_646d_11eb_85a1_f83441a55a81\" ><caption>2020年Bourns購物籃分析</caption><thead>    <tr>        <th class=\"col_heading level0 col0\" >antecedents</th>        <th class=\"col_heading level0 col1\" >consequents</th>        <th class=\"col_heading level0 col2\" >antecedent support</th>        <th class=\"col_heading level0 col3\" >consequent support</th>        <th class=\"col_heading level0 col4\" >support</th>        <th class=\"col_heading level0 col5\" >confidence</th>        <th class=\"col_heading level0 col6\" >lift</th>        <th class=\"col_heading level0 col7\" >leverage</th>        <th class=\"col_heading level0 col8\" >conviction</th>        <th class=\"col_heading level0 col9\" >總數量</th>        <th class=\"col_heading level0 col10\" >總營業額</th>        <th class=\"col_heading level0 col11\" >antecedents_len</th>    </tr></thead><tbody>\n",
       "                <tr>\n",
       "                                <td id=\"T_e2188ccd_646d_11eb_85a1_f83441a55a81row0_col0\" class=\"data row0 col0\" >['EGA10603V12B0']</td>\n",
       "                        <td id=\"T_e2188ccd_646d_11eb_85a1_f83441a55a81row0_col1\" class=\"data row0 col1\" >['EGA10603V05B0']</td>\n",
       "                        <td id=\"T_e2188ccd_646d_11eb_85a1_f83441a55a81row0_col2\" class=\"data row0 col2\" >0.281481</td>\n",
       "                        <td id=\"T_e2188ccd_646d_11eb_85a1_f83441a55a81row0_col3\" class=\"data row0 col3\" >0.355556</td>\n",
       "                        <td id=\"T_e2188ccd_646d_11eb_85a1_f83441a55a81row0_col4\" class=\"data row0 col4\" >0.259259</td>\n",
       "                        <td id=\"T_e2188ccd_646d_11eb_85a1_f83441a55a81row0_col5\" class=\"data row0 col5\" >0.921053</td>\n",
       "                        <td id=\"T_e2188ccd_646d_11eb_85a1_f83441a55a81row0_col6\" class=\"data row0 col6\" >2.590461</td>\n",
       "                        <td id=\"T_e2188ccd_646d_11eb_85a1_f83441a55a81row0_col7\" class=\"data row0 col7\" >0.159177</td>\n",
       "                        <td id=\"T_e2188ccd_646d_11eb_85a1_f83441a55a81row0_col8\" class=\"data row0 col8\" >8.162963</td>\n",
       "                        <td id=\"T_e2188ccd_646d_11eb_85a1_f83441a55a81row0_col9\" class=\"data row0 col9\" >47,735,000</td>\n",
       "                        <td id=\"T_e2188ccd_646d_11eb_85a1_f83441a55a81row0_col10\" class=\"data row0 col10\" >18,904,133</td>\n",
       "                        <td id=\"T_e2188ccd_646d_11eb_85a1_f83441a55a81row0_col11\" class=\"data row0 col11\" >1</td>\n",
       "            </tr>\n",
       "            <tr>\n",
       "                                <td id=\"T_e2188ccd_646d_11eb_85a1_f83441a55a81row1_col0\" class=\"data row1 col0\" >['MIP25202R2MBE']</td>\n",
       "                        <td id=\"T_e2188ccd_646d_11eb_85a1_f83441a55a81row1_col1\" class=\"data row1 col1\" >['EGA10603V05B0']</td>\n",
       "                        <td id=\"T_e2188ccd_646d_11eb_85a1_f83441a55a81row1_col2\" class=\"data row1 col2\" >0.274074</td>\n",
       "                        <td id=\"T_e2188ccd_646d_11eb_85a1_f83441a55a81row1_col3\" class=\"data row1 col3\" >0.355556</td>\n",
       "                        <td id=\"T_e2188ccd_646d_11eb_85a1_f83441a55a81row1_col4\" class=\"data row1 col4\" >0.222222</td>\n",
       "                        <td id=\"T_e2188ccd_646d_11eb_85a1_f83441a55a81row1_col5\" class=\"data row1 col5\" >0.810811</td>\n",
       "                        <td id=\"T_e2188ccd_646d_11eb_85a1_f83441a55a81row1_col6\" class=\"data row1 col6\" >2.280405</td>\n",
       "                        <td id=\"T_e2188ccd_646d_11eb_85a1_f83441a55a81row1_col7\" class=\"data row1 col7\" >0.124774</td>\n",
       "                        <td id=\"T_e2188ccd_646d_11eb_85a1_f83441a55a81row1_col8\" class=\"data row1 col8\" >3.406349</td>\n",
       "                        <td id=\"T_e2188ccd_646d_11eb_85a1_f83441a55a81row1_col9\" class=\"data row1 col9\" >41,417,000</td>\n",
       "                        <td id=\"T_e2188ccd_646d_11eb_85a1_f83441a55a81row1_col10\" class=\"data row1 col10\" >15,657,354</td>\n",
       "                        <td id=\"T_e2188ccd_646d_11eb_85a1_f83441a55a81row1_col11\" class=\"data row1 col11\" >1</td>\n",
       "            </tr>\n",
       "            <tr>\n",
       "                                <td id=\"T_e2188ccd_646d_11eb_85a1_f83441a55a81row2_col0\" class=\"data row2 col0\" >['MIP25204R7MBE']</td>\n",
       "                        <td id=\"T_e2188ccd_646d_11eb_85a1_f83441a55a81row2_col1\" class=\"data row2 col1\" >['EGA10603V05B0']</td>\n",
       "                        <td id=\"T_e2188ccd_646d_11eb_85a1_f83441a55a81row2_col2\" class=\"data row2 col2\" >0.281481</td>\n",
       "                        <td id=\"T_e2188ccd_646d_11eb_85a1_f83441a55a81row2_col3\" class=\"data row2 col3\" >0.355556</td>\n",
       "                        <td id=\"T_e2188ccd_646d_11eb_85a1_f83441a55a81row2_col4\" class=\"data row2 col4\" >0.229630</td>\n",
       "                        <td id=\"T_e2188ccd_646d_11eb_85a1_f83441a55a81row2_col5\" class=\"data row2 col5\" >0.815789</td>\n",
       "                        <td id=\"T_e2188ccd_646d_11eb_85a1_f83441a55a81row2_col6\" class=\"data row2 col6\" >2.294408</td>\n",
       "                        <td id=\"T_e2188ccd_646d_11eb_85a1_f83441a55a81row2_col7\" class=\"data row2 col7\" >0.129547</td>\n",
       "                        <td id=\"T_e2188ccd_646d_11eb_85a1_f83441a55a81row2_col8\" class=\"data row2 col8\" >3.498413</td>\n",
       "                        <td id=\"T_e2188ccd_646d_11eb_85a1_f83441a55a81row2_col9\" class=\"data row2 col9\" >29,909,000</td>\n",
       "                        <td id=\"T_e2188ccd_646d_11eb_85a1_f83441a55a81row2_col10\" class=\"data row2 col10\" >11,910,162</td>\n",
       "                        <td id=\"T_e2188ccd_646d_11eb_85a1_f83441a55a81row2_col11\" class=\"data row2 col11\" >1</td>\n",
       "            </tr>\n",
       "            <tr>\n",
       "                                <td id=\"T_e2188ccd_646d_11eb_85a1_f83441a55a81row3_col0\" class=\"data row3 col0\" >['MLVS0603L04']</td>\n",
       "                        <td id=\"T_e2188ccd_646d_11eb_85a1_f83441a55a81row3_col1\" class=\"data row3 col1\" >['EGA10603V05B0']</td>\n",
       "                        <td id=\"T_e2188ccd_646d_11eb_85a1_f83441a55a81row3_col2\" class=\"data row3 col2\" >0.244444</td>\n",
       "                        <td id=\"T_e2188ccd_646d_11eb_85a1_f83441a55a81row3_col3\" class=\"data row3 col3\" >0.355556</td>\n",
       "                        <td id=\"T_e2188ccd_646d_11eb_85a1_f83441a55a81row3_col4\" class=\"data row3 col4\" >0.237037</td>\n",
       "                        <td id=\"T_e2188ccd_646d_11eb_85a1_f83441a55a81row3_col5\" class=\"data row3 col5\" >0.969697</td>\n",
       "                        <td id=\"T_e2188ccd_646d_11eb_85a1_f83441a55a81row3_col6\" class=\"data row3 col6\" >2.727273</td>\n",
       "                        <td id=\"T_e2188ccd_646d_11eb_85a1_f83441a55a81row3_col7\" class=\"data row3 col7\" >0.150123</td>\n",
       "                        <td id=\"T_e2188ccd_646d_11eb_85a1_f83441a55a81row3_col8\" class=\"data row3 col8\" >21.266667</td>\n",
       "                        <td id=\"T_e2188ccd_646d_11eb_85a1_f83441a55a81row3_col9\" class=\"data row3 col9\" >51,538,000</td>\n",
       "                        <td id=\"T_e2188ccd_646d_11eb_85a1_f83441a55a81row3_col10\" class=\"data row3 col10\" >13,738,039</td>\n",
       "                        <td id=\"T_e2188ccd_646d_11eb_85a1_f83441a55a81row3_col11\" class=\"data row3 col11\" >1</td>\n",
       "            </tr>\n",
       "            <tr>\n",
       "                                <td id=\"T_e2188ccd_646d_11eb_85a1_f83441a55a81row4_col0\" class=\"data row4 col0\" >['MLVS0603L14']</td>\n",
       "                        <td id=\"T_e2188ccd_646d_11eb_85a1_f83441a55a81row4_col1\" class=\"data row4 col1\" >['EGA10603V05B0']</td>\n",
       "                        <td id=\"T_e2188ccd_646d_11eb_85a1_f83441a55a81row4_col2\" class=\"data row4 col2\" >0.244444</td>\n",
       "                        <td id=\"T_e2188ccd_646d_11eb_85a1_f83441a55a81row4_col3\" class=\"data row4 col3\" >0.355556</td>\n",
       "                        <td id=\"T_e2188ccd_646d_11eb_85a1_f83441a55a81row4_col4\" class=\"data row4 col4\" >0.229630</td>\n",
       "                        <td id=\"T_e2188ccd_646d_11eb_85a1_f83441a55a81row4_col5\" class=\"data row4 col5\" >0.939394</td>\n",
       "                        <td id=\"T_e2188ccd_646d_11eb_85a1_f83441a55a81row4_col6\" class=\"data row4 col6\" >2.642045</td>\n",
       "                        <td id=\"T_e2188ccd_646d_11eb_85a1_f83441a55a81row4_col7\" class=\"data row4 col7\" >0.142716</td>\n",
       "                        <td id=\"T_e2188ccd_646d_11eb_85a1_f83441a55a81row4_col8\" class=\"data row4 col8\" >10.633333</td>\n",
       "                        <td id=\"T_e2188ccd_646d_11eb_85a1_f83441a55a81row4_col9\" class=\"data row4 col9\" >32,130,000</td>\n",
       "                        <td id=\"T_e2188ccd_646d_11eb_85a1_f83441a55a81row4_col10\" class=\"data row4 col10\" >11,365,299</td>\n",
       "                        <td id=\"T_e2188ccd_646d_11eb_85a1_f83441a55a81row4_col11\" class=\"data row4 col11\" >1</td>\n",
       "            </tr>\n",
       "            <tr>\n",
       "                                <td id=\"T_e2188ccd_646d_11eb_85a1_f83441a55a81row5_col0\" class=\"data row5 col0\" >['MLVS0603LE08']</td>\n",
       "                        <td id=\"T_e2188ccd_646d_11eb_85a1_f83441a55a81row5_col1\" class=\"data row5 col1\" >['EGA10603V05B0']</td>\n",
       "                        <td id=\"T_e2188ccd_646d_11eb_85a1_f83441a55a81row5_col2\" class=\"data row5 col2\" >0.237037</td>\n",
       "                        <td id=\"T_e2188ccd_646d_11eb_85a1_f83441a55a81row5_col3\" class=\"data row5 col3\" >0.355556</td>\n",
       "                        <td id=\"T_e2188ccd_646d_11eb_85a1_f83441a55a81row5_col4\" class=\"data row5 col4\" >0.229630</td>\n",
       "                        <td id=\"T_e2188ccd_646d_11eb_85a1_f83441a55a81row5_col5\" class=\"data row5 col5\" >0.968750</td>\n",
       "                        <td id=\"T_e2188ccd_646d_11eb_85a1_f83441a55a81row5_col6\" class=\"data row5 col6\" >2.724609</td>\n",
       "                        <td id=\"T_e2188ccd_646d_11eb_85a1_f83441a55a81row5_col7\" class=\"data row5 col7\" >0.145350</td>\n",
       "                        <td id=\"T_e2188ccd_646d_11eb_85a1_f83441a55a81row5_col8\" class=\"data row5 col8\" >20.622222</td>\n",
       "                        <td id=\"T_e2188ccd_646d_11eb_85a1_f83441a55a81row5_col9\" class=\"data row5 col9\" >29,254,000</td>\n",
       "                        <td id=\"T_e2188ccd_646d_11eb_85a1_f83441a55a81row5_col10\" class=\"data row5 col10\" >11,025,230</td>\n",
       "                        <td id=\"T_e2188ccd_646d_11eb_85a1_f83441a55a81row5_col11\" class=\"data row5 col11\" >1</td>\n",
       "            </tr>\n",
       "            <tr>\n",
       "                                <td id=\"T_e2188ccd_646d_11eb_85a1_f83441a55a81row6_col0\" class=\"data row6 col0\" >['EGA10603V12B0', 'MLVS0603L04']</td>\n",
       "                        <td id=\"T_e2188ccd_646d_11eb_85a1_f83441a55a81row6_col1\" class=\"data row6 col1\" >['EGA10603V05B0']</td>\n",
       "                        <td id=\"T_e2188ccd_646d_11eb_85a1_f83441a55a81row6_col2\" class=\"data row6 col2\" >0.185185</td>\n",
       "                        <td id=\"T_e2188ccd_646d_11eb_85a1_f83441a55a81row6_col3\" class=\"data row6 col3\" >0.355556</td>\n",
       "                        <td id=\"T_e2188ccd_646d_11eb_85a1_f83441a55a81row6_col4\" class=\"data row6 col4\" >0.185185</td>\n",
       "                        <td id=\"T_e2188ccd_646d_11eb_85a1_f83441a55a81row6_col5\" class=\"data row6 col5\" >1.000000</td>\n",
       "                        <td id=\"T_e2188ccd_646d_11eb_85a1_f83441a55a81row6_col6\" class=\"data row6 col6\" >2.812500</td>\n",
       "                        <td id=\"T_e2188ccd_646d_11eb_85a1_f83441a55a81row6_col7\" class=\"data row6 col7\" >0.119342</td>\n",
       "                        <td id=\"T_e2188ccd_646d_11eb_85a1_f83441a55a81row6_col8\" class=\"data row6 col8\" >inf</td>\n",
       "                        <td id=\"T_e2188ccd_646d_11eb_85a1_f83441a55a81row6_col9\" class=\"data row6 col9\" >72,223,000</td>\n",
       "                        <td id=\"T_e2188ccd_646d_11eb_85a1_f83441a55a81row6_col10\" class=\"data row6 col10\" >21,933,432</td>\n",
       "                        <td id=\"T_e2188ccd_646d_11eb_85a1_f83441a55a81row6_col11\" class=\"data row6 col11\" >2</td>\n",
       "            </tr>\n",
       "    </tbody></table>"
      ],
      "text/plain": [
       "<pandas.io.formats.style.Styler at 0x28739ea3c70>"
      ]
     },
     "execution_count": 213,
     "metadata": {},
     "output_type": "execute_result"
    }
   ],
   "source": [
    "test1.style.format({\"總數量\": \"{0:,.0f}\", \"總營業額\": \"{0:,.0f}\"}).hide_index().background_gradient(subset=[\"總數量\", \"總營業額\"], cmap=\"BuGn\").set_caption(\"2020年Bourns購物籃分析\")"
   ]
  },
  {
   "cell_type": "code",
   "execution_count": 87,
   "metadata": {},
   "outputs": [],
   "source": [
    "root = tk.Tk()\n",
    "root.withdraw()\n",
    "file_path = filedialog.askdirectory()\n",
    "final_result.to_excel(file_path + \"/teltonika_apriori.xlsx\", index=False)"
   ]
  }
 ],
 "metadata": {
  "kernelspec": {
   "display_name": "Python 3",
   "language": "python",
   "name": "python3"
  },
  "language_info": {
   "codemirror_mode": {
    "name": "ipython",
    "version": 3
   },
   "file_extension": ".py",
   "mimetype": "text/x-python",
   "name": "python",
   "nbconvert_exporter": "python",
   "pygments_lexer": "ipython3",
   "version": "3.8.5"
  }
 },
 "nbformat": 4,
 "nbformat_minor": 4
}
