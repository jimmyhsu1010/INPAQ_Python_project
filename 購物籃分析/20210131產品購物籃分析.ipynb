{
 "cells": [
  {
   "cell_type": "code",
   "execution_count": null,
   "metadata": {},
   "outputs": [],
   "source": [
    "import pandas as pd\n",
    "pd.set_option(\"display.float_format\", lambda x: \"%.2f\" % x)"
   ]
  },
  {
   "cell_type": "code",
   "execution_count": null,
   "metadata": {},
   "outputs": [],
   "source": [
    "import tkinter as tk\n",
    "from tkinter import filedialog"
   ]
  },
  {
   "cell_type": "code",
   "execution_count": null,
   "metadata": {},
   "outputs": [],
   "source": [
    "root = tk.Tk()\n",
    "root.withdraw()\n",
    "file_path = filedialog.askopenfilename()"
   ]
  },
  {
   "cell_type": "code",
   "execution_count": null,
   "metadata": {},
   "outputs": [],
   "source": [
    "df = pd.read_excel(file_path, sheet_name= \"出貨明細\")"
   ]
  },
  {
   "cell_type": "code",
   "execution_count": null,
   "metadata": {},
   "outputs": [],
   "source": [
    "sort_df = df[df[\"預交日期\"] >= \"2020-01-01\"]"
   ]
  },
  {
   "cell_type": "markdown",
   "metadata": {},
   "source": [
    "# 全系列商品+全客戶的購物籃分析"
   ]
  },
  {
   "cell_type": "code",
   "execution_count": null,
   "metadata": {},
   "outputs": [],
   "source": [
    "order_numbers = sort_df[\"銷售單號\"].values.tolist()"
   ]
  },
  {
   "cell_type": "code",
   "execution_count": null,
   "metadata": {},
   "outputs": [],
   "source": [
    "cart_ordered = []\n",
    "for i in order_numbers:\n",
    "    order_list = sort_df[sort_df[\"銷售單號\"] == i][\"品名\"].values\n",
    "    cart_ordered.append(order_list)"
   ]
  },
  {
   "cell_type": "code",
   "execution_count": null,
   "metadata": {},
   "outputs": [],
   "source": [
    "# 整理出所有每筆訂單的購物內容\n",
    "cart_ordered"
   ]
  },
  {
   "cell_type": "code",
   "execution_count": null,
   "metadata": {},
   "outputs": [],
   "source": [
    "from mlxtend.preprocessing import TransactionEncoder"
   ]
  },
  {
   "cell_type": "code",
   "execution_count": null,
   "metadata": {},
   "outputs": [],
   "source": [
    "te = TransactionEncoder()\n",
    "te.ary = te.fit(cart_ordered).transform(cart_ordered)"
   ]
  },
  {
   "cell_type": "code",
   "execution_count": null,
   "metadata": {},
   "outputs": [],
   "source": [
    "te.ary"
   ]
  },
  {
   "cell_type": "code",
   "execution_count": null,
   "metadata": {},
   "outputs": [],
   "source": [
    "te.columns_"
   ]
  },
  {
   "cell_type": "code",
   "execution_count": null,
   "metadata": {},
   "outputs": [],
   "source": [
    "test_frame = pd.DataFrame(te.ary, columns=te.columns_)"
   ]
  },
  {
   "cell_type": "markdown",
   "metadata": {},
   "source": [
    "# 購物籃分析術語解釋\n",
    "1. 支持度（Support）：這個商品組合在所有購買清單中，出現的機率。\n",
    "2. 信賴度（Confidence）：購買A商品後，購買B商品的機率，這也是本篇文章最後要得知的結果。\n",
    "3. 提昇度（Lift）：判斷A商品與B商品的相關程度，若小於1表示負相關，等於1表示完全無相關（完全沒有交集），大於1表示正相關。"
   ]
  },
  {
   "cell_type": "code",
   "execution_count": null,
   "metadata": {},
   "outputs": [],
   "source": [
    "from mlxtend.frequent_patterns import apriori\n",
    "frequent_items = apriori(test_frame, min_support=0.05, use_colnames=True)\n",
    "frequent_items['length'] = frequent_items['itemsets'].apply(lambda x: len(x))\n",
    "# frequent_items = frequent_items[frequent_items[\"length\"] == 2]"
   ]
  },
  {
   "cell_type": "code",
   "execution_count": null,
   "metadata": {},
   "outputs": [],
   "source": [
    "frequent_items"
   ]
  },
  {
   "cell_type": "code",
   "execution_count": null,
   "metadata": {
    "scrolled": true
   },
   "outputs": [],
   "source": [
    "from mlxtend.frequent_patterns import association_rules\n",
    "result = association_rules(frequent_items, metric=\"lift\", min_threshold=1.2)"
   ]
  },
  {
   "cell_type": "code",
   "execution_count": null,
   "metadata": {
    "scrolled": false
   },
   "outputs": [],
   "source": [
    "result.sort_values(\"confidence\", ascending=False)"
   ]
  },
  {
   "cell_type": "markdown",
   "metadata": {},
   "source": [
    "# MT-SYSTEM的購物籃分析"
   ]
  },
  {
   "cell_type": "code",
   "execution_count": null,
   "metadata": {},
   "outputs": [],
   "source": [
    "client_dict = {}\n",
    "for i, j in enumerate(df[\"Group\"].unique().tolist()):\n",
    "    print(i+1, j)\n",
    "    client_dict.setdefault(i+1, j)\n",
    "slct_client = int(input(\"請輸入要分析購物籃的客戶：\"))"
   ]
  },
  {
   "cell_type": "code",
   "execution_count": null,
   "metadata": {},
   "outputs": [],
   "source": [
    "client_filter = client_dict[slct_client]\n",
    "sort_df = df[(df[\"預交日期\"] >= \"2020-01-01\") & (df[\"Group\"] == client_filter)]"
   ]
  },
  {
   "cell_type": "code",
   "execution_count": null,
   "metadata": {},
   "outputs": [],
   "source": [
    "order_numbers = sort_df[\"銷售單號\"].values.tolist()"
   ]
  },
  {
   "cell_type": "code",
   "execution_count": null,
   "metadata": {},
   "outputs": [],
   "source": [
    "cart_list = []\n",
    "for i in order_numbers:\n",
    "    order_list = sort_df[sort_df[\"銷售單號\"] == i][\"品名\"].values\n",
    "    cart_list.append(order_list)"
   ]
  },
  {
   "cell_type": "code",
   "execution_count": null,
   "metadata": {},
   "outputs": [],
   "source": [
    "te = TransactionEncoder()\n",
    "te.ary = te.fit(cart_list).transform(cart_list)"
   ]
  },
  {
   "cell_type": "code",
   "execution_count": null,
   "metadata": {},
   "outputs": [],
   "source": [
    "te.columns_"
   ]
  },
  {
   "cell_type": "code",
   "execution_count": null,
   "metadata": {},
   "outputs": [],
   "source": [
    "test_frame = pd.DataFrame(te.ary, columns=te.columns_)"
   ]
  },
  {
   "cell_type": "code",
   "execution_count": null,
   "metadata": {},
   "outputs": [],
   "source": [
    "frequent_items = apriori(test_frame, min_support=0.15, use_colnames=True)\n",
    "frequent_items[\"length\"] = frequent_items[\"itemsets\"].map(lambda x: len(x))\n",
    "frequent_items"
   ]
  },
  {
   "cell_type": "code",
   "execution_count": null,
   "metadata": {},
   "outputs": [],
   "source": [
    "result = association_rules(frequent_items, metric=\"support\", min_threshold=0.3)\n",
    "result.sort_values(\"confidence\", ascending=False).reset_index(drop=True)"
   ]
  },
  {
   "cell_type": "code",
   "execution_count": null,
   "metadata": {},
   "outputs": [],
   "source": [
    "test1 = pd.DataFrame(result, columns=result.columns)\n",
    "test1[\"antecedents\"] = test1[\"antecedents\"].map(lambda x: list(x))\n",
    "test1[\"consequents\"] = test1[\"consequents\"].map(lambda x: list(x))"
   ]
  },
  {
   "cell_type": "code",
   "execution_count": null,
   "metadata": {},
   "outputs": [],
   "source": [
    "x = sort_df.groupby([\"品名\"])[[\"數量\", \"本國幣別NTD\"]].sum().reset_index()"
   ]
  },
  {
   "cell_type": "code",
   "execution_count": null,
   "metadata": {
    "scrolled": true
   },
   "outputs": [],
   "source": [
    "total_volume = []\n",
    "total_volume_consequents = []\n",
    "total_revenue = []\n",
    "total_revenue_consequents = []\n",
    "for i in test1[\"antecedents\"]:\n",
    "    product_sum = 0\n",
    "    for j in i:\n",
    "#         print(j)\n",
    "        volume = x[x[\"品名\"] == j][\"數量\"].sum()\n",
    "#         print(volume)\n",
    "        product_sum += volume\n",
    "    total_volume.append(product_sum)\n",
    "\n",
    "for i in test1[\"antecedents\"]:\n",
    "    product_sum = 0\n",
    "    for j in i:\n",
    "#         print(j)\n",
    "        volume = x[x[\"品名\"] == j][\"本國幣別NTD\"].sum()\n",
    "#         print(volume)\n",
    "        product_sum += volume\n",
    "    total_revenue.append(product_sum)\n",
    "\n",
    "for i in test1[\"consequents\"]:\n",
    "    product_sum = 0\n",
    "    for j in i:\n",
    "#         print(j)\n",
    "        volume = x[x[\"品名\"] == j][\"數量\"].sum()\n",
    "#         print(volume)\n",
    "        product_sum += volume\n",
    "    total_volume_consequents.append(product_sum)\n",
    "\n",
    "for i in test1[\"consequents\"]:\n",
    "    product_sum = 0\n",
    "    for j in i:\n",
    "#         print(j)\n",
    "        volume = x[x[\"品名\"] == j][\"本國幣別NTD\"].sum()\n",
    "#         print(volume)\n",
    "        product_sum += volume\n",
    "    total_revenue_consequents.append(product_sum)\n",
    "    \n"
   ]
  },
  {
   "cell_type": "code",
   "execution_count": null,
   "metadata": {
    "scrolled": true
   },
   "outputs": [],
   "source": [
    "test1[\"總數量\"] = [i + j for i, j in zip(total_volume, total_volume_consequents)]"
   ]
  },
  {
   "cell_type": "code",
   "execution_count": null,
   "metadata": {},
   "outputs": [],
   "source": [
    "test1[\"總營業額\"] = [k + y for k, y in zip(total_revenue, total_revenue_consequents)]"
   ]
  },
  {
   "cell_type": "code",
   "execution_count": null,
   "metadata": {
    "scrolled": false
   },
   "outputs": [],
   "source": [
    "test1"
   ]
  },
  {
   "cell_type": "code",
   "execution_count": null,
   "metadata": {},
   "outputs": [],
   "source": []
  }
 ],
 "metadata": {
  "kernelspec": {
   "display_name": "Python 3",
   "language": "python",
   "name": "python3"
  },
  "language_info": {
   "codemirror_mode": {
    "name": "ipython",
    "version": 3
   },
   "file_extension": ".py",
   "mimetype": "text/x-python",
   "name": "python",
   "nbconvert_exporter": "python",
   "pygments_lexer": "ipython3",
   "version": "3.8.3"
  }
 },
 "nbformat": 4,
 "nbformat_minor": 4
}
